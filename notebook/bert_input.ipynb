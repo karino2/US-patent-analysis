{
 "cells": [
  {
   "cell_type": "markdown",
   "metadata": {},
   "source": [
    "# BERT input modify work\n",
    "\n",
    "Derived from bert_classifiction.ipynb.\n",
    "\n",
    "Modify to use model trained by colab."
   ]
  },
  {
   "cell_type": "code",
   "execution_count": 1,
   "metadata": {},
   "outputs": [
    {
     "name": "stdout",
     "output_type": "stream",
     "text": [
      "Cloning into 'bert'...\n",
      "remote: Enumerating objects: 269, done.\u001b[K\n",
      "remote: Total 269 (delta 0), reused 0 (delta 0), pack-reused 269\u001b[K\n",
      "Receiving objects: 100% (269/269), 170.15 KiB | 0 bytes/s, done.\n",
      "Resolving deltas: 100% (155/155), done.\n",
      "Checking connectivity... done.\n"
     ]
    }
   ],
   "source": [
    "!git clone -b docker https://github.com/karino2/bert.git"
   ]
  },
  {
   "cell_type": "code",
   "execution_count": 2,
   "metadata": {},
   "outputs": [
    {
     "name": "stdout",
     "output_type": "stream",
     "text": [
      "CONTRIBUTING.md\t\t    modeling.py\t\t  run_pretraining.py\r\n",
      "Dockerfile\t\t    modeling_test.py\t  run_squad.py\r\n",
      "LICENSE\t\t\t    multilingual.md\t  sample_text.txt\r\n",
      "README.md\t\t    optimization.py\t  tokenization.py\r\n",
      "__init__.py\t\t    optimization_test.py  tokenization_test.py\r\n",
      "create_pretraining_data.py  requirements.txt\t  utils\r\n",
      "extract_features.py\t    run_classifier.py\r\n"
     ]
    }
   ],
   "source": [
    "!ls bert/"
   ]
  },
  {
   "cell_type": "code",
   "execution_count": 1,
   "metadata": {},
   "outputs": [
    {
     "name": "stdout",
     "output_type": "stream",
     "text": [
      "Collecting tensorflow>=1.11.0 (from -r ./bert/requirements.txt (line 1))\n",
      "  Downloading https://files.pythonhosted.org/packages/b1/ad/48395de38c1e07bab85fc3bbec045e11ae49c02a4db0100463dd96031947/tensorflow-1.12.0-cp35-cp35m-manylinux1_x86_64.whl (83.1MB)\n",
      "\u001b[K    100% |################################| 83.1MB 15kB/s  eta 0:00:01  6% |##                              | 5.6MB 43.9MB/s eta 0:00:02    30% |#########                       | 25.6MB 44.7MB/s eta 0:00:02    57% |##################              | 47.6MB 49.0MB/s eta 0:00:01    60% |###################             | 49.9MB 46.2MB/s eta 0:00:01    74% |#######################         | 62.2MB 30.5MB/s eta 0:00:01    76% |########################        | 63.7MB 34.3MB/s eta 0:00:01\n",
      "\u001b[?25hCollecting grpcio>=1.8.6 (from tensorflow>=1.11.0->-r ./bert/requirements.txt (line 1))\n",
      "  Downloading https://files.pythonhosted.org/packages/d9/94/7c634ccc859169ceebca7140532b5267a0b0ed5583e1e624663997786895/grpcio-1.17.1-cp35-cp35m-manylinux1_x86_64.whl (10.1MB)\n",
      "\u001b[K    100% |################################| 10.1MB 134kB/s eta 0:00:01   11% |###                             | 1.1MB 55.8MB/s eta 0:00:01    84% |##########################      | 8.5MB 50.7MB/s eta 0:00:01\n",
      "\u001b[?25hCollecting gast>=0.2.0 (from tensorflow>=1.11.0->-r ./bert/requirements.txt (line 1))\n",
      "  Downloading https://files.pythonhosted.org/packages/5c/78/ff794fcae2ce8aa6323e789d1f8b3b7765f601e7702726f430e814822b96/gast-0.2.0.tar.gz\n",
      "Collecting keras-preprocessing>=1.0.5 (from tensorflow>=1.11.0->-r ./bert/requirements.txt (line 1))\n",
      "  Downloading https://files.pythonhosted.org/packages/fc/94/74e0fa783d3fc07e41715973435dd051ca89c550881b3454233c39c73e69/Keras_Preprocessing-1.0.5-py2.py3-none-any.whl\n",
      "Collecting tensorboard<1.13.0,>=1.12.0 (from tensorflow>=1.11.0->-r ./bert/requirements.txt (line 1))\n",
      "  Downloading https://files.pythonhosted.org/packages/bd/7e/528c868bb8a0542c8a5686ff3a08502d2691bd50499c6e55f8989fa8e5a0/tensorboard-1.12.1-py3-none-any.whl (3.0MB)\n",
      "\u001b[K    100% |################################| 3.1MB 449kB/s eta 0:00:01\n",
      "\u001b[?25hCollecting termcolor>=1.1.0 (from tensorflow>=1.11.0->-r ./bert/requirements.txt (line 1))\n",
      "  Downloading https://files.pythonhosted.org/packages/8a/48/a76be51647d0eb9f10e2a4511bf3ffb8cc1e6b14e9e4fab46173aa79f981/termcolor-1.1.0.tar.gz\n",
      "Collecting six>=1.10.0 (from tensorflow>=1.11.0->-r ./bert/requirements.txt (line 1))\n",
      "  Downloading https://files.pythonhosted.org/packages/73/fb/00a976f728d0d1fecfe898238ce23f502a721c0ac0ecfedb80e0d88c64e9/six-1.12.0-py2.py3-none-any.whl\n",
      "Collecting absl-py>=0.1.6 (from tensorflow>=1.11.0->-r ./bert/requirements.txt (line 1))\n",
      "  Downloading https://files.pythonhosted.org/packages/0c/63/f505d2d4c21db849cf80bad517f0065a30be6b006b0a5637f1b95584a305/absl-py-0.6.1.tar.gz (94kB)\n",
      "\u001b[K    100% |################################| 102kB 11.1MB/s a 0:00:01\n",
      "\u001b[?25hCollecting keras-applications>=1.0.6 (from tensorflow>=1.11.0->-r ./bert/requirements.txt (line 1))\n",
      "  Downloading https://files.pythonhosted.org/packages/3f/c4/2ff40221029f7098d58f8d7fb99b97e8100f3293f9856f0fb5834bef100b/Keras_Applications-1.0.6-py2.py3-none-any.whl (44kB)\n",
      "\u001b[K    100% |################################| 51kB 9.8MB/s eta 0:00:01\n",
      "\u001b[?25hCollecting wheel>=0.26 (from tensorflow>=1.11.0->-r ./bert/requirements.txt (line 1))\n",
      "  Downloading https://files.pythonhosted.org/packages/ff/47/1dfa4795e24fd6f93d5d58602dd716c3f101cfd5a77cd9acbe519b44a0a9/wheel-0.32.3-py2.py3-none-any.whl\n",
      "Collecting astor>=0.6.0 (from tensorflow>=1.11.0->-r ./bert/requirements.txt (line 1))\n",
      "  Downloading https://files.pythonhosted.org/packages/35/6b/11530768cac581a12952a2aad00e1526b89d242d0b9f59534ef6e6a1752f/astor-0.7.1-py2.py3-none-any.whl\n",
      "Collecting numpy>=1.13.3 (from tensorflow>=1.11.0->-r ./bert/requirements.txt (line 1))\n",
      "  Downloading https://files.pythonhosted.org/packages/86/04/bd774106ae0ae1ada68c67efe89f1a16b2aa373cc2db15d974002a9f136d/numpy-1.15.4-cp35-cp35m-manylinux1_x86_64.whl (13.8MB)\n",
      "\u001b[K    100% |################################| 13.8MB 101kB/s eta 0:00:01   11% |###                             | 1.6MB 22.1MB/s eta 0:00:01\n",
      "\u001b[?25hCollecting protobuf>=3.6.1 (from tensorflow>=1.11.0->-r ./bert/requirements.txt (line 1))\n",
      "  Downloading https://files.pythonhosted.org/packages/bf/d4/db7296a1407cad69f043537ba1e05afab3646451a066ead7a314d8714388/protobuf-3.6.1-cp35-cp35m-manylinux1_x86_64.whl (1.1MB)\n",
      "\u001b[K    100% |################################| 1.1MB 1.2MB/s eta 0:00:01\n",
      "\u001b[?25hCollecting markdown>=2.6.8 (from tensorboard<1.13.0,>=1.12.0->tensorflow>=1.11.0->-r ./bert/requirements.txt (line 1))\n",
      "  Downloading https://files.pythonhosted.org/packages/7a/6b/5600647404ba15545ec37d2f7f58844d690baf2f81f3a60b862e48f29287/Markdown-3.0.1-py2.py3-none-any.whl (89kB)\n",
      "\u001b[K    100% |################################| 92kB 9.3MB/s eta 0:00:01\n",
      "\u001b[?25hCollecting werkzeug>=0.11.10 (from tensorboard<1.13.0,>=1.12.0->tensorflow>=1.11.0->-r ./bert/requirements.txt (line 1))\n",
      "  Downloading https://files.pythonhosted.org/packages/20/c4/12e3e56473e52375aa29c4764e70d1b8f3efa6682bef8d0aae04fe335243/Werkzeug-0.14.1-py2.py3-none-any.whl (322kB)\n",
      "\u001b[K    100% |################################| 327kB 4.2MB/s eta 0:00:01\n",
      "\u001b[?25hCollecting h5py (from keras-applications>=1.0.6->tensorflow>=1.11.0->-r ./bert/requirements.txt (line 1))\n",
      "  Downloading https://files.pythonhosted.org/packages/d9/0a/f0dd6d533d6b5bd4c1ca186af2792186885a90b84df41f3e6867466761fc/h5py-2.8.0-cp35-cp35m-manylinux1_x86_64.whl (2.8MB)\n",
      "\u001b[K    100% |################################| 2.8MB 500kB/s eta 0:00:01\n",
      "\u001b[?25hCollecting setuptools (from protobuf>=3.6.1->tensorflow>=1.11.0->-r ./bert/requirements.txt (line 1))\n",
      "  Downloading https://files.pythonhosted.org/packages/37/06/754589caf971b0d2d48f151c2586f62902d93dc908e2fd9b9b9f6aa3c9dd/setuptools-40.6.3-py2.py3-none-any.whl (573kB)\n",
      "\u001b[K    100% |################################| 573kB 2.1MB/s eta 0:00:01\n",
      "\u001b[?25hBuilding wheels for collected packages: gast, termcolor, absl-py\n",
      "  Running setup.py bdist_wheel for gast ... \u001b[?25ldone\n",
      "\u001b[?25h  Stored in directory: /home/docker/.cache/pip/wheels/9a/1f/0e/3cde98113222b853e98fc0a8e9924480a3e25f1b4008cedb4f\n",
      "  Running setup.py bdist_wheel for termcolor ... \u001b[?25ldone\n",
      "\u001b[?25h  Stored in directory: /home/docker/.cache/pip/wheels/7c/06/54/bc84598ba1daf8f970247f550b175aaaee85f68b4b0c5ab2c6\n",
      "  Running setup.py bdist_wheel for absl-py ... \u001b[?25ldone\n",
      "\u001b[?25h  Stored in directory: /home/docker/.cache/pip/wheels/18/ea/5e/e36e1b8739e78cd2eba0a08fdc602c2b16a4b263912af8cb64\n",
      "Successfully built gast termcolor absl-py\n",
      "Installing collected packages: six, grpcio, gast, numpy, keras-preprocessing, markdown, werkzeug, setuptools, protobuf, wheel, tensorboard, termcolor, absl-py, h5py, keras-applications, astor, tensorflow\n",
      "Successfully installed absl-py-0.5.0 astor-0.7.1 gast-0.2.0 grpcio-1.15.0 h5py-2.8.0 keras-applications-1.0.4 keras-preprocessing-1.0.2 markdown-3.0 numpy-1.14.5 protobuf-3.6.1 setuptools-20.7.0 six-1.11.0 tensorboard-1.10.0 tensorflow-1.10.1 termcolor-1.1.0 werkzeug-0.14.1 wheel-0.29.0\n",
      "\u001b[33mYou are using pip version 8.1.1, however version 18.1 is available.\n",
      "You should consider upgrading via the 'pip install --upgrade pip' command.\u001b[0m\n"
     ]
    }
   ],
   "source": [
    "!pip3 install -r ./bert/requirements.txt"
   ]
  },
  {
   "cell_type": "markdown",
   "metadata": {},
   "source": [
    "### Model and data download\n",
    "\n",
    "We solve RTE task in GLUE datasets; see https://www.nyu.edu/projects/bowman/glue.pdf in detail."
   ]
  },
  {
   "cell_type": "code",
   "execution_count": 1,
   "metadata": {},
   "outputs": [],
   "source": [
    "import os"
   ]
  },
  {
   "cell_type": "code",
   "execution_count": 5,
   "metadata": {},
   "outputs": [],
   "source": [
    "os.makedirs(\"./bert/model\", exist_ok=True)\n",
    "os.makedirs(\"./bert/data\", exist_ok=True)"
   ]
  },
  {
   "cell_type": "code",
   "execution_count": 6,
   "metadata": {},
   "outputs": [
    {
     "name": "stdout",
     "output_type": "stream",
     "text": [
      "/bin/sh: 1: gsutil: not found\r\n"
     ]
    }
   ],
   "source": [
    "# run this from command line.\n",
    "\n",
    "!gsutil cp -r gs://yohei-kikuta/mlstudy-phys/bert/data/1000 ./bert/data/"
   ]
  },
  {
   "cell_type": "code",
   "execution_count": 19,
   "metadata": {},
   "outputs": [
    {
     "name": "stdout",
     "output_type": "stream",
     "text": [
      "/bin/sh: 1: gsutil: not found\r\n"
     ]
    }
   ],
   "source": [
    "# Run this outside of container.\n",
    "# need vocab, etc...(may be enough just copy those files, but just copy everthing)\n",
    "\n",
    "!gsutil cp gs://yohei-kikuta/mlstudy-phys/bert/models/pre-trained-models/uncased_L-12_H-768_A-12/vocab.txt ./bert/model/patent/vocab.txt\n",
    "!gsutil cp gs://yohei-kikuta/mlstudy-phys/bert/models/pre-trained-models/uncased_L-12_H-768_A-12/bert_config.json ./bert/model/bert_config.json"
   ]
  },
  {
   "cell_type": "code",
   "execution_count": null,
   "metadata": {},
   "outputs": [],
   "source": [
    "! gsutil cp -r gs://karino2-uspatent/mlstudy-phys/bert/models/patent_1000/model.ckpt-1602* ./bert/model/patent_1000"
   ]
  },
  {
   "cell_type": "code",
   "execution_count": null,
   "metadata": {},
   "outputs": [],
   "source": []
  },
  {
   "cell_type": "code",
   "execution_count": null,
   "metadata": {},
   "outputs": [],
   "source": []
  },
  {
   "cell_type": "code",
   "execution_count": 30,
   "metadata": {},
   "outputs": [],
   "source": [
    "### try for head 100 data only\n",
    "# head -n 100 1000/dev.tsv > 100/dev.tsv"
   ]
  },
  {
   "cell_type": "code",
   "execution_count": null,
   "metadata": {},
   "outputs": [],
   "source": []
  },
  {
   "cell_type": "code",
   "execution_count": null,
   "metadata": {},
   "outputs": [],
   "source": []
  },
  {
   "cell_type": "code",
   "execution_count": null,
   "metadata": {},
   "outputs": [],
   "source": []
  },
  {
   "cell_type": "markdown",
   "metadata": {},
   "source": [
    "### Load dataset"
   ]
  },
  {
   "cell_type": "code",
   "execution_count": 1,
   "metadata": {},
   "outputs": [],
   "source": [
    "import pandas as pd\n",
    "import numpy as np"
   ]
  },
  {
   "cell_type": "code",
   "execution_count": 2,
   "metadata": {},
   "outputs": [],
   "source": [
    "train_data = pd.read_csv(\"./bert/data/1000/train.tsv\", sep=\"\\t\")\n",
    "test_data = pd.read_csv(\"./bert/data/1000/dev.tsv\", sep=\"\\t\")"
   ]
  },
  {
   "cell_type": "code",
   "execution_count": null,
   "metadata": {},
   "outputs": [],
   "source": []
  },
  {
   "cell_type": "code",
   "execution_count": 3,
   "metadata": {},
   "outputs": [
    {
     "data": {
      "text/html": [
       "<div>\n",
       "<style scoped>\n",
       "    .dataframe tbody tr th:only-of-type {\n",
       "        vertical-align: middle;\n",
       "    }\n",
       "\n",
       "    .dataframe tbody tr th {\n",
       "        vertical-align: top;\n",
       "    }\n",
       "\n",
       "    .dataframe thead th {\n",
       "        text-align: right;\n",
       "    }\n",
       "</style>\n",
       "<table border=\"1\" class=\"dataframe\">\n",
       "  <thead>\n",
       "    <tr style=\"text-align: right;\">\n",
       "      <th></th>\n",
       "      <th>index</th>\n",
       "      <th>claim_app</th>\n",
       "      <th>claim_cited_grant</th>\n",
       "      <th>label</th>\n",
       "    </tr>\n",
       "  </thead>\n",
       "  <tbody>\n",
       "    <tr>\n",
       "      <th>0</th>\n",
       "      <td>0</td>\n",
       "      <td>1 . A rotational angle detection device for a ...</td>\n",
       "      <td>1. A tangible computer-readable medium having ...</td>\n",
       "      <td>not_entailment</td>\n",
       "    </tr>\n",
       "    <tr>\n",
       "      <th>1</th>\n",
       "      <td>1</td>\n",
       "      <td>1 . A method comprising:sensing electrocardiog...</td>\n",
       "      <td>1. A medical system, comprising:an implantable...</td>\n",
       "      <td>entailment</td>\n",
       "    </tr>\n",
       "    <tr>\n",
       "      <th>2</th>\n",
       "      <td>2</td>\n",
       "      <td>1 . A system for controlling temperature insid...</td>\n",
       "      <td>1. An integrated differential receiver for an ...</td>\n",
       "      <td>not_entailment</td>\n",
       "    </tr>\n",
       "    <tr>\n",
       "      <th>3</th>\n",
       "      <td>3</td>\n",
       "      <td>1 . A recording apparatus for recording update...</td>\n",
       "      <td>1. A method for indicating a priority of a Voi...</td>\n",
       "      <td>not_entailment</td>\n",
       "    </tr>\n",
       "    <tr>\n",
       "      <th>4</th>\n",
       "      <td>4</td>\n",
       "      <td>1 . Apparatus for moving a material within an ...</td>\n",
       "      <td>1. A wellbore packer having an expandable pack...</td>\n",
       "      <td>entailment</td>\n",
       "    </tr>\n",
       "  </tbody>\n",
       "</table>\n",
       "</div>"
      ],
      "text/plain": [
       "   index                                          claim_app  \\\n",
       "0      0  1 . A rotational angle detection device for a ...   \n",
       "1      1  1 . A method comprising:sensing electrocardiog...   \n",
       "2      2  1 . A system for controlling temperature insid...   \n",
       "3      3  1 . A recording apparatus for recording update...   \n",
       "4      4  1 . Apparatus for moving a material within an ...   \n",
       "\n",
       "                                   claim_cited_grant           label  \n",
       "0  1. A tangible computer-readable medium having ...  not_entailment  \n",
       "1  1. A medical system, comprising:an implantable...      entailment  \n",
       "2  1. An integrated differential receiver for an ...  not_entailment  \n",
       "3  1. A method for indicating a priority of a Voi...  not_entailment  \n",
       "4  1. A wellbore packer having an expandable pack...      entailment  "
      ]
     },
     "execution_count": 3,
     "metadata": {},
     "output_type": "execute_result"
    }
   ],
   "source": [
    "test_data.head()"
   ]
  },
  {
   "cell_type": "code",
   "execution_count": null,
   "metadata": {},
   "outputs": [],
   "source": []
  },
  {
   "cell_type": "code",
   "execution_count": null,
   "metadata": {},
   "outputs": [],
   "source": []
  },
  {
   "cell_type": "markdown",
   "metadata": {},
   "source": [
    "## Inference using a trained BERT model."
   ]
  },
  {
   "cell_type": "code",
   "execution_count": 4,
   "metadata": {},
   "outputs": [],
   "source": [
    "import sys\n",
    "sys.path.append(\"./bert\")"
   ]
  },
  {
   "cell_type": "code",
   "execution_count": 5,
   "metadata": {},
   "outputs": [],
   "source": [
    "import tensorflow as tf"
   ]
  },
  {
   "cell_type": "code",
   "execution_count": 6,
   "metadata": {},
   "outputs": [],
   "source": [
    "# TPUEstimator do not support eager execution!\n",
    "# tf.enable_eager_execution()"
   ]
  },
  {
   "cell_type": "code",
   "execution_count": 7,
   "metadata": {},
   "outputs": [],
   "source": [
    "import os\n",
    "\n",
    "import modeling\n",
    "import optimization\n",
    "import tokenization\n",
    "\n",
    "from run_classifier import RteProcessor\n",
    "from run_classifier import model_fn_builder\n",
    "from run_classifier import file_based_input_fn_builder\n",
    "from run_classifier import file_based_convert_examples_to_features"
   ]
  },
  {
   "cell_type": "code",
   "execution_count": null,
   "metadata": {},
   "outputs": [],
   "source": []
  },
  {
   "cell_type": "markdown",
   "metadata": {},
   "source": [
    "### Predict all test data from the test.tsv"
   ]
  },
  {
   "cell_type": "code",
   "execution_count": 8,
   "metadata": {},
   "outputs": [],
   "source": [
    "bert_config = modeling.BertConfig.from_json_file(\"./bert/model/patent/bert_config.json\")"
   ]
  },
  {
   "cell_type": "code",
   "execution_count": 9,
   "metadata": {},
   "outputs": [],
   "source": [
    "class FLAGS(object):\n",
    "    '''Parameters.'''\n",
    "    def __init__(self):\n",
    "        self.vocab_file = \"./bert/model/patent/vocab.txt\"\n",
    "        self.do_lower_case = True\n",
    "        self.use_tpu = False\n",
    "        self.output_dir = \"./bert/data/bert-training-results/patent_1000\"\n",
    "        self.data_dir = \"./bert/data/100\"\n",
    "        self.max_seq_length = 512\n",
    "        self.init_checkpoint = \"./bert/model/patent_1000/model.ckpt-1602\"\n",
    "        self.predict_batch_size = 16\n",
    "        \n",
    "        # The following parameters are not used in predictions.\n",
    "        # Just use to create RunConfig.\n",
    "        self.master = None\n",
    "        self.save_checkpoints_steps = 1\n",
    "        self.iterations_per_loop = 1\n",
    "        self.num_tpu_cores = 1\n",
    "        self.learning_rate = 0\n",
    "        self.num_warmup_steps = 0\n",
    "        self.num_train_steps = 0\n",
    "        self.train_batch_size = 0\n",
    "        self.eval_batch_size = 0"
   ]
  },
  {
   "cell_type": "code",
   "execution_count": 10,
   "metadata": {},
   "outputs": [],
   "source": [
    "FLAGS = FLAGS()"
   ]
  },
  {
   "cell_type": "code",
   "execution_count": null,
   "metadata": {},
   "outputs": [],
   "source": []
  },
  {
   "cell_type": "code",
   "execution_count": null,
   "metadata": {},
   "outputs": [],
   "source": []
  },
  {
   "cell_type": "code",
   "execution_count": null,
   "metadata": {},
   "outputs": [],
   "source": []
  },
  {
   "cell_type": "code",
   "execution_count": 11,
   "metadata": {},
   "outputs": [],
   "source": [
    "tokenizer = tokenization.FullTokenizer(\n",
    "    vocab_file=FLAGS.vocab_file, do_lower_case=FLAGS.do_lower_case)\n",
    "\n",
    "tpu_cluster_resolver = None\n",
    "\n",
    "is_per_host = tf.contrib.tpu.InputPipelineConfig.PER_HOST_V2\n",
    "\n",
    "run_config = tf.contrib.tpu.RunConfig(\n",
    "    cluster=tpu_cluster_resolver,\n",
    "    master=FLAGS.master,\n",
    "    model_dir=FLAGS.output_dir,\n",
    "    save_checkpoints_steps=FLAGS.save_checkpoints_steps,\n",
    "    tpu_config=tf.contrib.tpu.TPUConfig(\n",
    "        iterations_per_loop=FLAGS.iterations_per_loop,\n",
    "        num_shards=FLAGS.num_tpu_cores,\n",
    "        per_host_input_for_training=is_per_host))"
   ]
  },
  {
   "cell_type": "code",
   "execution_count": null,
   "metadata": {},
   "outputs": [],
   "source": []
  },
  {
   "cell_type": "code",
   "execution_count": 12,
   "metadata": {},
   "outputs": [
    {
     "name": "stdout",
     "output_type": "stream",
     "text": [
      "WARNING:tensorflow:Estimator's model_fn (<function model_fn_builder.<locals>.model_fn at 0x7fede8be2b70>) includes params argument, but params are not passed to Estimator.\n",
      "INFO:tensorflow:Using config: {'_train_distribute': None, '_num_ps_replicas': 0, '_keep_checkpoint_every_n_hours': 10000, '_cluster': None, '_tf_random_seed': None, '_service': None, '_session_config': allow_soft_placement: true\n",
      "graph_options {\n",
      "  rewrite_options {\n",
      "    meta_optimizer_iterations: ONE\n",
      "  }\n",
      "}\n",
      ", '_evaluation_master': '', '_is_chief': True, '_tpu_config': TPUConfig(iterations_per_loop=1, num_shards=1, num_cores_per_replica=None, per_host_input_for_training=3, tpu_job_name=None, initial_infeed_sleep_secs=None, input_partition_dims=None), '_save_summary_steps': 100, '_num_worker_replicas': 1, '_global_id_in_cluster': 0, '_model_dir': './bert/data/bert-training-results/patent_1000', '_master': '', '_save_checkpoints_steps': 1, '_experimental_distribute': None, '_protocol': None, '_keep_checkpoint_max': 5, '_task_type': 'worker', '_task_id': 0, '_cluster_spec': <tensorflow.python.training.server_lib.ClusterSpec object at 0x7fede8be1898>, '_log_step_count_steps': None, '_device_fn': None, '_eval_distribute': None, '_save_checkpoints_secs': None}\n",
      "WARNING:tensorflow:Setting TPUConfig.num_shards==1 is an unsupported behavior. Please fix as soon as possible (leaving num_shards as None.)\n",
      "INFO:tensorflow:_TPUContext: eval_on_tpu True\n",
      "WARNING:tensorflow:eval_on_tpu ignored because use_tpu is False.\n"
     ]
    }
   ],
   "source": [
    "model_fn = model_fn_builder(\n",
    "    bert_config=bert_config,\n",
    "    num_labels=len([\"not_entailment\", \"entailment\"]),\n",
    "    init_checkpoint=FLAGS.init_checkpoint,\n",
    "    learning_rate=FLAGS.learning_rate,\n",
    "    num_train_steps=FLAGS.num_train_steps,\n",
    "    num_warmup_steps=FLAGS.num_warmup_steps,\n",
    "    use_tpu=FLAGS.use_tpu,\n",
    "    use_one_hot_embeddings=FLAGS.use_tpu)\n",
    "\n",
    "\n",
    "estimator = tf.contrib.tpu.TPUEstimator(\n",
    "    use_tpu=FLAGS.use_tpu,\n",
    "    model_fn=model_fn,\n",
    "    config=run_config,\n",
    "    train_batch_size=FLAGS.train_batch_size,\n",
    "    eval_batch_size=FLAGS.eval_batch_size,\n",
    "    predict_batch_size=FLAGS.predict_batch_size)"
   ]
  },
  {
   "cell_type": "code",
   "execution_count": null,
   "metadata": {},
   "outputs": [],
   "source": []
  },
  {
   "cell_type": "code",
   "execution_count": null,
   "metadata": {},
   "outputs": [],
   "source": []
  },
  {
   "cell_type": "code",
   "execution_count": 13,
   "metadata": {},
   "outputs": [],
   "source": [
    "import collections"
   ]
  },
  {
   "cell_type": "code",
   "execution_count": 14,
   "metadata": {},
   "outputs": [],
   "source": [
    "from run_classifier import convert_single_example\n",
    "from run_classifier import InputExample\n",
    "from run_classifier import file_based_input_fn_builder"
   ]
  },
  {
   "cell_type": "code",
   "execution_count": 15,
   "metadata": {},
   "outputs": [],
   "source": [
    "label = test_data['label']"
   ]
  },
  {
   "cell_type": "code",
   "execution_count": null,
   "metadata": {},
   "outputs": [],
   "source": []
  },
  {
   "cell_type": "code",
   "execution_count": 16,
   "metadata": {},
   "outputs": [],
   "source": [
    "MAX_SEQ_LEN = 512"
   ]
  },
  {
   "cell_type": "code",
   "execution_count": 17,
   "metadata": {},
   "outputs": [],
   "source": [
    "def row_to_feature(i, row, max_seq_len=MAX_SEQ_LEN):\n",
    "    if 'label' in row.index:\n",
    "        example = InputExample(\n",
    "            guid = row['index'],\n",
    "            text_a = row['claim_app'],\n",
    "            text_b = row['claim_cited_grant'],\n",
    "            label = row['label']\n",
    "            )\n",
    "    else :\n",
    "        example = InputExample(\n",
    "            guid = row['index'],\n",
    "            text_a = row['claim_app'],\n",
    "            text_b = row['claim_cited_grant'],\n",
    "            )\n",
    "    \n",
    "    return convert_single_example(\n",
    "        ex_index=i, \n",
    "        example=example,\n",
    "        label_list=[\"not_entailment\", \"entailment\"],\n",
    "        max_seq_length=max_seq_len,\n",
    "        tokenizer=tokenizer)"
   ]
  },
  {
   "cell_type": "code",
   "execution_count": null,
   "metadata": {},
   "outputs": [],
   "source": []
  },
  {
   "cell_type": "code",
   "execution_count": 19,
   "metadata": {},
   "outputs": [],
   "source": [
    "def feature_list_to_feature_dict(flist):\n",
    "    dic = {}\n",
    "    dic['input_ids'] = [feature.input_ids for feature in flist]\n",
    "    dic[\"input_mask\"] = [feature.input_mask for feature in flist]\n",
    "    dic[\"segment_ids\"] = [feature.segment_ids for feature in flist]\n",
    "    dic[\"label_ids\"] = [[feature.label_id] for feature in flist]\n",
    "    return dic"
   ]
  },
  {
   "cell_type": "code",
   "execution_count": 43,
   "metadata": {},
   "outputs": [],
   "source": [
    "def df_to_fdicts(df):\n",
    "    features = [row_to_feature(i, row) for i, row in  df.iterrows()]\n",
    "    return feature_list_to_feature_dict(features)"
   ]
  },
  {
   "cell_type": "code",
   "execution_count": null,
   "metadata": {},
   "outputs": [],
   "source": []
  },
  {
   "cell_type": "markdown",
   "metadata": {},
   "source": [
    "### The cell below takes a few minutes."
   ]
  },
  {
   "cell_type": "code",
   "execution_count": 44,
   "metadata": {},
   "outputs": [
    {
     "name": "stdout",
     "output_type": "stream",
     "text": [
      "INFO:tensorflow:*** Example ***\n",
      "INFO:tensorflow:guid: 0\n",
      "INFO:tensorflow:tokens: [CLS] 1 . a rotational angle detection device for a permanent magnet dynamo - electric machine comprising : a stat ##or that includes arm ##at ##ure winding ; a rotor that includes a rotor core and a plurality of permanent magnet ##s ; and a conduct ##ive circuit that includes first conductors extending in an axial direction of the rotor and being disposed in at least two places in a ci ##rc ##um ##fer ##ential direction of the rotor , and second conductors for electrically inter ##con ##ne ##cting the first conductors , wherein , the first conductors are each disposed within one of a range of an electrical angle between & # x ##22 ##12 ; 45 & # x ##b ##0 ; and + 45 & # x ##b ##0 ; in the ci ##rc ##um ##fer ##ential direction with a magnetic pole center of each of the plurality of permanent magnet ##s being set as a reference and a range of an electrical angle between & # x ##22 ##12 ; 45 & # x ##b ##0 ; and + 45 & # x ##b ##0 ; with a position apart from the magnetic pole center by an electrical angle of 90 & # x ##b ##0 ; being set as a reference , the conduct ##ive circuit being disposed in at least one place in the ci ##rc ##um ##fer ##ential direction , the rotational angle detection device further comprising a detection means for detecting a rotational angle of the rotor by [SEP] 1 . a tangible computer - read ##able medium having stored there ##on computer - ex ##ec ##utable instructions for implementing a custom ##iza ##ble visual user interface on a screen display of a tel ##ep ##hony device comprising : an application program for providing services to a user on the tel ##ep ##hony device ; a shell program that expose ##s an application programming interface for custom ##izing the custom ##iza ##ble visual user interface ; a message center operative ##ly connected to the shell program for providing access to a user message ; and a tel ##ep ##hony module for managing tel ##ep ##hony functions , wherein the application programming interface exposed by the shell program comprises one or more methods , the application programming interface receiving input from an application , and wherein execution of the one or more methods of the application programming interface is responsive to the input from the application for custom ##izing the custom ##iza ##ble visual user interface , wherein the tel ##ep ##hony module includes an operator agent for determining a media mode of an incoming call . 2 . the computer - read ##able medium of claim 1 wherein the operator agent further hands the incoming call to the message transport based on the media mode . 3 . the computer - read ##able medium of claim 2 wherein the operator agent is implemented as a protected service library ( ps ##l ) . 4 . the computer - read ##able medium of claim [SEP]\n",
      "INFO:tensorflow:input_ids: 101 1015 1012 1037 25254 6466 10788 5080 2005 1037 4568 16853 17205 1011 3751 3698 9605 1024 1037 28093 2953 2008 2950 2849 4017 5397 12788 1025 1037 18929 2008 2950 1037 18929 4563 1998 1037 29018 1997 4568 16853 2015 1025 1998 1037 6204 3512 4984 2008 2950 2034 23396 8402 1999 2019 26819 3257 1997 1996 18929 1998 2108 21866 1999 2012 2560 2048 3182 1999 1037 25022 11890 2819 7512 24271 3257 1997 1996 18929 1010 1998 2117 23396 2005 29103 6970 8663 2638 11873 1996 2034 23396 1010 16726 1010 1996 2034 23396 2024 2169 21866 2306 2028 1997 1037 2846 1997 2019 5992 6466 2090 1004 1001 1060 19317 12521 1025 3429 1004 1001 1060 2497 2692 1025 1998 1009 3429 1004 1001 1060 2497 2692 1025 1999 1996 25022 11890 2819 7512 24271 3257 2007 1037 8060 6536 2415 1997 2169 1997 1996 29018 1997 4568 16853 2015 2108 2275 2004 1037 4431 1998 1037 2846 1997 2019 5992 6466 2090 1004 1001 1060 19317 12521 1025 3429 1004 1001 1060 2497 2692 1025 1998 1009 3429 1004 1001 1060 2497 2692 1025 2007 1037 2597 4237 2013 1996 8060 6536 2415 2011 2019 5992 6466 1997 3938 1004 1001 1060 2497 2692 1025 2108 2275 2004 1037 4431 1010 1996 6204 3512 4984 2108 21866 1999 2012 2560 2028 2173 1999 1996 25022 11890 2819 7512 24271 3257 1010 1996 25254 6466 10788 5080 2582 9605 1037 10788 2965 2005 25952 1037 25254 6466 1997 1996 18929 2011 102 1015 1012 1037 24600 3274 1011 3191 3085 5396 2383 8250 2045 2239 3274 1011 4654 8586 23056 8128 2005 14972 1037 7661 21335 3468 5107 5310 8278 2006 1037 3898 4653 1997 1037 10093 13699 27629 5080 9605 1024 2019 4646 2565 2005 4346 2578 2000 1037 5310 2006 1996 10093 13699 27629 5080 1025 1037 5806 2565 2008 14451 2015 2019 4646 4730 8278 2005 7661 6026 1996 7661 21335 3468 5107 5310 8278 1025 1037 4471 2415 12160 2135 4198 2000 1996 5806 2565 2005 4346 3229 2000 1037 5310 4471 1025 1998 1037 10093 13699 27629 11336 2005 6605 10093 13699 27629 4972 1010 16726 1996 4646 4730 8278 6086 2011 1996 5806 2565 8681 2028 2030 2062 4725 1010 1996 4646 4730 8278 4909 7953 2013 2019 4646 1010 1998 16726 7781 1997 1996 2028 2030 2062 4725 1997 1996 4646 4730 8278 2003 26651 2000 1996 7953 2013 1996 4646 2005 7661 6026 1996 7661 21335 3468 5107 5310 8278 1010 16726 1996 10093 13699 27629 11336 2950 2019 6872 4005 2005 12515 1037 2865 5549 1997 2019 14932 2655 1012 1016 1012 1996 3274 1011 3191 3085 5396 1997 4366 1015 16726 1996 6872 4005 2582 2398 1996 14932 2655 2000 1996 4471 3665 2241 2006 1996 2865 5549 1012 1017 1012 1996 3274 1011 3191 3085 5396 1997 4366 1016 16726 1996 6872 4005 2003 7528 2004 1037 5123 2326 3075 1006 8827 2140 1007 1012 1018 1012 1996 3274 1011 3191 3085 5396 1997 4366 102\n",
      "INFO:tensorflow:input_mask: 1 1 1 1 1 1 1 1 1 1 1 1 1 1 1 1 1 1 1 1 1 1 1 1 1 1 1 1 1 1 1 1 1 1 1 1 1 1 1 1 1 1 1 1 1 1 1 1 1 1 1 1 1 1 1 1 1 1 1 1 1 1 1 1 1 1 1 1 1 1 1 1 1 1 1 1 1 1 1 1 1 1 1 1 1 1 1 1 1 1 1 1 1 1 1 1 1 1 1 1 1 1 1 1 1 1 1 1 1 1 1 1 1 1 1 1 1 1 1 1 1 1 1 1 1 1 1 1 1 1 1 1 1 1 1 1 1 1 1 1 1 1 1 1 1 1 1 1 1 1 1 1 1 1 1 1 1 1 1 1 1 1 1 1 1 1 1 1 1 1 1 1 1 1 1 1 1 1 1 1 1 1 1 1 1 1 1 1 1 1 1 1 1 1 1 1 1 1 1 1 1 1 1 1 1 1 1 1 1 1 1 1 1 1 1 1 1 1 1 1 1 1 1 1 1 1 1 1 1 1 1 1 1 1 1 1 1 1 1 1 1 1 1 1 1 1 1 1 1 1 1 1 1 1 1 1 1 1 1 1 1 1 1 1 1 1 1 1 1 1 1 1 1 1 1 1 1 1 1 1 1 1 1 1 1 1 1 1 1 1 1 1 1 1 1 1 1 1 1 1 1 1 1 1 1 1 1 1 1 1 1 1 1 1 1 1 1 1 1 1 1 1 1 1 1 1 1 1 1 1 1 1 1 1 1 1 1 1 1 1 1 1 1 1 1 1 1 1 1 1 1 1 1 1 1 1 1 1 1 1 1 1 1 1 1 1 1 1 1 1 1 1 1 1 1 1 1 1 1 1 1 1 1 1 1 1 1 1 1 1 1 1 1 1 1 1 1 1 1 1 1 1 1 1 1 1 1 1 1 1 1 1 1 1 1 1 1 1 1 1 1 1 1 1 1 1 1 1 1 1 1 1 1 1 1 1 1 1 1 1 1 1 1 1 1 1 1 1 1 1 1 1 1 1 1 1 1 1 1 1 1 1 1 1 1 1 1 1 1 1 1 1 1 1 1 1 1 1 1 1 1 1 1 1 1 1 1 1 1 1 1 1 1 1 1 1 1 1 1 1 1 1 1 1 1 1 1 1 1 1 1 1\n",
      "INFO:tensorflow:segment_ids: 0 0 0 0 0 0 0 0 0 0 0 0 0 0 0 0 0 0 0 0 0 0 0 0 0 0 0 0 0 0 0 0 0 0 0 0 0 0 0 0 0 0 0 0 0 0 0 0 0 0 0 0 0 0 0 0 0 0 0 0 0 0 0 0 0 0 0 0 0 0 0 0 0 0 0 0 0 0 0 0 0 0 0 0 0 0 0 0 0 0 0 0 0 0 0 0 0 0 0 0 0 0 0 0 0 0 0 0 0 0 0 0 0 0 0 0 0 0 0 0 0 0 0 0 0 0 0 0 0 0 0 0 0 0 0 0 0 0 0 0 0 0 0 0 0 0 0 0 0 0 0 0 0 0 0 0 0 0 0 0 0 0 0 0 0 0 0 0 0 0 0 0 0 0 0 0 0 0 0 0 0 0 0 0 0 0 0 0 0 0 0 0 0 0 0 0 0 0 0 0 0 0 0 0 0 0 0 0 0 0 0 0 0 0 0 0 0 0 0 0 0 0 0 0 0 0 0 0 0 0 0 0 0 0 0 0 0 0 0 0 0 0 0 0 0 0 0 0 0 0 0 0 0 0 0 0 0 1 1 1 1 1 1 1 1 1 1 1 1 1 1 1 1 1 1 1 1 1 1 1 1 1 1 1 1 1 1 1 1 1 1 1 1 1 1 1 1 1 1 1 1 1 1 1 1 1 1 1 1 1 1 1 1 1 1 1 1 1 1 1 1 1 1 1 1 1 1 1 1 1 1 1 1 1 1 1 1 1 1 1 1 1 1 1 1 1 1 1 1 1 1 1 1 1 1 1 1 1 1 1 1 1 1 1 1 1 1 1 1 1 1 1 1 1 1 1 1 1 1 1 1 1 1 1 1 1 1 1 1 1 1 1 1 1 1 1 1 1 1 1 1 1 1 1 1 1 1 1 1 1 1 1 1 1 1 1 1 1 1 1 1 1 1 1 1 1 1 1 1 1 1 1 1 1 1 1 1 1 1 1 1 1 1 1 1 1 1 1 1 1 1 1 1 1 1 1 1 1 1 1 1 1 1 1 1 1 1 1 1 1 1 1 1 1 1 1 1 1 1 1 1 1 1 1 1 1 1 1 1 1 1 1 1 1 1 1 1 1 1 1 1 1 1 1 1 1 1 1 1 1 1 1\n",
      "INFO:tensorflow:label: not_entailment (id = 0)\n",
      "INFO:tensorflow:*** Example ***\n",
      "INFO:tensorflow:guid: 1\n",
      "INFO:tensorflow:tokens: [CLS] 1 . a method comprising : sensing electro ##card ##io ##gram ( ec ##g ) data at an ec ##g sensor system ; processing the sensed ec ##g data at the ec ##g sensor system to determine one or more noise values , wherein each noise value is indicative of a measurement of a component of the sensed ec ##g data that is potentially related to a non - heart beat source ; and sending the one or more noise values to an automated troubles ##hoot ##ing system to troubles ##hoot the ec ##g sensor system . 2 . the method of claim 1 , wherein the automated troubles ##hoot ##ing system performs an analysis of the one or more noise values and identifies a source of a particular component of the sensed ec ##g data that is related to a particular non - heart beat source based on the analysis . 3 . the method of claim 2 , further comprising , after sending the one or more noise values , receiving an input and , responsive to the input , dea ##ct ##ivating one or more circuit elements of the ec ##g sensor system to reduce the one or more noise values associated with the particular component that is related to the particular non - heart beat source . 4 . the method of claim 1 , wherein processing the sensed ec ##g data to determine the one or more noise values includes generating an estimate of power - line noise , generating [SEP] 1 . a medical system , comprising : an implant ##able device including a housing and a signal storage element enclosed in the housing , the housing forming an electrode of the device ; an implant ##able medical electrical lead including a first electrode and a second electrode , the first and second electrode ##s forming a sensing pair when the lead is coupled to the device ; and a device processor enclosed in the housing and programmed to detect noise on the sensing pair , identify the noise as system noise , and store at least one noisy e ##gm sample from the sensing pair and a concurrent e ##gm sample from each of a plurality of recording pairs in response to identifying the system noise , wherein the plurality of recording pairs includes a first pair formed by the first lead electrode and the device electrode , when the lead is coupled to the device , and a second pair formed by the second lead electrode and the device electrode , when the lead is coupled to the device . 2 . the system of claim 1 , further comprising an external device and wherein the device processor transfers each of the collected e ##gm samples to the external device for analysis . 3 . the system of claim 1 , wherein the device processor analyze ##s the e ##gm samples collected from the recording pairs to detect a presence or an absence of noise on each of the samples , and [SEP]\n"
     ]
    },
    {
     "name": "stdout",
     "output_type": "stream",
     "text": [
      "INFO:tensorflow:input_ids: 101 1015 1012 1037 4118 9605 1024 13851 16175 11522 3695 13113 1006 14925 2290 1007 2951 2012 2019 14925 2290 13617 2291 1025 6364 1996 10596 14925 2290 2951 2012 1996 14925 2290 13617 2291 2000 5646 2028 2030 2062 5005 5300 1010 16726 2169 5005 3643 2003 24668 1997 1037 10903 1997 1037 6922 1997 1996 10596 14925 2290 2951 2008 2003 9280 3141 2000 1037 2512 1011 2540 3786 3120 1025 1998 6016 1996 2028 2030 2062 5005 5300 2000 2019 12978 13460 23416 2075 2291 2000 13460 23416 1996 14925 2290 13617 2291 1012 1016 1012 1996 4118 1997 4366 1015 1010 16726 1996 12978 13460 23416 2075 2291 10438 2019 4106 1997 1996 2028 2030 2062 5005 5300 1998 14847 1037 3120 1997 1037 3327 6922 1997 1996 10596 14925 2290 2951 2008 2003 3141 2000 1037 3327 2512 1011 2540 3786 3120 2241 2006 1996 4106 1012 1017 1012 1996 4118 1997 4366 1016 1010 2582 9605 1010 2044 6016 1996 2028 2030 2062 5005 5300 1010 4909 2019 7953 1998 1010 26651 2000 1996 7953 1010 26709 6593 17441 2028 2030 2062 4984 3787 1997 1996 14925 2290 13617 2291 2000 5547 1996 2028 2030 2062 5005 5300 3378 2007 1996 3327 6922 2008 2003 3141 2000 1996 3327 2512 1011 2540 3786 3120 1012 1018 1012 1996 4118 1997 4366 1015 1010 16726 6364 1996 10596 14925 2290 2951 2000 5646 1996 2028 2030 2062 5005 5300 2950 11717 2019 10197 1997 2373 1011 2240 5005 1010 11717 102 1015 1012 1037 2966 2291 1010 9605 1024 2019 27159 3085 5080 2164 1037 3847 1998 1037 4742 5527 5783 10837 1999 1996 3847 1010 1996 3847 5716 2019 28688 1997 1996 5080 1025 2019 27159 3085 2966 5992 2599 2164 1037 2034 28688 1998 1037 2117 28688 1010 1996 2034 1998 2117 28688 2015 5716 1037 13851 3940 2043 1996 2599 2003 11211 2000 1996 5080 1025 1998 1037 5080 13151 10837 1999 1996 3847 1998 16984 2000 11487 5005 2006 1996 13851 3940 1010 6709 1996 5005 2004 2291 5005 1010 1998 3573 2012 2560 2028 20810 1041 21693 7099 2013 1996 13851 3940 1998 1037 16483 1041 21693 7099 2013 2169 1997 1037 29018 1997 3405 7689 1999 3433 2000 12151 1996 2291 5005 1010 16726 1996 29018 1997 3405 7689 2950 1037 2034 3940 2719 2011 1996 2034 2599 28688 1998 1996 5080 28688 1010 2043 1996 2599 2003 11211 2000 1996 5080 1010 1998 1037 2117 3940 2719 2011 1996 2117 2599 28688 1998 1996 5080 28688 1010 2043 1996 2599 2003 11211 2000 1996 5080 1012 1016 1012 1996 2291 1997 4366 1015 1010 2582 9605 2019 6327 5080 1998 16726 1996 5080 13151 15210 2169 1997 1996 5067 1041 21693 8168 2000 1996 6327 5080 2005 4106 1012 1017 1012 1996 2291 1997 4366 1015 1010 16726 1996 5080 13151 17908 2015 1996 1041 21693 8168 5067 2013 1996 3405 7689 2000 11487 1037 3739 2030 2019 6438 1997 5005 2006 2169 1997 1996 8168 1010 1998 102\n",
      "INFO:tensorflow:input_mask: 1 1 1 1 1 1 1 1 1 1 1 1 1 1 1 1 1 1 1 1 1 1 1 1 1 1 1 1 1 1 1 1 1 1 1 1 1 1 1 1 1 1 1 1 1 1 1 1 1 1 1 1 1 1 1 1 1 1 1 1 1 1 1 1 1 1 1 1 1 1 1 1 1 1 1 1 1 1 1 1 1 1 1 1 1 1 1 1 1 1 1 1 1 1 1 1 1 1 1 1 1 1 1 1 1 1 1 1 1 1 1 1 1 1 1 1 1 1 1 1 1 1 1 1 1 1 1 1 1 1 1 1 1 1 1 1 1 1 1 1 1 1 1 1 1 1 1 1 1 1 1 1 1 1 1 1 1 1 1 1 1 1 1 1 1 1 1 1 1 1 1 1 1 1 1 1 1 1 1 1 1 1 1 1 1 1 1 1 1 1 1 1 1 1 1 1 1 1 1 1 1 1 1 1 1 1 1 1 1 1 1 1 1 1 1 1 1 1 1 1 1 1 1 1 1 1 1 1 1 1 1 1 1 1 1 1 1 1 1 1 1 1 1 1 1 1 1 1 1 1 1 1 1 1 1 1 1 1 1 1 1 1 1 1 1 1 1 1 1 1 1 1 1 1 1 1 1 1 1 1 1 1 1 1 1 1 1 1 1 1 1 1 1 1 1 1 1 1 1 1 1 1 1 1 1 1 1 1 1 1 1 1 1 1 1 1 1 1 1 1 1 1 1 1 1 1 1 1 1 1 1 1 1 1 1 1 1 1 1 1 1 1 1 1 1 1 1 1 1 1 1 1 1 1 1 1 1 1 1 1 1 1 1 1 1 1 1 1 1 1 1 1 1 1 1 1 1 1 1 1 1 1 1 1 1 1 1 1 1 1 1 1 1 1 1 1 1 1 1 1 1 1 1 1 1 1 1 1 1 1 1 1 1 1 1 1 1 1 1 1 1 1 1 1 1 1 1 1 1 1 1 1 1 1 1 1 1 1 1 1 1 1 1 1 1 1 1 1 1 1 1 1 1 1 1 1 1 1 1 1 1 1 1 1 1 1 1 1 1 1 1 1 1 1 1 1 1 1 1 1 1 1 1 1 1 1 1 1 1 1 1 1 1 1 1 1 1 1 1 1 1 1 1 1 1 1 1 1 1 1 1 1\n",
      "INFO:tensorflow:segment_ids: 0 0 0 0 0 0 0 0 0 0 0 0 0 0 0 0 0 0 0 0 0 0 0 0 0 0 0 0 0 0 0 0 0 0 0 0 0 0 0 0 0 0 0 0 0 0 0 0 0 0 0 0 0 0 0 0 0 0 0 0 0 0 0 0 0 0 0 0 0 0 0 0 0 0 0 0 0 0 0 0 0 0 0 0 0 0 0 0 0 0 0 0 0 0 0 0 0 0 0 0 0 0 0 0 0 0 0 0 0 0 0 0 0 0 0 0 0 0 0 0 0 0 0 0 0 0 0 0 0 0 0 0 0 0 0 0 0 0 0 0 0 0 0 0 0 0 0 0 0 0 0 0 0 0 0 0 0 0 0 0 0 0 0 0 0 0 0 0 0 0 0 0 0 0 0 0 0 0 0 0 0 0 0 0 0 0 0 0 0 0 0 0 0 0 0 0 0 0 0 0 0 0 0 0 0 0 0 0 0 0 0 0 0 0 0 0 0 0 0 0 0 0 0 0 0 0 0 0 0 0 0 0 0 0 0 0 0 0 0 0 0 0 0 0 0 0 0 0 0 0 0 0 0 0 0 0 0 1 1 1 1 1 1 1 1 1 1 1 1 1 1 1 1 1 1 1 1 1 1 1 1 1 1 1 1 1 1 1 1 1 1 1 1 1 1 1 1 1 1 1 1 1 1 1 1 1 1 1 1 1 1 1 1 1 1 1 1 1 1 1 1 1 1 1 1 1 1 1 1 1 1 1 1 1 1 1 1 1 1 1 1 1 1 1 1 1 1 1 1 1 1 1 1 1 1 1 1 1 1 1 1 1 1 1 1 1 1 1 1 1 1 1 1 1 1 1 1 1 1 1 1 1 1 1 1 1 1 1 1 1 1 1 1 1 1 1 1 1 1 1 1 1 1 1 1 1 1 1 1 1 1 1 1 1 1 1 1 1 1 1 1 1 1 1 1 1 1 1 1 1 1 1 1 1 1 1 1 1 1 1 1 1 1 1 1 1 1 1 1 1 1 1 1 1 1 1 1 1 1 1 1 1 1 1 1 1 1 1 1 1 1 1 1 1 1 1 1 1 1 1 1 1 1 1 1 1 1 1 1 1 1 1 1 1 1 1 1 1 1 1 1 1 1 1 1 1 1 1 1 1 1 1\n",
      "INFO:tensorflow:label: entailment (id = 1)\n",
      "INFO:tensorflow:*** Example ***\n",
      "INFO:tensorflow:guid: 2\n",
      "INFO:tensorflow:tokens: [CLS] 1 . a system for controlling temperature inside a machine cab defining an interior and an exterior , the system comprising : a blow ##er fan configured to be coupled to the exterior of the cab ; an eva ##por ##ator configured to be coupled to the exterior of the cab at a location separated from the blow ##er fan ; and a duct configured to be coupled to the blow ##er fan and the eva ##por ##ator such that the duct extends between the blow ##er fan and the eva ##por ##ator . 2 . the system of claim 1 , wherein the cab defines a rear end and an underside , and wherein the blow ##er fan is configured to be coupled to the rear end of the cab , and the eva ##por ##ator is configured to be coupled to the underside of the cab . 3 . the system of claim 1 , wherein the duct has an increasing cross - sectional area as it extends from the blow ##er fan to the eva ##por ##ator . 4 . the system of claim 1 , wherein the eva ##por ##ator includes an eva ##por ##ator coil . 5 . the system of claim 1 , further including a pl ##en ##um including a first inlet configured to receive air from the interior of the cab and a second inlet configured to receive air from the exterior of the cab . 6 . the system of claim 5 , further including a [SEP] 1 . an integrated differential receiver for an input / output pad comprising : a single gate oxide differential receiver that receives an input voltage ; a switch ##able voltage supply circuit operative ##ly coupled to the single gate oxide differential receiver , switch ##able through at least one control signal , that indicates an input signal voltage range , to select at least one differential receiver supply voltage , from a plurality of supply voltage ##s during normal operating mode , for the single gate oxide differential receiver wherein at least one of the selected receiver supply voltage ##s is higher than a maximum voltage level of the input voltage indicated by the control signal ; and wherein the switch ##able voltage supply circuit is operative ##ly responsive to at least two control signals . 2 . the receiver of claim 1 wherein the switch ##able voltage supply circuit is coupled to the plurality of supply voltage ##s that include at least an input / output pad supply voltage and a higher reference supply voltage and selects the differential receiver supply voltage that is higher voltage than the i / o pad supply voltage . 3 . the receiver of claim 1 wherein the receiver generates an output signal to circuit ##ry for a video graphics processor . 4 . the receiver of claim 1 wherein the differential receiver receives a first reference voltage on a first differential input voltage on a second differential input and wherein the switch ##able voltage supply circuit [SEP]\n",
      "INFO:tensorflow:input_ids: 101 1015 1012 1037 2291 2005 9756 4860 2503 1037 3698 9298 12854 2019 4592 1998 2019 8829 1010 1996 2291 9605 1024 1037 6271 2121 5470 26928 2000 2022 11211 2000 1996 8829 1997 1996 9298 1025 2019 9345 17822 8844 26928 2000 2022 11211 2000 1996 8829 1997 1996 9298 2012 1037 3295 5459 2013 1996 6271 2121 5470 1025 1998 1037 23245 26928 2000 2022 11211 2000 1996 6271 2121 5470 1998 1996 9345 17822 8844 2107 2008 1996 23245 8908 2090 1996 6271 2121 5470 1998 1996 9345 17822 8844 1012 1016 1012 1996 2291 1997 4366 1015 1010 16726 1996 9298 11859 1037 4373 2203 1998 2019 17313 1010 1998 16726 1996 6271 2121 5470 2003 26928 2000 2022 11211 2000 1996 4373 2203 1997 1996 9298 1010 1998 1996 9345 17822 8844 2003 26928 2000 2022 11211 2000 1996 17313 1997 1996 9298 1012 1017 1012 1996 2291 1997 4366 1015 1010 16726 1996 23245 2038 2019 4852 2892 1011 27197 2181 2004 2009 8908 2013 1996 6271 2121 5470 2000 1996 9345 17822 8844 1012 1018 1012 1996 2291 1997 4366 1015 1010 16726 1996 9345 17822 8844 2950 2019 9345 17822 8844 17085 1012 1019 1012 1996 2291 1997 4366 1015 1010 2582 2164 1037 20228 2368 2819 2164 1037 2034 15824 26928 2000 4374 2250 2013 1996 4592 1997 1996 9298 1998 1037 2117 15824 26928 2000 4374 2250 2013 1996 8829 1997 1996 9298 1012 1020 1012 1996 2291 1997 4366 1019 1010 2582 2164 1037 102 1015 1012 2019 6377 11658 8393 2005 2019 7953 1013 6434 11687 9605 1024 1037 2309 4796 15772 11658 8393 2008 8267 2019 7953 10004 1025 1037 6942 3085 10004 4425 4984 12160 2135 11211 2000 1996 2309 4796 15772 11658 8393 1010 6942 3085 2083 2012 2560 2028 2491 4742 1010 2008 7127 2019 7953 4742 10004 2846 1010 2000 7276 2012 2560 2028 11658 8393 4425 10004 1010 2013 1037 29018 1997 4425 10004 2015 2076 3671 4082 5549 1010 2005 1996 2309 4796 15772 11658 8393 16726 2012 2560 2028 1997 1996 3479 8393 4425 10004 2015 2003 3020 2084 1037 4555 10004 2504 1997 1996 7953 10004 5393 2011 1996 2491 4742 1025 1998 16726 1996 6942 3085 10004 4425 4984 2003 12160 2135 26651 2000 2012 2560 2048 2491 7755 1012 1016 1012 1996 8393 1997 4366 1015 16726 1996 6942 3085 10004 4425 4984 2003 11211 2000 1996 29018 1997 4425 10004 2015 2008 2421 2012 2560 2019 7953 1013 6434 11687 4425 10004 1998 1037 3020 4431 4425 10004 1998 27034 1996 11658 8393 4425 10004 2008 2003 3020 10004 2084 1996 1045 1013 1051 11687 4425 10004 1012 1017 1012 1996 8393 1997 4366 1015 16726 1996 8393 19421 2019 6434 4742 2000 4984 2854 2005 1037 2678 8389 13151 1012 1018 1012 1996 8393 1997 4366 1015 16726 1996 11658 8393 8267 1037 2034 4431 10004 2006 1037 2034 11658 7953 10004 2006 1037 2117 11658 7953 1998 16726 1996 6942 3085 10004 4425 4984 102\n"
     ]
    },
    {
     "name": "stdout",
     "output_type": "stream",
     "text": [
      "INFO:tensorflow:input_mask: 1 1 1 1 1 1 1 1 1 1 1 1 1 1 1 1 1 1 1 1 1 1 1 1 1 1 1 1 1 1 1 1 1 1 1 1 1 1 1 1 1 1 1 1 1 1 1 1 1 1 1 1 1 1 1 1 1 1 1 1 1 1 1 1 1 1 1 1 1 1 1 1 1 1 1 1 1 1 1 1 1 1 1 1 1 1 1 1 1 1 1 1 1 1 1 1 1 1 1 1 1 1 1 1 1 1 1 1 1 1 1 1 1 1 1 1 1 1 1 1 1 1 1 1 1 1 1 1 1 1 1 1 1 1 1 1 1 1 1 1 1 1 1 1 1 1 1 1 1 1 1 1 1 1 1 1 1 1 1 1 1 1 1 1 1 1 1 1 1 1 1 1 1 1 1 1 1 1 1 1 1 1 1 1 1 1 1 1 1 1 1 1 1 1 1 1 1 1 1 1 1 1 1 1 1 1 1 1 1 1 1 1 1 1 1 1 1 1 1 1 1 1 1 1 1 1 1 1 1 1 1 1 1 1 1 1 1 1 1 1 1 1 1 1 1 1 1 1 1 1 1 1 1 1 1 1 1 1 1 1 1 1 1 1 1 1 1 1 1 1 1 1 1 1 1 1 1 1 1 1 1 1 1 1 1 1 1 1 1 1 1 1 1 1 1 1 1 1 1 1 1 1 1 1 1 1 1 1 1 1 1 1 1 1 1 1 1 1 1 1 1 1 1 1 1 1 1 1 1 1 1 1 1 1 1 1 1 1 1 1 1 1 1 1 1 1 1 1 1 1 1 1 1 1 1 1 1 1 1 1 1 1 1 1 1 1 1 1 1 1 1 1 1 1 1 1 1 1 1 1 1 1 1 1 1 1 1 1 1 1 1 1 1 1 1 1 1 1 1 1 1 1 1 1 1 1 1 1 1 1 1 1 1 1 1 1 1 1 1 1 1 1 1 1 1 1 1 1 1 1 1 1 1 1 1 1 1 1 1 1 1 1 1 1 1 1 1 1 1 1 1 1 1 1 1 1 1 1 1 1 1 1 1 1 1 1 1 1 1 1 1 1 1 1 1 1 1 1 1 1 1 1 1 1 1 1 1 1 1 1 1 1 1 1 1 1 1 1 1 1 1 1 1 1 1 1 1 1 1 1 1 1\n",
      "INFO:tensorflow:segment_ids: 0 0 0 0 0 0 0 0 0 0 0 0 0 0 0 0 0 0 0 0 0 0 0 0 0 0 0 0 0 0 0 0 0 0 0 0 0 0 0 0 0 0 0 0 0 0 0 0 0 0 0 0 0 0 0 0 0 0 0 0 0 0 0 0 0 0 0 0 0 0 0 0 0 0 0 0 0 0 0 0 0 0 0 0 0 0 0 0 0 0 0 0 0 0 0 0 0 0 0 0 0 0 0 0 0 0 0 0 0 0 0 0 0 0 0 0 0 0 0 0 0 0 0 0 0 0 0 0 0 0 0 0 0 0 0 0 0 0 0 0 0 0 0 0 0 0 0 0 0 0 0 0 0 0 0 0 0 0 0 0 0 0 0 0 0 0 0 0 0 0 0 0 0 0 0 0 0 0 0 0 0 0 0 0 0 0 0 0 0 0 0 0 0 0 0 0 0 0 0 0 0 0 0 0 0 0 0 0 0 0 0 0 0 0 0 0 0 0 0 0 0 0 0 0 0 0 0 0 0 0 0 0 0 0 0 0 0 0 0 0 0 0 0 0 0 0 0 0 0 0 0 0 0 0 0 0 0 1 1 1 1 1 1 1 1 1 1 1 1 1 1 1 1 1 1 1 1 1 1 1 1 1 1 1 1 1 1 1 1 1 1 1 1 1 1 1 1 1 1 1 1 1 1 1 1 1 1 1 1 1 1 1 1 1 1 1 1 1 1 1 1 1 1 1 1 1 1 1 1 1 1 1 1 1 1 1 1 1 1 1 1 1 1 1 1 1 1 1 1 1 1 1 1 1 1 1 1 1 1 1 1 1 1 1 1 1 1 1 1 1 1 1 1 1 1 1 1 1 1 1 1 1 1 1 1 1 1 1 1 1 1 1 1 1 1 1 1 1 1 1 1 1 1 1 1 1 1 1 1 1 1 1 1 1 1 1 1 1 1 1 1 1 1 1 1 1 1 1 1 1 1 1 1 1 1 1 1 1 1 1 1 1 1 1 1 1 1 1 1 1 1 1 1 1 1 1 1 1 1 1 1 1 1 1 1 1 1 1 1 1 1 1 1 1 1 1 1 1 1 1 1 1 1 1 1 1 1 1 1 1 1 1 1 1 1 1 1 1 1 1 1 1 1 1 1 1 1 1 1 1 1 1\n",
      "INFO:tensorflow:label: not_entailment (id = 0)\n",
      "INFO:tensorflow:*** Example ***\n",
      "INFO:tensorflow:guid: 3\n",
      "INFO:tensorflow:tokens: [CLS] 1 . a recording apparatus for recording updated data onto a re ##wr ##ita ##ble portable recording medium on which original data has been copied from a read - only recording medium , the original data including first stream data , the updated data including second stream data , and the updated data to be combined virtually with the original data to form a virtual package , the recording apparatus comprising : a data storage unit that stores there ##in the updated data and mapping information indicating a path of the updated data in the virtual package ; a determination unit opera ##ble to perform path col ##lation to determine , from the mapping information , whether a path to the second stream data in the virtual package matches a path to the first stream data on the portable recording medium ; a recording control unit opera ##ble to issue an instruction to write the updated data onto the portable recording medium , and when a result of the path col ##lation is affirmative , to issue an instruction to del ##ete the first stream data from the portable recording medium , and a data recording unit opera ##ble to write and del ##ete data in response to the instructions from the recording control unit . 2 . the recording apparatus of claim 1 wherein ##the mapping information includes information indicating whether the second stream data is missing data that is data to be downloaded from a server apparatus on a network during or before [SEP] 1 . a method for indicating a priority of a voice over internet protocol ( vo ##ip ) call , comprising : receiving a dialed number for a connection ; generating a call setup request including the dialed number ; receiving a caller - specified priority for the call based on a caller input provided con ##tem ##por ##aneous ##ly with the dialed number , wherein the priority is independent of a call recipient ; access ##ing a rule base to valid ##ate the priority ; generating a priority indicator based on the priority ; ne ##gating the priority indicator if determined invalid based on the rule base ; and transmitting the call setup request and priority indicator . 2 . the method of claim 1 , wherein the priority indicator is an information element ( ie ) . 3 . the method of claim 2 , further comprising : receiving an alert ##ing phrase from a user ; and transmitting the alert ##ing phrase with the priority indicator . 4 . the method of claim 1 , wherein the priority is high . 5 . the method of claim 1 , wherein the priority is low . 6 . the method of claim 1 , wherein the caller input is received after the call setup request has been transmitted . 7 . the method of claim 1 , wherein the caller input is received as a prefix to the dialed number . 8 . the method of claim 1 , further comprising generating [SEP]\n",
      "INFO:tensorflow:input_ids: 101 1015 1012 1037 3405 14709 2005 3405 7172 2951 3031 1037 2128 13088 6590 3468 12109 3405 5396 2006 2029 2434 2951 2038 2042 15826 2013 1037 3191 1011 2069 3405 5396 1010 1996 2434 2951 2164 2034 5460 2951 1010 1996 7172 2951 2164 2117 5460 2951 1010 1998 1996 7172 2951 2000 2022 4117 8990 2007 1996 2434 2951 2000 2433 1037 7484 7427 1010 1996 3405 14709 9605 1024 1037 2951 5527 3131 2008 5324 2045 2378 1996 7172 2951 1998 12375 2592 8131 1037 4130 1997 1996 7172 2951 1999 1996 7484 7427 1025 1037 9128 3131 3850 3468 2000 4685 4130 8902 13490 2000 5646 1010 2013 1996 12375 2592 1010 3251 1037 4130 2000 1996 2117 5460 2951 1999 1996 7484 7427 3503 1037 4130 2000 1996 2034 5460 2951 2006 1996 12109 3405 5396 1025 1037 3405 2491 3131 3850 3468 2000 3277 2019 7899 2000 4339 1996 7172 2951 3031 1996 12109 3405 5396 1010 1998 2043 1037 2765 1997 1996 4130 8902 13490 2003 27352 1010 2000 3277 2019 7899 2000 3972 12870 1996 2034 5460 2951 2013 1996 12109 3405 5396 1010 1998 1037 2951 3405 3131 3850 3468 2000 4339 1998 3972 12870 2951 1999 3433 2000 1996 8128 2013 1996 3405 2491 3131 1012 1016 1012 1996 3405 14709 1997 4366 1015 16726 10760 12375 2592 2950 2592 8131 3251 1996 2117 5460 2951 2003 4394 2951 2008 2003 2951 2000 2022 22817 2013 1037 8241 14709 2006 1037 2897 2076 2030 2077 102 1015 1012 1037 4118 2005 8131 1037 9470 1997 1037 2376 2058 4274 8778 1006 29536 11514 1007 2655 1010 9605 1024 4909 1037 21300 2193 2005 1037 4434 1025 11717 1037 2655 16437 5227 2164 1996 21300 2193 1025 4909 1037 20587 1011 9675 9470 2005 1996 2655 2241 2006 1037 20587 7953 3024 9530 18532 17822 17191 2135 2007 1996 21300 2193 1010 16726 1996 9470 2003 2981 1997 1037 2655 7799 1025 3229 2075 1037 3627 2918 2000 9398 3686 1996 9470 1025 11717 1037 9470 17245 2241 2006 1996 9470 1025 11265 16961 1996 9470 17245 2065 4340 19528 2241 2006 1996 3627 2918 1025 1998 23820 1996 2655 16437 5227 1998 9470 17245 1012 1016 1012 1996 4118 1997 4366 1015 1010 16726 1996 9470 17245 2003 2019 2592 5783 1006 29464 1007 1012 1017 1012 1996 4118 1997 4366 1016 1010 2582 9605 1024 4909 2019 9499 2075 7655 2013 1037 5310 1025 1998 23820 1996 9499 2075 7655 2007 1996 9470 17245 1012 1018 1012 1996 4118 1997 4366 1015 1010 16726 1996 9470 2003 2152 1012 1019 1012 1996 4118 1997 4366 1015 1010 16726 1996 9470 2003 2659 1012 1020 1012 1996 4118 1997 4366 1015 1010 16726 1996 20587 7953 2003 2363 2044 1996 2655 16437 5227 2038 2042 11860 1012 1021 1012 1996 4118 1997 4366 1015 1010 16726 1996 20587 7953 2003 2363 2004 1037 17576 2000 1996 21300 2193 1012 1022 1012 1996 4118 1997 4366 1015 1010 2582 9605 11717 102\n",
      "INFO:tensorflow:input_mask: 1 1 1 1 1 1 1 1 1 1 1 1 1 1 1 1 1 1 1 1 1 1 1 1 1 1 1 1 1 1 1 1 1 1 1 1 1 1 1 1 1 1 1 1 1 1 1 1 1 1 1 1 1 1 1 1 1 1 1 1 1 1 1 1 1 1 1 1 1 1 1 1 1 1 1 1 1 1 1 1 1 1 1 1 1 1 1 1 1 1 1 1 1 1 1 1 1 1 1 1 1 1 1 1 1 1 1 1 1 1 1 1 1 1 1 1 1 1 1 1 1 1 1 1 1 1 1 1 1 1 1 1 1 1 1 1 1 1 1 1 1 1 1 1 1 1 1 1 1 1 1 1 1 1 1 1 1 1 1 1 1 1 1 1 1 1 1 1 1 1 1 1 1 1 1 1 1 1 1 1 1 1 1 1 1 1 1 1 1 1 1 1 1 1 1 1 1 1 1 1 1 1 1 1 1 1 1 1 1 1 1 1 1 1 1 1 1 1 1 1 1 1 1 1 1 1 1 1 1 1 1 1 1 1 1 1 1 1 1 1 1 1 1 1 1 1 1 1 1 1 1 1 1 1 1 1 1 1 1 1 1 1 1 1 1 1 1 1 1 1 1 1 1 1 1 1 1 1 1 1 1 1 1 1 1 1 1 1 1 1 1 1 1 1 1 1 1 1 1 1 1 1 1 1 1 1 1 1 1 1 1 1 1 1 1 1 1 1 1 1 1 1 1 1 1 1 1 1 1 1 1 1 1 1 1 1 1 1 1 1 1 1 1 1 1 1 1 1 1 1 1 1 1 1 1 1 1 1 1 1 1 1 1 1 1 1 1 1 1 1 1 1 1 1 1 1 1 1 1 1 1 1 1 1 1 1 1 1 1 1 1 1 1 1 1 1 1 1 1 1 1 1 1 1 1 1 1 1 1 1 1 1 1 1 1 1 1 1 1 1 1 1 1 1 1 1 1 1 1 1 1 1 1 1 1 1 1 1 1 1 1 1 1 1 1 1 1 1 1 1 1 1 1 1 1 1 1 1 1 1 1 1 1 1 1 1 1 1 1 1 1 1 1 1 1 1 1 1 1 1 1 1 1 1 1 1 1 1 1 1 1 1 1 1 1 1 1 1 1 1 1 1 1 1 1 1 1 1 1 1 1 1\n"
     ]
    },
    {
     "name": "stdout",
     "output_type": "stream",
     "text": [
      "INFO:tensorflow:segment_ids: 0 0 0 0 0 0 0 0 0 0 0 0 0 0 0 0 0 0 0 0 0 0 0 0 0 0 0 0 0 0 0 0 0 0 0 0 0 0 0 0 0 0 0 0 0 0 0 0 0 0 0 0 0 0 0 0 0 0 0 0 0 0 0 0 0 0 0 0 0 0 0 0 0 0 0 0 0 0 0 0 0 0 0 0 0 0 0 0 0 0 0 0 0 0 0 0 0 0 0 0 0 0 0 0 0 0 0 0 0 0 0 0 0 0 0 0 0 0 0 0 0 0 0 0 0 0 0 0 0 0 0 0 0 0 0 0 0 0 0 0 0 0 0 0 0 0 0 0 0 0 0 0 0 0 0 0 0 0 0 0 0 0 0 0 0 0 0 0 0 0 0 0 0 0 0 0 0 0 0 0 0 0 0 0 0 0 0 0 0 0 0 0 0 0 0 0 0 0 0 0 0 0 0 0 0 0 0 0 0 0 0 0 0 0 0 0 0 0 0 0 0 0 0 0 0 0 0 0 0 0 0 0 0 0 0 0 0 0 0 0 0 0 0 0 0 0 0 0 0 0 0 0 0 0 0 0 0 1 1 1 1 1 1 1 1 1 1 1 1 1 1 1 1 1 1 1 1 1 1 1 1 1 1 1 1 1 1 1 1 1 1 1 1 1 1 1 1 1 1 1 1 1 1 1 1 1 1 1 1 1 1 1 1 1 1 1 1 1 1 1 1 1 1 1 1 1 1 1 1 1 1 1 1 1 1 1 1 1 1 1 1 1 1 1 1 1 1 1 1 1 1 1 1 1 1 1 1 1 1 1 1 1 1 1 1 1 1 1 1 1 1 1 1 1 1 1 1 1 1 1 1 1 1 1 1 1 1 1 1 1 1 1 1 1 1 1 1 1 1 1 1 1 1 1 1 1 1 1 1 1 1 1 1 1 1 1 1 1 1 1 1 1 1 1 1 1 1 1 1 1 1 1 1 1 1 1 1 1 1 1 1 1 1 1 1 1 1 1 1 1 1 1 1 1 1 1 1 1 1 1 1 1 1 1 1 1 1 1 1 1 1 1 1 1 1 1 1 1 1 1 1 1 1 1 1 1 1 1 1 1 1 1 1 1 1 1 1 1 1 1 1 1 1 1 1 1 1 1 1 1 1 1\n",
      "INFO:tensorflow:label: not_entailment (id = 0)\n",
      "INFO:tensorflow:*** Example ***\n",
      "INFO:tensorflow:guid: 4\n",
      "INFO:tensorflow:tokens: [CLS] 1 . apparatus for moving a material within an enclosure comprising : a field - responsive fluid including a plurality of particles suspended in a base fluid , the field - responsive fluid disposed in the enclosure ; a field generating source which generates a field in response to which at least some of the plurality of particles align , the field being moved relative to the enclosure and thereby cause the align ed particles to move within the enclosure , the material moving in response to contact with the moving particles . 2 . the apparatus of claim 1 wherein the field - responsive fluid is selected from the group consisting of : magnet ##or ##he ##ological fluid and electro ##rh ##eo ##logical fluid . 3 . the apparatus of claim 1 wherein the field is represented by lines of flux , the particles align ##ing parallel to the lines of flux , and moving with the lines of flux . 4 . the apparatus of claim 1 wherein the material is a non - magnetic object . 5 . the apparatus of claim 1 wherein the material is a die ##le ##ctric . 6 . the apparatus of claim 1 wherein the material is fluid disposed between chains of aligned particles . 7 . the apparatus of claim 1 wherein the field is applied to the particles at a starting position , causing at least some of the particles to align and form chains , the applied field is moved relative to the [SEP] 1 . a well ##bor ##e pack ##er having an expand ##able packing element for sealing a well ann ##ulus , an act ##ua ##tor for expanding said packing element into operative engagement across said ann ##ulus and an electrically control ##lab ##le fluid for controlling the operation of said act ##ua ##tor , wherein said electrically control ##lab ##le fluid is en ##er ##gi ##zed by a magnetic field to expand said packing element , wherein said control ##lab ##le fluid is confined within an ex ##pan ##sible chamber , wherein said ex ##pan ##sible chamber is an el ##ast ##ome ##r bladder element . 2 . a hydraulic ##ally act ##uated well tool that is operative ##ly controlled by a flow of electrically control ##lab ##le fluid carried within hydraulic con ##du ##its , said con ##du ##its having electromagnetic winding ##s disposed pro ##xi ##mate ##ly of said con ##du ##its to selective ##ly provide a magnetic field within a section inc ##rem ##ent of said con ##du ##its . 3 . the hydraulic ##ally act ##uated well tool of claim 2 wherein the well tool comprises a well ##bor ##e pack ##er . 4 . the hydraulic ##ally act ##uated well tool of claim 2 wherein said hydraulic con ##du ##its includes at least one fluid circulation line . 5 . the hydraulic ##ally act ##uated well tool of claim 2 wherein en ##er ##gizing said electromagnetic winding ##s blocks the flow of said electrically control ##lab ##le fluid flowing [SEP]\n",
      "INFO:tensorflow:input_ids: 101 1015 1012 14709 2005 3048 1037 3430 2306 2019 17539 9605 1024 1037 2492 1011 26651 8331 2164 1037 29018 1997 9309 6731 1999 1037 2918 8331 1010 1996 2492 1011 26651 8331 21866 1999 1996 17539 1025 1037 2492 11717 3120 2029 19421 1037 2492 1999 3433 2000 2029 2012 2560 2070 1997 1996 29018 1997 9309 25705 1010 1996 2492 2108 2333 5816 2000 1996 17539 1998 8558 3426 1996 25705 3968 9309 2000 2693 2306 1996 17539 1010 1996 3430 3048 1999 3433 2000 3967 2007 1996 3048 9309 1012 1016 1012 1996 14709 1997 4366 1015 16726 1996 2492 1011 26651 8331 2003 3479 2013 1996 2177 5398 1997 1024 16853 2953 5369 10091 8331 1998 16175 25032 8780 9966 8331 1012 1017 1012 1996 14709 1997 4366 1015 16726 1996 2492 2003 3421 2011 3210 1997 19251 1010 1996 9309 25705 2075 5903 2000 1996 3210 1997 19251 1010 1998 3048 2007 1996 3210 1997 19251 1012 1018 1012 1996 14709 1997 4366 1015 16726 1996 3430 2003 1037 2512 1011 8060 4874 1012 1019 1012 1996 14709 1997 4366 1015 16726 1996 3430 2003 1037 3280 2571 22601 1012 1020 1012 1996 14709 1997 4366 1015 16726 1996 3430 2003 8331 21866 2090 8859 1997 13115 9309 1012 1021 1012 1996 14709 1997 4366 1015 16726 1996 2492 2003 4162 2000 1996 9309 2012 1037 3225 2597 1010 4786 2012 2560 2070 1997 1996 9309 2000 25705 1998 2433 8859 1010 1996 4162 2492 2003 2333 5816 2000 1996 102 1015 1012 1037 2092 12821 2063 5308 2121 2383 2019 7818 3085 14743 5783 2005 23038 1037 2092 5754 11627 1010 2019 2552 6692 4263 2005 9186 2056 14743 5783 2046 12160 8147 2408 2056 5754 11627 1998 2019 29103 2491 20470 2571 8331 2005 9756 1996 3169 1997 2056 2552 6692 4263 1010 16726 2056 29103 2491 20470 2571 8331 2003 4372 2121 5856 5422 2011 1037 8060 2492 2000 7818 2056 14743 5783 1010 16726 2056 2491 20470 2571 8331 2003 12302 2306 2019 4654 9739 19307 4574 1010 16726 2056 4654 9739 19307 4574 2003 2019 3449 14083 8462 2099 24176 5783 1012 1016 1012 1037 14761 3973 2552 16453 2092 6994 2008 2003 12160 2135 4758 2011 1037 4834 1997 29103 2491 20470 2571 8331 3344 2306 14761 9530 8566 12762 1010 2056 9530 8566 12762 2383 17225 12788 2015 21866 4013 9048 8585 2135 1997 2056 9530 8566 12762 2000 13228 2135 3073 1037 8060 2492 2306 1037 2930 4297 28578 4765 1997 2056 9530 8566 12762 1012 1017 1012 1996 14761 3973 2552 16453 2092 6994 1997 4366 1016 16726 1996 2092 6994 8681 1037 2092 12821 2063 5308 2121 1012 1018 1012 1996 14761 3973 2552 16453 2092 6994 1997 4366 1016 16726 2056 14761 9530 8566 12762 2950 2012 2560 2028 8331 9141 2240 1012 1019 1012 1996 14761 3973 2552 16453 2092 6994 1997 4366 1016 16726 4372 2121 28660 2056 17225 12788 2015 5991 1996 4834 1997 2056 29103 2491 20470 2571 8331 8577 102\n",
      "INFO:tensorflow:input_mask: 1 1 1 1 1 1 1 1 1 1 1 1 1 1 1 1 1 1 1 1 1 1 1 1 1 1 1 1 1 1 1 1 1 1 1 1 1 1 1 1 1 1 1 1 1 1 1 1 1 1 1 1 1 1 1 1 1 1 1 1 1 1 1 1 1 1 1 1 1 1 1 1 1 1 1 1 1 1 1 1 1 1 1 1 1 1 1 1 1 1 1 1 1 1 1 1 1 1 1 1 1 1 1 1 1 1 1 1 1 1 1 1 1 1 1 1 1 1 1 1 1 1 1 1 1 1 1 1 1 1 1 1 1 1 1 1 1 1 1 1 1 1 1 1 1 1 1 1 1 1 1 1 1 1 1 1 1 1 1 1 1 1 1 1 1 1 1 1 1 1 1 1 1 1 1 1 1 1 1 1 1 1 1 1 1 1 1 1 1 1 1 1 1 1 1 1 1 1 1 1 1 1 1 1 1 1 1 1 1 1 1 1 1 1 1 1 1 1 1 1 1 1 1 1 1 1 1 1 1 1 1 1 1 1 1 1 1 1 1 1 1 1 1 1 1 1 1 1 1 1 1 1 1 1 1 1 1 1 1 1 1 1 1 1 1 1 1 1 1 1 1 1 1 1 1 1 1 1 1 1 1 1 1 1 1 1 1 1 1 1 1 1 1 1 1 1 1 1 1 1 1 1 1 1 1 1 1 1 1 1 1 1 1 1 1 1 1 1 1 1 1 1 1 1 1 1 1 1 1 1 1 1 1 1 1 1 1 1 1 1 1 1 1 1 1 1 1 1 1 1 1 1 1 1 1 1 1 1 1 1 1 1 1 1 1 1 1 1 1 1 1 1 1 1 1 1 1 1 1 1 1 1 1 1 1 1 1 1 1 1 1 1 1 1 1 1 1 1 1 1 1 1 1 1 1 1 1 1 1 1 1 1 1 1 1 1 1 1 1 1 1 1 1 1 1 1 1 1 1 1 1 1 1 1 1 1 1 1 1 1 1 1 1 1 1 1 1 1 1 1 1 1 1 1 1 1 1 1 1 1 1 1 1 1 1 1 1 1 1 1 1 1 1 1 1 1 1 1 1 1 1 1 1 1 1 1 1 1 1 1 1 1 1 1 1 1 1 1 1 1 1 1 1 1 1 1 1 1 1 1 1 1\n",
      "INFO:tensorflow:segment_ids: 0 0 0 0 0 0 0 0 0 0 0 0 0 0 0 0 0 0 0 0 0 0 0 0 0 0 0 0 0 0 0 0 0 0 0 0 0 0 0 0 0 0 0 0 0 0 0 0 0 0 0 0 0 0 0 0 0 0 0 0 0 0 0 0 0 0 0 0 0 0 0 0 0 0 0 0 0 0 0 0 0 0 0 0 0 0 0 0 0 0 0 0 0 0 0 0 0 0 0 0 0 0 0 0 0 0 0 0 0 0 0 0 0 0 0 0 0 0 0 0 0 0 0 0 0 0 0 0 0 0 0 0 0 0 0 0 0 0 0 0 0 0 0 0 0 0 0 0 0 0 0 0 0 0 0 0 0 0 0 0 0 0 0 0 0 0 0 0 0 0 0 0 0 0 0 0 0 0 0 0 0 0 0 0 0 0 0 0 0 0 0 0 0 0 0 0 0 0 0 0 0 0 0 0 0 0 0 0 0 0 0 0 0 0 0 0 0 0 0 0 0 0 0 0 0 0 0 0 0 0 0 0 0 0 0 0 0 0 0 0 0 0 0 0 0 0 0 0 0 0 0 0 0 0 0 0 0 1 1 1 1 1 1 1 1 1 1 1 1 1 1 1 1 1 1 1 1 1 1 1 1 1 1 1 1 1 1 1 1 1 1 1 1 1 1 1 1 1 1 1 1 1 1 1 1 1 1 1 1 1 1 1 1 1 1 1 1 1 1 1 1 1 1 1 1 1 1 1 1 1 1 1 1 1 1 1 1 1 1 1 1 1 1 1 1 1 1 1 1 1 1 1 1 1 1 1 1 1 1 1 1 1 1 1 1 1 1 1 1 1 1 1 1 1 1 1 1 1 1 1 1 1 1 1 1 1 1 1 1 1 1 1 1 1 1 1 1 1 1 1 1 1 1 1 1 1 1 1 1 1 1 1 1 1 1 1 1 1 1 1 1 1 1 1 1 1 1 1 1 1 1 1 1 1 1 1 1 1 1 1 1 1 1 1 1 1 1 1 1 1 1 1 1 1 1 1 1 1 1 1 1 1 1 1 1 1 1 1 1 1 1 1 1 1 1 1 1 1 1 1 1 1 1 1 1 1 1 1 1 1 1 1 1 1 1 1 1 1 1 1 1 1 1 1 1 1 1 1 1 1 1 1\n"
     ]
    },
    {
     "name": "stdout",
     "output_type": "stream",
     "text": [
      "INFO:tensorflow:label: entailment (id = 1)\n",
      "CPU times: user 1min 58s, sys: 12 ms, total: 1min 58s\n",
      "Wall time: 1min 58s\n"
     ]
    }
   ],
   "source": [
    "%%time\n",
    "\n",
    "test_fdict_all = df_to_fdicts(test_data)"
   ]
  },
  {
   "cell_type": "code",
   "execution_count": null,
   "metadata": {},
   "outputs": [],
   "source": []
  },
  {
   "cell_type": "code",
   "execution_count": 18,
   "metadata": {},
   "outputs": [
    {
     "name": "stdout",
     "output_type": "stream",
     "text": [
      "INFO:tensorflow:*** Example ***\n",
      "INFO:tensorflow:guid: 0\n",
      "INFO:tensorflow:tokens: [CLS] 1 . a rotational angle detection device for a permanent magnet dynamo - electric machine comprising : a stat ##or that includes arm ##at ##ure winding ; a rotor that includes a rotor core and a plurality of permanent magnet ##s ; and a conduct ##ive circuit that includes first conductors extending in an axial direction of the rotor and being disposed in at least two places in a ci ##rc ##um ##fer ##ential direction of the rotor , and second conductors for electrically inter ##con ##ne ##cting the first conductors , wherein , the first conductors are each disposed within one of a range of an electrical angle between & # x ##22 ##12 ; 45 & # x ##b ##0 ; and + 45 & # x ##b ##0 ; in the ci ##rc ##um ##fer ##ential direction with a magnetic pole center of each of the plurality of permanent magnet ##s being set as a reference and a range of an electrical angle between & # x ##22 ##12 ; 45 & # x ##b ##0 ; and + 45 & # x ##b ##0 ; with a position apart from the magnetic pole center by an electrical angle of 90 & # x ##b ##0 ; being set as a reference , the conduct ##ive circuit being disposed in at least one place in the ci ##rc ##um ##fer ##ential direction , the rotational angle detection device further comprising a detection means for detecting a rotational angle of the rotor by [SEP] 1 . a tangible computer - read ##able medium having stored there ##on computer - ex ##ec ##utable instructions for implementing a custom ##iza ##ble visual user interface on a screen display of a tel ##ep ##hony device comprising : an application program for providing services to a user on the tel ##ep ##hony device ; a shell program that expose ##s an application programming interface for custom ##izing the custom ##iza ##ble visual user interface ; a message center operative ##ly connected to the shell program for providing access to a user message ; and a tel ##ep ##hony module for managing tel ##ep ##hony functions , wherein the application programming interface exposed by the shell program comprises one or more methods , the application programming interface receiving input from an application , and wherein execution of the one or more methods of the application programming interface is responsive to the input from the application for custom ##izing the custom ##iza ##ble visual user interface , wherein the tel ##ep ##hony module includes an operator agent for determining a media mode of an incoming call . 2 . the computer - read ##able medium of claim 1 wherein the operator agent further hands the incoming call to the message transport based on the media mode . 3 . the computer - read ##able medium of claim 2 wherein the operator agent is implemented as a protected service library ( ps ##l ) . 4 . the computer - read ##able medium of claim [SEP]\n",
      "INFO:tensorflow:input_ids: 101 1015 1012 1037 25254 6466 10788 5080 2005 1037 4568 16853 17205 1011 3751 3698 9605 1024 1037 28093 2953 2008 2950 2849 4017 5397 12788 1025 1037 18929 2008 2950 1037 18929 4563 1998 1037 29018 1997 4568 16853 2015 1025 1998 1037 6204 3512 4984 2008 2950 2034 23396 8402 1999 2019 26819 3257 1997 1996 18929 1998 2108 21866 1999 2012 2560 2048 3182 1999 1037 25022 11890 2819 7512 24271 3257 1997 1996 18929 1010 1998 2117 23396 2005 29103 6970 8663 2638 11873 1996 2034 23396 1010 16726 1010 1996 2034 23396 2024 2169 21866 2306 2028 1997 1037 2846 1997 2019 5992 6466 2090 1004 1001 1060 19317 12521 1025 3429 1004 1001 1060 2497 2692 1025 1998 1009 3429 1004 1001 1060 2497 2692 1025 1999 1996 25022 11890 2819 7512 24271 3257 2007 1037 8060 6536 2415 1997 2169 1997 1996 29018 1997 4568 16853 2015 2108 2275 2004 1037 4431 1998 1037 2846 1997 2019 5992 6466 2090 1004 1001 1060 19317 12521 1025 3429 1004 1001 1060 2497 2692 1025 1998 1009 3429 1004 1001 1060 2497 2692 1025 2007 1037 2597 4237 2013 1996 8060 6536 2415 2011 2019 5992 6466 1997 3938 1004 1001 1060 2497 2692 1025 2108 2275 2004 1037 4431 1010 1996 6204 3512 4984 2108 21866 1999 2012 2560 2028 2173 1999 1996 25022 11890 2819 7512 24271 3257 1010 1996 25254 6466 10788 5080 2582 9605 1037 10788 2965 2005 25952 1037 25254 6466 1997 1996 18929 2011 102 1015 1012 1037 24600 3274 1011 3191 3085 5396 2383 8250 2045 2239 3274 1011 4654 8586 23056 8128 2005 14972 1037 7661 21335 3468 5107 5310 8278 2006 1037 3898 4653 1997 1037 10093 13699 27629 5080 9605 1024 2019 4646 2565 2005 4346 2578 2000 1037 5310 2006 1996 10093 13699 27629 5080 1025 1037 5806 2565 2008 14451 2015 2019 4646 4730 8278 2005 7661 6026 1996 7661 21335 3468 5107 5310 8278 1025 1037 4471 2415 12160 2135 4198 2000 1996 5806 2565 2005 4346 3229 2000 1037 5310 4471 1025 1998 1037 10093 13699 27629 11336 2005 6605 10093 13699 27629 4972 1010 16726 1996 4646 4730 8278 6086 2011 1996 5806 2565 8681 2028 2030 2062 4725 1010 1996 4646 4730 8278 4909 7953 2013 2019 4646 1010 1998 16726 7781 1997 1996 2028 2030 2062 4725 1997 1996 4646 4730 8278 2003 26651 2000 1996 7953 2013 1996 4646 2005 7661 6026 1996 7661 21335 3468 5107 5310 8278 1010 16726 1996 10093 13699 27629 11336 2950 2019 6872 4005 2005 12515 1037 2865 5549 1997 2019 14932 2655 1012 1016 1012 1996 3274 1011 3191 3085 5396 1997 4366 1015 16726 1996 6872 4005 2582 2398 1996 14932 2655 2000 1996 4471 3665 2241 2006 1996 2865 5549 1012 1017 1012 1996 3274 1011 3191 3085 5396 1997 4366 1016 16726 1996 6872 4005 2003 7528 2004 1037 5123 2326 3075 1006 8827 2140 1007 1012 1018 1012 1996 3274 1011 3191 3085 5396 1997 4366 102\n",
      "INFO:tensorflow:input_mask: 1 1 1 1 1 1 1 1 1 1 1 1 1 1 1 1 1 1 1 1 1 1 1 1 1 1 1 1 1 1 1 1 1 1 1 1 1 1 1 1 1 1 1 1 1 1 1 1 1 1 1 1 1 1 1 1 1 1 1 1 1 1 1 1 1 1 1 1 1 1 1 1 1 1 1 1 1 1 1 1 1 1 1 1 1 1 1 1 1 1 1 1 1 1 1 1 1 1 1 1 1 1 1 1 1 1 1 1 1 1 1 1 1 1 1 1 1 1 1 1 1 1 1 1 1 1 1 1 1 1 1 1 1 1 1 1 1 1 1 1 1 1 1 1 1 1 1 1 1 1 1 1 1 1 1 1 1 1 1 1 1 1 1 1 1 1 1 1 1 1 1 1 1 1 1 1 1 1 1 1 1 1 1 1 1 1 1 1 1 1 1 1 1 1 1 1 1 1 1 1 1 1 1 1 1 1 1 1 1 1 1 1 1 1 1 1 1 1 1 1 1 1 1 1 1 1 1 1 1 1 1 1 1 1 1 1 1 1 1 1 1 1 1 1 1 1 1 1 1 1 1 1 1 1 1 1 1 1 1 1 1 1 1 1 1 1 1 1 1 1 1 1 1 1 1 1 1 1 1 1 1 1 1 1 1 1 1 1 1 1 1 1 1 1 1 1 1 1 1 1 1 1 1 1 1 1 1 1 1 1 1 1 1 1 1 1 1 1 1 1 1 1 1 1 1 1 1 1 1 1 1 1 1 1 1 1 1 1 1 1 1 1 1 1 1 1 1 1 1 1 1 1 1 1 1 1 1 1 1 1 1 1 1 1 1 1 1 1 1 1 1 1 1 1 1 1 1 1 1 1 1 1 1 1 1 1 1 1 1 1 1 1 1 1 1 1 1 1 1 1 1 1 1 1 1 1 1 1 1 1 1 1 1 1 1 1 1 1 1 1 1 1 1 1 1 1 1 1 1 1 1 1 1 1 1 1 1 1 1 1 1 1 1 1 1 1 1 1 1 1 1 1 1 1 1 1 1 1 1 1 1 1 1 1 1 1 1 1 1 1 1 1 1 1 1 1 1 1 1 1 1 1 1 1 1 1 1 1 1 1 1 1 1 1 1 1 1 1 1 1 1 1 1 1 1 1 1 1 1 1 1 1\n",
      "INFO:tensorflow:segment_ids: 0 0 0 0 0 0 0 0 0 0 0 0 0 0 0 0 0 0 0 0 0 0 0 0 0 0 0 0 0 0 0 0 0 0 0 0 0 0 0 0 0 0 0 0 0 0 0 0 0 0 0 0 0 0 0 0 0 0 0 0 0 0 0 0 0 0 0 0 0 0 0 0 0 0 0 0 0 0 0 0 0 0 0 0 0 0 0 0 0 0 0 0 0 0 0 0 0 0 0 0 0 0 0 0 0 0 0 0 0 0 0 0 0 0 0 0 0 0 0 0 0 0 0 0 0 0 0 0 0 0 0 0 0 0 0 0 0 0 0 0 0 0 0 0 0 0 0 0 0 0 0 0 0 0 0 0 0 0 0 0 0 0 0 0 0 0 0 0 0 0 0 0 0 0 0 0 0 0 0 0 0 0 0 0 0 0 0 0 0 0 0 0 0 0 0 0 0 0 0 0 0 0 0 0 0 0 0 0 0 0 0 0 0 0 0 0 0 0 0 0 0 0 0 0 0 0 0 0 0 0 0 0 0 0 0 0 0 0 0 0 0 0 0 0 0 0 0 0 0 0 0 0 0 0 0 0 0 1 1 1 1 1 1 1 1 1 1 1 1 1 1 1 1 1 1 1 1 1 1 1 1 1 1 1 1 1 1 1 1 1 1 1 1 1 1 1 1 1 1 1 1 1 1 1 1 1 1 1 1 1 1 1 1 1 1 1 1 1 1 1 1 1 1 1 1 1 1 1 1 1 1 1 1 1 1 1 1 1 1 1 1 1 1 1 1 1 1 1 1 1 1 1 1 1 1 1 1 1 1 1 1 1 1 1 1 1 1 1 1 1 1 1 1 1 1 1 1 1 1 1 1 1 1 1 1 1 1 1 1 1 1 1 1 1 1 1 1 1 1 1 1 1 1 1 1 1 1 1 1 1 1 1 1 1 1 1 1 1 1 1 1 1 1 1 1 1 1 1 1 1 1 1 1 1 1 1 1 1 1 1 1 1 1 1 1 1 1 1 1 1 1 1 1 1 1 1 1 1 1 1 1 1 1 1 1 1 1 1 1 1 1 1 1 1 1 1 1 1 1 1 1 1 1 1 1 1 1 1 1 1 1 1 1 1 1 1 1 1 1 1 1 1 1 1 1 1 1 1 1 1 1 1\n",
      "INFO:tensorflow:label: not_entailment (id = 0)\n",
      "INFO:tensorflow:*** Example ***\n",
      "INFO:tensorflow:guid: 1\n",
      "INFO:tensorflow:tokens: [CLS] 1 . a method comprising : sensing electro ##card ##io ##gram ( ec ##g ) data at an ec ##g sensor system ; processing the sensed ec ##g data at the ec ##g sensor system to determine one or more noise values , wherein each noise value is indicative of a measurement of a component of the sensed ec ##g data that is potentially related to a non - heart beat source ; and sending the one or more noise values to an automated troubles ##hoot ##ing system to troubles ##hoot the ec ##g sensor system . 2 . the method of claim 1 , wherein the automated troubles ##hoot ##ing system performs an analysis of the one or more noise values and identifies a source of a particular component of the sensed ec ##g data that is related to a particular non - heart beat source based on the analysis . 3 . the method of claim 2 , further comprising , after sending the one or more noise values , receiving an input and , responsive to the input , dea ##ct ##ivating one or more circuit elements of the ec ##g sensor system to reduce the one or more noise values associated with the particular component that is related to the particular non - heart beat source . 4 . the method of claim 1 , wherein processing the sensed ec ##g data to determine the one or more noise values includes generating an estimate of power - line noise , generating [SEP] 1 . a medical system , comprising : an implant ##able device including a housing and a signal storage element enclosed in the housing , the housing forming an electrode of the device ; an implant ##able medical electrical lead including a first electrode and a second electrode , the first and second electrode ##s forming a sensing pair when the lead is coupled to the device ; and a device processor enclosed in the housing and programmed to detect noise on the sensing pair , identify the noise as system noise , and store at least one noisy e ##gm sample from the sensing pair and a concurrent e ##gm sample from each of a plurality of recording pairs in response to identifying the system noise , wherein the plurality of recording pairs includes a first pair formed by the first lead electrode and the device electrode , when the lead is coupled to the device , and a second pair formed by the second lead electrode and the device electrode , when the lead is coupled to the device . 2 . the system of claim 1 , further comprising an external device and wherein the device processor transfers each of the collected e ##gm samples to the external device for analysis . 3 . the system of claim 1 , wherein the device processor analyze ##s the e ##gm samples collected from the recording pairs to detect a presence or an absence of noise on each of the samples , and [SEP]\n"
     ]
    },
    {
     "name": "stdout",
     "output_type": "stream",
     "text": [
      "INFO:tensorflow:input_ids: 101 1015 1012 1037 4118 9605 1024 13851 16175 11522 3695 13113 1006 14925 2290 1007 2951 2012 2019 14925 2290 13617 2291 1025 6364 1996 10596 14925 2290 2951 2012 1996 14925 2290 13617 2291 2000 5646 2028 2030 2062 5005 5300 1010 16726 2169 5005 3643 2003 24668 1997 1037 10903 1997 1037 6922 1997 1996 10596 14925 2290 2951 2008 2003 9280 3141 2000 1037 2512 1011 2540 3786 3120 1025 1998 6016 1996 2028 2030 2062 5005 5300 2000 2019 12978 13460 23416 2075 2291 2000 13460 23416 1996 14925 2290 13617 2291 1012 1016 1012 1996 4118 1997 4366 1015 1010 16726 1996 12978 13460 23416 2075 2291 10438 2019 4106 1997 1996 2028 2030 2062 5005 5300 1998 14847 1037 3120 1997 1037 3327 6922 1997 1996 10596 14925 2290 2951 2008 2003 3141 2000 1037 3327 2512 1011 2540 3786 3120 2241 2006 1996 4106 1012 1017 1012 1996 4118 1997 4366 1016 1010 2582 9605 1010 2044 6016 1996 2028 2030 2062 5005 5300 1010 4909 2019 7953 1998 1010 26651 2000 1996 7953 1010 26709 6593 17441 2028 2030 2062 4984 3787 1997 1996 14925 2290 13617 2291 2000 5547 1996 2028 2030 2062 5005 5300 3378 2007 1996 3327 6922 2008 2003 3141 2000 1996 3327 2512 1011 2540 3786 3120 1012 1018 1012 1996 4118 1997 4366 1015 1010 16726 6364 1996 10596 14925 2290 2951 2000 5646 1996 2028 2030 2062 5005 5300 2950 11717 2019 10197 1997 2373 1011 2240 5005 1010 11717 102 1015 1012 1037 2966 2291 1010 9605 1024 2019 27159 3085 5080 2164 1037 3847 1998 1037 4742 5527 5783 10837 1999 1996 3847 1010 1996 3847 5716 2019 28688 1997 1996 5080 1025 2019 27159 3085 2966 5992 2599 2164 1037 2034 28688 1998 1037 2117 28688 1010 1996 2034 1998 2117 28688 2015 5716 1037 13851 3940 2043 1996 2599 2003 11211 2000 1996 5080 1025 1998 1037 5080 13151 10837 1999 1996 3847 1998 16984 2000 11487 5005 2006 1996 13851 3940 1010 6709 1996 5005 2004 2291 5005 1010 1998 3573 2012 2560 2028 20810 1041 21693 7099 2013 1996 13851 3940 1998 1037 16483 1041 21693 7099 2013 2169 1997 1037 29018 1997 3405 7689 1999 3433 2000 12151 1996 2291 5005 1010 16726 1996 29018 1997 3405 7689 2950 1037 2034 3940 2719 2011 1996 2034 2599 28688 1998 1996 5080 28688 1010 2043 1996 2599 2003 11211 2000 1996 5080 1010 1998 1037 2117 3940 2719 2011 1996 2117 2599 28688 1998 1996 5080 28688 1010 2043 1996 2599 2003 11211 2000 1996 5080 1012 1016 1012 1996 2291 1997 4366 1015 1010 2582 9605 2019 6327 5080 1998 16726 1996 5080 13151 15210 2169 1997 1996 5067 1041 21693 8168 2000 1996 6327 5080 2005 4106 1012 1017 1012 1996 2291 1997 4366 1015 1010 16726 1996 5080 13151 17908 2015 1996 1041 21693 8168 5067 2013 1996 3405 7689 2000 11487 1037 3739 2030 2019 6438 1997 5005 2006 2169 1997 1996 8168 1010 1998 102\n",
      "INFO:tensorflow:input_mask: 1 1 1 1 1 1 1 1 1 1 1 1 1 1 1 1 1 1 1 1 1 1 1 1 1 1 1 1 1 1 1 1 1 1 1 1 1 1 1 1 1 1 1 1 1 1 1 1 1 1 1 1 1 1 1 1 1 1 1 1 1 1 1 1 1 1 1 1 1 1 1 1 1 1 1 1 1 1 1 1 1 1 1 1 1 1 1 1 1 1 1 1 1 1 1 1 1 1 1 1 1 1 1 1 1 1 1 1 1 1 1 1 1 1 1 1 1 1 1 1 1 1 1 1 1 1 1 1 1 1 1 1 1 1 1 1 1 1 1 1 1 1 1 1 1 1 1 1 1 1 1 1 1 1 1 1 1 1 1 1 1 1 1 1 1 1 1 1 1 1 1 1 1 1 1 1 1 1 1 1 1 1 1 1 1 1 1 1 1 1 1 1 1 1 1 1 1 1 1 1 1 1 1 1 1 1 1 1 1 1 1 1 1 1 1 1 1 1 1 1 1 1 1 1 1 1 1 1 1 1 1 1 1 1 1 1 1 1 1 1 1 1 1 1 1 1 1 1 1 1 1 1 1 1 1 1 1 1 1 1 1 1 1 1 1 1 1 1 1 1 1 1 1 1 1 1 1 1 1 1 1 1 1 1 1 1 1 1 1 1 1 1 1 1 1 1 1 1 1 1 1 1 1 1 1 1 1 1 1 1 1 1 1 1 1 1 1 1 1 1 1 1 1 1 1 1 1 1 1 1 1 1 1 1 1 1 1 1 1 1 1 1 1 1 1 1 1 1 1 1 1 1 1 1 1 1 1 1 1 1 1 1 1 1 1 1 1 1 1 1 1 1 1 1 1 1 1 1 1 1 1 1 1 1 1 1 1 1 1 1 1 1 1 1 1 1 1 1 1 1 1 1 1 1 1 1 1 1 1 1 1 1 1 1 1 1 1 1 1 1 1 1 1 1 1 1 1 1 1 1 1 1 1 1 1 1 1 1 1 1 1 1 1 1 1 1 1 1 1 1 1 1 1 1 1 1 1 1 1 1 1 1 1 1 1 1 1 1 1 1 1 1 1 1 1 1 1 1 1 1 1 1 1 1 1 1 1 1 1 1 1 1 1 1 1 1 1 1 1 1 1 1 1 1 1 1 1 1 1 1 1 1\n",
      "INFO:tensorflow:segment_ids: 0 0 0 0 0 0 0 0 0 0 0 0 0 0 0 0 0 0 0 0 0 0 0 0 0 0 0 0 0 0 0 0 0 0 0 0 0 0 0 0 0 0 0 0 0 0 0 0 0 0 0 0 0 0 0 0 0 0 0 0 0 0 0 0 0 0 0 0 0 0 0 0 0 0 0 0 0 0 0 0 0 0 0 0 0 0 0 0 0 0 0 0 0 0 0 0 0 0 0 0 0 0 0 0 0 0 0 0 0 0 0 0 0 0 0 0 0 0 0 0 0 0 0 0 0 0 0 0 0 0 0 0 0 0 0 0 0 0 0 0 0 0 0 0 0 0 0 0 0 0 0 0 0 0 0 0 0 0 0 0 0 0 0 0 0 0 0 0 0 0 0 0 0 0 0 0 0 0 0 0 0 0 0 0 0 0 0 0 0 0 0 0 0 0 0 0 0 0 0 0 0 0 0 0 0 0 0 0 0 0 0 0 0 0 0 0 0 0 0 0 0 0 0 0 0 0 0 0 0 0 0 0 0 0 0 0 0 0 0 0 0 0 0 0 0 0 0 0 0 0 0 0 0 0 0 0 0 1 1 1 1 1 1 1 1 1 1 1 1 1 1 1 1 1 1 1 1 1 1 1 1 1 1 1 1 1 1 1 1 1 1 1 1 1 1 1 1 1 1 1 1 1 1 1 1 1 1 1 1 1 1 1 1 1 1 1 1 1 1 1 1 1 1 1 1 1 1 1 1 1 1 1 1 1 1 1 1 1 1 1 1 1 1 1 1 1 1 1 1 1 1 1 1 1 1 1 1 1 1 1 1 1 1 1 1 1 1 1 1 1 1 1 1 1 1 1 1 1 1 1 1 1 1 1 1 1 1 1 1 1 1 1 1 1 1 1 1 1 1 1 1 1 1 1 1 1 1 1 1 1 1 1 1 1 1 1 1 1 1 1 1 1 1 1 1 1 1 1 1 1 1 1 1 1 1 1 1 1 1 1 1 1 1 1 1 1 1 1 1 1 1 1 1 1 1 1 1 1 1 1 1 1 1 1 1 1 1 1 1 1 1 1 1 1 1 1 1 1 1 1 1 1 1 1 1 1 1 1 1 1 1 1 1 1 1 1 1 1 1 1 1 1 1 1 1 1 1 1 1 1 1 1\n",
      "INFO:tensorflow:label: entailment (id = 1)\n",
      "INFO:tensorflow:*** Example ***\n",
      "INFO:tensorflow:guid: 2\n",
      "INFO:tensorflow:tokens: [CLS] 1 . a system for controlling temperature inside a machine cab defining an interior and an exterior , the system comprising : a blow ##er fan configured to be coupled to the exterior of the cab ; an eva ##por ##ator configured to be coupled to the exterior of the cab at a location separated from the blow ##er fan ; and a duct configured to be coupled to the blow ##er fan and the eva ##por ##ator such that the duct extends between the blow ##er fan and the eva ##por ##ator . 2 . the system of claim 1 , wherein the cab defines a rear end and an underside , and wherein the blow ##er fan is configured to be coupled to the rear end of the cab , and the eva ##por ##ator is configured to be coupled to the underside of the cab . 3 . the system of claim 1 , wherein the duct has an increasing cross - sectional area as it extends from the blow ##er fan to the eva ##por ##ator . 4 . the system of claim 1 , wherein the eva ##por ##ator includes an eva ##por ##ator coil . 5 . the system of claim 1 , further including a pl ##en ##um including a first inlet configured to receive air from the interior of the cab and a second inlet configured to receive air from the exterior of the cab . 6 . the system of claim 5 , further including a [SEP] 1 . an integrated differential receiver for an input / output pad comprising : a single gate oxide differential receiver that receives an input voltage ; a switch ##able voltage supply circuit operative ##ly coupled to the single gate oxide differential receiver , switch ##able through at least one control signal , that indicates an input signal voltage range , to select at least one differential receiver supply voltage , from a plurality of supply voltage ##s during normal operating mode , for the single gate oxide differential receiver wherein at least one of the selected receiver supply voltage ##s is higher than a maximum voltage level of the input voltage indicated by the control signal ; and wherein the switch ##able voltage supply circuit is operative ##ly responsive to at least two control signals . 2 . the receiver of claim 1 wherein the switch ##able voltage supply circuit is coupled to the plurality of supply voltage ##s that include at least an input / output pad supply voltage and a higher reference supply voltage and selects the differential receiver supply voltage that is higher voltage than the i / o pad supply voltage . 3 . the receiver of claim 1 wherein the receiver generates an output signal to circuit ##ry for a video graphics processor . 4 . the receiver of claim 1 wherein the differential receiver receives a first reference voltage on a first differential input voltage on a second differential input and wherein the switch ##able voltage supply circuit [SEP]\n",
      "INFO:tensorflow:input_ids: 101 1015 1012 1037 2291 2005 9756 4860 2503 1037 3698 9298 12854 2019 4592 1998 2019 8829 1010 1996 2291 9605 1024 1037 6271 2121 5470 26928 2000 2022 11211 2000 1996 8829 1997 1996 9298 1025 2019 9345 17822 8844 26928 2000 2022 11211 2000 1996 8829 1997 1996 9298 2012 1037 3295 5459 2013 1996 6271 2121 5470 1025 1998 1037 23245 26928 2000 2022 11211 2000 1996 6271 2121 5470 1998 1996 9345 17822 8844 2107 2008 1996 23245 8908 2090 1996 6271 2121 5470 1998 1996 9345 17822 8844 1012 1016 1012 1996 2291 1997 4366 1015 1010 16726 1996 9298 11859 1037 4373 2203 1998 2019 17313 1010 1998 16726 1996 6271 2121 5470 2003 26928 2000 2022 11211 2000 1996 4373 2203 1997 1996 9298 1010 1998 1996 9345 17822 8844 2003 26928 2000 2022 11211 2000 1996 17313 1997 1996 9298 1012 1017 1012 1996 2291 1997 4366 1015 1010 16726 1996 23245 2038 2019 4852 2892 1011 27197 2181 2004 2009 8908 2013 1996 6271 2121 5470 2000 1996 9345 17822 8844 1012 1018 1012 1996 2291 1997 4366 1015 1010 16726 1996 9345 17822 8844 2950 2019 9345 17822 8844 17085 1012 1019 1012 1996 2291 1997 4366 1015 1010 2582 2164 1037 20228 2368 2819 2164 1037 2034 15824 26928 2000 4374 2250 2013 1996 4592 1997 1996 9298 1998 1037 2117 15824 26928 2000 4374 2250 2013 1996 8829 1997 1996 9298 1012 1020 1012 1996 2291 1997 4366 1019 1010 2582 2164 1037 102 1015 1012 2019 6377 11658 8393 2005 2019 7953 1013 6434 11687 9605 1024 1037 2309 4796 15772 11658 8393 2008 8267 2019 7953 10004 1025 1037 6942 3085 10004 4425 4984 12160 2135 11211 2000 1996 2309 4796 15772 11658 8393 1010 6942 3085 2083 2012 2560 2028 2491 4742 1010 2008 7127 2019 7953 4742 10004 2846 1010 2000 7276 2012 2560 2028 11658 8393 4425 10004 1010 2013 1037 29018 1997 4425 10004 2015 2076 3671 4082 5549 1010 2005 1996 2309 4796 15772 11658 8393 16726 2012 2560 2028 1997 1996 3479 8393 4425 10004 2015 2003 3020 2084 1037 4555 10004 2504 1997 1996 7953 10004 5393 2011 1996 2491 4742 1025 1998 16726 1996 6942 3085 10004 4425 4984 2003 12160 2135 26651 2000 2012 2560 2048 2491 7755 1012 1016 1012 1996 8393 1997 4366 1015 16726 1996 6942 3085 10004 4425 4984 2003 11211 2000 1996 29018 1997 4425 10004 2015 2008 2421 2012 2560 2019 7953 1013 6434 11687 4425 10004 1998 1037 3020 4431 4425 10004 1998 27034 1996 11658 8393 4425 10004 2008 2003 3020 10004 2084 1996 1045 1013 1051 11687 4425 10004 1012 1017 1012 1996 8393 1997 4366 1015 16726 1996 8393 19421 2019 6434 4742 2000 4984 2854 2005 1037 2678 8389 13151 1012 1018 1012 1996 8393 1997 4366 1015 16726 1996 11658 8393 8267 1037 2034 4431 10004 2006 1037 2034 11658 7953 10004 2006 1037 2117 11658 7953 1998 16726 1996 6942 3085 10004 4425 4984 102\n"
     ]
    },
    {
     "name": "stdout",
     "output_type": "stream",
     "text": [
      "INFO:tensorflow:input_mask: 1 1 1 1 1 1 1 1 1 1 1 1 1 1 1 1 1 1 1 1 1 1 1 1 1 1 1 1 1 1 1 1 1 1 1 1 1 1 1 1 1 1 1 1 1 1 1 1 1 1 1 1 1 1 1 1 1 1 1 1 1 1 1 1 1 1 1 1 1 1 1 1 1 1 1 1 1 1 1 1 1 1 1 1 1 1 1 1 1 1 1 1 1 1 1 1 1 1 1 1 1 1 1 1 1 1 1 1 1 1 1 1 1 1 1 1 1 1 1 1 1 1 1 1 1 1 1 1 1 1 1 1 1 1 1 1 1 1 1 1 1 1 1 1 1 1 1 1 1 1 1 1 1 1 1 1 1 1 1 1 1 1 1 1 1 1 1 1 1 1 1 1 1 1 1 1 1 1 1 1 1 1 1 1 1 1 1 1 1 1 1 1 1 1 1 1 1 1 1 1 1 1 1 1 1 1 1 1 1 1 1 1 1 1 1 1 1 1 1 1 1 1 1 1 1 1 1 1 1 1 1 1 1 1 1 1 1 1 1 1 1 1 1 1 1 1 1 1 1 1 1 1 1 1 1 1 1 1 1 1 1 1 1 1 1 1 1 1 1 1 1 1 1 1 1 1 1 1 1 1 1 1 1 1 1 1 1 1 1 1 1 1 1 1 1 1 1 1 1 1 1 1 1 1 1 1 1 1 1 1 1 1 1 1 1 1 1 1 1 1 1 1 1 1 1 1 1 1 1 1 1 1 1 1 1 1 1 1 1 1 1 1 1 1 1 1 1 1 1 1 1 1 1 1 1 1 1 1 1 1 1 1 1 1 1 1 1 1 1 1 1 1 1 1 1 1 1 1 1 1 1 1 1 1 1 1 1 1 1 1 1 1 1 1 1 1 1 1 1 1 1 1 1 1 1 1 1 1 1 1 1 1 1 1 1 1 1 1 1 1 1 1 1 1 1 1 1 1 1 1 1 1 1 1 1 1 1 1 1 1 1 1 1 1 1 1 1 1 1 1 1 1 1 1 1 1 1 1 1 1 1 1 1 1 1 1 1 1 1 1 1 1 1 1 1 1 1 1 1 1 1 1 1 1 1 1 1 1 1 1 1 1 1 1 1 1 1 1 1 1 1 1 1 1 1 1 1 1 1 1 1 1\n",
      "INFO:tensorflow:segment_ids: 0 0 0 0 0 0 0 0 0 0 0 0 0 0 0 0 0 0 0 0 0 0 0 0 0 0 0 0 0 0 0 0 0 0 0 0 0 0 0 0 0 0 0 0 0 0 0 0 0 0 0 0 0 0 0 0 0 0 0 0 0 0 0 0 0 0 0 0 0 0 0 0 0 0 0 0 0 0 0 0 0 0 0 0 0 0 0 0 0 0 0 0 0 0 0 0 0 0 0 0 0 0 0 0 0 0 0 0 0 0 0 0 0 0 0 0 0 0 0 0 0 0 0 0 0 0 0 0 0 0 0 0 0 0 0 0 0 0 0 0 0 0 0 0 0 0 0 0 0 0 0 0 0 0 0 0 0 0 0 0 0 0 0 0 0 0 0 0 0 0 0 0 0 0 0 0 0 0 0 0 0 0 0 0 0 0 0 0 0 0 0 0 0 0 0 0 0 0 0 0 0 0 0 0 0 0 0 0 0 0 0 0 0 0 0 0 0 0 0 0 0 0 0 0 0 0 0 0 0 0 0 0 0 0 0 0 0 0 0 0 0 0 0 0 0 0 0 0 0 0 0 0 0 0 0 0 0 1 1 1 1 1 1 1 1 1 1 1 1 1 1 1 1 1 1 1 1 1 1 1 1 1 1 1 1 1 1 1 1 1 1 1 1 1 1 1 1 1 1 1 1 1 1 1 1 1 1 1 1 1 1 1 1 1 1 1 1 1 1 1 1 1 1 1 1 1 1 1 1 1 1 1 1 1 1 1 1 1 1 1 1 1 1 1 1 1 1 1 1 1 1 1 1 1 1 1 1 1 1 1 1 1 1 1 1 1 1 1 1 1 1 1 1 1 1 1 1 1 1 1 1 1 1 1 1 1 1 1 1 1 1 1 1 1 1 1 1 1 1 1 1 1 1 1 1 1 1 1 1 1 1 1 1 1 1 1 1 1 1 1 1 1 1 1 1 1 1 1 1 1 1 1 1 1 1 1 1 1 1 1 1 1 1 1 1 1 1 1 1 1 1 1 1 1 1 1 1 1 1 1 1 1 1 1 1 1 1 1 1 1 1 1 1 1 1 1 1 1 1 1 1 1 1 1 1 1 1 1 1 1 1 1 1 1 1 1 1 1 1 1 1 1 1 1 1 1 1 1 1 1 1 1\n",
      "INFO:tensorflow:label: not_entailment (id = 0)\n",
      "INFO:tensorflow:*** Example ***\n",
      "INFO:tensorflow:guid: 3\n",
      "INFO:tensorflow:tokens: [CLS] 1 . a recording apparatus for recording updated data onto a re ##wr ##ita ##ble portable recording medium on which original data has been copied from a read - only recording medium , the original data including first stream data , the updated data including second stream data , and the updated data to be combined virtually with the original data to form a virtual package , the recording apparatus comprising : a data storage unit that stores there ##in the updated data and mapping information indicating a path of the updated data in the virtual package ; a determination unit opera ##ble to perform path col ##lation to determine , from the mapping information , whether a path to the second stream data in the virtual package matches a path to the first stream data on the portable recording medium ; a recording control unit opera ##ble to issue an instruction to write the updated data onto the portable recording medium , and when a result of the path col ##lation is affirmative , to issue an instruction to del ##ete the first stream data from the portable recording medium , and a data recording unit opera ##ble to write and del ##ete data in response to the instructions from the recording control unit . 2 . the recording apparatus of claim 1 wherein ##the mapping information includes information indicating whether the second stream data is missing data that is data to be downloaded from a server apparatus on a network during or before [SEP] 1 . a method for indicating a priority of a voice over internet protocol ( vo ##ip ) call , comprising : receiving a dialed number for a connection ; generating a call setup request including the dialed number ; receiving a caller - specified priority for the call based on a caller input provided con ##tem ##por ##aneous ##ly with the dialed number , wherein the priority is independent of a call recipient ; access ##ing a rule base to valid ##ate the priority ; generating a priority indicator based on the priority ; ne ##gating the priority indicator if determined invalid based on the rule base ; and transmitting the call setup request and priority indicator . 2 . the method of claim 1 , wherein the priority indicator is an information element ( ie ) . 3 . the method of claim 2 , further comprising : receiving an alert ##ing phrase from a user ; and transmitting the alert ##ing phrase with the priority indicator . 4 . the method of claim 1 , wherein the priority is high . 5 . the method of claim 1 , wherein the priority is low . 6 . the method of claim 1 , wherein the caller input is received after the call setup request has been transmitted . 7 . the method of claim 1 , wherein the caller input is received as a prefix to the dialed number . 8 . the method of claim 1 , further comprising generating [SEP]\n",
      "INFO:tensorflow:input_ids: 101 1015 1012 1037 3405 14709 2005 3405 7172 2951 3031 1037 2128 13088 6590 3468 12109 3405 5396 2006 2029 2434 2951 2038 2042 15826 2013 1037 3191 1011 2069 3405 5396 1010 1996 2434 2951 2164 2034 5460 2951 1010 1996 7172 2951 2164 2117 5460 2951 1010 1998 1996 7172 2951 2000 2022 4117 8990 2007 1996 2434 2951 2000 2433 1037 7484 7427 1010 1996 3405 14709 9605 1024 1037 2951 5527 3131 2008 5324 2045 2378 1996 7172 2951 1998 12375 2592 8131 1037 4130 1997 1996 7172 2951 1999 1996 7484 7427 1025 1037 9128 3131 3850 3468 2000 4685 4130 8902 13490 2000 5646 1010 2013 1996 12375 2592 1010 3251 1037 4130 2000 1996 2117 5460 2951 1999 1996 7484 7427 3503 1037 4130 2000 1996 2034 5460 2951 2006 1996 12109 3405 5396 1025 1037 3405 2491 3131 3850 3468 2000 3277 2019 7899 2000 4339 1996 7172 2951 3031 1996 12109 3405 5396 1010 1998 2043 1037 2765 1997 1996 4130 8902 13490 2003 27352 1010 2000 3277 2019 7899 2000 3972 12870 1996 2034 5460 2951 2013 1996 12109 3405 5396 1010 1998 1037 2951 3405 3131 3850 3468 2000 4339 1998 3972 12870 2951 1999 3433 2000 1996 8128 2013 1996 3405 2491 3131 1012 1016 1012 1996 3405 14709 1997 4366 1015 16726 10760 12375 2592 2950 2592 8131 3251 1996 2117 5460 2951 2003 4394 2951 2008 2003 2951 2000 2022 22817 2013 1037 8241 14709 2006 1037 2897 2076 2030 2077 102 1015 1012 1037 4118 2005 8131 1037 9470 1997 1037 2376 2058 4274 8778 1006 29536 11514 1007 2655 1010 9605 1024 4909 1037 21300 2193 2005 1037 4434 1025 11717 1037 2655 16437 5227 2164 1996 21300 2193 1025 4909 1037 20587 1011 9675 9470 2005 1996 2655 2241 2006 1037 20587 7953 3024 9530 18532 17822 17191 2135 2007 1996 21300 2193 1010 16726 1996 9470 2003 2981 1997 1037 2655 7799 1025 3229 2075 1037 3627 2918 2000 9398 3686 1996 9470 1025 11717 1037 9470 17245 2241 2006 1996 9470 1025 11265 16961 1996 9470 17245 2065 4340 19528 2241 2006 1996 3627 2918 1025 1998 23820 1996 2655 16437 5227 1998 9470 17245 1012 1016 1012 1996 4118 1997 4366 1015 1010 16726 1996 9470 17245 2003 2019 2592 5783 1006 29464 1007 1012 1017 1012 1996 4118 1997 4366 1016 1010 2582 9605 1024 4909 2019 9499 2075 7655 2013 1037 5310 1025 1998 23820 1996 9499 2075 7655 2007 1996 9470 17245 1012 1018 1012 1996 4118 1997 4366 1015 1010 16726 1996 9470 2003 2152 1012 1019 1012 1996 4118 1997 4366 1015 1010 16726 1996 9470 2003 2659 1012 1020 1012 1996 4118 1997 4366 1015 1010 16726 1996 20587 7953 2003 2363 2044 1996 2655 16437 5227 2038 2042 11860 1012 1021 1012 1996 4118 1997 4366 1015 1010 16726 1996 20587 7953 2003 2363 2004 1037 17576 2000 1996 21300 2193 1012 1022 1012 1996 4118 1997 4366 1015 1010 2582 9605 11717 102\n",
      "INFO:tensorflow:input_mask: 1 1 1 1 1 1 1 1 1 1 1 1 1 1 1 1 1 1 1 1 1 1 1 1 1 1 1 1 1 1 1 1 1 1 1 1 1 1 1 1 1 1 1 1 1 1 1 1 1 1 1 1 1 1 1 1 1 1 1 1 1 1 1 1 1 1 1 1 1 1 1 1 1 1 1 1 1 1 1 1 1 1 1 1 1 1 1 1 1 1 1 1 1 1 1 1 1 1 1 1 1 1 1 1 1 1 1 1 1 1 1 1 1 1 1 1 1 1 1 1 1 1 1 1 1 1 1 1 1 1 1 1 1 1 1 1 1 1 1 1 1 1 1 1 1 1 1 1 1 1 1 1 1 1 1 1 1 1 1 1 1 1 1 1 1 1 1 1 1 1 1 1 1 1 1 1 1 1 1 1 1 1 1 1 1 1 1 1 1 1 1 1 1 1 1 1 1 1 1 1 1 1 1 1 1 1 1 1 1 1 1 1 1 1 1 1 1 1 1 1 1 1 1 1 1 1 1 1 1 1 1 1 1 1 1 1 1 1 1 1 1 1 1 1 1 1 1 1 1 1 1 1 1 1 1 1 1 1 1 1 1 1 1 1 1 1 1 1 1 1 1 1 1 1 1 1 1 1 1 1 1 1 1 1 1 1 1 1 1 1 1 1 1 1 1 1 1 1 1 1 1 1 1 1 1 1 1 1 1 1 1 1 1 1 1 1 1 1 1 1 1 1 1 1 1 1 1 1 1 1 1 1 1 1 1 1 1 1 1 1 1 1 1 1 1 1 1 1 1 1 1 1 1 1 1 1 1 1 1 1 1 1 1 1 1 1 1 1 1 1 1 1 1 1 1 1 1 1 1 1 1 1 1 1 1 1 1 1 1 1 1 1 1 1 1 1 1 1 1 1 1 1 1 1 1 1 1 1 1 1 1 1 1 1 1 1 1 1 1 1 1 1 1 1 1 1 1 1 1 1 1 1 1 1 1 1 1 1 1 1 1 1 1 1 1 1 1 1 1 1 1 1 1 1 1 1 1 1 1 1 1 1 1 1 1 1 1 1 1 1 1 1 1 1 1 1 1 1 1 1 1 1 1 1 1 1 1 1 1 1 1 1 1 1 1 1 1 1 1 1 1 1 1 1 1 1 1 1 1 1 1 1\n"
     ]
    },
    {
     "name": "stdout",
     "output_type": "stream",
     "text": [
      "INFO:tensorflow:segment_ids: 0 0 0 0 0 0 0 0 0 0 0 0 0 0 0 0 0 0 0 0 0 0 0 0 0 0 0 0 0 0 0 0 0 0 0 0 0 0 0 0 0 0 0 0 0 0 0 0 0 0 0 0 0 0 0 0 0 0 0 0 0 0 0 0 0 0 0 0 0 0 0 0 0 0 0 0 0 0 0 0 0 0 0 0 0 0 0 0 0 0 0 0 0 0 0 0 0 0 0 0 0 0 0 0 0 0 0 0 0 0 0 0 0 0 0 0 0 0 0 0 0 0 0 0 0 0 0 0 0 0 0 0 0 0 0 0 0 0 0 0 0 0 0 0 0 0 0 0 0 0 0 0 0 0 0 0 0 0 0 0 0 0 0 0 0 0 0 0 0 0 0 0 0 0 0 0 0 0 0 0 0 0 0 0 0 0 0 0 0 0 0 0 0 0 0 0 0 0 0 0 0 0 0 0 0 0 0 0 0 0 0 0 0 0 0 0 0 0 0 0 0 0 0 0 0 0 0 0 0 0 0 0 0 0 0 0 0 0 0 0 0 0 0 0 0 0 0 0 0 0 0 0 0 0 0 0 0 1 1 1 1 1 1 1 1 1 1 1 1 1 1 1 1 1 1 1 1 1 1 1 1 1 1 1 1 1 1 1 1 1 1 1 1 1 1 1 1 1 1 1 1 1 1 1 1 1 1 1 1 1 1 1 1 1 1 1 1 1 1 1 1 1 1 1 1 1 1 1 1 1 1 1 1 1 1 1 1 1 1 1 1 1 1 1 1 1 1 1 1 1 1 1 1 1 1 1 1 1 1 1 1 1 1 1 1 1 1 1 1 1 1 1 1 1 1 1 1 1 1 1 1 1 1 1 1 1 1 1 1 1 1 1 1 1 1 1 1 1 1 1 1 1 1 1 1 1 1 1 1 1 1 1 1 1 1 1 1 1 1 1 1 1 1 1 1 1 1 1 1 1 1 1 1 1 1 1 1 1 1 1 1 1 1 1 1 1 1 1 1 1 1 1 1 1 1 1 1 1 1 1 1 1 1 1 1 1 1 1 1 1 1 1 1 1 1 1 1 1 1 1 1 1 1 1 1 1 1 1 1 1 1 1 1 1 1 1 1 1 1 1 1 1 1 1 1 1 1 1 1 1 1 1\n",
      "INFO:tensorflow:label: not_entailment (id = 0)\n",
      "INFO:tensorflow:*** Example ***\n",
      "INFO:tensorflow:guid: 4\n",
      "INFO:tensorflow:tokens: [CLS] 1 . apparatus for moving a material within an enclosure comprising : a field - responsive fluid including a plurality of particles suspended in a base fluid , the field - responsive fluid disposed in the enclosure ; a field generating source which generates a field in response to which at least some of the plurality of particles align , the field being moved relative to the enclosure and thereby cause the align ed particles to move within the enclosure , the material moving in response to contact with the moving particles . 2 . the apparatus of claim 1 wherein the field - responsive fluid is selected from the group consisting of : magnet ##or ##he ##ological fluid and electro ##rh ##eo ##logical fluid . 3 . the apparatus of claim 1 wherein the field is represented by lines of flux , the particles align ##ing parallel to the lines of flux , and moving with the lines of flux . 4 . the apparatus of claim 1 wherein the material is a non - magnetic object . 5 . the apparatus of claim 1 wherein the material is a die ##le ##ctric . 6 . the apparatus of claim 1 wherein the material is fluid disposed between chains of aligned particles . 7 . the apparatus of claim 1 wherein the field is applied to the particles at a starting position , causing at least some of the particles to align and form chains , the applied field is moved relative to the [SEP] 1 . a well ##bor ##e pack ##er having an expand ##able packing element for sealing a well ann ##ulus , an act ##ua ##tor for expanding said packing element into operative engagement across said ann ##ulus and an electrically control ##lab ##le fluid for controlling the operation of said act ##ua ##tor , wherein said electrically control ##lab ##le fluid is en ##er ##gi ##zed by a magnetic field to expand said packing element , wherein said control ##lab ##le fluid is confined within an ex ##pan ##sible chamber , wherein said ex ##pan ##sible chamber is an el ##ast ##ome ##r bladder element . 2 . a hydraulic ##ally act ##uated well tool that is operative ##ly controlled by a flow of electrically control ##lab ##le fluid carried within hydraulic con ##du ##its , said con ##du ##its having electromagnetic winding ##s disposed pro ##xi ##mate ##ly of said con ##du ##its to selective ##ly provide a magnetic field within a section inc ##rem ##ent of said con ##du ##its . 3 . the hydraulic ##ally act ##uated well tool of claim 2 wherein the well tool comprises a well ##bor ##e pack ##er . 4 . the hydraulic ##ally act ##uated well tool of claim 2 wherein said hydraulic con ##du ##its includes at least one fluid circulation line . 5 . the hydraulic ##ally act ##uated well tool of claim 2 wherein en ##er ##gizing said electromagnetic winding ##s blocks the flow of said electrically control ##lab ##le fluid flowing [SEP]\n",
      "INFO:tensorflow:input_ids: 101 1015 1012 14709 2005 3048 1037 3430 2306 2019 17539 9605 1024 1037 2492 1011 26651 8331 2164 1037 29018 1997 9309 6731 1999 1037 2918 8331 1010 1996 2492 1011 26651 8331 21866 1999 1996 17539 1025 1037 2492 11717 3120 2029 19421 1037 2492 1999 3433 2000 2029 2012 2560 2070 1997 1996 29018 1997 9309 25705 1010 1996 2492 2108 2333 5816 2000 1996 17539 1998 8558 3426 1996 25705 3968 9309 2000 2693 2306 1996 17539 1010 1996 3430 3048 1999 3433 2000 3967 2007 1996 3048 9309 1012 1016 1012 1996 14709 1997 4366 1015 16726 1996 2492 1011 26651 8331 2003 3479 2013 1996 2177 5398 1997 1024 16853 2953 5369 10091 8331 1998 16175 25032 8780 9966 8331 1012 1017 1012 1996 14709 1997 4366 1015 16726 1996 2492 2003 3421 2011 3210 1997 19251 1010 1996 9309 25705 2075 5903 2000 1996 3210 1997 19251 1010 1998 3048 2007 1996 3210 1997 19251 1012 1018 1012 1996 14709 1997 4366 1015 16726 1996 3430 2003 1037 2512 1011 8060 4874 1012 1019 1012 1996 14709 1997 4366 1015 16726 1996 3430 2003 1037 3280 2571 22601 1012 1020 1012 1996 14709 1997 4366 1015 16726 1996 3430 2003 8331 21866 2090 8859 1997 13115 9309 1012 1021 1012 1996 14709 1997 4366 1015 16726 1996 2492 2003 4162 2000 1996 9309 2012 1037 3225 2597 1010 4786 2012 2560 2070 1997 1996 9309 2000 25705 1998 2433 8859 1010 1996 4162 2492 2003 2333 5816 2000 1996 102 1015 1012 1037 2092 12821 2063 5308 2121 2383 2019 7818 3085 14743 5783 2005 23038 1037 2092 5754 11627 1010 2019 2552 6692 4263 2005 9186 2056 14743 5783 2046 12160 8147 2408 2056 5754 11627 1998 2019 29103 2491 20470 2571 8331 2005 9756 1996 3169 1997 2056 2552 6692 4263 1010 16726 2056 29103 2491 20470 2571 8331 2003 4372 2121 5856 5422 2011 1037 8060 2492 2000 7818 2056 14743 5783 1010 16726 2056 2491 20470 2571 8331 2003 12302 2306 2019 4654 9739 19307 4574 1010 16726 2056 4654 9739 19307 4574 2003 2019 3449 14083 8462 2099 24176 5783 1012 1016 1012 1037 14761 3973 2552 16453 2092 6994 2008 2003 12160 2135 4758 2011 1037 4834 1997 29103 2491 20470 2571 8331 3344 2306 14761 9530 8566 12762 1010 2056 9530 8566 12762 2383 17225 12788 2015 21866 4013 9048 8585 2135 1997 2056 9530 8566 12762 2000 13228 2135 3073 1037 8060 2492 2306 1037 2930 4297 28578 4765 1997 2056 9530 8566 12762 1012 1017 1012 1996 14761 3973 2552 16453 2092 6994 1997 4366 1016 16726 1996 2092 6994 8681 1037 2092 12821 2063 5308 2121 1012 1018 1012 1996 14761 3973 2552 16453 2092 6994 1997 4366 1016 16726 2056 14761 9530 8566 12762 2950 2012 2560 2028 8331 9141 2240 1012 1019 1012 1996 14761 3973 2552 16453 2092 6994 1997 4366 1016 16726 4372 2121 28660 2056 17225 12788 2015 5991 1996 4834 1997 2056 29103 2491 20470 2571 8331 8577 102\n",
      "INFO:tensorflow:input_mask: 1 1 1 1 1 1 1 1 1 1 1 1 1 1 1 1 1 1 1 1 1 1 1 1 1 1 1 1 1 1 1 1 1 1 1 1 1 1 1 1 1 1 1 1 1 1 1 1 1 1 1 1 1 1 1 1 1 1 1 1 1 1 1 1 1 1 1 1 1 1 1 1 1 1 1 1 1 1 1 1 1 1 1 1 1 1 1 1 1 1 1 1 1 1 1 1 1 1 1 1 1 1 1 1 1 1 1 1 1 1 1 1 1 1 1 1 1 1 1 1 1 1 1 1 1 1 1 1 1 1 1 1 1 1 1 1 1 1 1 1 1 1 1 1 1 1 1 1 1 1 1 1 1 1 1 1 1 1 1 1 1 1 1 1 1 1 1 1 1 1 1 1 1 1 1 1 1 1 1 1 1 1 1 1 1 1 1 1 1 1 1 1 1 1 1 1 1 1 1 1 1 1 1 1 1 1 1 1 1 1 1 1 1 1 1 1 1 1 1 1 1 1 1 1 1 1 1 1 1 1 1 1 1 1 1 1 1 1 1 1 1 1 1 1 1 1 1 1 1 1 1 1 1 1 1 1 1 1 1 1 1 1 1 1 1 1 1 1 1 1 1 1 1 1 1 1 1 1 1 1 1 1 1 1 1 1 1 1 1 1 1 1 1 1 1 1 1 1 1 1 1 1 1 1 1 1 1 1 1 1 1 1 1 1 1 1 1 1 1 1 1 1 1 1 1 1 1 1 1 1 1 1 1 1 1 1 1 1 1 1 1 1 1 1 1 1 1 1 1 1 1 1 1 1 1 1 1 1 1 1 1 1 1 1 1 1 1 1 1 1 1 1 1 1 1 1 1 1 1 1 1 1 1 1 1 1 1 1 1 1 1 1 1 1 1 1 1 1 1 1 1 1 1 1 1 1 1 1 1 1 1 1 1 1 1 1 1 1 1 1 1 1 1 1 1 1 1 1 1 1 1 1 1 1 1 1 1 1 1 1 1 1 1 1 1 1 1 1 1 1 1 1 1 1 1 1 1 1 1 1 1 1 1 1 1 1 1 1 1 1 1 1 1 1 1 1 1 1 1 1 1 1 1 1 1 1 1 1 1 1 1 1 1 1 1 1 1 1 1 1 1 1 1 1 1 1 1 1 1 1 1 1\n",
      "INFO:tensorflow:segment_ids: 0 0 0 0 0 0 0 0 0 0 0 0 0 0 0 0 0 0 0 0 0 0 0 0 0 0 0 0 0 0 0 0 0 0 0 0 0 0 0 0 0 0 0 0 0 0 0 0 0 0 0 0 0 0 0 0 0 0 0 0 0 0 0 0 0 0 0 0 0 0 0 0 0 0 0 0 0 0 0 0 0 0 0 0 0 0 0 0 0 0 0 0 0 0 0 0 0 0 0 0 0 0 0 0 0 0 0 0 0 0 0 0 0 0 0 0 0 0 0 0 0 0 0 0 0 0 0 0 0 0 0 0 0 0 0 0 0 0 0 0 0 0 0 0 0 0 0 0 0 0 0 0 0 0 0 0 0 0 0 0 0 0 0 0 0 0 0 0 0 0 0 0 0 0 0 0 0 0 0 0 0 0 0 0 0 0 0 0 0 0 0 0 0 0 0 0 0 0 0 0 0 0 0 0 0 0 0 0 0 0 0 0 0 0 0 0 0 0 0 0 0 0 0 0 0 0 0 0 0 0 0 0 0 0 0 0 0 0 0 0 0 0 0 0 0 0 0 0 0 0 0 0 0 0 0 0 0 1 1 1 1 1 1 1 1 1 1 1 1 1 1 1 1 1 1 1 1 1 1 1 1 1 1 1 1 1 1 1 1 1 1 1 1 1 1 1 1 1 1 1 1 1 1 1 1 1 1 1 1 1 1 1 1 1 1 1 1 1 1 1 1 1 1 1 1 1 1 1 1 1 1 1 1 1 1 1 1 1 1 1 1 1 1 1 1 1 1 1 1 1 1 1 1 1 1 1 1 1 1 1 1 1 1 1 1 1 1 1 1 1 1 1 1 1 1 1 1 1 1 1 1 1 1 1 1 1 1 1 1 1 1 1 1 1 1 1 1 1 1 1 1 1 1 1 1 1 1 1 1 1 1 1 1 1 1 1 1 1 1 1 1 1 1 1 1 1 1 1 1 1 1 1 1 1 1 1 1 1 1 1 1 1 1 1 1 1 1 1 1 1 1 1 1 1 1 1 1 1 1 1 1 1 1 1 1 1 1 1 1 1 1 1 1 1 1 1 1 1 1 1 1 1 1 1 1 1 1 1 1 1 1 1 1 1 1 1 1 1 1 1 1 1 1 1 1 1 1 1 1 1 1 1\n"
     ]
    },
    {
     "name": "stdout",
     "output_type": "stream",
     "text": [
      "INFO:tensorflow:label: entailment (id = 1)\n"
     ]
    }
   ],
   "source": [
    "features = [row_to_feature(i, row) for i, row in  test_data.iterrows()]"
   ]
  },
  {
   "cell_type": "code",
   "execution_count": 46,
   "metadata": {},
   "outputs": [
    {
     "data": {
      "text/plain": [
       "2502"
      ]
     },
     "execution_count": 46,
     "metadata": {},
     "output_type": "execute_result"
    }
   ],
   "source": [
    "len(features)"
   ]
  },
  {
   "cell_type": "code",
   "execution_count": null,
   "metadata": {},
   "outputs": [],
   "source": []
  },
  {
   "cell_type": "code",
   "execution_count": 47,
   "metadata": {},
   "outputs": [],
   "source": [
    "test_fdict_all = feature_list_to_feature_dict(features)"
   ]
  },
  {
   "cell_type": "code",
   "execution_count": null,
   "metadata": {},
   "outputs": [],
   "source": []
  },
  {
   "cell_type": "code",
   "execution_count": 48,
   "metadata": {},
   "outputs": [],
   "source": [
    "def peek_fdict_list(fdict_list, count):\n",
    "    res_fdict = {}\n",
    "    for key, val in fdict_list.items():\n",
    "        res_fdict[key] = val[0:count]\n",
    "    return res_fdict"
   ]
  },
  {
   "cell_type": "code",
   "execution_count": 53,
   "metadata": {},
   "outputs": [],
   "source": [
    "test_fdict_100 = peek_fdict_list(test_fdict_all, 100)"
   ]
  },
  {
   "cell_type": "code",
   "execution_count": null,
   "metadata": {},
   "outputs": [],
   "source": []
  },
  {
   "cell_type": "code",
   "execution_count": 54,
   "metadata": {},
   "outputs": [],
   "source": [
    "test_fdict = test_fdict_100"
   ]
  },
  {
   "cell_type": "code",
   "execution_count": 55,
   "metadata": {},
   "outputs": [],
   "source": [
    "def batch_input_function(params):\n",
    "    test_ds = tf.data.Dataset.from_tensor_slices(test_fdict)    \n",
    "    return test_ds.batch(params['batch_size'])"
   ]
  },
  {
   "cell_type": "code",
   "execution_count": 27,
   "metadata": {},
   "outputs": [],
   "source": [
    "result = estimator.predict(batch_input_function)"
   ]
  },
  {
   "cell_type": "code",
   "execution_count": 28,
   "metadata": {},
   "outputs": [
    {
     "name": "stdout",
     "output_type": "stream",
     "text": [
      "INFO:tensorflow:Could not find trained model in model_dir: ./bert/data/bert-training-results/patent_1000, running initialization to predict.\n",
      "INFO:tensorflow:Calling model_fn.\n",
      "INFO:tensorflow:Running infer on CPU\n",
      "INFO:tensorflow:*** Features ***\n",
      "INFO:tensorflow:  name = input_ids, shape = (?, 512)\n",
      "INFO:tensorflow:  name = input_mask, shape = (?, 512)\n",
      "INFO:tensorflow:  name = label_ids, shape = (?, 1)\n",
      "INFO:tensorflow:  name = segment_ids, shape = (?, 512)\n",
      "INFO:tensorflow:**** Trainable Variables ****\n",
      "INFO:tensorflow:  name = bert/embeddings/word_embeddings:0, shape = (30522, 768), *INIT_FROM_CKPT*\n",
      "INFO:tensorflow:  name = bert/embeddings/token_type_embeddings:0, shape = (2, 768), *INIT_FROM_CKPT*\n",
      "INFO:tensorflow:  name = bert/embeddings/position_embeddings:0, shape = (512, 768), *INIT_FROM_CKPT*\n",
      "INFO:tensorflow:  name = bert/embeddings/LayerNorm/beta:0, shape = (768,), *INIT_FROM_CKPT*\n",
      "INFO:tensorflow:  name = bert/embeddings/LayerNorm/gamma:0, shape = (768,), *INIT_FROM_CKPT*\n",
      "INFO:tensorflow:  name = bert/encoder/layer_0/attention/self/query/kernel:0, shape = (768, 768), *INIT_FROM_CKPT*\n",
      "INFO:tensorflow:  name = bert/encoder/layer_0/attention/self/query/bias:0, shape = (768,), *INIT_FROM_CKPT*\n",
      "INFO:tensorflow:  name = bert/encoder/layer_0/attention/self/key/kernel:0, shape = (768, 768), *INIT_FROM_CKPT*\n",
      "INFO:tensorflow:  name = bert/encoder/layer_0/attention/self/key/bias:0, shape = (768,), *INIT_FROM_CKPT*\n",
      "INFO:tensorflow:  name = bert/encoder/layer_0/attention/self/value/kernel:0, shape = (768, 768), *INIT_FROM_CKPT*\n",
      "INFO:tensorflow:  name = bert/encoder/layer_0/attention/self/value/bias:0, shape = (768,), *INIT_FROM_CKPT*\n",
      "INFO:tensorflow:  name = bert/encoder/layer_0/attention/output/dense/kernel:0, shape = (768, 768), *INIT_FROM_CKPT*\n",
      "INFO:tensorflow:  name = bert/encoder/layer_0/attention/output/dense/bias:0, shape = (768,), *INIT_FROM_CKPT*\n",
      "INFO:tensorflow:  name = bert/encoder/layer_0/attention/output/LayerNorm/beta:0, shape = (768,), *INIT_FROM_CKPT*\n",
      "INFO:tensorflow:  name = bert/encoder/layer_0/attention/output/LayerNorm/gamma:0, shape = (768,), *INIT_FROM_CKPT*\n",
      "INFO:tensorflow:  name = bert/encoder/layer_0/intermediate/dense/kernel:0, shape = (768, 3072), *INIT_FROM_CKPT*\n",
      "INFO:tensorflow:  name = bert/encoder/layer_0/intermediate/dense/bias:0, shape = (3072,), *INIT_FROM_CKPT*\n",
      "INFO:tensorflow:  name = bert/encoder/layer_0/output/dense/kernel:0, shape = (3072, 768), *INIT_FROM_CKPT*\n",
      "INFO:tensorflow:  name = bert/encoder/layer_0/output/dense/bias:0, shape = (768,), *INIT_FROM_CKPT*\n",
      "INFO:tensorflow:  name = bert/encoder/layer_0/output/LayerNorm/beta:0, shape = (768,), *INIT_FROM_CKPT*\n",
      "INFO:tensorflow:  name = bert/encoder/layer_0/output/LayerNorm/gamma:0, shape = (768,), *INIT_FROM_CKPT*\n",
      "INFO:tensorflow:  name = bert/encoder/layer_1/attention/self/query/kernel:0, shape = (768, 768), *INIT_FROM_CKPT*\n",
      "INFO:tensorflow:  name = bert/encoder/layer_1/attention/self/query/bias:0, shape = (768,), *INIT_FROM_CKPT*\n",
      "INFO:tensorflow:  name = bert/encoder/layer_1/attention/self/key/kernel:0, shape = (768, 768), *INIT_FROM_CKPT*\n",
      "INFO:tensorflow:  name = bert/encoder/layer_1/attention/self/key/bias:0, shape = (768,), *INIT_FROM_CKPT*\n",
      "INFO:tensorflow:  name = bert/encoder/layer_1/attention/self/value/kernel:0, shape = (768, 768), *INIT_FROM_CKPT*\n",
      "INFO:tensorflow:  name = bert/encoder/layer_1/attention/self/value/bias:0, shape = (768,), *INIT_FROM_CKPT*\n",
      "INFO:tensorflow:  name = bert/encoder/layer_1/attention/output/dense/kernel:0, shape = (768, 768), *INIT_FROM_CKPT*\n",
      "INFO:tensorflow:  name = bert/encoder/layer_1/attention/output/dense/bias:0, shape = (768,), *INIT_FROM_CKPT*\n",
      "INFO:tensorflow:  name = bert/encoder/layer_1/attention/output/LayerNorm/beta:0, shape = (768,), *INIT_FROM_CKPT*\n",
      "INFO:tensorflow:  name = bert/encoder/layer_1/attention/output/LayerNorm/gamma:0, shape = (768,), *INIT_FROM_CKPT*\n",
      "INFO:tensorflow:  name = bert/encoder/layer_1/intermediate/dense/kernel:0, shape = (768, 3072), *INIT_FROM_CKPT*\n",
      "INFO:tensorflow:  name = bert/encoder/layer_1/intermediate/dense/bias:0, shape = (3072,), *INIT_FROM_CKPT*\n",
      "INFO:tensorflow:  name = bert/encoder/layer_1/output/dense/kernel:0, shape = (3072, 768), *INIT_FROM_CKPT*\n",
      "INFO:tensorflow:  name = bert/encoder/layer_1/output/dense/bias:0, shape = (768,), *INIT_FROM_CKPT*\n",
      "INFO:tensorflow:  name = bert/encoder/layer_1/output/LayerNorm/beta:0, shape = (768,), *INIT_FROM_CKPT*\n",
      "INFO:tensorflow:  name = bert/encoder/layer_1/output/LayerNorm/gamma:0, shape = (768,), *INIT_FROM_CKPT*\n",
      "INFO:tensorflow:  name = bert/encoder/layer_2/attention/self/query/kernel:0, shape = (768, 768), *INIT_FROM_CKPT*\n",
      "INFO:tensorflow:  name = bert/encoder/layer_2/attention/self/query/bias:0, shape = (768,), *INIT_FROM_CKPT*\n",
      "INFO:tensorflow:  name = bert/encoder/layer_2/attention/self/key/kernel:0, shape = (768, 768), *INIT_FROM_CKPT*\n",
      "INFO:tensorflow:  name = bert/encoder/layer_2/attention/self/key/bias:0, shape = (768,), *INIT_FROM_CKPT*\n",
      "INFO:tensorflow:  name = bert/encoder/layer_2/attention/self/value/kernel:0, shape = (768, 768), *INIT_FROM_CKPT*\n",
      "INFO:tensorflow:  name = bert/encoder/layer_2/attention/self/value/bias:0, shape = (768,), *INIT_FROM_CKPT*\n",
      "INFO:tensorflow:  name = bert/encoder/layer_2/attention/output/dense/kernel:0, shape = (768, 768), *INIT_FROM_CKPT*\n",
      "INFO:tensorflow:  name = bert/encoder/layer_2/attention/output/dense/bias:0, shape = (768,), *INIT_FROM_CKPT*\n",
      "INFO:tensorflow:  name = bert/encoder/layer_2/attention/output/LayerNorm/beta:0, shape = (768,), *INIT_FROM_CKPT*\n",
      "INFO:tensorflow:  name = bert/encoder/layer_2/attention/output/LayerNorm/gamma:0, shape = (768,), *INIT_FROM_CKPT*\n",
      "INFO:tensorflow:  name = bert/encoder/layer_2/intermediate/dense/kernel:0, shape = (768, 3072), *INIT_FROM_CKPT*\n",
      "INFO:tensorflow:  name = bert/encoder/layer_2/intermediate/dense/bias:0, shape = (3072,), *INIT_FROM_CKPT*\n",
      "INFO:tensorflow:  name = bert/encoder/layer_2/output/dense/kernel:0, shape = (3072, 768), *INIT_FROM_CKPT*\n",
      "INFO:tensorflow:  name = bert/encoder/layer_2/output/dense/bias:0, shape = (768,), *INIT_FROM_CKPT*\n",
      "INFO:tensorflow:  name = bert/encoder/layer_2/output/LayerNorm/beta:0, shape = (768,), *INIT_FROM_CKPT*\n",
      "INFO:tensorflow:  name = bert/encoder/layer_2/output/LayerNorm/gamma:0, shape = (768,), *INIT_FROM_CKPT*\n",
      "INFO:tensorflow:  name = bert/encoder/layer_3/attention/self/query/kernel:0, shape = (768, 768), *INIT_FROM_CKPT*\n",
      "INFO:tensorflow:  name = bert/encoder/layer_3/attention/self/query/bias:0, shape = (768,), *INIT_FROM_CKPT*\n",
      "INFO:tensorflow:  name = bert/encoder/layer_3/attention/self/key/kernel:0, shape = (768, 768), *INIT_FROM_CKPT*\n",
      "INFO:tensorflow:  name = bert/encoder/layer_3/attention/self/key/bias:0, shape = (768,), *INIT_FROM_CKPT*\n",
      "INFO:tensorflow:  name = bert/encoder/layer_3/attention/self/value/kernel:0, shape = (768, 768), *INIT_FROM_CKPT*\n",
      "INFO:tensorflow:  name = bert/encoder/layer_3/attention/self/value/bias:0, shape = (768,), *INIT_FROM_CKPT*\n",
      "INFO:tensorflow:  name = bert/encoder/layer_3/attention/output/dense/kernel:0, shape = (768, 768), *INIT_FROM_CKPT*\n",
      "INFO:tensorflow:  name = bert/encoder/layer_3/attention/output/dense/bias:0, shape = (768,), *INIT_FROM_CKPT*\n",
      "INFO:tensorflow:  name = bert/encoder/layer_3/attention/output/LayerNorm/beta:0, shape = (768,), *INIT_FROM_CKPT*\n",
      "INFO:tensorflow:  name = bert/encoder/layer_3/attention/output/LayerNorm/gamma:0, shape = (768,), *INIT_FROM_CKPT*\n",
      "INFO:tensorflow:  name = bert/encoder/layer_3/intermediate/dense/kernel:0, shape = (768, 3072), *INIT_FROM_CKPT*\n",
      "INFO:tensorflow:  name = bert/encoder/layer_3/intermediate/dense/bias:0, shape = (3072,), *INIT_FROM_CKPT*\n",
      "INFO:tensorflow:  name = bert/encoder/layer_3/output/dense/kernel:0, shape = (3072, 768), *INIT_FROM_CKPT*\n",
      "INFO:tensorflow:  name = bert/encoder/layer_3/output/dense/bias:0, shape = (768,), *INIT_FROM_CKPT*\n",
      "INFO:tensorflow:  name = bert/encoder/layer_3/output/LayerNorm/beta:0, shape = (768,), *INIT_FROM_CKPT*\n",
      "INFO:tensorflow:  name = bert/encoder/layer_3/output/LayerNorm/gamma:0, shape = (768,), *INIT_FROM_CKPT*\n",
      "INFO:tensorflow:  name = bert/encoder/layer_4/attention/self/query/kernel:0, shape = (768, 768), *INIT_FROM_CKPT*\n",
      "INFO:tensorflow:  name = bert/encoder/layer_4/attention/self/query/bias:0, shape = (768,), *INIT_FROM_CKPT*\n"
     ]
    },
    {
     "name": "stdout",
     "output_type": "stream",
     "text": [
      "INFO:tensorflow:  name = bert/encoder/layer_4/attention/self/key/kernel:0, shape = (768, 768), *INIT_FROM_CKPT*\n",
      "INFO:tensorflow:  name = bert/encoder/layer_4/attention/self/key/bias:0, shape = (768,), *INIT_FROM_CKPT*\n",
      "INFO:tensorflow:  name = bert/encoder/layer_4/attention/self/value/kernel:0, shape = (768, 768), *INIT_FROM_CKPT*\n",
      "INFO:tensorflow:  name = bert/encoder/layer_4/attention/self/value/bias:0, shape = (768,), *INIT_FROM_CKPT*\n",
      "INFO:tensorflow:  name = bert/encoder/layer_4/attention/output/dense/kernel:0, shape = (768, 768), *INIT_FROM_CKPT*\n",
      "INFO:tensorflow:  name = bert/encoder/layer_4/attention/output/dense/bias:0, shape = (768,), *INIT_FROM_CKPT*\n",
      "INFO:tensorflow:  name = bert/encoder/layer_4/attention/output/LayerNorm/beta:0, shape = (768,), *INIT_FROM_CKPT*\n",
      "INFO:tensorflow:  name = bert/encoder/layer_4/attention/output/LayerNorm/gamma:0, shape = (768,), *INIT_FROM_CKPT*\n",
      "INFO:tensorflow:  name = bert/encoder/layer_4/intermediate/dense/kernel:0, shape = (768, 3072), *INIT_FROM_CKPT*\n",
      "INFO:tensorflow:  name = bert/encoder/layer_4/intermediate/dense/bias:0, shape = (3072,), *INIT_FROM_CKPT*\n",
      "INFO:tensorflow:  name = bert/encoder/layer_4/output/dense/kernel:0, shape = (3072, 768), *INIT_FROM_CKPT*\n",
      "INFO:tensorflow:  name = bert/encoder/layer_4/output/dense/bias:0, shape = (768,), *INIT_FROM_CKPT*\n",
      "INFO:tensorflow:  name = bert/encoder/layer_4/output/LayerNorm/beta:0, shape = (768,), *INIT_FROM_CKPT*\n",
      "INFO:tensorflow:  name = bert/encoder/layer_4/output/LayerNorm/gamma:0, shape = (768,), *INIT_FROM_CKPT*\n",
      "INFO:tensorflow:  name = bert/encoder/layer_5/attention/self/query/kernel:0, shape = (768, 768), *INIT_FROM_CKPT*\n",
      "INFO:tensorflow:  name = bert/encoder/layer_5/attention/self/query/bias:0, shape = (768,), *INIT_FROM_CKPT*\n",
      "INFO:tensorflow:  name = bert/encoder/layer_5/attention/self/key/kernel:0, shape = (768, 768), *INIT_FROM_CKPT*\n",
      "INFO:tensorflow:  name = bert/encoder/layer_5/attention/self/key/bias:0, shape = (768,), *INIT_FROM_CKPT*\n",
      "INFO:tensorflow:  name = bert/encoder/layer_5/attention/self/value/kernel:0, shape = (768, 768), *INIT_FROM_CKPT*\n",
      "INFO:tensorflow:  name = bert/encoder/layer_5/attention/self/value/bias:0, shape = (768,), *INIT_FROM_CKPT*\n",
      "INFO:tensorflow:  name = bert/encoder/layer_5/attention/output/dense/kernel:0, shape = (768, 768), *INIT_FROM_CKPT*\n",
      "INFO:tensorflow:  name = bert/encoder/layer_5/attention/output/dense/bias:0, shape = (768,), *INIT_FROM_CKPT*\n",
      "INFO:tensorflow:  name = bert/encoder/layer_5/attention/output/LayerNorm/beta:0, shape = (768,), *INIT_FROM_CKPT*\n",
      "INFO:tensorflow:  name = bert/encoder/layer_5/attention/output/LayerNorm/gamma:0, shape = (768,), *INIT_FROM_CKPT*\n",
      "INFO:tensorflow:  name = bert/encoder/layer_5/intermediate/dense/kernel:0, shape = (768, 3072), *INIT_FROM_CKPT*\n",
      "INFO:tensorflow:  name = bert/encoder/layer_5/intermediate/dense/bias:0, shape = (3072,), *INIT_FROM_CKPT*\n",
      "INFO:tensorflow:  name = bert/encoder/layer_5/output/dense/kernel:0, shape = (3072, 768), *INIT_FROM_CKPT*\n",
      "INFO:tensorflow:  name = bert/encoder/layer_5/output/dense/bias:0, shape = (768,), *INIT_FROM_CKPT*\n",
      "INFO:tensorflow:  name = bert/encoder/layer_5/output/LayerNorm/beta:0, shape = (768,), *INIT_FROM_CKPT*\n",
      "INFO:tensorflow:  name = bert/encoder/layer_5/output/LayerNorm/gamma:0, shape = (768,), *INIT_FROM_CKPT*\n",
      "INFO:tensorflow:  name = bert/encoder/layer_6/attention/self/query/kernel:0, shape = (768, 768), *INIT_FROM_CKPT*\n",
      "INFO:tensorflow:  name = bert/encoder/layer_6/attention/self/query/bias:0, shape = (768,), *INIT_FROM_CKPT*\n",
      "INFO:tensorflow:  name = bert/encoder/layer_6/attention/self/key/kernel:0, shape = (768, 768), *INIT_FROM_CKPT*\n",
      "INFO:tensorflow:  name = bert/encoder/layer_6/attention/self/key/bias:0, shape = (768,), *INIT_FROM_CKPT*\n",
      "INFO:tensorflow:  name = bert/encoder/layer_6/attention/self/value/kernel:0, shape = (768, 768), *INIT_FROM_CKPT*\n",
      "INFO:tensorflow:  name = bert/encoder/layer_6/attention/self/value/bias:0, shape = (768,), *INIT_FROM_CKPT*\n",
      "INFO:tensorflow:  name = bert/encoder/layer_6/attention/output/dense/kernel:0, shape = (768, 768), *INIT_FROM_CKPT*\n",
      "INFO:tensorflow:  name = bert/encoder/layer_6/attention/output/dense/bias:0, shape = (768,), *INIT_FROM_CKPT*\n",
      "INFO:tensorflow:  name = bert/encoder/layer_6/attention/output/LayerNorm/beta:0, shape = (768,), *INIT_FROM_CKPT*\n",
      "INFO:tensorflow:  name = bert/encoder/layer_6/attention/output/LayerNorm/gamma:0, shape = (768,), *INIT_FROM_CKPT*\n",
      "INFO:tensorflow:  name = bert/encoder/layer_6/intermediate/dense/kernel:0, shape = (768, 3072), *INIT_FROM_CKPT*\n",
      "INFO:tensorflow:  name = bert/encoder/layer_6/intermediate/dense/bias:0, shape = (3072,), *INIT_FROM_CKPT*\n",
      "INFO:tensorflow:  name = bert/encoder/layer_6/output/dense/kernel:0, shape = (3072, 768), *INIT_FROM_CKPT*\n",
      "INFO:tensorflow:  name = bert/encoder/layer_6/output/dense/bias:0, shape = (768,), *INIT_FROM_CKPT*\n",
      "INFO:tensorflow:  name = bert/encoder/layer_6/output/LayerNorm/beta:0, shape = (768,), *INIT_FROM_CKPT*\n",
      "INFO:tensorflow:  name = bert/encoder/layer_6/output/LayerNorm/gamma:0, shape = (768,), *INIT_FROM_CKPT*\n",
      "INFO:tensorflow:  name = bert/encoder/layer_7/attention/self/query/kernel:0, shape = (768, 768), *INIT_FROM_CKPT*\n",
      "INFO:tensorflow:  name = bert/encoder/layer_7/attention/self/query/bias:0, shape = (768,), *INIT_FROM_CKPT*\n",
      "INFO:tensorflow:  name = bert/encoder/layer_7/attention/self/key/kernel:0, shape = (768, 768), *INIT_FROM_CKPT*\n",
      "INFO:tensorflow:  name = bert/encoder/layer_7/attention/self/key/bias:0, shape = (768,), *INIT_FROM_CKPT*\n",
      "INFO:tensorflow:  name = bert/encoder/layer_7/attention/self/value/kernel:0, shape = (768, 768), *INIT_FROM_CKPT*\n",
      "INFO:tensorflow:  name = bert/encoder/layer_7/attention/self/value/bias:0, shape = (768,), *INIT_FROM_CKPT*\n",
      "INFO:tensorflow:  name = bert/encoder/layer_7/attention/output/dense/kernel:0, shape = (768, 768), *INIT_FROM_CKPT*\n",
      "INFO:tensorflow:  name = bert/encoder/layer_7/attention/output/dense/bias:0, shape = (768,), *INIT_FROM_CKPT*\n",
      "INFO:tensorflow:  name = bert/encoder/layer_7/attention/output/LayerNorm/beta:0, shape = (768,), *INIT_FROM_CKPT*\n",
      "INFO:tensorflow:  name = bert/encoder/layer_7/attention/output/LayerNorm/gamma:0, shape = (768,), *INIT_FROM_CKPT*\n",
      "INFO:tensorflow:  name = bert/encoder/layer_7/intermediate/dense/kernel:0, shape = (768, 3072), *INIT_FROM_CKPT*\n",
      "INFO:tensorflow:  name = bert/encoder/layer_7/intermediate/dense/bias:0, shape = (3072,), *INIT_FROM_CKPT*\n",
      "INFO:tensorflow:  name = bert/encoder/layer_7/output/dense/kernel:0, shape = (3072, 768), *INIT_FROM_CKPT*\n",
      "INFO:tensorflow:  name = bert/encoder/layer_7/output/dense/bias:0, shape = (768,), *INIT_FROM_CKPT*\n",
      "INFO:tensorflow:  name = bert/encoder/layer_7/output/LayerNorm/beta:0, shape = (768,), *INIT_FROM_CKPT*\n",
      "INFO:tensorflow:  name = bert/encoder/layer_7/output/LayerNorm/gamma:0, shape = (768,), *INIT_FROM_CKPT*\n",
      "INFO:tensorflow:  name = bert/encoder/layer_8/attention/self/query/kernel:0, shape = (768, 768), *INIT_FROM_CKPT*\n",
      "INFO:tensorflow:  name = bert/encoder/layer_8/attention/self/query/bias:0, shape = (768,), *INIT_FROM_CKPT*\n",
      "INFO:tensorflow:  name = bert/encoder/layer_8/attention/self/key/kernel:0, shape = (768, 768), *INIT_FROM_CKPT*\n",
      "INFO:tensorflow:  name = bert/encoder/layer_8/attention/self/key/bias:0, shape = (768,), *INIT_FROM_CKPT*\n",
      "INFO:tensorflow:  name = bert/encoder/layer_8/attention/self/value/kernel:0, shape = (768, 768), *INIT_FROM_CKPT*\n",
      "INFO:tensorflow:  name = bert/encoder/layer_8/attention/self/value/bias:0, shape = (768,), *INIT_FROM_CKPT*\n",
      "INFO:tensorflow:  name = bert/encoder/layer_8/attention/output/dense/kernel:0, shape = (768, 768), *INIT_FROM_CKPT*\n",
      "INFO:tensorflow:  name = bert/encoder/layer_8/attention/output/dense/bias:0, shape = (768,), *INIT_FROM_CKPT*\n",
      "INFO:tensorflow:  name = bert/encoder/layer_8/attention/output/LayerNorm/beta:0, shape = (768,), *INIT_FROM_CKPT*\n",
      "INFO:tensorflow:  name = bert/encoder/layer_8/attention/output/LayerNorm/gamma:0, shape = (768,), *INIT_FROM_CKPT*\n",
      "INFO:tensorflow:  name = bert/encoder/layer_8/intermediate/dense/kernel:0, shape = (768, 3072), *INIT_FROM_CKPT*\n",
      "INFO:tensorflow:  name = bert/encoder/layer_8/intermediate/dense/bias:0, shape = (3072,), *INIT_FROM_CKPT*\n",
      "INFO:tensorflow:  name = bert/encoder/layer_8/output/dense/kernel:0, shape = (3072, 768), *INIT_FROM_CKPT*\n"
     ]
    },
    {
     "name": "stdout",
     "output_type": "stream",
     "text": [
      "INFO:tensorflow:  name = bert/encoder/layer_8/output/dense/bias:0, shape = (768,), *INIT_FROM_CKPT*\n",
      "INFO:tensorflow:  name = bert/encoder/layer_8/output/LayerNorm/beta:0, shape = (768,), *INIT_FROM_CKPT*\n",
      "INFO:tensorflow:  name = bert/encoder/layer_8/output/LayerNorm/gamma:0, shape = (768,), *INIT_FROM_CKPT*\n",
      "INFO:tensorflow:  name = bert/encoder/layer_9/attention/self/query/kernel:0, shape = (768, 768), *INIT_FROM_CKPT*\n",
      "INFO:tensorflow:  name = bert/encoder/layer_9/attention/self/query/bias:0, shape = (768,), *INIT_FROM_CKPT*\n",
      "INFO:tensorflow:  name = bert/encoder/layer_9/attention/self/key/kernel:0, shape = (768, 768), *INIT_FROM_CKPT*\n",
      "INFO:tensorflow:  name = bert/encoder/layer_9/attention/self/key/bias:0, shape = (768,), *INIT_FROM_CKPT*\n",
      "INFO:tensorflow:  name = bert/encoder/layer_9/attention/self/value/kernel:0, shape = (768, 768), *INIT_FROM_CKPT*\n",
      "INFO:tensorflow:  name = bert/encoder/layer_9/attention/self/value/bias:0, shape = (768,), *INIT_FROM_CKPT*\n",
      "INFO:tensorflow:  name = bert/encoder/layer_9/attention/output/dense/kernel:0, shape = (768, 768), *INIT_FROM_CKPT*\n",
      "INFO:tensorflow:  name = bert/encoder/layer_9/attention/output/dense/bias:0, shape = (768,), *INIT_FROM_CKPT*\n",
      "INFO:tensorflow:  name = bert/encoder/layer_9/attention/output/LayerNorm/beta:0, shape = (768,), *INIT_FROM_CKPT*\n",
      "INFO:tensorflow:  name = bert/encoder/layer_9/attention/output/LayerNorm/gamma:0, shape = (768,), *INIT_FROM_CKPT*\n",
      "INFO:tensorflow:  name = bert/encoder/layer_9/intermediate/dense/kernel:0, shape = (768, 3072), *INIT_FROM_CKPT*\n",
      "INFO:tensorflow:  name = bert/encoder/layer_9/intermediate/dense/bias:0, shape = (3072,), *INIT_FROM_CKPT*\n",
      "INFO:tensorflow:  name = bert/encoder/layer_9/output/dense/kernel:0, shape = (3072, 768), *INIT_FROM_CKPT*\n",
      "INFO:tensorflow:  name = bert/encoder/layer_9/output/dense/bias:0, shape = (768,), *INIT_FROM_CKPT*\n",
      "INFO:tensorflow:  name = bert/encoder/layer_9/output/LayerNorm/beta:0, shape = (768,), *INIT_FROM_CKPT*\n",
      "INFO:tensorflow:  name = bert/encoder/layer_9/output/LayerNorm/gamma:0, shape = (768,), *INIT_FROM_CKPT*\n",
      "INFO:tensorflow:  name = bert/encoder/layer_10/attention/self/query/kernel:0, shape = (768, 768), *INIT_FROM_CKPT*\n",
      "INFO:tensorflow:  name = bert/encoder/layer_10/attention/self/query/bias:0, shape = (768,), *INIT_FROM_CKPT*\n",
      "INFO:tensorflow:  name = bert/encoder/layer_10/attention/self/key/kernel:0, shape = (768, 768), *INIT_FROM_CKPT*\n",
      "INFO:tensorflow:  name = bert/encoder/layer_10/attention/self/key/bias:0, shape = (768,), *INIT_FROM_CKPT*\n",
      "INFO:tensorflow:  name = bert/encoder/layer_10/attention/self/value/kernel:0, shape = (768, 768), *INIT_FROM_CKPT*\n",
      "INFO:tensorflow:  name = bert/encoder/layer_10/attention/self/value/bias:0, shape = (768,), *INIT_FROM_CKPT*\n",
      "INFO:tensorflow:  name = bert/encoder/layer_10/attention/output/dense/kernel:0, shape = (768, 768), *INIT_FROM_CKPT*\n",
      "INFO:tensorflow:  name = bert/encoder/layer_10/attention/output/dense/bias:0, shape = (768,), *INIT_FROM_CKPT*\n",
      "INFO:tensorflow:  name = bert/encoder/layer_10/attention/output/LayerNorm/beta:0, shape = (768,), *INIT_FROM_CKPT*\n",
      "INFO:tensorflow:  name = bert/encoder/layer_10/attention/output/LayerNorm/gamma:0, shape = (768,), *INIT_FROM_CKPT*\n",
      "INFO:tensorflow:  name = bert/encoder/layer_10/intermediate/dense/kernel:0, shape = (768, 3072), *INIT_FROM_CKPT*\n",
      "INFO:tensorflow:  name = bert/encoder/layer_10/intermediate/dense/bias:0, shape = (3072,), *INIT_FROM_CKPT*\n",
      "INFO:tensorflow:  name = bert/encoder/layer_10/output/dense/kernel:0, shape = (3072, 768), *INIT_FROM_CKPT*\n",
      "INFO:tensorflow:  name = bert/encoder/layer_10/output/dense/bias:0, shape = (768,), *INIT_FROM_CKPT*\n",
      "INFO:tensorflow:  name = bert/encoder/layer_10/output/LayerNorm/beta:0, shape = (768,), *INIT_FROM_CKPT*\n",
      "INFO:tensorflow:  name = bert/encoder/layer_10/output/LayerNorm/gamma:0, shape = (768,), *INIT_FROM_CKPT*\n",
      "INFO:tensorflow:  name = bert/encoder/layer_11/attention/self/query/kernel:0, shape = (768, 768), *INIT_FROM_CKPT*\n",
      "INFO:tensorflow:  name = bert/encoder/layer_11/attention/self/query/bias:0, shape = (768,), *INIT_FROM_CKPT*\n",
      "INFO:tensorflow:  name = bert/encoder/layer_11/attention/self/key/kernel:0, shape = (768, 768), *INIT_FROM_CKPT*\n",
      "INFO:tensorflow:  name = bert/encoder/layer_11/attention/self/key/bias:0, shape = (768,), *INIT_FROM_CKPT*\n",
      "INFO:tensorflow:  name = bert/encoder/layer_11/attention/self/value/kernel:0, shape = (768, 768), *INIT_FROM_CKPT*\n",
      "INFO:tensorflow:  name = bert/encoder/layer_11/attention/self/value/bias:0, shape = (768,), *INIT_FROM_CKPT*\n",
      "INFO:tensorflow:  name = bert/encoder/layer_11/attention/output/dense/kernel:0, shape = (768, 768), *INIT_FROM_CKPT*\n",
      "INFO:tensorflow:  name = bert/encoder/layer_11/attention/output/dense/bias:0, shape = (768,), *INIT_FROM_CKPT*\n",
      "INFO:tensorflow:  name = bert/encoder/layer_11/attention/output/LayerNorm/beta:0, shape = (768,), *INIT_FROM_CKPT*\n",
      "INFO:tensorflow:  name = bert/encoder/layer_11/attention/output/LayerNorm/gamma:0, shape = (768,), *INIT_FROM_CKPT*\n",
      "INFO:tensorflow:  name = bert/encoder/layer_11/intermediate/dense/kernel:0, shape = (768, 3072), *INIT_FROM_CKPT*\n",
      "INFO:tensorflow:  name = bert/encoder/layer_11/intermediate/dense/bias:0, shape = (3072,), *INIT_FROM_CKPT*\n",
      "INFO:tensorflow:  name = bert/encoder/layer_11/output/dense/kernel:0, shape = (3072, 768), *INIT_FROM_CKPT*\n",
      "INFO:tensorflow:  name = bert/encoder/layer_11/output/dense/bias:0, shape = (768,), *INIT_FROM_CKPT*\n",
      "INFO:tensorflow:  name = bert/encoder/layer_11/output/LayerNorm/beta:0, shape = (768,), *INIT_FROM_CKPT*\n",
      "INFO:tensorflow:  name = bert/encoder/layer_11/output/LayerNorm/gamma:0, shape = (768,), *INIT_FROM_CKPT*\n",
      "INFO:tensorflow:  name = bert/pooler/dense/kernel:0, shape = (768, 768), *INIT_FROM_CKPT*\n",
      "INFO:tensorflow:  name = bert/pooler/dense/bias:0, shape = (768,), *INIT_FROM_CKPT*\n",
      "INFO:tensorflow:  name = output_weights:0, shape = (2, 768), *INIT_FROM_CKPT*\n",
      "INFO:tensorflow:  name = output_bias:0, shape = (2,), *INIT_FROM_CKPT*\n",
      "INFO:tensorflow:Done calling model_fn.\n",
      "INFO:tensorflow:Graph was finalized.\n",
      "INFO:tensorflow:Running local_init_op.\n",
      "INFO:tensorflow:Done running local_init_op.\n",
      "INFO:tensorflow:prediction_loop marked as finished\n",
      "INFO:tensorflow:prediction_loop marked as finished\n",
      "CPU times: user 8min 40s, sys: 20.9 s, total: 9min 1s\n",
      "Wall time: 9min 13s\n"
     ]
    }
   ],
   "source": [
    "%%time\n",
    "#It will take about one hour on a CPU environment.\n",
    "\n",
    "result = list(result)"
   ]
  },
  {
   "cell_type": "code",
   "execution_count": 29,
   "metadata": {},
   "outputs": [
    {
     "data": {
      "text/plain": [
       "100"
      ]
     },
     "execution_count": 29,
     "metadata": {},
     "output_type": "execute_result"
    }
   ],
   "source": [
    "len(result)"
   ]
  },
  {
   "cell_type": "code",
   "execution_count": null,
   "metadata": {},
   "outputs": [],
   "source": []
  },
  {
   "cell_type": "markdown",
   "metadata": {},
   "source": [
    "#### Label { 0: not cited, 1: cited }"
   ]
  },
  {
   "cell_type": "code",
   "execution_count": 36,
   "metadata": {},
   "outputs": [],
   "source": [
    "test_100 = test_data[0:100].copy()"
   ]
  },
  {
   "cell_type": "code",
   "execution_count": 37,
   "metadata": {},
   "outputs": [],
   "source": [
    "test_100['label'] = [ 0 if elem == 'not_entailment' else 1 for elem in test_100['label'] ]"
   ]
  },
  {
   "cell_type": "code",
   "execution_count": 38,
   "metadata": {},
   "outputs": [
    {
     "data": {
      "text/html": [
       "<div>\n",
       "<style scoped>\n",
       "    .dataframe tbody tr th:only-of-type {\n",
       "        vertical-align: middle;\n",
       "    }\n",
       "\n",
       "    .dataframe tbody tr th {\n",
       "        vertical-align: top;\n",
       "    }\n",
       "\n",
       "    .dataframe thead th {\n",
       "        text-align: right;\n",
       "    }\n",
       "</style>\n",
       "<table border=\"1\" class=\"dataframe\">\n",
       "  <thead>\n",
       "    <tr style=\"text-align: right;\">\n",
       "      <th></th>\n",
       "      <th>index</th>\n",
       "      <th>claim_app</th>\n",
       "      <th>claim_cited_grant</th>\n",
       "      <th>label</th>\n",
       "    </tr>\n",
       "  </thead>\n",
       "  <tbody>\n",
       "    <tr>\n",
       "      <th>0</th>\n",
       "      <td>0</td>\n",
       "      <td>1 . A rotational angle detection device for a ...</td>\n",
       "      <td>1. A tangible computer-readable medium having ...</td>\n",
       "      <td>0</td>\n",
       "    </tr>\n",
       "    <tr>\n",
       "      <th>1</th>\n",
       "      <td>1</td>\n",
       "      <td>1 . A method comprising:sensing electrocardiog...</td>\n",
       "      <td>1. A medical system, comprising:an implantable...</td>\n",
       "      <td>1</td>\n",
       "    </tr>\n",
       "    <tr>\n",
       "      <th>2</th>\n",
       "      <td>2</td>\n",
       "      <td>1 . A system for controlling temperature insid...</td>\n",
       "      <td>1. An integrated differential receiver for an ...</td>\n",
       "      <td>0</td>\n",
       "    </tr>\n",
       "    <tr>\n",
       "      <th>3</th>\n",
       "      <td>3</td>\n",
       "      <td>1 . A recording apparatus for recording update...</td>\n",
       "      <td>1. A method for indicating a priority of a Voi...</td>\n",
       "      <td>0</td>\n",
       "    </tr>\n",
       "    <tr>\n",
       "      <th>4</th>\n",
       "      <td>4</td>\n",
       "      <td>1 . Apparatus for moving a material within an ...</td>\n",
       "      <td>1. A wellbore packer having an expandable pack...</td>\n",
       "      <td>1</td>\n",
       "    </tr>\n",
       "  </tbody>\n",
       "</table>\n",
       "</div>"
      ],
      "text/plain": [
       "   index                                          claim_app  \\\n",
       "0      0  1 . A rotational angle detection device for a ...   \n",
       "1      1  1 . A method comprising:sensing electrocardiog...   \n",
       "2      2  1 . A system for controlling temperature insid...   \n",
       "3      3  1 . A recording apparatus for recording update...   \n",
       "4      4  1 . Apparatus for moving a material within an ...   \n",
       "\n",
       "                                   claim_cited_grant  label  \n",
       "0  1. A tangible computer-readable medium having ...      0  \n",
       "1  1. A medical system, comprising:an implantable...      1  \n",
       "2  1. An integrated differential receiver for an ...      0  \n",
       "3  1. A method for indicating a priority of a Voi...      0  \n",
       "4  1. A wellbore packer having an expandable pack...      1  "
      ]
     },
     "execution_count": 38,
     "metadata": {},
     "output_type": "execute_result"
    }
   ],
   "source": [
    "test_100.head()"
   ]
  },
  {
   "cell_type": "code",
   "execution_count": 39,
   "metadata": {},
   "outputs": [],
   "source": [
    "test_100['prediction_score'] = result"
   ]
  },
  {
   "cell_type": "code",
   "execution_count": 42,
   "metadata": {},
   "outputs": [
    {
     "data": {
      "text/html": [
       "<div>\n",
       "<style scoped>\n",
       "    .dataframe tbody tr th:only-of-type {\n",
       "        vertical-align: middle;\n",
       "    }\n",
       "\n",
       "    .dataframe tbody tr th {\n",
       "        vertical-align: top;\n",
       "    }\n",
       "\n",
       "    .dataframe thead th {\n",
       "        text-align: right;\n",
       "    }\n",
       "</style>\n",
       "<table border=\"1\" class=\"dataframe\">\n",
       "  <thead>\n",
       "    <tr style=\"text-align: right;\">\n",
       "      <th></th>\n",
       "      <th>index</th>\n",
       "      <th>claim_app</th>\n",
       "      <th>claim_cited_grant</th>\n",
       "      <th>label</th>\n",
       "      <th>prediction_score</th>\n",
       "      <th>prediction_label</th>\n",
       "    </tr>\n",
       "  </thead>\n",
       "  <tbody>\n",
       "    <tr>\n",
       "      <th>0</th>\n",
       "      <td>0</td>\n",
       "      <td>1 . A rotational angle detection device for a ...</td>\n",
       "      <td>1. A tangible computer-readable medium having ...</td>\n",
       "      <td>0</td>\n",
       "      <td>[0.9998567, 0.00014324456]</td>\n",
       "      <td>0</td>\n",
       "    </tr>\n",
       "    <tr>\n",
       "      <th>1</th>\n",
       "      <td>1</td>\n",
       "      <td>1 . A method comprising:sensing electrocardiog...</td>\n",
       "      <td>1. A medical system, comprising:an implantable...</td>\n",
       "      <td>1</td>\n",
       "      <td>[0.00012639465, 0.99987364]</td>\n",
       "      <td>1</td>\n",
       "    </tr>\n",
       "    <tr>\n",
       "      <th>2</th>\n",
       "      <td>2</td>\n",
       "      <td>1 . A system for controlling temperature insid...</td>\n",
       "      <td>1. An integrated differential receiver for an ...</td>\n",
       "      <td>0</td>\n",
       "      <td>[0.99986386, 0.00013612612]</td>\n",
       "      <td>0</td>\n",
       "    </tr>\n",
       "    <tr>\n",
       "      <th>3</th>\n",
       "      <td>3</td>\n",
       "      <td>1 . A recording apparatus for recording update...</td>\n",
       "      <td>1. A method for indicating a priority of a Voi...</td>\n",
       "      <td>0</td>\n",
       "      <td>[0.9998641, 0.00013589088]</td>\n",
       "      <td>0</td>\n",
       "    </tr>\n",
       "    <tr>\n",
       "      <th>4</th>\n",
       "      <td>4</td>\n",
       "      <td>1 . Apparatus for moving a material within an ...</td>\n",
       "      <td>1. A wellbore packer having an expandable pack...</td>\n",
       "      <td>1</td>\n",
       "      <td>[0.00010087702, 0.99989915]</td>\n",
       "      <td>1</td>\n",
       "    </tr>\n",
       "  </tbody>\n",
       "</table>\n",
       "</div>"
      ],
      "text/plain": [
       "   index                                          claim_app  \\\n",
       "0      0  1 . A rotational angle detection device for a ...   \n",
       "1      1  1 . A method comprising:sensing electrocardiog...   \n",
       "2      2  1 . A system for controlling temperature insid...   \n",
       "3      3  1 . A recording apparatus for recording update...   \n",
       "4      4  1 . Apparatus for moving a material within an ...   \n",
       "\n",
       "                                   claim_cited_grant  label  \\\n",
       "0  1. A tangible computer-readable medium having ...      0   \n",
       "1  1. A medical system, comprising:an implantable...      1   \n",
       "2  1. An integrated differential receiver for an ...      0   \n",
       "3  1. A method for indicating a priority of a Voi...      0   \n",
       "4  1. A wellbore packer having an expandable pack...      1   \n",
       "\n",
       "              prediction_score  prediction_label  \n",
       "0   [0.9998567, 0.00014324456]                 0  \n",
       "1  [0.00012639465, 0.99987364]                 1  \n",
       "2  [0.99986386, 0.00013612612]                 0  \n",
       "3   [0.9998641, 0.00013589088]                 0  \n",
       "4  [0.00010087702, 0.99989915]                 1  "
      ]
     },
     "execution_count": 42,
     "metadata": {},
     "output_type": "execute_result"
    }
   ],
   "source": [
    "test_100.head()"
   ]
  },
  {
   "cell_type": "code",
   "execution_count": null,
   "metadata": {},
   "outputs": [],
   "source": []
  },
  {
   "cell_type": "code",
   "execution_count": null,
   "metadata": {},
   "outputs": [],
   "source": []
  },
  {
   "cell_type": "code",
   "execution_count": 40,
   "metadata": {},
   "outputs": [],
   "source": [
    "test_100['prediction_label'] = [\n",
    "    1 if score_1 >= 0.5 else 0 for score_0, score_1 in test_100['prediction_score']\n",
    "]"
   ]
  },
  {
   "cell_type": "code",
   "execution_count": 41,
   "metadata": {},
   "outputs": [
    {
     "data": {
      "text/html": [
       "<div>\n",
       "<style scoped>\n",
       "    .dataframe tbody tr th:only-of-type {\n",
       "        vertical-align: middle;\n",
       "    }\n",
       "\n",
       "    .dataframe tbody tr th {\n",
       "        vertical-align: top;\n",
       "    }\n",
       "\n",
       "    .dataframe thead th {\n",
       "        text-align: right;\n",
       "    }\n",
       "</style>\n",
       "<table border=\"1\" class=\"dataframe\">\n",
       "  <thead>\n",
       "    <tr style=\"text-align: right;\">\n",
       "      <th></th>\n",
       "      <th>index</th>\n",
       "      <th>claim_app</th>\n",
       "      <th>claim_cited_grant</th>\n",
       "      <th>label</th>\n",
       "      <th>prediction_score</th>\n",
       "      <th>prediction_label</th>\n",
       "    </tr>\n",
       "  </thead>\n",
       "  <tbody>\n",
       "    <tr>\n",
       "      <th>0</th>\n",
       "      <td>0</td>\n",
       "      <td>1 . A rotational angle detection device for a ...</td>\n",
       "      <td>1. A tangible computer-readable medium having ...</td>\n",
       "      <td>0</td>\n",
       "      <td>[0.9998567, 0.00014324456]</td>\n",
       "      <td>0</td>\n",
       "    </tr>\n",
       "    <tr>\n",
       "      <th>1</th>\n",
       "      <td>1</td>\n",
       "      <td>1 . A method comprising:sensing electrocardiog...</td>\n",
       "      <td>1. A medical system, comprising:an implantable...</td>\n",
       "      <td>1</td>\n",
       "      <td>[0.00012639465, 0.99987364]</td>\n",
       "      <td>1</td>\n",
       "    </tr>\n",
       "    <tr>\n",
       "      <th>2</th>\n",
       "      <td>2</td>\n",
       "      <td>1 . A system for controlling temperature insid...</td>\n",
       "      <td>1. An integrated differential receiver for an ...</td>\n",
       "      <td>0</td>\n",
       "      <td>[0.99986386, 0.00013612612]</td>\n",
       "      <td>0</td>\n",
       "    </tr>\n",
       "    <tr>\n",
       "      <th>3</th>\n",
       "      <td>3</td>\n",
       "      <td>1 . A recording apparatus for recording update...</td>\n",
       "      <td>1. A method for indicating a priority of a Voi...</td>\n",
       "      <td>0</td>\n",
       "      <td>[0.9998641, 0.00013589088]</td>\n",
       "      <td>0</td>\n",
       "    </tr>\n",
       "    <tr>\n",
       "      <th>4</th>\n",
       "      <td>4</td>\n",
       "      <td>1 . Apparatus for moving a material within an ...</td>\n",
       "      <td>1. A wellbore packer having an expandable pack...</td>\n",
       "      <td>1</td>\n",
       "      <td>[0.00010087702, 0.99989915]</td>\n",
       "      <td>1</td>\n",
       "    </tr>\n",
       "  </tbody>\n",
       "</table>\n",
       "</div>"
      ],
      "text/plain": [
       "   index                                          claim_app  \\\n",
       "0      0  1 . A rotational angle detection device for a ...   \n",
       "1      1  1 . A method comprising:sensing electrocardiog...   \n",
       "2      2  1 . A system for controlling temperature insid...   \n",
       "3      3  1 . A recording apparatus for recording update...   \n",
       "4      4  1 . Apparatus for moving a material within an ...   \n",
       "\n",
       "                                   claim_cited_grant  label  \\\n",
       "0  1. A tangible computer-readable medium having ...      0   \n",
       "1  1. A medical system, comprising:an implantable...      1   \n",
       "2  1. An integrated differential receiver for an ...      0   \n",
       "3  1. A method for indicating a priority of a Voi...      0   \n",
       "4  1. A wellbore packer having an expandable pack...      1   \n",
       "\n",
       "              prediction_score  prediction_label  \n",
       "0   [0.9998567, 0.00014324456]                 0  \n",
       "1  [0.00012639465, 0.99987364]                 1  \n",
       "2  [0.99986386, 0.00013612612]                 0  \n",
       "3   [0.9998641, 0.00013589088]                 0  \n",
       "4  [0.00010087702, 0.99989915]                 1  "
      ]
     },
     "execution_count": 41,
     "metadata": {},
     "output_type": "execute_result"
    }
   ],
   "source": [
    "test_100.head()"
   ]
  },
  {
   "cell_type": "code",
   "execution_count": null,
   "metadata": {},
   "outputs": [],
   "source": []
  },
  {
   "cell_type": "code",
   "execution_count": null,
   "metadata": {},
   "outputs": [],
   "source": []
  },
  {
   "cell_type": "markdown",
   "metadata": {},
   "source": [
    "# == Try and Error ====="
   ]
  },
  {
   "cell_type": "code",
   "execution_count": null,
   "metadata": {},
   "outputs": [],
   "source": []
  },
  {
   "cell_type": "markdown",
   "metadata": {},
   "source": [
    "### Evaluate 100 dev set"
   ]
  },
  {
   "cell_type": "code",
   "execution_count": 51,
   "metadata": {},
   "outputs": [
    {
     "name": "stdout",
     "output_type": "stream",
     "text": [
      "WARNING:tensorflow:Estimator's model_fn (<function model_fn_builder.<locals>.model_fn at 0x7f47c963ed08>) includes params argument, but params are not passed to Estimator.\n",
      "INFO:tensorflow:Using config: {'_service': None, '_save_checkpoints_secs': None, '_protocol': None, '_session_config': allow_soft_placement: true\n",
      "graph_options {\n",
      "  rewrite_options {\n",
      "    meta_optimizer_iterations: ONE\n",
      "  }\n",
      "}\n",
      ", '_tf_random_seed': None, '_master': '', '_device_fn': None, '_train_distribute': None, '_evaluation_master': '', '_keep_checkpoint_every_n_hours': 10000, '_keep_checkpoint_max': 5, '_task_id': 0, '_eval_distribute': None, '_cluster_spec': <tensorflow.python.training.server_lib.ClusterSpec object at 0x7f47c93e4518>, '_num_ps_replicas': 0, '_task_type': 'worker', '_cluster': None, '_tpu_config': TPUConfig(iterations_per_loop=1000, num_shards=8, num_cores_per_replica=None, per_host_input_for_training=3, tpu_job_name=None, initial_infeed_sleep_secs=None, input_partition_dims=None), '_log_step_count_steps': None, '_global_id_in_cluster': 0, '_is_chief': True, '_experimental_distribute': None, '_model_dir': './bert/tmp/rte_output/', '_save_summary_steps': 100, '_num_worker_replicas': 1, '_save_checkpoints_steps': 1000}\n",
      "INFO:tensorflow:_TPUContext: eval_on_tpu True\n",
      "WARNING:tensorflow:eval_on_tpu ignored because use_tpu is False.\n",
      "INFO:tensorflow:Writing example 0 of 99\n",
      "INFO:tensorflow:*** Example ***\n",
      "INFO:tensorflow:guid: dev-0\n",
      "INFO:tensorflow:tokens: [CLS] 1 . a rotational angle detection device for a permanent magnet dynamo - electric machine comprising : a stat ##or that includes arm ##at ##ure winding ; a rotor that includes a rotor core and a plurality of permanent magnet ##s ; and a conduct ##ive circuit that includes first conductors extending in an axial direction of the rotor and being disposed in [SEP] 1 . a tangible computer - read ##able medium having stored there ##on computer - ex ##ec ##utable instructions for implementing a custom ##iza ##ble visual user interface on a screen display of a tel ##ep ##hony device comprising : an application program for providing services to a user on the tel ##ep ##hony device ; a shell program that expose ##s [SEP]\n",
      "INFO:tensorflow:input_ids: 101 1015 1012 1037 25254 6466 10788 5080 2005 1037 4568 16853 17205 1011 3751 3698 9605 1024 1037 28093 2953 2008 2950 2849 4017 5397 12788 1025 1037 18929 2008 2950 1037 18929 4563 1998 1037 29018 1997 4568 16853 2015 1025 1998 1037 6204 3512 4984 2008 2950 2034 23396 8402 1999 2019 26819 3257 1997 1996 18929 1998 2108 21866 1999 102 1015 1012 1037 24600 3274 1011 3191 3085 5396 2383 8250 2045 2239 3274 1011 4654 8586 23056 8128 2005 14972 1037 7661 21335 3468 5107 5310 8278 2006 1037 3898 4653 1997 1037 10093 13699 27629 5080 9605 1024 2019 4646 2565 2005 4346 2578 2000 1037 5310 2006 1996 10093 13699 27629 5080 1025 1037 5806 2565 2008 14451 2015 102\n",
      "INFO:tensorflow:input_mask: 1 1 1 1 1 1 1 1 1 1 1 1 1 1 1 1 1 1 1 1 1 1 1 1 1 1 1 1 1 1 1 1 1 1 1 1 1 1 1 1 1 1 1 1 1 1 1 1 1 1 1 1 1 1 1 1 1 1 1 1 1 1 1 1 1 1 1 1 1 1 1 1 1 1 1 1 1 1 1 1 1 1 1 1 1 1 1 1 1 1 1 1 1 1 1 1 1 1 1 1 1 1 1 1 1 1 1 1 1 1 1 1 1 1 1 1 1 1 1 1 1 1 1 1 1 1 1 1\n",
      "INFO:tensorflow:segment_ids: 0 0 0 0 0 0 0 0 0 0 0 0 0 0 0 0 0 0 0 0 0 0 0 0 0 0 0 0 0 0 0 0 0 0 0 0 0 0 0 0 0 0 0 0 0 0 0 0 0 0 0 0 0 0 0 0 0 0 0 0 0 0 0 0 0 1 1 1 1 1 1 1 1 1 1 1 1 1 1 1 1 1 1 1 1 1 1 1 1 1 1 1 1 1 1 1 1 1 1 1 1 1 1 1 1 1 1 1 1 1 1 1 1 1 1 1 1 1 1 1 1 1 1 1 1 1 1 1\n",
      "INFO:tensorflow:label: not_entailment (id = 0)\n",
      "INFO:tensorflow:*** Example ***\n",
      "INFO:tensorflow:guid: dev-1\n",
      "INFO:tensorflow:tokens: [CLS] 1 . a method comprising : sensing electro ##card ##io ##gram ( ec ##g ) data at an ec ##g sensor system ; processing the sensed ec ##g data at the ec ##g sensor system to determine one or more noise values , wherein each noise value is indicative of a measurement of a component of the sensed ec ##g data that is [SEP] 1 . a medical system , comprising : an implant ##able device including a housing and a signal storage element enclosed in the housing , the housing forming an electrode of the device ; an implant ##able medical electrical lead including a first electrode and a second electrode , the first and second electrode ##s forming a sensing pair when the lead [SEP]\n",
      "INFO:tensorflow:input_ids: 101 1015 1012 1037 4118 9605 1024 13851 16175 11522 3695 13113 1006 14925 2290 1007 2951 2012 2019 14925 2290 13617 2291 1025 6364 1996 10596 14925 2290 2951 2012 1996 14925 2290 13617 2291 2000 5646 2028 2030 2062 5005 5300 1010 16726 2169 5005 3643 2003 24668 1997 1037 10903 1997 1037 6922 1997 1996 10596 14925 2290 2951 2008 2003 102 1015 1012 1037 2966 2291 1010 9605 1024 2019 27159 3085 5080 2164 1037 3847 1998 1037 4742 5527 5783 10837 1999 1996 3847 1010 1996 3847 5716 2019 28688 1997 1996 5080 1025 2019 27159 3085 2966 5992 2599 2164 1037 2034 28688 1998 1037 2117 28688 1010 1996 2034 1998 2117 28688 2015 5716 1037 13851 3940 2043 1996 2599 102\n",
      "INFO:tensorflow:input_mask: 1 1 1 1 1 1 1 1 1 1 1 1 1 1 1 1 1 1 1 1 1 1 1 1 1 1 1 1 1 1 1 1 1 1 1 1 1 1 1 1 1 1 1 1 1 1 1 1 1 1 1 1 1 1 1 1 1 1 1 1 1 1 1 1 1 1 1 1 1 1 1 1 1 1 1 1 1 1 1 1 1 1 1 1 1 1 1 1 1 1 1 1 1 1 1 1 1 1 1 1 1 1 1 1 1 1 1 1 1 1 1 1 1 1 1 1 1 1 1 1 1 1 1 1 1 1 1 1\n",
      "INFO:tensorflow:segment_ids: 0 0 0 0 0 0 0 0 0 0 0 0 0 0 0 0 0 0 0 0 0 0 0 0 0 0 0 0 0 0 0 0 0 0 0 0 0 0 0 0 0 0 0 0 0 0 0 0 0 0 0 0 0 0 0 0 0 0 0 0 0 0 0 0 0 1 1 1 1 1 1 1 1 1 1 1 1 1 1 1 1 1 1 1 1 1 1 1 1 1 1 1 1 1 1 1 1 1 1 1 1 1 1 1 1 1 1 1 1 1 1 1 1 1 1 1 1 1 1 1 1 1 1 1 1 1 1 1\n",
      "INFO:tensorflow:label: entailment (id = 1)\n",
      "INFO:tensorflow:*** Example ***\n",
      "INFO:tensorflow:guid: dev-2\n",
      "INFO:tensorflow:tokens: [CLS] 1 . a system for controlling temperature inside a machine cab defining an interior and an exterior , the system comprising : a blow ##er fan configured to be coupled to the exterior of the cab ; an eva ##por ##ator configured to be coupled to the exterior of the cab at a location separated from the blow ##er fan ; and a [SEP] 1 . an integrated differential receiver for an input / output pad comprising : a single gate oxide differential receiver that receives an input voltage ; a switch ##able voltage supply circuit operative ##ly coupled to the single gate oxide differential receiver , switch ##able through at least one control signal , that indicates an input signal voltage range , to select [SEP]\n",
      "INFO:tensorflow:input_ids: 101 1015 1012 1037 2291 2005 9756 4860 2503 1037 3698 9298 12854 2019 4592 1998 2019 8829 1010 1996 2291 9605 1024 1037 6271 2121 5470 26928 2000 2022 11211 2000 1996 8829 1997 1996 9298 1025 2019 9345 17822 8844 26928 2000 2022 11211 2000 1996 8829 1997 1996 9298 2012 1037 3295 5459 2013 1996 6271 2121 5470 1025 1998 1037 102 1015 1012 2019 6377 11658 8393 2005 2019 7953 1013 6434 11687 9605 1024 1037 2309 4796 15772 11658 8393 2008 8267 2019 7953 10004 1025 1037 6942 3085 10004 4425 4984 12160 2135 11211 2000 1996 2309 4796 15772 11658 8393 1010 6942 3085 2083 2012 2560 2028 2491 4742 1010 2008 7127 2019 7953 4742 10004 2846 1010 2000 7276 102\n",
      "INFO:tensorflow:input_mask: 1 1 1 1 1 1 1 1 1 1 1 1 1 1 1 1 1 1 1 1 1 1 1 1 1 1 1 1 1 1 1 1 1 1 1 1 1 1 1 1 1 1 1 1 1 1 1 1 1 1 1 1 1 1 1 1 1 1 1 1 1 1 1 1 1 1 1 1 1 1 1 1 1 1 1 1 1 1 1 1 1 1 1 1 1 1 1 1 1 1 1 1 1 1 1 1 1 1 1 1 1 1 1 1 1 1 1 1 1 1 1 1 1 1 1 1 1 1 1 1 1 1 1 1 1 1 1 1\n",
      "INFO:tensorflow:segment_ids: 0 0 0 0 0 0 0 0 0 0 0 0 0 0 0 0 0 0 0 0 0 0 0 0 0 0 0 0 0 0 0 0 0 0 0 0 0 0 0 0 0 0 0 0 0 0 0 0 0 0 0 0 0 0 0 0 0 0 0 0 0 0 0 0 0 1 1 1 1 1 1 1 1 1 1 1 1 1 1 1 1 1 1 1 1 1 1 1 1 1 1 1 1 1 1 1 1 1 1 1 1 1 1 1 1 1 1 1 1 1 1 1 1 1 1 1 1 1 1 1 1 1 1 1 1 1 1 1\n",
      "INFO:tensorflow:label: not_entailment (id = 0)\n",
      "INFO:tensorflow:*** Example ***\n",
      "INFO:tensorflow:guid: dev-3\n",
      "INFO:tensorflow:tokens: [CLS] 1 . a recording apparatus for recording updated data onto a re ##wr ##ita ##ble portable recording medium on which original data has been copied from a read - only recording medium , the original data including first stream data , the updated data including second stream data , and the updated data to be combined virtually with the original data to form [SEP] 1 . a method for indicating a priority of a voice over internet protocol ( vo ##ip ) call , comprising : receiving a dialed number for a connection ; generating a call setup request including the dialed number ; receiving a caller - specified priority for the call based on a caller input provided con ##tem ##por ##aneous ##ly with the [SEP]\n",
      "INFO:tensorflow:input_ids: 101 1015 1012 1037 3405 14709 2005 3405 7172 2951 3031 1037 2128 13088 6590 3468 12109 3405 5396 2006 2029 2434 2951 2038 2042 15826 2013 1037 3191 1011 2069 3405 5396 1010 1996 2434 2951 2164 2034 5460 2951 1010 1996 7172 2951 2164 2117 5460 2951 1010 1998 1996 7172 2951 2000 2022 4117 8990 2007 1996 2434 2951 2000 2433 102 1015 1012 1037 4118 2005 8131 1037 9470 1997 1037 2376 2058 4274 8778 1006 29536 11514 1007 2655 1010 9605 1024 4909 1037 21300 2193 2005 1037 4434 1025 11717 1037 2655 16437 5227 2164 1996 21300 2193 1025 4909 1037 20587 1011 9675 9470 2005 1996 2655 2241 2006 1037 20587 7953 3024 9530 18532 17822 17191 2135 2007 1996 102\n",
      "INFO:tensorflow:input_mask: 1 1 1 1 1 1 1 1 1 1 1 1 1 1 1 1 1 1 1 1 1 1 1 1 1 1 1 1 1 1 1 1 1 1 1 1 1 1 1 1 1 1 1 1 1 1 1 1 1 1 1 1 1 1 1 1 1 1 1 1 1 1 1 1 1 1 1 1 1 1 1 1 1 1 1 1 1 1 1 1 1 1 1 1 1 1 1 1 1 1 1 1 1 1 1 1 1 1 1 1 1 1 1 1 1 1 1 1 1 1 1 1 1 1 1 1 1 1 1 1 1 1 1 1 1 1 1 1\n",
      "INFO:tensorflow:segment_ids: 0 0 0 0 0 0 0 0 0 0 0 0 0 0 0 0 0 0 0 0 0 0 0 0 0 0 0 0 0 0 0 0 0 0 0 0 0 0 0 0 0 0 0 0 0 0 0 0 0 0 0 0 0 0 0 0 0 0 0 0 0 0 0 0 0 1 1 1 1 1 1 1 1 1 1 1 1 1 1 1 1 1 1 1 1 1 1 1 1 1 1 1 1 1 1 1 1 1 1 1 1 1 1 1 1 1 1 1 1 1 1 1 1 1 1 1 1 1 1 1 1 1 1 1 1 1 1 1\n",
      "INFO:tensorflow:label: not_entailment (id = 0)\n"
     ]
    },
    {
     "name": "stdout",
     "output_type": "stream",
     "text": [
      "INFO:tensorflow:*** Example ***\n",
      "INFO:tensorflow:guid: dev-4\n",
      "INFO:tensorflow:tokens: [CLS] 1 . apparatus for moving a material within an enclosure comprising : a field - responsive fluid including a plurality of particles suspended in a base fluid , the field - responsive fluid disposed in the enclosure ; a field generating source which generates a field in response to which at least some of the plurality of particles align , the field being [SEP] 1 . a well ##bor ##e pack ##er having an expand ##able packing element for sealing a well ann ##ulus , an act ##ua ##tor for expanding said packing element into operative engagement across said ann ##ulus and an electrically control ##lab ##le fluid for controlling the operation of said act ##ua ##tor , wherein said electrically control ##lab ##le fluid is [SEP]\n",
      "INFO:tensorflow:input_ids: 101 1015 1012 14709 2005 3048 1037 3430 2306 2019 17539 9605 1024 1037 2492 1011 26651 8331 2164 1037 29018 1997 9309 6731 1999 1037 2918 8331 1010 1996 2492 1011 26651 8331 21866 1999 1996 17539 1025 1037 2492 11717 3120 2029 19421 1037 2492 1999 3433 2000 2029 2012 2560 2070 1997 1996 29018 1997 9309 25705 1010 1996 2492 2108 102 1015 1012 1037 2092 12821 2063 5308 2121 2383 2019 7818 3085 14743 5783 2005 23038 1037 2092 5754 11627 1010 2019 2552 6692 4263 2005 9186 2056 14743 5783 2046 12160 8147 2408 2056 5754 11627 1998 2019 29103 2491 20470 2571 8331 2005 9756 1996 3169 1997 2056 2552 6692 4263 1010 16726 2056 29103 2491 20470 2571 8331 2003 102\n",
      "INFO:tensorflow:input_mask: 1 1 1 1 1 1 1 1 1 1 1 1 1 1 1 1 1 1 1 1 1 1 1 1 1 1 1 1 1 1 1 1 1 1 1 1 1 1 1 1 1 1 1 1 1 1 1 1 1 1 1 1 1 1 1 1 1 1 1 1 1 1 1 1 1 1 1 1 1 1 1 1 1 1 1 1 1 1 1 1 1 1 1 1 1 1 1 1 1 1 1 1 1 1 1 1 1 1 1 1 1 1 1 1 1 1 1 1 1 1 1 1 1 1 1 1 1 1 1 1 1 1 1 1 1 1 1 1\n",
      "INFO:tensorflow:segment_ids: 0 0 0 0 0 0 0 0 0 0 0 0 0 0 0 0 0 0 0 0 0 0 0 0 0 0 0 0 0 0 0 0 0 0 0 0 0 0 0 0 0 0 0 0 0 0 0 0 0 0 0 0 0 0 0 0 0 0 0 0 0 0 0 0 0 1 1 1 1 1 1 1 1 1 1 1 1 1 1 1 1 1 1 1 1 1 1 1 1 1 1 1 1 1 1 1 1 1 1 1 1 1 1 1 1 1 1 1 1 1 1 1 1 1 1 1 1 1 1 1 1 1 1 1 1 1 1 1\n",
      "INFO:tensorflow:label: entailment (id = 1)\n",
      "INFO:tensorflow:***** Running evaluation *****\n",
      "INFO:tensorflow:  Num examples = 99\n",
      "INFO:tensorflow:  Batch size = 8\n",
      "INFO:tensorflow:Could not find trained model in model_dir: ./bert/tmp/rte_output/, running initialization to evaluate.\n",
      "WARNING:tensorflow:From ./bert/run_classifier.py:557: map_and_batch (from tensorflow.contrib.data.python.ops.batching) is deprecated and will be removed in a future version.\n",
      "Instructions for updating:\n",
      "Use `tf.data.experimental.map_and_batch(...)`.\n",
      "INFO:tensorflow:Calling model_fn.\n",
      "INFO:tensorflow:Running eval on CPU\n",
      "INFO:tensorflow:*** Features ***\n",
      "INFO:tensorflow:  name = input_ids, shape = (?, 128)\n",
      "INFO:tensorflow:  name = input_mask, shape = (?, 128)\n",
      "INFO:tensorflow:  name = label_ids, shape = (?,)\n",
      "INFO:tensorflow:  name = segment_ids, shape = (?, 128)\n",
      "INFO:tensorflow:**** Trainable Variables ****\n",
      "INFO:tensorflow:  name = bert/embeddings/word_embeddings:0, shape = (30522, 768), *INIT_FROM_CKPT*\n",
      "INFO:tensorflow:  name = bert/embeddings/token_type_embeddings:0, shape = (2, 768), *INIT_FROM_CKPT*\n",
      "INFO:tensorflow:  name = bert/embeddings/position_embeddings:0, shape = (512, 768), *INIT_FROM_CKPT*\n",
      "INFO:tensorflow:  name = bert/embeddings/LayerNorm/beta:0, shape = (768,), *INIT_FROM_CKPT*\n",
      "INFO:tensorflow:  name = bert/embeddings/LayerNorm/gamma:0, shape = (768,), *INIT_FROM_CKPT*\n",
      "INFO:tensorflow:  name = bert/encoder/layer_0/attention/self/query/kernel:0, shape = (768, 768), *INIT_FROM_CKPT*\n",
      "INFO:tensorflow:  name = bert/encoder/layer_0/attention/self/query/bias:0, shape = (768,), *INIT_FROM_CKPT*\n",
      "INFO:tensorflow:  name = bert/encoder/layer_0/attention/self/key/kernel:0, shape = (768, 768), *INIT_FROM_CKPT*\n",
      "INFO:tensorflow:  name = bert/encoder/layer_0/attention/self/key/bias:0, shape = (768,), *INIT_FROM_CKPT*\n",
      "INFO:tensorflow:  name = bert/encoder/layer_0/attention/self/value/kernel:0, shape = (768, 768), *INIT_FROM_CKPT*\n",
      "INFO:tensorflow:  name = bert/encoder/layer_0/attention/self/value/bias:0, shape = (768,), *INIT_FROM_CKPT*\n",
      "INFO:tensorflow:  name = bert/encoder/layer_0/attention/output/dense/kernel:0, shape = (768, 768), *INIT_FROM_CKPT*\n",
      "INFO:tensorflow:  name = bert/encoder/layer_0/attention/output/dense/bias:0, shape = (768,), *INIT_FROM_CKPT*\n",
      "INFO:tensorflow:  name = bert/encoder/layer_0/attention/output/LayerNorm/beta:0, shape = (768,), *INIT_FROM_CKPT*\n",
      "INFO:tensorflow:  name = bert/encoder/layer_0/attention/output/LayerNorm/gamma:0, shape = (768,), *INIT_FROM_CKPT*\n",
      "INFO:tensorflow:  name = bert/encoder/layer_0/intermediate/dense/kernel:0, shape = (768, 3072), *INIT_FROM_CKPT*\n",
      "INFO:tensorflow:  name = bert/encoder/layer_0/intermediate/dense/bias:0, shape = (3072,), *INIT_FROM_CKPT*\n",
      "INFO:tensorflow:  name = bert/encoder/layer_0/output/dense/kernel:0, shape = (3072, 768), *INIT_FROM_CKPT*\n",
      "INFO:tensorflow:  name = bert/encoder/layer_0/output/dense/bias:0, shape = (768,), *INIT_FROM_CKPT*\n",
      "INFO:tensorflow:  name = bert/encoder/layer_0/output/LayerNorm/beta:0, shape = (768,), *INIT_FROM_CKPT*\n",
      "INFO:tensorflow:  name = bert/encoder/layer_0/output/LayerNorm/gamma:0, shape = (768,), *INIT_FROM_CKPT*\n",
      "INFO:tensorflow:  name = bert/encoder/layer_1/attention/self/query/kernel:0, shape = (768, 768), *INIT_FROM_CKPT*\n",
      "INFO:tensorflow:  name = bert/encoder/layer_1/attention/self/query/bias:0, shape = (768,), *INIT_FROM_CKPT*\n",
      "INFO:tensorflow:  name = bert/encoder/layer_1/attention/self/key/kernel:0, shape = (768, 768), *INIT_FROM_CKPT*\n",
      "INFO:tensorflow:  name = bert/encoder/layer_1/attention/self/key/bias:0, shape = (768,), *INIT_FROM_CKPT*\n",
      "INFO:tensorflow:  name = bert/encoder/layer_1/attention/self/value/kernel:0, shape = (768, 768), *INIT_FROM_CKPT*\n",
      "INFO:tensorflow:  name = bert/encoder/layer_1/attention/self/value/bias:0, shape = (768,), *INIT_FROM_CKPT*\n",
      "INFO:tensorflow:  name = bert/encoder/layer_1/attention/output/dense/kernel:0, shape = (768, 768), *INIT_FROM_CKPT*\n",
      "INFO:tensorflow:  name = bert/encoder/layer_1/attention/output/dense/bias:0, shape = (768,), *INIT_FROM_CKPT*\n",
      "INFO:tensorflow:  name = bert/encoder/layer_1/attention/output/LayerNorm/beta:0, shape = (768,), *INIT_FROM_CKPT*\n",
      "INFO:tensorflow:  name = bert/encoder/layer_1/attention/output/LayerNorm/gamma:0, shape = (768,), *INIT_FROM_CKPT*\n",
      "INFO:tensorflow:  name = bert/encoder/layer_1/intermediate/dense/kernel:0, shape = (768, 3072), *INIT_FROM_CKPT*\n",
      "INFO:tensorflow:  name = bert/encoder/layer_1/intermediate/dense/bias:0, shape = (3072,), *INIT_FROM_CKPT*\n",
      "INFO:tensorflow:  name = bert/encoder/layer_1/output/dense/kernel:0, shape = (3072, 768), *INIT_FROM_CKPT*\n",
      "INFO:tensorflow:  name = bert/encoder/layer_1/output/dense/bias:0, shape = (768,), *INIT_FROM_CKPT*\n",
      "INFO:tensorflow:  name = bert/encoder/layer_1/output/LayerNorm/beta:0, shape = (768,), *INIT_FROM_CKPT*\n",
      "INFO:tensorflow:  name = bert/encoder/layer_1/output/LayerNorm/gamma:0, shape = (768,), *INIT_FROM_CKPT*\n",
      "INFO:tensorflow:  name = bert/encoder/layer_2/attention/self/query/kernel:0, shape = (768, 768), *INIT_FROM_CKPT*\n",
      "INFO:tensorflow:  name = bert/encoder/layer_2/attention/self/query/bias:0, shape = (768,), *INIT_FROM_CKPT*\n",
      "INFO:tensorflow:  name = bert/encoder/layer_2/attention/self/key/kernel:0, shape = (768, 768), *INIT_FROM_CKPT*\n",
      "INFO:tensorflow:  name = bert/encoder/layer_2/attention/self/key/bias:0, shape = (768,), *INIT_FROM_CKPT*\n",
      "INFO:tensorflow:  name = bert/encoder/layer_2/attention/self/value/kernel:0, shape = (768, 768), *INIT_FROM_CKPT*\n",
      "INFO:tensorflow:  name = bert/encoder/layer_2/attention/self/value/bias:0, shape = (768,), *INIT_FROM_CKPT*\n",
      "INFO:tensorflow:  name = bert/encoder/layer_2/attention/output/dense/kernel:0, shape = (768, 768), *INIT_FROM_CKPT*\n",
      "INFO:tensorflow:  name = bert/encoder/layer_2/attention/output/dense/bias:0, shape = (768,), *INIT_FROM_CKPT*\n",
      "INFO:tensorflow:  name = bert/encoder/layer_2/attention/output/LayerNorm/beta:0, shape = (768,), *INIT_FROM_CKPT*\n",
      "INFO:tensorflow:  name = bert/encoder/layer_2/attention/output/LayerNorm/gamma:0, shape = (768,), *INIT_FROM_CKPT*\n",
      "INFO:tensorflow:  name = bert/encoder/layer_2/intermediate/dense/kernel:0, shape = (768, 3072), *INIT_FROM_CKPT*\n",
      "INFO:tensorflow:  name = bert/encoder/layer_2/intermediate/dense/bias:0, shape = (3072,), *INIT_FROM_CKPT*\n",
      "INFO:tensorflow:  name = bert/encoder/layer_2/output/dense/kernel:0, shape = (3072, 768), *INIT_FROM_CKPT*\n",
      "INFO:tensorflow:  name = bert/encoder/layer_2/output/dense/bias:0, shape = (768,), *INIT_FROM_CKPT*\n",
      "INFO:tensorflow:  name = bert/encoder/layer_2/output/LayerNorm/beta:0, shape = (768,), *INIT_FROM_CKPT*\n",
      "INFO:tensorflow:  name = bert/encoder/layer_2/output/LayerNorm/gamma:0, shape = (768,), *INIT_FROM_CKPT*\n",
      "INFO:tensorflow:  name = bert/encoder/layer_3/attention/self/query/kernel:0, shape = (768, 768), *INIT_FROM_CKPT*\n",
      "INFO:tensorflow:  name = bert/encoder/layer_3/attention/self/query/bias:0, shape = (768,), *INIT_FROM_CKPT*\n",
      "INFO:tensorflow:  name = bert/encoder/layer_3/attention/self/key/kernel:0, shape = (768, 768), *INIT_FROM_CKPT*\n",
      "INFO:tensorflow:  name = bert/encoder/layer_3/attention/self/key/bias:0, shape = (768,), *INIT_FROM_CKPT*\n",
      "INFO:tensorflow:  name = bert/encoder/layer_3/attention/self/value/kernel:0, shape = (768, 768), *INIT_FROM_CKPT*\n",
      "INFO:tensorflow:  name = bert/encoder/layer_3/attention/self/value/bias:0, shape = (768,), *INIT_FROM_CKPT*\n",
      "INFO:tensorflow:  name = bert/encoder/layer_3/attention/output/dense/kernel:0, shape = (768, 768), *INIT_FROM_CKPT*\n",
      "INFO:tensorflow:  name = bert/encoder/layer_3/attention/output/dense/bias:0, shape = (768,), *INIT_FROM_CKPT*\n",
      "INFO:tensorflow:  name = bert/encoder/layer_3/attention/output/LayerNorm/beta:0, shape = (768,), *INIT_FROM_CKPT*\n",
      "INFO:tensorflow:  name = bert/encoder/layer_3/attention/output/LayerNorm/gamma:0, shape = (768,), *INIT_FROM_CKPT*\n",
      "INFO:tensorflow:  name = bert/encoder/layer_3/intermediate/dense/kernel:0, shape = (768, 3072), *INIT_FROM_CKPT*\n",
      "INFO:tensorflow:  name = bert/encoder/layer_3/intermediate/dense/bias:0, shape = (3072,), *INIT_FROM_CKPT*\n",
      "INFO:tensorflow:  name = bert/encoder/layer_3/output/dense/kernel:0, shape = (3072, 768), *INIT_FROM_CKPT*\n",
      "INFO:tensorflow:  name = bert/encoder/layer_3/output/dense/bias:0, shape = (768,), *INIT_FROM_CKPT*\n",
      "INFO:tensorflow:  name = bert/encoder/layer_3/output/LayerNorm/beta:0, shape = (768,), *INIT_FROM_CKPT*\n",
      "INFO:tensorflow:  name = bert/encoder/layer_3/output/LayerNorm/gamma:0, shape = (768,), *INIT_FROM_CKPT*\n",
      "INFO:tensorflow:  name = bert/encoder/layer_4/attention/self/query/kernel:0, shape = (768, 768), *INIT_FROM_CKPT*\n",
      "INFO:tensorflow:  name = bert/encoder/layer_4/attention/self/query/bias:0, shape = (768,), *INIT_FROM_CKPT*\n",
      "INFO:tensorflow:  name = bert/encoder/layer_4/attention/self/key/kernel:0, shape = (768, 768), *INIT_FROM_CKPT*\n",
      "INFO:tensorflow:  name = bert/encoder/layer_4/attention/self/key/bias:0, shape = (768,), *INIT_FROM_CKPT*\n",
      "INFO:tensorflow:  name = bert/encoder/layer_4/attention/self/value/kernel:0, shape = (768, 768), *INIT_FROM_CKPT*\n",
      "INFO:tensorflow:  name = bert/encoder/layer_4/attention/self/value/bias:0, shape = (768,), *INIT_FROM_CKPT*\n",
      "INFO:tensorflow:  name = bert/encoder/layer_4/attention/output/dense/kernel:0, shape = (768, 768), *INIT_FROM_CKPT*\n",
      "INFO:tensorflow:  name = bert/encoder/layer_4/attention/output/dense/bias:0, shape = (768,), *INIT_FROM_CKPT*\n",
      "INFO:tensorflow:  name = bert/encoder/layer_4/attention/output/LayerNorm/beta:0, shape = (768,), *INIT_FROM_CKPT*\n",
      "INFO:tensorflow:  name = bert/encoder/layer_4/attention/output/LayerNorm/gamma:0, shape = (768,), *INIT_FROM_CKPT*\n",
      "INFO:tensorflow:  name = bert/encoder/layer_4/intermediate/dense/kernel:0, shape = (768, 3072), *INIT_FROM_CKPT*\n",
      "INFO:tensorflow:  name = bert/encoder/layer_4/intermediate/dense/bias:0, shape = (3072,), *INIT_FROM_CKPT*\n",
      "INFO:tensorflow:  name = bert/encoder/layer_4/output/dense/kernel:0, shape = (3072, 768), *INIT_FROM_CKPT*\n",
      "INFO:tensorflow:  name = bert/encoder/layer_4/output/dense/bias:0, shape = (768,), *INIT_FROM_CKPT*\n",
      "INFO:tensorflow:  name = bert/encoder/layer_4/output/LayerNorm/beta:0, shape = (768,), *INIT_FROM_CKPT*\n",
      "INFO:tensorflow:  name = bert/encoder/layer_4/output/LayerNorm/gamma:0, shape = (768,), *INIT_FROM_CKPT*\n",
      "INFO:tensorflow:  name = bert/encoder/layer_5/attention/self/query/kernel:0, shape = (768, 768), *INIT_FROM_CKPT*\n",
      "INFO:tensorflow:  name = bert/encoder/layer_5/attention/self/query/bias:0, shape = (768,), *INIT_FROM_CKPT*\n",
      "INFO:tensorflow:  name = bert/encoder/layer_5/attention/self/key/kernel:0, shape = (768, 768), *INIT_FROM_CKPT*\n",
      "INFO:tensorflow:  name = bert/encoder/layer_5/attention/self/key/bias:0, shape = (768,), *INIT_FROM_CKPT*\n",
      "INFO:tensorflow:  name = bert/encoder/layer_5/attention/self/value/kernel:0, shape = (768, 768), *INIT_FROM_CKPT*\n",
      "INFO:tensorflow:  name = bert/encoder/layer_5/attention/self/value/bias:0, shape = (768,), *INIT_FROM_CKPT*\n",
      "INFO:tensorflow:  name = bert/encoder/layer_5/attention/output/dense/kernel:0, shape = (768, 768), *INIT_FROM_CKPT*\n",
      "INFO:tensorflow:  name = bert/encoder/layer_5/attention/output/dense/bias:0, shape = (768,), *INIT_FROM_CKPT*\n",
      "INFO:tensorflow:  name = bert/encoder/layer_5/attention/output/LayerNorm/beta:0, shape = (768,), *INIT_FROM_CKPT*\n",
      "INFO:tensorflow:  name = bert/encoder/layer_5/attention/output/LayerNorm/gamma:0, shape = (768,), *INIT_FROM_CKPT*\n",
      "INFO:tensorflow:  name = bert/encoder/layer_5/intermediate/dense/kernel:0, shape = (768, 3072), *INIT_FROM_CKPT*\n",
      "INFO:tensorflow:  name = bert/encoder/layer_5/intermediate/dense/bias:0, shape = (3072,), *INIT_FROM_CKPT*\n",
      "INFO:tensorflow:  name = bert/encoder/layer_5/output/dense/kernel:0, shape = (3072, 768), *INIT_FROM_CKPT*\n",
      "INFO:tensorflow:  name = bert/encoder/layer_5/output/dense/bias:0, shape = (768,), *INIT_FROM_CKPT*\n",
      "INFO:tensorflow:  name = bert/encoder/layer_5/output/LayerNorm/beta:0, shape = (768,), *INIT_FROM_CKPT*\n",
      "INFO:tensorflow:  name = bert/encoder/layer_5/output/LayerNorm/gamma:0, shape = (768,), *INIT_FROM_CKPT*\n",
      "INFO:tensorflow:  name = bert/encoder/layer_6/attention/self/query/kernel:0, shape = (768, 768), *INIT_FROM_CKPT*\n",
      "INFO:tensorflow:  name = bert/encoder/layer_6/attention/self/query/bias:0, shape = (768,), *INIT_FROM_CKPT*\n",
      "INFO:tensorflow:  name = bert/encoder/layer_6/attention/self/key/kernel:0, shape = (768, 768), *INIT_FROM_CKPT*\n",
      "INFO:tensorflow:  name = bert/encoder/layer_6/attention/self/key/bias:0, shape = (768,), *INIT_FROM_CKPT*\n",
      "INFO:tensorflow:  name = bert/encoder/layer_6/attention/self/value/kernel:0, shape = (768, 768), *INIT_FROM_CKPT*\n",
      "INFO:tensorflow:  name = bert/encoder/layer_6/attention/self/value/bias:0, shape = (768,), *INIT_FROM_CKPT*\n",
      "INFO:tensorflow:  name = bert/encoder/layer_6/attention/output/dense/kernel:0, shape = (768, 768), *INIT_FROM_CKPT*\n",
      "INFO:tensorflow:  name = bert/encoder/layer_6/attention/output/dense/bias:0, shape = (768,), *INIT_FROM_CKPT*\n",
      "INFO:tensorflow:  name = bert/encoder/layer_6/attention/output/LayerNorm/beta:0, shape = (768,), *INIT_FROM_CKPT*\n",
      "INFO:tensorflow:  name = bert/encoder/layer_6/attention/output/LayerNorm/gamma:0, shape = (768,), *INIT_FROM_CKPT*\n",
      "INFO:tensorflow:  name = bert/encoder/layer_6/intermediate/dense/kernel:0, shape = (768, 3072), *INIT_FROM_CKPT*\n",
      "INFO:tensorflow:  name = bert/encoder/layer_6/intermediate/dense/bias:0, shape = (3072,), *INIT_FROM_CKPT*\n",
      "INFO:tensorflow:  name = bert/encoder/layer_6/output/dense/kernel:0, shape = (3072, 768), *INIT_FROM_CKPT*\n",
      "INFO:tensorflow:  name = bert/encoder/layer_6/output/dense/bias:0, shape = (768,), *INIT_FROM_CKPT*\n",
      "INFO:tensorflow:  name = bert/encoder/layer_6/output/LayerNorm/beta:0, shape = (768,), *INIT_FROM_CKPT*\n",
      "INFO:tensorflow:  name = bert/encoder/layer_6/output/LayerNorm/gamma:0, shape = (768,), *INIT_FROM_CKPT*\n",
      "INFO:tensorflow:  name = bert/encoder/layer_7/attention/self/query/kernel:0, shape = (768, 768), *INIT_FROM_CKPT*\n",
      "INFO:tensorflow:  name = bert/encoder/layer_7/attention/self/query/bias:0, shape = (768,), *INIT_FROM_CKPT*\n",
      "INFO:tensorflow:  name = bert/encoder/layer_7/attention/self/key/kernel:0, shape = (768, 768), *INIT_FROM_CKPT*\n",
      "INFO:tensorflow:  name = bert/encoder/layer_7/attention/self/key/bias:0, shape = (768,), *INIT_FROM_CKPT*\n",
      "INFO:tensorflow:  name = bert/encoder/layer_7/attention/self/value/kernel:0, shape = (768, 768), *INIT_FROM_CKPT*\n",
      "INFO:tensorflow:  name = bert/encoder/layer_7/attention/self/value/bias:0, shape = (768,), *INIT_FROM_CKPT*\n",
      "INFO:tensorflow:  name = bert/encoder/layer_7/attention/output/dense/kernel:0, shape = (768, 768), *INIT_FROM_CKPT*\n",
      "INFO:tensorflow:  name = bert/encoder/layer_7/attention/output/dense/bias:0, shape = (768,), *INIT_FROM_CKPT*\n",
      "INFO:tensorflow:  name = bert/encoder/layer_7/attention/output/LayerNorm/beta:0, shape = (768,), *INIT_FROM_CKPT*\n",
      "INFO:tensorflow:  name = bert/encoder/layer_7/attention/output/LayerNorm/gamma:0, shape = (768,), *INIT_FROM_CKPT*\n",
      "INFO:tensorflow:  name = bert/encoder/layer_7/intermediate/dense/kernel:0, shape = (768, 3072), *INIT_FROM_CKPT*\n",
      "INFO:tensorflow:  name = bert/encoder/layer_7/intermediate/dense/bias:0, shape = (3072,), *INIT_FROM_CKPT*\n",
      "INFO:tensorflow:  name = bert/encoder/layer_7/output/dense/kernel:0, shape = (3072, 768), *INIT_FROM_CKPT*\n",
      "INFO:tensorflow:  name = bert/encoder/layer_7/output/dense/bias:0, shape = (768,), *INIT_FROM_CKPT*\n",
      "INFO:tensorflow:  name = bert/encoder/layer_7/output/LayerNorm/beta:0, shape = (768,), *INIT_FROM_CKPT*\n",
      "INFO:tensorflow:  name = bert/encoder/layer_7/output/LayerNorm/gamma:0, shape = (768,), *INIT_FROM_CKPT*\n",
      "INFO:tensorflow:  name = bert/encoder/layer_8/attention/self/query/kernel:0, shape = (768, 768), *INIT_FROM_CKPT*\n",
      "INFO:tensorflow:  name = bert/encoder/layer_8/attention/self/query/bias:0, shape = (768,), *INIT_FROM_CKPT*\n",
      "INFO:tensorflow:  name = bert/encoder/layer_8/attention/self/key/kernel:0, shape = (768, 768), *INIT_FROM_CKPT*\n",
      "INFO:tensorflow:  name = bert/encoder/layer_8/attention/self/key/bias:0, shape = (768,), *INIT_FROM_CKPT*\n",
      "INFO:tensorflow:  name = bert/encoder/layer_8/attention/self/value/kernel:0, shape = (768, 768), *INIT_FROM_CKPT*\n",
      "INFO:tensorflow:  name = bert/encoder/layer_8/attention/self/value/bias:0, shape = (768,), *INIT_FROM_CKPT*\n",
      "INFO:tensorflow:  name = bert/encoder/layer_8/attention/output/dense/kernel:0, shape = (768, 768), *INIT_FROM_CKPT*\n",
      "INFO:tensorflow:  name = bert/encoder/layer_8/attention/output/dense/bias:0, shape = (768,), *INIT_FROM_CKPT*\n",
      "INFO:tensorflow:  name = bert/encoder/layer_8/attention/output/LayerNorm/beta:0, shape = (768,), *INIT_FROM_CKPT*\n",
      "INFO:tensorflow:  name = bert/encoder/layer_8/attention/output/LayerNorm/gamma:0, shape = (768,), *INIT_FROM_CKPT*\n",
      "INFO:tensorflow:  name = bert/encoder/layer_8/intermediate/dense/kernel:0, shape = (768, 3072), *INIT_FROM_CKPT*\n",
      "INFO:tensorflow:  name = bert/encoder/layer_8/intermediate/dense/bias:0, shape = (3072,), *INIT_FROM_CKPT*\n",
      "INFO:tensorflow:  name = bert/encoder/layer_8/output/dense/kernel:0, shape = (3072, 768), *INIT_FROM_CKPT*\n",
      "INFO:tensorflow:  name = bert/encoder/layer_8/output/dense/bias:0, shape = (768,), *INIT_FROM_CKPT*\n",
      "INFO:tensorflow:  name = bert/encoder/layer_8/output/LayerNorm/beta:0, shape = (768,), *INIT_FROM_CKPT*\n",
      "INFO:tensorflow:  name = bert/encoder/layer_8/output/LayerNorm/gamma:0, shape = (768,), *INIT_FROM_CKPT*\n",
      "INFO:tensorflow:  name = bert/encoder/layer_9/attention/self/query/kernel:0, shape = (768, 768), *INIT_FROM_CKPT*\n",
      "INFO:tensorflow:  name = bert/encoder/layer_9/attention/self/query/bias:0, shape = (768,), *INIT_FROM_CKPT*\n",
      "INFO:tensorflow:  name = bert/encoder/layer_9/attention/self/key/kernel:0, shape = (768, 768), *INIT_FROM_CKPT*\n",
      "INFO:tensorflow:  name = bert/encoder/layer_9/attention/self/key/bias:0, shape = (768,), *INIT_FROM_CKPT*\n",
      "INFO:tensorflow:  name = bert/encoder/layer_9/attention/self/value/kernel:0, shape = (768, 768), *INIT_FROM_CKPT*\n",
      "INFO:tensorflow:  name = bert/encoder/layer_9/attention/self/value/bias:0, shape = (768,), *INIT_FROM_CKPT*\n",
      "INFO:tensorflow:  name = bert/encoder/layer_9/attention/output/dense/kernel:0, shape = (768, 768), *INIT_FROM_CKPT*\n",
      "INFO:tensorflow:  name = bert/encoder/layer_9/attention/output/dense/bias:0, shape = (768,), *INIT_FROM_CKPT*\n",
      "INFO:tensorflow:  name = bert/encoder/layer_9/attention/output/LayerNorm/beta:0, shape = (768,), *INIT_FROM_CKPT*\n",
      "INFO:tensorflow:  name = bert/encoder/layer_9/attention/output/LayerNorm/gamma:0, shape = (768,), *INIT_FROM_CKPT*\n",
      "INFO:tensorflow:  name = bert/encoder/layer_9/intermediate/dense/kernel:0, shape = (768, 3072), *INIT_FROM_CKPT*\n",
      "INFO:tensorflow:  name = bert/encoder/layer_9/intermediate/dense/bias:0, shape = (3072,), *INIT_FROM_CKPT*\n",
      "INFO:tensorflow:  name = bert/encoder/layer_9/output/dense/kernel:0, shape = (3072, 768), *INIT_FROM_CKPT*\n",
      "INFO:tensorflow:  name = bert/encoder/layer_9/output/dense/bias:0, shape = (768,), *INIT_FROM_CKPT*\n",
      "INFO:tensorflow:  name = bert/encoder/layer_9/output/LayerNorm/beta:0, shape = (768,), *INIT_FROM_CKPT*\n",
      "INFO:tensorflow:  name = bert/encoder/layer_9/output/LayerNorm/gamma:0, shape = (768,), *INIT_FROM_CKPT*\n",
      "INFO:tensorflow:  name = bert/encoder/layer_10/attention/self/query/kernel:0, shape = (768, 768), *INIT_FROM_CKPT*\n",
      "INFO:tensorflow:  name = bert/encoder/layer_10/attention/self/query/bias:0, shape = (768,), *INIT_FROM_CKPT*\n",
      "INFO:tensorflow:  name = bert/encoder/layer_10/attention/self/key/kernel:0, shape = (768, 768), *INIT_FROM_CKPT*\n",
      "INFO:tensorflow:  name = bert/encoder/layer_10/attention/self/key/bias:0, shape = (768,), *INIT_FROM_CKPT*\n",
      "INFO:tensorflow:  name = bert/encoder/layer_10/attention/self/value/kernel:0, shape = (768, 768), *INIT_FROM_CKPT*\n",
      "INFO:tensorflow:  name = bert/encoder/layer_10/attention/self/value/bias:0, shape = (768,), *INIT_FROM_CKPT*\n",
      "INFO:tensorflow:  name = bert/encoder/layer_10/attention/output/dense/kernel:0, shape = (768, 768), *INIT_FROM_CKPT*\n",
      "INFO:tensorflow:  name = bert/encoder/layer_10/attention/output/dense/bias:0, shape = (768,), *INIT_FROM_CKPT*\n",
      "INFO:tensorflow:  name = bert/encoder/layer_10/attention/output/LayerNorm/beta:0, shape = (768,), *INIT_FROM_CKPT*\n",
      "INFO:tensorflow:  name = bert/encoder/layer_10/attention/output/LayerNorm/gamma:0, shape = (768,), *INIT_FROM_CKPT*\n",
      "INFO:tensorflow:  name = bert/encoder/layer_10/intermediate/dense/kernel:0, shape = (768, 3072), *INIT_FROM_CKPT*\n",
      "INFO:tensorflow:  name = bert/encoder/layer_10/intermediate/dense/bias:0, shape = (3072,), *INIT_FROM_CKPT*\n",
      "INFO:tensorflow:  name = bert/encoder/layer_10/output/dense/kernel:0, shape = (3072, 768), *INIT_FROM_CKPT*\n",
      "INFO:tensorflow:  name = bert/encoder/layer_10/output/dense/bias:0, shape = (768,), *INIT_FROM_CKPT*\n",
      "INFO:tensorflow:  name = bert/encoder/layer_10/output/LayerNorm/beta:0, shape = (768,), *INIT_FROM_CKPT*\n",
      "INFO:tensorflow:  name = bert/encoder/layer_10/output/LayerNorm/gamma:0, shape = (768,), *INIT_FROM_CKPT*\n",
      "INFO:tensorflow:  name = bert/encoder/layer_11/attention/self/query/kernel:0, shape = (768, 768), *INIT_FROM_CKPT*\n",
      "INFO:tensorflow:  name = bert/encoder/layer_11/attention/self/query/bias:0, shape = (768,), *INIT_FROM_CKPT*\n",
      "INFO:tensorflow:  name = bert/encoder/layer_11/attention/self/key/kernel:0, shape = (768, 768), *INIT_FROM_CKPT*\n",
      "INFO:tensorflow:  name = bert/encoder/layer_11/attention/self/key/bias:0, shape = (768,), *INIT_FROM_CKPT*\n",
      "INFO:tensorflow:  name = bert/encoder/layer_11/attention/self/value/kernel:0, shape = (768, 768), *INIT_FROM_CKPT*\n",
      "INFO:tensorflow:  name = bert/encoder/layer_11/attention/self/value/bias:0, shape = (768,), *INIT_FROM_CKPT*\n",
      "INFO:tensorflow:  name = bert/encoder/layer_11/attention/output/dense/kernel:0, shape = (768, 768), *INIT_FROM_CKPT*\n",
      "INFO:tensorflow:  name = bert/encoder/layer_11/attention/output/dense/bias:0, shape = (768,), *INIT_FROM_CKPT*\n",
      "INFO:tensorflow:  name = bert/encoder/layer_11/attention/output/LayerNorm/beta:0, shape = (768,), *INIT_FROM_CKPT*\n",
      "INFO:tensorflow:  name = bert/encoder/layer_11/attention/output/LayerNorm/gamma:0, shape = (768,), *INIT_FROM_CKPT*\n",
      "INFO:tensorflow:  name = bert/encoder/layer_11/intermediate/dense/kernel:0, shape = (768, 3072), *INIT_FROM_CKPT*\n",
      "INFO:tensorflow:  name = bert/encoder/layer_11/intermediate/dense/bias:0, shape = (3072,), *INIT_FROM_CKPT*\n",
      "INFO:tensorflow:  name = bert/encoder/layer_11/output/dense/kernel:0, shape = (3072, 768), *INIT_FROM_CKPT*\n",
      "INFO:tensorflow:  name = bert/encoder/layer_11/output/dense/bias:0, shape = (768,), *INIT_FROM_CKPT*\n",
      "INFO:tensorflow:  name = bert/encoder/layer_11/output/LayerNorm/beta:0, shape = (768,), *INIT_FROM_CKPT*\n",
      "INFO:tensorflow:  name = bert/encoder/layer_11/output/LayerNorm/gamma:0, shape = (768,), *INIT_FROM_CKPT*\n",
      "INFO:tensorflow:  name = bert/pooler/dense/kernel:0, shape = (768, 768), *INIT_FROM_CKPT*\n",
      "INFO:tensorflow:  name = bert/pooler/dense/bias:0, shape = (768,), *INIT_FROM_CKPT*\n",
      "INFO:tensorflow:  name = output_weights:0, shape = (2, 768), *INIT_FROM_CKPT*\n",
      "INFO:tensorflow:  name = output_bias:0, shape = (2,), *INIT_FROM_CKPT*\n"
     ]
    },
    {
     "name": "stdout",
     "output_type": "stream",
     "text": [
      "INFO:tensorflow:Done calling model_fn.\n",
      "INFO:tensorflow:Starting evaluation at 2018-12-19-09:57:33\n",
      "INFO:tensorflow:Graph was finalized.\n",
      "2018-12-19 09:57:34.145835: I tensorflow/core/platform/cpu_feature_guard.cc:141] Your CPU supports instructions that this TensorFlow binary was not compiled to use: AVX2 FMA\n",
      "2018-12-19 09:57:35.100315: W tensorflow/core/framework/allocator.cc:122] Allocation of 93763584 exceeds 10% of system memory.\n",
      "INFO:tensorflow:Running local_init_op.\n",
      "INFO:tensorflow:Done running local_init_op.\n",
      "INFO:tensorflow:Finished evaluation at 2018-12-19-09:59:33\n",
      "INFO:tensorflow:Saving dict for global step 0: eval_accuracy = 0.9191919, eval_loss = 0.45242003, global_step = 0, loss = 0.43067768\n",
      "INFO:tensorflow:evaluation_loop marked as finished\n",
      "INFO:tensorflow:***** Eval results *****\n",
      "INFO:tensorflow:  eval_accuracy = 0.9191919\n",
      "INFO:tensorflow:  eval_loss = 0.45242003\n",
      "INFO:tensorflow:  global_step = 0\n",
      "INFO:tensorflow:  loss = 0.43067768\n",
      "CPU times: user 2.44 s, sys: 360 ms, total: 2.8 s\n",
      "Wall time: 2min 13s\n"
     ]
    }
   ],
   "source": [
    "%%time\n",
    "\n",
    "!python3 ./bert/run_classifier.py \\\n",
    "  --task_name=RTE \\\n",
    "  --do_train=false \\\n",
    "  --do_eval=true \\\n",
    "  --data_dir=./bert/data/100 \\\n",
    "  --vocab_file=./bert/model/patent/vocab.txt \\\n",
    "  --bert_config_file=./bert/model/patent/bert_config.json \\\n",
    "  --init_checkpoint=./bert/model/patent_1000/model.ckpt-1602 \\\n",
    "  --max_seq_length=128 \\\n",
    "  --train_batch_size=32 \\\n",
    "  --learning_rate=2e-5 \\\n",
    "  --num_train_epochs=3.0 \\\n",
    "  --output_dir=./bert/tmp/rte_output/"
   ]
  },
  {
   "cell_type": "code",
   "execution_count": null,
   "metadata": {},
   "outputs": [],
   "source": []
  },
  {
   "cell_type": "code",
   "execution_count": 140,
   "metadata": {},
   "outputs": [],
   "source": [
    "accuracy = len( test_df[test_df['label'] == test_df['prediction_label']] ) / len( test_df['label'] )\n",
    "precision = len( test_df[(test_df['label'] == 1) & (test_df['prediction_label'] == 1)] ) / sum( test_df['label'] == 1 )\n",
    "recall = len( test_df[(test_df['label'] == 1) & (test_df['prediction_label'] == 1)] ) / sum( test_df['prediction_label'] == 1 )"
   ]
  },
  {
   "cell_type": "code",
   "execution_count": 143,
   "metadata": {},
   "outputs": [
    {
     "name": "stdout",
     "output_type": "stream",
     "text": [
      "0.9372501998401279\n",
      "0.9232613908872902\n",
      "0.9498355263157895\n"
     ]
    }
   ],
   "source": [
    "print(accuracy)\n",
    "print(precision)\n",
    "print(recall)"
   ]
  },
  {
   "cell_type": "code",
   "execution_count": null,
   "metadata": {},
   "outputs": [],
   "source": []
  },
  {
   "cell_type": "code",
   "execution_count": null,
   "metadata": {},
   "outputs": [],
   "source": []
  }
 ],
 "metadata": {
  "kernelspec": {
   "display_name": "Python 3",
   "language": "python",
   "name": "python3"
  },
  "language_info": {
   "codemirror_mode": {
    "name": "ipython",
    "version": 3
   },
   "file_extension": ".py",
   "mimetype": "text/x-python",
   "name": "python",
   "nbconvert_exporter": "python",
   "pygments_lexer": "ipython3",
   "version": "3.5.2"
  }
 },
 "nbformat": 4,
 "nbformat_minor": 2
}
