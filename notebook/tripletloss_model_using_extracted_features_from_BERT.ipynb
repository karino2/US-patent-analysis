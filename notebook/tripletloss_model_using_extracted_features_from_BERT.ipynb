{
 "cells": [
  {
   "cell_type": "markdown",
   "metadata": {},
   "source": [
    "# Triplet-loss model using extracted features from BERT\n",
    "\n",
    "- Extract features from pre-trained BERT\n",
    "- Create and train a model with triplet loss"
   ]
  },
  {
   "cell_type": "markdown",
   "metadata": {},
   "source": [
    "## Extract features from pre-trained BERT"
   ]
  },
  {
   "cell_type": "code",
   "execution_count": 1,
   "metadata": {},
   "outputs": [],
   "source": [
    "import sys\n",
    "sys.path.append(\"../notebook/bert\")"
   ]
  },
  {
   "cell_type": "code",
   "execution_count": 2,
   "metadata": {},
   "outputs": [],
   "source": [
    "import os\n",
    "import re\n",
    "import csv\n",
    "import time\n",
    "import codecs\n",
    "import collections\n",
    "import tempfile\n",
    "\n",
    "import modeling\n",
    "import optimization\n",
    "import tokenization\n",
    "import tensorflow as tf"
   ]
  },
  {
   "cell_type": "code",
   "execution_count": 3,
   "metadata": {},
   "outputs": [
    {
     "data": {
      "text/plain": [
       "'1.12.0'"
      ]
     },
     "execution_count": 3,
     "metadata": {},
     "output_type": "execute_result"
    }
   ],
   "source": [
    "tf.__version__"
   ]
  },
  {
   "cell_type": "code",
   "execution_count": 4,
   "metadata": {},
   "outputs": [],
   "source": [
    "from extract_features import convert_examples_to_features\n",
    "from extract_features import InputExample\n",
    "from extract_features import read_examples\n",
    "from extract_features import _truncate_seq_pair\n",
    "from extract_features import InputFeatures\n",
    "from extract_features import input_fn_builder\n",
    "from extract_features import model_fn_builder"
   ]
  },
  {
   "cell_type": "code",
   "execution_count": 5,
   "metadata": {},
   "outputs": [],
   "source": [
    "import pandas as pd\n",
    "import numpy as np"
   ]
  },
  {
   "cell_type": "code",
   "execution_count": 6,
   "metadata": {},
   "outputs": [],
   "source": [
    "train_data = pd.read_csv(\"../data/bert_train_1000.tsv\", sep=\"\\t\")\n",
    "test_data = pd.read_csv(\"../data/bert_dev_1000.tsv\", sep=\"\\t\")"
   ]
  },
  {
   "cell_type": "code",
   "execution_count": 7,
   "metadata": {},
   "outputs": [
    {
     "data": {
      "text/html": [
       "<div>\n",
       "<style scoped>\n",
       "    .dataframe tbody tr th:only-of-type {\n",
       "        vertical-align: middle;\n",
       "    }\n",
       "\n",
       "    .dataframe tbody tr th {\n",
       "        vertical-align: top;\n",
       "    }\n",
       "\n",
       "    .dataframe thead th {\n",
       "        text-align: right;\n",
       "    }\n",
       "</style>\n",
       "<table border=\"1\" class=\"dataframe\">\n",
       "  <thead>\n",
       "    <tr style=\"text-align: right;\">\n",
       "      <th></th>\n",
       "      <th>index</th>\n",
       "      <th>claim_app</th>\n",
       "      <th>claim_cited_grant</th>\n",
       "      <th>label</th>\n",
       "    </tr>\n",
       "  </thead>\n",
       "  <tbody>\n",
       "    <tr>\n",
       "      <th>0</th>\n",
       "      <td>0</td>\n",
       "      <td>1 . A process comprising the following steps:(...</td>\n",
       "      <td>1. A liquid supply apparatus, comprising:a wal...</td>\n",
       "      <td>not_entailment</td>\n",
       "    </tr>\n",
       "    <tr>\n",
       "      <th>1</th>\n",
       "      <td>1</td>\n",
       "      <td>1 - 10 . (canceled) 11 . A method for open-loo...</td>\n",
       "      <td>1. A fuel supply apparatus for an engine, comp...</td>\n",
       "      <td>entailment</td>\n",
       "    </tr>\n",
       "  </tbody>\n",
       "</table>\n",
       "</div>"
      ],
      "text/plain": [
       "   index                                          claim_app  \\\n",
       "0      0  1 . A process comprising the following steps:(...   \n",
       "1      1  1 - 10 . (canceled) 11 . A method for open-loo...   \n",
       "\n",
       "                                   claim_cited_grant           label  \n",
       "0  1. A liquid supply apparatus, comprising:a wal...  not_entailment  \n",
       "1  1. A fuel supply apparatus for an engine, comp...      entailment  "
      ]
     },
     "execution_count": 7,
     "metadata": {},
     "output_type": "execute_result"
    }
   ],
   "source": [
    "train_data.head(2)"
   ]
  },
  {
   "cell_type": "code",
   "execution_count": 8,
   "metadata": {},
   "outputs": [
    {
     "data": {
      "text/html": [
       "<div>\n",
       "<style scoped>\n",
       "    .dataframe tbody tr th:only-of-type {\n",
       "        vertical-align: middle;\n",
       "    }\n",
       "\n",
       "    .dataframe tbody tr th {\n",
       "        vertical-align: top;\n",
       "    }\n",
       "\n",
       "    .dataframe thead th {\n",
       "        text-align: right;\n",
       "    }\n",
       "</style>\n",
       "<table border=\"1\" class=\"dataframe\">\n",
       "  <thead>\n",
       "    <tr style=\"text-align: right;\">\n",
       "      <th></th>\n",
       "      <th>index</th>\n",
       "      <th>claim_app</th>\n",
       "      <th>claim_cited_grant</th>\n",
       "      <th>label</th>\n",
       "    </tr>\n",
       "  </thead>\n",
       "  <tbody>\n",
       "    <tr>\n",
       "      <th>2562</th>\n",
       "      <td>2562</td>\n",
       "      <td>1 . A method implemented at least in part by a...</td>\n",
       "      <td>1. In a caching device, a method for providing...</td>\n",
       "      <td>entailment</td>\n",
       "    </tr>\n",
       "    <tr>\n",
       "      <th>2563</th>\n",
       "      <td>2563</td>\n",
       "      <td>1 . A nonvolatile memory device comprising:a m...</td>\n",
       "      <td>1. A non-volatile storage system, comprising:a...</td>\n",
       "      <td>entailment</td>\n",
       "    </tr>\n",
       "  </tbody>\n",
       "</table>\n",
       "</div>"
      ],
      "text/plain": [
       "      index                                          claim_app  \\\n",
       "2562   2562  1 . A method implemented at least in part by a...   \n",
       "2563   2563  1 . A nonvolatile memory device comprising:a m...   \n",
       "\n",
       "                                      claim_cited_grant       label  \n",
       "2562  1. In a caching device, a method for providing...  entailment  \n",
       "2563  1. A non-volatile storage system, comprising:a...  entailment  "
      ]
     },
     "execution_count": 8,
     "metadata": {},
     "output_type": "execute_result"
    }
   ],
   "source": [
    "train_data.tail(2)"
   ]
  },
  {
   "cell_type": "code",
   "execution_count": 9,
   "metadata": {},
   "outputs": [
    {
     "data": {
      "text/html": [
       "<div>\n",
       "<style scoped>\n",
       "    .dataframe tbody tr th:only-of-type {\n",
       "        vertical-align: middle;\n",
       "    }\n",
       "\n",
       "    .dataframe tbody tr th {\n",
       "        vertical-align: top;\n",
       "    }\n",
       "\n",
       "    .dataframe thead th {\n",
       "        text-align: right;\n",
       "    }\n",
       "</style>\n",
       "<table border=\"1\" class=\"dataframe\">\n",
       "  <thead>\n",
       "    <tr style=\"text-align: right;\">\n",
       "      <th></th>\n",
       "      <th>index</th>\n",
       "      <th>claim_app</th>\n",
       "      <th>claim_cited_grant</th>\n",
       "      <th>label</th>\n",
       "    </tr>\n",
       "  </thead>\n",
       "  <tbody>\n",
       "    <tr>\n",
       "      <th>0</th>\n",
       "      <td>0</td>\n",
       "      <td>1 . A rotational angle detection device for a ...</td>\n",
       "      <td>1. A tangible computer-readable medium having ...</td>\n",
       "      <td>not_entailment</td>\n",
       "    </tr>\n",
       "    <tr>\n",
       "      <th>1</th>\n",
       "      <td>1</td>\n",
       "      <td>1 . A method comprising:sensing electrocardiog...</td>\n",
       "      <td>1. A medical system, comprising:an implantable...</td>\n",
       "      <td>entailment</td>\n",
       "    </tr>\n",
       "  </tbody>\n",
       "</table>\n",
       "</div>"
      ],
      "text/plain": [
       "   index                                          claim_app  \\\n",
       "0      0  1 . A rotational angle detection device for a ...   \n",
       "1      1  1 . A method comprising:sensing electrocardiog...   \n",
       "\n",
       "                                   claim_cited_grant           label  \n",
       "0  1. A tangible computer-readable medium having ...  not_entailment  \n",
       "1  1. A medical system, comprising:an implantable...      entailment  "
      ]
     },
     "execution_count": 9,
     "metadata": {},
     "output_type": "execute_result"
    }
   ],
   "source": [
    "test_data.head(2)"
   ]
  },
  {
   "cell_type": "code",
   "execution_count": 10,
   "metadata": {},
   "outputs": [],
   "source": [
    "# train_data = train_data.sort_values(['claim_app', 'label'])\n",
    "# test_data = test_data.sort_values(['claim_app', 'label'])\n",
    "# train_data = train_data[0:50]\n",
    "# test_data = test_data[0:50]"
   ]
  },
  {
   "cell_type": "code",
   "execution_count": 11,
   "metadata": {},
   "outputs": [],
   "source": [
    "tr_claim_app_txt = tempfile.NamedTemporaryFile(mode='r+')\n",
    "train_data['claim_app'].to_csv(tr_claim_app_txt.name, header=None, index=None)\n",
    "!sed -i -e 's/\\\"//g' {tr_claim_app_txt.name}\n",
    "\n",
    "tr_claim_cited_grant_txt = tempfile.NamedTemporaryFile(mode='r+')\n",
    "train_data['claim_cited_grant'].to_csv(tr_claim_cited_grant_txt.name, header=None, index=None)\n",
    "!sed -i -e 's/\\\"//g' {tr_claim_cited_grant_txt.name}"
   ]
  },
  {
   "cell_type": "code",
   "execution_count": 12,
   "metadata": {},
   "outputs": [
    {
     "data": {
      "text/plain": [
       "2564"
      ]
     },
     "execution_count": 12,
     "metadata": {},
     "output_type": "execute_result"
    }
   ],
   "source": [
    "len(train_data)"
   ]
  },
  {
   "cell_type": "code",
   "execution_count": 13,
   "metadata": {},
   "outputs": [],
   "source": [
    "te_claim_app_txt = tempfile.NamedTemporaryFile(mode='r+')\n",
    "test_data['claim_app'].to_csv(te_claim_app_txt.name, header=None, index=None)\n",
    "!sed -i -e 's/\\\"//g' {te_claim_app_txt.name}\n",
    "\n",
    "te_claim_cited_grant_txt = tempfile.NamedTemporaryFile(mode='r+')\n",
    "test_data['claim_cited_grant'].to_csv(te_claim_cited_grant_txt.name, header=None, index=None)\n",
    "!sed -i -e 's/\\\"//g' {te_claim_cited_grant_txt.name}"
   ]
  },
  {
   "cell_type": "code",
   "execution_count": 14,
   "metadata": {},
   "outputs": [
    {
     "data": {
      "text/plain": [
       "2502"
      ]
     },
     "execution_count": 14,
     "metadata": {},
     "output_type": "execute_result"
    }
   ],
   "source": [
    "len( test_data )"
   ]
  },
  {
   "cell_type": "code",
   "execution_count": 15,
   "metadata": {},
   "outputs": [],
   "source": [
    "class FLAGS(object):\n",
    "    '''Parameters.'''\n",
    "    def __init__(self):\n",
    "        self.vocab_file = \"./bert/model/uncased_L-12_H-768_A-12/vocab.txt\"\n",
    "        self.do_lower_case = True\n",
    "        self.use_tpu = False\n",
    "        self.layers = \"-1\"\n",
    "        self.bert_config_file = \"./bert/model/uncased_L-12_H-768_A-12/bert_config.json\"\n",
    "        self.max_seq_length = 512\n",
    "        self.init_checkpoint = \"./bert/model/uncased_L-12_H-768_A-12/bert_model.ckpt\"\n",
    "        self.use_one_hot_embeddings = False\n",
    "        self.batch_size = 16\n",
    "        \n",
    "        # The following parameters are not used in predictions.\n",
    "        # Just use to create RunConfig.\n",
    "        self.master = None\n",
    "        self.save_checkpoints_steps = 1\n",
    "        self.iterations_per_loop = 1\n",
    "        self.num_tpu_cores = 1\n",
    "        self.learning_rate = 0\n",
    "        self.num_warmup_steps = 0\n",
    "        self.num_train_steps = 0\n",
    "        self.train_batch_size = 0\n",
    "        self.eval_batch_size = 0\n",
    "\n",
    "FLAGS = FLAGS()"
   ]
  },
  {
   "cell_type": "code",
   "execution_count": 16,
   "metadata": {},
   "outputs": [],
   "source": [
    "layer_indexes = [int(x) for x in FLAGS.layers.split(\",\")]\n",
    "\n",
    "bert_config = modeling.BertConfig.from_json_file(FLAGS.bert_config_file)\n",
    "\n",
    "tokenizer = tokenization.FullTokenizer(\n",
    "  vocab_file=FLAGS.vocab_file, do_lower_case=FLAGS.do_lower_case)\n",
    "\n",
    "is_per_host = tf.contrib.tpu.InputPipelineConfig.PER_HOST_V2\n",
    "run_config = tf.contrib.tpu.RunConfig(\n",
    "  master=FLAGS.master,\n",
    "  tpu_config=tf.contrib.tpu.TPUConfig(\n",
    "      num_shards=FLAGS.num_tpu_cores,\n",
    "      per_host_input_for_training=is_per_host))"
   ]
  },
  {
   "cell_type": "code",
   "execution_count": 17,
   "metadata": {},
   "outputs": [],
   "source": [
    "model_fn = model_fn_builder(\n",
    "  bert_config=bert_config,\n",
    "  init_checkpoint=FLAGS.init_checkpoint,\n",
    "  layer_indexes=layer_indexes,\n",
    "  use_tpu=FLAGS.use_tpu,\n",
    "  use_one_hot_embeddings=FLAGS.use_one_hot_embeddings)"
   ]
  },
  {
   "cell_type": "code",
   "execution_count": 18,
   "metadata": {},
   "outputs": [
    {
     "name": "stdout",
     "output_type": "stream",
     "text": [
      "WARNING:tensorflow:Estimator's model_fn (<function model_fn_builder.<locals>.model_fn at 0x7fae9b8062f0>) includes params argument, but params are not passed to Estimator.\n",
      "WARNING:tensorflow:Using temporary folder as model directory: /tmp/tmpeaqh4r2k\n",
      "INFO:tensorflow:Using config: {'_train_distribute': None, '_eval_distribute': None, '_task_id': 0, '_task_type': 'worker', '_is_chief': True, '_master': '', '_global_id_in_cluster': 0, '_service': None, '_cluster': None, '_num_worker_replicas': 1, '_tpu_config': TPUConfig(iterations_per_loop=2, num_shards=1, num_cores_per_replica=None, per_host_input_for_training=3, tpu_job_name=None, initial_infeed_sleep_secs=None, input_partition_dims=None), '_save_checkpoints_steps': None, '_keep_checkpoint_every_n_hours': 10000, '_experimental_distribute': None, '_save_summary_steps': 100, '_evaluation_master': '', '_log_step_count_steps': None, '_num_ps_replicas': 0, '_model_dir': '/tmp/tmpeaqh4r2k', '_session_config': allow_soft_placement: true\n",
      "graph_options {\n",
      "  rewrite_options {\n",
      "    meta_optimizer_iterations: ONE\n",
      "  }\n",
      "}\n",
      ", '_save_checkpoints_secs': 600, '_tf_random_seed': None, '_keep_checkpoint_max': 5, '_protocol': None, '_device_fn': None, '_cluster_spec': <tensorflow.python.training.server_lib.ClusterSpec object at 0x7faea3a9bb00>}\n",
      "WARNING:tensorflow:Setting TPUConfig.num_shards==1 is an unsupported behavior. Please fix as soon as possible (leaving num_shards as None.)\n",
      "INFO:tensorflow:_TPUContext: eval_on_tpu True\n",
      "WARNING:tensorflow:eval_on_tpu ignored because use_tpu is False.\n"
     ]
    }
   ],
   "source": [
    "estimator = tf.contrib.tpu.TPUEstimator(\n",
    "  use_tpu=FLAGS.use_tpu,\n",
    "  model_fn=model_fn,\n",
    "  config=run_config,\n",
    "  predict_batch_size=FLAGS.batch_size)"
   ]
  },
  {
   "cell_type": "code",
   "execution_count": 19,
   "metadata": {},
   "outputs": [],
   "source": [
    "start = time.time()"
   ]
  },
  {
   "cell_type": "code",
   "execution_count": 20,
   "metadata": {
    "scrolled": true
   },
   "outputs": [],
   "source": [
    "examples = read_examples(tr_claim_app_txt.name)\n",
    "features = convert_examples_to_features(examples=examples, seq_length=FLAGS.max_seq_length, tokenizer=tokenizer)\n",
    "unique_id_to_feature = {}\n",
    "for feature in features:\n",
    "    unique_id_to_feature[feature.unique_id] = feature\n",
    "\n",
    "input_fn = input_fn_builder(features=features, seq_length=FLAGS.max_seq_length)\n",
    "\n",
    "results =  np.empty((0,768), float)\n",
    "\n",
    "for result in estimator.predict(input_fn, yield_single_examples=True):\n",
    "    results = np.append(results, result['layer_output_0'][0].reshape(1,768), axis=0 )\n",
    "\n",
    "train_data['feature_claim_app'] = [elem for elem in results]"
   ]
  },
  {
   "cell_type": "code",
   "execution_count": 21,
   "metadata": {},
   "outputs": [],
   "source": [
    "examples = read_examples(tr_claim_cited_grant_txt.name)\n",
    "features = convert_examples_to_features(examples=examples, seq_length=FLAGS.max_seq_length, tokenizer=tokenizer)\n",
    "unique_id_to_feature = {}\n",
    "for feature in features:\n",
    "    unique_id_to_feature[feature.unique_id] = feature\n",
    "\n",
    "input_fn = input_fn_builder(features=features, seq_length=FLAGS.max_seq_length)\n",
    "\n",
    "results =  np.empty((0,768), float)\n",
    "\n",
    "for result in estimator.predict(input_fn, yield_single_examples=True):\n",
    "    results = np.append(results, result['layer_output_0'][0].reshape(1,768), axis=0 )\n",
    "\n",
    "train_data['feature_claim_cited_grant'] = [elem for elem in results]"
   ]
  },
  {
   "cell_type": "code",
   "execution_count": 22,
   "metadata": {},
   "outputs": [],
   "source": [
    "train_data.to_pickle(\"../data/bert_extracted_feature_train_1000.pkl\")"
   ]
  },
  {
   "cell_type": "code",
   "execution_count": 23,
   "metadata": {},
   "outputs": [],
   "source": [
    "examples = read_examples(te_claim_app_txt.name)\n",
    "features = convert_examples_to_features(examples=examples, seq_length=FLAGS.max_seq_length, tokenizer=tokenizer)\n",
    "unique_id_to_feature = {}\n",
    "for feature in features:\n",
    "    unique_id_to_feature[feature.unique_id] = feature\n",
    "\n",
    "input_fn = input_fn_builder(features=features, seq_length=FLAGS.max_seq_length)\n",
    "\n",
    "results =  np.empty((0,768), float)\n",
    "\n",
    "for result in estimator.predict(input_fn, yield_single_examples=True):\n",
    "    results = np.append(results, result['layer_output_0'][0].reshape(1,768), axis=0 )\n",
    "\n",
    "test_data['feature_claim_app'] = [elem for elem in results]"
   ]
  },
  {
   "cell_type": "code",
   "execution_count": 24,
   "metadata": {
    "scrolled": true
   },
   "outputs": [],
   "source": [
    "examples = read_examples(te_claim_cited_grant_txt.name)\n",
    "features = convert_examples_to_features(examples=examples, seq_length=FLAGS.max_seq_length, tokenizer=tokenizer)\n",
    "unique_id_to_feature = {}\n",
    "for feature in features:\n",
    "    unique_id_to_feature[feature.unique_id] = feature\n",
    "\n",
    "input_fn = input_fn_builder(features=features, seq_length=FLAGS.max_seq_length)\n",
    "\n",
    "results =  np.empty((0,768), float)\n",
    "\n",
    "for result in estimator.predict(input_fn, yield_single_examples=True):\n",
    "    results = np.append(results, result['layer_output_0'][0].reshape(1,768), axis=0 )\n",
    "\n",
    "test_data['feature_claim_cited_grant'] = [elem for elem in results]"
   ]
  },
  {
   "cell_type": "code",
   "execution_count": 25,
   "metadata": {},
   "outputs": [],
   "source": [
    "test_data.to_pickle(\"../data/bert_extracted_feature_test_1000.pkl\")"
   ]
  },
  {
   "cell_type": "code",
   "execution_count": 26,
   "metadata": {},
   "outputs": [
    {
     "name": "stdout",
     "output_type": "stream",
     "text": [
      "elapsed_time:24374.943607330322[sec]\n"
     ]
    }
   ],
   "source": [
    "elapsed_time = time.time() - start\n",
    "print (\"elapsed_time:{0}\".format(elapsed_time) + \"[sec]\")"
   ]
  },
  {
   "cell_type": "code",
   "execution_count": null,
   "metadata": {},
   "outputs": [],
   "source": []
  },
  {
   "cell_type": "code",
   "execution_count": null,
   "metadata": {},
   "outputs": [],
   "source": []
  },
  {
   "cell_type": "code",
   "execution_count": null,
   "metadata": {},
   "outputs": [],
   "source": []
  },
  {
   "cell_type": "markdown",
   "metadata": {},
   "source": [
    "## Create and train a model with triplet loss\n",
    "\n",
    "Please restart kernel before executing the following cells."
   ]
  },
  {
   "cell_type": "code",
   "execution_count": 1,
   "metadata": {},
   "outputs": [],
   "source": [
    "import os\n",
    "import pandas as pd\n",
    "import tensorflow as tf\n",
    "import numpy as np\n",
    "\n",
    "tf.enable_eager_execution()\n",
    "tfe = tf.contrib.eager"
   ]
  },
  {
   "cell_type": "code",
   "execution_count": 2,
   "metadata": {},
   "outputs": [],
   "source": [
    "train_feature = pd.read_pickle(\"../data/bert_extracted_feature_train_1000.pkl\")\n",
    "test_feature = pd.read_pickle(\"../data/bert_extracted_feature_test_1000.pkl\")"
   ]
  },
  {
   "cell_type": "code",
   "execution_count": 3,
   "metadata": {},
   "outputs": [],
   "source": [
    "train_feature = train_feature.sort_values(['claim_app', 'label'])\n",
    "test_feature = test_feature.sort_values(['claim_app', 'label'])"
   ]
  },
  {
   "cell_type": "code",
   "execution_count": 4,
   "metadata": {},
   "outputs": [
    {
     "data": {
      "text/html": [
       "<div>\n",
       "<style scoped>\n",
       "    .dataframe tbody tr th:only-of-type {\n",
       "        vertical-align: middle;\n",
       "    }\n",
       "\n",
       "    .dataframe tbody tr th {\n",
       "        vertical-align: top;\n",
       "    }\n",
       "\n",
       "    .dataframe thead th {\n",
       "        text-align: right;\n",
       "    }\n",
       "</style>\n",
       "<table border=\"1\" class=\"dataframe\">\n",
       "  <thead>\n",
       "    <tr style=\"text-align: right;\">\n",
       "      <th></th>\n",
       "      <th>index</th>\n",
       "      <th>claim_app</th>\n",
       "      <th>claim_cited_grant</th>\n",
       "      <th>label</th>\n",
       "      <th>feature_claim_app</th>\n",
       "      <th>feature_claim_cited_grant</th>\n",
       "    </tr>\n",
       "  </thead>\n",
       "  <tbody>\n",
       "    <tr>\n",
       "      <th>2246</th>\n",
       "      <td>2246</td>\n",
       "      <td>1  An LED (light emitting diode) lamp, compris...</td>\n",
       "      <td>1. An LED lighting device having heat convecti...</td>\n",
       "      <td>entailment</td>\n",
       "      <td>[-0.718012809753418, 0.4575798809528351, -0.58...</td>\n",
       "      <td>[-0.819080114364624, 0.6711320877075195, -0.60...</td>\n",
       "    </tr>\n",
       "    <tr>\n",
       "      <th>2408</th>\n",
       "      <td>2408</td>\n",
       "      <td>1  An LED (light emitting diode) lamp, compris...</td>\n",
       "      <td>1. A method of operating a turbocharged intern...</td>\n",
       "      <td>not_entailment</td>\n",
       "      <td>[-0.718012809753418, 0.4575798809528351, -0.58...</td>\n",
       "      <td>[-1.1225836277008057, 0.0022592851892113686, -...</td>\n",
       "    </tr>\n",
       "  </tbody>\n",
       "</table>\n",
       "</div>"
      ],
      "text/plain": [
       "      index                                          claim_app  \\\n",
       "2246   2246  1  An LED (light emitting diode) lamp, compris...   \n",
       "2408   2408  1  An LED (light emitting diode) lamp, compris...   \n",
       "\n",
       "                                      claim_cited_grant           label  \\\n",
       "2246  1. An LED lighting device having heat convecti...      entailment   \n",
       "2408  1. A method of operating a turbocharged intern...  not_entailment   \n",
       "\n",
       "                                      feature_claim_app  \\\n",
       "2246  [-0.718012809753418, 0.4575798809528351, -0.58...   \n",
       "2408  [-0.718012809753418, 0.4575798809528351, -0.58...   \n",
       "\n",
       "                              feature_claim_cited_grant  \n",
       "2246  [-0.819080114364624, 0.6711320877075195, -0.60...  \n",
       "2408  [-1.1225836277008057, 0.0022592851892113686, -...  "
      ]
     },
     "execution_count": 4,
     "metadata": {},
     "output_type": "execute_result"
    }
   ],
   "source": [
    "train_feature.head(2)"
   ]
  },
  {
   "cell_type": "markdown",
   "metadata": {},
   "source": [
    "Normalize features."
   ]
  },
  {
   "cell_type": "code",
   "execution_count": 5,
   "metadata": {},
   "outputs": [],
   "source": [
    "train_feature['feature_claim_app'] = [\n",
    "    v/np.linalg.norm(v) for v in train_feature['feature_claim_app']\n",
    "]\n",
    "\n",
    "train_feature['feature_claim_cited_grant'] = [\n",
    "    v/np.linalg.norm(v) for v in train_feature['feature_claim_cited_grant']\n",
    "]"
   ]
  },
  {
   "cell_type": "code",
   "execution_count": 6,
   "metadata": {},
   "outputs": [],
   "source": [
    "test_feature['feature_claim_app'] = [\n",
    "    v/np.linalg.norm(v) for v in test_feature['feature_claim_app']\n",
    "]\n",
    "\n",
    "test_feature['feature_claim_cited_grant'] = [\n",
    "    v/np.linalg.norm(v) for v in test_feature['feature_claim_cited_grant']\n",
    "]"
   ]
  },
  {
   "cell_type": "code",
   "execution_count": 7,
   "metadata": {},
   "outputs": [
    {
     "data": {
      "text/html": [
       "<div>\n",
       "<style scoped>\n",
       "    .dataframe tbody tr th:only-of-type {\n",
       "        vertical-align: middle;\n",
       "    }\n",
       "\n",
       "    .dataframe tbody tr th {\n",
       "        vertical-align: top;\n",
       "    }\n",
       "\n",
       "    .dataframe thead th {\n",
       "        text-align: right;\n",
       "    }\n",
       "</style>\n",
       "<table border=\"1\" class=\"dataframe\">\n",
       "  <thead>\n",
       "    <tr style=\"text-align: right;\">\n",
       "      <th></th>\n",
       "      <th>index</th>\n",
       "      <th>claim_app</th>\n",
       "      <th>claim_cited_grant</th>\n",
       "      <th>label</th>\n",
       "      <th>feature_claim_app</th>\n",
       "      <th>feature_claim_cited_grant</th>\n",
       "    </tr>\n",
       "  </thead>\n",
       "  <tbody>\n",
       "    <tr>\n",
       "      <th>2246</th>\n",
       "      <td>2246</td>\n",
       "      <td>1  An LED (light emitting diode) lamp, compris...</td>\n",
       "      <td>1. An LED lighting device having heat convecti...</td>\n",
       "      <td>entailment</td>\n",
       "      <td>[-0.04264463837636313, 0.027176852956473388, -...</td>\n",
       "      <td>[-0.049404172770041124, 0.04048044267115554, -...</td>\n",
       "    </tr>\n",
       "    <tr>\n",
       "      <th>2408</th>\n",
       "      <td>2408</td>\n",
       "      <td>1  An LED (light emitting diode) lamp, compris...</td>\n",
       "      <td>1. A method of operating a turbocharged intern...</td>\n",
       "      <td>not_entailment</td>\n",
       "      <td>[-0.04264463837636313, 0.027176852956473388, -...</td>\n",
       "      <td>[-0.06754759109007105, 0.0001359446800674143, ...</td>\n",
       "    </tr>\n",
       "  </tbody>\n",
       "</table>\n",
       "</div>"
      ],
      "text/plain": [
       "      index                                          claim_app  \\\n",
       "2246   2246  1  An LED (light emitting diode) lamp, compris...   \n",
       "2408   2408  1  An LED (light emitting diode) lamp, compris...   \n",
       "\n",
       "                                      claim_cited_grant           label  \\\n",
       "2246  1. An LED lighting device having heat convecti...      entailment   \n",
       "2408  1. A method of operating a turbocharged intern...  not_entailment   \n",
       "\n",
       "                                      feature_claim_app  \\\n",
       "2246  [-0.04264463837636313, 0.027176852956473388, -...   \n",
       "2408  [-0.04264463837636313, 0.027176852956473388, -...   \n",
       "\n",
       "                              feature_claim_cited_grant  \n",
       "2246  [-0.049404172770041124, 0.04048044267115554, -...  \n",
       "2408  [-0.06754759109007105, 0.0001359446800674143, ...  "
      ]
     },
     "execution_count": 7,
     "metadata": {},
     "output_type": "execute_result"
    }
   ],
   "source": [
    "train_feature.head(2)"
   ]
  },
  {
   "cell_type": "code",
   "execution_count": 8,
   "metadata": {},
   "outputs": [],
   "source": [
    "class Model(object):\n",
    "    def __init__(self, input_shape, output_shape):\n",
    "        self.input_shape = input_shape\n",
    "        self.output_shape = output_shape\n",
    "        self.W = tfe.Variable( tf.random_normal( [self.input_shape, self.output_shape] ), name='weight' )\n",
    "        self.B = tfe.Variable( tf.random_normal( [self.output_shape] ), name='bias' ) \n",
    "        self.variables = [ self.W, self.B ]\n",
    "    \n",
    "    def frwrd_pass(self,X_train):\n",
    "        out = tf.matmul( X_train, self.W ) + self.B\n",
    "        \n",
    "        return out"
   ]
  },
  {
   "cell_type": "code",
   "execution_count": 9,
   "metadata": {},
   "outputs": [],
   "source": [
    "def tripletloss(anchor_out, positive_out, negative_out, margin=0.2):\n",
    "    norm_a_out = tf.nn.l2_normalize(anchor_out, axis=1)\n",
    "    norm_p_out = tf.nn.l2_normalize(positive_out, axis=1)\n",
    "    norm_n_out = tf.nn.l2_normalize(negative_out, axis=1)\n",
    "    \n",
    "    d_pos = tf.losses.cosine_distance(norm_a_out, norm_p_out, axis=1)\n",
    "    d_neg = tf.losses.cosine_distance(norm_a_out, norm_n_out, axis=1)\n",
    "    \n",
    "    loss = tf.maximum(0.0, margin + d_pos - d_neg)\n",
    "    \n",
    "    return tf.reduce_mean(loss)"
   ]
  },
  {
   "cell_type": "code",
   "execution_count": 10,
   "metadata": {},
   "outputs": [],
   "source": [
    "def train(input_data_np, batch_size, epochs):\n",
    "#     optimizer = tf.train.GradientDescentOptimizer(learning_rate = 0.001)\n",
    "    optimizer = tf.train.AdamOptimizer(learning_rate=0.00001)\n",
    "    data_num = int(input_data_np.shape[1])\n",
    "\n",
    "    for i in range(epochs):\n",
    "        rand_idx = np.random.permutation(data_num)\n",
    "        index_data_np = np.array([\n",
    "            input_data_np[0][rand_idx], \n",
    "            input_data_np[1][rand_idx], \n",
    "            input_data_np[2][rand_idx]])\n",
    "\n",
    "        input_data = tf.convert_to_tensor(input_data_np, dtype=tf.float32)\n",
    "        anchor_data, positive_data, negative_data = input_data\n",
    "\n",
    "        for iter_id in range(data_num // batch_size):        \n",
    "            with tf.GradientTape() as tape:\n",
    "                anchor_out = model.frwrd_pass(anchor_data[iter_id*batch_size : (iter_id+1)*batch_size])\n",
    "                positive_out = model.frwrd_pass(positive_data[iter_id*batch_size : (iter_id+1)*batch_size])\n",
    "                negative_out = model.frwrd_pass(negative_data[iter_id*batch_size : (iter_id+1)*batch_size])\n",
    "                curr_loss = tripletloss(anchor_out, positive_out, negative_out)\n",
    "            grads = tape.gradient( curr_loss, model.variables )\n",
    "            optimizer.apply_gradients(zip(grads, model.variables), global_step=tf.train.get_or_create_global_step())\n",
    "\n",
    "        if i % 10 == 0:\n",
    "            print( \"Loss at step {:d}: {:.5f}\".format(i, curr_loss) )"
   ]
  },
  {
   "cell_type": "code",
   "execution_count": 11,
   "metadata": {},
   "outputs": [],
   "source": [
    "# def train(input_data, epochs):\n",
    "#     optimizer = tf.train.GradientDescentOptimizer(learning_rate = 0.005)\n",
    "#     anchor_data, positive_data, negative_data = input_data\n",
    "\n",
    "#     for i in range(epochs):\n",
    "#         with tf.GradientTape() as tape:\n",
    "#             anchor_out = model.frwrd_pass(anchor_data)\n",
    "#             positive_out = model.frwrd_pass(positive_data)\n",
    "#             negative_out = model.frwrd_pass(negative_data)\n",
    "#             curr_loss = tripletloss(anchor_out, positive_out, negative_out)\n",
    "#         grads = tape.gradient( curr_loss, model.variables )\n",
    "#         optimizer.apply_gradients(zip(grads, model.variables), global_step=tf.train.get_or_create_global_step())\n",
    "\n",
    "#         if i % 10 == 0:\n",
    "#             print( \"Loss at step {:d}: {:.5f}\".format(i, curr_loss) )"
   ]
  },
  {
   "cell_type": "code",
   "execution_count": 12,
   "metadata": {},
   "outputs": [],
   "source": [
    "# class Model(tf.keras.Model):\n",
    "#     \"\"\"\n",
    "#     Model which extracts features for computing similarities.\n",
    "#     \"\"\"\n",
    "#     def __init__(self, hidden_units, output_units):\n",
    "#         super(Model, self).__init__()\n",
    "#         self.hidden = tf.keras.layers.Dense(hidden_units, activation='relu')\n",
    "#         self.output_feature = tf.keras.layers.Dense(output_units)\n",
    "\n",
    "#     def call(self, inputs, training=None, mask=None):\n",
    "#         x = self.hidden(inputs)\n",
    "#         output = self.output_feature(x)\n",
    "\n",
    "#         return output"
   ]
  },
  {
   "cell_type": "code",
   "execution_count": 13,
   "metadata": {},
   "outputs": [],
   "source": [
    "anchor_list = []\n",
    "positive_list = []\n",
    "negative_list = []\n",
    "\n",
    "for row in train_feature.itertuples():\n",
    "    if row.label == 'entailment':\n",
    "        anchor_list.append(row.feature_claim_app)\n",
    "        positive_list.append(row.feature_claim_cited_grant)\n",
    "    elif row.label == 'not_entailment':\n",
    "        negative_list.append(row.feature_claim_cited_grant)"
   ]
  },
  {
   "cell_type": "code",
   "execution_count": 14,
   "metadata": {},
   "outputs": [],
   "source": [
    "input_data = np.array([\n",
    "    np.array(anchor_list),\n",
    "    np.array(positive_list),\n",
    "    np.array(negative_list),    \n",
    "])"
   ]
  },
  {
   "cell_type": "code",
   "execution_count": 15,
   "metadata": {},
   "outputs": [],
   "source": [
    "model = Model(input_shape=768, output_shape=100)"
   ]
  },
  {
   "cell_type": "code",
   "execution_count": 16,
   "metadata": {},
   "outputs": [
    {
     "name": "stdout",
     "output_type": "stream",
     "text": [
      "Loss at step 0: 0.17352\n",
      "Loss at step 10: 0.16483\n",
      "Loss at step 20: 0.15072\n",
      "Loss at step 30: 0.12698\n",
      "Loss at step 40: 0.08736\n",
      "Loss at step 50: 0.03721\n",
      "Loss at step 60: 0.00000\n",
      "Loss at step 70: 0.00000\n",
      "CPU times: user 2min 6s, sys: 9.33 s, total: 2min 15s\n",
      "Wall time: 1min 49s\n"
     ]
    }
   ],
   "source": [
    "%%time\n",
    "train(input_data, 10, 71)"
   ]
  },
  {
   "cell_type": "code",
   "execution_count": 17,
   "metadata": {},
   "outputs": [
    {
     "data": {
      "text/plain": [
       "<tf.Tensor: id=3836160, shape=(1, 768), dtype=float32, numpy=\n",
       "array([[-4.26446386e-02,  2.71768533e-02, -3.46934721e-02,\n",
       "         6.11349288e-03,  1.23090707e-02,  1.48237087e-02,\n",
       "         1.01030609e-02,  4.48753759e-02, -2.84725763e-02,\n",
       "        -2.75032986e-02, -1.47425728e-02, -1.68808531e-02,\n",
       "        -2.12277211e-02,  3.94932404e-02, -1.79138761e-02,\n",
       "         8.56063142e-03,  4.04272713e-02,  2.63840053e-02,\n",
       "         4.34927503e-03, -9.89720647e-05, -3.65315862e-02,\n",
       "        -1.96782369e-02,  4.38990742e-02,  8.60057306e-03,\n",
       "        -1.34681806e-03, -1.43365394e-02, -4.57647219e-02,\n",
       "        -2.24162303e-02, -3.56590673e-02,  1.17474897e-02,\n",
       "         2.53382269e-02,  2.07901131e-02,  7.65671022e-04,\n",
       "        -5.18207699e-02,  2.77366191e-02, -7.08562583e-02,\n",
       "         3.34829241e-02, -3.55359614e-02,  3.25572118e-02,\n",
       "        -2.92556435e-02, -3.42517681e-02,  1.56697072e-02,\n",
       "         3.41315456e-02, -1.62944924e-02, -2.98880413e-02,\n",
       "         4.43438403e-02, -2.20281690e-01,  6.60540443e-03,\n",
       "        -1.18189780e-02,  1.87243912e-02,  2.21227612e-02,\n",
       "        -2.97903642e-02, -4.05033771e-03,  6.95690885e-02,\n",
       "         1.52520994e-02,  5.37028573e-02, -4.29119729e-02,\n",
       "        -8.93358886e-03,  5.12671433e-02, -2.70502293e-03,\n",
       "         3.36440168e-02, -8.17568973e-03,  5.06925583e-03,\n",
       "        -2.74442509e-03, -3.27592306e-02,  2.71441285e-02,\n",
       "         7.43175717e-03, -9.33645666e-03, -4.82293144e-02,\n",
       "        -9.73980129e-03, -4.06368896e-02, -1.30160721e-02,\n",
       "         1.11037435e-03,  6.81268051e-03,  1.59920212e-02,\n",
       "         2.81763989e-02, -1.71678718e-02,  1.22535387e-02,\n",
       "        -7.09308758e-02,  1.14426697e-02, -1.82737168e-02,\n",
       "         2.86225546e-02,  1.45496335e-02, -1.45595549e-02,\n",
       "        -1.73185933e-02, -4.91980463e-04, -1.94796338e-03,\n",
       "        -2.15820447e-02, -3.49025168e-02,  9.10715088e-02,\n",
       "        -3.16603631e-02,  3.55254300e-02,  1.61370318e-02,\n",
       "         1.47867175e-02, -3.12796496e-02, -1.78883914e-02,\n",
       "         1.09591372e-02,  1.51621457e-02,  5.55020384e-02,\n",
       "         9.01760720e-03,  2.66972743e-02, -1.06275105e-03,\n",
       "         3.61881219e-02, -6.68772832e-02,  5.80926135e-04,\n",
       "         3.43571939e-02,  1.70649942e-02, -2.96524093e-02,\n",
       "         8.25284515e-03, -5.37324548e-02,  1.21013506e-03,\n",
       "         9.01172776e-03,  1.76775102e-02, -4.20639403e-02,\n",
       "        -7.14195706e-03,  1.45520139e-02,  2.07936335e-02,\n",
       "        -3.03524826e-02,  1.96990427e-02,  1.20127304e-02,\n",
       "         2.20787227e-02,  1.51964622e-02, -5.65661937e-02,\n",
       "        -1.66902598e-02,  1.30093414e-02,  3.65680642e-02,\n",
       "         4.48697992e-02, -4.35709907e-03,  2.69045401e-02,\n",
       "         2.37505790e-02,  1.22413822e-02,  1.53528694e-02,\n",
       "        -9.93962120e-03,  2.15805061e-02, -5.06962352e-02,\n",
       "        -2.60620564e-02, -9.58387833e-03, -9.29347426e-03,\n",
       "        -3.88772669e-03,  3.18289921e-02, -4.18546610e-02,\n",
       "        -3.92652489e-02, -7.82920271e-02, -2.36347243e-02,\n",
       "         3.47576141e-02, -1.41236549e-02,  2.15147026e-02,\n",
       "         5.87689467e-02, -6.07019030e-02,  7.53874332e-02,\n",
       "         2.36601159e-02, -5.58544416e-03,  2.13340092e-02,\n",
       "        -1.22354571e-02, -1.00801326e-02, -1.94508210e-02,\n",
       "        -8.74207634e-03,  3.55360843e-02, -1.57942250e-02,\n",
       "         3.13685760e-02, -7.34588830e-03,  7.01450557e-02,\n",
       "        -1.43676829e-02,  4.32406887e-02,  2.27424800e-02,\n",
       "         2.75549293e-02,  1.45984637e-02,  7.30077084e-03,\n",
       "         2.14247610e-02,  1.65505651e-02,  1.12211918e-02,\n",
       "         1.44560440e-02,  7.26065934e-02,  3.87547407e-05,\n",
       "        -3.67644709e-03,  2.57763863e-02, -1.69434994e-02,\n",
       "         1.70371942e-02,  9.55171660e-02, -4.31330055e-02,\n",
       "        -7.14643225e-02,  3.56535949e-02,  1.85042880e-02,\n",
       "         4.50781584e-02,  1.02200999e-03, -9.32629686e-03,\n",
       "         2.11493094e-02, -1.40856032e-03, -1.04205422e-02,\n",
       "        -2.30568033e-02, -3.90597396e-02, -1.91347338e-02,\n",
       "        -1.28247477e-02, -4.61819619e-02,  7.58810192e-02,\n",
       "         2.02502683e-02,  4.41289097e-02, -4.55158874e-02,\n",
       "        -1.32687353e-02,  1.68932956e-02,  1.49672581e-02,\n",
       "         1.46194035e-02,  6.35074452e-04,  6.45934721e-04,\n",
       "        -7.23263547e-02,  1.89511225e-01,  3.65826450e-02,\n",
       "        -2.16210652e-02, -1.19662490e-02,  2.46509332e-02,\n",
       "        -6.14555262e-04, -1.64045058e-02, -3.18861566e-02,\n",
       "        -8.45784917e-02,  4.62563941e-04,  2.45939679e-02,\n",
       "        -4.66806535e-03,  4.04524617e-02,  2.23423447e-02,\n",
       "        -4.99564447e-02, -9.65202227e-03,  1.71735175e-02,\n",
       "        -1.94548015e-02,  1.70714464e-02, -2.92813517e-02,\n",
       "         1.94129460e-02, -3.38898636e-02, -3.78133009e-05,\n",
       "         4.15849425e-02, -1.38156012e-01,  6.14459924e-02,\n",
       "        -5.20304963e-02,  2.89758109e-02, -4.45491076e-02,\n",
       "         1.53418630e-02, -1.94719359e-02, -4.28933017e-02,\n",
       "         2.15678476e-02,  1.36530409e-02, -2.76348628e-02,\n",
       "         2.17798930e-02,  5.24940789e-02, -9.43971390e-04,\n",
       "        -6.32169656e-03,  1.68917477e-02,  2.22226996e-02,\n",
       "        -8.04754533e-03, -1.13585396e-02,  2.54458636e-02,\n",
       "        -1.84923727e-02,  1.35233179e-02,  9.82897170e-03,\n",
       "         7.37611623e-03, -2.29456238e-02, -9.55830142e-03,\n",
       "        -5.03237955e-02, -2.08402388e-02, -2.17087083e-02,\n",
       "        -2.57884488e-02,  3.39200930e-03,  1.75030692e-03,\n",
       "        -3.67357880e-02,  2.35093534e-02,  9.43481084e-03,\n",
       "        -2.17202120e-02, -4.56397608e-02,  1.96701419e-02,\n",
       "        -1.23916399e-02, -6.47532791e-02,  1.27220398e-03,\n",
       "         4.27192822e-02, -2.84554977e-02, -2.12342218e-02,\n",
       "        -3.60639207e-02,  1.48185191e-03, -5.56887034e-03,\n",
       "         5.37754595e-02,  1.17292190e-02, -3.58592719e-02,\n",
       "        -3.21105681e-03, -4.38971119e-03,  4.50664088e-02,\n",
       "        -7.75123201e-03,  1.63365342e-02,  4.74934117e-04,\n",
       "         1.37435645e-02,  3.58154066e-02, -5.01537733e-02,\n",
       "         1.02663916e-02,  2.83108726e-02, -2.39888728e-02,\n",
       "        -2.18019709e-02,  3.31566744e-02, -5.15616350e-02,\n",
       "        -5.90488277e-02,  5.21680759e-03, -1.22502330e-03,\n",
       "         2.41374895e-02, -3.76128629e-02, -4.71690819e-02,\n",
       "        -5.94610237e-02, -8.29802733e-03, -1.96552202e-02,\n",
       "        -7.92087242e-03, -6.54569501e-03,  3.22281048e-02,\n",
       "        -6.27219304e-03, -1.93118304e-02, -1.02825418e-01,\n",
       "         5.67931719e-02, -2.70582996e-02, -1.39209861e-02,\n",
       "        -1.27209211e-02,  9.48561449e-03,  1.98367368e-02,\n",
       "         1.82950534e-02, -9.03424099e-02, -7.26021419e-04,\n",
       "         1.09642008e-02, -4.34626043e-02,  2.07428820e-02,\n",
       "         1.99579243e-02,  6.80069476e-02,  3.40351947e-02,\n",
       "         2.94926371e-02, -5.27391471e-02,  3.81022543e-02,\n",
       "        -1.12914043e-02, -3.56297344e-02, -9.19026732e-02,\n",
       "         4.14792355e-03, -3.80331576e-02,  5.13140000e-02,\n",
       "         9.09643248e-04, -7.44014308e-02,  2.05750596e-02,\n",
       "        -2.37282161e-02, -3.11830677e-02,  2.59985705e-03,\n",
       "        -8.22112523e-03,  2.74274014e-02, -1.67794246e-02,\n",
       "        -4.52178530e-02, -5.63128591e-02,  1.55862095e-02,\n",
       "         1.59837008e-02,  1.68111585e-02, -5.79975918e-02,\n",
       "         3.29002291e-02,  6.04871586e-02,  4.27068919e-02,\n",
       "         4.38921377e-02,  3.47918198e-02,  7.58245168e-03,\n",
       "         2.07746830e-02, -2.25053099e-03,  8.99928622e-03,\n",
       "         6.21342883e-02,  5.00231842e-03,  7.53208920e-02,\n",
       "         4.63448949e-02,  3.03733330e-02, -2.29496453e-02,\n",
       "         2.38314010e-02,  3.38726980e-03,  3.76005960e-03,\n",
       "        -4.58452813e-02,  4.07129042e-02,  4.68431115e-02,\n",
       "        -9.59236771e-02, -1.85666587e-02,  2.66487096e-02,\n",
       "         1.63798686e-02, -7.58920684e-02,  4.22233762e-03,\n",
       "         1.00831091e-02,  7.14401482e-03,  5.14256805e-02,\n",
       "         1.69394035e-02,  1.22003242e-01, -5.23173101e-02,\n",
       "        -1.01769395e-01, -6.45895973e-02, -2.76111867e-02,\n",
       "         2.77274218e-03,  7.08855037e-03, -8.25132150e-03,\n",
       "        -1.81737747e-02, -1.68344323e-02, -1.94235034e-02,\n",
       "        -2.14113910e-02,  7.44133145e-02,  1.43765686e-02,\n",
       "         1.51590789e-02,  2.22056247e-02,  1.87050477e-02,\n",
       "        -8.39675292e-02, -2.20084582e-02, -8.48252047e-03,\n",
       "         7.43638501e-02,  3.59046943e-02,  3.25897411e-02,\n",
       "         8.66026897e-03, -3.76623161e-02,  1.69450063e-02,\n",
       "        -5.17775007e-02,  6.08282983e-02, -2.11338177e-02,\n",
       "         1.44511089e-03,  1.14387320e-03, -1.89832747e-02,\n",
       "         6.36508083e-03, -3.30029055e-02, -1.20583316e-02,\n",
       "        -3.77258994e-02,  1.67869050e-02, -2.81842574e-02,\n",
       "         4.15120982e-02, -1.34107785e-03, -2.35345792e-02,\n",
       "         1.95589829e-02, -6.88685197e-03,  8.34539309e-02,\n",
       "        -1.52535327e-02, -6.04938045e-02,  5.11098839e-02,\n",
       "         7.79659003e-02,  4.65490632e-02,  3.66644524e-02,\n",
       "        -1.83192808e-02, -2.90506613e-02, -3.59528325e-02,\n",
       "        -6.92746118e-02, -3.00232898e-02,  2.89776945e-03,\n",
       "        -4.78591630e-03,  6.03951747e-03,  1.66379511e-02,\n",
       "        -7.13982806e-03,  1.26224617e-02, -9.22825038e-02,\n",
       "        -1.25362920e-02, -4.07434143e-02, -2.13144906e-02,\n",
       "         2.84367148e-03,  2.77065989e-02,  3.42699401e-02,\n",
       "        -2.72338782e-02,  2.44480055e-02, -8.08209740e-03,\n",
       "        -4.58119512e-02, -1.50028672e-02,  2.84490883e-02,\n",
       "         8.84433836e-02,  4.48335148e-02,  1.76563784e-02,\n",
       "        -7.69469608e-03,  2.30906792e-02, -9.07910801e-03,\n",
       "        -4.16069342e-05, -1.90605838e-02, -7.01468661e-02,\n",
       "         1.83284301e-02, -5.31726889e-03, -4.15691622e-02,\n",
       "        -6.28272863e-03, -2.35217810e-02, -1.51190683e-02,\n",
       "         1.64328050e-02,  5.40509783e-02, -9.90995467e-02,\n",
       "        -8.10736418e-02,  2.42616720e-02,  4.62531410e-02,\n",
       "        -1.25838397e-02, -5.57167269e-02, -1.16297277e-02,\n",
       "         4.97162603e-02,  2.60359254e-02, -3.11165042e-02,\n",
       "        -9.11706872e-03, -3.97377945e-02,  8.55150260e-03,\n",
       "        -8.58077779e-03,  6.01472752e-03, -1.48884542e-02,\n",
       "         7.97761430e-04, -2.48623583e-02, -5.92343509e-03,\n",
       "         1.35267256e-02, -6.15433306e-02,  9.55616962e-03,\n",
       "         2.44546328e-02,  1.70231296e-03, -4.64740954e-02,\n",
       "        -7.55924592e-03, -4.05833982e-02,  1.65274125e-02,\n",
       "         1.77564081e-02,  2.32289303e-02, -4.53756750e-02,\n",
       "        -4.81347293e-02, -8.45235661e-02, -1.48183946e-02,\n",
       "         3.98381129e-02,  2.85439808e-02,  1.37874251e-02,\n",
       "        -6.37548789e-02,  7.67348111e-02,  1.42232366e-02,\n",
       "        -6.29595965e-02,  3.65299582e-02,  2.22500414e-02,\n",
       "        -2.26987563e-02,  3.18757556e-02, -2.04875693e-02,\n",
       "        -5.12762181e-02,  1.82415340e-02,  4.65169773e-02,\n",
       "        -6.36598514e-03,  2.55673053e-03,  3.78509313e-02,\n",
       "        -2.06369739e-02, -1.54917743e-02,  2.82348432e-02,\n",
       "        -7.31486827e-03, -2.41546053e-02, -3.42243817e-03,\n",
       "         2.73600314e-03, -1.91573612e-02,  4.32609543e-02,\n",
       "        -4.16927673e-02, -3.04326564e-02,  9.49363783e-03,\n",
       "         1.09623456e-02, -5.67547157e-02,  1.61626004e-02,\n",
       "        -3.46166827e-02, -2.67786123e-02,  4.61105630e-02,\n",
       "        -1.89501070e-03,  5.52730681e-03, -7.16203526e-02,\n",
       "         2.92600109e-03,  5.04641607e-03, -1.50667308e-02,\n",
       "        -1.90159213e-02,  4.70748134e-02,  1.87200978e-02,\n",
       "        -3.16549535e-03,  2.18436420e-02,  2.00557169e-02,\n",
       "         2.61352211e-03,  6.03048538e-04, -1.81234777e-02,\n",
       "        -1.72910444e-03, -4.32328470e-02,  5.15981857e-03,\n",
       "        -8.63786507e-03,  9.68497421e-04, -8.42667893e-02,\n",
       "        -4.36389595e-02,  2.28978377e-02,  1.70557220e-02,\n",
       "         5.13965124e-03,  2.10174825e-02,  6.92014582e-03,\n",
       "        -5.30781271e-03, -1.81255583e-02,  3.72678898e-02,\n",
       "        -5.41040860e-02, -3.31563503e-02,  1.94422491e-02,\n",
       "        -4.15115384e-03,  1.69690121e-02,  3.39954272e-02,\n",
       "         4.60393801e-02, -4.18866985e-02, -1.44303555e-03,\n",
       "        -2.26172265e-02,  1.95737053e-02,  1.06259191e-03,\n",
       "         3.92737798e-02, -6.10285532e-03,  4.71788719e-02,\n",
       "        -4.21488881e-02,  1.33670000e-02, -7.06731677e-02,\n",
       "         1.97969784e-05,  1.50431767e-02,  3.16734798e-02,\n",
       "         2.10129935e-02,  3.47013548e-02,  1.11289788e-02,\n",
       "        -6.53854162e-02,  1.22967148e-02, -1.43335788e-02,\n",
       "        -8.80154129e-03, -2.33263243e-02, -1.67939495e-02,\n",
       "         1.45705445e-02,  3.35128568e-02,  2.50584241e-02,\n",
       "         3.94570902e-02,  1.30509143e-03,  3.17725725e-03,\n",
       "        -5.90737313e-02,  3.16683538e-02, -6.27554804e-02,\n",
       "         1.71457920e-02,  3.45598236e-02,  9.47933458e-03,\n",
       "        -1.04925018e-02,  2.80131046e-02, -1.23849406e-03,\n",
       "        -3.90885286e-02,  4.15117340e-03,  5.24026081e-02,\n",
       "        -6.85668550e-03,  3.20024905e-03,  2.48051081e-02,\n",
       "         4.08488922e-02, -5.43082990e-02, -2.84104403e-02,\n",
       "         1.93947162e-02, -4.28483747e-02, -3.32899578e-03,\n",
       "         1.09144570e-02,  1.97299458e-02, -3.52221206e-02,\n",
       "         5.16537093e-02, -1.31198508e-03, -1.08826160e-02,\n",
       "        -3.96266207e-03, -2.52957977e-02, -2.07533389e-02,\n",
       "         1.38863781e-02,  2.20773593e-02,  3.59280892e-02,\n",
       "        -3.45277861e-02, -9.14542191e-03, -1.01426069e-03,\n",
       "        -3.46117566e-04,  2.84390766e-02, -4.07660119e-02,\n",
       "        -2.62933746e-02, -1.79270487e-02,  2.92440094e-02,\n",
       "        -2.33928580e-02,  6.19209632e-02,  5.61967976e-02,\n",
       "        -7.13590682e-02, -1.70546696e-02, -2.63813743e-03,\n",
       "         1.95364598e-02,  3.22879255e-02,  3.34431380e-02,\n",
       "        -4.38812980e-03, -2.67048478e-02,  2.37957053e-02,\n",
       "         3.03070135e-02,  4.60178480e-02,  1.60345323e-02,\n",
       "         6.50639758e-02,  2.65082959e-02,  2.78504957e-02,\n",
       "        -2.07466781e-02,  6.26852829e-03,  2.33204383e-02,\n",
       "         3.09655759e-02,  4.38964963e-02,  4.33741603e-03,\n",
       "         1.01851448e-02,  9.70898569e-03, -1.93055775e-02,\n",
       "        -4.90157343e-02,  2.11748593e-02, -3.19204293e-02,\n",
       "         7.16133192e-02,  1.41319670e-02, -3.02400459e-02,\n",
       "         2.14027371e-02,  4.14190395e-03,  6.37561828e-02,\n",
       "         1.14916945e-02, -1.31549537e-02,  3.94725613e-02,\n",
       "         3.46081182e-02, -2.07322482e-02, -2.51939911e-02,\n",
       "        -3.28971520e-02, -1.27230778e-01,  7.95391761e-03,\n",
       "        -2.54332880e-03, -1.77629408e-04,  4.20916788e-02,\n",
       "         7.99304619e-02, -4.73604985e-02,  1.18235499e-02,\n",
       "        -3.69586758e-02,  7.46586919e-03, -8.50489363e-03,\n",
       "        -3.92229594e-02,  8.78010131e-03,  1.81388557e-02,\n",
       "         6.09488459e-04, -2.97843497e-02, -7.58333877e-02,\n",
       "         2.76656672e-02,  1.24657275e-02,  5.05748438e-03,\n",
       "         1.02132512e-02,  2.21535303e-02,  5.12053818e-02,\n",
       "        -2.52610054e-02,  8.72917548e-02, -4.34850752e-02,\n",
       "        -4.39564399e-02, -2.81149819e-02,  3.56601588e-02,\n",
       "         1.92599315e-02,  1.24263717e-02,  2.05856301e-02,\n",
       "        -5.39219147e-03, -8.81247781e-03, -6.62258361e-03,\n",
       "        -6.18919432e-02, -2.76064500e-02,  3.26141971e-03,\n",
       "        -3.99395265e-03, -4.26738560e-02,  3.45197469e-02,\n",
       "        -9.82318074e-03, -4.82465513e-02,  4.96989638e-02,\n",
       "        -1.19190139e-03, -1.82979507e-03,  1.81111805e-02,\n",
       "        -3.64555195e-02,  2.08138339e-02, -9.44333337e-03,\n",
       "         1.43378293e-02,  1.06673157e-02,  1.60999093e-02,\n",
       "         1.56617968e-03,  7.07027614e-02, -1.62106473e-02,\n",
       "        -4.07713726e-02, -2.36956272e-02,  1.82653572e-02,\n",
       "         1.55871641e-02,  4.80609993e-03, -1.10228233e-01,\n",
       "        -2.19322313e-02, -3.23027745e-02, -3.34406011e-02,\n",
       "         1.79813951e-02,  3.79077019e-03,  3.06044072e-02,\n",
       "        -4.59319316e-02, -5.21095609e-03, -4.58951928e-02,\n",
       "         9.64271929e-03, -2.43842546e-02,  4.65895198e-02,\n",
       "        -6.75918441e-03, -2.65967231e-02,  4.85647703e-04]], dtype=float32)>"
      ]
     },
     "execution_count": 17,
     "metadata": {},
     "output_type": "execute_result"
    }
   ],
   "source": [
    "test = np.array(input_data[0])\n",
    "test = tf.convert_to_tensor(test[0:1,:], dtype=tf.float32)\n",
    "test"
   ]
  },
  {
   "cell_type": "code",
   "execution_count": 18,
   "metadata": {},
   "outputs": [
    {
     "data": {
      "text/plain": [
       "<tf.Tensor: id=3836165, shape=(1, 100), dtype=float32, numpy=\n",
       "array([[ 0.04587567,  0.95603406,  0.19799237,  0.27132607,  0.5182936 ,\n",
       "         0.24566728,  0.5247544 , -1.0414523 ,  2.0494282 ,  0.76284647,\n",
       "         0.3533501 ,  0.06776845,  0.21529436, -0.38886002,  0.05726548,\n",
       "        -0.34342277, -0.25012064,  0.36369675, -0.7488153 , -0.28223535,\n",
       "        -0.11707094, -0.6332027 ,  1.068301  , -0.56316173, -0.52404666,\n",
       "        -0.71921134,  0.06751603, -0.2854171 ,  0.19256648, -1.4145049 ,\n",
       "         0.2158823 , -0.49014825,  0.00318229,  0.489711  ,  0.08123231,\n",
       "        -0.18804863,  0.98251975, -0.21690783, -0.32022658,  0.08053899,\n",
       "        -0.24395107, -0.16364872,  0.01122761,  0.24132544,  0.631406  ,\n",
       "         0.14846647, -0.20164928,  0.6126946 , -0.4700961 ,  1.0737244 ,\n",
       "        -0.36492234,  0.09478116,  0.21037029,  0.28478354,  0.54165417,\n",
       "         0.72990406,  0.4772601 ,  0.8061782 , -0.5030485 , -0.32453632,\n",
       "        -0.15377998, -0.5035307 ,  0.03122225,  0.32946926, -0.5093246 ,\n",
       "        -0.12624633,  0.51217103, -0.1982137 , -0.5201389 ,  0.43519437,\n",
       "        -0.70911837, -0.11120319, -0.09906352,  0.25961202, -0.2787196 ,\n",
       "        -0.43912113,  0.5190694 , -0.1684623 ,  0.99183226,  0.80240464,\n",
       "        -0.49889898, -0.2542895 , -0.35619292, -0.27304405,  0.21292412,\n",
       "         0.0985465 ,  0.13909644,  0.7215276 ,  0.635109  ,  0.05481026,\n",
       "        -0.56447107, -0.13288867,  0.0529691 ,  0.2240727 ,  0.41724744,\n",
       "         0.15078661,  0.39323765,  0.16211069,  0.45818317,  0.02235651]],\n",
       "      dtype=float32)>"
      ]
     },
     "execution_count": 18,
     "metadata": {},
     "output_type": "execute_result"
    }
   ],
   "source": [
    "model.frwrd_pass(test)"
   ]
  },
  {
   "cell_type": "markdown",
   "metadata": {},
   "source": [
    "Save the trained model."
   ]
  },
  {
   "cell_type": "code",
   "execution_count": 19,
   "metadata": {},
   "outputs": [],
   "source": [
    "os.makedirs('../trained_model/tripletloss', exist_ok=True)"
   ]
  },
  {
   "cell_type": "code",
   "execution_count": 20,
   "metadata": {},
   "outputs": [],
   "source": [
    "saver = tfe.Saver(model.variables)"
   ]
  },
  {
   "cell_type": "code",
   "execution_count": 21,
   "metadata": {},
   "outputs": [
    {
     "data": {
      "text/plain": [
       "'../trained_model/tripletloss/ckpt'"
      ]
     },
     "execution_count": 21,
     "metadata": {},
     "output_type": "execute_result"
    }
   ],
   "source": [
    "saver.save(\"../trained_model/tripletloss/ckpt\")"
   ]
  },
  {
   "cell_type": "markdown",
   "metadata": {},
   "source": [
    "## Inferece with trained model"
   ]
  },
  {
   "cell_type": "code",
   "execution_count": 1,
   "metadata": {},
   "outputs": [],
   "source": [
    "import pandas as pd\n",
    "import numpy as np\n",
    "import pickle"
   ]
  },
  {
   "cell_type": "code",
   "execution_count": 2,
   "metadata": {},
   "outputs": [],
   "source": [
    "citations_info_target = pd.read_pickle(\"../data/citations_info_2000.df.gz\")\n",
    "test_app_feature_1000 = pd.read_pickle(\"../data/testset_app_feature_1000.pkl\")\n",
    "grants_feature_2000 = pd.read_pickle(\"../data/grants_feature_2000.pkl\")"
   ]
  },
  {
   "cell_type": "code",
   "execution_count": 3,
   "metadata": {},
   "outputs": [],
   "source": [
    "test_normalized_feature_dict_1000 = { \n",
    "    k:v/np.linalg.norm(v) for k,v in zip(test_app_feature_1000['app_id'], test_app_feature_1000['feature'])\n",
    "}\n",
    "\n",
    "grants_normalized_feature_dict_2000 = { \n",
    "    k:v/np.linalg.norm(v) for k,v in zip(grants_feature_2000['parsed'], grants_feature_2000['feature'])\n",
    "}"
   ]
  },
  {
   "cell_type": "code",
   "execution_count": 4,
   "metadata": {},
   "outputs": [],
   "source": [
    "def sort_similarity_by_value(sim_dict, app_id):\n",
    "    '''\n",
    "    input:\n",
    "        sim_dict: similary dictionary\n",
    "        app_id: target application id\n",
    "    return:\n",
    "        [(parsed1, sim1), (parsed2, sim2), ...] sorted by similarities\n",
    "    '''\n",
    "    return [(parsed, sim_dict[app_id][parsed]) for parsed in sorted(sim_dict[app_id], key=sim_dict[app_id].get)]"
   ]
  },
  {
   "cell_type": "code",
   "execution_count": 5,
   "metadata": {},
   "outputs": [],
   "source": [
    "def get_cited_grants(citations_info_target, app_id):\n",
    "    '''\n",
    "    input:\n",
    "        citations_info_target: DataFrame of citation relationships\n",
    "        app_id: target application id\n",
    "    return:\n",
    "        {parsed1, parsed2, ...} that are cited to reject app_id\n",
    "    '''\n",
    "    return set(citations_info_target[citations_info_target['app_id'] == app_id]['parsed'])"
   ]
  },
  {
   "cell_type": "code",
   "execution_count": 6,
   "metadata": {},
   "outputs": [],
   "source": [
    "import os\n",
    "import tensorflow as tf\n",
    "\n",
    "tf.enable_eager_execution()\n",
    "tfe = tf.contrib.eager\n",
    "\n",
    "class Model(object):\n",
    "    def __init__(self, input_shape, output_shape):\n",
    "        self.input_shape = input_shape\n",
    "        self.output_shape = output_shape\n",
    "        self.W = tfe.Variable( tf.random_normal( [self.input_shape, self.output_shape] ), name='weight' )\n",
    "        self.B = tfe.Variable( tf.random_normal( [self.output_shape] ), name='bias' ) \n",
    "        self.variables = [ self.W, self.B ]\n",
    "    \n",
    "    def frwrd_pass(self,X_train):\n",
    "        out = tf.matmul( X_train, self.W ) + self.B\n",
    "        \n",
    "        return out"
   ]
  },
  {
   "cell_type": "code",
   "execution_count": 7,
   "metadata": {},
   "outputs": [],
   "source": [
    "model = Model(input_shape=768, output_shape=100)"
   ]
  },
  {
   "cell_type": "code",
   "execution_count": 8,
   "metadata": {},
   "outputs": [
    {
     "name": "stdout",
     "output_type": "stream",
     "text": [
      "INFO:tensorflow:Restoring parameters from ../trained_model/tripletloss/ckpt\n"
     ]
    }
   ],
   "source": [
    "tfe.Saver((model.variables)).restore(\"../trained_model/tripletloss/ckpt\")"
   ]
  },
  {
   "cell_type": "code",
   "execution_count": 9,
   "metadata": {},
   "outputs": [],
   "source": [
    "sorted_keys = sorted(test_normalized_feature_dict_1000.keys())\n",
    "\n",
    "test_feature_tensors = tf.convert_to_tensor(\n",
    "    np.array([ test_normalized_feature_dict_1000[k] for k in sorted_keys ]),\n",
    "    dtype=tf.float32)"
   ]
  },
  {
   "cell_type": "code",
   "execution_count": 10,
   "metadata": {},
   "outputs": [],
   "source": [
    "test_extracted_features = model.frwrd_pass(test_feature_tensors).numpy()"
   ]
  },
  {
   "cell_type": "code",
   "execution_count": 11,
   "metadata": {},
   "outputs": [
    {
     "data": {
      "text/plain": [
       "(1000, 100)"
      ]
     },
     "execution_count": 11,
     "metadata": {},
     "output_type": "execute_result"
    }
   ],
   "source": [
    "test_extracted_features.shape"
   ]
  },
  {
   "cell_type": "code",
   "execution_count": 12,
   "metadata": {},
   "outputs": [],
   "source": [
    "test_extracted_features_df = pd.DataFrame({ \n",
    "    'app_id':sorted_keys, 'extracted_feature':[ v/np.linalg.norm(v) for v in test_extracted_features ]\n",
    "})"
   ]
  },
  {
   "cell_type": "code",
   "execution_count": 13,
   "metadata": {},
   "outputs": [
    {
     "data": {
      "text/html": [
       "<div>\n",
       "<style scoped>\n",
       "    .dataframe tbody tr th:only-of-type {\n",
       "        vertical-align: middle;\n",
       "    }\n",
       "\n",
       "    .dataframe tbody tr th {\n",
       "        vertical-align: top;\n",
       "    }\n",
       "\n",
       "    .dataframe thead th {\n",
       "        text-align: right;\n",
       "    }\n",
       "</style>\n",
       "<table border=\"1\" class=\"dataframe\">\n",
       "  <thead>\n",
       "    <tr style=\"text-align: right;\">\n",
       "      <th></th>\n",
       "      <th>app_id</th>\n",
       "      <th>extracted_feature</th>\n",
       "    </tr>\n",
       "  </thead>\n",
       "  <tbody>\n",
       "    <tr>\n",
       "      <th>0</th>\n",
       "      <td>12000862</td>\n",
       "      <td>[-0.031397596, 0.13662174, -0.21509674, 0.1348...</td>\n",
       "    </tr>\n",
       "    <tr>\n",
       "      <th>1</th>\n",
       "      <td>12003258</td>\n",
       "      <td>[0.025878849, 0.088063695, 0.08393917, -0.0568...</td>\n",
       "    </tr>\n",
       "  </tbody>\n",
       "</table>\n",
       "</div>"
      ],
      "text/plain": [
       "     app_id                                  extracted_feature\n",
       "0  12000862  [-0.031397596, 0.13662174, -0.21509674, 0.1348...\n",
       "1  12003258  [0.025878849, 0.088063695, 0.08393917, -0.0568..."
      ]
     },
     "execution_count": 13,
     "metadata": {},
     "output_type": "execute_result"
    }
   ],
   "source": [
    "test_extracted_features_df.head(2)"
   ]
  },
  {
   "cell_type": "code",
   "execution_count": 14,
   "metadata": {},
   "outputs": [],
   "source": [
    "sorted_keys = sorted(grants_normalized_feature_dict_2000.keys())\n",
    "\n",
    "grants_feature_tensors = tf.convert_to_tensor(\n",
    "    np.array([ grants_normalized_feature_dict_2000[k] for k in sorted_keys ]),\n",
    "    dtype=tf.float32)"
   ]
  },
  {
   "cell_type": "code",
   "execution_count": 15,
   "metadata": {},
   "outputs": [],
   "source": [
    "grants_extracted_features = model.frwrd_pass(grants_feature_tensors).numpy()"
   ]
  },
  {
   "cell_type": "code",
   "execution_count": 16,
   "metadata": {},
   "outputs": [
    {
     "data": {
      "text/plain": [
       "(2524, 100)"
      ]
     },
     "execution_count": 16,
     "metadata": {},
     "output_type": "execute_result"
    }
   ],
   "source": [
    "grants_extracted_features.shape"
   ]
  },
  {
   "cell_type": "code",
   "execution_count": 17,
   "metadata": {},
   "outputs": [],
   "source": [
    "grants_extracted_features_df = pd.DataFrame({ \n",
    "    'parsed':sorted_keys, 'extracted_feature':[ v/np.linalg.norm(v) for v in grants_extracted_features ]\n",
    "})"
   ]
  },
  {
   "cell_type": "code",
   "execution_count": 18,
   "metadata": {},
   "outputs": [
    {
     "data": {
      "text/html": [
       "<div>\n",
       "<style scoped>\n",
       "    .dataframe tbody tr th:only-of-type {\n",
       "        vertical-align: middle;\n",
       "    }\n",
       "\n",
       "    .dataframe tbody tr th {\n",
       "        vertical-align: top;\n",
       "    }\n",
       "\n",
       "    .dataframe thead th {\n",
       "        text-align: right;\n",
       "    }\n",
       "</style>\n",
       "<table border=\"1\" class=\"dataframe\">\n",
       "  <thead>\n",
       "    <tr style=\"text-align: right;\">\n",
       "      <th></th>\n",
       "      <th>extracted_feature</th>\n",
       "      <th>parsed</th>\n",
       "    </tr>\n",
       "  </thead>\n",
       "  <tbody>\n",
       "    <tr>\n",
       "      <th>0</th>\n",
       "      <td>[0.11370609, 0.10061456, 0.1965108, 0.05344611...</td>\n",
       "      <td>6837383</td>\n",
       "    </tr>\n",
       "    <tr>\n",
       "      <th>1</th>\n",
       "      <td>[0.12420972, -0.012481616, -0.061706085, -0.03...</td>\n",
       "      <td>6837647</td>\n",
       "    </tr>\n",
       "  </tbody>\n",
       "</table>\n",
       "</div>"
      ],
      "text/plain": [
       "                                   extracted_feature   parsed\n",
       "0  [0.11370609, 0.10061456, 0.1965108, 0.05344611...  6837383\n",
       "1  [0.12420972, -0.012481616, -0.061706085, -0.03...  6837647"
      ]
     },
     "execution_count": 18,
     "metadata": {},
     "output_type": "execute_result"
    }
   ],
   "source": [
    "grants_extracted_features_df.head(2)"
   ]
  },
  {
   "cell_type": "code",
   "execution_count": 19,
   "metadata": {},
   "outputs": [
    {
     "name": "stdout",
     "output_type": "stream",
     "text": [
      "CPU times: user 12.7 s, sys: 185 ms, total: 12.9 s\n",
      "Wall time: 12.9 s\n"
     ]
    }
   ],
   "source": [
    "%%time\n",
    "\n",
    "sim_dict = {\n",
    "    app_id:{ parsed:np.sum(test_f*grants_f)\n",
    "            for parsed, grants_f \n",
    "            in zip(grants_extracted_features_df['parsed'], grants_extracted_features_df['extracted_feature']) } \n",
    "    for app_id, test_f \n",
    "    in zip(test_extracted_features_df['app_id'], test_extracted_features_df['extracted_feature'])\n",
    "}"
   ]
  },
  {
   "cell_type": "code",
   "execution_count": 20,
   "metadata": {},
   "outputs": [
    {
     "name": "stdout",
     "output_type": "stream",
     "text": [
      "CPU times: user 3.99 s, sys: 39 ms, total: 4.03 s\n",
      "Wall time: 3.97 s\n"
     ]
    }
   ],
   "source": [
    "%%time\n",
    "\n",
    "all_ranks = []\n",
    "\n",
    "for app_id in test_extracted_features_df['app_id']:\n",
    "    cited_grants = get_cited_grants(citations_info_target, app_id)\n",
    "    sorted_kv = reversed(sort_similarity_by_value(sim_dict, app_id))  # higher score, similar patent\n",
    "\n",
    "    idx = 1\n",
    "    for k,v in sorted_kv:\n",
    "        if k in cited_grants:\n",
    "            all_ranks.append(idx)\n",
    "        idx += 1"
   ]
  },
  {
   "cell_type": "code",
   "execution_count": 21,
   "metadata": {},
   "outputs": [
    {
     "name": "stdout",
     "output_type": "stream",
     "text": [
      "Counter({1: 59, 2: 33, 3: 19, 4: 18, 5: 14, 18: 14, 12: 13, 6: 12, 8: 12, 9: 11, 13: 11, 7: 10, 10: 10, 17: 10, 24: 10, 14: 9, 33: 9, 65: 9, 37: 8, 11: 7, 15: 7, 16: 7, 21: 7, 26: 7, 28: 7, 60: 7, 19: 6, 20: 6, 40: 6, 45: 6, 49: 6, 50: 6, 27: 5, 30: 5, 35: 5, 36: 5, 54: 5, 91: 5, 105: 5, 147: 5, 164: 5, 43: 5, 25: 4, 34: 4, 38: 4, 39: 4, 41: 4, 42: 4, 53: 4, 59: 4, 64: 4, 74: 4, 78: 4, 82: 4, 87: 4, 104: 4, 120: 4, 134: 4, 177: 4, 185: 4, 188: 4, 202: 4, 213: 4, 239: 4, 240: 4, 51: 4, 88: 4, 32: 4, 22: 3, 29: 3, 31: 3, 44: 3, 47: 3, 57: 3, 63: 3, 67: 3, 69: 3, 70: 3, 71: 3, 77: 3, 85: 3, 89: 3, 95: 3, 98: 3, 107: 3, 114: 3, 115: 3, 126: 3, 128: 3, 130: 3, 131: 3, 23: 3, 141: 3, 146: 3, 149: 3, 204: 3, 218: 3, 256: 3, 263: 3, 287: 3, 372: 3, 441: 3, 499: 3, 755: 3, 321: 3, 48: 2, 52: 2, 55: 2, 56: 2, 66: 2, 68: 2, 73: 2, 75: 2, 80: 2, 86: 2, 92: 2, 1118: 2, 96: 2, 97: 2, 101: 2, 102: 2, 113: 2, 116: 2, 118: 2, 122: 2, 125: 2, 129: 2, 132: 2, 138: 2, 154: 2, 155: 2, 159: 2, 160: 2, 1185: 2, 163: 2, 165: 2, 167: 2, 174: 2, 182: 2, 187: 2, 189: 2, 195: 2, 199: 2, 203: 2, 208: 2, 209: 2, 211: 2, 221: 2, 222: 2, 226: 2, 210: 2, 241: 2, 246: 2, 252: 2, 255: 2, 257: 2, 274: 2, 276: 2, 280: 2, 282: 2, 286: 2, 297: 2, 300: 2, 302: 2, 157: 2, 313: 2, 314: 2, 316: 2, 79: 2, 333: 2, 336: 2, 1364: 2, 350: 2, 366: 2, 374: 2, 399: 2, 403: 2, 413: 2, 414: 2, 416: 2, 423: 2, 429: 2, 467: 2, 476: 2, 477: 2, 483: 2, 484: 2, 503: 2, 518: 2, 522: 2, 535: 2, 539: 2, 543: 2, 94: 2, 581: 2, 629: 2, 647: 2, 684: 2, 500: 2, 1142: 2, 725: 2, 121: 2, 731: 2, 161: 2, 779: 2, 788: 2, 789: 2, 805: 2, 813: 2, 1846: 2, 875: 2, 922: 2, 932: 2, 1181: 2, 947: 2, 955: 2, 340: 2, 345: 1, 1056: 1, 1067: 1, 46: 1, 179: 1, 58: 1, 61: 1, 62: 1, 72: 1, 1103: 1, 184: 1, 83: 1, 1108: 1, 1112: 1, 90: 1, 93: 1, 99: 1, 100: 1, 1130: 1, 108: 1, 109: 1, 1135: 1, 112: 1, 1214: 1, 2152: 1, 123: 1, 124: 1, 127: 1, 133: 1, 135: 1, 136: 1, 137: 1, 1166: 1, 143: 1, 144: 1, 150: 1, 151: 1, 1050: 1, 158: 1, 166: 1, 168: 1, 1052: 1, 2218: 1, 171: 1, 173: 1, 1199: 1, 1203: 1, 181: 1, 183: 1, 1208: 1, 190: 1, 191: 1, 193: 1, 196: 1, 1222: 1, 200: 1, 1225: 1, 205: 1, 206: 1, 207: 1, 1234: 1, 212: 1, 216: 1, 217: 1, 219: 1, 223: 1, 224: 1, 225: 1, 227: 1, 230: 1, 231: 1, 232: 1, 235: 1, 236: 1, 1262: 1, 244: 1, 245: 1, 247: 1, 251: 1, 253: 1, 258: 1, 261: 1, 262: 1, 1884: 1, 265: 1, 266: 1, 267: 1, 272: 1, 273: 1, 275: 1, 1301: 1, 2326: 1, 283: 1, 285: 1, 289: 1, 292: 1, 293: 1, 294: 1, 295: 1, 419: 1, 305: 1, 1333: 1, 312: 1, 317: 1, 318: 1, 1589: 1, 320: 1, 2232: 1, 322: 1, 324: 1, 326: 1, 329: 1, 332: 1, 334: 1, 337: 1, 338: 1, 339: 1, 341: 1, 342: 1, 343: 1, 1369: 1, 1370: 1, 349: 1, 351: 1, 353: 1, 1546: 1, 1382: 1, 361: 1, 362: 1, 363: 1, 1035: 1, 1256: 1, 1397: 1, 1400: 1, 377: 1, 380: 1, 381: 1, 383: 1, 384: 1, 385: 1, 386: 1, 389: 1, 390: 1, 392: 1, 548: 1, 2114: 1, 1036: 1, 402: 1, 404: 1, 1429: 1, 406: 1, 1092: 1, 410: 1, 415: 1, 418: 1, 1443: 1, 421: 1, 426: 1, 2475: 1, 428: 1, 436: 1, 2486: 1, 1466: 1, 1470: 1, 447: 1, 448: 1, 1140: 1, 450: 1, 452: 1, 454: 1, 459: 1, 461: 1, 463: 1, 464: 1, 465: 1, 470: 1, 471: 1, 473: 1, 475: 1, 479: 1, 84: 1, 481: 1, 485: 1, 81: 1, 489: 1, 1516: 1, 494: 1, 497: 1, 498: 1, 1524: 1, 504: 1, 505: 1, 506: 1, 507: 1, 1537: 1, 1198: 1, 1541: 1, 1452: 1, 523: 1, 524: 1, 1549: 1, 528: 1, 530: 1, 531: 1, 532: 1, 544: 1, 546: 1, 1572: 1, 554: 1, 1081: 1, 559: 1, 562: 1, 1587: 1, 564: 1, 567: 1, 569: 1, 572: 1, 1076: 1, 576: 1, 578: 1, 579: 1, 582: 1, 584: 1, 565: 1, 597: 1, 601: 1, 602: 1, 603: 1, 1077: 1, 1633: 1, 611: 1, 613: 1, 615: 1, 1641: 1, 618: 1, 624: 1, 625: 1, 1651: 1, 628: 1, 632: 1, 634: 1, 1471: 1, 2154: 1, 638: 1, 639: 1, 641: 1, 1666: 1, 1667: 1, 648: 1, 650: 1, 651: 1, 1677: 1, 1680: 1, 659: 1, 660: 1, 1685: 1, 663: 1, 2136: 1, 669: 1, 670: 1, 677: 1, 1705: 1, 682: 1, 1914: 1, 688: 1, 690: 1, 1044: 1, 697: 1, 698: 1, 701: 1, 702: 1, 703: 1, 706: 1, 707: 1, 710: 1, 717: 1, 1742: 1, 1485: 1, 1746: 1, 726: 1, 728: 1, 735: 1, 976: 1, 738: 1, 739: 1, 1766: 1, 1767: 1, 1319: 1, 748: 1, 1661: 1, 754: 1, 1780: 1, 757: 1, 758: 1, 980: 1, 2037: 1, 765: 1, 605: 1, 768: 1, 769: 1, 1373: 1, 1806: 1, 786: 1, 787: 1, 1815: 1, 796: 1, 798: 1, 800: 1, 806: 1, 807: 1, 808: 1, 809: 1, 810: 1, 812: 1, 816: 1, 1672: 1, 826: 1, 309: 1, 834: 1, 837: 1, 840: 1, 1865: 1, 1867: 1, 847: 1, 1874: 1, 851: 1, 852: 1, 142: 1, 860: 1, 863: 1, 867: 1, 868: 1, 874: 1, 1342: 1, 1058: 1, 889: 1, 890: 1, 891: 1, 899: 1, 901: 1, 405: 1, 492: 1, 906: 1, 907: 1, 1053: 1, 1858: 1, 664: 1, 915: 1, 918: 1, 1944: 1, 923: 1, 925: 1, 930: 1, 933: 1, 937: 1, 939: 1, 841: 1, 953: 1, 954: 1, 956: 1, 330: 1, 958: 1, 959: 1, 1989: 1, 974: 1, 975: 1, 1215: 1, 1528: 1, 2004: 1, 981: 1, 1226: 1, 1188: 1, 987: 1, 2012: 1, 1189: 1, 992: 1, 996: 1, 997: 1, 2024: 1, 1005: 1, 1007: 1, 1013: 1, 2038: 1, 1015: 1, 1019: 1, 1194: 1})\n"
     ]
    }
   ],
   "source": [
    "import collections\n",
    "counter = collections.Counter(all_ranks)\n",
    "print(counter)"
   ]
  },
  {
   "cell_type": "code",
   "execution_count": null,
   "metadata": {},
   "outputs": [],
   "source": []
  },
  {
   "cell_type": "code",
   "execution_count": null,
   "metadata": {},
   "outputs": [],
   "source": []
  },
  {
   "cell_type": "code",
   "execution_count": null,
   "metadata": {},
   "outputs": [],
   "source": []
  },
  {
   "cell_type": "markdown",
   "metadata": {},
   "source": [
    "### Use BERT features (NO any additional training)"
   ]
  },
  {
   "cell_type": "code",
   "execution_count": 22,
   "metadata": {},
   "outputs": [],
   "source": [
    "citations_info_target = pd.read_pickle(\"../data/citations_info_2000.df.gz\")\n",
    "test_app_feature_1000 = pd.read_pickle(\"../data/testset_app_feature_1000.pkl\")\n",
    "grants_feature_2000 = pd.read_pickle(\"../data/grants_feature_2000.pkl\")"
   ]
  },
  {
   "cell_type": "code",
   "execution_count": 23,
   "metadata": {},
   "outputs": [
    {
     "data": {
      "text/html": [
       "<div>\n",
       "<style scoped>\n",
       "    .dataframe tbody tr th:only-of-type {\n",
       "        vertical-align: middle;\n",
       "    }\n",
       "\n",
       "    .dataframe tbody tr th {\n",
       "        vertical-align: top;\n",
       "    }\n",
       "\n",
       "    .dataframe thead th {\n",
       "        text-align: right;\n",
       "    }\n",
       "</style>\n",
       "<table border=\"1\" class=\"dataframe\">\n",
       "  <thead>\n",
       "    <tr style=\"text-align: right;\">\n",
       "      <th></th>\n",
       "      <th>app_id</th>\n",
       "      <th>feature</th>\n",
       "    </tr>\n",
       "  </thead>\n",
       "  <tbody>\n",
       "    <tr>\n",
       "      <th>0</th>\n",
       "      <td>14307191</td>\n",
       "      <td>[-0.7771687507629395, 0.003387326840311289, -0...</td>\n",
       "    </tr>\n",
       "    <tr>\n",
       "      <th>1</th>\n",
       "      <td>13137006</td>\n",
       "      <td>[-1.0681793689727783, 0.43092426657676697, -0....</td>\n",
       "    </tr>\n",
       "  </tbody>\n",
       "</table>\n",
       "</div>"
      ],
      "text/plain": [
       "     app_id                                            feature\n",
       "0  14307191  [-0.7771687507629395, 0.003387326840311289, -0...\n",
       "1  13137006  [-1.0681793689727783, 0.43092426657676697, -0...."
      ]
     },
     "execution_count": 23,
     "metadata": {},
     "output_type": "execute_result"
    }
   ],
   "source": [
    "test_app_feature_1000.head(2)"
   ]
  },
  {
   "cell_type": "code",
   "execution_count": 26,
   "metadata": {},
   "outputs": [],
   "source": [
    "test_app_feature_1000['feature'] = [\n",
    "    v/np.linalg.norm(v) for v in test_app_feature_1000['feature']\n",
    "]\n",
    "\n",
    "grants_feature_2000['feature'] = [\n",
    "    v/np.linalg.norm(v) for v in grants_feature_2000['feature']\n",
    "]"
   ]
  },
  {
   "cell_type": "code",
   "execution_count": 27,
   "metadata": {},
   "outputs": [
    {
     "data": {
      "text/html": [
       "<div>\n",
       "<style scoped>\n",
       "    .dataframe tbody tr th:only-of-type {\n",
       "        vertical-align: middle;\n",
       "    }\n",
       "\n",
       "    .dataframe tbody tr th {\n",
       "        vertical-align: top;\n",
       "    }\n",
       "\n",
       "    .dataframe thead th {\n",
       "        text-align: right;\n",
       "    }\n",
       "</style>\n",
       "<table border=\"1\" class=\"dataframe\">\n",
       "  <thead>\n",
       "    <tr style=\"text-align: right;\">\n",
       "      <th></th>\n",
       "      <th>app_id</th>\n",
       "      <th>feature</th>\n",
       "    </tr>\n",
       "  </thead>\n",
       "  <tbody>\n",
       "    <tr>\n",
       "      <th>0</th>\n",
       "      <td>14307191</td>\n",
       "      <td>[-0.048201614517536365, 0.00021008902177461973...</td>\n",
       "    </tr>\n",
       "    <tr>\n",
       "      <th>1</th>\n",
       "      <td>13137006</td>\n",
       "      <td>[-0.06514257634824648, 0.026279778238728124, -...</td>\n",
       "    </tr>\n",
       "  </tbody>\n",
       "</table>\n",
       "</div>"
      ],
      "text/plain": [
       "     app_id                                            feature\n",
       "0  14307191  [-0.048201614517536365, 0.00021008902177461973...\n",
       "1  13137006  [-0.06514257634824648, 0.026279778238728124, -..."
      ]
     },
     "execution_count": 27,
     "metadata": {},
     "output_type": "execute_result"
    }
   ],
   "source": [
    "test_app_feature_1000.head(2)"
   ]
  },
  {
   "cell_type": "code",
   "execution_count": 29,
   "metadata": {},
   "outputs": [
    {
     "name": "stdout",
     "output_type": "stream",
     "text": [
      "CPU times: user 17.3 s, sys: 198 ms, total: 17.5 s\n",
      "Wall time: 17.5 s\n"
     ]
    }
   ],
   "source": [
    "%%time\n",
    "\n",
    "sim_dict = {\n",
    "    app_id:{ parsed:np.sum(test_f*grants_f)\n",
    "            for parsed, grants_f \n",
    "            in zip(grants_feature_2000['parsed'], grants_feature_2000['feature']) } \n",
    "    for app_id, test_f \n",
    "    in zip(test_app_feature_1000['app_id'], test_app_feature_1000['feature'])\n",
    "}"
   ]
  },
  {
   "cell_type": "code",
   "execution_count": 30,
   "metadata": {},
   "outputs": [
    {
     "name": "stdout",
     "output_type": "stream",
     "text": [
      "CPU times: user 3.61 s, sys: 75.6 ms, total: 3.68 s\n",
      "Wall time: 3.53 s\n"
     ]
    }
   ],
   "source": [
    "%%time\n",
    "\n",
    "all_ranks = []\n",
    "\n",
    "for app_id in test_app_feature_1000['app_id']:\n",
    "    cited_grants = get_cited_grants(citations_info_target, app_id)\n",
    "    sorted_kv = reversed(sort_similarity_by_value(sim_dict, app_id))  # higher score, similar patent\n",
    "\n",
    "    idx = 1\n",
    "    for k,v in sorted_kv:\n",
    "        if k in cited_grants:\n",
    "            all_ranks.append(idx)\n",
    "        idx += 1"
   ]
  },
  {
   "cell_type": "code",
   "execution_count": 31,
   "metadata": {},
   "outputs": [
    {
     "name": "stdout",
     "output_type": "stream",
     "text": [
      "Counter({1: 87, 3: 28, 2: 23, 4: 22, 6: 15, 5: 13, 8: 12, 10: 12, 17: 11, 7: 10, 11: 10, 25: 10, 27: 9, 12: 8, 13: 8, 14: 8, 18: 8, 20: 7, 21: 7, 71: 7, 15: 6, 23: 6, 24: 6, 30: 6, 32: 6, 33: 6, 67: 6, 9: 5, 29: 5, 35: 5, 40: 5, 58: 5, 124: 5, 209: 5, 16: 4, 26: 4, 31: 4, 39: 4, 42: 4, 43: 4, 49: 4, 51: 4, 52: 4, 54: 4, 59: 4, 63: 4, 72: 4, 83: 4, 99: 4, 112: 4, 19: 4, 136: 4, 157: 4, 215: 4, 38: 4, 563: 4, 530: 4, 36: 3, 41: 3, 45: 3, 47: 3, 48: 3, 53: 3, 55: 3, 65: 3, 69: 3, 87: 3, 94: 3, 109: 3, 137: 3, 122: 3, 129: 3, 138: 3, 167: 3, 174: 3, 176: 3, 182: 3, 207: 3, 213: 3, 231: 3, 238: 3, 241: 3, 250: 3, 260: 3, 309: 3, 342: 3, 412: 3, 443: 3, 151: 3, 85: 3, 515: 3, 1045: 3, 686: 3, 115: 3, 127: 3, 812: 3, 147: 3, 64: 3, 271: 3, 2020: 3, 22: 2, 28: 2, 34: 2, 1062: 2, 46: 2, 60: 2, 66: 2, 68: 2, 74: 2, 75: 2, 81: 2, 82: 2, 89: 2, 111: 2, 114: 2, 120: 2, 130: 2, 132: 2, 133: 2, 1161: 2, 141: 2, 146: 2, 149: 2, 153: 2, 155: 2, 156: 2, 158: 2, 159: 2, 160: 2, 161: 2, 175: 2, 178: 2, 184: 2, 189: 2, 545: 2, 200: 2, 203: 2, 206: 2, 208: 2, 211: 2, 212: 2, 222: 2, 223: 2, 234: 2, 246: 2, 255: 2, 259: 2, 1285: 2, 273: 2, 287: 2, 314: 2, 330: 2, 343: 2, 351: 2, 1376: 2, 361: 2, 364: 2, 379: 2, 431: 2, 243: 2, 440: 2, 447: 2, 449: 2, 1486: 2, 466: 2, 481: 2, 499: 2, 501: 2, 508: 2, 517: 2, 317: 2, 532: 2, 533: 2, 1113: 2, 1562: 2, 553: 2, 569: 2, 575: 2, 585: 2, 596: 2, 633: 2, 651: 2, 1687: 2, 1689: 2, 667: 2, 679: 2, 688: 2, 699: 2, 718: 2, 721: 2, 735: 2, 756: 2, 435: 2, 782: 2, 1829: 2, 61: 2, 848: 2, 825: 2, 179: 2, 950: 2, 952: 2, 163: 2, 978: 2, 983: 2, 1002: 2, 340: 2, 1043: 1, 1049: 1, 2085: 1, 44: 1, 50: 1, 56: 1, 57: 1, 1085: 1, 62: 1, 1088: 1, 70: 1, 73: 1, 76: 1, 78: 1, 79: 1, 80: 1, 84: 1, 1109: 1, 86: 1, 88: 1, 90: 1, 91: 1, 92: 1, 93: 1, 1119: 1, 101: 1, 1593: 1, 2153: 1, 171: 1, 359: 1, 1132: 1, 2158: 1, 1137: 1, 116: 1, 118: 1, 119: 1, 2171: 1, 125: 1, 1150: 1, 1557: 1, 128: 1, 131: 1, 139: 1, 140: 1, 2190: 1, 2192: 1, 1048: 1, 1171: 1, 150: 1, 1808: 1, 1178: 1, 162: 1, 2211: 1, 166: 1, 199: 1, 172: 1, 173: 1, 177: 1, 371: 1, 1207: 1, 185: 1, 1211: 1, 190: 1, 2239: 1, 192: 1, 193: 1, 1219: 1, 2245: 1, 201: 1, 202: 1, 205: 1, 210: 1, 1241: 1, 219: 1, 221: 1, 1251: 1, 2276: 1, 233: 1, 1063: 1, 1260: 1, 381: 1, 240: 1, 1266: 1, 2291: 1, 1269: 1, 247: 1, 2090: 1, 256: 1, 257: 1, 258: 1, 2310: 1, 385: 1, 2312: 1, 265: 1, 266: 1, 267: 1, 1134: 1, 1294: 1, 1295: 1, 272: 1, 274: 1, 2323: 1, 276: 1, 691: 1, 278: 1, 280: 1, 281: 1, 1306: 1, 283: 1, 284: 1, 288: 1, 290: 1, 291: 1, 1316: 1, 293: 1, 1322: 1, 299: 1, 301: 1, 1326: 1, 2351: 1, 304: 1, 547: 1, 307: 1, 1332: 1, 310: 1, 315: 1, 316: 1, 2365: 1, 318: 1, 321: 1, 322: 1, 324: 1, 325: 1, 327: 1, 1352: 1, 1355: 1, 2380: 1, 1357: 1, 338: 1, 339: 1, 2057: 1, 344: 1, 345: 1, 399: 1, 349: 1, 1374: 1, 353: 1, 1378: 1, 2403: 1, 357: 1, 1382: 1, 1383: 1, 362: 1, 363: 1, 389: 1, 367: 1, 368: 1, 369: 1, 2419: 1, 375: 1, 1402: 1, 1258: 1, 2430: 1, 383: 1, 1532: 1, 490: 1, 1259: 1, 1413: 1, 378: 1, 236: 1, 1419: 1, 396: 1, 1090: 1, 398: 1, 1718: 1, 1426: 1, 404: 1, 405: 1, 406: 1, 1616: 1, 410: 1, 411: 1, 1438: 1, 417: 1, 2118: 1, 422: 1, 423: 1, 1448: 1, 1451: 1, 428: 1, 1453: 1, 2482: 1, 436: 1, 521: 1, 1097: 1, 441: 1, 442: 1, 2494: 1, 1472: 1, 450: 1, 1478: 1, 187: 1, 460: 1, 461: 1, 1311: 1, 467: 1, 1495: 1, 1500: 1, 482: 1, 483: 1, 484: 1, 488: 1, 1513: 1, 1514: 1, 1515: 1, 1517: 1, 495: 1, 1520: 1, 498: 1, 503: 1, 504: 1, 1288: 1, 1531: 1, 511: 1, 512: 1, 883: 1, 1544: 1, 1545: 1, 1111: 1, 1548: 1, 1283: 1, 534: 1, 1561: 1, 539: 1, 540: 1, 427: 1, 1569: 1, 1571: 1, 549: 1, 551: 1, 263: 1, 264: 1, 562: 1, 1587: 1, 2235: 1, 1715: 1, 571: 1, 1596: 1, 573: 1, 577: 1, 579: 1, 1974: 1, 582: 1, 583: 1, 584: 1, 589: 1, 590: 1, 591: 1, 592: 1, 594: 1, 1621: 1, 598: 1, 603: 1, 607: 1, 1296: 1, 613: 1, 1638: 1, 444: 1, 619: 1, 620: 1, 626: 1, 1651: 1, 628: 1, 629: 1, 105: 1, 1659: 1, 703: 1, 1663: 1, 107: 1, 647: 1, 108: 1, 1674: 1, 652: 1, 660: 1, 661: 1, 446: 1, 2393: 1, 675: 1, 1138: 1, 692: 1, 694: 1, 458: 1, 1727: 1, 704: 1, 1767: 1, 2401: 1, 714: 1, 716: 1, 1741: 1, 719: 1, 462: 1, 727: 1, 732: 1, 1757: 1, 1760: 1, 523: 1, 229: 1, 741: 1, 743: 1, 745: 1, 747: 1, 748: 1, 1774: 1, 637: 1, 755: 1, 1783: 1, 1784: 1, 764: 1, 1791: 1, 768: 1, 769: 1, 1323: 1, 772: 1, 776: 1, 1801: 1, 496: 1, 779: 1, 780: 1, 783: 1, 784: 1, 785: 1, 792: 1, 1156: 1, 1818: 1, 1822: 1, 1825: 1, 802: 1, 382: 1, 1831: 1, 809: 1, 95: 1, 1840: 1, 818: 1, 1867: 1, 823: 1, 824: 1, 1849: 1, 1854: 1, 1255: 1, 805: 1, 992: 1, 835: 1, 1860: 1, 843: 1, 847: 1, 1877: 1, 857: 1, 860: 1, 1885: 1, 1891: 1, 868: 1, 142: 1, 1340: 1, 874: 1, 1900: 1, 877: 1, 879: 1, 1165: 1, 884: 1, 1911: 1, 2162: 1, 893: 1, 895: 1, 896: 1, 897: 1, 898: 1, 491: 1, 900: 1, 1837: 1, 2519: 1, 2219: 1, 663: 1, 908: 1, 1935: 1, 269: 1, 917: 1, 665: 1, 920: 1, 1945: 1, 1519: 1, 927: 1, 929: 1, 931: 1, 1958: 1, 668: 1, 939: 1, 940: 1, 1966: 1, 2205: 1, 945: 1, 1970: 1, 947: 1, 1182: 1, 1975: 1, 1977: 1, 957: 1, 959: 1, 1986: 1, 2379: 1, 1305: 1, 332: 1, 972: 1, 973: 1, 2003: 1, 989: 1, 2016: 1, 993: 1, 997: 1, 2025: 1, 2030: 1, 1007: 1, 1009: 1, 1011: 1, 1014: 1, 2040: 1, 1020: 1})\n"
     ]
    }
   ],
   "source": [
    "import collections\n",
    "counter = collections.Counter(all_ranks)\n",
    "print(counter)"
   ]
  },
  {
   "cell_type": "code",
   "execution_count": null,
   "metadata": {},
   "outputs": [],
   "source": []
  },
  {
   "cell_type": "code",
   "execution_count": null,
   "metadata": {},
   "outputs": [],
   "source": []
  },
  {
   "cell_type": "code",
   "execution_count": null,
   "metadata": {},
   "outputs": [],
   "source": []
  },
  {
   "cell_type": "markdown",
   "metadata": {},
   "source": [
    "# ===== Trial and error ====="
   ]
  },
  {
   "cell_type": "code",
   "execution_count": null,
   "metadata": {},
   "outputs": [],
   "source": [
    "!echo 'Who was Jim Henson ? ||| Jim Henson was a puppeteer' >> ./bert/tmp/input.txt"
   ]
  },
  {
   "cell_type": "code",
   "execution_count": null,
   "metadata": {},
   "outputs": [],
   "source": [
    "!python3 ./bert/extract_features.py \\\n",
    "  --input_file=./bert/tmp/input.txt \\\n",
    "  --output_file=./bert/tmp/output.json \\\n",
    "  --vocab_file=./bert/model/uncased_L-12_H-768_A-12/vocab.txt \\\n",
    "  --bert_config_file=./bert/model/uncased_L-12_H-768_A-12/bert_config.json \\\n",
    "  --init_checkpoint=./bert/model/uncased_L-12_H-768_A-12/bert_model.ckpt \\\n",
    "  --layers=-1 \\\n",
    "  --max_seq_length=512 \\\n",
    "  --batch_size=8"
   ]
  },
  {
   "cell_type": "code",
   "execution_count": null,
   "metadata": {},
   "outputs": [],
   "source": [
    "import json\n",
    "with open(\"./bert/tmp/output.json\") as f:\n",
    "    output = json.load(f)"
   ]
  },
  {
   "cell_type": "code",
   "execution_count": null,
   "metadata": {},
   "outputs": [],
   "source": []
  },
  {
   "cell_type": "code",
   "execution_count": null,
   "metadata": {},
   "outputs": [],
   "source": []
  },
  {
   "cell_type": "code",
   "execution_count": 16,
   "metadata": {},
   "outputs": [],
   "source": [
    "results =  np.empty((0,768), float)\n",
    "\n",
    "for result in estimator.predict(input_fn, yield_single_examples=True):\n",
    "    results = np.append(results, result['layer_output_0'][0].reshape(1,768), axis=0 )"
   ]
  },
  {
   "cell_type": "code",
   "execution_count": 21,
   "metadata": {},
   "outputs": [
    {
     "data": {
      "text/plain": [
       "(2, 768)"
      ]
     },
     "execution_count": 21,
     "metadata": {},
     "output_type": "execute_result"
    }
   ],
   "source": [
    "results.shape"
   ]
  },
  {
   "cell_type": "code",
   "execution_count": 22,
   "metadata": {},
   "outputs": [
    {
     "data": {
      "text/plain": [
       "(512, 768)"
      ]
     },
     "execution_count": 22,
     "metadata": {},
     "output_type": "execute_result"
    }
   ],
   "source": [
    "result['layer_output_0'].shape"
   ]
  },
  {
   "cell_type": "code",
   "execution_count": 23,
   "metadata": {},
   "outputs": [
    {
     "data": {
      "text/plain": [
       "(768,)"
      ]
     },
     "execution_count": 23,
     "metadata": {},
     "output_type": "execute_result"
    }
   ],
   "source": [
    "result['layer_output_0'][0].shape"
   ]
  },
  {
   "cell_type": "code",
   "execution_count": 24,
   "metadata": {},
   "outputs": [
    {
     "data": {
      "text/html": [
       "<div>\n",
       "<style scoped>\n",
       "    .dataframe tbody tr th:only-of-type {\n",
       "        vertical-align: middle;\n",
       "    }\n",
       "\n",
       "    .dataframe tbody tr th {\n",
       "        vertical-align: top;\n",
       "    }\n",
       "\n",
       "    .dataframe thead th {\n",
       "        text-align: right;\n",
       "    }\n",
       "</style>\n",
       "<table border=\"1\" class=\"dataframe\">\n",
       "  <thead>\n",
       "    <tr style=\"text-align: right;\">\n",
       "      <th></th>\n",
       "      <th>index</th>\n",
       "      <th>claim_app</th>\n",
       "      <th>claim_cited_grant</th>\n",
       "      <th>label</th>\n",
       "    </tr>\n",
       "  </thead>\n",
       "  <tbody>\n",
       "    <tr>\n",
       "      <th>0</th>\n",
       "      <td>0</td>\n",
       "      <td>1 . A process comprising the following steps:(...</td>\n",
       "      <td>1. A liquid supply apparatus, comprising:a wal...</td>\n",
       "      <td>not_entailment</td>\n",
       "    </tr>\n",
       "    <tr>\n",
       "      <th>1</th>\n",
       "      <td>1</td>\n",
       "      <td>1 - 10 . (canceled) 11 . A method for open-loo...</td>\n",
       "      <td>1. A fuel supply apparatus for an engine, comp...</td>\n",
       "      <td>entailment</td>\n",
       "    </tr>\n",
       "    <tr>\n",
       "      <th>2</th>\n",
       "      <td>2</td>\n",
       "      <td>1 . A handpiece for treating biological tissue...</td>\n",
       "      <td>1. A method for irradiating tissue having abso...</td>\n",
       "      <td>entailment</td>\n",
       "    </tr>\n",
       "    <tr>\n",
       "      <th>3</th>\n",
       "      <td>3</td>\n",
       "      <td>1 . A power cable comprising:a power input com...</td>\n",
       "      <td>1. A temperature regulating system for a vehic...</td>\n",
       "      <td>not_entailment</td>\n",
       "    </tr>\n",
       "    <tr>\n",
       "      <th>4</th>\n",
       "      <td>4</td>\n",
       "      <td>1 . A cutting insert having a substantially cu...</td>\n",
       "      <td>1. A toolholder comprising:a) a cutter body ro...</td>\n",
       "      <td>entailment</td>\n",
       "    </tr>\n",
       "  </tbody>\n",
       "</table>\n",
       "</div>"
      ],
      "text/plain": [
       "   index                                          claim_app  \\\n",
       "0      0  1 . A process comprising the following steps:(...   \n",
       "1      1  1 - 10 . (canceled) 11 . A method for open-loo...   \n",
       "2      2  1 . A handpiece for treating biological tissue...   \n",
       "3      3  1 . A power cable comprising:a power input com...   \n",
       "4      4  1 . A cutting insert having a substantially cu...   \n",
       "\n",
       "                                   claim_cited_grant           label  \n",
       "0  1. A liquid supply apparatus, comprising:a wal...  not_entailment  \n",
       "1  1. A fuel supply apparatus for an engine, comp...      entailment  \n",
       "2  1. A method for irradiating tissue having abso...      entailment  \n",
       "3  1. A temperature regulating system for a vehic...  not_entailment  \n",
       "4  1. A toolholder comprising:a) a cutter body ro...      entailment  "
      ]
     },
     "execution_count": 24,
     "metadata": {},
     "output_type": "execute_result"
    }
   ],
   "source": [
    "train_data.head()"
   ]
  },
  {
   "cell_type": "code",
   "execution_count": 28,
   "metadata": {},
   "outputs": [],
   "source": [
    "test = []\n",
    "\n",
    "for _ in range(len(train_data)):\n",
    "    test.append(results[0])"
   ]
  },
  {
   "cell_type": "code",
   "execution_count": 29,
   "metadata": {},
   "outputs": [],
   "source": [
    "train_data['test'] = test"
   ]
  },
  {
   "cell_type": "code",
   "execution_count": 32,
   "metadata": {},
   "outputs": [
    {
     "data": {
      "text/html": [
       "<div>\n",
       "<style scoped>\n",
       "    .dataframe tbody tr th:only-of-type {\n",
       "        vertical-align: middle;\n",
       "    }\n",
       "\n",
       "    .dataframe tbody tr th {\n",
       "        vertical-align: top;\n",
       "    }\n",
       "\n",
       "    .dataframe thead th {\n",
       "        text-align: right;\n",
       "    }\n",
       "</style>\n",
       "<table border=\"1\" class=\"dataframe\">\n",
       "  <thead>\n",
       "    <tr style=\"text-align: right;\">\n",
       "      <th></th>\n",
       "      <th>index</th>\n",
       "      <th>claim_app</th>\n",
       "      <th>claim_cited_grant</th>\n",
       "      <th>label</th>\n",
       "      <th>test</th>\n",
       "    </tr>\n",
       "  </thead>\n",
       "  <tbody>\n",
       "    <tr>\n",
       "      <th>0</th>\n",
       "      <td>0</td>\n",
       "      <td>1 . A process comprising the following steps:(...</td>\n",
       "      <td>1. A liquid supply apparatus, comprising:a wal...</td>\n",
       "      <td>not_entailment</td>\n",
       "      <td>[-0.628110945224762, 0.19321474432945251, -0.7...</td>\n",
       "    </tr>\n",
       "    <tr>\n",
       "      <th>1</th>\n",
       "      <td>1</td>\n",
       "      <td>1 - 10 . (canceled) 11 . A method for open-loo...</td>\n",
       "      <td>1. A fuel supply apparatus for an engine, comp...</td>\n",
       "      <td>entailment</td>\n",
       "      <td>[-0.628110945224762, 0.19321474432945251, -0.7...</td>\n",
       "    </tr>\n",
       "    <tr>\n",
       "      <th>2</th>\n",
       "      <td>2</td>\n",
       "      <td>1 . A handpiece for treating biological tissue...</td>\n",
       "      <td>1. A method for irradiating tissue having abso...</td>\n",
       "      <td>entailment</td>\n",
       "      <td>[-0.628110945224762, 0.19321474432945251, -0.7...</td>\n",
       "    </tr>\n",
       "    <tr>\n",
       "      <th>3</th>\n",
       "      <td>3</td>\n",
       "      <td>1 . A power cable comprising:a power input com...</td>\n",
       "      <td>1. A temperature regulating system for a vehic...</td>\n",
       "      <td>not_entailment</td>\n",
       "      <td>[-0.628110945224762, 0.19321474432945251, -0.7...</td>\n",
       "    </tr>\n",
       "    <tr>\n",
       "      <th>4</th>\n",
       "      <td>4</td>\n",
       "      <td>1 . A cutting insert having a substantially cu...</td>\n",
       "      <td>1. A toolholder comprising:a) a cutter body ro...</td>\n",
       "      <td>entailment</td>\n",
       "      <td>[-0.628110945224762, 0.19321474432945251, -0.7...</td>\n",
       "    </tr>\n",
       "    <tr>\n",
       "      <th>5</th>\n",
       "      <td>5</td>\n",
       "      <td>1 . A multimedia system, comprising:a multimed...</td>\n",
       "      <td>1. An illumination module, comprising:an integ...</td>\n",
       "      <td>entailment</td>\n",
       "      <td>[-0.628110945224762, 0.19321474432945251, -0.7...</td>\n",
       "    </tr>\n",
       "    <tr>\n",
       "      <th>6</th>\n",
       "      <td>6</td>\n",
       "      <td>1 .- 10 . (canceled) 11 . A blade for a comput...</td>\n",
       "      <td>1. A slide apparatus comprising:a slider beam ...</td>\n",
       "      <td>entailment</td>\n",
       "      <td>[-0.628110945224762, 0.19321474432945251, -0.7...</td>\n",
       "    </tr>\n",
       "    <tr>\n",
       "      <th>7</th>\n",
       "      <td>7</td>\n",
       "      <td>1 . A method for performing radio usage measur...</td>\n",
       "      <td>1. A mechanical torque wrench for engaging a w...</td>\n",
       "      <td>not_entailment</td>\n",
       "      <td>[-0.628110945224762, 0.19321474432945251, -0.7...</td>\n",
       "    </tr>\n",
       "    <tr>\n",
       "      <th>8</th>\n",
       "      <td>8</td>\n",
       "      <td>1 . A system configured to exchange energy wir...</td>\n",
       "      <td>1. A submersible table and seat assembly for u...</td>\n",
       "      <td>not_entailment</td>\n",
       "      <td>[-0.628110945224762, 0.19321474432945251, -0.7...</td>\n",
       "    </tr>\n",
       "    <tr>\n",
       "      <th>9</th>\n",
       "      <td>9</td>\n",
       "      <td>1 . A computer-implemented method for gray bal...</td>\n",
       "      <td>1. A method for calibrating a printing device,...</td>\n",
       "      <td>entailment</td>\n",
       "      <td>[-0.628110945224762, 0.19321474432945251, -0.7...</td>\n",
       "    </tr>\n",
       "    <tr>\n",
       "      <th>10</th>\n",
       "      <td>10</td>\n",
       "      <td>1 .- 10 . (canceled) 11 . An apparatus compris...</td>\n",
       "      <td>1. A vehicle seat structure comprising:a seat ...</td>\n",
       "      <td>not_entailment</td>\n",
       "      <td>[-0.628110945224762, 0.19321474432945251, -0.7...</td>\n",
       "    </tr>\n",
       "    <tr>\n",
       "      <th>11</th>\n",
       "      <td>11</td>\n",
       "      <td>1 . A polypeptide comprising a fibronectin typ...</td>\n",
       "      <td>1. A non-antibody protein comprising a domain ...</td>\n",
       "      <td>entailment</td>\n",
       "      <td>[-0.628110945224762, 0.19321474432945251, -0.7...</td>\n",
       "    </tr>\n",
       "    <tr>\n",
       "      <th>12</th>\n",
       "      <td>12</td>\n",
       "      <td>1 . A pogo pin comprising:a first member inclu...</td>\n",
       "      <td>1. An integrated power amplifier, comprising:a...</td>\n",
       "      <td>not_entailment</td>\n",
       "      <td>[-0.628110945224762, 0.19321474432945251, -0.7...</td>\n",
       "    </tr>\n",
       "    <tr>\n",
       "      <th>13</th>\n",
       "      <td>13</td>\n",
       "      <td>1 . An orthosis, comprising:an upper secured t...</td>\n",
       "      <td>1. A method for forming a low resistance semic...</td>\n",
       "      <td>not_entailment</td>\n",
       "      <td>[-0.628110945224762, 0.19321474432945251, -0.7...</td>\n",
       "    </tr>\n",
       "    <tr>\n",
       "      <th>14</th>\n",
       "      <td>14</td>\n",
       "      <td>1 . A chemical solution which selectively trea...</td>\n",
       "      <td>1. A media center for housing audio-video equi...</td>\n",
       "      <td>not_entailment</td>\n",
       "      <td>[-0.628110945224762, 0.19321474432945251, -0.7...</td>\n",
       "    </tr>\n",
       "    <tr>\n",
       "      <th>15</th>\n",
       "      <td>15</td>\n",
       "      <td>1 . A system comprising:a cost-constrained res...</td>\n",
       "      <td>1. A stent-graft deployment system, comprising...</td>\n",
       "      <td>not_entailment</td>\n",
       "      <td>[-0.628110945224762, 0.19321474432945251, -0.7...</td>\n",
       "    </tr>\n",
       "    <tr>\n",
       "      <th>16</th>\n",
       "      <td>16</td>\n",
       "      <td>1 . A method for switching communication conne...</td>\n",
       "      <td>1. A socket contact terminal for electrical co...</td>\n",
       "      <td>not_entailment</td>\n",
       "      <td>[-0.628110945224762, 0.19321474432945251, -0.7...</td>\n",
       "    </tr>\n",
       "    <tr>\n",
       "      <th>17</th>\n",
       "      <td>17</td>\n",
       "      <td>1 . An image processing apparatus communicatab...</td>\n",
       "      <td>1. A method of printing document data stored o...</td>\n",
       "      <td>entailment</td>\n",
       "      <td>[-0.628110945224762, 0.19321474432945251, -0.7...</td>\n",
       "    </tr>\n",
       "    <tr>\n",
       "      <th>18</th>\n",
       "      <td>18</td>\n",
       "      <td>1 . A frame for a harness for the wearing of a...</td>\n",
       "      <td>1. A device for supporting a fishing rod relat...</td>\n",
       "      <td>entailment</td>\n",
       "      <td>[-0.628110945224762, 0.19321474432945251, -0.7...</td>\n",
       "    </tr>\n",
       "    <tr>\n",
       "      <th>19</th>\n",
       "      <td>19</td>\n",
       "      <td>1 . A drainable container system for a vehicle...</td>\n",
       "      <td>1. A cage nut assembly for a drain pan having ...</td>\n",
       "      <td>entailment</td>\n",
       "      <td>[-0.628110945224762, 0.19321474432945251, -0.7...</td>\n",
       "    </tr>\n",
       "    <tr>\n",
       "      <th>20</th>\n",
       "      <td>20</td>\n",
       "      <td>1 . A multi-layer smart card comprising a top ...</td>\n",
       "      <td>1. A method of operating a wind farm that incl...</td>\n",
       "      <td>not_entailment</td>\n",
       "      <td>[-0.628110945224762, 0.19321474432945251, -0.7...</td>\n",
       "    </tr>\n",
       "    <tr>\n",
       "      <th>21</th>\n",
       "      <td>21</td>\n",
       "      <td>1 . A micro electro mechanical systems (MEMS) ...</td>\n",
       "      <td>1. A resonator comprising:a first resonator in...</td>\n",
       "      <td>entailment</td>\n",
       "      <td>[-0.628110945224762, 0.19321474432945251, -0.7...</td>\n",
       "    </tr>\n",
       "    <tr>\n",
       "      <th>22</th>\n",
       "      <td>22</td>\n",
       "      <td>1 . A method for producing a joined structure,...</td>\n",
       "      <td>1. A method for manufacturing an electronic ci...</td>\n",
       "      <td>entailment</td>\n",
       "      <td>[-0.628110945224762, 0.19321474432945251, -0.7...</td>\n",
       "    </tr>\n",
       "    <tr>\n",
       "      <th>23</th>\n",
       "      <td>23</td>\n",
       "      <td>1 . A collapsible pet kennel comprising:a base...</td>\n",
       "      <td>1. A magnet component for attachment to a shaf...</td>\n",
       "      <td>not_entailment</td>\n",
       "      <td>[-0.628110945224762, 0.19321474432945251, -0.7...</td>\n",
       "    </tr>\n",
       "    <tr>\n",
       "      <th>24</th>\n",
       "      <td>24</td>\n",
       "      <td>1 . A direct personal monitoring system, compr...</td>\n",
       "      <td>1. A transceiver for use with a wireless audio...</td>\n",
       "      <td>entailment</td>\n",
       "      <td>[-0.628110945224762, 0.19321474432945251, -0.7...</td>\n",
       "    </tr>\n",
       "    <tr>\n",
       "      <th>25</th>\n",
       "      <td>25</td>\n",
       "      <td>1 . A combustion chamber bowl defined in a cro...</td>\n",
       "      <td>1. A combustion chamber assembly for use in a ...</td>\n",
       "      <td>entailment</td>\n",
       "      <td>[-0.628110945224762, 0.19321474432945251, -0.7...</td>\n",
       "    </tr>\n",
       "    <tr>\n",
       "      <th>26</th>\n",
       "      <td>26</td>\n",
       "      <td>1 . A sensor assembly for determining vibratio...</td>\n",
       "      <td>1. A contact-type, endoscopic infrared coagula...</td>\n",
       "      <td>not_entailment</td>\n",
       "      <td>[-0.628110945224762, 0.19321474432945251, -0.7...</td>\n",
       "    </tr>\n",
       "    <tr>\n",
       "      <th>27</th>\n",
       "      <td>27</td>\n",
       "      <td>1 . One or more computer storage media having ...</td>\n",
       "      <td>1. A computing system comprising:a controller ...</td>\n",
       "      <td>entailment</td>\n",
       "      <td>[-0.628110945224762, 0.19321474432945251, -0.7...</td>\n",
       "    </tr>\n",
       "    <tr>\n",
       "      <th>28</th>\n",
       "      <td>28</td>\n",
       "      <td>1 . A terminal comprising:an upper arm having ...</td>\n",
       "      <td>1. A socket contact terminal for electrical co...</td>\n",
       "      <td>entailment</td>\n",
       "      <td>[-0.628110945224762, 0.19321474432945251, -0.7...</td>\n",
       "    </tr>\n",
       "    <tr>\n",
       "      <th>29</th>\n",
       "      <td>29</td>\n",
       "      <td>1 . A wireless communication system comprising...</td>\n",
       "      <td>1. A method of controlling packet service setu...</td>\n",
       "      <td>entailment</td>\n",
       "      <td>[-0.628110945224762, 0.19321474432945251, -0.7...</td>\n",
       "    </tr>\n",
       "    <tr>\n",
       "      <th>...</th>\n",
       "      <td>...</td>\n",
       "      <td>...</td>\n",
       "      <td>...</td>\n",
       "      <td>...</td>\n",
       "      <td>...</td>\n",
       "    </tr>\n",
       "    <tr>\n",
       "      <th>2534</th>\n",
       "      <td>2534</td>\n",
       "      <td>1 . A three-dimensional (3D) nested transforme...</td>\n",
       "      <td>1. An inductive filter comprising:a substrate;...</td>\n",
       "      <td>entailment</td>\n",
       "      <td>[-0.628110945224762, 0.19321474432945251, -0.7...</td>\n",
       "    </tr>\n",
       "    <tr>\n",
       "      <th>2535</th>\n",
       "      <td>2535</td>\n",
       "      <td>1 . A primer for HPV (Human Papilloma Virus) a...</td>\n",
       "      <td>1. A DNA chip for probing and genotype analysi...</td>\n",
       "      <td>entailment</td>\n",
       "      <td>[-0.628110945224762, 0.19321474432945251, -0.7...</td>\n",
       "    </tr>\n",
       "    <tr>\n",
       "      <th>2536</th>\n",
       "      <td>2536</td>\n",
       "      <td>1 . A blade holding device for handling the ro...</td>\n",
       "      <td>1. A computer system configured to generate at...</td>\n",
       "      <td>not_entailment</td>\n",
       "      <td>[-0.628110945224762, 0.19321474432945251, -0.7...</td>\n",
       "    </tr>\n",
       "    <tr>\n",
       "      <th>2537</th>\n",
       "      <td>2537</td>\n",
       "      <td>1 . A multi-band optical filter for affecting ...</td>\n",
       "      <td>1. A multiband contrast enhancer comprising na...</td>\n",
       "      <td>entailment</td>\n",
       "      <td>[-0.628110945224762, 0.19321474432945251, -0.7...</td>\n",
       "    </tr>\n",
       "    <tr>\n",
       "      <th>2538</th>\n",
       "      <td>2538</td>\n",
       "      <td>1 . A display system comprising a light source...</td>\n",
       "      <td>1. A non binary quantization unit for a digita...</td>\n",
       "      <td>entailment</td>\n",
       "      <td>[-0.628110945224762, 0.19321474432945251, -0.7...</td>\n",
       "    </tr>\n",
       "    <tr>\n",
       "      <th>2539</th>\n",
       "      <td>2539</td>\n",
       "      <td>1 . An apparatus for injecting a fluid, compri...</td>\n",
       "      <td>1. A method comprising:receiving input from a ...</td>\n",
       "      <td>not_entailment</td>\n",
       "      <td>[-0.628110945224762, 0.19321474432945251, -0.7...</td>\n",
       "    </tr>\n",
       "    <tr>\n",
       "      <th>2540</th>\n",
       "      <td>2540</td>\n",
       "      <td>1 . An electric lamp comprising a primary semi...</td>\n",
       "      <td>1. An assessment and rehabilitation system for...</td>\n",
       "      <td>not_entailment</td>\n",
       "      <td>[-0.628110945224762, 0.19321474432945251, -0.7...</td>\n",
       "    </tr>\n",
       "    <tr>\n",
       "      <th>2541</th>\n",
       "      <td>2541</td>\n",
       "      <td>1 . An elevator renovating method for renovati...</td>\n",
       "      <td>1. A method for modernization of an elevator i...</td>\n",
       "      <td>entailment</td>\n",
       "      <td>[-0.628110945224762, 0.19321474432945251, -0.7...</td>\n",
       "    </tr>\n",
       "    <tr>\n",
       "      <th>2542</th>\n",
       "      <td>2542</td>\n",
       "      <td>1 . A wheel construction including a locking d...</td>\n",
       "      <td>1. An image reading apparatus in which an inte...</td>\n",
       "      <td>not_entailment</td>\n",
       "      <td>[-0.628110945224762, 0.19321474432945251, -0.7...</td>\n",
       "    </tr>\n",
       "    <tr>\n",
       "      <th>2543</th>\n",
       "      <td>2543</td>\n",
       "      <td>1 . A method of making a semiconductor device,...</td>\n",
       "      <td>1. A line carrier for supporting a line member...</td>\n",
       "      <td>not_entailment</td>\n",
       "      <td>[-0.628110945224762, 0.19321474432945251, -0.7...</td>\n",
       "    </tr>\n",
       "    <tr>\n",
       "      <th>2544</th>\n",
       "      <td>2544</td>\n",
       "      <td>1 . A engine shield for protecting a jet engin...</td>\n",
       "      <td>1. A foreign object deflector for an aircraft ...</td>\n",
       "      <td>entailment</td>\n",
       "      <td>[-0.628110945224762, 0.19321474432945251, -0.7...</td>\n",
       "    </tr>\n",
       "    <tr>\n",
       "      <th>2545</th>\n",
       "      <td>2545</td>\n",
       "      <td>1 . RFD device for personal or business assets...</td>\n",
       "      <td>1. A consumer lead enhancement system comprisi...</td>\n",
       "      <td>not_entailment</td>\n",
       "      <td>[-0.628110945224762, 0.19321474432945251, -0.7...</td>\n",
       "    </tr>\n",
       "    <tr>\n",
       "      <th>2546</th>\n",
       "      <td>2546</td>\n",
       "      <td>1 . A method of making a semiconductor device,...</td>\n",
       "      <td>1. A compact inline magnetic fuel conditioner,...</td>\n",
       "      <td>not_entailment</td>\n",
       "      <td>[-0.628110945224762, 0.19321474432945251, -0.7...</td>\n",
       "    </tr>\n",
       "    <tr>\n",
       "      <th>2547</th>\n",
       "      <td>2547</td>\n",
       "      <td>1 . A method for managing visibility of a part...</td>\n",
       "      <td>1. A transceiver for use with a wireless audio...</td>\n",
       "      <td>not_entailment</td>\n",
       "      <td>[-0.628110945224762, 0.19321474432945251, -0.7...</td>\n",
       "    </tr>\n",
       "    <tr>\n",
       "      <th>2548</th>\n",
       "      <td>2548</td>\n",
       "      <td>1 . An ink reservoir comprising:a plurality of...</td>\n",
       "      <td>1. A liquid supply apparatus, comprising:a wal...</td>\n",
       "      <td>entailment</td>\n",
       "      <td>[-0.628110945224762, 0.19321474432945251, -0.7...</td>\n",
       "    </tr>\n",
       "    <tr>\n",
       "      <th>2549</th>\n",
       "      <td>2549</td>\n",
       "      <td>1 . A system comprising:a cost-constrained res...</td>\n",
       "      <td>1. A system comprising:a first client configur...</td>\n",
       "      <td>entailment</td>\n",
       "      <td>[-0.628110945224762, 0.19321474432945251, -0.7...</td>\n",
       "    </tr>\n",
       "    <tr>\n",
       "      <th>2550</th>\n",
       "      <td>2550</td>\n",
       "      <td>1 . An attachment for laterally shifting a wor...</td>\n",
       "      <td>1. A stent-graft deployment system, comprising...</td>\n",
       "      <td>not_entailment</td>\n",
       "      <td>[-0.628110945224762, 0.19321474432945251, -0.7...</td>\n",
       "    </tr>\n",
       "    <tr>\n",
       "      <th>2551</th>\n",
       "      <td>2551</td>\n",
       "      <td>1 . A gearing assembly, comprising:a mechanica...</td>\n",
       "      <td>1. A turbine engine comprising:low and high pr...</td>\n",
       "      <td>entailment</td>\n",
       "      <td>[-0.628110945224762, 0.19321474432945251, -0.7...</td>\n",
       "    </tr>\n",
       "    <tr>\n",
       "      <th>2552</th>\n",
       "      <td>2552</td>\n",
       "      <td>1 . A method of catheterization, comprising th...</td>\n",
       "      <td>1. A method of identifying a time shift associ...</td>\n",
       "      <td>not_entailment</td>\n",
       "      <td>[-0.628110945224762, 0.19321474432945251, -0.7...</td>\n",
       "    </tr>\n",
       "    <tr>\n",
       "      <th>2553</th>\n",
       "      <td>2553</td>\n",
       "      <td>1 . A biomaterial measuring sensor used with a...</td>\n",
       "      <td>1. A method of manufacturing a membrane sensor...</td>\n",
       "      <td>not_entailment</td>\n",
       "      <td>[-0.628110945224762, 0.19321474432945251, -0.7...</td>\n",
       "    </tr>\n",
       "    <tr>\n",
       "      <th>2554</th>\n",
       "      <td>2554</td>\n",
       "      <td>1 . A device comprising:a communication interf...</td>\n",
       "      <td>1. An ad-hoc radio communication verification ...</td>\n",
       "      <td>entailment</td>\n",
       "      <td>[-0.628110945224762, 0.19321474432945251, -0.7...</td>\n",
       "    </tr>\n",
       "    <tr>\n",
       "      <th>2555</th>\n",
       "      <td>2555</td>\n",
       "      <td>1 . A remote deposit capture method, carried o...</td>\n",
       "      <td>1. A processor-implemented method for processi...</td>\n",
       "      <td>entailment</td>\n",
       "      <td>[-0.628110945224762, 0.19321474432945251, -0.7...</td>\n",
       "    </tr>\n",
       "    <tr>\n",
       "      <th>2556</th>\n",
       "      <td>2556</td>\n",
       "      <td>1 . A lawn mower system, comprising:a lawn mow...</td>\n",
       "      <td>1. A primary unit for use in a power transfer ...</td>\n",
       "      <td>entailment</td>\n",
       "      <td>[-0.628110945224762, 0.19321474432945251, -0.7...</td>\n",
       "    </tr>\n",
       "    <tr>\n",
       "      <th>2557</th>\n",
       "      <td>2557</td>\n",
       "      <td>1 . A cushioning device for supporting a large...</td>\n",
       "      <td>1. A method of forming a sliding seal between ...</td>\n",
       "      <td>not_entailment</td>\n",
       "      <td>[-0.628110945224762, 0.19321474432945251, -0.7...</td>\n",
       "    </tr>\n",
       "    <tr>\n",
       "      <th>2558</th>\n",
       "      <td>2558</td>\n",
       "      <td>1 . A surface-treated roughened copper foil in...</td>\n",
       "      <td>1. A system that determines location of equipm...</td>\n",
       "      <td>not_entailment</td>\n",
       "      <td>[-0.628110945224762, 0.19321474432945251, -0.7...</td>\n",
       "    </tr>\n",
       "    <tr>\n",
       "      <th>2559</th>\n",
       "      <td>2559</td>\n",
       "      <td>1 . A system for selecting an optimum tape lay...</td>\n",
       "      <td>1. A method of adjudicating a medical claim co...</td>\n",
       "      <td>not_entailment</td>\n",
       "      <td>[-0.628110945224762, 0.19321474432945251, -0.7...</td>\n",
       "    </tr>\n",
       "    <tr>\n",
       "      <th>2560</th>\n",
       "      <td>2560</td>\n",
       "      <td>1 . An authenticity proof label comprising:an ...</td>\n",
       "      <td>1. A method for forming a building structure, ...</td>\n",
       "      <td>not_entailment</td>\n",
       "      <td>[-0.628110945224762, 0.19321474432945251, -0.7...</td>\n",
       "    </tr>\n",
       "    <tr>\n",
       "      <th>2561</th>\n",
       "      <td>2561</td>\n",
       "      <td>1 . A trim/weatherstrip assembly for securing ...</td>\n",
       "      <td>1. A two piece weatherstrip for a motor vehicl...</td>\n",
       "      <td>entailment</td>\n",
       "      <td>[-0.628110945224762, 0.19321474432945251, -0.7...</td>\n",
       "    </tr>\n",
       "    <tr>\n",
       "      <th>2562</th>\n",
       "      <td>2562</td>\n",
       "      <td>1 . A method implemented at least in part by a...</td>\n",
       "      <td>1. In a caching device, a method for providing...</td>\n",
       "      <td>entailment</td>\n",
       "      <td>[-0.628110945224762, 0.19321474432945251, -0.7...</td>\n",
       "    </tr>\n",
       "    <tr>\n",
       "      <th>2563</th>\n",
       "      <td>2563</td>\n",
       "      <td>1 . A nonvolatile memory device comprising:a m...</td>\n",
       "      <td>1. A non-volatile storage system, comprising:a...</td>\n",
       "      <td>entailment</td>\n",
       "      <td>[-0.628110945224762, 0.19321474432945251, -0.7...</td>\n",
       "    </tr>\n",
       "  </tbody>\n",
       "</table>\n",
       "<p>2564 rows × 5 columns</p>\n",
       "</div>"
      ],
      "text/plain": [
       "      index                                          claim_app  \\\n",
       "0         0  1 . A process comprising the following steps:(...   \n",
       "1         1  1 - 10 . (canceled) 11 . A method for open-loo...   \n",
       "2         2  1 . A handpiece for treating biological tissue...   \n",
       "3         3  1 . A power cable comprising:a power input com...   \n",
       "4         4  1 . A cutting insert having a substantially cu...   \n",
       "5         5  1 . A multimedia system, comprising:a multimed...   \n",
       "6         6  1 .- 10 . (canceled) 11 . A blade for a comput...   \n",
       "7         7  1 . A method for performing radio usage measur...   \n",
       "8         8  1 . A system configured to exchange energy wir...   \n",
       "9         9  1 . A computer-implemented method for gray bal...   \n",
       "10       10  1 .- 10 . (canceled) 11 . An apparatus compris...   \n",
       "11       11  1 . A polypeptide comprising a fibronectin typ...   \n",
       "12       12  1 . A pogo pin comprising:a first member inclu...   \n",
       "13       13  1 . An orthosis, comprising:an upper secured t...   \n",
       "14       14  1 . A chemical solution which selectively trea...   \n",
       "15       15  1 . A system comprising:a cost-constrained res...   \n",
       "16       16  1 . A method for switching communication conne...   \n",
       "17       17  1 . An image processing apparatus communicatab...   \n",
       "18       18  1 . A frame for a harness for the wearing of a...   \n",
       "19       19  1 . A drainable container system for a vehicle...   \n",
       "20       20  1 . A multi-layer smart card comprising a top ...   \n",
       "21       21  1 . A micro electro mechanical systems (MEMS) ...   \n",
       "22       22  1 . A method for producing a joined structure,...   \n",
       "23       23  1 . A collapsible pet kennel comprising:a base...   \n",
       "24       24  1 . A direct personal monitoring system, compr...   \n",
       "25       25  1 . A combustion chamber bowl defined in a cro...   \n",
       "26       26  1 . A sensor assembly for determining vibratio...   \n",
       "27       27  1 . One or more computer storage media having ...   \n",
       "28       28  1 . A terminal comprising:an upper arm having ...   \n",
       "29       29  1 . A wireless communication system comprising...   \n",
       "...     ...                                                ...   \n",
       "2534   2534  1 . A three-dimensional (3D) nested transforme...   \n",
       "2535   2535  1 . A primer for HPV (Human Papilloma Virus) a...   \n",
       "2536   2536  1 . A blade holding device for handling the ro...   \n",
       "2537   2537  1 . A multi-band optical filter for affecting ...   \n",
       "2538   2538  1 . A display system comprising a light source...   \n",
       "2539   2539  1 . An apparatus for injecting a fluid, compri...   \n",
       "2540   2540  1 . An electric lamp comprising a primary semi...   \n",
       "2541   2541  1 . An elevator renovating method for renovati...   \n",
       "2542   2542  1 . A wheel construction including a locking d...   \n",
       "2543   2543  1 . A method of making a semiconductor device,...   \n",
       "2544   2544  1 . A engine shield for protecting a jet engin...   \n",
       "2545   2545  1 . RFD device for personal or business assets...   \n",
       "2546   2546  1 . A method of making a semiconductor device,...   \n",
       "2547   2547  1 . A method for managing visibility of a part...   \n",
       "2548   2548  1 . An ink reservoir comprising:a plurality of...   \n",
       "2549   2549  1 . A system comprising:a cost-constrained res...   \n",
       "2550   2550  1 . An attachment for laterally shifting a wor...   \n",
       "2551   2551  1 . A gearing assembly, comprising:a mechanica...   \n",
       "2552   2552  1 . A method of catheterization, comprising th...   \n",
       "2553   2553  1 . A biomaterial measuring sensor used with a...   \n",
       "2554   2554  1 . A device comprising:a communication interf...   \n",
       "2555   2555  1 . A remote deposit capture method, carried o...   \n",
       "2556   2556  1 . A lawn mower system, comprising:a lawn mow...   \n",
       "2557   2557  1 . A cushioning device for supporting a large...   \n",
       "2558   2558  1 . A surface-treated roughened copper foil in...   \n",
       "2559   2559  1 . A system for selecting an optimum tape lay...   \n",
       "2560   2560  1 . An authenticity proof label comprising:an ...   \n",
       "2561   2561  1 . A trim/weatherstrip assembly for securing ...   \n",
       "2562   2562  1 . A method implemented at least in part by a...   \n",
       "2563   2563  1 . A nonvolatile memory device comprising:a m...   \n",
       "\n",
       "                                      claim_cited_grant           label  \\\n",
       "0     1. A liquid supply apparatus, comprising:a wal...  not_entailment   \n",
       "1     1. A fuel supply apparatus for an engine, comp...      entailment   \n",
       "2     1. A method for irradiating tissue having abso...      entailment   \n",
       "3     1. A temperature regulating system for a vehic...  not_entailment   \n",
       "4     1. A toolholder comprising:a) a cutter body ro...      entailment   \n",
       "5     1. An illumination module, comprising:an integ...      entailment   \n",
       "6     1. A slide apparatus comprising:a slider beam ...      entailment   \n",
       "7     1. A mechanical torque wrench for engaging a w...  not_entailment   \n",
       "8     1. A submersible table and seat assembly for u...  not_entailment   \n",
       "9     1. A method for calibrating a printing device,...      entailment   \n",
       "10    1. A vehicle seat structure comprising:a seat ...  not_entailment   \n",
       "11    1. A non-antibody protein comprising a domain ...      entailment   \n",
       "12    1. An integrated power amplifier, comprising:a...  not_entailment   \n",
       "13    1. A method for forming a low resistance semic...  not_entailment   \n",
       "14    1. A media center for housing audio-video equi...  not_entailment   \n",
       "15    1. A stent-graft deployment system, comprising...  not_entailment   \n",
       "16    1. A socket contact terminal for electrical co...  not_entailment   \n",
       "17    1. A method of printing document data stored o...      entailment   \n",
       "18    1. A device for supporting a fishing rod relat...      entailment   \n",
       "19    1. A cage nut assembly for a drain pan having ...      entailment   \n",
       "20    1. A method of operating a wind farm that incl...  not_entailment   \n",
       "21    1. A resonator comprising:a first resonator in...      entailment   \n",
       "22    1. A method for manufacturing an electronic ci...      entailment   \n",
       "23    1. A magnet component for attachment to a shaf...  not_entailment   \n",
       "24    1. A transceiver for use with a wireless audio...      entailment   \n",
       "25    1. A combustion chamber assembly for use in a ...      entailment   \n",
       "26    1. A contact-type, endoscopic infrared coagula...  not_entailment   \n",
       "27    1. A computing system comprising:a controller ...      entailment   \n",
       "28    1. A socket contact terminal for electrical co...      entailment   \n",
       "29    1. A method of controlling packet service setu...      entailment   \n",
       "...                                                 ...             ...   \n",
       "2534  1. An inductive filter comprising:a substrate;...      entailment   \n",
       "2535  1. A DNA chip for probing and genotype analysi...      entailment   \n",
       "2536  1. A computer system configured to generate at...  not_entailment   \n",
       "2537  1. A multiband contrast enhancer comprising na...      entailment   \n",
       "2538  1. A non binary quantization unit for a digita...      entailment   \n",
       "2539  1. A method comprising:receiving input from a ...  not_entailment   \n",
       "2540  1. An assessment and rehabilitation system for...  not_entailment   \n",
       "2541  1. A method for modernization of an elevator i...      entailment   \n",
       "2542  1. An image reading apparatus in which an inte...  not_entailment   \n",
       "2543  1. A line carrier for supporting a line member...  not_entailment   \n",
       "2544  1. A foreign object deflector for an aircraft ...      entailment   \n",
       "2545  1. A consumer lead enhancement system comprisi...  not_entailment   \n",
       "2546  1. A compact inline magnetic fuel conditioner,...  not_entailment   \n",
       "2547  1. A transceiver for use with a wireless audio...  not_entailment   \n",
       "2548  1. A liquid supply apparatus, comprising:a wal...      entailment   \n",
       "2549  1. A system comprising:a first client configur...      entailment   \n",
       "2550  1. A stent-graft deployment system, comprising...  not_entailment   \n",
       "2551  1. A turbine engine comprising:low and high pr...      entailment   \n",
       "2552  1. A method of identifying a time shift associ...  not_entailment   \n",
       "2553  1. A method of manufacturing a membrane sensor...  not_entailment   \n",
       "2554  1. An ad-hoc radio communication verification ...      entailment   \n",
       "2555  1. A processor-implemented method for processi...      entailment   \n",
       "2556  1. A primary unit for use in a power transfer ...      entailment   \n",
       "2557  1. A method of forming a sliding seal between ...  not_entailment   \n",
       "2558  1. A system that determines location of equipm...  not_entailment   \n",
       "2559  1. A method of adjudicating a medical claim co...  not_entailment   \n",
       "2560  1. A method for forming a building structure, ...  not_entailment   \n",
       "2561  1. A two piece weatherstrip for a motor vehicl...      entailment   \n",
       "2562  1. In a caching device, a method for providing...      entailment   \n",
       "2563  1. A non-volatile storage system, comprising:a...      entailment   \n",
       "\n",
       "                                                   test  \n",
       "0     [-0.628110945224762, 0.19321474432945251, -0.7...  \n",
       "1     [-0.628110945224762, 0.19321474432945251, -0.7...  \n",
       "2     [-0.628110945224762, 0.19321474432945251, -0.7...  \n",
       "3     [-0.628110945224762, 0.19321474432945251, -0.7...  \n",
       "4     [-0.628110945224762, 0.19321474432945251, -0.7...  \n",
       "5     [-0.628110945224762, 0.19321474432945251, -0.7...  \n",
       "6     [-0.628110945224762, 0.19321474432945251, -0.7...  \n",
       "7     [-0.628110945224762, 0.19321474432945251, -0.7...  \n",
       "8     [-0.628110945224762, 0.19321474432945251, -0.7...  \n",
       "9     [-0.628110945224762, 0.19321474432945251, -0.7...  \n",
       "10    [-0.628110945224762, 0.19321474432945251, -0.7...  \n",
       "11    [-0.628110945224762, 0.19321474432945251, -0.7...  \n",
       "12    [-0.628110945224762, 0.19321474432945251, -0.7...  \n",
       "13    [-0.628110945224762, 0.19321474432945251, -0.7...  \n",
       "14    [-0.628110945224762, 0.19321474432945251, -0.7...  \n",
       "15    [-0.628110945224762, 0.19321474432945251, -0.7...  \n",
       "16    [-0.628110945224762, 0.19321474432945251, -0.7...  \n",
       "17    [-0.628110945224762, 0.19321474432945251, -0.7...  \n",
       "18    [-0.628110945224762, 0.19321474432945251, -0.7...  \n",
       "19    [-0.628110945224762, 0.19321474432945251, -0.7...  \n",
       "20    [-0.628110945224762, 0.19321474432945251, -0.7...  \n",
       "21    [-0.628110945224762, 0.19321474432945251, -0.7...  \n",
       "22    [-0.628110945224762, 0.19321474432945251, -0.7...  \n",
       "23    [-0.628110945224762, 0.19321474432945251, -0.7...  \n",
       "24    [-0.628110945224762, 0.19321474432945251, -0.7...  \n",
       "25    [-0.628110945224762, 0.19321474432945251, -0.7...  \n",
       "26    [-0.628110945224762, 0.19321474432945251, -0.7...  \n",
       "27    [-0.628110945224762, 0.19321474432945251, -0.7...  \n",
       "28    [-0.628110945224762, 0.19321474432945251, -0.7...  \n",
       "29    [-0.628110945224762, 0.19321474432945251, -0.7...  \n",
       "...                                                 ...  \n",
       "2534  [-0.628110945224762, 0.19321474432945251, -0.7...  \n",
       "2535  [-0.628110945224762, 0.19321474432945251, -0.7...  \n",
       "2536  [-0.628110945224762, 0.19321474432945251, -0.7...  \n",
       "2537  [-0.628110945224762, 0.19321474432945251, -0.7...  \n",
       "2538  [-0.628110945224762, 0.19321474432945251, -0.7...  \n",
       "2539  [-0.628110945224762, 0.19321474432945251, -0.7...  \n",
       "2540  [-0.628110945224762, 0.19321474432945251, -0.7...  \n",
       "2541  [-0.628110945224762, 0.19321474432945251, -0.7...  \n",
       "2542  [-0.628110945224762, 0.19321474432945251, -0.7...  \n",
       "2543  [-0.628110945224762, 0.19321474432945251, -0.7...  \n",
       "2544  [-0.628110945224762, 0.19321474432945251, -0.7...  \n",
       "2545  [-0.628110945224762, 0.19321474432945251, -0.7...  \n",
       "2546  [-0.628110945224762, 0.19321474432945251, -0.7...  \n",
       "2547  [-0.628110945224762, 0.19321474432945251, -0.7...  \n",
       "2548  [-0.628110945224762, 0.19321474432945251, -0.7...  \n",
       "2549  [-0.628110945224762, 0.19321474432945251, -0.7...  \n",
       "2550  [-0.628110945224762, 0.19321474432945251, -0.7...  \n",
       "2551  [-0.628110945224762, 0.19321474432945251, -0.7...  \n",
       "2552  [-0.628110945224762, 0.19321474432945251, -0.7...  \n",
       "2553  [-0.628110945224762, 0.19321474432945251, -0.7...  \n",
       "2554  [-0.628110945224762, 0.19321474432945251, -0.7...  \n",
       "2555  [-0.628110945224762, 0.19321474432945251, -0.7...  \n",
       "2556  [-0.628110945224762, 0.19321474432945251, -0.7...  \n",
       "2557  [-0.628110945224762, 0.19321474432945251, -0.7...  \n",
       "2558  [-0.628110945224762, 0.19321474432945251, -0.7...  \n",
       "2559  [-0.628110945224762, 0.19321474432945251, -0.7...  \n",
       "2560  [-0.628110945224762, 0.19321474432945251, -0.7...  \n",
       "2561  [-0.628110945224762, 0.19321474432945251, -0.7...  \n",
       "2562  [-0.628110945224762, 0.19321474432945251, -0.7...  \n",
       "2563  [-0.628110945224762, 0.19321474432945251, -0.7...  \n",
       "\n",
       "[2564 rows x 5 columns]"
      ]
     },
     "execution_count": 32,
     "metadata": {},
     "output_type": "execute_result"
    }
   ],
   "source": [
    "train_data"
   ]
  },
  {
   "cell_type": "code",
   "execution_count": null,
   "metadata": {},
   "outputs": [],
   "source": []
  }
 ],
 "metadata": {
  "kernelspec": {
   "display_name": "Python 3",
   "language": "python",
   "name": "python3"
  },
  "language_info": {
   "codemirror_mode": {
    "name": "ipython",
    "version": 3
   },
   "file_extension": ".py",
   "mimetype": "text/x-python",
   "name": "python",
   "nbconvert_exporter": "python",
   "pygments_lexer": "ipython3",
   "version": "3.5.2"
  }
 },
 "nbformat": 4,
 "nbformat_minor": 2
}
