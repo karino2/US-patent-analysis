{
 "cells": [
  {
   "cell_type": "markdown",
   "metadata": {},
   "source": [
    "# Tripletloss model with circulum learning\n",
    "\n",
    "- Extract features using pretrained BERT\n",
    "- Prepare data for circulum tripletloss learning"
   ]
  },
  {
   "cell_type": "markdown",
   "metadata": {},
   "source": [
    "## Extract features using pretrained BERT\n",
    "\n",
    "You need execute the following cells just once."
   ]
  },
  {
   "cell_type": "code",
   "execution_count": 1,
   "metadata": {},
   "outputs": [],
   "source": [
    "import pandas as pd\n",
    "import numpy as np\n",
    "import pickle"
   ]
  },
  {
   "cell_type": "code",
   "execution_count": 2,
   "metadata": {},
   "outputs": [],
   "source": [
    "training_app_df = pd.read_pickle(\"../data/training_app_1000.df.gz\")\n",
    "testset_app_df = pd.read_pickle(\"../data/testset_app_1000.df.gz\")\n",
    "grants_target_df = pd.read_pickle(\"../data/grants_for_2000.df.gz\")"
   ]
  },
  {
   "cell_type": "code",
   "execution_count": 3,
   "metadata": {},
   "outputs": [
    {
     "data": {
      "text/html": [
       "<div>\n",
       "<style scoped>\n",
       "    .dataframe tbody tr th:only-of-type {\n",
       "        vertical-align: middle;\n",
       "    }\n",
       "\n",
       "    .dataframe tbody tr th {\n",
       "        vertical-align: top;\n",
       "    }\n",
       "\n",
       "    .dataframe thead th {\n",
       "        text-align: right;\n",
       "    }\n",
       "</style>\n",
       "<table border=\"1\" class=\"dataframe\">\n",
       "  <thead>\n",
       "    <tr style=\"text-align: right;\">\n",
       "      <th></th>\n",
       "      <th>app_id</th>\n",
       "      <th>xml</th>\n",
       "    </tr>\n",
       "  </thead>\n",
       "  <tbody>\n",
       "    <tr>\n",
       "      <th>0</th>\n",
       "      <td>14222691</td>\n",
       "      <td>&lt;us-patent-application lang=\"EN\" dtd-version=\"...</td>\n",
       "    </tr>\n",
       "    <tr>\n",
       "      <th>1</th>\n",
       "      <td>12515852</td>\n",
       "      <td>&lt;us-patent-application lang=\"EN\" dtd-version=\"...</td>\n",
       "    </tr>\n",
       "  </tbody>\n",
       "</table>\n",
       "</div>"
      ],
      "text/plain": [
       "     app_id                                                xml\n",
       "0  14222691  <us-patent-application lang=\"EN\" dtd-version=\"...\n",
       "1  12515852  <us-patent-application lang=\"EN\" dtd-version=\"..."
      ]
     },
     "execution_count": 3,
     "metadata": {},
     "output_type": "execute_result"
    }
   ],
   "source": [
    "training_app_df.head(2)"
   ]
  },
  {
   "cell_type": "code",
   "execution_count": 4,
   "metadata": {},
   "outputs": [
    {
     "data": {
      "text/html": [
       "<div>\n",
       "<style scoped>\n",
       "    .dataframe tbody tr th:only-of-type {\n",
       "        vertical-align: middle;\n",
       "    }\n",
       "\n",
       "    .dataframe tbody tr th {\n",
       "        vertical-align: top;\n",
       "    }\n",
       "\n",
       "    .dataframe thead th {\n",
       "        text-align: right;\n",
       "    }\n",
       "</style>\n",
       "<table border=\"1\" class=\"dataframe\">\n",
       "  <thead>\n",
       "    <tr style=\"text-align: right;\">\n",
       "      <th></th>\n",
       "      <th>app_id</th>\n",
       "      <th>xml</th>\n",
       "    </tr>\n",
       "  </thead>\n",
       "  <tbody>\n",
       "    <tr>\n",
       "      <th>0</th>\n",
       "      <td>14307191</td>\n",
       "      <td>&lt;us-patent-application lang=\"EN\" dtd-version=\"...</td>\n",
       "    </tr>\n",
       "    <tr>\n",
       "      <th>1</th>\n",
       "      <td>13137006</td>\n",
       "      <td>&lt;us-patent-application lang=\"EN\" dtd-version=\"...</td>\n",
       "    </tr>\n",
       "  </tbody>\n",
       "</table>\n",
       "</div>"
      ],
      "text/plain": [
       "     app_id                                                xml\n",
       "0  14307191  <us-patent-application lang=\"EN\" dtd-version=\"...\n",
       "1  13137006  <us-patent-application lang=\"EN\" dtd-version=\"..."
      ]
     },
     "execution_count": 4,
     "metadata": {},
     "output_type": "execute_result"
    }
   ],
   "source": [
    "testset_app_df.head(2)"
   ]
  },
  {
   "cell_type": "code",
   "execution_count": 5,
   "metadata": {},
   "outputs": [
    {
     "data": {
      "text/html": [
       "<div>\n",
       "<style scoped>\n",
       "    .dataframe tbody tr th:only-of-type {\n",
       "        vertical-align: middle;\n",
       "    }\n",
       "\n",
       "    .dataframe tbody tr th {\n",
       "        vertical-align: top;\n",
       "    }\n",
       "\n",
       "    .dataframe thead th {\n",
       "        text-align: right;\n",
       "    }\n",
       "</style>\n",
       "<table border=\"1\" class=\"dataframe\">\n",
       "  <thead>\n",
       "    <tr style=\"text-align: right;\">\n",
       "      <th></th>\n",
       "      <th>parsed</th>\n",
       "      <th>xml</th>\n",
       "    </tr>\n",
       "  </thead>\n",
       "  <tbody>\n",
       "    <tr>\n",
       "      <th>0</th>\n",
       "      <td>6837383</td>\n",
       "      <td>&lt;us-patent-grant lang=\"EN\" dtd-version=\"v40 20...</td>\n",
       "    </tr>\n",
       "    <tr>\n",
       "      <th>1</th>\n",
       "      <td>6837647</td>\n",
       "      <td>&lt;us-patent-grant lang=\"EN\" dtd-version=\"v40 20...</td>\n",
       "    </tr>\n",
       "  </tbody>\n",
       "</table>\n",
       "</div>"
      ],
      "text/plain": [
       "    parsed                                                xml\n",
       "0  6837383  <us-patent-grant lang=\"EN\" dtd-version=\"v40 20...\n",
       "1  6837647  <us-patent-grant lang=\"EN\" dtd-version=\"v40 20..."
      ]
     },
     "execution_count": 5,
     "metadata": {},
     "output_type": "execute_result"
    }
   ],
   "source": [
    "grants_target_df.head(2)"
   ]
  },
  {
   "cell_type": "code",
   "execution_count": 6,
   "metadata": {},
   "outputs": [],
   "source": [
    "import re\n",
    "CLAIM_PAT = re.compile(r'<claims[^>]*>(.*)</claims>',re.MULTILINE|re.DOTALL)\n",
    "TAG_PAT = re.compile(r\"<.*?>\")\n",
    "LB_PAT = re.compile(r'[\\t\\n\\r\\f\\v][\" \"]*')\n",
    "\n",
    "def whole_xml_to_claim_xml(whole):\n",
    "    mat = CLAIM_PAT.search(whole)\n",
    "    return mat.group(1)\n",
    "def whole_xml_to_claim(whole):\n",
    "    return TAG_PAT.sub(' ', whole_xml_to_claim_xml(whole))\n",
    "\n",
    "def remove_linebreak_from_claim(claim):\n",
    "    '''\n",
    "    Remove line break symbol \"\\n\" with space(s).\n",
    "    '''\n",
    "    return LB_PAT.sub('', claim)"
   ]
  },
  {
   "cell_type": "code",
   "execution_count": 7,
   "metadata": {},
   "outputs": [],
   "source": [
    "training_app_df[\"claim\"] = training_app_df[\"xml\"].map(whole_xml_to_claim).map(remove_linebreak_from_claim)\n",
    "testset_app_df[\"claim\"] = testset_app_df[\"xml\"].map(whole_xml_to_claim).map(remove_linebreak_from_claim)\n",
    "grants_target_df[\"claim\"] = grants_target_df[\"xml\"].map(whole_xml_to_claim).map(remove_linebreak_from_claim)"
   ]
  },
  {
   "cell_type": "markdown",
   "metadata": {},
   "source": [
    "Check duplication."
   ]
  },
  {
   "cell_type": "code",
   "execution_count": 8,
   "metadata": {},
   "outputs": [
    {
     "data": {
      "text/plain": [
       "1000"
      ]
     },
     "execution_count": 8,
     "metadata": {},
     "output_type": "execute_result"
    }
   ],
   "source": [
    "len(training_app_df.drop_duplicates(keep='first'))"
   ]
  },
  {
   "cell_type": "markdown",
   "metadata": {},
   "source": [
    "Use BERT for feature extractions."
   ]
  },
  {
   "cell_type": "code",
   "execution_count": 9,
   "metadata": {},
   "outputs": [],
   "source": [
    "import sys\n",
    "sys.path.append(\"../notebook/bert\")"
   ]
  },
  {
   "cell_type": "code",
   "execution_count": 10,
   "metadata": {},
   "outputs": [],
   "source": [
    "import os\n",
    "import re\n",
    "import csv\n",
    "import time\n",
    "import codecs\n",
    "import collections\n",
    "import tempfile\n",
    "\n",
    "import modeling\n",
    "import optimization\n",
    "import tokenization\n",
    "import tensorflow as tf"
   ]
  },
  {
   "cell_type": "code",
   "execution_count": 11,
   "metadata": {},
   "outputs": [
    {
     "data": {
      "text/plain": [
       "'1.12.0'"
      ]
     },
     "execution_count": 11,
     "metadata": {},
     "output_type": "execute_result"
    }
   ],
   "source": [
    "tf.__version__"
   ]
  },
  {
   "cell_type": "code",
   "execution_count": 12,
   "metadata": {},
   "outputs": [],
   "source": [
    "from extract_features import convert_examples_to_features\n",
    "from extract_features import InputExample\n",
    "from extract_features import read_examples\n",
    "from extract_features import _truncate_seq_pair\n",
    "from extract_features import InputFeatures\n",
    "from extract_features import input_fn_builder\n",
    "from extract_features import model_fn_builder"
   ]
  },
  {
   "cell_type": "code",
   "execution_count": 13,
   "metadata": {},
   "outputs": [],
   "source": [
    "def create_tempfile_of_claim(df):\n",
    "    tmpf = tempfile.NamedTemporaryFile(mode='r+')\n",
    "    df['claim'].to_csv(tmpf.name, header=None, index=None)\n",
    "    # Remove double quotations\n",
    "    !sed -i -e 's/\\\"//g' {tmpf.name}\n",
    "    \n",
    "    return tmpf"
   ]
  },
  {
   "cell_type": "code",
   "execution_count": 14,
   "metadata": {},
   "outputs": [],
   "source": [
    "train_tmpf = create_tempfile_of_claim(training_app_df)\n",
    "test_tmpf = create_tempfile_of_claim(testset_app_df)\n",
    "grants_tmpf = create_tempfile_of_claim(grants_target_df)"
   ]
  },
  {
   "cell_type": "code",
   "execution_count": 15,
   "metadata": {},
   "outputs": [],
   "source": [
    "class FLAGS(object):\n",
    "    '''Parameters.'''\n",
    "    def __init__(self):\n",
    "        self.vocab_file = \"./bert/model/uncased_L-12_H-768_A-12/vocab.txt\"\n",
    "        self.do_lower_case = True\n",
    "        self.use_tpu = False\n",
    "        self.layers = \"-1\"\n",
    "        self.bert_config_file = \"./bert/model/uncased_L-12_H-768_A-12/bert_config.json\"\n",
    "        self.max_seq_length = 512\n",
    "        self.init_checkpoint = \"./bert/model/uncased_L-12_H-768_A-12/bert_model.ckpt\"\n",
    "        self.use_one_hot_embeddings = False\n",
    "        self.batch_size = 16\n",
    "        \n",
    "        # The following parameters are not used in predictions.\n",
    "        # Just use to create RunConfig.\n",
    "        self.master = None\n",
    "        self.save_checkpoints_steps = 1\n",
    "        self.iterations_per_loop = 1\n",
    "        self.num_tpu_cores = 1\n",
    "        self.learning_rate = 0\n",
    "        self.num_warmup_steps = 0\n",
    "        self.num_train_steps = 0\n",
    "        self.train_batch_size = 0\n",
    "        self.eval_batch_size = 0\n",
    "\n",
    "FLAGS = FLAGS()"
   ]
  },
  {
   "cell_type": "code",
   "execution_count": 16,
   "metadata": {},
   "outputs": [],
   "source": [
    "layer_indexes = [int(x) for x in FLAGS.layers.split(\",\")]\n",
    "\n",
    "bert_config = modeling.BertConfig.from_json_file(FLAGS.bert_config_file)\n",
    "\n",
    "tokenizer = tokenization.FullTokenizer(\n",
    "  vocab_file=FLAGS.vocab_file, do_lower_case=FLAGS.do_lower_case)\n",
    "\n",
    "is_per_host = tf.contrib.tpu.InputPipelineConfig.PER_HOST_V2\n",
    "run_config = tf.contrib.tpu.RunConfig(\n",
    "  master=FLAGS.master,\n",
    "  tpu_config=tf.contrib.tpu.TPUConfig(\n",
    "      num_shards=FLAGS.num_tpu_cores,\n",
    "      per_host_input_for_training=is_per_host))"
   ]
  },
  {
   "cell_type": "code",
   "execution_count": 17,
   "metadata": {},
   "outputs": [],
   "source": [
    "model_fn = model_fn_builder(\n",
    "  bert_config=bert_config,\n",
    "  init_checkpoint=FLAGS.init_checkpoint,\n",
    "  layer_indexes=layer_indexes,\n",
    "  use_tpu=FLAGS.use_tpu,\n",
    "  use_one_hot_embeddings=FLAGS.use_one_hot_embeddings)"
   ]
  },
  {
   "cell_type": "code",
   "execution_count": 18,
   "metadata": {},
   "outputs": [
    {
     "name": "stdout",
     "output_type": "stream",
     "text": [
      "WARNING:tensorflow:Estimator's model_fn (<function model_fn_builder.<locals>.model_fn at 0x7f54db56b488>) includes params argument, but params are not passed to Estimator.\n",
      "WARNING:tensorflow:Using temporary folder as model directory: /tmp/tmpq1_gmf5h\n",
      "INFO:tensorflow:Using config: {'_service': None, '_master': '', '_device_fn': None, '_model_dir': '/tmp/tmpq1_gmf5h', '_task_type': 'worker', '_cluster_spec': <tensorflow.python.training.server_lib.ClusterSpec object at 0x7f551c731a58>, '_protocol': None, '_session_config': allow_soft_placement: true\n",
      "graph_options {\n",
      "  rewrite_options {\n",
      "    meta_optimizer_iterations: ONE\n",
      "  }\n",
      "}\n",
      ", '_eval_distribute': None, '_is_chief': True, '_keep_checkpoint_every_n_hours': 10000, '_save_checkpoints_steps': None, '_num_worker_replicas': 1, '_num_ps_replicas': 0, '_task_id': 0, '_experimental_distribute': None, '_cluster': None, '_keep_checkpoint_max': 5, '_train_distribute': None, '_tpu_config': TPUConfig(iterations_per_loop=2, num_shards=1, num_cores_per_replica=None, per_host_input_for_training=3, tpu_job_name=None, initial_infeed_sleep_secs=None, input_partition_dims=None), '_log_step_count_steps': None, '_save_checkpoints_secs': 600, '_save_summary_steps': 100, '_evaluation_master': '', '_global_id_in_cluster': 0, '_tf_random_seed': None}\n",
      "WARNING:tensorflow:Setting TPUConfig.num_shards==1 is an unsupported behavior. Please fix as soon as possible (leaving num_shards as None.)\n",
      "INFO:tensorflow:_TPUContext: eval_on_tpu True\n",
      "WARNING:tensorflow:eval_on_tpu ignored because use_tpu is False.\n"
     ]
    }
   ],
   "source": [
    "estimator = tf.contrib.tpu.TPUEstimator(\n",
    "  use_tpu=FLAGS.use_tpu,\n",
    "  model_fn=model_fn,\n",
    "  config=run_config,\n",
    "  predict_batch_size=FLAGS.batch_size)"
   ]
  },
  {
   "cell_type": "code",
   "execution_count": 19,
   "metadata": {},
   "outputs": [],
   "source": [
    "def extract_features(fpath):\n",
    "    examples = read_examples(fpath)\n",
    "    features = convert_examples_to_features(examples=examples, seq_length=FLAGS.max_seq_length, tokenizer=tokenizer)\n",
    "\n",
    "    unique_id_to_feature = {}\n",
    "    for feature in features:\n",
    "        unique_id_to_feature[feature.unique_id] = feature\n",
    "\n",
    "    input_fn = input_fn_builder(features=features, seq_length=FLAGS.max_seq_length)\n",
    "\n",
    "    results =  np.empty((0,768), float)\n",
    "\n",
    "    for result in estimator.predict(input_fn, yield_single_examples=True):\n",
    "        results = np.append(results, result['layer_output_0'][0].reshape(1,768), axis=0 )\n",
    "    \n",
    "    return results"
   ]
  },
  {
   "cell_type": "code",
   "execution_count": 27,
   "metadata": {},
   "outputs": [],
   "source": [
    "training_app_feature_df = pd.DataFrame({\n",
    "    'app_id' : training_app_df['app_id'],\n",
    "    'feature' : [elem for elem in extract_features(train_tmpf.name)]\n",
    "})\n",
    "\n",
    "training_app_feature_df.to_pickle(\"../data/training_app_feature_1000.pkl\")"
   ]
  },
  {
   "cell_type": "code",
   "execution_count": 26,
   "metadata": {},
   "outputs": [],
   "source": [
    "testset_app_feature_df = pd.DataFrame({\n",
    "    'app_id' : testset_app_df['app_id'],\n",
    "    'feature' : [elem for elem in extract_features(test_tmpf.name)]\n",
    "})\n",
    "\n",
    "testset_app_feature_df.to_pickle(\"../data/testset_app_feature_1000.pkl\")"
   ]
  },
  {
   "cell_type": "code",
   "execution_count": 25,
   "metadata": {},
   "outputs": [],
   "source": [
    "grants_app_feature_df = pd.DataFrame({\n",
    "    'parsed' : grants_target_df['parsed'],\n",
    "    'feature' : [elem for elem in extract_features(grants_tmpf.name)]\n",
    "})\n",
    "\n",
    "grants_app_feature_df.to_pickle(\"../data/grants_feature_2000.pkl\")"
   ]
  },
  {
   "cell_type": "code",
   "execution_count": null,
   "metadata": {},
   "outputs": [],
   "source": []
  },
  {
   "cell_type": "code",
   "execution_count": null,
   "metadata": {},
   "outputs": [],
   "source": []
  },
  {
   "cell_type": "code",
   "execution_count": null,
   "metadata": {},
   "outputs": [],
   "source": []
  },
  {
   "cell_type": "markdown",
   "metadata": {},
   "source": [
    "## Prepare data for circulum tripletloss learning\n",
    "\n",
    "You need execute the following cells everytime."
   ]
  },
  {
   "cell_type": "code",
   "execution_count": 1,
   "metadata": {},
   "outputs": [],
   "source": [
    "import pandas as pd\n",
    "import numpy as np\n",
    "import pickle\n",
    "from collections import OrderedDict"
   ]
  },
  {
   "cell_type": "code",
   "execution_count": 2,
   "metadata": {},
   "outputs": [],
   "source": [
    "citations_info_target = pd.read_pickle(\"../data/citations_info_2000.df.gz\")\n",
    "train_app_feature_1000 = pd.read_pickle(\"../data/training_app_feature_1000.pkl\")\n",
    "test_app_feature_1000 = pd.read_pickle(\"../data/testset_app_feature_1000.pkl\")\n",
    "grants_feature_2000 = pd.read_pickle(\"../data/grants_feature_2000.pkl\")"
   ]
  },
  {
   "cell_type": "code",
   "execution_count": 3,
   "metadata": {},
   "outputs": [
    {
     "data": {
      "text/html": [
       "<div>\n",
       "<style scoped>\n",
       "    .dataframe tbody tr th:only-of-type {\n",
       "        vertical-align: middle;\n",
       "    }\n",
       "\n",
       "    .dataframe tbody tr th {\n",
       "        vertical-align: top;\n",
       "    }\n",
       "\n",
       "    .dataframe thead th {\n",
       "        text-align: right;\n",
       "    }\n",
       "</style>\n",
       "<table border=\"1\" class=\"dataframe\">\n",
       "  <thead>\n",
       "    <tr style=\"text-align: right;\">\n",
       "      <th></th>\n",
       "      <th>app_id</th>\n",
       "      <th>app_fnm</th>\n",
       "      <th>citation_pat_pgpub_id</th>\n",
       "      <th>parsed</th>\n",
       "      <th>ifw_number</th>\n",
       "      <th>action_type</th>\n",
       "      <th>action_subtype</th>\n",
       "      <th>form892</th>\n",
       "      <th>form1449</th>\n",
       "      <th>citation_in_oa</th>\n",
       "      <th>...</th>\n",
       "      <th>rejection_103</th>\n",
       "      <th>rejection_112</th>\n",
       "      <th>rejection_dp</th>\n",
       "      <th>objection</th>\n",
       "      <th>allowed_claims</th>\n",
       "      <th>cite102_gt1</th>\n",
       "      <th>cite103_gt3</th>\n",
       "      <th>cite103_eq1</th>\n",
       "      <th>cite103_max</th>\n",
       "      <th>signature_type</th>\n",
       "    </tr>\n",
       "  </thead>\n",
       "  <tbody>\n",
       "    <tr>\n",
       "      <th>0</th>\n",
       "      <td>13371769</td>\n",
       "      <td>/work/data/apps/2012/ipa120607/F_2322.xml</td>\n",
       "      <td>7391316</td>\n",
       "      <td>7391316</td>\n",
       "      <td>H20LX5QGPXXIFW4</td>\n",
       "      <td>103.0</td>\n",
       "      <td>a</td>\n",
       "      <td>1</td>\n",
       "      <td>0</td>\n",
       "      <td>1</td>\n",
       "      <td>...</td>\n",
       "      <td>1</td>\n",
       "      <td>0</td>\n",
       "      <td>1</td>\n",
       "      <td>0</td>\n",
       "      <td>0</td>\n",
       "      <td>0</td>\n",
       "      <td>0</td>\n",
       "      <td>1</td>\n",
       "      <td>2</td>\n",
       "      <td>0</td>\n",
       "    </tr>\n",
       "    <tr>\n",
       "      <th>1</th>\n",
       "      <td>13371769</td>\n",
       "      <td>/work/data/apps/2012/ipa120607/F_2322.xml</td>\n",
       "      <td>6992580</td>\n",
       "      <td>6992580</td>\n",
       "      <td>H20LX5QGPXXIFW4</td>\n",
       "      <td>102.0</td>\n",
       "      <td>a</td>\n",
       "      <td>1</td>\n",
       "      <td>1</td>\n",
       "      <td>1</td>\n",
       "      <td>...</td>\n",
       "      <td>1</td>\n",
       "      <td>0</td>\n",
       "      <td>1</td>\n",
       "      <td>0</td>\n",
       "      <td>0</td>\n",
       "      <td>0</td>\n",
       "      <td>0</td>\n",
       "      <td>1</td>\n",
       "      <td>2</td>\n",
       "      <td>0</td>\n",
       "    </tr>\n",
       "  </tbody>\n",
       "</table>\n",
       "<p>2 rows × 41 columns</p>\n",
       "</div>"
      ],
      "text/plain": [
       "     app_id                                    app_fnm citation_pat_pgpub_id  \\\n",
       "0  13371769  /work/data/apps/2012/ipa120607/F_2322.xml               7391316   \n",
       "1  13371769  /work/data/apps/2012/ipa120607/F_2322.xml               6992580   \n",
       "\n",
       "    parsed       ifw_number  action_type action_subtype  form892  form1449  \\\n",
       "0  7391316  H20LX5QGPXXIFW4        103.0              a        1         0   \n",
       "1  6992580  H20LX5QGPXXIFW4        102.0              a        1         1   \n",
       "\n",
       "   citation_in_oa      ...       rejection_103  rejection_112  rejection_dp  \\\n",
       "0               1      ...                   1              0             1   \n",
       "1               1      ...                   1              0             1   \n",
       "\n",
       "   objection allowed_claims cite102_gt1  cite103_gt3 cite103_eq1  cite103_max  \\\n",
       "0          0              0           0            0           1            2   \n",
       "1          0              0           0            0           1            2   \n",
       "\n",
       "  signature_type  \n",
       "0              0  \n",
       "1              0  \n",
       "\n",
       "[2 rows x 41 columns]"
      ]
     },
     "execution_count": 3,
     "metadata": {},
     "output_type": "execute_result"
    }
   ],
   "source": [
    "citations_info_target.head(2)"
   ]
  },
  {
   "cell_type": "code",
   "execution_count": 4,
   "metadata": {},
   "outputs": [
    {
     "data": {
      "text/html": [
       "<div>\n",
       "<style scoped>\n",
       "    .dataframe tbody tr th:only-of-type {\n",
       "        vertical-align: middle;\n",
       "    }\n",
       "\n",
       "    .dataframe tbody tr th {\n",
       "        vertical-align: top;\n",
       "    }\n",
       "\n",
       "    .dataframe thead th {\n",
       "        text-align: right;\n",
       "    }\n",
       "</style>\n",
       "<table border=\"1\" class=\"dataframe\">\n",
       "  <thead>\n",
       "    <tr style=\"text-align: right;\">\n",
       "      <th></th>\n",
       "      <th>app_id</th>\n",
       "      <th>feature</th>\n",
       "    </tr>\n",
       "  </thead>\n",
       "  <tbody>\n",
       "    <tr>\n",
       "      <th>0</th>\n",
       "      <td>14222691</td>\n",
       "      <td>[-0.8012277483940125, 0.3682347536087036, -0.4...</td>\n",
       "    </tr>\n",
       "    <tr>\n",
       "      <th>1</th>\n",
       "      <td>12515852</td>\n",
       "      <td>[-1.1272308826446533, -0.17207229137420654, -0...</td>\n",
       "    </tr>\n",
       "  </tbody>\n",
       "</table>\n",
       "</div>"
      ],
      "text/plain": [
       "     app_id                                            feature\n",
       "0  14222691  [-0.8012277483940125, 0.3682347536087036, -0.4...\n",
       "1  12515852  [-1.1272308826446533, -0.17207229137420654, -0..."
      ]
     },
     "execution_count": 4,
     "metadata": {},
     "output_type": "execute_result"
    }
   ],
   "source": [
    "train_app_feature_1000.head(2)"
   ]
  },
  {
   "cell_type": "code",
   "execution_count": 5,
   "metadata": {},
   "outputs": [
    {
     "data": {
      "text/html": [
       "<div>\n",
       "<style scoped>\n",
       "    .dataframe tbody tr th:only-of-type {\n",
       "        vertical-align: middle;\n",
       "    }\n",
       "\n",
       "    .dataframe tbody tr th {\n",
       "        vertical-align: top;\n",
       "    }\n",
       "\n",
       "    .dataframe thead th {\n",
       "        text-align: right;\n",
       "    }\n",
       "</style>\n",
       "<table border=\"1\" class=\"dataframe\">\n",
       "  <thead>\n",
       "    <tr style=\"text-align: right;\">\n",
       "      <th></th>\n",
       "      <th>parsed</th>\n",
       "      <th>feature</th>\n",
       "    </tr>\n",
       "  </thead>\n",
       "  <tbody>\n",
       "    <tr>\n",
       "      <th>0</th>\n",
       "      <td>6837383</td>\n",
       "      <td>[-0.9908803701400757, 0.2743351459503174, -0.0...</td>\n",
       "    </tr>\n",
       "    <tr>\n",
       "      <th>1</th>\n",
       "      <td>6837647</td>\n",
       "      <td>[-0.6510910391807556, 0.13378533720970154, -0....</td>\n",
       "    </tr>\n",
       "  </tbody>\n",
       "</table>\n",
       "</div>"
      ],
      "text/plain": [
       "    parsed                                            feature\n",
       "0  6837383  [-0.9908803701400757, 0.2743351459503174, -0.0...\n",
       "1  6837647  [-0.6510910391807556, 0.13378533720970154, -0...."
      ]
     },
     "execution_count": 5,
     "metadata": {},
     "output_type": "execute_result"
    }
   ],
   "source": [
    "grants_feature_2000.head(2)"
   ]
  },
  {
   "cell_type": "code",
   "execution_count": 6,
   "metadata": {},
   "outputs": [],
   "source": [
    "train_normalized_feature_dict_1000 = { \n",
    "    k:v/np.linalg.norm(v) for k,v in zip(train_app_feature_1000['app_id'], train_app_feature_1000['feature'])\n",
    "}"
   ]
  },
  {
   "cell_type": "code",
   "execution_count": 7,
   "metadata": {},
   "outputs": [],
   "source": [
    "grants_normalized_feature_dict_2000 = { \n",
    "    k:v/np.linalg.norm(v) for k,v in zip(grants_feature_2000['parsed'], grants_feature_2000['feature'])\n",
    "}"
   ]
  },
  {
   "cell_type": "code",
   "execution_count": 8,
   "metadata": {},
   "outputs": [
    {
     "name": "stdout",
     "output_type": "stream",
     "text": [
      "CPU times: user 19.4 s, sys: 194 ms, total: 19.6 s\n",
      "Wall time: 19.6 s\n"
     ]
    }
   ],
   "source": [
    "%%time\n",
    "\n",
    "sim_dict = {\n",
    "    app_id:{ parsed:np.sum(train_normalized_feature_dict_1000[app_id]*grants_normalized_feature_dict_2000[parsed])\n",
    "            for parsed \n",
    "            in grants_feature_2000['parsed'] } \n",
    "    for app_id \n",
    "    in train_app_feature_1000['app_id']\n",
    "}"
   ]
  },
  {
   "cell_type": "code",
   "execution_count": 9,
   "metadata": {
    "scrolled": true
   },
   "outputs": [
    {
     "data": {
      "text/plain": [
       "12411468"
      ]
     },
     "execution_count": 9,
     "metadata": {},
     "output_type": "execute_result"
    }
   ],
   "source": [
    "list(sim_dict.keys())[0]"
   ]
  },
  {
   "cell_type": "code",
   "execution_count": 10,
   "metadata": {},
   "outputs": [
    {
     "data": {
      "text/plain": [
       "[0.5762169750690092,\n",
       " 0.6097554784789876,\n",
       " 0.6223759222249304,\n",
       " 0.6421321976972119,\n",
       " 0.6643671272890019]"
      ]
     },
     "execution_count": 10,
     "metadata": {},
     "output_type": "execute_result"
    }
   ],
   "source": [
    "sorted( sim_dict[12411468].values() )[:5]"
   ]
  },
  {
   "cell_type": "code",
   "execution_count": 11,
   "metadata": {},
   "outputs": [],
   "source": [
    "def sort_similarity_by_value(sim_dict, app_id):\n",
    "    '''\n",
    "    input:\n",
    "        sim_dict: similary dictionary\n",
    "        app_id: target application id\n",
    "    return:\n",
    "        [(parsed1, sim1), (parsed2, sim2), ...] sorted by similarities\n",
    "    '''\n",
    "    return [(parsed, sim_dict[app_id][parsed]) for parsed in sorted(sim_dict[app_id], key=sim_dict[app_id].get)]"
   ]
  },
  {
   "cell_type": "code",
   "execution_count": 12,
   "metadata": {},
   "outputs": [],
   "source": [
    "def get_cited_grants(citations_info_target, app_id):\n",
    "    '''\n",
    "    input:\n",
    "        citations_info_target: DataFrame of citation relationships\n",
    "        app_id: target application id\n",
    "    return:\n",
    "        {parsed1, parsed2, ...} that are cited to reject app_id\n",
    "    '''\n",
    "    return set(citations_info_target[citations_info_target['app_id'] == app_id]['parsed'])"
   ]
  },
  {
   "cell_type": "code",
   "execution_count": 13,
   "metadata": {},
   "outputs": [],
   "source": [
    "def make_uncited_grants_for_app_id(sim_dict, citations_info_target, app_id, sidx, eidx, num):\n",
    "    '''\n",
    "    input:\n",
    "        sim_dict: \n",
    "        citations_info_target:\n",
    "        app_id: target application id\n",
    "        sidx: start index to slice the sorted (parsed, sim) list\n",
    "        eidx: end index to slice the sorted (parsed, sim) list\n",
    "        num: number of grants that will be returned\n",
    "    return:\n",
    "        [parsed_1, parsed_2, ..., parsed_num] that are NOT cited to reject app_id\n",
    "    '''\n",
    "    sorted_grants_list = sort_similarity_by_value(sim_dict, app_id)\n",
    "    sorted_grants_list = sorted_grants_list[sidx:eidx]\n",
    "    \n",
    "    cited_grants = get_cited_grants(citations_info_target, app_id)\n",
    "    uncited_grants = []\n",
    "    \n",
    "    idx = 0\n",
    "    while idx < num:\n",
    "        grant_id, _ = sorted_grants_list[idx]\n",
    "        if not grant_id in cited_grants:\n",
    "            uncited_grants.append(grant_id)\n",
    "        idx += 1\n",
    "    \n",
    "    return uncited_grants"
   ]
  },
  {
   "cell_type": "code",
   "execution_count": 14,
   "metadata": {},
   "outputs": [
    {
     "data": {
      "text/plain": [
       "[7214786, 7355042, 7129390, 7384920]"
      ]
     },
     "execution_count": 14,
     "metadata": {},
     "output_type": "execute_result"
    }
   ],
   "source": [
    "make_uncited_grants_for_app_id(sim_dict, citations_info_target, 12411468, 0, 100, 4)"
   ]
  },
  {
   "cell_type": "code",
   "execution_count": 15,
   "metadata": {},
   "outputs": [],
   "source": [
    "def create_triplet_pairs(sidx, eidx):\n",
    "    all_elems = []\n",
    "    \n",
    "    for app_id in train_app_feature_1000['app_id']:\n",
    "        cited_grants = get_cited_grants(citations_info_target, app_id)\n",
    "        num_cited_grants = len(cited_grants)\n",
    "        uncited_grants = make_uncited_grants_for_app_id(\n",
    "            sim_dict, citations_info_target, app_id, sidx, eidx, num_cited_grants)\n",
    "        \n",
    "        for idx, cited in enumerate(cited_grants):\n",
    "            all_elems.append([app_id, cited, uncited_grants[idx]])\n",
    "    \n",
    "    result_df = pd.DataFrame(all_elems)\n",
    "    result_df.columns = ['app_id', 'cited_grants', 'uncited_grants']\n",
    "    \n",
    "    return result_df"
   ]
  },
  {
   "cell_type": "code",
   "execution_count": 16,
   "metadata": {},
   "outputs": [
    {
     "name": "stdout",
     "output_type": "stream",
     "text": [
      "CPU times: user 4.25 s, sys: 93.7 ms, total: 4.34 s\n",
      "Wall time: 4.11 s\n"
     ]
    }
   ],
   "source": [
    "%%time\n",
    "\n",
    "test = create_triplet_pairs(1900, 2000)"
   ]
  },
  {
   "cell_type": "code",
   "execution_count": 17,
   "metadata": {},
   "outputs": [
    {
     "data": {
      "text/html": [
       "<div>\n",
       "<style scoped>\n",
       "    .dataframe tbody tr th:only-of-type {\n",
       "        vertical-align: middle;\n",
       "    }\n",
       "\n",
       "    .dataframe tbody tr th {\n",
       "        vertical-align: top;\n",
       "    }\n",
       "\n",
       "    .dataframe thead th {\n",
       "        text-align: right;\n",
       "    }\n",
       "</style>\n",
       "<table border=\"1\" class=\"dataframe\">\n",
       "  <thead>\n",
       "    <tr style=\"text-align: right;\">\n",
       "      <th></th>\n",
       "      <th>app_id</th>\n",
       "      <th>cited_grants</th>\n",
       "      <th>uncited_grants</th>\n",
       "    </tr>\n",
       "  </thead>\n",
       "  <tbody>\n",
       "    <tr>\n",
       "      <th>0</th>\n",
       "      <td>14222691</td>\n",
       "      <td>8206188</td>\n",
       "      <td>8064198</td>\n",
       "    </tr>\n",
       "    <tr>\n",
       "      <th>1</th>\n",
       "      <td>14222691</td>\n",
       "      <td>8177561</td>\n",
       "      <td>7682966</td>\n",
       "    </tr>\n",
       "  </tbody>\n",
       "</table>\n",
       "</div>"
      ],
      "text/plain": [
       "     app_id  cited_grants  uncited_grants\n",
       "0  14222691       8206188         8064198\n",
       "1  14222691       8177561         7682966"
      ]
     },
     "execution_count": 17,
     "metadata": {},
     "output_type": "execute_result"
    }
   ],
   "source": [
    "test.head(2)"
   ]
  },
  {
   "cell_type": "code",
   "execution_count": 18,
   "metadata": {},
   "outputs": [
    {
     "data": {
      "text/plain": [
       "1282"
      ]
     },
     "execution_count": 18,
     "metadata": {},
     "output_type": "execute_result"
    }
   ],
   "source": [
    "len(test)"
   ]
  },
  {
   "cell_type": "code",
   "execution_count": null,
   "metadata": {},
   "outputs": [],
   "source": []
  },
  {
   "cell_type": "code",
   "execution_count": null,
   "metadata": {},
   "outputs": [],
   "source": []
  },
  {
   "cell_type": "code",
   "execution_count": null,
   "metadata": {},
   "outputs": [],
   "source": []
  },
  {
   "cell_type": "markdown",
   "metadata": {},
   "source": [
    "## Train model"
   ]
  },
  {
   "cell_type": "code",
   "execution_count": 19,
   "metadata": {},
   "outputs": [],
   "source": [
    "import os\n",
    "import tensorflow as tf\n",
    "\n",
    "tf.enable_eager_execution()\n",
    "tfe = tf.contrib.eager"
   ]
  },
  {
   "cell_type": "code",
   "execution_count": 20,
   "metadata": {},
   "outputs": [],
   "source": [
    "class Model(object):\n",
    "    def __init__(self, input_shape, output_shape):\n",
    "        self.input_shape = input_shape\n",
    "        self.output_shape = output_shape\n",
    "        self.W = tfe.Variable( tf.random_normal( [self.input_shape, self.output_shape] ), name='weight' )\n",
    "        self.B = tfe.Variable( tf.random_normal( [self.output_shape] ), name='bias' ) \n",
    "        self.variables = [ self.W, self.B ]\n",
    "    \n",
    "    def frwrd_pass(self,X_train):\n",
    "        out = tf.matmul( X_train, self.W ) + self.B\n",
    "        \n",
    "        return out"
   ]
  },
  {
   "cell_type": "code",
   "execution_count": 21,
   "metadata": {},
   "outputs": [],
   "source": [
    "def tripletloss(anchor_out, positive_out, negative_out, margin=0.2):\n",
    "    norm_a_out = tf.nn.l2_normalize(anchor_out, axis=1)\n",
    "    norm_p_out = tf.nn.l2_normalize(positive_out, axis=1)\n",
    "    norm_n_out = tf.nn.l2_normalize(negative_out, axis=1)\n",
    "    \n",
    "    d_pos = tf.losses.cosine_distance(norm_a_out, norm_p_out, axis=1)\n",
    "    d_neg = tf.losses.cosine_distance(norm_a_out, norm_n_out, axis=1)\n",
    "    \n",
    "    loss = tf.maximum(0.0, margin + d_pos - d_neg)\n",
    "    \n",
    "    return tf.reduce_mean(loss)"
   ]
  },
  {
   "cell_type": "code",
   "execution_count": 22,
   "metadata": {},
   "outputs": [],
   "source": [
    "def train(input_data_np, batch_size, epochs):\n",
    "    optimizer = tf.train.AdamOptimizer(learning_rate=0.00001)\n",
    "    data_num = int(input_data_np.shape[1])\n",
    "\n",
    "    for i in range(epochs):\n",
    "        rand_idx = np.random.permutation(data_num)\n",
    "        index_data_np = np.array([\n",
    "            input_data_np[0][rand_idx], \n",
    "            input_data_np[1][rand_idx], \n",
    "            input_data_np[2][rand_idx]])\n",
    "\n",
    "        input_data = tf.convert_to_tensor(input_data_np, dtype=tf.float32)\n",
    "        anchor_data, positive_data, negative_data = input_data\n",
    "\n",
    "        for iter_id in range(data_num // batch_size):        \n",
    "            with tf.GradientTape() as tape:\n",
    "                anchor_out = model.frwrd_pass(anchor_data[iter_id*batch_size : (iter_id+1)*batch_size])\n",
    "                positive_out = model.frwrd_pass(positive_data[iter_id*batch_size : (iter_id+1)*batch_size])\n",
    "                negative_out = model.frwrd_pass(negative_data[iter_id*batch_size : (iter_id+1)*batch_size])\n",
    "                curr_loss = tripletloss(anchor_out, positive_out, negative_out)\n",
    "            grads = tape.gradient( curr_loss, model.variables )\n",
    "            optimizer.apply_gradients(zip(grads, model.variables), global_step=tf.train.get_or_create_global_step())\n",
    "\n",
    "        if i % 10 == 0:\n",
    "            print( \"Loss at step {:d}: {:.5f}\".format(i, curr_loss) )"
   ]
  },
  {
   "cell_type": "code",
   "execution_count": 23,
   "metadata": {},
   "outputs": [],
   "source": [
    "def create_training_input_np(sidx, eidx):\n",
    "    anchor_list = []\n",
    "    positive_list = []\n",
    "    negative_list = []\n",
    "    \n",
    "    triplet_pairs = create_triplet_pairs(sidx, eidx)\n",
    "    \n",
    "    for row in triplet_pairs.itertuples():\n",
    "        anchor_list.append(train_normalized_feature_dict_1000[row.app_id])\n",
    "        positive_list.append(grants_normalized_feature_dict_2000[row.cited_grants])\n",
    "        negative_list.append(grants_normalized_feature_dict_2000[row.uncited_grants])\n",
    "    \n",
    "    return np.array([np.array(anchor_list), np.array(positive_list), np.array(negative_list)])"
   ]
  },
  {
   "cell_type": "code",
   "execution_count": 24,
   "metadata": {},
   "outputs": [
    {
     "name": "stdout",
     "output_type": "stream",
     "text": [
      "CPU times: user 3 µs, sys: 0 ns, total: 3 µs\n",
      "Wall time: 7.63 µs\n"
     ]
    }
   ],
   "source": [
    "%time\n",
    "\n",
    "test = create_training_input_np(1900, 2000)"
   ]
  },
  {
   "cell_type": "code",
   "execution_count": 25,
   "metadata": {},
   "outputs": [
    {
     "data": {
      "text/plain": [
       "array([[[-0.04901844,  0.02252829, -0.02457967, ..., -0.00074622,\n",
       "         -0.0088564 ,  0.00703908],\n",
       "        [-0.04901844,  0.02252829, -0.02457967, ..., -0.00074622,\n",
       "         -0.0088564 ,  0.00703908],\n",
       "        [-0.04901844,  0.02252829, -0.02457967, ..., -0.00074622,\n",
       "         -0.0088564 ,  0.00703908],\n",
       "        [-0.06715591, -0.01025138, -0.02449416, ..., -0.03210071,\n",
       "         -0.00928766,  0.02977114],\n",
       "        [-0.06563298, -0.00142188, -0.03430097, ..., -0.02237011,\n",
       "         -0.0149513 ,  0.0319426 ]],\n",
       "\n",
       "       [[-0.05816157,  0.00442324, -0.01381707, ...,  0.00989325,\n",
       "         -0.00308412,  0.01191179],\n",
       "        [-0.06699397,  0.00166932, -0.02735891, ..., -0.00586027,\n",
       "         -0.02177938,  0.03040199],\n",
       "        [-0.04891689,  0.00812041, -0.03092893, ..., -0.00889881,\n",
       "         -0.01907724,  0.02222425],\n",
       "        [-0.06176343, -0.00969397, -0.03617494, ..., -0.03812347,\n",
       "          0.01204742,  0.04816776],\n",
       "        [-0.07063474, -0.00655207, -0.02171202, ..., -0.0406709 ,\n",
       "         -0.01776111,  0.01859663]],\n",
       "\n",
       "       [[-0.06352781,  0.02444369, -0.05816046, ..., -0.01113886,\n",
       "         -0.01376194,  0.03543227],\n",
       "        [-0.06369041,  0.0216647 , -0.0192921 , ..., -0.00139926,\n",
       "         -0.01629209,  0.0296111 ],\n",
       "        [-0.0338121 , -0.00216265, -0.01361416, ...,  0.00482045,\n",
       "         -0.03601053,  0.02750505],\n",
       "        [-0.06144659,  0.00752748, -0.03485118, ..., -0.04332274,\n",
       "          0.00833898,  0.02243518],\n",
       "        [-0.04828348,  0.00699273, -0.02035283, ..., -0.00695952,\n",
       "         -0.00860622,  0.0268669 ]]])"
      ]
     },
     "execution_count": 25,
     "metadata": {},
     "output_type": "execute_result"
    }
   ],
   "source": [
    "test[:,0:5]"
   ]
  },
  {
   "cell_type": "code",
   "execution_count": 26,
   "metadata": {},
   "outputs": [],
   "source": [
    "model = Model(input_shape=768, output_shape=100)"
   ]
  },
  {
   "cell_type": "code",
   "execution_count": 131,
   "metadata": {},
   "outputs": [
    {
     "name": "stdout",
     "output_type": "stream",
     "text": [
      "Loss at step 0: 0.09596\n",
      "Loss at step 10: 0.04093\n",
      "Loss at step 20: 0.00000\n",
      "Loss at step 30: 0.00000\n",
      "Loss at step 40: 0.00000\n",
      "CPU times: user 1min 30s, sys: 5.2 s, total: 1min 35s\n",
      "Wall time: 1min 19s\n"
     ]
    }
   ],
   "source": [
    "# %%time\n",
    "\n",
    "# ### EASY examples\n",
    "# train(test, 10, 50)"
   ]
  },
  {
   "cell_type": "code",
   "execution_count": 27,
   "metadata": {},
   "outputs": [
    {
     "name": "stdout",
     "output_type": "stream",
     "text": [
      "Loss at step 0: 0.19671\n",
      "Loss at step 10: 0.19589\n",
      "Loss at step 20: 0.19483\n",
      "Loss at step 30: 0.19342\n",
      "Loss at step 40: 0.19149\n",
      "CPU times: user 1min 32s, sys: 5.38 s, total: 1min 38s\n",
      "Wall time: 1min 20s\n"
     ]
    }
   ],
   "source": [
    "%%time\n",
    "\n",
    "### HARD examples\n",
    "train(test, 10, 50)"
   ]
  },
  {
   "cell_type": "code",
   "execution_count": null,
   "metadata": {},
   "outputs": [],
   "source": []
  },
  {
   "cell_type": "code",
   "execution_count": null,
   "metadata": {},
   "outputs": [],
   "source": []
  },
  {
   "cell_type": "code",
   "execution_count": null,
   "metadata": {},
   "outputs": [],
   "source": []
  },
  {
   "cell_type": "markdown",
   "metadata": {},
   "source": [
    "# ===== Trial and error ====="
   ]
  },
  {
   "cell_type": "code",
   "execution_count": 52,
   "metadata": {},
   "outputs": [],
   "source": [
    "s = sort_similarity_by_value(sim_dict, 12411468)"
   ]
  },
  {
   "cell_type": "code",
   "execution_count": 53,
   "metadata": {},
   "outputs": [
    {
     "data": {
      "text/plain": [
       "[(7214786, 0.5762169750690092),\n",
       " (7355042, 0.6097554784789876),\n",
       " (7129390, 0.6223759222249304),\n",
       " (7384920, 0.6421321976972119),\n",
       " (7007804, 0.6643671272890019)]"
      ]
     },
     "execution_count": 53,
     "metadata": {},
     "output_type": "execute_result"
    }
   ],
   "source": [
    "s[0:5]"
   ]
  },
  {
   "cell_type": "code",
   "execution_count": 59,
   "metadata": {},
   "outputs": [],
   "source": [
    "test = [(idx,parsed) for idx,(parsed,sim) in enumerate(s) if parsed == 7061154]"
   ]
  },
  {
   "cell_type": "code",
   "execution_count": 60,
   "metadata": {},
   "outputs": [
    {
     "data": {
      "text/plain": [
       "[(1733, 7061154)]"
      ]
     },
     "execution_count": 60,
     "metadata": {},
     "output_type": "execute_result"
    }
   ],
   "source": [
    "test"
   ]
  },
  {
   "cell_type": "code",
   "execution_count": 61,
   "metadata": {},
   "outputs": [
    {
     "data": {
      "text/plain": [
       "[7326126,\n",
       " 6980185,\n",
       " 7722528,\n",
       " 7404613,\n",
       " 7578602,\n",
       " 7715103,\n",
       " 7347024,\n",
       " 7484979,\n",
       " 7248463]"
      ]
     },
     "execution_count": 61,
     "metadata": {},
     "output_type": "execute_result"
    }
   ],
   "source": [
    "make_uncited_grants_for_app_id(sim_dict, citations_info_target, 12411468, 1730, 1750, 10)"
   ]
  },
  {
   "cell_type": "code",
   "execution_count": 34,
   "metadata": {},
   "outputs": [
    {
     "data": {
      "text/html": [
       "<div>\n",
       "<style scoped>\n",
       "    .dataframe tbody tr th:only-of-type {\n",
       "        vertical-align: middle;\n",
       "    }\n",
       "\n",
       "    .dataframe tbody tr th {\n",
       "        vertical-align: top;\n",
       "    }\n",
       "\n",
       "    .dataframe thead th {\n",
       "        text-align: right;\n",
       "    }\n",
       "</style>\n",
       "<table border=\"1\" class=\"dataframe\">\n",
       "  <thead>\n",
       "    <tr style=\"text-align: right;\">\n",
       "      <th></th>\n",
       "      <th>app_id</th>\n",
       "      <th>app_fnm</th>\n",
       "      <th>citation_pat_pgpub_id</th>\n",
       "      <th>parsed</th>\n",
       "      <th>ifw_number</th>\n",
       "      <th>action_type</th>\n",
       "      <th>action_subtype</th>\n",
       "      <th>form892</th>\n",
       "      <th>form1449</th>\n",
       "      <th>citation_in_oa</th>\n",
       "      <th>...</th>\n",
       "      <th>rejection_103</th>\n",
       "      <th>rejection_112</th>\n",
       "      <th>rejection_dp</th>\n",
       "      <th>objection</th>\n",
       "      <th>allowed_claims</th>\n",
       "      <th>cite102_gt1</th>\n",
       "      <th>cite103_gt3</th>\n",
       "      <th>cite103_eq1</th>\n",
       "      <th>cite103_max</th>\n",
       "      <th>signature_type</th>\n",
       "    </tr>\n",
       "  </thead>\n",
       "  <tbody>\n",
       "    <tr>\n",
       "      <th>4089</th>\n",
       "      <td>12411468</td>\n",
       "      <td>/work/data/apps/2010/ipa100930/F_2468.xml</td>\n",
       "      <td>7061154</td>\n",
       "      <td>7061154</td>\n",
       "      <td>GJZUK1ELPPOPPY5</td>\n",
       "      <td>102.0</td>\n",
       "      <td>b</td>\n",
       "      <td>1</td>\n",
       "      <td>0</td>\n",
       "      <td>1</td>\n",
       "      <td>...</td>\n",
       "      <td>1</td>\n",
       "      <td>0</td>\n",
       "      <td>0</td>\n",
       "      <td>0</td>\n",
       "      <td>0</td>\n",
       "      <td>1</td>\n",
       "      <td>0</td>\n",
       "      <td>1</td>\n",
       "      <td>2</td>\n",
       "      <td>3</td>\n",
       "    </tr>\n",
       "    <tr>\n",
       "      <th>4090</th>\n",
       "      <td>12411468</td>\n",
       "      <td>/work/data/apps/2010/ipa100930/F_2468.xml</td>\n",
       "      <td>7061154</td>\n",
       "      <td>7061154</td>\n",
       "      <td>GJZUK1ELPPOPPY5</td>\n",
       "      <td>103.0</td>\n",
       "      <td>a</td>\n",
       "      <td>1</td>\n",
       "      <td>0</td>\n",
       "      <td>1</td>\n",
       "      <td>...</td>\n",
       "      <td>1</td>\n",
       "      <td>0</td>\n",
       "      <td>0</td>\n",
       "      <td>0</td>\n",
       "      <td>0</td>\n",
       "      <td>1</td>\n",
       "      <td>0</td>\n",
       "      <td>1</td>\n",
       "      <td>2</td>\n",
       "      <td>3</td>\n",
       "    </tr>\n",
       "  </tbody>\n",
       "</table>\n",
       "<p>2 rows × 41 columns</p>\n",
       "</div>"
      ],
      "text/plain": [
       "        app_id                                    app_fnm  \\\n",
       "4089  12411468  /work/data/apps/2010/ipa100930/F_2468.xml   \n",
       "4090  12411468  /work/data/apps/2010/ipa100930/F_2468.xml   \n",
       "\n",
       "     citation_pat_pgpub_id   parsed       ifw_number  action_type  \\\n",
       "4089               7061154  7061154  GJZUK1ELPPOPPY5        102.0   \n",
       "4090               7061154  7061154  GJZUK1ELPPOPPY5        103.0   \n",
       "\n",
       "     action_subtype  form892  form1449  citation_in_oa      ...        \\\n",
       "4089              b        1         0               1      ...         \n",
       "4090              a        1         0               1      ...         \n",
       "\n",
       "     rejection_103  rejection_112  rejection_dp  objection allowed_claims  \\\n",
       "4089             1              0             0          0              0   \n",
       "4090             1              0             0          0              0   \n",
       "\n",
       "     cite102_gt1  cite103_gt3 cite103_eq1  cite103_max signature_type  \n",
       "4089           1            0           1            2              3  \n",
       "4090           1            0           1            2              3  \n",
       "\n",
       "[2 rows x 41 columns]"
      ]
     },
     "execution_count": 34,
     "metadata": {},
     "output_type": "execute_result"
    }
   ],
   "source": [
    "citations_info_target[citations_info_target['app_id'] == 12411468]"
   ]
  },
  {
   "cell_type": "code",
   "execution_count": 37,
   "metadata": {},
   "outputs": [
    {
     "data": {
      "text/plain": [
       "{7061154}"
      ]
     },
     "execution_count": 37,
     "metadata": {},
     "output_type": "execute_result"
    }
   ],
   "source": [
    "set(citations_info_target[citations_info_target['app_id'] == 12411468]['parsed'])"
   ]
  },
  {
   "cell_type": "code",
   "execution_count": 39,
   "metadata": {},
   "outputs": [
    {
     "data": {
      "text/plain": [
       "{7061154}"
      ]
     },
     "execution_count": 39,
     "metadata": {},
     "output_type": "execute_result"
    }
   ],
   "source": [
    "get_cited_grants(citations_info_target, 12411468)"
   ]
  }
 ],
 "metadata": {
  "kernelspec": {
   "display_name": "Python 3",
   "language": "python",
   "name": "python3"
  },
  "language_info": {
   "codemirror_mode": {
    "name": "ipython",
    "version": 3
   },
   "file_extension": ".py",
   "mimetype": "text/x-python",
   "name": "python",
   "nbconvert_exporter": "python",
   "pygments_lexer": "ipython3",
   "version": "3.5.2"
  }
 },
 "nbformat": 4,
 "nbformat_minor": 2
}
