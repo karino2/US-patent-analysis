{
 "cells": [
  {
   "cell_type": "markdown",
   "metadata": {},
   "source": [
    "# Tripletloss model with circulum learning\n",
    "\n",
    "- Extract features using pretrained BERT\n",
    "- Prepare data for circulum tripletloss learning"
   ]
  },
  {
   "cell_type": "markdown",
   "metadata": {},
   "source": [
    "## Extract features using pretrained BERT\n",
    "\n",
    "You need execute the following cells just once."
   ]
  },
  {
   "cell_type": "code",
   "execution_count": 1,
   "metadata": {},
   "outputs": [],
   "source": [
    "import pandas as pd\n",
    "import numpy as np\n",
    "import pickle"
   ]
  },
  {
   "cell_type": "code",
   "execution_count": 2,
   "metadata": {},
   "outputs": [],
   "source": [
    "training_app_df = pd.read_pickle(\"../data/training_app_1000.df.gz\")\n",
    "testset_app_df = pd.read_pickle(\"../data/testset_app_1000.df.gz\")\n",
    "grants_target_df = pd.read_pickle(\"../data/grants_for_2000.df.gz\")"
   ]
  },
  {
   "cell_type": "code",
   "execution_count": 3,
   "metadata": {},
   "outputs": [
    {
     "data": {
      "text/html": [
       "<div>\n",
       "<style scoped>\n",
       "    .dataframe tbody tr th:only-of-type {\n",
       "        vertical-align: middle;\n",
       "    }\n",
       "\n",
       "    .dataframe tbody tr th {\n",
       "        vertical-align: top;\n",
       "    }\n",
       "\n",
       "    .dataframe thead th {\n",
       "        text-align: right;\n",
       "    }\n",
       "</style>\n",
       "<table border=\"1\" class=\"dataframe\">\n",
       "  <thead>\n",
       "    <tr style=\"text-align: right;\">\n",
       "      <th></th>\n",
       "      <th>app_id</th>\n",
       "      <th>xml</th>\n",
       "    </tr>\n",
       "  </thead>\n",
       "  <tbody>\n",
       "    <tr>\n",
       "      <th>0</th>\n",
       "      <td>14222691</td>\n",
       "      <td>&lt;us-patent-application lang=\"EN\" dtd-version=\"...</td>\n",
       "    </tr>\n",
       "    <tr>\n",
       "      <th>1</th>\n",
       "      <td>12515852</td>\n",
       "      <td>&lt;us-patent-application lang=\"EN\" dtd-version=\"...</td>\n",
       "    </tr>\n",
       "  </tbody>\n",
       "</table>\n",
       "</div>"
      ],
      "text/plain": [
       "     app_id                                                xml\n",
       "0  14222691  <us-patent-application lang=\"EN\" dtd-version=\"...\n",
       "1  12515852  <us-patent-application lang=\"EN\" dtd-version=\"..."
      ]
     },
     "execution_count": 3,
     "metadata": {},
     "output_type": "execute_result"
    }
   ],
   "source": [
    "training_app_df.head(2)"
   ]
  },
  {
   "cell_type": "code",
   "execution_count": 4,
   "metadata": {},
   "outputs": [
    {
     "data": {
      "text/html": [
       "<div>\n",
       "<style scoped>\n",
       "    .dataframe tbody tr th:only-of-type {\n",
       "        vertical-align: middle;\n",
       "    }\n",
       "\n",
       "    .dataframe tbody tr th {\n",
       "        vertical-align: top;\n",
       "    }\n",
       "\n",
       "    .dataframe thead th {\n",
       "        text-align: right;\n",
       "    }\n",
       "</style>\n",
       "<table border=\"1\" class=\"dataframe\">\n",
       "  <thead>\n",
       "    <tr style=\"text-align: right;\">\n",
       "      <th></th>\n",
       "      <th>app_id</th>\n",
       "      <th>xml</th>\n",
       "    </tr>\n",
       "  </thead>\n",
       "  <tbody>\n",
       "    <tr>\n",
       "      <th>0</th>\n",
       "      <td>14307191</td>\n",
       "      <td>&lt;us-patent-application lang=\"EN\" dtd-version=\"...</td>\n",
       "    </tr>\n",
       "    <tr>\n",
       "      <th>1</th>\n",
       "      <td>13137006</td>\n",
       "      <td>&lt;us-patent-application lang=\"EN\" dtd-version=\"...</td>\n",
       "    </tr>\n",
       "  </tbody>\n",
       "</table>\n",
       "</div>"
      ],
      "text/plain": [
       "     app_id                                                xml\n",
       "0  14307191  <us-patent-application lang=\"EN\" dtd-version=\"...\n",
       "1  13137006  <us-patent-application lang=\"EN\" dtd-version=\"..."
      ]
     },
     "execution_count": 4,
     "metadata": {},
     "output_type": "execute_result"
    }
   ],
   "source": [
    "testset_app_df.head(2)"
   ]
  },
  {
   "cell_type": "code",
   "execution_count": 5,
   "metadata": {},
   "outputs": [
    {
     "data": {
      "text/html": [
       "<div>\n",
       "<style scoped>\n",
       "    .dataframe tbody tr th:only-of-type {\n",
       "        vertical-align: middle;\n",
       "    }\n",
       "\n",
       "    .dataframe tbody tr th {\n",
       "        vertical-align: top;\n",
       "    }\n",
       "\n",
       "    .dataframe thead th {\n",
       "        text-align: right;\n",
       "    }\n",
       "</style>\n",
       "<table border=\"1\" class=\"dataframe\">\n",
       "  <thead>\n",
       "    <tr style=\"text-align: right;\">\n",
       "      <th></th>\n",
       "      <th>parsed</th>\n",
       "      <th>xml</th>\n",
       "    </tr>\n",
       "  </thead>\n",
       "  <tbody>\n",
       "    <tr>\n",
       "      <th>0</th>\n",
       "      <td>6837383</td>\n",
       "      <td>&lt;us-patent-grant lang=\"EN\" dtd-version=\"v40 20...</td>\n",
       "    </tr>\n",
       "    <tr>\n",
       "      <th>1</th>\n",
       "      <td>6837647</td>\n",
       "      <td>&lt;us-patent-grant lang=\"EN\" dtd-version=\"v40 20...</td>\n",
       "    </tr>\n",
       "  </tbody>\n",
       "</table>\n",
       "</div>"
      ],
      "text/plain": [
       "    parsed                                                xml\n",
       "0  6837383  <us-patent-grant lang=\"EN\" dtd-version=\"v40 20...\n",
       "1  6837647  <us-patent-grant lang=\"EN\" dtd-version=\"v40 20..."
      ]
     },
     "execution_count": 5,
     "metadata": {},
     "output_type": "execute_result"
    }
   ],
   "source": [
    "grants_target_df.head(2)"
   ]
  },
  {
   "cell_type": "code",
   "execution_count": 6,
   "metadata": {},
   "outputs": [],
   "source": [
    "import re\n",
    "CLAIM_PAT = re.compile(r'<claims[^>]*>(.*)</claims>',re.MULTILINE|re.DOTALL)\n",
    "TAG_PAT = re.compile(r\"<.*?>\")\n",
    "LB_PAT = re.compile(r'[\\t\\n\\r\\f\\v][\" \"]*')\n",
    "\n",
    "def whole_xml_to_claim_xml(whole):\n",
    "    mat = CLAIM_PAT.search(whole)\n",
    "    return mat.group(1)\n",
    "def whole_xml_to_claim(whole):\n",
    "    return TAG_PAT.sub(' ', whole_xml_to_claim_xml(whole))\n",
    "\n",
    "def remove_linebreak_from_claim(claim):\n",
    "    '''\n",
    "    Remove line break symbol \"\\n\" with space(s).\n",
    "    '''\n",
    "    return LB_PAT.sub('', claim)"
   ]
  },
  {
   "cell_type": "code",
   "execution_count": 7,
   "metadata": {},
   "outputs": [],
   "source": [
    "training_app_df[\"claim\"] = training_app_df[\"xml\"].map(whole_xml_to_claim).map(remove_linebreak_from_claim)\n",
    "testset_app_df[\"claim\"] = testset_app_df[\"xml\"].map(whole_xml_to_claim).map(remove_linebreak_from_claim)\n",
    "grants_target_df[\"claim\"] = grants_target_df[\"xml\"].map(whole_xml_to_claim).map(remove_linebreak_from_claim)"
   ]
  },
  {
   "cell_type": "markdown",
   "metadata": {},
   "source": [
    "Check duplication."
   ]
  },
  {
   "cell_type": "code",
   "execution_count": 8,
   "metadata": {},
   "outputs": [
    {
     "data": {
      "text/plain": [
       "1000"
      ]
     },
     "execution_count": 8,
     "metadata": {},
     "output_type": "execute_result"
    }
   ],
   "source": [
    "len(training_app_df.drop_duplicates(keep='first'))"
   ]
  },
  {
   "cell_type": "markdown",
   "metadata": {},
   "source": [
    "Use BERT for feature extractions."
   ]
  },
  {
   "cell_type": "code",
   "execution_count": 9,
   "metadata": {},
   "outputs": [],
   "source": [
    "import sys\n",
    "sys.path.append(\"../notebook/bert\")"
   ]
  },
  {
   "cell_type": "code",
   "execution_count": 10,
   "metadata": {},
   "outputs": [],
   "source": [
    "import os\n",
    "import re\n",
    "import csv\n",
    "import time\n",
    "import codecs\n",
    "import collections\n",
    "import tempfile\n",
    "\n",
    "import modeling\n",
    "import optimization\n",
    "import tokenization\n",
    "import tensorflow as tf"
   ]
  },
  {
   "cell_type": "code",
   "execution_count": 11,
   "metadata": {},
   "outputs": [
    {
     "data": {
      "text/plain": [
       "'1.12.0'"
      ]
     },
     "execution_count": 11,
     "metadata": {},
     "output_type": "execute_result"
    }
   ],
   "source": [
    "tf.__version__"
   ]
  },
  {
   "cell_type": "code",
   "execution_count": 12,
   "metadata": {},
   "outputs": [],
   "source": [
    "from extract_features import convert_examples_to_features\n",
    "from extract_features import InputExample\n",
    "from extract_features import read_examples\n",
    "from extract_features import _truncate_seq_pair\n",
    "from extract_features import InputFeatures\n",
    "from extract_features import input_fn_builder\n",
    "from extract_features import model_fn_builder"
   ]
  },
  {
   "cell_type": "code",
   "execution_count": 13,
   "metadata": {},
   "outputs": [],
   "source": [
    "def create_tempfile_of_claim(df):\n",
    "    tmpf = tempfile.NamedTemporaryFile(mode='r+')\n",
    "    df['claim'].to_csv(tmpf.name, header=None, index=None)\n",
    "    # Remove double quotations\n",
    "    !sed -i -e 's/\\\"//g' {tmpf.name}\n",
    "    \n",
    "    return tmpf"
   ]
  },
  {
   "cell_type": "code",
   "execution_count": 14,
   "metadata": {},
   "outputs": [],
   "source": [
    "train_tmpf = create_tempfile_of_claim(training_app_df)\n",
    "test_tmpf = create_tempfile_of_claim(testset_app_df)\n",
    "grants_tmpf = create_tempfile_of_claim(grants_target_df)"
   ]
  },
  {
   "cell_type": "code",
   "execution_count": 15,
   "metadata": {},
   "outputs": [],
   "source": [
    "class FLAGS(object):\n",
    "    '''Parameters.'''\n",
    "    def __init__(self):\n",
    "        self.vocab_file = \"./bert/model/uncased_L-12_H-768_A-12/vocab.txt\"\n",
    "        self.do_lower_case = True\n",
    "        self.use_tpu = False\n",
    "        self.layers = \"-1\"\n",
    "        self.bert_config_file = \"./bert/model/uncased_L-12_H-768_A-12/bert_config.json\"\n",
    "        self.max_seq_length = 512\n",
    "        self.init_checkpoint = \"./bert/model/uncased_L-12_H-768_A-12/bert_model.ckpt\"\n",
    "        self.use_one_hot_embeddings = False\n",
    "        self.batch_size = 16\n",
    "        \n",
    "        # The following parameters are not used in predictions.\n",
    "        # Just use to create RunConfig.\n",
    "        self.master = None\n",
    "        self.save_checkpoints_steps = 1\n",
    "        self.iterations_per_loop = 1\n",
    "        self.num_tpu_cores = 1\n",
    "        self.learning_rate = 0\n",
    "        self.num_warmup_steps = 0\n",
    "        self.num_train_steps = 0\n",
    "        self.train_batch_size = 0\n",
    "        self.eval_batch_size = 0\n",
    "\n",
    "FLAGS = FLAGS()"
   ]
  },
  {
   "cell_type": "code",
   "execution_count": 16,
   "metadata": {},
   "outputs": [],
   "source": [
    "layer_indexes = [int(x) for x in FLAGS.layers.split(\",\")]\n",
    "\n",
    "bert_config = modeling.BertConfig.from_json_file(FLAGS.bert_config_file)\n",
    "\n",
    "tokenizer = tokenization.FullTokenizer(\n",
    "  vocab_file=FLAGS.vocab_file, do_lower_case=FLAGS.do_lower_case)\n",
    "\n",
    "is_per_host = tf.contrib.tpu.InputPipelineConfig.PER_HOST_V2\n",
    "run_config = tf.contrib.tpu.RunConfig(\n",
    "  master=FLAGS.master,\n",
    "  tpu_config=tf.contrib.tpu.TPUConfig(\n",
    "      num_shards=FLAGS.num_tpu_cores,\n",
    "      per_host_input_for_training=is_per_host))"
   ]
  },
  {
   "cell_type": "code",
   "execution_count": 17,
   "metadata": {},
   "outputs": [],
   "source": [
    "model_fn = model_fn_builder(\n",
    "  bert_config=bert_config,\n",
    "  init_checkpoint=FLAGS.init_checkpoint,\n",
    "  layer_indexes=layer_indexes,\n",
    "  use_tpu=FLAGS.use_tpu,\n",
    "  use_one_hot_embeddings=FLAGS.use_one_hot_embeddings)"
   ]
  },
  {
   "cell_type": "code",
   "execution_count": 18,
   "metadata": {},
   "outputs": [
    {
     "name": "stdout",
     "output_type": "stream",
     "text": [
      "WARNING:tensorflow:Estimator's model_fn (<function model_fn_builder.<locals>.model_fn at 0x7f54db56b488>) includes params argument, but params are not passed to Estimator.\n",
      "WARNING:tensorflow:Using temporary folder as model directory: /tmp/tmpq1_gmf5h\n",
      "INFO:tensorflow:Using config: {'_service': None, '_master': '', '_device_fn': None, '_model_dir': '/tmp/tmpq1_gmf5h', '_task_type': 'worker', '_cluster_spec': <tensorflow.python.training.server_lib.ClusterSpec object at 0x7f551c731a58>, '_protocol': None, '_session_config': allow_soft_placement: true\n",
      "graph_options {\n",
      "  rewrite_options {\n",
      "    meta_optimizer_iterations: ONE\n",
      "  }\n",
      "}\n",
      ", '_eval_distribute': None, '_is_chief': True, '_keep_checkpoint_every_n_hours': 10000, '_save_checkpoints_steps': None, '_num_worker_replicas': 1, '_num_ps_replicas': 0, '_task_id': 0, '_experimental_distribute': None, '_cluster': None, '_keep_checkpoint_max': 5, '_train_distribute': None, '_tpu_config': TPUConfig(iterations_per_loop=2, num_shards=1, num_cores_per_replica=None, per_host_input_for_training=3, tpu_job_name=None, initial_infeed_sleep_secs=None, input_partition_dims=None), '_log_step_count_steps': None, '_save_checkpoints_secs': 600, '_save_summary_steps': 100, '_evaluation_master': '', '_global_id_in_cluster': 0, '_tf_random_seed': None}\n",
      "WARNING:tensorflow:Setting TPUConfig.num_shards==1 is an unsupported behavior. Please fix as soon as possible (leaving num_shards as None.)\n",
      "INFO:tensorflow:_TPUContext: eval_on_tpu True\n",
      "WARNING:tensorflow:eval_on_tpu ignored because use_tpu is False.\n"
     ]
    }
   ],
   "source": [
    "estimator = tf.contrib.tpu.TPUEstimator(\n",
    "  use_tpu=FLAGS.use_tpu,\n",
    "  model_fn=model_fn,\n",
    "  config=run_config,\n",
    "  predict_batch_size=FLAGS.batch_size)"
   ]
  },
  {
   "cell_type": "code",
   "execution_count": 19,
   "metadata": {},
   "outputs": [],
   "source": [
    "def extract_features(fpath):\n",
    "    examples = read_examples(fpath)\n",
    "    features = convert_examples_to_features(examples=examples, seq_length=FLAGS.max_seq_length, tokenizer=tokenizer)\n",
    "\n",
    "    unique_id_to_feature = {}\n",
    "    for feature in features:\n",
    "        unique_id_to_feature[feature.unique_id] = feature\n",
    "\n",
    "    input_fn = input_fn_builder(features=features, seq_length=FLAGS.max_seq_length)\n",
    "\n",
    "    results =  np.empty((0,768), float)\n",
    "\n",
    "    for result in estimator.predict(input_fn, yield_single_examples=True):\n",
    "        results = np.append(results, result['layer_output_0'][0].reshape(1,768), axis=0 )\n",
    "    \n",
    "    return results"
   ]
  },
  {
   "cell_type": "code",
   "execution_count": 27,
   "metadata": {},
   "outputs": [],
   "source": [
    "training_app_feature_df = pd.DataFrame({\n",
    "    'app_id' : training_app_df['app_id'],\n",
    "    'feature' : [elem for elem in extract_features(train_tmpf.name)]\n",
    "})\n",
    "\n",
    "training_app_feature_df.to_pickle(\"../data/training_app_feature_1000.pkl\")"
   ]
  },
  {
   "cell_type": "code",
   "execution_count": 26,
   "metadata": {},
   "outputs": [],
   "source": [
    "testset_app_feature_df = pd.DataFrame({\n",
    "    'app_id' : testset_app_df['app_id'],\n",
    "    'feature' : [elem for elem in extract_features(test_tmpf.name)]\n",
    "})\n",
    "\n",
    "testset_app_feature_df.to_pickle(\"../data/testset_app_feature_1000.pkl\")"
   ]
  },
  {
   "cell_type": "code",
   "execution_count": 25,
   "metadata": {},
   "outputs": [],
   "source": [
    "grants_app_feature_df = pd.DataFrame({\n",
    "    'parsed' : grants_target_df['parsed'],\n",
    "    'feature' : [elem for elem in extract_features(grants_tmpf.name)]\n",
    "})\n",
    "\n",
    "grants_app_feature_df.to_pickle(\"../data/grants_feature_2000.pkl\")"
   ]
  },
  {
   "cell_type": "code",
   "execution_count": null,
   "metadata": {},
   "outputs": [],
   "source": []
  },
  {
   "cell_type": "code",
   "execution_count": null,
   "metadata": {},
   "outputs": [],
   "source": []
  },
  {
   "cell_type": "code",
   "execution_count": null,
   "metadata": {},
   "outputs": [],
   "source": []
  },
  {
   "cell_type": "markdown",
   "metadata": {},
   "source": [
    "## Prepare data for circulum tripletloss learning\n",
    "\n",
    "You need execute the following cells everytime."
   ]
  },
  {
   "cell_type": "code",
   "execution_count": 1,
   "metadata": {},
   "outputs": [],
   "source": [
    "import random\n",
    "import pandas as pd\n",
    "import numpy as np\n",
    "import pickle\n",
    "from collections import OrderedDict"
   ]
  },
  {
   "cell_type": "code",
   "execution_count": 2,
   "metadata": {},
   "outputs": [],
   "source": [
    "citations_info_target = pd.read_pickle(\"../data/citations_info_2000.df.gz\")\n",
    "train_app_feature_1000 = pd.read_pickle(\"../data/training_app_feature_1000.pkl\")\n",
    "test_app_feature_1000 = pd.read_pickle(\"../data/testset_app_feature_1000.pkl\")\n",
    "grants_feature_2000 = pd.read_pickle(\"../data/grants_feature_2000.pkl\")"
   ]
  },
  {
   "cell_type": "code",
   "execution_count": 3,
   "metadata": {},
   "outputs": [
    {
     "data": {
      "text/html": [
       "<div>\n",
       "<style scoped>\n",
       "    .dataframe tbody tr th:only-of-type {\n",
       "        vertical-align: middle;\n",
       "    }\n",
       "\n",
       "    .dataframe tbody tr th {\n",
       "        vertical-align: top;\n",
       "    }\n",
       "\n",
       "    .dataframe thead th {\n",
       "        text-align: right;\n",
       "    }\n",
       "</style>\n",
       "<table border=\"1\" class=\"dataframe\">\n",
       "  <thead>\n",
       "    <tr style=\"text-align: right;\">\n",
       "      <th></th>\n",
       "      <th>app_id</th>\n",
       "      <th>app_fnm</th>\n",
       "      <th>citation_pat_pgpub_id</th>\n",
       "      <th>parsed</th>\n",
       "      <th>ifw_number</th>\n",
       "      <th>action_type</th>\n",
       "      <th>action_subtype</th>\n",
       "      <th>form892</th>\n",
       "      <th>form1449</th>\n",
       "      <th>citation_in_oa</th>\n",
       "      <th>...</th>\n",
       "      <th>rejection_103</th>\n",
       "      <th>rejection_112</th>\n",
       "      <th>rejection_dp</th>\n",
       "      <th>objection</th>\n",
       "      <th>allowed_claims</th>\n",
       "      <th>cite102_gt1</th>\n",
       "      <th>cite103_gt3</th>\n",
       "      <th>cite103_eq1</th>\n",
       "      <th>cite103_max</th>\n",
       "      <th>signature_type</th>\n",
       "    </tr>\n",
       "  </thead>\n",
       "  <tbody>\n",
       "    <tr>\n",
       "      <th>0</th>\n",
       "      <td>13371769</td>\n",
       "      <td>/work/data/apps/2012/ipa120607/F_2322.xml</td>\n",
       "      <td>7391316</td>\n",
       "      <td>7391316</td>\n",
       "      <td>H20LX5QGPXXIFW4</td>\n",
       "      <td>103.0</td>\n",
       "      <td>a</td>\n",
       "      <td>1</td>\n",
       "      <td>0</td>\n",
       "      <td>1</td>\n",
       "      <td>...</td>\n",
       "      <td>1</td>\n",
       "      <td>0</td>\n",
       "      <td>1</td>\n",
       "      <td>0</td>\n",
       "      <td>0</td>\n",
       "      <td>0</td>\n",
       "      <td>0</td>\n",
       "      <td>1</td>\n",
       "      <td>2</td>\n",
       "      <td>0</td>\n",
       "    </tr>\n",
       "    <tr>\n",
       "      <th>1</th>\n",
       "      <td>13371769</td>\n",
       "      <td>/work/data/apps/2012/ipa120607/F_2322.xml</td>\n",
       "      <td>6992580</td>\n",
       "      <td>6992580</td>\n",
       "      <td>H20LX5QGPXXIFW4</td>\n",
       "      <td>102.0</td>\n",
       "      <td>a</td>\n",
       "      <td>1</td>\n",
       "      <td>1</td>\n",
       "      <td>1</td>\n",
       "      <td>...</td>\n",
       "      <td>1</td>\n",
       "      <td>0</td>\n",
       "      <td>1</td>\n",
       "      <td>0</td>\n",
       "      <td>0</td>\n",
       "      <td>0</td>\n",
       "      <td>0</td>\n",
       "      <td>1</td>\n",
       "      <td>2</td>\n",
       "      <td>0</td>\n",
       "    </tr>\n",
       "  </tbody>\n",
       "</table>\n",
       "<p>2 rows × 41 columns</p>\n",
       "</div>"
      ],
      "text/plain": [
       "     app_id                                    app_fnm citation_pat_pgpub_id  \\\n",
       "0  13371769  /work/data/apps/2012/ipa120607/F_2322.xml               7391316   \n",
       "1  13371769  /work/data/apps/2012/ipa120607/F_2322.xml               6992580   \n",
       "\n",
       "    parsed       ifw_number  action_type action_subtype  form892  form1449  \\\n",
       "0  7391316  H20LX5QGPXXIFW4        103.0              a        1         0   \n",
       "1  6992580  H20LX5QGPXXIFW4        102.0              a        1         1   \n",
       "\n",
       "   citation_in_oa      ...       rejection_103  rejection_112  rejection_dp  \\\n",
       "0               1      ...                   1              0             1   \n",
       "1               1      ...                   1              0             1   \n",
       "\n",
       "   objection allowed_claims cite102_gt1  cite103_gt3 cite103_eq1  cite103_max  \\\n",
       "0          0              0           0            0           1            2   \n",
       "1          0              0           0            0           1            2   \n",
       "\n",
       "  signature_type  \n",
       "0              0  \n",
       "1              0  \n",
       "\n",
       "[2 rows x 41 columns]"
      ]
     },
     "execution_count": 3,
     "metadata": {},
     "output_type": "execute_result"
    }
   ],
   "source": [
    "citations_info_target.head(2)"
   ]
  },
  {
   "cell_type": "code",
   "execution_count": 4,
   "metadata": {},
   "outputs": [
    {
     "data": {
      "text/html": [
       "<div>\n",
       "<style scoped>\n",
       "    .dataframe tbody tr th:only-of-type {\n",
       "        vertical-align: middle;\n",
       "    }\n",
       "\n",
       "    .dataframe tbody tr th {\n",
       "        vertical-align: top;\n",
       "    }\n",
       "\n",
       "    .dataframe thead th {\n",
       "        text-align: right;\n",
       "    }\n",
       "</style>\n",
       "<table border=\"1\" class=\"dataframe\">\n",
       "  <thead>\n",
       "    <tr style=\"text-align: right;\">\n",
       "      <th></th>\n",
       "      <th>app_id</th>\n",
       "      <th>feature</th>\n",
       "    </tr>\n",
       "  </thead>\n",
       "  <tbody>\n",
       "    <tr>\n",
       "      <th>0</th>\n",
       "      <td>14222691</td>\n",
       "      <td>[-0.8012277483940125, 0.3682347536087036, -0.4...</td>\n",
       "    </tr>\n",
       "    <tr>\n",
       "      <th>1</th>\n",
       "      <td>12515852</td>\n",
       "      <td>[-1.1272308826446533, -0.17207229137420654, -0...</td>\n",
       "    </tr>\n",
       "  </tbody>\n",
       "</table>\n",
       "</div>"
      ],
      "text/plain": [
       "     app_id                                            feature\n",
       "0  14222691  [-0.8012277483940125, 0.3682347536087036, -0.4...\n",
       "1  12515852  [-1.1272308826446533, -0.17207229137420654, -0..."
      ]
     },
     "execution_count": 4,
     "metadata": {},
     "output_type": "execute_result"
    }
   ],
   "source": [
    "train_app_feature_1000.head(2)"
   ]
  },
  {
   "cell_type": "code",
   "execution_count": 5,
   "metadata": {},
   "outputs": [
    {
     "data": {
      "text/html": [
       "<div>\n",
       "<style scoped>\n",
       "    .dataframe tbody tr th:only-of-type {\n",
       "        vertical-align: middle;\n",
       "    }\n",
       "\n",
       "    .dataframe tbody tr th {\n",
       "        vertical-align: top;\n",
       "    }\n",
       "\n",
       "    .dataframe thead th {\n",
       "        text-align: right;\n",
       "    }\n",
       "</style>\n",
       "<table border=\"1\" class=\"dataframe\">\n",
       "  <thead>\n",
       "    <tr style=\"text-align: right;\">\n",
       "      <th></th>\n",
       "      <th>parsed</th>\n",
       "      <th>feature</th>\n",
       "    </tr>\n",
       "  </thead>\n",
       "  <tbody>\n",
       "    <tr>\n",
       "      <th>0</th>\n",
       "      <td>6837383</td>\n",
       "      <td>[-0.9908803701400757, 0.2743351459503174, -0.0...</td>\n",
       "    </tr>\n",
       "    <tr>\n",
       "      <th>1</th>\n",
       "      <td>6837647</td>\n",
       "      <td>[-0.6510910391807556, 0.13378533720970154, -0....</td>\n",
       "    </tr>\n",
       "  </tbody>\n",
       "</table>\n",
       "</div>"
      ],
      "text/plain": [
       "    parsed                                            feature\n",
       "0  6837383  [-0.9908803701400757, 0.2743351459503174, -0.0...\n",
       "1  6837647  [-0.6510910391807556, 0.13378533720970154, -0...."
      ]
     },
     "execution_count": 5,
     "metadata": {},
     "output_type": "execute_result"
    }
   ],
   "source": [
    "grants_feature_2000.head(2)"
   ]
  },
  {
   "cell_type": "code",
   "execution_count": 6,
   "metadata": {},
   "outputs": [],
   "source": [
    "train_normalized_feature_dict_1000 = { \n",
    "    k:v/np.linalg.norm(v) for k,v in zip(train_app_feature_1000['app_id'], train_app_feature_1000['feature'])\n",
    "}"
   ]
  },
  {
   "cell_type": "code",
   "execution_count": 7,
   "metadata": {},
   "outputs": [],
   "source": [
    "grants_normalized_feature_dict_2000 = { \n",
    "    k:v/np.linalg.norm(v) for k,v in zip(grants_feature_2000['parsed'], grants_feature_2000['feature'])\n",
    "}"
   ]
  },
  {
   "cell_type": "code",
   "execution_count": 8,
   "metadata": {},
   "outputs": [
    {
     "name": "stdout",
     "output_type": "stream",
     "text": [
      "CPU times: user 17.6 s, sys: 261 ms, total: 17.8 s\n",
      "Wall time: 17.8 s\n"
     ]
    }
   ],
   "source": [
    "%%time\n",
    "\n",
    "sim_dict = {\n",
    "    app_id:{ parsed:np.sum(train_normalized_feature_dict_1000[app_id]*grants_normalized_feature_dict_2000[parsed])\n",
    "            for parsed \n",
    "            in grants_feature_2000['parsed'] } \n",
    "    for app_id \n",
    "    in train_app_feature_1000['app_id']\n",
    "}"
   ]
  },
  {
   "cell_type": "code",
   "execution_count": 9,
   "metadata": {
    "scrolled": true
   },
   "outputs": [
    {
     "data": {
      "text/plain": [
       "12411468"
      ]
     },
     "execution_count": 9,
     "metadata": {},
     "output_type": "execute_result"
    }
   ],
   "source": [
    "list(sim_dict.keys())[0]"
   ]
  },
  {
   "cell_type": "code",
   "execution_count": 10,
   "metadata": {},
   "outputs": [
    {
     "data": {
      "text/plain": [
       "[0.5762169750690092,\n",
       " 0.6097554784789876,\n",
       " 0.6223759222249304,\n",
       " 0.6421321976972119,\n",
       " 0.6643671272890019]"
      ]
     },
     "execution_count": 10,
     "metadata": {},
     "output_type": "execute_result"
    }
   ],
   "source": [
    "sorted( sim_dict[12411468].values() )[:5]"
   ]
  },
  {
   "cell_type": "code",
   "execution_count": 11,
   "metadata": {},
   "outputs": [],
   "source": [
    "def sort_similarity_by_value(sim_dict, app_id):\n",
    "    '''\n",
    "    input:\n",
    "        sim_dict: similary dictionary\n",
    "        app_id: target application id\n",
    "    return:\n",
    "        [(parsed1, sim1), (parsed2, sim2), ...] sorted by similarities\n",
    "    '''\n",
    "    return [(parsed, sim_dict[app_id][parsed]) for parsed in sorted(sim_dict[app_id], key=sim_dict[app_id].get)]"
   ]
  },
  {
   "cell_type": "code",
   "execution_count": 12,
   "metadata": {},
   "outputs": [],
   "source": [
    "def get_cited_grants(citations_info_target, app_id):\n",
    "    '''\n",
    "    input:\n",
    "        citations_info_target: DataFrame of citation relationships\n",
    "        app_id: target application id\n",
    "    return:\n",
    "        {parsed1, parsed2, ...} that are cited to reject app_id\n",
    "    '''\n",
    "    return set(citations_info_target[citations_info_target['app_id'] == app_id]['parsed'])"
   ]
  },
  {
   "cell_type": "code",
   "execution_count": 13,
   "metadata": {},
   "outputs": [],
   "source": [
    "def make_uncited_grants_for_app_id(sim_dict, citations_info_target, app_id, sidx, eidx, num, shuffle=True):\n",
    "    '''\n",
    "    input:\n",
    "        sim_dict: \n",
    "        citations_info_target:\n",
    "        app_id: target application id\n",
    "        sidx: start index to slice the sorted (parsed, sim) list\n",
    "        eidx: end index to slice the sorted (parsed, sim) list\n",
    "        num: number of grants that will be returned\n",
    "    return:\n",
    "        [parsed_1, parsed_2, ..., parsed_num] that are NOT cited to reject app_id\n",
    "    '''\n",
    "    sorted_grants_list = sort_similarity_by_value(sim_dict, app_id)\n",
    "    sorted_grants_list = sorted_grants_list[sidx:eidx]\n",
    "    if shuffle:\n",
    "        random.shuffle(sorted_grants_list)\n",
    "    \n",
    "    cited_grants = get_cited_grants(citations_info_target, app_id)\n",
    "    uncited_grants = []\n",
    "    \n",
    "    idx = 0\n",
    "    while len(uncited_grants) != num:\n",
    "        grant_id, _ = sorted_grants_list[idx]\n",
    "        if not grant_id in cited_grants:\n",
    "            uncited_grants.append(grant_id)\n",
    "        idx += 1\n",
    "    \n",
    "    return uncited_grants"
   ]
  },
  {
   "cell_type": "markdown",
   "metadata": {},
   "source": [
    "To return different uncited grants each call, change random seed as below."
   ]
  },
  {
   "cell_type": "code",
   "execution_count": 14,
   "metadata": {},
   "outputs": [
    {
     "data": {
      "text/plain": [
       "[7307125, 7375078, 7528825, 7122517]"
      ]
     },
     "execution_count": 14,
     "metadata": {},
     "output_type": "execute_result"
    }
   ],
   "source": [
    "random.seed(0)\n",
    "make_uncited_grants_for_app_id(sim_dict, citations_info_target, 12411468, 0, 100, 4)"
   ]
  },
  {
   "cell_type": "code",
   "execution_count": 15,
   "metadata": {},
   "outputs": [
    {
     "data": {
      "text/plain": [
       "[7300765, 7132574, 7337285, 7168415]"
      ]
     },
     "execution_count": 15,
     "metadata": {},
     "output_type": "execute_result"
    }
   ],
   "source": [
    "random.seed(1)\n",
    "make_uncited_grants_for_app_id(sim_dict, citations_info_target, 12411468, 0, 100, 4)"
   ]
  },
  {
   "cell_type": "code",
   "execution_count": 16,
   "metadata": {},
   "outputs": [],
   "source": [
    "def create_triplet_pairs(sidx, eidx):\n",
    "    all_elems = []\n",
    "    \n",
    "    for app_id in train_app_feature_1000['app_id']:\n",
    "        cited_grants = get_cited_grants(citations_info_target, app_id)\n",
    "        num_cited_grants = len(cited_grants)\n",
    "        uncited_grants = make_uncited_grants_for_app_id(\n",
    "            sim_dict, citations_info_target, app_id, sidx, eidx, num_cited_grants)\n",
    "        \n",
    "        for idx, cited in enumerate(cited_grants):\n",
    "            all_elems.append([app_id, cited, uncited_grants[idx]])\n",
    "    \n",
    "    result_df = pd.DataFrame(all_elems)\n",
    "    result_df.columns = ['app_id', 'cited_grants', 'uncited_grants']\n",
    "    \n",
    "    return result_df"
   ]
  },
  {
   "cell_type": "code",
   "execution_count": 17,
   "metadata": {},
   "outputs": [
    {
     "name": "stdout",
     "output_type": "stream",
     "text": [
      "CPU times: user 3.88 s, sys: 88.3 ms, total: 3.96 s\n",
      "Wall time: 3.81 s\n"
     ]
    }
   ],
   "source": [
    "%%time\n",
    "\n",
    "random.seed(0)\n",
    "test = create_triplet_pairs(0, 100)"
   ]
  },
  {
   "cell_type": "code",
   "execution_count": 18,
   "metadata": {},
   "outputs": [
    {
     "data": {
      "text/html": [
       "<div>\n",
       "<style scoped>\n",
       "    .dataframe tbody tr th:only-of-type {\n",
       "        vertical-align: middle;\n",
       "    }\n",
       "\n",
       "    .dataframe tbody tr th {\n",
       "        vertical-align: top;\n",
       "    }\n",
       "\n",
       "    .dataframe thead th {\n",
       "        text-align: right;\n",
       "    }\n",
       "</style>\n",
       "<table border=\"1\" class=\"dataframe\">\n",
       "  <thead>\n",
       "    <tr style=\"text-align: right;\">\n",
       "      <th></th>\n",
       "      <th>app_id</th>\n",
       "      <th>cited_grants</th>\n",
       "      <th>uncited_grants</th>\n",
       "    </tr>\n",
       "  </thead>\n",
       "  <tbody>\n",
       "    <tr>\n",
       "      <th>0</th>\n",
       "      <td>14222691</td>\n",
       "      <td>8206188</td>\n",
       "      <td>7419945</td>\n",
       "    </tr>\n",
       "    <tr>\n",
       "      <th>1</th>\n",
       "      <td>14222691</td>\n",
       "      <td>8177561</td>\n",
       "      <td>7263952</td>\n",
       "    </tr>\n",
       "  </tbody>\n",
       "</table>\n",
       "</div>"
      ],
      "text/plain": [
       "     app_id  cited_grants  uncited_grants\n",
       "0  14222691       8206188         7419945\n",
       "1  14222691       8177561         7263952"
      ]
     },
     "execution_count": 18,
     "metadata": {},
     "output_type": "execute_result"
    }
   ],
   "source": [
    "test.head(2)"
   ]
  },
  {
   "cell_type": "code",
   "execution_count": 19,
   "metadata": {},
   "outputs": [
    {
     "data": {
      "text/plain": [
       "1282"
      ]
     },
     "execution_count": 19,
     "metadata": {},
     "output_type": "execute_result"
    }
   ],
   "source": [
    "len(test)"
   ]
  },
  {
   "cell_type": "code",
   "execution_count": 20,
   "metadata": {},
   "outputs": [],
   "source": [
    "random.seed(1)\n",
    "test = create_triplet_pairs(0, 100)"
   ]
  },
  {
   "cell_type": "code",
   "execution_count": 21,
   "metadata": {},
   "outputs": [
    {
     "data": {
      "text/html": [
       "<div>\n",
       "<style scoped>\n",
       "    .dataframe tbody tr th:only-of-type {\n",
       "        vertical-align: middle;\n",
       "    }\n",
       "\n",
       "    .dataframe tbody tr th {\n",
       "        vertical-align: top;\n",
       "    }\n",
       "\n",
       "    .dataframe thead th {\n",
       "        text-align: right;\n",
       "    }\n",
       "</style>\n",
       "<table border=\"1\" class=\"dataframe\">\n",
       "  <thead>\n",
       "    <tr style=\"text-align: right;\">\n",
       "      <th></th>\n",
       "      <th>app_id</th>\n",
       "      <th>cited_grants</th>\n",
       "      <th>uncited_grants</th>\n",
       "    </tr>\n",
       "  </thead>\n",
       "  <tbody>\n",
       "    <tr>\n",
       "      <th>0</th>\n",
       "      <td>14222691</td>\n",
       "      <td>8206188</td>\n",
       "      <td>6872766</td>\n",
       "    </tr>\n",
       "    <tr>\n",
       "      <th>1</th>\n",
       "      <td>14222691</td>\n",
       "      <td>8177561</td>\n",
       "      <td>7213468</td>\n",
       "    </tr>\n",
       "  </tbody>\n",
       "</table>\n",
       "</div>"
      ],
      "text/plain": [
       "     app_id  cited_grants  uncited_grants\n",
       "0  14222691       8206188         6872766\n",
       "1  14222691       8177561         7213468"
      ]
     },
     "execution_count": 21,
     "metadata": {},
     "output_type": "execute_result"
    }
   ],
   "source": [
    "test.head(2)"
   ]
  },
  {
   "cell_type": "code",
   "execution_count": null,
   "metadata": {},
   "outputs": [],
   "source": []
  },
  {
   "cell_type": "code",
   "execution_count": null,
   "metadata": {},
   "outputs": [],
   "source": []
  },
  {
   "cell_type": "code",
   "execution_count": null,
   "metadata": {},
   "outputs": [],
   "source": []
  },
  {
   "cell_type": "markdown",
   "metadata": {},
   "source": [
    "## Train model"
   ]
  },
  {
   "cell_type": "code",
   "execution_count": 22,
   "metadata": {},
   "outputs": [],
   "source": [
    "import os\n",
    "import tensorflow as tf\n",
    "\n",
    "tf.enable_eager_execution()\n",
    "tfe = tf.contrib.eager"
   ]
  },
  {
   "cell_type": "code",
   "execution_count": 23,
   "metadata": {},
   "outputs": [],
   "source": [
    "class Model(object):\n",
    "    def __init__(self, input_shape, output_shape):\n",
    "        self.input_shape = input_shape\n",
    "        self.output_shape = output_shape\n",
    "        self.W = tfe.Variable( tf.random_normal( [self.input_shape, self.output_shape] ), name='weight' )\n",
    "        self.B = tfe.Variable( tf.random_normal( [self.output_shape] ), name='bias' ) \n",
    "        self.variables = [ self.W, self.B ]\n",
    "    \n",
    "    def frwrd_pass(self,X_train):\n",
    "        out = tf.matmul( X_train, self.W ) + self.B\n",
    "        \n",
    "        return out"
   ]
  },
  {
   "cell_type": "code",
   "execution_count": 24,
   "metadata": {},
   "outputs": [],
   "source": [
    "def tripletloss(anchor_out, positive_out, negative_out, margin=0.2):\n",
    "    norm_a_out = tf.nn.l2_normalize(anchor_out, axis=1)\n",
    "    norm_p_out = tf.nn.l2_normalize(positive_out, axis=1)\n",
    "    norm_n_out = tf.nn.l2_normalize(negative_out, axis=1)\n",
    "    \n",
    "    d_pos = tf.losses.cosine_distance(norm_a_out, norm_p_out, axis=1)\n",
    "    d_neg = tf.losses.cosine_distance(norm_a_out, norm_n_out, axis=1)\n",
    "    \n",
    "    loss = tf.maximum(0.0, margin + d_pos - d_neg)\n",
    "    \n",
    "    return tf.reduce_mean(loss)"
   ]
  },
  {
   "cell_type": "code",
   "execution_count": 25,
   "metadata": {},
   "outputs": [],
   "source": [
    "def create_training_input_np(sidx, eidx):\n",
    "    anchor_list = []\n",
    "    positive_list = []\n",
    "    negative_list = []\n",
    "    \n",
    "    triplet_pairs = create_triplet_pairs(sidx, eidx)\n",
    "    \n",
    "    for row in triplet_pairs.itertuples():\n",
    "        anchor_list.append(train_normalized_feature_dict_1000[row.app_id])\n",
    "        positive_list.append(grants_normalized_feature_dict_2000[row.cited_grants])\n",
    "        negative_list.append(grants_normalized_feature_dict_2000[row.uncited_grants])\n",
    "    \n",
    "    return np.array([np.array(anchor_list), np.array(positive_list), np.array(negative_list)])"
   ]
  },
  {
   "cell_type": "code",
   "execution_count": 26,
   "metadata": {},
   "outputs": [],
   "source": [
    "def train_with_changing_negative_pair(sidx, eidx, batch_size, epochs):\n",
    "    optimizer = tf.train.AdamOptimizer(learning_rate=0.00001)\n",
    "    \n",
    "    seed = 0\n",
    "    for i in range(epochs):\n",
    "        seed += 1\n",
    "        random.seed(seed)\n",
    "        \n",
    "        input_data_np = create_training_input_np(sidx, eidx)\n",
    "        data_num = int(input_data_np.shape[1])\n",
    "        rand_idx = np.random.permutation(data_num)\n",
    "        index_data_np = np.array([\n",
    "            input_data_np[0][rand_idx], \n",
    "            input_data_np[1][rand_idx], \n",
    "            input_data_np[2][rand_idx]])\n",
    "\n",
    "        input_data = tf.convert_to_tensor(input_data_np, dtype=tf.float32)\n",
    "        anchor_data, positive_data, negative_data = input_data\n",
    "\n",
    "        for iter_id in range(data_num // batch_size):        \n",
    "            with tf.GradientTape() as tape:\n",
    "                anchor_out = model.frwrd_pass(anchor_data[iter_id*batch_size : (iter_id+1)*batch_size])\n",
    "                positive_out = model.frwrd_pass(positive_data[iter_id*batch_size : (iter_id+1)*batch_size])\n",
    "                negative_out = model.frwrd_pass(negative_data[iter_id*batch_size : (iter_id+1)*batch_size])\n",
    "                curr_loss = tripletloss(anchor_out, positive_out, negative_out)\n",
    "            grads = tape.gradient( curr_loss, model.variables )\n",
    "            optimizer.apply_gradients(zip(grads, model.variables), global_step=tf.train.get_or_create_global_step())\n",
    "\n",
    "        if i % 10 == 0:\n",
    "            print( \"Loss at step {:d}: {:.5f}\".format(i, curr_loss) )"
   ]
  },
  {
   "cell_type": "code",
   "execution_count": 27,
   "metadata": {},
   "outputs": [],
   "source": [
    "# start_end_index_pairs = (\n",
    "#     (0, 100),\n",
    "#     (100, 200),\n",
    "#     (200, 300),\n",
    "#     (300, 400),\n",
    "#     (400, 500),\n",
    "#     (500, 600),\n",
    "#     (600, 700),\n",
    "#     (700, 800),\n",
    "#     (800, 900),\n",
    "#     (900, 1000),\n",
    "#     (1000, 1100),\n",
    "#     (1100, 1200),\n",
    "#     (1200, 1300),\n",
    "#     (1300, 1400),\n",
    "#     (1400, 1500),\n",
    "#     (1500, 1600),\n",
    "#     (1600, 1700),\n",
    "#     (1700, 1800),\n",
    "#     (1800, 1900),\n",
    "#     (1900, 2000)\n",
    "# )\n",
    "\n",
    "# start_end_index_pairs = (\n",
    "#     (0, 400),\n",
    "#     (400, 800),\n",
    "#     (800, 1200),\n",
    "#     (1200, 1600),\n",
    "#     (1600, 2000)\n",
    "# )\n",
    "\n",
    "start_end_index_pairs = (\n",
    "    (0, 100),\n",
    "    (900, 1000),\n",
    "    (1900, 2000)\n",
    ")"
   ]
  },
  {
   "cell_type": "code",
   "execution_count": 28,
   "metadata": {},
   "outputs": [],
   "source": [
    "model = Model(input_shape=768, output_shape=100)"
   ]
  },
  {
   "cell_type": "code",
   "execution_count": 29,
   "metadata": {},
   "outputs": [
    {
     "name": "stdout",
     "output_type": "stream",
     "text": [
      "   start index: 0, end index: 100\n",
      "Loss at step 0: 0.13761\n",
      "Loss at step 10: 0.12413\n",
      "Loss at step 20: 0.07982\n",
      "   start index: 900, end index: 1000\n",
      "Loss at step 0: 0.16748\n",
      "Loss at step 10: 0.16927\n",
      "Loss at step 20: 0.14770\n",
      "   start index: 1900, end index: 2000\n",
      "Loss at step 0: 0.19712\n",
      "Loss at step 10: 0.18856\n",
      "Loss at step 20: 0.19363\n",
      "CPU times: user 6min, sys: 11.8 s, total: 6min 11s\n",
      "Wall time: 5min 43s\n"
     ]
    }
   ],
   "source": [
    "%%time\n",
    "\n",
    "# for sidx, eidx in start_end_index_pairs:\n",
    "#     print(\"   start index: {}, end index: {}\".format(sidx,eidx))\n",
    "#     train_with_changing_negative_pair(sidx, eidx, batch_size=10, epochs=31)\n",
    "\n",
    "# for sidx, eidx in start_end_index_pairs:\n",
    "#     print(\"   start index: {}, end index: {}\".format(sidx,eidx))\n",
    "#     train_with_changing_negative_pair(sidx, eidx, batch_size=10, epochs=51)\n",
    "\n",
    "for sidx, eidx in start_end_index_pairs:\n",
    "    print(\"   start index: {}, end index: {}\".format(sidx,eidx))\n",
    "    train_with_changing_negative_pair(sidx, eidx, batch_size=10, epochs=21)"
   ]
  },
  {
   "cell_type": "code",
   "execution_count": 33,
   "metadata": {},
   "outputs": [],
   "source": [
    "os.makedirs('../trained_model/tripletloss_circulum', exist_ok=True)\n",
    "saver = tfe.Saver(model.variables)\n",
    "saver.save(\"../trained_model/tripletloss_circulum/ckpt\")"
   ]
  },
  {
   "cell_type": "code",
   "execution_count": null,
   "metadata": {},
   "outputs": [],
   "source": []
  },
  {
   "cell_type": "code",
   "execution_count": null,
   "metadata": {},
   "outputs": [],
   "source": []
  },
  {
   "cell_type": "code",
   "execution_count": null,
   "metadata": {},
   "outputs": [],
   "source": []
  },
  {
   "cell_type": "markdown",
   "metadata": {},
   "source": [
    "## Inferece with trained model"
   ]
  },
  {
   "cell_type": "code",
   "execution_count": 36,
   "metadata": {},
   "outputs": [],
   "source": [
    "import pandas as pd\n",
    "import numpy as np\n",
    "import pickle"
   ]
  },
  {
   "cell_type": "code",
   "execution_count": 37,
   "metadata": {},
   "outputs": [],
   "source": [
    "citations_info_target = pd.read_pickle(\"../data/citations_info_2000.df.gz\")\n",
    "test_app_feature_1000 = pd.read_pickle(\"../data/testset_app_feature_1000.pkl\")\n",
    "grants_feature_2000 = pd.read_pickle(\"../data/grants_feature_2000.pkl\")"
   ]
  },
  {
   "cell_type": "code",
   "execution_count": 38,
   "metadata": {},
   "outputs": [],
   "source": [
    "test_normalized_feature_dict_1000 = { \n",
    "    k:v/np.linalg.norm(v) for k,v in zip(test_app_feature_1000['app_id'], test_app_feature_1000['feature'])\n",
    "}\n",
    "\n",
    "grants_normalized_feature_dict_2000 = { \n",
    "    k:v/np.linalg.norm(v) for k,v in zip(grants_feature_2000['parsed'], grants_feature_2000['feature'])\n",
    "}"
   ]
  },
  {
   "cell_type": "code",
   "execution_count": 39,
   "metadata": {},
   "outputs": [],
   "source": [
    "def sort_similarity_by_value(sim_dict, app_id):\n",
    "    '''\n",
    "    input:\n",
    "        sim_dict: similary dictionary\n",
    "        app_id: target application id\n",
    "    return:\n",
    "        [(parsed1, sim1), (parsed2, sim2), ...] sorted by similarities\n",
    "    '''\n",
    "    return [(parsed, sim_dict[app_id][parsed]) for parsed in sorted(sim_dict[app_id], key=sim_dict[app_id].get)]"
   ]
  },
  {
   "cell_type": "code",
   "execution_count": 40,
   "metadata": {},
   "outputs": [],
   "source": [
    "def get_cited_grants(citations_info_target, app_id):\n",
    "    '''\n",
    "    input:\n",
    "        citations_info_target: DataFrame of citation relationships\n",
    "        app_id: target application id\n",
    "    return:\n",
    "        {parsed1, parsed2, ...} that are cited to reject app_id\n",
    "    '''\n",
    "    return set(citations_info_target[citations_info_target['app_id'] == app_id]['parsed'])"
   ]
  },
  {
   "cell_type": "code",
   "execution_count": 41,
   "metadata": {},
   "outputs": [],
   "source": [
    "import os\n",
    "import tensorflow as tf\n",
    "\n",
    "tf.enable_eager_execution()\n",
    "tfe = tf.contrib.eager\n",
    "\n",
    "class Model(object):\n",
    "    def __init__(self, input_shape, output_shape):\n",
    "        self.input_shape = input_shape\n",
    "        self.output_shape = output_shape\n",
    "        self.W = tfe.Variable( tf.random_normal( [self.input_shape, self.output_shape] ), name='weight' )\n",
    "        self.B = tfe.Variable( tf.random_normal( [self.output_shape] ), name='bias' ) \n",
    "        self.variables = [ self.W, self.B ]\n",
    "    \n",
    "    def frwrd_pass(self,X_train):\n",
    "        out = tf.matmul( X_train, self.W ) + self.B\n",
    "        \n",
    "        return out"
   ]
  },
  {
   "cell_type": "code",
   "execution_count": 2,
   "metadata": {},
   "outputs": [],
   "source": [
    "model = Model(input_shape=768, output_shape=100)\n",
    "tfe.Saver((model.variables)).restore(\"../trained_model/tripletloss_circulum/ckpt\")"
   ]
  },
  {
   "cell_type": "code",
   "execution_count": 42,
   "metadata": {},
   "outputs": [],
   "source": [
    "sorted_keys = sorted(test_normalized_feature_dict_1000.keys())\n",
    "\n",
    "test_feature_tensors = tf.convert_to_tensor(\n",
    "    np.array([ test_normalized_feature_dict_1000[k] for k in sorted_keys ]),\n",
    "    dtype=tf.float32)"
   ]
  },
  {
   "cell_type": "code",
   "execution_count": 43,
   "metadata": {},
   "outputs": [],
   "source": [
    "test_extracted_features = model.frwrd_pass(test_feature_tensors).numpy()"
   ]
  },
  {
   "cell_type": "code",
   "execution_count": 44,
   "metadata": {},
   "outputs": [
    {
     "data": {
      "text/plain": [
       "(1000, 100)"
      ]
     },
     "execution_count": 44,
     "metadata": {},
     "output_type": "execute_result"
    }
   ],
   "source": [
    "test_extracted_features.shape"
   ]
  },
  {
   "cell_type": "code",
   "execution_count": 45,
   "metadata": {},
   "outputs": [],
   "source": [
    "test_extracted_features_df = pd.DataFrame({ \n",
    "    'app_id':sorted_keys, 'extracted_feature':[ v/np.linalg.norm(v) for v in test_extracted_features ]\n",
    "})"
   ]
  },
  {
   "cell_type": "code",
   "execution_count": 46,
   "metadata": {},
   "outputs": [
    {
     "data": {
      "text/html": [
       "<div>\n",
       "<style scoped>\n",
       "    .dataframe tbody tr th:only-of-type {\n",
       "        vertical-align: middle;\n",
       "    }\n",
       "\n",
       "    .dataframe tbody tr th {\n",
       "        vertical-align: top;\n",
       "    }\n",
       "\n",
       "    .dataframe thead th {\n",
       "        text-align: right;\n",
       "    }\n",
       "</style>\n",
       "<table border=\"1\" class=\"dataframe\">\n",
       "  <thead>\n",
       "    <tr style=\"text-align: right;\">\n",
       "      <th></th>\n",
       "      <th>app_id</th>\n",
       "      <th>extracted_feature</th>\n",
       "    </tr>\n",
       "  </thead>\n",
       "  <tbody>\n",
       "    <tr>\n",
       "      <th>0</th>\n",
       "      <td>12000862</td>\n",
       "      <td>[0.07616987, 0.0624041, -0.10485105, 0.0196705...</td>\n",
       "    </tr>\n",
       "    <tr>\n",
       "      <th>1</th>\n",
       "      <td>12003258</td>\n",
       "      <td>[0.1295955, 0.03865939, -0.06351629, 0.1217989...</td>\n",
       "    </tr>\n",
       "  </tbody>\n",
       "</table>\n",
       "</div>"
      ],
      "text/plain": [
       "     app_id                                  extracted_feature\n",
       "0  12000862  [0.07616987, 0.0624041, -0.10485105, 0.0196705...\n",
       "1  12003258  [0.1295955, 0.03865939, -0.06351629, 0.1217989..."
      ]
     },
     "execution_count": 46,
     "metadata": {},
     "output_type": "execute_result"
    }
   ],
   "source": [
    "test_extracted_features_df.head(2)"
   ]
  },
  {
   "cell_type": "code",
   "execution_count": 47,
   "metadata": {},
   "outputs": [],
   "source": [
    "sorted_keys = sorted(grants_normalized_feature_dict_2000.keys())\n",
    "\n",
    "grants_feature_tensors = tf.convert_to_tensor(\n",
    "    np.array([ grants_normalized_feature_dict_2000[k] for k in sorted_keys ]),\n",
    "    dtype=tf.float32)"
   ]
  },
  {
   "cell_type": "code",
   "execution_count": 48,
   "metadata": {},
   "outputs": [],
   "source": [
    "grants_extracted_features = model.frwrd_pass(grants_feature_tensors).numpy()"
   ]
  },
  {
   "cell_type": "code",
   "execution_count": 49,
   "metadata": {},
   "outputs": [
    {
     "data": {
      "text/plain": [
       "(2524, 100)"
      ]
     },
     "execution_count": 49,
     "metadata": {},
     "output_type": "execute_result"
    }
   ],
   "source": [
    "grants_extracted_features.shape"
   ]
  },
  {
   "cell_type": "code",
   "execution_count": 50,
   "metadata": {},
   "outputs": [],
   "source": [
    "grants_extracted_features_df = pd.DataFrame({ \n",
    "    'parsed':sorted_keys, 'extracted_feature':[ v/np.linalg.norm(v) for v in grants_extracted_features ]\n",
    "})"
   ]
  },
  {
   "cell_type": "code",
   "execution_count": 51,
   "metadata": {},
   "outputs": [
    {
     "data": {
      "text/html": [
       "<div>\n",
       "<style scoped>\n",
       "    .dataframe tbody tr th:only-of-type {\n",
       "        vertical-align: middle;\n",
       "    }\n",
       "\n",
       "    .dataframe tbody tr th {\n",
       "        vertical-align: top;\n",
       "    }\n",
       "\n",
       "    .dataframe thead th {\n",
       "        text-align: right;\n",
       "    }\n",
       "</style>\n",
       "<table border=\"1\" class=\"dataframe\">\n",
       "  <thead>\n",
       "    <tr style=\"text-align: right;\">\n",
       "      <th></th>\n",
       "      <th>extracted_feature</th>\n",
       "      <th>parsed</th>\n",
       "    </tr>\n",
       "  </thead>\n",
       "  <tbody>\n",
       "    <tr>\n",
       "      <th>0</th>\n",
       "      <td>[0.05692685, 0.033602506, -0.16931649, 0.07056...</td>\n",
       "      <td>6837383</td>\n",
       "    </tr>\n",
       "    <tr>\n",
       "      <th>1</th>\n",
       "      <td>[0.10059198, 0.011689524, -0.08415088, 0.09282...</td>\n",
       "      <td>6837647</td>\n",
       "    </tr>\n",
       "  </tbody>\n",
       "</table>\n",
       "</div>"
      ],
      "text/plain": [
       "                                   extracted_feature   parsed\n",
       "0  [0.05692685, 0.033602506, -0.16931649, 0.07056...  6837383\n",
       "1  [0.10059198, 0.011689524, -0.08415088, 0.09282...  6837647"
      ]
     },
     "execution_count": 51,
     "metadata": {},
     "output_type": "execute_result"
    }
   ],
   "source": [
    "grants_extracted_features_df.head(2)"
   ]
  },
  {
   "cell_type": "code",
   "execution_count": 52,
   "metadata": {},
   "outputs": [
    {
     "name": "stdout",
     "output_type": "stream",
     "text": [
      "CPU times: user 14 s, sys: 103 ms, total: 14.1 s\n",
      "Wall time: 14.1 s\n"
     ]
    }
   ],
   "source": [
    "%%time\n",
    "\n",
    "sim_dict = {\n",
    "    app_id:{ parsed:np.sum(test_f*grants_f)\n",
    "            for parsed, grants_f \n",
    "            in zip(grants_extracted_features_df['parsed'], grants_extracted_features_df['extracted_feature']) } \n",
    "    for app_id, test_f \n",
    "    in zip(test_extracted_features_df['app_id'], test_extracted_features_df['extracted_feature'])\n",
    "}"
   ]
  },
  {
   "cell_type": "code",
   "execution_count": 53,
   "metadata": {},
   "outputs": [
    {
     "name": "stdout",
     "output_type": "stream",
     "text": [
      "CPU times: user 3.56 s, sys: 78.6 ms, total: 3.64 s\n",
      "Wall time: 3.48 s\n"
     ]
    }
   ],
   "source": [
    "%%time\n",
    "\n",
    "all_ranks = []\n",
    "\n",
    "for app_id in test_extracted_features_df['app_id']:\n",
    "    cited_grants = get_cited_grants(citations_info_target, app_id)\n",
    "    sorted_kv = reversed(sort_similarity_by_value(sim_dict, app_id))  # higher score, similar patent\n",
    "\n",
    "    idx = 1\n",
    "    for k,v in sorted_kv:\n",
    "        if k in cited_grants:\n",
    "            all_ranks.append(idx)\n",
    "        idx += 1"
   ]
  },
  {
   "cell_type": "code",
   "execution_count": 49,
   "metadata": {},
   "outputs": [
    {
     "name": "stdout",
     "output_type": "stream",
     "text": [
      "Counter({1: 61, 5: 32, 2: 22, 3: 20, 8: 17, 4: 15, 6: 15, 7: 15, 17: 12, 10: 11, 11: 11, 9: 10, 16: 10, 12: 8, 52: 8, 35: 7, 43: 7, 48: 7, 55: 7, 69: 7, 13: 6, 14: 6, 18: 6, 19: 6, 22: 6, 23: 6, 27: 6, 29: 6, 36: 6, 37: 6, 62: 6, 81: 6, 88: 6, 99: 6, 108: 6, 15: 5, 20: 5, 21: 5, 26: 5, 28: 5, 41: 5, 42: 5, 51: 5, 63: 5, 66: 5, 71: 5, 83: 5, 92: 5, 118: 5, 125: 5, 133: 5, 24: 4, 32: 4, 33: 4, 34: 4, 39: 4, 44: 4, 47: 4, 56: 4, 79: 4, 97: 4, 107: 4, 114: 4, 131: 4, 134: 4, 154: 4, 155: 4, 160: 4, 189: 4, 216: 4, 221: 4, 25: 3, 30: 3, 38: 3, 40: 3, 45: 3, 75: 3, 76: 3, 77: 3, 87: 3, 90: 3, 96: 3, 101: 3, 103: 3, 104: 3, 115: 3, 122: 3, 126: 3, 135: 3, 140: 3, 150: 3, 163: 3, 179: 3, 186: 3, 31: 3, 200: 3, 211: 3, 249: 3, 172: 3, 267: 3, 271: 3, 293: 3, 319: 3, 322: 3, 373: 3, 378: 3, 406: 3, 418: 3, 430: 3, 436: 3, 452: 3, 475: 3, 121: 3, 136: 3, 49: 2, 50: 2, 53: 2, 57: 2, 59: 2, 60: 2, 61: 2, 64: 2, 68: 2, 72: 2, 1036: 2, 78: 2, 85: 2, 89: 2, 93: 2, 94: 2, 100: 2, 105: 2, 110: 2, 117: 2, 120: 2, 123: 2, 127: 2, 1161: 2, 1559: 2, 141: 2, 1172: 2, 156: 2, 158: 2, 159: 2, 164: 2, 166: 2, 170: 2, 173: 2, 174: 2, 178: 2, 183: 2, 198: 2, 207: 2, 209: 2, 214: 2, 222: 2, 225: 2, 228: 2, 229: 2, 230: 2, 234: 2, 240: 2, 248: 2, 251: 2, 254: 2, 265: 2, 275: 2, 281: 2, 283: 2, 391: 2, 302: 2, 315: 2, 1238: 2, 327: 2, 329: 2, 335: 2, 349: 2, 350: 2, 1375: 2, 361: 2, 377: 2, 399: 2, 405: 2, 409: 2, 412: 2, 416: 2, 421: 2, 424: 2, 426: 2, 1266: 2, 432: 2, 73: 2, 440: 2, 447: 2, 451: 2, 458: 2, 479: 2, 480: 2, 489: 2, 518: 2, 525: 2, 543: 2, 91: 2, 564: 2, 585: 2, 587: 2, 599: 2, 604: 2, 629: 2, 635: 2, 637: 2, 647: 2, 282: 2, 686: 2, 733: 2, 764: 2, 137: 2, 861: 2, 165: 2, 325: 2, 162: 2, 1024: 1, 1055: 1, 46: 1, 54: 1, 58: 1, 65: 1, 67: 1, 2118: 1, 74: 1, 80: 1, 82: 1, 84: 1, 86: 1, 2139: 1, 1119: 1, 98: 1, 1126: 1, 1130: 1, 1042: 1, 111: 1, 113: 1, 116: 1, 1145: 1, 124: 1, 128: 1, 1153: 1, 130: 1, 132: 1, 2184: 1, 138: 1, 1166: 1, 143: 1, 144: 1, 146: 1, 147: 1, 149: 1, 151: 1, 152: 1, 2201: 1, 161: 1, 1186: 1, 1189: 1, 167: 1, 169: 1, 1196: 1, 541: 1, 176: 1, 181: 1, 184: 1, 188: 1, 190: 1, 191: 1, 192: 1, 194: 1, 1228: 1, 202: 1, 1911: 1, 204: 1, 205: 1, 208: 1, 210: 1, 1236: 1, 1742: 1, 217: 1, 218: 1, 1244: 1, 223: 1, 224: 1, 226: 1, 227: 1, 232: 1, 1257: 1, 236: 1, 1262: 1, 1263: 1, 1265: 1, 242: 1, 1268: 1, 245: 1, 246: 1, 247: 1, 250: 1, 252: 1, 1281: 1, 258: 1, 1067: 1, 261: 1, 1293: 1, 270: 1, 272: 1, 273: 1, 1298: 1, 1032: 1, 280: 1, 1306: 1, 289: 1, 290: 1, 291: 1, 292: 1, 295: 1, 296: 1, 220: 1, 298: 1, 300: 1, 70: 1, 1245: 1, 304: 1, 305: 1, 306: 1, 1075: 1, 309: 1, 310: 1, 1336: 1, 313: 1, 314: 1, 316: 1, 321: 1, 323: 1, 1348: 1, 1078: 1, 326: 1, 330: 1, 331: 1, 332: 1, 333: 1, 336: 1, 337: 1, 338: 1, 2388: 1, 342: 1, 343: 1, 345: 1, 346: 1, 1376: 1, 1378: 1, 355: 1, 1380: 1, 358: 1, 2407: 1, 2154: 1, 363: 1, 367: 1, 372: 1, 376: 1, 380: 1, 1406: 1, 385: 1, 1411: 1, 1412: 1, 1415: 1, 394: 1, 395: 1, 1420: 1, 2114: 1, 401: 1, 402: 1, 403: 1, 407: 1, 410: 1, 1439: 1, 419: 1, 420: 1, 422: 1, 753: 1, 427: 1, 1455: 1, 628: 1, 435: 1, 437: 1, 2489: 1, 1203: 1, 1469: 1, 1474: 1, 1479: 1, 356: 1, 175: 1, 460: 1, 462: 1, 463: 1, 1488: 1, 467: 1, 1495: 1, 476: 1, 762: 1, 459: 1, 482: 1, 1508: 1, 1101: 1, 490: 1, 423: 1, 493: 1, 494: 1, 495: 1, 2131: 1, 1213: 1, 2474: 1, 1483: 1, 514: 1, 515: 1, 519: 1, 1252: 1, 1198: 1, 526: 1, 563: 1, 530: 1, 535: 1, 536: 1, 538: 1, 1114: 1, 544: 1, 546: 1, 548: 1, 552: 1, 553: 1, 555: 1, 558: 1, 562: 1, 1459: 1, 565: 1, 580: 1, 582: 1, 1607: 1, 586: 1, 589: 1, 590: 1, 269: 1, 593: 1, 594: 1, 601: 1, 608: 1, 614: 1, 615: 1, 1127: 1, 621: 1, 624: 1, 1299: 1, 464: 1, 632: 1, 636: 1, 1664: 1, 641: 1, 642: 1, 644: 1, 645: 1, 646: 1, 648: 1, 649: 1, 650: 1, 1676: 1, 109: 1, 665: 1, 673: 1, 1932: 1, 455: 1, 687: 1, 690: 1, 693: 1, 695: 1, 697: 1, 699: 1, 702: 1, 1730: 1, 707: 1, 711: 1, 1314: 1, 718: 1, 721: 1, 724: 1, 730: 1, 732: 1, 736: 1, 737: 1, 741: 1, 1767: 1, 1777: 1, 756: 1, 1785: 1, 1786: 1, 768: 1, 770: 1, 774: 1, 129: 1, 776: 1, 983: 1, 783: 1, 784: 1, 787: 1, 1814: 1, 793: 1, 794: 1, 795: 1, 804: 1, 1158: 1, 817: 1, 816: 1, 2073: 1, 824: 1, 820: 1, 828: 1, 829: 1, 834: 1, 835: 1, 841: 1, 1338: 1, 1872: 1, 856: 1, 863: 1, 864: 1, 874: 1, 1899: 1, 879: 1, 884: 1, 887: 1, 2367: 1, 892: 1, 893: 1, 894: 1, 439: 1, 904: 1, 906: 1, 908: 1, 1360: 1, 913: 1, 914: 1, 1347: 1, 1940: 1, 919: 1, 1952: 1, 932: 1, 939: 1, 942: 1, 944: 1, 388: 1, 955: 1, 960: 1, 1993: 1, 970: 1, 1362: 1, 975: 1, 976: 1, 982: 1, 1343: 1, 2012: 1, 990: 1, 991: 1, 992: 1, 993: 1, 996: 1, 2021: 1, 1397: 1, 2045: 1, 1005: 1, 509: 1, 238: 1, 1017: 1, 499: 1})\n"
     ]
    }
   ],
   "source": [
    "# import collections\n",
    "# counter = collections.Counter(all_ranks)\n",
    "# print(counter)"
   ]
  },
  {
   "cell_type": "code",
   "execution_count": 63,
   "metadata": {},
   "outputs": [
    {
     "name": "stdout",
     "output_type": "stream",
     "text": [
      "Counter({1: 48, 2: 33, 3: 21, 4: 18, 8: 13, 6: 12, 11: 12, 5: 10, 7: 10, 9: 10, 10: 10, 24: 10, 13: 9, 17: 9, 27: 9, 16: 8, 23: 8, 34: 8, 12: 7, 21: 7, 28: 7, 47: 7, 14: 6, 15: 6, 18: 6, 40: 6, 45: 6, 57: 6, 84: 6, 105: 6, 139: 6, 144: 6, 20: 5, 36: 5, 41: 5, 53: 5, 69: 5, 71: 5, 88: 5, 89: 5, 91: 5, 22: 4, 31: 4, 33: 4, 37: 4, 39: 4, 42: 4, 43: 4, 54: 4, 55: 4, 59: 4, 65: 4, 96: 4, 115: 4, 123: 4, 149: 4, 163: 4, 342: 4, 375: 4, 85: 4, 19: 3, 26: 3, 29: 3, 30: 3, 32: 3, 44: 3, 48: 3, 49: 3, 50: 3, 52: 3, 56: 3, 62: 3, 63: 3, 67: 3, 73: 3, 74: 3, 76: 3, 78: 3, 80: 3, 81: 3, 83: 3, 90: 3, 92: 3, 108: 3, 114: 3, 120: 3, 122: 3, 130: 3, 145: 3, 153: 3, 160: 3, 161: 3, 166: 3, 182: 3, 187: 3, 194: 3, 195: 3, 215: 3, 269: 3, 287: 3, 308: 3, 400: 3, 66: 3, 449: 3, 496: 3, 102: 3, 661: 3, 127: 3, 773: 3, 35: 2, 61: 2, 64: 2, 77: 2, 1109: 2, 86: 2, 94: 2, 95: 2, 99: 2, 100: 2, 101: 2, 104: 2, 107: 2, 109: 2, 112: 2, 116: 2, 121: 2, 131: 2, 135: 2, 136: 2, 141: 2, 143: 2, 146: 2, 148: 2, 152: 2, 158: 2, 162: 2, 171: 2, 176: 2, 181: 2, 188: 2, 189: 2, 193: 2, 196: 2, 197: 2, 198: 2, 201: 2, 206: 2, 211: 2, 212: 2, 216: 2, 227: 2, 38: 2, 236: 2, 240: 2, 241: 2, 246: 2, 251: 2, 1645: 2, 262: 2, 264: 2, 268: 2, 281: 2, 286: 2, 1313: 2, 296: 2, 299: 2, 306: 2, 314: 2, 316: 2, 225: 2, 332: 2, 350: 2, 231: 2, 368: 2, 378: 2, 381: 2, 388: 2, 404: 2, 412: 2, 1440: 2, 433: 2, 434: 2, 445: 2, 454: 2, 460: 2, 462: 2, 470: 2, 473: 2, 477: 2, 485: 2, 498: 2, 1107: 2, 515: 2, 517: 2, 521: 2, 523: 2, 525: 2, 429: 2, 537: 2, 543: 2, 549: 2, 550: 2, 568: 2, 572: 2, 575: 2, 586: 2, 612: 2, 1636: 2, 616: 2, 191: 2, 624: 2, 641: 2, 1133: 2, 363: 2, 670: 2, 671: 2, 675: 2, 696: 2, 1143: 2, 727: 2, 229: 2, 743: 2, 745: 2, 749: 2, 25: 2, 762: 2, 805: 2, 840: 2, 853: 2, 258: 2, 886: 2, 151: 2, 920: 2, 159: 2, 991: 2, 1024: 1, 1049: 1, 1062: 1, 46: 1, 51: 1, 58: 1, 60: 1, 1090: 1, 68: 1, 1103: 1, 82: 1, 87: 1, 93: 1, 97: 1, 1126: 1, 103: 1, 106: 1, 110: 1, 111: 1, 113: 1, 1214: 1, 118: 1, 361: 1, 126: 1, 1151: 1, 2176: 1, 132: 1, 134: 1, 137: 1, 142: 1, 1171: 1, 150: 1, 1175: 1, 1178: 1, 155: 1, 156: 1, 2207: 1, 164: 1, 165: 1, 168: 1, 1193: 1, 170: 1, 172: 1, 173: 1, 174: 1, 175: 1, 177: 1, 1202: 1, 184: 1, 185: 1, 190: 1, 1215: 1, 1224: 1, 202: 1, 203: 1, 207: 1, 209: 1, 210: 1, 213: 1, 217: 1, 218: 1, 219: 1, 220: 1, 222: 1, 2271: 1, 1248: 1, 1249: 1, 230: 1, 178: 1, 232: 1, 233: 1, 1994: 1, 1405: 1, 1266: 1, 243: 1, 244: 1, 245: 1, 2429: 1, 249: 1, 250: 1, 253: 1, 256: 1, 257: 1, 1282: 1, 1284: 1, 261: 1, 2311: 1, 265: 1, 267: 1, 270: 1, 272: 1, 273: 1, 1298: 1, 1300: 1, 277: 1, 1032: 1, 280: 1, 282: 1, 2095: 1, 292: 1, 293: 1, 294: 1, 295: 1, 297: 1, 298: 1, 300: 1, 1074: 1, 304: 1, 307: 1, 309: 1, 310: 1, 311: 1, 621: 1, 315: 1, 319: 1, 1344: 1, 224: 1, 325: 1, 1350: 1, 328: 1, 329: 1, 333: 1, 334: 1, 336: 1, 1034: 1, 339: 1, 345: 1, 346: 1, 1372: 1, 1373: 1, 351: 1, 1378: 1, 1380: 1, 357: 1, 359: 1, 360: 1, 1385: 1, 362: 1, 365: 1, 367: 1, 1768: 1, 373: 1, 374: 1, 1400: 1, 377: 1, 379: 1, 380: 1, 405: 1, 1547: 1, 1409: 1, 386: 1, 1415: 1, 392: 1, 119: 1, 395: 1, 398: 1, 399: 1, 1424: 1, 402: 1, 1427: 1, 2453: 1, 406: 1, 348: 1, 1433: 1, 411: 1, 413: 1, 414: 1, 415: 1, 418: 1, 420: 1, 1448: 1, 1436: 1, 1095: 1, 1452: 1, 242: 1, 430: 1, 435: 1, 437: 1, 438: 1, 1637: 1, 756: 1, 1208: 1, 451: 1, 1476: 1, 1100: 1, 459: 1, 1485: 1, 463: 1, 464: 1, 465: 1, 468: 1, 2126: 1, 1785: 1, 472: 1, 474: 1, 476: 1, 1503: 1, 484: 1, 487: 1, 488: 1, 489: 1, 493: 1, 501: 1, 503: 1, 507: 1, 842: 1, 1538: 1, 516: 1, 519: 1, 520: 1, 524: 1, 528: 1, 529: 1, 1555: 1, 534: 1, 538: 1, 539: 1, 544: 1, 546: 1, 1571: 1, 548: 1, 1575: 1, 552: 1, 556: 1, 557: 1, 1288: 1, 571: 1, 573: 1, 574: 1, 576: 1, 577: 1, 580: 1, 582: 1, 588: 1, 589: 1, 591: 1, 592: 1, 596: 1, 1631: 1, 608: 1, 609: 1, 611: 1, 614: 1, 1641: 1, 1127: 1, 628: 1, 1653: 1, 632: 1, 276: 1, 1660: 1, 1130: 1, 638: 1, 639: 1, 640: 1, 642: 1, 643: 1, 644: 1, 278: 1, 260: 1, 1132: 1, 651: 1, 652: 1, 656: 1, 657: 1, 658: 1, 665: 1, 666: 1, 1692: 1, 669: 1, 1696: 1, 678: 1, 679: 1, 680: 1, 1706: 1, 693: 1, 697: 1, 699: 1, 701: 1, 703: 1, 705: 1, 714: 1, 716: 1, 717: 1, 1115: 1, 729: 1, 1487: 1, 732: 1, 1758: 1, 1764: 1, 741: 1, 744: 1, 750: 1, 753: 1, 754: 1, 759: 1, 761: 1, 1795: 1, 777: 1, 1803: 1, 782: 1, 785: 1, 1810: 1, 787: 1, 789: 1, 793: 1, 796: 1, 416: 1, 428: 1, 1092: 1, 353: 1, 1110: 1, 816: 1, 2184: 1, 820: 1, 824: 1, 826: 1, 1854: 1, 832: 1, 833: 1, 835: 1, 836: 1, 841: 1, 391: 1, 843: 1, 1051: 1, 849: 1, 1875: 1, 852: 1, 855: 1, 857: 1, 859: 1, 1338: 1, 864: 1, 865: 1, 1073: 1, 999: 1, 878: 1, 239: 1, 885: 1, 1913: 1, 1914: 1, 891: 1, 892: 1, 1918: 1, 895: 1, 320: 1, 814: 1, 1384: 1, 321: 1, 910: 1, 924: 1, 929: 1, 931: 1, 1351: 1, 940: 1, 1967: 1, 944: 1, 949: 1, 1353: 1, 953: 1, 957: 1, 960: 1, 1184: 1, 354: 1, 964: 1, 968: 1, 969: 1, 970: 1, 1015: 1, 976: 1, 982: 1, 983: 1, 985: 1, 1268: 1, 994: 1, 715: 1, 1056: 1, 1003: 1, 2386: 1, 1006: 1, 1192: 1, 1010: 1, 1014: 1, 169: 1, 511: 1})\n"
     ]
    }
   ],
   "source": [
    "# import collections\n",
    "# counter = collections.Counter(all_ranks)\n",
    "# print(counter)"
   ]
  },
  {
   "cell_type": "code",
   "execution_count": 54,
   "metadata": {},
   "outputs": [
    {
     "name": "stdout",
     "output_type": "stream",
     "text": [
      "Counter({1: 61, 2: 28, 3: 18, 4: 16, 6: 14, 5: 12, 10: 12, 8: 10, 13: 9, 17: 9, 7: 9, 16: 9, 12: 6, 14: 6, 25: 6, 26: 6, 29: 6, 32: 6, 38: 6, 42: 6, 48: 6, 51: 6, 68: 6, 71: 6, 76: 6, 11: 5, 19: 5, 20: 5, 21: 5, 23: 5, 24: 5, 28: 5, 31: 5, 35: 5, 36: 5, 39: 5, 50: 5, 54: 5, 62: 5, 86: 5, 87: 5, 43: 5, 59: 5, 158: 5, 18: 4, 22: 4, 27: 4, 30: 4, 41: 4, 44: 4, 45: 4, 49: 4, 56: 4, 60: 4, 77: 4, 90: 4, 92: 4, 108: 4, 145: 4, 148: 4, 152: 4, 207: 4, 225: 4, 279: 4, 441: 4, 467: 4, 15: 3, 34: 3, 37: 3, 46: 3, 53: 3, 55: 3, 63: 3, 64: 3, 67: 3, 72: 3, 78: 3, 79: 3, 82: 3, 88: 3, 94: 3, 103: 3, 109: 3, 118: 3, 120: 3, 125: 3, 132: 3, 133: 3, 146: 3, 173: 3, 185: 3, 199: 3, 218: 3, 222: 3, 240: 3, 296: 3, 308: 3, 334: 3, 347: 3, 395: 3, 1502: 3, 593: 3, 83: 3, 188: 3, 615: 3, 638: 3, 675: 3, 808: 3, 151: 3, 910: 3, 153: 3, 9: 2, 33: 2, 40: 2, 80: 2, 81: 2, 84: 2, 85: 2, 93: 2, 97: 2, 98: 2, 102: 2, 105: 2, 107: 2, 111: 2, 113: 2, 117: 2, 2068: 2, 127: 2, 128: 2, 129: 2, 137: 2, 138: 2, 139: 2, 140: 2, 141: 2, 143: 2, 1173: 2, 156: 2, 162: 2, 163: 2, 1358: 2, 167: 2, 168: 2, 171: 2, 175: 2, 196: 2, 200: 2, 210: 2, 215: 2, 227: 2, 230: 2, 231: 2, 235: 2, 244: 2, 1270: 2, 249: 2, 250: 2, 253: 2, 256: 2, 262: 2, 263: 2, 266: 2, 270: 2, 271: 2, 289: 2, 310: 2, 931: 2, 322: 2, 325: 2, 340: 2, 342: 2, 343: 2, 2393: 2, 360: 2, 275: 2, 369: 2, 183: 2, 394: 2, 401: 2, 1444: 2, 430: 2, 435: 2, 444: 2, 1473: 2, 464: 2, 491: 2, 494: 2, 246: 2, 1415: 2, 527: 2, 1644: 2, 539: 2, 558: 2, 265: 2, 1290: 2, 621: 2, 627: 2, 690: 2, 699: 2, 460: 2, 717: 2, 746: 2, 1048: 2, 121: 2, 1830: 2, 110: 2, 828: 2, 1162: 2, 856: 2, 895: 2, 1025: 1, 1040: 1, 47: 1, 58: 1, 1083: 1, 1546: 1, 66: 1, 1093: 1, 70: 1, 73: 1, 1099: 1, 355: 1, 1113: 1, 1115: 1, 96: 1, 99: 1, 101: 1, 104: 1, 1134: 1, 112: 1, 1043: 1, 116: 1, 119: 1, 122: 1, 703: 1, 124: 1, 126: 1, 131: 1, 134: 1, 1217: 1, 142: 1, 1168: 1, 144: 1, 150: 1, 2199: 1, 1220: 1, 154: 1, 155: 1, 1028: 1, 159: 1, 1185: 1, 164: 1, 165: 1, 1193: 1, 170: 1, 1198: 1, 178: 1, 1203: 1, 181: 1, 182: 1, 713: 1, 184: 1, 1210: 1, 187: 1, 1029: 1, 1213: 1, 193: 1, 197: 1, 198: 1, 202: 1, 203: 1, 206: 1, 1232: 1, 2260: 1, 216: 1, 2084: 1, 220: 1, 221: 1, 1303: 1, 228: 1, 229: 1, 232: 1, 1257: 1, 1259: 1, 237: 1, 2286: 1, 381: 1, 242: 1, 243: 1, 245: 1, 248: 1, 2399: 1, 254: 1, 1279: 1, 2305: 1, 1283: 1, 261: 1, 264: 1, 2092: 1, 267: 1, 268: 1, 1297: 1, 725: 1, 1299: 1, 691: 1, 278: 1, 280: 1, 1305: 1, 282: 1, 283: 1, 284: 1, 1309: 1, 1311: 1, 288: 1, 1919: 1, 1318: 1, 295: 1, 2268: 1, 299: 1, 302: 1, 1328: 1, 1330: 1, 307: 1, 1715: 1, 311: 1, 1337: 1, 2362: 1, 316: 1, 1342: 1, 321: 1, 326: 1, 327: 1, 330: 1, 331: 1, 335: 1, 1360: 1, 337: 1, 338: 1, 339: 1, 341: 1, 348: 1, 1239: 1, 351: 1, 353: 1, 1379: 1, 359: 1, 362: 1, 1389: 1, 1390: 1, 61: 1, 1394: 1, 372: 1, 1086: 1, 374: 1, 1769: 1, 376: 1, 377: 1, 2426: 1, 379: 1, 380: 1, 382: 1, 149: 1, 1088: 1, 115: 1, 388: 1, 1413: 1, 391: 1, 392: 1, 393: 1, 396: 1, 398: 1, 1261: 1, 661: 1, 403: 1, 404: 1, 1430: 1, 409: 1, 239: 1, 415: 1, 1442: 1, 1443: 1, 421: 1, 1446: 1, 389: 1, 425: 1, 426: 1, 427: 1, 429: 1, 791: 1, 1720: 1, 439: 1, 1464: 1, 1467: 1, 1471: 1, 1472: 1, 451: 1, 1106: 1, 453: 1, 454: 1, 457: 1, 458: 1, 459: 1, 1484: 1, 461: 1, 1094: 1, 2125: 1, 2420: 1, 470: 1, 186: 1, 2468: 1, 1103: 1, 476: 1, 481: 1, 1508: 1, 1101: 1, 489: 1, 594: 1, 496: 1, 500: 1, 503: 1, 767: 1, 508: 1, 509: 1, 512: 1, 515: 1, 517: 1, 257: 1, 522: 1, 526: 1, 259: 1, 532: 1, 535: 1, 536: 1, 1561: 1, 540: 1, 208: 1, 1109: 1, 545: 1, 546: 1, 1571: 1, 1574: 1, 551: 1, 2140: 1, 554: 1, 174: 1, 557: 1, 559: 1, 1586: 1, 566: 1, 1592: 1, 571: 1, 574: 1, 516: 1, 1632: 1, 581: 1, 1121: 1, 587: 1, 588: 1, 589: 1, 592: 1, 1617: 1, 1618: 1, 597: 1, 599: 1, 601: 1, 602: 1, 603: 1, 605: 1, 1125: 1, 609: 1, 1635: 1, 1636: 1, 618: 1, 620: 1, 622: 1, 624: 1, 1385: 1, 629: 1, 345: 1, 420: 1, 634: 1, 1660: 1, 789: 1, 294: 1, 1205: 1, 1302: 1, 647: 1, 567: 1, 1675: 1, 652: 1, 1678: 1, 655: 1, 656: 1, 658: 1, 660: 1, 1646: 1, 281: 1, 1688: 1, 665: 1, 671: 1, 674: 1, 676: 1, 678: 1, 679: 1, 681: 1, 682: 1, 1832: 1, 686: 1, 1139: 1, 693: 1, 694: 1, 695: 1, 696: 1, 700: 1, 702: 1, 1727: 1, 704: 1, 705: 1, 711: 1, 1736: 1, 715: 1, 718: 1, 2168: 1, 723: 1, 399: 1, 1749: 1, 726: 1, 1145: 1, 729: 1, 463: 1, 732: 1, 733: 1, 734: 1, 1760: 1, 1488: 1, 1764: 1, 806: 1, 743: 1, 636: 1, 747: 1, 749: 1, 750: 1, 2173: 1, 752: 1, 756: 1, 1781: 1, 761: 1, 1790: 1, 2344: 1, 768: 1, 770: 1, 771: 1, 775: 1, 776: 1, 779: 1, 781: 1, 782: 1, 784: 1, 1424: 1, 787: 1, 1813: 1, 2413: 1, 792: 1, 793: 1, 798: 1, 645: 1, 800: 1, 1840: 1, 802: 1, 2294: 1, 812: 1, 306: 1, 816: 1, 818: 1, 1301: 1, 823: 1, 1856: 1, 1857: 1, 835: 1, 1835: 1, 842: 1, 1869: 1, 846: 1, 1872: 1, 1874: 1, 852: 1, 858: 1, 859: 1, 865: 1, 1890: 1, 867: 1, 868: 1, 870: 1, 1169: 1, 872: 1, 1897: 1, 370: 1, 1903: 1, 147: 1, 887: 1, 888: 1, 2263: 1, 892: 1, 1223: 1, 832: 1, 473: 1, 1923: 1, 902: 1, 833: 1, 905: 1, 906: 1, 1053: 1, 911: 1, 1097: 1, 925: 1, 1349: 1, 440: 1, 1463: 1, 934: 1, 1019: 1, 1180: 1, 1054: 1, 941: 1, 945: 1, 499: 1, 951: 1, 952: 1, 1070: 1, 954: 1, 1980: 1, 1354: 1, 958: 1, 965: 1, 966: 1, 161: 1, 970: 1, 973: 1, 1669: 1, 612: 1, 2211: 1, 2005: 1, 983: 1, 986: 1, 987: 1, 361: 1, 2015: 1, 995: 1, 997: 1, 1001: 1, 1191: 1, 1005: 1, 1533: 1, 2032: 1, 1013: 1, 1016: 1, 1018: 1, 511: 1, 2047: 1})\n"
     ]
    }
   ],
   "source": [
    "import collections\n",
    "counter = collections.Counter(all_ranks)\n",
    "print(counter)"
   ]
  },
  {
   "cell_type": "code",
   "execution_count": null,
   "metadata": {},
   "outputs": [],
   "source": []
  },
  {
   "cell_type": "code",
   "execution_count": null,
   "metadata": {},
   "outputs": [],
   "source": []
  },
  {
   "cell_type": "code",
   "execution_count": null,
   "metadata": {},
   "outputs": [],
   "source": []
  },
  {
   "cell_type": "markdown",
   "metadata": {},
   "source": [
    "# ===== Trial and error ====="
   ]
  },
  {
   "cell_type": "code",
   "execution_count": 49,
   "metadata": {
    "scrolled": true
   },
   "outputs": [
    {
     "data": {
      "text/plain": [
       "dict_keys([12087297, 12670979, 12486657, 12201992, 13316105, 13502478, 14227109, 14219282, 14264323, 13541397, 12592473, 12662714, 13314075, 14090586, 12597279, 14350339, 13647905, 12206114, 13574179, 12816421, 12269607, 12069212, 13606954, 12560430, 12004701, 14483504, 14053428, 14030174, 13512760, 13983801, 13809722, 12134069, 12859456, 12601696, 12613701, 14155849, 14750269, 14314509, 12724304, 13635939, 12417108, 14205013, 12609623, 12204121, 12087388, 14327904, 14529894, 14409833, 13828202, 13670507, 14368999, 13181037, 12824687, 12255344, 13902501, 12216434, 12107892, 12433086, 13309289, 13668475, 13709436, 13259797, 13934720, 13584513, 13707396, 13137006, 13457773, 13144209, 12843154, 14245571, 12347542, 14404633, 13588632, 12349593, 13517811, 14186742, 12712098, 13652131, 14330851, 12204201, 13922475, 13277357, 13951151, 13217968, 13774195, 13303989, 14002889, 12867769, 13729978, 12945601, 12482756, 12417222, 12491809, 13703372, 12742690, 12531919, 14250192, 12544209, 12359890, 14207188, 13196475, 12433623, 13514968, 14191994, 12536033, 12419299, 12263652, 13453543, 13154539, 13080815, 14952688, 14035188, 12564725, 13035766, 12503287, 14014714, 12681469, 13786995, 13592832, 13914496, 12312834, 13234438, 12642567, 13148427, 14553356, 12368142, 12663057, 14014740, 13631765, 12607768, 13562137, 12269850, 13090863, 13224221, 12361422, 12753186, 12458275, 13775140, 12185893, 12159272, 12054825, 13306154, 13578539, 12241196, 12542254, 12241199, 13222193, 12478773, 13052214, 12501304, 13558073, 12212961, 14209340, 13572490, 12779839, 13787456, 12239170, 13265219, 12478788, 12732741, 13175110, 12475105, 12417352, 12854668, 13009226, 13927479, 12464460, 13271374, 12104015, 12492856, 13154642, 14684867, 12532110, 14893398, 13538361, 13298010, 12896604, 14119261, 13781342, 12290399, 12556640, 13252961, 13136227, 14471528, 13155388, 12470637, 14897519, 13799792, 12212594, 13294995, 13925287, 12521851, 14201214, 13677199, 13439360, 13251648, 14964998, 13773206, 12255626, 12767630, 12204431, 12652950, 12515735, 14453144, 13587524, 12263834, 12671387, 13304223, 14684578, 12589475, 12708267, 13363631, 12767664, 12480945, 13482418, 12691900, 14279754, 13638078, 14297774, 12605888, 13255105, 12376518, 14299070, 13056456, 14095436, 12683724, 13661602, 12778573, 14342610, 12177877, 12407254, 13449687, 13695448, 13601242, 12423644, 15000032, 13951460, 13103590, 13253095, 12564968, 13349354, 12220332, 13509100, 12640752, 12610033, 12067315, 12755444, 13658613, 12102134, 13797880, 13216852, 13566459, 12798460, 12075517, 13019647, 13236740, 13478406, 12843529, 12222986, 14753118, 12162477, 14128216, 13700867, 14090772, 13017621, 13298198, 12791897, 14745354, 13812253, 12464670, 13709744, 13525538, 12567075, 12538405, 12579368, 13253165, 14659336, 12722953, 12057146, 12468795, 13236796, 12644925, 14773685, 13376064, 14774854, 13343303, 13342426, 13486666, 13189709, 13695566, 13374031, 12829264, 12124753, 13013588, 12569173, 12530264, 13187675, 13368341, 12794461, 13122142, 13318754, 12575331, 14062300, 13800037, 14510694, 13038183, 14011358, 12806588, 14703378, 13486703, 14860694, 13091447, 13726028, 14432890, 12886651, 14444309, 12495489, 13169771, 12042886, 12274113, 12804751, 14323346, 12419732, 13464686, 12495510, 12080921, 12407448, 12182171, 12718748, 12867354, 13869726, 13636255, 12284016, 13271717, 13435559, 14094627, 12380842, 13208236, 13644461, 13871790, 12546735, 12394875, 13621937, 15069876, 12618422, 14541495, 12692153, 14621375, 12612289, 14284235, 13873862, 12075468, 13333624, 14252756, 13634261, 13714134, 12040920, 13748263, 13740762, 12413391, 13011676, 14148730, 12618462, 12652325, 12763873, 14832354, 12284643, 14246628, 13946996, 13503213, 14871278, 12886767, 13794033, 13488167, 13218548, 12141301, 13902582, 12682025, 13449978, 12485374, 14953215, 13858285, 13800193, 12188418, 12176133, 12131081, 13914583, 13722381, 13587214, 13431568, 13384466, 13093651, 13247252, 13912853, 14437144, 13177625, 12690205, 13359905, 12817186, 13921005, 14408484, 12436262, 14037799, 13493032, 12344105, 13884202, 12086060, 15174446, 12834611, 13746996, 13435701, 12313400, 13595449, 13546339, 12167998, 13019967, 13699904, 12837699, 12124996, 12497737, 12317514, 12274507, 12684108, 14058317, 12792654, 13725837, 14051192, 12766691, 13231481, 12739385, 14046044, 14101342, 13036383, 13392736, 12413793, 12049251, 12609537, 13358900, 13441251, 12235624, 13101933, 12745583, 14154608, 13650750, 12653430, 13030264, 13128570, 12796796, 15018474, 13405870, 12235648, 14508864, 14457094, 12365291, 12051606, 14459783, 14936968, 13171180, 14707648, 13562765, 12860303, 13667218, 13820265, 14497262, 13994137, 13165465, 14287771, 12180381, 13315773, 12280739, 12455758, 13859750, 13773297, 13480872, 13840675, 13347754, 12025512, 13929875, 12860336, 12559281, 13181880, 13661113, 13585338, 14274719, 14371715, 13059005, 13405118, 12473280, 12559298, 13857731, 14501317, 13294535, 12665800, 13468621, 12714958, 14031823, 14847653, 13086160, 12084046, 13220345, 13382617, 13843419, 14212060, 12078046, 12719073, 13177827, 12794852, 13403111, 13810665, 12684268, 13675501, 13204462, 12839361, 12147539, 14817791, 12209643, 12239876, 13754198, 13720586, 12141580, 12266509, 12186639, 12730200, 13742196, 12442644, 12084245, 12124676, 13714458, 14435358, 12149793, 13777954, 12179291, 12786725, 14615595, 12211253, 12221495, 13022264, 13108281, 13976634, 12674108, 12729408, 12739649, 13194306, 13302852, 12069962, 13943724, 12399692, 12303437, 13224874, 14812241, 12553059, 12577876, 13053015, 12328024, 14380122, 12764251, 14535866, 14675191, 12098657, 12309602, 13050979, 12885099, 12018798, 13913199, 14081344, 14876053, 14462070, 12643447, 12090488, 12209274, 13196413, 13497472, 13876355, 12590762, 12221293, 14136720, 13221742, 12838038, 14267929, 13292740, 13135002, 14138528, 13456546, 12303899, 14726308, 12217509, 13118630, 12229800, 13667498, 12113067, 12229804, 14890157, 12467379, 14370334, 13683913, 13264057, 13831354, 12326075, 14590177, 12448964, 12186822, 12340425, 13298891, 13229263, 12872913, 12502226, 14193875, 12446934, 14010424, 13458652, 12578013, 13480485, 14054629, 14152934, 13509863, 12205288, 12358524, 12621034, 13235435, 14895263, 14277842, 12152047, 12715248, 12147953, 12272882, 14130421, 13120758, 13217015, 12285178, 12219643, 13573378, 13147398, 13074305, 13571337, 12342538, 12604683, 12354832, 13610257, 12528915, 12420374, 12653847, 12465434, 14288158, 12553503, 12436771, 13859265, 12596519, 12152105, 14224902, 12614955, 14957868, 12318002, 13004083, 12723509, 13503800, 12205375, 12348736, 14445892, 14101572, 14845056, 12741959, 14601546, 12506446, 13749585, 12734691, 13618519, 13182297, 13083997, 12453214, 13993311, 12195172, 12359013, 12670310, 12529001, 14089578, 12676459, 14878060, 14058386, 13897070, 13905135, 14273904, 12563825, 13276530, 12334995, 14425463, 12379513, 13909370, 12621179, 12400002, 12415843, 13970824, 14374283, 13467020, 14019981, 12748174, 12602768, 14151057, 13034898, 13215123, 12195221, 14091670, 14017944, 13835844, 13067675, 13744981, 14338661, 12334661, 13389040, 13331874, 12645795, 12033445, 13575590, 12465393, 15138216, 14427561, 13171271, 13012210, 13356462, 13831603, 12338613, 14200253, 14601663, 13921731, 13932790, 12457416, 14052809, 13604299, 13231568, 13006289, 13135314, 14219517, 13032919, 13895128, 14342735, 12201210, 13465277, 12299747, 12731877, 12654057, 13266411, 14370284, 13809133, 13323758, 14108143, 14648232, 12543475, 15070708, 14097237, 14384630, 13939625, 13721427, 12115453, 13409791, 12260865, 14159362, 13530629, 13653510, 12318215, 14286344, 13471241, 13811213, 12459949, 14553408, 14129504, 12811794, 12664339, 13557268, 14327317, 12121625, 12891674, 12654107, 12602910, 12754465, 14556706, 12781092, 12207653, 14186082, 14674524, 13312263, 15102111, 14078631, 13512238, 13738589, 12131890, 13715379, 13530677, 13205046, 13747465, 13518392, 12195390, 12600899, 13123140, 12406341, 13164104, 15191721, 15081035, 12781133, 13246980, 13913680, 13489746, 15132243, 14567254, 12123065, 14233178, 13980092, 12613562, 12000862, 14332517, 13436514, 12095075, 14733926, 15005969, 13184619, 13289068, 13078131, 12742261, 14208630, 13250170, 13192827, 13524604, 13659774, 13184950, 14894720, 12618688, 12422786, 14229099, 13446790, 13764235, 13744066, 13862544, 13170322, 13951939, 13248150, 12877464, 14627780, 13481627, 14163613, 13398588, 12670625, 13012642, 15304355, 13375141, 12474024, 13356713, 12318378, 12605102, 13088431, 13668017, 13602484, 13387445, 13077933, 13289146, 13420221, 12134078, 14422304, 12136131, 12205764, 13428426, 12434917, 15095500, 13547213, 13516494, 12584655, 13242659, 12431060, 12328662, 12791035, 12242649, 12798673, 12668636, 13439269, 13412064, 12201699, 14266087, 12832488, 14146855, 12762860, 12089069, 13846824, 12492531, 12443381, 14646569, 12164856, 12051412, 13004544, 14257921, 13125378, 12178731, 13350661, 13358856, 13616906, 14112523, 12351244, 12461837, 13733648, 13403922, 14237459, 14440212, 12654357, 12574681, 13403929, 12865306, 14559003, 13115171, 12324644, 12348038, 13736161, 14180140, 14663469, 14186825, 13346611, 13307700, 13408345, 13537078, 14925632, 13246278, 14013409, 12889930, 14223330, 13072206, 13672271, 12185912, 12591075, 12779350, 12631896, 13623131, 14837730, 12629856, 13031739, 13178726, 12425064, 14276457, 14017511, 13432466, 13301614, 14198640, 13141873, 12738419, 13946740, 14307191, 13842296, 13961083, 13471614, 14063912, 12806016, 13315969, 13303683, 14620552, 13651849, 13731724, 12867469, 12105617, 12290371, 12536814, 12111770, 13219742, 13250885, 14072915, 14049265, 14095488, 13160364, 12007341, 12318641, 13258675, 12154804, 13227958, 13789513, 12003258, 13466271, 13264830, 13850871, 12863424, 12064705, 13344706, 15165771, 13467588, 13520837, 13690822, 12240841, 15032272, 12517329, 13029337, 14386003, 14938076, 14157790, 13805221, 13041632, 12081122, 12283875, 12748775, 13602792, 12795883, 12046317, 12855279, 12079088, 12689393, 14155762, 12261367, 13025273, 13545469])"
      ]
     },
     "execution_count": 49,
     "metadata": {},
     "output_type": "execute_result"
    }
   ],
   "source": [
    "sim_dict.keys()"
   ]
  },
  {
   "cell_type": "code",
   "execution_count": 53,
   "metadata": {},
   "outputs": [
    {
     "data": {
      "text/plain": [
       "[(6845583, -0.331146),\n",
       " (7040489, -0.32731208),\n",
       " (7640556, -0.2882068),\n",
       " (7003994, -0.26676342),\n",
       " (7501056, -0.2597713),\n",
       " (7673934, -0.25661272),\n",
       " (7861458, -0.2540089),\n",
       " (7249572, -0.24756268),\n",
       " (7484979, -0.24713153),\n",
       " (7967867, -0.2459397),\n",
       " (7239031, -0.23855984),\n",
       " (6837383, -0.23687981),\n",
       " (7886370, -0.23618148),\n",
       " (8016792, -0.23477368),\n",
       " (6981455, -0.23439565),\n",
       " (7150440, -0.23147926),\n",
       " (6991262, -0.2303494),\n",
       " (7136267, -0.22872514),\n",
       " (7373709, -0.22250536),\n",
       " (6945263, -0.22194904),\n",
       " (7394021, -0.21785505),\n",
       " (7633779, -0.21664618),\n",
       " (7373031, -0.21622634),\n",
       " (6877929, -0.21458593),\n",
       " (7900011, -0.21453314),\n",
       " (7917396, -0.21443552),\n",
       " (8066742, -0.21353787),\n",
       " (6959993, -0.21318282),\n",
       " (7121956, -0.2124558),\n",
       " (6959931, -0.20990063),\n",
       " (6843081, -0.2086722),\n",
       " (7381917, -0.20806542),\n",
       " (7831644, -0.20751971),\n",
       " (7409963, -0.20607749),\n",
       " (7015791, -0.20604499),\n",
       " (7279031, -0.20601332),\n",
       " (7438346, -0.20504527),\n",
       " (7976156, -0.20435822),\n",
       " (7261455, -0.2014785),\n",
       " (6928662, -0.20146552),\n",
       " (7864538, -0.20122628),\n",
       " (6953123, -0.2011851),\n",
       " (7357009, -0.20107032),\n",
       " (6931688, -0.20030047),\n",
       " (6880484, -0.19870909),\n",
       " (6859219, -0.19795576),\n",
       " (6895516, -0.1979079),\n",
       " (7004164, -0.19660425),\n",
       " (7383954, -0.19649237),\n",
       " (7050841, -0.19618341),\n",
       " (7007867, -0.1958525),\n",
       " (7018515, -0.19471954),\n",
       " (6964122, -0.19392158),\n",
       " (7101477, -0.1923978),\n",
       " (7721400, -0.19020285),\n",
       " (7611265, -0.18839255),\n",
       " (7945616, -0.18674761),\n",
       " (7831925, -0.18424977),\n",
       " (8055007, -0.18348342),\n",
       " (7331246, -0.18186432),\n",
       " (7311131, -0.17936592),\n",
       " (7261491, -0.17875034),\n",
       " (7543681, -0.17857149),\n",
       " (7503884, -0.17847706),\n",
       " (7472971, -0.17738043),\n",
       " (7325314, -0.17707229),\n",
       " (7966588, -0.1767791),\n",
       " (8047391, -0.17657818),\n",
       " (7574979, -0.1756413),\n",
       " (7491157, -0.17529891),\n",
       " (8030807, -0.17528112),\n",
       " (7290906, -0.17494851),\n",
       " (7991854, -0.17491107),\n",
       " (7188138, -0.17479083),\n",
       " (7990106, -0.17378654),\n",
       " (7040704, -0.17318468),\n",
       " (7488221, -0.17248523),\n",
       " (7004780, -0.17096415),\n",
       " (8109704, -0.16982847),\n",
       " (7272996, -0.1692445),\n",
       " (8337193, -0.16853523),\n",
       " (7357603, -0.16736075),\n",
       " (7637641, -0.16689444),\n",
       " (7290291, -0.16663624),\n",
       " (8180485, -0.16471784),\n",
       " (8169102, -0.16461089),\n",
       " (7454976, -0.16397108),\n",
       " (7882307, -0.1636117),\n",
       " (8181310, -0.1634517),\n",
       " (7841310, -0.16331878),\n",
       " (7267081, -0.1631343),\n",
       " (7762159, -0.16248344),\n",
       " (7899829, -0.16245712),\n",
       " (7730241, -0.162246),\n",
       " (7823833, -0.16205688),\n",
       " (6928872, -0.16100371),\n",
       " (7171785, -0.15992905),\n",
       " (7915838, -0.1599117),\n",
       " (6921168, -0.15931645),\n",
       " (7810880, -0.15813248),\n",
       " (8206420, -0.15798017),\n",
       " (7011664, -0.1578045),\n",
       " (8073951, -0.15734471),\n",
       " (6906926, -0.15733576),\n",
       " (6908331, -0.15732588),\n",
       " (6921234, -0.15678675),\n",
       " (6956573, -0.15677898),\n",
       " (7225409, -0.15457784),\n",
       " (7532311, -0.15420501),\n",
       " (7438638, -0.15354776),\n",
       " (7255557, -0.1529911),\n",
       " (7058682, -0.15234135),\n",
       " (7522155, -0.1519878),\n",
       " (8222754, -0.15192267),\n",
       " (8286789, -0.15135996),\n",
       " (7806471, -0.15132788),\n",
       " (7278436, -0.15123829),\n",
       " (6993816, -0.15103482),\n",
       " (7295904, -0.15060268),\n",
       " (8185688, -0.15034589),\n",
       " (6926284, -0.14937778),\n",
       " (7467952, -0.14923647),\n",
       " (7845656, -0.14903945),\n",
       " (6971831, -0.14892374),\n",
       " (6918565, -0.14867193),\n",
       " (7815338, -0.14859419),\n",
       " (7312790, -0.14857858),\n",
       " (6955043, -0.14791812),\n",
       " (7318851, -0.14703357),\n",
       " (7600511, -0.14699246),\n",
       " (6996556, -0.14662918),\n",
       " (7085122, -0.14596964),\n",
       " (7390208, -0.14570734),\n",
       " (8206449, -0.14528477),\n",
       " (7322273, -0.14507762),\n",
       " (7014218, -0.14490291),\n",
       " (7118076, -0.14459097),\n",
       " (7877940, -0.1441892),\n",
       " (7198453, -0.14339966),\n",
       " (7889761, -0.14334035),\n",
       " (7296356, -0.1415783),\n",
       " (7722625, -0.14116828),\n",
       " (8141955, -0.14065658),\n",
       " (6967663, -0.14047857),\n",
       " (7090594, -0.14015654),\n",
       " (8155368, -0.13720837),\n",
       " (7237958, -0.13683508),\n",
       " (7469545, -0.13666116),\n",
       " (7329164, -0.13645118),\n",
       " (7631605, -0.13617657),\n",
       " (6952253, -0.13571526),\n",
       " (8001085, -0.13534501),\n",
       " (7034881, -0.13454917),\n",
       " (7481860, -0.13450165),\n",
       " (7038667, -0.13403387),\n",
       " (8015548, -0.13328107),\n",
       " (7611497, -0.13288057),\n",
       " (6882569, -0.13234025),\n",
       " (7585034, -0.13104624),\n",
       " (7855885, -0.1310443),\n",
       " (7583364, -0.13067661),\n",
       " (8336158, -0.13030721),\n",
       " (7774335, -0.13023035),\n",
       " (6978760, -0.1300671),\n",
       " (7945683, -0.13002846),\n",
       " (7841657, -0.12984982),\n",
       " (7207594, -0.12976769),\n",
       " (7247967, -0.12960348),\n",
       " (7954581, -0.12951393),\n",
       " (7406875, -0.12926157),\n",
       " (8245431, -0.12920779),\n",
       " (8184647, -0.12901284),\n",
       " (7596647, -0.1288025),\n",
       " (8194266, -0.12807032),\n",
       " (6873112, -0.12768346),\n",
       " (7734632, -0.1275231),\n",
       " (7483220, -0.1268729),\n",
       " (7569952, -0.12660417),\n",
       " (7206778, -0.12638508),\n",
       " (8201970, -0.12516975),\n",
       " (8322908, -0.12478292),\n",
       " (7237778, -0.12429389),\n",
       " (7139818, -0.12409401),\n",
       " (7335020, -0.12367918),\n",
       " (7604048, -0.12364867),\n",
       " (7597485, -0.12329787),\n",
       " (7857385, -0.12261697),\n",
       " (7460248, -0.12244509),\n",
       " (7140250, -0.1220159),\n",
       " (7216009, -0.12159619),\n",
       " (7953538, -0.12148418),\n",
       " (7770660, -0.12025766),\n",
       " (7954481, -0.12003462),\n",
       " (7221748, -0.119648874),\n",
       " (7051019, -0.11935812),\n",
       " (7804577, -0.11906247),\n",
       " (7901458, -0.11903418),\n",
       " (8325214, -0.11858769),\n",
       " (7056142, -0.1180883),\n",
       " (7393100, -0.117722966),\n",
       " (8190395, -0.11748606),\n",
       " (8316319, -0.11720792),\n",
       " (7007923, -0.11633569),\n",
       " (8099605, -0.116127245),\n",
       " (7780701, -0.11574681),\n",
       " (6945981, -0.11474224),\n",
       " (7649338, -0.11409429),\n",
       " (8132682, -0.11406445),\n",
       " (7832160, -0.11402803),\n",
       " (7392421, -0.114007846),\n",
       " (7758120, -0.11289962),\n",
       " (7456874, -0.112340525),\n",
       " (7132931, -0.11164804),\n",
       " (7742203, -0.11163834),\n",
       " (7965929, -0.111225456),\n",
       " (7660822, -0.11102629),\n",
       " (7788274, -0.11068561),\n",
       " (7557486, -0.110558264),\n",
       " (7898990, -0.11040369),\n",
       " (7222918, -0.110304855),\n",
       " (7965829, -0.11007491),\n",
       " (6986103, -0.10963878),\n",
       " (7090226, -0.10958725),\n",
       " (6894429, -0.10952428),\n",
       " (7783161, -0.10883858),\n",
       " (7316534, -0.10840066),\n",
       " (6883807, -0.10821605),\n",
       " (6882074, -0.107318066),\n",
       " (7654518, -0.106428005),\n",
       " (8025428, -0.106060855),\n",
       " (7281662, -0.10592065),\n",
       " (7771457, -0.10567429),\n",
       " (7337290, -0.10546236),\n",
       " (7789044, -0.10545886),\n",
       " (8100623, -0.10514753),\n",
       " (8310556, -0.10511183),\n",
       " (7690981, -0.1050793),\n",
       " (6950065, -0.10489762),\n",
       " (6883600, -0.104781665),\n",
       " (7814791, -0.10462035),\n",
       " (7577750, -0.10450074),\n",
       " (6855164, -0.10415123),\n",
       " (7371046, -0.10410191),\n",
       " (7074053, -0.10396167),\n",
       " (8262372, -0.10324891),\n",
       " (7715103, -0.10315419),\n",
       " (7843906, -0.10312305),\n",
       " (6899075, -0.102961875),\n",
       " (7065764, -0.102737576),\n",
       " (7831983, -0.102387466),\n",
       " (7644449, -0.10211318),\n",
       " (7168415, -0.101961404),\n",
       " (7909746, -0.10167222),\n",
       " (7658570, -0.10166393),\n",
       " (7744480, -0.101590484),\n",
       " (7603119, -0.101534635),\n",
       " (7369118, -0.10149371),\n",
       " (7530330, -0.10144445),\n",
       " (7222392, -0.10128254),\n",
       " (6874270, -0.10080977),\n",
       " (7822621, -0.10048492),\n",
       " (7337285, -0.09990571),\n",
       " (7043492, -0.09974664),\n",
       " (7827150, -0.099345505),\n",
       " (7229475, -0.09859008),\n",
       " (7313628, -0.09813003),\n",
       " (7740371, -0.09808782),\n",
       " (7207488, -0.09797871),\n",
       " (7564679, -0.09794141),\n",
       " (8142053, -0.09705548),\n",
       " (6968158, -0.09695018),\n",
       " (7518278, -0.09679954),\n",
       " (8047234, -0.09667445),\n",
       " (8005817, -0.096668035),\n",
       " (7967078, -0.09660164),\n",
       " (7895309, -0.09652667),\n",
       " (7849195, -0.096493),\n",
       " (6948263, -0.096183024),\n",
       " (7215144, -0.095730625),\n",
       " (7516746, -0.09524863),\n",
       " (7473171, -0.095234),\n",
       " (7780419, -0.09458723),\n",
       " (7762705, -0.09453189),\n",
       " (7861122, -0.09433292),\n",
       " (7023190, -0.09429005),\n",
       " (6947376, -0.09387412),\n",
       " (7632141, -0.09352459),\n",
       " (7399220, -0.09315466),\n",
       " (7815474, -0.092767514),\n",
       " (7288110, -0.0924941),\n",
       " (7304297, -0.09214476),\n",
       " (7924323, -0.09213724),\n",
       " (7607871, -0.092135094),\n",
       " (8079780, -0.09179657),\n",
       " (7973284, -0.091482334),\n",
       " (7468025, -0.09133557),\n",
       " (7451877, -0.09130638),\n",
       " (7724471, -0.09079059),\n",
       " (7684209, -0.09065653),\n",
       " (7222462, -0.089787506),\n",
       " (7181534, -0.08944333),\n",
       " (7159842, -0.088923976),\n",
       " (7568817, -0.08888385),\n",
       " (7261716, -0.08857805),\n",
       " (8061238, -0.08853748),\n",
       " (6930244, -0.08714296),\n",
       " (7416391, -0.0866012),\n",
       " (6895430, -0.086525194),\n",
       " (7607836, -0.08644884),\n",
       " (7580249, -0.08644229),\n",
       " (7773122, -0.08633393),\n",
       " (7323022, -0.086106904),\n",
       " (7483424, -0.08591175),\n",
       " (7275283, -0.085799456),\n",
       " (7383381, -0.08546692),\n",
       " (7252214, -0.08543189),\n",
       " (7593784, -0.08518686),\n",
       " (6993995, -0.084809646),\n",
       " (7095387, -0.08474066),\n",
       " (8118848, -0.08448919),\n",
       " (7628529, -0.084437735),\n",
       " (7926682, -0.08435557),\n",
       " (7857774, -0.083848044),\n",
       " (7533288, -0.08378577),\n",
       " (7030903, -0.08377504),\n",
       " (6934971, -0.0832125),\n",
       " (7015910, -0.0829731),\n",
       " (7539867, -0.08281107),\n",
       " (8186116, -0.08280672),\n",
       " (8048125, -0.082758196),\n",
       " (7010415, -0.082663044),\n",
       " (7250052, -0.082316965),\n",
       " (7525283, -0.08173344),\n",
       " (7677617, -0.081651345),\n",
       " (7447873, -0.08147052),\n",
       " (7727093, -0.08140381),\n",
       " (7360755, -0.08086257),\n",
       " (7513740, -0.080657676),\n",
       " (7739036, -0.08065672),\n",
       " (7984304, -0.08056358),\n",
       " (8162631, -0.080279075),\n",
       " (7213816, -0.079965726),\n",
       " (6994706, -0.07980189),\n",
       " (7097507, -0.079704404),\n",
       " (7941850, -0.0796779),\n",
       " (7535215, -0.07958628),\n",
       " (7404533, -0.07936255),\n",
       " (8055827, -0.07919055),\n",
       " (7052097, -0.0791798),\n",
       " (7926363, -0.07883192),\n",
       " (7491218, -0.078166276),\n",
       " (7854534, -0.07792985),\n",
       " (7018065, -0.07759349),\n",
       " (7815440, -0.077420026),\n",
       " (7000410, -0.077057995),\n",
       " (6938772, -0.0761777),\n",
       " (8281066, -0.075904675),\n",
       " (7561330, -0.07577346),\n",
       " (7496099, -0.075461976),\n",
       " (7629698, -0.07521319),\n",
       " (7463816, -0.0748626),\n",
       " (7826999, -0.07456751),\n",
       " (7415912, -0.07401421),\n",
       " (7451578, -0.07381632),\n",
       " (7123215, -0.073748626),\n",
       " (6922868, -0.07368751),\n",
       " (7834824, -0.07368483),\n",
       " (7475088, -0.07366112),\n",
       " (7888881, -0.07310585),\n",
       " (6991467, -0.072912656),\n",
       " (7159765, -0.07278676),\n",
       " (7154232, -0.07229696),\n",
       " (7394178, -0.072027914),\n",
       " (7769232, -0.07188258),\n",
       " (7654558, -0.071846604),\n",
       " (7308811, -0.07134574),\n",
       " (7260726, -0.0707701),\n",
       " (7798853, -0.069680996),\n",
       " (7918263, -0.06930265),\n",
       " (7007804, -0.06892084),\n",
       " (7804530, -0.068601355),\n",
       " (7874133, -0.06855297),\n",
       " (7137410, -0.06848159),\n",
       " (8011395, -0.06836942),\n",
       " (7665718, -0.068254545),\n",
       " (7809991, -0.0680564),\n",
       " (8234432, -0.06803273),\n",
       " (7918859, -0.067638315),\n",
       " (7545121, -0.06716716),\n",
       " (7017695, -0.067124404),\n",
       " (6868519, -0.06665117),\n",
       " (7510372, -0.06633019),\n",
       " (6918726, -0.06615816),\n",
       " (7487112, -0.06572936),\n",
       " (7359643, -0.065318696),\n",
       " (6974522, -0.065306455),\n",
       " (7962545, -0.06530271),\n",
       " (6965911, -0.06491391),\n",
       " (7096368, -0.06471886),\n",
       " (7498706, -0.06431462),\n",
       " (7865567, -0.06372143),\n",
       " (8312262, -0.06360189),\n",
       " (7325792, -0.06305634),\n",
       " (7242388, -0.06286763),\n",
       " (7452139, -0.062249586),\n",
       " (8138620, -0.061789494),\n",
       " (7622935, -0.061498),\n",
       " (7717828, -0.061179686),\n",
       " (7628542, -0.061011583),\n",
       " (7054790, -0.060726177),\n",
       " (7730621, -0.060305),\n",
       " (7845510, -0.060221095),\n",
       " (6877996, -0.0600707),\n",
       " (8236045, -0.059880417),\n",
       " (6943925, -0.059781406),\n",
       " (6961221, -0.059694394),\n",
       " (8189225, -0.059334084),\n",
       " (8149834, -0.058621123),\n",
       " (6838925, -0.058243234),\n",
       " (6908418, -0.058228552),\n",
       " (6952064, -0.05812272),\n",
       " (8291750, -0.057446763),\n",
       " (7569970, -0.05718002),\n",
       " (7319791, -0.05713309),\n",
       " (7005772, -0.056626845),\n",
       " (7730544, -0.056606054),\n",
       " (7016908, -0.056565307),\n",
       " (7375523, -0.056494433),\n",
       " (7934236, -0.056225933),\n",
       " (7690203, -0.05451694),\n",
       " (7805052, -0.054283544),\n",
       " (7779399, -0.05421464),\n",
       " (7413056, -0.054062016),\n",
       " (7832017, -0.053937122),\n",
       " (7637636, -0.053534478),\n",
       " (7293380, -0.053451307),\n",
       " (6947033, -0.053138297),\n",
       " (7046254, -0.052985586),\n",
       " (6837799, -0.052966554),\n",
       " (7311687, -0.052920897),\n",
       " (7472718, -0.052915122),\n",
       " (6966499, -0.05263573),\n",
       " (7289817, -0.05258461),\n",
       " (7520407, -0.052514315),\n",
       " (7067710, -0.052286934),\n",
       " (7195526, -0.0521241),\n",
       " (7469472, -0.05208976),\n",
       " (7143114, -0.05206267),\n",
       " (7051615, -0.051929068),\n",
       " (6981869, -0.05184409),\n",
       " (7668147, -0.051712178),\n",
       " (8203586, -0.05164431),\n",
       " (7976443, -0.051441174),\n",
       " (6905118, -0.051245958),\n",
       " (7733033, -0.05123558),\n",
       " (7886140, -0.051052988),\n",
       " (6923342, -0.05079979),\n",
       " (7258401, -0.05045981),\n",
       " (7890745, -0.0502507),\n",
       " (6954221, -0.050225027),\n",
       " (7112208, -0.050216854),\n",
       " (7970246, -0.050015315),\n",
       " (7992226, -0.04984654),\n",
       " (7861445, -0.049398325),\n",
       " (7416125, -0.049343795),\n",
       " (7437328, -0.048859105),\n",
       " (7600192, -0.048849303),\n",
       " (7006431, -0.048796356),\n",
       " (8122113, -0.048787285),\n",
       " (8027880, -0.048750438),\n",
       " (8161168, -0.04867663),\n",
       " (8184832, -0.048587583),\n",
       " (6927714, -0.048481785),\n",
       " (8200649, -0.04846616),\n",
       " (8171387, -0.048406806),\n",
       " (7173863, -0.048406377),\n",
       " (7891322, -0.04804281),\n",
       " (7909157, -0.047604833),\n",
       " (7607768, -0.047366474),\n",
       " (8072220, -0.046626996),\n",
       " (7616436, -0.046303395),\n",
       " (7095321, -0.04624423),\n",
       " (7257374, -0.046163775),\n",
       " (7927994, -0.045887545),\n",
       " (7509772, -0.045481466),\n",
       " (7431616, -0.045055617),\n",
       " (7143719, -0.044902913),\n",
       " (7093595, -0.0447862),\n",
       " (7918237, -0.04472978),\n",
       " (8255607, -0.044001147),\n",
       " (6978457, -0.04393889),\n",
       " (7871500, -0.043908462),\n",
       " (7031329, -0.043865502),\n",
       " (6910106, -0.043458883),\n",
       " (7214028, -0.043168187),\n",
       " (7011487, -0.043106835),\n",
       " (6859551, -0.043032713),\n",
       " (8081122, -0.042672873),\n",
       " (7703699, -0.042621687),\n",
       " (7839926, -0.042155556),\n",
       " (7824266, -0.041692108),\n",
       " (7333287, -0.041638352),\n",
       " (7511954, -0.041579355),\n",
       " (7814128, -0.041258104),\n",
       " (7478659, -0.04120961),\n",
       " (7121832, -0.04106145),\n",
       " (7075037, -0.040884394),\n",
       " (7323629, -0.04076538),\n",
       " (6852116, -0.04065997),\n",
       " (7484925, -0.040560752),\n",
       " (7451114, -0.04043555),\n",
       " (8116083, -0.040324934),\n",
       " (7143589, -0.03978019),\n",
       " (6910708, -0.039722018),\n",
       " (8025315, -0.039714504),\n",
       " (6979130, -0.03947805),\n",
       " (7637939, -0.039076943),\n",
       " (7588653, -0.03825204),\n",
       " (8171509, -0.038077913),\n",
       " (8301948, -0.038057487),\n",
       " (7738746, -0.037701093),\n",
       " (7219260, -0.03754474),\n",
       " (7218186, -0.037096046),\n",
       " (7116365, -0.037010904),\n",
       " (6849176, -0.03700351),\n",
       " (8058835, -0.036619768),\n",
       " (8208549, -0.036059327),\n",
       " (7182148, -0.036014743),\n",
       " (6923567, -0.035869673),\n",
       " (7958430, -0.03579508),\n",
       " (7448584, -0.03569856),\n",
       " (7503011, -0.035637867),\n",
       " (7075541, -0.035522994),\n",
       " (7384025, -0.03491261),\n",
       " (7251732, -0.03486874),\n",
       " (7641414, -0.034751967),\n",
       " (7434958, -0.034681786),\n",
       " (6978906, -0.034489654),\n",
       " (7608064, -0.034488846),\n",
       " (7631760, -0.034363896),\n",
       " (7430610, -0.034143105),\n",
       " (7687970, -0.033927392),\n",
       " (7823877, -0.0336985),\n",
       " (7774833, -0.033662144),\n",
       " (7406434, -0.033464443),\n",
       " (7310335, -0.033301126),\n",
       " (7390150, -0.03246266),\n",
       " (8142495, -0.032429017),\n",
       " (7962696, -0.032173313),\n",
       " (7716511, -0.032066874),\n",
       " (7336114, -0.031872697),\n",
       " (7283044, -0.031817768),\n",
       " (7660868, -0.031565186),\n",
       " (6866638, -0.031187428),\n",
       " (7424499, -0.031162076),\n",
       " (7248463, -0.030912094),\n",
       " (7120550, -0.030662123),\n",
       " (7275263, -0.030578723),\n",
       " (7493728, -0.030356377),\n",
       " (7079424, -0.030302994),\n",
       " (7983498, -0.030247487),\n",
       " (7308135, -0.029945636),\n",
       " (8110131, -0.029868962),\n",
       " (7015894, -0.029755477),\n",
       " (7073568, -0.029694231),\n",
       " (7388946, -0.029534742),\n",
       " (8048118, -0.028917491),\n",
       " (7075616, -0.028855179),\n",
       " (8033841, -0.02883566),\n",
       " (7512347, -0.028627243),\n",
       " (7150732, -0.02860317),\n",
       " (7426833, -0.028513176),\n",
       " (7621066, -0.028450713),\n",
       " (7101233, -0.028197031),\n",
       " (7876744, -0.028026946),\n",
       " (7158689, -0.02802185),\n",
       " (8225629, -0.027801763),\n",
       " (7426262, -0.02775915),\n",
       " (6935168, -0.027614256),\n",
       " (7882258, -0.027234683),\n",
       " (6982432, -0.027110185),\n",
       " (7147407, -0.026863564),\n",
       " (7335177, -0.026844768),\n",
       " (7860919, -0.026784584),\n",
       " (8016362, -0.026552107),\n",
       " (7104426, -0.02644431),\n",
       " (8288992, -0.026114684),\n",
       " (7821583, -0.025346102),\n",
       " (6856341, -0.025271904),\n",
       " (8145726, -0.025239296),\n",
       " (7135961, -0.025168005),\n",
       " (7526562, -0.024958365),\n",
       " (8193097, -0.02464845),\n",
       " (7773398, -0.024603646),\n",
       " (7028446, -0.02435727),\n",
       " (8138731, -0.024312165),\n",
       " (7340364, -0.024117745),\n",
       " (7863777, -0.024097076),\n",
       " (7566147, -0.024030069),\n",
       " (7443587, -0.023816288),\n",
       " (6886261, -0.02374513),\n",
       " (7919988, -0.023743704),\n",
       " (7177426, -0.023549154),\n",
       " (8060525, -0.023182832),\n",
       " (7792829, -0.022927424),\n",
       " (7876116, -0.022859437),\n",
       " (7562725, -0.02267734),\n",
       " (7028861, -0.022632437),\n",
       " (7907125, -0.022583656),\n",
       " (7787480, -0.022495486),\n",
       " (7461404, -0.022298172),\n",
       " (6935644, -0.02215034),\n",
       " (7265789, -0.021729978),\n",
       " (7956651, -0.021129698),\n",
       " (7832431, -0.02091745),\n",
       " (8045323, -0.020887015),\n",
       " (7729924, -0.02086765),\n",
       " (7240422, -0.020530619),\n",
       " (7188340, -0.020457244),\n",
       " (7388247, -0.02029179),\n",
       " (6895125, -0.020066641),\n",
       " (7239481, -0.020015718),\n",
       " (7815800, -0.019884668),\n",
       " (7825815, -0.019881424),\n",
       " (7082777, -0.019782074),\n",
       " (7156790, -0.019160215),\n",
       " (7121366, -0.019003667),\n",
       " (8233139, -0.018922716),\n",
       " (7487076, -0.018913884),\n",
       " (8104137, -0.01873558),\n",
       " (7387339, -0.01870154),\n",
       " (7062934, -0.018478023),\n",
       " (7593114, -0.01840779),\n",
       " (7367885, -0.018265747),\n",
       " (7441759, -0.018145394),\n",
       " (7743203, -0.018027686),\n",
       " (7039254, -0.017977243),\n",
       " (7670107, -0.017952917),\n",
       " (7966319, -0.017696602),\n",
       " (7674118, -0.017351689),\n",
       " (7636038, -0.017280886),\n",
       " (7496344, -0.017147712),\n",
       " (7306495, -0.016466588),\n",
       " (7190933, -0.016334273),\n",
       " (6920291, -0.01633065),\n",
       " (7480244, -0.016311586),\n",
       " (7676431, -0.016147152),\n",
       " (7827125, -0.016131673),\n",
       " (7934177, -0.01584203),\n",
       " (8001404, -0.015834171),\n",
       " (7331684, -0.0156509),\n",
       " (6917855, -0.0155099025),\n",
       " (7420458, -0.0154172275),\n",
       " (7044507, -0.015342725),\n",
       " (6942698, -0.015262622),\n",
       " (7363384, -0.014905893),\n",
       " (6905310, -0.014902593),\n",
       " (8235857, -0.014892795),\n",
       " (7437765, -0.014810365),\n",
       " (7996956, -0.014585618),\n",
       " (7044083, -0.014525507),\n",
       " (6978840, -0.014023431),\n",
       " (7437313, -0.013982268),\n",
       " (7019650, -0.013754184),\n",
       " (7057739, -0.013734946),\n",
       " (8079052, -0.012806357),\n",
       " (7558992, -0.012737871),\n",
       " (7715448, -0.012730358),\n",
       " (7190451, -0.012376376),\n",
       " (7271995, -0.012120359),\n",
       " (7276858, -0.012108254),\n",
       " (7013748, -0.011713913),\n",
       " (6851764, -0.011664197),\n",
       " (7198429, -0.011657798),\n",
       " (7426128, -0.011516203),\n",
       " (7313515, -0.011198495),\n",
       " (7665310, -0.011139059),\n",
       " (7387634, -0.010889614),\n",
       " (7326213, -0.010741502),\n",
       " (6886743, -0.010620382),\n",
       " (7395322, -0.0101481015),\n",
       " (7418208, -0.009808803),\n",
       " (7112050, -0.009754465),\n",
       " (7176770, -0.009700973),\n",
       " (6880555, -0.009636635),\n",
       " (7662076, -0.009417585),\n",
       " (7207800, -0.009308672),\n",
       " (6929630, -0.008971233),\n",
       " (6888097, -0.008590903),\n",
       " (7492082, -0.008582524),\n",
       " (8122878, -0.008340733),\n",
       " (7614668, -0.008153817),\n",
       " (8104072, -0.007652669),\n",
       " (8326100, -0.007490077),\n",
       " (7863992, -0.0072763395),\n",
       " (7047744, -0.007275302),\n",
       " (7376013, -0.0067283907),\n",
       " (8328686, -0.0067205993),\n",
       " (7050194, -0.0064345715),\n",
       " (7377500, -0.006310659),\n",
       " (7703739, -0.0061526773),\n",
       " (7814087, -0.006025075),\n",
       " (7588291, -0.006018615),\n",
       " (7533739, -0.005628065),\n",
       " (7673600, -0.0056251227),\n",
       " (7724562, -0.0054346197),\n",
       " (7747926, -0.0054152436),\n",
       " (7164555, -0.005203849),\n",
       " (7612302, -0.0051631257),\n",
       " (7271827, -0.005125963),\n",
       " (6894703, -0.004862356),\n",
       " (7797382, -0.0047082705),\n",
       " (8126094, -0.004553086),\n",
       " (7343234, -0.0045230067),\n",
       " (7524380, -0.00403715),\n",
       " (7829778, -0.0039890595),\n",
       " (6930644, -0.003953051),\n",
       " (7043255, -0.0038269698),\n",
       " (7828265, -0.0034585334),\n",
       " (6927664, -0.0031197486),\n",
       " (7520568, -0.0029270435),\n",
       " (7830408, -0.0027240333),\n",
       " (7064272, -0.002334896),\n",
       " (7455338, -0.0022237608),\n",
       " (7975327, -0.002027768),\n",
       " (7197008, -0.002016367),\n",
       " (7003466, -0.0019883923),\n",
       " (7057392, -0.0017377203),\n",
       " (6858034, -0.0016099729),\n",
       " (8024439, -0.001578883),\n",
       " (7657548, -0.0014773533),\n",
       " (7049952, -0.0014429111),\n",
       " (7561519, -0.001373725),\n",
       " (7001425, -0.0013731507),\n",
       " (6988880, -0.0010876078),\n",
       " (7255631, -0.00080943364),\n",
       " (7109443, -0.0006657159),\n",
       " (7111234, -0.0006158622),\n",
       " (8226591, -0.0004029111),\n",
       " (7622912, -0.00031936413),\n",
       " (7274975, 0.00028815726),\n",
       " (7461262, 0.00031881873),\n",
       " (7680646, 0.00036679104),\n",
       " (7679329, 0.0003984617),\n",
       " (8229025, 0.0005106657),\n",
       " (7315100, 0.0005112882),\n",
       " (8260297, 0.00053385645),\n",
       " (6839292, 0.00058512297),\n",
       " (6975591, 0.0008046068),\n",
       " (7077853, 0.0008466486),\n",
       " (7313375, 0.0009279121),\n",
       " (7688466, 0.00093350373),\n",
       " (8075171, 0.0009370027),\n",
       " (6963885, 0.0012371021),\n",
       " (7167980, 0.0013555051),\n",
       " (7624271, 0.0016122535),\n",
       " (6903715, 0.0017732589),\n",
       " (8179692, 0.0017864723),\n",
       " (7000699, 0.0018773852),\n",
       " (6923734, 0.0019924399),\n",
       " (7234144, 0.002416551),\n",
       " (6889116, 0.0024449984),\n",
       " (7043231, 0.002667089),\n",
       " (6853713, 0.0031603738),\n",
       " (7748511, 0.003305208),\n",
       " (7023569, 0.0035186287),\n",
       " (8043199, 0.0037572798),\n",
       " (7905280, 0.0039201956),\n",
       " (7091886, 0.0040461705),\n",
       " (7640404, 0.0044588903),\n",
       " (7949605, 0.0045441324),\n",
       " (8037425, 0.0045543537),\n",
       " (6945210, 0.0045609586),\n",
       " (7864057, 0.0047769956),\n",
       " (8010524, 0.004833431),\n",
       " (7707714, 0.005046716),\n",
       " (7333496, 0.005286407),\n",
       " (8135800, 0.005433806),\n",
       " (7352610, 0.005572178),\n",
       " (7453440, 0.005617302),\n",
       " (7533112, 0.0058002756),\n",
       " (6928436, 0.0062266598),\n",
       " (7292389, 0.006308445),\n",
       " (7703447, 0.0065144124),\n",
       " (8261605, 0.0066315955),\n",
       " (8090691, 0.0067131),\n",
       " (8239130, 0.0068281177),\n",
       " (6985036, 0.007205947),\n",
       " (7886023, 0.0072976183),\n",
       " (6925631, 0.007437694),\n",
       " (8254896, 0.007617815),\n",
       " (7035812, 0.0077734147),\n",
       " (7837446, 0.007848438),\n",
       " (7737965, 0.008492593),\n",
       " (7880786, 0.008812917),\n",
       " (6930603, 0.009005551),\n",
       " (7555884, 0.00901424),\n",
       " (7263190, 0.009151422),\n",
       " (8011186, 0.009777461),\n",
       " (7373878, 0.009838089),\n",
       " (7680749, 0.010165904),\n",
       " (6955817, 0.010377877),\n",
       " (8213360, 0.010429274),\n",
       " (7410009, 0.010659856),\n",
       " (6939599, 0.010806904),\n",
       " (7450332, 0.010819952),\n",
       " (7659934, 0.011119685),\n",
       " (7913427, 0.011213927),\n",
       " (7464094, 0.011294579),\n",
       " (7806160, 0.01131979),\n",
       " (7929012, 0.011368254),\n",
       " (7697967, 0.01159602),\n",
       " (7373521, 0.01204909),\n",
       " (6964532, 0.012062534),\n",
       " (8171578, 0.012244372),\n",
       " (6931827, 0.012353814),\n",
       " (7673876, 0.01248936),\n",
       " (7377268, 0.012617646),\n",
       " (7289988, 0.012681315),\n",
       " (7418729, 0.0128120165),\n",
       " (7821714, 0.012865818),\n",
       " (7080160, 0.012920417),\n",
       " (6884008, 0.012955122),\n",
       " (7193966, 0.013344238),\n",
       " (7236632, 0.013421014),\n",
       " (7382072, 0.013594194),\n",
       " (8321223, 0.013606753),\n",
       " (7027182, 0.0138539085),\n",
       " (7849509, 0.014017617),\n",
       " (7293235, 0.014516928),\n",
       " (8104108, 0.014749369),\n",
       " (7013398, 0.01493278),\n",
       " (6976210, 0.014950791),\n",
       " (8289457, 0.015062892),\n",
       " (8104032, 0.015119547),\n",
       " (6883709, 0.01515057),\n",
       " (7291955, 0.015469743),\n",
       " (8154179, 0.015785784),\n",
       " (7185868, 0.015940063),\n",
       " (7211980, 0.016000872),\n",
       " (7142642, 0.016140897),\n",
       " (7694354, 0.016406624),\n",
       " (7044957, 0.016629186),\n",
       " (7363137, 0.016634522),\n",
       " (7457981, 0.016886357),\n",
       " (8096648, 0.01691665),\n",
       " (7489110, 0.017061051),\n",
       " (7445425, 0.017242458),\n",
       " (7757495, 0.017301692),\n",
       " (7360717, 0.017324874),\n",
       " (6905413, 0.017436564),\n",
       " (7251507, 0.017873144),\n",
       " (6860386, 0.017993327),\n",
       " (7129390, 0.018023599),\n",
       " (7225489, 0.018058613),\n",
       " (7886272, 0.01809251),\n",
       " (6973697, 0.018265676),\n",
       " (7230723, 0.018287191),\n",
       " (7408944, 0.01833269),\n",
       " (7957047, 0.018355336),\n",
       " (7458999, 0.018361574),\n",
       " (6991214, 0.018618505),\n",
       " (7602568, 0.018881837),\n",
       " (8234494, 0.018961197),\n",
       " (7433713, 0.019301224),\n",
       " (6984908, 0.01937953),\n",
       " (6864965, 0.019388363),\n",
       " (7987499, 0.019501021),\n",
       " (7188622, 0.019698245),\n",
       " (6971353, 0.019852761),\n",
       " (7702986, 0.019989854),\n",
       " (7887431, 0.020480396),\n",
       " (7207918, 0.020571403),\n",
       " (7348491, 0.02074439),\n",
       " (7964120, 0.020847589),\n",
       " (8228728, 0.020893969),\n",
       " (6837647, 0.02108449),\n",
       " (8334887, 0.021101644),\n",
       " (6892861, 0.021212732),\n",
       " (7800119, 0.02193027),\n",
       " (7803204, 0.022116069),\n",
       " (6959152, 0.022187889),\n",
       " (7106376, 0.022233846),\n",
       " (7663895, 0.022260696),\n",
       " (6876248, 0.022336174),\n",
       " (7677317, 0.022524469),\n",
       " (7302164, 0.022564586),\n",
       " (8225778, 0.022637362),\n",
       " (7811309, 0.022812061),\n",
       " (8280672, 0.023178348),\n",
       " (7460369, 0.023361417),\n",
       " (7131067, 0.023364728),\n",
       " (7693104, 0.023553727),\n",
       " (8336789, 0.02362729),\n",
       " (7178961, 0.023640238),\n",
       " (8240007, 0.023759201),\n",
       " (8257159, 0.023881325),\n",
       " (7441558, 0.023948036),\n",
       " (8267764, 0.024408158),\n",
       " (7134201, 0.025062498),\n",
       " (7952315, 0.025130652),\n",
       " (6863507, 0.02523009),\n",
       " (7874629, 0.025282586),\n",
       " (7277304, 0.025354994),\n",
       " (7830190, 0.025367517),\n",
       " (8023446, 0.025425592),\n",
       " (7747480, 0.025464622),\n",
       " (6910004, 0.025683492),\n",
       " (7507579, 0.025750596),\n",
       " (7784687, 0.025898725),\n",
       " (7359289, 0.026281523),\n",
       " (7532348, 0.026293708),\n",
       " (7801074, 0.02743056),\n",
       " (7801324, 0.02772626),\n",
       " (7383510, 0.027779235),\n",
       " (7761907, 0.027869597),\n",
       " (7215434, 0.02797067),\n",
       " (7200229, 0.02799212),\n",
       " (7711462, 0.028085947),\n",
       " (7664249, 0.028296957),\n",
       " (6841983, 0.028346714),\n",
       " (8191521, 0.02850511),\n",
       " (7210620, 0.028597772),\n",
       " (7216724, 0.028770344),\n",
       " (6972771, 0.02928534),\n",
       " (7258071, 0.029486595),\n",
       " (7314481, 0.029598163),\n",
       " (6981983, 0.03000119),\n",
       " (7242108, 0.030301115),\n",
       " (7242354, 0.030343823),\n",
       " (7130672, 0.030372124),\n",
       " (6899544, 0.030378256),\n",
       " (7685126, 0.030814301),\n",
       " (7249978, 0.030816877),\n",
       " (7651202, 0.031558365),\n",
       " (8132801, 0.03160045),\n",
       " (7998549, 0.031716406),\n",
       " (8295300, 0.0317557),\n",
       " (8011474, 0.03179956),\n",
       " (7575179, 0.03180396),\n",
       " (7656129, 0.03188173),\n",
       " (7036798, 0.032410346),\n",
       " (8186508, 0.03244692),\n",
       " (7473211, 0.0326372),\n",
       " (7450280, 0.032668047),\n",
       " (7164211, 0.03294236),\n",
       " (7384021, 0.032985285),\n",
       " (7129854, 0.033200208),\n",
       " (7206806, 0.033271115),\n",
       " (7506657, 0.033679374),\n",
       " (7228874, 0.033749104),\n",
       " (7873471, 0.03378822),\n",
       " (7946778, 0.033831574),\n",
       " (7281930, 0.03390245),\n",
       " (7059989, 0.034219775),\n",
       " (7924436, 0.03423594),\n",
       " (7406328, 0.034275237),\n",
       " (6954767, 0.03439033),\n",
       " (7254592, 0.034427747),\n",
       " (7298918, 0.034533817),\n",
       " (8054780, 0.034568198),\n",
       " (6884398, 0.03467745),\n",
       " (7708648, 0.03529235),\n",
       " (7639571, 0.035402548),\n",
       " (8034094, 0.035408914),\n",
       " (7149797, 0.035659358),\n",
       " (7347024, 0.035782788),\n",
       " (7201166, 0.035800204),\n",
       " (6876135, 0.03587678),\n",
       " (6976136, 0.035881005),\n",
       " (6853150, 0.036207512),\n",
       " (7021389, 0.036497947),\n",
       " (7367401, 0.03740483),\n",
       " (7736252, 0.038031362),\n",
       " (8015606, 0.038157463),\n",
       " (7204400, 0.038201295),\n",
       " (7065478, 0.0382537),\n",
       " (8076825, 0.038269136),\n",
       " (6963166, 0.038281437),\n",
       " (7684026, 0.038607333),\n",
       " (8064382, 0.038623042),\n",
       " (7903574, 0.038623665),\n",
       " (7097244, 0.038748045),\n",
       " (7018418, 0.038808916),\n",
       " (7257545, 0.038888913),\n",
       " (7024155, 0.038912553),\n",
       " (7488656, 0.03892215),\n",
       " (7430561, 0.038935788),\n",
       " (7231869, 0.03901765),\n",
       " (7698723, 0.039135106),\n",
       " (7307989, 0.039353702),\n",
       " (7278966, 0.039520852),\n",
       " (8052215, 0.0395535),\n",
       " (7847446, 0.03980772),\n",
       " (7306034, 0.03985258),\n",
       " (7102707, 0.04050269),\n",
       " (7181214, 0.040529363),\n",
       " (8145957, 0.040850382),\n",
       " (7429932, 0.040879562),\n",
       " (7821232, 0.041094106),\n",
       " ...]"
      ]
     },
     "execution_count": 53,
     "metadata": {},
     "output_type": "execute_result"
    }
   ],
   "source": [
    "sort_similarity_by_value( sim_dict, 12087297 )"
   ]
  },
  {
   "cell_type": "code",
   "execution_count": 26,
   "metadata": {},
   "outputs": [],
   "source": [
    "model = Model(input_shape=768, output_shape=100)"
   ]
  },
  {
   "cell_type": "code",
   "execution_count": 131,
   "metadata": {},
   "outputs": [
    {
     "name": "stdout",
     "output_type": "stream",
     "text": [
      "Loss at step 0: 0.09596\n",
      "Loss at step 10: 0.04093\n",
      "Loss at step 20: 0.00000\n",
      "Loss at step 30: 0.00000\n",
      "Loss at step 40: 0.00000\n",
      "CPU times: user 1min 30s, sys: 5.2 s, total: 1min 35s\n",
      "Wall time: 1min 19s\n"
     ]
    }
   ],
   "source": [
    "# %%time\n",
    "\n",
    "# ### EASY examples\n",
    "# train(test, 10, 50)"
   ]
  },
  {
   "cell_type": "code",
   "execution_count": 27,
   "metadata": {},
   "outputs": [
    {
     "name": "stdout",
     "output_type": "stream",
     "text": [
      "Loss at step 0: 0.19671\n",
      "Loss at step 10: 0.19589\n",
      "Loss at step 20: 0.19483\n",
      "Loss at step 30: 0.19342\n",
      "Loss at step 40: 0.19149\n",
      "CPU times: user 1min 32s, sys: 5.38 s, total: 1min 38s\n",
      "Wall time: 1min 20s\n"
     ]
    }
   ],
   "source": [
    "# %%time\n",
    "\n",
    "# ### HARD examples\n",
    "# train(test, 10, 50)"
   ]
  },
  {
   "cell_type": "code",
   "execution_count": null,
   "metadata": {},
   "outputs": [],
   "source": []
  },
  {
   "cell_type": "code",
   "execution_count": 52,
   "metadata": {},
   "outputs": [],
   "source": [
    "s = sort_similarity_by_value(sim_dict, 12411468)"
   ]
  },
  {
   "cell_type": "code",
   "execution_count": 53,
   "metadata": {},
   "outputs": [
    {
     "data": {
      "text/plain": [
       "[(7214786, 0.5762169750690092),\n",
       " (7355042, 0.6097554784789876),\n",
       " (7129390, 0.6223759222249304),\n",
       " (7384920, 0.6421321976972119),\n",
       " (7007804, 0.6643671272890019)]"
      ]
     },
     "execution_count": 53,
     "metadata": {},
     "output_type": "execute_result"
    }
   ],
   "source": [
    "s[0:5]"
   ]
  },
  {
   "cell_type": "code",
   "execution_count": 59,
   "metadata": {},
   "outputs": [],
   "source": [
    "test = [(idx,parsed) for idx,(parsed,sim) in enumerate(s) if parsed == 7061154]"
   ]
  },
  {
   "cell_type": "code",
   "execution_count": 60,
   "metadata": {},
   "outputs": [
    {
     "data": {
      "text/plain": [
       "[(1733, 7061154)]"
      ]
     },
     "execution_count": 60,
     "metadata": {},
     "output_type": "execute_result"
    }
   ],
   "source": [
    "test"
   ]
  },
  {
   "cell_type": "code",
   "execution_count": 61,
   "metadata": {},
   "outputs": [
    {
     "data": {
      "text/plain": [
       "[7326126,\n",
       " 6980185,\n",
       " 7722528,\n",
       " 7404613,\n",
       " 7578602,\n",
       " 7715103,\n",
       " 7347024,\n",
       " 7484979,\n",
       " 7248463]"
      ]
     },
     "execution_count": 61,
     "metadata": {},
     "output_type": "execute_result"
    }
   ],
   "source": [
    "make_uncited_grants_for_app_id(sim_dict, citations_info_target, 12411468, 1730, 1750, 10)"
   ]
  },
  {
   "cell_type": "code",
   "execution_count": 34,
   "metadata": {},
   "outputs": [
    {
     "data": {
      "text/html": [
       "<div>\n",
       "<style scoped>\n",
       "    .dataframe tbody tr th:only-of-type {\n",
       "        vertical-align: middle;\n",
       "    }\n",
       "\n",
       "    .dataframe tbody tr th {\n",
       "        vertical-align: top;\n",
       "    }\n",
       "\n",
       "    .dataframe thead th {\n",
       "        text-align: right;\n",
       "    }\n",
       "</style>\n",
       "<table border=\"1\" class=\"dataframe\">\n",
       "  <thead>\n",
       "    <tr style=\"text-align: right;\">\n",
       "      <th></th>\n",
       "      <th>app_id</th>\n",
       "      <th>app_fnm</th>\n",
       "      <th>citation_pat_pgpub_id</th>\n",
       "      <th>parsed</th>\n",
       "      <th>ifw_number</th>\n",
       "      <th>action_type</th>\n",
       "      <th>action_subtype</th>\n",
       "      <th>form892</th>\n",
       "      <th>form1449</th>\n",
       "      <th>citation_in_oa</th>\n",
       "      <th>...</th>\n",
       "      <th>rejection_103</th>\n",
       "      <th>rejection_112</th>\n",
       "      <th>rejection_dp</th>\n",
       "      <th>objection</th>\n",
       "      <th>allowed_claims</th>\n",
       "      <th>cite102_gt1</th>\n",
       "      <th>cite103_gt3</th>\n",
       "      <th>cite103_eq1</th>\n",
       "      <th>cite103_max</th>\n",
       "      <th>signature_type</th>\n",
       "    </tr>\n",
       "  </thead>\n",
       "  <tbody>\n",
       "    <tr>\n",
       "      <th>4089</th>\n",
       "      <td>12411468</td>\n",
       "      <td>/work/data/apps/2010/ipa100930/F_2468.xml</td>\n",
       "      <td>7061154</td>\n",
       "      <td>7061154</td>\n",
       "      <td>GJZUK1ELPPOPPY5</td>\n",
       "      <td>102.0</td>\n",
       "      <td>b</td>\n",
       "      <td>1</td>\n",
       "      <td>0</td>\n",
       "      <td>1</td>\n",
       "      <td>...</td>\n",
       "      <td>1</td>\n",
       "      <td>0</td>\n",
       "      <td>0</td>\n",
       "      <td>0</td>\n",
       "      <td>0</td>\n",
       "      <td>1</td>\n",
       "      <td>0</td>\n",
       "      <td>1</td>\n",
       "      <td>2</td>\n",
       "      <td>3</td>\n",
       "    </tr>\n",
       "    <tr>\n",
       "      <th>4090</th>\n",
       "      <td>12411468</td>\n",
       "      <td>/work/data/apps/2010/ipa100930/F_2468.xml</td>\n",
       "      <td>7061154</td>\n",
       "      <td>7061154</td>\n",
       "      <td>GJZUK1ELPPOPPY5</td>\n",
       "      <td>103.0</td>\n",
       "      <td>a</td>\n",
       "      <td>1</td>\n",
       "      <td>0</td>\n",
       "      <td>1</td>\n",
       "      <td>...</td>\n",
       "      <td>1</td>\n",
       "      <td>0</td>\n",
       "      <td>0</td>\n",
       "      <td>0</td>\n",
       "      <td>0</td>\n",
       "      <td>1</td>\n",
       "      <td>0</td>\n",
       "      <td>1</td>\n",
       "      <td>2</td>\n",
       "      <td>3</td>\n",
       "    </tr>\n",
       "  </tbody>\n",
       "</table>\n",
       "<p>2 rows × 41 columns</p>\n",
       "</div>"
      ],
      "text/plain": [
       "        app_id                                    app_fnm  \\\n",
       "4089  12411468  /work/data/apps/2010/ipa100930/F_2468.xml   \n",
       "4090  12411468  /work/data/apps/2010/ipa100930/F_2468.xml   \n",
       "\n",
       "     citation_pat_pgpub_id   parsed       ifw_number  action_type  \\\n",
       "4089               7061154  7061154  GJZUK1ELPPOPPY5        102.0   \n",
       "4090               7061154  7061154  GJZUK1ELPPOPPY5        103.0   \n",
       "\n",
       "     action_subtype  form892  form1449  citation_in_oa      ...        \\\n",
       "4089              b        1         0               1      ...         \n",
       "4090              a        1         0               1      ...         \n",
       "\n",
       "     rejection_103  rejection_112  rejection_dp  objection allowed_claims  \\\n",
       "4089             1              0             0          0              0   \n",
       "4090             1              0             0          0              0   \n",
       "\n",
       "     cite102_gt1  cite103_gt3 cite103_eq1  cite103_max signature_type  \n",
       "4089           1            0           1            2              3  \n",
       "4090           1            0           1            2              3  \n",
       "\n",
       "[2 rows x 41 columns]"
      ]
     },
     "execution_count": 34,
     "metadata": {},
     "output_type": "execute_result"
    }
   ],
   "source": [
    "citations_info_target[citations_info_target['app_id'] == 12411468]"
   ]
  },
  {
   "cell_type": "code",
   "execution_count": 37,
   "metadata": {},
   "outputs": [
    {
     "data": {
      "text/plain": [
       "{7061154}"
      ]
     },
     "execution_count": 37,
     "metadata": {},
     "output_type": "execute_result"
    }
   ],
   "source": [
    "set(citations_info_target[citations_info_target['app_id'] == 12411468]['parsed'])"
   ]
  },
  {
   "cell_type": "code",
   "execution_count": 39,
   "metadata": {},
   "outputs": [
    {
     "data": {
      "text/plain": [
       "{7061154}"
      ]
     },
     "execution_count": 39,
     "metadata": {},
     "output_type": "execute_result"
    }
   ],
   "source": [
    "get_cited_grants(citations_info_target, 12411468)"
   ]
  }
 ],
 "metadata": {
  "kernelspec": {
   "display_name": "Python 3",
   "language": "python",
   "name": "python3"
  },
  "language_info": {
   "codemirror_mode": {
    "name": "ipython",
    "version": 3
   },
   "file_extension": ".py",
   "mimetype": "text/x-python",
   "name": "python",
   "nbconvert_exporter": "python",
   "pygments_lexer": "ipython3",
   "version": "3.5.2"
  }
 },
 "nbformat": 4,
 "nbformat_minor": 2
}
