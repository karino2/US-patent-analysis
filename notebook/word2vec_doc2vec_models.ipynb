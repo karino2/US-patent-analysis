{
 "cells": [
  {
   "cell_type": "markdown",
   "metadata": {},
   "source": [
    "# Similarity computations using w2v and d2v\n",
    "\n",
    "Compute similarities among patents using word2vec and doc2vec models.  \n",
    "Use the same datasets as `tfidf_nearest.ipynb`."
   ]
  },
  {
   "cell_type": "code",
   "execution_count": 1,
   "metadata": {},
   "outputs": [],
   "source": [
    "import h5py\n",
    "import pandas as pd\n",
    "import numpy as np\n",
    "import pickle"
   ]
  },
  {
   "cell_type": "code",
   "execution_count": 2,
   "metadata": {},
   "outputs": [],
   "source": [
    "citations_info_target = pd.read_pickle(\"../data/citations_info_2000.df.gz\")\n",
    "training_app_df = pd.read_pickle(\"../data/training_app_1000.df.gz\")\n",
    "testset_app_df = pd.read_pickle(\"../data/testset_app_1000.df.gz\")\n",
    "grants_target_df = pd.read_pickle(\"../data/grants_for_2000.df.gz\")"
   ]
  },
  {
   "cell_type": "code",
   "execution_count": 3,
   "metadata": {},
   "outputs": [],
   "source": [
    "import re\n",
    "CLAIM_PAT = re.compile(r'<claims[^>]*>(.*)</claims>',re.MULTILINE|re.DOTALL)\n",
    "TAG_PAT = re.compile(r\"<.*?>\")\n",
    "def whole_xml_to_claim_xml(whole):\n",
    "    mat = CLAIM_PAT.search(whole)\n",
    "    return mat.group(1)\n",
    "def whole_xml_to_claim(whole):\n",
    "    return TAG_PAT.sub(' ', whole_xml_to_claim_xml(whole))\n",
    "\n",
    "grants_target_df[\"claim\"] = grants_target_df[\"xml\"].map(whole_xml_to_claim)"
   ]
  },
  {
   "cell_type": "code",
   "execution_count": 4,
   "metadata": {},
   "outputs": [],
   "source": [
    "def set_one_answer_appid(labeldf, oneappid):\n",
    "    cited_patids = citations_info_target[citations_info_target.app_id == oneappid].parsed\n",
    "    labeldf.loc[oneappid] = labeldf.columns.isin(cited_patids)\n",
    "    \n",
    "def create_label_df():\n",
    "    label_df = pd.DataFrame(columns=grants_target_df.parsed.values, dtype=np.bool)\n",
    "    for appid in testset_app_df.app_id:\n",
    "        set_one_answer_appid(label_df, appid)\n",
    "    return label_df\n",
    "\n",
    "label_df = create_label_df()"
   ]
  },
  {
   "cell_type": "code",
   "execution_count": 5,
   "metadata": {},
   "outputs": [],
   "source": [
    "def predict_test_set(predict_func):\n",
    "    \"\"\"\n",
    "    predict_func(claims) return NxM of boolean. N is len(claims). M is rownum of grants_target_df.\n",
    "            value indicate n claim is cite patent of m row of grants_all_df.\n",
    "    \"\"\"\n",
    "    predictdf = pd.DataFrame(columns=grants_target_df.parsed.values, dtype=np.bool)\n",
    "    res = predict_func(testset_app_df[\"xml\"].map(whole_xml_to_claim))\n",
    "    for idx, appid in enumerate(testset_app_df.app_id):\n",
    "        predictdf.loc[appid] = res[idx, :]\n",
    "    return predictdf"
   ]
  },
  {
   "cell_type": "code",
   "execution_count": 6,
   "metadata": {},
   "outputs": [],
   "source": [
    "def calc_TPs(preddf, labeldf):\n",
    "    return sum([sum(preddf.loc[one_appid][labeldf.loc[one_appid]]) for one_appid in testset_app_df.app_id])\n",
    "\n",
    "def calc_FPs(preddf, labeldf):\n",
    "    return sum([sum(preddf.loc[one_appid][~labeldf.loc[one_appid]]) for one_appid in testset_app_df.app_id])\n",
    "\n",
    "def calc_TNs(preddf, labeldf):\n",
    "    return sum([sum(preddf.loc[one_appid][~labeldf.loc[one_appid]] == False) for one_appid in testset_app_df.app_id])\n",
    "\n",
    "def calc_FNs(preddf, labeldf):\n",
    "    return sum([sum(preddf.loc[one_appid][labeldf.loc[one_appid]] == False) for one_appid in testset_app_df.app_id])\n",
    "\n",
    "def calc_TFPNs(preddf, labeldf):\n",
    "    return calc_TPs(preddf, labeldf), calc_FPs(preddf, labeldf), calc_TNs(preddf, labeldf), calc_FNs(preddf, labeldf)"
   ]
  },
  {
   "cell_type": "code",
   "execution_count": 7,
   "metadata": {},
   "outputs": [],
   "source": [
    "def calc_summary_TFPNs(TP, FP, TN, FN):\n",
    "    \"return acc, prec, recall, f1.\"\n",
    "    return pd.DataFrame(columns=[\"acc\", \"prec\", \"recall\", \"f1\"], data=[[(TP+TN)/(TP+FP+TN+FN), TP/(TP+FP), TP/(TP+FN), 2*TP/(2*TP+FP+FN)]])\n",
    "    \n",
    "def calc_summary(preddf, labeldf):\n",
    "    TP, FP, TN, FN = calc_TFPNs(preddf, labeldf)\n",
    "    return calc_summary_TFPNs(TP, FP, TN, FN)"
   ]
  },
  {
   "cell_type": "markdown",
   "metadata": {},
   "source": [
    "# Word2Vec model"
   ]
  },
  {
   "cell_type": "code",
   "execution_count": 8,
   "metadata": {},
   "outputs": [],
   "source": [
    "from gensim.models import Word2Vec\n",
    "from scipy import spatial\n",
    "\n",
    "import multiprocessing\n",
    "CPUNUM = multiprocessing.cpu_count()"
   ]
  },
  {
   "cell_type": "code",
   "execution_count": 9,
   "metadata": {},
   "outputs": [],
   "source": [
    "grants_target_claims = grants_target_df['claim'].map(lambda x:x.split()).tolist()"
   ]
  },
  {
   "cell_type": "code",
   "execution_count": 10,
   "metadata": {},
   "outputs": [
    {
     "name": "stdout",
     "output_type": "stream",
     "text": [
      "CPU times: user 2min 24s, sys: 425 ms, total: 2min 25s\n",
      "Wall time: 39.2 s\n"
     ]
    }
   ],
   "source": [
    "%%time\n",
    "\n",
    "w2v = Word2Vec(grants_target_claims, size=100, window=5, min_count=5, workers=CPUNUM, iter=10, hs=1)"
   ]
  },
  {
   "cell_type": "code",
   "execution_count": 11,
   "metadata": {},
   "outputs": [
    {
     "name": "stderr",
     "output_type": "stream",
     "text": [
      "/usr/local/lib/python3.5/dist-packages/ipykernel_launcher.py:1: DeprecationWarning: Call to deprecated `most_similar` (Method will be removed in 4.0.0, use self.wv.most_similar() instead).\n",
      "  \"\"\"Entry point for launching an IPython kernel.\n",
      "/usr/local/lib/python3.5/dist-packages/gensim/matutils.py:737: FutureWarning: Conversion of the second argument of issubdtype from `int` to `np.signedinteger` is deprecated. In future, it will be treated as `np.int64 == np.dtype(int).type`.\n",
      "  if np.issubdtype(vec.dtype, np.int):\n"
     ]
    },
    {
     "data": {
      "text/plain": [
       "[('machines', 0.498989462852478),\n",
       " ('machine.', 0.4812130630016327),\n",
       " ('machine,', 0.4266325831413269),\n",
       " ('sub-system', 0.42260175943374634),\n",
       " ('engine', 0.4178369343280792),\n",
       " ('sub-system,', 0.416022390127182),\n",
       " ('system', 0.4014444351196289),\n",
       " ('arrangement', 0.3917171359062195),\n",
       " ('medium', 0.3898860216140747),\n",
       " ('registry', 0.38966041803359985)]"
      ]
     },
     "execution_count": 11,
     "metadata": {},
     "output_type": "execute_result"
    }
   ],
   "source": [
    "w2v.most_similar('machine')"
   ]
  },
  {
   "cell_type": "code",
   "execution_count": 12,
   "metadata": {},
   "outputs": [],
   "source": [
    "grants_ids = columns=grants_target_df.parsed.values"
   ]
  },
  {
   "cell_type": "code",
   "execution_count": 13,
   "metadata": {},
   "outputs": [
    {
     "name": "stderr",
     "output_type": "stream",
     "text": [
      "/usr/local/lib/python3.5/dist-packages/ipykernel_launcher.py:1: DeprecationWarning: Call to deprecated `__getitem__` (Method will be removed in 4.0.0, use self.wv.__getitem__() instead).\n",
      "  \"\"\"Entry point for launching an IPython kernel.\n"
     ]
    },
    {
     "data": {
      "text/plain": [
       "array([-0.02874494,  1.5051155 ,  2.8695116 ,  0.6352596 ,  1.8710206 ,\n",
       "        0.22065717, -0.7221451 , -1.795708  ,  0.6495555 , -2.4453335 ,\n",
       "        0.5088709 ,  1.5201758 ,  1.7536943 , -0.21682355,  0.16243666,\n",
       "        2.3606777 ,  1.1397797 , -0.37961718, -1.9169936 ,  0.16223368,\n",
       "        0.66769606, -0.714554  , -1.0434326 , -1.985987  ,  2.4417868 ,\n",
       "       -0.23684612,  1.1743438 , -0.3844646 ,  1.3798729 ,  0.13665694,\n",
       "       -0.7199033 , -0.61454964, -0.25440404,  1.2129455 ,  1.1049573 ,\n",
       "       -0.14381033, -0.49564204,  2.190461  , -1.1458721 ,  0.36150506,\n",
       "        0.24387074, -0.31758544, -0.43413782,  0.90190035, -0.14067854,\n",
       "        0.5365779 ,  0.77395993, -0.5550861 , -0.11838039,  1.2492237 ,\n",
       "        2.2935867 , -0.2386921 ,  0.02345926,  1.2740526 , -1.1083058 ,\n",
       "        0.02743721,  0.32710654,  0.1868825 , -1.0381557 ,  1.6341794 ,\n",
       "       -0.26616442,  1.4961631 ,  0.45894694, -0.9184972 ,  0.24134654,\n",
       "        0.7245893 , -0.69919866, -0.92366385, -0.06156743,  0.24090917,\n",
       "        0.9696082 ,  2.207694  , -0.612004  , -2.5761673 , -0.37882802,\n",
       "       -0.48780733, -0.18569475,  0.6799183 , -1.2973597 ,  1.5465567 ,\n",
       "       -0.3701399 , -2.1642814 ,  0.90526366,  1.4889376 , -0.27577254,\n",
       "        1.2117192 ,  1.1062076 , -1.1568145 ,  0.5377997 ,  0.07853196,\n",
       "        1.3360491 , -0.38935554, -0.9575977 ,  0.7858518 ,  1.5675054 ,\n",
       "        0.37106487,  1.3520812 ,  1.7215583 ,  0.6212279 , -2.030914  ],\n",
       "      dtype=float32)"
      ]
     },
     "execution_count": 13,
     "metadata": {},
     "output_type": "execute_result"
    }
   ],
   "source": [
    "np.average(w2v[['machine', 'water']], axis=0)"
   ]
  },
  {
   "cell_type": "code",
   "execution_count": 14,
   "metadata": {},
   "outputs": [],
   "source": [
    "def text_to_vec(text):\n",
    "    words = text.split()\n",
    "    filtered_words = []\n",
    "    for word in words:\n",
    "        if word in w2v.wv.vocab:\n",
    "            filtered_words.append(word)\n",
    "    vec = np.average(w2v[filtered_words], axis=0)\n",
    "    return vec"
   ]
  },
  {
   "cell_type": "code",
   "execution_count": 15,
   "metadata": {},
   "outputs": [
    {
     "name": "stderr",
     "output_type": "stream",
     "text": [
      "/usr/local/lib/python3.5/dist-packages/ipykernel_launcher.py:7: DeprecationWarning: Call to deprecated `__getitem__` (Method will be removed in 4.0.0, use self.wv.__getitem__() instead).\n",
      "  import sys\n"
     ]
    }
   ],
   "source": [
    "grants_w2v_vectors = []\n",
    "for i, id in enumerate(grants_ids):\n",
    "    vec = text_to_vec(grants_target_df.loc[i]['claim'])\n",
    "    grants_w2v_vectors.append(vec)\n",
    "grants_w2v_vectors = np.array(grants_w2v_vectors)"
   ]
  },
  {
   "cell_type": "code",
   "execution_count": 16,
   "metadata": {},
   "outputs": [
    {
     "data": {
      "text/plain": [
       "array([0, 4])"
      ]
     },
     "execution_count": 16,
     "metadata": {},
     "output_type": "execute_result"
    }
   ],
   "source": [
    "np.argsort([6,1,2,4,5])[::-1][0:2]"
   ]
  },
  {
   "cell_type": "code",
   "execution_count": 17,
   "metadata": {},
   "outputs": [],
   "source": [
    "def find_most_similar(vec):\n",
    "    topN = 5\n",
    "    similarities = []\n",
    "    for grants_vec in grants_w2v_vectors:\n",
    "        sim = 1 - spatial.distance.cosine(vec, grants_vec)\n",
    "        similarities.append(sim)\n",
    "    return [np.argmax(similarities)]\n",
    "#     return np.argsort(similarities)[::-1][0:topN]"
   ]
  },
  {
   "cell_type": "code",
   "execution_count": 18,
   "metadata": {},
   "outputs": [
    {
     "data": {
      "text/plain": [
       "[2]"
      ]
     },
     "execution_count": 18,
     "metadata": {},
     "output_type": "execute_result"
    }
   ],
   "source": [
    "find_most_similar(grants_w2v_vectors[2,:])"
   ]
  },
  {
   "cell_type": "code",
   "execution_count": 19,
   "metadata": {},
   "outputs": [],
   "source": [
    "def predict_test_set():\n",
    "    predictdf = pd.DataFrame(columns=grants_target_df.parsed.values, dtype=np.bool)\n",
    "    for idx, appid in enumerate(testset_app_df.app_id):\n",
    "        text = whole_xml_to_claim(testset_app_df.loc[idx]['xml'])\n",
    "        vec = text_to_vec(text)\n",
    "        similar_grant_indexes = find_most_similar(vec)\n",
    "        predictdf.loc[appid] = False\n",
    "        for similar_grant_index in similar_grant_indexes:\n",
    "            similar_grant_id = grants_ids[similar_grant_index]\n",
    "            predictdf.loc[appid, similar_grant_id] = True\n",
    "        if idx%100 == 0:\n",
    "            print(idx)\n",
    "    return predictdf"
   ]
  },
  {
   "cell_type": "code",
   "execution_count": 20,
   "metadata": {},
   "outputs": [
    {
     "name": "stderr",
     "output_type": "stream",
     "text": [
      "/usr/local/lib/python3.5/dist-packages/ipykernel_launcher.py:7: DeprecationWarning: Call to deprecated `__getitem__` (Method will be removed in 4.0.0, use self.wv.__getitem__() instead).\n",
      "  import sys\n"
     ]
    },
    {
     "name": "stdout",
     "output_type": "stream",
     "text": [
      "0\n",
      "100\n",
      "200\n",
      "300\n",
      "400\n",
      "500\n",
      "600\n",
      "700\n",
      "800\n",
      "900\n",
      "CPU times: user 2min 47s, sys: 7.31 s, total: 2min 54s\n",
      "Wall time: 2min 54s\n"
     ]
    }
   ],
   "source": [
    "%%time\n",
    "\n",
    "pred_df = predict_test_set()"
   ]
  },
  {
   "cell_type": "code",
   "execution_count": 21,
   "metadata": {},
   "outputs": [
    {
     "data": {
      "text/html": [
       "<div>\n",
       "<style scoped>\n",
       "    .dataframe tbody tr th:only-of-type {\n",
       "        vertical-align: middle;\n",
       "    }\n",
       "\n",
       "    .dataframe tbody tr th {\n",
       "        vertical-align: top;\n",
       "    }\n",
       "\n",
       "    .dataframe thead th {\n",
       "        text-align: right;\n",
       "    }\n",
       "</style>\n",
       "<table border=\"1\" class=\"dataframe\">\n",
       "  <thead>\n",
       "    <tr style=\"text-align: right;\">\n",
       "      <th></th>\n",
       "      <th>6837383</th>\n",
       "      <th>6837647</th>\n",
       "      <th>6837799</th>\n",
       "      <th>6837893</th>\n",
       "      <th>6837910</th>\n",
       "      <th>6838140</th>\n",
       "      <th>6838207</th>\n",
       "      <th>6838507</th>\n",
       "      <th>6838812</th>\n",
       "      <th>6838925</th>\n",
       "      <th>...</th>\n",
       "      <th>8334161</th>\n",
       "      <th>8334431</th>\n",
       "      <th>8334887</th>\n",
       "      <th>8336128</th>\n",
       "      <th>8336158</th>\n",
       "      <th>8336789</th>\n",
       "      <th>8336964</th>\n",
       "      <th>8337193</th>\n",
       "      <th>8339697</th>\n",
       "      <th>8340894</th>\n",
       "    </tr>\n",
       "  </thead>\n",
       "  <tbody>\n",
       "    <tr>\n",
       "      <th>14307191</th>\n",
       "      <td>False</td>\n",
       "      <td>False</td>\n",
       "      <td>False</td>\n",
       "      <td>False</td>\n",
       "      <td>False</td>\n",
       "      <td>False</td>\n",
       "      <td>False</td>\n",
       "      <td>False</td>\n",
       "      <td>False</td>\n",
       "      <td>False</td>\n",
       "      <td>...</td>\n",
       "      <td>False</td>\n",
       "      <td>False</td>\n",
       "      <td>False</td>\n",
       "      <td>False</td>\n",
       "      <td>False</td>\n",
       "      <td>False</td>\n",
       "      <td>False</td>\n",
       "      <td>False</td>\n",
       "      <td>False</td>\n",
       "      <td>False</td>\n",
       "    </tr>\n",
       "    <tr>\n",
       "      <th>13137006</th>\n",
       "      <td>False</td>\n",
       "      <td>False</td>\n",
       "      <td>False</td>\n",
       "      <td>False</td>\n",
       "      <td>False</td>\n",
       "      <td>False</td>\n",
       "      <td>False</td>\n",
       "      <td>False</td>\n",
       "      <td>False</td>\n",
       "      <td>False</td>\n",
       "      <td>...</td>\n",
       "      <td>False</td>\n",
       "      <td>False</td>\n",
       "      <td>False</td>\n",
       "      <td>False</td>\n",
       "      <td>False</td>\n",
       "      <td>False</td>\n",
       "      <td>False</td>\n",
       "      <td>False</td>\n",
       "      <td>False</td>\n",
       "      <td>False</td>\n",
       "    </tr>\n",
       "    <tr>\n",
       "      <th>12741959</th>\n",
       "      <td>False</td>\n",
       "      <td>False</td>\n",
       "      <td>False</td>\n",
       "      <td>False</td>\n",
       "      <td>False</td>\n",
       "      <td>False</td>\n",
       "      <td>False</td>\n",
       "      <td>False</td>\n",
       "      <td>False</td>\n",
       "      <td>False</td>\n",
       "      <td>...</td>\n",
       "      <td>False</td>\n",
       "      <td>False</td>\n",
       "      <td>False</td>\n",
       "      <td>False</td>\n",
       "      <td>False</td>\n",
       "      <td>False</td>\n",
       "      <td>False</td>\n",
       "      <td>False</td>\n",
       "      <td>False</td>\n",
       "      <td>False</td>\n",
       "    </tr>\n",
       "    <tr>\n",
       "      <th>12643447</th>\n",
       "      <td>False</td>\n",
       "      <td>False</td>\n",
       "      <td>False</td>\n",
       "      <td>False</td>\n",
       "      <td>False</td>\n",
       "      <td>False</td>\n",
       "      <td>False</td>\n",
       "      <td>False</td>\n",
       "      <td>False</td>\n",
       "      <td>False</td>\n",
       "      <td>...</td>\n",
       "      <td>False</td>\n",
       "      <td>False</td>\n",
       "      <td>False</td>\n",
       "      <td>False</td>\n",
       "      <td>False</td>\n",
       "      <td>False</td>\n",
       "      <td>False</td>\n",
       "      <td>False</td>\n",
       "      <td>False</td>\n",
       "      <td>False</td>\n",
       "    </tr>\n",
       "    <tr>\n",
       "      <th>14200253</th>\n",
       "      <td>False</td>\n",
       "      <td>False</td>\n",
       "      <td>False</td>\n",
       "      <td>False</td>\n",
       "      <td>False</td>\n",
       "      <td>False</td>\n",
       "      <td>False</td>\n",
       "      <td>False</td>\n",
       "      <td>False</td>\n",
       "      <td>False</td>\n",
       "      <td>...</td>\n",
       "      <td>False</td>\n",
       "      <td>False</td>\n",
       "      <td>False</td>\n",
       "      <td>False</td>\n",
       "      <td>False</td>\n",
       "      <td>False</td>\n",
       "      <td>False</td>\n",
       "      <td>False</td>\n",
       "      <td>False</td>\n",
       "      <td>False</td>\n",
       "    </tr>\n",
       "  </tbody>\n",
       "</table>\n",
       "<p>5 rows × 2524 columns</p>\n",
       "</div>"
      ],
      "text/plain": [
       "          6837383  6837647  6837799  6837893  6837910  6838140  6838207  \\\n",
       "14307191    False    False    False    False    False    False    False   \n",
       "13137006    False    False    False    False    False    False    False   \n",
       "12741959    False    False    False    False    False    False    False   \n",
       "12643447    False    False    False    False    False    False    False   \n",
       "14200253    False    False    False    False    False    False    False   \n",
       "\n",
       "          6838507  6838812  6838925   ...     8334161  8334431  8334887  \\\n",
       "14307191    False    False    False   ...       False    False    False   \n",
       "13137006    False    False    False   ...       False    False    False   \n",
       "12741959    False    False    False   ...       False    False    False   \n",
       "12643447    False    False    False   ...       False    False    False   \n",
       "14200253    False    False    False   ...       False    False    False   \n",
       "\n",
       "          8336128  8336158  8336789  8336964  8337193  8339697  8340894  \n",
       "14307191    False    False    False    False    False    False    False  \n",
       "13137006    False    False    False    False    False    False    False  \n",
       "12741959    False    False    False    False    False    False    False  \n",
       "12643447    False    False    False    False    False    False    False  \n",
       "14200253    False    False    False    False    False    False    False  \n",
       "\n",
       "[5 rows x 2524 columns]"
      ]
     },
     "execution_count": 21,
     "metadata": {},
     "output_type": "execute_result"
    }
   ],
   "source": [
    "pred_df.head()"
   ]
  },
  {
   "cell_type": "code",
   "execution_count": 22,
   "metadata": {},
   "outputs": [
    {
     "data": {
      "text/html": [
       "<div>\n",
       "<style scoped>\n",
       "    .dataframe tbody tr th:only-of-type {\n",
       "        vertical-align: middle;\n",
       "    }\n",
       "\n",
       "    .dataframe tbody tr th {\n",
       "        vertical-align: top;\n",
       "    }\n",
       "\n",
       "    .dataframe thead th {\n",
       "        text-align: right;\n",
       "    }\n",
       "</style>\n",
       "<table border=\"1\" class=\"dataframe\">\n",
       "  <thead>\n",
       "    <tr style=\"text-align: right;\">\n",
       "      <th></th>\n",
       "      <th>acc</th>\n",
       "      <th>prec</th>\n",
       "      <th>recall</th>\n",
       "      <th>f1</th>\n",
       "    </tr>\n",
       "  </thead>\n",
       "  <tbody>\n",
       "    <tr>\n",
       "      <th>0</th>\n",
       "      <td>0.999216</td>\n",
       "      <td>0.136</td>\n",
       "      <td>0.108713</td>\n",
       "      <td>0.120835</td>\n",
       "    </tr>\n",
       "  </tbody>\n",
       "</table>\n",
       "</div>"
      ],
      "text/plain": [
       "        acc   prec    recall        f1\n",
       "0  0.999216  0.136  0.108713  0.120835"
      ]
     },
     "execution_count": 22,
     "metadata": {},
     "output_type": "execute_result"
    }
   ],
   "source": [
    "# top1\n",
    "calc_summary(pred_df, label_df)"
   ]
  },
  {
   "cell_type": "code",
   "execution_count": 114,
   "metadata": {},
   "outputs": [
    {
     "data": {
      "text/html": [
       "<div>\n",
       "<style scoped>\n",
       "    .dataframe tbody tr th:only-of-type {\n",
       "        vertical-align: middle;\n",
       "    }\n",
       "\n",
       "    .dataframe tbody tr th {\n",
       "        vertical-align: top;\n",
       "    }\n",
       "\n",
       "    .dataframe thead th {\n",
       "        text-align: right;\n",
       "    }\n",
       "</style>\n",
       "<table border=\"1\" class=\"dataframe\">\n",
       "  <thead>\n",
       "    <tr style=\"text-align: right;\">\n",
       "      <th></th>\n",
       "      <th>acc</th>\n",
       "      <th>prec</th>\n",
       "      <th>recall</th>\n",
       "      <th>f1</th>\n",
       "    </tr>\n",
       "  </thead>\n",
       "  <tbody>\n",
       "    <tr>\n",
       "      <th>0</th>\n",
       "      <td>0.997756</td>\n",
       "      <td>0.0588</td>\n",
       "      <td>0.235012</td>\n",
       "      <td>0.094065</td>\n",
       "    </tr>\n",
       "  </tbody>\n",
       "</table>\n",
       "</div>"
      ],
      "text/plain": [
       "        acc    prec    recall        f1\n",
       "0  0.997756  0.0588  0.235012  0.094065"
      ]
     },
     "execution_count": 114,
     "metadata": {},
     "output_type": "execute_result"
    }
   ],
   "source": [
    "# # top5\n",
    "# calc_summary(pred_df, label_df)"
   ]
  },
  {
   "cell_type": "markdown",
   "metadata": {},
   "source": [
    "## Example"
   ]
  },
  {
   "cell_type": "code",
   "execution_count": 23,
   "metadata": {},
   "outputs": [
    {
     "data": {
      "text/html": [
       "<div>\n",
       "<style scoped>\n",
       "    .dataframe tbody tr th:only-of-type {\n",
       "        vertical-align: middle;\n",
       "    }\n",
       "\n",
       "    .dataframe tbody tr th {\n",
       "        vertical-align: top;\n",
       "    }\n",
       "\n",
       "    .dataframe thead th {\n",
       "        text-align: right;\n",
       "    }\n",
       "</style>\n",
       "<table border=\"1\" class=\"dataframe\">\n",
       "  <thead>\n",
       "    <tr style=\"text-align: right;\">\n",
       "      <th></th>\n",
       "      <th>app_id</th>\n",
       "      <th>xml</th>\n",
       "    </tr>\n",
       "  </thead>\n",
       "  <tbody>\n",
       "    <tr>\n",
       "      <th>0</th>\n",
       "      <td>14307191</td>\n",
       "      <td>&lt;us-patent-application lang=\"EN\" dtd-version=\"...</td>\n",
       "    </tr>\n",
       "    <tr>\n",
       "      <th>1</th>\n",
       "      <td>13137006</td>\n",
       "      <td>&lt;us-patent-application lang=\"EN\" dtd-version=\"...</td>\n",
       "    </tr>\n",
       "    <tr>\n",
       "      <th>2</th>\n",
       "      <td>12741959</td>\n",
       "      <td>&lt;us-patent-application lang=\"EN\" dtd-version=\"...</td>\n",
       "    </tr>\n",
       "    <tr>\n",
       "      <th>3</th>\n",
       "      <td>12643447</td>\n",
       "      <td>&lt;us-patent-application lang=\"EN\" dtd-version=\"...</td>\n",
       "    </tr>\n",
       "    <tr>\n",
       "      <th>4</th>\n",
       "      <td>14200253</td>\n",
       "      <td>&lt;us-patent-application lang=\"EN\" dtd-version=\"...</td>\n",
       "    </tr>\n",
       "  </tbody>\n",
       "</table>\n",
       "</div>"
      ],
      "text/plain": [
       "     app_id                                                xml\n",
       "0  14307191  <us-patent-application lang=\"EN\" dtd-version=\"...\n",
       "1  13137006  <us-patent-application lang=\"EN\" dtd-version=\"...\n",
       "2  12741959  <us-patent-application lang=\"EN\" dtd-version=\"...\n",
       "3  12643447  <us-patent-application lang=\"EN\" dtd-version=\"...\n",
       "4  14200253  <us-patent-application lang=\"EN\" dtd-version=\"..."
      ]
     },
     "execution_count": 23,
     "metadata": {},
     "output_type": "execute_result"
    }
   ],
   "source": [
    "testset_app_df.head()"
   ]
  },
  {
   "cell_type": "code",
   "execution_count": 24,
   "metadata": {},
   "outputs": [
    {
     "name": "stdout",
     "output_type": "stream",
     "text": [
      "\n",
      " \n",
      "  1 . A method to aggregate, filter, and share energy data for analysis, the method comprising:\n",
      " receiving first data associated with a first electrical circuit, the first data having a first protocol; \n",
      " sampling the first data at a first sampling rate to generate first digital data, wherein the first sampling rate is substantially continuous; and \n",
      " transmitting reporting digital data over a network having a network protocol different from the first protocol, the reporting digital data comprising at least the first digital data, wherein the reporting digital data is transmitted at a reporting rate that is decoupled from the first sampling rate. \n",
      " \n",
      " \n",
      " \n",
      "  2 . The method of  claim 1  further comprising:\n",
      " receiving second data associated with a second electrical circuit, the second data having a second protocol different from the first protocol; and \n",
      " sampling the second data at a second sampling rate to generate second digital data, wherein the second sampling rate is substantially continuous; \n",
      " wherein the network protocol is different from the first protocol and the second protocol, wherein the reporting digital data comprises at least one of the first digital data and the second digital data, and wherein the reporting digital data is transmitted at the reporting rate that is decoupled from the first sampling rate and the second sampling rate. \n",
      " \n",
      " \n",
      " \n",
      "  3 . The method of  claim 1  wherein the reporting rate is substantially continuous. \n",
      " \n",
      " \n",
      "  4 . The method of  claim 2  further comprising:\n",
      " validating the first digital data and the second digital data to remove erroneous data points and to provide validated data; \n",
      " removing redundant data points from the validated data to provide reduced data; and \n",
      " transmitting messages based at least in part on the reduced data over the network. \n",
      " \n",
      " \n",
      " \n",
      "  5 . The method of  claim 2  further comprising analyzing the first data and the second data and transmitting messages comprising control signals for load control of at least one of the first and the second electrical circuits based on the analysis of the first data and the second data. \n",
      " \n",
      " \n",
      "  6 . The method of  claim 2  further comprising receiving control signals for load control of at least one of the first electrical circuit and the second electrical circuit. \n",
      " \n",
      " \n",
      "  7 . The method of  claim 1  wherein the network comprises the Internet, wherein the network is accessed by one or more of wired access and wireless access. \n",
      " \n",
      " \n",
      "  8 . The method of  claim 1  wherein the network comprises one or more servers in a cloud configuration. \n",
      " \n",
      " \n",
      "  9 . The method of  claim 2  further comprising storing at least one of the first digital data, the second digital data, and the reporting digital data until confirmation that the third digital data is successfully transmitted over the network. \n",
      " \n",
      " \n",
      "  10 . The method of  claim 1  wherein receiving the first electrical signal comprises receiving at least one of amplitude, phase, voltage, current, fundamental energy component, harmonic energy components, intermodulation energy components, and transient energy components associated with the first electrical signal. \n",
      " \n",
      " \n",
      "  11 . The method of  claim 1  wherein the first sampling rate is between approximately once every 15 minutes to approximately 1 MHz. \n",
      " \n",
      " \n",
      "  12 . An apparatus to aggregate, filter, and share energy data for analysis, the apparatus comprising:\n",
      " a first input configured to receive first data associated with a first electrical circuit, the first data having a first protocol; \n",
      " first circuitry configured to sample the first data at a first sampling rate to generate first digital data, wherein the first sampling rate is substantially continuous; and \n",
      " a communication port configured to transmit reporting digital data over a network having a network protocol different from the first protocol, the reporting digital data comprising at least the first digital data, wherein the reporting digital data is transmitted at a reporting rate that is decoupled from the first sampling rate. \n",
      " \n",
      " \n",
      " \n",
      "  13 . The apparatus of  claim 12  further comprising:\n",
      " a second input configured to receive second data associated with a second electrical circuit, the second data having a second protocol different from the first protocol; and \n",
      " second circuitry configured to sample the second data at a second sampling rate to generate second digital data, wherein the second sampling rate is substantially continuous; \n",
      " wherein the communication port is further configured to transmit the reporting digital data over the network having the network protocol different from the first protocol and the second protocol, the reporting digital data comprising at least one of the first digital data and the second digital data, and wherein the reporting digital data is transmitted at the reporting rate that is decoupled from the first sampling rate and the second sampling rate. \n",
      " \n",
      " \n",
      " \n",
      "  14 . The apparatus of  claim 12  wherein the reporting rate is substantially continuous. \n",
      " \n",
      " \n",
      "  15 . The apparatus of  claim 13  further comprising:\n",
      " computer hardware configured to validate the first digital data and the second digital data to remove erroneous data points and to provide validated data; and \n",
      " computer hardware configured to remove redundant data points from the validated data to provide reduced data; \n",
      " wherein the communication port is further configured to transmit messages based at least in part on the reduced data over the network. \n",
      " \n",
      " \n",
      " \n",
      "  16 . The apparatus of  claim 15  further comprising computer hardware configured to perform energy calculations on the reduced data to provide calculated energy data, wherein the computer hardware comprises cloud-based servers. \n",
      " \n",
      " \n",
      "  17 . The apparatus of  claim 16  wherein the calculated energy data comprises at least one of line-to-line and line-to-current voltage, total power, active power, reactive power, line-to-line and line-to-neutral current, power factor, fundamental and harmonic total energy per phase, fundamental and harmonic total energy for the sum of phases, fundamental and harmonic active energy per phase, fundamental and harmonic active energy for the sum of phases, fundamental and harmonic reactive energy per phase, fundamental and harmonic reactive energy for the sum of phases, frequency, harmonic frequency, gas usage, chilled water usage, hot water usage, and total energy usage. \n",
      " \n",
      " \n",
      "  18 . The apparatus of  claim 13  further comprising analytics configured to analyze the first data and the second data and to provide messages comprising control signals for load control of at least one of the first electrical circuit and the second electrical circuit based on the analysis of the first data and the second data. \n",
      " \n",
      " \n",
      "  19 . The apparatus of  claim 13  wherein the communication port is further configured to receive control signals for load control of at least one of the first electrical circuit and the second electrical circuit. \n",
      " \n",
      " \n",
      "  20 . The apparatus of  claim 12  wherein the network comprises the Internet, and wherein the network is accessed by one or more of wired access and wireless access. \n",
      " \n",
      " \n",
      "  21 . The apparatus of  claim 12  wherein the network comprises one or more servers in a cloud configuration. \n",
      " \n",
      " \n",
      "  22 . The apparatus of  claim 13  further comprising memory configured to store at least one of the first digital data, the second digital data, and the reporting digital data until confirmation that the reporting digital data is successfully transmitted over the network. \n",
      " \n",
      " \n",
      "  23 . The apparatus of  claim 12  wherein the first electrical signal comprises at least one of amplitude, phase, voltage, current, fundamental energy component, harmonic energy components, intermodulation energy components, and transient energy components associated with first electrical signal. \n",
      " \n",
      " \n",
      "  24 . The apparatus of  claim 12  wherein the first sampling rate is between approximately once every 15 minutes to approximately 1 MHz. \n",
      " \n",
      "\n",
      "1909    \\n \\n 1. An apparatus comprising:\\n a qualific...\n",
      "Name: claim, dtype: object\n"
     ]
    },
    {
     "name": "stderr",
     "output_type": "stream",
     "text": [
      "/usr/local/lib/python3.5/dist-packages/ipykernel_launcher.py:7: DeprecationWarning: Call to deprecated `__getitem__` (Method will be removed in 4.0.0, use self.wv.__getitem__() instead).\n",
      "  import sys\n"
     ]
    }
   ],
   "source": [
    "idx = 0\n",
    "appid = 14307191\n",
    "text = whole_xml_to_claim(testset_app_df.loc[idx]['xml'])\n",
    "vec = text_to_vec(text)\n",
    "similar_grant_index = find_most_similar(vec)\n",
    "similar_grant_id = grants_ids[similar_grant_index]\n",
    "print(text)\n",
    "print(grants_target_df.loc[similar_grant_index]['claim'])"
   ]
  },
  {
   "cell_type": "code",
   "execution_count": 25,
   "metadata": {},
   "outputs": [
    {
     "name": "stdout",
     "output_type": "stream",
     "text": [
      "\n",
      " \n",
      "  1 . A display apparatus, comprising:\n",
      " a position sensor to sense an eye position of a user; \n",
      " a controller to set a virtual viewing window corresponding to the sensed eye position of the user and to provide a control signal to generate a directional light toward the virtual viewing window; and \n",
      " a light generator to generate a directional light based on the control signal. \n",
      " \n",
      " \n",
      " \n",
      "  2 . The display apparatus of  claim 1 , further comprising:\n",
      " a light modulator to modulate an intensity of the directional light based on the control signal. \n",
      " \n",
      " \n",
      " \n",
      "  3 . The display apparatus of  claim 1 , wherein the position sensor comprises at least one camera to photograph the eye position of the user. \n",
      " \n",
      " \n",
      "  4 . The display apparatus of  claim 1 , wherein the position sensor comprises at least one camera to identify the eye position of the user by photographing an identifier fixed around the eye position of the user. \n",
      " \n",
      " \n",
      "  5 . The display apparatus of  claim 1 , wherein the light generator comprises:\n",
      " a backlight to generate a non-directional light; \n",
      " a variable slit to convert, based on the control signal, the non-directional light to a plurality of point light sources, each having a different position; and \n",
      " a lens to generate a directional light toward the virtual viewing window by refracting at least a part of the plurality of point light sources. \n",
      " \n",
      " \n",
      " \n",
      "  6 . The display apparatus of  claim 5 , wherein the variable slit corresponds to a plurality of pixels of a liquid crystal display (LCD) panel. \n",
      " \n",
      " \n",
      "  7 . The display apparatus of  claim 1 , wherein the controller comprises:\n",
      " an eye position detector to calculate a coordinate value of the eye position of the user on a space coordinate using the sensed eye position of the user; and \n",
      " a viewing window setting unit to determine at least one of a position of the virtual viewing window and a size of the virtual viewing window to cover the eye of the user using the coordinate value of the eye position of the user. \n",
      " \n",
      " \n",
      " \n",
      "  8 . The display apparatus of  claim 7 , wherein the controller further comprises:\n",
      " a directional light source controller to control a control signal to generate a directional light toward the virtual viewing window; and \n",
      " a light field image generator to provide a control signal to generate a three-dimensional (3D) image of a light field scheme by adjusting an intensity of the directional light toward the virtual viewing window. \n",
      " \n",
      " \n",
      " \n",
      "  9 . A display method, comprising:\n",
      " sensing an eye position of a user; \n",
      " setting a virtual viewing window corresponding to the sensed eye position of the user; and \n",
      " generating a directional light toward the virtual viewing window. \n",
      " \n",
      " \n",
      " \n",
      "  10 . The display method of  claim 9 , further comprising:\n",
      " displaying, on the virtual viewing window, a light field 3D image by controlling generated the directional light. \n",
      " \n",
      " \n",
      " \n",
      "  11 . The display method of  claim 9 , wherein the generating of the directional light comprises:\n",
      " generating a non-directional light using a backlight; \n",
      " converting, using a variable slit, the non-directional light to a plurality of point light sources, each having a different position; and \n",
      " generating a directional light toward the virtual viewing window by refracting at least a part of the plurality of point light sources using a refracting lens. \n",
      " \n",
      " \n",
      " \n",
      "  12 . The display method of  claim 9 , wherein the setting of the virtual viewing window comprises:\n",
      " calculating a coordinate value of the eye position of the user on a space coordinate using the sensed eye position of the user; and \n",
      " determining, to cover the eye of the user using the coordinate value of the eye position of the user, at least one of a position of the virtual viewing window and a size of the virtual viewing window. \n",
      " \n",
      " \n",
      " \n",
      "  13 . The display method of  claim 9 , wherein the sensing of the eye position of the user comprises:\n",
      " photographing a front image using at least one camera; and \n",
      " sensing the eye position of the user by identifying the eye of the user from the front image. \n",
      " \n",
      " \n",
      " \n",
      "  14 . The display method of  claim 9 , wherein the sensing of the eye position of the user comprises:\n",
      " photographing an identifier fixed around the eye position of the user using at least one camera. \n",
      " \n",
      " \n",
      " \n",
      "  15 . A non-transitory computer-readable medium comprising a program for instructing a computer to perform the display method of  claim 9 . \n",
      " \n",
      " \n",
      "  16 . The display method of  claim 12 , wherein the position of the virtual viewing window and the size of the virtual viewing window are determined based on a position of a pupil of the eye of the user and a size of the pupil, respectively. \n",
      " \n",
      " \n",
      "  17 . A display apparatus, comprising:\n",
      " a position sensor to sense an eye position of a user using at least one of a visible light band camera, an infrared camera, and a depth camera; \n",
      " a controller to set a size of a virtual viewing window and to determine a position of the virtual viewing window based on the eye position of the user and a size of the eye, and to provide a control signal to generate a directional light toward the virtual viewing window; and \n",
      " a light generator including a backlight providing a standard light source, a variable slit to modulate the standard light source to a point light source at a predetermined position, and a lens to generate, based on the control signal, the directional light by refracting the point light source toward the virtual viewing window. \n",
      " \n",
      " \n",
      " \n",
      "  18 . The display apparatus of  claim 17 , further comprising a light modulator to adjust at least one of an actual intensity of the point light and a direction of the directional light based on a control signal from the controller. \n",
      " \n",
      " \n",
      "  19 . The display apparatus of  claim 17 , wherein the controller sets the size of the virtual viewing window based on a size of a pupil of the eye of the user and determines the position of the virtual viewing window based on a position of the pupil. \n",
      " \n",
      " \n",
      "  20 . A display method comprising:\n",
      " continuously tracing a pupil position of an eye of a viewer of a display; \n",
      " dynamically setting a virtual viewing window of the display to correspond to the continuously traced pupil position; and \n",
      " generating an image in the virtual viewing window while not generating an image in portions of the display that do not correspond to the virtual viewing window.  \n",
      " \n",
      " \n",
      "\n",
      "889    \\n \\n 1. A data input device comprising:\\n an ...\n",
      "Name: claim, dtype: object\n"
     ]
    },
    {
     "name": "stderr",
     "output_type": "stream",
     "text": [
      "/usr/local/lib/python3.5/dist-packages/ipykernel_launcher.py:7: DeprecationWarning: Call to deprecated `__getitem__` (Method will be removed in 4.0.0, use self.wv.__getitem__() instead).\n",
      "  import sys\n"
     ]
    }
   ],
   "source": [
    "idx = 1\n",
    "text = whole_xml_to_claim(testset_app_df.loc[idx]['xml'])\n",
    "vec = text_to_vec(text)\n",
    "similar_grant_index = find_most_similar(vec)\n",
    "similar_grant_id = grants_ids[similar_grant_index]\n",
    "print(text)\n",
    "print(grants_target_df.loc[similar_grant_index]['claim'])"
   ]
  },
  {
   "cell_type": "code",
   "execution_count": null,
   "metadata": {},
   "outputs": [],
   "source": []
  },
  {
   "cell_type": "code",
   "execution_count": null,
   "metadata": {},
   "outputs": [],
   "source": []
  },
  {
   "cell_type": "code",
   "execution_count": null,
   "metadata": {},
   "outputs": [],
   "source": []
  },
  {
   "cell_type": "markdown",
   "metadata": {},
   "source": [
    "## Trial and error"
   ]
  },
  {
   "cell_type": "code",
   "execution_count": 26,
   "metadata": {},
   "outputs": [],
   "source": [
    "predictdf = pd.DataFrame(columns=grants_target_df.parsed.values, dtype=np.bool)"
   ]
  },
  {
   "cell_type": "code",
   "execution_count": 27,
   "metadata": {},
   "outputs": [],
   "source": [
    "predictdf.loc[14307191] = False"
   ]
  },
  {
   "cell_type": "code",
   "execution_count": 28,
   "metadata": {},
   "outputs": [],
   "source": [
    "predictdf.loc[14307191, 6837383] = True"
   ]
  },
  {
   "cell_type": "code",
   "execution_count": 29,
   "metadata": {},
   "outputs": [
    {
     "data": {
      "text/html": [
       "<div>\n",
       "<style scoped>\n",
       "    .dataframe tbody tr th:only-of-type {\n",
       "        vertical-align: middle;\n",
       "    }\n",
       "\n",
       "    .dataframe tbody tr th {\n",
       "        vertical-align: top;\n",
       "    }\n",
       "\n",
       "    .dataframe thead th {\n",
       "        text-align: right;\n",
       "    }\n",
       "</style>\n",
       "<table border=\"1\" class=\"dataframe\">\n",
       "  <thead>\n",
       "    <tr style=\"text-align: right;\">\n",
       "      <th></th>\n",
       "      <th>6837383</th>\n",
       "      <th>6837647</th>\n",
       "      <th>6837799</th>\n",
       "      <th>6837893</th>\n",
       "      <th>6837910</th>\n",
       "      <th>6838140</th>\n",
       "      <th>6838207</th>\n",
       "      <th>6838507</th>\n",
       "      <th>6838812</th>\n",
       "      <th>6838925</th>\n",
       "      <th>...</th>\n",
       "      <th>8334161</th>\n",
       "      <th>8334431</th>\n",
       "      <th>8334887</th>\n",
       "      <th>8336128</th>\n",
       "      <th>8336158</th>\n",
       "      <th>8336789</th>\n",
       "      <th>8336964</th>\n",
       "      <th>8337193</th>\n",
       "      <th>8339697</th>\n",
       "      <th>8340894</th>\n",
       "    </tr>\n",
       "  </thead>\n",
       "  <tbody>\n",
       "    <tr>\n",
       "      <th>14307191</th>\n",
       "      <td>True</td>\n",
       "      <td>False</td>\n",
       "      <td>False</td>\n",
       "      <td>False</td>\n",
       "      <td>False</td>\n",
       "      <td>False</td>\n",
       "      <td>False</td>\n",
       "      <td>False</td>\n",
       "      <td>False</td>\n",
       "      <td>False</td>\n",
       "      <td>...</td>\n",
       "      <td>False</td>\n",
       "      <td>False</td>\n",
       "      <td>False</td>\n",
       "      <td>False</td>\n",
       "      <td>False</td>\n",
       "      <td>False</td>\n",
       "      <td>False</td>\n",
       "      <td>False</td>\n",
       "      <td>False</td>\n",
       "      <td>False</td>\n",
       "    </tr>\n",
       "  </tbody>\n",
       "</table>\n",
       "<p>1 rows × 2524 columns</p>\n",
       "</div>"
      ],
      "text/plain": [
       "          6837383  6837647  6837799  6837893  6837910  6838140  6838207  \\\n",
       "14307191     True    False    False    False    False    False    False   \n",
       "\n",
       "          6838507  6838812  6838925   ...     8334161  8334431  8334887  \\\n",
       "14307191    False    False    False   ...       False    False    False   \n",
       "\n",
       "          8336128  8336158  8336789  8336964  8337193  8339697  8340894  \n",
       "14307191    False    False    False    False    False    False    False  \n",
       "\n",
       "[1 rows x 2524 columns]"
      ]
     },
     "execution_count": 29,
     "metadata": {},
     "output_type": "execute_result"
    }
   ],
   "source": [
    "predictdf"
   ]
  },
  {
   "cell_type": "code",
   "execution_count": 30,
   "metadata": {},
   "outputs": [
    {
     "data": {
      "text/plain": [
       "True"
      ]
     },
     "execution_count": 30,
     "metadata": {},
     "output_type": "execute_result"
    }
   ],
   "source": [
    "predictdf.loc[14307191, 6837383]"
   ]
  },
  {
   "cell_type": "code",
   "execution_count": null,
   "metadata": {},
   "outputs": [],
   "source": []
  },
  {
   "cell_type": "code",
   "execution_count": null,
   "metadata": {},
   "outputs": [],
   "source": []
  },
  {
   "cell_type": "code",
   "execution_count": null,
   "metadata": {},
   "outputs": [],
   "source": []
  },
  {
   "cell_type": "markdown",
   "metadata": {},
   "source": [
    "# Doc2vec model"
   ]
  },
  {
   "cell_type": "code",
   "execution_count": 26,
   "metadata": {},
   "outputs": [
    {
     "data": {
      "text/plain": [
       "'\\n \\n 1. A tool organizer for mounting to and adapted for use with a vehicle lift rack having support arms, said tool organizer comprising:\\n four upstanding walls depending from a base and forming a storage volume for storing a plurality of tools and parts;  \\n a selectively articulating lid enclosing said storage volume;  \\n adjustable attachment means depending from said storage volume, said attachment means removably attachable to said support arms for supporting said tool organizer by gravity impingement;  \\n a U-shaped ring affixed to an external portion of at least one of said walls, said ring for supporting a hand tool;  \\n a support plate projected from a front of said tool organizer and co-extensive with said base;  \\n a plurality of intermediate apertures formed in said support plate, said plurality of intermediate apertures adapted sized to accommodate intermediate and large hand tools;  \\n a plurality of small apertures formed in said support plate, said plurality of small apertures adapted to accommodate small hand tools;  \\n at least one large aperture formed in said support plate, said at least one large aperture adapted to accommodate a container.  \\n \\n \\n \\n 2. The tool organizer of  claim 1  further comprising a slidably retained storage drawer provided beneath said base and said support plate for additional storage area, said base and said support plate operating as an enclosure for said storage drawer. \\n \\n \\n 3. The tool organizer of  claim 2 , wherein a face of said storage drawer is co-extensive with an anterior margin of said support plate, said storage drawer further comprising a handle for easily grasping for selectively opening and closing said storage drawer. \\n \\n \\n 4. The tool organizer of  claim 1 , wherein said tool organizer rests cantilevered to said support arms, thereby positioning said storage volume below a horizontal level of said support arms. \\n \\n \\n 5. The tool organizer of  claim 1 , wherein said four upstanding walls comprise a front wall opposite a rear wall, a first sidewall opposite a second sidewall, wherein said first sidewall and said second sidewall are intermediately disposed between said front wall and said rear wall. \\n \\n \\n 6. The tool organizer of  claim 5 , wherein said rear wall comprises a greater vertical profile than said front wall for providing ease of access to said storage volume. \\n \\n \\n 7. The tool organizer of  claim 5 , wherein said first sidewall and said second sidewall are inclined from said front wall to said rear wall for providing ease of access to said storage volume. \\n \\n \\n 8. The tool organizer of  claim 1 , wherein said lid is affixed to said storage volume by an articulating hinge. \\n \\n \\n 9. The tool organizer of  claim 1 , wherein said lid comprises a lock for securing contents of said storage volume from unauthorized removal and theft. \\n \\n \\n 10. The tool organizer of  claim 1 , wherein said attachment means comprise at least one hook adjustable in length to accommodate variations in widths of said support arms. \\n \\n \\n 11. The tool organizer of  claim 1 , wherein at least one of said upstanding walls comprises magnetic properties for attracting and supporting magnetic objects. \\n \\n \\n 12. The tool organizer of  claim 1 , wherein said tool organizer comprises a color in a general class of yellow for providing visual indication of said tool organizer location. \\n \\n'"
      ]
     },
     "execution_count": 26,
     "metadata": {},
     "output_type": "execute_result"
    }
   ],
   "source": [
    "grants_target_df['claim'][0]"
   ]
  },
  {
   "cell_type": "markdown",
   "metadata": {},
   "source": [
    "### Do simple text preprocessing and create datasets for doc2vec model."
   ]
  },
  {
   "cell_type": "code",
   "execution_count": 27,
   "metadata": {},
   "outputs": [],
   "source": [
    "preprocessed_grant_data = grants_target_df['claim'].str\\\n",
    "    .replace(\"\\n\", \"\", regex=False).str\\\n",
    "    .replace(\"[0-9]*\\.\", \"\", regex=True).str\\\n",
    "    .replace(\"[,:;]\", \"\", regex=True).str\\\n",
    "    .replace(\"a |A |the |The \", \"\", regex=True)"
   ]
  },
  {
   "cell_type": "code",
   "execution_count": 28,
   "metadata": {},
   "outputs": [
    {
     "data": {
      "text/plain": [
       "'   tool organizer for mounting to and adapted for use with vehicle lift rack having support arms said tool organizer comprising four upstanding walls depending from base and forming storage volume for storing plurality of tools and parts   selectively articulating lid enclosing said storage volume   adjustable attachment means depending from said storage volume said attachment means removably attachable to said support arms for supporting said tool organizer by gravity impingement   U-shaped ring affixed to an external portion of at least one of said walls said ring for supporting hand tool   support plate projected from front of said tool organizer and co-extensive with said base   plurality of intermediate apertures formed in said support plate said plurality of intermediate apertures adapted sized to accommodate intermediate and large hand tools   plurality of small apertures formed in said support plate said plurality of small apertures adapted to accommodate small hand tools   at least one large aperture formed in said support plate said at least one large aperture adapted to accommodate container       tool organizer of  claim 1  further comprising slidably retained storage drawer provided beneath said base and said support plate for additional storage aresaid base and said support plate operating as an enclosure for said storage drawer     tool organizer of  claim 2  wherein face of said storage drawer is co-extensive with an anterior margin of said support plate said storage drawer further comprising handle for easily grasping for selectively opening and closing said storage drawer     tool organizer of  claim 1  wherein said tool organizer rests cantilevered to said support arms thereby positioning said storage volume below horizontal level of said support arms     tool organizer of  claim 1  wherein said four upstanding walls comprise front wall opposite rear wall first sidewall opposite second sidewall wherein said first sidewall and said second sidewall are intermediately disposed between said front wall and said rear wall     tool organizer of  claim 5  wherein said rear wall comprises greater vertical profile than said front wall for providing ease of access to said storage volume     tool organizer of  claim 5  wherein said first sidewall and said second sidewall are inclined from said front wall to said rear wall for providing ease of access to said storage volume     tool organizer of  claim 1  wherein said lid is affixed to said storage volume by an articulating hinge     tool organizer of  claim 1  wherein said lid comprises lock for securing contents of said storage volume from unauthorized removal and theft     tool organizer of  claim 1  wherein said attachment means comprise at least one hook adjustable in length to accommodate variations in widths of said support arms     tool organizer of  claim 1  wherein at least one of said upstanding walls comprises magnetic properties for attracting and supporting magnetic objects     tool organizer of  claim 1  wherein said tool organizer comprises color in general class of yellow for providing visual indication of said tool organizer location  '"
      ]
     },
     "execution_count": 28,
     "metadata": {},
     "output_type": "execute_result"
    }
   ],
   "source": [
    "preprocessed_grant_data[0]"
   ]
  },
  {
   "cell_type": "code",
   "execution_count": 29,
   "metadata": {},
   "outputs": [],
   "source": [
    "from gensim.models import doc2vec\n",
    "from gensim.utils import simple_preprocess"
   ]
  },
  {
   "cell_type": "code",
   "execution_count": 30,
   "metadata": {},
   "outputs": [],
   "source": [
    "d2v_grant_data = list()\n",
    "\n",
    "for idx, elem in enumerate(preprocessed_grant_data):\n",
    "    d2v_grant_data.append(\n",
    "        doc2vec.TaggedDocument(simple_preprocess(elem), [str(grants_target_df.parsed[idx])])\n",
    "    )"
   ]
  },
  {
   "cell_type": "code",
   "execution_count": 31,
   "metadata": {},
   "outputs": [
    {
     "data": {
      "text/plain": [
       "TaggedDocument(words=['tool', 'organizer', 'for', 'mounting', 'to', 'and', 'adapted', 'for', 'use', 'with', 'vehicle', 'lift', 'rack', 'having', 'support', 'arms', 'said', 'tool', 'organizer', 'comprising', 'four', 'upstanding', 'walls', 'depending', 'from', 'base', 'and', 'forming', 'storage', 'volume', 'for', 'storing', 'plurality', 'of', 'tools', 'and', 'parts', 'selectively', 'articulating', 'lid', 'enclosing', 'said', 'storage', 'volume', 'adjustable', 'attachment', 'means', 'depending', 'from', 'said', 'storage', 'volume', 'said', 'attachment', 'means', 'removably', 'attachable', 'to', 'said', 'support', 'arms', 'for', 'supporting', 'said', 'tool', 'organizer', 'by', 'gravity', 'impingement', 'shaped', 'ring', 'affixed', 'to', 'an', 'external', 'portion', 'of', 'at', 'least', 'one', 'of', 'said', 'walls', 'said', 'ring', 'for', 'supporting', 'hand', 'tool', 'support', 'plate', 'projected', 'from', 'front', 'of', 'said', 'tool', 'organizer', 'and', 'co', 'extensive', 'with', 'said', 'base', 'plurality', 'of', 'intermediate', 'apertures', 'formed', 'in', 'said', 'support', 'plate', 'said', 'plurality', 'of', 'intermediate', 'apertures', 'adapted', 'sized', 'to', 'accommodate', 'intermediate', 'and', 'large', 'hand', 'tools', 'plurality', 'of', 'small', 'apertures', 'formed', 'in', 'said', 'support', 'plate', 'said', 'plurality', 'of', 'small', 'apertures', 'adapted', 'to', 'accommodate', 'small', 'hand', 'tools', 'at', 'least', 'one', 'large', 'aperture', 'formed', 'in', 'said', 'support', 'plate', 'said', 'at', 'least', 'one', 'large', 'aperture', 'adapted', 'to', 'accommodate', 'container', 'tool', 'organizer', 'of', 'claim', 'further', 'comprising', 'slidably', 'retained', 'storage', 'drawer', 'provided', 'beneath', 'said', 'base', 'and', 'said', 'support', 'plate', 'for', 'additional', 'storage', 'aresaid', 'base', 'and', 'said', 'support', 'plate', 'operating', 'as', 'an', 'enclosure', 'for', 'said', 'storage', 'drawer', 'tool', 'organizer', 'of', 'claim', 'wherein', 'face', 'of', 'said', 'storage', 'drawer', 'is', 'co', 'extensive', 'with', 'an', 'anterior', 'margin', 'of', 'said', 'support', 'plate', 'said', 'storage', 'drawer', 'further', 'comprising', 'handle', 'for', 'easily', 'grasping', 'for', 'selectively', 'opening', 'and', 'closing', 'said', 'storage', 'drawer', 'tool', 'organizer', 'of', 'claim', 'wherein', 'said', 'tool', 'organizer', 'rests', 'cantilevered', 'to', 'said', 'support', 'arms', 'thereby', 'positioning', 'said', 'storage', 'volume', 'below', 'horizontal', 'level', 'of', 'said', 'support', 'arms', 'tool', 'organizer', 'of', 'claim', 'wherein', 'said', 'four', 'upstanding', 'walls', 'comprise', 'front', 'wall', 'opposite', 'rear', 'wall', 'first', 'sidewall', 'opposite', 'second', 'sidewall', 'wherein', 'said', 'first', 'sidewall', 'and', 'said', 'second', 'sidewall', 'are', 'intermediately', 'disposed', 'between', 'said', 'front', 'wall', 'and', 'said', 'rear', 'wall', 'tool', 'organizer', 'of', 'claim', 'wherein', 'said', 'rear', 'wall', 'comprises', 'greater', 'vertical', 'profile', 'than', 'said', 'front', 'wall', 'for', 'providing', 'ease', 'of', 'access', 'to', 'said', 'storage', 'volume', 'tool', 'organizer', 'of', 'claim', 'wherein', 'said', 'first', 'sidewall', 'and', 'said', 'second', 'sidewall', 'are', 'inclined', 'from', 'said', 'front', 'wall', 'to', 'said', 'rear', 'wall', 'for', 'providing', 'ease', 'of', 'access', 'to', 'said', 'storage', 'volume', 'tool', 'organizer', 'of', 'claim', 'wherein', 'said', 'lid', 'is', 'affixed', 'to', 'said', 'storage', 'volume', 'by', 'an', 'articulating', 'hinge', 'tool', 'organizer', 'of', 'claim', 'wherein', 'said', 'lid', 'comprises', 'lock', 'for', 'securing', 'contents', 'of', 'said', 'storage', 'volume', 'from', 'unauthorized', 'removal', 'and', 'theft', 'tool', 'organizer', 'of', 'claim', 'wherein', 'said', 'attachment', 'means', 'comprise', 'at', 'least', 'one', 'hook', 'adjustable', 'in', 'length', 'to', 'accommodate', 'variations', 'in', 'widths', 'of', 'said', 'support', 'arms', 'tool', 'organizer', 'of', 'claim', 'wherein', 'at', 'least', 'one', 'of', 'said', 'upstanding', 'walls', 'comprises', 'magnetic', 'properties', 'for', 'attracting', 'and', 'supporting', 'magnetic', 'objects', 'tool', 'organizer', 'of', 'claim', 'wherein', 'said', 'tool', 'organizer', 'comprises', 'color', 'in', 'general', 'class', 'of', 'yellow', 'for', 'providing', 'visual', 'indication', 'of', 'said', 'tool', 'organizer', 'location'], tags=['6837383'])"
      ]
     },
     "execution_count": 31,
     "metadata": {},
     "output_type": "execute_result"
    }
   ],
   "source": [
    "d2v_grant_data[0]"
   ]
  },
  {
   "cell_type": "markdown",
   "metadata": {},
   "source": [
    "### doc2vec model training.\n",
    "\n",
    "model parameters: https://radimrehurek.com/gensim/models/doc2vec.html"
   ]
  },
  {
   "cell_type": "code",
   "execution_count": 32,
   "metadata": {},
   "outputs": [],
   "source": [
    "import multiprocessing\n",
    "CPUNUM = multiprocessing.cpu_count()"
   ]
  },
  {
   "cell_type": "code",
   "execution_count": 33,
   "metadata": {},
   "outputs": [
    {
     "name": "stdout",
     "output_type": "stream",
     "text": [
      "CPU times: user 9min 1s, sys: 4.48 s, total: 9min 6s\n",
      "Wall time: 2min 28s\n"
     ]
    }
   ],
   "source": [
    "%%time\n",
    "\n",
    "model = doc2vec.Doc2Vec(\n",
    "    documents=d2v_grant_data\n",
    "    , dm = 1\n",
    "    , epochs = 50\n",
    "    , vector_size=350\n",
    "    , window=5\n",
    "    , min_count=5\n",
    "    , workers=CPUNUM\n",
    "    , seed=23)"
   ]
  },
  {
   "cell_type": "markdown",
   "metadata": {},
   "source": [
    "Check word similarities."
   ]
  },
  {
   "cell_type": "code",
   "execution_count": 34,
   "metadata": {},
   "outputs": [
    {
     "name": "stderr",
     "output_type": "stream",
     "text": [
      "/usr/local/lib/python3.5/dist-packages/ipykernel_launcher.py:1: DeprecationWarning: Call to deprecated `most_similar` (Method will be removed in 4.0.0, use self.wv.most_similar() instead).\n",
      "  \"\"\"Entry point for launching an IPython kernel.\n"
     ]
    },
    {
     "data": {
      "text/plain": [
       "[('computer', 0.3113054037094116),\n",
       " ('mediaccording', 0.22077366709709167),\n",
       " ('medias', 0.20563620328903198),\n",
       " ('writable', 0.2033187448978424),\n",
       " ('markup', 0.20132245123386383),\n",
       " ('abradable', 0.20126992464065552),\n",
       " ('wired', 0.19824786484241486),\n",
       " ('demanding', 0.1957094520330429),\n",
       " ('hf', 0.1904827207326889),\n",
       " ('processor', 0.18401512503623962)]"
      ]
     },
     "execution_count": 34,
     "metadata": {},
     "output_type": "execute_result"
    }
   ],
   "source": [
    "model.most_similar(\"machine\")"
   ]
  },
  {
   "cell_type": "markdown",
   "metadata": {},
   "source": [
    "It looks nice.  \n",
    "Next check document similarities."
   ]
  },
  {
   "cell_type": "code",
   "execution_count": 35,
   "metadata": {},
   "outputs": [
    {
     "data": {
      "text/html": [
       "<div>\n",
       "<style scoped>\n",
       "    .dataframe tbody tr th:only-of-type {\n",
       "        vertical-align: middle;\n",
       "    }\n",
       "\n",
       "    .dataframe tbody tr th {\n",
       "        vertical-align: top;\n",
       "    }\n",
       "\n",
       "    .dataframe thead th {\n",
       "        text-align: right;\n",
       "    }\n",
       "</style>\n",
       "<table border=\"1\" class=\"dataframe\">\n",
       "  <thead>\n",
       "    <tr style=\"text-align: right;\">\n",
       "      <th></th>\n",
       "      <th>parsed</th>\n",
       "      <th>xml</th>\n",
       "      <th>claim</th>\n",
       "    </tr>\n",
       "  </thead>\n",
       "  <tbody>\n",
       "    <tr>\n",
       "      <th>0</th>\n",
       "      <td>6837383</td>\n",
       "      <td>&lt;us-patent-grant lang=\"EN\" dtd-version=\"v40 20...</td>\n",
       "      <td>\\n \\n 1. A tool organizer for mounting to and ...</td>\n",
       "    </tr>\n",
       "    <tr>\n",
       "      <th>1</th>\n",
       "      <td>6837647</td>\n",
       "      <td>&lt;us-patent-grant lang=\"EN\" dtd-version=\"v40 20...</td>\n",
       "      <td>\\n \\n 1. A modular crowd and traffic control b...</td>\n",
       "    </tr>\n",
       "  </tbody>\n",
       "</table>\n",
       "</div>"
      ],
      "text/plain": [
       "    parsed                                                xml  \\\n",
       "0  6837383  <us-patent-grant lang=\"EN\" dtd-version=\"v40 20...   \n",
       "1  6837647  <us-patent-grant lang=\"EN\" dtd-version=\"v40 20...   \n",
       "\n",
       "                                               claim  \n",
       "0  \\n \\n 1. A tool organizer for mounting to and ...  \n",
       "1  \\n \\n 1. A modular crowd and traffic control b...  "
      ]
     },
     "execution_count": 35,
     "metadata": {},
     "output_type": "execute_result"
    }
   ],
   "source": [
    "grants_target_df.head(2)"
   ]
  },
  {
   "cell_type": "code",
   "execution_count": 36,
   "metadata": {},
   "outputs": [],
   "source": [
    "idx = 6837383"
   ]
  },
  {
   "cell_type": "code",
   "execution_count": 37,
   "metadata": {},
   "outputs": [
    {
     "data": {
      "text/plain": [
       "[('6860386', 0.43970587849617004),\n",
       " ('7258401', 0.43385937809944153),\n",
       " ('7383954', 0.42699262499809265),\n",
       " ('7242108', 0.39295336604118347),\n",
       " ('7213816', 0.3670129179954529),\n",
       " ('8192098', 0.3617875874042511),\n",
       " ('7543681', 0.3472362160682678),\n",
       " ('7007804', 0.3378317058086395),\n",
       " ('7181887', 0.3360327184200287),\n",
       " ('6971511', 0.33588314056396484)]"
      ]
     },
     "execution_count": 37,
     "metadata": {},
     "output_type": "execute_result"
    }
   ],
   "source": [
    "model.docvecs.most_similar(str(idx))"
   ]
  },
  {
   "cell_type": "code",
   "execution_count": 38,
   "metadata": {},
   "outputs": [],
   "source": [
    "most_similar_grant_idx = int(model.docvecs.most_similar(str(idx))[0][0])"
   ]
  },
  {
   "cell_type": "code",
   "execution_count": 39,
   "metadata": {},
   "outputs": [
    {
     "data": {
      "text/plain": [
       "6860386"
      ]
     },
     "execution_count": 39,
     "metadata": {},
     "output_type": "execute_result"
    }
   ],
   "source": [
    "most_similar_grant_idx"
   ]
  },
  {
   "cell_type": "markdown",
   "metadata": {},
   "source": [
    "Check similar documents."
   ]
  },
  {
   "cell_type": "code",
   "execution_count": 40,
   "metadata": {
    "scrolled": false
   },
   "outputs": [
    {
     "data": {
      "text/plain": [
       "array(['\\n \\n 1. A tool organizer for mounting to and adapted for use with a vehicle lift rack having support arms, said tool organizer comprising:\\n four upstanding walls depending from a base and forming a storage volume for storing a plurality of tools and parts;  \\n a selectively articulating lid enclosing said storage volume;  \\n adjustable attachment means depending from said storage volume, said attachment means removably attachable to said support arms for supporting said tool organizer by gravity impingement;  \\n a U-shaped ring affixed to an external portion of at least one of said walls, said ring for supporting a hand tool;  \\n a support plate projected from a front of said tool organizer and co-extensive with said base;  \\n a plurality of intermediate apertures formed in said support plate, said plurality of intermediate apertures adapted sized to accommodate intermediate and large hand tools;  \\n a plurality of small apertures formed in said support plate, said plurality of small apertures adapted to accommodate small hand tools;  \\n at least one large aperture formed in said support plate, said at least one large aperture adapted to accommodate a container.  \\n \\n \\n \\n 2. The tool organizer of  claim 1  further comprising a slidably retained storage drawer provided beneath said base and said support plate for additional storage area, said base and said support plate operating as an enclosure for said storage drawer. \\n \\n \\n 3. The tool organizer of  claim 2 , wherein a face of said storage drawer is co-extensive with an anterior margin of said support plate, said storage drawer further comprising a handle for easily grasping for selectively opening and closing said storage drawer. \\n \\n \\n 4. The tool organizer of  claim 1 , wherein said tool organizer rests cantilevered to said support arms, thereby positioning said storage volume below a horizontal level of said support arms. \\n \\n \\n 5. The tool organizer of  claim 1 , wherein said four upstanding walls comprise a front wall opposite a rear wall, a first sidewall opposite a second sidewall, wherein said first sidewall and said second sidewall are intermediately disposed between said front wall and said rear wall. \\n \\n \\n 6. The tool organizer of  claim 5 , wherein said rear wall comprises a greater vertical profile than said front wall for providing ease of access to said storage volume. \\n \\n \\n 7. The tool organizer of  claim 5 , wherein said first sidewall and said second sidewall are inclined from said front wall to said rear wall for providing ease of access to said storage volume. \\n \\n \\n 8. The tool organizer of  claim 1 , wherein said lid is affixed to said storage volume by an articulating hinge. \\n \\n \\n 9. The tool organizer of  claim 1 , wherein said lid comprises a lock for securing contents of said storage volume from unauthorized removal and theft. \\n \\n \\n 10. The tool organizer of  claim 1 , wherein said attachment means comprise at least one hook adjustable in length to accommodate variations in widths of said support arms. \\n \\n \\n 11. The tool organizer of  claim 1 , wherein at least one of said upstanding walls comprises magnetic properties for attracting and supporting magnetic objects. \\n \\n \\n 12. The tool organizer of  claim 1 , wherein said tool organizer comprises a color in a general class of yellow for providing visual indication of said tool organizer location. \\n \\n'],\n",
       "      dtype=object)"
      ]
     },
     "execution_count": 40,
     "metadata": {},
     "output_type": "execute_result"
    }
   ],
   "source": [
    "grants_target_df[grants_target_df.parsed == idx]['claim'].values"
   ]
  },
  {
   "cell_type": "code",
   "execution_count": 41,
   "metadata": {
    "scrolled": true
   },
   "outputs": [
    {
     "data": {
      "text/plain": [
       "array(['\\n \\n 1. A jewelry box for containing jewelry comprising the combination of:\\n a multi-sided container defining an interior chamber and having a frontal opening of lesser dimension than the width of said container;  \\n said interior chamber having retaining means to slidably receive a slidable drawer;  \\n a slidable drawer received within said interior chamber in operative association with said retaining means;  \\n said slidable drawer being of about the width of said frontal opening; and  \\n at least one container adjacent said frontal opening and being movable to a first hidden position wholly within said interior chamber and a second accessible position once said slidable drawer is removed outwardly from said interior chamber, further wherein  \\n said slidable drawer is removable from said interior chamber and wherein said container is pivotally mounted adjacent said frontal opening and is movable from a first hidden position wholly within said interior chamber into a second unhidden accessible position with respect to said interior chamber and said jewelry box additionally includes a hinged cover and said container is open topped,  \\n said pivotally mounted containers are on either side of said frontal opening and rotate outwardly for ease of accessibility, each of said pivotally mounted containers have notches on an accessible edge wall thereof for ease of grasping.  \\n \\n \\n \\n 2. The jewelry box in accordance with  claim 1  wherein said multi-sided container is ovoid in shape. \\n \\n \\n 3. The jewelry box in accordance with  claim 2  wherein said slidable drawer is rectangular. \\n \\n \\n 4. The jewelry box in accordance with  claim 3  wherein the side wall of said pivotally mounted containers are congruently shaped to the exterior side wall of said multi-sided container. \\n \\n \\n 5. The jewelry box in accordance with  claim 4  which additionally includes a front cover hingedly secured to the bottom of said multi-sided container. \\n \\n \\n 6. The jewelry box in accordance with  claim 5  wherein said hinged cover is retained in covering position by reason of said hinged cover being superpositioned thereover. \\n \\n'],\n",
       "      dtype=object)"
      ]
     },
     "execution_count": 41,
     "metadata": {},
     "output_type": "execute_result"
    }
   ],
   "source": [
    "grants_target_df[grants_target_df.parsed == most_similar_grant_idx]['claim'].values"
   ]
  },
  {
   "cell_type": "markdown",
   "metadata": {},
   "source": [
    "Are these similar? It's not easy to judge, but these are both physical devices?\n",
    "\n",
    "Let's continue to check model predictions"
   ]
  },
  {
   "cell_type": "markdown",
   "metadata": {},
   "source": [
    "### Model prediction for test app data"
   ]
  },
  {
   "cell_type": "markdown",
   "metadata": {},
   "source": [
    "Create the same type data of testset_app_df as we did for grant_target_df."
   ]
  },
  {
   "cell_type": "code",
   "execution_count": 42,
   "metadata": {},
   "outputs": [
    {
     "data": {
      "text/html": [
       "<div>\n",
       "<style scoped>\n",
       "    .dataframe tbody tr th:only-of-type {\n",
       "        vertical-align: middle;\n",
       "    }\n",
       "\n",
       "    .dataframe tbody tr th {\n",
       "        vertical-align: top;\n",
       "    }\n",
       "\n",
       "    .dataframe thead th {\n",
       "        text-align: right;\n",
       "    }\n",
       "</style>\n",
       "<table border=\"1\" class=\"dataframe\">\n",
       "  <thead>\n",
       "    <tr style=\"text-align: right;\">\n",
       "      <th></th>\n",
       "      <th>app_id</th>\n",
       "      <th>xml</th>\n",
       "    </tr>\n",
       "  </thead>\n",
       "  <tbody>\n",
       "    <tr>\n",
       "      <th>0</th>\n",
       "      <td>14307191</td>\n",
       "      <td>&lt;us-patent-application lang=\"EN\" dtd-version=\"...</td>\n",
       "    </tr>\n",
       "    <tr>\n",
       "      <th>1</th>\n",
       "      <td>13137006</td>\n",
       "      <td>&lt;us-patent-application lang=\"EN\" dtd-version=\"...</td>\n",
       "    </tr>\n",
       "    <tr>\n",
       "      <th>2</th>\n",
       "      <td>12741959</td>\n",
       "      <td>&lt;us-patent-application lang=\"EN\" dtd-version=\"...</td>\n",
       "    </tr>\n",
       "    <tr>\n",
       "      <th>3</th>\n",
       "      <td>12643447</td>\n",
       "      <td>&lt;us-patent-application lang=\"EN\" dtd-version=\"...</td>\n",
       "    </tr>\n",
       "    <tr>\n",
       "      <th>4</th>\n",
       "      <td>14200253</td>\n",
       "      <td>&lt;us-patent-application lang=\"EN\" dtd-version=\"...</td>\n",
       "    </tr>\n",
       "  </tbody>\n",
       "</table>\n",
       "</div>"
      ],
      "text/plain": [
       "     app_id                                                xml\n",
       "0  14307191  <us-patent-application lang=\"EN\" dtd-version=\"...\n",
       "1  13137006  <us-patent-application lang=\"EN\" dtd-version=\"...\n",
       "2  12741959  <us-patent-application lang=\"EN\" dtd-version=\"...\n",
       "3  12643447  <us-patent-application lang=\"EN\" dtd-version=\"...\n",
       "4  14200253  <us-patent-application lang=\"EN\" dtd-version=\"..."
      ]
     },
     "execution_count": 42,
     "metadata": {},
     "output_type": "execute_result"
    }
   ],
   "source": [
    "testset_app_df.head()"
   ]
  },
  {
   "cell_type": "code",
   "execution_count": 43,
   "metadata": {},
   "outputs": [],
   "source": [
    "testset_app_df['claim'] = testset_app_df[\"xml\"].map(whole_xml_to_claim)"
   ]
  },
  {
   "cell_type": "code",
   "execution_count": 44,
   "metadata": {},
   "outputs": [
    {
     "data": {
      "text/html": [
       "<div>\n",
       "<style scoped>\n",
       "    .dataframe tbody tr th:only-of-type {\n",
       "        vertical-align: middle;\n",
       "    }\n",
       "\n",
       "    .dataframe tbody tr th {\n",
       "        vertical-align: top;\n",
       "    }\n",
       "\n",
       "    .dataframe thead th {\n",
       "        text-align: right;\n",
       "    }\n",
       "</style>\n",
       "<table border=\"1\" class=\"dataframe\">\n",
       "  <thead>\n",
       "    <tr style=\"text-align: right;\">\n",
       "      <th></th>\n",
       "      <th>app_id</th>\n",
       "      <th>xml</th>\n",
       "      <th>claim</th>\n",
       "    </tr>\n",
       "  </thead>\n",
       "  <tbody>\n",
       "    <tr>\n",
       "      <th>0</th>\n",
       "      <td>14307191</td>\n",
       "      <td>&lt;us-patent-application lang=\"EN\" dtd-version=\"...</td>\n",
       "      <td>\\n \\n  1 . A method to aggregate, filter, and ...</td>\n",
       "    </tr>\n",
       "    <tr>\n",
       "      <th>1</th>\n",
       "      <td>13137006</td>\n",
       "      <td>&lt;us-patent-application lang=\"EN\" dtd-version=\"...</td>\n",
       "      <td>\\n \\n  1 . A display apparatus, comprising:\\n ...</td>\n",
       "    </tr>\n",
       "    <tr>\n",
       "      <th>2</th>\n",
       "      <td>12741959</td>\n",
       "      <td>&lt;us-patent-application lang=\"EN\" dtd-version=\"...</td>\n",
       "      <td>\\n \\n  1 - 33 . (canceled) \\n \\n \\n  34 . A co...</td>\n",
       "    </tr>\n",
       "    <tr>\n",
       "      <th>3</th>\n",
       "      <td>12643447</td>\n",
       "      <td>&lt;us-patent-application lang=\"EN\" dtd-version=\"...</td>\n",
       "      <td>\\n \\n  1 . A terminal fitting formed by bendin...</td>\n",
       "    </tr>\n",
       "    <tr>\n",
       "      <th>4</th>\n",
       "      <td>14200253</td>\n",
       "      <td>&lt;us-patent-application lang=\"EN\" dtd-version=\"...</td>\n",
       "      <td>\\n \\n  1 . A printer for printing a three-dime...</td>\n",
       "    </tr>\n",
       "  </tbody>\n",
       "</table>\n",
       "</div>"
      ],
      "text/plain": [
       "     app_id                                                xml  \\\n",
       "0  14307191  <us-patent-application lang=\"EN\" dtd-version=\"...   \n",
       "1  13137006  <us-patent-application lang=\"EN\" dtd-version=\"...   \n",
       "2  12741959  <us-patent-application lang=\"EN\" dtd-version=\"...   \n",
       "3  12643447  <us-patent-application lang=\"EN\" dtd-version=\"...   \n",
       "4  14200253  <us-patent-application lang=\"EN\" dtd-version=\"...   \n",
       "\n",
       "                                               claim  \n",
       "0  \\n \\n  1 . A method to aggregate, filter, and ...  \n",
       "1  \\n \\n  1 . A display apparatus, comprising:\\n ...  \n",
       "2  \\n \\n  1 - 33 . (canceled) \\n \\n \\n  34 . A co...  \n",
       "3  \\n \\n  1 . A terminal fitting formed by bendin...  \n",
       "4  \\n \\n  1 . A printer for printing a three-dime...  "
      ]
     },
     "execution_count": 44,
     "metadata": {},
     "output_type": "execute_result"
    }
   ],
   "source": [
    "testset_app_df.head()"
   ]
  },
  {
   "cell_type": "code",
   "execution_count": 45,
   "metadata": {},
   "outputs": [],
   "source": [
    "preprocessed_testset_app_data = testset_app_df['claim'].str\\\n",
    "    .replace(\"\\n\", \"\", regex=False).str\\\n",
    "    .replace(\"[0-9]*\\.\", \"\", regex=True).str\\\n",
    "    .replace(\"[,:;]\", \"\", regex=True).str\\\n",
    "    .replace(\"a |A |the |The \", \"\", regex=True)"
   ]
  },
  {
   "cell_type": "code",
   "execution_count": 46,
   "metadata": {},
   "outputs": [],
   "source": [
    "preprocessed_testset_app_data = testset_app_df['claim']"
   ]
  },
  {
   "cell_type": "code",
   "execution_count": 47,
   "metadata": {},
   "outputs": [],
   "source": [
    "vec = model.infer_vector( simple_preprocess(preprocessed_testset_app_data[0]) )"
   ]
  },
  {
   "cell_type": "code",
   "execution_count": 48,
   "metadata": {},
   "outputs": [
    {
     "data": {
      "text/plain": [
       "array([ 0.32864848,  2.3249834 , -1.4818093 ,  1.1660504 ,  2.3678455 ,\n",
       "       -1.2087846 , -4.7118244 , -0.76799035,  3.300299  ,  1.5128157 ,\n",
       "        2.3943784 ,  6.304047  ,  0.68984646, -3.712247  , -4.3760204 ,\n",
       "        1.4499943 , -1.7258772 ,  4.1700077 ,  1.0374267 , -0.8251143 ,\n",
       "       -3.1510189 ,  0.2919668 , -1.7713672 , -0.7793044 ,  4.401563  ,\n",
       "        0.38521072, -1.3831203 ,  4.178462  ,  1.7535076 , -3.8633177 ,\n",
       "       -2.1812136 ,  0.7746414 ,  1.0867995 ,  4.5147786 , -0.80532897,\n",
       "        0.49474466, -0.02519154, -1.090921  , -1.7264874 ,  1.51924   ,\n",
       "       -6.0807357 ,  1.967718  , -3.9913354 , -1.4897691 ,  0.01724067,\n",
       "       -2.8635764 , -4.089544  ,  1.0667527 , -0.4291979 ,  2.8537328 ,\n",
       "       -0.1969331 ,  1.828931  ,  0.9831131 , -5.389817  , -1.2886466 ,\n",
       "        1.2674333 , -3.3954635 , -1.6687337 ,  0.7988473 ,  2.178783  ,\n",
       "        2.49024   , -1.3561416 , -0.2949141 , -3.7076628 ,  0.9848765 ,\n",
       "        2.6711106 ,  2.5804334 , -2.6322978 ,  0.48035857, -1.2061478 ,\n",
       "        1.5970434 ,  0.26570538,  0.50245523, -0.7633345 ,  1.3565885 ,\n",
       "       -1.6663798 ,  0.78089887,  2.1980333 , -0.8266082 , -4.26865   ,\n",
       "       -3.349165  , -2.3639803 ,  1.9454533 , -3.147135  ,  1.3860531 ,\n",
       "        0.16824368,  1.814786  , -2.6417928 ,  4.96094   ,  0.8269933 ,\n",
       "        1.670144  , -1.1537099 , -2.5140972 , -2.5636644 ,  2.5376587 ,\n",
       "        2.9769042 , -4.4289203 , -1.7955091 , -4.160915  , -0.23561902,\n",
       "       -0.8903974 , -0.02880247, -0.9616024 , -0.5700394 , -0.68041337,\n",
       "       -1.6652954 ,  0.17157614,  0.07568928, -1.3355298 , -1.6397213 ,\n",
       "        4.2826524 ,  2.5406408 ,  2.852624  ,  4.6423726 ,  2.2234418 ,\n",
       "        0.37999502, -2.499034  ,  6.150236  , -1.0557005 ,  0.8795169 ,\n",
       "       -0.02778515,  1.8764166 , -0.49254343,  0.5693311 ,  1.6569715 ,\n",
       "        1.4478025 , -3.0833726 , -1.4306086 , -3.9750612 , -2.4230278 ,\n",
       "        2.879487  , -2.7326999 ,  0.9719209 ,  1.1660618 , -1.464619  ,\n",
       "        5.6294165 , -0.25296807, -2.6951354 ,  0.6059984 ,  3.0795305 ,\n",
       "        0.67441934, -0.7664968 , -5.499964  ,  3.1706352 , -1.3215015 ,\n",
       "       -4.287447  ,  1.9592848 ,  1.8688351 ,  4.5940804 , -4.6797237 ,\n",
       "       -2.853076  ,  0.49917006,  3.5628448 , -1.5938147 ,  4.1151776 ,\n",
       "       -2.1945758 , -0.663507  , -0.764665  , -2.7973676 , -2.4759228 ,\n",
       "       -1.2384635 , -6.6548862 ,  0.63309747, -2.363984  , -1.7507784 ,\n",
       "       -4.720123  ,  0.51125336,  1.4642502 ,  2.967772  ,  1.2952493 ,\n",
       "        0.11537648, -0.8597576 ,  0.53005224,  0.43939242,  2.2783754 ,\n",
       "       -0.16272011, -0.9283942 ,  2.6635354 ,  0.20810787, -2.8177273 ,\n",
       "       -1.0066273 ,  0.92029995,  1.2232709 , -1.6428974 ,  5.768988  ,\n",
       "       -1.3380256 , -2.0704997 , -0.2082508 ,  0.61714846,  2.9866369 ,\n",
       "       -1.9445995 , -2.3642893 , -3.8311749 ,  0.88677126,  1.6795614 ,\n",
       "        1.1755886 , -2.2095976 ,  5.102837  , -6.4292545 , -0.62151414,\n",
       "        2.5276477 , -3.3739893 , -0.5915463 , -2.9339082 ,  1.2388606 ,\n",
       "       -1.4249045 ,  0.41845915,  1.3903147 ,  3.332262  , -2.206344  ,\n",
       "        1.9249988 , -3.6255941 , -0.61126524, -3.475471  ,  4.802124  ,\n",
       "        1.6293308 ,  1.3238595 ,  0.09964452, -1.4507134 ,  6.0652604 ,\n",
       "       -4.6014385 , -1.6614937 , -0.7060843 , -4.630099  ,  4.6789355 ,\n",
       "        0.7302512 ,  3.0603464 ,  2.9622545 ,  0.2905447 , -2.2917492 ,\n",
       "        1.3319849 ,  0.80069536,  4.031359  , -1.4439012 ,  2.8716176 ,\n",
       "        0.25500122,  1.4947815 ,  0.8757316 , -3.3444881 ,  0.24434294,\n",
       "        0.39608547,  1.2462583 ,  0.64699036,  3.6341827 ,  0.158078  ,\n",
       "        1.5966855 ,  2.118138  , -0.01399354, -2.4938307 , -2.3378382 ,\n",
       "        1.0397956 , -3.586288  , -0.9485794 ,  1.12698   , -1.1298152 ,\n",
       "       -4.1392045 ,  1.7011299 ,  5.227767  ,  2.4054453 ,  2.2862384 ,\n",
       "        0.6172963 , -1.0268652 ,  0.9163641 , -3.6805444 , -3.0888295 ,\n",
       "        3.1881056 ,  2.247386  ,  3.9703684 ,  1.942854  ,  0.8270656 ,\n",
       "       -4.015533  ,  3.5197809 , -1.460816  , -0.68597966, -4.223931  ,\n",
       "       -1.0366367 ,  3.0742795 , -3.3670642 , -0.0541656 , -0.34882087,\n",
       "        0.3143051 ,  0.30250293, -1.3010656 ,  3.8100193 , -4.0164905 ,\n",
       "       -2.888372  ,  2.9002526 ,  3.889683  , -0.27012402,  1.0603975 ,\n",
       "       -1.2258829 , -0.5880746 , -2.1365108 ,  2.6025796 , -3.7672606 ,\n",
       "        2.3575754 ,  0.64159185,  2.4821389 , -2.012999  ,  2.7418056 ,\n",
       "        0.18966937, -0.6959214 , -2.313085  ,  0.53680617,  4.53509   ,\n",
       "        0.16634844,  2.0949504 , -3.9377873 ,  2.9300416 ,  0.75839585,\n",
       "       -0.32509667,  2.5140305 , -2.5120225 , -3.882472  ,  1.6873833 ,\n",
       "        0.36540458, -1.4141557 , -1.7616892 ,  0.51420385, -1.2120056 ,\n",
       "       -2.8976083 , -0.4277666 ,  2.655001  , -5.564108  ,  0.7070924 ,\n",
       "       -2.9737594 ,  1.0201588 ,  0.33687618, -1.2180973 ,  1.119925  ,\n",
       "       -0.03189158, -4.741339  ,  2.1700332 ,  1.0901315 ,  0.23973282,\n",
       "        2.0142467 ,  0.5755088 , -0.16384877, -3.5219135 ,  2.3232822 ,\n",
       "       -3.2158465 ,  0.02324991, -1.7161083 ,  0.57146084, -1.5475466 ,\n",
       "       -2.75462   , -0.3007227 ,  3.0763204 , -2.8655133 ,  3.3269365 ],\n",
       "      dtype=float32)"
      ]
     },
     "execution_count": 48,
     "metadata": {},
     "output_type": "execute_result"
    }
   ],
   "source": [
    "vec"
   ]
  },
  {
   "cell_type": "code",
   "execution_count": 49,
   "metadata": {},
   "outputs": [
    {
     "data": {
      "text/plain": [
       "[('8214829', 0.27610987424850464),\n",
       " ('7453937', 0.26095449924468994),\n",
       " ('7825815', 0.25970780849456787),\n",
       " ('8104041', 0.2513359785079956),\n",
       " ('6914242', 0.23791734874248505),\n",
       " ('7290193', 0.2362617701292038),\n",
       " ('7252786', 0.23244567215442657),\n",
       " ('7495935', 0.2295183390378952),\n",
       " ('8119152', 0.2290225625038147),\n",
       " ('7057392', 0.2289874106645584)]"
      ]
     },
     "execution_count": 49,
     "metadata": {},
     "output_type": "execute_result"
    }
   ],
   "source": [
    "model.docvecs.most_similar([vec])"
   ]
  },
  {
   "cell_type": "code",
   "execution_count": 50,
   "metadata": {},
   "outputs": [
    {
     "data": {
      "text/plain": [
       "[8214829]"
      ]
     },
     "execution_count": 50,
     "metadata": {},
     "output_type": "execute_result"
    }
   ],
   "source": [
    "[int(grantid) for grantid,similarity in model.docvecs.most_similar([vec], topn=1)]"
   ]
  },
  {
   "cell_type": "code",
   "execution_count": 51,
   "metadata": {},
   "outputs": [],
   "source": [
    "def predict_test_set():\n",
    "    predictdf = pd.DataFrame(columns=grants_target_df.parsed.values, dtype=np.bool)\n",
    "    for idx, appid in enumerate(testset_app_df.app_id):\n",
    "        text = preprocessed_testset_app_data[idx]\n",
    "        vec = model.infer_vector(simple_preprocess(text))\n",
    "        \n",
    "        similar_grant_indexes = [int(grantid) \n",
    "                                 for grantid, similarity \n",
    "                                 in model.docvecs.most_similar([vec], topn=1)]\n",
    "\n",
    "        predictdf.loc[appid] = False\n",
    "        for similar_grant_index in similar_grant_indexes:\n",
    "            predictdf.loc[appid, similar_grant_index] = True\n",
    "        if idx%100 == 0:\n",
    "            print(idx)\n",
    "    \n",
    "    return predictdf"
   ]
  },
  {
   "cell_type": "code",
   "execution_count": 52,
   "metadata": {},
   "outputs": [
    {
     "name": "stdout",
     "output_type": "stream",
     "text": [
      "0\n",
      "100\n",
      "200\n",
      "300\n",
      "400\n",
      "500\n",
      "600\n",
      "700\n",
      "800\n",
      "900\n",
      "CPU times: user 4min 7s, sys: 4min 14s, total: 8min 22s\n",
      "Wall time: 2min 39s\n"
     ]
    }
   ],
   "source": [
    "%%time\n",
    "\n",
    "pred_df = predict_test_set()"
   ]
  },
  {
   "cell_type": "code",
   "execution_count": 53,
   "metadata": {},
   "outputs": [
    {
     "data": {
      "text/html": [
       "<div>\n",
       "<style scoped>\n",
       "    .dataframe tbody tr th:only-of-type {\n",
       "        vertical-align: middle;\n",
       "    }\n",
       "\n",
       "    .dataframe tbody tr th {\n",
       "        vertical-align: top;\n",
       "    }\n",
       "\n",
       "    .dataframe thead th {\n",
       "        text-align: right;\n",
       "    }\n",
       "</style>\n",
       "<table border=\"1\" class=\"dataframe\">\n",
       "  <thead>\n",
       "    <tr style=\"text-align: right;\">\n",
       "      <th></th>\n",
       "      <th>acc</th>\n",
       "      <th>prec</th>\n",
       "      <th>recall</th>\n",
       "      <th>f1</th>\n",
       "    </tr>\n",
       "  </thead>\n",
       "  <tbody>\n",
       "    <tr>\n",
       "      <th>0</th>\n",
       "      <td>0.999246</td>\n",
       "      <td>0.174</td>\n",
       "      <td>0.139089</td>\n",
       "      <td>0.154598</td>\n",
       "    </tr>\n",
       "  </tbody>\n",
       "</table>\n",
       "</div>"
      ],
      "text/plain": [
       "        acc   prec    recall        f1\n",
       "0  0.999246  0.174  0.139089  0.154598"
      ]
     },
     "execution_count": 53,
     "metadata": {},
     "output_type": "execute_result"
    }
   ],
   "source": [
    "calc_summary(pred_df, label_df)"
   ]
  },
  {
   "cell_type": "code",
   "execution_count": null,
   "metadata": {},
   "outputs": [],
   "source": []
  }
 ],
 "metadata": {
  "kernelspec": {
   "display_name": "Python 3",
   "language": "python",
   "name": "python3"
  },
  "language_info": {
   "codemirror_mode": {
    "name": "ipython",
    "version": 3
   },
   "file_extension": ".py",
   "mimetype": "text/x-python",
   "name": "python",
   "nbconvert_exporter": "python",
   "pygments_lexer": "ipython3",
   "version": "3.5.2"
  }
 },
 "nbformat": 4,
 "nbformat_minor": 2
}
