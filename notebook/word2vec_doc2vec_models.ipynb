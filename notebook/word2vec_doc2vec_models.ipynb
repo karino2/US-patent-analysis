{
 "cells": [
  {
   "cell_type": "markdown",
   "metadata": {},
   "source": [
    "# Similarity computations using w2v and d2v\n",
    "\n",
    "Compute similarities among patents using word2vec and doc2vec models.  \n",
    "Use the same datasets as `tfidf_nearest.ipynb`."
   ]
  },
  {
   "cell_type": "code",
   "execution_count": 1,
   "metadata": {},
   "outputs": [],
   "source": [
    "import h5py\n",
    "import pandas as pd\n",
    "import numpy as np\n",
    "import pickle"
   ]
  },
  {
   "cell_type": "code",
   "execution_count": 2,
   "metadata": {},
   "outputs": [],
   "source": [
    "citations_info_target = pd.read_pickle(\"../data/citations_info_2000.df.gz\")\n",
    "training_app_df = pd.read_pickle(\"../data/training_app_1000.df.gz\")\n",
    "testset_app_df = pd.read_pickle(\"../data/testset_app_1000.df.gz\")\n",
    "grants_target_df = pd.read_pickle(\"../data/grants_for_2000.df.gz\")"
   ]
  },
  {
   "cell_type": "code",
   "execution_count": 3,
   "metadata": {},
   "outputs": [],
   "source": [
    "import re\n",
    "CLAIM_PAT = re.compile(r'<claims[^>]*>(.*)</claims>',re.MULTILINE|re.DOTALL)\n",
    "TAG_PAT = re.compile(r\"<.*?>\")\n",
    "def whole_xml_to_claim_xml(whole):\n",
    "    mat = CLAIM_PAT.search(whole)\n",
    "    return mat.group(1)\n",
    "def whole_xml_to_claim(whole):\n",
    "    return TAG_PAT.sub(' ', whole_xml_to_claim_xml(whole))\n",
    "\n",
    "grants_target_df[\"claim\"] = grants_target_df[\"xml\"].map(whole_xml_to_claim)"
   ]
  },
  {
   "cell_type": "code",
   "execution_count": 4,
   "metadata": {},
   "outputs": [],
   "source": [
    "def set_one_answer_appid(labeldf, oneappid):\n",
    "    cited_patids = citations_info_target[citations_info_target.app_id == oneappid].parsed\n",
    "    labeldf.loc[oneappid] = labeldf.columns.isin(cited_patids)\n",
    "    \n",
    "def create_label_df():\n",
    "    label_df = pd.DataFrame(columns=grants_target_df.parsed.values, dtype=np.bool)\n",
    "    for appid in testset_app_df.app_id:\n",
    "        set_one_answer_appid(label_df, appid)\n",
    "    return label_df\n",
    "\n",
    "label_df = create_label_df()"
   ]
  },
  {
   "cell_type": "code",
   "execution_count": 5,
   "metadata": {},
   "outputs": [],
   "source": [
    "def predict_test_set(predict_func):\n",
    "    \"\"\"\n",
    "    predict_func(claims) return NxM of boolean. N is len(claims). M is rownum of grants_target_df.\n",
    "            value indicate n claim is cite patent of m row of grants_all_df.\n",
    "    \"\"\"\n",
    "    predictdf = pd.DataFrame(columns=grants_target_df.parsed.values, dtype=np.bool)\n",
    "    res = predict_func(testset_app_df[\"xml\"].map(whole_xml_to_claim))\n",
    "    for idx, appid in enumerate(testset_app_df.app_id):\n",
    "        predictdf.loc[appid] = res[idx, :]\n",
    "    return predictdf"
   ]
  },
  {
   "cell_type": "code",
   "execution_count": 6,
   "metadata": {},
   "outputs": [],
   "source": [
    "def calc_TPs(preddf, labeldf):\n",
    "    return sum([sum(preddf.loc[one_appid][labeldf.loc[one_appid]]) for one_appid in testset_app_df.app_id])\n",
    "\n",
    "def calc_FPs(preddf, labeldf):\n",
    "    return sum([sum(preddf.loc[one_appid][~labeldf.loc[one_appid]]) for one_appid in testset_app_df.app_id])\n",
    "\n",
    "def calc_TNs(preddf, labeldf):\n",
    "    return sum([sum(preddf.loc[one_appid][~labeldf.loc[one_appid]] == False) for one_appid in testset_app_df.app_id])\n",
    "\n",
    "def calc_FNs(preddf, labeldf):\n",
    "    return sum([sum(preddf.loc[one_appid][labeldf.loc[one_appid]] == False) for one_appid in testset_app_df.app_id])\n",
    "\n",
    "def calc_TFPNs(preddf, labeldf):\n",
    "    return calc_TPs(preddf, labeldf), calc_FPs(preddf, labeldf), calc_TNs(preddf, labeldf), calc_FNs(preddf, labeldf)"
   ]
  },
  {
   "cell_type": "code",
   "execution_count": 7,
   "metadata": {},
   "outputs": [],
   "source": [
    "def calc_summary_TFPNs(TP, FP, TN, FN):\n",
    "    \"return acc, prec, recall, f1.\"\n",
    "    return pd.DataFrame(columns=[\"acc\", \"prec\", \"recall\", \"f1\"], data=[[(TP+TN)/(TP+FP+TN+FN), TP/(TP+FP), TP/(TP+FN), 2*TP/(2*TP+FP+FN)]])\n",
    "    \n",
    "def calc_summary(preddf, labeldf):\n",
    "    TP, FP, TN, FN = calc_TFPNs(preddf, labeldf)\n",
    "    return calc_summary_TFPNs(TP, FP, TN, FN)"
   ]
  },
  {
   "cell_type": "markdown",
   "metadata": {},
   "source": [
    "# Word2Vec model"
   ]
  },
  {
   "cell_type": "code",
   "execution_count": 8,
   "metadata": {},
   "outputs": [],
   "source": [
    "from gensim.models import Word2Vec\n",
    "from scipy import spatial\n",
    "\n",
    "import multiprocessing\n",
    "CPUNUM = multiprocessing.cpu_count()"
   ]
  },
  {
   "cell_type": "code",
   "execution_count": 9,
   "metadata": {},
   "outputs": [],
   "source": [
    "grants_target_claims = grants_target_df['claim'].map(lambda x:x.split()).tolist()"
   ]
  },
  {
   "cell_type": "code",
   "execution_count": 10,
   "metadata": {},
   "outputs": [
    {
     "name": "stdout",
     "output_type": "stream",
     "text": [
      "CPU times: user 2min 33s, sys: 503 ms, total: 2min 33s\n",
      "Wall time: 41.5 s\n"
     ]
    }
   ],
   "source": [
    "%%time\n",
    "\n",
    "w2v = Word2Vec(grants_target_claims, size=100, window=5, min_count=5, workers=CPUNUM, iter=10, hs=1)"
   ]
  },
  {
   "cell_type": "code",
   "execution_count": 11,
   "metadata": {},
   "outputs": [
    {
     "name": "stderr",
     "output_type": "stream",
     "text": [
      "/usr/local/lib/python3.5/dist-packages/ipykernel_launcher.py:1: DeprecationWarning: Call to deprecated `most_similar` (Method will be removed in 4.0.0, use self.wv.most_similar() instead).\n",
      "  \"\"\"Entry point for launching an IPython kernel.\n",
      "/usr/local/lib/python3.5/dist-packages/gensim/matutils.py:737: FutureWarning: Conversion of the second argument of issubdtype from `int` to `np.signedinteger` is deprecated. In future, it will be treated as `np.int64 == np.dtype(int).type`.\n",
      "  if np.issubdtype(vec.dtype, np.int):\n"
     ]
    },
    {
     "data": {
      "text/plain": [
       "[('machine.', 0.5728158950805664),\n",
       " ('machines', 0.521472692489624),\n",
       " ('sensor', 0.4440922737121582),\n",
       " ('medium', 0.4248672127723694),\n",
       " ('system', 0.42129936814308167),\n",
       " ('resource', 0.421298086643219),\n",
       " ('engine', 0.41965097188949585),\n",
       " ('head', 0.41125422716140747),\n",
       " ('machine,', 0.3992379903793335),\n",
       " ('machines.', 0.39488452672958374)]"
      ]
     },
     "execution_count": 11,
     "metadata": {},
     "output_type": "execute_result"
    }
   ],
   "source": [
    "w2v.most_similar('machine')"
   ]
  },
  {
   "cell_type": "code",
   "execution_count": 12,
   "metadata": {},
   "outputs": [],
   "source": [
    "grants_ids = columns=grants_target_df.parsed.values"
   ]
  },
  {
   "cell_type": "code",
   "execution_count": 13,
   "metadata": {},
   "outputs": [
    {
     "name": "stderr",
     "output_type": "stream",
     "text": [
      "/usr/local/lib/python3.5/dist-packages/ipykernel_launcher.py:1: DeprecationWarning: Call to deprecated `__getitem__` (Method will be removed in 4.0.0, use self.wv.__getitem__() instead).\n",
      "  \"\"\"Entry point for launching an IPython kernel.\n"
     ]
    },
    {
     "data": {
      "text/plain": [
       "array([ 1.22583437e+00,  2.94116902e+00, -7.02696562e-01, -1.63346851e+00,\n",
       "       -6.11121655e-01, -3.79381090e-01, -4.10424769e-01, -1.05069315e+00,\n",
       "        7.15401590e-01,  1.04958832e+00,  4.27327931e-01,  2.72838235e-01,\n",
       "       -1.11034185e-01,  1.55474141e-01, -2.44855344e-01, -2.97003776e-01,\n",
       "        9.55128372e-02,  2.02698398e+00,  1.53319991e+00,  1.67445585e-01,\n",
       "        7.58966804e-01, -7.08682299e-01,  9.35697317e-01,  3.93907398e-01,\n",
       "       -8.91628742e-01,  2.13811350e+00, -4.44612712e-01,  6.26344860e-01,\n",
       "        4.05613840e-01, -4.01553422e-01,  1.79918563e+00, -9.92178321e-02,\n",
       "        3.92593646e+00,  3.39302957e-01,  8.49752426e-01,  7.92777061e-01,\n",
       "        1.16824222e+00,  3.13373089e-01, -1.73695636e+00, -1.29960227e+00,\n",
       "       -3.47704053e-01,  8.32710981e-01,  1.72713184e+00, -1.08539021e+00,\n",
       "        1.06838310e+00,  6.88125789e-02, -5.47692776e-01,  3.93617094e-01,\n",
       "        5.41976094e-02,  5.57674468e-01,  4.18339908e-01,  1.03454053e-01,\n",
       "       -1.65046543e-01, -4.14013982e-01,  2.37973809e+00,  1.74508071e+00,\n",
       "       -7.17505097e-01,  2.41284490e-01,  1.90085363e+00, -4.84078825e-01,\n",
       "       -3.68449092e-03, -3.01328152e-01,  2.17429590e+00, -5.70633173e-01,\n",
       "       -1.03820622e+00, -1.15190482e+00, -6.35926604e-01, -2.11768913e+00,\n",
       "       -4.03609127e-01,  9.53201354e-02,  6.25172496e-01,  1.03526342e+00,\n",
       "        1.65092015e+00, -1.63507462e-02,  4.02734995e-01, -1.02794302e+00,\n",
       "        1.28680468e-01,  1.24318693e-02,  2.32731134e-01, -9.57730591e-01,\n",
       "        1.11061230e-01, -2.50829577e-01, -3.28151077e-01, -1.01073873e+00,\n",
       "        6.69014454e-01, -1.52490234e+00, -3.82931590e-01, -2.93577290e+00,\n",
       "        7.22692192e-01, -3.25635642e-01, -1.17775929e+00,  1.37816215e+00,\n",
       "        8.75530362e-01,  5.47880828e-02, -8.40314448e-01,  1.15875006e+00,\n",
       "        2.07077742e-01, -2.17510417e-01, -1.69105458e+00,  2.26915658e-01],\n",
       "      dtype=float32)"
      ]
     },
     "execution_count": 13,
     "metadata": {},
     "output_type": "execute_result"
    }
   ],
   "source": [
    "np.average(w2v[['machine', 'water']], axis=0)"
   ]
  },
  {
   "cell_type": "code",
   "execution_count": 14,
   "metadata": {},
   "outputs": [],
   "source": [
    "def text_to_vec(text):\n",
    "    words = text.split()\n",
    "    filtered_words = []\n",
    "    for word in words:\n",
    "        if word in w2v.wv.vocab:\n",
    "            filtered_words.append(word)\n",
    "    vec = np.average(w2v[filtered_words], axis=0)\n",
    "    return vec"
   ]
  },
  {
   "cell_type": "code",
   "execution_count": 15,
   "metadata": {},
   "outputs": [
    {
     "name": "stderr",
     "output_type": "stream",
     "text": [
      "/usr/local/lib/python3.5/dist-packages/ipykernel_launcher.py:7: DeprecationWarning: Call to deprecated `__getitem__` (Method will be removed in 4.0.0, use self.wv.__getitem__() instead).\n",
      "  import sys\n"
     ]
    }
   ],
   "source": [
    "grants_w2v_vectors = []\n",
    "for i, id in enumerate(grants_ids):\n",
    "    vec = text_to_vec(grants_target_df.loc[i]['claim'])\n",
    "    grants_w2v_vectors.append(vec)\n",
    "grants_w2v_vectors = np.array(grants_w2v_vectors)"
   ]
  },
  {
   "cell_type": "code",
   "execution_count": 16,
   "metadata": {},
   "outputs": [
    {
     "data": {
      "text/plain": [
       "array([0, 4])"
      ]
     },
     "execution_count": 16,
     "metadata": {},
     "output_type": "execute_result"
    }
   ],
   "source": [
    "np.argsort([6,1,2,4,5])[::-1][0:2]"
   ]
  },
  {
   "cell_type": "code",
   "execution_count": 17,
   "metadata": {},
   "outputs": [],
   "source": [
    "def find_most_similar(vec):\n",
    "    topN = 5\n",
    "    similarities = []\n",
    "    for grants_vec in grants_w2v_vectors:\n",
    "        sim = 1 - spatial.distance.cosine(vec, grants_vec)\n",
    "        similarities.append(sim)\n",
    "    return [np.argmax(similarities)]\n",
    "#     return np.argsort(similarities)[::-1][0:topN]"
   ]
  },
  {
   "cell_type": "code",
   "execution_count": 18,
   "metadata": {},
   "outputs": [
    {
     "data": {
      "text/plain": [
       "[2]"
      ]
     },
     "execution_count": 18,
     "metadata": {},
     "output_type": "execute_result"
    }
   ],
   "source": [
    "find_most_similar(grants_w2v_vectors[2,:])"
   ]
  },
  {
   "cell_type": "code",
   "execution_count": 19,
   "metadata": {},
   "outputs": [],
   "source": [
    "def predict_test_set():\n",
    "    predictdf = pd.DataFrame(columns=grants_target_df.parsed.values, dtype=np.bool)\n",
    "    for idx, appid in enumerate(testset_app_df.app_id):\n",
    "        text = whole_xml_to_claim(testset_app_df.loc[idx]['xml'])\n",
    "        vec = text_to_vec(text)\n",
    "        similar_grant_indexes = find_most_similar(vec)\n",
    "        predictdf.loc[appid] = False\n",
    "        for similar_grant_index in similar_grant_indexes:\n",
    "            similar_grant_id = grants_ids[similar_grant_index]\n",
    "            predictdf.loc[appid, similar_grant_id] = True\n",
    "        if idx%100 == 0:\n",
    "            print(idx)\n",
    "    return predictdf"
   ]
  },
  {
   "cell_type": "code",
   "execution_count": 20,
   "metadata": {},
   "outputs": [
    {
     "name": "stderr",
     "output_type": "stream",
     "text": [
      "/usr/local/lib/python3.5/dist-packages/ipykernel_launcher.py:7: DeprecationWarning: Call to deprecated `__getitem__` (Method will be removed in 4.0.0, use self.wv.__getitem__() instead).\n",
      "  import sys\n"
     ]
    },
    {
     "name": "stdout",
     "output_type": "stream",
     "text": [
      "0\n",
      "100\n",
      "200\n",
      "300\n",
      "400\n",
      "500\n",
      "600\n",
      "700\n",
      "800\n",
      "900\n",
      "CPU times: user 2min 42s, sys: 8.16 s, total: 2min 50s\n",
      "Wall time: 2min 50s\n"
     ]
    }
   ],
   "source": [
    "%%time\n",
    "\n",
    "pred_df = predict_test_set()"
   ]
  },
  {
   "cell_type": "code",
   "execution_count": 21,
   "metadata": {},
   "outputs": [
    {
     "data": {
      "text/html": [
       "<div>\n",
       "<style scoped>\n",
       "    .dataframe tbody tr th:only-of-type {\n",
       "        vertical-align: middle;\n",
       "    }\n",
       "\n",
       "    .dataframe tbody tr th {\n",
       "        vertical-align: top;\n",
       "    }\n",
       "\n",
       "    .dataframe thead th {\n",
       "        text-align: right;\n",
       "    }\n",
       "</style>\n",
       "<table border=\"1\" class=\"dataframe\">\n",
       "  <thead>\n",
       "    <tr style=\"text-align: right;\">\n",
       "      <th></th>\n",
       "      <th>6837383</th>\n",
       "      <th>6837647</th>\n",
       "      <th>6837799</th>\n",
       "      <th>6837893</th>\n",
       "      <th>6837910</th>\n",
       "      <th>6838140</th>\n",
       "      <th>6838207</th>\n",
       "      <th>6838507</th>\n",
       "      <th>6838812</th>\n",
       "      <th>6838925</th>\n",
       "      <th>...</th>\n",
       "      <th>8334161</th>\n",
       "      <th>8334431</th>\n",
       "      <th>8334887</th>\n",
       "      <th>8336128</th>\n",
       "      <th>8336158</th>\n",
       "      <th>8336789</th>\n",
       "      <th>8336964</th>\n",
       "      <th>8337193</th>\n",
       "      <th>8339697</th>\n",
       "      <th>8340894</th>\n",
       "    </tr>\n",
       "  </thead>\n",
       "  <tbody>\n",
       "    <tr>\n",
       "      <th>14307191</th>\n",
       "      <td>False</td>\n",
       "      <td>False</td>\n",
       "      <td>False</td>\n",
       "      <td>False</td>\n",
       "      <td>False</td>\n",
       "      <td>False</td>\n",
       "      <td>False</td>\n",
       "      <td>False</td>\n",
       "      <td>False</td>\n",
       "      <td>False</td>\n",
       "      <td>...</td>\n",
       "      <td>False</td>\n",
       "      <td>False</td>\n",
       "      <td>False</td>\n",
       "      <td>False</td>\n",
       "      <td>False</td>\n",
       "      <td>False</td>\n",
       "      <td>False</td>\n",
       "      <td>False</td>\n",
       "      <td>False</td>\n",
       "      <td>False</td>\n",
       "    </tr>\n",
       "    <tr>\n",
       "      <th>13137006</th>\n",
       "      <td>False</td>\n",
       "      <td>False</td>\n",
       "      <td>False</td>\n",
       "      <td>False</td>\n",
       "      <td>False</td>\n",
       "      <td>False</td>\n",
       "      <td>False</td>\n",
       "      <td>False</td>\n",
       "      <td>False</td>\n",
       "      <td>False</td>\n",
       "      <td>...</td>\n",
       "      <td>False</td>\n",
       "      <td>False</td>\n",
       "      <td>False</td>\n",
       "      <td>False</td>\n",
       "      <td>False</td>\n",
       "      <td>False</td>\n",
       "      <td>False</td>\n",
       "      <td>False</td>\n",
       "      <td>False</td>\n",
       "      <td>False</td>\n",
       "    </tr>\n",
       "    <tr>\n",
       "      <th>12741959</th>\n",
       "      <td>False</td>\n",
       "      <td>False</td>\n",
       "      <td>False</td>\n",
       "      <td>False</td>\n",
       "      <td>False</td>\n",
       "      <td>False</td>\n",
       "      <td>False</td>\n",
       "      <td>False</td>\n",
       "      <td>False</td>\n",
       "      <td>False</td>\n",
       "      <td>...</td>\n",
       "      <td>False</td>\n",
       "      <td>False</td>\n",
       "      <td>False</td>\n",
       "      <td>False</td>\n",
       "      <td>False</td>\n",
       "      <td>False</td>\n",
       "      <td>False</td>\n",
       "      <td>False</td>\n",
       "      <td>False</td>\n",
       "      <td>False</td>\n",
       "    </tr>\n",
       "    <tr>\n",
       "      <th>12643447</th>\n",
       "      <td>False</td>\n",
       "      <td>False</td>\n",
       "      <td>False</td>\n",
       "      <td>False</td>\n",
       "      <td>False</td>\n",
       "      <td>False</td>\n",
       "      <td>False</td>\n",
       "      <td>False</td>\n",
       "      <td>False</td>\n",
       "      <td>False</td>\n",
       "      <td>...</td>\n",
       "      <td>False</td>\n",
       "      <td>False</td>\n",
       "      <td>False</td>\n",
       "      <td>False</td>\n",
       "      <td>False</td>\n",
       "      <td>False</td>\n",
       "      <td>False</td>\n",
       "      <td>False</td>\n",
       "      <td>False</td>\n",
       "      <td>False</td>\n",
       "    </tr>\n",
       "    <tr>\n",
       "      <th>14200253</th>\n",
       "      <td>False</td>\n",
       "      <td>False</td>\n",
       "      <td>False</td>\n",
       "      <td>False</td>\n",
       "      <td>False</td>\n",
       "      <td>False</td>\n",
       "      <td>False</td>\n",
       "      <td>False</td>\n",
       "      <td>False</td>\n",
       "      <td>False</td>\n",
       "      <td>...</td>\n",
       "      <td>False</td>\n",
       "      <td>False</td>\n",
       "      <td>False</td>\n",
       "      <td>False</td>\n",
       "      <td>False</td>\n",
       "      <td>False</td>\n",
       "      <td>False</td>\n",
       "      <td>False</td>\n",
       "      <td>False</td>\n",
       "      <td>False</td>\n",
       "    </tr>\n",
       "  </tbody>\n",
       "</table>\n",
       "<p>5 rows × 2524 columns</p>\n",
       "</div>"
      ],
      "text/plain": [
       "          6837383  6837647  6837799  6837893  6837910  6838140  6838207  \\\n",
       "14307191    False    False    False    False    False    False    False   \n",
       "13137006    False    False    False    False    False    False    False   \n",
       "12741959    False    False    False    False    False    False    False   \n",
       "12643447    False    False    False    False    False    False    False   \n",
       "14200253    False    False    False    False    False    False    False   \n",
       "\n",
       "          6838507  6838812  6838925   ...     8334161  8334431  8334887  \\\n",
       "14307191    False    False    False   ...       False    False    False   \n",
       "13137006    False    False    False   ...       False    False    False   \n",
       "12741959    False    False    False   ...       False    False    False   \n",
       "12643447    False    False    False   ...       False    False    False   \n",
       "14200253    False    False    False   ...       False    False    False   \n",
       "\n",
       "          8336128  8336158  8336789  8336964  8337193  8339697  8340894  \n",
       "14307191    False    False    False    False    False    False    False  \n",
       "13137006    False    False    False    False    False    False    False  \n",
       "12741959    False    False    False    False    False    False    False  \n",
       "12643447    False    False    False    False    False    False    False  \n",
       "14200253    False    False    False    False    False    False    False  \n",
       "\n",
       "[5 rows x 2524 columns]"
      ]
     },
     "execution_count": 21,
     "metadata": {},
     "output_type": "execute_result"
    }
   ],
   "source": [
    "pred_df.head()"
   ]
  },
  {
   "cell_type": "code",
   "execution_count": 22,
   "metadata": {},
   "outputs": [
    {
     "data": {
      "text/html": [
       "<div>\n",
       "<style scoped>\n",
       "    .dataframe tbody tr th:only-of-type {\n",
       "        vertical-align: middle;\n",
       "    }\n",
       "\n",
       "    .dataframe tbody tr th {\n",
       "        vertical-align: top;\n",
       "    }\n",
       "\n",
       "    .dataframe thead th {\n",
       "        text-align: right;\n",
       "    }\n",
       "</style>\n",
       "<table border=\"1\" class=\"dataframe\">\n",
       "  <thead>\n",
       "    <tr style=\"text-align: right;\">\n",
       "      <th></th>\n",
       "      <th>acc</th>\n",
       "      <th>prec</th>\n",
       "      <th>recall</th>\n",
       "      <th>f1</th>\n",
       "    </tr>\n",
       "  </thead>\n",
       "  <tbody>\n",
       "    <tr>\n",
       "      <th>0</th>\n",
       "      <td>0.999214</td>\n",
       "      <td>0.133</td>\n",
       "      <td>0.106315</td>\n",
       "      <td>0.11817</td>\n",
       "    </tr>\n",
       "  </tbody>\n",
       "</table>\n",
       "</div>"
      ],
      "text/plain": [
       "        acc   prec    recall       f1\n",
       "0  0.999214  0.133  0.106315  0.11817"
      ]
     },
     "execution_count": 22,
     "metadata": {},
     "output_type": "execute_result"
    }
   ],
   "source": [
    "# top1\n",
    "calc_summary(pred_df, label_df)"
   ]
  },
  {
   "cell_type": "code",
   "execution_count": 23,
   "metadata": {},
   "outputs": [],
   "source": [
    "# # top5\n",
    "# calc_summary(pred_df, label_df)"
   ]
  },
  {
   "cell_type": "markdown",
   "metadata": {},
   "source": [
    "## Example"
   ]
  },
  {
   "cell_type": "code",
   "execution_count": 24,
   "metadata": {},
   "outputs": [
    {
     "data": {
      "text/html": [
       "<div>\n",
       "<style scoped>\n",
       "    .dataframe tbody tr th:only-of-type {\n",
       "        vertical-align: middle;\n",
       "    }\n",
       "\n",
       "    .dataframe tbody tr th {\n",
       "        vertical-align: top;\n",
       "    }\n",
       "\n",
       "    .dataframe thead th {\n",
       "        text-align: right;\n",
       "    }\n",
       "</style>\n",
       "<table border=\"1\" class=\"dataframe\">\n",
       "  <thead>\n",
       "    <tr style=\"text-align: right;\">\n",
       "      <th></th>\n",
       "      <th>app_id</th>\n",
       "      <th>xml</th>\n",
       "    </tr>\n",
       "  </thead>\n",
       "  <tbody>\n",
       "    <tr>\n",
       "      <th>0</th>\n",
       "      <td>14307191</td>\n",
       "      <td>&lt;us-patent-application lang=\"EN\" dtd-version=\"...</td>\n",
       "    </tr>\n",
       "    <tr>\n",
       "      <th>1</th>\n",
       "      <td>13137006</td>\n",
       "      <td>&lt;us-patent-application lang=\"EN\" dtd-version=\"...</td>\n",
       "    </tr>\n",
       "    <tr>\n",
       "      <th>2</th>\n",
       "      <td>12741959</td>\n",
       "      <td>&lt;us-patent-application lang=\"EN\" dtd-version=\"...</td>\n",
       "    </tr>\n",
       "    <tr>\n",
       "      <th>3</th>\n",
       "      <td>12643447</td>\n",
       "      <td>&lt;us-patent-application lang=\"EN\" dtd-version=\"...</td>\n",
       "    </tr>\n",
       "    <tr>\n",
       "      <th>4</th>\n",
       "      <td>14200253</td>\n",
       "      <td>&lt;us-patent-application lang=\"EN\" dtd-version=\"...</td>\n",
       "    </tr>\n",
       "  </tbody>\n",
       "</table>\n",
       "</div>"
      ],
      "text/plain": [
       "     app_id                                                xml\n",
       "0  14307191  <us-patent-application lang=\"EN\" dtd-version=\"...\n",
       "1  13137006  <us-patent-application lang=\"EN\" dtd-version=\"...\n",
       "2  12741959  <us-patent-application lang=\"EN\" dtd-version=\"...\n",
       "3  12643447  <us-patent-application lang=\"EN\" dtd-version=\"...\n",
       "4  14200253  <us-patent-application lang=\"EN\" dtd-version=\"..."
      ]
     },
     "execution_count": 24,
     "metadata": {},
     "output_type": "execute_result"
    }
   ],
   "source": [
    "testset_app_df.head()"
   ]
  },
  {
   "cell_type": "code",
   "execution_count": 25,
   "metadata": {},
   "outputs": [
    {
     "name": "stdout",
     "output_type": "stream",
     "text": [
      "\n",
      " \n",
      "  1 . A method to aggregate, filter, and share energy data for analysis, the method comprising:\n",
      " receiving first data associated with a first electrical circuit, the first data having a first protocol; \n",
      " sampling the first data at a first sampling rate to generate first digital data, wherein the first sampling rate is substantially continuous; and \n",
      " transmitting reporting digital data over a network having a network protocol different from the first protocol, the reporting digital data comprising at least the first digital data, wherein the reporting digital data is transmitted at a reporting rate that is decoupled from the first sampling rate. \n",
      " \n",
      " \n",
      " \n",
      "  2 . The method of  claim 1  further comprising:\n",
      " receiving second data associated with a second electrical circuit, the second data having a second protocol different from the first protocol; and \n",
      " sampling the second data at a second sampling rate to generate second digital data, wherein the second sampling rate is substantially continuous; \n",
      " wherein the network protocol is different from the first protocol and the second protocol, wherein the reporting digital data comprises at least one of the first digital data and the second digital data, and wherein the reporting digital data is transmitted at the reporting rate that is decoupled from the first sampling rate and the second sampling rate. \n",
      " \n",
      " \n",
      " \n",
      "  3 . The method of  claim 1  wherein the reporting rate is substantially continuous. \n",
      " \n",
      " \n",
      "  4 . The method of  claim 2  further comprising:\n",
      " validating the first digital data and the second digital data to remove erroneous data points and to provide validated data; \n",
      " removing redundant data points from the validated data to provide reduced data; and \n",
      " transmitting messages based at least in part on the reduced data over the network. \n",
      " \n",
      " \n",
      " \n",
      "  5 . The method of  claim 2  further comprising analyzing the first data and the second data and transmitting messages comprising control signals for load control of at least one of the first and the second electrical circuits based on the analysis of the first data and the second data. \n",
      " \n",
      " \n",
      "  6 . The method of  claim 2  further comprising receiving control signals for load control of at least one of the first electrical circuit and the second electrical circuit. \n",
      " \n",
      " \n",
      "  7 . The method of  claim 1  wherein the network comprises the Internet, wherein the network is accessed by one or more of wired access and wireless access. \n",
      " \n",
      " \n",
      "  8 . The method of  claim 1  wherein the network comprises one or more servers in a cloud configuration. \n",
      " \n",
      " \n",
      "  9 . The method of  claim 2  further comprising storing at least one of the first digital data, the second digital data, and the reporting digital data until confirmation that the third digital data is successfully transmitted over the network. \n",
      " \n",
      " \n",
      "  10 . The method of  claim 1  wherein receiving the first electrical signal comprises receiving at least one of amplitude, phase, voltage, current, fundamental energy component, harmonic energy components, intermodulation energy components, and transient energy components associated with the first electrical signal. \n",
      " \n",
      " \n",
      "  11 . The method of  claim 1  wherein the first sampling rate is between approximately once every 15 minutes to approximately 1 MHz. \n",
      " \n",
      " \n",
      "  12 . An apparatus to aggregate, filter, and share energy data for analysis, the apparatus comprising:\n",
      " a first input configured to receive first data associated with a first electrical circuit, the first data having a first protocol; \n",
      " first circuitry configured to sample the first data at a first sampling rate to generate first digital data, wherein the first sampling rate is substantially continuous; and \n",
      " a communication port configured to transmit reporting digital data over a network having a network protocol different from the first protocol, the reporting digital data comprising at least the first digital data, wherein the reporting digital data is transmitted at a reporting rate that is decoupled from the first sampling rate. \n",
      " \n",
      " \n",
      " \n",
      "  13 . The apparatus of  claim 12  further comprising:\n",
      " a second input configured to receive second data associated with a second electrical circuit, the second data having a second protocol different from the first protocol; and \n",
      " second circuitry configured to sample the second data at a second sampling rate to generate second digital data, wherein the second sampling rate is substantially continuous; \n",
      " wherein the communication port is further configured to transmit the reporting digital data over the network having the network protocol different from the first protocol and the second protocol, the reporting digital data comprising at least one of the first digital data and the second digital data, and wherein the reporting digital data is transmitted at the reporting rate that is decoupled from the first sampling rate and the second sampling rate. \n",
      " \n",
      " \n",
      " \n",
      "  14 . The apparatus of  claim 12  wherein the reporting rate is substantially continuous. \n",
      " \n",
      " \n",
      "  15 . The apparatus of  claim 13  further comprising:\n",
      " computer hardware configured to validate the first digital data and the second digital data to remove erroneous data points and to provide validated data; and \n",
      " computer hardware configured to remove redundant data points from the validated data to provide reduced data; \n",
      " wherein the communication port is further configured to transmit messages based at least in part on the reduced data over the network. \n",
      " \n",
      " \n",
      " \n",
      "  16 . The apparatus of  claim 15  further comprising computer hardware configured to perform energy calculations on the reduced data to provide calculated energy data, wherein the computer hardware comprises cloud-based servers. \n",
      " \n",
      " \n",
      "  17 . The apparatus of  claim 16  wherein the calculated energy data comprises at least one of line-to-line and line-to-current voltage, total power, active power, reactive power, line-to-line and line-to-neutral current, power factor, fundamental and harmonic total energy per phase, fundamental and harmonic total energy for the sum of phases, fundamental and harmonic active energy per phase, fundamental and harmonic active energy for the sum of phases, fundamental and harmonic reactive energy per phase, fundamental and harmonic reactive energy for the sum of phases, frequency, harmonic frequency, gas usage, chilled water usage, hot water usage, and total energy usage. \n",
      " \n",
      " \n",
      "  18 . The apparatus of  claim 13  further comprising analytics configured to analyze the first data and the second data and to provide messages comprising control signals for load control of at least one of the first electrical circuit and the second electrical circuit based on the analysis of the first data and the second data. \n",
      " \n",
      " \n",
      "  19 . The apparatus of  claim 13  wherein the communication port is further configured to receive control signals for load control of at least one of the first electrical circuit and the second electrical circuit. \n",
      " \n",
      " \n",
      "  20 . The apparatus of  claim 12  wherein the network comprises the Internet, and wherein the network is accessed by one or more of wired access and wireless access. \n",
      " \n",
      " \n",
      "  21 . The apparatus of  claim 12  wherein the network comprises one or more servers in a cloud configuration. \n",
      " \n",
      " \n",
      "  22 . The apparatus of  claim 13  further comprising memory configured to store at least one of the first digital data, the second digital data, and the reporting digital data until confirmation that the reporting digital data is successfully transmitted over the network. \n",
      " \n",
      " \n",
      "  23 . The apparatus of  claim 12  wherein the first electrical signal comprises at least one of amplitude, phase, voltage, current, fundamental energy component, harmonic energy components, intermodulation energy components, and transient energy components associated with first electrical signal. \n",
      " \n",
      " \n",
      "  24 . The apparatus of  claim 12  wherein the first sampling rate is between approximately once every 15 minutes to approximately 1 MHz. \n",
      " \n",
      "\n",
      "1942    \\n \\n 1. An apparatus for gathering, transmitt...\n",
      "Name: claim, dtype: object\n"
     ]
    },
    {
     "name": "stderr",
     "output_type": "stream",
     "text": [
      "/usr/local/lib/python3.5/dist-packages/ipykernel_launcher.py:7: DeprecationWarning: Call to deprecated `__getitem__` (Method will be removed in 4.0.0, use self.wv.__getitem__() instead).\n",
      "  import sys\n"
     ]
    }
   ],
   "source": [
    "idx = 0\n",
    "appid = 14307191\n",
    "text = whole_xml_to_claim(testset_app_df.loc[idx]['xml'])\n",
    "vec = text_to_vec(text)\n",
    "similar_grant_index = find_most_similar(vec)\n",
    "similar_grant_id = grants_ids[similar_grant_index]\n",
    "print(text)\n",
    "print(grants_target_df.loc[similar_grant_index]['claim'])"
   ]
  },
  {
   "cell_type": "code",
   "execution_count": 26,
   "metadata": {},
   "outputs": [
    {
     "name": "stdout",
     "output_type": "stream",
     "text": [
      "\n",
      " \n",
      "  1 . A display apparatus, comprising:\n",
      " a position sensor to sense an eye position of a user; \n",
      " a controller to set a virtual viewing window corresponding to the sensed eye position of the user and to provide a control signal to generate a directional light toward the virtual viewing window; and \n",
      " a light generator to generate a directional light based on the control signal. \n",
      " \n",
      " \n",
      " \n",
      "  2 . The display apparatus of  claim 1 , further comprising:\n",
      " a light modulator to modulate an intensity of the directional light based on the control signal. \n",
      " \n",
      " \n",
      " \n",
      "  3 . The display apparatus of  claim 1 , wherein the position sensor comprises at least one camera to photograph the eye position of the user. \n",
      " \n",
      " \n",
      "  4 . The display apparatus of  claim 1 , wherein the position sensor comprises at least one camera to identify the eye position of the user by photographing an identifier fixed around the eye position of the user. \n",
      " \n",
      " \n",
      "  5 . The display apparatus of  claim 1 , wherein the light generator comprises:\n",
      " a backlight to generate a non-directional light; \n",
      " a variable slit to convert, based on the control signal, the non-directional light to a plurality of point light sources, each having a different position; and \n",
      " a lens to generate a directional light toward the virtual viewing window by refracting at least a part of the plurality of point light sources. \n",
      " \n",
      " \n",
      " \n",
      "  6 . The display apparatus of  claim 5 , wherein the variable slit corresponds to a plurality of pixels of a liquid crystal display (LCD) panel. \n",
      " \n",
      " \n",
      "  7 . The display apparatus of  claim 1 , wherein the controller comprises:\n",
      " an eye position detector to calculate a coordinate value of the eye position of the user on a space coordinate using the sensed eye position of the user; and \n",
      " a viewing window setting unit to determine at least one of a position of the virtual viewing window and a size of the virtual viewing window to cover the eye of the user using the coordinate value of the eye position of the user. \n",
      " \n",
      " \n",
      " \n",
      "  8 . The display apparatus of  claim 7 , wherein the controller further comprises:\n",
      " a directional light source controller to control a control signal to generate a directional light toward the virtual viewing window; and \n",
      " a light field image generator to provide a control signal to generate a three-dimensional (3D) image of a light field scheme by adjusting an intensity of the directional light toward the virtual viewing window. \n",
      " \n",
      " \n",
      " \n",
      "  9 . A display method, comprising:\n",
      " sensing an eye position of a user; \n",
      " setting a virtual viewing window corresponding to the sensed eye position of the user; and \n",
      " generating a directional light toward the virtual viewing window. \n",
      " \n",
      " \n",
      " \n",
      "  10 . The display method of  claim 9 , further comprising:\n",
      " displaying, on the virtual viewing window, a light field 3D image by controlling generated the directional light. \n",
      " \n",
      " \n",
      " \n",
      "  11 . The display method of  claim 9 , wherein the generating of the directional light comprises:\n",
      " generating a non-directional light using a backlight; \n",
      " converting, using a variable slit, the non-directional light to a plurality of point light sources, each having a different position; and \n",
      " generating a directional light toward the virtual viewing window by refracting at least a part of the plurality of point light sources using a refracting lens. \n",
      " \n",
      " \n",
      " \n",
      "  12 . The display method of  claim 9 , wherein the setting of the virtual viewing window comprises:\n",
      " calculating a coordinate value of the eye position of the user on a space coordinate using the sensed eye position of the user; and \n",
      " determining, to cover the eye of the user using the coordinate value of the eye position of the user, at least one of a position of the virtual viewing window and a size of the virtual viewing window. \n",
      " \n",
      " \n",
      " \n",
      "  13 . The display method of  claim 9 , wherein the sensing of the eye position of the user comprises:\n",
      " photographing a front image using at least one camera; and \n",
      " sensing the eye position of the user by identifying the eye of the user from the front image. \n",
      " \n",
      " \n",
      " \n",
      "  14 . The display method of  claim 9 , wherein the sensing of the eye position of the user comprises:\n",
      " photographing an identifier fixed around the eye position of the user using at least one camera. \n",
      " \n",
      " \n",
      " \n",
      "  15 . A non-transitory computer-readable medium comprising a program for instructing a computer to perform the display method of  claim 9 . \n",
      " \n",
      " \n",
      "  16 . The display method of  claim 12 , wherein the position of the virtual viewing window and the size of the virtual viewing window are determined based on a position of a pupil of the eye of the user and a size of the pupil, respectively. \n",
      " \n",
      " \n",
      "  17 . A display apparatus, comprising:\n",
      " a position sensor to sense an eye position of a user using at least one of a visible light band camera, an infrared camera, and a depth camera; \n",
      " a controller to set a size of a virtual viewing window and to determine a position of the virtual viewing window based on the eye position of the user and a size of the eye, and to provide a control signal to generate a directional light toward the virtual viewing window; and \n",
      " a light generator including a backlight providing a standard light source, a variable slit to modulate the standard light source to a point light source at a predetermined position, and a lens to generate, based on the control signal, the directional light by refracting the point light source toward the virtual viewing window. \n",
      " \n",
      " \n",
      " \n",
      "  18 . The display apparatus of  claim 17 , further comprising a light modulator to adjust at least one of an actual intensity of the point light and a direction of the directional light based on a control signal from the controller. \n",
      " \n",
      " \n",
      "  19 . The display apparatus of  claim 17 , wherein the controller sets the size of the virtual viewing window based on a size of a pupil of the eye of the user and determines the position of the virtual viewing window based on a position of the pupil. \n",
      " \n",
      " \n",
      "  20 . A display method comprising:\n",
      " continuously tracing a pupil position of an eye of a viewer of a display; \n",
      " dynamically setting a virtual viewing window of the display to correspond to the continuously traced pupil position; and \n",
      " generating an image in the virtual viewing window while not generating an image in portions of the display that do not correspond to the virtual viewing window.  \n",
      " \n",
      " \n",
      "\n",
      "889    \\n \\n 1. A data input device comprising:\\n an ...\n",
      "Name: claim, dtype: object\n"
     ]
    },
    {
     "name": "stderr",
     "output_type": "stream",
     "text": [
      "/usr/local/lib/python3.5/dist-packages/ipykernel_launcher.py:7: DeprecationWarning: Call to deprecated `__getitem__` (Method will be removed in 4.0.0, use self.wv.__getitem__() instead).\n",
      "  import sys\n"
     ]
    }
   ],
   "source": [
    "idx = 1\n",
    "text = whole_xml_to_claim(testset_app_df.loc[idx]['xml'])\n",
    "vec = text_to_vec(text)\n",
    "similar_grant_index = find_most_similar(vec)\n",
    "similar_grant_id = grants_ids[similar_grant_index]\n",
    "print(text)\n",
    "print(grants_target_df.loc[similar_grant_index]['claim'])"
   ]
  },
  {
   "cell_type": "code",
   "execution_count": null,
   "metadata": {},
   "outputs": [],
   "source": []
  },
  {
   "cell_type": "code",
   "execution_count": null,
   "metadata": {},
   "outputs": [],
   "source": []
  },
  {
   "cell_type": "code",
   "execution_count": null,
   "metadata": {},
   "outputs": [],
   "source": []
  },
  {
   "cell_type": "markdown",
   "metadata": {},
   "source": [
    "## Trial and error"
   ]
  },
  {
   "cell_type": "code",
   "execution_count": 26,
   "metadata": {},
   "outputs": [],
   "source": [
    "predictdf = pd.DataFrame(columns=grants_target_df.parsed.values, dtype=np.bool)"
   ]
  },
  {
   "cell_type": "code",
   "execution_count": 27,
   "metadata": {},
   "outputs": [],
   "source": [
    "predictdf.loc[14307191] = False"
   ]
  },
  {
   "cell_type": "code",
   "execution_count": 28,
   "metadata": {},
   "outputs": [],
   "source": [
    "predictdf.loc[14307191, 6837383] = True"
   ]
  },
  {
   "cell_type": "code",
   "execution_count": 29,
   "metadata": {},
   "outputs": [
    {
     "data": {
      "text/html": [
       "<div>\n",
       "<style scoped>\n",
       "    .dataframe tbody tr th:only-of-type {\n",
       "        vertical-align: middle;\n",
       "    }\n",
       "\n",
       "    .dataframe tbody tr th {\n",
       "        vertical-align: top;\n",
       "    }\n",
       "\n",
       "    .dataframe thead th {\n",
       "        text-align: right;\n",
       "    }\n",
       "</style>\n",
       "<table border=\"1\" class=\"dataframe\">\n",
       "  <thead>\n",
       "    <tr style=\"text-align: right;\">\n",
       "      <th></th>\n",
       "      <th>6837383</th>\n",
       "      <th>6837647</th>\n",
       "      <th>6837799</th>\n",
       "      <th>6837893</th>\n",
       "      <th>6837910</th>\n",
       "      <th>6838140</th>\n",
       "      <th>6838207</th>\n",
       "      <th>6838507</th>\n",
       "      <th>6838812</th>\n",
       "      <th>6838925</th>\n",
       "      <th>...</th>\n",
       "      <th>8334161</th>\n",
       "      <th>8334431</th>\n",
       "      <th>8334887</th>\n",
       "      <th>8336128</th>\n",
       "      <th>8336158</th>\n",
       "      <th>8336789</th>\n",
       "      <th>8336964</th>\n",
       "      <th>8337193</th>\n",
       "      <th>8339697</th>\n",
       "      <th>8340894</th>\n",
       "    </tr>\n",
       "  </thead>\n",
       "  <tbody>\n",
       "    <tr>\n",
       "      <th>14307191</th>\n",
       "      <td>True</td>\n",
       "      <td>False</td>\n",
       "      <td>False</td>\n",
       "      <td>False</td>\n",
       "      <td>False</td>\n",
       "      <td>False</td>\n",
       "      <td>False</td>\n",
       "      <td>False</td>\n",
       "      <td>False</td>\n",
       "      <td>False</td>\n",
       "      <td>...</td>\n",
       "      <td>False</td>\n",
       "      <td>False</td>\n",
       "      <td>False</td>\n",
       "      <td>False</td>\n",
       "      <td>False</td>\n",
       "      <td>False</td>\n",
       "      <td>False</td>\n",
       "      <td>False</td>\n",
       "      <td>False</td>\n",
       "      <td>False</td>\n",
       "    </tr>\n",
       "  </tbody>\n",
       "</table>\n",
       "<p>1 rows × 2524 columns</p>\n",
       "</div>"
      ],
      "text/plain": [
       "          6837383  6837647  6837799  6837893  6837910  6838140  6838207  \\\n",
       "14307191     True    False    False    False    False    False    False   \n",
       "\n",
       "          6838507  6838812  6838925   ...     8334161  8334431  8334887  \\\n",
       "14307191    False    False    False   ...       False    False    False   \n",
       "\n",
       "          8336128  8336158  8336789  8336964  8337193  8339697  8340894  \n",
       "14307191    False    False    False    False    False    False    False  \n",
       "\n",
       "[1 rows x 2524 columns]"
      ]
     },
     "execution_count": 29,
     "metadata": {},
     "output_type": "execute_result"
    }
   ],
   "source": [
    "predictdf"
   ]
  },
  {
   "cell_type": "code",
   "execution_count": 30,
   "metadata": {},
   "outputs": [
    {
     "data": {
      "text/plain": [
       "True"
      ]
     },
     "execution_count": 30,
     "metadata": {},
     "output_type": "execute_result"
    }
   ],
   "source": [
    "predictdf.loc[14307191, 6837383]"
   ]
  },
  {
   "cell_type": "code",
   "execution_count": null,
   "metadata": {},
   "outputs": [],
   "source": []
  },
  {
   "cell_type": "code",
   "execution_count": null,
   "metadata": {},
   "outputs": [],
   "source": []
  },
  {
   "cell_type": "code",
   "execution_count": null,
   "metadata": {},
   "outputs": [],
   "source": []
  },
  {
   "cell_type": "markdown",
   "metadata": {},
   "source": [
    "# Doc2vec model"
   ]
  },
  {
   "cell_type": "code",
   "execution_count": 27,
   "metadata": {},
   "outputs": [
    {
     "data": {
      "text/plain": [
       "'\\n \\n 1. A tool organizer for mounting to and adapted for use with a vehicle lift rack having support arms, said tool organizer comprising:\\n four upstanding walls depending from a base and forming a storage volume for storing a plurality of tools and parts;  \\n a selectively articulating lid enclosing said storage volume;  \\n adjustable attachment means depending from said storage volume, said attachment means removably attachable to said support arms for supporting said tool organizer by gravity impingement;  \\n a U-shaped ring affixed to an external portion of at least one of said walls, said ring for supporting a hand tool;  \\n a support plate projected from a front of said tool organizer and co-extensive with said base;  \\n a plurality of intermediate apertures formed in said support plate, said plurality of intermediate apertures adapted sized to accommodate intermediate and large hand tools;  \\n a plurality of small apertures formed in said support plate, said plurality of small apertures adapted to accommodate small hand tools;  \\n at least one large aperture formed in said support plate, said at least one large aperture adapted to accommodate a container.  \\n \\n \\n \\n 2. The tool organizer of  claim 1  further comprising a slidably retained storage drawer provided beneath said base and said support plate for additional storage area, said base and said support plate operating as an enclosure for said storage drawer. \\n \\n \\n 3. The tool organizer of  claim 2 , wherein a face of said storage drawer is co-extensive with an anterior margin of said support plate, said storage drawer further comprising a handle for easily grasping for selectively opening and closing said storage drawer. \\n \\n \\n 4. The tool organizer of  claim 1 , wherein said tool organizer rests cantilevered to said support arms, thereby positioning said storage volume below a horizontal level of said support arms. \\n \\n \\n 5. The tool organizer of  claim 1 , wherein said four upstanding walls comprise a front wall opposite a rear wall, a first sidewall opposite a second sidewall, wherein said first sidewall and said second sidewall are intermediately disposed between said front wall and said rear wall. \\n \\n \\n 6. The tool organizer of  claim 5 , wherein said rear wall comprises a greater vertical profile than said front wall for providing ease of access to said storage volume. \\n \\n \\n 7. The tool organizer of  claim 5 , wherein said first sidewall and said second sidewall are inclined from said front wall to said rear wall for providing ease of access to said storage volume. \\n \\n \\n 8. The tool organizer of  claim 1 , wherein said lid is affixed to said storage volume by an articulating hinge. \\n \\n \\n 9. The tool organizer of  claim 1 , wherein said lid comprises a lock for securing contents of said storage volume from unauthorized removal and theft. \\n \\n \\n 10. The tool organizer of  claim 1 , wherein said attachment means comprise at least one hook adjustable in length to accommodate variations in widths of said support arms. \\n \\n \\n 11. The tool organizer of  claim 1 , wherein at least one of said upstanding walls comprises magnetic properties for attracting and supporting magnetic objects. \\n \\n \\n 12. The tool organizer of  claim 1 , wherein said tool organizer comprises a color in a general class of yellow for providing visual indication of said tool organizer location. \\n \\n'"
      ]
     },
     "execution_count": 27,
     "metadata": {},
     "output_type": "execute_result"
    }
   ],
   "source": [
    "grants_target_df['claim'][0]"
   ]
  },
  {
   "cell_type": "markdown",
   "metadata": {},
   "source": [
    "### Do simple text preprocessing and create datasets for doc2vec model."
   ]
  },
  {
   "cell_type": "code",
   "execution_count": 28,
   "metadata": {},
   "outputs": [],
   "source": [
    "preprocessed_grant_data = grants_target_df['claim'].str\\\n",
    "    .replace(\"\\n\", \"\", regex=False).str\\\n",
    "    .replace(\"[0-9]*\\.\", \"\", regex=True).str\\\n",
    "    .replace(\"[,:;]\", \"\", regex=True).str\\\n",
    "    .replace(\"a |A |the |The \", \"\", regex=True)"
   ]
  },
  {
   "cell_type": "code",
   "execution_count": 29,
   "metadata": {},
   "outputs": [
    {
     "data": {
      "text/plain": [
       "'   tool organizer for mounting to and adapted for use with vehicle lift rack having support arms said tool organizer comprising four upstanding walls depending from base and forming storage volume for storing plurality of tools and parts   selectively articulating lid enclosing said storage volume   adjustable attachment means depending from said storage volume said attachment means removably attachable to said support arms for supporting said tool organizer by gravity impingement   U-shaped ring affixed to an external portion of at least one of said walls said ring for supporting hand tool   support plate projected from front of said tool organizer and co-extensive with said base   plurality of intermediate apertures formed in said support plate said plurality of intermediate apertures adapted sized to accommodate intermediate and large hand tools   plurality of small apertures formed in said support plate said plurality of small apertures adapted to accommodate small hand tools   at least one large aperture formed in said support plate said at least one large aperture adapted to accommodate container       tool organizer of  claim 1  further comprising slidably retained storage drawer provided beneath said base and said support plate for additional storage aresaid base and said support plate operating as an enclosure for said storage drawer     tool organizer of  claim 2  wherein face of said storage drawer is co-extensive with an anterior margin of said support plate said storage drawer further comprising handle for easily grasping for selectively opening and closing said storage drawer     tool organizer of  claim 1  wherein said tool organizer rests cantilevered to said support arms thereby positioning said storage volume below horizontal level of said support arms     tool organizer of  claim 1  wherein said four upstanding walls comprise front wall opposite rear wall first sidewall opposite second sidewall wherein said first sidewall and said second sidewall are intermediately disposed between said front wall and said rear wall     tool organizer of  claim 5  wherein said rear wall comprises greater vertical profile than said front wall for providing ease of access to said storage volume     tool organizer of  claim 5  wherein said first sidewall and said second sidewall are inclined from said front wall to said rear wall for providing ease of access to said storage volume     tool organizer of  claim 1  wherein said lid is affixed to said storage volume by an articulating hinge     tool organizer of  claim 1  wherein said lid comprises lock for securing contents of said storage volume from unauthorized removal and theft     tool organizer of  claim 1  wherein said attachment means comprise at least one hook adjustable in length to accommodate variations in widths of said support arms     tool organizer of  claim 1  wherein at least one of said upstanding walls comprises magnetic properties for attracting and supporting magnetic objects     tool organizer of  claim 1  wherein said tool organizer comprises color in general class of yellow for providing visual indication of said tool organizer location  '"
      ]
     },
     "execution_count": 29,
     "metadata": {},
     "output_type": "execute_result"
    }
   ],
   "source": [
    "preprocessed_grant_data[0]"
   ]
  },
  {
   "cell_type": "code",
   "execution_count": 30,
   "metadata": {},
   "outputs": [],
   "source": [
    "from gensim.models import doc2vec\n",
    "from gensim.utils import simple_preprocess"
   ]
  },
  {
   "cell_type": "code",
   "execution_count": 31,
   "metadata": {},
   "outputs": [],
   "source": [
    "d2v_grant_data = list()\n",
    "\n",
    "for idx, elem in enumerate(preprocessed_grant_data):\n",
    "    d2v_grant_data.append(\n",
    "        doc2vec.TaggedDocument(simple_preprocess(elem), [str(grants_target_df.parsed[idx])])\n",
    "    )"
   ]
  },
  {
   "cell_type": "code",
   "execution_count": 32,
   "metadata": {},
   "outputs": [
    {
     "data": {
      "text/plain": [
       "TaggedDocument(words=['tool', 'organizer', 'for', 'mounting', 'to', 'and', 'adapted', 'for', 'use', 'with', 'vehicle', 'lift', 'rack', 'having', 'support', 'arms', 'said', 'tool', 'organizer', 'comprising', 'four', 'upstanding', 'walls', 'depending', 'from', 'base', 'and', 'forming', 'storage', 'volume', 'for', 'storing', 'plurality', 'of', 'tools', 'and', 'parts', 'selectively', 'articulating', 'lid', 'enclosing', 'said', 'storage', 'volume', 'adjustable', 'attachment', 'means', 'depending', 'from', 'said', 'storage', 'volume', 'said', 'attachment', 'means', 'removably', 'attachable', 'to', 'said', 'support', 'arms', 'for', 'supporting', 'said', 'tool', 'organizer', 'by', 'gravity', 'impingement', 'shaped', 'ring', 'affixed', 'to', 'an', 'external', 'portion', 'of', 'at', 'least', 'one', 'of', 'said', 'walls', 'said', 'ring', 'for', 'supporting', 'hand', 'tool', 'support', 'plate', 'projected', 'from', 'front', 'of', 'said', 'tool', 'organizer', 'and', 'co', 'extensive', 'with', 'said', 'base', 'plurality', 'of', 'intermediate', 'apertures', 'formed', 'in', 'said', 'support', 'plate', 'said', 'plurality', 'of', 'intermediate', 'apertures', 'adapted', 'sized', 'to', 'accommodate', 'intermediate', 'and', 'large', 'hand', 'tools', 'plurality', 'of', 'small', 'apertures', 'formed', 'in', 'said', 'support', 'plate', 'said', 'plurality', 'of', 'small', 'apertures', 'adapted', 'to', 'accommodate', 'small', 'hand', 'tools', 'at', 'least', 'one', 'large', 'aperture', 'formed', 'in', 'said', 'support', 'plate', 'said', 'at', 'least', 'one', 'large', 'aperture', 'adapted', 'to', 'accommodate', 'container', 'tool', 'organizer', 'of', 'claim', 'further', 'comprising', 'slidably', 'retained', 'storage', 'drawer', 'provided', 'beneath', 'said', 'base', 'and', 'said', 'support', 'plate', 'for', 'additional', 'storage', 'aresaid', 'base', 'and', 'said', 'support', 'plate', 'operating', 'as', 'an', 'enclosure', 'for', 'said', 'storage', 'drawer', 'tool', 'organizer', 'of', 'claim', 'wherein', 'face', 'of', 'said', 'storage', 'drawer', 'is', 'co', 'extensive', 'with', 'an', 'anterior', 'margin', 'of', 'said', 'support', 'plate', 'said', 'storage', 'drawer', 'further', 'comprising', 'handle', 'for', 'easily', 'grasping', 'for', 'selectively', 'opening', 'and', 'closing', 'said', 'storage', 'drawer', 'tool', 'organizer', 'of', 'claim', 'wherein', 'said', 'tool', 'organizer', 'rests', 'cantilevered', 'to', 'said', 'support', 'arms', 'thereby', 'positioning', 'said', 'storage', 'volume', 'below', 'horizontal', 'level', 'of', 'said', 'support', 'arms', 'tool', 'organizer', 'of', 'claim', 'wherein', 'said', 'four', 'upstanding', 'walls', 'comprise', 'front', 'wall', 'opposite', 'rear', 'wall', 'first', 'sidewall', 'opposite', 'second', 'sidewall', 'wherein', 'said', 'first', 'sidewall', 'and', 'said', 'second', 'sidewall', 'are', 'intermediately', 'disposed', 'between', 'said', 'front', 'wall', 'and', 'said', 'rear', 'wall', 'tool', 'organizer', 'of', 'claim', 'wherein', 'said', 'rear', 'wall', 'comprises', 'greater', 'vertical', 'profile', 'than', 'said', 'front', 'wall', 'for', 'providing', 'ease', 'of', 'access', 'to', 'said', 'storage', 'volume', 'tool', 'organizer', 'of', 'claim', 'wherein', 'said', 'first', 'sidewall', 'and', 'said', 'second', 'sidewall', 'are', 'inclined', 'from', 'said', 'front', 'wall', 'to', 'said', 'rear', 'wall', 'for', 'providing', 'ease', 'of', 'access', 'to', 'said', 'storage', 'volume', 'tool', 'organizer', 'of', 'claim', 'wherein', 'said', 'lid', 'is', 'affixed', 'to', 'said', 'storage', 'volume', 'by', 'an', 'articulating', 'hinge', 'tool', 'organizer', 'of', 'claim', 'wherein', 'said', 'lid', 'comprises', 'lock', 'for', 'securing', 'contents', 'of', 'said', 'storage', 'volume', 'from', 'unauthorized', 'removal', 'and', 'theft', 'tool', 'organizer', 'of', 'claim', 'wherein', 'said', 'attachment', 'means', 'comprise', 'at', 'least', 'one', 'hook', 'adjustable', 'in', 'length', 'to', 'accommodate', 'variations', 'in', 'widths', 'of', 'said', 'support', 'arms', 'tool', 'organizer', 'of', 'claim', 'wherein', 'at', 'least', 'one', 'of', 'said', 'upstanding', 'walls', 'comprises', 'magnetic', 'properties', 'for', 'attracting', 'and', 'supporting', 'magnetic', 'objects', 'tool', 'organizer', 'of', 'claim', 'wherein', 'said', 'tool', 'organizer', 'comprises', 'color', 'in', 'general', 'class', 'of', 'yellow', 'for', 'providing', 'visual', 'indication', 'of', 'said', 'tool', 'organizer', 'location'], tags=['6837383'])"
      ]
     },
     "execution_count": 32,
     "metadata": {},
     "output_type": "execute_result"
    }
   ],
   "source": [
    "d2v_grant_data[0]"
   ]
  },
  {
   "cell_type": "markdown",
   "metadata": {},
   "source": [
    "### doc2vec model training.\n",
    "\n",
    "model parameters: https://radimrehurek.com/gensim/models/doc2vec.html"
   ]
  },
  {
   "cell_type": "code",
   "execution_count": 33,
   "metadata": {},
   "outputs": [],
   "source": [
    "import multiprocessing\n",
    "CPUNUM = multiprocessing.cpu_count()"
   ]
  },
  {
   "cell_type": "code",
   "execution_count": 34,
   "metadata": {},
   "outputs": [
    {
     "name": "stdout",
     "output_type": "stream",
     "text": [
      "CPU times: user 9min 30s, sys: 4.62 s, total: 9min 35s\n",
      "Wall time: 2min 36s\n"
     ]
    }
   ],
   "source": [
    "%%time\n",
    "\n",
    "model = doc2vec.Doc2Vec(\n",
    "    documents=d2v_grant_data\n",
    "    , dm = 1\n",
    "    , epochs = 50\n",
    "    , vector_size=350\n",
    "    , window=5\n",
    "    , min_count=5\n",
    "    , workers=CPUNUM\n",
    "    , seed=23)"
   ]
  },
  {
   "cell_type": "markdown",
   "metadata": {},
   "source": [
    "Check word similarities."
   ]
  },
  {
   "cell_type": "code",
   "execution_count": 35,
   "metadata": {},
   "outputs": [
    {
     "name": "stderr",
     "output_type": "stream",
     "text": [
      "/usr/local/lib/python3.5/dist-packages/ipykernel_launcher.py:1: DeprecationWarning: Call to deprecated `most_similar` (Method will be removed in 4.0.0, use self.wv.most_similar() instead).\n",
      "  \"\"\"Entry point for launching an IPython kernel.\n"
     ]
    },
    {
     "data": {
      "text/plain": [
       "[('computer', 0.2695177495479584),\n",
       " ('writable', 0.21770721673965454),\n",
       " ('framework', 0.21354065835475922),\n",
       " ('dedicated', 0.20993411540985107),\n",
       " ('mediaccording', 0.20617230236530304),\n",
       " ('piezoelectric', 0.194503515958786),\n",
       " ('computing', 0.19321362674236298),\n",
       " ('faucet', 0.19124718010425568),\n",
       " ('pawl', 0.19111208617687225),\n",
       " ('processor', 0.18989260494709015)]"
      ]
     },
     "execution_count": 35,
     "metadata": {},
     "output_type": "execute_result"
    }
   ],
   "source": [
    "model.most_similar(\"machine\")"
   ]
  },
  {
   "cell_type": "markdown",
   "metadata": {},
   "source": [
    "It looks nice.  \n",
    "Next check document similarities."
   ]
  },
  {
   "cell_type": "code",
   "execution_count": 36,
   "metadata": {},
   "outputs": [
    {
     "data": {
      "text/html": [
       "<div>\n",
       "<style scoped>\n",
       "    .dataframe tbody tr th:only-of-type {\n",
       "        vertical-align: middle;\n",
       "    }\n",
       "\n",
       "    .dataframe tbody tr th {\n",
       "        vertical-align: top;\n",
       "    }\n",
       "\n",
       "    .dataframe thead th {\n",
       "        text-align: right;\n",
       "    }\n",
       "</style>\n",
       "<table border=\"1\" class=\"dataframe\">\n",
       "  <thead>\n",
       "    <tr style=\"text-align: right;\">\n",
       "      <th></th>\n",
       "      <th>parsed</th>\n",
       "      <th>xml</th>\n",
       "      <th>claim</th>\n",
       "    </tr>\n",
       "  </thead>\n",
       "  <tbody>\n",
       "    <tr>\n",
       "      <th>0</th>\n",
       "      <td>6837383</td>\n",
       "      <td>&lt;us-patent-grant lang=\"EN\" dtd-version=\"v40 20...</td>\n",
       "      <td>\\n \\n 1. A tool organizer for mounting to and ...</td>\n",
       "    </tr>\n",
       "    <tr>\n",
       "      <th>1</th>\n",
       "      <td>6837647</td>\n",
       "      <td>&lt;us-patent-grant lang=\"EN\" dtd-version=\"v40 20...</td>\n",
       "      <td>\\n \\n 1. A modular crowd and traffic control b...</td>\n",
       "    </tr>\n",
       "  </tbody>\n",
       "</table>\n",
       "</div>"
      ],
      "text/plain": [
       "    parsed                                                xml  \\\n",
       "0  6837383  <us-patent-grant lang=\"EN\" dtd-version=\"v40 20...   \n",
       "1  6837647  <us-patent-grant lang=\"EN\" dtd-version=\"v40 20...   \n",
       "\n",
       "                                               claim  \n",
       "0  \\n \\n 1. A tool organizer for mounting to and ...  \n",
       "1  \\n \\n 1. A modular crowd and traffic control b...  "
      ]
     },
     "execution_count": 36,
     "metadata": {},
     "output_type": "execute_result"
    }
   ],
   "source": [
    "grants_target_df.head(2)"
   ]
  },
  {
   "cell_type": "code",
   "execution_count": 37,
   "metadata": {},
   "outputs": [],
   "source": [
    "idx = 6837383"
   ]
  },
  {
   "cell_type": "code",
   "execution_count": 38,
   "metadata": {},
   "outputs": [
    {
     "data": {
      "text/plain": [
       "[('7242108', 0.422192245721817),\n",
       " ('7258401', 0.42090556025505066),\n",
       " ('6860386', 0.41485100984573364),\n",
       " ('7383954', 0.3827245533466339),\n",
       " ('6991262', 0.3511444926261902),\n",
       " ('8332466', 0.3463149666786194),\n",
       " ('8291649', 0.34570398926734924),\n",
       " ('7384920', 0.3456510901451111),\n",
       " ('7213816', 0.34189537167549133),\n",
       " ('7604048', 0.34058135747909546)]"
      ]
     },
     "execution_count": 38,
     "metadata": {},
     "output_type": "execute_result"
    }
   ],
   "source": [
    "model.docvecs.most_similar(str(idx))"
   ]
  },
  {
   "cell_type": "code",
   "execution_count": 39,
   "metadata": {},
   "outputs": [],
   "source": [
    "most_similar_grant_idx = int(model.docvecs.most_similar(str(idx))[0][0])"
   ]
  },
  {
   "cell_type": "code",
   "execution_count": 40,
   "metadata": {},
   "outputs": [
    {
     "data": {
      "text/plain": [
       "7242108"
      ]
     },
     "execution_count": 40,
     "metadata": {},
     "output_type": "execute_result"
    }
   ],
   "source": [
    "most_similar_grant_idx"
   ]
  },
  {
   "cell_type": "markdown",
   "metadata": {},
   "source": [
    "Check similar documents."
   ]
  },
  {
   "cell_type": "code",
   "execution_count": 41,
   "metadata": {
    "scrolled": false
   },
   "outputs": [
    {
     "data": {
      "text/plain": [
       "array(['\\n \\n 1. A tool organizer for mounting to and adapted for use with a vehicle lift rack having support arms, said tool organizer comprising:\\n four upstanding walls depending from a base and forming a storage volume for storing a plurality of tools and parts;  \\n a selectively articulating lid enclosing said storage volume;  \\n adjustable attachment means depending from said storage volume, said attachment means removably attachable to said support arms for supporting said tool organizer by gravity impingement;  \\n a U-shaped ring affixed to an external portion of at least one of said walls, said ring for supporting a hand tool;  \\n a support plate projected from a front of said tool organizer and co-extensive with said base;  \\n a plurality of intermediate apertures formed in said support plate, said plurality of intermediate apertures adapted sized to accommodate intermediate and large hand tools;  \\n a plurality of small apertures formed in said support plate, said plurality of small apertures adapted to accommodate small hand tools;  \\n at least one large aperture formed in said support plate, said at least one large aperture adapted to accommodate a container.  \\n \\n \\n \\n 2. The tool organizer of  claim 1  further comprising a slidably retained storage drawer provided beneath said base and said support plate for additional storage area, said base and said support plate operating as an enclosure for said storage drawer. \\n \\n \\n 3. The tool organizer of  claim 2 , wherein a face of said storage drawer is co-extensive with an anterior margin of said support plate, said storage drawer further comprising a handle for easily grasping for selectively opening and closing said storage drawer. \\n \\n \\n 4. The tool organizer of  claim 1 , wherein said tool organizer rests cantilevered to said support arms, thereby positioning said storage volume below a horizontal level of said support arms. \\n \\n \\n 5. The tool organizer of  claim 1 , wherein said four upstanding walls comprise a front wall opposite a rear wall, a first sidewall opposite a second sidewall, wherein said first sidewall and said second sidewall are intermediately disposed between said front wall and said rear wall. \\n \\n \\n 6. The tool organizer of  claim 5 , wherein said rear wall comprises a greater vertical profile than said front wall for providing ease of access to said storage volume. \\n \\n \\n 7. The tool organizer of  claim 5 , wherein said first sidewall and said second sidewall are inclined from said front wall to said rear wall for providing ease of access to said storage volume. \\n \\n \\n 8. The tool organizer of  claim 1 , wherein said lid is affixed to said storage volume by an articulating hinge. \\n \\n \\n 9. The tool organizer of  claim 1 , wherein said lid comprises a lock for securing contents of said storage volume from unauthorized removal and theft. \\n \\n \\n 10. The tool organizer of  claim 1 , wherein said attachment means comprise at least one hook adjustable in length to accommodate variations in widths of said support arms. \\n \\n \\n 11. The tool organizer of  claim 1 , wherein at least one of said upstanding walls comprises magnetic properties for attracting and supporting magnetic objects. \\n \\n \\n 12. The tool organizer of  claim 1 , wherein said tool organizer comprises a color in a general class of yellow for providing visual indication of said tool organizer location. \\n \\n'],\n",
       "      dtype=object)"
      ]
     },
     "execution_count": 41,
     "metadata": {},
     "output_type": "execute_result"
    }
   ],
   "source": [
    "grants_target_df[grants_target_df.parsed == idx]['claim'].values"
   ]
  },
  {
   "cell_type": "code",
   "execution_count": 42,
   "metadata": {
    "scrolled": true
   },
   "outputs": [
    {
     "data": {
      "text/plain": [
       "array(['\\n \\n 1. A wind-actuated electric power alternator, comprising:\\n an impeller enclosure having a generally triangular cross-sectional configuration; \\n an impeller rotatably mounted in said impeller enclosure; and \\n a alternator coupled to said impeller. \\n \\n \\n \\n 2. The wind-powered electric power alternator of  claim 1  wherein said impeller enclosure has a generally equilateral triangular configuration. \\n \\n \\n 3. The wind-powered electric power alternator of  claim 1  further comprising a base and wherein said impeller enclosure is carried by said base. \\n \\n \\n 4. The wind-powered electric power alternator of  claim 1  wherein said impeller comprises an impeller shaft coupled to said alternator, an impeller body carried by said impeller shaft and a plurality of impeller blades and a base plate carried by said impeller body. \\n \\n \\n 5. The wind-powered electric power alternator of  claim 4  wherein said plurality of impeller blades each has a generally curved cross-sectional configuration. \\n \\n \\n 6. The wind-powered electric power alternator of  claim 4  further comprising a pulley wheel carried by said impeller shaft, a alternator drive wheel carried by said alternator and a alternator drive belt coupling said pulley wheel to said alternator drive wheel. \\n \\n \\n 7. The wind-powered electric power alternator of  claim 4  further comprising a flywheel carried by said impeller shaft, disk brakes engaging said base plate and a brake engaging said flywheel for selectively grabbing said flywheel against said disk brakes. \\n \\n \\n 8. The wind-powered electric power alternator of  claim 4  further comprising an impeller mount frame provided in said impeller enclosure and wherein said impeller shaft is rotatably mounted in said impeller mount frame. \\n \\n \\n 9. A wind-actuated electric power alternator, comprising:\\n an impeller enclosure having a plurality of enclosure panels defining generally triangular cross-sectional configuration; \\n a panel opening provided in each of said plurality of enclosure panels; \\n an impeller rotatably mounted in said impeller enclosure; and \\n a alternator adapted to be coupled to said impeller when said impeller reaches a predetermined rotational speed. \\n \\n \\n \\n 10. The wind-actuated electric power alternator of  claim 9  wherein said impeller enclosure has a generally equilateral triangular configuration. \\n \\n \\n 11. The wind-powered electric power alternator of  claim 1  further comprising a base having a generally triangular cross-sectional configuration and wherein said impeller enclosure is carried by said base. \\n \\n \\n 12. The wind-powered electric power alternator of  claim 9  wherein said impeller comprises an impeller shaft coupled to said alternator, a generally cylindrical impeller body carried by said impeller shaft and a plurality of elongated impeller blades carried by said impeller body. \\n \\n \\n 13. The wind-powered electric power alternator of  claim 12  wherein said plurality of impeller blades each has a generally curved cross-sectional configuration. \\n \\n \\n 14. The wind-powered electric power alternator of  claim 12  further comprising a pulley wheel carried by said impeller shaft, a alternator drive wheel carried by said alternator and a alternator drive belt coupling said pulley wheel to said alternator drive wheel. \\n \\n \\n 15. The wind-powered electric power alternator of  claim 12  further comprising a flywheel carried by said impeller shaft and a brake engaging said flywheel for selectively pushing said flywheel against said impeller body. \\n \\n \\n 16. The wind-powered electric power alternator of  claim 12  further comprising an impeller mount frame provided in said impeller enclosure and wherein said impeller shaft is rotatably mounted in said impeller mount frame. \\n \\n \\n 17. A wind-actuated electric power alternator, comprising:\\n an impeller enclosure having a plurality of enclosure panels defining generally triangular cross-sectional configuration; \\n a panel opening provided in each of said plurality of enclosure panels; \\n a plurality of louvers provided in said panel opening; \\n an impeller rotatably mounted in said impeller enclosure; and \\n a alternator adapted to be coupled to said impeller when said impeller reaches a predetermined rotational speed. \\n \\n \\n \\n 18. The wind-actuated electric power alternator of  claim 17  wherein said impeller comprises an impeller shaft coupled to said alternator; a generally elongated, cylindrical impeller body carried by said impeller shaft; and a plurality of elongated impeller blades carried by said impeller body. \\n \\n \\n 19. The wind-actuated electric power alternator of  claim 18  wherein said plurality of impeller blades each has a generally curved cross-sectional configuration. \\n \\n \\n 20. The wind-actuated electric power alternator of  claim 18  further comprising a flywheel carried by said impeller shaft and a brake engaging said flywheel for selectively pushing said flywheel against said impeller body. \\n \\n'],\n",
       "      dtype=object)"
      ]
     },
     "execution_count": 42,
     "metadata": {},
     "output_type": "execute_result"
    }
   ],
   "source": [
    "grants_target_df[grants_target_df.parsed == most_similar_grant_idx]['claim'].values"
   ]
  },
  {
   "cell_type": "markdown",
   "metadata": {},
   "source": [
    "Are these similar? It's not easy to judge, but these are both physical devices?\n",
    "\n",
    "Let's continue to check model predictions"
   ]
  },
  {
   "cell_type": "markdown",
   "metadata": {},
   "source": [
    "### Model prediction for test app data"
   ]
  },
  {
   "cell_type": "markdown",
   "metadata": {},
   "source": [
    "Create the same type data of testset_app_df as we did for grant_target_df."
   ]
  },
  {
   "cell_type": "code",
   "execution_count": 43,
   "metadata": {},
   "outputs": [
    {
     "data": {
      "text/html": [
       "<div>\n",
       "<style scoped>\n",
       "    .dataframe tbody tr th:only-of-type {\n",
       "        vertical-align: middle;\n",
       "    }\n",
       "\n",
       "    .dataframe tbody tr th {\n",
       "        vertical-align: top;\n",
       "    }\n",
       "\n",
       "    .dataframe thead th {\n",
       "        text-align: right;\n",
       "    }\n",
       "</style>\n",
       "<table border=\"1\" class=\"dataframe\">\n",
       "  <thead>\n",
       "    <tr style=\"text-align: right;\">\n",
       "      <th></th>\n",
       "      <th>app_id</th>\n",
       "      <th>xml</th>\n",
       "    </tr>\n",
       "  </thead>\n",
       "  <tbody>\n",
       "    <tr>\n",
       "      <th>0</th>\n",
       "      <td>14307191</td>\n",
       "      <td>&lt;us-patent-application lang=\"EN\" dtd-version=\"...</td>\n",
       "    </tr>\n",
       "    <tr>\n",
       "      <th>1</th>\n",
       "      <td>13137006</td>\n",
       "      <td>&lt;us-patent-application lang=\"EN\" dtd-version=\"...</td>\n",
       "    </tr>\n",
       "    <tr>\n",
       "      <th>2</th>\n",
       "      <td>12741959</td>\n",
       "      <td>&lt;us-patent-application lang=\"EN\" dtd-version=\"...</td>\n",
       "    </tr>\n",
       "    <tr>\n",
       "      <th>3</th>\n",
       "      <td>12643447</td>\n",
       "      <td>&lt;us-patent-application lang=\"EN\" dtd-version=\"...</td>\n",
       "    </tr>\n",
       "    <tr>\n",
       "      <th>4</th>\n",
       "      <td>14200253</td>\n",
       "      <td>&lt;us-patent-application lang=\"EN\" dtd-version=\"...</td>\n",
       "    </tr>\n",
       "  </tbody>\n",
       "</table>\n",
       "</div>"
      ],
      "text/plain": [
       "     app_id                                                xml\n",
       "0  14307191  <us-patent-application lang=\"EN\" dtd-version=\"...\n",
       "1  13137006  <us-patent-application lang=\"EN\" dtd-version=\"...\n",
       "2  12741959  <us-patent-application lang=\"EN\" dtd-version=\"...\n",
       "3  12643447  <us-patent-application lang=\"EN\" dtd-version=\"...\n",
       "4  14200253  <us-patent-application lang=\"EN\" dtd-version=\"..."
      ]
     },
     "execution_count": 43,
     "metadata": {},
     "output_type": "execute_result"
    }
   ],
   "source": [
    "testset_app_df.head()"
   ]
  },
  {
   "cell_type": "code",
   "execution_count": 44,
   "metadata": {},
   "outputs": [],
   "source": [
    "testset_app_df['claim'] = testset_app_df[\"xml\"].map(whole_xml_to_claim)"
   ]
  },
  {
   "cell_type": "code",
   "execution_count": 45,
   "metadata": {},
   "outputs": [
    {
     "data": {
      "text/html": [
       "<div>\n",
       "<style scoped>\n",
       "    .dataframe tbody tr th:only-of-type {\n",
       "        vertical-align: middle;\n",
       "    }\n",
       "\n",
       "    .dataframe tbody tr th {\n",
       "        vertical-align: top;\n",
       "    }\n",
       "\n",
       "    .dataframe thead th {\n",
       "        text-align: right;\n",
       "    }\n",
       "</style>\n",
       "<table border=\"1\" class=\"dataframe\">\n",
       "  <thead>\n",
       "    <tr style=\"text-align: right;\">\n",
       "      <th></th>\n",
       "      <th>app_id</th>\n",
       "      <th>xml</th>\n",
       "      <th>claim</th>\n",
       "    </tr>\n",
       "  </thead>\n",
       "  <tbody>\n",
       "    <tr>\n",
       "      <th>0</th>\n",
       "      <td>14307191</td>\n",
       "      <td>&lt;us-patent-application lang=\"EN\" dtd-version=\"...</td>\n",
       "      <td>\\n \\n  1 . A method to aggregate, filter, and ...</td>\n",
       "    </tr>\n",
       "    <tr>\n",
       "      <th>1</th>\n",
       "      <td>13137006</td>\n",
       "      <td>&lt;us-patent-application lang=\"EN\" dtd-version=\"...</td>\n",
       "      <td>\\n \\n  1 . A display apparatus, comprising:\\n ...</td>\n",
       "    </tr>\n",
       "    <tr>\n",
       "      <th>2</th>\n",
       "      <td>12741959</td>\n",
       "      <td>&lt;us-patent-application lang=\"EN\" dtd-version=\"...</td>\n",
       "      <td>\\n \\n  1 - 33 . (canceled) \\n \\n \\n  34 . A co...</td>\n",
       "    </tr>\n",
       "    <tr>\n",
       "      <th>3</th>\n",
       "      <td>12643447</td>\n",
       "      <td>&lt;us-patent-application lang=\"EN\" dtd-version=\"...</td>\n",
       "      <td>\\n \\n  1 . A terminal fitting formed by bendin...</td>\n",
       "    </tr>\n",
       "    <tr>\n",
       "      <th>4</th>\n",
       "      <td>14200253</td>\n",
       "      <td>&lt;us-patent-application lang=\"EN\" dtd-version=\"...</td>\n",
       "      <td>\\n \\n  1 . A printer for printing a three-dime...</td>\n",
       "    </tr>\n",
       "  </tbody>\n",
       "</table>\n",
       "</div>"
      ],
      "text/plain": [
       "     app_id                                                xml  \\\n",
       "0  14307191  <us-patent-application lang=\"EN\" dtd-version=\"...   \n",
       "1  13137006  <us-patent-application lang=\"EN\" dtd-version=\"...   \n",
       "2  12741959  <us-patent-application lang=\"EN\" dtd-version=\"...   \n",
       "3  12643447  <us-patent-application lang=\"EN\" dtd-version=\"...   \n",
       "4  14200253  <us-patent-application lang=\"EN\" dtd-version=\"...   \n",
       "\n",
       "                                               claim  \n",
       "0  \\n \\n  1 . A method to aggregate, filter, and ...  \n",
       "1  \\n \\n  1 . A display apparatus, comprising:\\n ...  \n",
       "2  \\n \\n  1 - 33 . (canceled) \\n \\n \\n  34 . A co...  \n",
       "3  \\n \\n  1 . A terminal fitting formed by bendin...  \n",
       "4  \\n \\n  1 . A printer for printing a three-dime...  "
      ]
     },
     "execution_count": 45,
     "metadata": {},
     "output_type": "execute_result"
    }
   ],
   "source": [
    "testset_app_df.head()"
   ]
  },
  {
   "cell_type": "code",
   "execution_count": 46,
   "metadata": {},
   "outputs": [],
   "source": [
    "preprocessed_testset_app_data = testset_app_df['claim'].str\\\n",
    "    .replace(\"\\n\", \"\", regex=False).str\\\n",
    "    .replace(\"[0-9]*\\.\", \"\", regex=True).str\\\n",
    "    .replace(\"[,:;]\", \"\", regex=True).str\\\n",
    "    .replace(\"a |A |the |The \", \"\", regex=True)"
   ]
  },
  {
   "cell_type": "code",
   "execution_count": 47,
   "metadata": {},
   "outputs": [],
   "source": [
    "preprocessed_testset_app_data = testset_app_df['claim']"
   ]
  },
  {
   "cell_type": "code",
   "execution_count": 48,
   "metadata": {},
   "outputs": [],
   "source": [
    "vec = model.infer_vector( simple_preprocess(preprocessed_testset_app_data[0]) )"
   ]
  },
  {
   "cell_type": "code",
   "execution_count": 49,
   "metadata": {},
   "outputs": [
    {
     "data": {
      "text/plain": [
       "array([ 2.6444149e+00, -3.6477394e+00, -3.7531040e+00, -2.5432411e-01,\n",
       "       -1.8252881e+00,  5.6969414e+00, -4.0051522e+00,  2.0534508e+00,\n",
       "       -9.0166771e-01, -2.3761058e+00,  4.5725179e+00,  3.4028869e+00,\n",
       "       -9.2733127e-01, -3.1435108e-01,  2.5389445e+00, -2.1533847e-01,\n",
       "        1.9849111e+00, -3.9761400e-01,  2.5782940e+00,  1.0789891e+00,\n",
       "       -1.3914300e+00,  3.1551330e+00, -3.2262039e+00,  1.2582591e+00,\n",
       "        1.0275270e+00,  2.4785342e+00,  1.6779217e+00, -1.1197709e+00,\n",
       "        5.8774769e-01,  1.5935812e+00,  6.8448937e-01, -8.2386208e-01,\n",
       "       -1.1830628e+00, -4.4023366e+00, -1.7895831e+00, -3.5797238e+00,\n",
       "       -3.7738645e-01, -2.0456574e+00,  2.2015042e+00,  5.9964943e+00,\n",
       "       -1.4091744e-01, -3.3812180e+00, -1.4377692e+00, -2.5217264e+00,\n",
       "       -4.6142802e+00,  2.5616918e+00,  3.7756991e-02,  3.5073392e+00,\n",
       "       -1.0132335e+00,  1.2888126e-01, -1.2981948e+00,  1.3106352e+00,\n",
       "       -9.3405135e-03, -3.4578588e+00,  1.3138810e+00, -1.6047982e+00,\n",
       "       -4.2748408e+00,  1.7598715e+00, -1.5686430e+00,  1.6401646e+00,\n",
       "        9.4291967e-01, -2.3577037e+00,  3.3985791e+00,  2.5809174e-02,\n",
       "        6.3033742e-01,  3.6278896e+00, -3.3269376e-02, -4.5760328e-01,\n",
       "        2.4615130e+00, -3.3021619e+00, -2.0109129e+00,  2.6674788e+00,\n",
       "       -1.7351744e+00, -2.5572209e+00,  1.7628601e+00, -2.0396254e+00,\n",
       "        1.8143948e+00, -6.5066501e-02, -6.0637391e-01,  3.2799852e+00,\n",
       "       -6.9275379e-01, -2.8292832e+00,  2.5360100e-02,  5.4571193e-01,\n",
       "       -2.0051968e-01, -3.5136154e+00,  4.8654130e-01, -1.9910887e+00,\n",
       "       -3.4698477e+00,  1.5033262e+00, -1.1001139e+00,  1.1675121e+00,\n",
       "        4.7921057e+00,  4.8288236e+00,  6.6561210e-01,  4.3643707e-01,\n",
       "        1.7577136e+00,  8.5122985e-01,  1.6345286e+00, -3.3806473e-01,\n",
       "        4.0640860e+00,  1.8409357e+00,  6.6249579e-01, -1.1632599e+00,\n",
       "       -3.7052407e+00,  2.1966985e-01, -3.1870011e-02, -3.5734704e-01,\n",
       "       -2.4597132e+00, -1.4202509e+00,  1.7058340e+00, -2.8486009e+00,\n",
       "        1.1456404e+00, -1.1889075e+00, -2.4665122e+00, -2.7259421e+00,\n",
       "       -3.0550013e+00,  3.2297912e+00,  9.4203556e-01,  1.6795472e+00,\n",
       "       -2.2493303e+00,  1.2405809e+00,  1.4677310e+00,  2.9717751e+00,\n",
       "       -4.9116898e+00, -1.2101698e+00, -4.1718369e+00, -9.7258799e-02,\n",
       "       -1.0643806e+00, -1.0482274e+00,  1.5301740e+00,  2.2573240e+00,\n",
       "       -4.6445150e+00, -4.0116191e+00, -7.6919800e-01, -1.3861120e+00,\n",
       "        2.9285319e+00, -2.4556608e+00, -1.5912095e+00, -2.4221329e-01,\n",
       "        3.1516283e+00, -1.8694161e+00,  5.9489191e-01,  5.2548236e-01,\n",
       "        1.0847335e+00, -1.3922932e+00,  2.1310661e+00,  2.5543780e+00,\n",
       "        1.7267329e+00, -2.6090086e+00,  1.6468091e+00, -3.7787616e+00,\n",
       "        4.7018800e+00,  2.3258960e+00,  1.4885204e+00, -2.8644686e+00,\n",
       "        1.8483659e+00, -1.7595320e+00, -1.4155496e+00, -3.8170149e+00,\n",
       "       -3.8277283e+00, -3.3559351e+00, -1.7901845e+00, -1.4422281e+00,\n",
       "        9.3101490e-01, -1.2240902e-01, -3.1204758e+00, -1.9353670e+00,\n",
       "       -1.3428740e-01,  1.4225397e+00, -1.6259601e+00, -3.6689482e+00,\n",
       "        2.1837435e+00,  2.6927669e+00, -1.3459944e+00, -6.2357970e-02,\n",
       "       -3.6124549e+00, -4.3530278e+00, -4.9584246e+00,  2.3707819e+00,\n",
       "       -4.7722836e+00, -1.6520994e+00, -2.6377757e+00,  2.5247061e-04,\n",
       "       -3.5145526e+00,  2.3190377e+00,  1.4786623e+00, -3.0257242e+00,\n",
       "        4.5535755e+00,  1.1481293e+00,  2.8513023e-01, -2.4871829e+00,\n",
       "        3.8361499e+00,  2.1988456e-03, -5.6142631e+00, -8.7958682e-01,\n",
       "        2.2592671e+00, -3.1514505e-01, -4.5033307e+00, -2.6041183e+00,\n",
       "       -1.6593935e+00,  1.7649963e+00, -1.6884344e+00, -3.6213343e+00,\n",
       "        7.9309142e-01, -6.2108271e-02, -2.4349840e+00,  5.7829821e-01,\n",
       "       -5.2610087e-01,  3.9344099e+00,  1.5576518e-01,  6.4696592e-01,\n",
       "        1.9440556e-01, -7.6034552e-01,  9.4758570e-01, -1.3290410e+00,\n",
       "        2.1519439e+00,  6.1024771e+00,  1.7731987e+00,  3.8774986e+00,\n",
       "       -2.7741057e-01, -5.8070979e+00,  3.1681547e+00, -3.1786260e-01,\n",
       "        1.3364540e+00,  8.9363754e-01,  3.7209803e-01,  4.2581028e-01,\n",
       "        2.6731546e+00, -7.3336786e-01, -2.9425530e+00,  4.7597861e+00,\n",
       "        4.6393404e+00, -2.6341493e+00, -1.3259376e+00, -2.7359480e-01,\n",
       "       -1.7157582e+00, -3.1444938e+00, -4.8115916e+00, -3.1153069e+00,\n",
       "       -2.0320330e+00,  4.1044598e+00,  1.3394356e+00, -2.2831101e+00,\n",
       "       -3.7276945e+00, -5.1604617e-01, -2.6072173e+00,  1.3251088e+00,\n",
       "       -2.4262145e+00, -9.4486214e-02, -9.8931894e-02, -1.4900460e+00,\n",
       "        2.4251914e+00, -7.0854199e-01,  2.5613630e+00,  7.5273144e-01,\n",
       "       -1.5753753e+00,  2.3973165e+00,  2.5927215e+00,  2.3936150e+00,\n",
       "        6.2596184e-01,  2.3533568e+00,  6.0690508e+00, -2.4689207e+00,\n",
       "       -3.4627087e+00, -1.2930696e+00, -4.4874978e+00, -2.0102906e+00,\n",
       "       -1.7377081e+00, -3.7204428e+00, -2.6589162e+00, -7.7924788e-01,\n",
       "        1.6215345e+00, -6.8794447e-01,  3.6296496e-01, -2.4004176e+00,\n",
       "        1.2256482e+00,  9.7766340e-01, -1.8215964e+00,  8.2827145e-01,\n",
       "       -9.8611963e-01,  1.2629356e+00, -9.7479902e-02, -1.9073997e+00,\n",
       "       -7.0477051e-01,  9.4602093e-02,  1.4408424e-01,  5.9071571e-01,\n",
       "       -4.6236258e+00, -3.4667623e-01,  2.5905578e+00, -2.0356526e+00,\n",
       "        2.6793485e+00, -9.7124356e-01,  2.1417072e+00, -7.0663857e-01,\n",
       "       -5.9961498e-01,  5.2032037e+00, -3.6483219e+00,  5.7189546e+00,\n",
       "        3.9287238e+00,  7.8731877e-01,  1.6187847e+00, -2.0738015e+00,\n",
       "       -3.3785456e-01, -1.3857881e+00, -2.8693175e-01,  1.4041373e+00,\n",
       "       -3.8991821e+00, -7.6887667e-01,  8.5904509e-01, -2.2622710e-01,\n",
       "        1.2189825e+00,  9.7203618e-01, -2.0909064e+00,  4.5228457e+00,\n",
       "        7.6869721e+00, -3.8952446e+00,  1.7398336e+00, -2.6289692e+00,\n",
       "        2.5791571e+00,  3.2917364e+00, -1.2447897e+00, -5.9784961e-01,\n",
       "        9.8594636e-01,  7.2655147e-01, -5.8895111e-01, -7.8295869e-01,\n",
       "       -1.3955287e+00, -8.7041712e-01,  4.0486261e-01, -1.6457698e+00,\n",
       "       -3.1156335e+00, -8.8449740e-01,  6.4485610e-01, -3.7408224e-01,\n",
       "       -9.4967115e-01, -4.1754675e+00, -9.7055697e-01, -9.4460569e-02,\n",
       "       -5.3952867e-01,  2.1384366e+00,  2.0308263e+00,  2.3331575e+00,\n",
       "        1.3200490e+00, -5.1413845e-02,  3.5916800e+00, -2.5623875e+00,\n",
       "       -1.1294559e-01, -8.2274437e-01], dtype=float32)"
      ]
     },
     "execution_count": 49,
     "metadata": {},
     "output_type": "execute_result"
    }
   ],
   "source": [
    "vec"
   ]
  },
  {
   "cell_type": "code",
   "execution_count": 50,
   "metadata": {},
   "outputs": [
    {
     "data": {
      "text/plain": [
       "[('7057392', 0.25322583317756653),\n",
       " ('8104041', 0.24960508942604065),\n",
       " ('8214829', 0.2410489022731781),\n",
       " ('7250464', 0.2402666211128235),\n",
       " ('7898807', 0.2377089560031891),\n",
       " ('6852787', 0.23684214055538177),\n",
       " ('6914242', 0.23216034471988678),\n",
       " ('7252786', 0.2257317304611206),\n",
       " ('7453937', 0.22069600224494934),\n",
       " ('7620127', 0.21937915682792664)]"
      ]
     },
     "execution_count": 50,
     "metadata": {},
     "output_type": "execute_result"
    }
   ],
   "source": [
    "model.docvecs.most_similar([vec])"
   ]
  },
  {
   "cell_type": "code",
   "execution_count": 51,
   "metadata": {},
   "outputs": [
    {
     "data": {
      "text/plain": [
       "[7057392]"
      ]
     },
     "execution_count": 51,
     "metadata": {},
     "output_type": "execute_result"
    }
   ],
   "source": [
    "[int(grantid) for grantid,similarity in model.docvecs.most_similar([vec], topn=1)]"
   ]
  },
  {
   "cell_type": "code",
   "execution_count": 52,
   "metadata": {},
   "outputs": [],
   "source": [
    "def predict_test_set():\n",
    "    predictdf = pd.DataFrame(columns=grants_target_df.parsed.values, dtype=np.bool)\n",
    "    for idx, appid in enumerate(testset_app_df.app_id):\n",
    "        text = preprocessed_testset_app_data[idx]\n",
    "        vec = model.infer_vector(simple_preprocess(text))\n",
    "        \n",
    "        similar_grant_indexes = [int(grantid) \n",
    "                                 for grantid, similarity \n",
    "                                 in model.docvecs.most_similar([vec], topn=1)]\n",
    "\n",
    "        predictdf.loc[appid] = False\n",
    "        for similar_grant_index in similar_grant_indexes:\n",
    "            predictdf.loc[appid, similar_grant_index] = True\n",
    "        if idx%100 == 0:\n",
    "            print(idx)\n",
    "    \n",
    "    return predictdf"
   ]
  },
  {
   "cell_type": "code",
   "execution_count": 53,
   "metadata": {},
   "outputs": [
    {
     "name": "stdout",
     "output_type": "stream",
     "text": [
      "0\n",
      "100\n",
      "200\n",
      "300\n",
      "400\n",
      "500\n",
      "600\n",
      "700\n",
      "800\n",
      "900\n",
      "CPU times: user 4min 20s, sys: 4min 17s, total: 8min 38s\n",
      "Wall time: 2min 51s\n"
     ]
    }
   ],
   "source": [
    "%%time\n",
    "\n",
    "pred_df = predict_test_set()"
   ]
  },
  {
   "cell_type": "code",
   "execution_count": 54,
   "metadata": {},
   "outputs": [
    {
     "data": {
      "text/html": [
       "<div>\n",
       "<style scoped>\n",
       "    .dataframe tbody tr th:only-of-type {\n",
       "        vertical-align: middle;\n",
       "    }\n",
       "\n",
       "    .dataframe tbody tr th {\n",
       "        vertical-align: top;\n",
       "    }\n",
       "\n",
       "    .dataframe thead th {\n",
       "        text-align: right;\n",
       "    }\n",
       "</style>\n",
       "<table border=\"1\" class=\"dataframe\">\n",
       "  <thead>\n",
       "    <tr style=\"text-align: right;\">\n",
       "      <th></th>\n",
       "      <th>acc</th>\n",
       "      <th>prec</th>\n",
       "      <th>recall</th>\n",
       "      <th>f1</th>\n",
       "    </tr>\n",
       "  </thead>\n",
       "  <tbody>\n",
       "    <tr>\n",
       "      <th>0</th>\n",
       "      <td>0.999247</td>\n",
       "      <td>0.175</td>\n",
       "      <td>0.139888</td>\n",
       "      <td>0.155486</td>\n",
       "    </tr>\n",
       "  </tbody>\n",
       "</table>\n",
       "</div>"
      ],
      "text/plain": [
       "        acc   prec    recall        f1\n",
       "0  0.999247  0.175  0.139888  0.155486"
      ]
     },
     "execution_count": 54,
     "metadata": {},
     "output_type": "execute_result"
    }
   ],
   "source": [
    "calc_summary(pred_df, label_df)"
   ]
  },
  {
   "cell_type": "code",
   "execution_count": null,
   "metadata": {},
   "outputs": [],
   "source": []
  },
  {
   "cell_type": "code",
   "execution_count": null,
   "metadata": {},
   "outputs": [],
   "source": []
  },
  {
   "cell_type": "markdown",
   "metadata": {},
   "source": [
    "### Evaluation like `tripletloss_loss_model_with_circulum_learning`."
   ]
  },
  {
   "cell_type": "code",
   "execution_count": 71,
   "metadata": {},
   "outputs": [],
   "source": [
    "def sort_similarity_by_value(sim_dict, app_id):\n",
    "    '''\n",
    "    input:\n",
    "        sim_dict: similary dictionary\n",
    "        app_id: target application id\n",
    "    return:\n",
    "        [(parsed1, sim1), (parsed2, sim2), ...] sorted by similarities\n",
    "    '''\n",
    "    return [(parsed, sim_dict[app_id][parsed]) for parsed in sorted(sim_dict[app_id], key=sim_dict[app_id].get)]"
   ]
  },
  {
   "cell_type": "code",
   "execution_count": 72,
   "metadata": {},
   "outputs": [],
   "source": [
    "def get_cited_grants(citations_info_target, app_id):\n",
    "    '''\n",
    "    input:\n",
    "        citations_info_target: DataFrame of citation relationships\n",
    "        app_id: target application id\n",
    "    return:\n",
    "        {parsed1, parsed2, ...} that are cited to reject app_id\n",
    "    '''\n",
    "    return set(citations_info_target[citations_info_target['app_id'] == app_id]['parsed'])"
   ]
  },
  {
   "cell_type": "code",
   "execution_count": 58,
   "metadata": {},
   "outputs": [
    {
     "data": {
      "text/html": [
       "<div>\n",
       "<style scoped>\n",
       "    .dataframe tbody tr th:only-of-type {\n",
       "        vertical-align: middle;\n",
       "    }\n",
       "\n",
       "    .dataframe tbody tr th {\n",
       "        vertical-align: top;\n",
       "    }\n",
       "\n",
       "    .dataframe thead th {\n",
       "        text-align: right;\n",
       "    }\n",
       "</style>\n",
       "<table border=\"1\" class=\"dataframe\">\n",
       "  <thead>\n",
       "    <tr style=\"text-align: right;\">\n",
       "      <th></th>\n",
       "      <th>app_id</th>\n",
       "      <th>xml</th>\n",
       "      <th>claim</th>\n",
       "    </tr>\n",
       "  </thead>\n",
       "  <tbody>\n",
       "    <tr>\n",
       "      <th>0</th>\n",
       "      <td>14307191</td>\n",
       "      <td>&lt;us-patent-application lang=\"EN\" dtd-version=\"...</td>\n",
       "      <td>\\n \\n  1 . A method to aggregate, filter, and ...</td>\n",
       "    </tr>\n",
       "    <tr>\n",
       "      <th>1</th>\n",
       "      <td>13137006</td>\n",
       "      <td>&lt;us-patent-application lang=\"EN\" dtd-version=\"...</td>\n",
       "      <td>\\n \\n  1 . A display apparatus, comprising:\\n ...</td>\n",
       "    </tr>\n",
       "  </tbody>\n",
       "</table>\n",
       "</div>"
      ],
      "text/plain": [
       "     app_id                                                xml  \\\n",
       "0  14307191  <us-patent-application lang=\"EN\" dtd-version=\"...   \n",
       "1  13137006  <us-patent-application lang=\"EN\" dtd-version=\"...   \n",
       "\n",
       "                                               claim  \n",
       "0  \\n \\n  1 . A method to aggregate, filter, and ...  \n",
       "1  \\n \\n  1 . A display apparatus, comprising:\\n ...  "
      ]
     },
     "execution_count": 58,
     "metadata": {},
     "output_type": "execute_result"
    }
   ],
   "source": [
    "testset_app_df.head(2)"
   ]
  },
  {
   "cell_type": "code",
   "execution_count": 78,
   "metadata": {},
   "outputs": [],
   "source": [
    "# simple_preprocess(preprocessed_testset_app_data[0])"
   ]
  },
  {
   "cell_type": "code",
   "execution_count": 79,
   "metadata": {},
   "outputs": [],
   "source": [
    "test_extracted_features_df = pd.DataFrame({ \n",
    "    'app_id':testset_app_df['app_id'], \n",
    "    'extracted_feature':[ model.infer_vector(simple_preprocess(v))/np.linalg.norm(model.infer_vector(simple_preprocess(v))) for v in preprocessed_testset_app_data ]\n",
    "})"
   ]
  },
  {
   "cell_type": "code",
   "execution_count": 80,
   "metadata": {},
   "outputs": [
    {
     "data": {
      "text/html": [
       "<div>\n",
       "<style scoped>\n",
       "    .dataframe tbody tr th:only-of-type {\n",
       "        vertical-align: middle;\n",
       "    }\n",
       "\n",
       "    .dataframe tbody tr th {\n",
       "        vertical-align: top;\n",
       "    }\n",
       "\n",
       "    .dataframe thead th {\n",
       "        text-align: right;\n",
       "    }\n",
       "</style>\n",
       "<table border=\"1\" class=\"dataframe\">\n",
       "  <thead>\n",
       "    <tr style=\"text-align: right;\">\n",
       "      <th></th>\n",
       "      <th>app_id</th>\n",
       "      <th>extracted_feature</th>\n",
       "    </tr>\n",
       "  </thead>\n",
       "  <tbody>\n",
       "    <tr>\n",
       "      <th>0</th>\n",
       "      <td>14307191</td>\n",
       "      <td>[0.060070653, -0.07921251, -0.07815885, -0.000...</td>\n",
       "    </tr>\n",
       "    <tr>\n",
       "      <th>1</th>\n",
       "      <td>13137006</td>\n",
       "      <td>[-0.030348752, -0.02185373, -0.020556105, 0.02...</td>\n",
       "    </tr>\n",
       "  </tbody>\n",
       "</table>\n",
       "</div>"
      ],
      "text/plain": [
       "     app_id                                  extracted_feature\n",
       "0  14307191  [0.060070653, -0.07921251, -0.07815885, -0.000...\n",
       "1  13137006  [-0.030348752, -0.02185373, -0.020556105, 0.02..."
      ]
     },
     "execution_count": 80,
     "metadata": {},
     "output_type": "execute_result"
    }
   ],
   "source": [
    "test_extracted_features_df.head(2)"
   ]
  },
  {
   "cell_type": "code",
   "execution_count": 81,
   "metadata": {},
   "outputs": [],
   "source": [
    "grants_extracted_features_df = pd.DataFrame({ \n",
    "    'parsed':grants_target_df['parsed'], \n",
    "    'extracted_feature':[ model.infer_vector(simple_preprocess(v))/np.linalg.norm(model.infer_vector(simple_preprocess(v))) for v in preprocessed_grant_data ]\n",
    "})"
   ]
  },
  {
   "cell_type": "code",
   "execution_count": 82,
   "metadata": {},
   "outputs": [
    {
     "name": "stdout",
     "output_type": "stream",
     "text": [
      "CPU times: user 13.9 s, sys: 0 ns, total: 13.9 s\n",
      "Wall time: 13.9 s\n"
     ]
    }
   ],
   "source": [
    "%%time\n",
    "\n",
    "sim_dict = {\n",
    "    app_id:{ parsed:np.sum(test_f*grants_f)\n",
    "            for parsed, grants_f \n",
    "            in zip(grants_extracted_features_df['parsed'], grants_extracted_features_df['extracted_feature']) } \n",
    "    for app_id, test_f \n",
    "    in zip(test_extracted_features_df['app_id'], test_extracted_features_df['extracted_feature'])\n",
    "}"
   ]
  },
  {
   "cell_type": "code",
   "execution_count": 83,
   "metadata": {},
   "outputs": [
    {
     "name": "stdout",
     "output_type": "stream",
     "text": [
      "CPU times: user 3.53 s, sys: 0 ns, total: 3.53 s\n",
      "Wall time: 3.43 s\n"
     ]
    }
   ],
   "source": [
    "%%time\n",
    "\n",
    "all_ranks = []\n",
    "\n",
    "for app_id in test_extracted_features_df['app_id']:\n",
    "    cited_grants = get_cited_grants(citations_info_target, app_id)\n",
    "    sorted_kv = reversed(sort_similarity_by_value(sim_dict, app_id))  # higher score, similar patent\n",
    "\n",
    "    idx = 1\n",
    "    for k,v in sorted_kv:\n",
    "        if k in cited_grants:\n",
    "            all_ranks.append(idx)\n",
    "        idx += 1"
   ]
  },
  {
   "cell_type": "code",
   "execution_count": 84,
   "metadata": {},
   "outputs": [
    {
     "name": "stdout",
     "output_type": "stream",
     "text": [
      "Counter({1: 198, 2: 76, 3: 54, 5: 41, 7: 35, 4: 27, 6: 27, 9: 21, 8: 18, 12: 18, 13: 18, 10: 15, 11: 13, 14: 11, 21: 11, 16: 10, 20: 10, 15: 9, 18: 9, 56: 9, 17: 8, 25: 8, 34: 8, 19: 7, 24: 7, 26: 7, 32: 7, 68: 7, 23: 6, 29: 6, 35: 6, 40: 6, 46: 6, 53: 6, 77: 6, 37: 5, 43: 5, 50: 5, 52: 5, 57: 5, 172: 5, 22: 4, 27: 4, 28: 4, 33: 4, 44: 4, 45: 4, 60: 4, 62: 4, 73: 4, 80: 4, 92: 4, 93: 4, 103: 4, 129: 4, 145: 4, 154: 4, 85: 4, 30: 3, 31: 3, 38: 3, 41: 3, 42: 3, 47: 3, 51: 3, 54: 3, 55: 3, 64: 3, 65: 3, 71: 3, 79: 3, 81: 3, 82: 3, 90: 3, 101: 3, 107: 3, 120: 3, 131: 3, 135: 3, 149: 3, 302: 3, 350: 3, 388: 3, 36: 2, 39: 2, 49: 2, 58: 2, 61: 2, 63: 2, 66: 2, 67: 2, 70: 2, 75: 2, 76: 2, 78: 2, 83: 2, 86: 2, 88: 2, 91: 2, 98: 2, 99: 2, 108: 2, 109: 2, 111: 2, 112: 2, 117: 2, 128: 2, 132: 2, 133: 2, 137: 2, 142: 2, 150: 2, 153: 2, 156: 2, 159: 2, 162: 2, 163: 2, 166: 2, 173: 2, 189: 2, 194: 2, 196: 2, 198: 2, 211: 2, 213: 2, 233: 2, 238: 2, 248: 2, 278: 2, 288: 2, 291: 2, 296: 2, 332: 2, 339: 2, 358: 2, 359: 2, 383: 2, 387: 2, 409: 2, 413: 2, 441: 2, 459: 2, 524: 2, 262: 2, 563: 2, 616: 2, 704: 2, 764: 2, 842: 2, 889: 2, 930: 2, 48: 1, 59: 1, 69: 1, 72: 1, 1098: 1, 84: 1, 1038: 1, 87: 1, 89: 1, 94: 1, 97: 1, 104: 1, 105: 1, 106: 1, 110: 1, 113: 1, 114: 1, 115: 1, 116: 1, 121: 1, 122: 1, 1148: 1, 126: 1, 134: 1, 138: 1, 139: 1, 141: 1, 146: 1, 1171: 1, 152: 1, 157: 1, 161: 1, 167: 1, 169: 1, 171: 1, 2222: 1, 175: 1, 176: 1, 179: 1, 180: 1, 182: 1, 183: 1, 184: 1, 187: 1, 1029: 1, 191: 1, 193: 1, 195: 1, 197: 1, 199: 1, 200: 1, 203: 1, 205: 1, 207: 1, 212: 1, 1239: 1, 216: 1, 217: 1, 225: 1, 229: 1, 232: 1, 240: 1, 241: 1, 245: 1, 1065: 1, 1274: 1, 251: 1, 252: 1, 254: 1, 256: 1, 259: 1, 1286: 1, 263: 1, 264: 1, 265: 1, 267: 1, 268: 1, 270: 1, 1069: 1, 273: 1, 274: 1, 275: 1, 276: 1, 277: 1, 279: 1, 280: 1, 282: 1, 290: 1, 1318: 1, 297: 1, 305: 1, 307: 1, 309: 1, 1343: 1, 321: 1, 322: 1, 323: 1, 324: 1, 325: 1, 2091: 1, 1362: 1, 340: 1, 342: 1, 343: 1, 351: 1, 353: 1, 369: 1, 1397: 1, 375: 1, 1087: 1, 381: 1, 1406: 1, 384: 1, 385: 1, 386: 1, 389: 1, 1090: 1, 398: 1, 2448: 1, 402: 1, 405: 1, 406: 1, 1431: 1, 410: 1, 415: 1, 1443: 1, 421: 1, 424: 1, 425: 1, 427: 1, 435: 1, 438: 1, 444: 1, 445: 1, 462: 1, 463: 1, 1490: 1, 468: 1, 474: 1, 476: 1, 1326: 1, 1506: 1, 499: 1, 501: 1, 1067: 1, 1533: 1, 514: 1, 1547: 1, 525: 1, 527: 1, 562: 1, 565: 1, 568: 1, 573: 1, 575: 1, 577: 1, 1609: 1, 1610: 1, 594: 1, 604: 1, 606: 1, 613: 1, 623: 1, 624: 1, 1657: 1, 634: 1, 641: 1, 1668: 1, 648: 1, 651: 1, 661: 1, 667: 1, 674: 1, 678: 1, 687: 1, 1080: 1, 698: 1, 700: 1, 1729: 1, 713: 1, 739: 1, 743: 1, 753: 1, 789: 1, 792: 1, 1220: 1, 820: 1, 827: 1, 833: 1, 1864: 1, 863: 1, 873: 1, 147: 1, 887: 1, 891: 1, 1173: 1, 897: 1, 74: 1, 1929: 1, 1053: 1, 915: 1, 923: 1, 925: 1, 941: 1, 949: 1, 1988: 1, 973: 1, 975: 1, 988: 1, 2036: 1, 1364: 1})\n"
     ]
    }
   ],
   "source": [
    "import collections\n",
    "counter = collections.Counter(all_ranks)\n",
    "print(counter)"
   ]
  },
  {
   "cell_type": "code",
   "execution_count": null,
   "metadata": {},
   "outputs": [],
   "source": []
  }
 ],
 "metadata": {
  "kernelspec": {
   "display_name": "Python 3",
   "language": "python",
   "name": "python3"
  },
  "language_info": {
   "codemirror_mode": {
    "name": "ipython",
    "version": 3
   },
   "file_extension": ".py",
   "mimetype": "text/x-python",
   "name": "python",
   "nbconvert_exporter": "python",
   "pygments_lexer": "ipython3",
   "version": "3.5.2"
  }
 },
 "nbformat": 4,
 "nbformat_minor": 2
}
