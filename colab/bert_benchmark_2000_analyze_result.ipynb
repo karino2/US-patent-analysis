{
  "nbformat": 4,
  "nbformat_minor": 0,
  "metadata": {
    "colab": {
      "name": "bert-benchmark-2000-analyze-result.ipynb",
      "version": "0.3.2",
      "provenance": [],
      "collapsed_sections": [],
      "toc_visible": true,
      "include_colab_link": true
    },
    "kernelspec": {
      "name": "python3",
      "display_name": "Python 3"
    },
    "accelerator": "TPU"
  },
  "cells": [
    {
      "cell_type": "markdown",
      "metadata": {
        "id": "view-in-github",
        "colab_type": "text"
      },
      "source": [
        "<a href=\"https://colab.research.google.com/github/karino2/US-patent-analysis/blob/bert_input/colab/bert_benchmark_2000_analyze_result.ipynb\" target=\"_parent\"><img src=\"https://colab.research.google.com/assets/colab-badge.svg\" alt=\"Open In Colab\"/></a>"
      ]
    },
    {
      "metadata": {
        "id": "rQph610BeO4I",
        "colab_type": "text"
      },
      "cell_type": "markdown",
      "source": [
        "**BERT on 2000-2000 prediction benchmark trial**\n",
        "\n",
        "To compare bert with other model, evaluate on our benchmark setting.\n",
        "\n",
        "Basic code is from here: \n",
        "https://github.com/karino2/US-patent-analysis/blob/master/notebook/tfidf_nearest.ipynb\n",
        "\n",
        "Computing whole 1000x2525 pair of patent seems too time consuming that I create separate notebook for predict only.\n",
        "https://github.com/karino2/US-patent-analysis/blob/bert_input/colab/bert_benchmark_2000_save_result.ipynb\n",
        "\n",
        "This notebook only analyze the result."
      ]
    },
    {
      "metadata": {
        "id": "3Cv0EJiZ8vi6",
        "colab_type": "code",
        "colab": {}
      },
      "cell_type": "code",
      "source": [
        "import os\n",
        "import datetime\n",
        "import pickle\n",
        "import gzip\n",
        "import pandas as pd\n",
        "import numpy as np\n",
        "import matplotlib.pyplot as plt"
      ],
      "execution_count": 0,
      "outputs": []
    },
    {
      "metadata": {
        "id": "XG9_uLXKMf2t",
        "colab_type": "code",
        "colab": {}
      },
      "cell_type": "code",
      "source": [
        "!mkdir -p ./bert/data"
      ],
      "execution_count": 0,
      "outputs": []
    },
    {
      "metadata": {
        "id": "j-n-oE9aNPs6",
        "colab_type": "code",
        "colab": {}
      },
      "cell_type": "code",
      "source": [
        "from google.colab import auth\n",
        "auth.authenticate_user()"
      ],
      "execution_count": 0,
      "outputs": []
    },
    {
      "metadata": {
        "id": "QHEzELKZemxw",
        "colab_type": "code",
        "colab": {
          "base_uri": "https://localhost:8080/",
          "height": 230
        },
        "outputId": "b2c27b64-7791-4e57-a656-5c0f8558147b"
      },
      "cell_type": "code",
      "source": [
        "!gsutil cp gs://karino2-uspatent/citations_info_2000.df.gz ./bert/data/\n",
        "!gsutil cp gs://karino2-uspatent/testset_app_1000.df.gz ./bert/data/\n",
        "!gsutil cp gs://karino2-uspatent/training_app_1000.df.gz ./bert/data/\n",
        "!gsutil cp gs://karino2-uspatent/grants_for_2000.df.gz ./bert/data/"
      ],
      "execution_count": 6,
      "outputs": [
        {
          "output_type": "stream",
          "text": [
            "Copying gs://karino2-uspatent/citations_info_2000.df.gz...\n",
            "/ [0 files][    0.0 B/234.3 KiB]                                                \r/ [1 files][234.3 KiB/234.3 KiB]                                                \r\n",
            "Operation completed over 1 objects/234.3 KiB.                                    \n",
            "Copying gs://karino2-uspatent/testset_app_1000.df.gz...\n",
            "/ [1 files][ 13.4 MiB/ 13.4 MiB]                                                \n",
            "Operation completed over 1 objects/13.4 MiB.                                     \n",
            "Copying gs://karino2-uspatent/training_app_1000.df.gz...\n",
            "/ [1 files][ 14.2 MiB/ 14.2 MiB]                                                \n",
            "Operation completed over 1 objects/14.2 MiB.                                     \n",
            "Copying gs://karino2-uspatent/grants_for_2000.df.gz...\n",
            "- [1 files][ 44.6 MiB/ 44.6 MiB]                                                \n",
            "Operation completed over 1 objects/44.6 MiB.                                     \n"
          ],
          "name": "stdout"
        }
      ]
    },
    {
      "metadata": {
        "id": "FxUSX-wgfm0s",
        "colab_type": "code",
        "colab": {}
      },
      "cell_type": "code",
      "source": [
        "citations_info_target = pd.read_pickle(\"./bert/data/citations_info_2000.df.gz\")\n",
        "# training_app_df = pd.read_pickle(\"./bert/data/training_app_1000.df.gz\")\n",
        "testset_app_df = pd.read_pickle(\"./bert/data/testset_app_1000.df.gz\")\n",
        "grants_target_df = pd.read_pickle(\"./bert/data/grants_for_2000.df.gz\")"
      ],
      "execution_count": 0,
      "outputs": []
    },
    {
      "metadata": {
        "id": "yJ0UrNYOGSPn",
        "colab_type": "code",
        "colab": {}
      },
      "cell_type": "code",
      "source": [
        ""
      ],
      "execution_count": 0,
      "outputs": []
    },
    {
      "metadata": {
        "id": "Wgiqq3NJOmaO",
        "colab_type": "text"
      },
      "cell_type": "markdown",
      "source": [
        "# Evaluation of one block\n",
        "\n",
        "Result is stored on 20x2524 block each.\n",
        "First, write evaluation code for 1 block, then integrate.\n"
      ]
    },
    {
      "metadata": {
        "id": "PAXj_Ky1GTXx",
        "colab_type": "code",
        "outputId": "bbe45261-4aa8-45b8-efec-b23e383ad75e",
        "colab": {
          "base_uri": "https://localhost:8080/",
          "height": 35
        }
      },
      "cell_type": "code",
      "source": [
        "WHOLE_APP_NUM=1000\n",
        "WHOLE_GRANTS_NUM = grants_target_df.shape[0]\n",
        "\n",
        "WHOLE_PAIR_NUM = WHOLE_APP_NUM*WHOLE_GRANTS_NUM\n",
        "WHOLE_PAIR_NUM, WHOLE_GRANTS_NUM"
      ],
      "execution_count": 8,
      "outputs": [
        {
          "output_type": "execute_result",
          "data": {
            "text/plain": [
              "(2524000, 2524)"
            ]
          },
          "metadata": {
            "tags": []
          },
          "execution_count": 8
        }
      ]
    },
    {
      "metadata": {
        "id": "WHJM3r0OGmVf",
        "colab_type": "code",
        "outputId": "2d4e33f2-63fe-4bb4-f341-50a0637e3231",
        "colab": {
          "base_uri": "https://localhost:8080/",
          "height": 35
        }
      },
      "cell_type": "code",
      "source": [
        "BLOCK_SIZE = 20*WHOLE_GRANTS_NUM\n",
        "TOTAL_BLOCK_NUM = WHOLE_PAIR_NUM//BLOCK_SIZE\n",
        "APPS_PER_BLOCK = WHOLE_APP_NUM//TOTAL_BLOCK_NUM\n",
        "\n",
        "BLOCK_SIZE, TOTAL_BLOCK_NUM, APPS_PER_BLOCK"
      ],
      "execution_count": 9,
      "outputs": [
        {
          "output_type": "execute_result",
          "data": {
            "text/plain": [
              "(50480, 50, 20)"
            ]
          },
          "metadata": {
            "tags": []
          },
          "execution_count": 9
        }
      ]
    },
    {
      "metadata": {
        "id": "WpzodBxKIubK",
        "colab_type": "code",
        "colab": {}
      },
      "cell_type": "code",
      "source": [
        ""
      ],
      "execution_count": 0,
      "outputs": []
    },
    {
      "metadata": {
        "id": "c9dC1GPQHPsi",
        "colab_type": "code",
        "colab": {}
      },
      "cell_type": "code",
      "source": [
        "def cited_ranking(app_ridx, block_id, result_block):\n",
        "  app_idx = app_ridx + APPS_PER_BLOCK*block_id\n",
        "  \n",
        "  assert app_ridx < APPS_PER_BLOCK and app_ridx >= 0\n",
        "  \n",
        "  # print(\"idx:{}, ridx:{}\".format(app_idx, app_ridx))\n",
        "\n",
        "  result_for_one_app = result_block[app_ridx*WHOLE_GRANTS_NUM: (app_ridx+1)*WHOLE_GRANTS_NUM]\n",
        "  result_for_one_app_true = [tup[1] for tup in result_for_one_app]\n",
        "  one_app_id = testset_app_df.app_id[app_idx]\n",
        "  cited_ids = citations_info_target[citations_info_target.app_id == one_app_id].parsed\n",
        "  \n",
        "  def gen_fun():\n",
        "\n",
        "    for cited_id in cited_ids.values:\n",
        "      i, = np.where(grants_target_df.parsed.values == cited_id)\n",
        "      cited_index = i[0]\n",
        "      ranking = sorted(result_for_one_app_true, reverse=True).index(result_for_one_app_true[cited_index])\n",
        "      yield (one_app_id, cited_ids.values[0], ranking, result_for_one_app_true[cited_index])\n",
        "  return list(gen_fun())"
      ],
      "execution_count": 0,
      "outputs": []
    },
    {
      "metadata": {
        "id": "0byyufJQGl_h",
        "colab_type": "code",
        "colab": {}
      },
      "cell_type": "code",
      "source": [
        ""
      ],
      "execution_count": 0,
      "outputs": []
    },
    {
      "metadata": {
        "id": "6f7QLqOpJZCz",
        "colab_type": "code",
        "colab": {}
      },
      "cell_type": "code",
      "source": [
        "def result_block_filename(block_id):\n",
        "  pair_begin = (block_id)*BLOCK_SIZE\n",
        "  pair_end = (block_id+1)*BLOCK_SIZE\n",
        "  \n",
        "  return \"result_{}_{}.pkl.gz\".format(pair_begin, pair_end)\n",
        "\n",
        "def download_result(block_id):\n",
        "  filename = result_block_filename(block_id)\n",
        "  !gsutil cp gs://karino2-uspatent/features/{filename} ./bert/data/{filename}\n",
        "    \n",
        "def load_result(block_id):\n",
        "  filename = result_block_filename(block_id)\n",
        "  # print(\"result flename: {}\".format(filename))\n",
        "  with gzip.open(\"./bert/data/{}\".format(filename), 'rb') as f:\n",
        "    return pickle.load(f)"
      ],
      "execution_count": 0,
      "outputs": []
    },
    {
      "metadata": {
        "id": "r2Zb7YXIS2Yc",
        "colab_type": "code",
        "colab": {}
      },
      "cell_type": "code",
      "source": [
        "def load_and_calc_rank_tuples(block_id):\n",
        "  result_block = load_result(block_id)\n",
        "  return [tup for apprid in range(APPS_PER_BLOCK) for tup in cited_ranking(apprid, block_id, result_block)]"
      ],
      "execution_count": 0,
      "outputs": []
    },
    {
      "metadata": {
        "id": "LMti3HP2TH1q",
        "colab_type": "text"
      },
      "cell_type": "markdown",
      "source": [
        "# Integrate whole results"
      ]
    },
    {
      "metadata": {
        "id": "eKucCBLQZyUL",
        "colab_type": "code",
        "colab": {
          "base_uri": "https://localhost:8080/",
          "height": 941
        },
        "outputId": "8d83a9ba-ea89-4aeb-e7db-98774a78b048"
      },
      "cell_type": "code",
      "source": [
        "!gsutil -m cp gs://karino2-uspatent/features/result* ./bert/data/"
      ],
      "execution_count": 14,
      "outputs": [
        {
          "output_type": "stream",
          "text": [
            "Copying gs://karino2-uspatent/features/result_0_50480.pkl.gz...\n",
            "Copying gs://karino2-uspatent/features/result_1009600_1060080.pkl.gz...\n",
            "Copying gs://karino2-uspatent/features/result_1110560_1161040.pkl.gz...\n",
            "/ [0 files][    0.0 B/  1.0 MiB]                                                \r/ [0 files][    0.0 B/  2.0 MiB]                                                \r/ [0/50 files][    0.0 B/ 50.1 MiB]   0% Done                                   \rCopying gs://karino2-uspatent/features/result_100960_151440.pkl.gz...\n",
            "Copying gs://karino2-uspatent/features/result_1161040_1211520.pkl.gz...\n",
            "Copying gs://karino2-uspatent/features/result_1211520_1262000.pkl.gz...\n",
            "/ [0/50 files][    0.0 B/ 50.1 MiB]   0% Done                                   \r/ [0/50 files][    0.0 B/ 50.1 MiB]   0% Done                                   \rCopying gs://karino2-uspatent/features/result_1362960_1413440.pkl.gz...\n",
            "Copying gs://karino2-uspatent/features/result_1262000_1312480.pkl.gz...\n",
            "Copying gs://karino2-uspatent/features/result_1312480_1362960.pkl.gz...\n",
            "Copying gs://karino2-uspatent/features/result_1060080_1110560.pkl.gz...\n",
            "Copying gs://karino2-uspatent/features/result_1413440_1463920.pkl.gz...\n",
            "Copying gs://karino2-uspatent/features/result_1463920_1514400.pkl.gz...\n",
            "Copying gs://karino2-uspatent/features/result_1514400_1564880.pkl.gz...\n",
            "Copying gs://karino2-uspatent/features/result_151440_201920.pkl.gz...\n",
            "Copying gs://karino2-uspatent/features/result_1564880_1615360.pkl.gz...\n",
            "Copying gs://karino2-uspatent/features/result_1615360_1665840.pkl.gz...\n",
            "Copying gs://karino2-uspatent/features/result_1716320_1766800.pkl.gz...\n",
            "Copying gs://karino2-uspatent/features/result_1665840_1716320.pkl.gz...\n",
            "Copying gs://karino2-uspatent/features/result_1766800_1817280.pkl.gz...\n",
            "Copying gs://karino2-uspatent/features/result_1817280_1867760.pkl.gz...\n",
            "Copying gs://karino2-uspatent/features/result_1867760_1918240.pkl.gz...\n",
            "Copying gs://karino2-uspatent/features/result_1918240_1968720.pkl.gz...\n",
            "Copying gs://karino2-uspatent/features/result_1968720_2019200.pkl.gz...\n",
            "Copying gs://karino2-uspatent/features/result_2019200_2069680.pkl.gz...\n",
            "Copying gs://karino2-uspatent/features/result_201920_252400.pkl.gz...\n",
            "Copying gs://karino2-uspatent/features/result_2069680_2120160.pkl.gz...\n",
            "Copying gs://karino2-uspatent/features/result_2120160_2170640.pkl.gz...\n",
            "Copying gs://karino2-uspatent/features/result_2170640_2221120.pkl.gz...\n",
            "Copying gs://karino2-uspatent/features/result_2221120_2271600.pkl.gz...\n",
            "Copying gs://karino2-uspatent/features/result_2271600_2322080.pkl.gz...\n",
            "Copying gs://karino2-uspatent/features/result_2322080_2372560.pkl.gz...\n",
            "Copying gs://karino2-uspatent/features/result_2372560_2423040.pkl.gz...\n",
            "Copying gs://karino2-uspatent/features/result_2423040_2473520.pkl.gz...\n",
            "Copying gs://karino2-uspatent/features/result_2473520_2524000.pkl.gz...\n",
            "Copying gs://karino2-uspatent/features/result_252400_302880.pkl.gz...\n",
            "Copying gs://karino2-uspatent/features/result_302880_353360.pkl.gz...\n",
            "Copying gs://karino2-uspatent/features/result_353360_403840.pkl.gz...\n",
            "Copying gs://karino2-uspatent/features/result_403840_454320.pkl.gz...\n",
            "Copying gs://karino2-uspatent/features/result_454320_504800.pkl.gz...\n",
            "Copying gs://karino2-uspatent/features/result_504800_555280.pkl.gz...\n",
            "Copying gs://karino2-uspatent/features/result_50480_100960.pkl.gz...\n",
            "Copying gs://karino2-uspatent/features/result_555280_605760.pkl.gz...\n",
            "Copying gs://karino2-uspatent/features/result_605760_656240.pkl.gz...\n",
            "Copying gs://karino2-uspatent/features/result_706720_757200.pkl.gz...\n",
            "Copying gs://karino2-uspatent/features/result_656240_706720.pkl.gz...\n",
            "Copying gs://karino2-uspatent/features/result_757200_807680.pkl.gz...\n",
            "Copying gs://karino2-uspatent/features/result_807680_858160.pkl.gz...\n",
            "Copying gs://karino2-uspatent/features/result_858160_908640.pkl.gz...\n",
            "Copying gs://karino2-uspatent/features/result_908640_959120.pkl.gz...\n",
            "Copying gs://karino2-uspatent/features/result_959120_1009600.pkl.gz...\n",
            "- [50/50 files][ 50.1 MiB/ 50.1 MiB] 100% Done                                  \n",
            "Operation completed over 50 objects/50.1 MiB.                                    \n"
          ],
          "name": "stdout"
        }
      ]
    },
    {
      "metadata": {
        "id": "KaaUplHCNa1r",
        "colab_type": "code",
        "colab": {}
      },
      "cell_type": "code",
      "source": [
        "whole_tups = [tup for block_id in range(50) for tup in load_and_calc_rank_tuples(block_id)]"
      ],
      "execution_count": 0,
      "outputs": []
    },
    {
      "metadata": {
        "id": "S2_KBn90NyJ1",
        "colab_type": "code",
        "outputId": "c16cf7c2-a61c-420c-8a21-a727c20a308a",
        "colab": {
          "base_uri": "https://localhost:8080/",
          "height": 35
        }
      },
      "cell_type": "code",
      "source": [
        "len(whole_tups)"
      ],
      "execution_count": 18,
      "outputs": [
        {
          "output_type": "execute_result",
          "data": {
            "text/plain": [
              "2059"
            ]
          },
          "metadata": {
            "tags": []
          },
          "execution_count": 18
        }
      ]
    },
    {
      "metadata": {
        "id": "mCjt33OkTpoA",
        "colab_type": "code",
        "colab": {}
      },
      "cell_type": "code",
      "source": [
        "whole_ranks = [tup[2] for tup in whole_tups]"
      ],
      "execution_count": 0,
      "outputs": []
    },
    {
      "metadata": {
        "id": "QANWZ6M6Ty3X",
        "colab_type": "code",
        "outputId": "038e4530-5536-41e3-abc7-c76337f0d6c3",
        "colab": {
          "base_uri": "https://localhost:8080/",
          "height": 362
        }
      },
      "cell_type": "code",
      "source": [
        "plt.hist(whole_ranks, bins=200)\n",
        "plt.title(\"Cited grants rank\")\n",
        "plt.show()"
      ],
      "execution_count": 22,
      "outputs": [
        {
          "output_type": "display_data",
          "data": {
            "image/png": "[encoded data removed]",
            "text/plain": [
              "<matplotlib.figure.Figure at 0x7fecdafc6a58>"
            ]
          },
          "metadata": {
            "tags": []
          }
        }
      ]
    },
    {
      "metadata": {
        "id": "Quy2zz-nT8um",
        "colab_type": "code",
        "outputId": "38b5e0d6-37ac-440d-c76a-8746a7647056",
        "colab": {
          "base_uri": "https://localhost:8080/",
          "height": 362
        }
      },
      "cell_type": "code",
      "source": [
        "plt.hist(sorted(whole_ranks)[0:1500], bins=200)\n",
        "plt.title(\"Cited grants rank\")\n",
        "plt.show()"
      ],
      "execution_count": 23,
      "outputs": [
        {
          "output_type": "display_data",
          "data": {
            "image/png": "[encoded data removed]",
            "text/plain": [
              "<matplotlib.figure.Figure at 0x7fecdb2bebe0>"
            ]
          },
          "metadata": {
            "tags": []
          }
        }
      ]
    },
    {
      "metadata": {
        "id": "9nPSbATDT8ct",
        "colab_type": "code",
        "colab": {
          "base_uri": "https://localhost:8080/",
          "height": 35
        },
        "outputId": "0c583983-83b6-4402-a896-2b5b0229a15a"
      },
      "cell_type": "code",
      "source": [
        "sum(np.array(whole_ranks) < 10)"
      ],
      "execution_count": 32,
      "outputs": [
        {
          "output_type": "execute_result",
          "data": {
            "text/plain": [
              "1265"
            ]
          },
          "metadata": {
            "tags": []
          },
          "execution_count": 32
        }
      ]
    },
    {
      "metadata": {
        "id": "qTtXz1zQakoU",
        "colab_type": "code",
        "colab": {
          "base_uri": "https://localhost:8080/",
          "height": 35
        },
        "outputId": "c6e2a258-f724-4858-ba33-b63493c94976"
      },
      "cell_type": "code",
      "source": [
        "sum(np.array(whole_ranks) <= 20)"
      ],
      "execution_count": 27,
      "outputs": [
        {
          "output_type": "execute_result",
          "data": {
            "text/plain": [
              "1548"
            ]
          },
          "metadata": {
            "tags": []
          },
          "execution_count": 27
        }
      ]
    },
    {
      "metadata": {
        "id": "ADdg-sQmam9T",
        "colab_type": "code",
        "colab": {}
      },
      "cell_type": "code",
      "source": [
        ""
      ],
      "execution_count": 0,
      "outputs": []
    },
    {
      "metadata": {
        "id": "-WdiI0UlbX1F",
        "colab_type": "text"
      },
      "cell_type": "markdown",
      "source": [
        "Draw rank-cover curve"
      ]
    },
    {
      "metadata": {
        "id": "gMgzpf2RdiTb",
        "colab_type": "code",
        "colab": {}
      },
      "cell_type": "code",
      "source": [
        "whole_ranks_arr = np.array(whole_ranks)"
      ],
      "execution_count": 0,
      "outputs": []
    },
    {
      "metadata": {
        "id": "cFETCm8MdmBW",
        "colab_type": "code",
        "colab": {
          "base_uri": "https://localhost:8080/",
          "height": 35
        },
        "outputId": "c2a971b1-3dd5-4757-b534-2343ca9f15a9"
      },
      "cell_type": "code",
      "source": [
        "whole_ranks_arr.max()"
      ],
      "execution_count": 35,
      "outputs": [
        {
          "output_type": "execute_result",
          "data": {
            "text/plain": [
              "2362"
            ]
          },
          "metadata": {
            "tags": []
          },
          "execution_count": 35
        }
      ]
    },
    {
      "metadata": {
        "id": "6c6GSiELd83y",
        "colab_type": "code",
        "colab": {}
      },
      "cell_type": "code",
      "source": [
        "positive_counts = [sum(whole_ranks_arr <= thrd) for thrd in range(WHOLE_GRANTS_NUM)]"
      ],
      "execution_count": 0,
      "outputs": []
    },
    {
      "metadata": {
        "id": "0ssMYhl7eXE6",
        "colab_type": "code",
        "colab": {
          "base_uri": "https://localhost:8080/",
          "height": 362
        },
        "outputId": "42871fb8-77f6-46a1-9784-b8d86895d2a2"
      },
      "cell_type": "code",
      "source": [
        "plt.plot(range(WHOLE_GRANTS_NUM), positive_counts)\n",
        "plt.title(\"rank vs covered num\")\n",
        "plt.show()"
      ],
      "execution_count": 39,
      "outputs": [
        {
          "output_type": "display_data",
          "data": {
            "image/png": "[encoded data removed]",
            "text/plain": [
              "<matplotlib.figure.Figure at 0x7fecdb5a46d8>"
            ]
          },
          "metadata": {
            "tags": []
          }
        }
      ]
    },
    {
      "metadata": {
        "id": "6ORlGjVHdw-l",
        "colab_type": "code",
        "colab": {
          "base_uri": "https://localhost:8080/",
          "height": 362
        },
        "outputId": "6e5ecda2-0a63-44cd-f3b5-089fd3dd7232"
      },
      "cell_type": "code",
      "source": [
        "plt.plot(range(WHOLE_GRANTS_NUM), np.array(positive_counts)/len(whole_tups))\n",
        "plt.title(\"rank vs covered rate\")\n",
        "plt.show()"
      ],
      "execution_count": 42,
      "outputs": [
        {
          "output_type": "display_data",
          "data": {
            "image/png": "[encoded data removed]",
            "text/plain": [
              "<matplotlib.figure.Figure at 0x7fecdb124278>"
            ]
          },
          "metadata": {
            "tags": []
          }
        }
      ]
    },
    {
      "metadata": {
        "id": "bzYiH5-3enI0",
        "colab_type": "code",
        "colab": {}
      },
      "cell_type": "code",
      "source": [
        ""
      ],
      "execution_count": 0,
      "outputs": []
    },
    {
      "metadata": {
        "id": "b2pCPIeifEod",
        "colab_type": "code",
        "colab": {
          "base_uri": "https://localhost:8080/",
          "height": 362
        },
        "outputId": "7df46b2d-ebee-42ff-db4f-2c6df3ef22de"
      },
      "cell_type": "code",
      "source": [
        "plt.plot(range(100), (np.array(positive_counts)/len(whole_tups))[0:100])\n",
        "plt.title(\"rank vs covered rate, till 100\")\n",
        "plt.show()"
      ],
      "execution_count": 43,
      "outputs": [
        {
          "output_type": "display_data",
          "data": {
            "image/png": "[encoded data removed]",
            "text/plain": [
              "<matplotlib.figure.Figure at 0x7fecdbf3e390>"
            ]
          },
          "metadata": {
            "tags": []
          }
        }
      ]
    },
    {
      "metadata": {
        "id": "0fBiRaD2fEZF",
        "colab_type": "code",
        "colab": {}
      },
      "cell_type": "code",
      "source": [
        ""
      ],
      "execution_count": 0,
      "outputs": []
    },
    {
      "metadata": {
        "id": "Xe2uBvAOdphI",
        "colab_type": "code",
        "colab": {}
      },
      "cell_type": "code",
      "source": [
        ""
      ],
      "execution_count": 0,
      "outputs": []
    },
    {
      "metadata": {
        "id": "g_mYN8gfdiCM",
        "colab_type": "code",
        "colab": {}
      },
      "cell_type": "code",
      "source": [
        ""
      ],
      "execution_count": 0,
      "outputs": []
    },
    {
      "metadata": {
        "id": "kDkcuQ1QN7zF",
        "colab_type": "text"
      },
      "cell_type": "markdown",
      "source": [
        "# Try and error"
      ]
    },
    {
      "metadata": {
        "id": "ASvt0O0AJjY_",
        "colab_type": "code",
        "outputId": "b4a0468f-a0b7-4726-aa67-25d4c56009c6",
        "colab": {
          "base_uri": "https://localhost:8080/",
          "height": 35
        }
      },
      "cell_type": "code",
      "source": [
        "filename = result_block_filename(0)\n",
        "filename"
      ],
      "execution_count": 0,
      "outputs": [
        {
          "output_type": "execute_result",
          "data": {
            "text/plain": [
              "'result_0_50480.pkl.gz'"
            ]
          },
          "metadata": {
            "tags": []
          },
          "execution_count": 13
        }
      ]
    },
    {
      "metadata": {
        "id": "jWpkbawcJDLO",
        "colab_type": "code",
        "colab": {}
      },
      "cell_type": "code",
      "source": [
        ""
      ],
      "execution_count": 0,
      "outputs": []
    },
    {
      "metadata": {
        "id": "WljQP7LUKjPO",
        "colab_type": "code",
        "outputId": "b2ee292d-ffb6-437a-a9c9-a4a1a900f2be",
        "colab": {
          "base_uri": "https://localhost:8080/",
          "height": 53
        }
      },
      "cell_type": "code",
      "source": [
        "cited_ranking(2, 1, result_block)"
      ],
      "execution_count": 0,
      "outputs": [
        {
          "output_type": "stream",
          "text": [
            "idx:22, ridx:2\n"
          ],
          "name": "stdout"
        },
        {
          "output_type": "execute_result",
          "data": {
            "text/plain": [
              "[(13004544, 6845583, 0, 0.9999095)]"
            ]
          },
          "metadata": {
            "tags": []
          },
          "execution_count": 28
        }
      ]
    },
    {
      "metadata": {
        "id": "pMsa4ElFKi6D",
        "colab_type": "code",
        "outputId": "70ffafb9-9d17-4622-bded-1a5f4b2f5e25",
        "colab": {
          "base_uri": "https://localhost:8080/",
          "height": 35
        }
      },
      "cell_type": "code",
      "source": [
        "testset_app_df.app_id[22]"
      ],
      "execution_count": 0,
      "outputs": [
        {
          "output_type": "execute_result",
          "data": {
            "text/plain": [
              "13004544"
            ]
          },
          "metadata": {
            "tags": []
          },
          "execution_count": 29
        }
      ]
    },
    {
      "metadata": {
        "id": "c2rKFycYJC5r",
        "colab_type": "code",
        "colab": {}
      },
      "cell_type": "code",
      "source": [
        ""
      ],
      "execution_count": 0,
      "outputs": []
    },
    {
      "metadata": {
        "id": "MNfINC-yNajK",
        "colab_type": "code",
        "colab": {}
      },
      "cell_type": "code",
      "source": [
        ""
      ],
      "execution_count": 0,
      "outputs": []
    },
    {
      "metadata": {
        "id": "slGAjirSTfxr",
        "colab_type": "code",
        "outputId": "81dffaf3-bc05-4e4d-fcdd-13a397ca1096",
        "colab": {
          "base_uri": "https://localhost:8080/",
          "height": 1729
        }
      },
      "cell_type": "code",
      "source": [
        "pd.DataFrame({\"rank\": sorted(block_ranks)})"
      ],
      "execution_count": 0,
      "outputs": [
        {
          "output_type": "execute_result",
          "data": {
            "text/html": [
              "<div>\n",
              "<style scoped>\n",
              "    .dataframe tbody tr th:only-of-type {\n",
              "        vertical-align: middle;\n",
              "    }\n",
              "\n",
              "    .dataframe tbody tr th {\n",
              "        vertical-align: top;\n",
              "    }\n",
              "\n",
              "    .dataframe thead th {\n",
              "        text-align: right;\n",
              "    }\n",
              "</style>\n",
              "<table border=\"1\" class=\"dataframe\">\n",
              "  <thead>\n",
              "    <tr style=\"text-align: right;\">\n",
              "      <th></th>\n",
              "      <th>rank</th>\n",
              "    </tr>\n",
              "  </thead>\n",
              "  <tbody>\n",
              "    <tr>\n",
              "      <th>0</th>\n",
              "      <td>0</td>\n",
              "    </tr>\n",
              "    <tr>\n",
              "      <th>1</th>\n",
              "      <td>0</td>\n",
              "    </tr>\n",
              "    <tr>\n",
              "      <th>2</th>\n",
              "      <td>0</td>\n",
              "    </tr>\n",
              "    <tr>\n",
              "      <th>3</th>\n",
              "      <td>0</td>\n",
              "    </tr>\n",
              "    <tr>\n",
              "      <th>4</th>\n",
              "      <td>0</td>\n",
              "    </tr>\n",
              "    <tr>\n",
              "      <th>5</th>\n",
              "      <td>0</td>\n",
              "    </tr>\n",
              "    <tr>\n",
              "      <th>6</th>\n",
              "      <td>0</td>\n",
              "    </tr>\n",
              "    <tr>\n",
              "      <th>7</th>\n",
              "      <td>0</td>\n",
              "    </tr>\n",
              "    <tr>\n",
              "      <th>8</th>\n",
              "      <td>0</td>\n",
              "    </tr>\n",
              "    <tr>\n",
              "      <th>9</th>\n",
              "      <td>0</td>\n",
              "    </tr>\n",
              "    <tr>\n",
              "      <th>10</th>\n",
              "      <td>0</td>\n",
              "    </tr>\n",
              "    <tr>\n",
              "      <th>11</th>\n",
              "      <td>0</td>\n",
              "    </tr>\n",
              "    <tr>\n",
              "      <th>12</th>\n",
              "      <td>0</td>\n",
              "    </tr>\n",
              "    <tr>\n",
              "      <th>13</th>\n",
              "      <td>0</td>\n",
              "    </tr>\n",
              "    <tr>\n",
              "      <th>14</th>\n",
              "      <td>0</td>\n",
              "    </tr>\n",
              "    <tr>\n",
              "      <th>15</th>\n",
              "      <td>1</td>\n",
              "    </tr>\n",
              "    <tr>\n",
              "      <th>16</th>\n",
              "      <td>2</td>\n",
              "    </tr>\n",
              "    <tr>\n",
              "      <th>17</th>\n",
              "      <td>2</td>\n",
              "    </tr>\n",
              "    <tr>\n",
              "      <th>18</th>\n",
              "      <td>2</td>\n",
              "    </tr>\n",
              "    <tr>\n",
              "      <th>19</th>\n",
              "      <td>2</td>\n",
              "    </tr>\n",
              "    <tr>\n",
              "      <th>20</th>\n",
              "      <td>2</td>\n",
              "    </tr>\n",
              "    <tr>\n",
              "      <th>21</th>\n",
              "      <td>2</td>\n",
              "    </tr>\n",
              "    <tr>\n",
              "      <th>22</th>\n",
              "      <td>3</td>\n",
              "    </tr>\n",
              "    <tr>\n",
              "      <th>23</th>\n",
              "      <td>3</td>\n",
              "    </tr>\n",
              "    <tr>\n",
              "      <th>24</th>\n",
              "      <td>3</td>\n",
              "    </tr>\n",
              "    <tr>\n",
              "      <th>25</th>\n",
              "      <td>4</td>\n",
              "    </tr>\n",
              "    <tr>\n",
              "      <th>26</th>\n",
              "      <td>4</td>\n",
              "    </tr>\n",
              "    <tr>\n",
              "      <th>27</th>\n",
              "      <td>4</td>\n",
              "    </tr>\n",
              "    <tr>\n",
              "      <th>28</th>\n",
              "      <td>4</td>\n",
              "    </tr>\n",
              "    <tr>\n",
              "      <th>29</th>\n",
              "      <td>7</td>\n",
              "    </tr>\n",
              "    <tr>\n",
              "      <th>30</th>\n",
              "      <td>10</td>\n",
              "    </tr>\n",
              "    <tr>\n",
              "      <th>31</th>\n",
              "      <td>10</td>\n",
              "    </tr>\n",
              "    <tr>\n",
              "      <th>32</th>\n",
              "      <td>10</td>\n",
              "    </tr>\n",
              "    <tr>\n",
              "      <th>33</th>\n",
              "      <td>10</td>\n",
              "    </tr>\n",
              "    <tr>\n",
              "      <th>34</th>\n",
              "      <td>11</td>\n",
              "    </tr>\n",
              "    <tr>\n",
              "      <th>35</th>\n",
              "      <td>11</td>\n",
              "    </tr>\n",
              "    <tr>\n",
              "      <th>36</th>\n",
              "      <td>11</td>\n",
              "    </tr>\n",
              "    <tr>\n",
              "      <th>37</th>\n",
              "      <td>11</td>\n",
              "    </tr>\n",
              "    <tr>\n",
              "      <th>38</th>\n",
              "      <td>11</td>\n",
              "    </tr>\n",
              "    <tr>\n",
              "      <th>39</th>\n",
              "      <td>11</td>\n",
              "    </tr>\n",
              "    <tr>\n",
              "      <th>40</th>\n",
              "      <td>11</td>\n",
              "    </tr>\n",
              "    <tr>\n",
              "      <th>41</th>\n",
              "      <td>11</td>\n",
              "    </tr>\n",
              "    <tr>\n",
              "      <th>42</th>\n",
              "      <td>11</td>\n",
              "    </tr>\n",
              "    <tr>\n",
              "      <th>43</th>\n",
              "      <td>11</td>\n",
              "    </tr>\n",
              "    <tr>\n",
              "      <th>44</th>\n",
              "      <td>11</td>\n",
              "    </tr>\n",
              "    <tr>\n",
              "      <th>45</th>\n",
              "      <td>11</td>\n",
              "    </tr>\n",
              "    <tr>\n",
              "      <th>46</th>\n",
              "      <td>11</td>\n",
              "    </tr>\n",
              "    <tr>\n",
              "      <th>47</th>\n",
              "      <td>11</td>\n",
              "    </tr>\n",
              "    <tr>\n",
              "      <th>48</th>\n",
              "      <td>13</td>\n",
              "    </tr>\n",
              "    <tr>\n",
              "      <th>49</th>\n",
              "      <td>19</td>\n",
              "    </tr>\n",
              "    <tr>\n",
              "      <th>50</th>\n",
              "      <td>36</td>\n",
              "    </tr>\n",
              "    <tr>\n",
              "      <th>51</th>\n",
              "      <td>36</td>\n",
              "    </tr>\n",
              "    <tr>\n",
              "      <th>52</th>\n",
              "      <td>55</td>\n",
              "    </tr>\n",
              "    <tr>\n",
              "      <th>53</th>\n",
              "      <td>81</td>\n",
              "    </tr>\n",
              "  </tbody>\n",
              "</table>\n",
              "</div>"
            ],
            "text/plain": [
              "    rank\n",
              "0      0\n",
              "1      0\n",
              "2      0\n",
              "3      0\n",
              "4      0\n",
              "5      0\n",
              "6      0\n",
              "7      0\n",
              "8      0\n",
              "9      0\n",
              "10     0\n",
              "11     0\n",
              "12     0\n",
              "13     0\n",
              "14     0\n",
              "15     1\n",
              "16     2\n",
              "17     2\n",
              "18     2\n",
              "19     2\n",
              "20     2\n",
              "21     2\n",
              "22     3\n",
              "23     3\n",
              "24     3\n",
              "25     4\n",
              "26     4\n",
              "27     4\n",
              "28     4\n",
              "29     7\n",
              "30    10\n",
              "31    10\n",
              "32    10\n",
              "33    10\n",
              "34    11\n",
              "35    11\n",
              "36    11\n",
              "37    11\n",
              "38    11\n",
              "39    11\n",
              "40    11\n",
              "41    11\n",
              "42    11\n",
              "43    11\n",
              "44    11\n",
              "45    11\n",
              "46    11\n",
              "47    11\n",
              "48    13\n",
              "49    19\n",
              "50    36\n",
              "51    36\n",
              "52    55\n",
              "53    81"
            ]
          },
          "metadata": {
            "tags": []
          },
          "execution_count": 43
        }
      ]
    },
    {
      "metadata": {
        "id": "-M2835C7Tfdl",
        "colab_type": "code",
        "colab": {}
      },
      "cell_type": "code",
      "source": [
        ""
      ],
      "execution_count": 0,
      "outputs": []
    },
    {
      "metadata": {
        "id": "2t5hLab5ZN3k",
        "colab_type": "code",
        "colab": {}
      },
      "cell_type": "code",
      "source": [
        "result_block = load_result(1)"
      ],
      "execution_count": 0,
      "outputs": []
    },
    {
      "metadata": {
        "id": "bvsCb75gL_Kn",
        "colab_type": "code",
        "colab": {}
      },
      "cell_type": "code",
      "source": [
        "block_rank_tuples = [tup for apprid in range(APPS_PER_BLOCK) for tup in cited_ranking(apprid, 1, result_block)]"
      ],
      "execution_count": 0,
      "outputs": []
    },
    {
      "metadata": {
        "id": "xIMu1deaL-3k",
        "colab_type": "code",
        "colab": {}
      },
      "cell_type": "code",
      "source": [
        "block_ranks = [tup[2] for tup in block_rank_tuples]"
      ],
      "execution_count": 0,
      "outputs": []
    },
    {
      "metadata": {
        "id": "4_imUBrHMs8K",
        "colab_type": "code",
        "outputId": "fd43f0f9-91de-4074-b0b2-b032166c8e0b",
        "colab": {
          "base_uri": "https://localhost:8080/",
          "height": 35
        }
      },
      "cell_type": "code",
      "source": [
        "block_ranks[0:5]"
      ],
      "execution_count": 0,
      "outputs": [
        {
          "output_type": "execute_result",
          "data": {
            "text/plain": [
              "[81, 0, 0, 0, 0]"
            ]
          },
          "metadata": {
            "tags": []
          },
          "execution_count": 36
        }
      ]
    },
    {
      "metadata": {
        "id": "h63YIXHGMspm",
        "colab_type": "code",
        "outputId": "cbb42ce9-d55b-4cfd-fdc4-9e2d2c9939c4",
        "colab": {
          "base_uri": "https://localhost:8080/",
          "height": 35
        }
      },
      "cell_type": "code",
      "source": [
        "sorted(block_ranks)[0:20]"
      ],
      "execution_count": 0,
      "outputs": [
        {
          "output_type": "execute_result",
          "data": {
            "text/plain": [
              "[0, 0, 0, 0, 0, 0, 0, 0, 0, 0, 0, 0, 0, 0, 0, 1, 2, 2, 2, 2]"
            ]
          },
          "metadata": {
            "tags": []
          },
          "execution_count": 38
        }
      ]
    },
    {
      "metadata": {
        "id": "eyGwEjukMsX7",
        "colab_type": "code",
        "outputId": "406546e9-0bbe-4d46-b49b-c06013b6c9b6",
        "colab": {
          "base_uri": "https://localhost:8080/",
          "height": 35
        }
      },
      "cell_type": "code",
      "source": [
        "len(block_rank_tuples)"
      ],
      "execution_count": 0,
      "outputs": [
        {
          "output_type": "execute_result",
          "data": {
            "text/plain": [
              "54"
            ]
          },
          "metadata": {
            "tags": []
          },
          "execution_count": 40
        }
      ]
    },
    {
      "metadata": {
        "id": "owsgYGTUNbIR",
        "colab_type": "code",
        "colab": {}
      },
      "cell_type": "code",
      "source": [
        ""
      ],
      "execution_count": 0,
      "outputs": []
    },
    {
      "metadata": {
        "colab_type": "code",
        "id": "-rFXdl0iNVTS",
        "colab": {}
      },
      "cell_type": "code",
      "source": [
        "import matplotlib.pyplot as plt"
      ],
      "execution_count": 0,
      "outputs": []
    },
    {
      "metadata": {
        "colab_type": "code",
        "outputId": "6e8bb121-6186-4ecd-eceb-8d62c3befbfe",
        "id": "pstp9HgYNVTb",
        "colab": {
          "base_uri": "https://localhost:8080/",
          "height": 362
        }
      },
      "cell_type": "code",
      "source": [
        "plt.hist(block_ranks, bins=50)\n",
        "plt.title(\"Cited grants rank\")\n",
        "plt.show()"
      ],
      "execution_count": 0,
      "outputs": [
        {
          "output_type": "display_data",
          "data": {
            "image/png": "[encoded data removed]",
            "text/plain": [
              "<matplotlib.figure.Figure at 0x7fa008d75da0>"
            ]
          },
          "metadata": {
            "tags": []
          }
        }
      ]
    },
    {
      "metadata": {
        "id": "MC0FZ1scFqH0",
        "colab_type": "code",
        "colab": {}
      },
      "cell_type": "code",
      "source": [
        ""
      ],
      "execution_count": 0,
      "outputs": []
    },
    {
      "metadata": {
        "id": "cWWs72X0Fij8",
        "colab_type": "code",
        "colab": {}
      },
      "cell_type": "code",
      "source": [
        ""
      ],
      "execution_count": 0,
      "outputs": []
    },
    {
      "metadata": {
        "id": "4DUQxXa9fQgp",
        "colab_type": "text"
      },
      "cell_type": "markdown",
      "source": [
        "### Result evaluation\n",
        "\n",
        "First, check the ranking of scores for label patent."
      ]
    },
    {
      "metadata": {
        "id": "HiyK_5bLm4Bz",
        "colab_type": "code",
        "outputId": "bd766c3e-8c85-4a56-fb7c-1978c5e553d9",
        "colab": {
          "base_uri": "https://localhost:8080/",
          "height": 70
        }
      },
      "cell_type": "code",
      "source": [
        "!gsutil cp gs://karino2-uspatent/features/result_0_50480.pkl.gz ./"
      ],
      "execution_count": 0,
      "outputs": [
        {
          "output_type": "stream",
          "text": [
            "Copying gs://karino2-uspatent/features/result_0_50480.pkl.gz...\n",
            "/ [0 files][    0.0 B/  1.0 MiB]                                                \r/ [1 files][  1.0 MiB/  1.0 MiB]                                                \r\n",
            "Operation completed over 1 objects/1.0 MiB.                                      \n"
          ],
          "name": "stdout"
        }
      ]
    },
    {
      "metadata": {
        "id": "1RVPiq9BBr7X",
        "colab_type": "code",
        "outputId": "3c83323f-e89b-4eec-ee86-4ed267e597d0",
        "colab": {
          "base_uri": "https://localhost:8080/",
          "height": 230
        }
      },
      "cell_type": "code",
      "source": [
        "!gsutil cp gs://karino2-uspatent/citations_info_2000.df.gz ./bert/data/\n",
        "!gsutil cp gs://karino2-uspatent/testset_app_1000.df.gz ./bert/data/\n",
        "!gsutil cp gs://karino2-uspatent/training_app_1000.df.gz ./bert/data/\n",
        "!gsutil cp gs://karino2-uspatent/grants_for_2000.df.gz ./bert/data/"
      ],
      "execution_count": 0,
      "outputs": [
        {
          "output_type": "stream",
          "text": [
            "Copying gs://karino2-uspatent/citations_info_2000.df.gz...\n",
            "/ [0 files][    0.0 B/234.3 KiB]                                                \r/ [1 files][234.3 KiB/234.3 KiB]                                                \r\n",
            "Operation completed over 1 objects/234.3 KiB.                                    \n",
            "Copying gs://karino2-uspatent/testset_app_1000.df.gz...\n",
            "/ [1 files][ 13.4 MiB/ 13.4 MiB]                                                \n",
            "Operation completed over 1 objects/13.4 MiB.                                     \n",
            "Copying gs://karino2-uspatent/training_app_1000.df.gz...\n",
            "/ [1 files][ 14.2 MiB/ 14.2 MiB]                                                \n",
            "Operation completed over 1 objects/14.2 MiB.                                     \n",
            "Copying gs://karino2-uspatent/grants_for_2000.df.gz...\n",
            "- [1 files][ 44.6 MiB/ 44.6 MiB]                                                \n",
            "Operation completed over 1 objects/44.6 MiB.                                     \n"
          ],
          "name": "stdout"
        }
      ]
    },
    {
      "metadata": {
        "id": "cRsLce_mmmNF",
        "colab_type": "code",
        "colab": {}
      },
      "cell_type": "code",
      "source": [
        "import gzip\n",
        "import pickle\n",
        "with gzip.open(\"result_0_50480.pkl.gz\", 'rb') as f:\n",
        "     result_unwrap = pickle.load(f)"
      ],
      "execution_count": 0,
      "outputs": []
    },
    {
      "metadata": {
        "id": "ry_hLx-ZW8SQ",
        "colab_type": "text"
      },
      "cell_type": "markdown",
      "source": [
        "# Try and error\n",
        "\n",
        "Below here is try and error."
      ]
    },
    {
      "metadata": {
        "id": "j9Fu_PODW7Bz",
        "colab_type": "code",
        "colab": {}
      },
      "cell_type": "code",
      "source": [
        ""
      ],
      "execution_count": 0,
      "outputs": []
    },
    {
      "metadata": {
        "id": "M_OcAaYEgpwh",
        "colab_type": "code",
        "colab": {}
      },
      "cell_type": "code",
      "source": [
        "app_idx = 0\n",
        "\n",
        "\n",
        "result_for_one_app = result_unwrap[app_idx*GRANTS_NUM: (app_idx+1)*GRANTS_NUM]"
      ],
      "execution_count": 0,
      "outputs": []
    },
    {
      "metadata": {
        "id": "8-resJjggFfv",
        "colab_type": "code",
        "colab": {}
      },
      "cell_type": "code",
      "source": [
        "one_app_id = app_ids[app_idx]"
      ],
      "execution_count": 0,
      "outputs": []
    },
    {
      "metadata": {
        "id": "F9sc9QIug-Kn",
        "colab_type": "code",
        "outputId": "7e2e3fc8-3580-47cf-faab-50adc9f22400",
        "colab": {
          "base_uri": "https://localhost:8080/",
          "height": 35
        }
      },
      "cell_type": "code",
      "source": [
        "one_app_id"
      ],
      "execution_count": 0,
      "outputs": [
        {
          "output_type": "execute_result",
          "data": {
            "text/plain": [
              "14307191"
            ]
          },
          "metadata": {
            "tags": []
          },
          "execution_count": 257
        }
      ]
    },
    {
      "metadata": {
        "id": "T2T4TfVqhO8f",
        "colab_type": "code",
        "colab": {}
      },
      "cell_type": "code",
      "source": [
        "cited_ids = citations_info_target[citations_info_target.app_id == one_app_id].parsed"
      ],
      "execution_count": 0,
      "outputs": []
    },
    {
      "metadata": {
        "id": "4kDazA3khOpz",
        "colab_type": "code",
        "outputId": "063f11c6-e39d-4a97-a5d1-790187e723a2",
        "colab": {
          "base_uri": "https://localhost:8080/",
          "height": 35
        }
      },
      "cell_type": "code",
      "source": [
        "cited_ids.values[0]"
      ],
      "execution_count": 0,
      "outputs": [
        {
          "output_type": "execute_result",
          "data": {
            "text/plain": [
              "7576688"
            ]
          },
          "metadata": {
            "tags": []
          },
          "execution_count": 266
        }
      ]
    },
    {
      "metadata": {
        "id": "nVDttCnMhqLR",
        "colab_type": "code",
        "outputId": "921ded77-546d-4514-bdc0-752dad5b770a",
        "colab": {
          "base_uri": "https://localhost:8080/",
          "height": 106
        }
      },
      "cell_type": "code",
      "source": [
        "result_for_one_app[0:5]"
      ],
      "execution_count": 0,
      "outputs": [
        {
          "output_type": "execute_result",
          "data": {
            "text/plain": [
              "[array([9.9987113e-01, 1.2879973e-04], dtype=float32),\n",
              " array([9.9987471e-01, 1.2525565e-04], dtype=float32),\n",
              " array([9.9986601e-01, 1.3391985e-04], dtype=float32),\n",
              " array([9.9987304e-01, 1.2690226e-04], dtype=float32),\n",
              " array([9.9986780e-01, 1.3221534e-04], dtype=float32)]"
            ]
          },
          "metadata": {
            "tags": []
          },
          "execution_count": 267
        }
      ]
    },
    {
      "metadata": {
        "id": "-pD9OU8HhpvU",
        "colab_type": "code",
        "colab": {}
      },
      "cell_type": "code",
      "source": [
        "result_for_one_app_true = [tup[1] for tup in result_for_one_app]"
      ],
      "execution_count": 0,
      "outputs": []
    },
    {
      "metadata": {
        "id": "9uzygTrUeONZ",
        "colab_type": "code",
        "colab": {}
      },
      "cell_type": "code",
      "source": [
        ""
      ],
      "execution_count": 0,
      "outputs": []
    },
    {
      "metadata": {
        "id": "H_9T9hp4iFg-",
        "colab_type": "code",
        "outputId": "c27988b3-f991-4c0e-b324-99a9cd14e591",
        "colab": {
          "base_uri": "https://localhost:8080/",
          "height": 35
        }
      },
      "cell_type": "code",
      "source": [
        "grants_target_df.shape"
      ],
      "execution_count": 0,
      "outputs": [
        {
          "output_type": "execute_result",
          "data": {
            "text/plain": [
              "(2524, 2)"
            ]
          },
          "metadata": {
            "tags": []
          },
          "execution_count": 269
        }
      ]
    },
    {
      "metadata": {
        "id": "5bsSAMz4idDZ",
        "colab_type": "code",
        "colab": {}
      },
      "cell_type": "code",
      "source": [
        "i, = np.where(grants_target_df.parsed.values == cited_ids.values[0])\n",
        "cited_index = i[0]"
      ],
      "execution_count": 0,
      "outputs": []
    },
    {
      "metadata": {
        "id": "UWwX0arfj4Gs",
        "colab_type": "code",
        "outputId": "ad818c27-f799-40ff-cb0b-277a5f290247",
        "colab": {
          "base_uri": "https://localhost:8080/",
          "height": 35
        }
      },
      "cell_type": "code",
      "source": [
        "grants_target_df.parsed.values[cited_index]"
      ],
      "execution_count": 0,
      "outputs": [
        {
          "output_type": "execute_result",
          "data": {
            "text/plain": [
              "7576688"
            ]
          },
          "metadata": {
            "tags": []
          },
          "execution_count": 283
        }
      ]
    },
    {
      "metadata": {
        "id": "OKjxuYjKj3zR",
        "colab_type": "code",
        "outputId": "5e656fc1-cb7d-42fc-a3c4-573b539dc990",
        "colab": {
          "base_uri": "https://localhost:8080/",
          "height": 35
        }
      },
      "cell_type": "code",
      "source": [
        "result_for_one_app_true[cited_index:cited_index+3]"
      ],
      "execution_count": 0,
      "outputs": [
        {
          "output_type": "execute_result",
          "data": {
            "text/plain": [
              "[0.00013937514, 0.47318903, 0.00014103286]"
            ]
          },
          "metadata": {
            "tags": []
          },
          "execution_count": 287
        }
      ]
    },
    {
      "metadata": {
        "id": "JZH2IRv0icxZ",
        "colab_type": "code",
        "outputId": "1aaa25e6-66d3-4f8b-b25e-32ee503f1b75",
        "colab": {
          "base_uri": "https://localhost:8080/",
          "height": 35
        }
      },
      "cell_type": "code",
      "source": [
        "grants_target_df.parsed.values[0]"
      ],
      "execution_count": 0,
      "outputs": [
        {
          "output_type": "execute_result",
          "data": {
            "text/plain": [
              "6837383"
            ]
          },
          "metadata": {
            "tags": []
          },
          "execution_count": 286
        }
      ]
    },
    {
      "metadata": {
        "id": "NfLulvh5khNX",
        "colab_type": "code",
        "outputId": "fe4046eb-e094-40c6-9d35-9548d2fb0b88",
        "colab": {
          "base_uri": "https://localhost:8080/",
          "height": 35
        }
      },
      "cell_type": "code",
      "source": [
        "grants_target_df.parsed.values[0:5]"
      ],
      "execution_count": 0,
      "outputs": [
        {
          "output_type": "execute_result",
          "data": {
            "text/plain": [
              "array([6837383, 6837647, 6837799, 6837893, 6837910])"
            ]
          },
          "metadata": {
            "tags": []
          },
          "execution_count": 288
        }
      ]
    },
    {
      "metadata": {
        "id": "7lGNroVwkg6X",
        "colab_type": "code",
        "outputId": "aea1d81b-fd0d-4b63-c00a-aa617e994192",
        "colab": {
          "base_uri": "https://localhost:8080/",
          "height": 35
        }
      },
      "cell_type": "code",
      "source": [
        "np.where(grants_target_df.parsed.values == 6837647)"
      ],
      "execution_count": 0,
      "outputs": [
        {
          "output_type": "execute_result",
          "data": {
            "text/plain": [
              "(array([1]),)"
            ]
          },
          "metadata": {
            "tags": []
          },
          "execution_count": 290
        }
      ]
    },
    {
      "metadata": {
        "id": "nS_5yzpHkyVr",
        "colab_type": "code",
        "outputId": "bd47bf0f-1480-46fe-8e73-967cc374560d",
        "colab": {
          "base_uri": "https://localhost:8080/",
          "height": 35
        }
      },
      "cell_type": "code",
      "source": [
        "sorted(result_for_one_app_true, reverse=True).index(result_for_one_app_true[cited_index])"
      ],
      "execution_count": 0,
      "outputs": [
        {
          "output_type": "execute_result",
          "data": {
            "text/plain": [
              "1189"
            ]
          },
          "metadata": {
            "tags": []
          },
          "execution_count": 291
        }
      ]
    },
    {
      "metadata": {
        "id": "zUxQUR4Lk_Mi",
        "colab_type": "code",
        "colab": {}
      },
      "cell_type": "code",
      "source": [
        ""
      ],
      "execution_count": 0,
      "outputs": []
    },
    {
      "metadata": {
        "id": "Th1IBdKOUpCW",
        "colab_type": "code",
        "colab": {}
      },
      "cell_type": "code",
      "source": [
        ""
      ],
      "execution_count": 0,
      "outputs": []
    },
    {
      "metadata": {
        "id": "CBNHTkOikyC8",
        "colab_type": "code",
        "outputId": "6d103126-3511-4cb9-9edd-cee5baef84a1",
        "colab": {
          "base_uri": "https://localhost:8080/",
          "height": 35
        }
      },
      "cell_type": "code",
      "source": [
        "cited_ranking(0)"
      ],
      "execution_count": 0,
      "outputs": [
        {
          "output_type": "execute_result",
          "data": {
            "text/plain": [
              "[(14307191, 7576688, 1189, 0.00013937514)]"
            ]
          },
          "metadata": {
            "tags": []
          },
          "execution_count": 57
        }
      ]
    },
    {
      "metadata": {
        "id": "tPZig6TjlsHt",
        "colab_type": "code",
        "outputId": "9155970d-da15-4158-c20f-dee99a987234",
        "colab": {
          "base_uri": "https://localhost:8080/",
          "height": 35
        }
      },
      "cell_type": "code",
      "source": [
        "cited_ranking(1)"
      ],
      "execution_count": 0,
      "outputs": [
        {
          "output_type": "execute_result",
          "data": {
            "text/plain": [
              "[(13137006, 6856341, 36, 0.9998958)]"
            ]
          },
          "metadata": {
            "tags": []
          },
          "execution_count": 58
        }
      ]
    },
    {
      "metadata": {
        "id": "qkYDcjQgR1Zq",
        "colab_type": "code",
        "colab": {}
      },
      "cell_type": "code",
      "source": [
        ""
      ],
      "execution_count": 0,
      "outputs": []
    },
    {
      "metadata": {
        "id": "9CW-VkwLeJkH",
        "colab_type": "code",
        "outputId": "56404292-7d19-4390-a0b7-32c9b047983c",
        "colab": {
          "base_uri": "https://localhost:8080/",
          "height": 106
        }
      },
      "cell_type": "code",
      "source": [
        "result_unwrap[0:5]"
      ],
      "execution_count": 0,
      "outputs": [
        {
          "output_type": "execute_result",
          "data": {
            "text/plain": [
              "[array([9.9987113e-01, 1.2879973e-04], dtype=float32),\n",
              " array([9.9987471e-01, 1.2525565e-04], dtype=float32),\n",
              " array([9.9986601e-01, 1.3391985e-04], dtype=float32),\n",
              " array([9.9987304e-01, 1.2690226e-04], dtype=float32),\n",
              " array([9.9986780e-01, 1.3221534e-04], dtype=float32)]"
            ]
          },
          "metadata": {
            "tags": []
          },
          "execution_count": 242
        }
      ]
    },
    {
      "metadata": {
        "id": "3b5NVc2Y_sR7",
        "colab_type": "code",
        "outputId": "4ffd0083-117f-4027-ad5b-0fceb9818d5c",
        "colab": {
          "base_uri": "https://localhost:8080/",
          "height": 106
        }
      },
      "cell_type": "code",
      "source": [
        "result_unwrap[0:5]"
      ],
      "execution_count": 0,
      "outputs": [
        {
          "output_type": "execute_result",
          "data": {
            "text/plain": [
              "[array([9.9987113e-01, 1.2879973e-04], dtype=float32),\n",
              " array([9.9987471e-01, 1.2525565e-04], dtype=float32),\n",
              " array([9.9986601e-01, 1.3391985e-04], dtype=float32),\n",
              " array([9.9987304e-01, 1.2690226e-04], dtype=float32),\n",
              " array([9.9986780e-01, 1.3221534e-04], dtype=float32)]"
            ]
          },
          "metadata": {
            "tags": []
          },
          "execution_count": 104
        }
      ]
    },
    {
      "metadata": {
        "id": "Bf6ccVAhoaMJ",
        "colab_type": "text"
      },
      "cell_type": "markdown",
      "source": [
        "Check first app result manually"
      ]
    },
    {
      "metadata": {
        "id": "hPdl9uIfb2O9",
        "colab_type": "code",
        "outputId": "ba92339c-651c-46fc-986b-55579ccf4071",
        "colab": {
          "base_uri": "https://localhost:8080/",
          "height": 253
        }
      },
      "cell_type": "code",
      "source": [
        "label_df.head()"
      ],
      "execution_count": 0,
      "outputs": [
        {
          "output_type": "execute_result",
          "data": {
            "text/html": [
              "<div>\n",
              "<style scoped>\n",
              "    .dataframe tbody tr th:only-of-type {\n",
              "        vertical-align: middle;\n",
              "    }\n",
              "\n",
              "    .dataframe tbody tr th {\n",
              "        vertical-align: top;\n",
              "    }\n",
              "\n",
              "    .dataframe thead th {\n",
              "        text-align: right;\n",
              "    }\n",
              "</style>\n",
              "<table border=\"1\" class=\"dataframe\">\n",
              "  <thead>\n",
              "    <tr style=\"text-align: right;\">\n",
              "      <th></th>\n",
              "      <th>6837383</th>\n",
              "      <th>6837647</th>\n",
              "      <th>6837799</th>\n",
              "      <th>6837893</th>\n",
              "      <th>6837910</th>\n",
              "      <th>6838140</th>\n",
              "      <th>6838207</th>\n",
              "      <th>6838507</th>\n",
              "      <th>6838812</th>\n",
              "      <th>6838925</th>\n",
              "      <th>...</th>\n",
              "      <th>8334161</th>\n",
              "      <th>8334431</th>\n",
              "      <th>8334887</th>\n",
              "      <th>8336128</th>\n",
              "      <th>8336158</th>\n",
              "      <th>8336789</th>\n",
              "      <th>8336964</th>\n",
              "      <th>8337193</th>\n",
              "      <th>8339697</th>\n",
              "      <th>8340894</th>\n",
              "    </tr>\n",
              "  </thead>\n",
              "  <tbody>\n",
              "    <tr>\n",
              "      <th>14307191</th>\n",
              "      <td>False</td>\n",
              "      <td>False</td>\n",
              "      <td>False</td>\n",
              "      <td>False</td>\n",
              "      <td>False</td>\n",
              "      <td>False</td>\n",
              "      <td>False</td>\n",
              "      <td>False</td>\n",
              "      <td>False</td>\n",
              "      <td>False</td>\n",
              "      <td>...</td>\n",
              "      <td>False</td>\n",
              "      <td>False</td>\n",
              "      <td>False</td>\n",
              "      <td>False</td>\n",
              "      <td>False</td>\n",
              "      <td>False</td>\n",
              "      <td>False</td>\n",
              "      <td>False</td>\n",
              "      <td>False</td>\n",
              "      <td>False</td>\n",
              "    </tr>\n",
              "    <tr>\n",
              "      <th>13137006</th>\n",
              "      <td>False</td>\n",
              "      <td>False</td>\n",
              "      <td>False</td>\n",
              "      <td>False</td>\n",
              "      <td>False</td>\n",
              "      <td>False</td>\n",
              "      <td>False</td>\n",
              "      <td>False</td>\n",
              "      <td>False</td>\n",
              "      <td>False</td>\n",
              "      <td>...</td>\n",
              "      <td>False</td>\n",
              "      <td>False</td>\n",
              "      <td>False</td>\n",
              "      <td>False</td>\n",
              "      <td>False</td>\n",
              "      <td>False</td>\n",
              "      <td>False</td>\n",
              "      <td>False</td>\n",
              "      <td>False</td>\n",
              "      <td>False</td>\n",
              "    </tr>\n",
              "    <tr>\n",
              "      <th>12741959</th>\n",
              "      <td>False</td>\n",
              "      <td>False</td>\n",
              "      <td>False</td>\n",
              "      <td>False</td>\n",
              "      <td>False</td>\n",
              "      <td>False</td>\n",
              "      <td>False</td>\n",
              "      <td>False</td>\n",
              "      <td>False</td>\n",
              "      <td>False</td>\n",
              "      <td>...</td>\n",
              "      <td>False</td>\n",
              "      <td>False</td>\n",
              "      <td>False</td>\n",
              "      <td>False</td>\n",
              "      <td>False</td>\n",
              "      <td>False</td>\n",
              "      <td>False</td>\n",
              "      <td>False</td>\n",
              "      <td>False</td>\n",
              "      <td>False</td>\n",
              "    </tr>\n",
              "    <tr>\n",
              "      <th>12643447</th>\n",
              "      <td>False</td>\n",
              "      <td>False</td>\n",
              "      <td>False</td>\n",
              "      <td>False</td>\n",
              "      <td>False</td>\n",
              "      <td>False</td>\n",
              "      <td>False</td>\n",
              "      <td>False</td>\n",
              "      <td>False</td>\n",
              "      <td>False</td>\n",
              "      <td>...</td>\n",
              "      <td>False</td>\n",
              "      <td>False</td>\n",
              "      <td>False</td>\n",
              "      <td>False</td>\n",
              "      <td>False</td>\n",
              "      <td>False</td>\n",
              "      <td>False</td>\n",
              "      <td>False</td>\n",
              "      <td>False</td>\n",
              "      <td>False</td>\n",
              "    </tr>\n",
              "    <tr>\n",
              "      <th>14200253</th>\n",
              "      <td>False</td>\n",
              "      <td>False</td>\n",
              "      <td>False</td>\n",
              "      <td>False</td>\n",
              "      <td>False</td>\n",
              "      <td>False</td>\n",
              "      <td>False</td>\n",
              "      <td>False</td>\n",
              "      <td>False</td>\n",
              "      <td>False</td>\n",
              "      <td>...</td>\n",
              "      <td>False</td>\n",
              "      <td>False</td>\n",
              "      <td>False</td>\n",
              "      <td>False</td>\n",
              "      <td>False</td>\n",
              "      <td>False</td>\n",
              "      <td>False</td>\n",
              "      <td>False</td>\n",
              "      <td>False</td>\n",
              "      <td>False</td>\n",
              "    </tr>\n",
              "  </tbody>\n",
              "</table>\n",
              "<p>5 rows × 2524 columns</p>\n",
              "</div>"
            ],
            "text/plain": [
              "          6837383  6837647  6837799  6837893  6837910  6838140  6838207  \\\n",
              "14307191    False    False    False    False    False    False    False   \n",
              "13137006    False    False    False    False    False    False    False   \n",
              "12741959    False    False    False    False    False    False    False   \n",
              "12643447    False    False    False    False    False    False    False   \n",
              "14200253    False    False    False    False    False    False    False   \n",
              "\n",
              "          6838507  6838812  6838925   ...     8334161  8334431  8334887  \\\n",
              "14307191    False    False    False   ...       False    False    False   \n",
              "13137006    False    False    False   ...       False    False    False   \n",
              "12741959    False    False    False   ...       False    False    False   \n",
              "12643447    False    False    False   ...       False    False    False   \n",
              "14200253    False    False    False   ...       False    False    False   \n",
              "\n",
              "          8336128  8336158  8336789  8336964  8337193  8339697  8340894  \n",
              "14307191    False    False    False    False    False    False    False  \n",
              "13137006    False    False    False    False    False    False    False  \n",
              "12741959    False    False    False    False    False    False    False  \n",
              "12643447    False    False    False    False    False    False    False  \n",
              "14200253    False    False    False    False    False    False    False  \n",
              "\n",
              "[5 rows x 2524 columns]"
            ]
          },
          "metadata": {
            "tags": []
          },
          "execution_count": 110
        }
      ]
    },
    {
      "metadata": {
        "id": "GleKAN-qciTT",
        "colab_type": "code",
        "outputId": "9ef7d349-b528-4a9f-d46c-195b1ae886e1",
        "colab": {
          "base_uri": "https://localhost:8080/",
          "height": 53
        }
      },
      "cell_type": "code",
      "source": [
        "citations_info_target[citations_info_target[\"app_id\"]==14307191].parsed"
      ],
      "execution_count": 0,
      "outputs": [
        {
          "output_type": "execute_result",
          "data": {
            "text/plain": [
              "698    7576688\n",
              "Name: parsed, dtype: int64"
            ]
          },
          "metadata": {
            "tags": []
          },
          "execution_count": 111
        }
      ]
    },
    {
      "metadata": {
        "id": "_msx3QYlcqy-",
        "colab_type": "code",
        "outputId": "f28d5a51-12ae-4314-e588-6c905eb12deb",
        "colab": {
          "base_uri": "https://localhost:8080/",
          "height": 35
        }
      },
      "cell_type": "code",
      "source": [
        "label_df.columns.get_loc(7576688)"
      ],
      "execution_count": 0,
      "outputs": [
        {
          "output_type": "execute_result",
          "data": {
            "text/plain": [
              "1533"
            ]
          },
          "metadata": {
            "tags": []
          },
          "execution_count": 119
        }
      ]
    },
    {
      "metadata": {
        "id": "YqXkwsqQcqjx",
        "colab_type": "code",
        "outputId": "77540b15-a590-4b96-d48f-e98576088607",
        "colab": {
          "base_uri": "https://localhost:8080/",
          "height": 106
        }
      },
      "cell_type": "code",
      "source": [
        "result_unwrap[1530:1535]"
      ],
      "execution_count": 0,
      "outputs": [
        {
          "output_type": "execute_result",
          "data": {
            "text/plain": [
              "[array([9.9984968e-01, 1.5024767e-04], dtype=float32),\n",
              " array([9.9986899e-01, 1.3095887e-04], dtype=float32),\n",
              " array([9.9981815e-01, 1.8189823e-04], dtype=float32),\n",
              " array([9.9986064e-01, 1.3937514e-04], dtype=float32),\n",
              " array([0.52681094, 0.47318903], dtype=float32)]"
            ]
          },
          "metadata": {
            "tags": []
          },
          "execution_count": 120
        }
      ]
    },
    {
      "metadata": {
        "id": "KlYpAVFYch-0",
        "colab_type": "code",
        "outputId": "f689b649-b00a-485c-bb76-8a35d4182212",
        "colab": {
          "base_uri": "https://localhost:8080/",
          "height": 35
        }
      },
      "cell_type": "code",
      "source": [
        "label_df.columns[1533]"
      ],
      "execution_count": 0,
      "outputs": [
        {
          "output_type": "execute_result",
          "data": {
            "text/plain": [
              "7576688"
            ]
          },
          "metadata": {
            "tags": []
          },
          "execution_count": 121
        }
      ]
    },
    {
      "metadata": {
        "id": "RzJkn3fzddGU",
        "colab_type": "code",
        "outputId": "02c0bc7d-5fd7-4e1c-bbeb-6227cbd8132c",
        "colab": {
          "base_uri": "https://localhost:8080/",
          "height": 106
        }
      },
      "cell_type": "code",
      "source": [
        "result_unwrap[1530:1535]"
      ],
      "execution_count": 0,
      "outputs": [
        {
          "output_type": "execute_result",
          "data": {
            "text/plain": [
              "[array([9.9984968e-01, 1.5024767e-04], dtype=float32),\n",
              " array([9.9986899e-01, 1.3095887e-04], dtype=float32),\n",
              " array([9.9981815e-01, 1.8189823e-04], dtype=float32),\n",
              " array([9.9986064e-01, 1.3937514e-04], dtype=float32),\n",
              " array([0.52681094, 0.47318903], dtype=float32)]"
            ]
          },
          "metadata": {
            "tags": []
          },
          "execution_count": 155
        }
      ]
    },
    {
      "metadata": {
        "id": "s9gk1WDRnF2B",
        "colab_type": "code",
        "outputId": "9c089b87-d10c-4a00-9cc1-9798105633e2",
        "colab": {
          "base_uri": "https://localhost:8080/",
          "height": 35
        }
      },
      "cell_type": "code",
      "source": [
        "[one[\"index\"] for one in tupples[1530:1535]]"
      ],
      "execution_count": 0,
      "outputs": [
        {
          "output_type": "execute_result",
          "data": {
            "text/plain": [
              "['0_7575179', '0_7575572', '0_7575840', '0_7576688', '0_7577750']"
            ]
          },
          "metadata": {
            "tags": []
          },
          "execution_count": 162
        }
      ]
    },
    {
      "metadata": {
        "id": "V04jo95JnFne",
        "colab_type": "code",
        "outputId": "12c05729-20b1-44da-ea0c-d32e45715bff",
        "colab": {
          "base_uri": "https://localhost:8080/",
          "height": 90
        }
      },
      "cell_type": "code",
      "source": [
        "tupples[0]"
      ],
      "execution_count": 0,
      "outputs": [
        {
          "output_type": "execute_result",
          "data": {
            "text/plain": [
              "{'claim_app': '\\n \\n  1 . A method to aggregate, filter, and share energy data for analysis, the method comprising:\\n receiving first data associated with a first electrical circuit, the first data having a first protocol; \\n sampling the first data at a first sampling rate to generate first digital data, wherein the first sampling rate is substantially continuous; and \\n transmitting reporting digital data over a network having a network protocol different from the first protocol, the reporting digital data comprising at least the first digital data, wherein the reporting digital data is transmitted at a reporting rate that is decoupled from the first sampling rate. \\n \\n \\n \\n  2 . The method of  claim 1  further comprising:\\n receiving second data associated with a second electrical circuit, the second data having a second protocol different from the first protocol; and \\n sampling the second data at a second sampling rate to generate second digital data, wherein the second sampling rate is substantially continuous; \\n wherein the network protocol is different from the first protocol and the second protocol, wherein the reporting digital data comprises at least one of the first digital data and the second digital data, and wherein the reporting digital data is transmitted at the reporting rate that is decoupled from the first sampling rate and the second sampling rate. \\n \\n \\n \\n  3 . The method of  claim 1  wherein the reporting rate is substantially continuous. \\n \\n \\n  4 . The method of  claim 2  further comprising:\\n validating the first digital data and the second digital data to remove erroneous data points and to provide validated data; \\n removing redundant data points from the validated data to provide reduced data; and \\n transmitting messages based at least in part on the reduced data over the network. \\n \\n \\n \\n  5 . The method of  claim 2  further comprising analyzing the first data and the second data and transmitting messages comprising control signals for load control of at least one of the first and the second electrical circuits based on the analysis of the first data and the second data. \\n \\n \\n  6 . The method of  claim 2  further comprising receiving control signals for load control of at least one of the first electrical circuit and the second electrical circuit. \\n \\n \\n  7 . The method of  claim 1  wherein the network comprises the Internet, wherein the network is accessed by one or more of wired access and wireless access. \\n \\n \\n  8 . The method of  claim 1  wherein the network comprises one or more servers in a cloud configuration. \\n \\n \\n  9 . The method of  claim 2  further comprising storing at least one of the first digital data, the second digital data, and the reporting digital data until confirmation that the third digital data is successfully transmitted over the network. \\n \\n \\n  10 . The method of  claim 1  wherein receiving the first electrical signal comprises receiving at least one of amplitude, phase, voltage, current, fundamental energy component, harmonic energy components, intermodulation energy components, and transient energy components associated with the first electrical signal. \\n \\n \\n  11 . The method of  claim 1  wherein the first sampling rate is between approximately once every 15 minutes to approximately 1 MHz. \\n \\n \\n  12 . An apparatus to aggregate, filter, and share energy data for analysis, the apparatus comprising:\\n a first input configured to receive first data associated with a first electrical circuit, the first data having a first protocol; \\n first circuitry configured to sample the first data at a first sampling rate to generate first digital data, wherein the first sampling rate is substantially continuous; and \\n a communication port configured to transmit reporting digital data over a network having a network protocol different from the first protocol, the reporting digital data comprising at least the first digital data, wherein the reporting digital data is transmitted at a reporting rate that is decoupled from the first sampling rate. \\n \\n \\n \\n  13 . The apparatus of  claim 12  further comprising:\\n a second input configured to receive second data associated with a second electrical circuit, the second data having a second protocol different from the first protocol; and \\n second circuitry configured to sample the second data at a second sampling rate to generate second digital data, wherein the second sampling rate is substantially continuous; \\n wherein the communication port is further configured to transmit the reporting digital data over the network having the network protocol different from the first protocol and the second protocol, the reporting digital data comprising at least one of the first digital data and the second digital data, and wherein the reporting digital data is transmitted at the reporting rate that is decoupled from the first sampling rate and the second sampling rate. \\n \\n \\n \\n  14 . The apparatus of  claim 12  wherein the reporting rate is substantially continuous. \\n \\n \\n  15 . The apparatus of  claim 13  further comprising:\\n computer hardware configured to validate the first digital data and the second digital data to remove erroneous data points and to provide validated data; and \\n computer hardware configured to remove redundant data points from the validated data to provide reduced data; \\n wherein the communication port is further configured to transmit messages based at least in part on the reduced data over the network. \\n \\n \\n \\n  16 . The apparatus of  claim 15  further comprising computer hardware configured to perform energy calculations on the reduced data to provide calculated energy data, wherein the computer hardware comprises cloud-based servers. \\n \\n \\n  17 . The apparatus of  claim 16  wherein the calculated energy data comprises at least one of line-to-line and line-to-current voltage, total power, active power, reactive power, line-to-line and line-to-neutral current, power factor, fundamental and harmonic total energy per phase, fundamental and harmonic total energy for the sum of phases, fundamental and harmonic active energy per phase, fundamental and harmonic active energy for the sum of phases, fundamental and harmonic reactive energy per phase, fundamental and harmonic reactive energy for the sum of phases, frequency, harmonic frequency, gas usage, chilled water usage, hot water usage, and total energy usage. \\n \\n \\n  18 . The apparatus of  claim 13  further comprising analytics configured to analyze the first data and the second data and to provide messages comprising control signals for load control of at least one of the first electrical circuit and the second electrical circuit based on the analysis of the first data and the second data. \\n \\n \\n  19 . The apparatus of  claim 13  wherein the communication port is further configured to receive control signals for load control of at least one of the first electrical circuit and the second electrical circuit. \\n \\n \\n  20 . The apparatus of  claim 12  wherein the network comprises the Internet, and wherein the network is accessed by one or more of wired access and wireless access. \\n \\n \\n  21 . The apparatus of  claim 12  wherein the network comprises one or more servers in a cloud configuration. \\n \\n \\n  22 . The apparatus of  claim 13  further comprising memory configured to store at least one of the first digital data, the second digital data, and the reporting digital data until confirmation that the reporting digital data is successfully transmitted over the network. \\n \\n \\n  23 . The apparatus of  claim 12  wherein the first electrical signal comprises at least one of amplitude, phase, voltage, current, fundamental energy component, harmonic energy components, intermodulation energy components, and transient energy components associated with first electrical signal. \\n \\n \\n  24 . The apparatus of  claim 12  wherein the first sampling rate is between approximately once every 15 minutes to approximately 1 MHz. \\n \\n',\n",
              " 'claim_cited_grant': '\\n \\n 1. A tool organizer for mounting to and adapted for use with a vehicle lift rack having support arms, said tool organizer comprising:\\n four upstanding walls depending from a base and forming a storage volume for storing a plurality of tools and parts;  \\n a selectively articulating lid enclosing said storage volume;  \\n adjustable attachment means depending from said storage volume, said attachment means removably attachable to said support arms for supporting said tool organizer by gravity impingement;  \\n a U-shaped ring affixed to an external portion of at least one of said walls, said ring for supporting a hand tool;  \\n a support plate projected from a front of said tool organizer and co-extensive with said base;  \\n a plurality of intermediate apertures formed in said support plate, said plurality of intermediate apertures adapted sized to accommodate intermediate and large hand tools;  \\n a plurality of small apertures formed in said support plate, said plurality of small apertures adapted to accommodate small hand tools;  \\n at least one large aperture formed in said support plate, said at least one large aperture adapted to accommodate a container.  \\n \\n \\n \\n 2. The tool organizer of  claim 1  further comprising a slidably retained storage drawer provided beneath said base and said support plate for additional storage area, said base and said support plate operating as an enclosure for said storage drawer. \\n \\n \\n 3. The tool organizer of  claim 2 , wherein a face of said storage drawer is co-extensive with an anterior margin of said support plate, said storage drawer further comprising a handle for easily grasping for selectively opening and closing said storage drawer. \\n \\n \\n 4. The tool organizer of  claim 1 , wherein said tool organizer rests cantilevered to said support arms, thereby positioning said storage volume below a horizontal level of said support arms. \\n \\n \\n 5. The tool organizer of  claim 1 , wherein said four upstanding walls comprise a front wall opposite a rear wall, a first sidewall opposite a second sidewall, wherein said first sidewall and said second sidewall are intermediately disposed between said front wall and said rear wall. \\n \\n \\n 6. The tool organizer of  claim 5 , wherein said rear wall comprises a greater vertical profile than said front wall for providing ease of access to said storage volume. \\n \\n \\n 7. The tool organizer of  claim 5 , wherein said first sidewall and said second sidewall are inclined from said front wall to said rear wall for providing ease of access to said storage volume. \\n \\n \\n 8. The tool organizer of  claim 1 , wherein said lid is affixed to said storage volume by an articulating hinge. \\n \\n \\n 9. The tool organizer of  claim 1 , wherein said lid comprises a lock for securing contents of said storage volume from unauthorized removal and theft. \\n \\n \\n 10. The tool organizer of  claim 1 , wherein said attachment means comprise at least one hook adjustable in length to accommodate variations in widths of said support arms. \\n \\n \\n 11. The tool organizer of  claim 1 , wherein at least one of said upstanding walls comprises magnetic properties for attracting and supporting magnetic objects. \\n \\n \\n 12. The tool organizer of  claim 1 , wherein said tool organizer comprises a color in a general class of yellow for providing visual indication of said tool organizer location. \\n \\n',\n",
              " 'index': '0_6837383'}"
            ]
          },
          "metadata": {
            "tags": []
          },
          "execution_count": 165
        }
      ]
    },
    {
      "metadata": {
        "id": "VKwLW5pDnwmd",
        "colab_type": "code",
        "outputId": "4d2f4fd9-f8cd-4557-f9ff-7be15a196d2e",
        "colab": {
          "base_uri": "https://localhost:8080/",
          "height": 35
        }
      },
      "cell_type": "code",
      "source": [
        "label_df.columns[0]"
      ],
      "execution_count": 0,
      "outputs": [
        {
          "output_type": "execute_result",
          "data": {
            "text/plain": [
              "6837383"
            ]
          },
          "metadata": {
            "tags": []
          },
          "execution_count": 166
        }
      ]
    },
    {
      "metadata": {
        "id": "ZHAPWYF6nwXE",
        "colab_type": "code",
        "colab": {}
      },
      "cell_type": "code",
      "source": [
        ""
      ],
      "execution_count": 0,
      "outputs": []
    },
    {
      "metadata": {
        "id": "8J2v-vXtdob-",
        "colab_type": "code",
        "outputId": "6c1a9014-1f69-449a-cd2a-eaf45cf075c5",
        "colab": {
          "base_uri": "https://localhost:8080/",
          "height": 35
        }
      },
      "cell_type": "code",
      "source": [
        "len(label_df.columns)"
      ],
      "execution_count": 0,
      "outputs": [
        {
          "output_type": "execute_result",
          "data": {
            "text/plain": [
              "2524"
            ]
          },
          "metadata": {
            "tags": []
          },
          "execution_count": 128
        }
      ]
    },
    {
      "metadata": {
        "id": "TcewudgjjlEI",
        "colab_type": "code",
        "colab": {}
      },
      "cell_type": "code",
      "source": [
        "first_res = [tup[1] for tup in result_unwrap[0:2524]]"
      ],
      "execution_count": 0,
      "outputs": []
    },
    {
      "metadata": {
        "id": "qpaIv3uWjk0W",
        "colab_type": "code",
        "outputId": "7bbc6797-1e4e-4a70-c2bb-083d29ccd74a",
        "colab": {
          "base_uri": "https://localhost:8080/",
          "height": 35
        }
      },
      "cell_type": "code",
      "source": [
        "first_res.index(max(first_res))"
      ],
      "execution_count": 0,
      "outputs": [
        {
          "output_type": "execute_result",
          "data": {
            "text/plain": [
              "2429"
            ]
          },
          "metadata": {
            "tags": []
          },
          "execution_count": 135
        }
      ]
    },
    {
      "metadata": {
        "id": "qZaZ7CANdoK6",
        "colab_type": "code",
        "outputId": "52fdd45b-0d92-4830-e675-9795b109667b",
        "colab": {
          "base_uri": "https://localhost:8080/",
          "height": 35
        }
      },
      "cell_type": "code",
      "source": [
        "result_unwrap[2429]"
      ],
      "execution_count": 0,
      "outputs": [
        {
          "output_type": "execute_result",
          "data": {
            "text/plain": [
              "array([9.6167554e-05, 9.9990380e-01], dtype=float32)"
            ]
          },
          "metadata": {
            "tags": []
          },
          "execution_count": 136
        }
      ]
    },
    {
      "metadata": {
        "id": "xgs2ALr9kFPF",
        "colab_type": "code",
        "outputId": "15584b57-d6bd-4c61-e525-e10f2c7aebbf",
        "colab": {
          "base_uri": "https://localhost:8080/",
          "height": 1795
        }
      },
      "cell_type": "code",
      "source": [
        "sorted(first_res, reverse=True)[0:100]"
      ],
      "execution_count": 0,
      "outputs": [
        {
          "output_type": "execute_result",
          "data": {
            "text/plain": [
              "[0.9999038,\n",
              " 0.9999002,\n",
              " 0.9999,\n",
              " 0.9998981,\n",
              " 0.9998971,\n",
              " 0.99989426,\n",
              " 0.9998926,\n",
              " 0.9998896,\n",
              " 0.9998851,\n",
              " 0.9998845,\n",
              " 0.9998822,\n",
              " 0.9998683,\n",
              " 0.99986625,\n",
              " 0.99986136,\n",
              " 0.9998572,\n",
              " 0.999851,\n",
              " 0.99984765,\n",
              " 0.99984276,\n",
              " 0.99983644,\n",
              " 0.9998337,\n",
              " 0.9998331,\n",
              " 0.99982184,\n",
              " 0.9998141,\n",
              " 0.9998128,\n",
              " 0.99981123,\n",
              " 0.99979824,\n",
              " 0.9997905,\n",
              " 0.99977726,\n",
              " 0.9997663,\n",
              " 0.9997607,\n",
              " 0.99974984,\n",
              " 0.9997284,\n",
              " 0.99970305,\n",
              " 0.99966955,\n",
              " 0.99966323,\n",
              " 0.99964607,\n",
              " 0.99948835,\n",
              " 0.9994863,\n",
              " 0.9994686,\n",
              " 0.9994173,\n",
              " 0.9993445,\n",
              " 0.99932206,\n",
              " 0.9992962,\n",
              " 0.99916995,\n",
              " 0.99912757,\n",
              " 0.99909306,\n",
              " 0.9990852,\n",
              " 0.9990293,\n",
              " 0.9989574,\n",
              " 0.9989573,\n",
              " 0.99878114,\n",
              " 0.9985979,\n",
              " 0.99844414,\n",
              " 0.9983937,\n",
              " 0.9983798,\n",
              " 0.99776447,\n",
              " 0.99763006,\n",
              " 0.99744403,\n",
              " 0.99735945,\n",
              " 0.9972683,\n",
              " 0.99682057,\n",
              " 0.99669987,\n",
              " 0.9965874,\n",
              " 0.9965056,\n",
              " 0.9963832,\n",
              " 0.9958139,\n",
              " 0.9955245,\n",
              " 0.9948787,\n",
              " 0.9948294,\n",
              " 0.9942055,\n",
              " 0.9940918,\n",
              " 0.99350864,\n",
              " 0.9931433,\n",
              " 0.99291205,\n",
              " 0.9925493,\n",
              " 0.9902334,\n",
              " 0.987956,\n",
              " 0.98655933,\n",
              " 0.9856634,\n",
              " 0.9856187,\n",
              " 0.9761249,\n",
              " 0.9757157,\n",
              " 0.9732617,\n",
              " 0.96547914,\n",
              " 0.9610973,\n",
              " 0.96061105,\n",
              " 0.9519753,\n",
              " 0.9473898,\n",
              " 0.9363126,\n",
              " 0.9313812,\n",
              " 0.91441923,\n",
              " 0.90575,\n",
              " 0.9054965,\n",
              " 0.87737584,\n",
              " 0.81888705,\n",
              " 0.81884176,\n",
              " 0.71857375,\n",
              " 0.6737001,\n",
              " 0.66910595,\n",
              " 0.65066874]"
            ]
          },
          "metadata": {
            "tags": []
          },
          "execution_count": 146
        }
      ]
    },
    {
      "metadata": {
        "id": "_hZJdFcTkE5g",
        "colab_type": "code",
        "colab": {}
      },
      "cell_type": "code",
      "source": [
        ""
      ],
      "execution_count": 0,
      "outputs": []
    },
    {
      "metadata": {
        "id": "wPTZFnDCpHFd",
        "colab_type": "text"
      },
      "cell_type": "markdown",
      "source": [
        "First application is not so impressive result. Try second one."
      ]
    },
    {
      "metadata": {
        "id": "vv_EotAolNXb",
        "colab_type": "code",
        "colab": {}
      },
      "cell_type": "code",
      "source": [
        "one_res = [tup[1] for tup in result_unwrap[2524*1:2524*2]]"
      ],
      "execution_count": 0,
      "outputs": []
    },
    {
      "metadata": {
        "id": "qhQvYwxmlZeB",
        "colab_type": "code",
        "outputId": "19d6e04e-a090-4f45-b792-0dab94d44601",
        "colab": {
          "base_uri": "https://localhost:8080/",
          "height": 53
        }
      },
      "cell_type": "code",
      "source": [
        "citations_info_target[citations_info_target[\"app_id\"]==13137006].parsed"
      ],
      "execution_count": 0,
      "outputs": [
        {
          "output_type": "execute_result",
          "data": {
            "text/plain": [
              "1150    6856341\n",
              "Name: parsed, dtype: int64"
            ]
          },
          "metadata": {
            "tags": []
          },
          "execution_count": 148
        }
      ]
    },
    {
      "metadata": {
        "id": "nNakyIE6lZP2",
        "colab_type": "code",
        "outputId": "de59334b-d471-4274-f094-ff1635c94820",
        "colab": {
          "base_uri": "https://localhost:8080/",
          "height": 35
        }
      },
      "cell_type": "code",
      "source": [
        "label_df.columns.get_loc(6856341)"
      ],
      "execution_count": 0,
      "outputs": [
        {
          "output_type": "execute_result",
          "data": {
            "text/plain": [
              "43"
            ]
          },
          "metadata": {
            "tags": []
          },
          "execution_count": 149
        }
      ]
    },
    {
      "metadata": {
        "id": "0_g8e-IflZDU",
        "colab_type": "code",
        "outputId": "89f5c679-5f6b-434f-8979-97dbae2de503",
        "colab": {
          "base_uri": "https://localhost:8080/",
          "height": 35
        }
      },
      "cell_type": "code",
      "source": [
        "one_res[43]"
      ],
      "execution_count": 0,
      "outputs": [
        {
          "output_type": "execute_result",
          "data": {
            "text/plain": [
              "0.9998958"
            ]
          },
          "metadata": {
            "tags": []
          },
          "execution_count": 167
        }
      ]
    },
    {
      "metadata": {
        "id": "FuDB-sLKojAp",
        "colab_type": "code",
        "outputId": "609c22bd-6561-42fd-d8e7-c990d44b9f53",
        "colab": {
          "base_uri": "https://localhost:8080/",
          "height": 35
        }
      },
      "cell_type": "code",
      "source": [
        "one_res.index(max(one_res))"
      ],
      "execution_count": 0,
      "outputs": [
        {
          "output_type": "execute_result",
          "data": {
            "text/plain": [
              "1862"
            ]
          },
          "metadata": {
            "tags": []
          },
          "execution_count": 168
        }
      ]
    },
    {
      "metadata": {
        "id": "zxAJ1zxuoiw2",
        "colab_type": "code",
        "outputId": "8492247a-35fb-40b5-d825-b0b39e91c2f6",
        "colab": {
          "base_uri": "https://localhost:8080/",
          "height": 35
        }
      },
      "cell_type": "code",
      "source": [
        "one_res[1862]"
      ],
      "execution_count": 0,
      "outputs": [
        {
          "output_type": "execute_result",
          "data": {
            "text/plain": [
              "0.99990904"
            ]
          },
          "metadata": {
            "tags": []
          },
          "execution_count": 169
        }
      ]
    },
    {
      "metadata": {
        "id": "sUiM1f7YotB9",
        "colab_type": "code",
        "outputId": "d041d66d-78b0-42af-c9f5-a49ad6bf6a5e",
        "colab": {
          "base_uri": "https://localhost:8080/",
          "height": 906
        }
      },
      "cell_type": "code",
      "source": [
        "sorted(one_res, reverse=True)[0:50]"
      ],
      "execution_count": 0,
      "outputs": [
        {
          "output_type": "execute_result",
          "data": {
            "text/plain": [
              "[0.99990904,\n",
              " 0.99990845,\n",
              " 0.9999075,\n",
              " 0.9999074,\n",
              " 0.999907,\n",
              " 0.99990594,\n",
              " 0.9999052,\n",
              " 0.999905,\n",
              " 0.99990475,\n",
              " 0.9999039,\n",
              " 0.9999038,\n",
              " 0.9999032,\n",
              " 0.9999031,\n",
              " 0.9999031,\n",
              " 0.99990296,\n",
              " 0.9999027,\n",
              " 0.9999021,\n",
              " 0.99990153,\n",
              " 0.9999014,\n",
              " 0.9999012,\n",
              " 0.99990106,\n",
              " 0.99990094,\n",
              " 0.99990046,\n",
              " 0.99990034,\n",
              " 0.9999,\n",
              " 0.99989974,\n",
              " 0.99989927,\n",
              " 0.999899,\n",
              " 0.9998988,\n",
              " 0.9998987,\n",
              " 0.9998982,\n",
              " 0.99989796,\n",
              " 0.9998976,\n",
              " 0.99989736,\n",
              " 0.9998964,\n",
              " 0.99989605,\n",
              " 0.9998958,\n",
              " 0.999895,\n",
              " 0.99989486,\n",
              " 0.9998944,\n",
              " 0.99989426,\n",
              " 0.9998933,\n",
              " 0.9998933,\n",
              " 0.99989307,\n",
              " 0.9998926,\n",
              " 0.9998921,\n",
              " 0.9998909,\n",
              " 0.99988914,\n",
              " 0.9998889,\n",
              " 0.9998882]"
            ]
          },
          "metadata": {
            "tags": []
          },
          "execution_count": 170
        }
      ]
    },
    {
      "metadata": {
        "id": "FQt0sORqosui",
        "colab_type": "code",
        "outputId": "b611c8da-375f-41c6-92a0-41892a13f1d2",
        "colab": {
          "base_uri": "https://localhost:8080/",
          "height": 35
        }
      },
      "cell_type": "code",
      "source": [
        "sorted(one_res, reverse=True).index(one_res[43])"
      ],
      "execution_count": 0,
      "outputs": [
        {
          "output_type": "execute_result",
          "data": {
            "text/plain": [
              "36"
            ]
          },
          "metadata": {
            "tags": []
          },
          "execution_count": 171
        }
      ]
    },
    {
      "metadata": {
        "id": "H4GNtg8Zosf6",
        "colab_type": "code",
        "colab": {}
      },
      "cell_type": "code",
      "source": [
        ""
      ],
      "execution_count": 0,
      "outputs": []
    },
    {
      "metadata": {
        "id": "B1g06P7pmSZ3",
        "colab_type": "code",
        "outputId": "4a2637ff-2eae-4633-e047-424e00f72bd4",
        "colab": {
          "base_uri": "https://localhost:8080/",
          "height": 35
        }
      },
      "cell_type": "code",
      "source": [
        "label_df.columns[43]"
      ],
      "execution_count": 0,
      "outputs": [
        {
          "output_type": "execute_result",
          "data": {
            "text/plain": [
              "6856341"
            ]
          },
          "metadata": {
            "tags": []
          },
          "execution_count": 153
        }
      ]
    },
    {
      "metadata": {
        "id": "lElqxZHYlNI7",
        "colab_type": "code",
        "outputId": "f5b2309e-e6d5-48a9-bf3c-2b6eadb2a297",
        "colab": {
          "base_uri": "https://localhost:8080/",
          "height": 35
        }
      },
      "cell_type": "code",
      "source": [
        "len(one_res)"
      ],
      "execution_count": 0,
      "outputs": [
        {
          "output_type": "execute_result",
          "data": {
            "text/plain": [
              "2524"
            ]
          },
          "metadata": {
            "tags": []
          },
          "execution_count": 152
        }
      ]
    },
    {
      "metadata": {
        "id": "ZXv9hg01b9Yo",
        "colab_type": "code",
        "outputId": "9ad3a134-a86d-4357-d1a8-d551620601c8",
        "colab": {
          "base_uri": "https://localhost:8080/",
          "height": 35
        }
      },
      "cell_type": "code",
      "source": [
        "list(test_fdict.keys())"
      ],
      "execution_count": 0,
      "outputs": [
        {
          "output_type": "execute_result",
          "data": {
            "text/plain": [
              "['input_ids', 'input_mask', 'segment_ids', 'label_ids']"
            ]
          },
          "metadata": {
            "tags": []
          },
          "execution_count": 109
        }
      ]
    },
    {
      "metadata": {
        "id": "8GRinEnwb2gC",
        "colab_type": "code",
        "outputId": "07c59346-0d93-4749-fd41-112849b0c5a6",
        "colab": {
          "base_uri": "https://localhost:8080/",
          "height": 204
        }
      },
      "cell_type": "code",
      "source": [
        "testset_app_df.head()"
      ],
      "execution_count": 0,
      "outputs": [
        {
          "output_type": "execute_result",
          "data": {
            "text/html": [
              "<div>\n",
              "<style scoped>\n",
              "    .dataframe tbody tr th:only-of-type {\n",
              "        vertical-align: middle;\n",
              "    }\n",
              "\n",
              "    .dataframe tbody tr th {\n",
              "        vertical-align: top;\n",
              "    }\n",
              "\n",
              "    .dataframe thead th {\n",
              "        text-align: right;\n",
              "    }\n",
              "</style>\n",
              "<table border=\"1\" class=\"dataframe\">\n",
              "  <thead>\n",
              "    <tr style=\"text-align: right;\">\n",
              "      <th></th>\n",
              "      <th>app_id</th>\n",
              "      <th>xml</th>\n",
              "    </tr>\n",
              "  </thead>\n",
              "  <tbody>\n",
              "    <tr>\n",
              "      <th>0</th>\n",
              "      <td>14307191</td>\n",
              "      <td>&lt;us-patent-application lang=\"EN\" dtd-version=\"...</td>\n",
              "    </tr>\n",
              "    <tr>\n",
              "      <th>1</th>\n",
              "      <td>13137006</td>\n",
              "      <td>&lt;us-patent-application lang=\"EN\" dtd-version=\"...</td>\n",
              "    </tr>\n",
              "    <tr>\n",
              "      <th>2</th>\n",
              "      <td>12741959</td>\n",
              "      <td>&lt;us-patent-application lang=\"EN\" dtd-version=\"...</td>\n",
              "    </tr>\n",
              "    <tr>\n",
              "      <th>3</th>\n",
              "      <td>12643447</td>\n",
              "      <td>&lt;us-patent-application lang=\"EN\" dtd-version=\"...</td>\n",
              "    </tr>\n",
              "    <tr>\n",
              "      <th>4</th>\n",
              "      <td>14200253</td>\n",
              "      <td>&lt;us-patent-application lang=\"EN\" dtd-version=\"...</td>\n",
              "    </tr>\n",
              "  </tbody>\n",
              "</table>\n",
              "</div>"
            ],
            "text/plain": [
              "     app_id                                                xml\n",
              "0  14307191  <us-patent-application lang=\"EN\" dtd-version=\"...\n",
              "1  13137006  <us-patent-application lang=\"EN\" dtd-version=\"...\n",
              "2  12741959  <us-patent-application lang=\"EN\" dtd-version=\"...\n",
              "3  12643447  <us-patent-application lang=\"EN\" dtd-version=\"...\n",
              "4  14200253  <us-patent-application lang=\"EN\" dtd-version=\"..."
            ]
          },
          "metadata": {
            "tags": []
          },
          "execution_count": 105
        }
      ]
    },
    {
      "metadata": {
        "id": "35LMN9mXb2bZ",
        "colab_type": "code",
        "colab": {}
      },
      "cell_type": "code",
      "source": [
        ""
      ],
      "execution_count": 0,
      "outputs": []
    },
    {
      "metadata": {
        "id": "mpZJvpu3b2Vz",
        "colab_type": "code",
        "colab": {}
      },
      "cell_type": "code",
      "source": [
        ""
      ],
      "execution_count": 0,
      "outputs": []
    },
    {
      "metadata": {
        "id": "keeSLlGf_sF0",
        "colab_type": "code",
        "outputId": "9bf85050-40ea-48b3-d214-93650b7f7cd8",
        "colab": {
          "base_uri": "https://localhost:8080/",
          "height": 204
        }
      },
      "cell_type": "code",
      "source": [
        "test_data.head()"
      ],
      "execution_count": 0,
      "outputs": [
        {
          "output_type": "execute_result",
          "data": {
            "text/html": [
              "<div>\n",
              "<style scoped>\n",
              "    .dataframe tbody tr th:only-of-type {\n",
              "        vertical-align: middle;\n",
              "    }\n",
              "\n",
              "    .dataframe tbody tr th {\n",
              "        vertical-align: top;\n",
              "    }\n",
              "\n",
              "    .dataframe thead th {\n",
              "        text-align: right;\n",
              "    }\n",
              "</style>\n",
              "<table border=\"1\" class=\"dataframe\">\n",
              "  <thead>\n",
              "    <tr style=\"text-align: right;\">\n",
              "      <th></th>\n",
              "      <th>index</th>\n",
              "      <th>claim_app</th>\n",
              "      <th>claim_cited_grant</th>\n",
              "      <th>label</th>\n",
              "    </tr>\n",
              "  </thead>\n",
              "  <tbody>\n",
              "    <tr>\n",
              "      <th>0</th>\n",
              "      <td>0</td>\n",
              "      <td>1 . A rotational angle detection device for a ...</td>\n",
              "      <td>1. A tangible computer-readable medium having ...</td>\n",
              "      <td>not_entailment</td>\n",
              "    </tr>\n",
              "    <tr>\n",
              "      <th>1</th>\n",
              "      <td>1</td>\n",
              "      <td>1 . A method comprising:sensing electrocardiog...</td>\n",
              "      <td>1. A medical system, comprising:an implantable...</td>\n",
              "      <td>entailment</td>\n",
              "    </tr>\n",
              "    <tr>\n",
              "      <th>2</th>\n",
              "      <td>2</td>\n",
              "      <td>1 . A system for controlling temperature insid...</td>\n",
              "      <td>1. An integrated differential receiver for an ...</td>\n",
              "      <td>not_entailment</td>\n",
              "    </tr>\n",
              "    <tr>\n",
              "      <th>3</th>\n",
              "      <td>3</td>\n",
              "      <td>1 . A recording apparatus for recording update...</td>\n",
              "      <td>1. A method for indicating a priority of a Voi...</td>\n",
              "      <td>not_entailment</td>\n",
              "    </tr>\n",
              "    <tr>\n",
              "      <th>4</th>\n",
              "      <td>4</td>\n",
              "      <td>1 . Apparatus for moving a material within an ...</td>\n",
              "      <td>1. A wellbore packer having an expandable pack...</td>\n",
              "      <td>entailment</td>\n",
              "    </tr>\n",
              "  </tbody>\n",
              "</table>\n",
              "</div>"
            ],
            "text/plain": [
              "   index                                          claim_app  \\\n",
              "0      0  1 . A rotational angle detection device for a ...   \n",
              "1      1  1 . A method comprising:sensing electrocardiog...   \n",
              "2      2  1 . A system for controlling temperature insid...   \n",
              "3      3  1 . A recording apparatus for recording update...   \n",
              "4      4  1 . Apparatus for moving a material within an ...   \n",
              "\n",
              "                                   claim_cited_grant           label  \n",
              "0  1. A tangible computer-readable medium having ...  not_entailment  \n",
              "1  1. A medical system, comprising:an implantable...      entailment  \n",
              "2  1. An integrated differential receiver for an ...  not_entailment  \n",
              "3  1. A method for indicating a priority of a Voi...  not_entailment  \n",
              "4  1. A wellbore packer having an expandable pack...      entailment  "
            ]
          },
          "metadata": {
            "tags": []
          },
          "execution_count": 62
        }
      ]
    },
    {
      "metadata": {
        "id": "ICEWd1I9_r2q",
        "colab_type": "code",
        "colab": {}
      },
      "cell_type": "code",
      "source": [
        ""
      ],
      "execution_count": 0,
      "outputs": []
    },
    {
      "metadata": {
        "id": "6UM2bS5pxXAd",
        "colab_type": "code",
        "outputId": "1c60496d-0a32-4e32-a59a-a6a66f070f66",
        "colab": {
          "base_uri": "https://localhost:8080/",
          "height": 35
        }
      },
      "cell_type": "code",
      "source": [
        "1000*1000*(43.7/2502)/(60*60)"
      ],
      "execution_count": 0,
      "outputs": [
        {
          "output_type": "execute_result",
          "data": {
            "text/plain": [
              "4.85167421618261"
            ]
          },
          "metadata": {
            "tags": []
          },
          "execution_count": 63
        }
      ]
    },
    {
      "metadata": {
        "id": "TDHWECl7B4Wz",
        "colab_type": "code",
        "colab": {}
      },
      "cell_type": "code",
      "source": [
        ""
      ],
      "execution_count": 0,
      "outputs": []
    },
    {
      "metadata": {
        "id": "ADcrBo6VNsEN",
        "colab_type": "code",
        "colab": {}
      },
      "cell_type": "code",
      "source": [
        ""
      ],
      "execution_count": 0,
      "outputs": []
    },
    {
      "metadata": {
        "id": "caR8Rwm9QfiZ",
        "colab_type": "text"
      },
      "cell_type": "markdown",
      "source": [
        "### Below here is obsolete, update to merge to above"
      ]
    },
    {
      "metadata": {
        "id": "73tezxJ2IlmP",
        "colab_type": "text"
      },
      "cell_type": "markdown",
      "source": [
        "# Dataset setup\n",
        "\n",
        "Download dataframe from cloud storage"
      ]
    },
    {
      "metadata": {
        "id": "CqDD8Y4GDT0z",
        "colab_type": "text"
      },
      "cell_type": "markdown",
      "source": [
        "### Utility: Retrieve just claim. Remove all tags."
      ]
    },
    {
      "metadata": {
        "id": "CmKWzr0lC3hh",
        "colab_type": "code",
        "colab": {}
      },
      "cell_type": "code",
      "source": [
        "import re"
      ],
      "execution_count": 0,
      "outputs": []
    },
    {
      "metadata": {
        "id": "FzY08co8Da4M",
        "colab_type": "code",
        "colab": {}
      },
      "cell_type": "code",
      "source": [
        "CLAIM_PAT = re.compile(r'<claims[^>]*>(.*)</claims>',re.MULTILINE|re.DOTALL)\n",
        "TAG_PAT = re.compile(r\"<.*?>\")"
      ],
      "execution_count": 0,
      "outputs": []
    },
    {
      "metadata": {
        "id": "0VWnrVtaDa8I",
        "colab_type": "code",
        "colab": {}
      },
      "cell_type": "code",
      "source": [
        "def whole_xml_to_claim_xml(whole):\n",
        "    mat = CLAIM_PAT.search(whole)\n",
        "    return mat.group(1)\n",
        "  \n",
        "  \n",
        "def whole_xml_to_claim(whole):\n",
        "    return TAG_PAT.sub(' ', whole_xml_to_claim_xml(whole))"
      ],
      "execution_count": 0,
      "outputs": []
    },
    {
      "metadata": {
        "id": "FnpQY9QPEEZm",
        "colab_type": "text"
      },
      "cell_type": "markdown",
      "source": [
        "### Create label data"
      ]
    },
    {
      "metadata": {
        "id": "N7mxGmnWDa1z",
        "colab_type": "code",
        "colab": {}
      },
      "cell_type": "code",
      "source": [
        "def set_one_answer_appid(labeldf, oneappid):\n",
        "    cited_patids = citations_info_target[citations_info_target.app_id == oneappid].parsed\n",
        "    labeldf.loc[oneappid] = labeldf.columns.isin(cited_patids)\n",
        "    \n",
        "    \n",
        "def create_label_df():\n",
        "    label_df = pd.DataFrame(columns=grants_target_df.parsed.values, dtype=np.bool)\n",
        "    for appid in testset_app_df.app_id:\n",
        "        set_one_answer_appid(label_df, appid)\n",
        "    return label_df"
      ],
      "execution_count": 0,
      "outputs": []
    },
    {
      "metadata": {
        "id": "CpxC5w7lDazE",
        "colab_type": "code",
        "outputId": "c8350190-fdce-4016-bd29-d8e102e84f5d",
        "colab": {
          "base_uri": "https://localhost:8080/",
          "height": 35
        }
      },
      "cell_type": "code",
      "source": [
        "label_df = create_label_df()\n",
        "label_df.shape"
      ],
      "execution_count": 0,
      "outputs": [
        {
          "output_type": "execute_result",
          "data": {
            "text/plain": [
              "(1000, 2524)"
            ]
          },
          "metadata": {
            "tags": []
          },
          "execution_count": 25
        }
      ]
    },
    {
      "metadata": {
        "id": "aoNl8FueEdtz",
        "colab_type": "text"
      },
      "cell_type": "markdown",
      "source": [
        "Confirm label data"
      ]
    },
    {
      "metadata": {
        "id": "nyvv8LBOEW65",
        "colab_type": "code",
        "outputId": "cc235a18-ca73-4c0f-aa5b-74ed0c9c1ea3",
        "colab": {
          "base_uri": "https://localhost:8080/",
          "height": 35
        }
      },
      "cell_type": "code",
      "source": [
        "label_df.loc[14307191].idxmax()"
      ],
      "execution_count": 0,
      "outputs": [
        {
          "output_type": "execute_result",
          "data": {
            "text/plain": [
              "7576688"
            ]
          },
          "metadata": {
            "tags": []
          },
          "execution_count": 26
        }
      ]
    },
    {
      "metadata": {
        "id": "6i6yzF_6EW4r",
        "colab_type": "code",
        "outputId": "c6e30206-5a5b-4474-f019-0fb10944ff75",
        "colab": {
          "base_uri": "https://localhost:8080/",
          "height": 53
        }
      },
      "cell_type": "code",
      "source": [
        "citations_info_target[citations_info_target[\"app_id\"]==14307191].parsed"
      ],
      "execution_count": 0,
      "outputs": [
        {
          "output_type": "execute_result",
          "data": {
            "text/plain": [
              "698    7576688\n",
              "Name: parsed, dtype: int64"
            ]
          },
          "metadata": {
            "tags": []
          },
          "execution_count": 27
        }
      ]
    },
    {
      "metadata": {
        "id": "noSLnGUgEtDk",
        "colab_type": "text"
      },
      "cell_type": "markdown",
      "source": [
        "# Test set evaluation code\n",
        "\n",
        "For predcition, we need to preprocess input and it takes some times.\n",
        "So I split original code to preprocess function and evaluation function"
      ]
    },
    {
      "metadata": {
        "id": "YLOi9PxdFcTo",
        "colab_type": "code",
        "colab": {}
      },
      "cell_type": "code",
      "source": [
        "def test_set_preprocess(preprocess_func):\n",
        "  predictdf = pd.DataFrame(columns=grants_target_df.parsed.values, dtype=np.bool)\n",
        "   preprocess_func(testset_app_df[\"xml\"].map(whole_xml_to_claim))"
      ],
      "execution_count": 0,
      "outputs": []
    },
    {
      "metadata": {
        "id": "4ltpSUk2GuMN",
        "colab_type": "code",
        "colab": {}
      },
      "cell_type": "code",
      "source": [
        "testset_app_claims = testset_app_df[\"xml\"].map(whole_xml_to_claim)"
      ],
      "execution_count": 0,
      "outputs": []
    },
    {
      "metadata": {
        "id": "bpTz8mmmFciB",
        "colab_type": "code",
        "outputId": "3c741783-f1de-4b6d-8645-cc5dc2a83847",
        "colab": {
          "base_uri": "https://localhost:8080/",
          "height": 35
        }
      },
      "cell_type": "code",
      "source": [
        "testset_app_claims.shape"
      ],
      "execution_count": 0,
      "outputs": [
        {
          "output_type": "execute_result",
          "data": {
            "text/plain": [
              "(1000,)"
            ]
          },
          "metadata": {
            "tags": []
          },
          "execution_count": 46
        }
      ]
    },
    {
      "metadata": {
        "id": "D72KCORcEW1e",
        "colab_type": "code",
        "colab": {}
      },
      "cell_type": "code",
      "source": [
        "def predict_test_set(predict_func):\n",
        "    \"\"\"\n",
        "    predict_func(claims) return NxM of boolean. N is len(claims). M is rownum of grants_target_df.\n",
        "            value indicate n claim is cite patent of m row of grants_all_df.\n",
        "    \"\"\"\n",
        "    predictdf = pd.DataFrame(columns=grants_target_df.parsed.values, dtype=np.bool)\n",
        "    res = predict_func(testset_app_df[\"xml\"].map(whole_xml_to_claim))\n",
        "    for idx, appid in enumerate(testset_app_df.app_id):\n",
        "        predictdf.loc[appid] = res[idx, :]\n",
        "    return predictdf"
      ],
      "execution_count": 0,
      "outputs": []
    },
    {
      "metadata": {
        "id": "_iC8nlJJEWyl",
        "colab_type": "code",
        "colab": {}
      },
      "cell_type": "code",
      "source": [
        "def calc_TPs(preddf, labeldf):\n",
        "    return sum([sum(preddf.loc[one_appid][labeldf.loc[one_appid]]) for one_appid in testset_app_df.app_id])\n",
        "\n",
        "def calc_FPs(preddf, labeldf):\n",
        "    return sum([sum(preddf.loc[one_appid][~labeldf.loc[one_appid]]) for one_appid in testset_app_df.app_id])\n",
        "\n",
        "def calc_TNs(preddf, labeldf):\n",
        "    return sum([sum(preddf.loc[one_appid][~labeldf.loc[one_appid]] == False) for one_appid in testset_app_df.app_id])\n",
        "\n",
        "def calc_FNs(preddf, labeldf):\n",
        "    return sum([sum(preddf.loc[one_appid][labeldf.loc[one_appid]] == False) for one_appid in testset_app_df.app_id])\n",
        "\n",
        "def calc_TFPNs(preddf, labeldf):\n",
        "    return calc_TPs(preddf, labeldf), calc_FPs(preddf, labeldf), calc_TNs(preddf, labeldf), calc_FNs(preddf, labeldf)"
      ],
      "execution_count": 0,
      "outputs": []
    },
    {
      "metadata": {
        "id": "nvER9nyYEWvs",
        "colab_type": "code",
        "colab": {}
      },
      "cell_type": "code",
      "source": [
        "def calc_summary_TFPNs(TP, FP, TN, FN):\n",
        "    \"return acc, prec, recall, f1.\"\n",
        "    return pd.DataFrame(columns=[\"acc\", \"prec\", \"recall\", \"f1\"], data=[[(TP+TN)/(TP+FP+TN+FN), TP/(TP+FP), TP/(TP+FN), 2*TP/(2*TP+FP+FN)]])\n",
        "    \n",
        "def calc_summary(preddf, labeldf):\n",
        "    TP, FP, TN, FN = calc_TFPNs(preddf, labeldf)\n",
        "    return calc_summary_TFPNs(TP, FP, TN, FN)"
      ],
      "execution_count": 0,
      "outputs": []
    },
    {
      "metadata": {
        "id": "IEf1jkmkE8KN",
        "colab_type": "code",
        "colab": {}
      },
      "cell_type": "code",
      "source": [
        ""
      ],
      "execution_count": 0,
      "outputs": []
    },
    {
      "metadata": {
        "id": "eK1buhehE8HQ",
        "colab_type": "code",
        "colab": {}
      },
      "cell_type": "code",
      "source": [
        ""
      ],
      "execution_count": 0,
      "outputs": []
    },
    {
      "metadata": {
        "id": "TSnQF6DGE8Dz",
        "colab_type": "code",
        "colab": {}
      },
      "cell_type": "code",
      "source": [
        ""
      ],
      "execution_count": 0,
      "outputs": []
    },
    {
      "metadata": {
        "id": "Y9oe20DkE8At",
        "colab_type": "code",
        "colab": {}
      },
      "cell_type": "code",
      "source": [
        ""
      ],
      "execution_count": 0,
      "outputs": []
    },
    {
      "metadata": {
        "id": "FUIrPJXgHAzY",
        "colab_type": "text"
      },
      "cell_type": "markdown",
      "source": [
        "### Adjust testset data to bert\n",
        "\n",
        "On evaluation, we need some pair of\n",
        "app2017-grants2012 claims.\n",
        "\n",
        "I try to cerate one-app to all grants2012 pair and tokenize here.\n",
        "If it takes too long times, I'll write more clever code.\n",
        "\n"
      ]
    },
    {
      "metadata": {
        "id": "FjGx4m-iGcMn",
        "colab_type": "code",
        "colab": {}
      },
      "cell_type": "code",
      "source": [
        "grants_target_df[\"claim\"] = grants_target_df[\"xml\"].map(whole_xml_to_claim)"
      ],
      "execution_count": 0,
      "outputs": []
    },
    {
      "metadata": {
        "id": "F4TVptfsIsId",
        "colab_type": "code",
        "outputId": "b8d26fe7-f43c-4256-a4b3-cbcf027e0b52",
        "colab": {
          "base_uri": "https://localhost:8080/",
          "height": 204
        }
      },
      "cell_type": "code",
      "source": [
        "grants_target_df.head()"
      ],
      "execution_count": 0,
      "outputs": [
        {
          "output_type": "execute_result",
          "data": {
            "text/html": [
              "<div>\n",
              "<style scoped>\n",
              "    .dataframe tbody tr th:only-of-type {\n",
              "        vertical-align: middle;\n",
              "    }\n",
              "\n",
              "    .dataframe tbody tr th {\n",
              "        vertical-align: top;\n",
              "    }\n",
              "\n",
              "    .dataframe thead th {\n",
              "        text-align: right;\n",
              "    }\n",
              "</style>\n",
              "<table border=\"1\" class=\"dataframe\">\n",
              "  <thead>\n",
              "    <tr style=\"text-align: right;\">\n",
              "      <th></th>\n",
              "      <th>parsed</th>\n",
              "      <th>xml</th>\n",
              "      <th>claim</th>\n",
              "    </tr>\n",
              "  </thead>\n",
              "  <tbody>\n",
              "    <tr>\n",
              "      <th>0</th>\n",
              "      <td>6837383</td>\n",
              "      <td>&lt;us-patent-grant lang=\"EN\" dtd-version=\"v40 20...</td>\n",
              "      <td>\\n \\n 1. A tool organizer for mounting to and ...</td>\n",
              "    </tr>\n",
              "    <tr>\n",
              "      <th>1</th>\n",
              "      <td>6837647</td>\n",
              "      <td>&lt;us-patent-grant lang=\"EN\" dtd-version=\"v40 20...</td>\n",
              "      <td>\\n \\n 1. A modular crowd and traffic control b...</td>\n",
              "    </tr>\n",
              "    <tr>\n",
              "      <th>2</th>\n",
              "      <td>6837799</td>\n",
              "      <td>&lt;us-patent-grant lang=\"EN\" dtd-version=\"v40 20...</td>\n",
              "      <td>\\n \\n 1. A method of aligning a putter, compri...</td>\n",
              "    </tr>\n",
              "    <tr>\n",
              "      <th>3</th>\n",
              "      <td>6837893</td>\n",
              "      <td>&lt;us-patent-grant lang=\"EN\" dtd-version=\"v40 20...</td>\n",
              "      <td>\\n \\n 1. Apparatus for inserting a surgical fa...</td>\n",
              "    </tr>\n",
              "    <tr>\n",
              "      <th>4</th>\n",
              "      <td>6837910</td>\n",
              "      <td>&lt;us-patent-grant lang=\"EN\" dtd-version=\"v40 20...</td>\n",
              "      <td>\\n \\n 1. An apparatus for gasifying a liquid o...</td>\n",
              "    </tr>\n",
              "  </tbody>\n",
              "</table>\n",
              "</div>"
            ],
            "text/plain": [
              "    parsed                                                xml  \\\n",
              "0  6837383  <us-patent-grant lang=\"EN\" dtd-version=\"v40 20...   \n",
              "1  6837647  <us-patent-grant lang=\"EN\" dtd-version=\"v40 20...   \n",
              "2  6837799  <us-patent-grant lang=\"EN\" dtd-version=\"v40 20...   \n",
              "3  6837893  <us-patent-grant lang=\"EN\" dtd-version=\"v40 20...   \n",
              "4  6837910  <us-patent-grant lang=\"EN\" dtd-version=\"v40 20...   \n",
              "\n",
              "                                               claim  \n",
              "0  \\n \\n 1. A tool organizer for mounting to and ...  \n",
              "1  \\n \\n 1. A modular crowd and traffic control b...  \n",
              "2  \\n \\n 1. A method of aligning a putter, compri...  \n",
              "3  \\n \\n 1. Apparatus for inserting a surgical fa...  \n",
              "4  \\n \\n 1. An apparatus for gasifying a liquid o...  "
            ]
          },
          "metadata": {
            "tags": []
          },
          "execution_count": 48
        }
      ]
    },
    {
      "metadata": {
        "id": "ykvWfMErIsEl",
        "colab_type": "code",
        "outputId": "31bafe84-ac32-4b7a-e836-92c4bb913b47",
        "colab": {
          "base_uri": "https://localhost:8080/",
          "height": 35
        }
      },
      "cell_type": "code",
      "source": [
        "testset_app_claims.shape"
      ],
      "execution_count": 0,
      "outputs": [
        {
          "output_type": "execute_result",
          "data": {
            "text/plain": [
              "(1000,)"
            ]
          },
          "metadata": {
            "tags": []
          },
          "execution_count": 49
        }
      ]
    },
    {
      "metadata": {
        "id": "edUYw6QmI3ot",
        "colab_type": "code",
        "colab": {}
      },
      "cell_type": "code",
      "source": [
        "small_testset = testset_app_claims[0:10]"
      ],
      "execution_count": 0,
      "outputs": []
    },
    {
      "metadata": {
        "id": "Gpzp_yvXI3lt",
        "colab_type": "code",
        "outputId": "7489f326-e4ba-4e9a-9e06-380da83f9e21",
        "colab": {
          "base_uri": "https://localhost:8080/",
          "height": 35
        }
      },
      "cell_type": "code",
      "source": [
        "small_testset.shape"
      ],
      "execution_count": 0,
      "outputs": [
        {
          "output_type": "execute_result",
          "data": {
            "text/plain": [
              "(10,)"
            ]
          },
          "metadata": {
            "tags": []
          },
          "execution_count": 51
        }
      ]
    },
    {
      "metadata": {
        "id": "ZMmFqXe8I3jR",
        "colab_type": "code",
        "outputId": "73395656-2f39-4707-c631-ad20b509d2b6",
        "colab": {
          "base_uri": "https://localhost:8080/",
          "height": 35
        }
      },
      "cell_type": "code",
      "source": [
        "small_testset.index"
      ],
      "execution_count": 0,
      "outputs": [
        {
          "output_type": "execute_result",
          "data": {
            "text/plain": [
              "RangeIndex(start=0, stop=10, step=1)"
            ]
          },
          "metadata": {
            "tags": []
          },
          "execution_count": 54
        }
      ]
    },
    {
      "metadata": {
        "id": "iH3n_peyI3hL",
        "colab_type": "code",
        "colab": {}
      },
      "cell_type": "code",
      "source": [
        "small_grants = grants_target_df.head()"
      ],
      "execution_count": 0,
      "outputs": []
    },
    {
      "metadata": {
        "id": "uiw44FApJu2m",
        "colab_type": "code",
        "colab": {}
      },
      "cell_type": "code",
      "source": [
        "input_claims = small_testset\n",
        "candidate_grants = small_grants"
      ],
      "execution_count": 0,
      "outputs": []
    },
    {
      "metadata": {
        "id": "suPIbi6rSXRx",
        "colab_type": "code",
        "colab": {}
      },
      "cell_type": "code",
      "source": [
        "input_claims = small_testset\n",
        "candidate_grants = grants_target_df"
      ],
      "execution_count": 0,
      "outputs": []
    },
    {
      "metadata": {
        "id": "vVrmPz5nJjh9",
        "colab_type": "code",
        "colab": {}
      },
      "cell_type": "code",
      "source": [
        "tupples = []\n",
        "\n",
        "for i, claim in enumerate(input_claims):\n",
        "  tupples.extend([{\"index\":\"{}_{}\".format(i, grants.parsed), \"claim_app\":claim, \"claim_cited_grant\":grants.claim} for _, grants in candidate_grants.iterrows()])\n"
      ],
      "execution_count": 0,
      "outputs": []
    },
    {
      "metadata": {
        "id": "uZ1ZfSVZI3dm",
        "colab_type": "code",
        "outputId": "59c01588-4178-4f8e-b828-6d0ab9be060a",
        "colab": {
          "base_uri": "https://localhost:8080/",
          "height": 304
        }
      },
      "cell_type": "code",
      "source": [
        "tupples[0:5]"
      ],
      "execution_count": 0,
      "outputs": [
        {
          "output_type": "execute_result",
          "data": {
            "text/plain": [
              "[{'claim_app': '\\n \\n  1 . A method to aggregate, filter, and share energy data for analysis, the method comprising:\\n receiving first data associated with a first electrical circuit, the first data having a first protocol; \\n sampling the first data at a first sampling rate to generate first digital data, wherein the first sampling rate is substantially continuous; and \\n transmitting reporting digital data over a network having a network protocol different from the first protocol, the reporting digital data comprising at least the first digital data, wherein the reporting digital data is transmitted at a reporting rate that is decoupled from the first sampling rate. \\n \\n \\n \\n  2 . The method of  claim 1  further comprising:\\n receiving second data associated with a second electrical circuit, the second data having a second protocol different from the first protocol; and \\n sampling the second data at a second sampling rate to generate second digital data, wherein the second sampling rate is substantially continuous; \\n wherein the network protocol is different from the first protocol and the second protocol, wherein the reporting digital data comprises at least one of the first digital data and the second digital data, and wherein the reporting digital data is transmitted at the reporting rate that is decoupled from the first sampling rate and the second sampling rate. \\n \\n \\n \\n  3 . The method of  claim 1  wherein the reporting rate is substantially continuous. \\n \\n \\n  4 . The method of  claim 2  further comprising:\\n validating the first digital data and the second digital data to remove erroneous data points and to provide validated data; \\n removing redundant data points from the validated data to provide reduced data; and \\n transmitting messages based at least in part on the reduced data over the network. \\n \\n \\n \\n  5 . The method of  claim 2  further comprising analyzing the first data and the second data and transmitting messages comprising control signals for load control of at least one of the first and the second electrical circuits based on the analysis of the first data and the second data. \\n \\n \\n  6 . The method of  claim 2  further comprising receiving control signals for load control of at least one of the first electrical circuit and the second electrical circuit. \\n \\n \\n  7 . The method of  claim 1  wherein the network comprises the Internet, wherein the network is accessed by one or more of wired access and wireless access. \\n \\n \\n  8 . The method of  claim 1  wherein the network comprises one or more servers in a cloud configuration. \\n \\n \\n  9 . The method of  claim 2  further comprising storing at least one of the first digital data, the second digital data, and the reporting digital data until confirmation that the third digital data is successfully transmitted over the network. \\n \\n \\n  10 . The method of  claim 1  wherein receiving the first electrical signal comprises receiving at least one of amplitude, phase, voltage, current, fundamental energy component, harmonic energy components, intermodulation energy components, and transient energy components associated with the first electrical signal. \\n \\n \\n  11 . The method of  claim 1  wherein the first sampling rate is between approximately once every 15 minutes to approximately 1 MHz. \\n \\n \\n  12 . An apparatus to aggregate, filter, and share energy data for analysis, the apparatus comprising:\\n a first input configured to receive first data associated with a first electrical circuit, the first data having a first protocol; \\n first circuitry configured to sample the first data at a first sampling rate to generate first digital data, wherein the first sampling rate is substantially continuous; and \\n a communication port configured to transmit reporting digital data over a network having a network protocol different from the first protocol, the reporting digital data comprising at least the first digital data, wherein the reporting digital data is transmitted at a reporting rate that is decoupled from the first sampling rate. \\n \\n \\n \\n  13 . The apparatus of  claim 12  further comprising:\\n a second input configured to receive second data associated with a second electrical circuit, the second data having a second protocol different from the first protocol; and \\n second circuitry configured to sample the second data at a second sampling rate to generate second digital data, wherein the second sampling rate is substantially continuous; \\n wherein the communication port is further configured to transmit the reporting digital data over the network having the network protocol different from the first protocol and the second protocol, the reporting digital data comprising at least one of the first digital data and the second digital data, and wherein the reporting digital data is transmitted at the reporting rate that is decoupled from the first sampling rate and the second sampling rate. \\n \\n \\n \\n  14 . The apparatus of  claim 12  wherein the reporting rate is substantially continuous. \\n \\n \\n  15 . The apparatus of  claim 13  further comprising:\\n computer hardware configured to validate the first digital data and the second digital data to remove erroneous data points and to provide validated data; and \\n computer hardware configured to remove redundant data points from the validated data to provide reduced data; \\n wherein the communication port is further configured to transmit messages based at least in part on the reduced data over the network. \\n \\n \\n \\n  16 . The apparatus of  claim 15  further comprising computer hardware configured to perform energy calculations on the reduced data to provide calculated energy data, wherein the computer hardware comprises cloud-based servers. \\n \\n \\n  17 . The apparatus of  claim 16  wherein the calculated energy data comprises at least one of line-to-line and line-to-current voltage, total power, active power, reactive power, line-to-line and line-to-neutral current, power factor, fundamental and harmonic total energy per phase, fundamental and harmonic total energy for the sum of phases, fundamental and harmonic active energy per phase, fundamental and harmonic active energy for the sum of phases, fundamental and harmonic reactive energy per phase, fundamental and harmonic reactive energy for the sum of phases, frequency, harmonic frequency, gas usage, chilled water usage, hot water usage, and total energy usage. \\n \\n \\n  18 . The apparatus of  claim 13  further comprising analytics configured to analyze the first data and the second data and to provide messages comprising control signals for load control of at least one of the first electrical circuit and the second electrical circuit based on the analysis of the first data and the second data. \\n \\n \\n  19 . The apparatus of  claim 13  wherein the communication port is further configured to receive control signals for load control of at least one of the first electrical circuit and the second electrical circuit. \\n \\n \\n  20 . The apparatus of  claim 12  wherein the network comprises the Internet, and wherein the network is accessed by one or more of wired access and wireless access. \\n \\n \\n  21 . The apparatus of  claim 12  wherein the network comprises one or more servers in a cloud configuration. \\n \\n \\n  22 . The apparatus of  claim 13  further comprising memory configured to store at least one of the first digital data, the second digital data, and the reporting digital data until confirmation that the reporting digital data is successfully transmitted over the network. \\n \\n \\n  23 . The apparatus of  claim 12  wherein the first electrical signal comprises at least one of amplitude, phase, voltage, current, fundamental energy component, harmonic energy components, intermodulation energy components, and transient energy components associated with first electrical signal. \\n \\n \\n  24 . The apparatus of  claim 12  wherein the first sampling rate is between approximately once every 15 minutes to approximately 1 MHz. \\n \\n',\n",
              "  'claim_cited_grant': '\\n \\n 1. A tool organizer for mounting to and adapted for use with a vehicle lift rack having support arms, said tool organizer comprising:\\n four upstanding walls depending from a base and forming a storage volume for storing a plurality of tools and parts;  \\n a selectively articulating lid enclosing said storage volume;  \\n adjustable attachment means depending from said storage volume, said attachment means removably attachable to said support arms for supporting said tool organizer by gravity impingement;  \\n a U-shaped ring affixed to an external portion of at least one of said walls, said ring for supporting a hand tool;  \\n a support plate projected from a front of said tool organizer and co-extensive with said base;  \\n a plurality of intermediate apertures formed in said support plate, said plurality of intermediate apertures adapted sized to accommodate intermediate and large hand tools;  \\n a plurality of small apertures formed in said support plate, said plurality of small apertures adapted to accommodate small hand tools;  \\n at least one large aperture formed in said support plate, said at least one large aperture adapted to accommodate a container.  \\n \\n \\n \\n 2. The tool organizer of  claim 1  further comprising a slidably retained storage drawer provided beneath said base and said support plate for additional storage area, said base and said support plate operating as an enclosure for said storage drawer. \\n \\n \\n 3. The tool organizer of  claim 2 , wherein a face of said storage drawer is co-extensive with an anterior margin of said support plate, said storage drawer further comprising a handle for easily grasping for selectively opening and closing said storage drawer. \\n \\n \\n 4. The tool organizer of  claim 1 , wherein said tool organizer rests cantilevered to said support arms, thereby positioning said storage volume below a horizontal level of said support arms. \\n \\n \\n 5. The tool organizer of  claim 1 , wherein said four upstanding walls comprise a front wall opposite a rear wall, a first sidewall opposite a second sidewall, wherein said first sidewall and said second sidewall are intermediately disposed between said front wall and said rear wall. \\n \\n \\n 6. The tool organizer of  claim 5 , wherein said rear wall comprises a greater vertical profile than said front wall for providing ease of access to said storage volume. \\n \\n \\n 7. The tool organizer of  claim 5 , wherein said first sidewall and said second sidewall are inclined from said front wall to said rear wall for providing ease of access to said storage volume. \\n \\n \\n 8. The tool organizer of  claim 1 , wherein said lid is affixed to said storage volume by an articulating hinge. \\n \\n \\n 9. The tool organizer of  claim 1 , wherein said lid comprises a lock for securing contents of said storage volume from unauthorized removal and theft. \\n \\n \\n 10. The tool organizer of  claim 1 , wherein said attachment means comprise at least one hook adjustable in length to accommodate variations in widths of said support arms. \\n \\n \\n 11. The tool organizer of  claim 1 , wherein at least one of said upstanding walls comprises magnetic properties for attracting and supporting magnetic objects. \\n \\n \\n 12. The tool organizer of  claim 1 , wherein said tool organizer comprises a color in a general class of yellow for providing visual indication of said tool organizer location. \\n \\n',\n",
              "  'index': '0_6837383'},\n",
              " {'claim_app': '\\n \\n  1 . A method to aggregate, filter, and share energy data for analysis, the method comprising:\\n receiving first data associated with a first electrical circuit, the first data having a first protocol; \\n sampling the first data at a first sampling rate to generate first digital data, wherein the first sampling rate is substantially continuous; and \\n transmitting reporting digital data over a network having a network protocol different from the first protocol, the reporting digital data comprising at least the first digital data, wherein the reporting digital data is transmitted at a reporting rate that is decoupled from the first sampling rate. \\n \\n \\n \\n  2 . The method of  claim 1  further comprising:\\n receiving second data associated with a second electrical circuit, the second data having a second protocol different from the first protocol; and \\n sampling the second data at a second sampling rate to generate second digital data, wherein the second sampling rate is substantially continuous; \\n wherein the network protocol is different from the first protocol and the second protocol, wherein the reporting digital data comprises at least one of the first digital data and the second digital data, and wherein the reporting digital data is transmitted at the reporting rate that is decoupled from the first sampling rate and the second sampling rate. \\n \\n \\n \\n  3 . The method of  claim 1  wherein the reporting rate is substantially continuous. \\n \\n \\n  4 . The method of  claim 2  further comprising:\\n validating the first digital data and the second digital data to remove erroneous data points and to provide validated data; \\n removing redundant data points from the validated data to provide reduced data; and \\n transmitting messages based at least in part on the reduced data over the network. \\n \\n \\n \\n  5 . The method of  claim 2  further comprising analyzing the first data and the second data and transmitting messages comprising control signals for load control of at least one of the first and the second electrical circuits based on the analysis of the first data and the second data. \\n \\n \\n  6 . The method of  claim 2  further comprising receiving control signals for load control of at least one of the first electrical circuit and the second electrical circuit. \\n \\n \\n  7 . The method of  claim 1  wherein the network comprises the Internet, wherein the network is accessed by one or more of wired access and wireless access. \\n \\n \\n  8 . The method of  claim 1  wherein the network comprises one or more servers in a cloud configuration. \\n \\n \\n  9 . The method of  claim 2  further comprising storing at least one of the first digital data, the second digital data, and the reporting digital data until confirmation that the third digital data is successfully transmitted over the network. \\n \\n \\n  10 . The method of  claim 1  wherein receiving the first electrical signal comprises receiving at least one of amplitude, phase, voltage, current, fundamental energy component, harmonic energy components, intermodulation energy components, and transient energy components associated with the first electrical signal. \\n \\n \\n  11 . The method of  claim 1  wherein the first sampling rate is between approximately once every 15 minutes to approximately 1 MHz. \\n \\n \\n  12 . An apparatus to aggregate, filter, and share energy data for analysis, the apparatus comprising:\\n a first input configured to receive first data associated with a first electrical circuit, the first data having a first protocol; \\n first circuitry configured to sample the first data at a first sampling rate to generate first digital data, wherein the first sampling rate is substantially continuous; and \\n a communication port configured to transmit reporting digital data over a network having a network protocol different from the first protocol, the reporting digital data comprising at least the first digital data, wherein the reporting digital data is transmitted at a reporting rate that is decoupled from the first sampling rate. \\n \\n \\n \\n  13 . The apparatus of  claim 12  further comprising:\\n a second input configured to receive second data associated with a second electrical circuit, the second data having a second protocol different from the first protocol; and \\n second circuitry configured to sample the second data at a second sampling rate to generate second digital data, wherein the second sampling rate is substantially continuous; \\n wherein the communication port is further configured to transmit the reporting digital data over the network having the network protocol different from the first protocol and the second protocol, the reporting digital data comprising at least one of the first digital data and the second digital data, and wherein the reporting digital data is transmitted at the reporting rate that is decoupled from the first sampling rate and the second sampling rate. \\n \\n \\n \\n  14 . The apparatus of  claim 12  wherein the reporting rate is substantially continuous. \\n \\n \\n  15 . The apparatus of  claim 13  further comprising:\\n computer hardware configured to validate the first digital data and the second digital data to remove erroneous data points and to provide validated data; and \\n computer hardware configured to remove redundant data points from the validated data to provide reduced data; \\n wherein the communication port is further configured to transmit messages based at least in part on the reduced data over the network. \\n \\n \\n \\n  16 . The apparatus of  claim 15  further comprising computer hardware configured to perform energy calculations on the reduced data to provide calculated energy data, wherein the computer hardware comprises cloud-based servers. \\n \\n \\n  17 . The apparatus of  claim 16  wherein the calculated energy data comprises at least one of line-to-line and line-to-current voltage, total power, active power, reactive power, line-to-line and line-to-neutral current, power factor, fundamental and harmonic total energy per phase, fundamental and harmonic total energy for the sum of phases, fundamental and harmonic active energy per phase, fundamental and harmonic active energy for the sum of phases, fundamental and harmonic reactive energy per phase, fundamental and harmonic reactive energy for the sum of phases, frequency, harmonic frequency, gas usage, chilled water usage, hot water usage, and total energy usage. \\n \\n \\n  18 . The apparatus of  claim 13  further comprising analytics configured to analyze the first data and the second data and to provide messages comprising control signals for load control of at least one of the first electrical circuit and the second electrical circuit based on the analysis of the first data and the second data. \\n \\n \\n  19 . The apparatus of  claim 13  wherein the communication port is further configured to receive control signals for load control of at least one of the first electrical circuit and the second electrical circuit. \\n \\n \\n  20 . The apparatus of  claim 12  wherein the network comprises the Internet, and wherein the network is accessed by one or more of wired access and wireless access. \\n \\n \\n  21 . The apparatus of  claim 12  wherein the network comprises one or more servers in a cloud configuration. \\n \\n \\n  22 . The apparatus of  claim 13  further comprising memory configured to store at least one of the first digital data, the second digital data, and the reporting digital data until confirmation that the reporting digital data is successfully transmitted over the network. \\n \\n \\n  23 . The apparatus of  claim 12  wherein the first electrical signal comprises at least one of amplitude, phase, voltage, current, fundamental energy component, harmonic energy components, intermodulation energy components, and transient energy components associated with first electrical signal. \\n \\n \\n  24 . The apparatus of  claim 12  wherein the first sampling rate is between approximately once every 15 minutes to approximately 1 MHz. \\n \\n',\n",
              "  'claim_cited_grant': '\\n \\n 1. A modular crowd and traffic control barrier, comprising:\\n a plurality, of barrier sections with each barrier section of said plurality of barrier sections comprising a male end and a female end, a base portion and an upright portion having one or more projections at each said male end and said female end of each said barrier section;  \\n a plurality of reinforcing strips;  \\n a plurality of hinge pins;  \\n a tension member for attaching each reinforcing strip of said plurality of reinforcing strips to a respective said barrier section, wherein said tension member passes through aligned apertures in said reinforcing strip and said barrier section;  \\n at least one reinforcing bracket for spanning between two adjacent said barrier sections, said at least one reinforcing bracket having an aperture, wherein said at least one reinforcing bracket is to be retained in place by at least one said tension member of each said barrier section passing through the aperture in said reinforcing bracket,  \\n wherein for each said barrier section there is another barrier section of said plurality of barrier sections so that when said female end of a first said barrier section is brought adjacent to said male end of a second said barrier section, said one or more projections of each of said female end and of said male end mate with one another, thereby allowing a hinge pin of said plurality of hinge pins to be passable through said projections for articulating adjacent said barrier sections together; and,  \\n wherein said attachment of said plurality of reinforcing strips to said respective said barrier sections continues to permit adjacent said barrier sections to be articulated to one another, while increasing resistance of said modular crowd and traffic control barrier constructed from said plurality of barrier sections to lateral impact forces for traffic control.  \\n \\n \\n \\n 2. The modular crowd and traffic control barrier according to  claim 1 , wherein said upright portion of each said barrier section is comparatively narrow and said base portion is comparatively wide and includes, at said female end of said barrier section, a nose having a surface that is a first surface of rotation and, at said male end, a cavity having a surface that is a second surface of rotation, so that when adjacent said barrier sections are articulated to one another, said cavity accommodates said nose for preventing any gaps from opening up between said base portion of each said barrier section of adjacent said barrier sections as said barrier sections are articulated relative to one another about said hinge pin. \\n \\n \\n 3. The modular crowd and traffic control barrier according to  claim 1 , wherein there are two reinforcing strips of said plurality of reinforcing strips for each said barrier section with said means for attaching each said reinforcing strip to a respective said barrier section being adapted for attaching one said reinforcing strip to each side of a respective said barrier section. \\n \\n \\n 4. The modular crowd and traffic control barrier according to  claim 1 , wherein said tension member is a bolt to be tensioned by a cooperating nut. \\n \\n \\n 5. The modular crowd and traffic control barrier according to  claim 1 , wherein said tension member includes at least one washer for bearing against at least one of said barrier section or said reinforcing strip as said tension member is tensioned. \\n \\n \\n 6. The modular crowd and traffic control barrier according to  claim 5 , wherein said at least one washer is shaped for matching a shape of a recess surrounding the apertures in said reinforcing strip or said barrier section through which said tension member passes. \\n \\n \\n 7. The modular crowd and traffic control barrier according to  claim 1 , further comprising additional said tension members. \\n \\n \\n 8. The modular crowd and traffic control barrier according to  claim 1 , wherein at least one aperture in said reinforcing bracket is a substantially horizontal slot. \\n \\n \\n 9. The modular crowd and traffic control barrier according to  claim 1 , wherein said reinforcing bracket is located between said reinforcing strips and said barrier sections. \\n \\n \\n 10. The modular crowd and traffic control barrier according to  claim 1 , wherein said reinforcing bracket is located with said reinforcing strip being between said reinforcing bracket and said barrier section. \\n \\n \\n 11. The modular crowd and traffic control barrier according to  claim 1 , further comprising an additional reinforcing bracket with said reinforcing bracket and said additional reinforcing bracket spanning between two adjacent said barrier sections with said reinforcing bracket being on a first side of said barrier sections and said additional reinforcing bracket being on a second side of said barrier sections, said first side and said second side being opposite sides of said barrier sections, with said reinforcing bracket and said additional reinforcing bracket being retained in place by at least one said tension member of each said barrier section passing through apertures in said reinforcing bracket and said additional reinforcing bracket. \\n \\n \\n 12. The modular crowd and traffic control barrier according to  claim 1 , wherein each said barrier section of said plurality of barrier sections is substantially identical. \\n \\n \\n 13. The modular crowd and traffic control barrier according to  claim 1 , wherein for each said one or more projections on said first said end of said barrier section, a corresponding recess is provided on said second said end. \\n \\n \\n 14. The modular crowd and traffic control barrier according to  claim 13 , wherein for each said one or more projections a surface that is a surface of rotation is provided with said corresponding recess being correspondingly shaped. \\n \\n \\n 15. The modular crowd and traffic control barrier according to  claim 14 , wherein for each said one or more projections wherein said surface of rotation of each said one or more projections is part-cylindrical. \\n \\n \\n 16. The modular crowd and traffic control barrier according to  claim 2 , wherein each of said one or more projections of a said barrier section has a bore and, when said female end of said first said barrier section is brought adjacent to said male end of an adjacent said second said barrier section, so that said nose is accommodated in said cavity, said bore in each of said one or more projections lines up thereby allowing said hinge pin to be passed through said one or more projections for articulating said barrier sections together. \\n \\n \\n 17. The modular crowd and traffic control barrier according to  claim 16 , wherein said nose further includes a bore for allowing said hinge pin to pass through the bore of said nose. \\n \\n \\n 18. The modular crowd and traffic control barrier according to  claim 2 , wherein said hinge pin has a male thread for engaging with a female thread in a dome-shaped cap, said nose of said first said barrier section having a domed-shaped recess for accommodating said dome-shaped cap. \\n \\n \\n 19. The modular crowd and traffic control barrier according to  claim 1 , further comprising tension straps wherein said plurality of barrier sections are held together by said tension straps encircling adjacent said barrier sections, said tension straps crossing from a first side of said modular crowd and traffic control barrier to a second side of said modular crowd and traffic control barrier between said adjacent said barrier sections, said first side being a side opposite said second side of said modular crowd and traffic control barrier. \\n \\n \\n 20. The modular crowd and traffic control barrier according to  claim 19 , wherein said upright portion of each said barrier section has grooves for accommodating said tension straps. \\n \\n \\n 21. A modular crowd and traffic control barrier, comprising:\\n a plurality of barrier sections with each barrier section of said plurality of barrier sections comprising a base portion and an upright portion having one or more projections at each end of each said barrier section with a first said end being a female end of said barrier section and a second said end being a male end of said barrier section;  \\n a plurality of reinforcing strips;  \\n a plurality of hinge pins, said upright portion of each said barrier section is comparatively narrow and said base portion is comparatively wide and includes, at said female end of said barrier section, a nose having a surface that is a first surface of rotation and, at said male end, a cavity having a surface that is a second surface of rotation, so that when adjacent said barrier sections are articulated to one another, said cavity accommodates said nose for preventing any gaps from opening up between said base portion of each said barrier section of adjacent said barrier sections as said barrier sections are articulated relative to one another about a hinge pin of said plurality of hinge pins, said hinge pin having a male thread for engaging with a female thread in a dome-shaped cap, said nose of a first said barrier section having a domed-shaped recess for accommodating said dome-shaped cap; and,  \\n means for attaching each reinforcing, strip of said plurality of reinforcing strips to a respective said barrier section,  \\n wherein for each said barrier section there is another barrier section of said plurality of barrier sections so that when said female end of a first said barrier section is brought adjacent to said male end of a second said barrier section, said one or more projections of each of said female end and of said male end mate with one another, thereby allowing a hinge pin of said plurality of hinge pins to be passable through said projections for articulating adjacent said barrier sections together, and  \\n wherein said attachment of said plurality of reinforcing strips to said respective said barrier sections continues to permit adjacent said barrier sections to be articulated to one another, while increasing resistance of said modular crowd and traffic control barrier constructed from said plurality of barrier sections to lateral impact forces for traffic control. \\n \\n \\n',\n",
              "  'index': '0_6837647'},\n",
              " {'claim_app': '\\n \\n  1 . A method to aggregate, filter, and share energy data for analysis, the method comprising:\\n receiving first data associated with a first electrical circuit, the first data having a first protocol; \\n sampling the first data at a first sampling rate to generate first digital data, wherein the first sampling rate is substantially continuous; and \\n transmitting reporting digital data over a network having a network protocol different from the first protocol, the reporting digital data comprising at least the first digital data, wherein the reporting digital data is transmitted at a reporting rate that is decoupled from the first sampling rate. \\n \\n \\n \\n  2 . The method of  claim 1  further comprising:\\n receiving second data associated with a second electrical circuit, the second data having a second protocol different from the first protocol; and \\n sampling the second data at a second sampling rate to generate second digital data, wherein the second sampling rate is substantially continuous; \\n wherein the network protocol is different from the first protocol and the second protocol, wherein the reporting digital data comprises at least one of the first digital data and the second digital data, and wherein the reporting digital data is transmitted at the reporting rate that is decoupled from the first sampling rate and the second sampling rate. \\n \\n \\n \\n  3 . The method of  claim 1  wherein the reporting rate is substantially continuous. \\n \\n \\n  4 . The method of  claim 2  further comprising:\\n validating the first digital data and the second digital data to remove erroneous data points and to provide validated data; \\n removing redundant data points from the validated data to provide reduced data; and \\n transmitting messages based at least in part on the reduced data over the network. \\n \\n \\n \\n  5 . The method of  claim 2  further comprising analyzing the first data and the second data and transmitting messages comprising control signals for load control of at least one of the first and the second electrical circuits based on the analysis of the first data and the second data. \\n \\n \\n  6 . The method of  claim 2  further comprising receiving control signals for load control of at least one of the first electrical circuit and the second electrical circuit. \\n \\n \\n  7 . The method of  claim 1  wherein the network comprises the Internet, wherein the network is accessed by one or more of wired access and wireless access. \\n \\n \\n  8 . The method of  claim 1  wherein the network comprises one or more servers in a cloud configuration. \\n \\n \\n  9 . The method of  claim 2  further comprising storing at least one of the first digital data, the second digital data, and the reporting digital data until confirmation that the third digital data is successfully transmitted over the network. \\n \\n \\n  10 . The method of  claim 1  wherein receiving the first electrical signal comprises receiving at least one of amplitude, phase, voltage, current, fundamental energy component, harmonic energy components, intermodulation energy components, and transient energy components associated with the first electrical signal. \\n \\n \\n  11 . The method of  claim 1  wherein the first sampling rate is between approximately once every 15 minutes to approximately 1 MHz. \\n \\n \\n  12 . An apparatus to aggregate, filter, and share energy data for analysis, the apparatus comprising:\\n a first input configured to receive first data associated with a first electrical circuit, the first data having a first protocol; \\n first circuitry configured to sample the first data at a first sampling rate to generate first digital data, wherein the first sampling rate is substantially continuous; and \\n a communication port configured to transmit reporting digital data over a network having a network protocol different from the first protocol, the reporting digital data comprising at least the first digital data, wherein the reporting digital data is transmitted at a reporting rate that is decoupled from the first sampling rate. \\n \\n \\n \\n  13 . The apparatus of  claim 12  further comprising:\\n a second input configured to receive second data associated with a second electrical circuit, the second data having a second protocol different from the first protocol; and \\n second circuitry configured to sample the second data at a second sampling rate to generate second digital data, wherein the second sampling rate is substantially continuous; \\n wherein the communication port is further configured to transmit the reporting digital data over the network having the network protocol different from the first protocol and the second protocol, the reporting digital data comprising at least one of the first digital data and the second digital data, and wherein the reporting digital data is transmitted at the reporting rate that is decoupled from the first sampling rate and the second sampling rate. \\n \\n \\n \\n  14 . The apparatus of  claim 12  wherein the reporting rate is substantially continuous. \\n \\n \\n  15 . The apparatus of  claim 13  further comprising:\\n computer hardware configured to validate the first digital data and the second digital data to remove erroneous data points and to provide validated data; and \\n computer hardware configured to remove redundant data points from the validated data to provide reduced data; \\n wherein the communication port is further configured to transmit messages based at least in part on the reduced data over the network. \\n \\n \\n \\n  16 . The apparatus of  claim 15  further comprising computer hardware configured to perform energy calculations on the reduced data to provide calculated energy data, wherein the computer hardware comprises cloud-based servers. \\n \\n \\n  17 . The apparatus of  claim 16  wherein the calculated energy data comprises at least one of line-to-line and line-to-current voltage, total power, active power, reactive power, line-to-line and line-to-neutral current, power factor, fundamental and harmonic total energy per phase, fundamental and harmonic total energy for the sum of phases, fundamental and harmonic active energy per phase, fundamental and harmonic active energy for the sum of phases, fundamental and harmonic reactive energy per phase, fundamental and harmonic reactive energy for the sum of phases, frequency, harmonic frequency, gas usage, chilled water usage, hot water usage, and total energy usage. \\n \\n \\n  18 . The apparatus of  claim 13  further comprising analytics configured to analyze the first data and the second data and to provide messages comprising control signals for load control of at least one of the first electrical circuit and the second electrical circuit based on the analysis of the first data and the second data. \\n \\n \\n  19 . The apparatus of  claim 13  wherein the communication port is further configured to receive control signals for load control of at least one of the first electrical circuit and the second electrical circuit. \\n \\n \\n  20 . The apparatus of  claim 12  wherein the network comprises the Internet, and wherein the network is accessed by one or more of wired access and wireless access. \\n \\n \\n  21 . The apparatus of  claim 12  wherein the network comprises one or more servers in a cloud configuration. \\n \\n \\n  22 . The apparatus of  claim 13  further comprising memory configured to store at least one of the first digital data, the second digital data, and the reporting digital data until confirmation that the reporting digital data is successfully transmitted over the network. \\n \\n \\n  23 . The apparatus of  claim 12  wherein the first electrical signal comprises at least one of amplitude, phase, voltage, current, fundamental energy component, harmonic energy components, intermodulation energy components, and transient energy components associated with first electrical signal. \\n \\n \\n  24 . The apparatus of  claim 12  wherein the first sampling rate is between approximately once every 15 minutes to approximately 1 MHz. \\n \\n',\n",
              "  'claim_cited_grant': '\\n \\n 1. A method of aligning a putter, comprising the steps of:\\n providing a putter having a head, a heel, a toe, a top surface, and a planar striking face comprising a removable reflecting surface for receiving and reflecting incident light, the top surface comprising at least one first reference line oriented substantially parallel to the striking face and a plurality of second reference lines oriented substantially perpendicular to the striking face;  \\n providing a light source separate from the putter head;  \\n directing light from the light source towards the reflecting surface such that the reflective surface is illuminated with and reflects a portion of the light towards a reference device;  \\n detecting the reflected light with a reference device, wherein the reference device is a photosensitive array and the reflected light incident upon the photosensitive array generates a signal capable of being transferred to an output device visible to a golfer;  \\n determining the location of the reflected beam on the reference device relative to a central point prior to the golfer making a putting stroke;  \\n correcting the orientation of the putter so that the reflected beam is directed at the center of the reference device; and  \\n using the reference lines to provide a visual reference point to the golfer indicative of putter orientation.  \\n \\n \\n \\n 2. The method of  claim 1 , wherein the light source is a laser. \\n \\n \\n 3. The method of  claim 1 , wherein the reflecting surface is a mirrored surface, highly-polished fused silica, highly-polished glass, or a beam splitter. \\n \\n \\n 4. The method of  claim 1 , wherein the photosensitive array comprises a photomultiplier tube, an avalanche photodiode, or a charge-coupled device. \\n \\n \\n 5. The method of  claim 1 , wherein the light is collimated, focused, or both. \\n \\n \\n 6. The method of  claim 1 , wherein the planar striking face has a loft of between about 2 degrees and about 7 degrees. \\n \\n \\n 7. The method of  claim 6 , wherein the loft is about 4 degrees. \\n \\n \\n 8. The method of  claim 1 , wherein a spacer or a shim is disposed between the planar striking face and the reflecting surface. \\n \\n \\n 9. The method of  claim 1 , wherein the reflecting surface is a beam splitter oriented such that a first fraction of the light is reflected towards the reference device and a second fraction of the light is redirected perpendicular the incident light. \\n \\n \\n 10. The method of  claim 9 , wherein the redirected light strikes the ground below the striking face such that the golfer may align a putting stroke path. \\n \\n \\n 11. The method of  claim 1 , wherein the output device comprises a personal computer, a monitor, an oscilloscope, or a personal data assistant. \\n \\n \\n 12. The method of  claim 1 , further comprising the step of;\\n providing a second reference device located below the putter head.  \\n \\n \\n \\n 13. A method of aligning a putter, comprising the steps of:\\n providing a putter having a head, a heel, a toe, a top surface, and a planar striking face having a loft of about 4 degrees and comprising a reflecting surface for receiving and reflecting incident light, the reflecting surface being oriented vertically by a shim or a spacer, and the top surface comprising at least one first reference line oriented substantially parallel to the striking face and a plurality of second reference lines oriented substantially perpendicular to the striking face;  \\n providing a light source separate from the putter head;  \\n directing light from the light source towards the reflecting surface such that the reflective surface is illuminated with and reflects a portion of the light;  \\n detecting the reflected light with a reference device;  \\n comparing the reflected light to a central location on the reference device so that a golfer may determine the orientation of the putter head; and  \\n using the reference lines to provide a visual reference point to the golfer indicative of putter orientation. \\n \\n \\n',\n",
              "  'index': '0_6837799'},\n",
              " {'claim_app': '\\n \\n  1 . A method to aggregate, filter, and share energy data for analysis, the method comprising:\\n receiving first data associated with a first electrical circuit, the first data having a first protocol; \\n sampling the first data at a first sampling rate to generate first digital data, wherein the first sampling rate is substantially continuous; and \\n transmitting reporting digital data over a network having a network protocol different from the first protocol, the reporting digital data comprising at least the first digital data, wherein the reporting digital data is transmitted at a reporting rate that is decoupled from the first sampling rate. \\n \\n \\n \\n  2 . The method of  claim 1  further comprising:\\n receiving second data associated with a second electrical circuit, the second data having a second protocol different from the first protocol; and \\n sampling the second data at a second sampling rate to generate second digital data, wherein the second sampling rate is substantially continuous; \\n wherein the network protocol is different from the first protocol and the second protocol, wherein the reporting digital data comprises at least one of the first digital data and the second digital data, and wherein the reporting digital data is transmitted at the reporting rate that is decoupled from the first sampling rate and the second sampling rate. \\n \\n \\n \\n  3 . The method of  claim 1  wherein the reporting rate is substantially continuous. \\n \\n \\n  4 . The method of  claim 2  further comprising:\\n validating the first digital data and the second digital data to remove erroneous data points and to provide validated data; \\n removing redundant data points from the validated data to provide reduced data; and \\n transmitting messages based at least in part on the reduced data over the network. \\n \\n \\n \\n  5 . The method of  claim 2  further comprising analyzing the first data and the second data and transmitting messages comprising control signals for load control of at least one of the first and the second electrical circuits based on the analysis of the first data and the second data. \\n \\n \\n  6 . The method of  claim 2  further comprising receiving control signals for load control of at least one of the first electrical circuit and the second electrical circuit. \\n \\n \\n  7 . The method of  claim 1  wherein the network comprises the Internet, wherein the network is accessed by one or more of wired access and wireless access. \\n \\n \\n  8 . The method of  claim 1  wherein the network comprises one or more servers in a cloud configuration. \\n \\n \\n  9 . The method of  claim 2  further comprising storing at least one of the first digital data, the second digital data, and the reporting digital data until confirmation that the third digital data is successfully transmitted over the network. \\n \\n \\n  10 . The method of  claim 1  wherein receiving the first electrical signal comprises receiving at least one of amplitude, phase, voltage, current, fundamental energy component, harmonic energy components, intermodulation energy components, and transient energy components associated with the first electrical signal. \\n \\n \\n  11 . The method of  claim 1  wherein the first sampling rate is between approximately once every 15 minutes to approximately 1 MHz. \\n \\n \\n  12 . An apparatus to aggregate, filter, and share energy data for analysis, the apparatus comprising:\\n a first input configured to receive first data associated with a first electrical circuit, the first data having a first protocol; \\n first circuitry configured to sample the first data at a first sampling rate to generate first digital data, wherein the first sampling rate is substantially continuous; and \\n a communication port configured to transmit reporting digital data over a network having a network protocol different from the first protocol, the reporting digital data comprising at least the first digital data, wherein the reporting digital data is transmitted at a reporting rate that is decoupled from the first sampling rate. \\n \\n \\n \\n  13 . The apparatus of  claim 12  further comprising:\\n a second input configured to receive second data associated with a second electrical circuit, the second data having a second protocol different from the first protocol; and \\n second circuitry configured to sample the second data at a second sampling rate to generate second digital data, wherein the second sampling rate is substantially continuous; \\n wherein the communication port is further configured to transmit the reporting digital data over the network having the network protocol different from the first protocol and the second protocol, the reporting digital data comprising at least one of the first digital data and the second digital data, and wherein the reporting digital data is transmitted at the reporting rate that is decoupled from the first sampling rate and the second sampling rate. \\n \\n \\n \\n  14 . The apparatus of  claim 12  wherein the reporting rate is substantially continuous. \\n \\n \\n  15 . The apparatus of  claim 13  further comprising:\\n computer hardware configured to validate the first digital data and the second digital data to remove erroneous data points and to provide validated data; and \\n computer hardware configured to remove redundant data points from the validated data to provide reduced data; \\n wherein the communication port is further configured to transmit messages based at least in part on the reduced data over the network. \\n \\n \\n \\n  16 . The apparatus of  claim 15  further comprising computer hardware configured to perform energy calculations on the reduced data to provide calculated energy data, wherein the computer hardware comprises cloud-based servers. \\n \\n \\n  17 . The apparatus of  claim 16  wherein the calculated energy data comprises at least one of line-to-line and line-to-current voltage, total power, active power, reactive power, line-to-line and line-to-neutral current, power factor, fundamental and harmonic total energy per phase, fundamental and harmonic total energy for the sum of phases, fundamental and harmonic active energy per phase, fundamental and harmonic active energy for the sum of phases, fundamental and harmonic reactive energy per phase, fundamental and harmonic reactive energy for the sum of phases, frequency, harmonic frequency, gas usage, chilled water usage, hot water usage, and total energy usage. \\n \\n \\n  18 . The apparatus of  claim 13  further comprising analytics configured to analyze the first data and the second data and to provide messages comprising control signals for load control of at least one of the first electrical circuit and the second electrical circuit based on the analysis of the first data and the second data. \\n \\n \\n  19 . The apparatus of  claim 13  wherein the communication port is further configured to receive control signals for load control of at least one of the first electrical circuit and the second electrical circuit. \\n \\n \\n  20 . The apparatus of  claim 12  wherein the network comprises the Internet, and wherein the network is accessed by one or more of wired access and wireless access. \\n \\n \\n  21 . The apparatus of  claim 12  wherein the network comprises one or more servers in a cloud configuration. \\n \\n \\n  22 . The apparatus of  claim 13  further comprising memory configured to store at least one of the first digital data, the second digital data, and the reporting digital data until confirmation that the reporting digital data is successfully transmitted over the network. \\n \\n \\n  23 . The apparatus of  claim 12  wherein the first electrical signal comprises at least one of amplitude, phase, voltage, current, fundamental energy component, harmonic energy components, intermodulation energy components, and transient energy components associated with first electrical signal. \\n \\n \\n  24 . The apparatus of  claim 12  wherein the first sampling rate is between approximately once every 15 minutes to approximately 1 MHz. \\n \\n',\n",
              "  'claim_cited_grant': '\\n \\n 1. Apparatus for inserting a surgical fastener through a plurality of portions of material, said apparatus comprising:\\n a surgical fastener having first and second ends and made from a material which enables said fastener to be transformed from a first stressed elongate shape to a second unstressed shape upon release of said fastener from a stressed condition, the first stressed elongate shape of said fastener enabling the first end to be extended through a plurality of layers of material, and with the second shape of the fastener being in the form of a spring with a plurality of coils around a spring axis, with the coils being spring biased towards each other along the spring axis with sufficient axial force to enable the coils on opposite sides of the layers of material to clamp the layers of material together along the spring axis;  \\n a single needle having first and second ends,  \\n penetration means adjacent the first end of said single needle, said penetration means being configured to pierce through the plurality of layers of material, and insertion means adjacent to the first end of said single needle, said insertion means being configured to place said surgical fastener through the plurality of layers of material pierced by said penetration means;  \\n wherein said insertion means comprises a magazine comprising a plurality of chambers, with each chamber adapted to hold a fastener therein, and means for moving the magazine so as to sequentially align one of said chambers with said needle.  \\n \\n \\n \\n 2. Apparatus for inserting multiple surgical fasteners through a plurality of portions of material, said apparatus comprising:\\n a plurality of surgical fasteners, each of said surgical fasteners having first and second ends and made from a material which enables said fastener to be transformed from a first stressed elongate shape to a second unstressed shape upon the-release of said fastener from a stressed condition, said first stressed elongate shape of said fastener enabling said first end to be extended through a plurality of layers of material, and with said second shape of the fastener being in the form of a spring with a plurality of coils around a spring axis, with said coils being spring biased towards each other along said spring axis with sufficient axial force so as to enable coils on opposite sides of layers to clamp the layers of material together along the spring axis;  \\n a cartridge having a plurality of delivery tubes, said cartridge having first and second ends, each of said delivery tubes adapted to hold one of said surgical fasteners therein, each of said delivery tubes having first and second ends, said first end of said delivery tubes adapted to be slideably disposed from said first end of said cartridge, said first end of each of said delivery tubes having penetrating means to pierce through the plurality of layers of material;  \\n a body in adjustable connection to said cartridge, said body having delivery tube control means and surgical fastener insertion means, said delivery tube control means being adapted to move said first end of each of said delivery tubes through said first end of said cartridge to pierce through the plurality of layers of material, said surgical fastener insertion means being adapted to place said surgical fastener through the plurality of layers of material pierced by said penetrating means of each of said delivery tubes; and  \\n means for moving said cartridge with respect to said body to sequentially align one of said delivery tubes having one of said surgical fasteners of said cartridge with said delivery tube control means and said surgical fastener insertion means of said body, wherein said plurality of surgical fasteners is sequentially placed without reloading after each placement.  \\n \\n \\n \\n 3. A method for inserting a surgical fastener through a plurality of portion of material, said method comprising:\\n providing apparatus for inserting multiple surgical fasteners through a plurality of portions of material, said apparatus comprising: \\n a plurality of surgical fasteners, each of said surgical fasteners having first and second ends and made from a material which enables said fastener to be transformed from a first stressed elongate shape to a second unstressed shape upon the release of said fastener from a stressed condition, said first stressed elongate shape of said fastener enabling said first end to be extended through a plurality of layers of material, and with said second shape of the element being in the form of a spring with a plurality of coils around a spring axis, with said coils being spring biased towards each other along said spring axis with sufficient axial force so as to enable coils on opposite sides of layers to clamp the layers of material together along spring axis;  \\n a cartridge having a plurality of delivery tubes, said cartridge having first and second ends, each of said delivery tubes adapted to hold one of said surgical fasteners therein, each of said delivery tubes having first and second ends, said first end of said delivery tubes adapted to be slideably disposed from said first end of said cartridge, said first end of each of said delivery tubes having penetrating means to pierce through the plurality of layers of material;  \\n a body in adjustable connection to said cartridge, said body having delivery tube control means and surgical fastener insertion means, said delivery tube control means being adapted to move said first end of each of said delivery tubes through said first end of said cartridge to pierce through the plurality of layers of material, said surgical fastener insertion means being adapted to place said surgical fastener through the plurality of layers of material pierced by said penetrating means of each of said delivery tubes; and  \\n means for moving said cartridge with respect to said body to sequentially align one of said delivery tubes having one of said surgical fasteners of said cartridge with said delivery tube control means and said surgical fastener insertion means of said body, wherein said plurality of surgical fasteners is sequentially placed without reloading after each placement;  \\n \\n placing said first end of said cartridge adjacent the plurality of layers of material, with said surgical fastener being configured in said first elongate shape;  \\n penetrating the plurality of layers of material with said first end of said delivery tube using said delivery tube control means;  \\n inserting a first portion of said surgical fastener through the plurality of layers of material using said surgical fastener insertion means;  \\n withdrawing said first end of said cartridge from the plurality of layers of material using said delivery control means; and  \\n moving said cartridge with respect to said body to sequentially align said delivery tubes having one of said surgical fasteners of said cartridge with said delivery tube control means and said surgical fastener insertion means of said body, wherein said plurality of surgical fasteners are sequentially placed without reloading after each placement.  \\n \\n \\n \\n 4. A method for inserting a surgical fastener through a plurality of portions of material, said method comprising:\\n providing apparatus for inserting a surgical fastener through a plurality of portions of material, said apparatus comprising: \\n a surgical fastener having first and second ends and made from a material which enables said fastener to be transformed from a first stressed elongate shape to a second unstressed shape upon release of said fastener from a stressed condition, the first stressed elongate shape of said fastener enabling the first end to be extended through a plurality of layers of material, and with the second shape of the element being in the form of a spring with a plurality of coils around a spring axis, with the coils being spring biased towards each other along the spring axis with sufficient axial force to enable the coils on opposite sides of the layers of material to clamp the layers of material together along the spring axis; and  \\n a single needle having first and second ends, penetration means adjacent the first end of said single needle, said penetration means being configured to pierce through the plurality of layers of material, and  \\n insertion means adjacent to the first end of said single needle, said insertion means being configured to place said surgical fastener through the plurality of layers of material pierced by said penetration means;  \\n placing said single needle adjacent the plurality of layers of material, with said surgical fastener being configured in the first stressed elongate shape;  \\n penetrating the plurality of layers of material with said penetration means of said single needle, said penetration of the plurality of layers of material being performed at the first end of said single needle;  \\n inserting a first portion of said surgical fastener through the plurality of layers of material using said insertion means; and  \\n withdrawing said penetration means of said single needle from the plurality of layers of material, wherein a second portion of said surgical fastener is positioned on the opposite side of the plurality of layers of material from said first portion of said surgical fastener so as to enable the coils on the opposite sides of the layers to clamp the material together;  \\n wherein one of said plurality of portions of surgical fastener comprises a lumen segment and the other of said plurality of portions of surgical fastener comprises another lumen segment.  \\n \\n \\n \\n \\n 5. A method according to  claim 4  wherein said surgical fastener occludes the lumen upon deployment of said surgical fastener. \\n \\n',\n",
              "  'index': '0_6837893'},\n",
              " {'claim_app': '\\n \\n  1 . A method to aggregate, filter, and share energy data for analysis, the method comprising:\\n receiving first data associated with a first electrical circuit, the first data having a first protocol; \\n sampling the first data at a first sampling rate to generate first digital data, wherein the first sampling rate is substantially continuous; and \\n transmitting reporting digital data over a network having a network protocol different from the first protocol, the reporting digital data comprising at least the first digital data, wherein the reporting digital data is transmitted at a reporting rate that is decoupled from the first sampling rate. \\n \\n \\n \\n  2 . The method of  claim 1  further comprising:\\n receiving second data associated with a second electrical circuit, the second data having a second protocol different from the first protocol; and \\n sampling the second data at a second sampling rate to generate second digital data, wherein the second sampling rate is substantially continuous; \\n wherein the network protocol is different from the first protocol and the second protocol, wherein the reporting digital data comprises at least one of the first digital data and the second digital data, and wherein the reporting digital data is transmitted at the reporting rate that is decoupled from the first sampling rate and the second sampling rate. \\n \\n \\n \\n  3 . The method of  claim 1  wherein the reporting rate is substantially continuous. \\n \\n \\n  4 . The method of  claim 2  further comprising:\\n validating the first digital data and the second digital data to remove erroneous data points and to provide validated data; \\n removing redundant data points from the validated data to provide reduced data; and \\n transmitting messages based at least in part on the reduced data over the network. \\n \\n \\n \\n  5 . The method of  claim 2  further comprising analyzing the first data and the second data and transmitting messages comprising control signals for load control of at least one of the first and the second electrical circuits based on the analysis of the first data and the second data. \\n \\n \\n  6 . The method of  claim 2  further comprising receiving control signals for load control of at least one of the first electrical circuit and the second electrical circuit. \\n \\n \\n  7 . The method of  claim 1  wherein the network comprises the Internet, wherein the network is accessed by one or more of wired access and wireless access. \\n \\n \\n  8 . The method of  claim 1  wherein the network comprises one or more servers in a cloud configuration. \\n \\n \\n  9 . The method of  claim 2  further comprising storing at least one of the first digital data, the second digital data, and the reporting digital data until confirmation that the third digital data is successfully transmitted over the network. \\n \\n \\n  10 . The method of  claim 1  wherein receiving the first electrical signal comprises receiving at least one of amplitude, phase, voltage, current, fundamental energy component, harmonic energy components, intermodulation energy components, and transient energy components associated with the first electrical signal. \\n \\n \\n  11 . The method of  claim 1  wherein the first sampling rate is between approximately once every 15 minutes to approximately 1 MHz. \\n \\n \\n  12 . An apparatus to aggregate, filter, and share energy data for analysis, the apparatus comprising:\\n a first input configured to receive first data associated with a first electrical circuit, the first data having a first protocol; \\n first circuitry configured to sample the first data at a first sampling rate to generate first digital data, wherein the first sampling rate is substantially continuous; and \\n a communication port configured to transmit reporting digital data over a network having a network protocol different from the first protocol, the reporting digital data comprising at least the first digital data, wherein the reporting digital data is transmitted at a reporting rate that is decoupled from the first sampling rate. \\n \\n \\n \\n  13 . The apparatus of  claim 12  further comprising:\\n a second input configured to receive second data associated with a second electrical circuit, the second data having a second protocol different from the first protocol; and \\n second circuitry configured to sample the second data at a second sampling rate to generate second digital data, wherein the second sampling rate is substantially continuous; \\n wherein the communication port is further configured to transmit the reporting digital data over the network having the network protocol different from the first protocol and the second protocol, the reporting digital data comprising at least one of the first digital data and the second digital data, and wherein the reporting digital data is transmitted at the reporting rate that is decoupled from the first sampling rate and the second sampling rate. \\n \\n \\n \\n  14 . The apparatus of  claim 12  wherein the reporting rate is substantially continuous. \\n \\n \\n  15 . The apparatus of  claim 13  further comprising:\\n computer hardware configured to validate the first digital data and the second digital data to remove erroneous data points and to provide validated data; and \\n computer hardware configured to remove redundant data points from the validated data to provide reduced data; \\n wherein the communication port is further configured to transmit messages based at least in part on the reduced data over the network. \\n \\n \\n \\n  16 . The apparatus of  claim 15  further comprising computer hardware configured to perform energy calculations on the reduced data to provide calculated energy data, wherein the computer hardware comprises cloud-based servers. \\n \\n \\n  17 . The apparatus of  claim 16  wherein the calculated energy data comprises at least one of line-to-line and line-to-current voltage, total power, active power, reactive power, line-to-line and line-to-neutral current, power factor, fundamental and harmonic total energy per phase, fundamental and harmonic total energy for the sum of phases, fundamental and harmonic active energy per phase, fundamental and harmonic active energy for the sum of phases, fundamental and harmonic reactive energy per phase, fundamental and harmonic reactive energy for the sum of phases, frequency, harmonic frequency, gas usage, chilled water usage, hot water usage, and total energy usage. \\n \\n \\n  18 . The apparatus of  claim 13  further comprising analytics configured to analyze the first data and the second data and to provide messages comprising control signals for load control of at least one of the first electrical circuit and the second electrical circuit based on the analysis of the first data and the second data. \\n \\n \\n  19 . The apparatus of  claim 13  wherein the communication port is further configured to receive control signals for load control of at least one of the first electrical circuit and the second electrical circuit. \\n \\n \\n  20 . The apparatus of  claim 12  wherein the network comprises the Internet, and wherein the network is accessed by one or more of wired access and wireless access. \\n \\n \\n  21 . The apparatus of  claim 12  wherein the network comprises one or more servers in a cloud configuration. \\n \\n \\n  22 . The apparatus of  claim 13  further comprising memory configured to store at least one of the first digital data, the second digital data, and the reporting digital data until confirmation that the reporting digital data is successfully transmitted over the network. \\n \\n \\n  23 . The apparatus of  claim 12  wherein the first electrical signal comprises at least one of amplitude, phase, voltage, current, fundamental energy component, harmonic energy components, intermodulation energy components, and transient energy components associated with first electrical signal. \\n \\n \\n  24 . The apparatus of  claim 12  wherein the first sampling rate is between approximately once every 15 minutes to approximately 1 MHz. \\n \\n',\n",
              "  'claim_cited_grant': '\\n \\n 1. An apparatus for gasifying a liquid or solid fuel which has a gasifier for producing a thermal decomposed gas by means of a thermal decomposition reaction of the liquid or solid fuel, comprising:\\n heating means for heating water or low-temperature steam, and low-temperature air so as to be high-temperature steam and high-temperature air which have a temperature equal to or higher than 700 deg. C.; and  \\n feeding means for feeding said high-temperature steam and said high-temperature air to a thermal decomposition area for thermally decomposing the liquid or solid fuel and/or a reforming area for reforming the thermal decomposed gas.  \\n \\n \\n \\n 2. An apparatus according to  claim 1 , wherein the high-temperature steam and air are introduced into said thermal decomposition area and/or said reforming area by said feeding means, so that said thermal decomposed gas is reformed so as to be a high-temperature syngas with an exothermic reaction between the high-temperature air and carbon compound contained in the thermal decomposed gas and with an endothermic reaction between the carbon compound and said high-temperature steam. \\n \\n \\n 3. An apparatus according to  claim 1 , wherein said high-temperature steam and air are introduced into said thermal decomposition area by said feeding means, so that said liquid or solid fuel is thermally decomposed to produce said thermal decomposed gas with an amount of sensible heat possessed by the high-temperature steam and air and with an amount of heat generated by an exothermic oxidation reaction between said high-temperature air and said fuel. \\n \\n \\n 4. An apparatus according to  claim 1 , wherein said heating means includes a steam heating device for heating said low-temperature steam up to a temperature equal to or higher than 700 deg. C. so as to be said high-temperature steam, and an air heating device for heating said low-temperature air up to a temperature-equal to or higher than 700 deg. C. so as to be said high-temperature air; and\\n wherein said feeding means includes a high temperature steam supply passage for introducing the high-temperature steam into said thermal decomposition area and/or said reforming area, and a high temperature air supply passage for introducing the high-temperature air into said thermal decomposition area and/or said reforming area.  \\n \\n \\n \\n 5. An apparatus according to  claim 1 , wherein said heating means includes mixing means for mixing said low-temperature steam and said low-temperature air together so as to provide a low-temperature mixture of steam and air, and a mixture heating device for heating said mixture up to a temperature equal to or higher than 700 deg. C. so as to be a high-temperature mixture of steam and air; and\\n wherein said feeding means includes a high-temperature mixture supply passage for introducing the high-temperature mixture into said thermal decomposition area and/or said reforming area.  \\n \\n \\n \\n 6. An apparatus according to  claim 1 , wherein said heating means includes a steam heating device for heating said low-temperature steam up to a temperature equal to or higher than 700 deg. C. so as to be said high-temperature steam, an air heating device for heating said low-temperature air up to a temperature equal to or higher than 700 deg. C. so as to be said high-temperature air, and mixing means for mixing said high-temperature steam and said high-temperature air together to provide a high-temperature mixture of steam and air; and\\n wherein said feeding means includes a high-temperature mixture supply passage for introducing the high-temperature mixture into said thermal decomposition area and/or said reforming area.  \\n \\n \\n \\n 7. An apparatus according to  claim 3 , wherein said reforming area is defined in a reformer into which said thermal decomposed gas is introduced, and said feeding means includes passages for introducing said high-temperature air and said high-temperature steam into the reformer and said thermal decomposition area, so that said thermal decomposed gas is reformed to be a high-temperature syngas with an exothermic reaction between the high-temperature air and carbon compound contained in the thermal decomposed gas and with an endothermic reaction between the carbon compound and the high-temperature steam. \\n \\n \\n 8. An apparatus according to  claim 2 , wherein a cooling device is provided for cooling said high-temperature syngas to a low-temperature syngas, and the cooling device is provided with a heat-exchanger for generating said low-temperature steam by means of an amount of sensible heat possessed by the high-temperature syngas. \\n \\n \\n 9. An apparatus according to  claim 2 , wherein said heating means is constructed by a cooling device which cools said high-temperature syngas to a low-temperature syngas, and the cooling device is provided with a high temperature heat-exchanger for heating said low-temperature air and/or said low-temperature steam to a high-temperature equal to or higher than 700 deg. C. by means of heat-exchange action of the low-temperature air and/or said low-temperature steam with the high-temperature syngas. \\n \\n \\n 10. An apparatus according to  claim 9 , wherein said cooling device is further provided with a mid-temperature heat-exchanger for heating said low-temperature air and/or said low-temperature steam to a mid-temperature in a range between 500 deg. C. and 700 deg. C. by means of heat-exchange action of the low-temperature air and/or the low-temperature steam with the high-temperature syngas. \\n \\n \\n 11. An apparatus according to  claim 10 , wherein a cooling device is further provided with a steam-generating heat-exchanger for generating said low-temperature steam by means of heat-exchange action between water and the high-temperature syngas. \\n \\n \\n 12. An apparatus according to  claim 2 , wherein gas cleaning means is further provided for cleaning said syngas, and the cleaning means has a syngas supply passage for at least partially feeding a quantity of cleaned up syngas to said heating means so that the heating means heats said water or low-temperature steam and said low-temperature air to a temperature equal to or higher than 700 deg. C. by means of heat generated with a combustion reaction of the syngas. \\n \\n \\n 13. An apparatus according to  claim 5 , wherein said mixing means includes a mixing control device for allowing a variable setting of a mixing ratio of said steam and air. \\n \\n \\n 14. A method for gasifying a liquid or solid fuel to produce a thermal decomposed gas by means of a thermal decomposition reaction of the liquid or solid fuel:\\n wherein water or low-temperature steam, and low-temperature air are heated so as to be high-temperature steam and high-temperature air which have a temperature equal to or higher than 700 deg. C.; and  \\n wherein said high-temperature steam and said high-temperature air are introduced into a thermal decomposition area for thermally decomposing the liquid or solid fuel and/or a reforming area for reforming the thermal decomposed gas.  \\n \\n \\n \\n 15. A method according to  claim 14 , wherein said high-temperature steam and said high-temperature air are mixed with said thermal decomposed gas, so that an amount of heat required for an endothermic reforming reaction between said high-temperature steam and carbon compound contained in the thermal decomposed gas is partially supplied by an amount of heat generated with an exothermic reaction between the high-temperature air and the carbon compound. \\n \\n \\n 16. A method according to  claim 14 , wherein said high-temperature steam and air are introduced into said thermal decomposition area, so that said liquid or solid fuel is thermally decomposed to produce said thermal decomposed gas with an amount of sensible heat possessed by the high-temperature steam and air and with an amount of heat generated by an exothermic oxidation reaction between said high-temperature air and said fuel. \\n \\n \\n 17. A method according to  claim 14 , wherein a mixing ratio of said high-temperature steam and air is set to be a mixing ratio which can be variably controlled. \\n \\n \\n 18. A method according to  claim 14 , wherein normal air, oxygen or mixture of the normal air and oxygen is used as said low-temperature air. \\n \\n \\n 19. A method according to  claim 14 , wherein said thermal decomposed gas takes a steam reforming reaction in said reforming area and thereafter, takes a heat-exchange action with said low-temperature steam and/or said low-temperature air to heat the low-temperature steam and/or the low-temperature air up to said temperature equal to or higher than 700 deg. C. \\n \\n \\n 20. A method according to  claim 19 , wherein said thermal decomposed gas flier takes a heat-exchange action with said low-temperature steam and/or said low-temperature air to heat the low-temperature steam and/or the low-temperature air up to a temperature in a range between 500 deg. C. and 700 deg. C. \\n \\n \\n 21. A method according to  claim 20 , wherein said thermal decomposed gas further takes a heat-exchange action with water to generate said low-temperature steam. \\n \\n \\n 22. A method according to  claim 14 , wherein said thermal decomposed gas takes a steam reforming reaction in said reforming area and then, undergoes a gas treatment process for removing foreign matters or harmful substances therefrom so as to be a cleaned up syngas and thereafter, the cleaned up syngas is delivered to heating means for heating said water or low-temperature steam and said low-temperature air as well as delivered to a combustion device of a combustion facility or engine residing outside the apparatus; and\\n wherein said water or low-temperature steam and said low-temperature air are heated in the heating device by heat generated with a combustion reaction of the cleaned up syngas.  \\n \\n \\n \\n 23. A method according to  22 , wherein said cleaned up syngas is supplied to said combustion device so as to be used as a main fuel thereof. \\n \\n \\n 24. A method according to  22 , wherein said cleaned up syngas is supplied to said combustion device so as to be used as an auxiliary fuel to be added to a main fuel of the combustion device and/or combustion air thereof. \\n \\n \\n 25. A method according to  claim 22 , wherein said thermal decomposed gas flows through a cooling device for cooling the thermal decomposed gas after taking said steam reforming reaction and before undergoing said gas treatment process; and\\n wherein the cooling device evaporates a quantity of water so as to generate said low-temperature steam by means of sensible heat possessed by the thermal decomposed gas, or heats said low-temperature steam and/or said low-temperature air by means of the sensible heat of the thermal decomposed gas.  \\n \\n \\n \\n 26. A method according to  claim 14 , wherein waste, coal, biomass fuel or heavy oil is used as said liquid or solid fuel. \\n \\n \\n 27. A waste gasifying system comprising an apparatus for gasifying a liquid or solid fuel according to  claim 1 . \\n \\n \\n 28. A coal gasifying system comprising an apparatus for gasifying a liquid or solid fuel according to  claim 1 . \\n \\n \\n 29. A gasification and power generation system comprising an apparatus for gasifying a liquid or solid fuel according to  claim 1  and a electric power generator operated with use of a syngas produced by said apparatus. \\n \\n',\n",
              "  'index': '0_6837910'}]"
            ]
          },
          "metadata": {
            "tags": []
          },
          "execution_count": 66
        }
      ]
    },
    {
      "metadata": {
        "id": "isAhwGuHGcUD",
        "colab_type": "code",
        "outputId": "28c691e5-214e-4fab-ff06-767ce1fae7dd",
        "colab": {
          "base_uri": "https://localhost:8080/",
          "height": 35
        }
      },
      "cell_type": "code",
      "source": [
        "len(tupples)"
      ],
      "execution_count": 0,
      "outputs": [
        {
          "output_type": "execute_result",
          "data": {
            "text/plain": [
              "25240"
            ]
          },
          "metadata": {
            "tags": []
          },
          "execution_count": 93
        }
      ]
    },
    {
      "metadata": {
        "id": "HdQTJU8KMa57",
        "colab_type": "code",
        "colab": {}
      },
      "cell_type": "code",
      "source": [
        ""
      ],
      "execution_count": 0,
      "outputs": []
    },
    {
      "metadata": {
        "id": "TKC5_pFEMbGI",
        "colab_type": "code",
        "colab": {}
      },
      "cell_type": "code",
      "source": [
        ""
      ],
      "execution_count": 0,
      "outputs": []
    },
    {
      "metadata": {
        "id": "GdmJVaJfMbLq",
        "colab_type": "code",
        "colab": {}
      },
      "cell_type": "code",
      "source": [
        ""
      ],
      "execution_count": 0,
      "outputs": []
    },
    {
      "metadata": {
        "id": "duNsKLRKMbRR",
        "colab_type": "code",
        "colab": {}
      },
      "cell_type": "code",
      "source": [
        ""
      ],
      "execution_count": 0,
      "outputs": []
    },
    {
      "metadata": {
        "id": "2P2WIlRnMbXY",
        "colab_type": "code",
        "colab": {}
      },
      "cell_type": "code",
      "source": [
        ""
      ],
      "execution_count": 0,
      "outputs": []
    },
    {
      "metadata": {
        "id": "3XngKIDMGcRJ",
        "colab_type": "code",
        "outputId": "6260511a-3dc0-41ed-e1b6-9c608411e840",
        "colab": {
          "base_uri": "https://localhost:8080/",
          "height": 124
        }
      },
      "cell_type": "code",
      "source": [
        "!gsutil cp -r gs://yohei-kikuta/mlstudy-phys/bert/data/1000 ./bert/data/"
      ],
      "execution_count": 0,
      "outputs": [
        {
          "output_type": "stream",
          "text": [
            "Copying gs://yohei-kikuta/mlstudy-phys/bert/data/1000/bert_extracted_feature_test_1000.pkl...\n",
            "Copying gs://yohei-kikuta/mlstudy-phys/bert/data/1000/bert_extracted_feature_train_1000.pkl...\n",
            "Copying gs://yohei-kikuta/mlstudy-phys/bert/data/1000/dev.tsv...\n",
            "Copying gs://yohei-kikuta/mlstudy-phys/bert/data/1000/train.tsv...\n",
            "- [4 files][154.8 MiB/154.8 MiB]   22.7 MiB/s                                   \n",
            "Operation completed over 4 objects/154.8 MiB.                                    \n"
          ],
          "name": "stdout"
        }
      ]
    },
    {
      "metadata": {
        "id": "wP8gf8KrzHT9",
        "colab_type": "code",
        "colab": {}
      },
      "cell_type": "code",
      "source": [
        "test_data = pd.read_csv(\"./bert/data/1000/dev.tsv\", sep=\"\\t\")"
      ],
      "execution_count": 0,
      "outputs": []
    },
    {
      "metadata": {
        "id": "sl_GZwQeGgcC",
        "colab_type": "code",
        "outputId": "602d9696-c4cf-41e3-b351-ef84538667d9",
        "colab": {
          "base_uri": "https://localhost:8080/",
          "height": 204
        }
      },
      "cell_type": "code",
      "source": [
        "test_data.head()"
      ],
      "execution_count": 0,
      "outputs": [
        {
          "output_type": "execute_result",
          "data": {
            "text/html": [
              "<div>\n",
              "<style scoped>\n",
              "    .dataframe tbody tr th:only-of-type {\n",
              "        vertical-align: middle;\n",
              "    }\n",
              "\n",
              "    .dataframe tbody tr th {\n",
              "        vertical-align: top;\n",
              "    }\n",
              "\n",
              "    .dataframe thead th {\n",
              "        text-align: right;\n",
              "    }\n",
              "</style>\n",
              "<table border=\"1\" class=\"dataframe\">\n",
              "  <thead>\n",
              "    <tr style=\"text-align: right;\">\n",
              "      <th></th>\n",
              "      <th>index</th>\n",
              "      <th>claim_app</th>\n",
              "      <th>claim_cited_grant</th>\n",
              "      <th>label</th>\n",
              "    </tr>\n",
              "  </thead>\n",
              "  <tbody>\n",
              "    <tr>\n",
              "      <th>0</th>\n",
              "      <td>0</td>\n",
              "      <td>1 . A rotational angle detection device for a ...</td>\n",
              "      <td>1. A tangible computer-readable medium having ...</td>\n",
              "      <td>not_entailment</td>\n",
              "    </tr>\n",
              "    <tr>\n",
              "      <th>1</th>\n",
              "      <td>1</td>\n",
              "      <td>1 . A method comprising:sensing electrocardiog...</td>\n",
              "      <td>1. A medical system, comprising:an implantable...</td>\n",
              "      <td>entailment</td>\n",
              "    </tr>\n",
              "    <tr>\n",
              "      <th>2</th>\n",
              "      <td>2</td>\n",
              "      <td>1 . A system for controlling temperature insid...</td>\n",
              "      <td>1. An integrated differential receiver for an ...</td>\n",
              "      <td>not_entailment</td>\n",
              "    </tr>\n",
              "    <tr>\n",
              "      <th>3</th>\n",
              "      <td>3</td>\n",
              "      <td>1 . A recording apparatus for recording update...</td>\n",
              "      <td>1. A method for indicating a priority of a Voi...</td>\n",
              "      <td>not_entailment</td>\n",
              "    </tr>\n",
              "    <tr>\n",
              "      <th>4</th>\n",
              "      <td>4</td>\n",
              "      <td>1 . Apparatus for moving a material within an ...</td>\n",
              "      <td>1. A wellbore packer having an expandable pack...</td>\n",
              "      <td>entailment</td>\n",
              "    </tr>\n",
              "  </tbody>\n",
              "</table>\n",
              "</div>"
            ],
            "text/plain": [
              "   index                                          claim_app  \\\n",
              "0      0  1 . A rotational angle detection device for a ...   \n",
              "1      1  1 . A method comprising:sensing electrocardiog...   \n",
              "2      2  1 . A system for controlling temperature insid...   \n",
              "3      3  1 . A recording apparatus for recording update...   \n",
              "4      4  1 . Apparatus for moving a material within an ...   \n",
              "\n",
              "                                   claim_cited_grant           label  \n",
              "0  1. A tangible computer-readable medium having ...  not_entailment  \n",
              "1  1. A medical system, comprising:an implantable...      entailment  \n",
              "2  1. An integrated differential receiver for an ...  not_entailment  \n",
              "3  1. A method for indicating a priority of a Voi...  not_entailment  \n",
              "4  1. A wellbore packer having an expandable pack...      entailment  "
            ]
          },
          "metadata": {
            "tags": []
          },
          "execution_count": 84
        }
      ]
    },
    {
      "metadata": {
        "id": "FDq4XF_9Ggiu",
        "colab_type": "code",
        "colab": {}
      },
      "cell_type": "code",
      "source": [
        ""
      ],
      "execution_count": 0,
      "outputs": []
    },
    {
      "metadata": {
        "id": "TS9-BLkOGggm",
        "colab_type": "code",
        "colab": {}
      },
      "cell_type": "code",
      "source": [
        ""
      ],
      "execution_count": 0,
      "outputs": []
    },
    {
      "metadata": {
        "id": "e-SR7CkS0xV_",
        "colab_type": "code",
        "colab": {}
      },
      "cell_type": "code",
      "source": [
        "from run_classifier import convert_single_example\n",
        "from run_classifier import InputExample\n",
        "from run_classifier import file_based_input_fn_builder"
      ],
      "execution_count": 0,
      "outputs": []
    },
    {
      "metadata": {
        "id": "1u_sIT8k0xI1",
        "colab_type": "code",
        "colab": {}
      },
      "cell_type": "code",
      "source": [
        "MAX_SEQ_LEN = 512"
      ],
      "execution_count": 0,
      "outputs": []
    },
    {
      "metadata": {
        "id": "n1kgL9ft06ia",
        "colab_type": "code",
        "colab": {}
      },
      "cell_type": "code",
      "source": [
        "\n",
        "def row_to_feature(i, row, max_seq_len=MAX_SEQ_LEN):\n",
        "    if 'label' in row:\n",
        "        example = InputExample(\n",
        "            guid = row['index'],\n",
        "            text_a = row['claim_app'],\n",
        "            text_b = row['claim_cited_grant'],\n",
        "            label = row['label']\n",
        "            )\n",
        "    else :\n",
        "        example = InputExample(\n",
        "            guid = row['index'],\n",
        "            text_a = row['claim_app'],\n",
        "            text_b = row['claim_cited_grant'],\n",
        "            label=\"not_entailment\"\n",
        "            )\n",
        "    \n",
        "    return convert_single_example(\n",
        "        ex_index=i, \n",
        "        example=example,\n",
        "        label_list=[\"not_entailment\", \"entailment\"],\n",
        "        max_seq_length=max_seq_len,\n",
        "        tokenizer=tokenizer)"
      ],
      "execution_count": 0,
      "outputs": []
    },
    {
      "metadata": {
        "id": "8GSPInHd06X_",
        "colab_type": "code",
        "colab": {}
      },
      "cell_type": "code",
      "source": [
        "def feature_list_to_feature_dict(flist):\n",
        "    dic = {}\n",
        "    dic['input_ids'] = [feature.input_ids for feature in flist]\n",
        "    dic[\"input_mask\"] = [feature.input_mask for feature in flist]\n",
        "    dic[\"segment_ids\"] = [feature.segment_ids for feature in flist]\n",
        "    dic[\"label_ids\"] = [[feature.label_id] for feature in flist]\n",
        "    return dic"
      ],
      "execution_count": 0,
      "outputs": []
    },
    {
      "metadata": {
        "id": "t0vazovQMlNG",
        "colab_type": "code",
        "colab": {}
      },
      "cell_type": "code",
      "source": [
        "def tupples_to_fdicts(tups):\n",
        "    features = [row_to_feature(i, row) for i, row in enumerate(tups)]\n",
        "    return feature_list_to_feature_dict(features)"
      ],
      "execution_count": 0,
      "outputs": []
    },
    {
      "metadata": {
        "id": "XmTPT5qTM5CR",
        "colab_type": "code",
        "outputId": "8bf2f8d0-ccad-4522-b76e-652327b76903",
        "colab": {
          "base_uri": "https://localhost:8080/",
          "height": 695
        }
      },
      "cell_type": "code",
      "source": [
        "%%time\n",
        "test_fdicts_all = tupples_to_fdicts(tupples)"
      ],
      "execution_count": 0,
      "outputs": [
        {
          "output_type": "stream",
          "text": [
            "INFO:tensorflow:*** Example ***\n",
            "INFO:tensorflow:guid: 0_6837383\n",
            "INFO:tensorflow:tokens: [CLS] 1 . a method to aggregate , filter , and share energy data for analysis , the method comprising : receiving first data associated with a first electrical circuit , the first data having a first protocol ; sampling the first data at a first sampling rate to generate first digital data , wherein the first sampling rate is substantially continuous ; and transmitting reporting digital data over a network having a network protocol different from the first protocol , the reporting digital data comprising at least the first digital data , wherein the reporting digital data is transmitted at a reporting rate that is deco ##up ##led from the first sampling rate . 2 . the method of claim 1 further comprising : receiving second data associated with a second electrical circuit , the second data having a second protocol different from the first protocol ; and sampling the second data at a second sampling rate to generate second digital data , wherein the second sampling rate is substantially continuous ; wherein the network protocol is different from the first protocol and the second protocol , wherein the reporting digital data comprises at least one of the first digital data and the second digital data , and wherein the reporting digital data is transmitted at the reporting rate that is deco ##up ##led from the first sampling rate and the second sampling rate . 3 . the method of claim 1 wherein the reporting rate is substantially continuous . 4 . the method of [SEP] 1 . a tool organizer for mounting to and adapted for use with a vehicle lift rack having support arms , said tool organizer comprising : four ups ##tan ##ding walls depending from a base and forming a storage volume for storing a plurality of tools and parts ; a selective ##ly art ##ic ##ulating lid en ##cl ##osing said storage volume ; adjustable attachment means depending from said storage volume , said attachment means re ##mo ##va ##bly attach ##able to said support arms for supporting said tool organizer by gravity imp ##inge ##ment ; a u - shaped ring af ##fixed to an external portion of at least one of said walls , said ring for supporting a hand tool ; a support plate projected from a front of said tool organizer and co - extensive with said base ; a plurality of intermediate aperture ##s formed in said support plate , said plurality of intermediate aperture ##s adapted sized to accommodate intermediate and large hand tools ; a plurality of small aperture ##s formed in said support plate , said plurality of small aperture ##s adapted to accommodate small hand tools ; at least one large aperture formed in said support plate , said at least one large aperture adapted to accommodate a container . 2 . the tool organizer of claim 1 further comprising a slid ##ably retained storage drawer provided beneath said base and said support plate for additional storage area , said base and said support plate operating [SEP]\n",
            "INFO:tensorflow:input_ids: 101 1015 1012 1037 4118 2000 9572 1010 11307 1010 1998 3745 2943 2951 2005 4106 1010 1996 4118 9605 1024 4909 2034 2951 3378 2007 1037 2034 5992 4984 1010 1996 2034 2951 2383 1037 2034 8778 1025 16227 1996 2034 2951 2012 1037 2034 16227 3446 2000 9699 2034 3617 2951 1010 16726 1996 2034 16227 3446 2003 12381 7142 1025 1998 23820 7316 3617 2951 2058 1037 2897 2383 1037 2897 8778 2367 2013 1996 2034 8778 1010 1996 7316 3617 2951 9605 2012 2560 1996 2034 3617 2951 1010 16726 1996 7316 3617 2951 2003 11860 2012 1037 7316 3446 2008 2003 21933 6279 3709 2013 1996 2034 16227 3446 1012 1016 1012 1996 4118 1997 4366 1015 2582 9605 1024 4909 2117 2951 3378 2007 1037 2117 5992 4984 1010 1996 2117 2951 2383 1037 2117 8778 2367 2013 1996 2034 8778 1025 1998 16227 1996 2117 2951 2012 1037 2117 16227 3446 2000 9699 2117 3617 2951 1010 16726 1996 2117 16227 3446 2003 12381 7142 1025 16726 1996 2897 8778 2003 2367 2013 1996 2034 8778 1998 1996 2117 8778 1010 16726 1996 7316 3617 2951 8681 2012 2560 2028 1997 1996 2034 3617 2951 1998 1996 2117 3617 2951 1010 1998 16726 1996 7316 3617 2951 2003 11860 2012 1996 7316 3446 2008 2003 21933 6279 3709 2013 1996 2034 16227 3446 1998 1996 2117 16227 3446 1012 1017 1012 1996 4118 1997 4366 1015 16726 1996 7316 3446 2003 12381 7142 1012 1018 1012 1996 4118 1997 102 1015 1012 1037 6994 19012 2005 15986 2000 1998 5967 2005 2224 2007 1037 4316 6336 14513 2383 2490 2608 1010 2056 6994 19012 9605 1024 2176 11139 5794 4667 3681 5834 2013 1037 2918 1998 5716 1037 5527 3872 2005 23977 1037 29018 1997 5906 1998 3033 1025 1037 13228 2135 2396 2594 10924 11876 4372 20464 18606 2056 5527 3872 1025 26404 14449 2965 5834 2013 2056 5527 3872 1010 2056 14449 2965 2128 5302 3567 6321 22476 3085 2000 2056 2490 2608 2005 4637 2056 6994 19012 2011 8992 17727 23496 3672 1025 1037 1057 1011 5044 3614 21358 23901 2000 2019 6327 4664 1997 2012 2560 2028 1997 2056 3681 1010 2056 3614 2005 4637 1037 2192 6994 1025 1037 2490 5127 11310 2013 1037 2392 1997 2056 6994 19012 1998 2522 1011 4866 2007 2056 2918 1025 1037 29018 1997 7783 18892 2015 2719 1999 2056 2490 5127 1010 2056 29018 1997 7783 18892 2015 5967 7451 2000 8752 7783 1998 2312 2192 5906 1025 1037 29018 1997 2235 18892 2015 2719 1999 2056 2490 5127 1010 2056 29018 1997 2235 18892 2015 5967 2000 8752 2235 2192 5906 1025 2012 2560 2028 2312 18892 2719 1999 2056 2490 5127 1010 2056 2012 2560 2028 2312 18892 5967 2000 8752 1037 11661 1012 1016 1012 1996 6994 19012 1997 4366 1015 2582 9605 1037 4934 8231 6025 5527 13065 3024 4218 2056 2918 1998 2056 2490 5127 2005 3176 5527 2181 1010 2056 2918 1998 2056 2490 5127 4082 102\n",
            "INFO:tensorflow:input_mask: 1 1 1 1 1 1 1 1 1 1 1 1 1 1 1 1 1 1 1 1 1 1 1 1 1 1 1 1 1 1 1 1 1 1 1 1 1 1 1 1 1 1 1 1 1 1 1 1 1 1 1 1 1 1 1 1 1 1 1 1 1 1 1 1 1 1 1 1 1 1 1 1 1 1 1 1 1 1 1 1 1 1 1 1 1 1 1 1 1 1 1 1 1 1 1 1 1 1 1 1 1 1 1 1 1 1 1 1 1 1 1 1 1 1 1 1 1 1 1 1 1 1 1 1 1 1 1 1 1 1 1 1 1 1 1 1 1 1 1 1 1 1 1 1 1 1 1 1 1 1 1 1 1 1 1 1 1 1 1 1 1 1 1 1 1 1 1 1 1 1 1 1 1 1 1 1 1 1 1 1 1 1 1 1 1 1 1 1 1 1 1 1 1 1 1 1 1 1 1 1 1 1 1 1 1 1 1 1 1 1 1 1 1 1 1 1 1 1 1 1 1 1 1 1 1 1 1 1 1 1 1 1 1 1 1 1 1 1 1 1 1 1 1 1 1 1 1 1 1 1 1 1 1 1 1 1 1 1 1 1 1 1 1 1 1 1 1 1 1 1 1 1 1 1 1 1 1 1 1 1 1 1 1 1 1 1 1 1 1 1 1 1 1 1 1 1 1 1 1 1 1 1 1 1 1 1 1 1 1 1 1 1 1 1 1 1 1 1 1 1 1 1 1 1 1 1 1 1 1 1 1 1 1 1 1 1 1 1 1 1 1 1 1 1 1 1 1 1 1 1 1 1 1 1 1 1 1 1 1 1 1 1 1 1 1 1 1 1 1 1 1 1 1 1 1 1 1 1 1 1 1 1 1 1 1 1 1 1 1 1 1 1 1 1 1 1 1 1 1 1 1 1 1 1 1 1 1 1 1 1 1 1 1 1 1 1 1 1 1 1 1 1 1 1 1 1 1 1 1 1 1 1 1 1 1 1 1 1 1 1 1 1 1 1 1 1 1 1 1 1 1 1 1 1 1 1 1 1 1 1 1 1 1 1 1 1 1 1 1 1 1 1 1 1 1 1 1 1 1 1 1 1 1 1 1 1 1 1 1 1 1 1 1 1 1 1 1 1 1 1 1 1 1 1 1 1 1 1 1 1 1 1\n",
            "INFO:tensorflow:segment_ids: 0 0 0 0 0 0 0 0 0 0 0 0 0 0 0 0 0 0 0 0 0 0 0 0 0 0 0 0 0 0 0 0 0 0 0 0 0 0 0 0 0 0 0 0 0 0 0 0 0 0 0 0 0 0 0 0 0 0 0 0 0 0 0 0 0 0 0 0 0 0 0 0 0 0 0 0 0 0 0 0 0 0 0 0 0 0 0 0 0 0 0 0 0 0 0 0 0 0 0 0 0 0 0 0 0 0 0 0 0 0 0 0 0 0 0 0 0 0 0 0 0 0 0 0 0 0 0 0 0 0 0 0 0 0 0 0 0 0 0 0 0 0 0 0 0 0 0 0 0 0 0 0 0 0 0 0 0 0 0 0 0 0 0 0 0 0 0 0 0 0 0 0 0 0 0 0 0 0 0 0 0 0 0 0 0 0 0 0 0 0 0 0 0 0 0 0 0 0 0 0 0 0 0 0 0 0 0 0 0 0 0 0 0 0 0 0 0 0 0 0 0 0 0 0 0 0 0 0 0 0 0 0 0 0 0 0 0 0 0 0 0 0 0 0 0 0 0 0 0 0 0 0 0 0 0 0 0 1 1 1 1 1 1 1 1 1 1 1 1 1 1 1 1 1 1 1 1 1 1 1 1 1 1 1 1 1 1 1 1 1 1 1 1 1 1 1 1 1 1 1 1 1 1 1 1 1 1 1 1 1 1 1 1 1 1 1 1 1 1 1 1 1 1 1 1 1 1 1 1 1 1 1 1 1 1 1 1 1 1 1 1 1 1 1 1 1 1 1 1 1 1 1 1 1 1 1 1 1 1 1 1 1 1 1 1 1 1 1 1 1 1 1 1 1 1 1 1 1 1 1 1 1 1 1 1 1 1 1 1 1 1 1 1 1 1 1 1 1 1 1 1 1 1 1 1 1 1 1 1 1 1 1 1 1 1 1 1 1 1 1 1 1 1 1 1 1 1 1 1 1 1 1 1 1 1 1 1 1 1 1 1 1 1 1 1 1 1 1 1 1 1 1 1 1 1 1 1 1 1 1 1 1 1 1 1 1 1 1 1 1 1 1 1 1 1 1 1 1 1 1 1 1 1 1 1 1 1 1 1 1 1 1 1 1 1 1 1 1 1 1 1 1 1 1 1 1 1 1 1 1 1 1\n",
            "INFO:tensorflow:label: not_entailment (id = 0)\n",
            "INFO:tensorflow:*** Example ***\n",
            "INFO:tensorflow:guid: 0_6837647\n",
            "INFO:tensorflow:tokens: [CLS] 1 . a method to aggregate , filter , and share energy data for analysis , the method comprising : receiving first data associated with a first electrical circuit , the first data having a first protocol ; sampling the first data at a first sampling rate to generate first digital data , wherein the first sampling rate is substantially continuous ; and transmitting reporting digital data over a network having a network protocol different from the first protocol , the reporting digital data comprising at least the first digital data , wherein the reporting digital data is transmitted at a reporting rate that is deco ##up ##led from the first sampling rate . 2 . the method of claim 1 further comprising : receiving second data associated with a second electrical circuit , the second data having a second protocol different from the first protocol ; and sampling the second data at a second sampling rate to generate second digital data , wherein the second sampling rate is substantially continuous ; wherein the network protocol is different from the first protocol and the second protocol , wherein the reporting digital data comprises at least one of the first digital data and the second digital data , and wherein the reporting digital data is transmitted at the reporting rate that is deco ##up ##led from the first sampling rate and the second sampling rate . 3 . the method of claim 1 wherein the reporting rate is substantially continuous . 4 . the method of [SEP] 1 . a modular crowd and traffic control barrier , comprising : a plurality , of barrier sections with each barrier section of said plurality of barrier sections comprising a male end and a female end , a base portion and an upright portion having one or more projections at each said male end and said female end of each said barrier section ; a plurality of rein ##for ##cing strips ; a plurality of hi ##nge pins ; a tension member for attach ##ing each rein ##for ##cing strip of said plurality of rein ##for ##cing strips to a respective said barrier section , wherein said tension member passes through aligned aperture ##s in said rein ##for ##cing strip and said barrier section ; at least one rein ##for ##cing bracket for spanning between two adjacent said barrier sections , said at least one rein ##for ##cing bracket having an aperture , wherein said at least one rein ##for ##cing bracket is to be retained in place by at least one said tension member of each said barrier section passing through the aperture in said rein ##for ##cing bracket , wherein for each said barrier section there is another barrier section of said plurality of barrier sections so that when said female end of a first said barrier section is brought adjacent to said male end of a second said barrier section , said one or more projections of each of said female end and of said male end mate with one another [SEP]\n",
            "INFO:tensorflow:input_ids: 101 1015 1012 1037 4118 2000 9572 1010 11307 1010 1998 3745 2943 2951 2005 4106 1010 1996 4118 9605 1024 4909 2034 2951 3378 2007 1037 2034 5992 4984 1010 1996 2034 2951 2383 1037 2034 8778 1025 16227 1996 2034 2951 2012 1037 2034 16227 3446 2000 9699 2034 3617 2951 1010 16726 1996 2034 16227 3446 2003 12381 7142 1025 1998 23820 7316 3617 2951 2058 1037 2897 2383 1037 2897 8778 2367 2013 1996 2034 8778 1010 1996 7316 3617 2951 9605 2012 2560 1996 2034 3617 2951 1010 16726 1996 7316 3617 2951 2003 11860 2012 1037 7316 3446 2008 2003 21933 6279 3709 2013 1996 2034 16227 3446 1012 1016 1012 1996 4118 1997 4366 1015 2582 9605 1024 4909 2117 2951 3378 2007 1037 2117 5992 4984 1010 1996 2117 2951 2383 1037 2117 8778 2367 2013 1996 2034 8778 1025 1998 16227 1996 2117 2951 2012 1037 2117 16227 3446 2000 9699 2117 3617 2951 1010 16726 1996 2117 16227 3446 2003 12381 7142 1025 16726 1996 2897 8778 2003 2367 2013 1996 2034 8778 1998 1996 2117 8778 1010 16726 1996 7316 3617 2951 8681 2012 2560 2028 1997 1996 2034 3617 2951 1998 1996 2117 3617 2951 1010 1998 16726 1996 7316 3617 2951 2003 11860 2012 1996 7316 3446 2008 2003 21933 6279 3709 2013 1996 2034 16227 3446 1998 1996 2117 16227 3446 1012 1017 1012 1996 4118 1997 4366 1015 16726 1996 7316 3446 2003 12381 7142 1012 1018 1012 1996 4118 1997 102 1015 1012 1037 19160 4306 1998 4026 2491 8803 1010 9605 1024 1037 29018 1010 1997 8803 5433 2007 2169 8803 2930 1997 2056 29018 1997 8803 5433 9605 1037 3287 2203 1998 1037 2931 2203 1010 1037 2918 4664 1998 2019 10051 4664 2383 2028 2030 2062 21796 2012 2169 2056 3287 2203 1998 2056 2931 2203 1997 2169 2056 8803 2930 1025 1037 29018 1997 27788 29278 6129 12970 1025 1037 29018 1997 7632 15465 16300 1025 1037 6980 2266 2005 22476 2075 2169 27788 29278 6129 6167 1997 2056 29018 1997 27788 29278 6129 12970 2000 1037 7972 2056 8803 2930 1010 16726 2056 6980 2266 5235 2083 13115 18892 2015 1999 2056 27788 29278 6129 6167 1998 2056 8803 2930 1025 2012 2560 2028 27788 29278 6129 21605 2005 13912 2090 2048 5516 2056 8803 5433 1010 2056 2012 2560 2028 27788 29278 6129 21605 2383 2019 18892 1010 16726 2056 2012 2560 2028 27788 29278 6129 21605 2003 2000 2022 6025 1999 2173 2011 2012 2560 2028 2056 6980 2266 1997 2169 2056 8803 2930 4458 2083 1996 18892 1999 2056 27788 29278 6129 21605 1010 16726 2005 2169 2056 8803 2930 2045 2003 2178 8803 2930 1997 2056 29018 1997 8803 5433 2061 2008 2043 2056 2931 2203 1997 1037 2034 2056 8803 2930 2003 2716 5516 2000 2056 3287 2203 1997 1037 2117 2056 8803 2930 1010 2056 2028 2030 2062 21796 1997 2169 1997 2056 2931 2203 1998 1997 2056 3287 2203 6775 2007 2028 2178 102\n",
            "INFO:tensorflow:input_mask: 1 1 1 1 1 1 1 1 1 1 1 1 1 1 1 1 1 1 1 1 1 1 1 1 1 1 1 1 1 1 1 1 1 1 1 1 1 1 1 1 1 1 1 1 1 1 1 1 1 1 1 1 1 1 1 1 1 1 1 1 1 1 1 1 1 1 1 1 1 1 1 1 1 1 1 1 1 1 1 1 1 1 1 1 1 1 1 1 1 1 1 1 1 1 1 1 1 1 1 1 1 1 1 1 1 1 1 1 1 1 1 1 1 1 1 1 1 1 1 1 1 1 1 1 1 1 1 1 1 1 1 1 1 1 1 1 1 1 1 1 1 1 1 1 1 1 1 1 1 1 1 1 1 1 1 1 1 1 1 1 1 1 1 1 1 1 1 1 1 1 1 1 1 1 1 1 1 1 1 1 1 1 1 1 1 1 1 1 1 1 1 1 1 1 1 1 1 1 1 1 1 1 1 1 1 1 1 1 1 1 1 1 1 1 1 1 1 1 1 1 1 1 1 1 1 1 1 1 1 1 1 1 1 1 1 1 1 1 1 1 1 1 1 1 1 1 1 1 1 1 1 1 1 1 1 1 1 1 1 1 1 1 1 1 1 1 1 1 1 1 1 1 1 1 1 1 1 1 1 1 1 1 1 1 1 1 1 1 1 1 1 1 1 1 1 1 1 1 1 1 1 1 1 1 1 1 1 1 1 1 1 1 1 1 1 1 1 1 1 1 1 1 1 1 1 1 1 1 1 1 1 1 1 1 1 1 1 1 1 1 1 1 1 1 1 1 1 1 1 1 1 1 1 1 1 1 1 1 1 1 1 1 1 1 1 1 1 1 1 1 1 1 1 1 1 1 1 1 1 1 1 1 1 1 1 1 1 1 1 1 1 1 1 1 1 1 1 1 1 1 1 1 1 1 1 1 1 1 1 1 1 1 1 1 1 1 1 1 1 1 1 1 1 1 1 1 1 1 1 1 1 1 1 1 1 1 1 1 1 1 1 1 1 1 1 1 1 1 1 1 1 1 1 1 1 1 1 1 1 1 1 1 1 1 1 1 1 1 1 1 1 1 1 1 1 1 1 1 1 1 1 1 1 1 1 1 1 1 1 1 1 1 1 1 1 1 1 1 1 1 1 1 1 1 1 1 1 1 1 1 1 1\n",
            "INFO:tensorflow:segment_ids: 0 0 0 0 0 0 0 0 0 0 0 0 0 0 0 0 0 0 0 0 0 0 0 0 0 0 0 0 0 0 0 0 0 0 0 0 0 0 0 0 0 0 0 0 0 0 0 0 0 0 0 0 0 0 0 0 0 0 0 0 0 0 0 0 0 0 0 0 0 0 0 0 0 0 0 0 0 0 0 0 0 0 0 0 0 0 0 0 0 0 0 0 0 0 0 0 0 0 0 0 0 0 0 0 0 0 0 0 0 0 0 0 0 0 0 0 0 0 0 0 0 0 0 0 0 0 0 0 0 0 0 0 0 0 0 0 0 0 0 0 0 0 0 0 0 0 0 0 0 0 0 0 0 0 0 0 0 0 0 0 0 0 0 0 0 0 0 0 0 0 0 0 0 0 0 0 0 0 0 0 0 0 0 0 0 0 0 0 0 0 0 0 0 0 0 0 0 0 0 0 0 0 0 0 0 0 0 0 0 0 0 0 0 0 0 0 0 0 0 0 0 0 0 0 0 0 0 0 0 0 0 0 0 0 0 0 0 0 0 0 0 0 0 0 0 0 0 0 0 0 0 0 0 0 0 0 0 1 1 1 1 1 1 1 1 1 1 1 1 1 1 1 1 1 1 1 1 1 1 1 1 1 1 1 1 1 1 1 1 1 1 1 1 1 1 1 1 1 1 1 1 1 1 1 1 1 1 1 1 1 1 1 1 1 1 1 1 1 1 1 1 1 1 1 1 1 1 1 1 1 1 1 1 1 1 1 1 1 1 1 1 1 1 1 1 1 1 1 1 1 1 1 1 1 1 1 1 1 1 1 1 1 1 1 1 1 1 1 1 1 1 1 1 1 1 1 1 1 1 1 1 1 1 1 1 1 1 1 1 1 1 1 1 1 1 1 1 1 1 1 1 1 1 1 1 1 1 1 1 1 1 1 1 1 1 1 1 1 1 1 1 1 1 1 1 1 1 1 1 1 1 1 1 1 1 1 1 1 1 1 1 1 1 1 1 1 1 1 1 1 1 1 1 1 1 1 1 1 1 1 1 1 1 1 1 1 1 1 1 1 1 1 1 1 1 1 1 1 1 1 1 1 1 1 1 1 1 1 1 1 1 1 1 1 1 1 1 1 1 1 1 1 1 1 1 1 1 1 1 1 1 1\n",
            "INFO:tensorflow:label: not_entailment (id = 0)\n",
            "INFO:tensorflow:*** Example ***\n",
            "INFO:tensorflow:guid: 0_6837799\n",
            "INFO:tensorflow:tokens: [CLS] 1 . a method to aggregate , filter , and share energy data for analysis , the method comprising : receiving first data associated with a first electrical circuit , the first data having a first protocol ; sampling the first data at a first sampling rate to generate first digital data , wherein the first sampling rate is substantially continuous ; and transmitting reporting digital data over a network having a network protocol different from the first protocol , the reporting digital data comprising at least the first digital data , wherein the reporting digital data is transmitted at a reporting rate that is deco ##up ##led from the first sampling rate . 2 . the method of claim 1 further comprising : receiving second data associated with a second electrical circuit , the second data having a second protocol different from the first protocol ; and sampling the second data at a second sampling rate to generate second digital data , wherein the second sampling rate is substantially continuous ; wherein the network protocol is different from the first protocol and the second protocol , wherein the reporting digital data comprises at least one of the first digital data and the second digital data , and wherein the reporting digital data is transmitted at the reporting rate that is deco ##up ##led from the first sampling rate and the second sampling rate . 3 . the method of claim 1 wherein the reporting rate is substantially continuous . 4 . the method of [SEP] 1 . a method of align ##ing a put ##ter , comprising the steps of : providing a put ##ter having a head , a heel , a toe , a top surface , and a plan ##ar striking face comprising a re ##movable reflecting surface for receiving and reflecting incident light , the top surface comprising at least one first reference line oriented substantially parallel to the striking face and a plurality of second reference lines oriented substantially perpendicular to the striking face ; providing a light source separate from the put ##ter head ; directing light from the light source towards the reflecting surface such that the reflective surface is illuminated with and reflects a portion of the light towards a reference device ; detecting the reflected light with a reference device , wherein the reference device is a photos ##ens ##itive array and the reflected light incident upon the photos ##ens ##itive array generates a signal capable of being transferred to an output device visible to a golfer ; determining the location of the reflected beam on the reference device relative to a central point prior to the golfer making a putting stroke ; correct ##ing the orientation of the put ##ter so that the reflected beam is directed at the center of the reference device ; and using the reference lines to provide a visual reference point to the golfer indicative of put ##ter orientation . 2 . the method of claim 1 , wherein the light source is a [SEP]\n",
            "INFO:tensorflow:input_ids: 101 1015 1012 1037 4118 2000 9572 1010 11307 1010 1998 3745 2943 2951 2005 4106 1010 1996 4118 9605 1024 4909 2034 2951 3378 2007 1037 2034 5992 4984 1010 1996 2034 2951 2383 1037 2034 8778 1025 16227 1996 2034 2951 2012 1037 2034 16227 3446 2000 9699 2034 3617 2951 1010 16726 1996 2034 16227 3446 2003 12381 7142 1025 1998 23820 7316 3617 2951 2058 1037 2897 2383 1037 2897 8778 2367 2013 1996 2034 8778 1010 1996 7316 3617 2951 9605 2012 2560 1996 2034 3617 2951 1010 16726 1996 7316 3617 2951 2003 11860 2012 1037 7316 3446 2008 2003 21933 6279 3709 2013 1996 2034 16227 3446 1012 1016 1012 1996 4118 1997 4366 1015 2582 9605 1024 4909 2117 2951 3378 2007 1037 2117 5992 4984 1010 1996 2117 2951 2383 1037 2117 8778 2367 2013 1996 2034 8778 1025 1998 16227 1996 2117 2951 2012 1037 2117 16227 3446 2000 9699 2117 3617 2951 1010 16726 1996 2117 16227 3446 2003 12381 7142 1025 16726 1996 2897 8778 2003 2367 2013 1996 2034 8778 1998 1996 2117 8778 1010 16726 1996 7316 3617 2951 8681 2012 2560 2028 1997 1996 2034 3617 2951 1998 1996 2117 3617 2951 1010 1998 16726 1996 7316 3617 2951 2003 11860 2012 1996 7316 3446 2008 2003 21933 6279 3709 2013 1996 2034 16227 3446 1998 1996 2117 16227 3446 1012 1017 1012 1996 4118 1997 4366 1015 16726 1996 7316 3446 2003 12381 7142 1012 1018 1012 1996 4118 1997 102 1015 1012 1037 4118 1997 25705 2075 1037 2404 3334 1010 9605 1996 4084 1997 1024 4346 1037 2404 3334 2383 1037 2132 1010 1037 12073 1010 1037 11756 1010 1037 2327 3302 1010 1998 1037 2933 2906 8478 2227 9605 1037 2128 25661 10842 3302 2005 4909 1998 10842 5043 2422 1010 1996 2327 3302 9605 2012 2560 2028 2034 4431 2240 8048 12381 5903 2000 1996 8478 2227 1998 1037 29018 1997 2117 4431 3210 8048 12381 19581 2000 1996 8478 2227 1025 4346 1037 2422 3120 3584 2013 1996 2404 3334 2132 1025 9855 2422 2013 1996 2422 3120 2875 1996 10842 3302 2107 2008 1996 21346 3302 2003 14640 2007 1998 11138 1037 4664 1997 1996 2422 2875 1037 4431 5080 1025 25952 1996 7686 2422 2007 1037 4431 5080 1010 16726 1996 4431 5080 2003 1037 7760 6132 13043 9140 1998 1996 7686 2422 5043 2588 1996 7760 6132 13043 9140 19421 1037 4742 5214 1997 2108 4015 2000 2019 6434 5080 5710 2000 1037 20601 1025 12515 1996 3295 1997 1996 7686 7504 2006 1996 4431 5080 5816 2000 1037 2430 2391 3188 2000 1996 20601 2437 1037 5128 6909 1025 6149 2075 1996 10296 1997 1996 2404 3334 2061 2008 1996 7686 7504 2003 2856 2012 1996 2415 1997 1996 4431 5080 1025 1998 2478 1996 4431 3210 2000 3073 1037 5107 4431 2391 2000 1996 20601 24668 1997 2404 3334 10296 1012 1016 1012 1996 4118 1997 4366 1015 1010 16726 1996 2422 3120 2003 1037 102\n",
            "INFO:tensorflow:input_mask: 1 1 1 1 1 1 1 1 1 1 1 1 1 1 1 1 1 1 1 1 1 1 1 1 1 1 1 1 1 1 1 1 1 1 1 1 1 1 1 1 1 1 1 1 1 1 1 1 1 1 1 1 1 1 1 1 1 1 1 1 1 1 1 1 1 1 1 1 1 1 1 1 1 1 1 1 1 1 1 1 1 1 1 1 1 1 1 1 1 1 1 1 1 1 1 1 1 1 1 1 1 1 1 1 1 1 1 1 1 1 1 1 1 1 1 1 1 1 1 1 1 1 1 1 1 1 1 1 1 1 1 1 1 1 1 1 1 1 1 1 1 1 1 1 1 1 1 1 1 1 1 1 1 1 1 1 1 1 1 1 1 1 1 1 1 1 1 1 1 1 1 1 1 1 1 1 1 1 1 1 1 1 1 1 1 1 1 1 1 1 1 1 1 1 1 1 1 1 1 1 1 1 1 1 1 1 1 1 1 1 1 1 1 1 1 1 1 1 1 1 1 1 1 1 1 1 1 1 1 1 1 1 1 1 1 1 1 1 1 1 1 1 1 1 1 1 1 1 1 1 1 1 1 1 1 1 1 1 1 1 1 1 1 1 1 1 1 1 1 1 1 1 1 1 1 1 1 1 1 1 1 1 1 1 1 1 1 1 1 1 1 1 1 1 1 1 1 1 1 1 1 1 1 1 1 1 1 1 1 1 1 1 1 1 1 1 1 1 1 1 1 1 1 1 1 1 1 1 1 1 1 1 1 1 1 1 1 1 1 1 1 1 1 1 1 1 1 1 1 1 1 1 1 1 1 1 1 1 1 1 1 1 1 1 1 1 1 1 1 1 1 1 1 1 1 1 1 1 1 1 1 1 1 1 1 1 1 1 1 1 1 1 1 1 1 1 1 1 1 1 1 1 1 1 1 1 1 1 1 1 1 1 1 1 1 1 1 1 1 1 1 1 1 1 1 1 1 1 1 1 1 1 1 1 1 1 1 1 1 1 1 1 1 1 1 1 1 1 1 1 1 1 1 1 1 1 1 1 1 1 1 1 1 1 1 1 1 1 1 1 1 1 1 1 1 1 1 1 1 1 1 1 1 1 1 1 1 1 1 1 1 1 1 1 1 1 1 1 1 1 1 1 1 1 1 1 1 1 1 1 1 1\n",
            "INFO:tensorflow:segment_ids: 0 0 0 0 0 0 0 0 0 0 0 0 0 0 0 0 0 0 0 0 0 0 0 0 0 0 0 0 0 0 0 0 0 0 0 0 0 0 0 0 0 0 0 0 0 0 0 0 0 0 0 0 0 0 0 0 0 0 0 0 0 0 0 0 0 0 0 0 0 0 0 0 0 0 0 0 0 0 0 0 0 0 0 0 0 0 0 0 0 0 0 0 0 0 0 0 0 0 0 0 0 0 0 0 0 0 0 0 0 0 0 0 0 0 0 0 0 0 0 0 0 0 0 0 0 0 0 0 0 0 0 0 0 0 0 0 0 0 0 0 0 0 0 0 0 0 0 0 0 0 0 0 0 0 0 0 0 0 0 0 0 0 0 0 0 0 0 0 0 0 0 0 0 0 0 0 0 0 0 0 0 0 0 0 0 0 0 0 0 0 0 0 0 0 0 0 0 0 0 0 0 0 0 0 0 0 0 0 0 0 0 0 0 0 0 0 0 0 0 0 0 0 0 0 0 0 0 0 0 0 0 0 0 0 0 0 0 0 0 0 0 0 0 0 0 0 0 0 0 0 0 0 0 0 0 0 0 1 1 1 1 1 1 1 1 1 1 1 1 1 1 1 1 1 1 1 1 1 1 1 1 1 1 1 1 1 1 1 1 1 1 1 1 1 1 1 1 1 1 1 1 1 1 1 1 1 1 1 1 1 1 1 1 1 1 1 1 1 1 1 1 1 1 1 1 1 1 1 1 1 1 1 1 1 1 1 1 1 1 1 1 1 1 1 1 1 1 1 1 1 1 1 1 1 1 1 1 1 1 1 1 1 1 1 1 1 1 1 1 1 1 1 1 1 1 1 1 1 1 1 1 1 1 1 1 1 1 1 1 1 1 1 1 1 1 1 1 1 1 1 1 1 1 1 1 1 1 1 1 1 1 1 1 1 1 1 1 1 1 1 1 1 1 1 1 1 1 1 1 1 1 1 1 1 1 1 1 1 1 1 1 1 1 1 1 1 1 1 1 1 1 1 1 1 1 1 1 1 1 1 1 1 1 1 1 1 1 1 1 1 1 1 1 1 1 1 1 1 1 1 1 1 1 1 1 1 1 1 1 1 1 1 1 1 1 1 1 1 1 1 1 1 1 1 1 1 1 1 1 1 1 1\n",
            "INFO:tensorflow:label: not_entailment (id = 0)\n",
            "INFO:tensorflow:*** Example ***\n",
            "INFO:tensorflow:guid: 0_6837893\n",
            "INFO:tensorflow:tokens: [CLS] 1 . a method to aggregate , filter , and share energy data for analysis , the method comprising : receiving first data associated with a first electrical circuit , the first data having a first protocol ; sampling the first data at a first sampling rate to generate first digital data , wherein the first sampling rate is substantially continuous ; and transmitting reporting digital data over a network having a network protocol different from the first protocol , the reporting digital data comprising at least the first digital data , wherein the reporting digital data is transmitted at a reporting rate that is deco ##up ##led from the first sampling rate . 2 . the method of claim 1 further comprising : receiving second data associated with a second electrical circuit , the second data having a second protocol different from the first protocol ; and sampling the second data at a second sampling rate to generate second digital data , wherein the second sampling rate is substantially continuous ; wherein the network protocol is different from the first protocol and the second protocol , wherein the reporting digital data comprises at least one of the first digital data and the second digital data , and wherein the reporting digital data is transmitted at the reporting rate that is deco ##up ##led from the first sampling rate and the second sampling rate . 3 . the method of claim 1 wherein the reporting rate is substantially continuous . 4 . the method of [SEP] 1 . apparatus for insert ##ing a surgical fast ##ener through a plurality of portions of material , said apparatus comprising : a surgical fast ##ener having first and second ends and made from a material which enables said fast ##ener to be transformed from a first stressed el ##onga ##te shape to a second un ##st ##ressed shape upon release of said fast ##ener from a stressed condition , the first stressed el ##onga ##te shape of said fast ##ener enabling the first end to be extended through a plurality of layers of material , and with the second shape of the fast ##ener being in the form of a spring with a plurality of coil ##s around a spring axis , with the coil ##s being spring biased towards each other along the spring axis with sufficient axial force to enable the coil ##s on opposite sides of the layers of material to cl ##amp the layers of material together along the spring axis ; a single needle having first and second ends , penetration means adjacent the first end of said single needle , said penetration means being configured to pierce through the plurality of layers of material , and insertion means adjacent to the first end of said single needle , said insertion means being configured to place said surgical fast ##ener through the plurality of layers of material pierced by said penetration means ; wherein said insertion means comprises a magazine comprising a plurality of chambers , with each [SEP]\n",
            "INFO:tensorflow:input_ids: 101 1015 1012 1037 4118 2000 9572 1010 11307 1010 1998 3745 2943 2951 2005 4106 1010 1996 4118 9605 1024 4909 2034 2951 3378 2007 1037 2034 5992 4984 1010 1996 2034 2951 2383 1037 2034 8778 1025 16227 1996 2034 2951 2012 1037 2034 16227 3446 2000 9699 2034 3617 2951 1010 16726 1996 2034 16227 3446 2003 12381 7142 1025 1998 23820 7316 3617 2951 2058 1037 2897 2383 1037 2897 8778 2367 2013 1996 2034 8778 1010 1996 7316 3617 2951 9605 2012 2560 1996 2034 3617 2951 1010 16726 1996 7316 3617 2951 2003 11860 2012 1037 7316 3446 2008 2003 21933 6279 3709 2013 1996 2034 16227 3446 1012 1016 1012 1996 4118 1997 4366 1015 2582 9605 1024 4909 2117 2951 3378 2007 1037 2117 5992 4984 1010 1996 2117 2951 2383 1037 2117 8778 2367 2013 1996 2034 8778 1025 1998 16227 1996 2117 2951 2012 1037 2117 16227 3446 2000 9699 2117 3617 2951 1010 16726 1996 2117 16227 3446 2003 12381 7142 1025 16726 1996 2897 8778 2003 2367 2013 1996 2034 8778 1998 1996 2117 8778 1010 16726 1996 7316 3617 2951 8681 2012 2560 2028 1997 1996 2034 3617 2951 1998 1996 2117 3617 2951 1010 1998 16726 1996 7316 3617 2951 2003 11860 2012 1996 7316 3446 2008 2003 21933 6279 3709 2013 1996 2034 16227 3446 1998 1996 2117 16227 3446 1012 1017 1012 1996 4118 1997 4366 1015 16726 1996 7316 3446 2003 12381 7142 1012 1018 1012 1996 4118 1997 102 1015 1012 14709 2005 19274 2075 1037 11707 3435 24454 2083 1037 29018 1997 8810 1997 3430 1010 2056 14709 9605 1024 1037 11707 3435 24454 2383 2034 1998 2117 4515 1998 2081 2013 1037 3430 2029 12939 2056 3435 24454 2000 2022 8590 2013 1037 2034 13233 3449 26356 2618 4338 2000 1037 2117 4895 3367 16119 4338 2588 2713 1997 2056 3435 24454 2013 1037 13233 4650 1010 1996 2034 13233 3449 26356 2618 4338 1997 2056 3435 24454 12067 1996 2034 2203 2000 2022 3668 2083 1037 29018 1997 9014 1997 3430 1010 1998 2007 1996 2117 4338 1997 1996 3435 24454 2108 1999 1996 2433 1997 1037 3500 2007 1037 29018 1997 17085 2015 2105 1037 3500 8123 1010 2007 1996 17085 2015 2108 3500 25352 2875 2169 2060 2247 1996 3500 8123 2007 7182 26819 2486 2000 9585 1996 17085 2015 2006 4500 3903 1997 1996 9014 1997 3430 2000 18856 16613 1996 9014 1997 3430 2362 2247 1996 3500 8123 1025 1037 2309 12201 2383 2034 1998 2117 4515 1010 20015 2965 5516 1996 2034 2203 1997 2056 2309 12201 1010 2056 20015 2965 2108 26928 2000 9267 2083 1996 29018 1997 9014 1997 3430 1010 1998 23851 2965 5516 2000 1996 2034 2203 1997 2056 2309 12201 1010 2056 23851 2965 2108 26928 2000 2173 2056 11707 3435 24454 2083 1996 29018 1997 9014 1997 3430 16276 2011 2056 20015 2965 1025 16726 2056 23851 2965 8681 1037 2932 9605 1037 29018 1997 8477 1010 2007 2169 102\n",
            "INFO:tensorflow:input_mask: 1 1 1 1 1 1 1 1 1 1 1 1 1 1 1 1 1 1 1 1 1 1 1 1 1 1 1 1 1 1 1 1 1 1 1 1 1 1 1 1 1 1 1 1 1 1 1 1 1 1 1 1 1 1 1 1 1 1 1 1 1 1 1 1 1 1 1 1 1 1 1 1 1 1 1 1 1 1 1 1 1 1 1 1 1 1 1 1 1 1 1 1 1 1 1 1 1 1 1 1 1 1 1 1 1 1 1 1 1 1 1 1 1 1 1 1 1 1 1 1 1 1 1 1 1 1 1 1 1 1 1 1 1 1 1 1 1 1 1 1 1 1 1 1 1 1 1 1 1 1 1 1 1 1 1 1 1 1 1 1 1 1 1 1 1 1 1 1 1 1 1 1 1 1 1 1 1 1 1 1 1 1 1 1 1 1 1 1 1 1 1 1 1 1 1 1 1 1 1 1 1 1 1 1 1 1 1 1 1 1 1 1 1 1 1 1 1 1 1 1 1 1 1 1 1 1 1 1 1 1 1 1 1 1 1 1 1 1 1 1 1 1 1 1 1 1 1 1 1 1 1 1 1 1 1 1 1 1 1 1 1 1 1 1 1 1 1 1 1 1 1 1 1 1 1 1 1 1 1 1 1 1 1 1 1 1 1 1 1 1 1 1 1 1 1 1 1 1 1 1 1 1 1 1 1 1 1 1 1 1 1 1 1 1 1 1 1 1 1 1 1 1 1 1 1 1 1 1 1 1 1 1 1 1 1 1 1 1 1 1 1 1 1 1 1 1 1 1 1 1 1 1 1 1 1 1 1 1 1 1 1 1 1 1 1 1 1 1 1 1 1 1 1 1 1 1 1 1 1 1 1 1 1 1 1 1 1 1 1 1 1 1 1 1 1 1 1 1 1 1 1 1 1 1 1 1 1 1 1 1 1 1 1 1 1 1 1 1 1 1 1 1 1 1 1 1 1 1 1 1 1 1 1 1 1 1 1 1 1 1 1 1 1 1 1 1 1 1 1 1 1 1 1 1 1 1 1 1 1 1 1 1 1 1 1 1 1 1 1 1 1 1 1 1 1 1 1 1 1 1 1 1 1 1 1 1 1 1 1 1 1 1 1 1 1 1 1 1 1 1 1 1 1 1 1 1 1 1 1 1 1 1\n",
            "INFO:tensorflow:segment_ids: 0 0 0 0 0 0 0 0 0 0 0 0 0 0 0 0 0 0 0 0 0 0 0 0 0 0 0 0 0 0 0 0 0 0 0 0 0 0 0 0 0 0 0 0 0 0 0 0 0 0 0 0 0 0 0 0 0 0 0 0 0 0 0 0 0 0 0 0 0 0 0 0 0 0 0 0 0 0 0 0 0 0 0 0 0 0 0 0 0 0 0 0 0 0 0 0 0 0 0 0 0 0 0 0 0 0 0 0 0 0 0 0 0 0 0 0 0 0 0 0 0 0 0 0 0 0 0 0 0 0 0 0 0 0 0 0 0 0 0 0 0 0 0 0 0 0 0 0 0 0 0 0 0 0 0 0 0 0 0 0 0 0 0 0 0 0 0 0 0 0 0 0 0 0 0 0 0 0 0 0 0 0 0 0 0 0 0 0 0 0 0 0 0 0 0 0 0 0 0 0 0 0 0 0 0 0 0 0 0 0 0 0 0 0 0 0 0 0 0 0 0 0 0 0 0 0 0 0 0 0 0 0 0 0 0 0 0 0 0 0 0 0 0 0 0 0 0 0 0 0 0 0 0 0 0 0 0 1 1 1 1 1 1 1 1 1 1 1 1 1 1 1 1 1 1 1 1 1 1 1 1 1 1 1 1 1 1 1 1 1 1 1 1 1 1 1 1 1 1 1 1 1 1 1 1 1 1 1 1 1 1 1 1 1 1 1 1 1 1 1 1 1 1 1 1 1 1 1 1 1 1 1 1 1 1 1 1 1 1 1 1 1 1 1 1 1 1 1 1 1 1 1 1 1 1 1 1 1 1 1 1 1 1 1 1 1 1 1 1 1 1 1 1 1 1 1 1 1 1 1 1 1 1 1 1 1 1 1 1 1 1 1 1 1 1 1 1 1 1 1 1 1 1 1 1 1 1 1 1 1 1 1 1 1 1 1 1 1 1 1 1 1 1 1 1 1 1 1 1 1 1 1 1 1 1 1 1 1 1 1 1 1 1 1 1 1 1 1 1 1 1 1 1 1 1 1 1 1 1 1 1 1 1 1 1 1 1 1 1 1 1 1 1 1 1 1 1 1 1 1 1 1 1 1 1 1 1 1 1 1 1 1 1 1 1 1 1 1 1 1 1 1 1 1 1 1 1 1 1 1 1 1\n",
            "INFO:tensorflow:label: not_entailment (id = 0)\n",
            "INFO:tensorflow:*** Example ***\n",
            "INFO:tensorflow:guid: 0_6837910\n",
            "INFO:tensorflow:tokens: [CLS] 1 . a method to aggregate , filter , and share energy data for analysis , the method comprising : receiving first data associated with a first electrical circuit , the first data having a first protocol ; sampling the first data at a first sampling rate to generate first digital data , wherein the first sampling rate is substantially continuous ; and transmitting reporting digital data over a network having a network protocol different from the first protocol , the reporting digital data comprising at least the first digital data , wherein the reporting digital data is transmitted at a reporting rate that is deco ##up ##led from the first sampling rate . 2 . the method of claim 1 further comprising : receiving second data associated with a second electrical circuit , the second data having a second protocol different from the first protocol ; and sampling the second data at a second sampling rate to generate second digital data , wherein the second sampling rate is substantially continuous ; wherein the network protocol is different from the first protocol and the second protocol , wherein the reporting digital data comprises at least one of the first digital data and the second digital data , and wherein the reporting digital data is transmitted at the reporting rate that is deco ##up ##led from the first sampling rate and the second sampling rate . 3 . the method of claim 1 wherein the reporting rate is substantially continuous . 4 . the method of [SEP] 1 . an apparatus for gas ##ifying a liquid or solid fuel which has a gas ##ifier for producing a thermal deco ##mp ##osed gas by means of a thermal decomposition reaction of the liquid or solid fuel , comprising : heating means for heating water or low - temperature steam , and low - temperature air so as to be high - temperature steam and high - temperature air which have a temperature equal to or higher than 700 de ##g . c . ; and feeding means for feeding said high - temperature steam and said high - temperature air to a thermal decomposition area for thermal ##ly deco ##mp ##osing the liquid or solid fuel and / or a reforming area for reforming the thermal deco ##mp ##osed gas . 2 . an apparatus according to claim 1 , wherein the high - temperature steam and air are introduced into said thermal decomposition area and / or said reforming area by said feeding means , so that said thermal deco ##mp ##osed gas is reformed so as to be a high - temperature syn ##gas with an ex ##oth ##er ##mic reaction between the high - temperature air and carbon compound contained in the thermal deco ##mp ##osed gas and with an end ##oth ##er ##mic reaction between the carbon compound and said high - temperature steam . 3 . an apparatus according to claim 1 , wherein said high - temperature steam and air are introduced into said thermal decomposition [SEP]\n",
            "INFO:tensorflow:input_ids: 101 1015 1012 1037 4118 2000 9572 1010 11307 1010 1998 3745 2943 2951 2005 4106 1010 1996 4118 9605 1024 4909 2034 2951 3378 2007 1037 2034 5992 4984 1010 1996 2034 2951 2383 1037 2034 8778 1025 16227 1996 2034 2951 2012 1037 2034 16227 3446 2000 9699 2034 3617 2951 1010 16726 1996 2034 16227 3446 2003 12381 7142 1025 1998 23820 7316 3617 2951 2058 1037 2897 2383 1037 2897 8778 2367 2013 1996 2034 8778 1010 1996 7316 3617 2951 9605 2012 2560 1996 2034 3617 2951 1010 16726 1996 7316 3617 2951 2003 11860 2012 1037 7316 3446 2008 2003 21933 6279 3709 2013 1996 2034 16227 3446 1012 1016 1012 1996 4118 1997 4366 1015 2582 9605 1024 4909 2117 2951 3378 2007 1037 2117 5992 4984 1010 1996 2117 2951 2383 1037 2117 8778 2367 2013 1996 2034 8778 1025 1998 16227 1996 2117 2951 2012 1037 2117 16227 3446 2000 9699 2117 3617 2951 1010 16726 1996 2117 16227 3446 2003 12381 7142 1025 16726 1996 2897 8778 2003 2367 2013 1996 2034 8778 1998 1996 2117 8778 1010 16726 1996 7316 3617 2951 8681 2012 2560 2028 1997 1996 2034 3617 2951 1998 1996 2117 3617 2951 1010 1998 16726 1996 7316 3617 2951 2003 11860 2012 1996 7316 3446 2008 2003 21933 6279 3709 2013 1996 2034 16227 3446 1998 1996 2117 16227 3446 1012 1017 1012 1996 4118 1997 4366 1015 16726 1996 7316 3446 2003 12381 7142 1012 1018 1012 1996 4118 1997 102 1015 1012 2019 14709 2005 3806 11787 1037 6381 2030 5024 4762 2029 2038 1037 3806 18095 2005 5155 1037 9829 21933 8737 24768 3806 2011 2965 1997 1037 9829 22511 4668 1997 1996 6381 2030 5024 4762 1010 9605 1024 10808 2965 2005 10808 2300 2030 2659 1011 4860 5492 1010 1998 2659 1011 4860 2250 2061 2004 2000 2022 2152 1011 4860 5492 1998 2152 1011 4860 2250 2029 2031 1037 4860 5020 2000 2030 3020 2084 6352 2139 2290 1012 1039 1012 1025 1998 8521 2965 2005 8521 2056 2152 1011 4860 5492 1998 2056 2152 1011 4860 2250 2000 1037 9829 22511 2181 2005 9829 2135 21933 8737 18606 1996 6381 2030 5024 4762 1998 1013 2030 1037 29455 2181 2005 29455 1996 9829 21933 8737 24768 3806 1012 1016 1012 2019 14709 2429 2000 4366 1015 1010 16726 1996 2152 1011 4860 5492 1998 2250 2024 3107 2046 2056 9829 22511 2181 1998 1013 2030 2056 29455 2181 2011 2056 8521 2965 1010 2061 2008 2056 9829 21933 8737 24768 3806 2003 9114 2061 2004 2000 2022 1037 2152 1011 4860 19962 12617 2007 2019 4654 14573 2121 7712 4668 2090 1996 2152 1011 4860 2250 1998 6351 7328 4838 1999 1996 9829 21933 8737 24768 3806 1998 2007 2019 2203 14573 2121 7712 4668 2090 1996 6351 7328 1998 2056 2152 1011 4860 5492 1012 1017 1012 2019 14709 2429 2000 4366 1015 1010 16726 2056 2152 1011 4860 5492 1998 2250 2024 3107 2046 2056 9829 22511 102\n",
            "INFO:tensorflow:input_mask: 1 1 1 1 1 1 1 1 1 1 1 1 1 1 1 1 1 1 1 1 1 1 1 1 1 1 1 1 1 1 1 1 1 1 1 1 1 1 1 1 1 1 1 1 1 1 1 1 1 1 1 1 1 1 1 1 1 1 1 1 1 1 1 1 1 1 1 1 1 1 1 1 1 1 1 1 1 1 1 1 1 1 1 1 1 1 1 1 1 1 1 1 1 1 1 1 1 1 1 1 1 1 1 1 1 1 1 1 1 1 1 1 1 1 1 1 1 1 1 1 1 1 1 1 1 1 1 1 1 1 1 1 1 1 1 1 1 1 1 1 1 1 1 1 1 1 1 1 1 1 1 1 1 1 1 1 1 1 1 1 1 1 1 1 1 1 1 1 1 1 1 1 1 1 1 1 1 1 1 1 1 1 1 1 1 1 1 1 1 1 1 1 1 1 1 1 1 1 1 1 1 1 1 1 1 1 1 1 1 1 1 1 1 1 1 1 1 1 1 1 1 1 1 1 1 1 1 1 1 1 1 1 1 1 1 1 1 1 1 1 1 1 1 1 1 1 1 1 1 1 1 1 1 1 1 1 1 1 1 1 1 1 1 1 1 1 1 1 1 1 1 1 1 1 1 1 1 1 1 1 1 1 1 1 1 1 1 1 1 1 1 1 1 1 1 1 1 1 1 1 1 1 1 1 1 1 1 1 1 1 1 1 1 1 1 1 1 1 1 1 1 1 1 1 1 1 1 1 1 1 1 1 1 1 1 1 1 1 1 1 1 1 1 1 1 1 1 1 1 1 1 1 1 1 1 1 1 1 1 1 1 1 1 1 1 1 1 1 1 1 1 1 1 1 1 1 1 1 1 1 1 1 1 1 1 1 1 1 1 1 1 1 1 1 1 1 1 1 1 1 1 1 1 1 1 1 1 1 1 1 1 1 1 1 1 1 1 1 1 1 1 1 1 1 1 1 1 1 1 1 1 1 1 1 1 1 1 1 1 1 1 1 1 1 1 1 1 1 1 1 1 1 1 1 1 1 1 1 1 1 1 1 1 1 1 1 1 1 1 1 1 1 1 1 1 1 1 1 1 1 1 1 1 1 1 1 1 1 1 1 1 1 1 1 1 1 1 1 1 1 1 1 1 1 1 1 1 1 1 1 1 1\n",
            "INFO:tensorflow:segment_ids: 0 0 0 0 0 0 0 0 0 0 0 0 0 0 0 0 0 0 0 0 0 0 0 0 0 0 0 0 0 0 0 0 0 0 0 0 0 0 0 0 0 0 0 0 0 0 0 0 0 0 0 0 0 0 0 0 0 0 0 0 0 0 0 0 0 0 0 0 0 0 0 0 0 0 0 0 0 0 0 0 0 0 0 0 0 0 0 0 0 0 0 0 0 0 0 0 0 0 0 0 0 0 0 0 0 0 0 0 0 0 0 0 0 0 0 0 0 0 0 0 0 0 0 0 0 0 0 0 0 0 0 0 0 0 0 0 0 0 0 0 0 0 0 0 0 0 0 0 0 0 0 0 0 0 0 0 0 0 0 0 0 0 0 0 0 0 0 0 0 0 0 0 0 0 0 0 0 0 0 0 0 0 0 0 0 0 0 0 0 0 0 0 0 0 0 0 0 0 0 0 0 0 0 0 0 0 0 0 0 0 0 0 0 0 0 0 0 0 0 0 0 0 0 0 0 0 0 0 0 0 0 0 0 0 0 0 0 0 0 0 0 0 0 0 0 0 0 0 0 0 0 0 0 0 0 0 0 1 1 1 1 1 1 1 1 1 1 1 1 1 1 1 1 1 1 1 1 1 1 1 1 1 1 1 1 1 1 1 1 1 1 1 1 1 1 1 1 1 1 1 1 1 1 1 1 1 1 1 1 1 1 1 1 1 1 1 1 1 1 1 1 1 1 1 1 1 1 1 1 1 1 1 1 1 1 1 1 1 1 1 1 1 1 1 1 1 1 1 1 1 1 1 1 1 1 1 1 1 1 1 1 1 1 1 1 1 1 1 1 1 1 1 1 1 1 1 1 1 1 1 1 1 1 1 1 1 1 1 1 1 1 1 1 1 1 1 1 1 1 1 1 1 1 1 1 1 1 1 1 1 1 1 1 1 1 1 1 1 1 1 1 1 1 1 1 1 1 1 1 1 1 1 1 1 1 1 1 1 1 1 1 1 1 1 1 1 1 1 1 1 1 1 1 1 1 1 1 1 1 1 1 1 1 1 1 1 1 1 1 1 1 1 1 1 1 1 1 1 1 1 1 1 1 1 1 1 1 1 1 1 1 1 1 1 1 1 1 1 1 1 1 1 1 1 1 1 1 1 1 1 1 1\n",
            "INFO:tensorflow:label: not_entailment (id = 0)\n",
            "CPU times: user 23min 51s, sys: 695 ms, total: 23min 51s\n",
            "Wall time: 23min 52s\n"
          ],
          "name": "stdout"
        }
      ]
    },
    {
      "metadata": {
        "id": "PXVRcG3oM4-J",
        "colab_type": "code",
        "colab": {}
      },
      "cell_type": "code",
      "source": [
        ""
      ],
      "execution_count": 0,
      "outputs": []
    },
    {
      "metadata": {
        "id": "_BMm-E5cMlYF",
        "colab_type": "code",
        "colab": {}
      },
      "cell_type": "code",
      "source": [
        ""
      ],
      "execution_count": 0,
      "outputs": []
    },
    {
      "metadata": {
        "id": "kmogDBaG05_9",
        "colab_type": "code",
        "outputId": "b578709b-0503-490f-bd39-2eb8ad7567fd",
        "colab": {
          "base_uri": "https://localhost:8080/",
          "height": 695
        }
      },
      "cell_type": "code",
      "source": [
        "%%time\n",
        "\n",
        "test_fdict_all = df_to_fdicts(test_data)"
      ],
      "execution_count": 0,
      "outputs": [
        {
          "output_type": "stream",
          "text": [
            "INFO:tensorflow:*** Example ***\n",
            "INFO:tensorflow:guid: 0\n",
            "INFO:tensorflow:tokens: [CLS] 1 . a rotational angle detection device for a permanent magnet dynamo - electric machine comprising : a stat ##or that includes arm ##at ##ure winding ; a rotor that includes a rotor core and a plurality of permanent magnet ##s ; and a conduct ##ive circuit that includes first conductors extending in an axial direction of the rotor and being disposed in at least two places in a ci ##rc ##um ##fer ##ential direction of the rotor , and second conductors for electrically inter ##con ##ne ##cting the first conductors , wherein , the first conductors are each disposed within one of a range of an electrical angle between & # x ##22 ##12 ; 45 & # x ##b ##0 ; and + 45 & # x ##b ##0 ; in the ci ##rc ##um ##fer ##ential direction with a magnetic pole center of each of the plurality of permanent magnet ##s being set as a reference and a range of an electrical angle between & # x ##22 ##12 ; 45 & # x ##b ##0 ; and + 45 & # x ##b ##0 ; with a position apart from the magnetic pole center by an electrical angle of 90 & # x ##b ##0 ; being set as a reference , the conduct ##ive circuit being disposed in at least one place in the ci ##rc ##um ##fer ##ential direction , the rotational angle detection device further comprising a detection means for detecting a rotational angle of the rotor by [SEP] 1 . a tangible computer - read ##able medium having stored there ##on computer - ex ##ec ##utable instructions for implementing a custom ##iza ##ble visual user interface on a screen display of a tel ##ep ##hony device comprising : an application program for providing services to a user on the tel ##ep ##hony device ; a shell program that expose ##s an application programming interface for custom ##izing the custom ##iza ##ble visual user interface ; a message center operative ##ly connected to the shell program for providing access to a user message ; and a tel ##ep ##hony module for managing tel ##ep ##hony functions , wherein the application programming interface exposed by the shell program comprises one or more methods , the application programming interface receiving input from an application , and wherein execution of the one or more methods of the application programming interface is responsive to the input from the application for custom ##izing the custom ##iza ##ble visual user interface , wherein the tel ##ep ##hony module includes an operator agent for determining a media mode of an incoming call . 2 . the computer - read ##able medium of claim 1 wherein the operator agent further hands the incoming call to the message transport based on the media mode . 3 . the computer - read ##able medium of claim 2 wherein the operator agent is implemented as a protected service library ( ps ##l ) . 4 . the computer - read ##able medium of claim [SEP]\n",
            "INFO:tensorflow:input_ids: 101 1015 1012 1037 25254 6466 10788 5080 2005 1037 4568 16853 17205 1011 3751 3698 9605 1024 1037 28093 2953 2008 2950 2849 4017 5397 12788 1025 1037 18929 2008 2950 1037 18929 4563 1998 1037 29018 1997 4568 16853 2015 1025 1998 1037 6204 3512 4984 2008 2950 2034 23396 8402 1999 2019 26819 3257 1997 1996 18929 1998 2108 21866 1999 2012 2560 2048 3182 1999 1037 25022 11890 2819 7512 24271 3257 1997 1996 18929 1010 1998 2117 23396 2005 29103 6970 8663 2638 11873 1996 2034 23396 1010 16726 1010 1996 2034 23396 2024 2169 21866 2306 2028 1997 1037 2846 1997 2019 5992 6466 2090 1004 1001 1060 19317 12521 1025 3429 1004 1001 1060 2497 2692 1025 1998 1009 3429 1004 1001 1060 2497 2692 1025 1999 1996 25022 11890 2819 7512 24271 3257 2007 1037 8060 6536 2415 1997 2169 1997 1996 29018 1997 4568 16853 2015 2108 2275 2004 1037 4431 1998 1037 2846 1997 2019 5992 6466 2090 1004 1001 1060 19317 12521 1025 3429 1004 1001 1060 2497 2692 1025 1998 1009 3429 1004 1001 1060 2497 2692 1025 2007 1037 2597 4237 2013 1996 8060 6536 2415 2011 2019 5992 6466 1997 3938 1004 1001 1060 2497 2692 1025 2108 2275 2004 1037 4431 1010 1996 6204 3512 4984 2108 21866 1999 2012 2560 2028 2173 1999 1996 25022 11890 2819 7512 24271 3257 1010 1996 25254 6466 10788 5080 2582 9605 1037 10788 2965 2005 25952 1037 25254 6466 1997 1996 18929 2011 102 1015 1012 1037 24600 3274 1011 3191 3085 5396 2383 8250 2045 2239 3274 1011 4654 8586 23056 8128 2005 14972 1037 7661 21335 3468 5107 5310 8278 2006 1037 3898 4653 1997 1037 10093 13699 27629 5080 9605 1024 2019 4646 2565 2005 4346 2578 2000 1037 5310 2006 1996 10093 13699 27629 5080 1025 1037 5806 2565 2008 14451 2015 2019 4646 4730 8278 2005 7661 6026 1996 7661 21335 3468 5107 5310 8278 1025 1037 4471 2415 12160 2135 4198 2000 1996 5806 2565 2005 4346 3229 2000 1037 5310 4471 1025 1998 1037 10093 13699 27629 11336 2005 6605 10093 13699 27629 4972 1010 16726 1996 4646 4730 8278 6086 2011 1996 5806 2565 8681 2028 2030 2062 4725 1010 1996 4646 4730 8278 4909 7953 2013 2019 4646 1010 1998 16726 7781 1997 1996 2028 2030 2062 4725 1997 1996 4646 4730 8278 2003 26651 2000 1996 7953 2013 1996 4646 2005 7661 6026 1996 7661 21335 3468 5107 5310 8278 1010 16726 1996 10093 13699 27629 11336 2950 2019 6872 4005 2005 12515 1037 2865 5549 1997 2019 14932 2655 1012 1016 1012 1996 3274 1011 3191 3085 5396 1997 4366 1015 16726 1996 6872 4005 2582 2398 1996 14932 2655 2000 1996 4471 3665 2241 2006 1996 2865 5549 1012 1017 1012 1996 3274 1011 3191 3085 5396 1997 4366 1016 16726 1996 6872 4005 2003 7528 2004 1037 5123 2326 3075 1006 8827 2140 1007 1012 1018 1012 1996 3274 1011 3191 3085 5396 1997 4366 102\n",
            "INFO:tensorflow:input_mask: 1 1 1 1 1 1 1 1 1 1 1 1 1 1 1 1 1 1 1 1 1 1 1 1 1 1 1 1 1 1 1 1 1 1 1 1 1 1 1 1 1 1 1 1 1 1 1 1 1 1 1 1 1 1 1 1 1 1 1 1 1 1 1 1 1 1 1 1 1 1 1 1 1 1 1 1 1 1 1 1 1 1 1 1 1 1 1 1 1 1 1 1 1 1 1 1 1 1 1 1 1 1 1 1 1 1 1 1 1 1 1 1 1 1 1 1 1 1 1 1 1 1 1 1 1 1 1 1 1 1 1 1 1 1 1 1 1 1 1 1 1 1 1 1 1 1 1 1 1 1 1 1 1 1 1 1 1 1 1 1 1 1 1 1 1 1 1 1 1 1 1 1 1 1 1 1 1 1 1 1 1 1 1 1 1 1 1 1 1 1 1 1 1 1 1 1 1 1 1 1 1 1 1 1 1 1 1 1 1 1 1 1 1 1 1 1 1 1 1 1 1 1 1 1 1 1 1 1 1 1 1 1 1 1 1 1 1 1 1 1 1 1 1 1 1 1 1 1 1 1 1 1 1 1 1 1 1 1 1 1 1 1 1 1 1 1 1 1 1 1 1 1 1 1 1 1 1 1 1 1 1 1 1 1 1 1 1 1 1 1 1 1 1 1 1 1 1 1 1 1 1 1 1 1 1 1 1 1 1 1 1 1 1 1 1 1 1 1 1 1 1 1 1 1 1 1 1 1 1 1 1 1 1 1 1 1 1 1 1 1 1 1 1 1 1 1 1 1 1 1 1 1 1 1 1 1 1 1 1 1 1 1 1 1 1 1 1 1 1 1 1 1 1 1 1 1 1 1 1 1 1 1 1 1 1 1 1 1 1 1 1 1 1 1 1 1 1 1 1 1 1 1 1 1 1 1 1 1 1 1 1 1 1 1 1 1 1 1 1 1 1 1 1 1 1 1 1 1 1 1 1 1 1 1 1 1 1 1 1 1 1 1 1 1 1 1 1 1 1 1 1 1 1 1 1 1 1 1 1 1 1 1 1 1 1 1 1 1 1 1 1 1 1 1 1 1 1 1 1 1 1 1 1 1 1 1 1 1 1 1 1 1 1 1 1 1 1 1 1 1 1 1 1 1 1 1 1 1 1 1 1 1\n",
            "INFO:tensorflow:segment_ids: 0 0 0 0 0 0 0 0 0 0 0 0 0 0 0 0 0 0 0 0 0 0 0 0 0 0 0 0 0 0 0 0 0 0 0 0 0 0 0 0 0 0 0 0 0 0 0 0 0 0 0 0 0 0 0 0 0 0 0 0 0 0 0 0 0 0 0 0 0 0 0 0 0 0 0 0 0 0 0 0 0 0 0 0 0 0 0 0 0 0 0 0 0 0 0 0 0 0 0 0 0 0 0 0 0 0 0 0 0 0 0 0 0 0 0 0 0 0 0 0 0 0 0 0 0 0 0 0 0 0 0 0 0 0 0 0 0 0 0 0 0 0 0 0 0 0 0 0 0 0 0 0 0 0 0 0 0 0 0 0 0 0 0 0 0 0 0 0 0 0 0 0 0 0 0 0 0 0 0 0 0 0 0 0 0 0 0 0 0 0 0 0 0 0 0 0 0 0 0 0 0 0 0 0 0 0 0 0 0 0 0 0 0 0 0 0 0 0 0 0 0 0 0 0 0 0 0 0 0 0 0 0 0 0 0 0 0 0 0 0 0 0 0 0 0 0 0 0 0 0 0 0 0 0 0 0 0 1 1 1 1 1 1 1 1 1 1 1 1 1 1 1 1 1 1 1 1 1 1 1 1 1 1 1 1 1 1 1 1 1 1 1 1 1 1 1 1 1 1 1 1 1 1 1 1 1 1 1 1 1 1 1 1 1 1 1 1 1 1 1 1 1 1 1 1 1 1 1 1 1 1 1 1 1 1 1 1 1 1 1 1 1 1 1 1 1 1 1 1 1 1 1 1 1 1 1 1 1 1 1 1 1 1 1 1 1 1 1 1 1 1 1 1 1 1 1 1 1 1 1 1 1 1 1 1 1 1 1 1 1 1 1 1 1 1 1 1 1 1 1 1 1 1 1 1 1 1 1 1 1 1 1 1 1 1 1 1 1 1 1 1 1 1 1 1 1 1 1 1 1 1 1 1 1 1 1 1 1 1 1 1 1 1 1 1 1 1 1 1 1 1 1 1 1 1 1 1 1 1 1 1 1 1 1 1 1 1 1 1 1 1 1 1 1 1 1 1 1 1 1 1 1 1 1 1 1 1 1 1 1 1 1 1 1 1 1 1 1 1 1 1 1 1 1 1 1 1 1 1 1 1 1\n",
            "INFO:tensorflow:label: not_entailment (id = 0)\n",
            "INFO:tensorflow:*** Example ***\n",
            "INFO:tensorflow:guid: 1\n",
            "INFO:tensorflow:tokens: [CLS] 1 . a method comprising : sensing electro ##card ##io ##gram ( ec ##g ) data at an ec ##g sensor system ; processing the sensed ec ##g data at the ec ##g sensor system to determine one or more noise values , wherein each noise value is indicative of a measurement of a component of the sensed ec ##g data that is potentially related to a non - heart beat source ; and sending the one or more noise values to an automated troubles ##hoot ##ing system to troubles ##hoot the ec ##g sensor system . 2 . the method of claim 1 , wherein the automated troubles ##hoot ##ing system performs an analysis of the one or more noise values and identifies a source of a particular component of the sensed ec ##g data that is related to a particular non - heart beat source based on the analysis . 3 . the method of claim 2 , further comprising , after sending the one or more noise values , receiving an input and , responsive to the input , dea ##ct ##ivating one or more circuit elements of the ec ##g sensor system to reduce the one or more noise values associated with the particular component that is related to the particular non - heart beat source . 4 . the method of claim 1 , wherein processing the sensed ec ##g data to determine the one or more noise values includes generating an estimate of power - line noise , generating [SEP] 1 . a medical system , comprising : an implant ##able device including a housing and a signal storage element enclosed in the housing , the housing forming an electrode of the device ; an implant ##able medical electrical lead including a first electrode and a second electrode , the first and second electrode ##s forming a sensing pair when the lead is coupled to the device ; and a device processor enclosed in the housing and programmed to detect noise on the sensing pair , identify the noise as system noise , and store at least one noisy e ##gm sample from the sensing pair and a concurrent e ##gm sample from each of a plurality of recording pairs in response to identifying the system noise , wherein the plurality of recording pairs includes a first pair formed by the first lead electrode and the device electrode , when the lead is coupled to the device , and a second pair formed by the second lead electrode and the device electrode , when the lead is coupled to the device . 2 . the system of claim 1 , further comprising an external device and wherein the device processor transfers each of the collected e ##gm samples to the external device for analysis . 3 . the system of claim 1 , wherein the device processor analyze ##s the e ##gm samples collected from the recording pairs to detect a presence or an absence of noise on each of the samples , and [SEP]\n",
            "INFO:tensorflow:input_ids: 101 1015 1012 1037 4118 9605 1024 13851 16175 11522 3695 13113 1006 14925 2290 1007 2951 2012 2019 14925 2290 13617 2291 1025 6364 1996 10596 14925 2290 2951 2012 1996 14925 2290 13617 2291 2000 5646 2028 2030 2062 5005 5300 1010 16726 2169 5005 3643 2003 24668 1997 1037 10903 1997 1037 6922 1997 1996 10596 14925 2290 2951 2008 2003 9280 3141 2000 1037 2512 1011 2540 3786 3120 1025 1998 6016 1996 2028 2030 2062 5005 5300 2000 2019 12978 13460 23416 2075 2291 2000 13460 23416 1996 14925 2290 13617 2291 1012 1016 1012 1996 4118 1997 4366 1015 1010 16726 1996 12978 13460 23416 2075 2291 10438 2019 4106 1997 1996 2028 2030 2062 5005 5300 1998 14847 1037 3120 1997 1037 3327 6922 1997 1996 10596 14925 2290 2951 2008 2003 3141 2000 1037 3327 2512 1011 2540 3786 3120 2241 2006 1996 4106 1012 1017 1012 1996 4118 1997 4366 1016 1010 2582 9605 1010 2044 6016 1996 2028 2030 2062 5005 5300 1010 4909 2019 7953 1998 1010 26651 2000 1996 7953 1010 26709 6593 17441 2028 2030 2062 4984 3787 1997 1996 14925 2290 13617 2291 2000 5547 1996 2028 2030 2062 5005 5300 3378 2007 1996 3327 6922 2008 2003 3141 2000 1996 3327 2512 1011 2540 3786 3120 1012 1018 1012 1996 4118 1997 4366 1015 1010 16726 6364 1996 10596 14925 2290 2951 2000 5646 1996 2028 2030 2062 5005 5300 2950 11717 2019 10197 1997 2373 1011 2240 5005 1010 11717 102 1015 1012 1037 2966 2291 1010 9605 1024 2019 27159 3085 5080 2164 1037 3847 1998 1037 4742 5527 5783 10837 1999 1996 3847 1010 1996 3847 5716 2019 28688 1997 1996 5080 1025 2019 27159 3085 2966 5992 2599 2164 1037 2034 28688 1998 1037 2117 28688 1010 1996 2034 1998 2117 28688 2015 5716 1037 13851 3940 2043 1996 2599 2003 11211 2000 1996 5080 1025 1998 1037 5080 13151 10837 1999 1996 3847 1998 16984 2000 11487 5005 2006 1996 13851 3940 1010 6709 1996 5005 2004 2291 5005 1010 1998 3573 2012 2560 2028 20810 1041 21693 7099 2013 1996 13851 3940 1998 1037 16483 1041 21693 7099 2013 2169 1997 1037 29018 1997 3405 7689 1999 3433 2000 12151 1996 2291 5005 1010 16726 1996 29018 1997 3405 7689 2950 1037 2034 3940 2719 2011 1996 2034 2599 28688 1998 1996 5080 28688 1010 2043 1996 2599 2003 11211 2000 1996 5080 1010 1998 1037 2117 3940 2719 2011 1996 2117 2599 28688 1998 1996 5080 28688 1010 2043 1996 2599 2003 11211 2000 1996 5080 1012 1016 1012 1996 2291 1997 4366 1015 1010 2582 9605 2019 6327 5080 1998 16726 1996 5080 13151 15210 2169 1997 1996 5067 1041 21693 8168 2000 1996 6327 5080 2005 4106 1012 1017 1012 1996 2291 1997 4366 1015 1010 16726 1996 5080 13151 17908 2015 1996 1041 21693 8168 5067 2013 1996 3405 7689 2000 11487 1037 3739 2030 2019 6438 1997 5005 2006 2169 1997 1996 8168 1010 1998 102\n",
            "INFO:tensorflow:input_mask: 1 1 1 1 1 1 1 1 1 1 1 1 1 1 1 1 1 1 1 1 1 1 1 1 1 1 1 1 1 1 1 1 1 1 1 1 1 1 1 1 1 1 1 1 1 1 1 1 1 1 1 1 1 1 1 1 1 1 1 1 1 1 1 1 1 1 1 1 1 1 1 1 1 1 1 1 1 1 1 1 1 1 1 1 1 1 1 1 1 1 1 1 1 1 1 1 1 1 1 1 1 1 1 1 1 1 1 1 1 1 1 1 1 1 1 1 1 1 1 1 1 1 1 1 1 1 1 1 1 1 1 1 1 1 1 1 1 1 1 1 1 1 1 1 1 1 1 1 1 1 1 1 1 1 1 1 1 1 1 1 1 1 1 1 1 1 1 1 1 1 1 1 1 1 1 1 1 1 1 1 1 1 1 1 1 1 1 1 1 1 1 1 1 1 1 1 1 1 1 1 1 1 1 1 1 1 1 1 1 1 1 1 1 1 1 1 1 1 1 1 1 1 1 1 1 1 1 1 1 1 1 1 1 1 1 1 1 1 1 1 1 1 1 1 1 1 1 1 1 1 1 1 1 1 1 1 1 1 1 1 1 1 1 1 1 1 1 1 1 1 1 1 1 1 1 1 1 1 1 1 1 1 1 1 1 1 1 1 1 1 1 1 1 1 1 1 1 1 1 1 1 1 1 1 1 1 1 1 1 1 1 1 1 1 1 1 1 1 1 1 1 1 1 1 1 1 1 1 1 1 1 1 1 1 1 1 1 1 1 1 1 1 1 1 1 1 1 1 1 1 1 1 1 1 1 1 1 1 1 1 1 1 1 1 1 1 1 1 1 1 1 1 1 1 1 1 1 1 1 1 1 1 1 1 1 1 1 1 1 1 1 1 1 1 1 1 1 1 1 1 1 1 1 1 1 1 1 1 1 1 1 1 1 1 1 1 1 1 1 1 1 1 1 1 1 1 1 1 1 1 1 1 1 1 1 1 1 1 1 1 1 1 1 1 1 1 1 1 1 1 1 1 1 1 1 1 1 1 1 1 1 1 1 1 1 1 1 1 1 1 1 1 1 1 1 1 1 1 1 1 1 1 1 1 1 1 1 1 1 1 1 1 1 1 1 1 1 1 1 1 1 1 1 1 1 1 1 1 1 1 1 1\n",
            "INFO:tensorflow:segment_ids: 0 0 0 0 0 0 0 0 0 0 0 0 0 0 0 0 0 0 0 0 0 0 0 0 0 0 0 0 0 0 0 0 0 0 0 0 0 0 0 0 0 0 0 0 0 0 0 0 0 0 0 0 0 0 0 0 0 0 0 0 0 0 0 0 0 0 0 0 0 0 0 0 0 0 0 0 0 0 0 0 0 0 0 0 0 0 0 0 0 0 0 0 0 0 0 0 0 0 0 0 0 0 0 0 0 0 0 0 0 0 0 0 0 0 0 0 0 0 0 0 0 0 0 0 0 0 0 0 0 0 0 0 0 0 0 0 0 0 0 0 0 0 0 0 0 0 0 0 0 0 0 0 0 0 0 0 0 0 0 0 0 0 0 0 0 0 0 0 0 0 0 0 0 0 0 0 0 0 0 0 0 0 0 0 0 0 0 0 0 0 0 0 0 0 0 0 0 0 0 0 0 0 0 0 0 0 0 0 0 0 0 0 0 0 0 0 0 0 0 0 0 0 0 0 0 0 0 0 0 0 0 0 0 0 0 0 0 0 0 0 0 0 0 0 0 0 0 0 0 0 0 0 0 0 0 0 0 1 1 1 1 1 1 1 1 1 1 1 1 1 1 1 1 1 1 1 1 1 1 1 1 1 1 1 1 1 1 1 1 1 1 1 1 1 1 1 1 1 1 1 1 1 1 1 1 1 1 1 1 1 1 1 1 1 1 1 1 1 1 1 1 1 1 1 1 1 1 1 1 1 1 1 1 1 1 1 1 1 1 1 1 1 1 1 1 1 1 1 1 1 1 1 1 1 1 1 1 1 1 1 1 1 1 1 1 1 1 1 1 1 1 1 1 1 1 1 1 1 1 1 1 1 1 1 1 1 1 1 1 1 1 1 1 1 1 1 1 1 1 1 1 1 1 1 1 1 1 1 1 1 1 1 1 1 1 1 1 1 1 1 1 1 1 1 1 1 1 1 1 1 1 1 1 1 1 1 1 1 1 1 1 1 1 1 1 1 1 1 1 1 1 1 1 1 1 1 1 1 1 1 1 1 1 1 1 1 1 1 1 1 1 1 1 1 1 1 1 1 1 1 1 1 1 1 1 1 1 1 1 1 1 1 1 1 1 1 1 1 1 1 1 1 1 1 1 1 1 1 1 1 1 1\n",
            "INFO:tensorflow:label: entailment (id = 1)\n",
            "INFO:tensorflow:*** Example ***\n",
            "INFO:tensorflow:guid: 2\n",
            "INFO:tensorflow:tokens: [CLS] 1 . a system for controlling temperature inside a machine cab defining an interior and an exterior , the system comprising : a blow ##er fan configured to be coupled to the exterior of the cab ; an eva ##por ##ator configured to be coupled to the exterior of the cab at a location separated from the blow ##er fan ; and a duct configured to be coupled to the blow ##er fan and the eva ##por ##ator such that the duct extends between the blow ##er fan and the eva ##por ##ator . 2 . the system of claim 1 , wherein the cab defines a rear end and an underside , and wherein the blow ##er fan is configured to be coupled to the rear end of the cab , and the eva ##por ##ator is configured to be coupled to the underside of the cab . 3 . the system of claim 1 , wherein the duct has an increasing cross - sectional area as it extends from the blow ##er fan to the eva ##por ##ator . 4 . the system of claim 1 , wherein the eva ##por ##ator includes an eva ##por ##ator coil . 5 . the system of claim 1 , further including a pl ##en ##um including a first inlet configured to receive air from the interior of the cab and a second inlet configured to receive air from the exterior of the cab . 6 . the system of claim 5 , further including a [SEP] 1 . an integrated differential receiver for an input / output pad comprising : a single gate oxide differential receiver that receives an input voltage ; a switch ##able voltage supply circuit operative ##ly coupled to the single gate oxide differential receiver , switch ##able through at least one control signal , that indicates an input signal voltage range , to select at least one differential receiver supply voltage , from a plurality of supply voltage ##s during normal operating mode , for the single gate oxide differential receiver wherein at least one of the selected receiver supply voltage ##s is higher than a maximum voltage level of the input voltage indicated by the control signal ; and wherein the switch ##able voltage supply circuit is operative ##ly responsive to at least two control signals . 2 . the receiver of claim 1 wherein the switch ##able voltage supply circuit is coupled to the plurality of supply voltage ##s that include at least an input / output pad supply voltage and a higher reference supply voltage and selects the differential receiver supply voltage that is higher voltage than the i / o pad supply voltage . 3 . the receiver of claim 1 wherein the receiver generates an output signal to circuit ##ry for a video graphics processor . 4 . the receiver of claim 1 wherein the differential receiver receives a first reference voltage on a first differential input voltage on a second differential input and wherein the switch ##able voltage supply circuit [SEP]\n",
            "INFO:tensorflow:input_ids: 101 1015 1012 1037 2291 2005 9756 4860 2503 1037 3698 9298 12854 2019 4592 1998 2019 8829 1010 1996 2291 9605 1024 1037 6271 2121 5470 26928 2000 2022 11211 2000 1996 8829 1997 1996 9298 1025 2019 9345 17822 8844 26928 2000 2022 11211 2000 1996 8829 1997 1996 9298 2012 1037 3295 5459 2013 1996 6271 2121 5470 1025 1998 1037 23245 26928 2000 2022 11211 2000 1996 6271 2121 5470 1998 1996 9345 17822 8844 2107 2008 1996 23245 8908 2090 1996 6271 2121 5470 1998 1996 9345 17822 8844 1012 1016 1012 1996 2291 1997 4366 1015 1010 16726 1996 9298 11859 1037 4373 2203 1998 2019 17313 1010 1998 16726 1996 6271 2121 5470 2003 26928 2000 2022 11211 2000 1996 4373 2203 1997 1996 9298 1010 1998 1996 9345 17822 8844 2003 26928 2000 2022 11211 2000 1996 17313 1997 1996 9298 1012 1017 1012 1996 2291 1997 4366 1015 1010 16726 1996 23245 2038 2019 4852 2892 1011 27197 2181 2004 2009 8908 2013 1996 6271 2121 5470 2000 1996 9345 17822 8844 1012 1018 1012 1996 2291 1997 4366 1015 1010 16726 1996 9345 17822 8844 2950 2019 9345 17822 8844 17085 1012 1019 1012 1996 2291 1997 4366 1015 1010 2582 2164 1037 20228 2368 2819 2164 1037 2034 15824 26928 2000 4374 2250 2013 1996 4592 1997 1996 9298 1998 1037 2117 15824 26928 2000 4374 2250 2013 1996 8829 1997 1996 9298 1012 1020 1012 1996 2291 1997 4366 1019 1010 2582 2164 1037 102 1015 1012 2019 6377 11658 8393 2005 2019 7953 1013 6434 11687 9605 1024 1037 2309 4796 15772 11658 8393 2008 8267 2019 7953 10004 1025 1037 6942 3085 10004 4425 4984 12160 2135 11211 2000 1996 2309 4796 15772 11658 8393 1010 6942 3085 2083 2012 2560 2028 2491 4742 1010 2008 7127 2019 7953 4742 10004 2846 1010 2000 7276 2012 2560 2028 11658 8393 4425 10004 1010 2013 1037 29018 1997 4425 10004 2015 2076 3671 4082 5549 1010 2005 1996 2309 4796 15772 11658 8393 16726 2012 2560 2028 1997 1996 3479 8393 4425 10004 2015 2003 3020 2084 1037 4555 10004 2504 1997 1996 7953 10004 5393 2011 1996 2491 4742 1025 1998 16726 1996 6942 3085 10004 4425 4984 2003 12160 2135 26651 2000 2012 2560 2048 2491 7755 1012 1016 1012 1996 8393 1997 4366 1015 16726 1996 6942 3085 10004 4425 4984 2003 11211 2000 1996 29018 1997 4425 10004 2015 2008 2421 2012 2560 2019 7953 1013 6434 11687 4425 10004 1998 1037 3020 4431 4425 10004 1998 27034 1996 11658 8393 4425 10004 2008 2003 3020 10004 2084 1996 1045 1013 1051 11687 4425 10004 1012 1017 1012 1996 8393 1997 4366 1015 16726 1996 8393 19421 2019 6434 4742 2000 4984 2854 2005 1037 2678 8389 13151 1012 1018 1012 1996 8393 1997 4366 1015 16726 1996 11658 8393 8267 1037 2034 4431 10004 2006 1037 2034 11658 7953 10004 2006 1037 2117 11658 7953 1998 16726 1996 6942 3085 10004 4425 4984 102\n",
            "INFO:tensorflow:input_mask: 1 1 1 1 1 1 1 1 1 1 1 1 1 1 1 1 1 1 1 1 1 1 1 1 1 1 1 1 1 1 1 1 1 1 1 1 1 1 1 1 1 1 1 1 1 1 1 1 1 1 1 1 1 1 1 1 1 1 1 1 1 1 1 1 1 1 1 1 1 1 1 1 1 1 1 1 1 1 1 1 1 1 1 1 1 1 1 1 1 1 1 1 1 1 1 1 1 1 1 1 1 1 1 1 1 1 1 1 1 1 1 1 1 1 1 1 1 1 1 1 1 1 1 1 1 1 1 1 1 1 1 1 1 1 1 1 1 1 1 1 1 1 1 1 1 1 1 1 1 1 1 1 1 1 1 1 1 1 1 1 1 1 1 1 1 1 1 1 1 1 1 1 1 1 1 1 1 1 1 1 1 1 1 1 1 1 1 1 1 1 1 1 1 1 1 1 1 1 1 1 1 1 1 1 1 1 1 1 1 1 1 1 1 1 1 1 1 1 1 1 1 1 1 1 1 1 1 1 1 1 1 1 1 1 1 1 1 1 1 1 1 1 1 1 1 1 1 1 1 1 1 1 1 1 1 1 1 1 1 1 1 1 1 1 1 1 1 1 1 1 1 1 1 1 1 1 1 1 1 1 1 1 1 1 1 1 1 1 1 1 1 1 1 1 1 1 1 1 1 1 1 1 1 1 1 1 1 1 1 1 1 1 1 1 1 1 1 1 1 1 1 1 1 1 1 1 1 1 1 1 1 1 1 1 1 1 1 1 1 1 1 1 1 1 1 1 1 1 1 1 1 1 1 1 1 1 1 1 1 1 1 1 1 1 1 1 1 1 1 1 1 1 1 1 1 1 1 1 1 1 1 1 1 1 1 1 1 1 1 1 1 1 1 1 1 1 1 1 1 1 1 1 1 1 1 1 1 1 1 1 1 1 1 1 1 1 1 1 1 1 1 1 1 1 1 1 1 1 1 1 1 1 1 1 1 1 1 1 1 1 1 1 1 1 1 1 1 1 1 1 1 1 1 1 1 1 1 1 1 1 1 1 1 1 1 1 1 1 1 1 1 1 1 1 1 1 1 1 1 1 1 1 1 1 1 1 1 1 1 1 1 1 1 1 1 1 1 1 1 1 1 1 1 1 1 1 1 1 1 1 1 1\n",
            "INFO:tensorflow:segment_ids: 0 0 0 0 0 0 0 0 0 0 0 0 0 0 0 0 0 0 0 0 0 0 0 0 0 0 0 0 0 0 0 0 0 0 0 0 0 0 0 0 0 0 0 0 0 0 0 0 0 0 0 0 0 0 0 0 0 0 0 0 0 0 0 0 0 0 0 0 0 0 0 0 0 0 0 0 0 0 0 0 0 0 0 0 0 0 0 0 0 0 0 0 0 0 0 0 0 0 0 0 0 0 0 0 0 0 0 0 0 0 0 0 0 0 0 0 0 0 0 0 0 0 0 0 0 0 0 0 0 0 0 0 0 0 0 0 0 0 0 0 0 0 0 0 0 0 0 0 0 0 0 0 0 0 0 0 0 0 0 0 0 0 0 0 0 0 0 0 0 0 0 0 0 0 0 0 0 0 0 0 0 0 0 0 0 0 0 0 0 0 0 0 0 0 0 0 0 0 0 0 0 0 0 0 0 0 0 0 0 0 0 0 0 0 0 0 0 0 0 0 0 0 0 0 0 0 0 0 0 0 0 0 0 0 0 0 0 0 0 0 0 0 0 0 0 0 0 0 0 0 0 0 0 0 0 0 0 1 1 1 1 1 1 1 1 1 1 1 1 1 1 1 1 1 1 1 1 1 1 1 1 1 1 1 1 1 1 1 1 1 1 1 1 1 1 1 1 1 1 1 1 1 1 1 1 1 1 1 1 1 1 1 1 1 1 1 1 1 1 1 1 1 1 1 1 1 1 1 1 1 1 1 1 1 1 1 1 1 1 1 1 1 1 1 1 1 1 1 1 1 1 1 1 1 1 1 1 1 1 1 1 1 1 1 1 1 1 1 1 1 1 1 1 1 1 1 1 1 1 1 1 1 1 1 1 1 1 1 1 1 1 1 1 1 1 1 1 1 1 1 1 1 1 1 1 1 1 1 1 1 1 1 1 1 1 1 1 1 1 1 1 1 1 1 1 1 1 1 1 1 1 1 1 1 1 1 1 1 1 1 1 1 1 1 1 1 1 1 1 1 1 1 1 1 1 1 1 1 1 1 1 1 1 1 1 1 1 1 1 1 1 1 1 1 1 1 1 1 1 1 1 1 1 1 1 1 1 1 1 1 1 1 1 1 1 1 1 1 1 1 1 1 1 1 1 1 1 1 1 1 1 1\n",
            "INFO:tensorflow:label: not_entailment (id = 0)\n",
            "INFO:tensorflow:*** Example ***\n",
            "INFO:tensorflow:guid: 3\n",
            "INFO:tensorflow:tokens: [CLS] 1 . a recording apparatus for recording updated data onto a re ##wr ##ita ##ble portable recording medium on which original data has been copied from a read - only recording medium , the original data including first stream data , the updated data including second stream data , and the updated data to be combined virtually with the original data to form a virtual package , the recording apparatus comprising : a data storage unit that stores there ##in the updated data and mapping information indicating a path of the updated data in the virtual package ; a determination unit opera ##ble to perform path col ##lation to determine , from the mapping information , whether a path to the second stream data in the virtual package matches a path to the first stream data on the portable recording medium ; a recording control unit opera ##ble to issue an instruction to write the updated data onto the portable recording medium , and when a result of the path col ##lation is affirmative , to issue an instruction to del ##ete the first stream data from the portable recording medium , and a data recording unit opera ##ble to write and del ##ete data in response to the instructions from the recording control unit . 2 . the recording apparatus of claim 1 wherein ##the mapping information includes information indicating whether the second stream data is missing data that is data to be downloaded from a server apparatus on a network during or before [SEP] 1 . a method for indicating a priority of a voice over internet protocol ( vo ##ip ) call , comprising : receiving a dialed number for a connection ; generating a call setup request including the dialed number ; receiving a caller - specified priority for the call based on a caller input provided con ##tem ##por ##aneous ##ly with the dialed number , wherein the priority is independent of a call recipient ; access ##ing a rule base to valid ##ate the priority ; generating a priority indicator based on the priority ; ne ##gating the priority indicator if determined invalid based on the rule base ; and transmitting the call setup request and priority indicator . 2 . the method of claim 1 , wherein the priority indicator is an information element ( ie ) . 3 . the method of claim 2 , further comprising : receiving an alert ##ing phrase from a user ; and transmitting the alert ##ing phrase with the priority indicator . 4 . the method of claim 1 , wherein the priority is high . 5 . the method of claim 1 , wherein the priority is low . 6 . the method of claim 1 , wherein the caller input is received after the call setup request has been transmitted . 7 . the method of claim 1 , wherein the caller input is received as a prefix to the dialed number . 8 . the method of claim 1 , further comprising generating [SEP]\n",
            "INFO:tensorflow:input_ids: 101 1015 1012 1037 3405 14709 2005 3405 7172 2951 3031 1037 2128 13088 6590 3468 12109 3405 5396 2006 2029 2434 2951 2038 2042 15826 2013 1037 3191 1011 2069 3405 5396 1010 1996 2434 2951 2164 2034 5460 2951 1010 1996 7172 2951 2164 2117 5460 2951 1010 1998 1996 7172 2951 2000 2022 4117 8990 2007 1996 2434 2951 2000 2433 1037 7484 7427 1010 1996 3405 14709 9605 1024 1037 2951 5527 3131 2008 5324 2045 2378 1996 7172 2951 1998 12375 2592 8131 1037 4130 1997 1996 7172 2951 1999 1996 7484 7427 1025 1037 9128 3131 3850 3468 2000 4685 4130 8902 13490 2000 5646 1010 2013 1996 12375 2592 1010 3251 1037 4130 2000 1996 2117 5460 2951 1999 1996 7484 7427 3503 1037 4130 2000 1996 2034 5460 2951 2006 1996 12109 3405 5396 1025 1037 3405 2491 3131 3850 3468 2000 3277 2019 7899 2000 4339 1996 7172 2951 3031 1996 12109 3405 5396 1010 1998 2043 1037 2765 1997 1996 4130 8902 13490 2003 27352 1010 2000 3277 2019 7899 2000 3972 12870 1996 2034 5460 2951 2013 1996 12109 3405 5396 1010 1998 1037 2951 3405 3131 3850 3468 2000 4339 1998 3972 12870 2951 1999 3433 2000 1996 8128 2013 1996 3405 2491 3131 1012 1016 1012 1996 3405 14709 1997 4366 1015 16726 10760 12375 2592 2950 2592 8131 3251 1996 2117 5460 2951 2003 4394 2951 2008 2003 2951 2000 2022 22817 2013 1037 8241 14709 2006 1037 2897 2076 2030 2077 102 1015 1012 1037 4118 2005 8131 1037 9470 1997 1037 2376 2058 4274 8778 1006 29536 11514 1007 2655 1010 9605 1024 4909 1037 21300 2193 2005 1037 4434 1025 11717 1037 2655 16437 5227 2164 1996 21300 2193 1025 4909 1037 20587 1011 9675 9470 2005 1996 2655 2241 2006 1037 20587 7953 3024 9530 18532 17822 17191 2135 2007 1996 21300 2193 1010 16726 1996 9470 2003 2981 1997 1037 2655 7799 1025 3229 2075 1037 3627 2918 2000 9398 3686 1996 9470 1025 11717 1037 9470 17245 2241 2006 1996 9470 1025 11265 16961 1996 9470 17245 2065 4340 19528 2241 2006 1996 3627 2918 1025 1998 23820 1996 2655 16437 5227 1998 9470 17245 1012 1016 1012 1996 4118 1997 4366 1015 1010 16726 1996 9470 17245 2003 2019 2592 5783 1006 29464 1007 1012 1017 1012 1996 4118 1997 4366 1016 1010 2582 9605 1024 4909 2019 9499 2075 7655 2013 1037 5310 1025 1998 23820 1996 9499 2075 7655 2007 1996 9470 17245 1012 1018 1012 1996 4118 1997 4366 1015 1010 16726 1996 9470 2003 2152 1012 1019 1012 1996 4118 1997 4366 1015 1010 16726 1996 9470 2003 2659 1012 1020 1012 1996 4118 1997 4366 1015 1010 16726 1996 20587 7953 2003 2363 2044 1996 2655 16437 5227 2038 2042 11860 1012 1021 1012 1996 4118 1997 4366 1015 1010 16726 1996 20587 7953 2003 2363 2004 1037 17576 2000 1996 21300 2193 1012 1022 1012 1996 4118 1997 4366 1015 1010 2582 9605 11717 102\n",
            "INFO:tensorflow:input_mask: 1 1 1 1 1 1 1 1 1 1 1 1 1 1 1 1 1 1 1 1 1 1 1 1 1 1 1 1 1 1 1 1 1 1 1 1 1 1 1 1 1 1 1 1 1 1 1 1 1 1 1 1 1 1 1 1 1 1 1 1 1 1 1 1 1 1 1 1 1 1 1 1 1 1 1 1 1 1 1 1 1 1 1 1 1 1 1 1 1 1 1 1 1 1 1 1 1 1 1 1 1 1 1 1 1 1 1 1 1 1 1 1 1 1 1 1 1 1 1 1 1 1 1 1 1 1 1 1 1 1 1 1 1 1 1 1 1 1 1 1 1 1 1 1 1 1 1 1 1 1 1 1 1 1 1 1 1 1 1 1 1 1 1 1 1 1 1 1 1 1 1 1 1 1 1 1 1 1 1 1 1 1 1 1 1 1 1 1 1 1 1 1 1 1 1 1 1 1 1 1 1 1 1 1 1 1 1 1 1 1 1 1 1 1 1 1 1 1 1 1 1 1 1 1 1 1 1 1 1 1 1 1 1 1 1 1 1 1 1 1 1 1 1 1 1 1 1 1 1 1 1 1 1 1 1 1 1 1 1 1 1 1 1 1 1 1 1 1 1 1 1 1 1 1 1 1 1 1 1 1 1 1 1 1 1 1 1 1 1 1 1 1 1 1 1 1 1 1 1 1 1 1 1 1 1 1 1 1 1 1 1 1 1 1 1 1 1 1 1 1 1 1 1 1 1 1 1 1 1 1 1 1 1 1 1 1 1 1 1 1 1 1 1 1 1 1 1 1 1 1 1 1 1 1 1 1 1 1 1 1 1 1 1 1 1 1 1 1 1 1 1 1 1 1 1 1 1 1 1 1 1 1 1 1 1 1 1 1 1 1 1 1 1 1 1 1 1 1 1 1 1 1 1 1 1 1 1 1 1 1 1 1 1 1 1 1 1 1 1 1 1 1 1 1 1 1 1 1 1 1 1 1 1 1 1 1 1 1 1 1 1 1 1 1 1 1 1 1 1 1 1 1 1 1 1 1 1 1 1 1 1 1 1 1 1 1 1 1 1 1 1 1 1 1 1 1 1 1 1 1 1 1 1 1 1 1 1 1 1 1 1 1 1 1 1 1 1 1 1 1 1 1 1 1 1 1 1 1 1 1 1 1\n",
            "INFO:tensorflow:segment_ids: 0 0 0 0 0 0 0 0 0 0 0 0 0 0 0 0 0 0 0 0 0 0 0 0 0 0 0 0 0 0 0 0 0 0 0 0 0 0 0 0 0 0 0 0 0 0 0 0 0 0 0 0 0 0 0 0 0 0 0 0 0 0 0 0 0 0 0 0 0 0 0 0 0 0 0 0 0 0 0 0 0 0 0 0 0 0 0 0 0 0 0 0 0 0 0 0 0 0 0 0 0 0 0 0 0 0 0 0 0 0 0 0 0 0 0 0 0 0 0 0 0 0 0 0 0 0 0 0 0 0 0 0 0 0 0 0 0 0 0 0 0 0 0 0 0 0 0 0 0 0 0 0 0 0 0 0 0 0 0 0 0 0 0 0 0 0 0 0 0 0 0 0 0 0 0 0 0 0 0 0 0 0 0 0 0 0 0 0 0 0 0 0 0 0 0 0 0 0 0 0 0 0 0 0 0 0 0 0 0 0 0 0 0 0 0 0 0 0 0 0 0 0 0 0 0 0 0 0 0 0 0 0 0 0 0 0 0 0 0 0 0 0 0 0 0 0 0 0 0 0 0 0 0 0 0 0 0 1 1 1 1 1 1 1 1 1 1 1 1 1 1 1 1 1 1 1 1 1 1 1 1 1 1 1 1 1 1 1 1 1 1 1 1 1 1 1 1 1 1 1 1 1 1 1 1 1 1 1 1 1 1 1 1 1 1 1 1 1 1 1 1 1 1 1 1 1 1 1 1 1 1 1 1 1 1 1 1 1 1 1 1 1 1 1 1 1 1 1 1 1 1 1 1 1 1 1 1 1 1 1 1 1 1 1 1 1 1 1 1 1 1 1 1 1 1 1 1 1 1 1 1 1 1 1 1 1 1 1 1 1 1 1 1 1 1 1 1 1 1 1 1 1 1 1 1 1 1 1 1 1 1 1 1 1 1 1 1 1 1 1 1 1 1 1 1 1 1 1 1 1 1 1 1 1 1 1 1 1 1 1 1 1 1 1 1 1 1 1 1 1 1 1 1 1 1 1 1 1 1 1 1 1 1 1 1 1 1 1 1 1 1 1 1 1 1 1 1 1 1 1 1 1 1 1 1 1 1 1 1 1 1 1 1 1 1 1 1 1 1 1 1 1 1 1 1 1 1 1 1 1 1 1\n",
            "INFO:tensorflow:label: not_entailment (id = 0)\n",
            "INFO:tensorflow:*** Example ***\n",
            "INFO:tensorflow:guid: 4\n",
            "INFO:tensorflow:tokens: [CLS] 1 . apparatus for moving a material within an enclosure comprising : a field - responsive fluid including a plurality of particles suspended in a base fluid , the field - responsive fluid disposed in the enclosure ; a field generating source which generates a field in response to which at least some of the plurality of particles align , the field being moved relative to the enclosure and thereby cause the align ed particles to move within the enclosure , the material moving in response to contact with the moving particles . 2 . the apparatus of claim 1 wherein the field - responsive fluid is selected from the group consisting of : magnet ##or ##he ##ological fluid and electro ##rh ##eo ##logical fluid . 3 . the apparatus of claim 1 wherein the field is represented by lines of flux , the particles align ##ing parallel to the lines of flux , and moving with the lines of flux . 4 . the apparatus of claim 1 wherein the material is a non - magnetic object . 5 . the apparatus of claim 1 wherein the material is a die ##le ##ctric . 6 . the apparatus of claim 1 wherein the material is fluid disposed between chains of aligned particles . 7 . the apparatus of claim 1 wherein the field is applied to the particles at a starting position , causing at least some of the particles to align and form chains , the applied field is moved relative to the [SEP] 1 . a well ##bor ##e pack ##er having an expand ##able packing element for sealing a well ann ##ulus , an act ##ua ##tor for expanding said packing element into operative engagement across said ann ##ulus and an electrically control ##lab ##le fluid for controlling the operation of said act ##ua ##tor , wherein said electrically control ##lab ##le fluid is en ##er ##gi ##zed by a magnetic field to expand said packing element , wherein said control ##lab ##le fluid is confined within an ex ##pan ##sible chamber , wherein said ex ##pan ##sible chamber is an el ##ast ##ome ##r bladder element . 2 . a hydraulic ##ally act ##uated well tool that is operative ##ly controlled by a flow of electrically control ##lab ##le fluid carried within hydraulic con ##du ##its , said con ##du ##its having electromagnetic winding ##s disposed pro ##xi ##mate ##ly of said con ##du ##its to selective ##ly provide a magnetic field within a section inc ##rem ##ent of said con ##du ##its . 3 . the hydraulic ##ally act ##uated well tool of claim 2 wherein the well tool comprises a well ##bor ##e pack ##er . 4 . the hydraulic ##ally act ##uated well tool of claim 2 wherein said hydraulic con ##du ##its includes at least one fluid circulation line . 5 . the hydraulic ##ally act ##uated well tool of claim 2 wherein en ##er ##gizing said electromagnetic winding ##s blocks the flow of said electrically control ##lab ##le fluid flowing [SEP]\n",
            "INFO:tensorflow:input_ids: 101 1015 1012 14709 2005 3048 1037 3430 2306 2019 17539 9605 1024 1037 2492 1011 26651 8331 2164 1037 29018 1997 9309 6731 1999 1037 2918 8331 1010 1996 2492 1011 26651 8331 21866 1999 1996 17539 1025 1037 2492 11717 3120 2029 19421 1037 2492 1999 3433 2000 2029 2012 2560 2070 1997 1996 29018 1997 9309 25705 1010 1996 2492 2108 2333 5816 2000 1996 17539 1998 8558 3426 1996 25705 3968 9309 2000 2693 2306 1996 17539 1010 1996 3430 3048 1999 3433 2000 3967 2007 1996 3048 9309 1012 1016 1012 1996 14709 1997 4366 1015 16726 1996 2492 1011 26651 8331 2003 3479 2013 1996 2177 5398 1997 1024 16853 2953 5369 10091 8331 1998 16175 25032 8780 9966 8331 1012 1017 1012 1996 14709 1997 4366 1015 16726 1996 2492 2003 3421 2011 3210 1997 19251 1010 1996 9309 25705 2075 5903 2000 1996 3210 1997 19251 1010 1998 3048 2007 1996 3210 1997 19251 1012 1018 1012 1996 14709 1997 4366 1015 16726 1996 3430 2003 1037 2512 1011 8060 4874 1012 1019 1012 1996 14709 1997 4366 1015 16726 1996 3430 2003 1037 3280 2571 22601 1012 1020 1012 1996 14709 1997 4366 1015 16726 1996 3430 2003 8331 21866 2090 8859 1997 13115 9309 1012 1021 1012 1996 14709 1997 4366 1015 16726 1996 2492 2003 4162 2000 1996 9309 2012 1037 3225 2597 1010 4786 2012 2560 2070 1997 1996 9309 2000 25705 1998 2433 8859 1010 1996 4162 2492 2003 2333 5816 2000 1996 102 1015 1012 1037 2092 12821 2063 5308 2121 2383 2019 7818 3085 14743 5783 2005 23038 1037 2092 5754 11627 1010 2019 2552 6692 4263 2005 9186 2056 14743 5783 2046 12160 8147 2408 2056 5754 11627 1998 2019 29103 2491 20470 2571 8331 2005 9756 1996 3169 1997 2056 2552 6692 4263 1010 16726 2056 29103 2491 20470 2571 8331 2003 4372 2121 5856 5422 2011 1037 8060 2492 2000 7818 2056 14743 5783 1010 16726 2056 2491 20470 2571 8331 2003 12302 2306 2019 4654 9739 19307 4574 1010 16726 2056 4654 9739 19307 4574 2003 2019 3449 14083 8462 2099 24176 5783 1012 1016 1012 1037 14761 3973 2552 16453 2092 6994 2008 2003 12160 2135 4758 2011 1037 4834 1997 29103 2491 20470 2571 8331 3344 2306 14761 9530 8566 12762 1010 2056 9530 8566 12762 2383 17225 12788 2015 21866 4013 9048 8585 2135 1997 2056 9530 8566 12762 2000 13228 2135 3073 1037 8060 2492 2306 1037 2930 4297 28578 4765 1997 2056 9530 8566 12762 1012 1017 1012 1996 14761 3973 2552 16453 2092 6994 1997 4366 1016 16726 1996 2092 6994 8681 1037 2092 12821 2063 5308 2121 1012 1018 1012 1996 14761 3973 2552 16453 2092 6994 1997 4366 1016 16726 2056 14761 9530 8566 12762 2950 2012 2560 2028 8331 9141 2240 1012 1019 1012 1996 14761 3973 2552 16453 2092 6994 1997 4366 1016 16726 4372 2121 28660 2056 17225 12788 2015 5991 1996 4834 1997 2056 29103 2491 20470 2571 8331 8577 102\n",
            "INFO:tensorflow:input_mask: 1 1 1 1 1 1 1 1 1 1 1 1 1 1 1 1 1 1 1 1 1 1 1 1 1 1 1 1 1 1 1 1 1 1 1 1 1 1 1 1 1 1 1 1 1 1 1 1 1 1 1 1 1 1 1 1 1 1 1 1 1 1 1 1 1 1 1 1 1 1 1 1 1 1 1 1 1 1 1 1 1 1 1 1 1 1 1 1 1 1 1 1 1 1 1 1 1 1 1 1 1 1 1 1 1 1 1 1 1 1 1 1 1 1 1 1 1 1 1 1 1 1 1 1 1 1 1 1 1 1 1 1 1 1 1 1 1 1 1 1 1 1 1 1 1 1 1 1 1 1 1 1 1 1 1 1 1 1 1 1 1 1 1 1 1 1 1 1 1 1 1 1 1 1 1 1 1 1 1 1 1 1 1 1 1 1 1 1 1 1 1 1 1 1 1 1 1 1 1 1 1 1 1 1 1 1 1 1 1 1 1 1 1 1 1 1 1 1 1 1 1 1 1 1 1 1 1 1 1 1 1 1 1 1 1 1 1 1 1 1 1 1 1 1 1 1 1 1 1 1 1 1 1 1 1 1 1 1 1 1 1 1 1 1 1 1 1 1 1 1 1 1 1 1 1 1 1 1 1 1 1 1 1 1 1 1 1 1 1 1 1 1 1 1 1 1 1 1 1 1 1 1 1 1 1 1 1 1 1 1 1 1 1 1 1 1 1 1 1 1 1 1 1 1 1 1 1 1 1 1 1 1 1 1 1 1 1 1 1 1 1 1 1 1 1 1 1 1 1 1 1 1 1 1 1 1 1 1 1 1 1 1 1 1 1 1 1 1 1 1 1 1 1 1 1 1 1 1 1 1 1 1 1 1 1 1 1 1 1 1 1 1 1 1 1 1 1 1 1 1 1 1 1 1 1 1 1 1 1 1 1 1 1 1 1 1 1 1 1 1 1 1 1 1 1 1 1 1 1 1 1 1 1 1 1 1 1 1 1 1 1 1 1 1 1 1 1 1 1 1 1 1 1 1 1 1 1 1 1 1 1 1 1 1 1 1 1 1 1 1 1 1 1 1 1 1 1 1 1 1 1 1 1 1 1 1 1 1 1 1 1 1 1 1 1 1 1 1 1 1 1 1 1 1 1 1 1 1 1 1 1 1\n",
            "INFO:tensorflow:segment_ids: 0 0 0 0 0 0 0 0 0 0 0 0 0 0 0 0 0 0 0 0 0 0 0 0 0 0 0 0 0 0 0 0 0 0 0 0 0 0 0 0 0 0 0 0 0 0 0 0 0 0 0 0 0 0 0 0 0 0 0 0 0 0 0 0 0 0 0 0 0 0 0 0 0 0 0 0 0 0 0 0 0 0 0 0 0 0 0 0 0 0 0 0 0 0 0 0 0 0 0 0 0 0 0 0 0 0 0 0 0 0 0 0 0 0 0 0 0 0 0 0 0 0 0 0 0 0 0 0 0 0 0 0 0 0 0 0 0 0 0 0 0 0 0 0 0 0 0 0 0 0 0 0 0 0 0 0 0 0 0 0 0 0 0 0 0 0 0 0 0 0 0 0 0 0 0 0 0 0 0 0 0 0 0 0 0 0 0 0 0 0 0 0 0 0 0 0 0 0 0 0 0 0 0 0 0 0 0 0 0 0 0 0 0 0 0 0 0 0 0 0 0 0 0 0 0 0 0 0 0 0 0 0 0 0 0 0 0 0 0 0 0 0 0 0 0 0 0 0 0 0 0 0 0 0 0 0 0 1 1 1 1 1 1 1 1 1 1 1 1 1 1 1 1 1 1 1 1 1 1 1 1 1 1 1 1 1 1 1 1 1 1 1 1 1 1 1 1 1 1 1 1 1 1 1 1 1 1 1 1 1 1 1 1 1 1 1 1 1 1 1 1 1 1 1 1 1 1 1 1 1 1 1 1 1 1 1 1 1 1 1 1 1 1 1 1 1 1 1 1 1 1 1 1 1 1 1 1 1 1 1 1 1 1 1 1 1 1 1 1 1 1 1 1 1 1 1 1 1 1 1 1 1 1 1 1 1 1 1 1 1 1 1 1 1 1 1 1 1 1 1 1 1 1 1 1 1 1 1 1 1 1 1 1 1 1 1 1 1 1 1 1 1 1 1 1 1 1 1 1 1 1 1 1 1 1 1 1 1 1 1 1 1 1 1 1 1 1 1 1 1 1 1 1 1 1 1 1 1 1 1 1 1 1 1 1 1 1 1 1 1 1 1 1 1 1 1 1 1 1 1 1 1 1 1 1 1 1 1 1 1 1 1 1 1 1 1 1 1 1 1 1 1 1 1 1 1 1 1 1 1 1 1\n",
            "INFO:tensorflow:label: entailment (id = 1)\n",
            "CPU times: user 2min 21s, sys: 59.2 ms, total: 2min 21s\n",
            "Wall time: 2min 21s\n"
          ],
          "name": "stdout"
        }
      ]
    },
    {
      "metadata": {
        "id": "3Y8-zElH2HlL",
        "colab_type": "code",
        "colab": {}
      },
      "cell_type": "code",
      "source": [
        "import pickle"
      ],
      "execution_count": 0,
      "outputs": []
    },
    {
      "metadata": {
        "id": "BiYTsT_H2QHN",
        "colab_type": "code",
        "colab": {}
      },
      "cell_type": "code",
      "source": [
        "with open('test_fdict_all.pkl', 'wb') as f:\n",
        "     pickle.dump(test_fdicts_all, f)"
      ],
      "execution_count": 0,
      "outputs": []
    },
    {
      "metadata": {
        "id": "IcChgVIA2Psr",
        "colab_type": "code",
        "colab": {}
      },
      "cell_type": "code",
      "source": [
        "with open('test_fdict_all.pkl', 'rb') as f:\n",
        "    test_fdict_all = pickle.load(f)"
      ],
      "execution_count": 0,
      "outputs": []
    },
    {
      "metadata": {
        "id": "cIed3xC82Gb5",
        "colab_type": "code",
        "colab": {}
      },
      "cell_type": "code",
      "source": [
        ""
      ],
      "execution_count": 0,
      "outputs": []
    },
    {
      "metadata": {
        "id": "rlButFHgQMRC",
        "colab_type": "code",
        "colab": {}
      },
      "cell_type": "code",
      "source": [
        ""
      ],
      "execution_count": 0,
      "outputs": []
    }
  ]
}