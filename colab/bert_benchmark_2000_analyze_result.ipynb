{
  "nbformat": 4,
  "nbformat_minor": 0,
  "metadata": {
    "colab": {
      "name": "bert-benchmark-2000-analyze-result.ipynb",
      "version": "0.3.2",
      "provenance": [],
      "collapsed_sections": [],
      "toc_visible": true,
      "include_colab_link": true
    },
    "kernelspec": {
      "name": "python3",
      "display_name": "Python 3"
    },
    "accelerator": "TPU"
  },
  "cells": [
    {
      "cell_type": "markdown",
      "metadata": {
        "id": "view-in-github",
        "colab_type": "text"
      },
      "source": [
        "<a href=\"https://colab.research.google.com/github/karino2/US-patent-analysis/blob/bert_input/colab/bert_benchmark_2000_analyze_result.ipynb\" target=\"_parent\"><img src=\"https://colab.research.google.com/assets/colab-badge.svg\" alt=\"Open In Colab\"/></a>"
      ]
    },
    {
      "metadata": {
        "id": "rQph610BeO4I",
        "colab_type": "text"
      },
      "cell_type": "markdown",
      "source": [
        "**BERT on 2000-2000 prediction benchmark trial**\n",
        "\n",
        "To compare bert with other model, evaluate on our benchmark setting.\n",
        "\n",
        "Basic code is from here: \n",
        "https://github.com/karino2/US-patent-analysis/blob/master/notebook/tfidf_nearest.ipynb\n",
        "\n",
        "Computing whole 1000x2525 pair of patent seems too time consuming that I create separate notebook for predict only.\n",
        "https://github.com/karino2/US-patent-analysis/blob/bert_input/colab/bert_benchmark_2000_save_result.ipynb\n",
        "\n",
        "This notebook only analyze the result."
      ]
    },
    {
      "metadata": {
        "id": "3Cv0EJiZ8vi6",
        "colab_type": "code",
        "colab": {}
      },
      "cell_type": "code",
      "source": [
        "import os\n",
        "import datetime\n",
        "import pickle\n",
        "import gzip\n",
        "import pandas as pd\n",
        "import numpy as np\n",
        "import matplotlib.pyplot as plt"
      ],
      "execution_count": 0,
      "outputs": []
    },
    {
      "metadata": {
        "id": "XG9_uLXKMf2t",
        "colab_type": "code",
        "colab": {}
      },
      "cell_type": "code",
      "source": [
        "!mkdir -p ./bert/data"
      ],
      "execution_count": 0,
      "outputs": []
    },
    {
      "metadata": {
        "id": "j-n-oE9aNPs6",
        "colab_type": "code",
        "colab": {}
      },
      "cell_type": "code",
      "source": [
        "from google.colab import auth\n",
        "auth.authenticate_user()"
      ],
      "execution_count": 0,
      "outputs": []
    },
    {
      "metadata": {
        "id": "QHEzELKZemxw",
        "colab_type": "code",
        "colab": {
          "base_uri": "https://localhost:8080/",
          "height": 230
        },
        "outputId": "b2c27b64-7791-4e57-a656-5c0f8558147b"
      },
      "cell_type": "code",
      "source": [
        "!gsutil cp gs://karino2-uspatent/citations_info_2000.df.gz ./bert/data/\n",
        "!gsutil cp gs://karino2-uspatent/testset_app_1000.df.gz ./bert/data/\n",
        "!gsutil cp gs://karino2-uspatent/training_app_1000.df.gz ./bert/data/\n",
        "!gsutil cp gs://karino2-uspatent/grants_for_2000.df.gz ./bert/data/"
      ],
      "execution_count": 6,
      "outputs": [
        {
          "output_type": "stream",
          "text": [
            "Copying gs://karino2-uspatent/citations_info_2000.df.gz...\n",
            "/ [0 files][    0.0 B/234.3 KiB]                                                \r/ [1 files][234.3 KiB/234.3 KiB]                                                \r\n",
            "Operation completed over 1 objects/234.3 KiB.                                    \n",
            "Copying gs://karino2-uspatent/testset_app_1000.df.gz...\n",
            "/ [1 files][ 13.4 MiB/ 13.4 MiB]                                                \n",
            "Operation completed over 1 objects/13.4 MiB.                                     \n",
            "Copying gs://karino2-uspatent/training_app_1000.df.gz...\n",
            "/ [1 files][ 14.2 MiB/ 14.2 MiB]                                                \n",
            "Operation completed over 1 objects/14.2 MiB.                                     \n",
            "Copying gs://karino2-uspatent/grants_for_2000.df.gz...\n",
            "- [1 files][ 44.6 MiB/ 44.6 MiB]                                                \n",
            "Operation completed over 1 objects/44.6 MiB.                                     \n"
          ],
          "name": "stdout"
        }
      ]
    },
    {
      "metadata": {
        "id": "FxUSX-wgfm0s",
        "colab_type": "code",
        "colab": {}
      },
      "cell_type": "code",
      "source": [
        "citations_info_target = pd.read_pickle(\"./bert/data/citations_info_2000.df.gz\")\n",
        "# training_app_df = pd.read_pickle(\"./bert/data/training_app_1000.df.gz\")\n",
        "testset_app_df = pd.read_pickle(\"./bert/data/testset_app_1000.df.gz\")\n",
        "grants_target_df = pd.read_pickle(\"./bert/data/grants_for_2000.df.gz\")"
      ],
      "execution_count": 0,
      "outputs": []
    },
    {
      "metadata": {
        "id": "yJ0UrNYOGSPn",
        "colab_type": "code",
        "colab": {}
      },
      "cell_type": "code",
      "source": [
        ""
      ],
      "execution_count": 0,
      "outputs": []
    },
    {
      "metadata": {
        "id": "Wgiqq3NJOmaO",
        "colab_type": "text"
      },
      "cell_type": "markdown",
      "source": [
        "# Evaluation of one block\n",
        "\n",
        "Result is stored on 20x2524 block each.\n",
        "First, write evaluation code for 1 block, then integrate.\n"
      ]
    },
    {
      "metadata": {
        "id": "PAXj_Ky1GTXx",
        "colab_type": "code",
        "outputId": "bbe45261-4aa8-45b8-efec-b23e383ad75e",
        "colab": {
          "base_uri": "https://localhost:8080/",
          "height": 35
        }
      },
      "cell_type": "code",
      "source": [
        "WHOLE_APP_NUM=1000\n",
        "WHOLE_GRANTS_NUM = grants_target_df.shape[0]\n",
        "\n",
        "WHOLE_PAIR_NUM = WHOLE_APP_NUM*WHOLE_GRANTS_NUM\n",
        "WHOLE_PAIR_NUM, WHOLE_GRANTS_NUM"
      ],
      "execution_count": 8,
      "outputs": [
        {
          "output_type": "execute_result",
          "data": {
            "text/plain": [
              "(2524000, 2524)"
            ]
          },
          "metadata": {
            "tags": []
          },
          "execution_count": 8
        }
      ]
    },
    {
      "metadata": {
        "id": "WHJM3r0OGmVf",
        "colab_type": "code",
        "outputId": "2d4e33f2-63fe-4bb4-f341-50a0637e3231",
        "colab": {
          "base_uri": "https://localhost:8080/",
          "height": 35
        }
      },
      "cell_type": "code",
      "source": [
        "BLOCK_SIZE = 20*WHOLE_GRANTS_NUM\n",
        "TOTAL_BLOCK_NUM = WHOLE_PAIR_NUM//BLOCK_SIZE\n",
        "APPS_PER_BLOCK = WHOLE_APP_NUM//TOTAL_BLOCK_NUM\n",
        "\n",
        "BLOCK_SIZE, TOTAL_BLOCK_NUM, APPS_PER_BLOCK"
      ],
      "execution_count": 9,
      "outputs": [
        {
          "output_type": "execute_result",
          "data": {
            "text/plain": [
              "(50480, 50, 20)"
            ]
          },
          "metadata": {
            "tags": []
          },
          "execution_count": 9
        }
      ]
    },
    {
      "metadata": {
        "id": "WpzodBxKIubK",
        "colab_type": "code",
        "colab": {}
      },
      "cell_type": "code",
      "source": [
        ""
      ],
      "execution_count": 0,
      "outputs": []
    },
    {
      "metadata": {
        "id": "c9dC1GPQHPsi",
        "colab_type": "code",
        "colab": {}
      },
      "cell_type": "code",
      "source": [
        "def cited_ranking(app_ridx, block_id, result_block):\n",
        "  app_idx = app_ridx + APPS_PER_BLOCK*block_id\n",
        "  \n",
        "  assert app_ridx < APPS_PER_BLOCK and app_ridx >= 0\n",
        "  \n",
        "  # print(\"idx:{}, ridx:{}\".format(app_idx, app_ridx))\n",
        "\n",
        "  result_for_one_app = result_block[app_ridx*WHOLE_GRANTS_NUM: (app_ridx+1)*WHOLE_GRANTS_NUM]\n",
        "  result_for_one_app_true = [tup[1] for tup in result_for_one_app]\n",
        "  one_app_id = testset_app_df.app_id[app_idx]\n",
        "  cited_ids = citations_info_target[citations_info_target.app_id == one_app_id].parsed\n",
        "  \n",
        "  def gen_fun():\n",
        "\n",
        "    for cited_id in cited_ids.values:\n",
        "      i, = np.where(grants_target_df.parsed.values == cited_id)\n",
        "      cited_index = i[0]\n",
        "      ranking = sorted(result_for_one_app_true, reverse=True).index(result_for_one_app_true[cited_index])\n",
        "      yield (one_app_id, cited_ids.values[0], ranking, result_for_one_app_true[cited_index])\n",
        "  return list(gen_fun())"
      ],
      "execution_count": 0,
      "outputs": []
    },
    {
      "metadata": {
        "id": "0byyufJQGl_h",
        "colab_type": "code",
        "colab": {}
      },
      "cell_type": "code",
      "source": [
        ""
      ],
      "execution_count": 0,
      "outputs": []
    },
    {
      "metadata": {
        "id": "6f7QLqOpJZCz",
        "colab_type": "code",
        "colab": {}
      },
      "cell_type": "code",
      "source": [
        "def result_block_filename(block_id):\n",
        "  pair_begin = (block_id)*BLOCK_SIZE\n",
        "  pair_end = (block_id+1)*BLOCK_SIZE\n",
        "  \n",
        "  return \"result_{}_{}.pkl.gz\".format(pair_begin, pair_end)\n",
        "\n",
        "def download_result(block_id):\n",
        "  filename = result_block_filename(block_id)\n",
        "  !gsutil cp gs://karino2-uspatent/features/{filename} ./bert/data/{filename}\n",
        "    \n",
        "def load_result(block_id):\n",
        "  filename = result_block_filename(block_id)\n",
        "  # print(\"result flename: {}\".format(filename))\n",
        "  with gzip.open(\"./bert/data/{}\".format(filename), 'rb') as f:\n",
        "    return pickle.load(f)"
      ],
      "execution_count": 0,
      "outputs": []
    },
    {
      "metadata": {
        "id": "r2Zb7YXIS2Yc",
        "colab_type": "code",
        "colab": {}
      },
      "cell_type": "code",
      "source": [
        "def load_and_calc_rank_tuples(block_id):\n",
        "  result_block = load_result(block_id)\n",
        "  return [tup for apprid in range(APPS_PER_BLOCK) for tup in cited_ranking(apprid, block_id, result_block)]"
      ],
      "execution_count": 0,
      "outputs": []
    },
    {
      "metadata": {
        "id": "LMti3HP2TH1q",
        "colab_type": "text"
      },
      "cell_type": "markdown",
      "source": [
        "# Integrate whole results"
      ]
    },
    {
      "metadata": {
        "id": "eKucCBLQZyUL",
        "colab_type": "code",
        "colab": {
          "base_uri": "https://localhost:8080/",
          "height": 941
        },
        "outputId": "8d83a9ba-ea89-4aeb-e7db-98774a78b048"
      },
      "cell_type": "code",
      "source": [
        "!gsutil -m cp gs://karino2-uspatent/features/result* ./bert/data/"
      ],
      "execution_count": 14,
      "outputs": [
        {
          "output_type": "stream",
          "text": [
            "Copying gs://karino2-uspatent/features/result_0_50480.pkl.gz...\n",
            "Copying gs://karino2-uspatent/features/result_1009600_1060080.pkl.gz...\n",
            "Copying gs://karino2-uspatent/features/result_1110560_1161040.pkl.gz...\n",
            "/ [0 files][    0.0 B/  1.0 MiB]                                                \r/ [0 files][    0.0 B/  2.0 MiB]                                                \r/ [0/50 files][    0.0 B/ 50.1 MiB]   0% Done                                   \rCopying gs://karino2-uspatent/features/result_100960_151440.pkl.gz...\n",
            "Copying gs://karino2-uspatent/features/result_1161040_1211520.pkl.gz...\n",
            "Copying gs://karino2-uspatent/features/result_1211520_1262000.pkl.gz...\n",
            "/ [0/50 files][    0.0 B/ 50.1 MiB]   0% Done                                   \r/ [0/50 files][    0.0 B/ 50.1 MiB]   0% Done                                   \rCopying gs://karino2-uspatent/features/result_1362960_1413440.pkl.gz...\n",
            "Copying gs://karino2-uspatent/features/result_1262000_1312480.pkl.gz...\n",
            "Copying gs://karino2-uspatent/features/result_1312480_1362960.pkl.gz...\n",
            "Copying gs://karino2-uspatent/features/result_1060080_1110560.pkl.gz...\n",
            "Copying gs://karino2-uspatent/features/result_1413440_1463920.pkl.gz...\n",
            "Copying gs://karino2-uspatent/features/result_1463920_1514400.pkl.gz...\n",
            "Copying gs://karino2-uspatent/features/result_1514400_1564880.pkl.gz...\n",
            "Copying gs://karino2-uspatent/features/result_151440_201920.pkl.gz...\n",
            "Copying gs://karino2-uspatent/features/result_1564880_1615360.pkl.gz...\n",
            "Copying gs://karino2-uspatent/features/result_1615360_1665840.pkl.gz...\n",
            "Copying gs://karino2-uspatent/features/result_1716320_1766800.pkl.gz...\n",
            "Copying gs://karino2-uspatent/features/result_1665840_1716320.pkl.gz...\n",
            "Copying gs://karino2-uspatent/features/result_1766800_1817280.pkl.gz...\n",
            "Copying gs://karino2-uspatent/features/result_1817280_1867760.pkl.gz...\n",
            "Copying gs://karino2-uspatent/features/result_1867760_1918240.pkl.gz...\n",
            "Copying gs://karino2-uspatent/features/result_1918240_1968720.pkl.gz...\n",
            "Copying gs://karino2-uspatent/features/result_1968720_2019200.pkl.gz...\n",
            "Copying gs://karino2-uspatent/features/result_2019200_2069680.pkl.gz...\n",
            "Copying gs://karino2-uspatent/features/result_201920_252400.pkl.gz...\n",
            "Copying gs://karino2-uspatent/features/result_2069680_2120160.pkl.gz...\n",
            "Copying gs://karino2-uspatent/features/result_2120160_2170640.pkl.gz...\n",
            "Copying gs://karino2-uspatent/features/result_2170640_2221120.pkl.gz...\n",
            "Copying gs://karino2-uspatent/features/result_2221120_2271600.pkl.gz...\n",
            "Copying gs://karino2-uspatent/features/result_2271600_2322080.pkl.gz...\n",
            "Copying gs://karino2-uspatent/features/result_2322080_2372560.pkl.gz...\n",
            "Copying gs://karino2-uspatent/features/result_2372560_2423040.pkl.gz...\n",
            "Copying gs://karino2-uspatent/features/result_2423040_2473520.pkl.gz...\n",
            "Copying gs://karino2-uspatent/features/result_2473520_2524000.pkl.gz...\n",
            "Copying gs://karino2-uspatent/features/result_252400_302880.pkl.gz...\n",
            "Copying gs://karino2-uspatent/features/result_302880_353360.pkl.gz...\n",
            "Copying gs://karino2-uspatent/features/result_353360_403840.pkl.gz...\n",
            "Copying gs://karino2-uspatent/features/result_403840_454320.pkl.gz...\n",
            "Copying gs://karino2-uspatent/features/result_454320_504800.pkl.gz...\n",
            "Copying gs://karino2-uspatent/features/result_504800_555280.pkl.gz...\n",
            "Copying gs://karino2-uspatent/features/result_50480_100960.pkl.gz...\n",
            "Copying gs://karino2-uspatent/features/result_555280_605760.pkl.gz...\n",
            "Copying gs://karino2-uspatent/features/result_605760_656240.pkl.gz...\n",
            "Copying gs://karino2-uspatent/features/result_706720_757200.pkl.gz...\n",
            "Copying gs://karino2-uspatent/features/result_656240_706720.pkl.gz...\n",
            "Copying gs://karino2-uspatent/features/result_757200_807680.pkl.gz...\n",
            "Copying gs://karino2-uspatent/features/result_807680_858160.pkl.gz...\n",
            "Copying gs://karino2-uspatent/features/result_858160_908640.pkl.gz...\n",
            "Copying gs://karino2-uspatent/features/result_908640_959120.pkl.gz...\n",
            "Copying gs://karino2-uspatent/features/result_959120_1009600.pkl.gz...\n",
            "- [50/50 files][ 50.1 MiB/ 50.1 MiB] 100% Done                                  \n",
            "Operation completed over 50 objects/50.1 MiB.                                    \n"
          ],
          "name": "stdout"
        }
      ]
    },
    {
      "metadata": {
        "id": "KaaUplHCNa1r",
        "colab_type": "code",
        "colab": {}
      },
      "cell_type": "code",
      "source": [
        "whole_tups = [tup for block_id in range(50) for tup in load_and_calc_rank_tuples(block_id)]"
      ],
      "execution_count": 0,
      "outputs": []
    },
    {
      "metadata": {
        "id": "S2_KBn90NyJ1",
        "colab_type": "code",
        "outputId": "c16cf7c2-a61c-420c-8a21-a727c20a308a",
        "colab": {
          "base_uri": "https://localhost:8080/",
          "height": 35
        }
      },
      "cell_type": "code",
      "source": [
        "len(whole_tups)"
      ],
      "execution_count": 18,
      "outputs": [
        {
          "output_type": "execute_result",
          "data": {
            "text/plain": [
              "2059"
            ]
          },
          "metadata": {
            "tags": []
          },
          "execution_count": 18
        }
      ]
    },
    {
      "metadata": {
        "id": "mCjt33OkTpoA",
        "colab_type": "code",
        "colab": {}
      },
      "cell_type": "code",
      "source": [
        "whole_ranks = [tup[2] for tup in whole_tups]"
      ],
      "execution_count": 0,
      "outputs": []
    },
    {
      "metadata": {
        "id": "QANWZ6M6Ty3X",
        "colab_type": "code",
        "outputId": "038e4530-5536-41e3-abc7-c76337f0d6c3",
        "colab": {
          "base_uri": "https://localhost:8080/",
          "height": 362
        }
      },
      "cell_type": "code",
      "source": [
        "plt.hist(whole_ranks, bins=200)\n",
        "plt.title(\"Cited grants rank\")\n",
        "plt.show()"
      ],
      "execution_count": 22,
      "outputs": [
        {
          "output_type": "display_data",
          "data": {
            "image/png": "[encoded data removed]",
            "text/plain": [
              "<matplotlib.figure.Figure at 0x7fecdafc6a58>"
            ]
          },
          "metadata": {
            "tags": []
          }
        }
      ]
    },
    {
      "metadata": {
        "id": "Quy2zz-nT8um",
        "colab_type": "code",
        "outputId": "38b5e0d6-37ac-440d-c76a-8746a7647056",
        "colab": {
          "base_uri": "https://localhost:8080/",
          "height": 362
        }
      },
      "cell_type": "code",
      "source": [
        "plt.hist(sorted(whole_ranks)[0:1500], bins=200)\n",
        "plt.title(\"Cited grants rank\")\n",
        "plt.show()"
      ],
      "execution_count": 23,
      "outputs": [
        {
          "output_type": "display_data",
          "data": {
            "image/png": "[encoded data removed]",
            "text/plain": [
              "<matplotlib.figure.Figure at 0x7fecdb2bebe0>"
            ]
          },
          "metadata": {
            "tags": []
          }
        }
      ]
    },
    {
      "metadata": {
        "id": "9nPSbATDT8ct",
        "colab_type": "code",
        "colab": {
          "base_uri": "https://localhost:8080/",
          "height": 35
        },
        "outputId": "0c583983-83b6-4402-a896-2b5b0229a15a"
      },
      "cell_type": "code",
      "source": [
        "sum(np.array(whole_ranks) < 10)"
      ],
      "execution_count": 32,
      "outputs": [
        {
          "output_type": "execute_result",
          "data": {
            "text/plain": [
              "1265"
            ]
          },
          "metadata": {
            "tags": []
          },
          "execution_count": 32
        }
      ]
    },
    {
      "metadata": {
        "id": "qTtXz1zQakoU",
        "colab_type": "code",
        "colab": {
          "base_uri": "https://localhost:8080/",
          "height": 35
        },
        "outputId": "c6e2a258-f724-4858-ba33-b63493c94976"
      },
      "cell_type": "code",
      "source": [
        "sum(np.array(whole_ranks) <= 20)"
      ],
      "execution_count": 27,
      "outputs": [
        {
          "output_type": "execute_result",
          "data": {
            "text/plain": [
              "1548"
            ]
          },
          "metadata": {
            "tags": []
          },
          "execution_count": 27
        }
      ]
    },
    {
      "metadata": {
        "id": "ADdg-sQmam9T",
        "colab_type": "code",
        "colab": {}
      },
      "cell_type": "code",
      "source": [
        ""
      ],
      "execution_count": 0,
      "outputs": []
    },
    {
      "metadata": {
        "id": "-WdiI0UlbX1F",
        "colab_type": "text"
      },
      "cell_type": "markdown",
      "source": [
        "Draw rank-cover curve"
      ]
    },
    {
      "metadata": {
        "id": "gMgzpf2RdiTb",
        "colab_type": "code",
        "colab": {}
      },
      "cell_type": "code",
      "source": [
        "whole_ranks_arr = np.array(whole_ranks)"
      ],
      "execution_count": 0,
      "outputs": []
    },
    {
      "metadata": {
        "id": "cFETCm8MdmBW",
        "colab_type": "code",
        "colab": {
          "base_uri": "https://localhost:8080/",
          "height": 35
        },
        "outputId": "c2a971b1-3dd5-4757-b534-2343ca9f15a9"
      },
      "cell_type": "code",
      "source": [
        "whole_ranks_arr.max()"
      ],
      "execution_count": 35,
      "outputs": [
        {
          "output_type": "execute_result",
          "data": {
            "text/plain": [
              "2362"
            ]
          },
          "metadata": {
            "tags": []
          },
          "execution_count": 35
        }
      ]
    },
    {
      "metadata": {
        "id": "6c6GSiELd83y",
        "colab_type": "code",
        "colab": {}
      },
      "cell_type": "code",
      "source": [
        "positive_counts = [sum(whole_ranks_arr <= thrd) for thrd in range(WHOLE_GRANTS_NUM)]"
      ],
      "execution_count": 0,
      "outputs": []
    },
    {
      "metadata": {
        "id": "0ssMYhl7eXE6",
        "colab_type": "code",
        "colab": {
          "base_uri": "https://localhost:8080/",
          "height": 362
        },
        "outputId": "42871fb8-77f6-46a1-9784-b8d86895d2a2"
      },
      "cell_type": "code",
      "source": [
        "plt.plot(range(WHOLE_GRANTS_NUM), positive_counts)\n",
        "plt.title(\"rank vs covered num\")\n",
        "plt.show()"
      ],
      "execution_count": 39,
      "outputs": [
        {
          "output_type": "display_data",
          "data": {
            "image/png": "[encoded data removed]",
            "text/plain": [
              "<matplotlib.figure.Figure at 0x7fecdb5a46d8>"
            ]
          },
          "metadata": {
            "tags": []
          }
        }
      ]
    },
    {
      "metadata": {
        "id": "6ORlGjVHdw-l",
        "colab_type": "code",
        "colab": {
          "base_uri": "https://localhost:8080/",
          "height": 362
        },
        "outputId": "6e5ecda2-0a63-44cd-f3b5-089fd3dd7232"
      },
      "cell_type": "code",
      "source": [
        "plt.plot(range(WHOLE_GRANTS_NUM), np.array(positive_counts)/len(whole_tups))\n",
        "plt.title(\"rank vs covered rate\")\n",
        "plt.show()"
      ],
      "execution_count": 42,
      "outputs": [
        {
          "output_type": "display_data",
          "data": {
            "image/png": "[encoded data removed]",
            "text/plain": [
              "<matplotlib.figure.Figure at 0x7fecdb124278>"
            ]
          },
          "metadata": {
            "tags": []
          }
        }
      ]
    },
    {
      "metadata": {
        "id": "bzYiH5-3enI0",
        "colab_type": "code",
        "colab": {}
      },
      "cell_type": "code",
      "source": [
        ""
      ],
      "execution_count": 0,
      "outputs": []
    },
    {
      "metadata": {
        "id": "b2pCPIeifEod",
        "colab_type": "code",
        "colab": {
          "base_uri": "https://localhost:8080/",
          "height": 362
        },
        "outputId": "7df46b2d-ebee-42ff-db4f-2c6df3ef22de"
      },
      "cell_type": "code",
      "source": [
        "plt.plot(range(100), (np.array(positive_counts)/len(whole_tups))[0:100])\n",
        "plt.title(\"rank vs covered rate, till 100\")\n",
        "plt.show()"
      ],
      "execution_count": 43,
      "outputs": [
        {
          "output_type": "display_data",
          "data": {
            "image/png": "[encoded data removed]",
            "text/plain": [
              "<matplotlib.figure.Figure at 0x7fecdbf3e390>"
            ]
          },
          "metadata": {
            "tags": []
          }
        }
      ]
    },
    {
      "metadata": {
        "id": "0fBiRaD2fEZF",
        "colab_type": "code",
        "colab": {
          "base_uri": "https://localhost:8080/",
          "height": 35
        },
        "outputId": "b65c82e2-f9cd-4b79-bf86-2ee581ed2b2e"
      },
      "cell_type": "code",
      "source": [
        "sum(whole_ranks_arr<10)/len(whole_tups)"
      ],
      "execution_count": 44,
      "outputs": [
        {
          "output_type": "execute_result",
          "data": {
            "text/plain": [
              "0.6143759106362312"
            ]
          },
          "metadata": {
            "tags": []
          },
          "execution_count": 44
        }
      ]
    },
    {
      "metadata": {
        "id": "Xe2uBvAOdphI",
        "colab_type": "code",
        "colab": {
          "base_uri": "https://localhost:8080/",
          "height": 362
        },
        "outputId": "c9a8cfc8-a1e7-4540-81de-16da898d8383"
      },
      "cell_type": "code",
      "source": [
        "plt.plot(range(10), (np.array(positive_counts)/len(whole_tups))[0:10])\n",
        "plt.title(\"rank vs covered rate, till 10\")\n",
        "plt.show()"
      ],
      "execution_count": 45,
      "outputs": [
        {
          "output_type": "display_data",
          "data": {
            "image/png": "[encoded data removed]",
            "text/plain": [
              "<matplotlib.figure.Figure at 0x7fecdbc6c2b0>"
            ]
          },
          "metadata": {
            "tags": []
          }
        }
      ]
    },
    {
      "metadata": {
        "id": "g_mYN8gfdiCM",
        "colab_type": "code",
        "colab": {}
      },
      "cell_type": "code",
      "source": [
        ""
      ],
      "execution_count": 0,
      "outputs": []
    },
    {
      "metadata": {
        "id": "C73Yb90Dhi6r",
        "colab_type": "text"
      },
      "cell_type": "markdown",
      "source": [
        "# Benchmark 2000 evaluation."
      ]
    },
    {
      "metadata": {
        "id": "6YaI3ud_ho7m",
        "colab_type": "code",
        "colab": {}
      },
      "cell_type": "code",
      "source": [
        ""
      ],
      "execution_count": 0,
      "outputs": []
    },
    {
      "metadata": {
        "id": "QVKdo0OJiIWs",
        "colab_type": "text"
      },
      "cell_type": "markdown",
      "source": [
        "### Evaluation code from below notebook\n",
        "\n",
        "https://github.com/karino2/US-patent-analysis/blob/master/notebook/tfidf_nearest.ipynb"
      ]
    },
    {
      "metadata": {
        "id": "UJO8Nj6UjPJ9",
        "colab_type": "code",
        "colab": {}
      },
      "cell_type": "code",
      "source": [
        ""
      ],
      "execution_count": 0,
      "outputs": []
    },
    {
      "metadata": {
        "id": "77JQfRySoiBH",
        "colab_type": "text"
      },
      "cell_type": "markdown",
      "source": [
        "We do not need claim text (because we already use it and save the result), but put those utility to re-use evaluation code."
      ]
    },
    {
      "metadata": {
        "id": "2TXRSw_4oZUs",
        "colab_type": "code",
        "colab": {}
      },
      "cell_type": "code",
      "source": [
        "import re\n",
        "\n",
        "CLAIM_PAT = re.compile(r'<claims[^>]*>(.*)</claims>',re.MULTILINE|re.DOTALL)\n",
        "TAG_PAT = re.compile(r\"<.*?>\")\n",
        "\n",
        "\n",
        "def whole_xml_to_claim_xml(whole):\n",
        "    mat = CLAIM_PAT.search(whole)\n",
        "    return mat.group(1)\n",
        "  \n",
        "  \n",
        "def whole_xml_to_claim(whole):\n",
        "    return TAG_PAT.sub(' ', whole_xml_to_claim_xml(whole))"
      ],
      "execution_count": 0,
      "outputs": []
    },
    {
      "metadata": {
        "id": "D72KCORcEW1e",
        "colab_type": "code",
        "colab": {}
      },
      "cell_type": "code",
      "source": [
        "def predict_test_set(predict_func):\n",
        "    \"\"\"\n",
        "    predict_func(claims) return NxM of boolean. N is len(claims). M is rownum of grants_target_df.\n",
        "            value indicate n claim is cite patent of m row of grants_all_df.\n",
        "    \"\"\"\n",
        "    predictdf = pd.DataFrame(columns=grants_target_df.parsed.values, dtype=np.bool)\n",
        "    res = predict_func(testset_app_df[\"xml\"].map(whole_xml_to_claim))\n",
        "    for idx, appid in enumerate(testset_app_df.app_id):\n",
        "        predictdf.loc[appid] = res[idx, :]\n",
        "    return predictdf"
      ],
      "execution_count": 0,
      "outputs": []
    },
    {
      "metadata": {
        "id": "_iC8nlJJEWyl",
        "colab_type": "code",
        "colab": {}
      },
      "cell_type": "code",
      "source": [
        "def calc_TPs(preddf, labeldf):\n",
        "    return sum([sum(preddf.loc[one_appid][labeldf.loc[one_appid]]) for one_appid in testset_app_df.app_id])\n",
        "\n",
        "def calc_FPs(preddf, labeldf):\n",
        "    return sum([sum(preddf.loc[one_appid][~labeldf.loc[one_appid]]) for one_appid in testset_app_df.app_id])\n",
        "\n",
        "def calc_TNs(preddf, labeldf):\n",
        "    return sum([sum(preddf.loc[one_appid][~labeldf.loc[one_appid]] == False) for one_appid in testset_app_df.app_id])\n",
        "\n",
        "def calc_FNs(preddf, labeldf):\n",
        "    return sum([sum(preddf.loc[one_appid][labeldf.loc[one_appid]] == False) for one_appid in testset_app_df.app_id])\n",
        "\n",
        "def calc_TFPNs(preddf, labeldf):\n",
        "    return calc_TPs(preddf, labeldf), calc_FPs(preddf, labeldf), calc_TNs(preddf, labeldf), calc_FNs(preddf, labeldf)"
      ],
      "execution_count": 0,
      "outputs": []
    },
    {
      "metadata": {
        "id": "nvER9nyYEWvs",
        "colab_type": "code",
        "colab": {}
      },
      "cell_type": "code",
      "source": [
        "def calc_summary_TFPNs(TP, FP, TN, FN):\n",
        "    \"return acc, prec, recall, f1.\"\n",
        "    return pd.DataFrame(columns=[\"acc\", \"prec\", \"recall\", \"f1\"], data=[[(TP+TN)/(TP+FP+TN+FN), TP/(TP+FP), TP/(TP+FN), 2*TP/(2*TP+FP+FN)]])\n",
        "    \n",
        "def calc_summary(preddf, labeldf):\n",
        "    TP, FP, TN, FN = calc_TFPNs(preddf, labeldf)\n",
        "    return calc_summary_TFPNs(TP, FP, TN, FN)"
      ],
      "execution_count": 0,
      "outputs": []
    },
    {
      "metadata": {
        "id": "N7mxGmnWDa1z",
        "colab_type": "code",
        "colab": {}
      },
      "cell_type": "code",
      "source": [
        "def set_one_answer_appid(labeldf, oneappid):\n",
        "    cited_patids = citations_info_target[citations_info_target.app_id == oneappid].parsed\n",
        "    labeldf.loc[oneappid] = labeldf.columns.isin(cited_patids)\n",
        "    \n",
        "    \n",
        "def create_label_df():\n",
        "    label_df = pd.DataFrame(columns=grants_target_df.parsed.values, dtype=np.bool)\n",
        "    for appid in testset_app_df.app_id:\n",
        "        set_one_answer_appid(label_df, appid)\n",
        "    return label_df"
      ],
      "execution_count": 0,
      "outputs": []
    },
    {
      "metadata": {
        "id": "upcVrLggiX-N",
        "colab_type": "text"
      },
      "cell_type": "markdown",
      "source": [
        "### Bert predict function\n",
        "\n",
        "Bert predict takes too much time to evaluate on the fly.\n",
        "So I predict whole test set one block by one block (20 patents each), then save result in another notebook.\n",
        "\n",
        "https://github.com/karino2/US-patent-analysis/blob/bert_input/colab/bert_benchmark_2000_save_result.ipynb\n",
        "\n",
        "So here, we just use index of input as the id of input and pickup the result already computed.\n"
      ]
    },
    {
      "metadata": {
        "id": "jnqWb_mEktb-",
        "colab_type": "code",
        "colab": {
          "base_uri": "https://localhost:8080/",
          "height": 53
        },
        "outputId": "dc41de3c-4e79-48b3-d735-6522b25a125c"
      },
      "cell_type": "code",
      "source": [
        "np.array(load_result(0))[:,1]"
      ],
      "execution_count": 48,
      "outputs": [
        {
          "output_type": "execute_result",
          "data": {
            "text/plain": [
              "array([0.0001288 , 0.00012526, 0.00013392, ..., 0.00023892, 0.00012708,\n",
              "       0.00015882], dtype=float32)"
            ]
          },
          "metadata": {
            "tags": []
          },
          "execution_count": 48
        }
      ]
    },
    {
      "metadata": {
        "id": "DjTTl8mijtF6",
        "colab_type": "code",
        "colab": {}
      },
      "cell_type": "code",
      "source": [
        "whole_pair_scores = [score for block_id in range(50) for score in np.array(load_result(block_id))[:, 1]]"
      ],
      "execution_count": 0,
      "outputs": []
    },
    {
      "metadata": {
        "id": "fKvSlIhalJZ2",
        "colab_type": "code",
        "colab": {
          "base_uri": "https://localhost:8080/",
          "height": 35
        },
        "outputId": "a7d962bb-65fb-4573-f65f-429280d6daea"
      },
      "cell_type": "code",
      "source": [
        "len(whole_pair_scores)"
      ],
      "execution_count": 50,
      "outputs": [
        {
          "output_type": "execute_result",
          "data": {
            "text/plain": [
              "2524000"
            ]
          },
          "metadata": {
            "tags": []
          },
          "execution_count": 50
        }
      ]
    },
    {
      "metadata": {
        "id": "qmDwVQmJmTuP",
        "colab_type": "code",
        "colab": {}
      },
      "cell_type": "code",
      "source": [
        "score_matrix = np.array(whole_pair_scores).reshape((1000, -1))"
      ],
      "execution_count": 0,
      "outputs": []
    },
    {
      "metadata": {
        "id": "rvSfodEkmj4X",
        "colab_type": "code",
        "colab": {
          "base_uri": "https://localhost:8080/",
          "height": 35
        },
        "outputId": "c944a3a3-ca81-4f5e-cca7-2b1bc4e903ed"
      },
      "cell_type": "code",
      "source": [
        "score_matrix.shape"
      ],
      "execution_count": 72,
      "outputs": [
        {
          "output_type": "execute_result",
          "data": {
            "text/plain": [
              "(1000, 2524)"
            ]
          },
          "metadata": {
            "tags": []
          },
          "execution_count": 72
        }
      ]
    },
    {
      "metadata": {
        "id": "0A17Ib5wnDim",
        "colab_type": "code",
        "colab": {
          "base_uri": "https://localhost:8080/",
          "height": 53
        },
        "outputId": "c9bdf3ef-4522-4d9c-eb38-fa55ad837ea3"
      },
      "cell_type": "code",
      "source": [
        "score_matrix[1, 0:5]"
      ],
      "execution_count": 73,
      "outputs": [
        {
          "output_type": "execute_result",
          "data": {
            "text/plain": [
              "array([1.3072522e-04, 1.2457161e-04, 1.9968447e-01, 1.2207238e-04,\n",
              "       1.3056371e-04], dtype=float32)"
            ]
          },
          "metadata": {
            "tags": []
          },
          "execution_count": 73
        }
      ]
    },
    {
      "metadata": {
        "id": "aPERkAUhnG8m",
        "colab_type": "code",
        "colab": {
          "base_uri": "https://localhost:8080/",
          "height": 35
        },
        "outputId": "e97152b3-f8c8-4603-f0d2-b820e9591221"
      },
      "cell_type": "code",
      "source": [
        "whole_pair_scores[2524: 2524+5]"
      ],
      "execution_count": 74,
      "outputs": [
        {
          "output_type": "execute_result",
          "data": {
            "text/plain": [
              "[0.00013072522, 0.00012457161, 0.19968447, 0.00012207238, 0.00013056371]"
            ]
          },
          "metadata": {
            "tags": []
          },
          "execution_count": 74
        }
      ]
    },
    {
      "metadata": {
        "id": "_0ki9tVHl4va",
        "colab_type": "code",
        "colab": {}
      },
      "cell_type": "code",
      "source": [
        ""
      ],
      "execution_count": 0,
      "outputs": []
    },
    {
      "metadata": {
        "id": "J58dEYjQiFVw",
        "colab_type": "code",
        "colab": {}
      },
      "cell_type": "code",
      "source": [
        "SOFT_MAX_THRESHOLD=0.5\n",
        "\n",
        "def predict_bertf_model(claims):\n",
        "    \"\"\"\n",
        "    return: NxM of boolean. N is len(claims). M is rownum of grants_all_df.\n",
        "            value indicate n claim is cite patent of m row of grants_all_df.\n",
        "    \"\"\"\n",
        "    return score_matrix > SOFT_MAX_THRESHOLD\n"
      ],
      "execution_count": 0,
      "outputs": []
    },
    {
      "metadata": {
        "id": "XY7sHcCDiFFP",
        "colab_type": "code",
        "colab": {}
      },
      "cell_type": "code",
      "source": [
        "pred_df = predict_test_set(predict_bertf_model)"
      ],
      "execution_count": 0,
      "outputs": []
    },
    {
      "metadata": {
        "id": "qsz_O0PYpO2O",
        "colab_type": "code",
        "colab": {
          "base_uri": "https://localhost:8080/",
          "height": 35
        },
        "outputId": "f9a33e57-449a-4fe6-f6ae-6fe2887c413a"
      },
      "cell_type": "code",
      "source": [
        "label_df = create_label_df()\n",
        "label_df.shape"
      ],
      "execution_count": 85,
      "outputs": [
        {
          "output_type": "execute_result",
          "data": {
            "text/plain": [
              "(1000, 2524)"
            ]
          },
          "metadata": {
            "tags": []
          },
          "execution_count": 85
        }
      ]
    },
    {
      "metadata": {
        "id": "szwwnw8Ch8Ya",
        "colab_type": "code",
        "colab": {
          "base_uri": "https://localhost:8080/",
          "height": 80
        },
        "outputId": "b20c411b-e088-4d2a-ecef-7833412c292b"
      },
      "cell_type": "code",
      "source": [
        "SOFT_MAX_THRESHOLD=0.5\n",
        "pred_df = predict_test_set(predict_bertf_model)\n",
        "calc_summary(pred_df, label_df)"
      ],
      "execution_count": 90,
      "outputs": [
        {
          "output_type": "execute_result",
          "data": {
            "text/html": [
              "<div>\n",
              "<style scoped>\n",
              "    .dataframe tbody tr th:only-of-type {\n",
              "        vertical-align: middle;\n",
              "    }\n",
              "\n",
              "    .dataframe tbody tr th {\n",
              "        vertical-align: top;\n",
              "    }\n",
              "\n",
              "    .dataframe thead th {\n",
              "        text-align: right;\n",
              "    }\n",
              "</style>\n",
              "<table border=\"1\" class=\"dataframe\">\n",
              "  <thead>\n",
              "    <tr style=\"text-align: right;\">\n",
              "      <th></th>\n",
              "      <th>acc</th>\n",
              "      <th>prec</th>\n",
              "      <th>recall</th>\n",
              "      <th>f1</th>\n",
              "    </tr>\n",
              "  </thead>\n",
              "  <tbody>\n",
              "    <tr>\n",
              "      <th>0</th>\n",
              "      <td>0.945267</td>\n",
              "      <td>0.008382</td>\n",
              "      <td>0.932854</td>\n",
              "      <td>0.016614</td>\n",
              "    </tr>\n",
              "  </tbody>\n",
              "</table>\n",
              "</div>"
            ],
            "text/plain": [
              "        acc      prec    recall        f1\n",
              "0  0.945267  0.008382  0.932854  0.016614"
            ]
          },
          "metadata": {
            "tags": []
          },
          "execution_count": 90
        }
      ]
    },
    {
      "metadata": {
        "id": "PiBj31O_q4i_",
        "colab_type": "text"
      },
      "cell_type": "markdown",
      "source": [
        "### Manual grid search for best f1 score\n",
        "\n",
        "We should use validation set for real evaluation.\n",
        "But now just check the effectivity of bert."
      ]
    },
    {
      "metadata": {
        "id": "iSqv3cWkpYj4",
        "colab_type": "code",
        "colab": {
          "base_uri": "https://localhost:8080/",
          "height": 80
        },
        "outputId": "74f703a0-d7f8-44ea-c95a-9415fa758312"
      },
      "cell_type": "code",
      "source": [
        "SOFT_MAX_THRESHOLD=0.8\n",
        "pred_df = predict_test_set(predict_bertf_model)\n",
        "calc_summary(pred_df, label_df)"
      ],
      "execution_count": 88,
      "outputs": [
        {
          "output_type": "execute_result",
          "data": {
            "text/html": [
              "<div>\n",
              "<style scoped>\n",
              "    .dataframe tbody tr th:only-of-type {\n",
              "        vertical-align: middle;\n",
              "    }\n",
              "\n",
              "    .dataframe tbody tr th {\n",
              "        vertical-align: top;\n",
              "    }\n",
              "\n",
              "    .dataframe thead th {\n",
              "        text-align: right;\n",
              "    }\n",
              "</style>\n",
              "<table border=\"1\" class=\"dataframe\">\n",
              "  <thead>\n",
              "    <tr style=\"text-align: right;\">\n",
              "      <th></th>\n",
              "      <th>acc</th>\n",
              "      <th>prec</th>\n",
              "      <th>recall</th>\n",
              "      <th>f1</th>\n",
              "    </tr>\n",
              "  </thead>\n",
              "  <tbody>\n",
              "    <tr>\n",
              "      <th>0</th>\n",
              "      <td>0.947257</td>\n",
              "      <td>0.008688</td>\n",
              "      <td>0.932054</td>\n",
              "      <td>0.017216</td>\n",
              "    </tr>\n",
              "  </tbody>\n",
              "</table>\n",
              "</div>"
            ],
            "text/plain": [
              "        acc      prec    recall        f1\n",
              "0  0.947257  0.008688  0.932054  0.017216"
            ]
          },
          "metadata": {
            "tags": []
          },
          "execution_count": 88
        }
      ]
    },
    {
      "metadata": {
        "id": "F8rhl-18pYKn",
        "colab_type": "code",
        "colab": {
          "base_uri": "https://localhost:8080/",
          "height": 80
        },
        "outputId": "f71d5fd9-5de9-49fa-ed3c-4319735178fe"
      },
      "cell_type": "code",
      "source": [
        "SOFT_MAX_THRESHOLD=0.99\n",
        "pred_df = predict_test_set(predict_bertf_model)\n",
        "calc_summary(pred_df, label_df)"
      ],
      "execution_count": 89,
      "outputs": [
        {
          "output_type": "execute_result",
          "data": {
            "text/html": [
              "<div>\n",
              "<style scoped>\n",
              "    .dataframe tbody tr th:only-of-type {\n",
              "        vertical-align: middle;\n",
              "    }\n",
              "\n",
              "    .dataframe tbody tr th {\n",
              "        vertical-align: top;\n",
              "    }\n",
              "\n",
              "    .dataframe thead th {\n",
              "        text-align: right;\n",
              "    }\n",
              "</style>\n",
              "<table border=\"1\" class=\"dataframe\">\n",
              "  <thead>\n",
              "    <tr style=\"text-align: right;\">\n",
              "      <th></th>\n",
              "      <th>acc</th>\n",
              "      <th>prec</th>\n",
              "      <th>recall</th>\n",
              "      <th>f1</th>\n",
              "    </tr>\n",
              "  </thead>\n",
              "  <tbody>\n",
              "    <tr>\n",
              "      <th>0</th>\n",
              "      <td>0.953794</td>\n",
              "      <td>0.009781</td>\n",
              "      <td>0.920064</td>\n",
              "      <td>0.019357</td>\n",
              "    </tr>\n",
              "  </tbody>\n",
              "</table>\n",
              "</div>"
            ],
            "text/plain": [
              "        acc      prec    recall        f1\n",
              "0  0.953794  0.009781  0.920064  0.019357"
            ]
          },
          "metadata": {
            "tags": []
          },
          "execution_count": 89
        }
      ]
    },
    {
      "metadata": {
        "id": "x_QdL9fcp_SJ",
        "colab_type": "code",
        "colab": {
          "base_uri": "https://localhost:8080/",
          "height": 80
        },
        "outputId": "cbfe5fc2-f843-44fd-801a-162343f667c2"
      },
      "cell_type": "code",
      "source": [
        "SOFT_MAX_THRESHOLD=0.999\n",
        "pred_df = predict_test_set(predict_bertf_model)\n",
        "calc_summary(pred_df, label_df)"
      ],
      "execution_count": 93,
      "outputs": [
        {
          "output_type": "execute_result",
          "data": {
            "text/html": [
              "<div>\n",
              "<style scoped>\n",
              "    .dataframe tbody tr th:only-of-type {\n",
              "        vertical-align: middle;\n",
              "    }\n",
              "\n",
              "    .dataframe tbody tr th {\n",
              "        vertical-align: top;\n",
              "    }\n",
              "\n",
              "    .dataframe thead th {\n",
              "        text-align: right;\n",
              "    }\n",
              "</style>\n",
              "<table border=\"1\" class=\"dataframe\">\n",
              "  <thead>\n",
              "    <tr style=\"text-align: right;\">\n",
              "      <th></th>\n",
              "      <th>acc</th>\n",
              "      <th>prec</th>\n",
              "      <th>recall</th>\n",
              "      <th>f1</th>\n",
              "    </tr>\n",
              "  </thead>\n",
              "  <tbody>\n",
              "    <tr>\n",
              "      <th>0</th>\n",
              "      <td>0.962702</td>\n",
              "      <td>0.011876</td>\n",
              "      <td>0.903277</td>\n",
              "      <td>0.023444</td>\n",
              "    </tr>\n",
              "  </tbody>\n",
              "</table>\n",
              "</div>"
            ],
            "text/plain": [
              "        acc      prec    recall        f1\n",
              "0  0.962702  0.011876  0.903277  0.023444"
            ]
          },
          "metadata": {
            "tags": []
          },
          "execution_count": 93
        }
      ]
    },
    {
      "metadata": {
        "id": "s0ojhELHqG6w",
        "colab_type": "code",
        "colab": {
          "base_uri": "https://localhost:8080/",
          "height": 80
        },
        "outputId": "f52eb2e1-4f44-4671-e0ae-d4dcb7929a19"
      },
      "cell_type": "code",
      "source": [
        "SOFT_MAX_THRESHOLD=0.9999\n",
        "pred_df = predict_test_set(predict_bertf_model)\n",
        "calc_summary(pred_df, label_df)"
      ],
      "execution_count": 94,
      "outputs": [
        {
          "output_type": "execute_result",
          "data": {
            "text/html": [
              "<div>\n",
              "<style scoped>\n",
              "    .dataframe tbody tr th:only-of-type {\n",
              "        vertical-align: middle;\n",
              "    }\n",
              "\n",
              "    .dataframe tbody tr th {\n",
              "        vertical-align: top;\n",
              "    }\n",
              "\n",
              "    .dataframe thead th {\n",
              "        text-align: right;\n",
              "    }\n",
              "</style>\n",
              "<table border=\"1\" class=\"dataframe\">\n",
              "  <thead>\n",
              "    <tr style=\"text-align: right;\">\n",
              "      <th></th>\n",
              "      <th>acc</th>\n",
              "      <th>prec</th>\n",
              "      <th>recall</th>\n",
              "      <th>f1</th>\n",
              "    </tr>\n",
              "  </thead>\n",
              "  <tbody>\n",
              "    <tr>\n",
              "      <th>0</th>\n",
              "      <td>0.994926</td>\n",
              "      <td>0.055534</td>\n",
              "      <td>0.577138</td>\n",
              "      <td>0.101319</td>\n",
              "    </tr>\n",
              "  </tbody>\n",
              "</table>\n",
              "</div>"
            ],
            "text/plain": [
              "        acc      prec    recall        f1\n",
              "0  0.994926  0.055534  0.577138  0.101319"
            ]
          },
          "metadata": {
            "tags": []
          },
          "execution_count": 94
        }
      ]
    },
    {
      "metadata": {
        "id": "UBYOKBQGqZOq",
        "colab_type": "code",
        "colab": {
          "base_uri": "https://localhost:8080/",
          "height": 80
        },
        "outputId": "65954e8b-f527-43f9-edc5-1f138fbef52b"
      },
      "cell_type": "code",
      "source": [
        "SOFT_MAX_THRESHOLD=0.9999134\n",
        "pred_df = predict_test_set(predict_bertf_model)\n",
        "calc_summary(pred_df, label_df)"
      ],
      "execution_count": 105,
      "outputs": [
        {
          "output_type": "execute_result",
          "data": {
            "text/html": [
              "<div>\n",
              "<style scoped>\n",
              "    .dataframe tbody tr th:only-of-type {\n",
              "        vertical-align: middle;\n",
              "    }\n",
              "\n",
              "    .dataframe tbody tr th {\n",
              "        vertical-align: top;\n",
              "    }\n",
              "\n",
              "    .dataframe thead th {\n",
              "        text-align: right;\n",
              "    }\n",
              "</style>\n",
              "<table border=\"1\" class=\"dataframe\">\n",
              "  <thead>\n",
              "    <tr style=\"text-align: right;\">\n",
              "      <th></th>\n",
              "      <th>acc</th>\n",
              "      <th>prec</th>\n",
              "      <th>recall</th>\n",
              "      <th>f1</th>\n",
              "    </tr>\n",
              "  </thead>\n",
              "  <tbody>\n",
              "    <tr>\n",
              "      <th>0</th>\n",
              "      <td>0.999505</td>\n",
              "      <td>1.0</td>\n",
              "      <td>0.000799</td>\n",
              "      <td>0.001597</td>\n",
              "    </tr>\n",
              "  </tbody>\n",
              "</table>\n",
              "</div>"
            ],
            "text/plain": [
              "        acc  prec    recall        f1\n",
              "0  0.999505   1.0  0.000799  0.001597"
            ]
          },
          "metadata": {
            "tags": []
          },
          "execution_count": 105
        }
      ]
    },
    {
      "metadata": {
        "id": "ipAN3i3xqjqG",
        "colab_type": "code",
        "colab": {
          "base_uri": "https://localhost:8080/",
          "height": 80
        },
        "outputId": "df0c1bb0-adff-495b-f7e2-39d7a25e5934"
      },
      "cell_type": "code",
      "source": [
        "SOFT_MAX_THRESHOLD=0.99991\n",
        "pred_df = predict_test_set(predict_bertf_model)\n",
        "calc_summary(pred_df, label_df)"
      ],
      "execution_count": 106,
      "outputs": [
        {
          "output_type": "execute_result",
          "data": {
            "text/html": [
              "<div>\n",
              "<style scoped>\n",
              "    .dataframe tbody tr th:only-of-type {\n",
              "        vertical-align: middle;\n",
              "    }\n",
              "\n",
              "    .dataframe tbody tr th {\n",
              "        vertical-align: top;\n",
              "    }\n",
              "\n",
              "    .dataframe thead th {\n",
              "        text-align: right;\n",
              "    }\n",
              "</style>\n",
              "<table border=\"1\" class=\"dataframe\">\n",
              "  <thead>\n",
              "    <tr style=\"text-align: right;\">\n",
              "      <th></th>\n",
              "      <th>acc</th>\n",
              "      <th>prec</th>\n",
              "      <th>recall</th>\n",
              "      <th>f1</th>\n",
              "    </tr>\n",
              "  </thead>\n",
              "  <tbody>\n",
              "    <tr>\n",
              "      <th>0</th>\n",
              "      <td>0.999391</td>\n",
              "      <td>0.229602</td>\n",
              "      <td>0.096723</td>\n",
              "      <td>0.136108</td>\n",
              "    </tr>\n",
              "  </tbody>\n",
              "</table>\n",
              "</div>"
            ],
            "text/plain": [
              "        acc      prec    recall        f1\n",
              "0  0.999391  0.229602  0.096723  0.136108"
            ]
          },
          "metadata": {
            "tags": []
          },
          "execution_count": 106
        }
      ]
    },
    {
      "metadata": {
        "id": "iJQ2GaREqbsZ",
        "colab_type": "code",
        "colab": {
          "base_uri": "https://localhost:8080/",
          "height": 35
        },
        "outputId": "8f4a8c24-fd42-47a6-c8b2-7b89d12a2c41"
      },
      "cell_type": "code",
      "source": [
        "np.array(whole_pair_scores).max()"
      ],
      "execution_count": 102,
      "outputs": [
        {
          "output_type": "execute_result",
          "data": {
            "text/plain": [
              "0.99991345"
            ]
          },
          "metadata": {
            "tags": []
          },
          "execution_count": 102
        }
      ]
    },
    {
      "metadata": {
        "id": "Yx0DBClSqbhg",
        "colab_type": "code",
        "colab": {}
      },
      "cell_type": "code",
      "source": [
        ""
      ],
      "execution_count": 0,
      "outputs": []
    },
    {
      "metadata": {
        "id": "kDkcuQ1QN7zF",
        "colab_type": "text"
      },
      "cell_type": "markdown",
      "source": [
        "# Try and error"
      ]
    },
    {
      "metadata": {
        "id": "ASvt0O0AJjY_",
        "colab_type": "code",
        "outputId": "b4a0468f-a0b7-4726-aa67-25d4c56009c6",
        "colab": {
          "base_uri": "https://localhost:8080/",
          "height": 35
        }
      },
      "cell_type": "code",
      "source": [
        "filename = result_block_filename(0)\n",
        "filename"
      ],
      "execution_count": 0,
      "outputs": [
        {
          "output_type": "execute_result",
          "data": {
            "text/plain": [
              "'result_0_50480.pkl.gz'"
            ]
          },
          "metadata": {
            "tags": []
          },
          "execution_count": 13
        }
      ]
    },
    {
      "metadata": {
        "id": "jWpkbawcJDLO",
        "colab_type": "code",
        "colab": {}
      },
      "cell_type": "code",
      "source": [
        ""
      ],
      "execution_count": 0,
      "outputs": []
    },
    {
      "metadata": {
        "id": "WljQP7LUKjPO",
        "colab_type": "code",
        "outputId": "b2ee292d-ffb6-437a-a9c9-a4a1a900f2be",
        "colab": {
          "base_uri": "https://localhost:8080/",
          "height": 53
        }
      },
      "cell_type": "code",
      "source": [
        "cited_ranking(2, 1, result_block)"
      ],
      "execution_count": 0,
      "outputs": [
        {
          "output_type": "stream",
          "text": [
            "idx:22, ridx:2\n"
          ],
          "name": "stdout"
        },
        {
          "output_type": "execute_result",
          "data": {
            "text/plain": [
              "[(13004544, 6845583, 0, 0.9999095)]"
            ]
          },
          "metadata": {
            "tags": []
          },
          "execution_count": 28
        }
      ]
    },
    {
      "metadata": {
        "id": "pMsa4ElFKi6D",
        "colab_type": "code",
        "outputId": "70ffafb9-9d17-4622-bded-1a5f4b2f5e25",
        "colab": {
          "base_uri": "https://localhost:8080/",
          "height": 35
        }
      },
      "cell_type": "code",
      "source": [
        "testset_app_df.app_id[22]"
      ],
      "execution_count": 0,
      "outputs": [
        {
          "output_type": "execute_result",
          "data": {
            "text/plain": [
              "13004544"
            ]
          },
          "metadata": {
            "tags": []
          },
          "execution_count": 29
        }
      ]
    },
    {
      "metadata": {
        "id": "c2rKFycYJC5r",
        "colab_type": "code",
        "colab": {}
      },
      "cell_type": "code",
      "source": [
        ""
      ],
      "execution_count": 0,
      "outputs": []
    },
    {
      "metadata": {
        "id": "MNfINC-yNajK",
        "colab_type": "code",
        "colab": {}
      },
      "cell_type": "code",
      "source": [
        ""
      ],
      "execution_count": 0,
      "outputs": []
    },
    {
      "metadata": {
        "id": "slGAjirSTfxr",
        "colab_type": "code",
        "outputId": "81dffaf3-bc05-4e4d-fcdd-13a397ca1096",
        "colab": {
          "base_uri": "https://localhost:8080/",
          "height": 1729
        }
      },
      "cell_type": "code",
      "source": [
        "pd.DataFrame({\"rank\": sorted(block_ranks)})"
      ],
      "execution_count": 0,
      "outputs": [
        {
          "output_type": "execute_result",
          "data": {
            "text/html": [
              "<div>\n",
              "<style scoped>\n",
              "    .dataframe tbody tr th:only-of-type {\n",
              "        vertical-align: middle;\n",
              "    }\n",
              "\n",
              "    .dataframe tbody tr th {\n",
              "        vertical-align: top;\n",
              "    }\n",
              "\n",
              "    .dataframe thead th {\n",
              "        text-align: right;\n",
              "    }\n",
              "</style>\n",
              "<table border=\"1\" class=\"dataframe\">\n",
              "  <thead>\n",
              "    <tr style=\"text-align: right;\">\n",
              "      <th></th>\n",
              "      <th>rank</th>\n",
              "    </tr>\n",
              "  </thead>\n",
              "  <tbody>\n",
              "    <tr>\n",
              "      <th>0</th>\n",
              "      <td>0</td>\n",
              "    </tr>\n",
              "    <tr>\n",
              "      <th>1</th>\n",
              "      <td>0</td>\n",
              "    </tr>\n",
              "    <tr>\n",
              "      <th>2</th>\n",
              "      <td>0</td>\n",
              "    </tr>\n",
              "    <tr>\n",
              "      <th>3</th>\n",
              "      <td>0</td>\n",
              "    </tr>\n",
              "    <tr>\n",
              "      <th>4</th>\n",
              "      <td>0</td>\n",
              "    </tr>\n",
              "    <tr>\n",
              "      <th>5</th>\n",
              "      <td>0</td>\n",
              "    </tr>\n",
              "    <tr>\n",
              "      <th>6</th>\n",
              "      <td>0</td>\n",
              "    </tr>\n",
              "    <tr>\n",
              "      <th>7</th>\n",
              "      <td>0</td>\n",
              "    </tr>\n",
              "    <tr>\n",
              "      <th>8</th>\n",
              "      <td>0</td>\n",
              "    </tr>\n",
              "    <tr>\n",
              "      <th>9</th>\n",
              "      <td>0</td>\n",
              "    </tr>\n",
              "    <tr>\n",
              "      <th>10</th>\n",
              "      <td>0</td>\n",
              "    </tr>\n",
              "    <tr>\n",
              "      <th>11</th>\n",
              "      <td>0</td>\n",
              "    </tr>\n",
              "    <tr>\n",
              "      <th>12</th>\n",
              "      <td>0</td>\n",
              "    </tr>\n",
              "    <tr>\n",
              "      <th>13</th>\n",
              "      <td>0</td>\n",
              "    </tr>\n",
              "    <tr>\n",
              "      <th>14</th>\n",
              "      <td>0</td>\n",
              "    </tr>\n",
              "    <tr>\n",
              "      <th>15</th>\n",
              "      <td>1</td>\n",
              "    </tr>\n",
              "    <tr>\n",
              "      <th>16</th>\n",
              "      <td>2</td>\n",
              "    </tr>\n",
              "    <tr>\n",
              "      <th>17</th>\n",
              "      <td>2</td>\n",
              "    </tr>\n",
              "    <tr>\n",
              "      <th>18</th>\n",
              "      <td>2</td>\n",
              "    </tr>\n",
              "    <tr>\n",
              "      <th>19</th>\n",
              "      <td>2</td>\n",
              "    </tr>\n",
              "    <tr>\n",
              "      <th>20</th>\n",
              "      <td>2</td>\n",
              "    </tr>\n",
              "    <tr>\n",
              "      <th>21</th>\n",
              "      <td>2</td>\n",
              "    </tr>\n",
              "    <tr>\n",
              "      <th>22</th>\n",
              "      <td>3</td>\n",
              "    </tr>\n",
              "    <tr>\n",
              "      <th>23</th>\n",
              "      <td>3</td>\n",
              "    </tr>\n",
              "    <tr>\n",
              "      <th>24</th>\n",
              "      <td>3</td>\n",
              "    </tr>\n",
              "    <tr>\n",
              "      <th>25</th>\n",
              "      <td>4</td>\n",
              "    </tr>\n",
              "    <tr>\n",
              "      <th>26</th>\n",
              "      <td>4</td>\n",
              "    </tr>\n",
              "    <tr>\n",
              "      <th>27</th>\n",
              "      <td>4</td>\n",
              "    </tr>\n",
              "    <tr>\n",
              "      <th>28</th>\n",
              "      <td>4</td>\n",
              "    </tr>\n",
              "    <tr>\n",
              "      <th>29</th>\n",
              "      <td>7</td>\n",
              "    </tr>\n",
              "    <tr>\n",
              "      <th>30</th>\n",
              "      <td>10</td>\n",
              "    </tr>\n",
              "    <tr>\n",
              "      <th>31</th>\n",
              "      <td>10</td>\n",
              "    </tr>\n",
              "    <tr>\n",
              "      <th>32</th>\n",
              "      <td>10</td>\n",
              "    </tr>\n",
              "    <tr>\n",
              "      <th>33</th>\n",
              "      <td>10</td>\n",
              "    </tr>\n",
              "    <tr>\n",
              "      <th>34</th>\n",
              "      <td>11</td>\n",
              "    </tr>\n",
              "    <tr>\n",
              "      <th>35</th>\n",
              "      <td>11</td>\n",
              "    </tr>\n",
              "    <tr>\n",
              "      <th>36</th>\n",
              "      <td>11</td>\n",
              "    </tr>\n",
              "    <tr>\n",
              "      <th>37</th>\n",
              "      <td>11</td>\n",
              "    </tr>\n",
              "    <tr>\n",
              "      <th>38</th>\n",
              "      <td>11</td>\n",
              "    </tr>\n",
              "    <tr>\n",
              "      <th>39</th>\n",
              "      <td>11</td>\n",
              "    </tr>\n",
              "    <tr>\n",
              "      <th>40</th>\n",
              "      <td>11</td>\n",
              "    </tr>\n",
              "    <tr>\n",
              "      <th>41</th>\n",
              "      <td>11</td>\n",
              "    </tr>\n",
              "    <tr>\n",
              "      <th>42</th>\n",
              "      <td>11</td>\n",
              "    </tr>\n",
              "    <tr>\n",
              "      <th>43</th>\n",
              "      <td>11</td>\n",
              "    </tr>\n",
              "    <tr>\n",
              "      <th>44</th>\n",
              "      <td>11</td>\n",
              "    </tr>\n",
              "    <tr>\n",
              "      <th>45</th>\n",
              "      <td>11</td>\n",
              "    </tr>\n",
              "    <tr>\n",
              "      <th>46</th>\n",
              "      <td>11</td>\n",
              "    </tr>\n",
              "    <tr>\n",
              "      <th>47</th>\n",
              "      <td>11</td>\n",
              "    </tr>\n",
              "    <tr>\n",
              "      <th>48</th>\n",
              "      <td>13</td>\n",
              "    </tr>\n",
              "    <tr>\n",
              "      <th>49</th>\n",
              "      <td>19</td>\n",
              "    </tr>\n",
              "    <tr>\n",
              "      <th>50</th>\n",
              "      <td>36</td>\n",
              "    </tr>\n",
              "    <tr>\n",
              "      <th>51</th>\n",
              "      <td>36</td>\n",
              "    </tr>\n",
              "    <tr>\n",
              "      <th>52</th>\n",
              "      <td>55</td>\n",
              "    </tr>\n",
              "    <tr>\n",
              "      <th>53</th>\n",
              "      <td>81</td>\n",
              "    </tr>\n",
              "  </tbody>\n",
              "</table>\n",
              "</div>"
            ],
            "text/plain": [
              "    rank\n",
              "0      0\n",
              "1      0\n",
              "2      0\n",
              "3      0\n",
              "4      0\n",
              "5      0\n",
              "6      0\n",
              "7      0\n",
              "8      0\n",
              "9      0\n",
              "10     0\n",
              "11     0\n",
              "12     0\n",
              "13     0\n",
              "14     0\n",
              "15     1\n",
              "16     2\n",
              "17     2\n",
              "18     2\n",
              "19     2\n",
              "20     2\n",
              "21     2\n",
              "22     3\n",
              "23     3\n",
              "24     3\n",
              "25     4\n",
              "26     4\n",
              "27     4\n",
              "28     4\n",
              "29     7\n",
              "30    10\n",
              "31    10\n",
              "32    10\n",
              "33    10\n",
              "34    11\n",
              "35    11\n",
              "36    11\n",
              "37    11\n",
              "38    11\n",
              "39    11\n",
              "40    11\n",
              "41    11\n",
              "42    11\n",
              "43    11\n",
              "44    11\n",
              "45    11\n",
              "46    11\n",
              "47    11\n",
              "48    13\n",
              "49    19\n",
              "50    36\n",
              "51    36\n",
              "52    55\n",
              "53    81"
            ]
          },
          "metadata": {
            "tags": []
          },
          "execution_count": 43
        }
      ]
    },
    {
      "metadata": {
        "id": "-M2835C7Tfdl",
        "colab_type": "code",
        "colab": {}
      },
      "cell_type": "code",
      "source": [
        ""
      ],
      "execution_count": 0,
      "outputs": []
    },
    {
      "metadata": {
        "id": "2t5hLab5ZN3k",
        "colab_type": "code",
        "colab": {}
      },
      "cell_type": "code",
      "source": [
        "result_block = load_result(1)"
      ],
      "execution_count": 0,
      "outputs": []
    },
    {
      "metadata": {
        "id": "bvsCb75gL_Kn",
        "colab_type": "code",
        "colab": {}
      },
      "cell_type": "code",
      "source": [
        "block_rank_tuples = [tup for apprid in range(APPS_PER_BLOCK) for tup in cited_ranking(apprid, 1, result_block)]"
      ],
      "execution_count": 0,
      "outputs": []
    },
    {
      "metadata": {
        "id": "xIMu1deaL-3k",
        "colab_type": "code",
        "colab": {}
      },
      "cell_type": "code",
      "source": [
        "block_ranks = [tup[2] for tup in block_rank_tuples]"
      ],
      "execution_count": 0,
      "outputs": []
    },
    {
      "metadata": {
        "id": "4_imUBrHMs8K",
        "colab_type": "code",
        "outputId": "fd43f0f9-91de-4074-b0b2-b032166c8e0b",
        "colab": {
          "base_uri": "https://localhost:8080/",
          "height": 35
        }
      },
      "cell_type": "code",
      "source": [
        "block_ranks[0:5]"
      ],
      "execution_count": 0,
      "outputs": [
        {
          "output_type": "execute_result",
          "data": {
            "text/plain": [
              "[81, 0, 0, 0, 0]"
            ]
          },
          "metadata": {
            "tags": []
          },
          "execution_count": 36
        }
      ]
    },
    {
      "metadata": {
        "id": "h63YIXHGMspm",
        "colab_type": "code",
        "outputId": "cbb42ce9-d55b-4cfd-fdc4-9e2d2c9939c4",
        "colab": {
          "base_uri": "https://localhost:8080/",
          "height": 35
        }
      },
      "cell_type": "code",
      "source": [
        "sorted(block_ranks)[0:20]"
      ],
      "execution_count": 0,
      "outputs": [
        {
          "output_type": "execute_result",
          "data": {
            "text/plain": [
              "[0, 0, 0, 0, 0, 0, 0, 0, 0, 0, 0, 0, 0, 0, 0, 1, 2, 2, 2, 2]"
            ]
          },
          "metadata": {
            "tags": []
          },
          "execution_count": 38
        }
      ]
    },
    {
      "metadata": {
        "id": "eyGwEjukMsX7",
        "colab_type": "code",
        "outputId": "406546e9-0bbe-4d46-b49b-c06013b6c9b6",
        "colab": {
          "base_uri": "https://localhost:8080/",
          "height": 35
        }
      },
      "cell_type": "code",
      "source": [
        "len(block_rank_tuples)"
      ],
      "execution_count": 0,
      "outputs": [
        {
          "output_type": "execute_result",
          "data": {
            "text/plain": [
              "54"
            ]
          },
          "metadata": {
            "tags": []
          },
          "execution_count": 40
        }
      ]
    },
    {
      "metadata": {
        "id": "owsgYGTUNbIR",
        "colab_type": "code",
        "colab": {}
      },
      "cell_type": "code",
      "source": [
        ""
      ],
      "execution_count": 0,
      "outputs": []
    },
    {
      "metadata": {
        "colab_type": "code",
        "id": "-rFXdl0iNVTS",
        "colab": {}
      },
      "cell_type": "code",
      "source": [
        "import matplotlib.pyplot as plt"
      ],
      "execution_count": 0,
      "outputs": []
    },
    {
      "metadata": {
        "colab_type": "code",
        "outputId": "6e8bb121-6186-4ecd-eceb-8d62c3befbfe",
        "id": "pstp9HgYNVTb",
        "colab": {
          "base_uri": "https://localhost:8080/",
          "height": 362
        }
      },
      "cell_type": "code",
      "source": [
        "plt.hist(block_ranks, bins=50)\n",
        "plt.title(\"Cited grants rank\")\n",
        "plt.show()"
      ],
      "execution_count": 0,
      "outputs": [
        {
          "output_type": "display_data",
          "data": {
            "image/png": "[encoded data removed]",
            "text/plain": [
              "<matplotlib.figure.Figure at 0x7fa008d75da0>"
            ]
          },
          "metadata": {
            "tags": []
          }
        }
      ]
    },
    {
      "metadata": {
        "id": "MC0FZ1scFqH0",
        "colab_type": "code",
        "colab": {}
      },
      "cell_type": "code",
      "source": [
        ""
      ],
      "execution_count": 0,
      "outputs": []
    },
    {
      "metadata": {
        "id": "n5ciGGfYnX9l",
        "colab_type": "code",
        "colab": {}
      },
      "cell_type": "code",
      "source": [
        "tmp = np.array(range(10))"
      ],
      "execution_count": 0,
      "outputs": []
    },
    {
      "metadata": {
        "id": "Oa_egrKgnjeQ",
        "colab_type": "code",
        "outputId": "9989a6fb-11a0-402c-c9a1-b2112d4d478d",
        "colab": {
          "base_uri": "https://localhost:8080/",
          "height": 53
        }
      },
      "cell_type": "code",
      "source": [
        "tmp.reshape((2, -1))"
      ],
      "execution_count": 0,
      "outputs": [
        {
          "output_type": "execute_result",
          "data": {
            "text/plain": [
              "array([[0, 1, 2, 3, 4],\n",
              "       [5, 6, 7, 8, 9]])"
            ]
          },
          "metadata": {
            "tags": []
          },
          "execution_count": 70
        }
      ]
    },
    {
      "metadata": {
        "id": "aNzKPk_KnXks",
        "colab_type": "code",
        "outputId": "4eed4db7-3366-4c36-e389-25e503248234",
        "colab": {
          "base_uri": "https://localhost:8080/",
          "height": 35
        }
      },
      "cell_type": "code",
      "source": [
        "tmp.reshape((2, -1))[0, :]"
      ],
      "execution_count": 0,
      "outputs": [
        {
          "output_type": "execute_result",
          "data": {
            "text/plain": [
              "array([0, 1, 2, 3, 4])"
            ]
          },
          "metadata": {
            "tags": []
          },
          "execution_count": 69
        }
      ]
    },
    {
      "metadata": {
        "id": "MzILx1RKlNvR",
        "colab_type": "code",
        "colab": {}
      },
      "cell_type": "code",
      "source": [
        "def appidx_to_range(appidx):\n",
        "  return appidx*WHOLE_GRANTS_NUM, (appidx+1)*WHOLE_GRANTS_NUM"
      ],
      "execution_count": 0,
      "outputs": []
    },
    {
      "metadata": {
        "id": "FYWMVYe0lr7Z",
        "colab_type": "code",
        "outputId": "78dd4d1f-8463-4c86-da6d-09d44f638125",
        "colab": {
          "base_uri": "https://localhost:8080/",
          "height": 35
        }
      },
      "cell_type": "code",
      "source": [
        "appidx_to_range(19)"
      ],
      "execution_count": 0,
      "outputs": [
        {
          "output_type": "execute_result",
          "data": {
            "text/plain": [
              "(47956, 50480)"
            ]
          },
          "metadata": {
            "tags": []
          },
          "execution_count": 54
        }
      ]
    },
    {
      "metadata": {
        "id": "2aY5NMzOlzmi",
        "colab_type": "code",
        "outputId": "f983851d-0685-409a-8885-2d516b58456d",
        "colab": {
          "base_uri": "https://localhost:8080/",
          "height": 35
        }
      },
      "cell_type": "code",
      "source": [
        "whole_pair_scores[0:5]"
      ],
      "execution_count": 0,
      "outputs": [
        {
          "output_type": "execute_result",
          "data": {
            "text/plain": [
              "[0.00012879973, 0.00012525565, 0.00013391985, 0.00012690226, 0.00013221534]"
            ]
          },
          "metadata": {
            "tags": []
          },
          "execution_count": 55
        }
      ]
    },
    {
      "metadata": {
        "id": "cWWs72X0Fij8",
        "colab_type": "code",
        "colab": {}
      },
      "cell_type": "code",
      "source": [
        "def appidx_to_scores(appidx):\n",
        "  start, end = appidx_to_range(appidx)\n",
        "  return whole_pair_scores(start, end)"
      ],
      "execution_count": 0,
      "outputs": []
    },
    {
      "metadata": {
        "id": "rlButFHgQMRC",
        "colab_type": "code",
        "colab": {}
      },
      "cell_type": "code",
      "source": [
        ""
      ],
      "execution_count": 0,
      "outputs": []
    }
  ]
}