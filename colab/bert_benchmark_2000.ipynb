{
  "nbformat": 4,
  "nbformat_minor": 0,
  "metadata": {
    "colab": {
      "name": "bert-benchmark-2000.ipynb",
      "version": "0.3.2",
      "provenance": [],
      "collapsed_sections": [],
      "include_colab_link": true
    },
    "kernelspec": {
      "name": "python3",
      "display_name": "Python 3"
    },
    "accelerator": "TPU"
  },
  "cells": [
    {
      "cell_type": "markdown",
      "metadata": {
        "id": "view-in-github",
        "colab_type": "text"
      },
      "source": [
        "<a href=\"https://colab.research.google.com/github/karino2/US-patent-analysis/blob/bert_input/colab/bert_benchmark_2000.ipynb\" target=\"_parent\"><img src=\"https://colab.research.google.com/assets/colab-badge.svg\" alt=\"Open In Colab\"/></a>"
      ]
    },
    {
      "metadata": {
        "id": "rQph610BeO4I",
        "colab_type": "text"
      },
      "cell_type": "markdown",
      "source": [
        "**BERT on 2000-2000 prediction benchmark trial**\n",
        "\n",
        "To compare bert with other model, evaluate on our benchmark setting.\n",
        "\n",
        "Basic code is from here: \n",
        "https://github.com/karino2/US-patent-analysis/blob/master/notebook/tfidf_nearest.ipynb"
      ]
    },
    {
      "metadata": {
        "id": "3Cv0EJiZ8vi6",
        "colab_type": "code",
        "colab": {}
      },
      "cell_type": "code",
      "source": [
        "import tensorflow as tf"
      ],
      "execution_count": 0,
      "outputs": []
    },
    {
      "metadata": {
        "id": "R3AyT0Fq8yzD",
        "colab_type": "code",
        "outputId": "f5d96579-fbcf-4723-8d5b-4f3fd8f477be",
        "colab": {
          "base_uri": "https://localhost:8080/",
          "height": 35
        }
      },
      "cell_type": "code",
      "source": [
        "tf.__version__"
      ],
      "execution_count": 0,
      "outputs": [
        {
          "output_type": "execute_result",
          "data": {
            "text/plain": [
              "'1.12.0'"
            ]
          },
          "metadata": {
            "tags": []
          },
          "execution_count": 2
        }
      ]
    },
    {
      "metadata": {
        "id": "EWkrwgQV80JK",
        "colab_type": "code",
        "outputId": "7f6fc35e-2c36-485a-bf5e-b46bf5d0d14b",
        "colab": {
          "base_uri": "https://localhost:8080/",
          "height": 106
        }
      },
      "cell_type": "code",
      "source": [
        "!git clone -b docker https://github.com/yoheikikuta/bert.git"
      ],
      "execution_count": 0,
      "outputs": [
        {
          "output_type": "stream",
          "text": [
            "Cloning into 'bert'...\n",
            "remote: Enumerating objects: 269, done.\u001b[K\n",
            "remote: Total 269 (delta 0), reused 0 (delta 0), pack-reused 269\u001b[K\n",
            "Receiving objects: 100% (269/269), 174.41 KiB | 2.42 MiB/s, done.\n",
            "Resolving deltas: 100% (155/155), done.\n"
          ],
          "name": "stdout"
        }
      ]
    },
    {
      "metadata": {
        "id": "eg8r8ARt89w3",
        "colab_type": "code",
        "outputId": "214eb7cc-fd19-4b94-c3cb-70192c06e6c8",
        "colab": {
          "base_uri": "https://localhost:8080/",
          "height": 35
        }
      },
      "cell_type": "code",
      "source": [
        "!ls"
      ],
      "execution_count": 0,
      "outputs": [
        {
          "output_type": "stream",
          "text": [
            "bert  sample_data\n"
          ],
          "name": "stdout"
        }
      ]
    },
    {
      "metadata": {
        "id": "Y0uTP07G85PI",
        "colab_type": "code",
        "colab": {}
      },
      "cell_type": "code",
      "source": [
        "import os\n",
        "import datetime"
      ],
      "execution_count": 0,
      "outputs": []
    },
    {
      "metadata": {
        "id": "yLWTT6NZ_ZYi",
        "colab_type": "text"
      },
      "cell_type": "markdown",
      "source": [
        "**Check tpu name**"
      ]
    },
    {
      "metadata": {
        "id": "pShRjorw_Lla",
        "colab_type": "code",
        "outputId": "1b043823-b3d3-45ac-d7a5-92e765122959",
        "colab": {
          "base_uri": "https://localhost:8080/",
          "height": 266
        }
      },
      "cell_type": "code",
      "source": [
        "import datetime\n",
        "import json\n",
        "import os\n",
        "import pprint\n",
        "import random\n",
        "import string\n",
        "import sys\n",
        "import tensorflow as tf\n",
        "\n",
        "assert 'COLAB_TPU_ADDR' in os.environ, 'ERROR: Not connected to a TPU runtime; please see the first cell in this notebook for instructions!'\n",
        "TPU_ADDRESS = 'grpc://' + os.environ['COLAB_TPU_ADDR']\n",
        "print('TPU address is', TPU_ADDRESS)\n",
        "\n",
        "from google.colab import auth\n",
        "auth.authenticate_user()\n",
        "\n",
        "with tf.Session(TPU_ADDRESS) as session:\n",
        "  print('TPU devices:')\n",
        "  pprint.pprint(session.list_devices())\n",
        "\n",
        "  # Upload credentials to TPU.\n",
        "  with open('/content/adc.json', 'r') as f:\n",
        "    auth_info = json.load(f)\n",
        "  tf.contrib.cloud.configure_gcs(session, credentials=auth_info)\n",
        "  # Now credentials are set for all future sessions on this TPU."
      ],
      "execution_count": 0,
      "outputs": [
        {
          "output_type": "stream",
          "text": [
            "TPU address is grpc://10.82.235.170:8470\n",
            "TPU devices:\n",
            "[_DeviceAttributes(/job:tpu_worker/replica:0/task:0/device:CPU:0, CPU, -1, 2825673073548931026),\n",
            " _DeviceAttributes(/job:tpu_worker/replica:0/task:0/device:XLA_CPU:0, XLA_CPU, 17179869184, 17976915322456269380),\n",
            " _DeviceAttributes(/job:tpu_worker/replica:0/task:0/device:XLA_GPU:0, XLA_GPU, 17179869184, 4269515718965160671),\n",
            " _DeviceAttributes(/job:tpu_worker/replica:0/task:0/device:TPU:0, TPU, 17179869184, 8821560468904150449),\n",
            " _DeviceAttributes(/job:tpu_worker/replica:0/task:0/device:TPU:1, TPU, 17179869184, 5858283167631120601),\n",
            " _DeviceAttributes(/job:tpu_worker/replica:0/task:0/device:TPU:2, TPU, 17179869184, 13571099732300641348),\n",
            " _DeviceAttributes(/job:tpu_worker/replica:0/task:0/device:TPU:3, TPU, 17179869184, 11419402217156298792),\n",
            " _DeviceAttributes(/job:tpu_worker/replica:0/task:0/device:TPU:4, TPU, 17179869184, 299248227772275275),\n",
            " _DeviceAttributes(/job:tpu_worker/replica:0/task:0/device:TPU:5, TPU, 17179869184, 14339440258431058682),\n",
            " _DeviceAttributes(/job:tpu_worker/replica:0/task:0/device:TPU:6, TPU, 17179869184, 10849806214315882621),\n",
            " _DeviceAttributes(/job:tpu_worker/replica:0/task:0/device:TPU:7, TPU, 17179869184, 2824857915999542450),\n",
            " _DeviceAttributes(/job:tpu_worker/replica:0/task:0/device:TPU_SYSTEM:0, TPU_SYSTEM, 17179869184, 14947977711452111097)]\n"
          ],
          "name": "stdout"
        }
      ]
    },
    {
      "metadata": {
        "id": "73tezxJ2IlmP",
        "colab_type": "text"
      },
      "cell_type": "markdown",
      "source": [
        "# Dataset setup\n",
        "\n",
        "Download dataframe from cloud storage"
      ]
    },
    {
      "metadata": {
        "id": "UMysaDVQh9fQ",
        "colab_type": "code",
        "colab": {}
      },
      "cell_type": "code",
      "source": [
        "!mkdir ./bert/data"
      ],
      "execution_count": 0,
      "outputs": []
    },
    {
      "metadata": {
        "id": "1RVPiq9BBr7X",
        "colab_type": "code",
        "outputId": "d0e63b1c-1428-4c48-8a12-50066329d321",
        "colab": {
          "base_uri": "https://localhost:8080/",
          "height": 177
        }
      },
      "cell_type": "code",
      "source": [
        "!gsutil cp gs://karino2-uspatent/citations_info_2000.df.gz ./bert/data/\n",
        "!gsutil cp gs://karino2-uspatent/testset_app_1000.df.gz ./bert/data/\n",
        "!gsutil cp gs://karino2-uspatent/training_app_1000.df.gz ./bert/data/\n",
        "!gsutil cp gs://karino2-uspatent/grants_for_2000.df.gz ./bert/data/"
      ],
      "execution_count": 0,
      "outputs": [
        {
          "output_type": "stream",
          "text": [
            "Copying gs://karino2-uspatent/testset_app_1000.df.gz...\n",
            "- [1 files][ 13.4 MiB/ 13.4 MiB]                                                \n",
            "Operation completed over 1 objects/13.4 MiB.                                     \n",
            "Copying gs://karino2-uspatent/training_app_1000.df.gz...\n",
            "- [1 files][ 14.2 MiB/ 14.2 MiB]                                                \n",
            "Operation completed over 1 objects/14.2 MiB.                                     \n",
            "Copying gs://karino2-uspatent/grants_for_2000.df.gz...\n",
            "- [1 files][ 44.6 MiB/ 44.6 MiB]                                                \n",
            "Operation completed over 1 objects/44.6 MiB.                                     \n"
          ],
          "name": "stdout"
        }
      ]
    },
    {
      "metadata": {
        "id": "E4akXsaPIhxI",
        "colab_type": "code",
        "outputId": "b4654229-a4a1-48f9-d7f4-e01837779cdb",
        "colab": {
          "base_uri": "https://localhost:8080/",
          "height": 215
        }
      },
      "cell_type": "code",
      "source": [
        "# leave for memo for a while (delete this cell later)\n",
        "!head ./bert/data/1000/train.tsv"
      ],
      "execution_count": 0,
      "outputs": [
        {
          "output_type": "stream",
          "text": [
            "index\tclaim_app\tclaim_cited_grant\tlabel\n",
            "0\t1 . A process comprising the following steps:(a) centrifuging a microorganism-containing suspension to provide a first microorganism-containing concentrate and a supernatant liquid; (b) filtering said first microorganism-containing concentrate, to provide a permeate and a second microorganism-containing concentrate. 2 . The process of  claim 1 , whereby said process is a continuous flow process comprising:(a 1 ) centrifuging a microorganism-containing suspension to provide a first microorganism-containing concentrate and a supernatant liquid; (a 2 ) continuously withdrawing said first microorganism-containing concentrate during centrifugation; and (b) filtering said first microorganism-containing concentrate to provide a permeate and a second microorganism-containing concentrate. 3 . The process according to  claim 1 , further comprising step (c) consisting of recovering said second microorganism-containing concentrate. 4 . The process according to  claim 1 , wherein said centrifuging step is carried out at a centrifugation force from about 400 to about 65000&#xd7;g, preferably from about 4000 to about 20000&#xd7;g. 5 . The process according to  claim 1 , wherein said filtering step comprises microfiltration, preferably using a filtration membrane having a pore size of about 0.1 to about 10 &#x3bc;m. 6 . The process according to  claim 1 , wherein said filtering step comprises ultrafiltration, preferably using a filtration membrane having a molecular weight cut-off of about 5 to about 200 kDa. 7 . The process according to  claim 1 , wherein said filtering step comprises tangential filtration. 8 . The process according to  claim 1 , wherein said centrifuging step is directly followed by the filtering step. 9 . The process according to  claim 1 , further comprising at least one additional filtering step, wherein said additional filtering step is performed on the second microorganism-containing concentrate obtained in step (b). 10 . The process according to  claim 1 , further comprising at least one washing step, said washing step preferably not being carried out between the centrifuging step (a) and the filtering step (b). 11 . The process according to  claim 10 , wherein said washing step is carried out during and/or after the filtering step (b). 12 . The process according to  claim 1 , further comprising the step of recovering the supernatant obtained in the centrifuging step and/or the permeate obtained in the filtering step. 13 . The process according to  claim 1 , wherein said microorganism-containing suspension is a bacteria-containing suspension. 14 . The process according to  claim 13 , wherein said bacteria-containing suspension comprises a bacteria selected from the group consisting of  Acetobacter, Bifidobacterium, Carnobacterium, Enterococcus, Lactococcus, Lactobacillus, Leuconostoc, Pediococcus, Oenococcus, Propionibacterium , and  Streptococcus.   15 . The process according to  claim 13 , wherein said bacteria-containing suspension comprises at least one lactic acid bacteria genus. 16 . The process according to  claim 15 , wherein said lactic acid bacteria genus is selected from the group consisting of  Lactococcus, Lactobacillus, Leuconostoc, Carnobacterium, Pediococcus , and  Streptococcus.   17 . The process according to  claim 16 , wherein said lactic acid bacteria is selected from the group consisting of  Leuconostoc  spp.,  Bifidobacterium  ssp,  Lactococcus lactis, Lactococcus cremoris, Lactobacillus acidophilus, Lactobacillus casei, Lactobacillus kefir, Lactobacillus bifidus, Lactobacillus brevis, Lactobacillus helveticus, Lactobacillus paracasei, Lactobacillus rhamnosus, Lactobacillus salivarius, Lactobacillus curvatus, Lactobacillus bulgaricus, Lactobacillus sake, Lactobacillus reuteri, Lactobacillus lactis, Lactobacillus delbreuckii, Lactobacillus plantarum , and  Streptococcus thermophilus.   18 . The process according to  claim 1 , wherein said process is a process for concentrating a microorganism-containing suspension. 19 . (canceled) 20 . (canceled) \t1. A liquid supply apparatus, comprising:a wall that substantially defines a reservoir; an expandable chamber formed between the wall and a movable piston, wherein the chamber is selectively communicated with the reservoir through an aperture in the wall; and a portal configured to enable fluidic communication of the chamber with a vessel, wherein fluidic communication between the reservoir and the vessel is established through the aperture and the chamber after the piston is moved a predetermined amount, and wherein the aperture is blocked by the piston until the chamber expands beyond a given volume and the piston is moved the predetermined amount. 2. The liquid supply apparatus of  claim 1 , wherein:the piston is movable relative to the wall; and the chamber is substantially defined by the piston and the wall. 3. The liquid supply apparatus of  claim 1 , wherein the chamber is substantially in the form of a cylinder having slidably disposed therein the piston. 4. The liquid supply apparatus of  claim 3 , wherein the wall substantially defines at least a portion of the cylinder. 5. The liquid supply apparatus of  claim 1 , and further comprising a substantially elongated probe having an end, wherein:the probe defines therein a duct; the probe defines an orifice proximate the end; the orifice is fluidically communicable with the duct; and the probe is configured to be sealingly inserted through the portal and into the chamber and to impinge upon, and thereby move, the piston to expand the chamber. 6. The liquid supply apparatus of  claim 5 , wherein the portal comprises a seal configured to sealingly engage the probe. 7. The liquid supply apparatus of  claim 5 , wherein the piston comprises a feature configured to engage the probe. 8. The liquid supply apparatus of  claim 5 , wherein the chamber is configured to limit fluid communication of the orifice to only the chamber until the chamber expands beyond the given volume. 9. The liquid supply apparatus of  claim 5 , wherein the chamber is configured to establish fluidic communication between the reservoir and the orifice only after expansion of the chamber beyond the given volume. 10. The liquid supply apparatus of  claim 5 , further comprising the vessel, wherein:the vessel has a volume; the probe is fluidically communicable with the vessel; and the vessel further comprises a compensator configured to contract the vessel volume in response to expansion of the chamber. 11. A method of establishing fluidic communication between a liquid supply and a vessel, the method comprising:drawing a given volume of fluid from the vessel into a chamber selectively communicated with the liquid supply through an aperture, including expanding the chamber to draw therein the given volume of fluid from the vessel, and blocking the aperture until the given volume of fluid is drawn from the vessel; establishing fluidic communication between the liquid supply and the vessel through the aperture and the chamber after drawing the given volume of fluid from the vessel; and contracting at least a portion of the vessel in response to drawing the given volume of fluid. 12. The method of  claim 11 , further comprising impinging at least a portion of the vessel against at least a portion of the chamber to expand the chamber. 13. The method of  claim 11 , further comprising inserting at least a portion of the vessel inside the chamber. 14. The method of  claim 11 , wherein establishing fluidic communication between the liquid supply and the vessel includes blocking the aperture until the given volume of fluid is drawn from the vessel. 15. A method of establishing fluidic communication between a liquid supply and a vessel, the method comprising:drawing a given volume of fluid from the vessel into a chamber selectively communicated with the liquid supply through an aperture, including expanding the chamber to draw therein the given volume of fluid from the vessel, and blocking the aperture until the given volume of fluid is drawn from the vessel; establishing fluidic communication between the liquid supply and the vessel through the aperture and the chamber after drawing the given volume of fluid from the vessel; inserting at least a portion of the vessel inside the chamber; and after inserting the portion of the vessel, impinging the portion of the vessel against at least a portion of the chamber to expand the chamber. 16. The method of  claim 15 , wherein drawing a given volume of fluid from the vessel includes opening a check valve of the vessel and drawing fluid from a standpipe of the vessel through the check valve. 17. The method of  claim 15 , wherein establishing fluidic communication between the liquid supply and the vessel includes allowing gas to flow from the chamber and the vessel into the reservoir, and allowing liquid to flow from the reservoir into the chamber and the vessel. 18. The method of  claim 15 , wherein inserting at least a portion of the vessel inside the chamber includes inserting a probe of the vessel into the chamber, and wherein impinging the portion of the vessel against at least a portion of the chamber includes contacting a piston within the chamber with the probe.  \tnot_entailment\n",
            "1\t1 - 10 . (canceled) 11 . A method for open-loop and closed-loop control of an internal combustion engine, comprising the steps of: controlling rail pressure by closed-loop control during normal operation; and, if a defective rail pressure sensor is detected, changing from normal operating mode to emergency operating mode, in which the rail pressure is controlled by open-loop control, wherein in the emergency operating mode, the rail pressure is successively increased until a passive pressure control valve responds, which in an open state redirects fuel from the rail into a fuel tank. 12 . The method in accordance with  claim 11 , including, in the emergency operating mode, increasing the rail pressure because a suction throttle on a low-pressure side, which serves as a pressure regulator, is acted upon in an opening direction. 13 . The method in accordance with  claim 12 , including setting a set current, which serves as a triggering signal of the suction throttle, to a set emergency operation current 14 . The method in accordance with  claim 12 , including setting a PWM signal, which serves as a triggering signal of the suction throttle, to a PWM emergency operating value. 15 . The method in accordance with  claim 11 , including determining the set current, which serves as a triggering signal of the suction throttle, by a pump characteristic curve in normal operating mode and by a limit curve in the emergency operating mode. 16 . The method in accordance with  claim 15 , including, in emergency operating mode, determining the set current by the limit curve at least as a function of a set consumption of fuel. 17 . The method in accordance with  claim 15 , including, in emergency operating mode, determining the set current is determined by the limit curve as a function of a leakage volume flow, which is computed by a leakage input-output map as a function of the injection quantity and engine speed. 18 . The method in accordance with  claim 11 , including, in emergency operating mode, increasing the rail pressure by setting a high-pressure pump to maximum output. 19 . The method in accordance with  claim 11 , including, in emergency operating mode, determining energization time of an injector as a function of the set injection quantity and a mean rail pressure. 20 . The method in accordance with  claim 19 , including preassigning the mean rail pressure as a constant value. \t1. A fuel supply apparatus for an engine, comprising:a fuel injection valve capable of injecting fuel to the engine; a fuel tank capable of storing the fuel for the engine; a fuel pump capable of supplying the fuel in the fuel tank to the fuel injection valve via a fuel pipe; a mechanical relief valve capable of returning the fuel in the fuel pipe into the fuel tank when a pressure in the fuel pipe exceeds a threshold; a pressure sensor capable of detecting a pressure of the fuel in the fuel pipe; and a control unit configured to input thereto a signal detected from the pressure sensor to output therefrom a manipulated variable for the fuel pump, wherein the control unit is configured to determines whether the pressure sensor is in a normal operation state or in an abnormal operation state; wherein when the pressure sensor is determined to be in the normal operation state, the control unit calculates the manipulated variable so that the fuel pressure detected by the pressure sensor approaches a target pressure; and wherein when the pressure sensor is determined to be in the abnormal operation state, the control unit is configured to fixedly maintain the manipulated variable at a manipulated variable at which a discharge amount of the fuel pump reaches a maximum amount, to thereby hold the fuel pressure in the fuel pipe in the vicinity of a valve-opening pressure of the relief valve. 2. The apparatus according to  claim 1 , wherein the control unit:is configured to fixedly maintain the manipulated variable at the manipulated variable at which a discharge amount of the fuel pump reaches the maximum amount, to thereby hold the fuel pressure in the fuel pipe in the vicinity of the valve-opening pressure of the relief valve, when the pressure sensor is in the abnormal operation state and also a required fuel amount of the engine exceeds a threshold; and is configured to fixedly maintain the manipulated variable at a reference manipulated variable which is set beforehand and is lower than the manipulated variable at which the discharge amount of the fuel pump reaches the maximum amount, when the pressure sensor is in the abnormal operation state and also the required fuel amount of the engine is equal to or less than the threshold. 3. The apparatus according to  claim 2 , further comprising:a fuel temperature sensor configured to detect a temperature of the fuel in the fuel pipe, wherein the control unit adjusts the reference manipulated variable based on the fuel temperature detected by the fuel temperature sensor. 4. A fuel supply apparatus for an engine, comprising:a fuel injection valve capable of injecting fuel to the engine; a fuel tank capable of storing the fuel for the engine; a fuel pump capable of supplying the fuel in the fuel tank to the fuel injection valve via a fuel pipe; a relief valve capable of returning the fuel in the fuel pipe into the fuel tank when a pressure in the fuel pipe exceeds a threshold; a pressure sensor capable of detecting a pressure of the fuel in the fuel pipe; and a control unit configured to input thereto a signal detected from the pressure sensor to output therefrom a manipulated variable for the fuel pump, wherein the control unit is configured to determine whether the pressure sensor is in a normal operation state or in an abnormal operation state; wherein when the pressure is determined to be in the normal operation state, the control unit is configured to calculate the manipulated variable so that the fuel pressure detected by the pressure sensor approaches a target pressure; wherein when the pressure sensor is determined to be in the abnormal operation state the control unit is configured to fixedly maintain the manipulated variable at a reference manipulated variable corresponding to a reference fuel pressure; and wherein when the manipulated variable is fixedly maintained at the reference manipulated variable, an operation of the engine under a condition that a fuel supply amount to the engine is insufficient is restricted. 5. The apparatus according to  claim 4 , wherein the control unit outputs a signal for stopping the fuel injection by the fuel injection valve under a condition that the fuel supply amount is insufficient. 6. The apparatus according to  claim 4 , wherein the control unit outputs a signal therefrom that restricts the throttle opening in the engine to equal to or less than the predetermined opening under the condition that the fuel supply amount is insufficient. 7. The apparatus according to  claim 4 , wherein the control unit determines whether or not the fuel supply amount is insufficient, based on a required fuel injection amount by the fuel injection valve, an engine rotating speed and the manipulated variable for the fuel pump. 8. A fuel supply apparatus for an engine, comprising:fuel injecting means for injecting fuel to the engine; fuel reserving means for reserving the fuel for the engine; fuel supplying means for supplying the fuel in the fuel reserving means to the fuel injecting means via a fuel pipe; mechanical relieving means for returning the fuel in the fuel pipe into the fuel reserving means when a pressure in the fuel pipe exceeds a threshold; pressure detecting means for detecting a pressure of the fuel in the fuel pipe; and control means for inputting thereto a signal detected from the pressure detecting means to output a manipulated variable for the fuel supply means, wherein the control means is configured to determine whether the pressure detecting means is in a normal state or in an abnormal state; wherein when the pressure detecting means is in the normal state, the control means is configured to calculate the manipulated variable so that the fuel pressure detected by the pressure detecting means approaches a target pressure; and wherein when the pressure detecting means is in the abnormal state, the control means is configured to fixedly maintain the manipulated variable at a manipulated variable at which a discharge amount of the fuel pump reaches a maximum amount, to thereby hold a fuel pressure in the fuel pipe in the vicinity of a valve-opening pressure of the relief valve. 9. A control method of a fuel supply apparatus for an engine, which is provided with a fuel pump capable of supplying fuel in a fuel tank to a fuel injection valve via a fuel pipe; a mechanical relief valve capable of returning the fuel in the fuel pipe into the fuel tank when a pressure in the fuel pipe exceeds a threshold; and a pressure sensor capable of detecting a pressure of the fuel in the fuel pipe, comprising the steps of:determining whether the pressure sensor is in the normal operation state or in an abnormal operation state; calculating, when the pressure sensor is in the normal operation state, a manipulated variable so that the fuel pressure detected by the pressure sensor approaches a target pressure; and fixedly maintaining, when the pressure sensor is determined to be in the abnormal operation state, the manipulated variable at a manipulated variable at which a discharge amount of the fuel pump reaches a maximum amount so that the fuel pressure in the fuel pipe is held in the vicinity of a valve-opening pressure of the relief valve, thereby outputting the maintained manipulated variable to the fuel pump. 10. The method according to  claim 9 , wherein the step of fixedly maintaining the manipulated variable comprises the steps of:determining whether or not a required fuel amount of the engine exceeds a threshold; fixedly maintaining the manipulated variable at a manipulated variable at which a discharge amount of the fuel pump reaches the maximum amount, thereby holding the fuel pressure in the fuel pipe in the vicinity of the valve-opening pressure of the relief valve, when the required fuel amount of the engine exceeds the threshold; and fixedly maintaining the manipulated variable at a reference manipulated variable which is set beforehand and lower than the manipulated variable at which a discharge amount of the fuel pump reaches a maximum amount when the required fuel amount of the engine is equal to or less than the threshold. 11. The method according to  claim 10 , further comprising the steps of:detecting a temperature of the fuel in the fuel pipe; and adjusting the reference manipulated variable based on the fuel temperature. 12. A control method of a fuel supply apparatus for an engine, which is provided with a fuel pump capable of supplying fuel in a fuel tank to a fuel injection valve via fuel pipe; a relief valve capable of returning the fuel in the fuel pipe in to the fuel tank when a pressure in the fuel pipe exceeds a threshold; and a pressure sensor capable of detecting a pressure of the fuel in the fuel pipe, comprising the steps of:determining whether the pressure sensor is in a normal operation state or in an abnormal operation state; calculating, when the pressure sensor is in the normal operation state, a manipulated variable so that the fuel pressure detected by the pressure sensor approaches a target pressure; fixedly maintaining, when the pressure sensor is in the abnormal operation state, a manipulated variable at a reference manipulated variable that corresponds to a reference fuel pressure set before hand; outputting the maintained manipulated variable to the fuel pump; and restricting an operation of the engine under a condition that a fuel supply amount to the engine is insufficient, when the manipulated variable is fixedly maintained at the reference manipulated variable that corresponds to the reference fuel pressure. 13. The method according to  claim 12 , wherein the step of restricting the operation of the engine comprises the step of;outputting a signal stopping the fuel injection by the fuel injection valve under a condition that the fuel supply amount is insufficient. 14. The method according to  claim 12 , wherein the step of restricting the operation of the engine comprises the step of;outputting a signal restricting the throttle opening in the engine to equal to or less than the predetermined opening under a condition that the fuel supply amount is insufficient. 15. The method according to  claim 12 , wherein the step of restricting the operation of the engine comprises the steps of:detecting a required fuel injection amount in the fuel injection valve; detecting an engine rotating speed; detecting the manipulated variable for the fuel pump; and determining whether or not the fuel supply amount is insufficient based on the required fuel injection amount in the fuel injection valve, the engine rotating speed and the manipulated variable for the fuel pump. 16. A fuel supply apparatus for an engine, comprising:fuel injecting means for injecting fuel to the engine; fuel reserving means for reserving the fuel for the engine; fuel supplying means for supplying the fuel in the fuel reserving means to the fuel injecting means via a fuel pipe; relieving means for returning the fuel in the fuel pipe into the fuel reserving means when a pressure in the fuel pipe exceeds a threshold; pressure detecting means for detecting a pressure of the fuel in the fuel pipe; and control means for inputting thereto a signal detected from the pressure detecting means to output a manipulated variable for the fuel supply means, wherein the control means is configured to determine whether the pressure detecting means is in a normal state or in an abnormal state; wherein when the pressure detecting means is in the normal state, the control means is configured to calculate the manipulated variable so that the fuel pressure detected by the pressure detecting means approaches a target pressure; wherein when the pressure detecting means is in the abnormal state, the control means is configured to fixedly maintain the manipulated variable at a reference manipulated variable that corresponds to a reference fuel pressure; and wherein when the manipulated variable is fixedly maintained at the reference manipulated variable, an operation of the engine under a condition that a fuel supply amount to the engine is insufficient is restricted. \tentailment\n",
            "2\t1 . A handpiece for treating biological tissue, comprising:a source of electromagnetic radiation; a nonlinear waveguide adjacent the source, for receiving electromagnetic radiation from the source and delivering modulated electromagnetic radiation to the biological tissue; and a system for circulating a fluorescent substance through the nonlinear waveguide, the fluorescent substance capable of modulating at least one property of the electromagnetic radiation. 2 . The handpiece of  claim 1  wherein the source is selected from the group consisting of a flash lamp, a xenon flash lamp, a krypton flash lamp, a xenon-krypton flash lamp, an arc lamp, a diode, and an incoherent light source. 3 . The handpiece of  claim 1  further comprising a coating associated with the nonlinear waveguide for enhancing emission of the electromagnetic radiation. 4 . The handpiece of  claim 1  further comprising a pump within the system for circulating the fluorescent substance through the nonlinear waveguide. 5 . The handpiece of  claim 1  further comprising a system for cooling the fluorescent substance. 6 . The handpiece of  claim 1  further comprising a port adjacent the system, the port in fluid communication with the system and adapted for receiving the fluorescent substance. 7 . The handpiece of  claim 6  wherein the port is adapted for receiving the fluorescent substance from a reservoir cartridge, the reservoir cartridge detachably connectable with the port. 8 . The handpiece of  claim 1  further comprising a reflector adjacent a distal end of the nonlinear waveguide, the reflector for reflecting light to a proximal end of the nonlinear waveguide for delivery to the biological tissue. 9 . The handpiece of  claim 1  wherein modulated electromagnetic radiation delivered to the biological tissue is substantially fluorescent light. 10 . The handpiece of  claim 1  wherein the system extends the usable lifetime of the fluorescent substance by at least one of mitigating quenching of the fluorescent substance, mitigating bleaching of the fluorescent substance, mitigating heating of the fluorescent substance, and mitigating chemical reaction of the fluorescent substance. 11 . The handpiece of  claim 1  further comprising a connector adjacent a first portion of the handpiece, for connecting the handpiece to an umbilicus and for receiving energy from a conduit in the umbilicus, the energy for driving the source of electromagnetic radiation. 12 . The handpiece of  claim 11  wherein the connector is adapted to receive a fluorescent substance from the umbilicus and is in fluid communication with the system for circulating the fluorescent substance through the nonlinear waveguide. 13 . The handpiece of  claim 1  wherein the electromagnetic radiation delivered to the biological tissue is characterized by a pulse width between about 0.5 ms and about 100 s. 14 . The handpiece of  claim 1  wherein the electromagnetic radiation delivered to the biological tissue is absorbed preferentially by at least one of hemoglobin, melanin, porphyrin, exogenous pigment, and water, over adjacent skin tissue. 15 . The handpiece of  claim 1  wherein a spectrum characterizing the electromagnetic radiation delivered to the biological tissue is matched to an absorption spectrum of at least one of whole blood, hemoglobin, reduced hemoglobin, and oxidized hemoglobin. 16 . The handpiece of  claim 1  wherein the electromagnetic radiation delivered to the biological tissue is characterized by a spot size of about 2 mm or greater. 17 . The handpiece of  claim 1  wherein modulating at least one property of the electromagnetic radiation can include varying at least one of a wavelength, fluence, pulse or pulse train width, and pulse or pulse train shape associated with the electromagnetic radiation. 18 . The handpiece of  claim 1  wherein the electromagnetic radiation delivered to the biological tissue is characterized by an energy density between about 0.1 J/cm 2  and about 500 J/cm 2 . 19 . The handpiece of  claim 1  further comprising a skin contacting portion adjacent the waveguide for contacting the biological tissue and delivering the electromagnetic radiation to the biological tissue. 20 . The handpiece of  claim 1  further comprising a controller for tuning a pulse width characterizing the electromagnetic radiation delivered to the biological tissue. 21 . An apparatus for treating biological tissue, comprising:a base unit; an energy source associated with the base unit; an umbilicus having a first end associated with the base unit and a conduit for transmitting energy from the energy source to a second end of the umbilicus; and a handpiece associated with the second end of the umbilicus, the handpiece comprising:a source of electromagnetic radiation, the source adapted for receiving energy from the energy source through the conduit; a nonlinear waveguide adjacent the source, for receiving electromagnetic radiation from the source and delivering modulated electromagnetic radiation to the biological tissue; and a system for circulating a fluorescent substance through the nonlinear waveguide, the fluorescent substance capable of modulating at least one property of the electromagnetic radiation. 22 . The apparatus of  claim 21  further comprising:a port associated with the handpiece; and a cartridge containing the fluorescent substance detachably connectable to the port, the cartridge providing the fluorescent substance to the system. 23 . The apparatus of  claim 21  further comprising a reservoir for the fluorescent substance, the reservoir associated with the base unit and in fluid communication with the system, through the umbilicus, for providing the fluorescent substance to the system. 24 . The apparatus of  claim 21  wherein the handpiece is detachable from the umbilicus. 25 . The apparatus of  claim 21  wherein the base unit is detachable from the umbilicus. 26 . A method of treating biological tissue, comprising:providing electromagnetic radiation to a nonlinear waveguide associated with a handpiece; circulating a fluorescent substance through the nonlinear waveguide to modulate at least one property of the electromagnetic radiation; and delivering the modulated electromagnetic radiation to treat the biological tissue. 27 . The method of  claim 26  further comprising treating skin having at least one of a superficial vascular lesion, port wine stain, telangiectasia, small vessel diameter lesion, arterial lesion, capillary lesion, venous lesion, pigmented lesion, tattoo, acne, psoriasis, and vertiligo. 28 . The method of  claim 26  further comprising delivering the electromagnetic radiation to the biological tissue in a train of pulses to gradually heat a region of the biological tissue to be treated. 29 . The method of  claim 26  further comprising delivering the electromagnetic radiation to the biological tissue in a train of pulses to first heat a region of the biological tissue to be treated to a predetermined temperature and second to maintain the region of the biological tissue to be treated at about the predetermined temperature. 30 . The method of  claim 26  wherein modulating at least one property of the electromagnetic radiation can include varying at least one of a wavelength, fluence, pulse or pulse train width, and pulse or pulse train shape associated with the electromagnetic radiation.  \t1. A method for irradiating tissue having absorption characteristics, comprising:directing pump radiation within a narrow spectral hand from a laser onto a fluorescent element; responsively generating radiation by spontaneous emission at the fluorescent element, the spontaneously emitted radiation being diffuse and having peak emission outside said narrow spectral band of the radiation, and at least a portion of which emitted radiation matches said absorption characteristics; and delivering at least a portion of the diffuse emitted radiation to a tissue target for treatment of said tissue, said portion having sufficient fluence for therapeutic effect. 2. The method of  claim 1 , wherein the step of directing incident radiation onto the fluorescent element includes directing incident radiation through an optical fiber. 3. The method of  claim 1 , wherein the step of delivering includes receiving a portion of the emitted radiation at a redirector; andredirecting the received portion of the diffuse emitted radiation by reflecting the emitted radiation from a diffuse reflector toward the tissue target. 4. The method of  claim 1 , wherein the step of delivering includes receiving a portion of the emitted radiation at a redirector; andredirecting the received portion of the diffuse emitted radiation by reflecting the emitted radiation from a reflective coating, the reflective coating being substantially transparent with respect to the pump radiation. 5. The method of  claim 1 , wherein the tissue target comprises a vascular lesion. 6. The method of  claim 1 , wherein the tissue target comprises a tumor. 7. The method of  claim 1 , wherein the tissue target comprises hair. 8. The method of  claim 1 , wherein the tissue target comprises a pigmented lesion. 9. The method of  claim 1 , further comprising the steps of cooling the tissue target. 10. The method of  claim 9 , wherein the step of cooling the tissue target comprises:providing a substantially transparent and thermally conductive window; placing a face of the window in thermal contact with the tissue target; and cooling the window. 11. A method for irradiating tissue having absorption characteristics, comprising:directing pump radiation onto a fluorescent element; responsively generating radiation by spontaneous emission at the fluorescent element, the spontaneously emitted radiation being diffuse and having spectral characteristics substantially different from the incident radiation, and at least a portion which emitted radiation matches said absorption characteristics; receiving a portion of the diffuse, spontaneously emitted radiation at a redirector; and redirecting the received portion of the emitted radiation toward a tissue target for treatment of said tissue, wherein the step of redirecting the emitted radiation includes reflecting the emitted radiation from the boundary between a waveguide core and cladding material, the cladding material having a substantially lower index of refraction than the waveguide core, said portion having sufficient fluence for therapeutic effect. 12. A device for irradiating tissue having absorption characteristics, comprising:a fluorescent element positioned to receive pump radiation from a laser having a narrow spectral band and responsively generate radiation by spontaneous emission, the spontaneously emitted radiation being diffuse and having peak emission outside said narrow spectral band, and at least a portion of which emitted radiation matches said absorption characteristics; and the fluorescent element delivering at least a portion of the diffuse emitted radiation toward a tissue target for treatment of said tissue, said portion having sufficient fluence for therapeutic effect. 13. The device of  claim 12 , wherein the fluorescent element comprises a fluorochromes dispersed in a solid medium. 14. The device of  claim 13 , wherein the fluorescent substance includes fluorescent ions, and the solid medium is selected from a group consisting of a solid-state crystal and a glass. 15. The device of  claim 13 , wherein the fluorescent substance includes a fluorescent dye, and the solid medium is selected from a group consisting of a polymer and a glass. 16. The device of  claim 15 , wherein the solid medium comprises a polymer selected from a group consisting of polymethyl methacrylate (PMMA) and polyvinyl toluene (PVT). 17. The device of  claim 12 , including a diffuse reflector for redirecting at least a portion of the diffuse emitted radiation toward the tissue target. 18. The device of  claim 12 , wherein the pump radiation is generated by a frequency-doubled solid-state laser. 19. The device of  claim 12 , wherein the pump radiation is delivered to the fluorescent element through an optical fiber. 20. The device of  claim 12 , wherein the pump radiation is delivered to the fluorescent element through an articulated arm. 21. The device of  claim 12 , including a reflective coating configured to reflect the emitted radiation toward the tissue target, the reflective coating being substantially transparent with respect to the pump radiation. 22. A device for irradiating tissue, comprising:a fluorescent element positioned to receive pump radiation having a narrow spectral band and responsively generate radiation by spontaneous emission, the spontaneously emitted radiation being diffuse and having peak emission outside said narrow spectral band; and the fluorescent element delivering at least a portion of the diffuse emitted radiation toward a tissue target, wherein the fluorescent element comprises a liquid fluorescent dye solution. 23. The device of  claim 22 , wherein the dye solution is static. 24. The device of  claim 22 , wherein the dye solution is continuously pumped through the fluorescent element. 25. A device for irradiating tissue, comprising:a fluorescent element positioned to receive pump radiation having a narrow spectral band and responsively generate radiation by spontaneous emission, the spontaneously emitted radiation being diffuse and having peak emission outside said narrow spectral band, the fluorescent element delivering at least a portion of the diffuse emitted radiation toward a tissue target; and a diffuse reflector for redirecting at least a portion of the diffuse emitted radiation toward the tissue target, wherein the diffuse reflector has a frustro-conical shape. 26. A device for irradiating tissue, comprising:a fluorescent element positioned to receive pump radiation having a narrow spectral band and responsively generate radiation by spontaneous emission, the spontaneously emitted radiation being diffuse and having peak emission outside said narrow spectral band, the fluorescent element delivering, at least a portion of the diffuse emitted radiation toward a tissue target; and a substantially transparent window having a proximal face positioned adjacent to the fluorescent element and a distal face for contacting the target. 27. The device of  claim 26 , further comprising means for cooling the window. 28. A device for irradiating tissue, comprising:a fluorescent element positioned to receive pump radiation and responsively generate radiation by spontaneous emission, the spontaneously emitted radiation being diffuse and having substantially different spectral characteristics with respect to the incident radiation; and a redirector for redirecting at least a portion of the diffuse, spontaneously emitted radiation toward a tissue target, wherein the redirector comprises a waveguide including a reflective entrance face and reflective walls, the entrance face having a substantially transmissive aperture formed therein for admitting pump radiation into the waveguide. 29. The device of  claim 28 , wherein the reflective walls comprise a boundary between a waveguide core having a relatively high index of refraction and a cladding material having a relatively low index of refraction, the boundary causing total internal reflection of a portion of the emitted radiation. 30. The device of  claim 28 , wherein the reflective walls comprise a reflective coating. 31. The device of  claim 28 , wherein the reflective walls comprise a metallic coating. 32. The device of  claim 28 , wherein the reflective walls comprises a dielectric coating. 33. A system for irradiating tissue having absorption characteristics, comprising:a pump radiation source for generating pump radiation from a laser having a narrow spectral band; a fluorescent element positioned to receive the pump radiation and responsively generate radiation by spontaneous emission, the spontaneously emitted radiation being diffuse and having peak emission outside said narrow spectral band, and at least a portion of which emitted radiation matches said absorption characteristics; and a redirector for redirecting at least a portion of the diffuse emitted radiation toward a tissue target for treatment of said tissue, said portion having sufficient fluence for therapeutic effect. \tentailment\n",
            "3\t1 . A power cable comprising:a power input comprising a first input terminal, a second input terminal, and a first ground terminal; a power output comprising a first output terminal, a second output terminal, and a second ground terminal, which are connected to the first input terminal, the second input terminal, and the first ground terminal, respectively; a first switch configured to disconnect the first input terminal from the first output terminal, and a second switch configured to disconnect the first ground terminal from the second ground terminal. 2 . The power cable of  claim 1 , wherein the first switch is included in the power input. 3 . The power cable of  claim 1 , wherein the second switch is included in the power output. 4 . The power cable of  claim 1 , wherein at least one of the first switch and the second switch comprise a slide switch configured to interrupt the connection. 5 . The power cable of  claim 1 , wherein the first input terminal is applied with a varying electric potential. 6 . The power cable of  claim 1 , further comprising:a connector comprising a first connection line connecting the first input terminal and the first output terminal, a second connection line connecting the second input terminal and the second output terminal, and a ground line connecting the first ground terminal and the second ground terminal. 7 . The power cable of  claim 6 , wherein the first switch is configured to disconnect the first input terminal from the first output terminal by interrupting the first connection line. 8 . The power cable of  claim 6 , wherein the second switch is configured to disconnect the first ground terminal from the second ground terminal by interrupting the ground line. 9 . An imaging apparatus comprising:a power cable comprising:a power input comprising a first input terminal, a second input terminal, and a first ground terminal; a power output comprising a first output terminal, a second output terminal, and a second ground terminal, which are connected to the first input terminal, the second input terminal, and the first ground terminal, respectively; a first switch configured to disconnect the first input terminal from the first output terminal, and a second switch configured to disconnect the first ground terminal from the second ground terminal; and a main unit connected to the power output of the power cable and configured to be supplied with power through the power cable. 10 . The imaging apparatus of  claim 9 , wherein the first switch is included in the power input of the power cable. 11 . The imaging apparatus of  claim 9 , wherein the second switch is included in the power output of the power cable. 12 . The imaging apparatus of  claim 9 , wherein at least one of the first switch and the second switch comprises a slide switch configured to interrupt the connection. 13 . The imaging apparatus of  claim 9 , wherein the first input terminal is applied with a varying electric potential. 14 . The imaging apparatus of  claim 9 , wherein the power cable further comprises a connector comprising a first connection line connecting the first input terminal and the first output terminal, a second connection line connecting the second input terminal and the second output terminal, and a ground line connecting the first ground terminal and the second ground terminal. 15 . The imaging apparatus of  claim 14 , wherein the first switch is configured to disconnect the first input terminal from the first output terminal by interrupting the first connection line. 16 . The imaging apparatus of  claim 14 , wherein the second switch is configured to disconnect the first ground terminal from the second ground terminal by interrupting the ground line. 17 . An electronic device comprising:a power cable comprising:a power input comprising a first input terminal, a second input terminal, and a first ground terminal; a power output comprising a first output terminal, a second output terminal, and a second ground terminal connected to the first input terminal, the second input terminal, and the first ground terminal, respectively; a first switch configured to disconnect the first input terminal from the first output terminal, and a second switch configured to disconnect the first ground terminal from the second ground terminal; and a main unit connected to the power output of the power cable and configured to be supplied with power through the power cable. 18 . The electronic device of  claim 17 , wherein the first switch is included in the power input of the power cable. 19 . The electronic device of  claim 17 , wherein the second switch is included in the power output of the power cable. 20 . The electronic device of  claim 17 , wherein at least one of the first switch and the second switch comprises a slide switch configured to interrupt the connection. 21 . The electronic device of  claim 17 , wherein the first input terminal is applied with a varying electric potential. 22 . The electronic device of  claim 17 , wherein the power cable further comprises a connector comprising a first connection line connecting the first input terminal and the first output terminal, a second connection line connecting the second input terminal and the second output terminal, and a ground line connecting the first ground terminal and the second ground terminal. 23 . The electronic device of  claim 22 , wherein the first switch is configured to disconnect the first input terminal from the first output terminal by interrupting the first connection line. 24 . The electronic device of  claim 22 , wherein the second switch is configured to disconnect the first ground terminal from the second ground terminal by interrupting the ground line. 25 . A large format display (LFD) comprising:a plurality of displays that are combined to display a single image, each display comprising a respective power cable comprising:a three-prong power input configured to connect to the respective display to an electrical outlet; a three-prong power output corresponding to the three-prong power input, the three prong power out being configured to connect to the respective display; a first terminal, a second terminal, and a ground terminal, which respectively connect corresponding prongs of the three-prong power input and the three prong power output, a first switch included in the first terminal and being configured to interrupt power of the first terminal, while the respective power cable is plugged into the electrical outlet. \t1. A temperature regulating system for a vehicle, said temperature regulating system comprising:an hydraulic arrangement ( 6 ) configured to provide components intended for rotation located in a gearbox ( 5 ) of a vehicle and in at least one axle of the vehicle with hydraulic oil from the same container ( 7 ); and  at least one space for housing at least one of the components being adapted for a dry sump.  2. The temperature regulating system as recited in  claim 1 , wherein the hydraulic arrangement ( 6 ) further comprises means for spraying the hydraulic oil over the components and means for removing the oil from the space. 3. The temperature regulating system as recited in  claim 2 , wherein the oil removal means is adapted to remove the oil continuously from the space during operation of the vehicle so that substantially no amount of oil is left present in an inactive state in the space. 4. The temperature regulating system as recited in  claim 1 , wherein the hydraulic arrangement ( 6 ) comprises a first pump ( 8 ) for pumping oil from the container ( 7 ) to the gearbox ( 5 ) and to the vehicle axle. 5. The temperature regulating system as recited in  claim 4 , wherein each second pump ( 17 ,  18 ,  20 ) has a pump capacity of at least the same as the first pump ( 8 ) for supplying oil connected to the gearbox and to the axle. 6. The temperature regulating system as recited in  claim 1 , wherein the hydraulic arrangement ( 6 ) further comprises at least two second pumps ( 17 ,  18 ,  20 ) including one ( 20 ) configured for suction of oil from the gearbox ( 5 ) and another (17, 18) for suction of oil from the vehicle axle. 7. The temperature regulating system as recited in  claim 1 , wherein the container ( 7 ) is located apart from the space in which the rotating components forming part of the axle are arranged. 8. The temperature regulating system as recited in  claim 1 , wherein the container ( 7 ) is located apart from the space in which the rotating components forming part of the gearbox ( 5 ) are arranged. 9. The temperature regulating system as recited in  claim 1 , wherein the components intended for rotation located in the axles of the vehicle comprise on the one hand disks in a wet brake ( 35 ,  36 ) and on the other hand gear wheels in a gear ( 14 ,  15 ). 10. The temperature regulating system as recited in  claim 1 , further comprising:an arrangement ( 22 ) for regulating the temperature of the oil in the hydraulic arrangement ( 6 ) via a heat exchanger unit ( 21 ).  11. The temperature regulating system as recited in  claim 10 , further comprising:a sensor ( 28 ) for sensing the temperature of the oil and a control unit ( 29 ) connected to the sensor;  the temperature regulating arrangement being further adapted to cool or heat the oil depending sensed oil temperature.  12. The temperature regulating system as recited in  claim 10 , wherein the temperature regulating arrangement ( 22 ) is further adapted to cool the engine ( 4 ) of the vehicle. 13. The temperature regulating system as recited in  claim 12 , further comprising:a sensor ( 31 ) connected to the control unit ( 29 ) for sensing the temperature of the coolant of the engine. \tnot_entailment\n",
            "4\t1 . A cutting insert having a substantially cuboid basic body, which has two top surfaces on sides opposite each other and four circumferential surfaces which extend in each case from an edge portion of the one top surface to an edge portion of the other top surface,wherein a cutting edge is formed at at least one transition from each circumferential surface to one of the top surfaces. 2 . The cutting insert as claimed in  claim 1 , wherein the basic body has a cuboid base. 3 . The cutting insert as claimed in  claim 1 , wherein a cutting edge is formed at each transition from a circumferential surface to a top surface such that the cutting insert has a total of eight cutting edges. 4 . The cutting insert as claimed in  claim 1 , wherein the two top surfaces have in each case four edge portions of the same length, and wherein angles between two adjacent edge portions are the same in each case. 5 . The cutting insert as claimed in  claim 1 , wherein the top surfaces descend toward the associated cutting edges such that the cutting edges are curved. 6 . The cutting insert as claimed in  claim 5 , wherein the cutting edges have a radius within the range of between approximately 90 mm and approximately 500 mm. 7 . The cutting insert as claimed in  claim 5 , wherein a passage opening extends from the one top surface to the other top surface, and the top surfaces have a conical surface portion, and wherein the center axis of the cone coincides with the center axis A of the passage opening and the conical surface portion is not interrupted in the circumferential direction with reference to the center axis of the cone. 8 . The cutting insert as claimed in  claim 7 , wherein the conical surface portion is inclined at a maximum angle of approximately 5&#xb0; in relation to a plane which is at right angles to the center axis A of the passage opening. 9 . The cutting insert as claimed in  claim 8 , wherein the maximum angle is 3&#xb0;. 10 . The cutting insert as claimed in  claim 5 , wherein the top surfaces have a planar supporting portion which surrounds the passage opening. 11 . The cutting insert as claimed in  claim 1 , wherein the cutting edges are set back in relation to the associated circumferential surface, by approximately 0.1 mm. 12 . The cutting insert as claimed in  claim 1 , wherein a bevel surface, which is aligned at an angle of 45&#xb0; with respect to the circumferential surfaces, is provided between two adjacent cutting edges. \t1. A toolholder comprising:a) a cutter body rotatable about a central axis; b) a peripheral wall on the cutter body; c) insert pockets located in the peripheral wall, wherein each pocket is spaced from an adjacent pocket by a lug and wherein each pocket has support surfaces including a bottom surface adapted for positioning a rectangular insert within a predefined rectangular envelope within the pocket; d) wherein each rectangular envelope has a front and back and four sides therebetween, including a top side, a bottom side and a radially inward side; e) wherein each lug has:1) a radial width; 2) a front face extending upwardly from the pocket bottom to the top of the lug; 3) an axial face extending downwardly from the top of the lug to a height below the top of the lug; and 4) a rear face extending from the axial face downwardly to the bottom surface of an adjacent pocket, f) wherein the support surfaces of the pocket are defined by the lug front face, the bottom surface, and a pocket wall positioned radially inwardly from the peripheral wall and connecting adjacent lugs; g) wherein the lug axial face is sloped downwardly across the entire lug width from the top of the lug to the lug rear face, thereby providing a chip clearance groove across the entire width of the lug; and h) wherein the lug front face extends over the back of the insert envelope. 2. The toolholder according to  claim 1 , wherein at least a portion of the bottom surface of the pocket forms a first angle with the front face of the lug to define a first retention ledge and, wherein the first angle is acute and wherein the bottom surface has a length between adjacent lugs and the first retention ledge extends along at least one-fourth of the length at a location spaced from the lug front face. 3. The toolholder according to  claim 2 , wherein the first angle is between 45-85 degrees. 4. The toolholder according to  claim 2 , wherein at least a portion of the pocket wall forms a second angle with the front face of the lug to define a second retention ledge and wherein the second angle is acute. 5. The toolholder according to  claim 4 , wherein the pocket wall has a length between adjacent lugs and the second retention ledge extends along at least one-fourth of the length at a location spaced from the lug front face. 6. The toolholder according to  claim 5 , wherein the second angle is between 45-85 degrees. 7. The toolholder according to  claim 4 , wherein the first angle and the second angle are equal. 8. The toolholder according to  claim 1 , wherein the lug rear face extends from the bottom surface to a distance only as high as the lower half of the insert envelope. 9. The toolholder according to  claim 1 , wherein the lug axial face has a planar portion perpendicular to the lug front face to enlarge the chip clearance groove. 10. The toolholder according to  claim 1 , wherein each lug front face has a bore therethrough to accept a mounting screw that extends through a cutting insert and secures the insert within the pocket and wherein each pocket is angled about the central axis toward an adjacent lug to permit multiple inserts to be mounted in the cutter and to provide access for inserting and removing the mounting screw. 11. The toolholder according to  claim 10 , wherein each lug has an access groove within the lug front face and the lug axial face to permit greater access to a mounting screw secured within the lug front face. 12. The toolholder according to  claim 1 , wherein the lug rear face extends upwardly from the bottom surface to protect the bottom edge of a cutting insert that is able to be mounted within the pocket. 13. The toolholder according to  claim 1 , wherein the pocket wall extends only partially to the top of the lug to provide clearance for cam lobe milling operations when inserts are mounted within the cutter pockets. 14. The toolholder according to  claim 1  wherein the pocket wall is defined by an annular ring with an outer surface conforming to the contour of each pocket wall, wherein when the annular ring is secured to the cutter body, a pocket wall is positioned at each pocket and wherein the annular ring is removable. 15. The toolholder according to  claim 13 , wherein the pocket wall extends no more than a distance of at least fifty- percent of the length of an insert that would be mounted within the pocket. 16. The toolholder according to  claim 1 , wherein the bottom surface is oriented to position a rectangular insert such that one corner of the insert would protrude beyond the cutter body. 17. The toolholder according to  claim 1 , wherein the axial rake angle is between &#x2212;20&#xb0; and 20&#xb0;. 18. The toolholder according to  claim 17 , wherein the axial rake angle is between &#x2212;5&#xb0; and 5&#xb0;. 19. The toolholder according to  claim 1 , wherein the bevel angle is between 0&#xb0; and 90&#xb0;. 20. The toolholder according to  claim 19  wherein the bevel angle is between 40&#xb0; and 90&#xb0;. 21. The toolholder according to  claim 1 , wherein the radial rake angle is between &#x2212;10&#xb0; and 20&#xb0;. 22. The toolholder according to  claim 21 , wherein the radial rake angle is between &#x2212;5&#xb0; and 5&#xb0;. 23. The toolholder according to  claim 1 , wherein the rectangular envelope is suited to accommodate a square insert. 24. A toolholder comprising:a) a cylindrical body rotatable about a central axis; b) a peripheral wall on the perimeter of the body integral and one with the body; c) a pocket located about the peripheral wall substantially within the perimeter of the body, wherein the pocket has support surfaces for positioning a generally rectangular insert within a predefined rectangular envelope within the pocket including:1) a bottom surface associated with a single side of the insert; and 2) a front face extending upwardly from the pocket bottom surface to a top side of the body; and 3) a wall positioned inwardly from the peripheral wall; and d) wherein at least a portion of the bottom surface of the pocket forms a first angle with the front face of the pocket to define a first retention ledge and wherein the first angle is acute. 25. The toolholder according to  claim 24 , wherein the bottom surface has a length and the first retention ledge extends along at least one-fourth of the length at a location spaced from the body front face. 26. The toolholder according to  claim 25 , wherein the first angle is between 45-85 degrees. 27. The toolholder according to  claim 24 , wherein at least a portion of the pocket wall forms a second angle with the front face of the body to define a second retention ledge and wherein the second angle is acute. 28. The toolholder according to  claim 27 , wherein the pocket wall has a length and the second retention ledge extends along at least one-fourth of the length at a location spaced from the body front face. 29. A cutting insert having a polygonal body of wear resistant material, said body comprising:a) a front surface; b) a back surface opposing the front surface; c) a peripheral wall with sides and corners about a centerline, d) at least one cutting edge formed at the intersection of the peripheral wall and one of the front surface or the back surface; e) wherein each side has a length defined between the front surface and the back surface; f) wherein at least one side has two opposing beveled surfaces thereupon, wherein a first beveled surface is proximate to the front surface and a second beveled surface is proximate to the back surface and wherein together the beveled surfaces extend over at least fifty-percent of the length of the side; and g) wherein the front surface is generally planar and includes a groove along the at least one cutting edge, wherein the groove extends downwardly and inwardly away from the cutting edge toward the centerline and then upwardly to meet the planar front surface to form a chip breaking groove and also retain the planar front surface as a mounting surface. 30. The cutting insert according to  claim 29 , wherein together the beveled surfaces extend over at least 90 percent of the length of the side. 31. The cutting insert according to  claim 29 , wherein the first beveled surface forms a first bevel angle with the front surface and the second beveled surface forms a second bevel angle with the back surface and wherein each of these angles is acute. 32. The cutting insert according to  claim 30 , wherein the first bevel angle and the second bevel angle are between 45-85 degrees. 33. The cutting insert according to  claim 31 , wherein each side of the insert has two opposing beveled surfaces thereupon, wherein a first beveled surface for each side is proximate to the front surface and a second beveled surface for each side is proximate to the back surface and wherein together the beveled surfaces for each side extend over at least fifty-percent of the length of that side. 34. The cutting insert according to  claim 29 , wherein the shape of the insert is square and four cutting edges exist at the intersection of the front surface with the peripheral wall and four additional cutting edges exist at the intersection of the back surface with the peripheral wall. 35. A toolholder comprising:a) a cutter body rotatable about a central axis; b) a peripheral wall on the cutter body; c) insert pockets located in the peripheral wall, wherein each pocket is spaced from an adjacent pocket by a lug and wherein each pocket has support surfaces including a bottom surface adapted for positioning a rectangular insert within the pocket, wherein at least a portion of the bottom surface of each pocket forms a first angle with the front face of the lug to define a first retention ledge and wherein the first angle is acute; d) a cutting insert positioned within each pocket and having a rectangular shape with a front surface and a back surface and four sides therebetween, including a top side, a bottom side and a radially inward side, wherein each side has a length between the front surface and the back surface and wherein each has two opposing beveled surfaces thereupon, wherein a first beveled surface is proximate to the front surface and a second beveled surface is proximate to the back surface and wherein together the beveled surfaces extend over at least 50 percent of the length of each side; e) wherein each lug has:1) a radial width; 2) a front face extending upwardly from the pocket bottom to the top of the lug; 3) an axial face extending downwardly from the top of the lug to a height below the top of the lug; and 4) a rear face extending from the axial face downwardly to the bottom surface of an adjacent pocket, f) wherein the support surfaces of the pocket are defined by the lug front face, the bottom surface, and a pocket wall positioned radially inwardly from the peripheral wall and connecting adjacent lugs, wherein at least a portion of the pocket wall of the pocket forms a second angle with the front face of the lug to define a second retention ledge and wherein the second angle is acute; g) wherein the lug axial face is sloped downwardly across the entire lug width from the top of the lug to the lug rear face, thereby providing a chip clearance groove across the entire width of the lug; h) wherein the lug front face extends over the back of the insert; and i) wherein the inserts rest within a pocket such that the beveled surfaces of two adjacent sides of an insert contact the first retention ledge and the second retention ledge within a pocket. 36. A milling cutter comprising:a) a cutter body rotatable about a central axis; b) a peripheral wall on the cutter body; c) insert pockets located in the peripheral wall, wherein each pocket is spaced from an adjacent pocket by a lug and wherein each pocket has support surfaces including a bottom surface adapted for positioning a rectangular insert within a predefined rectangular envelope within the pocket; d) wherein each rectangular envelope has a front and back and four sides therebetween, including a top side, a bottom side and a radially inward side; e) wherein each lug has:1) a radial width; 2) a front face extending upwardly from the pocket bottom to the top of the lug; 3) an axial face extending downwardly from the top of the lug to a height below the top of the lug; and 4) a rear face extending from the axial face downwardly to the bottom surface of an adjacent pocket; f) wherein the support surfaces of the pocket are defined by the lug front face, the bottom surface, and a pocket wall positioned radially inwardly from the peripheral wall and connecting adjacent lugs; g) wherein the lug axial face is sloped downwardly across the entire lug width from the top of the lug to the lug rear face, thereby providing a chip clearance groove across the entire width of the lug; and h) wherein the lug front face extends over the entire back of the insert envelope. \tentailment\n",
            "5\t1 . A multimedia system, comprising:a multimedia reader configured to read multimedia content, extract light surround content representing a light surround control signal from the multimedia content, and output the light surround control signal; and one or more light emitting devices, each light emitting device in communication with the multimedia reader, each light emitting device configured to receive the light surround control signal and to control a light characteristic based upon, at least in part, the light surround control signal. 2 . The multimedia system of  claim 1 , wherein:the light characteristic is light intensity. 3 . The multimedia system of  claim 1 , wherein:the light characteristic is light color. 4 . The multimedia system of  claim 1 , wherein:the light characteristic is light angle. 5 . The multimedia system of  claim 1 , further comprising:a projector configured to project images based upon, at least in part, the multimedia content. 6 . The multimedia system of  claim 1 , wherein the multimedia reader is further configured to:read the multimedia content from a storage device. 7 . The multimedia system of  claim 1  wherein the multimedia reader is further configured to:extract at least one of visual media content and audio media content; and output at least one of a visual control signal and an audio control signal. 8 . The multimedia system of  claim 1 , wherein:the multimedia content includes one or more tracks, each track representing light surround content for one of the one or more light emitting devices. 9 . The multimedia system of  claim 7 , wherein:the communication between at least one of the one or more light emitting devices and the multimedia reader is wireless. 10 . A method, comprising:reading multimedia content with a multimedia reader; extracting light surround content representing a light surround control signal from the multimedia content; outputting the light surround control signal; receiving the light surround control signal at one or more light emitting devices; and controlling a light characteristic based upon, at least in part, the light surround control signal. 11 . The method of  claim 10 , wherein:the light characteristic is light intensity. 12 . The method of  claim 10 , wherein:the light characteristic is light color. 13 . The method of  claim 10 , wherein:the light characteristic is light angle. 14 . The method of  claim 10 , wherein the multimedia reader is configured to:read multimedia content from a storage device. 15 . A multimedia system, comprising:a multimedia reader configured to read multimedia content, extract light surround content representing a light surround control signal from the multimedia content, and output the light surround control signal; a visual device configured to display images based upon, at least in part, the multimedia content; and one or more light emitting devices separately housed from the visual device, each light emitting device separately housed from the other light emitting devices, each light emitting device in communication with the multimedia reader, each light emitting device configured to receive the light surround control signal and to control a light characteristic based upon, at least in part, the light surround control signal. 16 . The multimedia system of  claim 15 , wherein:the light characteristic is light intensity. 17 . The multimedia system of  claim 15 , wherein:the light characteristic is light color. 18 . The multimedia system of  claim 15 , wherein:the light characteristic is light angle. 19 . The multimedia system of  claim 15 , wherein the multimedia reader is further configured to:read the multimedia content from a storage device. 20 . The multimedia system of  claim 15 , wherein:the communication between at least one of the one or more light emitting devices and the multimedia reader is wireless.  \t1. An illumination module, comprising:an integrating tunnel having an output end to output light in an output direction, the integrating tunnel further having a side surface that intersects the output end and a reflective surface, the reflective surface being opposite of the output end; and a first light source to output light into the integrating tunnel through a first and a second medium from a direction nonparallel to the direction of the output direction, the first and second medium having different indices of refraction, to facilitate reflecting of the output light from the first light source off the reflective surface, and propagating of the reflected light substantially towards the output end, wherein the first medium is a prism and the second medium is air, the air being adjacent to the side surface. 2. The illumination module of  claim 1 , wherein the first light source is a selected one of a light emitting diode (LED) and a laser diode. 3. The illumination module of  claim 1 , further comprises a second light source to output light into the integrating tunnel through a second set of two mediums from a direction nonparallel to the direction of the output direction, the two mediums having different indices of refraction, to facilitate reflecting of the output light from the second light source off a dichroic filter, and propagating the reflected light substantially towards the output end. 4. The illumination module of  claim 3 , wherein the second set of two mediums comprises a prism and air, the air being adjacent to the side surface. 5. The illumination module of  claim 3 , wherein the second light source is a selected one of a light emitting diode (LED) and a laser diode. 6. The illumination module of  claim 3 , further comprises a third light source to output light into the integrating tunnel through a third set of two mediums from a direction nonparallel to the direction of the output direction, the two mediums having different indices of refractions, to facilitate reflecting of the output light from the third light source off a dichroic filter, and propagating the reflected light substantially towards the output end. 7. The illumination module of  claim 6 , wherein the third set of two mediums comprises a prism and air, the air being adjacent to the side surface. 8. The illumination module of  claim 6 , wherein the third light source is a selected one of a light emitting diode (LED) and a laser diode. 9. The illumination module of  claim 6 , wherein the first, second and third light sources are a combination of a red light source, a blue light source and a green light source. 10. The illumination module of  claim 1 , wherein the reflective surface comprises of one selected from the group consisting of a dichroic filter and a mirror. 11. A projection system, comprising:a projection lens; an integrating tunnel optically coupled to the projection lens, the integrating tunnel having an output end to output light in an output direction, the integrating tunnel further having a side surface that intersects the output end and a reflective surface, the reflective surface being opposite of the output end; and a first light source to output light into the integrating tunnel through a first and a second medium from a direction nonparallel to the direction of the output direction, the first and second medium having different indices of refraction, to facilitate reflecting of the output light from the first light source off the reflective surface, and propagating the reflected light substantially towards the output end, wherein the first medium is a prism and the second medium is air, the air being adjacent to the side surface. 12. The projection system of  claim 11 , wherein the first light source is a selected one of a light emitting diode (LED) and a laser diode. 13. The projection system of  claim 11 , further comprises a second light source to output light into the integrating tunnel through a second set of two mediums from a direction nonparallel to the direction of the output direction, the two mediums having different indices of refraction, to facilitate reflecting of the output light from the second light source off a dichroic filter, and propagating the reflected light substantially towards the output end. 14. The projection system of  claim 13 , wherein the second set of two mediums comprises of a prism and air, the air being adjacent to the side surface. 15. The projection system of  claim 13 , wherein the second light source is a selected one of a light emitting diode (LED) and a laser diode. 16. The projection system of  claim 13 , further comprises a third light source to output light into the integrating tunnel through a third set of two mediums from a direction nonparallel to the direction of the output direction, the two mediums having different indices of refractions, to facilitate reflecting of the output light from the third light source off a dichroic filter, and propagating the reflected light substantially towards the output end. 17. The projection system of  claim 16 , wherein the third set of two mediums comprises of a prism and air, the air being adjacent to the side surface. 18. The projection system of  claim 16 , wherein the third light source is a selected one of a light emitting diode (LED) and a laser diode. 19. The projection system of  claim 16 , wherein the first, second and third light sources are a combination of a red light source, a blue light source and a green light source. 20. The projection system of  claim 11 , wherein the projection system further comprises a light valve device optically coupled to the integrating tunnel to direct light bundles outputted by the integrating tunnel to the projection lens. 21. The projection system of  claim 11 , wherein the projection system further comprises:a processor coupled to the first light source; and an input interface coupled to the processor to facilitate input to the processor pixel data of an image. 22. In a projection system, a method of operation, comprising:receiving pixel data of an image to be projected; and controlling a light source to output light into an integrating tunnel through a first and a second medium from a direction nonparallel to an output direction of the integrating tunnel, the first and second medium having different indices of refraction, to facilitate reflecting of the output light from the light source off a reflective surface of the integrating tunnel and propagating the reflected light substantially towards an output end of the integrating tunnel, wherein the first medium is a prism and the second medium is air, the air being adjacent to the side surface, resulting in the output end outputting light in the output direction, the integrating tunnel having a side surface that intersects with the output end and the reflective surface, the reflective surface being opposite of the output end. 23. The method of  claim 22 , wherein said controlling of a light source comprises of controlling the light source to output color light bundles selected from the group consisting of blue, green and red light bundles. 24. The method of  claim 23 , wherein said controlling of a light source comprises controlling the light source to alternate in transmitting the color light bundles at different points in time as needed for the projection of the image. 25. The method of  claim 22 , further comprises controlling a light valve device in a complementary manner. \tentailment\n",
            "6\t1 .- 10 . (canceled) 11 . A blade for a computer system, the blade configured to be inserted into a computer system case, wherein the blade comprises:a chassis comprising a chassis connector configured to electrically couple the blade to the computer system case, a support for computer components having a plurality of locations, each configured to receive a computer component through translational movement in a longitudinal direction of the location, wherein the support is movably mounted via a slide link to the chassis, and is movable between a first position in which the support is substantially inserted into the chassis and a second position in which the support is at least partly extracted from the chassis, wherein in the second position, at least one of the locations is exposed such that a computer component for the at least one location can be inserted or extracted by translational movement in the longitudinal direction. 12 . The blade according to  claim 11 , wherein each of the locations comprises a location connector electrically connected to the chassis connector, wherein each location connector is configured to electrically connect the computer component at the time of its insertion into the location to the chassis connector. 13 . The blade according to  claim 12 , wherein the chassis comprises a control device for the computer components of the locations. 14 . The blade according to  claim 12 , wherein the longitudinal directions of the locations are substantially parallel to each other, and the support has at least one electronic board comprising one or more of the location connectors. 15 . The blade according to  claim 12 , comprising a ribbon of electrical wires electrically connecting the location connectors and the chassis connector. 16 . The blade according to  claim 11 , wherein the locations configured to constrain the movement of the computer components. 17 . The blade according to  claim 11 , wherein the slide link between the chassis and the support comprises slide-forming devices disposed between the chassis and the support. 18 . The blade according  claim 17 , wherein the slide-forming devices comprise a stop configured to limit the travel of the support relative to the chassis. 19 . The blade according to  claim 11 , wherein the received computer component of at least one of the locations comprises a hard disk. 20 . The blade according to  claim 11 , wherein the received computer component of at least one of the locations comprises an electronic board. 21 . A computer system comprising: at least one blade configured to be inserted into a computer system case, wherein the blade comprises:a case; and one or more blades, each comprising:a chassis comprising a chassis connector configured to electrically couple the blade to the computer system case, a support for computer components having a plurality of locations, each configured to receive a computer component through translational movement in a longitudinal direction of the location, wherein the support is movably mounted via a slide link to the chassis, and is movable between a first position in which the support is substantially inserted into the chassis and a second position in which the support is at least partly extracted from the chassis, wherein in the second position, at least one of the locations is exposed such that a computer component for the at least one location can be inserted or extracted by translational movement in the longitudinal direction. \t1. A slide apparatus comprising:a slider beam possessing a top surface, a bottom surface, a first end, a second end and a first and a second in-line slotted feature separated by a torsion stiffening web associated with at least said top surface that extend at least partially between said first end and said second end; a guide rail possessing a first guide rail end and a second guide rail end wherein said guide rail confronts said bottom surface of said slider beam and wherein said slider beam is confined by said guide rail to move essentially along said guide rail bidirectionally between said first guide rail end and said second guide rail end; a chassis possessing a first chassis end, a second chassis end and a chassis bottom surface wherein said chassis bottom surface confronts said top surface of said slider beam; and a retaining member anchored to said chassis and extended into said first slotted feature, said slider beam confining said retaining member to move essentially only along said slotted feature. 2. The slide apparatus of  claim 1  wherein said slotted features extends entirely through said slider beam bottom surface creating a slotted openings. 3. The slider apparatus of  claim 2  further comprising a third and fourth slotted feature substantially similar in configuration, spaced from and running parallel to said first and said second slotted feature. 4. The slider apparatus of  claim 3  wherein said retaining member extends through said first slotted feature and said third slotted feature and retains said slider beam to said chassis by a cross member that extends between said first slotted feature and said third slotted feature, said cross member is substantially located in an accommodating space in said bottom surface of said slider beam. 5. The slider apparatus of  claim 2  wherein said retaining member extends through said first slotted feature and retains said slider beam to said chassis by a locking member that is larger than said first slotted feature located in proximity to said bottom surface of said slider beam. 6. The slide apparatus of  claim 5  wherein said slider beam provides an accommodating space in said bottom surface for said retaining member such that said retaining member is devoid of obstructing said guide rail from moving along the length of said first slotted feature. 7. The slider apparatus of  claim 1  wherein said first slotted feature possesses a contoured shaped feature that extends partially into said slider beam and wherein said retaining member provides a means for being mechanically retained in said contoured shaped feature. 8. The slider apparatus of  claim 1  wherein said guide rail confines said slider beam by conforming to a portion of said slider beam. 9. The slider apparatus of  claim 1  wherein said slider beam extends at least twenty percent beyond said guide rail. 10. The a slider apparatus of  claim 1  wherein said slider beam, said guide rail and said chassis are all substantially the same width. 11. The slider apparatus of  claim 1  further comprising a friction reducing surface disposed between said slider beam and said guide rail. 12. The slider apparatus of  claim 11  wherein said friction reducing surface is selected from the group consisting of: Teflon, Ultra High Molecular Weight polyethylene, lubricious surface treatments. 13. The slider apparatus of  claim 1  wherein said chassis is integrated with a media blade assembly that supports disc drives, wherein each of said disc drives possessing an outer enclosure having a length that is longer than a width that is longer than a height, each of said disc drives extending vertically from said chassis by said length. 14. The slider apparatus of  claim 1  wherein said chassis, said slider beam and said slider rail are adapted to move between a fully extended position and a fully retracted position. 15. A slide apparatus comprising:a slider beam possessing a top surface, a bottom surface, a first end, a second end and a first and a second in-line slotted feature separated by a torsion stiffening web associated with at least said top surface that extends at least partially between said first end and said second end; a guide rail possessing a first guide rail end and a second guide rail end wherein said guide rail confronts said bottom surface of said slider beam and a means for confining said slider beam to move essentially between said first guide rail end and said second guide rail end; a chassis possessing a first chassis end, a second chassis end and a chassis bottom surface wherein said chassis bottom surface confronts said top surface of said slider beam; and a means for retaining said chassis to said slotted feature such that said chassis is confined to move essentially only along slider beam in a path following said slotted feature. 16. The slider apparatus of  claim 15  wherein said means for confining is selected from the group consisting of: a slidable anchor, conforming sheet-metal around a feature in said slider beam, a track with a retaining groove, and conforming sheet-metal extending into a slot in the said slider beam. 17. The slider apparatus of  claim 15  wherein said means for retaining is selected from the group consisting of: a dovetail, a wheel, a key member, a bar, and a crossbar. 18. A slide apparatus comprising:a slider beam possessing a length, a first side rail member, a second side rail member and a center rail bridge member wherein said first side rail member is parallel to and in coextensive plane with said second side rail member, a space separating said first side rail from said second side rail member, said center rail member bridging said space and overlapping a portion of said first and said second side rail members, said center rail member residing at least partially out of said plane, at least two slots separated by a torsion stiffening web extending through and along said length of said center rail; a guide rail conforming to at least a portion of said first and second side rail members such that said slider beam is confined to moving along said guide rail via said first and second side rail members; a chassis facing said slider beam such that said slider beam is disposed substantially between said guide rail and said chassis; and at least two retaining elements anchored to said chassis, each retaining element extending through one of said at least two slots and into said space, wherein said retaining element confines said chassis to movement along said at least two slots. 19. A slide apparatus comprising:a guide rail adapted to be attached to a frame; a chassis; a slider beam disposed between said guide rail and said chassis, said slider beam extending in length between a first end and a second end, said slider beam adapted to cooperate with said guide rail to move along said guide rail in a direction along said length, said slider beam possessing a slotted feature separated by a torsion stiffening web that extends at least partially along said length; and a retaining member anchored to said chassis and extended into said slotted feature, such that said slider beam confines said retaining member to move essentially only along said slotted feature. 20. The slider for as of  claim 13  wherein all of said disc drives possess discs and wherein at least one of said discs associated with one of said disc drives rotates in an opposite direction relative to at least one of said discs associated with another of said disc drives. 21. The slide apparatus of  claim 1  wherein said second slotted feature is adapted to cooperate with a second retaining member. \tentailment\n",
            "7\t1 . A method for performing radio usage measurements to support radio link operations, the method comprising:determining a first radio usage parameter, wherein the first radio usage parameter is a measurement of radio usage between an evolved Node B (eNB) and at least one wireless transmit receive unit (WTRU); determining a second radio usage parameter, wherein the second radio usage parameter is a measurement of radio usage between the eNB and at least one relay node (RN) served by the eNB; and utilizing at least one of the first radio usage parameter or the second radio usage parameter to evaluate at least one of evolved universal terrestrial radio access (E-UTRA) radio link operations, radio resource management (RRM), network operations and maintenance (OAM), or self-organizing networks (SON) functions or functionalities. 2 . The method of  claim 1 , wherein the second radio usage measurement is a measurement of downlink (DL) physical resource block (PRB) usage for traffic on a Un interface. 3 . The method of  claim 2 , wherein the second radio usage measurement is measured per Quality of Service (QoS) Class Indicator (QCI). 4 . The method of  claim 1 , wherein the second radio usage measurement is a measurement of uplink (UL) physical resource block (PRB) usage per Quality of Service (QoS) Class Indicator (QCI) for traffic on a Un interface. 5 . The method of  claim 1 , wherein the second radio usage measurement is a measurement of average downlink (DL) packet delay per Quality of Service (QoS) Class Indicator (QCI) for traffic on a Un interface. 6 . The method of  claim 1 , further comprising:measuring a number of downlink (DL) active WTRUs with a DL connection through the eNB, wherein the number of DL active WTRUs excludes UEs connected to the RN; and measuring a number of uplink (UL) active WTRUs with a UL connection through the eNB, wherein the number of UL active WTRUs excludes UEs connected to the RN. 7 . The method of  claim 1 , wherein the first radio usage measurement is a measurement of downlink (DL) packet loss rate per Quality of Service (QoS) Class Indicator (QCI) for traffic on a Uu interface and the second radio usage measurement is a measurement of DL packet loss rate per QCI for traffic on a Un interface. 8 . The method of  claim 1 , wherein the first radio usage measurement is a measurement of uplink (UL) packet loss rate per Quality of Service (QoS) Class Indicator (QCI) for traffic on a Uu interface and the second radio usage measurement is a measurement of UL packet loss rate per QCI for traffic on a Un interface. 9 . The method of  claim 1 , further comprising:receiving, from the RN, a third radio usage measurement, wherein the third radio usage measurement measures radio usage between the RN and at least one UE connected to the RN. 10 . The method of  claim 1 , wherein utilizing at least one of the first radio usage parameter or the second radio usage parameter to evaluate at least one of E-UTRA radio link operations, RRM, network OAM, or SON functions or functionalities comprises utilizing at least one of the first radio usage parameter or the second radio usage parameter for OAM performance observability. 11 . An evolved Node B (eNB) configured to:perform a first radio usage measurement, wherein the first radio usage measurement measures radio usage between the eNB and at least one user equipment (UE); perform a second radio usage measurement, wherein the second radio usage measurement measures radio usage between the eNB and at least one relay node (RN) served by the eNB; and utilize each of the first radio measurement and the second radio measurement to perform at least one of cell load balancing, repartitioning radio resources, call admission control, or congestion control. 12 . The eNB of  claim 11 , wherein the first radio usage measurement is a measurement of downlink (DL) physical resource block (PRB) usage for traffic on a Uu interface and the second radio usage measurement is a measurement of DL PRB usage for traffic on a Un interface. 13 . The eNB of  claim 12 , wherein both the first radio usage measurement and the second radio usage measurement are measured per Quality of Service (QoS) Class Indicator (QCI). 14 . The eNB of  claim 11 , wherein the first radio usage measurement is a measurement of uplink (UL) physical resource block (PRB) usage per Quality of Service (QoS) Class Indicator (QCI) for traffic on a Uu interface and the second radio usage measurement is a measurement of UL PRB usage per QCI for traffic on a Un interface. 15 . The eNB of  claim 11 , wherein the first radio usage measurement is a measurement of average downlink (DL) packet delay per Quality of Service (QoS) Class Indicator (QCI) for traffic on a Uu interface and the second radio usage measurement is a measurement of average DL packet delay per QCI for traffic on a Un interface. 16 . The eNB of  claim 11 , wherein the eNB is further configured to:measure a number of downlink (DL) active WTRUs with a DL connection through the eNB, wherein the number of DL active WTRUs excludes UEs connected to the RN; and measure a number of uplink (UL) active WTRUs with a UL connection through the eNB, wherein the number of UL active WTRUs excludes UEs connected to the RN. 17 . The eNB of  claim 11 , wherein the first radio usage measurement is a measurement of downlink (DL) packet loss rate per Quality of Service (QoS) Class Indicator (QCI) for traffic on a Uu interface and the second radio usage measurement is a measurement of DL packet loss rate per QCI for traffic on a Un interface. 18 . The eNB of  claim 11 , wherein the first radio usage measurement is a measurement of uplink (UL) packet loss rate per Quality of Service (QoS) Class Indicator (QCI) for traffic on a Uu interface and the second radio usage measurement is a measurement of UL packet loss rate per QCI for traffic on a Un interface. 19 . The eNB of  claim 11 , wherein the eNB is further configured to:receive, from the RN, a third radio usage measurement, wherein the third radio usage measurement measures radio usage between the RN and at least one UE connected to the RN. 20 . The eNB of  claim 11 , wherein the eNB is configured to utilize each of the first radio measurement and the second radio measurement to perform at least one of cell load balancing, repartitioning radio resources, call admission control, or congestion control by sending the first radio usage measurement and the second radio usage measurement to a network operations and maintenance node via an evolved packet core (EPC) network. 21 . A method for handing over a relay node (RN) from a source evolved Node B (eNB) to a target eNB, the method comprising:determining to handover the RN; sending a handover command to the RN; and sending bearer context information to the target eNB, wherein the bearer context information comprises information that allows the target eNB to accept the RN while at least one wireless transmit/receive unit (WTRU) connected to the RN remains in the connected state throughout the handover. 22 . The method of  claim 21 , further comprising:sending a handover request message to the target eNB; and receiving a handover acceptance message from the target eNB, wherein the handover acceptance message includes a handover parameter, wherein the handover parameter is included in the handover command. 23 . The method of  claim 22 , wherein the handover parameter comprises at least one of a Un subframe configuration or synchronization and timing information. 24 . The method of  claim 21 , wherein determining to handover the RN is based on at least one of measurements performed by the source eNB or message received from a mobility management entity (MME). 25 . The method of  claim 21 , further comprising receiving a donor eNB (DeNB) list for the RN and selecting the target eNB based on the DeNB list. 26 . The method of  claim 21 , wherein the handover command comprises a dedicated Random Access Channel Preamble for the RN. \t1. A mechanical torque wrench for engaging a workpiece, comprising:a wrench body defining an elongated interior compartment; a wrench head including a workpiece engaging portion and a bar extending therefrom, said wrench head being pivotally secured to a first end of said wrench body at a pivot joint, said bar extending into said interior compartment and said workpiece engaging portion extending outwardly from said wrench body; a hand grip located on a second end of said wrench body; a set spring disposed within said interior compartment of said wrench body; a pawl disposed between a rear face of said bar and said set spring; a dial screw threadably received within said interior compartment of said wrench body such that said dial screw moves along a longitudinal axis of said wrench body when rotated, rotation of said dial screw in a first direction compressing said set spring and rotation in a second direction allowing expansion of said set spring; a set ring positioned adjacent said hand grip, said set ring being operatively connected to said dial screw and rotatable relative to said wrench body; a resistive element operatively coupled to said dial screw and producing an output signal, said output signal being dependent on a position of said dial screw relative to said resistive element; a processor for converting said output signal into an equivalent torque value, said equivalent torque value indicating a preset torque to be applied by said mechanical torque wrench to the workpiece; a user interface including a display for displaying said equivalent torque value; and wherein application of a torque greater than said preset torque to the workpiece causes said wrench head to pivot relative to said wrench body about said pivot joint. 2. The mechanical torque wrench of  claim 1 , said resistive element further comprising a potentiometer fixed to said interior compartment of said wrench body. 3. The mechanical torque wrench of  claim 2 , said potentiometer further comprising a sliding potentiometer including a resistor and a wiper assembly, wherein movement of said dial screw along said longitudinal axis of said wrench body similarly moves said wiper assembly along said resistor such that said output signal is altered. 4. The mechanical torque wrench of  claim 3 , wherein:said dial screw includes an annular groove; said wiper assembly includes a pin extending outwardly therefrom, said pin being slidably received in said annular groove such that said dial screw is rotatable relative to said wiper assembly; and rotation of said dial screw moves said wiper assembly relative to said resistor. 5. The mechanical torque wrench of  claim 4 , wherein said annular groove is formed by a first and a second radially extending shoulder, said first and second radially extending shoulders being parallel to each other. 6. The mechanical torque wrench of  claim 2 , further comprising a plug assembly disposed between said pawl and said set spring, said pawl being adjacent a front face of said plug assembly and said rear face of said bar, said pawl being pivotal relative to said rear face and said front face. 7. The mechanical torque wrench of  claim 2 , said potentiometer further comprising an annular potentiometer including a stationary outer ring and an inner ring rotatably secured to said outer ring, wherein rotation of said dial screw causes rotation of said inner ring relative to said outer ring such that said output signal is changed. 8. The mechanical torque wrench of  claim 7 , wherein:said outer ring includes a resistor; said inner ring includes a wiper assembly and includes a central aperture formed therein; and wherein said dial screw is slidably received in said central aperture and rotation of said dial screw causes said wiper assembly to move relative to said resistor. 9. The mechanical torque wrench of  claim 8 , wherein said central aperture and a portion of said dial screw received therein are polygonally shaped. 10. The mechanical torque wrench of  claim 2 , wherein rotation of said wrench head about said pivot joint causes said bar to strike said wrench body. 11. The mechanical torque wrench of  claim 2 , wherein said workpiece engaging portion of said wrench head is a ratchet drive. 12. The mechanical torque wrench of  claim 2 , wherein said wrench body is tubular. 13. The mechanical torque wrench of  claim 2 , wherein said set ring is axially movable between a first position in which said set ring is rotatable about said wrench body and a second position in which said set ring is rotationally fixed to said wrench body. 14. The mechanical torque wrench of  claim 2 , wherein said display is a liquid crystal display. 15. The mechanical torque wrench of  claim 10 , wherein said liquid crystal display includes a preset torque indicator and a torque unit indicator. 16. The mechanical torque wrench of  claim 15 , wherein said user interface further includes a unit selection switch to allow a user to select a system of units for display in said torque unit indicator. 17. A mechanical torque wrench for engaging a workpiece comprising:a wrench body defining an elongated interior compartment; a wrench head pivotally received in said interior compartment, said wrench head including a drive portion for engaging the workpiece and a bar extending into said interior compartment; a hand grip located on a second end of said wrench body; a set spring disposed within said interior compartment of said wrench body; a dial screw including an annular groove formed therein, said dial screw being rotatably received within said interior compartment of said wrench body, rotation of said dial screw in a first direction increasing force exerted on said set spring and rotation of said dial screw in a second direction decreasing force exerted on said set spring by said dial screw; a set ring positioned adjacent said hand grip, said set ring being engageable with said dial screw and rotatable relative to said wrench body; a resistive element including a resistor and a wiper assembly, said wiper assembly being operatively coupled to said annular groove of said dial screw, said resistive element producing an output signal that is related to a position of said dial screw relative to said resistive element; a processor for converting said output signal into an equivalent torque value, said equivalent torque value indicating a preset torque to be applied by said mechanical torque wrench to the workpiece; a user interface including a display for displaying said equivalent torque value; and wherein application of a torque greater than said preset torque to the workpiece causes said wrench head to pivot relative to said wrench body about said pivot joint. 18. The mechanical torque wrench of  claim 17 , said resistive element further comprising a potentiometer fixed to said interior compartment of said wrench body. 19. The mechanical torque wrench of  claim 18 , said potentiometer further comprising a sliding potentiometer including a resistor and a wiper assembly, wherein movement of said dial screw along a longitudinal axis of said wrench body similarly moves said wiper assembly along said resistor such that said output signal is altered. \tnot_entailment\n",
            "8\t1 . A system configured to exchange energy wirelessly, comprising:a structure configured to exchange the energy wirelessly via a coupling of evanescent waves, wherein the structure is electromagnetic (EM) and non-radiative, wherein the structure generates an EM near-field in response to receiving the energy; and an anisotropic metamaterial arranged within the EM near-field such that an amplitude of the evanescent waves is increased. 2 . The system of  claim 1 , wherein the structure is a source configured to transfer the energy to a sink, further comprising:a driver configured to supply the energy to the structure. 3 . The system of  claim 1 , wherein the structure is a sink configured to receive the energy wirelessly from a source, further comprising:a load configured to receive the energy from the structure. 4 . The system of  claim 1 , wherein dimensions of the structure are smaller than a wavelength of the evanescent waves. 5 . The system of  claim 1 , wherein the structure is a resonant structure. 6 . The system of  claim 1 , wherein the anisotropic metamaterial is arranged optimally based on a desired direction of the energy transfer. 7 . The system of  claim 1 , wherein the structure is configured to exchange the energy wirelessly along a first direction, wherein the anisotropic metamaterial has a property of a metamaterial along a second direction, and wherein the anisotropic metamaterial is arranged such that the second direction is aligned with the first direction. 8 . The system of  claim 1 , wherein a plurality of anisotropic metamaterials is arranged on a path of an evanescent wave, such that the evanescent wave travels through each anisotropic metamaterial in the plurality of anisotropic metamaterials during the coupling. 9 . The system of  claim 6 , wherein the anisotropic metamaterial has a negative permittivity property and a positive permeability property along a particular direction aligned with the desired direction of the energy transfer. 10 . The system of  claim 6 , wherein the anisotropic metamaterial has a positive permittivity property and a negative permeability property along a particular direction aligned with the desired direction of the energy transfer. 11 . A method of transferring electromagnetic energy wirelessly via a coupling of evanescent waves, comprising steps of:increasing amplitudes of the evanescent waves using an anisotropic metamaterial, such that the coupling is enhanced. 12 . The method of  claim 11 , further comprising:providing a first resonator structure having a first mode with a resonant frequency &#x3c9; 1 , an intrinsic loss rate &#x393; 1  and a first Q-factor Q 1 =&#x3c9; 1 /(2&#x393; 1 ), wherein the first resonator structure is electromagnetic and designed so that Q 1 &#x3e;100; providing a second structure positioned distal from the first electromagnetic resonator structure and not electrically wired to the first resonator structure, the second resonator structure has a second mode with a resonant frequency &#x3c9; 2 , an intrinsic loss rate &#x393; 2 , a second Q-factor Q 2 =&#x3c9; 2 /(2&#x393; 2 ), wherein the second resonator structure is electromagnetic and designed so that Q 2 &#x3e;100; arranging the anisotropic metamaterial between the first resonator structure and the second resonator structure, wherein the anisotropic metamaterial has a property of a metamaterial along a particular direction aligned with a desired direction of the energy transfer; and transferring the electromagnetic energy from the first resonator structure through the anisotropic metamaterial to the second resonator structure over a distance D, wherein the distance D is smaller than each of the resonant wavelength &#x3bb; 1  and &#x3bb; 2  corresponding to the resonant frequencies &#x3c9; 1  and &#x3c9; 2  respectively. 13 . The method of  claim 11 , wherein the anisotropic metamaterial has a positive permittivity property and a negative permeability property only along the particular direction. 14 . The method of  claim 11 , wherein the anisotropic metamaterial has a negative permittivity property and a positive permeability property only along the particular direction. 15 . The method of  claim 11 , wherein the anisotropic metamaterial has a negative permittivity property and a negative permeability property only along the particular direction. 16 . The method of  claim 11 , wherein the anisotropic metamaterial is formed by inhomogeneities having dimensions smaller than a wavelength of the evanescent waves. 17 . A system configured to exchange electromagnetic energy wirelessly, comprising:a first resonator structure having a first mode with a resonant frequency &#x3c9; 1 , an intrinsic loss rate &#x393; 1  and a first Q-factor Q 1 =&#x3c9; 1 /(2&#x393; 1 ), wherein the first resonator structure is electromagnetic and designed so that Q 1 &#x3e;100; a second structure positioned distal from the first electromagnetic resonator structure and not electrically wired to the first resonator structure, the second resonator structure has a second mode with a resonant frequency &#x3c9; 2 , an intrinsic loss rate &#x393; 2 , a second Q-factor Q 2 =&#x3c9; 2 /(2&#x393; 2 ), wherein the second resonator structure is electromagnetic and designed to have Q 2 &#x3e;100; and an anisotropic metamaterial arranged between the first resonator structure and the second resonator structure, wherein the first resonator structure transfer the electromagnetic energy through the anisotropic metamaterial to the second resonator structure over a distance D, wherein the distance D is smaller than each of the resonant wavelength &#x3bb; 1  and &#x3bb; 2  corresponding to the resonant frequencies &#x3c9; 1  and &#x3c9; 2  respectively. 18 . The system of  claim 17 , wherein the first resonator structure transfer the electromagnetic energy via a coupling of evanescent waves, wherein dimensions of the structure are smaller than each of the resonant wavelength &#x3bb; 1  and &#x3bb; 2 , and wherein the anisotropic metamaterial is a single-negative (SNG) metamaterial only along a direction of energy transfer. 19 . The system of  claim 18 , wherein the anisotropic metamaterial is formed by planar sheets of two-dimensional array of inhomogeneities, wherein the planar sheets are arranged in parallel. 20 . The system of  claim 19 , wherein the planar sheets are arranged such that the direction of the energy transfer is perpendicular to the planar sheets.  \t1. A submersible table and seat assembly for use in a swimming pool, the table and seat assembly comprising:a base having a hollow interior capable of being filled with a flowable material in an amount sufficient to enable the table and seat assembly to rest on the bottom of the swimming pool; a table supported on the base and adjustably connected to the base to enable the table to be raised and lowered relative to the base; seats supported on the base and adjustably connected to the base to enable the seats to be raised and lowered relative to the base; fluid passages within at least one of the base and the seats; jets fluidically coupled to the fluid passages; and a conduit connected to the fluid passages for flowing a pressurized fluid through the jets; wherein the table and the seats are adjustable to accommodate varying depths of the swimming pool. 2. The submersible table and seat assembly according to  claim 1 , wherein the table and the seats are individually and separately adjustably connected to the base. 3. The submersible table and seat assembly according to  claim 1 , further comprising means for adjustably connecting the table to the base, the connecting means comprising a threaded post extending downward from the table and a complementary threaded boss extending upward from the base. 4. The submersible table and seat assembly according to  claim 3 , further comprising means for replacing the table and supporting a pool cover above the base and seats. 5. The submersible table and seat assembly according to  claim 4 , wherein the supporting and replacing means comprises a plug having a threaded post complementary to the threaded boss of the base and a rounded upper surface adapted for contacting and supporting the pool cover. 6. The submersible table and seat assembly according to  claim 1 , further comprising means for adjustably connecting each of the seats to the base, each of the connecting means comprising a threaded post extending downward from one of the seats and a complementary threaded boss extending upward from the base. 7. The submersible table and seat assembly according to  claim 1 , wherein the base comprises a raised footrest portion accessible to the feet of occupants of the seats. 8. The submersible table and seat assembly according to  claim 7 , wherein the jets are present within the footrest portion of the base. 9. The submersible table and seat assembly according to  claim 1 , wherein the fluid passages are present within each of the base and the seats. 10. The submersible table and seat assembly according to  claim 1 , wherein the jets are present within each of the base and the seats. 11. The submersible table and seat assembly according to  claim 1 , wherein the fluid passages and the jets are present within each of the base and the seats. 12. The submersible table and seat assembly according to  claim 1 , further comprising a mat sized to be placed between the base and the bottom of the swimming pool. 13. The submersible table and seat assembly according to  claim 1 , further comprising cup holders configured as recesses in the table. 14. The submersible table and seat assembly according to  claim 1 , further comprising storage compartments configured as closable recesses in the table. 15. The submersible table and seat assembly according to  claim 1 , further comprising an umbrella releasably connected to the table. 16. The submersible table and seat assembly according to  claim 1 , further comprising a raised lip along a perimeter of the table to prevent liquid spills on the table from flowing into the swimming pool. 17. The submersible table and seat assembly according to  claim 1 , further comprising means fluidically coupled to the conduit for bypassing the fluid passages. 18. The submersible table and seat assembly according to  claim 1 , further comprising means for fluidically sealing the hollow interior to prevent the flowable material from being released into the swimming pool. 19. The submersible table and seat assembly according to  claim 1 , wherein the base, the table, and the seats are formed of materials whose densities enable the table and seat assembly to rest on the bottom of the swimming pool when the hollow interior is filled with water. 20. The submersible table and seat assembly according to  claim 1 , further comprising means for replacing the table and supporting a pool cover, the supporting and replacing means having a low extremity adapted for connection to the base and a rounded upper surface adapted for contacting and supporting the pool cover.  \tnot_entailment\n"
          ],
          "name": "stdout"
        }
      ]
    },
    {
      "metadata": {
        "id": "RMugIm94CfMz",
        "colab_type": "code",
        "colab": {}
      },
      "cell_type": "code",
      "source": [
        "import pandas as pd\n",
        "import numpy as np"
      ],
      "execution_count": 0,
      "outputs": []
    },
    {
      "metadata": {
        "id": "WSU31xDECfQu",
        "colab_type": "code",
        "colab": {}
      },
      "cell_type": "code",
      "source": [
        "citations_info_target = pd.read_pickle(\"./bert/data/citations_info_2000.df.gz\")\n",
        "training_app_df = pd.read_pickle(\"./bert/data/training_app_1000.df.gz\")\n",
        "testset_app_df = pd.read_pickle(\"./bert/data/testset_app_1000.df.gz\")\n",
        "grants_target_df = pd.read_pickle(\"./bert/data/grants_for_2000.df.gz\")"
      ],
      "execution_count": 0,
      "outputs": []
    },
    {
      "metadata": {
        "id": "OHfhwtB6CfV7",
        "colab_type": "code",
        "outputId": "ee3ac992-c46e-4ace-a7d7-ba42eaab0667",
        "colab": {
          "base_uri": "https://localhost:8080/",
          "height": 35
        }
      },
      "cell_type": "code",
      "source": [
        "citations_info_target.shape"
      ],
      "execution_count": 0,
      "outputs": [
        {
          "output_type": "execute_result",
          "data": {
            "text/plain": [
              "(4179, 41)"
            ]
          },
          "metadata": {
            "tags": []
          },
          "execution_count": 18
        }
      ]
    },
    {
      "metadata": {
        "id": "py-YdtxHCfT3",
        "colab_type": "code",
        "outputId": "a12eae55-d83d-462d-d143-06a40783dff1",
        "colab": {
          "base_uri": "https://localhost:8080/",
          "height": 124
        }
      },
      "cell_type": "code",
      "source": [
        "training_app_df.head().app_id"
      ],
      "execution_count": 0,
      "outputs": [
        {
          "output_type": "execute_result",
          "data": {
            "text/plain": [
              "0    14222691\n",
              "1    12515852\n",
              "2    12033424\n",
              "3    12402344\n",
              "4    12155425\n",
              "Name: app_id, dtype: int64"
            ]
          },
          "metadata": {
            "tags": []
          },
          "execution_count": 19
        }
      ]
    },
    {
      "metadata": {
        "id": "CqDD8Y4GDT0z",
        "colab_type": "text"
      },
      "cell_type": "markdown",
      "source": [
        "### Utility: Retrieve just claim. Remove all tags."
      ]
    },
    {
      "metadata": {
        "id": "CmKWzr0lC3hh",
        "colab_type": "code",
        "colab": {}
      },
      "cell_type": "code",
      "source": [
        "import re"
      ],
      "execution_count": 0,
      "outputs": []
    },
    {
      "metadata": {
        "id": "FzY08co8Da4M",
        "colab_type": "code",
        "colab": {}
      },
      "cell_type": "code",
      "source": [
        "CLAIM_PAT = re.compile(r'<claims[^>]*>(.*)</claims>',re.MULTILINE|re.DOTALL)\n",
        "TAG_PAT = re.compile(r\"<.*?>\")"
      ],
      "execution_count": 0,
      "outputs": []
    },
    {
      "metadata": {
        "id": "0VWnrVtaDa8I",
        "colab_type": "code",
        "colab": {}
      },
      "cell_type": "code",
      "source": [
        "def whole_xml_to_claim_xml(whole):\n",
        "    mat = CLAIM_PAT.search(whole)\n",
        "    return mat.group(1)\n",
        "  \n",
        "  \n",
        "def whole_xml_to_claim(whole):\n",
        "    return TAG_PAT.sub(' ', whole_xml_to_claim_xml(whole))"
      ],
      "execution_count": 0,
      "outputs": []
    },
    {
      "metadata": {
        "id": "FnpQY9QPEEZm",
        "colab_type": "text"
      },
      "cell_type": "markdown",
      "source": [
        "### Create label data"
      ]
    },
    {
      "metadata": {
        "id": "N7mxGmnWDa1z",
        "colab_type": "code",
        "colab": {}
      },
      "cell_type": "code",
      "source": [
        "def set_one_answer_appid(labeldf, oneappid):\n",
        "    cited_patids = citations_info_target[citations_info_target.app_id == oneappid].parsed\n",
        "    labeldf.loc[oneappid] = labeldf.columns.isin(cited_patids)\n",
        "    \n",
        "    \n",
        "def create_label_df():\n",
        "    label_df = pd.DataFrame(columns=grants_target_df.parsed.values, dtype=np.bool)\n",
        "    for appid in testset_app_df.app_id:\n",
        "        set_one_answer_appid(label_df, appid)\n",
        "    return label_df"
      ],
      "execution_count": 0,
      "outputs": []
    },
    {
      "metadata": {
        "id": "CpxC5w7lDazE",
        "colab_type": "code",
        "outputId": "c8350190-fdce-4016-bd29-d8e102e84f5d",
        "colab": {
          "base_uri": "https://localhost:8080/",
          "height": 35
        }
      },
      "cell_type": "code",
      "source": [
        "label_df = create_label_df()\n",
        "label_df.shape"
      ],
      "execution_count": 0,
      "outputs": [
        {
          "output_type": "execute_result",
          "data": {
            "text/plain": [
              "(1000, 2524)"
            ]
          },
          "metadata": {
            "tags": []
          },
          "execution_count": 25
        }
      ]
    },
    {
      "metadata": {
        "id": "aoNl8FueEdtz",
        "colab_type": "text"
      },
      "cell_type": "markdown",
      "source": [
        "Confirm label data"
      ]
    },
    {
      "metadata": {
        "id": "nyvv8LBOEW65",
        "colab_type": "code",
        "outputId": "cc235a18-ca73-4c0f-aa5b-74ed0c9c1ea3",
        "colab": {
          "base_uri": "https://localhost:8080/",
          "height": 35
        }
      },
      "cell_type": "code",
      "source": [
        "label_df.loc[14307191].idxmax()"
      ],
      "execution_count": 0,
      "outputs": [
        {
          "output_type": "execute_result",
          "data": {
            "text/plain": [
              "7576688"
            ]
          },
          "metadata": {
            "tags": []
          },
          "execution_count": 26
        }
      ]
    },
    {
      "metadata": {
        "id": "6i6yzF_6EW4r",
        "colab_type": "code",
        "outputId": "c6e30206-5a5b-4474-f019-0fb10944ff75",
        "colab": {
          "base_uri": "https://localhost:8080/",
          "height": 53
        }
      },
      "cell_type": "code",
      "source": [
        "citations_info_target[citations_info_target[\"app_id\"]==14307191].parsed"
      ],
      "execution_count": 0,
      "outputs": [
        {
          "output_type": "execute_result",
          "data": {
            "text/plain": [
              "698    7576688\n",
              "Name: parsed, dtype: int64"
            ]
          },
          "metadata": {
            "tags": []
          },
          "execution_count": 27
        }
      ]
    },
    {
      "metadata": {
        "id": "noSLnGUgEtDk",
        "colab_type": "text"
      },
      "cell_type": "markdown",
      "source": [
        "# Test set evaluation code\n",
        "\n",
        "For predcition, we need to preprocess input and it takes some times.\n",
        "So I split original code to preprocess function and evaluation function"
      ]
    },
    {
      "metadata": {
        "id": "YLOi9PxdFcTo",
        "colab_type": "code",
        "colab": {}
      },
      "cell_type": "code",
      "source": [
        "def test_set_preprocess(preprocess_func):\n",
        "  predictdf = pd.DataFrame(columns=grants_target_df.parsed.values, dtype=np.bool)\n",
        "   preprocess_func(testset_app_df[\"xml\"].map(whole_xml_to_claim))"
      ],
      "execution_count": 0,
      "outputs": []
    },
    {
      "metadata": {
        "id": "4ltpSUk2GuMN",
        "colab_type": "code",
        "colab": {}
      },
      "cell_type": "code",
      "source": [
        "testset_app_claims = testset_app_df[\"xml\"].map(whole_xml_to_claim)"
      ],
      "execution_count": 0,
      "outputs": []
    },
    {
      "metadata": {
        "id": "bpTz8mmmFciB",
        "colab_type": "code",
        "outputId": "3c741783-f1de-4b6d-8645-cc5dc2a83847",
        "colab": {
          "base_uri": "https://localhost:8080/",
          "height": 35
        }
      },
      "cell_type": "code",
      "source": [
        "testset_app_claims.shape"
      ],
      "execution_count": 0,
      "outputs": [
        {
          "output_type": "execute_result",
          "data": {
            "text/plain": [
              "(1000,)"
            ]
          },
          "metadata": {
            "tags": []
          },
          "execution_count": 46
        }
      ]
    },
    {
      "metadata": {
        "id": "D72KCORcEW1e",
        "colab_type": "code",
        "colab": {}
      },
      "cell_type": "code",
      "source": [
        "def predict_test_set(predict_func):\n",
        "    \"\"\"\n",
        "    predict_func(claims) return NxM of boolean. N is len(claims). M is rownum of grants_target_df.\n",
        "            value indicate n claim is cite patent of m row of grants_all_df.\n",
        "    \"\"\"\n",
        "    predictdf = pd.DataFrame(columns=grants_target_df.parsed.values, dtype=np.bool)\n",
        "    res = predict_func(testset_app_df[\"xml\"].map(whole_xml_to_claim))\n",
        "    for idx, appid in enumerate(testset_app_df.app_id):\n",
        "        predictdf.loc[appid] = res[idx, :]\n",
        "    return predictdf"
      ],
      "execution_count": 0,
      "outputs": []
    },
    {
      "metadata": {
        "id": "_iC8nlJJEWyl",
        "colab_type": "code",
        "colab": {}
      },
      "cell_type": "code",
      "source": [
        "def calc_TPs(preddf, labeldf):\n",
        "    return sum([sum(preddf.loc[one_appid][labeldf.loc[one_appid]]) for one_appid in testset_app_df.app_id])\n",
        "\n",
        "def calc_FPs(preddf, labeldf):\n",
        "    return sum([sum(preddf.loc[one_appid][~labeldf.loc[one_appid]]) for one_appid in testset_app_df.app_id])\n",
        "\n",
        "def calc_TNs(preddf, labeldf):\n",
        "    return sum([sum(preddf.loc[one_appid][~labeldf.loc[one_appid]] == False) for one_appid in testset_app_df.app_id])\n",
        "\n",
        "def calc_FNs(preddf, labeldf):\n",
        "    return sum([sum(preddf.loc[one_appid][labeldf.loc[one_appid]] == False) for one_appid in testset_app_df.app_id])\n",
        "\n",
        "def calc_TFPNs(preddf, labeldf):\n",
        "    return calc_TPs(preddf, labeldf), calc_FPs(preddf, labeldf), calc_TNs(preddf, labeldf), calc_FNs(preddf, labeldf)"
      ],
      "execution_count": 0,
      "outputs": []
    },
    {
      "metadata": {
        "id": "nvER9nyYEWvs",
        "colab_type": "code",
        "colab": {}
      },
      "cell_type": "code",
      "source": [
        "def calc_summary_TFPNs(TP, FP, TN, FN):\n",
        "    \"return acc, prec, recall, f1.\"\n",
        "    return pd.DataFrame(columns=[\"acc\", \"prec\", \"recall\", \"f1\"], data=[[(TP+TN)/(TP+FP+TN+FN), TP/(TP+FP), TP/(TP+FN), 2*TP/(2*TP+FP+FN)]])\n",
        "    \n",
        "def calc_summary(preddf, labeldf):\n",
        "    TP, FP, TN, FN = calc_TFPNs(preddf, labeldf)\n",
        "    return calc_summary_TFPNs(TP, FP, TN, FN)"
      ],
      "execution_count": 0,
      "outputs": []
    },
    {
      "metadata": {
        "id": "IEf1jkmkE8KN",
        "colab_type": "code",
        "colab": {}
      },
      "cell_type": "code",
      "source": [
        ""
      ],
      "execution_count": 0,
      "outputs": []
    },
    {
      "metadata": {
        "id": "eK1buhehE8HQ",
        "colab_type": "code",
        "colab": {}
      },
      "cell_type": "code",
      "source": [
        ""
      ],
      "execution_count": 0,
      "outputs": []
    },
    {
      "metadata": {
        "id": "TSnQF6DGE8Dz",
        "colab_type": "code",
        "colab": {}
      },
      "cell_type": "code",
      "source": [
        ""
      ],
      "execution_count": 0,
      "outputs": []
    },
    {
      "metadata": {
        "id": "Y9oe20DkE8At",
        "colab_type": "code",
        "colab": {}
      },
      "cell_type": "code",
      "source": [
        ""
      ],
      "execution_count": 0,
      "outputs": []
    },
    {
      "metadata": {
        "id": "7DmoRhs9E791",
        "colab_type": "code",
        "colab": {}
      },
      "cell_type": "code",
      "source": [
        ""
      ],
      "execution_count": 0,
      "outputs": []
    },
    {
      "metadata": {
        "id": "gAHOWYzlC3l5",
        "colab_type": "code",
        "colab": {}
      },
      "cell_type": "code",
      "source": [
        ""
      ],
      "execution_count": 0,
      "outputs": []
    },
    {
      "metadata": {
        "id": "lBOhgRrYGJzS",
        "colab_type": "text"
      },
      "cell_type": "markdown",
      "source": [
        "# Bert setup"
      ]
    },
    {
      "metadata": {
        "id": "D9hQGFJRwbBl",
        "colab_type": "code",
        "colab": {}
      },
      "cell_type": "code",
      "source": [
        "VOCAB_CONFIG_PATH=' gs://yohei-kikuta/mlstudy-phys/bert/models/pre-trained-models/uncased_L-12_H-768_A-12' #@param {type:\"string\"}"
      ],
      "execution_count": 0,
      "outputs": []
    },
    {
      "metadata": {
        "id": "6hfcrTkmwNJE",
        "colab_type": "code",
        "outputId": "e670447a-2696-43a6-a6b0-6a10067602a2",
        "colab": {
          "base_uri": "https://localhost:8080/",
          "height": 124
        }
      },
      "cell_type": "code",
      "source": [
        "!gsutil cp {VOCAB_CONFIG_PATH}/vocab.txt ./bert/model/patent/vocab.txt\n",
        "!gsutil cp {VOCAB_CONFIG_PATH}/bert_config.json ./bert/model/patent/bert_config.json"
      ],
      "execution_count": 0,
      "outputs": [
        {
          "output_type": "stream",
          "text": [
            "Copying gs://yohei-kikuta/mlstudy-phys/bert/models/pre-trained-models/uncased_L-12_H-768_A-12/vocab.txt...\n",
            "- [1 files][226.1 KiB/226.1 KiB]                                                \n",
            "Operation completed over 1 objects/226.1 KiB.                                    \n",
            "Copying gs://yohei-kikuta/mlstudy-phys/bert/models/pre-trained-models/uncased_L-12_H-768_A-12/bert_config.json...\n",
            "/ [1 files][  313.0 B/  313.0 B]                                                \n",
            "Operation completed over 1 objects/313.0 B.                                      \n"
          ],
          "name": "stdout"
        }
      ]
    },
    {
      "metadata": {
        "id": "XWPKTaJ8viYi",
        "colab_type": "code",
        "outputId": "c440d2ff-78bb-4bcf-f75b-aea11d2bd11c",
        "colab": {
          "base_uri": "https://localhost:8080/",
          "height": 35
        }
      },
      "cell_type": "code",
      "source": [
        "!ls ./bert/model/patent"
      ],
      "execution_count": 0,
      "outputs": [
        {
          "output_type": "stream",
          "text": [
            "bert_config.json  vocab.txt\n"
          ],
          "name": "stdout"
        }
      ]
    },
    {
      "metadata": {
        "id": "_7OoVrSLxX2i",
        "colab_type": "code",
        "colab": {}
      },
      "cell_type": "code",
      "source": [
        ""
      ],
      "execution_count": 0,
      "outputs": []
    },
    {
      "metadata": {
        "id": "LpSs4ff-xXc4",
        "colab_type": "code",
        "colab": {}
      },
      "cell_type": "code",
      "source": [
        "import sys\n",
        "sys.path.append(\"./bert\")"
      ],
      "execution_count": 0,
      "outputs": []
    },
    {
      "metadata": {
        "id": "_9U0S-hYxeMY",
        "colab_type": "code",
        "colab": {}
      },
      "cell_type": "code",
      "source": [
        "import os\n",
        "\n",
        "import modeling\n",
        "import optimization\n",
        "import tokenization\n",
        "\n",
        "from run_classifier import RteProcessor\n",
        "from run_classifier import model_fn_builder\n",
        "from run_classifier import file_based_input_fn_builder\n",
        "from run_classifier import file_based_convert_examples_to_features"
      ],
      "execution_count": 0,
      "outputs": []
    },
    {
      "metadata": {
        "id": "AburDQpQxd_k",
        "colab_type": "code",
        "colab": {}
      },
      "cell_type": "code",
      "source": [
        "bert_config = modeling.BertConfig.from_json_file(\"./bert/model/patent/bert_config.json\")"
      ],
      "execution_count": 0,
      "outputs": []
    },
    {
      "metadata": {
        "id": "-hGfDjS6x7fw",
        "colab_type": "code",
        "outputId": "50494fda-c13c-4c27-8486-d8b9c7a110ed",
        "colab": {
          "base_uri": "https://localhost:8080/",
          "height": 53
        }
      },
      "cell_type": "code",
      "source": [
        "BUCKET = 'karino2-uspatent' #@param {type:\"string\"}\n",
        "OUTPUT_DIR = 'gs://{}/mlstudy-phys/bert/models/patent_1000'.format(BUCKET)\n",
        "\n",
        "INIT_CHECK_POINT_FILE='model.ckpt-1602' #@param {type:\"string\"}\n",
        "INIT_CHECK_POINT = '{}/{}'.format(OUTPUT_DIR, INIT_CHECK_POINT_FILE)\n",
        "\n",
        "tf.gfile.MakeDirs(OUTPUT_DIR)\n",
        "print('***** Model output directory: {} *****'.format(OUTPUT_DIR))\n",
        "print('***** Init checkpoint: {} *****'.format(INIT_CHECK_POINT))"
      ],
      "execution_count": 0,
      "outputs": [
        {
          "output_type": "stream",
          "text": [
            "***** Model output directory: gs://karino2-uspatent/mlstudy-phys/bert/models/patent_1000 *****\n",
            "***** Init checkpoint: gs://karino2-uspatent/mlstudy-phys/bert/models/patent_1000/model.ckpt-1602 *****\n"
          ],
          "name": "stdout"
        }
      ]
    },
    {
      "metadata": {
        "id": "D7yRP7fE5qu2",
        "colab_type": "code",
        "colab": {}
      },
      "cell_type": "code",
      "source": [
        ""
      ],
      "execution_count": 0,
      "outputs": []
    },
    {
      "metadata": {
        "id": "OISS39WWxdxv",
        "colab_type": "code",
        "colab": {}
      },
      "cell_type": "code",
      "source": [
        "class FLAGS(object):\n",
        "    '''Parameters.'''\n",
        "    def __init__(self):\n",
        "        self.vocab_file = \"./bert/model/patent/vocab.txt\"\n",
        "        self.do_lower_case = True\n",
        "        self.use_tpu = True\n",
        "        self.output_dir = OUTPUT_DIR\n",
        "        # self.data_dir = \"./bert/data/1000\"\n",
        "        self.max_seq_length = 512\n",
        "        self.init_checkpoint = INIT_CHECK_POINT\n",
        "        self.predict_batch_size = 16\n",
        "        # TPU related\n",
        "        self.num_tpu_cores = 8\n",
        "        self.tpu_name = TPU_ADDRESS\n",
        "        \n",
        "        # The following parameters are not used in predictions.\n",
        "        # Just use to create RunConfig.\n",
        "        self.master = None\n",
        "        self.save_checkpoints_steps = 1\n",
        "        self.learning_rate = 0\n",
        "        self.num_warmup_steps = 0\n",
        "        self.num_train_steps = 0\n",
        "        # TPU related. Some of these value have positive int not to make TPUEstimator angry (even though these are not used...).\n",
        "        self.eval_batch_size = 32\n",
        "        self.train_batch_size = 32 \n",
        "        self.iterations_per_loop = 1000\n"
      ],
      "execution_count": 0,
      "outputs": []
    },
    {
      "metadata": {
        "id": "YjiBu4fzxdjY",
        "colab_type": "code",
        "colab": {}
      },
      "cell_type": "code",
      "source": [
        "FLAGS = FLAGS()"
      ],
      "execution_count": 0,
      "outputs": []
    },
    {
      "metadata": {
        "id": "Wvl80s6_zH_T",
        "colab_type": "code",
        "colab": {}
      },
      "cell_type": "code",
      "source": [
        "tokenizer = tokenization.FullTokenizer(\n",
        "    vocab_file=FLAGS.vocab_file, do_lower_case=FLAGS.do_lower_case)\n",
        "\n",
        "# tpu_cluster_resolver = tf.contrib.cluster_resolver.TPUClusterResolver(tpu=FLAGS.tpu_name).get_master()\n",
        "tpu_cluster_resolver = tf.contrib.cluster_resolver.TPUClusterResolver(tpu=FLAGS.tpu_name)\n",
        "\n",
        "is_per_host = tf.contrib.tpu.InputPipelineConfig.PER_HOST_V2\n",
        "\n",
        "run_config = tf.contrib.tpu.RunConfig(\n",
        "    cluster=tpu_cluster_resolver,\n",
        "    master=FLAGS.master,\n",
        "    model_dir=FLAGS.output_dir,\n",
        "    save_checkpoints_steps=FLAGS.save_checkpoints_steps,\n",
        "    tpu_config=tf.contrib.tpu.TPUConfig(\n",
        "        iterations_per_loop=FLAGS.iterations_per_loop,\n",
        "        num_shards=FLAGS.num_tpu_cores,\n",
        "        per_host_input_for_training=is_per_host))"
      ],
      "execution_count": 0,
      "outputs": []
    },
    {
      "metadata": {
        "id": "icN9SGPpzHxe",
        "colab_type": "code",
        "colab": {}
      },
      "cell_type": "code",
      "source": [
        "model_fn = model_fn_builder(\n",
        "    bert_config=bert_config,\n",
        "    num_labels=len([\"not_entailment\", \"entailment\"]),\n",
        "    init_checkpoint=FLAGS.init_checkpoint,\n",
        "    learning_rate=FLAGS.learning_rate,\n",
        "    num_train_steps=FLAGS.num_train_steps,\n",
        "    num_warmup_steps=FLAGS.num_warmup_steps,\n",
        "    use_tpu=FLAGS.use_tpu,\n",
        "    use_one_hot_embeddings=FLAGS.use_tpu)"
      ],
      "execution_count": 0,
      "outputs": []
    },
    {
      "metadata": {
        "id": "YOnW40GE9yTU",
        "colab_type": "code",
        "colab": {}
      },
      "cell_type": "code",
      "source": [
        "# https://github.com/kyzhouhzau/BERT-NER/issues/19\n",
        "\n",
        "def model_fn_wrapper(features, labels, mode, params):\n",
        "  tspec = model_fn(features, labels, mode, params)\n",
        "  pred_dict = {'predictions': tspec.predictions}\n",
        "  return tf.contrib.tpu.TPUEstimatorSpec(\n",
        "          mode=tspec.mode, predictions=pred_dict, scaffold_fn=tspec.scaffold_fn)\n"
      ],
      "execution_count": 0,
      "outputs": []
    },
    {
      "metadata": {
        "id": "rPgJuC0A9yAq",
        "colab_type": "code",
        "outputId": "e4f3330e-f309-47d7-fbc4-429da2ff0fe0",
        "colab": {
          "base_uri": "https://localhost:8080/",
          "height": 250
        }
      },
      "cell_type": "code",
      "source": [
        "estimator = tf.contrib.tpu.TPUEstimator(\n",
        "    use_tpu=FLAGS.use_tpu,\n",
        "    # model_fn=model_fn,\n",
        "    model_fn=model_fn_wrapper,\n",
        "    config=run_config,\n",
        "    train_batch_size=FLAGS.train_batch_size,\n",
        "    eval_batch_size=FLAGS.eval_batch_size,\n",
        "    predict_batch_size=FLAGS.predict_batch_size)"
      ],
      "execution_count": 0,
      "outputs": [
        {
          "output_type": "stream",
          "text": [
            "WARNING:tensorflow:Estimator's model_fn (<function model_fn_wrapper at 0x7f2f33a54268>) includes params argument, but params are not passed to Estimator.\n",
            "INFO:tensorflow:Using config: {'_model_dir': 'gs://karino2-uspatent/mlstudy-phys/bert/models/patent_1000', '_tf_random_seed': None, '_save_summary_steps': 100, '_save_checkpoints_steps': 1, '_save_checkpoints_secs': None, '_session_config': allow_soft_placement: true\n",
            "cluster_def {\n",
            "  job {\n",
            "    name: \"worker\"\n",
            "    tasks {\n",
            "      value: \"10.82.235.170:8470\"\n",
            "    }\n",
            "  }\n",
            "}\n",
            ", '_keep_checkpoint_max': 5, '_keep_checkpoint_every_n_hours': 10000, '_log_step_count_steps': None, '_train_distribute': None, '_device_fn': None, '_protocol': None, '_eval_distribute': None, '_experimental_distribute': None, '_service': None, '_cluster_spec': <tensorflow.python.training.server_lib.ClusterSpec object at 0x7f2f33aad9b0>, '_task_type': 'worker', '_task_id': 0, '_global_id_in_cluster': 0, '_master': b'grpc://10.82.235.170:8470', '_evaluation_master': b'grpc://10.82.235.170:8470', '_is_chief': True, '_num_ps_replicas': 0, '_num_worker_replicas': 1, '_tpu_config': TPUConfig(iterations_per_loop=1000, num_shards=8, num_cores_per_replica=None, per_host_input_for_training=3, tpu_job_name=None, initial_infeed_sleep_secs=None, input_partition_dims=None), '_cluster': <tensorflow.contrib.cluster_resolver.python.training.tpu_cluster_resolver.TPUClusterResolver object at 0x7f2f33e5d358>}\n",
            "INFO:tensorflow:_TPUContext: eval_on_tpu True\n"
          ],
          "name": "stdout"
        }
      ]
    },
    {
      "metadata": {
        "id": "FUIrPJXgHAzY",
        "colab_type": "text"
      },
      "cell_type": "markdown",
      "source": [
        "### Adjust testset data to bert\n",
        "\n",
        "On evaluation, we need some pair of\n",
        "app2017-grants2012 claims.\n",
        "\n",
        "I try to cerate one-app to all grants2012 pair and tokenize here.\n",
        "If it takes too long times, I'll write more clever code.\n",
        "\n"
      ]
    },
    {
      "metadata": {
        "id": "FjGx4m-iGcMn",
        "colab_type": "code",
        "colab": {}
      },
      "cell_type": "code",
      "source": [
        "grants_target_df[\"claim\"] = grants_target_df[\"xml\"].map(whole_xml_to_claim)"
      ],
      "execution_count": 0,
      "outputs": []
    },
    {
      "metadata": {
        "id": "F4TVptfsIsId",
        "colab_type": "code",
        "outputId": "b8d26fe7-f43c-4256-a4b3-cbcf027e0b52",
        "colab": {
          "base_uri": "https://localhost:8080/",
          "height": 204
        }
      },
      "cell_type": "code",
      "source": [
        "grants_target_df.head()"
      ],
      "execution_count": 0,
      "outputs": [
        {
          "output_type": "execute_result",
          "data": {
            "text/html": [
              "<div>\n",
              "<style scoped>\n",
              "    .dataframe tbody tr th:only-of-type {\n",
              "        vertical-align: middle;\n",
              "    }\n",
              "\n",
              "    .dataframe tbody tr th {\n",
              "        vertical-align: top;\n",
              "    }\n",
              "\n",
              "    .dataframe thead th {\n",
              "        text-align: right;\n",
              "    }\n",
              "</style>\n",
              "<table border=\"1\" class=\"dataframe\">\n",
              "  <thead>\n",
              "    <tr style=\"text-align: right;\">\n",
              "      <th></th>\n",
              "      <th>parsed</th>\n",
              "      <th>xml</th>\n",
              "      <th>claim</th>\n",
              "    </tr>\n",
              "  </thead>\n",
              "  <tbody>\n",
              "    <tr>\n",
              "      <th>0</th>\n",
              "      <td>6837383</td>\n",
              "      <td>&lt;us-patent-grant lang=\"EN\" dtd-version=\"v40 20...</td>\n",
              "      <td>\\n \\n 1. A tool organizer for mounting to and ...</td>\n",
              "    </tr>\n",
              "    <tr>\n",
              "      <th>1</th>\n",
              "      <td>6837647</td>\n",
              "      <td>&lt;us-patent-grant lang=\"EN\" dtd-version=\"v40 20...</td>\n",
              "      <td>\\n \\n 1. A modular crowd and traffic control b...</td>\n",
              "    </tr>\n",
              "    <tr>\n",
              "      <th>2</th>\n",
              "      <td>6837799</td>\n",
              "      <td>&lt;us-patent-grant lang=\"EN\" dtd-version=\"v40 20...</td>\n",
              "      <td>\\n \\n 1. A method of aligning a putter, compri...</td>\n",
              "    </tr>\n",
              "    <tr>\n",
              "      <th>3</th>\n",
              "      <td>6837893</td>\n",
              "      <td>&lt;us-patent-grant lang=\"EN\" dtd-version=\"v40 20...</td>\n",
              "      <td>\\n \\n 1. Apparatus for inserting a surgical fa...</td>\n",
              "    </tr>\n",
              "    <tr>\n",
              "      <th>4</th>\n",
              "      <td>6837910</td>\n",
              "      <td>&lt;us-patent-grant lang=\"EN\" dtd-version=\"v40 20...</td>\n",
              "      <td>\\n \\n 1. An apparatus for gasifying a liquid o...</td>\n",
              "    </tr>\n",
              "  </tbody>\n",
              "</table>\n",
              "</div>"
            ],
            "text/plain": [
              "    parsed                                                xml  \\\n",
              "0  6837383  <us-patent-grant lang=\"EN\" dtd-version=\"v40 20...   \n",
              "1  6837647  <us-patent-grant lang=\"EN\" dtd-version=\"v40 20...   \n",
              "2  6837799  <us-patent-grant lang=\"EN\" dtd-version=\"v40 20...   \n",
              "3  6837893  <us-patent-grant lang=\"EN\" dtd-version=\"v40 20...   \n",
              "4  6837910  <us-patent-grant lang=\"EN\" dtd-version=\"v40 20...   \n",
              "\n",
              "                                               claim  \n",
              "0  \\n \\n 1. A tool organizer for mounting to and ...  \n",
              "1  \\n \\n 1. A modular crowd and traffic control b...  \n",
              "2  \\n \\n 1. A method of aligning a putter, compri...  \n",
              "3  \\n \\n 1. Apparatus for inserting a surgical fa...  \n",
              "4  \\n \\n 1. An apparatus for gasifying a liquid o...  "
            ]
          },
          "metadata": {
            "tags": []
          },
          "execution_count": 48
        }
      ]
    },
    {
      "metadata": {
        "id": "ykvWfMErIsEl",
        "colab_type": "code",
        "outputId": "31bafe84-ac32-4b7a-e836-92c4bb913b47",
        "colab": {
          "base_uri": "https://localhost:8080/",
          "height": 35
        }
      },
      "cell_type": "code",
      "source": [
        "testset_app_claims.shape"
      ],
      "execution_count": 0,
      "outputs": [
        {
          "output_type": "execute_result",
          "data": {
            "text/plain": [
              "(1000,)"
            ]
          },
          "metadata": {
            "tags": []
          },
          "execution_count": 49
        }
      ]
    },
    {
      "metadata": {
        "id": "edUYw6QmI3ot",
        "colab_type": "code",
        "colab": {}
      },
      "cell_type": "code",
      "source": [
        "small_testset = testset_app_claims[0:10]"
      ],
      "execution_count": 0,
      "outputs": []
    },
    {
      "metadata": {
        "id": "Gpzp_yvXI3lt",
        "colab_type": "code",
        "outputId": "7489f326-e4ba-4e9a-9e06-380da83f9e21",
        "colab": {
          "base_uri": "https://localhost:8080/",
          "height": 35
        }
      },
      "cell_type": "code",
      "source": [
        "small_testset.shape"
      ],
      "execution_count": 0,
      "outputs": [
        {
          "output_type": "execute_result",
          "data": {
            "text/plain": [
              "(10,)"
            ]
          },
          "metadata": {
            "tags": []
          },
          "execution_count": 51
        }
      ]
    },
    {
      "metadata": {
        "id": "ZMmFqXe8I3jR",
        "colab_type": "code",
        "outputId": "73395656-2f39-4707-c631-ad20b509d2b6",
        "colab": {
          "base_uri": "https://localhost:8080/",
          "height": 35
        }
      },
      "cell_type": "code",
      "source": [
        "small_testset.index"
      ],
      "execution_count": 0,
      "outputs": [
        {
          "output_type": "execute_result",
          "data": {
            "text/plain": [
              "RangeIndex(start=0, stop=10, step=1)"
            ]
          },
          "metadata": {
            "tags": []
          },
          "execution_count": 54
        }
      ]
    },
    {
      "metadata": {
        "id": "iH3n_peyI3hL",
        "colab_type": "code",
        "colab": {}
      },
      "cell_type": "code",
      "source": [
        "small_grants = grants_target_df.head()"
      ],
      "execution_count": 0,
      "outputs": []
    },
    {
      "metadata": {
        "id": "uiw44FApJu2m",
        "colab_type": "code",
        "colab": {}
      },
      "cell_type": "code",
      "source": [
        "input_claims = small_testset\n",
        "candidate_grants = small_grants"
      ],
      "execution_count": 0,
      "outputs": []
    },
    {
      "metadata": {
        "id": "suPIbi6rSXRx",
        "colab_type": "code",
        "colab": {}
      },
      "cell_type": "code",
      "source": [
        "input_claims = small_testset\n",
        "candidate_grants = grants_target_df"
      ],
      "execution_count": 0,
      "outputs": []
    },
    {
      "metadata": {
        "id": "vVrmPz5nJjh9",
        "colab_type": "code",
        "colab": {}
      },
      "cell_type": "code",
      "source": [
        "tupples = []\n",
        "\n",
        "for i, claim in enumerate(input_claims):\n",
        "  tupples.extend([{\"index\":\"{}_{}\".format(i, grants.parsed), \"claim_app\":claim, \"claim_cited_grant\":grants.claim} for _, grants in candidate_grants.iterrows()])\n"
      ],
      "execution_count": 0,
      "outputs": []
    },
    {
      "metadata": {
        "id": "uZ1ZfSVZI3dm",
        "colab_type": "code",
        "outputId": "59c01588-4178-4f8e-b828-6d0ab9be060a",
        "colab": {
          "base_uri": "https://localhost:8080/",
          "height": 304
        }
      },
      "cell_type": "code",
      "source": [
        "tupples[0:5]"
      ],
      "execution_count": 0,
      "outputs": [
        {
          "output_type": "execute_result",
          "data": {
            "text/plain": [
              "[{'claim_app': '\\n \\n  1 . A method to aggregate, filter, and share energy data for analysis, the method comprising:\\n receiving first data associated with a first electrical circuit, the first data having a first protocol; \\n sampling the first data at a first sampling rate to generate first digital data, wherein the first sampling rate is substantially continuous; and \\n transmitting reporting digital data over a network having a network protocol different from the first protocol, the reporting digital data comprising at least the first digital data, wherein the reporting digital data is transmitted at a reporting rate that is decoupled from the first sampling rate. \\n \\n \\n \\n  2 . The method of  claim 1  further comprising:\\n receiving second data associated with a second electrical circuit, the second data having a second protocol different from the first protocol; and \\n sampling the second data at a second sampling rate to generate second digital data, wherein the second sampling rate is substantially continuous; \\n wherein the network protocol is different from the first protocol and the second protocol, wherein the reporting digital data comprises at least one of the first digital data and the second digital data, and wherein the reporting digital data is transmitted at the reporting rate that is decoupled from the first sampling rate and the second sampling rate. \\n \\n \\n \\n  3 . The method of  claim 1  wherein the reporting rate is substantially continuous. \\n \\n \\n  4 . The method of  claim 2  further comprising:\\n validating the first digital data and the second digital data to remove erroneous data points and to provide validated data; \\n removing redundant data points from the validated data to provide reduced data; and \\n transmitting messages based at least in part on the reduced data over the network. \\n \\n \\n \\n  5 . The method of  claim 2  further comprising analyzing the first data and the second data and transmitting messages comprising control signals for load control of at least one of the first and the second electrical circuits based on the analysis of the first data and the second data. \\n \\n \\n  6 . The method of  claim 2  further comprising receiving control signals for load control of at least one of the first electrical circuit and the second electrical circuit. \\n \\n \\n  7 . The method of  claim 1  wherein the network comprises the Internet, wherein the network is accessed by one or more of wired access and wireless access. \\n \\n \\n  8 . The method of  claim 1  wherein the network comprises one or more servers in a cloud configuration. \\n \\n \\n  9 . The method of  claim 2  further comprising storing at least one of the first digital data, the second digital data, and the reporting digital data until confirmation that the third digital data is successfully transmitted over the network. \\n \\n \\n  10 . The method of  claim 1  wherein receiving the first electrical signal comprises receiving at least one of amplitude, phase, voltage, current, fundamental energy component, harmonic energy components, intermodulation energy components, and transient energy components associated with the first electrical signal. \\n \\n \\n  11 . The method of  claim 1  wherein the first sampling rate is between approximately once every 15 minutes to approximately 1 MHz. \\n \\n \\n  12 . An apparatus to aggregate, filter, and share energy data for analysis, the apparatus comprising:\\n a first input configured to receive first data associated with a first electrical circuit, the first data having a first protocol; \\n first circuitry configured to sample the first data at a first sampling rate to generate first digital data, wherein the first sampling rate is substantially continuous; and \\n a communication port configured to transmit reporting digital data over a network having a network protocol different from the first protocol, the reporting digital data comprising at least the first digital data, wherein the reporting digital data is transmitted at a reporting rate that is decoupled from the first sampling rate. \\n \\n \\n \\n  13 . The apparatus of  claim 12  further comprising:\\n a second input configured to receive second data associated with a second electrical circuit, the second data having a second protocol different from the first protocol; and \\n second circuitry configured to sample the second data at a second sampling rate to generate second digital data, wherein the second sampling rate is substantially continuous; \\n wherein the communication port is further configured to transmit the reporting digital data over the network having the network protocol different from the first protocol and the second protocol, the reporting digital data comprising at least one of the first digital data and the second digital data, and wherein the reporting digital data is transmitted at the reporting rate that is decoupled from the first sampling rate and the second sampling rate. \\n \\n \\n \\n  14 . The apparatus of  claim 12  wherein the reporting rate is substantially continuous. \\n \\n \\n  15 . The apparatus of  claim 13  further comprising:\\n computer hardware configured to validate the first digital data and the second digital data to remove erroneous data points and to provide validated data; and \\n computer hardware configured to remove redundant data points from the validated data to provide reduced data; \\n wherein the communication port is further configured to transmit messages based at least in part on the reduced data over the network. \\n \\n \\n \\n  16 . The apparatus of  claim 15  further comprising computer hardware configured to perform energy calculations on the reduced data to provide calculated energy data, wherein the computer hardware comprises cloud-based servers. \\n \\n \\n  17 . The apparatus of  claim 16  wherein the calculated energy data comprises at least one of line-to-line and line-to-current voltage, total power, active power, reactive power, line-to-line and line-to-neutral current, power factor, fundamental and harmonic total energy per phase, fundamental and harmonic total energy for the sum of phases, fundamental and harmonic active energy per phase, fundamental and harmonic active energy for the sum of phases, fundamental and harmonic reactive energy per phase, fundamental and harmonic reactive energy for the sum of phases, frequency, harmonic frequency, gas usage, chilled water usage, hot water usage, and total energy usage. \\n \\n \\n  18 . The apparatus of  claim 13  further comprising analytics configured to analyze the first data and the second data and to provide messages comprising control signals for load control of at least one of the first electrical circuit and the second electrical circuit based on the analysis of the first data and the second data. \\n \\n \\n  19 . The apparatus of  claim 13  wherein the communication port is further configured to receive control signals for load control of at least one of the first electrical circuit and the second electrical circuit. \\n \\n \\n  20 . The apparatus of  claim 12  wherein the network comprises the Internet, and wherein the network is accessed by one or more of wired access and wireless access. \\n \\n \\n  21 . The apparatus of  claim 12  wherein the network comprises one or more servers in a cloud configuration. \\n \\n \\n  22 . The apparatus of  claim 13  further comprising memory configured to store at least one of the first digital data, the second digital data, and the reporting digital data until confirmation that the reporting digital data is successfully transmitted over the network. \\n \\n \\n  23 . The apparatus of  claim 12  wherein the first electrical signal comprises at least one of amplitude, phase, voltage, current, fundamental energy component, harmonic energy components, intermodulation energy components, and transient energy components associated with first electrical signal. \\n \\n \\n  24 . The apparatus of  claim 12  wherein the first sampling rate is between approximately once every 15 minutes to approximately 1 MHz. \\n \\n',\n",
              "  'claim_cited_grant': '\\n \\n 1. A tool organizer for mounting to and adapted for use with a vehicle lift rack having support arms, said tool organizer comprising:\\n four upstanding walls depending from a base and forming a storage volume for storing a plurality of tools and parts;  \\n a selectively articulating lid enclosing said storage volume;  \\n adjustable attachment means depending from said storage volume, said attachment means removably attachable to said support arms for supporting said tool organizer by gravity impingement;  \\n a U-shaped ring affixed to an external portion of at least one of said walls, said ring for supporting a hand tool;  \\n a support plate projected from a front of said tool organizer and co-extensive with said base;  \\n a plurality of intermediate apertures formed in said support plate, said plurality of intermediate apertures adapted sized to accommodate intermediate and large hand tools;  \\n a plurality of small apertures formed in said support plate, said plurality of small apertures adapted to accommodate small hand tools;  \\n at least one large aperture formed in said support plate, said at least one large aperture adapted to accommodate a container.  \\n \\n \\n \\n 2. The tool organizer of  claim 1  further comprising a slidably retained storage drawer provided beneath said base and said support plate for additional storage area, said base and said support plate operating as an enclosure for said storage drawer. \\n \\n \\n 3. The tool organizer of  claim 2 , wherein a face of said storage drawer is co-extensive with an anterior margin of said support plate, said storage drawer further comprising a handle for easily grasping for selectively opening and closing said storage drawer. \\n \\n \\n 4. The tool organizer of  claim 1 , wherein said tool organizer rests cantilevered to said support arms, thereby positioning said storage volume below a horizontal level of said support arms. \\n \\n \\n 5. The tool organizer of  claim 1 , wherein said four upstanding walls comprise a front wall opposite a rear wall, a first sidewall opposite a second sidewall, wherein said first sidewall and said second sidewall are intermediately disposed between said front wall and said rear wall. \\n \\n \\n 6. The tool organizer of  claim 5 , wherein said rear wall comprises a greater vertical profile than said front wall for providing ease of access to said storage volume. \\n \\n \\n 7. The tool organizer of  claim 5 , wherein said first sidewall and said second sidewall are inclined from said front wall to said rear wall for providing ease of access to said storage volume. \\n \\n \\n 8. The tool organizer of  claim 1 , wherein said lid is affixed to said storage volume by an articulating hinge. \\n \\n \\n 9. The tool organizer of  claim 1 , wherein said lid comprises a lock for securing contents of said storage volume from unauthorized removal and theft. \\n \\n \\n 10. The tool organizer of  claim 1 , wherein said attachment means comprise at least one hook adjustable in length to accommodate variations in widths of said support arms. \\n \\n \\n 11. The tool organizer of  claim 1 , wherein at least one of said upstanding walls comprises magnetic properties for attracting and supporting magnetic objects. \\n \\n \\n 12. The tool organizer of  claim 1 , wherein said tool organizer comprises a color in a general class of yellow for providing visual indication of said tool organizer location. \\n \\n',\n",
              "  'index': '0_6837383'},\n",
              " {'claim_app': '\\n \\n  1 . A method to aggregate, filter, and share energy data for analysis, the method comprising:\\n receiving first data associated with a first electrical circuit, the first data having a first protocol; \\n sampling the first data at a first sampling rate to generate first digital data, wherein the first sampling rate is substantially continuous; and \\n transmitting reporting digital data over a network having a network protocol different from the first protocol, the reporting digital data comprising at least the first digital data, wherein the reporting digital data is transmitted at a reporting rate that is decoupled from the first sampling rate. \\n \\n \\n \\n  2 . The method of  claim 1  further comprising:\\n receiving second data associated with a second electrical circuit, the second data having a second protocol different from the first protocol; and \\n sampling the second data at a second sampling rate to generate second digital data, wherein the second sampling rate is substantially continuous; \\n wherein the network protocol is different from the first protocol and the second protocol, wherein the reporting digital data comprises at least one of the first digital data and the second digital data, and wherein the reporting digital data is transmitted at the reporting rate that is decoupled from the first sampling rate and the second sampling rate. \\n \\n \\n \\n  3 . The method of  claim 1  wherein the reporting rate is substantially continuous. \\n \\n \\n  4 . The method of  claim 2  further comprising:\\n validating the first digital data and the second digital data to remove erroneous data points and to provide validated data; \\n removing redundant data points from the validated data to provide reduced data; and \\n transmitting messages based at least in part on the reduced data over the network. \\n \\n \\n \\n  5 . The method of  claim 2  further comprising analyzing the first data and the second data and transmitting messages comprising control signals for load control of at least one of the first and the second electrical circuits based on the analysis of the first data and the second data. \\n \\n \\n  6 . The method of  claim 2  further comprising receiving control signals for load control of at least one of the first electrical circuit and the second electrical circuit. \\n \\n \\n  7 . The method of  claim 1  wherein the network comprises the Internet, wherein the network is accessed by one or more of wired access and wireless access. \\n \\n \\n  8 . The method of  claim 1  wherein the network comprises one or more servers in a cloud configuration. \\n \\n \\n  9 . The method of  claim 2  further comprising storing at least one of the first digital data, the second digital data, and the reporting digital data until confirmation that the third digital data is successfully transmitted over the network. \\n \\n \\n  10 . The method of  claim 1  wherein receiving the first electrical signal comprises receiving at least one of amplitude, phase, voltage, current, fundamental energy component, harmonic energy components, intermodulation energy components, and transient energy components associated with the first electrical signal. \\n \\n \\n  11 . The method of  claim 1  wherein the first sampling rate is between approximately once every 15 minutes to approximately 1 MHz. \\n \\n \\n  12 . An apparatus to aggregate, filter, and share energy data for analysis, the apparatus comprising:\\n a first input configured to receive first data associated with a first electrical circuit, the first data having a first protocol; \\n first circuitry configured to sample the first data at a first sampling rate to generate first digital data, wherein the first sampling rate is substantially continuous; and \\n a communication port configured to transmit reporting digital data over a network having a network protocol different from the first protocol, the reporting digital data comprising at least the first digital data, wherein the reporting digital data is transmitted at a reporting rate that is decoupled from the first sampling rate. \\n \\n \\n \\n  13 . The apparatus of  claim 12  further comprising:\\n a second input configured to receive second data associated with a second electrical circuit, the second data having a second protocol different from the first protocol; and \\n second circuitry configured to sample the second data at a second sampling rate to generate second digital data, wherein the second sampling rate is substantially continuous; \\n wherein the communication port is further configured to transmit the reporting digital data over the network having the network protocol different from the first protocol and the second protocol, the reporting digital data comprising at least one of the first digital data and the second digital data, and wherein the reporting digital data is transmitted at the reporting rate that is decoupled from the first sampling rate and the second sampling rate. \\n \\n \\n \\n  14 . The apparatus of  claim 12  wherein the reporting rate is substantially continuous. \\n \\n \\n  15 . The apparatus of  claim 13  further comprising:\\n computer hardware configured to validate the first digital data and the second digital data to remove erroneous data points and to provide validated data; and \\n computer hardware configured to remove redundant data points from the validated data to provide reduced data; \\n wherein the communication port is further configured to transmit messages based at least in part on the reduced data over the network. \\n \\n \\n \\n  16 . The apparatus of  claim 15  further comprising computer hardware configured to perform energy calculations on the reduced data to provide calculated energy data, wherein the computer hardware comprises cloud-based servers. \\n \\n \\n  17 . The apparatus of  claim 16  wherein the calculated energy data comprises at least one of line-to-line and line-to-current voltage, total power, active power, reactive power, line-to-line and line-to-neutral current, power factor, fundamental and harmonic total energy per phase, fundamental and harmonic total energy for the sum of phases, fundamental and harmonic active energy per phase, fundamental and harmonic active energy for the sum of phases, fundamental and harmonic reactive energy per phase, fundamental and harmonic reactive energy for the sum of phases, frequency, harmonic frequency, gas usage, chilled water usage, hot water usage, and total energy usage. \\n \\n \\n  18 . The apparatus of  claim 13  further comprising analytics configured to analyze the first data and the second data and to provide messages comprising control signals for load control of at least one of the first electrical circuit and the second electrical circuit based on the analysis of the first data and the second data. \\n \\n \\n  19 . The apparatus of  claim 13  wherein the communication port is further configured to receive control signals for load control of at least one of the first electrical circuit and the second electrical circuit. \\n \\n \\n  20 . The apparatus of  claim 12  wherein the network comprises the Internet, and wherein the network is accessed by one or more of wired access and wireless access. \\n \\n \\n  21 . The apparatus of  claim 12  wherein the network comprises one or more servers in a cloud configuration. \\n \\n \\n  22 . The apparatus of  claim 13  further comprising memory configured to store at least one of the first digital data, the second digital data, and the reporting digital data until confirmation that the reporting digital data is successfully transmitted over the network. \\n \\n \\n  23 . The apparatus of  claim 12  wherein the first electrical signal comprises at least one of amplitude, phase, voltage, current, fundamental energy component, harmonic energy components, intermodulation energy components, and transient energy components associated with first electrical signal. \\n \\n \\n  24 . The apparatus of  claim 12  wherein the first sampling rate is between approximately once every 15 minutes to approximately 1 MHz. \\n \\n',\n",
              "  'claim_cited_grant': '\\n \\n 1. A modular crowd and traffic control barrier, comprising:\\n a plurality, of barrier sections with each barrier section of said plurality of barrier sections comprising a male end and a female end, a base portion and an upright portion having one or more projections at each said male end and said female end of each said barrier section;  \\n a plurality of reinforcing strips;  \\n a plurality of hinge pins;  \\n a tension member for attaching each reinforcing strip of said plurality of reinforcing strips to a respective said barrier section, wherein said tension member passes through aligned apertures in said reinforcing strip and said barrier section;  \\n at least one reinforcing bracket for spanning between two adjacent said barrier sections, said at least one reinforcing bracket having an aperture, wherein said at least one reinforcing bracket is to be retained in place by at least one said tension member of each said barrier section passing through the aperture in said reinforcing bracket,  \\n wherein for each said barrier section there is another barrier section of said plurality of barrier sections so that when said female end of a first said barrier section is brought adjacent to said male end of a second said barrier section, said one or more projections of each of said female end and of said male end mate with one another, thereby allowing a hinge pin of said plurality of hinge pins to be passable through said projections for articulating adjacent said barrier sections together; and,  \\n wherein said attachment of said plurality of reinforcing strips to said respective said barrier sections continues to permit adjacent said barrier sections to be articulated to one another, while increasing resistance of said modular crowd and traffic control barrier constructed from said plurality of barrier sections to lateral impact forces for traffic control.  \\n \\n \\n \\n 2. The modular crowd and traffic control barrier according to  claim 1 , wherein said upright portion of each said barrier section is comparatively narrow and said base portion is comparatively wide and includes, at said female end of said barrier section, a nose having a surface that is a first surface of rotation and, at said male end, a cavity having a surface that is a second surface of rotation, so that when adjacent said barrier sections are articulated to one another, said cavity accommodates said nose for preventing any gaps from opening up between said base portion of each said barrier section of adjacent said barrier sections as said barrier sections are articulated relative to one another about said hinge pin. \\n \\n \\n 3. The modular crowd and traffic control barrier according to  claim 1 , wherein there are two reinforcing strips of said plurality of reinforcing strips for each said barrier section with said means for attaching each said reinforcing strip to a respective said barrier section being adapted for attaching one said reinforcing strip to each side of a respective said barrier section. \\n \\n \\n 4. The modular crowd and traffic control barrier according to  claim 1 , wherein said tension member is a bolt to be tensioned by a cooperating nut. \\n \\n \\n 5. The modular crowd and traffic control barrier according to  claim 1 , wherein said tension member includes at least one washer for bearing against at least one of said barrier section or said reinforcing strip as said tension member is tensioned. \\n \\n \\n 6. The modular crowd and traffic control barrier according to  claim 5 , wherein said at least one washer is shaped for matching a shape of a recess surrounding the apertures in said reinforcing strip or said barrier section through which said tension member passes. \\n \\n \\n 7. The modular crowd and traffic control barrier according to  claim 1 , further comprising additional said tension members. \\n \\n \\n 8. The modular crowd and traffic control barrier according to  claim 1 , wherein at least one aperture in said reinforcing bracket is a substantially horizontal slot. \\n \\n \\n 9. The modular crowd and traffic control barrier according to  claim 1 , wherein said reinforcing bracket is located between said reinforcing strips and said barrier sections. \\n \\n \\n 10. The modular crowd and traffic control barrier according to  claim 1 , wherein said reinforcing bracket is located with said reinforcing strip being between said reinforcing bracket and said barrier section. \\n \\n \\n 11. The modular crowd and traffic control barrier according to  claim 1 , further comprising an additional reinforcing bracket with said reinforcing bracket and said additional reinforcing bracket spanning between two adjacent said barrier sections with said reinforcing bracket being on a first side of said barrier sections and said additional reinforcing bracket being on a second side of said barrier sections, said first side and said second side being opposite sides of said barrier sections, with said reinforcing bracket and said additional reinforcing bracket being retained in place by at least one said tension member of each said barrier section passing through apertures in said reinforcing bracket and said additional reinforcing bracket. \\n \\n \\n 12. The modular crowd and traffic control barrier according to  claim 1 , wherein each said barrier section of said plurality of barrier sections is substantially identical. \\n \\n \\n 13. The modular crowd and traffic control barrier according to  claim 1 , wherein for each said one or more projections on said first said end of said barrier section, a corresponding recess is provided on said second said end. \\n \\n \\n 14. The modular crowd and traffic control barrier according to  claim 13 , wherein for each said one or more projections a surface that is a surface of rotation is provided with said corresponding recess being correspondingly shaped. \\n \\n \\n 15. The modular crowd and traffic control barrier according to  claim 14 , wherein for each said one or more projections wherein said surface of rotation of each said one or more projections is part-cylindrical. \\n \\n \\n 16. The modular crowd and traffic control barrier according to  claim 2 , wherein each of said one or more projections of a said barrier section has a bore and, when said female end of said first said barrier section is brought adjacent to said male end of an adjacent said second said barrier section, so that said nose is accommodated in said cavity, said bore in each of said one or more projections lines up thereby allowing said hinge pin to be passed through said one or more projections for articulating said barrier sections together. \\n \\n \\n 17. The modular crowd and traffic control barrier according to  claim 16 , wherein said nose further includes a bore for allowing said hinge pin to pass through the bore of said nose. \\n \\n \\n 18. The modular crowd and traffic control barrier according to  claim 2 , wherein said hinge pin has a male thread for engaging with a female thread in a dome-shaped cap, said nose of said first said barrier section having a domed-shaped recess for accommodating said dome-shaped cap. \\n \\n \\n 19. The modular crowd and traffic control barrier according to  claim 1 , further comprising tension straps wherein said plurality of barrier sections are held together by said tension straps encircling adjacent said barrier sections, said tension straps crossing from a first side of said modular crowd and traffic control barrier to a second side of said modular crowd and traffic control barrier between said adjacent said barrier sections, said first side being a side opposite said second side of said modular crowd and traffic control barrier. \\n \\n \\n 20. The modular crowd and traffic control barrier according to  claim 19 , wherein said upright portion of each said barrier section has grooves for accommodating said tension straps. \\n \\n \\n 21. A modular crowd and traffic control barrier, comprising:\\n a plurality of barrier sections with each barrier section of said plurality of barrier sections comprising a base portion and an upright portion having one or more projections at each end of each said barrier section with a first said end being a female end of said barrier section and a second said end being a male end of said barrier section;  \\n a plurality of reinforcing strips;  \\n a plurality of hinge pins, said upright portion of each said barrier section is comparatively narrow and said base portion is comparatively wide and includes, at said female end of said barrier section, a nose having a surface that is a first surface of rotation and, at said male end, a cavity having a surface that is a second surface of rotation, so that when adjacent said barrier sections are articulated to one another, said cavity accommodates said nose for preventing any gaps from opening up between said base portion of each said barrier section of adjacent said barrier sections as said barrier sections are articulated relative to one another about a hinge pin of said plurality of hinge pins, said hinge pin having a male thread for engaging with a female thread in a dome-shaped cap, said nose of a first said barrier section having a domed-shaped recess for accommodating said dome-shaped cap; and,  \\n means for attaching each reinforcing, strip of said plurality of reinforcing strips to a respective said barrier section,  \\n wherein for each said barrier section there is another barrier section of said plurality of barrier sections so that when said female end of a first said barrier section is brought adjacent to said male end of a second said barrier section, said one or more projections of each of said female end and of said male end mate with one another, thereby allowing a hinge pin of said plurality of hinge pins to be passable through said projections for articulating adjacent said barrier sections together, and  \\n wherein said attachment of said plurality of reinforcing strips to said respective said barrier sections continues to permit adjacent said barrier sections to be articulated to one another, while increasing resistance of said modular crowd and traffic control barrier constructed from said plurality of barrier sections to lateral impact forces for traffic control. \\n \\n \\n',\n",
              "  'index': '0_6837647'},\n",
              " {'claim_app': '\\n \\n  1 . A method to aggregate, filter, and share energy data for analysis, the method comprising:\\n receiving first data associated with a first electrical circuit, the first data having a first protocol; \\n sampling the first data at a first sampling rate to generate first digital data, wherein the first sampling rate is substantially continuous; and \\n transmitting reporting digital data over a network having a network protocol different from the first protocol, the reporting digital data comprising at least the first digital data, wherein the reporting digital data is transmitted at a reporting rate that is decoupled from the first sampling rate. \\n \\n \\n \\n  2 . The method of  claim 1  further comprising:\\n receiving second data associated with a second electrical circuit, the second data having a second protocol different from the first protocol; and \\n sampling the second data at a second sampling rate to generate second digital data, wherein the second sampling rate is substantially continuous; \\n wherein the network protocol is different from the first protocol and the second protocol, wherein the reporting digital data comprises at least one of the first digital data and the second digital data, and wherein the reporting digital data is transmitted at the reporting rate that is decoupled from the first sampling rate and the second sampling rate. \\n \\n \\n \\n  3 . The method of  claim 1  wherein the reporting rate is substantially continuous. \\n \\n \\n  4 . The method of  claim 2  further comprising:\\n validating the first digital data and the second digital data to remove erroneous data points and to provide validated data; \\n removing redundant data points from the validated data to provide reduced data; and \\n transmitting messages based at least in part on the reduced data over the network. \\n \\n \\n \\n  5 . The method of  claim 2  further comprising analyzing the first data and the second data and transmitting messages comprising control signals for load control of at least one of the first and the second electrical circuits based on the analysis of the first data and the second data. \\n \\n \\n  6 . The method of  claim 2  further comprising receiving control signals for load control of at least one of the first electrical circuit and the second electrical circuit. \\n \\n \\n  7 . The method of  claim 1  wherein the network comprises the Internet, wherein the network is accessed by one or more of wired access and wireless access. \\n \\n \\n  8 . The method of  claim 1  wherein the network comprises one or more servers in a cloud configuration. \\n \\n \\n  9 . The method of  claim 2  further comprising storing at least one of the first digital data, the second digital data, and the reporting digital data until confirmation that the third digital data is successfully transmitted over the network. \\n \\n \\n  10 . The method of  claim 1  wherein receiving the first electrical signal comprises receiving at least one of amplitude, phase, voltage, current, fundamental energy component, harmonic energy components, intermodulation energy components, and transient energy components associated with the first electrical signal. \\n \\n \\n  11 . The method of  claim 1  wherein the first sampling rate is between approximately once every 15 minutes to approximately 1 MHz. \\n \\n \\n  12 . An apparatus to aggregate, filter, and share energy data for analysis, the apparatus comprising:\\n a first input configured to receive first data associated with a first electrical circuit, the first data having a first protocol; \\n first circuitry configured to sample the first data at a first sampling rate to generate first digital data, wherein the first sampling rate is substantially continuous; and \\n a communication port configured to transmit reporting digital data over a network having a network protocol different from the first protocol, the reporting digital data comprising at least the first digital data, wherein the reporting digital data is transmitted at a reporting rate that is decoupled from the first sampling rate. \\n \\n \\n \\n  13 . The apparatus of  claim 12  further comprising:\\n a second input configured to receive second data associated with a second electrical circuit, the second data having a second protocol different from the first protocol; and \\n second circuitry configured to sample the second data at a second sampling rate to generate second digital data, wherein the second sampling rate is substantially continuous; \\n wherein the communication port is further configured to transmit the reporting digital data over the network having the network protocol different from the first protocol and the second protocol, the reporting digital data comprising at least one of the first digital data and the second digital data, and wherein the reporting digital data is transmitted at the reporting rate that is decoupled from the first sampling rate and the second sampling rate. \\n \\n \\n \\n  14 . The apparatus of  claim 12  wherein the reporting rate is substantially continuous. \\n \\n \\n  15 . The apparatus of  claim 13  further comprising:\\n computer hardware configured to validate the first digital data and the second digital data to remove erroneous data points and to provide validated data; and \\n computer hardware configured to remove redundant data points from the validated data to provide reduced data; \\n wherein the communication port is further configured to transmit messages based at least in part on the reduced data over the network. \\n \\n \\n \\n  16 . The apparatus of  claim 15  further comprising computer hardware configured to perform energy calculations on the reduced data to provide calculated energy data, wherein the computer hardware comprises cloud-based servers. \\n \\n \\n  17 . The apparatus of  claim 16  wherein the calculated energy data comprises at least one of line-to-line and line-to-current voltage, total power, active power, reactive power, line-to-line and line-to-neutral current, power factor, fundamental and harmonic total energy per phase, fundamental and harmonic total energy for the sum of phases, fundamental and harmonic active energy per phase, fundamental and harmonic active energy for the sum of phases, fundamental and harmonic reactive energy per phase, fundamental and harmonic reactive energy for the sum of phases, frequency, harmonic frequency, gas usage, chilled water usage, hot water usage, and total energy usage. \\n \\n \\n  18 . The apparatus of  claim 13  further comprising analytics configured to analyze the first data and the second data and to provide messages comprising control signals for load control of at least one of the first electrical circuit and the second electrical circuit based on the analysis of the first data and the second data. \\n \\n \\n  19 . The apparatus of  claim 13  wherein the communication port is further configured to receive control signals for load control of at least one of the first electrical circuit and the second electrical circuit. \\n \\n \\n  20 . The apparatus of  claim 12  wherein the network comprises the Internet, and wherein the network is accessed by one or more of wired access and wireless access. \\n \\n \\n  21 . The apparatus of  claim 12  wherein the network comprises one or more servers in a cloud configuration. \\n \\n \\n  22 . The apparatus of  claim 13  further comprising memory configured to store at least one of the first digital data, the second digital data, and the reporting digital data until confirmation that the reporting digital data is successfully transmitted over the network. \\n \\n \\n  23 . The apparatus of  claim 12  wherein the first electrical signal comprises at least one of amplitude, phase, voltage, current, fundamental energy component, harmonic energy components, intermodulation energy components, and transient energy components associated with first electrical signal. \\n \\n \\n  24 . The apparatus of  claim 12  wherein the first sampling rate is between approximately once every 15 minutes to approximately 1 MHz. \\n \\n',\n",
              "  'claim_cited_grant': '\\n \\n 1. A method of aligning a putter, comprising the steps of:\\n providing a putter having a head, a heel, a toe, a top surface, and a planar striking face comprising a removable reflecting surface for receiving and reflecting incident light, the top surface comprising at least one first reference line oriented substantially parallel to the striking face and a plurality of second reference lines oriented substantially perpendicular to the striking face;  \\n providing a light source separate from the putter head;  \\n directing light from the light source towards the reflecting surface such that the reflective surface is illuminated with and reflects a portion of the light towards a reference device;  \\n detecting the reflected light with a reference device, wherein the reference device is a photosensitive array and the reflected light incident upon the photosensitive array generates a signal capable of being transferred to an output device visible to a golfer;  \\n determining the location of the reflected beam on the reference device relative to a central point prior to the golfer making a putting stroke;  \\n correcting the orientation of the putter so that the reflected beam is directed at the center of the reference device; and  \\n using the reference lines to provide a visual reference point to the golfer indicative of putter orientation.  \\n \\n \\n \\n 2. The method of  claim 1 , wherein the light source is a laser. \\n \\n \\n 3. The method of  claim 1 , wherein the reflecting surface is a mirrored surface, highly-polished fused silica, highly-polished glass, or a beam splitter. \\n \\n \\n 4. The method of  claim 1 , wherein the photosensitive array comprises a photomultiplier tube, an avalanche photodiode, or a charge-coupled device. \\n \\n \\n 5. The method of  claim 1 , wherein the light is collimated, focused, or both. \\n \\n \\n 6. The method of  claim 1 , wherein the planar striking face has a loft of between about 2 degrees and about 7 degrees. \\n \\n \\n 7. The method of  claim 6 , wherein the loft is about 4 degrees. \\n \\n \\n 8. The method of  claim 1 , wherein a spacer or a shim is disposed between the planar striking face and the reflecting surface. \\n \\n \\n 9. The method of  claim 1 , wherein the reflecting surface is a beam splitter oriented such that a first fraction of the light is reflected towards the reference device and a second fraction of the light is redirected perpendicular the incident light. \\n \\n \\n 10. The method of  claim 9 , wherein the redirected light strikes the ground below the striking face such that the golfer may align a putting stroke path. \\n \\n \\n 11. The method of  claim 1 , wherein the output device comprises a personal computer, a monitor, an oscilloscope, or a personal data assistant. \\n \\n \\n 12. The method of  claim 1 , further comprising the step of;\\n providing a second reference device located below the putter head.  \\n \\n \\n \\n 13. A method of aligning a putter, comprising the steps of:\\n providing a putter having a head, a heel, a toe, a top surface, and a planar striking face having a loft of about 4 degrees and comprising a reflecting surface for receiving and reflecting incident light, the reflecting surface being oriented vertically by a shim or a spacer, and the top surface comprising at least one first reference line oriented substantially parallel to the striking face and a plurality of second reference lines oriented substantially perpendicular to the striking face;  \\n providing a light source separate from the putter head;  \\n directing light from the light source towards the reflecting surface such that the reflective surface is illuminated with and reflects a portion of the light;  \\n detecting the reflected light with a reference device;  \\n comparing the reflected light to a central location on the reference device so that a golfer may determine the orientation of the putter head; and  \\n using the reference lines to provide a visual reference point to the golfer indicative of putter orientation. \\n \\n \\n',\n",
              "  'index': '0_6837799'},\n",
              " {'claim_app': '\\n \\n  1 . A method to aggregate, filter, and share energy data for analysis, the method comprising:\\n receiving first data associated with a first electrical circuit, the first data having a first protocol; \\n sampling the first data at a first sampling rate to generate first digital data, wherein the first sampling rate is substantially continuous; and \\n transmitting reporting digital data over a network having a network protocol different from the first protocol, the reporting digital data comprising at least the first digital data, wherein the reporting digital data is transmitted at a reporting rate that is decoupled from the first sampling rate. \\n \\n \\n \\n  2 . The method of  claim 1  further comprising:\\n receiving second data associated with a second electrical circuit, the second data having a second protocol different from the first protocol; and \\n sampling the second data at a second sampling rate to generate second digital data, wherein the second sampling rate is substantially continuous; \\n wherein the network protocol is different from the first protocol and the second protocol, wherein the reporting digital data comprises at least one of the first digital data and the second digital data, and wherein the reporting digital data is transmitted at the reporting rate that is decoupled from the first sampling rate and the second sampling rate. \\n \\n \\n \\n  3 . The method of  claim 1  wherein the reporting rate is substantially continuous. \\n \\n \\n  4 . The method of  claim 2  further comprising:\\n validating the first digital data and the second digital data to remove erroneous data points and to provide validated data; \\n removing redundant data points from the validated data to provide reduced data; and \\n transmitting messages based at least in part on the reduced data over the network. \\n \\n \\n \\n  5 . The method of  claim 2  further comprising analyzing the first data and the second data and transmitting messages comprising control signals for load control of at least one of the first and the second electrical circuits based on the analysis of the first data and the second data. \\n \\n \\n  6 . The method of  claim 2  further comprising receiving control signals for load control of at least one of the first electrical circuit and the second electrical circuit. \\n \\n \\n  7 . The method of  claim 1  wherein the network comprises the Internet, wherein the network is accessed by one or more of wired access and wireless access. \\n \\n \\n  8 . The method of  claim 1  wherein the network comprises one or more servers in a cloud configuration. \\n \\n \\n  9 . The method of  claim 2  further comprising storing at least one of the first digital data, the second digital data, and the reporting digital data until confirmation that the third digital data is successfully transmitted over the network. \\n \\n \\n  10 . The method of  claim 1  wherein receiving the first electrical signal comprises receiving at least one of amplitude, phase, voltage, current, fundamental energy component, harmonic energy components, intermodulation energy components, and transient energy components associated with the first electrical signal. \\n \\n \\n  11 . The method of  claim 1  wherein the first sampling rate is between approximately once every 15 minutes to approximately 1 MHz. \\n \\n \\n  12 . An apparatus to aggregate, filter, and share energy data for analysis, the apparatus comprising:\\n a first input configured to receive first data associated with a first electrical circuit, the first data having a first protocol; \\n first circuitry configured to sample the first data at a first sampling rate to generate first digital data, wherein the first sampling rate is substantially continuous; and \\n a communication port configured to transmit reporting digital data over a network having a network protocol different from the first protocol, the reporting digital data comprising at least the first digital data, wherein the reporting digital data is transmitted at a reporting rate that is decoupled from the first sampling rate. \\n \\n \\n \\n  13 . The apparatus of  claim 12  further comprising:\\n a second input configured to receive second data associated with a second electrical circuit, the second data having a second protocol different from the first protocol; and \\n second circuitry configured to sample the second data at a second sampling rate to generate second digital data, wherein the second sampling rate is substantially continuous; \\n wherein the communication port is further configured to transmit the reporting digital data over the network having the network protocol different from the first protocol and the second protocol, the reporting digital data comprising at least one of the first digital data and the second digital data, and wherein the reporting digital data is transmitted at the reporting rate that is decoupled from the first sampling rate and the second sampling rate. \\n \\n \\n \\n  14 . The apparatus of  claim 12  wherein the reporting rate is substantially continuous. \\n \\n \\n  15 . The apparatus of  claim 13  further comprising:\\n computer hardware configured to validate the first digital data and the second digital data to remove erroneous data points and to provide validated data; and \\n computer hardware configured to remove redundant data points from the validated data to provide reduced data; \\n wherein the communication port is further configured to transmit messages based at least in part on the reduced data over the network. \\n \\n \\n \\n  16 . The apparatus of  claim 15  further comprising computer hardware configured to perform energy calculations on the reduced data to provide calculated energy data, wherein the computer hardware comprises cloud-based servers. \\n \\n \\n  17 . The apparatus of  claim 16  wherein the calculated energy data comprises at least one of line-to-line and line-to-current voltage, total power, active power, reactive power, line-to-line and line-to-neutral current, power factor, fundamental and harmonic total energy per phase, fundamental and harmonic total energy for the sum of phases, fundamental and harmonic active energy per phase, fundamental and harmonic active energy for the sum of phases, fundamental and harmonic reactive energy per phase, fundamental and harmonic reactive energy for the sum of phases, frequency, harmonic frequency, gas usage, chilled water usage, hot water usage, and total energy usage. \\n \\n \\n  18 . The apparatus of  claim 13  further comprising analytics configured to analyze the first data and the second data and to provide messages comprising control signals for load control of at least one of the first electrical circuit and the second electrical circuit based on the analysis of the first data and the second data. \\n \\n \\n  19 . The apparatus of  claim 13  wherein the communication port is further configured to receive control signals for load control of at least one of the first electrical circuit and the second electrical circuit. \\n \\n \\n  20 . The apparatus of  claim 12  wherein the network comprises the Internet, and wherein the network is accessed by one or more of wired access and wireless access. \\n \\n \\n  21 . The apparatus of  claim 12  wherein the network comprises one or more servers in a cloud configuration. \\n \\n \\n  22 . The apparatus of  claim 13  further comprising memory configured to store at least one of the first digital data, the second digital data, and the reporting digital data until confirmation that the reporting digital data is successfully transmitted over the network. \\n \\n \\n  23 . The apparatus of  claim 12  wherein the first electrical signal comprises at least one of amplitude, phase, voltage, current, fundamental energy component, harmonic energy components, intermodulation energy components, and transient energy components associated with first electrical signal. \\n \\n \\n  24 . The apparatus of  claim 12  wherein the first sampling rate is between approximately once every 15 minutes to approximately 1 MHz. \\n \\n',\n",
              "  'claim_cited_grant': '\\n \\n 1. Apparatus for inserting a surgical fastener through a plurality of portions of material, said apparatus comprising:\\n a surgical fastener having first and second ends and made from a material which enables said fastener to be transformed from a first stressed elongate shape to a second unstressed shape upon release of said fastener from a stressed condition, the first stressed elongate shape of said fastener enabling the first end to be extended through a plurality of layers of material, and with the second shape of the fastener being in the form of a spring with a plurality of coils around a spring axis, with the coils being spring biased towards each other along the spring axis with sufficient axial force to enable the coils on opposite sides of the layers of material to clamp the layers of material together along the spring axis;  \\n a single needle having first and second ends,  \\n penetration means adjacent the first end of said single needle, said penetration means being configured to pierce through the plurality of layers of material, and insertion means adjacent to the first end of said single needle, said insertion means being configured to place said surgical fastener through the plurality of layers of material pierced by said penetration means;  \\n wherein said insertion means comprises a magazine comprising a plurality of chambers, with each chamber adapted to hold a fastener therein, and means for moving the magazine so as to sequentially align one of said chambers with said needle.  \\n \\n \\n \\n 2. Apparatus for inserting multiple surgical fasteners through a plurality of portions of material, said apparatus comprising:\\n a plurality of surgical fasteners, each of said surgical fasteners having first and second ends and made from a material which enables said fastener to be transformed from a first stressed elongate shape to a second unstressed shape upon the-release of said fastener from a stressed condition, said first stressed elongate shape of said fastener enabling said first end to be extended through a plurality of layers of material, and with said second shape of the fastener being in the form of a spring with a plurality of coils around a spring axis, with said coils being spring biased towards each other along said spring axis with sufficient axial force so as to enable coils on opposite sides of layers to clamp the layers of material together along the spring axis;  \\n a cartridge having a plurality of delivery tubes, said cartridge having first and second ends, each of said delivery tubes adapted to hold one of said surgical fasteners therein, each of said delivery tubes having first and second ends, said first end of said delivery tubes adapted to be slideably disposed from said first end of said cartridge, said first end of each of said delivery tubes having penetrating means to pierce through the plurality of layers of material;  \\n a body in adjustable connection to said cartridge, said body having delivery tube control means and surgical fastener insertion means, said delivery tube control means being adapted to move said first end of each of said delivery tubes through said first end of said cartridge to pierce through the plurality of layers of material, said surgical fastener insertion means being adapted to place said surgical fastener through the plurality of layers of material pierced by said penetrating means of each of said delivery tubes; and  \\n means for moving said cartridge with respect to said body to sequentially align one of said delivery tubes having one of said surgical fasteners of said cartridge with said delivery tube control means and said surgical fastener insertion means of said body, wherein said plurality of surgical fasteners is sequentially placed without reloading after each placement.  \\n \\n \\n \\n 3. A method for inserting a surgical fastener through a plurality of portion of material, said method comprising:\\n providing apparatus for inserting multiple surgical fasteners through a plurality of portions of material, said apparatus comprising: \\n a plurality of surgical fasteners, each of said surgical fasteners having first and second ends and made from a material which enables said fastener to be transformed from a first stressed elongate shape to a second unstressed shape upon the release of said fastener from a stressed condition, said first stressed elongate shape of said fastener enabling said first end to be extended through a plurality of layers of material, and with said second shape of the element being in the form of a spring with a plurality of coils around a spring axis, with said coils being spring biased towards each other along said spring axis with sufficient axial force so as to enable coils on opposite sides of layers to clamp the layers of material together along spring axis;  \\n a cartridge having a plurality of delivery tubes, said cartridge having first and second ends, each of said delivery tubes adapted to hold one of said surgical fasteners therein, each of said delivery tubes having first and second ends, said first end of said delivery tubes adapted to be slideably disposed from said first end of said cartridge, said first end of each of said delivery tubes having penetrating means to pierce through the plurality of layers of material;  \\n a body in adjustable connection to said cartridge, said body having delivery tube control means and surgical fastener insertion means, said delivery tube control means being adapted to move said first end of each of said delivery tubes through said first end of said cartridge to pierce through the plurality of layers of material, said surgical fastener insertion means being adapted to place said surgical fastener through the plurality of layers of material pierced by said penetrating means of each of said delivery tubes; and  \\n means for moving said cartridge with respect to said body to sequentially align one of said delivery tubes having one of said surgical fasteners of said cartridge with said delivery tube control means and said surgical fastener insertion means of said body, wherein said plurality of surgical fasteners is sequentially placed without reloading after each placement;  \\n \\n placing said first end of said cartridge adjacent the plurality of layers of material, with said surgical fastener being configured in said first elongate shape;  \\n penetrating the plurality of layers of material with said first end of said delivery tube using said delivery tube control means;  \\n inserting a first portion of said surgical fastener through the plurality of layers of material using said surgical fastener insertion means;  \\n withdrawing said first end of said cartridge from the plurality of layers of material using said delivery control means; and  \\n moving said cartridge with respect to said body to sequentially align said delivery tubes having one of said surgical fasteners of said cartridge with said delivery tube control means and said surgical fastener insertion means of said body, wherein said plurality of surgical fasteners are sequentially placed without reloading after each placement.  \\n \\n \\n \\n 4. A method for inserting a surgical fastener through a plurality of portions of material, said method comprising:\\n providing apparatus for inserting a surgical fastener through a plurality of portions of material, said apparatus comprising: \\n a surgical fastener having first and second ends and made from a material which enables said fastener to be transformed from a first stressed elongate shape to a second unstressed shape upon release of said fastener from a stressed condition, the first stressed elongate shape of said fastener enabling the first end to be extended through a plurality of layers of material, and with the second shape of the element being in the form of a spring with a plurality of coils around a spring axis, with the coils being spring biased towards each other along the spring axis with sufficient axial force to enable the coils on opposite sides of the layers of material to clamp the layers of material together along the spring axis; and  \\n a single needle having first and second ends, penetration means adjacent the first end of said single needle, said penetration means being configured to pierce through the plurality of layers of material, and  \\n insertion means adjacent to the first end of said single needle, said insertion means being configured to place said surgical fastener through the plurality of layers of material pierced by said penetration means;  \\n placing said single needle adjacent the plurality of layers of material, with said surgical fastener being configured in the first stressed elongate shape;  \\n penetrating the plurality of layers of material with said penetration means of said single needle, said penetration of the plurality of layers of material being performed at the first end of said single needle;  \\n inserting a first portion of said surgical fastener through the plurality of layers of material using said insertion means; and  \\n withdrawing said penetration means of said single needle from the plurality of layers of material, wherein a second portion of said surgical fastener is positioned on the opposite side of the plurality of layers of material from said first portion of said surgical fastener so as to enable the coils on the opposite sides of the layers to clamp the material together;  \\n wherein one of said plurality of portions of surgical fastener comprises a lumen segment and the other of said plurality of portions of surgical fastener comprises another lumen segment.  \\n \\n \\n \\n \\n 5. A method according to  claim 4  wherein said surgical fastener occludes the lumen upon deployment of said surgical fastener. \\n \\n',\n",
              "  'index': '0_6837893'},\n",
              " {'claim_app': '\\n \\n  1 . A method to aggregate, filter, and share energy data for analysis, the method comprising:\\n receiving first data associated with a first electrical circuit, the first data having a first protocol; \\n sampling the first data at a first sampling rate to generate first digital data, wherein the first sampling rate is substantially continuous; and \\n transmitting reporting digital data over a network having a network protocol different from the first protocol, the reporting digital data comprising at least the first digital data, wherein the reporting digital data is transmitted at a reporting rate that is decoupled from the first sampling rate. \\n \\n \\n \\n  2 . The method of  claim 1  further comprising:\\n receiving second data associated with a second electrical circuit, the second data having a second protocol different from the first protocol; and \\n sampling the second data at a second sampling rate to generate second digital data, wherein the second sampling rate is substantially continuous; \\n wherein the network protocol is different from the first protocol and the second protocol, wherein the reporting digital data comprises at least one of the first digital data and the second digital data, and wherein the reporting digital data is transmitted at the reporting rate that is decoupled from the first sampling rate and the second sampling rate. \\n \\n \\n \\n  3 . The method of  claim 1  wherein the reporting rate is substantially continuous. \\n \\n \\n  4 . The method of  claim 2  further comprising:\\n validating the first digital data and the second digital data to remove erroneous data points and to provide validated data; \\n removing redundant data points from the validated data to provide reduced data; and \\n transmitting messages based at least in part on the reduced data over the network. \\n \\n \\n \\n  5 . The method of  claim 2  further comprising analyzing the first data and the second data and transmitting messages comprising control signals for load control of at least one of the first and the second electrical circuits based on the analysis of the first data and the second data. \\n \\n \\n  6 . The method of  claim 2  further comprising receiving control signals for load control of at least one of the first electrical circuit and the second electrical circuit. \\n \\n \\n  7 . The method of  claim 1  wherein the network comprises the Internet, wherein the network is accessed by one or more of wired access and wireless access. \\n \\n \\n  8 . The method of  claim 1  wherein the network comprises one or more servers in a cloud configuration. \\n \\n \\n  9 . The method of  claim 2  further comprising storing at least one of the first digital data, the second digital data, and the reporting digital data until confirmation that the third digital data is successfully transmitted over the network. \\n \\n \\n  10 . The method of  claim 1  wherein receiving the first electrical signal comprises receiving at least one of amplitude, phase, voltage, current, fundamental energy component, harmonic energy components, intermodulation energy components, and transient energy components associated with the first electrical signal. \\n \\n \\n  11 . The method of  claim 1  wherein the first sampling rate is between approximately once every 15 minutes to approximately 1 MHz. \\n \\n \\n  12 . An apparatus to aggregate, filter, and share energy data for analysis, the apparatus comprising:\\n a first input configured to receive first data associated with a first electrical circuit, the first data having a first protocol; \\n first circuitry configured to sample the first data at a first sampling rate to generate first digital data, wherein the first sampling rate is substantially continuous; and \\n a communication port configured to transmit reporting digital data over a network having a network protocol different from the first protocol, the reporting digital data comprising at least the first digital data, wherein the reporting digital data is transmitted at a reporting rate that is decoupled from the first sampling rate. \\n \\n \\n \\n  13 . The apparatus of  claim 12  further comprising:\\n a second input configured to receive second data associated with a second electrical circuit, the second data having a second protocol different from the first protocol; and \\n second circuitry configured to sample the second data at a second sampling rate to generate second digital data, wherein the second sampling rate is substantially continuous; \\n wherein the communication port is further configured to transmit the reporting digital data over the network having the network protocol different from the first protocol and the second protocol, the reporting digital data comprising at least one of the first digital data and the second digital data, and wherein the reporting digital data is transmitted at the reporting rate that is decoupled from the first sampling rate and the second sampling rate. \\n \\n \\n \\n  14 . The apparatus of  claim 12  wherein the reporting rate is substantially continuous. \\n \\n \\n  15 . The apparatus of  claim 13  further comprising:\\n computer hardware configured to validate the first digital data and the second digital data to remove erroneous data points and to provide validated data; and \\n computer hardware configured to remove redundant data points from the validated data to provide reduced data; \\n wherein the communication port is further configured to transmit messages based at least in part on the reduced data over the network. \\n \\n \\n \\n  16 . The apparatus of  claim 15  further comprising computer hardware configured to perform energy calculations on the reduced data to provide calculated energy data, wherein the computer hardware comprises cloud-based servers. \\n \\n \\n  17 . The apparatus of  claim 16  wherein the calculated energy data comprises at least one of line-to-line and line-to-current voltage, total power, active power, reactive power, line-to-line and line-to-neutral current, power factor, fundamental and harmonic total energy per phase, fundamental and harmonic total energy for the sum of phases, fundamental and harmonic active energy per phase, fundamental and harmonic active energy for the sum of phases, fundamental and harmonic reactive energy per phase, fundamental and harmonic reactive energy for the sum of phases, frequency, harmonic frequency, gas usage, chilled water usage, hot water usage, and total energy usage. \\n \\n \\n  18 . The apparatus of  claim 13  further comprising analytics configured to analyze the first data and the second data and to provide messages comprising control signals for load control of at least one of the first electrical circuit and the second electrical circuit based on the analysis of the first data and the second data. \\n \\n \\n  19 . The apparatus of  claim 13  wherein the communication port is further configured to receive control signals for load control of at least one of the first electrical circuit and the second electrical circuit. \\n \\n \\n  20 . The apparatus of  claim 12  wherein the network comprises the Internet, and wherein the network is accessed by one or more of wired access and wireless access. \\n \\n \\n  21 . The apparatus of  claim 12  wherein the network comprises one or more servers in a cloud configuration. \\n \\n \\n  22 . The apparatus of  claim 13  further comprising memory configured to store at least one of the first digital data, the second digital data, and the reporting digital data until confirmation that the reporting digital data is successfully transmitted over the network. \\n \\n \\n  23 . The apparatus of  claim 12  wherein the first electrical signal comprises at least one of amplitude, phase, voltage, current, fundamental energy component, harmonic energy components, intermodulation energy components, and transient energy components associated with first electrical signal. \\n \\n \\n  24 . The apparatus of  claim 12  wherein the first sampling rate is between approximately once every 15 minutes to approximately 1 MHz. \\n \\n',\n",
              "  'claim_cited_grant': '\\n \\n 1. An apparatus for gasifying a liquid or solid fuel which has a gasifier for producing a thermal decomposed gas by means of a thermal decomposition reaction of the liquid or solid fuel, comprising:\\n heating means for heating water or low-temperature steam, and low-temperature air so as to be high-temperature steam and high-temperature air which have a temperature equal to or higher than 700 deg. C.; and  \\n feeding means for feeding said high-temperature steam and said high-temperature air to a thermal decomposition area for thermally decomposing the liquid or solid fuel and/or a reforming area for reforming the thermal decomposed gas.  \\n \\n \\n \\n 2. An apparatus according to  claim 1 , wherein the high-temperature steam and air are introduced into said thermal decomposition area and/or said reforming area by said feeding means, so that said thermal decomposed gas is reformed so as to be a high-temperature syngas with an exothermic reaction between the high-temperature air and carbon compound contained in the thermal decomposed gas and with an endothermic reaction between the carbon compound and said high-temperature steam. \\n \\n \\n 3. An apparatus according to  claim 1 , wherein said high-temperature steam and air are introduced into said thermal decomposition area by said feeding means, so that said liquid or solid fuel is thermally decomposed to produce said thermal decomposed gas with an amount of sensible heat possessed by the high-temperature steam and air and with an amount of heat generated by an exothermic oxidation reaction between said high-temperature air and said fuel. \\n \\n \\n 4. An apparatus according to  claim 1 , wherein said heating means includes a steam heating device for heating said low-temperature steam up to a temperature equal to or higher than 700 deg. C. so as to be said high-temperature steam, and an air heating device for heating said low-temperature air up to a temperature-equal to or higher than 700 deg. C. so as to be said high-temperature air; and\\n wherein said feeding means includes a high temperature steam supply passage for introducing the high-temperature steam into said thermal decomposition area and/or said reforming area, and a high temperature air supply passage for introducing the high-temperature air into said thermal decomposition area and/or said reforming area.  \\n \\n \\n \\n 5. An apparatus according to  claim 1 , wherein said heating means includes mixing means for mixing said low-temperature steam and said low-temperature air together so as to provide a low-temperature mixture of steam and air, and a mixture heating device for heating said mixture up to a temperature equal to or higher than 700 deg. C. so as to be a high-temperature mixture of steam and air; and\\n wherein said feeding means includes a high-temperature mixture supply passage for introducing the high-temperature mixture into said thermal decomposition area and/or said reforming area.  \\n \\n \\n \\n 6. An apparatus according to  claim 1 , wherein said heating means includes a steam heating device for heating said low-temperature steam up to a temperature equal to or higher than 700 deg. C. so as to be said high-temperature steam, an air heating device for heating said low-temperature air up to a temperature equal to or higher than 700 deg. C. so as to be said high-temperature air, and mixing means for mixing said high-temperature steam and said high-temperature air together to provide a high-temperature mixture of steam and air; and\\n wherein said feeding means includes a high-temperature mixture supply passage for introducing the high-temperature mixture into said thermal decomposition area and/or said reforming area.  \\n \\n \\n \\n 7. An apparatus according to  claim 3 , wherein said reforming area is defined in a reformer into which said thermal decomposed gas is introduced, and said feeding means includes passages for introducing said high-temperature air and said high-temperature steam into the reformer and said thermal decomposition area, so that said thermal decomposed gas is reformed to be a high-temperature syngas with an exothermic reaction between the high-temperature air and carbon compound contained in the thermal decomposed gas and with an endothermic reaction between the carbon compound and the high-temperature steam. \\n \\n \\n 8. An apparatus according to  claim 2 , wherein a cooling device is provided for cooling said high-temperature syngas to a low-temperature syngas, and the cooling device is provided with a heat-exchanger for generating said low-temperature steam by means of an amount of sensible heat possessed by the high-temperature syngas. \\n \\n \\n 9. An apparatus according to  claim 2 , wherein said heating means is constructed by a cooling device which cools said high-temperature syngas to a low-temperature syngas, and the cooling device is provided with a high temperature heat-exchanger for heating said low-temperature air and/or said low-temperature steam to a high-temperature equal to or higher than 700 deg. C. by means of heat-exchange action of the low-temperature air and/or said low-temperature steam with the high-temperature syngas. \\n \\n \\n 10. An apparatus according to  claim 9 , wherein said cooling device is further provided with a mid-temperature heat-exchanger for heating said low-temperature air and/or said low-temperature steam to a mid-temperature in a range between 500 deg. C. and 700 deg. C. by means of heat-exchange action of the low-temperature air and/or the low-temperature steam with the high-temperature syngas. \\n \\n \\n 11. An apparatus according to  claim 10 , wherein a cooling device is further provided with a steam-generating heat-exchanger for generating said low-temperature steam by means of heat-exchange action between water and the high-temperature syngas. \\n \\n \\n 12. An apparatus according to  claim 2 , wherein gas cleaning means is further provided for cleaning said syngas, and the cleaning means has a syngas supply passage for at least partially feeding a quantity of cleaned up syngas to said heating means so that the heating means heats said water or low-temperature steam and said low-temperature air to a temperature equal to or higher than 700 deg. C. by means of heat generated with a combustion reaction of the syngas. \\n \\n \\n 13. An apparatus according to  claim 5 , wherein said mixing means includes a mixing control device for allowing a variable setting of a mixing ratio of said steam and air. \\n \\n \\n 14. A method for gasifying a liquid or solid fuel to produce a thermal decomposed gas by means of a thermal decomposition reaction of the liquid or solid fuel:\\n wherein water or low-temperature steam, and low-temperature air are heated so as to be high-temperature steam and high-temperature air which have a temperature equal to or higher than 700 deg. C.; and  \\n wherein said high-temperature steam and said high-temperature air are introduced into a thermal decomposition area for thermally decomposing the liquid or solid fuel and/or a reforming area for reforming the thermal decomposed gas.  \\n \\n \\n \\n 15. A method according to  claim 14 , wherein said high-temperature steam and said high-temperature air are mixed with said thermal decomposed gas, so that an amount of heat required for an endothermic reforming reaction between said high-temperature steam and carbon compound contained in the thermal decomposed gas is partially supplied by an amount of heat generated with an exothermic reaction between the high-temperature air and the carbon compound. \\n \\n \\n 16. A method according to  claim 14 , wherein said high-temperature steam and air are introduced into said thermal decomposition area, so that said liquid or solid fuel is thermally decomposed to produce said thermal decomposed gas with an amount of sensible heat possessed by the high-temperature steam and air and with an amount of heat generated by an exothermic oxidation reaction between said high-temperature air and said fuel. \\n \\n \\n 17. A method according to  claim 14 , wherein a mixing ratio of said high-temperature steam and air is set to be a mixing ratio which can be variably controlled. \\n \\n \\n 18. A method according to  claim 14 , wherein normal air, oxygen or mixture of the normal air and oxygen is used as said low-temperature air. \\n \\n \\n 19. A method according to  claim 14 , wherein said thermal decomposed gas takes a steam reforming reaction in said reforming area and thereafter, takes a heat-exchange action with said low-temperature steam and/or said low-temperature air to heat the low-temperature steam and/or the low-temperature air up to said temperature equal to or higher than 700 deg. C. \\n \\n \\n 20. A method according to  claim 19 , wherein said thermal decomposed gas flier takes a heat-exchange action with said low-temperature steam and/or said low-temperature air to heat the low-temperature steam and/or the low-temperature air up to a temperature in a range between 500 deg. C. and 700 deg. C. \\n \\n \\n 21. A method according to  claim 20 , wherein said thermal decomposed gas further takes a heat-exchange action with water to generate said low-temperature steam. \\n \\n \\n 22. A method according to  claim 14 , wherein said thermal decomposed gas takes a steam reforming reaction in said reforming area and then, undergoes a gas treatment process for removing foreign matters or harmful substances therefrom so as to be a cleaned up syngas and thereafter, the cleaned up syngas is delivered to heating means for heating said water or low-temperature steam and said low-temperature air as well as delivered to a combustion device of a combustion facility or engine residing outside the apparatus; and\\n wherein said water or low-temperature steam and said low-temperature air are heated in the heating device by heat generated with a combustion reaction of the cleaned up syngas.  \\n \\n \\n \\n 23. A method according to  22 , wherein said cleaned up syngas is supplied to said combustion device so as to be used as a main fuel thereof. \\n \\n \\n 24. A method according to  22 , wherein said cleaned up syngas is supplied to said combustion device so as to be used as an auxiliary fuel to be added to a main fuel of the combustion device and/or combustion air thereof. \\n \\n \\n 25. A method according to  claim 22 , wherein said thermal decomposed gas flows through a cooling device for cooling the thermal decomposed gas after taking said steam reforming reaction and before undergoing said gas treatment process; and\\n wherein the cooling device evaporates a quantity of water so as to generate said low-temperature steam by means of sensible heat possessed by the thermal decomposed gas, or heats said low-temperature steam and/or said low-temperature air by means of the sensible heat of the thermal decomposed gas.  \\n \\n \\n \\n 26. A method according to  claim 14 , wherein waste, coal, biomass fuel or heavy oil is used as said liquid or solid fuel. \\n \\n \\n 27. A waste gasifying system comprising an apparatus for gasifying a liquid or solid fuel according to  claim 1 . \\n \\n \\n 28. A coal gasifying system comprising an apparatus for gasifying a liquid or solid fuel according to  claim 1 . \\n \\n \\n 29. A gasification and power generation system comprising an apparatus for gasifying a liquid or solid fuel according to  claim 1  and a electric power generator operated with use of a syngas produced by said apparatus. \\n \\n',\n",
              "  'index': '0_6837910'}]"
            ]
          },
          "metadata": {
            "tags": []
          },
          "execution_count": 66
        }
      ]
    },
    {
      "metadata": {
        "id": "isAhwGuHGcUD",
        "colab_type": "code",
        "outputId": "28c691e5-214e-4fab-ff06-767ce1fae7dd",
        "colab": {
          "base_uri": "https://localhost:8080/",
          "height": 35
        }
      },
      "cell_type": "code",
      "source": [
        "len(tupples)"
      ],
      "execution_count": 0,
      "outputs": [
        {
          "output_type": "execute_result",
          "data": {
            "text/plain": [
              "25240"
            ]
          },
          "metadata": {
            "tags": []
          },
          "execution_count": 93
        }
      ]
    },
    {
      "metadata": {
        "id": "HdQTJU8KMa57",
        "colab_type": "code",
        "colab": {}
      },
      "cell_type": "code",
      "source": [
        ""
      ],
      "execution_count": 0,
      "outputs": []
    },
    {
      "metadata": {
        "id": "TKC5_pFEMbGI",
        "colab_type": "code",
        "colab": {}
      },
      "cell_type": "code",
      "source": [
        ""
      ],
      "execution_count": 0,
      "outputs": []
    },
    {
      "metadata": {
        "id": "GdmJVaJfMbLq",
        "colab_type": "code",
        "colab": {}
      },
      "cell_type": "code",
      "source": [
        ""
      ],
      "execution_count": 0,
      "outputs": []
    },
    {
      "metadata": {
        "id": "duNsKLRKMbRR",
        "colab_type": "code",
        "colab": {}
      },
      "cell_type": "code",
      "source": [
        ""
      ],
      "execution_count": 0,
      "outputs": []
    },
    {
      "metadata": {
        "id": "2P2WIlRnMbXY",
        "colab_type": "code",
        "colab": {}
      },
      "cell_type": "code",
      "source": [
        ""
      ],
      "execution_count": 0,
      "outputs": []
    },
    {
      "metadata": {
        "id": "3XngKIDMGcRJ",
        "colab_type": "code",
        "outputId": "6260511a-3dc0-41ed-e1b6-9c608411e840",
        "colab": {
          "base_uri": "https://localhost:8080/",
          "height": 124
        }
      },
      "cell_type": "code",
      "source": [
        "!gsutil cp -r gs://yohei-kikuta/mlstudy-phys/bert/data/1000 ./bert/data/"
      ],
      "execution_count": 0,
      "outputs": [
        {
          "output_type": "stream",
          "text": [
            "Copying gs://yohei-kikuta/mlstudy-phys/bert/data/1000/bert_extracted_feature_test_1000.pkl...\n",
            "Copying gs://yohei-kikuta/mlstudy-phys/bert/data/1000/bert_extracted_feature_train_1000.pkl...\n",
            "Copying gs://yohei-kikuta/mlstudy-phys/bert/data/1000/dev.tsv...\n",
            "Copying gs://yohei-kikuta/mlstudy-phys/bert/data/1000/train.tsv...\n",
            "- [4 files][154.8 MiB/154.8 MiB]   22.7 MiB/s                                   \n",
            "Operation completed over 4 objects/154.8 MiB.                                    \n"
          ],
          "name": "stdout"
        }
      ]
    },
    {
      "metadata": {
        "id": "wP8gf8KrzHT9",
        "colab_type": "code",
        "colab": {}
      },
      "cell_type": "code",
      "source": [
        "test_data = pd.read_csv(\"./bert/data/1000/dev.tsv\", sep=\"\\t\")"
      ],
      "execution_count": 0,
      "outputs": []
    },
    {
      "metadata": {
        "id": "sl_GZwQeGgcC",
        "colab_type": "code",
        "outputId": "602d9696-c4cf-41e3-b351-ef84538667d9",
        "colab": {
          "base_uri": "https://localhost:8080/",
          "height": 204
        }
      },
      "cell_type": "code",
      "source": [
        "test_data.head()"
      ],
      "execution_count": 0,
      "outputs": [
        {
          "output_type": "execute_result",
          "data": {
            "text/html": [
              "<div>\n",
              "<style scoped>\n",
              "    .dataframe tbody tr th:only-of-type {\n",
              "        vertical-align: middle;\n",
              "    }\n",
              "\n",
              "    .dataframe tbody tr th {\n",
              "        vertical-align: top;\n",
              "    }\n",
              "\n",
              "    .dataframe thead th {\n",
              "        text-align: right;\n",
              "    }\n",
              "</style>\n",
              "<table border=\"1\" class=\"dataframe\">\n",
              "  <thead>\n",
              "    <tr style=\"text-align: right;\">\n",
              "      <th></th>\n",
              "      <th>index</th>\n",
              "      <th>claim_app</th>\n",
              "      <th>claim_cited_grant</th>\n",
              "      <th>label</th>\n",
              "    </tr>\n",
              "  </thead>\n",
              "  <tbody>\n",
              "    <tr>\n",
              "      <th>0</th>\n",
              "      <td>0</td>\n",
              "      <td>1 . A rotational angle detection device for a ...</td>\n",
              "      <td>1. A tangible computer-readable medium having ...</td>\n",
              "      <td>not_entailment</td>\n",
              "    </tr>\n",
              "    <tr>\n",
              "      <th>1</th>\n",
              "      <td>1</td>\n",
              "      <td>1 . A method comprising:sensing electrocardiog...</td>\n",
              "      <td>1. A medical system, comprising:an implantable...</td>\n",
              "      <td>entailment</td>\n",
              "    </tr>\n",
              "    <tr>\n",
              "      <th>2</th>\n",
              "      <td>2</td>\n",
              "      <td>1 . A system for controlling temperature insid...</td>\n",
              "      <td>1. An integrated differential receiver for an ...</td>\n",
              "      <td>not_entailment</td>\n",
              "    </tr>\n",
              "    <tr>\n",
              "      <th>3</th>\n",
              "      <td>3</td>\n",
              "      <td>1 . A recording apparatus for recording update...</td>\n",
              "      <td>1. A method for indicating a priority of a Voi...</td>\n",
              "      <td>not_entailment</td>\n",
              "    </tr>\n",
              "    <tr>\n",
              "      <th>4</th>\n",
              "      <td>4</td>\n",
              "      <td>1 . Apparatus for moving a material within an ...</td>\n",
              "      <td>1. A wellbore packer having an expandable pack...</td>\n",
              "      <td>entailment</td>\n",
              "    </tr>\n",
              "  </tbody>\n",
              "</table>\n",
              "</div>"
            ],
            "text/plain": [
              "   index                                          claim_app  \\\n",
              "0      0  1 . A rotational angle detection device for a ...   \n",
              "1      1  1 . A method comprising:sensing electrocardiog...   \n",
              "2      2  1 . A system for controlling temperature insid...   \n",
              "3      3  1 . A recording apparatus for recording update...   \n",
              "4      4  1 . Apparatus for moving a material within an ...   \n",
              "\n",
              "                                   claim_cited_grant           label  \n",
              "0  1. A tangible computer-readable medium having ...  not_entailment  \n",
              "1  1. A medical system, comprising:an implantable...      entailment  \n",
              "2  1. An integrated differential receiver for an ...  not_entailment  \n",
              "3  1. A method for indicating a priority of a Voi...  not_entailment  \n",
              "4  1. A wellbore packer having an expandable pack...      entailment  "
            ]
          },
          "metadata": {
            "tags": []
          },
          "execution_count": 84
        }
      ]
    },
    {
      "metadata": {
        "id": "FDq4XF_9Ggiu",
        "colab_type": "code",
        "colab": {}
      },
      "cell_type": "code",
      "source": [
        ""
      ],
      "execution_count": 0,
      "outputs": []
    },
    {
      "metadata": {
        "id": "TS9-BLkOGggm",
        "colab_type": "code",
        "colab": {}
      },
      "cell_type": "code",
      "source": [
        ""
      ],
      "execution_count": 0,
      "outputs": []
    },
    {
      "metadata": {
        "id": "e-SR7CkS0xV_",
        "colab_type": "code",
        "colab": {}
      },
      "cell_type": "code",
      "source": [
        "from run_classifier import convert_single_example\n",
        "from run_classifier import InputExample\n",
        "from run_classifier import file_based_input_fn_builder"
      ],
      "execution_count": 0,
      "outputs": []
    },
    {
      "metadata": {
        "id": "1u_sIT8k0xI1",
        "colab_type": "code",
        "colab": {}
      },
      "cell_type": "code",
      "source": [
        "MAX_SEQ_LEN = 512"
      ],
      "execution_count": 0,
      "outputs": []
    },
    {
      "metadata": {
        "id": "n1kgL9ft06ia",
        "colab_type": "code",
        "colab": {}
      },
      "cell_type": "code",
      "source": [
        "\n",
        "def row_to_feature(i, row, max_seq_len=MAX_SEQ_LEN):\n",
        "    if 'label' in row:\n",
        "        example = InputExample(\n",
        "            guid = row['index'],\n",
        "            text_a = row['claim_app'],\n",
        "            text_b = row['claim_cited_grant'],\n",
        "            label = row['label']\n",
        "            )\n",
        "    else :\n",
        "        example = InputExample(\n",
        "            guid = row['index'],\n",
        "            text_a = row['claim_app'],\n",
        "            text_b = row['claim_cited_grant'],\n",
        "            label=\"not_entailment\"\n",
        "            )\n",
        "    \n",
        "    return convert_single_example(\n",
        "        ex_index=i, \n",
        "        example=example,\n",
        "        label_list=[\"not_entailment\", \"entailment\"],\n",
        "        max_seq_length=max_seq_len,\n",
        "        tokenizer=tokenizer)"
      ],
      "execution_count": 0,
      "outputs": []
    },
    {
      "metadata": {
        "id": "8GSPInHd06X_",
        "colab_type": "code",
        "colab": {}
      },
      "cell_type": "code",
      "source": [
        "def feature_list_to_feature_dict(flist):\n",
        "    dic = {}\n",
        "    dic['input_ids'] = [feature.input_ids for feature in flist]\n",
        "    dic[\"input_mask\"] = [feature.input_mask for feature in flist]\n",
        "    dic[\"segment_ids\"] = [feature.segment_ids for feature in flist]\n",
        "    dic[\"label_ids\"] = [[feature.label_id] for feature in flist]\n",
        "    return dic"
      ],
      "execution_count": 0,
      "outputs": []
    },
    {
      "metadata": {
        "id": "t0vazovQMlNG",
        "colab_type": "code",
        "colab": {}
      },
      "cell_type": "code",
      "source": [
        "def tupples_to_fdicts(tups):\n",
        "    features = [row_to_feature(i, row) for i, row in enumerate(tups)]\n",
        "    return feature_list_to_feature_dict(features)"
      ],
      "execution_count": 0,
      "outputs": []
    },
    {
      "metadata": {
        "id": "XmTPT5qTM5CR",
        "colab_type": "code",
        "outputId": "8bf2f8d0-ccad-4522-b76e-652327b76903",
        "colab": {
          "base_uri": "https://localhost:8080/",
          "height": 695
        }
      },
      "cell_type": "code",
      "source": [
        "%%time\n",
        "test_fdicts_all = tupples_to_fdicts(tupples)"
      ],
      "execution_count": 0,
      "outputs": [
        {
          "output_type": "stream",
          "text": [
            "INFO:tensorflow:*** Example ***\n",
            "INFO:tensorflow:guid: 0_6837383\n",
            "INFO:tensorflow:tokens: [CLS] 1 . a method to aggregate , filter , and share energy data for analysis , the method comprising : receiving first data associated with a first electrical circuit , the first data having a first protocol ; sampling the first data at a first sampling rate to generate first digital data , wherein the first sampling rate is substantially continuous ; and transmitting reporting digital data over a network having a network protocol different from the first protocol , the reporting digital data comprising at least the first digital data , wherein the reporting digital data is transmitted at a reporting rate that is deco ##up ##led from the first sampling rate . 2 . the method of claim 1 further comprising : receiving second data associated with a second electrical circuit , the second data having a second protocol different from the first protocol ; and sampling the second data at a second sampling rate to generate second digital data , wherein the second sampling rate is substantially continuous ; wherein the network protocol is different from the first protocol and the second protocol , wherein the reporting digital data comprises at least one of the first digital data and the second digital data , and wherein the reporting digital data is transmitted at the reporting rate that is deco ##up ##led from the first sampling rate and the second sampling rate . 3 . the method of claim 1 wherein the reporting rate is substantially continuous . 4 . the method of [SEP] 1 . a tool organizer for mounting to and adapted for use with a vehicle lift rack having support arms , said tool organizer comprising : four ups ##tan ##ding walls depending from a base and forming a storage volume for storing a plurality of tools and parts ; a selective ##ly art ##ic ##ulating lid en ##cl ##osing said storage volume ; adjustable attachment means depending from said storage volume , said attachment means re ##mo ##va ##bly attach ##able to said support arms for supporting said tool organizer by gravity imp ##inge ##ment ; a u - shaped ring af ##fixed to an external portion of at least one of said walls , said ring for supporting a hand tool ; a support plate projected from a front of said tool organizer and co - extensive with said base ; a plurality of intermediate aperture ##s formed in said support plate , said plurality of intermediate aperture ##s adapted sized to accommodate intermediate and large hand tools ; a plurality of small aperture ##s formed in said support plate , said plurality of small aperture ##s adapted to accommodate small hand tools ; at least one large aperture formed in said support plate , said at least one large aperture adapted to accommodate a container . 2 . the tool organizer of claim 1 further comprising a slid ##ably retained storage drawer provided beneath said base and said support plate for additional storage area , said base and said support plate operating [SEP]\n",
            "INFO:tensorflow:input_ids: 101 1015 1012 1037 4118 2000 9572 1010 11307 1010 1998 3745 2943 2951 2005 4106 1010 1996 4118 9605 1024 4909 2034 2951 3378 2007 1037 2034 5992 4984 1010 1996 2034 2951 2383 1037 2034 8778 1025 16227 1996 2034 2951 2012 1037 2034 16227 3446 2000 9699 2034 3617 2951 1010 16726 1996 2034 16227 3446 2003 12381 7142 1025 1998 23820 7316 3617 2951 2058 1037 2897 2383 1037 2897 8778 2367 2013 1996 2034 8778 1010 1996 7316 3617 2951 9605 2012 2560 1996 2034 3617 2951 1010 16726 1996 7316 3617 2951 2003 11860 2012 1037 7316 3446 2008 2003 21933 6279 3709 2013 1996 2034 16227 3446 1012 1016 1012 1996 4118 1997 4366 1015 2582 9605 1024 4909 2117 2951 3378 2007 1037 2117 5992 4984 1010 1996 2117 2951 2383 1037 2117 8778 2367 2013 1996 2034 8778 1025 1998 16227 1996 2117 2951 2012 1037 2117 16227 3446 2000 9699 2117 3617 2951 1010 16726 1996 2117 16227 3446 2003 12381 7142 1025 16726 1996 2897 8778 2003 2367 2013 1996 2034 8778 1998 1996 2117 8778 1010 16726 1996 7316 3617 2951 8681 2012 2560 2028 1997 1996 2034 3617 2951 1998 1996 2117 3617 2951 1010 1998 16726 1996 7316 3617 2951 2003 11860 2012 1996 7316 3446 2008 2003 21933 6279 3709 2013 1996 2034 16227 3446 1998 1996 2117 16227 3446 1012 1017 1012 1996 4118 1997 4366 1015 16726 1996 7316 3446 2003 12381 7142 1012 1018 1012 1996 4118 1997 102 1015 1012 1037 6994 19012 2005 15986 2000 1998 5967 2005 2224 2007 1037 4316 6336 14513 2383 2490 2608 1010 2056 6994 19012 9605 1024 2176 11139 5794 4667 3681 5834 2013 1037 2918 1998 5716 1037 5527 3872 2005 23977 1037 29018 1997 5906 1998 3033 1025 1037 13228 2135 2396 2594 10924 11876 4372 20464 18606 2056 5527 3872 1025 26404 14449 2965 5834 2013 2056 5527 3872 1010 2056 14449 2965 2128 5302 3567 6321 22476 3085 2000 2056 2490 2608 2005 4637 2056 6994 19012 2011 8992 17727 23496 3672 1025 1037 1057 1011 5044 3614 21358 23901 2000 2019 6327 4664 1997 2012 2560 2028 1997 2056 3681 1010 2056 3614 2005 4637 1037 2192 6994 1025 1037 2490 5127 11310 2013 1037 2392 1997 2056 6994 19012 1998 2522 1011 4866 2007 2056 2918 1025 1037 29018 1997 7783 18892 2015 2719 1999 2056 2490 5127 1010 2056 29018 1997 7783 18892 2015 5967 7451 2000 8752 7783 1998 2312 2192 5906 1025 1037 29018 1997 2235 18892 2015 2719 1999 2056 2490 5127 1010 2056 29018 1997 2235 18892 2015 5967 2000 8752 2235 2192 5906 1025 2012 2560 2028 2312 18892 2719 1999 2056 2490 5127 1010 2056 2012 2560 2028 2312 18892 5967 2000 8752 1037 11661 1012 1016 1012 1996 6994 19012 1997 4366 1015 2582 9605 1037 4934 8231 6025 5527 13065 3024 4218 2056 2918 1998 2056 2490 5127 2005 3176 5527 2181 1010 2056 2918 1998 2056 2490 5127 4082 102\n",
            "INFO:tensorflow:input_mask: 1 1 1 1 1 1 1 1 1 1 1 1 1 1 1 1 1 1 1 1 1 1 1 1 1 1 1 1 1 1 1 1 1 1 1 1 1 1 1 1 1 1 1 1 1 1 1 1 1 1 1 1 1 1 1 1 1 1 1 1 1 1 1 1 1 1 1 1 1 1 1 1 1 1 1 1 1 1 1 1 1 1 1 1 1 1 1 1 1 1 1 1 1 1 1 1 1 1 1 1 1 1 1 1 1 1 1 1 1 1 1 1 1 1 1 1 1 1 1 1 1 1 1 1 1 1 1 1 1 1 1 1 1 1 1 1 1 1 1 1 1 1 1 1 1 1 1 1 1 1 1 1 1 1 1 1 1 1 1 1 1 1 1 1 1 1 1 1 1 1 1 1 1 1 1 1 1 1 1 1 1 1 1 1 1 1 1 1 1 1 1 1 1 1 1 1 1 1 1 1 1 1 1 1 1 1 1 1 1 1 1 1 1 1 1 1 1 1 1 1 1 1 1 1 1 1 1 1 1 1 1 1 1 1 1 1 1 1 1 1 1 1 1 1 1 1 1 1 1 1 1 1 1 1 1 1 1 1 1 1 1 1 1 1 1 1 1 1 1 1 1 1 1 1 1 1 1 1 1 1 1 1 1 1 1 1 1 1 1 1 1 1 1 1 1 1 1 1 1 1 1 1 1 1 1 1 1 1 1 1 1 1 1 1 1 1 1 1 1 1 1 1 1 1 1 1 1 1 1 1 1 1 1 1 1 1 1 1 1 1 1 1 1 1 1 1 1 1 1 1 1 1 1 1 1 1 1 1 1 1 1 1 1 1 1 1 1 1 1 1 1 1 1 1 1 1 1 1 1 1 1 1 1 1 1 1 1 1 1 1 1 1 1 1 1 1 1 1 1 1 1 1 1 1 1 1 1 1 1 1 1 1 1 1 1 1 1 1 1 1 1 1 1 1 1 1 1 1 1 1 1 1 1 1 1 1 1 1 1 1 1 1 1 1 1 1 1 1 1 1 1 1 1 1 1 1 1 1 1 1 1 1 1 1 1 1 1 1 1 1 1 1 1 1 1 1 1 1 1 1 1 1 1 1 1 1 1 1 1 1 1 1 1 1 1 1 1 1 1 1 1 1 1 1 1 1 1 1 1 1 1 1\n",
            "INFO:tensorflow:segment_ids: 0 0 0 0 0 0 0 0 0 0 0 0 0 0 0 0 0 0 0 0 0 0 0 0 0 0 0 0 0 0 0 0 0 0 0 0 0 0 0 0 0 0 0 0 0 0 0 0 0 0 0 0 0 0 0 0 0 0 0 0 0 0 0 0 0 0 0 0 0 0 0 0 0 0 0 0 0 0 0 0 0 0 0 0 0 0 0 0 0 0 0 0 0 0 0 0 0 0 0 0 0 0 0 0 0 0 0 0 0 0 0 0 0 0 0 0 0 0 0 0 0 0 0 0 0 0 0 0 0 0 0 0 0 0 0 0 0 0 0 0 0 0 0 0 0 0 0 0 0 0 0 0 0 0 0 0 0 0 0 0 0 0 0 0 0 0 0 0 0 0 0 0 0 0 0 0 0 0 0 0 0 0 0 0 0 0 0 0 0 0 0 0 0 0 0 0 0 0 0 0 0 0 0 0 0 0 0 0 0 0 0 0 0 0 0 0 0 0 0 0 0 0 0 0 0 0 0 0 0 0 0 0 0 0 0 0 0 0 0 0 0 0 0 0 0 0 0 0 0 0 0 0 0 0 0 0 0 1 1 1 1 1 1 1 1 1 1 1 1 1 1 1 1 1 1 1 1 1 1 1 1 1 1 1 1 1 1 1 1 1 1 1 1 1 1 1 1 1 1 1 1 1 1 1 1 1 1 1 1 1 1 1 1 1 1 1 1 1 1 1 1 1 1 1 1 1 1 1 1 1 1 1 1 1 1 1 1 1 1 1 1 1 1 1 1 1 1 1 1 1 1 1 1 1 1 1 1 1 1 1 1 1 1 1 1 1 1 1 1 1 1 1 1 1 1 1 1 1 1 1 1 1 1 1 1 1 1 1 1 1 1 1 1 1 1 1 1 1 1 1 1 1 1 1 1 1 1 1 1 1 1 1 1 1 1 1 1 1 1 1 1 1 1 1 1 1 1 1 1 1 1 1 1 1 1 1 1 1 1 1 1 1 1 1 1 1 1 1 1 1 1 1 1 1 1 1 1 1 1 1 1 1 1 1 1 1 1 1 1 1 1 1 1 1 1 1 1 1 1 1 1 1 1 1 1 1 1 1 1 1 1 1 1 1 1 1 1 1 1 1 1 1 1 1 1 1 1 1 1 1 1 1\n",
            "INFO:tensorflow:label: not_entailment (id = 0)\n",
            "INFO:tensorflow:*** Example ***\n",
            "INFO:tensorflow:guid: 0_6837647\n",
            "INFO:tensorflow:tokens: [CLS] 1 . a method to aggregate , filter , and share energy data for analysis , the method comprising : receiving first data associated with a first electrical circuit , the first data having a first protocol ; sampling the first data at a first sampling rate to generate first digital data , wherein the first sampling rate is substantially continuous ; and transmitting reporting digital data over a network having a network protocol different from the first protocol , the reporting digital data comprising at least the first digital data , wherein the reporting digital data is transmitted at a reporting rate that is deco ##up ##led from the first sampling rate . 2 . the method of claim 1 further comprising : receiving second data associated with a second electrical circuit , the second data having a second protocol different from the first protocol ; and sampling the second data at a second sampling rate to generate second digital data , wherein the second sampling rate is substantially continuous ; wherein the network protocol is different from the first protocol and the second protocol , wherein the reporting digital data comprises at least one of the first digital data and the second digital data , and wherein the reporting digital data is transmitted at the reporting rate that is deco ##up ##led from the first sampling rate and the second sampling rate . 3 . the method of claim 1 wherein the reporting rate is substantially continuous . 4 . the method of [SEP] 1 . a modular crowd and traffic control barrier , comprising : a plurality , of barrier sections with each barrier section of said plurality of barrier sections comprising a male end and a female end , a base portion and an upright portion having one or more projections at each said male end and said female end of each said barrier section ; a plurality of rein ##for ##cing strips ; a plurality of hi ##nge pins ; a tension member for attach ##ing each rein ##for ##cing strip of said plurality of rein ##for ##cing strips to a respective said barrier section , wherein said tension member passes through aligned aperture ##s in said rein ##for ##cing strip and said barrier section ; at least one rein ##for ##cing bracket for spanning between two adjacent said barrier sections , said at least one rein ##for ##cing bracket having an aperture , wherein said at least one rein ##for ##cing bracket is to be retained in place by at least one said tension member of each said barrier section passing through the aperture in said rein ##for ##cing bracket , wherein for each said barrier section there is another barrier section of said plurality of barrier sections so that when said female end of a first said barrier section is brought adjacent to said male end of a second said barrier section , said one or more projections of each of said female end and of said male end mate with one another [SEP]\n",
            "INFO:tensorflow:input_ids: 101 1015 1012 1037 4118 2000 9572 1010 11307 1010 1998 3745 2943 2951 2005 4106 1010 1996 4118 9605 1024 4909 2034 2951 3378 2007 1037 2034 5992 4984 1010 1996 2034 2951 2383 1037 2034 8778 1025 16227 1996 2034 2951 2012 1037 2034 16227 3446 2000 9699 2034 3617 2951 1010 16726 1996 2034 16227 3446 2003 12381 7142 1025 1998 23820 7316 3617 2951 2058 1037 2897 2383 1037 2897 8778 2367 2013 1996 2034 8778 1010 1996 7316 3617 2951 9605 2012 2560 1996 2034 3617 2951 1010 16726 1996 7316 3617 2951 2003 11860 2012 1037 7316 3446 2008 2003 21933 6279 3709 2013 1996 2034 16227 3446 1012 1016 1012 1996 4118 1997 4366 1015 2582 9605 1024 4909 2117 2951 3378 2007 1037 2117 5992 4984 1010 1996 2117 2951 2383 1037 2117 8778 2367 2013 1996 2034 8778 1025 1998 16227 1996 2117 2951 2012 1037 2117 16227 3446 2000 9699 2117 3617 2951 1010 16726 1996 2117 16227 3446 2003 12381 7142 1025 16726 1996 2897 8778 2003 2367 2013 1996 2034 8778 1998 1996 2117 8778 1010 16726 1996 7316 3617 2951 8681 2012 2560 2028 1997 1996 2034 3617 2951 1998 1996 2117 3617 2951 1010 1998 16726 1996 7316 3617 2951 2003 11860 2012 1996 7316 3446 2008 2003 21933 6279 3709 2013 1996 2034 16227 3446 1998 1996 2117 16227 3446 1012 1017 1012 1996 4118 1997 4366 1015 16726 1996 7316 3446 2003 12381 7142 1012 1018 1012 1996 4118 1997 102 1015 1012 1037 19160 4306 1998 4026 2491 8803 1010 9605 1024 1037 29018 1010 1997 8803 5433 2007 2169 8803 2930 1997 2056 29018 1997 8803 5433 9605 1037 3287 2203 1998 1037 2931 2203 1010 1037 2918 4664 1998 2019 10051 4664 2383 2028 2030 2062 21796 2012 2169 2056 3287 2203 1998 2056 2931 2203 1997 2169 2056 8803 2930 1025 1037 29018 1997 27788 29278 6129 12970 1025 1037 29018 1997 7632 15465 16300 1025 1037 6980 2266 2005 22476 2075 2169 27788 29278 6129 6167 1997 2056 29018 1997 27788 29278 6129 12970 2000 1037 7972 2056 8803 2930 1010 16726 2056 6980 2266 5235 2083 13115 18892 2015 1999 2056 27788 29278 6129 6167 1998 2056 8803 2930 1025 2012 2560 2028 27788 29278 6129 21605 2005 13912 2090 2048 5516 2056 8803 5433 1010 2056 2012 2560 2028 27788 29278 6129 21605 2383 2019 18892 1010 16726 2056 2012 2560 2028 27788 29278 6129 21605 2003 2000 2022 6025 1999 2173 2011 2012 2560 2028 2056 6980 2266 1997 2169 2056 8803 2930 4458 2083 1996 18892 1999 2056 27788 29278 6129 21605 1010 16726 2005 2169 2056 8803 2930 2045 2003 2178 8803 2930 1997 2056 29018 1997 8803 5433 2061 2008 2043 2056 2931 2203 1997 1037 2034 2056 8803 2930 2003 2716 5516 2000 2056 3287 2203 1997 1037 2117 2056 8803 2930 1010 2056 2028 2030 2062 21796 1997 2169 1997 2056 2931 2203 1998 1997 2056 3287 2203 6775 2007 2028 2178 102\n",
            "INFO:tensorflow:input_mask: 1 1 1 1 1 1 1 1 1 1 1 1 1 1 1 1 1 1 1 1 1 1 1 1 1 1 1 1 1 1 1 1 1 1 1 1 1 1 1 1 1 1 1 1 1 1 1 1 1 1 1 1 1 1 1 1 1 1 1 1 1 1 1 1 1 1 1 1 1 1 1 1 1 1 1 1 1 1 1 1 1 1 1 1 1 1 1 1 1 1 1 1 1 1 1 1 1 1 1 1 1 1 1 1 1 1 1 1 1 1 1 1 1 1 1 1 1 1 1 1 1 1 1 1 1 1 1 1 1 1 1 1 1 1 1 1 1 1 1 1 1 1 1 1 1 1 1 1 1 1 1 1 1 1 1 1 1 1 1 1 1 1 1 1 1 1 1 1 1 1 1 1 1 1 1 1 1 1 1 1 1 1 1 1 1 1 1 1 1 1 1 1 1 1 1 1 1 1 1 1 1 1 1 1 1 1 1 1 1 1 1 1 1 1 1 1 1 1 1 1 1 1 1 1 1 1 1 1 1 1 1 1 1 1 1 1 1 1 1 1 1 1 1 1 1 1 1 1 1 1 1 1 1 1 1 1 1 1 1 1 1 1 1 1 1 1 1 1 1 1 1 1 1 1 1 1 1 1 1 1 1 1 1 1 1 1 1 1 1 1 1 1 1 1 1 1 1 1 1 1 1 1 1 1 1 1 1 1 1 1 1 1 1 1 1 1 1 1 1 1 1 1 1 1 1 1 1 1 1 1 1 1 1 1 1 1 1 1 1 1 1 1 1 1 1 1 1 1 1 1 1 1 1 1 1 1 1 1 1 1 1 1 1 1 1 1 1 1 1 1 1 1 1 1 1 1 1 1 1 1 1 1 1 1 1 1 1 1 1 1 1 1 1 1 1 1 1 1 1 1 1 1 1 1 1 1 1 1 1 1 1 1 1 1 1 1 1 1 1 1 1 1 1 1 1 1 1 1 1 1 1 1 1 1 1 1 1 1 1 1 1 1 1 1 1 1 1 1 1 1 1 1 1 1 1 1 1 1 1 1 1 1 1 1 1 1 1 1 1 1 1 1 1 1 1 1 1 1 1 1 1 1 1 1 1 1 1 1 1 1 1 1 1 1 1 1 1 1 1 1 1 1 1 1 1 1 1 1 1 1 1 1\n",
            "INFO:tensorflow:segment_ids: 0 0 0 0 0 0 0 0 0 0 0 0 0 0 0 0 0 0 0 0 0 0 0 0 0 0 0 0 0 0 0 0 0 0 0 0 0 0 0 0 0 0 0 0 0 0 0 0 0 0 0 0 0 0 0 0 0 0 0 0 0 0 0 0 0 0 0 0 0 0 0 0 0 0 0 0 0 0 0 0 0 0 0 0 0 0 0 0 0 0 0 0 0 0 0 0 0 0 0 0 0 0 0 0 0 0 0 0 0 0 0 0 0 0 0 0 0 0 0 0 0 0 0 0 0 0 0 0 0 0 0 0 0 0 0 0 0 0 0 0 0 0 0 0 0 0 0 0 0 0 0 0 0 0 0 0 0 0 0 0 0 0 0 0 0 0 0 0 0 0 0 0 0 0 0 0 0 0 0 0 0 0 0 0 0 0 0 0 0 0 0 0 0 0 0 0 0 0 0 0 0 0 0 0 0 0 0 0 0 0 0 0 0 0 0 0 0 0 0 0 0 0 0 0 0 0 0 0 0 0 0 0 0 0 0 0 0 0 0 0 0 0 0 0 0 0 0 0 0 0 0 0 0 0 0 0 0 1 1 1 1 1 1 1 1 1 1 1 1 1 1 1 1 1 1 1 1 1 1 1 1 1 1 1 1 1 1 1 1 1 1 1 1 1 1 1 1 1 1 1 1 1 1 1 1 1 1 1 1 1 1 1 1 1 1 1 1 1 1 1 1 1 1 1 1 1 1 1 1 1 1 1 1 1 1 1 1 1 1 1 1 1 1 1 1 1 1 1 1 1 1 1 1 1 1 1 1 1 1 1 1 1 1 1 1 1 1 1 1 1 1 1 1 1 1 1 1 1 1 1 1 1 1 1 1 1 1 1 1 1 1 1 1 1 1 1 1 1 1 1 1 1 1 1 1 1 1 1 1 1 1 1 1 1 1 1 1 1 1 1 1 1 1 1 1 1 1 1 1 1 1 1 1 1 1 1 1 1 1 1 1 1 1 1 1 1 1 1 1 1 1 1 1 1 1 1 1 1 1 1 1 1 1 1 1 1 1 1 1 1 1 1 1 1 1 1 1 1 1 1 1 1 1 1 1 1 1 1 1 1 1 1 1 1 1 1 1 1 1 1 1 1 1 1 1 1 1 1 1 1 1 1\n",
            "INFO:tensorflow:label: not_entailment (id = 0)\n",
            "INFO:tensorflow:*** Example ***\n",
            "INFO:tensorflow:guid: 0_6837799\n",
            "INFO:tensorflow:tokens: [CLS] 1 . a method to aggregate , filter , and share energy data for analysis , the method comprising : receiving first data associated with a first electrical circuit , the first data having a first protocol ; sampling the first data at a first sampling rate to generate first digital data , wherein the first sampling rate is substantially continuous ; and transmitting reporting digital data over a network having a network protocol different from the first protocol , the reporting digital data comprising at least the first digital data , wherein the reporting digital data is transmitted at a reporting rate that is deco ##up ##led from the first sampling rate . 2 . the method of claim 1 further comprising : receiving second data associated with a second electrical circuit , the second data having a second protocol different from the first protocol ; and sampling the second data at a second sampling rate to generate second digital data , wherein the second sampling rate is substantially continuous ; wherein the network protocol is different from the first protocol and the second protocol , wherein the reporting digital data comprises at least one of the first digital data and the second digital data , and wherein the reporting digital data is transmitted at the reporting rate that is deco ##up ##led from the first sampling rate and the second sampling rate . 3 . the method of claim 1 wherein the reporting rate is substantially continuous . 4 . the method of [SEP] 1 . a method of align ##ing a put ##ter , comprising the steps of : providing a put ##ter having a head , a heel , a toe , a top surface , and a plan ##ar striking face comprising a re ##movable reflecting surface for receiving and reflecting incident light , the top surface comprising at least one first reference line oriented substantially parallel to the striking face and a plurality of second reference lines oriented substantially perpendicular to the striking face ; providing a light source separate from the put ##ter head ; directing light from the light source towards the reflecting surface such that the reflective surface is illuminated with and reflects a portion of the light towards a reference device ; detecting the reflected light with a reference device , wherein the reference device is a photos ##ens ##itive array and the reflected light incident upon the photos ##ens ##itive array generates a signal capable of being transferred to an output device visible to a golfer ; determining the location of the reflected beam on the reference device relative to a central point prior to the golfer making a putting stroke ; correct ##ing the orientation of the put ##ter so that the reflected beam is directed at the center of the reference device ; and using the reference lines to provide a visual reference point to the golfer indicative of put ##ter orientation . 2 . the method of claim 1 , wherein the light source is a [SEP]\n",
            "INFO:tensorflow:input_ids: 101 1015 1012 1037 4118 2000 9572 1010 11307 1010 1998 3745 2943 2951 2005 4106 1010 1996 4118 9605 1024 4909 2034 2951 3378 2007 1037 2034 5992 4984 1010 1996 2034 2951 2383 1037 2034 8778 1025 16227 1996 2034 2951 2012 1037 2034 16227 3446 2000 9699 2034 3617 2951 1010 16726 1996 2034 16227 3446 2003 12381 7142 1025 1998 23820 7316 3617 2951 2058 1037 2897 2383 1037 2897 8778 2367 2013 1996 2034 8778 1010 1996 7316 3617 2951 9605 2012 2560 1996 2034 3617 2951 1010 16726 1996 7316 3617 2951 2003 11860 2012 1037 7316 3446 2008 2003 21933 6279 3709 2013 1996 2034 16227 3446 1012 1016 1012 1996 4118 1997 4366 1015 2582 9605 1024 4909 2117 2951 3378 2007 1037 2117 5992 4984 1010 1996 2117 2951 2383 1037 2117 8778 2367 2013 1996 2034 8778 1025 1998 16227 1996 2117 2951 2012 1037 2117 16227 3446 2000 9699 2117 3617 2951 1010 16726 1996 2117 16227 3446 2003 12381 7142 1025 16726 1996 2897 8778 2003 2367 2013 1996 2034 8778 1998 1996 2117 8778 1010 16726 1996 7316 3617 2951 8681 2012 2560 2028 1997 1996 2034 3617 2951 1998 1996 2117 3617 2951 1010 1998 16726 1996 7316 3617 2951 2003 11860 2012 1996 7316 3446 2008 2003 21933 6279 3709 2013 1996 2034 16227 3446 1998 1996 2117 16227 3446 1012 1017 1012 1996 4118 1997 4366 1015 16726 1996 7316 3446 2003 12381 7142 1012 1018 1012 1996 4118 1997 102 1015 1012 1037 4118 1997 25705 2075 1037 2404 3334 1010 9605 1996 4084 1997 1024 4346 1037 2404 3334 2383 1037 2132 1010 1037 12073 1010 1037 11756 1010 1037 2327 3302 1010 1998 1037 2933 2906 8478 2227 9605 1037 2128 25661 10842 3302 2005 4909 1998 10842 5043 2422 1010 1996 2327 3302 9605 2012 2560 2028 2034 4431 2240 8048 12381 5903 2000 1996 8478 2227 1998 1037 29018 1997 2117 4431 3210 8048 12381 19581 2000 1996 8478 2227 1025 4346 1037 2422 3120 3584 2013 1996 2404 3334 2132 1025 9855 2422 2013 1996 2422 3120 2875 1996 10842 3302 2107 2008 1996 21346 3302 2003 14640 2007 1998 11138 1037 4664 1997 1996 2422 2875 1037 4431 5080 1025 25952 1996 7686 2422 2007 1037 4431 5080 1010 16726 1996 4431 5080 2003 1037 7760 6132 13043 9140 1998 1996 7686 2422 5043 2588 1996 7760 6132 13043 9140 19421 1037 4742 5214 1997 2108 4015 2000 2019 6434 5080 5710 2000 1037 20601 1025 12515 1996 3295 1997 1996 7686 7504 2006 1996 4431 5080 5816 2000 1037 2430 2391 3188 2000 1996 20601 2437 1037 5128 6909 1025 6149 2075 1996 10296 1997 1996 2404 3334 2061 2008 1996 7686 7504 2003 2856 2012 1996 2415 1997 1996 4431 5080 1025 1998 2478 1996 4431 3210 2000 3073 1037 5107 4431 2391 2000 1996 20601 24668 1997 2404 3334 10296 1012 1016 1012 1996 4118 1997 4366 1015 1010 16726 1996 2422 3120 2003 1037 102\n",
            "INFO:tensorflow:input_mask: 1 1 1 1 1 1 1 1 1 1 1 1 1 1 1 1 1 1 1 1 1 1 1 1 1 1 1 1 1 1 1 1 1 1 1 1 1 1 1 1 1 1 1 1 1 1 1 1 1 1 1 1 1 1 1 1 1 1 1 1 1 1 1 1 1 1 1 1 1 1 1 1 1 1 1 1 1 1 1 1 1 1 1 1 1 1 1 1 1 1 1 1 1 1 1 1 1 1 1 1 1 1 1 1 1 1 1 1 1 1 1 1 1 1 1 1 1 1 1 1 1 1 1 1 1 1 1 1 1 1 1 1 1 1 1 1 1 1 1 1 1 1 1 1 1 1 1 1 1 1 1 1 1 1 1 1 1 1 1 1 1 1 1 1 1 1 1 1 1 1 1 1 1 1 1 1 1 1 1 1 1 1 1 1 1 1 1 1 1 1 1 1 1 1 1 1 1 1 1 1 1 1 1 1 1 1 1 1 1 1 1 1 1 1 1 1 1 1 1 1 1 1 1 1 1 1 1 1 1 1 1 1 1 1 1 1 1 1 1 1 1 1 1 1 1 1 1 1 1 1 1 1 1 1 1 1 1 1 1 1 1 1 1 1 1 1 1 1 1 1 1 1 1 1 1 1 1 1 1 1 1 1 1 1 1 1 1 1 1 1 1 1 1 1 1 1 1 1 1 1 1 1 1 1 1 1 1 1 1 1 1 1 1 1 1 1 1 1 1 1 1 1 1 1 1 1 1 1 1 1 1 1 1 1 1 1 1 1 1 1 1 1 1 1 1 1 1 1 1 1 1 1 1 1 1 1 1 1 1 1 1 1 1 1 1 1 1 1 1 1 1 1 1 1 1 1 1 1 1 1 1 1 1 1 1 1 1 1 1 1 1 1 1 1 1 1 1 1 1 1 1 1 1 1 1 1 1 1 1 1 1 1 1 1 1 1 1 1 1 1 1 1 1 1 1 1 1 1 1 1 1 1 1 1 1 1 1 1 1 1 1 1 1 1 1 1 1 1 1 1 1 1 1 1 1 1 1 1 1 1 1 1 1 1 1 1 1 1 1 1 1 1 1 1 1 1 1 1 1 1 1 1 1 1 1 1 1 1 1 1 1 1 1 1 1 1 1 1 1 1 1 1 1 1 1 1 1 1 1 1 1 1\n",
            "INFO:tensorflow:segment_ids: 0 0 0 0 0 0 0 0 0 0 0 0 0 0 0 0 0 0 0 0 0 0 0 0 0 0 0 0 0 0 0 0 0 0 0 0 0 0 0 0 0 0 0 0 0 0 0 0 0 0 0 0 0 0 0 0 0 0 0 0 0 0 0 0 0 0 0 0 0 0 0 0 0 0 0 0 0 0 0 0 0 0 0 0 0 0 0 0 0 0 0 0 0 0 0 0 0 0 0 0 0 0 0 0 0 0 0 0 0 0 0 0 0 0 0 0 0 0 0 0 0 0 0 0 0 0 0 0 0 0 0 0 0 0 0 0 0 0 0 0 0 0 0 0 0 0 0 0 0 0 0 0 0 0 0 0 0 0 0 0 0 0 0 0 0 0 0 0 0 0 0 0 0 0 0 0 0 0 0 0 0 0 0 0 0 0 0 0 0 0 0 0 0 0 0 0 0 0 0 0 0 0 0 0 0 0 0 0 0 0 0 0 0 0 0 0 0 0 0 0 0 0 0 0 0 0 0 0 0 0 0 0 0 0 0 0 0 0 0 0 0 0 0 0 0 0 0 0 0 0 0 0 0 0 0 0 0 1 1 1 1 1 1 1 1 1 1 1 1 1 1 1 1 1 1 1 1 1 1 1 1 1 1 1 1 1 1 1 1 1 1 1 1 1 1 1 1 1 1 1 1 1 1 1 1 1 1 1 1 1 1 1 1 1 1 1 1 1 1 1 1 1 1 1 1 1 1 1 1 1 1 1 1 1 1 1 1 1 1 1 1 1 1 1 1 1 1 1 1 1 1 1 1 1 1 1 1 1 1 1 1 1 1 1 1 1 1 1 1 1 1 1 1 1 1 1 1 1 1 1 1 1 1 1 1 1 1 1 1 1 1 1 1 1 1 1 1 1 1 1 1 1 1 1 1 1 1 1 1 1 1 1 1 1 1 1 1 1 1 1 1 1 1 1 1 1 1 1 1 1 1 1 1 1 1 1 1 1 1 1 1 1 1 1 1 1 1 1 1 1 1 1 1 1 1 1 1 1 1 1 1 1 1 1 1 1 1 1 1 1 1 1 1 1 1 1 1 1 1 1 1 1 1 1 1 1 1 1 1 1 1 1 1 1 1 1 1 1 1 1 1 1 1 1 1 1 1 1 1 1 1 1\n",
            "INFO:tensorflow:label: not_entailment (id = 0)\n",
            "INFO:tensorflow:*** Example ***\n",
            "INFO:tensorflow:guid: 0_6837893\n",
            "INFO:tensorflow:tokens: [CLS] 1 . a method to aggregate , filter , and share energy data for analysis , the method comprising : receiving first data associated with a first electrical circuit , the first data having a first protocol ; sampling the first data at a first sampling rate to generate first digital data , wherein the first sampling rate is substantially continuous ; and transmitting reporting digital data over a network having a network protocol different from the first protocol , the reporting digital data comprising at least the first digital data , wherein the reporting digital data is transmitted at a reporting rate that is deco ##up ##led from the first sampling rate . 2 . the method of claim 1 further comprising : receiving second data associated with a second electrical circuit , the second data having a second protocol different from the first protocol ; and sampling the second data at a second sampling rate to generate second digital data , wherein the second sampling rate is substantially continuous ; wherein the network protocol is different from the first protocol and the second protocol , wherein the reporting digital data comprises at least one of the first digital data and the second digital data , and wherein the reporting digital data is transmitted at the reporting rate that is deco ##up ##led from the first sampling rate and the second sampling rate . 3 . the method of claim 1 wherein the reporting rate is substantially continuous . 4 . the method of [SEP] 1 . apparatus for insert ##ing a surgical fast ##ener through a plurality of portions of material , said apparatus comprising : a surgical fast ##ener having first and second ends and made from a material which enables said fast ##ener to be transformed from a first stressed el ##onga ##te shape to a second un ##st ##ressed shape upon release of said fast ##ener from a stressed condition , the first stressed el ##onga ##te shape of said fast ##ener enabling the first end to be extended through a plurality of layers of material , and with the second shape of the fast ##ener being in the form of a spring with a plurality of coil ##s around a spring axis , with the coil ##s being spring biased towards each other along the spring axis with sufficient axial force to enable the coil ##s on opposite sides of the layers of material to cl ##amp the layers of material together along the spring axis ; a single needle having first and second ends , penetration means adjacent the first end of said single needle , said penetration means being configured to pierce through the plurality of layers of material , and insertion means adjacent to the first end of said single needle , said insertion means being configured to place said surgical fast ##ener through the plurality of layers of material pierced by said penetration means ; wherein said insertion means comprises a magazine comprising a plurality of chambers , with each [SEP]\n",
            "INFO:tensorflow:input_ids: 101 1015 1012 1037 4118 2000 9572 1010 11307 1010 1998 3745 2943 2951 2005 4106 1010 1996 4118 9605 1024 4909 2034 2951 3378 2007 1037 2034 5992 4984 1010 1996 2034 2951 2383 1037 2034 8778 1025 16227 1996 2034 2951 2012 1037 2034 16227 3446 2000 9699 2034 3617 2951 1010 16726 1996 2034 16227 3446 2003 12381 7142 1025 1998 23820 7316 3617 2951 2058 1037 2897 2383 1037 2897 8778 2367 2013 1996 2034 8778 1010 1996 7316 3617 2951 9605 2012 2560 1996 2034 3617 2951 1010 16726 1996 7316 3617 2951 2003 11860 2012 1037 7316 3446 2008 2003 21933 6279 3709 2013 1996 2034 16227 3446 1012 1016 1012 1996 4118 1997 4366 1015 2582 9605 1024 4909 2117 2951 3378 2007 1037 2117 5992 4984 1010 1996 2117 2951 2383 1037 2117 8778 2367 2013 1996 2034 8778 1025 1998 16227 1996 2117 2951 2012 1037 2117 16227 3446 2000 9699 2117 3617 2951 1010 16726 1996 2117 16227 3446 2003 12381 7142 1025 16726 1996 2897 8778 2003 2367 2013 1996 2034 8778 1998 1996 2117 8778 1010 16726 1996 7316 3617 2951 8681 2012 2560 2028 1997 1996 2034 3617 2951 1998 1996 2117 3617 2951 1010 1998 16726 1996 7316 3617 2951 2003 11860 2012 1996 7316 3446 2008 2003 21933 6279 3709 2013 1996 2034 16227 3446 1998 1996 2117 16227 3446 1012 1017 1012 1996 4118 1997 4366 1015 16726 1996 7316 3446 2003 12381 7142 1012 1018 1012 1996 4118 1997 102 1015 1012 14709 2005 19274 2075 1037 11707 3435 24454 2083 1037 29018 1997 8810 1997 3430 1010 2056 14709 9605 1024 1037 11707 3435 24454 2383 2034 1998 2117 4515 1998 2081 2013 1037 3430 2029 12939 2056 3435 24454 2000 2022 8590 2013 1037 2034 13233 3449 26356 2618 4338 2000 1037 2117 4895 3367 16119 4338 2588 2713 1997 2056 3435 24454 2013 1037 13233 4650 1010 1996 2034 13233 3449 26356 2618 4338 1997 2056 3435 24454 12067 1996 2034 2203 2000 2022 3668 2083 1037 29018 1997 9014 1997 3430 1010 1998 2007 1996 2117 4338 1997 1996 3435 24454 2108 1999 1996 2433 1997 1037 3500 2007 1037 29018 1997 17085 2015 2105 1037 3500 8123 1010 2007 1996 17085 2015 2108 3500 25352 2875 2169 2060 2247 1996 3500 8123 2007 7182 26819 2486 2000 9585 1996 17085 2015 2006 4500 3903 1997 1996 9014 1997 3430 2000 18856 16613 1996 9014 1997 3430 2362 2247 1996 3500 8123 1025 1037 2309 12201 2383 2034 1998 2117 4515 1010 20015 2965 5516 1996 2034 2203 1997 2056 2309 12201 1010 2056 20015 2965 2108 26928 2000 9267 2083 1996 29018 1997 9014 1997 3430 1010 1998 23851 2965 5516 2000 1996 2034 2203 1997 2056 2309 12201 1010 2056 23851 2965 2108 26928 2000 2173 2056 11707 3435 24454 2083 1996 29018 1997 9014 1997 3430 16276 2011 2056 20015 2965 1025 16726 2056 23851 2965 8681 1037 2932 9605 1037 29018 1997 8477 1010 2007 2169 102\n",
            "INFO:tensorflow:input_mask: 1 1 1 1 1 1 1 1 1 1 1 1 1 1 1 1 1 1 1 1 1 1 1 1 1 1 1 1 1 1 1 1 1 1 1 1 1 1 1 1 1 1 1 1 1 1 1 1 1 1 1 1 1 1 1 1 1 1 1 1 1 1 1 1 1 1 1 1 1 1 1 1 1 1 1 1 1 1 1 1 1 1 1 1 1 1 1 1 1 1 1 1 1 1 1 1 1 1 1 1 1 1 1 1 1 1 1 1 1 1 1 1 1 1 1 1 1 1 1 1 1 1 1 1 1 1 1 1 1 1 1 1 1 1 1 1 1 1 1 1 1 1 1 1 1 1 1 1 1 1 1 1 1 1 1 1 1 1 1 1 1 1 1 1 1 1 1 1 1 1 1 1 1 1 1 1 1 1 1 1 1 1 1 1 1 1 1 1 1 1 1 1 1 1 1 1 1 1 1 1 1 1 1 1 1 1 1 1 1 1 1 1 1 1 1 1 1 1 1 1 1 1 1 1 1 1 1 1 1 1 1 1 1 1 1 1 1 1 1 1 1 1 1 1 1 1 1 1 1 1 1 1 1 1 1 1 1 1 1 1 1 1 1 1 1 1 1 1 1 1 1 1 1 1 1 1 1 1 1 1 1 1 1 1 1 1 1 1 1 1 1 1 1 1 1 1 1 1 1 1 1 1 1 1 1 1 1 1 1 1 1 1 1 1 1 1 1 1 1 1 1 1 1 1 1 1 1 1 1 1 1 1 1 1 1 1 1 1 1 1 1 1 1 1 1 1 1 1 1 1 1 1 1 1 1 1 1 1 1 1 1 1 1 1 1 1 1 1 1 1 1 1 1 1 1 1 1 1 1 1 1 1 1 1 1 1 1 1 1 1 1 1 1 1 1 1 1 1 1 1 1 1 1 1 1 1 1 1 1 1 1 1 1 1 1 1 1 1 1 1 1 1 1 1 1 1 1 1 1 1 1 1 1 1 1 1 1 1 1 1 1 1 1 1 1 1 1 1 1 1 1 1 1 1 1 1 1 1 1 1 1 1 1 1 1 1 1 1 1 1 1 1 1 1 1 1 1 1 1 1 1 1 1 1 1 1 1 1 1 1 1 1 1 1 1 1 1 1 1 1 1 1 1 1 1 1 1 1 1 1 1 1\n",
            "INFO:tensorflow:segment_ids: 0 0 0 0 0 0 0 0 0 0 0 0 0 0 0 0 0 0 0 0 0 0 0 0 0 0 0 0 0 0 0 0 0 0 0 0 0 0 0 0 0 0 0 0 0 0 0 0 0 0 0 0 0 0 0 0 0 0 0 0 0 0 0 0 0 0 0 0 0 0 0 0 0 0 0 0 0 0 0 0 0 0 0 0 0 0 0 0 0 0 0 0 0 0 0 0 0 0 0 0 0 0 0 0 0 0 0 0 0 0 0 0 0 0 0 0 0 0 0 0 0 0 0 0 0 0 0 0 0 0 0 0 0 0 0 0 0 0 0 0 0 0 0 0 0 0 0 0 0 0 0 0 0 0 0 0 0 0 0 0 0 0 0 0 0 0 0 0 0 0 0 0 0 0 0 0 0 0 0 0 0 0 0 0 0 0 0 0 0 0 0 0 0 0 0 0 0 0 0 0 0 0 0 0 0 0 0 0 0 0 0 0 0 0 0 0 0 0 0 0 0 0 0 0 0 0 0 0 0 0 0 0 0 0 0 0 0 0 0 0 0 0 0 0 0 0 0 0 0 0 0 0 0 0 0 0 0 1 1 1 1 1 1 1 1 1 1 1 1 1 1 1 1 1 1 1 1 1 1 1 1 1 1 1 1 1 1 1 1 1 1 1 1 1 1 1 1 1 1 1 1 1 1 1 1 1 1 1 1 1 1 1 1 1 1 1 1 1 1 1 1 1 1 1 1 1 1 1 1 1 1 1 1 1 1 1 1 1 1 1 1 1 1 1 1 1 1 1 1 1 1 1 1 1 1 1 1 1 1 1 1 1 1 1 1 1 1 1 1 1 1 1 1 1 1 1 1 1 1 1 1 1 1 1 1 1 1 1 1 1 1 1 1 1 1 1 1 1 1 1 1 1 1 1 1 1 1 1 1 1 1 1 1 1 1 1 1 1 1 1 1 1 1 1 1 1 1 1 1 1 1 1 1 1 1 1 1 1 1 1 1 1 1 1 1 1 1 1 1 1 1 1 1 1 1 1 1 1 1 1 1 1 1 1 1 1 1 1 1 1 1 1 1 1 1 1 1 1 1 1 1 1 1 1 1 1 1 1 1 1 1 1 1 1 1 1 1 1 1 1 1 1 1 1 1 1 1 1 1 1 1 1\n",
            "INFO:tensorflow:label: not_entailment (id = 0)\n",
            "INFO:tensorflow:*** Example ***\n",
            "INFO:tensorflow:guid: 0_6837910\n",
            "INFO:tensorflow:tokens: [CLS] 1 . a method to aggregate , filter , and share energy data for analysis , the method comprising : receiving first data associated with a first electrical circuit , the first data having a first protocol ; sampling the first data at a first sampling rate to generate first digital data , wherein the first sampling rate is substantially continuous ; and transmitting reporting digital data over a network having a network protocol different from the first protocol , the reporting digital data comprising at least the first digital data , wherein the reporting digital data is transmitted at a reporting rate that is deco ##up ##led from the first sampling rate . 2 . the method of claim 1 further comprising : receiving second data associated with a second electrical circuit , the second data having a second protocol different from the first protocol ; and sampling the second data at a second sampling rate to generate second digital data , wherein the second sampling rate is substantially continuous ; wherein the network protocol is different from the first protocol and the second protocol , wherein the reporting digital data comprises at least one of the first digital data and the second digital data , and wherein the reporting digital data is transmitted at the reporting rate that is deco ##up ##led from the first sampling rate and the second sampling rate . 3 . the method of claim 1 wherein the reporting rate is substantially continuous . 4 . the method of [SEP] 1 . an apparatus for gas ##ifying a liquid or solid fuel which has a gas ##ifier for producing a thermal deco ##mp ##osed gas by means of a thermal decomposition reaction of the liquid or solid fuel , comprising : heating means for heating water or low - temperature steam , and low - temperature air so as to be high - temperature steam and high - temperature air which have a temperature equal to or higher than 700 de ##g . c . ; and feeding means for feeding said high - temperature steam and said high - temperature air to a thermal decomposition area for thermal ##ly deco ##mp ##osing the liquid or solid fuel and / or a reforming area for reforming the thermal deco ##mp ##osed gas . 2 . an apparatus according to claim 1 , wherein the high - temperature steam and air are introduced into said thermal decomposition area and / or said reforming area by said feeding means , so that said thermal deco ##mp ##osed gas is reformed so as to be a high - temperature syn ##gas with an ex ##oth ##er ##mic reaction between the high - temperature air and carbon compound contained in the thermal deco ##mp ##osed gas and with an end ##oth ##er ##mic reaction between the carbon compound and said high - temperature steam . 3 . an apparatus according to claim 1 , wherein said high - temperature steam and air are introduced into said thermal decomposition [SEP]\n",
            "INFO:tensorflow:input_ids: 101 1015 1012 1037 4118 2000 9572 1010 11307 1010 1998 3745 2943 2951 2005 4106 1010 1996 4118 9605 1024 4909 2034 2951 3378 2007 1037 2034 5992 4984 1010 1996 2034 2951 2383 1037 2034 8778 1025 16227 1996 2034 2951 2012 1037 2034 16227 3446 2000 9699 2034 3617 2951 1010 16726 1996 2034 16227 3446 2003 12381 7142 1025 1998 23820 7316 3617 2951 2058 1037 2897 2383 1037 2897 8778 2367 2013 1996 2034 8778 1010 1996 7316 3617 2951 9605 2012 2560 1996 2034 3617 2951 1010 16726 1996 7316 3617 2951 2003 11860 2012 1037 7316 3446 2008 2003 21933 6279 3709 2013 1996 2034 16227 3446 1012 1016 1012 1996 4118 1997 4366 1015 2582 9605 1024 4909 2117 2951 3378 2007 1037 2117 5992 4984 1010 1996 2117 2951 2383 1037 2117 8778 2367 2013 1996 2034 8778 1025 1998 16227 1996 2117 2951 2012 1037 2117 16227 3446 2000 9699 2117 3617 2951 1010 16726 1996 2117 16227 3446 2003 12381 7142 1025 16726 1996 2897 8778 2003 2367 2013 1996 2034 8778 1998 1996 2117 8778 1010 16726 1996 7316 3617 2951 8681 2012 2560 2028 1997 1996 2034 3617 2951 1998 1996 2117 3617 2951 1010 1998 16726 1996 7316 3617 2951 2003 11860 2012 1996 7316 3446 2008 2003 21933 6279 3709 2013 1996 2034 16227 3446 1998 1996 2117 16227 3446 1012 1017 1012 1996 4118 1997 4366 1015 16726 1996 7316 3446 2003 12381 7142 1012 1018 1012 1996 4118 1997 102 1015 1012 2019 14709 2005 3806 11787 1037 6381 2030 5024 4762 2029 2038 1037 3806 18095 2005 5155 1037 9829 21933 8737 24768 3806 2011 2965 1997 1037 9829 22511 4668 1997 1996 6381 2030 5024 4762 1010 9605 1024 10808 2965 2005 10808 2300 2030 2659 1011 4860 5492 1010 1998 2659 1011 4860 2250 2061 2004 2000 2022 2152 1011 4860 5492 1998 2152 1011 4860 2250 2029 2031 1037 4860 5020 2000 2030 3020 2084 6352 2139 2290 1012 1039 1012 1025 1998 8521 2965 2005 8521 2056 2152 1011 4860 5492 1998 2056 2152 1011 4860 2250 2000 1037 9829 22511 2181 2005 9829 2135 21933 8737 18606 1996 6381 2030 5024 4762 1998 1013 2030 1037 29455 2181 2005 29455 1996 9829 21933 8737 24768 3806 1012 1016 1012 2019 14709 2429 2000 4366 1015 1010 16726 1996 2152 1011 4860 5492 1998 2250 2024 3107 2046 2056 9829 22511 2181 1998 1013 2030 2056 29455 2181 2011 2056 8521 2965 1010 2061 2008 2056 9829 21933 8737 24768 3806 2003 9114 2061 2004 2000 2022 1037 2152 1011 4860 19962 12617 2007 2019 4654 14573 2121 7712 4668 2090 1996 2152 1011 4860 2250 1998 6351 7328 4838 1999 1996 9829 21933 8737 24768 3806 1998 2007 2019 2203 14573 2121 7712 4668 2090 1996 6351 7328 1998 2056 2152 1011 4860 5492 1012 1017 1012 2019 14709 2429 2000 4366 1015 1010 16726 2056 2152 1011 4860 5492 1998 2250 2024 3107 2046 2056 9829 22511 102\n",
            "INFO:tensorflow:input_mask: 1 1 1 1 1 1 1 1 1 1 1 1 1 1 1 1 1 1 1 1 1 1 1 1 1 1 1 1 1 1 1 1 1 1 1 1 1 1 1 1 1 1 1 1 1 1 1 1 1 1 1 1 1 1 1 1 1 1 1 1 1 1 1 1 1 1 1 1 1 1 1 1 1 1 1 1 1 1 1 1 1 1 1 1 1 1 1 1 1 1 1 1 1 1 1 1 1 1 1 1 1 1 1 1 1 1 1 1 1 1 1 1 1 1 1 1 1 1 1 1 1 1 1 1 1 1 1 1 1 1 1 1 1 1 1 1 1 1 1 1 1 1 1 1 1 1 1 1 1 1 1 1 1 1 1 1 1 1 1 1 1 1 1 1 1 1 1 1 1 1 1 1 1 1 1 1 1 1 1 1 1 1 1 1 1 1 1 1 1 1 1 1 1 1 1 1 1 1 1 1 1 1 1 1 1 1 1 1 1 1 1 1 1 1 1 1 1 1 1 1 1 1 1 1 1 1 1 1 1 1 1 1 1 1 1 1 1 1 1 1 1 1 1 1 1 1 1 1 1 1 1 1 1 1 1 1 1 1 1 1 1 1 1 1 1 1 1 1 1 1 1 1 1 1 1 1 1 1 1 1 1 1 1 1 1 1 1 1 1 1 1 1 1 1 1 1 1 1 1 1 1 1 1 1 1 1 1 1 1 1 1 1 1 1 1 1 1 1 1 1 1 1 1 1 1 1 1 1 1 1 1 1 1 1 1 1 1 1 1 1 1 1 1 1 1 1 1 1 1 1 1 1 1 1 1 1 1 1 1 1 1 1 1 1 1 1 1 1 1 1 1 1 1 1 1 1 1 1 1 1 1 1 1 1 1 1 1 1 1 1 1 1 1 1 1 1 1 1 1 1 1 1 1 1 1 1 1 1 1 1 1 1 1 1 1 1 1 1 1 1 1 1 1 1 1 1 1 1 1 1 1 1 1 1 1 1 1 1 1 1 1 1 1 1 1 1 1 1 1 1 1 1 1 1 1 1 1 1 1 1 1 1 1 1 1 1 1 1 1 1 1 1 1 1 1 1 1 1 1 1 1 1 1 1 1 1 1 1 1 1 1 1 1 1 1 1 1 1 1 1 1 1 1 1 1 1 1 1 1 1 1 1\n",
            "INFO:tensorflow:segment_ids: 0 0 0 0 0 0 0 0 0 0 0 0 0 0 0 0 0 0 0 0 0 0 0 0 0 0 0 0 0 0 0 0 0 0 0 0 0 0 0 0 0 0 0 0 0 0 0 0 0 0 0 0 0 0 0 0 0 0 0 0 0 0 0 0 0 0 0 0 0 0 0 0 0 0 0 0 0 0 0 0 0 0 0 0 0 0 0 0 0 0 0 0 0 0 0 0 0 0 0 0 0 0 0 0 0 0 0 0 0 0 0 0 0 0 0 0 0 0 0 0 0 0 0 0 0 0 0 0 0 0 0 0 0 0 0 0 0 0 0 0 0 0 0 0 0 0 0 0 0 0 0 0 0 0 0 0 0 0 0 0 0 0 0 0 0 0 0 0 0 0 0 0 0 0 0 0 0 0 0 0 0 0 0 0 0 0 0 0 0 0 0 0 0 0 0 0 0 0 0 0 0 0 0 0 0 0 0 0 0 0 0 0 0 0 0 0 0 0 0 0 0 0 0 0 0 0 0 0 0 0 0 0 0 0 0 0 0 0 0 0 0 0 0 0 0 0 0 0 0 0 0 0 0 0 0 0 0 1 1 1 1 1 1 1 1 1 1 1 1 1 1 1 1 1 1 1 1 1 1 1 1 1 1 1 1 1 1 1 1 1 1 1 1 1 1 1 1 1 1 1 1 1 1 1 1 1 1 1 1 1 1 1 1 1 1 1 1 1 1 1 1 1 1 1 1 1 1 1 1 1 1 1 1 1 1 1 1 1 1 1 1 1 1 1 1 1 1 1 1 1 1 1 1 1 1 1 1 1 1 1 1 1 1 1 1 1 1 1 1 1 1 1 1 1 1 1 1 1 1 1 1 1 1 1 1 1 1 1 1 1 1 1 1 1 1 1 1 1 1 1 1 1 1 1 1 1 1 1 1 1 1 1 1 1 1 1 1 1 1 1 1 1 1 1 1 1 1 1 1 1 1 1 1 1 1 1 1 1 1 1 1 1 1 1 1 1 1 1 1 1 1 1 1 1 1 1 1 1 1 1 1 1 1 1 1 1 1 1 1 1 1 1 1 1 1 1 1 1 1 1 1 1 1 1 1 1 1 1 1 1 1 1 1 1 1 1 1 1 1 1 1 1 1 1 1 1 1 1 1 1 1 1\n",
            "INFO:tensorflow:label: not_entailment (id = 0)\n",
            "CPU times: user 23min 51s, sys: 695 ms, total: 23min 51s\n",
            "Wall time: 23min 52s\n"
          ],
          "name": "stdout"
        }
      ]
    },
    {
      "metadata": {
        "id": "PXVRcG3oM4-J",
        "colab_type": "code",
        "colab": {}
      },
      "cell_type": "code",
      "source": [
        ""
      ],
      "execution_count": 0,
      "outputs": []
    },
    {
      "metadata": {
        "id": "_BMm-E5cMlYF",
        "colab_type": "code",
        "colab": {}
      },
      "cell_type": "code",
      "source": [
        ""
      ],
      "execution_count": 0,
      "outputs": []
    },
    {
      "metadata": {
        "id": "kmogDBaG05_9",
        "colab_type": "code",
        "outputId": "b578709b-0503-490f-bd39-2eb8ad7567fd",
        "colab": {
          "base_uri": "https://localhost:8080/",
          "height": 695
        }
      },
      "cell_type": "code",
      "source": [
        "%%time\n",
        "\n",
        "test_fdict_all = df_to_fdicts(test_data)"
      ],
      "execution_count": 0,
      "outputs": [
        {
          "output_type": "stream",
          "text": [
            "INFO:tensorflow:*** Example ***\n",
            "INFO:tensorflow:guid: 0\n",
            "INFO:tensorflow:tokens: [CLS] 1 . a rotational angle detection device for a permanent magnet dynamo - electric machine comprising : a stat ##or that includes arm ##at ##ure winding ; a rotor that includes a rotor core and a plurality of permanent magnet ##s ; and a conduct ##ive circuit that includes first conductors extending in an axial direction of the rotor and being disposed in at least two places in a ci ##rc ##um ##fer ##ential direction of the rotor , and second conductors for electrically inter ##con ##ne ##cting the first conductors , wherein , the first conductors are each disposed within one of a range of an electrical angle between & # x ##22 ##12 ; 45 & # x ##b ##0 ; and + 45 & # x ##b ##0 ; in the ci ##rc ##um ##fer ##ential direction with a magnetic pole center of each of the plurality of permanent magnet ##s being set as a reference and a range of an electrical angle between & # x ##22 ##12 ; 45 & # x ##b ##0 ; and + 45 & # x ##b ##0 ; with a position apart from the magnetic pole center by an electrical angle of 90 & # x ##b ##0 ; being set as a reference , the conduct ##ive circuit being disposed in at least one place in the ci ##rc ##um ##fer ##ential direction , the rotational angle detection device further comprising a detection means for detecting a rotational angle of the rotor by [SEP] 1 . a tangible computer - read ##able medium having stored there ##on computer - ex ##ec ##utable instructions for implementing a custom ##iza ##ble visual user interface on a screen display of a tel ##ep ##hony device comprising : an application program for providing services to a user on the tel ##ep ##hony device ; a shell program that expose ##s an application programming interface for custom ##izing the custom ##iza ##ble visual user interface ; a message center operative ##ly connected to the shell program for providing access to a user message ; and a tel ##ep ##hony module for managing tel ##ep ##hony functions , wherein the application programming interface exposed by the shell program comprises one or more methods , the application programming interface receiving input from an application , and wherein execution of the one or more methods of the application programming interface is responsive to the input from the application for custom ##izing the custom ##iza ##ble visual user interface , wherein the tel ##ep ##hony module includes an operator agent for determining a media mode of an incoming call . 2 . the computer - read ##able medium of claim 1 wherein the operator agent further hands the incoming call to the message transport based on the media mode . 3 . the computer - read ##able medium of claim 2 wherein the operator agent is implemented as a protected service library ( ps ##l ) . 4 . the computer - read ##able medium of claim [SEP]\n",
            "INFO:tensorflow:input_ids: 101 1015 1012 1037 25254 6466 10788 5080 2005 1037 4568 16853 17205 1011 3751 3698 9605 1024 1037 28093 2953 2008 2950 2849 4017 5397 12788 1025 1037 18929 2008 2950 1037 18929 4563 1998 1037 29018 1997 4568 16853 2015 1025 1998 1037 6204 3512 4984 2008 2950 2034 23396 8402 1999 2019 26819 3257 1997 1996 18929 1998 2108 21866 1999 2012 2560 2048 3182 1999 1037 25022 11890 2819 7512 24271 3257 1997 1996 18929 1010 1998 2117 23396 2005 29103 6970 8663 2638 11873 1996 2034 23396 1010 16726 1010 1996 2034 23396 2024 2169 21866 2306 2028 1997 1037 2846 1997 2019 5992 6466 2090 1004 1001 1060 19317 12521 1025 3429 1004 1001 1060 2497 2692 1025 1998 1009 3429 1004 1001 1060 2497 2692 1025 1999 1996 25022 11890 2819 7512 24271 3257 2007 1037 8060 6536 2415 1997 2169 1997 1996 29018 1997 4568 16853 2015 2108 2275 2004 1037 4431 1998 1037 2846 1997 2019 5992 6466 2090 1004 1001 1060 19317 12521 1025 3429 1004 1001 1060 2497 2692 1025 1998 1009 3429 1004 1001 1060 2497 2692 1025 2007 1037 2597 4237 2013 1996 8060 6536 2415 2011 2019 5992 6466 1997 3938 1004 1001 1060 2497 2692 1025 2108 2275 2004 1037 4431 1010 1996 6204 3512 4984 2108 21866 1999 2012 2560 2028 2173 1999 1996 25022 11890 2819 7512 24271 3257 1010 1996 25254 6466 10788 5080 2582 9605 1037 10788 2965 2005 25952 1037 25254 6466 1997 1996 18929 2011 102 1015 1012 1037 24600 3274 1011 3191 3085 5396 2383 8250 2045 2239 3274 1011 4654 8586 23056 8128 2005 14972 1037 7661 21335 3468 5107 5310 8278 2006 1037 3898 4653 1997 1037 10093 13699 27629 5080 9605 1024 2019 4646 2565 2005 4346 2578 2000 1037 5310 2006 1996 10093 13699 27629 5080 1025 1037 5806 2565 2008 14451 2015 2019 4646 4730 8278 2005 7661 6026 1996 7661 21335 3468 5107 5310 8278 1025 1037 4471 2415 12160 2135 4198 2000 1996 5806 2565 2005 4346 3229 2000 1037 5310 4471 1025 1998 1037 10093 13699 27629 11336 2005 6605 10093 13699 27629 4972 1010 16726 1996 4646 4730 8278 6086 2011 1996 5806 2565 8681 2028 2030 2062 4725 1010 1996 4646 4730 8278 4909 7953 2013 2019 4646 1010 1998 16726 7781 1997 1996 2028 2030 2062 4725 1997 1996 4646 4730 8278 2003 26651 2000 1996 7953 2013 1996 4646 2005 7661 6026 1996 7661 21335 3468 5107 5310 8278 1010 16726 1996 10093 13699 27629 11336 2950 2019 6872 4005 2005 12515 1037 2865 5549 1997 2019 14932 2655 1012 1016 1012 1996 3274 1011 3191 3085 5396 1997 4366 1015 16726 1996 6872 4005 2582 2398 1996 14932 2655 2000 1996 4471 3665 2241 2006 1996 2865 5549 1012 1017 1012 1996 3274 1011 3191 3085 5396 1997 4366 1016 16726 1996 6872 4005 2003 7528 2004 1037 5123 2326 3075 1006 8827 2140 1007 1012 1018 1012 1996 3274 1011 3191 3085 5396 1997 4366 102\n",
            "INFO:tensorflow:input_mask: 1 1 1 1 1 1 1 1 1 1 1 1 1 1 1 1 1 1 1 1 1 1 1 1 1 1 1 1 1 1 1 1 1 1 1 1 1 1 1 1 1 1 1 1 1 1 1 1 1 1 1 1 1 1 1 1 1 1 1 1 1 1 1 1 1 1 1 1 1 1 1 1 1 1 1 1 1 1 1 1 1 1 1 1 1 1 1 1 1 1 1 1 1 1 1 1 1 1 1 1 1 1 1 1 1 1 1 1 1 1 1 1 1 1 1 1 1 1 1 1 1 1 1 1 1 1 1 1 1 1 1 1 1 1 1 1 1 1 1 1 1 1 1 1 1 1 1 1 1 1 1 1 1 1 1 1 1 1 1 1 1 1 1 1 1 1 1 1 1 1 1 1 1 1 1 1 1 1 1 1 1 1 1 1 1 1 1 1 1 1 1 1 1 1 1 1 1 1 1 1 1 1 1 1 1 1 1 1 1 1 1 1 1 1 1 1 1 1 1 1 1 1 1 1 1 1 1 1 1 1 1 1 1 1 1 1 1 1 1 1 1 1 1 1 1 1 1 1 1 1 1 1 1 1 1 1 1 1 1 1 1 1 1 1 1 1 1 1 1 1 1 1 1 1 1 1 1 1 1 1 1 1 1 1 1 1 1 1 1 1 1 1 1 1 1 1 1 1 1 1 1 1 1 1 1 1 1 1 1 1 1 1 1 1 1 1 1 1 1 1 1 1 1 1 1 1 1 1 1 1 1 1 1 1 1 1 1 1 1 1 1 1 1 1 1 1 1 1 1 1 1 1 1 1 1 1 1 1 1 1 1 1 1 1 1 1 1 1 1 1 1 1 1 1 1 1 1 1 1 1 1 1 1 1 1 1 1 1 1 1 1 1 1 1 1 1 1 1 1 1 1 1 1 1 1 1 1 1 1 1 1 1 1 1 1 1 1 1 1 1 1 1 1 1 1 1 1 1 1 1 1 1 1 1 1 1 1 1 1 1 1 1 1 1 1 1 1 1 1 1 1 1 1 1 1 1 1 1 1 1 1 1 1 1 1 1 1 1 1 1 1 1 1 1 1 1 1 1 1 1 1 1 1 1 1 1 1 1 1 1 1 1 1 1 1 1 1 1 1 1 1 1 1 1 1 1 1 1 1 1 1 1\n",
            "INFO:tensorflow:segment_ids: 0 0 0 0 0 0 0 0 0 0 0 0 0 0 0 0 0 0 0 0 0 0 0 0 0 0 0 0 0 0 0 0 0 0 0 0 0 0 0 0 0 0 0 0 0 0 0 0 0 0 0 0 0 0 0 0 0 0 0 0 0 0 0 0 0 0 0 0 0 0 0 0 0 0 0 0 0 0 0 0 0 0 0 0 0 0 0 0 0 0 0 0 0 0 0 0 0 0 0 0 0 0 0 0 0 0 0 0 0 0 0 0 0 0 0 0 0 0 0 0 0 0 0 0 0 0 0 0 0 0 0 0 0 0 0 0 0 0 0 0 0 0 0 0 0 0 0 0 0 0 0 0 0 0 0 0 0 0 0 0 0 0 0 0 0 0 0 0 0 0 0 0 0 0 0 0 0 0 0 0 0 0 0 0 0 0 0 0 0 0 0 0 0 0 0 0 0 0 0 0 0 0 0 0 0 0 0 0 0 0 0 0 0 0 0 0 0 0 0 0 0 0 0 0 0 0 0 0 0 0 0 0 0 0 0 0 0 0 0 0 0 0 0 0 0 0 0 0 0 0 0 0 0 0 0 0 0 1 1 1 1 1 1 1 1 1 1 1 1 1 1 1 1 1 1 1 1 1 1 1 1 1 1 1 1 1 1 1 1 1 1 1 1 1 1 1 1 1 1 1 1 1 1 1 1 1 1 1 1 1 1 1 1 1 1 1 1 1 1 1 1 1 1 1 1 1 1 1 1 1 1 1 1 1 1 1 1 1 1 1 1 1 1 1 1 1 1 1 1 1 1 1 1 1 1 1 1 1 1 1 1 1 1 1 1 1 1 1 1 1 1 1 1 1 1 1 1 1 1 1 1 1 1 1 1 1 1 1 1 1 1 1 1 1 1 1 1 1 1 1 1 1 1 1 1 1 1 1 1 1 1 1 1 1 1 1 1 1 1 1 1 1 1 1 1 1 1 1 1 1 1 1 1 1 1 1 1 1 1 1 1 1 1 1 1 1 1 1 1 1 1 1 1 1 1 1 1 1 1 1 1 1 1 1 1 1 1 1 1 1 1 1 1 1 1 1 1 1 1 1 1 1 1 1 1 1 1 1 1 1 1 1 1 1 1 1 1 1 1 1 1 1 1 1 1 1 1 1 1 1 1 1\n",
            "INFO:tensorflow:label: not_entailment (id = 0)\n",
            "INFO:tensorflow:*** Example ***\n",
            "INFO:tensorflow:guid: 1\n",
            "INFO:tensorflow:tokens: [CLS] 1 . a method comprising : sensing electro ##card ##io ##gram ( ec ##g ) data at an ec ##g sensor system ; processing the sensed ec ##g data at the ec ##g sensor system to determine one or more noise values , wherein each noise value is indicative of a measurement of a component of the sensed ec ##g data that is potentially related to a non - heart beat source ; and sending the one or more noise values to an automated troubles ##hoot ##ing system to troubles ##hoot the ec ##g sensor system . 2 . the method of claim 1 , wherein the automated troubles ##hoot ##ing system performs an analysis of the one or more noise values and identifies a source of a particular component of the sensed ec ##g data that is related to a particular non - heart beat source based on the analysis . 3 . the method of claim 2 , further comprising , after sending the one or more noise values , receiving an input and , responsive to the input , dea ##ct ##ivating one or more circuit elements of the ec ##g sensor system to reduce the one or more noise values associated with the particular component that is related to the particular non - heart beat source . 4 . the method of claim 1 , wherein processing the sensed ec ##g data to determine the one or more noise values includes generating an estimate of power - line noise , generating [SEP] 1 . a medical system , comprising : an implant ##able device including a housing and a signal storage element enclosed in the housing , the housing forming an electrode of the device ; an implant ##able medical electrical lead including a first electrode and a second electrode , the first and second electrode ##s forming a sensing pair when the lead is coupled to the device ; and a device processor enclosed in the housing and programmed to detect noise on the sensing pair , identify the noise as system noise , and store at least one noisy e ##gm sample from the sensing pair and a concurrent e ##gm sample from each of a plurality of recording pairs in response to identifying the system noise , wherein the plurality of recording pairs includes a first pair formed by the first lead electrode and the device electrode , when the lead is coupled to the device , and a second pair formed by the second lead electrode and the device electrode , when the lead is coupled to the device . 2 . the system of claim 1 , further comprising an external device and wherein the device processor transfers each of the collected e ##gm samples to the external device for analysis . 3 . the system of claim 1 , wherein the device processor analyze ##s the e ##gm samples collected from the recording pairs to detect a presence or an absence of noise on each of the samples , and [SEP]\n",
            "INFO:tensorflow:input_ids: 101 1015 1012 1037 4118 9605 1024 13851 16175 11522 3695 13113 1006 14925 2290 1007 2951 2012 2019 14925 2290 13617 2291 1025 6364 1996 10596 14925 2290 2951 2012 1996 14925 2290 13617 2291 2000 5646 2028 2030 2062 5005 5300 1010 16726 2169 5005 3643 2003 24668 1997 1037 10903 1997 1037 6922 1997 1996 10596 14925 2290 2951 2008 2003 9280 3141 2000 1037 2512 1011 2540 3786 3120 1025 1998 6016 1996 2028 2030 2062 5005 5300 2000 2019 12978 13460 23416 2075 2291 2000 13460 23416 1996 14925 2290 13617 2291 1012 1016 1012 1996 4118 1997 4366 1015 1010 16726 1996 12978 13460 23416 2075 2291 10438 2019 4106 1997 1996 2028 2030 2062 5005 5300 1998 14847 1037 3120 1997 1037 3327 6922 1997 1996 10596 14925 2290 2951 2008 2003 3141 2000 1037 3327 2512 1011 2540 3786 3120 2241 2006 1996 4106 1012 1017 1012 1996 4118 1997 4366 1016 1010 2582 9605 1010 2044 6016 1996 2028 2030 2062 5005 5300 1010 4909 2019 7953 1998 1010 26651 2000 1996 7953 1010 26709 6593 17441 2028 2030 2062 4984 3787 1997 1996 14925 2290 13617 2291 2000 5547 1996 2028 2030 2062 5005 5300 3378 2007 1996 3327 6922 2008 2003 3141 2000 1996 3327 2512 1011 2540 3786 3120 1012 1018 1012 1996 4118 1997 4366 1015 1010 16726 6364 1996 10596 14925 2290 2951 2000 5646 1996 2028 2030 2062 5005 5300 2950 11717 2019 10197 1997 2373 1011 2240 5005 1010 11717 102 1015 1012 1037 2966 2291 1010 9605 1024 2019 27159 3085 5080 2164 1037 3847 1998 1037 4742 5527 5783 10837 1999 1996 3847 1010 1996 3847 5716 2019 28688 1997 1996 5080 1025 2019 27159 3085 2966 5992 2599 2164 1037 2034 28688 1998 1037 2117 28688 1010 1996 2034 1998 2117 28688 2015 5716 1037 13851 3940 2043 1996 2599 2003 11211 2000 1996 5080 1025 1998 1037 5080 13151 10837 1999 1996 3847 1998 16984 2000 11487 5005 2006 1996 13851 3940 1010 6709 1996 5005 2004 2291 5005 1010 1998 3573 2012 2560 2028 20810 1041 21693 7099 2013 1996 13851 3940 1998 1037 16483 1041 21693 7099 2013 2169 1997 1037 29018 1997 3405 7689 1999 3433 2000 12151 1996 2291 5005 1010 16726 1996 29018 1997 3405 7689 2950 1037 2034 3940 2719 2011 1996 2034 2599 28688 1998 1996 5080 28688 1010 2043 1996 2599 2003 11211 2000 1996 5080 1010 1998 1037 2117 3940 2719 2011 1996 2117 2599 28688 1998 1996 5080 28688 1010 2043 1996 2599 2003 11211 2000 1996 5080 1012 1016 1012 1996 2291 1997 4366 1015 1010 2582 9605 2019 6327 5080 1998 16726 1996 5080 13151 15210 2169 1997 1996 5067 1041 21693 8168 2000 1996 6327 5080 2005 4106 1012 1017 1012 1996 2291 1997 4366 1015 1010 16726 1996 5080 13151 17908 2015 1996 1041 21693 8168 5067 2013 1996 3405 7689 2000 11487 1037 3739 2030 2019 6438 1997 5005 2006 2169 1997 1996 8168 1010 1998 102\n",
            "INFO:tensorflow:input_mask: 1 1 1 1 1 1 1 1 1 1 1 1 1 1 1 1 1 1 1 1 1 1 1 1 1 1 1 1 1 1 1 1 1 1 1 1 1 1 1 1 1 1 1 1 1 1 1 1 1 1 1 1 1 1 1 1 1 1 1 1 1 1 1 1 1 1 1 1 1 1 1 1 1 1 1 1 1 1 1 1 1 1 1 1 1 1 1 1 1 1 1 1 1 1 1 1 1 1 1 1 1 1 1 1 1 1 1 1 1 1 1 1 1 1 1 1 1 1 1 1 1 1 1 1 1 1 1 1 1 1 1 1 1 1 1 1 1 1 1 1 1 1 1 1 1 1 1 1 1 1 1 1 1 1 1 1 1 1 1 1 1 1 1 1 1 1 1 1 1 1 1 1 1 1 1 1 1 1 1 1 1 1 1 1 1 1 1 1 1 1 1 1 1 1 1 1 1 1 1 1 1 1 1 1 1 1 1 1 1 1 1 1 1 1 1 1 1 1 1 1 1 1 1 1 1 1 1 1 1 1 1 1 1 1 1 1 1 1 1 1 1 1 1 1 1 1 1 1 1 1 1 1 1 1 1 1 1 1 1 1 1 1 1 1 1 1 1 1 1 1 1 1 1 1 1 1 1 1 1 1 1 1 1 1 1 1 1 1 1 1 1 1 1 1 1 1 1 1 1 1 1 1 1 1 1 1 1 1 1 1 1 1 1 1 1 1 1 1 1 1 1 1 1 1 1 1 1 1 1 1 1 1 1 1 1 1 1 1 1 1 1 1 1 1 1 1 1 1 1 1 1 1 1 1 1 1 1 1 1 1 1 1 1 1 1 1 1 1 1 1 1 1 1 1 1 1 1 1 1 1 1 1 1 1 1 1 1 1 1 1 1 1 1 1 1 1 1 1 1 1 1 1 1 1 1 1 1 1 1 1 1 1 1 1 1 1 1 1 1 1 1 1 1 1 1 1 1 1 1 1 1 1 1 1 1 1 1 1 1 1 1 1 1 1 1 1 1 1 1 1 1 1 1 1 1 1 1 1 1 1 1 1 1 1 1 1 1 1 1 1 1 1 1 1 1 1 1 1 1 1 1 1 1 1 1 1 1 1 1 1 1 1 1 1 1 1 1 1 1 1 1 1 1 1 1 1 1 1 1 1 1 1\n",
            "INFO:tensorflow:segment_ids: 0 0 0 0 0 0 0 0 0 0 0 0 0 0 0 0 0 0 0 0 0 0 0 0 0 0 0 0 0 0 0 0 0 0 0 0 0 0 0 0 0 0 0 0 0 0 0 0 0 0 0 0 0 0 0 0 0 0 0 0 0 0 0 0 0 0 0 0 0 0 0 0 0 0 0 0 0 0 0 0 0 0 0 0 0 0 0 0 0 0 0 0 0 0 0 0 0 0 0 0 0 0 0 0 0 0 0 0 0 0 0 0 0 0 0 0 0 0 0 0 0 0 0 0 0 0 0 0 0 0 0 0 0 0 0 0 0 0 0 0 0 0 0 0 0 0 0 0 0 0 0 0 0 0 0 0 0 0 0 0 0 0 0 0 0 0 0 0 0 0 0 0 0 0 0 0 0 0 0 0 0 0 0 0 0 0 0 0 0 0 0 0 0 0 0 0 0 0 0 0 0 0 0 0 0 0 0 0 0 0 0 0 0 0 0 0 0 0 0 0 0 0 0 0 0 0 0 0 0 0 0 0 0 0 0 0 0 0 0 0 0 0 0 0 0 0 0 0 0 0 0 0 0 0 0 0 0 1 1 1 1 1 1 1 1 1 1 1 1 1 1 1 1 1 1 1 1 1 1 1 1 1 1 1 1 1 1 1 1 1 1 1 1 1 1 1 1 1 1 1 1 1 1 1 1 1 1 1 1 1 1 1 1 1 1 1 1 1 1 1 1 1 1 1 1 1 1 1 1 1 1 1 1 1 1 1 1 1 1 1 1 1 1 1 1 1 1 1 1 1 1 1 1 1 1 1 1 1 1 1 1 1 1 1 1 1 1 1 1 1 1 1 1 1 1 1 1 1 1 1 1 1 1 1 1 1 1 1 1 1 1 1 1 1 1 1 1 1 1 1 1 1 1 1 1 1 1 1 1 1 1 1 1 1 1 1 1 1 1 1 1 1 1 1 1 1 1 1 1 1 1 1 1 1 1 1 1 1 1 1 1 1 1 1 1 1 1 1 1 1 1 1 1 1 1 1 1 1 1 1 1 1 1 1 1 1 1 1 1 1 1 1 1 1 1 1 1 1 1 1 1 1 1 1 1 1 1 1 1 1 1 1 1 1 1 1 1 1 1 1 1 1 1 1 1 1 1 1 1 1 1 1\n",
            "INFO:tensorflow:label: entailment (id = 1)\n",
            "INFO:tensorflow:*** Example ***\n",
            "INFO:tensorflow:guid: 2\n",
            "INFO:tensorflow:tokens: [CLS] 1 . a system for controlling temperature inside a machine cab defining an interior and an exterior , the system comprising : a blow ##er fan configured to be coupled to the exterior of the cab ; an eva ##por ##ator configured to be coupled to the exterior of the cab at a location separated from the blow ##er fan ; and a duct configured to be coupled to the blow ##er fan and the eva ##por ##ator such that the duct extends between the blow ##er fan and the eva ##por ##ator . 2 . the system of claim 1 , wherein the cab defines a rear end and an underside , and wherein the blow ##er fan is configured to be coupled to the rear end of the cab , and the eva ##por ##ator is configured to be coupled to the underside of the cab . 3 . the system of claim 1 , wherein the duct has an increasing cross - sectional area as it extends from the blow ##er fan to the eva ##por ##ator . 4 . the system of claim 1 , wherein the eva ##por ##ator includes an eva ##por ##ator coil . 5 . the system of claim 1 , further including a pl ##en ##um including a first inlet configured to receive air from the interior of the cab and a second inlet configured to receive air from the exterior of the cab . 6 . the system of claim 5 , further including a [SEP] 1 . an integrated differential receiver for an input / output pad comprising : a single gate oxide differential receiver that receives an input voltage ; a switch ##able voltage supply circuit operative ##ly coupled to the single gate oxide differential receiver , switch ##able through at least one control signal , that indicates an input signal voltage range , to select at least one differential receiver supply voltage , from a plurality of supply voltage ##s during normal operating mode , for the single gate oxide differential receiver wherein at least one of the selected receiver supply voltage ##s is higher than a maximum voltage level of the input voltage indicated by the control signal ; and wherein the switch ##able voltage supply circuit is operative ##ly responsive to at least two control signals . 2 . the receiver of claim 1 wherein the switch ##able voltage supply circuit is coupled to the plurality of supply voltage ##s that include at least an input / output pad supply voltage and a higher reference supply voltage and selects the differential receiver supply voltage that is higher voltage than the i / o pad supply voltage . 3 . the receiver of claim 1 wherein the receiver generates an output signal to circuit ##ry for a video graphics processor . 4 . the receiver of claim 1 wherein the differential receiver receives a first reference voltage on a first differential input voltage on a second differential input and wherein the switch ##able voltage supply circuit [SEP]\n",
            "INFO:tensorflow:input_ids: 101 1015 1012 1037 2291 2005 9756 4860 2503 1037 3698 9298 12854 2019 4592 1998 2019 8829 1010 1996 2291 9605 1024 1037 6271 2121 5470 26928 2000 2022 11211 2000 1996 8829 1997 1996 9298 1025 2019 9345 17822 8844 26928 2000 2022 11211 2000 1996 8829 1997 1996 9298 2012 1037 3295 5459 2013 1996 6271 2121 5470 1025 1998 1037 23245 26928 2000 2022 11211 2000 1996 6271 2121 5470 1998 1996 9345 17822 8844 2107 2008 1996 23245 8908 2090 1996 6271 2121 5470 1998 1996 9345 17822 8844 1012 1016 1012 1996 2291 1997 4366 1015 1010 16726 1996 9298 11859 1037 4373 2203 1998 2019 17313 1010 1998 16726 1996 6271 2121 5470 2003 26928 2000 2022 11211 2000 1996 4373 2203 1997 1996 9298 1010 1998 1996 9345 17822 8844 2003 26928 2000 2022 11211 2000 1996 17313 1997 1996 9298 1012 1017 1012 1996 2291 1997 4366 1015 1010 16726 1996 23245 2038 2019 4852 2892 1011 27197 2181 2004 2009 8908 2013 1996 6271 2121 5470 2000 1996 9345 17822 8844 1012 1018 1012 1996 2291 1997 4366 1015 1010 16726 1996 9345 17822 8844 2950 2019 9345 17822 8844 17085 1012 1019 1012 1996 2291 1997 4366 1015 1010 2582 2164 1037 20228 2368 2819 2164 1037 2034 15824 26928 2000 4374 2250 2013 1996 4592 1997 1996 9298 1998 1037 2117 15824 26928 2000 4374 2250 2013 1996 8829 1997 1996 9298 1012 1020 1012 1996 2291 1997 4366 1019 1010 2582 2164 1037 102 1015 1012 2019 6377 11658 8393 2005 2019 7953 1013 6434 11687 9605 1024 1037 2309 4796 15772 11658 8393 2008 8267 2019 7953 10004 1025 1037 6942 3085 10004 4425 4984 12160 2135 11211 2000 1996 2309 4796 15772 11658 8393 1010 6942 3085 2083 2012 2560 2028 2491 4742 1010 2008 7127 2019 7953 4742 10004 2846 1010 2000 7276 2012 2560 2028 11658 8393 4425 10004 1010 2013 1037 29018 1997 4425 10004 2015 2076 3671 4082 5549 1010 2005 1996 2309 4796 15772 11658 8393 16726 2012 2560 2028 1997 1996 3479 8393 4425 10004 2015 2003 3020 2084 1037 4555 10004 2504 1997 1996 7953 10004 5393 2011 1996 2491 4742 1025 1998 16726 1996 6942 3085 10004 4425 4984 2003 12160 2135 26651 2000 2012 2560 2048 2491 7755 1012 1016 1012 1996 8393 1997 4366 1015 16726 1996 6942 3085 10004 4425 4984 2003 11211 2000 1996 29018 1997 4425 10004 2015 2008 2421 2012 2560 2019 7953 1013 6434 11687 4425 10004 1998 1037 3020 4431 4425 10004 1998 27034 1996 11658 8393 4425 10004 2008 2003 3020 10004 2084 1996 1045 1013 1051 11687 4425 10004 1012 1017 1012 1996 8393 1997 4366 1015 16726 1996 8393 19421 2019 6434 4742 2000 4984 2854 2005 1037 2678 8389 13151 1012 1018 1012 1996 8393 1997 4366 1015 16726 1996 11658 8393 8267 1037 2034 4431 10004 2006 1037 2034 11658 7953 10004 2006 1037 2117 11658 7953 1998 16726 1996 6942 3085 10004 4425 4984 102\n",
            "INFO:tensorflow:input_mask: 1 1 1 1 1 1 1 1 1 1 1 1 1 1 1 1 1 1 1 1 1 1 1 1 1 1 1 1 1 1 1 1 1 1 1 1 1 1 1 1 1 1 1 1 1 1 1 1 1 1 1 1 1 1 1 1 1 1 1 1 1 1 1 1 1 1 1 1 1 1 1 1 1 1 1 1 1 1 1 1 1 1 1 1 1 1 1 1 1 1 1 1 1 1 1 1 1 1 1 1 1 1 1 1 1 1 1 1 1 1 1 1 1 1 1 1 1 1 1 1 1 1 1 1 1 1 1 1 1 1 1 1 1 1 1 1 1 1 1 1 1 1 1 1 1 1 1 1 1 1 1 1 1 1 1 1 1 1 1 1 1 1 1 1 1 1 1 1 1 1 1 1 1 1 1 1 1 1 1 1 1 1 1 1 1 1 1 1 1 1 1 1 1 1 1 1 1 1 1 1 1 1 1 1 1 1 1 1 1 1 1 1 1 1 1 1 1 1 1 1 1 1 1 1 1 1 1 1 1 1 1 1 1 1 1 1 1 1 1 1 1 1 1 1 1 1 1 1 1 1 1 1 1 1 1 1 1 1 1 1 1 1 1 1 1 1 1 1 1 1 1 1 1 1 1 1 1 1 1 1 1 1 1 1 1 1 1 1 1 1 1 1 1 1 1 1 1 1 1 1 1 1 1 1 1 1 1 1 1 1 1 1 1 1 1 1 1 1 1 1 1 1 1 1 1 1 1 1 1 1 1 1 1 1 1 1 1 1 1 1 1 1 1 1 1 1 1 1 1 1 1 1 1 1 1 1 1 1 1 1 1 1 1 1 1 1 1 1 1 1 1 1 1 1 1 1 1 1 1 1 1 1 1 1 1 1 1 1 1 1 1 1 1 1 1 1 1 1 1 1 1 1 1 1 1 1 1 1 1 1 1 1 1 1 1 1 1 1 1 1 1 1 1 1 1 1 1 1 1 1 1 1 1 1 1 1 1 1 1 1 1 1 1 1 1 1 1 1 1 1 1 1 1 1 1 1 1 1 1 1 1 1 1 1 1 1 1 1 1 1 1 1 1 1 1 1 1 1 1 1 1 1 1 1 1 1 1 1 1 1 1 1 1 1 1 1 1 1 1 1 1 1 1 1 1 1 1 1 1 1 1 1\n",
            "INFO:tensorflow:segment_ids: 0 0 0 0 0 0 0 0 0 0 0 0 0 0 0 0 0 0 0 0 0 0 0 0 0 0 0 0 0 0 0 0 0 0 0 0 0 0 0 0 0 0 0 0 0 0 0 0 0 0 0 0 0 0 0 0 0 0 0 0 0 0 0 0 0 0 0 0 0 0 0 0 0 0 0 0 0 0 0 0 0 0 0 0 0 0 0 0 0 0 0 0 0 0 0 0 0 0 0 0 0 0 0 0 0 0 0 0 0 0 0 0 0 0 0 0 0 0 0 0 0 0 0 0 0 0 0 0 0 0 0 0 0 0 0 0 0 0 0 0 0 0 0 0 0 0 0 0 0 0 0 0 0 0 0 0 0 0 0 0 0 0 0 0 0 0 0 0 0 0 0 0 0 0 0 0 0 0 0 0 0 0 0 0 0 0 0 0 0 0 0 0 0 0 0 0 0 0 0 0 0 0 0 0 0 0 0 0 0 0 0 0 0 0 0 0 0 0 0 0 0 0 0 0 0 0 0 0 0 0 0 0 0 0 0 0 0 0 0 0 0 0 0 0 0 0 0 0 0 0 0 0 0 0 0 0 0 1 1 1 1 1 1 1 1 1 1 1 1 1 1 1 1 1 1 1 1 1 1 1 1 1 1 1 1 1 1 1 1 1 1 1 1 1 1 1 1 1 1 1 1 1 1 1 1 1 1 1 1 1 1 1 1 1 1 1 1 1 1 1 1 1 1 1 1 1 1 1 1 1 1 1 1 1 1 1 1 1 1 1 1 1 1 1 1 1 1 1 1 1 1 1 1 1 1 1 1 1 1 1 1 1 1 1 1 1 1 1 1 1 1 1 1 1 1 1 1 1 1 1 1 1 1 1 1 1 1 1 1 1 1 1 1 1 1 1 1 1 1 1 1 1 1 1 1 1 1 1 1 1 1 1 1 1 1 1 1 1 1 1 1 1 1 1 1 1 1 1 1 1 1 1 1 1 1 1 1 1 1 1 1 1 1 1 1 1 1 1 1 1 1 1 1 1 1 1 1 1 1 1 1 1 1 1 1 1 1 1 1 1 1 1 1 1 1 1 1 1 1 1 1 1 1 1 1 1 1 1 1 1 1 1 1 1 1 1 1 1 1 1 1 1 1 1 1 1 1 1 1 1 1 1\n",
            "INFO:tensorflow:label: not_entailment (id = 0)\n",
            "INFO:tensorflow:*** Example ***\n",
            "INFO:tensorflow:guid: 3\n",
            "INFO:tensorflow:tokens: [CLS] 1 . a recording apparatus for recording updated data onto a re ##wr ##ita ##ble portable recording medium on which original data has been copied from a read - only recording medium , the original data including first stream data , the updated data including second stream data , and the updated data to be combined virtually with the original data to form a virtual package , the recording apparatus comprising : a data storage unit that stores there ##in the updated data and mapping information indicating a path of the updated data in the virtual package ; a determination unit opera ##ble to perform path col ##lation to determine , from the mapping information , whether a path to the second stream data in the virtual package matches a path to the first stream data on the portable recording medium ; a recording control unit opera ##ble to issue an instruction to write the updated data onto the portable recording medium , and when a result of the path col ##lation is affirmative , to issue an instruction to del ##ete the first stream data from the portable recording medium , and a data recording unit opera ##ble to write and del ##ete data in response to the instructions from the recording control unit . 2 . the recording apparatus of claim 1 wherein ##the mapping information includes information indicating whether the second stream data is missing data that is data to be downloaded from a server apparatus on a network during or before [SEP] 1 . a method for indicating a priority of a voice over internet protocol ( vo ##ip ) call , comprising : receiving a dialed number for a connection ; generating a call setup request including the dialed number ; receiving a caller - specified priority for the call based on a caller input provided con ##tem ##por ##aneous ##ly with the dialed number , wherein the priority is independent of a call recipient ; access ##ing a rule base to valid ##ate the priority ; generating a priority indicator based on the priority ; ne ##gating the priority indicator if determined invalid based on the rule base ; and transmitting the call setup request and priority indicator . 2 . the method of claim 1 , wherein the priority indicator is an information element ( ie ) . 3 . the method of claim 2 , further comprising : receiving an alert ##ing phrase from a user ; and transmitting the alert ##ing phrase with the priority indicator . 4 . the method of claim 1 , wherein the priority is high . 5 . the method of claim 1 , wherein the priority is low . 6 . the method of claim 1 , wherein the caller input is received after the call setup request has been transmitted . 7 . the method of claim 1 , wherein the caller input is received as a prefix to the dialed number . 8 . the method of claim 1 , further comprising generating [SEP]\n",
            "INFO:tensorflow:input_ids: 101 1015 1012 1037 3405 14709 2005 3405 7172 2951 3031 1037 2128 13088 6590 3468 12109 3405 5396 2006 2029 2434 2951 2038 2042 15826 2013 1037 3191 1011 2069 3405 5396 1010 1996 2434 2951 2164 2034 5460 2951 1010 1996 7172 2951 2164 2117 5460 2951 1010 1998 1996 7172 2951 2000 2022 4117 8990 2007 1996 2434 2951 2000 2433 1037 7484 7427 1010 1996 3405 14709 9605 1024 1037 2951 5527 3131 2008 5324 2045 2378 1996 7172 2951 1998 12375 2592 8131 1037 4130 1997 1996 7172 2951 1999 1996 7484 7427 1025 1037 9128 3131 3850 3468 2000 4685 4130 8902 13490 2000 5646 1010 2013 1996 12375 2592 1010 3251 1037 4130 2000 1996 2117 5460 2951 1999 1996 7484 7427 3503 1037 4130 2000 1996 2034 5460 2951 2006 1996 12109 3405 5396 1025 1037 3405 2491 3131 3850 3468 2000 3277 2019 7899 2000 4339 1996 7172 2951 3031 1996 12109 3405 5396 1010 1998 2043 1037 2765 1997 1996 4130 8902 13490 2003 27352 1010 2000 3277 2019 7899 2000 3972 12870 1996 2034 5460 2951 2013 1996 12109 3405 5396 1010 1998 1037 2951 3405 3131 3850 3468 2000 4339 1998 3972 12870 2951 1999 3433 2000 1996 8128 2013 1996 3405 2491 3131 1012 1016 1012 1996 3405 14709 1997 4366 1015 16726 10760 12375 2592 2950 2592 8131 3251 1996 2117 5460 2951 2003 4394 2951 2008 2003 2951 2000 2022 22817 2013 1037 8241 14709 2006 1037 2897 2076 2030 2077 102 1015 1012 1037 4118 2005 8131 1037 9470 1997 1037 2376 2058 4274 8778 1006 29536 11514 1007 2655 1010 9605 1024 4909 1037 21300 2193 2005 1037 4434 1025 11717 1037 2655 16437 5227 2164 1996 21300 2193 1025 4909 1037 20587 1011 9675 9470 2005 1996 2655 2241 2006 1037 20587 7953 3024 9530 18532 17822 17191 2135 2007 1996 21300 2193 1010 16726 1996 9470 2003 2981 1997 1037 2655 7799 1025 3229 2075 1037 3627 2918 2000 9398 3686 1996 9470 1025 11717 1037 9470 17245 2241 2006 1996 9470 1025 11265 16961 1996 9470 17245 2065 4340 19528 2241 2006 1996 3627 2918 1025 1998 23820 1996 2655 16437 5227 1998 9470 17245 1012 1016 1012 1996 4118 1997 4366 1015 1010 16726 1996 9470 17245 2003 2019 2592 5783 1006 29464 1007 1012 1017 1012 1996 4118 1997 4366 1016 1010 2582 9605 1024 4909 2019 9499 2075 7655 2013 1037 5310 1025 1998 23820 1996 9499 2075 7655 2007 1996 9470 17245 1012 1018 1012 1996 4118 1997 4366 1015 1010 16726 1996 9470 2003 2152 1012 1019 1012 1996 4118 1997 4366 1015 1010 16726 1996 9470 2003 2659 1012 1020 1012 1996 4118 1997 4366 1015 1010 16726 1996 20587 7953 2003 2363 2044 1996 2655 16437 5227 2038 2042 11860 1012 1021 1012 1996 4118 1997 4366 1015 1010 16726 1996 20587 7953 2003 2363 2004 1037 17576 2000 1996 21300 2193 1012 1022 1012 1996 4118 1997 4366 1015 1010 2582 9605 11717 102\n",
            "INFO:tensorflow:input_mask: 1 1 1 1 1 1 1 1 1 1 1 1 1 1 1 1 1 1 1 1 1 1 1 1 1 1 1 1 1 1 1 1 1 1 1 1 1 1 1 1 1 1 1 1 1 1 1 1 1 1 1 1 1 1 1 1 1 1 1 1 1 1 1 1 1 1 1 1 1 1 1 1 1 1 1 1 1 1 1 1 1 1 1 1 1 1 1 1 1 1 1 1 1 1 1 1 1 1 1 1 1 1 1 1 1 1 1 1 1 1 1 1 1 1 1 1 1 1 1 1 1 1 1 1 1 1 1 1 1 1 1 1 1 1 1 1 1 1 1 1 1 1 1 1 1 1 1 1 1 1 1 1 1 1 1 1 1 1 1 1 1 1 1 1 1 1 1 1 1 1 1 1 1 1 1 1 1 1 1 1 1 1 1 1 1 1 1 1 1 1 1 1 1 1 1 1 1 1 1 1 1 1 1 1 1 1 1 1 1 1 1 1 1 1 1 1 1 1 1 1 1 1 1 1 1 1 1 1 1 1 1 1 1 1 1 1 1 1 1 1 1 1 1 1 1 1 1 1 1 1 1 1 1 1 1 1 1 1 1 1 1 1 1 1 1 1 1 1 1 1 1 1 1 1 1 1 1 1 1 1 1 1 1 1 1 1 1 1 1 1 1 1 1 1 1 1 1 1 1 1 1 1 1 1 1 1 1 1 1 1 1 1 1 1 1 1 1 1 1 1 1 1 1 1 1 1 1 1 1 1 1 1 1 1 1 1 1 1 1 1 1 1 1 1 1 1 1 1 1 1 1 1 1 1 1 1 1 1 1 1 1 1 1 1 1 1 1 1 1 1 1 1 1 1 1 1 1 1 1 1 1 1 1 1 1 1 1 1 1 1 1 1 1 1 1 1 1 1 1 1 1 1 1 1 1 1 1 1 1 1 1 1 1 1 1 1 1 1 1 1 1 1 1 1 1 1 1 1 1 1 1 1 1 1 1 1 1 1 1 1 1 1 1 1 1 1 1 1 1 1 1 1 1 1 1 1 1 1 1 1 1 1 1 1 1 1 1 1 1 1 1 1 1 1 1 1 1 1 1 1 1 1 1 1 1 1 1 1 1 1 1 1 1 1 1 1 1 1 1 1 1 1 1 1 1 1 1 1 1 1 1 1\n",
            "INFO:tensorflow:segment_ids: 0 0 0 0 0 0 0 0 0 0 0 0 0 0 0 0 0 0 0 0 0 0 0 0 0 0 0 0 0 0 0 0 0 0 0 0 0 0 0 0 0 0 0 0 0 0 0 0 0 0 0 0 0 0 0 0 0 0 0 0 0 0 0 0 0 0 0 0 0 0 0 0 0 0 0 0 0 0 0 0 0 0 0 0 0 0 0 0 0 0 0 0 0 0 0 0 0 0 0 0 0 0 0 0 0 0 0 0 0 0 0 0 0 0 0 0 0 0 0 0 0 0 0 0 0 0 0 0 0 0 0 0 0 0 0 0 0 0 0 0 0 0 0 0 0 0 0 0 0 0 0 0 0 0 0 0 0 0 0 0 0 0 0 0 0 0 0 0 0 0 0 0 0 0 0 0 0 0 0 0 0 0 0 0 0 0 0 0 0 0 0 0 0 0 0 0 0 0 0 0 0 0 0 0 0 0 0 0 0 0 0 0 0 0 0 0 0 0 0 0 0 0 0 0 0 0 0 0 0 0 0 0 0 0 0 0 0 0 0 0 0 0 0 0 0 0 0 0 0 0 0 0 0 0 0 0 0 1 1 1 1 1 1 1 1 1 1 1 1 1 1 1 1 1 1 1 1 1 1 1 1 1 1 1 1 1 1 1 1 1 1 1 1 1 1 1 1 1 1 1 1 1 1 1 1 1 1 1 1 1 1 1 1 1 1 1 1 1 1 1 1 1 1 1 1 1 1 1 1 1 1 1 1 1 1 1 1 1 1 1 1 1 1 1 1 1 1 1 1 1 1 1 1 1 1 1 1 1 1 1 1 1 1 1 1 1 1 1 1 1 1 1 1 1 1 1 1 1 1 1 1 1 1 1 1 1 1 1 1 1 1 1 1 1 1 1 1 1 1 1 1 1 1 1 1 1 1 1 1 1 1 1 1 1 1 1 1 1 1 1 1 1 1 1 1 1 1 1 1 1 1 1 1 1 1 1 1 1 1 1 1 1 1 1 1 1 1 1 1 1 1 1 1 1 1 1 1 1 1 1 1 1 1 1 1 1 1 1 1 1 1 1 1 1 1 1 1 1 1 1 1 1 1 1 1 1 1 1 1 1 1 1 1 1 1 1 1 1 1 1 1 1 1 1 1 1 1 1 1 1 1 1\n",
            "INFO:tensorflow:label: not_entailment (id = 0)\n",
            "INFO:tensorflow:*** Example ***\n",
            "INFO:tensorflow:guid: 4\n",
            "INFO:tensorflow:tokens: [CLS] 1 . apparatus for moving a material within an enclosure comprising : a field - responsive fluid including a plurality of particles suspended in a base fluid , the field - responsive fluid disposed in the enclosure ; a field generating source which generates a field in response to which at least some of the plurality of particles align , the field being moved relative to the enclosure and thereby cause the align ed particles to move within the enclosure , the material moving in response to contact with the moving particles . 2 . the apparatus of claim 1 wherein the field - responsive fluid is selected from the group consisting of : magnet ##or ##he ##ological fluid and electro ##rh ##eo ##logical fluid . 3 . the apparatus of claim 1 wherein the field is represented by lines of flux , the particles align ##ing parallel to the lines of flux , and moving with the lines of flux . 4 . the apparatus of claim 1 wherein the material is a non - magnetic object . 5 . the apparatus of claim 1 wherein the material is a die ##le ##ctric . 6 . the apparatus of claim 1 wherein the material is fluid disposed between chains of aligned particles . 7 . the apparatus of claim 1 wherein the field is applied to the particles at a starting position , causing at least some of the particles to align and form chains , the applied field is moved relative to the [SEP] 1 . a well ##bor ##e pack ##er having an expand ##able packing element for sealing a well ann ##ulus , an act ##ua ##tor for expanding said packing element into operative engagement across said ann ##ulus and an electrically control ##lab ##le fluid for controlling the operation of said act ##ua ##tor , wherein said electrically control ##lab ##le fluid is en ##er ##gi ##zed by a magnetic field to expand said packing element , wherein said control ##lab ##le fluid is confined within an ex ##pan ##sible chamber , wherein said ex ##pan ##sible chamber is an el ##ast ##ome ##r bladder element . 2 . a hydraulic ##ally act ##uated well tool that is operative ##ly controlled by a flow of electrically control ##lab ##le fluid carried within hydraulic con ##du ##its , said con ##du ##its having electromagnetic winding ##s disposed pro ##xi ##mate ##ly of said con ##du ##its to selective ##ly provide a magnetic field within a section inc ##rem ##ent of said con ##du ##its . 3 . the hydraulic ##ally act ##uated well tool of claim 2 wherein the well tool comprises a well ##bor ##e pack ##er . 4 . the hydraulic ##ally act ##uated well tool of claim 2 wherein said hydraulic con ##du ##its includes at least one fluid circulation line . 5 . the hydraulic ##ally act ##uated well tool of claim 2 wherein en ##er ##gizing said electromagnetic winding ##s blocks the flow of said electrically control ##lab ##le fluid flowing [SEP]\n",
            "INFO:tensorflow:input_ids: 101 1015 1012 14709 2005 3048 1037 3430 2306 2019 17539 9605 1024 1037 2492 1011 26651 8331 2164 1037 29018 1997 9309 6731 1999 1037 2918 8331 1010 1996 2492 1011 26651 8331 21866 1999 1996 17539 1025 1037 2492 11717 3120 2029 19421 1037 2492 1999 3433 2000 2029 2012 2560 2070 1997 1996 29018 1997 9309 25705 1010 1996 2492 2108 2333 5816 2000 1996 17539 1998 8558 3426 1996 25705 3968 9309 2000 2693 2306 1996 17539 1010 1996 3430 3048 1999 3433 2000 3967 2007 1996 3048 9309 1012 1016 1012 1996 14709 1997 4366 1015 16726 1996 2492 1011 26651 8331 2003 3479 2013 1996 2177 5398 1997 1024 16853 2953 5369 10091 8331 1998 16175 25032 8780 9966 8331 1012 1017 1012 1996 14709 1997 4366 1015 16726 1996 2492 2003 3421 2011 3210 1997 19251 1010 1996 9309 25705 2075 5903 2000 1996 3210 1997 19251 1010 1998 3048 2007 1996 3210 1997 19251 1012 1018 1012 1996 14709 1997 4366 1015 16726 1996 3430 2003 1037 2512 1011 8060 4874 1012 1019 1012 1996 14709 1997 4366 1015 16726 1996 3430 2003 1037 3280 2571 22601 1012 1020 1012 1996 14709 1997 4366 1015 16726 1996 3430 2003 8331 21866 2090 8859 1997 13115 9309 1012 1021 1012 1996 14709 1997 4366 1015 16726 1996 2492 2003 4162 2000 1996 9309 2012 1037 3225 2597 1010 4786 2012 2560 2070 1997 1996 9309 2000 25705 1998 2433 8859 1010 1996 4162 2492 2003 2333 5816 2000 1996 102 1015 1012 1037 2092 12821 2063 5308 2121 2383 2019 7818 3085 14743 5783 2005 23038 1037 2092 5754 11627 1010 2019 2552 6692 4263 2005 9186 2056 14743 5783 2046 12160 8147 2408 2056 5754 11627 1998 2019 29103 2491 20470 2571 8331 2005 9756 1996 3169 1997 2056 2552 6692 4263 1010 16726 2056 29103 2491 20470 2571 8331 2003 4372 2121 5856 5422 2011 1037 8060 2492 2000 7818 2056 14743 5783 1010 16726 2056 2491 20470 2571 8331 2003 12302 2306 2019 4654 9739 19307 4574 1010 16726 2056 4654 9739 19307 4574 2003 2019 3449 14083 8462 2099 24176 5783 1012 1016 1012 1037 14761 3973 2552 16453 2092 6994 2008 2003 12160 2135 4758 2011 1037 4834 1997 29103 2491 20470 2571 8331 3344 2306 14761 9530 8566 12762 1010 2056 9530 8566 12762 2383 17225 12788 2015 21866 4013 9048 8585 2135 1997 2056 9530 8566 12762 2000 13228 2135 3073 1037 8060 2492 2306 1037 2930 4297 28578 4765 1997 2056 9530 8566 12762 1012 1017 1012 1996 14761 3973 2552 16453 2092 6994 1997 4366 1016 16726 1996 2092 6994 8681 1037 2092 12821 2063 5308 2121 1012 1018 1012 1996 14761 3973 2552 16453 2092 6994 1997 4366 1016 16726 2056 14761 9530 8566 12762 2950 2012 2560 2028 8331 9141 2240 1012 1019 1012 1996 14761 3973 2552 16453 2092 6994 1997 4366 1016 16726 4372 2121 28660 2056 17225 12788 2015 5991 1996 4834 1997 2056 29103 2491 20470 2571 8331 8577 102\n",
            "INFO:tensorflow:input_mask: 1 1 1 1 1 1 1 1 1 1 1 1 1 1 1 1 1 1 1 1 1 1 1 1 1 1 1 1 1 1 1 1 1 1 1 1 1 1 1 1 1 1 1 1 1 1 1 1 1 1 1 1 1 1 1 1 1 1 1 1 1 1 1 1 1 1 1 1 1 1 1 1 1 1 1 1 1 1 1 1 1 1 1 1 1 1 1 1 1 1 1 1 1 1 1 1 1 1 1 1 1 1 1 1 1 1 1 1 1 1 1 1 1 1 1 1 1 1 1 1 1 1 1 1 1 1 1 1 1 1 1 1 1 1 1 1 1 1 1 1 1 1 1 1 1 1 1 1 1 1 1 1 1 1 1 1 1 1 1 1 1 1 1 1 1 1 1 1 1 1 1 1 1 1 1 1 1 1 1 1 1 1 1 1 1 1 1 1 1 1 1 1 1 1 1 1 1 1 1 1 1 1 1 1 1 1 1 1 1 1 1 1 1 1 1 1 1 1 1 1 1 1 1 1 1 1 1 1 1 1 1 1 1 1 1 1 1 1 1 1 1 1 1 1 1 1 1 1 1 1 1 1 1 1 1 1 1 1 1 1 1 1 1 1 1 1 1 1 1 1 1 1 1 1 1 1 1 1 1 1 1 1 1 1 1 1 1 1 1 1 1 1 1 1 1 1 1 1 1 1 1 1 1 1 1 1 1 1 1 1 1 1 1 1 1 1 1 1 1 1 1 1 1 1 1 1 1 1 1 1 1 1 1 1 1 1 1 1 1 1 1 1 1 1 1 1 1 1 1 1 1 1 1 1 1 1 1 1 1 1 1 1 1 1 1 1 1 1 1 1 1 1 1 1 1 1 1 1 1 1 1 1 1 1 1 1 1 1 1 1 1 1 1 1 1 1 1 1 1 1 1 1 1 1 1 1 1 1 1 1 1 1 1 1 1 1 1 1 1 1 1 1 1 1 1 1 1 1 1 1 1 1 1 1 1 1 1 1 1 1 1 1 1 1 1 1 1 1 1 1 1 1 1 1 1 1 1 1 1 1 1 1 1 1 1 1 1 1 1 1 1 1 1 1 1 1 1 1 1 1 1 1 1 1 1 1 1 1 1 1 1 1 1 1 1 1 1 1 1 1 1 1 1 1 1 1 1 1 1 1 1 1\n",
            "INFO:tensorflow:segment_ids: 0 0 0 0 0 0 0 0 0 0 0 0 0 0 0 0 0 0 0 0 0 0 0 0 0 0 0 0 0 0 0 0 0 0 0 0 0 0 0 0 0 0 0 0 0 0 0 0 0 0 0 0 0 0 0 0 0 0 0 0 0 0 0 0 0 0 0 0 0 0 0 0 0 0 0 0 0 0 0 0 0 0 0 0 0 0 0 0 0 0 0 0 0 0 0 0 0 0 0 0 0 0 0 0 0 0 0 0 0 0 0 0 0 0 0 0 0 0 0 0 0 0 0 0 0 0 0 0 0 0 0 0 0 0 0 0 0 0 0 0 0 0 0 0 0 0 0 0 0 0 0 0 0 0 0 0 0 0 0 0 0 0 0 0 0 0 0 0 0 0 0 0 0 0 0 0 0 0 0 0 0 0 0 0 0 0 0 0 0 0 0 0 0 0 0 0 0 0 0 0 0 0 0 0 0 0 0 0 0 0 0 0 0 0 0 0 0 0 0 0 0 0 0 0 0 0 0 0 0 0 0 0 0 0 0 0 0 0 0 0 0 0 0 0 0 0 0 0 0 0 0 0 0 0 0 0 0 1 1 1 1 1 1 1 1 1 1 1 1 1 1 1 1 1 1 1 1 1 1 1 1 1 1 1 1 1 1 1 1 1 1 1 1 1 1 1 1 1 1 1 1 1 1 1 1 1 1 1 1 1 1 1 1 1 1 1 1 1 1 1 1 1 1 1 1 1 1 1 1 1 1 1 1 1 1 1 1 1 1 1 1 1 1 1 1 1 1 1 1 1 1 1 1 1 1 1 1 1 1 1 1 1 1 1 1 1 1 1 1 1 1 1 1 1 1 1 1 1 1 1 1 1 1 1 1 1 1 1 1 1 1 1 1 1 1 1 1 1 1 1 1 1 1 1 1 1 1 1 1 1 1 1 1 1 1 1 1 1 1 1 1 1 1 1 1 1 1 1 1 1 1 1 1 1 1 1 1 1 1 1 1 1 1 1 1 1 1 1 1 1 1 1 1 1 1 1 1 1 1 1 1 1 1 1 1 1 1 1 1 1 1 1 1 1 1 1 1 1 1 1 1 1 1 1 1 1 1 1 1 1 1 1 1 1 1 1 1 1 1 1 1 1 1 1 1 1 1 1 1 1 1 1\n",
            "INFO:tensorflow:label: entailment (id = 1)\n",
            "CPU times: user 2min 21s, sys: 59.2 ms, total: 2min 21s\n",
            "Wall time: 2min 21s\n"
          ],
          "name": "stdout"
        }
      ]
    },
    {
      "metadata": {
        "id": "3Y8-zElH2HlL",
        "colab_type": "code",
        "colab": {}
      },
      "cell_type": "code",
      "source": [
        "import pickle"
      ],
      "execution_count": 0,
      "outputs": []
    },
    {
      "metadata": {
        "id": "BiYTsT_H2QHN",
        "colab_type": "code",
        "colab": {}
      },
      "cell_type": "code",
      "source": [
        "with open('test_fdict_all.pkl', 'wb') as f:\n",
        "     pickle.dump(test_fdicts_all, f)"
      ],
      "execution_count": 0,
      "outputs": []
    },
    {
      "metadata": {
        "id": "IcChgVIA2Psr",
        "colab_type": "code",
        "colab": {}
      },
      "cell_type": "code",
      "source": [
        "with open('test_fdict_all.pkl', 'rb') as f:\n",
        "    test_fdict_all = pickle.load(f)"
      ],
      "execution_count": 0,
      "outputs": []
    },
    {
      "metadata": {
        "id": "cIed3xC82Gb5",
        "colab_type": "code",
        "colab": {}
      },
      "cell_type": "code",
      "source": [
        ""
      ],
      "execution_count": 0,
      "outputs": []
    },
    {
      "metadata": {
        "id": "w3iU6gMr2918",
        "colab_type": "code",
        "colab": {}
      },
      "cell_type": "code",
      "source": [
        "test_fdict = test_fdicts_all"
      ],
      "execution_count": 0,
      "outputs": []
    },
    {
      "metadata": {
        "id": "eUiAIFQm1I-D",
        "colab_type": "code",
        "colab": {}
      },
      "cell_type": "code",
      "source": [
        "def batch_input_function(params):\n",
        "    test_ds = tf.data.Dataset.from_tensor_slices(test_fdict)    \n",
        "    return test_ds.batch(params['batch_size'])"
      ],
      "execution_count": 0,
      "outputs": []
    },
    {
      "metadata": {
        "id": "qcSnX1n51IyP",
        "colab_type": "code",
        "colab": {}
      },
      "cell_type": "code",
      "source": [
        "result = estimator.predict(batch_input_function)"
      ],
      "execution_count": 0,
      "outputs": []
    },
    {
      "metadata": {
        "id": "1tH8LetOgacf",
        "colab_type": "text"
      },
      "cell_type": "markdown",
      "source": [
        "Below cell takes about 12 min, but output says shorter time (I don't know the reason).\n",
        "(start 12:17 and end 12:28)"
      ]
    },
    {
      "metadata": {
        "id": "8zS0YN8R1Il6",
        "colab_type": "code",
        "outputId": "86c38981-3031-4145-d8c8-aab4314c47bb",
        "colab": {
          "base_uri": "https://localhost:8080/",
          "height": 60319
        }
      },
      "cell_type": "code",
      "source": [
        "%%time\n",
        "#It will take about one hour on a CPU environment.\n",
        "\n",
        "result = list(result)"
      ],
      "execution_count": 0,
      "outputs": [
        {
          "output_type": "stream",
          "text": [
            "INFO:tensorflow:Calling model_fn.\n",
            "INFO:tensorflow:*** Features ***\n",
            "INFO:tensorflow:  name = input_ids, shape = (2, 512)\n",
            "INFO:tensorflow:  name = input_mask, shape = (2, 512)\n",
            "INFO:tensorflow:  name = label_ids, shape = (2, 1)\n",
            "INFO:tensorflow:  name = segment_ids, shape = (2, 512)\n",
            "INFO:tensorflow:**** Trainable Variables ****\n",
            "INFO:tensorflow:  name = bert/embeddings/word_embeddings:0, shape = (30522, 768), *INIT_FROM_CKPT*\n",
            "INFO:tensorflow:  name = bert/embeddings/token_type_embeddings:0, shape = (2, 768), *INIT_FROM_CKPT*\n",
            "INFO:tensorflow:  name = bert/embeddings/position_embeddings:0, shape = (512, 768), *INIT_FROM_CKPT*\n",
            "INFO:tensorflow:  name = bert/embeddings/LayerNorm/beta:0, shape = (768,), *INIT_FROM_CKPT*\n",
            "INFO:tensorflow:  name = bert/embeddings/LayerNorm/gamma:0, shape = (768,), *INIT_FROM_CKPT*\n",
            "INFO:tensorflow:  name = bert/encoder/layer_0/attention/self/query/kernel:0, shape = (768, 768), *INIT_FROM_CKPT*\n",
            "INFO:tensorflow:  name = bert/encoder/layer_0/attention/self/query/bias:0, shape = (768,), *INIT_FROM_CKPT*\n",
            "INFO:tensorflow:  name = bert/encoder/layer_0/attention/self/key/kernel:0, shape = (768, 768), *INIT_FROM_CKPT*\n",
            "INFO:tensorflow:  name = bert/encoder/layer_0/attention/self/key/bias:0, shape = (768,), *INIT_FROM_CKPT*\n",
            "INFO:tensorflow:  name = bert/encoder/layer_0/attention/self/value/kernel:0, shape = (768, 768), *INIT_FROM_CKPT*\n",
            "INFO:tensorflow:  name = bert/encoder/layer_0/attention/self/value/bias:0, shape = (768,), *INIT_FROM_CKPT*\n",
            "INFO:tensorflow:  name = bert/encoder/layer_0/attention/output/dense/kernel:0, shape = (768, 768), *INIT_FROM_CKPT*\n",
            "INFO:tensorflow:  name = bert/encoder/layer_0/attention/output/dense/bias:0, shape = (768,), *INIT_FROM_CKPT*\n",
            "INFO:tensorflow:  name = bert/encoder/layer_0/attention/output/LayerNorm/beta:0, shape = (768,), *INIT_FROM_CKPT*\n",
            "INFO:tensorflow:  name = bert/encoder/layer_0/attention/output/LayerNorm/gamma:0, shape = (768,), *INIT_FROM_CKPT*\n",
            "INFO:tensorflow:  name = bert/encoder/layer_0/intermediate/dense/kernel:0, shape = (768, 3072), *INIT_FROM_CKPT*\n",
            "INFO:tensorflow:  name = bert/encoder/layer_0/intermediate/dense/bias:0, shape = (3072,), *INIT_FROM_CKPT*\n",
            "INFO:tensorflow:  name = bert/encoder/layer_0/output/dense/kernel:0, shape = (3072, 768), *INIT_FROM_CKPT*\n",
            "INFO:tensorflow:  name = bert/encoder/layer_0/output/dense/bias:0, shape = (768,), *INIT_FROM_CKPT*\n",
            "INFO:tensorflow:  name = bert/encoder/layer_0/output/LayerNorm/beta:0, shape = (768,), *INIT_FROM_CKPT*\n",
            "INFO:tensorflow:  name = bert/encoder/layer_0/output/LayerNorm/gamma:0, shape = (768,), *INIT_FROM_CKPT*\n",
            "INFO:tensorflow:  name = bert/encoder/layer_1/attention/self/query/kernel:0, shape = (768, 768), *INIT_FROM_CKPT*\n",
            "INFO:tensorflow:  name = bert/encoder/layer_1/attention/self/query/bias:0, shape = (768,), *INIT_FROM_CKPT*\n",
            "INFO:tensorflow:  name = bert/encoder/layer_1/attention/self/key/kernel:0, shape = (768, 768), *INIT_FROM_CKPT*\n",
            "INFO:tensorflow:  name = bert/encoder/layer_1/attention/self/key/bias:0, shape = (768,), *INIT_FROM_CKPT*\n",
            "INFO:tensorflow:  name = bert/encoder/layer_1/attention/self/value/kernel:0, shape = (768, 768), *INIT_FROM_CKPT*\n",
            "INFO:tensorflow:  name = bert/encoder/layer_1/attention/self/value/bias:0, shape = (768,), *INIT_FROM_CKPT*\n",
            "INFO:tensorflow:  name = bert/encoder/layer_1/attention/output/dense/kernel:0, shape = (768, 768), *INIT_FROM_CKPT*\n",
            "INFO:tensorflow:  name = bert/encoder/layer_1/attention/output/dense/bias:0, shape = (768,), *INIT_FROM_CKPT*\n",
            "INFO:tensorflow:  name = bert/encoder/layer_1/attention/output/LayerNorm/beta:0, shape = (768,), *INIT_FROM_CKPT*\n",
            "INFO:tensorflow:  name = bert/encoder/layer_1/attention/output/LayerNorm/gamma:0, shape = (768,), *INIT_FROM_CKPT*\n",
            "INFO:tensorflow:  name = bert/encoder/layer_1/intermediate/dense/kernel:0, shape = (768, 3072), *INIT_FROM_CKPT*\n",
            "INFO:tensorflow:  name = bert/encoder/layer_1/intermediate/dense/bias:0, shape = (3072,), *INIT_FROM_CKPT*\n",
            "INFO:tensorflow:  name = bert/encoder/layer_1/output/dense/kernel:0, shape = (3072, 768), *INIT_FROM_CKPT*\n",
            "INFO:tensorflow:  name = bert/encoder/layer_1/output/dense/bias:0, shape = (768,), *INIT_FROM_CKPT*\n",
            "INFO:tensorflow:  name = bert/encoder/layer_1/output/LayerNorm/beta:0, shape = (768,), *INIT_FROM_CKPT*\n",
            "INFO:tensorflow:  name = bert/encoder/layer_1/output/LayerNorm/gamma:0, shape = (768,), *INIT_FROM_CKPT*\n",
            "INFO:tensorflow:  name = bert/encoder/layer_2/attention/self/query/kernel:0, shape = (768, 768), *INIT_FROM_CKPT*\n",
            "INFO:tensorflow:  name = bert/encoder/layer_2/attention/self/query/bias:0, shape = (768,), *INIT_FROM_CKPT*\n",
            "INFO:tensorflow:  name = bert/encoder/layer_2/attention/self/key/kernel:0, shape = (768, 768), *INIT_FROM_CKPT*\n",
            "INFO:tensorflow:  name = bert/encoder/layer_2/attention/self/key/bias:0, shape = (768,), *INIT_FROM_CKPT*\n",
            "INFO:tensorflow:  name = bert/encoder/layer_2/attention/self/value/kernel:0, shape = (768, 768), *INIT_FROM_CKPT*\n",
            "INFO:tensorflow:  name = bert/encoder/layer_2/attention/self/value/bias:0, shape = (768,), *INIT_FROM_CKPT*\n",
            "INFO:tensorflow:  name = bert/encoder/layer_2/attention/output/dense/kernel:0, shape = (768, 768), *INIT_FROM_CKPT*\n",
            "INFO:tensorflow:  name = bert/encoder/layer_2/attention/output/dense/bias:0, shape = (768,), *INIT_FROM_CKPT*\n",
            "INFO:tensorflow:  name = bert/encoder/layer_2/attention/output/LayerNorm/beta:0, shape = (768,), *INIT_FROM_CKPT*\n",
            "INFO:tensorflow:  name = bert/encoder/layer_2/attention/output/LayerNorm/gamma:0, shape = (768,), *INIT_FROM_CKPT*\n",
            "INFO:tensorflow:  name = bert/encoder/layer_2/intermediate/dense/kernel:0, shape = (768, 3072), *INIT_FROM_CKPT*\n",
            "INFO:tensorflow:  name = bert/encoder/layer_2/intermediate/dense/bias:0, shape = (3072,), *INIT_FROM_CKPT*\n",
            "INFO:tensorflow:  name = bert/encoder/layer_2/output/dense/kernel:0, shape = (3072, 768), *INIT_FROM_CKPT*\n",
            "INFO:tensorflow:  name = bert/encoder/layer_2/output/dense/bias:0, shape = (768,), *INIT_FROM_CKPT*\n",
            "INFO:tensorflow:  name = bert/encoder/layer_2/output/LayerNorm/beta:0, shape = (768,), *INIT_FROM_CKPT*\n",
            "INFO:tensorflow:  name = bert/encoder/layer_2/output/LayerNorm/gamma:0, shape = (768,), *INIT_FROM_CKPT*\n",
            "INFO:tensorflow:  name = bert/encoder/layer_3/attention/self/query/kernel:0, shape = (768, 768), *INIT_FROM_CKPT*\n",
            "INFO:tensorflow:  name = bert/encoder/layer_3/attention/self/query/bias:0, shape = (768,), *INIT_FROM_CKPT*\n",
            "INFO:tensorflow:  name = bert/encoder/layer_3/attention/self/key/kernel:0, shape = (768, 768), *INIT_FROM_CKPT*\n",
            "INFO:tensorflow:  name = bert/encoder/layer_3/attention/self/key/bias:0, shape = (768,), *INIT_FROM_CKPT*\n",
            "INFO:tensorflow:  name = bert/encoder/layer_3/attention/self/value/kernel:0, shape = (768, 768), *INIT_FROM_CKPT*\n",
            "INFO:tensorflow:  name = bert/encoder/layer_3/attention/self/value/bias:0, shape = (768,), *INIT_FROM_CKPT*\n",
            "INFO:tensorflow:  name = bert/encoder/layer_3/attention/output/dense/kernel:0, shape = (768, 768), *INIT_FROM_CKPT*\n",
            "INFO:tensorflow:  name = bert/encoder/layer_3/attention/output/dense/bias:0, shape = (768,), *INIT_FROM_CKPT*\n",
            "INFO:tensorflow:  name = bert/encoder/layer_3/attention/output/LayerNorm/beta:0, shape = (768,), *INIT_FROM_CKPT*\n",
            "INFO:tensorflow:  name = bert/encoder/layer_3/attention/output/LayerNorm/gamma:0, shape = (768,), *INIT_FROM_CKPT*\n",
            "INFO:tensorflow:  name = bert/encoder/layer_3/intermediate/dense/kernel:0, shape = (768, 3072), *INIT_FROM_CKPT*\n",
            "INFO:tensorflow:  name = bert/encoder/layer_3/intermediate/dense/bias:0, shape = (3072,), *INIT_FROM_CKPT*\n",
            "INFO:tensorflow:  name = bert/encoder/layer_3/output/dense/kernel:0, shape = (3072, 768), *INIT_FROM_CKPT*\n",
            "INFO:tensorflow:  name = bert/encoder/layer_3/output/dense/bias:0, shape = (768,), *INIT_FROM_CKPT*\n",
            "INFO:tensorflow:  name = bert/encoder/layer_3/output/LayerNorm/beta:0, shape = (768,), *INIT_FROM_CKPT*\n",
            "INFO:tensorflow:  name = bert/encoder/layer_3/output/LayerNorm/gamma:0, shape = (768,), *INIT_FROM_CKPT*\n",
            "INFO:tensorflow:  name = bert/encoder/layer_4/attention/self/query/kernel:0, shape = (768, 768), *INIT_FROM_CKPT*\n",
            "INFO:tensorflow:  name = bert/encoder/layer_4/attention/self/query/bias:0, shape = (768,), *INIT_FROM_CKPT*\n",
            "INFO:tensorflow:  name = bert/encoder/layer_4/attention/self/key/kernel:0, shape = (768, 768), *INIT_FROM_CKPT*\n",
            "INFO:tensorflow:  name = bert/encoder/layer_4/attention/self/key/bias:0, shape = (768,), *INIT_FROM_CKPT*\n",
            "INFO:tensorflow:  name = bert/encoder/layer_4/attention/self/value/kernel:0, shape = (768, 768), *INIT_FROM_CKPT*\n",
            "INFO:tensorflow:  name = bert/encoder/layer_4/attention/self/value/bias:0, shape = (768,), *INIT_FROM_CKPT*\n",
            "INFO:tensorflow:  name = bert/encoder/layer_4/attention/output/dense/kernel:0, shape = (768, 768), *INIT_FROM_CKPT*\n",
            "INFO:tensorflow:  name = bert/encoder/layer_4/attention/output/dense/bias:0, shape = (768,), *INIT_FROM_CKPT*\n",
            "INFO:tensorflow:  name = bert/encoder/layer_4/attention/output/LayerNorm/beta:0, shape = (768,), *INIT_FROM_CKPT*\n",
            "INFO:tensorflow:  name = bert/encoder/layer_4/attention/output/LayerNorm/gamma:0, shape = (768,), *INIT_FROM_CKPT*\n",
            "INFO:tensorflow:  name = bert/encoder/layer_4/intermediate/dense/kernel:0, shape = (768, 3072), *INIT_FROM_CKPT*\n",
            "INFO:tensorflow:  name = bert/encoder/layer_4/intermediate/dense/bias:0, shape = (3072,), *INIT_FROM_CKPT*\n",
            "INFO:tensorflow:  name = bert/encoder/layer_4/output/dense/kernel:0, shape = (3072, 768), *INIT_FROM_CKPT*\n",
            "INFO:tensorflow:  name = bert/encoder/layer_4/output/dense/bias:0, shape = (768,), *INIT_FROM_CKPT*\n",
            "INFO:tensorflow:  name = bert/encoder/layer_4/output/LayerNorm/beta:0, shape = (768,), *INIT_FROM_CKPT*\n",
            "INFO:tensorflow:  name = bert/encoder/layer_4/output/LayerNorm/gamma:0, shape = (768,), *INIT_FROM_CKPT*\n",
            "INFO:tensorflow:  name = bert/encoder/layer_5/attention/self/query/kernel:0, shape = (768, 768), *INIT_FROM_CKPT*\n",
            "INFO:tensorflow:  name = bert/encoder/layer_5/attention/self/query/bias:0, shape = (768,), *INIT_FROM_CKPT*\n",
            "INFO:tensorflow:  name = bert/encoder/layer_5/attention/self/key/kernel:0, shape = (768, 768), *INIT_FROM_CKPT*\n",
            "INFO:tensorflow:  name = bert/encoder/layer_5/attention/self/key/bias:0, shape = (768,), *INIT_FROM_CKPT*\n",
            "INFO:tensorflow:  name = bert/encoder/layer_5/attention/self/value/kernel:0, shape = (768, 768), *INIT_FROM_CKPT*\n",
            "INFO:tensorflow:  name = bert/encoder/layer_5/attention/self/value/bias:0, shape = (768,), *INIT_FROM_CKPT*\n",
            "INFO:tensorflow:  name = bert/encoder/layer_5/attention/output/dense/kernel:0, shape = (768, 768), *INIT_FROM_CKPT*\n",
            "INFO:tensorflow:  name = bert/encoder/layer_5/attention/output/dense/bias:0, shape = (768,), *INIT_FROM_CKPT*\n",
            "INFO:tensorflow:  name = bert/encoder/layer_5/attention/output/LayerNorm/beta:0, shape = (768,), *INIT_FROM_CKPT*\n",
            "INFO:tensorflow:  name = bert/encoder/layer_5/attention/output/LayerNorm/gamma:0, shape = (768,), *INIT_FROM_CKPT*\n",
            "INFO:tensorflow:  name = bert/encoder/layer_5/intermediate/dense/kernel:0, shape = (768, 3072), *INIT_FROM_CKPT*\n",
            "INFO:tensorflow:  name = bert/encoder/layer_5/intermediate/dense/bias:0, shape = (3072,), *INIT_FROM_CKPT*\n",
            "INFO:tensorflow:  name = bert/encoder/layer_5/output/dense/kernel:0, shape = (3072, 768), *INIT_FROM_CKPT*\n",
            "INFO:tensorflow:  name = bert/encoder/layer_5/output/dense/bias:0, shape = (768,), *INIT_FROM_CKPT*\n",
            "INFO:tensorflow:  name = bert/encoder/layer_5/output/LayerNorm/beta:0, shape = (768,), *INIT_FROM_CKPT*\n",
            "INFO:tensorflow:  name = bert/encoder/layer_5/output/LayerNorm/gamma:0, shape = (768,), *INIT_FROM_CKPT*\n",
            "INFO:tensorflow:  name = bert/encoder/layer_6/attention/self/query/kernel:0, shape = (768, 768), *INIT_FROM_CKPT*\n",
            "INFO:tensorflow:  name = bert/encoder/layer_6/attention/self/query/bias:0, shape = (768,), *INIT_FROM_CKPT*\n",
            "INFO:tensorflow:  name = bert/encoder/layer_6/attention/self/key/kernel:0, shape = (768, 768), *INIT_FROM_CKPT*\n",
            "INFO:tensorflow:  name = bert/encoder/layer_6/attention/self/key/bias:0, shape = (768,), *INIT_FROM_CKPT*\n",
            "INFO:tensorflow:  name = bert/encoder/layer_6/attention/self/value/kernel:0, shape = (768, 768), *INIT_FROM_CKPT*\n",
            "INFO:tensorflow:  name = bert/encoder/layer_6/attention/self/value/bias:0, shape = (768,), *INIT_FROM_CKPT*\n",
            "INFO:tensorflow:  name = bert/encoder/layer_6/attention/output/dense/kernel:0, shape = (768, 768), *INIT_FROM_CKPT*\n",
            "INFO:tensorflow:  name = bert/encoder/layer_6/attention/output/dense/bias:0, shape = (768,), *INIT_FROM_CKPT*\n",
            "INFO:tensorflow:  name = bert/encoder/layer_6/attention/output/LayerNorm/beta:0, shape = (768,), *INIT_FROM_CKPT*\n",
            "INFO:tensorflow:  name = bert/encoder/layer_6/attention/output/LayerNorm/gamma:0, shape = (768,), *INIT_FROM_CKPT*\n",
            "INFO:tensorflow:  name = bert/encoder/layer_6/intermediate/dense/kernel:0, shape = (768, 3072), *INIT_FROM_CKPT*\n",
            "INFO:tensorflow:  name = bert/encoder/layer_6/intermediate/dense/bias:0, shape = (3072,), *INIT_FROM_CKPT*\n",
            "INFO:tensorflow:  name = bert/encoder/layer_6/output/dense/kernel:0, shape = (3072, 768), *INIT_FROM_CKPT*\n",
            "INFO:tensorflow:  name = bert/encoder/layer_6/output/dense/bias:0, shape = (768,), *INIT_FROM_CKPT*\n",
            "INFO:tensorflow:  name = bert/encoder/layer_6/output/LayerNorm/beta:0, shape = (768,), *INIT_FROM_CKPT*\n",
            "INFO:tensorflow:  name = bert/encoder/layer_6/output/LayerNorm/gamma:0, shape = (768,), *INIT_FROM_CKPT*\n",
            "INFO:tensorflow:  name = bert/encoder/layer_7/attention/self/query/kernel:0, shape = (768, 768), *INIT_FROM_CKPT*\n",
            "INFO:tensorflow:  name = bert/encoder/layer_7/attention/self/query/bias:0, shape = (768,), *INIT_FROM_CKPT*\n",
            "INFO:tensorflow:  name = bert/encoder/layer_7/attention/self/key/kernel:0, shape = (768, 768), *INIT_FROM_CKPT*\n",
            "INFO:tensorflow:  name = bert/encoder/layer_7/attention/self/key/bias:0, shape = (768,), *INIT_FROM_CKPT*\n",
            "INFO:tensorflow:  name = bert/encoder/layer_7/attention/self/value/kernel:0, shape = (768, 768), *INIT_FROM_CKPT*\n",
            "INFO:tensorflow:  name = bert/encoder/layer_7/attention/self/value/bias:0, shape = (768,), *INIT_FROM_CKPT*\n",
            "INFO:tensorflow:  name = bert/encoder/layer_7/attention/output/dense/kernel:0, shape = (768, 768), *INIT_FROM_CKPT*\n",
            "INFO:tensorflow:  name = bert/encoder/layer_7/attention/output/dense/bias:0, shape = (768,), *INIT_FROM_CKPT*\n",
            "INFO:tensorflow:  name = bert/encoder/layer_7/attention/output/LayerNorm/beta:0, shape = (768,), *INIT_FROM_CKPT*\n",
            "INFO:tensorflow:  name = bert/encoder/layer_7/attention/output/LayerNorm/gamma:0, shape = (768,), *INIT_FROM_CKPT*\n",
            "INFO:tensorflow:  name = bert/encoder/layer_7/intermediate/dense/kernel:0, shape = (768, 3072), *INIT_FROM_CKPT*\n",
            "INFO:tensorflow:  name = bert/encoder/layer_7/intermediate/dense/bias:0, shape = (3072,), *INIT_FROM_CKPT*\n",
            "INFO:tensorflow:  name = bert/encoder/layer_7/output/dense/kernel:0, shape = (3072, 768), *INIT_FROM_CKPT*\n",
            "INFO:tensorflow:  name = bert/encoder/layer_7/output/dense/bias:0, shape = (768,), *INIT_FROM_CKPT*\n",
            "INFO:tensorflow:  name = bert/encoder/layer_7/output/LayerNorm/beta:0, shape = (768,), *INIT_FROM_CKPT*\n",
            "INFO:tensorflow:  name = bert/encoder/layer_7/output/LayerNorm/gamma:0, shape = (768,), *INIT_FROM_CKPT*\n",
            "INFO:tensorflow:  name = bert/encoder/layer_8/attention/self/query/kernel:0, shape = (768, 768), *INIT_FROM_CKPT*\n",
            "INFO:tensorflow:  name = bert/encoder/layer_8/attention/self/query/bias:0, shape = (768,), *INIT_FROM_CKPT*\n",
            "INFO:tensorflow:  name = bert/encoder/layer_8/attention/self/key/kernel:0, shape = (768, 768), *INIT_FROM_CKPT*\n",
            "INFO:tensorflow:  name = bert/encoder/layer_8/attention/self/key/bias:0, shape = (768,), *INIT_FROM_CKPT*\n",
            "INFO:tensorflow:  name = bert/encoder/layer_8/attention/self/value/kernel:0, shape = (768, 768), *INIT_FROM_CKPT*\n",
            "INFO:tensorflow:  name = bert/encoder/layer_8/attention/self/value/bias:0, shape = (768,), *INIT_FROM_CKPT*\n",
            "INFO:tensorflow:  name = bert/encoder/layer_8/attention/output/dense/kernel:0, shape = (768, 768), *INIT_FROM_CKPT*\n",
            "INFO:tensorflow:  name = bert/encoder/layer_8/attention/output/dense/bias:0, shape = (768,), *INIT_FROM_CKPT*\n",
            "INFO:tensorflow:  name = bert/encoder/layer_8/attention/output/LayerNorm/beta:0, shape = (768,), *INIT_FROM_CKPT*\n",
            "INFO:tensorflow:  name = bert/encoder/layer_8/attention/output/LayerNorm/gamma:0, shape = (768,), *INIT_FROM_CKPT*\n",
            "INFO:tensorflow:  name = bert/encoder/layer_8/intermediate/dense/kernel:0, shape = (768, 3072), *INIT_FROM_CKPT*\n",
            "INFO:tensorflow:  name = bert/encoder/layer_8/intermediate/dense/bias:0, shape = (3072,), *INIT_FROM_CKPT*\n",
            "INFO:tensorflow:  name = bert/encoder/layer_8/output/dense/kernel:0, shape = (3072, 768), *INIT_FROM_CKPT*\n",
            "INFO:tensorflow:  name = bert/encoder/layer_8/output/dense/bias:0, shape = (768,), *INIT_FROM_CKPT*\n",
            "INFO:tensorflow:  name = bert/encoder/layer_8/output/LayerNorm/beta:0, shape = (768,), *INIT_FROM_CKPT*\n",
            "INFO:tensorflow:  name = bert/encoder/layer_8/output/LayerNorm/gamma:0, shape = (768,), *INIT_FROM_CKPT*\n",
            "INFO:tensorflow:  name = bert/encoder/layer_9/attention/self/query/kernel:0, shape = (768, 768), *INIT_FROM_CKPT*\n",
            "INFO:tensorflow:  name = bert/encoder/layer_9/attention/self/query/bias:0, shape = (768,), *INIT_FROM_CKPT*\n",
            "INFO:tensorflow:  name = bert/encoder/layer_9/attention/self/key/kernel:0, shape = (768, 768), *INIT_FROM_CKPT*\n",
            "INFO:tensorflow:  name = bert/encoder/layer_9/attention/self/key/bias:0, shape = (768,), *INIT_FROM_CKPT*\n",
            "INFO:tensorflow:  name = bert/encoder/layer_9/attention/self/value/kernel:0, shape = (768, 768), *INIT_FROM_CKPT*\n",
            "INFO:tensorflow:  name = bert/encoder/layer_9/attention/self/value/bias:0, shape = (768,), *INIT_FROM_CKPT*\n",
            "INFO:tensorflow:  name = bert/encoder/layer_9/attention/output/dense/kernel:0, shape = (768, 768), *INIT_FROM_CKPT*\n",
            "INFO:tensorflow:  name = bert/encoder/layer_9/attention/output/dense/bias:0, shape = (768,), *INIT_FROM_CKPT*\n",
            "INFO:tensorflow:  name = bert/encoder/layer_9/attention/output/LayerNorm/beta:0, shape = (768,), *INIT_FROM_CKPT*\n",
            "INFO:tensorflow:  name = bert/encoder/layer_9/attention/output/LayerNorm/gamma:0, shape = (768,), *INIT_FROM_CKPT*\n",
            "INFO:tensorflow:  name = bert/encoder/layer_9/intermediate/dense/kernel:0, shape = (768, 3072), *INIT_FROM_CKPT*\n",
            "INFO:tensorflow:  name = bert/encoder/layer_9/intermediate/dense/bias:0, shape = (3072,), *INIT_FROM_CKPT*\n",
            "INFO:tensorflow:  name = bert/encoder/layer_9/output/dense/kernel:0, shape = (3072, 768), *INIT_FROM_CKPT*\n",
            "INFO:tensorflow:  name = bert/encoder/layer_9/output/dense/bias:0, shape = (768,), *INIT_FROM_CKPT*\n",
            "INFO:tensorflow:  name = bert/encoder/layer_9/output/LayerNorm/beta:0, shape = (768,), *INIT_FROM_CKPT*\n",
            "INFO:tensorflow:  name = bert/encoder/layer_9/output/LayerNorm/gamma:0, shape = (768,), *INIT_FROM_CKPT*\n",
            "INFO:tensorflow:  name = bert/encoder/layer_10/attention/self/query/kernel:0, shape = (768, 768), *INIT_FROM_CKPT*\n",
            "INFO:tensorflow:  name = bert/encoder/layer_10/attention/self/query/bias:0, shape = (768,), *INIT_FROM_CKPT*\n",
            "INFO:tensorflow:  name = bert/encoder/layer_10/attention/self/key/kernel:0, shape = (768, 768), *INIT_FROM_CKPT*\n",
            "INFO:tensorflow:  name = bert/encoder/layer_10/attention/self/key/bias:0, shape = (768,), *INIT_FROM_CKPT*\n",
            "INFO:tensorflow:  name = bert/encoder/layer_10/attention/self/value/kernel:0, shape = (768, 768), *INIT_FROM_CKPT*\n",
            "INFO:tensorflow:  name = bert/encoder/layer_10/attention/self/value/bias:0, shape = (768,), *INIT_FROM_CKPT*\n",
            "INFO:tensorflow:  name = bert/encoder/layer_10/attention/output/dense/kernel:0, shape = (768, 768), *INIT_FROM_CKPT*\n",
            "INFO:tensorflow:  name = bert/encoder/layer_10/attention/output/dense/bias:0, shape = (768,), *INIT_FROM_CKPT*\n",
            "INFO:tensorflow:  name = bert/encoder/layer_10/attention/output/LayerNorm/beta:0, shape = (768,), *INIT_FROM_CKPT*\n",
            "INFO:tensorflow:  name = bert/encoder/layer_10/attention/output/LayerNorm/gamma:0, shape = (768,), *INIT_FROM_CKPT*\n",
            "INFO:tensorflow:  name = bert/encoder/layer_10/intermediate/dense/kernel:0, shape = (768, 3072), *INIT_FROM_CKPT*\n",
            "INFO:tensorflow:  name = bert/encoder/layer_10/intermediate/dense/bias:0, shape = (3072,), *INIT_FROM_CKPT*\n",
            "INFO:tensorflow:  name = bert/encoder/layer_10/output/dense/kernel:0, shape = (3072, 768), *INIT_FROM_CKPT*\n",
            "INFO:tensorflow:  name = bert/encoder/layer_10/output/dense/bias:0, shape = (768,), *INIT_FROM_CKPT*\n",
            "INFO:tensorflow:  name = bert/encoder/layer_10/output/LayerNorm/beta:0, shape = (768,), *INIT_FROM_CKPT*\n",
            "INFO:tensorflow:  name = bert/encoder/layer_10/output/LayerNorm/gamma:0, shape = (768,), *INIT_FROM_CKPT*\n",
            "INFO:tensorflow:  name = bert/encoder/layer_11/attention/self/query/kernel:0, shape = (768, 768), *INIT_FROM_CKPT*\n",
            "INFO:tensorflow:  name = bert/encoder/layer_11/attention/self/query/bias:0, shape = (768,), *INIT_FROM_CKPT*\n",
            "INFO:tensorflow:  name = bert/encoder/layer_11/attention/self/key/kernel:0, shape = (768, 768), *INIT_FROM_CKPT*\n",
            "INFO:tensorflow:  name = bert/encoder/layer_11/attention/self/key/bias:0, shape = (768,), *INIT_FROM_CKPT*\n",
            "INFO:tensorflow:  name = bert/encoder/layer_11/attention/self/value/kernel:0, shape = (768, 768), *INIT_FROM_CKPT*\n",
            "INFO:tensorflow:  name = bert/encoder/layer_11/attention/self/value/bias:0, shape = (768,), *INIT_FROM_CKPT*\n",
            "INFO:tensorflow:  name = bert/encoder/layer_11/attention/output/dense/kernel:0, shape = (768, 768), *INIT_FROM_CKPT*\n",
            "INFO:tensorflow:  name = bert/encoder/layer_11/attention/output/dense/bias:0, shape = (768,), *INIT_FROM_CKPT*\n",
            "INFO:tensorflow:  name = bert/encoder/layer_11/attention/output/LayerNorm/beta:0, shape = (768,), *INIT_FROM_CKPT*\n",
            "INFO:tensorflow:  name = bert/encoder/layer_11/attention/output/LayerNorm/gamma:0, shape = (768,), *INIT_FROM_CKPT*\n",
            "INFO:tensorflow:  name = bert/encoder/layer_11/intermediate/dense/kernel:0, shape = (768, 3072), *INIT_FROM_CKPT*\n",
            "INFO:tensorflow:  name = bert/encoder/layer_11/intermediate/dense/bias:0, shape = (3072,), *INIT_FROM_CKPT*\n",
            "INFO:tensorflow:  name = bert/encoder/layer_11/output/dense/kernel:0, shape = (3072, 768), *INIT_FROM_CKPT*\n",
            "INFO:tensorflow:  name = bert/encoder/layer_11/output/dense/bias:0, shape = (768,), *INIT_FROM_CKPT*\n",
            "INFO:tensorflow:  name = bert/encoder/layer_11/output/LayerNorm/beta:0, shape = (768,), *INIT_FROM_CKPT*\n",
            "INFO:tensorflow:  name = bert/encoder/layer_11/output/LayerNorm/gamma:0, shape = (768,), *INIT_FROM_CKPT*\n",
            "INFO:tensorflow:  name = bert/pooler/dense/kernel:0, shape = (768, 768), *INIT_FROM_CKPT*\n",
            "INFO:tensorflow:  name = bert/pooler/dense/bias:0, shape = (768,), *INIT_FROM_CKPT*\n",
            "INFO:tensorflow:  name = output_weights:0, shape = (2, 768), *INIT_FROM_CKPT*\n",
            "INFO:tensorflow:  name = output_bias:0, shape = (2,), *INIT_FROM_CKPT*\n",
            "INFO:tensorflow:Done calling model_fn.\n",
            "INFO:tensorflow:TPU job name worker\n",
            "INFO:tensorflow:Graph was finalized.\n",
            "INFO:tensorflow:Restoring parameters from gs://karino2-uspatent/mlstudy-phys/bert/models/patent_1000/model.ckpt-1602\n",
            "INFO:tensorflow:Running local_init_op.\n",
            "INFO:tensorflow:Done running local_init_op.\n",
            "INFO:tensorflow:Init TPU system\n",
            "INFO:tensorflow:Initialized TPU in 7 seconds\n",
            "INFO:tensorflow:Starting infeed thread controller.\n",
            "INFO:tensorflow:Starting outfeed thread controller.\n",
            "INFO:tensorflow:Initialized dataset iterators in 0 seconds\n",
            "INFO:tensorflow:Enqueue next (1) batch(es) of data to infeed.\n",
            "INFO:tensorflow:Dequeue next (1) batch(es) of data from outfeed.\n",
            "INFO:tensorflow:Enqueue next (1) batch(es) of data to infeed.\n",
            "INFO:tensorflow:Dequeue next (1) batch(es) of data from outfeed.\n",
            "INFO:tensorflow:Enqueue next (1) batch(es) of data to infeed.\n",
            "INFO:tensorflow:Dequeue next (1) batch(es) of data from outfeed.\n",
            "INFO:tensorflow:Enqueue next (1) batch(es) of data to infeed.\n",
            "INFO:tensorflow:Dequeue next (1) batch(es) of data from outfeed.\n",
            "INFO:tensorflow:Enqueue next (1) batch(es) of data to infeed.\n",
            "INFO:tensorflow:Dequeue next (1) batch(es) of data from outfeed.\n",
            "INFO:tensorflow:Enqueue next (1) batch(es) of data to infeed.\n",
            "INFO:tensorflow:Dequeue next (1) batch(es) of data from outfeed.\n",
            "INFO:tensorflow:Enqueue next (1) batch(es) of data to infeed.\n",
            "INFO:tensorflow:Dequeue next (1) batch(es) of data from outfeed.\n",
            "INFO:tensorflow:Enqueue next (1) batch(es) of data to infeed.\n",
            "INFO:tensorflow:Dequeue next (1) batch(es) of data from outfeed.\n",
            "INFO:tensorflow:Enqueue next (1) batch(es) of data to infeed.\n",
            "INFO:tensorflow:Dequeue next (1) batch(es) of data from outfeed.\n",
            "INFO:tensorflow:Enqueue next (1) batch(es) of data to infeed.\n",
            "INFO:tensorflow:Dequeue next (1) batch(es) of data from outfeed.\n",
            "INFO:tensorflow:Enqueue next (1) batch(es) of data to infeed.\n",
            "INFO:tensorflow:Dequeue next (1) batch(es) of data from outfeed.\n",
            "INFO:tensorflow:Enqueue next (1) batch(es) of data to infeed.\n",
            "INFO:tensorflow:Dequeue next (1) batch(es) of data from outfeed.\n",
            "INFO:tensorflow:Enqueue next (1) batch(es) of data to infeed.\n",
            "INFO:tensorflow:Dequeue next (1) batch(es) of data from outfeed.\n",
            "INFO:tensorflow:Enqueue next (1) batch(es) of data to infeed.\n",
            "INFO:tensorflow:Dequeue next (1) batch(es) of data from outfeed.\n",
            "INFO:tensorflow:Enqueue next (1) batch(es) of data to infeed.\n",
            "INFO:tensorflow:Dequeue next (1) batch(es) of data from outfeed.\n",
            "INFO:tensorflow:Enqueue next (1) batch(es) of data to infeed.\n",
            "INFO:tensorflow:Dequeue next (1) batch(es) of data from outfeed.\n",
            "INFO:tensorflow:Enqueue next (1) batch(es) of data to infeed.\n",
            "INFO:tensorflow:Dequeue next (1) batch(es) of data from outfeed.\n",
            "INFO:tensorflow:Enqueue next (1) batch(es) of data to infeed.\n",
            "INFO:tensorflow:Dequeue next (1) batch(es) of data from outfeed.\n",
            "INFO:tensorflow:Enqueue next (1) batch(es) of data to infeed.\n",
            "INFO:tensorflow:Dequeue next (1) batch(es) of data from outfeed.\n",
            "INFO:tensorflow:Enqueue next (1) batch(es) of data to infeed.\n",
            "INFO:tensorflow:Dequeue next (1) batch(es) of data from outfeed.\n",
            "INFO:tensorflow:Enqueue next (1) batch(es) of data to infeed.\n",
            "INFO:tensorflow:Dequeue next (1) batch(es) of data from outfeed.\n",
            "INFO:tensorflow:Enqueue next (1) batch(es) of data to infeed.\n",
            "INFO:tensorflow:Dequeue next (1) batch(es) of data from outfeed.\n",
            "INFO:tensorflow:Enqueue next (1) batch(es) of data to infeed.\n",
            "INFO:tensorflow:Dequeue next (1) batch(es) of data from outfeed.\n",
            "INFO:tensorflow:Enqueue next (1) batch(es) of data to infeed.\n",
            "INFO:tensorflow:Dequeue next (1) batch(es) of data from outfeed.\n",
            "INFO:tensorflow:Enqueue next (1) batch(es) of data to infeed.\n",
            "INFO:tensorflow:Dequeue next (1) batch(es) of data from outfeed.\n",
            "INFO:tensorflow:Enqueue next (1) batch(es) of data to infeed.\n",
            "INFO:tensorflow:Dequeue next (1) batch(es) of data from outfeed.\n",
            "INFO:tensorflow:Enqueue next (1) batch(es) of data to infeed.\n",
            "INFO:tensorflow:Dequeue next (1) batch(es) of data from outfeed.\n",
            "INFO:tensorflow:Enqueue next (1) batch(es) of data to infeed.\n",
            "INFO:tensorflow:Dequeue next (1) batch(es) of data from outfeed.\n",
            "INFO:tensorflow:Enqueue next (1) batch(es) of data to infeed.\n",
            "INFO:tensorflow:Dequeue next (1) batch(es) of data from outfeed.\n",
            "INFO:tensorflow:Enqueue next (1) batch(es) of data to infeed.\n",
            "INFO:tensorflow:Dequeue next (1) batch(es) of data from outfeed.\n",
            "INFO:tensorflow:Enqueue next (1) batch(es) of data to infeed.\n",
            "INFO:tensorflow:Dequeue next (1) batch(es) of data from outfeed.\n",
            "INFO:tensorflow:Enqueue next (1) batch(es) of data to infeed.\n",
            "INFO:tensorflow:Dequeue next (1) batch(es) of data from outfeed.\n",
            "INFO:tensorflow:Enqueue next (1) batch(es) of data to infeed.\n",
            "INFO:tensorflow:Dequeue next (1) batch(es) of data from outfeed.\n",
            "INFO:tensorflow:Enqueue next (1) batch(es) of data to infeed.\n",
            "INFO:tensorflow:Dequeue next (1) batch(es) of data from outfeed.\n",
            "INFO:tensorflow:Enqueue next (1) batch(es) of data to infeed.\n",
            "INFO:tensorflow:Dequeue next (1) batch(es) of data from outfeed.\n",
            "INFO:tensorflow:Enqueue next (1) batch(es) of data to infeed.\n",
            "INFO:tensorflow:Dequeue next (1) batch(es) of data from outfeed.\n",
            "INFO:tensorflow:Enqueue next (1) batch(es) of data to infeed.\n",
            "INFO:tensorflow:Dequeue next (1) batch(es) of data from outfeed.\n",
            "INFO:tensorflow:Enqueue next (1) batch(es) of data to infeed.\n",
            "INFO:tensorflow:Dequeue next (1) batch(es) of data from outfeed.\n",
            "INFO:tensorflow:Enqueue next (1) batch(es) of data to infeed.\n",
            "INFO:tensorflow:Dequeue next (1) batch(es) of data from outfeed.\n",
            "INFO:tensorflow:Enqueue next (1) batch(es) of data to infeed.\n",
            "INFO:tensorflow:Dequeue next (1) batch(es) of data from outfeed.\n",
            "INFO:tensorflow:Enqueue next (1) batch(es) of data to infeed.\n",
            "INFO:tensorflow:Dequeue next (1) batch(es) of data from outfeed.\n",
            "INFO:tensorflow:Enqueue next (1) batch(es) of data to infeed.\n",
            "INFO:tensorflow:Dequeue next (1) batch(es) of data from outfeed.\n",
            "INFO:tensorflow:Enqueue next (1) batch(es) of data to infeed.\n",
            "INFO:tensorflow:Dequeue next (1) batch(es) of data from outfeed.\n",
            "INFO:tensorflow:Enqueue next (1) batch(es) of data to infeed.\n",
            "INFO:tensorflow:Dequeue next (1) batch(es) of data from outfeed.\n",
            "INFO:tensorflow:Enqueue next (1) batch(es) of data to infeed.\n",
            "INFO:tensorflow:Dequeue next (1) batch(es) of data from outfeed.\n",
            "INFO:tensorflow:Enqueue next (1) batch(es) of data to infeed.\n",
            "INFO:tensorflow:Dequeue next (1) batch(es) of data from outfeed.\n",
            "INFO:tensorflow:Enqueue next (1) batch(es) of data to infeed.\n",
            "INFO:tensorflow:Dequeue next (1) batch(es) of data from outfeed.\n",
            "INFO:tensorflow:Enqueue next (1) batch(es) of data to infeed.\n",
            "INFO:tensorflow:Dequeue next (1) batch(es) of data from outfeed.\n",
            "INFO:tensorflow:Enqueue next (1) batch(es) of data to infeed.\n",
            "INFO:tensorflow:Dequeue next (1) batch(es) of data from outfeed.\n",
            "INFO:tensorflow:Enqueue next (1) batch(es) of data to infeed.\n",
            "INFO:tensorflow:Dequeue next (1) batch(es) of data from outfeed.\n",
            "INFO:tensorflow:Enqueue next (1) batch(es) of data to infeed.\n",
            "INFO:tensorflow:Dequeue next (1) batch(es) of data from outfeed.\n",
            "INFO:tensorflow:Enqueue next (1) batch(es) of data to infeed.\n",
            "INFO:tensorflow:Dequeue next (1) batch(es) of data from outfeed.\n",
            "INFO:tensorflow:Enqueue next (1) batch(es) of data to infeed.\n",
            "INFO:tensorflow:Dequeue next (1) batch(es) of data from outfeed.\n",
            "INFO:tensorflow:Enqueue next (1) batch(es) of data to infeed.\n",
            "INFO:tensorflow:Dequeue next (1) batch(es) of data from outfeed.\n",
            "INFO:tensorflow:Enqueue next (1) batch(es) of data to infeed.\n",
            "INFO:tensorflow:Dequeue next (1) batch(es) of data from outfeed.\n",
            "INFO:tensorflow:Enqueue next (1) batch(es) of data to infeed.\n",
            "INFO:tensorflow:Dequeue next (1) batch(es) of data from outfeed.\n",
            "INFO:tensorflow:Enqueue next (1) batch(es) of data to infeed.\n",
            "INFO:tensorflow:Dequeue next (1) batch(es) of data from outfeed.\n",
            "INFO:tensorflow:Enqueue next (1) batch(es) of data to infeed.\n",
            "INFO:tensorflow:Dequeue next (1) batch(es) of data from outfeed.\n",
            "INFO:tensorflow:Enqueue next (1) batch(es) of data to infeed.\n",
            "INFO:tensorflow:Dequeue next (1) batch(es) of data from outfeed.\n",
            "INFO:tensorflow:Enqueue next (1) batch(es) of data to infeed.\n",
            "INFO:tensorflow:Dequeue next (1) batch(es) of data from outfeed.\n",
            "INFO:tensorflow:Enqueue next (1) batch(es) of data to infeed.\n",
            "INFO:tensorflow:Dequeue next (1) batch(es) of data from outfeed.\n",
            "INFO:tensorflow:Enqueue next (1) batch(es) of data to infeed.\n",
            "INFO:tensorflow:Dequeue next (1) batch(es) of data from outfeed.\n",
            "INFO:tensorflow:Enqueue next (1) batch(es) of data to infeed.\n",
            "INFO:tensorflow:Dequeue next (1) batch(es) of data from outfeed.\n",
            "INFO:tensorflow:Enqueue next (1) batch(es) of data to infeed.\n",
            "INFO:tensorflow:Dequeue next (1) batch(es) of data from outfeed.\n",
            "INFO:tensorflow:Enqueue next (1) batch(es) of data to infeed.\n",
            "INFO:tensorflow:Dequeue next (1) batch(es) of data from outfeed.\n",
            "INFO:tensorflow:Enqueue next (1) batch(es) of data to infeed.\n",
            "INFO:tensorflow:Dequeue next (1) batch(es) of data from outfeed.\n",
            "INFO:tensorflow:Enqueue next (1) batch(es) of data to infeed.\n",
            "INFO:tensorflow:Dequeue next (1) batch(es) of data from outfeed.\n",
            "INFO:tensorflow:Enqueue next (1) batch(es) of data to infeed.\n",
            "INFO:tensorflow:Dequeue next (1) batch(es) of data from outfeed.\n",
            "INFO:tensorflow:Enqueue next (1) batch(es) of data to infeed.\n",
            "INFO:tensorflow:Dequeue next (1) batch(es) of data from outfeed.\n",
            "INFO:tensorflow:Enqueue next (1) batch(es) of data to infeed.\n",
            "INFO:tensorflow:Dequeue next (1) batch(es) of data from outfeed.\n",
            "INFO:tensorflow:Enqueue next (1) batch(es) of data to infeed.\n",
            "INFO:tensorflow:Dequeue next (1) batch(es) of data from outfeed.\n",
            "INFO:tensorflow:Enqueue next (1) batch(es) of data to infeed.\n",
            "INFO:tensorflow:Dequeue next (1) batch(es) of data from outfeed.\n",
            "INFO:tensorflow:Enqueue next (1) batch(es) of data to infeed.\n",
            "INFO:tensorflow:Dequeue next (1) batch(es) of data from outfeed.\n",
            "INFO:tensorflow:Enqueue next (1) batch(es) of data to infeed.\n",
            "INFO:tensorflow:Dequeue next (1) batch(es) of data from outfeed.\n",
            "INFO:tensorflow:Enqueue next (1) batch(es) of data to infeed.\n",
            "INFO:tensorflow:Dequeue next (1) batch(es) of data from outfeed.\n",
            "INFO:tensorflow:Enqueue next (1) batch(es) of data to infeed.\n",
            "INFO:tensorflow:Dequeue next (1) batch(es) of data from outfeed.\n",
            "INFO:tensorflow:Enqueue next (1) batch(es) of data to infeed.\n",
            "INFO:tensorflow:Dequeue next (1) batch(es) of data from outfeed.\n",
            "INFO:tensorflow:Enqueue next (1) batch(es) of data to infeed.\n",
            "INFO:tensorflow:Dequeue next (1) batch(es) of data from outfeed.\n",
            "INFO:tensorflow:Enqueue next (1) batch(es) of data to infeed.\n",
            "INFO:tensorflow:Dequeue next (1) batch(es) of data from outfeed.\n",
            "INFO:tensorflow:Enqueue next (1) batch(es) of data to infeed.\n",
            "INFO:tensorflow:Dequeue next (1) batch(es) of data from outfeed.\n",
            "INFO:tensorflow:Enqueue next (1) batch(es) of data to infeed.\n",
            "INFO:tensorflow:Dequeue next (1) batch(es) of data from outfeed.\n",
            "INFO:tensorflow:Enqueue next (1) batch(es) of data to infeed.\n",
            "INFO:tensorflow:Dequeue next (1) batch(es) of data from outfeed.\n",
            "INFO:tensorflow:Enqueue next (1) batch(es) of data to infeed.\n",
            "INFO:tensorflow:Dequeue next (1) batch(es) of data from outfeed.\n",
            "INFO:tensorflow:Enqueue next (1) batch(es) of data to infeed.\n",
            "INFO:tensorflow:Dequeue next (1) batch(es) of data from outfeed.\n",
            "INFO:tensorflow:Enqueue next (1) batch(es) of data to infeed.\n",
            "INFO:tensorflow:Dequeue next (1) batch(es) of data from outfeed.\n",
            "INFO:tensorflow:Enqueue next (1) batch(es) of data to infeed.\n",
            "INFO:tensorflow:Dequeue next (1) batch(es) of data from outfeed.\n",
            "INFO:tensorflow:Enqueue next (1) batch(es) of data to infeed.\n",
            "INFO:tensorflow:Dequeue next (1) batch(es) of data from outfeed.\n",
            "INFO:tensorflow:Enqueue next (1) batch(es) of data to infeed.\n",
            "INFO:tensorflow:Dequeue next (1) batch(es) of data from outfeed.\n",
            "INFO:tensorflow:Enqueue next (1) batch(es) of data to infeed.\n",
            "INFO:tensorflow:Dequeue next (1) batch(es) of data from outfeed.\n",
            "INFO:tensorflow:Enqueue next (1) batch(es) of data to infeed.\n",
            "INFO:tensorflow:Dequeue next (1) batch(es) of data from outfeed.\n",
            "INFO:tensorflow:Enqueue next (1) batch(es) of data to infeed.\n",
            "INFO:tensorflow:Dequeue next (1) batch(es) of data from outfeed.\n",
            "INFO:tensorflow:Enqueue next (1) batch(es) of data to infeed.\n",
            "INFO:tensorflow:Dequeue next (1) batch(es) of data from outfeed.\n",
            "INFO:tensorflow:Enqueue next (1) batch(es) of data to infeed.\n",
            "INFO:tensorflow:Dequeue next (1) batch(es) of data from outfeed.\n",
            "INFO:tensorflow:Enqueue next (1) batch(es) of data to infeed.\n",
            "INFO:tensorflow:Dequeue next (1) batch(es) of data from outfeed.\n",
            "INFO:tensorflow:Enqueue next (1) batch(es) of data to infeed.\n",
            "INFO:tensorflow:Dequeue next (1) batch(es) of data from outfeed.\n",
            "INFO:tensorflow:Enqueue next (1) batch(es) of data to infeed.\n",
            "INFO:tensorflow:Dequeue next (1) batch(es) of data from outfeed.\n",
            "INFO:tensorflow:Enqueue next (1) batch(es) of data to infeed.\n",
            "INFO:tensorflow:Dequeue next (1) batch(es) of data from outfeed.\n",
            "INFO:tensorflow:Enqueue next (1) batch(es) of data to infeed.\n",
            "INFO:tensorflow:Dequeue next (1) batch(es) of data from outfeed.\n",
            "INFO:tensorflow:Enqueue next (1) batch(es) of data to infeed.\n",
            "INFO:tensorflow:Dequeue next (1) batch(es) of data from outfeed.\n",
            "INFO:tensorflow:Enqueue next (1) batch(es) of data to infeed.\n",
            "INFO:tensorflow:Dequeue next (1) batch(es) of data from outfeed.\n",
            "INFO:tensorflow:Enqueue next (1) batch(es) of data to infeed.\n",
            "INFO:tensorflow:Dequeue next (1) batch(es) of data from outfeed.\n",
            "INFO:tensorflow:Enqueue next (1) batch(es) of data to infeed.\n",
            "INFO:tensorflow:Dequeue next (1) batch(es) of data from outfeed.\n",
            "INFO:tensorflow:Enqueue next (1) batch(es) of data to infeed.\n",
            "INFO:tensorflow:Dequeue next (1) batch(es) of data from outfeed.\n",
            "INFO:tensorflow:Enqueue next (1) batch(es) of data to infeed.\n",
            "INFO:tensorflow:Dequeue next (1) batch(es) of data from outfeed.\n",
            "INFO:tensorflow:Enqueue next (1) batch(es) of data to infeed.\n",
            "INFO:tensorflow:Dequeue next (1) batch(es) of data from outfeed.\n",
            "INFO:tensorflow:Enqueue next (1) batch(es) of data to infeed.\n",
            "INFO:tensorflow:Dequeue next (1) batch(es) of data from outfeed.\n",
            "INFO:tensorflow:Enqueue next (1) batch(es) of data to infeed.\n",
            "INFO:tensorflow:Dequeue next (1) batch(es) of data from outfeed.\n",
            "INFO:tensorflow:Enqueue next (1) batch(es) of data to infeed.\n",
            "INFO:tensorflow:Dequeue next (1) batch(es) of data from outfeed.\n",
            "INFO:tensorflow:Enqueue next (1) batch(es) of data to infeed.\n",
            "INFO:tensorflow:Dequeue next (1) batch(es) of data from outfeed.\n",
            "INFO:tensorflow:Enqueue next (1) batch(es) of data to infeed.\n",
            "INFO:tensorflow:Dequeue next (1) batch(es) of data from outfeed.\n",
            "INFO:tensorflow:Enqueue next (1) batch(es) of data to infeed.\n",
            "INFO:tensorflow:Dequeue next (1) batch(es) of data from outfeed.\n",
            "INFO:tensorflow:Enqueue next (1) batch(es) of data to infeed.\n",
            "INFO:tensorflow:Dequeue next (1) batch(es) of data from outfeed.\n",
            "INFO:tensorflow:Enqueue next (1) batch(es) of data to infeed.\n",
            "INFO:tensorflow:Dequeue next (1) batch(es) of data from outfeed.\n",
            "INFO:tensorflow:Enqueue next (1) batch(es) of data to infeed.\n",
            "INFO:tensorflow:Dequeue next (1) batch(es) of data from outfeed.\n",
            "INFO:tensorflow:Enqueue next (1) batch(es) of data to infeed.\n",
            "INFO:tensorflow:Dequeue next (1) batch(es) of data from outfeed.\n",
            "INFO:tensorflow:Enqueue next (1) batch(es) of data to infeed.\n",
            "INFO:tensorflow:Dequeue next (1) batch(es) of data from outfeed.\n",
            "INFO:tensorflow:Enqueue next (1) batch(es) of data to infeed.\n",
            "INFO:tensorflow:Dequeue next (1) batch(es) of data from outfeed.\n",
            "INFO:tensorflow:Enqueue next (1) batch(es) of data to infeed.\n",
            "INFO:tensorflow:Dequeue next (1) batch(es) of data from outfeed.\n",
            "INFO:tensorflow:Enqueue next (1) batch(es) of data to infeed.\n",
            "INFO:tensorflow:Dequeue next (1) batch(es) of data from outfeed.\n",
            "INFO:tensorflow:Enqueue next (1) batch(es) of data to infeed.\n",
            "INFO:tensorflow:Dequeue next (1) batch(es) of data from outfeed.\n",
            "INFO:tensorflow:Enqueue next (1) batch(es) of data to infeed.\n",
            "INFO:tensorflow:Dequeue next (1) batch(es) of data from outfeed.\n",
            "INFO:tensorflow:Enqueue next (1) batch(es) of data to infeed.\n",
            "INFO:tensorflow:Dequeue next (1) batch(es) of data from outfeed.\n",
            "INFO:tensorflow:Enqueue next (1) batch(es) of data to infeed.\n",
            "INFO:tensorflow:Dequeue next (1) batch(es) of data from outfeed.\n",
            "INFO:tensorflow:Enqueue next (1) batch(es) of data to infeed.\n",
            "INFO:tensorflow:Dequeue next (1) batch(es) of data from outfeed.\n",
            "INFO:tensorflow:Enqueue next (1) batch(es) of data to infeed.\n",
            "INFO:tensorflow:Dequeue next (1) batch(es) of data from outfeed.\n",
            "INFO:tensorflow:Enqueue next (1) batch(es) of data to infeed.\n",
            "INFO:tensorflow:Dequeue next (1) batch(es) of data from outfeed.\n",
            "INFO:tensorflow:Enqueue next (1) batch(es) of data to infeed.\n",
            "INFO:tensorflow:Dequeue next (1) batch(es) of data from outfeed.\n",
            "INFO:tensorflow:Enqueue next (1) batch(es) of data to infeed.\n",
            "INFO:tensorflow:Dequeue next (1) batch(es) of data from outfeed.\n",
            "INFO:tensorflow:Enqueue next (1) batch(es) of data to infeed.\n",
            "INFO:tensorflow:Dequeue next (1) batch(es) of data from outfeed.\n",
            "INFO:tensorflow:Enqueue next (1) batch(es) of data to infeed.\n",
            "INFO:tensorflow:Dequeue next (1) batch(es) of data from outfeed.\n",
            "INFO:tensorflow:Enqueue next (1) batch(es) of data to infeed.\n",
            "INFO:tensorflow:Dequeue next (1) batch(es) of data from outfeed.\n",
            "INFO:tensorflow:Enqueue next (1) batch(es) of data to infeed.\n",
            "INFO:tensorflow:Dequeue next (1) batch(es) of data from outfeed.\n",
            "INFO:tensorflow:Enqueue next (1) batch(es) of data to infeed.\n",
            "INFO:tensorflow:Dequeue next (1) batch(es) of data from outfeed.\n",
            "INFO:tensorflow:Enqueue next (1) batch(es) of data to infeed.\n",
            "INFO:tensorflow:Dequeue next (1) batch(es) of data from outfeed.\n",
            "INFO:tensorflow:Enqueue next (1) batch(es) of data to infeed.\n",
            "INFO:tensorflow:Dequeue next (1) batch(es) of data from outfeed.\n",
            "INFO:tensorflow:Enqueue next (1) batch(es) of data to infeed.\n",
            "INFO:tensorflow:Dequeue next (1) batch(es) of data from outfeed.\n",
            "INFO:tensorflow:Enqueue next (1) batch(es) of data to infeed.\n",
            "INFO:tensorflow:Dequeue next (1) batch(es) of data from outfeed.\n",
            "INFO:tensorflow:Enqueue next (1) batch(es) of data to infeed.\n",
            "INFO:tensorflow:Dequeue next (1) batch(es) of data from outfeed.\n",
            "INFO:tensorflow:Enqueue next (1) batch(es) of data to infeed.\n",
            "INFO:tensorflow:Dequeue next (1) batch(es) of data from outfeed.\n",
            "INFO:tensorflow:Enqueue next (1) batch(es) of data to infeed.\n",
            "INFO:tensorflow:Dequeue next (1) batch(es) of data from outfeed.\n",
            "INFO:tensorflow:Enqueue next (1) batch(es) of data to infeed.\n",
            "INFO:tensorflow:Dequeue next (1) batch(es) of data from outfeed.\n",
            "INFO:tensorflow:Enqueue next (1) batch(es) of data to infeed.\n",
            "INFO:tensorflow:Dequeue next (1) batch(es) of data from outfeed.\n",
            "INFO:tensorflow:Enqueue next (1) batch(es) of data to infeed.\n",
            "INFO:tensorflow:Dequeue next (1) batch(es) of data from outfeed.\n",
            "INFO:tensorflow:Enqueue next (1) batch(es) of data to infeed.\n",
            "INFO:tensorflow:Dequeue next (1) batch(es) of data from outfeed.\n",
            "INFO:tensorflow:Enqueue next (1) batch(es) of data to infeed.\n",
            "INFO:tensorflow:Dequeue next (1) batch(es) of data from outfeed.\n",
            "INFO:tensorflow:Enqueue next (1) batch(es) of data to infeed.\n",
            "INFO:tensorflow:Dequeue next (1) batch(es) of data from outfeed.\n",
            "INFO:tensorflow:Enqueue next (1) batch(es) of data to infeed.\n",
            "INFO:tensorflow:Dequeue next (1) batch(es) of data from outfeed.\n",
            "INFO:tensorflow:Enqueue next (1) batch(es) of data to infeed.\n",
            "INFO:tensorflow:Dequeue next (1) batch(es) of data from outfeed.\n",
            "INFO:tensorflow:Enqueue next (1) batch(es) of data to infeed.\n",
            "INFO:tensorflow:Dequeue next (1) batch(es) of data from outfeed.\n",
            "INFO:tensorflow:Enqueue next (1) batch(es) of data to infeed.\n",
            "INFO:tensorflow:Dequeue next (1) batch(es) of data from outfeed.\n",
            "INFO:tensorflow:Enqueue next (1) batch(es) of data to infeed.\n",
            "INFO:tensorflow:Dequeue next (1) batch(es) of data from outfeed.\n",
            "INFO:tensorflow:Enqueue next (1) batch(es) of data to infeed.\n",
            "INFO:tensorflow:Dequeue next (1) batch(es) of data from outfeed.\n",
            "INFO:tensorflow:Enqueue next (1) batch(es) of data to infeed.\n",
            "INFO:tensorflow:Dequeue next (1) batch(es) of data from outfeed.\n",
            "INFO:tensorflow:Enqueue next (1) batch(es) of data to infeed.\n",
            "INFO:tensorflow:Dequeue next (1) batch(es) of data from outfeed.\n",
            "INFO:tensorflow:Enqueue next (1) batch(es) of data to infeed.\n",
            "INFO:tensorflow:Dequeue next (1) batch(es) of data from outfeed.\n",
            "INFO:tensorflow:Enqueue next (1) batch(es) of data to infeed.\n",
            "INFO:tensorflow:Dequeue next (1) batch(es) of data from outfeed.\n",
            "INFO:tensorflow:Enqueue next (1) batch(es) of data to infeed.\n",
            "INFO:tensorflow:Dequeue next (1) batch(es) of data from outfeed.\n",
            "INFO:tensorflow:Enqueue next (1) batch(es) of data to infeed.\n",
            "INFO:tensorflow:Dequeue next (1) batch(es) of data from outfeed.\n",
            "INFO:tensorflow:Enqueue next (1) batch(es) of data to infeed.\n",
            "INFO:tensorflow:Dequeue next (1) batch(es) of data from outfeed.\n",
            "INFO:tensorflow:Enqueue next (1) batch(es) of data to infeed.\n",
            "INFO:tensorflow:Dequeue next (1) batch(es) of data from outfeed.\n",
            "INFO:tensorflow:Enqueue next (1) batch(es) of data to infeed.\n",
            "INFO:tensorflow:Dequeue next (1) batch(es) of data from outfeed.\n",
            "INFO:tensorflow:Enqueue next (1) batch(es) of data to infeed.\n",
            "INFO:tensorflow:Dequeue next (1) batch(es) of data from outfeed.\n",
            "INFO:tensorflow:Enqueue next (1) batch(es) of data to infeed.\n",
            "INFO:tensorflow:Dequeue next (1) batch(es) of data from outfeed.\n",
            "INFO:tensorflow:Enqueue next (1) batch(es) of data to infeed.\n",
            "INFO:tensorflow:Dequeue next (1) batch(es) of data from outfeed.\n",
            "INFO:tensorflow:Enqueue next (1) batch(es) of data to infeed.\n",
            "INFO:tensorflow:Dequeue next (1) batch(es) of data from outfeed.\n",
            "INFO:tensorflow:Enqueue next (1) batch(es) of data to infeed.\n",
            "INFO:tensorflow:Dequeue next (1) batch(es) of data from outfeed.\n",
            "INFO:tensorflow:Enqueue next (1) batch(es) of data to infeed.\n",
            "INFO:tensorflow:Dequeue next (1) batch(es) of data from outfeed.\n",
            "INFO:tensorflow:Enqueue next (1) batch(es) of data to infeed.\n",
            "INFO:tensorflow:Dequeue next (1) batch(es) of data from outfeed.\n",
            "INFO:tensorflow:Enqueue next (1) batch(es) of data to infeed.\n",
            "INFO:tensorflow:Dequeue next (1) batch(es) of data from outfeed.\n",
            "INFO:tensorflow:Enqueue next (1) batch(es) of data to infeed.\n",
            "INFO:tensorflow:Dequeue next (1) batch(es) of data from outfeed.\n",
            "INFO:tensorflow:Enqueue next (1) batch(es) of data to infeed.\n",
            "INFO:tensorflow:Dequeue next (1) batch(es) of data from outfeed.\n",
            "INFO:tensorflow:Enqueue next (1) batch(es) of data to infeed.\n",
            "INFO:tensorflow:Dequeue next (1) batch(es) of data from outfeed.\n",
            "INFO:tensorflow:Enqueue next (1) batch(es) of data to infeed.\n",
            "INFO:tensorflow:Dequeue next (1) batch(es) of data from outfeed.\n",
            "INFO:tensorflow:Enqueue next (1) batch(es) of data to infeed.\n",
            "INFO:tensorflow:Dequeue next (1) batch(es) of data from outfeed.\n",
            "INFO:tensorflow:Enqueue next (1) batch(es) of data to infeed.\n",
            "INFO:tensorflow:Dequeue next (1) batch(es) of data from outfeed.\n",
            "INFO:tensorflow:Enqueue next (1) batch(es) of data to infeed.\n",
            "INFO:tensorflow:Dequeue next (1) batch(es) of data from outfeed.\n",
            "INFO:tensorflow:Enqueue next (1) batch(es) of data to infeed.\n",
            "INFO:tensorflow:Dequeue next (1) batch(es) of data from outfeed.\n",
            "INFO:tensorflow:Enqueue next (1) batch(es) of data to infeed.\n",
            "INFO:tensorflow:Dequeue next (1) batch(es) of data from outfeed.\n",
            "INFO:tensorflow:Enqueue next (1) batch(es) of data to infeed.\n",
            "INFO:tensorflow:Dequeue next (1) batch(es) of data from outfeed.\n",
            "INFO:tensorflow:Enqueue next (1) batch(es) of data to infeed.\n",
            "INFO:tensorflow:Dequeue next (1) batch(es) of data from outfeed.\n",
            "INFO:tensorflow:Enqueue next (1) batch(es) of data to infeed.\n",
            "INFO:tensorflow:Dequeue next (1) batch(es) of data from outfeed.\n",
            "INFO:tensorflow:Enqueue next (1) batch(es) of data to infeed.\n",
            "INFO:tensorflow:Dequeue next (1) batch(es) of data from outfeed.\n",
            "INFO:tensorflow:Enqueue next (1) batch(es) of data to infeed.\n",
            "INFO:tensorflow:Dequeue next (1) batch(es) of data from outfeed.\n",
            "INFO:tensorflow:Enqueue next (1) batch(es) of data to infeed.\n",
            "INFO:tensorflow:Dequeue next (1) batch(es) of data from outfeed.\n",
            "INFO:tensorflow:Enqueue next (1) batch(es) of data to infeed.\n",
            "INFO:tensorflow:Dequeue next (1) batch(es) of data from outfeed.\n",
            "INFO:tensorflow:Enqueue next (1) batch(es) of data to infeed.\n",
            "INFO:tensorflow:Dequeue next (1) batch(es) of data from outfeed.\n",
            "INFO:tensorflow:Enqueue next (1) batch(es) of data to infeed.\n",
            "INFO:tensorflow:Dequeue next (1) batch(es) of data from outfeed.\n",
            "INFO:tensorflow:Enqueue next (1) batch(es) of data to infeed.\n",
            "INFO:tensorflow:Dequeue next (1) batch(es) of data from outfeed.\n",
            "INFO:tensorflow:Enqueue next (1) batch(es) of data to infeed.\n",
            "INFO:tensorflow:Dequeue next (1) batch(es) of data from outfeed.\n",
            "INFO:tensorflow:Enqueue next (1) batch(es) of data to infeed.\n",
            "INFO:tensorflow:Dequeue next (1) batch(es) of data from outfeed.\n",
            "INFO:tensorflow:Enqueue next (1) batch(es) of data to infeed.\n",
            "INFO:tensorflow:Dequeue next (1) batch(es) of data from outfeed.\n",
            "INFO:tensorflow:Enqueue next (1) batch(es) of data to infeed.\n",
            "INFO:tensorflow:Dequeue next (1) batch(es) of data from outfeed.\n",
            "INFO:tensorflow:Enqueue next (1) batch(es) of data to infeed.\n",
            "INFO:tensorflow:Dequeue next (1) batch(es) of data from outfeed.\n",
            "INFO:tensorflow:Enqueue next (1) batch(es) of data to infeed.\n",
            "INFO:tensorflow:Dequeue next (1) batch(es) of data from outfeed.\n",
            "INFO:tensorflow:Enqueue next (1) batch(es) of data to infeed.\n",
            "INFO:tensorflow:Dequeue next (1) batch(es) of data from outfeed.\n",
            "INFO:tensorflow:Enqueue next (1) batch(es) of data to infeed.\n",
            "INFO:tensorflow:Dequeue next (1) batch(es) of data from outfeed.\n",
            "INFO:tensorflow:Enqueue next (1) batch(es) of data to infeed.\n",
            "INFO:tensorflow:Dequeue next (1) batch(es) of data from outfeed.\n",
            "INFO:tensorflow:Enqueue next (1) batch(es) of data to infeed.\n",
            "INFO:tensorflow:Dequeue next (1) batch(es) of data from outfeed.\n",
            "INFO:tensorflow:Enqueue next (1) batch(es) of data to infeed.\n",
            "INFO:tensorflow:Dequeue next (1) batch(es) of data from outfeed.\n",
            "INFO:tensorflow:Enqueue next (1) batch(es) of data to infeed.\n",
            "INFO:tensorflow:Dequeue next (1) batch(es) of data from outfeed.\n",
            "INFO:tensorflow:Enqueue next (1) batch(es) of data to infeed.\n",
            "INFO:tensorflow:Dequeue next (1) batch(es) of data from outfeed.\n",
            "INFO:tensorflow:Enqueue next (1) batch(es) of data to infeed.\n",
            "INFO:tensorflow:Dequeue next (1) batch(es) of data from outfeed.\n",
            "INFO:tensorflow:Enqueue next (1) batch(es) of data to infeed.\n",
            "INFO:tensorflow:Dequeue next (1) batch(es) of data from outfeed.\n",
            "INFO:tensorflow:Enqueue next (1) batch(es) of data to infeed.\n",
            "INFO:tensorflow:Dequeue next (1) batch(es) of data from outfeed.\n",
            "INFO:tensorflow:Enqueue next (1) batch(es) of data to infeed.\n",
            "INFO:tensorflow:Dequeue next (1) batch(es) of data from outfeed.\n",
            "INFO:tensorflow:Enqueue next (1) batch(es) of data to infeed.\n",
            "INFO:tensorflow:Dequeue next (1) batch(es) of data from outfeed.\n",
            "INFO:tensorflow:Enqueue next (1) batch(es) of data to infeed.\n",
            "INFO:tensorflow:Dequeue next (1) batch(es) of data from outfeed.\n",
            "INFO:tensorflow:Enqueue next (1) batch(es) of data to infeed.\n",
            "INFO:tensorflow:Dequeue next (1) batch(es) of data from outfeed.\n",
            "INFO:tensorflow:Enqueue next (1) batch(es) of data to infeed.\n",
            "INFO:tensorflow:Dequeue next (1) batch(es) of data from outfeed.\n",
            "INFO:tensorflow:Enqueue next (1) batch(es) of data to infeed.\n",
            "INFO:tensorflow:Dequeue next (1) batch(es) of data from outfeed.\n",
            "INFO:tensorflow:Enqueue next (1) batch(es) of data to infeed.\n",
            "INFO:tensorflow:Dequeue next (1) batch(es) of data from outfeed.\n",
            "INFO:tensorflow:Enqueue next (1) batch(es) of data to infeed.\n",
            "INFO:tensorflow:Dequeue next (1) batch(es) of data from outfeed.\n",
            "INFO:tensorflow:Enqueue next (1) batch(es) of data to infeed.\n",
            "INFO:tensorflow:Dequeue next (1) batch(es) of data from outfeed.\n",
            "INFO:tensorflow:Enqueue next (1) batch(es) of data to infeed.\n",
            "INFO:tensorflow:Dequeue next (1) batch(es) of data from outfeed.\n",
            "INFO:tensorflow:Enqueue next (1) batch(es) of data to infeed.\n",
            "INFO:tensorflow:Dequeue next (1) batch(es) of data from outfeed.\n",
            "INFO:tensorflow:Enqueue next (1) batch(es) of data to infeed.\n",
            "INFO:tensorflow:Dequeue next (1) batch(es) of data from outfeed.\n",
            "INFO:tensorflow:Enqueue next (1) batch(es) of data to infeed.\n",
            "INFO:tensorflow:Dequeue next (1) batch(es) of data from outfeed.\n",
            "INFO:tensorflow:Enqueue next (1) batch(es) of data to infeed.\n",
            "INFO:tensorflow:Dequeue next (1) batch(es) of data from outfeed.\n",
            "INFO:tensorflow:Enqueue next (1) batch(es) of data to infeed.\n",
            "INFO:tensorflow:Dequeue next (1) batch(es) of data from outfeed.\n",
            "INFO:tensorflow:Enqueue next (1) batch(es) of data to infeed.\n",
            "INFO:tensorflow:Dequeue next (1) batch(es) of data from outfeed.\n",
            "INFO:tensorflow:Enqueue next (1) batch(es) of data to infeed.\n",
            "INFO:tensorflow:Dequeue next (1) batch(es) of data from outfeed.\n",
            "INFO:tensorflow:Enqueue next (1) batch(es) of data to infeed.\n",
            "INFO:tensorflow:Dequeue next (1) batch(es) of data from outfeed.\n",
            "INFO:tensorflow:Enqueue next (1) batch(es) of data to infeed.\n",
            "INFO:tensorflow:Dequeue next (1) batch(es) of data from outfeed.\n",
            "INFO:tensorflow:Enqueue next (1) batch(es) of data to infeed.\n",
            "INFO:tensorflow:Dequeue next (1) batch(es) of data from outfeed.\n",
            "INFO:tensorflow:Enqueue next (1) batch(es) of data to infeed.\n",
            "INFO:tensorflow:Dequeue next (1) batch(es) of data from outfeed.\n",
            "INFO:tensorflow:Enqueue next (1) batch(es) of data to infeed.\n",
            "INFO:tensorflow:Dequeue next (1) batch(es) of data from outfeed.\n",
            "INFO:tensorflow:Enqueue next (1) batch(es) of data to infeed.\n",
            "INFO:tensorflow:Dequeue next (1) batch(es) of data from outfeed.\n",
            "INFO:tensorflow:Enqueue next (1) batch(es) of data to infeed.\n",
            "INFO:tensorflow:Dequeue next (1) batch(es) of data from outfeed.\n",
            "INFO:tensorflow:Enqueue next (1) batch(es) of data to infeed.\n",
            "INFO:tensorflow:Dequeue next (1) batch(es) of data from outfeed.\n",
            "INFO:tensorflow:Enqueue next (1) batch(es) of data to infeed.\n",
            "INFO:tensorflow:Dequeue next (1) batch(es) of data from outfeed.\n",
            "INFO:tensorflow:Enqueue next (1) batch(es) of data to infeed.\n",
            "INFO:tensorflow:Dequeue next (1) batch(es) of data from outfeed.\n",
            "INFO:tensorflow:Enqueue next (1) batch(es) of data to infeed.\n",
            "INFO:tensorflow:Dequeue next (1) batch(es) of data from outfeed.\n",
            "INFO:tensorflow:Enqueue next (1) batch(es) of data to infeed.\n",
            "INFO:tensorflow:Dequeue next (1) batch(es) of data from outfeed.\n",
            "INFO:tensorflow:Enqueue next (1) batch(es) of data to infeed.\n",
            "INFO:tensorflow:Dequeue next (1) batch(es) of data from outfeed.\n",
            "INFO:tensorflow:Enqueue next (1) batch(es) of data to infeed.\n",
            "INFO:tensorflow:Dequeue next (1) batch(es) of data from outfeed.\n",
            "INFO:tensorflow:Enqueue next (1) batch(es) of data to infeed.\n",
            "INFO:tensorflow:Dequeue next (1) batch(es) of data from outfeed.\n",
            "INFO:tensorflow:Enqueue next (1) batch(es) of data to infeed.\n",
            "INFO:tensorflow:Dequeue next (1) batch(es) of data from outfeed.\n",
            "INFO:tensorflow:Enqueue next (1) batch(es) of data to infeed.\n",
            "INFO:tensorflow:Dequeue next (1) batch(es) of data from outfeed.\n",
            "INFO:tensorflow:Enqueue next (1) batch(es) of data to infeed.\n",
            "INFO:tensorflow:Dequeue next (1) batch(es) of data from outfeed.\n",
            "INFO:tensorflow:Enqueue next (1) batch(es) of data to infeed.\n",
            "INFO:tensorflow:Dequeue next (1) batch(es) of data from outfeed.\n",
            "INFO:tensorflow:Enqueue next (1) batch(es) of data to infeed.\n",
            "INFO:tensorflow:Dequeue next (1) batch(es) of data from outfeed.\n",
            "INFO:tensorflow:Enqueue next (1) batch(es) of data to infeed.\n",
            "INFO:tensorflow:Dequeue next (1) batch(es) of data from outfeed.\n",
            "INFO:tensorflow:Enqueue next (1) batch(es) of data to infeed.\n",
            "INFO:tensorflow:Dequeue next (1) batch(es) of data from outfeed.\n",
            "INFO:tensorflow:Enqueue next (1) batch(es) of data to infeed.\n",
            "INFO:tensorflow:Dequeue next (1) batch(es) of data from outfeed.\n",
            "INFO:tensorflow:Enqueue next (1) batch(es) of data to infeed.\n",
            "INFO:tensorflow:Dequeue next (1) batch(es) of data from outfeed.\n",
            "INFO:tensorflow:Enqueue next (1) batch(es) of data to infeed.\n",
            "INFO:tensorflow:Dequeue next (1) batch(es) of data from outfeed.\n",
            "INFO:tensorflow:Enqueue next (1) batch(es) of data to infeed.\n",
            "INFO:tensorflow:Dequeue next (1) batch(es) of data from outfeed.\n",
            "INFO:tensorflow:Enqueue next (1) batch(es) of data to infeed.\n",
            "INFO:tensorflow:Dequeue next (1) batch(es) of data from outfeed.\n",
            "INFO:tensorflow:Enqueue next (1) batch(es) of data to infeed.\n",
            "INFO:tensorflow:Dequeue next (1) batch(es) of data from outfeed.\n",
            "INFO:tensorflow:Enqueue next (1) batch(es) of data to infeed.\n",
            "INFO:tensorflow:Dequeue next (1) batch(es) of data from outfeed.\n",
            "INFO:tensorflow:Enqueue next (1) batch(es) of data to infeed.\n",
            "INFO:tensorflow:Dequeue next (1) batch(es) of data from outfeed.\n",
            "INFO:tensorflow:Enqueue next (1) batch(es) of data to infeed.\n",
            "INFO:tensorflow:Dequeue next (1) batch(es) of data from outfeed.\n",
            "INFO:tensorflow:Enqueue next (1) batch(es) of data to infeed.\n",
            "INFO:tensorflow:Dequeue next (1) batch(es) of data from outfeed.\n",
            "INFO:tensorflow:Enqueue next (1) batch(es) of data to infeed.\n",
            "INFO:tensorflow:Dequeue next (1) batch(es) of data from outfeed.\n",
            "INFO:tensorflow:Enqueue next (1) batch(es) of data to infeed.\n",
            "INFO:tensorflow:Dequeue next (1) batch(es) of data from outfeed.\n",
            "INFO:tensorflow:Enqueue next (1) batch(es) of data to infeed.\n",
            "INFO:tensorflow:Dequeue next (1) batch(es) of data from outfeed.\n",
            "INFO:tensorflow:Enqueue next (1) batch(es) of data to infeed.\n",
            "INFO:tensorflow:Dequeue next (1) batch(es) of data from outfeed.\n",
            "INFO:tensorflow:Enqueue next (1) batch(es) of data to infeed.\n",
            "INFO:tensorflow:Dequeue next (1) batch(es) of data from outfeed.\n",
            "INFO:tensorflow:Enqueue next (1) batch(es) of data to infeed.\n",
            "INFO:tensorflow:Dequeue next (1) batch(es) of data from outfeed.\n",
            "INFO:tensorflow:Enqueue next (1) batch(es) of data to infeed.\n",
            "INFO:tensorflow:Dequeue next (1) batch(es) of data from outfeed.\n",
            "INFO:tensorflow:Enqueue next (1) batch(es) of data to infeed.\n",
            "INFO:tensorflow:Dequeue next (1) batch(es) of data from outfeed.\n",
            "INFO:tensorflow:Enqueue next (1) batch(es) of data to infeed.\n",
            "INFO:tensorflow:Dequeue next (1) batch(es) of data from outfeed.\n",
            "INFO:tensorflow:Enqueue next (1) batch(es) of data to infeed.\n",
            "INFO:tensorflow:Dequeue next (1) batch(es) of data from outfeed.\n",
            "INFO:tensorflow:Enqueue next (1) batch(es) of data to infeed.\n",
            "INFO:tensorflow:Dequeue next (1) batch(es) of data from outfeed.\n",
            "INFO:tensorflow:Enqueue next (1) batch(es) of data to infeed.\n",
            "INFO:tensorflow:Dequeue next (1) batch(es) of data from outfeed.\n",
            "INFO:tensorflow:Enqueue next (1) batch(es) of data to infeed.\n",
            "INFO:tensorflow:Dequeue next (1) batch(es) of data from outfeed.\n",
            "INFO:tensorflow:Enqueue next (1) batch(es) of data to infeed.\n",
            "INFO:tensorflow:Dequeue next (1) batch(es) of data from outfeed.\n",
            "INFO:tensorflow:Enqueue next (1) batch(es) of data to infeed.\n",
            "INFO:tensorflow:Dequeue next (1) batch(es) of data from outfeed.\n",
            "INFO:tensorflow:Enqueue next (1) batch(es) of data to infeed.\n",
            "INFO:tensorflow:Dequeue next (1) batch(es) of data from outfeed.\n",
            "INFO:tensorflow:Enqueue next (1) batch(es) of data to infeed.\n",
            "INFO:tensorflow:Dequeue next (1) batch(es) of data from outfeed.\n",
            "INFO:tensorflow:Enqueue next (1) batch(es) of data to infeed.\n",
            "INFO:tensorflow:Dequeue next (1) batch(es) of data from outfeed.\n",
            "INFO:tensorflow:Enqueue next (1) batch(es) of data to infeed.\n",
            "INFO:tensorflow:Dequeue next (1) batch(es) of data from outfeed.\n",
            "INFO:tensorflow:Enqueue next (1) batch(es) of data to infeed.\n",
            "INFO:tensorflow:Dequeue next (1) batch(es) of data from outfeed.\n",
            "INFO:tensorflow:Enqueue next (1) batch(es) of data to infeed.\n",
            "INFO:tensorflow:Dequeue next (1) batch(es) of data from outfeed.\n",
            "INFO:tensorflow:Enqueue next (1) batch(es) of data to infeed.\n",
            "INFO:tensorflow:Dequeue next (1) batch(es) of data from outfeed.\n",
            "INFO:tensorflow:Enqueue next (1) batch(es) of data to infeed.\n",
            "INFO:tensorflow:Dequeue next (1) batch(es) of data from outfeed.\n",
            "INFO:tensorflow:Enqueue next (1) batch(es) of data to infeed.\n",
            "INFO:tensorflow:Dequeue next (1) batch(es) of data from outfeed.\n",
            "INFO:tensorflow:Enqueue next (1) batch(es) of data to infeed.\n",
            "INFO:tensorflow:Dequeue next (1) batch(es) of data from outfeed.\n",
            "INFO:tensorflow:Enqueue next (1) batch(es) of data to infeed.\n",
            "INFO:tensorflow:Dequeue next (1) batch(es) of data from outfeed.\n",
            "INFO:tensorflow:Enqueue next (1) batch(es) of data to infeed.\n",
            "INFO:tensorflow:Dequeue next (1) batch(es) of data from outfeed.\n",
            "INFO:tensorflow:Enqueue next (1) batch(es) of data to infeed.\n",
            "INFO:tensorflow:Dequeue next (1) batch(es) of data from outfeed.\n",
            "INFO:tensorflow:Enqueue next (1) batch(es) of data to infeed.\n",
            "INFO:tensorflow:Dequeue next (1) batch(es) of data from outfeed.\n",
            "INFO:tensorflow:Enqueue next (1) batch(es) of data to infeed.\n",
            "INFO:tensorflow:Dequeue next (1) batch(es) of data from outfeed.\n",
            "INFO:tensorflow:Enqueue next (1) batch(es) of data to infeed.\n",
            "INFO:tensorflow:Dequeue next (1) batch(es) of data from outfeed.\n",
            "INFO:tensorflow:Enqueue next (1) batch(es) of data to infeed.\n",
            "INFO:tensorflow:Dequeue next (1) batch(es) of data from outfeed.\n",
            "INFO:tensorflow:Enqueue next (1) batch(es) of data to infeed.\n",
            "INFO:tensorflow:Dequeue next (1) batch(es) of data from outfeed.\n",
            "INFO:tensorflow:Enqueue next (1) batch(es) of data to infeed.\n",
            "INFO:tensorflow:Dequeue next (1) batch(es) of data from outfeed.\n",
            "INFO:tensorflow:Enqueue next (1) batch(es) of data to infeed.\n",
            "INFO:tensorflow:Dequeue next (1) batch(es) of data from outfeed.\n",
            "INFO:tensorflow:Enqueue next (1) batch(es) of data to infeed.\n",
            "INFO:tensorflow:Dequeue next (1) batch(es) of data from outfeed.\n",
            "INFO:tensorflow:Enqueue next (1) batch(es) of data to infeed.\n",
            "INFO:tensorflow:Dequeue next (1) batch(es) of data from outfeed.\n",
            "INFO:tensorflow:Enqueue next (1) batch(es) of data to infeed.\n",
            "INFO:tensorflow:Dequeue next (1) batch(es) of data from outfeed.\n",
            "INFO:tensorflow:Enqueue next (1) batch(es) of data to infeed.\n",
            "INFO:tensorflow:Dequeue next (1) batch(es) of data from outfeed.\n",
            "INFO:tensorflow:Enqueue next (1) batch(es) of data to infeed.\n",
            "INFO:tensorflow:Dequeue next (1) batch(es) of data from outfeed.\n",
            "INFO:tensorflow:Enqueue next (1) batch(es) of data to infeed.\n",
            "INFO:tensorflow:Dequeue next (1) batch(es) of data from outfeed.\n",
            "INFO:tensorflow:Enqueue next (1) batch(es) of data to infeed.\n",
            "INFO:tensorflow:Dequeue next (1) batch(es) of data from outfeed.\n",
            "INFO:tensorflow:Enqueue next (1) batch(es) of data to infeed.\n",
            "INFO:tensorflow:Dequeue next (1) batch(es) of data from outfeed.\n",
            "INFO:tensorflow:Enqueue next (1) batch(es) of data to infeed.\n",
            "INFO:tensorflow:Dequeue next (1) batch(es) of data from outfeed.\n",
            "INFO:tensorflow:Enqueue next (1) batch(es) of data to infeed.\n",
            "INFO:tensorflow:Dequeue next (1) batch(es) of data from outfeed.\n",
            "INFO:tensorflow:Enqueue next (1) batch(es) of data to infeed.\n",
            "INFO:tensorflow:Dequeue next (1) batch(es) of data from outfeed.\n",
            "INFO:tensorflow:Enqueue next (1) batch(es) of data to infeed.\n",
            "INFO:tensorflow:Dequeue next (1) batch(es) of data from outfeed.\n",
            "INFO:tensorflow:Enqueue next (1) batch(es) of data to infeed.\n",
            "INFO:tensorflow:Dequeue next (1) batch(es) of data from outfeed.\n",
            "INFO:tensorflow:Enqueue next (1) batch(es) of data to infeed.\n",
            "INFO:tensorflow:Dequeue next (1) batch(es) of data from outfeed.\n",
            "INFO:tensorflow:Enqueue next (1) batch(es) of data to infeed.\n",
            "INFO:tensorflow:Dequeue next (1) batch(es) of data from outfeed.\n",
            "INFO:tensorflow:Enqueue next (1) batch(es) of data to infeed.\n",
            "INFO:tensorflow:Dequeue next (1) batch(es) of data from outfeed.\n",
            "INFO:tensorflow:Enqueue next (1) batch(es) of data to infeed.\n",
            "INFO:tensorflow:Dequeue next (1) batch(es) of data from outfeed.\n",
            "INFO:tensorflow:Enqueue next (1) batch(es) of data to infeed.\n",
            "INFO:tensorflow:Dequeue next (1) batch(es) of data from outfeed.\n",
            "INFO:tensorflow:Enqueue next (1) batch(es) of data to infeed.\n",
            "INFO:tensorflow:Dequeue next (1) batch(es) of data from outfeed.\n",
            "INFO:tensorflow:Enqueue next (1) batch(es) of data to infeed.\n",
            "INFO:tensorflow:Dequeue next (1) batch(es) of data from outfeed.\n",
            "INFO:tensorflow:Enqueue next (1) batch(es) of data to infeed.\n",
            "INFO:tensorflow:Dequeue next (1) batch(es) of data from outfeed.\n",
            "INFO:tensorflow:Enqueue next (1) batch(es) of data to infeed.\n",
            "INFO:tensorflow:Dequeue next (1) batch(es) of data from outfeed.\n",
            "INFO:tensorflow:Enqueue next (1) batch(es) of data to infeed.\n",
            "INFO:tensorflow:Dequeue next (1) batch(es) of data from outfeed.\n",
            "INFO:tensorflow:Enqueue next (1) batch(es) of data to infeed.\n",
            "INFO:tensorflow:Dequeue next (1) batch(es) of data from outfeed.\n",
            "INFO:tensorflow:Enqueue next (1) batch(es) of data to infeed.\n",
            "INFO:tensorflow:Dequeue next (1) batch(es) of data from outfeed.\n",
            "INFO:tensorflow:Enqueue next (1) batch(es) of data to infeed.\n",
            "INFO:tensorflow:Dequeue next (1) batch(es) of data from outfeed.\n",
            "INFO:tensorflow:Enqueue next (1) batch(es) of data to infeed.\n",
            "INFO:tensorflow:Dequeue next (1) batch(es) of data from outfeed.\n",
            "INFO:tensorflow:Enqueue next (1) batch(es) of data to infeed.\n",
            "INFO:tensorflow:Dequeue next (1) batch(es) of data from outfeed.\n",
            "INFO:tensorflow:Enqueue next (1) batch(es) of data to infeed.\n",
            "INFO:tensorflow:Dequeue next (1) batch(es) of data from outfeed.\n",
            "INFO:tensorflow:Enqueue next (1) batch(es) of data to infeed.\n",
            "INFO:tensorflow:Dequeue next (1) batch(es) of data from outfeed.\n",
            "INFO:tensorflow:Enqueue next (1) batch(es) of data to infeed.\n",
            "INFO:tensorflow:Dequeue next (1) batch(es) of data from outfeed.\n",
            "INFO:tensorflow:Enqueue next (1) batch(es) of data to infeed.\n",
            "INFO:tensorflow:Dequeue next (1) batch(es) of data from outfeed.\n",
            "INFO:tensorflow:Enqueue next (1) batch(es) of data to infeed.\n",
            "INFO:tensorflow:Dequeue next (1) batch(es) of data from outfeed.\n",
            "INFO:tensorflow:Enqueue next (1) batch(es) of data to infeed.\n",
            "INFO:tensorflow:Dequeue next (1) batch(es) of data from outfeed.\n",
            "INFO:tensorflow:Enqueue next (1) batch(es) of data to infeed.\n",
            "INFO:tensorflow:Dequeue next (1) batch(es) of data from outfeed.\n",
            "INFO:tensorflow:Enqueue next (1) batch(es) of data to infeed.\n",
            "INFO:tensorflow:Dequeue next (1) batch(es) of data from outfeed.\n",
            "INFO:tensorflow:Enqueue next (1) batch(es) of data to infeed.\n",
            "INFO:tensorflow:Dequeue next (1) batch(es) of data from outfeed.\n",
            "INFO:tensorflow:Enqueue next (1) batch(es) of data to infeed.\n",
            "INFO:tensorflow:Dequeue next (1) batch(es) of data from outfeed.\n",
            "INFO:tensorflow:Enqueue next (1) batch(es) of data to infeed.\n",
            "INFO:tensorflow:Dequeue next (1) batch(es) of data from outfeed.\n",
            "INFO:tensorflow:Enqueue next (1) batch(es) of data to infeed.\n",
            "INFO:tensorflow:Dequeue next (1) batch(es) of data from outfeed.\n",
            "INFO:tensorflow:Enqueue next (1) batch(es) of data to infeed.\n",
            "INFO:tensorflow:Dequeue next (1) batch(es) of data from outfeed.\n",
            "INFO:tensorflow:Enqueue next (1) batch(es) of data to infeed.\n",
            "INFO:tensorflow:Dequeue next (1) batch(es) of data from outfeed.\n",
            "INFO:tensorflow:Enqueue next (1) batch(es) of data to infeed.\n",
            "INFO:tensorflow:Dequeue next (1) batch(es) of data from outfeed.\n",
            "INFO:tensorflow:Enqueue next (1) batch(es) of data to infeed.\n",
            "INFO:tensorflow:Dequeue next (1) batch(es) of data from outfeed.\n",
            "INFO:tensorflow:Enqueue next (1) batch(es) of data to infeed.\n",
            "INFO:tensorflow:Dequeue next (1) batch(es) of data from outfeed.\n",
            "INFO:tensorflow:Enqueue next (1) batch(es) of data to infeed.\n",
            "INFO:tensorflow:Dequeue next (1) batch(es) of data from outfeed.\n",
            "INFO:tensorflow:Enqueue next (1) batch(es) of data to infeed.\n",
            "INFO:tensorflow:Dequeue next (1) batch(es) of data from outfeed.\n",
            "INFO:tensorflow:Enqueue next (1) batch(es) of data to infeed.\n",
            "INFO:tensorflow:Dequeue next (1) batch(es) of data from outfeed.\n",
            "INFO:tensorflow:Enqueue next (1) batch(es) of data to infeed.\n",
            "INFO:tensorflow:Dequeue next (1) batch(es) of data from outfeed.\n",
            "INFO:tensorflow:Enqueue next (1) batch(es) of data to infeed.\n",
            "INFO:tensorflow:Dequeue next (1) batch(es) of data from outfeed.\n",
            "INFO:tensorflow:Enqueue next (1) batch(es) of data to infeed.\n",
            "INFO:tensorflow:Dequeue next (1) batch(es) of data from outfeed.\n",
            "INFO:tensorflow:Enqueue next (1) batch(es) of data to infeed.\n",
            "INFO:tensorflow:Dequeue next (1) batch(es) of data from outfeed.\n",
            "INFO:tensorflow:Enqueue next (1) batch(es) of data to infeed.\n",
            "INFO:tensorflow:Dequeue next (1) batch(es) of data from outfeed.\n",
            "INFO:tensorflow:Enqueue next (1) batch(es) of data to infeed.\n",
            "INFO:tensorflow:Dequeue next (1) batch(es) of data from outfeed.\n",
            "INFO:tensorflow:Enqueue next (1) batch(es) of data to infeed.\n",
            "INFO:tensorflow:Dequeue next (1) batch(es) of data from outfeed.\n",
            "INFO:tensorflow:Enqueue next (1) batch(es) of data to infeed.\n",
            "INFO:tensorflow:Dequeue next (1) batch(es) of data from outfeed.\n",
            "INFO:tensorflow:Enqueue next (1) batch(es) of data to infeed.\n",
            "INFO:tensorflow:Dequeue next (1) batch(es) of data from outfeed.\n",
            "INFO:tensorflow:Enqueue next (1) batch(es) of data to infeed.\n",
            "INFO:tensorflow:Dequeue next (1) batch(es) of data from outfeed.\n",
            "INFO:tensorflow:Enqueue next (1) batch(es) of data to infeed.\n",
            "INFO:tensorflow:Dequeue next (1) batch(es) of data from outfeed.\n",
            "INFO:tensorflow:Enqueue next (1) batch(es) of data to infeed.\n",
            "INFO:tensorflow:Dequeue next (1) batch(es) of data from outfeed.\n",
            "INFO:tensorflow:Enqueue next (1) batch(es) of data to infeed.\n",
            "INFO:tensorflow:Dequeue next (1) batch(es) of data from outfeed.\n",
            "INFO:tensorflow:Enqueue next (1) batch(es) of data to infeed.\n",
            "INFO:tensorflow:Dequeue next (1) batch(es) of data from outfeed.\n",
            "INFO:tensorflow:Enqueue next (1) batch(es) of data to infeed.\n",
            "INFO:tensorflow:Dequeue next (1) batch(es) of data from outfeed.\n",
            "INFO:tensorflow:Enqueue next (1) batch(es) of data to infeed.\n",
            "INFO:tensorflow:Dequeue next (1) batch(es) of data from outfeed.\n",
            "INFO:tensorflow:Enqueue next (1) batch(es) of data to infeed.\n",
            "INFO:tensorflow:Dequeue next (1) batch(es) of data from outfeed.\n",
            "INFO:tensorflow:Enqueue next (1) batch(es) of data to infeed.\n",
            "INFO:tensorflow:Dequeue next (1) batch(es) of data from outfeed.\n",
            "INFO:tensorflow:Enqueue next (1) batch(es) of data to infeed.\n",
            "INFO:tensorflow:Dequeue next (1) batch(es) of data from outfeed.\n",
            "INFO:tensorflow:Enqueue next (1) batch(es) of data to infeed.\n",
            "INFO:tensorflow:Dequeue next (1) batch(es) of data from outfeed.\n",
            "INFO:tensorflow:Enqueue next (1) batch(es) of data to infeed.\n",
            "INFO:tensorflow:Dequeue next (1) batch(es) of data from outfeed.\n",
            "INFO:tensorflow:Enqueue next (1) batch(es) of data to infeed.\n",
            "INFO:tensorflow:Dequeue next (1) batch(es) of data from outfeed.\n",
            "INFO:tensorflow:Enqueue next (1) batch(es) of data to infeed.\n",
            "INFO:tensorflow:Dequeue next (1) batch(es) of data from outfeed.\n",
            "INFO:tensorflow:Enqueue next (1) batch(es) of data to infeed.\n",
            "INFO:tensorflow:Dequeue next (1) batch(es) of data from outfeed.\n",
            "INFO:tensorflow:Enqueue next (1) batch(es) of data to infeed.\n",
            "INFO:tensorflow:Dequeue next (1) batch(es) of data from outfeed.\n",
            "INFO:tensorflow:Enqueue next (1) batch(es) of data to infeed.\n",
            "INFO:tensorflow:Dequeue next (1) batch(es) of data from outfeed.\n",
            "INFO:tensorflow:Enqueue next (1) batch(es) of data to infeed.\n",
            "INFO:tensorflow:Dequeue next (1) batch(es) of data from outfeed.\n",
            "INFO:tensorflow:Enqueue next (1) batch(es) of data to infeed.\n",
            "INFO:tensorflow:Dequeue next (1) batch(es) of data from outfeed.\n",
            "INFO:tensorflow:Enqueue next (1) batch(es) of data to infeed.\n",
            "INFO:tensorflow:Dequeue next (1) batch(es) of data from outfeed.\n",
            "INFO:tensorflow:Enqueue next (1) batch(es) of data to infeed.\n",
            "INFO:tensorflow:Dequeue next (1) batch(es) of data from outfeed.\n",
            "INFO:tensorflow:Enqueue next (1) batch(es) of data to infeed.\n",
            "INFO:tensorflow:Dequeue next (1) batch(es) of data from outfeed.\n",
            "INFO:tensorflow:Enqueue next (1) batch(es) of data to infeed.\n",
            "INFO:tensorflow:Dequeue next (1) batch(es) of data from outfeed.\n",
            "INFO:tensorflow:Enqueue next (1) batch(es) of data to infeed.\n",
            "INFO:tensorflow:Dequeue next (1) batch(es) of data from outfeed.\n",
            "INFO:tensorflow:Enqueue next (1) batch(es) of data to infeed.\n",
            "INFO:tensorflow:Dequeue next (1) batch(es) of data from outfeed.\n",
            "INFO:tensorflow:Enqueue next (1) batch(es) of data to infeed.\n",
            "INFO:tensorflow:Dequeue next (1) batch(es) of data from outfeed.\n",
            "INFO:tensorflow:Enqueue next (1) batch(es) of data to infeed.\n",
            "INFO:tensorflow:Dequeue next (1) batch(es) of data from outfeed.\n",
            "INFO:tensorflow:Enqueue next (1) batch(es) of data to infeed.\n",
            "INFO:tensorflow:Dequeue next (1) batch(es) of data from outfeed.\n",
            "INFO:tensorflow:Enqueue next (1) batch(es) of data to infeed.\n",
            "INFO:tensorflow:Dequeue next (1) batch(es) of data from outfeed.\n",
            "INFO:tensorflow:Enqueue next (1) batch(es) of data to infeed.\n",
            "INFO:tensorflow:Dequeue next (1) batch(es) of data from outfeed.\n",
            "INFO:tensorflow:Enqueue next (1) batch(es) of data to infeed.\n",
            "INFO:tensorflow:Dequeue next (1) batch(es) of data from outfeed.\n",
            "INFO:tensorflow:Enqueue next (1) batch(es) of data to infeed.\n",
            "INFO:tensorflow:Dequeue next (1) batch(es) of data from outfeed.\n",
            "INFO:tensorflow:Enqueue next (1) batch(es) of data to infeed.\n",
            "INFO:tensorflow:Dequeue next (1) batch(es) of data from outfeed.\n",
            "INFO:tensorflow:Enqueue next (1) batch(es) of data to infeed.\n",
            "INFO:tensorflow:Dequeue next (1) batch(es) of data from outfeed.\n",
            "INFO:tensorflow:Enqueue next (1) batch(es) of data to infeed.\n",
            "INFO:tensorflow:Dequeue next (1) batch(es) of data from outfeed.\n",
            "INFO:tensorflow:Enqueue next (1) batch(es) of data to infeed.\n",
            "INFO:tensorflow:Dequeue next (1) batch(es) of data from outfeed.\n",
            "INFO:tensorflow:Enqueue next (1) batch(es) of data to infeed.\n",
            "INFO:tensorflow:Dequeue next (1) batch(es) of data from outfeed.\n",
            "INFO:tensorflow:Enqueue next (1) batch(es) of data to infeed.\n",
            "INFO:tensorflow:Dequeue next (1) batch(es) of data from outfeed.\n",
            "INFO:tensorflow:Enqueue next (1) batch(es) of data to infeed.\n",
            "INFO:tensorflow:Dequeue next (1) batch(es) of data from outfeed.\n",
            "INFO:tensorflow:Enqueue next (1) batch(es) of data to infeed.\n",
            "INFO:tensorflow:Dequeue next (1) batch(es) of data from outfeed.\n",
            "INFO:tensorflow:Enqueue next (1) batch(es) of data to infeed.\n",
            "INFO:tensorflow:Dequeue next (1) batch(es) of data from outfeed.\n",
            "INFO:tensorflow:Enqueue next (1) batch(es) of data to infeed.\n",
            "INFO:tensorflow:Dequeue next (1) batch(es) of data from outfeed.\n",
            "INFO:tensorflow:Enqueue next (1) batch(es) of data to infeed.\n",
            "INFO:tensorflow:Dequeue next (1) batch(es) of data from outfeed.\n",
            "INFO:tensorflow:Enqueue next (1) batch(es) of data to infeed.\n",
            "INFO:tensorflow:Dequeue next (1) batch(es) of data from outfeed.\n",
            "INFO:tensorflow:Enqueue next (1) batch(es) of data to infeed.\n",
            "INFO:tensorflow:Dequeue next (1) batch(es) of data from outfeed.\n",
            "INFO:tensorflow:Enqueue next (1) batch(es) of data to infeed.\n",
            "INFO:tensorflow:Dequeue next (1) batch(es) of data from outfeed.\n",
            "INFO:tensorflow:Enqueue next (1) batch(es) of data to infeed.\n",
            "INFO:tensorflow:Dequeue next (1) batch(es) of data from outfeed.\n",
            "INFO:tensorflow:Enqueue next (1) batch(es) of data to infeed.\n",
            "INFO:tensorflow:Dequeue next (1) batch(es) of data from outfeed.\n",
            "INFO:tensorflow:Enqueue next (1) batch(es) of data to infeed.\n",
            "INFO:tensorflow:Dequeue next (1) batch(es) of data from outfeed.\n",
            "INFO:tensorflow:Enqueue next (1) batch(es) of data to infeed.\n",
            "INFO:tensorflow:Dequeue next (1) batch(es) of data from outfeed.\n",
            "INFO:tensorflow:Enqueue next (1) batch(es) of data to infeed.\n",
            "INFO:tensorflow:Dequeue next (1) batch(es) of data from outfeed.\n",
            "INFO:tensorflow:Enqueue next (1) batch(es) of data to infeed.\n",
            "INFO:tensorflow:Dequeue next (1) batch(es) of data from outfeed.\n",
            "INFO:tensorflow:Enqueue next (1) batch(es) of data to infeed.\n",
            "INFO:tensorflow:Dequeue next (1) batch(es) of data from outfeed.\n",
            "INFO:tensorflow:Enqueue next (1) batch(es) of data to infeed.\n",
            "INFO:tensorflow:Dequeue next (1) batch(es) of data from outfeed.\n",
            "INFO:tensorflow:Enqueue next (1) batch(es) of data to infeed.\n",
            "INFO:tensorflow:Dequeue next (1) batch(es) of data from outfeed.\n",
            "INFO:tensorflow:Enqueue next (1) batch(es) of data to infeed.\n",
            "INFO:tensorflow:Dequeue next (1) batch(es) of data from outfeed.\n",
            "INFO:tensorflow:Enqueue next (1) batch(es) of data to infeed.\n",
            "INFO:tensorflow:Dequeue next (1) batch(es) of data from outfeed.\n",
            "INFO:tensorflow:Enqueue next (1) batch(es) of data to infeed.\n",
            "INFO:tensorflow:Dequeue next (1) batch(es) of data from outfeed.\n",
            "INFO:tensorflow:Enqueue next (1) batch(es) of data to infeed.\n",
            "INFO:tensorflow:Dequeue next (1) batch(es) of data from outfeed.\n",
            "INFO:tensorflow:Enqueue next (1) batch(es) of data to infeed.\n",
            "INFO:tensorflow:Dequeue next (1) batch(es) of data from outfeed.\n",
            "INFO:tensorflow:Enqueue next (1) batch(es) of data to infeed.\n",
            "INFO:tensorflow:Dequeue next (1) batch(es) of data from outfeed.\n",
            "INFO:tensorflow:Enqueue next (1) batch(es) of data to infeed.\n",
            "INFO:tensorflow:Dequeue next (1) batch(es) of data from outfeed.\n",
            "INFO:tensorflow:Enqueue next (1) batch(es) of data to infeed.\n",
            "INFO:tensorflow:Dequeue next (1) batch(es) of data from outfeed.\n",
            "INFO:tensorflow:Enqueue next (1) batch(es) of data to infeed.\n",
            "INFO:tensorflow:Dequeue next (1) batch(es) of data from outfeed.\n",
            "INFO:tensorflow:Enqueue next (1) batch(es) of data to infeed.\n",
            "INFO:tensorflow:Dequeue next (1) batch(es) of data from outfeed.\n",
            "INFO:tensorflow:Enqueue next (1) batch(es) of data to infeed.\n",
            "INFO:tensorflow:Dequeue next (1) batch(es) of data from outfeed.\n",
            "INFO:tensorflow:Enqueue next (1) batch(es) of data to infeed.\n",
            "INFO:tensorflow:Dequeue next (1) batch(es) of data from outfeed.\n",
            "INFO:tensorflow:Enqueue next (1) batch(es) of data to infeed.\n",
            "INFO:tensorflow:Dequeue next (1) batch(es) of data from outfeed.\n",
            "INFO:tensorflow:Enqueue next (1) batch(es) of data to infeed.\n",
            "INFO:tensorflow:Dequeue next (1) batch(es) of data from outfeed.\n",
            "INFO:tensorflow:Enqueue next (1) batch(es) of data to infeed.\n",
            "INFO:tensorflow:Dequeue next (1) batch(es) of data from outfeed.\n",
            "INFO:tensorflow:Enqueue next (1) batch(es) of data to infeed.\n",
            "INFO:tensorflow:Dequeue next (1) batch(es) of data from outfeed.\n",
            "INFO:tensorflow:Enqueue next (1) batch(es) of data to infeed.\n",
            "INFO:tensorflow:Dequeue next (1) batch(es) of data from outfeed.\n",
            "INFO:tensorflow:Enqueue next (1) batch(es) of data to infeed.\n",
            "INFO:tensorflow:Dequeue next (1) batch(es) of data from outfeed.\n",
            "INFO:tensorflow:Enqueue next (1) batch(es) of data to infeed.\n",
            "INFO:tensorflow:Dequeue next (1) batch(es) of data from outfeed.\n",
            "INFO:tensorflow:Enqueue next (1) batch(es) of data to infeed.\n",
            "INFO:tensorflow:Dequeue next (1) batch(es) of data from outfeed.\n",
            "INFO:tensorflow:Enqueue next (1) batch(es) of data to infeed.\n",
            "INFO:tensorflow:Dequeue next (1) batch(es) of data from outfeed.\n",
            "INFO:tensorflow:Enqueue next (1) batch(es) of data to infeed.\n",
            "INFO:tensorflow:Dequeue next (1) batch(es) of data from outfeed.\n",
            "INFO:tensorflow:Enqueue next (1) batch(es) of data to infeed.\n",
            "INFO:tensorflow:Dequeue next (1) batch(es) of data from outfeed.\n",
            "INFO:tensorflow:Enqueue next (1) batch(es) of data to infeed.\n",
            "INFO:tensorflow:Dequeue next (1) batch(es) of data from outfeed.\n",
            "INFO:tensorflow:Enqueue next (1) batch(es) of data to infeed.\n",
            "INFO:tensorflow:Dequeue next (1) batch(es) of data from outfeed.\n",
            "INFO:tensorflow:Enqueue next (1) batch(es) of data to infeed.\n",
            "INFO:tensorflow:Dequeue next (1) batch(es) of data from outfeed.\n",
            "INFO:tensorflow:Enqueue next (1) batch(es) of data to infeed.\n",
            "INFO:tensorflow:Dequeue next (1) batch(es) of data from outfeed.\n",
            "INFO:tensorflow:Enqueue next (1) batch(es) of data to infeed.\n",
            "INFO:tensorflow:Dequeue next (1) batch(es) of data from outfeed.\n",
            "INFO:tensorflow:Enqueue next (1) batch(es) of data to infeed.\n",
            "INFO:tensorflow:Dequeue next (1) batch(es) of data from outfeed.\n",
            "INFO:tensorflow:Enqueue next (1) batch(es) of data to infeed.\n",
            "INFO:tensorflow:Dequeue next (1) batch(es) of data from outfeed.\n",
            "INFO:tensorflow:Enqueue next (1) batch(es) of data to infeed.\n",
            "INFO:tensorflow:Dequeue next (1) batch(es) of data from outfeed.\n",
            "INFO:tensorflow:Enqueue next (1) batch(es) of data to infeed.\n",
            "INFO:tensorflow:Dequeue next (1) batch(es) of data from outfeed.\n",
            "INFO:tensorflow:Enqueue next (1) batch(es) of data to infeed.\n",
            "INFO:tensorflow:Dequeue next (1) batch(es) of data from outfeed.\n",
            "INFO:tensorflow:Enqueue next (1) batch(es) of data to infeed.\n",
            "INFO:tensorflow:Dequeue next (1) batch(es) of data from outfeed.\n",
            "INFO:tensorflow:Enqueue next (1) batch(es) of data to infeed.\n",
            "INFO:tensorflow:Dequeue next (1) batch(es) of data from outfeed.\n",
            "INFO:tensorflow:Enqueue next (1) batch(es) of data to infeed.\n",
            "INFO:tensorflow:Dequeue next (1) batch(es) of data from outfeed.\n",
            "INFO:tensorflow:Enqueue next (1) batch(es) of data to infeed.\n",
            "INFO:tensorflow:Dequeue next (1) batch(es) of data from outfeed.\n",
            "INFO:tensorflow:Enqueue next (1) batch(es) of data to infeed.\n",
            "INFO:tensorflow:Dequeue next (1) batch(es) of data from outfeed.\n",
            "INFO:tensorflow:Enqueue next (1) batch(es) of data to infeed.\n",
            "INFO:tensorflow:Dequeue next (1) batch(es) of data from outfeed.\n",
            "INFO:tensorflow:Enqueue next (1) batch(es) of data to infeed.\n",
            "INFO:tensorflow:Dequeue next (1) batch(es) of data from outfeed.\n",
            "INFO:tensorflow:Enqueue next (1) batch(es) of data to infeed.\n",
            "INFO:tensorflow:Dequeue next (1) batch(es) of data from outfeed.\n",
            "INFO:tensorflow:Enqueue next (1) batch(es) of data to infeed.\n",
            "INFO:tensorflow:Dequeue next (1) batch(es) of data from outfeed.\n",
            "INFO:tensorflow:Enqueue next (1) batch(es) of data to infeed.\n",
            "INFO:tensorflow:Dequeue next (1) batch(es) of data from outfeed.\n",
            "INFO:tensorflow:Enqueue next (1) batch(es) of data to infeed.\n",
            "INFO:tensorflow:Dequeue next (1) batch(es) of data from outfeed.\n",
            "INFO:tensorflow:Enqueue next (1) batch(es) of data to infeed.\n",
            "INFO:tensorflow:Dequeue next (1) batch(es) of data from outfeed.\n",
            "INFO:tensorflow:Enqueue next (1) batch(es) of data to infeed.\n",
            "INFO:tensorflow:Dequeue next (1) batch(es) of data from outfeed.\n",
            "INFO:tensorflow:Enqueue next (1) batch(es) of data to infeed.\n",
            "INFO:tensorflow:Dequeue next (1) batch(es) of data from outfeed.\n",
            "INFO:tensorflow:Enqueue next (1) batch(es) of data to infeed.\n",
            "INFO:tensorflow:Dequeue next (1) batch(es) of data from outfeed.\n",
            "INFO:tensorflow:Enqueue next (1) batch(es) of data to infeed.\n",
            "INFO:tensorflow:Dequeue next (1) batch(es) of data from outfeed.\n",
            "INFO:tensorflow:Enqueue next (1) batch(es) of data to infeed.\n",
            "INFO:tensorflow:Dequeue next (1) batch(es) of data from outfeed.\n",
            "INFO:tensorflow:Enqueue next (1) batch(es) of data to infeed.\n",
            "INFO:tensorflow:Dequeue next (1) batch(es) of data from outfeed.\n",
            "INFO:tensorflow:Enqueue next (1) batch(es) of data to infeed.\n",
            "INFO:tensorflow:Dequeue next (1) batch(es) of data from outfeed.\n",
            "INFO:tensorflow:Enqueue next (1) batch(es) of data to infeed.\n",
            "INFO:tensorflow:Dequeue next (1) batch(es) of data from outfeed.\n",
            "INFO:tensorflow:Enqueue next (1) batch(es) of data to infeed.\n",
            "INFO:tensorflow:Dequeue next (1) batch(es) of data from outfeed.\n",
            "INFO:tensorflow:Enqueue next (1) batch(es) of data to infeed.\n",
            "INFO:tensorflow:Dequeue next (1) batch(es) of data from outfeed.\n",
            "INFO:tensorflow:Enqueue next (1) batch(es) of data to infeed.\n",
            "INFO:tensorflow:Dequeue next (1) batch(es) of data from outfeed.\n",
            "INFO:tensorflow:Enqueue next (1) batch(es) of data to infeed.\n",
            "INFO:tensorflow:Dequeue next (1) batch(es) of data from outfeed.\n",
            "INFO:tensorflow:Enqueue next (1) batch(es) of data to infeed.\n",
            "INFO:tensorflow:Dequeue next (1) batch(es) of data from outfeed.\n",
            "INFO:tensorflow:Enqueue next (1) batch(es) of data to infeed.\n",
            "INFO:tensorflow:Dequeue next (1) batch(es) of data from outfeed.\n",
            "INFO:tensorflow:Enqueue next (1) batch(es) of data to infeed.\n",
            "INFO:tensorflow:Dequeue next (1) batch(es) of data from outfeed.\n",
            "INFO:tensorflow:Enqueue next (1) batch(es) of data to infeed.\n",
            "INFO:tensorflow:Dequeue next (1) batch(es) of data from outfeed.\n",
            "INFO:tensorflow:Enqueue next (1) batch(es) of data to infeed.\n",
            "INFO:tensorflow:Dequeue next (1) batch(es) of data from outfeed.\n",
            "INFO:tensorflow:Enqueue next (1) batch(es) of data to infeed.\n",
            "INFO:tensorflow:Dequeue next (1) batch(es) of data from outfeed.\n",
            "INFO:tensorflow:Enqueue next (1) batch(es) of data to infeed.\n",
            "INFO:tensorflow:Dequeue next (1) batch(es) of data from outfeed.\n",
            "INFO:tensorflow:Enqueue next (1) batch(es) of data to infeed.\n",
            "INFO:tensorflow:Dequeue next (1) batch(es) of data from outfeed.\n",
            "INFO:tensorflow:Enqueue next (1) batch(es) of data to infeed.\n",
            "INFO:tensorflow:Dequeue next (1) batch(es) of data from outfeed.\n",
            "INFO:tensorflow:Enqueue next (1) batch(es) of data to infeed.\n",
            "INFO:tensorflow:Dequeue next (1) batch(es) of data from outfeed.\n",
            "INFO:tensorflow:Enqueue next (1) batch(es) of data to infeed.\n",
            "INFO:tensorflow:Dequeue next (1) batch(es) of data from outfeed.\n",
            "INFO:tensorflow:Enqueue next (1) batch(es) of data to infeed.\n",
            "INFO:tensorflow:Dequeue next (1) batch(es) of data from outfeed.\n",
            "INFO:tensorflow:Enqueue next (1) batch(es) of data to infeed.\n",
            "INFO:tensorflow:Dequeue next (1) batch(es) of data from outfeed.\n",
            "INFO:tensorflow:Enqueue next (1) batch(es) of data to infeed.\n",
            "INFO:tensorflow:Dequeue next (1) batch(es) of data from outfeed.\n",
            "INFO:tensorflow:Enqueue next (1) batch(es) of data to infeed.\n",
            "INFO:tensorflow:Dequeue next (1) batch(es) of data from outfeed.\n",
            "INFO:tensorflow:Enqueue next (1) batch(es) of data to infeed.\n",
            "INFO:tensorflow:Dequeue next (1) batch(es) of data from outfeed.\n",
            "INFO:tensorflow:Enqueue next (1) batch(es) of data to infeed.\n",
            "INFO:tensorflow:Dequeue next (1) batch(es) of data from outfeed.\n",
            "INFO:tensorflow:Enqueue next (1) batch(es) of data to infeed.\n",
            "INFO:tensorflow:Dequeue next (1) batch(es) of data from outfeed.\n",
            "INFO:tensorflow:Enqueue next (1) batch(es) of data to infeed.\n",
            "INFO:tensorflow:Dequeue next (1) batch(es) of data from outfeed.\n",
            "INFO:tensorflow:Enqueue next (1) batch(es) of data to infeed.\n",
            "INFO:tensorflow:Dequeue next (1) batch(es) of data from outfeed.\n",
            "INFO:tensorflow:Enqueue next (1) batch(es) of data to infeed.\n",
            "INFO:tensorflow:Dequeue next (1) batch(es) of data from outfeed.\n",
            "INFO:tensorflow:Enqueue next (1) batch(es) of data to infeed.\n",
            "INFO:tensorflow:Dequeue next (1) batch(es) of data from outfeed.\n",
            "INFO:tensorflow:Enqueue next (1) batch(es) of data to infeed.\n",
            "INFO:tensorflow:Dequeue next (1) batch(es) of data from outfeed.\n",
            "INFO:tensorflow:Enqueue next (1) batch(es) of data to infeed.\n",
            "INFO:tensorflow:Dequeue next (1) batch(es) of data from outfeed.\n",
            "INFO:tensorflow:Enqueue next (1) batch(es) of data to infeed.\n",
            "INFO:tensorflow:Dequeue next (1) batch(es) of data from outfeed.\n",
            "INFO:tensorflow:Enqueue next (1) batch(es) of data to infeed.\n",
            "INFO:tensorflow:Dequeue next (1) batch(es) of data from outfeed.\n",
            "INFO:tensorflow:Enqueue next (1) batch(es) of data to infeed.\n",
            "INFO:tensorflow:Dequeue next (1) batch(es) of data from outfeed.\n",
            "INFO:tensorflow:Enqueue next (1) batch(es) of data to infeed.\n",
            "INFO:tensorflow:Dequeue next (1) batch(es) of data from outfeed.\n",
            "INFO:tensorflow:Enqueue next (1) batch(es) of data to infeed.\n",
            "INFO:tensorflow:Dequeue next (1) batch(es) of data from outfeed.\n",
            "INFO:tensorflow:Enqueue next (1) batch(es) of data to infeed.\n",
            "INFO:tensorflow:Dequeue next (1) batch(es) of data from outfeed.\n",
            "INFO:tensorflow:Enqueue next (1) batch(es) of data to infeed.\n",
            "INFO:tensorflow:Dequeue next (1) batch(es) of data from outfeed.\n",
            "INFO:tensorflow:Enqueue next (1) batch(es) of data to infeed.\n",
            "INFO:tensorflow:Dequeue next (1) batch(es) of data from outfeed.\n",
            "INFO:tensorflow:Enqueue next (1) batch(es) of data to infeed.\n",
            "INFO:tensorflow:Dequeue next (1) batch(es) of data from outfeed.\n",
            "INFO:tensorflow:Enqueue next (1) batch(es) of data to infeed.\n",
            "INFO:tensorflow:Dequeue next (1) batch(es) of data from outfeed.\n",
            "INFO:tensorflow:Enqueue next (1) batch(es) of data to infeed.\n",
            "INFO:tensorflow:Dequeue next (1) batch(es) of data from outfeed.\n",
            "INFO:tensorflow:Enqueue next (1) batch(es) of data to infeed.\n",
            "INFO:tensorflow:Dequeue next (1) batch(es) of data from outfeed.\n",
            "INFO:tensorflow:Enqueue next (1) batch(es) of data to infeed.\n",
            "INFO:tensorflow:Dequeue next (1) batch(es) of data from outfeed.\n",
            "INFO:tensorflow:Enqueue next (1) batch(es) of data to infeed.\n",
            "INFO:tensorflow:Dequeue next (1) batch(es) of data from outfeed.\n",
            "INFO:tensorflow:Enqueue next (1) batch(es) of data to infeed.\n",
            "INFO:tensorflow:Dequeue next (1) batch(es) of data from outfeed.\n",
            "INFO:tensorflow:Enqueue next (1) batch(es) of data to infeed.\n",
            "INFO:tensorflow:Dequeue next (1) batch(es) of data from outfeed.\n",
            "INFO:tensorflow:Enqueue next (1) batch(es) of data to infeed.\n",
            "INFO:tensorflow:Dequeue next (1) batch(es) of data from outfeed.\n",
            "INFO:tensorflow:Enqueue next (1) batch(es) of data to infeed.\n",
            "INFO:tensorflow:Dequeue next (1) batch(es) of data from outfeed.\n",
            "INFO:tensorflow:Enqueue next (1) batch(es) of data to infeed.\n",
            "INFO:tensorflow:Dequeue next (1) batch(es) of data from outfeed.\n",
            "INFO:tensorflow:Enqueue next (1) batch(es) of data to infeed.\n",
            "INFO:tensorflow:Dequeue next (1) batch(es) of data from outfeed.\n",
            "INFO:tensorflow:Enqueue next (1) batch(es) of data to infeed.\n",
            "INFO:tensorflow:Dequeue next (1) batch(es) of data from outfeed.\n",
            "INFO:tensorflow:Enqueue next (1) batch(es) of data to infeed.\n",
            "INFO:tensorflow:Dequeue next (1) batch(es) of data from outfeed.\n",
            "INFO:tensorflow:Enqueue next (1) batch(es) of data to infeed.\n",
            "INFO:tensorflow:Dequeue next (1) batch(es) of data from outfeed.\n",
            "INFO:tensorflow:Enqueue next (1) batch(es) of data to infeed.\n",
            "INFO:tensorflow:Dequeue next (1) batch(es) of data from outfeed.\n",
            "INFO:tensorflow:Enqueue next (1) batch(es) of data to infeed.\n",
            "INFO:tensorflow:Dequeue next (1) batch(es) of data from outfeed.\n",
            "INFO:tensorflow:Enqueue next (1) batch(es) of data to infeed.\n",
            "INFO:tensorflow:Dequeue next (1) batch(es) of data from outfeed.\n",
            "INFO:tensorflow:Enqueue next (1) batch(es) of data to infeed.\n",
            "INFO:tensorflow:Dequeue next (1) batch(es) of data from outfeed.\n",
            "INFO:tensorflow:Enqueue next (1) batch(es) of data to infeed.\n",
            "INFO:tensorflow:Dequeue next (1) batch(es) of data from outfeed.\n",
            "INFO:tensorflow:Enqueue next (1) batch(es) of data to infeed.\n",
            "INFO:tensorflow:Dequeue next (1) batch(es) of data from outfeed.\n",
            "INFO:tensorflow:Enqueue next (1) batch(es) of data to infeed.\n",
            "INFO:tensorflow:Dequeue next (1) batch(es) of data from outfeed.\n",
            "INFO:tensorflow:Enqueue next (1) batch(es) of data to infeed.\n",
            "INFO:tensorflow:Dequeue next (1) batch(es) of data from outfeed.\n",
            "INFO:tensorflow:Enqueue next (1) batch(es) of data to infeed.\n",
            "INFO:tensorflow:Dequeue next (1) batch(es) of data from outfeed.\n",
            "INFO:tensorflow:Enqueue next (1) batch(es) of data to infeed.\n",
            "INFO:tensorflow:Dequeue next (1) batch(es) of data from outfeed.\n",
            "INFO:tensorflow:Enqueue next (1) batch(es) of data to infeed.\n",
            "INFO:tensorflow:Dequeue next (1) batch(es) of data from outfeed.\n",
            "INFO:tensorflow:Enqueue next (1) batch(es) of data to infeed.\n",
            "INFO:tensorflow:Dequeue next (1) batch(es) of data from outfeed.\n",
            "INFO:tensorflow:Enqueue next (1) batch(es) of data to infeed.\n",
            "INFO:tensorflow:Dequeue next (1) batch(es) of data from outfeed.\n",
            "INFO:tensorflow:Enqueue next (1) batch(es) of data to infeed.\n",
            "INFO:tensorflow:Dequeue next (1) batch(es) of data from outfeed.\n",
            "INFO:tensorflow:Enqueue next (1) batch(es) of data to infeed.\n",
            "INFO:tensorflow:Dequeue next (1) batch(es) of data from outfeed.\n",
            "INFO:tensorflow:Enqueue next (1) batch(es) of data to infeed.\n",
            "INFO:tensorflow:Dequeue next (1) batch(es) of data from outfeed.\n",
            "INFO:tensorflow:Enqueue next (1) batch(es) of data to infeed.\n",
            "INFO:tensorflow:Dequeue next (1) batch(es) of data from outfeed.\n",
            "INFO:tensorflow:Enqueue next (1) batch(es) of data to infeed.\n",
            "INFO:tensorflow:Dequeue next (1) batch(es) of data from outfeed.\n",
            "INFO:tensorflow:Enqueue next (1) batch(es) of data to infeed.\n",
            "INFO:tensorflow:Dequeue next (1) batch(es) of data from outfeed.\n",
            "INFO:tensorflow:Enqueue next (1) batch(es) of data to infeed.\n",
            "INFO:tensorflow:Dequeue next (1) batch(es) of data from outfeed.\n",
            "INFO:tensorflow:Enqueue next (1) batch(es) of data to infeed.\n",
            "INFO:tensorflow:Dequeue next (1) batch(es) of data from outfeed.\n",
            "INFO:tensorflow:Enqueue next (1) batch(es) of data to infeed.\n",
            "INFO:tensorflow:Dequeue next (1) batch(es) of data from outfeed.\n",
            "INFO:tensorflow:Enqueue next (1) batch(es) of data to infeed.\n",
            "INFO:tensorflow:Dequeue next (1) batch(es) of data from outfeed.\n",
            "INFO:tensorflow:Enqueue next (1) batch(es) of data to infeed.\n",
            "INFO:tensorflow:Dequeue next (1) batch(es) of data from outfeed.\n",
            "INFO:tensorflow:Enqueue next (1) batch(es) of data to infeed.\n",
            "INFO:tensorflow:Dequeue next (1) batch(es) of data from outfeed.\n",
            "INFO:tensorflow:Enqueue next (1) batch(es) of data to infeed.\n",
            "INFO:tensorflow:Dequeue next (1) batch(es) of data from outfeed.\n",
            "INFO:tensorflow:Enqueue next (1) batch(es) of data to infeed.\n",
            "INFO:tensorflow:Dequeue next (1) batch(es) of data from outfeed.\n",
            "INFO:tensorflow:Enqueue next (1) batch(es) of data to infeed.\n",
            "INFO:tensorflow:Dequeue next (1) batch(es) of data from outfeed.\n",
            "INFO:tensorflow:Enqueue next (1) batch(es) of data to infeed.\n",
            "INFO:tensorflow:Dequeue next (1) batch(es) of data from outfeed.\n",
            "INFO:tensorflow:Enqueue next (1) batch(es) of data to infeed.\n",
            "INFO:tensorflow:Dequeue next (1) batch(es) of data from outfeed.\n",
            "INFO:tensorflow:Enqueue next (1) batch(es) of data to infeed.\n",
            "INFO:tensorflow:Dequeue next (1) batch(es) of data from outfeed.\n",
            "INFO:tensorflow:Enqueue next (1) batch(es) of data to infeed.\n",
            "INFO:tensorflow:Dequeue next (1) batch(es) of data from outfeed.\n",
            "INFO:tensorflow:Enqueue next (1) batch(es) of data to infeed.\n",
            "INFO:tensorflow:Dequeue next (1) batch(es) of data from outfeed.\n",
            "INFO:tensorflow:Enqueue next (1) batch(es) of data to infeed.\n",
            "INFO:tensorflow:Dequeue next (1) batch(es) of data from outfeed.\n",
            "INFO:tensorflow:Enqueue next (1) batch(es) of data to infeed.\n",
            "INFO:tensorflow:Dequeue next (1) batch(es) of data from outfeed.\n",
            "INFO:tensorflow:Enqueue next (1) batch(es) of data to infeed.\n",
            "INFO:tensorflow:Dequeue next (1) batch(es) of data from outfeed.\n",
            "INFO:tensorflow:Enqueue next (1) batch(es) of data to infeed.\n",
            "INFO:tensorflow:Dequeue next (1) batch(es) of data from outfeed.\n",
            "INFO:tensorflow:Enqueue next (1) batch(es) of data to infeed.\n",
            "INFO:tensorflow:Dequeue next (1) batch(es) of data from outfeed.\n",
            "INFO:tensorflow:Enqueue next (1) batch(es) of data to infeed.\n",
            "INFO:tensorflow:Dequeue next (1) batch(es) of data from outfeed.\n",
            "INFO:tensorflow:Enqueue next (1) batch(es) of data to infeed.\n",
            "INFO:tensorflow:Dequeue next (1) batch(es) of data from outfeed.\n",
            "INFO:tensorflow:Enqueue next (1) batch(es) of data to infeed.\n",
            "INFO:tensorflow:Dequeue next (1) batch(es) of data from outfeed.\n",
            "INFO:tensorflow:Enqueue next (1) batch(es) of data to infeed.\n",
            "INFO:tensorflow:Dequeue next (1) batch(es) of data from outfeed.\n",
            "INFO:tensorflow:Enqueue next (1) batch(es) of data to infeed.\n",
            "INFO:tensorflow:Dequeue next (1) batch(es) of data from outfeed.\n",
            "INFO:tensorflow:Enqueue next (1) batch(es) of data to infeed.\n",
            "INFO:tensorflow:Dequeue next (1) batch(es) of data from outfeed.\n",
            "INFO:tensorflow:Enqueue next (1) batch(es) of data to infeed.\n",
            "INFO:tensorflow:Dequeue next (1) batch(es) of data from outfeed.\n",
            "INFO:tensorflow:Enqueue next (1) batch(es) of data to infeed.\n",
            "INFO:tensorflow:Dequeue next (1) batch(es) of data from outfeed.\n",
            "INFO:tensorflow:Enqueue next (1) batch(es) of data to infeed.\n",
            "INFO:tensorflow:Dequeue next (1) batch(es) of data from outfeed.\n",
            "INFO:tensorflow:Enqueue next (1) batch(es) of data to infeed.\n",
            "INFO:tensorflow:Dequeue next (1) batch(es) of data from outfeed.\n",
            "INFO:tensorflow:Enqueue next (1) batch(es) of data to infeed.\n",
            "INFO:tensorflow:Dequeue next (1) batch(es) of data from outfeed.\n",
            "INFO:tensorflow:Enqueue next (1) batch(es) of data to infeed.\n",
            "INFO:tensorflow:Dequeue next (1) batch(es) of data from outfeed.\n",
            "INFO:tensorflow:Enqueue next (1) batch(es) of data to infeed.\n",
            "INFO:tensorflow:Dequeue next (1) batch(es) of data from outfeed.\n",
            "INFO:tensorflow:Enqueue next (1) batch(es) of data to infeed.\n",
            "INFO:tensorflow:Dequeue next (1) batch(es) of data from outfeed.\n",
            "INFO:tensorflow:Enqueue next (1) batch(es) of data to infeed.\n",
            "INFO:tensorflow:Dequeue next (1) batch(es) of data from outfeed.\n",
            "INFO:tensorflow:Enqueue next (1) batch(es) of data to infeed.\n",
            "INFO:tensorflow:Dequeue next (1) batch(es) of data from outfeed.\n",
            "INFO:tensorflow:Enqueue next (1) batch(es) of data to infeed.\n",
            "INFO:tensorflow:Dequeue next (1) batch(es) of data from outfeed.\n",
            "INFO:tensorflow:Enqueue next (1) batch(es) of data to infeed.\n",
            "INFO:tensorflow:Dequeue next (1) batch(es) of data from outfeed.\n",
            "INFO:tensorflow:Enqueue next (1) batch(es) of data to infeed.\n",
            "INFO:tensorflow:Dequeue next (1) batch(es) of data from outfeed.\n",
            "INFO:tensorflow:Enqueue next (1) batch(es) of data to infeed.\n",
            "INFO:tensorflow:Dequeue next (1) batch(es) of data from outfeed.\n",
            "INFO:tensorflow:Enqueue next (1) batch(es) of data to infeed.\n",
            "INFO:tensorflow:Dequeue next (1) batch(es) of data from outfeed.\n",
            "INFO:tensorflow:Enqueue next (1) batch(es) of data to infeed.\n",
            "INFO:tensorflow:Dequeue next (1) batch(es) of data from outfeed.\n",
            "INFO:tensorflow:Enqueue next (1) batch(es) of data to infeed.\n",
            "INFO:tensorflow:Dequeue next (1) batch(es) of data from outfeed.\n",
            "INFO:tensorflow:Enqueue next (1) batch(es) of data to infeed.\n",
            "INFO:tensorflow:Dequeue next (1) batch(es) of data from outfeed.\n",
            "INFO:tensorflow:Enqueue next (1) batch(es) of data to infeed.\n",
            "INFO:tensorflow:Dequeue next (1) batch(es) of data from outfeed.\n",
            "INFO:tensorflow:Enqueue next (1) batch(es) of data to infeed.\n",
            "INFO:tensorflow:Dequeue next (1) batch(es) of data from outfeed.\n",
            "INFO:tensorflow:Enqueue next (1) batch(es) of data to infeed.\n",
            "INFO:tensorflow:Dequeue next (1) batch(es) of data from outfeed.\n",
            "INFO:tensorflow:Enqueue next (1) batch(es) of data to infeed.\n",
            "INFO:tensorflow:Dequeue next (1) batch(es) of data from outfeed.\n",
            "INFO:tensorflow:Enqueue next (1) batch(es) of data to infeed.\n",
            "INFO:tensorflow:Dequeue next (1) batch(es) of data from outfeed.\n",
            "INFO:tensorflow:Enqueue next (1) batch(es) of data to infeed.\n",
            "INFO:tensorflow:Dequeue next (1) batch(es) of data from outfeed.\n",
            "INFO:tensorflow:Enqueue next (1) batch(es) of data to infeed.\n",
            "INFO:tensorflow:Dequeue next (1) batch(es) of data from outfeed.\n",
            "INFO:tensorflow:Enqueue next (1) batch(es) of data to infeed.\n",
            "INFO:tensorflow:Dequeue next (1) batch(es) of data from outfeed.\n",
            "INFO:tensorflow:Enqueue next (1) batch(es) of data to infeed.\n",
            "INFO:tensorflow:Dequeue next (1) batch(es) of data from outfeed.\n",
            "INFO:tensorflow:Enqueue next (1) batch(es) of data to infeed.\n",
            "INFO:tensorflow:Dequeue next (1) batch(es) of data from outfeed.\n",
            "INFO:tensorflow:Enqueue next (1) batch(es) of data to infeed.\n",
            "INFO:tensorflow:Dequeue next (1) batch(es) of data from outfeed.\n",
            "INFO:tensorflow:Enqueue next (1) batch(es) of data to infeed.\n",
            "INFO:tensorflow:Dequeue next (1) batch(es) of data from outfeed.\n",
            "INFO:tensorflow:Enqueue next (1) batch(es) of data to infeed.\n",
            "INFO:tensorflow:Dequeue next (1) batch(es) of data from outfeed.\n",
            "INFO:tensorflow:Enqueue next (1) batch(es) of data to infeed.\n",
            "INFO:tensorflow:Dequeue next (1) batch(es) of data from outfeed.\n",
            "INFO:tensorflow:Enqueue next (1) batch(es) of data to infeed.\n",
            "INFO:tensorflow:Dequeue next (1) batch(es) of data from outfeed.\n",
            "INFO:tensorflow:Enqueue next (1) batch(es) of data to infeed.\n",
            "INFO:tensorflow:Dequeue next (1) batch(es) of data from outfeed.\n",
            "INFO:tensorflow:Enqueue next (1) batch(es) of data to infeed.\n",
            "INFO:tensorflow:Dequeue next (1) batch(es) of data from outfeed.\n",
            "INFO:tensorflow:Enqueue next (1) batch(es) of data to infeed.\n",
            "INFO:tensorflow:Dequeue next (1) batch(es) of data from outfeed.\n",
            "INFO:tensorflow:Enqueue next (1) batch(es) of data to infeed.\n",
            "INFO:tensorflow:Dequeue next (1) batch(es) of data from outfeed.\n",
            "INFO:tensorflow:Enqueue next (1) batch(es) of data to infeed.\n",
            "INFO:tensorflow:Dequeue next (1) batch(es) of data from outfeed.\n",
            "INFO:tensorflow:Enqueue next (1) batch(es) of data to infeed.\n",
            "INFO:tensorflow:Dequeue next (1) batch(es) of data from outfeed.\n",
            "INFO:tensorflow:Enqueue next (1) batch(es) of data to infeed.\n",
            "INFO:tensorflow:Dequeue next (1) batch(es) of data from outfeed.\n",
            "INFO:tensorflow:Enqueue next (1) batch(es) of data to infeed.\n",
            "INFO:tensorflow:Dequeue next (1) batch(es) of data from outfeed.\n",
            "INFO:tensorflow:Enqueue next (1) batch(es) of data to infeed.\n",
            "INFO:tensorflow:Dequeue next (1) batch(es) of data from outfeed.\n",
            "INFO:tensorflow:Enqueue next (1) batch(es) of data to infeed.\n",
            "INFO:tensorflow:Dequeue next (1) batch(es) of data from outfeed.\n",
            "INFO:tensorflow:Enqueue next (1) batch(es) of data to infeed.\n",
            "INFO:tensorflow:Dequeue next (1) batch(es) of data from outfeed.\n",
            "INFO:tensorflow:Enqueue next (1) batch(es) of data to infeed.\n",
            "INFO:tensorflow:Dequeue next (1) batch(es) of data from outfeed.\n",
            "INFO:tensorflow:Enqueue next (1) batch(es) of data to infeed.\n",
            "INFO:tensorflow:Dequeue next (1) batch(es) of data from outfeed.\n",
            "INFO:tensorflow:Enqueue next (1) batch(es) of data to infeed.\n",
            "INFO:tensorflow:Dequeue next (1) batch(es) of data from outfeed.\n",
            "INFO:tensorflow:Enqueue next (1) batch(es) of data to infeed.\n",
            "INFO:tensorflow:Dequeue next (1) batch(es) of data from outfeed.\n",
            "INFO:tensorflow:Enqueue next (1) batch(es) of data to infeed.\n",
            "INFO:tensorflow:Dequeue next (1) batch(es) of data from outfeed.\n",
            "INFO:tensorflow:Enqueue next (1) batch(es) of data to infeed.\n",
            "INFO:tensorflow:Dequeue next (1) batch(es) of data from outfeed.\n",
            "INFO:tensorflow:Enqueue next (1) batch(es) of data to infeed.\n",
            "INFO:tensorflow:Dequeue next (1) batch(es) of data from outfeed.\n",
            "INFO:tensorflow:Enqueue next (1) batch(es) of data to infeed.\n",
            "INFO:tensorflow:Dequeue next (1) batch(es) of data from outfeed.\n",
            "INFO:tensorflow:Enqueue next (1) batch(es) of data to infeed.\n",
            "INFO:tensorflow:Dequeue next (1) batch(es) of data from outfeed.\n",
            "INFO:tensorflow:Enqueue next (1) batch(es) of data to infeed.\n",
            "INFO:tensorflow:Dequeue next (1) batch(es) of data from outfeed.\n",
            "INFO:tensorflow:Enqueue next (1) batch(es) of data to infeed.\n",
            "INFO:tensorflow:Dequeue next (1) batch(es) of data from outfeed.\n",
            "INFO:tensorflow:Enqueue next (1) batch(es) of data to infeed.\n",
            "INFO:tensorflow:Dequeue next (1) batch(es) of data from outfeed.\n",
            "INFO:tensorflow:Enqueue next (1) batch(es) of data to infeed.\n",
            "INFO:tensorflow:Dequeue next (1) batch(es) of data from outfeed.\n",
            "INFO:tensorflow:Enqueue next (1) batch(es) of data to infeed.\n",
            "INFO:tensorflow:Dequeue next (1) batch(es) of data from outfeed.\n",
            "INFO:tensorflow:Enqueue next (1) batch(es) of data to infeed.\n",
            "INFO:tensorflow:Dequeue next (1) batch(es) of data from outfeed.\n",
            "INFO:tensorflow:Enqueue next (1) batch(es) of data to infeed.\n",
            "INFO:tensorflow:Dequeue next (1) batch(es) of data from outfeed.\n",
            "INFO:tensorflow:Enqueue next (1) batch(es) of data to infeed.\n",
            "INFO:tensorflow:Dequeue next (1) batch(es) of data from outfeed.\n",
            "INFO:tensorflow:Enqueue next (1) batch(es) of data to infeed.\n",
            "INFO:tensorflow:Dequeue next (1) batch(es) of data from outfeed.\n",
            "INFO:tensorflow:Enqueue next (1) batch(es) of data to infeed.\n",
            "INFO:tensorflow:Dequeue next (1) batch(es) of data from outfeed.\n",
            "INFO:tensorflow:Enqueue next (1) batch(es) of data to infeed.\n",
            "INFO:tensorflow:Dequeue next (1) batch(es) of data from outfeed.\n",
            "INFO:tensorflow:Enqueue next (1) batch(es) of data to infeed.\n",
            "INFO:tensorflow:Dequeue next (1) batch(es) of data from outfeed.\n",
            "INFO:tensorflow:Enqueue next (1) batch(es) of data to infeed.\n",
            "INFO:tensorflow:Dequeue next (1) batch(es) of data from outfeed.\n",
            "INFO:tensorflow:Enqueue next (1) batch(es) of data to infeed.\n",
            "INFO:tensorflow:Dequeue next (1) batch(es) of data from outfeed.\n",
            "INFO:tensorflow:Enqueue next (1) batch(es) of data to infeed.\n",
            "INFO:tensorflow:Dequeue next (1) batch(es) of data from outfeed.\n",
            "INFO:tensorflow:Enqueue next (1) batch(es) of data to infeed.\n",
            "INFO:tensorflow:Dequeue next (1) batch(es) of data from outfeed.\n",
            "INFO:tensorflow:Enqueue next (1) batch(es) of data to infeed.\n",
            "INFO:tensorflow:Dequeue next (1) batch(es) of data from outfeed.\n",
            "INFO:tensorflow:Enqueue next (1) batch(es) of data to infeed.\n",
            "INFO:tensorflow:Dequeue next (1) batch(es) of data from outfeed.\n",
            "INFO:tensorflow:Enqueue next (1) batch(es) of data to infeed.\n",
            "INFO:tensorflow:Dequeue next (1) batch(es) of data from outfeed.\n",
            "INFO:tensorflow:Enqueue next (1) batch(es) of data to infeed.\n",
            "INFO:tensorflow:Dequeue next (1) batch(es) of data from outfeed.\n",
            "INFO:tensorflow:Enqueue next (1) batch(es) of data to infeed.\n",
            "INFO:tensorflow:Dequeue next (1) batch(es) of data from outfeed.\n",
            "INFO:tensorflow:Enqueue next (1) batch(es) of data to infeed.\n",
            "INFO:tensorflow:Dequeue next (1) batch(es) of data from outfeed.\n",
            "INFO:tensorflow:Enqueue next (1) batch(es) of data to infeed.\n",
            "INFO:tensorflow:Dequeue next (1) batch(es) of data from outfeed.\n",
            "INFO:tensorflow:Enqueue next (1) batch(es) of data to infeed.\n",
            "INFO:tensorflow:Dequeue next (1) batch(es) of data from outfeed.\n",
            "INFO:tensorflow:Enqueue next (1) batch(es) of data to infeed.\n",
            "INFO:tensorflow:Dequeue next (1) batch(es) of data from outfeed.\n",
            "INFO:tensorflow:Enqueue next (1) batch(es) of data to infeed.\n",
            "INFO:tensorflow:Dequeue next (1) batch(es) of data from outfeed.\n",
            "INFO:tensorflow:Enqueue next (1) batch(es) of data to infeed.\n",
            "INFO:tensorflow:Dequeue next (1) batch(es) of data from outfeed.\n",
            "INFO:tensorflow:Enqueue next (1) batch(es) of data to infeed.\n",
            "INFO:tensorflow:Dequeue next (1) batch(es) of data from outfeed.\n",
            "INFO:tensorflow:Enqueue next (1) batch(es) of data to infeed.\n",
            "INFO:tensorflow:Dequeue next (1) batch(es) of data from outfeed.\n",
            "INFO:tensorflow:Enqueue next (1) batch(es) of data to infeed.\n",
            "INFO:tensorflow:Dequeue next (1) batch(es) of data from outfeed.\n",
            "INFO:tensorflow:Enqueue next (1) batch(es) of data to infeed.\n",
            "INFO:tensorflow:Dequeue next (1) batch(es) of data from outfeed.\n",
            "INFO:tensorflow:Enqueue next (1) batch(es) of data to infeed.\n",
            "INFO:tensorflow:Dequeue next (1) batch(es) of data from outfeed.\n",
            "INFO:tensorflow:Enqueue next (1) batch(es) of data to infeed.\n",
            "INFO:tensorflow:Dequeue next (1) batch(es) of data from outfeed.\n",
            "INFO:tensorflow:Enqueue next (1) batch(es) of data to infeed.\n",
            "INFO:tensorflow:Dequeue next (1) batch(es) of data from outfeed.\n",
            "INFO:tensorflow:Enqueue next (1) batch(es) of data to infeed.\n",
            "INFO:tensorflow:Dequeue next (1) batch(es) of data from outfeed.\n",
            "INFO:tensorflow:Enqueue next (1) batch(es) of data to infeed.\n",
            "INFO:tensorflow:Dequeue next (1) batch(es) of data from outfeed.\n",
            "INFO:tensorflow:Enqueue next (1) batch(es) of data to infeed.\n",
            "INFO:tensorflow:Dequeue next (1) batch(es) of data from outfeed.\n",
            "INFO:tensorflow:Enqueue next (1) batch(es) of data to infeed.\n",
            "INFO:tensorflow:Dequeue next (1) batch(es) of data from outfeed.\n",
            "INFO:tensorflow:Enqueue next (1) batch(es) of data to infeed.\n",
            "INFO:tensorflow:Dequeue next (1) batch(es) of data from outfeed.\n",
            "INFO:tensorflow:Enqueue next (1) batch(es) of data to infeed.\n",
            "INFO:tensorflow:Dequeue next (1) batch(es) of data from outfeed.\n",
            "INFO:tensorflow:Enqueue next (1) batch(es) of data to infeed.\n",
            "INFO:tensorflow:Dequeue next (1) batch(es) of data from outfeed.\n",
            "INFO:tensorflow:Enqueue next (1) batch(es) of data to infeed.\n",
            "INFO:tensorflow:Dequeue next (1) batch(es) of data from outfeed.\n",
            "INFO:tensorflow:Enqueue next (1) batch(es) of data to infeed.\n",
            "INFO:tensorflow:Dequeue next (1) batch(es) of data from outfeed.\n",
            "INFO:tensorflow:Enqueue next (1) batch(es) of data to infeed.\n",
            "INFO:tensorflow:Dequeue next (1) batch(es) of data from outfeed.\n",
            "INFO:tensorflow:Enqueue next (1) batch(es) of data to infeed.\n",
            "INFO:tensorflow:Dequeue next (1) batch(es) of data from outfeed.\n",
            "INFO:tensorflow:Enqueue next (1) batch(es) of data to infeed.\n",
            "INFO:tensorflow:Dequeue next (1) batch(es) of data from outfeed.\n",
            "INFO:tensorflow:Enqueue next (1) batch(es) of data to infeed.\n",
            "INFO:tensorflow:Dequeue next (1) batch(es) of data from outfeed.\n",
            "INFO:tensorflow:Enqueue next (1) batch(es) of data to infeed.\n",
            "INFO:tensorflow:Dequeue next (1) batch(es) of data from outfeed.\n",
            "INFO:tensorflow:Enqueue next (1) batch(es) of data to infeed.\n",
            "INFO:tensorflow:Dequeue next (1) batch(es) of data from outfeed.\n",
            "INFO:tensorflow:Enqueue next (1) batch(es) of data to infeed.\n",
            "INFO:tensorflow:Dequeue next (1) batch(es) of data from outfeed.\n",
            "INFO:tensorflow:Enqueue next (1) batch(es) of data to infeed.\n",
            "INFO:tensorflow:Dequeue next (1) batch(es) of data from outfeed.\n",
            "INFO:tensorflow:Enqueue next (1) batch(es) of data to infeed.\n",
            "INFO:tensorflow:Dequeue next (1) batch(es) of data from outfeed.\n",
            "INFO:tensorflow:Enqueue next (1) batch(es) of data to infeed.\n",
            "INFO:tensorflow:Dequeue next (1) batch(es) of data from outfeed.\n",
            "INFO:tensorflow:Enqueue next (1) batch(es) of data to infeed.\n",
            "INFO:tensorflow:Dequeue next (1) batch(es) of data from outfeed.\n",
            "INFO:tensorflow:Enqueue next (1) batch(es) of data to infeed.\n",
            "INFO:tensorflow:Dequeue next (1) batch(es) of data from outfeed.\n",
            "INFO:tensorflow:Enqueue next (1) batch(es) of data to infeed.\n",
            "INFO:tensorflow:Dequeue next (1) batch(es) of data from outfeed.\n",
            "INFO:tensorflow:Enqueue next (1) batch(es) of data to infeed.\n",
            "INFO:tensorflow:Dequeue next (1) batch(es) of data from outfeed.\n",
            "INFO:tensorflow:Enqueue next (1) batch(es) of data to infeed.\n",
            "INFO:tensorflow:Dequeue next (1) batch(es) of data from outfeed.\n",
            "INFO:tensorflow:Enqueue next (1) batch(es) of data to infeed.\n",
            "INFO:tensorflow:Dequeue next (1) batch(es) of data from outfeed.\n",
            "INFO:tensorflow:Enqueue next (1) batch(es) of data to infeed.\n",
            "INFO:tensorflow:Dequeue next (1) batch(es) of data from outfeed.\n",
            "INFO:tensorflow:Enqueue next (1) batch(es) of data to infeed.\n",
            "INFO:tensorflow:Dequeue next (1) batch(es) of data from outfeed.\n",
            "INFO:tensorflow:Enqueue next (1) batch(es) of data to infeed.\n",
            "INFO:tensorflow:Dequeue next (1) batch(es) of data from outfeed.\n",
            "INFO:tensorflow:Enqueue next (1) batch(es) of data to infeed.\n",
            "INFO:tensorflow:Dequeue next (1) batch(es) of data from outfeed.\n",
            "INFO:tensorflow:Enqueue next (1) batch(es) of data to infeed.\n",
            "INFO:tensorflow:Dequeue next (1) batch(es) of data from outfeed.\n",
            "INFO:tensorflow:Enqueue next (1) batch(es) of data to infeed.\n",
            "INFO:tensorflow:Dequeue next (1) batch(es) of data from outfeed.\n",
            "INFO:tensorflow:Enqueue next (1) batch(es) of data to infeed.\n",
            "INFO:tensorflow:Dequeue next (1) batch(es) of data from outfeed.\n",
            "INFO:tensorflow:Enqueue next (1) batch(es) of data to infeed.\n",
            "INFO:tensorflow:Dequeue next (1) batch(es) of data from outfeed.\n",
            "INFO:tensorflow:Enqueue next (1) batch(es) of data to infeed.\n",
            "INFO:tensorflow:Dequeue next (1) batch(es) of data from outfeed.\n",
            "INFO:tensorflow:Enqueue next (1) batch(es) of data to infeed.\n",
            "INFO:tensorflow:Dequeue next (1) batch(es) of data from outfeed.\n",
            "INFO:tensorflow:Enqueue next (1) batch(es) of data to infeed.\n",
            "INFO:tensorflow:Dequeue next (1) batch(es) of data from outfeed.\n",
            "INFO:tensorflow:Enqueue next (1) batch(es) of data to infeed.\n",
            "INFO:tensorflow:Dequeue next (1) batch(es) of data from outfeed.\n",
            "INFO:tensorflow:Enqueue next (1) batch(es) of data to infeed.\n",
            "INFO:tensorflow:Dequeue next (1) batch(es) of data from outfeed.\n",
            "INFO:tensorflow:Enqueue next (1) batch(es) of data to infeed.\n",
            "INFO:tensorflow:Dequeue next (1) batch(es) of data from outfeed.\n",
            "INFO:tensorflow:Enqueue next (1) batch(es) of data to infeed.\n",
            "INFO:tensorflow:Dequeue next (1) batch(es) of data from outfeed.\n",
            "INFO:tensorflow:Enqueue next (1) batch(es) of data to infeed.\n",
            "INFO:tensorflow:Dequeue next (1) batch(es) of data from outfeed.\n",
            "INFO:tensorflow:Enqueue next (1) batch(es) of data to infeed.\n",
            "INFO:tensorflow:Dequeue next (1) batch(es) of data from outfeed.\n",
            "INFO:tensorflow:Enqueue next (1) batch(es) of data to infeed.\n",
            "INFO:tensorflow:Dequeue next (1) batch(es) of data from outfeed.\n",
            "INFO:tensorflow:Enqueue next (1) batch(es) of data to infeed.\n",
            "INFO:tensorflow:Dequeue next (1) batch(es) of data from outfeed.\n",
            "INFO:tensorflow:Enqueue next (1) batch(es) of data to infeed.\n",
            "INFO:tensorflow:Dequeue next (1) batch(es) of data from outfeed.\n",
            "INFO:tensorflow:Enqueue next (1) batch(es) of data to infeed.\n",
            "INFO:tensorflow:Dequeue next (1) batch(es) of data from outfeed.\n",
            "INFO:tensorflow:Enqueue next (1) batch(es) of data to infeed.\n",
            "INFO:tensorflow:Dequeue next (1) batch(es) of data from outfeed.\n",
            "INFO:tensorflow:Enqueue next (1) batch(es) of data to infeed.\n",
            "INFO:tensorflow:Dequeue next (1) batch(es) of data from outfeed.\n",
            "INFO:tensorflow:Enqueue next (1) batch(es) of data to infeed.\n",
            "INFO:tensorflow:Dequeue next (1) batch(es) of data from outfeed.\n",
            "INFO:tensorflow:Enqueue next (1) batch(es) of data to infeed.\n",
            "INFO:tensorflow:Dequeue next (1) batch(es) of data from outfeed.\n",
            "INFO:tensorflow:Enqueue next (1) batch(es) of data to infeed.\n",
            "INFO:tensorflow:Dequeue next (1) batch(es) of data from outfeed.\n",
            "INFO:tensorflow:Enqueue next (1) batch(es) of data to infeed.\n",
            "INFO:tensorflow:Dequeue next (1) batch(es) of data from outfeed.\n",
            "INFO:tensorflow:Enqueue next (1) batch(es) of data to infeed.\n",
            "INFO:tensorflow:Dequeue next (1) batch(es) of data from outfeed.\n",
            "INFO:tensorflow:Enqueue next (1) batch(es) of data to infeed.\n",
            "INFO:tensorflow:Dequeue next (1) batch(es) of data from outfeed.\n",
            "INFO:tensorflow:Enqueue next (1) batch(es) of data to infeed.\n",
            "INFO:tensorflow:Dequeue next (1) batch(es) of data from outfeed.\n",
            "INFO:tensorflow:Enqueue next (1) batch(es) of data to infeed.\n",
            "INFO:tensorflow:Dequeue next (1) batch(es) of data from outfeed.\n",
            "INFO:tensorflow:Enqueue next (1) batch(es) of data to infeed.\n",
            "INFO:tensorflow:Dequeue next (1) batch(es) of data from outfeed.\n",
            "INFO:tensorflow:Enqueue next (1) batch(es) of data to infeed.\n",
            "INFO:tensorflow:Dequeue next (1) batch(es) of data from outfeed.\n",
            "INFO:tensorflow:Enqueue next (1) batch(es) of data to infeed.\n",
            "INFO:tensorflow:Dequeue next (1) batch(es) of data from outfeed.\n",
            "INFO:tensorflow:Enqueue next (1) batch(es) of data to infeed.\n",
            "INFO:tensorflow:Dequeue next (1) batch(es) of data from outfeed.\n",
            "INFO:tensorflow:Enqueue next (1) batch(es) of data to infeed.\n",
            "INFO:tensorflow:Dequeue next (1) batch(es) of data from outfeed.\n",
            "INFO:tensorflow:Enqueue next (1) batch(es) of data to infeed.\n",
            "INFO:tensorflow:Dequeue next (1) batch(es) of data from outfeed.\n",
            "INFO:tensorflow:Enqueue next (1) batch(es) of data to infeed.\n",
            "INFO:tensorflow:Dequeue next (1) batch(es) of data from outfeed.\n",
            "INFO:tensorflow:Enqueue next (1) batch(es) of data to infeed.\n",
            "INFO:tensorflow:Dequeue next (1) batch(es) of data from outfeed.\n",
            "INFO:tensorflow:Enqueue next (1) batch(es) of data to infeed.\n",
            "INFO:tensorflow:Dequeue next (1) batch(es) of data from outfeed.\n",
            "INFO:tensorflow:Enqueue next (1) batch(es) of data to infeed.\n",
            "INFO:tensorflow:Dequeue next (1) batch(es) of data from outfeed.\n",
            "INFO:tensorflow:Enqueue next (1) batch(es) of data to infeed.\n",
            "INFO:tensorflow:Dequeue next (1) batch(es) of data from outfeed.\n",
            "INFO:tensorflow:Enqueue next (1) batch(es) of data to infeed.\n",
            "INFO:tensorflow:Dequeue next (1) batch(es) of data from outfeed.\n",
            "INFO:tensorflow:Enqueue next (1) batch(es) of data to infeed.\n",
            "INFO:tensorflow:Dequeue next (1) batch(es) of data from outfeed.\n",
            "INFO:tensorflow:Enqueue next (1) batch(es) of data to infeed.\n",
            "INFO:tensorflow:Dequeue next (1) batch(es) of data from outfeed.\n",
            "INFO:tensorflow:Enqueue next (1) batch(es) of data to infeed.\n",
            "INFO:tensorflow:Dequeue next (1) batch(es) of data from outfeed.\n",
            "INFO:tensorflow:Enqueue next (1) batch(es) of data to infeed.\n",
            "INFO:tensorflow:Dequeue next (1) batch(es) of data from outfeed.\n",
            "INFO:tensorflow:Enqueue next (1) batch(es) of data to infeed.\n",
            "INFO:tensorflow:Dequeue next (1) batch(es) of data from outfeed.\n",
            "INFO:tensorflow:Enqueue next (1) batch(es) of data to infeed.\n",
            "INFO:tensorflow:Dequeue next (1) batch(es) of data from outfeed.\n",
            "INFO:tensorflow:Enqueue next (1) batch(es) of data to infeed.\n",
            "INFO:tensorflow:Dequeue next (1) batch(es) of data from outfeed.\n",
            "INFO:tensorflow:Enqueue next (1) batch(es) of data to infeed.\n",
            "INFO:tensorflow:Dequeue next (1) batch(es) of data from outfeed.\n",
            "INFO:tensorflow:Enqueue next (1) batch(es) of data to infeed.\n",
            "INFO:tensorflow:Dequeue next (1) batch(es) of data from outfeed.\n",
            "INFO:tensorflow:Enqueue next (1) batch(es) of data to infeed.\n",
            "INFO:tensorflow:Dequeue next (1) batch(es) of data from outfeed.\n",
            "INFO:tensorflow:Enqueue next (1) batch(es) of data to infeed.\n",
            "INFO:tensorflow:Dequeue next (1) batch(es) of data from outfeed.\n",
            "INFO:tensorflow:Enqueue next (1) batch(es) of data to infeed.\n",
            "INFO:tensorflow:Dequeue next (1) batch(es) of data from outfeed.\n",
            "INFO:tensorflow:Enqueue next (1) batch(es) of data to infeed.\n",
            "INFO:tensorflow:Dequeue next (1) batch(es) of data from outfeed.\n",
            "INFO:tensorflow:Enqueue next (1) batch(es) of data to infeed.\n",
            "INFO:tensorflow:Dequeue next (1) batch(es) of data from outfeed.\n",
            "INFO:tensorflow:Enqueue next (1) batch(es) of data to infeed.\n",
            "INFO:tensorflow:Dequeue next (1) batch(es) of data from outfeed.\n",
            "INFO:tensorflow:Enqueue next (1) batch(es) of data to infeed.\n",
            "INFO:tensorflow:Dequeue next (1) batch(es) of data from outfeed.\n",
            "INFO:tensorflow:Enqueue next (1) batch(es) of data to infeed.\n",
            "INFO:tensorflow:Dequeue next (1) batch(es) of data from outfeed.\n",
            "INFO:tensorflow:Enqueue next (1) batch(es) of data to infeed.\n",
            "INFO:tensorflow:Dequeue next (1) batch(es) of data from outfeed.\n",
            "INFO:tensorflow:Enqueue next (1) batch(es) of data to infeed.\n",
            "INFO:tensorflow:Dequeue next (1) batch(es) of data from outfeed.\n",
            "INFO:tensorflow:Enqueue next (1) batch(es) of data to infeed.\n",
            "INFO:tensorflow:Dequeue next (1) batch(es) of data from outfeed.\n",
            "INFO:tensorflow:Enqueue next (1) batch(es) of data to infeed.\n",
            "INFO:tensorflow:Dequeue next (1) batch(es) of data from outfeed.\n",
            "INFO:tensorflow:Enqueue next (1) batch(es) of data to infeed.\n",
            "INFO:tensorflow:Dequeue next (1) batch(es) of data from outfeed.\n",
            "INFO:tensorflow:Enqueue next (1) batch(es) of data to infeed.\n",
            "INFO:tensorflow:Dequeue next (1) batch(es) of data from outfeed.\n",
            "INFO:tensorflow:Enqueue next (1) batch(es) of data to infeed.\n",
            "INFO:tensorflow:Dequeue next (1) batch(es) of data from outfeed.\n",
            "INFO:tensorflow:Enqueue next (1) batch(es) of data to infeed.\n",
            "INFO:tensorflow:Dequeue next (1) batch(es) of data from outfeed.\n",
            "INFO:tensorflow:Enqueue next (1) batch(es) of data to infeed.\n",
            "INFO:tensorflow:Dequeue next (1) batch(es) of data from outfeed.\n",
            "INFO:tensorflow:Enqueue next (1) batch(es) of data to infeed.\n",
            "INFO:tensorflow:Dequeue next (1) batch(es) of data from outfeed.\n",
            "INFO:tensorflow:Enqueue next (1) batch(es) of data to infeed.\n",
            "INFO:tensorflow:Dequeue next (1) batch(es) of data from outfeed.\n",
            "INFO:tensorflow:Enqueue next (1) batch(es) of data to infeed.\n",
            "INFO:tensorflow:Dequeue next (1) batch(es) of data from outfeed.\n",
            "INFO:tensorflow:Enqueue next (1) batch(es) of data to infeed.\n",
            "INFO:tensorflow:Dequeue next (1) batch(es) of data from outfeed.\n",
            "INFO:tensorflow:Enqueue next (1) batch(es) of data to infeed.\n",
            "INFO:tensorflow:Dequeue next (1) batch(es) of data from outfeed.\n",
            "INFO:tensorflow:Enqueue next (1) batch(es) of data to infeed.\n",
            "INFO:tensorflow:Dequeue next (1) batch(es) of data from outfeed.\n",
            "INFO:tensorflow:Enqueue next (1) batch(es) of data to infeed.\n",
            "INFO:tensorflow:Dequeue next (1) batch(es) of data from outfeed.\n",
            "INFO:tensorflow:Enqueue next (1) batch(es) of data to infeed.\n",
            "INFO:tensorflow:Dequeue next (1) batch(es) of data from outfeed.\n",
            "INFO:tensorflow:Enqueue next (1) batch(es) of data to infeed.\n",
            "INFO:tensorflow:Dequeue next (1) batch(es) of data from outfeed.\n",
            "INFO:tensorflow:Enqueue next (1) batch(es) of data to infeed.\n",
            "INFO:tensorflow:Dequeue next (1) batch(es) of data from outfeed.\n",
            "INFO:tensorflow:Enqueue next (1) batch(es) of data to infeed.\n",
            "INFO:tensorflow:Dequeue next (1) batch(es) of data from outfeed.\n",
            "INFO:tensorflow:Enqueue next (1) batch(es) of data to infeed.\n",
            "INFO:tensorflow:Dequeue next (1) batch(es) of data from outfeed.\n",
            "INFO:tensorflow:Enqueue next (1) batch(es) of data to infeed.\n",
            "INFO:tensorflow:Dequeue next (1) batch(es) of data from outfeed.\n",
            "INFO:tensorflow:Enqueue next (1) batch(es) of data to infeed.\n",
            "INFO:tensorflow:Dequeue next (1) batch(es) of data from outfeed.\n",
            "INFO:tensorflow:Enqueue next (1) batch(es) of data to infeed.\n",
            "INFO:tensorflow:Dequeue next (1) batch(es) of data from outfeed.\n",
            "INFO:tensorflow:Enqueue next (1) batch(es) of data to infeed.\n",
            "INFO:tensorflow:Dequeue next (1) batch(es) of data from outfeed.\n",
            "INFO:tensorflow:Enqueue next (1) batch(es) of data to infeed.\n",
            "INFO:tensorflow:Dequeue next (1) batch(es) of data from outfeed.\n",
            "INFO:tensorflow:Enqueue next (1) batch(es) of data to infeed.\n",
            "INFO:tensorflow:Dequeue next (1) batch(es) of data from outfeed.\n",
            "INFO:tensorflow:Enqueue next (1) batch(es) of data to infeed.\n",
            "INFO:tensorflow:Dequeue next (1) batch(es) of data from outfeed.\n",
            "INFO:tensorflow:Enqueue next (1) batch(es) of data to infeed.\n",
            "INFO:tensorflow:Dequeue next (1) batch(es) of data from outfeed.\n",
            "INFO:tensorflow:Enqueue next (1) batch(es) of data to infeed.\n",
            "INFO:tensorflow:Dequeue next (1) batch(es) of data from outfeed.\n",
            "INFO:tensorflow:Enqueue next (1) batch(es) of data to infeed.\n",
            "INFO:tensorflow:Dequeue next (1) batch(es) of data from outfeed.\n",
            "INFO:tensorflow:Enqueue next (1) batch(es) of data to infeed.\n",
            "INFO:tensorflow:Dequeue next (1) batch(es) of data from outfeed.\n",
            "INFO:tensorflow:Enqueue next (1) batch(es) of data to infeed.\n",
            "INFO:tensorflow:Dequeue next (1) batch(es) of data from outfeed.\n",
            "INFO:tensorflow:Enqueue next (1) batch(es) of data to infeed.\n",
            "INFO:tensorflow:Dequeue next (1) batch(es) of data from outfeed.\n",
            "INFO:tensorflow:Enqueue next (1) batch(es) of data to infeed.\n",
            "INFO:tensorflow:Dequeue next (1) batch(es) of data from outfeed.\n",
            "INFO:tensorflow:Enqueue next (1) batch(es) of data to infeed.\n",
            "INFO:tensorflow:Dequeue next (1) batch(es) of data from outfeed.\n",
            "INFO:tensorflow:Enqueue next (1) batch(es) of data to infeed.\n",
            "INFO:tensorflow:Dequeue next (1) batch(es) of data from outfeed.\n",
            "INFO:tensorflow:Enqueue next (1) batch(es) of data to infeed.\n",
            "INFO:tensorflow:Dequeue next (1) batch(es) of data from outfeed.\n",
            "INFO:tensorflow:Enqueue next (1) batch(es) of data to infeed.\n",
            "INFO:tensorflow:Dequeue next (1) batch(es) of data from outfeed.\n",
            "INFO:tensorflow:Enqueue next (1) batch(es) of data to infeed.\n",
            "INFO:tensorflow:Dequeue next (1) batch(es) of data from outfeed.\n",
            "INFO:tensorflow:Enqueue next (1) batch(es) of data to infeed.\n",
            "INFO:tensorflow:Dequeue next (1) batch(es) of data from outfeed.\n",
            "INFO:tensorflow:Enqueue next (1) batch(es) of data to infeed.\n",
            "INFO:tensorflow:Dequeue next (1) batch(es) of data from outfeed.\n",
            "INFO:tensorflow:Enqueue next (1) batch(es) of data to infeed.\n",
            "INFO:tensorflow:Dequeue next (1) batch(es) of data from outfeed.\n",
            "INFO:tensorflow:Enqueue next (1) batch(es) of data to infeed.\n",
            "INFO:tensorflow:Dequeue next (1) batch(es) of data from outfeed.\n",
            "INFO:tensorflow:Enqueue next (1) batch(es) of data to infeed.\n",
            "INFO:tensorflow:Dequeue next (1) batch(es) of data from outfeed.\n",
            "INFO:tensorflow:Enqueue next (1) batch(es) of data to infeed.\n",
            "INFO:tensorflow:Dequeue next (1) batch(es) of data from outfeed.\n",
            "INFO:tensorflow:Enqueue next (1) batch(es) of data to infeed.\n",
            "INFO:tensorflow:Dequeue next (1) batch(es) of data from outfeed.\n",
            "INFO:tensorflow:Enqueue next (1) batch(es) of data to infeed.\n",
            "INFO:tensorflow:Dequeue next (1) batch(es) of data from outfeed.\n",
            "INFO:tensorflow:Enqueue next (1) batch(es) of data to infeed.\n",
            "INFO:tensorflow:Dequeue next (1) batch(es) of data from outfeed.\n",
            "INFO:tensorflow:Enqueue next (1) batch(es) of data to infeed.\n",
            "INFO:tensorflow:Dequeue next (1) batch(es) of data from outfeed.\n",
            "INFO:tensorflow:Enqueue next (1) batch(es) of data to infeed.\n",
            "INFO:tensorflow:Dequeue next (1) batch(es) of data from outfeed.\n",
            "INFO:tensorflow:Enqueue next (1) batch(es) of data to infeed.\n",
            "INFO:tensorflow:Dequeue next (1) batch(es) of data from outfeed.\n",
            "INFO:tensorflow:Enqueue next (1) batch(es) of data to infeed.\n",
            "INFO:tensorflow:Dequeue next (1) batch(es) of data from outfeed.\n",
            "INFO:tensorflow:Enqueue next (1) batch(es) of data to infeed.\n",
            "INFO:tensorflow:Dequeue next (1) batch(es) of data from outfeed.\n",
            "INFO:tensorflow:Enqueue next (1) batch(es) of data to infeed.\n",
            "INFO:tensorflow:Dequeue next (1) batch(es) of data from outfeed.\n",
            "INFO:tensorflow:Enqueue next (1) batch(es) of data to infeed.\n",
            "INFO:tensorflow:Dequeue next (1) batch(es) of data from outfeed.\n",
            "INFO:tensorflow:Enqueue next (1) batch(es) of data to infeed.\n",
            "INFO:tensorflow:Dequeue next (1) batch(es) of data from outfeed.\n",
            "INFO:tensorflow:Enqueue next (1) batch(es) of data to infeed.\n",
            "INFO:tensorflow:Dequeue next (1) batch(es) of data from outfeed.\n",
            "INFO:tensorflow:Enqueue next (1) batch(es) of data to infeed.\n",
            "INFO:tensorflow:Dequeue next (1) batch(es) of data from outfeed.\n",
            "INFO:tensorflow:Enqueue next (1) batch(es) of data to infeed.\n",
            "INFO:tensorflow:Dequeue next (1) batch(es) of data from outfeed.\n",
            "INFO:tensorflow:Enqueue next (1) batch(es) of data to infeed.\n",
            "INFO:tensorflow:Dequeue next (1) batch(es) of data from outfeed.\n",
            "INFO:tensorflow:Enqueue next (1) batch(es) of data to infeed.\n",
            "INFO:tensorflow:Dequeue next (1) batch(es) of data from outfeed.\n",
            "INFO:tensorflow:Enqueue next (1) batch(es) of data to infeed.\n",
            "INFO:tensorflow:Dequeue next (1) batch(es) of data from outfeed.\n",
            "INFO:tensorflow:Enqueue next (1) batch(es) of data to infeed.\n",
            "INFO:tensorflow:Dequeue next (1) batch(es) of data from outfeed.\n",
            "INFO:tensorflow:Enqueue next (1) batch(es) of data to infeed.\n",
            "INFO:tensorflow:Dequeue next (1) batch(es) of data from outfeed.\n",
            "INFO:tensorflow:Enqueue next (1) batch(es) of data to infeed.\n",
            "INFO:tensorflow:Dequeue next (1) batch(es) of data from outfeed.\n",
            "INFO:tensorflow:Enqueue next (1) batch(es) of data to infeed.\n",
            "INFO:tensorflow:Dequeue next (1) batch(es) of data from outfeed.\n",
            "INFO:tensorflow:Enqueue next (1) batch(es) of data to infeed.\n",
            "INFO:tensorflow:Dequeue next (1) batch(es) of data from outfeed.\n",
            "INFO:tensorflow:Enqueue next (1) batch(es) of data to infeed.\n",
            "INFO:tensorflow:Dequeue next (1) batch(es) of data from outfeed.\n",
            "INFO:tensorflow:Enqueue next (1) batch(es) of data to infeed.\n",
            "INFO:tensorflow:Dequeue next (1) batch(es) of data from outfeed.\n",
            "INFO:tensorflow:Enqueue next (1) batch(es) of data to infeed.\n",
            "INFO:tensorflow:Dequeue next (1) batch(es) of data from outfeed.\n",
            "INFO:tensorflow:Enqueue next (1) batch(es) of data to infeed.\n",
            "INFO:tensorflow:Dequeue next (1) batch(es) of data from outfeed.\n",
            "INFO:tensorflow:Enqueue next (1) batch(es) of data to infeed.\n",
            "INFO:tensorflow:Dequeue next (1) batch(es) of data from outfeed.\n",
            "INFO:tensorflow:Enqueue next (1) batch(es) of data to infeed.\n",
            "INFO:tensorflow:Dequeue next (1) batch(es) of data from outfeed.\n",
            "INFO:tensorflow:Enqueue next (1) batch(es) of data to infeed.\n",
            "INFO:tensorflow:Dequeue next (1) batch(es) of data from outfeed.\n",
            "INFO:tensorflow:Enqueue next (1) batch(es) of data to infeed.\n",
            "INFO:tensorflow:Dequeue next (1) batch(es) of data from outfeed.\n",
            "INFO:tensorflow:Enqueue next (1) batch(es) of data to infeed.\n",
            "INFO:tensorflow:Dequeue next (1) batch(es) of data from outfeed.\n",
            "INFO:tensorflow:Enqueue next (1) batch(es) of data to infeed.\n",
            "INFO:tensorflow:Dequeue next (1) batch(es) of data from outfeed.\n",
            "INFO:tensorflow:Enqueue next (1) batch(es) of data to infeed.\n",
            "INFO:tensorflow:Dequeue next (1) batch(es) of data from outfeed.\n",
            "INFO:tensorflow:Enqueue next (1) batch(es) of data to infeed.\n",
            "INFO:tensorflow:Dequeue next (1) batch(es) of data from outfeed.\n",
            "INFO:tensorflow:Enqueue next (1) batch(es) of data to infeed.\n",
            "INFO:tensorflow:Dequeue next (1) batch(es) of data from outfeed.\n",
            "INFO:tensorflow:Enqueue next (1) batch(es) of data to infeed.\n",
            "INFO:tensorflow:Dequeue next (1) batch(es) of data from outfeed.\n",
            "INFO:tensorflow:Enqueue next (1) batch(es) of data to infeed.\n",
            "INFO:tensorflow:Dequeue next (1) batch(es) of data from outfeed.\n",
            "INFO:tensorflow:Enqueue next (1) batch(es) of data to infeed.\n",
            "INFO:tensorflow:Dequeue next (1) batch(es) of data from outfeed.\n",
            "INFO:tensorflow:Enqueue next (1) batch(es) of data to infeed.\n",
            "INFO:tensorflow:Dequeue next (1) batch(es) of data from outfeed.\n",
            "INFO:tensorflow:Enqueue next (1) batch(es) of data to infeed.\n",
            "INFO:tensorflow:Dequeue next (1) batch(es) of data from outfeed.\n",
            "INFO:tensorflow:Enqueue next (1) batch(es) of data to infeed.\n",
            "INFO:tensorflow:Dequeue next (1) batch(es) of data from outfeed.\n",
            "INFO:tensorflow:Enqueue next (1) batch(es) of data to infeed.\n",
            "INFO:tensorflow:Dequeue next (1) batch(es) of data from outfeed.\n",
            "INFO:tensorflow:Enqueue next (1) batch(es) of data to infeed.\n",
            "INFO:tensorflow:Dequeue next (1) batch(es) of data from outfeed.\n",
            "INFO:tensorflow:Enqueue next (1) batch(es) of data to infeed.\n",
            "INFO:tensorflow:Dequeue next (1) batch(es) of data from outfeed.\n",
            "INFO:tensorflow:Enqueue next (1) batch(es) of data to infeed.\n",
            "INFO:tensorflow:Dequeue next (1) batch(es) of data from outfeed.\n",
            "INFO:tensorflow:Enqueue next (1) batch(es) of data to infeed.\n",
            "INFO:tensorflow:Dequeue next (1) batch(es) of data from outfeed.\n",
            "INFO:tensorflow:Enqueue next (1) batch(es) of data to infeed.\n",
            "INFO:tensorflow:Dequeue next (1) batch(es) of data from outfeed.\n",
            "INFO:tensorflow:Enqueue next (1) batch(es) of data to infeed.\n",
            "INFO:tensorflow:Dequeue next (1) batch(es) of data from outfeed.\n",
            "INFO:tensorflow:Enqueue next (1) batch(es) of data to infeed.\n",
            "INFO:tensorflow:Dequeue next (1) batch(es) of data from outfeed.\n",
            "INFO:tensorflow:Enqueue next (1) batch(es) of data to infeed.\n",
            "INFO:tensorflow:Dequeue next (1) batch(es) of data from outfeed.\n",
            "INFO:tensorflow:Enqueue next (1) batch(es) of data to infeed.\n",
            "INFO:tensorflow:Dequeue next (1) batch(es) of data from outfeed.\n",
            "INFO:tensorflow:Enqueue next (1) batch(es) of data to infeed.\n",
            "INFO:tensorflow:Dequeue next (1) batch(es) of data from outfeed.\n",
            "INFO:tensorflow:Enqueue next (1) batch(es) of data to infeed.\n",
            "INFO:tensorflow:Dequeue next (1) batch(es) of data from outfeed.\n",
            "INFO:tensorflow:Enqueue next (1) batch(es) of data to infeed.\n",
            "INFO:tensorflow:Dequeue next (1) batch(es) of data from outfeed.\n",
            "INFO:tensorflow:Enqueue next (1) batch(es) of data to infeed.\n",
            "INFO:tensorflow:Dequeue next (1) batch(es) of data from outfeed.\n",
            "INFO:tensorflow:Enqueue next (1) batch(es) of data to infeed.\n",
            "INFO:tensorflow:Dequeue next (1) batch(es) of data from outfeed.\n",
            "INFO:tensorflow:Enqueue next (1) batch(es) of data to infeed.\n",
            "INFO:tensorflow:Dequeue next (1) batch(es) of data from outfeed.\n",
            "INFO:tensorflow:Enqueue next (1) batch(es) of data to infeed.\n",
            "INFO:tensorflow:Dequeue next (1) batch(es) of data from outfeed.\n",
            "INFO:tensorflow:Enqueue next (1) batch(es) of data to infeed.\n",
            "INFO:tensorflow:Dequeue next (1) batch(es) of data from outfeed.\n",
            "INFO:tensorflow:Enqueue next (1) batch(es) of data to infeed.\n",
            "INFO:tensorflow:Dequeue next (1) batch(es) of data from outfeed.\n",
            "INFO:tensorflow:Enqueue next (1) batch(es) of data to infeed.\n",
            "INFO:tensorflow:Dequeue next (1) batch(es) of data from outfeed.\n",
            "INFO:tensorflow:Enqueue next (1) batch(es) of data to infeed.\n",
            "INFO:tensorflow:Dequeue next (1) batch(es) of data from outfeed.\n",
            "INFO:tensorflow:Enqueue next (1) batch(es) of data to infeed.\n",
            "INFO:tensorflow:Dequeue next (1) batch(es) of data from outfeed.\n",
            "INFO:tensorflow:Enqueue next (1) batch(es) of data to infeed.\n",
            "INFO:tensorflow:Dequeue next (1) batch(es) of data from outfeed.\n",
            "INFO:tensorflow:Enqueue next (1) batch(es) of data to infeed.\n",
            "INFO:tensorflow:Dequeue next (1) batch(es) of data from outfeed.\n",
            "INFO:tensorflow:Enqueue next (1) batch(es) of data to infeed.\n",
            "INFO:tensorflow:Dequeue next (1) batch(es) of data from outfeed.\n",
            "INFO:tensorflow:Enqueue next (1) batch(es) of data to infeed.\n",
            "INFO:tensorflow:Dequeue next (1) batch(es) of data from outfeed.\n",
            "INFO:tensorflow:Enqueue next (1) batch(es) of data to infeed.\n",
            "INFO:tensorflow:Dequeue next (1) batch(es) of data from outfeed.\n",
            "INFO:tensorflow:Enqueue next (1) batch(es) of data to infeed.\n",
            "INFO:tensorflow:Dequeue next (1) batch(es) of data from outfeed.\n",
            "INFO:tensorflow:Enqueue next (1) batch(es) of data to infeed.\n",
            "INFO:tensorflow:Dequeue next (1) batch(es) of data from outfeed.\n",
            "INFO:tensorflow:Enqueue next (1) batch(es) of data to infeed.\n",
            "INFO:tensorflow:Dequeue next (1) batch(es) of data from outfeed.\n",
            "INFO:tensorflow:Enqueue next (1) batch(es) of data to infeed.\n",
            "INFO:tensorflow:Dequeue next (1) batch(es) of data from outfeed.\n",
            "INFO:tensorflow:Enqueue next (1) batch(es) of data to infeed.\n",
            "INFO:tensorflow:Dequeue next (1) batch(es) of data from outfeed.\n",
            "INFO:tensorflow:Enqueue next (1) batch(es) of data to infeed.\n",
            "INFO:tensorflow:Dequeue next (1) batch(es) of data from outfeed.\n",
            "INFO:tensorflow:Enqueue next (1) batch(es) of data to infeed.\n",
            "INFO:tensorflow:Dequeue next (1) batch(es) of data from outfeed.\n",
            "INFO:tensorflow:Enqueue next (1) batch(es) of data to infeed.\n",
            "INFO:tensorflow:Dequeue next (1) batch(es) of data from outfeed.\n",
            "INFO:tensorflow:Enqueue next (1) batch(es) of data to infeed.\n",
            "INFO:tensorflow:Dequeue next (1) batch(es) of data from outfeed.\n",
            "INFO:tensorflow:Enqueue next (1) batch(es) of data to infeed.\n",
            "INFO:tensorflow:Dequeue next (1) batch(es) of data from outfeed.\n",
            "INFO:tensorflow:Enqueue next (1) batch(es) of data to infeed.\n",
            "INFO:tensorflow:Dequeue next (1) batch(es) of data from outfeed.\n",
            "INFO:tensorflow:Enqueue next (1) batch(es) of data to infeed.\n",
            "INFO:tensorflow:Dequeue next (1) batch(es) of data from outfeed.\n",
            "INFO:tensorflow:Enqueue next (1) batch(es) of data to infeed.\n",
            "INFO:tensorflow:Dequeue next (1) batch(es) of data from outfeed.\n",
            "INFO:tensorflow:Enqueue next (1) batch(es) of data to infeed.\n",
            "INFO:tensorflow:Dequeue next (1) batch(es) of data from outfeed.\n",
            "INFO:tensorflow:Enqueue next (1) batch(es) of data to infeed.\n",
            "INFO:tensorflow:Dequeue next (1) batch(es) of data from outfeed.\n",
            "INFO:tensorflow:Enqueue next (1) batch(es) of data to infeed.\n",
            "INFO:tensorflow:Dequeue next (1) batch(es) of data from outfeed.\n",
            "INFO:tensorflow:Enqueue next (1) batch(es) of data to infeed.\n",
            "INFO:tensorflow:Dequeue next (1) batch(es) of data from outfeed.\n",
            "INFO:tensorflow:Enqueue next (1) batch(es) of data to infeed.\n",
            "INFO:tensorflow:Dequeue next (1) batch(es) of data from outfeed.\n",
            "INFO:tensorflow:Enqueue next (1) batch(es) of data to infeed.\n",
            "INFO:tensorflow:Dequeue next (1) batch(es) of data from outfeed.\n",
            "INFO:tensorflow:Enqueue next (1) batch(es) of data to infeed.\n",
            "INFO:tensorflow:Dequeue next (1) batch(es) of data from outfeed.\n",
            "INFO:tensorflow:Enqueue next (1) batch(es) of data to infeed.\n",
            "INFO:tensorflow:Dequeue next (1) batch(es) of data from outfeed.\n",
            "INFO:tensorflow:Enqueue next (1) batch(es) of data to infeed.\n",
            "INFO:tensorflow:Dequeue next (1) batch(es) of data from outfeed.\n",
            "INFO:tensorflow:Enqueue next (1) batch(es) of data to infeed.\n",
            "INFO:tensorflow:Dequeue next (1) batch(es) of data from outfeed.\n",
            "INFO:tensorflow:Enqueue next (1) batch(es) of data to infeed.\n",
            "INFO:tensorflow:Dequeue next (1) batch(es) of data from outfeed.\n",
            "INFO:tensorflow:Enqueue next (1) batch(es) of data to infeed.\n",
            "INFO:tensorflow:Dequeue next (1) batch(es) of data from outfeed.\n",
            "INFO:tensorflow:Enqueue next (1) batch(es) of data to infeed.\n",
            "INFO:tensorflow:Dequeue next (1) batch(es) of data from outfeed.\n",
            "INFO:tensorflow:Enqueue next (1) batch(es) of data to infeed.\n",
            "INFO:tensorflow:Dequeue next (1) batch(es) of data from outfeed.\n",
            "INFO:tensorflow:Enqueue next (1) batch(es) of data to infeed.\n",
            "INFO:tensorflow:Dequeue next (1) batch(es) of data from outfeed.\n",
            "INFO:tensorflow:Enqueue next (1) batch(es) of data to infeed.\n",
            "INFO:tensorflow:Dequeue next (1) batch(es) of data from outfeed.\n",
            "INFO:tensorflow:Enqueue next (1) batch(es) of data to infeed.\n",
            "INFO:tensorflow:Dequeue next (1) batch(es) of data from outfeed.\n",
            "INFO:tensorflow:Enqueue next (1) batch(es) of data to infeed.\n",
            "INFO:tensorflow:Dequeue next (1) batch(es) of data from outfeed.\n",
            "INFO:tensorflow:Enqueue next (1) batch(es) of data to infeed.\n",
            "INFO:tensorflow:Dequeue next (1) batch(es) of data from outfeed.\n",
            "INFO:tensorflow:Enqueue next (1) batch(es) of data to infeed.\n",
            "INFO:tensorflow:Dequeue next (1) batch(es) of data from outfeed.\n",
            "INFO:tensorflow:Enqueue next (1) batch(es) of data to infeed.\n",
            "INFO:tensorflow:Dequeue next (1) batch(es) of data from outfeed.\n",
            "INFO:tensorflow:Enqueue next (1) batch(es) of data to infeed.\n",
            "INFO:tensorflow:Dequeue next (1) batch(es) of data from outfeed.\n",
            "INFO:tensorflow:Enqueue next (1) batch(es) of data to infeed.\n",
            "INFO:tensorflow:Dequeue next (1) batch(es) of data from outfeed.\n",
            "INFO:tensorflow:Enqueue next (1) batch(es) of data to infeed.\n",
            "INFO:tensorflow:Dequeue next (1) batch(es) of data from outfeed.\n",
            "INFO:tensorflow:Enqueue next (1) batch(es) of data to infeed.\n",
            "INFO:tensorflow:Dequeue next (1) batch(es) of data from outfeed.\n",
            "INFO:tensorflow:Enqueue next (1) batch(es) of data to infeed.\n",
            "INFO:tensorflow:Dequeue next (1) batch(es) of data from outfeed.\n",
            "INFO:tensorflow:Enqueue next (1) batch(es) of data to infeed.\n",
            "INFO:tensorflow:Dequeue next (1) batch(es) of data from outfeed.\n",
            "INFO:tensorflow:Enqueue next (1) batch(es) of data to infeed.\n",
            "INFO:tensorflow:Dequeue next (1) batch(es) of data from outfeed.\n",
            "INFO:tensorflow:Enqueue next (1) batch(es) of data to infeed.\n",
            "INFO:tensorflow:Dequeue next (1) batch(es) of data from outfeed.\n",
            "INFO:tensorflow:Enqueue next (1) batch(es) of data to infeed.\n",
            "INFO:tensorflow:Dequeue next (1) batch(es) of data from outfeed.\n",
            "INFO:tensorflow:Enqueue next (1) batch(es) of data to infeed.\n",
            "INFO:tensorflow:Dequeue next (1) batch(es) of data from outfeed.\n",
            "INFO:tensorflow:Enqueue next (1) batch(es) of data to infeed.\n",
            "INFO:tensorflow:Dequeue next (1) batch(es) of data from outfeed.\n",
            "INFO:tensorflow:Enqueue next (1) batch(es) of data to infeed.\n",
            "INFO:tensorflow:Dequeue next (1) batch(es) of data from outfeed.\n",
            "INFO:tensorflow:Enqueue next (1) batch(es) of data to infeed.\n",
            "INFO:tensorflow:Dequeue next (1) batch(es) of data from outfeed.\n",
            "INFO:tensorflow:Enqueue next (1) batch(es) of data to infeed.\n",
            "INFO:tensorflow:Dequeue next (1) batch(es) of data from outfeed.\n",
            "INFO:tensorflow:Enqueue next (1) batch(es) of data to infeed.\n",
            "INFO:tensorflow:Dequeue next (1) batch(es) of data from outfeed.\n",
            "INFO:tensorflow:Enqueue next (1) batch(es) of data to infeed.\n",
            "INFO:tensorflow:Dequeue next (1) batch(es) of data from outfeed.\n",
            "INFO:tensorflow:Enqueue next (1) batch(es) of data to infeed.\n",
            "INFO:tensorflow:Dequeue next (1) batch(es) of data from outfeed.\n",
            "INFO:tensorflow:Enqueue next (1) batch(es) of data to infeed.\n",
            "INFO:tensorflow:Dequeue next (1) batch(es) of data from outfeed.\n",
            "INFO:tensorflow:Enqueue next (1) batch(es) of data to infeed.\n",
            "INFO:tensorflow:Dequeue next (1) batch(es) of data from outfeed.\n",
            "INFO:tensorflow:Enqueue next (1) batch(es) of data to infeed.\n",
            "INFO:tensorflow:Dequeue next (1) batch(es) of data from outfeed.\n",
            "INFO:tensorflow:Enqueue next (1) batch(es) of data to infeed.\n",
            "INFO:tensorflow:Dequeue next (1) batch(es) of data from outfeed.\n",
            "INFO:tensorflow:Enqueue next (1) batch(es) of data to infeed.\n",
            "INFO:tensorflow:Dequeue next (1) batch(es) of data from outfeed.\n",
            "INFO:tensorflow:Enqueue next (1) batch(es) of data to infeed.\n",
            "INFO:tensorflow:Dequeue next (1) batch(es) of data from outfeed.\n",
            "INFO:tensorflow:Enqueue next (1) batch(es) of data to infeed.\n",
            "INFO:tensorflow:Dequeue next (1) batch(es) of data from outfeed.\n",
            "INFO:tensorflow:Enqueue next (1) batch(es) of data to infeed.\n",
            "INFO:tensorflow:Dequeue next (1) batch(es) of data from outfeed.\n",
            "INFO:tensorflow:Enqueue next (1) batch(es) of data to infeed.\n",
            "INFO:tensorflow:Dequeue next (1) batch(es) of data from outfeed.\n",
            "INFO:tensorflow:Enqueue next (1) batch(es) of data to infeed.\n",
            "INFO:tensorflow:Dequeue next (1) batch(es) of data from outfeed.\n",
            "INFO:tensorflow:Enqueue next (1) batch(es) of data to infeed.\n",
            "INFO:tensorflow:Dequeue next (1) batch(es) of data from outfeed.\n",
            "INFO:tensorflow:Enqueue next (1) batch(es) of data to infeed.\n",
            "INFO:tensorflow:Dequeue next (1) batch(es) of data from outfeed.\n",
            "INFO:tensorflow:Enqueue next (1) batch(es) of data to infeed.\n",
            "INFO:tensorflow:Dequeue next (1) batch(es) of data from outfeed.\n",
            "INFO:tensorflow:Enqueue next (1) batch(es) of data to infeed.\n",
            "INFO:tensorflow:Dequeue next (1) batch(es) of data from outfeed.\n",
            "INFO:tensorflow:Enqueue next (1) batch(es) of data to infeed.\n",
            "INFO:tensorflow:Dequeue next (1) batch(es) of data from outfeed.\n",
            "INFO:tensorflow:Enqueue next (1) batch(es) of data to infeed.\n",
            "INFO:tensorflow:Dequeue next (1) batch(es) of data from outfeed.\n",
            "INFO:tensorflow:Enqueue next (1) batch(es) of data to infeed.\n",
            "INFO:tensorflow:Dequeue next (1) batch(es) of data from outfeed.\n",
            "INFO:tensorflow:Enqueue next (1) batch(es) of data to infeed.\n",
            "INFO:tensorflow:Dequeue next (1) batch(es) of data from outfeed.\n",
            "INFO:tensorflow:Enqueue next (1) batch(es) of data to infeed.\n",
            "INFO:tensorflow:Dequeue next (1) batch(es) of data from outfeed.\n",
            "INFO:tensorflow:Enqueue next (1) batch(es) of data to infeed.\n",
            "INFO:tensorflow:Dequeue next (1) batch(es) of data from outfeed.\n",
            "INFO:tensorflow:Enqueue next (1) batch(es) of data to infeed.\n",
            "INFO:tensorflow:Dequeue next (1) batch(es) of data from outfeed.\n",
            "INFO:tensorflow:Enqueue next (1) batch(es) of data to infeed.\n",
            "INFO:tensorflow:Dequeue next (1) batch(es) of data from outfeed.\n",
            "INFO:tensorflow:Enqueue next (1) batch(es) of data to infeed.\n",
            "INFO:tensorflow:Dequeue next (1) batch(es) of data from outfeed.\n",
            "INFO:tensorflow:Enqueue next (1) batch(es) of data to infeed.\n",
            "INFO:tensorflow:Dequeue next (1) batch(es) of data from outfeed.\n",
            "INFO:tensorflow:Enqueue next (1) batch(es) of data to infeed.\n",
            "INFO:tensorflow:Dequeue next (1) batch(es) of data from outfeed.\n",
            "INFO:tensorflow:Enqueue next (1) batch(es) of data to infeed.\n",
            "INFO:tensorflow:Dequeue next (1) batch(es) of data from outfeed.\n",
            "INFO:tensorflow:Enqueue next (1) batch(es) of data to infeed.\n",
            "INFO:tensorflow:Dequeue next (1) batch(es) of data from outfeed.\n",
            "INFO:tensorflow:Enqueue next (1) batch(es) of data to infeed.\n",
            "INFO:tensorflow:Dequeue next (1) batch(es) of data from outfeed.\n",
            "INFO:tensorflow:Enqueue next (1) batch(es) of data to infeed.\n",
            "INFO:tensorflow:Dequeue next (1) batch(es) of data from outfeed.\n",
            "INFO:tensorflow:Enqueue next (1) batch(es) of data to infeed.\n",
            "INFO:tensorflow:Dequeue next (1) batch(es) of data from outfeed.\n",
            "INFO:tensorflow:Enqueue next (1) batch(es) of data to infeed.\n",
            "INFO:tensorflow:Dequeue next (1) batch(es) of data from outfeed.\n",
            "INFO:tensorflow:Enqueue next (1) batch(es) of data to infeed.\n",
            "INFO:tensorflow:Dequeue next (1) batch(es) of data from outfeed.\n",
            "INFO:tensorflow:Enqueue next (1) batch(es) of data to infeed.\n",
            "INFO:tensorflow:Dequeue next (1) batch(es) of data from outfeed.\n",
            "INFO:tensorflow:Enqueue next (1) batch(es) of data to infeed.\n",
            "INFO:tensorflow:Dequeue next (1) batch(es) of data from outfeed.\n",
            "INFO:tensorflow:Enqueue next (1) batch(es) of data to infeed.\n",
            "INFO:tensorflow:Dequeue next (1) batch(es) of data from outfeed.\n",
            "INFO:tensorflow:Enqueue next (1) batch(es) of data to infeed.\n",
            "INFO:tensorflow:Dequeue next (1) batch(es) of data from outfeed.\n",
            "INFO:tensorflow:Enqueue next (1) batch(es) of data to infeed.\n",
            "INFO:tensorflow:Dequeue next (1) batch(es) of data from outfeed.\n",
            "INFO:tensorflow:Enqueue next (1) batch(es) of data to infeed.\n",
            "INFO:tensorflow:Dequeue next (1) batch(es) of data from outfeed.\n",
            "INFO:tensorflow:Enqueue next (1) batch(es) of data to infeed.\n",
            "INFO:tensorflow:Dequeue next (1) batch(es) of data from outfeed.\n",
            "INFO:tensorflow:Enqueue next (1) batch(es) of data to infeed.\n",
            "INFO:tensorflow:Dequeue next (1) batch(es) of data from outfeed.\n",
            "INFO:tensorflow:Enqueue next (1) batch(es) of data to infeed.\n",
            "INFO:tensorflow:Dequeue next (1) batch(es) of data from outfeed.\n",
            "INFO:tensorflow:Enqueue next (1) batch(es) of data to infeed.\n",
            "INFO:tensorflow:Dequeue next (1) batch(es) of data from outfeed.\n",
            "INFO:tensorflow:Enqueue next (1) batch(es) of data to infeed.\n",
            "INFO:tensorflow:Dequeue next (1) batch(es) of data from outfeed.\n",
            "INFO:tensorflow:Enqueue next (1) batch(es) of data to infeed.\n",
            "INFO:tensorflow:Dequeue next (1) batch(es) of data from outfeed.\n",
            "INFO:tensorflow:Enqueue next (1) batch(es) of data to infeed.\n",
            "INFO:tensorflow:Dequeue next (1) batch(es) of data from outfeed.\n",
            "INFO:tensorflow:Enqueue next (1) batch(es) of data to infeed.\n",
            "INFO:tensorflow:Dequeue next (1) batch(es) of data from outfeed.\n",
            "INFO:tensorflow:Enqueue next (1) batch(es) of data to infeed.\n",
            "INFO:tensorflow:Dequeue next (1) batch(es) of data from outfeed.\n",
            "INFO:tensorflow:Enqueue next (1) batch(es) of data to infeed.\n",
            "INFO:tensorflow:Dequeue next (1) batch(es) of data from outfeed.\n",
            "INFO:tensorflow:Enqueue next (1) batch(es) of data to infeed.\n",
            "INFO:tensorflow:Dequeue next (1) batch(es) of data from outfeed.\n",
            "INFO:tensorflow:Enqueue next (1) batch(es) of data to infeed.\n",
            "INFO:tensorflow:Dequeue next (1) batch(es) of data from outfeed.\n",
            "INFO:tensorflow:Enqueue next (1) batch(es) of data to infeed.\n",
            "INFO:tensorflow:Dequeue next (1) batch(es) of data from outfeed.\n",
            "INFO:tensorflow:Enqueue next (1) batch(es) of data to infeed.\n",
            "INFO:tensorflow:Dequeue next (1) batch(es) of data from outfeed.\n",
            "INFO:tensorflow:Enqueue next (1) batch(es) of data to infeed.\n",
            "INFO:tensorflow:Dequeue next (1) batch(es) of data from outfeed.\n",
            "INFO:tensorflow:Enqueue next (1) batch(es) of data to infeed.\n",
            "INFO:tensorflow:Dequeue next (1) batch(es) of data from outfeed.\n",
            "INFO:tensorflow:Enqueue next (1) batch(es) of data to infeed.\n",
            "INFO:tensorflow:Dequeue next (1) batch(es) of data from outfeed.\n",
            "INFO:tensorflow:Enqueue next (1) batch(es) of data to infeed.\n",
            "INFO:tensorflow:Dequeue next (1) batch(es) of data from outfeed.\n",
            "INFO:tensorflow:Enqueue next (1) batch(es) of data to infeed.\n",
            "INFO:tensorflow:Dequeue next (1) batch(es) of data from outfeed.\n",
            "INFO:tensorflow:Enqueue next (1) batch(es) of data to infeed.\n",
            "INFO:tensorflow:Dequeue next (1) batch(es) of data from outfeed.\n",
            "INFO:tensorflow:Enqueue next (1) batch(es) of data to infeed.\n",
            "INFO:tensorflow:Dequeue next (1) batch(es) of data from outfeed.\n",
            "INFO:tensorflow:Enqueue next (1) batch(es) of data to infeed.\n",
            "INFO:tensorflow:Dequeue next (1) batch(es) of data from outfeed.\n",
            "INFO:tensorflow:Enqueue next (1) batch(es) of data to infeed.\n",
            "INFO:tensorflow:Dequeue next (1) batch(es) of data from outfeed.\n",
            "INFO:tensorflow:Enqueue next (1) batch(es) of data to infeed.\n",
            "INFO:tensorflow:Dequeue next (1) batch(es) of data from outfeed.\n",
            "INFO:tensorflow:Enqueue next (1) batch(es) of data to infeed.\n",
            "INFO:tensorflow:Dequeue next (1) batch(es) of data from outfeed.\n",
            "INFO:tensorflow:Enqueue next (1) batch(es) of data to infeed.\n",
            "INFO:tensorflow:Dequeue next (1) batch(es) of data from outfeed.\n",
            "INFO:tensorflow:Enqueue next (1) batch(es) of data to infeed.\n",
            "INFO:tensorflow:Dequeue next (1) batch(es) of data from outfeed.\n",
            "INFO:tensorflow:Enqueue next (1) batch(es) of data to infeed.\n",
            "INFO:tensorflow:Dequeue next (1) batch(es) of data from outfeed.\n",
            "INFO:tensorflow:Enqueue next (1) batch(es) of data to infeed.\n",
            "INFO:tensorflow:Dequeue next (1) batch(es) of data from outfeed.\n",
            "INFO:tensorflow:Enqueue next (1) batch(es) of data to infeed.\n",
            "INFO:tensorflow:Dequeue next (1) batch(es) of data from outfeed.\n",
            "INFO:tensorflow:Enqueue next (1) batch(es) of data to infeed.\n",
            "INFO:tensorflow:Dequeue next (1) batch(es) of data from outfeed.\n",
            "INFO:tensorflow:Enqueue next (1) batch(es) of data to infeed.\n",
            "INFO:tensorflow:Dequeue next (1) batch(es) of data from outfeed.\n",
            "INFO:tensorflow:Enqueue next (1) batch(es) of data to infeed.\n",
            "INFO:tensorflow:Dequeue next (1) batch(es) of data from outfeed.\n",
            "INFO:tensorflow:Enqueue next (1) batch(es) of data to infeed.\n",
            "INFO:tensorflow:Dequeue next (1) batch(es) of data from outfeed.\n",
            "INFO:tensorflow:Enqueue next (1) batch(es) of data to infeed.\n",
            "INFO:tensorflow:Dequeue next (1) batch(es) of data from outfeed.\n",
            "INFO:tensorflow:Enqueue next (1) batch(es) of data to infeed.\n",
            "INFO:tensorflow:Dequeue next (1) batch(es) of data from outfeed.\n",
            "INFO:tensorflow:Enqueue next (1) batch(es) of data to infeed.\n",
            "INFO:tensorflow:Dequeue next (1) batch(es) of data from outfeed.\n",
            "INFO:tensorflow:Enqueue next (1) batch(es) of data to infeed.\n",
            "INFO:tensorflow:Dequeue next (1) batch(es) of data from outfeed.\n",
            "INFO:tensorflow:Enqueue next (1) batch(es) of data to infeed.\n",
            "INFO:tensorflow:Dequeue next (1) batch(es) of data from outfeed.\n",
            "INFO:tensorflow:Enqueue next (1) batch(es) of data to infeed.\n",
            "INFO:tensorflow:Dequeue next (1) batch(es) of data from outfeed.\n",
            "INFO:tensorflow:Enqueue next (1) batch(es) of data to infeed.\n",
            "INFO:tensorflow:Dequeue next (1) batch(es) of data from outfeed.\n",
            "INFO:tensorflow:Enqueue next (1) batch(es) of data to infeed.\n",
            "INFO:tensorflow:Dequeue next (1) batch(es) of data from outfeed.\n",
            "INFO:tensorflow:Enqueue next (1) batch(es) of data to infeed.\n",
            "INFO:tensorflow:Dequeue next (1) batch(es) of data from outfeed.\n",
            "INFO:tensorflow:Enqueue next (1) batch(es) of data to infeed.\n",
            "INFO:tensorflow:Dequeue next (1) batch(es) of data from outfeed.\n",
            "INFO:tensorflow:Enqueue next (1) batch(es) of data to infeed.\n",
            "INFO:tensorflow:Dequeue next (1) batch(es) of data from outfeed.\n",
            "INFO:tensorflow:Enqueue next (1) batch(es) of data to infeed.\n",
            "INFO:tensorflow:Dequeue next (1) batch(es) of data from outfeed.\n",
            "INFO:tensorflow:Enqueue next (1) batch(es) of data to infeed.\n",
            "INFO:tensorflow:Dequeue next (1) batch(es) of data from outfeed.\n",
            "INFO:tensorflow:Enqueue next (1) batch(es) of data to infeed.\n",
            "INFO:tensorflow:Dequeue next (1) batch(es) of data from outfeed.\n",
            "INFO:tensorflow:Enqueue next (1) batch(es) of data to infeed.\n",
            "INFO:tensorflow:Dequeue next (1) batch(es) of data from outfeed.\n",
            "INFO:tensorflow:Enqueue next (1) batch(es) of data to infeed.\n",
            "INFO:tensorflow:Dequeue next (1) batch(es) of data from outfeed.\n",
            "INFO:tensorflow:Enqueue next (1) batch(es) of data to infeed.\n",
            "INFO:tensorflow:Dequeue next (1) batch(es) of data from outfeed.\n",
            "INFO:tensorflow:Enqueue next (1) batch(es) of data to infeed.\n",
            "INFO:tensorflow:Dequeue next (1) batch(es) of data from outfeed.\n",
            "INFO:tensorflow:Enqueue next (1) batch(es) of data to infeed.\n",
            "INFO:tensorflow:Dequeue next (1) batch(es) of data from outfeed.\n",
            "INFO:tensorflow:Enqueue next (1) batch(es) of data to infeed.\n",
            "INFO:tensorflow:Dequeue next (1) batch(es) of data from outfeed.\n",
            "INFO:tensorflow:Enqueue next (1) batch(es) of data to infeed.\n",
            "INFO:tensorflow:Dequeue next (1) batch(es) of data from outfeed.\n",
            "INFO:tensorflow:Enqueue next (1) batch(es) of data to infeed.\n",
            "INFO:tensorflow:Dequeue next (1) batch(es) of data from outfeed.\n",
            "INFO:tensorflow:Enqueue next (1) batch(es) of data to infeed.\n",
            "INFO:tensorflow:Dequeue next (1) batch(es) of data from outfeed.\n",
            "INFO:tensorflow:Enqueue next (1) batch(es) of data to infeed.\n",
            "INFO:tensorflow:Dequeue next (1) batch(es) of data from outfeed.\n",
            "INFO:tensorflow:Enqueue next (1) batch(es) of data to infeed.\n",
            "INFO:tensorflow:Dequeue next (1) batch(es) of data from outfeed.\n",
            "INFO:tensorflow:Enqueue next (1) batch(es) of data to infeed.\n",
            "INFO:tensorflow:Dequeue next (1) batch(es) of data from outfeed.\n",
            "INFO:tensorflow:Enqueue next (1) batch(es) of data to infeed.\n",
            "INFO:tensorflow:Dequeue next (1) batch(es) of data from outfeed.\n",
            "INFO:tensorflow:Enqueue next (1) batch(es) of data to infeed.\n",
            "INFO:tensorflow:Dequeue next (1) batch(es) of data from outfeed.\n",
            "INFO:tensorflow:Enqueue next (1) batch(es) of data to infeed.\n",
            "INFO:tensorflow:Dequeue next (1) batch(es) of data from outfeed.\n",
            "INFO:tensorflow:Enqueue next (1) batch(es) of data to infeed.\n",
            "INFO:tensorflow:Dequeue next (1) batch(es) of data from outfeed.\n",
            "INFO:tensorflow:Enqueue next (1) batch(es) of data to infeed.\n",
            "INFO:tensorflow:Dequeue next (1) batch(es) of data from outfeed.\n",
            "INFO:tensorflow:Enqueue next (1) batch(es) of data to infeed.\n",
            "INFO:tensorflow:Dequeue next (1) batch(es) of data from outfeed.\n",
            "INFO:tensorflow:Enqueue next (1) batch(es) of data to infeed.\n",
            "INFO:tensorflow:Dequeue next (1) batch(es) of data from outfeed.\n",
            "INFO:tensorflow:Enqueue next (1) batch(es) of data to infeed.\n",
            "INFO:tensorflow:Dequeue next (1) batch(es) of data from outfeed.\n",
            "INFO:tensorflow:Enqueue next (1) batch(es) of data to infeed.\n",
            "INFO:tensorflow:Dequeue next (1) batch(es) of data from outfeed.\n",
            "INFO:tensorflow:Enqueue next (1) batch(es) of data to infeed.\n",
            "INFO:tensorflow:Dequeue next (1) batch(es) of data from outfeed.\n",
            "INFO:tensorflow:Enqueue next (1) batch(es) of data to infeed.\n",
            "INFO:tensorflow:Dequeue next (1) batch(es) of data from outfeed.\n",
            "INFO:tensorflow:Enqueue next (1) batch(es) of data to infeed.\n",
            "INFO:tensorflow:Dequeue next (1) batch(es) of data from outfeed.\n",
            "INFO:tensorflow:Enqueue next (1) batch(es) of data to infeed.\n",
            "INFO:tensorflow:Dequeue next (1) batch(es) of data from outfeed.\n",
            "INFO:tensorflow:Enqueue next (1) batch(es) of data to infeed.\n",
            "INFO:tensorflow:Dequeue next (1) batch(es) of data from outfeed.\n",
            "INFO:tensorflow:Enqueue next (1) batch(es) of data to infeed.\n",
            "INFO:tensorflow:Dequeue next (1) batch(es) of data from outfeed.\n",
            "INFO:tensorflow:Enqueue next (1) batch(es) of data to infeed.\n",
            "INFO:tensorflow:Dequeue next (1) batch(es) of data from outfeed.\n",
            "INFO:tensorflow:Enqueue next (1) batch(es) of data to infeed.\n",
            "INFO:tensorflow:Dequeue next (1) batch(es) of data from outfeed.\n",
            "INFO:tensorflow:Enqueue next (1) batch(es) of data to infeed.\n",
            "INFO:tensorflow:Dequeue next (1) batch(es) of data from outfeed.\n",
            "INFO:tensorflow:Enqueue next (1) batch(es) of data to infeed.\n",
            "INFO:tensorflow:Dequeue next (1) batch(es) of data from outfeed.\n",
            "INFO:tensorflow:Enqueue next (1) batch(es) of data to infeed.\n",
            "INFO:tensorflow:Dequeue next (1) batch(es) of data from outfeed.\n",
            "INFO:tensorflow:Enqueue next (1) batch(es) of data to infeed.\n",
            "INFO:tensorflow:Dequeue next (1) batch(es) of data from outfeed.\n",
            "INFO:tensorflow:Enqueue next (1) batch(es) of data to infeed.\n",
            "INFO:tensorflow:Dequeue next (1) batch(es) of data from outfeed.\n",
            "INFO:tensorflow:Enqueue next (1) batch(es) of data to infeed.\n",
            "INFO:tensorflow:Dequeue next (1) batch(es) of data from outfeed.\n",
            "INFO:tensorflow:Enqueue next (1) batch(es) of data to infeed.\n",
            "INFO:tensorflow:Dequeue next (1) batch(es) of data from outfeed.\n",
            "INFO:tensorflow:Enqueue next (1) batch(es) of data to infeed.\n",
            "INFO:tensorflow:Dequeue next (1) batch(es) of data from outfeed.\n",
            "INFO:tensorflow:Enqueue next (1) batch(es) of data to infeed.\n",
            "INFO:tensorflow:Dequeue next (1) batch(es) of data from outfeed.\n",
            "INFO:tensorflow:Enqueue next (1) batch(es) of data to infeed.\n",
            "INFO:tensorflow:Dequeue next (1) batch(es) of data from outfeed.\n",
            "INFO:tensorflow:Enqueue next (1) batch(es) of data to infeed.\n",
            "INFO:tensorflow:Dequeue next (1) batch(es) of data from outfeed.\n",
            "INFO:tensorflow:Enqueue next (1) batch(es) of data to infeed.\n",
            "INFO:tensorflow:Dequeue next (1) batch(es) of data from outfeed.\n",
            "INFO:tensorflow:Enqueue next (1) batch(es) of data to infeed.\n",
            "INFO:tensorflow:Dequeue next (1) batch(es) of data from outfeed.\n",
            "INFO:tensorflow:Enqueue next (1) batch(es) of data to infeed.\n",
            "INFO:tensorflow:Dequeue next (1) batch(es) of data from outfeed.\n",
            "INFO:tensorflow:Enqueue next (1) batch(es) of data to infeed.\n",
            "INFO:tensorflow:Dequeue next (1) batch(es) of data from outfeed.\n",
            "INFO:tensorflow:Enqueue next (1) batch(es) of data to infeed.\n",
            "INFO:tensorflow:Dequeue next (1) batch(es) of data from outfeed.\n",
            "INFO:tensorflow:Enqueue next (1) batch(es) of data to infeed.\n",
            "INFO:tensorflow:Dequeue next (1) batch(es) of data from outfeed.\n",
            "INFO:tensorflow:Enqueue next (1) batch(es) of data to infeed.\n",
            "INFO:tensorflow:Dequeue next (1) batch(es) of data from outfeed.\n",
            "INFO:tensorflow:Enqueue next (1) batch(es) of data to infeed.\n",
            "INFO:tensorflow:Dequeue next (1) batch(es) of data from outfeed.\n",
            "INFO:tensorflow:Enqueue next (1) batch(es) of data to infeed.\n",
            "INFO:tensorflow:Dequeue next (1) batch(es) of data from outfeed.\n",
            "INFO:tensorflow:Enqueue next (1) batch(es) of data to infeed.\n",
            "INFO:tensorflow:Dequeue next (1) batch(es) of data from outfeed.\n",
            "INFO:tensorflow:Enqueue next (1) batch(es) of data to infeed.\n",
            "INFO:tensorflow:Dequeue next (1) batch(es) of data from outfeed.\n",
            "INFO:tensorflow:Enqueue next (1) batch(es) of data to infeed.\n",
            "INFO:tensorflow:Dequeue next (1) batch(es) of data from outfeed.\n",
            "INFO:tensorflow:Enqueue next (1) batch(es) of data to infeed.\n",
            "INFO:tensorflow:Dequeue next (1) batch(es) of data from outfeed.\n",
            "INFO:tensorflow:Enqueue next (1) batch(es) of data to infeed.\n",
            "INFO:tensorflow:Dequeue next (1) batch(es) of data from outfeed.\n",
            "INFO:tensorflow:Enqueue next (1) batch(es) of data to infeed.\n",
            "INFO:tensorflow:Dequeue next (1) batch(es) of data from outfeed.\n",
            "INFO:tensorflow:Enqueue next (1) batch(es) of data to infeed.\n",
            "INFO:tensorflow:Dequeue next (1) batch(es) of data from outfeed.\n",
            "INFO:tensorflow:Enqueue next (1) batch(es) of data to infeed.\n",
            "INFO:tensorflow:Dequeue next (1) batch(es) of data from outfeed.\n",
            "INFO:tensorflow:Enqueue next (1) batch(es) of data to infeed.\n",
            "INFO:tensorflow:Dequeue next (1) batch(es) of data from outfeed.\n",
            "INFO:tensorflow:Enqueue next (1) batch(es) of data to infeed.\n",
            "INFO:tensorflow:Dequeue next (1) batch(es) of data from outfeed.\n",
            "INFO:tensorflow:Enqueue next (1) batch(es) of data to infeed.\n",
            "INFO:tensorflow:Dequeue next (1) batch(es) of data from outfeed.\n",
            "INFO:tensorflow:Enqueue next (1) batch(es) of data to infeed.\n",
            "INFO:tensorflow:Dequeue next (1) batch(es) of data from outfeed.\n",
            "INFO:tensorflow:Enqueue next (1) batch(es) of data to infeed.\n",
            "INFO:tensorflow:Dequeue next (1) batch(es) of data from outfeed.\n",
            "INFO:tensorflow:Enqueue next (1) batch(es) of data to infeed.\n",
            "INFO:tensorflow:Dequeue next (1) batch(es) of data from outfeed.\n",
            "INFO:tensorflow:Enqueue next (1) batch(es) of data to infeed.\n",
            "INFO:tensorflow:Dequeue next (1) batch(es) of data from outfeed.\n",
            "INFO:tensorflow:Enqueue next (1) batch(es) of data to infeed.\n",
            "INFO:tensorflow:Dequeue next (1) batch(es) of data from outfeed.\n",
            "INFO:tensorflow:Enqueue next (1) batch(es) of data to infeed.\n",
            "INFO:tensorflow:Dequeue next (1) batch(es) of data from outfeed.\n",
            "INFO:tensorflow:Enqueue next (1) batch(es) of data to infeed.\n",
            "INFO:tensorflow:Dequeue next (1) batch(es) of data from outfeed.\n",
            "INFO:tensorflow:Enqueue next (1) batch(es) of data to infeed.\n",
            "INFO:tensorflow:Dequeue next (1) batch(es) of data from outfeed.\n",
            "INFO:tensorflow:Enqueue next (1) batch(es) of data to infeed.\n",
            "INFO:tensorflow:Dequeue next (1) batch(es) of data from outfeed.\n",
            "INFO:tensorflow:Enqueue next (1) batch(es) of data to infeed.\n",
            "INFO:tensorflow:Dequeue next (1) batch(es) of data from outfeed.\n",
            "INFO:tensorflow:Enqueue next (1) batch(es) of data to infeed.\n",
            "INFO:tensorflow:Dequeue next (1) batch(es) of data from outfeed.\n",
            "INFO:tensorflow:Enqueue next (1) batch(es) of data to infeed.\n",
            "INFO:tensorflow:Dequeue next (1) batch(es) of data from outfeed.\n",
            "INFO:tensorflow:Enqueue next (1) batch(es) of data to infeed.\n",
            "INFO:tensorflow:Dequeue next (1) batch(es) of data from outfeed.\n",
            "INFO:tensorflow:Enqueue next (1) batch(es) of data to infeed.\n",
            "INFO:tensorflow:Dequeue next (1) batch(es) of data from outfeed.\n",
            "INFO:tensorflow:Enqueue next (1) batch(es) of data to infeed.\n",
            "INFO:tensorflow:Dequeue next (1) batch(es) of data from outfeed.\n",
            "INFO:tensorflow:Enqueue next (1) batch(es) of data to infeed.\n",
            "INFO:tensorflow:Dequeue next (1) batch(es) of data from outfeed.\n",
            "INFO:tensorflow:Enqueue next (1) batch(es) of data to infeed.\n",
            "INFO:tensorflow:Dequeue next (1) batch(es) of data from outfeed.\n",
            "INFO:tensorflow:Enqueue next (1) batch(es) of data to infeed.\n",
            "INFO:tensorflow:Dequeue next (1) batch(es) of data from outfeed.\n",
            "INFO:tensorflow:Enqueue next (1) batch(es) of data to infeed.\n",
            "INFO:tensorflow:Dequeue next (1) batch(es) of data from outfeed.\n",
            "INFO:tensorflow:Enqueue next (1) batch(es) of data to infeed.\n",
            "INFO:tensorflow:Dequeue next (1) batch(es) of data from outfeed.\n",
            "INFO:tensorflow:Enqueue next (1) batch(es) of data to infeed.\n",
            "INFO:tensorflow:Dequeue next (1) batch(es) of data from outfeed.\n",
            "INFO:tensorflow:Enqueue next (1) batch(es) of data to infeed.\n",
            "INFO:tensorflow:Dequeue next (1) batch(es) of data from outfeed.\n",
            "INFO:tensorflow:Enqueue next (1) batch(es) of data to infeed.\n",
            "INFO:tensorflow:Dequeue next (1) batch(es) of data from outfeed.\n",
            "INFO:tensorflow:Enqueue next (1) batch(es) of data to infeed.\n",
            "INFO:tensorflow:Dequeue next (1) batch(es) of data from outfeed.\n",
            "INFO:tensorflow:Enqueue next (1) batch(es) of data to infeed.\n",
            "INFO:tensorflow:Dequeue next (1) batch(es) of data from outfeed.\n",
            "INFO:tensorflow:Enqueue next (1) batch(es) of data to infeed.\n",
            "INFO:tensorflow:Dequeue next (1) batch(es) of data from outfeed.\n",
            "INFO:tensorflow:Enqueue next (1) batch(es) of data to infeed.\n",
            "INFO:tensorflow:Dequeue next (1) batch(es) of data from outfeed.\n",
            "INFO:tensorflow:Enqueue next (1) batch(es) of data to infeed.\n",
            "INFO:tensorflow:Dequeue next (1) batch(es) of data from outfeed.\n",
            "INFO:tensorflow:Enqueue next (1) batch(es) of data to infeed.\n",
            "INFO:tensorflow:Dequeue next (1) batch(es) of data from outfeed.\n",
            "INFO:tensorflow:Enqueue next (1) batch(es) of data to infeed.\n",
            "INFO:tensorflow:Dequeue next (1) batch(es) of data from outfeed.\n",
            "INFO:tensorflow:Enqueue next (1) batch(es) of data to infeed.\n",
            "INFO:tensorflow:Dequeue next (1) batch(es) of data from outfeed.\n",
            "INFO:tensorflow:Enqueue next (1) batch(es) of data to infeed.\n",
            "INFO:tensorflow:Dequeue next (1) batch(es) of data from outfeed.\n",
            "INFO:tensorflow:Enqueue next (1) batch(es) of data to infeed.\n",
            "INFO:tensorflow:Dequeue next (1) batch(es) of data from outfeed.\n",
            "INFO:tensorflow:Enqueue next (1) batch(es) of data to infeed.\n",
            "INFO:tensorflow:Dequeue next (1) batch(es) of data from outfeed.\n",
            "INFO:tensorflow:Enqueue next (1) batch(es) of data to infeed.\n",
            "INFO:tensorflow:Dequeue next (1) batch(es) of data from outfeed.\n",
            "INFO:tensorflow:Enqueue next (1) batch(es) of data to infeed.\n",
            "INFO:tensorflow:Dequeue next (1) batch(es) of data from outfeed.\n",
            "INFO:tensorflow:Enqueue next (1) batch(es) of data to infeed.\n",
            "INFO:tensorflow:Dequeue next (1) batch(es) of data from outfeed.\n",
            "INFO:tensorflow:Enqueue next (1) batch(es) of data to infeed.\n",
            "INFO:tensorflow:Dequeue next (1) batch(es) of data from outfeed.\n",
            "INFO:tensorflow:Enqueue next (1) batch(es) of data to infeed.\n",
            "INFO:tensorflow:Dequeue next (1) batch(es) of data from outfeed.\n",
            "INFO:tensorflow:Enqueue next (1) batch(es) of data to infeed.\n",
            "INFO:tensorflow:Dequeue next (1) batch(es) of data from outfeed.\n",
            "INFO:tensorflow:Enqueue next (1) batch(es) of data to infeed.\n",
            "INFO:tensorflow:Dequeue next (1) batch(es) of data from outfeed.\n",
            "INFO:tensorflow:Enqueue next (1) batch(es) of data to infeed.\n",
            "INFO:tensorflow:Dequeue next (1) batch(es) of data from outfeed.\n",
            "INFO:tensorflow:Enqueue next (1) batch(es) of data to infeed.\n",
            "INFO:tensorflow:Dequeue next (1) batch(es) of data from outfeed.\n",
            "INFO:tensorflow:Enqueue next (1) batch(es) of data to infeed.\n",
            "INFO:tensorflow:Dequeue next (1) batch(es) of data from outfeed.\n",
            "INFO:tensorflow:Enqueue next (1) batch(es) of data to infeed.\n",
            "INFO:tensorflow:Dequeue next (1) batch(es) of data from outfeed.\n",
            "INFO:tensorflow:Enqueue next (1) batch(es) of data to infeed.\n",
            "INFO:tensorflow:Dequeue next (1) batch(es) of data from outfeed.\n",
            "INFO:tensorflow:Enqueue next (1) batch(es) of data to infeed.\n",
            "INFO:tensorflow:Dequeue next (1) batch(es) of data from outfeed.\n",
            "INFO:tensorflow:Enqueue next (1) batch(es) of data to infeed.\n",
            "INFO:tensorflow:Dequeue next (1) batch(es) of data from outfeed.\n",
            "INFO:tensorflow:Enqueue next (1) batch(es) of data to infeed.\n",
            "INFO:tensorflow:Dequeue next (1) batch(es) of data from outfeed.\n",
            "INFO:tensorflow:Enqueue next (1) batch(es) of data to infeed.\n",
            "INFO:tensorflow:Dequeue next (1) batch(es) of data from outfeed.\n",
            "INFO:tensorflow:Enqueue next (1) batch(es) of data to infeed.\n",
            "INFO:tensorflow:Dequeue next (1) batch(es) of data from outfeed.\n",
            "INFO:tensorflow:Enqueue next (1) batch(es) of data to infeed.\n",
            "INFO:tensorflow:Dequeue next (1) batch(es) of data from outfeed.\n",
            "INFO:tensorflow:Enqueue next (1) batch(es) of data to infeed.\n",
            "INFO:tensorflow:Dequeue next (1) batch(es) of data from outfeed.\n",
            "INFO:tensorflow:Enqueue next (1) batch(es) of data to infeed.\n",
            "INFO:tensorflow:Dequeue next (1) batch(es) of data from outfeed.\n",
            "INFO:tensorflow:Enqueue next (1) batch(es) of data to infeed.\n",
            "INFO:tensorflow:Dequeue next (1) batch(es) of data from outfeed.\n",
            "INFO:tensorflow:Enqueue next (1) batch(es) of data to infeed.\n",
            "INFO:tensorflow:Dequeue next (1) batch(es) of data from outfeed.\n",
            "INFO:tensorflow:Enqueue next (1) batch(es) of data to infeed.\n",
            "INFO:tensorflow:Dequeue next (1) batch(es) of data from outfeed.\n",
            "INFO:tensorflow:Enqueue next (1) batch(es) of data to infeed.\n",
            "INFO:tensorflow:Dequeue next (1) batch(es) of data from outfeed.\n",
            "INFO:tensorflow:Enqueue next (1) batch(es) of data to infeed.\n",
            "INFO:tensorflow:Dequeue next (1) batch(es) of data from outfeed.\n",
            "INFO:tensorflow:Enqueue next (1) batch(es) of data to infeed.\n",
            "INFO:tensorflow:Dequeue next (1) batch(es) of data from outfeed.\n",
            "INFO:tensorflow:Enqueue next (1) batch(es) of data to infeed.\n",
            "INFO:tensorflow:Dequeue next (1) batch(es) of data from outfeed.\n",
            "INFO:tensorflow:Enqueue next (1) batch(es) of data to infeed.\n",
            "INFO:tensorflow:Dequeue next (1) batch(es) of data from outfeed.\n",
            "INFO:tensorflow:Enqueue next (1) batch(es) of data to infeed.\n",
            "INFO:tensorflow:Dequeue next (1) batch(es) of data from outfeed.\n",
            "INFO:tensorflow:Enqueue next (1) batch(es) of data to infeed.\n",
            "INFO:tensorflow:Dequeue next (1) batch(es) of data from outfeed.\n",
            "INFO:tensorflow:Enqueue next (1) batch(es) of data to infeed.\n",
            "INFO:tensorflow:Dequeue next (1) batch(es) of data from outfeed.\n",
            "INFO:tensorflow:Enqueue next (1) batch(es) of data to infeed.\n",
            "INFO:tensorflow:Dequeue next (1) batch(es) of data from outfeed.\n",
            "INFO:tensorflow:Enqueue next (1) batch(es) of data to infeed.\n",
            "INFO:tensorflow:Dequeue next (1) batch(es) of data from outfeed.\n",
            "INFO:tensorflow:Enqueue next (1) batch(es) of data to infeed.\n",
            "INFO:tensorflow:Dequeue next (1) batch(es) of data from outfeed.\n",
            "INFO:tensorflow:Enqueue next (1) batch(es) of data to infeed.\n",
            "INFO:tensorflow:Dequeue next (1) batch(es) of data from outfeed.\n",
            "INFO:tensorflow:Enqueue next (1) batch(es) of data to infeed.\n",
            "INFO:tensorflow:Dequeue next (1) batch(es) of data from outfeed.\n",
            "INFO:tensorflow:Enqueue next (1) batch(es) of data to infeed.\n",
            "INFO:tensorflow:Dequeue next (1) batch(es) of data from outfeed.\n",
            "INFO:tensorflow:Enqueue next (1) batch(es) of data to infeed.\n",
            "INFO:tensorflow:Dequeue next (1) batch(es) of data from outfeed.\n",
            "INFO:tensorflow:Enqueue next (1) batch(es) of data to infeed.\n",
            "INFO:tensorflow:Dequeue next (1) batch(es) of data from outfeed.\n",
            "INFO:tensorflow:Enqueue next (1) batch(es) of data to infeed.\n",
            "INFO:tensorflow:Dequeue next (1) batch(es) of data from outfeed.\n",
            "INFO:tensorflow:Enqueue next (1) batch(es) of data to infeed.\n",
            "INFO:tensorflow:Dequeue next (1) batch(es) of data from outfeed.\n",
            "INFO:tensorflow:Enqueue next (1) batch(es) of data to infeed.\n",
            "INFO:tensorflow:Dequeue next (1) batch(es) of data from outfeed.\n",
            "INFO:tensorflow:Enqueue next (1) batch(es) of data to infeed.\n",
            "INFO:tensorflow:Dequeue next (1) batch(es) of data from outfeed.\n",
            "INFO:tensorflow:Enqueue next (1) batch(es) of data to infeed.\n",
            "INFO:tensorflow:Dequeue next (1) batch(es) of data from outfeed.\n",
            "INFO:tensorflow:Enqueue next (1) batch(es) of data to infeed.\n",
            "INFO:tensorflow:Dequeue next (1) batch(es) of data from outfeed.\n",
            "INFO:tensorflow:Enqueue next (1) batch(es) of data to infeed.\n",
            "INFO:tensorflow:Dequeue next (1) batch(es) of data from outfeed.\n",
            "INFO:tensorflow:Enqueue next (1) batch(es) of data to infeed.\n",
            "INFO:tensorflow:Dequeue next (1) batch(es) of data from outfeed.\n",
            "INFO:tensorflow:Enqueue next (1) batch(es) of data to infeed.\n",
            "INFO:tensorflow:Dequeue next (1) batch(es) of data from outfeed.\n",
            "INFO:tensorflow:Enqueue next (1) batch(es) of data to infeed.\n",
            "INFO:tensorflow:Dequeue next (1) batch(es) of data from outfeed.\n",
            "INFO:tensorflow:Enqueue next (1) batch(es) of data to infeed.\n",
            "INFO:tensorflow:Dequeue next (1) batch(es) of data from outfeed.\n",
            "INFO:tensorflow:Enqueue next (1) batch(es) of data to infeed.\n",
            "INFO:tensorflow:Dequeue next (1) batch(es) of data from outfeed.\n",
            "INFO:tensorflow:Enqueue next (1) batch(es) of data to infeed.\n",
            "INFO:tensorflow:Dequeue next (1) batch(es) of data from outfeed.\n",
            "INFO:tensorflow:Enqueue next (1) batch(es) of data to infeed.\n",
            "INFO:tensorflow:Dequeue next (1) batch(es) of data from outfeed.\n",
            "INFO:tensorflow:Enqueue next (1) batch(es) of data to infeed.\n",
            "INFO:tensorflow:Dequeue next (1) batch(es) of data from outfeed.\n",
            "INFO:tensorflow:Enqueue next (1) batch(es) of data to infeed.\n",
            "INFO:tensorflow:Dequeue next (1) batch(es) of data from outfeed.\n",
            "INFO:tensorflow:Enqueue next (1) batch(es) of data to infeed.\n",
            "INFO:tensorflow:Dequeue next (1) batch(es) of data from outfeed.\n",
            "INFO:tensorflow:Enqueue next (1) batch(es) of data to infeed.\n",
            "INFO:tensorflow:Dequeue next (1) batch(es) of data from outfeed.\n",
            "INFO:tensorflow:Enqueue next (1) batch(es) of data to infeed.\n",
            "INFO:tensorflow:Dequeue next (1) batch(es) of data from outfeed.\n",
            "INFO:tensorflow:Enqueue next (1) batch(es) of data to infeed.\n",
            "INFO:tensorflow:Dequeue next (1) batch(es) of data from outfeed.\n",
            "INFO:tensorflow:Enqueue next (1) batch(es) of data to infeed.\n",
            "INFO:tensorflow:Dequeue next (1) batch(es) of data from outfeed.\n",
            "INFO:tensorflow:Enqueue next (1) batch(es) of data to infeed.\n",
            "INFO:tensorflow:Dequeue next (1) batch(es) of data from outfeed.\n",
            "INFO:tensorflow:Enqueue next (1) batch(es) of data to infeed.\n",
            "INFO:tensorflow:Dequeue next (1) batch(es) of data from outfeed.\n",
            "INFO:tensorflow:Enqueue next (1) batch(es) of data to infeed.\n",
            "INFO:tensorflow:Dequeue next (1) batch(es) of data from outfeed.\n",
            "INFO:tensorflow:Enqueue next (1) batch(es) of data to infeed.\n",
            "INFO:tensorflow:Dequeue next (1) batch(es) of data from outfeed.\n",
            "INFO:tensorflow:Enqueue next (1) batch(es) of data to infeed.\n",
            "INFO:tensorflow:Dequeue next (1) batch(es) of data from outfeed.\n",
            "INFO:tensorflow:Enqueue next (1) batch(es) of data to infeed.\n",
            "INFO:tensorflow:Dequeue next (1) batch(es) of data from outfeed.\n",
            "INFO:tensorflow:Enqueue next (1) batch(es) of data to infeed.\n",
            "INFO:tensorflow:Dequeue next (1) batch(es) of data from outfeed.\n",
            "INFO:tensorflow:Enqueue next (1) batch(es) of data to infeed.\n",
            "INFO:tensorflow:Dequeue next (1) batch(es) of data from outfeed.\n",
            "INFO:tensorflow:Enqueue next (1) batch(es) of data to infeed.\n",
            "INFO:tensorflow:Dequeue next (1) batch(es) of data from outfeed.\n",
            "INFO:tensorflow:Enqueue next (1) batch(es) of data to infeed.\n",
            "INFO:tensorflow:Dequeue next (1) batch(es) of data from outfeed.\n",
            "INFO:tensorflow:Enqueue next (1) batch(es) of data to infeed.\n",
            "INFO:tensorflow:Dequeue next (1) batch(es) of data from outfeed.\n",
            "INFO:tensorflow:Enqueue next (1) batch(es) of data to infeed.\n",
            "INFO:tensorflow:Dequeue next (1) batch(es) of data from outfeed.\n",
            "INFO:tensorflow:Enqueue next (1) batch(es) of data to infeed.\n",
            "INFO:tensorflow:Dequeue next (1) batch(es) of data from outfeed.\n",
            "INFO:tensorflow:Enqueue next (1) batch(es) of data to infeed.\n",
            "INFO:tensorflow:Dequeue next (1) batch(es) of data from outfeed.\n",
            "INFO:tensorflow:Enqueue next (1) batch(es) of data to infeed.\n",
            "INFO:tensorflow:Dequeue next (1) batch(es) of data from outfeed.\n",
            "INFO:tensorflow:Enqueue next (1) batch(es) of data to infeed.\n",
            "INFO:tensorflow:Dequeue next (1) batch(es) of data from outfeed.\n",
            "INFO:tensorflow:Enqueue next (1) batch(es) of data to infeed.\n",
            "INFO:tensorflow:Dequeue next (1) batch(es) of data from outfeed.\n",
            "INFO:tensorflow:Enqueue next (1) batch(es) of data to infeed.\n",
            "INFO:tensorflow:Dequeue next (1) batch(es) of data from outfeed.\n",
            "INFO:tensorflow:Enqueue next (1) batch(es) of data to infeed.\n",
            "INFO:tensorflow:Dequeue next (1) batch(es) of data from outfeed.\n",
            "INFO:tensorflow:Enqueue next (1) batch(es) of data to infeed.\n",
            "INFO:tensorflow:Dequeue next (1) batch(es) of data from outfeed.\n",
            "INFO:tensorflow:Enqueue next (1) batch(es) of data to infeed.\n",
            "INFO:tensorflow:Dequeue next (1) batch(es) of data from outfeed.\n",
            "INFO:tensorflow:Enqueue next (1) batch(es) of data to infeed.\n",
            "INFO:tensorflow:Dequeue next (1) batch(es) of data from outfeed.\n",
            "INFO:tensorflow:Enqueue next (1) batch(es) of data to infeed.\n",
            "INFO:tensorflow:Dequeue next (1) batch(es) of data from outfeed.\n",
            "INFO:tensorflow:Enqueue next (1) batch(es) of data to infeed.\n",
            "INFO:tensorflow:Dequeue next (1) batch(es) of data from outfeed.\n",
            "INFO:tensorflow:Enqueue next (1) batch(es) of data to infeed.\n",
            "INFO:tensorflow:Dequeue next (1) batch(es) of data from outfeed.\n",
            "INFO:tensorflow:Enqueue next (1) batch(es) of data to infeed.\n",
            "INFO:tensorflow:Dequeue next (1) batch(es) of data from outfeed.\n",
            "INFO:tensorflow:Enqueue next (1) batch(es) of data to infeed.\n",
            "INFO:tensorflow:Dequeue next (1) batch(es) of data from outfeed.\n",
            "INFO:tensorflow:Enqueue next (1) batch(es) of data to infeed.\n",
            "INFO:tensorflow:Dequeue next (1) batch(es) of data from outfeed.\n",
            "INFO:tensorflow:Enqueue next (1) batch(es) of data to infeed.\n",
            "INFO:tensorflow:Dequeue next (1) batch(es) of data from outfeed.\n",
            "INFO:tensorflow:Enqueue next (1) batch(es) of data to infeed.\n",
            "INFO:tensorflow:Dequeue next (1) batch(es) of data from outfeed.\n",
            "INFO:tensorflow:Enqueue next (1) batch(es) of data to infeed.\n",
            "INFO:tensorflow:Dequeue next (1) batch(es) of data from outfeed.\n",
            "INFO:tensorflow:Enqueue next (1) batch(es) of data to infeed.\n",
            "INFO:tensorflow:Dequeue next (1) batch(es) of data from outfeed.\n",
            "INFO:tensorflow:Enqueue next (1) batch(es) of data to infeed.\n",
            "INFO:tensorflow:Dequeue next (1) batch(es) of data from outfeed.\n",
            "INFO:tensorflow:Enqueue next (1) batch(es) of data to infeed.\n",
            "INFO:tensorflow:Dequeue next (1) batch(es) of data from outfeed.\n",
            "INFO:tensorflow:Enqueue next (1) batch(es) of data to infeed.\n",
            "INFO:tensorflow:Dequeue next (1) batch(es) of data from outfeed.\n",
            "INFO:tensorflow:Enqueue next (1) batch(es) of data to infeed.\n",
            "INFO:tensorflow:Dequeue next (1) batch(es) of data from outfeed.\n",
            "INFO:tensorflow:Enqueue next (1) batch(es) of data to infeed.\n",
            "INFO:tensorflow:Dequeue next (1) batch(es) of data from outfeed.\n",
            "INFO:tensorflow:Enqueue next (1) batch(es) of data to infeed.\n",
            "INFO:tensorflow:Dequeue next (1) batch(es) of data from outfeed.\n",
            "INFO:tensorflow:Enqueue next (1) batch(es) of data to infeed.\n",
            "INFO:tensorflow:Dequeue next (1) batch(es) of data from outfeed.\n",
            "INFO:tensorflow:Enqueue next (1) batch(es) of data to infeed.\n",
            "INFO:tensorflow:Dequeue next (1) batch(es) of data from outfeed.\n",
            "INFO:tensorflow:Enqueue next (1) batch(es) of data to infeed.\n",
            "INFO:tensorflow:Dequeue next (1) batch(es) of data from outfeed.\n",
            "INFO:tensorflow:Enqueue next (1) batch(es) of data to infeed.\n",
            "INFO:tensorflow:Dequeue next (1) batch(es) of data from outfeed.\n",
            "INFO:tensorflow:Enqueue next (1) batch(es) of data to infeed.\n",
            "INFO:tensorflow:Dequeue next (1) batch(es) of data from outfeed.\n",
            "INFO:tensorflow:Enqueue next (1) batch(es) of data to infeed.\n",
            "INFO:tensorflow:Dequeue next (1) batch(es) of data from outfeed.\n",
            "INFO:tensorflow:Enqueue next (1) batch(es) of data to infeed.\n",
            "INFO:tensorflow:Dequeue next (1) batch(es) of data from outfeed.\n",
            "INFO:tensorflow:Enqueue next (1) batch(es) of data to infeed.\n",
            "INFO:tensorflow:Dequeue next (1) batch(es) of data from outfeed.\n",
            "INFO:tensorflow:Enqueue next (1) batch(es) of data to infeed.\n",
            "INFO:tensorflow:Dequeue next (1) batch(es) of data from outfeed.\n",
            "INFO:tensorflow:Enqueue next (1) batch(es) of data to infeed.\n",
            "INFO:tensorflow:Dequeue next (1) batch(es) of data from outfeed.\n",
            "INFO:tensorflow:Enqueue next (1) batch(es) of data to infeed.\n",
            "INFO:tensorflow:Dequeue next (1) batch(es) of data from outfeed.\n",
            "INFO:tensorflow:Enqueue next (1) batch(es) of data to infeed.\n",
            "INFO:tensorflow:Dequeue next (1) batch(es) of data from outfeed.\n",
            "INFO:tensorflow:Enqueue next (1) batch(es) of data to infeed.\n",
            "INFO:tensorflow:Dequeue next (1) batch(es) of data from outfeed.\n",
            "INFO:tensorflow:Enqueue next (1) batch(es) of data to infeed.\n",
            "INFO:tensorflow:Dequeue next (1) batch(es) of data from outfeed.\n",
            "INFO:tensorflow:Enqueue next (1) batch(es) of data to infeed.\n",
            "INFO:tensorflow:Dequeue next (1) batch(es) of data from outfeed.\n",
            "INFO:tensorflow:Enqueue next (1) batch(es) of data to infeed.\n",
            "INFO:tensorflow:Dequeue next (1) batch(es) of data from outfeed.\n",
            "INFO:tensorflow:Enqueue next (1) batch(es) of data to infeed.\n",
            "INFO:tensorflow:Dequeue next (1) batch(es) of data from outfeed.\n",
            "INFO:tensorflow:Enqueue next (1) batch(es) of data to infeed.\n",
            "INFO:tensorflow:Dequeue next (1) batch(es) of data from outfeed.\n",
            "INFO:tensorflow:Enqueue next (1) batch(es) of data to infeed.\n",
            "INFO:tensorflow:Dequeue next (1) batch(es) of data from outfeed.\n",
            "INFO:tensorflow:Enqueue next (1) batch(es) of data to infeed.\n",
            "INFO:tensorflow:Dequeue next (1) batch(es) of data from outfeed.\n",
            "INFO:tensorflow:Enqueue next (1) batch(es) of data to infeed.\n",
            "INFO:tensorflow:Dequeue next (1) batch(es) of data from outfeed.\n",
            "INFO:tensorflow:Enqueue next (1) batch(es) of data to infeed.\n",
            "INFO:tensorflow:Dequeue next (1) batch(es) of data from outfeed.\n",
            "INFO:tensorflow:Enqueue next (1) batch(es) of data to infeed.\n",
            "INFO:tensorflow:Dequeue next (1) batch(es) of data from outfeed.\n",
            "INFO:tensorflow:Enqueue next (1) batch(es) of data to infeed.\n",
            "INFO:tensorflow:Dequeue next (1) batch(es) of data from outfeed.\n",
            "INFO:tensorflow:Enqueue next (1) batch(es) of data to infeed.\n",
            "INFO:tensorflow:Dequeue next (1) batch(es) of data from outfeed.\n",
            "INFO:tensorflow:Enqueue next (1) batch(es) of data to infeed.\n",
            "INFO:tensorflow:Dequeue next (1) batch(es) of data from outfeed.\n",
            "INFO:tensorflow:Enqueue next (1) batch(es) of data to infeed.\n",
            "INFO:tensorflow:Dequeue next (1) batch(es) of data from outfeed.\n",
            "INFO:tensorflow:Enqueue next (1) batch(es) of data to infeed.\n",
            "INFO:tensorflow:Dequeue next (1) batch(es) of data from outfeed.\n",
            "INFO:tensorflow:Enqueue next (1) batch(es) of data to infeed.\n",
            "INFO:tensorflow:Dequeue next (1) batch(es) of data from outfeed.\n",
            "INFO:tensorflow:Enqueue next (1) batch(es) of data to infeed.\n",
            "INFO:tensorflow:Dequeue next (1) batch(es) of data from outfeed.\n",
            "INFO:tensorflow:Enqueue next (1) batch(es) of data to infeed.\n",
            "INFO:tensorflow:Dequeue next (1) batch(es) of data from outfeed.\n",
            "INFO:tensorflow:Enqueue next (1) batch(es) of data to infeed.\n",
            "INFO:tensorflow:Dequeue next (1) batch(es) of data from outfeed.\n",
            "INFO:tensorflow:Enqueue next (1) batch(es) of data to infeed.\n",
            "INFO:tensorflow:Dequeue next (1) batch(es) of data from outfeed.\n",
            "INFO:tensorflow:Enqueue next (1) batch(es) of data to infeed.\n",
            "INFO:tensorflow:Dequeue next (1) batch(es) of data from outfeed.\n",
            "INFO:tensorflow:Enqueue next (1) batch(es) of data to infeed.\n",
            "INFO:tensorflow:Dequeue next (1) batch(es) of data from outfeed.\n",
            "INFO:tensorflow:Enqueue next (1) batch(es) of data to infeed.\n",
            "INFO:tensorflow:Dequeue next (1) batch(es) of data from outfeed.\n",
            "INFO:tensorflow:Enqueue next (1) batch(es) of data to infeed.\n",
            "INFO:tensorflow:Dequeue next (1) batch(es) of data from outfeed.\n",
            "INFO:tensorflow:Enqueue next (1) batch(es) of data to infeed.\n",
            "INFO:tensorflow:Dequeue next (1) batch(es) of data from outfeed.\n",
            "INFO:tensorflow:Enqueue next (1) batch(es) of data to infeed.\n",
            "INFO:tensorflow:Dequeue next (1) batch(es) of data from outfeed.\n",
            "INFO:tensorflow:Enqueue next (1) batch(es) of data to infeed.\n",
            "INFO:tensorflow:Dequeue next (1) batch(es) of data from outfeed.\n",
            "INFO:tensorflow:Enqueue next (1) batch(es) of data to infeed.\n",
            "INFO:tensorflow:Dequeue next (1) batch(es) of data from outfeed.\n",
            "INFO:tensorflow:Enqueue next (1) batch(es) of data to infeed.\n",
            "INFO:tensorflow:Dequeue next (1) batch(es) of data from outfeed.\n",
            "INFO:tensorflow:Enqueue next (1) batch(es) of data to infeed.\n",
            "INFO:tensorflow:Dequeue next (1) batch(es) of data from outfeed.\n",
            "INFO:tensorflow:Enqueue next (1) batch(es) of data to infeed.\n",
            "INFO:tensorflow:Dequeue next (1) batch(es) of data from outfeed.\n",
            "INFO:tensorflow:Enqueue next (1) batch(es) of data to infeed.\n",
            "INFO:tensorflow:Dequeue next (1) batch(es) of data from outfeed.\n",
            "INFO:tensorflow:Enqueue next (1) batch(es) of data to infeed.\n",
            "INFO:tensorflow:Dequeue next (1) batch(es) of data from outfeed.\n",
            "INFO:tensorflow:Enqueue next (1) batch(es) of data to infeed.\n",
            "INFO:tensorflow:Dequeue next (1) batch(es) of data from outfeed.\n",
            "INFO:tensorflow:Enqueue next (1) batch(es) of data to infeed.\n",
            "INFO:tensorflow:Dequeue next (1) batch(es) of data from outfeed.\n",
            "INFO:tensorflow:Enqueue next (1) batch(es) of data to infeed.\n",
            "INFO:tensorflow:Dequeue next (1) batch(es) of data from outfeed.\n",
            "INFO:tensorflow:Enqueue next (1) batch(es) of data to infeed.\n",
            "INFO:tensorflow:Dequeue next (1) batch(es) of data from outfeed.\n",
            "INFO:tensorflow:Enqueue next (1) batch(es) of data to infeed.\n",
            "INFO:tensorflow:Dequeue next (1) batch(es) of data from outfeed.\n",
            "INFO:tensorflow:Enqueue next (1) batch(es) of data to infeed.\n",
            "INFO:tensorflow:Dequeue next (1) batch(es) of data from outfeed.\n",
            "INFO:tensorflow:Enqueue next (1) batch(es) of data to infeed.\n",
            "INFO:tensorflow:Dequeue next (1) batch(es) of data from outfeed.\n",
            "INFO:tensorflow:Enqueue next (1) batch(es) of data to infeed.\n",
            "INFO:tensorflow:Dequeue next (1) batch(es) of data from outfeed.\n",
            "INFO:tensorflow:Enqueue next (1) batch(es) of data to infeed.\n",
            "INFO:tensorflow:Dequeue next (1) batch(es) of data from outfeed.\n",
            "INFO:tensorflow:Enqueue next (1) batch(es) of data to infeed.\n",
            "INFO:tensorflow:Dequeue next (1) batch(es) of data from outfeed.\n",
            "INFO:tensorflow:Enqueue next (1) batch(es) of data to infeed.\n",
            "INFO:tensorflow:Dequeue next (1) batch(es) of data from outfeed.\n",
            "INFO:tensorflow:Enqueue next (1) batch(es) of data to infeed.\n",
            "INFO:tensorflow:Dequeue next (1) batch(es) of data from outfeed.\n",
            "INFO:tensorflow:Enqueue next (1) batch(es) of data to infeed.\n",
            "INFO:tensorflow:Dequeue next (1) batch(es) of data from outfeed.\n",
            "INFO:tensorflow:Enqueue next (1) batch(es) of data to infeed.\n",
            "INFO:tensorflow:Dequeue next (1) batch(es) of data from outfeed.\n",
            "INFO:tensorflow:Enqueue next (1) batch(es) of data to infeed.\n",
            "INFO:tensorflow:Dequeue next (1) batch(es) of data from outfeed.\n",
            "INFO:tensorflow:Enqueue next (1) batch(es) of data to infeed.\n",
            "INFO:tensorflow:Dequeue next (1) batch(es) of data from outfeed.\n",
            "INFO:tensorflow:Enqueue next (1) batch(es) of data to infeed.\n",
            "INFO:tensorflow:Dequeue next (1) batch(es) of data from outfeed.\n",
            "INFO:tensorflow:Enqueue next (1) batch(es) of data to infeed.\n",
            "INFO:tensorflow:Dequeue next (1) batch(es) of data from outfeed.\n",
            "INFO:tensorflow:Enqueue next (1) batch(es) of data to infeed.\n",
            "INFO:tensorflow:Dequeue next (1) batch(es) of data from outfeed.\n",
            "INFO:tensorflow:Enqueue next (1) batch(es) of data to infeed.\n",
            "INFO:tensorflow:Dequeue next (1) batch(es) of data from outfeed.\n",
            "INFO:tensorflow:Enqueue next (1) batch(es) of data to infeed.\n",
            "INFO:tensorflow:Dequeue next (1) batch(es) of data from outfeed.\n",
            "INFO:tensorflow:Enqueue next (1) batch(es) of data to infeed.\n",
            "INFO:tensorflow:Dequeue next (1) batch(es) of data from outfeed.\n",
            "INFO:tensorflow:Enqueue next (1) batch(es) of data to infeed.\n",
            "INFO:tensorflow:Dequeue next (1) batch(es) of data from outfeed.\n",
            "INFO:tensorflow:Enqueue next (1) batch(es) of data to infeed.\n",
            "INFO:tensorflow:Dequeue next (1) batch(es) of data from outfeed.\n",
            "INFO:tensorflow:Enqueue next (1) batch(es) of data to infeed.\n",
            "INFO:tensorflow:Dequeue next (1) batch(es) of data from outfeed.\n",
            "INFO:tensorflow:Enqueue next (1) batch(es) of data to infeed.\n",
            "INFO:tensorflow:Dequeue next (1) batch(es) of data from outfeed.\n",
            "INFO:tensorflow:Enqueue next (1) batch(es) of data to infeed.\n",
            "INFO:tensorflow:Dequeue next (1) batch(es) of data from outfeed.\n",
            "INFO:tensorflow:Enqueue next (1) batch(es) of data to infeed.\n",
            "INFO:tensorflow:Dequeue next (1) batch(es) of data from outfeed.\n",
            "INFO:tensorflow:Enqueue next (1) batch(es) of data to infeed.\n",
            "INFO:tensorflow:Dequeue next (1) batch(es) of data from outfeed.\n",
            "INFO:tensorflow:Enqueue next (1) batch(es) of data to infeed.\n",
            "INFO:tensorflow:Dequeue next (1) batch(es) of data from outfeed.\n",
            "INFO:tensorflow:Enqueue next (1) batch(es) of data to infeed.\n",
            "INFO:tensorflow:Dequeue next (1) batch(es) of data from outfeed.\n",
            "INFO:tensorflow:Enqueue next (1) batch(es) of data to infeed.\n",
            "INFO:tensorflow:Dequeue next (1) batch(es) of data from outfeed.\n",
            "INFO:tensorflow:Enqueue next (1) batch(es) of data to infeed.\n",
            "INFO:tensorflow:Dequeue next (1) batch(es) of data from outfeed.\n",
            "INFO:tensorflow:Enqueue next (1) batch(es) of data to infeed.\n",
            "INFO:tensorflow:Dequeue next (1) batch(es) of data from outfeed.\n",
            "INFO:tensorflow:Enqueue next (1) batch(es) of data to infeed.\n",
            "INFO:tensorflow:Dequeue next (1) batch(es) of data from outfeed.\n",
            "INFO:tensorflow:Enqueue next (1) batch(es) of data to infeed.\n",
            "INFO:tensorflow:Dequeue next (1) batch(es) of data from outfeed.\n",
            "INFO:tensorflow:Enqueue next (1) batch(es) of data to infeed.\n",
            "INFO:tensorflow:Dequeue next (1) batch(es) of data from outfeed.\n",
            "INFO:tensorflow:Enqueue next (1) batch(es) of data to infeed.\n",
            "INFO:tensorflow:Dequeue next (1) batch(es) of data from outfeed.\n",
            "INFO:tensorflow:Enqueue next (1) batch(es) of data to infeed.\n",
            "INFO:tensorflow:Dequeue next (1) batch(es) of data from outfeed.\n",
            "INFO:tensorflow:Enqueue next (1) batch(es) of data to infeed.\n",
            "INFO:tensorflow:Dequeue next (1) batch(es) of data from outfeed.\n",
            "INFO:tensorflow:Enqueue next (1) batch(es) of data to infeed.\n",
            "INFO:tensorflow:Dequeue next (1) batch(es) of data from outfeed.\n",
            "INFO:tensorflow:Enqueue next (1) batch(es) of data to infeed.\n",
            "INFO:tensorflow:Dequeue next (1) batch(es) of data from outfeed.\n",
            "INFO:tensorflow:Enqueue next (1) batch(es) of data to infeed.\n",
            "INFO:tensorflow:Dequeue next (1) batch(es) of data from outfeed.\n",
            "INFO:tensorflow:Enqueue next (1) batch(es) of data to infeed.\n",
            "INFO:tensorflow:Dequeue next (1) batch(es) of data from outfeed.\n",
            "INFO:tensorflow:Enqueue next (1) batch(es) of data to infeed.\n",
            "INFO:tensorflow:Dequeue next (1) batch(es) of data from outfeed.\n",
            "INFO:tensorflow:Enqueue next (1) batch(es) of data to infeed.\n",
            "INFO:tensorflow:Dequeue next (1) batch(es) of data from outfeed.\n",
            "INFO:tensorflow:Enqueue next (1) batch(es) of data to infeed.\n",
            "INFO:tensorflow:Dequeue next (1) batch(es) of data from outfeed.\n",
            "INFO:tensorflow:Enqueue next (1) batch(es) of data to infeed.\n",
            "INFO:tensorflow:Dequeue next (1) batch(es) of data from outfeed.\n",
            "INFO:tensorflow:Enqueue next (1) batch(es) of data to infeed.\n",
            "INFO:tensorflow:Dequeue next (1) batch(es) of data from outfeed.\n",
            "INFO:tensorflow:Enqueue next (1) batch(es) of data to infeed.\n",
            "INFO:tensorflow:Dequeue next (1) batch(es) of data from outfeed.\n",
            "INFO:tensorflow:Enqueue next (1) batch(es) of data to infeed.\n",
            "INFO:tensorflow:Dequeue next (1) batch(es) of data from outfeed.\n",
            "INFO:tensorflow:Enqueue next (1) batch(es) of data to infeed.\n",
            "INFO:tensorflow:Dequeue next (1) batch(es) of data from outfeed.\n",
            "INFO:tensorflow:Enqueue next (1) batch(es) of data to infeed.\n",
            "INFO:tensorflow:Dequeue next (1) batch(es) of data from outfeed.\n",
            "INFO:tensorflow:Enqueue next (1) batch(es) of data to infeed.\n",
            "INFO:tensorflow:Dequeue next (1) batch(es) of data from outfeed.\n",
            "INFO:tensorflow:Enqueue next (1) batch(es) of data to infeed.\n",
            "INFO:tensorflow:Dequeue next (1) batch(es) of data from outfeed.\n",
            "INFO:tensorflow:Enqueue next (1) batch(es) of data to infeed.\n",
            "INFO:tensorflow:Dequeue next (1) batch(es) of data from outfeed.\n",
            "INFO:tensorflow:Enqueue next (1) batch(es) of data to infeed.\n",
            "INFO:tensorflow:Dequeue next (1) batch(es) of data from outfeed.\n",
            "INFO:tensorflow:Enqueue next (1) batch(es) of data to infeed.\n",
            "INFO:tensorflow:Dequeue next (1) batch(es) of data from outfeed.\n",
            "INFO:tensorflow:Enqueue next (1) batch(es) of data to infeed.\n",
            "INFO:tensorflow:Dequeue next (1) batch(es) of data from outfeed.\n",
            "INFO:tensorflow:Enqueue next (1) batch(es) of data to infeed.\n",
            "INFO:tensorflow:Dequeue next (1) batch(es) of data from outfeed.\n",
            "INFO:tensorflow:Enqueue next (1) batch(es) of data to infeed.\n",
            "INFO:tensorflow:Dequeue next (1) batch(es) of data from outfeed.\n",
            "INFO:tensorflow:Enqueue next (1) batch(es) of data to infeed.\n",
            "INFO:tensorflow:Dequeue next (1) batch(es) of data from outfeed.\n",
            "INFO:tensorflow:Enqueue next (1) batch(es) of data to infeed.\n",
            "INFO:tensorflow:Dequeue next (1) batch(es) of data from outfeed.\n",
            "INFO:tensorflow:Enqueue next (1) batch(es) of data to infeed.\n",
            "INFO:tensorflow:Dequeue next (1) batch(es) of data from outfeed.\n",
            "INFO:tensorflow:Enqueue next (1) batch(es) of data to infeed.\n",
            "INFO:tensorflow:Dequeue next (1) batch(es) of data from outfeed.\n",
            "INFO:tensorflow:Enqueue next (1) batch(es) of data to infeed.\n",
            "INFO:tensorflow:Dequeue next (1) batch(es) of data from outfeed.\n",
            "INFO:tensorflow:Enqueue next (1) batch(es) of data to infeed.\n",
            "INFO:tensorflow:Dequeue next (1) batch(es) of data from outfeed.\n",
            "INFO:tensorflow:Enqueue next (1) batch(es) of data to infeed.\n",
            "INFO:tensorflow:Dequeue next (1) batch(es) of data from outfeed.\n",
            "INFO:tensorflow:Enqueue next (1) batch(es) of data to infeed.\n",
            "INFO:tensorflow:Dequeue next (1) batch(es) of data from outfeed.\n",
            "INFO:tensorflow:Enqueue next (1) batch(es) of data to infeed.\n",
            "INFO:tensorflow:Dequeue next (1) batch(es) of data from outfeed.\n",
            "INFO:tensorflow:Enqueue next (1) batch(es) of data to infeed.\n",
            "INFO:tensorflow:Dequeue next (1) batch(es) of data from outfeed.\n",
            "INFO:tensorflow:Enqueue next (1) batch(es) of data to infeed.\n",
            "INFO:tensorflow:Dequeue next (1) batch(es) of data from outfeed.\n",
            "INFO:tensorflow:Enqueue next (1) batch(es) of data to infeed.\n",
            "INFO:tensorflow:Dequeue next (1) batch(es) of data from outfeed.\n",
            "INFO:tensorflow:Enqueue next (1) batch(es) of data to infeed.\n",
            "INFO:tensorflow:Dequeue next (1) batch(es) of data from outfeed.\n",
            "INFO:tensorflow:Enqueue next (1) batch(es) of data to infeed.\n",
            "INFO:tensorflow:Dequeue next (1) batch(es) of data from outfeed.\n",
            "INFO:tensorflow:Enqueue next (1) batch(es) of data to infeed.\n",
            "INFO:tensorflow:Dequeue next (1) batch(es) of data from outfeed.\n",
            "INFO:tensorflow:Enqueue next (1) batch(es) of data to infeed.\n",
            "INFO:tensorflow:Dequeue next (1) batch(es) of data from outfeed.\n",
            "INFO:tensorflow:Enqueue next (1) batch(es) of data to infeed.\n",
            "INFO:tensorflow:Dequeue next (1) batch(es) of data from outfeed.\n",
            "INFO:tensorflow:Enqueue next (1) batch(es) of data to infeed.\n",
            "INFO:tensorflow:Dequeue next (1) batch(es) of data from outfeed.\n",
            "INFO:tensorflow:Enqueue next (1) batch(es) of data to infeed.\n",
            "INFO:tensorflow:Dequeue next (1) batch(es) of data from outfeed.\n",
            "INFO:tensorflow:Enqueue next (1) batch(es) of data to infeed.\n",
            "INFO:tensorflow:Dequeue next (1) batch(es) of data from outfeed.\n",
            "INFO:tensorflow:Enqueue next (1) batch(es) of data to infeed.\n",
            "INFO:tensorflow:Dequeue next (1) batch(es) of data from outfeed.\n",
            "INFO:tensorflow:Enqueue next (1) batch(es) of data to infeed.\n",
            "INFO:tensorflow:Dequeue next (1) batch(es) of data from outfeed.\n",
            "INFO:tensorflow:Enqueue next (1) batch(es) of data to infeed.\n",
            "INFO:tensorflow:Dequeue next (1) batch(es) of data from outfeed.\n",
            "INFO:tensorflow:Enqueue next (1) batch(es) of data to infeed.\n",
            "INFO:tensorflow:Dequeue next (1) batch(es) of data from outfeed.\n",
            "INFO:tensorflow:Enqueue next (1) batch(es) of data to infeed.\n",
            "INFO:tensorflow:Dequeue next (1) batch(es) of data from outfeed.\n",
            "INFO:tensorflow:Enqueue next (1) batch(es) of data to infeed.\n",
            "INFO:tensorflow:Dequeue next (1) batch(es) of data from outfeed.\n",
            "INFO:tensorflow:Enqueue next (1) batch(es) of data to infeed.\n",
            "INFO:tensorflow:Dequeue next (1) batch(es) of data from outfeed.\n",
            "INFO:tensorflow:Enqueue next (1) batch(es) of data to infeed.\n",
            "INFO:tensorflow:Dequeue next (1) batch(es) of data from outfeed.\n",
            "INFO:tensorflow:Enqueue next (1) batch(es) of data to infeed.\n",
            "INFO:tensorflow:Dequeue next (1) batch(es) of data from outfeed.\n",
            "INFO:tensorflow:Enqueue next (1) batch(es) of data to infeed.\n",
            "INFO:tensorflow:Dequeue next (1) batch(es) of data from outfeed.\n",
            "INFO:tensorflow:Enqueue next (1) batch(es) of data to infeed.\n",
            "INFO:tensorflow:Dequeue next (1) batch(es) of data from outfeed.\n",
            "INFO:tensorflow:Enqueue next (1) batch(es) of data to infeed.\n",
            "INFO:tensorflow:Dequeue next (1) batch(es) of data from outfeed.\n",
            "INFO:tensorflow:Enqueue next (1) batch(es) of data to infeed.\n",
            "INFO:tensorflow:Dequeue next (1) batch(es) of data from outfeed.\n",
            "INFO:tensorflow:Enqueue next (1) batch(es) of data to infeed.\n",
            "INFO:tensorflow:Dequeue next (1) batch(es) of data from outfeed.\n",
            "INFO:tensorflow:Enqueue next (1) batch(es) of data to infeed.\n",
            "INFO:tensorflow:Dequeue next (1) batch(es) of data from outfeed.\n",
            "INFO:tensorflow:Enqueue next (1) batch(es) of data to infeed.\n",
            "INFO:tensorflow:Dequeue next (1) batch(es) of data from outfeed.\n",
            "INFO:tensorflow:Enqueue next (1) batch(es) of data to infeed.\n",
            "INFO:tensorflow:Dequeue next (1) batch(es) of data from outfeed.\n",
            "INFO:tensorflow:Enqueue next (1) batch(es) of data to infeed.\n",
            "INFO:tensorflow:Dequeue next (1) batch(es) of data from outfeed.\n",
            "INFO:tensorflow:Enqueue next (1) batch(es) of data to infeed.\n",
            "INFO:tensorflow:Dequeue next (1) batch(es) of data from outfeed.\n",
            "INFO:tensorflow:Enqueue next (1) batch(es) of data to infeed.\n",
            "INFO:tensorflow:Dequeue next (1) batch(es) of data from outfeed.\n",
            "INFO:tensorflow:Enqueue next (1) batch(es) of data to infeed.\n",
            "INFO:tensorflow:Dequeue next (1) batch(es) of data from outfeed.\n",
            "INFO:tensorflow:Enqueue next (1) batch(es) of data to infeed.\n",
            "INFO:tensorflow:Dequeue next (1) batch(es) of data from outfeed.\n",
            "INFO:tensorflow:Enqueue next (1) batch(es) of data to infeed.\n",
            "INFO:tensorflow:Dequeue next (1) batch(es) of data from outfeed.\n",
            "INFO:tensorflow:Enqueue next (1) batch(es) of data to infeed.\n",
            "INFO:tensorflow:Dequeue next (1) batch(es) of data from outfeed.\n",
            "INFO:tensorflow:Enqueue next (1) batch(es) of data to infeed.\n",
            "INFO:tensorflow:Dequeue next (1) batch(es) of data from outfeed.\n",
            "INFO:tensorflow:Enqueue next (1) batch(es) of data to infeed.\n",
            "INFO:tensorflow:Dequeue next (1) batch(es) of data from outfeed.\n",
            "INFO:tensorflow:Enqueue next (1) batch(es) of data to infeed.\n",
            "INFO:tensorflow:Dequeue next (1) batch(es) of data from outfeed.\n",
            "INFO:tensorflow:Enqueue next (1) batch(es) of data to infeed.\n",
            "INFO:tensorflow:Dequeue next (1) batch(es) of data from outfeed.\n",
            "INFO:tensorflow:Enqueue next (1) batch(es) of data to infeed.\n",
            "INFO:tensorflow:Dequeue next (1) batch(es) of data from outfeed.\n",
            "INFO:tensorflow:Enqueue next (1) batch(es) of data to infeed.\n",
            "INFO:tensorflow:Dequeue next (1) batch(es) of data from outfeed.\n",
            "INFO:tensorflow:Enqueue next (1) batch(es) of data to infeed.\n",
            "INFO:tensorflow:Dequeue next (1) batch(es) of data from outfeed.\n",
            "INFO:tensorflow:Enqueue next (1) batch(es) of data to infeed.\n",
            "INFO:tensorflow:Dequeue next (1) batch(es) of data from outfeed.\n",
            "INFO:tensorflow:Enqueue next (1) batch(es) of data to infeed.\n",
            "INFO:tensorflow:Dequeue next (1) batch(es) of data from outfeed.\n",
            "INFO:tensorflow:Enqueue next (1) batch(es) of data to infeed.\n",
            "INFO:tensorflow:Dequeue next (1) batch(es) of data from outfeed.\n",
            "INFO:tensorflow:Enqueue next (1) batch(es) of data to infeed.\n",
            "INFO:tensorflow:Dequeue next (1) batch(es) of data from outfeed.\n",
            "INFO:tensorflow:Enqueue next (1) batch(es) of data to infeed.\n",
            "INFO:tensorflow:Dequeue next (1) batch(es) of data from outfeed.\n",
            "INFO:tensorflow:Enqueue next (1) batch(es) of data to infeed.\n",
            "INFO:tensorflow:Dequeue next (1) batch(es) of data from outfeed.\n",
            "INFO:tensorflow:Enqueue next (1) batch(es) of data to infeed.\n",
            "INFO:tensorflow:Dequeue next (1) batch(es) of data from outfeed.\n",
            "INFO:tensorflow:Enqueue next (1) batch(es) of data to infeed.\n",
            "INFO:tensorflow:Dequeue next (1) batch(es) of data from outfeed.\n",
            "INFO:tensorflow:Enqueue next (1) batch(es) of data to infeed.\n",
            "INFO:tensorflow:Dequeue next (1) batch(es) of data from outfeed.\n",
            "INFO:tensorflow:Enqueue next (1) batch(es) of data to infeed.\n",
            "INFO:tensorflow:Dequeue next (1) batch(es) of data from outfeed.\n",
            "INFO:tensorflow:Enqueue next (1) batch(es) of data to infeed.\n",
            "INFO:tensorflow:Dequeue next (1) batch(es) of data from outfeed.\n",
            "INFO:tensorflow:Enqueue next (1) batch(es) of data to infeed.\n",
            "INFO:tensorflow:Dequeue next (1) batch(es) of data from outfeed.\n",
            "INFO:tensorflow:Enqueue next (1) batch(es) of data to infeed.\n",
            "INFO:tensorflow:Dequeue next (1) batch(es) of data from outfeed.\n",
            "INFO:tensorflow:Enqueue next (1) batch(es) of data to infeed.\n",
            "INFO:tensorflow:Dequeue next (1) batch(es) of data from outfeed.\n",
            "INFO:tensorflow:Enqueue next (1) batch(es) of data to infeed.\n",
            "INFO:tensorflow:Dequeue next (1) batch(es) of data from outfeed.\n",
            "INFO:tensorflow:Enqueue next (1) batch(es) of data to infeed.\n",
            "INFO:tensorflow:Dequeue next (1) batch(es) of data from outfeed.\n",
            "INFO:tensorflow:Enqueue next (1) batch(es) of data to infeed.\n",
            "INFO:tensorflow:Dequeue next (1) batch(es) of data from outfeed.\n",
            "INFO:tensorflow:Enqueue next (1) batch(es) of data to infeed.\n",
            "INFO:tensorflow:Dequeue next (1) batch(es) of data from outfeed.\n",
            "INFO:tensorflow:Enqueue next (1) batch(es) of data to infeed.\n",
            "INFO:tensorflow:Dequeue next (1) batch(es) of data from outfeed.\n",
            "INFO:tensorflow:Enqueue next (1) batch(es) of data to infeed.\n",
            "INFO:tensorflow:Dequeue next (1) batch(es) of data from outfeed.\n",
            "INFO:tensorflow:Enqueue next (1) batch(es) of data to infeed.\n",
            "INFO:tensorflow:Dequeue next (1) batch(es) of data from outfeed.\n",
            "INFO:tensorflow:Enqueue next (1) batch(es) of data to infeed.\n",
            "INFO:tensorflow:Dequeue next (1) batch(es) of data from outfeed.\n",
            "INFO:tensorflow:Enqueue next (1) batch(es) of data to infeed.\n",
            "INFO:tensorflow:Dequeue next (1) batch(es) of data from outfeed.\n",
            "INFO:tensorflow:Enqueue next (1) batch(es) of data to infeed.\n",
            "INFO:tensorflow:Dequeue next (1) batch(es) of data from outfeed.\n",
            "INFO:tensorflow:Enqueue next (1) batch(es) of data to infeed.\n",
            "INFO:tensorflow:Dequeue next (1) batch(es) of data from outfeed.\n",
            "INFO:tensorflow:Enqueue next (1) batch(es) of data to infeed.\n",
            "INFO:tensorflow:Dequeue next (1) batch(es) of data from outfeed.\n",
            "INFO:tensorflow:Enqueue next (1) batch(es) of data to infeed.\n",
            "INFO:tensorflow:Dequeue next (1) batch(es) of data from outfeed.\n",
            "INFO:tensorflow:Enqueue next (1) batch(es) of data to infeed.\n",
            "INFO:tensorflow:Dequeue next (1) batch(es) of data from outfeed.\n",
            "INFO:tensorflow:Enqueue next (1) batch(es) of data to infeed.\n",
            "INFO:tensorflow:Dequeue next (1) batch(es) of data from outfeed.\n",
            "INFO:tensorflow:Enqueue next (1) batch(es) of data to infeed.\n",
            "INFO:tensorflow:Dequeue next (1) batch(es) of data from outfeed.\n",
            "INFO:tensorflow:Enqueue next (1) batch(es) of data to infeed.\n",
            "INFO:tensorflow:Dequeue next (1) batch(es) of data from outfeed.\n",
            "INFO:tensorflow:Enqueue next (1) batch(es) of data to infeed.\n",
            "INFO:tensorflow:Dequeue next (1) batch(es) of data from outfeed.\n",
            "INFO:tensorflow:Enqueue next (1) batch(es) of data to infeed.\n",
            "INFO:tensorflow:Dequeue next (1) batch(es) of data from outfeed.\n",
            "INFO:tensorflow:Enqueue next (1) batch(es) of data to infeed.\n",
            "INFO:tensorflow:Dequeue next (1) batch(es) of data from outfeed.\n",
            "INFO:tensorflow:Enqueue next (1) batch(es) of data to infeed.\n",
            "INFO:tensorflow:Dequeue next (1) batch(es) of data from outfeed.\n",
            "INFO:tensorflow:Enqueue next (1) batch(es) of data to infeed.\n",
            "INFO:tensorflow:Dequeue next (1) batch(es) of data from outfeed.\n",
            "INFO:tensorflow:Enqueue next (1) batch(es) of data to infeed.\n",
            "INFO:tensorflow:Dequeue next (1) batch(es) of data from outfeed.\n",
            "INFO:tensorflow:Enqueue next (1) batch(es) of data to infeed.\n",
            "INFO:tensorflow:Dequeue next (1) batch(es) of data from outfeed.\n",
            "INFO:tensorflow:Enqueue next (1) batch(es) of data to infeed.\n",
            "INFO:tensorflow:Dequeue next (1) batch(es) of data from outfeed.\n",
            "INFO:tensorflow:Enqueue next (1) batch(es) of data to infeed.\n",
            "INFO:tensorflow:Dequeue next (1) batch(es) of data from outfeed.\n",
            "INFO:tensorflow:Enqueue next (1) batch(es) of data to infeed.\n",
            "INFO:tensorflow:Dequeue next (1) batch(es) of data from outfeed.\n",
            "INFO:tensorflow:Enqueue next (1) batch(es) of data to infeed.\n",
            "INFO:tensorflow:Dequeue next (1) batch(es) of data from outfeed.\n",
            "INFO:tensorflow:Enqueue next (1) batch(es) of data to infeed.\n",
            "INFO:tensorflow:Dequeue next (1) batch(es) of data from outfeed.\n",
            "INFO:tensorflow:Enqueue next (1) batch(es) of data to infeed.\n",
            "INFO:tensorflow:Dequeue next (1) batch(es) of data from outfeed.\n",
            "INFO:tensorflow:Enqueue next (1) batch(es) of data to infeed.\n",
            "INFO:tensorflow:Dequeue next (1) batch(es) of data from outfeed.\n",
            "INFO:tensorflow:Enqueue next (1) batch(es) of data to infeed.\n",
            "INFO:tensorflow:Dequeue next (1) batch(es) of data from outfeed.\n",
            "INFO:tensorflow:Enqueue next (1) batch(es) of data to infeed.\n",
            "INFO:tensorflow:Dequeue next (1) batch(es) of data from outfeed.\n",
            "INFO:tensorflow:Enqueue next (1) batch(es) of data to infeed.\n",
            "INFO:tensorflow:Dequeue next (1) batch(es) of data from outfeed.\n",
            "INFO:tensorflow:Enqueue next (1) batch(es) of data to infeed.\n",
            "INFO:tensorflow:Dequeue next (1) batch(es) of data from outfeed.\n",
            "INFO:tensorflow:Enqueue next (1) batch(es) of data to infeed.\n",
            "INFO:tensorflow:Dequeue next (1) batch(es) of data from outfeed.\n",
            "INFO:tensorflow:Enqueue next (1) batch(es) of data to infeed.\n",
            "INFO:tensorflow:Dequeue next (1) batch(es) of data from outfeed.\n",
            "INFO:tensorflow:Enqueue next (1) batch(es) of data to infeed.\n",
            "INFO:tensorflow:Dequeue next (1) batch(es) of data from outfeed.\n",
            "INFO:tensorflow:Enqueue next (1) batch(es) of data to infeed.\n",
            "INFO:tensorflow:Dequeue next (1) batch(es) of data from outfeed.\n",
            "INFO:tensorflow:Enqueue next (1) batch(es) of data to infeed.\n",
            "INFO:tensorflow:Dequeue next (1) batch(es) of data from outfeed.\n",
            "INFO:tensorflow:Enqueue next (1) batch(es) of data to infeed.\n",
            "INFO:tensorflow:Dequeue next (1) batch(es) of data from outfeed.\n",
            "INFO:tensorflow:Enqueue next (1) batch(es) of data to infeed.\n",
            "INFO:tensorflow:Dequeue next (1) batch(es) of data from outfeed.\n",
            "INFO:tensorflow:Enqueue next (1) batch(es) of data to infeed.\n",
            "INFO:tensorflow:Dequeue next (1) batch(es) of data from outfeed.\n",
            "INFO:tensorflow:Enqueue next (1) batch(es) of data to infeed.\n",
            "INFO:tensorflow:Dequeue next (1) batch(es) of data from outfeed.\n",
            "INFO:tensorflow:Enqueue next (1) batch(es) of data to infeed.\n",
            "INFO:tensorflow:Dequeue next (1) batch(es) of data from outfeed.\n",
            "INFO:tensorflow:Enqueue next (1) batch(es) of data to infeed.\n",
            "INFO:tensorflow:Dequeue next (1) batch(es) of data from outfeed.\n",
            "INFO:tensorflow:Enqueue next (1) batch(es) of data to infeed.\n",
            "INFO:tensorflow:Dequeue next (1) batch(es) of data from outfeed.\n",
            "INFO:tensorflow:Enqueue next (1) batch(es) of data to infeed.\n",
            "INFO:tensorflow:Dequeue next (1) batch(es) of data from outfeed.\n",
            "INFO:tensorflow:Enqueue next (1) batch(es) of data to infeed.\n",
            "INFO:tensorflow:Dequeue next (1) batch(es) of data from outfeed.\n",
            "INFO:tensorflow:Enqueue next (1) batch(es) of data to infeed.\n",
            "INFO:tensorflow:Dequeue next (1) batch(es) of data from outfeed.\n",
            "INFO:tensorflow:Enqueue next (1) batch(es) of data to infeed.\n",
            "INFO:tensorflow:Dequeue next (1) batch(es) of data from outfeed.\n",
            "INFO:tensorflow:Enqueue next (1) batch(es) of data to infeed.\n",
            "INFO:tensorflow:Dequeue next (1) batch(es) of data from outfeed.\n",
            "INFO:tensorflow:Enqueue next (1) batch(es) of data to infeed.\n",
            "INFO:tensorflow:Dequeue next (1) batch(es) of data from outfeed.\n",
            "INFO:tensorflow:Enqueue next (1) batch(es) of data to infeed.\n",
            "INFO:tensorflow:Dequeue next (1) batch(es) of data from outfeed.\n",
            "INFO:tensorflow:Enqueue next (1) batch(es) of data to infeed.\n",
            "INFO:tensorflow:Dequeue next (1) batch(es) of data from outfeed.\n",
            "INFO:tensorflow:Enqueue next (1) batch(es) of data to infeed.\n",
            "INFO:tensorflow:Dequeue next (1) batch(es) of data from outfeed.\n",
            "INFO:tensorflow:Enqueue next (1) batch(es) of data to infeed.\n",
            "INFO:tensorflow:Dequeue next (1) batch(es) of data from outfeed.\n",
            "INFO:tensorflow:Enqueue next (1) batch(es) of data to infeed.\n",
            "INFO:tensorflow:Dequeue next (1) batch(es) of data from outfeed.\n",
            "INFO:tensorflow:Enqueue next (1) batch(es) of data to infeed.\n",
            "INFO:tensorflow:Dequeue next (1) batch(es) of data from outfeed.\n",
            "INFO:tensorflow:Enqueue next (1) batch(es) of data to infeed.\n",
            "INFO:tensorflow:Dequeue next (1) batch(es) of data from outfeed.\n",
            "INFO:tensorflow:Enqueue next (1) batch(es) of data to infeed.\n",
            "INFO:tensorflow:Dequeue next (1) batch(es) of data from outfeed.\n",
            "INFO:tensorflow:Enqueue next (1) batch(es) of data to infeed.\n",
            "INFO:tensorflow:Dequeue next (1) batch(es) of data from outfeed.\n",
            "INFO:tensorflow:Enqueue next (1) batch(es) of data to infeed.\n",
            "INFO:tensorflow:Dequeue next (1) batch(es) of data from outfeed.\n",
            "INFO:tensorflow:Enqueue next (1) batch(es) of data to infeed.\n",
            "INFO:tensorflow:Dequeue next (1) batch(es) of data from outfeed.\n",
            "INFO:tensorflow:Enqueue next (1) batch(es) of data to infeed.\n",
            "INFO:tensorflow:Dequeue next (1) batch(es) of data from outfeed.\n",
            "INFO:tensorflow:Enqueue next (1) batch(es) of data to infeed.\n",
            "INFO:tensorflow:Dequeue next (1) batch(es) of data from outfeed.\n",
            "INFO:tensorflow:Enqueue next (1) batch(es) of data to infeed.\n",
            "INFO:tensorflow:Dequeue next (1) batch(es) of data from outfeed.\n",
            "INFO:tensorflow:Enqueue next (1) batch(es) of data to infeed.\n",
            "INFO:tensorflow:Dequeue next (1) batch(es) of data from outfeed.\n",
            "INFO:tensorflow:Enqueue next (1) batch(es) of data to infeed.\n",
            "INFO:tensorflow:Dequeue next (1) batch(es) of data from outfeed.\n",
            "INFO:tensorflow:Enqueue next (1) batch(es) of data to infeed.\n",
            "INFO:tensorflow:Dequeue next (1) batch(es) of data from outfeed.\n",
            "INFO:tensorflow:Enqueue next (1) batch(es) of data to infeed.\n",
            "INFO:tensorflow:Dequeue next (1) batch(es) of data from outfeed.\n",
            "INFO:tensorflow:Enqueue next (1) batch(es) of data to infeed.\n",
            "INFO:tensorflow:Dequeue next (1) batch(es) of data from outfeed.\n",
            "INFO:tensorflow:Enqueue next (1) batch(es) of data to infeed.\n",
            "INFO:tensorflow:Dequeue next (1) batch(es) of data from outfeed.\n",
            "INFO:tensorflow:Enqueue next (1) batch(es) of data to infeed.\n",
            "INFO:tensorflow:Dequeue next (1) batch(es) of data from outfeed.\n",
            "INFO:tensorflow:Enqueue next (1) batch(es) of data to infeed.\n",
            "INFO:tensorflow:Dequeue next (1) batch(es) of data from outfeed.\n",
            "INFO:tensorflow:Enqueue next (1) batch(es) of data to infeed.\n",
            "INFO:tensorflow:Dequeue next (1) batch(es) of data from outfeed.\n",
            "INFO:tensorflow:Enqueue next (1) batch(es) of data to infeed.\n",
            "INFO:tensorflow:Dequeue next (1) batch(es) of data from outfeed.\n",
            "INFO:tensorflow:Enqueue next (1) batch(es) of data to infeed.\n",
            "INFO:tensorflow:Dequeue next (1) batch(es) of data from outfeed.\n",
            "INFO:tensorflow:Enqueue next (1) batch(es) of data to infeed.\n",
            "INFO:tensorflow:Dequeue next (1) batch(es) of data from outfeed.\n",
            "INFO:tensorflow:Enqueue next (1) batch(es) of data to infeed.\n",
            "INFO:tensorflow:Dequeue next (1) batch(es) of data from outfeed.\n",
            "INFO:tensorflow:Enqueue next (1) batch(es) of data to infeed.\n",
            "INFO:tensorflow:Dequeue next (1) batch(es) of data from outfeed.\n",
            "INFO:tensorflow:Enqueue next (1) batch(es) of data to infeed.\n",
            "INFO:tensorflow:Dequeue next (1) batch(es) of data from outfeed.\n",
            "INFO:tensorflow:Enqueue next (1) batch(es) of data to infeed.\n",
            "INFO:tensorflow:Dequeue next (1) batch(es) of data from outfeed.\n",
            "INFO:tensorflow:Enqueue next (1) batch(es) of data to infeed.\n",
            "INFO:tensorflow:Dequeue next (1) batch(es) of data from outfeed.\n",
            "INFO:tensorflow:Enqueue next (1) batch(es) of data to infeed.\n",
            "INFO:tensorflow:Dequeue next (1) batch(es) of data from outfeed.\n",
            "INFO:tensorflow:Enqueue next (1) batch(es) of data to infeed.\n",
            "INFO:tensorflow:Dequeue next (1) batch(es) of data from outfeed.\n",
            "INFO:tensorflow:Enqueue next (1) batch(es) of data to infeed.\n",
            "INFO:tensorflow:Dequeue next (1) batch(es) of data from outfeed.\n",
            "INFO:tensorflow:Enqueue next (1) batch(es) of data to infeed.\n",
            "INFO:tensorflow:Dequeue next (1) batch(es) of data from outfeed.\n",
            "INFO:tensorflow:Enqueue next (1) batch(es) of data to infeed.\n",
            "INFO:tensorflow:Dequeue next (1) batch(es) of data from outfeed.\n",
            "INFO:tensorflow:Enqueue next (1) batch(es) of data to infeed.\n",
            "INFO:tensorflow:Dequeue next (1) batch(es) of data from outfeed.\n",
            "INFO:tensorflow:Enqueue next (1) batch(es) of data to infeed.\n",
            "INFO:tensorflow:Dequeue next (1) batch(es) of data from outfeed.\n",
            "INFO:tensorflow:Enqueue next (1) batch(es) of data to infeed.\n",
            "INFO:tensorflow:Dequeue next (1) batch(es) of data from outfeed.\n",
            "INFO:tensorflow:Enqueue next (1) batch(es) of data to infeed.\n",
            "INFO:tensorflow:Dequeue next (1) batch(es) of data from outfeed.\n",
            "INFO:tensorflow:Enqueue next (1) batch(es) of data to infeed.\n",
            "INFO:tensorflow:Dequeue next (1) batch(es) of data from outfeed.\n",
            "INFO:tensorflow:Enqueue next (1) batch(es) of data to infeed.\n",
            "INFO:tensorflow:Dequeue next (1) batch(es) of data from outfeed.\n",
            "INFO:tensorflow:Enqueue next (1) batch(es) of data to infeed.\n",
            "INFO:tensorflow:Dequeue next (1) batch(es) of data from outfeed.\n",
            "INFO:tensorflow:Enqueue next (1) batch(es) of data to infeed.\n",
            "INFO:tensorflow:Dequeue next (1) batch(es) of data from outfeed.\n",
            "INFO:tensorflow:Enqueue next (1) batch(es) of data to infeed.\n",
            "INFO:tensorflow:Dequeue next (1) batch(es) of data from outfeed.\n",
            "INFO:tensorflow:Enqueue next (1) batch(es) of data to infeed.\n",
            "INFO:tensorflow:Dequeue next (1) batch(es) of data from outfeed.\n",
            "INFO:tensorflow:Enqueue next (1) batch(es) of data to infeed.\n",
            "INFO:tensorflow:Dequeue next (1) batch(es) of data from outfeed.\n",
            "INFO:tensorflow:Enqueue next (1) batch(es) of data to infeed.\n",
            "INFO:tensorflow:Dequeue next (1) batch(es) of data from outfeed.\n",
            "INFO:tensorflow:Enqueue next (1) batch(es) of data to infeed.\n",
            "INFO:tensorflow:Dequeue next (1) batch(es) of data from outfeed.\n",
            "INFO:tensorflow:Enqueue next (1) batch(es) of data to infeed.\n",
            "INFO:tensorflow:Dequeue next (1) batch(es) of data from outfeed.\n",
            "INFO:tensorflow:Enqueue next (1) batch(es) of data to infeed.\n",
            "INFO:tensorflow:Dequeue next (1) batch(es) of data from outfeed.\n",
            "INFO:tensorflow:Enqueue next (1) batch(es) of data to infeed.\n",
            "INFO:tensorflow:Dequeue next (1) batch(es) of data from outfeed.\n",
            "INFO:tensorflow:Enqueue next (1) batch(es) of data to infeed.\n",
            "INFO:tensorflow:Dequeue next (1) batch(es) of data from outfeed.\n",
            "INFO:tensorflow:Enqueue next (1) batch(es) of data to infeed.\n",
            "INFO:tensorflow:Dequeue next (1) batch(es) of data from outfeed.\n",
            "INFO:tensorflow:Enqueue next (1) batch(es) of data to infeed.\n",
            "INFO:tensorflow:Dequeue next (1) batch(es) of data from outfeed.\n",
            "INFO:tensorflow:Enqueue next (1) batch(es) of data to infeed.\n",
            "INFO:tensorflow:Dequeue next (1) batch(es) of data from outfeed.\n",
            "INFO:tensorflow:Enqueue next (1) batch(es) of data to infeed.\n",
            "INFO:tensorflow:Dequeue next (1) batch(es) of data from outfeed.\n",
            "INFO:tensorflow:Enqueue next (1) batch(es) of data to infeed.\n",
            "INFO:tensorflow:Dequeue next (1) batch(es) of data from outfeed.\n",
            "INFO:tensorflow:Enqueue next (1) batch(es) of data to infeed.\n",
            "INFO:tensorflow:Dequeue next (1) batch(es) of data from outfeed.\n",
            "INFO:tensorflow:Enqueue next (1) batch(es) of data to infeed.\n",
            "INFO:tensorflow:Dequeue next (1) batch(es) of data from outfeed.\n",
            "INFO:tensorflow:Enqueue next (1) batch(es) of data to infeed.\n",
            "INFO:tensorflow:Dequeue next (1) batch(es) of data from outfeed.\n",
            "INFO:tensorflow:Enqueue next (1) batch(es) of data to infeed.\n",
            "INFO:tensorflow:Dequeue next (1) batch(es) of data from outfeed.\n",
            "INFO:tensorflow:Enqueue next (1) batch(es) of data to infeed.\n",
            "INFO:tensorflow:Dequeue next (1) batch(es) of data from outfeed.\n",
            "INFO:tensorflow:Enqueue next (1) batch(es) of data to infeed.\n",
            "INFO:tensorflow:Dequeue next (1) batch(es) of data from outfeed.\n",
            "INFO:tensorflow:Enqueue next (1) batch(es) of data to infeed.\n",
            "INFO:tensorflow:Dequeue next (1) batch(es) of data from outfeed.\n",
            "INFO:tensorflow:Enqueue next (1) batch(es) of data to infeed.\n",
            "INFO:tensorflow:Dequeue next (1) batch(es) of data from outfeed.\n",
            "INFO:tensorflow:Enqueue next (1) batch(es) of data to infeed.\n",
            "INFO:tensorflow:Dequeue next (1) batch(es) of data from outfeed.\n",
            "INFO:tensorflow:Enqueue next (1) batch(es) of data to infeed.\n",
            "INFO:tensorflow:Dequeue next (1) batch(es) of data from outfeed.\n",
            "INFO:tensorflow:Enqueue next (1) batch(es) of data to infeed.\n",
            "INFO:tensorflow:Dequeue next (1) batch(es) of data from outfeed.\n",
            "INFO:tensorflow:Enqueue next (1) batch(es) of data to infeed.\n",
            "INFO:tensorflow:Dequeue next (1) batch(es) of data from outfeed.\n",
            "INFO:tensorflow:Enqueue next (1) batch(es) of data to infeed.\n",
            "INFO:tensorflow:Dequeue next (1) batch(es) of data from outfeed.\n",
            "INFO:tensorflow:Enqueue next (1) batch(es) of data to infeed.\n",
            "INFO:tensorflow:Dequeue next (1) batch(es) of data from outfeed.\n",
            "INFO:tensorflow:Enqueue next (1) batch(es) of data to infeed.\n",
            "INFO:tensorflow:Dequeue next (1) batch(es) of data from outfeed.\n",
            "INFO:tensorflow:Enqueue next (1) batch(es) of data to infeed.\n",
            "INFO:tensorflow:Dequeue next (1) batch(es) of data from outfeed.\n",
            "INFO:tensorflow:Enqueue next (1) batch(es) of data to infeed.\n",
            "INFO:tensorflow:Dequeue next (1) batch(es) of data from outfeed.\n",
            "INFO:tensorflow:Enqueue next (1) batch(es) of data to infeed.\n",
            "INFO:tensorflow:Dequeue next (1) batch(es) of data from outfeed.\n",
            "INFO:tensorflow:Enqueue next (1) batch(es) of data to infeed.\n",
            "INFO:tensorflow:Dequeue next (1) batch(es) of data from outfeed.\n",
            "INFO:tensorflow:Enqueue next (1) batch(es) of data to infeed.\n",
            "INFO:tensorflow:Dequeue next (1) batch(es) of data from outfeed.\n",
            "INFO:tensorflow:Enqueue next (1) batch(es) of data to infeed.\n",
            "INFO:tensorflow:Dequeue next (1) batch(es) of data from outfeed.\n",
            "INFO:tensorflow:Enqueue next (1) batch(es) of data to infeed.\n",
            "INFO:tensorflow:Dequeue next (1) batch(es) of data from outfeed.\n",
            "INFO:tensorflow:Enqueue next (1) batch(es) of data to infeed.\n",
            "INFO:tensorflow:Dequeue next (1) batch(es) of data from outfeed.\n",
            "INFO:tensorflow:Enqueue next (1) batch(es) of data to infeed.\n",
            "INFO:tensorflow:Dequeue next (1) batch(es) of data from outfeed.\n",
            "INFO:tensorflow:Enqueue next (1) batch(es) of data to infeed.\n",
            "INFO:tensorflow:Dequeue next (1) batch(es) of data from outfeed.\n",
            "INFO:tensorflow:Enqueue next (1) batch(es) of data to infeed.\n",
            "INFO:tensorflow:Dequeue next (1) batch(es) of data from outfeed.\n",
            "INFO:tensorflow:Enqueue next (1) batch(es) of data to infeed.\n",
            "INFO:tensorflow:Dequeue next (1) batch(es) of data from outfeed.\n",
            "INFO:tensorflow:Enqueue next (1) batch(es) of data to infeed.\n",
            "INFO:tensorflow:Dequeue next (1) batch(es) of data from outfeed.\n",
            "INFO:tensorflow:Enqueue next (1) batch(es) of data to infeed.\n",
            "INFO:tensorflow:Dequeue next (1) batch(es) of data from outfeed.\n",
            "INFO:tensorflow:Enqueue next (1) batch(es) of data to infeed.\n",
            "INFO:tensorflow:Dequeue next (1) batch(es) of data from outfeed.\n",
            "INFO:tensorflow:Enqueue next (1) batch(es) of data to infeed.\n",
            "INFO:tensorflow:Dequeue next (1) batch(es) of data from outfeed.\n",
            "INFO:tensorflow:Enqueue next (1) batch(es) of data to infeed.\n",
            "INFO:tensorflow:Dequeue next (1) batch(es) of data from outfeed.\n",
            "INFO:tensorflow:Enqueue next (1) batch(es) of data to infeed.\n",
            "INFO:tensorflow:Dequeue next (1) batch(es) of data from outfeed.\n",
            "INFO:tensorflow:Enqueue next (1) batch(es) of data to infeed.\n",
            "INFO:tensorflow:Dequeue next (1) batch(es) of data from outfeed.\n",
            "INFO:tensorflow:Enqueue next (1) batch(es) of data to infeed.\n",
            "INFO:tensorflow:Dequeue next (1) batch(es) of data from outfeed.\n",
            "INFO:tensorflow:Enqueue next (1) batch(es) of data to infeed.\n",
            "INFO:tensorflow:Dequeue next (1) batch(es) of data from outfeed.\n",
            "INFO:tensorflow:Enqueue next (1) batch(es) of data to infeed.\n",
            "INFO:tensorflow:Dequeue next (1) batch(es) of data from outfeed.\n",
            "INFO:tensorflow:Enqueue next (1) batch(es) of data to infeed.\n",
            "INFO:tensorflow:Dequeue next (1) batch(es) of data from outfeed.\n",
            "INFO:tensorflow:Enqueue next (1) batch(es) of data to infeed.\n",
            "INFO:tensorflow:Dequeue next (1) batch(es) of data from outfeed.\n",
            "INFO:tensorflow:Enqueue next (1) batch(es) of data to infeed.\n",
            "INFO:tensorflow:Dequeue next (1) batch(es) of data from outfeed.\n",
            "INFO:tensorflow:Enqueue next (1) batch(es) of data to infeed.\n",
            "INFO:tensorflow:Dequeue next (1) batch(es) of data from outfeed.\n",
            "INFO:tensorflow:Enqueue next (1) batch(es) of data to infeed.\n",
            "INFO:tensorflow:Dequeue next (1) batch(es) of data from outfeed.\n",
            "INFO:tensorflow:Enqueue next (1) batch(es) of data to infeed.\n",
            "INFO:tensorflow:Dequeue next (1) batch(es) of data from outfeed.\n",
            "INFO:tensorflow:Enqueue next (1) batch(es) of data to infeed.\n",
            "INFO:tensorflow:Dequeue next (1) batch(es) of data from outfeed.\n",
            "INFO:tensorflow:Enqueue next (1) batch(es) of data to infeed.\n",
            "INFO:tensorflow:Dequeue next (1) batch(es) of data from outfeed.\n",
            "INFO:tensorflow:Enqueue next (1) batch(es) of data to infeed.\n",
            "INFO:tensorflow:Dequeue next (1) batch(es) of data from outfeed.\n",
            "INFO:tensorflow:Enqueue next (1) batch(es) of data to infeed.\n",
            "INFO:tensorflow:Dequeue next (1) batch(es) of data from outfeed.\n",
            "INFO:tensorflow:Enqueue next (1) batch(es) of data to infeed.\n",
            "INFO:tensorflow:Dequeue next (1) batch(es) of data from outfeed.\n",
            "INFO:tensorflow:Enqueue next (1) batch(es) of data to infeed.\n",
            "INFO:tensorflow:Dequeue next (1) batch(es) of data from outfeed.\n",
            "INFO:tensorflow:Enqueue next (1) batch(es) of data to infeed.\n",
            "INFO:tensorflow:Dequeue next (1) batch(es) of data from outfeed.\n",
            "INFO:tensorflow:Enqueue next (1) batch(es) of data to infeed.\n",
            "INFO:tensorflow:Dequeue next (1) batch(es) of data from outfeed.\n",
            "INFO:tensorflow:Enqueue next (1) batch(es) of data to infeed.\n",
            "INFO:tensorflow:Dequeue next (1) batch(es) of data from outfeed.\n",
            "INFO:tensorflow:Enqueue next (1) batch(es) of data to infeed.\n",
            "INFO:tensorflow:Dequeue next (1) batch(es) of data from outfeed.\n",
            "INFO:tensorflow:Enqueue next (1) batch(es) of data to infeed.\n",
            "INFO:tensorflow:Dequeue next (1) batch(es) of data from outfeed.\n",
            "INFO:tensorflow:Enqueue next (1) batch(es) of data to infeed.\n",
            "INFO:tensorflow:Dequeue next (1) batch(es) of data from outfeed.\n",
            "INFO:tensorflow:Enqueue next (1) batch(es) of data to infeed.\n",
            "INFO:tensorflow:Dequeue next (1) batch(es) of data from outfeed.\n",
            "INFO:tensorflow:Enqueue next (1) batch(es) of data to infeed.\n",
            "INFO:tensorflow:Dequeue next (1) batch(es) of data from outfeed.\n",
            "INFO:tensorflow:Enqueue next (1) batch(es) of data to infeed.\n",
            "INFO:tensorflow:Dequeue next (1) batch(es) of data from outfeed.\n",
            "INFO:tensorflow:Enqueue next (1) batch(es) of data to infeed.\n",
            "INFO:tensorflow:Dequeue next (1) batch(es) of data from outfeed.\n",
            "INFO:tensorflow:Enqueue next (1) batch(es) of data to infeed.\n",
            "INFO:tensorflow:Dequeue next (1) batch(es) of data from outfeed.\n",
            "INFO:tensorflow:Enqueue next (1) batch(es) of data to infeed.\n",
            "INFO:tensorflow:Dequeue next (1) batch(es) of data from outfeed.\n",
            "INFO:tensorflow:Enqueue next (1) batch(es) of data to infeed.\n",
            "INFO:tensorflow:Dequeue next (1) batch(es) of data from outfeed.\n",
            "INFO:tensorflow:Enqueue next (1) batch(es) of data to infeed.\n",
            "INFO:tensorflow:Dequeue next (1) batch(es) of data from outfeed.\n",
            "INFO:tensorflow:Enqueue next (1) batch(es) of data to infeed.\n",
            "INFO:tensorflow:Dequeue next (1) batch(es) of data from outfeed.\n",
            "INFO:tensorflow:Enqueue next (1) batch(es) of data to infeed.\n",
            "INFO:tensorflow:Dequeue next (1) batch(es) of data from outfeed.\n",
            "INFO:tensorflow:Enqueue next (1) batch(es) of data to infeed.\n",
            "INFO:tensorflow:Dequeue next (1) batch(es) of data from outfeed.\n",
            "INFO:tensorflow:Enqueue next (1) batch(es) of data to infeed.\n",
            "INFO:tensorflow:Dequeue next (1) batch(es) of data from outfeed.\n",
            "INFO:tensorflow:Enqueue next (1) batch(es) of data to infeed.\n",
            "INFO:tensorflow:Dequeue next (1) batch(es) of data from outfeed.\n",
            "INFO:tensorflow:Enqueue next (1) batch(es) of data to infeed.\n",
            "INFO:tensorflow:Dequeue next (1) batch(es) of data from outfeed.\n",
            "INFO:tensorflow:Enqueue next (1) batch(es) of data to infeed.\n",
            "INFO:tensorflow:Dequeue next (1) batch(es) of data from outfeed.\n",
            "INFO:tensorflow:Enqueue next (1) batch(es) of data to infeed.\n",
            "INFO:tensorflow:Dequeue next (1) batch(es) of data from outfeed.\n",
            "INFO:tensorflow:Enqueue next (1) batch(es) of data to infeed.\n",
            "INFO:tensorflow:Dequeue next (1) batch(es) of data from outfeed.\n",
            "INFO:tensorflow:Enqueue next (1) batch(es) of data to infeed.\n",
            "INFO:tensorflow:Dequeue next (1) batch(es) of data from outfeed.\n",
            "INFO:tensorflow:Enqueue next (1) batch(es) of data to infeed.\n",
            "INFO:tensorflow:Dequeue next (1) batch(es) of data from outfeed.\n",
            "INFO:tensorflow:Enqueue next (1) batch(es) of data to infeed.\n",
            "INFO:tensorflow:Dequeue next (1) batch(es) of data from outfeed.\n",
            "INFO:tensorflow:Enqueue next (1) batch(es) of data to infeed.\n",
            "INFO:tensorflow:Dequeue next (1) batch(es) of data from outfeed.\n",
            "INFO:tensorflow:Enqueue next (1) batch(es) of data to infeed.\n",
            "INFO:tensorflow:Dequeue next (1) batch(es) of data from outfeed.\n",
            "INFO:tensorflow:Enqueue next (1) batch(es) of data to infeed.\n",
            "INFO:tensorflow:Dequeue next (1) batch(es) of data from outfeed.\n",
            "INFO:tensorflow:Enqueue next (1) batch(es) of data to infeed.\n",
            "INFO:tensorflow:Dequeue next (1) batch(es) of data from outfeed.\n",
            "INFO:tensorflow:Enqueue next (1) batch(es) of data to infeed.\n",
            "INFO:tensorflow:Dequeue next (1) batch(es) of data from outfeed.\n",
            "INFO:tensorflow:Enqueue next (1) batch(es) of data to infeed.\n",
            "INFO:tensorflow:Dequeue next (1) batch(es) of data from outfeed.\n",
            "INFO:tensorflow:Enqueue next (1) batch(es) of data to infeed.\n",
            "INFO:tensorflow:Dequeue next (1) batch(es) of data from outfeed.\n",
            "INFO:tensorflow:Enqueue next (1) batch(es) of data to infeed.\n",
            "INFO:tensorflow:Dequeue next (1) batch(es) of data from outfeed.\n",
            "INFO:tensorflow:Enqueue next (1) batch(es) of data to infeed.\n",
            "INFO:tensorflow:Dequeue next (1) batch(es) of data from outfeed.\n",
            "INFO:tensorflow:Enqueue next (1) batch(es) of data to infeed.\n",
            "INFO:tensorflow:Dequeue next (1) batch(es) of data from outfeed.\n",
            "INFO:tensorflow:Enqueue next (1) batch(es) of data to infeed.\n",
            "INFO:tensorflow:Dequeue next (1) batch(es) of data from outfeed.\n",
            "INFO:tensorflow:Enqueue next (1) batch(es) of data to infeed.\n",
            "INFO:tensorflow:Dequeue next (1) batch(es) of data from outfeed.\n",
            "INFO:tensorflow:Enqueue next (1) batch(es) of data to infeed.\n",
            "INFO:tensorflow:Dequeue next (1) batch(es) of data from outfeed.\n",
            "INFO:tensorflow:Enqueue next (1) batch(es) of data to infeed.\n",
            "INFO:tensorflow:Dequeue next (1) batch(es) of data from outfeed.\n",
            "INFO:tensorflow:Enqueue next (1) batch(es) of data to infeed.\n",
            "INFO:tensorflow:Dequeue next (1) batch(es) of data from outfeed.\n",
            "INFO:tensorflow:Enqueue next (1) batch(es) of data to infeed.\n",
            "INFO:tensorflow:Dequeue next (1) batch(es) of data from outfeed.\n",
            "INFO:tensorflow:Enqueue next (1) batch(es) of data to infeed.\n",
            "INFO:tensorflow:Dequeue next (1) batch(es) of data from outfeed.\n",
            "INFO:tensorflow:Enqueue next (1) batch(es) of data to infeed.\n",
            "INFO:tensorflow:Dequeue next (1) batch(es) of data from outfeed.\n",
            "INFO:tensorflow:Enqueue next (1) batch(es) of data to infeed.\n",
            "INFO:tensorflow:Dequeue next (1) batch(es) of data from outfeed.\n",
            "INFO:tensorflow:Enqueue next (1) batch(es) of data to infeed.\n",
            "INFO:tensorflow:Dequeue next (1) batch(es) of data from outfeed.\n",
            "INFO:tensorflow:Enqueue next (1) batch(es) of data to infeed.\n",
            "INFO:tensorflow:Dequeue next (1) batch(es) of data from outfeed.\n",
            "INFO:tensorflow:Enqueue next (1) batch(es) of data to infeed.\n",
            "INFO:tensorflow:Dequeue next (1) batch(es) of data from outfeed.\n",
            "INFO:tensorflow:Enqueue next (1) batch(es) of data to infeed.\n",
            "INFO:tensorflow:Dequeue next (1) batch(es) of data from outfeed.\n",
            "INFO:tensorflow:Enqueue next (1) batch(es) of data to infeed.\n",
            "INFO:tensorflow:Dequeue next (1) batch(es) of data from outfeed.\n",
            "INFO:tensorflow:Enqueue next (1) batch(es) of data to infeed.\n",
            "INFO:tensorflow:Dequeue next (1) batch(es) of data from outfeed.\n",
            "INFO:tensorflow:Enqueue next (1) batch(es) of data to infeed.\n",
            "INFO:tensorflow:Dequeue next (1) batch(es) of data from outfeed.\n",
            "INFO:tensorflow:Enqueue next (1) batch(es) of data to infeed.\n",
            "INFO:tensorflow:Dequeue next (1) batch(es) of data from outfeed.\n",
            "INFO:tensorflow:Enqueue next (1) batch(es) of data to infeed.\n",
            "INFO:tensorflow:Dequeue next (1) batch(es) of data from outfeed.\n",
            "INFO:tensorflow:Enqueue next (1) batch(es) of data to infeed.\n",
            "INFO:tensorflow:Dequeue next (1) batch(es) of data from outfeed.\n",
            "INFO:tensorflow:Enqueue next (1) batch(es) of data to infeed.\n",
            "INFO:tensorflow:Dequeue next (1) batch(es) of data from outfeed.\n",
            "INFO:tensorflow:Enqueue next (1) batch(es) of data to infeed.\n",
            "INFO:tensorflow:Dequeue next (1) batch(es) of data from outfeed.\n",
            "INFO:tensorflow:Enqueue next (1) batch(es) of data to infeed.\n",
            "INFO:tensorflow:Dequeue next (1) batch(es) of data from outfeed.\n",
            "INFO:tensorflow:Enqueue next (1) batch(es) of data to infeed.\n",
            "INFO:tensorflow:Dequeue next (1) batch(es) of data from outfeed.\n",
            "INFO:tensorflow:Enqueue next (1) batch(es) of data to infeed.\n",
            "INFO:tensorflow:Dequeue next (1) batch(es) of data from outfeed.\n",
            "INFO:tensorflow:Enqueue next (1) batch(es) of data to infeed.\n",
            "INFO:tensorflow:Dequeue next (1) batch(es) of data from outfeed.\n",
            "INFO:tensorflow:Enqueue next (1) batch(es) of data to infeed.\n",
            "INFO:tensorflow:Dequeue next (1) batch(es) of data from outfeed.\n",
            "INFO:tensorflow:Enqueue next (1) batch(es) of data to infeed.\n",
            "INFO:tensorflow:Dequeue next (1) batch(es) of data from outfeed.\n",
            "INFO:tensorflow:Enqueue next (1) batch(es) of data to infeed.\n",
            "INFO:tensorflow:Dequeue next (1) batch(es) of data from outfeed.\n",
            "INFO:tensorflow:Enqueue next (1) batch(es) of data to infeed.\n",
            "INFO:tensorflow:Dequeue next (1) batch(es) of data from outfeed.\n",
            "INFO:tensorflow:Enqueue next (1) batch(es) of data to infeed.\n",
            "INFO:tensorflow:Dequeue next (1) batch(es) of data from outfeed.\n",
            "INFO:tensorflow:Enqueue next (1) batch(es) of data to infeed.\n",
            "INFO:tensorflow:Dequeue next (1) batch(es) of data from outfeed.\n",
            "INFO:tensorflow:Enqueue next (1) batch(es) of data to infeed.\n",
            "INFO:tensorflow:Dequeue next (1) batch(es) of data from outfeed.\n",
            "INFO:tensorflow:Enqueue next (1) batch(es) of data to infeed.\n",
            "INFO:tensorflow:Dequeue next (1) batch(es) of data from outfeed.\n",
            "INFO:tensorflow:Enqueue next (1) batch(es) of data to infeed.\n",
            "INFO:tensorflow:Dequeue next (1) batch(es) of data from outfeed.\n",
            "INFO:tensorflow:Enqueue next (1) batch(es) of data to infeed.\n",
            "INFO:tensorflow:Dequeue next (1) batch(es) of data from outfeed.\n",
            "INFO:tensorflow:Enqueue next (1) batch(es) of data to infeed.\n",
            "INFO:tensorflow:Dequeue next (1) batch(es) of data from outfeed.\n",
            "INFO:tensorflow:Enqueue next (1) batch(es) of data to infeed.\n",
            "INFO:tensorflow:Dequeue next (1) batch(es) of data from outfeed.\n",
            "INFO:tensorflow:Enqueue next (1) batch(es) of data to infeed.\n",
            "INFO:tensorflow:Dequeue next (1) batch(es) of data from outfeed.\n",
            "INFO:tensorflow:Enqueue next (1) batch(es) of data to infeed.\n",
            "INFO:tensorflow:Dequeue next (1) batch(es) of data from outfeed.\n",
            "INFO:tensorflow:Enqueue next (1) batch(es) of data to infeed.\n",
            "INFO:tensorflow:Dequeue next (1) batch(es) of data from outfeed.\n",
            "INFO:tensorflow:Enqueue next (1) batch(es) of data to infeed.\n",
            "INFO:tensorflow:Dequeue next (1) batch(es) of data from outfeed.\n",
            "INFO:tensorflow:Enqueue next (1) batch(es) of data to infeed.\n",
            "INFO:tensorflow:Dequeue next (1) batch(es) of data from outfeed.\n",
            "INFO:tensorflow:Enqueue next (1) batch(es) of data to infeed.\n",
            "INFO:tensorflow:Dequeue next (1) batch(es) of data from outfeed.\n",
            "INFO:tensorflow:Enqueue next (1) batch(es) of data to infeed.\n",
            "INFO:tensorflow:Dequeue next (1) batch(es) of data from outfeed.\n",
            "INFO:tensorflow:Enqueue next (1) batch(es) of data to infeed.\n",
            "INFO:tensorflow:Dequeue next (1) batch(es) of data from outfeed.\n",
            "INFO:tensorflow:Enqueue next (1) batch(es) of data to infeed.\n",
            "INFO:tensorflow:Dequeue next (1) batch(es) of data from outfeed.\n",
            "INFO:tensorflow:Enqueue next (1) batch(es) of data to infeed.\n",
            "INFO:tensorflow:Dequeue next (1) batch(es) of data from outfeed.\n",
            "INFO:tensorflow:Enqueue next (1) batch(es) of data to infeed.\n",
            "INFO:tensorflow:Dequeue next (1) batch(es) of data from outfeed.\n",
            "INFO:tensorflow:Stop infeed thread controller\n",
            "INFO:tensorflow:Shutting down InfeedController thread.\n",
            "INFO:tensorflow:InfeedController received shutdown signal, stopping.\n",
            "INFO:tensorflow:Infeed thread finished, shutting down.\n",
            "INFO:tensorflow:infeed marked as finished\n",
            "INFO:tensorflow:Stop output thread controller\n",
            "INFO:tensorflow:Shutting down OutfeedController thread.\n",
            "INFO:tensorflow:OutfeedController received shutdown signal, stopping.\n",
            "INFO:tensorflow:Outfeed thread finished, shutting down.\n",
            "INFO:tensorflow:outfeed marked as finished\n",
            "INFO:tensorflow:Shutdown TPU system.\n",
            "INFO:tensorflow:prediction_loop marked as finished\n",
            "INFO:tensorflow:prediction_loop marked as finished\n",
            "CPU times: user 1min 14s, sys: 2.15 s, total: 1min 17s\n",
            "Wall time: 2min 6s\n"
          ],
          "name": "stdout"
        }
      ]
    },
    {
      "metadata": {
        "id": "IB1sMWFQi_3b",
        "colab_type": "code",
        "outputId": "07677755-3b8d-4c3d-ffe6-cb2e76b5c325",
        "colab": {
          "base_uri": "https://localhost:8080/",
          "height": 35
        }
      },
      "cell_type": "code",
      "source": [
        "print(datetime.datetime.today())"
      ],
      "execution_count": 0,
      "outputs": [
        {
          "output_type": "stream",
          "text": [
            "2019-01-08 03:40:33.207318\n"
          ],
          "name": "stdout"
        }
      ]
    },
    {
      "metadata": {
        "id": "kdFZX0jXi_bU",
        "colab_type": "code",
        "colab": {}
      },
      "cell_type": "code",
      "source": [
        ""
      ],
      "execution_count": 0,
      "outputs": []
    },
    {
      "metadata": {
        "id": "jKmZBxxI_nI7",
        "colab_type": "code",
        "colab": {}
      },
      "cell_type": "code",
      "source": [
        "result_unwrap = [pred['predictions'] for pred in result]"
      ],
      "execution_count": 0,
      "outputs": []
    },
    {
      "metadata": {
        "id": "LRNecmXD1IWx",
        "colab_type": "code",
        "outputId": "e114061c-0610-424e-9fca-5d720545ed8a",
        "colab": {
          "base_uri": "https://localhost:8080/",
          "height": 35
        }
      },
      "cell_type": "code",
      "source": [
        "len(result_unwrap)"
      ],
      "execution_count": 0,
      "outputs": [
        {
          "output_type": "execute_result",
          "data": {
            "text/plain": [
              "25240"
            ]
          },
          "metadata": {
            "tags": []
          },
          "execution_count": 103
        }
      ]
    },
    {
      "metadata": {
        "id": "3b5NVc2Y_sR7",
        "colab_type": "code",
        "outputId": "4ffd0083-117f-4027-ad5b-0fceb9818d5c",
        "colab": {
          "base_uri": "https://localhost:8080/",
          "height": 106
        }
      },
      "cell_type": "code",
      "source": [
        "result_unwrap[0:5]"
      ],
      "execution_count": 0,
      "outputs": [
        {
          "output_type": "execute_result",
          "data": {
            "text/plain": [
              "[array([9.9987113e-01, 1.2879973e-04], dtype=float32),\n",
              " array([9.9987471e-01, 1.2525565e-04], dtype=float32),\n",
              " array([9.9986601e-01, 1.3391985e-04], dtype=float32),\n",
              " array([9.9987304e-01, 1.2690226e-04], dtype=float32),\n",
              " array([9.9986780e-01, 1.3221534e-04], dtype=float32)]"
            ]
          },
          "metadata": {
            "tags": []
          },
          "execution_count": 104
        }
      ]
    },
    {
      "metadata": {
        "id": "Bf6ccVAhoaMJ",
        "colab_type": "text"
      },
      "cell_type": "markdown",
      "source": [
        "Check first app result manually"
      ]
    },
    {
      "metadata": {
        "id": "hPdl9uIfb2O9",
        "colab_type": "code",
        "outputId": "ba92339c-651c-46fc-986b-55579ccf4071",
        "colab": {
          "base_uri": "https://localhost:8080/",
          "height": 253
        }
      },
      "cell_type": "code",
      "source": [
        "label_df.head()"
      ],
      "execution_count": 0,
      "outputs": [
        {
          "output_type": "execute_result",
          "data": {
            "text/html": [
              "<div>\n",
              "<style scoped>\n",
              "    .dataframe tbody tr th:only-of-type {\n",
              "        vertical-align: middle;\n",
              "    }\n",
              "\n",
              "    .dataframe tbody tr th {\n",
              "        vertical-align: top;\n",
              "    }\n",
              "\n",
              "    .dataframe thead th {\n",
              "        text-align: right;\n",
              "    }\n",
              "</style>\n",
              "<table border=\"1\" class=\"dataframe\">\n",
              "  <thead>\n",
              "    <tr style=\"text-align: right;\">\n",
              "      <th></th>\n",
              "      <th>6837383</th>\n",
              "      <th>6837647</th>\n",
              "      <th>6837799</th>\n",
              "      <th>6837893</th>\n",
              "      <th>6837910</th>\n",
              "      <th>6838140</th>\n",
              "      <th>6838207</th>\n",
              "      <th>6838507</th>\n",
              "      <th>6838812</th>\n",
              "      <th>6838925</th>\n",
              "      <th>...</th>\n",
              "      <th>8334161</th>\n",
              "      <th>8334431</th>\n",
              "      <th>8334887</th>\n",
              "      <th>8336128</th>\n",
              "      <th>8336158</th>\n",
              "      <th>8336789</th>\n",
              "      <th>8336964</th>\n",
              "      <th>8337193</th>\n",
              "      <th>8339697</th>\n",
              "      <th>8340894</th>\n",
              "    </tr>\n",
              "  </thead>\n",
              "  <tbody>\n",
              "    <tr>\n",
              "      <th>14307191</th>\n",
              "      <td>False</td>\n",
              "      <td>False</td>\n",
              "      <td>False</td>\n",
              "      <td>False</td>\n",
              "      <td>False</td>\n",
              "      <td>False</td>\n",
              "      <td>False</td>\n",
              "      <td>False</td>\n",
              "      <td>False</td>\n",
              "      <td>False</td>\n",
              "      <td>...</td>\n",
              "      <td>False</td>\n",
              "      <td>False</td>\n",
              "      <td>False</td>\n",
              "      <td>False</td>\n",
              "      <td>False</td>\n",
              "      <td>False</td>\n",
              "      <td>False</td>\n",
              "      <td>False</td>\n",
              "      <td>False</td>\n",
              "      <td>False</td>\n",
              "    </tr>\n",
              "    <tr>\n",
              "      <th>13137006</th>\n",
              "      <td>False</td>\n",
              "      <td>False</td>\n",
              "      <td>False</td>\n",
              "      <td>False</td>\n",
              "      <td>False</td>\n",
              "      <td>False</td>\n",
              "      <td>False</td>\n",
              "      <td>False</td>\n",
              "      <td>False</td>\n",
              "      <td>False</td>\n",
              "      <td>...</td>\n",
              "      <td>False</td>\n",
              "      <td>False</td>\n",
              "      <td>False</td>\n",
              "      <td>False</td>\n",
              "      <td>False</td>\n",
              "      <td>False</td>\n",
              "      <td>False</td>\n",
              "      <td>False</td>\n",
              "      <td>False</td>\n",
              "      <td>False</td>\n",
              "    </tr>\n",
              "    <tr>\n",
              "      <th>12741959</th>\n",
              "      <td>False</td>\n",
              "      <td>False</td>\n",
              "      <td>False</td>\n",
              "      <td>False</td>\n",
              "      <td>False</td>\n",
              "      <td>False</td>\n",
              "      <td>False</td>\n",
              "      <td>False</td>\n",
              "      <td>False</td>\n",
              "      <td>False</td>\n",
              "      <td>...</td>\n",
              "      <td>False</td>\n",
              "      <td>False</td>\n",
              "      <td>False</td>\n",
              "      <td>False</td>\n",
              "      <td>False</td>\n",
              "      <td>False</td>\n",
              "      <td>False</td>\n",
              "      <td>False</td>\n",
              "      <td>False</td>\n",
              "      <td>False</td>\n",
              "    </tr>\n",
              "    <tr>\n",
              "      <th>12643447</th>\n",
              "      <td>False</td>\n",
              "      <td>False</td>\n",
              "      <td>False</td>\n",
              "      <td>False</td>\n",
              "      <td>False</td>\n",
              "      <td>False</td>\n",
              "      <td>False</td>\n",
              "      <td>False</td>\n",
              "      <td>False</td>\n",
              "      <td>False</td>\n",
              "      <td>...</td>\n",
              "      <td>False</td>\n",
              "      <td>False</td>\n",
              "      <td>False</td>\n",
              "      <td>False</td>\n",
              "      <td>False</td>\n",
              "      <td>False</td>\n",
              "      <td>False</td>\n",
              "      <td>False</td>\n",
              "      <td>False</td>\n",
              "      <td>False</td>\n",
              "    </tr>\n",
              "    <tr>\n",
              "      <th>14200253</th>\n",
              "      <td>False</td>\n",
              "      <td>False</td>\n",
              "      <td>False</td>\n",
              "      <td>False</td>\n",
              "      <td>False</td>\n",
              "      <td>False</td>\n",
              "      <td>False</td>\n",
              "      <td>False</td>\n",
              "      <td>False</td>\n",
              "      <td>False</td>\n",
              "      <td>...</td>\n",
              "      <td>False</td>\n",
              "      <td>False</td>\n",
              "      <td>False</td>\n",
              "      <td>False</td>\n",
              "      <td>False</td>\n",
              "      <td>False</td>\n",
              "      <td>False</td>\n",
              "      <td>False</td>\n",
              "      <td>False</td>\n",
              "      <td>False</td>\n",
              "    </tr>\n",
              "  </tbody>\n",
              "</table>\n",
              "<p>5 rows × 2524 columns</p>\n",
              "</div>"
            ],
            "text/plain": [
              "          6837383  6837647  6837799  6837893  6837910  6838140  6838207  \\\n",
              "14307191    False    False    False    False    False    False    False   \n",
              "13137006    False    False    False    False    False    False    False   \n",
              "12741959    False    False    False    False    False    False    False   \n",
              "12643447    False    False    False    False    False    False    False   \n",
              "14200253    False    False    False    False    False    False    False   \n",
              "\n",
              "          6838507  6838812  6838925   ...     8334161  8334431  8334887  \\\n",
              "14307191    False    False    False   ...       False    False    False   \n",
              "13137006    False    False    False   ...       False    False    False   \n",
              "12741959    False    False    False   ...       False    False    False   \n",
              "12643447    False    False    False   ...       False    False    False   \n",
              "14200253    False    False    False   ...       False    False    False   \n",
              "\n",
              "          8336128  8336158  8336789  8336964  8337193  8339697  8340894  \n",
              "14307191    False    False    False    False    False    False    False  \n",
              "13137006    False    False    False    False    False    False    False  \n",
              "12741959    False    False    False    False    False    False    False  \n",
              "12643447    False    False    False    False    False    False    False  \n",
              "14200253    False    False    False    False    False    False    False  \n",
              "\n",
              "[5 rows x 2524 columns]"
            ]
          },
          "metadata": {
            "tags": []
          },
          "execution_count": 110
        }
      ]
    },
    {
      "metadata": {
        "id": "GleKAN-qciTT",
        "colab_type": "code",
        "outputId": "9ef7d349-b528-4a9f-d46c-195b1ae886e1",
        "colab": {
          "base_uri": "https://localhost:8080/",
          "height": 53
        }
      },
      "cell_type": "code",
      "source": [
        "citations_info_target[citations_info_target[\"app_id\"]==14307191].parsed"
      ],
      "execution_count": 0,
      "outputs": [
        {
          "output_type": "execute_result",
          "data": {
            "text/plain": [
              "698    7576688\n",
              "Name: parsed, dtype: int64"
            ]
          },
          "metadata": {
            "tags": []
          },
          "execution_count": 111
        }
      ]
    },
    {
      "metadata": {
        "id": "_msx3QYlcqy-",
        "colab_type": "code",
        "outputId": "f28d5a51-12ae-4314-e588-6c905eb12deb",
        "colab": {
          "base_uri": "https://localhost:8080/",
          "height": 35
        }
      },
      "cell_type": "code",
      "source": [
        "label_df.columns.get_loc(7576688)"
      ],
      "execution_count": 0,
      "outputs": [
        {
          "output_type": "execute_result",
          "data": {
            "text/plain": [
              "1533"
            ]
          },
          "metadata": {
            "tags": []
          },
          "execution_count": 119
        }
      ]
    },
    {
      "metadata": {
        "id": "YqXkwsqQcqjx",
        "colab_type": "code",
        "outputId": "77540b15-a590-4b96-d48f-e98576088607",
        "colab": {
          "base_uri": "https://localhost:8080/",
          "height": 106
        }
      },
      "cell_type": "code",
      "source": [
        "result_unwrap[1530:1535]"
      ],
      "execution_count": 0,
      "outputs": [
        {
          "output_type": "execute_result",
          "data": {
            "text/plain": [
              "[array([9.9984968e-01, 1.5024767e-04], dtype=float32),\n",
              " array([9.9986899e-01, 1.3095887e-04], dtype=float32),\n",
              " array([9.9981815e-01, 1.8189823e-04], dtype=float32),\n",
              " array([9.9986064e-01, 1.3937514e-04], dtype=float32),\n",
              " array([0.52681094, 0.47318903], dtype=float32)]"
            ]
          },
          "metadata": {
            "tags": []
          },
          "execution_count": 120
        }
      ]
    },
    {
      "metadata": {
        "id": "KlYpAVFYch-0",
        "colab_type": "code",
        "outputId": "f689b649-b00a-485c-bb76-8a35d4182212",
        "colab": {
          "base_uri": "https://localhost:8080/",
          "height": 35
        }
      },
      "cell_type": "code",
      "source": [
        "label_df.columns[1533]"
      ],
      "execution_count": 0,
      "outputs": [
        {
          "output_type": "execute_result",
          "data": {
            "text/plain": [
              "7576688"
            ]
          },
          "metadata": {
            "tags": []
          },
          "execution_count": 121
        }
      ]
    },
    {
      "metadata": {
        "id": "RzJkn3fzddGU",
        "colab_type": "code",
        "outputId": "02c0bc7d-5fd7-4e1c-bbeb-6227cbd8132c",
        "colab": {
          "base_uri": "https://localhost:8080/",
          "height": 106
        }
      },
      "cell_type": "code",
      "source": [
        "result_unwrap[1530:1535]"
      ],
      "execution_count": 0,
      "outputs": [
        {
          "output_type": "execute_result",
          "data": {
            "text/plain": [
              "[array([9.9984968e-01, 1.5024767e-04], dtype=float32),\n",
              " array([9.9986899e-01, 1.3095887e-04], dtype=float32),\n",
              " array([9.9981815e-01, 1.8189823e-04], dtype=float32),\n",
              " array([9.9986064e-01, 1.3937514e-04], dtype=float32),\n",
              " array([0.52681094, 0.47318903], dtype=float32)]"
            ]
          },
          "metadata": {
            "tags": []
          },
          "execution_count": 155
        }
      ]
    },
    {
      "metadata": {
        "id": "s9gk1WDRnF2B",
        "colab_type": "code",
        "outputId": "9c089b87-d10c-4a00-9cc1-9798105633e2",
        "colab": {
          "base_uri": "https://localhost:8080/",
          "height": 35
        }
      },
      "cell_type": "code",
      "source": [
        "[one[\"index\"] for one in tupples[1530:1535]]"
      ],
      "execution_count": 0,
      "outputs": [
        {
          "output_type": "execute_result",
          "data": {
            "text/plain": [
              "['0_7575179', '0_7575572', '0_7575840', '0_7576688', '0_7577750']"
            ]
          },
          "metadata": {
            "tags": []
          },
          "execution_count": 162
        }
      ]
    },
    {
      "metadata": {
        "id": "V04jo95JnFne",
        "colab_type": "code",
        "outputId": "12c05729-20b1-44da-ea0c-d32e45715bff",
        "colab": {
          "base_uri": "https://localhost:8080/",
          "height": 90
        }
      },
      "cell_type": "code",
      "source": [
        "tupples[0]"
      ],
      "execution_count": 0,
      "outputs": [
        {
          "output_type": "execute_result",
          "data": {
            "text/plain": [
              "{'claim_app': '\\n \\n  1 . A method to aggregate, filter, and share energy data for analysis, the method comprising:\\n receiving first data associated with a first electrical circuit, the first data having a first protocol; \\n sampling the first data at a first sampling rate to generate first digital data, wherein the first sampling rate is substantially continuous; and \\n transmitting reporting digital data over a network having a network protocol different from the first protocol, the reporting digital data comprising at least the first digital data, wherein the reporting digital data is transmitted at a reporting rate that is decoupled from the first sampling rate. \\n \\n \\n \\n  2 . The method of  claim 1  further comprising:\\n receiving second data associated with a second electrical circuit, the second data having a second protocol different from the first protocol; and \\n sampling the second data at a second sampling rate to generate second digital data, wherein the second sampling rate is substantially continuous; \\n wherein the network protocol is different from the first protocol and the second protocol, wherein the reporting digital data comprises at least one of the first digital data and the second digital data, and wherein the reporting digital data is transmitted at the reporting rate that is decoupled from the first sampling rate and the second sampling rate. \\n \\n \\n \\n  3 . The method of  claim 1  wherein the reporting rate is substantially continuous. \\n \\n \\n  4 . The method of  claim 2  further comprising:\\n validating the first digital data and the second digital data to remove erroneous data points and to provide validated data; \\n removing redundant data points from the validated data to provide reduced data; and \\n transmitting messages based at least in part on the reduced data over the network. \\n \\n \\n \\n  5 . The method of  claim 2  further comprising analyzing the first data and the second data and transmitting messages comprising control signals for load control of at least one of the first and the second electrical circuits based on the analysis of the first data and the second data. \\n \\n \\n  6 . The method of  claim 2  further comprising receiving control signals for load control of at least one of the first electrical circuit and the second electrical circuit. \\n \\n \\n  7 . The method of  claim 1  wherein the network comprises the Internet, wherein the network is accessed by one or more of wired access and wireless access. \\n \\n \\n  8 . The method of  claim 1  wherein the network comprises one or more servers in a cloud configuration. \\n \\n \\n  9 . The method of  claim 2  further comprising storing at least one of the first digital data, the second digital data, and the reporting digital data until confirmation that the third digital data is successfully transmitted over the network. \\n \\n \\n  10 . The method of  claim 1  wherein receiving the first electrical signal comprises receiving at least one of amplitude, phase, voltage, current, fundamental energy component, harmonic energy components, intermodulation energy components, and transient energy components associated with the first electrical signal. \\n \\n \\n  11 . The method of  claim 1  wherein the first sampling rate is between approximately once every 15 minutes to approximately 1 MHz. \\n \\n \\n  12 . An apparatus to aggregate, filter, and share energy data for analysis, the apparatus comprising:\\n a first input configured to receive first data associated with a first electrical circuit, the first data having a first protocol; \\n first circuitry configured to sample the first data at a first sampling rate to generate first digital data, wherein the first sampling rate is substantially continuous; and \\n a communication port configured to transmit reporting digital data over a network having a network protocol different from the first protocol, the reporting digital data comprising at least the first digital data, wherein the reporting digital data is transmitted at a reporting rate that is decoupled from the first sampling rate. \\n \\n \\n \\n  13 . The apparatus of  claim 12  further comprising:\\n a second input configured to receive second data associated with a second electrical circuit, the second data having a second protocol different from the first protocol; and \\n second circuitry configured to sample the second data at a second sampling rate to generate second digital data, wherein the second sampling rate is substantially continuous; \\n wherein the communication port is further configured to transmit the reporting digital data over the network having the network protocol different from the first protocol and the second protocol, the reporting digital data comprising at least one of the first digital data and the second digital data, and wherein the reporting digital data is transmitted at the reporting rate that is decoupled from the first sampling rate and the second sampling rate. \\n \\n \\n \\n  14 . The apparatus of  claim 12  wherein the reporting rate is substantially continuous. \\n \\n \\n  15 . The apparatus of  claim 13  further comprising:\\n computer hardware configured to validate the first digital data and the second digital data to remove erroneous data points and to provide validated data; and \\n computer hardware configured to remove redundant data points from the validated data to provide reduced data; \\n wherein the communication port is further configured to transmit messages based at least in part on the reduced data over the network. \\n \\n \\n \\n  16 . The apparatus of  claim 15  further comprising computer hardware configured to perform energy calculations on the reduced data to provide calculated energy data, wherein the computer hardware comprises cloud-based servers. \\n \\n \\n  17 . The apparatus of  claim 16  wherein the calculated energy data comprises at least one of line-to-line and line-to-current voltage, total power, active power, reactive power, line-to-line and line-to-neutral current, power factor, fundamental and harmonic total energy per phase, fundamental and harmonic total energy for the sum of phases, fundamental and harmonic active energy per phase, fundamental and harmonic active energy for the sum of phases, fundamental and harmonic reactive energy per phase, fundamental and harmonic reactive energy for the sum of phases, frequency, harmonic frequency, gas usage, chilled water usage, hot water usage, and total energy usage. \\n \\n \\n  18 . The apparatus of  claim 13  further comprising analytics configured to analyze the first data and the second data and to provide messages comprising control signals for load control of at least one of the first electrical circuit and the second electrical circuit based on the analysis of the first data and the second data. \\n \\n \\n  19 . The apparatus of  claim 13  wherein the communication port is further configured to receive control signals for load control of at least one of the first electrical circuit and the second electrical circuit. \\n \\n \\n  20 . The apparatus of  claim 12  wherein the network comprises the Internet, and wherein the network is accessed by one or more of wired access and wireless access. \\n \\n \\n  21 . The apparatus of  claim 12  wherein the network comprises one or more servers in a cloud configuration. \\n \\n \\n  22 . The apparatus of  claim 13  further comprising memory configured to store at least one of the first digital data, the second digital data, and the reporting digital data until confirmation that the reporting digital data is successfully transmitted over the network. \\n \\n \\n  23 . The apparatus of  claim 12  wherein the first electrical signal comprises at least one of amplitude, phase, voltage, current, fundamental energy component, harmonic energy components, intermodulation energy components, and transient energy components associated with first electrical signal. \\n \\n \\n  24 . The apparatus of  claim 12  wherein the first sampling rate is between approximately once every 15 minutes to approximately 1 MHz. \\n \\n',\n",
              " 'claim_cited_grant': '\\n \\n 1. A tool organizer for mounting to and adapted for use with a vehicle lift rack having support arms, said tool organizer comprising:\\n four upstanding walls depending from a base and forming a storage volume for storing a plurality of tools and parts;  \\n a selectively articulating lid enclosing said storage volume;  \\n adjustable attachment means depending from said storage volume, said attachment means removably attachable to said support arms for supporting said tool organizer by gravity impingement;  \\n a U-shaped ring affixed to an external portion of at least one of said walls, said ring for supporting a hand tool;  \\n a support plate projected from a front of said tool organizer and co-extensive with said base;  \\n a plurality of intermediate apertures formed in said support plate, said plurality of intermediate apertures adapted sized to accommodate intermediate and large hand tools;  \\n a plurality of small apertures formed in said support plate, said plurality of small apertures adapted to accommodate small hand tools;  \\n at least one large aperture formed in said support plate, said at least one large aperture adapted to accommodate a container.  \\n \\n \\n \\n 2. The tool organizer of  claim 1  further comprising a slidably retained storage drawer provided beneath said base and said support plate for additional storage area, said base and said support plate operating as an enclosure for said storage drawer. \\n \\n \\n 3. The tool organizer of  claim 2 , wherein a face of said storage drawer is co-extensive with an anterior margin of said support plate, said storage drawer further comprising a handle for easily grasping for selectively opening and closing said storage drawer. \\n \\n \\n 4. The tool organizer of  claim 1 , wherein said tool organizer rests cantilevered to said support arms, thereby positioning said storage volume below a horizontal level of said support arms. \\n \\n \\n 5. The tool organizer of  claim 1 , wherein said four upstanding walls comprise a front wall opposite a rear wall, a first sidewall opposite a second sidewall, wherein said first sidewall and said second sidewall are intermediately disposed between said front wall and said rear wall. \\n \\n \\n 6. The tool organizer of  claim 5 , wherein said rear wall comprises a greater vertical profile than said front wall for providing ease of access to said storage volume. \\n \\n \\n 7. The tool organizer of  claim 5 , wherein said first sidewall and said second sidewall are inclined from said front wall to said rear wall for providing ease of access to said storage volume. \\n \\n \\n 8. The tool organizer of  claim 1 , wherein said lid is affixed to said storage volume by an articulating hinge. \\n \\n \\n 9. The tool organizer of  claim 1 , wherein said lid comprises a lock for securing contents of said storage volume from unauthorized removal and theft. \\n \\n \\n 10. The tool organizer of  claim 1 , wherein said attachment means comprise at least one hook adjustable in length to accommodate variations in widths of said support arms. \\n \\n \\n 11. The tool organizer of  claim 1 , wherein at least one of said upstanding walls comprises magnetic properties for attracting and supporting magnetic objects. \\n \\n \\n 12. The tool organizer of  claim 1 , wherein said tool organizer comprises a color in a general class of yellow for providing visual indication of said tool organizer location. \\n \\n',\n",
              " 'index': '0_6837383'}"
            ]
          },
          "metadata": {
            "tags": []
          },
          "execution_count": 165
        }
      ]
    },
    {
      "metadata": {
        "id": "VKwLW5pDnwmd",
        "colab_type": "code",
        "outputId": "4d2f4fd9-f8cd-4557-f9ff-7be15a196d2e",
        "colab": {
          "base_uri": "https://localhost:8080/",
          "height": 35
        }
      },
      "cell_type": "code",
      "source": [
        "label_df.columns[0]"
      ],
      "execution_count": 0,
      "outputs": [
        {
          "output_type": "execute_result",
          "data": {
            "text/plain": [
              "6837383"
            ]
          },
          "metadata": {
            "tags": []
          },
          "execution_count": 166
        }
      ]
    },
    {
      "metadata": {
        "id": "ZHAPWYF6nwXE",
        "colab_type": "code",
        "colab": {}
      },
      "cell_type": "code",
      "source": [
        ""
      ],
      "execution_count": 0,
      "outputs": []
    },
    {
      "metadata": {
        "id": "8J2v-vXtdob-",
        "colab_type": "code",
        "outputId": "6c1a9014-1f69-449a-cd2a-eaf45cf075c5",
        "colab": {
          "base_uri": "https://localhost:8080/",
          "height": 35
        }
      },
      "cell_type": "code",
      "source": [
        "len(label_df.columns)"
      ],
      "execution_count": 0,
      "outputs": [
        {
          "output_type": "execute_result",
          "data": {
            "text/plain": [
              "2524"
            ]
          },
          "metadata": {
            "tags": []
          },
          "execution_count": 128
        }
      ]
    },
    {
      "metadata": {
        "id": "TcewudgjjlEI",
        "colab_type": "code",
        "colab": {}
      },
      "cell_type": "code",
      "source": [
        "first_res = [tup[1] for tup in result_unwrap[0:2524]]"
      ],
      "execution_count": 0,
      "outputs": []
    },
    {
      "metadata": {
        "id": "qpaIv3uWjk0W",
        "colab_type": "code",
        "outputId": "7bbc6797-1e4e-4a70-c2bb-083d29ccd74a",
        "colab": {
          "base_uri": "https://localhost:8080/",
          "height": 35
        }
      },
      "cell_type": "code",
      "source": [
        "first_res.index(max(first_res))"
      ],
      "execution_count": 0,
      "outputs": [
        {
          "output_type": "execute_result",
          "data": {
            "text/plain": [
              "2429"
            ]
          },
          "metadata": {
            "tags": []
          },
          "execution_count": 135
        }
      ]
    },
    {
      "metadata": {
        "id": "qZaZ7CANdoK6",
        "colab_type": "code",
        "outputId": "52fdd45b-0d92-4830-e675-9795b109667b",
        "colab": {
          "base_uri": "https://localhost:8080/",
          "height": 35
        }
      },
      "cell_type": "code",
      "source": [
        "result_unwrap[2429]"
      ],
      "execution_count": 0,
      "outputs": [
        {
          "output_type": "execute_result",
          "data": {
            "text/plain": [
              "array([9.6167554e-05, 9.9990380e-01], dtype=float32)"
            ]
          },
          "metadata": {
            "tags": []
          },
          "execution_count": 136
        }
      ]
    },
    {
      "metadata": {
        "id": "xgs2ALr9kFPF",
        "colab_type": "code",
        "outputId": "15584b57-d6bd-4c61-e525-e10f2c7aebbf",
        "colab": {
          "base_uri": "https://localhost:8080/",
          "height": 1795
        }
      },
      "cell_type": "code",
      "source": [
        "sorted(first_res, reverse=True)[0:100]"
      ],
      "execution_count": 0,
      "outputs": [
        {
          "output_type": "execute_result",
          "data": {
            "text/plain": [
              "[0.9999038,\n",
              " 0.9999002,\n",
              " 0.9999,\n",
              " 0.9998981,\n",
              " 0.9998971,\n",
              " 0.99989426,\n",
              " 0.9998926,\n",
              " 0.9998896,\n",
              " 0.9998851,\n",
              " 0.9998845,\n",
              " 0.9998822,\n",
              " 0.9998683,\n",
              " 0.99986625,\n",
              " 0.99986136,\n",
              " 0.9998572,\n",
              " 0.999851,\n",
              " 0.99984765,\n",
              " 0.99984276,\n",
              " 0.99983644,\n",
              " 0.9998337,\n",
              " 0.9998331,\n",
              " 0.99982184,\n",
              " 0.9998141,\n",
              " 0.9998128,\n",
              " 0.99981123,\n",
              " 0.99979824,\n",
              " 0.9997905,\n",
              " 0.99977726,\n",
              " 0.9997663,\n",
              " 0.9997607,\n",
              " 0.99974984,\n",
              " 0.9997284,\n",
              " 0.99970305,\n",
              " 0.99966955,\n",
              " 0.99966323,\n",
              " 0.99964607,\n",
              " 0.99948835,\n",
              " 0.9994863,\n",
              " 0.9994686,\n",
              " 0.9994173,\n",
              " 0.9993445,\n",
              " 0.99932206,\n",
              " 0.9992962,\n",
              " 0.99916995,\n",
              " 0.99912757,\n",
              " 0.99909306,\n",
              " 0.9990852,\n",
              " 0.9990293,\n",
              " 0.9989574,\n",
              " 0.9989573,\n",
              " 0.99878114,\n",
              " 0.9985979,\n",
              " 0.99844414,\n",
              " 0.9983937,\n",
              " 0.9983798,\n",
              " 0.99776447,\n",
              " 0.99763006,\n",
              " 0.99744403,\n",
              " 0.99735945,\n",
              " 0.9972683,\n",
              " 0.99682057,\n",
              " 0.99669987,\n",
              " 0.9965874,\n",
              " 0.9965056,\n",
              " 0.9963832,\n",
              " 0.9958139,\n",
              " 0.9955245,\n",
              " 0.9948787,\n",
              " 0.9948294,\n",
              " 0.9942055,\n",
              " 0.9940918,\n",
              " 0.99350864,\n",
              " 0.9931433,\n",
              " 0.99291205,\n",
              " 0.9925493,\n",
              " 0.9902334,\n",
              " 0.987956,\n",
              " 0.98655933,\n",
              " 0.9856634,\n",
              " 0.9856187,\n",
              " 0.9761249,\n",
              " 0.9757157,\n",
              " 0.9732617,\n",
              " 0.96547914,\n",
              " 0.9610973,\n",
              " 0.96061105,\n",
              " 0.9519753,\n",
              " 0.9473898,\n",
              " 0.9363126,\n",
              " 0.9313812,\n",
              " 0.91441923,\n",
              " 0.90575,\n",
              " 0.9054965,\n",
              " 0.87737584,\n",
              " 0.81888705,\n",
              " 0.81884176,\n",
              " 0.71857375,\n",
              " 0.6737001,\n",
              " 0.66910595,\n",
              " 0.65066874]"
            ]
          },
          "metadata": {
            "tags": []
          },
          "execution_count": 146
        }
      ]
    },
    {
      "metadata": {
        "id": "_hZJdFcTkE5g",
        "colab_type": "code",
        "colab": {}
      },
      "cell_type": "code",
      "source": [
        ""
      ],
      "execution_count": 0,
      "outputs": []
    },
    {
      "metadata": {
        "id": "wPTZFnDCpHFd",
        "colab_type": "text"
      },
      "cell_type": "markdown",
      "source": [
        "First application is not so impressive result. Try second one."
      ]
    },
    {
      "metadata": {
        "id": "vv_EotAolNXb",
        "colab_type": "code",
        "colab": {}
      },
      "cell_type": "code",
      "source": [
        "one_res = [tup[1] for tup in result_unwrap[2524*1:2524*2]]"
      ],
      "execution_count": 0,
      "outputs": []
    },
    {
      "metadata": {
        "id": "qhQvYwxmlZeB",
        "colab_type": "code",
        "outputId": "19d6e04e-a090-4f45-b792-0dab94d44601",
        "colab": {
          "base_uri": "https://localhost:8080/",
          "height": 53
        }
      },
      "cell_type": "code",
      "source": [
        "citations_info_target[citations_info_target[\"app_id\"]==13137006].parsed"
      ],
      "execution_count": 0,
      "outputs": [
        {
          "output_type": "execute_result",
          "data": {
            "text/plain": [
              "1150    6856341\n",
              "Name: parsed, dtype: int64"
            ]
          },
          "metadata": {
            "tags": []
          },
          "execution_count": 148
        }
      ]
    },
    {
      "metadata": {
        "id": "nNakyIE6lZP2",
        "colab_type": "code",
        "outputId": "de59334b-d471-4274-f094-ff1635c94820",
        "colab": {
          "base_uri": "https://localhost:8080/",
          "height": 35
        }
      },
      "cell_type": "code",
      "source": [
        "label_df.columns.get_loc(6856341)"
      ],
      "execution_count": 0,
      "outputs": [
        {
          "output_type": "execute_result",
          "data": {
            "text/plain": [
              "43"
            ]
          },
          "metadata": {
            "tags": []
          },
          "execution_count": 149
        }
      ]
    },
    {
      "metadata": {
        "id": "0_g8e-IflZDU",
        "colab_type": "code",
        "outputId": "89f5c679-5f6b-434f-8979-97dbae2de503",
        "colab": {
          "base_uri": "https://localhost:8080/",
          "height": 35
        }
      },
      "cell_type": "code",
      "source": [
        "one_res[43]"
      ],
      "execution_count": 0,
      "outputs": [
        {
          "output_type": "execute_result",
          "data": {
            "text/plain": [
              "0.9998958"
            ]
          },
          "metadata": {
            "tags": []
          },
          "execution_count": 167
        }
      ]
    },
    {
      "metadata": {
        "id": "FuDB-sLKojAp",
        "colab_type": "code",
        "outputId": "609c22bd-6561-42fd-d8e7-c990d44b9f53",
        "colab": {
          "base_uri": "https://localhost:8080/",
          "height": 35
        }
      },
      "cell_type": "code",
      "source": [
        "one_res.index(max(one_res))"
      ],
      "execution_count": 0,
      "outputs": [
        {
          "output_type": "execute_result",
          "data": {
            "text/plain": [
              "1862"
            ]
          },
          "metadata": {
            "tags": []
          },
          "execution_count": 168
        }
      ]
    },
    {
      "metadata": {
        "id": "zxAJ1zxuoiw2",
        "colab_type": "code",
        "outputId": "8492247a-35fb-40b5-d825-b0b39e91c2f6",
        "colab": {
          "base_uri": "https://localhost:8080/",
          "height": 35
        }
      },
      "cell_type": "code",
      "source": [
        "one_res[1862]"
      ],
      "execution_count": 0,
      "outputs": [
        {
          "output_type": "execute_result",
          "data": {
            "text/plain": [
              "0.99990904"
            ]
          },
          "metadata": {
            "tags": []
          },
          "execution_count": 169
        }
      ]
    },
    {
      "metadata": {
        "id": "sUiM1f7YotB9",
        "colab_type": "code",
        "outputId": "d041d66d-78b0-42af-c9f5-a49ad6bf6a5e",
        "colab": {
          "base_uri": "https://localhost:8080/",
          "height": 906
        }
      },
      "cell_type": "code",
      "source": [
        "sorted(one_res, reverse=True)[0:50]"
      ],
      "execution_count": 0,
      "outputs": [
        {
          "output_type": "execute_result",
          "data": {
            "text/plain": [
              "[0.99990904,\n",
              " 0.99990845,\n",
              " 0.9999075,\n",
              " 0.9999074,\n",
              " 0.999907,\n",
              " 0.99990594,\n",
              " 0.9999052,\n",
              " 0.999905,\n",
              " 0.99990475,\n",
              " 0.9999039,\n",
              " 0.9999038,\n",
              " 0.9999032,\n",
              " 0.9999031,\n",
              " 0.9999031,\n",
              " 0.99990296,\n",
              " 0.9999027,\n",
              " 0.9999021,\n",
              " 0.99990153,\n",
              " 0.9999014,\n",
              " 0.9999012,\n",
              " 0.99990106,\n",
              " 0.99990094,\n",
              " 0.99990046,\n",
              " 0.99990034,\n",
              " 0.9999,\n",
              " 0.99989974,\n",
              " 0.99989927,\n",
              " 0.999899,\n",
              " 0.9998988,\n",
              " 0.9998987,\n",
              " 0.9998982,\n",
              " 0.99989796,\n",
              " 0.9998976,\n",
              " 0.99989736,\n",
              " 0.9998964,\n",
              " 0.99989605,\n",
              " 0.9998958,\n",
              " 0.999895,\n",
              " 0.99989486,\n",
              " 0.9998944,\n",
              " 0.99989426,\n",
              " 0.9998933,\n",
              " 0.9998933,\n",
              " 0.99989307,\n",
              " 0.9998926,\n",
              " 0.9998921,\n",
              " 0.9998909,\n",
              " 0.99988914,\n",
              " 0.9998889,\n",
              " 0.9998882]"
            ]
          },
          "metadata": {
            "tags": []
          },
          "execution_count": 170
        }
      ]
    },
    {
      "metadata": {
        "id": "FQt0sORqosui",
        "colab_type": "code",
        "outputId": "b611c8da-375f-41c6-92a0-41892a13f1d2",
        "colab": {
          "base_uri": "https://localhost:8080/",
          "height": 35
        }
      },
      "cell_type": "code",
      "source": [
        "sorted(one_res, reverse=True).index(one_res[43])"
      ],
      "execution_count": 0,
      "outputs": [
        {
          "output_type": "execute_result",
          "data": {
            "text/plain": [
              "36"
            ]
          },
          "metadata": {
            "tags": []
          },
          "execution_count": 171
        }
      ]
    },
    {
      "metadata": {
        "id": "H4GNtg8Zosf6",
        "colab_type": "code",
        "colab": {}
      },
      "cell_type": "code",
      "source": [
        ""
      ],
      "execution_count": 0,
      "outputs": []
    },
    {
      "metadata": {
        "id": "B1g06P7pmSZ3",
        "colab_type": "code",
        "outputId": "4a2637ff-2eae-4633-e047-424e00f72bd4",
        "colab": {
          "base_uri": "https://localhost:8080/",
          "height": 35
        }
      },
      "cell_type": "code",
      "source": [
        "label_df.columns[43]"
      ],
      "execution_count": 0,
      "outputs": [
        {
          "output_type": "execute_result",
          "data": {
            "text/plain": [
              "6856341"
            ]
          },
          "metadata": {
            "tags": []
          },
          "execution_count": 153
        }
      ]
    },
    {
      "metadata": {
        "id": "lElqxZHYlNI7",
        "colab_type": "code",
        "outputId": "f5b2309e-e6d5-48a9-bf3c-2b6eadb2a297",
        "colab": {
          "base_uri": "https://localhost:8080/",
          "height": 35
        }
      },
      "cell_type": "code",
      "source": [
        "len(one_res)"
      ],
      "execution_count": 0,
      "outputs": [
        {
          "output_type": "execute_result",
          "data": {
            "text/plain": [
              "2524"
            ]
          },
          "metadata": {
            "tags": []
          },
          "execution_count": 152
        }
      ]
    },
    {
      "metadata": {
        "id": "ZXv9hg01b9Yo",
        "colab_type": "code",
        "outputId": "9ad3a134-a86d-4357-d1a8-d551620601c8",
        "colab": {
          "base_uri": "https://localhost:8080/",
          "height": 35
        }
      },
      "cell_type": "code",
      "source": [
        "list(test_fdict.keys())"
      ],
      "execution_count": 0,
      "outputs": [
        {
          "output_type": "execute_result",
          "data": {
            "text/plain": [
              "['input_ids', 'input_mask', 'segment_ids', 'label_ids']"
            ]
          },
          "metadata": {
            "tags": []
          },
          "execution_count": 109
        }
      ]
    },
    {
      "metadata": {
        "id": "8GRinEnwb2gC",
        "colab_type": "code",
        "outputId": "07c59346-0d93-4749-fd41-112849b0c5a6",
        "colab": {
          "base_uri": "https://localhost:8080/",
          "height": 204
        }
      },
      "cell_type": "code",
      "source": [
        "testset_app_df.head()"
      ],
      "execution_count": 0,
      "outputs": [
        {
          "output_type": "execute_result",
          "data": {
            "text/html": [
              "<div>\n",
              "<style scoped>\n",
              "    .dataframe tbody tr th:only-of-type {\n",
              "        vertical-align: middle;\n",
              "    }\n",
              "\n",
              "    .dataframe tbody tr th {\n",
              "        vertical-align: top;\n",
              "    }\n",
              "\n",
              "    .dataframe thead th {\n",
              "        text-align: right;\n",
              "    }\n",
              "</style>\n",
              "<table border=\"1\" class=\"dataframe\">\n",
              "  <thead>\n",
              "    <tr style=\"text-align: right;\">\n",
              "      <th></th>\n",
              "      <th>app_id</th>\n",
              "      <th>xml</th>\n",
              "    </tr>\n",
              "  </thead>\n",
              "  <tbody>\n",
              "    <tr>\n",
              "      <th>0</th>\n",
              "      <td>14307191</td>\n",
              "      <td>&lt;us-patent-application lang=\"EN\" dtd-version=\"...</td>\n",
              "    </tr>\n",
              "    <tr>\n",
              "      <th>1</th>\n",
              "      <td>13137006</td>\n",
              "      <td>&lt;us-patent-application lang=\"EN\" dtd-version=\"...</td>\n",
              "    </tr>\n",
              "    <tr>\n",
              "      <th>2</th>\n",
              "      <td>12741959</td>\n",
              "      <td>&lt;us-patent-application lang=\"EN\" dtd-version=\"...</td>\n",
              "    </tr>\n",
              "    <tr>\n",
              "      <th>3</th>\n",
              "      <td>12643447</td>\n",
              "      <td>&lt;us-patent-application lang=\"EN\" dtd-version=\"...</td>\n",
              "    </tr>\n",
              "    <tr>\n",
              "      <th>4</th>\n",
              "      <td>14200253</td>\n",
              "      <td>&lt;us-patent-application lang=\"EN\" dtd-version=\"...</td>\n",
              "    </tr>\n",
              "  </tbody>\n",
              "</table>\n",
              "</div>"
            ],
            "text/plain": [
              "     app_id                                                xml\n",
              "0  14307191  <us-patent-application lang=\"EN\" dtd-version=\"...\n",
              "1  13137006  <us-patent-application lang=\"EN\" dtd-version=\"...\n",
              "2  12741959  <us-patent-application lang=\"EN\" dtd-version=\"...\n",
              "3  12643447  <us-patent-application lang=\"EN\" dtd-version=\"...\n",
              "4  14200253  <us-patent-application lang=\"EN\" dtd-version=\"..."
            ]
          },
          "metadata": {
            "tags": []
          },
          "execution_count": 105
        }
      ]
    },
    {
      "metadata": {
        "id": "35LMN9mXb2bZ",
        "colab_type": "code",
        "colab": {}
      },
      "cell_type": "code",
      "source": [
        ""
      ],
      "execution_count": 0,
      "outputs": []
    },
    {
      "metadata": {
        "id": "mpZJvpu3b2Vz",
        "colab_type": "code",
        "colab": {}
      },
      "cell_type": "code",
      "source": [
        ""
      ],
      "execution_count": 0,
      "outputs": []
    },
    {
      "metadata": {
        "id": "keeSLlGf_sF0",
        "colab_type": "code",
        "outputId": "9bf85050-40ea-48b3-d214-93650b7f7cd8",
        "colab": {
          "base_uri": "https://localhost:8080/",
          "height": 204
        }
      },
      "cell_type": "code",
      "source": [
        "test_data.head()"
      ],
      "execution_count": 0,
      "outputs": [
        {
          "output_type": "execute_result",
          "data": {
            "text/html": [
              "<div>\n",
              "<style scoped>\n",
              "    .dataframe tbody tr th:only-of-type {\n",
              "        vertical-align: middle;\n",
              "    }\n",
              "\n",
              "    .dataframe tbody tr th {\n",
              "        vertical-align: top;\n",
              "    }\n",
              "\n",
              "    .dataframe thead th {\n",
              "        text-align: right;\n",
              "    }\n",
              "</style>\n",
              "<table border=\"1\" class=\"dataframe\">\n",
              "  <thead>\n",
              "    <tr style=\"text-align: right;\">\n",
              "      <th></th>\n",
              "      <th>index</th>\n",
              "      <th>claim_app</th>\n",
              "      <th>claim_cited_grant</th>\n",
              "      <th>label</th>\n",
              "    </tr>\n",
              "  </thead>\n",
              "  <tbody>\n",
              "    <tr>\n",
              "      <th>0</th>\n",
              "      <td>0</td>\n",
              "      <td>1 . A rotational angle detection device for a ...</td>\n",
              "      <td>1. A tangible computer-readable medium having ...</td>\n",
              "      <td>not_entailment</td>\n",
              "    </tr>\n",
              "    <tr>\n",
              "      <th>1</th>\n",
              "      <td>1</td>\n",
              "      <td>1 . A method comprising:sensing electrocardiog...</td>\n",
              "      <td>1. A medical system, comprising:an implantable...</td>\n",
              "      <td>entailment</td>\n",
              "    </tr>\n",
              "    <tr>\n",
              "      <th>2</th>\n",
              "      <td>2</td>\n",
              "      <td>1 . A system for controlling temperature insid...</td>\n",
              "      <td>1. An integrated differential receiver for an ...</td>\n",
              "      <td>not_entailment</td>\n",
              "    </tr>\n",
              "    <tr>\n",
              "      <th>3</th>\n",
              "      <td>3</td>\n",
              "      <td>1 . A recording apparatus for recording update...</td>\n",
              "      <td>1. A method for indicating a priority of a Voi...</td>\n",
              "      <td>not_entailment</td>\n",
              "    </tr>\n",
              "    <tr>\n",
              "      <th>4</th>\n",
              "      <td>4</td>\n",
              "      <td>1 . Apparatus for moving a material within an ...</td>\n",
              "      <td>1. A wellbore packer having an expandable pack...</td>\n",
              "      <td>entailment</td>\n",
              "    </tr>\n",
              "  </tbody>\n",
              "</table>\n",
              "</div>"
            ],
            "text/plain": [
              "   index                                          claim_app  \\\n",
              "0      0  1 . A rotational angle detection device for a ...   \n",
              "1      1  1 . A method comprising:sensing electrocardiog...   \n",
              "2      2  1 . A system for controlling temperature insid...   \n",
              "3      3  1 . A recording apparatus for recording update...   \n",
              "4      4  1 . Apparatus for moving a material within an ...   \n",
              "\n",
              "                                   claim_cited_grant           label  \n",
              "0  1. A tangible computer-readable medium having ...  not_entailment  \n",
              "1  1. A medical system, comprising:an implantable...      entailment  \n",
              "2  1. An integrated differential receiver for an ...  not_entailment  \n",
              "3  1. A method for indicating a priority of a Voi...  not_entailment  \n",
              "4  1. A wellbore packer having an expandable pack...      entailment  "
            ]
          },
          "metadata": {
            "tags": []
          },
          "execution_count": 62
        }
      ]
    },
    {
      "metadata": {
        "id": "ICEWd1I9_r2q",
        "colab_type": "code",
        "colab": {}
      },
      "cell_type": "code",
      "source": [
        ""
      ],
      "execution_count": 0,
      "outputs": []
    },
    {
      "metadata": {
        "id": "6UM2bS5pxXAd",
        "colab_type": "code",
        "outputId": "1c60496d-0a32-4e32-a59a-a6a66f070f66",
        "colab": {
          "base_uri": "https://localhost:8080/",
          "height": 35
        }
      },
      "cell_type": "code",
      "source": [
        "1000*1000*(43.7/2502)/(60*60)"
      ],
      "execution_count": 0,
      "outputs": [
        {
          "output_type": "execute_result",
          "data": {
            "text/plain": [
              "4.85167421618261"
            ]
          },
          "metadata": {
            "tags": []
          },
          "execution_count": 63
        }
      ]
    },
    {
      "metadata": {
        "id": "TDHWECl7B4Wz",
        "colab_type": "code",
        "colab": {}
      },
      "cell_type": "code",
      "source": [
        ""
      ],
      "execution_count": 0,
      "outputs": []
    }
  ]
}