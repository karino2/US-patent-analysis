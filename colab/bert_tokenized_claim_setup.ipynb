{
  "nbformat": 4,
  "nbformat_minor": 0,
  "metadata": {
    "colab": {
      "name": "bert-tokenized-claim-setup.ipynb",
      "version": "0.3.2",
      "provenance": [],
      "collapsed_sections": [],
      "toc_visible": true,
      "include_colab_link": true
    },
    "kernelspec": {
      "name": "python3",
      "display_name": "Python 3"
    },
    "accelerator": "TPU"
  },
  "cells": [
    {
      "cell_type": "markdown",
      "metadata": {
        "id": "view-in-github",
        "colab_type": "text"
      },
      "source": [
        "<a href=\"https://colab.research.google.com/github/karino2/US-patent-analysis/blob/triplet_loss_colab/colab/bert_tokenized_claim_setup.ipynb\" target=\"_parent\"><img src=\"https://colab.research.google.com/assets/colab-badge.svg\" alt=\"Open In Colab\"/></a>"
      ]
    },
    {
      "metadata": {
        "id": "rQph610BeO4I",
        "colab_type": "text"
      },
      "cell_type": "markdown",
      "source": [
        "**Create tokenized dataset for BERT, 2000-2000 prediction benchmark trial**\n",
        "\n",
        "Basic code is from here: \n",
        "https://github.com/karino2/US-patent-analysis/blob/master/notebook/tfidf_nearest.ipynb"
      ]
    },
    {
      "metadata": {
        "id": "3Cv0EJiZ8vi6",
        "colab_type": "code",
        "colab": {}
      },
      "cell_type": "code",
      "source": [
        "import os\n",
        "import datetime\n",
        "import pickle\n",
        "import gzip\n",
        "\n",
        "import tensorflow as tf"
      ],
      "execution_count": 0,
      "outputs": []
    },
    {
      "metadata": {
        "id": "R3AyT0Fq8yzD",
        "colab_type": "code",
        "outputId": "c5798de8-2d60-4a9c-8227-87709509aa8b",
        "colab": {
          "base_uri": "https://localhost:8080/",
          "height": 35
        }
      },
      "cell_type": "code",
      "source": [
        "tf.__version__"
      ],
      "execution_count": 2,
      "outputs": [
        {
          "output_type": "execute_result",
          "data": {
            "text/plain": [
              "'1.13.1'"
            ]
          },
          "metadata": {
            "tags": []
          },
          "execution_count": 2
        }
      ]
    },
    {
      "metadata": {
        "id": "EWkrwgQV80JK",
        "colab_type": "code",
        "outputId": "94b95715-8e44-471d-cb63-dec189f9cf32",
        "colab": {
          "base_uri": "https://localhost:8080/",
          "height": 35
        }
      },
      "cell_type": "code",
      "source": [
        "!git clone -b docker https://github.com/yoheikikuta/bert.git"
      ],
      "execution_count": 3,
      "outputs": [
        {
          "output_type": "stream",
          "text": [
            "fatal: destination path 'bert' already exists and is not an empty directory.\n"
          ],
          "name": "stdout"
        }
      ]
    },
    {
      "metadata": {
        "id": "eg8r8ARt89w3",
        "colab_type": "code",
        "outputId": "576a9f78-8675-4ba8-f5d1-19533365df65",
        "colab": {
          "base_uri": "https://localhost:8080/",
          "height": 35
        }
      },
      "cell_type": "code",
      "source": [
        "!ls"
      ],
      "execution_count": 4,
      "outputs": [
        {
          "output_type": "stream",
          "text": [
            "adc.json  bert\tsample_data\n"
          ],
          "name": "stdout"
        }
      ]
    },
    {
      "metadata": {
        "id": "yLWTT6NZ_ZYi",
        "colab_type": "text"
      },
      "cell_type": "markdown",
      "source": [
        "**Check tpu name**"
      ]
    },
    {
      "metadata": {
        "id": "pShRjorw_Lla",
        "colab_type": "code",
        "outputId": "639aa612-b562-4b68-f2f0-06d3a2d938ab",
        "colab": {
          "base_uri": "https://localhost:8080/",
          "height": 393
        }
      },
      "cell_type": "code",
      "source": [
        "import datetime\n",
        "import json\n",
        "import os\n",
        "import pprint\n",
        "import random\n",
        "import string\n",
        "import sys\n",
        "import tensorflow as tf\n",
        "\n",
        "assert 'COLAB_TPU_ADDR' in os.environ, 'ERROR: Not connected to a TPU runtime; please see the first cell in this notebook for instructions!'\n",
        "TPU_ADDRESS = 'grpc://' + os.environ['COLAB_TPU_ADDR']\n",
        "print('TPU address is', TPU_ADDRESS)\n",
        "\n",
        "from google.colab import auth\n",
        "auth.authenticate_user()\n",
        "\n",
        "with tf.Session(TPU_ADDRESS) as session:\n",
        "  print('TPU devices:')\n",
        "  pprint.pprint(session.list_devices())\n",
        "\n",
        "  # Upload credentials to TPU.\n",
        "  with open('/content/adc.json', 'r') as f:\n",
        "    auth_info = json.load(f)\n",
        "  tf.contrib.cloud.configure_gcs(session, credentials=auth_info)\n",
        "  # Now credentials are set for all future sessions on this TPU."
      ],
      "execution_count": 5,
      "outputs": [
        {
          "output_type": "stream",
          "text": [
            "TPU address is grpc://10.81.75.66:8470\n",
            "TPU devices:\n",
            "[_DeviceAttributes(/job:tpu_worker/replica:0/task:0/device:CPU:0, CPU, -1, 10635577033367471859),\n",
            " _DeviceAttributes(/job:tpu_worker/replica:0/task:0/device:XLA_CPU:0, XLA_CPU, 17179869184, 976606133020435086),\n",
            " _DeviceAttributes(/job:tpu_worker/replica:0/task:0/device:TPU:0, TPU, 17179869184, 4501356155637751213),\n",
            " _DeviceAttributes(/job:tpu_worker/replica:0/task:0/device:TPU:1, TPU, 17179869184, 13632525968536816513),\n",
            " _DeviceAttributes(/job:tpu_worker/replica:0/task:0/device:TPU:2, TPU, 17179869184, 8641085653688703972),\n",
            " _DeviceAttributes(/job:tpu_worker/replica:0/task:0/device:TPU:3, TPU, 17179869184, 369903914460703330),\n",
            " _DeviceAttributes(/job:tpu_worker/replica:0/task:0/device:TPU:4, TPU, 17179869184, 9085190748269255527),\n",
            " _DeviceAttributes(/job:tpu_worker/replica:0/task:0/device:TPU:5, TPU, 17179869184, 10709987216607880277),\n",
            " _DeviceAttributes(/job:tpu_worker/replica:0/task:0/device:TPU:6, TPU, 17179869184, 4476668466533816992),\n",
            " _DeviceAttributes(/job:tpu_worker/replica:0/task:0/device:TPU:7, TPU, 17179869184, 4540033896122469206),\n",
            " _DeviceAttributes(/job:tpu_worker/replica:0/task:0/device:TPU_SYSTEM:0, TPU_SYSTEM, 17179869184, 266174668603247362)]\n",
            "\n",
            "WARNING: The TensorFlow contrib module will not be included in TensorFlow 2.0.\n",
            "For more information, please see:\n",
            "  * https://github.com/tensorflow/community/blob/master/rfcs/20180907-contrib-sunset.md\n",
            "  * https://github.com/tensorflow/addons\n",
            "If you depend on functionality not listed there, please file an issue.\n",
            "\n"
          ],
          "name": "stdout"
        }
      ]
    },
    {
      "metadata": {
        "id": "73tezxJ2IlmP",
        "colab_type": "text"
      },
      "cell_type": "markdown",
      "source": [
        "# Dataset setup\n",
        "\n",
        "Download dataframe from cloud storage"
      ]
    },
    {
      "metadata": {
        "id": "UMysaDVQh9fQ",
        "colab_type": "code",
        "outputId": "a7fb1e7e-fde3-4338-fe7c-42e0a6a8f1d7",
        "colab": {
          "base_uri": "https://localhost:8080/",
          "height": 35
        }
      },
      "cell_type": "code",
      "source": [
        "!mkdir ./bert/data"
      ],
      "execution_count": 6,
      "outputs": [
        {
          "output_type": "stream",
          "text": [
            "mkdir: cannot create directory ‘./bert/data’: File exists\n"
          ],
          "name": "stdout"
        }
      ]
    },
    {
      "metadata": {
        "id": "1RVPiq9BBr7X",
        "colab_type": "code",
        "outputId": "25bece6f-98dc-422b-b762-0a88198ae258",
        "colab": {
          "base_uri": "https://localhost:8080/",
          "height": 230
        }
      },
      "cell_type": "code",
      "source": [
        "!gsutil cp gs://karino2-uspatent/citations_info_2000.df.gz ./bert/data/\n",
        "!gsutil cp gs://karino2-uspatent/testset_app_1000.df.gz ./bert/data/\n",
        "!gsutil cp gs://karino2-uspatent/training_app_1000.df.gz ./bert/data/\n",
        "!gsutil cp gs://karino2-uspatent/grants_for_2000.df.gz ./bert/data/"
      ],
      "execution_count": 7,
      "outputs": [
        {
          "output_type": "stream",
          "text": [
            "Copying gs://karino2-uspatent/citations_info_2000.df.gz...\n",
            "/ [1 files][234.3 KiB/234.3 KiB]                                                \n",
            "Operation completed over 1 objects/234.3 KiB.                                    \n",
            "Copying gs://karino2-uspatent/testset_app_1000.df.gz...\n",
            "/ [1 files][ 13.4 MiB/ 13.4 MiB]                                                \n",
            "Operation completed over 1 objects/13.4 MiB.                                     \n",
            "Copying gs://karino2-uspatent/training_app_1000.df.gz...\n",
            "/ [1 files][ 14.2 MiB/ 14.2 MiB]                                                \n",
            "Operation completed over 1 objects/14.2 MiB.                                     \n",
            "Copying gs://karino2-uspatent/grants_for_2000.df.gz...\n",
            "- [1 files][ 44.6 MiB/ 44.6 MiB]                                                \n",
            "Operation completed over 1 objects/44.6 MiB.                                     \n"
          ],
          "name": "stdout"
        }
      ]
    },
    {
      "metadata": {
        "id": "RMugIm94CfMz",
        "colab_type": "code",
        "colab": {}
      },
      "cell_type": "code",
      "source": [
        "import pandas as pd\n",
        "import numpy as np"
      ],
      "execution_count": 0,
      "outputs": []
    },
    {
      "metadata": {
        "id": "WSU31xDECfQu",
        "colab_type": "code",
        "colab": {}
      },
      "cell_type": "code",
      "source": [
        "citations_info_target = pd.read_pickle(\"./bert/data/citations_info_2000.df.gz\")\n",
        "training_app_df = pd.read_pickle(\"./bert/data/training_app_1000.df.gz\")\n",
        "testset_app_df = pd.read_pickle(\"./bert/data/testset_app_1000.df.gz\")\n",
        "grants_target_df = pd.read_pickle(\"./bert/data/grants_for_2000.df.gz\")"
      ],
      "execution_count": 0,
      "outputs": []
    },
    {
      "metadata": {
        "id": "OHfhwtB6CfV7",
        "colab_type": "code",
        "outputId": "58b16914-4a27-448a-d213-2b30c62e9105",
        "colab": {
          "base_uri": "https://localhost:8080/",
          "height": 35
        }
      },
      "cell_type": "code",
      "source": [
        "citations_info_target.shape"
      ],
      "execution_count": 0,
      "outputs": [
        {
          "output_type": "execute_result",
          "data": {
            "text/plain": [
              "(4179, 41)"
            ]
          },
          "metadata": {
            "tags": []
          },
          "execution_count": 13
        }
      ]
    },
    {
      "metadata": {
        "id": "py-YdtxHCfT3",
        "colab_type": "code",
        "outputId": "529b36ab-6c6f-498e-be3b-85b309f95eb4",
        "colab": {
          "base_uri": "https://localhost:8080/",
          "height": 124
        }
      },
      "cell_type": "code",
      "source": [
        "training_app_df.head().app_id"
      ],
      "execution_count": 10,
      "outputs": [
        {
          "output_type": "execute_result",
          "data": {
            "text/plain": [
              "0    14222691\n",
              "1    12515852\n",
              "2    12033424\n",
              "3    12402344\n",
              "4    12155425\n",
              "Name: app_id, dtype: int64"
            ]
          },
          "metadata": {
            "tags": []
          },
          "execution_count": 10
        }
      ]
    },
    {
      "metadata": {
        "id": "CqDD8Y4GDT0z",
        "colab_type": "text"
      },
      "cell_type": "markdown",
      "source": [
        "### Utility: Retrieve just claim. Remove all tags."
      ]
    },
    {
      "metadata": {
        "id": "CmKWzr0lC3hh",
        "colab_type": "code",
        "colab": {}
      },
      "cell_type": "code",
      "source": [
        "import re"
      ],
      "execution_count": 0,
      "outputs": []
    },
    {
      "metadata": {
        "id": "FzY08co8Da4M",
        "colab_type": "code",
        "colab": {}
      },
      "cell_type": "code",
      "source": [
        "CLAIM_PAT = re.compile(r'<claims[^>]*>(.*)</claims>',re.MULTILINE|re.DOTALL)\n",
        "TAG_PAT = re.compile(r\"<.*?>\")"
      ],
      "execution_count": 0,
      "outputs": []
    },
    {
      "metadata": {
        "id": "0VWnrVtaDa8I",
        "colab_type": "code",
        "colab": {}
      },
      "cell_type": "code",
      "source": [
        "def whole_xml_to_claim_xml(whole):\n",
        "    mat = CLAIM_PAT.search(whole)\n",
        "    return mat.group(1)\n",
        "  \n",
        "  \n",
        "def whole_xml_to_claim(whole):\n",
        "    return TAG_PAT.sub(' ', whole_xml_to_claim_xml(whole))"
      ],
      "execution_count": 0,
      "outputs": []
    },
    {
      "metadata": {
        "id": "lBOhgRrYGJzS",
        "colab_type": "text"
      },
      "cell_type": "markdown",
      "source": [
        "# Bert tokenizer setup"
      ]
    },
    {
      "metadata": {
        "id": "D9hQGFJRwbBl",
        "colab_type": "code",
        "colab": {}
      },
      "cell_type": "code",
      "source": [
        "VOCAB_CONFIG_PATH=' gs://yohei-kikuta/mlstudy-phys/bert/models/pre-trained-models/uncased_L-12_H-768_A-12' #@param {type:\"string\"}"
      ],
      "execution_count": 0,
      "outputs": []
    },
    {
      "metadata": {
        "id": "6hfcrTkmwNJE",
        "colab_type": "code",
        "outputId": "22c8b6d8-4e1b-4ecb-edea-1644daba1d62",
        "colab": {
          "base_uri": "https://localhost:8080/",
          "height": 144
        }
      },
      "cell_type": "code",
      "source": [
        "!gsutil cp {VOCAB_CONFIG_PATH}/vocab.txt ./bert/model/patent/vocab.txt\n",
        "!gsutil cp {VOCAB_CONFIG_PATH}/bert_config.json ./bert/model/patent/bert_config.json"
      ],
      "execution_count": 15,
      "outputs": [
        {
          "output_type": "stream",
          "text": [
            "Copying gs://yohei-kikuta/mlstudy-phys/bert/models/pre-trained-models/uncased_L-12_H-768_A-12/vocab.txt...\n",
            "/ [1 files][226.1 KiB/226.1 KiB]                                                \n",
            "Operation completed over 1 objects/226.1 KiB.                                    \n",
            "Copying gs://yohei-kikuta/mlstudy-phys/bert/models/pre-trained-models/uncased_L-12_H-768_A-12/bert_config.json...\n",
            "/ [1 files][  313.0 B/  313.0 B]                                                \n",
            "Operation completed over 1 objects/313.0 B.                                      \n"
          ],
          "name": "stdout"
        }
      ]
    },
    {
      "metadata": {
        "id": "XWPKTaJ8viYi",
        "colab_type": "code",
        "outputId": "92fd2a5c-be58-4222-bcd4-030afff4a6ed",
        "colab": {
          "base_uri": "https://localhost:8080/",
          "height": 35
        }
      },
      "cell_type": "code",
      "source": [
        "!ls ./bert/model/patent"
      ],
      "execution_count": 16,
      "outputs": [
        {
          "output_type": "stream",
          "text": [
            "bert_config.json  vocab.txt\n"
          ],
          "name": "stdout"
        }
      ]
    },
    {
      "metadata": {
        "id": "_7OoVrSLxX2i",
        "colab_type": "code",
        "colab": {}
      },
      "cell_type": "code",
      "source": [
        ""
      ],
      "execution_count": 0,
      "outputs": []
    },
    {
      "metadata": {
        "id": "LpSs4ff-xXc4",
        "colab_type": "code",
        "colab": {}
      },
      "cell_type": "code",
      "source": [
        "import sys\n",
        "sys.path.append(\"./bert\")"
      ],
      "execution_count": 0,
      "outputs": []
    },
    {
      "metadata": {
        "id": "_9U0S-hYxeMY",
        "colab_type": "code",
        "colab": {}
      },
      "cell_type": "code",
      "source": [
        "import os\n",
        "\n",
        "import modeling\n",
        "import optimization\n",
        "import tokenization\n",
        "\n",
        "from run_classifier import RteProcessor\n",
        "from run_classifier import model_fn_builder\n",
        "from run_classifier import file_based_input_fn_builder\n",
        "from run_classifier import file_based_convert_examples_to_features"
      ],
      "execution_count": 0,
      "outputs": []
    },
    {
      "metadata": {
        "id": "IqEO4Qa2awIR",
        "colab_type": "text"
      },
      "cell_type": "markdown",
      "source": [
        "### Tokenize"
      ]
    },
    {
      "metadata": {
        "id": "SbJni2JBGO77",
        "colab_type": "code",
        "colab": {}
      },
      "cell_type": "code",
      "source": [
        "tokenizer = tokenization.FullTokenizer(\n",
        "    vocab_file=\"./bert/model/patent/vocab.txt\", do_lower_case=True)"
      ],
      "execution_count": 0,
      "outputs": []
    },
    {
      "metadata": {
        "id": "nLIHDJS1lEan",
        "colab_type": "code",
        "colab": {}
      },
      "cell_type": "code",
      "source": [
        ""
      ],
      "execution_count": 0,
      "outputs": []
    },
    {
      "metadata": {
        "id": "WIwMIeRXGPIN",
        "colab_type": "code",
        "colab": {}
      },
      "cell_type": "code",
      "source": [
        "testset_app_claims = testset_app_df[\"xml\"].map(whole_xml_to_claim)"
      ],
      "execution_count": 0,
      "outputs": []
    },
    {
      "metadata": {
        "id": "2j1prSbPGXsP",
        "colab_type": "code",
        "colab": {}
      },
      "cell_type": "code",
      "source": [
        "def claim_to_ids(claim):\n",
        "  return tokenizer.convert_tokens_to_ids(tokenizer.tokenize(claim))"
      ],
      "execution_count": 0,
      "outputs": []
    },
    {
      "metadata": {
        "id": "7htdq1AuHuUI",
        "colab_type": "code",
        "outputId": "36e2cb2f-7faa-4496-ecca-d8a00107d3c2",
        "colab": {
          "base_uri": "https://localhost:8080/",
          "height": 53
        }
      },
      "cell_type": "code",
      "source": [
        "%%time\n",
        "test_ids = [claim_to_ids(claim) for claim in testset_app_claims]"
      ],
      "execution_count": 0,
      "outputs": [
        {
          "output_type": "stream",
          "text": [
            "CPU times: user 25.7 s, sys: 20.4 ms, total: 25.7 s\n",
            "Wall time: 25.7 s\n"
          ],
          "name": "stdout"
        }
      ]
    },
    {
      "metadata": {
        "id": "NYmjAgQpHuFn",
        "colab_type": "code",
        "outputId": "b6492bc5-c2bd-40f5-e6e0-b6e3a0a34bc7",
        "colab": {
          "base_uri": "https://localhost:8080/",
          "height": 35
        }
      },
      "cell_type": "code",
      "source": [
        "len(test_ids)"
      ],
      "execution_count": 0,
      "outputs": [
        {
          "output_type": "execute_result",
          "data": {
            "text/plain": [
              "1000"
            ]
          },
          "metadata": {
            "tags": []
          },
          "execution_count": 25
        }
      ]
    },
    {
      "metadata": {
        "id": "P5gMSDqmI2Ve",
        "colab_type": "code",
        "outputId": "cb233bd7-b43a-4106-f9d0-853779f3178c",
        "colab": {
          "base_uri": "https://localhost:8080/",
          "height": 53
        }
      },
      "cell_type": "code",
      "source": [
        "%%time\n",
        "grants_ids = [claim_to_ids(claim) for claim in grants_target_df[\"xml\"].map(whole_xml_to_claim)]"
      ],
      "execution_count": 0,
      "outputs": [
        {
          "output_type": "stream",
          "text": [
            "CPU times: user 1min 21s, sys: 82.8 ms, total: 1min 21s\n",
            "Wall time: 1min 21s\n"
          ],
          "name": "stdout"
        }
      ]
    },
    {
      "metadata": {
        "id": "zFfSnYsqI2Qh",
        "colab_type": "code",
        "outputId": "c36b5390-1d4b-4189-8194-2302b4ff9df7",
        "colab": {
          "base_uri": "https://localhost:8080/",
          "height": 35
        }
      },
      "cell_type": "code",
      "source": [
        "len(grants_ids)"
      ],
      "execution_count": 0,
      "outputs": [
        {
          "output_type": "execute_result",
          "data": {
            "text/plain": [
              "2524"
            ]
          },
          "metadata": {
            "tags": []
          },
          "execution_count": 27
        }
      ]
    },
    {
      "metadata": {
        "id": "-Og0dYQWihwd",
        "colab_type": "code",
        "outputId": "24b5935d-97e0-4866-e87b-1e9425480a92",
        "colab": {
          "base_uri": "https://localhost:8080/",
          "height": 53
        }
      },
      "cell_type": "code",
      "source": [
        "%%time\n",
        "with gzip.open(\"test_grants_ids.pkl.gz\", 'w') as f:\n",
        "     pickle.dump((test_ids, grants_ids), f)"
      ],
      "execution_count": 0,
      "outputs": [
        {
          "output_type": "stream",
          "text": [
            "CPU times: user 1.87 s, sys: 15.9 ms, total: 1.89 s\n",
            "Wall time: 1.89 s\n"
          ],
          "name": "stdout"
        }
      ]
    },
    {
      "metadata": {
        "id": "5Ran-ztf6CvQ",
        "colab_type": "code",
        "outputId": "0c7edfb3-48a2-48fd-8055-64fadf7cb36e",
        "colab": {
          "base_uri": "https://localhost:8080/",
          "height": 70
        }
      },
      "cell_type": "code",
      "source": [
        "!gsutil cp test_grants_ids.pkl.gz gs://karino2-uspatent/features/test_grants_ids.pkl.gz"
      ],
      "execution_count": 0,
      "outputs": [
        {
          "output_type": "stream",
          "text": [
            "Copying file://test_grants_ids.pkl.gz [Content-Type=application/octet-stream]...\n",
            "-\n",
            "Operation completed over 1 objects/3.0 MiB.                                      \n"
          ],
          "name": "stdout"
        }
      ]
    },
    {
      "metadata": {
        "id": "x-v8j4GKBcxS",
        "colab_type": "code",
        "colab": {}
      },
      "cell_type": "code",
      "source": [
        ""
      ],
      "execution_count": 0,
      "outputs": []
    },
    {
      "metadata": {
        "id": "Oc3QLZ-HBdbA",
        "colab_type": "text"
      },
      "cell_type": "markdown",
      "source": [
        "### Add training set application token too (for triplet loss)"
      ]
    },
    {
      "metadata": {
        "id": "QDJoBWfIBmwk",
        "colab_type": "code",
        "colab": {
          "base_uri": "https://localhost:8080/",
          "height": 53
        },
        "outputId": "4b2af134-52b2-479c-950c-684a8ab02052"
      },
      "cell_type": "code",
      "source": [
        "%%time\n",
        "training_ids = [claim_to_ids(claim) for claim in training_app_df[\"xml\"].map(whole_xml_to_claim)]"
      ],
      "execution_count": 21,
      "outputs": [
        {
          "output_type": "stream",
          "text": [
            "CPU times: user 24.1 s, sys: 24.6 ms, total: 24.1 s\n",
            "Wall time: 24.1 s\n"
          ],
          "name": "stdout"
        }
      ]
    },
    {
      "metadata": {
        "id": "hlheSa_EBmdc",
        "colab_type": "code",
        "colab": {
          "base_uri": "https://localhost:8080/",
          "height": 53
        },
        "outputId": "d83fbbd5-7fdb-4270-f029-9811070ece8c"
      },
      "cell_type": "code",
      "source": [
        "%%time\n",
        "with gzip.open(\"training_app_ids.pkl.gz\", 'w') as f:\n",
        "     pickle.dump(training_ids, f)"
      ],
      "execution_count": 22,
      "outputs": [
        {
          "output_type": "stream",
          "text": [
            "CPU times: user 478 ms, sys: 6.95 ms, total: 485 ms\n",
            "Wall time: 485 ms\n"
          ],
          "name": "stdout"
        }
      ]
    },
    {
      "metadata": {
        "id": "UbqYbhzUBcd7",
        "colab_type": "code",
        "colab": {
          "base_uri": "https://localhost:8080/",
          "height": 70
        },
        "outputId": "82cf0c1b-6f02-44a3-c85b-ca350b67b838"
      },
      "cell_type": "code",
      "source": [
        "!gsutil cp training_app_ids.pkl.gz gs://karino2-uspatent/features/training_app_ids.pkl.gz"
      ],
      "execution_count": 23,
      "outputs": [
        {
          "output_type": "stream",
          "text": [
            "Copying file://training_app_ids.pkl.gz [Content-Type=application/octet-stream]...\n",
            "/ [1 files][794.7 KiB/794.7 KiB]                                                \n",
            "Operation completed over 1 objects/794.7 KiB.                                    \n"
          ],
          "name": "stdout"
        }
      ]
    },
    {
      "metadata": {
        "id": "Ac2RM___Bmmv",
        "colab_type": "text"
      },
      "cell_type": "markdown",
      "source": [
        "# Tokenize work done. Below here is obsolete\n",
        "\n",
        "Once, feature creation was slow and write following codes.\n",
        "But now feature creation becomes fast enough to do it on the fly.\n",
        "\n",
        "So we do not need to build feature here anymore.\n"
      ]
    },
    {
      "metadata": {
        "id": "ayFumvNRBluH",
        "colab_type": "code",
        "colab": {}
      },
      "cell_type": "code",
      "source": [
        ""
      ],
      "execution_count": 0,
      "outputs": []
    },
    {
      "metadata": {
        "id": "2ZB7c6niBlcI",
        "colab_type": "code",
        "colab": {}
      },
      "cell_type": "code",
      "source": [
        ""
      ],
      "execution_count": 0,
      "outputs": []
    },
    {
      "metadata": {
        "id": "BgWyoWk0k1Av",
        "colab_type": "text"
      },
      "cell_type": "markdown",
      "source": [
        "### Load claim ids"
      ]
    },
    {
      "metadata": {
        "id": "K_-XaeHJihfv",
        "colab_type": "code",
        "outputId": "2fd30172-466b-4899-b009-88ee1533b0c4",
        "colab": {
          "base_uri": "https://localhost:8080/",
          "height": 53
        }
      },
      "cell_type": "code",
      "source": [
        "%%time\n",
        "with gzip.open(\"test_grants_ids.pkl.gz\", 'rb') as f:\n",
        "     (test_ids, grants_ids) = pickle.load(f)"
      ],
      "execution_count": 0,
      "outputs": [
        {
          "output_type": "stream",
          "text": [
            "CPU times: user 352 ms, sys: 158 ms, total: 509 ms\n",
            "Wall time: 529 ms\n"
          ],
          "name": "stdout"
        }
      ]
    },
    {
      "metadata": {
        "id": "FBZK9oMaihPV",
        "colab_type": "code",
        "colab": {}
      },
      "cell_type": "code",
      "source": [
        ""
      ],
      "execution_count": 0,
      "outputs": []
    },
    {
      "metadata": {
        "id": "bXMR2Hv4LV5H",
        "colab_type": "code",
        "colab": {}
      },
      "cell_type": "code",
      "source": [
        "CLS_ID = tokenizer.vocab[\"[CLS]\"]\n",
        "SEP_ID = tokenizer.vocab[\"[SEP]\"]"
      ],
      "execution_count": 0,
      "outputs": []
    },
    {
      "metadata": {
        "id": "5CLJu1tSKe5S",
        "colab_type": "code",
        "colab": {}
      },
      "cell_type": "code",
      "source": [
        "def _truncate_seq_pair(tokens_a, tokens_b, max_length):\n",
        "  \"\"\"Truncates a sequence pair in place to the maximum length.\"\"\"\n",
        "\n",
        "  # This is a simple heuristic which will always truncate the longer sequence\n",
        "  # one token at a time. This makes more sense than truncating an equal percent\n",
        "  # of tokens from each, since if one sequence is very short then each token\n",
        "  # that's truncated likely contains more information than a longer sequence.\n",
        "  while True:\n",
        "    total_length = len(tokens_a) + len(tokens_b)\n",
        "    if total_length <= max_length:\n",
        "      break\n",
        "    if len(tokens_a) > len(tokens_b):\n",
        "      tokens_a.pop()\n",
        "    else:\n",
        "      tokens_b.pop()"
      ],
      "execution_count": 0,
      "outputs": []
    },
    {
      "metadata": {
        "id": "s1IMQ8o6su3T",
        "colab_type": "code",
        "colab": {}
      },
      "cell_type": "code",
      "source": [
        "label_list = [\"not_entailment\", \"entailment\"]\n",
        "max_seq_length = 512\n",
        "\n",
        "label_map = {}\n",
        "for (i, label) in enumerate(label_list):\n",
        "  label_map[label] = i"
      ],
      "execution_count": 0,
      "outputs": []
    },
    {
      "metadata": {
        "id": "1KJ2xS5aI1G4",
        "colab_type": "code",
        "colab": {}
      },
      "cell_type": "code",
      "source": [
        "from run_classifier import InputFeatures\n",
        "\n",
        "def original_convert_single_pair(ids_a_input, ids_b_input):\n",
        "\n",
        "  # Clone and pop for truncate. Most of the case result len is the same for our purpose, but try simple implementation first.\n",
        "  ids_a = list(ids_a_input)\n",
        "  ids_b = list(ids_b_input)\n",
        "    \n",
        "  # Modifies `tokens_a` and `tokens_b` in place so that the total\n",
        "  # length is less than the specified length.\n",
        "  # Account for [CLS], [SEP], [SEP] with \"- 3\"\n",
        "  _truncate_seq_pair(ids_a, ids_b, max_seq_length - 3)\n",
        "\n",
        "  # The convention in BERT is:\n",
        "  # (a) For sequence pairs:\n",
        "  #  tokens:   [CLS] is this jack ##son ##ville ? [SEP] no it is not . [SEP]\n",
        "  #  type_ids: 0     0  0    0    0     0       0 0     1  1  1  1   1 1\n",
        "  # (b) For single sequences:\n",
        "  #  tokens:   [CLS] the dog is hairy . [SEP]\n",
        "  #  type_ids: 0     0   0   0  0     0 0\n",
        "  #\n",
        "  # Where \"type_ids\" are used to indicate whether this is the first\n",
        "  # sequence or the second sequence. The embedding vectors for `type=0` and\n",
        "  # `type=1` were learned during pre-training and are added to the wordpiece\n",
        "  # embedding vector (and position vector). This is not *strictly* necessary\n",
        "  # since the [SEP] token unambiguously separates the sequences, but it makes\n",
        "  # it easier for the model to learn the concept of sequences.\n",
        "  #\n",
        "  # For classification tasks, the first vector (corresponding to [CLS]) is\n",
        "  # used as as the \"sentence vector\". Note that this only makes sense because\n",
        "  # the entire model is fine-tuned.\n",
        "  input_ids = []\n",
        "  segment_ids = []\n",
        "  input_ids.append(CLS_ID)\n",
        "  segment_ids.append(0)\n",
        "  for token in ids_a:\n",
        "    input_ids.append(token)\n",
        "    segment_ids.append(0)\n",
        "  input_ids.append(SEP_ID)\n",
        "  segment_ids.append(0)\n",
        "\n",
        "  for token in ids_b:\n",
        "    input_ids.append(token)\n",
        "    segment_ids.append(1)\n",
        "  input_ids.append(SEP_ID)\n",
        "  segment_ids.append(1)\n",
        "\n",
        "  # The mask has 1 for real tokens and 0 for padding tokens. Only real\n",
        "  # tokens are attended to.\n",
        "  input_mask = [1] * len(input_ids)\n",
        "\n",
        "  # Zero-pad up to the sequence length.\n",
        "  while len(input_ids) < max_seq_length:\n",
        "    input_ids.append(0)\n",
        "    input_mask.append(0)\n",
        "    segment_ids.append(0)\n",
        "\n",
        "  assert len(input_ids) == max_seq_length\n",
        "  assert len(input_mask) == max_seq_length\n",
        "  assert len(segment_ids) == max_seq_length\n",
        "\n",
        "  return (input_ids, input_mask, segment_ids)\n"
      ],
      "execution_count": 0,
      "outputs": []
    },
    {
      "metadata": {
        "id": "Ka67cUqvrzSn",
        "colab_type": "text"
      },
      "cell_type": "markdown",
      "source": [
        "### Optimization for our application\n",
        "\n",
        "dup ids consume huge memory.\n",
        "We cach and use the same memory if ids_a_nput and ids_b_input have enough size."
      ]
    },
    {
      "metadata": {
        "id": "vS4V68lnteSp",
        "colab_type": "code",
        "colab": {}
      },
      "cell_type": "code",
      "source": [
        "NORMAL_INPUT_MASK = [1]*max_seq_length\n",
        "NORMAL_SEGMENT_IDS = [0]*257+[1]*255"
      ],
      "execution_count": 0,
      "outputs": []
    },
    {
      "metadata": {
        "id": "WepvGg7GzBHN",
        "colab_type": "code",
        "colab": {}
      },
      "cell_type": "code",
      "source": [
        ""
      ],
      "execution_count": 0,
      "outputs": []
    },
    {
      "metadata": {
        "id": "jU7GTdsDu3pr",
        "colab_type": "code",
        "colab": {}
      },
      "cell_type": "code",
      "source": [
        "# [CLS](0), 1-255(len=255), [SEP], 257-510(len=254), [SEP]"
      ],
      "execution_count": 0,
      "outputs": []
    },
    {
      "metadata": {
        "id": "KlyEKOTEzEN9",
        "colab_type": "code",
        "colab": {}
      },
      "cell_type": "code",
      "source": [
        ""
      ],
      "execution_count": 0,
      "outputs": []
    },
    {
      "metadata": {
        "id": "qEiIH_OYvdoi",
        "colab_type": "code",
        "colab": {}
      },
      "cell_type": "code",
      "source": [
        "LEN_255_CACHE = {}\n",
        "LEN_254_CACHE = {}"
      ],
      "execution_count": 0,
      "outputs": []
    },
    {
      "metadata": {
        "id": "3MXXhPIlwnpp",
        "colab_type": "code",
        "colab": {}
      },
      "cell_type": "code",
      "source": [
        "def truncage_with_cache(ids, target_len):\n",
        "  if target_len == 255:\n",
        "    cache = LEN_255_CACHE\n",
        "  else:\n",
        "    assert target_len == 254\n",
        "    cache = LEN_254_CACHE\n",
        "  cache[ids] = ids[0:target_len]\n",
        "  return cache[ids]"
      ],
      "execution_count": 0,
      "outputs": []
    },
    {
      "metadata": {
        "id": "-aZoDPL9rtr_",
        "colab_type": "code",
        "colab": {}
      },
      "cell_type": "code",
      "source": [
        "\n",
        "def fast_convert_single_pair(ids_a_input, ids_b_input):  \n",
        "  if (len(ids_a_input) < 256) or (len(ids_b_input) < 256) :\n",
        "    return original_convert_single_pair(ids_a_input, ids_b_input)\n",
        "  \n",
        "  ids_a = truncage_with_cache(ids_a_input, 255)\n",
        "  ids_b = truncage_with_cache(ids_b_input, 254)\n",
        "\n",
        "  input_ids = (CLS_ID,) + ids_a + (SEP_ID,) + ids_b + (SEP_ID,)\n",
        "  \n",
        "  return (input_ids, NORMAL_INPUT_MASK, NORMAL_SEGMENT_IDS)\n"
      ],
      "execution_count": 0,
      "outputs": []
    },
    {
      "metadata": {
        "id": "5ODA4cgTN6nu",
        "colab_type": "code",
        "colab": {}
      },
      "cell_type": "code",
      "source": [
        "def feature_tuplist_to_feature_dict(ftups):\n",
        "    dic = {}\n",
        "    dic['input_ids'] = [tup[0] for tup in ftups]\n",
        "    dic[\"input_mask\"] = [tup[1] for tup in ftups]\n",
        "    dic[\"segment_ids\"] = [tup[2] for tup in ftups]\n",
        "    dic[\"label_ids\"] = [[0] for _ in ftups]\n",
        "    return dic"
      ],
      "execution_count": 0,
      "outputs": []
    },
    {
      "metadata": {
        "id": "qr6ULqjyzVHC",
        "colab_type": "code",
        "colab": {}
      },
      "cell_type": "code",
      "source": [
        ""
      ],
      "execution_count": 0,
      "outputs": []
    },
    {
      "metadata": {
        "id": "a0_nu01-zV1t",
        "colab_type": "text"
      },
      "cell_type": "markdown",
      "source": [
        "List is not hashable, but all element is int and tuple is hashable in this case. We use this ids as key for caching."
      ]
    },
    {
      "metadata": {
        "id": "pNzvdp26yo-K",
        "colab_type": "code",
        "colab": {}
      },
      "cell_type": "code",
      "source": [
        "test_ids_tup = [tuple(ids) for ids in test_ids]"
      ],
      "execution_count": 0,
      "outputs": []
    },
    {
      "metadata": {
        "id": "Qf51QlG_zJ1J",
        "colab_type": "code",
        "colab": {}
      },
      "cell_type": "code",
      "source": [
        "grants_ids_tup = [tuple(ids) for ids in grants_ids]"
      ],
      "execution_count": 0,
      "outputs": []
    },
    {
      "metadata": {
        "id": "z0DHSLYROsL3",
        "colab_type": "code",
        "colab": {}
      },
      "cell_type": "code",
      "source": [
        "pairs = [(\"{}_{}\".format(i, j), app_claim, grants_claim) for i, app_claim in enumerate(test_ids_tup) for j, grants_claim in enumerate(grants_ids_tup)]"
      ],
      "execution_count": 0,
      "outputs": []
    },
    {
      "metadata": {
        "id": "8S_1eZd-Or3E",
        "colab_type": "code",
        "outputId": "d23c6804-14aa-48cc-e78d-71c817d4049b",
        "colab": {
          "base_uri": "https://localhost:8080/",
          "height": 35
        }
      },
      "cell_type": "code",
      "source": [
        "[tup[0] for tup in pairs[0:5]]"
      ],
      "execution_count": 0,
      "outputs": [
        {
          "output_type": "execute_result",
          "data": {
            "text/plain": [
              "['0_0', '0_1', '0_2', '0_3', '0_4']"
            ]
          },
          "metadata": {
            "tags": []
          },
          "execution_count": 14
        }
      ]
    },
    {
      "metadata": {
        "id": "juoYD7wJQC4t",
        "colab_type": "code",
        "outputId": "f55b4c33-f067-47c5-bb0e-88ed2f138238",
        "colab": {
          "base_uri": "https://localhost:8080/",
          "height": 35
        }
      },
      "cell_type": "code",
      "source": [
        "len(pairs)"
      ],
      "execution_count": 0,
      "outputs": [
        {
          "output_type": "execute_result",
          "data": {
            "text/plain": [
              "2524000"
            ]
          },
          "metadata": {
            "tags": []
          },
          "execution_count": 15
        }
      ]
    },
    {
      "metadata": {
        "id": "g15szAL60gNi",
        "colab_type": "code",
        "colab": {}
      },
      "cell_type": "code",
      "source": [
        ""
      ],
      "execution_count": 0,
      "outputs": []
    },
    {
      "metadata": {
        "id": "3pKO12FL0f8O",
        "colab_type": "code",
        "colab": {}
      },
      "cell_type": "code",
      "source": [
        ""
      ],
      "execution_count": 0,
      "outputs": []
    },
    {
      "metadata": {
        "id": "Wq2M0g9KVBGb",
        "colab_type": "text"
      },
      "cell_type": "markdown",
      "source": [
        "Convert all pair by below codes run up colab memory.\n",
        "\n",
        "```\n",
        "%%time\n",
        "fdict = feature_tuplist_to_feature_dict([fast_convert_single_pair(tup[1], tup[2]) for tup in pairs])\n",
        "```\n",
        "\n",
        "Convert to 1/5 at a time."
      ]
    },
    {
      "metadata": {
        "id": "3seb7VHmU10u",
        "colab_type": "code",
        "colab": {}
      },
      "cell_type": "code",
      "source": [
        "# i = 0\n",
        "i = 4"
      ],
      "execution_count": 0,
      "outputs": []
    },
    {
      "metadata": {
        "id": "SMThZH2pPj5z",
        "colab_type": "code",
        "outputId": "f95d6ed5-0679-44a5-b7af-b2a5059ed861",
        "colab": {
          "base_uri": "https://localhost:8080/",
          "height": 53
        }
      },
      "cell_type": "code",
      "source": [
        "%%time\n",
        "fdict = feature_tuplist_to_feature_dict([fast_convert_single_pair(tup[1], tup[2]) for tup in pairs[i*252400*2:(i+1)*252400*2]])"
      ],
      "execution_count": 0,
      "outputs": [
        {
          "output_type": "stream",
          "text": [
            "CPU times: user 37.8 s, sys: 2.1 s, total: 39.9 s\n",
            "Wall time: 39.9 s\n"
          ],
          "name": "stdout"
        }
      ]
    },
    {
      "metadata": {
        "id": "x_BtTkpuTT3f",
        "colab_type": "code",
        "colab": {}
      },
      "cell_type": "code",
      "source": [
        "index_pairs = [tup[0] for tup in pairs[i*252400*2:(i+1)*252400*2]]"
      ],
      "execution_count": 0,
      "outputs": []
    },
    {
      "metadata": {
        "colab_type": "code",
        "id": "fvrb5ZPqQsua",
        "colab": {}
      },
      "cell_type": "code",
      "source": [
        ""
      ],
      "execution_count": 0,
      "outputs": []
    },
    {
      "metadata": {
        "id": "Umqtiv7dV-Zp",
        "colab_type": "code",
        "outputId": "e2b9fb33-35bc-47d9-e20f-f98e0f50597e",
        "colab": {
          "base_uri": "https://localhost:8080/",
          "height": 35
        }
      },
      "cell_type": "code",
      "source": [
        "filename = 'test_fdict_pair_{}.pkl.gz'.format(i)\n",
        "filename"
      ],
      "execution_count": 0,
      "outputs": [
        {
          "output_type": "execute_result",
          "data": {
            "text/plain": [
              "'test_fdict_pair_4.pkl.gz'"
            ]
          },
          "metadata": {
            "tags": []
          },
          "execution_count": 51
        }
      ]
    },
    {
      "metadata": {
        "colab_type": "code",
        "id": "t6nS8OfKQsuf",
        "outputId": "2c72af77-a35d-4b67-cf06-4c9863697b9c",
        "colab": {
          "base_uri": "https://localhost:8080/",
          "height": 53
        }
      },
      "cell_type": "code",
      "source": [
        "%%time\n",
        "with gzip.open(filename, 'w') as f:\n",
        "     pickle.dump((index_pairs, fdict), f)"
      ],
      "execution_count": 0,
      "outputs": [
        {
          "output_type": "stream",
          "text": [
            "CPU times: user 1min 31s, sys: 1.14 s, total: 1min 32s\n",
            "Wall time: 1min 32s\n"
          ],
          "name": "stdout"
        }
      ]
    },
    {
      "metadata": {
        "id": "7bAF7KNO63Bl",
        "colab_type": "code",
        "outputId": "7d721a66-b59f-4bf3-8f72-977f9fc51c4c",
        "colab": {
          "base_uri": "https://localhost:8080/",
          "height": 195
        }
      },
      "cell_type": "code",
      "source": [
        "!ls -l"
      ],
      "execution_count": 0,
      "outputs": [
        {
          "output_type": "stream",
          "text": [
            "total 724056\n",
            "-rw-r--r-- 1 root root      2553 Jan  8 01:14 adc.json\n",
            "drwxr-xr-x 7 root root      4096 Jan  8 01:34 bert\n",
            "drwxr-xr-x 1 root root      4096 Jan  3 17:15 sample_data\n",
            "-rw-r--r-- 1 root root 147796337 Jan  8 10:05 test_fdict_pair_0.pkl.gz\n",
            "-rw-r--r-- 1 root root 147522631 Jan  8 10:12 test_fdict_pair_1.pkl.gz\n",
            "-rw-r--r-- 1 root root 148051738 Jan  8 10:15 test_fdict_pair_2.pkl.gz\n",
            "-rw-r--r-- 1 root root 147540571 Jan  8 10:17 test_fdict_pair_3.pkl.gz\n",
            "-rw-r--r-- 1 root root 147314921 Jan  8 10:20 test_fdict_pair_4.pkl.gz\n",
            "-rw-r--r-- 1 root root   3178875 Jan  8 08:19 test_grants_ids.pkl.gz\n"
          ],
          "name": "stdout"
        }
      ]
    },
    {
      "metadata": {
        "id": "rK0f9A6kVvp8",
        "colab_type": "code",
        "outputId": "939e7900-5c19-438e-998e-34df561c6130",
        "colab": {
          "base_uri": "https://localhost:8080/",
          "height": 70
        }
      },
      "cell_type": "code",
      "source": [
        "!gsutil cp {filename} gs://karino2-uspatent/features/{filename}"
      ],
      "execution_count": 0,
      "outputs": [
        {
          "output_type": "stream",
          "text": [
            "Copying file://test_fdict_pair_4.pkl.gz [Content-Type=application/octet-stream]...\n",
            "|\n",
            "Operation completed over 1 objects/140.5 MiB.                                    \n"
          ],
          "name": "stdout"
        }
      ]
    },
    {
      "metadata": {
        "id": "mz61r0Gt-8wg",
        "colab_type": "code",
        "colab": {}
      },
      "cell_type": "code",
      "source": [
        ""
      ],
      "execution_count": 0,
      "outputs": []
    },
    {
      "metadata": {
        "id": "74vGXCZM-8aw",
        "colab_type": "code",
        "colab": {}
      },
      "cell_type": "code",
      "source": [
        ""
      ],
      "execution_count": 0,
      "outputs": []
    },
    {
      "metadata": {
        "id": "58NnM4qpUlm_",
        "colab_type": "code",
        "outputId": "bb7a998b-e6d5-48bc-b804-ab4806a7acb9",
        "colab": {
          "base_uri": "https://localhost:8080/",
          "height": 35
        }
      },
      "cell_type": "code",
      "source": [
        "(i+1)*252400*2"
      ],
      "execution_count": 0,
      "outputs": [
        {
          "output_type": "execute_result",
          "data": {
            "text/plain": [
              "2524000"
            ]
          },
          "metadata": {
            "tags": []
          },
          "execution_count": 55
        }
      ]
    },
    {
      "metadata": {
        "id": "8iOKK8jqkpql",
        "colab_type": "code",
        "outputId": "14a259d6-5272-4b8c-fbc4-51116b1eedcc",
        "colab": {
          "base_uri": "https://localhost:8080/",
          "height": 35
        }
      },
      "cell_type": "code",
      "source": [
        "len(pairs) == (i+1)*252400*2"
      ],
      "execution_count": 0,
      "outputs": [
        {
          "output_type": "execute_result",
          "data": {
            "text/plain": [
              "True"
            ]
          },
          "metadata": {
            "tags": []
          },
          "execution_count": 57
        }
      ]
    },
    {
      "metadata": {
        "id": "r1v2qbOxkq-Q",
        "colab_type": "text"
      },
      "cell_type": "markdown",
      "source": [
        "Load feature dicts"
      ]
    },
    {
      "metadata": {
        "colab_type": "code",
        "id": "xrtdLpl-Qsuh",
        "colab": {}
      },
      "cell_type": "code",
      "source": [
        "with gzip.open(filename, 'rb') as f:\n",
        "    (index_pairs, fdict) = pickle.load(f)"
      ],
      "execution_count": 0,
      "outputs": []
    },
    {
      "metadata": {
        "id": "1uhrZETza9qt",
        "colab_type": "code",
        "colab": {}
      },
      "cell_type": "code",
      "source": [
        ""
      ],
      "execution_count": 0,
      "outputs": []
    },
    {
      "metadata": {
        "id": "itfe6hVQa-bK",
        "colab_type": "text"
      },
      "cell_type": "markdown",
      "source": [
        "# Try and error"
      ]
    },
    {
      "metadata": {
        "id": "jmsE2hu9a9ZD",
        "colab_type": "code",
        "colab": {}
      },
      "cell_type": "code",
      "source": [
        "first_fs = convert_single_pair(test_ids[0], grants_ids[0])"
      ],
      "execution_count": 0,
      "outputs": []
    },
    {
      "metadata": {
        "id": "dIdw8nHya9Fv",
        "colab_type": "code",
        "colab": {}
      },
      "cell_type": "code",
      "source": [
        "test_ids[0][0:5]"
      ],
      "execution_count": 0,
      "outputs": []
    },
    {
      "metadata": {
        "id": "hLTonF_XcYIO",
        "colab_type": "code",
        "colab": {}
      },
      "cell_type": "code",
      "source": [
        "with gzip.open(filename, 'rb') as f:\n",
        "    (index_pairs2, fdict2) = pickle.load(f)"
      ],
      "execution_count": 0,
      "outputs": []
    },
    {
      "metadata": {
        "id": "LMP87xxahnD7",
        "colab_type": "code",
        "outputId": "b3361ccd-8c5c-4a3f-d987-f0ff9551e29c",
        "colab": {
          "base_uri": "https://localhost:8080/",
          "height": 35
        }
      },
      "cell_type": "code",
      "source": [
        "index_pairs2[0:5]"
      ],
      "execution_count": 0,
      "outputs": [
        {
          "output_type": "execute_result",
          "data": {
            "text/plain": [
              "['0_0', '0_1', '0_2', '0_3', '0_4']"
            ]
          },
          "metadata": {
            "tags": []
          },
          "execution_count": 7
        }
      ]
    },
    {
      "metadata": {
        "id": "Zwtfkppehmwt",
        "colab_type": "code",
        "colab": {}
      },
      "cell_type": "code",
      "source": [
        "index_pairs2 = None"
      ],
      "execution_count": 0,
      "outputs": []
    },
    {
      "metadata": {
        "id": "KtcVi67scX6S",
        "colab_type": "code",
        "colab": {}
      },
      "cell_type": "code",
      "source": [
        "claim_to_ids(testset_app_claims[0])[0:5]"
      ],
      "execution_count": 0,
      "outputs": []
    },
    {
      "metadata": {
        "id": "jQWwyNJ_cXtE",
        "colab_type": "code",
        "colab": {}
      },
      "cell_type": "code",
      "source": [
        "fdict2 = None"
      ],
      "execution_count": 0,
      "outputs": []
    },
    {
      "metadata": {
        "id": "bR-DI-m_GPTn",
        "colab_type": "code",
        "colab": {}
      },
      "cell_type": "code",
      "source": [
        ""
      ],
      "execution_count": 0,
      "outputs": []
    },
    {
      "metadata": {
        "id": "1tS_S7WY0hJa",
        "colab_type": "text"
      },
      "cell_type": "markdown",
      "source": [
        "Min id len check"
      ]
    },
    {
      "metadata": {
        "id": "WevxUYDfo_dx",
        "colab_type": "code",
        "outputId": "913b48d0-4d57-4aba-d703-79b0e63aea41",
        "colab": {
          "base_uri": "https://localhost:8080/",
          "height": 35
        }
      },
      "cell_type": "code",
      "source": [
        "min([len(tup[1]) for tup in pairs])"
      ],
      "execution_count": 0,
      "outputs": [
        {
          "output_type": "execute_result",
          "data": {
            "text/plain": [
              "6"
            ]
          },
          "metadata": {
            "tags": []
          },
          "execution_count": 38
        }
      ]
    },
    {
      "metadata": {
        "id": "D5gfK1zSo_MA",
        "colab_type": "code",
        "outputId": "badbf45d-b576-4eab-b593-2c706cde0885",
        "colab": {
          "base_uri": "https://localhost:8080/",
          "height": 35
        }
      },
      "cell_type": "code",
      "source": [
        "len(pairs[2][1])"
      ],
      "execution_count": 0,
      "outputs": [
        {
          "output_type": "execute_result",
          "data": {
            "text/plain": [
              "1369"
            ]
          },
          "metadata": {
            "tags": []
          },
          "execution_count": 34
        }
      ]
    },
    {
      "metadata": {
        "id": "CIoeyckapWLl",
        "colab_type": "code",
        "outputId": "db9de65b-2918-49fc-fb8c-0c684790424d",
        "colab": {
          "base_uri": "https://localhost:8080/",
          "height": 35
        }
      },
      "cell_type": "code",
      "source": [
        "[len(tup[1]) for tup in pairs].index(6)"
      ],
      "execution_count": 0,
      "outputs": [
        {
          "output_type": "execute_result",
          "data": {
            "text/plain": [
              "1007076"
            ]
          },
          "metadata": {
            "tags": []
          },
          "execution_count": 39
        }
      ]
    },
    {
      "metadata": {
        "id": "yJ5PdwWZpfpE",
        "colab_type": "code",
        "outputId": "c83d8b09-4dec-4416-dd30-b72105dd7074",
        "colab": {
          "base_uri": "https://localhost:8080/",
          "height": 35
        }
      },
      "cell_type": "code",
      "source": [
        "1007076/2524"
      ],
      "execution_count": 0,
      "outputs": [
        {
          "output_type": "execute_result",
          "data": {
            "text/plain": [
              "399.0"
            ]
          },
          "metadata": {
            "tags": []
          },
          "execution_count": 40
        }
      ]
    },
    {
      "metadata": {
        "id": "Z9_PlqG0pfQs",
        "colab_type": "code",
        "outputId": "bfa195bb-fb2a-4800-b77c-993a805426c4",
        "colab": {
          "base_uri": "https://localhost:8080/",
          "height": 35
        }
      },
      "cell_type": "code",
      "source": [
        "testset_app_claims[399]"
      ],
      "execution_count": 0,
      "outputs": [
        {
          "output_type": "execute_result",
          "data": {
            "text/plain": [
              "'\\n \\n  1 . A soap rag. \\n \\n'"
            ]
          },
          "metadata": {
            "tags": []
          },
          "execution_count": 48
        }
      ]
    },
    {
      "metadata": {
        "id": "FnScDYocVAWZ",
        "colab_type": "code",
        "outputId": "7e4dba7e-a09a-4040-985f-c965c1c5915c",
        "colab": {
          "base_uri": "https://localhost:8080/",
          "height": 55
        }
      },
      "cell_type": "code",
      "source": [
        " testset_app_df[\"xml\"][399]"
      ],
      "execution_count": 0,
      "outputs": [
        {
          "output_type": "execute_result",
          "data": {
            "text/plain": [
              "'<us-patent-application lang=\"EN\" dtd-version=\"v4.2 2006-08-23\" file=\"US20110167576A1-20110714.XML\" status=\"PRODUCTION\" id=\"us-patent-application\" country=\"US\" date-produced=\"20110628\" date-publ=\"20110714\">\\n<us-bibliographic-data-application lang=\"EN\" country=\"US\">\\n<publication-reference>\\n<document-id>\\n<country>US</country>\\n<doc-number>20110167576</doc-number>\\n<kind>A1</kind>\\n<date>20110714</date>\\n</document-id>\\n</publication-reference>\\n<application-reference appl-type=\"utility\">\\n<document-id>\\n<country>US</country>\\n<doc-number>12614955</doc-number>\\n<date>20100111</date>\\n</document-id>\\n</application-reference>\\n<us-application-series-code>12</us-application-series-code>\\n<classifications-ipcr>\\n<classification-ipcr>\\n<ipc-version-indicator><date>20060101</date></ipc-version-indicator>\\n<classification-level>A</classification-level>\\n<section>B</section>\\n<class>08</class>\\n<subclass>B</subclass>\\n<main-group>1</main-group>\\n<subgroup>00</subgroup>\\n<symbol-position>F</symbol-position>\\n<classification-value>I</classification-value>\\n<action-date><date>20110714</date></action-date>\\n<generating-office><country>US</country></generating-office>\\n<classification-status>B</classification-status>\\n<classification-data-source>H</classification-data-source>\\n</classification-ipcr>\\n</classifications-ipcr>\\n<classification-national>\\n<country>US</country>\\n<main-classification> 1510493</main-classification>\\n</classification-national>\\n<invention-title id=\"d0e43\">Soap rag</invention-title>\\n<parties>\\n<applicants>\\n<applicant sequence=\"00\" app-type=\"applicant-inventor\" designation=\"us-only\">\\n<addressbook>\\n<last-name>Muhammad</last-name>\\n<first-name>Hamiyd</first-name>\\n<address>\\n<city>Brooklyn</city>\\n<state>NY</state>\\n<country>US</country>\\n</address>\\n</addressbook>\\n<nationality>\\n<country>omitted</country>\\n</nationality>\\n<residence>\\n<country>US</country>\\n</residence>\\n</applicant>\\n</applicants>\\n</parties>\\n</us-bibliographic-data-application>\\n<abstract id=\"abstract\">\\n<p id=\"p-0001\" num=\"0000\">A washcloth soaked in body wash soap gel, and dried to form a soap rag.</p>\\n</abstract>\\n<description id=\"description\">\\n<?summary-of-invention description=\"Summary of Invention\" end=\"lead\"?>\\n<heading id=\"h-0001\" level=\"1\">Ingredients</heading>\\n<p id=\"p-0002\" num=\"0001\">Dry wash cloth</p>\\n<p id=\"p-0003\" num=\"0002\">Liquid body wash gel</p>\\n<p id=\"p-0004\" num=\"0003\">Drum</p>\\n<p id=\"p-0005\" num=\"0004\">Heat from a Blow dryer or Dryer or hang dry</p>\\n<?summary-of-invention description=\"Summary of Invention\" end=\"tail\"?>\\n<?detailed-description description=\"Detailed Description\" end=\"lead\"?>\\n<heading id=\"h-0002\" level=\"1\">Process of Making</heading>\\n<p id=\"p-0006\" num=\"0005\">Place the dry wash cloth into the drum</p>\\n<p id=\"p-0007\" num=\"0006\">Pour the liquid body wash gel into the drum over the wash cloth until fully saturated</p>\\n<p id=\"p-0008\" num=\"0007\">The liquid body wash gel must cover the entire wash cloth</p>\\n<p id=\"p-0009\" num=\"0008\">Leave to soak</p>\\n<p id=\"p-0010\" num=\"0009\">Take out soaked wash cloth and dry in a dryer or blow dry or hang dry until entire cloth is dried. This becomes a soap rag.</p>\\n<heading id=\"h-0003\" level=\"1\">Packaging</heading>\\n<p id=\"p-0011\" num=\"0010\">When soap rag is dried</p>\\n<p id=\"p-0012\" num=\"0011\">Fold dried soap rag and package</p>\\n<heading id=\"h-0004\" level=\"1\">Usage</heading>\\n<p id=\"p-0013\" num=\"0012\">To use add water to soap rag</p>\\n<?detailed-description description=\"Detailed Description\" end=\"tail\"?>\\n</description>\\n<us-claim-statement>I seek to claim the following:</us-claim-statement>\\n<claims id=\"claims\">\\n<claim id=\"CLM-00001\" num=\"00001\">\\n<claim-text><b>1</b>. A soap rag.</claim-text>\\n</claim>\\n</claims>\\n</us-patent-application>\\n'"
            ]
          },
          "metadata": {
            "tags": []
          },
          "execution_count": 49
        }
      ]
    },
    {
      "metadata": {
        "id": "AZMPggNzqZhL",
        "colab_type": "code",
        "outputId": "5e91c204-9c68-460a-eee7-d8f3e4b2bf46",
        "colab": {
          "base_uri": "https://localhost:8080/",
          "height": 35
        }
      },
      "cell_type": "code",
      "source": [
        "whole_xml_to_claim_xml(testset_app_df[\"xml\"][399])"
      ],
      "execution_count": 0,
      "outputs": [
        {
          "output_type": "execute_result",
          "data": {
            "text/plain": [
              "'\\n<claim id=\"CLM-00001\" num=\"00001\">\\n<claim-text><b>1</b>. A soap rag.</claim-text>\\n</claim>\\n'"
            ]
          },
          "metadata": {
            "tags": []
          },
          "execution_count": 51
        }
      ]
    },
    {
      "metadata": {
        "id": "pBb00z_pqZbk",
        "colab_type": "code",
        "outputId": "f3c1f2bd-c21f-4b6c-9d97-108d9d3abf6b",
        "colab": {
          "base_uri": "https://localhost:8080/",
          "height": 1726
        }
      },
      "cell_type": "code",
      "source": [
        "print( testset_app_df[\"xml\"][399])"
      ],
      "execution_count": 0,
      "outputs": [
        {
          "output_type": "stream",
          "text": [
            "<us-patent-application lang=\"EN\" dtd-version=\"v4.2 2006-08-23\" file=\"US20110167576A1-20110714.XML\" status=\"PRODUCTION\" id=\"us-patent-application\" country=\"US\" date-produced=\"20110628\" date-publ=\"20110714\">\n",
            "<us-bibliographic-data-application lang=\"EN\" country=\"US\">\n",
            "<publication-reference>\n",
            "<document-id>\n",
            "<country>US</country>\n",
            "<doc-number>20110167576</doc-number>\n",
            "<kind>A1</kind>\n",
            "<date>20110714</date>\n",
            "</document-id>\n",
            "</publication-reference>\n",
            "<application-reference appl-type=\"utility\">\n",
            "<document-id>\n",
            "<country>US</country>\n",
            "<doc-number>12614955</doc-number>\n",
            "<date>20100111</date>\n",
            "</document-id>\n",
            "</application-reference>\n",
            "<us-application-series-code>12</us-application-series-code>\n",
            "<classifications-ipcr>\n",
            "<classification-ipcr>\n",
            "<ipc-version-indicator><date>20060101</date></ipc-version-indicator>\n",
            "<classification-level>A</classification-level>\n",
            "<section>B</section>\n",
            "<class>08</class>\n",
            "<subclass>B</subclass>\n",
            "<main-group>1</main-group>\n",
            "<subgroup>00</subgroup>\n",
            "<symbol-position>F</symbol-position>\n",
            "<classification-value>I</classification-value>\n",
            "<action-date><date>20110714</date></action-date>\n",
            "<generating-office><country>US</country></generating-office>\n",
            "<classification-status>B</classification-status>\n",
            "<classification-data-source>H</classification-data-source>\n",
            "</classification-ipcr>\n",
            "</classifications-ipcr>\n",
            "<classification-national>\n",
            "<country>US</country>\n",
            "<main-classification> 1510493</main-classification>\n",
            "</classification-national>\n",
            "<invention-title id=\"d0e43\">Soap rag</invention-title>\n",
            "<parties>\n",
            "<applicants>\n",
            "<applicant sequence=\"00\" app-type=\"applicant-inventor\" designation=\"us-only\">\n",
            "<addressbook>\n",
            "<last-name>Muhammad</last-name>\n",
            "<first-name>Hamiyd</first-name>\n",
            "<address>\n",
            "<city>Brooklyn</city>\n",
            "<state>NY</state>\n",
            "<country>US</country>\n",
            "</address>\n",
            "</addressbook>\n",
            "<nationality>\n",
            "<country>omitted</country>\n",
            "</nationality>\n",
            "<residence>\n",
            "<country>US</country>\n",
            "</residence>\n",
            "</applicant>\n",
            "</applicants>\n",
            "</parties>\n",
            "</us-bibliographic-data-application>\n",
            "<abstract id=\"abstract\">\n",
            "<p id=\"p-0001\" num=\"0000\">A washcloth soaked in body wash soap gel, and dried to form a soap rag.</p>\n",
            "</abstract>\n",
            "<description id=\"description\">\n",
            "<?summary-of-invention description=\"Summary of Invention\" end=\"lead\"?>\n",
            "<heading id=\"h-0001\" level=\"1\">Ingredients</heading>\n",
            "<p id=\"p-0002\" num=\"0001\">Dry wash cloth</p>\n",
            "<p id=\"p-0003\" num=\"0002\">Liquid body wash gel</p>\n",
            "<p id=\"p-0004\" num=\"0003\">Drum</p>\n",
            "<p id=\"p-0005\" num=\"0004\">Heat from a Blow dryer or Dryer or hang dry</p>\n",
            "<?summary-of-invention description=\"Summary of Invention\" end=\"tail\"?>\n",
            "<?detailed-description description=\"Detailed Description\" end=\"lead\"?>\n",
            "<heading id=\"h-0002\" level=\"1\">Process of Making</heading>\n",
            "<p id=\"p-0006\" num=\"0005\">Place the dry wash cloth into the drum</p>\n",
            "<p id=\"p-0007\" num=\"0006\">Pour the liquid body wash gel into the drum over the wash cloth until fully saturated</p>\n",
            "<p id=\"p-0008\" num=\"0007\">The liquid body wash gel must cover the entire wash cloth</p>\n",
            "<p id=\"p-0009\" num=\"0008\">Leave to soak</p>\n",
            "<p id=\"p-0010\" num=\"0009\">Take out soaked wash cloth and dry in a dryer or blow dry or hang dry until entire cloth is dried. This becomes a soap rag.</p>\n",
            "<heading id=\"h-0003\" level=\"1\">Packaging</heading>\n",
            "<p id=\"p-0011\" num=\"0010\">When soap rag is dried</p>\n",
            "<p id=\"p-0012\" num=\"0011\">Fold dried soap rag and package</p>\n",
            "<heading id=\"h-0004\" level=\"1\">Usage</heading>\n",
            "<p id=\"p-0013\" num=\"0012\">To use add water to soap rag</p>\n",
            "<?detailed-description description=\"Detailed Description\" end=\"tail\"?>\n",
            "</description>\n",
            "<us-claim-statement>I seek to claim the following:</us-claim-statement>\n",
            "<claims id=\"claims\">\n",
            "<claim id=\"CLM-00001\" num=\"00001\">\n",
            "<claim-text><b>1</b>. A soap rag.</claim-text>\n",
            "</claim>\n",
            "</claims>\n",
            "</us-patent-application>\n",
            "\n"
          ],
          "name": "stdout"
        }
      ]
    },
    {
      "metadata": {
        "id": "_aZKggvz74hZ",
        "colab_type": "code",
        "colab": {}
      },
      "cell_type": "code",
      "source": [
        ""
      ],
      "execution_count": 0,
      "outputs": []
    },
    {
      "metadata": {
        "id": "IhlRnixbqZVr",
        "colab_type": "code",
        "outputId": "55f21fcf-4c63-4ddd-bbdc-9251d306815f",
        "colab": {
          "base_uri": "https://localhost:8080/",
          "height": 35
        }
      },
      "cell_type": "code",
      "source": [
        "test_ids[399]"
      ],
      "execution_count": 0,
      "outputs": [
        {
          "output_type": "execute_result",
          "data": {
            "text/plain": [
              "[1015, 1012, 1037, 7815, 17768, 1012]"
            ]
          },
          "metadata": {
            "tags": []
          },
          "execution_count": 53
        }
      ]
    },
    {
      "metadata": {
        "id": "0sgOG_sdq5zj",
        "colab_type": "code",
        "colab": {}
      },
      "cell_type": "code",
      "source": [
        "tmp = {}"
      ],
      "execution_count": 0,
      "outputs": []
    },
    {
      "metadata": {
        "id": "elrHIESYq5uc",
        "colab_type": "code",
        "colab": {}
      },
      "cell_type": "code",
      "source": [
        "tmp[tuple(test_ids[399])] = \"hello\""
      ],
      "execution_count": 0,
      "outputs": []
    },
    {
      "metadata": {
        "id": "7cWoOEJ_qZNb",
        "colab_type": "code",
        "outputId": "87d2cbc0-39c4-4dcb-a2b1-b12abdf21eab",
        "colab": {
          "base_uri": "https://localhost:8080/",
          "height": 35
        }
      },
      "cell_type": "code",
      "source": [
        "tmp"
      ],
      "execution_count": 0,
      "outputs": [
        {
          "output_type": "execute_result",
          "data": {
            "text/plain": [
              "{(1015, 1012, 1037, 7815, 17768, 1012): 'hello'}"
            ]
          },
          "metadata": {
            "tags": []
          },
          "execution_count": 59
        }
      ]
    },
    {
      "metadata": {
        "id": "RqemzWcSrXj1",
        "colab_type": "code",
        "outputId": "3c5bd6a4-a514-49e5-f28c-0482dd244e2a",
        "colab": {
          "base_uri": "https://localhost:8080/",
          "height": 35
        }
      },
      "cell_type": "code",
      "source": [
        "type(test_ids[0])"
      ],
      "execution_count": 0,
      "outputs": [
        {
          "output_type": "execute_result",
          "data": {
            "text/plain": [
              "list"
            ]
          },
          "metadata": {
            "tags": []
          },
          "execution_count": 22
        }
      ]
    },
    {
      "metadata": {
        "id": "kUC6DVuWx_0q",
        "colab_type": "code",
        "colab": {}
      },
      "cell_type": "code",
      "source": [
        "dic2 = fast_convert_single_pair(test_ids_tup[0], grants_ids_tup[0])"
      ],
      "execution_count": 0,
      "outputs": []
    },
    {
      "metadata": {
        "id": "2qik9nEzrYJy",
        "colab_type": "code",
        "colab": {}
      },
      "cell_type": "code",
      "source": [
        "dic = original_convert_single_pair(test_ids[0], grants_ids[0])"
      ],
      "execution_count": 0,
      "outputs": []
    },
    {
      "metadata": {
        "id": "jKYr2oNW0ZHv",
        "colab_type": "code",
        "outputId": "1fec2ee4-59e3-421b-d103-0bd43b599a6f",
        "colab": {
          "base_uri": "https://localhost:8080/",
          "height": 35
        }
      },
      "cell_type": "code",
      "source": [
        "dic[0] == list(dic2[0])"
      ],
      "execution_count": 0,
      "outputs": [
        {
          "output_type": "execute_result",
          "data": {
            "text/plain": [
              "True"
            ]
          },
          "metadata": {
            "tags": []
          },
          "execution_count": 27
        }
      ]
    },
    {
      "metadata": {
        "id": "qWRaB_cKrYdN",
        "colab_type": "code",
        "outputId": "10f0c258-2019-457f-e0d5-36db446dc5d2",
        "colab": {
          "base_uri": "https://localhost:8080/",
          "height": 35
        }
      },
      "cell_type": "code",
      "source": [
        "dic[0].index(SEP_ID)"
      ],
      "execution_count": 0,
      "outputs": [
        {
          "output_type": "execute_result",
          "data": {
            "text/plain": [
              "256"
            ]
          },
          "metadata": {
            "tags": []
          },
          "execution_count": 62
        }
      ]
    },
    {
      "metadata": {
        "id": "y0gIIzEUrYqB",
        "colab_type": "code",
        "outputId": "cf39b43d-6d14-4b83-8043-8d345e999456",
        "colab": {
          "base_uri": "https://localhost:8080/",
          "height": 35
        }
      },
      "cell_type": "code",
      "source": [
        "dic[1][511]"
      ],
      "execution_count": 0,
      "outputs": [
        {
          "output_type": "execute_result",
          "data": {
            "text/plain": [
              "1"
            ]
          },
          "metadata": {
            "tags": []
          },
          "execution_count": 69
        }
      ]
    },
    {
      "metadata": {
        "id": "gq4lZ9matqak",
        "colab_type": "code",
        "outputId": "2362c2e8-9b64-4957-8749-53b4cd526aca",
        "colab": {
          "base_uri": "https://localhost:8080/",
          "height": 35
        }
      },
      "cell_type": "code",
      "source": [
        "dic[2][256:270]"
      ],
      "execution_count": 0,
      "outputs": [
        {
          "output_type": "execute_result",
          "data": {
            "text/plain": [
              "[0, 1, 1, 1, 1, 1, 1, 1, 1, 1, 1, 1, 1, 1]"
            ]
          },
          "metadata": {
            "tags": []
          },
          "execution_count": 77
        }
      ]
    },
    {
      "metadata": {
        "id": "L3W8AMRouI02",
        "colab_type": "code",
        "outputId": "549cdd07-e241-4eee-cb3b-7a2c1d885fe9",
        "colab": {
          "base_uri": "https://localhost:8080/",
          "height": 35
        }
      },
      "cell_type": "code",
      "source": [
        "dic[2][510:]"
      ],
      "execution_count": 0,
      "outputs": [
        {
          "output_type": "execute_result",
          "data": {
            "text/plain": [
              "[1, 1]"
            ]
          },
          "metadata": {
            "tags": []
          },
          "execution_count": 78
        }
      ]
    },
    {
      "metadata": {
        "id": "BGNeRXGRtqHe",
        "colab_type": "code",
        "colab": {}
      },
      "cell_type": "code",
      "source": [
        ""
      ],
      "execution_count": 0,
      "outputs": []
    },
    {
      "metadata": {
        "id": "_sTfcUatuQCX",
        "colab_type": "code",
        "outputId": "7ca73dd2-e9d9-4a69-fb01-e5a4bf7d82a7",
        "colab": {
          "base_uri": "https://localhost:8080/",
          "height": 35
        }
      },
      "cell_type": "code",
      "source": [
        "NORMAL_SEGMENT_IDS == dic[2]"
      ],
      "execution_count": 0,
      "outputs": [
        {
          "output_type": "execute_result",
          "data": {
            "text/plain": [
              "True"
            ]
          },
          "metadata": {
            "tags": []
          },
          "execution_count": 86
        }
      ]
    },
    {
      "metadata": {
        "id": "DvPpRDj3uvhW",
        "colab_type": "code",
        "outputId": "b591588e-26a5-42e3-8fb1-611bd366cb4c",
        "colab": {
          "base_uri": "https://localhost:8080/",
          "height": 35
        }
      },
      "cell_type": "code",
      "source": [
        "dic[0].index(SEP_ID)"
      ],
      "execution_count": 0,
      "outputs": [
        {
          "output_type": "execute_result",
          "data": {
            "text/plain": [
              "256"
            ]
          },
          "metadata": {
            "tags": []
          },
          "execution_count": 88
        }
      ]
    },
    {
      "metadata": {
        "id": "2fgHNQ85umb6",
        "colab_type": "code",
        "outputId": "57922594-3797-44df-bb0d-afbef356f5b0",
        "colab": {
          "base_uri": "https://localhost:8080/",
          "height": 35
        }
      },
      "cell_type": "code",
      "source": [
        "dic[0].index(SEP_ID, 257)"
      ],
      "execution_count": 0,
      "outputs": [
        {
          "output_type": "execute_result",
          "data": {
            "text/plain": [
              "511"
            ]
          },
          "metadata": {
            "tags": []
          },
          "execution_count": 89
        }
      ]
    }
  ]
}