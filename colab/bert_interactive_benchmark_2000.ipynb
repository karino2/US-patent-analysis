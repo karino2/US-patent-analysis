{
  "nbformat": 4,
  "nbformat_minor": 0,
  "metadata": {
    "colab": {
      "name": "bert-interactive-benchmark-2000.ipynb",
      "version": "0.3.2",
      "provenance": [],
      "collapsed_sections": [],
      "include_colab_link": true
    },
    "kernelspec": {
      "name": "python3",
      "display_name": "Python 3"
    },
    "accelerator": "TPU"
  },
  "cells": [
    {
      "cell_type": "markdown",
      "metadata": {
        "id": "view-in-github",
        "colab_type": "text"
      },
      "source": [
        "<a href=\"https://colab.research.google.com/github/karino2/US-patent-analysis/blob/bert_interactive/colab/bert_interactive_benchmark_2000.ipynb\" target=\"_parent\"><img src=\"https://colab.research.google.com/assets/colab-badge.svg\" alt=\"Open In Colab\"/></a>"
      ]
    },
    {
      "metadata": {
        "id": "rQph610BeO4I",
        "colab_type": "text"
      },
      "cell_type": "markdown",
      "source": [
        "**Interacitve evaluation notebook for BERT with grants2000**\n",
        "\n",
        "Input app claim (from 2017, cited from 2012) and show most similar claim."
      ]
    },
    {
      "metadata": {
        "id": "3Cv0EJiZ8vi6",
        "colab_type": "code",
        "colab": {}
      },
      "cell_type": "code",
      "source": [
        "import os\n",
        "import datetime\n",
        "import pickle\n",
        "import gzip\n",
        "import pandas as pd\n",
        "import numpy as np\n",
        "\n",
        "import tensorflow as tf"
      ],
      "execution_count": 0,
      "outputs": []
    },
    {
      "metadata": {
        "id": "R3AyT0Fq8yzD",
        "colab_type": "code",
        "outputId": "e88081a6-6a47-4a23-cab0-c9f6ea3fbd41",
        "colab": {
          "base_uri": "https://localhost:8080/",
          "height": 35
        }
      },
      "cell_type": "code",
      "source": [
        "tf.__version__"
      ],
      "execution_count": 2,
      "outputs": [
        {
          "output_type": "execute_result",
          "data": {
            "text/plain": [
              "'1.12.0'"
            ]
          },
          "metadata": {
            "tags": []
          },
          "execution_count": 2
        }
      ]
    },
    {
      "metadata": {
        "id": "3cM2dZ__NPt1",
        "colab_type": "code",
        "colab": {
          "base_uri": "https://localhost:8080/",
          "height": 106
        },
        "outputId": "a3917bb3-942b-4be2-999c-dbc79d58ad2b"
      },
      "cell_type": "code",
      "source": [
        "!git clone -b docker https://github.com/yoheikikuta/bert.git"
      ],
      "execution_count": 15,
      "outputs": [
        {
          "output_type": "stream",
          "text": [
            "Cloning into 'temp'...\n",
            "remote: Enumerating objects: 269, done.\u001b[K\n",
            "remote: Total 269 (delta 0), reused 0 (delta 0), pack-reused 269\u001b[K\n",
            "Receiving objects: 100% (269/269), 174.52 KiB | 2.60 MiB/s, done.\n",
            "Resolving deltas: 100% (155/155), done.\n"
          ],
          "name": "stdout"
        }
      ]
    },
    {
      "metadata": {
        "id": "eg8r8ARt89w3",
        "colab_type": "code",
        "outputId": "4c3bf9f8-acf5-4cef-bce7-55b0d2c49fcc",
        "colab": {
          "base_uri": "https://localhost:8080/",
          "height": 35
        }
      },
      "cell_type": "code",
      "source": [
        "!ls"
      ],
      "execution_count": 4,
      "outputs": [
        {
          "output_type": "stream",
          "text": [
            "adc.json  bert\tsample_data\n"
          ],
          "name": "stdout"
        }
      ]
    },
    {
      "metadata": {
        "id": "zgPiQOJRMgxt",
        "colab_type": "text"
      },
      "cell_type": "markdown",
      "source": [
        "# Data setup\n",
        "\n",
        "Data setup is based on https://github.com/karino2/US-patent-analysis/blob/bert_input/colab/bert_tokenized_claim_setup.ipynb\n",
        "\n",
        "We only use grants tokens. (though file both contains applications and grants)"
      ]
    },
    {
      "metadata": {
        "id": "XG9_uLXKMf2t",
        "colab_type": "code",
        "colab": {}
      },
      "cell_type": "code",
      "source": [
        "!mkdir ./bert/data"
      ],
      "execution_count": 0,
      "outputs": []
    },
    {
      "metadata": {
        "id": "j-n-oE9aNPs6",
        "colab_type": "code",
        "colab": {}
      },
      "cell_type": "code",
      "source": [
        "from google.colab import auth\n",
        "auth.authenticate_user()"
      ],
      "execution_count": 0,
      "outputs": []
    },
    {
      "metadata": {
        "id": "Zn-onntHM0lN",
        "colab_type": "code",
        "outputId": "cecef696-c107-43b1-fc0b-8446f5de4fae",
        "colab": {
          "base_uri": "https://localhost:8080/",
          "height": 70
        }
      },
      "cell_type": "code",
      "source": [
        "!gsutil cp gs://karino2-uspatent/features/test_grants_ids.pkl.gz ./bert/data/"
      ],
      "execution_count": 6,
      "outputs": [
        {
          "output_type": "stream",
          "text": [
            "Copying gs://karino2-uspatent/features/test_grants_ids.pkl.gz...\n",
            "/ [1 files][  3.0 MiB/  3.0 MiB]                                                \n",
            "Operation completed over 1 objects/3.0 MiB.                                      \n"
          ],
          "name": "stdout"
        }
      ]
    },
    {
      "metadata": {
        "id": "kywCunsPQxjZ",
        "colab_type": "code",
        "colab": {}
      },
      "cell_type": "code",
      "source": [
        "!ls ./bert/data"
      ],
      "execution_count": 0,
      "outputs": []
    },
    {
      "metadata": {
        "id": "S1jf0kzIM0Ss",
        "colab_type": "code",
        "colab": {}
      },
      "cell_type": "code",
      "source": [
        "with gzip.open(\"./bert/data/test_grants_ids.pkl.gz\", 'rb') as f:\n",
        "     (_, grants_ids) = pickle.load(f)"
      ],
      "execution_count": 0,
      "outputs": []
    },
    {
      "metadata": {
        "id": "nN0LX7jKOAdi",
        "colab_type": "code",
        "colab": {}
      },
      "cell_type": "code",
      "source": [
        ""
      ],
      "execution_count": 0,
      "outputs": []
    },
    {
      "metadata": {
        "id": "8vJgj4gZN_-_",
        "colab_type": "code",
        "colab": {}
      },
      "cell_type": "code",
      "source": [
        "!gsutil cp gs://karino2-uspatent/citations_info_2000.df.gz ./bert/data/\n",
        "!gsutil cp gs://karino2-uspatent/testset_app_1000.df.gz ./bert/data/\n",
        "!gsutil cp gs://karino2-uspatent/training_app_1000.df.gz ./bert/data/\n",
        "!gsutil cp gs://karino2-uspatent/grants_for_2000.df.gz ./bert/data/"
      ],
      "execution_count": 0,
      "outputs": []
    },
    {
      "metadata": {
        "id": "CJC9Q6MjOHZN",
        "colab_type": "code",
        "colab": {}
      },
      "cell_type": "code",
      "source": [
        "citations_info_target = pd.read_pickle(\"./bert/data/citations_info_2000.df.gz\")\n",
        "# training_app_df = pd.read_pickle(\"./bert/data/training_app_1000.df.gz\")\n",
        "testset_app_df = pd.read_pickle(\"./bert/data/testset_app_1000.df.gz\")\n",
        "grants_target_df = pd.read_pickle(\"./bert/data/grants_for_2000.df.gz\")"
      ],
      "execution_count": 0,
      "outputs": []
    },
    {
      "metadata": {
        "id": "_oPSPIxXM0Ba",
        "colab_type": "code",
        "colab": {}
      },
      "cell_type": "code",
      "source": [
        ""
      ],
      "execution_count": 0,
      "outputs": []
    },
    {
      "metadata": {
        "id": "yLWTT6NZ_ZYi",
        "colab_type": "text"
      },
      "cell_type": "markdown",
      "source": [
        "**Check tpu name**"
      ]
    },
    {
      "metadata": {
        "id": "pShRjorw_Lla",
        "colab_type": "code",
        "outputId": "6b94b961-8b56-465c-c640-d98f1657f512",
        "colab": {
          "base_uri": "https://localhost:8080/",
          "height": 266
        }
      },
      "cell_type": "code",
      "source": [
        "import datetime\n",
        "import json\n",
        "import os\n",
        "import pprint\n",
        "import random\n",
        "import string\n",
        "import sys\n",
        "import tensorflow as tf\n",
        "\n",
        "assert 'COLAB_TPU_ADDR' in os.environ, 'ERROR: Not connected to a TPU runtime; please see the first cell in this notebook for instructions!'\n",
        "TPU_ADDRESS = 'grpc://' + os.environ['COLAB_TPU_ADDR']\n",
        "print('TPU address is', TPU_ADDRESS)\n",
        "\n",
        "with tf.Session(TPU_ADDRESS) as session:\n",
        "  print('TPU devices:')\n",
        "  pprint.pprint(session.list_devices())\n",
        "\n",
        "  # Upload credentials to TPU.\n",
        "  with open('/content/adc.json', 'r') as f:\n",
        "    auth_info = json.load(f)\n",
        "  tf.contrib.cloud.configure_gcs(session, credentials=auth_info)\n",
        "  # Now credentials are set for all future sessions on this TPU."
      ],
      "execution_count": 9,
      "outputs": [
        {
          "output_type": "stream",
          "text": [
            "TPU address is grpc://10.29.55.130:8470\n",
            "TPU devices:\n",
            "[_DeviceAttributes(/job:tpu_worker/replica:0/task:0/device:CPU:0, CPU, -1, 15700132874213056335),\n",
            " _DeviceAttributes(/job:tpu_worker/replica:0/task:0/device:XLA_CPU:0, XLA_CPU, 17179869184, 2438556059540875912),\n",
            " _DeviceAttributes(/job:tpu_worker/replica:0/task:0/device:XLA_GPU:0, XLA_GPU, 17179869184, 7982358489383469006),\n",
            " _DeviceAttributes(/job:tpu_worker/replica:0/task:0/device:TPU:0, TPU, 17179869184, 7316591919784883874),\n",
            " _DeviceAttributes(/job:tpu_worker/replica:0/task:0/device:TPU:1, TPU, 17179869184, 4845482972589313628),\n",
            " _DeviceAttributes(/job:tpu_worker/replica:0/task:0/device:TPU:2, TPU, 17179869184, 6332370725057830377),\n",
            " _DeviceAttributes(/job:tpu_worker/replica:0/task:0/device:TPU:3, TPU, 17179869184, 2425035318090804676),\n",
            " _DeviceAttributes(/job:tpu_worker/replica:0/task:0/device:TPU:4, TPU, 17179869184, 17626031719690383485),\n",
            " _DeviceAttributes(/job:tpu_worker/replica:0/task:0/device:TPU:5, TPU, 17179869184, 16067268088775755867),\n",
            " _DeviceAttributes(/job:tpu_worker/replica:0/task:0/device:TPU:6, TPU, 17179869184, 13406126704661070781),\n",
            " _DeviceAttributes(/job:tpu_worker/replica:0/task:0/device:TPU:7, TPU, 17179869184, 15038171978008387548),\n",
            " _DeviceAttributes(/job:tpu_worker/replica:0/task:0/device:TPU_SYSTEM:0, TPU_SYSTEM, 17179869184, 9714518313074088812)]\n"
          ],
          "name": "stdout"
        }
      ]
    },
    {
      "metadata": {
        "id": "lBOhgRrYGJzS",
        "colab_type": "text"
      },
      "cell_type": "markdown",
      "source": [
        "### Bert setup"
      ]
    },
    {
      "metadata": {
        "id": "D9hQGFJRwbBl",
        "colab_type": "code",
        "colab": {}
      },
      "cell_type": "code",
      "source": [
        "VOCAB_CONFIG_PATH=' gs://yohei-kikuta/mlstudy-phys/bert/models/pre-trained-models/uncased_L-12_H-768_A-12' #@param {type:\"string\"}"
      ],
      "execution_count": 0,
      "outputs": []
    },
    {
      "metadata": {
        "id": "6hfcrTkmwNJE",
        "colab_type": "code",
        "outputId": "56b1fcc0-b7fa-4735-fd28-1f85c60ef390",
        "colab": {
          "base_uri": "https://localhost:8080/",
          "height": 124
        }
      },
      "cell_type": "code",
      "source": [
        "!gsutil cp {VOCAB_CONFIG_PATH}/vocab.txt ./bert/model/patent/vocab.txt\n",
        "!gsutil cp {VOCAB_CONFIG_PATH}/bert_config.json ./bert/model/patent/bert_config.json"
      ],
      "execution_count": 11,
      "outputs": [
        {
          "output_type": "stream",
          "text": [
            "Copying gs://yohei-kikuta/mlstudy-phys/bert/models/pre-trained-models/uncased_L-12_H-768_A-12/vocab.txt...\n",
            "- [1 files][226.1 KiB/226.1 KiB]                                                \n",
            "Operation completed over 1 objects/226.1 KiB.                                    \n",
            "Copying gs://yohei-kikuta/mlstudy-phys/bert/models/pre-trained-models/uncased_L-12_H-768_A-12/bert_config.json...\n",
            "/ [1 files][  313.0 B/  313.0 B]                                                \n",
            "Operation completed over 1 objects/313.0 B.                                      \n"
          ],
          "name": "stdout"
        }
      ]
    },
    {
      "metadata": {
        "id": "XWPKTaJ8viYi",
        "colab_type": "code",
        "outputId": "4eff7fb4-dcef-4401-c425-c708b3f25415",
        "colab": {
          "base_uri": "https://localhost:8080/",
          "height": 35
        }
      },
      "cell_type": "code",
      "source": [
        "!ls ./bert/model/patent"
      ],
      "execution_count": 12,
      "outputs": [
        {
          "output_type": "stream",
          "text": [
            "bert_config.json  vocab.txt\n"
          ],
          "name": "stdout"
        }
      ]
    },
    {
      "metadata": {
        "id": "_7OoVrSLxX2i",
        "colab_type": "code",
        "colab": {}
      },
      "cell_type": "code",
      "source": [
        ""
      ],
      "execution_count": 0,
      "outputs": []
    },
    {
      "metadata": {
        "id": "LpSs4ff-xXc4",
        "colab_type": "code",
        "colab": {}
      },
      "cell_type": "code",
      "source": [
        "import sys\n",
        "sys.path.append(\"./bert\")"
      ],
      "execution_count": 0,
      "outputs": []
    },
    {
      "metadata": {
        "id": "aiCmZuxgN2rx",
        "colab_type": "code",
        "colab": {}
      },
      "cell_type": "code",
      "source": [
        "import tokenization"
      ],
      "execution_count": 0,
      "outputs": []
    },
    {
      "metadata": {
        "id": "ZtR55qoWN2Uy",
        "colab_type": "code",
        "colab": {}
      },
      "cell_type": "code",
      "source": [
        "tokenizer = tokenization.FullTokenizer(\n",
        "    vocab_file=\"./bert/model/patent/vocab.txt\", do_lower_case=True)"
      ],
      "execution_count": 0,
      "outputs": []
    },
    {
      "metadata": {
        "id": "xgyWpBn-N99_",
        "colab_type": "code",
        "colab": {}
      },
      "cell_type": "code",
      "source": [
        "CLS_ID = tokenizer.vocab[\"[CLS]\"]\n",
        "SEP_ID = tokenizer.vocab[\"[SEP]\"]"
      ],
      "execution_count": 0,
      "outputs": []
    },
    {
      "metadata": {
        "id": "7eF3NHnxN9v8",
        "colab_type": "code",
        "colab": {}
      },
      "cell_type": "code",
      "source": [
        ""
      ],
      "execution_count": 0,
      "outputs": []
    },
    {
      "metadata": {
        "id": "5CLJu1tSKe5S",
        "colab_type": "code",
        "colab": {}
      },
      "cell_type": "code",
      "source": [
        "def _truncate_seq_pair(tokens_a, tokens_b, max_length):\n",
        "  \"\"\"Truncates a sequence pair in place to the maximum length.\"\"\"\n",
        "\n",
        "  # This is a simple heuristic which will always truncate the longer sequence\n",
        "  # one token at a time. This makes more sense than truncating an equal percent\n",
        "  # of tokens from each, since if one sequence is very short then each token\n",
        "  # that's truncated likely contains more information than a longer sequence.\n",
        "  while True:\n",
        "    total_length = len(tokens_a) + len(tokens_b)\n",
        "    if total_length <= max_length:\n",
        "      break\n",
        "    if len(tokens_a) > len(tokens_b):\n",
        "      tokens_a.pop()\n",
        "    else:\n",
        "      tokens_b.pop()"
      ],
      "execution_count": 0,
      "outputs": []
    },
    {
      "metadata": {
        "id": "s1IMQ8o6su3T",
        "colab_type": "code",
        "colab": {}
      },
      "cell_type": "code",
      "source": [
        "label_list = [\"not_entailment\", \"entailment\"]\n",
        "max_seq_length = 512\n",
        "\n",
        "label_map = {}\n",
        "for (i, label) in enumerate(label_list):\n",
        "  label_map[label] = i"
      ],
      "execution_count": 0,
      "outputs": []
    },
    {
      "metadata": {
        "id": "1KJ2xS5aI1G4",
        "colab_type": "code",
        "colab": {}
      },
      "cell_type": "code",
      "source": [
        "def original_convert_single_pair(ids_a_input, ids_b_input):\n",
        "\n",
        "  # Clone and pop for truncate. Most of the case result len is the same for our purpose, but try simple implementation first.\n",
        "  ids_a = list(ids_a_input)\n",
        "  ids_b = list(ids_b_input)\n",
        "    \n",
        "  # Modifies `tokens_a` and `tokens_b` in place so that the total\n",
        "  # length is less than the specified length.\n",
        "  # Account for [CLS], [SEP], [SEP] with \"- 3\"\n",
        "  _truncate_seq_pair(ids_a, ids_b, max_seq_length - 3)\n",
        "\n",
        "  # The convention in BERT is:\n",
        "  # (a) For sequence pairs:\n",
        "  #  tokens:   [CLS] is this jack ##son ##ville ? [SEP] no it is not . [SEP]\n",
        "  #  type_ids: 0     0  0    0    0     0       0 0     1  1  1  1   1 1\n",
        "  # (b) For single sequences:\n",
        "  #  tokens:   [CLS] the dog is hairy . [SEP]\n",
        "  #  type_ids: 0     0   0   0  0     0 0\n",
        "  #\n",
        "  # Where \"type_ids\" are used to indicate whether this is the first\n",
        "  # sequence or the second sequence. The embedding vectors for `type=0` and\n",
        "  # `type=1` were learned during pre-training and are added to the wordpiece\n",
        "  # embedding vector (and position vector). This is not *strictly* necessary\n",
        "  # since the [SEP] token unambiguously separates the sequences, but it makes\n",
        "  # it easier for the model to learn the concept of sequences.\n",
        "  #\n",
        "  # For classification tasks, the first vector (corresponding to [CLS]) is\n",
        "  # used as as the \"sentence vector\". Note that this only makes sense because\n",
        "  # the entire model is fine-tuned.\n",
        "  input_ids = []\n",
        "  segment_ids = []\n",
        "  input_ids.append(CLS_ID)\n",
        "  segment_ids.append(0)\n",
        "  for token in ids_a:\n",
        "    input_ids.append(token)\n",
        "    segment_ids.append(0)\n",
        "  input_ids.append(SEP_ID)\n",
        "  segment_ids.append(0)\n",
        "\n",
        "  for token in ids_b:\n",
        "    input_ids.append(token)\n",
        "    segment_ids.append(1)\n",
        "  input_ids.append(SEP_ID)\n",
        "  segment_ids.append(1)\n",
        "\n",
        "  # The mask has 1 for real tokens and 0 for padding tokens. Only real\n",
        "  # tokens are attended to.\n",
        "  input_mask = [1] * len(input_ids)\n",
        "\n",
        "  # Zero-pad up to the sequence length.\n",
        "  while len(input_ids) < max_seq_length:\n",
        "    input_ids.append(0)\n",
        "    input_mask.append(0)\n",
        "    segment_ids.append(0)\n",
        "\n",
        "  assert len(input_ids) == max_seq_length\n",
        "  assert len(input_mask) == max_seq_length\n",
        "  assert len(segment_ids) == max_seq_length\n",
        "\n",
        "  return (input_ids, input_mask, segment_ids)\n"
      ],
      "execution_count": 0,
      "outputs": []
    },
    {
      "metadata": {
        "id": "Ka67cUqvrzSn",
        "colab_type": "text"
      },
      "cell_type": "markdown",
      "source": [
        "### Optimization for our application\n",
        "\n",
        "dup ids consume huge memory.\n",
        "We cach and use the same memory if ids_a_nput and ids_b_input have enough size."
      ]
    },
    {
      "metadata": {
        "id": "vS4V68lnteSp",
        "colab_type": "code",
        "colab": {}
      },
      "cell_type": "code",
      "source": [
        "NORMAL_INPUT_MASK = [1]*max_seq_length\n",
        "NORMAL_SEGMENT_IDS = [0]*257+[1]*255"
      ],
      "execution_count": 0,
      "outputs": []
    },
    {
      "metadata": {
        "id": "WepvGg7GzBHN",
        "colab_type": "code",
        "colab": {}
      },
      "cell_type": "code",
      "source": [
        ""
      ],
      "execution_count": 0,
      "outputs": []
    },
    {
      "metadata": {
        "id": "jU7GTdsDu3pr",
        "colab_type": "code",
        "colab": {}
      },
      "cell_type": "code",
      "source": [
        "# [CLS](0), 1-255(len=255), [SEP], 257-510(len=254), [SEP]"
      ],
      "execution_count": 0,
      "outputs": []
    },
    {
      "metadata": {
        "id": "qEiIH_OYvdoi",
        "colab_type": "code",
        "colab": {}
      },
      "cell_type": "code",
      "source": [
        "LEN_255_CACHE = {}\n",
        "LEN_254_CACHE = {}"
      ],
      "execution_count": 0,
      "outputs": []
    },
    {
      "metadata": {
        "id": "3MXXhPIlwnpp",
        "colab_type": "code",
        "colab": {}
      },
      "cell_type": "code",
      "source": [
        "def truncage_with_cache(ids, target_len):\n",
        "  if target_len == 255:\n",
        "    cache = LEN_255_CACHE\n",
        "  else:\n",
        "    assert target_len == 254\n",
        "    cache = LEN_254_CACHE\n",
        "  if ids not in cache:\n",
        "    cache[ids] = ids[0:target_len]\n",
        "  return cache[ids]"
      ],
      "execution_count": 0,
      "outputs": []
    },
    {
      "metadata": {
        "id": "-aZoDPL9rtr_",
        "colab_type": "code",
        "colab": {}
      },
      "cell_type": "code",
      "source": [
        "def fast_convert_single_pair(ids_a_input, ids_b_input):  \n",
        "  if (len(ids_a_input) < 256) or (len(ids_b_input) < 256) :\n",
        "    return original_convert_single_pair(ids_a_input, ids_b_input)\n",
        "  \n",
        "  ids_a = truncage_with_cache(ids_a_input, 255)\n",
        "  ids_b = truncage_with_cache(ids_b_input, 254)\n",
        "\n",
        "  input_ids = (CLS_ID,) + ids_a + (SEP_ID,) + ids_b + (SEP_ID,)\n",
        "  \n",
        "  return (input_ids, NORMAL_INPUT_MASK, NORMAL_SEGMENT_IDS)\n"
      ],
      "execution_count": 0,
      "outputs": []
    },
    {
      "metadata": {
        "id": "5ODA4cgTN6nu",
        "colab_type": "code",
        "colab": {}
      },
      "cell_type": "code",
      "source": [
        "def feature_tuplist_to_feature_dict(ftups):\n",
        "    dic = {}\n",
        "    dic['input_ids'] = [tup[0] for tup in ftups]\n",
        "    dic[\"input_mask\"] = [tup[1] for tup in ftups]\n",
        "    dic[\"segment_ids\"] = [tup[2] for tup in ftups]\n",
        "    dic[\"label_ids\"] = [[0] for _ in ftups]\n",
        "    return dic"
      ],
      "execution_count": 0,
      "outputs": []
    },
    {
      "metadata": {
        "id": "qr6ULqjyzVHC",
        "colab_type": "code",
        "colab": {}
      },
      "cell_type": "code",
      "source": [
        "# convert to tuple for optimization.\n",
        "grants_ids_tup = [tuple(ids) for ids in grants_ids]"
      ],
      "execution_count": 0,
      "outputs": []
    },
    {
      "metadata": {
        "id": "EpPg7jBjNzYI",
        "colab_type": "text"
      },
      "cell_type": "markdown",
      "source": [
        "Tokenize claim"
      ]
    },
    {
      "metadata": {
        "id": "EbuFVKieOfpQ",
        "colab_type": "code",
        "colab": {}
      },
      "cell_type": "code",
      "source": [
        "import re\n",
        "\n",
        "CLAIM_PAT = re.compile(r'<claims[^>]*>(.*)</claims>',re.MULTILINE|re.DOTALL)\n",
        "TAG_PAT = re.compile(r\"<.*?>\")\n",
        "\n",
        "\n",
        "def whole_xml_to_claim_xml(whole):\n",
        "    mat = CLAIM_PAT.search(whole)\n",
        "    return mat.group(1)\n",
        "  \n",
        "  \n",
        "def whole_xml_to_claim(whole):\n",
        "    return TAG_PAT.sub(' ', whole_xml_to_claim_xml(whole))"
      ],
      "execution_count": 0,
      "outputs": []
    },
    {
      "metadata": {
        "id": "wLmSPcs6N4RZ",
        "colab_type": "code",
        "colab": {}
      },
      "cell_type": "code",
      "source": [
        "def claim_to_ids(claim):\n",
        "  return tokenizer.convert_tokens_to_ids(tokenizer.tokenize(claim))"
      ],
      "execution_count": 0,
      "outputs": []
    },
    {
      "metadata": {
        "id": "O473b-9RnnZ7",
        "colab_type": "text"
      },
      "cell_type": "markdown",
      "source": [
        "# Model setup"
      ]
    },
    {
      "metadata": {
        "id": "bgGldgUEN4cD",
        "colab_type": "code",
        "colab": {}
      },
      "cell_type": "code",
      "source": [
        ""
      ],
      "execution_count": 0,
      "outputs": []
    },
    {
      "metadata": {
        "id": "_9U0S-hYxeMY",
        "colab_type": "code",
        "colab": {}
      },
      "cell_type": "code",
      "source": [
        "import os\n",
        "\n",
        "import modeling\n",
        "import tokenization\n",
        "\n",
        "from run_classifier import model_fn_builder\n"
      ],
      "execution_count": 0,
      "outputs": []
    },
    {
      "metadata": {
        "id": "AburDQpQxd_k",
        "colab_type": "code",
        "colab": {}
      },
      "cell_type": "code",
      "source": [
        "bert_config = modeling.BertConfig.from_json_file(\"./bert/model/patent/bert_config.json\")"
      ],
      "execution_count": 0,
      "outputs": []
    },
    {
      "metadata": {
        "id": "-hGfDjS6x7fw",
        "colab_type": "code",
        "outputId": "19a71039-4f19-454d-ec6b-2bd26c8e152e",
        "colab": {
          "base_uri": "https://localhost:8080/",
          "height": 53
        }
      },
      "cell_type": "code",
      "source": [
        "BUCKET = 'karino2-uspatent' #@param {type:\"string\"}\n",
        "OUTPUT_DIR = 'gs://{}/mlstudy-phys/bert/models/patent_1000'.format(BUCKET)\n",
        "\n",
        "INIT_CHECK_POINT_FILE='model.ckpt-1602' #@param {type:\"string\"}\n",
        "INIT_CHECK_POINT = '{}/{}'.format(OUTPUT_DIR, INIT_CHECK_POINT_FILE)\n",
        "\n",
        "tf.gfile.MakeDirs(OUTPUT_DIR)\n",
        "print('***** Model output directory: {} *****'.format(OUTPUT_DIR))\n",
        "print('***** Init checkpoint: {} *****'.format(INIT_CHECK_POINT))"
      ],
      "execution_count": 123,
      "outputs": [
        {
          "output_type": "stream",
          "text": [
            "***** Model output directory: gs://karino2-uspatent/mlstudy-phys/bert/models/patent_1000 *****\n",
            "***** Init checkpoint: gs://karino2-uspatent/mlstudy-phys/bert/models/patent_1000/model.ckpt-1602 *****\n"
          ],
          "name": "stdout"
        }
      ]
    },
    {
      "metadata": {
        "id": "D7yRP7fE5qu2",
        "colab_type": "code",
        "colab": {}
      },
      "cell_type": "code",
      "source": [
        ""
      ],
      "execution_count": 0,
      "outputs": []
    },
    {
      "metadata": {
        "id": "OISS39WWxdxv",
        "colab_type": "code",
        "colab": {}
      },
      "cell_type": "code",
      "source": [
        "class FLAGS(object):\n",
        "    '''Parameters.'''\n",
        "    def __init__(self):\n",
        "        self.vocab_file = \"./bert/model/patent/vocab.txt\"\n",
        "        self.use_tpu = True\n",
        "        self.output_dir = OUTPUT_DIR\n",
        "        # self.data_dir = \"./bert/data/1000\"\n",
        "        self.init_checkpoint = INIT_CHECK_POINT\n",
        "        self.predict_batch_size = 16\n",
        "        # TPU related\n",
        "        self.num_tpu_cores = 8\n",
        "        self.tpu_name = TPU_ADDRESS\n",
        "        \n",
        "        # following parameters are not used anymore. (because we create feature by hand)\n",
        "        self.do_lower_case = True\n",
        "        self.max_seq_length = 512\n",
        "        \n",
        "        # The following parameters are not used in predictions.\n",
        "        # Just use to create RunConfig.\n",
        "        self.master = None\n",
        "        self.save_checkpoints_steps = 1\n",
        "        self.learning_rate = 0\n",
        "        self.num_warmup_steps = 0\n",
        "        self.num_train_steps = 0\n",
        "        # TPU related. Some of these value have positive int not to make TPUEstimator angry (even though these are not used...).\n",
        "        self.eval_batch_size = 32\n",
        "        self.train_batch_size = 32 \n",
        "        self.iterations_per_loop = 1000\n"
      ],
      "execution_count": 0,
      "outputs": []
    },
    {
      "metadata": {
        "id": "YjiBu4fzxdjY",
        "colab_type": "code",
        "colab": {}
      },
      "cell_type": "code",
      "source": [
        "FLAGS = FLAGS()"
      ],
      "execution_count": 0,
      "outputs": []
    },
    {
      "metadata": {
        "id": "Wvl80s6_zH_T",
        "colab_type": "code",
        "colab": {}
      },
      "cell_type": "code",
      "source": [
        "# tokenizer = tokenization.FullTokenizer(\n",
        "#    vocab_file=FLAGS.vocab_file, do_lower_case=FLAGS.do_lower_case)\n",
        "\n",
        "# tpu_cluster_resolver = tf.contrib.cluster_resolver.TPUClusterResolver(tpu=FLAGS.tpu_name).get_master()\n",
        "tpu_cluster_resolver = tf.contrib.cluster_resolver.TPUClusterResolver(tpu=FLAGS.tpu_name)\n",
        "\n",
        "is_per_host = tf.contrib.tpu.InputPipelineConfig.PER_HOST_V2\n",
        "\n",
        "run_config = tf.contrib.tpu.RunConfig(\n",
        "    cluster=tpu_cluster_resolver,\n",
        "    master=FLAGS.master,\n",
        "    model_dir=FLAGS.output_dir,\n",
        "    save_checkpoints_steps=FLAGS.save_checkpoints_steps,\n",
        "    tpu_config=tf.contrib.tpu.TPUConfig(\n",
        "        iterations_per_loop=FLAGS.iterations_per_loop,\n",
        "        num_shards=FLAGS.num_tpu_cores,\n",
        "        per_host_input_for_training=is_per_host))"
      ],
      "execution_count": 0,
      "outputs": []
    },
    {
      "metadata": {
        "id": "icN9SGPpzHxe",
        "colab_type": "code",
        "colab": {}
      },
      "cell_type": "code",
      "source": [
        "model_fn = model_fn_builder(\n",
        "    bert_config=bert_config,\n",
        "    num_labels=len([\"not_entailment\", \"entailment\"]),\n",
        "    init_checkpoint=FLAGS.init_checkpoint,\n",
        "    learning_rate=FLAGS.learning_rate,\n",
        "    num_train_steps=FLAGS.num_train_steps,\n",
        "    num_warmup_steps=FLAGS.num_warmup_steps,\n",
        "    use_tpu=FLAGS.use_tpu,\n",
        "    use_one_hot_embeddings=FLAGS.use_tpu)"
      ],
      "execution_count": 0,
      "outputs": []
    },
    {
      "metadata": {
        "id": "YOnW40GE9yTU",
        "colab_type": "code",
        "colab": {}
      },
      "cell_type": "code",
      "source": [
        "# https://github.com/kyzhouhzau/BERT-NER/issues/19\n",
        "\n",
        "def model_fn_wrapper(features, labels, mode, params):\n",
        "  tspec = model_fn(features, labels, mode, params)\n",
        "  pred_dict = {'predictions': tspec.predictions}\n",
        "  return tf.contrib.tpu.TPUEstimatorSpec(\n",
        "          mode=tspec.mode, predictions=pred_dict, scaffold_fn=tspec.scaffold_fn)\n"
      ],
      "execution_count": 0,
      "outputs": []
    },
    {
      "metadata": {
        "id": "rPgJuC0A9yAq",
        "colab_type": "code",
        "outputId": "1fed23c0-3992-48b3-e9a9-8a3c328f2780",
        "colab": {
          "base_uri": "https://localhost:8080/",
          "height": 250
        }
      },
      "cell_type": "code",
      "source": [
        "estimator = tf.contrib.tpu.TPUEstimator(\n",
        "    use_tpu=FLAGS.use_tpu,\n",
        "    # model_fn=model_fn,\n",
        "    model_fn=model_fn_wrapper,\n",
        "    config=run_config,\n",
        "    train_batch_size=FLAGS.train_batch_size,\n",
        "    eval_batch_size=FLAGS.eval_batch_size,\n",
        "    predict_batch_size=FLAGS.predict_batch_size)"
      ],
      "execution_count": 129,
      "outputs": [
        {
          "output_type": "stream",
          "text": [
            "WARNING:tensorflow:Estimator's model_fn (<function model_fn_wrapper at 0x7f92b534f8c8>) includes params argument, but params are not passed to Estimator.\n",
            "INFO:tensorflow:Using config: {'_model_dir': 'gs://karino2-uspatent/mlstudy-phys/bert/models/patent_1000', '_tf_random_seed': None, '_save_summary_steps': 100, '_save_checkpoints_steps': 1, '_save_checkpoints_secs': None, '_session_config': allow_soft_placement: true\n",
            "cluster_def {\n",
            "  job {\n",
            "    name: \"worker\"\n",
            "    tasks {\n",
            "      value: \"10.29.55.130:8470\"\n",
            "    }\n",
            "  }\n",
            "}\n",
            ", '_keep_checkpoint_max': 5, '_keep_checkpoint_every_n_hours': 10000, '_log_step_count_steps': None, '_train_distribute': None, '_device_fn': None, '_protocol': None, '_eval_distribute': None, '_experimental_distribute': None, '_service': None, '_cluster_spec': <tensorflow.python.training.server_lib.ClusterSpec object at 0x7f92b53e5da0>, '_task_type': 'worker', '_task_id': 0, '_global_id_in_cluster': 0, '_master': b'grpc://10.29.55.130:8470', '_evaluation_master': b'grpc://10.29.55.130:8470', '_is_chief': True, '_num_ps_replicas': 0, '_num_worker_replicas': 1, '_tpu_config': TPUConfig(iterations_per_loop=1000, num_shards=8, num_cores_per_replica=None, per_host_input_for_training=3, tpu_job_name=None, initial_infeed_sleep_secs=None, input_partition_dims=None), '_cluster': <tensorflow.contrib.cluster_resolver.python.training.tpu_cluster_resolver.TPUClusterResolver object at 0x7f92b53e58d0>}\n",
            "INFO:tensorflow:_TPUContext: eval_on_tpu True\n"
          ],
          "name": "stdout"
        }
      ]
    },
    {
      "metadata": {
        "id": "0neZwVmuoZ6C",
        "colab_type": "code",
        "colab": {}
      },
      "cell_type": "code",
      "source": [
        "tf.logging.set_verbosity(tf.logging.ERROR)"
      ],
      "execution_count": 0,
      "outputs": []
    },
    {
      "metadata": {
        "id": "nXqSH6HmoZrJ",
        "colab_type": "code",
        "colab": {}
      },
      "cell_type": "code",
      "source": [
        "def predict_fdicts(fdict):\n",
        "  def _batch_input_function(params):\n",
        "    test_ds = tf.data.Dataset.from_tensor_slices(fdict)    \n",
        "    return test_ds.batch(params['batch_size'])\n",
        "  \n",
        "  result = estimator.predict(_batch_input_function)\n",
        "  print(datetime.datetime.today())\n",
        "  result = list(result)\n",
        "  print(datetime.datetime.today())\n",
        "  \n",
        "  return  [pred['predictions'] for pred in result]\n"
      ],
      "execution_count": 0,
      "outputs": []
    },
    {
      "metadata": {
        "id": "EtOaMQvloZSz",
        "colab_type": "code",
        "colab": {}
      },
      "cell_type": "code",
      "source": [
        ""
      ],
      "execution_count": 0,
      "outputs": []
    },
    {
      "metadata": {
        "id": "bKK_MOdEPHUj",
        "colab_type": "text"
      },
      "cell_type": "markdown",
      "source": [
        "# Interactive view"
      ]
    },
    {
      "metadata": {
        "id": "2DTtgwRTuvSn",
        "colab_type": "code",
        "colab": {}
      },
      "cell_type": "code",
      "source": [
        "def results_to_result_df(results):\n",
        "  results_arr = np.array(results)\n",
        "  results_df = grants_target_df.copy()\n",
        "  results_df[\"score\"] = results_arr[:, 1]\n",
        "  return results_df.sort_values(\"score\", ascending=False)"
      ],
      "execution_count": 0,
      "outputs": []
    },
    {
      "metadata": {
        "id": "yw2POytHbQ6R",
        "colab_type": "code",
        "colab": {}
      },
      "cell_type": "code",
      "source": [
        "from google.colab import widgets\n",
        "from google.colab import output\n"
      ],
      "execution_count": 0,
      "outputs": []
    },
    {
      "metadata": {
        "id": "Anj_wKJdvHkP",
        "colab_type": "code",
        "colab": {}
      },
      "cell_type": "code",
      "source": [
        "def show_candidates(result_df, app_id):\n",
        "  print('Show 10 most probable candidate for app({})'.format(app_id))\n",
        "\n",
        "  candidate_df = result_df.sort_values(\"score\", ascending=False)[0:10]\n",
        "\n",
        "\n",
        "  tab_labels = list(candidate_df.apply(lambda row: \"{}:{:.6f}\".format(row.parsed, row.score), axis=1))\n",
        "\n",
        "  tb = widgets.TabBar(tab_labels, location=\"top\")\n",
        "  for i, _ in enumerate(tab_labels):\n",
        "    with tb.output_to(i):\n",
        "      print(whole_xml_to_claim(candidate_df[\"xml\"].values[i]))"
      ],
      "execution_count": 0,
      "outputs": []
    },
    {
      "metadata": {
        "id": "lFXBo084xThx",
        "colab_type": "text"
      },
      "cell_type": "markdown",
      "source": [
        "### How to use\n",
        "\n",
        "1. Eval cell below\n",
        "2. Choose which application you want to search cited candidate\n",
        "3. Choose dropdown of index which you want to search (left most tab is 0)\n",
        "4. Eval cell below of dropdown. This cell takes about 40 seconds.\n",
        "5. Show the results."
      ]
    },
    {
      "metadata": {
        "id": "7Z9CKgdlZYrn",
        "colab_type": "code",
        "colab": {
          "resources": {
            "http://localhost:8080/nbextensions/google.colab/tabbar.css": {
              "data": "Lmdvb2ctdGFie3Bvc2l0aW9uOnJlbGF0aXZlO3BhZGRpbmc6NHB4IDhweDtjb2xvcjojMDBjO3RleHQtZGVjb3JhdGlvbjp1bmRlcmxpbmU7Y3Vyc29yOmRlZmF1bHR9Lmdvb2ctdGFiLWJhci10b3AgLmdvb2ctdGFie21hcmdpbjoxcHggNHB4IDAgMDtib3JkZXItYm90dG9tOjA7ZmxvYXQ6bGVmdH0uZ29vZy10YWItYmFyLXRvcDphZnRlciwuZ29vZy10YWItYmFyLWJvdHRvbTphZnRlcntjb250ZW50OiIgIjtkaXNwbGF5OmJsb2NrO2hlaWdodDowO2NsZWFyOmJvdGg7dmlzaWJpbGl0eTpoaWRkZW59Lmdvb2ctdGFiLWJhci1ib3R0b20gLmdvb2ctdGFie21hcmdpbjowIDRweCAxcHggMDtib3JkZXItdG9wOjA7ZmxvYXQ6bGVmdH0uZ29vZy10YWItYmFyLXN0YXJ0IC5nb29nLXRhYnttYXJnaW46MCAwIDRweCAxcHg7Ym9yZGVyLXJpZ2h0OjB9Lmdvb2ctdGFiLWJhci1lbmQgLmdvb2ctdGFie21hcmdpbjowIDFweCA0cHggMDtib3JkZXItbGVmdDowfS5nb29nLXRhYi1ob3ZlcntiYWNrZ3JvdW5kOiNlZWV9Lmdvb2ctdGFiLWRpc2FibGVke2NvbG9yOiM2NjZ9Lmdvb2ctdGFiLXNlbGVjdGVke2NvbG9yOiMwMDA7YmFja2dyb3VuZDojZmZmO3RleHQtZGVjb3JhdGlvbjpub25lO2ZvbnQtd2VpZ2h0OmJvbGQ7Ym9yZGVyOjFweCBzb2xpZCAjNmI5MGRhfS5nb29nLXRhYi1iYXItdG9we3BhZGRpbmctdG9wOjVweCFpbXBvcnRhbnQ7cGFkZGluZy1sZWZ0OjVweCFpbXBvcnRhbnQ7Ym9yZGVyLWJvdHRvbToxcHggc29saWQgIzZiOTBkYSFpbXBvcnRhbnR9Lmdvb2ctdGFiLWJhci10b3AgLmdvb2ctdGFiLXNlbGVjdGVke3RvcDoxcHg7bWFyZ2luLXRvcDowO3BhZGRpbmctYm90dG9tOjVweH0uZ29vZy10YWItYmFyLWJvdHRvbSAuZ29vZy10YWItc2VsZWN0ZWR7dG9wOi0xcHg7bWFyZ2luLWJvdHRvbTowO3BhZGRpbmctdG9wOjVweH0uZ29vZy10YWItYmFyLXN0YXJ0IC5nb29nLXRhYi1zZWxlY3RlZHtsZWZ0OjFweDttYXJnaW4tbGVmdDowO3BhZGRpbmctcmlnaHQ6OXB4fS5nb29nLXRhYi1iYXItZW5kIC5nb29nLXRhYi1zZWxlY3RlZHtsZWZ0Oi0xcHg7bWFyZ2luLXJpZ2h0OjA7cGFkZGluZy1sZWZ0OjlweH0uZ29vZy10YWItYmFye21hcmdpbjowO2JvcmRlcjowO3BhZGRpbmc6MDtsaXN0LXN0eWxlOm5vbmU7Y3Vyc29yOmRlZmF1bHQ7b3V0bGluZTpub25lO2JhY2tncm91bmQ6I2ViZWZmOX0uZ29vZy10YWItYmFyLWNsZWFye2NsZWFyOmJvdGg7aGVpZ2h0OjA7b3ZlcmZsb3c6aGlkZGVufS5nb29nLXRhYi1iYXItc3RhcnR7ZmxvYXQ6bGVmdH0uZ29vZy10YWItYmFyLWVuZHtmbG9hdDpyaWdodH0qIGh0bWwgLmdvb2ctdGFiLWJhci1zdGFydHttYXJnaW4tcmlnaHQ6LTNweH0qIGh0bWwgLmdvb2ctdGFiLWJhci1lbmR7bWFyZ2luLWxlZnQ6LTNweH0=",
              "ok": true,
              "headers": [
                [
                  "content-length",
                  "1394"
                ],
                [
                  "content-type",
                  "text/css"
                ]
              ],
              "status": 200,
              "status_text": ""
            },
            "http://localhost:8080/nbextensions/google.colab/tabbar_main.min.js": {
              "data": "dmFyIGcsYWE9ImZ1bmN0aW9uIj09dHlwZW9mIE9iamVjdC5kZWZpbmVQcm9wZXJ0aWVzP09iamVjdC5kZWZpbmVQcm9wZXJ0eTpmdW5jdGlvbihhLGIsYyl7YSE9QXJyYXkucHJvdG90eXBlJiZhIT1PYmplY3QucHJvdG90eXBlJiYoYVtiXT1jLnZhbHVlKX0sYmE9InVuZGVmaW5lZCIhPXR5cGVvZiB3aW5kb3cmJndpbmRvdz09PXRoaXM/dGhpczoidW5kZWZpbmVkIiE9dHlwZW9mIGdsb2JhbCYmbnVsbCE9Z2xvYmFsP2dsb2JhbDp0aGlzLGNhPWZ1bmN0aW9uKCl7Y2E9ZnVuY3Rpb24oKXt9O2JhLlN5bWJvbHx8KGJhLlN5bWJvbD1kYSl9LGRhPWZ1bmN0aW9uKCl7dmFyIGE9MDtyZXR1cm4gZnVuY3Rpb24oYil7cmV0dXJuImpzY29tcF9zeW1ib2xfIisoYnx8IiIpK2ErK319KCksZmE9ZnVuY3Rpb24oKXtjYSgpO3ZhciBhPWJhLlN5bWJvbC5pdGVyYXRvcjthfHwoYT1iYS5TeW1ib2wuaXRlcmF0b3I9YmEuU3ltYm9sKCJpdGVyYXRvciIpKTsiZnVuY3Rpb24iIT10eXBlb2YgQXJyYXkucHJvdG90eXBlW2FdJiYKYWEoQXJyYXkucHJvdG90eXBlLGEse2NvbmZpZ3VyYWJsZTohMCx3cml0YWJsZTohMCx2YWx1ZTpmdW5jdGlvbigpe3JldHVybiBlYSh0aGlzKX19KTtmYT1mdW5jdGlvbigpe319LGVhPWZ1bmN0aW9uKGEpe3ZhciBiPTA7cmV0dXJuIGhhKGZ1bmN0aW9uKCl7cmV0dXJuIGI8YS5sZW5ndGg/e2RvbmU6ITEsdmFsdWU6YVtiKytdfTp7ZG9uZTohMH19KX0saGE9ZnVuY3Rpb24oYSl7ZmEoKTthPXtuZXh0OmF9O2FbYmEuU3ltYm9sLml0ZXJhdG9yXT1mdW5jdGlvbigpe3JldHVybiB0aGlzfTtyZXR1cm4gYX0saWE9ZnVuY3Rpb24oYSl7ZmEoKTt2YXIgYj1hW1N5bWJvbC5pdGVyYXRvcl07cmV0dXJuIGI/Yi5jYWxsKGEpOmVhKGEpfSxsPXRoaXMsbT1mdW5jdGlvbihhKXtyZXR1cm4ic3RyaW5nIj09dHlwZW9mIGF9LGphPWZ1bmN0aW9uKCl7fSxrYT1mdW5jdGlvbihhKXthLkNhPXZvaWQgMDthLlI9ZnVuY3Rpb24oKXtyZXR1cm4gYS5DYT9hLkNhOmEuQ2E9bmV3IGF9fSxsYT1mdW5jdGlvbihhKXt2YXIgYj0KdHlwZW9mIGE7aWYoIm9iamVjdCI9PWIpaWYoYSl7aWYoYSBpbnN0YW5jZW9mIEFycmF5KXJldHVybiJhcnJheSI7aWYoYSBpbnN0YW5jZW9mIE9iamVjdClyZXR1cm4gYjt2YXIgYz1PYmplY3QucHJvdG90eXBlLnRvU3RyaW5nLmNhbGwoYSk7aWYoIltvYmplY3QgV2luZG93XSI9PWMpcmV0dXJuIm9iamVjdCI7aWYoIltvYmplY3QgQXJyYXldIj09Y3x8Im51bWJlciI9PXR5cGVvZiBhLmxlbmd0aCYmInVuZGVmaW5lZCIhPXR5cGVvZiBhLnNwbGljZSYmInVuZGVmaW5lZCIhPXR5cGVvZiBhLnByb3BlcnR5SXNFbnVtZXJhYmxlJiYhYS5wcm9wZXJ0eUlzRW51bWVyYWJsZSgic3BsaWNlIikpcmV0dXJuImFycmF5IjtpZigiW29iamVjdCBGdW5jdGlvbl0iPT1jfHwidW5kZWZpbmVkIiE9dHlwZW9mIGEuY2FsbCYmInVuZGVmaW5lZCIhPXR5cGVvZiBhLnByb3BlcnR5SXNFbnVtZXJhYmxlJiYhYS5wcm9wZXJ0eUlzRW51bWVyYWJsZSgiY2FsbCIpKXJldHVybiJmdW5jdGlvbiJ9ZWxzZSByZXR1cm4ibnVsbCI7CmVsc2UgaWYoImZ1bmN0aW9uIj09YiYmInVuZGVmaW5lZCI9PXR5cGVvZiBhLmNhbGwpcmV0dXJuIm9iamVjdCI7cmV0dXJuIGJ9LG49ZnVuY3Rpb24oYSl7cmV0dXJuImFycmF5Ij09bGEoYSl9LG1hPWZ1bmN0aW9uKGEpe3ZhciBiPWxhKGEpO3JldHVybiJhcnJheSI9PWJ8fCJvYmplY3QiPT1iJiYibnVtYmVyIj09dHlwZW9mIGEubGVuZ3RofSxxPWZ1bmN0aW9uKGEpe3JldHVybiJmdW5jdGlvbiI9PWxhKGEpfSx0PWZ1bmN0aW9uKGEpe3ZhciBiPXR5cGVvZiBhO3JldHVybiJvYmplY3QiPT1iJiZudWxsIT1hfHwiZnVuY3Rpb24iPT1ifSxuYT0iY2xvc3VyZV91aWRfIisoMUU5Kk1hdGgucmFuZG9tKCk+Pj4wKSxwYT0wLHFhPWZ1bmN0aW9uKGEsYil7dmFyIGM9QXJyYXkucHJvdG90eXBlLnNsaWNlLmNhbGwoYXJndW1lbnRzLDEpO3JldHVybiBmdW5jdGlvbigpe3ZhciBiPWMuc2xpY2UoKTtiLnB1c2guYXBwbHkoYixhcmd1bWVudHMpO3JldHVybiBhLmFwcGx5KHRoaXMsYil9fSwKdT1mdW5jdGlvbihhLGIpe2Z1bmN0aW9uIGMoKXt9Yy5wcm90b3R5cGU9Yi5wcm90b3R5cGU7YS5pPWIucHJvdG90eXBlO2EucHJvdG90eXBlPW5ldyBjO2EucHJvdG90eXBlLmNvbnN0cnVjdG9yPWE7YS5ZYz1mdW5jdGlvbihhLGMsZil7Zm9yKHZhciBkPUFycmF5KGFyZ3VtZW50cy5sZW5ndGgtMiksZT0yO2U8YXJndW1lbnRzLmxlbmd0aDtlKyspZFtlLTJdPWFyZ3VtZW50c1tlXTtyZXR1cm4gYi5wcm90b3R5cGVbY10uYXBwbHkoYSxkKX19O3ZhciByYSxzYT17ZWI6ImFjdGl2ZWRlc2NlbmRhbnQiLGpiOiJhdG9taWMiLGtiOiJhdXRvY29tcGxldGUiLG1iOiJidXN5IixwYjoiY2hlY2tlZCIscWI6ImNvbGluZGV4Iix2YjoiY29udHJvbHMiLHhiOiJkZXNjcmliZWRieSIsQWI6ImRpc2FibGVkIixDYjoiZHJvcGVmZmVjdCIsRGI6ImV4cGFuZGVkIixFYjoiZmxvd3RvIixHYjoiZ3JhYmJlZCIsS2I6Imhhc3BvcHVwIixNYjoiaGlkZGVuIixPYjoiaW52YWxpZCIsUGI6ImxhYmVsIixRYjoibGFiZWxsZWRieSIsUmI6ImxldmVsIixXYjoibGl2ZSIsZmM6Im11bHRpbGluZSIsZ2M6Im11bHRpc2VsZWN0YWJsZSIsa2M6Im9yaWVudGF0aW9uIixsYzoib3ducyIsbWM6InBvc2luc2V0IixvYzoicHJlc3NlZCIsc2M6InJlYWRvbmx5Iix1YzoicmVsZXZhbnQiLHZjOiJyZXF1aXJlZCIsemM6InJvd2luZGV4IixDYzoic2VsZWN0ZWQiLEVjOiJzZXRzaXplIixHYzoic29ydCIsVWM6InZhbHVlbWF4IixWYzoidmFsdWVtaW4iLFdjOiJ2YWx1ZW5vdyIsClhjOiJ2YWx1ZXRleHQifTt2YXIgdGE9ZnVuY3Rpb24oYSxiLGMpe2Zvcih2YXIgZCBpbiBhKWIuY2FsbChjLGFbZF0sZCxhKX0sdWE9ZnVuY3Rpb24oYSxiKXtmb3IodmFyIGMgaW4gYSlpZihhW2NdPT1iKXJldHVybiEwO3JldHVybiExfSx2YT1mdW5jdGlvbihhLGIsYyl7aWYobnVsbCE9PWEmJmIgaW4gYSl0aHJvdyBFcnJvcignVGhlIG9iamVjdCBhbHJlYWR5IGNvbnRhaW5zIHRoZSBrZXkgIicrYisnIicpO2FbYl09Y30sd2E9ZnVuY3Rpb24oYSl7dmFyIGI9e30sYztmb3IoYyBpbiBhKWJbYVtjXV09YztyZXR1cm4gYn0seGE9ImNvbnN0cnVjdG9yIGhhc093blByb3BlcnR5IGlzUHJvdG90eXBlT2YgcHJvcGVydHlJc0VudW1lcmFibGUgdG9Mb2NhbGVTdHJpbmcgdG9TdHJpbmcgdmFsdWVPZiIuc3BsaXQoIiAiKSx5YT1mdW5jdGlvbihhLGIpe2Zvcih2YXIgYyxkLGU9MTtlPGFyZ3VtZW50cy5sZW5ndGg7ZSsrKXtkPWFyZ3VtZW50c1tlXTtmb3IoYyBpbiBkKWFbY109ZFtjXTtmb3IodmFyIGY9MDtmPHhhLmxlbmd0aDtmKyspYz0KeGFbZl0sT2JqZWN0LnByb3RvdHlwZS5oYXNPd25Qcm9wZXJ0eS5jYWxsKGQsYykmJihhW2NdPWRbY10pfX07dmFyIHphPXtmYjoiYWxlcnQiLGdiOiJhbGVydGRpYWxvZyIsaGI6ImFwcGxpY2F0aW9uIixpYjoiYXJ0aWNsZSIsbGI6ImJhbm5lciIsbmI6ImJ1dHRvbiIsb2I6ImNoZWNrYm94IixyYjoiY29sdW1uaGVhZGVyIixzYjoiY29tYm9ib3giLHRiOiJjb21wbGVtZW50YXJ5Iix1YjoiY29udGVudGluZm8iLHdiOiJkZWZpbml0aW9uIix5YjoiZGlhbG9nIix6YjoiZGlyZWN0b3J5IixCYjoiZG9jdW1lbnQiLEZiOiJmb3JtIixIYjoiZ3JpZCIsSWI6ImdyaWRjZWxsIixKYjoiZ3JvdXAiLExiOiJoZWFkaW5nIixOYjoiaW1nIixTYjoibGluayIsVGI6Imxpc3QiLFViOiJsaXN0Ym94IixWYjoibGlzdGl0ZW0iLFhiOiJsb2ciLFliOiJtYWluIixaYjoibWFycXVlZSIsJGI6Im1hdGgiLGFjOiJtZW51IixiYzoibWVudWJhciIsY2M6Im1lbnVpdGVtIixkYzoibWVudWl0ZW1jaGVja2JveCIsZWM6Im1lbnVpdGVtcmFkaW8iLGhjOiJuYXZpZ2F0aW9uIixpYzoibm90ZSIsamM6Im9wdGlvbiIsCm5jOiJwcmVzZW50YXRpb24iLHBjOiJwcm9ncmVzc2JhciIscWM6InJhZGlvIixyYzoicmFkaW9ncm91cCIsdGM6InJlZ2lvbiIsd2M6InJvdyIseGM6InJvd2dyb3VwIix5Yzoicm93aGVhZGVyIixBYzoic2Nyb2xsYmFyIixCYzoic2VhcmNoIixEYzoic2VwYXJhdG9yIixGYzoic2xpZGVyIixIYzoic3BpbmJ1dHRvbiIsSWM6InN0YXR1cyIsSmM6InRhYiIsS2M6InRhYmxpc3QiLExjOiJ0YWJwYW5lbCIsTWM6InRleHRib3giLE5jOiJ0ZXh0aW5mbyIsT2M6InRpbWVyIixQYzoidG9vbGJhciIsUWM6InRvb2x0aXAiLFJjOiJ0cmVlIixTYzoidHJlZWdyaWQiLFRjOiJ0cmVlaXRlbSJ9O3ZhciBBYT1mdW5jdGlvbihhKXtpZihFcnJvci5jYXB0dXJlU3RhY2tUcmFjZSlFcnJvci5jYXB0dXJlU3RhY2tUcmFjZSh0aGlzLEFhKTtlbHNle3ZhciBiPUVycm9yKCkuc3RhY2s7YiYmKHRoaXMuc3RhY2s9Yil9YSYmKHRoaXMubWVzc2FnZT1TdHJpbmcoYSkpfTt1KEFhLEVycm9yKTtBYS5wcm90b3R5cGUubmFtZT0iQ3VzdG9tRXJyb3IiO3ZhciBDYTt2YXIgRGE9ZnVuY3Rpb24oYSxiKXthPWEuc3BsaXQoIiVzIik7Zm9yKHZhciBjPSIiLGQ9YS5sZW5ndGgtMSxlPTA7ZTxkO2UrKyljKz1hW2VdKyhlPGIubGVuZ3RoP2JbZV06IiVzIik7QWEuY2FsbCh0aGlzLGMrYVtkXSl9O3UoRGEsQWEpO0RhLnByb3RvdHlwZS5uYW1lPSJBc3NlcnRpb25FcnJvciI7CnZhciBFYT1mdW5jdGlvbihhLGIsYyxkKXt2YXIgZT0iQXNzZXJ0aW9uIGZhaWxlZCI7aWYoYyl7ZSs9IjogIitjO3ZhciBmPWR9ZWxzZSBhJiYoZSs9IjogIithLGY9Yik7dGhyb3cgbmV3IERhKCIiK2UsZnx8W10pO30sdj1mdW5jdGlvbihhLGIsYyl7YXx8RWEoIiIsbnVsbCxiLEFycmF5LnByb3RvdHlwZS5zbGljZS5jYWxsKGFyZ3VtZW50cywyKSk7cmV0dXJuIGF9LEZhPWZ1bmN0aW9uKGEsYixjKXt0KGEpJiYxPT1hLm5vZGVUeXBlfHxFYSgiRXhwZWN0ZWQgRWxlbWVudCBidXQgZ290ICVzOiAlcy4iLFtsYShhKSxhXSxiLEFycmF5LnByb3RvdHlwZS5zbGljZS5jYWxsKGFyZ3VtZW50cywyKSl9LEhhPWZ1bmN0aW9uKGEsYixjLGQpe2EgaW5zdGFuY2VvZiBifHxFYSgiRXhwZWN0ZWQgaW5zdGFuY2VvZiAlcyBidXQgZ290ICVzLiIsW0dhKGIpLEdhKGEpXSxjLEFycmF5LnByb3RvdHlwZS5zbGljZS5jYWxsKGFyZ3VtZW50cywzKSl9LEdhPWZ1bmN0aW9uKGEpe3JldHVybiBhIGluc3RhbmNlb2YKRnVuY3Rpb24/YS5kaXNwbGF5TmFtZXx8YS5uYW1lfHwidW5rbm93biB0eXBlIG5hbWUiOmEgaW5zdGFuY2VvZiBPYmplY3Q/YS5jb25zdHJ1Y3Rvci5kaXNwbGF5TmFtZXx8YS5jb25zdHJ1Y3Rvci5uYW1lfHxPYmplY3QucHJvdG90eXBlLnRvU3RyaW5nLmNhbGwoYSk6bnVsbD09PWE/Im51bGwiOnR5cGVvZiBhfTt2YXIgSWE9QXJyYXkucHJvdG90eXBlLmluZGV4T2Y/ZnVuY3Rpb24oYSxiKXt2KG51bGwhPWEubGVuZ3RoKTtyZXR1cm4gQXJyYXkucHJvdG90eXBlLmluZGV4T2YuY2FsbChhLGIsdm9pZCAwKX06ZnVuY3Rpb24oYSxiKXtpZihtKGEpKXJldHVybiBtKGIpJiYxPT1iLmxlbmd0aD9hLmluZGV4T2YoYiwwKTotMTtmb3IodmFyIGM9MDtjPGEubGVuZ3RoO2MrKylpZihjIGluIGEmJmFbY109PT1iKXJldHVybiBjO3JldHVybi0xfSx3PUFycmF5LnByb3RvdHlwZS5mb3JFYWNoP2Z1bmN0aW9uKGEsYixjKXt2KG51bGwhPWEubGVuZ3RoKTtBcnJheS5wcm90b3R5cGUuZm9yRWFjaC5jYWxsKGEsYixjKX06ZnVuY3Rpb24oYSxiLGMpe2Zvcih2YXIgZD1hLmxlbmd0aCxlPW0oYSk/YS5zcGxpdCgiIik6YSxmPTA7ZjxkO2YrKylmIGluIGUmJmIuY2FsbChjLGVbZl0sZixhKX0sSmE9QXJyYXkucHJvdG90eXBlLmZpbHRlcj9mdW5jdGlvbihhLGIpe3YobnVsbCE9YS5sZW5ndGgpO3JldHVybiBBcnJheS5wcm90b3R5cGUuZmlsdGVyLmNhbGwoYSwKYix2b2lkIDApfTpmdW5jdGlvbihhLGIpe2Zvcih2YXIgYz1hLmxlbmd0aCxkPVtdLGU9MCxmPW0oYSk/YS5zcGxpdCgiIik6YSxoPTA7aDxjO2grKylpZihoIGluIGYpe3ZhciBrPWZbaF07Yi5jYWxsKHZvaWQgMCxrLGgsYSkmJihkW2UrK109ayl9cmV0dXJuIGR9LEthPUFycmF5LnByb3RvdHlwZS5ldmVyeT9mdW5jdGlvbihhLGIpe3YobnVsbCE9YS5sZW5ndGgpO3JldHVybiBBcnJheS5wcm90b3R5cGUuZXZlcnkuY2FsbChhLGIsdm9pZCAwKX06ZnVuY3Rpb24oYSxiKXtmb3IodmFyIGM9YS5sZW5ndGgsZD1tKGEpP2Euc3BsaXQoIiIpOmEsZT0wO2U8YztlKyspaWYoZSBpbiBkJiYhYi5jYWxsKHZvaWQgMCxkW2VdLGUsYSkpcmV0dXJuITE7cmV0dXJuITB9LExhPWZ1bmN0aW9uKGEsYil7cmV0dXJuIDA8PUlhKGEsYil9LE1hPWZ1bmN0aW9uKGEsYil7Yj1JYShhLGIpO3ZhciBjO2lmKGM9MDw9Yil2KG51bGwhPWEubGVuZ3RoKSxBcnJheS5wcm90b3R5cGUuc3BsaWNlLmNhbGwoYSwKYiwxKTtyZXR1cm4gY30sTmE9ZnVuY3Rpb24oYSl7cmV0dXJuIEFycmF5LnByb3RvdHlwZS5jb25jYXQuYXBwbHkoW10sYXJndW1lbnRzKX0sT2E9ZnVuY3Rpb24oYSl7dmFyIGI9YS5sZW5ndGg7aWYoMDxiKXtmb3IodmFyIGM9QXJyYXkoYiksZD0wO2Q8YjtkKyspY1tkXT1hW2RdO3JldHVybiBjfXJldHVybltdfSxRYT1mdW5jdGlvbihhLGIsYyxkKXt2KG51bGwhPWEubGVuZ3RoKTtBcnJheS5wcm90b3R5cGUuc3BsaWNlLmFwcGx5KGEsUGEoYXJndW1lbnRzLDEpKX0sUGE9ZnVuY3Rpb24oYSxiLGMpe3YobnVsbCE9YS5sZW5ndGgpO3JldHVybiAyPj1hcmd1bWVudHMubGVuZ3RoP0FycmF5LnByb3RvdHlwZS5zbGljZS5jYWxsKGEsYik6QXJyYXkucHJvdG90eXBlLnNsaWNlLmNhbGwoYSxiLGMpfTt2YXIgUmE9U3RyaW5nLnByb3RvdHlwZS50cmltP2Z1bmN0aW9uKGEpe3JldHVybiBhLnRyaW0oKX06ZnVuY3Rpb24oYSl7cmV0dXJuL15bXHNceGEwXSooW1xzXFNdKj8pW1xzXHhhMF0qJC8uZXhlYyhhKVsxXX0sWmE9ZnVuY3Rpb24oYSl7aWYoIVNhLnRlc3QoYSkpcmV0dXJuIGE7LTEhPWEuaW5kZXhPZigiJiIpJiYoYT1hLnJlcGxhY2UoVGEsIiZhbXA7IikpOy0xIT1hLmluZGV4T2YoIjwiKSYmKGE9YS5yZXBsYWNlKFVhLCImbHQ7IikpOy0xIT1hLmluZGV4T2YoIj4iKSYmKGE9YS5yZXBsYWNlKFZhLCImZ3Q7IikpOy0xIT1hLmluZGV4T2YoJyInKSYmKGE9YS5yZXBsYWNlKFdhLCImcXVvdDsiKSk7LTEhPWEuaW5kZXhPZigiJyIpJiYoYT1hLnJlcGxhY2UoWGEsIiYjMzk7IikpOy0xIT1hLmluZGV4T2YoIlx4MDAiKSYmKGE9YS5yZXBsYWNlKFlhLCImIzA7IikpO3JldHVybiBhfSxUYT0vJi9nLFVhPS88L2csVmE9Lz4vZyxXYT0vIi9nLFhhPS8nL2csWWE9L1x4MDAvZyxTYT0KL1tceDAwJjw+IiddLyx4PWZ1bmN0aW9uKGEsYil7cmV0dXJuLTEhPWEuaW5kZXhPZihiKX0sJGE9ZnVuY3Rpb24oYSxiKXtyZXR1cm4gYTxiPy0xOmE+Yj8xOjB9O3ZhciB5O2E6e3ZhciBhYj1sLm5hdmlnYXRvcjtpZihhYil7dmFyIGJiPWFiLnVzZXJBZ2VudDtpZihiYil7eT1iYjticmVhayBhfX15PSIifTt2YXIgY2I9ZnVuY3Rpb24oYSl7Y2JbIiAiXShhKTtyZXR1cm4gYX07Y2JbIiAiXT1qYTt2YXIgZWI9ZnVuY3Rpb24oYSxiKXt2YXIgYz1kYjtyZXR1cm4gT2JqZWN0LnByb3RvdHlwZS5oYXNPd25Qcm9wZXJ0eS5jYWxsKGMsYSk/Y1thXTpjW2FdPWIoYSl9O3ZhciBmYj14KHksIk9wZXJhIiksej14KHksIlRyaWRlbnQiKXx8eCh5LCJNU0lFIiksQT14KHksIkVkZ2UiKSxnYj14KHksIkdlY2tvIikmJiEoeCh5LnRvTG93ZXJDYXNlKCksIndlYmtpdCIpJiYheCh5LCJFZGdlIikpJiYhKHgoeSwiVHJpZGVudCIpfHx4KHksIk1TSUUiKSkmJiF4KHksIkVkZ2UiKSxCPXgoeS50b0xvd2VyQ2FzZSgpLCJ3ZWJraXQiKSYmIXgoeSwiRWRnZSIpLEM9eCh5LCJNYWNpbnRvc2giKSxoYj1mdW5jdGlvbigpe3ZhciBhPWwuZG9jdW1lbnQ7cmV0dXJuIGE/YS5kb2N1bWVudE1vZGU6dm9pZCAwfSxpYjsKYTp7dmFyIGpiPSIiLGtiPWZ1bmN0aW9uKCl7dmFyIGE9eTtpZihnYilyZXR1cm4vcnY6KFteXCk7XSspKFwpfDspLy5leGVjKGEpO2lmKEEpcmV0dXJuL0VkZ2VcLyhbXGRcLl0rKS8uZXhlYyhhKTtpZih6KXJldHVybi9cYig/Ok1TSUV8cnYpWzogXShbXlwpO10rKShcKXw7KS8uZXhlYyhhKTtpZihCKXJldHVybi9XZWJLaXRcLyhcUyspLy5leGVjKGEpO2lmKGZiKXJldHVybi8oPzpWZXJzaW9uKVsgXC9dPyhcUyspLy5leGVjKGEpfSgpO2tiJiYoamI9a2I/a2JbMV06IiIpO2lmKHope3ZhciBsYj1oYigpO2lmKG51bGwhPWxiJiZsYj5wYXJzZUZsb2F0KGpiKSl7aWI9U3RyaW5nKGxiKTticmVhayBhfX1pYj1qYn0KdmFyIG1iPWliLGRiPXt9LEQ9ZnVuY3Rpb24oYSl7cmV0dXJuIGViKGEsZnVuY3Rpb24oKXtmb3IodmFyIGI9MCxjPVJhKFN0cmluZyhtYikpLnNwbGl0KCIuIiksZD1SYShTdHJpbmcoYSkpLnNwbGl0KCIuIiksZT1NYXRoLm1heChjLmxlbmd0aCxkLmxlbmd0aCksZj0wOzA9PWImJmY8ZTtmKyspe3ZhciBoPWNbZl18fCIiLGs9ZFtmXXx8IiI7ZG97aD0vKFxkKikoXEQqKSguKikvLmV4ZWMoaCl8fFsiIiwiIiwiIiwiIl07az0vKFxkKikoXEQqKSguKikvLmV4ZWMoayl8fFsiIiwiIiwiIiwiIl07aWYoMD09aFswXS5sZW5ndGgmJjA9PWtbMF0ubGVuZ3RoKWJyZWFrO2I9JGEoMD09aFsxXS5sZW5ndGg/MDpwYXJzZUludChoWzFdLDEwKSwwPT1rWzFdLmxlbmd0aD8wOnBhcnNlSW50KGtbMV0sMTApKXx8JGEoMD09aFsyXS5sZW5ndGgsMD09a1syXS5sZW5ndGgpfHwkYShoWzJdLGtbMl0pO2g9aFszXTtrPWtbM119d2hpbGUoMD09Yil9cmV0dXJuIDA8PWJ9KX0sbmI7dmFyIG9iPWwuZG9jdW1lbnQ7Cm5iPW9iJiZ6P2hiKCl8fCgiQ1NTMUNvbXBhdCI9PW9iLmNvbXBhdE1vZGU/cGFyc2VJbnQobWIsMTApOjUpOnZvaWQgMDt2YXIgcGI9IXp8fDk8PU51bWJlcihuYik7dmFyIHJiPWZ1bmN0aW9uKGEsYil7dGEoYixmdW5jdGlvbihiLGQpe2ImJmIuJGMmJihiPWIuWmMoKSk7InN0eWxlIj09ZD9hLnN0eWxlLmNzc1RleHQ9YjoiY2xhc3MiPT1kP2EuY2xhc3NOYW1lPWI6ImZvciI9PWQ/YS5odG1sRm9yPWI6cWIuaGFzT3duUHJvcGVydHkoZCk/YS5zZXRBdHRyaWJ1dGUocWJbZF0sYik6MD09ZC5sYXN0SW5kZXhPZigiYXJpYS0iLDApfHwwPT1kLmxhc3RJbmRleE9mKCJkYXRhLSIsMCk/YS5zZXRBdHRyaWJ1dGUoZCxiKTphW2RdPWJ9KX0scWI9e2NlbGxwYWRkaW5nOiJjZWxsUGFkZGluZyIsY2VsbHNwYWNpbmc6ImNlbGxTcGFjaW5nIixjb2xzcGFuOiJjb2xTcGFuIixmcmFtZWJvcmRlcjoiZnJhbWVCb3JkZXIiLGhlaWdodDoiaGVpZ2h0IixtYXhsZW5ndGg6Im1heExlbmd0aCIsbm9uY2U6Im5vbmNlIixyb2xlOiJyb2xlIixyb3dzcGFuOiJyb3dTcGFuIix0eXBlOiJ0eXBlIix1c2VtYXA6InVzZU1hcCIsdmFsaWduOiJ2QWxpZ24iLHdpZHRoOiJ3aWR0aCJ9LApzYj1mdW5jdGlvbihhLGIsYyl7ZnVuY3Rpb24gZChjKXtjJiZiLmFwcGVuZENoaWxkKG0oYyk/YS5jcmVhdGVUZXh0Tm9kZShjKTpjKX1mb3IodmFyIGU9MjtlPGMubGVuZ3RoO2UrKyl7dmFyIGY9Y1tlXTtpZighbWEoZil8fHQoZikmJjA8Zi5ub2RlVHlwZSlkKGYpO2Vsc2V7YTp7aWYoZiYmIm51bWJlciI9PXR5cGVvZiBmLmxlbmd0aCl7aWYodChmKSl7dmFyIGg9ImZ1bmN0aW9uIj09dHlwZW9mIGYuaXRlbXx8InN0cmluZyI9PXR5cGVvZiBmLml0ZW07YnJlYWsgYX1pZihxKGYpKXtoPSJmdW5jdGlvbiI9PXR5cGVvZiBmLml0ZW07YnJlYWsgYX19aD0hMX13KGg/T2EoZik6ZixkKX19fSx0Yj1mdW5jdGlvbihhKXthJiZhLnBhcmVudE5vZGUmJmEucGFyZW50Tm9kZS5yZW1vdmVDaGlsZChhKX0sdWI9ZnVuY3Rpb24oYSxiKXtpZighYXx8IWIpcmV0dXJuITE7aWYoYS5jb250YWlucyYmMT09Yi5ub2RlVHlwZSlyZXR1cm4gYT09Ynx8YS5jb250YWlucyhiKTtpZigidW5kZWZpbmVkIiE9CnR5cGVvZiBhLmNvbXBhcmVEb2N1bWVudFBvc2l0aW9uKXJldHVybiBhPT1ifHwhIShhLmNvbXBhcmVEb2N1bWVudFBvc2l0aW9uKGIpJjE2KTtmb3IoO2ImJmEhPWI7KWI9Yi5wYXJlbnROb2RlO3JldHVybiBiPT1hfSx2Yj1mdW5jdGlvbihhKXt2KGEsIk5vZGUgY2Fubm90IGJlIG51bGwgb3IgdW5kZWZpbmVkLiIpO3JldHVybiA5PT1hLm5vZGVUeXBlP2E6YS5vd25lckRvY3VtZW50fHxhLmRvY3VtZW50fSx3Yj1mdW5jdGlvbihhLGIpe2I/YS50YWJJbmRleD0wOihhLnRhYkluZGV4PS0xLGEucmVtb3ZlQXR0cmlidXRlKCJ0YWJJbmRleCIpKX0seGI9ZnVuY3Rpb24oYSl7cmV0dXJuIHomJiFEKCI5Iik/KGE9YS5nZXRBdHRyaWJ1dGVOb2RlKCJ0YWJpbmRleCIpLG51bGwhPWEmJmEuc3BlY2lmaWVkKTphLmhhc0F0dHJpYnV0ZSgidGFiaW5kZXgiKX0seWI9ZnVuY3Rpb24oYSl7YT1hLnRhYkluZGV4O3JldHVybiJudW1iZXIiPT10eXBlb2YgYSYmMDw9YSYmMzI3Njg+YX0semI9ZnVuY3Rpb24oYSl7dGhpcy5hPQphfHxsLmRvY3VtZW50fHxkb2N1bWVudH07emIucHJvdG90eXBlLmY9ZnVuY3Rpb24oYSl7cmV0dXJuIG0oYSk/dGhpcy5hLmdldEVsZW1lbnRCeUlkKGEpOmF9O3piLnByb3RvdHlwZS5iPWZ1bmN0aW9uKGEsYixjKXt2YXIgZD10aGlzLmEsZT1hcmd1bWVudHMsZj1TdHJpbmcoZVswXSksaD1lWzFdO2lmKCFwYiYmaCYmKGgubmFtZXx8aC50eXBlKSl7Zj1bIjwiLGZdO2gubmFtZSYmZi5wdXNoKCcgbmFtZT0iJyxaYShoLm5hbWUpLCciJyk7aWYoaC50eXBlKXtmLnB1c2goJyB0eXBlPSInLFphKGgudHlwZSksJyInKTt2YXIgaz17fTt5YShrLGgpO2RlbGV0ZSBrLnR5cGU7aD1rfWYucHVzaCgiPiIpO2Y9Zi5qb2luKCIiKX1mPWQuY3JlYXRlRWxlbWVudChmKTtoJiYobShoKT9mLmNsYXNzTmFtZT1oOm4oaCk/Zi5jbGFzc05hbWU9aC5qb2luKCIgIik6cmIoZixoKSk7MjxlLmxlbmd0aCYmc2IoZCxmLGUpO3JldHVybiBmfTt2YXIgQWI9ZnVuY3Rpb24oYSxiKXtiPyh2KHVhKHphLGIpLCJObyBzdWNoIEFSSUEgcm9sZSAiK2IpLGEuc2V0QXR0cmlidXRlKCJyb2xlIixiKSk6YS5yZW1vdmVBdHRyaWJ1dGUoInJvbGUiKX0sQ2I9ZnVuY3Rpb24oYSxiLGMpe24oYykmJihjPWMuam9pbigiICIpKTt2YXIgZD1CYihiKTsiIj09PWN8fHZvaWQgMD09Yz8ocmF8fChyYT17YXRvbWljOiExLGF1dG9jb21wbGV0ZToibm9uZSIsZHJvcGVmZmVjdDoibm9uZSIsaGFzcG9wdXA6ITEsbGl2ZToib2ZmIixtdWx0aWxpbmU6ITEsbXVsdGlzZWxlY3RhYmxlOiExLG9yaWVudGF0aW9uOiJ2ZXJ0aWNhbCIscmVhZG9ubHk6ITEscmVsZXZhbnQ6ImFkZGl0aW9ucyB0ZXh0IixyZXF1aXJlZDohMSxzb3J0OiJub25lIixidXN5OiExLGRpc2FibGVkOiExLGhpZGRlbjohMSxpbnZhbGlkOiJmYWxzZSJ9KSxjPXJhLGIgaW4gYz9hLnNldEF0dHJpYnV0ZShkLGNbYl0pOmEucmVtb3ZlQXR0cmlidXRlKGQpKTphLnNldEF0dHJpYnV0ZShkLApjKX0sQmI9ZnVuY3Rpb24oYSl7dihhLCJBUklBIGF0dHJpYnV0ZSBjYW5ub3QgYmUgZW1wdHkuIik7dih1YShzYSxhKSwiTm8gc3VjaCBBUklBIGF0dHJpYnV0ZSAiK2EpO3JldHVybiJhcmlhLSIrYX07dmFyIERiPU9iamVjdC5mcmVlemV8fGZ1bmN0aW9uKGEpe3JldHVybiBhfTt2YXIgRT1mdW5jdGlvbigpe3RoaXMuVz10aGlzLlc7dGhpcy5MPXRoaXMuTH07RS5wcm90b3R5cGUuVz0hMTtFLnByb3RvdHlwZS5OPWZ1bmN0aW9uKCl7dGhpcy5XfHwodGhpcy5XPSEwLHRoaXMudSgpKX07dmFyIEViPWZ1bmN0aW9uKGEsYil7YS5XP2IoKTooYS5MfHwoYS5MPVtdKSxhLkwucHVzaChiKSl9O0UucHJvdG90eXBlLnU9ZnVuY3Rpb24oKXtpZih0aGlzLkwpZm9yKDt0aGlzLkwubGVuZ3RoOyl0aGlzLkwuc2hpZnQoKSgpfTt2YXIgRmI9ZnVuY3Rpb24oYSl7YSYmImZ1bmN0aW9uIj09dHlwZW9mIGEuTiYmYS5OKCl9O3ZhciBGPWZ1bmN0aW9uKGEpe2lmKGEuY2xhc3NMaXN0KXJldHVybiBhLmNsYXNzTGlzdDthPWEuY2xhc3NOYW1lO3JldHVybiBtKGEpJiZhLm1hdGNoKC9cUysvZyl8fFtdfSxHYj1mdW5jdGlvbihhLGIpe3JldHVybiBhLmNsYXNzTGlzdD9hLmNsYXNzTGlzdC5jb250YWlucyhiKTpMYShGKGEpLGIpfSxIYj1mdW5jdGlvbihhLGIpe2EuY2xhc3NMaXN0P2EuY2xhc3NMaXN0LmFkZChiKTpHYihhLGIpfHwoYS5jbGFzc05hbWUrPTA8YS5jbGFzc05hbWUubGVuZ3RoPyIgIitiOmIpfSxJYj1mdW5jdGlvbihhLGIpe2lmKGEuY2xhc3NMaXN0KXcoYixmdW5jdGlvbihiKXtIYihhLGIpfSk7ZWxzZXt2YXIgYz17fTt3KEYoYSksZnVuY3Rpb24oYSl7Y1thXT0hMH0pO3coYixmdW5jdGlvbihhKXtjW2FdPSEwfSk7YS5jbGFzc05hbWU9IiI7Zm9yKHZhciBkIGluIGMpYS5jbGFzc05hbWUrPTA8YS5jbGFzc05hbWUubGVuZ3RoPyIgIitkOmR9fSxKYj1mdW5jdGlvbihhLGIpe2EuY2xhc3NMaXN0PwphLmNsYXNzTGlzdC5yZW1vdmUoYik6R2IoYSxiKSYmKGEuY2xhc3NOYW1lPUphKEYoYSksZnVuY3Rpb24oYSl7cmV0dXJuIGEhPWJ9KS5qb2luKCIgIikpfSxLYj1mdW5jdGlvbihhLGIpe2EuY2xhc3NMaXN0P3coYixmdW5jdGlvbihiKXtKYihhLGIpfSk6YS5jbGFzc05hbWU9SmEoRihhKSxmdW5jdGlvbihhKXtyZXR1cm4hTGEoYixhKX0pLmpvaW4oIiAiKX07dmFyIExiPSF6fHw5PD1OdW1iZXIobmIpLE1iPSF6fHw5PD1OdW1iZXIobmIpLE5iPXomJiFEKCI5IiksT2I9ZnVuY3Rpb24oKXtpZighbC5hZGRFdmVudExpc3RlbmVyfHwhT2JqZWN0LmRlZmluZVByb3BlcnR5KXJldHVybiExO3ZhciBhPSExLGI9T2JqZWN0LmRlZmluZVByb3BlcnR5KHt9LCJwYXNzaXZlIix7Z2V0OmZ1bmN0aW9uKCl7YT0hMH19KTtsLmFkZEV2ZW50TGlzdGVuZXIoInRlc3QiLGphLGIpO2wucmVtb3ZlRXZlbnRMaXN0ZW5lcigidGVzdCIsamEsYik7cmV0dXJuIGF9KCk7dmFyIEc9ZnVuY3Rpb24oYSxiKXt0aGlzLnR5cGU9YTt0aGlzLmE9dGhpcy50YXJnZXQ9Yjt0aGlzLmg9ITE7dGhpcy5LYT0hMH07Ry5wcm90b3R5cGUuaj1mdW5jdGlvbigpe3RoaXMuaD0hMH07Ry5wcm90b3R5cGUuZz1mdW5jdGlvbigpe3RoaXMuS2E9ITF9O3ZhciBIPWZ1bmN0aW9uKGEsYil7Ry5jYWxsKHRoaXMsYT9hLnR5cGU6IiIpO3RoaXMucmVsYXRlZFRhcmdldD10aGlzLmE9dGhpcy50YXJnZXQ9bnVsbDt0aGlzLmJ1dHRvbj10aGlzLnNjcmVlblk9dGhpcy5zY3JlZW5YPXRoaXMuY2xpZW50WT10aGlzLmNsaWVudFg9MDt0aGlzLmtleT0iIjt0aGlzLmM9MDt0aGlzLnc9dGhpcy5tZXRhS2V5PXRoaXMuc2hpZnRLZXk9dGhpcy5hbHRLZXk9dGhpcy5jdHJsS2V5PSExO3RoaXMucG9pbnRlcklkPTA7dGhpcy5wb2ludGVyVHlwZT0iIjt0aGlzLmI9bnVsbDtpZihhKXt2YXIgYz10aGlzLnR5cGU9YS50eXBlLGQ9YS5jaGFuZ2VkVG91Y2hlcz9hLmNoYW5nZWRUb3VjaGVzWzBdOm51bGw7dGhpcy50YXJnZXQ9YS50YXJnZXR8fGEuc3JjRWxlbWVudDt0aGlzLmE9YjtpZihiPWEucmVsYXRlZFRhcmdldCl7aWYoZ2Ipe2E6e3RyeXtjYihiLm5vZGVOYW1lKTt2YXIgZT0hMDticmVhayBhfWNhdGNoKGYpe31lPSExfWV8fChiPW51bGwpfX1lbHNlIm1vdXNlb3ZlciI9PQpjP2I9YS5mcm9tRWxlbWVudDoibW91c2VvdXQiPT1jJiYoYj1hLnRvRWxlbWVudCk7dGhpcy5yZWxhdGVkVGFyZ2V0PWI7bnVsbD09PWQ/KHRoaXMuY2xpZW50WD12b2lkIDAhPT1hLmNsaWVudFg/YS5jbGllbnRYOmEucGFnZVgsdGhpcy5jbGllbnRZPXZvaWQgMCE9PWEuY2xpZW50WT9hLmNsaWVudFk6YS5wYWdlWSx0aGlzLnNjcmVlblg9YS5zY3JlZW5YfHwwLHRoaXMuc2NyZWVuWT1hLnNjcmVlbll8fDApOih0aGlzLmNsaWVudFg9dm9pZCAwIT09ZC5jbGllbnRYP2QuY2xpZW50WDpkLnBhZ2VYLHRoaXMuY2xpZW50WT12b2lkIDAhPT1kLmNsaWVudFk/ZC5jbGllbnRZOmQucGFnZVksdGhpcy5zY3JlZW5YPWQuc2NyZWVuWHx8MCx0aGlzLnNjcmVlblk9ZC5zY3JlZW5ZfHwwKTt0aGlzLmJ1dHRvbj1hLmJ1dHRvbjt0aGlzLmM9YS5rZXlDb2RlfHwwO3RoaXMua2V5PWEua2V5fHwiIjt0aGlzLmN0cmxLZXk9YS5jdHJsS2V5O3RoaXMuYWx0S2V5PWEuYWx0S2V5O3RoaXMuc2hpZnRLZXk9CmEuc2hpZnRLZXk7dGhpcy5tZXRhS2V5PWEubWV0YUtleTt0aGlzLnc9Qz9hLm1ldGFLZXk6YS5jdHJsS2V5O3RoaXMucG9pbnRlcklkPWEucG9pbnRlcklkfHwwO3RoaXMucG9pbnRlclR5cGU9bShhLnBvaW50ZXJUeXBlKT9hLnBvaW50ZXJUeXBlOlBiW2EucG9pbnRlclR5cGVdfHwiIjt0aGlzLmI9YTthLmRlZmF1bHRQcmV2ZW50ZWQmJnRoaXMuZygpfX07dShILEcpO3ZhciBRYj1EYihbMSw0LDJdKSxQYj1EYih7MjoidG91Y2giLDM6InBlbiIsNDoibW91c2UifSksUmI9ZnVuY3Rpb24oYSl7cmV0dXJuIExiPzA9PWEuYi5idXR0b246ImNsaWNrIj09YS50eXBlPyEwOiEhKGEuYi5idXR0b24mUWJbMF0pfTtILnByb3RvdHlwZS5qPWZ1bmN0aW9uKCl7SC5pLmouY2FsbCh0aGlzKTt0aGlzLmIuc3RvcFByb3BhZ2F0aW9uP3RoaXMuYi5zdG9wUHJvcGFnYXRpb24oKTp0aGlzLmIuY2FuY2VsQnViYmxlPSEwfTsKSC5wcm90b3R5cGUuZz1mdW5jdGlvbigpe0guaS5nLmNhbGwodGhpcyk7dmFyIGE9dGhpcy5iO2lmKGEucHJldmVudERlZmF1bHQpYS5wcmV2ZW50RGVmYXVsdCgpO2Vsc2UgaWYoYS5yZXR1cm5WYWx1ZT0hMSxOYil0cnl7aWYoYS5jdHJsS2V5fHwxMTI8PWEua2V5Q29kZSYmMTIzPj1hLmtleUNvZGUpYS5rZXlDb2RlPS0xfWNhdGNoKGIpe319O3ZhciBTYj0iY2xvc3VyZV9saXN0ZW5hYmxlXyIrKDFFNipNYXRoLnJhbmRvbSgpfDApLFRiPWZ1bmN0aW9uKGEpe3JldHVybiEoIWF8fCFhW1NiXSl9LFViPTA7dmFyIFZiPWZ1bmN0aW9uKGEsYixjLGQsZSl7dGhpcy5saXN0ZW5lcj1hO3RoaXMuYT1udWxsO3RoaXMuc3JjPWI7dGhpcy50eXBlPWM7dGhpcy5jYXB0dXJlPSEhZDt0aGlzLm5hPWU7dGhpcy5rZXk9KytVYjt0aGlzLlY9dGhpcy5pYT0hMX0sV2I9ZnVuY3Rpb24oYSl7YS5WPSEwO2EubGlzdGVuZXI9bnVsbDthLmE9bnVsbDthLnNyYz1udWxsO2EubmE9bnVsbH07dmFyIFhiPWZ1bmN0aW9uKGEpe3RoaXMuc3JjPWE7dGhpcy5hPXt9O3RoaXMuYj0wfTtYYi5wcm90b3R5cGUuYWRkPWZ1bmN0aW9uKGEsYixjLGQsZSl7dmFyIGY9YS50b1N0cmluZygpO2E9dGhpcy5hW2ZdO2F8fChhPXRoaXMuYVtmXT1bXSx0aGlzLmIrKyk7dmFyIGg9WWIoYSxiLGQsZSk7LTE8aD8oYj1hW2hdLGN8fChiLmlhPSExKSk6KGI9bmV3IFZiKGIsdGhpcy5zcmMsZiwhIWQsZSksYi5pYT1jLGEucHVzaChiKSk7cmV0dXJuIGJ9Owp2YXIgWmI9ZnVuY3Rpb24oYSxiKXt2YXIgYz1iLnR5cGU7YyBpbiBhLmEmJk1hKGEuYVtjXSxiKSYmKFdiKGIpLDA9PWEuYVtjXS5sZW5ndGgmJihkZWxldGUgYS5hW2NdLGEuYi0tKSl9LCRiPWZ1bmN0aW9uKGEsYixjLGQsZSl7YT1hLmFbYi50b1N0cmluZygpXTtiPS0xO2EmJihiPVliKGEsYyxkLGUpKTtyZXR1cm4tMTxiP2FbYl06bnVsbH0sWWI9ZnVuY3Rpb24oYSxiLGMsZCl7Zm9yKHZhciBlPTA7ZTxhLmxlbmd0aDsrK2Upe3ZhciBmPWFbZV07aWYoIWYuViYmZi5saXN0ZW5lcj09YiYmZi5jYXB0dXJlPT0hIWMmJmYubmE9PWQpcmV0dXJuIGV9cmV0dXJuLTF9O3ZhciBhYz0iY2xvc3VyZV9sbV8iKygxRTYqTWF0aC5yYW5kb20oKXwwKSxiYz17fSxjYz0wLGVjPWZ1bmN0aW9uKGEsYixjLGQsZSl7aWYoZCYmZC5vbmNlKXJldHVybiBkYyhhLGIsYyxkLGUpO2lmKG4oYikpe2Zvcih2YXIgZj0wO2Y8Yi5sZW5ndGg7ZisrKWVjKGEsYltmXSxjLGQsZSk7cmV0dXJuIG51bGx9Yz1mYyhjKTtyZXR1cm4gVGIoYSk/YS5hKGIsYyx0KGQpPyEhZC5jYXB0dXJlOiEhZCxlKTpnYyhhLGIsYywhMSxkLGUpfSxnYz1mdW5jdGlvbihhLGIsYyxkLGUsZil7aWYoIWIpdGhyb3cgRXJyb3IoIkludmFsaWQgZXZlbnQgdHlwZSIpO3ZhciBoPXQoZSk/ISFlLmNhcHR1cmU6ISFlLGs9aGMoYSk7a3x8KGFbYWNdPWs9bmV3IFhiKGEpKTtjPWsuYWRkKGIsYyxkLGgsZik7aWYoYy5hKXJldHVybiBjO2Q9aWMoKTtjLmE9ZDtkLnNyYz1hO2QubGlzdGVuZXI9YztpZihhLmFkZEV2ZW50TGlzdGVuZXIpT2J8fChlPWgpLHZvaWQgMD09PWUmJihlPSExKSxhLmFkZEV2ZW50TGlzdGVuZXIoYi50b1N0cmluZygpLApkLGUpO2Vsc2UgaWYoYS5hdHRhY2hFdmVudClhLmF0dGFjaEV2ZW50KGpjKGIudG9TdHJpbmcoKSksZCk7ZWxzZSBpZihhLmFkZExpc3RlbmVyJiZhLnJlbW92ZUxpc3RlbmVyKXYoImNoYW5nZSI9PT1iLCJNZWRpYVF1ZXJ5TGlzdCBvbmx5IGhhcyBhIGNoYW5nZSBldmVudCIpLGEuYWRkTGlzdGVuZXIoZCk7ZWxzZSB0aHJvdyBFcnJvcigiYWRkRXZlbnRMaXN0ZW5lciBhbmQgYXR0YWNoRXZlbnQgYXJlIHVuYXZhaWxhYmxlLiIpO2NjKys7cmV0dXJuIGN9LGljPWZ1bmN0aW9uKCl7dmFyIGE9a2MsYj1NYj9mdW5jdGlvbihjKXtyZXR1cm4gYS5jYWxsKGIuc3JjLGIubGlzdGVuZXIsYyl9OmZ1bmN0aW9uKGMpe2M9YS5jYWxsKGIuc3JjLGIubGlzdGVuZXIsYyk7aWYoIWMpcmV0dXJuIGN9O3JldHVybiBifSxkYz1mdW5jdGlvbihhLGIsYyxkLGUpe2lmKG4oYikpe2Zvcih2YXIgZj0wO2Y8Yi5sZW5ndGg7ZisrKWRjKGEsYltmXSxjLGQsZSk7cmV0dXJuIG51bGx9Yz1mYyhjKTtyZXR1cm4gVGIoYSk/CmEuai5hZGQoU3RyaW5nKGIpLGMsITAsdChkKT8hIWQuY2FwdHVyZTohIWQsZSk6Z2MoYSxiLGMsITAsZCxlKX0sbGM9ZnVuY3Rpb24oYSxiLGMsZCxlKXtpZihuKGIpKWZvcih2YXIgZj0wO2Y8Yi5sZW5ndGg7ZisrKWxjKGEsYltmXSxjLGQsZSk7ZWxzZSBkPXQoZCk/ISFkLmNhcHR1cmU6ISFkLGM9ZmMoYyksVGIoYSk/YS53KGIsYyxkLGUpOmEmJihhPWhjKGEpKSYmKGI9JGIoYSxiLGMsZCxlKSkmJm1jKGIpfSxtYz1mdW5jdGlvbihhKXtpZigibnVtYmVyIiE9dHlwZW9mIGEmJmEmJiFhLlYpe3ZhciBiPWEuc3JjO2lmKFRiKGIpKVpiKGIuaixhKTtlbHNle3ZhciBjPWEudHlwZSxkPWEuYTtiLnJlbW92ZUV2ZW50TGlzdGVuZXI/Yi5yZW1vdmVFdmVudExpc3RlbmVyKGMsZCxhLmNhcHR1cmUpOmIuZGV0YWNoRXZlbnQ/Yi5kZXRhY2hFdmVudChqYyhjKSxkKTpiLmFkZExpc3RlbmVyJiZiLnJlbW92ZUxpc3RlbmVyJiZiLnJlbW92ZUxpc3RlbmVyKGQpO2NjLS07KGM9aGMoYikpPwooWmIoYyxhKSwwPT1jLmImJihjLnNyYz1udWxsLGJbYWNdPW51bGwpKTpXYihhKX19fSxqYz1mdW5jdGlvbihhKXtyZXR1cm4gYSBpbiBiYz9iY1thXTpiY1thXT0ib24iK2F9LG9jPWZ1bmN0aW9uKGEsYixjLGQpe3ZhciBlPSEwO2lmKGE9aGMoYSkpaWYoYj1hLmFbYi50b1N0cmluZygpXSlmb3IoYj1iLmNvbmNhdCgpLGE9MDthPGIubGVuZ3RoO2ErKyl7dmFyIGY9YlthXTtmJiZmLmNhcHR1cmU9PWMmJiFmLlYmJihmPW5jKGYsZCksZT1lJiYhMSE9PWYpfXJldHVybiBlfSxuYz1mdW5jdGlvbihhLGIpe3ZhciBjPWEubGlzdGVuZXIsZD1hLm5hfHxhLnNyYzthLmlhJiZtYyhhKTtyZXR1cm4gYy5jYWxsKGQsYil9LGtjPWZ1bmN0aW9uKGEsYil7aWYoYS5WKXJldHVybiEwO2lmKCFNYil7aWYoIWIpYTp7Yj1bIndpbmRvdyIsImV2ZW50Il07Zm9yKHZhciBjPWwsZD0wO2Q8Yi5sZW5ndGg7ZCsrKWlmKGM9Y1tiW2RdXSxudWxsPT1jKXtiPW51bGw7YnJlYWsgYX1iPWN9ZD1iO2I9bmV3IEgoZCwKdGhpcyk7Yz0hMDtpZighKDA+ZC5rZXlDb2RlfHx2b2lkIDAhPWQucmV0dXJuVmFsdWUpKXthOnt2YXIgZT0hMTtpZigwPT1kLmtleUNvZGUpdHJ5e2Qua2V5Q29kZT0tMTticmVhayBhfWNhdGNoKGgpe2U9ITB9aWYoZXx8dm9pZCAwPT1kLnJldHVyblZhbHVlKWQucmV0dXJuVmFsdWU9ITB9ZD1bXTtmb3IoZT1iLmE7ZTtlPWUucGFyZW50Tm9kZSlkLnB1c2goZSk7YT1hLnR5cGU7Zm9yKGU9ZC5sZW5ndGgtMTshYi5oJiYwPD1lO2UtLSl7Yi5hPWRbZV07dmFyIGY9b2MoZFtlXSxhLCEwLGIpO2M9YyYmZn1mb3IoZT0wOyFiLmgmJmU8ZC5sZW5ndGg7ZSsrKWIuYT1kW2VdLGY9b2MoZFtlXSxhLCExLGIpLGM9YyYmZn1yZXR1cm4gY31yZXR1cm4gbmMoYSxuZXcgSChiLHRoaXMpKX0saGM9ZnVuY3Rpb24oYSl7YT1hW2FjXTtyZXR1cm4gYSBpbnN0YW5jZW9mIFhiP2E6bnVsbH0scGM9Il9fY2xvc3VyZV9ldmVudHNfZm5fIisoMUU5Kk1hdGgucmFuZG9tKCk+Pj4wKSxmYz1mdW5jdGlvbihhKXt2KGEsCiJMaXN0ZW5lciBjYW4gbm90IGJlIG51bGwuIik7aWYocShhKSlyZXR1cm4gYTt2KGEuaGFuZGxlRXZlbnQsIkFuIG9iamVjdCBsaXN0ZW5lciBtdXN0IGhhdmUgaGFuZGxlRXZlbnQgbWV0aG9kLiIpO2FbcGNdfHwoYVtwY109ZnVuY3Rpb24oYil7cmV0dXJuIGEuaGFuZGxlRXZlbnQoYil9KTtyZXR1cm4gYVtwY119O3ZhciBJPWZ1bmN0aW9uKGEpe0UuY2FsbCh0aGlzKTt0aGlzLmM9YTt0aGlzLmI9e319O3UoSSxFKTt2YXIgcWM9W107SS5wcm90b3R5cGUuYT1mdW5jdGlvbihhLGIsYyxkKXtuKGIpfHwoYiYmKHFjWzBdPWIudG9TdHJpbmcoKSksYj1xYyk7Zm9yKHZhciBlPTA7ZTxiLmxlbmd0aDtlKyspe3ZhciBmPWVjKGEsYltlXSxjfHx0aGlzLmhhbmRsZUV2ZW50LGR8fCExLHRoaXMuY3x8dGhpcyk7aWYoIWYpYnJlYWs7dGhpcy5iW2Yua2V5XT1mfXJldHVybiB0aGlzfTsKSS5wcm90b3R5cGUudz1mdW5jdGlvbihhLGIsYyxkLGUpe2lmKG4oYikpZm9yKHZhciBmPTA7ZjxiLmxlbmd0aDtmKyspdGhpcy53KGEsYltmXSxjLGQsZSk7ZWxzZSBjPWN8fHRoaXMuaGFuZGxlRXZlbnQsZD10KGQpPyEhZC5jYXB0dXJlOiEhZCxlPWV8fHRoaXMuY3x8dGhpcyxjPWZjKGMpLGQ9ISFkLGI9VGIoYSk/JGIoYS5qLFN0cmluZyhiKSxjLGQsZSk6YT8oYT1oYyhhKSk/JGIoYSxiLGMsZCxlKTpudWxsOm51bGwsYiYmKG1jKGIpLGRlbGV0ZSB0aGlzLmJbYi5rZXldKTtyZXR1cm4gdGhpc307dmFyIHJjPWZ1bmN0aW9uKGEpe3RhKGEuYixmdW5jdGlvbihhLGMpe3RoaXMuYi5oYXNPd25Qcm9wZXJ0eShjKSYmbWMoYSl9LGEpO2EuYj17fX07SS5wcm90b3R5cGUudT1mdW5jdGlvbigpe0kuaS51LmNhbGwodGhpcyk7cmModGhpcyl9OwpJLnByb3RvdHlwZS5oYW5kbGVFdmVudD1mdW5jdGlvbigpe3Rocm93IEVycm9yKCJFdmVudEhhbmRsZXIuaGFuZGxlRXZlbnQgbm90IGltcGxlbWVudGVkIik7fTt2YXIgSj1mdW5jdGlvbigpe0UuY2FsbCh0aGlzKTt0aGlzLmo9bmV3IFhiKHRoaXMpO3RoaXMuTWE9dGhpczt0aGlzLmhhPW51bGx9O3UoSixFKTtKLnByb3RvdHlwZVtTYl09ITA7Si5wcm90b3R5cGUuc2E9ZnVuY3Rpb24oYSl7dGhpcy5oYT1hfTtKLnByb3RvdHlwZS5yZW1vdmVFdmVudExpc3RlbmVyPWZ1bmN0aW9uKGEsYixjLGQpe2xjKHRoaXMsYSxiLGMsZCl9Owp2YXIgdWM9ZnVuY3Rpb24oYSxiKXtzYyhhKTt2YXIgYz1hLmhhO2lmKGMpe3ZhciBkPVtdO2Zvcih2YXIgZT0xO2M7Yz1jLmhhKWQucHVzaChjKSx2KDFFMz4rK2UsImluZmluaXRlIGxvb3AiKX1hPWEuTWE7Yz1iLnR5cGV8fGI7bShiKT9iPW5ldyBHKGIsYSk6YiBpbnN0YW5jZW9mIEc/Yi50YXJnZXQ9Yi50YXJnZXR8fGE6KGU9YixiPW5ldyBHKGMsYSkseWEoYixlKSk7ZT0hMDtpZihkKWZvcih2YXIgZj1kLmxlbmd0aC0xOyFiLmgmJjA8PWY7Zi0tKXt2YXIgaD1iLmE9ZFtmXTtlPXRjKGgsYywhMCxiKSYmZX1iLmh8fChoPWIuYT1hLGU9dGMoaCxjLCEwLGIpJiZlLGIuaHx8KGU9dGMoaCxjLCExLGIpJiZlKSk7aWYoZClmb3IoZj0wOyFiLmgmJmY8ZC5sZW5ndGg7ZisrKWg9Yi5hPWRbZl0sZT10YyhoLGMsITEsYikmJmU7cmV0dXJuIGV9OwpKLnByb3RvdHlwZS51PWZ1bmN0aW9uKCl7Si5pLnUuY2FsbCh0aGlzKTtpZih0aGlzLmope3ZhciBhPXRoaXMuaixiPTAsYztmb3IoYyBpbiBhLmEpe2Zvcih2YXIgZD1hLmFbY10sZT0wO2U8ZC5sZW5ndGg7ZSsrKSsrYixXYihkW2VdKTtkZWxldGUgYS5hW2NdO2EuYi0tfX10aGlzLmhhPW51bGx9O0oucHJvdG90eXBlLmE9ZnVuY3Rpb24oYSxiLGMsZCl7c2ModGhpcyk7cmV0dXJuIHRoaXMuai5hZGQoU3RyaW5nKGEpLGIsITEsYyxkKX07Si5wcm90b3R5cGUudz1mdW5jdGlvbihhLGIsYyxkKXt2YXIgZT10aGlzLmo7YT1TdHJpbmcoYSkudG9TdHJpbmcoKTtpZihhIGluIGUuYSl7dmFyIGY9ZS5hW2FdO2I9WWIoZixiLGMsZCk7LTE8Yj8oV2IoZltiXSksdihudWxsIT1mLmxlbmd0aCksQXJyYXkucHJvdG90eXBlLnNwbGljZS5jYWxsKGYsYiwxKSwwPT1mLmxlbmd0aCYmKGRlbGV0ZSBlLmFbYV0sZS5iLS0pLGU9ITApOmU9ITF9ZWxzZSBlPSExO3JldHVybiBlfTsKdmFyIHRjPWZ1bmN0aW9uKGEsYixjLGQpe2I9YS5qLmFbU3RyaW5nKGIpXTtpZighYilyZXR1cm4hMDtiPWIuY29uY2F0KCk7Zm9yKHZhciBlPSEwLGY9MDtmPGIubGVuZ3RoOysrZil7dmFyIGg9YltmXTtpZihoJiYhaC5WJiZoLmNhcHR1cmU9PWMpe3ZhciBrPWgubGlzdGVuZXIscD1oLm5hfHxoLnNyYztoLmlhJiZaYihhLmosaCk7ZT0hMSE9PWsuY2FsbChwLGQpJiZlfX1yZXR1cm4gZSYmMCE9ZC5LYX0sc2M9ZnVuY3Rpb24oYSl7dihhLmosIkV2ZW50IHRhcmdldCBpcyBub3QgaW5pdGlhbGl6ZWQuIERpZCB5b3UgY2FsbCB0aGUgc3VwZXJjbGFzcyAoZ29vZy5ldmVudHMuRXZlbnRUYXJnZXQpIGNvbnN0cnVjdG9yPyIpfTt2YXIgeGM9ZnVuY3Rpb24oYSxiLGMsZCxlLGYpe2lmKCEoenx8QXx8QiYmRCgiNTI1IikpKXJldHVybiEwO2lmKEMmJmUpcmV0dXJuIHZjKGEpO2lmKGUmJiFkKXJldHVybiExOyJudW1iZXIiPT10eXBlb2YgYiYmKGI9d2MoYikpO2U9MTc9PWJ8fDE4PT1ifHxDJiY5MT09YjtpZigoIWN8fEMpJiZlfHxDJiYxNj09YiYmKGR8fGYpKXJldHVybiExO2lmKChCfHxBKSYmZCYmYylzd2l0Y2goYSl7Y2FzZSAyMjA6Y2FzZSAyMTk6Y2FzZSAyMjE6Y2FzZSAxOTI6Y2FzZSAxODY6Y2FzZSAxODk6Y2FzZSAxODc6Y2FzZSAxODg6Y2FzZSAxOTA6Y2FzZSAxOTE6Y2FzZSAxOTI6Y2FzZSAyMjI6cmV0dXJuITF9aWYoeiYmZCYmYj09YSlyZXR1cm4hMTtzd2l0Y2goYSl7Y2FzZSAxMzpyZXR1cm4hMDtjYXNlIDI3OnJldHVybiEoQnx8QSl9cmV0dXJuIHZjKGEpfSx2Yz1mdW5jdGlvbihhKXtpZig0ODw9YSYmNTc+PWF8fDk2PD1hJiYxMDY+PWF8fDY1PD1hJiY5MD49YXx8KEJ8fEEpJiYwPT1hKXJldHVybiEwOwpzd2l0Y2goYSl7Y2FzZSAzMjpjYXNlIDQzOmNhc2UgNjM6Y2FzZSA2NDpjYXNlIDEwNzpjYXNlIDEwOTpjYXNlIDExMDpjYXNlIDExMTpjYXNlIDE4NjpjYXNlIDU5OmNhc2UgMTg5OmNhc2UgMTg3OmNhc2UgNjE6Y2FzZSAxODg6Y2FzZSAxOTA6Y2FzZSAxOTE6Y2FzZSAxOTI6Y2FzZSAyMjI6Y2FzZSAyMTk6Y2FzZSAyMjA6Y2FzZSAyMjE6cmV0dXJuITA7ZGVmYXVsdDpyZXR1cm4hMX19LHdjPWZ1bmN0aW9uKGEpe2lmKGdiKWE9eWMoYSk7ZWxzZSBpZihDJiZCKXN3aXRjaChhKXtjYXNlIDkzOmE9OTF9cmV0dXJuIGF9LHljPWZ1bmN0aW9uKGEpe3N3aXRjaChhKXtjYXNlIDYxOnJldHVybiAxODc7Y2FzZSA1OTpyZXR1cm4gMTg2O2Nhc2UgMTczOnJldHVybiAxODk7Y2FzZSAyMjQ6cmV0dXJuIDkxO2Nhc2UgMDpyZXR1cm4gMjI0O2RlZmF1bHQ6cmV0dXJuIGF9fTt2YXIgSz1mdW5jdGlvbihhLGIpe0ouY2FsbCh0aGlzKTthJiZ6Yyh0aGlzLGEsYil9O3UoSyxKKTtnPUsucHJvdG90eXBlO2cuUz1udWxsO2cub2E9bnVsbDtnLkRhPW51bGw7Zy5wYT1udWxsO2cuQT0tMTtnLkg9LTE7Zy52YT0hMTsKdmFyIEFjPXszOjEzLDEyOjE0NCw2MzIzMjozOCw2MzIzMzo0MCw2MzIzNDozNyw2MzIzNTozOSw2MzIzNjoxMTIsNjMyMzc6MTEzLDYzMjM4OjExNCw2MzIzOToxMTUsNjMyNDA6MTE2LDYzMjQxOjExNyw2MzI0MjoxMTgsNjMyNDM6MTE5LDYzMjQ0OjEyMCw2MzI0NToxMjEsNjMyNDY6MTIyLDYzMjQ3OjEyMyw2MzI0ODo0NCw2MzI3Mjo0Niw2MzI3MzozNiw2MzI3NTozNSw2MzI3NjozMyw2MzI3NzozNCw2MzI4OToxNDQsNjMzMDI6NDV9LEJjPXtVcDozOCxEb3duOjQwLExlZnQ6MzcsUmlnaHQ6MzksRW50ZXI6MTMsRjE6MTEyLEYyOjExMyxGMzoxMTQsRjQ6MTE1LEY1OjExNixGNjoxMTcsRjc6MTE4LEY4OjExOSxGOToxMjAsRjEwOjEyMSxGMTE6MTIyLEYxMjoxMjMsIlUrMDA3RiI6NDYsSG9tZTozNixFbmQ6MzUsUGFnZVVwOjMzLFBhZ2VEb3duOjM0LEluc2VydDo0NX0sQ2M9enx8QXx8QiYmRCgiNTI1IiksRGM9QyYmZ2I7CksucHJvdG90eXBlLmI9ZnVuY3Rpb24oYSl7aWYoQnx8QSlpZigxNz09dGhpcy5BJiYhYS5jdHJsS2V5fHwxOD09dGhpcy5BJiYhYS5hbHRLZXl8fEMmJjkxPT10aGlzLkEmJiFhLm1ldGFLZXkpdGhpcy5IPXRoaXMuQT0tMTstMT09dGhpcy5BJiYoYS5jdHJsS2V5JiYxNyE9YS5jP3RoaXMuQT0xNzphLmFsdEtleSYmMTghPWEuYz90aGlzLkE9MTg6YS5tZXRhS2V5JiY5MSE9YS5jJiYodGhpcy5BPTkxKSk7Q2MmJiF4YyhhLmMsdGhpcy5BLGEuc2hpZnRLZXksYS5jdHJsS2V5LGEuYWx0S2V5LGEubWV0YUtleSk/dGhpcy5oYW5kbGVFdmVudChhKToodGhpcy5IPXdjKGEuYyksRGMmJih0aGlzLnZhPWEuYWx0S2V5KSl9O0sucHJvdG90eXBlLmM9ZnVuY3Rpb24oYSl7dGhpcy5IPXRoaXMuQT0tMTt0aGlzLnZhPWEuYWx0S2V5fTsKSy5wcm90b3R5cGUuaGFuZGxlRXZlbnQ9ZnVuY3Rpb24oYSl7dmFyIGI9YS5iLGM9Yi5hbHRLZXk7aWYoeiYmImtleXByZXNzIj09YS50eXBlKXt2YXIgZD10aGlzLkg7dmFyIGU9MTMhPWQmJjI3IT1kP2Iua2V5Q29kZTowfWVsc2UoQnx8QSkmJiJrZXlwcmVzcyI9PWEudHlwZT8oZD10aGlzLkgsZT0wPD1iLmNoYXJDb2RlJiY2MzIzMj5iLmNoYXJDb2RlJiZ2YyhkKT9iLmNoYXJDb2RlOjApOmZiJiYhQj8oZD10aGlzLkgsZT12YyhkKT9iLmtleUNvZGU6MCk6KGQ9Yi5rZXlDb2RlfHx0aGlzLkgsZT1iLmNoYXJDb2RlfHwwLERjJiYoYz10aGlzLnZhKSxDJiY2Mz09ZSYmMjI0PT1kJiYoZD0xOTEpKTt2YXIgZj1kPXdjKGQpO2Q/NjMyMzI8PWQmJmQgaW4gQWM/Zj1BY1tkXToyNT09ZCYmYS5zaGlmdEtleSYmKGY9OSk6Yi5rZXlJZGVudGlmaWVyJiZiLmtleUlkZW50aWZpZXIgaW4gQmMmJihmPUJjW2Iua2V5SWRlbnRpZmllcl0pO2E9Zj09dGhpcy5BO3RoaXMuQT1mO2I9bmV3IEVjKGYsCmUsYSxiKTtiLmFsdEtleT1jO3VjKHRoaXMsYil9O0sucHJvdG90eXBlLmY9ZnVuY3Rpb24oKXtyZXR1cm4gdGhpcy5TfTt2YXIgemM9ZnVuY3Rpb24oYSxiLGMpe2EucGEmJkZjKGEpO2EuUz1iO2Eub2E9ZWMoYS5TLCJrZXlwcmVzcyIsYSxjKTthLkRhPWVjKGEuUywia2V5ZG93biIsYS5iLGMsYSk7YS5wYT1lYyhhLlMsImtleXVwIixhLmMsYyxhKX0sRmM9ZnVuY3Rpb24oYSl7YS5vYSYmKG1jKGEub2EpLG1jKGEuRGEpLG1jKGEucGEpLGEub2E9bnVsbCxhLkRhPW51bGwsYS5wYT1udWxsKTthLlM9bnVsbDthLkE9LTE7YS5IPS0xfTtLLnByb3RvdHlwZS51PWZ1bmN0aW9uKCl7Sy5pLnUuY2FsbCh0aGlzKTtGYyh0aGlzKX07dmFyIEVjPWZ1bmN0aW9uKGEsYixjLGQpe0guY2FsbCh0aGlzLGQpO3RoaXMudHlwZT0ia2V5Ijt0aGlzLmM9YTt0aGlzLnJlcGVhdD1jfTt1KEVjLEgpO3ZhciBHYz1nYj8iTW96VXNlclNlbGVjdCI6Qnx8QT8iV2Via2l0VXNlclNlbGVjdCI6bnVsbCxIYz1mdW5jdGlvbihhLGIpe2I9Yj9udWxsOmEuZ2V0RWxlbWVudHNCeVRhZ05hbWUoIioiKTtpZihHYyl7dmFyIGM9Im5vbmUiO2Euc3R5bGUmJihhLnN0eWxlW0djXT1jKTtpZihiKXthPTA7Zm9yKHZhciBkO2Q9YlthXTthKyspZC5zdHlsZSYmKGQuc3R5bGVbR2NdPWMpfX1lbHNlIGlmKHp8fGZiKWlmKGM9Im9uIixhLnNldEF0dHJpYnV0ZSgidW5zZWxlY3RhYmxlIixjKSxiKWZvcihhPTA7ZD1iW2FdO2ErKylkLnNldEF0dHJpYnV0ZSgidW5zZWxlY3RhYmxlIixjKX07dmFyIEljPWZ1bmN0aW9uKCl7fTtrYShJYyk7SWMucHJvdG90eXBlLmE9MDt2YXIgTD1mdW5jdGlvbihhKXtKLmNhbGwodGhpcyk7dGhpcy5HPWF8fENhfHwoQ2E9bmV3IHpiKTt0aGlzLnJhPUpjO3RoaXMuYWE9bnVsbDt0aGlzLm09ITE7dGhpcy5iPW51bGw7dGhpcy5JPXZvaWQgMDt0aGlzLmg9dGhpcy5nPXRoaXMuYz1udWxsO3RoaXMuSGE9ITF9O3UoTCxKKTtMLnByb3RvdHlwZS5PYT1JYy5SKCk7CnZhciBKYz1udWxsLEtjPWZ1bmN0aW9uKGEsYil7c3dpdGNoKGEpe2Nhc2UgMTpyZXR1cm4gYj8iZGlzYWJsZSI6ImVuYWJsZSI7Y2FzZSAyOnJldHVybiBiPyJoaWdobGlnaHQiOiJ1bmhpZ2hsaWdodCI7Y2FzZSA0OnJldHVybiBiPyJhY3RpdmF0ZSI6ImRlYWN0aXZhdGUiO2Nhc2UgODpyZXR1cm4gYj8ic2VsZWN0IjoidW5zZWxlY3QiO2Nhc2UgMTY6cmV0dXJuIGI/ImNoZWNrIjoidW5jaGVjayI7Y2FzZSAzMjpyZXR1cm4gYj8iZm9jdXMiOiJibHVyIjtjYXNlIDY0OnJldHVybiBiPyJvcGVuIjoiY2xvc2UifXRocm93IEVycm9yKCJJbnZhbGlkIGNvbXBvbmVudCBzdGF0ZSIpO30sTGM9ZnVuY3Rpb24oYSl7cmV0dXJuIGEuYWF8fChhLmFhPSI6IisoYS5PYS5hKyspLnRvU3RyaW5nKDM2KSl9LE1jPWZ1bmN0aW9uKGEsYil7aWYoYS5jJiZhLmMuaCl7dmFyIGM9YS5jLmgsZD1hLmFhO2QgaW4gYyYmZGVsZXRlIGNbZF07dmEoYS5jLmgsYixhKX1hLmFhPWJ9OwpMLnByb3RvdHlwZS5mPWZ1bmN0aW9uKCl7cmV0dXJuIHRoaXMuYn07dmFyIE5jPWZ1bmN0aW9uKGEpe2E9YS5iO3YoYSwiQ2FuIG5vdCBjYWxsIGdldEVsZW1lbnRTdHJpY3QgYmVmb3JlIHJlbmRlcmluZy9kZWNvcmF0aW5nLiIpO3JldHVybiBhfSxPYz1mdW5jdGlvbihhKXthLkl8fChhLkk9bmV3IEkoYSkpO3JldHVybiB2KGEuSSl9O0wucHJvdG90eXBlLnNhPWZ1bmN0aW9uKGEpe2lmKHRoaXMuYyYmdGhpcy5jIT1hKXRocm93IEVycm9yKCJNZXRob2Qgbm90IHN1cHBvcnRlZCIpO0wuaS5zYS5jYWxsKHRoaXMsYSl9O0wucHJvdG90eXBlLmphPWZ1bmN0aW9uKCl7dGhpcy5iPXRoaXMuRy5hLmNyZWF0ZUVsZW1lbnQoIkRJViIpfTsKdmFyIFBjPWZ1bmN0aW9uKGEsYil7aWYoYS5tKXRocm93IEVycm9yKCJDb21wb25lbnQgYWxyZWFkeSByZW5kZXJlZCIpO2lmKGImJmEueWEoYikpe2EuSGE9ITA7dmFyIGM9dmIoYik7YS5HJiZhLkcuYT09Y3x8KGEuRz1iP25ldyB6Yih2YihiKSk6Q2F8fChDYT1uZXcgemIpKTthLndhKGIpO2EuRigpfWVsc2UgdGhyb3cgRXJyb3IoIkludmFsaWQgZWxlbWVudCB0byBkZWNvcmF0ZSIpO307Zz1MLnByb3RvdHlwZTtnLnlhPWZ1bmN0aW9uKCl7cmV0dXJuITB9O2cud2E9ZnVuY3Rpb24oYSl7dGhpcy5iPWF9O2cuRj1mdW5jdGlvbigpe3RoaXMubT0hMDtRYyh0aGlzLGZ1bmN0aW9uKGEpeyFhLm0mJmEuZigpJiZhLkYoKX0pfTtnLlA9ZnVuY3Rpb24oKXtRYyh0aGlzLGZ1bmN0aW9uKGEpe2EubSYmYS5QKCl9KTt0aGlzLkkmJnJjKHRoaXMuSSk7dGhpcy5tPSExfTsKZy51PWZ1bmN0aW9uKCl7dGhpcy5tJiZ0aGlzLlAoKTt0aGlzLkkmJih0aGlzLkkuTigpLGRlbGV0ZSB0aGlzLkkpO1FjKHRoaXMsZnVuY3Rpb24oYSl7YS5OKCl9KTshdGhpcy5IYSYmdGhpcy5iJiZ0Yih0aGlzLmIpO3RoaXMuYz10aGlzLmI9dGhpcy5oPXRoaXMuZz1udWxsO0wuaS51LmNhbGwodGhpcyl9O2cudGE9ZnVuY3Rpb24oYSxiKXt0aGlzLnVhKGEsUmModGhpcyksYil9OwpnLnVhPWZ1bmN0aW9uKGEsYixjKXt2KCEhYSwiUHJvdmlkZWQgZWxlbWVudCBtdXN0IG5vdCBiZSBudWxsLiIpO2lmKGEubSYmKGN8fCF0aGlzLm0pKXRocm93IEVycm9yKCJDb21wb25lbnQgYWxyZWFkeSByZW5kZXJlZCIpO2lmKDA+Ynx8Yj5SYyh0aGlzKSl0aHJvdyBFcnJvcigiQ2hpbGQgY29tcG9uZW50IGluZGV4IG91dCBvZiBib3VuZHMiKTt0aGlzLmgmJnRoaXMuZ3x8KHRoaXMuaD17fSx0aGlzLmc9W10pO2lmKGEuYz09dGhpcyl7dmFyIGQ9TGMoYSk7dGhpcy5oW2RdPWE7TWEodGhpcy5nLGEpfWVsc2UgdmEodGhpcy5oLExjKGEpLGEpO2lmKGE9PXRoaXMpdGhyb3cgRXJyb3IoIlVuYWJsZSB0byBzZXQgcGFyZW50IGNvbXBvbmVudCIpO2lmKGQ9dGhpcyYmYS5jJiZhLmFhKXt2YXIgZT1hLmM7ZD1hLmFhO2UuaCYmZD8oZT1lLmgsZD0obnVsbCE9PWUmJmQgaW4gZT9lW2RdOnZvaWQgMCl8fG51bGwpOmQ9bnVsbH1pZihkJiZhLmMhPXRoaXMpdGhyb3cgRXJyb3IoIlVuYWJsZSB0byBzZXQgcGFyZW50IGNvbXBvbmVudCIpOwphLmM9dGhpcztMLmkuc2EuY2FsbChhLHRoaXMpO1FhKHRoaXMuZyxiLDAsYSk7aWYoYS5tJiZ0aGlzLm0mJmEuYz09dGhpcyljPXRoaXMua2EoKSxiPWMuY2hpbGROb2Rlc1tiXXx8bnVsbCxiIT1hLmYoKSYmYy5pbnNlcnRCZWZvcmUoYS5mKCksYik7ZWxzZSBpZihjKXt0aGlzLmJ8fHRoaXMuamEoKTtjPU0odGhpcyxiKzEpO2I9dGhpcy5rYSgpO2M9Yz9jLmI6bnVsbDtpZihhLm0pdGhyb3cgRXJyb3IoIkNvbXBvbmVudCBhbHJlYWR5IHJlbmRlcmVkIik7YS5ifHxhLmphKCk7Yj9iLmluc2VydEJlZm9yZShhLmIsY3x8bnVsbCk6YS5HLmEuYm9keS5hcHBlbmRDaGlsZChhLmIpO2EuYyYmIWEuYy5tfHxhLkYoKX1lbHNlIHRoaXMubSYmIWEubSYmYS5iJiZhLmIucGFyZW50Tm9kZSYmMT09YS5iLnBhcmVudE5vZGUubm9kZVR5cGUmJmEuRigpfTtnLmthPWZ1bmN0aW9uKCl7cmV0dXJuIHRoaXMuYn07CnZhciBTYz1mdW5jdGlvbihhKXtpZihudWxsPT1hLnJhKXt2YXIgYj1hLm0/YS5iOmEuRy5hLmJvZHk7YTp7dmFyIGM9dmIoYik7aWYoYy5kZWZhdWx0VmlldyYmYy5kZWZhdWx0Vmlldy5nZXRDb21wdXRlZFN0eWxlJiYoYz1jLmRlZmF1bHRWaWV3LmdldENvbXB1dGVkU3R5bGUoYixudWxsKSkpe2M9Yy5kaXJlY3Rpb258fGMuZ2V0UHJvcGVydHlWYWx1ZSgiZGlyZWN0aW9uIil8fCIiO2JyZWFrIGF9Yz0iIn1hLnJhPSJydGwiPT0oY3x8KGIuY3VycmVudFN0eWxlP2IuY3VycmVudFN0eWxlLmRpcmVjdGlvbjpudWxsKXx8Yi5zdHlsZSYmYi5zdHlsZS5kaXJlY3Rpb24pfXJldHVybiBhLnJhfSxSYz1mdW5jdGlvbihhKXtyZXR1cm4gYS5nP2EuZy5sZW5ndGg6MH0sTT1mdW5jdGlvbihhLGIpe3JldHVybiBhLmc/YS5nW2JdfHxudWxsOm51bGx9LFFjPWZ1bmN0aW9uKGEsYixjKXthLmcmJncoYS5nLGIsYyl9LFRjPWZ1bmN0aW9uKGEsYil7cmV0dXJuIGEuZyYmYj9JYShhLmcsYik6LTF9O3ZhciBWYz1mdW5jdGlvbihhLGIpe2lmKCFhKXRocm93IEVycm9yKCJJbnZhbGlkIGNsYXNzIG5hbWUgIithKTtpZighcShiKSl0aHJvdyBFcnJvcigiSW52YWxpZCBkZWNvcmF0b3IgZnVuY3Rpb24gIitiKTtVY1thXT1ifSxXYz17fSxVYz17fTt2YXIgWGM9ZnVuY3Rpb24oYSl7dGhpcy5oPWF9O2thKFhjKTt2YXIgWWM9ZnVuY3Rpb24oYSxiKXthJiYoYS50YWJJbmRleD1iPzA6LTEpfSwkYz1mdW5jdGlvbihhLGIsYyl7Yy5pZCYmTWMoYixjLmlkKTt2YXIgZD1hLmIoKSxlPSExLGY9RihjKTtmJiZ3KGYsZnVuY3Rpb24oYSl7YT09ZD9lPSEwOmEmJnRoaXMuZyhiLGEsZCl9LGEpO2V8fEhiKGMsZCk7WmMoYixjKTtyZXR1cm4gY307WGMucHJvdG90eXBlLmc9ZnVuY3Rpb24oYSxiLGMpe2I9PWMrIi1kaXNhYmxlZCI/YS5YKCExKTpiPT1jKyItaG9yaXpvbnRhbCI/YWQoYSwiaG9yaXpvbnRhbCIpOmI9PWMrIi12ZXJ0aWNhbCImJmFkKGEsInZlcnRpY2FsIil9Owp2YXIgWmM9ZnVuY3Rpb24oYSxiKXtpZihiKWZvcih2YXIgYz1iLmZpcnN0Q2hpbGQsZDtjJiZjLnBhcmVudE5vZGU9PWI7KXtkPWMubmV4dFNpYmxpbmc7aWYoMT09Yy5ub2RlVHlwZSl7YTp7dmFyIGU9Yzt2KGUpO2U9RihlKTtmb3IodmFyIGY9MCxoPWUubGVuZ3RoO2Y8aDtmKyspe3ZhciBrPWVbZl07aWYoaz1rIGluIFVjP1VjW2tdKCk6bnVsbCl7ZT1rO2JyZWFrIGF9fWU9bnVsbH1lJiYoZS5iPWMsYS5pc0VuYWJsZWQoKXx8ZS5YKCExKSxhLnRhKGUpLFBjKGUsYykpfWVsc2UgYy5ub2RlVmFsdWUmJiIiIT1SYShjLm5vZGVWYWx1ZSl8fGIucmVtb3ZlQ2hpbGQoYyk7Yz1kfX0sYmQ9ZnVuY3Rpb24oYSxiKXtiPWIuZigpO3YoYiwiVGhlIGNvbnRhaW5lciBET00gZWxlbWVudCBjYW5ub3QgYmUgbnVsbC4iKTtIYyhiLGdiKTt6JiYoYi5oaWRlRm9jdXM9ITApOyhhPWEuaCkmJkFiKGIsYSl9O1hjLnByb3RvdHlwZS5iPWZ1bmN0aW9uKCl7cmV0dXJuImdvb2ctY29udGFpbmVyIn07ClhjLnByb3RvdHlwZS5jPWZ1bmN0aW9uKGEpe3ZhciBiPXRoaXMuYigpLGM9W2IsImhvcml6b250YWwiPT1hLko/YisiLWhvcml6b250YWwiOmIrIi12ZXJ0aWNhbCJdO2EuaXNFbmFibGVkKCl8fGMucHVzaChiKyItZGlzYWJsZWQiKTtyZXR1cm4gY307dmFyIE49ZnVuY3Rpb24oKXt9LGNkO2thKE4pO3ZhciBkZD17YnV0dG9uOiJwcmVzc2VkIixjaGVja2JveDoiY2hlY2tlZCIsbWVudWl0ZW06InNlbGVjdGVkIixtZW51aXRlbWNoZWNrYm94OiJjaGVja2VkIixtZW51aXRlbXJhZGlvOiJjaGVja2VkIixyYWRpbzoiY2hlY2tlZCIsdGFiOiJzZWxlY3RlZCIsdHJlZWl0ZW06InNlbGVjdGVkIn07Ti5wcm90b3R5cGUuaD1mdW5jdGlvbigpe307Ti5wcm90b3R5cGUuYz1mdW5jdGlvbihhKXtyZXR1cm4gYS5HLmIoIkRJViIsZWQodGhpcyxhKS5qb2luKCIgIiksYS5jYSl9O3ZhciBnZD1mdW5jdGlvbihhLGIsYyl7aWYoYT1hLmY/YS5mKCk6YSl7dmFyIGQ9W2JdO3omJiFEKCI3IikmJihkPWZkKEYoYSksYiksZC5wdXNoKGIpKTsoYz9JYjpLYikoYSxkKX19OwpOLnByb3RvdHlwZS5nPWZ1bmN0aW9uKGEsYil7Yi5pZCYmTWMoYSxiLmlkKTtiJiZiLmZpcnN0Q2hpbGQ/aGQoYSxiLmZpcnN0Q2hpbGQubmV4dFNpYmxpbmc/T2EoYi5jaGlsZE5vZGVzKTpiLmZpcnN0Q2hpbGQpOmEuY2E9bnVsbDt2YXIgYz0wLGQ9dGhpcy5hKCksZT10aGlzLmEoKSxmPSExLGg9ITEsaz0hMSxwPU9hKEYoYikpO3cocCxmdW5jdGlvbihhKXtmfHxhIT1kP2h8fGEhPWU/Y3w9aWQodGhpcyxhKTpoPSEwOihmPSEwLGU9PWQmJihoPSEwKSk7MT09aWQodGhpcyxhKSYmKEZhKGIpLHhiKGIpJiZ5YihiKSYmd2IoYiwhMSkpfSx0aGlzKTthLm89YztmfHwocC5wdXNoKGQpLGU9PWQmJihoPSEwKSk7aHx8cC5wdXNoKGUpOyhhPWEueGEpJiZwLnB1c2guYXBwbHkocCxhKTtpZih6JiYhRCgiNyIpKXt2YXIgcj1mZChwKTswPHIubGVuZ3RoJiYocC5wdXNoLmFwcGx5KHAsciksaz0hMCl9aWYoIWZ8fCFofHxhfHxrKWIuY2xhc3NOYW1lPXAuam9pbigiICIpO3JldHVybiBifTsKdmFyIGpkPWZ1bmN0aW9uKGEsYil7aWYoYT1hLmgoKSl7dihiLCJUaGUgZWxlbWVudCBwYXNzZWQgYXMgYSBmaXJzdCBwYXJhbWV0ZXIgY2Fubm90IGJlIG51bGwuIik7dmFyIGM9Yi5nZXRBdHRyaWJ1dGUoInJvbGUiKXx8bnVsbDthIT1jJiZBYihiLGEpfX0sa2Q9ZnVuY3Rpb24oYSxiKXt2YXIgYztpZihhLnYmMzImJihjPWEuZigpKSl7aWYoIWImJmEubyYzMil7dHJ5e2MuYmx1cigpfWNhdGNoKGQpe31hLm8mMzImJmEuR2EobnVsbCl9KHhiKGMpJiZ5YihjKSkhPWImJndiKGMsYil9fSxsZD1mdW5jdGlvbihhLGIsYyl7Y2R8fChjZD17MToiZGlzYWJsZWQiLDg6InNlbGVjdGVkIiwxNjoiY2hlY2tlZCIsNjQ6ImV4cGFuZGVkIn0pO3YoYSwiVGhlIGVsZW1lbnQgcGFzc2VkIGFzIGEgZmlyc3QgcGFyYW1ldGVyIGNhbm5vdCBiZSBudWxsLiIpO2I9Y2RbYl07dmFyIGQ9YS5nZXRBdHRyaWJ1dGUoInJvbGUiKXx8bnVsbDtkJiYoZD1kZFtkXXx8YixiPSJjaGVja2VkIj09Ynx8InNlbGVjdGVkIj09CmI/ZDpiKTtiJiZDYihhLGIsYyl9O04ucHJvdG90eXBlLmE9ZnVuY3Rpb24oKXtyZXR1cm4iZ29vZy1jb250cm9sIn07CnZhciBlZD1mdW5jdGlvbihhLGIpe3ZhciBjPWEuYSgpLGQ9W2NdLGU9YS5hKCk7ZSE9YyYmZC5wdXNoKGUpO2M9Yi5vO2ZvcihlPVtdO2M7KXt2YXIgZj1jJi1jO2UucHVzaChtZChhLGYpKTtjJj1+Zn1kLnB1c2guYXBwbHkoZCxlKTsoYT1iLnhhKSYmZC5wdXNoLmFwcGx5KGQsYSk7eiYmIUQoIjciKSYmZC5wdXNoLmFwcGx5KGQsZmQoZCkpO3JldHVybiBkfSxmZD1mdW5jdGlvbihhLGIpe3ZhciBjPVtdO2ImJihhPU5hKGEsW2JdKSk7dyhbXSxmdW5jdGlvbihkKXshS2EoZCxxYShMYSxhKSl8fGImJiFMYShkLGIpfHxjLnB1c2goZC5qb2luKCJfIikpfSk7cmV0dXJuIGN9LG1kPWZ1bmN0aW9uKGEsYil7YS5ifHxuZChhKTtyZXR1cm4gYS5iW2JdfSxpZD1mdW5jdGlvbihhLGIpe2Euanx8KGEuYnx8bmQoYSksYS5qPXdhKGEuYikpO2E9cGFyc2VJbnQoYS5qW2JdLDEwKTtyZXR1cm4gaXNOYU4oYSk/MDphfSxuZD1mdW5jdGlvbihhKXt2YXIgYj1hLmEoKSxjPSF4KGIucmVwbGFjZSgvXHhhMHxccy9nLAoiICIpLCIgIik7dihjLCJDb250cm9sUmVuZGVyZXIgaGFzIGFuIGludmFsaWQgY3NzIGNsYXNzOiAnIitiKyInIik7YS5iPXsxOmIrIi1kaXNhYmxlZCIsMjpiKyItaG92ZXIiLDQ6YisiLWFjdGl2ZSIsODpiKyItc2VsZWN0ZWQiLDE2OmIrIi1jaGVja2VkIiwzMjpiKyItZm9jdXNlZCIsNjQ6YisiLW9wZW4ifX07dmFyIE89ZnVuY3Rpb24oYSxiLGMpe0wuY2FsbCh0aGlzLGMpO2lmKCFiKXtiPXRoaXMuY29uc3RydWN0b3I7Zm9yKHZhciBkO2I7KXtkPWJbbmFdfHwoYltuYV09KytwYSk7aWYoZD1XY1tkXSlicmVhaztiPWIuaT9iLmkuY29uc3RydWN0b3I6bnVsbH1iPWQ/cShkLlIpP2QuUigpOm5ldyBkOm51bGx9dGhpcy5DPWI7dGhpcy5jYT12b2lkIDAhPT1hP2E6bnVsbH07dShPLEwpO2c9Ty5wcm90b3R5cGU7Zy5jYT1udWxsO2cubz0wO2cudj0zOTtnLk09MDtnLkI9ITA7Zy54YT1udWxsO2cuemE9ITA7Zy5qYT1mdW5jdGlvbigpe3ZhciBhPXRoaXMuQy5jKHRoaXMpO3RoaXMuYj1hO2pkKHRoaXMuQyxhKTtIYyhhLCF6JiYhZmIpO3RoaXMuQnx8KGEuc3R5bGUuZGlzcGxheT0ibm9uZSIsYSYmQ2IoYSwiaGlkZGVuIiwhMCkpfTtnLmthPWZ1bmN0aW9uKCl7cmV0dXJuIHRoaXMuZigpfTtnLnlhPWZ1bmN0aW9uKCl7cmV0dXJuITB9OwpnLndhPWZ1bmN0aW9uKGEpe3RoaXMuYj1hPXRoaXMuQy5nKHRoaXMsYSk7amQodGhpcy5DLGEpO0hjKGEsIXomJiFmYik7dGhpcy5CPSJub25lIiE9YS5zdHlsZS5kaXNwbGF5fTsKZy5GPWZ1bmN0aW9uKCl7Ty5pLkYuY2FsbCh0aGlzKTt2YXIgYT1OYyh0aGlzKTt2KHRoaXMpO3YoYSk7dGhpcy5CfHxDYihhLCJoaWRkZW4iLCF0aGlzLkIpO3RoaXMuaXNFbmFibGVkKCl8fGxkKGEsMSwhdGhpcy5pc0VuYWJsZWQoKSk7dGhpcy52JjgmJmxkKGEsOCwhISh0aGlzLm8mOCkpO3RoaXMudiYxNiYmbGQoYSwxNiwhISh0aGlzLm8mMTYpKTt0aGlzLnYmNjQmJmxkKGEsNjQsISEodGhpcy5vJjY0KSk7YT10aGlzLkM7U2ModGhpcykmJmdkKHRoaXMuZigpLGEuYSgpKyItcnRsIiwhMCk7dGhpcy5pc0VuYWJsZWQoKSYma2QodGhpcyx0aGlzLkIpO2lmKHRoaXMudiYtMiYmKHRoaXMuemEmJm9kKHRoaXMsITApLHRoaXMudiYzMiYmKGE9dGhpcy5mKCkpKSl7dmFyIGI9dGhpcy5afHwodGhpcy5aPW5ldyBLKTt6YyhiLGEpO09jKHRoaXMpLmEoYiwia2V5Iix0aGlzLmdhKS5hKGEsImZvY3VzIix0aGlzLk5hKS5hKGEsImJsdXIiLHRoaXMuR2EpfX07CnZhciBvZD1mdW5jdGlvbihhLGIpe3ZhciBjPU9jKGEpLGQ9YS5mKCk7Yj8oYy5hKGQsIm1vdXNlb3ZlciIsYS5CYSkuYShkLCJtb3VzZWRvd24iLGEubGEpLmEoZCwibW91c2V1cCIsYS5tYSkuYShkLCJtb3VzZW91dCIsYS5BYSksYS5mYSE9amEmJmMuYShkLCJjb250ZXh0bWVudSIsYS5mYSkseiYmKEQoOSl8fGMuYShkLCJkYmxjbGljayIsYS5KYSksYS5iYXx8KGEuYmE9bmV3IHBkKGEpLEViKGEscWEoRmIsYS5iYSkpKSkpOihjLncoZCwibW91c2VvdmVyIixhLkJhKS53KGQsIm1vdXNlZG93biIsYS5sYSkudyhkLCJtb3VzZXVwIixhLm1hKS53KGQsIm1vdXNlb3V0IixhLkFhKSxhLmZhIT1qYSYmYy53KGQsImNvbnRleHRtZW51IixhLmZhKSx6JiYoRCg5KXx8Yy53KGQsImRibGNsaWNrIixhLkphKSxGYihhLmJhKSxhLmJhPW51bGwpKX07Ck8ucHJvdG90eXBlLlA9ZnVuY3Rpb24oKXtPLmkuUC5jYWxsKHRoaXMpO3RoaXMuWiYmRmModGhpcy5aKTt0aGlzLkImJnRoaXMuaXNFbmFibGVkKCkmJmtkKHRoaXMsITEpfTtPLnByb3RvdHlwZS51PWZ1bmN0aW9uKCl7Ty5pLnUuY2FsbCh0aGlzKTt0aGlzLlomJih0aGlzLlouTigpLGRlbGV0ZSB0aGlzLlopO2RlbGV0ZSB0aGlzLkM7dGhpcy5iYT10aGlzLnhhPXRoaXMuY2E9bnVsbH07dmFyIGhkPWZ1bmN0aW9uKGEsYil7YS5jYT1ifTtPLnByb3RvdHlwZS5pc0VuYWJsZWQ9ZnVuY3Rpb24oKXtyZXR1cm4hKHRoaXMubyYxKX07Ty5wcm90b3R5cGUuWD1mdW5jdGlvbihhKXt2YXIgYj10aGlzLmM7YiYmImZ1bmN0aW9uIj09dHlwZW9mIGIuaXNFbmFibGVkJiYhYi5pc0VuYWJsZWQoKXx8IVAodGhpcywxLCFhKXx8KGF8fChxZCh0aGlzLCExKSxRKHRoaXMsITEpKSx0aGlzLkImJmtkKHRoaXMsYSksUih0aGlzLDEsIWEsITApKX07CnZhciBRPWZ1bmN0aW9uKGEsYil7UChhLDIsYikmJlIoYSwyLGIpfSxxZD1mdW5jdGlvbihhLGIpe1AoYSw0LGIpJiZSKGEsNCxiKX0scmQ9ZnVuY3Rpb24oYSxiKXtQKGEsOCxiKSYmUihhLDgsYil9LHNkPWZ1bmN0aW9uKGEsYil7UChhLDY0LGIpJiZSKGEsNjQsYil9LFI9ZnVuY3Rpb24oYSxiLGMsZCl7aWYoIWQmJjE9PWIpYS5YKCFjKTtlbHNlIGlmKGEudiZiJiZjIT0hIShhLm8mYikpe3ZhciBlPWEuQztpZihkPWEuZigpKShlPW1kKGUsYikpJiZnZChhLGUsYyksbGQoZCxiLGMpO2Eubz1jP2Eub3xiOmEubyZ+Yn19LHRkPWZ1bmN0aW9uKGEsYixjKXtpZihhLm0mJmEubyZiJiYhYyl0aHJvdyBFcnJvcigiQ29tcG9uZW50IGFscmVhZHkgcmVuZGVyZWQiKTshYyYmYS5vJmImJlIoYSxiLCExKTthLnY9Yz9hLnZ8YjphLnYmfmJ9LFQ9ZnVuY3Rpb24oYSxiKXtyZXR1cm4hISgyNTUmYikmJiEhKGEudiZiKX0sUD1mdW5jdGlvbihhLGIsYyl7cmV0dXJuISEoYS52JmIpJiYhIShhLm8mCmIpIT1jJiYoIShhLk0mYil8fHVjKGEsS2MoYixjKSkpJiYhYS5XfTtnPU8ucHJvdG90eXBlO2cuQmE9ZnVuY3Rpb24oYSl7KCFhLnJlbGF0ZWRUYXJnZXR8fCF1Yih0aGlzLmYoKSxhLnJlbGF0ZWRUYXJnZXQpKSYmdWModGhpcywiZW50ZXIiKSYmdGhpcy5pc0VuYWJsZWQoKSYmVCh0aGlzLDIpJiZRKHRoaXMsITApfTtnLkFhPWZ1bmN0aW9uKGEpe2EucmVsYXRlZFRhcmdldCYmdWIodGhpcy5mKCksYS5yZWxhdGVkVGFyZ2V0KXx8IXVjKHRoaXMsImxlYXZlIil8fChUKHRoaXMsNCkmJnFkKHRoaXMsITEpLFQodGhpcywyKSYmUSh0aGlzLCExKSl9O2cuZmE9amE7CmcubGE9ZnVuY3Rpb24oYSl7aWYodGhpcy5pc0VuYWJsZWQoKSYmKFQodGhpcywyKSYmUSh0aGlzLCEwKSxSYihhKSYmIShCJiZDJiZhLmN0cmxLZXkpKSl7VCh0aGlzLDQpJiZxZCh0aGlzLCEwKTt2YXIgYjtpZihiPXRoaXMuQyl7dmFyIGM7Yj10aGlzLnYmMzImJihjPXRoaXMuZigpKT94YihjKSYmeWIoYyk6ITF9YiYmdGhpcy5mKCkuZm9jdXMoKX0hUmIoYSl8fEImJkMmJmEuY3RybEtleXx8YS5nKCl9O2cubWE9ZnVuY3Rpb24oYSl7dGhpcy5pc0VuYWJsZWQoKSYmKFQodGhpcywyKSYmUSh0aGlzLCEwKSx0aGlzLm8mNCYmdWQodGhpcyxhKSYmVCh0aGlzLDQpJiZxZCh0aGlzLCExKSl9O2cuSmE9ZnVuY3Rpb24oYSl7dGhpcy5pc0VuYWJsZWQoKSYmdWQodGhpcyxhKX07CnZhciB1ZD1mdW5jdGlvbihhLGIpe2lmKFQoYSwxNikpe3ZhciBjPSEoYS5vJjE2KTtQKGEsMTYsYykmJlIoYSwxNixjKX1UKGEsOCkmJnJkKGEsITApO1QoYSw2NCkmJnNkKGEsIShhLm8mNjQpKTtjPW5ldyBHKCJhY3Rpb24iLGEpO2ImJihjLmFsdEtleT1iLmFsdEtleSxjLmN0cmxLZXk9Yi5jdHJsS2V5LGMubWV0YUtleT1iLm1ldGFLZXksYy5zaGlmdEtleT1iLnNoaWZ0S2V5LGMudz1iLncpO3JldHVybiB1YyhhLGMpfTtPLnByb3RvdHlwZS5OYT1mdW5jdGlvbigpe1QodGhpcywzMikmJlAodGhpcywzMiwhMCkmJlIodGhpcywzMiwhMCl9O08ucHJvdG90eXBlLkdhPWZ1bmN0aW9uKCl7VCh0aGlzLDQpJiZxZCh0aGlzLCExKTtUKHRoaXMsMzIpJiZQKHRoaXMsMzIsITEpJiZSKHRoaXMsMzIsITEpfTtPLnByb3RvdHlwZS5nYT1mdW5jdGlvbihhKXtyZXR1cm4gdGhpcy5CJiZ0aGlzLmlzRW5hYmxlZCgpJiYxMz09YS5jJiZ1ZCh0aGlzLGEpPyhhLmcoKSxhLmooKSwhMCk6ITF9OwppZighcShPKSl0aHJvdyBFcnJvcigiSW52YWxpZCBjb21wb25lbnQgY2xhc3MgIitPKTtpZighcShOKSl0aHJvdyBFcnJvcigiSW52YWxpZCByZW5kZXJlciBjbGFzcyAiK04pO3ZhciB2ZD1PW25hXXx8KE9bbmFdPSsrcGEpO1djW3ZkXT1OO1ZjKCJnb29nLWNvbnRyb2wiLGZ1bmN0aW9uKCl7cmV0dXJuIG5ldyBPKG51bGwpfSk7dmFyIHBkPWZ1bmN0aW9uKGEpe0UuY2FsbCh0aGlzKTt0aGlzLmI9YTt0aGlzLmE9ITE7dGhpcy5jPW5ldyBJKHRoaXMpO0ViKHRoaXMscWEoRmIsdGhpcy5jKSk7YT1OYyh0aGlzLmIpO3RoaXMuYy5hKGEsIm1vdXNlZG93biIsdGhpcy5oKS5hKGEsIm1vdXNldXAiLHRoaXMuaikuYShhLCJjbGljayIsdGhpcy5nKX07dShwZCxFKTt2YXIgd2Q9IXp8fDk8PU51bWJlcihuYik7cGQucHJvdG90eXBlLmg9ZnVuY3Rpb24oKXt0aGlzLmE9ITF9O3BkLnByb3RvdHlwZS5qPWZ1bmN0aW9uKCl7dGhpcy5hPSEwfTsKdmFyIHhkPWZ1bmN0aW9uKGEsYil7aWYoIXdkKXJldHVybiBhLmJ1dHRvbj0wLGEudHlwZT1iLGE7dmFyIGM9ZG9jdW1lbnQuY3JlYXRlRXZlbnQoIk1vdXNlRXZlbnRzIik7Yy5pbml0TW91c2VFdmVudChiLGEuYnViYmxlcyxhLmNhbmNlbGFibGUsYS52aWV3fHxudWxsLGEuZGV0YWlsLGEuc2NyZWVuWCxhLnNjcmVlblksYS5jbGllbnRYLGEuY2xpZW50WSxhLmN0cmxLZXksYS5hbHRLZXksYS5zaGlmdEtleSxhLm1ldGFLZXksMCxhLnJlbGF0ZWRUYXJnZXR8fG51bGwpO3JldHVybiBjfTtwZC5wcm90b3R5cGUuZz1mdW5jdGlvbihhKXtpZih0aGlzLmEpdGhpcy5hPSExO2Vsc2V7dmFyIGI9YS5iLGM9Yi5idXR0b24sZD1iLnR5cGUsZT14ZChiLCJtb3VzZWRvd24iKTt0aGlzLmIubGEobmV3IEgoZSxhLmEpKTtlPXhkKGIsIm1vdXNldXAiKTt0aGlzLmIubWEobmV3IEgoZSxhLmEpKTt3ZHx8KGIuYnV0dG9uPWMsYi50eXBlPWQpfX07CnBkLnByb3RvdHlwZS51PWZ1bmN0aW9uKCl7dGhpcy5iPW51bGw7cGQuaS51LmNhbGwodGhpcyl9O3ZhciBVPWZ1bmN0aW9uKGEsYixjKXtMLmNhbGwodGhpcyxjKTt0aGlzLmVhPWJ8fFhjLlIoKTt0aGlzLko9YXx8InZlcnRpY2FsIn07dShVLEwpO2c9VS5wcm90b3R5cGU7Zy5FYT1udWxsO2cuZGE9bnVsbDtnLmVhPW51bGw7Zy5KPW51bGw7Zy5UPSEwO2cuTz0hMDtnLmw9LTE7Zy5zPW51bGw7Zy5VPSExO2cuSz1udWxsO3ZhciB5ZD1mdW5jdGlvbihhKXtyZXR1cm4gYS5FYXx8YS5mKCl9O2c9VS5wcm90b3R5cGU7Zy5qYT1mdW5jdGlvbigpe3RoaXMuYj10aGlzLkcuYigiRElWIix0aGlzLmVhLmModGhpcykuam9pbigiICIpKX07Zy5rYT1mdW5jdGlvbigpe3JldHVybiB0aGlzLmYoKX07Zy55YT1mdW5jdGlvbihhKXtyZXR1cm4iRElWIj09YS50YWdOYW1lfTtnLndhPWZ1bmN0aW9uKGEpe3RoaXMuYj0kYyh0aGlzLmVhLHRoaXMsYSk7Im5vbmUiPT1hLnN0eWxlLmRpc3BsYXkmJih0aGlzLlQ9ITEpfTsKZy5GPWZ1bmN0aW9uKCl7VS5pLkYuY2FsbCh0aGlzKTtRYyh0aGlzLGZ1bmN0aW9uKGEpe2EubSYmemQodGhpcyxhKX0sdGhpcyk7dmFyIGE9dGhpcy5mKCk7YmQodGhpcy5lYSx0aGlzKTtBZCh0aGlzLHRoaXMuVCk7T2ModGhpcykuYSh0aGlzLCJlbnRlciIsdGhpcy5XYSkuYSh0aGlzLCJoaWdobGlnaHQiLHRoaXMuWGEpLmEodGhpcywidW5oaWdobGlnaHQiLHRoaXMuY2IpLmEodGhpcywib3BlbiIsdGhpcy5ZYSkuYSh0aGlzLCJjbG9zZSIsdGhpcy5VYSkuYShhLCJtb3VzZWRvd24iLHRoaXMuU2EpLmEodmIoYSksIm1vdXNldXAiLHRoaXMuVmEpLmEoYSxbIm1vdXNlZG93biIsIm1vdXNldXAiLCJtb3VzZW92ZXIiLCJtb3VzZW91dCIsImNvbnRleHRtZW51Il0sdGhpcy5UYSk7QmQodGhpcyl9Owp2YXIgQmQ9ZnVuY3Rpb24oYSl7dmFyIGI9T2MoYSksYz15ZChhKTtiLmEoYywiZm9jdXMiLGEuSWEpLmEoYywiYmx1ciIsYS5RYSkuYShhLmRhfHwoYS5kYT1uZXcgSyh5ZChhKSkpLCJrZXkiLGEuUmEpfTtnPVUucHJvdG90eXBlO2cuUD1mdW5jdGlvbigpe0NkKHRoaXMsLTEpO3RoaXMucyYmc2QodGhpcy5zLCExKTt0aGlzLlU9ITE7VS5pLlAuY2FsbCh0aGlzKX07Zy51PWZ1bmN0aW9uKCl7VS5pLnUuY2FsbCh0aGlzKTt0aGlzLmRhJiYodGhpcy5kYS5OKCksdGhpcy5kYT1udWxsKTt0aGlzLmVhPXRoaXMucz10aGlzLks9dGhpcy5FYT1udWxsfTtnLldhPWZ1bmN0aW9uKCl7cmV0dXJuITB9OwpnLlhhPWZ1bmN0aW9uKGEpe3ZhciBiPVRjKHRoaXMsYS50YXJnZXQpO2lmKC0xPGImJmIhPXRoaXMubCl7dmFyIGM9TSh0aGlzLHRoaXMubCk7YyYmUShjLCExKTt0aGlzLmw9YjtjPU0odGhpcyx0aGlzLmwpO3RoaXMuVSYmcWQoYywhMCk7dGhpcy5zJiZjIT10aGlzLnMmJihjLnYmNjQ/c2QoYywhMCk6c2QodGhpcy5zLCExKSl9Yj10aGlzLmYoKTt2KGIsIlRoZSBET00gZWxlbWVudCBmb3IgdGhlIGNvbnRhaW5lciBjYW5ub3QgYmUgbnVsbC4iKTtudWxsIT1hLnRhcmdldC5mKCkmJkNiKGIsImFjdGl2ZWRlc2NlbmRhbnQiLGEudGFyZ2V0LmYoKS5pZCl9O2cuY2I9ZnVuY3Rpb24oYSl7YS50YXJnZXQ9PU0odGhpcyx0aGlzLmwpJiYodGhpcy5sPS0xKTthPXRoaXMuZigpO3YoYSwiVGhlIERPTSBlbGVtZW50IGZvciB0aGUgY29udGFpbmVyIGNhbm5vdCBiZSBudWxsLiIpO2EucmVtb3ZlQXR0cmlidXRlKEJiKCJhY3RpdmVkZXNjZW5kYW50IikpfTsKZy5ZYT1mdW5jdGlvbihhKXsoYT1hLnRhcmdldCkmJmEhPXRoaXMucyYmYS5jPT10aGlzJiYodGhpcy5zJiZzZCh0aGlzLnMsITEpLHRoaXMucz1hKX07Zy5VYT1mdW5jdGlvbihhKXthLnRhcmdldD09dGhpcy5zJiYodGhpcy5zPW51bGwpO3ZhciBiPXRoaXMuZigpLGM9YS50YXJnZXQuZigpO2ImJmEudGFyZ2V0Lm8mMiYmYyYmKGE9IiIsYyYmKGE9Yy5pZCx2KGEsIlRoZSBhY3RpdmUgZWxlbWVudCBzaG91bGQgaGF2ZSBhbiBpZC4iKSksQ2IoYiwiYWN0aXZlZGVzY2VuZGFudCIsYSkpfTtnLlNhPWZ1bmN0aW9uKGEpe3RoaXMuTyYmKHRoaXMuVT0hMCk7dmFyIGI9eWQodGhpcyk7YiYmeGIoYikmJnliKGIpP2IuZm9jdXMoKTphLmcoKX07Zy5WYT1mdW5jdGlvbigpe3RoaXMuVT0hMX07CmcuVGE9ZnVuY3Rpb24oYSl7YTp7dmFyIGI9YS50YXJnZXQ7aWYodGhpcy5LKWZvcih2YXIgYz10aGlzLmYoKTtiJiZiIT09Yzspe3ZhciBkPWIuaWQ7aWYoZCBpbiB0aGlzLkspe2I9dGhpcy5LW2RdO2JyZWFrIGF9Yj1iLnBhcmVudE5vZGV9Yj1udWxsfWlmKGIpc3dpdGNoKGEudHlwZSl7Y2FzZSAibW91c2Vkb3duIjpiLmxhKGEpO2JyZWFrO2Nhc2UgIm1vdXNldXAiOmIubWEoYSk7YnJlYWs7Y2FzZSAibW91c2VvdmVyIjpiLkJhKGEpO2JyZWFrO2Nhc2UgIm1vdXNlb3V0IjpiLkFhKGEpO2JyZWFrO2Nhc2UgImNvbnRleHRtZW51IjpiLmZhKGEpfX07Zy5JYT1mdW5jdGlvbigpe307Zy5RYT1mdW5jdGlvbigpe0NkKHRoaXMsLTEpO3RoaXMuVT0hMTt0aGlzLnMmJnNkKHRoaXMucywhMSl9O2cuUmE9ZnVuY3Rpb24oYSl7cmV0dXJuIHRoaXMuaXNFbmFibGVkKCkmJnRoaXMuVCYmKDAhPVJjKHRoaXMpfHx0aGlzLkVhKSYmRGQodGhpcyxhKT8oYS5nKCksYS5qKCksITApOiExfTsKdmFyIERkPWZ1bmN0aW9uKGEsYil7dmFyIGM9TShhLGEubCk7aWYoYyYmImZ1bmN0aW9uIj09dHlwZW9mIGMuZ2EmJmMuZ2EoYil8fGEucyYmYS5zIT1jJiYiZnVuY3Rpb24iPT10eXBlb2YgYS5zLmdhJiZhLnMuZ2EoYikpcmV0dXJuITA7aWYoYi5zaGlmdEtleXx8Yi5jdHJsS2V5fHxiLm1ldGFLZXl8fGIuYWx0S2V5KXJldHVybiExO3N3aXRjaChiLmMpe2Nhc2UgMjc6eWQoYSkuYmx1cigpO2JyZWFrO2Nhc2UgMzY6RWQoYSk7YnJlYWs7Y2FzZSAzNTpGZChhKTticmVhaztjYXNlIDM4OmlmKCJ2ZXJ0aWNhbCI9PWEuSilHZChhKTtlbHNlIHJldHVybiExO2JyZWFrO2Nhc2UgMzc6aWYoImhvcml6b250YWwiPT1hLkopU2MoYSk/SGQoYSk6R2QoYSk7ZWxzZSByZXR1cm4hMTticmVhaztjYXNlIDQwOmlmKCJ2ZXJ0aWNhbCI9PWEuSilIZChhKTtlbHNlIHJldHVybiExO2JyZWFrO2Nhc2UgMzk6aWYoImhvcml6b250YWwiPT1hLkopU2MoYSk/R2QoYSk6SGQoYSk7ZWxzZSByZXR1cm4hMTsKYnJlYWs7ZGVmYXVsdDpyZXR1cm4hMX1yZXR1cm4hMH0semQ9ZnVuY3Rpb24oYSxiKXt2YXIgYz1iLmYoKTtjPWMuaWR8fChjLmlkPUxjKGIpKTthLkt8fChhLks9e30pO2EuS1tjXT1ifTtVLnByb3RvdHlwZS50YT1mdW5jdGlvbihhLGIpe0hhKGEsTywiVGhlIGNoaWxkIG9mIGEgY29udGFpbmVyIG11c3QgYmUgYSBjb250cm9sIik7VS5pLnRhLmNhbGwodGhpcyxhLGIpfTtVLnByb3RvdHlwZS51YT1mdW5jdGlvbihhLGIsYyl7SGEoYSxPKTthLk18PTI7YS5NfD02NDt0ZChhLDMyLCExKTthLm0mJjAhPWEuemEmJm9kKGEsITEpO2EuemE9ITE7dmFyIGQ9YS5jPT10aGlzP1RjKHRoaXMsYSk6LTE7VS5pLnVhLmNhbGwodGhpcyxhLGIsYyk7YS5tJiZ0aGlzLm0mJnpkKHRoaXMsYSk7YT1kOy0xPT1hJiYoYT1SYyh0aGlzKSk7YT09dGhpcy5sP3RoaXMubD1NYXRoLm1pbihSYyh0aGlzKS0xLGIpOmE+dGhpcy5sJiZiPD10aGlzLmw/dGhpcy5sKys6YTx0aGlzLmwmJmI+dGhpcy5sJiZ0aGlzLmwtLX07CnZhciBhZD1mdW5jdGlvbihhLGIpe2lmKGEuZigpKXRocm93IEVycm9yKCJDb21wb25lbnQgYWxyZWFkeSByZW5kZXJlZCIpO2EuSj1ifSxBZD1mdW5jdGlvbihhLGIpe2EuVD1iO3ZhciBjPWEuZigpO2MmJihjLnN0eWxlLmRpc3BsYXk9Yj8iIjoibm9uZSIsWWMoeWQoYSksYS5PJiZhLlQpKX07VS5wcm90b3R5cGUuaXNFbmFibGVkPWZ1bmN0aW9uKCl7cmV0dXJuIHRoaXMuT307VS5wcm90b3R5cGUuWD1mdW5jdGlvbihhKXt0aGlzLk8hPWEmJnVjKHRoaXMsYT8iZW5hYmxlIjoiZGlzYWJsZSIpJiYoYT8odGhpcy5PPSEwLFFjKHRoaXMsZnVuY3Rpb24oYSl7YS5MYT9kZWxldGUgYS5MYTphLlgoITApfSkpOihRYyh0aGlzLGZ1bmN0aW9uKGEpe2EuaXNFbmFibGVkKCk/YS5YKCExKTphLkxhPSEwfSksdGhpcy5VPXRoaXMuTz0hMSksWWMoeWQodGhpcyksYSYmdGhpcy5UKSl9Owp2YXIgQ2Q9ZnVuY3Rpb24oYSxiKXsoYj1NKGEsYikpP1EoYiwhMCk6LTE8YS5sJiZRKE0oYSxhLmwpLCExKX0sRWQ9ZnVuY3Rpb24oYSl7SWQoYSxmdW5jdGlvbihhLGMpe3JldHVybihhKzEpJWN9LFJjKGEpLTEpfSxGZD1mdW5jdGlvbihhKXtJZChhLGZ1bmN0aW9uKGEsYyl7YS0tO3JldHVybiAwPmE/Yy0xOmF9LDApfSxIZD1mdW5jdGlvbihhKXtJZChhLGZ1bmN0aW9uKGEsYyl7cmV0dXJuKGErMSklY30sYS5sKX0sR2Q9ZnVuY3Rpb24oYSl7SWQoYSxmdW5jdGlvbihhLGMpe2EtLTtyZXR1cm4gMD5hP2MtMTphfSxhLmwpfSxJZD1mdW5jdGlvbihhLGIsYyl7Yz0wPmM/VGMoYSxhLnMpOmM7dmFyIGQ9UmMoYSk7Yz1iLmNhbGwoYSxjLGQpO2Zvcih2YXIgZT0wO2U8PWQ7KXt2YXIgZj1NKGEsYyk7aWYoZiYmZi5CJiZmLmlzRW5hYmxlZCgpJiZmLnYmMil7YS5GYShjKTticmVha31lKys7Yz1iLmNhbGwoYSxjLGQpfX07ClUucHJvdG90eXBlLkZhPWZ1bmN0aW9uKGEpe0NkKHRoaXMsYSl9O3ZhciBWPWZ1bmN0aW9uKCl7fTt1KFYsTik7a2EoVik7Vi5wcm90b3R5cGUuYT1mdW5jdGlvbigpe3JldHVybiJnb29nLXRhYiJ9O1YucHJvdG90eXBlLmg9ZnVuY3Rpb24oKXtyZXR1cm4idGFiIn07Vi5wcm90b3R5cGUuYz1mdW5jdGlvbihhKXt2YXIgYj1WLmkuYy5jYWxsKHRoaXMsYSk7KGE9YS5QYSkmJmImJihiLnRpdGxlPWF8fCIiKTtyZXR1cm4gYn07Vi5wcm90b3R5cGUuZz1mdW5jdGlvbihhLGIpe2I9Vi5pLmcuY2FsbCh0aGlzLGEsYik7dmFyIGM9Yi50aXRsZXx8IiI7YyYmKGEuUGE9Yyk7YS5vJjgmJihjPWEuYykmJnEoYy5ZKSYmKFIoYSw4LCExKSxjLlkoYSkpO3JldHVybiBifTt2YXIgSmQ9ZnVuY3Rpb24oYSxiLGMpe08uY2FsbCh0aGlzLGEsYnx8Vi5SKCksYyk7dGQodGhpcyw4LCEwKTt0aGlzLk18PTl9O3UoSmQsTyk7VmMoImdvb2ctdGFiIixmdW5jdGlvbigpe3JldHVybiBuZXcgSmQobnVsbCl9KTt2YXIgVz1mdW5jdGlvbigpe3RoaXMuaD0idGFibGlzdCJ9O3UoVyxYYyk7a2EoVyk7Vy5wcm90b3R5cGUuYj1mdW5jdGlvbigpe3JldHVybiJnb29nLXRhYi1iYXIifTtXLnByb3RvdHlwZS5nPWZ1bmN0aW9uKGEsYixjKXt0aGlzLmp8fCh0aGlzLmF8fEtkKHRoaXMpLHRoaXMuaj13YSh0aGlzLmEpKTt2YXIgZD10aGlzLmpbYl07ZD8oYWQoYSxMZChkKSksYS5DPWQpOlcuaS5nLmNhbGwodGhpcyxhLGIsYyl9O1cucHJvdG90eXBlLmM9ZnVuY3Rpb24oYSl7dmFyIGI9Vy5pLmMuY2FsbCh0aGlzLGEpO3RoaXMuYXx8S2QodGhpcyk7Yi5wdXNoKHRoaXMuYVthLkNdKTtyZXR1cm4gYn07dmFyIEtkPWZ1bmN0aW9uKGEpe3ZhciBiPWEuYigpO2EuYT17dG9wOmIrIi10b3AiLGJvdHRvbTpiKyItYm90dG9tIixzdGFydDpiKyItc3RhcnQiLGVuZDpiKyItZW5kIn19O3ZhciBZPWZ1bmN0aW9uKGEsYixjKXthPWF8fCJ0b3AiO2FkKHRoaXMsTGQoYSkpO3RoaXMuQz1hO1UuY2FsbCh0aGlzLHRoaXMuSixifHxXLlIoKSxjKTtNZCh0aGlzKX07dShZLFUpO2c9WS5wcm90b3R5cGU7Zy5EPW51bGw7Zy5GPWZ1bmN0aW9uKCl7WS5pLkYuY2FsbCh0aGlzKTtNZCh0aGlzKX07Zy51PWZ1bmN0aW9uKCl7WS5pLnUuY2FsbCh0aGlzKTt0aGlzLkQ9bnVsbH07Zy5GYT1mdW5jdGlvbihhKXtZLmkuRmEuY2FsbCh0aGlzLGEpO3RoaXMucWEoYSl9O2cuWT1mdW5jdGlvbihhKXthP3JkKGEsITApOnRoaXMuRCYmcmQodGhpcy5ELCExKX07Zy5xYT1mdW5jdGlvbihhKXt0aGlzLlkoTSh0aGlzLGEpKX07CnZhciBOZD1mdW5jdGlvbihhLGIpe2lmKGImJmI9PWEuRCl7Zm9yKHZhciBjPVRjKGEsYiksZD1jLTE7Yj1NKGEsZCk7ZC0tKWlmKGIuQiYmYi5pc0VuYWJsZWQoKSl7YS5ZKGIpO3JldHVybn1mb3IoYys9MTtiPU0oYSxjKTtjKyspaWYoYi5CJiZiLmlzRW5hYmxlZCgpKXthLlkoYik7cmV0dXJufWEuWShudWxsKX19O2c9WS5wcm90b3R5cGU7Zy5hYj1mdW5jdGlvbihhKXt0aGlzLkQmJnRoaXMuRCE9YS50YXJnZXQmJnJkKHRoaXMuRCwhMSk7dGhpcy5EPWEudGFyZ2V0fTtnLmJiPWZ1bmN0aW9uKGEpe2EudGFyZ2V0PT10aGlzLkQmJih0aGlzLkQ9bnVsbCl9O2cuWmE9ZnVuY3Rpb24oYSl7TmQodGhpcyxhLnRhcmdldCl9O2cuJGE9ZnVuY3Rpb24oYSl7TmQodGhpcyxhLnRhcmdldCl9O2cuSWE9ZnVuY3Rpb24oKXtNKHRoaXMsdGhpcy5sKXx8Q2QodGhpcyxUYyh0aGlzLHRoaXMuRHx8TSh0aGlzLDApKSl9Owp2YXIgTWQ9ZnVuY3Rpb24oYSl7T2MoYSkuYShhLCJzZWxlY3QiLGEuYWIpLmEoYSwidW5zZWxlY3QiLGEuYmIpLmEoYSwiZGlzYWJsZSIsYS5aYSkuYShhLCJoaWRlIixhLiRhKX0sTGQ9ZnVuY3Rpb24oYSl7cmV0dXJuInN0YXJ0Ij09YXx8ImVuZCI9PWE/InZlcnRpY2FsIjoiaG9yaXpvbnRhbCJ9O1ZjKCJnb29nLXRhYi1iYXIiLGZ1bmN0aW9uKCl7cmV0dXJuIG5ldyBZfSk7ZnVuY3Rpb24gT2QoYSl7dmFyIGI9e3RvcDoiYm90dG9tIixib3R0b206InRvcCIsc3RhcnQ6InJpZ2h0IixlbmQ6ImxlZnQifVthLmxvY2F0aW9uXSxjPWEuZWxlbWVudElkLGQ9ZG9jdW1lbnQuY3JlYXRlRWxlbWVudCgic3R5bGUiKTtkLnRleHRDb250ZW50PSJcbiAgICBmaWVsZHNldCB7XG4gICAgICBwYWRkaW5nOiAxMHB4O1xuICAgICAgYm9yZGVyOiAxcHggc29saWQgIzM2OTtcbiAgICB9XG5cbiAgICAjIitjKyIgLmdvb2ctdGFiLWNvbnRlbnQge1xuICAgICAgbWluLWhlaWdodDogM2VtO1xuICAgICAgbWFyZ2luOiAwO1xuICAgICAgYm9yZGVyOiAiK2EuYm9yZGVyKyIgc29saWQgIithLmJvcmRlckNvbG9yKyI7XG4gICAgICBib3JkZXItdG9wOiAwO1xuICAgICAgaGVpZ2h0OiAiK2EuY29udGVudEhlaWdodCsiO1xuICAgICAgcGFkZGluZzogNHB4IDhweDtcbiAgICAgIG1hcmdpbi1yaWdodDogNHB4O1xuICAgICAgYmFja2dyb3VuZDogI2ZmZjtcbiAgICAgIG92ZXJmbG93OiBhdXRvO1xuICAgIH1cblxuICAgICMiKwpjKyIgLmdvb2ctdGFiLWJhci0iK2EubG9jYXRpb24rIiAuZ29vZy10YWItc2VsZWN0ZWQge1xuICAgICAgYm9yZGVyOiAxcHggc29saWQgIithLmJvcmRlckNvbG9yKyI7XG4gICAgICBib3JkZXItIitiKyI6IDBweDtcbiAgICB9XG5cbiAgICAjIitjKyIgLmdvb2ctdGFiLWJhci0iK2EubG9jYXRpb24rIiB7XG4gICAgICBwYWRkaW5nLSIrYS5sb2NhdGlvbisiOiA1cHggIWltcG9ydGFudDtcbiAgICAgIGJvcmRlci0iK2IrIjogMXB4IHNvbGlkICIrYS5ib3JkZXJDb2xvcisiICFpbXBvcnRhbnQ7XG4gICAgICBiYWNrZ3JvdW5kOiB3aGl0ZTtcbiAgICB9XG5cbiAgICAjIitjKyIgLmdvb2ctdGFiLWJhciB7XG4gICAgICAgbWFyZ2luOiAwO1xuICAgICAgIGJvcmRlcjogMDtcbiAgICAgICBwYWRkaW5nOiAwO1xuICAgICAgIGxpc3Qtc3R5bGU6IG5vbmU7XG4gICAgICAgY3Vyc29yOiBkZWZhdWx0O1xuICAgICAgIG91dGxpbmU6IG5vbmU7XG4gICAgICAgYmFja2dyb3VuZDogd2hpdGU7XG4gICAgICAgbWFyZ2luLXJpZ2h0OiA0cHg7XG4gICAgICB9XG5cbiAgICAgIyIrCmMrIiAuZ29vZy10YWIge1xuICAgICAgIHBvc2l0aW9uOiByZWxhdGl2ZTtcbiAgICAgICBwYWRkaW5nOiA0cHggOHB4O1xuICAgICAgIGNvbG9yOiBibGFjaztcbiAgICAgICB0ZXh0LWRlY29yYXRpb246IGluaXRpYWw7XG4gICAgICAgY3Vyc29yOiBkZWZhdWx0O1xuICAgICAgfSI7cmV0dXJuIGR9CnZhciBQZD1mdW5jdGlvbihhKXt2YXIgYj1hLmVsZW1lbnRJZCxjPWEudGFiTmFtZXMsZD1hLnNlbGVjdGVkSW5kZXg7ImNvbnRlbnRCb3JkZXIiaW4gYXx8KGEuY29udGVudEJvcmRlcj0iMHB4Iik7ImNvbnRlbnRIZWlnaHQiaW4gYXx8KGEuY29udGVudEhlaWdodD0iaW5pdGlhbCIpOyJib3JkZXJDb2xvciJpbiBhfHwoYS5ib3JkZXJDb2xvcj0iI2E3YTdhNyIpO2EubG9jYXRpb258fChhLmxvY2F0aW9uPSJ0b3AiKTt2YXIgZT1kb2N1bWVudC5xdWVyeVNlbGVjdG9yKCIjIitiKSxmPWRvY3VtZW50LmNyZWF0ZUVsZW1lbnQoImRpdiIpO2YuY2xhc3NMaXN0LmFkZCgiZ29vZy10YWItYmFyIik7dmFyIGg9YS5sb2NhdGlvbjtmLmNsYXNzTGlzdC5hZGQoImdvb2ctdGFiLWJhci0iK2gpO2Zvcih2YXIgaz1bXSxwPWlhKGMpLHI9cC5uZXh0KCk7IXIuZG9uZTtyPXAubmV4dCgpKXtyPXIudmFsdWU7dmFyIFM9ZG9jdW1lbnQuY3JlYXRlRWxlbWVudCgiZGl2Iik7Uy5jbGFzc0xpc3QuYWRkKCJnb29nLXRhYiIpOwpTLnRleHRDb250ZW50PXI7Zi5hcHBlbmRDaGlsZChTKTtrLnB1c2goUyl9ImJvdHRvbSIhPWgmJmUuYXBwZW5kQ2hpbGQoZik7cD1udWxsO2lmKCJ0b3AiPT1ofHwiYm90dG9tIj09aClwPWRvY3VtZW50LmNyZWF0ZUVsZW1lbnQoImRpdiIpLHAuY2xhc3NMaXN0LmFkZCgiZ29vZy10YWItYmFyLWNsZWFyIik7InRvcCI9PWgmJmUuYXBwZW5kQ2hpbGQocCk7Uz1kb2N1bWVudC5jcmVhdGVFbGVtZW50KCJkaXYiKTtTLmNsYXNzTGlzdC5hZGQoImdvb2ctdGFiLWNvbnRlbnQiKTt2YXIgb2E9W107Yz1pYShjKTtmb3Iocj1jLm5leHQoKTshci5kb25lO3I9Yy5uZXh0KCkpcj1kb2N1bWVudC5jcmVhdGVFbGVtZW50KCJkaXYiKSxyLmlkPWUuaWQrIl9jb250ZW50XyIrb2EubGVuZ3RoLHIuc3R5bGUuZGlzcGxheT0ibm9uZSIsUy5hcHBlbmRDaGlsZChyKSxvYS5wdXNoKHIpO2UuYXBwZW5kQ2hpbGQoUyk7ImJvdHRvbSI9PWgmJihlLmFwcGVuZENoaWxkKHApLGUuYXBwZW5kQ2hpbGQoZikpOwp2YXIgQmE9bmV3IFkoaCk7UGMoQmEsZik7dmFyIFg9LTE7QmEuYSgic2VsZWN0IixmdW5jdGlvbihhKXthPWsuaW5kZXhPZihhLnRhcmdldC5mKCkpO2EhPVgmJigwPD1YJiZYPG9hLmxlbmd0aCYmKG9hW1hdLnN0eWxlLmRpc3BsYXk9Im5vbmUiLFg9LTEpLDA8PWEmJmE8b2EubGVuZ3RoJiYoWD1hLG9hW1hdLnN0eWxlLmRpc3BsYXk9ImlubGluZSIsd2luZG93LmRpc3BhdGNoRXZlbnQobmV3IEV2ZW50KCJyZXNpemUiKSksZ29vZ2xlLmNvbGFiLm91dHB1dC5yZXNpemVJZnJhbWVUb0NvbnRlbnQoKSksQmEucWEoWCkpfSk7QmEucWEoZCk7d2luZG93W2JdPXtzZXRTZWxlY3RlZFRhYkluZGV4OmZ1bmN0aW9uKGEpe0JhLnFhKGEpfX07ZG9jdW1lbnQuaGVhZC5hcHBlbmRDaGlsZChPZChhKSl9LFFkPVsiY29sYWJfbGliIiwiY3JlYXRlVGFiQmFyIl0sWj1sO1FkWzBdaW4gWnx8IVouZXhlY1NjcmlwdHx8Wi5leGVjU2NyaXB0KCJ2YXIgIitRZFswXSk7CmZvcih2YXIgUmQ7UWQubGVuZ3RoJiYoUmQ9UWQuc2hpZnQoKSk7KVFkLmxlbmd0aHx8dm9pZCAwPT09UGQ/WltSZF0mJlpbUmRdIT09T2JqZWN0LnByb3RvdHlwZVtSZF0/Wj1aW1JkXTpaPVpbUmRdPXt9OlpbUmRdPVBkOwo=",
              "ok": true,
              "headers": [
                [
                  "content-type",
                  "application/javascript"
                ]
              ],
              "status": 200,
              "status_text": ""
            }
          },
          "base_uri": "https://localhost:8080/",
          "height": 1426
        },
        "outputId": "ac796dc5-69c7-45be-fa34-63038c77b437"
      },
      "cell_type": "code",
      "source": [
        "print('Random 10 sampling of application claims. (re-sampling each time cell eval)')\n",
        "\n",
        "\n",
        "sampled_apps = testset_app_df.sample(10)\n",
        "\n",
        "\n",
        "app_ids = list(map(lambda s: str(s), sampled_apps.app_id.values))\n",
        "\n",
        "tb = widgets.TabBar(app_ids, location=\"top\")\n",
        "for i, _ in enumerate(app_ids):\n",
        "  with tb.output_to(i):\n",
        "    print(whole_xml_to_claim(sampled_apps[\"xml\"].values[i]))\n",
        "    \n"
      ],
      "execution_count": 99,
      "outputs": [
        {
          "output_type": "stream",
          "text": [
            "Random 10 sampling of application claims. (re-sampling each time cell eval)\n"
          ],
          "name": "stdout"
        },
        {
          "output_type": "display_data",
          "data": {
            "text/html": [
              "<link rel=stylesheet type=text/css href='/nbextensions/google.colab/tabbar.css'></link>"
            ],
            "text/plain": [
              "<IPython.core.display.HTML object>"
            ]
          },
          "metadata": {
            "tags": [
              "outputarea_id7"
            ]
          }
        },
        {
          "output_type": "display_data",
          "data": {
            "text/html": [
              "<script src='/nbextensions/google.colab/tabbar_main.min.js'></script>"
            ],
            "text/plain": [
              "<IPython.core.display.HTML object>"
            ]
          },
          "metadata": {
            "tags": [
              "outputarea_id7"
            ]
          }
        },
        {
          "output_type": "display_data",
          "data": {
            "text/html": [
              "<div id=\"id7\"></div>"
            ],
            "text/plain": [
              "<IPython.core.display.HTML object>"
            ]
          },
          "metadata": {
            "tags": [
              "outputarea_id7"
            ]
          }
        },
        {
          "output_type": "display_data",
          "data": {
            "application/javascript": [
              "window[\"597b8730-14a6-11e9-90d7-0242ac1c0002\"] = colab_lib.createTabBar({\"location\": \"top\", \"elementId\": \"id7\", \"tabNames\": [\"14227109\", \"13720586\", \"15138216\", \"13738589\", \"14878060\", \"12889930\", \"14219282\", \"12564725\", \"12211253\", \"13943724\"], \"initialSelection\": 0, \"contentBorder\": [\"0px\"], \"contentHeight\": [\"initial\"], \"borderColor\": [\"#a7a7a7\"]});\n",
              "//# sourceURL=js_107943d7a5"
            ],
            "text/plain": [
              "<IPython.core.display.Javascript object>"
            ]
          },
          "metadata": {
            "tags": [
              "outputarea_id7"
            ]
          }
        },
        {
          "output_type": "display_data",
          "data": {
            "application/javascript": [
              "window[\"597be82e-14a6-11e9-90d7-0242ac1c0002\"] = window[\"id7\"].setSelectedTabIndex(0);\n",
              "//# sourceURL=js_ed03fd930a"
            ],
            "text/plain": [
              "<IPython.core.display.Javascript object>"
            ]
          },
          "metadata": {
            "tags": [
              "outputarea_id7"
            ]
          }
        },
        {
          "output_type": "display_data",
          "data": {
            "application/javascript": [
              "window[\"597dd684-14a6-11e9-90d7-0242ac1c0002\"] = google.colab.output.getActiveOutputArea();\n",
              "//# sourceURL=js_6a412d5bdf"
            ],
            "text/plain": [
              "<IPython.core.display.Javascript object>"
            ]
          },
          "metadata": {
            "tags": [
              "id7_content_0",
              "outputarea_id7"
            ]
          }
        },
        {
          "output_type": "display_data",
          "data": {
            "application/javascript": [
              "window[\"597e1c0c-14a6-11e9-90d7-0242ac1c0002\"] = document.querySelector(\"#id7_content_0\");\n",
              "//# sourceURL=js_ea0158c1b1"
            ],
            "text/plain": [
              "<IPython.core.display.Javascript object>"
            ]
          },
          "metadata": {
            "tags": [
              "id7_content_0",
              "outputarea_id7"
            ]
          }
        },
        {
          "output_type": "display_data",
          "data": {
            "application/javascript": [
              "window[\"597ece5e-14a6-11e9-90d7-0242ac1c0002\"] = google.colab.output.setActiveOutputArea(window[\"597e1c0c-14a6-11e9-90d7-0242ac1c0002\"]);\n",
              "//# sourceURL=js_fabf236878"
            ],
            "text/plain": [
              "<IPython.core.display.Javascript object>"
            ]
          },
          "metadata": {
            "tags": [
              "id7_content_0",
              "outputarea_id7"
            ]
          }
        },
        {
          "output_type": "display_data",
          "data": {
            "application/javascript": [
              "window[\"597f0ef0-14a6-11e9-90d7-0242ac1c0002\"] = window[\"id7\"].setSelectedTabIndex(0);\n",
              "//# sourceURL=js_71c26c84c5"
            ],
            "text/plain": [
              "<IPython.core.display.Javascript object>"
            ]
          },
          "metadata": {
            "tags": [
              "id7_content_0",
              "outputarea_id7"
            ]
          }
        },
        {
          "output_type": "stream",
          "text": [
            "\n",
            " \n",
            "  1 . A method for processing information in an electronic device, wherein the method comprises:\n",
            " obtaining a first image, which is captured in a first direction when illuminating an object to be recognized with a first flash lighting parameter, wherein the first image comprises a first object image and a first spot image corresponding to the first flash lighting parameter, wherein the first spot image is overlapped with the first object image at a first position; \n",
            " obtaining a second image, which is captured in a second direction different from the first direction when illuminating the object to be recognized with a second flash lighting parameter, wherein the second image comprises a second object image and a second spot image corresponding to the second flash lighting parameter, wherein the second spot image is overlapped with the second object image at a second position different from the first position; \n",
            " removing the first spot image from the first image to obtain a third image and removing the second spot image from the second image to obtain a fourth image; and \n",
            " merging the third and fourth images to obtain a fifth image comprising a third object image without the first and second spot images at the first and second positions. \n",
            " \n",
            " \n",
            " \n",
            "  2 . The method according to  claim 1 , wherein obtaining a first image comprises: directing an image capturing apparatus of the electronic device to the first direction by controlling a rotator connected to the image capturing apparatus in the electronic device; and\n",
            " capturing the first image by the image capturing apparatus. \n",
            " \n",
            " \n",
            " \n",
            "  3 . The method according to  claim 1 , wherein the third image comprises the first object image and a first blank image which is overlapped with the first object image at the first position. \n",
            " \n",
            " \n",
            "  4 . The method according to  claim 3 , wherein the fourth image comprises the second object image and a second blank image which is overlapped with the second object image at the second position. \n",
            " \n",
            " \n",
            "  5 . The method according to  claim 4 , wherein merging the third and fourth images to obtain a fifth image comprises:\n",
            " filling the second blank image located at the second position with a third position image located at a third position in the third image, wherein the third position image is a part of the first object image and the third position corresponds to the second position; \n",
            " filling the first blank image located at the first position with a fourth position image located at a fourth position in the fourth image, wherein the fourth position image is a part of the second object image, the fourth position corresponds to the first position, and the fourth position image is different from the third position image; and \n",
            " obtaining the fifth image having the fourth position image at the first position and the third position image at the second position. \n",
            " \n",
            " \n",
            " \n",
            "  6 . An electronic device comprises:\n",
            " a first obtaining unit configured to obtain a first image, which is captured in a first direction when illuminating an object to be recognized with a first flash lighting parameter, wherein the first image comprises an first object image and a first spot image corresponding to the first flash lighting parameter, wherein the first spot image is overlapped with the first object image at a first position; \n",
            " a second obtaining unit configured to obtain a second image, which is captured in a second direction different from the first direction when illuminating the object to be recognized with a second flash lighting parameter, wherein the second image comprises a second object image and a second spot image corresponding to the second flash lighting parameter, wherein the second spot image is overlapped with the second object image at a second position different from the first position; \n",
            " a removing unit configured to remove the first spot image from the first image to obtain a third image and remove the second spot image from the second image to obtain a fourth image; and \n",
            " a merging unit configured to merge the third and fourth images to obtain a fifth image comprising a third object image without the first and second spot images at the first and second positions. \n",
            " \n",
            " \n",
            " \n",
            "  7 . The electronic device according to  claim 6 , wherein the first obtaining unit is an image capturing unit comprising:\n",
            " an image capturing apparatus provided on the electronic device; and \n",
            " a rotator provided in the electronic device and connected to the image capturing apparatus; \n",
            " wherein the image capturing apparatus is directed to the first direction by controlling the rotator and the first image is captured by the image capturing apparatus. \n",
            " \n",
            " \n",
            " \n",
            "  8 . The electronic device according to  claim 6 , wherein the third image comprises the first object image and a first blank image which is overlapped with the first object image at the first position. \n",
            " \n",
            " \n",
            "  9 . The electronic device according to  claim 8 , wherein the fourth image comprises the second object image and a second blank image which is overlapped with the second object image at the second position. \n",
            " \n",
            " \n",
            "  10 . The electronic device according to  claim 6 , wherein the merging unit comprises:\n",
            " a first filling sub-unit configured to fill the second blank image located at the second position with a third position image located at a third position in the third image, wherein the third position image is a part of the first object image and the third position corresponds to the second position; \n",
            " a second filling sub-unit configured to fill the first blank image located at the first position with a fourth position image located at a fourth position in the fourth image, wherein the fourth position image is a part of the second object image, the fourth position corresponds to the first position, and the fourth position image is different from the third position image; and \n",
            " a first obtaining sub-unit configured to obtain the fifth image having the fourth position image at the first position and the third position image at the second position.  \n",
            " \n",
            " \n",
            "\n"
          ],
          "name": "stdout"
        },
        {
          "output_type": "display_data",
          "data": {
            "application/javascript": [
              "window[\"5980a738-14a6-11e9-90d7-0242ac1c0002\"] = google.colab.output.setActiveOutputArea(window[\"597dd684-14a6-11e9-90d7-0242ac1c0002\"]);\n",
              "//# sourceURL=js_e799c7293c"
            ],
            "text/plain": [
              "<IPython.core.display.Javascript object>"
            ]
          },
          "metadata": {
            "tags": [
              "id7_content_0",
              "outputarea_id7"
            ]
          }
        },
        {
          "output_type": "display_data",
          "data": {
            "application/javascript": [
              "window[\"5982b38e-14a6-11e9-90d7-0242ac1c0002\"] = google.colab.output.getActiveOutputArea();\n",
              "//# sourceURL=js_3340ea54db"
            ],
            "text/plain": [
              "<IPython.core.display.Javascript object>"
            ]
          },
          "metadata": {
            "tags": [
              "id7_content_1",
              "outputarea_id7"
            ]
          }
        },
        {
          "output_type": "display_data",
          "data": {
            "application/javascript": [
              "window[\"59830fc8-14a6-11e9-90d7-0242ac1c0002\"] = document.querySelector(\"#id7_content_1\");\n",
              "//# sourceURL=js_995e86c0af"
            ],
            "text/plain": [
              "<IPython.core.display.Javascript object>"
            ]
          },
          "metadata": {
            "tags": [
              "id7_content_1",
              "outputarea_id7"
            ]
          }
        },
        {
          "output_type": "display_data",
          "data": {
            "application/javascript": [
              "window[\"59836004-14a6-11e9-90d7-0242ac1c0002\"] = google.colab.output.setActiveOutputArea(window[\"59830fc8-14a6-11e9-90d7-0242ac1c0002\"]);\n",
              "//# sourceURL=js_f1097ff1e0"
            ],
            "text/plain": [
              "<IPython.core.display.Javascript object>"
            ]
          },
          "metadata": {
            "tags": [
              "id7_content_1",
              "outputarea_id7"
            ]
          }
        },
        {
          "output_type": "display_data",
          "data": {
            "application/javascript": [
              "window[\"59840acc-14a6-11e9-90d7-0242ac1c0002\"] = window[\"id7\"].setSelectedTabIndex(1);\n",
              "//# sourceURL=js_bd3514c67b"
            ],
            "text/plain": [
              "<IPython.core.display.Javascript object>"
            ]
          },
          "metadata": {
            "tags": [
              "id7_content_1",
              "outputarea_id7"
            ]
          }
        },
        {
          "output_type": "stream",
          "text": [
            "\n",
            " \n",
            "  1 . A system for classifying a user into a user group, comprising:\n",
            " one or more processors configured to:\n",
            " obtain action record information associated with a user with respect to a plurality of information categories; \n",
            " determine a preference value indicating the user's preference for at least one of the plurality of information categories, the determination being made based at least in part on the action record information; \n",
            " determine a demand preference dispersion value for the user based at least in part on the preference value, wherein the demand preference dispersion value represents a degree to which the user has dispersed interest across the plurality of information categories; and \n",
            " determine whether the user is to be associated with a demand-focused user group based at least in part on the demand preference dispersion value; and \n",
            " \n",
            " one or more memories coupled to the one or more processors and configured to provide the one or more processors with instructions. \n",
            " \n",
            " \n",
            " \n",
            "  2 . The system of  claim 1 , wherein the preference value is determined based on a ratio of a number of instances of user activity included in the action record information associated with the information category to a total number of instances of user activity included in the action record information associated with the plurality of information categories. \n",
            " \n",
            " \n",
            "  3 . The system of  claim 1 , wherein the demand preference dispersion value is determined as:\n",
            " \n",
            " \n",
            "  H=&#x2212;&#x3a3;  i=1  N  P  i  log 2   P  i   \n",
            " \n",
            " \n",
            " wherein H represents the demand preference dispersion value, N represents the number of plurality of information categories, and P, represents the preference value for information category i. \n",
            " \n",
            " \n",
            "  4 . The system of  claim 1 , wherein the one or more processors are further configured to filter out an information category of the plurality of information categories associated with a preference value that is less than a preference value threshold. \n",
            " \n",
            " \n",
            "  5 . The system of  claim 1 , wherein determining whether the user is to be associated with a demand-focused user group based at least in part on the demand preference dispersion value includes:\n",
            " determining that the user is to be associated with the demand-focused user group in the event that the demand preference dispersion value is less than or equal to the demand preference dispersion threshold value; and \n",
            " determining that the user is to be associated with a demand-dispersed user group in the event that the demand preference dispersion value is greater than the demand preference dispersion threshold value. \n",
            " \n",
            " \n",
            " \n",
            "  6 . The system of  claim 1 , wherein the one or more processors are further configured to:\n",
            " receive an indication to recommend product information to the user; \n",
            " determine that the user is associated with the demand-focused user group; \n",
            " in response to the determination that the user is associated with the demand-focused user group, determine a set of clustered product information based at least in part on the action record information associated with the user; and \n",
            " send at least a portion of the set of clustered product information to the user as recommended product information. \n",
            " \n",
            " \n",
            " \n",
            "  7 . The system of  claim 6 , wherein the plurality of information categories comprises a plurality of product categories, the set of clustered product information is determined based at least in part on extracting for a product category of the plurality of product categories, a set of keywords, and determining a cluster of pieces of product information included in the product category that include at least some of the set of keywords. \n",
            " \n",
            " \n",
            "  8 . The system of  claim 6 , wherein:\n",
            " at least the portion of the set of clustered product information is determined based at least in part on determining visit volumes and visit frequencies corresponding to the set of clustered product information; and \n",
            " determining the portion of the set of clustered product information that is associated with visit volumes that are equal to or exceed a visit volume threshold value and that is associated with visit frequencies that are equal to or exceed a visit frequency threshold value. \n",
            " \n",
            " \n",
            " \n",
            "  9 . A method for classifying a user into a user group, comprising:\n",
            " obtaining action record information associated with a user with respect to a plurality of information categories; \n",
            " determining a preference value indicating the user's preference for at least one of the plurality of information categories, the determination being made based at least in part on the action record information; \n",
            " determining a demand preference dispersion value for the user based at least in part on the preference value, wherein the demand preference dispersion value represents a degree to which the user has dispersed interest across the plurality of information categories; and \n",
            " determining, using one or more processors, whether the user is to be associated with a demand-focused user group based at least in part on the demand preference dispersion value. \n",
            " \n",
            " \n",
            " \n",
            "  10 . The method of  claim 9 , wherein the preference value is determined based on a ratio of a number of instances of user activity included in the action record information associated with the information category to a total number of instances of user activity included in the action record information associated with the plurality of information categories. \n",
            " \n",
            " \n",
            "  11 . The method of  claim 9 , wherein the demand preference dispersion value is determined as:\n",
            " \n",
            " \n",
            "  H=&#x2212;&#x3a3;  i=1  N  P  i  log 2   P  i   \n",
            " \n",
            " \n",
            " wherein H represents the demand preference dispersion value, N represents the number of plurality of information categories, and P, represents the preference value for information category i. \n",
            " \n",
            " \n",
            "  12 . The method of  claim 9 , further comprising filtering out an information category of the plurality of information categories associated with a preference value that is less than a preference value threshold. \n",
            " \n",
            " \n",
            "  13 . The method of  claim 9 , wherein determining whether the user is to be associated with a demand-focused user group based at least in part on the demand preference dispersion value includes determining that the user is to be associated with the demand-focused user group in the event that the demand preference dispersion value is less than or equal to the demand preference dispersion threshold value and determining that the user is to be associated with a demand-dispersed user group in the event that the demand preference dispersion value is greater than the demand preference dispersion threshold value. \n",
            " \n",
            " \n",
            "  14 . The method of  claim 9 , further comprising:\n",
            " receiving an indication to recommend product information to the user; \n",
            " determining that the user is associated with the demand-focused user group; \n",
            " in response to the determination that the user is associated with the demand-focused user group, determining a set of clustered product information based at least in part on the action record information associated with the user; and \n",
            " sending at least a portion of the set of clustered product information to the user as recommended product information. \n",
            " \n",
            " \n",
            " \n",
            "  15 . The method of  claim 14 , wherein the plurality of information categories comprises a plurality of product categories, the set of clustered product information is determined based at least in part on extracting for a product category of the plurality of product categories, a set of keywords, and determining a cluster of pieces of product information included in the product category that include at least some of the set of keywords. \n",
            " \n",
            " \n",
            "  16 . The method of  claim 14 , wherein at least the portion of the set of clustered product information is determined based at least in part on determining visit volumes and visit frequencies corresponding to the set of clustered product information and determining the portion of the set of clustered product information associated with visit volumes that are equal to or exceed a visit volume threshold value and associated with visit frequencies that are equal to or exceed a visit frequency threshold value. \n",
            " \n",
            " \n",
            "  17 . A computer program product for classifying a user into a user group, the computer program product being embodied in a computer readable storage medium and comprising computer instructions for:\n",
            " obtaining action record information associated with a user with respect to a plurality of information categories; \n",
            " determining a preference value indicating the user's preference for at least one of the plurality of information categories, the determination being made based at least in part on the action record information; \n",
            " determining a demand preference dispersion value for the user based at least in part on the preference value, wherein the demand preference dispersion value represents a degree to which the user has dispersed interest across the plurality of information categories; and \n",
            " determining whether the user is to be associated with a demand-focused user group based at least in part on the demand preference dispersion value. \n",
            " \n",
            " \n",
            " \n",
            "  18 . The computer program product of  claim 18 , further comprising:\n",
            " receiving an indication to recommend product information to the user; \n",
            " determining that the user is associated with the demand-focused user group; \n",
            " in response to the determination that the user is associated with the demand-focused user group, determining a set of clustered product information based at least in part on the action record information associated with the user; and \n",
            " sending at least a portion of the set of clustered product information to the user. \n",
            " \n",
            " \n",
            " \n",
            "  19 . A system for recommending information to a user, comprising:\n",
            " one or more processors configured to:\n",
            " receive an indication to recommend product information to the user; and \n",
            " send at least a portion of a set of clustered product information to the user as recommended product information, wherein the set of clustered product information includes a portion of product information associated with a product category; and \n",
            " \n",
            " one or more memories coupled to the one or more processors and configured to provide the one or more processors with instructions. \n",
            " \n",
            " \n",
            " \n",
            "  20 . The system of  claim 19 , wherein the one or more processors are further configured to:\n",
            " extract one or more keywords from the product information associated with the product category; and \n",
            " include pieces of the product information associated with the product category that include at least some of the one or more keywords in a cluster of product information to be included in the set of clustered product information. \n",
            " \n",
            " \n",
            "\n"
          ],
          "name": "stdout"
        },
        {
          "output_type": "display_data",
          "data": {
            "application/javascript": [
              "window[\"5985998c-14a6-11e9-90d7-0242ac1c0002\"] = google.colab.output.setActiveOutputArea(window[\"5982b38e-14a6-11e9-90d7-0242ac1c0002\"]);\n",
              "//# sourceURL=js_8bdf3b08cf"
            ],
            "text/plain": [
              "<IPython.core.display.Javascript object>"
            ]
          },
          "metadata": {
            "tags": [
              "id7_content_1",
              "outputarea_id7"
            ]
          }
        },
        {
          "output_type": "display_data",
          "data": {
            "application/javascript": [
              "window[\"598782c4-14a6-11e9-90d7-0242ac1c0002\"] = google.colab.output.getActiveOutputArea();\n",
              "//# sourceURL=js_1680e24e0c"
            ],
            "text/plain": [
              "<IPython.core.display.Javascript object>"
            ]
          },
          "metadata": {
            "tags": [
              "id7_content_2",
              "outputarea_id7"
            ]
          }
        },
        {
          "output_type": "display_data",
          "data": {
            "application/javascript": [
              "window[\"59880140-14a6-11e9-90d7-0242ac1c0002\"] = document.querySelector(\"#id7_content_2\");\n",
              "//# sourceURL=js_9747674c70"
            ],
            "text/plain": [
              "<IPython.core.display.Javascript object>"
            ]
          },
          "metadata": {
            "tags": [
              "id7_content_2",
              "outputarea_id7"
            ]
          }
        },
        {
          "output_type": "display_data",
          "data": {
            "application/javascript": [
              "window[\"5988549c-14a6-11e9-90d7-0242ac1c0002\"] = google.colab.output.setActiveOutputArea(window[\"59880140-14a6-11e9-90d7-0242ac1c0002\"]);\n",
              "//# sourceURL=js_6a67d0d4ef"
            ],
            "text/plain": [
              "<IPython.core.display.Javascript object>"
            ]
          },
          "metadata": {
            "tags": [
              "id7_content_2",
              "outputarea_id7"
            ]
          }
        },
        {
          "output_type": "display_data",
          "data": {
            "application/javascript": [
              "window[\"5988e33a-14a6-11e9-90d7-0242ac1c0002\"] = window[\"id7\"].setSelectedTabIndex(2);\n",
              "//# sourceURL=js_41277f15b3"
            ],
            "text/plain": [
              "<IPython.core.display.Javascript object>"
            ]
          },
          "metadata": {
            "tags": [
              "id7_content_2",
              "outputarea_id7"
            ]
          }
        },
        {
          "output_type": "stream",
          "text": [
            "\n",
            " \n",
            "  1 . An electronic device comprising:\n",
            " a device enclosure having a plurality of openings; \n",
            " a plurality of contacts, each located in an opening in the device enclosure; \n",
            " a plurality of insulators, each forming a ring between a contact and the device enclosure; and \n",
            " a flexible circuit board electrically connected to the plurality of contacts. \n",
            " \n",
            " \n",
            " \n",
            "  2 . The electronic device of  claim 1  wherein each of the plurality of contacts are soldered to the flexible circuit board. \n",
            " \n",
            " \n",
            "  3 . The electronic device of  claim 2  wherein the insulators are formed of plastic. \n",
            " \n",
            " \n",
            "  4 . The electronic device of  claim 3  further comprising a bracket behind the contacts such that the contacts are between the bracket and the device enclosure. \n",
            " \n",
            " \n",
            "  5 . The electronic device of  claim 4  wherein the bracket is glued to an inside surface of the device enclosure. \n",
            " \n",
            " \n",
            "  6 - 10 . (canceled) \n",
            " \n",
            " \n",
            "  11 . An electronic device comprising:\n",
            " a device enclosure having a plurality of openings; \n",
            " a plurality of contacts, each located in an opening in the device enclosure; \n",
            " an insulator, the insulator forming a plurality of rings, each ring between a contact and the device enclosure; and \n",
            " a flexible circuit board electrically connected to the plurality of contacts. \n",
            " \n",
            " \n",
            " \n",
            "  12 . The electronic device of  claim 11  further comprising a bracket behind the contacts such that the contacts are between the bracket and the device enclosure. \n",
            " \n",
            " \n",
            "  13 . The electronic device of  claim 12  further comprising a silicone gasket between the insulator and the device enclosure. \n",
            " \n",
            " \n",
            "  14 . The electronic device of  claim 13  wherein the insulator is formed of plastic. \n",
            " \n",
            " \n",
            "  15 . The electronic device of  claim 14  wherein the flexible circuit board is attached to the insulator using a heat-activated film. \n",
            " \n",
            " \n",
            "  16 - 20 . (canceled) \n",
            " \n",
            " \n",
            "  21 . The electronic device of  claim 1  wherein each of the plurality of insulators are attached to the device enclosure and each of the plurality of contacts are attached to a corresponding one of the plurality of insulators using an adhesive. \n",
            " \n",
            " \n",
            "  22 . The electronic device of  claim 11  the insulator is attached to the device enclosure and each of the plurality of contacts are attached to the insulator using an adhesive. \n",
            " \n",
            " \n",
            "  23 . An electronic device comprising:\n",
            " a device enclosure having a plurality of openings; \n",
            " a plurality of contacts in an insulating housing, each contact having a contacting surface on a first side and located in one of the plurality of openings in the device enclosure and a contacting portion on a second side opposing the first side; \n",
            " a flexible circuit board attached to contacting portions of each of the plurality of contacts; \n",
            " a seal between the insulating housing and the device enclosure; and \n",
            " a bracket to secure the insulating housing to the device enclosure. \n",
            " \n",
            " \n",
            " \n",
            "  24 . The electronic device of  claim 23  wherein the insulating housing is formed of plastic. \n",
            " \n",
            " \n",
            "  25 . The electronic device of  claim 23  wherein one of the plurality of openings is circular. \n",
            " \n",
            " \n",
            "  26 . The electronic device of  claim 25  wherein the seal is a gasket. \n",
            " \n",
            " \n",
            "  27 . The electronic device of  claim 26  wherein the flexible circuit board is attached to the insulating housing using a heat-activated film. \n",
            " \n",
            " \n",
            "  28 . The electronic device of  claim 23  wherein the bracket is behind the insulating housing such that the contacts are between the bracket and the device enclosure. \n",
            " \n",
            " \n",
            "  29 . The electronic device of  claim 23  further comprising a shim between the insulating housing and the device enclosure. \n",
            " \n",
            " \n",
            "  30 . The electronic device of  claim 23  wherein the insulating housing is located in a recess in an inside surface of the device enclosure. \n",
            " \n",
            "\n"
          ],
          "name": "stdout"
        },
        {
          "output_type": "display_data",
          "data": {
            "application/javascript": [
              "window[\"598a30d2-14a6-11e9-90d7-0242ac1c0002\"] = google.colab.output.setActiveOutputArea(window[\"598782c4-14a6-11e9-90d7-0242ac1c0002\"]);\n",
              "//# sourceURL=js_3f766bcd8c"
            ],
            "text/plain": [
              "<IPython.core.display.Javascript object>"
            ]
          },
          "metadata": {
            "tags": [
              "id7_content_2",
              "outputarea_id7"
            ]
          }
        },
        {
          "output_type": "display_data",
          "data": {
            "application/javascript": [
              "window[\"598bd748-14a6-11e9-90d7-0242ac1c0002\"] = google.colab.output.getActiveOutputArea();\n",
              "//# sourceURL=js_3486c3d96a"
            ],
            "text/plain": [
              "<IPython.core.display.Javascript object>"
            ]
          },
          "metadata": {
            "tags": [
              "id7_content_3",
              "outputarea_id7"
            ]
          }
        },
        {
          "output_type": "display_data",
          "data": {
            "application/javascript": [
              "window[\"598c3ba2-14a6-11e9-90d7-0242ac1c0002\"] = document.querySelector(\"#id7_content_3\");\n",
              "//# sourceURL=js_1a703b7a29"
            ],
            "text/plain": [
              "<IPython.core.display.Javascript object>"
            ]
          },
          "metadata": {
            "tags": [
              "id7_content_3",
              "outputarea_id7"
            ]
          }
        },
        {
          "output_type": "display_data",
          "data": {
            "application/javascript": [
              "window[\"598c9cd2-14a6-11e9-90d7-0242ac1c0002\"] = google.colab.output.setActiveOutputArea(window[\"598c3ba2-14a6-11e9-90d7-0242ac1c0002\"]);\n",
              "//# sourceURL=js_ae4064f45d"
            ],
            "text/plain": [
              "<IPython.core.display.Javascript object>"
            ]
          },
          "metadata": {
            "tags": [
              "id7_content_3",
              "outputarea_id7"
            ]
          }
        },
        {
          "output_type": "display_data",
          "data": {
            "application/javascript": [
              "window[\"598d0a14-14a6-11e9-90d7-0242ac1c0002\"] = window[\"id7\"].setSelectedTabIndex(3);\n",
              "//# sourceURL=js_726089aa12"
            ],
            "text/plain": [
              "<IPython.core.display.Javascript object>"
            ]
          },
          "metadata": {
            "tags": [
              "id7_content_3",
              "outputarea_id7"
            ]
          }
        },
        {
          "output_type": "stream",
          "text": [
            "\n",
            " \n",
            "  1 . A station (STA) comprising:\n",
            " a receiver configured to receive a message that indicates an Extensible Authentication Protocol (EAP) procedure is successful; \n",
            " a processor configured to generate a pairwise master key (PMK); and \n",
            " a transmitter configured to transmit a dynamic host configuration protocol (DHCP) request to an access point (AP) to establish an internet protocol (IP) address assignment over a wireless local area network (WLAN); and \n",
            " wherein the receiver and the transmitter are further configured to communicate with an authentication, authorization, and accounting (AAA) server over the WLAN using the PMK. \n",
            " \n",
            " \n",
            " \n",
            "  2 . The STA of  claim 1 , wherein the processor is configured to generate the PMK using a station Identity Provider (STA-OP) pre-shared key (PSK). \n",
            " \n",
            " \n",
            "  3 . The STA of  claim 1 , wherein the transmitter and receiver are further configured to perform a 4-way handshake protocol. \n",
            " \n",
            " \n",
            "  4 . The STA of  claim 3 , wherein the 4-way handshake protocol uses a pseudo-random function to derive a pseudo-random value. \n",
            " \n",
            " \n",
            "  5 . The STA of  claim 4 , wherein the pseudo-random value is a nonce. \n",
            " \n",
            " \n",
            "  6 . The STA of  claim 5 , wherein the nonce is associated with a pre-shared key (PSK). \n",
            " \n",
            " \n",
            "  7 . The STA of  claim 4 , wherein the receiver is further configured to receive a first extensible authentication protocol (EAP) over local area network (LAN) (EAPOL)-Key frame, and the transmitter is further configured to transmit a second EAPOL-Key frame in response to the first EAPOL-Key frame. \n",
            " \n",
            " \n",
            "  8 . The STA of  claim 7 , wherein the first EAPOL-Key frame includes a nonce associated with the AP, and wherein the second EAPOL-Key frame includes a nonce associated with the STA. \n",
            " \n",
            " \n",
            "  9 . The STA of  claim 8 , wherein the receiver is further configured to receive a third EAPOL-Key frame, and the transmitter is further configured to transmit a fourth EAPOL-Key frame in response to the third EAPOL-Key frame. \n",
            " \n",
            " \n",
            "  10 . The STA of  claim 1 , wherein the transmitter is further configured to transmit a request to the AAA server for WLAN information. \n",
            " \n",
            " \n",
            "  11 . The STA of  claim 10 , wherein the WLAN information includes an available AP, a service set identification (SSID), an authentication method, or an access network parameter. \n",
            " \n",
            " \n",
            "  12 . The STA of  claim 10 , wherein the transmitter is further configured to transmit a probe request frame to an access point (AP) without performing a scan based on the requested WLAN information. \n",
            " \n",
            " \n",
            "  13 . The STA of  claim 12 , wherein the scan is an active scan. \n",
            " \n",
            " \n",
            "  14 . The STA of  claim 12 , wherein the scan is a passive scan. \n",
            " \n",
            " \n",
            "  15 . The STA of  claim 12 , wherein the receiver is further configured to receive a probe response frame, and wherein the processor is further configured to perform an open authentication protocol and associate with the AP. \n",
            " \n",
            " \n",
            "  16 . The STA of  claim 15 , wherein the receiver is further configured to receive an EAP request from the AP. \n",
            " \n",
            " \n",
            "  17 . The STA of  claim 16 , wherein the transmitter is further configured to transmit an EAP response to the AP, wherein the EAP response includes an identity of the STA. \n",
            " \n",
            " \n",
            "  18 . A method for use in an access point (AP), the method comprising:\n",
            " receiving a probe request frame that includes a system configuration identifier; \n",
            " determining whether the system configuration identifier matches a stored system configuration identifier; \n",
            " on a condition that the system configuration identifier matches the stored system configuration identifier, transmitting a reduced probe response frame in response to the probe request frame, wherein the reduced probe response frame is a probe response frame that omits a parameter; and \n",
            " on a condition that the system configuration identifier does not match the stored system configuration identifier, transmitting a full probe response frame or a partially reduced probe response frame in response to the probe request frame, wherein the partially reduced probe response frame is a probe response frame that does not contain a full configuration indicator. \n",
            " \n",
            " \n",
            " \n",
            "  19 . A method for use in a non-access point (non-AP) station (STA), the method comprising:\n",
            " receiving a configuration indicator and a corresponding configuration change count (CCC) value; \n",
            " determining whether there is a configuration indicator entry in an acquired configuration knowledge database; \n",
            " on a condition that there is no configuration indicator entry in the acquired configuration knowledge database, creating a new configuration indicator entry based on the received configuration indicator and the received corresponding CCC value; \n",
            " determining whether the received CCC value matches a CCC value in the acquired configuration knowledge database; and \n",
            " on a condition that the received CCC value does not match a CCC value in the acquired configuration knowledge database, updating the acquired configuration knowledge database based on the received CCC value.  \n",
            " \n",
            " \n",
            "\n"
          ],
          "name": "stdout"
        },
        {
          "output_type": "display_data",
          "data": {
            "application/javascript": [
              "window[\"598e0842-14a6-11e9-90d7-0242ac1c0002\"] = google.colab.output.setActiveOutputArea(window[\"598bd748-14a6-11e9-90d7-0242ac1c0002\"]);\n",
              "//# sourceURL=js_bce327a54a"
            ],
            "text/plain": [
              "<IPython.core.display.Javascript object>"
            ]
          },
          "metadata": {
            "tags": [
              "id7_content_3",
              "outputarea_id7"
            ]
          }
        },
        {
          "output_type": "display_data",
          "data": {
            "application/javascript": [
              "window[\"598fa18e-14a6-11e9-90d7-0242ac1c0002\"] = google.colab.output.getActiveOutputArea();\n",
              "//# sourceURL=js_2f1e63a80c"
            ],
            "text/plain": [
              "<IPython.core.display.Javascript object>"
            ]
          },
          "metadata": {
            "tags": [
              "id7_content_4",
              "outputarea_id7"
            ]
          }
        },
        {
          "output_type": "display_data",
          "data": {
            "application/javascript": [
              "window[\"598fd38e-14a6-11e9-90d7-0242ac1c0002\"] = document.querySelector(\"#id7_content_4\");\n",
              "//# sourceURL=js_30621c7fde"
            ],
            "text/plain": [
              "<IPython.core.display.Javascript object>"
            ]
          },
          "metadata": {
            "tags": [
              "id7_content_4",
              "outputarea_id7"
            ]
          }
        },
        {
          "output_type": "display_data",
          "data": {
            "application/javascript": [
              "window[\"59903cca-14a6-11e9-90d7-0242ac1c0002\"] = google.colab.output.setActiveOutputArea(window[\"598fd38e-14a6-11e9-90d7-0242ac1c0002\"]);\n",
              "//# sourceURL=js_5e8b1a47e1"
            ],
            "text/plain": [
              "<IPython.core.display.Javascript object>"
            ]
          },
          "metadata": {
            "tags": [
              "id7_content_4",
              "outputarea_id7"
            ]
          }
        },
        {
          "output_type": "display_data",
          "data": {
            "application/javascript": [
              "window[\"5990a048-14a6-11e9-90d7-0242ac1c0002\"] = window[\"id7\"].setSelectedTabIndex(4);\n",
              "//# sourceURL=js_f36035309b"
            ],
            "text/plain": [
              "<IPython.core.display.Javascript object>"
            ]
          },
          "metadata": {
            "tags": [
              "id7_content_4",
              "outputarea_id7"
            ]
          }
        },
        {
          "output_type": "stream",
          "text": [
            "\n",
            " \n",
            "  1 .- 15 . (canceled) \n",
            " \n",
            " \n",
            "  16 . One or more machine-readable storage devices storing instructions that are executable by one or more processing devices to perform operations comprising:\n",
            " monitoring, with an external defibrillator, multiple parameters of a person receiving emergency cardiac assistance; \n",
            " determining from at least one of the parameters, an indication of trans-thoracic impedance of the person receiving emergency cardiac care; \n",
            " determining, from at least one of the parameters corresponding to an electrocardiogram of the person receiving emergency cardiac assistance, an initial indication of likely shock effectiveness; \n",
            " determining, as a function of at least the indication of trans-thoracic impedance and the initial indication of likely shock effectiveness, an indication of whether a shock provided to the person receiving emergency medical assistance will be effective; and \n",
            " affecting control of the defibrillator by a caregiver as a result of determining the indication of whether a shock will be effective. \n",
            " \n",
            " \n",
            " \n",
            "  17 . The one or more machine-readable storage devices of  claim 16 , further comprising instructions for repeating cyclically the actions of monitoring, determining, and affecting control over multiple time periods during provision of emergency cardiac assistance to the person. \n",
            " \n",
            " \n",
            "  18 . The one or more machine-readable storage devices of  claim 16 , further comprising instructions for identifying compression depth of chest compressions performed on the person, using a device on the person's sternum and in communication with the defibrillator, and providing feedback to a rescuer performing the chest compressions regarding rate of compression, depth of compression, or both. \n",
            " \n",
            " \n",
            "  19 . The one or more machine-readable storage devices of  claim 16 , wherein the multiple parameters comprise signals sensed by a plurality of electrocardiogram leads. \n",
            " \n",
            " \n",
            "  20 . The one or more machine-readable storage devices of  claim 19 , wherein determining an initial indicator of likely shock effectiveness comprises determining a value that is a function of electrocardiogram amplitude at particular different frequencies or frequency ranges. \n",
            " \n",
            " \n",
            "  21 . The one or more machine-readable storage devices of  claim 20 , wherein the determination of an initial indicator of likely shock effectiveness comprises determining an amplitude spectrum area (AMSA) value. \n",
            " \n",
            " \n",
            "  22 . The one or more machine-readable storage devices of  claim 16 , wherein affecting control of the defibrillator comprises preventing a user from delivering a shock unless the determination of whether a shock will be effective exceeds a determined likelihood level. \n",
            " \n",
            " \n",
            "  23 . The one or more machine-readable storage devices of  claim 16 , wherein affecting control of the defibrillator comprises electronically displaying an indicator of the determined indication of whether a shock will be effective. \n",
            " \n",
            " \n",
            "  24 . The one or more machine-readable storage devices of  claim 23 , wherein displaying an indicator comprises displaying a value, of multiple possible values in a range, that indicates a likelihood of success. \n",
            " \n",
            " \n",
            "  25 . The one or more machine-readable storage devices of  claim 16 , wherein determining an indication of whether a shock provided to the person receiving emergency medical assistance will be effective comprises:\n",
            " providing the indication of a level of the trans-thoracic impedance and the one or more values representative of likely shock effectiveness as separate inputs to a function or look-up table; and \n",
            " determining the indication of whether a shock will be effective in using an output of the function or look-up table. \n",
            " \n",
            " \n",
            " \n",
            "  26 . The one or more machine-readable storage devices of  claim 16 , wherein the external defibrillator is a dual-mode defibrillator having a basic automatic mode and an advanced manual mode, and is programmed to affect control by an operator of the external defibrillator by operating a switch or electronic presentation device in a different manner depending on a current mode in which the external defibrillator is set. \n",
            " \n",
            " \n",
            "  27 . The one or more machine-readable storage devices of  claim 16 , wherein a Fourier transform is applied to determine one or more AMSA values for the person receiving emergency cardiac assistance, the AMSA values indicated in the form V-Hz. \n",
            " \n",
            " \n",
            "  28 . The one or more machine-readable storage devices of  claim 27 , wherein determining an initial indication of likely shock effectiveness comprises comparing the determined AMSA value to one or more predetermined AMSA thresholds, \n",
            " \n",
            " \n",
            "  29 . The one or more machine-readable storage devices of  claim 16 , further comprising identifying motion applied to the chest of the person receiving emergency medical assistance as a result of applied chest compressions, and filtering the monitored multiple parameters based on the identified motion. \n",
            " \n",
            " \n",
            "  30 . One or more machine-readable storage devices storing instructions that are executable by one or more processing devices to perform operations comprising:\n",
            " generating first information indicative of an electrocardiogram of a patient; \n",
            " generating second information indicative of a trans-thoracic impedance of the patient; \n",
            " determining a likelihood of success form delivering a defibrillating shock to the patient from the first and second information; and \n",
            " providing to a user of a defibrillator an indication of the determination of a likelihood of success. \n",
            " \n",
            " \n",
            " \n",
            "  31 . The one or more machine-readable storage devices of  claim 30 , wherein the determining comprises combining the information indicative of the electrocardiogram of the patent and the information indicative of the trans-thoracic impedance of the patient as separate inputs to a formula or look-up table.  \n",
            " \n",
            "\n"
          ],
          "name": "stdout"
        },
        {
          "output_type": "display_data",
          "data": {
            "application/javascript": [
              "window[\"59918558-14a6-11e9-90d7-0242ac1c0002\"] = google.colab.output.setActiveOutputArea(window[\"598fa18e-14a6-11e9-90d7-0242ac1c0002\"]);\n",
              "//# sourceURL=js_d87e7f097a"
            ],
            "text/plain": [
              "<IPython.core.display.Javascript object>"
            ]
          },
          "metadata": {
            "tags": [
              "id7_content_4",
              "outputarea_id7"
            ]
          }
        },
        {
          "output_type": "display_data",
          "data": {
            "application/javascript": [
              "window[\"599481ea-14a6-11e9-90d7-0242ac1c0002\"] = google.colab.output.getActiveOutputArea();\n",
              "//# sourceURL=js_ae26366195"
            ],
            "text/plain": [
              "<IPython.core.display.Javascript object>"
            ]
          },
          "metadata": {
            "tags": [
              "id7_content_5",
              "outputarea_id7"
            ]
          }
        },
        {
          "output_type": "display_data",
          "data": {
            "application/javascript": [
              "window[\"5994e464-14a6-11e9-90d7-0242ac1c0002\"] = document.querySelector(\"#id7_content_5\");\n",
              "//# sourceURL=js_70ed65758a"
            ],
            "text/plain": [
              "<IPython.core.display.Javascript object>"
            ]
          },
          "metadata": {
            "tags": [
              "id7_content_5",
              "outputarea_id7"
            ]
          }
        },
        {
          "output_type": "display_data",
          "data": {
            "application/javascript": [
              "window[\"599565ba-14a6-11e9-90d7-0242ac1c0002\"] = google.colab.output.setActiveOutputArea(window[\"5994e464-14a6-11e9-90d7-0242ac1c0002\"]);\n",
              "//# sourceURL=js_6408cf734b"
            ],
            "text/plain": [
              "<IPython.core.display.Javascript object>"
            ]
          },
          "metadata": {
            "tags": [
              "id7_content_5",
              "outputarea_id7"
            ]
          }
        },
        {
          "output_type": "display_data",
          "data": {
            "application/javascript": [
              "window[\"5995d1e4-14a6-11e9-90d7-0242ac1c0002\"] = window[\"id7\"].setSelectedTabIndex(5);\n",
              "//# sourceURL=js_f0e4132a56"
            ],
            "text/plain": [
              "<IPython.core.display.Javascript object>"
            ]
          },
          "metadata": {
            "tags": [
              "id7_content_5",
              "outputarea_id7"
            ]
          }
        },
        {
          "output_type": "stream",
          "text": [
            "\n",
            " \n",
            "  1 . A booster circuit comprising:\n",
            " a booster that connects a charged boosting condenser and a direct-current power source in series through a switch for a boosting operation to generate a boosted voltage and charges a smoothing condenser with the boosted voltage through a switch for an outputting operation, \n",
            " wherein the switch for the boosting operation is composed of a plurality of switches connected in parallel and at least one of the plurality of switches can be controlled independently. \n",
            " \n",
            " \n",
            " \n",
            "  2 . The booster circuit according to  claim 1 , wherein the switch for the boosting operation is composed of a plurality of switches connected in parallel and at least one of the plurality of switches has an ON-resistance value different from an ON-resistance value in the other switches. \n",
            " \n",
            " \n",
            "  3 . The booster circuit according to  claim 1 , further comprising a measuring component that measures a voltage of the smoothing condenser,\n",
            " wherein the boosting condenser is controlled according to a measured voltage of the smoothing condenser so that the booster circuit outputs a voltage lower than a sum of a charged voltage in the boosting condenser and a voltage of the direct-current power source. \n",
            " \n",
            " \n",
            " \n",
            "  4 . The booster circuit according to  claim 3 , wherein the switch for the boosting operation is controlled to increase a resistance value of the switch for the boosting operation when it is detected that the measured voltage becomes over a predetermined voltage. \n",
            " \n",
            " \n",
            "  5 . A booster circuit comprising:\n",
            " a boosting condenser; and \n",
            " a control circuit that switches a charging operation and a boosting operation, the charging operation is the one in which the boosting condenser is connected to a first path between a first voltage and a second voltage lower than the first voltage to charge the boosting condenser, a boosting operation is the one in which a connection destination of a lower side of the charged boosting condenser is switched from the second voltage to the first voltage or a third voltage higher than the first voltage to generate a boosted voltage at a higher side of the boosting condenser, \n",
            " wherein the control circuit varies a resistance of a boosting path that connects the lower side of the boosting condenser with the first voltage or the third voltage according to a voltage in the higher side of the boosting condenser in the boosting operation. \n",
            " \n",
            " \n",
            " \n",
            "  6 . The booster circuit according to  claim 5 , wherein when the voltage in the higher side of the boosting condenser is higher than a predetermined reference, the resistance of the boosting path is set to be larger than a resistance which is set at the time when the voltage in the higher side of the boosting condenser is lower than the predetermined reference. \n",
            " \n",
            " \n",
            "  7 . The booster circuit according to  claim 6 , further comprising:\n",
            " a first path capable of connecting the lower side of the boosting condenser selectively to the first voltage or the third voltage; and \n",
            " a second path having a resistance value larger than the first path and capable of connecting the lower side of the boosting condenser selectively to the first voltage or the third voltage, \n",
            " wherein the control circuit selects the first path when the voltage in the higher side of the boosting condenser is lower than the predetermined reference and selects the second path when the voltage in the higher side of the boosting condenser is higher than the predetermined reference. \n",
            " \n",
            " \n",
            " \n",
            "  8 . The booster circuit according to  claim 5 , further comprising:\n",
            " a first path that includes a first switch component capable of connecting the lower side of the boosting condenser selectively to the first voltage or the third voltage; and \n",
            " a second path that includes a second switch component capable of connecting connects the lower side of the boosting condenser selectively to the first voltage or the third voltage and has a resistance larger than the first path, \n",
            " wherein the control circuit can control the first switch and the second switch independently. \n",
            " \n",
            " \n",
            " \n",
            "  9 . The booster circuit according to  claim 8 , wherein the control circuit sets at least the first switch component to be ON-state when the voltage in the higher side of the boosting condenser is lower than the predetermined reference and sets the first switch component to be OFF-state and the second switch component to be ON-state when the voltage in the higher side of the boosting condenser is higher than the predetermined reference. \n",
            " \n",
            " \n",
            "  10 . The booster circuit according to  claim 8 , wherein the first and the second switch components are MOS transistors and the difference between the resistance of the first path and the second path is due to the difference between the ON-resistance of the first and the second switch components. \n",
            " \n",
            " \n",
            "  11 . The booster circuit according to  claim 5 , further comprising an adjustable resistor arranged in the boosting path,\n",
            " wherein the control circuit varies the resistance value of the adjustable resistor according to the voltage in the higher side of the boosting condenser.  \n",
            " \n",
            " \n",
            "\n"
          ],
          "name": "stdout"
        },
        {
          "output_type": "display_data",
          "data": {
            "application/javascript": [
              "window[\"599798d0-14a6-11e9-90d7-0242ac1c0002\"] = google.colab.output.setActiveOutputArea(window[\"599481ea-14a6-11e9-90d7-0242ac1c0002\"]);\n",
              "//# sourceURL=js_f24c8ed770"
            ],
            "text/plain": [
              "<IPython.core.display.Javascript object>"
            ]
          },
          "metadata": {
            "tags": [
              "id7_content_5",
              "outputarea_id7"
            ]
          }
        },
        {
          "output_type": "display_data",
          "data": {
            "application/javascript": [
              "window[\"599994fa-14a6-11e9-90d7-0242ac1c0002\"] = google.colab.output.getActiveOutputArea();\n",
              "//# sourceURL=js_376ce68d69"
            ],
            "text/plain": [
              "<IPython.core.display.Javascript object>"
            ]
          },
          "metadata": {
            "tags": [
              "id7_content_6",
              "outputarea_id7"
            ]
          }
        },
        {
          "output_type": "display_data",
          "data": {
            "application/javascript": [
              "window[\"599a0ad4-14a6-11e9-90d7-0242ac1c0002\"] = document.querySelector(\"#id7_content_6\");\n",
              "//# sourceURL=js_7d808f7bcf"
            ],
            "text/plain": [
              "<IPython.core.display.Javascript object>"
            ]
          },
          "metadata": {
            "tags": [
              "id7_content_6",
              "outputarea_id7"
            ]
          }
        },
        {
          "output_type": "display_data",
          "data": {
            "application/javascript": [
              "window[\"599a684e-14a6-11e9-90d7-0242ac1c0002\"] = google.colab.output.setActiveOutputArea(window[\"599a0ad4-14a6-11e9-90d7-0242ac1c0002\"]);\n",
              "//# sourceURL=js_ff90e86294"
            ],
            "text/plain": [
              "<IPython.core.display.Javascript object>"
            ]
          },
          "metadata": {
            "tags": [
              "id7_content_6",
              "outputarea_id7"
            ]
          }
        },
        {
          "output_type": "display_data",
          "data": {
            "application/javascript": [
              "window[\"599ae1e8-14a6-11e9-90d7-0242ac1c0002\"] = window[\"id7\"].setSelectedTabIndex(6);\n",
              "//# sourceURL=js_9d3a25166c"
            ],
            "text/plain": [
              "<IPython.core.display.Javascript object>"
            ]
          },
          "metadata": {
            "tags": [
              "id7_content_6",
              "outputarea_id7"
            ]
          }
        },
        {
          "output_type": "stream",
          "text": [
            "\n",
            " \n",
            "  1 . A semiconductor device comprising\n",
            " an active element portion; \n",
            " a pre-bond probe pad disposed on the semiconductor device and electrically isolated from the active element portion; and \n",
            " a first conductive lead coupled to the pre-bond probe pad and extending outward toward a boundary of the semiconductor device; and \n",
            " a second, separate conductive lead coupled to the active element portion and extending outward toward a boundary of the semiconductor device. \n",
            " \n",
            " \n",
            " \n",
            "  2 . A semiconductor device as defined in  claim 1  wherein the first and second conductive leads extend in opposite directions toward opposite outer boundaries of the semiconductor device. \n",
            " \n",
            " \n",
            "  3 . A semiconductor device as defined in  claim 1  wherein the first and second conductive leads extend in a same direction toward a common boundary of the semiconductor device. \n",
            " \n",
            " \n",
            "  4 . A semiconductor device as defined in  claim 3  wherein the first and second conductive leads extend toward a second semiconductor device disposed in an anti-symmetric relationship thereto. \n",
            " \n",
            " \n",
            "  5 . A semiconductor device as defined in  claim 1  wherein the pre-bond probe pad is coated with an epoxy material subsequent to pre-bond testing. \n",
            " \n",
            " \n",
            "  6 . A semiconductor device as defined in  claim 1  wherein the pre-bond probe pad is coated with an amount of solder sufficient to provide structural support to the semiconductor device in a bonded assembly. \n",
            " \n",
            " \n",
            "  7 . A semiconductor device as defined in  claim 1  wherein the device is an electronic device. \n",
            " \n",
            " \n",
            "  8 . A semiconductor device as defined in  claim 1  wherein the device is an opto-electronic device. \n",
            " \n",
            " \n",
            "  9 . A semiconductor device as defined in  claim 1  wherein the device is an optical device. \n",
            " \n",
            " \n",
            "  10 . A pre-bond testing configuration of at least a portion of a semiconductor wafer comprising\n",
            " a plurality of semiconductor devices, each including an active region to be tested; \n",
            " a plurality of test pads associated with the plurality of semiconductor devices in a one-to-one relationship, each test pad location-shifted within the pre-bond testing configuration to be disposed beyond the boundaries of its associated semiconductor device; and \n",
            " a plurality of test signal conductors, each test signal conductor coupled between a location-shifted test pad and its associated active region, wherein subsequent to testing, the portion of the semiconductor wafer is separated into individual semiconductor devices such that each test signal conductor is broken. \n",
            " \n",
            " \n",
            " \n",
            "  11 . A pre-bond testing configuration as defined in  claim 10  wherein each test pad is location shifted into an adjacent semiconductor device region on the portion of the semiconductor wafer. \n",
            " \n",
            " \n",
            "  12 . A pre-bond testing configuration as defined in  claim 11  wherein pairs of semiconductor device regions are formed in an anti-symmetric configuration such that a first test signal conductor from a first semiconductor device is coupled between a test pad on the first semiconductor device and an active region on a second semiconductor device, and a second test signal conductor from the second semiconductor device is coupled between a test pad on the second semiconductor device and an active region on the first semiconductor device. \n",
            " \n",
            " \n",
            "  13 . A pre-bond testing configuration as defined in  claim 12  wherein for each individual device, the test pad located within the boundaries of the individual device is electrically isolated from the active region located therein. \n",
            " \n",
            " \n",
            "  14 . A pre-bond testing configuration as defined in  claim 10  wherein each test pad is location-shifted into a vacant area of the portion of the semiconductor wafer. \n",
            " \n",
            " \n",
            "  15 . A semiconductor wafer including location-shifted probe pads, the wafer comprising\n",
            " a plurality of semiconductor devices formed in defined regions across a surface of the semiconductor wafer, each semiconductor device including at least one active element to be tested in a multi-device system, the semiconductor wafer formed such that a probe pad for testing an active element in a first semiconductor device formed in a first region is location-shifted to be disposed outside of the first region into a second region on the semiconductor wafer, and further including a plurality of electrical leads coupled between the probe pads and the active elements of the plurality of semiconductor devices. \n",
            " \n",
            " \n",
            " \n",
            "  16 . A semiconductor wafer as defined in  claim 15  wherein a probe pad for testing an active element of a first semiconductor device is disposed within a second semiconductor device region, with an electrical lead between the probe pad and the active element crossing an interface between the first semiconductor device region and the second semiconductor device region. \n",
            " \n",
            " \n",
            "  17 . A semiconductor wafer as defined in  claim 15  wherein a probe pad for testing an active element of a first semiconductor device is disposed within a vacant region on the semiconductor wafer, with an electrical lead between the probe pad and the active element crossing an interface between the first semiconductor device region and the vacant region. \n",
            " \n",
            " \n",
            "  18 . A semiconductor wafer as defined in  claim 15  wherein pairs of semiconductor device regions are formed in an anti-symmetric configuration such that a first test signal conductor from a first semiconductor device is coupled between a test pad on the first semiconductor device and an active region on a second semiconductor device, and a second test signal conductor from the second semiconductor device is coupled between a test pad on the second semiconductor device and an active region on the first semiconductor device. \n",
            " \n",
            " \n",
            "  19 . A semiconductor wafer as defined in  claim 15  wherein pairs of semiconductor device regions are formed in an anti-symmetric configuration with a vacant region disposed therebetween such that a first test signal conductor from an active region of a first semiconductor device of a pair of semiconductor device regions is coupled to a first test pad in the vacant region, and a second test signal conductor from an active region of the second semiconductor device of the pair of semiconductor device regions is coupled to a second test pad in the vacant region. \n",
            " \n",
            " \n",
            "  20 . A semiconductor wafer as defined in  claim 15  wherein the semiconductor wafer comprises a silicon wafer.  \n",
            " \n",
            "\n"
          ],
          "name": "stdout"
        },
        {
          "output_type": "display_data",
          "data": {
            "application/javascript": [
              "window[\"599c303e-14a6-11e9-90d7-0242ac1c0002\"] = google.colab.output.setActiveOutputArea(window[\"599994fa-14a6-11e9-90d7-0242ac1c0002\"]);\n",
              "//# sourceURL=js_db8687226f"
            ],
            "text/plain": [
              "<IPython.core.display.Javascript object>"
            ]
          },
          "metadata": {
            "tags": [
              "id7_content_6",
              "outputarea_id7"
            ]
          }
        },
        {
          "output_type": "display_data",
          "data": {
            "application/javascript": [
              "window[\"599dbf12-14a6-11e9-90d7-0242ac1c0002\"] = google.colab.output.getActiveOutputArea();\n",
              "//# sourceURL=js_b91a2051b3"
            ],
            "text/plain": [
              "<IPython.core.display.Javascript object>"
            ]
          },
          "metadata": {
            "tags": [
              "id7_content_7",
              "outputarea_id7"
            ]
          }
        },
        {
          "output_type": "display_data",
          "data": {
            "application/javascript": [
              "window[\"599e0404-14a6-11e9-90d7-0242ac1c0002\"] = document.querySelector(\"#id7_content_7\");\n",
              "//# sourceURL=js_ae5d93cd73"
            ],
            "text/plain": [
              "<IPython.core.display.Javascript object>"
            ]
          },
          "metadata": {
            "tags": [
              "id7_content_7",
              "outputarea_id7"
            ]
          }
        },
        {
          "output_type": "display_data",
          "data": {
            "application/javascript": [
              "window[\"599e6af2-14a6-11e9-90d7-0242ac1c0002\"] = google.colab.output.setActiveOutputArea(window[\"599e0404-14a6-11e9-90d7-0242ac1c0002\"]);\n",
              "//# sourceURL=js_4cc684427f"
            ],
            "text/plain": [
              "<IPython.core.display.Javascript object>"
            ]
          },
          "metadata": {
            "tags": [
              "id7_content_7",
              "outputarea_id7"
            ]
          }
        },
        {
          "output_type": "display_data",
          "data": {
            "application/javascript": [
              "window[\"599eb052-14a6-11e9-90d7-0242ac1c0002\"] = window[\"id7\"].setSelectedTabIndex(7);\n",
              "//# sourceURL=js_cbe5265a32"
            ],
            "text/plain": [
              "<IPython.core.display.Javascript object>"
            ]
          },
          "metadata": {
            "tags": [
              "id7_content_7",
              "outputarea_id7"
            ]
          }
        },
        {
          "output_type": "stream",
          "text": [
            "\n",
            " \n",
            "  1 . A terminal device including a display section and an operating section, which is capable of running a plurality of functions including an audio-related function in parallel, comprising:\n",
            " an operation detecting means for detecting a user operation; \n",
            " a storage means for storing the user operation detected by the operation detecting means in association with an operation related to the audio-related function; \n",
            " an operation state judging means for judging whether or not the audio-related function is running in background processing in parallel with a function running in foreground processing; and \n",
            " a controlling means for, when the operating state judging means judges that the audio-related function is running in the background processing, assigning an operation by the operating section to the function running in the foreground processing while assigning the user operation detected by the operation detecting means to the audio-related function, and performing, when the operation detecting means detects a user operation, control such that the operation related to the audio-related function stored in the storage means in association with the user operation is performed. \n",
            " \n",
            " \n",
            " \n",
            "  2 . The terminal device according to  claim 1 , wherein when the operation state judging means judges that the audio-related function is running in the background processing, the controlling means assigns display by the display section and operations by the operating section to the function running in the foreground processing. \n",
            " \n",
            " \n",
            "  3 . The terminal device according to  claim 1 , wherein the operation detecting means detects, as a user operation, a coordinate input operation in which a coordinate position on the display section is inputted. \n",
            " \n",
            " \n",
            "  4 . The terminal device according to  claim 3 , further comprising:\n",
            " an operating section status judging means for judging whether or not the operating section is in a usable state; \n",
            " wherein when the operating section status judging means judges that the operating section is not in the usable state, the controlling means assigns a coordinate input operation detected by the operation detecting means to the function running in the foreground processing regardless of whether or not the operation state judging means judges that the audio-related function is running in the background processing. \n",
            " \n",
            " \n",
            " \n",
            "  5 . The terminal device according to  claim 4 , wherein when the operating section status judging means judges, in a situation where an operating screen used for a function running in foreground processing has been provided in a portion of the display section, that the operating section is not in usable state, the controlling means assigns a coordinate input operation detected by the operation detecting means which is performed on the operating screen to the function running in the foreground processing, and assigns a coordinate input operation detected by the operation detecting means which is performed on another portion of the display section to the audio-related function running in the background processing. \n",
            " \n",
            " \n",
            "  6 . The terminal device according to  claim 3 , wherein the operation detecting means detects a touch operation performed on a touch screen including the display section and a coordinate position detecting section as a user operation, and the controlling means assigns the touch operation performed on the touch screen to the audio-related function. \n",
            " \n",
            " \n",
            "  7 . The terminal device according to  claim 1 , wherein the operation detecting means analyzes a taken image of a user, and detects the analysis result as a user operation. \n",
            " \n",
            " \n",
            "  8 . The terminal device according to  claim 1 , wherein the operation detecting means recognizes collected voice from a user, and detects the recognition result as a user operation. \n",
            " \n",
            " \n",
            "  9 . The terminal device according to  claim 1 , wherein when a device main body is swung, the operation detecting means detects the swing operation as a user operation. \n",
            " \n",
            " \n",
            "  10 . A computer-readable storage medium having a program stored thereon that is executable by a computer to perform a process comprising:\n",
            " parallel processing for processing a plurality of functions including an audio-related function in parallel; \n",
            " operation detection processing for detecting a user operation; \n",
            " storage processing for storing and managing the detected user operation in association with an operation related to the audio-related function; \n",
            " operation state judgment processing for judging whether or not the audio-related function is running in background processing in parallel with a function running in a foreground process; and \n",
            " control processing for, when the audio-related function is judged to be running in the background processing, assigning an operation by an operating section to the function running in the foreground process while assigning the detected user operation to the audio-related function, and performing, when a user operation is detected, control such that the operation related to the audio-related function stored in association with the user operation is performed. \n",
            " \n",
            " \n",
            "\n"
          ],
          "name": "stdout"
        },
        {
          "output_type": "display_data",
          "data": {
            "application/javascript": [
              "window[\"599fbec0-14a6-11e9-90d7-0242ac1c0002\"] = google.colab.output.setActiveOutputArea(window[\"599dbf12-14a6-11e9-90d7-0242ac1c0002\"]);\n",
              "//# sourceURL=js_243748c0cd"
            ],
            "text/plain": [
              "<IPython.core.display.Javascript object>"
            ]
          },
          "metadata": {
            "tags": [
              "id7_content_7",
              "outputarea_id7"
            ]
          }
        },
        {
          "output_type": "display_data",
          "data": {
            "application/javascript": [
              "window[\"59a108d4-14a6-11e9-90d7-0242ac1c0002\"] = google.colab.output.getActiveOutputArea();\n",
              "//# sourceURL=js_51edb24506"
            ],
            "text/plain": [
              "<IPython.core.display.Javascript object>"
            ]
          },
          "metadata": {
            "tags": [
              "id7_content_8",
              "outputarea_id7"
            ]
          }
        },
        {
          "output_type": "display_data",
          "data": {
            "application/javascript": [
              "window[\"59a14a2e-14a6-11e9-90d7-0242ac1c0002\"] = document.querySelector(\"#id7_content_8\");\n",
              "//# sourceURL=js_0408f89067"
            ],
            "text/plain": [
              "<IPython.core.display.Javascript object>"
            ]
          },
          "metadata": {
            "tags": [
              "id7_content_8",
              "outputarea_id7"
            ]
          }
        },
        {
          "output_type": "display_data",
          "data": {
            "application/javascript": [
              "window[\"59a194ca-14a6-11e9-90d7-0242ac1c0002\"] = google.colab.output.setActiveOutputArea(window[\"59a14a2e-14a6-11e9-90d7-0242ac1c0002\"]);\n",
              "//# sourceURL=js_7c62b46c4b"
            ],
            "text/plain": [
              "<IPython.core.display.Javascript object>"
            ]
          },
          "metadata": {
            "tags": [
              "id7_content_8",
              "outputarea_id7"
            ]
          }
        },
        {
          "output_type": "display_data",
          "data": {
            "application/javascript": [
              "window[\"59a1e114-14a6-11e9-90d7-0242ac1c0002\"] = window[\"id7\"].setSelectedTabIndex(8);\n",
              "//# sourceURL=js_cef3af15ec"
            ],
            "text/plain": [
              "<IPython.core.display.Javascript object>"
            ]
          },
          "metadata": {
            "tags": [
              "id7_content_8",
              "outputarea_id7"
            ]
          }
        },
        {
          "output_type": "stream",
          "text": [
            "\n",
            " \n",
            "  1 . A catheter for reducing emboli formation after a medical procedure, comprising:\n",
            " an elongate shaft member having a proximal end and a distal end; \n",
            " a first expandable member movable between a first collapsed position and a second expanded position, the first expandable member associated with the elongated shaft member, the first expandable member disposed proximal to the distal end of the shaft member; \n",
            " a second expandable member movable between a first collapsed position and a second expanded position, the second expandable member associated with the elongated shaft, the second expandable member disposed between the first expandable member and the distal end of the shaft; and \n",
            " a sheath disposed at least partially about the second expandable member. \n",
            " \n",
            " \n",
            " \n",
            "  2 . The catheter of  claim 1 , wherein the sheath has a proximal end and a distal end, the proximal end associated with the first expandable member. \n",
            " \n",
            " \n",
            "  3 . The catheter of  claim 1 , wherein the first expandable member is an inflatable balloon. \n",
            " \n",
            " \n",
            "  4 . The catheter of  claim 2 , wherein the sheath moves proximally, thereby uncovering the second expandable member, when the first expandable member moves from the first collapsed position to the second expanded position. \n",
            " \n",
            " \n",
            "  5 . The catheter of  claim 1 , wherein the second expandable member includes at least one member constructed of a superelastic material. \n",
            " \n",
            " \n",
            "  6 . The catheter of  claim 1 , wherein the second expandable member includes at least one pore formed therethrough. \n",
            " \n",
            " \n",
            "  7 . The catheter of  claim 1 , wherein the second expandable member includes a frame. \n",
            " \n",
            " \n",
            "  8 . The catheter of  claim 7 , wherein the frame is constructed of an elastic material. \n",
            " \n",
            " \n",
            "  9 . The catheter of  claim 8 , wherein the elastic material is metal. \n",
            " \n",
            " \n",
            "  10 . The catheter of  claim 7 , wherein the frame is constructed of superelastic Nitinol. \n",
            " \n",
            " \n",
            "  11 . A method for reducing emboli formation, comprising:\n",
            " inserting an embolic protection device within a lumen distal to an area of treatment, the embolic protection device including a guidewire \n",
            " causing the embolic protection device to expand from a collapsed configuration to an expanded configuration; \n",
            " passing a medical device over the guidewire and performing a medical procedure in the area of treatment within the lumen adjacent to the embolic protection device; \n",
            " removing the medical device from the guidewire; \n",
            " passing a catheter over the guidewire, the catheter including first and second expandable members associated with the catheter, expanding the first expandable member thereby causing the second expandable member to expand; \n",
            " unexpanding the first expandable member and moving the catheter proximally from the area of treatment, thereby causing material extending into the vessel to be removed by the expanded second expandable member; and \n",
            " retrieving the embolic protection device from the lumen. \n",
            " \n",
            " \n",
            " \n",
            "  12 . The method according to  claim 6 , wherein the first expandable member is an inflatable balloon. \n",
            " \n",
            " \n",
            "  13 . The method according to  claim 6 , wherein the medical procedure is deploying a stent in the area to be treated. \n",
            " \n",
            " \n",
            "  14 . The method according to  claim 6 , wherein the medical treatment is balloon angioplasty. \n",
            " \n",
            " \n",
            "  15 . The method according to  claim 6 , wherein the embolic protection device is retrieved into a lumen of the catheter.  \n",
            " \n",
            "\n"
          ],
          "name": "stdout"
        },
        {
          "output_type": "display_data",
          "data": {
            "application/javascript": [
              "window[\"59a2f28e-14a6-11e9-90d7-0242ac1c0002\"] = google.colab.output.setActiveOutputArea(window[\"59a108d4-14a6-11e9-90d7-0242ac1c0002\"]);\n",
              "//# sourceURL=js_7f14fac34a"
            ],
            "text/plain": [
              "<IPython.core.display.Javascript object>"
            ]
          },
          "metadata": {
            "tags": [
              "id7_content_8",
              "outputarea_id7"
            ]
          }
        },
        {
          "output_type": "display_data",
          "data": {
            "application/javascript": [
              "window[\"59a47622-14a6-11e9-90d7-0242ac1c0002\"] = google.colab.output.getActiveOutputArea();\n",
              "//# sourceURL=js_d341463874"
            ],
            "text/plain": [
              "<IPython.core.display.Javascript object>"
            ]
          },
          "metadata": {
            "tags": [
              "id7_content_9",
              "outputarea_id7"
            ]
          }
        },
        {
          "output_type": "display_data",
          "data": {
            "application/javascript": [
              "window[\"59a4d2c0-14a6-11e9-90d7-0242ac1c0002\"] = document.querySelector(\"#id7_content_9\");\n",
              "//# sourceURL=js_bcaea514d4"
            ],
            "text/plain": [
              "<IPython.core.display.Javascript object>"
            ]
          },
          "metadata": {
            "tags": [
              "id7_content_9",
              "outputarea_id7"
            ]
          }
        },
        {
          "output_type": "display_data",
          "data": {
            "application/javascript": [
              "window[\"59a52428-14a6-11e9-90d7-0242ac1c0002\"] = google.colab.output.setActiveOutputArea(window[\"59a4d2c0-14a6-11e9-90d7-0242ac1c0002\"]);\n",
              "//# sourceURL=js_08ba89c655"
            ],
            "text/plain": [
              "<IPython.core.display.Javascript object>"
            ]
          },
          "metadata": {
            "tags": [
              "id7_content_9",
              "outputarea_id7"
            ]
          }
        },
        {
          "output_type": "display_data",
          "data": {
            "application/javascript": [
              "window[\"59a57568-14a6-11e9-90d7-0242ac1c0002\"] = window[\"id7\"].setSelectedTabIndex(9);\n",
              "//# sourceURL=js_2ce1d61883"
            ],
            "text/plain": [
              "<IPython.core.display.Javascript object>"
            ]
          },
          "metadata": {
            "tags": [
              "id7_content_9",
              "outputarea_id7"
            ]
          }
        },
        {
          "output_type": "stream",
          "text": [
            "\n",
            " \n",
            "  1 . A retention member comprising:\n",
            " a plurality of inwardly curved blocking tab sections connected to each other by outwardly curved connecting sections, and \n",
            " arm sections at each end of the retention member; \n",
            " wherein the arm sections are spaced apart from each other. \n",
            " \n",
            " \n",
            " \n",
            "  2 . The retention member of  claim 1  wherein said bone anchor member comprises a head portion and a threaded shank portion, and one or more of the inwardly curved blocking tab sections are configured and dimensioned to cover a portion of the top surface of a bone anchor member. \n",
            " \n",
            " \n",
            "  3 . The retention member of  claim 2  wherein first and second inwardly curved blocking tab sections cover portions of the bone anchor member and prevent longitudinal movement of the bone anchor member. \n",
            " \n",
            " \n",
            "  4 . The retention member of  claim 3  wherein the first and second inwardly curved blocking tab sections cover portions of the bone anchor member and resist screw removal when a range of 4-7 inch pounds removal force is applied to the bone anchor member. \n",
            " \n",
            " \n",
            "  5 . The retention member of  claim 3  wherein the retention member further comprises a third inwardly curved blocking tab section, the third inwardly curved blocking tab section configured and dimensioned to cover a third portion of the head of the bone anchor member \n",
            " \n",
            " \n",
            "  6 . The retention member of  claim 5  wherein the retention member with first, second and third inwardly curved blocking tab sections prevents longitudinal movement of the bone anchor member when a removal force in the range of 8-11 inch pounds is applied to the bone anchor member. \n",
            " \n",
            " \n",
            "  7 . The retention member of  claim 1  wherein the plurality of inwardly curved blocking tab sections further comprise first, second and third inwardly curved blocking tab sections configured to cover portions of the head portion of said bone anchor member at approximately 15 degrees, 345 degrees and 180 degrees, respectively. \n",
            " \n",
            " \n",
            "  8 . The retention member of  claim 1  wherein the outwardly curved connecting sections connect the inwardly curved blocking tab sections and the arms sections such that a generally round shape is created. \n",
            " \n",
            " \n",
            "  9 . The retention member of  claim 8  further comprising:\n",
            " a plate member, having a top and bottom surface and \n",
            " a bone anchor member; \n",
            " wherein the plate member comprises at least one orifice, and \n",
            " said retention member is captured inside said orifice and \n",
            " the bone anchor member is inserted at least partially through said orifice. \n",
            " \n",
            " \n",
            " \n",
            "  10 . A device comprising:\n",
            " a plate member, having a top surface and a bottom surface and at least one orifice extending from the top surface to the bottom surface, the orifice including an annular recess containing a retention member, the retention member having a plurality of inwardly curved blocking tab sections extending into the orifice, and \n",
            " a bone fixation member; \n",
            " wherein, when the bone fixation member is inserted into the orifice the blocking tab sections overlie the bone fixation member at a plurality of points. \n",
            " \n",
            " \n",
            " \n",
            "  11 . The device in accordance with  claim 10  wherein the bone fixation member comprises a head portion and a threaded shank portion, the head portion being retained in the orifice by the retention member. \n",
            " \n",
            " \n",
            "  12 . The device in accordance with  claim 11  wherein the inwardly curved blocking tab sections extending into the orifice cover at least a portion of the head of the bone fixation member and prevent longitudinal movement of the bone fixation member. \n",
            " \n",
            " \n",
            "  13 . The device in accordance with  claim 12  wherein the torque limit of the retention member is in the range of 4-11 inch-pounds. \n",
            " \n",
            " \n",
            "  14 . The device in accordance with  claim 10  wherein the retention member further includes outwardly curved connecting portions connecting the inwardly curved tab sections, and two opposed arm sections spaced apart from each other and defining a gap therebetween. \n",
            " \n",
            " \n",
            "  15 . The device in accordance with  claim 11  wherein at least a portion of the retention member covers at least a portion of the head of the bone fixation member and prevents longitudinal movement of the bone fixation member. \n",
            " \n",
            " \n",
            "  16 . A device in accordance with  claim 10  wherein the plurality of inwardly curved blocking tab portions comprise first, second and third blocking tab sections. \n",
            " \n",
            " \n",
            "  17 . The device in accordance with  claim 16  wherein the first, second and third blocking tab sections cover the bone fixation member at 15 degrees, 345 degrees and 180 degrees, respectively. \n",
            " \n",
            " \n",
            "  18 . A method of attaching a vertebral plate comprising:\n",
            " positioning a plate against the vertebra, wherein the plate contains a top surface and a bottom surface and at least one orifice, the orifice having a retention member recess containing a retention member having a plurality of inwardly curved blocking tab sections extending into the orifice in a first state; \n",
            " inserting a bone anchor having a head portion and a threaded shank portion least partially through said orifice until the shank portion engages vertebral bone and the head portion passes the retention member, causing the inwardly curved tab portions to move to a second, deflected position to permit the head to enter the orifice and then return to the first position such that the inwardly curved blocking tab portions capture the head of the bone anchor prevent the head from backing out of the orifice. \n",
            " \n",
            " \n",
            " \n",
            "  19 . The method of  claim 18  wherein the retention member has first, second and third inwardly curved blocking tab sections and the step of inserting a bone anchor further comprises inserting the bone anchor through the orifice until the head portion passes the first, second and third inwardly curved blocking tab sections so that the first, second and third inwardly curved blocking tab sections cover portions of the head portion to capture the head portion and prevent the bone anchor from backing out of the orifice. \n",
            " \n",
            "\n"
          ],
          "name": "stdout"
        },
        {
          "output_type": "display_data",
          "data": {
            "application/javascript": [
              "window[\"59a68dea-14a6-11e9-90d7-0242ac1c0002\"] = google.colab.output.setActiveOutputArea(window[\"59a47622-14a6-11e9-90d7-0242ac1c0002\"]);\n",
              "//# sourceURL=js_2f3601a09c"
            ],
            "text/plain": [
              "<IPython.core.display.Javascript object>"
            ]
          },
          "metadata": {
            "tags": [
              "id7_content_9",
              "outputarea_id7"
            ]
          }
        }
      ]
    },
    {
      "metadata": {
        "id": "V8OTh9iljZOy",
        "colab_type": "code",
        "colab": {
          "base_uri": "https://localhost:8080/",
          "height": 108
        },
        "outputId": "d71dd310-b3ca-42bc-ffbc-a78a02fed9eb"
      },
      "cell_type": "code",
      "source": [
        "#@title 検索する出願のインデックス（上記タブの0から9番目のどれか）を選ぶ { run: \"auto\", vertical-output: true }\n",
        "\n",
        "target_claim_index = \"7\" #@param [0, 1, 2, 3, 4, 5, 6, 7, 8, 9]\n",
        "\n",
        "# Selected result becomes string...\n",
        "target_claim_idx = int(target_claim_index)\n",
        "print(\"target app: {}\".format(app_ids[target_claim_idx]))\n",
        "target_claim = whole_xml_to_claim(sampled_apps[\"xml\"].values[target_claim_idx])\n",
        "print(\"claim: {}...\".format(target_claim[0:100]))"
      ],
      "execution_count": 183,
      "outputs": [
        {
          "output_type": "stream",
          "text": [
            "target app: 12564725\n",
            "claim: \n",
            " \n",
            "  1 . A terminal device including a display section and an operating section, which is capable of...\n"
          ],
          "name": "stdout"
        }
      ]
    },
    {
      "metadata": {
        "id": "Jg-NxBHMkTLh",
        "colab_type": "code",
        "colab": {
          "resources": {
            "http://localhost:8080/nbextensions/google.colab/tabbar.css": {
              "data": "Lmdvb2ctdGFie3Bvc2l0aW9uOnJlbGF0aXZlO3BhZGRpbmc6NHB4IDhweDtjb2xvcjojMDBjO3RleHQtZGVjb3JhdGlvbjp1bmRlcmxpbmU7Y3Vyc29yOmRlZmF1bHR9Lmdvb2ctdGFiLWJhci10b3AgLmdvb2ctdGFie21hcmdpbjoxcHggNHB4IDAgMDtib3JkZXItYm90dG9tOjA7ZmxvYXQ6bGVmdH0uZ29vZy10YWItYmFyLXRvcDphZnRlciwuZ29vZy10YWItYmFyLWJvdHRvbTphZnRlcntjb250ZW50OiIgIjtkaXNwbGF5OmJsb2NrO2hlaWdodDowO2NsZWFyOmJvdGg7dmlzaWJpbGl0eTpoaWRkZW59Lmdvb2ctdGFiLWJhci1ib3R0b20gLmdvb2ctdGFie21hcmdpbjowIDRweCAxcHggMDtib3JkZXItdG9wOjA7ZmxvYXQ6bGVmdH0uZ29vZy10YWItYmFyLXN0YXJ0IC5nb29nLXRhYnttYXJnaW46MCAwIDRweCAxcHg7Ym9yZGVyLXJpZ2h0OjB9Lmdvb2ctdGFiLWJhci1lbmQgLmdvb2ctdGFie21hcmdpbjowIDFweCA0cHggMDtib3JkZXItbGVmdDowfS5nb29nLXRhYi1ob3ZlcntiYWNrZ3JvdW5kOiNlZWV9Lmdvb2ctdGFiLWRpc2FibGVke2NvbG9yOiM2NjZ9Lmdvb2ctdGFiLXNlbGVjdGVke2NvbG9yOiMwMDA7YmFja2dyb3VuZDojZmZmO3RleHQtZGVjb3JhdGlvbjpub25lO2ZvbnQtd2VpZ2h0OmJvbGQ7Ym9yZGVyOjFweCBzb2xpZCAjNmI5MGRhfS5nb29nLXRhYi1iYXItdG9we3BhZGRpbmctdG9wOjVweCFpbXBvcnRhbnQ7cGFkZGluZy1sZWZ0OjVweCFpbXBvcnRhbnQ7Ym9yZGVyLWJvdHRvbToxcHggc29saWQgIzZiOTBkYSFpbXBvcnRhbnR9Lmdvb2ctdGFiLWJhci10b3AgLmdvb2ctdGFiLXNlbGVjdGVke3RvcDoxcHg7bWFyZ2luLXRvcDowO3BhZGRpbmctYm90dG9tOjVweH0uZ29vZy10YWItYmFyLWJvdHRvbSAuZ29vZy10YWItc2VsZWN0ZWR7dG9wOi0xcHg7bWFyZ2luLWJvdHRvbTowO3BhZGRpbmctdG9wOjVweH0uZ29vZy10YWItYmFyLXN0YXJ0IC5nb29nLXRhYi1zZWxlY3RlZHtsZWZ0OjFweDttYXJnaW4tbGVmdDowO3BhZGRpbmctcmlnaHQ6OXB4fS5nb29nLXRhYi1iYXItZW5kIC5nb29nLXRhYi1zZWxlY3RlZHtsZWZ0Oi0xcHg7bWFyZ2luLXJpZ2h0OjA7cGFkZGluZy1sZWZ0OjlweH0uZ29vZy10YWItYmFye21hcmdpbjowO2JvcmRlcjowO3BhZGRpbmc6MDtsaXN0LXN0eWxlOm5vbmU7Y3Vyc29yOmRlZmF1bHQ7b3V0bGluZTpub25lO2JhY2tncm91bmQ6I2ViZWZmOX0uZ29vZy10YWItYmFyLWNsZWFye2NsZWFyOmJvdGg7aGVpZ2h0OjA7b3ZlcmZsb3c6aGlkZGVufS5nb29nLXRhYi1iYXItc3RhcnR7ZmxvYXQ6bGVmdH0uZ29vZy10YWItYmFyLWVuZHtmbG9hdDpyaWdodH0qIGh0bWwgLmdvb2ctdGFiLWJhci1zdGFydHttYXJnaW4tcmlnaHQ6LTNweH0qIGh0bWwgLmdvb2ctdGFiLWJhci1lbmR7bWFyZ2luLWxlZnQ6LTNweH0=",
              "ok": true,
              "headers": [
                [
                  "content-length",
                  "1394"
                ],
                [
                  "content-type",
                  "text/css"
                ]
              ],
              "status": 200,
              "status_text": ""
            },
            "http://localhost:8080/nbextensions/google.colab/tabbar_main.min.js": {
              "data": "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",
              "ok": true,
              "headers": [
                [
                  "content-type",
                  "application/javascript"
                ]
              ],
              "status": 200,
              "status_text": ""
            }
          },
          "base_uri": "https://localhost:8080/",
          "height": 1808
        },
        "outputId": "f2f954ea-919a-4f4d-cf2c-7e7b1ea3f75b"
      },
      "cell_type": "code",
      "source": [
        "target_claim_ids = tuple(claim_to_ids(target_claim))\n",
        "pairs = [(target_claim_ids, grants_claim) for grants_claim in grants_ids_tup]\n",
        "fdicts = feature_tuplist_to_feature_dict([fast_convert_single_pair(tup[0], tup[1]) for tup in pairs])\n",
        "\n",
        "# The below line takes about 40 seconds\n",
        "results = predict_fdicts(fdicts)\n",
        "\n",
        "results_df = results_to_result_df(results)\n",
        "show_candidates(results_df, app_ids[target_claim_idx])"
      ],
      "execution_count": 191,
      "outputs": [
        {
          "output_type": "stream",
          "text": [
            "2019-01-10 07:55:24.358031\n",
            "2019-01-10 07:55:57.876000\n",
            "Show 10 most probable candidate for app(12564725)\n"
          ],
          "name": "stdout"
        },
        {
          "output_type": "display_data",
          "data": {
            "text/html": [
              "<link rel=stylesheet type=text/css href='/nbextensions/google.colab/tabbar.css'></link>"
            ],
            "text/plain": [
              "<IPython.core.display.HTML object>"
            ]
          },
          "metadata": {
            "tags": [
              "outputarea_id14"
            ]
          }
        },
        {
          "output_type": "display_data",
          "data": {
            "text/html": [
              "<script src='/nbextensions/google.colab/tabbar_main.min.js'></script>"
            ],
            "text/plain": [
              "<IPython.core.display.HTML object>"
            ]
          },
          "metadata": {
            "tags": [
              "outputarea_id14"
            ]
          }
        },
        {
          "output_type": "display_data",
          "data": {
            "text/html": [
              "<div id=\"id14\"></div>"
            ],
            "text/plain": [
              "<IPython.core.display.HTML object>"
            ]
          },
          "metadata": {
            "tags": [
              "outputarea_id14"
            ]
          }
        },
        {
          "output_type": "display_data",
          "data": {
            "application/javascript": [
              "window[\"2a0f2b6c-14ad-11e9-90d7-0242ac1c0002\"] = colab_lib.createTabBar({\"location\": \"top\", \"elementId\": \"id14\", \"tabNames\": [\"6968364:0.999905\", \"7016908:0.999904\", \"7463816:0.999902\", \"6882866:0.999900\", \"8073951:0.999899\", \"7429932:0.999899\", \"8301948:0.999899\", \"7882258:0.999896\", \"7015894:0.999896\", \"7805052:0.999894\"], \"initialSelection\": 0, \"contentBorder\": [\"0px\"], \"contentHeight\": [\"initial\"], \"borderColor\": [\"#a7a7a7\"]});\n",
              "//# sourceURL=js_57a9714ee4"
            ],
            "text/plain": [
              "<IPython.core.display.Javascript object>"
            ]
          },
          "metadata": {
            "tags": [
              "outputarea_id14"
            ]
          }
        },
        {
          "output_type": "display_data",
          "data": {
            "application/javascript": [
              "window[\"2a0f75ea-14ad-11e9-90d7-0242ac1c0002\"] = window[\"id14\"].setSelectedTabIndex(0);\n",
              "//# sourceURL=js_7ed65eb0df"
            ],
            "text/plain": [
              "<IPython.core.display.Javascript object>"
            ]
          },
          "metadata": {
            "tags": [
              "outputarea_id14"
            ]
          }
        },
        {
          "output_type": "display_data",
          "data": {
            "application/javascript": [
              "window[\"2a11c610-14ad-11e9-90d7-0242ac1c0002\"] = google.colab.output.getActiveOutputArea();\n",
              "//# sourceURL=js_4d881a7ab7"
            ],
            "text/plain": [
              "<IPython.core.display.Javascript object>"
            ]
          },
          "metadata": {
            "tags": [
              "id14_content_0",
              "outputarea_id14"
            ]
          }
        },
        {
          "output_type": "display_data",
          "data": {
            "application/javascript": [
              "window[\"2a12148a-14ad-11e9-90d7-0242ac1c0002\"] = document.querySelector(\"#id14_content_0\");\n",
              "//# sourceURL=js_3b5cd9b45e"
            ],
            "text/plain": [
              "<IPython.core.display.Javascript object>"
            ]
          },
          "metadata": {
            "tags": [
              "id14_content_0",
              "outputarea_id14"
            ]
          }
        },
        {
          "output_type": "display_data",
          "data": {
            "application/javascript": [
              "window[\"2a127eb6-14ad-11e9-90d7-0242ac1c0002\"] = google.colab.output.setActiveOutputArea(window[\"2a12148a-14ad-11e9-90d7-0242ac1c0002\"]);\n",
              "//# sourceURL=js_7b94a0633e"
            ],
            "text/plain": [
              "<IPython.core.display.Javascript object>"
            ]
          },
          "metadata": {
            "tags": [
              "id14_content_0",
              "outputarea_id14"
            ]
          }
        },
        {
          "output_type": "display_data",
          "data": {
            "application/javascript": [
              "window[\"2a12c484-14ad-11e9-90d7-0242ac1c0002\"] = window[\"id14\"].setSelectedTabIndex(0);\n",
              "//# sourceURL=js_d20b7dd246"
            ],
            "text/plain": [
              "<IPython.core.display.Javascript object>"
            ]
          },
          "metadata": {
            "tags": [
              "id14_content_0",
              "outputarea_id14"
            ]
          }
        },
        {
          "output_type": "stream",
          "text": [
            "\n",
            " \n",
            " 1. A system to facilitate selection of at least one of an audio and visual program, comprising:\n",
            " a first computer operative to connect to a second computer for filtering through a plurality of at least one of audio and visual programs based on selection criteria to provide a filtered representation of programs; \n",
            " wherein a program from the filtered representation of programs is selectable at the first computer so as to cause a token indicative of the selected program to be assigned to a recipient, the token comprises an XML formatted packet of data with a schema that identifies the selected program to enable the recipient to program a recording system to record the program represented by the token in response to receiving the token by converting the token into scheduling data based in part on at least one of stored profile data of the recording system and program information, the scheduling data is in a format usable by the recording system. \n",
            " \n",
            " \n",
            " \n",
            " 2. The system of  claim 1 , wherein the first computer is operative to provide a signal to the second computer for selecting at least one program from the filtered representation of programs, at least one token for the selected at least one program being provided to the recipient in response to initiating a send process at the second computer. \n",
            " \n",
            " \n",
            " 3. The system of  claim 2 , wherein the token is sent to the recipient as part of a message. \n",
            " \n",
            " \n",
            " 4. The system of  claim 3 , wherein the message is a text email message, the token being operatively associated with the email message. \n",
            " \n",
            " \n",
            " 5. The system of  claim 4 , wherein the token is an attachment to the email message. \n",
            " \n",
            " \n",
            " 6. The system of  claim 1 , wherein a message and the token are provided to the recipient from the second computer. \n",
            " \n",
            " \n",
            " 7. The system of  claim 6 , wherein the recipient is provided the token from the second computer in response to the recipient connecting to the second computer. \n",
            " \n",
            " \n",
            " 8. The system of  claim 1 , wherein a message and the token are provided to the recipient from the first computer. \n",
            " \n",
            " \n",
            " 9. The system of  claim 8 , wherein the recipient is provided the token from the first computer in response to the recipient connecting to the first computer. \n",
            " \n",
            " \n",
            " 10. The system of  claim 1 , wherein the first computer is a server having an associated database including at least some of the plurality of programs, the server searching providing results including the programs substantially matching the selection criteria. \n",
            " \n",
            " \n",
            " 11. The system of  claim 1 , wherein the token includes a universal program identifier for the program. \n",
            " \n",
            " \n",
            " 12. The system of  claim 1 , wherein the selection criteria is provided at the first computer and employed by the second computer to provide the filtered representation of programs. \n",
            " \n",
            " \n",
            " 13. The system of  claim 1 , wherein the selection criteria is established at the second computer and employed to provide the filtered representation of programs. \n",
            " \n",
            " \n",
            " 14. A system to facilitate selection of at least one of an audio and visual program, comprising:\n",
            " a first computer programmed to provide a first signal to a second computer for instructing the second computer to sort through information related to a plurality of at least one of audio and visual programs, the first computer receiving a second signal from the second computer indicative of a filtered representation of programs, the first computer being operative to provide a third signal to the second computer for causing a message having an associated token to be assigned to a recipient; \n",
            " wherein the token is a packet of data with a schema that comprises at least a globally unique identifier that identifies at least one of an audio and visual program of the filtered representation of programs so as to enable the recipient thereof to program a recording system based on the associated token to record the program identified by the token by translating the token into scheduling data based in part on at least one of stored profile data of the recording system and program information with a format usable by the recording system. \n",
            " \n",
            " \n",
            " \n",
            " 15. The system of  claim 14 , wherein the first computer is further operative to send a fourth signal to the second computer for selecting a program from the filtered representation of programs, the token representing the selected program. \n",
            " \n",
            " \n",
            " 16. The system of  claim 14 , wherein the message is a text email message, the token being operatively associated with the email message. \n",
            " \n",
            " \n",
            " 17. The system of  claim 16 , wherein the token is an attachment of the email message. \n",
            " \n",
            " \n",
            " 18. The system of  claim 14 , wherein the message and associated token are sent to the recipient from the second computer. \n",
            " \n",
            " \n",
            " 19. The system of  claim 14 , wherein the message and associated token are sent to the recipient from the first computer. \n",
            " \n",
            " \n",
            " 20. The system of  claim 14 , wherein the second computer is a server having an associated database including at least some of the plurality of programs, the server searching the database in response to the first signal and providing a program results signal to the first computer for displaying selected programs at the first computer. \n",
            " \n",
            " \n",
            " 21. The system of  claim 14 , wherein the first signal further includes computer executable instructions indicative of program characteristics selected at the first computer, the filtered representation of programs including programs based on program characteristics. \n",
            " \n",
            " \n",
            " 22. The system of  claim 14 , wherein the first signal further includes computer executable instructions for instructing the second computer to provide the filtered representation of programs based on program criteria stored at the second computer. \n",
            " \n",
            " \n",
            " 23. A computer-readable medium having computer-executable instructions for performing the steps comprising:\n",
            " filtering through information at a server system in response to a request from a remote computer to provide a filtered representation of at least one of an audio and visual program content; and \n",
            " assigning a message to a recipient, the message having an associated token based on the filtered representation, the token comprises transportable data with a unique identifier that represents a predetermined program, the token is converted into scheduling data based in part on at least one stored profile data of a recording system and program information in a format utilized to program the recording system based on the token to record the predetermined program. \n",
            " \n",
            " \n",
            " \n",
            " 24. The computer-readable medium of  claim 23  having further computer-executable instructions for selecting a program from the filtered representation, the associated token representing the selected program. \n",
            " \n",
            " \n",
            " 25. The computer-readable medium of  claim 23  having further computer-executable instructions for searching an associated database in response to the request and providing to the remote computer a signal for displaying the filtered representation at the first computer. \n",
            " \n",
            " \n",
            " 26. The computer-readable medium of  claim 23  having further computer-executable instructions for sending the assigned message and associated token to the recipient. \n",
            " \n",
            " \n",
            " 27. The computer-readable medium of  claim 26  having further computer-executable instructions for, prior to sending the message, associating the token with an email message addressed to the recipient. \n",
            " \n",
            " \n",
            " 28. The computer-readable medium of  claim 26 , wherein the recipient is a first recipient, the computer readable medium having further computer-executable instructions for sending to a second recipient a second message having the associated token. \n",
            " \n",
            " \n",
            " 29. A method for facilitating programming of an associated device, the method comprising the steps of:\n",
            " selecting at a remote computer a program from program information provided by a server system identifying at least one of an audio and visual program; and \n",
            " assigning a message for receipt by a recipient, the message having a token that comprises an XML formatted packet of data with a schema that identifies the selected program and is converted into scheduling data based in part on at least one of stored profile data of the recording system and program information, the scheduling data is in a format employable by a recording system to program the recording system to record the program represented by the token. \n",
            " \n",
            " \n",
            " \n",
            " 30. The method of  claim 29  further including filtering through the program information based on selection criteria provided from the remote computer. \n",
            " \n",
            " \n",
            " 31. The method of  claim 30 , wherein the selected program is selected from the filtered information. \n",
            " \n",
            " \n",
            " 32. The method of  claim 29  further including receiving a message at the remote computer having the requested token in response to the request. \n",
            " \n",
            " \n",
            " 33. The method of  claim 29  further including sending the assigned message and associated token to the recipient. \n",
            " \n",
            " \n",
            " 34. A computer-readable medium having computer-executable instructions for performing the steps of  claim 29 . \n",
            " \n",
            "\n"
          ],
          "name": "stdout"
        },
        {
          "output_type": "display_data",
          "data": {
            "application/javascript": [
              "window[\"2a14c4d2-14ad-11e9-90d7-0242ac1c0002\"] = google.colab.output.setActiveOutputArea(window[\"2a11c610-14ad-11e9-90d7-0242ac1c0002\"]);\n",
              "//# sourceURL=js_a334a6ba82"
            ],
            "text/plain": [
              "<IPython.core.display.Javascript object>"
            ]
          },
          "metadata": {
            "tags": [
              "id14_content_0",
              "outputarea_id14"
            ]
          }
        },
        {
          "output_type": "display_data",
          "data": {
            "application/javascript": [
              "window[\"2a16700c-14ad-11e9-90d7-0242ac1c0002\"] = google.colab.output.getActiveOutputArea();\n",
              "//# sourceURL=js_bc70f38698"
            ],
            "text/plain": [
              "<IPython.core.display.Javascript object>"
            ]
          },
          "metadata": {
            "tags": [
              "id14_content_1",
              "outputarea_id14"
            ]
          }
        },
        {
          "output_type": "display_data",
          "data": {
            "application/javascript": [
              "window[\"2a16ef8c-14ad-11e9-90d7-0242ac1c0002\"] = document.querySelector(\"#id14_content_1\");\n",
              "//# sourceURL=js_9d218a20d7"
            ],
            "text/plain": [
              "<IPython.core.display.Javascript object>"
            ]
          },
          "metadata": {
            "tags": [
              "id14_content_1",
              "outputarea_id14"
            ]
          }
        },
        {
          "output_type": "display_data",
          "data": {
            "application/javascript": [
              "window[\"2a175d8c-14ad-11e9-90d7-0242ac1c0002\"] = google.colab.output.setActiveOutputArea(window[\"2a16ef8c-14ad-11e9-90d7-0242ac1c0002\"]);\n",
              "//# sourceURL=js_69ea3397cb"
            ],
            "text/plain": [
              "<IPython.core.display.Javascript object>"
            ]
          },
          "metadata": {
            "tags": [
              "id14_content_1",
              "outputarea_id14"
            ]
          }
        },
        {
          "output_type": "display_data",
          "data": {
            "application/javascript": [
              "window[\"2a17a080-14ad-11e9-90d7-0242ac1c0002\"] = window[\"id14\"].setSelectedTabIndex(1);\n",
              "//# sourceURL=js_a0d4283e40"
            ],
            "text/plain": [
              "<IPython.core.display.Javascript object>"
            ]
          },
          "metadata": {
            "tags": [
              "id14_content_1",
              "outputarea_id14"
            ]
          }
        },
        {
          "output_type": "stream",
          "text": [
            "\n",
            " \n",
            " 1. A computer implemented file processing method for compressing a section of data and index data comprising:\n",
            " dividing both the data and the index data into a plurality of sections, wherein the index data is different from the data, the index data corresponds to the data and is used to search or retrieve the data, where each of the sections comprises the data and the index data, and the data comprises at least one of text data, image data, and audio data; \n",
            " creating a conversion table for each section by selecting a predetermined number of 16-bit codes within the data in an order of appearing frequency, decomposing remaining non-selected 16-bit codes into 8-bit codes, and selecting the 8-bit codes in an order of appearing frequency; \n",
            " compressing each of the sections based on the conversion table created therefor using a corresponding one of a plurality of different compression parameters to obtain a compressed file; \n",
            " storing the compressed file in a storage medium together with address information and the different compression parameters of the sections after compression; and \n",
            " expanding at least one of the sections in the compressed file read from the storage medium using the corresponding one of a plurality of different compression parameters for each section. \n",
            " \n",
            " \n",
            " \n",
            " 2. The file processing method as claimed in  claim 1 , wherein said compressing uses the plurality of different compression parameters based on a distribution of an appearing frequency for each word within a file. \n",
            " \n",
            " \n",
            " 3. The file processing method as claimed in  claim 1 , wherein said compressing comprises a flag, which indicates non-compressed data in control information of a certain section, if data in the certain section has a larger amount of information in a form of compressed data than the non-compressed data. \n",
            " \n",
            " \n",
            " 4. The file processing method as claimed in  claim 1 , wherein said compressing comprises identification information of the different compression parameters in control information of each section. \n",
            " \n",
            " \n",
            " 5. The file processing method as claimed in  claim 1 , wherein said compressing adds end information, which indicates an end of a section to an end of each section, adds the end information to only a last section when the sections have a fixed length, and comprises a flag indicating that the end information is deleted in control information of the sections other than the last section. \n",
            " \n",
            " \n",
            " 6. The file processing method as claimed in  claim 1 , further comprising:\n",
            " expanding the compressed file, which is read from the storage medium by driver software, which is independent of application software of a computer. \n",
            " \n",
            " \n",
            " \n",
            " 7. A data processing apparatus comprises a processor for compressing a section of data and index data, comprising:\n",
            " a compressing process section to divide both the data and the index data into a plurality of sections, and to compress each of the sections based on a conversion table using a corresponding one of a plurality of different compression parameters to obtain a compressed file after creating the conversion table for each section by selecting a predetermined number of 16-bit codes within the data in an order of appearing frequency, decomposing remaining non-selected 16-bit codes into 8-bit codes, and selecting the 8-bit codes in an order of appearing frequency, \n",
            " wherein the index data is different from the data, the index data corresponds to the data and is used to search or retrieve the data, where each of the sections comprises the data and the index data, and wherein the data comprises at least one of text data, image data, and audio data; \n",
            " a storing process section to store the compressed file in a storage medium together with address information and the different compression parameters of the sections after compression; and \n",
            " an expanding process section to expand at least one of the sections in the compressed file read from the storage medium using the corresponding one of a plurality of different compression parameters for each section. \n",
            " \n",
            " \n",
            " \n",
            " 8. The data processing apparatus as claimed in  claim 7 , wherein said compressing process section uses the plurality of different compression parameters based on a distribution of an appearing frequency for each word within a file. \n",
            " \n",
            " \n",
            " 9. The data processing apparatus as claimed in  claim 7 , wherein said compressing process section comprises a flag that indicates non-compressed data in control information of a certain section if data in the certain section has a larger amount of information in a form of compressed data than the non-compressed data. \n",
            " \n",
            " \n",
            " 10. The data processing apparatus as claimed in  claim 7 , wherein said compressing process section comprises identification information of the different compression parameters in control information of each section. \n",
            " \n",
            " \n",
            " 11. The data processing apparatus as claimed in  claim 7 , wherein said compressing process section adds end information, which indicates an end of a section to an end of each section, adds the end information to only a last section when the sections have a fixed length, and comprises a flag indicating that the end information is deleted in control information of the sections other than the last section. \n",
            " \n",
            " \n",
            " 12. The data processing apparatus as claimed in  claim 7 , further comprising:\n",
            " the expanding process section to expand the compressed file, which is read from the storage medium by driver software, which is independent of an application software of a computer. \n",
            " \n",
            " \n",
            " \n",
            " 13. A storage medium stores computer-readable information and a program for compressing a section of data and index data comprising:\n",
            " compressing process means for causing a computer to divide both the data and the index data into a plurality of different sections, and to compress each of the sections based on a conversion table using a corresponding one of a plurality of different compression parameters to obtain a compressed file after creating the conversion table for each section by selecting a predetermined number of 16-bit codes within the data in an order of appearing frequency, decomposing remaining non-selected 16-bit codes into 8-bit codes, and selecting the 8-bit codes in an order of appearing frequency, \n",
            " wherein the index data is different from the data, the index data corresponds to the data and is used to search or retrieve the data, where each of the sections comprises the data and the index data, and wherein the data comprises at least one of text data, image data, and audio data; \n",
            " storing process means for causing the computer to store the compressed file in storage means together with address information and the different compression parameters of the sections after compression; and \n",
            " expanding process means for causing the computer to expand at least one of the sections in the compressed file read from the storage means using the corresponding one of a plurality of different compression parameters for each section. \n",
            " \n",
            " \n",
            " \n",
            " 14. The storage medium as claimed in  claim 13 , wherein said compressing process means causes the computer to use the plurality of different compression parameters based on a distribution of an appearing frequency for each word within a file. \n",
            " \n",
            " \n",
            " 15. The storage medium as claimed in  claim 13 , wherein said compressing process means causes the computer to comprise a flag, which indicates non-compressed data in control information of a certain section, if data in the certain section has a larger amount of information in a form of compressed data than the non-compressed data. \n",
            " \n",
            " \n",
            " 16. The storage medium as claimed in  claim 13 , wherein said compressing process means causes the computer to comprise identification information of the different compression parameters in control information of each section. \n",
            " \n",
            " \n",
            " 17. The storage medium as claimed in  claim 13 , wherein said compressing process means causes the computer to add end information which indicates an end of a section to an end of each section, add the end information to only a last section when the sections have a fixed length, and comprise a flag indicating that the end information is deleted in control information of the sections other than the last section. \n",
            " \n",
            " \n",
            " 18. The storage medium as claimed in  claim 13 , wherein the program further comprising:\n",
            " expanding process means which causes the computer to expand the compressed file, which is read from the storage means by a driver software, which is independent of an application software of the computer. \n",
            " \n",
            " \n",
            " \n",
            " 19. A storage medium stores computer-readable information for compressing and expanding a section of data and index data, comprising:\n",
            " a region storing a compressed file which is divided into a plurality of sections, wherein each of sections is compressed based on a conversion table using a corresponding one of a plurality of different compression parameters after creating the conversion table for each section by selecting a predetermined number of 16-bit codes within the data in an order of appearing frequency, decomposing remaining non-selected 16-bit codes into 8-bit codes, and selecting the 8-bit codes in an order of appearing frequency; \n",
            " a region storing address information of the sections and the different compression parameters thereof, wherein each of the sections comprises both the data and index data, where the index data is different from the data, the index data corresponds to the data and is used to search or retrieve the data, and wherein the data comprises at least one of text data, image data, and audio data; and \n",
            " a region expanding at least one of the sections in the compressed file read from the storage medium using the corresponding one of the plurality of different compression parameters for each section. \n",
            " \n",
            " \n",
            " \n",
            " 20. The storage medium as claimed in  claim 19 , wherein the different compression parameters are based on a distribution of an appearing frequency for each word within said compressed file. \n",
            " \n",
            " \n",
            " 21. The storage medium as claimed in  claim 19 , wherein a flag, which indicates non-compressed data, is comprised in control information of a certain section if data in the certain section has a larger amount of information in a form of compressed data than the non-compressed data. \n",
            " \n",
            " \n",
            " 22. The storage medium as claimed in  claim 19 , wherein identification information of the different compression parameters is comprised in control information of each section. \n",
            " \n",
            " \n",
            " 23. The storage medium as claimed in  claim 19 , wherein end information, which indicates an end of a section, is added to an end of each section, the end information is added to only a last section when the sections have a fixed length, and a flag indicating that the end information is deleted is comprised in control information of the sections other than the last section. \n",
            " \n",
            " \n",
            " 24. The storage medium as claimed in  claim 19 , further storing:\n",
            " a driver software is independent of application software of a computer, \n",
            " said driver software comprising a program provided with expanding process means for causing the computer to expand the compressed file which is read from the storage medium. \n",
            " \n",
            " \n",
            " \n",
            " 25. A computer implemented file processing method for retrieving a section of data and index data, comprising:\n",
            " a reading step accesses a storage medium which stores a plurality of different compression parameters, address parameters, and a compressed file formed from an original file, divided into a plurality of sections and compressed for each section based on a conversion table using a corresponding one of the plurality of different compression parameters, \n",
            " wherein the conversion table is created for each section by selecting a predetermined number of 16-bit codes within the data in an order of appearing frequency, decomposing remaining non-selected 16-bit codes into 8-bit codes, and selecting the 8-bit codes in an order of appearing frequency, so as to obtain a plurality of section data forming the compressed file and address information corresponding to a plurality of sections, and \n",
            " wherein each of the sections comprises both the data and the index data, where the index data is different from the data, the index data corresponds to the data and is used to search or retrieve the data, wherein the data comprises at least one of text data, image data, and audio data; and \n",
            " an expanding step, which expands the section data in the compressed file, read from the storage medium by said reading step using the different compression parameters corresponding to the section data. \n",
            " \n",
            " \n",
            " \n",
            " 26. The file processing method as claimed in  claim 25 , wherein the plurality of different compression parameters are created based on a distribution of an appearing frequency for each word within said original file. \n",
            " \n",
            " \n",
            " 27. The file processing method as claimed in  claim 25 , wherein the compressed file further comprises non-compressed section data of a certain section and a non-compression flag which indicates that the certain section is non-compressed, and said expanding step suppresses expansion of the certain section when the non-compression flag indicates a non-compressed state of the section data of the certain section read from the storage medium by said reading step. \n",
            " \n",
            " \n",
            " 28. The file processing method as claimed in  claim 25 , wherein identification information of the different compression parameters is comprised in control information of each section. \n",
            " \n",
            " \n",
            " 29. The file processing method as claimed in  claim 25 , wherein a delete flag, which indicates that end information indicating an end of each section is not added to the section data, is comprised in control information of each section, and said reading step reads the section data by judging a last section based on the delete flag. \n",
            " \n",
            " \n",
            " 30. The file processing method as claimed in  claim 25 , wherein said expanding step is carried out by a driver software for the storage medium, said driver software being used for making access to the storage medium. \n",
            " \n",
            " \n",
            " 31. The file processing method as claimed in  claim 30 , wherein the diver software for the storage medium is independent of application software of a computer. \n",
            " \n",
            " \n",
            " 32. A data processing apparatus comprises a processor for compressing and expanding a section of data and index data, comprising:\n",
            " a reading process section to control access to a storage medium which stores a plurality of different compression parameters, address parameters, and a compressed file formed from an original file, divided into a plurality of sections and compressed for each section based on a conversion table using a corresponding one of the plurality of different compression parameters, \n",
            " wherein the conversion table is created for each section by selecting a predetermined number of 16-bit codes within the data in an order of appearing frequency, decomposing remaining non-selected 16-bit codes into 8-bit codes, and selecting the 8-bit codes in an order of appearing frequency, so as to obtain a plurality of section data forming the compressed file and address information corresponding to a plurality of sections, and \n",
            " wherein each of the sections comprises both the data and the index data, where the index data is different from the data, the index data corresponds to the data and is used to search or retrieve the data, wherein the data comprises at least one of text data, image data, and audio data; and \n",
            " an expanding process section to expand the section data in the compressed file read from the storage medium by said reading process section using the different compression parameters corresponding to the section data. \n",
            " \n",
            " \n",
            " \n",
            " 33. The data processing apparatus as claimed in  claim 32 , wherein the plurality of different compression parameters are created based on a distribution of an appearing frequency for each word within said original file. \n",
            " \n",
            " \n",
            " 34. The data processing apparatus as claimed in  claim 32 , wherein the compressed file further comprises non-compressed section data of a certain section and a non-compression flag which indicates that the certain section is non-compressed, and said expanding process section suppresses expansion of the certain section when the non-compression flag indicates a non-compressed state of the section data of the certain section read from the storage medium by said reading process section. \n",
            " \n",
            " \n",
            " 35. The data processing apparatus as claimed in  claim 32 , wherein identification information of the different compression parameters is comprised in control information of each section. \n",
            " \n",
            " \n",
            " 36. The data processing apparatus as claimed in  claim 32 , wherein a delete flag, which indicates that end information indicating an end of each section is not added to the section data, is comprised in control information of each section, and said reading process section controls reading of the section data by judging a last section based on the delete flag. \n",
            " \n",
            " \n",
            " 37. The data processing apparatus as claimed in  claim 32 , wherein said expanding process section carries out expansion by a driver software for the storage medium, said driver software being used for making access to the storage medium. \n",
            " \n",
            " \n",
            " 38. The data processing apparatus as claimed in  claim 37 , wherein the driver software for the storage medium is independent of application software of the data processing apparatus. \n",
            " \n",
            " \n",
            " 39. A data processing apparatus comprise a processor for retrieving a section of data and index data, comprising:\n",
            " a reading process section to control an access to a storage medium which stores a plurality of different compression parameters, address parameters, and a compressed file in response to a read request from an application software, the compressed file formed from an original file, divided into a plurality of sections and compressed for each section based on a conversion table using a corresponding one of the plurality of different compression parameters, \n",
            " wherein the conversion table is created for each section by selecting a predetermined number of 16-bit codes within the data in an order of appearing frequency, decomposing remaining non-selected 16-bit codes into 8-bit codes, and selecting the 8-bit codes in an order of appearing frequency, so as to obtain a plurality of section data forming the compressed file and address information corresponding to a plurality of sections, and \n",
            " wherein each of the sections comprises both the data and the index data, where the index data is different from the data, the index data corresponds to the data and is used to search or retrieve the data, wherein the data comprises at least one of text data, image data, and audio data; and \n",
            " an expanding process section to expand the section data in the compressed file read from the storage medium by said reading process section using the different compression parameters corresponding to the section data, and to supply expanded data to the application software. \n",
            " \n",
            " \n",
            " \n",
            " 40. A storage medium stores computer-readable information and stores a program for compressing and expanding a section of data and index data, comprising:\n",
            " reading process means for causing a computer to control access to a recording medium which stores a plurality of different compression parameters, address parameters, and a compressed file formed from an original file, divided into a plurality of sections and compressed for each section based on a conversion table using a corresponding one of the plurality of different compression parameters, \n",
            " wherein the conversion table is created for each section by selecting a predetermined number of 16-bit codes within the data in an order of appearing frequency, decomposing remaining non-selected 16-bit codes into 8-bit codes, and selecting the 8-bit codes in an order of appearing frequency, so as to obtain a plurality of section data forming the compressed file and address information corresponding to a plurality of sections, and \n",
            " wherein each of the sections comprises both the data and the index data, where the index data is different from the data, the index data corresponds to the data and is used to search or retrieve the data, wherein the data comprises at least one of text data, image data, and audio data; and \n",
            " expanding process means for causing the computer to expand the section data in the compressed file read from the recording medium by said reading process means using the different compression parameters corresponding to the section data. \n",
            " \n",
            " \n",
            " \n",
            " 41. The storage medium as claimed in  claim 40 , wherein the plurality of different compression parameters are created based on a distribution of an appearing frequency for each word within said original file. \n",
            " \n",
            " \n",
            " 42. The storage medium as claimed in  claim 40 , wherein the compressed file further comprises non-compressed section data of a certain section and a non-compression flag which indicates that the certain section is non-compressed, and said expanding process means causes the computer to suppress expansion of the certain section when the non-compression flag indicates a non-compressed state of the section data of the certain section read from the recording medium by said reading process. \n",
            " \n",
            " \n",
            " 43. The storage medium as claimed in  claim 40 , wherein identification information of the different compression parameters is comprised in control information of each section. \n",
            " \n",
            " \n",
            " 44. The storage medium as claimed in  claim 40 , wherein a delete flag, which indicates that end information indicating an end of each section is not added to the section data, is comprised in control information of each section, and said reading process means causes the computer to control reading of the section data by judging a last section based on the delete flag. \n",
            " \n",
            " \n",
            " 45. The storage medium as claimed in  claim 40 , wherein said expanding process means causes the computer to carry out expansion by a driver software for the recording medium, said driver software being used for making access to the recording medium. \n",
            " \n",
            " \n",
            " 46. The storage medium as claimed in  claim 45 , wherein the driver software for the recording medium is independent of an application software of the computer. \n",
            " \n",
            " \n",
            " 47. A storage medium stores computer-readable information and a program for retrieving a section of data and index data, comprising:\n",
            " reading process means for causing a computer to control access to a recording medium which stores a plurality of different compression parameters, address parameters, and a compressed file, in response to a read request from application software, the compressed file formed from an original file, divided into a plurality of sections and compressed for each section based on a conversion table using a corresponding one of the plurality of different compression parameters, \n",
            " wherein the conversion table is created for each section by selecting a predetermined number of 16-bit codes within the data in an order of appearing frequency, decomposing remaining non-selected 16-bit codes into 8-bit codes, and selecting the 8-bit codes in an order of appearing frequency, so as to obtain a plurality of section data forming the compressed file and address information corresponding to a plurality of sections, and \n",
            " wherein each of the sections comprises both the data and the index data, where the index data is different from the data, the index data corresponds to the data and is used to search or retrieve the data, wherein the data comprises at least one of text data, image data, and audio data; and \n",
            " expanding process means for causing the computer to expand the section data in the compressed file read from the recording medium by said reading process means using the different compression parameters corresponding to the section data, and supply expanded data to the application software. \n",
            " \n",
            " \n",
            "\n"
          ],
          "name": "stdout"
        },
        {
          "output_type": "display_data",
          "data": {
            "application/javascript": [
              "window[\"2a19b352-14ad-11e9-90d7-0242ac1c0002\"] = google.colab.output.setActiveOutputArea(window[\"2a16700c-14ad-11e9-90d7-0242ac1c0002\"]);\n",
              "//# sourceURL=js_5c2aafedd3"
            ],
            "text/plain": [
              "<IPython.core.display.Javascript object>"
            ]
          },
          "metadata": {
            "tags": [
              "id14_content_1",
              "outputarea_id14"
            ]
          }
        },
        {
          "output_type": "display_data",
          "data": {
            "application/javascript": [
              "window[\"2a1b6076-14ad-11e9-90d7-0242ac1c0002\"] = google.colab.output.getActiveOutputArea();\n",
              "//# sourceURL=js_0029797cbf"
            ],
            "text/plain": [
              "<IPython.core.display.Javascript object>"
            ]
          },
          "metadata": {
            "tags": [
              "id14_content_2",
              "outputarea_id14"
            ]
          }
        },
        {
          "output_type": "display_data",
          "data": {
            "application/javascript": [
              "window[\"2a1bd9b6-14ad-11e9-90d7-0242ac1c0002\"] = document.querySelector(\"#id14_content_2\");\n",
              "//# sourceURL=js_3fc800c219"
            ],
            "text/plain": [
              "<IPython.core.display.Javascript object>"
            ]
          },
          "metadata": {
            "tags": [
              "id14_content_2",
              "outputarea_id14"
            ]
          }
        },
        {
          "output_type": "display_data",
          "data": {
            "application/javascript": [
              "window[\"2a1c3abe-14ad-11e9-90d7-0242ac1c0002\"] = google.colab.output.setActiveOutputArea(window[\"2a1bd9b6-14ad-11e9-90d7-0242ac1c0002\"]);\n",
              "//# sourceURL=js_cc106e5ea6"
            ],
            "text/plain": [
              "<IPython.core.display.Javascript object>"
            ]
          },
          "metadata": {
            "tags": [
              "id14_content_2",
              "outputarea_id14"
            ]
          }
        },
        {
          "output_type": "display_data",
          "data": {
            "application/javascript": [
              "window[\"2a1cb246-14ad-11e9-90d7-0242ac1c0002\"] = window[\"id14\"].setSelectedTabIndex(2);\n",
              "//# sourceURL=js_96c32d0920"
            ],
            "text/plain": [
              "<IPython.core.display.Javascript object>"
            ]
          },
          "metadata": {
            "tags": [
              "id14_content_2",
              "outputarea_id14"
            ]
          }
        },
        {
          "output_type": "stream",
          "text": [
            "\n",
            " \n",
            " 1. A method for enhancing image resolution, wherein the method is applied to a high-resolution image data carrier for storing or playing a high-resolution image at least twice the standard image resolution, the method comprising the following steps:\n",
            " defining a video-audio data format and a plurality of user data formats on the high-resolution image data carrier; \n",
            " evenly decomposing and distributing the plural image pixels of the high-resolution image, adjacent along a vertical direction or a horizontal screen on a screen, into corresponding plural pixels of primary image data of standard image resolution, wherein the corresponding plural pixels are located at a same pixel position; \n",
            " encoding at least one primary image data to form a disc playable image data; \n",
            " storing one set of the primary image data into the video-audio data format of the high-resolution image data carrier and storing another primary image data set separately into the plural of user data formats; \n",
            " playing back one set of the primary image data from the video-audio data format by any playback apparatus if low resolution is required; and \n",
            " combining one set of the primary image data from the video-audio data format and another primary image data from the user data formats to form a combined playable image data and playing back the combined playable image data by a specific playback apparatus if high resolution is required; \n",
            " wherein the specific playback apparatus comprises:\n",
            " a readout unit for reading out the plural user data formats on the high-resolution image data carrier; and \n",
            " an image-combining unit for acquiring the primary image data at a same position of the user data format to combine and restore the high-resolution image. \n",
            " \n",
            " \n",
            " \n",
            " \n",
            " 2. The method according to  claim 1 , wherein the image data carrier is a DVD medium with a resolution of 720&#xd7;480. \n",
            " \n",
            " \n",
            " 3. The method according to  claim 1 , wherein the image data carrier is a VCD medium with a resolution of 352&#xd7;240. \n",
            " \n",
            " \n",
            " 4. The method according to  claim 1 , wherein the image data carrier is an SVCD medium with a resolution of 480&#xd7;480. \n",
            " \n",
            " \n",
            " 5. The method according to  claim 1 , wherein the video-audio data format is a primary viewing angle setting format of MPEG2 and the user data format is in a secondary viewing angle setting format. \n",
            " \n",
            " \n",
            " 6. The method according to  claim 1 , wherein the video-audio data format and the user data format are the video-audio data format and the user data format of MPEG1, respectively. \n",
            " \n",
            " \n",
            " 7. The method according to  claim 1 , wherein the image compression technique is MPEG1. \n",
            " \n",
            " \n",
            " 8. The method according to  claim 1 , wherein the image compression technique is MPEG2. \n",
            " \n",
            " \n",
            " 9. A method for enhancing the image resolution, wherein the method is applied to a high-resolution image data carrier for storing or playing a high-resolution image that is at least twice the standard resolution, the method comprising the following steps:\n",
            " setting the high-resolution image data carrier to have a video-audio data format and plural user data format; \n",
            " decomposing the high-resolution image into plural primary image data of standard image resolution; \n",
            " storing the plural primary image data into the user data format; \n",
            " calculating an average of the pixels at the same positions in the plural primary image data for forming a secondary image data; \n",
            " encoding the secondary image data to form a disc playable image data; \n",
            " storing the secondary image data into the video-audio data format of the high-resolution image data carrier; \n",
            " playing back the secondary image data from the video-audio data format by any playback apparatus if standard resolution is required; and \n",
            " combining and restoring secondary image data from the video-audio data formats and another primary image data from the user data formats to form the high-resolution image and playable by a specific playback apparatus if high resolution is required; \n",
            " wherein the specific playback apparatus comprises:\n",
            " a readout unit for reading out the plural user data formats on the high-resolution image data carrier; and \n",
            " an image-combining unit for acquiring the secondary image data and the primary image data at a same position of the user data format to combine and restore the high-resolution image. \n",
            " \n",
            " \n",
            " \n",
            " \n",
            " 10. The method according to  claim 9 , wherein the image data carrier is a DVD medium with a standard-resolution of 720&#xd7;480. \n",
            " \n",
            " \n",
            " 11. The method according to  claim 9 , wherein the image data carrier is a VCD medium with a standard-resolution of 352&#xd7;240. \n",
            " \n",
            " \n",
            " 12. The method according to  claim 9 , wherein the image data carrier is an SVCD medium with a standard-resolution of 480&#xd7;480. \n",
            " \n",
            " \n",
            " 13. The method according to  claim 9 , wherein the video-audio data format is a primary viewing angle format setting of MPEG2 and the user data format is a secondary viewing angle setting. \n",
            " \n",
            " \n",
            " 14. The method according to  claim 9 , wherein the video-audio data format and user data format are the video-audio data format and user data format of MPEG1, respectively. \n",
            " \n",
            " \n",
            " 15. The method according to  claim 9 , wherein the decomposing step comprises: evenly decomposing and distributing the plural image pixels in the adjacent vertical and horizontal arrangement of the high-resolution image evenly into the pixels at same positions of the plural primary image data. \n",
            " \n",
            " \n",
            " 16. The method according to  claim 9 , wherein the image compression method is MPEG1. \n",
            " \n",
            " \n",
            " 17. An apparatus for encoding picture data to enhance image resolution and storing the high-resolution image at least twice the standard image resolution to a image data carrier, the encoding apparatus comprising at least:\n",
            " an image-decomposing unit, for reading out the high-resolution image and decomposing the high-resolution image into plural primary image data of standard image resolution; \n",
            " an image operation unit, for calculating an average value of pixels at the same position from plural primary image data for forming secondary image data; \n",
            " an image-encoding unit utilizing an image compression technique to encode the primary and secondary image data and form a playable image data; \n",
            " an image storage unit, separately storing the plural primary image data into plural user data format of the image data carrier; and storing the secondary image data in a video-audio data format of the image data carrier; \n",
            " an image-combining unit for acquiring the secondary image data from the video-audio data format and the primary image data from the user data format to form a combined playable image data; and \n",
            " a playing unit for playing back one set of the primary image data from the video-audio data format if low resolution is required and playing back the combined playable image data if high resolution is required. \n",
            " \n",
            " \n",
            " \n",
            " 18. The encoding apparatus according to  claim 17 , wherein the image data carrier is a DVD, VCD or SVCD medium. \n",
            " \n",
            " \n",
            " 19. The encoding apparatus according to  claim 17 , wherein the user data format is a secondary viewing angle data format of MPEG2 and the video-audio data format is a primary viewing angle data format. \n",
            " \n",
            " \n",
            " 20. The encoding apparatus according to  claim 17 , wherein the image compression technique utilized in image encoding unit is MPEG1 or MPEG2.  \n",
            " \n",
            "\n"
          ],
          "name": "stdout"
        },
        {
          "output_type": "display_data",
          "data": {
            "application/javascript": [
              "window[\"2a1dc0f0-14ad-11e9-90d7-0242ac1c0002\"] = google.colab.output.setActiveOutputArea(window[\"2a1b6076-14ad-11e9-90d7-0242ac1c0002\"]);\n",
              "//# sourceURL=js_ff316680ae"
            ],
            "text/plain": [
              "<IPython.core.display.Javascript object>"
            ]
          },
          "metadata": {
            "tags": [
              "id14_content_2",
              "outputarea_id14"
            ]
          }
        },
        {
          "output_type": "display_data",
          "data": {
            "application/javascript": [
              "window[\"2a1f24ea-14ad-11e9-90d7-0242ac1c0002\"] = google.colab.output.getActiveOutputArea();\n",
              "//# sourceURL=js_512362505f"
            ],
            "text/plain": [
              "<IPython.core.display.Javascript object>"
            ]
          },
          "metadata": {
            "tags": [
              "id14_content_3",
              "outputarea_id14"
            ]
          }
        },
        {
          "output_type": "display_data",
          "data": {
            "application/javascript": [
              "window[\"2a1f669e-14ad-11e9-90d7-0242ac1c0002\"] = document.querySelector(\"#id14_content_3\");\n",
              "//# sourceURL=js_378c837559"
            ],
            "text/plain": [
              "<IPython.core.display.Javascript object>"
            ]
          },
          "metadata": {
            "tags": [
              "id14_content_3",
              "outputarea_id14"
            ]
          }
        },
        {
          "output_type": "display_data",
          "data": {
            "application/javascript": [
              "window[\"2a1fa12c-14ad-11e9-90d7-0242ac1c0002\"] = google.colab.output.setActiveOutputArea(window[\"2a1f669e-14ad-11e9-90d7-0242ac1c0002\"]);\n",
              "//# sourceURL=js_af258f1c88"
            ],
            "text/plain": [
              "<IPython.core.display.Javascript object>"
            ]
          },
          "metadata": {
            "tags": [
              "id14_content_3",
              "outputarea_id14"
            ]
          }
        },
        {
          "output_type": "display_data",
          "data": {
            "application/javascript": [
              "window[\"2a1fdd0e-14ad-11e9-90d7-0242ac1c0002\"] = window[\"id14\"].setSelectedTabIndex(3);\n",
              "//# sourceURL=js_7a2a8eafb7"
            ],
            "text/plain": [
              "<IPython.core.display.Javascript object>"
            ]
          },
          "metadata": {
            "tags": [
              "id14_content_3",
              "outputarea_id14"
            ]
          }
        },
        {
          "output_type": "stream",
          "text": [
            "\n",
            " \n",
            " 1. A portable information apparatus comprising:\n",
            " a connected state detecting section detecting a connected state of the portable information apparatus to a cradle;  \n",
            " a notification method deciding section deciding a method for notifying a user of due items, based on the connected state detected by the connected state detecting section;  \n",
            " a notifying section notifying the notification method decided by the notification method deciding section; and  \n",
            " first and second terminals for connecting a terminal of the cradle;  \n",
            " wherein the connected state detecting section detects which of the first and second terminals is connected to the terminal of the cradle, and  \n",
            " wherein the notification method deciding section decides that the notification is performed by a first notification method when the connected state detecting section detects that the first terminal is connected to the terminal of the cradle and decides that the notification is not performed when the connected state detecting section detects that the second terminal is connected to the terminal of cradle.  \n",
            " \n",
            " \n",
            " \n",
            " 2. The portable information apparatus according to  claim 1 , wherein the notification method deciding section decides that the notification is performed by a second notification method when the connected state detecting section detects that both of the first and second terminals are not connected to the terminal of the cradle. \n",
            " \n",
            " \n",
            " 3. The portable information apparatus according to  claim 2 , further comprising a speaker and a vibration control section for vibrating the portable information apparatus, wherein the first notification method is a voice output from the speaker and the second notification method is a vibration by the vibration control section. \n",
            " \n",
            " \n",
            " 4. The portable information apparatus according to  claim 2 , further comprising a display and a vibration control section for vibrating the portable information apparatus, wherein the first notification method is a display of a message by the display and the second notification method is a vibration by the vibration control section. \n",
            " \n",
            " \n",
            " 5. An information notifying method for a portable information apparatus, comprising:\n",
            " detecting a connected state of the portable information apparatus to a cradle;  \n",
            " deciding a method for notifying a user of due items, based on the connected state detected; and  \n",
            " notifying the notification method decided;  \n",
            " wherein the portable information apparatus has first and second terminals for connecting a terminal of the cradle,  \n",
            " wherein the step of detecting detects which of the first and second terminals is connected to the terminal of the cradle, and  \n",
            " wherein the step of deciding decides that the notification is performed by a first notification method when the step of detecting detects that the first terminal is connected to the terminal of the cradle and decides that the notification is not performed when the step of detecting detects that the second terminal is connected to the terminal of cradle.  \n",
            " \n",
            " \n",
            " \n",
            " 6. The method according to  claim 5 , wherein the step of deciding decides that the notification is performed by a second notification method when the connected state detecting section detects that both of the first and second terminals are not connected to the terminal of the cradle. \n",
            " \n",
            " \n",
            " 7. The method according to  claim 6 , further comprising a speaker and a vibration control section for vibrating the portable information apparatus, wherein the first notification method is a voice output from the speaker and the second notification method is a vibration by the vibration control section. \n",
            " \n",
            " \n",
            " 8. The method according to  claim 6 , further comprising a display and a vibration control section for vibrating the portable information apparatus, wherein the first notification method is a display of a message by the display and the second notification method is a vibration by the vibration control section. \n",
            " \n",
            "\n"
          ],
          "name": "stdout"
        },
        {
          "output_type": "display_data",
          "data": {
            "application/javascript": [
              "window[\"2a20bf8a-14ad-11e9-90d7-0242ac1c0002\"] = google.colab.output.setActiveOutputArea(window[\"2a1f24ea-14ad-11e9-90d7-0242ac1c0002\"]);\n",
              "//# sourceURL=js_6a684353b3"
            ],
            "text/plain": [
              "<IPython.core.display.Javascript object>"
            ]
          },
          "metadata": {
            "tags": [
              "id14_content_3",
              "outputarea_id14"
            ]
          }
        },
        {
          "output_type": "display_data",
          "data": {
            "application/javascript": [
              "window[\"2a21dc12-14ad-11e9-90d7-0242ac1c0002\"] = google.colab.output.getActiveOutputArea();\n",
              "//# sourceURL=js_fdbc3d3907"
            ],
            "text/plain": [
              "<IPython.core.display.Javascript object>"
            ]
          },
          "metadata": {
            "tags": [
              "id14_content_4",
              "outputarea_id14"
            ]
          }
        },
        {
          "output_type": "display_data",
          "data": {
            "application/javascript": [
              "window[\"2a22327a-14ad-11e9-90d7-0242ac1c0002\"] = document.querySelector(\"#id14_content_4\");\n",
              "//# sourceURL=js_7eeb99dd47"
            ],
            "text/plain": [
              "<IPython.core.display.Javascript object>"
            ]
          },
          "metadata": {
            "tags": [
              "id14_content_4",
              "outputarea_id14"
            ]
          }
        },
        {
          "output_type": "display_data",
          "data": {
            "application/javascript": [
              "window[\"2a226524-14ad-11e9-90d7-0242ac1c0002\"] = google.colab.output.setActiveOutputArea(window[\"2a22327a-14ad-11e9-90d7-0242ac1c0002\"]);\n",
              "//# sourceURL=js_eb983012e3"
            ],
            "text/plain": [
              "<IPython.core.display.Javascript object>"
            ]
          },
          "metadata": {
            "tags": [
              "id14_content_4",
              "outputarea_id14"
            ]
          }
        },
        {
          "output_type": "display_data",
          "data": {
            "application/javascript": [
              "window[\"2a22d1d0-14ad-11e9-90d7-0242ac1c0002\"] = window[\"id14\"].setSelectedTabIndex(4);\n",
              "//# sourceURL=js_168886ab5b"
            ],
            "text/plain": [
              "<IPython.core.display.Javascript object>"
            ]
          },
          "metadata": {
            "tags": [
              "id14_content_4",
              "outputarea_id14"
            ]
          }
        },
        {
          "output_type": "stream",
          "text": [
            "\n",
            " \n",
            " 1. A method for intelligently allocating limited resources of a media server across a plurality of remote display devices communicating with the media server through a network, the method comprising:\n",
            " providing each remote display device with state detection logic to determine whether the remote display device is in an active or inactive state; \n",
            " initially allocating a resource of the media server to a first remote display device; \n",
            " detecting by the state detection logic that the second remote display device transitions from an inactive state to an active state; \n",
            " receiving a request by a second remote display device for the resource; \n",
            " subsequent to receiving the request, detecting by the state detection logic that the first remote display device is in the active state; \n",
            " comparing priority of the first remote display device relative to the second remote display device; \n",
            " determining that the reallocation of the resource from the first remote display device to the second remote display device is warranted based on priority of the first remote display device relative to the second remote display device and the state of the second remote display device; and \n",
            " reallocating the resource from the first remote display device to the second remote display device. \n",
            " \n",
            " \n",
            " \n",
            " 2. The method of  claim 1 , wherein the resource comprises a tuner. \n",
            " \n",
            " \n",
            " 3. The method of  claim 1 , wherein the resource comprises a multimedia decoder or a multimedia encoder. \n",
            " \n",
            " \n",
            " 4. The method as in  claim 1  wherein the resource comprises a decryption subsystem resource. \n",
            " \n",
            " \n",
            " 5. The method of  claim 1 , wherein the resource comprises a portion of network bandwidth. \n",
            " \n",
            " \n",
            " 6. The method of  claim 1 , wherein the state detection logic comprises power detection logic configured to detect power consumption by the remote display device. \n",
            " \n",
            " \n",
            " 7. The method of  claim 1 , wherein the state detection logic comprises a data communication channel between the second remote display device and the media server, and wherein the method further comprises communicating a transition of the second remote display from the inactive state to the active state via the data communication channel. \n",
            " \n",
            " \n",
            " 8. The method of  claim 1 , further comprising:\n",
            " defining a prioritization scheme indicating circumstances under which reallocation of the resource is warranted. \n",
            " \n",
            " \n",
            " \n",
            " 9. The method of  claim 1 , wherein comparing priority of the first remote display device relative to the second remote display device comprises comparing priority of a type of content requested by the second remote display device relative to a type of content provided to the first remote display device; and\n",
            " determining that the reallocation of the resource from the first remote display device to the second remote display device is warranted based on the priority of the type of content requested by the second remote display device relative to the type of content provided to the first remote display device. \n",
            " \n",
            " \n",
            " \n",
            " 10. A system for intelligently allocating limited resources of a media server across a plurality of remote display devices communicating with the media server through a network, the system comprising:\n",
            " state detection logic for determining whether each remote display device is in an active or inactive state; and \n",
            " a resource allocation module to initially allocate a resource of the media server to a first remote display device and to reallocate the resource from the first remote display device to a second remote display device in response to detecting by the state detection logic that the second remote display device transitions from an inactive state to an active state, subsequently detecting by the state detection logic that the first remote display device is in the active state, comparing priority of the first remote display device relative to the second remote display device, and determining that the reallocation of the resource from the first remote display device to the second remote display device is warranted based on priority of the first remote display device relative to the second remote display device and the state of the second remote display device. \n",
            " \n",
            " \n",
            " \n",
            " 11. The system of  claim 10 , wherein the resource comprises a tuner. \n",
            " \n",
            " \n",
            " 12. The system of  claim 10 , wherein the resource comprises a multimedia decoder or encoder. \n",
            " \n",
            " \n",
            " 13. The method as in  claim 10  wherein the resource comprises a decryption subsystem resource. \n",
            " \n",
            " \n",
            " 14. The system of  claim 10 , wherein the resource comprises an portion of network bandwidth. \n",
            " \n",
            " \n",
            " 15. The system of  claim 10 , wherein the state detection logic comprises power detection logic configured to detect power consumption by the remote display device. \n",
            " \n",
            " \n",
            " 16. The system of  claim 10 , wherein the state detection logic comprises a data communication channel between the second remote display device and the media server, the data communication channel configured to communicate a transition of the second remote display from the inactive state to the active state via the data communication channel. \n",
            " \n",
            " \n",
            " 17. The system of  claim 10 , further comprising an allocation rules module to indicate circumstances under which reallocation of the resource is warranted. \n",
            " \n",
            " \n",
            " 18. The system of  claim 10 , wherein the resource allocation module compares priority of a type of content requested by the second remote display device relative to the type of content provided to the first remote display device; and\n",
            " determining that the reallocation of the resource from the first remote display device to the second remote display device is warranted based on the priority of the type of content requested by the second remote display device relative to the type of content provided to the first remote display device. \n",
            " \n",
            " \n",
            " \n",
            " 19. An article of manufacture comprising a computer-readable medium selected from the group consisting of floppy diskettes, optical disks, CD-ROMs, magneto-optical disks, ROMs, RAMs, EPROMs, EEPROMs, magnet cards, and optical cards comprising program instructions that, when executed by a computer, perform a method for intelligently allocating limited resources of a media server across a plurality of remote display devices communicating with the media server through a network, each remote display device being provided with state detection logic to determine whether the remote display device is in an active or inactive state, the method comprising:\n",
            " initially allocating a resource of the media server to a first remote display device; \n",
            " detecting by the state detection logic that the second remote display device transitions from an inactive state to an active state; \n",
            " receiving a request by a second remote display device for the resource; \n",
            " comparing priority of the first remote display device relative to the second remote display device; \n",
            " determining that the reallocation of the resource from the first remote display device to the second multimedia device is warranted based on priority of the first remote display device relative to the second remote display device and the state of the second remote display device; \n",
            " preempting use of the resource by the first remote display device; and \n",
            " reallocating the resource from the first remote display device to the second remote display device. \n",
            " \n",
            " \n",
            "\n"
          ],
          "name": "stdout"
        },
        {
          "output_type": "display_data",
          "data": {
            "application/javascript": [
              "window[\"2a23b6a4-14ad-11e9-90d7-0242ac1c0002\"] = google.colab.output.setActiveOutputArea(window[\"2a21dc12-14ad-11e9-90d7-0242ac1c0002\"]);\n",
              "//# sourceURL=js_b463a1710c"
            ],
            "text/plain": [
              "<IPython.core.display.Javascript object>"
            ]
          },
          "metadata": {
            "tags": [
              "id14_content_4",
              "outputarea_id14"
            ]
          }
        },
        {
          "output_type": "display_data",
          "data": {
            "application/javascript": [
              "window[\"2a24c184-14ad-11e9-90d7-0242ac1c0002\"] = google.colab.output.getActiveOutputArea();\n",
              "//# sourceURL=js_d4474467be"
            ],
            "text/plain": [
              "<IPython.core.display.Javascript object>"
            ]
          },
          "metadata": {
            "tags": [
              "id14_content_5",
              "outputarea_id14"
            ]
          }
        },
        {
          "output_type": "display_data",
          "data": {
            "application/javascript": [
              "window[\"2a250e82-14ad-11e9-90d7-0242ac1c0002\"] = document.querySelector(\"#id14_content_5\");\n",
              "//# sourceURL=js_79a9c5d315"
            ],
            "text/plain": [
              "<IPython.core.display.Javascript object>"
            ]
          },
          "metadata": {
            "tags": [
              "id14_content_5",
              "outputarea_id14"
            ]
          }
        },
        {
          "output_type": "display_data",
          "data": {
            "application/javascript": [
              "window[\"2a253d3a-14ad-11e9-90d7-0242ac1c0002\"] = google.colab.output.setActiveOutputArea(window[\"2a250e82-14ad-11e9-90d7-0242ac1c0002\"]);\n",
              "//# sourceURL=js_cb04261526"
            ],
            "text/plain": [
              "<IPython.core.display.Javascript object>"
            ]
          },
          "metadata": {
            "tags": [
              "id14_content_5",
              "outputarea_id14"
            ]
          }
        },
        {
          "output_type": "display_data",
          "data": {
            "application/javascript": [
              "window[\"2a25711a-14ad-11e9-90d7-0242ac1c0002\"] = window[\"id14\"].setSelectedTabIndex(5);\n",
              "//# sourceURL=js_dff37c2011"
            ],
            "text/plain": [
              "<IPython.core.display.Javascript object>"
            ]
          },
          "metadata": {
            "tags": [
              "id14_content_5",
              "outputarea_id14"
            ]
          }
        },
        {
          "output_type": "stream",
          "text": [
            "\n",
            " \n",
            " 1. A method of identifying a code set used by a remote control unit for controlling an electronic device, comprising:\n",
            " receiving a transmission, representing a code that identifies a first user input, from the remote control unit, the first user input being one of a plurality of different user inputs having codes that can be transmitted by the remote control unit, each different user input corresponding to a different operation to be performed by the electronic device; \n",
            " comparing the code against a plurality of stored code sets each stored code set having a plurality of stored codes, wherein each of the plurality of stored codes in each stored code set corresponds to one of the different operations to be performed by the electronic device; \n",
            " identifying, as a matching code set, a stored code set having a stored code matching the code received from the remote control unit that identifies the first user input; \n",
            " wherein identifying a stored code set as a matching stored code set further comprises:\n",
            " determining whether there is more, than one matching code set; \n",
            " if there is more than one matching code set, then determining whether any of the matching code sets have a disambiguating code for a subsequent user input that differs between at least two of the matching code sets for the subsequent user input; \n",
            " if one of the matching code sets has a disambiguating code, then prompting the user for the subsequent user input corresponding to the disambiguating code; \n",
            " receiving the disambiguating code from the user based on the subsequent user input; and \n",
            " comparing the disambiguating code against the matching code sets to disambiguate at least two of the matching code sets; and \n",
            " \n",
            " controlling the electronic device to perform the plurality of different operations based on received codes in the matching code set. \n",
            " \n",
            " \n",
            " \n",
            " 2. The method of  claim 1  wherein the step of identifying the code set includes identifying only one stored code set having a stored code matching the code for the first user input and storing the matching code set for use in controlling the electronic device. \n",
            " \n",
            " \n",
            " 3. The method of  claim 1  wherein receiving a transmission comprises receiving a wireless transmission. \n",
            " \n",
            " \n",
            " 4. The method of  claim 3  wherein receiving a wireless transmission comprises receiving an infrared transmission. \n",
            " \n",
            " \n",
            " 5. The method of  claim 4  wherein matching the code comprises:\n",
            " obtaining the code based on an overall wave shape of the infrared transmission. \n",
            " \n",
            " \n",
            " \n",
            " 6. A system for identifying a code set used to remotely control a device to be controlled, comprising:\n",
            " a computing device operable to identify the code set using at least three different modes, the code set including a plurality of codes, each code corresponding to a different operation performed by the device to be controlled, the computing device configured to:\n",
            " select a mode of identifying the code set from the at least three different modes of identifying the code set, the three different modes comprising a user selection mode for receiving a user selection of the code set, a code set matching mode for matching a code input by a user to one of a plurality of different stored code sets, and a learning mode for learning the code set; and \n",
            " identify the code set used to remotely control the device based on the selected mode; and \n",
            " the computing device being further configured to control the device to be controlled using the identified code set. \n",
            " \n",
            " \n",
            " \n",
            " \n",
            " 7. The system of  claim 6  wherein the computing device comprises:\n",
            " a user selection component for identifying the code set based on user selection of the code set. \n",
            " \n",
            " \n",
            " \n",
            " 8. The system of  claim 6  wherein the computing device comprises:\n",
            " a learning component configured to learn the code set based on input of the code set from a remote control unit. \n",
            " \n",
            " \n",
            " \n",
            " 9. The system of  claim 6  wherein the computing device comprises:\n",
            " a matching component for matching the code input by the user to the one of the plurality of stored code sets to identify a matching code set. \n",
            " \n",
            " \n",
            " \n",
            " 10. A system for identifying a code set used by a remote control unit for controlling an electronic device, comprising:\n",
            " a matching component configured to match a code, received from the remote control unit based on a first user input, against a plurality of stored code sets each having a plurality of codes corresponding, respectively, to a plurality of different user inputs provided by the remote control unit, each different user input corresponding to a different operation performed by the electronic device, and identify, as a matching code set, a code set having a matching code corresponding to the first user input, the matching component being further configured to determine whether there is more than one matching code set, and if so, to determine whether any of the matching code sets have a disambiguating code corresponding to a second user input that differs between at least two of the matching code sets for the second user input, and if any of the matching code sets have a disambiguating code, the matching component being configured to prompt the user for the second user input corresponding to the disambiguating code; and after identifying the matching code set, the matching code set being used to control the electronic device for subsequent user inputs from the same remote control unit, without identifying the matching code set for the subsequent user inputs. \n",
            " \n",
            " \n",
            " \n",
            " 11. The system of  claim 10  and further comprising:\n",
            " a receiver, coupled to the matching component, configured to receive a transmission, representing the code for the first user input, from the remote control unit. \n",
            " \n",
            " \n",
            " \n",
            " 12. The system of  claim 11  and further comprising:\n",
            " a database, accessible by the matching component, storing the plurality of stored code sets. \n",
            " \n",
            " \n",
            " \n",
            " 13. The system of  claim 12  and further comprising:\n",
            " a control component configured to control the electronic device based on the matching code set. \n",
            " \n",
            " \n",
            " \n",
            " 14. The system of  claim 10  wherein the matching component is further configured to receive the disambiguating code from the user based on the second user input, and match the disambiguating code against the matching code sets to disambiguate at least two of the matching code sets. \n",
            " \n",
            " \n",
            " 15. The system of  claim 11  wherein the receiver comprises a wireless receiver. \n",
            " \n",
            " \n",
            " 16. The system of  claim 15  wherein the wireless receiver comprises an infrared receiver. \n",
            " \n",
            " \n",
            " 17. The system of  claim 15  wherein the code received from the remote control unit is represented by an overall wave shape of a wireless transmission received by the wireless receiver. \n",
            " \n",
            " \n",
            " 18. The system of  claim 17  wherein the matching component is configured to perform matching based on a code received by the wireless receiver from a remote control unit located in excess of a foot from the wireless receiver. \n",
            " \n",
            " \n",
            " 19. The system of  claim 17  wherein the matching component is configured to perform matching based on a code received by the wireless receiver from a remote control unit located in excess of 2 feet from the wireless receiver. \n",
            " \n",
            " \n",
            " 20. The system of  claim 17  wherein the matching component is configured to perform matching based on a code received by the wireless receiver from a remote control unit located in excess of five feet from the wireless receiver. \n",
            " \n",
            " \n",
            " 21. The system of  claim 17  wherein the matching component is configured to perform matching based on a code received by the wireless receiver from a remote control unit located in excess of ten feet from the wireless receiver. \n",
            " \n",
            " \n",
            " 22. The system of  claim 17  wherein the matching component is configured to perform matching based on a code received by the wireless receiver from a remote control unit located within any operable range of the wireless receiver. \n",
            " \n",
            "\n"
          ],
          "name": "stdout"
        },
        {
          "output_type": "display_data",
          "data": {
            "application/javascript": [
              "window[\"2a264dd8-14ad-11e9-90d7-0242ac1c0002\"] = google.colab.output.setActiveOutputArea(window[\"2a24c184-14ad-11e9-90d7-0242ac1c0002\"]);\n",
              "//# sourceURL=js_9013b89b91"
            ],
            "text/plain": [
              "<IPython.core.display.Javascript object>"
            ]
          },
          "metadata": {
            "tags": [
              "id14_content_5",
              "outputarea_id14"
            ]
          }
        },
        {
          "output_type": "display_data",
          "data": {
            "application/javascript": [
              "window[\"2a2767fe-14ad-11e9-90d7-0242ac1c0002\"] = google.colab.output.getActiveOutputArea();\n",
              "//# sourceURL=js_4c373cb7e0"
            ],
            "text/plain": [
              "<IPython.core.display.Javascript object>"
            ]
          },
          "metadata": {
            "tags": [
              "id14_content_6",
              "outputarea_id14"
            ]
          }
        },
        {
          "output_type": "display_data",
          "data": {
            "application/javascript": [
              "window[\"2a27a7fa-14ad-11e9-90d7-0242ac1c0002\"] = document.querySelector(\"#id14_content_6\");\n",
              "//# sourceURL=js_26e2727dee"
            ],
            "text/plain": [
              "<IPython.core.display.Javascript object>"
            ]
          },
          "metadata": {
            "tags": [
              "id14_content_6",
              "outputarea_id14"
            ]
          }
        },
        {
          "output_type": "display_data",
          "data": {
            "application/javascript": [
              "window[\"2a27d70c-14ad-11e9-90d7-0242ac1c0002\"] = google.colab.output.setActiveOutputArea(window[\"2a27a7fa-14ad-11e9-90d7-0242ac1c0002\"]);\n",
              "//# sourceURL=js_eac6db4191"
            ],
            "text/plain": [
              "<IPython.core.display.Javascript object>"
            ]
          },
          "metadata": {
            "tags": [
              "id14_content_6",
              "outputarea_id14"
            ]
          }
        },
        {
          "output_type": "display_data",
          "data": {
            "application/javascript": [
              "window[\"2a2837ba-14ad-11e9-90d7-0242ac1c0002\"] = window[\"id14\"].setSelectedTabIndex(6);\n",
              "//# sourceURL=js_c817ac3502"
            ],
            "text/plain": [
              "<IPython.core.display.Javascript object>"
            ]
          },
          "metadata": {
            "tags": [
              "id14_content_6",
              "outputarea_id14"
            ]
          }
        },
        {
          "output_type": "stream",
          "text": [
            "\n",
            " \n",
            " 1. A system comprising:\n",
            " a recording media capable of storing data; \n",
            " a processor configured to:\n",
            " determine that the system is in an idle state of input/output requests; \n",
            " copy first data symbols from a location of the recording media; \n",
            " correct the first data symbols using a first error-correcting code; \n",
            " write second data symbols including the corrected first data symbols to the location on the recording media with a second error-correcting code; \n",
            " determine an error number for the second data symbols; \n",
            " compare the error number to a threshold; and \n",
            " based on the comparison, record the second error-correction code or alternately keep the first error-correction code. \n",
            " \n",
            " \n",
            " \n",
            " \n",
            " 2. The system of  claim 1  wherein the first data symbols are written with a weaker error-correcting code and the second data symbols are written with a stronger error-correcting code. \n",
            " \n",
            " \n",
            " 3. The system of  claim 1  wherein the first data symbols are written with a stronger error-correcting code and the second data symbols are written with a weaker error-correcting code. \n",
            " \n",
            " \n",
            " 4. The system of  claim 1  wherein the recording media is a flash memory. \n",
            " \n",
            " \n",
            " 5. The system of  claim 1  wherein the processor is further configured to:\n",
            " create a desired writing of the first data symbols by encoding the first data based on the first error-correcting code. \n",
            " \n",
            " \n",
            " \n",
            " 6. A method comprising:\n",
            " determining that a processor is in an idle state of input/output requests; \n",
            " determining that a first error number for first data written on a recording disk with a strong error-correcting code is above a first threshold error number; \n",
            " determining a set of bits based on the first data and the strong error-correcting code; \n",
            " writing the set of bits to the recording disk by applying a first phase shift to a write control signal; \n",
            " reading second data from the recording disk, the second data being the read written set of bits; \n",
            " comparing the second data to the set of bits; \n",
            " determining a second error number for the second data; \n",
            " comparing the second error number to a second threshold error number; and \n",
            " based on the comparing:\n",
            " writing the second data to the recording disk with a first error-correcting code; and \n",
            " freeing a region of the recording disk storing the strong error-correcting code. \n",
            " \n",
            " \n",
            " \n",
            " \n",
            " 7. The method of  claim 6  wherein a timing of a magnetic field generated by a magnetic write head is controlled by the write control signal. \n",
            " \n",
            " \n",
            " 8. The method of  claim 6  wherein a timing of the light from a light source used for heating the disk is controlled by the write control signal. \n",
            " \n",
            " \n",
            " 9. The method of  claim 6  wherein the first error-correcting code requires less bits than the strong error-correcting code on the recording disk. \n",
            " \n",
            " \n",
            " 10. The method of  claim 6  wherein the recording disk is a magnetic hard disk. \n",
            " \n",
            " \n",
            " 11. The method of  claim 6  wherein the recording disk is a patterned magnetic hard disk. \n",
            " \n",
            " \n",
            " 12. The method of  claim 6  wherein the recording disk is a thermally assisted recording magnetic disk. \n",
            " \n",
            " \n",
            " 13. The method of  claim 6  wherein the recording disk is an optical disk. \n",
            " \n",
            " \n",
            " 14. The method of  claim 6  further comprising:\n",
            " creating the desired writing of the first data by encoding the first data based on the strong error-correcting code. \n",
            " \n",
            " \n",
            " \n",
            " 15. The method of  claim 6  further comprising:\n",
            " compacting the first data written on the recording hard disk in response to writing the second data with the first error-correcting code. \n",
            " \n",
            " \n",
            " \n",
            " 16. The method of  claim 6  further comprising:\n",
            " storing information on the recording disk indicating sectors of the recording disk that have been compacted. \n",
            " \n",
            " \n",
            " \n",
            " 17. The method of  claim 6  further comprising:\n",
            " rewriting the set of bits to the recording disk applying a second phase shift to the write control signal; \n",
            " reading third data from the recording disk, the third data being the read rewritten set of bits; and \n",
            " comparing the third data to the set of bits. \n",
            " \n",
            " \n",
            " \n",
            " 18. A non-transitory computer readable medium comprising a plurality of instructions to manipulate a processor, the plurality of instructions comprising:\n",
            " instructions to determine that a processor is in an idle state of input/output requests; \n",
            " instructions to determine that a first error number for first data written on a magnetic hard disk with a strong error-correcting code is above a first threshold error number; \n",
            " instructions to determine a set of bits based on the first data and the strong error-correcting code; \n",
            " instructions to write the set of bits to the recording disk by apply a first phase shift to a write control signal; \n",
            " instructions to read second data from the recording disk, the second data being the read written set of bits; \n",
            " instructions to compare the second data to the set of bits; \n",
            " instructions to determine a second error number for the second data; \n",
            " instructions to compare the second error number to a second threshold error number; and \n",
            " instructions to write the second data to the magnetic hard disk with a first weak error-correcting code in response to the comparing. \n",
            " \n",
            " \n",
            " \n",
            " 19. The computer readable medium of  claim 18  wherein the first weak error-correcting code requires less bits than the strong error-correcting code on the magnetic hard disk. \n",
            " \n",
            " \n",
            " 20. The computer readable medium of  claim 18  wherein the magnetic hard disk is a patterned magnetic hard disk. \n",
            " \n",
            " \n",
            " 21. The computer readable medium of  claim 18  further comprising:\n",
            " instructions to determine an offset margin for the first phase shift; and \n",
            " instructions to delete the strong error-correcting code data on the magnetic hard disk. \n",
            " \n",
            " \n",
            " \n",
            " 22. The computer readable medium of  claim 21  wherein the offset margin is a number of phase shifts that provide a corrected bit in the second data. \n",
            " \n",
            " \n",
            " 23. The computer readable medium of  claim 18  further comprising:\n",
            " instructions to compact the first data written on the magnetic hard disk in response to writing the second data with the weak error-correcting code. \n",
            " \n",
            " \n",
            " \n",
            " 24. The computer readable medium of  claim 18  wherein the first phase shift is varied on a bit by bit basis.  \n",
            " \n",
            "\n"
          ],
          "name": "stdout"
        },
        {
          "output_type": "display_data",
          "data": {
            "application/javascript": [
              "window[\"2a29df02-14ad-11e9-90d7-0242ac1c0002\"] = google.colab.output.setActiveOutputArea(window[\"2a2767fe-14ad-11e9-90d7-0242ac1c0002\"]);\n",
              "//# sourceURL=js_23d4818f89"
            ],
            "text/plain": [
              "<IPython.core.display.Javascript object>"
            ]
          },
          "metadata": {
            "tags": [
              "id14_content_6",
              "outputarea_id14"
            ]
          }
        },
        {
          "output_type": "display_data",
          "data": {
            "application/javascript": [
              "window[\"2a2b6e62-14ad-11e9-90d7-0242ac1c0002\"] = google.colab.output.getActiveOutputArea();\n",
              "//# sourceURL=js_4f24376eaf"
            ],
            "text/plain": [
              "<IPython.core.display.Javascript object>"
            ]
          },
          "metadata": {
            "tags": [
              "id14_content_7",
              "outputarea_id14"
            ]
          }
        },
        {
          "output_type": "display_data",
          "data": {
            "application/javascript": [
              "window[\"2a2bc3b2-14ad-11e9-90d7-0242ac1c0002\"] = document.querySelector(\"#id14_content_7\");\n",
              "//# sourceURL=js_d337dbf34b"
            ],
            "text/plain": [
              "<IPython.core.display.Javascript object>"
            ]
          },
          "metadata": {
            "tags": [
              "id14_content_7",
              "outputarea_id14"
            ]
          }
        },
        {
          "output_type": "display_data",
          "data": {
            "application/javascript": [
              "window[\"2a2c336a-14ad-11e9-90d7-0242ac1c0002\"] = google.colab.output.setActiveOutputArea(window[\"2a2bc3b2-14ad-11e9-90d7-0242ac1c0002\"]);\n",
              "//# sourceURL=js_5883f38f24"
            ],
            "text/plain": [
              "<IPython.core.display.Javascript object>"
            ]
          },
          "metadata": {
            "tags": [
              "id14_content_7",
              "outputarea_id14"
            ]
          }
        },
        {
          "output_type": "display_data",
          "data": {
            "application/javascript": [
              "window[\"2a2c7618-14ad-11e9-90d7-0242ac1c0002\"] = window[\"id14\"].setSelectedTabIndex(7);\n",
              "//# sourceURL=js_26732745ee"
            ],
            "text/plain": [
              "<IPython.core.display.Javascript object>"
            ]
          },
          "metadata": {
            "tags": [
              "id14_content_7",
              "outputarea_id14"
            ]
          }
        },
        {
          "output_type": "stream",
          "text": [
            "\n",
            " \n",
            " 1. A method for creating a video clip, comprising: receiving still image files by a first module;\n",
            " creating a copy of a still image from the still image files with reduced dimensions by the first module; \n",
            " creating a new still image from a selected area of the still image; \n",
            " storing the new still image and the copy of the still image with a unified file name; \n",
            " automatically ordering the stored images by a pre-defined destination utilizing pre-defined commands; \n",
            " creating an audio file by at least one of a second module and a third module; \n",
            " creating a timeline, by the first module, related to the ordered images and the created audio; \n",
            " and rendering the timeline into a video clip by a fourth module, wherein the timeline includes: a length of the audio file, a length of the video clip, the ordered images, a display time of each of the ordered images, transition identifiers, transition lengths, panning and zooming coordinates, an identifier of the audio file created by the second module or the third module, and a volume envelope associated with the created audio file. \n",
            " \n",
            " \n",
            " \n",
            " 2. The method of  claim 1  comprising storing at least one of: metadata related to the still image and the copy of the still image, metadata related to the audio file, the timeline, and information comprising the creating of the audio file. \n",
            " \n",
            " \n",
            " 3. The method of  claim 2 , wherein the metadata is stored in a command. \n",
            " \n",
            " \n",
            " 4. The method of  claim 2 , wherein the metadata stores at least one of: a height, a width, a size, compression data, and a file format. \n",
            " \n",
            " \n",
            " 5. The method of  claim 1 , wherein the copy of the still image is used for display purposes. \n",
            " \n",
            " \n",
            " 6. The method of  claim 1 , wherein the new created still image is displayed as an image with reduced dimension. \n",
            " \n",
            " \n",
            " 7. The method of  claim 1  comprising panning and zooming at least one of: a portion of or the copy of the still image, a portion of or the new created still image, a portion of or the stored new still image, and a portion of or the stored copy of the still image, wherein the panning and the zooming is a set of coordinates related to the image. \n",
            " \n",
            " \n",
            " 8. The method of  claim 7 , wherein the set of coordinates is stored in the timeline. \n",
            " \n",
            " \n",
            " 9. The method of  claim 2  comprising transitioning from one to another one of the ordered images, and further comprising storing a transition identifier and a transition length. \n",
            " \n",
            " \n",
            " 10. The method of  claim 2  comprising retrieving at least one of: the metadata related to the audio file, the metadata related to the still image and the copy of the still image, the timeline, and the information comprising the creating of the audio file, the by the first module. \n",
            " \n",
            " \n",
            " 11. The method of  claim 1  comprising optionally previewing the timeline via a fifth module. \n",
            " \n",
            " \n",
            " 12. A system for creating a video clip, comprising:\n",
            " a web server adapted to receive one or more images; \n",
            " the web server adapted to create a copy of the images; \n",
            " the web server adapted to create one or more new images from one or more selected areas of the images; \n",
            " and the web server adapted to provide a unified file name to each of the new images and a unified file name to each of the copies of the images; and \n",
            " a time line that includes: a length of the audio file, a length of the video clip, the ordered images, a display time of each of the ordered images, transition identifiers, transition lengths, panning and zooming coordinates, an identifier of the audio file created by the second module or the third module, and a volume envelope associated with the created audio file. \n",
            " \n",
            " \n",
            " \n",
            " 13. The system of  claim 12 , wherein the copy of the still images is created with reduced dimensions. \n",
            " \n",
            " \n",
            " 14. The system of  claim 12  comprising memory adapted to store at least one of: the new image, the copy of the image, the new image provided with the unified file name, the copy of the image provided with the unified file name, wherein the memory is coupled to the web server. \n",
            " \n",
            " \n",
            " 15. The system of  claim 14  comprising a device coupled to the web server, wherein the device is adapted to order at least one of: the received images, the copy of the images, the new images, the stored images, and the ordered images. \n",
            " \n",
            " \n",
            " 16. The system of  claim 14  comprising at least one of:\n",
            " a text-to-speech module; and an integrated voice response module; \n",
            " wherein at least one of the modules is adapted to create an audio file; and \n",
            " wherein at least one of the modules is coupled to at least one of the web server and the memory. \n",
            " \n",
            " \n",
            " \n",
            " 17. The system of  claim 16 , wherein the web server is adapted to create a timeline related to the ordered images and the created audio file, wherein the timeline and the audio file are stored in the memory. \n",
            " \n",
            " \n",
            " 18. The system of  claim 17  comprising a rendering server adapted to render the timeline into the video clip. \n",
            " \n",
            " \n",
            " 19. A non-transitory computer readable medium comprising instructions for:\n",
            " creating a copy of an image with reduced dimensions; \n",
            " creating a new image from a selected area of the copied image; \n",
            " storing the new image and the copy of the image with a unified file name; \n",
            " and creating a timeline related to the image, the new image, and to audio related to the image and to the new image, wherein the timeline is used to create a video clip, wherein the timeline includes: a length of the audio file, a length of the video clip, the ordered images, a display time of each of the ordered images, transition identifiers, transition lengths, panning and zooming coordinates, an identifier of the audio file created by the second module or the third module, and a volume envelope associated with the created audio file. \n",
            " \n",
            " \n",
            "\n"
          ],
          "name": "stdout"
        },
        {
          "output_type": "display_data",
          "data": {
            "application/javascript": [
              "window[\"2a2d8fda-14ad-11e9-90d7-0242ac1c0002\"] = google.colab.output.setActiveOutputArea(window[\"2a2b6e62-14ad-11e9-90d7-0242ac1c0002\"]);\n",
              "//# sourceURL=js_d1a5ec1f91"
            ],
            "text/plain": [
              "<IPython.core.display.Javascript object>"
            ]
          },
          "metadata": {
            "tags": [
              "id14_content_7",
              "outputarea_id14"
            ]
          }
        },
        {
          "output_type": "display_data",
          "data": {
            "application/javascript": [
              "window[\"2a3043d8-14ad-11e9-90d7-0242ac1c0002\"] = google.colab.output.getActiveOutputArea();\n",
              "//# sourceURL=js_9715ac3447"
            ],
            "text/plain": [
              "<IPython.core.display.Javascript object>"
            ]
          },
          "metadata": {
            "tags": [
              "id14_content_8",
              "outputarea_id14"
            ]
          }
        },
        {
          "output_type": "display_data",
          "data": {
            "application/javascript": [
              "window[\"2a30b4c6-14ad-11e9-90d7-0242ac1c0002\"] = document.querySelector(\"#id14_content_8\");\n",
              "//# sourceURL=js_a2564d8f8e"
            ],
            "text/plain": [
              "<IPython.core.display.Javascript object>"
            ]
          },
          "metadata": {
            "tags": [
              "id14_content_8",
              "outputarea_id14"
            ]
          }
        },
        {
          "output_type": "display_data",
          "data": {
            "application/javascript": [
              "window[\"2a310fca-14ad-11e9-90d7-0242ac1c0002\"] = google.colab.output.setActiveOutputArea(window[\"2a30b4c6-14ad-11e9-90d7-0242ac1c0002\"]);\n",
              "//# sourceURL=js_c4f34801ab"
            ],
            "text/plain": [
              "<IPython.core.display.Javascript object>"
            ]
          },
          "metadata": {
            "tags": [
              "id14_content_8",
              "outputarea_id14"
            ]
          }
        },
        {
          "output_type": "display_data",
          "data": {
            "application/javascript": [
              "window[\"2a31697a-14ad-11e9-90d7-0242ac1c0002\"] = window[\"id14\"].setSelectedTabIndex(8);\n",
              "//# sourceURL=js_539a373cc4"
            ],
            "text/plain": [
              "<IPython.core.display.Javascript object>"
            ]
          },
          "metadata": {
            "tags": [
              "id14_content_8",
              "outputarea_id14"
            ]
          }
        },
        {
          "output_type": "stream",
          "text": [
            "\n",
            " \n",
            " 1. An information input and output system comprising:\n",
            " a display device that displays an image, \n",
            " a coordinate input device that detects coordinates of a plurality of positions indicated on a screen of the display device, \n",
            " a storage unit that prestores one or a plurality of operation images useful as images for an operation, \n",
            " an operation image control unit that displays, when the coordinate input device detects the coordinates of the plurality of positions indicated on the screen, an operation image stored in the storage unit at a predetermined position on the screen of the display device based on the coordinates, and \n",
            " a detecting unit that detects moved distance and moving direction of the position indicated on the screen, \n",
            " wherein the operation image control unit displays a door image at a predetermined position on the screen when a plurality of positions are detected on the screen, and \n",
            " the operation image control unit moves the display position of the door image on the screen and displays the operation image to appear gradually from the lower portion of door in accordance with at least one of the detected moved distance and moving direction when the movement of the indicated positions is detected in a state that the door image is displayed. \n",
            " \n",
            " \n",
            " \n",
            " 2. The system of  claim 1 , wherein the operation image includes at least one of an icon, a dial, a slider bar, and a pallet, and the operation image control unit displays an eraser icon for erasing the image on the screen when it is detected that two points on the screen are touched. \n",
            " \n",
            " \n",
            " 3. The system of  claim 2 , wherein the storage unit registers a plurality of operation images and the operation image control unit selects an image to be displayed from the plurality of operation images to display the selected image based on a number of the indicated positions and whether the positions are simultaneously indicated or the positions are sequentially indicated. \n",
            " \n",
            " \n",
            " 4. The system of  claim 1 , wherein the operation image includes at least one of an icon, a dial, a slider bar, and a pallet, and the operation image control unit displays an image of the pallet when it is detected that three points on the screen are touched. \n",
            " \n",
            " \n",
            " 5. The system of  claim 4 , wherein the storage unit registers a plurality of operation images, and the operation image control unit selects an image to be displayed from the plurality of operation images to display the selected image based on a number of the indicated positions and whether the positions are simultaneously indicated or the positions are sequentially indicated. \n",
            " \n",
            " \n",
            " 6. The system of  claim 1 , wherein the storage unit registers a plurality of operation images and the operation image control unit selects an image to be displayed from the plurality of operation images to display the selected image based on a number of the indicated positions and whether the positions are simultaneously indicated or the positions are sequentially indicated. \n",
            " \n",
            " \n",
            " 7. A computer-readable storage medium having a computer-program recorded thereon, the computer-program causing a computer, which is connected to a display device and a coordinate input device that detects coordinates of a plurality of positions indicated on a screen of the display device, to execute steps of:\n",
            " obtaining coordinates detected by the coordinate input device and \n",
            " displaying an operation image, useful as an image for an operation, at a predetermined position on the screen of the display device based on the obtained coordinates, \n",
            " wherein the displaying step includes: \n",
            " a step of displaying a door image at a predetermined position on the screen when a plurality of positions are detected on the screen, and \n",
            " a step of moving, when movement of the indicated positions is detected in a state that the door image is displayed, the display position of the door image on the screen to display the operation image to appear gradually from the lower portion of door in accordance with at least one of detected moved distance and detected moving direction of the position indicated on the screen. \n",
            " \n",
            " \n",
            " \n",
            " 8. The medium of  claim 7 , wherein the operation image includes at least one of an icon, a dial, a slider bar, and a pallet. \n",
            " \n",
            " \n",
            " 9. The medium of  claim 7 , wherein:\n",
            " a plurality of operation images are registered in a storage unit of the computer, and \n",
            " the displaying step includes a step of selecting an image to be displayed from the plurality of operation images to display the selected image based on a number of the indicated positions and whether the positions are simultaneously indicated or positions are sequentially indicated. \n",
            " \n",
            " \n",
            " \n",
            " 10. A computer readable storage medium having a computer program recorded thereon, the computer program causing a computer which registers one or a plurality of operation images useful as images for an operation and display condition information relating to display conditions in connection with the one or plurality of operation images, and which is connected to a display device and a coordinate input device that detects coordinates of a plurality of positions indicated on a screen of the display device to execute step of:\n",
            " obtaining coordinates of positions indicated on the screen from the coordinate input device and displaying the one or plurality of operation images using as images for an operation at a predetermined position on the screen of the display device in accordance with the display condition information when the coordinates of the plurality of positions indicated on the screen are obtained, wherein the displaying step includes a step of receiving a predetermined operation in accordance with at least one of the detected moved distance and moving direction when movement of the indicated positions is detected in a state in which the operation image is displayed and executing a processing corresponding to the predetermined operation. \n",
            " \n",
            " \n",
            " \n",
            " 11. The medium of  claim 10 , wherein the displaying step includes a step of changing the display position of the operation image in accordance with at least one of the detected moved distance and moving direction when the movement of the indicated positions is detected in a state that the operation image is displayed. \n",
            " \n",
            " \n",
            " 12. The medium having a computer-program recorded thereon of  claim 11 , wherein the displaying step includes a step of enlarging or reducing the size of the operation image on the screen in accordance with at least one of the detected moved distance and moving direction when the movement of the indicated positions is detected. \n",
            " \n",
            " \n",
            " 13. A computer data signal embedded in a carrier wave indicating a program causing a computer, which is connected to a display device and a coordinate input device that detects coordinates of a plurality of positions indicated on a screen of the display device, to execute the steps of: obtaining coordinates detected by the coordinate input device, displaying an operation image, useful as an image for an operation, at a predetermined position on the screen of the display device based on the obtained coordinates: and\n",
            " detecting moved distance and moving direction of the positions indicated on the screen, \n",
            " wherein the displaying step includes: \n",
            " a step of enlarging or reducing the size of the operation image on the screen in accordance with at least one of the detected moved distance and moving direction when the movement of the indicated positions is detected, \n",
            " a step of displaying a door image at a predetermined position on the screen when a plurality of positions are detected on the screen, and moving the display position of the door image on the screen to display the control image to appear gradually from the lower portion of door in accordance with at least one of the detected moved distance and moving direction when the movement of the indicated positions is detected in a state that the door image is displayed. \n",
            " \n",
            " \n",
            "\n"
          ],
          "name": "stdout"
        },
        {
          "output_type": "display_data",
          "data": {
            "application/javascript": [
              "window[\"2a32aad8-14ad-11e9-90d7-0242ac1c0002\"] = google.colab.output.setActiveOutputArea(window[\"2a3043d8-14ad-11e9-90d7-0242ac1c0002\"]);\n",
              "//# sourceURL=js_89fe7ea723"
            ],
            "text/plain": [
              "<IPython.core.display.Javascript object>"
            ]
          },
          "metadata": {
            "tags": [
              "id14_content_8",
              "outputarea_id14"
            ]
          }
        },
        {
          "output_type": "display_data",
          "data": {
            "application/javascript": [
              "window[\"2a345270-14ad-11e9-90d7-0242ac1c0002\"] = google.colab.output.getActiveOutputArea();\n",
              "//# sourceURL=js_4a6f876795"
            ],
            "text/plain": [
              "<IPython.core.display.Javascript object>"
            ]
          },
          "metadata": {
            "tags": [
              "id14_content_9",
              "outputarea_id14"
            ]
          }
        },
        {
          "output_type": "display_data",
          "data": {
            "application/javascript": [
              "window[\"2a34d718-14ad-11e9-90d7-0242ac1c0002\"] = document.querySelector(\"#id14_content_9\");\n",
              "//# sourceURL=js_f9c3ab36a5"
            ],
            "text/plain": [
              "<IPython.core.display.Javascript object>"
            ]
          },
          "metadata": {
            "tags": [
              "id14_content_9",
              "outputarea_id14"
            ]
          }
        },
        {
          "output_type": "display_data",
          "data": {
            "application/javascript": [
              "window[\"2a352ea2-14ad-11e9-90d7-0242ac1c0002\"] = google.colab.output.setActiveOutputArea(window[\"2a34d718-14ad-11e9-90d7-0242ac1c0002\"]);\n",
              "//# sourceURL=js_b782e5a795"
            ],
            "text/plain": [
              "<IPython.core.display.Javascript object>"
            ]
          },
          "metadata": {
            "tags": [
              "id14_content_9",
              "outputarea_id14"
            ]
          }
        },
        {
          "output_type": "display_data",
          "data": {
            "application/javascript": [
              "window[\"2a35873a-14ad-11e9-90d7-0242ac1c0002\"] = window[\"id14\"].setSelectedTabIndex(9);\n",
              "//# sourceURL=js_5cc60617e9"
            ],
            "text/plain": [
              "<IPython.core.display.Javascript object>"
            ]
          },
          "metadata": {
            "tags": [
              "id14_content_9",
              "outputarea_id14"
            ]
          }
        },
        {
          "output_type": "stream",
          "text": [
            "\n",
            " \n",
            " 1. A video processing apparatus comprising:\n",
            " first storage control means for, when a video signal including a first image and a second image temporally inserted in the first image is given, controlling storing of the first image of the video signal, on the basis of the temporal position of at least one of the first image and the second image in the video signal; \n",
            " second storage control means for controlling of storing the second image on the basis of the temporal position of at least one of the first image and the second image in the video signal; \n",
            " image detection means for detecting the second image from the video signal, \n",
            " wherein the image detection means include:\n",
            " a transition detecting unit that detects, from the video signal, a plurality of image transition frames for determining candidates of the second image signal, and \n",
            " a judgment unit that selects a candidate with a minimum broadcast period as the second image for a temporal position when more than one candidate starts at the same temporal position and removes the selected candidate from a candidate list so that the selected candidate is excluded from being selected again; \n",
            " \n",
            " determination means for determining whether a current period is a period during which to display the second image, on the basis of the temporal position of at least one of the first image and the second image in the video signal; and \n",
            " mixing means for mixing the stored first and second images such that the first image is displayed temporally continuously in a first area of a screen and such that if the current period is determined as a period during which the second image should be displayed, the second image is displayed in a second area of the screen, \n",
            " wherein the second image is repeatedly displayed in the second area in the period during the second image is displayed. \n",
            " \n",
            " \n",
            " \n",
            " 2. A video processing apparatus according to  claim 1 ,\n",
            " wherein the first image is a main program image in the video signal; and \n",
            " the second image is a commercial image. \n",
            " \n",
            " \n",
            " \n",
            " 3. A video processing apparatus according to  claim 1 ,\n",
            " wherein the first storage control means controls storing of the first image of the video signal in accordance with detection of the second image by the image detection means; \n",
            " the second storage control means controls storing of the second image of the video signal in accordance with detection of the second image by the image detection means; and \n",
            " the determination means determines whether the current period is a period during which to display the second image, in accordance with detection of the second image by the image detection means. \n",
            " \n",
            " \n",
            " \n",
            " 4. A video processing apparatus according to  claim 1 , further comprising:\n",
            " reception control means for controlling receiving of position information indicating a position of at least one of the first image and the second image in the video signal; \n",
            " wherein the first storage control means controls storing of the first image of the video signal in accordance with the position information; \n",
            " the second storage control means controls storing of the second image of the video signal in accordance with the position information; and \n",
            " the determination means determines whether the current period is a period during which to display the second image, on the basis of the position information. \n",
            " \n",
            " \n",
            " \n",
            " 5. A video processing apparatus according to  claim 1 , further comprising:\n",
            " reduction means for reducing the second image; \n",
            " wherein the second storage means controls storing of the reduced second image; \n",
            " \n",
            " and the mixing means mixes the stored first image and the reduced second image. \n",
            " \n",
            " \n",
            " 6. A video processing apparatus according to  claim 1 , further comprising:\n",
            " first reduction means for reducing the first image; and \n",
            " second reduction means for reducing the second image, \n",
            " wherein the first storage means controls storing of the reduced first image; \n",
            " the second storage means controls storing of the reduced second image; and \n",
            " the mixing means mixes the stored reduced first image and reduced second image. \n",
            " \n",
            " \n",
            " \n",
            " 7. A video processing apparatus according to  claim 1 ,\n",
            " wherein the determination means determines, on the basis of the position of at least one of the first image and the second image in the video signal, whether the current period is a period during which to display the second image such that the second image is displayed temporally repeatedly in the second area. \n",
            " \n",
            " \n",
            " \n",
            " 8. A video processing apparatus according to  claim 1 ,\n",
            " wherein the mixing means mixes the stored first image and second image such that the second image is displayed in a plurality of second areas on the screen. \n",
            " \n",
            " \n",
            " \n",
            " 9. A video processing apparatus according to  claim 1 ,\n",
            " wherein the mixing means mixes the stored first image and second image such that the first image is displayed in the first area whose horizontal center is coincident with the horizontal center of the screen and/or whose vertical center is coincident with the vertical center of the screen. \n",
            " \n",
            " \n",
            " \n",
            " 10. A video processing apparatus according to  claim 1 , further comprising:\n",
            " storage means for storing the video signal, \n",
            " wherein the first storage control means controls storing of the first image of the video signal read from the storage means; and the second storage control means controls storing of the second image of the video signal read from the storage means. \n",
            " \n",
            " \n",
            " \n",
            " 11. A video processing apparatus according to  claim 1 , further comprising:\n",
            " storage means for storing the video signal including the first image and the second image mixed together by the mixing means. \n",
            " \n",
            " \n",
            " \n",
            " 12. The video processing apparatus according to  claim 1 , wherein the determination means determines a display time period for the video signal, and\n",
            " wherein a display time of the first image and the second image does not exceed the display time period. \n",
            " \n",
            " \n",
            " \n",
            " 13. A video processing method comprising:\n",
            " a first storage control step of, when a video signal including a first image and a second image temporally inserted in the first image is given, controlling storing of the first image of the video signal, on the basis of the temporal position of at least one of the first image and the second image in the video signal; \n",
            " a second storage control step of controlling of storing the second image on the basis of the temporal position of at least one of the first image and the second image in the video signal; \n",
            " a detecting step of detecting, from the video signal, a plurality of image transition frames for determining candidates of the second image signal; \n",
            " a judging step of selecting a candidate with a minimum broadcast period as the second image for a temporal position when more than one candidate starts at the same temporal position and removing the selected candidate from a candidate list so that the selected candidate is excluded from being selected again; \n",
            " a determination step of determining whether a current period is a period during which to display the second image, on the basis of the temporal position of at least one of the first image and the second image in the video signal; \n",
            " a mixing step of mixing the stored first and second images such that the first image is displayed temporally continuously in a first area of a screen and such that if the current period is determined as a period during which the second image should be displayed, the second image is displayed in a second area of the screen; and \n",
            " a displaying step of repeatedly displaying, on a display unit, the second image in the second area in the period during the second image is displayed. \n",
            " \n",
            " \n",
            " \n",
            " 14. The video processing method according to  claim 13 , further comprising:\n",
            " a second determination step of determining a display time period for the video signal, and \n",
            " controlling a display time of the first image and the second image such that display of the first image and the second image not exceed the display time period. \n",
            " \n",
            " \n",
            " \n",
            " 15. A non-transitory computer-readable medium for storing a computer program causing a computer to execute video processing comprising:\n",
            " a first storage control step of, when a video signal including a first image and a second image temporally inserted in the first image is given, controlling storing of the first image of the video signal, on the basis of the temporal position of at least one of the first image and the second image in the video signal; \n",
            " a second storage control step of controlling of storing the second image on the basis of the temporal position of at least one of the first image and the second image in the video signal; \n",
            " a detecting step of detecting, from the video signal, a plurality of image transition frames for determining candidates of the second image signal; \n",
            " a judging step of selecting a candidate with a minimum broadcast period as the second image for a temporal position when more than one candidate starts at the same temporal position and removing the selected candidate from a candidate list so that the selected candidate is excluded from being selected again; \n",
            " a determination step of determining whether a current period is a period during which to display the second image, on the basis of the temporal position of at least one of the first image and the second image in the video signal; \n",
            " a mixing step of mixing the stored first and second images such that the first image is displayed temporally continuously in a first area of a screen and such that if the current period is determined as a period during which the second image should be displayed, the second image is displayed in a second area of the screen; and \n",
            " a displaying step of repeatedly displaying the second image in the second area in the period during the second image is displayed. \n",
            " \n",
            " \n",
            " \n",
            " 16. A video processing apparatus comprising:\n",
            " first storage control means for, when a video signal including a first image and one or more continuous second images temporally inserted in the first image is given, controlling storing of the first image of the video signal, on the basis of the temporal position of at least one of the first image and the one or more second images in the video signal; \n",
            " second storage control means for controlling storing of the one or more second images on the basis of the temporal position of at least one of the first image and the one or more second images in the video signal; \n",
            " image detection means for detecting the second image from the video signal, \n",
            " wherein the image detection means include:\n",
            " a transition detecting unit that detects, from the video signal, a plurality of image transition frames for determining candidates of the second image signal, and \n",
            " a judgment unit that selects a candidate with a minimum broadcast period as the second image for a temporal position when more than one candidate starts at the same temporal position and removes the selected candidate from a candidate list so that the selected candidate is excluded from being selected again; and \n",
            " \n",
            " mixing means for mixing the first image and the one or more second images by sequentially selecting the stored first image or one or more second images on the basis of the temporal position of the one or more second images in the video signal such that the number of directly adjacent second images in the mixed images is smaller than or at most equal to the number of directly adjacent second images in the original video signal, \n",
            " wherein the second image is repeatedly displayed in the second area in the period during the second image is displayed. \n",
            " \n",
            " \n",
            " \n",
            " 17. A video processing apparatus according to  claim 16 , wherein:\n",
            " the first image is a main program image in the video signal; and the second image is a commercial image. \n",
            " \n",
            " \n",
            " \n",
            " 18. A video processing apparatus according to  claim 16 ,\n",
            " wherein the first storage control means controls storing of the first image of the video signal in accordance with detection of the second image by the image detection means; \n",
            " the second storage control means controls storing of the second image of the video signal in accordance with detection of the second image by the image detection means; and \n",
            " the mixing means mixes the first image and the second image by sequentially selecting the stored first image or second image in accordance with detection of the second image by the image detection means. \n",
            " \n",
            " \n",
            " \n",
            " 19. A video processing apparatus according to  claim 16 , further comprising:\n",
            " reception control means for controlling receiving of position information indicating a position of the second image in the video signal, \n",
            " wherein the first storage control means controls storing of the first image of the video signal in accordance with the position information; \n",
            " the second storage control means controls storing of the second image of the video signal in accordance with the position information; and \n",
            " the mixing means mixes the first image and the second image by sequentially selecting the stored first image or second image in accordance with the position information. \n",
            " \n",
            " \n",
            " \n",
            " 20. A video processing method comprising:\n",
            " a first storage control step of, when a video signal including a first image and one or more continuous second images temporally inserted in the first image is given, controlling storing of the first image of the video signal, on the basis of the temporal position of at least one of the first image and the one or more second images in the video signal; \n",
            " a second storage control step of controlling storing of the one or more second images on the basis of the temporal position of at least one of the first image and the one or more second images in the video signal; \n",
            " a detecting step of detecting, from the video signal, a plurality of image transition frames for determining candidates of the second image signal; \n",
            " a judging step of selecting a candidate with a minimum broadcast period as the second image for a temporal position when more than one candidate starts at the same temporal position and removing the selected candidate from a candidate list so that the selected candidate is excluded from being selected again; \n",
            " a mixing step of mixing the first image and the one or more second images by sequentially selecting the stored first image or one or more second images on the basis of the temporal position of the one or more second images in the video signal such that the number of directly adjacent second images in the mixed images is smaller than or at most equal to the number of directly adjacent second images in the original video signal; and \n",
            " a displaying step of repeatedly displaying, on a display unit, the second image in the second area in the period during the second image is displayed. \n",
            " \n",
            " \n",
            " \n",
            " 21. A non-transitory computer-readable medium storing a computer program for causing a computer to execute video processing comprising:\n",
            " a first storage control step of, when a video signal including a first image and one or more continuous second images temporally inserted in the first image is given, controlling storing of the first image of the video signal, on the basis of the temporal position of at least one of the first image and the one or more second images in the video signal; \n",
            " a second storage control step of controlling storing of the one or more second images on the basis of the temporal position of at least one of the first image and the one or more second images in the video signal; \n",
            " a detecting step of detecting, from the video signal, a plurality of image transition frames for determining candidates of the second image signal; \n",
            " a judging step of selecting a candidate with a minimum broadcast period as the second image for a temporal position when more than one candidate starts at the same temporal position and removing the selected candidate from a candidate list so that the selected candidate is excluded from being selected again; \n",
            " a mixing step of mixing the first image and the one or more second images by sequentially selecting the stored first image or one or more second images on the basis of the temporal position of the one or more second images in the video signal such that the number of directly adjacent second images in the mixed images is smaller than or at most equal to the number of directly adjacent second images in the original video signal; and \n",
            " a displaying step of repeatedly displaying the second image in the second area in the period during the second image is displayed. \n",
            " \n",
            " \n",
            "\n"
          ],
          "name": "stdout"
        },
        {
          "output_type": "display_data",
          "data": {
            "application/javascript": [
              "window[\"2a36b7ae-14ad-11e9-90d7-0242ac1c0002\"] = google.colab.output.setActiveOutputArea(window[\"2a345270-14ad-11e9-90d7-0242ac1c0002\"]);\n",
              "//# sourceURL=js_c47cb5a06d"
            ],
            "text/plain": [
              "<IPython.core.display.Javascript object>"
            ]
          },
          "metadata": {
            "tags": [
              "id14_content_9",
              "outputarea_id14"
            ]
          }
        }
      ]
    }
  ]
}