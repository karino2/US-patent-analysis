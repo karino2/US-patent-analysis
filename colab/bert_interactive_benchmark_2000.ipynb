{
  "nbformat": 4,
  "nbformat_minor": 0,
  "metadata": {
    "colab": {
      "name": "bert-interactive-benchmark-2000.ipynb",
      "version": "0.3.2",
      "provenance": [],
      "collapsed_sections": [],
      "include_colab_link": true
    },
    "kernelspec": {
      "name": "python3",
      "display_name": "Python 3"
    },
    "accelerator": "TPU"
  },
  "cells": [
    {
      "cell_type": "markdown",
      "metadata": {
        "id": "view-in-github",
        "colab_type": "text"
      },
      "source": [
        "<a href=\"https://colab.research.google.com/github/karino2/US-patent-analysis/blob/bert_interactive/colab/bert_interactive_benchmark_2000.ipynb\" target=\"_parent\"><img src=\"https://colab.research.google.com/assets/colab-badge.svg\" alt=\"Open In Colab\"/></a>"
      ]
    },
    {
      "metadata": {
        "id": "rQph610BeO4I",
        "colab_type": "text"
      },
      "cell_type": "markdown",
      "source": [
        "**Interacitve evaluation notebook for BERT with grants2000**\n",
        "\n",
        "Input app claim (from 2017, cited from 2012) and show most similar claim."
      ]
    },
    {
      "metadata": {
        "id": "3Cv0EJiZ8vi6",
        "colab_type": "code",
        "colab": {}
      },
      "cell_type": "code",
      "source": [
        "import os\n",
        "import datetime\n",
        "import pickle\n",
        "import gzip\n",
        "import pandas as pd\n",
        "import numpy as np\n",
        "\n",
        "import tensorflow as tf"
      ],
      "execution_count": 0,
      "outputs": []
    },
    {
      "metadata": {
        "id": "R3AyT0Fq8yzD",
        "colab_type": "code",
        "outputId": "e88081a6-6a47-4a23-cab0-c9f6ea3fbd41",
        "colab": {
          "base_uri": "https://localhost:8080/",
          "height": 35
        }
      },
      "cell_type": "code",
      "source": [
        "tf.__version__"
      ],
      "execution_count": 2,
      "outputs": [
        {
          "output_type": "execute_result",
          "data": {
            "text/plain": [
              "'1.12.0'"
            ]
          },
          "metadata": {
            "tags": []
          },
          "execution_count": 2
        }
      ]
    },
    {
      "metadata": {
        "id": "3cM2dZ__NPt1",
        "colab_type": "code",
        "colab": {
          "base_uri": "https://localhost:8080/",
          "height": 106
        },
        "outputId": "a3917bb3-942b-4be2-999c-dbc79d58ad2b"
      },
      "cell_type": "code",
      "source": [
        "!git clone -b docker https://github.com/yoheikikuta/bert.git"
      ],
      "execution_count": 15,
      "outputs": [
        {
          "output_type": "stream",
          "text": [
            "Cloning into 'temp'...\n",
            "remote: Enumerating objects: 269, done.\u001b[K\n",
            "remote: Total 269 (delta 0), reused 0 (delta 0), pack-reused 269\u001b[K\n",
            "Receiving objects: 100% (269/269), 174.52 KiB | 2.60 MiB/s, done.\n",
            "Resolving deltas: 100% (155/155), done.\n"
          ],
          "name": "stdout"
        }
      ]
    },
    {
      "metadata": {
        "id": "eg8r8ARt89w3",
        "colab_type": "code",
        "outputId": "4c3bf9f8-acf5-4cef-bce7-55b0d2c49fcc",
        "colab": {
          "base_uri": "https://localhost:8080/",
          "height": 35
        }
      },
      "cell_type": "code",
      "source": [
        "!ls"
      ],
      "execution_count": 4,
      "outputs": [
        {
          "output_type": "stream",
          "text": [
            "adc.json  bert\tsample_data\n"
          ],
          "name": "stdout"
        }
      ]
    },
    {
      "metadata": {
        "id": "zgPiQOJRMgxt",
        "colab_type": "text"
      },
      "cell_type": "markdown",
      "source": [
        "# Data setup\n",
        "\n",
        "Data setup is based on https://github.com/karino2/US-patent-analysis/blob/bert_input/colab/bert_tokenized_claim_setup.ipynb\n",
        "\n",
        "We only use grants tokens. (though file both contains applications and grants)"
      ]
    },
    {
      "metadata": {
        "id": "XG9_uLXKMf2t",
        "colab_type": "code",
        "colab": {}
      },
      "cell_type": "code",
      "source": [
        "!mkdir ./bert/data"
      ],
      "execution_count": 0,
      "outputs": []
    },
    {
      "metadata": {
        "id": "j-n-oE9aNPs6",
        "colab_type": "code",
        "colab": {}
      },
      "cell_type": "code",
      "source": [
        "from google.colab import auth\n",
        "auth.authenticate_user()"
      ],
      "execution_count": 0,
      "outputs": []
    },
    {
      "metadata": {
        "id": "Zn-onntHM0lN",
        "colab_type": "code",
        "outputId": "cecef696-c107-43b1-fc0b-8446f5de4fae",
        "colab": {
          "base_uri": "https://localhost:8080/",
          "height": 70
        }
      },
      "cell_type": "code",
      "source": [
        "!gsutil cp gs://karino2-uspatent/features/test_grants_ids.pkl.gz ./bert/data/"
      ],
      "execution_count": 6,
      "outputs": [
        {
          "output_type": "stream",
          "text": [
            "Copying gs://karino2-uspatent/features/test_grants_ids.pkl.gz...\n",
            "/ [1 files][  3.0 MiB/  3.0 MiB]                                                \n",
            "Operation completed over 1 objects/3.0 MiB.                                      \n"
          ],
          "name": "stdout"
        }
      ]
    },
    {
      "metadata": {
        "id": "kywCunsPQxjZ",
        "colab_type": "code",
        "colab": {}
      },
      "cell_type": "code",
      "source": [
        "!ls ./bert/data"
      ],
      "execution_count": 0,
      "outputs": []
    },
    {
      "metadata": {
        "id": "S1jf0kzIM0Ss",
        "colab_type": "code",
        "colab": {}
      },
      "cell_type": "code",
      "source": [
        "with gzip.open(\"./bert/data/test_grants_ids.pkl.gz\", 'rb') as f:\n",
        "     (_, grants_ids) = pickle.load(f)"
      ],
      "execution_count": 0,
      "outputs": []
    },
    {
      "metadata": {
        "id": "nN0LX7jKOAdi",
        "colab_type": "code",
        "colab": {}
      },
      "cell_type": "code",
      "source": [
        ""
      ],
      "execution_count": 0,
      "outputs": []
    },
    {
      "metadata": {
        "id": "8vJgj4gZN_-_",
        "colab_type": "code",
        "colab": {}
      },
      "cell_type": "code",
      "source": [
        "!gsutil cp gs://karino2-uspatent/citations_info_2000.df.gz ./bert/data/\n",
        "!gsutil cp gs://karino2-uspatent/testset_app_1000.df.gz ./bert/data/\n",
        "!gsutil cp gs://karino2-uspatent/training_app_1000.df.gz ./bert/data/\n",
        "!gsutil cp gs://karino2-uspatent/grants_for_2000.df.gz ./bert/data/"
      ],
      "execution_count": 0,
      "outputs": []
    },
    {
      "metadata": {
        "id": "CJC9Q6MjOHZN",
        "colab_type": "code",
        "colab": {}
      },
      "cell_type": "code",
      "source": [
        "citations_info_target = pd.read_pickle(\"./bert/data/citations_info_2000.df.gz\")\n",
        "# training_app_df = pd.read_pickle(\"./bert/data/training_app_1000.df.gz\")\n",
        "testset_app_df = pd.read_pickle(\"./bert/data/testset_app_1000.df.gz\")\n",
        "grants_target_df = pd.read_pickle(\"./bert/data/grants_for_2000.df.gz\")"
      ],
      "execution_count": 0,
      "outputs": []
    },
    {
      "metadata": {
        "id": "_oPSPIxXM0Ba",
        "colab_type": "code",
        "colab": {}
      },
      "cell_type": "code",
      "source": [
        ""
      ],
      "execution_count": 0,
      "outputs": []
    },
    {
      "metadata": {
        "id": "yLWTT6NZ_ZYi",
        "colab_type": "text"
      },
      "cell_type": "markdown",
      "source": [
        "**Check tpu name**"
      ]
    },
    {
      "metadata": {
        "id": "pShRjorw_Lla",
        "colab_type": "code",
        "outputId": "6b94b961-8b56-465c-c640-d98f1657f512",
        "colab": {
          "base_uri": "https://localhost:8080/",
          "height": 266
        }
      },
      "cell_type": "code",
      "source": [
        "import datetime\n",
        "import json\n",
        "import os\n",
        "import pprint\n",
        "import random\n",
        "import string\n",
        "import sys\n",
        "import tensorflow as tf\n",
        "\n",
        "assert 'COLAB_TPU_ADDR' in os.environ, 'ERROR: Not connected to a TPU runtime; please see the first cell in this notebook for instructions!'\n",
        "TPU_ADDRESS = 'grpc://' + os.environ['COLAB_TPU_ADDR']\n",
        "print('TPU address is', TPU_ADDRESS)\n",
        "\n",
        "with tf.Session(TPU_ADDRESS) as session:\n",
        "  print('TPU devices:')\n",
        "  pprint.pprint(session.list_devices())\n",
        "\n",
        "  # Upload credentials to TPU.\n",
        "  with open('/content/adc.json', 'r') as f:\n",
        "    auth_info = json.load(f)\n",
        "  tf.contrib.cloud.configure_gcs(session, credentials=auth_info)\n",
        "  # Now credentials are set for all future sessions on this TPU."
      ],
      "execution_count": 9,
      "outputs": [
        {
          "output_type": "stream",
          "text": [
            "TPU address is grpc://10.29.55.130:8470\n",
            "TPU devices:\n",
            "[_DeviceAttributes(/job:tpu_worker/replica:0/task:0/device:CPU:0, CPU, -1, 15700132874213056335),\n",
            " _DeviceAttributes(/job:tpu_worker/replica:0/task:0/device:XLA_CPU:0, XLA_CPU, 17179869184, 2438556059540875912),\n",
            " _DeviceAttributes(/job:tpu_worker/replica:0/task:0/device:XLA_GPU:0, XLA_GPU, 17179869184, 7982358489383469006),\n",
            " _DeviceAttributes(/job:tpu_worker/replica:0/task:0/device:TPU:0, TPU, 17179869184, 7316591919784883874),\n",
            " _DeviceAttributes(/job:tpu_worker/replica:0/task:0/device:TPU:1, TPU, 17179869184, 4845482972589313628),\n",
            " _DeviceAttributes(/job:tpu_worker/replica:0/task:0/device:TPU:2, TPU, 17179869184, 6332370725057830377),\n",
            " _DeviceAttributes(/job:tpu_worker/replica:0/task:0/device:TPU:3, TPU, 17179869184, 2425035318090804676),\n",
            " _DeviceAttributes(/job:tpu_worker/replica:0/task:0/device:TPU:4, TPU, 17179869184, 17626031719690383485),\n",
            " _DeviceAttributes(/job:tpu_worker/replica:0/task:0/device:TPU:5, TPU, 17179869184, 16067268088775755867),\n",
            " _DeviceAttributes(/job:tpu_worker/replica:0/task:0/device:TPU:6, TPU, 17179869184, 13406126704661070781),\n",
            " _DeviceAttributes(/job:tpu_worker/replica:0/task:0/device:TPU:7, TPU, 17179869184, 15038171978008387548),\n",
            " _DeviceAttributes(/job:tpu_worker/replica:0/task:0/device:TPU_SYSTEM:0, TPU_SYSTEM, 17179869184, 9714518313074088812)]\n"
          ],
          "name": "stdout"
        }
      ]
    },
    {
      "metadata": {
        "id": "lBOhgRrYGJzS",
        "colab_type": "text"
      },
      "cell_type": "markdown",
      "source": [
        "### Bert setup"
      ]
    },
    {
      "metadata": {
        "id": "D9hQGFJRwbBl",
        "colab_type": "code",
        "colab": {}
      },
      "cell_type": "code",
      "source": [
        "VOCAB_CONFIG_PATH=' gs://yohei-kikuta/mlstudy-phys/bert/models/pre-trained-models/uncased_L-12_H-768_A-12' #@param {type:\"string\"}"
      ],
      "execution_count": 0,
      "outputs": []
    },
    {
      "metadata": {
        "id": "6hfcrTkmwNJE",
        "colab_type": "code",
        "outputId": "56b1fcc0-b7fa-4735-fd28-1f85c60ef390",
        "colab": {
          "base_uri": "https://localhost:8080/",
          "height": 124
        }
      },
      "cell_type": "code",
      "source": [
        "!gsutil cp {VOCAB_CONFIG_PATH}/vocab.txt ./bert/model/patent/vocab.txt\n",
        "!gsutil cp {VOCAB_CONFIG_PATH}/bert_config.json ./bert/model/patent/bert_config.json"
      ],
      "execution_count": 11,
      "outputs": [
        {
          "output_type": "stream",
          "text": [
            "Copying gs://yohei-kikuta/mlstudy-phys/bert/models/pre-trained-models/uncased_L-12_H-768_A-12/vocab.txt...\n",
            "- [1 files][226.1 KiB/226.1 KiB]                                                \n",
            "Operation completed over 1 objects/226.1 KiB.                                    \n",
            "Copying gs://yohei-kikuta/mlstudy-phys/bert/models/pre-trained-models/uncased_L-12_H-768_A-12/bert_config.json...\n",
            "/ [1 files][  313.0 B/  313.0 B]                                                \n",
            "Operation completed over 1 objects/313.0 B.                                      \n"
          ],
          "name": "stdout"
        }
      ]
    },
    {
      "metadata": {
        "id": "XWPKTaJ8viYi",
        "colab_type": "code",
        "outputId": "4eff7fb4-dcef-4401-c425-c708b3f25415",
        "colab": {
          "base_uri": "https://localhost:8080/",
          "height": 35
        }
      },
      "cell_type": "code",
      "source": [
        "!ls ./bert/model/patent"
      ],
      "execution_count": 12,
      "outputs": [
        {
          "output_type": "stream",
          "text": [
            "bert_config.json  vocab.txt\n"
          ],
          "name": "stdout"
        }
      ]
    },
    {
      "metadata": {
        "id": "_7OoVrSLxX2i",
        "colab_type": "code",
        "colab": {}
      },
      "cell_type": "code",
      "source": [
        ""
      ],
      "execution_count": 0,
      "outputs": []
    },
    {
      "metadata": {
        "id": "LpSs4ff-xXc4",
        "colab_type": "code",
        "colab": {}
      },
      "cell_type": "code",
      "source": [
        "import sys\n",
        "sys.path.append(\"./bert\")"
      ],
      "execution_count": 0,
      "outputs": []
    },
    {
      "metadata": {
        "id": "aiCmZuxgN2rx",
        "colab_type": "code",
        "colab": {}
      },
      "cell_type": "code",
      "source": [
        "import tokenization"
      ],
      "execution_count": 0,
      "outputs": []
    },
    {
      "metadata": {
        "id": "ZtR55qoWN2Uy",
        "colab_type": "code",
        "colab": {}
      },
      "cell_type": "code",
      "source": [
        "tokenizer = tokenization.FullTokenizer(\n",
        "    vocab_file=\"./bert/model/patent/vocab.txt\", do_lower_case=True)"
      ],
      "execution_count": 0,
      "outputs": []
    },
    {
      "metadata": {
        "id": "xgyWpBn-N99_",
        "colab_type": "code",
        "colab": {}
      },
      "cell_type": "code",
      "source": [
        "CLS_ID = tokenizer.vocab[\"[CLS]\"]\n",
        "SEP_ID = tokenizer.vocab[\"[SEP]\"]"
      ],
      "execution_count": 0,
      "outputs": []
    },
    {
      "metadata": {
        "id": "7eF3NHnxN9v8",
        "colab_type": "code",
        "colab": {}
      },
      "cell_type": "code",
      "source": [
        ""
      ],
      "execution_count": 0,
      "outputs": []
    },
    {
      "metadata": {
        "id": "5CLJu1tSKe5S",
        "colab_type": "code",
        "colab": {}
      },
      "cell_type": "code",
      "source": [
        "def _truncate_seq_pair(tokens_a, tokens_b, max_length):\n",
        "  \"\"\"Truncates a sequence pair in place to the maximum length.\"\"\"\n",
        "\n",
        "  # This is a simple heuristic which will always truncate the longer sequence\n",
        "  # one token at a time. This makes more sense than truncating an equal percent\n",
        "  # of tokens from each, since if one sequence is very short then each token\n",
        "  # that's truncated likely contains more information than a longer sequence.\n",
        "  while True:\n",
        "    total_length = len(tokens_a) + len(tokens_b)\n",
        "    if total_length <= max_length:\n",
        "      break\n",
        "    if len(tokens_a) > len(tokens_b):\n",
        "      tokens_a.pop()\n",
        "    else:\n",
        "      tokens_b.pop()"
      ],
      "execution_count": 0,
      "outputs": []
    },
    {
      "metadata": {
        "id": "s1IMQ8o6su3T",
        "colab_type": "code",
        "colab": {}
      },
      "cell_type": "code",
      "source": [
        "label_list = [\"not_entailment\", \"entailment\"]\n",
        "max_seq_length = 512\n",
        "\n",
        "label_map = {}\n",
        "for (i, label) in enumerate(label_list):\n",
        "  label_map[label] = i"
      ],
      "execution_count": 0,
      "outputs": []
    },
    {
      "metadata": {
        "id": "1KJ2xS5aI1G4",
        "colab_type": "code",
        "colab": {}
      },
      "cell_type": "code",
      "source": [
        "def original_convert_single_pair(ids_a_input, ids_b_input):\n",
        "\n",
        "  # Clone and pop for truncate. Most of the case result len is the same for our purpose, but try simple implementation first.\n",
        "  ids_a = list(ids_a_input)\n",
        "  ids_b = list(ids_b_input)\n",
        "    \n",
        "  # Modifies `tokens_a` and `tokens_b` in place so that the total\n",
        "  # length is less than the specified length.\n",
        "  # Account for [CLS], [SEP], [SEP] with \"- 3\"\n",
        "  _truncate_seq_pair(ids_a, ids_b, max_seq_length - 3)\n",
        "\n",
        "  # The convention in BERT is:\n",
        "  # (a) For sequence pairs:\n",
        "  #  tokens:   [CLS] is this jack ##son ##ville ? [SEP] no it is not . [SEP]\n",
        "  #  type_ids: 0     0  0    0    0     0       0 0     1  1  1  1   1 1\n",
        "  # (b) For single sequences:\n",
        "  #  tokens:   [CLS] the dog is hairy . [SEP]\n",
        "  #  type_ids: 0     0   0   0  0     0 0\n",
        "  #\n",
        "  # Where \"type_ids\" are used to indicate whether this is the first\n",
        "  # sequence or the second sequence. The embedding vectors for `type=0` and\n",
        "  # `type=1` were learned during pre-training and are added to the wordpiece\n",
        "  # embedding vector (and position vector). This is not *strictly* necessary\n",
        "  # since the [SEP] token unambiguously separates the sequences, but it makes\n",
        "  # it easier for the model to learn the concept of sequences.\n",
        "  #\n",
        "  # For classification tasks, the first vector (corresponding to [CLS]) is\n",
        "  # used as as the \"sentence vector\". Note that this only makes sense because\n",
        "  # the entire model is fine-tuned.\n",
        "  input_ids = []\n",
        "  segment_ids = []\n",
        "  input_ids.append(CLS_ID)\n",
        "  segment_ids.append(0)\n",
        "  for token in ids_a:\n",
        "    input_ids.append(token)\n",
        "    segment_ids.append(0)\n",
        "  input_ids.append(SEP_ID)\n",
        "  segment_ids.append(0)\n",
        "\n",
        "  for token in ids_b:\n",
        "    input_ids.append(token)\n",
        "    segment_ids.append(1)\n",
        "  input_ids.append(SEP_ID)\n",
        "  segment_ids.append(1)\n",
        "\n",
        "  # The mask has 1 for real tokens and 0 for padding tokens. Only real\n",
        "  # tokens are attended to.\n",
        "  input_mask = [1] * len(input_ids)\n",
        "\n",
        "  # Zero-pad up to the sequence length.\n",
        "  while len(input_ids) < max_seq_length:\n",
        "    input_ids.append(0)\n",
        "    input_mask.append(0)\n",
        "    segment_ids.append(0)\n",
        "\n",
        "  assert len(input_ids) == max_seq_length\n",
        "  assert len(input_mask) == max_seq_length\n",
        "  assert len(segment_ids) == max_seq_length\n",
        "\n",
        "  return (input_ids, input_mask, segment_ids)\n"
      ],
      "execution_count": 0,
      "outputs": []
    },
    {
      "metadata": {
        "id": "Ka67cUqvrzSn",
        "colab_type": "text"
      },
      "cell_type": "markdown",
      "source": [
        "### Optimization for our application\n",
        "\n",
        "dup ids consume huge memory.\n",
        "We cach and use the same memory if ids_a_nput and ids_b_input have enough size."
      ]
    },
    {
      "metadata": {
        "id": "vS4V68lnteSp",
        "colab_type": "code",
        "colab": {}
      },
      "cell_type": "code",
      "source": [
        "NORMAL_INPUT_MASK = [1]*max_seq_length\n",
        "NORMAL_SEGMENT_IDS = [0]*257+[1]*255"
      ],
      "execution_count": 0,
      "outputs": []
    },
    {
      "metadata": {
        "id": "WepvGg7GzBHN",
        "colab_type": "code",
        "colab": {}
      },
      "cell_type": "code",
      "source": [
        ""
      ],
      "execution_count": 0,
      "outputs": []
    },
    {
      "metadata": {
        "id": "jU7GTdsDu3pr",
        "colab_type": "code",
        "colab": {}
      },
      "cell_type": "code",
      "source": [
        "# [CLS](0), 1-255(len=255), [SEP], 257-510(len=254), [SEP]"
      ],
      "execution_count": 0,
      "outputs": []
    },
    {
      "metadata": {
        "id": "qEiIH_OYvdoi",
        "colab_type": "code",
        "colab": {}
      },
      "cell_type": "code",
      "source": [
        "LEN_255_CACHE = {}\n",
        "LEN_254_CACHE = {}"
      ],
      "execution_count": 0,
      "outputs": []
    },
    {
      "metadata": {
        "id": "3MXXhPIlwnpp",
        "colab_type": "code",
        "colab": {}
      },
      "cell_type": "code",
      "source": [
        "def truncage_with_cache(ids, target_len):\n",
        "  if target_len == 255:\n",
        "    cache = LEN_255_CACHE\n",
        "  else:\n",
        "    assert target_len == 254\n",
        "    cache = LEN_254_CACHE\n",
        "  if ids not in cache:\n",
        "    cache[ids] = ids[0:target_len]\n",
        "  return cache[ids]"
      ],
      "execution_count": 0,
      "outputs": []
    },
    {
      "metadata": {
        "id": "-aZoDPL9rtr_",
        "colab_type": "code",
        "colab": {}
      },
      "cell_type": "code",
      "source": [
        "def fast_convert_single_pair(ids_a_input, ids_b_input):  \n",
        "  if (len(ids_a_input) < 256) or (len(ids_b_input) < 256) :\n",
        "    return original_convert_single_pair(ids_a_input, ids_b_input)\n",
        "  \n",
        "  ids_a = truncage_with_cache(ids_a_input, 255)\n",
        "  ids_b = truncage_with_cache(ids_b_input, 254)\n",
        "\n",
        "  input_ids = (CLS_ID,) + ids_a + (SEP_ID,) + ids_b + (SEP_ID,)\n",
        "  \n",
        "  return (input_ids, NORMAL_INPUT_MASK, NORMAL_SEGMENT_IDS)\n"
      ],
      "execution_count": 0,
      "outputs": []
    },
    {
      "metadata": {
        "id": "5ODA4cgTN6nu",
        "colab_type": "code",
        "colab": {}
      },
      "cell_type": "code",
      "source": [
        "def feature_tuplist_to_feature_dict(ftups):\n",
        "    dic = {}\n",
        "    dic['input_ids'] = [tup[0] for tup in ftups]\n",
        "    dic[\"input_mask\"] = [tup[1] for tup in ftups]\n",
        "    dic[\"segment_ids\"] = [tup[2] for tup in ftups]\n",
        "    dic[\"label_ids\"] = [[0] for _ in ftups]\n",
        "    return dic"
      ],
      "execution_count": 0,
      "outputs": []
    },
    {
      "metadata": {
        "id": "qr6ULqjyzVHC",
        "colab_type": "code",
        "colab": {}
      },
      "cell_type": "code",
      "source": [
        "# convert to tuple for optimization.\n",
        "grants_ids_tup = [tuple(ids) for ids in grants_ids]"
      ],
      "execution_count": 0,
      "outputs": []
    },
    {
      "metadata": {
        "id": "EpPg7jBjNzYI",
        "colab_type": "text"
      },
      "cell_type": "markdown",
      "source": [
        "Tokenize claim"
      ]
    },
    {
      "metadata": {
        "id": "EbuFVKieOfpQ",
        "colab_type": "code",
        "colab": {}
      },
      "cell_type": "code",
      "source": [
        "import re\n",
        "\n",
        "CLAIM_PAT = re.compile(r'<claims[^>]*>(.*)</claims>',re.MULTILINE|re.DOTALL)\n",
        "TAG_PAT = re.compile(r\"<.*?>\")\n",
        "\n",
        "\n",
        "def whole_xml_to_claim_xml(whole):\n",
        "    mat = CLAIM_PAT.search(whole)\n",
        "    return mat.group(1)\n",
        "  \n",
        "  \n",
        "def whole_xml_to_claim(whole):\n",
        "    return TAG_PAT.sub(' ', whole_xml_to_claim_xml(whole))"
      ],
      "execution_count": 0,
      "outputs": []
    },
    {
      "metadata": {
        "id": "wLmSPcs6N4RZ",
        "colab_type": "code",
        "colab": {}
      },
      "cell_type": "code",
      "source": [
        "def claim_to_ids(claim):\n",
        "  return tokenizer.convert_tokens_to_ids(tokenizer.tokenize(claim))"
      ],
      "execution_count": 0,
      "outputs": []
    },
    {
      "metadata": {
        "id": "O473b-9RnnZ7",
        "colab_type": "text"
      },
      "cell_type": "markdown",
      "source": [
        "# Model setup"
      ]
    },
    {
      "metadata": {
        "id": "bgGldgUEN4cD",
        "colab_type": "code",
        "colab": {}
      },
      "cell_type": "code",
      "source": [
        ""
      ],
      "execution_count": 0,
      "outputs": []
    },
    {
      "metadata": {
        "id": "_9U0S-hYxeMY",
        "colab_type": "code",
        "colab": {}
      },
      "cell_type": "code",
      "source": [
        "import os\n",
        "\n",
        "import modeling\n",
        "import tokenization\n",
        "\n",
        "from run_classifier import model_fn_builder\n"
      ],
      "execution_count": 0,
      "outputs": []
    },
    {
      "metadata": {
        "id": "AburDQpQxd_k",
        "colab_type": "code",
        "colab": {}
      },
      "cell_type": "code",
      "source": [
        "bert_config = modeling.BertConfig.from_json_file(\"./bert/model/patent/bert_config.json\")"
      ],
      "execution_count": 0,
      "outputs": []
    },
    {
      "metadata": {
        "id": "-hGfDjS6x7fw",
        "colab_type": "code",
        "outputId": "19a71039-4f19-454d-ec6b-2bd26c8e152e",
        "colab": {
          "base_uri": "https://localhost:8080/",
          "height": 53
        }
      },
      "cell_type": "code",
      "source": [
        "BUCKET = 'karino2-uspatent' #@param {type:\"string\"}\n",
        "OUTPUT_DIR = 'gs://{}/mlstudy-phys/bert/models/patent_1000'.format(BUCKET)\n",
        "\n",
        "INIT_CHECK_POINT_FILE='model.ckpt-1602' #@param {type:\"string\"}\n",
        "INIT_CHECK_POINT = '{}/{}'.format(OUTPUT_DIR, INIT_CHECK_POINT_FILE)\n",
        "\n",
        "tf.gfile.MakeDirs(OUTPUT_DIR)\n",
        "print('***** Model output directory: {} *****'.format(OUTPUT_DIR))\n",
        "print('***** Init checkpoint: {} *****'.format(INIT_CHECK_POINT))"
      ],
      "execution_count": 123,
      "outputs": [
        {
          "output_type": "stream",
          "text": [
            "***** Model output directory: gs://karino2-uspatent/mlstudy-phys/bert/models/patent_1000 *****\n",
            "***** Init checkpoint: gs://karino2-uspatent/mlstudy-phys/bert/models/patent_1000/model.ckpt-1602 *****\n"
          ],
          "name": "stdout"
        }
      ]
    },
    {
      "metadata": {
        "id": "D7yRP7fE5qu2",
        "colab_type": "code",
        "colab": {}
      },
      "cell_type": "code",
      "source": [
        ""
      ],
      "execution_count": 0,
      "outputs": []
    },
    {
      "metadata": {
        "id": "OISS39WWxdxv",
        "colab_type": "code",
        "colab": {}
      },
      "cell_type": "code",
      "source": [
        "class FLAGS(object):\n",
        "    '''Parameters.'''\n",
        "    def __init__(self):\n",
        "        self.vocab_file = \"./bert/model/patent/vocab.txt\"\n",
        "        self.use_tpu = True\n",
        "        self.output_dir = OUTPUT_DIR\n",
        "        # self.data_dir = \"./bert/data/1000\"\n",
        "        self.init_checkpoint = INIT_CHECK_POINT\n",
        "        self.predict_batch_size = 16\n",
        "        # TPU related\n",
        "        self.num_tpu_cores = 8\n",
        "        self.tpu_name = TPU_ADDRESS\n",
        "        \n",
        "        # following parameters are not used anymore. (because we create feature by hand)\n",
        "        self.do_lower_case = True\n",
        "        self.max_seq_length = 512\n",
        "        \n",
        "        # The following parameters are not used in predictions.\n",
        "        # Just use to create RunConfig.\n",
        "        self.master = None\n",
        "        self.save_checkpoints_steps = 1\n",
        "        self.learning_rate = 0\n",
        "        self.num_warmup_steps = 0\n",
        "        self.num_train_steps = 0\n",
        "        # TPU related. Some of these value have positive int not to make TPUEstimator angry (even though these are not used...).\n",
        "        self.eval_batch_size = 32\n",
        "        self.train_batch_size = 32 \n",
        "        self.iterations_per_loop = 1000\n"
      ],
      "execution_count": 0,
      "outputs": []
    },
    {
      "metadata": {
        "id": "YjiBu4fzxdjY",
        "colab_type": "code",
        "colab": {}
      },
      "cell_type": "code",
      "source": [
        "FLAGS = FLAGS()"
      ],
      "execution_count": 0,
      "outputs": []
    },
    {
      "metadata": {
        "id": "Wvl80s6_zH_T",
        "colab_type": "code",
        "colab": {}
      },
      "cell_type": "code",
      "source": [
        "# tokenizer = tokenization.FullTokenizer(\n",
        "#    vocab_file=FLAGS.vocab_file, do_lower_case=FLAGS.do_lower_case)\n",
        "\n",
        "# tpu_cluster_resolver = tf.contrib.cluster_resolver.TPUClusterResolver(tpu=FLAGS.tpu_name).get_master()\n",
        "tpu_cluster_resolver = tf.contrib.cluster_resolver.TPUClusterResolver(tpu=FLAGS.tpu_name)\n",
        "\n",
        "is_per_host = tf.contrib.tpu.InputPipelineConfig.PER_HOST_V2\n",
        "\n",
        "run_config = tf.contrib.tpu.RunConfig(\n",
        "    cluster=tpu_cluster_resolver,\n",
        "    master=FLAGS.master,\n",
        "    model_dir=FLAGS.output_dir,\n",
        "    save_checkpoints_steps=FLAGS.save_checkpoints_steps,\n",
        "    tpu_config=tf.contrib.tpu.TPUConfig(\n",
        "        iterations_per_loop=FLAGS.iterations_per_loop,\n",
        "        num_shards=FLAGS.num_tpu_cores,\n",
        "        per_host_input_for_training=is_per_host))"
      ],
      "execution_count": 0,
      "outputs": []
    },
    {
      "metadata": {
        "id": "icN9SGPpzHxe",
        "colab_type": "code",
        "colab": {}
      },
      "cell_type": "code",
      "source": [
        "model_fn = model_fn_builder(\n",
        "    bert_config=bert_config,\n",
        "    num_labels=len([\"not_entailment\", \"entailment\"]),\n",
        "    init_checkpoint=FLAGS.init_checkpoint,\n",
        "    learning_rate=FLAGS.learning_rate,\n",
        "    num_train_steps=FLAGS.num_train_steps,\n",
        "    num_warmup_steps=FLAGS.num_warmup_steps,\n",
        "    use_tpu=FLAGS.use_tpu,\n",
        "    use_one_hot_embeddings=FLAGS.use_tpu)"
      ],
      "execution_count": 0,
      "outputs": []
    },
    {
      "metadata": {
        "id": "YOnW40GE9yTU",
        "colab_type": "code",
        "colab": {}
      },
      "cell_type": "code",
      "source": [
        "# https://github.com/kyzhouhzau/BERT-NER/issues/19\n",
        "\n",
        "def model_fn_wrapper(features, labels, mode, params):\n",
        "  tspec = model_fn(features, labels, mode, params)\n",
        "  pred_dict = {'predictions': tspec.predictions}\n",
        "  return tf.contrib.tpu.TPUEstimatorSpec(\n",
        "          mode=tspec.mode, predictions=pred_dict, scaffold_fn=tspec.scaffold_fn)\n"
      ],
      "execution_count": 0,
      "outputs": []
    },
    {
      "metadata": {
        "id": "rPgJuC0A9yAq",
        "colab_type": "code",
        "outputId": "1fed23c0-3992-48b3-e9a9-8a3c328f2780",
        "colab": {
          "base_uri": "https://localhost:8080/",
          "height": 250
        }
      },
      "cell_type": "code",
      "source": [
        "estimator = tf.contrib.tpu.TPUEstimator(\n",
        "    use_tpu=FLAGS.use_tpu,\n",
        "    # model_fn=model_fn,\n",
        "    model_fn=model_fn_wrapper,\n",
        "    config=run_config,\n",
        "    train_batch_size=FLAGS.train_batch_size,\n",
        "    eval_batch_size=FLAGS.eval_batch_size,\n",
        "    predict_batch_size=FLAGS.predict_batch_size)"
      ],
      "execution_count": 129,
      "outputs": [
        {
          "output_type": "stream",
          "text": [
            "WARNING:tensorflow:Estimator's model_fn (<function model_fn_wrapper at 0x7f92b534f8c8>) includes params argument, but params are not passed to Estimator.\n",
            "INFO:tensorflow:Using config: {'_model_dir': 'gs://karino2-uspatent/mlstudy-phys/bert/models/patent_1000', '_tf_random_seed': None, '_save_summary_steps': 100, '_save_checkpoints_steps': 1, '_save_checkpoints_secs': None, '_session_config': allow_soft_placement: true\n",
            "cluster_def {\n",
            "  job {\n",
            "    name: \"worker\"\n",
            "    tasks {\n",
            "      value: \"10.29.55.130:8470\"\n",
            "    }\n",
            "  }\n",
            "}\n",
            ", '_keep_checkpoint_max': 5, '_keep_checkpoint_every_n_hours': 10000, '_log_step_count_steps': None, '_train_distribute': None, '_device_fn': None, '_protocol': None, '_eval_distribute': None, '_experimental_distribute': None, '_service': None, '_cluster_spec': <tensorflow.python.training.server_lib.ClusterSpec object at 0x7f92b53e5da0>, '_task_type': 'worker', '_task_id': 0, '_global_id_in_cluster': 0, '_master': b'grpc://10.29.55.130:8470', '_evaluation_master': b'grpc://10.29.55.130:8470', '_is_chief': True, '_num_ps_replicas': 0, '_num_worker_replicas': 1, '_tpu_config': TPUConfig(iterations_per_loop=1000, num_shards=8, num_cores_per_replica=None, per_host_input_for_training=3, tpu_job_name=None, initial_infeed_sleep_secs=None, input_partition_dims=None), '_cluster': <tensorflow.contrib.cluster_resolver.python.training.tpu_cluster_resolver.TPUClusterResolver object at 0x7f92b53e58d0>}\n",
            "INFO:tensorflow:_TPUContext: eval_on_tpu True\n"
          ],
          "name": "stdout"
        }
      ]
    },
    {
      "metadata": {
        "id": "0neZwVmuoZ6C",
        "colab_type": "code",
        "colab": {}
      },
      "cell_type": "code",
      "source": [
        "tf.logging.set_verbosity(tf.logging.ERROR)"
      ],
      "execution_count": 0,
      "outputs": []
    },
    {
      "metadata": {
        "id": "nXqSH6HmoZrJ",
        "colab_type": "code",
        "colab": {}
      },
      "cell_type": "code",
      "source": [
        "def predict_fdicts(fdict):\n",
        "  def _batch_input_function(params):\n",
        "    test_ds = tf.data.Dataset.from_tensor_slices(fdict)    \n",
        "    return test_ds.batch(params['batch_size'])\n",
        "  \n",
        "  result = estimator.predict(_batch_input_function)\n",
        "  print(datetime.datetime.today())\n",
        "  result = list(result)\n",
        "  print(datetime.datetime.today())\n",
        "  \n",
        "  return  [pred['predictions'] for pred in result]\n"
      ],
      "execution_count": 0,
      "outputs": []
    },
    {
      "metadata": {
        "id": "EtOaMQvloZSz",
        "colab_type": "code",
        "colab": {}
      },
      "cell_type": "code",
      "source": [
        ""
      ],
      "execution_count": 0,
      "outputs": []
    },
    {
      "metadata": {
        "id": "bKK_MOdEPHUj",
        "colab_type": "text"
      },
      "cell_type": "markdown",
      "source": [
        "# Interactive view"
      ]
    },
    {
      "metadata": {
        "id": "2DTtgwRTuvSn",
        "colab_type": "code",
        "colab": {}
      },
      "cell_type": "code",
      "source": [
        "def results_to_result_df(results):\n",
        "  results_arr = np.array(results)\n",
        "  results_df = grants_target_df.copy()\n",
        "  results_df[\"score\"] = results_arr[:, 1]\n",
        "  return results_df.sort_values(\"score\", ascending=False)"
      ],
      "execution_count": 0,
      "outputs": []
    },
    {
      "metadata": {
        "id": "yw2POytHbQ6R",
        "colab_type": "code",
        "colab": {}
      },
      "cell_type": "code",
      "source": [
        "from google.colab import widgets\n",
        "from google.colab import output\n"
      ],
      "execution_count": 0,
      "outputs": []
    },
    {
      "metadata": {
        "id": "Anj_wKJdvHkP",
        "colab_type": "code",
        "colab": {}
      },
      "cell_type": "code",
      "source": [
        "def show_candidates(result_df, app_id):\n",
        "  print('Show 10 most probable candidate for app({})'.format(app_id))\n",
        "\n",
        "  candidate_df = result_df.sort_values(\"score\", ascending=False)[0:10]\n",
        "\n",
        "\n",
        "  tab_labels = list(candidate_df.apply(lambda row: \"{}:{:.6f}\".format(row.parsed, row.score), axis=1))\n",
        "\n",
        "  tb = widgets.TabBar(tab_labels, location=\"top\")\n",
        "  for i, _ in enumerate(tab_labels):\n",
        "    with tb.output_to(i):\n",
        "      print(whole_xml_to_claim(candidate_df[\"xml\"].values[i]))"
      ],
      "execution_count": 0,
      "outputs": []
    },
    {
      "metadata": {
        "id": "lFXBo084xThx",
        "colab_type": "text"
      },
      "cell_type": "markdown",
      "source": [
        "### How to use\n",
        "\n",
        "1. Eval cell below (the result is random sampled every time you eval)\n",
        "2. Read the claim from tabs and decide the application claim which you want to search the cited candidate for.\n",
        "3. Choose tag index from dropdown below to specify search candidate (left most tab is 0)\n",
        "4. Eval cell below the dropdown cell. This cell takes about 40 seconds.\n",
        "5. See the results."
      ]
    },
    {
      "metadata": {
        "id": "7Z9CKgdlZYrn",
        "colab_type": "code",
        "colab": {}
      },
      "cell_type": "code",
      "source": [
        "print('Random 10 sampling of application claims. (re-sampling each time cell eval)')\n",
        "\n",
        "\n",
        "sampled_apps = testset_app_df.sample(10)\n",
        "\n",
        "\n",
        "app_ids = list(map(lambda s: str(s), sampled_apps.app_id.values))\n",
        "\n",
        "tb = widgets.TabBar(app_ids, location=\"top\")\n",
        "for i, _ in enumerate(app_ids):\n",
        "  with tb.output_to(i):\n",
        "    print(whole_xml_to_claim(sampled_apps[\"xml\"].values[i]))\n",
        "    \n"
      ],
      "execution_count": 0,
      "outputs": []
    },
    {
      "metadata": {
        "id": "V8OTh9iljZOy",
        "colab_type": "code",
        "colab": {
          "base_uri": "https://localhost:8080/",
          "height": 108
        },
        "outputId": "d71dd310-b3ca-42bc-ffbc-a78a02fed9eb"
      },
      "cell_type": "code",
      "source": [
        "#@title 検索する出願のインデックス（上記タブの0から9番目のどれか）を選ぶ { run: \"auto\", vertical-output: true }\n",
        "\n",
        "target_claim_index = \"7\" #@param [0, 1, 2, 3, 4, 5, 6, 7, 8, 9]\n",
        "\n",
        "# Selected result becomes string...\n",
        "target_claim_idx = int(target_claim_index)\n",
        "print(\"target app: {}\".format(app_ids[target_claim_idx]))\n",
        "target_claim = whole_xml_to_claim(sampled_apps[\"xml\"].values[target_claim_idx])\n",
        "print(\"claim: {}...\".format(target_claim[0:100]))"
      ],
      "execution_count": 183,
      "outputs": [
        {
          "output_type": "stream",
          "text": [
            "target app: 12564725\n",
            "claim: \n",
            " \n",
            "  1 . A terminal device including a display section and an operating section, which is capable of...\n"
          ],
          "name": "stdout"
        }
      ]
    },
    {
      "metadata": {
        "id": "Jg-NxBHMkTLh",
        "colab_type": "code",
        "colab": {}
      },
      "cell_type": "code",
      "source": [
        "target_claim_ids = tuple(claim_to_ids(target_claim))\n",
        "pairs = [(target_claim_ids, grants_claim) for grants_claim in grants_ids_tup]\n",
        "fdicts = feature_tuplist_to_feature_dict([fast_convert_single_pair(tup[0], tup[1]) for tup in pairs])\n",
        "\n",
        "# The below line takes about 40 seconds\n",
        "results = predict_fdicts(fdicts)\n",
        "\n",
        "results_df = results_to_result_df(results)\n",
        "show_candidates(results_df, app_ids[target_claim_idx])"
      ],
      "execution_count": 0,
      "outputs": []
    }
  ]
}