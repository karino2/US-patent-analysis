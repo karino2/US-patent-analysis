{
  "nbformat": 4,
  "nbformat_minor": 0,
  "metadata": {
    "colab": {
      "name": "bert-interactive-benchmark-2000.ipynb",
      "version": "0.3.2",
      "provenance": [],
      "collapsed_sections": [],
      "toc_visible": true,
      "include_colab_link": true
    },
    "kernelspec": {
      "name": "python3",
      "display_name": "Python 3"
    },
    "accelerator": "TPU"
  },
  "cells": [
    {
      "cell_type": "markdown",
      "metadata": {
        "id": "view-in-github",
        "colab_type": "text"
      },
      "source": [
        "<a href=\"https://colab.research.google.com/github/karino2/US-patent-analysis/blob/master/colab/bert_interactive_benchmark_2000.ipynb\" target=\"_parent\"><img src=\"https://colab.research.google.com/assets/colab-badge.svg\" alt=\"Open In Colab\"/></a>"
      ]
    },
    {
      "metadata": {
        "id": "rQph610BeO4I",
        "colab_type": "text"
      },
      "cell_type": "markdown",
      "source": [
        "**Interacitve evaluation notebook for BERT with grants2000**\n",
        "\n",
        "Input app claim (from 2017, cited from 2012) and show most similar claim."
      ]
    },
    {
      "metadata": {
        "id": "3Cv0EJiZ8vi6",
        "colab_type": "code",
        "colab": {}
      },
      "cell_type": "code",
      "source": [
        "import os\n",
        "import datetime\n",
        "import pickle\n",
        "import gzip\n",
        "import pandas as pd\n",
        "import numpy as np\n",
        "\n",
        "import tensorflow as tf"
      ],
      "execution_count": 0,
      "outputs": []
    },
    {
      "metadata": {
        "id": "R3AyT0Fq8yzD",
        "colab_type": "code",
        "outputId": "fea75bb7-5ce9-428a-daf9-e0bd2f569644",
        "colab": {
          "base_uri": "https://localhost:8080/",
          "height": 35
        }
      },
      "cell_type": "code",
      "source": [
        "tf.__version__"
      ],
      "execution_count": 2,
      "outputs": [
        {
          "output_type": "execute_result",
          "data": {
            "text/plain": [
              "'1.13.1'"
            ]
          },
          "metadata": {
            "tags": []
          },
          "execution_count": 2
        }
      ]
    },
    {
      "metadata": {
        "id": "3cM2dZ__NPt1",
        "colab_type": "code",
        "outputId": "aa7b75b9-6598-4d89-88c6-d1a5f844fd27",
        "colab": {
          "base_uri": "https://localhost:8080/",
          "height": 106
        }
      },
      "cell_type": "code",
      "source": [
        "!git clone -b docker https://github.com/yoheikikuta/bert.git"
      ],
      "execution_count": 3,
      "outputs": [
        {
          "output_type": "stream",
          "text": [
            "Cloning into 'bert'...\n",
            "remote: Enumerating objects: 269, done.\u001b[K\n",
            "remote: Total 269 (delta 0), reused 0 (delta 0), pack-reused 269\u001b[K\n",
            "Receiving objects: 100% (269/269), 220.79 KiB | 3.02 MiB/s, done.\n",
            "Resolving deltas: 100% (144/144), done.\n"
          ],
          "name": "stdout"
        }
      ]
    },
    {
      "metadata": {
        "id": "eg8r8ARt89w3",
        "colab_type": "code",
        "outputId": "77f4489b-ebbb-4127-df0d-eb87d14874bc",
        "colab": {
          "base_uri": "https://localhost:8080/",
          "height": 35
        }
      },
      "cell_type": "code",
      "source": [
        "!ls"
      ],
      "execution_count": 4,
      "outputs": [
        {
          "output_type": "stream",
          "text": [
            "bert  sample_data\n"
          ],
          "name": "stdout"
        }
      ]
    },
    {
      "metadata": {
        "id": "zgPiQOJRMgxt",
        "colab_type": "text"
      },
      "cell_type": "markdown",
      "source": [
        "# Data setup\n",
        "\n",
        "Data setup is based on https://github.com/karino2/US-patent-analysis/blob/bert_input/colab/bert_tokenized_claim_setup.ipynb\n",
        "\n",
        "We only use grants tokens. (though file both contains applications and grants)"
      ]
    },
    {
      "metadata": {
        "id": "XG9_uLXKMf2t",
        "colab_type": "code",
        "colab": {}
      },
      "cell_type": "code",
      "source": [
        "!mkdir ./bert/data"
      ],
      "execution_count": 0,
      "outputs": []
    },
    {
      "metadata": {
        "id": "j-n-oE9aNPs6",
        "colab_type": "code",
        "outputId": "0975ffad-662b-4c2d-b56c-28cc94dffce3",
        "colab": {
          "base_uri": "https://localhost:8080/",
          "height": 141
        }
      },
      "cell_type": "code",
      "source": [
        "from google.colab import auth\n",
        "auth.authenticate_user()"
      ],
      "execution_count": 6,
      "outputs": [
        {
          "output_type": "stream",
          "text": [
            "\n",
            "WARNING: The TensorFlow contrib module will not be included in TensorFlow 2.0.\n",
            "For more information, please see:\n",
            "  * https://github.com/tensorflow/community/blob/master/rfcs/20180907-contrib-sunset.md\n",
            "  * https://github.com/tensorflow/addons\n",
            "If you depend on functionality not listed there, please file an issue.\n",
            "\n"
          ],
          "name": "stdout"
        }
      ]
    },
    {
      "metadata": {
        "id": "Zn-onntHM0lN",
        "colab_type": "code",
        "outputId": "b15af64e-7c7e-4e72-88f2-657db27a3f59",
        "colab": {
          "base_uri": "https://localhost:8080/",
          "height": 70
        }
      },
      "cell_type": "code",
      "source": [
        "!gsutil cp gs://karino2-uspatent/features/test_grants_ids.pkl.gz ./bert/data/"
      ],
      "execution_count": 30,
      "outputs": [
        {
          "output_type": "stream",
          "text": [
            "Copying gs://karino2-uspatent/features/test_grants_ids.pkl.gz...\n",
            "/ [1 files][  3.0 MiB/  3.0 MiB]                                                \n",
            "Operation completed over 1 objects/3.0 MiB.                                      \n"
          ],
          "name": "stdout"
        }
      ]
    },
    {
      "metadata": {
        "id": "kywCunsPQxjZ",
        "colab_type": "code",
        "outputId": "58679487-9ce7-4cb2-ea77-c881ae5c78ca",
        "colab": {
          "base_uri": "https://localhost:8080/",
          "height": 53
        }
      },
      "cell_type": "code",
      "source": [
        "!ls ./bert/data"
      ],
      "execution_count": 31,
      "outputs": [
        {
          "output_type": "stream",
          "text": [
            "citations_info_2000.df.gz  test_grants_ids.pkl.gz  training_app_1000.df.gz\n",
            "grants_for_2000.df.gz\t   testset_app_1000.df.gz\n"
          ],
          "name": "stdout"
        }
      ]
    },
    {
      "metadata": {
        "id": "S1jf0kzIM0Ss",
        "colab_type": "code",
        "colab": {}
      },
      "cell_type": "code",
      "source": [
        "with gzip.open(\"./bert/data/test_grants_ids.pkl.gz\", 'rb') as f:\n",
        "     (_, grants_ids) = pickle.load(f)"
      ],
      "execution_count": 0,
      "outputs": []
    },
    {
      "metadata": {
        "id": "nN0LX7jKOAdi",
        "colab_type": "code",
        "colab": {}
      },
      "cell_type": "code",
      "source": [
        ""
      ],
      "execution_count": 0,
      "outputs": []
    },
    {
      "metadata": {
        "id": "8vJgj4gZN_-_",
        "colab_type": "code",
        "outputId": "fd57fd52-686b-4825-edbd-2c735911bdd6",
        "colab": {
          "base_uri": "https://localhost:8080/",
          "height": 230
        }
      },
      "cell_type": "code",
      "source": [
        "!gsutil cp gs://karino2-uspatent/citations_info_2000.df.gz ./bert/data/\n",
        "!gsutil cp gs://karino2-uspatent/testset_app_1000.df.gz ./bert/data/\n",
        "!gsutil cp gs://karino2-uspatent/training_app_1000.df.gz ./bert/data/\n",
        "!gsutil cp gs://karino2-uspatent/grants_for_2000.df.gz ./bert/data/"
      ],
      "execution_count": 33,
      "outputs": [
        {
          "output_type": "stream",
          "text": [
            "Copying gs://karino2-uspatent/citations_info_2000.df.gz...\n",
            "/ [0 files][    0.0 B/234.3 KiB]                                                \r/ [1 files][234.3 KiB/234.3 KiB]                                                \r\n",
            "Operation completed over 1 objects/234.3 KiB.                                    \n",
            "Copying gs://karino2-uspatent/testset_app_1000.df.gz...\n",
            "/ [1 files][ 13.4 MiB/ 13.4 MiB]                                                \n",
            "Operation completed over 1 objects/13.4 MiB.                                     \n",
            "Copying gs://karino2-uspatent/training_app_1000.df.gz...\n",
            "/ [1 files][ 14.2 MiB/ 14.2 MiB]                                                \n",
            "Operation completed over 1 objects/14.2 MiB.                                     \n",
            "Copying gs://karino2-uspatent/grants_for_2000.df.gz...\n",
            "- [1 files][ 44.6 MiB/ 44.6 MiB]                                                \n",
            "Operation completed over 1 objects/44.6 MiB.                                     \n"
          ],
          "name": "stdout"
        }
      ]
    },
    {
      "metadata": {
        "id": "CJC9Q6MjOHZN",
        "colab_type": "code",
        "colab": {}
      },
      "cell_type": "code",
      "source": [
        "citations_info_target = pd.read_pickle(\"./bert/data/citations_info_2000.df.gz\")\n",
        "# training_app_df = pd.read_pickle(\"./bert/data/training_app_1000.df.gz\")\n",
        "testset_app_df = pd.read_pickle(\"./bert/data/testset_app_1000.df.gz\")\n",
        "grants_target_df = pd.read_pickle(\"./bert/data/grants_for_2000.df.gz\")"
      ],
      "execution_count": 0,
      "outputs": []
    },
    {
      "metadata": {
        "id": "_oPSPIxXM0Ba",
        "colab_type": "code",
        "colab": {}
      },
      "cell_type": "code",
      "source": [
        ""
      ],
      "execution_count": 0,
      "outputs": []
    },
    {
      "metadata": {
        "id": "yLWTT6NZ_ZYi",
        "colab_type": "text"
      },
      "cell_type": "markdown",
      "source": [
        "**Check tpu name**"
      ]
    },
    {
      "metadata": {
        "id": "pShRjorw_Lla",
        "colab_type": "code",
        "outputId": "4cddae00-ea36-41ea-c98b-ade57c78b901",
        "colab": {
          "base_uri": "https://localhost:8080/",
          "height": 268
        }
      },
      "cell_type": "code",
      "source": [
        "import datetime\n",
        "import json\n",
        "import os\n",
        "import pprint\n",
        "import random\n",
        "import string\n",
        "import sys\n",
        "import tensorflow as tf\n",
        "\n",
        "assert 'COLAB_TPU_ADDR' in os.environ, 'ERROR: Not connected to a TPU runtime; please see the first cell in this notebook for instructions!'\n",
        "TPU_ADDRESS = 'grpc://' + os.environ['COLAB_TPU_ADDR']\n",
        "print('TPU address is', TPU_ADDRESS)\n",
        "\n",
        "with tf.Session(TPU_ADDRESS) as session:\n",
        "  print('TPU devices:')\n",
        "  pprint.pprint(session.list_devices())\n",
        "\n",
        "  # Upload credentials to TPU.\n",
        "  with open('/content/adc.json', 'r') as f:\n",
        "    auth_info = json.load(f)\n",
        "  tf.contrib.cloud.configure_gcs(session, credentials=auth_info)\n",
        "  # Now credentials are set for all future sessions on this TPU."
      ],
      "execution_count": 35,
      "outputs": [
        {
          "output_type": "stream",
          "text": [
            "TPU address is grpc://10.87.142.114:8470\n",
            "TPU devices:\n",
            "[_DeviceAttributes(/job:tpu_worker/replica:0/task:0/device:CPU:0, CPU, -1, 10878094257896328583),\n",
            " _DeviceAttributes(/job:tpu_worker/replica:0/task:0/device:XLA_CPU:0, XLA_CPU, 17179869184, 14507325377977331177),\n",
            " _DeviceAttributes(/job:tpu_worker/replica:0/task:0/device:TPU:0, TPU, 17179869184, 17786561109631184494),\n",
            " _DeviceAttributes(/job:tpu_worker/replica:0/task:0/device:TPU:1, TPU, 17179869184, 10065661719381128712),\n",
            " _DeviceAttributes(/job:tpu_worker/replica:0/task:0/device:TPU:2, TPU, 17179869184, 11359249902881542830),\n",
            " _DeviceAttributes(/job:tpu_worker/replica:0/task:0/device:TPU:3, TPU, 17179869184, 7160841484813163195),\n",
            " _DeviceAttributes(/job:tpu_worker/replica:0/task:0/device:TPU:4, TPU, 17179869184, 6186330487792786712),\n",
            " _DeviceAttributes(/job:tpu_worker/replica:0/task:0/device:TPU:5, TPU, 17179869184, 13184914240081517247),\n",
            " _DeviceAttributes(/job:tpu_worker/replica:0/task:0/device:TPU:6, TPU, 17179869184, 13600463087598048927),\n",
            " _DeviceAttributes(/job:tpu_worker/replica:0/task:0/device:TPU:7, TPU, 17179869184, 9350375951928791762),\n",
            " _DeviceAttributes(/job:tpu_worker/replica:0/task:0/device:TPU_SYSTEM:0, TPU_SYSTEM, 17179869184, 6862646974572246107)]\n"
          ],
          "name": "stdout"
        }
      ]
    },
    {
      "metadata": {
        "id": "lBOhgRrYGJzS",
        "colab_type": "text"
      },
      "cell_type": "markdown",
      "source": [
        "### Bert setup"
      ]
    },
    {
      "metadata": {
        "id": "D9hQGFJRwbBl",
        "colab_type": "code",
        "colab": {}
      },
      "cell_type": "code",
      "source": [
        "VOCAB_CONFIG_PATH=' gs://yohei-kikuta/mlstudy-phys/bert/models/pre-trained-models/uncased_L-12_H-768_A-12' #@param {type:\"string\"}"
      ],
      "execution_count": 0,
      "outputs": []
    },
    {
      "metadata": {
        "id": "6hfcrTkmwNJE",
        "colab_type": "code",
        "outputId": "444debbf-c290-4df9-832e-5982a0318ce5",
        "colab": {
          "base_uri": "https://localhost:8080/",
          "height": 144
        }
      },
      "cell_type": "code",
      "source": [
        "!gsutil cp {VOCAB_CONFIG_PATH}/vocab.txt ./bert/model/patent/vocab.txt\n",
        "!gsutil cp {VOCAB_CONFIG_PATH}/bert_config.json ./bert/model/patent/bert_config.json"
      ],
      "execution_count": 37,
      "outputs": [
        {
          "output_type": "stream",
          "text": [
            "Copying gs://yohei-kikuta/mlstudy-phys/bert/models/pre-trained-models/uncased_L-12_H-768_A-12/vocab.txt...\n",
            "/ [1 files][226.1 KiB/226.1 KiB]                                                \n",
            "Operation completed over 1 objects/226.1 KiB.                                    \n",
            "Copying gs://yohei-kikuta/mlstudy-phys/bert/models/pre-trained-models/uncased_L-12_H-768_A-12/bert_config.json...\n",
            "/ [1 files][  313.0 B/  313.0 B]                                                \n",
            "Operation completed over 1 objects/313.0 B.                                      \n"
          ],
          "name": "stdout"
        }
      ]
    },
    {
      "metadata": {
        "id": "XWPKTaJ8viYi",
        "colab_type": "code",
        "outputId": "a2000ace-f5a6-413b-d3ad-8e31217efcad",
        "colab": {
          "base_uri": "https://localhost:8080/",
          "height": 35
        }
      },
      "cell_type": "code",
      "source": [
        "!ls ./bert/model/patent"
      ],
      "execution_count": 38,
      "outputs": [
        {
          "output_type": "stream",
          "text": [
            "bert_config.json  vocab.txt\n"
          ],
          "name": "stdout"
        }
      ]
    },
    {
      "metadata": {
        "id": "_7OoVrSLxX2i",
        "colab_type": "code",
        "colab": {}
      },
      "cell_type": "code",
      "source": [
        ""
      ],
      "execution_count": 0,
      "outputs": []
    },
    {
      "metadata": {
        "id": "LpSs4ff-xXc4",
        "colab_type": "code",
        "colab": {}
      },
      "cell_type": "code",
      "source": [
        "import sys\n",
        "sys.path.append(\"./bert\")"
      ],
      "execution_count": 0,
      "outputs": []
    },
    {
      "metadata": {
        "id": "aiCmZuxgN2rx",
        "colab_type": "code",
        "colab": {}
      },
      "cell_type": "code",
      "source": [
        "import tokenization"
      ],
      "execution_count": 0,
      "outputs": []
    },
    {
      "metadata": {
        "id": "ZtR55qoWN2Uy",
        "colab_type": "code",
        "colab": {}
      },
      "cell_type": "code",
      "source": [
        "tokenizer = tokenization.FullTokenizer(\n",
        "    vocab_file=\"./bert/model/patent/vocab.txt\", do_lower_case=True)"
      ],
      "execution_count": 0,
      "outputs": []
    },
    {
      "metadata": {
        "id": "xgyWpBn-N99_",
        "colab_type": "code",
        "colab": {}
      },
      "cell_type": "code",
      "source": [
        "CLS_ID = tokenizer.vocab[\"[CLS]\"]\n",
        "SEP_ID = tokenizer.vocab[\"[SEP]\"]"
      ],
      "execution_count": 0,
      "outputs": []
    },
    {
      "metadata": {
        "id": "7eF3NHnxN9v8",
        "colab_type": "code",
        "colab": {}
      },
      "cell_type": "code",
      "source": [
        ""
      ],
      "execution_count": 0,
      "outputs": []
    },
    {
      "metadata": {
        "id": "5CLJu1tSKe5S",
        "colab_type": "code",
        "colab": {}
      },
      "cell_type": "code",
      "source": [
        "def _truncate_seq_pair(tokens_a, tokens_b, max_length):\n",
        "  \"\"\"Truncates a sequence pair in place to the maximum length.\"\"\"\n",
        "\n",
        "  # This is a simple heuristic which will always truncate the longer sequence\n",
        "  # one token at a time. This makes more sense than truncating an equal percent\n",
        "  # of tokens from each, since if one sequence is very short then each token\n",
        "  # that's truncated likely contains more information than a longer sequence.\n",
        "  while True:\n",
        "    total_length = len(tokens_a) + len(tokens_b)\n",
        "    if total_length <= max_length:\n",
        "      break\n",
        "    if len(tokens_a) > len(tokens_b):\n",
        "      tokens_a.pop()\n",
        "    else:\n",
        "      tokens_b.pop()"
      ],
      "execution_count": 0,
      "outputs": []
    },
    {
      "metadata": {
        "id": "s1IMQ8o6su3T",
        "colab_type": "code",
        "colab": {}
      },
      "cell_type": "code",
      "source": [
        "label_list = [\"not_entailment\", \"entailment\"]\n",
        "max_seq_length = 512\n",
        "\n",
        "label_map = {}\n",
        "for (i, label) in enumerate(label_list):\n",
        "  label_map[label] = i"
      ],
      "execution_count": 0,
      "outputs": []
    },
    {
      "metadata": {
        "id": "1KJ2xS5aI1G4",
        "colab_type": "code",
        "colab": {}
      },
      "cell_type": "code",
      "source": [
        "def original_convert_single_pair(ids_a_input, ids_b_input):\n",
        "\n",
        "  # Clone and pop for truncate. Most of the case result len is the same for our purpose, but try simple implementation first.\n",
        "  ids_a = list(ids_a_input)\n",
        "  ids_b = list(ids_b_input)\n",
        "    \n",
        "  # Modifies `tokens_a` and `tokens_b` in place so that the total\n",
        "  # length is less than the specified length.\n",
        "  # Account for [CLS], [SEP], [SEP] with \"- 3\"\n",
        "  _truncate_seq_pair(ids_a, ids_b, max_seq_length - 3)\n",
        "\n",
        "  # The convention in BERT is:\n",
        "  # (a) For sequence pairs:\n",
        "  #  tokens:   [CLS] is this jack ##son ##ville ? [SEP] no it is not . [SEP]\n",
        "  #  type_ids: 0     0  0    0    0     0       0 0     1  1  1  1   1 1\n",
        "  # (b) For single sequences:\n",
        "  #  tokens:   [CLS] the dog is hairy . [SEP]\n",
        "  #  type_ids: 0     0   0   0  0     0 0\n",
        "  #\n",
        "  # Where \"type_ids\" are used to indicate whether this is the first\n",
        "  # sequence or the second sequence. The embedding vectors for `type=0` and\n",
        "  # `type=1` were learned during pre-training and are added to the wordpiece\n",
        "  # embedding vector (and position vector). This is not *strictly* necessary\n",
        "  # since the [SEP] token unambiguously separates the sequences, but it makes\n",
        "  # it easier for the model to learn the concept of sequences.\n",
        "  #\n",
        "  # For classification tasks, the first vector (corresponding to [CLS]) is\n",
        "  # used as as the \"sentence vector\". Note that this only makes sense because\n",
        "  # the entire model is fine-tuned.\n",
        "  input_ids = []\n",
        "  segment_ids = []\n",
        "  input_ids.append(CLS_ID)\n",
        "  segment_ids.append(0)\n",
        "  for token in ids_a:\n",
        "    input_ids.append(token)\n",
        "    segment_ids.append(0)\n",
        "  input_ids.append(SEP_ID)\n",
        "  segment_ids.append(0)\n",
        "\n",
        "  for token in ids_b:\n",
        "    input_ids.append(token)\n",
        "    segment_ids.append(1)\n",
        "  input_ids.append(SEP_ID)\n",
        "  segment_ids.append(1)\n",
        "\n",
        "  # The mask has 1 for real tokens and 0 for padding tokens. Only real\n",
        "  # tokens are attended to.\n",
        "  input_mask = [1] * len(input_ids)\n",
        "\n",
        "  # Zero-pad up to the sequence length.\n",
        "  while len(input_ids) < max_seq_length:\n",
        "    input_ids.append(0)\n",
        "    input_mask.append(0)\n",
        "    segment_ids.append(0)\n",
        "\n",
        "  assert len(input_ids) == max_seq_length\n",
        "  assert len(input_mask) == max_seq_length\n",
        "  assert len(segment_ids) == max_seq_length\n",
        "\n",
        "  return (input_ids, input_mask, segment_ids)\n"
      ],
      "execution_count": 0,
      "outputs": []
    },
    {
      "metadata": {
        "id": "Ka67cUqvrzSn",
        "colab_type": "text"
      },
      "cell_type": "markdown",
      "source": [
        "### Optimization for our application\n",
        "\n",
        "dup ids consume huge memory.\n",
        "We cach and use the same memory if ids_a_nput and ids_b_input have enough size."
      ]
    },
    {
      "metadata": {
        "id": "vS4V68lnteSp",
        "colab_type": "code",
        "colab": {}
      },
      "cell_type": "code",
      "source": [
        "NORMAL_INPUT_MASK = [1]*max_seq_length\n",
        "NORMAL_SEGMENT_IDS = [0]*257+[1]*255"
      ],
      "execution_count": 0,
      "outputs": []
    },
    {
      "metadata": {
        "id": "WepvGg7GzBHN",
        "colab_type": "code",
        "colab": {}
      },
      "cell_type": "code",
      "source": [
        ""
      ],
      "execution_count": 0,
      "outputs": []
    },
    {
      "metadata": {
        "id": "jU7GTdsDu3pr",
        "colab_type": "code",
        "colab": {}
      },
      "cell_type": "code",
      "source": [
        "# [CLS](0), 1-255(len=255), [SEP], 257-510(len=254), [SEP]"
      ],
      "execution_count": 0,
      "outputs": []
    },
    {
      "metadata": {
        "id": "qEiIH_OYvdoi",
        "colab_type": "code",
        "colab": {}
      },
      "cell_type": "code",
      "source": [
        "LEN_255_CACHE = {}\n",
        "LEN_254_CACHE = {}"
      ],
      "execution_count": 0,
      "outputs": []
    },
    {
      "metadata": {
        "id": "3MXXhPIlwnpp",
        "colab_type": "code",
        "colab": {}
      },
      "cell_type": "code",
      "source": [
        "def truncage_with_cache(ids, target_len):\n",
        "  if target_len == 255:\n",
        "    cache = LEN_255_CACHE\n",
        "  else:\n",
        "    assert target_len == 254\n",
        "    cache = LEN_254_CACHE\n",
        "  if ids not in cache:\n",
        "    cache[ids] = ids[0:target_len]\n",
        "  return cache[ids]"
      ],
      "execution_count": 0,
      "outputs": []
    },
    {
      "metadata": {
        "id": "-aZoDPL9rtr_",
        "colab_type": "code",
        "colab": {}
      },
      "cell_type": "code",
      "source": [
        "def fast_convert_single_pair(ids_a_input, ids_b_input):  \n",
        "  if (len(ids_a_input) < 256) or (len(ids_b_input) < 256) :\n",
        "    return original_convert_single_pair(ids_a_input, ids_b_input)\n",
        "  \n",
        "  ids_a = truncage_with_cache(ids_a_input, 255)\n",
        "  ids_b = truncage_with_cache(ids_b_input, 254)\n",
        "\n",
        "  input_ids = (CLS_ID,) + ids_a + (SEP_ID,) + ids_b + (SEP_ID,)\n",
        "  \n",
        "  return (input_ids, NORMAL_INPUT_MASK, NORMAL_SEGMENT_IDS)\n"
      ],
      "execution_count": 0,
      "outputs": []
    },
    {
      "metadata": {
        "id": "5ODA4cgTN6nu",
        "colab_type": "code",
        "colab": {}
      },
      "cell_type": "code",
      "source": [
        "def feature_tuplist_to_feature_dict(ftups):\n",
        "    dic = {}\n",
        "    dic['input_ids'] = [tup[0] for tup in ftups]\n",
        "    dic[\"input_mask\"] = [tup[1] for tup in ftups]\n",
        "    dic[\"segment_ids\"] = [tup[2] for tup in ftups]\n",
        "    dic[\"label_ids\"] = [[0] for _ in ftups]\n",
        "    return dic"
      ],
      "execution_count": 0,
      "outputs": []
    },
    {
      "metadata": {
        "id": "qr6ULqjyzVHC",
        "colab_type": "code",
        "colab": {}
      },
      "cell_type": "code",
      "source": [
        "# convert to tuple for optimization.\n",
        "grants_ids_tup = [tuple(ids) for ids in grants_ids]"
      ],
      "execution_count": 0,
      "outputs": []
    },
    {
      "metadata": {
        "id": "EpPg7jBjNzYI",
        "colab_type": "text"
      },
      "cell_type": "markdown",
      "source": [
        "Tokenize claim"
      ]
    },
    {
      "metadata": {
        "id": "EbuFVKieOfpQ",
        "colab_type": "code",
        "colab": {}
      },
      "cell_type": "code",
      "source": [
        "import re\n",
        "\n",
        "CLAIM_PAT = re.compile(r'<claims[^>]*>(.*)</claims>',re.MULTILINE|re.DOTALL)\n",
        "TAG_PAT = re.compile(r\"<.*?>\")\n",
        "\n",
        "\n",
        "def whole_xml_to_claim_xml(whole):\n",
        "    mat = CLAIM_PAT.search(whole)\n",
        "    return mat.group(1)\n",
        "  \n",
        "  \n",
        "def whole_xml_to_claim(whole):\n",
        "    return TAG_PAT.sub(' ', whole_xml_to_claim_xml(whole))"
      ],
      "execution_count": 0,
      "outputs": []
    },
    {
      "metadata": {
        "id": "wLmSPcs6N4RZ",
        "colab_type": "code",
        "colab": {}
      },
      "cell_type": "code",
      "source": [
        "def claim_to_ids(claim):\n",
        "  return tokenizer.convert_tokens_to_ids(tokenizer.tokenize(claim))"
      ],
      "execution_count": 0,
      "outputs": []
    },
    {
      "metadata": {
        "id": "O473b-9RnnZ7",
        "colab_type": "text"
      },
      "cell_type": "markdown",
      "source": [
        "# Model setup"
      ]
    },
    {
      "metadata": {
        "id": "bgGldgUEN4cD",
        "colab_type": "code",
        "colab": {}
      },
      "cell_type": "code",
      "source": [
        ""
      ],
      "execution_count": 0,
      "outputs": []
    },
    {
      "metadata": {
        "id": "_9U0S-hYxeMY",
        "colab_type": "code",
        "colab": {}
      },
      "cell_type": "code",
      "source": [
        "import os\n",
        "\n",
        "import modeling\n",
        "import tokenization\n",
        "\n",
        "from run_classifier import model_fn_builder\n"
      ],
      "execution_count": 0,
      "outputs": []
    },
    {
      "metadata": {
        "id": "AburDQpQxd_k",
        "colab_type": "code",
        "colab": {}
      },
      "cell_type": "code",
      "source": [
        "bert_config = modeling.BertConfig.from_json_file(\"./bert/model/patent/bert_config.json\")"
      ],
      "execution_count": 0,
      "outputs": []
    },
    {
      "metadata": {
        "id": "-hGfDjS6x7fw",
        "colab_type": "code",
        "outputId": "2e865097-c6fa-4b0d-8679-9d03ddc36d5b",
        "colab": {
          "base_uri": "https://localhost:8080/",
          "height": 53
        }
      },
      "cell_type": "code",
      "source": [
        "BUCKET = 'karino2-uspatent' #@param {type:\"string\"}\n",
        "OUTPUT_DIR = 'gs://{}/mlstudy-phys/bert/models/patent_1000'.format(BUCKET)\n",
        "\n",
        "INIT_CHECK_POINT_FILE='model.ckpt-1602' #@param {type:\"string\"}\n",
        "INIT_CHECK_POINT = '{}/{}'.format(OUTPUT_DIR, INIT_CHECK_POINT_FILE)\n",
        "\n",
        "tf.gfile.MakeDirs(OUTPUT_DIR)\n",
        "print('***** Model output directory: {} *****'.format(OUTPUT_DIR))\n",
        "print('***** Init checkpoint: {} *****'.format(INIT_CHECK_POINT))"
      ],
      "execution_count": 57,
      "outputs": [
        {
          "output_type": "stream",
          "text": [
            "***** Model output directory: gs://karino2-uspatent/mlstudy-phys/bert/models/patent_1000 *****\n",
            "***** Init checkpoint: gs://karino2-uspatent/mlstudy-phys/bert/models/patent_1000/model.ckpt-1602 *****\n"
          ],
          "name": "stdout"
        }
      ]
    },
    {
      "metadata": {
        "id": "D7yRP7fE5qu2",
        "colab_type": "code",
        "colab": {}
      },
      "cell_type": "code",
      "source": [
        ""
      ],
      "execution_count": 0,
      "outputs": []
    },
    {
      "metadata": {
        "id": "OISS39WWxdxv",
        "colab_type": "code",
        "colab": {}
      },
      "cell_type": "code",
      "source": [
        "class FLAGS(object):\n",
        "    '''Parameters.'''\n",
        "    def __init__(self):\n",
        "        self.vocab_file = \"./bert/model/patent/vocab.txt\"\n",
        "        self.use_tpu = True\n",
        "        self.output_dir = OUTPUT_DIR\n",
        "        # self.data_dir = \"./bert/data/1000\"\n",
        "        self.init_checkpoint = INIT_CHECK_POINT\n",
        "        self.predict_batch_size = 16\n",
        "        # TPU related\n",
        "        self.num_tpu_cores = 8\n",
        "        self.tpu_name = TPU_ADDRESS\n",
        "        \n",
        "        # following parameters are not used anymore. (because we create feature by hand)\n",
        "        self.do_lower_case = True\n",
        "        self.max_seq_length = 512\n",
        "        \n",
        "        # The following parameters are not used in predictions.\n",
        "        # Just use to create RunConfig.\n",
        "        self.master = None\n",
        "        self.save_checkpoints_steps = 1\n",
        "        self.learning_rate = 0\n",
        "        self.num_warmup_steps = 0\n",
        "        self.num_train_steps = 0\n",
        "        # TPU related. Some of these value have positive int not to make TPUEstimator angry (even though these are not used...).\n",
        "        self.eval_batch_size = 32\n",
        "        self.train_batch_size = 32 \n",
        "        self.iterations_per_loop = 1000\n"
      ],
      "execution_count": 0,
      "outputs": []
    },
    {
      "metadata": {
        "id": "YjiBu4fzxdjY",
        "colab_type": "code",
        "colab": {}
      },
      "cell_type": "code",
      "source": [
        "FLAGS = FLAGS()"
      ],
      "execution_count": 0,
      "outputs": []
    },
    {
      "metadata": {
        "id": "Wvl80s6_zH_T",
        "colab_type": "code",
        "colab": {}
      },
      "cell_type": "code",
      "source": [
        "# tokenizer = tokenization.FullTokenizer(\n",
        "#    vocab_file=FLAGS.vocab_file, do_lower_case=FLAGS.do_lower_case)\n",
        "\n",
        "# tpu_cluster_resolver = tf.contrib.cluster_resolver.TPUClusterResolver(tpu=FLAGS.tpu_name).get_master()\n",
        "tpu_cluster_resolver = tf.contrib.cluster_resolver.TPUClusterResolver(tpu=FLAGS.tpu_name)\n",
        "\n",
        "is_per_host = tf.contrib.tpu.InputPipelineConfig.PER_HOST_V2\n",
        "\n",
        "run_config = tf.contrib.tpu.RunConfig(\n",
        "    cluster=tpu_cluster_resolver,\n",
        "    master=FLAGS.master,\n",
        "    model_dir=FLAGS.output_dir,\n",
        "    save_checkpoints_steps=FLAGS.save_checkpoints_steps,\n",
        "    tpu_config=tf.contrib.tpu.TPUConfig(\n",
        "        iterations_per_loop=FLAGS.iterations_per_loop,\n",
        "        num_shards=FLAGS.num_tpu_cores,\n",
        "        per_host_input_for_training=is_per_host))"
      ],
      "execution_count": 0,
      "outputs": []
    },
    {
      "metadata": {
        "id": "icN9SGPpzHxe",
        "colab_type": "code",
        "colab": {}
      },
      "cell_type": "code",
      "source": [
        "model_fn = model_fn_builder(\n",
        "    bert_config=bert_config,\n",
        "    num_labels=len([\"not_entailment\", \"entailment\"]),\n",
        "    init_checkpoint=FLAGS.init_checkpoint,\n",
        "    learning_rate=FLAGS.learning_rate,\n",
        "    num_train_steps=FLAGS.num_train_steps,\n",
        "    num_warmup_steps=FLAGS.num_warmup_steps,\n",
        "    use_tpu=FLAGS.use_tpu,\n",
        "    use_one_hot_embeddings=FLAGS.use_tpu)"
      ],
      "execution_count": 0,
      "outputs": []
    },
    {
      "metadata": {
        "id": "YOnW40GE9yTU",
        "colab_type": "code",
        "colab": {}
      },
      "cell_type": "code",
      "source": [
        "# https://github.com/kyzhouhzau/BERT-NER/issues/19\n",
        "\n",
        "def model_fn_wrapper(features, labels, mode, params):\n",
        "  tspec = model_fn(features, labels, mode, params)\n",
        "  pred_dict = {'predictions': tspec.predictions}\n",
        "  return tf.contrib.tpu.TPUEstimatorSpec(\n",
        "          mode=tspec.mode, predictions=pred_dict, scaffold_fn=tspec.scaffold_fn)\n"
      ],
      "execution_count": 0,
      "outputs": []
    },
    {
      "metadata": {
        "id": "rPgJuC0A9yAq",
        "colab_type": "code",
        "outputId": "ea2576ca-4d67-476e-f944-4eb13b1e49f6",
        "colab": {
          "base_uri": "https://localhost:8080/",
          "height": 250
        }
      },
      "cell_type": "code",
      "source": [
        "estimator = tf.contrib.tpu.TPUEstimator(\n",
        "    use_tpu=FLAGS.use_tpu,\n",
        "    # model_fn=model_fn,\n",
        "    model_fn=model_fn_wrapper,\n",
        "    config=run_config,\n",
        "    train_batch_size=FLAGS.train_batch_size,\n",
        "    eval_batch_size=FLAGS.eval_batch_size,\n",
        "    predict_batch_size=FLAGS.predict_batch_size)"
      ],
      "execution_count": 63,
      "outputs": [
        {
          "output_type": "stream",
          "text": [
            "WARNING:tensorflow:Estimator's model_fn (<function model_fn_wrapper at 0x7f4e1600cbf8>) includes params argument, but params are not passed to Estimator.\n",
            "INFO:tensorflow:Using config: {'_model_dir': 'gs://karino2-uspatent/mlstudy-phys/bert/models/patent_1000', '_tf_random_seed': None, '_save_summary_steps': 100, '_save_checkpoints_steps': 1, '_save_checkpoints_secs': None, '_session_config': allow_soft_placement: true\n",
            "cluster_def {\n",
            "  job {\n",
            "    name: \"worker\"\n",
            "    tasks {\n",
            "      value: \"10.87.142.114:8470\"\n",
            "    }\n",
            "  }\n",
            "}\n",
            ", '_keep_checkpoint_max': 5, '_keep_checkpoint_every_n_hours': 10000, '_log_step_count_steps': None, '_train_distribute': None, '_device_fn': None, '_protocol': None, '_eval_distribute': None, '_experimental_distribute': None, '_service': None, '_cluster_spec': <tensorflow.python.training.server_lib.ClusterSpec object at 0x7f4e202933c8>, '_task_type': 'worker', '_task_id': 0, '_global_id_in_cluster': 0, '_master': 'grpc://10.87.142.114:8470', '_evaluation_master': 'grpc://10.87.142.114:8470', '_is_chief': True, '_num_ps_replicas': 0, '_num_worker_replicas': 1, '_tpu_config': TPUConfig(iterations_per_loop=1000, num_shards=8, num_cores_per_replica=None, per_host_input_for_training=3, tpu_job_name=None, initial_infeed_sleep_secs=None, input_partition_dims=None), '_cluster': <tensorflow.python.distribute.cluster_resolver.tpu_cluster_resolver.TPUClusterResolver object at 0x7f4e20293898>}\n",
            "INFO:tensorflow:_TPUContext: eval_on_tpu True\n"
          ],
          "name": "stdout"
        }
      ]
    },
    {
      "metadata": {
        "id": "0neZwVmuoZ6C",
        "colab_type": "code",
        "colab": {}
      },
      "cell_type": "code",
      "source": [
        "tf.logging.set_verbosity(tf.logging.ERROR)"
      ],
      "execution_count": 0,
      "outputs": []
    },
    {
      "metadata": {
        "id": "nXqSH6HmoZrJ",
        "colab_type": "code",
        "colab": {}
      },
      "cell_type": "code",
      "source": [
        "def predict_fdicts(fdict):\n",
        "  def _batch_input_function(params):\n",
        "    test_ds = tf.data.Dataset.from_tensor_slices(fdict)    \n",
        "    return test_ds.batch(params['batch_size'])\n",
        "  \n",
        "  result = estimator.predict(_batch_input_function)\n",
        "  print(datetime.datetime.today())\n",
        "  result = list(result)\n",
        "  print(datetime.datetime.today())\n",
        "  \n",
        "  return  [pred['predictions'] for pred in result]\n"
      ],
      "execution_count": 0,
      "outputs": []
    },
    {
      "metadata": {
        "id": "EtOaMQvloZSz",
        "colab_type": "code",
        "colab": {}
      },
      "cell_type": "code",
      "source": [
        ""
      ],
      "execution_count": 0,
      "outputs": []
    },
    {
      "metadata": {
        "id": "bKK_MOdEPHUj",
        "colab_type": "text"
      },
      "cell_type": "markdown",
      "source": [
        "# Interactive view"
      ]
    },
    {
      "metadata": {
        "id": "2DTtgwRTuvSn",
        "colab_type": "code",
        "colab": {}
      },
      "cell_type": "code",
      "source": [
        "def results_to_result_df(results):\n",
        "  results_arr = np.array(results)\n",
        "  results_df = grants_target_df.copy()\n",
        "  results_df[\"score\"] = results_arr[:, 1]\n",
        "  return results_df.sort_values(\"score\", ascending=False)"
      ],
      "execution_count": 0,
      "outputs": []
    },
    {
      "metadata": {
        "id": "yw2POytHbQ6R",
        "colab_type": "code",
        "colab": {}
      },
      "cell_type": "code",
      "source": [
        "from google.colab import widgets\n",
        "from google.colab import output\n"
      ],
      "execution_count": 0,
      "outputs": []
    },
    {
      "metadata": {
        "id": "Anj_wKJdvHkP",
        "colab_type": "code",
        "colab": {}
      },
      "cell_type": "code",
      "source": [
        "selected_result_claim = \"\"\n",
        "\n",
        "def show_candidates(result_df, app_id):\n",
        "  global selected_result_claim\n",
        "  print('Show 10 most probable candidate for app({})'.format(app_id))\n",
        "\n",
        "  candidate_df = result_df.sort_values(\"score\", ascending=False)[0:10]\n",
        "\n",
        "\n",
        "  tab_labels = list(candidate_df.apply(lambda row: \"{}:{:.6f}\".format(row.parsed, row.score), axis=1))\n",
        "\n",
        "  tb = widgets.TabBar(tab_labels, location=\"top\")\n",
        "  for i, _ in enumerate(tab_labels):\n",
        "    with tb.output_to(i):\n",
        "      selected_result_claim = whole_xml_to_claim(candidate_df[\"xml\"].values[i])\n",
        "      print(selected_result_claim)"
      ],
      "execution_count": 0,
      "outputs": []
    },
    {
      "metadata": {
        "id": "lFXBo084xThx",
        "colab_type": "text"
      },
      "cell_type": "markdown",
      "source": [
        "### How to use\n",
        "\n",
        "1. Eval cell below (the result is random sampled every time you eval)\n",
        "2. Read the claim from tabs and decide the application claim which you want to search the cited candidate for.\n",
        "3. Choose tab index from dropdown below to specify search candidate (left most tab corresponds to 0)\n",
        "4. Eval cell below of the dropdown cell. This eval takes about 40 seconds.\n",
        "5. See the results."
      ]
    },
    {
      "metadata": {
        "id": "7Z9CKgdlZYrn",
        "colab_type": "code",
        "outputId": "9ca114fd-9db1-46aa-9038-ed85884ab6eb",
        "colab": {
          "resources": {
            "http://localhost:8080/nbextensions/google.colab/tabbar.css": {
              "data": "Lmdvb2ctdGFie3Bvc2l0aW9uOnJlbGF0aXZlO3BhZGRpbmc6NHB4IDhweDtjb2xvcjojMDBjO3RleHQtZGVjb3JhdGlvbjp1bmRlcmxpbmU7Y3Vyc29yOmRlZmF1bHR9Lmdvb2ctdGFiLWJhci10b3AgLmdvb2ctdGFie21hcmdpbjoxcHggNHB4IDAgMDtib3JkZXItYm90dG9tOjA7ZmxvYXQ6bGVmdH0uZ29vZy10YWItYmFyLXRvcDphZnRlciwuZ29vZy10YWItYmFyLWJvdHRvbTphZnRlcntjb250ZW50OiIgIjtkaXNwbGF5OmJsb2NrO2hlaWdodDowO2NsZWFyOmJvdGg7dmlzaWJpbGl0eTpoaWRkZW59Lmdvb2ctdGFiLWJhci1ib3R0b20gLmdvb2ctdGFie21hcmdpbjowIDRweCAxcHggMDtib3JkZXItdG9wOjA7ZmxvYXQ6bGVmdH0uZ29vZy10YWItYmFyLXN0YXJ0IC5nb29nLXRhYnttYXJnaW46MCAwIDRweCAxcHg7Ym9yZGVyLXJpZ2h0OjB9Lmdvb2ctdGFiLWJhci1lbmQgLmdvb2ctdGFie21hcmdpbjowIDFweCA0cHggMDtib3JkZXItbGVmdDowfS5nb29nLXRhYi1ob3ZlcntiYWNrZ3JvdW5kOiNlZWV9Lmdvb2ctdGFiLWRpc2FibGVke2NvbG9yOiM2NjZ9Lmdvb2ctdGFiLXNlbGVjdGVke2NvbG9yOiMwMDA7YmFja2dyb3VuZDojZmZmO3RleHQtZGVjb3JhdGlvbjpub25lO2ZvbnQtd2VpZ2h0OmJvbGQ7Ym9yZGVyOjFweCBzb2xpZCAjNmI5MGRhfS5nb29nLXRhYi1iYXItdG9we3BhZGRpbmctdG9wOjVweCFpbXBvcnRhbnQ7cGFkZGluZy1sZWZ0OjVweCFpbXBvcnRhbnQ7Ym9yZGVyLWJvdHRvbToxcHggc29saWQgIzZiOTBkYSFpbXBvcnRhbnR9Lmdvb2ctdGFiLWJhci10b3AgLmdvb2ctdGFiLXNlbGVjdGVke3RvcDoxcHg7bWFyZ2luLXRvcDowO3BhZGRpbmctYm90dG9tOjVweH0uZ29vZy10YWItYmFyLWJvdHRvbSAuZ29vZy10YWItc2VsZWN0ZWR7dG9wOi0xcHg7bWFyZ2luLWJvdHRvbTowO3BhZGRpbmctdG9wOjVweH0uZ29vZy10YWItYmFyLXN0YXJ0IC5nb29nLXRhYi1zZWxlY3RlZHtsZWZ0OjFweDttYXJnaW4tbGVmdDowO3BhZGRpbmctcmlnaHQ6OXB4fS5nb29nLXRhYi1iYXItZW5kIC5nb29nLXRhYi1zZWxlY3RlZHtsZWZ0Oi0xcHg7bWFyZ2luLXJpZ2h0OjA7cGFkZGluZy1sZWZ0OjlweH0uZ29vZy10YWItYmFye21hcmdpbjowO2JvcmRlcjowO3BhZGRpbmc6MDtsaXN0LXN0eWxlOm5vbmU7Y3Vyc29yOmRlZmF1bHQ7b3V0bGluZTpub25lO2JhY2tncm91bmQ6I2ViZWZmOX0uZ29vZy10YWItYmFyLWNsZWFye2NsZWFyOmJvdGg7aGVpZ2h0OjA7b3ZlcmZsb3c6aGlkZGVufS5nb29nLXRhYi1iYXItc3RhcnR7ZmxvYXQ6bGVmdH0uZ29vZy10YWItYmFyLWVuZHtmbG9hdDpyaWdodH0qIGh0bWwgLmdvb2ctdGFiLWJhci1zdGFydHttYXJnaW4tcmlnaHQ6LTNweH0qIGh0bWwgLmdvb2ctdGFiLWJhci1lbmR7bWFyZ2luLWxlZnQ6LTNweH0=",
              "ok": true,
              "headers": [
                [
                  "content-length",
                  "1394"
                ],
                [
                  "content-type",
                  "text/css"
                ]
              ],
              "status": 200,
              "status_text": ""
            },
            "http://localhost:8080/nbextensions/google.colab/tabbar_main.min.js": {
              "data": "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",
              "ok": true,
              "headers": [
                [
                  "content-type",
                  "application/javascript"
                ]
              ],
              "status": 200,
              "status_text": ""
            }
          },
          "base_uri": "https://localhost:8080/",
          "height": 1221
        }
      },
      "cell_type": "code",
      "source": [
        "print('Random 10 sampling of application claims. (re-sampling each time cell eval)')\n",
        "\n",
        "\n",
        "sampled_apps = testset_app_df.sample(10)\n",
        "\n",
        "\n",
        "app_ids = [f\"({id}) {title}\" for id, title in enumerate(sampled_apps.app_id.values)]\n",
        "tb = widgets.TabBar(app_ids, location=\"top\")\n",
        "for i, _ in enumerate(app_ids):\n",
        "  with tb.output_to(i):\n",
        "    print(whole_xml_to_claim(sampled_apps[\"xml\"].values[i]))\n",
        "    \n"
      ],
      "execution_count": 69,
      "outputs": [
        {
          "output_type": "stream",
          "text": [
            "Random 10 sampling of application claims. (re-sampling each time cell eval)\n"
          ],
          "name": "stdout"
        },
        {
          "output_type": "display_data",
          "data": {
            "text/html": [
              "<link rel=stylesheet type=text/css href='/nbextensions/google.colab/tabbar.css'></link>"
            ],
            "text/plain": [
              "<IPython.core.display.HTML object>"
            ]
          },
          "metadata": {
            "tags": [
              "outputarea_id1"
            ]
          }
        },
        {
          "output_type": "display_data",
          "data": {
            "text/html": [
              "<script src='/nbextensions/google.colab/tabbar_main.min.js'></script>"
            ],
            "text/plain": [
              "<IPython.core.display.HTML object>"
            ]
          },
          "metadata": {
            "tags": [
              "outputarea_id1"
            ]
          }
        },
        {
          "output_type": "display_data",
          "data": {
            "text/html": [
              "<div id=\"id1\"></div>"
            ],
            "text/plain": [
              "<IPython.core.display.HTML object>"
            ]
          },
          "metadata": {
            "tags": [
              "outputarea_id1"
            ]
          }
        },
        {
          "output_type": "display_data",
          "data": {
            "application/javascript": [
              "window[\"f3a00066-3b57-11e9-b308-0242ac1c0002\"] = colab_lib.createTabBar({\"location\": \"top\", \"elementId\": \"id1\", \"tabNames\": [\"(0) 12219643\", \"(1) 12670310\", \"(2) 14370334\", \"(3) 13488167\", \"(4) 13961083\", \"(5) 12607768\", \"(6) 13530677\", \"(7) 12303437\", \"(8) 14130421\", \"(9) 12090488\"], \"initialSelection\": 0, \"contentBorder\": [\"0px\"], \"contentHeight\": [\"initial\"], \"borderColor\": [\"#a7a7a7\"]});\n",
              "//# sourceURL=js_3740115d28"
            ],
            "text/plain": [
              "<IPython.core.display.Javascript object>"
            ]
          },
          "metadata": {
            "tags": [
              "outputarea_id1"
            ]
          }
        },
        {
          "output_type": "display_data",
          "data": {
            "application/javascript": [
              "window[\"f3a04c2e-3b57-11e9-b308-0242ac1c0002\"] = window[\"id1\"].setSelectedTabIndex(0);\n",
              "//# sourceURL=js_ac5c1a47dc"
            ],
            "text/plain": [
              "<IPython.core.display.Javascript object>"
            ]
          },
          "metadata": {
            "tags": [
              "outputarea_id1"
            ]
          }
        },
        {
          "output_type": "display_data",
          "data": {
            "application/javascript": [
              "window[\"f3a79a9c-3b57-11e9-b308-0242ac1c0002\"] = google.colab.output.getActiveOutputArea();\n",
              "//# sourceURL=js_64b477c78b"
            ],
            "text/plain": [
              "<IPython.core.display.Javascript object>"
            ]
          },
          "metadata": {
            "tags": [
              "id1_content_0",
              "outputarea_id1"
            ]
          }
        },
        {
          "output_type": "display_data",
          "data": {
            "application/javascript": [
              "window[\"f3a8732c-3b57-11e9-b308-0242ac1c0002\"] = document.querySelector(\"#id1_content_0\");\n",
              "//# sourceURL=js_6a099684d3"
            ],
            "text/plain": [
              "<IPython.core.display.Javascript object>"
            ]
          },
          "metadata": {
            "tags": [
              "id1_content_0",
              "outputarea_id1"
            ]
          }
        },
        {
          "output_type": "display_data",
          "data": {
            "application/javascript": [
              "window[\"f3a90418-3b57-11e9-b308-0242ac1c0002\"] = google.colab.output.setActiveOutputArea(window[\"f3a8732c-3b57-11e9-b308-0242ac1c0002\"]);\n",
              "//# sourceURL=js_a5d8fc02ed"
            ],
            "text/plain": [
              "<IPython.core.display.Javascript object>"
            ]
          },
          "metadata": {
            "tags": [
              "id1_content_0",
              "outputarea_id1"
            ]
          }
        },
        {
          "output_type": "display_data",
          "data": {
            "application/javascript": [
              "window[\"f3a954a4-3b57-11e9-b308-0242ac1c0002\"] = window[\"id1\"].setSelectedTabIndex(0);\n",
              "//# sourceURL=js_c2289ebdc9"
            ],
            "text/plain": [
              "<IPython.core.display.Javascript object>"
            ]
          },
          "metadata": {
            "tags": [
              "id1_content_0",
              "outputarea_id1"
            ]
          }
        },
        {
          "output_type": "stream",
          "text": [
            "\n",
            " \n",
            "  1 . A heat exchanger comprising:\n",
            " at least one first loop adapted to trap energy from a source, \n",
            " said first loop contains a first refrigerant adapted to collect said energy from said source; \n",
            " at least one second loop containing \n",
            " a second refrigerant, said second refrigerant adapted to interact with said first refrigerant and to transfer to a user a maximum quantity of said energy trapped by said first loop in the most efficient manner. \n",
            " \n",
            " \n",
            " \n",
            "  2 . Heat exchanger according to  claim 1 , wherein the transfer of said trapped energy takes place in a transfer unit, wherein said transfer unit is placed in said second loop. \n",
            " \n",
            " \n",
            "  3 . Heat exchanger according to  claim 2 , wherein said transfer unit comprises\n",
            " an outer cylinder adapted to contain said first refrigerant, said outer cylinder is provided with an inlet and an outlet adapted to circulate said first refrigerant, and \n",
            " an inner coil placed within said outer cylinder, said inner coil is adapted to contain said second refrigerant, said inner coil is provided with an inlet and outlet adapted to facilitate circulation of said second refrigerant. \n",
            " \n",
            " \n",
            " \n",
            "  4 . Heat exchanger according to  claim 3 , wherein said first and said second refrigerant are moving within said transfer unit in a counter-flow direction to optimize the heat exchange between said first and second refrigerant. \n",
            " \n",
            " \n",
            "  5 . Heat exchanger according to  claim 1 , wherein said first loop is placed into an earth medium. \n",
            " \n",
            " \n",
            "  6 . Heat exchanger according to  claim 1 , wherein said first loop is placed within a waste medium. \n",
            " \n",
            " \n",
            "  7 . Heat exchanger according to  claim 1 , wherein said first and second loop are made of copper piping. \n",
            " \n",
            " \n",
            "  8 . Heat exchanger according to  claim 1 , wherein said first refrigerant is R-410a and said second refrigerant is R-134a. \n",
            " \n",
            " \n",
            "  9 . Heat exchanger according to  claim 3 , wherein said coil is placed within said outer cylinder in a coaxial manner. \n",
            " \n",
            " \n",
            "  10 . Heat exchanger according to  claim 1 , wherein said exchanger is powered by a natural gas engine, wherein said engine is provided with an additional heat exchanger adapted to trap energy emitted by an exhaust gas produced by said engine, said trapped energy is fed into said second loop. \n",
            " \n",
            " \n",
            "  11 . A heat exchanger comprising:\n",
            " at least one first loop adapted to trap energy from a source, \n",
            " said first loop contains a first refrigerant adapted to collect said energy from said source; \n",
            " at least one second loop containing \n",
            " a second refrigerant, said second refrigerant adapted to interact with said first refrigerant and to transfer to a user a maximum quantity of said energy trapped by said first loop in the most efficient manner, \n",
            " wherein the transfer of said trapped energy takes place in a transfer unit, wherein said transfer unit is placed in said second loop. \n",
            " \n",
            " \n",
            " \n",
            "  12 . Heat exchanger according to  claim 11 , wherein said transfer unit comprises\n",
            " an outer cylinder adapted to contain said first refrigerant, said outer cylinder is provided with an inlet and an outlet adapted to circulate said first refrigerant, and \n",
            " an inner coil placed within said outer cylinder, said inner coil is adapted to contain said second refrigerant, said inner coil is provided with an inlet and outlet adapted to facilitate circulation of said second refrigerant. \n",
            " \n",
            " \n",
            " \n",
            "  13 . Heat exchanger according to  claim 12 , wherein said first and said second refrigerant are moving within said transfer unit in a counter flow direction to optimize the heat exchange between said first and second refrigerant. \n",
            " \n",
            " \n",
            "  14 . Heat exchanger according to  claim 11 , wherein said first loop is placed into an earth medium. \n",
            " \n",
            " \n",
            "  15 . Heat exchanger according to  claim 11 , wherein said first loop is placed within a waste medium. \n",
            " \n",
            " \n",
            "  16 . Heat exchanger according to  claim 11 , wherein said first and second loop are made of copper piping. \n",
            " \n",
            " \n",
            "  17 . Heat exchanger according to  claim 11 , wherein said first refrigerant is R-410a and said second refrigerant is R-134a. \n",
            " \n",
            " \n",
            "  18 . Heat exchanger according to  claim 12 , wherein said coil is placed within said outer cylinder in a coaxial manner. \n",
            " \n",
            " \n",
            "  19 . Heat exchanger according to  claim 11 , wherein said exchanger is powered by a natural gas engine, wherein said engine is provided with an additional exchanger adapted to trap energy emitted by an exhaust gases produced by said engine, said trapped energy is fed into said second loop. \n",
            " \n",
            " \n",
            "  20 . Heat exchanger according to  claim 14 , wherein said exchanger comprises a plurality of first loops.  \n",
            " \n",
            "\n"
          ],
          "name": "stdout"
        },
        {
          "output_type": "display_data",
          "data": {
            "application/javascript": [
              "window[\"f3aa576e-3b57-11e9-b308-0242ac1c0002\"] = google.colab.output.setActiveOutputArea(window[\"f3a79a9c-3b57-11e9-b308-0242ac1c0002\"]);\n",
              "//# sourceURL=js_3d1efb9a61"
            ],
            "text/plain": [
              "<IPython.core.display.Javascript object>"
            ]
          },
          "metadata": {
            "tags": [
              "id1_content_0",
              "outputarea_id1"
            ]
          }
        },
        {
          "output_type": "display_data",
          "data": {
            "application/javascript": [
              "window[\"f3ab919c-3b57-11e9-b308-0242ac1c0002\"] = google.colab.output.getActiveOutputArea();\n",
              "//# sourceURL=js_a8ec60faa8"
            ],
            "text/plain": [
              "<IPython.core.display.Javascript object>"
            ]
          },
          "metadata": {
            "tags": [
              "id1_content_1",
              "outputarea_id1"
            ]
          }
        },
        {
          "output_type": "display_data",
          "data": {
            "application/javascript": [
              "window[\"f3abd724-3b57-11e9-b308-0242ac1c0002\"] = document.querySelector(\"#id1_content_1\");\n",
              "//# sourceURL=js_92c3b21a08"
            ],
            "text/plain": [
              "<IPython.core.display.Javascript object>"
            ]
          },
          "metadata": {
            "tags": [
              "id1_content_1",
              "outputarea_id1"
            ]
          }
        },
        {
          "output_type": "display_data",
          "data": {
            "application/javascript": [
              "window[\"f3ac1a9a-3b57-11e9-b308-0242ac1c0002\"] = google.colab.output.setActiveOutputArea(window[\"f3abd724-3b57-11e9-b308-0242ac1c0002\"]);\n",
              "//# sourceURL=js_fa58a3d076"
            ],
            "text/plain": [
              "<IPython.core.display.Javascript object>"
            ]
          },
          "metadata": {
            "tags": [
              "id1_content_1",
              "outputarea_id1"
            ]
          }
        },
        {
          "output_type": "display_data",
          "data": {
            "application/javascript": [
              "window[\"f3ac5618-3b57-11e9-b308-0242ac1c0002\"] = window[\"id1\"].setSelectedTabIndex(1);\n",
              "//# sourceURL=js_f3fdd706ba"
            ],
            "text/plain": [
              "<IPython.core.display.Javascript object>"
            ]
          },
          "metadata": {
            "tags": [
              "id1_content_1",
              "outputarea_id1"
            ]
          }
        },
        {
          "output_type": "stream",
          "text": [
            "\n",
            " \n",
            "  1 . A process for the obtainment of a soluble complex of resveratrol and cyclodextrin compound comprising the steps of:\n",
            " a) completely homogenizing cyclodextrin in water with heating from 50 to 80&#xb0; C., up to a cyclodextrin concentration lower than or equal to 60 mM; \n",
            " b) adding, to the solution resulting from step (a), as a water miscible and physiologically acceptable organic solvent, up to an organic solvent:water ratio ranging from 1:1 to 1:5; \n",
            " c) adding, to the mixture resulting from step (b), a solution of a resveratrol compound diluted in a water miscible and physiologically acceptable organic solvent, and heating the resulting mixture at a temperature range from 50 to 80&#xb0; C.; \n",
            " d) cooling slowly the solution resulting from step (c) until precipitation of crystals from the complex of said resveratrol/cyclodextrin compound; and \n",
            " e) separating the crystals of said complex of resveratrol/cyclodextrin compound. \n",
            " \n",
            " \n",
            " \n",
            "  2 . The process according to  claim 1 , wherein said cyclodextrin is selected from the group consisting of &#x394;-cyclodextrin, &#x3b2;-cyclodextrin, &#x3b3;-cyclodextrin, hydroxyethyl-&#x3b2;-cyclodextrin, hydroxypropyl-&#x3b2;-cyclodextrin, sulfobutyl ether-&#x3b2;-cyclodextrin, methyl-&#x3b2;-cyclodextrin, dimethyl-&#x3b2;-cyclodextrin, random dimethylated &#x3b2;-cyclodextrin, random methylated &#x3b2;-cyclodextrin, carboxymethyl-&#x3b2;-cyclodextrin, carboxymethyl ethyl-&#x3b2;-cyclodextrin, diethyl-&#x3b2;-cyclodextrin, tri-O-methyl-&#x3b2;-cyclodextrin, tri-O-ethyl-&#x3b2;-cyclodextrin, tri-O-butyryl-&#x3b2;-cyclodextrin, tri-O-valeryl-&#x3b2;-cyclodextrin, di-O-hexanoyl-&#x3b2;-cyclodextrin, glucosyl-&#x3b2;-cyclodextrin, maltosyl-&#x3b2;-cyclodextrin, 2-hydroxy-3-trimethyl-aminopropyl-&#x3b2;-cyclodextrin, and combinations thereof. \n",
            " \n",
            " \n",
            "  3 . The process according to  claim 2 , that wherein said cyclodextrin is &#x3b2;-cyclodextrin. \n",
            " \n",
            " \n",
            "  4 . The process according to  claim 1 , wherein said resveratrol compound is selected from the group consisting of resveratrol, trans-3,5-dimethoxy-4&#x2032;-hydroxy-stilbene, trans-3,5,4&#x2032;-trimethoxy-stilbene, trans-3,5-hydroxy-4&#x2032;-methoxy-stilbene, trans-3,5-diacetyl-4&#x2032;-hydroxy-stilbene, trans-3,5,4&#x2032;-triacetyl-stilbene, and trans-3,5-hydroxy-4&#x2032;-acetyl-stilbene, combinations thereof. \n",
            " \n",
            " \n",
            "  5 . The process according to  claim 1 , wherein said resveratrol is trans-resveratrol. \n",
            " \n",
            " \n",
            "  6 . The process according to  claim 1 , wherein said solvent is selected from the group consisting of ethanol, acetone, DMSO, and acetic acid. \n",
            " \n",
            " \n",
            "  7 . The process according to  claim 6 , wherein said water miscible and physiologically acceptable organic solvent is ethanol. \n",
            " \n",
            " \n",
            "  8 . The process according to  claim 3 , wherein the concentration of said beta-cyclodextrin of the solution in step (a) ranges from 20 to 60 mM. \n",
            " \n",
            " \n",
            "  9 . The process according to  claim 8 , wherein the concentration of said beta-cyclodextrin ranges from 40 to 50 mM. \n",
            " \n",
            " \n",
            "  10 . The process according to  claim 1 , wherein in step (b), the addition of said water miscible and physiologically acceptable organic solvent is carried out with heating at a temperature from 50 to 80&#xb0; C., for 60 to 180 seconds. \n",
            " \n",
            " \n",
            "  11 . The process according to  claim 1 , wherein the concentration of said resveratrol compound of said solution in step (c) ranges from 20 to 80 mM. \n",
            " \n",
            " \n",
            "  12 . The process according to  claim 11 , wherein the concentration of said resveratrol compound ranges from 40 to 50 mM. \n",
            " \n",
            " \n",
            "  13 . The process according to  claim 1 , wherein the cooling of the solution in step (d) is carried out gradually and slowly to a temperature from 10 to 20&#xb0; C., said solution being kept at rest in this temperature for precipitation of the formed complex. \n",
            " \n",
            " \n",
            "  14 . The process according to  claim 1 , wherein the cooling of the solution in step (d) is carried out gradually and slowly to a temperature from 13 to 17&#xb0; C., said solution being kept at rest in this temperature for precipitation of the formed complex. \n",
            " \n",
            " \n",
            "  15 . The process according to  claim 1 , that wherein the separation of the crystals of said resveratrol/cyclodextrin compound complex is carried out by filtration under reduced pressure. \n",
            " \n",
            " \n",
            "  16 . The process according to  claim 1 , wherein the crystals of said resveratrol/cyclodextrin compound complex resulting from step (e) are subjected to drying. \n",
            " \n",
            " \n",
            "  17 . A resveratrol and cyclodextrin compound complex in a solid crystalline form. \n",
            " \n",
            " \n",
            "  18 . The resveratrol and cyclodextrin complex according to  claim 17 , wherein said resveratrol compound is selected from the group comprising consisting of resveratrol, trans-3,5-dimethoxy-4&#x2032;-hydroxy-stilbene, trans-3,5,4&#x2032;-trimethoxy-stilbene, trans-3,5-hydroxy-4&#x2032;-methoxy-stilbene, trans-3,5-diacetyl-4&#x2032;-hydroxy-stilbene, trans-3,5,4&#x2032;-triacetyl-stilbene, and trans-3,5-hydroxy-4&#x2032;-acetyl-stilbene, and combinations thereof. \n",
            " \n",
            " \n",
            "  19 . The resveratrol and cyclodextrin complex according to  claim 18 , wherein said resveratrol compound is trans-resveratrol. \n",
            " \n",
            " \n",
            "  20 . The resveratrol and cyclodextrin complex according to  claim 17 , wherein said cyclodextrin is selected from the group consisting of &#x3b1;-cyclodextrin, &#x3b2;-cyclodextrin, &#x3b3;-cyclodextrin, hydroxyethyl-&#x3b2;-cyclodextrin, hydroxypropyl-&#x3b2;-cyclodextrin, sulfobutyl ether-&#x3b2;-cyclodextrin, methyl-&#x3b2;-cyclodextrin, dimethyl-&#x3b2;-cyclodextrin, random dimethylated &#x3b2;-cyclodextrin, random methylated &#x3b2;-cyclodextrin, carboxymethyl-&#x3b2;-cyclodextrin, carboxymethyl ethyl-&#x3b2;-cyclodextrin, diethyl-&#x3b2;-cyclodextrin, tri-O-methyl-&#x3b2;-cyclodextrin, tri-O-ethyl-&#x3b2;-cyclodextrin, tri-O-butyryl-&#x3b2;-cyclodextrin, tri-O-valeryl &#x3b2;-cyclodextrin, di-O-hexanoyl-&#x3b2;-cyclodextrin, glucosyl-&#x3b2;-cyclodextrin, maltosyl-&#x3b2;-cyclodextrin, and 2-hydroxy-3-trimethyl-aminopropyl-&#x3b2;-cyclodextrin, and combinations thereof. \n",
            " \n",
            " \n",
            "  21 . The resveratrol and cyclodextrin complex according to  claim 20 , wherein said cyclodextrin is &#x3b2;-cyclodextrin. \n",
            " \n",
            " \n",
            "  22 . A nutraceutical composition comprising as active and/or functional component a resveratrol and cyclodextrin compound complex in a solid crystalline form, and a nutraceutically acceptable vehicle. \n",
            " \n",
            " \n",
            "  23 . A pharmaceutical composition comprising as active and/or functional component a resveratrol and cyclodextrin compound complex in a solid crystalline form, and a pharmaceutically acceptable vehicle. \n",
            " \n",
            " \n",
            "  24 . A method for treating an animal with a resveratrol and cyclodextrin compound complex in a solid crystalline form, comprising preparing a medicine for the treatment of conditions of an illness selected from the group consisting of anti-inflammatory, antiviral, antidiabetics, cardioprotective, neuroprotective, chemoprotective activities, besides protecting against infections and ischemia, reducing obesity, and preventing aging. \n",
            " \n",
            " \n",
            "  25 . The method according to  claim 24 , wherein the medicine is prepared as a phytotherapic product and/or a functional food. \n",
            " \n",
            " \n",
            "  26 . The method according to  claim 25 , wherein the food is selected from the group comprising consisting of juices, nectars, isotonics, and combinations thereof. \n",
            " \n",
            " \n",
            "  27 . The nutraceutical composition as claimed in  claim 22 , wherein\n",
            " said resveratrol compound is selected from the group consisting of resveratrol, trans-3,5-dimethoxy-4&#x2032;-hydroxy-stilbene, trans-3,5,4&#x2032;-trimethoxy-stilbene, trans-3,5-hydroxy-4&#x2032;-methoxy-stilbene, trans-3,5-diacetyl-4&#x2032;-hydroxy-stilbene, trans-3,5,4&#x2032;-triacetyl-stilbene, trans-3,5-hydroxy-4&#x2032;-acetyl-stilbene, and combinations thereof; and \n",
            " said cyclodextrin is selected from the group consisting of &#x3b1;-cyclodextrin, &#x3b2;-cyclodextrin, &#x3b3;-cyclodextrin, hydroxyethyl-&#x3b2;-cyclodextrin, hydroxypropyl-&#x3b2;-cyclodextrin, sulfobutyl ether-&#x3b2;-cyclodextrin, methyl-&#x3b2;-cyclodextrin, dimethyl-&#x3b2;-cyclodextrin, random dimethylated &#x3b2;-cyclodextrin, random methylated &#x3b2;-cyclodextrin, carboxymethyl-&#x3b2;-cyclodextrin, carboxymethyl ethyl-&#x3b2;-cyclodextrin, diethyl-&#x3b2;-cyclodextrin, tri-O-methyl-&#x3b2;-cyclodextrin, tri-O-ethyl-&#x3b2;-cyclodextrin, tri-O-butyryl-&#x3b2;-cyclodextrin, tri-O-valeryl-&#x3b2;-cyclodextrin, di-O-hexanoyl-&#x3b2;-cyclodextrin, glucosyl-&#x3b2;-cyclodextrin, maltosyl-&#x3b2;-cyclodextrin, 2-hydroxy-3-trimethyl-aminopropyl-&#x3b2;-cyclodextrin, and combinations thereof. \n",
            " \n",
            " \n",
            " \n",
            "  28 . The pharmaceutical composition as claimed in  claim 22 , wherein\n",
            " said resveratrol compound is selected from the group consisting of resveratrol, trans-3,5-dimethoxy-4&#x2032;-hydroxy-stilbene, trans-3,5,4&#x2032;-trimethoxy-stilbene, trans-3,5-hydroxy-4&#x2032;-methoxy-stilbene, trans-3,5-diacetyl-4&#x2032;-hydroxy-stilbene, trans-3,5,4&#x2032;-triacetyl-stilbene, trans-3,5-hydroxy-4&#x2032;-acetyl-stilbene, and combinations thereof; and \n",
            " said cyclodextrin is selected from the group consisting of &#x3b1;-cyclodextrin, &#x3b2;-cyclodextrin, &#x3b3;-cyclodextrin, hydroxyethyl-&#x3b2;-cyclodextrin, hydroxypropyl-&#x3b2;-cyclodextrin, sulfobutyl ether-&#x3b2;-cyclodextrin, methyl-&#x3b2;-cyclodextrin, dimethyl-&#x3b2;-cyclodextrin, random dimethylated &#x3b2;-cyclodextrin, random methylated &#x3b2;-cyclodextrin, carboxymethyl-&#x3b2;-cyclodextrin, carboxymethyl ethyl-&#x3b2;-cyclodextrin, diethyl-&#x3b2;-cyclodextrin, tri-O-methyl-&#x3b2;-cyclodextrin, tri-O-ethyl-&#x3b2;-cyclodextrin, tri-O-butyryl-&#x3b2;-cyclodextrin, tri-O-valeryl-&#x3b2;-cyclodextrin, di-O-hexanoyl-&#x3b2;-cyclodextrin, glucosyl-&#x3b2;-cyclodextrin, maltosyl-&#x3b2;-cyclodextrin, 2-hydroxy-3-trimethyl-aminopropyl-&#x3b2;-cyclodextrin, and combinations thereof.  \n",
            " \n",
            " \n",
            "\n"
          ],
          "name": "stdout"
        },
        {
          "output_type": "display_data",
          "data": {
            "application/javascript": [
              "window[\"f3ad442e-3b57-11e9-b308-0242ac1c0002\"] = google.colab.output.setActiveOutputArea(window[\"f3ab919c-3b57-11e9-b308-0242ac1c0002\"]);\n",
              "//# sourceURL=js_cdc1e43a59"
            ],
            "text/plain": [
              "<IPython.core.display.Javascript object>"
            ]
          },
          "metadata": {
            "tags": [
              "id1_content_1",
              "outputarea_id1"
            ]
          }
        },
        {
          "output_type": "display_data",
          "data": {
            "application/javascript": [
              "window[\"f3ae78f8-3b57-11e9-b308-0242ac1c0002\"] = google.colab.output.getActiveOutputArea();\n",
              "//# sourceURL=js_99144d804e"
            ],
            "text/plain": [
              "<IPython.core.display.Javascript object>"
            ]
          },
          "metadata": {
            "tags": [
              "id1_content_2",
              "outputarea_id1"
            ]
          }
        },
        {
          "output_type": "display_data",
          "data": {
            "application/javascript": [
              "window[\"f3aec01a-3b57-11e9-b308-0242ac1c0002\"] = document.querySelector(\"#id1_content_2\");\n",
              "//# sourceURL=js_62ebb7bb5e"
            ],
            "text/plain": [
              "<IPython.core.display.Javascript object>"
            ]
          },
          "metadata": {
            "tags": [
              "id1_content_2",
              "outputarea_id1"
            ]
          }
        },
        {
          "output_type": "display_data",
          "data": {
            "application/javascript": [
              "window[\"f3af0520-3b57-11e9-b308-0242ac1c0002\"] = google.colab.output.setActiveOutputArea(window[\"f3aec01a-3b57-11e9-b308-0242ac1c0002\"]);\n",
              "//# sourceURL=js_0286dc7925"
            ],
            "text/plain": [
              "<IPython.core.display.Javascript object>"
            ]
          },
          "metadata": {
            "tags": [
              "id1_content_2",
              "outputarea_id1"
            ]
          }
        },
        {
          "output_type": "display_data",
          "data": {
            "application/javascript": [
              "window[\"f3af46a2-3b57-11e9-b308-0242ac1c0002\"] = window[\"id1\"].setSelectedTabIndex(2);\n",
              "//# sourceURL=js_d4657c1a56"
            ],
            "text/plain": [
              "<IPython.core.display.Javascript object>"
            ]
          },
          "metadata": {
            "tags": [
              "id1_content_2",
              "outputarea_id1"
            ]
          }
        },
        {
          "output_type": "stream",
          "text": [
            "\n",
            " \n",
            "  1 . A system, comprising:\n",
            " processing logic configured to:\n",
            " receive information identifying points of interest, \n",
            " identify at least one of location or distance information from each of the points of interest to the system, and \n",
            " sort the points of interest based on the location or distance information; and \n",
            " \n",
            " output logic configured to:\n",
            " project information identifying the points of interest onto a surface, wherein the projected information is displayed in accordance with the sorting. \n",
            " \n",
            " \n",
            " \n",
            " \n",
            "  2 . The system of  claim 1 , wherein when projecting information, the output logic is configured to:\n",
            " display the points of interest on the surface in an order, wherein a first point of interest located closest to the system is displayed at one end of the surface and a second point of interest located furthest from the system is displayed at an opposite end of the surface. \n",
            " \n",
            " \n",
            " \n",
            "  3 . The system of  claim 1 , wherein the surface comprises a hand or arm of a user associated with the system or a virtual screen. \n",
            " \n",
            " \n",
            "  4 . The system of  claim 1 , wherein when projecting information, the output logic is configured to:\n",
            " space the points of interest projected onto the surface based on geographical distances between the points of interest, wherein the spacing between the points of interest is less for points of interest located shorter geographical distances apart than for points of interest located greater geographical distances apart. \n",
            " \n",
            " \n",
            " \n",
            "  5 . The system of  claim 1 , wherein when projecting information, the output logic is configured to:\n",
            " provide at least one of different colors or different font sizes for at least some of the projected points of interest, wherein the different colors or font sizes convey relative geographical distance information from the points of interest to the system. \n",
            " \n",
            " \n",
            " \n",
            "  6 . The system of  claim 1 , wherein when projecting information, the output logic is configured to:\n",
            " dynamically update the projected information as the device moves, based on updated geographical distances from the device to the points of interest. \n",
            " \n",
            " \n",
            " \n",
            "  7 . The system of  claim 1 , wherein the processing logic is further configured to:\n",
            " determine a direction in which a user's finger, hand or arm is pointing, and \n",
            " identify points of interest based on the direction. \n",
            " \n",
            " \n",
            " \n",
            "  8 . The system of  claim 7 , wherein the processing logic is further configured to:\n",
            " detect a change in the direction in which the user's finger, hand or arm is pointing, and \n",
            " identify new points of interest based on the changed direction, and wherein the output logic is further configured to: \n",
            " project information onto the surface identifying the new points of interest. \n",
            " \n",
            " \n",
            " \n",
            "  9 . The system of  claim 1 , wherein the surface comprises a table or the ground. \n",
            " \n",
            " \n",
            "  10 . The system of  claim 1 , wherein the processing logic is located in a mobile terminal or a portable computer and the output control logic is located in an augmented reality device. \n",
            " \n",
            " \n",
            "  11 . A method, comprising:\n",
            " receiving, by a device, information identifying points of interest; \n",
            " identifying at least one of location or distance information from the device to each of the points of interest; \n",
            " sorting the points of interest based on the location or distance information; and \n",
            " projecting information identifying the points of interest onto a surface, wherein the projected information is displayed in accordance with the sorting. \n",
            " \n",
            " \n",
            " \n",
            "  12 . The method of  claim 11 , wherein the surface comprises a user's hand or arm. \n",
            " \n",
            " \n",
            "  13 . The method of  claim 11 , further comprising:\n",
            " displaying the points of interest on the surface in an order, wherein a first point of interest located closest to the device is displayed at one end of the surface and a second point of interest located furthest from the device is displayed at an opposite end of the surface. \n",
            " \n",
            " \n",
            " \n",
            "  14 . The method of  claim 11 , wherein the projecting information comprises:\n",
            " spacing the items of interest projected onto the surface based on geographical distances between the points of interest, wherein the spacing between the points of interest is less for points of interest located shorter geographical distances apart than for points of interest located greater geographical distances apart. \n",
            " \n",
            " \n",
            " \n",
            "  15 . The method of  claim 11 , wherein the projecting information comprises:\n",
            " providing at least one of different colors or different font sizes for at least some of the projected points of interest, wherein the different colors or font sizes convey relative geographical distance information from the points of interest to the device. \n",
            " \n",
            " \n",
            " \n",
            "  16 . The method of  claim 11 , further comprising:\n",
            " dynamically update the projected information as the device moves, based on updated geographical distances from the device to each of the points of interest. \n",
            " \n",
            " \n",
            " \n",
            "  17 . The method of  claim 11 , further comprising:\n",
            " determining a direction in which a user's finger, hand or arm is pointing; and \n",
            " identifying points of interest based on the direction. \n",
            " \n",
            " \n",
            " \n",
            "  18 . The method of  claim 17 , further comprising:\n",
            " detecting a change in the direction in which the user's finger, hand or arm is pointing; \n",
            " identifying new points of interest based on the changed direction; and \n",
            " projecting information onto the surface identifying the new points of interest. \n",
            " \n",
            " \n",
            " \n",
            "  19 . A computer-readable medium having stored thereon sequences of instructions which, when executed by at least one processor, cause the at least one processor to:\n",
            " receive information identifying points of interest; \n",
            " identify at least one of location or distance information from each of the points of interest to a device in which the computer-readable medium is stored; \n",
            " sort the points of interest based on the location or distance information; and \n",
            " output, to a projection device for projection onto a surface, information identifying the points of interest, wherein the information will be displayed in accordance with the sorting. \n",
            " \n",
            " \n",
            " \n",
            "  20 . The computer-readable medium of  claim 19 , wherein the projection device comprises an augmented reality projection device. \n",
            " \n",
            "\n"
          ],
          "name": "stdout"
        },
        {
          "output_type": "display_data",
          "data": {
            "application/javascript": [
              "window[\"f3b0306c-3b57-11e9-b308-0242ac1c0002\"] = google.colab.output.setActiveOutputArea(window[\"f3ae78f8-3b57-11e9-b308-0242ac1c0002\"]);\n",
              "//# sourceURL=js_27fc8380d1"
            ],
            "text/plain": [
              "<IPython.core.display.Javascript object>"
            ]
          },
          "metadata": {
            "tags": [
              "id1_content_2",
              "outputarea_id1"
            ]
          }
        },
        {
          "output_type": "display_data",
          "data": {
            "application/javascript": [
              "window[\"f3b16414-3b57-11e9-b308-0242ac1c0002\"] = google.colab.output.getActiveOutputArea();\n",
              "//# sourceURL=js_91778e76a3"
            ],
            "text/plain": [
              "<IPython.core.display.Javascript object>"
            ]
          },
          "metadata": {
            "tags": [
              "id1_content_3",
              "outputarea_id1"
            ]
          }
        },
        {
          "output_type": "display_data",
          "data": {
            "application/javascript": [
              "window[\"f3b1a9a6-3b57-11e9-b308-0242ac1c0002\"] = document.querySelector(\"#id1_content_3\");\n",
              "//# sourceURL=js_df31cdf4ef"
            ],
            "text/plain": [
              "<IPython.core.display.Javascript object>"
            ]
          },
          "metadata": {
            "tags": [
              "id1_content_3",
              "outputarea_id1"
            ]
          }
        },
        {
          "output_type": "display_data",
          "data": {
            "application/javascript": [
              "window[\"f3b1eb1e-3b57-11e9-b308-0242ac1c0002\"] = google.colab.output.setActiveOutputArea(window[\"f3b1a9a6-3b57-11e9-b308-0242ac1c0002\"]);\n",
              "//# sourceURL=js_e7a9c5e99b"
            ],
            "text/plain": [
              "<IPython.core.display.Javascript object>"
            ]
          },
          "metadata": {
            "tags": [
              "id1_content_3",
              "outputarea_id1"
            ]
          }
        },
        {
          "output_type": "display_data",
          "data": {
            "application/javascript": [
              "window[\"f3b228cc-3b57-11e9-b308-0242ac1c0002\"] = window[\"id1\"].setSelectedTabIndex(3);\n",
              "//# sourceURL=js_8fb90d88c8"
            ],
            "text/plain": [
              "<IPython.core.display.Javascript object>"
            ]
          },
          "metadata": {
            "tags": [
              "id1_content_3",
              "outputarea_id1"
            ]
          }
        },
        {
          "output_type": "stream",
          "text": [
            "\n",
            " \n",
            "  1 . A spinous process device, comprising:\n",
            " a first plate having a first part slidably coupled to a second part; \n",
            " a second plate having a third part slidably coupled to a fourth part; and \n",
            " first and second connector devices configured to be placed through openings created in spinous processes and rotatably couple respective first and second parts to third and fourth parts of the first and second plates together allowing angular displacement of the second plate with respect to the first plate and secure the spinous processes between the first and second plates. \n",
            " \n",
            " \n",
            " \n",
            "  2 . The device according to  claim 1 , further comprising first and second locking mechanisms configured to lock the first and second parts and the third and fourth parts a desired distance apart. \n",
            " \n",
            " \n",
            "  3 . The device according to  claim 1 , wherein each plate includes an interior portion having a plurality of protrusions configured to interact with the spinous processes. \n",
            " \n",
            " \n",
            "  4 . The device according to  claim 1 , wherein upon connection of the first and second plates using the first and second connector devices, the first and second plates are configured to be parallel to each other. \n",
            " \n",
            " \n",
            "  5 . The device according to  claim 1 , wherein upon connection of the first and second plates using the first and second connector devices, the first and second plates are configured to be disposed at an angle with respect to each other. \n",
            " \n",
            " \n",
            "  6 . The device according to  claim 1 , wherein the connector devices are selected from a group consisting of: screws, bolts, and other suitable devices. \n",
            " \n",
            " \n",
            "  7 . The device according to  claim 1 , wherein each of the first, second, third and fourth parts includes an opening configured to accommodate the first and second connector devices. \n",
            " \n",
            " \n",
            "  8 . The device according to  claim 1 , wherein at least one of the first, second, third and fourth parts includes an angularly disposed flange configured to form an angle with at least one of the first, second, third and fourth parts. \n",
            " \n",
            " \n",
            "  9 - 26 . (canceled) \n",
            " \n",
            " \n",
            "  27 . A method of clamping adjacent spinous processes comprising:\n",
            " providing a spinous process device comprising:\n",
            " a first plate having a first part slidably coupled to a second part; \n",
            " a second plate configured to be placed oppositely to the first plate and having a third part slidably coupled to a fourth part; and \n",
            " first and second connector devices configured to be placed through openings in the spinous processes and couple first and second parts of the first plate to second and third parts of the second plate together; \n",
            " \n",
            " adjusting the distance between the first and second parts of the first plate and the second and third parts of the second plate so that the first and second connector devices are aligned with the openings in the spinous processes, the spinous processes being disposed between the plates; \n",
            " translating the first and second parts of the first plate and the third and fourth parts of the second plate a desired distance; \n",
            " locking the first and second parts and the third and fourth parts the desired distance with first and second locking mechanisms; and \n",
            " securing the first and second plates to the spinous processes with the first and second connector devices, thereby compressing and clamping the spinous processes between the first and second plates. \n",
            " \n",
            " \n",
            " \n",
            "  28 . (canceled) \n",
            " \n",
            " \n",
            "  29 . The method according to  claim 27 , wherein the first part includes an extended portion slidably received into a hollow interior portion of the second part and the third part includes an extended portion slidably received into a hollow interior portion of the fourth part. \n",
            " \n",
            " \n",
            "  30 . The method according to  claim 27 , wherein the first and second locking mechanisms include a screw coupling the extended portion within the hollow interior portion. \n",
            " \n",
            " \n",
            "  31 . The method according to  claim 27 , wherein securing the first and second plates to the spinous processes further comprises adjusting an angular relationship of the first and second plates to conform to the shape of the adjacent spinous processes. \n",
            " \n",
            " \n",
            "  32 . The method according to  claim 27 , wherein each plate includes an interior portion having a plurality of protrusions configured to interact with the spinous processes. \n",
            " \n",
            " \n",
            "  33 . A spinous process device, comprising:\n",
            " a first plate having a first part with an extended portion slidably coupled to a second part having a hollow interior portion, wherein the extended portion of the first part is slidably received into the hollow interior portion of the second part; \n",
            " a second plate having a third part with an extended portion slidably coupled to a fourth part having a hollow interior portion, wherein the extended portion of the third part is slidably received into the hollow interior portion of the fourth part; and \n",
            " first and second connector devices configured to be placed through openings created in spinous processes and rotatably couple respective first and second parts to third and fourth parts of the first and second plates together allowing angular displacement of the second plate with respect to the first plate and secure the spinous processes between the first and second plates. \n",
            " \n",
            " \n",
            " \n",
            "  34 . The device according to  claim 33 , further comprising first and second locking mechanisms configured to lock the first and second parts and the third and fourth parts a desired distance apart. \n",
            " \n",
            " \n",
            "  35 . The device according to  claim 33 , wherein each plate includes an interior portion having a plurality of protrusions configured to interact with the spinous processes. \n",
            " \n",
            " \n",
            "  36 . The device according to  claim 33 , wherein upon connection of the first and second plates using the first and second connector devices, the first and second plates are configured to be parallel to each other. \n",
            " \n",
            " \n",
            "  37 . The device according to  claim 33 , wherein upon connection of the first and second plates using the first and second connector devices, the first and second plates are configured to be disposed at an angle with respect to each other. \n",
            " \n",
            " \n",
            "  38 . The device according to  claim 33 , wherein the connector devices comprise screws, bolts, or other suitable devices. \n",
            " \n",
            " \n",
            "  39 . The device according to  claim 33 , wherein each of the first, second, third and fourth parts includes an opening configured to accommodate the first and second connector devices. \n",
            " \n",
            "\n"
          ],
          "name": "stdout"
        },
        {
          "output_type": "display_data",
          "data": {
            "application/javascript": [
              "window[\"f3b317c8-3b57-11e9-b308-0242ac1c0002\"] = google.colab.output.setActiveOutputArea(window[\"f3b16414-3b57-11e9-b308-0242ac1c0002\"]);\n",
              "//# sourceURL=js_f1eb7946cb"
            ],
            "text/plain": [
              "<IPython.core.display.Javascript object>"
            ]
          },
          "metadata": {
            "tags": [
              "id1_content_3",
              "outputarea_id1"
            ]
          }
        },
        {
          "output_type": "display_data",
          "data": {
            "application/javascript": [
              "window[\"f3b45232-3b57-11e9-b308-0242ac1c0002\"] = google.colab.output.getActiveOutputArea();\n",
              "//# sourceURL=js_37e04867f2"
            ],
            "text/plain": [
              "<IPython.core.display.Javascript object>"
            ]
          },
          "metadata": {
            "tags": [
              "id1_content_4",
              "outputarea_id1"
            ]
          }
        },
        {
          "output_type": "display_data",
          "data": {
            "application/javascript": [
              "window[\"f3b49102-3b57-11e9-b308-0242ac1c0002\"] = document.querySelector(\"#id1_content_4\");\n",
              "//# sourceURL=js_e29f20bbd5"
            ],
            "text/plain": [
              "<IPython.core.display.Javascript object>"
            ]
          },
          "metadata": {
            "tags": [
              "id1_content_4",
              "outputarea_id1"
            ]
          }
        },
        {
          "output_type": "display_data",
          "data": {
            "application/javascript": [
              "window[\"f3b4d04a-3b57-11e9-b308-0242ac1c0002\"] = google.colab.output.setActiveOutputArea(window[\"f3b49102-3b57-11e9-b308-0242ac1c0002\"]);\n",
              "//# sourceURL=js_a9323748fe"
            ],
            "text/plain": [
              "<IPython.core.display.Javascript object>"
            ]
          },
          "metadata": {
            "tags": [
              "id1_content_4",
              "outputarea_id1"
            ]
          }
        },
        {
          "output_type": "display_data",
          "data": {
            "application/javascript": [
              "window[\"f3b50b8c-3b57-11e9-b308-0242ac1c0002\"] = window[\"id1\"].setSelectedTabIndex(4);\n",
              "//# sourceURL=js_595001e99a"
            ],
            "text/plain": [
              "<IPython.core.display.Javascript object>"
            ]
          },
          "metadata": {
            "tags": [
              "id1_content_4",
              "outputarea_id1"
            ]
          }
        },
        {
          "output_type": "stream",
          "text": [
            "\n",
            " \n",
            "  1 . In an electronic device having a processor executing one or more applications that provide selectable content, a method comprising:\n",
            " receiving selection of at least two different selectable contents from one or more available application user interfaces; \n",
            " assigning a sequential tag to at least one of the different selected content, wherein the sequential tag indicates a selected order in which the different selected content are to be presented at an end location within an editable application user interface document; and \n",
            " inserting the different selected content into the end location in the selected order corresponding to the sequential tag of each respective selected content relative to each other sequential tag assigned. \n",
            " \n",
            " \n",
            " \n",
            "  2 . The method of  claim 1 , wherein the inserting of the different selected content comprises dynamically arranging an order of presentation of the different selected content based on at least one of the sequential tag assigned to the at least one different selected content and an order of selection of the at least two different selected contents. \n",
            " \n",
            " \n",
            "  3 . The method of  claim 1 , wherein the sequential tag can be one of a number, an alphanumeric character, and a sequencing method and each different sequential tag represents a different relative placement within an ordering of the at least to different selectable contents. \n",
            " \n",
            " \n",
            "  4 . The method of  claim 1 , wherein the final document is a different document from at least one of the application user interfaces from which one or more of the at least two different selected content was selected, wherein incorporation and ordering of selected content from multiple different application user interfaces into a single application user interface document is provided. \n",
            " \n",
            " \n",
            "  5 . The method of  claim 1 , further comprising:\n",
            " identifying a set of contents as sub-contents; \n",
            " tagging at least one sub-content within the set of contents with a sub-content tag; and \n",
            " arranging the sub-content within the set of contents in sequence relative to each other sub-content based on the sub-content tag, while arranging the set of contents in sequence relative to other selected content within the end location, relative to the sequential tag assigned to specific ones of the set of contents and the other selected content. \n",
            " \n",
            " \n",
            " \n",
            "  6 . The method of  claim 1 , wherein the different selected content can comprise one or more of a sentence, a sub-sentence, a phrase, a clause, a word, a paragraph, a plurality of sequential paragraphs, a plurality of pages, an entire document when multiple documents are utilized, a graphic, an image, a table, and data. \n",
            " \n",
            " \n",
            "  7 . The method of  claim 1 , further comprising:\n",
            " receiving a first input which marks the end location within a first application user space as an end location for later insertion of content that is not yet selected, wherein an ending location to which content is to be moved is identified prior to selecting the content; \n",
            " detecting selection of content from one or more application user spaces available via the electronic device; \n",
            " following each selection detected, receiving a second input providing one of a cut operation and a copy operation for the selected content; and \n",
            " the processor, in response to receiving the second input following (i) the content being selected after (ii) first registering receipt of the first input marking the end location, automatically generating a prompt for one of: (a) insertion of the selected content at the end location within the editable application user interface document; and (b) arrangement of the selected content relative to other selected content by assigning a sequential tag to the selected content; \n",
            " completing a retrieve and insert operation by inserting of the selected content within the end location in response to receipt of a response to the prompt indicating completion of a current selection of content; and \n",
            " in response to receipt of a different response indicating that additional content is to be selected and sequentially arranged prior to concurrent insertion of all selectable content into the end location: requesting entry of a specific sequential tag for the selected content; assigning to the selected content one of the sequential tag received and a default sequential tag generated when no sequential tag is received within a pre-set timeout period; and returning to a selection mode for selection of one or more other content from the application user interfaces. \n",
            " wherein the tagging enables ordered insertion into a single ending location of a single document. \n",
            " \n",
            " \n",
            " \n",
            "  8 . The method of  claim 1 , further comprising:\n",
            " in response to a deletion of selected content from its original location, visibly displaying a first indicator at or proximate to the original location indicating that previous content from that original location was moved to the end location. \n",
            " \n",
            " \n",
            " \n",
            "  9 . The method of  claim 1 , further comprising:\n",
            " displaying one or more original location (OL) indicator proximate to respective selected content inserted within the end location to identify a corresponding original location from which the inserted content was obtained. \n",
            " \n",
            " \n",
            " \n",
            "  10 . The method of  claim 1 , comprising:\n",
            " tagging a first selected content with a first sequential tag; \n",
            " tagging a second selected content with a second sequential tag that is different from the first sequential tag; and \n",
            " arranging the first selected content and the second selected content within the end location in an order corresponding to a sequence value of the first sequential tag relative to the second sequential tag. \n",
            " \n",
            " \n",
            " \n",
            "  11 . The method of  claim 10 , further comprising:\n",
            " displaying a menu comprising one or more selectable options that enable tagging of specific selected content; and \n",
            " providing, within the one or more selectable options, an option of selecting a specific tag value, within an allowable range of tag values making up the sequence, to assign to the specific selected content. \n",
            " \n",
            " \n",
            " \n",
            "  12 . The method of  claim 1 , wherein inserting further comprises:\n",
            " presenting a sequence of selectable functions that includes a &#x201c;combine and sort&#x201d; function; \n",
            " receiving an input selecting the &#x201c;combine and sort&#x201d; function for inserting the selected content; and \n",
            " in response to receiving an input selecting a &#x201c;combine with sort&#x201d; function, sequentially arranging the individual content in the sequential order of the sequential tags. \n",
            " \n",
            " \n",
            " \n",
            "  13 . The method of  claim 1 , wherein inserting further comprises:\n",
            " presenting a sequence of selectable functions that includes an option to create a new document; \n",
            " receiving an input selecting the option for new document creation with the at least two selected content; and \n",
            " in response to receiving the input selecting the option for new document creation, generating a new document presenting an ordered arrangement of the at least two selected content. \n",
            " \n",
            " \n",
            " \n",
            "  14 . The method of  claim 13 , wherein generating the new document further comprises presenting the new document as a &#x201c;re-arrange version&#x201d; of an original document, and preserving the original document. \n",
            " \n",
            " \n",
            "  15 . The method of  claim 14 , further comprising:\n",
            " in response to detecting activation of a track changes feature prior to a re-arrangement of the original document:\n",
            " creating a mark-up version of the original document; and \n",
            " showing within the marked up version the sequential tags of the different content that is re-arranged within the document. \n",
            " \n",
            " \n",
            " \n",
            " \n",
            "  16 . The method of  claim 15 , further comprising:\n",
            " displaying the sequential tag proximate to a deleted content at an original content location; and \n",
            " in response to detecting a selection of the sequential tag at the original content location, jumping to a new insertion point of the specific content within one of the same document and a new document created and placing a cursor at the new insertion point. \n",
            " \n",
            " \n",
            " \n",
            "  17 . The method of  claim 1 , further comprising:\n",
            " presenting one or more options for one or more pre-selected ending locations including an insert function; and \n",
            " enabling selection of an insert function that is displayed in order to populate the pre-selected ending location with the specific content, wherein the specific content is automatically populated upon selection, following an initial selection of the ending location. \n",
            " \n",
            " \n",
            " \n",
            "  18 . The method of  claim 17 , further comprising:\n",
            " in response to the specific selected content being automatically inserted, placing a special marking reflected within the specific content to enable an editor to quickly view the specific selected content at the first location as newly inserted content. \n",
            " \n",
            " \n",
            " \n",
            "  19 . The method of  claim 1 , further comprising:\n",
            " providing one or more undo options to enable an undo of the inserting, wherein a special undo feature is provided along with the specific content and any content that is automatically inserted into an end location via a retrieve and insert operation, wherein the special undo feature both removes the specific content from the ending location and causes a cursor to jump back to the original location, whereby a reminder of the original location of the specific content is provided. \n",
            " \n",
            " \n",
            " \n",
            "  20 . The method of  claim 19 , further comprising:\n",
            " detecting selection of special undo feature; and \n",
            " in response to detecting the selection of the special undo feature while the specific selected content has been deleted from the original location, reinserting the specific selected content in the original location. \n",
            " \n",
            " \n",
            " \n",
            "  21 . The method of  claim 1 , further comprising:\n",
            " presenting a sequence of selectable functions that includes an option to swap a first selected content at a first location within a first editable document with a second selected content at a second location; \n",
            " receiving an input selecting the option to swap locations of two selected contents; and \n",
            " in response to receiving the input selecting the option for swapping the location of two selected contents, automatically swapping the second selected content into the first location within the first editable document and moving the first selected content to the second location of the second content.  \n",
            " \n",
            " \n",
            "\n"
          ],
          "name": "stdout"
        },
        {
          "output_type": "display_data",
          "data": {
            "application/javascript": [
              "window[\"f3b5e764-3b57-11e9-b308-0242ac1c0002\"] = google.colab.output.setActiveOutputArea(window[\"f3b45232-3b57-11e9-b308-0242ac1c0002\"]);\n",
              "//# sourceURL=js_9dfaf53957"
            ],
            "text/plain": [
              "<IPython.core.display.Javascript object>"
            ]
          },
          "metadata": {
            "tags": [
              "id1_content_4",
              "outputarea_id1"
            ]
          }
        },
        {
          "output_type": "display_data",
          "data": {
            "application/javascript": [
              "window[\"f3b716d4-3b57-11e9-b308-0242ac1c0002\"] = google.colab.output.getActiveOutputArea();\n",
              "//# sourceURL=js_594f06b5a0"
            ],
            "text/plain": [
              "<IPython.core.display.Javascript object>"
            ]
          },
          "metadata": {
            "tags": [
              "id1_content_5",
              "outputarea_id1"
            ]
          }
        },
        {
          "output_type": "display_data",
          "data": {
            "application/javascript": [
              "window[\"f3b75dec-3b57-11e9-b308-0242ac1c0002\"] = document.querySelector(\"#id1_content_5\");\n",
              "//# sourceURL=js_9c8ba2d897"
            ],
            "text/plain": [
              "<IPython.core.display.Javascript object>"
            ]
          },
          "metadata": {
            "tags": [
              "id1_content_5",
              "outputarea_id1"
            ]
          }
        },
        {
          "output_type": "display_data",
          "data": {
            "application/javascript": [
              "window[\"f3b79e2e-3b57-11e9-b308-0242ac1c0002\"] = google.colab.output.setActiveOutputArea(window[\"f3b75dec-3b57-11e9-b308-0242ac1c0002\"]);\n",
              "//# sourceURL=js_55f7e2df83"
            ],
            "text/plain": [
              "<IPython.core.display.Javascript object>"
            ]
          },
          "metadata": {
            "tags": [
              "id1_content_5",
              "outputarea_id1"
            ]
          }
        },
        {
          "output_type": "display_data",
          "data": {
            "application/javascript": [
              "window[\"f3b7db32-3b57-11e9-b308-0242ac1c0002\"] = window[\"id1\"].setSelectedTabIndex(5);\n",
              "//# sourceURL=js_ab2ddee4b3"
            ],
            "text/plain": [
              "<IPython.core.display.Javascript object>"
            ]
          },
          "metadata": {
            "tags": [
              "id1_content_5",
              "outputarea_id1"
            ]
          }
        },
        {
          "output_type": "stream",
          "text": [
            "\n",
            " \n",
            "  1 . A method for estimating and correcting errors in memory cells implemented by at least an error correction code (ECC) decoder and a controller, the method comprising:\n",
            " identifying a first candidate group of memory cells having an error-generation possibility using a first method for error estimation; \n",
            " identifying a second candidate group of memory cells having an error-generation possibility using a second method for error estimation; and \n",
            " correcting errors in at least one cell commonly included in the first and second candidate groups. \n",
            " \n",
            " \n",
            " \n",
            "  2 . The method of  claim 1 ,\n",
            " wherein the first method is one among a method using a parity check matrix, a method using a degree of coupling of each cell, and a method using additional read-out of each cell, and \n",
            " wherein the second method is another one among the method using the parity check matrix, the method using the degree of coupling of each cell, and the method using additional read-out of each cell. \n",
            " \n",
            " \n",
            " \n",
            "  3 . The method of  claim 1 , wherein correcting the errors comprises performing bit-flipping in the at least one cell commonly included in the first and second candidate groups. \n",
            " \n",
            " \n",
            "  4 . The method of  claim 1 , wherein correcting the errors comprises erasing the at least one cell commonly included in the first and second candidate groups. \n",
            " \n",
            " \n",
            "  5 . The method of  claim 2 , wherein the method using the parity check matrix identifies the at least one cell not satisfying a condition of H&#xb7;c T =0, where H denotes a parity check matrix and c denotes a codeword vector. \n",
            " \n",
            " \n",
            "  6 . The method of  claim 1 , further comprising:\n",
            " performing ECC decoding on a plurality of cells including the at least one error-corrected cell; and \n",
            " determining whether the ECC decoding has failed. \n",
            " \n",
            " \n",
            " \n",
            "  7 . The method of  claim 6 , wherein when it is determined that the ECC decoding has failed, repeating the identifying of the first and second candidate groups and the correcting of errors in at least one cell commonly included in the first and second candidate groups. \n",
            " \n",
            " \n",
            "  8 . A method for estimating and correcting errors in memory cells implemented by at least an error correction code (ECC) decoder and a controller, the method comprising:\n",
            " identifying a first candidate group of memory cells having an error-generation possibility using a first method for error estimation; \n",
            " identifying a second candidate group of memory cells from the first candidate group having an error-generation possibility using a second method for error estimation; and \n",
            " correcting errors in the second candidate group. \n",
            " \n",
            " \n",
            " \n",
            "  9 . The method of  claim 8 ,\n",
            " wherein the first method is one among a method using a parity check matrix, a method using the coupling degree of each cell, and a method using additional read-out of each cell, and \n",
            " wherein the second method is another one among the method using the parity check matrix, the method using the coupling degree of each cell, and the method using additional read-out of each cell.  \n",
            " \n",
            " \n",
            "\n"
          ],
          "name": "stdout"
        },
        {
          "output_type": "display_data",
          "data": {
            "application/javascript": [
              "window[\"f3b8bcb4-3b57-11e9-b308-0242ac1c0002\"] = google.colab.output.setActiveOutputArea(window[\"f3b716d4-3b57-11e9-b308-0242ac1c0002\"]);\n",
              "//# sourceURL=js_e923de336d"
            ],
            "text/plain": [
              "<IPython.core.display.Javascript object>"
            ]
          },
          "metadata": {
            "tags": [
              "id1_content_5",
              "outputarea_id1"
            ]
          }
        },
        {
          "output_type": "display_data",
          "data": {
            "application/javascript": [
              "window[\"f3b9f3f4-3b57-11e9-b308-0242ac1c0002\"] = google.colab.output.getActiveOutputArea();\n",
              "//# sourceURL=js_e3d0459bd7"
            ],
            "text/plain": [
              "<IPython.core.display.Javascript object>"
            ]
          },
          "metadata": {
            "tags": [
              "id1_content_6",
              "outputarea_id1"
            ]
          }
        },
        {
          "output_type": "display_data",
          "data": {
            "application/javascript": [
              "window[\"f3ba37b0-3b57-11e9-b308-0242ac1c0002\"] = document.querySelector(\"#id1_content_6\");\n",
              "//# sourceURL=js_eefb17cb5f"
            ],
            "text/plain": [
              "<IPython.core.display.Javascript object>"
            ]
          },
          "metadata": {
            "tags": [
              "id1_content_6",
              "outputarea_id1"
            ]
          }
        },
        {
          "output_type": "display_data",
          "data": {
            "application/javascript": [
              "window[\"f3ba75ae-3b57-11e9-b308-0242ac1c0002\"] = google.colab.output.setActiveOutputArea(window[\"f3ba37b0-3b57-11e9-b308-0242ac1c0002\"]);\n",
              "//# sourceURL=js_6ec0c1602a"
            ],
            "text/plain": [
              "<IPython.core.display.Javascript object>"
            ]
          },
          "metadata": {
            "tags": [
              "id1_content_6",
              "outputarea_id1"
            ]
          }
        },
        {
          "output_type": "display_data",
          "data": {
            "application/javascript": [
              "window[\"f3bab8b6-3b57-11e9-b308-0242ac1c0002\"] = window[\"id1\"].setSelectedTabIndex(6);\n",
              "//# sourceURL=js_245a2a2ea8"
            ],
            "text/plain": [
              "<IPython.core.display.Javascript object>"
            ]
          },
          "metadata": {
            "tags": [
              "id1_content_6",
              "outputarea_id1"
            ]
          }
        },
        {
          "output_type": "stream",
          "text": [
            "\n",
            " \n",
            "  1 . A rainwater catching and plant watering device, comprising:\n",
            " a collecting member forming a rainwater holding area, the collecting member configured to be attached to a portion of a building from which rainwater will flow; \n",
            " at least one opening in the collecting member for receiving rainwater flowing from the building; \n",
            " a flow connector for directing rainwater in the water holding area to plants or the like. \n",
            " \n",
            " \n",
            " \n",
            "  2 . The device according to  claim 1 , wherein and further including an impeding member positioned in or adjacent to the flow connector for impeding and controlling the flow of rainwater through the flow connector. \n",
            " \n",
            " \n",
            "  3 . The device according to  claim 1 , wherein the impeding member is an airstone disposed adjacent to an opening in the collecting member. \n",
            " \n",
            " \n",
            "  4 . The device according to  claim 1 , wherein the conduit includes a portion having a plurality of openings therein to release the water. \n",
            " \n",
            " \n",
            "  5 . The device according to  claim 1 , wherein the collecting member is a gutter. \n",
            " \n",
            " \n",
            "  6 . The device according to  claim 1 , wherein the collecting member includes a capture basin adapted to be connected to said building. \n",
            " \n",
            " \n",
            "  7 . The device according to  claim 1 , further comprising a debris blocking element disposed adjacent the at least one opening to prevent debris from blocking the opening \n",
            " \n",
            " \n",
            "  8 . The device according to  claim 1 , further comprising an attaching member attached to the collecting member to attach the device to the building. \n",
            " \n",
            " \n",
            "  9 . The device according to  claim 1 , wherein the attaching member is an elastic clip. \n",
            " \n",
            " \n",
            "  10 . The device according to  claim 1 , wherein at least a portion of one of the at least two sides is configured to engage at least the portion of a building from which rainwater will flow. \n",
            " \n",
            " \n",
            "  11 . The device according to  claim 1 , wherein the at least one opening includes a plurality of openings. \n",
            " \n",
            " \n",
            "  12 . A rain catching and plant watering device comprising:\n",
            " a collecting member having at least two sides and a bottom defining a water holding area to collect water from a gutter; \n",
            " at least one opening in the collecting member; \n",
            " a conduit in fluid communication with the water holding area and having a length sufficient to reach plants or the like; and \n",
            " an impeding member to slow the flow of water from the water holding area through the conduit. \n",
            " \n",
            " \n",
            " \n",
            "  13 . The device according to  claim 12 , wherein the impeding member is a fibrous element disposed in the conduit. \n",
            " \n",
            " \n",
            "  14 . The device according to  claim 12 , wherein the impeding member is an airstone disposed adjacent the opening in bottom. \n",
            " \n",
            " \n",
            "  15 . The device according to  claim 12 , wherein the conduit includes a portion having a plurality of openings therein to release the water. \n",
            " \n",
            " \n",
            "  16 . A rain catching and plant watering device comprising:\n",
            " a collecting member that is fitted into a gutter with a top surface and surface extending below the gutter, the collecting member configured to be fitted into a hole cut into a gutter; \n",
            " at least one opening in the collecting member; \n",
            " a conduit having a length sufficient to reach plants or the like; and \n",
            " an impeding member to slow the flow of water from the water holding area through the conduit. \n",
            " \n",
            " \n",
            " \n",
            "  17 . The device according to  claim 16 , wherein the impeding member is a fibrous element disposed in the conduit. \n",
            " \n",
            " \n",
            "  18 . The device according to  claim 16 , wherein the impeding member is an airstone disposed adjacent the opening in bottom. \n",
            " \n",
            " \n",
            "  19 . The device according to  claim 16 , wherein the conduit includes a portion having a plurality of openings therein to release the water. \n",
            " \n",
            " \n",
            "  20 . The device according to  claim 16 , further comprising a debris blocking element disposed adjacent the at least one opening to prevent debris from blocking the opening \n",
            " \n",
            " \n",
            "  21 . The device according to  claim 16 , wherein the at least one opening includes a plurality of openings.  \n",
            " \n",
            "\n"
          ],
          "name": "stdout"
        },
        {
          "output_type": "display_data",
          "data": {
            "application/javascript": [
              "window[\"f3bb9d08-3b57-11e9-b308-0242ac1c0002\"] = google.colab.output.setActiveOutputArea(window[\"f3b9f3f4-3b57-11e9-b308-0242ac1c0002\"]);\n",
              "//# sourceURL=js_01b9f1485f"
            ],
            "text/plain": [
              "<IPython.core.display.Javascript object>"
            ]
          },
          "metadata": {
            "tags": [
              "id1_content_6",
              "outputarea_id1"
            ]
          }
        },
        {
          "output_type": "display_data",
          "data": {
            "application/javascript": [
              "window[\"f3bccda4-3b57-11e9-b308-0242ac1c0002\"] = google.colab.output.getActiveOutputArea();\n",
              "//# sourceURL=js_d5ffb5338a"
            ],
            "text/plain": [
              "<IPython.core.display.Javascript object>"
            ]
          },
          "metadata": {
            "tags": [
              "id1_content_7",
              "outputarea_id1"
            ]
          }
        },
        {
          "output_type": "display_data",
          "data": {
            "application/javascript": [
              "window[\"f3bd17f0-3b57-11e9-b308-0242ac1c0002\"] = document.querySelector(\"#id1_content_7\");\n",
              "//# sourceURL=js_303fc4f3c2"
            ],
            "text/plain": [
              "<IPython.core.display.Javascript object>"
            ]
          },
          "metadata": {
            "tags": [
              "id1_content_7",
              "outputarea_id1"
            ]
          }
        },
        {
          "output_type": "display_data",
          "data": {
            "application/javascript": [
              "window[\"f3bd5738-3b57-11e9-b308-0242ac1c0002\"] = google.colab.output.setActiveOutputArea(window[\"f3bd17f0-3b57-11e9-b308-0242ac1c0002\"]);\n",
              "//# sourceURL=js_6a6151f921"
            ],
            "text/plain": [
              "<IPython.core.display.Javascript object>"
            ]
          },
          "metadata": {
            "tags": [
              "id1_content_7",
              "outputarea_id1"
            ]
          }
        },
        {
          "output_type": "display_data",
          "data": {
            "application/javascript": [
              "window[\"f3bd95b8-3b57-11e9-b308-0242ac1c0002\"] = window[\"id1\"].setSelectedTabIndex(7);\n",
              "//# sourceURL=js_c6eab80f35"
            ],
            "text/plain": [
              "<IPython.core.display.Javascript object>"
            ]
          },
          "metadata": {
            "tags": [
              "id1_content_7",
              "outputarea_id1"
            ]
          }
        },
        {
          "output_type": "stream",
          "text": [
            "\n",
            " \n",
            "  1 - 34 . (canceled) \n",
            " \n",
            " \n",
            "  35 . A method for executing a transaction regarding information to be stored in a flash type memory device, the method comprising:\n",
            " executing a payload data writing operation relevant to said transaction into a first memory block of said flash type memory device, \n",
            " setting up memory-block specific status information of said first memory block to express that said transaction is in a commitment process, and \n",
            " processing the payload data written in said first memory block into valid payload data. \n",
            " \n",
            " \n",
            " \n",
            "  36 . A method as set forth in  claim 35 , wherein said first memory block, among those memory blocks of said flash type memory device in which payload data is written in connection with said transaction, is the one with the smallest physical address. \n",
            " \n",
            " \n",
            "  37 . A method as set forth in  claim 35 , wherein said first memory block, among those memory blocks of said flash type memory device in which payload data is written in connection with said transaction, is the one with the greatest physical address. \n",
            " \n",
            " \n",
            "  38 . A method as set forth in  claim 36 , wherein said memory-block specific status information is set up in two operations: first said memory-block specific status information is set up to express that the payload data present in said first memory block is correct, and subsequently said memory-block specific status information is set up to express that said transaction is in a commitment process. \n",
            " \n",
            " \n",
            "  39 . A method as set forth in  claim 35 , wherein said first memory block, among those memory blocks of said flash type memory device in which payload data is written in connection with said transaction, is the last one to have payload data written therein in connection with said transaction. \n",
            " \n",
            " \n",
            "  40 . A method as set forth in  claim 35 , wherein in said first memory block is written identification data identifying said transaction. \n",
            " \n",
            " \n",
            "  41 . A method as set forth in  claim 35 , wherein in said first memory block is written a cyclic age indicator expressing that the payload data present in said first memory block is more recent than the payload data present in a second memory block of said flash type memory device. \n",
            " \n",
            " \n",
            "  42 . A method as set forth in  claim 41 , wherein the operation, wherein the payload data written in said first memory block is processed into valid payload data, contains the following suboperations:\n",
            " setting up the memory-block specific status information of said first memory block to express that the payload data present in said first memory block is valid, followed by \n",
            " setting up the memory-block specific status information of said second memory block to express that the payload data present in said second memory block is dirty. \n",
            " \n",
            " \n",
            " \n",
            "  43 . A method as set forth in  claim 35 , wherein the operation , wherein the payload data written in said first memory block is processed into valid payload data, contains the following suboperations:\n",
            " setting up the memory-block specific status information of a second memory block of said flash type memory device to express that the payload data present in said second memory block is dirty, followed by \n",
            " setting up the memory-block specific status information of said first memory block to express that the payload data present in said first memory block is valid. \n",
            " \n",
            " \n",
            " \n",
            "  44 . A method as set forth in  claim 35 , wherein said memory-block specific status information is written in said first memory block into a storage space subsequent to other information present in said first memory block. \n",
            " \n",
            " \n",
            "  45 . A method as set forth in  claim 35 , wherein said memory-block specific status information is written in said first memory block into a storage space subsequent to header information present in said first memory block. \n",
            " \n",
            " \n",
            "  46 . A method as set forth in  claim 40 , wherein said memory-block specific status information is written in said first memory block into a storage space subsequent to the identification data identifying said transaction. \n",
            " \n",
            " \n",
            "  47 . A method as set forth in  claim 35 , wherein said memory-block specific status information expresses one of the following conditions:\n",
            " A: said first memory block is free for writing, \n",
            " B: payload data present in said first memory block is correct, \n",
            " C: said transaction is in a commitment process, \n",
            " D: payload data present in said first memory block is valid, and \n",
            " E: payload data present in said first memory block is dirty. \n",
            " \n",
            " \n",
            " \n",
            "  48 . A method as set forth in  claim 47 , wherein any of the following status transitions: from status A to status B, from status B to status C, from status C to status D, and from status D to status E, is implemented by changing the value of just one bit in a bit vector representing said memory-block specific status information. \n",
            " \n",
            " \n",
            "  49 . A recovery method for recovering from a system error occurred during a transaction in equipment based on a flash type memory device, the recovery method comprising:\n",
            " reading memory-block specific status information regarding a first memory block of said flash type memory device, \n",
            " determining whether said memory-block specific status information expresses that said transaction is in a commitment process, and \n",
            " processing the payload data present in said first memory block into valid payload data in response to the condition that said memory-block specific status information expresses that said transaction is in a commitment process. \n",
            " \n",
            " \n",
            " \n",
            "  50 . A recovery method as set forth in  claim 49 , wherein the recovery method comprises:\n",
            " reading the value of a cyclic age indicator in said first memory block, \n",
            " reading the value of a cyclic age indicator in a second memory block of said flash type memory device, \n",
            " in response to the condition in which the cyclic age indicator of said second memory block has a value which in the sequence of a preset rule is subsequent to the value of the cyclic age indicator in said first memory block, setting up the status information of said first memory block to express that the payload data present in said first memory block is dirty, and \n",
            " in response to the condition in which the cyclic age indicator of said first memory block has a value which in the sequence of a preset rule is subsequent to the value of the cyclic age indicator in said second memory block, setting up the status information of said second memory block to express that the payload data present in said second memory block is dirty. \n",
            " \n",
            " \n",
            " \n",
            "  51 . An arrangement for processing a transaction regarding information to be stored in a flash type memory device, wherein the arrangement comprises management media, which are linked to said flash type memory device and which are adapted to:\n",
            " execute a payload-data writing operation relevant to said transaction into a first memory block of said flash type memory device, \n",
            " set up memory-block specific status information of said first memory block to express that said transaction is in a commitment process, \n",
            " read the memory-block specific status information of said first memory block and determine whether said memory-block specific status information has been set up to express that said transaction is in a commitment process, and \n",
            " process the payload data written in said first memory block into valid payload data in response to the condition in which said memory-block specific status information has been set up to express that said transaction is in a commitment process. \n",
            " \n",
            " \n",
            " \n",
            "  52 . An arrangement as set forth in  claim 51 , wherein, among those memory blocks of said flash type memory device in which payload data is written in connection with said transaction, said management media are adapted to select said first memory block to be the one with the smallest physical address. \n",
            " \n",
            " \n",
            "  53 . An arrangement as set forth in  claim 51 , wherein, among those memory blocks of said flash type memory device in which payload data is written in connection with said transaction, said management media are adapted to select said first memory block to be the one with the greatest physical address. \n",
            " \n",
            " \n",
            "  54 . An arrangement as set forth in  claim 52 , wherein said management media are adapted to set up in a first operation said memory-block specific status information to express that payload data present in said first memory block is valid, and in a second operation to set up said memory-block specific status information to express that said transaction is in a commitment process, wherein said first operation precedes said second operation. \n",
            " \n",
            " \n",
            "  55 . An arrangement as set forth in  claim 51 , wherein, among those memory blocks of said flash type memory device in which payload data is written in connection with said transaction, said management media are adapted to select said first memory block to be the last one to have payload data written therein in connection with said transaction. \n",
            " \n",
            " \n",
            "  56 . An arrangement as set forth in  claim 51 , wherein said management media are adapted to write into said first memory block identification data identifying said transaction. \n",
            " \n",
            " \n",
            "  57 . A method as set forth in  claim 51 , wherein said management media are adapted to determine a value subsequent in the sequence of a preset rule to the value of a cyclic age indicator present in a second memory block of said flash type memory device, and to write said sequentially subsequent value into said first memory block. \n",
            " \n",
            " \n",
            "  58 . An arrangement as set forth in  claim 57 , wherein said management media are adapted to set up in a first operation the memory-block specific status information of said first memory block to express that the payload data present in said first memory block is valid, and in a second operation to set up memory-block specific status information of said second memory block to express that payload data present in said second memory block is dirty, wherein said first operation precedes said second operation. \n",
            " \n",
            " \n",
            "  59 . An arrangement as set forth in  claim 51 , wherein said management media are adapted to set up in a first operation the memory-block specific status information of the second memory block of said flash type memory device to express that payload data present in said second memory block is dirty, and in a second operation to set up the memory-block specific status information of said first memory block to express that the payload data present in said first memory block is valid, wherein said first operation precedes said second operation. \n",
            " \n",
            " \n",
            "  60 . An arrangement as set forth in  claim 51 , wherein said management media are adapted to write said memory-block specific status information in said first memory block into a storage space subsequent to other information present in said first memory block. \n",
            " \n",
            " \n",
            "  61 . An arrangement as set forth in  claim 51 , wherein said management media are adapted to write said memory-block specific status information in said first memory block into a storage space subsequent to header information present in said first memory block. \n",
            " \n",
            " \n",
            "  62 . An arrangement as set forth in  claim 56 , wherein said management media are adapted to write said memory-block specific status information in said first memory block into a storage space subsequent to the identification data identifying said transaction. \n",
            " \n",
            " \n",
            "  63 . An arrangement as set forth in  claim 51 , wherein said management media are adapted to express, by means of said memory-block specific status information, the following possible conditions:\n",
            " A: said first memory block is free for writing, \n",
            " B: payload data present in said first memory block is correct, \n",
            " C: said transaction is in a commitment process, \n",
            " D: payload data present in said first memory block is valid, and \n",
            " E: payload data present in said first memory block is dirty. \n",
            " \n",
            " \n",
            " \n",
            "  64 . An arrangement as set forth in  claim 63 , wherein said management media are adapted to implement any of the following status transitions: from status A to status B, from status B to status C, from status C to status D, and from status D to status E, by changing the value of just one bit in a bit vector representing said memory-block specific status information. \n",
            " \n",
            " \n",
            "  65 . An arrangement as set forth in  claim 57 , wherein said management media are adapted to:\n",
            " read the value of a cyclic age indicator in said first memory block, \n",
            " read the value of a cyclic age indicator in said second memory block, \n",
            " set up the status information of said second memory block to express that the payload data present in said second memory block is dirty, in response to the condition in which the cyclic age indicator of said first memory block has a value which in the sequence of said preset rule is subsequent to the value of the cyclic age indicator in said second memory block, and \n",
            " set up the status information of said first memory block to express that the payload data present in said first memory block is dirty, in response to the condition in which the cyclic age indicator of said second memory block has a value which in the sequence of said preset rule is subsequent to the value of the cyclic age indicator in said first memory block. \n",
            " \n",
            " \n",
            " \n",
            "  66 . An arrangement as set forth in  claim 51 , wherein the arrangement includes a buffer memory medium adapted to store the information relevant to said transaction, and said management media are adapted to read said buffer memory medium for the information to be written onto said flash type memory device in said transaction. \n",
            " \n",
            " \n",
            "  67 . An arrangement as set forth in  claim 51 , wherein said management media are adapted to use the memory blocks of said flash type memory device as a recording memory for transient information in the processing of said transaction. \n",
            " \n",
            " \n",
            "  68 . A computer readable medium encoded with a computer program for processing a transaction regarding information to be stored in a flash type memory device, wherein the computer program comprises:\n",
            " program elements for instructing a processing unit to execute a payload-data writing operation relevant to said transaction into a memory block of said flash type memory device, \n",
            " program elements for instructing the processing unit to set up memory-block specific status information of said memory block to express that said transaction is in a commitment process, \n",
            " program elements for instructing the processing unit to read the memory-block specific status information of said memory block and to determine whether said memory-block specific status information has been set up to express that said transaction is in a commitment process, and \n",
            " program elements for instructing the processing unit to process the payload data written in said memory block into valid payload data in response to the condition in which said memory-block specific status information has been set up to express that said transaction is in a commitment process. \n",
            " \n",
            " \n",
            "\n"
          ],
          "name": "stdout"
        },
        {
          "output_type": "display_data",
          "data": {
            "application/javascript": [
              "window[\"f3be80b8-3b57-11e9-b308-0242ac1c0002\"] = google.colab.output.setActiveOutputArea(window[\"f3bccda4-3b57-11e9-b308-0242ac1c0002\"]);\n",
              "//# sourceURL=js_bb811159d9"
            ],
            "text/plain": [
              "<IPython.core.display.Javascript object>"
            ]
          },
          "metadata": {
            "tags": [
              "id1_content_7",
              "outputarea_id1"
            ]
          }
        },
        {
          "output_type": "display_data",
          "data": {
            "application/javascript": [
              "window[\"f3c07288-3b57-11e9-b308-0242ac1c0002\"] = google.colab.output.getActiveOutputArea();\n",
              "//# sourceURL=js_006e53e342"
            ],
            "text/plain": [
              "<IPython.core.display.Javascript object>"
            ]
          },
          "metadata": {
            "tags": [
              "id1_content_8",
              "outputarea_id1"
            ]
          }
        },
        {
          "output_type": "display_data",
          "data": {
            "application/javascript": [
              "window[\"f3c0b9aa-3b57-11e9-b308-0242ac1c0002\"] = document.querySelector(\"#id1_content_8\");\n",
              "//# sourceURL=js_c9ce11d73f"
            ],
            "text/plain": [
              "<IPython.core.display.Javascript object>"
            ]
          },
          "metadata": {
            "tags": [
              "id1_content_8",
              "outputarea_id1"
            ]
          }
        },
        {
          "output_type": "display_data",
          "data": {
            "application/javascript": [
              "window[\"f3c0fa0a-3b57-11e9-b308-0242ac1c0002\"] = google.colab.output.setActiveOutputArea(window[\"f3c0b9aa-3b57-11e9-b308-0242ac1c0002\"]);\n",
              "//# sourceURL=js_6fb88de151"
            ],
            "text/plain": [
              "<IPython.core.display.Javascript object>"
            ]
          },
          "metadata": {
            "tags": [
              "id1_content_8",
              "outputarea_id1"
            ]
          }
        },
        {
          "output_type": "display_data",
          "data": {
            "application/javascript": [
              "window[\"f3c13cd6-3b57-11e9-b308-0242ac1c0002\"] = window[\"id1\"].setSelectedTabIndex(8);\n",
              "//# sourceURL=js_d28c145970"
            ],
            "text/plain": [
              "<IPython.core.display.Javascript object>"
            ]
          },
          "metadata": {
            "tags": [
              "id1_content_8",
              "outputarea_id1"
            ]
          }
        },
        {
          "output_type": "stream",
          "text": [
            "\n",
            " \n",
            "  1 . A method for improving power production of a wind turbine comprising:\n",
            " dividing a rotor plane into a plurality of sections; \n",
            " for each section, determining a characteristic of wind associated with the section; \n",
            " for each section, determining an optimal pitch angle based on the determined characteristic of wind of the section; and \n",
            " adjusting a pitch angle of a blade of the wind turbine to the optimal pitch angle of each section as the blade sweeps through the section. \n",
            " \n",
            " \n",
            " \n",
            "  2 . The method of  claim 1 , wherein the characteristic of wind that is determined is wind speed. \n",
            " \n",
            " \n",
            "  3 . The method of  claim 1 , wherein the optimal pitch angle comprises a combination of a collective pitch angle for the wind turbine and an offset value associated with the section. \n",
            " \n",
            " \n",
            "  4 . The method of  claim 1 , wherein determining the characteristic of the wind comprises receiving a measurement from a Light Detection and Ranging device. \n",
            " \n",
            " \n",
            "  5 . The method of  claim 1 , wherein determining the characteristic of the wind comprises receiving a measurement from a blade load sensor. \n",
            " \n",
            " \n",
            "  6 . A pitch controller of a wind turbine, wherein the pitch controller is configured to:\n",
            " divide a rotor plane into a plurality of sections; \n",
            " for each section, determine a characteristic of wind associated with the section; \n",
            " for each section, determine an optimal pitch angle based on the determined characteristic of wind of the section; and \n",
            " adjust a pitch angle of a blade of the wind turbine to the optimal pitch angle of each section as the blade sweeps through the section. \n",
            " \n",
            " \n",
            " \n",
            "  7 . The pitch controller of  claim 6 , wherein the characteristic of wind that is determined is wind speed. \n",
            " \n",
            " \n",
            "  8 . The pitch controller of  claim 6 , wherein the optimal pitch angle comprises a combination of a collective pitch angle for the wind turbine and an offset value associated with the section. \n",
            " \n",
            " \n",
            "  9 . The pitch controller of  claim 6 , wherein determining the characteristic of the wind comprises receiving a measurement from a Light Detection and Ranging device. \n",
            " \n",
            " \n",
            "  10 . The pitch controller of  claim 6 , wherein determining the characteristic of the wind comprises receiving a measurement from a blade load sensor. \n",
            " \n",
            " \n",
            "  11 . A wind turbine comprising:\n",
            " a rotor, wherein the rotor plane is divided into a plurality of predefined sections; \n",
            " an azimuth angle sensor configured to determine a position of each blade in the rotor plane; and \n",
            " a pitch controller configured to:\n",
            " for each section, determine a characteristic of wind associated with the section; \n",
            " for each section, determine an optimal pitch angle based on the determined characteristic of wind of the section; and \n",
            " adjust a pitch angle of a blade of the wind turbine to the optimal pitch angle of each section as the blade sweeps through the section. \n",
            " \n",
            " \n",
            " \n",
            " \n",
            "  12 . The wind turbine of  claim 11 , wherein the characteristic of wind that is determined is wind speed. \n",
            " \n",
            " \n",
            "  13 . The wind turbine of  claim 11 , wherein the optimal pitch angle comprises a combination of a collective pitch angle for the wind turbine and an offset value associated with the section. \n",
            " \n",
            " \n",
            "  14 . The wind turbine of  claim 11 , wherein the pitch controller is configured to determine the characteristic of the wind by one of:\n",
            " receiving a measurement from a Light Detection and Ranging device; and \n",
            " receiving a measurement from a blade load sensor. \n",
            " \n",
            " \n",
            " \n",
            "  15 . The wind turbine of  claim 11 , wherein the pitch controller is configured to:\n",
            " determine whether a blade of the wind turbine has entered a transition zone associated with a first section and a second section; and \n",
            " smoothly adjust the blade pitch angle from a first optimal blade pitch angle associated with the first section to a second optimal pitch angle associated with the second section as the blade sweeps through the transition zone.  \n",
            " \n",
            " \n",
            "\n"
          ],
          "name": "stdout"
        },
        {
          "output_type": "display_data",
          "data": {
            "application/javascript": [
              "window[\"f3c22470-3b57-11e9-b308-0242ac1c0002\"] = google.colab.output.setActiveOutputArea(window[\"f3c07288-3b57-11e9-b308-0242ac1c0002\"]);\n",
              "//# sourceURL=js_51f2d66d4e"
            ],
            "text/plain": [
              "<IPython.core.display.Javascript object>"
            ]
          },
          "metadata": {
            "tags": [
              "id1_content_8",
              "outputarea_id1"
            ]
          }
        },
        {
          "output_type": "display_data",
          "data": {
            "application/javascript": [
              "window[\"f3c39cb0-3b57-11e9-b308-0242ac1c0002\"] = google.colab.output.getActiveOutputArea();\n",
              "//# sourceURL=js_647bf4d392"
            ],
            "text/plain": [
              "<IPython.core.display.Javascript object>"
            ]
          },
          "metadata": {
            "tags": [
              "id1_content_9",
              "outputarea_id1"
            ]
          }
        },
        {
          "output_type": "display_data",
          "data": {
            "application/javascript": [
              "window[\"f3c3dc66-3b57-11e9-b308-0242ac1c0002\"] = document.querySelector(\"#id1_content_9\");\n",
              "//# sourceURL=js_5e9ab9a6bb"
            ],
            "text/plain": [
              "<IPython.core.display.Javascript object>"
            ]
          },
          "metadata": {
            "tags": [
              "id1_content_9",
              "outputarea_id1"
            ]
          }
        },
        {
          "output_type": "display_data",
          "data": {
            "application/javascript": [
              "window[\"f3c42108-3b57-11e9-b308-0242ac1c0002\"] = google.colab.output.setActiveOutputArea(window[\"f3c3dc66-3b57-11e9-b308-0242ac1c0002\"]);\n",
              "//# sourceURL=js_e8978ee5d4"
            ],
            "text/plain": [
              "<IPython.core.display.Javascript object>"
            ]
          },
          "metadata": {
            "tags": [
              "id1_content_9",
              "outputarea_id1"
            ]
          }
        },
        {
          "output_type": "display_data",
          "data": {
            "application/javascript": [
              "window[\"f3c46096-3b57-11e9-b308-0242ac1c0002\"] = window[\"id1\"].setSelectedTabIndex(9);\n",
              "//# sourceURL=js_aad7b39897"
            ],
            "text/plain": [
              "<IPython.core.display.Javascript object>"
            ]
          },
          "metadata": {
            "tags": [
              "id1_content_9",
              "outputarea_id1"
            ]
          }
        },
        {
          "output_type": "stream",
          "text": [
            "\n",
            " \n",
            "  1 . A method of storing a file on one or more servers or storage-locations in a secure manner, said method comprises the steps of:\n",
            " stripping the file to be stored into predetermined number of pieces, called strips, and \n",
            " distributing the strips thus obtained on one or more servers or storage-locations. \n",
            " \n",
            " \n",
            " \n",
            "  2 . The method as claimed in  claim 1 , wherein the strips thus obtained are indexed prior to distribution and wherein information relating to the strips thus being stored is stored in an index during the step of indexing. \n",
            " \n",
            " \n",
            "  3 . The method as claimed in  claim 2 , wherein information about the strip's identity, storage location of the strip is stored in the index to ensure uniform loading. \n",
            " \n",
            " \n",
            "  4 . The method as claimed in  claim 2 , wherein file identifier information, strip identifier information, servers or storage-locations identifier information, shredding information, relative path of the strip in the server or the storage-location and any other relevant data which may be useful in retrieving the strips is stored in the index. \n",
            " \n",
            " \n",
            "  5 . The method as claimed in  claim 2 , wherein the index is in the form of a main index and a sub-index. \n",
            " \n",
            " \n",
            "  6 . The method as claimed in  claim 1 , wherein the strips thus obtained are distributed randomly and particularly absolutely randomly on the one or more servers or storage locations so as to ensure uniform loading or filling of the one or more servers or storage-locations. \n",
            " \n",
            " \n",
            "  7 . The method as claimed in  claim 1 , wherein at least two copies of at least one strip thus obtained in stored in one or more servers or storage-locations. \n",
            " \n",
            " \n",
            "  8 . A method of retrieving a file stored on one or more servers or storage locations on demand by a user, said method comprises the steps of:\n",
            " retrieving strips that constitute the file from the one or more servers or storage locations where they are stored; and \n",
            " dressing or assembling the strips thus retrieved to form the file. \n",
            " \n",
            " \n",
            " \n",
            "  9 . The method as claimed in  claim 8 , wherein the method further comprises the step of querying an index for information relating location at which the strip is stored. \n",
            " \n",
            " \n",
            "  10 . The method as claimed in  claim 8 , wherein if a strip stored at a particular server or storage location is non-retrievable, the method further comprises the step of further querying the index for information relating location(s) at which additional copy of the strip, if any, is stored. \n",
            " \n",
            " \n",
            "  11 . The method as claimed in  claim 8 , wherein if a strip stored at a particular server or storage location is non-retrievable, the method further comprises the step of further querying the index for information relating locations at which additional copies of the strip, if any, are stored. \n",
            " \n",
            " \n",
            "  12 . The method as claimed in  claim 10 , wherein if the index is further queried, the method of retrieving the file comprises retrieving copy of the strip from the one or more servers or storage locations where they are stored and dressing or assembling the strips thus retrieved to form the file. \n",
            " \n",
            " \n",
            "  13 . The method as claimed in  claim 8 , wherein the method comprises the step of returning back the file thus dressed or assembled to the user. \n",
            " \n",
            " \n",
            "  14 . A system for storing a file on one or more servers or storage-locations in a secure manner, the system comprising: a receiver for receiving the file to be stored from a user, a stripper means operationally coupled to the receiver for receiving the file to be stored and stripping the same into a predetermined number of pieces, called strips, and a distributing means operationally coupled between one or more servers or storage-locations and the stripper means for distributing the strips thus obtained on the one or more servers or storage-locations. \n",
            " \n",
            " \n",
            "  15 . The system as claimed in  claim 14 , wherein the strips thus obtained are indexed by an indexing means and provided to the distribution means and wherein the indexing means is configured to store information relating to the strips thus being stored in the index. \n",
            " \n",
            " \n",
            "  16 . The system as claimed in  claim 14 , wherein the system is further provided with a replication factor generator for generation a replication factor so as to enable storing at least two copies of at least one strip in one or more servers or storage-locations. \n",
            " \n",
            " \n",
            "  17 . A system for retrieving a file stored on one or more servers or storage locations on demand by a user, the system comprising: a receiver means for receiving the demand from the user, a retrieving means operationally coupled to the one or more servers or storage locations where strips are stored for retrieving the strips, a dresser means or assembling means operationally coupled between the retrieving means and a transmitter for dressing or assembling the strips so as to form or constitute the original file and the transmitter transmitting the original file to the user. \n",
            " \n",
            " \n",
            "  18 . The system as claimed in  claim 17 , wherein the retrieving means and/or the dresser means is coupled to the indexing means for retrieving the strips from the respective one or more servers or storage locations where they are stored and dressing or assembling the strips so as to form or constitute the original file. \n",
            " \n",
            "\n"
          ],
          "name": "stdout"
        },
        {
          "output_type": "display_data",
          "data": {
            "application/javascript": [
              "window[\"f3c5416e-3b57-11e9-b308-0242ac1c0002\"] = google.colab.output.setActiveOutputArea(window[\"f3c39cb0-3b57-11e9-b308-0242ac1c0002\"]);\n",
              "//# sourceURL=js_ba512dd696"
            ],
            "text/plain": [
              "<IPython.core.display.Javascript object>"
            ]
          },
          "metadata": {
            "tags": [
              "id1_content_9",
              "outputarea_id1"
            ]
          }
        }
      ]
    },
    {
      "metadata": {
        "id": "V8OTh9iljZOy",
        "colab_type": "code",
        "outputId": "74817653-5ae5-4766-c69d-a83bbd683ec0",
        "colab": {
          "base_uri": "https://localhost:8080/",
          "height": 126
        }
      },
      "cell_type": "code",
      "source": [
        "#@title 検索する出願のインデックス（上記タブの0から9番目のどれか）を選ぶ { run: \"auto\", vertical-output: true }\n",
        "\n",
        "target_claim_index = \"6\" #@param [0, 1, 2, 3, 4, 5, 6, 7, 8, 9]\n",
        "\n",
        "# Selected result becomes string...\n",
        "target_claim_idx = int(target_claim_index)\n",
        "print(\"target app: {}\".format(app_ids[target_claim_idx]))\n",
        "target_claim = whole_xml_to_claim(sampled_apps[\"xml\"].values[target_claim_idx])\n",
        "print(\"claim: {}...\".format(target_claim[0:100]))"
      ],
      "execution_count": 70,
      "outputs": [
        {
          "output_type": "stream",
          "text": [
            "target app: (6) 13530677\n",
            "claim: \n",
            " \n",
            "  1 . A rainwater catching and plant watering device, comprising:\n",
            " a collecting member forming a ...\n"
          ],
          "name": "stdout"
        }
      ]
    },
    {
      "metadata": {
        "id": "QMBu0etUS7uj",
        "colab_type": "code",
        "colab": {}
      },
      "cell_type": "code",
      "source": [
        ""
      ],
      "execution_count": 0,
      "outputs": []
    },
    {
      "metadata": {
        "id": "Jg-NxBHMkTLh",
        "colab_type": "code",
        "outputId": "c461b8c1-7c9b-465c-ab0a-31de850812ff",
        "colab": {
          "resources": {
            "http://localhost:8080/nbextensions/google.colab/tabbar.css": {
              "data": "Lmdvb2ctdGFie3Bvc2l0aW9uOnJlbGF0aXZlO3BhZGRpbmc6NHB4IDhweDtjb2xvcjojMDBjO3RleHQtZGVjb3JhdGlvbjp1bmRlcmxpbmU7Y3Vyc29yOmRlZmF1bHR9Lmdvb2ctdGFiLWJhci10b3AgLmdvb2ctdGFie21hcmdpbjoxcHggNHB4IDAgMDtib3JkZXItYm90dG9tOjA7ZmxvYXQ6bGVmdH0uZ29vZy10YWItYmFyLXRvcDphZnRlciwuZ29vZy10YWItYmFyLWJvdHRvbTphZnRlcntjb250ZW50OiIgIjtkaXNwbGF5OmJsb2NrO2hlaWdodDowO2NsZWFyOmJvdGg7dmlzaWJpbGl0eTpoaWRkZW59Lmdvb2ctdGFiLWJhci1ib3R0b20gLmdvb2ctdGFie21hcmdpbjowIDRweCAxcHggMDtib3JkZXItdG9wOjA7ZmxvYXQ6bGVmdH0uZ29vZy10YWItYmFyLXN0YXJ0IC5nb29nLXRhYnttYXJnaW46MCAwIDRweCAxcHg7Ym9yZGVyLXJpZ2h0OjB9Lmdvb2ctdGFiLWJhci1lbmQgLmdvb2ctdGFie21hcmdpbjowIDFweCA0cHggMDtib3JkZXItbGVmdDowfS5nb29nLXRhYi1ob3ZlcntiYWNrZ3JvdW5kOiNlZWV9Lmdvb2ctdGFiLWRpc2FibGVke2NvbG9yOiM2NjZ9Lmdvb2ctdGFiLXNlbGVjdGVke2NvbG9yOiMwMDA7YmFja2dyb3VuZDojZmZmO3RleHQtZGVjb3JhdGlvbjpub25lO2ZvbnQtd2VpZ2h0OmJvbGQ7Ym9yZGVyOjFweCBzb2xpZCAjNmI5MGRhfS5nb29nLXRhYi1iYXItdG9we3BhZGRpbmctdG9wOjVweCFpbXBvcnRhbnQ7cGFkZGluZy1sZWZ0OjVweCFpbXBvcnRhbnQ7Ym9yZGVyLWJvdHRvbToxcHggc29saWQgIzZiOTBkYSFpbXBvcnRhbnR9Lmdvb2ctdGFiLWJhci10b3AgLmdvb2ctdGFiLXNlbGVjdGVke3RvcDoxcHg7bWFyZ2luLXRvcDowO3BhZGRpbmctYm90dG9tOjVweH0uZ29vZy10YWItYmFyLWJvdHRvbSAuZ29vZy10YWItc2VsZWN0ZWR7dG9wOi0xcHg7bWFyZ2luLWJvdHRvbTowO3BhZGRpbmctdG9wOjVweH0uZ29vZy10YWItYmFyLXN0YXJ0IC5nb29nLXRhYi1zZWxlY3RlZHtsZWZ0OjFweDttYXJnaW4tbGVmdDowO3BhZGRpbmctcmlnaHQ6OXB4fS5nb29nLXRhYi1iYXItZW5kIC5nb29nLXRhYi1zZWxlY3RlZHtsZWZ0Oi0xcHg7bWFyZ2luLXJpZ2h0OjA7cGFkZGluZy1sZWZ0OjlweH0uZ29vZy10YWItYmFye21hcmdpbjowO2JvcmRlcjowO3BhZGRpbmc6MDtsaXN0LXN0eWxlOm5vbmU7Y3Vyc29yOmRlZmF1bHQ7b3V0bGluZTpub25lO2JhY2tncm91bmQ6I2ViZWZmOX0uZ29vZy10YWItYmFyLWNsZWFye2NsZWFyOmJvdGg7aGVpZ2h0OjA7b3ZlcmZsb3c6aGlkZGVufS5nb29nLXRhYi1iYXItc3RhcnR7ZmxvYXQ6bGVmdH0uZ29vZy10YWItYmFyLWVuZHtmbG9hdDpyaWdodH0qIGh0bWwgLmdvb2ctdGFiLWJhci1zdGFydHttYXJnaW4tcmlnaHQ6LTNweH0qIGh0bWwgLmdvb2ctdGFiLWJhci1lbmR7bWFyZ2luLWxlZnQ6LTNweH0=",
              "ok": true,
              "headers": [
                [
                  "content-length",
                  "1394"
                ],
                [
                  "content-type",
                  "text/css"
                ]
              ],
              "status": 200,
              "status_text": ""
            },
            "http://localhost:8080/nbextensions/google.colab/tabbar_main.min.js": {
              "data": "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",
              "ok": true,
              "headers": [
                [
                  "content-type",
                  "application/javascript"
                ]
              ],
              "status": 200,
              "status_text": ""
            }
          },
          "base_uri": "https://localhost:8080/",
          "height": 1283
        }
      },
      "cell_type": "code",
      "source": [
        "target_claim_ids = tuple(claim_to_ids(target_claim))\n",
        "pairs = [(target_claim_ids, grants_claim) for grants_claim in grants_ids_tup]\n",
        "fdicts = feature_tuplist_to_feature_dict([fast_convert_single_pair(tup[0], tup[1]) for tup in pairs])\n",
        "\n",
        "# The below line takes about 40 seconds\n",
        "results = predict_fdicts(fdicts)\n",
        "\n",
        "results_df = results_to_result_df(results)\n",
        "show_candidates(results_df, app_ids[target_claim_idx])"
      ],
      "execution_count": 74,
      "outputs": [
        {
          "output_type": "stream",
          "text": [
            "2019-02-28 12:57:26.165253\n",
            "2019-02-28 12:57:58.602091\n",
            "Show 10 most probable candidate for app((6) 13530677)\n"
          ],
          "name": "stdout"
        },
        {
          "output_type": "display_data",
          "data": {
            "text/html": [
              "<link rel=stylesheet type=text/css href='/nbextensions/google.colab/tabbar.css'></link>"
            ],
            "text/plain": [
              "<IPython.core.display.HTML object>"
            ]
          },
          "metadata": {
            "tags": [
              "outputarea_id3"
            ]
          }
        },
        {
          "output_type": "display_data",
          "data": {
            "text/html": [
              "<script src='/nbextensions/google.colab/tabbar_main.min.js'></script>"
            ],
            "text/plain": [
              "<IPython.core.display.HTML object>"
            ]
          },
          "metadata": {
            "tags": [
              "outputarea_id3"
            ]
          }
        },
        {
          "output_type": "display_data",
          "data": {
            "text/html": [
              "<div id=\"id3\"></div>"
            ],
            "text/plain": [
              "<IPython.core.display.HTML object>"
            ]
          },
          "metadata": {
            "tags": [
              "outputarea_id3"
            ]
          }
        },
        {
          "output_type": "display_data",
          "data": {
            "application/javascript": [
              "window[\"7916de2c-3b58-11e9-b308-0242ac1c0002\"] = colab_lib.createTabBar({\"location\": \"top\", \"elementId\": \"id3\", \"tabNames\": [\"7493728:0.999902\", \"7965929:0.999887\", \"8047234:0.999887\", \"8088016:0.999884\", \"8336789:0.999883\", \"7815800:0.999882\", \"8075769:0.999875\", \"6931827:0.999870\", \"6880484:0.999850\", \"6928941:0.999830\"], \"initialSelection\": 0, \"contentBorder\": [\"0px\"], \"contentHeight\": [\"initial\"], \"borderColor\": [\"#a7a7a7\"]});\n",
              "//# sourceURL=js_6ef3bcd30b"
            ],
            "text/plain": [
              "<IPython.core.display.Javascript object>"
            ]
          },
          "metadata": {
            "tags": [
              "outputarea_id3"
            ]
          }
        },
        {
          "output_type": "display_data",
          "data": {
            "application/javascript": [
              "window[\"79174510-3b58-11e9-b308-0242ac1c0002\"] = window[\"id3\"].setSelectedTabIndex(0);\n",
              "//# sourceURL=js_13effa4543"
            ],
            "text/plain": [
              "<IPython.core.display.Javascript object>"
            ]
          },
          "metadata": {
            "tags": [
              "outputarea_id3"
            ]
          }
        },
        {
          "output_type": "display_data",
          "data": {
            "application/javascript": [
              "window[\"7918a2a2-3b58-11e9-b308-0242ac1c0002\"] = google.colab.output.getActiveOutputArea();\n",
              "//# sourceURL=js_3c7f317cce"
            ],
            "text/plain": [
              "<IPython.core.display.Javascript object>"
            ]
          },
          "metadata": {
            "tags": [
              "id3_content_0",
              "outputarea_id3"
            ]
          }
        },
        {
          "output_type": "display_data",
          "data": {
            "application/javascript": [
              "window[\"7918f806-3b58-11e9-b308-0242ac1c0002\"] = document.querySelector(\"#id3_content_0\");\n",
              "//# sourceURL=js_4b8b3cc4cd"
            ],
            "text/plain": [
              "<IPython.core.display.Javascript object>"
            ]
          },
          "metadata": {
            "tags": [
              "id3_content_0",
              "outputarea_id3"
            ]
          }
        },
        {
          "output_type": "display_data",
          "data": {
            "application/javascript": [
              "window[\"7919535a-3b58-11e9-b308-0242ac1c0002\"] = google.colab.output.setActiveOutputArea(window[\"7918f806-3b58-11e9-b308-0242ac1c0002\"]);\n",
              "//# sourceURL=js_51b933efd6"
            ],
            "text/plain": [
              "<IPython.core.display.Javascript object>"
            ]
          },
          "metadata": {
            "tags": [
              "id3_content_0",
              "outputarea_id3"
            ]
          }
        },
        {
          "output_type": "display_data",
          "data": {
            "application/javascript": [
              "window[\"7919a74c-3b58-11e9-b308-0242ac1c0002\"] = window[\"id3\"].setSelectedTabIndex(0);\n",
              "//# sourceURL=js_61265ad281"
            ],
            "text/plain": [
              "<IPython.core.display.Javascript object>"
            ]
          },
          "metadata": {
            "tags": [
              "id3_content_0",
              "outputarea_id3"
            ]
          }
        },
        {
          "output_type": "stream",
          "text": [
            "\n",
            " \n",
            " 1. A descent gutter ( 20 ) intended to allow the canalization of rain water toward a reservoir to be used subsequently, said descent gutter comprising an outside shell; an upper part ( 26 ) thereof being installed at a gutter exit ( 23 ) and a descent exit ( 38 ) at a lower extremity thereof, said gutter descent comprising in addition an internal canalization constituted of a funnel ( 48 ) channelling said rain water at the top of said outside shell, an internal pipe ( 37 ) with two extremities within said descent gutter, a first extremity thereof set to collect said water from said funnel, an aperture ( 50 ) made in a straight pipe ( 49 ) connected to said funnel ( 48 ), a lower part ( 28 ) of said outside shell joining said upper part ( 26 ) and a valve ( 40 ) located on said lower part ( 28 ) to control the water flow outwardly of said internal pipe; said at least one aperture ( 50 ) positioned such as when it rains the water is conveyed from a roof by said gutter exit toward said descent gutter, sliding down said funnel through said straight pipe ( 49 ) then in said internal pipe ( 37 ), an exit therefrom evacuating water when said valve is open, wherein water is filling said internal pipe ( 37 ) when said valve is closed, until overflowing said aperture ( 50 ), to flow between said internal pipe ( 37 ) and said outside shell ( 28 ), then being evacuated from said descent gutter toward the bottom descent exit ( 38 ). \n",
            " \n",
            " \n",
            " 2. The descent gutter of  claim 1  wherein said internal pipe ( 37 ) is equipped with a faucet ( 30 ) playing the role of said valve, and wherein a hose ( 64 ) is installed on said faucet, said hose conveying the water from said faucet to a place of utilization,\n",
            " wherein said place of utilization is a reservoir intended to collect rainwater, and wherein said reservoir fills up due to the water pressure generated by the filling of said hose of a lower portion of said internal pipe by the water column constituted by the filling of said straight pipe, \n",
            " the gutter descent comprising in addition a bleed cap ( 32 ) located at the bottom of the lower portion ( 62 ) of said internal canalization and which allows the draining from said internal canalization of debris such as sand, leaves or branches. \n",
            " \n",
            " \n",
            " \n",
            " 3. The gutter descent of  claim 1  wherein said upper part and said lower part are connected by a joint,\n",
            " said joint being constituted of two parts: an interior joint joining the upper part of the internal pipe ( 37 ) to the lower part of said straight pipe ( 49 ), and an exterior joint joining the upper part ( 26 ) of the shell to the lower part ( 28 ) of the shell, \n",
            " said interior joint comprising a male end pipe ( 44 ) component of a smaller diameter than said lower female end pipe ( 46 ) so as to create a male-female junction, said male end pipe component inserting in said lower female end pipe, \n",
            " said external joint comprising a closed connector at the bottom of said outside shell of the upper part, so as to be inserted at the top of the outside shell of said lower part. \n",
            " \n",
            " \n",
            " \n",
            " 4. The gutter descent of  claim 3  wherein said internal pipe exceeds the extremity of said closed connector, and wherein the upper extremity of said lower part of the internal pipe coinciding with the upper extremity of said lower shell, to allow the adjusting of the length of the lower part to be done with a cut line cutting simultaneously shell and pipe, and wherein the installation consists of aligning the exceeding extremity of said upper straight pipe with the lower pipe, to then insert said closed connector in the lower shell. \n",
            " \n",
            " \n",
            " 5. A gutter descent comprising an outer shell, an upper extremity and a lower extremity thereof, said gutter descent comprising an internal canalization within said outer shell, said internal canalization comprising a funnel ( 48 ) at its upper extremity and an exit at its lower extremity, an annular space between said internal canalization and said outer shell forming an external canalization, said internal canalization serving to convey rainwater coming from a gutter toward said exit, said external canalization serving for the evacuation of surplus water coming from said internal canalization, passing through at least one evacuation aperture ( 50 ) and discharging into said external canalization,\n",
            " said internal canalization being installed inside said rainwater gutter descent, said funnel, followed by an elongated canalization located below said funnel toward the bottom, and connection means ( 72 ) for adapting to a delivery pipe positioned at a lower end thereof, thereby providing hydrostatic pressure for utilization or accumulation of rain water into a reserve, said elongated canalization of said internal canalization comprising overflow apertures ( 50 ) to discard water when a hydrostatic column fills itself to the top of the internal canalization faster than it drains. \n",
            " \n",
            " \n",
            " \n",
            " 6. The gutter descent of  claim 5  wherein said exit comprises a faucet located outside said shell, but connected to said internal canalization by means of a pipe going through said shell,\n",
            " wherein said outer shell is made of sheet metal, and wherein said internal canalization is of plastic pipe, \n",
            " said funnel being molded to proper shape to fit said outer shell. \n",
            " \n",
            " \n",
            " \n",
            " 7. The gutter descent of  claim 5  comprising in addition a continuation to said internal canalization comprising two extremities and one first extremity thereof connected to the bottom of said internal canalisation, a second extremity thereof serving as a tertiary evacuation canalization,\n",
            " said tertiary canalization comprising a pipe connected at the bottom of said internal canalization, going through said shell and closed by bleed cap ( 32 ) means removable to facilitate the cleaning of said internal canalization. \n",
            " \n",
            " \n",
            " \n",
            " 8. The tertiary canalization of  claim 7  comprising a pipe connected to said internal canalization comprising an extremity which is oriented toward the bottom, said pipe comprising a valve permitting the purge of said internal canalization, said valve being activated by a handle, said handle being located outside said gutter descent. \n",
            " \n",
            " \n",
            " 9. The gutter descent of  claim 5  comprising an upper section comprising said funnel ( 48 ), and a lower section comprising said exit, said upper and lower sections being connected by two joints: an external shell joint, and an internal canalization joint, any intermediary section likewise;\n",
            " said joints between said upper section and said lower section of said gutter descent comprising said external shell and said internal canalization; said external joint being constituted of a slightly closed tip at the bottom of said external shell of said upper section, to be inserted at the top of said external shell, defining a female end gutter ( 43 ) of said lower section, said internal joint being constituted of a male internal component ( 44 ) of said upper section exceeding a closed male end gutter tip ( 42 ) and of a size permitting the insertion at the top of an internal canalization female end pipe ( 46 ), said top of said internal canalization female end pine ( 46 ) coinciding with said top of said external shell, so that when installing, said closed male end gutter tip ( 42 ) is first inserted in said internal canalization of said lower section followed by the insertion of said closed male end gutter tip ( 42 ) at said female end gutter ( 43 ) of said external shell. \n",
            " \n",
            " \n",
            " \n",
            " 10. A device mounted on a horizontal gutter ( 21 ) to collect rain water and store rainwater into a reserve, said device comprising the descent gutter of  claim 1 . \n",
            " \n",
            " \n",
            " 11. The device of  claim 10  in which said horizontal gutter ( 21 ) is installed on the side of a house roof ( 22 ) and comprises a descent exit ( 23 ) provided with a male reduced end ( 24 ) and said upper part ( 26 ) secured to the male reduced end of the descent exit ( 23 ) by a waterproof attachment. \n",
            " \n",
            " \n",
            " 12. The device of  claim 11  in which said waterproof attachment comprises said upper part ( 26 ) provided with a female top ( 27 ) attached to said male reduced end and assembled until contact between said male reduced end and said funnel, said upper part ( 26 ) comprising an attachment circumferential to said funnel. \n",
            " \n",
            " \n",
            " 13. The device of  claim 12  in which said upper part ( 26 ) comprises a male end gutter ( 42 ) and said lower part ( 28 ) is attached to said upper part ( 26 ) by said male end gutter,\n",
            " an attachment of a male end pipe ( 44 ) between said internal pipe ( 37 ) and said straight pipe ( 49 ) sealing said water column inside said pipes ( 37 ,  44 ), and the attachment of said male end gutter ( 42 ) and the lower part ( 28 ) defining an annular gutter channel. \n",
            " \n",
            " \n",
            " \n",
            " 14. The device of  claim 10  in which said evacuation aperture is made at an angle, defining an upper bevel ( 54 ) and a lower bevel ( 52 ). \n",
            " \n",
            "\n"
          ],
          "name": "stdout"
        },
        {
          "output_type": "display_data",
          "data": {
            "application/javascript": [
              "window[\"791ade46-3b58-11e9-b308-0242ac1c0002\"] = google.colab.output.setActiveOutputArea(window[\"7918a2a2-3b58-11e9-b308-0242ac1c0002\"]);\n",
              "//# sourceURL=js_c28e4773ba"
            ],
            "text/plain": [
              "<IPython.core.display.Javascript object>"
            ]
          },
          "metadata": {
            "tags": [
              "id3_content_0",
              "outputarea_id3"
            ]
          }
        },
        {
          "output_type": "display_data",
          "data": {
            "application/javascript": [
              "window[\"791c6126-3b58-11e9-b308-0242ac1c0002\"] = google.colab.output.getActiveOutputArea();\n",
              "//# sourceURL=js_060ca37a57"
            ],
            "text/plain": [
              "<IPython.core.display.Javascript object>"
            ]
          },
          "metadata": {
            "tags": [
              "id3_content_1",
              "outputarea_id3"
            ]
          }
        },
        {
          "output_type": "display_data",
          "data": {
            "application/javascript": [
              "window[\"791cb32e-3b58-11e9-b308-0242ac1c0002\"] = document.querySelector(\"#id3_content_1\");\n",
              "//# sourceURL=js_4450df5a63"
            ],
            "text/plain": [
              "<IPython.core.display.Javascript object>"
            ]
          },
          "metadata": {
            "tags": [
              "id3_content_1",
              "outputarea_id3"
            ]
          }
        },
        {
          "output_type": "display_data",
          "data": {
            "application/javascript": [
              "window[\"791d1c60-3b58-11e9-b308-0242ac1c0002\"] = google.colab.output.setActiveOutputArea(window[\"791cb32e-3b58-11e9-b308-0242ac1c0002\"]);\n",
              "//# sourceURL=js_1febece801"
            ],
            "text/plain": [
              "<IPython.core.display.Javascript object>"
            ]
          },
          "metadata": {
            "tags": [
              "id3_content_1",
              "outputarea_id3"
            ]
          }
        },
        {
          "output_type": "display_data",
          "data": {
            "application/javascript": [
              "window[\"791d6274-3b58-11e9-b308-0242ac1c0002\"] = window[\"id3\"].setSelectedTabIndex(1);\n",
              "//# sourceURL=js_33331bd638"
            ],
            "text/plain": [
              "<IPython.core.display.Javascript object>"
            ]
          },
          "metadata": {
            "tags": [
              "id3_content_1",
              "outputarea_id3"
            ]
          }
        },
        {
          "output_type": "stream",
          "text": [
            "\n",
            " \n",
            " 1. A heat recovery device, comprising: at least one thermally insulated tank provided with an inlet for recovering warm water from domestic or industrial drains and with an outlet for draining toward a sewer; a first diverter valve for controlling said inlet; a thermostat for controlling said first diverter valve; said inlet being connected to the sewer; a second quick-opening and quick-closing valve for controlling said outlet; a tube or set of tubes provided inside said tank for containing water arriving from water mains or well for being sent to water heating devices; sediment removal means arranged at said tank for removing sediment therefrom; and an overflow outlet provided connected to said tank, wherein said tank is provided with a first intake pipe, for recovering a flow of warm water that arrives from drains of industrial or domestic appliances, said first intake pipe being arranged proximate to an upper end of said tank, said diverter valve being provided at said first pipe, in a region which is adjacent and upstream of the inlet in said tank, and being suitable to allow either passage of water flow that arrives from drains of domestic devices into said tank or forced and non-forced water passage to a second drain pipe for sewer draining, a thermostatic sensor being arranged upstream of said first diverter valve for controlling activation of said first diverter valve and which is suitable to check temperature of water flow that arrives from drains of domestic or industrial appliances in order to cheek whether the checked temperature is at a higher or lower value than a temperature of water contained in said tank; and a thermometer arranged at a trap located at an upper end of said tank for measuring the temperature of the water contained in said tank. \n",
            " \n",
            " \n",
            " 2. The device of  claim 1 , wherein said at least one tank which is thermally insulated has a box-like shape, a lower end thereof having, in a transverse cross-section, a V-shaped configuration with a vertex constituted by a sleeve that is provided axially with a cylindrical seat. \n",
            " \n",
            " \n",
            " 3. The device of  claim 1 , wherein said tank comprises an upper and a lower chamber divided by a partition with a discharge hole formed therein, said diverter valve discharging, in a manner which allows throttling, into said tank by means of an auxillary pipe and into said second pipe, a flow of the water that arrives from drains of appliances, and wherein an end of said auxiliary pipe is arranged at said hole formed in said partition for discharge into said lower chamber. \n",
            " \n",
            " \n",
            " 4. The device of  claim 1 , wherein said tank comprises: an outlet drain which is arranged at said sleeve at one side of said tank and is connected to said second pipe which leads to the sewer; and a second quick-opening and quick-closing valve provided at said second pipe. \n",
            " \n",
            " \n",
            " 5. The device of  claim 4 , wherein said tank comprises, arranged on a side and proximate to said outlet drain, a third overflow pipe, which is shaped like an inverted letter U, with ends thereof respectively connected to an inside of said tank proximate to a lower end thereof and above said sleeve and to said second pipe which is connected to the sewer in a region downstream of said second valve, and wherein an inspection plug is provided at a curved region of said third pipe. \n",
            " \n",
            " \n",
            " 6. The device of  claim 5 , comprising any of a tube, tube set, tube bundle and coil provided inside the tank and which has an intake, said intake being connected to water mains or well and being arranged at a slightly higher level than a connection to said tank of said third pipe, and wherein an outlet is provided to said tank, which is connected to devices suitable to heat water that is present in said tube, tube set or coil. \n",
            " \n",
            " \n",
            " 7. The device of  claim 3 , comprising inside said tank, at said upper chamber, any of a tube, tube set, tube bundle and coil arranged in said tank and which has an intake connected to water mains or well and an outlet connected to appliances suitable to heat water. \n",
            " \n",
            " \n",
            " 8. The device of  claim 7 , comprising sediment removal means for removing any sediment which might form in said tank, said sediment removal means being arranged at a lower end of said tank, at said cylindrical seat formed in said sleeve in a region which lies below said tube, tube set, tube bundle or coil and a connection of said third pipe. \n",
            " \n",
            " \n",
            " 9. The device of  claim 8 , wherein said sediment removal means are constituted by a motorized worm screw which is arranged axially with respect to said cylindrical seat, one end of said worm screw being arranged above said outlet drain which is connected, through said second valve, to said second pipe toward the sewer. \n",
            " \n",
            " \n",
            " 10. The device of  claim 7 , comprising: sediment removal means for removing any sediment which might form in said tank, said sediment removal means being arranged at a lower end or vertex of said tank and being constituted by a submersed pump which is connected, by way of an exit pipe which exits from said hole provided in said partition and from said tank, said second pipe being connected, at a lower level than said diverter, to said second pipe which leads to the sewer; and a third overflow pipe arranged coaxially to said second pipe. \n",
            " \n",
            " \n",
            " 11. The device of  claim 9 , comprising a control element which is suitable to control said second valve for selective activation of said worm screw at a user's discretion or at preset times, said control element being selectable among a rocker and proximity switch arranged within said outlet drain upstream of said second valve. \n",
            " \n",
            " \n",
            " 12. The device of  claim 11 , wherein said rocker or proximity switch are suitable to detect presence of any impurities which deposit inside said tank and are conveyed by said worm screw at said outlet drain, said rocker or proximity switch activating said second valve, which opens and closes rapidly to generate accordingly a flow of water in a direction of the sewer so as to pour impurities into the sewer. \n",
            " \n",
            " \n",
            " 13. The device of  claim 1 , wherein said thermostatic sensor is suitable to detect the temperature of water flow that arrives from drains of domestic appliances and, if the temperature of the water of said flow is lower than or equal to the temperature of the water contained in said tank, provides clearance for actuation of said first diverter valve, which conveys said water flow through said second pipe directly to the sewer. \n",
            " \n",
            " \n",
            " 14. The device of  claim 1 , wherein said thermostatic sensor is suitable to detect the temperature of the water flow that arrives from drains of appliances and, if the temperature of the water of said flow is higher than the temperature of the water contained in said tank, provides clearance for actuation of said first diverter valve, which conveys said flow directly into said tank through said first pipe. \n",
            " \n",
            " \n",
            " 15. The device of  claim 14 , Wherein said flow transfers, inside said tank, heat to the water which passes at said tube, tube set or coil and arrives from water mains, which is thus heated by conduction to be then conveyed, after being preheated, into a boiler or water heater or into another appliance for heating sanitary water. \n",
            " \n",
            " \n",
            " 16. The device of  claim 15 , wherein said tank has a capacity which is at least three times the amount of mains water to be pre-heated, before sending the water to the appliance for heating sanitary water, and which flows inside said tube, tube set or coil. \n",
            " \n",
            " \n",
            " 17. The device of  claim 12 , wherein said worm screw is arranged within said complementarily shaped cylindrical seat so as to be removable through an appropriately provided slot formed laterally with respect to said tank, and so as to collect any impurities which might deposit with passage of water which arrives from appliance drains, the impurities or debris being conveyed, by way of screwing motion of said worm screw, at said outlet drain so as to activate, by virtue of impurity weight, said rocker or proximity switch, which in turn actuates said second valve with quick opening and closure to thus generate a flow of water directly toward the sewer. \n",
            " \n",
            " \n",
            " 18. The device of  claim 1 , applied to a centralized system of a multi-storied residential building or to each one of individual system of each apartment. \n",
            " \n",
            " \n",
            " 19. The device of  claim 10 , comprising a floater arranged in said upper chamber connected to said submersed pump and associated with a time-controlled switch. \n",
            " \n",
            " \n",
            " 20. A heat recovery device, comprising: at least one thermally insulated tank provided with an inlet for recovering warm water from domestic or industrial drains and with an outlet for draining toward a sewer; a first diverter valve for controlling said inlet; a thermostat for controlling said first diverter valve; said inlet being connected to the sewer; a second quick-opening and quick-closing valve for controlling said outlet; a tube or set of tubes provided inside said tank for containing water arriving from water mains or well for being sent to water heating devices; sediment removal means arranged at said tank for removing sediment therefrom; and an overflow outlet provided connected to said tank, wherein said at least one tank which is thermally insulated has a box-like shape, a lower end thereof having, in a transverse cross-section, a V-shaped configuration with a vertex constituted by a sleeve that is provided axially with a cylindrical seat.  \n",
            " \n",
            "\n"
          ],
          "name": "stdout"
        },
        {
          "output_type": "display_data",
          "data": {
            "application/javascript": [
              "window[\"791ebf16-3b58-11e9-b308-0242ac1c0002\"] = google.colab.output.setActiveOutputArea(window[\"791c6126-3b58-11e9-b308-0242ac1c0002\"]);\n",
              "//# sourceURL=js_89aa2058e8"
            ],
            "text/plain": [
              "<IPython.core.display.Javascript object>"
            ]
          },
          "metadata": {
            "tags": [
              "id3_content_1",
              "outputarea_id3"
            ]
          }
        },
        {
          "output_type": "display_data",
          "data": {
            "application/javascript": [
              "window[\"7920547a-3b58-11e9-b308-0242ac1c0002\"] = google.colab.output.getActiveOutputArea();\n",
              "//# sourceURL=js_78f981f811"
            ],
            "text/plain": [
              "<IPython.core.display.Javascript object>"
            ]
          },
          "metadata": {
            "tags": [
              "id3_content_2",
              "outputarea_id3"
            ]
          }
        },
        {
          "output_type": "display_data",
          "data": {
            "application/javascript": [
              "window[\"7920c676-3b58-11e9-b308-0242ac1c0002\"] = document.querySelector(\"#id3_content_2\");\n",
              "//# sourceURL=js_8dc6ab2f0d"
            ],
            "text/plain": [
              "<IPython.core.display.Javascript object>"
            ]
          },
          "metadata": {
            "tags": [
              "id3_content_2",
              "outputarea_id3"
            ]
          }
        },
        {
          "output_type": "display_data",
          "data": {
            "application/javascript": [
              "window[\"79210d5c-3b58-11e9-b308-0242ac1c0002\"] = google.colab.output.setActiveOutputArea(window[\"7920c676-3b58-11e9-b308-0242ac1c0002\"]);\n",
              "//# sourceURL=js_cc18f22401"
            ],
            "text/plain": [
              "<IPython.core.display.Javascript object>"
            ]
          },
          "metadata": {
            "tags": [
              "id3_content_2",
              "outputarea_id3"
            ]
          }
        },
        {
          "output_type": "display_data",
          "data": {
            "application/javascript": [
              "window[\"79215d20-3b58-11e9-b308-0242ac1c0002\"] = window[\"id3\"].setSelectedTabIndex(2);\n",
              "//# sourceURL=js_5910d266ed"
            ],
            "text/plain": [
              "<IPython.core.display.Javascript object>"
            ]
          },
          "metadata": {
            "tags": [
              "id3_content_2",
              "outputarea_id3"
            ]
          }
        },
        {
          "output_type": "stream",
          "text": [
            "\n",
            " \n",
            " 1. A valve apparatus comprising:\n",
            " a plurality of blocks having flow passages formed therein, wherein by connecting together side surfaces of each of the blocks so that the surfaces thereof mutually oppose one another, said flow passages of each of the blocks communicate with each other, and wherein a valve communicating with said flow passages is installed internally in at least one of said plurality of blocks; \n",
            " a seal member gripped between respective connecting parts of each of said blocks, said seal member comprising a first seal portion fitted into a groove formed along an exterior shape of each side surface of the blocks between which the seal member is gripped, and a second seal portion disposed on an outer side of said first seal portion and abutting with an edge portion defining said exterior shape; and \n",
            " a cover detachably disposed on one side surface of the block in which said valve is installed, for closing an opening through which said valve is inserted and extracted, \n",
            " wherein said seal member is held in a state of being flush with or protruding with respect to outer surfaces of the blocks that are positioned on both sides of said seal member, and \n",
            " wherein a part of said second seal portion that contacts said cover is formed in a tapered shape that narrows in width toward an outer surface side thereof. \n",
            " \n",
            " \n",
            " \n",
            " 2. The valve apparatus according to  claim 1 , wherein a tapered portion, which expands in width toward an outer surface side thereof, is formed in a side surface of said cover that contacts said seal member. \n",
            " \n",
            " \n",
            " 3. The valve apparatus according to  claim 1 , further comprising:\n",
            " a hole disposed in said cover; \n",
            " a hole disposed in said valve, which is aligned coaxially with respect to the hole of said cover; and \n",
            " a screw for fixing said valve to said block by threaded engagement with female threads provided in said block, after the screw has been inserted from an upper surface side of the hole of said cover, and inserted through each of the holes of said cover and said valve, \n",
            " wherein a screw portion is formed over a predetermined length from an end of said screw, and \n",
            " wherein female threads, into which the screw portion formed in said screw can be threaded, are formed in at least a portion of an inner circumferential surface of the hole disposed in said valve. \n",
            " \n",
            " \n",
            " \n",
            " 4. The valve apparatus according to  claim 3 , wherein a tapered portion, which expands in width toward an outer surface side thereof, is formed in a side surface of said cover that contacts said seal member. \n",
            " \n",
            " \n",
            " 5. A valve apparatus comprising:\n",
            " a plurality of blocks having flow passages formed therein, wherein by connecting together side surfaces of each of the blocks so that the surfaces thereof mutually oppose one another, said flow passages of each of the blocks communicate with each other, and wherein a valve communicating with said flow passages is installed internally in at least one of said plurality of blocks; \n",
            " a seal member gripped between respective connecting parts of each of said blocks; and \n",
            " a cover detachably disposed on one side surface of the block in which said valve is installed, for closing an opening through which said valve is inserted and extracted, \n",
            " wherein said seal member is held in a state of being flush with or protruding with respect to outer surfaces of the blocks that are positioned on both sides of said seal member, and \n",
            " wherein a tapered portion, which expands in width toward an outer surface side thereof, is formed in a side surface of said cover that contacts said seal member. \n",
            " \n",
            " \n",
            " \n",
            " 6. The valve apparatus according to  claim 5 , further comprising:\n",
            " a hole disposed in said cover; \n",
            " a hole disposed in said valve, which is aligned coaxially with respect to the hole of said cover; and \n",
            " a screw for fixing said valve to said block by threaded engagement with female threads provided in said block, after the screw has been inserted from an upper surface side of the hole of said cover, and inserted through each of the holes of said cover and said valve, \n",
            " wherein a screw portion is formed over a predetermined length from an end of said screw, and \n",
            " wherein female threads, into which the screw portion formed in said screw can be threaded, are formed in at least a portion of an inner circumferential surface of the hole disposed in said valve. \n",
            " \n",
            " \n",
            " \n",
            " 7. The valve apparatus according to  claim 6 , wherein a tapered portion, which expands in width toward an outer surface side thereof, is formed in a side surface of said cover that contacts said seal member. \n",
            " \n",
            " \n",
            " 8. A valve apparatus comprising:\n",
            " a plurality of blocks having flow passages formed therein, wherein by connecting together side surfaces of each of the blocks so that the surfaces thereof mutually oppose one another, said flow passages of each of the blocks communicate with each other, and wherein a valve communicating with said flow passages is installed internally in at least one of said plurality of blocks; \n",
            " a seal member gripped between respective connecting parts of each of said blocks; \n",
            " a cover detachably disposed on one side surface of the block in which said valve is installed, for closing an opening through which said valve is inserted and extracted; \n",
            " a hole disposed in said cover; \n",
            " a hole disposed in said valve, which is aligned coaxially with respect to the hole of said cover; and \n",
            " a screw for fixing said valve to said block by threaded engagement with female threads provided in said block, after the screw has been inserted from an upper surface side of the hole of said cover, and inserted through each of the holes of said cover and said valve, \n",
            " wherein said seal member is held in a state of being flush with or protruding with respect to outer surfaces of the blocks that are positioned on both sides of said seal member. \n",
            " \n",
            " \n",
            " \n",
            " 9. The valve apparatus according to  claim 8 , wherein a tapered portion, which expands in width toward an outer surface side thereof, is formed in a side surface of said cover that contacts said seal member.  \n",
            " \n",
            "\n"
          ],
          "name": "stdout"
        },
        {
          "output_type": "display_data",
          "data": {
            "application/javascript": [
              "window[\"792299b0-3b58-11e9-b308-0242ac1c0002\"] = google.colab.output.setActiveOutputArea(window[\"7920547a-3b58-11e9-b308-0242ac1c0002\"]);\n",
              "//# sourceURL=js_10ddf4c919"
            ],
            "text/plain": [
              "<IPython.core.display.Javascript object>"
            ]
          },
          "metadata": {
            "tags": [
              "id3_content_2",
              "outputarea_id3"
            ]
          }
        },
        {
          "output_type": "display_data",
          "data": {
            "application/javascript": [
              "window[\"792412ae-3b58-11e9-b308-0242ac1c0002\"] = google.colab.output.getActiveOutputArea();\n",
              "//# sourceURL=js_6acf6b6285"
            ],
            "text/plain": [
              "<IPython.core.display.Javascript object>"
            ]
          },
          "metadata": {
            "tags": [
              "id3_content_3",
              "outputarea_id3"
            ]
          }
        },
        {
          "output_type": "display_data",
          "data": {
            "application/javascript": [
              "window[\"7924a124-3b58-11e9-b308-0242ac1c0002\"] = document.querySelector(\"#id3_content_3\");\n",
              "//# sourceURL=js_6fb4a77265"
            ],
            "text/plain": [
              "<IPython.core.display.Javascript object>"
            ]
          },
          "metadata": {
            "tags": [
              "id3_content_3",
              "outputarea_id3"
            ]
          }
        },
        {
          "output_type": "display_data",
          "data": {
            "application/javascript": [
              "window[\"7924f7f0-3b58-11e9-b308-0242ac1c0002\"] = google.colab.output.setActiveOutputArea(window[\"7924a124-3b58-11e9-b308-0242ac1c0002\"]);\n",
              "//# sourceURL=js_5647fa277f"
            ],
            "text/plain": [
              "<IPython.core.display.Javascript object>"
            ]
          },
          "metadata": {
            "tags": [
              "id3_content_3",
              "outputarea_id3"
            ]
          }
        },
        {
          "output_type": "display_data",
          "data": {
            "application/javascript": [
              "window[\"7925506a-3b58-11e9-b308-0242ac1c0002\"] = window[\"id3\"].setSelectedTabIndex(3);\n",
              "//# sourceURL=js_bbc2d4cbd5"
            ],
            "text/plain": [
              "<IPython.core.display.Javascript object>"
            ]
          },
          "metadata": {
            "tags": [
              "id3_content_3",
              "outputarea_id3"
            ]
          }
        },
        {
          "output_type": "stream",
          "text": [
            "\n",
            " \n",
            " 1. A water ride for use by a rider, the water ride comprising:\n",
            " an activity section including\n",
            " a substantially flat middle section, \n",
            " a first curved sidewall extending substantially upwardly from an edge of the middle section, and \n",
            " a second curved sidewall extending substantially upwardly from another edge of the middle section opposite the first curved side; \n",
            " \n",
            " a water delivery section coupled to a side of the middle section; and \n",
            " the water delivery section configured and arranged to deliver water up the middle section in a direction substantially opposite the rider's direction of travel along the middle section; \n",
            " a dewatering section coupled to another side of the middle section opposite the water delivery section and located at an elevation higher than the water delivery section; and \n",
            " a rider exit located adjacent the water delivery section. \n",
            " \n",
            " \n",
            " \n",
            " 2. The water ride of  claim 1  wherein the water delivery section includes a water delivery tank and a delivery ramp. \n",
            " \n",
            " \n",
            " 3. The water ride of  claim 1  wherein the water delivery section includes a nozzle. \n",
            " \n",
            " \n",
            " 4. The water ride of  claim 1  and further comprising a water retrieval section that carries water from the dewatering section back to the water delivery section. \n",
            " \n",
            " \n",
            " 5. The water ride of  claim 4  wherein the water retrieval section is positioned under at least one of the dewatering section, the activity section, and the water delivery section. \n",
            " \n",
            " \n",
            " 6. The water ride of  claim 1  wherein additional water flows from top portions of the first curved sidewall and the second curved sidewall toward the middle section. \n",
            " \n",
            " \n",
            " 7. The water ride of  claim 1  wherein the first curved sidewall and the second curved sidewall have a substantially equal radius of curvature. \n",
            " \n",
            " \n",
            " 8. The water ride of  claim 1  wherein the first curved sidewall and the second curved sidewall have different radii of curvature. \n",
            " \n",
            " \n",
            " 9. The water ride of  claim 1  wherein the first curved sidewall and the second curved sidewall are curved about an axis parallel to water flow, and are connected by a substantially flat activity section. \n",
            " \n",
            " \n",
            " 10. The water ride of  claim 1  wherein the rider exit comprises stairs. \n",
            " \n",
            " \n",
            " 11. The water ride of  claim 1  wherein the water delivery section delivers water toward the activity section at a speed between about 10 miles per hour and about 20 miles per hour. \n",
            " \n",
            " \n",
            " 12. The water ride of  claim 1  wherein a depth of water in the middle section is between about 1 inch and about 12 inches. \n",
            " \n",
            " \n",
            " 13. The water ride of  claim 1  wherein the activity section is constructed of fiberglass panels. \n",
            " \n",
            " \n",
            " 14. The water ride of  claim 1  wherein the activity section is constructed of concrete covered by a soft padding. \n",
            " \n",
            " \n",
            " 15. The water ride of  claim 1  wherein at least one of the first curved sidewall and the second curved sidewall is curved at an angle of at least one of greater than ninety degrees, about ninety degrees, and less than ninety degrees. \n",
            " \n",
            " \n",
            " 16. The water ride of  claim 1  wherein the dewatering section is substantially flat and includes at least one of a grate and a soft mat. \n",
            " \n",
            " \n",
            " 17. The water ride of  claim 1  wherein the activity section is about eight meters wide. \n",
            " \n",
            " \n",
            " 18. The water ride of  claim 1  wherein the middle section is about four meters wide. \n",
            " \n",
            " \n",
            " 19. The water ride of  claim 1  wherein at least one of the first curved sidewall and the second curved sidewall is about two meters wide. \n",
            " \n",
            " \n",
            " 20. A water ride for use by a rider, the water ride comprising:\n",
            " an activity section including\n",
            " a substantially flat, inclined middle section, \n",
            " a first curved sidewall extending substantially upwardly from an edge of the middle section, and \n",
            " a second curved sidewall extending substantially upwardly from another edge of the middle section opposite the first curved side; \n",
            " \n",
            " a water delivery section coupled to a side of the middle section; \n",
            " the water delivery section including at least one nozzle configured and arranged to deliver water up the entire length of the middle section; \n",
            " a dewatering section coupled to another side of the middle section opposite the water delivery section and located at an elevation higher than the water delivery section; and \n",
            " a rider exit located adjacent the water delivery section.  \n",
            " \n",
            " \n",
            "\n"
          ],
          "name": "stdout"
        },
        {
          "output_type": "display_data",
          "data": {
            "application/javascript": [
              "window[\"79266fae-3b58-11e9-b308-0242ac1c0002\"] = google.colab.output.setActiveOutputArea(window[\"792412ae-3b58-11e9-b308-0242ac1c0002\"]);\n",
              "//# sourceURL=js_460412d607"
            ],
            "text/plain": [
              "<IPython.core.display.Javascript object>"
            ]
          },
          "metadata": {
            "tags": [
              "id3_content_3",
              "outputarea_id3"
            ]
          }
        },
        {
          "output_type": "display_data",
          "data": {
            "application/javascript": [
              "window[\"792815de-3b58-11e9-b308-0242ac1c0002\"] = google.colab.output.getActiveOutputArea();\n",
              "//# sourceURL=js_0d224b9c49"
            ],
            "text/plain": [
              "<IPython.core.display.Javascript object>"
            ]
          },
          "metadata": {
            "tags": [
              "id3_content_4",
              "outputarea_id3"
            ]
          }
        },
        {
          "output_type": "display_data",
          "data": {
            "application/javascript": [
              "window[\"792869f8-3b58-11e9-b308-0242ac1c0002\"] = document.querySelector(\"#id3_content_4\");\n",
              "//# sourceURL=js_3f1e9afcce"
            ],
            "text/plain": [
              "<IPython.core.display.Javascript object>"
            ]
          },
          "metadata": {
            "tags": [
              "id3_content_4",
              "outputarea_id3"
            ]
          }
        },
        {
          "output_type": "display_data",
          "data": {
            "application/javascript": [
              "window[\"7928abde-3b58-11e9-b308-0242ac1c0002\"] = google.colab.output.setActiveOutputArea(window[\"792869f8-3b58-11e9-b308-0242ac1c0002\"]);\n",
              "//# sourceURL=js_4d9a382589"
            ],
            "text/plain": [
              "<IPython.core.display.Javascript object>"
            ]
          },
          "metadata": {
            "tags": [
              "id3_content_4",
              "outputarea_id3"
            ]
          }
        },
        {
          "output_type": "display_data",
          "data": {
            "application/javascript": [
              "window[\"7929101a-3b58-11e9-b308-0242ac1c0002\"] = window[\"id3\"].setSelectedTabIndex(4);\n",
              "//# sourceURL=js_eecd329bbb"
            ],
            "text/plain": [
              "<IPython.core.display.Javascript object>"
            ]
          },
          "metadata": {
            "tags": [
              "id3_content_4",
              "outputarea_id3"
            ]
          }
        },
        {
          "output_type": "stream",
          "text": [
            "\n",
            " \n",
            " 1. A spraying device, which comprises a sprayer comprising:\n",
            " a control handle, which forms one or a plurality of air inlet openings and one or a plurality of air outlet openings; \n",
            " a first hollow barrel, which has an end forming a first coupling end connectable with the air outlet opening of the control handle and another end forming a second coupling end, the first hollow barrel receiving and retaining therein a block, which forms an internal passage and is located between the first coupling end and the second coupling end, the block having an outside surface forming one or a plurality of air passageways communicating between the first coupling end and the second coupling end, the internal passage of the block having an end forming a first end port that faces outward of the first hollow barrel and another end of the passage opposing the second coupling end and forming a second end port, a coupling portion extending outward from an opening of the second coupling end and having a surface forming one or a plurality of grooves in communication with the second coupling end; \n",
            " a second hollow barrel, which has an end that is an open end and an opposite end forming a coupling end connectable to the coupling portion of the first hollow barrel, the second hollow barrel forming therein an accommodation chamber and also forming a first channel in an upper wall of the accommodation chamber and a second channel in a lower wall of the accommodation chamber; \n",
            " a driving unit, which is received in the accommodation chamber of the second hollow barrel and has two ends which extend outward to form a shaft, a bore formed in the shaft and extending through the driving unit, a sleeve being fit outside the driving unit and forming first air apertures corresponding in position to the first channel of the second hollow barrel and second air apertures corresponding in position to the second channel of the second hollow barrel, positioning seats being respectively fit over opposite end portions of the shaft and tightly positioned against the sleeve, each of the positioning seats receiving and retaining therein a bearing through which the shaft extends and is thus supported; \n",
            " a spraying tube, which is arranged inside the second hollow barrel and has an end forming a fitting portion connectable with the shaft of the driving unit; and \n",
            " a liquid ejection tube, which has an end extending through and received in the bore of the driving unit and the spraying tube and an opposite end forming a retention seat connectable to the second end port inside the first hollow barrel. \n",
            " \n",
            " \n",
            " \n",
            " 2. The spraying device according to  claim 1 , wherein the first end port and an opening of the first coupling end are arranged to face different directions. \n",
            " \n",
            " \n",
            " 3. The spraying device according to  claim 1 , wherein the coupling portion of the first hollow barrel forms one or a plurality of bolt holes. \n",
            " \n",
            " \n",
            " 4. The spraying device according to  claim 1 , wherein the first hollow barrel forms on an outside surface thereof one or a plurality of hooking rings. \n",
            " \n",
            " \n",
            " 5. The spraying device according to  claim 1 , wherein the coupling end of the second hollow barrel forms one or a plurality of fastening holes. \n",
            " \n",
            " \n",
            " 6. The spraying device according to  claim 1 , wherein the driving unit forms one or a plurality of slots, which respectively and movably receive therein blades. \n",
            " \n",
            " \n",
            " 7. The spraying device according to  claim 1 , wherein the coupling portion of the first hollow barrel and the coupling end of the second hollow barrel receive one or a plurality of gaskets interposed therebetween. \n",
            " \n",
            " \n",
            " 8. The spraying device according to  claim 1 , wherein the first end port of the first hollow barrel is connectable with a liquid storage container.  \n",
            " \n",
            "\n"
          ],
          "name": "stdout"
        },
        {
          "output_type": "display_data",
          "data": {
            "application/javascript": [
              "window[\"792a2626-3b58-11e9-b308-0242ac1c0002\"] = google.colab.output.setActiveOutputArea(window[\"792815de-3b58-11e9-b308-0242ac1c0002\"]);\n",
              "//# sourceURL=js_7e556f7bb3"
            ],
            "text/plain": [
              "<IPython.core.display.Javascript object>"
            ]
          },
          "metadata": {
            "tags": [
              "id3_content_4",
              "outputarea_id3"
            ]
          }
        },
        {
          "output_type": "display_data",
          "data": {
            "application/javascript": [
              "window[\"792b457e-3b58-11e9-b308-0242ac1c0002\"] = google.colab.output.getActiveOutputArea();\n",
              "//# sourceURL=js_37a61e20ff"
            ],
            "text/plain": [
              "<IPython.core.display.Javascript object>"
            ]
          },
          "metadata": {
            "tags": [
              "id3_content_5",
              "outputarea_id3"
            ]
          }
        },
        {
          "output_type": "display_data",
          "data": {
            "application/javascript": [
              "window[\"792b747c-3b58-11e9-b308-0242ac1c0002\"] = document.querySelector(\"#id3_content_5\");\n",
              "//# sourceURL=js_ca0e8b1482"
            ],
            "text/plain": [
              "<IPython.core.display.Javascript object>"
            ]
          },
          "metadata": {
            "tags": [
              "id3_content_5",
              "outputarea_id3"
            ]
          }
        },
        {
          "output_type": "display_data",
          "data": {
            "application/javascript": [
              "window[\"792bad8e-3b58-11e9-b308-0242ac1c0002\"] = google.colab.output.setActiveOutputArea(window[\"792b747c-3b58-11e9-b308-0242ac1c0002\"]);\n",
              "//# sourceURL=js_2aebb61073"
            ],
            "text/plain": [
              "<IPython.core.display.Javascript object>"
            ]
          },
          "metadata": {
            "tags": [
              "id3_content_5",
              "outputarea_id3"
            ]
          }
        },
        {
          "output_type": "display_data",
          "data": {
            "application/javascript": [
              "window[\"792be498-3b58-11e9-b308-0242ac1c0002\"] = window[\"id3\"].setSelectedTabIndex(5);\n",
              "//# sourceURL=js_ce534b657f"
            ],
            "text/plain": [
              "<IPython.core.display.Javascript object>"
            ]
          },
          "metadata": {
            "tags": [
              "id3_content_5",
              "outputarea_id3"
            ]
          }
        },
        {
          "output_type": "stream",
          "text": [
            "\n",
            " \n",
            " 1. A refuse/oil removing device for use in a grease trap into which drainage discharged from restaurant is introduced through a drain passage, and for detachably attaching a recovery bag comprised by securing a bag portion and a base portion formed of a material having rigidity, comprising:\n",
            " support means for supporting said bag portion at a position higher than the level of water accumulated in said grease trap, \n",
            " engaging means engaging with said base portion of said recovery bag, said engaging means provided with said support means or a body of said grease trap, \n",
            " a movable member displaceable relative to said support means or said body of said grease trap, said movable member displacing said engaging means, \n",
            " whereby said recovery bag is spaced away from said drain passage at one movement end of said movable member, while at an opposite movement end of said movable member a front end of said drain passage is positioned inside said bag portions of said recovery bag. \n",
            " \n",
            " \n",
            " \n",
            " 2. A refuse/oil removing device according to  claim 1 , wherein a drainage introducing hole for introducing the drainage from said drain passage to the interior of said bag portion is formed in said base portion, and an outlet to said grease trap side in said drain passage is formed by a pipe, said pipe being inserted into said drainage introducing hole at an opposite movement end of said movable member. \n",
            " \n",
            " \n",
            " 3. A refuse/oil removing device according to  claim 2 , wherein said bag portion is formed as plural layers. \n",
            " \n",
            " \n",
            " 4. A refuse/oil removing device according to  claim 1 , wherein a grasping hole is formed in said base portion. \n",
            " \n",
            " \n",
            " 5. A refuse/oil removing device according to  claim 4 , wherein said bag portion is formed as plural layers. \n",
            " \n",
            " \n",
            " 6. A refuse/oil removing device according to  claim 1 , wherein said bag portion is formed by a net. \n",
            " \n",
            " \n",
            " 7. A refuse/oil removing device according to  claim 6 , wherein the material of said net is synthetic resin or synthetic fiber. \n",
            " \n",
            " \n",
            " 8. A refuse/oil removing device according to  claim 7 , wherein said bag portion is formed as plural layers. \n",
            " \n",
            " \n",
            " 9. A refuse/oil removing device according to  claim 1 , wherein the size of each of said water passing holes is 1 to 5 mm. \n",
            " \n",
            " \n",
            " 10. A refuse/oil removing device according to  claim 9 , wherein said bag portion is formed as plural layers. \n",
            " \n",
            " \n",
            " 11. A refuse/oil removing device according to  claim 1 , wherein said bag portion is formed as plural layers. \n",
            " \n",
            " \n",
            " 12. A refuse/oil removing device according to  claim 11 , wherein said plural layers are three layers. \n",
            " \n",
            " \n",
            " 13. A refuse/oil recovery system comprising:\n",
            " a grease trap including a engaging unit disposed thereon or a device provided with said grease trap; and \n",
            " a bag for the recovery of refuse and oil contained in drainage introduced to said grease trap, said refuse/oil recovery bag comprising \n",
            " a base portion having rigidity so as to form a plate, and including a drainage introducing hole, said base portion being engaged with said engaging unit disposed on said grease trap or said device provided with the grease trap, and \n",
            " a bag portion having a plurality of water passing holes and a plurality of layers, said bag portion fixed to said base portion such that a circumference of said hole of said base portion is covered with an opening of said bag portion, and \n",
            " wherein said plurality of layers includes a first outer layer, a second outer layer and an inner layer, and a first space is disposed between said first outer layer and said inner layer and a second space is disposed between said second outer layer and said inner layer, \n",
            " wherein a grasping hole is disposed in said base portion, and \n",
            " wherein said refuse/oil recovery bag is configured to be replaced after use thereof. \n",
            " \n",
            " \n",
            " \n",
            " 14. A refuse/oil recovery system according to  claim 13 , wherein said bag portion is formed by a net. \n",
            " \n",
            " \n",
            " 15. A refuse/oil recovery system according to  claim 14 , wherein the material of said net is synthetic resin or synthetic fiber. \n",
            " \n",
            " \n",
            " 16. A refuse/oil recovery system according to  claim 13 , wherein the size of each of said water passing holes is 1 to 5 mm. \n",
            " \n",
            " \n",
            " 17. A refuse/oil recovery bag according to  claim 13 , wherein said plurality of layers consists of said first outer layer, said second outer layer and said inner layer. \n",
            " \n",
            " \n",
            " 18. A refuse/oil recovery bag according to  claim 13 , wherein said plurality of water passing holes and said plurality of layers are sized and configured to hold oil and/or trash therein.  \n",
            " \n",
            "\n"
          ],
          "name": "stdout"
        },
        {
          "output_type": "display_data",
          "data": {
            "application/javascript": [
              "window[\"792ca96e-3b58-11e9-b308-0242ac1c0002\"] = google.colab.output.setActiveOutputArea(window[\"792b457e-3b58-11e9-b308-0242ac1c0002\"]);\n",
              "//# sourceURL=js_dd0170e341"
            ],
            "text/plain": [
              "<IPython.core.display.Javascript object>"
            ]
          },
          "metadata": {
            "tags": [
              "id3_content_5",
              "outputarea_id3"
            ]
          }
        },
        {
          "output_type": "display_data",
          "data": {
            "application/javascript": [
              "window[\"792db30e-3b58-11e9-b308-0242ac1c0002\"] = google.colab.output.getActiveOutputArea();\n",
              "//# sourceURL=js_0ef0083eba"
            ],
            "text/plain": [
              "<IPython.core.display.Javascript object>"
            ]
          },
          "metadata": {
            "tags": [
              "id3_content_6",
              "outputarea_id3"
            ]
          }
        },
        {
          "output_type": "display_data",
          "data": {
            "application/javascript": [
              "window[\"792deaea-3b58-11e9-b308-0242ac1c0002\"] = document.querySelector(\"#id3_content_6\");\n",
              "//# sourceURL=js_ac73f71d8d"
            ],
            "text/plain": [
              "<IPython.core.display.Javascript object>"
            ]
          },
          "metadata": {
            "tags": [
              "id3_content_6",
              "outputarea_id3"
            ]
          }
        },
        {
          "output_type": "display_data",
          "data": {
            "application/javascript": [
              "window[\"792e2a0a-3b58-11e9-b308-0242ac1c0002\"] = google.colab.output.setActiveOutputArea(window[\"792deaea-3b58-11e9-b308-0242ac1c0002\"]);\n",
              "//# sourceURL=js_b86676e88c"
            ],
            "text/plain": [
              "<IPython.core.display.Javascript object>"
            ]
          },
          "metadata": {
            "tags": [
              "id3_content_6",
              "outputarea_id3"
            ]
          }
        },
        {
          "output_type": "display_data",
          "data": {
            "application/javascript": [
              "window[\"792e5e8a-3b58-11e9-b308-0242ac1c0002\"] = window[\"id3\"].setSelectedTabIndex(6);\n",
              "//# sourceURL=js_dd60146040"
            ],
            "text/plain": [
              "<IPython.core.display.Javascript object>"
            ]
          },
          "metadata": {
            "tags": [
              "id3_content_6",
              "outputarea_id3"
            ]
          }
        },
        {
          "output_type": "stream",
          "text": [
            "\n",
            " \n",
            " 1. An in-line P-trap chlorinator, comprising:\n",
            " (a) a container having a bottom wall, and first and second lateral walls; \n",
            " (b) a conduit for providing water to the container, the conduit having interior and exterior walls, the conduit comprising a horizontal portion connecting first and second vertical portions to one another, the interior wall of the horizontal portion of the conduit being at least a portion of the bottom wall of the container, and the conduit having an opening that extends through the bottom wall of the container for discharging water into the container, the interior wall of the first vertical portion of the conduit being a lower portion of the first lateral wall of the container, the interior wall of the second vertical portion of the conduit being a lower portion of the second lateral wall of the container; \n",
            " (c) an inlet to the first vertical portion of the conduit, for admitting water to the conduit; \n",
            " (d) an outlet to the second vertical portion of the conduit, for discharging water from the conduit; and \n",
            " (e) support means disposed within the container, said support means including a first and second vertical support walls extending from the bottom wall and disposed on opposite sides of the opening for supporting a tablet of a water-leachable algicide and/or antibacterial substance in an elevated position over the opening; \n",
            " the inlet and the outlet to the conduit being disposed above the support means, and the inlet being disposed above a level of the outlet, whereby a water level in the container is at the level of the outlet to the conduit, so that water flowing through the container would contact a tablet disposed on the support means, and would continue to contact the tablet after flow has ceased, and there would be no backflow through the inlet, the opening in the bottom wall of the container being disposed directly below and between the first and second walls of the support means for the tablet, and the container including an upward-directed lip positioned inside the container and around the opening and between the first and second walls of the support means, and said lip tapering from narrow to wide in an upward direction. \n",
            " \n",
            " \n",
            " \n",
            " 2. An inline P-trap chlorinator, comprising:\n",
            " (a) a container having a bottom wall, and first and second lateral walls; \n",
            " (b) an inlet for admitting water to the container; \n",
            " (c) an outlet for discharging water from the container; \n",
            " (d) a conduit connecting the inlet and the outlet to one another, the conduit having interior and exterior walls, and a horizontal portion connecting first and second vertical portions to one another, the interior wall of the horizontal portion of the conduit being at least a portion of the bottom wall of the container, and the conduit having an opening that extends through the bottom wall of the container for discharging water into the container; and \n",
            " (e) support means disposed within the container, said support means including a first and second vertical support walls extending from the bottom and disposed on opposite sides of the opening for supporting a tablet of a water-leachable algicide and/or antibacterial substance in an elevated position over the opening; \n",
            " the inlet and the outlet being disposed above the support means, and the inlet being disposed above a level of the outlet, whereby a water level in the container is at the level of the outlet, so that water in the container would contact a tablet disposed on the support means, and there would be no backflow through the inlet, the opening in the bottom wall of the container being disposed directly below and between the first and second walls of the support means for the tablet, and the container including an upward-directed lip positioned inside the container and around the opening between the first and second walls of the support means and said lip tapering from narrow to wide in an upward direction.  \n",
            " \n",
            " \n",
            "\n"
          ],
          "name": "stdout"
        },
        {
          "output_type": "display_data",
          "data": {
            "application/javascript": [
              "window[\"792f1cd0-3b58-11e9-b308-0242ac1c0002\"] = google.colab.output.setActiveOutputArea(window[\"792db30e-3b58-11e9-b308-0242ac1c0002\"]);\n",
              "//# sourceURL=js_4d3749bf3d"
            ],
            "text/plain": [
              "<IPython.core.display.Javascript object>"
            ]
          },
          "metadata": {
            "tags": [
              "id3_content_6",
              "outputarea_id3"
            ]
          }
        },
        {
          "output_type": "display_data",
          "data": {
            "application/javascript": [
              "window[\"7930206c-3b58-11e9-b308-0242ac1c0002\"] = google.colab.output.getActiveOutputArea();\n",
              "//# sourceURL=js_5f6aea4cf6"
            ],
            "text/plain": [
              "<IPython.core.display.Javascript object>"
            ]
          },
          "metadata": {
            "tags": [
              "id3_content_7",
              "outputarea_id3"
            ]
          }
        },
        {
          "output_type": "display_data",
          "data": {
            "application/javascript": [
              "window[\"793068b0-3b58-11e9-b308-0242ac1c0002\"] = document.querySelector(\"#id3_content_7\");\n",
              "//# sourceURL=js_e150aaef07"
            ],
            "text/plain": [
              "<IPython.core.display.Javascript object>"
            ]
          },
          "metadata": {
            "tags": [
              "id3_content_7",
              "outputarea_id3"
            ]
          }
        },
        {
          "output_type": "display_data",
          "data": {
            "application/javascript": [
              "window[\"7930a1ae-3b58-11e9-b308-0242ac1c0002\"] = google.colab.output.setActiveOutputArea(window[\"793068b0-3b58-11e9-b308-0242ac1c0002\"]);\n",
              "//# sourceURL=js_9d9c85df77"
            ],
            "text/plain": [
              "<IPython.core.display.Javascript object>"
            ]
          },
          "metadata": {
            "tags": [
              "id3_content_7",
              "outputarea_id3"
            ]
          }
        },
        {
          "output_type": "display_data",
          "data": {
            "application/javascript": [
              "window[\"7930dc00-3b58-11e9-b308-0242ac1c0002\"] = window[\"id3\"].setSelectedTabIndex(7);\n",
              "//# sourceURL=js_a800e52f13"
            ],
            "text/plain": [
              "<IPython.core.display.Javascript object>"
            ]
          },
          "metadata": {
            "tags": [
              "id3_content_7",
              "outputarea_id3"
            ]
          }
        },
        {
          "output_type": "stream",
          "text": [
            "\n",
            " \n",
            " 1. A grass collecting apparatus for directing grass clippings cut by a mower unit to a grass catcher, the apparatus comprising:\n",
            " a grass collecting duct for guiding the grass clippings from the mower unit to the grass catcher, the duct having an outlet portion leading to the grass catcher defined by an upper plate, right and left side plates and a bottom plate;  \n",
            " a gate-shaped frame disposed in a boundary between the outlet portion of the grass collecting duct and an opening of the grass catcher, the gate-shaped frame having an upper edge and a lower edge, wherein a first axis for swinging the grass catcher extends in association with the upper edge of the gate-shaped frame, and a second axis for tilting the bottom plate extends in association with the lower edge of the gate-shaped frame; and  \n",
            " a swing mechanism for swinging the grass catcher about the first axis between a grass collecting position with the opening of the grass catcher being opposed to the gate-shaped frame and a grass discharging position with the opening of the grass catcher being directed downward, the bottom plate being tilted about the second axis toward the gate-shaped frame when the grass catcher is swung about the first axis from the grass collecting position to the grass discharging position.  \n",
            " \n",
            " \n",
            " \n",
            " 2. A grass collecting apparatus as defined in  claim 1 , wherein the swing mechanism further swings the bottom plate to be interlocked to swinging of the grass catcher from the grass collecting position to the grass discharging position. \n",
            " \n",
            " \n",
            " 3. A grass collecting apparatus as defined in  claim 1 , wherein the gate-shaped frame has a passing-through opening, through which the opening of the grass catcher in the grass collecting position communicates with the outlet portion of the grass collecting duct. \n",
            " \n",
            " \n",
            " 4. A grass collecting apparatus as defined in  claim 1 , wherein the swing mechanism includes an actuator pivotably supported at one end thereof by a lower portion of the gate-shaped frame and at an other end thereof by a pivot link fixed to the grass catcher for swinging the grass catcher about the first axis. \n",
            " \n",
            " \n",
            " 5. A grass collecting apparatus as defined in  claim 4 , wherein the swing mechanism further includes a connecting rod fixed at one end thereof to the pivot link and at an other end thereof to a tilt mechanism for tilting the bottom plate about the second axis. \n",
            " \n",
            " \n",
            " 6. A riding-type lawn mower including a grass collecting apparatus extending along a fore and aft direction of a vehicle body for directing grass clippings cut by a mower unit to a grass catcher, the grass collecting apparatus comprising:\n",
            " a grass collecting duct for guiding the grass clippings from the mower unit to the grass catcher, the duct having an outlet portion leading to the grass catcher defined by an upper plate, right and left side plates and a bottom plate;  \n",
            " a gate-shaped frame disposed in a boundary between the outlet portion of the grass collecting duct and an opening of the grass catcher, the gate-shaped frame having an upper edge and a lower edge, wherein a first axis for swinging the grass catcher extends in association with the upper edge of the gate-shaped frame, and a second axis for tilting the bottom plate extends in association with the lower edge of the gate-shaped frame; and  \n",
            " a swing mechanism for swinging the grass catcher about the first axis between a grass collecting position with the opening of the grass catcher being opposed to the gate-shaped frame and a grass discharging position with the opening of the grass catcher being directed downward, the bottom plate being tilted about the second axis toward the gate-shaped frame when the grass catcher is swung about the first axis from the grass collecting position to the grass discharging position;  \n",
            " wherein the mower unit is mounted forwardly of rear wheels, the gate-shaped frame is disposed at a rear portion of the vehicle body, and the grass catcher protrudes rearwardly from the vehicle body.  \n",
            " \n",
            " \n",
            " \n",
            " 7. A riding-type lawn mower as defined in  claim 6  further including a vertically movable link mechanism for vertically moving the gate-shaped frame with the grass catcher relative to the vehicle body. \n",
            " \n",
            " \n",
            " 8. A riding-type lawn mower as defined in  claim 6 , wherein the gate-shaped frame is fixed to body frames. \n",
            " \n",
            " \n",
            " 9. A riding-type lawn mower as defined in  claim 6 , wherein the swing mechanism further swings the bottom plate to be interlocked to swinging of the grass catcher from the grass collecting position to the grass discharging position. \n",
            " \n",
            " \n",
            " 10. A grass collecting apparatus as defined in  claim 6 , wherein the swing mechanism includes an actuator pivotably supported at one end thereof by a lower portion of the gate-shaped frame and at an other end thereof by a pivot link fixed to the grass catcher for swinging the grass catcher about the first axis. \n",
            " \n",
            " \n",
            " 11. A grass collecting apparatus as defined in  claim 10 , wherein the swing mechanism further includes a connecting rod fixed at one end thereof to the pivot link and at an other end thereof to a tilt mechanism for tilting the bottom plate about the second axis. \n",
            " \n",
            " \n",
            " 12. A riding-type lawn mower comprising:\n",
            " a vehicle body having front and rear wheels;  \n",
            " a mower unit mounted forwardly of the rear wheels for cutting grass;  \n",
            " a grass catcher disposed at a rear portion of the vehicle body for collecting grass clippings from said mower unit; and  \n",
            " a grass collecting duct for guiding the grass clippings from the mower unit to the grass catcher;  \n",
            " wherein a bottom plate is disposed at a portion for connecting the mower unit and the grass catcher;  \n",
            " a link mechanism is provided for supporting the grass catcher such that the grass catcher can be raised from its grass collecting position;  \n",
            " when the link mechanism raises the grass catcher, the bottom plate is raised along with the grass catcher while remaining oriented in a direction of transporting the grass clipping; and  \n",
            " when the grass catcher raised by the link mechanism is pivoted, the plate surface of the bottom plate is tilted to discharge the grass clippings received thereon.  \n",
            " \n",
            " \n",
            " \n",
            " 13. A riding-type lawn mower as defined in  claim 12 , wherein the mower unit is mounted forwardly of rear wheels, and the grass catcher protrudes rearwardly from the vehicle body. \n",
            " \n",
            " \n",
            " 14. A riding-type lawn mower as defined in  claim 12 , wherein the bottom plate has right and left webs standing erect to prevent the grass clippings from falling off lateral sides of the bottom plate. \n",
            " \n",
            " \n",
            " 15. A riding-type lawn mower as defined in  claim 12 , wherein:\n",
            " a frame stands erect from the vehicle body;  \n",
            " the link mechanism is formed into a four-point parallel link mechanism including the frame, upper arm and a lower arm; and  \n",
            " a hydraulic cylinder is disposed between the lower link and a lower portion of the frame, wherein extension and contraction of the hydraulic cylinder raises and lowers the link mechanism. \n",
            " \n",
            " \n",
            "\n"
          ],
          "name": "stdout"
        },
        {
          "output_type": "display_data",
          "data": {
            "application/javascript": [
              "window[\"7931a40a-3b58-11e9-b308-0242ac1c0002\"] = google.colab.output.setActiveOutputArea(window[\"7930206c-3b58-11e9-b308-0242ac1c0002\"]);\n",
              "//# sourceURL=js_ef1f4206d9"
            ],
            "text/plain": [
              "<IPython.core.display.Javascript object>"
            ]
          },
          "metadata": {
            "tags": [
              "id3_content_7",
              "outputarea_id3"
            ]
          }
        },
        {
          "output_type": "display_data",
          "data": {
            "application/javascript": [
              "window[\"7932aec2-3b58-11e9-b308-0242ac1c0002\"] = google.colab.output.getActiveOutputArea();\n",
              "//# sourceURL=js_d19696b761"
            ],
            "text/plain": [
              "<IPython.core.display.Javascript object>"
            ]
          },
          "metadata": {
            "tags": [
              "id3_content_8",
              "outputarea_id3"
            ]
          }
        },
        {
          "output_type": "display_data",
          "data": {
            "application/javascript": [
              "window[\"7932f378-3b58-11e9-b308-0242ac1c0002\"] = document.querySelector(\"#id3_content_8\");\n",
              "//# sourceURL=js_1c9492085d"
            ],
            "text/plain": [
              "<IPython.core.display.Javascript object>"
            ]
          },
          "metadata": {
            "tags": [
              "id3_content_8",
              "outputarea_id3"
            ]
          }
        },
        {
          "output_type": "display_data",
          "data": {
            "application/javascript": [
              "window[\"79332d34-3b58-11e9-b308-0242ac1c0002\"] = google.colab.output.setActiveOutputArea(window[\"7932f378-3b58-11e9-b308-0242ac1c0002\"]);\n",
              "//# sourceURL=js_c3f72082b7"
            ],
            "text/plain": [
              "<IPython.core.display.Javascript object>"
            ]
          },
          "metadata": {
            "tags": [
              "id3_content_8",
              "outputarea_id3"
            ]
          }
        },
        {
          "output_type": "display_data",
          "data": {
            "application/javascript": [
              "window[\"79336358-3b58-11e9-b308-0242ac1c0002\"] = window[\"id3\"].setSelectedTabIndex(8);\n",
              "//# sourceURL=js_585595e869"
            ],
            "text/plain": [
              "<IPython.core.display.Javascript object>"
            ]
          },
          "metadata": {
            "tags": [
              "id3_content_8",
              "outputarea_id3"
            ]
          }
        },
        {
          "output_type": "stream",
          "text": [
            "\n",
            " \n",
            " 1. A device for delivering controlled amounts of water to a pet, comprising:\n",
            " a bowl having a bottom wall, an upstanding side wall mounted about the bottom wall and projecting upwardly therefrom, a top wall, and a central aperture formed in said top wall; \n",
            " said bottom wall, side wall, and top wall defining a water-holding space; \n",
            " a container for holding water adapted to be disposed in inverted relation to said bowl, said container having a neck and a mouth, said neck adapted to extend through said central aperture when said container is supported in said inverted relation by said bowl; \n",
            " said central aperture adapted to seal around said neck of said container so that water flows out of said container into said bowl until water in said bowl attains a depth that closes said mouth and prevents further water from flowing into said bowl; \n",
            " a tray adapted to hold water secured to an exterior wall of said bowl; \n",
            " a seeping chamber secured to an exterior wall of said bowl, said seeping chamber having a hollow interior and  being contained within said tray and at least one opening formed in said seeping tray so that water seeping from said hollow interior of said seeping chamber through said at least one opening flows into said tray; \n",
            " a first opening formed in said exterior wall of said bowl and a second opening formed in said exterior wall of said bowl in diametrically opposed relation to said first opening; \n",
            " said second opening being in fluid communication with said hollow interior of said seeping chamber; \n",
            " a flow control valve means having a control knob positioned on an exterior side of said side wall of said bowl; said flow control valve means having an elongate tapered stem secured to said control knob for conjoint rotation therewith, said elongate tapered stem extending through said first opening and said second opening and into said hollow seeping chamber; \n",
            " whereby full rotation of said control knob in a first direction seals said first and second openings and so that rotation of said control knob in a second direction opposite to said first direction maintains said first opening in a sealed condition but opens said second opening so that water in said reservoir flows into said hollow interior of said hollow seeping chamber; \n",
            " whereby liquid fluid in said liquid fluid-holding reservoir is introduced into said hollow seeping chamber when  said control knob is rotated in said second direction; \n",
            " whereby the flow rate of liquid fluid into said hollow seeping chamber is controllable by said flow control valve; and \n",
            " whereby the rate of flow of liquid fluid from said at least one opening formed in said seeping chamber into said liquid fluid-holding space is controllable by adjustment of said flow control valve.  \n",
            " \n",
            " \n",
            "\n"
          ],
          "name": "stdout"
        },
        {
          "output_type": "display_data",
          "data": {
            "application/javascript": [
              "window[\"793422d4-3b58-11e9-b308-0242ac1c0002\"] = google.colab.output.setActiveOutputArea(window[\"7932aec2-3b58-11e9-b308-0242ac1c0002\"]);\n",
              "//# sourceURL=js_76250182cd"
            ],
            "text/plain": [
              "<IPython.core.display.Javascript object>"
            ]
          },
          "metadata": {
            "tags": [
              "id3_content_8",
              "outputarea_id3"
            ]
          }
        },
        {
          "output_type": "display_data",
          "data": {
            "application/javascript": [
              "window[\"79352cec-3b58-11e9-b308-0242ac1c0002\"] = google.colab.output.getActiveOutputArea();\n",
              "//# sourceURL=js_8d89590175"
            ],
            "text/plain": [
              "<IPython.core.display.Javascript object>"
            ]
          },
          "metadata": {
            "tags": [
              "id3_content_9",
              "outputarea_id3"
            ]
          }
        },
        {
          "output_type": "display_data",
          "data": {
            "application/javascript": [
              "window[\"79357058-3b58-11e9-b308-0242ac1c0002\"] = document.querySelector(\"#id3_content_9\");\n",
              "//# sourceURL=js_81960ab7c8"
            ],
            "text/plain": [
              "<IPython.core.display.Javascript object>"
            ]
          },
          "metadata": {
            "tags": [
              "id3_content_9",
              "outputarea_id3"
            ]
          }
        },
        {
          "output_type": "display_data",
          "data": {
            "application/javascript": [
              "window[\"7935a6a4-3b58-11e9-b308-0242ac1c0002\"] = google.colab.output.setActiveOutputArea(window[\"79357058-3b58-11e9-b308-0242ac1c0002\"]);\n",
              "//# sourceURL=js_7897b61328"
            ],
            "text/plain": [
              "<IPython.core.display.Javascript object>"
            ]
          },
          "metadata": {
            "tags": [
              "id3_content_9",
              "outputarea_id3"
            ]
          }
        },
        {
          "output_type": "display_data",
          "data": {
            "application/javascript": [
              "window[\"7935d354-3b58-11e9-b308-0242ac1c0002\"] = window[\"id3\"].setSelectedTabIndex(9);\n",
              "//# sourceURL=js_a5e6d7ac7d"
            ],
            "text/plain": [
              "<IPython.core.display.Javascript object>"
            ]
          },
          "metadata": {
            "tags": [
              "id3_content_9",
              "outputarea_id3"
            ]
          }
        },
        {
          "output_type": "stream",
          "text": [
            "\n",
            " \n",
            " 1. A device for planting seeds in a diamond-shaped pattern comprising:\n",
            " a. a hopper assembly comprising a baffle and brush system for controlling seed flow to a pick-up and transfer cylinder operatively connected to said pick-up and transfer cylinder, \n",
            " b. a cylinder assembly comprising said pick-up and transfer cylinder having a plurality of cylinder holes arranged in rows operatively connected to said hopper assembly, \n",
            " c. a seed detachment system operatively connected to said cylinder to dislodge seeds from said cylinder holes, and \n",
            " d. a cleaning system operatively connected to said cylinder for removing seed fragments remaining in said cylinder holes after seed are dislodged by said detachment system. \n",
            " \n",
            " \n",
            " \n",
            " 2. The device of  claim 1  wherein said hopper assembly further includes a seed hopper wherein said hopper includes shrouds for seed containment that are operatively connected to said pick-up and transfer cylinder and said hopper. \n",
            " \n",
            " \n",
            " 3. The device of  claim 1  wherein said hopper assembly further includes a seed hopper transition assembly including a pair of seed access ports and a seed drain access port operatively connected to said hopper and said pick-up and transfer cylinder. \n",
            " \n",
            " \n",
            " 4. The device of  claim 1  wherein said baffle and brush system includes baffling means operatively connected to said hopper assembly and said pick-up and transfer cylinder for regulating seed flow to said cylinder. \n",
            " \n",
            " \n",
            " 5. The device of  claim 4  wherein said baffling means includes primary sliding gates and secondary sliding gates. \n",
            " \n",
            " \n",
            " 6. The system of  claim 4  wherein said baffle and brush system includes dividers operatively connected to said cylinder to guide seeds to said cylinder. \n",
            " \n",
            " \n",
            " 7. The system of  claim 1  wherein said baffle and brush system includes a seed brush assembly operatively connected to said pick-up and transfer system for diverting seeds from said baffling means to cylinder holes on said cylinder and for removing seeds not on said cylinder holes that are riding on said cylinder. \n",
            " \n",
            " \n",
            " 8. The device of  claim 1  wherein said pick-up and transfer cylinder further includes a plurality of tabs operatively connected to said cylinder holes to improve seed flow to said holes. \n",
            " \n",
            " \n",
            " 9. The device of  claim 1  further including a vacuum assembly operatively connected to said cylinder assembly for facilitating seed transfer to said cylinder holes. \n",
            " \n",
            " \n",
            " 10. The device of  claim 1  wherein said seed detachment system includes a plurality of seed contact dislodging strips operatively connected to said pick-up and transfer cylinder for dislodging seeds held by a vacuum in said cylinder holes. \n",
            " \n",
            " \n",
            " 11. The device of  claim 1  wherein said cleaning system includes a plurality of cleaning units operatively attached to said pick-up and transfer cylinder wherein each of said units includes a hexagonal-shaped nut having attached hole cleaners to each side of said nut. \n",
            " \n",
            " \n",
            " 12. A device for planting seeds in a diamond-shaped pattern comprising:\n",
            " a. a hopper assembly comprising a baffle and brush system for controlling seed flow to a pick-up and transfer cylinder operatively connected to said pick-up and transfer cylinder, \n",
            " b. a cylinder assembly comprising a pick-up and transfer cylinder having a plurality of cylinder holes arranged in rows operatively connected to said hopper assembly, \n",
            " c. a vacuum assembly operatively connected to said cylinder assembly for facilitating seed transfer to said cylinder holes, \n",
            " d. a seed detachment system operatively connected to said cylinder to dislodge seeds from said cylinder holes, and \n",
            " e. a cleaning system operatively connected to said cylinder for removing seed fragments remaining in said cylinder holes after seed are dislodged by said detachment system. \n",
            " \n",
            " \n",
            "\n"
          ],
          "name": "stdout"
        },
        {
          "output_type": "display_data",
          "data": {
            "application/javascript": [
              "window[\"7936a5ae-3b58-11e9-b308-0242ac1c0002\"] = google.colab.output.setActiveOutputArea(window[\"79352cec-3b58-11e9-b308-0242ac1c0002\"]);\n",
              "//# sourceURL=js_c54901b47b"
            ],
            "text/plain": [
              "<IPython.core.display.Javascript object>"
            ]
          },
          "metadata": {
            "tags": [
              "id3_content_9",
              "outputarea_id3"
            ]
          }
        }
      ]
    },
    {
      "metadata": {
        "id": "88t4trt-UpPJ",
        "colab_type": "text"
      },
      "cell_type": "markdown",
      "source": [
        "### Show what is the model input"
      ]
    },
    {
      "metadata": {
        "id": "Dutf-m5OM5jN",
        "colab_type": "code",
        "colab": {
          "base_uri": "https://localhost:8080/",
          "height": 1459
        },
        "outputId": "2a65c205-d4b2-454a-879a-8f4c8fabec5d"
      },
      "cell_type": "code",
      "source": [
        "print(\"Input claim (application)\")\n",
        "print(target_claim)"
      ],
      "execution_count": 80,
      "outputs": [
        {
          "output_type": "stream",
          "text": [
            "Input claim (application)\n",
            "\n",
            " \n",
            "  1 . A rainwater catching and plant watering device, comprising:\n",
            " a collecting member forming a rainwater holding area, the collecting member configured to be attached to a portion of a building from which rainwater will flow; \n",
            " at least one opening in the collecting member for receiving rainwater flowing from the building; \n",
            " a flow connector for directing rainwater in the water holding area to plants or the like. \n",
            " \n",
            " \n",
            " \n",
            "  2 . The device according to  claim 1 , wherein and further including an impeding member positioned in or adjacent to the flow connector for impeding and controlling the flow of rainwater through the flow connector. \n",
            " \n",
            " \n",
            "  3 . The device according to  claim 1 , wherein the impeding member is an airstone disposed adjacent to an opening in the collecting member. \n",
            " \n",
            " \n",
            "  4 . The device according to  claim 1 , wherein the conduit includes a portion having a plurality of openings therein to release the water. \n",
            " \n",
            " \n",
            "  5 . The device according to  claim 1 , wherein the collecting member is a gutter. \n",
            " \n",
            " \n",
            "  6 . The device according to  claim 1 , wherein the collecting member includes a capture basin adapted to be connected to said building. \n",
            " \n",
            " \n",
            "  7 . The device according to  claim 1 , further comprising a debris blocking element disposed adjacent the at least one opening to prevent debris from blocking the opening \n",
            " \n",
            " \n",
            "  8 . The device according to  claim 1 , further comprising an attaching member attached to the collecting member to attach the device to the building. \n",
            " \n",
            " \n",
            "  9 . The device according to  claim 1 , wherein the attaching member is an elastic clip. \n",
            " \n",
            " \n",
            "  10 . The device according to  claim 1 , wherein at least a portion of one of the at least two sides is configured to engage at least the portion of a building from which rainwater will flow. \n",
            " \n",
            " \n",
            "  11 . The device according to  claim 1 , wherein the at least one opening includes a plurality of openings. \n",
            " \n",
            " \n",
            "  12 . A rain catching and plant watering device comprising:\n",
            " a collecting member having at least two sides and a bottom defining a water holding area to collect water from a gutter; \n",
            " at least one opening in the collecting member; \n",
            " a conduit in fluid communication with the water holding area and having a length sufficient to reach plants or the like; and \n",
            " an impeding member to slow the flow of water from the water holding area through the conduit. \n",
            " \n",
            " \n",
            " \n",
            "  13 . The device according to  claim 12 , wherein the impeding member is a fibrous element disposed in the conduit. \n",
            " \n",
            " \n",
            "  14 . The device according to  claim 12 , wherein the impeding member is an airstone disposed adjacent the opening in bottom. \n",
            " \n",
            " \n",
            "  15 . The device according to  claim 12 , wherein the conduit includes a portion having a plurality of openings therein to release the water. \n",
            " \n",
            " \n",
            "  16 . A rain catching and plant watering device comprising:\n",
            " a collecting member that is fitted into a gutter with a top surface and surface extending below the gutter, the collecting member configured to be fitted into a hole cut into a gutter; \n",
            " at least one opening in the collecting member; \n",
            " a conduit having a length sufficient to reach plants or the like; and \n",
            " an impeding member to slow the flow of water from the water holding area through the conduit. \n",
            " \n",
            " \n",
            " \n",
            "  17 . The device according to  claim 16 , wherein the impeding member is a fibrous element disposed in the conduit. \n",
            " \n",
            " \n",
            "  18 . The device according to  claim 16 , wherein the impeding member is an airstone disposed adjacent the opening in bottom. \n",
            " \n",
            " \n",
            "  19 . The device according to  claim 16 , wherein the conduit includes a portion having a plurality of openings therein to release the water. \n",
            " \n",
            " \n",
            "  20 . The device according to  claim 16 , further comprising a debris blocking element disposed adjacent the at least one opening to prevent debris from blocking the opening \n",
            " \n",
            " \n",
            "  21 . The device according to  claim 16 , wherein the at least one opening includes a plurality of openings.  \n",
            " \n",
            "\n"
          ],
          "name": "stdout"
        }
      ]
    },
    {
      "metadata": {
        "id": "mmK0LrTuM5Ts",
        "colab_type": "code",
        "colab": {
          "base_uri": "https://localhost:8080/",
          "height": 319
        },
        "outputId": "69782e24-8c9e-4fc9-ecc1-1032811e10b4"
      },
      "cell_type": "code",
      "source": [
        "tokens = tokenizer.tokenize(target_claim)\n",
        "for idx, token in enumerate(tokens[0:255]):\n",
        "  sep = \"\\n\" if (idx != 0 and idx%15 == 0) else \" \"\n",
        "  print(token, end=sep)\n",
        "print(\"\")"
      ],
      "execution_count": 87,
      "outputs": [
        {
          "output_type": "stream",
          "text": [
            "1 . a rain ##water catching and plant watering device , comprising : a collecting member\n",
            "forming a rain ##water holding area , the collecting member configured to be attached to\n",
            "a portion of a building from which rain ##water will flow ; at least one\n",
            "opening in the collecting member for receiving rain ##water flowing from the building ; a\n",
            "flow connector for directing rain ##water in the water holding area to plants or the\n",
            "like . 2 . the device according to claim 1 , wherein and further including\n",
            "an imp ##eding member positioned in or adjacent to the flow connector for imp ##eding\n",
            "and controlling the flow of rain ##water through the flow connector . 3 . the\n",
            "device according to claim 1 , wherein the imp ##eding member is an airs ##tone\n",
            "disposed adjacent to an opening in the collecting member . 4 . the device according\n",
            "to claim 1 , wherein the con ##du ##it includes a portion having a plurality\n",
            "of openings there ##in to release the water . 5 . the device according to\n",
            "claim 1 , wherein the collecting member is a gut ##ter . 6 . the\n",
            "device according to claim 1 , wherein the collecting member includes a capture basin adapted\n",
            "to be connected to said building . 7 . the device according to claim 1\n",
            ", further comprising a debris blocking element disposed adjacent the at least one opening to\n",
            "prevent debris from blocking the opening 8 . the device according to claim 1 \n"
          ],
          "name": "stdout"
        }
      ]
    },
    {
      "metadata": {
        "id": "ZcUj20-zMt7Q",
        "colab_type": "code",
        "colab": {
          "base_uri": "https://localhost:8080/",
          "height": 926
        },
        "outputId": "268c0b6f-dfd7-4401-cdff-c3a424eb9482"
      },
      "cell_type": "code",
      "source": [
        "print(\"Selected claim (grants)\")\n",
        "print(selected_result_claim)"
      ],
      "execution_count": 83,
      "outputs": [
        {
          "output_type": "stream",
          "text": [
            "Selected claim (grants)\n",
            "\n",
            " \n",
            " 1. A device for planting seeds in a diamond-shaped pattern comprising:\n",
            " a. a hopper assembly comprising a baffle and brush system for controlling seed flow to a pick-up and transfer cylinder operatively connected to said pick-up and transfer cylinder, \n",
            " b. a cylinder assembly comprising said pick-up and transfer cylinder having a plurality of cylinder holes arranged in rows operatively connected to said hopper assembly, \n",
            " c. a seed detachment system operatively connected to said cylinder to dislodge seeds from said cylinder holes, and \n",
            " d. a cleaning system operatively connected to said cylinder for removing seed fragments remaining in said cylinder holes after seed are dislodged by said detachment system. \n",
            " \n",
            " \n",
            " \n",
            " 2. The device of  claim 1  wherein said hopper assembly further includes a seed hopper wherein said hopper includes shrouds for seed containment that are operatively connected to said pick-up and transfer cylinder and said hopper. \n",
            " \n",
            " \n",
            " 3. The device of  claim 1  wherein said hopper assembly further includes a seed hopper transition assembly including a pair of seed access ports and a seed drain access port operatively connected to said hopper and said pick-up and transfer cylinder. \n",
            " \n",
            " \n",
            " 4. The device of  claim 1  wherein said baffle and brush system includes baffling means operatively connected to said hopper assembly and said pick-up and transfer cylinder for regulating seed flow to said cylinder. \n",
            " \n",
            " \n",
            " 5. The device of  claim 4  wherein said baffling means includes primary sliding gates and secondary sliding gates. \n",
            " \n",
            " \n",
            " 6. The system of  claim 4  wherein said baffle and brush system includes dividers operatively connected to said cylinder to guide seeds to said cylinder. \n",
            " \n",
            " \n",
            " 7. The system of  claim 1  wherein said baffle and brush system includes a seed brush assembly operatively connected to said pick-up and transfer system for diverting seeds from said baffling means to cylinder holes on said cylinder and for removing seeds not on said cylinder holes that are riding on said cylinder. \n",
            " \n",
            " \n",
            " 8. The device of  claim 1  wherein said pick-up and transfer cylinder further includes a plurality of tabs operatively connected to said cylinder holes to improve seed flow to said holes. \n",
            " \n",
            " \n",
            " 9. The device of  claim 1  further including a vacuum assembly operatively connected to said cylinder assembly for facilitating seed transfer to said cylinder holes. \n",
            " \n",
            " \n",
            " 10. The device of  claim 1  wherein said seed detachment system includes a plurality of seed contact dislodging strips operatively connected to said pick-up and transfer cylinder for dislodging seeds held by a vacuum in said cylinder holes. \n",
            " \n",
            " \n",
            " 11. The device of  claim 1  wherein said cleaning system includes a plurality of cleaning units operatively attached to said pick-up and transfer cylinder wherein each of said units includes a hexagonal-shaped nut having attached hole cleaners to each side of said nut. \n",
            " \n",
            " \n",
            " 12. A device for planting seeds in a diamond-shaped pattern comprising:\n",
            " a. a hopper assembly comprising a baffle and brush system for controlling seed flow to a pick-up and transfer cylinder operatively connected to said pick-up and transfer cylinder, \n",
            " b. a cylinder assembly comprising a pick-up and transfer cylinder having a plurality of cylinder holes arranged in rows operatively connected to said hopper assembly, \n",
            " c. a vacuum assembly operatively connected to said cylinder assembly for facilitating seed transfer to said cylinder holes, \n",
            " d. a seed detachment system operatively connected to said cylinder to dislodge seeds from said cylinder holes, and \n",
            " e. a cleaning system operatively connected to said cylinder for removing seed fragments remaining in said cylinder holes after seed are dislodged by said detachment system. \n",
            " \n",
            " \n",
            "\n"
          ],
          "name": "stdout"
        }
      ]
    },
    {
      "metadata": {
        "id": "JK9jkisSMvBX",
        "colab_type": "code",
        "colab": {
          "base_uri": "https://localhost:8080/",
          "height": 319
        },
        "outputId": "369583cf-b85d-43af-fe7a-a813da314a07"
      },
      "cell_type": "code",
      "source": [
        "tokens = tokenizer.tokenize(selected_result_claim)\n",
        "for idx, token in enumerate(tokens[0:254]):\n",
        "  sep = \"\\n\" if (idx != 0 and idx%15 == 0) else \" \"\n",
        "  print(token, end=sep)\n",
        "print(\"\")"
      ],
      "execution_count": 88,
      "outputs": [
        {
          "output_type": "stream",
          "text": [
            "1 . a device for planting seeds in a diamond - shaped pattern comprising : a\n",
            ". a hopper assembly comprising a ba ##ffle and brush system for controlling seed flow\n",
            "to a pick - up and transfer cylinder operative ##ly connected to said pick -\n",
            "up and transfer cylinder , b . a cylinder assembly comprising said pick - up\n",
            "and transfer cylinder having a plurality of cylinder holes arranged in rows operative ##ly connected\n",
            "to said hopper assembly , c . a seed detachment system operative ##ly connected to\n",
            "said cylinder to di ##sl ##od ##ge seeds from said cylinder holes , and d\n",
            ". a cleaning system operative ##ly connected to said cylinder for removing seed fragments remaining\n",
            "in said cylinder holes after seed are di ##sl ##od ##ged by said detachment system\n",
            ". 2 . the device of claim 1 wherein said hopper assembly further includes a\n",
            "seed hopper wherein said hopper includes sh ##roud ##s for seed containment that are operative\n",
            "##ly connected to said pick - up and transfer cylinder and said hopper . 3\n",
            ". the device of claim 1 wherein said hopper assembly further includes a seed hopper\n",
            "transition assembly including a pair of seed access ports and a seed drain access port\n",
            "operative ##ly connected to said hopper and said pick - up and transfer cylinder .\n",
            "4 . the device of claim 1 wherein said ba ##ffle and brush system includes\n",
            "ba ##ff ##ling means operative ##ly connected to said hopper assembly and said \n"
          ],
          "name": "stdout"
        }
      ]
    },
    {
      "metadata": {
        "id": "HxTDvVWZOaw4",
        "colab_type": "code",
        "colab": {}
      },
      "cell_type": "code",
      "source": [
        ""
      ],
      "execution_count": 0,
      "outputs": []
    }
  ]
}