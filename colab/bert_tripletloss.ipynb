{
  "nbformat": 4,
  "nbformat_minor": 0,
  "metadata": {
    "colab": {
      "name": "bert-tripletloss.ipynb",
      "version": "0.3.2",
      "provenance": [],
      "collapsed_sections": [],
      "toc_visible": true,
      "include_colab_link": true
    },
    "kernelspec": {
      "name": "python3",
      "display_name": "Python 3"
    },
    "accelerator": "TPU"
  },
  "cells": [
    {
      "cell_type": "markdown",
      "metadata": {
        "id": "view-in-github",
        "colab_type": "text"
      },
      "source": [
        "<a href=\"https://colab.research.google.com/github/karino2/US-patent-analysis/blob/triplet_loss_colab/colab/bert_tripletloss.ipynb\" target=\"_parent\"><img src=\"https://colab.research.google.com/assets/colab-badge.svg\" alt=\"Open In Colab\"/></a>"
      ]
    },
    {
      "metadata": {
        "id": "rQph610BeO4I",
        "colab_type": "text"
      },
      "cell_type": "markdown",
      "source": [
        "**Colab porting of triplet loss trial for bert feature**"
      ]
    },
    {
      "metadata": {
        "id": "3Cv0EJiZ8vi6",
        "colab_type": "code",
        "colab": {
          "base_uri": "https://localhost:8080/",
          "height": 141
        },
        "outputId": "05f7d407-bdf7-493b-c0c6-d636cfe54744"
      },
      "cell_type": "code",
      "source": [
        "import os\n",
        "import datetime\n",
        "import pickle\n",
        "import gzip\n",
        "import pandas as pd\n",
        "import numpy as np\n",
        "\n",
        "import tensorflow as tf\n",
        "\n",
        "tf.enable_eager_execution()"
      ],
      "execution_count": 1,
      "outputs": [
        {
          "output_type": "stream",
          "text": [
            "\n",
            "WARNING: The TensorFlow contrib module will not be included in TensorFlow 2.0.\n",
            "For more information, please see:\n",
            "  * https://github.com/tensorflow/community/blob/master/rfcs/20180907-contrib-sunset.md\n",
            "  * https://github.com/tensorflow/addons\n",
            "If you depend on functionality not listed there, please file an issue.\n",
            "\n"
          ],
          "name": "stdout"
        }
      ]
    },
    {
      "metadata": {
        "id": "R3AyT0Fq8yzD",
        "colab_type": "code",
        "colab": {
          "base_uri": "https://localhost:8080/",
          "height": 35
        },
        "outputId": "4d786094-0db7-4d28-d22f-9d3f5af6f0d3"
      },
      "cell_type": "code",
      "source": [
        "tf.__version__"
      ],
      "execution_count": 3,
      "outputs": [
        {
          "output_type": "execute_result",
          "data": {
            "text/plain": [
              "'1.13.1'"
            ]
          },
          "metadata": {
            "tags": []
          },
          "execution_count": 3
        }
      ]
    },
    {
      "metadata": {
        "id": "3cM2dZ__NPt1",
        "colab_type": "code",
        "colab": {}
      },
      "cell_type": "code",
      "source": [
        "!git clone -b docker https://github.com/yoheikikuta/bert.git"
      ],
      "execution_count": 0,
      "outputs": []
    },
    {
      "metadata": {
        "id": "eg8r8ARt89w3",
        "colab_type": "code",
        "colab": {}
      },
      "cell_type": "code",
      "source": [
        "!ls"
      ],
      "execution_count": 0,
      "outputs": []
    },
    {
      "metadata": {
        "id": "zgPiQOJRMgxt",
        "colab_type": "text"
      },
      "cell_type": "markdown",
      "source": [
        "# Data setup\n",
        "\n",
        "Feature data is created at bert-extract-feature.ipynb."
      ]
    },
    {
      "metadata": {
        "id": "XG9_uLXKMf2t",
        "colab_type": "code",
        "colab": {}
      },
      "cell_type": "code",
      "source": [
        "!mkdir ./bert/data"
      ],
      "execution_count": 0,
      "outputs": []
    },
    {
      "metadata": {
        "id": "j-n-oE9aNPs6",
        "colab_type": "code",
        "colab": {}
      },
      "cell_type": "code",
      "source": [
        "from google.colab import auth\n",
        "auth.authenticate_user()"
      ],
      "execution_count": 0,
      "outputs": []
    },
    {
      "metadata": {
        "id": "2vbfUR8mqm8o",
        "colab_type": "code",
        "colab": {
          "base_uri": "https://localhost:8080/",
          "height": 177
        },
        "outputId": "0f5f27c0-983c-4c28-8537-fac8435c6acc"
      },
      "cell_type": "code",
      "source": [
        "!gsutil cp gs://karino2-uspatent/features/training_app_1000_features.pkl.gz bert/data/training_app_1000_features.pkl.gz\n",
        "!gsutil cp gs://karino2-uspatent/features/test_app_1000_features.pkl.gz bert/data/test_app_1000_features.pkl.gz\n",
        "!gsutil cp gs://karino2-uspatent/features/grants_2000_features.pkl.gz bert/data/grants_2000_features.pkl.gz"
      ],
      "execution_count": 4,
      "outputs": [
        {
          "output_type": "stream",
          "text": [
            "Copying gs://karino2-uspatent/features/training_app_1000_features.pkl.gz...\n",
            "/ [0 files][    0.0 B/  3.1 MiB]                                                \r/ [1 files][  3.1 MiB/  3.1 MiB]                                                \r\n",
            "Operation completed over 1 objects/3.1 MiB.                                      \n",
            "Copying gs://karino2-uspatent/features/test_app_1000_features.pkl.gz...\n",
            "/ [1 files][  3.1 MiB/  3.1 MiB]                                                \n",
            "Operation completed over 1 objects/3.1 MiB.                                      \n",
            "Copying gs://karino2-uspatent/features/grants_2000_features.pkl.gz...\n",
            "/ [1 files][  7.9 MiB/  7.9 MiB]                                                \n",
            "Operation completed over 1 objects/7.9 MiB.                                      \n"
          ],
          "name": "stdout"
        }
      ]
    },
    {
      "metadata": {
        "id": "FYZa2YP2q9bk",
        "colab_type": "code",
        "colab": {
          "base_uri": "https://localhost:8080/",
          "height": 35
        },
        "outputId": "fd2449f9-817b-4be2-f6fa-14123071cdfc"
      },
      "cell_type": "code",
      "source": [
        "with gzip.open(\"./bert/data/training_app_1000_features.pkl.gz\", 'rb') as f:\n",
        "     train_features = pickle.load(f)\n",
        "with gzip.open(\"./bert/data/test_app_1000_features.pkl.gz\", 'rb') as f:\n",
        "     test_features = pickle.load(f)\n",
        "with gzip.open(\"./bert/data/grants_2000_features.pkl.gz\", 'rb') as f:\n",
        "     grants_features = pickle.load(f)\n",
        "print(f\"{train_features.shape}, {test_features.shape}, {grants_features.shape}\")"
      ],
      "execution_count": 5,
      "outputs": [
        {
          "output_type": "stream",
          "text": [
            "(1000, 768), (1000, 768), (2524, 768)\n"
          ],
          "name": "stdout"
        }
      ]
    },
    {
      "metadata": {
        "id": "nN0LX7jKOAdi",
        "colab_type": "code",
        "colab": {}
      },
      "cell_type": "code",
      "source": [
        ""
      ],
      "execution_count": 0,
      "outputs": []
    },
    {
      "metadata": {
        "id": "8vJgj4gZN_-_",
        "colab_type": "code",
        "colab": {}
      },
      "cell_type": "code",
      "source": [
        "!gsutil cp gs://karino2-uspatent/citations_info_2000.df.gz ./bert/data/\n",
        "!gsutil cp gs://karino2-uspatent/testset_app_1000.df.gz ./bert/data/\n",
        "!gsutil cp gs://karino2-uspatent/training_app_1000.df.gz ./bert/data/\n",
        "!gsutil cp gs://karino2-uspatent/grants_for_2000.df.gz ./bert/data/"
      ],
      "execution_count": 0,
      "outputs": []
    },
    {
      "metadata": {
        "id": "CJC9Q6MjOHZN",
        "colab_type": "code",
        "colab": {}
      },
      "cell_type": "code",
      "source": [
        "citations_info_target = pd.read_pickle(\"./bert/data/citations_info_2000.df.gz\")\n",
        "train_app_df = pd.read_pickle(\"./bert/data/training_app_1000.df.gz\")\n",
        "test_app_df = pd.read_pickle(\"./bert/data/testset_app_1000.df.gz\")\n",
        "grants_target_df = pd.read_pickle(\"./bert/data/grants_for_2000.df.gz\")"
      ],
      "execution_count": 0,
      "outputs": []
    },
    {
      "metadata": {
        "id": "dWFm5-TmsBt3",
        "colab_type": "text"
      },
      "cell_type": "markdown",
      "source": [
        "### Prepare data for circulum tripletloss learning"
      ]
    },
    {
      "metadata": {
        "id": "7A_eiPUgsP05",
        "colab_type": "code",
        "colab": {}
      },
      "cell_type": "code",
      "source": [
        "import random\n",
        "import pandas as pd\n",
        "import numpy as np\n",
        "import pickle\n",
        "from collections import OrderedDict"
      ],
      "execution_count": 0,
      "outputs": []
    },
    {
      "metadata": {
        "id": "GLTW2aeSsbsx",
        "colab_type": "code",
        "colab": {}
      },
      "cell_type": "code",
      "source": [
        "train_normalized_feature_dict_1000 = { \n",
        "    k:v/np.linalg.norm(v) for k,v in zip(train_app_df['app_id'], train_features[:, ])\n",
        "}\n",
        "grants_normalized_feature_dict_2000 = { \n",
        "    k:v/np.linalg.norm(v) for k,v in zip(grants_target_df['parsed'], grants_features[:, ])\n",
        "}"
      ],
      "execution_count": 0,
      "outputs": []
    },
    {
      "metadata": {
        "id": "hndwiFKDvOhG",
        "colab_type": "code",
        "colab": {}
      },
      "cell_type": "code",
      "source": [
        ""
      ],
      "execution_count": 0,
      "outputs": []
    },
    {
      "metadata": {
        "id": "_Ar_cx8vvzHu",
        "colab_type": "text"
      },
      "cell_type": "markdown",
      "source": [
        "Confirm result"
      ]
    },
    {
      "metadata": {
        "id": "tU_I9QY0s3vP",
        "colab_type": "code",
        "colab": {
          "base_uri": "https://localhost:8080/",
          "height": 204
        },
        "outputId": "569c7de6-b3b8-4ada-f97a-975263e0234d"
      },
      "cell_type": "code",
      "source": [
        "train_app_df.head()"
      ],
      "execution_count": 19,
      "outputs": [
        {
          "output_type": "execute_result",
          "data": {
            "text/html": [
              "<div>\n",
              "<style scoped>\n",
              "    .dataframe tbody tr th:only-of-type {\n",
              "        vertical-align: middle;\n",
              "    }\n",
              "\n",
              "    .dataframe tbody tr th {\n",
              "        vertical-align: top;\n",
              "    }\n",
              "\n",
              "    .dataframe thead th {\n",
              "        text-align: right;\n",
              "    }\n",
              "</style>\n",
              "<table border=\"1\" class=\"dataframe\">\n",
              "  <thead>\n",
              "    <tr style=\"text-align: right;\">\n",
              "      <th></th>\n",
              "      <th>app_id</th>\n",
              "      <th>xml</th>\n",
              "    </tr>\n",
              "  </thead>\n",
              "  <tbody>\n",
              "    <tr>\n",
              "      <th>0</th>\n",
              "      <td>14222691</td>\n",
              "      <td>&lt;us-patent-application lang=\"EN\" dtd-version=\"...</td>\n",
              "    </tr>\n",
              "    <tr>\n",
              "      <th>1</th>\n",
              "      <td>12515852</td>\n",
              "      <td>&lt;us-patent-application lang=\"EN\" dtd-version=\"...</td>\n",
              "    </tr>\n",
              "    <tr>\n",
              "      <th>2</th>\n",
              "      <td>12033424</td>\n",
              "      <td>&lt;us-patent-application lang=\"EN\" dtd-version=\"...</td>\n",
              "    </tr>\n",
              "    <tr>\n",
              "      <th>3</th>\n",
              "      <td>12402344</td>\n",
              "      <td>&lt;us-patent-application lang=\"EN\" dtd-version=\"...</td>\n",
              "    </tr>\n",
              "    <tr>\n",
              "      <th>4</th>\n",
              "      <td>12155425</td>\n",
              "      <td>&lt;us-patent-application lang=\"EN\" dtd-version=\"...</td>\n",
              "    </tr>\n",
              "  </tbody>\n",
              "</table>\n",
              "</div>"
            ],
            "text/plain": [
              "     app_id                                                xml\n",
              "0  14222691  <us-patent-application lang=\"EN\" dtd-version=\"...\n",
              "1  12515852  <us-patent-application lang=\"EN\" dtd-version=\"...\n",
              "2  12033424  <us-patent-application lang=\"EN\" dtd-version=\"...\n",
              "3  12402344  <us-patent-application lang=\"EN\" dtd-version=\"...\n",
              "4  12155425  <us-patent-application lang=\"EN\" dtd-version=\"..."
            ]
          },
          "metadata": {
            "tags": []
          },
          "execution_count": 19
        }
      ]
    },
    {
      "metadata": {
        "id": "Y2SMA-IzsbXL",
        "colab_type": "code",
        "colab": {
          "base_uri": "https://localhost:8080/",
          "height": 35
        },
        "outputId": "b161f7d2-63df-4740-8e81-9ea36b618e0c"
      },
      "cell_type": "code",
      "source": [
        "train_normalized_feature_dict_1000[14222691][0:5]"
      ],
      "execution_count": 25,
      "outputs": [
        {
          "output_type": "execute_result",
          "data": {
            "text/plain": [
              "array([-0.05969358,  0.05039638, -0.0200557 ,  0.04519269, -0.01494433])"
            ]
          },
          "metadata": {
            "tags": []
          },
          "execution_count": 25
        }
      ]
    },
    {
      "metadata": {
        "id": "eyu9BWGbsbLU",
        "colab_type": "code",
        "colab": {
          "base_uri": "https://localhost:8080/",
          "height": 35
        },
        "outputId": "c2841e0a-43f3-485b-cbd3-afddc1c876a1"
      },
      "cell_type": "code",
      "source": [
        "train_features[0, 0:5]"
      ],
      "execution_count": 26,
      "outputs": [
        {
          "output_type": "execute_result",
          "data": {
            "text/plain": [
              "array([-1.04389739,  0.88131171, -0.35072595,  0.79031169, -0.26134047])"
            ]
          },
          "metadata": {
            "tags": []
          },
          "execution_count": 26
        }
      ]
    },
    {
      "metadata": {
        "id": "xXSIuCVssPms",
        "colab_type": "code",
        "colab": {
          "base_uri": "https://localhost:8080/",
          "height": 35
        },
        "outputId": "84978671-a38d-4243-c11e-6f6f8c0e4433"
      },
      "cell_type": "code",
      "source": [
        "(train_features[0, ]/np.linalg.norm(train_features[0, ]))[0:5]"
      ],
      "execution_count": 28,
      "outputs": [
        {
          "output_type": "execute_result",
          "data": {
            "text/plain": [
              "array([-0.05969358,  0.05039638, -0.0200557 ,  0.04519269, -0.01494433])"
            ]
          },
          "metadata": {
            "tags": []
          },
          "execution_count": 28
        }
      ]
    },
    {
      "metadata": {
        "id": "mIsny0ywuvls",
        "colab_type": "code",
        "colab": {}
      },
      "cell_type": "code",
      "source": [
        ""
      ],
      "execution_count": 0,
      "outputs": []
    },
    {
      "metadata": {
        "id": "c0AeEoEuv5fa",
        "colab_type": "text"
      },
      "cell_type": "markdown",
      "source": [
        "### Calculate cosin similarity for whole pair"
      ]
    },
    {
      "metadata": {
        "id": "eEZLegMiuvXV",
        "colab_type": "code",
        "colab": {
          "base_uri": "https://localhost:8080/",
          "height": 53
        },
        "outputId": "94767650-13b8-43c7-f5c9-2e28bf80c07e"
      },
      "cell_type": "code",
      "source": [
        "%%time\n",
        "\n",
        "sim_dict = {\n",
        "    app_id:{ parsed:np.sum(train_normalized_feature_dict_1000[app_id]*grants_normalized_feature_dict_2000[parsed])\n",
        "            for parsed \n",
        "            in grants_target_df['parsed'] } \n",
        "    for app_id \n",
        "    in train_app_df['app_id']\n",
        "}"
      ],
      "execution_count": 45,
      "outputs": [
        {
          "output_type": "stream",
          "text": [
            "CPU times: user 13.6 s, sys: 146 ms, total: 13.7 s\n",
            "Wall time: 13.8 s\n"
          ],
          "name": "stdout"
        }
      ]
    },
    {
      "metadata": {
        "id": "yIbbfsumyKvk",
        "colab_type": "text"
      },
      "cell_type": "markdown",
      "source": [
        "check result"
      ]
    },
    {
      "metadata": {
        "id": "H3bnxJ05ujXR",
        "colab_type": "code",
        "colab": {
          "base_uri": "https://localhost:8080/",
          "height": 35
        },
        "outputId": "113f5eaa-ef91-4c07-e921-63d3d0d30b37"
      },
      "cell_type": "code",
      "source": [
        "list(sim_dict.keys())[0]"
      ],
      "execution_count": 32,
      "outputs": [
        {
          "output_type": "execute_result",
          "data": {
            "text/plain": [
              "14222691"
            ]
          },
          "metadata": {
            "tags": []
          },
          "execution_count": 32
        }
      ]
    },
    {
      "metadata": {
        "id": "uW68YsdVujKt",
        "colab_type": "code",
        "colab": {
          "base_uri": "https://localhost:8080/",
          "height": 106
        },
        "outputId": "1867179c-6deb-4928-f31c-242794d23303"
      },
      "cell_type": "code",
      "source": [
        "sorted( sim_dict[12411468].values(), reverse=True )[:5]"
      ],
      "execution_count": 46,
      "outputs": [
        {
          "output_type": "execute_result",
          "data": {
            "text/plain": [
              "[0.8536353801810572,\n",
              " 0.8500573288849081,\n",
              " 0.8478197928831097,\n",
              " 0.8464742417020769,\n",
              " 0.8457543474536907]"
            ]
          },
          "metadata": {
            "tags": []
          },
          "execution_count": 46
        }
      ]
    },
    {
      "metadata": {
        "id": "35ytFSXHui9X",
        "colab_type": "code",
        "colab": {
          "base_uri": "https://localhost:8080/",
          "height": 70
        },
        "outputId": "d21c3999-ade5-4908-f811-9f517e6230a2"
      },
      "cell_type": "code",
      "source": [
        "citations_info_target[citations_info_target.app_id == 12411468].parsed"
      ],
      "execution_count": 36,
      "outputs": [
        {
          "output_type": "execute_result",
          "data": {
            "text/plain": [
              "4089    7061154\n",
              "4090    7061154\n",
              "Name: parsed, dtype: int64"
            ]
          },
          "metadata": {
            "tags": []
          },
          "execution_count": 36
        }
      ]
    },
    {
      "metadata": {
        "id": "uGJxsb0VwsM1",
        "colab_type": "code",
        "colab": {
          "base_uri": "https://localhost:8080/",
          "height": 35
        },
        "outputId": "cdfc4391-5539-4b28-e60e-6555c8c884d9"
      },
      "cell_type": "code",
      "source": [
        "grants_target_df[grants_target_df.parsed == 7061154].index[0]"
      ],
      "execution_count": 44,
      "outputs": [
        {
          "output_type": "execute_result",
          "data": {
            "text/plain": [
              "540"
            ]
          },
          "metadata": {
            "tags": []
          },
          "execution_count": 44
        }
      ]
    },
    {
      "metadata": {
        "id": "AAfrzulcuivm",
        "colab_type": "code",
        "colab": {
          "base_uri": "https://localhost:8080/",
          "height": 35
        },
        "outputId": "f47a5612-adda-4f99-d324-2c6fdbdd1c2d"
      },
      "cell_type": "code",
      "source": [
        "list(sim_dict[12411468].values())[540]"
      ],
      "execution_count": 45,
      "outputs": [
        {
          "output_type": "execute_result",
          "data": {
            "text/plain": [
              "0.8435186037581648"
            ]
          },
          "metadata": {
            "tags": []
          },
          "execution_count": 45
        }
      ]
    },
    {
      "metadata": {
        "id": "CXwNegmAwrkY",
        "colab_type": "code",
        "colab": {
          "base_uri": "https://localhost:8080/",
          "height": 35
        },
        "outputId": "b97de8ac-17c0-4c7e-e2f4-355b7313c8ae"
      },
      "cell_type": "code",
      "source": [
        "sorted( sim_dict[12411468].values(), reverse=True ).index(0.8435186037581648)"
      ],
      "execution_count": 47,
      "outputs": [
        {
          "output_type": "execute_result",
          "data": {
            "text/plain": [
              "7"
            ]
          },
          "metadata": {
            "tags": []
          },
          "execution_count": 47
        }
      ]
    },
    {
      "metadata": {
        "id": "EfJ1xcBpyN7P",
        "colab_type": "code",
        "colab": {}
      },
      "cell_type": "code",
      "source": [
        ""
      ],
      "execution_count": 0,
      "outputs": []
    },
    {
      "metadata": {
        "id": "P4GO6YaGzHLz",
        "colab_type": "text"
      },
      "cell_type": "markdown",
      "source": [
        "### Create triplet"
      ]
    },
    {
      "metadata": {
        "id": "OpeKrCykyNt9",
        "colab_type": "code",
        "colab": {}
      },
      "cell_type": "code",
      "source": [
        "def sort_similarity_by_value(sim_dict, app_id):\n",
        "    '''\n",
        "    input:\n",
        "        sim_dict: similary dictionary\n",
        "        app_id: target application id\n",
        "    return:\n",
        "        [(parsed1, sim1), (parsed2, sim2), ...] sorted by similarities\n",
        "    '''\n",
        "    return [(parsed, sim_dict[app_id][parsed]) for parsed in sorted(sim_dict[app_id], key=sim_dict[app_id].get)]\n",
        "  \n",
        "  \n",
        "def get_cited_grants(citations_info_target, app_id):\n",
        "    '''\n",
        "    input:\n",
        "        citations_info_target: DataFrame of citation relationships\n",
        "        app_id: target application id\n",
        "    return:\n",
        "        {parsed1, parsed2, ...} that are cited to reject app_id\n",
        "    '''\n",
        "    return set(citations_info_target[citations_info_target['app_id'] == app_id]['parsed'])\n",
        "  \n",
        "def make_uncited_grants_for_app_id(sim_dict, citations_info_target, app_id, sidx, eidx, num, shuffle=True):\n",
        "    '''\n",
        "    input:\n",
        "        sim_dict: \n",
        "        citations_info_target:\n",
        "        app_id: target application id\n",
        "        sidx: start index to slice the sorted (parsed, sim) list\n",
        "        eidx: end index to slice the sorted (parsed, sim) list\n",
        "        num: number of grants that will be returned\n",
        "    return:\n",
        "        [parsed_1, parsed_2, ..., parsed_num] that are NOT cited to reject app_id\n",
        "    '''\n",
        "    sorted_grants_list = sort_similarity_by_value(sim_dict, app_id)\n",
        "    sorted_grants_list = sorted_grants_list[sidx:eidx]\n",
        "    if shuffle:\n",
        "        random.shuffle(sorted_grants_list)\n",
        "    \n",
        "    cited_grants = get_cited_grants(citations_info_target, app_id)\n",
        "    uncited_grants = []\n",
        "    \n",
        "    idx = 0\n",
        "    while len(uncited_grants) != num:\n",
        "        grant_id, _ = sorted_grants_list[idx]\n",
        "        if not grant_id in cited_grants:\n",
        "            uncited_grants.append(grant_id)\n",
        "        idx += 1\n",
        "    \n",
        "    return uncited_grants  "
      ],
      "execution_count": 0,
      "outputs": []
    },
    {
      "metadata": {
        "id": "bGzU19OxyNhR",
        "colab_type": "code",
        "colab": {
          "base_uri": "https://localhost:8080/",
          "height": 35
        },
        "outputId": "6a5f713e-d176-4f38-f320-36600ea6ddee"
      },
      "cell_type": "code",
      "source": [
        "random.seed(0)\n",
        "make_uncited_grants_for_app_id(sim_dict, citations_info_target, 12411468, 0, 100, 4)"
      ],
      "execution_count": 11,
      "outputs": [
        {
          "output_type": "execute_result",
          "data": {
            "text/plain": [
              "[7196326, 6979916, 6971650, 6899075]"
            ]
          },
          "metadata": {
            "tags": []
          },
          "execution_count": 11
        }
      ]
    },
    {
      "metadata": {
        "id": "ftq7k1HgwrVR",
        "colab_type": "code",
        "colab": {
          "base_uri": "https://localhost:8080/",
          "height": 35
        },
        "outputId": "2d4adb65-fc53-4c5a-eb46-3df11c7f823b"
      },
      "cell_type": "code",
      "source": [
        "random.seed(1)\n",
        "make_uncited_grants_for_app_id(sim_dict, citations_info_target, 12411468, 0, 100, 4)"
      ],
      "execution_count": 50,
      "outputs": [
        {
          "output_type": "execute_result",
          "data": {
            "text/plain": [
              "[7108673, 7846876, 7168415, 7052189]"
            ]
          },
          "metadata": {
            "tags": []
          },
          "execution_count": 50
        }
      ]
    },
    {
      "metadata": {
        "id": "YEPiNKegzmvp",
        "colab_type": "code",
        "colab": {}
      },
      "cell_type": "code",
      "source": [
        "def create_triplet_pairs(sidx, eidx):\n",
        "    all_elems = []\n",
        "    \n",
        "    for app_id in train_app_df['app_id']:\n",
        "        cited_grants = get_cited_grants(citations_info_target, app_id)\n",
        "        num_cited_grants = len(cited_grants)\n",
        "        uncited_grants = make_uncited_grants_for_app_id(\n",
        "            sim_dict, citations_info_target, app_id, sidx, eidx, num_cited_grants)\n",
        "        \n",
        "        for idx, cited in enumerate(cited_grants):\n",
        "            all_elems.append([app_id, cited, uncited_grants[idx]])\n",
        "    \n",
        "    result_df = pd.DataFrame(all_elems)\n",
        "    result_df.columns = ['app_id', 'cited_grants', 'uncited_grants']\n",
        "    \n",
        "    return result_df"
      ],
      "execution_count": 0,
      "outputs": []
    },
    {
      "metadata": {
        "id": "1C89LGfRzmi_",
        "colab_type": "code",
        "colab": {
          "base_uri": "https://localhost:8080/",
          "height": 53
        },
        "outputId": "0a4ccd73-03fd-4423-82e8-b9dc301bab96"
      },
      "cell_type": "code",
      "source": [
        "%%time\n",
        "\n",
        "random.seed(0)\n",
        "test = create_triplet_pairs(0, 100)"
      ],
      "execution_count": 53,
      "outputs": [
        {
          "output_type": "stream",
          "text": [
            "CPU times: user 3.19 s, sys: 4.85 ms, total: 3.2 s\n",
            "Wall time: 3.19 s\n"
          ],
          "name": "stdout"
        }
      ]
    },
    {
      "metadata": {
        "id": "yU9Cdwr6zmWW",
        "colab_type": "code",
        "colab": {
          "base_uri": "https://localhost:8080/",
          "height": 111
        },
        "outputId": "ac5121ef-0ae0-451d-d54e-6347baf417ee"
      },
      "cell_type": "code",
      "source": [
        "test.head(2)"
      ],
      "execution_count": 54,
      "outputs": [
        {
          "output_type": "execute_result",
          "data": {
            "text/html": [
              "<div>\n",
              "<style scoped>\n",
              "    .dataframe tbody tr th:only-of-type {\n",
              "        vertical-align: middle;\n",
              "    }\n",
              "\n",
              "    .dataframe tbody tr th {\n",
              "        vertical-align: top;\n",
              "    }\n",
              "\n",
              "    .dataframe thead th {\n",
              "        text-align: right;\n",
              "    }\n",
              "</style>\n",
              "<table border=\"1\" class=\"dataframe\">\n",
              "  <thead>\n",
              "    <tr style=\"text-align: right;\">\n",
              "      <th></th>\n",
              "      <th>app_id</th>\n",
              "      <th>cited_grants</th>\n",
              "      <th>uncited_grants</th>\n",
              "    </tr>\n",
              "  </thead>\n",
              "  <tbody>\n",
              "    <tr>\n",
              "      <th>0</th>\n",
              "      <td>14222691</td>\n",
              "      <td>8206188</td>\n",
              "      <td>7474966</td>\n",
              "    </tr>\n",
              "    <tr>\n",
              "      <th>1</th>\n",
              "      <td>14222691</td>\n",
              "      <td>8177561</td>\n",
              "      <td>6925385</td>\n",
              "    </tr>\n",
              "  </tbody>\n",
              "</table>\n",
              "</div>"
            ],
            "text/plain": [
              "     app_id  cited_grants  uncited_grants\n",
              "0  14222691       8206188         7474966\n",
              "1  14222691       8177561         6925385"
            ]
          },
          "metadata": {
            "tags": []
          },
          "execution_count": 54
        }
      ]
    },
    {
      "metadata": {
        "id": "3s9hVnI9zmJw",
        "colab_type": "code",
        "colab": {
          "base_uri": "https://localhost:8080/",
          "height": 35
        },
        "outputId": "061ab416-36f1-4656-e25a-d6a2debd5a1e"
      },
      "cell_type": "code",
      "source": [
        "len(test)"
      ],
      "execution_count": 55,
      "outputs": [
        {
          "output_type": "execute_result",
          "data": {
            "text/plain": [
              "1282"
            ]
          },
          "metadata": {
            "tags": []
          },
          "execution_count": 55
        }
      ]
    },
    {
      "metadata": {
        "id": "ynE27ArPz8Qi",
        "colab_type": "code",
        "colab": {}
      },
      "cell_type": "code",
      "source": [
        "random.seed(1)\n",
        "test = create_triplet_pairs(0, 100)"
      ],
      "execution_count": 0,
      "outputs": []
    },
    {
      "metadata": {
        "id": "Raov55VGz8DA",
        "colab_type": "code",
        "colab": {
          "base_uri": "https://localhost:8080/",
          "height": 111
        },
        "outputId": "738cfb06-33db-4ebe-d344-0299b35ecf8d"
      },
      "cell_type": "code",
      "source": [
        "test.head(2)"
      ],
      "execution_count": 57,
      "outputs": [
        {
          "output_type": "execute_result",
          "data": {
            "text/html": [
              "<div>\n",
              "<style scoped>\n",
              "    .dataframe tbody tr th:only-of-type {\n",
              "        vertical-align: middle;\n",
              "    }\n",
              "\n",
              "    .dataframe tbody tr th {\n",
              "        vertical-align: top;\n",
              "    }\n",
              "\n",
              "    .dataframe thead th {\n",
              "        text-align: right;\n",
              "    }\n",
              "</style>\n",
              "<table border=\"1\" class=\"dataframe\">\n",
              "  <thead>\n",
              "    <tr style=\"text-align: right;\">\n",
              "      <th></th>\n",
              "      <th>app_id</th>\n",
              "      <th>cited_grants</th>\n",
              "      <th>uncited_grants</th>\n",
              "    </tr>\n",
              "  </thead>\n",
              "  <tbody>\n",
              "    <tr>\n",
              "      <th>0</th>\n",
              "      <td>14222691</td>\n",
              "      <td>8206188</td>\n",
              "      <td>6977086</td>\n",
              "    </tr>\n",
              "    <tr>\n",
              "      <th>1</th>\n",
              "      <td>14222691</td>\n",
              "      <td>8177561</td>\n",
              "      <td>7252786</td>\n",
              "    </tr>\n",
              "  </tbody>\n",
              "</table>\n",
              "</div>"
            ],
            "text/plain": [
              "     app_id  cited_grants  uncited_grants\n",
              "0  14222691       8206188         6977086\n",
              "1  14222691       8177561         7252786"
            ]
          },
          "metadata": {
            "tags": []
          },
          "execution_count": 57
        }
      ]
    },
    {
      "metadata": {
        "id": "PqhWQidSz704",
        "colab_type": "code",
        "colab": {}
      },
      "cell_type": "code",
      "source": [
        ""
      ],
      "execution_count": 0,
      "outputs": []
    },
    {
      "metadata": {
        "id": "WqN4jnd80EqV",
        "colab_type": "text"
      },
      "cell_type": "markdown",
      "source": [
        "### Train Model"
      ]
    },
    {
      "metadata": {
        "id": "-hGgEJh31QhD",
        "colab_type": "code",
        "colab": {
          "base_uri": "https://localhost:8080/",
          "height": 35
        },
        "outputId": "6f118066-bd1a-4b95-a9fe-f812cb734fca"
      },
      "cell_type": "code",
      "source": [
        "tf.executing_eagerly() "
      ],
      "execution_count": 13,
      "outputs": [
        {
          "output_type": "execute_result",
          "data": {
            "text/plain": [
              "True"
            ]
          },
          "metadata": {
            "tags": []
          },
          "execution_count": 13
        }
      ]
    },
    {
      "metadata": {
        "id": "1VelgDe01C1L",
        "colab_type": "code",
        "colab": {}
      },
      "cell_type": "code",
      "source": [
        "class Model(object):\n",
        "    def __init__(self, input_shape, output_shape):\n",
        "        self.input_shape = input_shape\n",
        "        self.output_shape = output_shape\n",
        "        self.W = tf.Variable( tf.random_normal( [self.input_shape, self.output_shape] ), name='weight' )\n",
        "        self.B = tf.Variable( tf.random_normal( [self.output_shape] ), name='bias' ) \n",
        "        self.variables = [ self.W, self.B ]\n",
        "    \n",
        "    def frwrd_pass(self,X_train):\n",
        "        out = tf.matmul( X_train, self.W ) + self.B\n",
        "        \n",
        "        return out"
      ],
      "execution_count": 0,
      "outputs": []
    },
    {
      "metadata": {
        "id": "4h9wPncs1Cpf",
        "colab_type": "code",
        "colab": {}
      },
      "cell_type": "code",
      "source": [
        "def tripletloss(anchor_out, positive_out, negative_out, margin=0.2):\n",
        "    norm_a_out = tf.nn.l2_normalize(anchor_out, axis=1)\n",
        "    norm_p_out = tf.nn.l2_normalize(positive_out, axis=1)\n",
        "    norm_n_out = tf.nn.l2_normalize(negative_out, axis=1)\n",
        "    \n",
        "    d_pos = tf.losses.cosine_distance(norm_a_out, norm_p_out, axis=1)\n",
        "    d_neg = tf.losses.cosine_distance(norm_a_out, norm_n_out, axis=1)\n",
        "    \n",
        "    loss = tf.maximum(0.0, margin + d_pos - d_neg)\n",
        "    \n",
        "    return tf.reduce_mean(loss)"
      ],
      "execution_count": 0,
      "outputs": []
    },
    {
      "metadata": {
        "id": "dgI3lw1i1CdO",
        "colab_type": "code",
        "colab": {}
      },
      "cell_type": "code",
      "source": [
        "def create_training_input_np(sidx, eidx):\n",
        "    anchor_list = []\n",
        "    positive_list = []\n",
        "    negative_list = []\n",
        "    \n",
        "    triplet_pairs = create_triplet_pairs(sidx, eidx)\n",
        "    \n",
        "    for row in triplet_pairs.itertuples():\n",
        "        anchor_list.append(train_normalized_feature_dict_1000[row.app_id])\n",
        "        positive_list.append(grants_normalized_feature_dict_2000[row.cited_grants])\n",
        "        negative_list.append(grants_normalized_feature_dict_2000[row.uncited_grants])\n",
        "    \n",
        "    return np.array([np.array(anchor_list), np.array(positive_list), np.array(negative_list)])"
      ],
      "execution_count": 0,
      "outputs": []
    },
    {
      "metadata": {
        "id": "8iU2l1qPzl9F",
        "colab_type": "code",
        "colab": {}
      },
      "cell_type": "code",
      "source": [
        "def train_with_changing_negative_pair(sidx, eidx, batch_size, epochs):\n",
        "    optimizer = tf.train.AdamOptimizer(learning_rate=0.00001)\n",
        "    \n",
        "    seed = 0\n",
        "    for i in range(epochs):\n",
        "        seed += 1\n",
        "        random.seed(seed)\n",
        "        \n",
        "        input_data_np = create_training_input_np(sidx, eidx)\n",
        "        data_num = int(input_data_np.shape[1])\n",
        "        rand_idx = np.random.permutation(data_num)\n",
        "        index_data_np = np.array([\n",
        "            input_data_np[0][rand_idx], \n",
        "            input_data_np[1][rand_idx], \n",
        "            input_data_np[2][rand_idx]])\n",
        "\n",
        "        input_data = tf.convert_to_tensor(input_data_np, dtype=tf.float32)\n",
        "        anchor_data, positive_data, negative_data = input_data\n",
        "\n",
        "        for iter_id in range(data_num // batch_size):        \n",
        "            with tf.GradientTape() as tape:\n",
        "                anchor_out = model.frwrd_pass(anchor_data[iter_id*batch_size : (iter_id+1)*batch_size])\n",
        "                positive_out = model.frwrd_pass(positive_data[iter_id*batch_size : (iter_id+1)*batch_size])\n",
        "                negative_out = model.frwrd_pass(negative_data[iter_id*batch_size : (iter_id+1)*batch_size])\n",
        "                curr_loss = tripletloss(anchor_out, positive_out, negative_out)\n",
        "            grads = tape.gradient( curr_loss, model.variables )\n",
        "            optimizer.apply_gradients(zip(grads, model.variables), global_step=tf.train.get_or_create_global_step())\n",
        "\n",
        "        if i % 10 == 0:\n",
        "            print( \"Loss at step {:d}: {:.5f}\".format(i, curr_loss) )"
      ],
      "execution_count": 0,
      "outputs": []
    },
    {
      "metadata": {
        "id": "RlOvi43XsPYq",
        "colab_type": "code",
        "colab": {}
      },
      "cell_type": "code",
      "source": [
        "# start_end_index_pairs = (\n",
        "#     (0, 100),\n",
        "#     (100, 200),\n",
        "#     (200, 300),\n",
        "#     (300, 400),\n",
        "#     (400, 500),\n",
        "#     (500, 600),\n",
        "#     (600, 700),\n",
        "#     (700, 800),\n",
        "#     (800, 900),\n",
        "#     (900, 1000),\n",
        "#     (1000, 1100),\n",
        "#     (1100, 1200),\n",
        "#     (1200, 1300),\n",
        "#     (1300, 1400),\n",
        "#     (1400, 1500),\n",
        "#     (1500, 1600),\n",
        "#     (1600, 1700),\n",
        "#     (1700, 1800),\n",
        "#     (1800, 1900),\n",
        "#     (1900, 2000)\n",
        "# )\n",
        "\n",
        "# start_end_index_pairs = (\n",
        "#     (0, 400),\n",
        "#     (400, 800),\n",
        "#     (800, 1200),\n",
        "#     (1200, 1600),\n",
        "#     (1600, 2000)\n",
        "# )\n",
        "\n",
        "start_end_index_pairs = (\n",
        "    (0, 100),\n",
        "    (900, 1000),\n",
        "    (1900, 2000)\n",
        ")"
      ],
      "execution_count": 0,
      "outputs": []
    },
    {
      "metadata": {
        "id": "M3pIAQlE1vaD",
        "colab_type": "code",
        "colab": {}
      },
      "cell_type": "code",
      "source": [
        "model = Model(input_shape=768, output_shape=100)"
      ],
      "execution_count": 0,
      "outputs": []
    },
    {
      "metadata": {
        "id": "HkQpJDgz1y24",
        "colab_type": "code",
        "colab": {
          "base_uri": "https://localhost:8080/",
          "height": 393
        },
        "outputId": "1d5173a1-db37-47dc-bf82-3b13eb2683d6"
      },
      "cell_type": "code",
      "source": [
        "%%time\n",
        "\n",
        "# for sidx, eidx in start_end_index_pairs:\n",
        "#     print(\"   start index: {}, end index: {}\".format(sidx,eidx))\n",
        "#     train_with_changing_negative_pair(sidx, eidx, batch_size=10, epochs=31)\n",
        "\n",
        "# for sidx, eidx in start_end_index_pairs:\n",
        "#     print(\"   start index: {}, end index: {}\".format(sidx,eidx))\n",
        "#     train_with_changing_negative_pair(sidx, eidx, batch_size=10, epochs=51)\n",
        "\n",
        "for sidx, eidx in start_end_index_pairs:\n",
        "    print(\"   start index: {}, end index: {}\".format(sidx,eidx))\n",
        "    train_with_changing_negative_pair(sidx, eidx, batch_size=10, epochs=21)"
      ],
      "execution_count": 20,
      "outputs": [
        {
          "output_type": "stream",
          "text": [
            "   start index: 0, end index: 100\n",
            "WARNING:tensorflow:From /usr/local/lib/python3.6/dist-packages/tensorflow/python/ops/resource_variable_ops.py:642: colocate_with (from tensorflow.python.framework.ops) is deprecated and will be removed in a future version.\n",
            "Instructions for updating:\n",
            "Colocations handled automatically by placer.\n",
            "WARNING:tensorflow:From /usr/local/lib/python3.6/dist-packages/tensorflow/python/ops/losses/losses_impl.py:331: to_float (from tensorflow.python.ops.math_ops) is deprecated and will be removed in a future version.\n",
            "Instructions for updating:\n",
            "Use tf.cast instead.\n",
            "Loss at step 0: 0.02995\n",
            "Loss at step 10: 0.00330\n",
            "Loss at step 20: 0.00000\n",
            "   start index: 900, end index: 1000\n",
            "Loss at step 0: 0.12552\n",
            "Loss at step 10: 0.07029\n",
            "Loss at step 20: 0.05886\n",
            "   start index: 1900, end index: 2000\n",
            "Loss at step 0: 0.10404\n",
            "Loss at step 10: 0.08103\n",
            "Loss at step 20: 0.05531\n",
            "CPU times: user 4min 53s, sys: 4.54 s, total: 4min 57s\n",
            "Wall time: 4min 42s\n"
          ],
          "name": "stdout"
        }
      ]
    },
    {
      "metadata": {
        "id": "WI6LMuKq3Jfu",
        "colab_type": "code",
        "colab": {
          "base_uri": "https://localhost:8080/",
          "height": 88
        },
        "outputId": "b41c379d-f466-4945-dfa4-f136e2abc6e9"
      },
      "cell_type": "code",
      "source": [
        "sidx, eidx = 1900, 2000\n",
        "print(\"   start index: {}, end index: {}\".format(sidx,eidx))\n",
        "train_with_changing_negative_pair(sidx, eidx, batch_size=10, epochs=21)"
      ],
      "execution_count": 21,
      "outputs": [
        {
          "output_type": "stream",
          "text": [
            "   start index: 1900, end index: 2000\n",
            "Loss at step 0: 0.02760\n",
            "Loss at step 10: 0.00558\n",
            "Loss at step 20: 0.00000\n"
          ],
          "name": "stdout"
        }
      ]
    },
    {
      "metadata": {
        "id": "XKrHg1HB3JTb",
        "colab_type": "code",
        "colab": {}
      },
      "cell_type": "code",
      "source": [
        ""
      ],
      "execution_count": 0,
      "outputs": []
    },
    {
      "metadata": {
        "id": "F1pQLCud3JGs",
        "colab_type": "code",
        "colab": {}
      },
      "cell_type": "code",
      "source": [
        ""
      ],
      "execution_count": 0,
      "outputs": []
    },
    {
      "metadata": {
        "id": "qwrpG0hx1ynm",
        "colab_type": "code",
        "colab": {
          "base_uri": "https://localhost:8080/",
          "height": 73
        },
        "outputId": "7324e6b0-3b75-477e-bc32-d086de073ad2"
      },
      "cell_type": "code",
      "source": [
        "os.makedirs('../trained_model/tripletloss_circulum', exist_ok=True)\n",
        "saver = tf.contrib.eager.Saver(model.variables)\n",
        "saver.save(\"../trained_model/tripletloss_circulum/ckpt\")"
      ],
      "execution_count": 23,
      "outputs": [
        {
          "output_type": "stream",
          "text": [
            "WARNING:tensorflow:Saver is deprecated, please switch to tf.train.Checkpoint or tf.keras.Model.save_weights for training checkpoints. When executing eagerly variables do not necessarily have unique names, and so the variable.name-based lookups Saver performs are error-prone.\n"
          ],
          "name": "stdout"
        },
        {
          "output_type": "execute_result",
          "data": {
            "text/plain": [
              "'../trained_model/tripletloss_circulum/ckpt'"
            ]
          },
          "metadata": {
            "tags": []
          },
          "execution_count": 23
        }
      ]
    },
    {
      "metadata": {
        "id": "P-UtLTS11vNJ",
        "colab_type": "code",
        "colab": {}
      },
      "cell_type": "code",
      "source": [
        ""
      ],
      "execution_count": 0,
      "outputs": []
    },
    {
      "metadata": {
        "id": "I8nUhLAs1vA9",
        "colab_type": "code",
        "colab": {}
      },
      "cell_type": "code",
      "source": [
        ""
      ],
      "execution_count": 0,
      "outputs": []
    },
    {
      "metadata": {
        "id": "CB09kp2H4xtx",
        "colab_type": "text"
      },
      "cell_type": "markdown",
      "source": [
        "### Inferece with trained model\n",
        "\n",
        "Saver seems fragile in eager mode. I use trained model on memory."
      ]
    },
    {
      "metadata": {
        "id": "3d7P3_KX5KKR",
        "colab_type": "code",
        "colab": {}
      },
      "cell_type": "code",
      "source": [
        "test_normalized_feature_dict_1000 = { \n",
        "    k:v/np.linalg.norm(v) for k,v in zip(test_app_df['app_id'], test_features[:, ])\n",
        "}\n"
      ],
      "execution_count": 0,
      "outputs": []
    },
    {
      "metadata": {
        "id": "FpN9LLL51u0I",
        "colab_type": "code",
        "colab": {}
      },
      "cell_type": "code",
      "source": [
        "sorted_keys = sorted(test_normalized_feature_dict_1000.keys())\n",
        "\n",
        "test_feature_tensors = tf.convert_to_tensor(\n",
        "    np.array([ test_normalized_feature_dict_1000[k] for k in sorted_keys ]),\n",
        "    dtype=tf.float32)"
      ],
      "execution_count": 0,
      "outputs": []
    },
    {
      "metadata": {
        "id": "IKPlgQET5RC2",
        "colab_type": "code",
        "colab": {}
      },
      "cell_type": "code",
      "source": [
        "test_extracted_features = model.frwrd_pass(test_feature_tensors).numpy()"
      ],
      "execution_count": 0,
      "outputs": []
    },
    {
      "metadata": {
        "id": "l1IN6TJa5UvD",
        "colab_type": "code",
        "colab": {
          "base_uri": "https://localhost:8080/",
          "height": 35
        },
        "outputId": "73fdcd06-476b-4244-a01f-806e2a3659b4"
      },
      "cell_type": "code",
      "source": [
        "test_extracted_features.shape"
      ],
      "execution_count": 27,
      "outputs": [
        {
          "output_type": "execute_result",
          "data": {
            "text/plain": [
              "(1000, 100)"
            ]
          },
          "metadata": {
            "tags": []
          },
          "execution_count": 27
        }
      ]
    },
    {
      "metadata": {
        "id": "K4XvUKQ35YFi",
        "colab_type": "code",
        "colab": {}
      },
      "cell_type": "code",
      "source": [
        "test_extracted_features_df = pd.DataFrame({ \n",
        "    'app_id':sorted_keys, 'extracted_feature':[ v/np.linalg.norm(v) for v in test_extracted_features ]\n",
        "})"
      ],
      "execution_count": 0,
      "outputs": []
    },
    {
      "metadata": {
        "id": "IjjVKmHZ5X3m",
        "colab_type": "code",
        "colab": {
          "base_uri": "https://localhost:8080/",
          "height": 111
        },
        "outputId": "f8176a12-bbcf-471c-a6e1-67da156f0ed0"
      },
      "cell_type": "code",
      "source": [
        "test_extracted_features_df.head(2)"
      ],
      "execution_count": 29,
      "outputs": [
        {
          "output_type": "execute_result",
          "data": {
            "text/html": [
              "<div>\n",
              "<style scoped>\n",
              "    .dataframe tbody tr th:only-of-type {\n",
              "        vertical-align: middle;\n",
              "    }\n",
              "\n",
              "    .dataframe tbody tr th {\n",
              "        vertical-align: top;\n",
              "    }\n",
              "\n",
              "    .dataframe thead th {\n",
              "        text-align: right;\n",
              "    }\n",
              "</style>\n",
              "<table border=\"1\" class=\"dataframe\">\n",
              "  <thead>\n",
              "    <tr style=\"text-align: right;\">\n",
              "      <th></th>\n",
              "      <th>app_id</th>\n",
              "      <th>extracted_feature</th>\n",
              "    </tr>\n",
              "  </thead>\n",
              "  <tbody>\n",
              "    <tr>\n",
              "      <th>0</th>\n",
              "      <td>12000862</td>\n",
              "      <td>[-0.018699147, 0.022539414, 0.08703015, -0.094...</td>\n",
              "    </tr>\n",
              "    <tr>\n",
              "      <th>1</th>\n",
              "      <td>12003258</td>\n",
              "      <td>[0.11247784, 0.027767131, 0.012807915, 0.21946...</td>\n",
              "    </tr>\n",
              "  </tbody>\n",
              "</table>\n",
              "</div>"
            ],
            "text/plain": [
              "     app_id                                  extracted_feature\n",
              "0  12000862  [-0.018699147, 0.022539414, 0.08703015, -0.094...\n",
              "1  12003258  [0.11247784, 0.027767131, 0.012807915, 0.21946..."
            ]
          },
          "metadata": {
            "tags": []
          },
          "execution_count": 29
        }
      ]
    },
    {
      "metadata": {
        "id": "IsURFt835Xpf",
        "colab_type": "code",
        "colab": {}
      },
      "cell_type": "code",
      "source": [
        "sorted_keys = sorted(grants_normalized_feature_dict_2000.keys())\n",
        "\n",
        "grants_feature_tensors = tf.convert_to_tensor(\n",
        "    np.array([ grants_normalized_feature_dict_2000[k] for k in sorted_keys ]),\n",
        "    dtype=tf.float32)"
      ],
      "execution_count": 0,
      "outputs": []
    },
    {
      "metadata": {
        "id": "kCnRgw-P5UhM",
        "colab_type": "code",
        "colab": {}
      },
      "cell_type": "code",
      "source": [
        "grants_extracted_features = model.frwrd_pass(grants_feature_tensors).numpy()"
      ],
      "execution_count": 0,
      "outputs": []
    },
    {
      "metadata": {
        "id": "bMAXr9LI5USh",
        "colab_type": "code",
        "colab": {
          "base_uri": "https://localhost:8080/",
          "height": 35
        },
        "outputId": "3e4fdb5a-ab5e-4356-85e9-75cafb0264fd"
      },
      "cell_type": "code",
      "source": [
        "grants_extracted_features.shape"
      ],
      "execution_count": 32,
      "outputs": [
        {
          "output_type": "execute_result",
          "data": {
            "text/plain": [
              "(2524, 100)"
            ]
          },
          "metadata": {
            "tags": []
          },
          "execution_count": 32
        }
      ]
    },
    {
      "metadata": {
        "id": "xKV7-XXL6B55",
        "colab_type": "code",
        "colab": {}
      },
      "cell_type": "code",
      "source": [
        "grants_extracted_features_df = pd.DataFrame({ \n",
        "    'parsed':sorted_keys, 'extracted_feature':[ v/np.linalg.norm(v) for v in grants_extracted_features ]\n",
        "})"
      ],
      "execution_count": 0,
      "outputs": []
    },
    {
      "metadata": {
        "id": "xLHmOk9r6Btu",
        "colab_type": "code",
        "colab": {
          "base_uri": "https://localhost:8080/",
          "height": 111
        },
        "outputId": "2864d50f-3297-4c6b-e751-65850c0b3942"
      },
      "cell_type": "code",
      "source": [
        "grants_extracted_features_df.head(2)"
      ],
      "execution_count": 34,
      "outputs": [
        {
          "output_type": "execute_result",
          "data": {
            "text/html": [
              "<div>\n",
              "<style scoped>\n",
              "    .dataframe tbody tr th:only-of-type {\n",
              "        vertical-align: middle;\n",
              "    }\n",
              "\n",
              "    .dataframe tbody tr th {\n",
              "        vertical-align: top;\n",
              "    }\n",
              "\n",
              "    .dataframe thead th {\n",
              "        text-align: right;\n",
              "    }\n",
              "</style>\n",
              "<table border=\"1\" class=\"dataframe\">\n",
              "  <thead>\n",
              "    <tr style=\"text-align: right;\">\n",
              "      <th></th>\n",
              "      <th>extracted_feature</th>\n",
              "      <th>parsed</th>\n",
              "    </tr>\n",
              "  </thead>\n",
              "  <tbody>\n",
              "    <tr>\n",
              "      <th>0</th>\n",
              "      <td>[0.0040069236, 0.047635674, -0.0546313, 0.0289...</td>\n",
              "      <td>6837383</td>\n",
              "    </tr>\n",
              "    <tr>\n",
              "      <th>1</th>\n",
              "      <td>[0.043915585, -0.16155677, -0.02712263, 0.0224...</td>\n",
              "      <td>6837647</td>\n",
              "    </tr>\n",
              "  </tbody>\n",
              "</table>\n",
              "</div>"
            ],
            "text/plain": [
              "                                   extracted_feature   parsed\n",
              "0  [0.0040069236, 0.047635674, -0.0546313, 0.0289...  6837383\n",
              "1  [0.043915585, -0.16155677, -0.02712263, 0.0224...  6837647"
            ]
          },
          "metadata": {
            "tags": []
          },
          "execution_count": 34
        }
      ]
    },
    {
      "metadata": {
        "id": "oCeJA8_t6He7",
        "colab_type": "code",
        "colab": {
          "base_uri": "https://localhost:8080/",
          "height": 53
        },
        "outputId": "c9787580-386d-4fc9-f2c6-fc228b31929b"
      },
      "cell_type": "code",
      "source": [
        "%%time\n",
        "\n",
        "sim_dict = {\n",
        "    app_id:{ parsed:np.sum(test_f*grants_f)\n",
        "            for parsed, grants_f \n",
        "            in zip(grants_extracted_features_df['parsed'], grants_extracted_features_df['extracted_feature']) } \n",
        "    for app_id, test_f \n",
        "    in zip(test_extracted_features_df['app_id'], test_extracted_features_df['extracted_feature'])\n",
        "}"
      ],
      "execution_count": 35,
      "outputs": [
        {
          "output_type": "stream",
          "text": [
            "CPU times: user 9.85 s, sys: 96.2 ms, total: 9.95 s\n",
            "Wall time: 9.95 s\n"
          ],
          "name": "stdout"
        }
      ]
    },
    {
      "metadata": {
        "id": "PUfxomTD6R5i",
        "colab_type": "code",
        "colab": {
          "base_uri": "https://localhost:8080/",
          "height": 53
        },
        "outputId": "107aa9ff-382d-4a48-bbbc-e6ba08b8c251"
      },
      "cell_type": "code",
      "source": [
        "%%time\n",
        "\n",
        "all_ranks = []\n",
        "\n",
        "for app_id in test_extracted_features_df['app_id']:\n",
        "    cited_grants = get_cited_grants(citations_info_target, app_id)\n",
        "    sorted_kv = reversed(sort_similarity_by_value(sim_dict, app_id))  # higher score, similar patent\n",
        "\n",
        "    idx = 1\n",
        "    for k,v in sorted_kv:\n",
        "        if k in cited_grants:\n",
        "            all_ranks.append(idx)\n",
        "        idx += 1"
      ],
      "execution_count": 36,
      "outputs": [
        {
          "output_type": "stream",
          "text": [
            "CPU times: user 2.88 s, sys: 8.71 ms, total: 2.89 s\n",
            "Wall time: 2.88 s\n"
          ],
          "name": "stdout"
        }
      ]
    },
    {
      "metadata": {
        "id": "EtRWshZ36Wvh",
        "colab_type": "code",
        "colab": {
          "base_uri": "https://localhost:8080/",
          "height": 55
        },
        "outputId": "4d1d088f-113d-4190-dda1-9f700edf4888"
      },
      "cell_type": "code",
      "source": [
        "import collections\n",
        "counter = collections.Counter(all_ranks)\n",
        "print(counter)"
      ],
      "execution_count": 37,
      "outputs": [
        {
          "output_type": "stream",
          "text": [
            "Counter({1: 145, 2: 70, 4: 41, 3: 38, 5: 32, 7: 29, 6: 25, 13: 18, 12: 17, 17: 16, 8: 15, 15: 15, 10: 14, 14: 14, 11: 13, 18: 13, 9: 12, 22: 12, 30: 11, 27: 10, 40: 10, 35: 9, 29: 9, 31: 9, 20: 9, 41: 8, 19: 8, 37: 8, 55: 8, 26: 7, 32: 7, 51: 7, 25: 7, 21: 6, 46: 6, 44: 6, 16: 6, 47: 6, 139: 6, 73: 5, 23: 5, 52: 5, 53: 5, 271: 5, 54: 5, 62: 4, 28: 4, 112: 4, 24: 4, 109: 4, 83: 4, 126: 4, 110: 4, 107: 4, 75: 4, 256: 4, 33: 4, 36: 4, 127: 3, 59: 3, 60: 3, 93: 3, 58: 3, 91: 3, 63: 3, 77: 3, 67: 3, 48: 3, 72: 3, 117: 3, 89: 3, 76: 3, 43: 3, 74: 3, 135: 3, 79: 3, 86: 3, 158: 3, 227: 3, 45: 3, 87: 3, 49: 3, 120: 3, 174: 3, 134: 3, 292: 3, 39: 3, 357: 3, 154: 2, 333: 2, 220: 2, 128: 2, 84: 2, 260: 2, 81: 2, 190: 2, 68: 2, 208: 2, 287: 2, 124: 2, 237: 2, 42: 2, 166: 2, 1078: 2, 397: 2, 57: 2, 643: 2, 66: 2, 270: 2, 92: 2, 148: 2, 155: 2, 238: 2, 50: 2, 80: 2, 1148: 2, 384: 2, 105: 2, 64: 2, 195: 2, 90: 2, 189: 2, 144: 2, 113: 2, 153: 2, 235: 2, 302: 2, 359: 2, 341: 2, 641: 2, 34: 2, 100: 2, 101: 2, 171: 2, 645: 2, 496: 2, 98: 2, 167: 2, 182: 2, 196: 2, 173: 2, 283: 2, 482: 2, 97: 2, 179: 2, 375: 2, 405: 2, 121: 2, 367: 2, 547: 2, 130: 2, 230: 2, 94: 2, 180: 2, 217: 1, 274: 1, 984: 1, 586: 1, 1516: 1, 1275: 1, 388: 1, 511: 1, 1841: 1, 650: 1, 181: 1, 621: 1, 1422: 1, 1563: 1, 290: 1, 403: 1, 652: 1, 297: 1, 313: 1, 491: 1, 257: 1, 140: 1, 2191: 1, 546: 1, 501: 1, 574: 1, 1303: 1, 187: 1, 622: 1, 288: 1, 246: 1, 1605: 1, 737: 1, 304: 1, 894: 1, 61: 1, 268: 1, 420: 1, 1209: 1, 206: 1, 329: 1, 924: 1, 604: 1, 1598: 1, 221: 1, 96: 1, 116: 1, 138: 1, 194: 1, 204: 1, 1392: 1, 122: 1, 817: 1, 1538: 1, 1036: 1, 299: 1, 176: 1, 401: 1, 468: 1, 492: 1, 193: 1, 864: 1, 520: 1, 554: 1, 133: 1, 829: 1, 1568: 1, 157: 1, 273: 1, 972: 1, 1497: 1, 132: 1, 573: 1, 471: 1, 1952: 1, 787: 1, 1185: 1, 1728: 1, 617: 1, 616: 1, 1013: 1, 343: 1, 663: 1, 211: 1, 344: 1, 761: 1, 722: 1, 490: 1, 147: 1, 352: 1, 870: 1, 188: 1, 78: 1, 446: 1, 323: 1, 82: 1, 170: 1, 580: 1, 575: 1, 1737: 1, 1110: 1, 479: 1, 314: 1, 71: 1, 111: 1, 1232: 1, 219: 1, 698: 1, 640: 1, 225: 1, 584: 1, 294: 1, 118: 1, 1424: 1, 562: 1, 1034: 1, 1077: 1, 395: 1, 1348: 1, 1508: 1, 354: 1, 163: 1, 326: 1, 252: 1, 545: 1, 330: 1, 160: 1, 99: 1, 131: 1, 569: 1, 1566: 1, 457: 1, 1201: 1, 281: 1, 733: 1, 95: 1, 347: 1, 232: 1, 183: 1, 201: 1, 583: 1, 210: 1, 1211: 1, 185: 1, 901: 1, 119: 1, 2146: 1, 499: 1, 162: 1, 141: 1, 1453: 1, 319: 1, 56: 1, 1245: 1, 156: 1, 591: 1, 818: 1, 383: 1, 1559: 1, 1096: 1, 165: 1, 1151: 1, 1390: 1, 115: 1, 1494: 1, 612: 1, 248: 1, 203: 1, 1593: 1, 537: 1, 1584: 1, 146: 1, 321: 1, 886: 1, 421: 1, 623: 1, 102: 1, 673: 1, 289: 1, 777: 1, 85: 1, 243: 1, 1982: 1, 301: 1, 461: 1, 906: 1, 226: 1, 517: 1, 1547: 1, 1594: 1, 125: 1, 239: 1, 315: 1, 325: 1, 480: 1, 2480: 1, 426: 1, 639: 1, 571: 1, 322: 1, 1256: 1, 150: 1, 523: 1, 681: 1, 669: 1, 724: 1, 813: 1, 442: 1, 38: 1, 129: 1, 593: 1, 366: 1, 1070: 1, 172: 1, 198: 1, 385: 1, 629: 1, 1061: 1, 106: 1, 389: 1, 717: 1, 1011: 1, 542: 1, 363: 1, 266: 1, 551: 1, 614: 1, 231: 1, 528: 1, 1050: 1, 279: 1, 451: 1, 168: 1, 549: 1, 419: 1, 275: 1, 70: 1, 524: 1, 152: 1, 149: 1, 169: 1, 1871: 1, 1193: 1, 865: 1, 728: 1})\n"
          ],
          "name": "stdout"
        }
      ]
    },
    {
      "metadata": {
        "id": "E3H2WOrQ6Weg",
        "colab_type": "code",
        "colab": {
          "base_uri": "https://localhost:8080/",
          "height": 35
        },
        "outputId": "2fad71aa-e152-477d-9fd7-3639fddc854d"
      },
      "cell_type": "code",
      "source": [
        "# counter is started from 1.\n",
        "\n",
        "sum(counter[i] for i in range(11))"
      ],
      "execution_count": 41,
      "outputs": [
        {
          "output_type": "execute_result",
          "data": {
            "text/plain": [
              "421"
            ]
          },
          "metadata": {
            "tags": []
          },
          "execution_count": 41
        }
      ]
    },
    {
      "metadata": {
        "id": "TkKFXo8w9Ycg",
        "colab_type": "code",
        "colab": {}
      },
      "cell_type": "code",
      "source": [
        ""
      ],
      "execution_count": 0,
      "outputs": []
    },
    {
      "metadata": {
        "id": "JZihayov9YOm",
        "colab_type": "code",
        "colab": {}
      },
      "cell_type": "code",
      "source": [
        ""
      ],
      "execution_count": 0,
      "outputs": []
    },
    {
      "metadata": {
        "id": "9r3ZCqm19Z6z",
        "colab_type": "text"
      },
      "cell_type": "markdown",
      "source": [
        "### Use raw feature as is (for comparison)"
      ]
    },
    {
      "metadata": {
        "id": "Tl2DelEa945Y",
        "colab_type": "code",
        "colab": {
          "base_uri": "https://localhost:8080/",
          "height": 53
        },
        "outputId": "26d456c1-1aff-4421-b3ba-8c7c81a1da7e"
      },
      "cell_type": "code",
      "source": [
        "%%time\n",
        "\n",
        "sim_dict = {\n",
        "    app_id:{ parsed:np.sum(test_normalized_feature_dict_1000[app_id]*grants_normalized_feature_dict_2000[parsed])\n",
        "            for parsed \n",
        "            in grants_target_df['parsed'] } \n",
        "    for app_id \n",
        "    in test_app_df['app_id']\n",
        "}"
      ],
      "execution_count": 47,
      "outputs": [
        {
          "output_type": "stream",
          "text": [
            "CPU times: user 13.3 s, sys: 149 ms, total: 13.4 s\n",
            "Wall time: 13.4 s\n"
          ],
          "name": "stdout"
        }
      ]
    },
    {
      "metadata": {
        "id": "lVhFo-gT7YM-",
        "colab_type": "code",
        "colab": {
          "base_uri": "https://localhost:8080/",
          "height": 53
        },
        "outputId": "ccda1991-e3b2-4490-ad88-07895b8fae0c"
      },
      "cell_type": "code",
      "source": [
        "%%time\n",
        "\n",
        "all_ranks = []\n",
        "\n",
        "for app_id in test_app_df['app_id']:\n",
        "    cited_grants = get_cited_grants(citations_info_target, app_id)\n",
        "    sorted_kv = reversed(sort_similarity_by_value(sim_dict, app_id))  # higher score, similar patent\n",
        "\n",
        "    idx = 1\n",
        "    for k,v in sorted_kv:\n",
        "        if k in cited_grants:\n",
        "            all_ranks.append(idx)\n",
        "        idx += 1"
      ],
      "execution_count": 48,
      "outputs": [
        {
          "output_type": "stream",
          "text": [
            "CPU times: user 2.89 s, sys: 8.73 ms, total: 2.9 s\n",
            "Wall time: 2.89 s\n"
          ],
          "name": "stdout"
        }
      ]
    },
    {
      "metadata": {
        "id": "ZTQ45Vta9i5t",
        "colab_type": "code",
        "colab": {
          "base_uri": "https://localhost:8080/",
          "height": 55
        },
        "outputId": "3149b711-5f06-40fa-9e92-cf229f785c1d"
      },
      "cell_type": "code",
      "source": [
        "counter = collections.Counter(all_ranks)\n",
        "print(counter)"
      ],
      "execution_count": 49,
      "outputs": [
        {
          "output_type": "stream",
          "text": [
            "Counter({1: 178, 2: 73, 3: 46, 5: 40, 4: 38, 6: 31, 7: 19, 9: 17, 8: 16, 10: 15, 13: 13, 14: 13, 11: 13, 15: 12, 18: 12, 16: 11, 12: 10, 26: 9, 19: 9, 34: 9, 21: 8, 23: 8, 38: 7, 28: 7, 50: 6, 39: 6, 37: 6, 33: 6, 53: 6, 100: 5, 47: 5, 76: 5, 35: 5, 64: 5, 29: 5, 73: 5, 61: 5, 32: 5, 17: 5, 68: 5, 31: 5, 52: 4, 59: 4, 40: 4, 143: 4, 90: 4, 48: 4, 63: 4, 44: 4, 49: 4, 20: 4, 65: 4, 70: 4, 30: 4, 83: 3, 168: 3, 147: 3, 114: 3, 22: 3, 444: 3, 93: 3, 43: 3, 121: 3, 122: 3, 189: 3, 148: 3, 51: 3, 57: 3, 46: 3, 25: 3, 385: 3, 66: 3, 85: 3, 125: 3, 304: 3, 36: 3, 195: 3, 92: 3, 187: 3, 69: 3, 99: 3, 411: 2, 24: 2, 131: 2, 262: 2, 724: 2, 72: 2, 454: 2, 396: 2, 87: 2, 130: 2, 413: 2, 89: 2, 157: 2, 292: 2, 1182: 2, 264: 2, 133: 2, 78: 2, 174: 2, 56: 2, 67: 2, 227: 2, 134: 2, 163: 2, 97: 2, 126: 2, 517: 2, 213: 2, 128: 2, 110: 2, 112: 2, 173: 2, 62: 2, 42: 2, 179: 2, 378: 2, 155: 2, 88: 2, 376: 2, 505: 2, 183: 2, 167: 2, 105: 2, 45: 2, 209: 2, 211: 2, 74: 2, 75: 2, 415: 2, 617: 2, 169: 2, 615: 2, 181: 2, 192: 2, 2394: 2, 258: 2, 571: 2, 41: 2, 696: 2, 77: 2, 485: 2, 184: 2, 645: 1, 704: 1, 1316: 1, 1373: 1, 1984: 1, 445: 1, 104: 1, 835: 1, 459: 1, 216: 1, 1004: 1, 1888: 1, 1459: 1, 144: 1, 2370: 1, 2443: 1, 299: 1, 537: 1, 1627: 1, 983: 1, 249: 1, 219: 1, 614: 1, 943: 1, 703: 1, 1340: 1, 1550: 1, 914: 1, 106: 1, 589: 1, 593: 1, 399: 1, 574: 1, 1643: 1, 359: 1, 194: 1, 123: 1, 118: 1, 1341: 1, 1759: 1, 524: 1, 305: 1, 998: 1, 458: 1, 523: 1, 1640: 1, 117: 1, 2179: 1, 2115: 1, 153: 1, 334: 1, 541: 1, 1354: 1, 81: 1, 598: 1, 319: 1, 1593: 1, 2390: 1, 680: 1, 2134: 1, 2146: 1, 846: 1, 1166: 1, 341: 1, 337: 1, 1772: 1, 995: 1, 2013: 1, 250: 1, 141: 1, 2131: 1, 612: 1, 342: 1, 154: 1, 1830: 1, 625: 1, 175: 1, 879: 1, 1769: 1, 221: 1, 84: 1, 218: 1, 296: 1, 115: 1, 2151: 1, 400: 1, 149: 1, 350: 1, 111: 1, 494: 1, 208: 1, 261: 1, 263: 1, 361: 1, 271: 1, 619: 1, 1284: 1, 1052: 1, 814: 1, 1346: 1, 599: 1, 186: 1, 280: 1, 695: 1, 1802: 1, 351: 1, 1461: 1, 372: 1, 1074: 1, 712: 1, 103: 1, 738: 1, 754: 1, 200: 1, 474: 1, 166: 1, 135: 1, 138: 1, 1820: 1, 2348: 1, 789: 1, 2101: 1, 1551: 1, 2049: 1, 1711: 1, 768: 1, 207: 1, 1864: 1, 2207: 1, 162: 1, 228: 1, 60: 1, 389: 1, 926: 1, 473: 1, 779: 1, 91: 1, 2053: 1, 457: 1, 314: 1, 2447: 1, 1918: 1, 2232: 1, 968: 1, 795: 1, 1996: 1, 113: 1, 2499: 1, 2374: 1, 268: 1, 890: 1, 251: 1, 323: 1, 1728: 1, 335: 1, 2117: 1, 1060: 1, 771: 1, 1073: 1, 2469: 1, 1090: 1, 309: 1, 1440: 1, 1368: 1, 904: 1, 164: 1, 142: 1, 1116: 1, 398: 1, 288: 1, 79: 1, 527: 1, 2122: 1, 2324: 1, 861: 1, 201: 1, 729: 1, 95: 1, 226: 1, 1708: 1, 591: 1, 204: 1, 460: 1, 1114: 1, 188: 1, 2016: 1, 160: 1, 952: 1, 1254: 1, 1648: 1, 920: 1, 344: 1, 132: 1, 279: 1, 1259: 1, 2166: 1, 2294: 1, 2082: 1, 2091: 1, 108: 1, 757: 1, 358: 1, 560: 1, 1559: 1, 190: 1, 244: 1, 210: 1, 1366: 1, 182: 1, 382: 1, 1610: 1, 107: 1, 521: 1, 1084: 1, 764: 1, 1889: 1, 1995: 1, 547: 1, 71: 1, 1009: 1, 328: 1, 750: 1, 1155: 1, 556: 1, 1693: 1, 1734: 1, 912: 1, 333: 1, 212: 1, 58: 1, 151: 1, 145: 1, 775: 1, 355: 1, 1029: 1, 1195: 1, 120: 1, 287: 1, 206: 1, 225: 1, 456: 1, 318: 1, 507: 1, 786: 1, 1569: 1, 82: 1, 766: 1, 749: 1, 1566: 1, 514: 1, 889: 1, 2222: 1, 236: 1, 488: 1, 96: 1, 178: 1, 1103: 1, 572: 1, 652: 1, 1024: 1, 1046: 1, 127: 1, 419: 1, 1078: 1, 825: 1, 313: 1, 109: 1, 1529: 1, 348: 1, 565: 1, 539: 1, 833: 1, 2280: 1, 27: 1, 139: 1, 530: 1, 1231: 1, 431: 1, 229: 1, 2004: 1, 101: 1, 202: 1, 2170: 1, 1406: 1, 1895: 1, 1987: 1, 346: 1, 1210: 1, 922: 1, 324: 1})\n"
          ],
          "name": "stdout"
        }
      ]
    },
    {
      "metadata": {
        "id": "5wPB-u0Q9ioG",
        "colab_type": "code",
        "colab": {
          "base_uri": "https://localhost:8080/",
          "height": 35
        },
        "outputId": "0a6f5dce-15dd-40fa-cfcd-df626cccfaed"
      },
      "cell_type": "code",
      "source": [
        "sum(counter[i] for i in range(11))"
      ],
      "execution_count": 50,
      "outputs": [
        {
          "output_type": "execute_result",
          "data": {
            "text/plain": [
              "473"
            ]
          },
          "metadata": {
            "tags": []
          },
          "execution_count": 50
        }
      ]
    },
    {
      "metadata": {
        "id": "enSex23N9iN2",
        "colab_type": "code",
        "colab": {}
      },
      "cell_type": "code",
      "source": [
        ""
      ],
      "execution_count": 0,
      "outputs": []
    }
  ]
}