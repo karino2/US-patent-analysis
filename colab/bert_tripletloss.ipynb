{
  "nbformat": 4,
  "nbformat_minor": 0,
  "metadata": {
    "colab": {
      "name": "bert-tripletloss.ipynb",
      "version": "0.3.2",
      "provenance": [],
      "collapsed_sections": [],
      "toc_visible": true,
      "include_colab_link": true
    },
    "kernelspec": {
      "name": "python3",
      "display_name": "Python 3"
    },
    "accelerator": "TPU"
  },
  "cells": [
    {
      "cell_type": "markdown",
      "metadata": {
        "id": "view-in-github",
        "colab_type": "text"
      },
      "source": [
        "<a href=\"https://colab.research.google.com/github/karino2/US-patent-analysis/blob/triplet_loss_work/colab/bert_tripletloss.ipynb\" target=\"_parent\"><img src=\"https://colab.research.google.com/assets/colab-badge.svg\" alt=\"Open In Colab\"/></a>"
      ]
    },
    {
      "metadata": {
        "id": "rQph610BeO4I",
        "colab_type": "text"
      },
      "cell_type": "markdown",
      "source": [
        "**Colab porting of triplet loss trial for bert feature**"
      ]
    },
    {
      "metadata": {
        "id": "3Cv0EJiZ8vi6",
        "colab_type": "code",
        "colab": {
          "base_uri": "https://localhost:8080/",
          "height": 141
        },
        "outputId": "05f7d407-bdf7-493b-c0c6-d636cfe54744"
      },
      "cell_type": "code",
      "source": [
        "import os\n",
        "import datetime\n",
        "import pickle\n",
        "import gzip\n",
        "import pandas as pd\n",
        "import numpy as np\n",
        "\n",
        "import tensorflow as tf\n",
        "\n",
        "tf.enable_eager_execution()"
      ],
      "execution_count": 1,
      "outputs": [
        {
          "output_type": "stream",
          "text": [
            "\n",
            "WARNING: The TensorFlow contrib module will not be included in TensorFlow 2.0.\n",
            "For more information, please see:\n",
            "  * https://github.com/tensorflow/community/blob/master/rfcs/20180907-contrib-sunset.md\n",
            "  * https://github.com/tensorflow/addons\n",
            "If you depend on functionality not listed there, please file an issue.\n",
            "\n"
          ],
          "name": "stdout"
        }
      ]
    },
    {
      "metadata": {
        "id": "R3AyT0Fq8yzD",
        "colab_type": "code",
        "colab": {
          "base_uri": "https://localhost:8080/",
          "height": 35
        },
        "outputId": "4d786094-0db7-4d28-d22f-9d3f5af6f0d3"
      },
      "cell_type": "code",
      "source": [
        "tf.__version__"
      ],
      "execution_count": 3,
      "outputs": [
        {
          "output_type": "execute_result",
          "data": {
            "text/plain": [
              "'1.13.1'"
            ]
          },
          "metadata": {
            "tags": []
          },
          "execution_count": 3
        }
      ]
    },
    {
      "metadata": {
        "id": "3cM2dZ__NPt1",
        "colab_type": "code",
        "colab": {}
      },
      "cell_type": "code",
      "source": [
        "!git clone -b docker https://github.com/yoheikikuta/bert.git"
      ],
      "execution_count": 0,
      "outputs": []
    },
    {
      "metadata": {
        "id": "eg8r8ARt89w3",
        "colab_type": "code",
        "colab": {}
      },
      "cell_type": "code",
      "source": [
        "!ls"
      ],
      "execution_count": 0,
      "outputs": []
    },
    {
      "metadata": {
        "id": "zgPiQOJRMgxt",
        "colab_type": "text"
      },
      "cell_type": "markdown",
      "source": [
        "# Data setup\n",
        "\n",
        "Feature data is created at bert-extract-feature.ipynb."
      ]
    },
    {
      "metadata": {
        "id": "XG9_uLXKMf2t",
        "colab_type": "code",
        "colab": {}
      },
      "cell_type": "code",
      "source": [
        "!mkdir ./bert/data"
      ],
      "execution_count": 0,
      "outputs": []
    },
    {
      "metadata": {
        "id": "j-n-oE9aNPs6",
        "colab_type": "code",
        "colab": {}
      },
      "cell_type": "code",
      "source": [
        "from google.colab import auth\n",
        "auth.authenticate_user()"
      ],
      "execution_count": 0,
      "outputs": []
    },
    {
      "metadata": {
        "id": "2vbfUR8mqm8o",
        "colab_type": "code",
        "colab": {
          "base_uri": "https://localhost:8080/",
          "height": 177
        },
        "outputId": "0f5f27c0-983c-4c28-8537-fac8435c6acc"
      },
      "cell_type": "code",
      "source": [
        "!gsutil cp gs://karino2-uspatent/features/training_app_1000_features.pkl.gz bert/data/training_app_1000_features.pkl.gz\n",
        "!gsutil cp gs://karino2-uspatent/features/test_app_1000_features.pkl.gz bert/data/test_app_1000_features.pkl.gz\n",
        "!gsutil cp gs://karino2-uspatent/features/grants_2000_features.pkl.gz bert/data/grants_2000_features.pkl.gz"
      ],
      "execution_count": 4,
      "outputs": [
        {
          "output_type": "stream",
          "text": [
            "Copying gs://karino2-uspatent/features/training_app_1000_features.pkl.gz...\n",
            "/ [0 files][    0.0 B/  3.1 MiB]                                                \r/ [1 files][  3.1 MiB/  3.1 MiB]                                                \r\n",
            "Operation completed over 1 objects/3.1 MiB.                                      \n",
            "Copying gs://karino2-uspatent/features/test_app_1000_features.pkl.gz...\n",
            "/ [1 files][  3.1 MiB/  3.1 MiB]                                                \n",
            "Operation completed over 1 objects/3.1 MiB.                                      \n",
            "Copying gs://karino2-uspatent/features/grants_2000_features.pkl.gz...\n",
            "/ [1 files][  7.9 MiB/  7.9 MiB]                                                \n",
            "Operation completed over 1 objects/7.9 MiB.                                      \n"
          ],
          "name": "stdout"
        }
      ]
    },
    {
      "metadata": {
        "id": "FYZa2YP2q9bk",
        "colab_type": "code",
        "colab": {
          "base_uri": "https://localhost:8080/",
          "height": 35
        },
        "outputId": "fd2449f9-817b-4be2-f6fa-14123071cdfc"
      },
      "cell_type": "code",
      "source": [
        "with gzip.open(\"./bert/data/training_app_1000_features.pkl.gz\", 'rb') as f:\n",
        "     train_features = pickle.load(f)\n",
        "with gzip.open(\"./bert/data/test_app_1000_features.pkl.gz\", 'rb') as f:\n",
        "     test_features = pickle.load(f)\n",
        "with gzip.open(\"./bert/data/grants_2000_features.pkl.gz\", 'rb') as f:\n",
        "     grants_features = pickle.load(f)\n",
        "print(f\"{train_features.shape}, {test_features.shape}, {grants_features.shape}\")"
      ],
      "execution_count": 5,
      "outputs": [
        {
          "output_type": "stream",
          "text": [
            "(1000, 768), (1000, 768), (2524, 768)\n"
          ],
          "name": "stdout"
        }
      ]
    },
    {
      "metadata": {
        "id": "nN0LX7jKOAdi",
        "colab_type": "code",
        "colab": {}
      },
      "cell_type": "code",
      "source": [
        ""
      ],
      "execution_count": 0,
      "outputs": []
    },
    {
      "metadata": {
        "id": "8vJgj4gZN_-_",
        "colab_type": "code",
        "colab": {}
      },
      "cell_type": "code",
      "source": [
        "!gsutil cp gs://karino2-uspatent/citations_info_2000.df.gz ./bert/data/\n",
        "!gsutil cp gs://karino2-uspatent/testset_app_1000.df.gz ./bert/data/\n",
        "!gsutil cp gs://karino2-uspatent/training_app_1000.df.gz ./bert/data/\n",
        "!gsutil cp gs://karino2-uspatent/grants_for_2000.df.gz ./bert/data/"
      ],
      "execution_count": 0,
      "outputs": []
    },
    {
      "metadata": {
        "id": "CJC9Q6MjOHZN",
        "colab_type": "code",
        "colab": {}
      },
      "cell_type": "code",
      "source": [
        "citations_info_target = pd.read_pickle(\"./bert/data/citations_info_2000.df.gz\")\n",
        "train_app_df = pd.read_pickle(\"./bert/data/training_app_1000.df.gz\")\n",
        "test_app_df = pd.read_pickle(\"./bert/data/testset_app_1000.df.gz\")\n",
        "grants_target_df = pd.read_pickle(\"./bert/data/grants_for_2000.df.gz\")"
      ],
      "execution_count": 0,
      "outputs": []
    },
    {
      "metadata": {
        "id": "dWFm5-TmsBt3",
        "colab_type": "text"
      },
      "cell_type": "markdown",
      "source": [
        "### Prepare data for circulum tripletloss learning"
      ]
    },
    {
      "metadata": {
        "id": "7A_eiPUgsP05",
        "colab_type": "code",
        "colab": {}
      },
      "cell_type": "code",
      "source": [
        "import random\n",
        "import pandas as pd\n",
        "import numpy as np\n",
        "import pickle\n",
        "from collections import OrderedDict"
      ],
      "execution_count": 0,
      "outputs": []
    },
    {
      "metadata": {
        "id": "GLTW2aeSsbsx",
        "colab_type": "code",
        "colab": {}
      },
      "cell_type": "code",
      "source": [
        "train_normalized_feature_dict_1000 = { \n",
        "    k:v/np.linalg.norm(v) for k,v in zip(train_app_df['app_id'], train_features[:, ])\n",
        "}\n",
        "grants_normalized_feature_dict_2000 = { \n",
        "    k:v/np.linalg.norm(v) for k,v in zip(grants_target_df['parsed'], grants_features[:, ])\n",
        "}"
      ],
      "execution_count": 0,
      "outputs": []
    },
    {
      "metadata": {
        "id": "hndwiFKDvOhG",
        "colab_type": "code",
        "colab": {}
      },
      "cell_type": "code",
      "source": [
        ""
      ],
      "execution_count": 0,
      "outputs": []
    },
    {
      "metadata": {
        "id": "_Ar_cx8vvzHu",
        "colab_type": "text"
      },
      "cell_type": "markdown",
      "source": [
        "Confirm result"
      ]
    },
    {
      "metadata": {
        "id": "tU_I9QY0s3vP",
        "colab_type": "code",
        "colab": {
          "base_uri": "https://localhost:8080/",
          "height": 204
        },
        "outputId": "569c7de6-b3b8-4ada-f97a-975263e0234d"
      },
      "cell_type": "code",
      "source": [
        "train_app_df.head()"
      ],
      "execution_count": 19,
      "outputs": [
        {
          "output_type": "execute_result",
          "data": {
            "text/html": [
              "<div>\n",
              "<style scoped>\n",
              "    .dataframe tbody tr th:only-of-type {\n",
              "        vertical-align: middle;\n",
              "    }\n",
              "\n",
              "    .dataframe tbody tr th {\n",
              "        vertical-align: top;\n",
              "    }\n",
              "\n",
              "    .dataframe thead th {\n",
              "        text-align: right;\n",
              "    }\n",
              "</style>\n",
              "<table border=\"1\" class=\"dataframe\">\n",
              "  <thead>\n",
              "    <tr style=\"text-align: right;\">\n",
              "      <th></th>\n",
              "      <th>app_id</th>\n",
              "      <th>xml</th>\n",
              "    </tr>\n",
              "  </thead>\n",
              "  <tbody>\n",
              "    <tr>\n",
              "      <th>0</th>\n",
              "      <td>14222691</td>\n",
              "      <td>&lt;us-patent-application lang=\"EN\" dtd-version=\"...</td>\n",
              "    </tr>\n",
              "    <tr>\n",
              "      <th>1</th>\n",
              "      <td>12515852</td>\n",
              "      <td>&lt;us-patent-application lang=\"EN\" dtd-version=\"...</td>\n",
              "    </tr>\n",
              "    <tr>\n",
              "      <th>2</th>\n",
              "      <td>12033424</td>\n",
              "      <td>&lt;us-patent-application lang=\"EN\" dtd-version=\"...</td>\n",
              "    </tr>\n",
              "    <tr>\n",
              "      <th>3</th>\n",
              "      <td>12402344</td>\n",
              "      <td>&lt;us-patent-application lang=\"EN\" dtd-version=\"...</td>\n",
              "    </tr>\n",
              "    <tr>\n",
              "      <th>4</th>\n",
              "      <td>12155425</td>\n",
              "      <td>&lt;us-patent-application lang=\"EN\" dtd-version=\"...</td>\n",
              "    </tr>\n",
              "  </tbody>\n",
              "</table>\n",
              "</div>"
            ],
            "text/plain": [
              "     app_id                                                xml\n",
              "0  14222691  <us-patent-application lang=\"EN\" dtd-version=\"...\n",
              "1  12515852  <us-patent-application lang=\"EN\" dtd-version=\"...\n",
              "2  12033424  <us-patent-application lang=\"EN\" dtd-version=\"...\n",
              "3  12402344  <us-patent-application lang=\"EN\" dtd-version=\"...\n",
              "4  12155425  <us-patent-application lang=\"EN\" dtd-version=\"..."
            ]
          },
          "metadata": {
            "tags": []
          },
          "execution_count": 19
        }
      ]
    },
    {
      "metadata": {
        "id": "Y2SMA-IzsbXL",
        "colab_type": "code",
        "colab": {
          "base_uri": "https://localhost:8080/",
          "height": 35
        },
        "outputId": "b161f7d2-63df-4740-8e81-9ea36b618e0c"
      },
      "cell_type": "code",
      "source": [
        "train_normalized_feature_dict_1000[14222691][0:5]"
      ],
      "execution_count": 25,
      "outputs": [
        {
          "output_type": "execute_result",
          "data": {
            "text/plain": [
              "array([-0.05969358,  0.05039638, -0.0200557 ,  0.04519269, -0.01494433])"
            ]
          },
          "metadata": {
            "tags": []
          },
          "execution_count": 25
        }
      ]
    },
    {
      "metadata": {
        "id": "eyu9BWGbsbLU",
        "colab_type": "code",
        "colab": {
          "base_uri": "https://localhost:8080/",
          "height": 35
        },
        "outputId": "c2841e0a-43f3-485b-cbd3-afddc1c876a1"
      },
      "cell_type": "code",
      "source": [
        "train_features[0, 0:5]"
      ],
      "execution_count": 26,
      "outputs": [
        {
          "output_type": "execute_result",
          "data": {
            "text/plain": [
              "array([-1.04389739,  0.88131171, -0.35072595,  0.79031169, -0.26134047])"
            ]
          },
          "metadata": {
            "tags": []
          },
          "execution_count": 26
        }
      ]
    },
    {
      "metadata": {
        "id": "xXSIuCVssPms",
        "colab_type": "code",
        "colab": {
          "base_uri": "https://localhost:8080/",
          "height": 35
        },
        "outputId": "84978671-a38d-4243-c11e-6f6f8c0e4433"
      },
      "cell_type": "code",
      "source": [
        "(train_features[0, ]/np.linalg.norm(train_features[0, ]))[0:5]"
      ],
      "execution_count": 28,
      "outputs": [
        {
          "output_type": "execute_result",
          "data": {
            "text/plain": [
              "array([-0.05969358,  0.05039638, -0.0200557 ,  0.04519269, -0.01494433])"
            ]
          },
          "metadata": {
            "tags": []
          },
          "execution_count": 28
        }
      ]
    },
    {
      "metadata": {
        "id": "mIsny0ywuvls",
        "colab_type": "code",
        "colab": {}
      },
      "cell_type": "code",
      "source": [
        ""
      ],
      "execution_count": 0,
      "outputs": []
    },
    {
      "metadata": {
        "id": "c0AeEoEuv5fa",
        "colab_type": "text"
      },
      "cell_type": "markdown",
      "source": [
        "### Calculate cosin similarity for whole pair"
      ]
    },
    {
      "metadata": {
        "id": "eEZLegMiuvXV",
        "colab_type": "code",
        "colab": {
          "base_uri": "https://localhost:8080/",
          "height": 53
        },
        "outputId": "6d384eb9-04c2-4d0f-c283-e8374aadd140"
      },
      "cell_type": "code",
      "source": [
        "%%time\n",
        "\n",
        "sim_dict = {\n",
        "    app_id:{ parsed:np.sum(train_normalized_feature_dict_1000[app_id]*grants_normalized_feature_dict_2000[parsed])\n",
        "            for parsed \n",
        "            in grants_target_df['parsed'] } \n",
        "    for app_id \n",
        "    in train_app_df['app_id']\n",
        "}"
      ],
      "execution_count": 142,
      "outputs": [
        {
          "output_type": "stream",
          "text": [
            "CPU times: user 15.4 s, sys: 140 ms, total: 15.5 s\n",
            "Wall time: 15.5 s\n"
          ],
          "name": "stdout"
        }
      ]
    },
    {
      "metadata": {
        "id": "yIbbfsumyKvk",
        "colab_type": "text"
      },
      "cell_type": "markdown",
      "source": [
        "check result"
      ]
    },
    {
      "metadata": {
        "id": "H3bnxJ05ujXR",
        "colab_type": "code",
        "colab": {
          "base_uri": "https://localhost:8080/",
          "height": 35
        },
        "outputId": "113f5eaa-ef91-4c07-e921-63d3d0d30b37"
      },
      "cell_type": "code",
      "source": [
        "list(sim_dict.keys())[0]"
      ],
      "execution_count": 32,
      "outputs": [
        {
          "output_type": "execute_result",
          "data": {
            "text/plain": [
              "14222691"
            ]
          },
          "metadata": {
            "tags": []
          },
          "execution_count": 32
        }
      ]
    },
    {
      "metadata": {
        "id": "uW68YsdVujKt",
        "colab_type": "code",
        "colab": {
          "base_uri": "https://localhost:8080/",
          "height": 106
        },
        "outputId": "1867179c-6deb-4928-f31c-242794d23303"
      },
      "cell_type": "code",
      "source": [
        "sorted( sim_dict[12411468].values(), reverse=True )[:5]"
      ],
      "execution_count": 46,
      "outputs": [
        {
          "output_type": "execute_result",
          "data": {
            "text/plain": [
              "[0.8536353801810572,\n",
              " 0.8500573288849081,\n",
              " 0.8478197928831097,\n",
              " 0.8464742417020769,\n",
              " 0.8457543474536907]"
            ]
          },
          "metadata": {
            "tags": []
          },
          "execution_count": 46
        }
      ]
    },
    {
      "metadata": {
        "id": "35ytFSXHui9X",
        "colab_type": "code",
        "colab": {
          "base_uri": "https://localhost:8080/",
          "height": 70
        },
        "outputId": "d21c3999-ade5-4908-f811-9f517e6230a2"
      },
      "cell_type": "code",
      "source": [
        "citations_info_target[citations_info_target.app_id == 12411468].parsed"
      ],
      "execution_count": 36,
      "outputs": [
        {
          "output_type": "execute_result",
          "data": {
            "text/plain": [
              "4089    7061154\n",
              "4090    7061154\n",
              "Name: parsed, dtype: int64"
            ]
          },
          "metadata": {
            "tags": []
          },
          "execution_count": 36
        }
      ]
    },
    {
      "metadata": {
        "id": "uGJxsb0VwsM1",
        "colab_type": "code",
        "colab": {
          "base_uri": "https://localhost:8080/",
          "height": 35
        },
        "outputId": "cdfc4391-5539-4b28-e60e-6555c8c884d9"
      },
      "cell_type": "code",
      "source": [
        "grants_target_df[grants_target_df.parsed == 7061154].index[0]"
      ],
      "execution_count": 44,
      "outputs": [
        {
          "output_type": "execute_result",
          "data": {
            "text/plain": [
              "540"
            ]
          },
          "metadata": {
            "tags": []
          },
          "execution_count": 44
        }
      ]
    },
    {
      "metadata": {
        "id": "AAfrzulcuivm",
        "colab_type": "code",
        "colab": {
          "base_uri": "https://localhost:8080/",
          "height": 35
        },
        "outputId": "f47a5612-adda-4f99-d324-2c6fdbdd1c2d"
      },
      "cell_type": "code",
      "source": [
        "list(sim_dict[12411468].values())[540]"
      ],
      "execution_count": 45,
      "outputs": [
        {
          "output_type": "execute_result",
          "data": {
            "text/plain": [
              "0.8435186037581648"
            ]
          },
          "metadata": {
            "tags": []
          },
          "execution_count": 45
        }
      ]
    },
    {
      "metadata": {
        "id": "CXwNegmAwrkY",
        "colab_type": "code",
        "colab": {
          "base_uri": "https://localhost:8080/",
          "height": 35
        },
        "outputId": "b97de8ac-17c0-4c7e-e2f4-355b7313c8ae"
      },
      "cell_type": "code",
      "source": [
        "sorted( sim_dict[12411468].values(), reverse=True ).index(0.8435186037581648)"
      ],
      "execution_count": 47,
      "outputs": [
        {
          "output_type": "execute_result",
          "data": {
            "text/plain": [
              "7"
            ]
          },
          "metadata": {
            "tags": []
          },
          "execution_count": 47
        }
      ]
    },
    {
      "metadata": {
        "id": "EfJ1xcBpyN7P",
        "colab_type": "code",
        "colab": {}
      },
      "cell_type": "code",
      "source": [
        ""
      ],
      "execution_count": 0,
      "outputs": []
    },
    {
      "metadata": {
        "id": "P4GO6YaGzHLz",
        "colab_type": "text"
      },
      "cell_type": "markdown",
      "source": [
        "### Create triplet"
      ]
    },
    {
      "metadata": {
        "id": "OpeKrCykyNt9",
        "colab_type": "code",
        "colab": {}
      },
      "cell_type": "code",
      "source": [
        "def sort_similarity_by_value(sim_dict, app_id):\n",
        "    '''\n",
        "    input:\n",
        "        sim_dict: similary dictionary\n",
        "        app_id: target application id\n",
        "    return:\n",
        "        [(parsed1, sim1), (parsed2, sim2), ...] sorted by similarities\n",
        "    '''\n",
        "    return [(parsed, sim_dict[app_id][parsed]) for parsed in sorted(sim_dict[app_id], key=sim_dict[app_id].get)]\n",
        "  \n",
        "  \n",
        "def get_cited_grants(citations_info_target, app_id):\n",
        "    '''\n",
        "    input:\n",
        "        citations_info_target: DataFrame of citation relationships\n",
        "        app_id: target application id\n",
        "    return:\n",
        "        {parsed1, parsed2, ...} that are cited to reject app_id\n",
        "    '''\n",
        "    return set(citations_info_target[citations_info_target['app_id'] == app_id]['parsed'])\n",
        "  \n",
        "def make_uncited_grants_for_app_id(sim_dict, citations_info_target, app_id, sidx, eidx, num, shuffle=True):\n",
        "    '''\n",
        "    input:\n",
        "        sim_dict: \n",
        "        citations_info_target:\n",
        "        app_id: target application id\n",
        "        sidx: start index to slice the sorted (parsed, sim) list\n",
        "        eidx: end index to slice the sorted (parsed, sim) list\n",
        "        num: number of grants that will be returned\n",
        "    return:\n",
        "        [parsed_1, parsed_2, ..., parsed_num] that are NOT cited to reject app_id\n",
        "    '''\n",
        "    sorted_grants_list = sort_similarity_by_value(sim_dict, app_id)\n",
        "    sorted_grants_list = sorted_grants_list[sidx:eidx]\n",
        "    if shuffle:\n",
        "        random.shuffle(sorted_grants_list)\n",
        "    \n",
        "    cited_grants = get_cited_grants(citations_info_target, app_id)\n",
        "    uncited_grants = []\n",
        "    \n",
        "    idx = 0\n",
        "    while len(uncited_grants) != num:\n",
        "        grant_id, _ = sorted_grants_list[idx]\n",
        "        if not grant_id in cited_grants:\n",
        "            uncited_grants.append(grant_id)\n",
        "        idx += 1\n",
        "    \n",
        "    return uncited_grants  "
      ],
      "execution_count": 0,
      "outputs": []
    },
    {
      "metadata": {
        "id": "bGzU19OxyNhR",
        "colab_type": "code",
        "colab": {
          "base_uri": "https://localhost:8080/",
          "height": 35
        },
        "outputId": "6a5f713e-d176-4f38-f320-36600ea6ddee"
      },
      "cell_type": "code",
      "source": [
        "random.seed(0)\n",
        "make_uncited_grants_for_app_id(sim_dict, citations_info_target, 12411468, 0, 100, 4)"
      ],
      "execution_count": 11,
      "outputs": [
        {
          "output_type": "execute_result",
          "data": {
            "text/plain": [
              "[7196326, 6979916, 6971650, 6899075]"
            ]
          },
          "metadata": {
            "tags": []
          },
          "execution_count": 11
        }
      ]
    },
    {
      "metadata": {
        "id": "ftq7k1HgwrVR",
        "colab_type": "code",
        "colab": {
          "base_uri": "https://localhost:8080/",
          "height": 35
        },
        "outputId": "2d4adb65-fc53-4c5a-eb46-3df11c7f823b"
      },
      "cell_type": "code",
      "source": [
        "random.seed(1)\n",
        "make_uncited_grants_for_app_id(sim_dict, citations_info_target, 12411468, 0, 100, 4)"
      ],
      "execution_count": 50,
      "outputs": [
        {
          "output_type": "execute_result",
          "data": {
            "text/plain": [
              "[7108673, 7846876, 7168415, 7052189]"
            ]
          },
          "metadata": {
            "tags": []
          },
          "execution_count": 50
        }
      ]
    },
    {
      "metadata": {
        "id": "YEPiNKegzmvp",
        "colab_type": "code",
        "colab": {}
      },
      "cell_type": "code",
      "source": [
        "def create_triplet_pairs(sidx, eidx):\n",
        "    all_elems = []\n",
        "    \n",
        "    for app_id in train_app_df['app_id']:\n",
        "        cited_grants = get_cited_grants(citations_info_target, app_id)\n",
        "        num_cited_grants = len(cited_grants)\n",
        "        uncited_grants = make_uncited_grants_for_app_id(\n",
        "            sim_dict, citations_info_target, app_id, sidx, eidx, num_cited_grants)\n",
        "        \n",
        "        for idx, cited in enumerate(cited_grants):\n",
        "            all_elems.append([app_id, cited, uncited_grants[idx]])\n",
        "    \n",
        "    result_df = pd.DataFrame(all_elems)\n",
        "    result_df.columns = ['app_id', 'cited_grants', 'uncited_grants']\n",
        "    \n",
        "    return result_df"
      ],
      "execution_count": 0,
      "outputs": []
    },
    {
      "metadata": {
        "id": "1C89LGfRzmi_",
        "colab_type": "code",
        "colab": {
          "base_uri": "https://localhost:8080/",
          "height": 53
        },
        "outputId": "0a4ccd73-03fd-4423-82e8-b9dc301bab96"
      },
      "cell_type": "code",
      "source": [
        "%%time\n",
        "\n",
        "random.seed(0)\n",
        "test = create_triplet_pairs(0, 100)"
      ],
      "execution_count": 53,
      "outputs": [
        {
          "output_type": "stream",
          "text": [
            "CPU times: user 3.19 s, sys: 4.85 ms, total: 3.2 s\n",
            "Wall time: 3.19 s\n"
          ],
          "name": "stdout"
        }
      ]
    },
    {
      "metadata": {
        "id": "yU9Cdwr6zmWW",
        "colab_type": "code",
        "colab": {
          "base_uri": "https://localhost:8080/",
          "height": 111
        },
        "outputId": "ac5121ef-0ae0-451d-d54e-6347baf417ee"
      },
      "cell_type": "code",
      "source": [
        "test.head(2)"
      ],
      "execution_count": 54,
      "outputs": [
        {
          "output_type": "execute_result",
          "data": {
            "text/html": [
              "<div>\n",
              "<style scoped>\n",
              "    .dataframe tbody tr th:only-of-type {\n",
              "        vertical-align: middle;\n",
              "    }\n",
              "\n",
              "    .dataframe tbody tr th {\n",
              "        vertical-align: top;\n",
              "    }\n",
              "\n",
              "    .dataframe thead th {\n",
              "        text-align: right;\n",
              "    }\n",
              "</style>\n",
              "<table border=\"1\" class=\"dataframe\">\n",
              "  <thead>\n",
              "    <tr style=\"text-align: right;\">\n",
              "      <th></th>\n",
              "      <th>app_id</th>\n",
              "      <th>cited_grants</th>\n",
              "      <th>uncited_grants</th>\n",
              "    </tr>\n",
              "  </thead>\n",
              "  <tbody>\n",
              "    <tr>\n",
              "      <th>0</th>\n",
              "      <td>14222691</td>\n",
              "      <td>8206188</td>\n",
              "      <td>7474966</td>\n",
              "    </tr>\n",
              "    <tr>\n",
              "      <th>1</th>\n",
              "      <td>14222691</td>\n",
              "      <td>8177561</td>\n",
              "      <td>6925385</td>\n",
              "    </tr>\n",
              "  </tbody>\n",
              "</table>\n",
              "</div>"
            ],
            "text/plain": [
              "     app_id  cited_grants  uncited_grants\n",
              "0  14222691       8206188         7474966\n",
              "1  14222691       8177561         6925385"
            ]
          },
          "metadata": {
            "tags": []
          },
          "execution_count": 54
        }
      ]
    },
    {
      "metadata": {
        "id": "3s9hVnI9zmJw",
        "colab_type": "code",
        "colab": {
          "base_uri": "https://localhost:8080/",
          "height": 35
        },
        "outputId": "061ab416-36f1-4656-e25a-d6a2debd5a1e"
      },
      "cell_type": "code",
      "source": [
        "len(test)"
      ],
      "execution_count": 55,
      "outputs": [
        {
          "output_type": "execute_result",
          "data": {
            "text/plain": [
              "1282"
            ]
          },
          "metadata": {
            "tags": []
          },
          "execution_count": 55
        }
      ]
    },
    {
      "metadata": {
        "id": "ynE27ArPz8Qi",
        "colab_type": "code",
        "colab": {}
      },
      "cell_type": "code",
      "source": [
        "random.seed(1)\n",
        "test = create_triplet_pairs(0, 100)"
      ],
      "execution_count": 0,
      "outputs": []
    },
    {
      "metadata": {
        "id": "Raov55VGz8DA",
        "colab_type": "code",
        "colab": {
          "base_uri": "https://localhost:8080/",
          "height": 111
        },
        "outputId": "738cfb06-33db-4ebe-d344-0299b35ecf8d"
      },
      "cell_type": "code",
      "source": [
        "test.head(2)"
      ],
      "execution_count": 57,
      "outputs": [
        {
          "output_type": "execute_result",
          "data": {
            "text/html": [
              "<div>\n",
              "<style scoped>\n",
              "    .dataframe tbody tr th:only-of-type {\n",
              "        vertical-align: middle;\n",
              "    }\n",
              "\n",
              "    .dataframe tbody tr th {\n",
              "        vertical-align: top;\n",
              "    }\n",
              "\n",
              "    .dataframe thead th {\n",
              "        text-align: right;\n",
              "    }\n",
              "</style>\n",
              "<table border=\"1\" class=\"dataframe\">\n",
              "  <thead>\n",
              "    <tr style=\"text-align: right;\">\n",
              "      <th></th>\n",
              "      <th>app_id</th>\n",
              "      <th>cited_grants</th>\n",
              "      <th>uncited_grants</th>\n",
              "    </tr>\n",
              "  </thead>\n",
              "  <tbody>\n",
              "    <tr>\n",
              "      <th>0</th>\n",
              "      <td>14222691</td>\n",
              "      <td>8206188</td>\n",
              "      <td>6977086</td>\n",
              "    </tr>\n",
              "    <tr>\n",
              "      <th>1</th>\n",
              "      <td>14222691</td>\n",
              "      <td>8177561</td>\n",
              "      <td>7252786</td>\n",
              "    </tr>\n",
              "  </tbody>\n",
              "</table>\n",
              "</div>"
            ],
            "text/plain": [
              "     app_id  cited_grants  uncited_grants\n",
              "0  14222691       8206188         6977086\n",
              "1  14222691       8177561         7252786"
            ]
          },
          "metadata": {
            "tags": []
          },
          "execution_count": 57
        }
      ]
    },
    {
      "metadata": {
        "id": "PqhWQidSz704",
        "colab_type": "code",
        "colab": {}
      },
      "cell_type": "code",
      "source": [
        ""
      ],
      "execution_count": 0,
      "outputs": []
    },
    {
      "metadata": {
        "id": "WqN4jnd80EqV",
        "colab_type": "text"
      },
      "cell_type": "markdown",
      "source": [
        "### Train Model"
      ]
    },
    {
      "metadata": {
        "id": "-hGgEJh31QhD",
        "colab_type": "code",
        "colab": {
          "base_uri": "https://localhost:8080/",
          "height": 35
        },
        "outputId": "6f118066-bd1a-4b95-a9fe-f812cb734fca"
      },
      "cell_type": "code",
      "source": [
        "tf.executing_eagerly() "
      ],
      "execution_count": 13,
      "outputs": [
        {
          "output_type": "execute_result",
          "data": {
            "text/plain": [
              "True"
            ]
          },
          "metadata": {
            "tags": []
          },
          "execution_count": 13
        }
      ]
    },
    {
      "metadata": {
        "id": "1VelgDe01C1L",
        "colab_type": "code",
        "colab": {}
      },
      "cell_type": "code",
      "source": [
        "class Model(object):\n",
        "    def __init__(self, input_shape, output_shape):\n",
        "        self.input_shape = input_shape\n",
        "        self.output_shape = output_shape\n",
        "        self.W = tf.Variable( tf.random_normal( [self.input_shape, self.output_shape] ), name='weight' )\n",
        "        self.B = tf.Variable( tf.random_normal( [self.output_shape] ), name='bias' ) \n",
        "        self.variables = [ self.W, self.B ]\n",
        "    \n",
        "    def frwrd_pass(self,X_train):\n",
        "        out = tf.matmul( X_train, self.W ) + self.B\n",
        "        \n",
        "        return out"
      ],
      "execution_count": 0,
      "outputs": []
    },
    {
      "metadata": {
        "id": "4h9wPncs1Cpf",
        "colab_type": "code",
        "colab": {}
      },
      "cell_type": "code",
      "source": [
        "def tripletloss(anchor_out, positive_out, negative_out, margin=0.2):\n",
        "    norm_a_out = tf.nn.l2_normalize(anchor_out, axis=1)\n",
        "    norm_p_out = tf.nn.l2_normalize(positive_out, axis=1)\n",
        "    norm_n_out = tf.nn.l2_normalize(negative_out, axis=1)\n",
        "    \n",
        "    d_pos = tf.losses.cosine_distance(norm_a_out, norm_p_out, axis=1, reduction=tf.losses.Reduction.NONE)\n",
        "    d_neg = tf.losses.cosine_distance(norm_a_out, norm_n_out, axis=1, reduction=tf.losses.Reduction.NONE)\n",
        "    \n",
        "    loss = tf.maximum(0.0, margin + d_pos - d_neg)\n",
        "    \n",
        "    return tf.reduce_mean(loss)"
      ],
      "execution_count": 0,
      "outputs": []
    },
    {
      "metadata": {
        "id": "dgI3lw1i1CdO",
        "colab_type": "code",
        "colab": {}
      },
      "cell_type": "code",
      "source": [
        "def create_training_input_np(sidx, eidx):\n",
        "    anchor_list = []\n",
        "    positive_list = []\n",
        "    negative_list = []\n",
        "    \n",
        "    triplet_pairs = create_triplet_pairs(sidx, eidx)\n",
        "    \n",
        "    for row in triplet_pairs.itertuples():\n",
        "        anchor_list.append(train_normalized_feature_dict_1000[row.app_id])\n",
        "        positive_list.append(grants_normalized_feature_dict_2000[row.cited_grants])\n",
        "        negative_list.append(grants_normalized_feature_dict_2000[row.uncited_grants])\n",
        "    \n",
        "    return np.array([np.array(anchor_list), np.array(positive_list), np.array(negative_list)])"
      ],
      "execution_count": 0,
      "outputs": []
    },
    {
      "metadata": {
        "id": "duVgYaP7M9rL",
        "colab_type": "code",
        "colab": {}
      },
      "cell_type": "code",
      "source": [
        "def calc_loss_with_changing_negative_pair(sidx, eidx, lossfun=tripletloss, batch_size=10):\n",
        "    seed = 0\n",
        "    all_loss = []\n",
        "    random.seed(seed)\n",
        "\n",
        "    input_data_np = create_training_input_np(sidx, eidx)\n",
        "    data_num = int(input_data_np.shape[1])\n",
        "    rand_idx = np.random.permutation(data_num)\n",
        "    index_data_np = np.array([\n",
        "        input_data_np[0][rand_idx], \n",
        "        input_data_np[1][rand_idx], \n",
        "        input_data_np[2][rand_idx]])\n",
        "\n",
        "    input_data = tf.convert_to_tensor(input_data_np, dtype=tf.float32)\n",
        "    anchor_data, positive_data, negative_data = input_data\n",
        "\n",
        "    for iter_id in range(data_num // batch_size):\n",
        "      anchor_out = model.frwrd_pass(anchor_data[iter_id*batch_size : (iter_id+1)*batch_size])\n",
        "      positive_out = model.frwrd_pass(positive_data[iter_id*batch_size : (iter_id+1)*batch_size])\n",
        "      negative_out = model.frwrd_pass(negative_data[iter_id*batch_size : (iter_id+1)*batch_size])\n",
        "      curr_loss = lossfun(anchor_out, positive_out, negative_out)\n",
        "      all_loss.append(curr_loss)\n",
        "\n",
        "    print(sum(all_loss)/len(all_loss))"
      ],
      "execution_count": 0,
      "outputs": []
    },
    {
      "metadata": {
        "id": "D40KBBMlTVex",
        "colab_type": "code",
        "colab": {
          "base_uri": "https://localhost:8080/",
          "height": 70
        },
        "outputId": "9f23c2f1-9b19-4b21-cff0-959b1ad02e00"
      },
      "cell_type": "code",
      "source": [
        "calc_loss_with_changing_negative_pair(0, 100)\n",
        "calc_loss_with_changing_negative_pair(900, 1000)\n",
        "calc_loss_with_changing_negative_pair(1900, 2000)"
      ],
      "execution_count": 241,
      "outputs": [
        {
          "output_type": "stream",
          "text": [
            "tf.Tensor(0.01658673, shape=(), dtype=float32)\n",
            "tf.Tensor(0.09671563, shape=(), dtype=float32)\n",
            "tf.Tensor(0.1443036, shape=(), dtype=float32)\n"
          ],
          "name": "stdout"
        }
      ]
    },
    {
      "metadata": {
        "id": "8iU2l1qPzl9F",
        "colab_type": "code",
        "colab": {}
      },
      "cell_type": "code",
      "source": [
        "def train_with_changing_negative_pair_with_loss(sidx, eidx, lossfun, batch_size, epochs):\n",
        "    optimizer = tf.train.AdamOptimizer(learning_rate=0.00001)\n",
        "    \n",
        "    seed = 0\n",
        "    for i in range(epochs):\n",
        "        seed += 1\n",
        "        random.seed(seed)\n",
        "        \n",
        "        input_data_np = create_training_input_np(sidx, eidx)\n",
        "        data_num = int(input_data_np.shape[1])\n",
        "        rand_idx = np.random.permutation(data_num)\n",
        "        index_data_np = np.array([\n",
        "            input_data_np[0][rand_idx], \n",
        "            input_data_np[1][rand_idx], \n",
        "            input_data_np[2][rand_idx]])\n",
        "\n",
        "        input_data = tf.convert_to_tensor(input_data_np, dtype=tf.float32)\n",
        "        anchor_data, positive_data, negative_data = input_data\n",
        "\n",
        "        for iter_id in range(data_num // batch_size):        \n",
        "            with tf.GradientTape() as tape:\n",
        "                anchor_out = model.frwrd_pass(anchor_data[iter_id*batch_size : (iter_id+1)*batch_size])\n",
        "                positive_out = model.frwrd_pass(positive_data[iter_id*batch_size : (iter_id+1)*batch_size])\n",
        "                negative_out = model.frwrd_pass(negative_data[iter_id*batch_size : (iter_id+1)*batch_size])\n",
        "                curr_loss = lossfun(anchor_out, positive_out, negative_out)\n",
        "            grads = tape.gradient( curr_loss, model.variables )\n",
        "            optimizer.apply_gradients(zip(grads, model.variables), global_step=tf.train.get_or_create_global_step())\n",
        "\n",
        "        if i % 10 == 0:\n",
        "            print( \"Loss at step {:d}: {:.5f}\".format(i, curr_loss) )\n",
        "\n",
        "def train_with_changing_negative_pair(sidx, eidx, batch_size, epochs):\n",
        "  train_with_changing_negative_pair_with_loss(sidx, eidx, tripletloss, batch_size, epochs)"
      ],
      "execution_count": 0,
      "outputs": []
    },
    {
      "metadata": {
        "id": "RlOvi43XsPYq",
        "colab_type": "code",
        "colab": {}
      },
      "cell_type": "code",
      "source": [
        "# start_end_index_pairs = (\n",
        "#     (0, 100),\n",
        "#     (100, 200),\n",
        "#     (200, 300),\n",
        "#     (300, 400),\n",
        "#     (400, 500),\n",
        "#     (500, 600),\n",
        "#     (600, 700),\n",
        "#     (700, 800),\n",
        "#     (800, 900),\n",
        "#     (900, 1000),\n",
        "#     (1000, 1100),\n",
        "#     (1100, 1200),\n",
        "#     (1200, 1300),\n",
        "#     (1300, 1400),\n",
        "#     (1400, 1500),\n",
        "#     (1500, 1600),\n",
        "#     (1600, 1700),\n",
        "#     (1700, 1800),\n",
        "#     (1800, 1900),\n",
        "#     (1900, 2000)\n",
        "# )\n",
        "\n",
        "# start_end_index_pairs = (\n",
        "#     (0, 400),\n",
        "#     (400, 800),\n",
        "#     (800, 1200),\n",
        "#     (1200, 1600),\n",
        "#     (1600, 2000)\n",
        "# )\n",
        "\n",
        "start_end_index_pairs = (\n",
        "    (0, 100),\n",
        "    (900, 1000),\n",
        "    (1900, 2000)\n",
        ")"
      ],
      "execution_count": 0,
      "outputs": []
    },
    {
      "metadata": {
        "id": "M3pIAQlE1vaD",
        "colab_type": "code",
        "colab": {}
      },
      "cell_type": "code",
      "source": [
        "model = Model(input_shape=768, output_shape=100)"
      ],
      "execution_count": 0,
      "outputs": []
    },
    {
      "metadata": {
        "id": "HkQpJDgz1y24",
        "colab_type": "code",
        "colab": {
          "base_uri": "https://localhost:8080/",
          "height": 266
        },
        "outputId": "52b562ee-95fc-4d2f-ee6f-b325afbc364b"
      },
      "cell_type": "code",
      "source": [
        "%%time\n",
        "\n",
        "# for sidx, eidx in start_end_index_pairs:\n",
        "#     print(\"   start index: {}, end index: {}\".format(sidx,eidx))\n",
        "#     train_with_changing_negative_pair(sidx, eidx, batch_size=10, epochs=31)\n",
        "\n",
        "# for sidx, eidx in start_end_index_pairs:\n",
        "#     print(\"   start index: {}, end index: {}\".format(sidx,eidx))\n",
        "#     train_with_changing_negative_pair(sidx, eidx, batch_size=10, epochs=51)\n",
        "\n",
        "for sidx, eidx in start_end_index_pairs:\n",
        "    print(\"   start index: {}, end index: {}\".format(sidx,eidx))\n",
        "    train_with_changing_negative_pair(sidx, eidx, batch_size=10, epochs=21)"
      ],
      "execution_count": 242,
      "outputs": [
        {
          "output_type": "stream",
          "text": [
            "   start index: 0, end index: 100\n",
            "Loss at step 0: 0.02616\n",
            "Loss at step 10: 0.00717\n",
            "Loss at step 20: 0.01298\n",
            "   start index: 900, end index: 1000\n",
            "Loss at step 0: 0.09295\n",
            "Loss at step 10: 0.09062\n",
            "Loss at step 20: 0.06588\n",
            "   start index: 1900, end index: 2000\n",
            "Loss at step 0: 0.09322\n",
            "Loss at step 10: 0.09928\n",
            "Loss at step 20: 0.06732\n",
            "CPU times: user 4min 46s, sys: 4.02 s, total: 4min 50s\n",
            "Wall time: 4min 34s\n"
          ],
          "name": "stdout"
        }
      ]
    },
    {
      "metadata": {
        "id": "ifl9k11BU8FV",
        "colab_type": "code",
        "colab": {
          "base_uri": "https://localhost:8080/",
          "height": 70
        },
        "outputId": "04e2fa99-db1e-4637-bfc7-9c22630345c6"
      },
      "cell_type": "code",
      "source": [
        "calc_loss_with_changing_negative_pair(0, 100)\n",
        "calc_loss_with_changing_negative_pair(900, 1000)\n",
        "calc_loss_with_changing_negative_pair(1900, 2000)"
      ],
      "execution_count": 243,
      "outputs": [
        {
          "output_type": "stream",
          "text": [
            "tf.Tensor(0.00667771, shape=(), dtype=float32)\n",
            "tf.Tensor(0.027310502, shape=(), dtype=float32)\n",
            "tf.Tensor(0.072016366, shape=(), dtype=float32)\n"
          ],
          "name": "stdout"
        }
      ]
    },
    {
      "metadata": {
        "id": "AySNlRm-U7sm",
        "colab_type": "code",
        "colab": {}
      },
      "cell_type": "code",
      "source": [
        ""
      ],
      "execution_count": 0,
      "outputs": []
    },
    {
      "metadata": {
        "id": "XKrHg1HB3JTb",
        "colab_type": "code",
        "colab": {}
      },
      "cell_type": "code",
      "source": [
        ""
      ],
      "execution_count": 0,
      "outputs": []
    },
    {
      "metadata": {
        "id": "F1pQLCud3JGs",
        "colab_type": "code",
        "colab": {}
      },
      "cell_type": "code",
      "source": [
        ""
      ],
      "execution_count": 0,
      "outputs": []
    },
    {
      "metadata": {
        "id": "qwrpG0hx1ynm",
        "colab_type": "code",
        "colab": {
          "base_uri": "https://localhost:8080/",
          "height": 73
        },
        "outputId": "7324e6b0-3b75-477e-bc32-d086de073ad2"
      },
      "cell_type": "code",
      "source": [
        "# I do not save model these days.\n",
        "\n",
        "# os.makedirs('../trained_model/tripletloss_circulum', exist_ok=True)\n",
        "# saver = tf.contrib.eager.Saver(model.variables)\n",
        "# saver.save(\"../trained_model/tripletloss_circulum/ckpt\")"
      ],
      "execution_count": 23,
      "outputs": [
        {
          "output_type": "stream",
          "text": [
            "WARNING:tensorflow:Saver is deprecated, please switch to tf.train.Checkpoint or tf.keras.Model.save_weights for training checkpoints. When executing eagerly variables do not necessarily have unique names, and so the variable.name-based lookups Saver performs are error-prone.\n"
          ],
          "name": "stdout"
        },
        {
          "output_type": "execute_result",
          "data": {
            "text/plain": [
              "'../trained_model/tripletloss_circulum/ckpt'"
            ]
          },
          "metadata": {
            "tags": []
          },
          "execution_count": 23
        }
      ]
    },
    {
      "metadata": {
        "id": "P-UtLTS11vNJ",
        "colab_type": "code",
        "colab": {}
      },
      "cell_type": "code",
      "source": [
        ""
      ],
      "execution_count": 0,
      "outputs": []
    },
    {
      "metadata": {
        "id": "I8nUhLAs1vA9",
        "colab_type": "code",
        "colab": {}
      },
      "cell_type": "code",
      "source": [
        ""
      ],
      "execution_count": 0,
      "outputs": []
    },
    {
      "metadata": {
        "id": "CB09kp2H4xtx",
        "colab_type": "text"
      },
      "cell_type": "markdown",
      "source": [
        "### Inferece with trained model\n",
        "\n",
        "Saver seems fragile in eager mode. I use trained model on memory."
      ]
    },
    {
      "metadata": {
        "id": "3d7P3_KX5KKR",
        "colab_type": "code",
        "colab": {}
      },
      "cell_type": "code",
      "source": [
        "test_normalized_feature_dict_1000 = { \n",
        "    k:v/np.linalg.norm(v) for k,v in zip(test_app_df['app_id'], test_features[:, ])\n",
        "}\n"
      ],
      "execution_count": 0,
      "outputs": []
    },
    {
      "metadata": {
        "id": "rjRD0YO3rdSh",
        "colab_type": "code",
        "colab": {}
      },
      "cell_type": "code",
      "source": [
        ""
      ],
      "execution_count": 0,
      "outputs": []
    },
    {
      "metadata": {
        "id": "JoxZ_24Xje9q",
        "colab_type": "code",
        "colab": {}
      },
      "cell_type": "code",
      "source": [
        "def to_extracted_features(normalized_feature_dict, model):\n",
        "  # doc_id is app_id for application, pared for grants.\n",
        "  sorted_keys = sorted(normalized_feature_dict.keys())\n",
        "\n",
        "  input_tensors = tf.convert_to_tensor(\n",
        "      np.array([ normalized_feature_dict[k] for k in sorted_keys ]),\n",
        "      dtype=tf.float32)\n",
        "  extracted_features = model.frwrd_pass(input_tensors).numpy()\n",
        "  return pd.DataFrame({ \n",
        "    'doc_id':sorted_keys, 'extracted_feature':[ v/np.linalg.norm(v) for v in extracted_features ]})"
      ],
      "execution_count": 0,
      "outputs": []
    },
    {
      "metadata": {
        "id": "h8Vali_FkR6a",
        "colab_type": "code",
        "colab": {}
      },
      "cell_type": "code",
      "source": [
        "test_extracted_features_df = to_extracted_features(test_normalized_feature_dict_1000, model)\n",
        "grants_extracted_features_df = to_extracted_features(grants_normalized_feature_dict_2000, model)"
      ],
      "execution_count": 0,
      "outputs": []
    },
    {
      "metadata": {
        "id": "IjjVKmHZ5X3m",
        "colab_type": "code",
        "colab": {
          "base_uri": "https://localhost:8080/",
          "height": 111
        },
        "outputId": "2964b5ca-b4eb-4a76-f538-fc93d6620b09"
      },
      "cell_type": "code",
      "source": [
        "test_extracted_features_df.head(2)"
      ],
      "execution_count": 245,
      "outputs": [
        {
          "output_type": "execute_result",
          "data": {
            "text/html": [
              "<div>\n",
              "<style scoped>\n",
              "    .dataframe tbody tr th:only-of-type {\n",
              "        vertical-align: middle;\n",
              "    }\n",
              "\n",
              "    .dataframe tbody tr th {\n",
              "        vertical-align: top;\n",
              "    }\n",
              "\n",
              "    .dataframe thead th {\n",
              "        text-align: right;\n",
              "    }\n",
              "</style>\n",
              "<table border=\"1\" class=\"dataframe\">\n",
              "  <thead>\n",
              "    <tr style=\"text-align: right;\">\n",
              "      <th></th>\n",
              "      <th>doc_id</th>\n",
              "      <th>extracted_feature</th>\n",
              "    </tr>\n",
              "  </thead>\n",
              "  <tbody>\n",
              "    <tr>\n",
              "      <th>0</th>\n",
              "      <td>12000862</td>\n",
              "      <td>[-0.06014522, 0.15319835, -0.094469905, 0.0928...</td>\n",
              "    </tr>\n",
              "    <tr>\n",
              "      <th>1</th>\n",
              "      <td>12003258</td>\n",
              "      <td>[-0.14375061, 0.054770324, 0.052622166, 0.2140...</td>\n",
              "    </tr>\n",
              "  </tbody>\n",
              "</table>\n",
              "</div>"
            ],
            "text/plain": [
              "     doc_id                                  extracted_feature\n",
              "0  12000862  [-0.06014522, 0.15319835, -0.094469905, 0.0928...\n",
              "1  12003258  [-0.14375061, 0.054770324, 0.052622166, 0.2140..."
            ]
          },
          "metadata": {
            "tags": []
          },
          "execution_count": 245
        }
      ]
    },
    {
      "metadata": {
        "id": "xLHmOk9r6Btu",
        "colab_type": "code",
        "colab": {
          "base_uri": "https://localhost:8080/",
          "height": 111
        },
        "outputId": "163e05e8-c19c-442b-8cdd-cf4f81cc6699"
      },
      "cell_type": "code",
      "source": [
        "grants_extracted_features_df.head(2)"
      ],
      "execution_count": 246,
      "outputs": [
        {
          "output_type": "execute_result",
          "data": {
            "text/html": [
              "<div>\n",
              "<style scoped>\n",
              "    .dataframe tbody tr th:only-of-type {\n",
              "        vertical-align: middle;\n",
              "    }\n",
              "\n",
              "    .dataframe tbody tr th {\n",
              "        vertical-align: top;\n",
              "    }\n",
              "\n",
              "    .dataframe thead th {\n",
              "        text-align: right;\n",
              "    }\n",
              "</style>\n",
              "<table border=\"1\" class=\"dataframe\">\n",
              "  <thead>\n",
              "    <tr style=\"text-align: right;\">\n",
              "      <th></th>\n",
              "      <th>doc_id</th>\n",
              "      <th>extracted_feature</th>\n",
              "    </tr>\n",
              "  </thead>\n",
              "  <tbody>\n",
              "    <tr>\n",
              "      <th>0</th>\n",
              "      <td>6837383</td>\n",
              "      <td>[0.17937347, 0.06213054, -0.0074147717, 0.2118...</td>\n",
              "    </tr>\n",
              "    <tr>\n",
              "      <th>1</th>\n",
              "      <td>6837647</td>\n",
              "      <td>[0.15643527, 0.080645256, -0.041111432, 0.1119...</td>\n",
              "    </tr>\n",
              "  </tbody>\n",
              "</table>\n",
              "</div>"
            ],
            "text/plain": [
              "    doc_id                                  extracted_feature\n",
              "0  6837383  [0.17937347, 0.06213054, -0.0074147717, 0.2118...\n",
              "1  6837647  [0.15643527, 0.080645256, -0.041111432, 0.1119..."
            ]
          },
          "metadata": {
            "tags": []
          },
          "execution_count": 246
        }
      ]
    },
    {
      "metadata": {
        "id": "2AuzXH3Ak_Gc",
        "colab_type": "code",
        "colab": {}
      },
      "cell_type": "code",
      "source": [
        "def create_sim_dict(test_extracted_df, grants_extracted_df):\n",
        "  return {\n",
        "    app_id:{ parsed:np.sum(test_f*grants_f)\n",
        "            for parsed, grants_f \n",
        "            in zip(grants_extracted_df['doc_id'], grants_extracted_df['extracted_feature']) } \n",
        "    for app_id, test_f \n",
        "    in zip(test_extracted_df['doc_id'], test_extracted_df['extracted_feature'])\n",
        "  }"
      ],
      "execution_count": 0,
      "outputs": []
    },
    {
      "metadata": {
        "id": "oCeJA8_t6He7",
        "colab_type": "code",
        "colab": {
          "base_uri": "https://localhost:8080/",
          "height": 53
        },
        "outputId": "8efcc7cb-d41b-48c5-e76f-c8e3e0dca00c"
      },
      "cell_type": "code",
      "source": [
        "%%time\n",
        "\n",
        "sim_dict_by_extracted = create_sim_dict(test_extracted_features_df, grants_extracted_features_df)"
      ],
      "execution_count": 247,
      "outputs": [
        {
          "output_type": "stream",
          "text": [
            "CPU times: user 10.1 s, sys: 153 ms, total: 10.3 s\n",
            "Wall time: 10.3 s\n"
          ],
          "name": "stdout"
        }
      ]
    },
    {
      "metadata": {
        "id": "pozoePLbtLIs",
        "colab_type": "code",
        "colab": {}
      },
      "cell_type": "code",
      "source": [
        "import collections\n",
        "\n",
        "def calc_all_ranks(all_app_ids, sim_dic):\n",
        "  all_ranks = []\n",
        "\n",
        "  for app_id in all_app_ids:\n",
        "      cited_grants = get_cited_grants(citations_info_target, app_id)\n",
        "      sorted_kv = reversed(sort_similarity_by_value(sim_dic, app_id))  # higher score, similar patent\n",
        "\n",
        "      idx = 1\n",
        "      for k,v in sorted_kv:\n",
        "          if k in cited_grants:\n",
        "              all_ranks.append(idx)\n",
        "          idx += 1\n",
        "  return all_ranks\n",
        "\n",
        "def calc_all_ranks_counter(all_app_ids, sim_dic):\n",
        "  return collections.Counter(calc_all_ranks(all_app_ids, sim_dic))"
      ],
      "execution_count": 0,
      "outputs": []
    },
    {
      "metadata": {
        "id": "ZrKwKhdCtqc7",
        "colab_type": "code",
        "colab": {
          "base_uri": "https://localhost:8080/",
          "height": 55
        },
        "outputId": "991cd770-4cf3-421b-b1c8-64b8f3933c9a"
      },
      "cell_type": "code",
      "source": [
        "counter = calc_all_ranks_counter(test_extracted_features_df['doc_id'], sim_dict_by_extracted)\n",
        "print(counter)"
      ],
      "execution_count": 250,
      "outputs": [
        {
          "output_type": "stream",
          "text": [
            "Counter({1: 131, 2: 61, 3: 44, 7: 27, 6: 27, 4: 26, 5: 25, 11: 19, 10: 16, 15: 15, 22: 15, 9: 13, 19: 13, 34: 12, 25: 11, 31: 11, 18: 11, 21: 11, 12: 10, 8: 10, 24: 10, 23: 10, 17: 9, 27: 9, 13: 9, 14: 8, 26: 7, 55: 7, 43: 7, 41: 7, 38: 7, 30: 7, 36: 6, 16: 6, 69: 5, 28: 5, 37: 5, 62: 5, 49: 5, 54: 5, 182: 5, 134: 5, 50: 5, 51: 5, 130: 5, 84: 5, 33: 5, 48: 4, 186: 4, 52: 4, 35: 4, 127: 4, 91: 4, 32: 4, 20: 4, 65: 4, 68: 4, 46: 4, 120: 4, 449: 4, 101: 4, 56: 4, 57: 3, 286: 3, 61: 3, 63: 3, 106: 3, 128: 3, 53: 3, 129: 3, 125: 3, 206: 3, 76: 3, 108: 3, 167: 3, 39: 3, 107: 3, 190: 3, 73: 3, 168: 3, 191: 3, 117: 3, 110: 3, 132: 3, 44: 3, 72: 3, 243: 3, 149: 3, 40: 3, 112: 3, 196: 3, 171: 3, 159: 3, 29: 3, 151: 3, 672: 2, 60: 2, 161: 2, 266: 2, 118: 2, 96: 2, 162: 2, 443: 2, 166: 2, 193: 2, 201: 2, 1002: 2, 165: 2, 42: 2, 75: 2, 126: 2, 119: 2, 722: 2, 185: 2, 89: 2, 501: 2, 306: 2, 331: 2, 184: 2, 183: 2, 321: 2, 622: 2, 239: 2, 359: 2, 311: 2, 59: 2, 133: 2, 64: 2, 93: 2, 99: 2, 312: 2, 77: 2, 105: 2, 335: 2, 680: 2, 486: 2, 79: 2, 267: 2, 67: 2, 78: 2, 140: 2, 176: 2, 47: 2, 94: 2, 104: 2, 1331: 2, 317: 2, 174: 2, 97: 2, 231: 2, 124: 2, 446: 2, 432: 2, 363: 2, 261: 2, 205: 2, 103: 2, 74: 2, 83: 2, 177: 2, 252: 2, 259: 2, 66: 2, 320: 2, 624: 1, 92: 1, 1863: 1, 114: 1, 1254: 1, 1321: 1, 1475: 1, 1105: 1, 1875: 1, 333: 1, 971: 1, 472: 1, 216: 1, 58: 1, 1978: 1, 375: 1, 626: 1, 1311: 1, 232: 1, 509: 1, 677: 1, 366: 1, 98: 1, 100: 1, 414: 1, 2338: 1, 1632: 1, 305: 1, 1446: 1, 1778: 1, 194: 1, 263: 1, 795: 1, 749: 1, 431: 1, 528: 1, 542: 1, 464: 1, 534: 1, 326: 1, 1126: 1, 660: 1, 934: 1, 761: 1, 2312: 1, 655: 1, 1572: 1, 328: 1, 891: 1, 2410: 1, 442: 1, 197: 1, 520: 1, 546: 1, 2421: 1, 496: 1, 2208: 1, 2320: 1, 298: 1, 131: 1, 407: 1, 163: 1, 1262: 1, 970: 1, 1007: 1, 113: 1, 204: 1, 332: 1, 593: 1, 868: 1, 2116: 1, 741: 1, 1611: 1, 1887: 1, 748: 1, 82: 1, 353: 1, 933: 1, 258: 1, 939: 1, 303: 1, 422: 1, 1407: 1, 384: 1, 530: 1, 244: 1, 81: 1, 300: 1, 914: 1, 45: 1, 489: 1, 1027: 1, 793: 1, 1635: 1, 418: 1, 574: 1, 701: 1, 831: 1, 527: 1, 458: 1, 253: 1, 1024: 1, 170: 1, 219: 1, 1040: 1, 1769: 1, 1171: 1, 711: 1, 173: 1, 270: 1, 1275: 1, 830: 1, 1765: 1, 179: 1, 1317: 1, 1032: 1, 1129: 1, 1071: 1, 936: 1, 309: 1, 153: 1, 342: 1, 848: 1, 389: 1, 1148: 1, 513: 1, 798: 1, 455: 1, 1463: 1, 1361: 1, 578: 1, 737: 1, 234: 1, 242: 1, 265: 1, 1122: 1, 274: 1, 502: 1, 367: 1, 284: 1, 498: 1, 927: 1, 225: 1, 805: 1, 158: 1, 1044: 1, 518: 1, 268: 1, 824: 1, 510: 1, 334: 1, 1603: 1, 147: 1, 1512: 1, 559: 1, 192: 1, 343: 1, 394: 1, 1117: 1, 2027: 1, 122: 1, 428: 1, 1333: 1, 282: 1, 214: 1, 95: 1, 504: 1, 490: 1, 567: 1, 215: 1, 121: 1, 1459: 1, 199: 1, 1435: 1, 1052: 1, 276: 1, 1026: 1, 2218: 1, 406: 1, 728: 1, 138: 1, 1862: 1, 444: 1, 148: 1, 651: 1, 767: 1, 1980: 1, 2372: 1, 1725: 1, 1493: 1, 740: 1, 350: 1, 564: 1, 111: 1, 157: 1, 476: 1, 264: 1, 543: 1, 1166: 1, 88: 1, 2088: 1, 217: 1, 1213: 1, 211: 1, 487: 1, 529: 1, 1823: 1, 417: 1, 299: 1, 1811: 1, 424: 1, 483: 1, 360: 1, 2241: 1, 1448: 1, 2428: 1, 616: 1, 314: 1, 154: 1, 369: 1, 296: 1, 202: 1, 560: 1, 241: 1, 376: 1, 152: 1, 142: 1, 1191: 1, 187: 1, 1337: 1, 1718: 1, 248: 1, 381: 1, 246: 1, 349: 1, 679: 1, 532: 1, 109: 1, 235: 1, 495: 1, 1001: 1, 879: 1, 135: 1, 563: 1, 633: 1, 644: 1, 400: 1, 876: 1, 625: 1, 1045: 1, 156: 1, 1295: 1, 70: 1, 1139: 1, 220: 1, 85: 1, 762: 1, 86: 1, 471: 1, 753: 1, 146: 1, 145: 1, 341: 1, 178: 1, 143: 1, 1355: 1, 536: 1, 1144: 1, 1229: 1, 1121: 1, 1137: 1, 344: 1})\n"
          ],
          "name": "stdout"
        }
      ]
    },
    {
      "metadata": {
        "id": "E3H2WOrQ6Weg",
        "colab_type": "code",
        "colab": {
          "base_uri": "https://localhost:8080/",
          "height": 35
        },
        "outputId": "347d6954-7185-41fe-ed37-c822078b3770"
      },
      "cell_type": "code",
      "source": [
        "# counter is started from 1.\n",
        "\n",
        "sum(counter[i] for i in range(11))"
      ],
      "execution_count": 251,
      "outputs": [
        {
          "output_type": "execute_result",
          "data": {
            "text/plain": [
              "380"
            ]
          },
          "metadata": {
            "tags": []
          },
          "execution_count": 251
        }
      ]
    },
    {
      "metadata": {
        "id": "TkKFXo8w9Ycg",
        "colab_type": "code",
        "colab": {}
      },
      "cell_type": "code",
      "source": [
        ""
      ],
      "execution_count": 0,
      "outputs": []
    },
    {
      "metadata": {
        "id": "JZihayov9YOm",
        "colab_type": "code",
        "colab": {}
      },
      "cell_type": "code",
      "source": [
        ""
      ],
      "execution_count": 0,
      "outputs": []
    },
    {
      "metadata": {
        "id": "9r3ZCqm19Z6z",
        "colab_type": "text"
      },
      "cell_type": "markdown",
      "source": [
        "### Use raw feature as is (for comparison)"
      ]
    },
    {
      "metadata": {
        "id": "Tl2DelEa945Y",
        "colab_type": "code",
        "colab": {
          "base_uri": "https://localhost:8080/",
          "height": 53
        },
        "outputId": "26d456c1-1aff-4421-b3ba-8c7c81a1da7e"
      },
      "cell_type": "code",
      "source": [
        "%%time\n",
        "\n",
        "sim_dict = {\n",
        "    app_id:{ parsed:np.sum(test_normalized_feature_dict_1000[app_id]*grants_normalized_feature_dict_2000[parsed])\n",
        "            for parsed \n",
        "            in grants_target_df['parsed'] } \n",
        "    for app_id \n",
        "    in test_app_df['app_id']\n",
        "}"
      ],
      "execution_count": 47,
      "outputs": [
        {
          "output_type": "stream",
          "text": [
            "CPU times: user 13.3 s, sys: 149 ms, total: 13.4 s\n",
            "Wall time: 13.4 s\n"
          ],
          "name": "stdout"
        }
      ]
    },
    {
      "metadata": {
        "id": "lVhFo-gT7YM-",
        "colab_type": "code",
        "colab": {
          "base_uri": "https://localhost:8080/",
          "height": 53
        },
        "outputId": "ccda1991-e3b2-4490-ad88-07895b8fae0c"
      },
      "cell_type": "code",
      "source": [
        "%%time\n",
        "\n",
        "all_ranks = []\n",
        "\n",
        "for app_id in test_app_df['app_id']:\n",
        "    cited_grants = get_cited_grants(citations_info_target, app_id)\n",
        "    sorted_kv = reversed(sort_similarity_by_value(sim_dict, app_id))  # higher score, similar patent\n",
        "\n",
        "    idx = 1\n",
        "    for k,v in sorted_kv:\n",
        "        if k in cited_grants:\n",
        "            all_ranks.append(idx)\n",
        "        idx += 1"
      ],
      "execution_count": 48,
      "outputs": [
        {
          "output_type": "stream",
          "text": [
            "CPU times: user 2.89 s, sys: 8.73 ms, total: 2.9 s\n",
            "Wall time: 2.89 s\n"
          ],
          "name": "stdout"
        }
      ]
    },
    {
      "metadata": {
        "id": "ZTQ45Vta9i5t",
        "colab_type": "code",
        "colab": {
          "base_uri": "https://localhost:8080/",
          "height": 55
        },
        "outputId": "3149b711-5f06-40fa-9e92-cf229f785c1d"
      },
      "cell_type": "code",
      "source": [
        "counter = collections.Counter(all_ranks)\n",
        "print(counter)"
      ],
      "execution_count": 49,
      "outputs": [
        {
          "output_type": "stream",
          "text": [
            "Counter({1: 178, 2: 73, 3: 46, 5: 40, 4: 38, 6: 31, 7: 19, 9: 17, 8: 16, 10: 15, 13: 13, 14: 13, 11: 13, 15: 12, 18: 12, 16: 11, 12: 10, 26: 9, 19: 9, 34: 9, 21: 8, 23: 8, 38: 7, 28: 7, 50: 6, 39: 6, 37: 6, 33: 6, 53: 6, 100: 5, 47: 5, 76: 5, 35: 5, 64: 5, 29: 5, 73: 5, 61: 5, 32: 5, 17: 5, 68: 5, 31: 5, 52: 4, 59: 4, 40: 4, 143: 4, 90: 4, 48: 4, 63: 4, 44: 4, 49: 4, 20: 4, 65: 4, 70: 4, 30: 4, 83: 3, 168: 3, 147: 3, 114: 3, 22: 3, 444: 3, 93: 3, 43: 3, 121: 3, 122: 3, 189: 3, 148: 3, 51: 3, 57: 3, 46: 3, 25: 3, 385: 3, 66: 3, 85: 3, 125: 3, 304: 3, 36: 3, 195: 3, 92: 3, 187: 3, 69: 3, 99: 3, 411: 2, 24: 2, 131: 2, 262: 2, 724: 2, 72: 2, 454: 2, 396: 2, 87: 2, 130: 2, 413: 2, 89: 2, 157: 2, 292: 2, 1182: 2, 264: 2, 133: 2, 78: 2, 174: 2, 56: 2, 67: 2, 227: 2, 134: 2, 163: 2, 97: 2, 126: 2, 517: 2, 213: 2, 128: 2, 110: 2, 112: 2, 173: 2, 62: 2, 42: 2, 179: 2, 378: 2, 155: 2, 88: 2, 376: 2, 505: 2, 183: 2, 167: 2, 105: 2, 45: 2, 209: 2, 211: 2, 74: 2, 75: 2, 415: 2, 617: 2, 169: 2, 615: 2, 181: 2, 192: 2, 2394: 2, 258: 2, 571: 2, 41: 2, 696: 2, 77: 2, 485: 2, 184: 2, 645: 1, 704: 1, 1316: 1, 1373: 1, 1984: 1, 445: 1, 104: 1, 835: 1, 459: 1, 216: 1, 1004: 1, 1888: 1, 1459: 1, 144: 1, 2370: 1, 2443: 1, 299: 1, 537: 1, 1627: 1, 983: 1, 249: 1, 219: 1, 614: 1, 943: 1, 703: 1, 1340: 1, 1550: 1, 914: 1, 106: 1, 589: 1, 593: 1, 399: 1, 574: 1, 1643: 1, 359: 1, 194: 1, 123: 1, 118: 1, 1341: 1, 1759: 1, 524: 1, 305: 1, 998: 1, 458: 1, 523: 1, 1640: 1, 117: 1, 2179: 1, 2115: 1, 153: 1, 334: 1, 541: 1, 1354: 1, 81: 1, 598: 1, 319: 1, 1593: 1, 2390: 1, 680: 1, 2134: 1, 2146: 1, 846: 1, 1166: 1, 341: 1, 337: 1, 1772: 1, 995: 1, 2013: 1, 250: 1, 141: 1, 2131: 1, 612: 1, 342: 1, 154: 1, 1830: 1, 625: 1, 175: 1, 879: 1, 1769: 1, 221: 1, 84: 1, 218: 1, 296: 1, 115: 1, 2151: 1, 400: 1, 149: 1, 350: 1, 111: 1, 494: 1, 208: 1, 261: 1, 263: 1, 361: 1, 271: 1, 619: 1, 1284: 1, 1052: 1, 814: 1, 1346: 1, 599: 1, 186: 1, 280: 1, 695: 1, 1802: 1, 351: 1, 1461: 1, 372: 1, 1074: 1, 712: 1, 103: 1, 738: 1, 754: 1, 200: 1, 474: 1, 166: 1, 135: 1, 138: 1, 1820: 1, 2348: 1, 789: 1, 2101: 1, 1551: 1, 2049: 1, 1711: 1, 768: 1, 207: 1, 1864: 1, 2207: 1, 162: 1, 228: 1, 60: 1, 389: 1, 926: 1, 473: 1, 779: 1, 91: 1, 2053: 1, 457: 1, 314: 1, 2447: 1, 1918: 1, 2232: 1, 968: 1, 795: 1, 1996: 1, 113: 1, 2499: 1, 2374: 1, 268: 1, 890: 1, 251: 1, 323: 1, 1728: 1, 335: 1, 2117: 1, 1060: 1, 771: 1, 1073: 1, 2469: 1, 1090: 1, 309: 1, 1440: 1, 1368: 1, 904: 1, 164: 1, 142: 1, 1116: 1, 398: 1, 288: 1, 79: 1, 527: 1, 2122: 1, 2324: 1, 861: 1, 201: 1, 729: 1, 95: 1, 226: 1, 1708: 1, 591: 1, 204: 1, 460: 1, 1114: 1, 188: 1, 2016: 1, 160: 1, 952: 1, 1254: 1, 1648: 1, 920: 1, 344: 1, 132: 1, 279: 1, 1259: 1, 2166: 1, 2294: 1, 2082: 1, 2091: 1, 108: 1, 757: 1, 358: 1, 560: 1, 1559: 1, 190: 1, 244: 1, 210: 1, 1366: 1, 182: 1, 382: 1, 1610: 1, 107: 1, 521: 1, 1084: 1, 764: 1, 1889: 1, 1995: 1, 547: 1, 71: 1, 1009: 1, 328: 1, 750: 1, 1155: 1, 556: 1, 1693: 1, 1734: 1, 912: 1, 333: 1, 212: 1, 58: 1, 151: 1, 145: 1, 775: 1, 355: 1, 1029: 1, 1195: 1, 120: 1, 287: 1, 206: 1, 225: 1, 456: 1, 318: 1, 507: 1, 786: 1, 1569: 1, 82: 1, 766: 1, 749: 1, 1566: 1, 514: 1, 889: 1, 2222: 1, 236: 1, 488: 1, 96: 1, 178: 1, 1103: 1, 572: 1, 652: 1, 1024: 1, 1046: 1, 127: 1, 419: 1, 1078: 1, 825: 1, 313: 1, 109: 1, 1529: 1, 348: 1, 565: 1, 539: 1, 833: 1, 2280: 1, 27: 1, 139: 1, 530: 1, 1231: 1, 431: 1, 229: 1, 2004: 1, 101: 1, 202: 1, 2170: 1, 1406: 1, 1895: 1, 1987: 1, 346: 1, 1210: 1, 922: 1, 324: 1})\n"
          ],
          "name": "stdout"
        }
      ]
    },
    {
      "metadata": {
        "id": "5wPB-u0Q9ioG",
        "colab_type": "code",
        "colab": {
          "base_uri": "https://localhost:8080/",
          "height": 35
        },
        "outputId": "0a6f5dce-15dd-40fa-cfcd-df626cccfaed"
      },
      "cell_type": "code",
      "source": [
        "sum(counter[i] for i in range(11))"
      ],
      "execution_count": 50,
      "outputs": [
        {
          "output_type": "execute_result",
          "data": {
            "text/plain": [
              "473"
            ]
          },
          "metadata": {
            "tags": []
          },
          "execution_count": 50
        }
      ]
    },
    {
      "metadata": {
        "id": "er174-6VgsPW",
        "colab_type": "code",
        "colab": {}
      },
      "cell_type": "code",
      "source": [
        ""
      ],
      "execution_count": 0,
      "outputs": []
    },
    {
      "metadata": {
        "id": "G7LUlYANhkMY",
        "colab_type": "text"
      },
      "cell_type": "markdown",
      "source": [
        "### Triplet loss, positive doubled"
      ]
    },
    {
      "metadata": {
        "id": "2OVqgWHThiVC",
        "colab_type": "code",
        "colab": {}
      },
      "cell_type": "code",
      "source": [
        "def tipletloss_pos_ntimes(anchor_out, positive_out, negative_out, ntimes=2, margin=0.2):\n",
        "    norm_a_out = tf.nn.l2_normalize(anchor_out, axis=1)\n",
        "    norm_p_out = tf.nn.l2_normalize(positive_out, axis=1)\n",
        "    norm_n_out = tf.nn.l2_normalize(negative_out, axis=1)\n",
        "    \n",
        "    d_pos = tf.losses.cosine_distance(norm_a_out, norm_p_out, axis=1, reduction=tf.losses.Reduction.NONE)\n",
        "    d_neg = tf.losses.cosine_distance(norm_a_out, norm_n_out, axis=1, reduction=tf.losses.Reduction.NONE)\n",
        "    \n",
        "    loss = tf.maximum(0.0, margin + 2*d_pos - d_neg)\n",
        "    \n",
        "    return tf.reduce_mean(loss)\n",
        "  \n",
        "def tripletloss_posdouble(anchor_out, positive_out, negative_out, margin=0.2):\n",
        "  return tipletloss_pos_ntimes(anchor_out, positive_out, negative_out, 2, margin)\n",
        "\n",
        "def tripletloss_pos_10times(anchor_out, positive_out, negative_out, margin=0.2):\n",
        "  return tipletloss_pos_ntimes(anchor_out, positive_out, negative_out, 2, margin)\n",
        "\n"
      ],
      "execution_count": 0,
      "outputs": []
    },
    {
      "metadata": {
        "id": "PPZzHCR8hiGm",
        "colab_type": "code",
        "colab": {}
      },
      "cell_type": "code",
      "source": [
        "model = Model(input_shape=768, output_shape=100)"
      ],
      "execution_count": 0,
      "outputs": []
    },
    {
      "metadata": {
        "id": "PpRN8IPRhh4D",
        "colab_type": "code",
        "colab": {
          "base_uri": "https://localhost:8080/",
          "height": 266
        },
        "outputId": "882c010c-0889-4907-90d2-342dbac1e7e9"
      },
      "cell_type": "code",
      "source": [
        "%%time\n",
        "\n",
        "for sidx, eidx in start_end_index_pairs:\n",
        "    print(\"   start index: {}, end index: {}\".format(sidx,eidx))\n",
        "    train_with_changing_negative_pair_with_loss(sidx, eidx, tripletloss_posdouble, batch_size=10, epochs=21)"
      ],
      "execution_count": 215,
      "outputs": [
        {
          "output_type": "stream",
          "text": [
            "   start index: 0, end index: 100\n",
            "Loss at step 0: 0.14810\n",
            "Loss at step 10: 0.12633\n",
            "Loss at step 20: 0.10907\n",
            "   start index: 900, end index: 1000\n",
            "Loss at step 0: 0.25632\n",
            "Loss at step 10: 0.24276\n",
            "Loss at step 20: 0.24377\n",
            "   start index: 1900, end index: 2000\n",
            "Loss at step 0: 0.26960\n",
            "Loss at step 10: 0.26411\n",
            "Loss at step 20: 0.26362\n",
            "CPU times: user 4min 50s, sys: 4.33 s, total: 4min 55s\n",
            "Wall time: 4min 39s\n"
          ],
          "name": "stdout"
        }
      ]
    },
    {
      "metadata": {
        "id": "JejmQc2qZex2",
        "colab_type": "code",
        "colab": {}
      },
      "cell_type": "code",
      "source": [
        "test_extracted_features_df = to_extracted_features(test_normalized_feature_dict_1000, model)"
      ],
      "execution_count": 0,
      "outputs": []
    },
    {
      "metadata": {
        "id": "xcMC7xe_hKll",
        "colab_type": "code",
        "colab": {
          "base_uri": "https://localhost:8080/",
          "height": 204
        },
        "outputId": "0ffa4c26-c0f3-498a-ab12-15161d7c0efa"
      },
      "cell_type": "code",
      "source": [
        "test_extracted_features_df.head()"
      ],
      "execution_count": 219,
      "outputs": [
        {
          "output_type": "execute_result",
          "data": {
            "text/html": [
              "<div>\n",
              "<style scoped>\n",
              "    .dataframe tbody tr th:only-of-type {\n",
              "        vertical-align: middle;\n",
              "    }\n",
              "\n",
              "    .dataframe tbody tr th {\n",
              "        vertical-align: top;\n",
              "    }\n",
              "\n",
              "    .dataframe thead th {\n",
              "        text-align: right;\n",
              "    }\n",
              "</style>\n",
              "<table border=\"1\" class=\"dataframe\">\n",
              "  <thead>\n",
              "    <tr style=\"text-align: right;\">\n",
              "      <th></th>\n",
              "      <th>doc_id</th>\n",
              "      <th>extracted_feature</th>\n",
              "    </tr>\n",
              "  </thead>\n",
              "  <tbody>\n",
              "    <tr>\n",
              "      <th>0</th>\n",
              "      <td>12000862</td>\n",
              "      <td>[-0.013157393, 0.06550002, -0.17330328, 0.0534...</td>\n",
              "    </tr>\n",
              "    <tr>\n",
              "      <th>1</th>\n",
              "      <td>12003258</td>\n",
              "      <td>[-0.01271724, -0.021055741, -0.18226379, 0.150...</td>\n",
              "    </tr>\n",
              "    <tr>\n",
              "      <th>2</th>\n",
              "      <td>12004701</td>\n",
              "      <td>[-0.059054796, -0.022013474, -0.1141999, 0.041...</td>\n",
              "    </tr>\n",
              "    <tr>\n",
              "      <th>3</th>\n",
              "      <td>12007341</td>\n",
              "      <td>[-0.0034107184, -0.013823663, -0.15175237, 0.0...</td>\n",
              "    </tr>\n",
              "    <tr>\n",
              "      <th>4</th>\n",
              "      <td>12018798</td>\n",
              "      <td>[-0.017291823, -0.04676495, -0.09946125, 0.064...</td>\n",
              "    </tr>\n",
              "  </tbody>\n",
              "</table>\n",
              "</div>"
            ],
            "text/plain": [
              "     doc_id                                  extracted_feature\n",
              "0  12000862  [-0.013157393, 0.06550002, -0.17330328, 0.0534...\n",
              "1  12003258  [-0.01271724, -0.021055741, -0.18226379, 0.150...\n",
              "2  12004701  [-0.059054796, -0.022013474, -0.1141999, 0.041...\n",
              "3  12007341  [-0.0034107184, -0.013823663, -0.15175237, 0.0...\n",
              "4  12018798  [-0.017291823, -0.04676495, -0.09946125, 0.064..."
            ]
          },
          "metadata": {
            "tags": []
          },
          "execution_count": 219
        }
      ]
    },
    {
      "metadata": {
        "id": "CdbXEnH1ksoS",
        "colab_type": "code",
        "colab": {}
      },
      "cell_type": "code",
      "source": [
        "grants_extracted_features_df = to_extracted_features(grants_normalized_feature_dict_2000, model)"
      ],
      "execution_count": 0,
      "outputs": []
    },
    {
      "metadata": {
        "id": "scWkAYNvksaA",
        "colab_type": "code",
        "colab": {
          "base_uri": "https://localhost:8080/",
          "height": 204
        },
        "outputId": "bd3286c8-00af-4662-fb58-54972f6cccd5"
      },
      "cell_type": "code",
      "source": [
        "grants_extracted_features_df.head()"
      ],
      "execution_count": 221,
      "outputs": [
        {
          "output_type": "execute_result",
          "data": {
            "text/html": [
              "<div>\n",
              "<style scoped>\n",
              "    .dataframe tbody tr th:only-of-type {\n",
              "        vertical-align: middle;\n",
              "    }\n",
              "\n",
              "    .dataframe tbody tr th {\n",
              "        vertical-align: top;\n",
              "    }\n",
              "\n",
              "    .dataframe thead th {\n",
              "        text-align: right;\n",
              "    }\n",
              "</style>\n",
              "<table border=\"1\" class=\"dataframe\">\n",
              "  <thead>\n",
              "    <tr style=\"text-align: right;\">\n",
              "      <th></th>\n",
              "      <th>doc_id</th>\n",
              "      <th>extracted_feature</th>\n",
              "    </tr>\n",
              "  </thead>\n",
              "  <tbody>\n",
              "    <tr>\n",
              "      <th>0</th>\n",
              "      <td>6837383</td>\n",
              "      <td>[0.01180602, -0.023277633, -0.059893485, 0.048...</td>\n",
              "    </tr>\n",
              "    <tr>\n",
              "      <th>1</th>\n",
              "      <td>6837647</td>\n",
              "      <td>[0.014063301, 0.02104149, -0.06873307, 0.01846...</td>\n",
              "    </tr>\n",
              "    <tr>\n",
              "      <th>2</th>\n",
              "      <td>6837799</td>\n",
              "      <td>[0.020941963, -0.0022532253, -0.12189834, 0.00...</td>\n",
              "    </tr>\n",
              "    <tr>\n",
              "      <th>3</th>\n",
              "      <td>6837893</td>\n",
              "      <td>[0.044268582, 0.018448185, -0.06050285, 0.0270...</td>\n",
              "    </tr>\n",
              "    <tr>\n",
              "      <th>4</th>\n",
              "      <td>6837910</td>\n",
              "      <td>[0.015180708, 0.11016171, -0.12653644, 0.11364...</td>\n",
              "    </tr>\n",
              "  </tbody>\n",
              "</table>\n",
              "</div>"
            ],
            "text/plain": [
              "    doc_id                                  extracted_feature\n",
              "0  6837383  [0.01180602, -0.023277633, -0.059893485, 0.048...\n",
              "1  6837647  [0.014063301, 0.02104149, -0.06873307, 0.01846...\n",
              "2  6837799  [0.020941963, -0.0022532253, -0.12189834, 0.00...\n",
              "3  6837893  [0.044268582, 0.018448185, -0.06050285, 0.0270...\n",
              "4  6837910  [0.015180708, 0.11016171, -0.12653644, 0.11364..."
            ]
          },
          "metadata": {
            "tags": []
          },
          "execution_count": 221
        }
      ]
    },
    {
      "metadata": {
        "id": "Ka6Qjgtuk4-h",
        "colab_type": "code",
        "colab": {
          "base_uri": "https://localhost:8080/",
          "height": 53
        },
        "outputId": "fdcefa3c-cc64-455b-b9ff-b7dfad2224ec"
      },
      "cell_type": "code",
      "source": [
        "%%time\n",
        "doubled_sim_dict = create_sim_dict(test_extracted_features_df, grants_extracted_features_df)"
      ],
      "execution_count": 223,
      "outputs": [
        {
          "output_type": "stream",
          "text": [
            "CPU times: user 9.99 s, sys: 77.3 ms, total: 10.1 s\n",
            "Wall time: 10.1 s\n"
          ],
          "name": "stdout"
        }
      ]
    },
    {
      "metadata": {
        "id": "-VIt40Oak4wC",
        "colab_type": "code",
        "colab": {
          "base_uri": "https://localhost:8080/",
          "height": 55
        },
        "outputId": "269b5490-998e-48e5-d3ba-a1ff26a37f43"
      },
      "cell_type": "code",
      "source": [
        "counter = calc_all_ranks_counter(test_extracted_features_df['doc_id'], doubled_sim_dict)\n",
        "print(counter)"
      ],
      "execution_count": 227,
      "outputs": [
        {
          "output_type": "stream",
          "text": [
            "Counter({1: 150, 2: 55, 3: 39, 4: 29, 6: 28, 5: 27, 8: 19, 11: 17, 7: 16, 13: 16, 17: 16, 10: 16, 9: 13, 12: 12, 16: 11, 23: 11, 27: 11, 21: 10, 15: 10, 19: 9, 33: 9, 20: 8, 14: 8, 22: 8, 32: 8, 24: 7, 31: 6, 41: 6, 48: 6, 65: 6, 38: 6, 44: 6, 35: 5, 68: 5, 28: 5, 25: 5, 153: 5, 62: 5, 43: 5, 55: 5, 34: 5, 105: 5, 148: 4, 92: 4, 51: 4, 164: 4, 78: 4, 46: 4, 87: 4, 26: 4, 56: 4, 67: 4, 350: 4, 192: 4, 57: 4, 120: 4, 61: 4, 145: 3, 128: 3, 155: 3, 45: 3, 144: 3, 18: 3, 85: 3, 121: 3, 86: 3, 95: 3, 137: 3, 49: 3, 29: 3, 54: 3, 53: 3, 83: 3, 230: 3, 64: 3, 106: 3, 113: 3, 579: 3, 93: 3, 47: 3, 97: 3, 123: 3, 77: 3, 42: 3, 40: 3, 58: 3, 50: 3, 147: 3, 329: 2, 456: 2, 90: 2, 150: 2, 401: 2, 260: 2, 1248: 2, 177: 2, 213: 2, 376: 2, 94: 2, 89: 2, 245: 2, 100: 2, 116: 2, 167: 2, 96: 2, 1140: 2, 66: 2, 216: 2, 232: 2, 426: 2, 172: 2, 251: 2, 139: 2, 347: 2, 156: 2, 72: 2, 366: 2, 195: 2, 122: 2, 539: 2, 169: 2, 574: 2, 288: 2, 88: 2, 509: 2, 80: 2, 52: 2, 749: 2, 173: 2, 103: 2, 1489: 2, 186: 2, 468: 2, 573: 2, 170: 2, 60: 2, 248: 2, 69: 2, 187: 2, 125: 2, 497: 2, 115: 2, 476: 2, 396: 2, 819: 2, 465: 2, 132: 2, 270: 2, 160: 2, 171: 2, 227: 2, 607: 2, 175: 2, 176: 2, 919: 2, 199: 2, 130: 2, 36: 2, 2141: 2, 287: 2, 223: 2, 126: 2, 76: 2, 37: 2, 305: 2, 178: 2, 75: 2, 119: 2, 39: 2, 2005: 1, 2038: 1, 279: 1, 1017: 1, 581: 1, 2175: 1, 131: 1, 357: 1, 112: 1, 2286: 1, 575: 1, 560: 1, 98: 1, 796: 1, 163: 1, 1802: 1, 81: 1, 787: 1, 791: 1, 1572: 1, 718: 1, 196: 1, 802: 1, 1235: 1, 999: 1, 107: 1, 1400: 1, 1228: 1, 567: 1, 295: 1, 1686: 1, 1788: 1, 343: 1, 1278: 1, 2160: 1, 2329: 1, 1187: 1, 386: 1, 1158: 1, 1664: 1, 222: 1, 1516: 1, 685: 1, 179: 1, 1036: 1, 2152: 1, 485: 1, 207: 1, 327: 1, 109: 1, 1306: 1, 301: 1, 1293: 1, 2185: 1, 2310: 1, 682: 1, 70: 1, 133: 1, 1648: 1, 1317: 1, 1132: 1, 1347: 1, 224: 1, 1701: 1, 566: 1, 110: 1, 511: 1, 954: 1, 968: 1, 562: 1, 154: 1, 793: 1, 246: 1, 1476: 1, 1008: 1, 1438: 1, 229: 1, 692: 1, 256: 1, 73: 1, 1537: 1, 1846: 1, 117: 1, 683: 1, 124: 1, 504: 1, 474: 1, 375: 1, 385: 1, 307: 1, 1643: 1, 724: 1, 1357: 1, 1073: 1, 1215: 1, 552: 1, 310: 1, 198: 1, 851: 1, 315: 1, 559: 1, 141: 1, 1588: 1, 334: 1, 489: 1, 956: 1, 2304: 1, 371: 1, 515: 1, 1396: 1, 583: 1, 2189: 1, 1300: 1, 651: 1, 108: 1, 680: 1, 254: 1, 487: 1, 188: 1, 174: 1, 1151: 1, 441: 1, 458: 1, 2049: 1, 1695: 1, 984: 1, 1439: 1, 1333: 1, 705: 1, 391: 1, 1767: 1, 1243: 1, 336: 1, 82: 1, 184: 1, 885: 1, 678: 1, 1064: 1, 419: 1, 2412: 1, 304: 1, 658: 1, 415: 1, 1023: 1, 1401: 1, 1659: 1, 63: 1, 140: 1, 384: 1, 1069: 1, 1473: 1, 684: 1, 197: 1, 696: 1, 438: 1, 436: 1, 243: 1, 151: 1, 451: 1, 889: 1, 101: 1, 180: 1, 275: 1, 317: 1, 927: 1, 1203: 1, 152: 1, 1416: 1, 215: 1, 194: 1, 273: 1, 2227: 1, 399: 1, 2118: 1, 910: 1, 161: 1, 136: 1, 2285: 1, 290: 1, 895: 1, 249: 1, 1162: 1, 2108: 1, 185: 1, 413: 1, 91: 1, 1491: 1, 30: 1, 219: 1, 479: 1, 594: 1, 114: 1, 1495: 1, 670: 1, 1252: 1, 448: 1, 811: 1, 1185: 1, 363: 1, 390: 1, 502: 1, 576: 1, 961: 1, 2100: 1, 218: 1, 1647: 1, 588: 1, 281: 1, 255: 1, 1723: 1, 2086: 1, 1465: 1, 638: 1, 1274: 1, 1085: 1, 1639: 1, 268: 1, 309: 1, 1047: 1, 703: 1, 398: 1, 111: 1, 938: 1, 1882: 1, 414: 1, 627: 1, 1978: 1, 672: 1, 840: 1, 261: 1, 321: 1, 1876: 1, 650: 1, 2232: 1, 595: 1, 79: 1, 1018: 1, 2484: 1, 129: 1, 608: 1, 341: 1, 423: 1, 1089: 1, 634: 1, 142: 1, 1379: 1, 352: 1, 584: 1, 1910: 1, 324: 1, 429: 1, 626: 1, 460: 1, 553: 1, 1009: 1, 1005: 1, 845: 1, 466: 1, 611: 1, 913: 1, 406: 1, 453: 1, 744: 1, 564: 1, 1099: 1, 665: 1, 921: 1, 1026: 1, 149: 1, 1599: 1, 71: 1, 276: 1, 225: 1, 464: 1, 753: 1, 316: 1, 339: 1, 353: 1, 214: 1, 886: 1, 2037: 1, 558: 1, 252: 1, 2299: 1, 967: 1, 1332: 1, 484: 1})\n"
          ],
          "name": "stdout"
        }
      ]
    },
    {
      "metadata": {
        "id": "U2XNCi6_ksLH",
        "colab_type": "code",
        "colab": {}
      },
      "cell_type": "code",
      "source": [
        ""
      ],
      "execution_count": 0,
      "outputs": []
    },
    {
      "metadata": {
        "id": "yLmBexxCnUEE",
        "colab_type": "text"
      },
      "cell_type": "markdown",
      "source": [
        "Positive 10 times."
      ]
    },
    {
      "metadata": {
        "id": "-2RrVWuUng5G",
        "colab_type": "code",
        "colab": {}
      },
      "cell_type": "code",
      "source": [
        "model = Model(input_shape=768, output_shape=100)"
      ],
      "execution_count": 0,
      "outputs": []
    },
    {
      "metadata": {
        "id": "x2LHi4dMnScm",
        "colab_type": "code",
        "colab": {
          "base_uri": "https://localhost:8080/",
          "height": 266
        },
        "outputId": "33de1af2-c7eb-40fe-fdb0-4b4a0ff0ee85"
      },
      "cell_type": "code",
      "source": [
        "%%time\n",
        "\n",
        "for sidx, eidx in start_end_index_pairs:\n",
        "    print(\"   start index: {}, end index: {}\".format(sidx,eidx))\n",
        "    train_with_changing_negative_pair_with_loss(sidx, eidx, tripletloss_pos_10times, batch_size=10, epochs=21)"
      ],
      "execution_count": 231,
      "outputs": [
        {
          "output_type": "stream",
          "text": [
            "   start index: 0, end index: 100\n",
            "Loss at step 0: 0.17560\n",
            "Loss at step 10: 0.15177\n",
            "Loss at step 20: 0.12895\n",
            "   start index: 900, end index: 1000\n",
            "Loss at step 0: 0.25382\n",
            "Loss at step 10: 0.24570\n",
            "Loss at step 20: 0.23713\n",
            "   start index: 1900, end index: 2000\n",
            "Loss at step 0: 0.26674\n",
            "Loss at step 10: 0.26804\n",
            "Loss at step 20: 0.26128\n",
            "CPU times: user 4min 45s, sys: 4.21 s, total: 4min 49s\n",
            "Wall time: 4min 33s\n"
          ],
          "name": "stdout"
        }
      ]
    },
    {
      "metadata": {
        "id": "HSTdAbcDnj7w",
        "colab_type": "code",
        "colab": {}
      },
      "cell_type": "code",
      "source": [
        "test_extracted_features_df = to_extracted_features(test_normalized_feature_dict_1000, model)\n",
        "grants_extracted_features_df = to_extracted_features(grants_normalized_feature_dict_2000, model)\n",
        "ten_sim_dict = create_sim_dict(test_extracted_features_df, grants_extracted_features_df)"
      ],
      "execution_count": 0,
      "outputs": []
    },
    {
      "metadata": {
        "id": "dyOSBS-EnjoQ",
        "colab_type": "code",
        "colab": {
          "base_uri": "https://localhost:8080/",
          "height": 55
        },
        "outputId": "ec2a2ace-e4bd-4156-d96e-0e2b2f6c208b"
      },
      "cell_type": "code",
      "source": [
        "counter = calc_all_ranks_counter(test_extracted_features_df['doc_id'], ten_sim_dict)\n",
        "print(counter)"
      ],
      "execution_count": 233,
      "outputs": [
        {
          "output_type": "stream",
          "text": [
            "Counter({1: 137, 2: 60, 3: 42, 4: 42, 7: 26, 5: 23, 6: 23, 9: 20, 8: 15, 11: 15, 10: 14, 23: 13, 15: 12, 18: 11, 14: 11, 12: 9, 59: 9, 20: 8, 55: 8, 26: 8, 16: 8, 19: 7, 49: 7, 38: 7, 17: 7, 22: 7, 35: 7, 56: 7, 43: 7, 32: 7, 25: 7, 13: 6, 77: 6, 24: 6, 34: 6, 30: 6, 48: 6, 39: 6, 61: 6, 42: 5, 21: 5, 40: 5, 58: 5, 27: 5, 69: 5, 72: 5, 29: 5, 80: 5, 36: 5, 143: 4, 146: 4, 75: 4, 33: 4, 65: 4, 54: 4, 71: 4, 50: 4, 37: 4, 46: 4, 31: 4, 63: 4, 92: 3, 68: 3, 103: 3, 94: 3, 145: 3, 60: 3, 82: 3, 170: 3, 109: 3, 123: 3, 62: 3, 227: 3, 126: 3, 90: 3, 99: 3, 288: 3, 147: 3, 52: 3, 98: 3, 28: 3, 174: 3, 249: 3, 137: 3, 47: 3, 121: 2, 86: 2, 155: 2, 87: 2, 144: 2, 51: 2, 177: 2, 599: 2, 141: 2, 1199: 2, 214: 2, 101: 2, 135: 2, 256: 2, 344: 2, 108: 2, 136: 2, 436: 2, 79: 2, 70: 2, 226: 2, 930: 2, 89: 2, 743: 2, 53: 2, 201: 2, 215: 2, 2400: 2, 618: 2, 298: 2, 225: 2, 166: 2, 128: 2, 468: 2, 57: 2, 186: 2, 102: 2, 326: 2, 66: 2, 1224: 2, 267: 2, 369: 2, 78: 2, 786: 2, 100: 2, 152: 2, 591: 2, 164: 2, 156: 2, 232: 2, 309: 2, 64: 2, 335: 2, 85: 2, 134: 2, 154: 2, 804: 2, 395: 2, 594: 2, 93: 2, 127: 2, 512: 2, 240: 2, 41: 2, 435: 2, 539: 2, 119: 2, 208: 2, 315: 2, 194: 2, 115: 2, 110: 2, 116: 2, 321: 2, 293: 2, 142: 2, 231: 2, 246: 1, 1252: 1, 1423: 1, 434: 1, 1263: 1, 133: 1, 1167: 1, 2185: 1, 544: 1, 273: 1, 2382: 1, 545: 1, 535: 1, 401: 1, 790: 1, 723: 1, 1035: 1, 648: 1, 257: 1, 653: 1, 566: 1, 567: 1, 1649: 1, 191: 1, 44: 1, 1857: 1, 1241: 1, 1393: 1, 1421: 1, 199: 1, 67: 1, 1396: 1, 230: 1, 118: 1, 624: 1, 1665: 1, 844: 1, 74: 1, 2315: 1, 952: 1, 687: 1, 1676: 1, 1869: 1, 266: 1, 210: 1, 299: 1, 584: 1, 160: 1, 112: 1, 438: 1, 454: 1, 175: 1, 955: 1, 386: 1, 343: 1, 427: 1, 477: 1, 1112: 1, 1341: 1, 1143: 1, 1259: 1, 2040: 1, 234: 1, 791: 1, 1531: 1, 1958: 1, 1994: 1, 489: 1, 158: 1, 666: 1, 1370: 1, 945: 1, 651: 1, 391: 1, 399: 1, 829: 1, 613: 1, 514: 1, 1679: 1, 414: 1, 398: 1, 1842: 1, 2252: 1, 294: 1, 1593: 1, 252: 1, 921: 1, 1352: 1, 2177: 1, 251: 1, 172: 1, 114: 1, 400: 1, 45: 1, 640: 1, 1009: 1, 882: 1, 503: 1, 1243: 1, 130: 1, 1082: 1, 1449: 1, 884: 1, 447: 1, 830: 1, 129: 1, 289: 1, 91: 1, 1606: 1, 185: 1, 364: 1, 2004: 1, 187: 1, 233: 1, 276: 1, 637: 1, 97: 1, 657: 1, 1006: 1, 327: 1, 113: 1, 270: 1, 573: 1, 271: 1, 171: 1, 235: 1, 659: 1, 76: 1, 458: 1, 2110: 1, 1872: 1, 2006: 1, 587: 1, 389: 1, 297: 1, 1212: 1, 831: 1, 2280: 1, 665: 1, 1566: 1, 313: 1, 260: 1, 120: 1, 623: 1, 420: 1, 701: 1, 601: 1, 650: 1, 523: 1, 2438: 1, 977: 1, 268: 1, 1217: 1, 2120: 1, 502: 1, 763: 1, 1780: 1, 933: 1, 211: 1, 877: 1, 253: 1, 647: 1, 106: 1, 705: 1, 221: 1, 1024: 1, 490: 1, 361: 1, 501: 1, 1207: 1, 88: 1, 139: 1, 2275: 1, 132: 1, 1016: 1, 229: 1, 1630: 1, 2081: 1, 195: 1, 2462: 1, 1014: 1, 872: 1, 418: 1, 966: 1, 150: 1, 2000: 1, 943: 1, 415: 1, 73: 1, 1027: 1, 209: 1, 596: 1, 96: 1, 452: 1, 202: 1, 1125: 1, 382: 1, 1021: 1, 1322: 1, 460: 1, 1572: 1, 823: 1, 455: 1, 1120: 1, 863: 1, 985: 1, 538: 1, 323: 1, 1894: 1, 1208: 1, 1896: 1, 718: 1, 815: 1, 1135: 1, 1138: 1, 205: 1, 663: 1, 95: 1, 495: 1, 685: 1, 363: 1, 368: 1, 996: 1, 727: 1, 180: 1, 989: 1, 461: 1, 1213: 1, 107: 1, 117: 1, 471: 1, 1475: 1, 397: 1, 1184: 1, 217: 1, 370: 1, 1344: 1, 824: 1, 755: 1, 2284: 1, 644: 1, 1356: 1, 2228: 1, 324: 1, 341: 1, 448: 1, 192: 1, 242: 1, 243: 1, 522: 1, 2195: 1, 238: 1, 692: 1, 542: 1, 529: 1, 729: 1, 486: 1, 384: 1, 1946: 1, 318: 1, 485: 1, 652: 1, 2189: 1, 333: 1, 764: 1, 430: 1, 220: 1, 1132: 1, 138: 1, 828: 1, 845: 1, 387: 1, 431: 1, 526: 1, 223: 1, 518: 1, 467: 1, 224: 1, 1382: 1, 212: 1, 247: 1, 84: 1, 351: 1, 358: 1, 347: 1, 216: 1, 1867: 1, 168: 1, 159: 1, 1834: 1, 1440: 1, 479: 1, 122: 1, 308: 1, 261: 1})\n"
          ],
          "name": "stdout"
        }
      ]
    },
    {
      "metadata": {
        "id": "fx6BgP0npONG",
        "colab_type": "text"
      },
      "cell_type": "markdown",
      "source": [
        "Training is not enough?"
      ]
    },
    {
      "metadata": {
        "id": "C4i1TDq5n1jm",
        "colab_type": "code",
        "colab": {
          "base_uri": "https://localhost:8080/",
          "height": 141
        },
        "outputId": "c82a548f-2821-449c-cd7b-7402d82ae295"
      },
      "cell_type": "code",
      "source": [
        "sidx, eidx = 1900, 2000\n",
        "print(\"   start index: {}, end index: {}\".format(sidx,eidx))\n",
        "train_with_changing_negative_pair_with_loss(sidx, eidx, tripletloss_pos_10times, batch_size=10, epochs=51)"
      ],
      "execution_count": 234,
      "outputs": [
        {
          "output_type": "stream",
          "text": [
            "   start index: 1900, end index: 2000\n",
            "Loss at step 0: 0.25474\n",
            "Loss at step 10: 0.25733\n",
            "Loss at step 20: 0.25183\n",
            "Loss at step 30: 0.24196\n",
            "Loss at step 40: 0.23452\n",
            "Loss at step 50: 0.23559\n"
          ],
          "name": "stdout"
        }
      ]
    },
    {
      "metadata": {
        "id": "2zIZzJCgpC3f",
        "colab_type": "code",
        "colab": {}
      },
      "cell_type": "code",
      "source": [
        "test_extracted_features_df = to_extracted_features(test_normalized_feature_dict_1000, model)\n",
        "grants_extracted_features_df = to_extracted_features(grants_normalized_feature_dict_2000, model)\n",
        "ten_sim_dict = create_sim_dict(test_extracted_features_df, grants_extracted_features_df)"
      ],
      "execution_count": 0,
      "outputs": []
    },
    {
      "metadata": {
        "id": "AmKdnddapCoT",
        "colab_type": "code",
        "colab": {
          "base_uri": "https://localhost:8080/",
          "height": 55
        },
        "outputId": "ec3baf43-fc67-43ce-df2e-6524f5a8cf6d"
      },
      "cell_type": "code",
      "source": [
        "counter = calc_all_ranks_counter(test_extracted_features_df['doc_id'], ten_sim_dict)\n",
        "print(counter)"
      ],
      "execution_count": 236,
      "outputs": [
        {
          "output_type": "stream",
          "text": [
            "Counter({1: 145, 2: 64, 3: 52, 4: 34, 5: 28, 6: 25, 9: 24, 11: 22, 7: 19, 12: 17, 8: 16, 25: 14, 10: 12, 22: 10, 18: 10, 28: 10, 16: 10, 19: 9, 26: 9, 14: 9, 43: 9, 33: 9, 61: 7, 15: 7, 35: 7, 56: 7, 41: 7, 24: 7, 17: 7, 48: 7, 20: 7, 65: 6, 42: 6, 32: 6, 57: 6, 39: 6, 54: 6, 180: 6, 31: 6, 13: 6, 60: 6, 29: 6, 58: 5, 49: 5, 102: 5, 37: 5, 105: 5, 191: 5, 88: 4, 69: 4, 27: 4, 79: 4, 23: 4, 40: 4, 52: 4, 86: 4, 38: 4, 76: 4, 62: 4, 113: 4, 629: 3, 218: 3, 270: 3, 21: 3, 87: 3, 148: 3, 64: 3, 562: 3, 45: 3, 141: 3, 116: 3, 46: 3, 85: 3, 78: 3, 92: 3, 89: 3, 172: 3, 77: 3, 104: 3, 106: 3, 47: 3, 59: 3, 167: 3, 96: 3, 185: 3, 55: 3, 66: 3, 833: 2, 97: 2, 698: 2, 238: 2, 132: 2, 94: 2, 513: 2, 186: 2, 99: 2, 51: 2, 188: 2, 75: 2, 158: 2, 154: 2, 201: 2, 209: 2, 1372: 2, 208: 2, 91: 2, 125: 2, 63: 2, 112: 2, 293: 2, 567: 2, 335: 2, 1201: 2, 160: 2, 482: 2, 407: 2, 928: 2, 451: 2, 262: 2, 768: 2, 164: 2, 385: 2, 139: 2, 354: 2, 153: 2, 448: 2, 53: 2, 312: 2, 230: 2, 267: 2, 72: 2, 126: 2, 138: 2, 34: 2, 67: 2, 83: 2, 135: 2, 128: 2, 220: 2, 98: 2, 30: 2, 203: 2, 101: 2, 71: 2, 155: 2, 352: 2, 472: 2, 425: 2, 226: 2, 120: 2, 620: 2, 171: 2, 509: 2, 36: 2, 134: 2, 111: 2, 145: 2, 197: 2, 193: 2, 257: 2, 353: 1, 663: 1, 369: 1, 374: 1, 129: 1, 103: 1, 2056: 1, 264: 1, 44: 1, 2278: 1, 831: 1, 389: 1, 174: 1, 970: 1, 108: 1, 440: 1, 1907: 1, 564: 1, 1598: 1, 1146: 1, 394: 1, 194: 1, 582: 1, 849: 1, 266: 1, 584: 1, 142: 1, 625: 1, 497: 1, 1794: 1, 596: 1, 489: 1, 1270: 1, 1552: 1, 259: 1, 325: 1, 430: 1, 271: 1, 156: 1, 458: 1, 423: 1, 1153: 1, 274: 1, 814: 1, 133: 1, 568: 1, 598: 1, 1044: 1, 314: 1, 170: 1, 337: 1, 2411: 1, 284: 1, 1399: 1, 2066: 1, 1994: 1, 93: 1, 658: 1, 305: 1, 329: 1, 810: 1, 486: 1, 429: 1, 743: 1, 182: 1, 1027: 1, 366: 1, 1502: 1, 1785: 1, 1204: 1, 376: 1, 1259: 1, 1460: 1, 229: 1, 749: 1, 162: 1, 199: 1, 298: 1, 418: 1, 1132: 1, 843: 1, 1274: 1, 82: 1, 95: 1, 1612: 1, 983: 1, 439: 1, 175: 1, 118: 1, 255: 1, 70: 1, 1231: 1, 178: 1, 317: 1, 570: 1, 144: 1, 481: 1, 507: 1, 184: 1, 165: 1, 633: 1, 529: 1, 574: 1, 1304: 1, 1908: 1, 1036: 1, 319: 1, 338: 1, 1031: 1, 870: 1, 652: 1, 2249: 1, 387: 1, 349: 1, 1394: 1, 269: 1, 412: 1, 292: 1, 452: 1, 713: 1, 820: 1, 680: 1, 2327: 1, 1127: 1, 299: 1, 73: 1, 428: 1, 676: 1, 1733: 1, 195: 1, 246: 1, 755: 1, 1288: 1, 532: 1, 659: 1, 273: 1, 551: 1, 140: 1, 121: 1, 306: 1, 360: 1, 311: 1, 498: 1, 239: 1, 917: 1, 2132: 1, 577: 1, 50: 1, 212: 1, 1015: 1, 1784: 1, 181: 1, 2465: 1, 473: 1, 455: 1, 953: 1, 777: 1, 856: 1, 445: 1, 301: 1, 869: 1, 309: 1, 487: 1, 147: 1, 245: 1, 819: 1, 205: 1, 871: 1, 1290: 1, 1138: 1, 466: 1, 943: 1, 123: 1, 276: 1, 1144: 1, 399: 1, 882: 1, 1957: 1, 478: 1, 657: 1, 159: 1, 1373: 1, 666: 1, 767: 1, 1167: 1, 363: 1, 288: 1, 253: 1, 685: 1, 84: 1, 68: 1, 200: 1, 358: 1, 261: 1, 774: 1, 844: 1, 720: 1, 227: 1, 1218: 1, 995: 1, 146: 1, 547: 1, 122: 1, 339: 1, 546: 1, 1282: 1, 402: 1, 1273: 1, 664: 1, 711: 1, 2072: 1, 492: 1, 926: 1, 1767: 1, 2441: 1, 119: 1, 280: 1, 130: 1, 161: 1, 461: 1, 74: 1, 109: 1, 296: 1, 2130: 1, 693: 1, 587: 1, 417: 1, 522: 1, 80: 1, 286: 1, 2040: 1, 391: 1, 2038: 1, 302: 1, 705: 1, 555: 1, 721: 1, 173: 1, 81: 1, 232: 1, 341: 1, 543: 1, 127: 1, 563: 1, 168: 1, 390: 1, 117: 1, 234: 1, 149: 1, 673: 1, 979: 1, 378: 1, 297: 1, 206: 1, 1520: 1, 131: 1, 1430: 1, 569: 1, 435: 1, 110: 1})\n"
          ],
          "name": "stdout"
        }
      ]
    },
    {
      "metadata": {
        "id": "5kL8eAI_njT9",
        "colab_type": "code",
        "colab": {}
      },
      "cell_type": "code",
      "source": [
        ""
      ],
      "execution_count": 0,
      "outputs": []
    },
    {
      "metadata": {
        "id": "nd53mNLCkg6x",
        "colab_type": "code",
        "colab": {}
      },
      "cell_type": "code",
      "source": [
        ""
      ],
      "execution_count": 0,
      "outputs": []
    },
    {
      "metadata": {
        "id": "HVpK9vbGgs7q",
        "colab_type": "text"
      },
      "cell_type": "markdown",
      "source": [
        "### Investigation"
      ]
    },
    {
      "metadata": {
        "id": "enSex23N9iN2",
        "colab_type": "code",
        "colab": {}
      },
      "cell_type": "code",
      "source": [
        ""
      ],
      "execution_count": 0,
      "outputs": []
    },
    {
      "metadata": {
        "id": "_eHhpFgyFn1c",
        "colab_type": "code",
        "colab": {}
      },
      "cell_type": "code",
      "source": [
        ""
      ],
      "execution_count": 0,
      "outputs": []
    },
    {
      "metadata": {
        "id": "O7l7IpccG-jq",
        "colab_type": "code",
        "colab": {}
      },
      "cell_type": "code",
      "source": [
        "random.seed(0)\n",
        "trip = create_triplet_pairs(0, 100)"
      ],
      "execution_count": 0,
      "outputs": []
    },
    {
      "metadata": {
        "id": "uAvLCX2kHa7f",
        "colab_type": "code",
        "outputId": "a8fb41fc-ccca-42c4-b543-7bdda3678837",
        "colab": {
          "base_uri": "https://localhost:8080/",
          "height": 35
        }
      },
      "cell_type": "code",
      "source": [
        "trip.shape"
      ],
      "execution_count": 0,
      "outputs": [
        {
          "output_type": "execute_result",
          "data": {
            "text/plain": [
              "(1282, 3)"
            ]
          },
          "metadata": {
            "tags": []
          },
          "execution_count": 67
        }
      ]
    },
    {
      "metadata": {
        "id": "s7Jdk-jvG-WN",
        "colab_type": "code",
        "outputId": "fd51e879-df41-4721-90ac-bfbf89fce312",
        "colab": {
          "base_uri": "https://localhost:8080/",
          "height": 204
        }
      },
      "cell_type": "code",
      "source": [
        "trip[0:5]"
      ],
      "execution_count": 0,
      "outputs": [
        {
          "output_type": "execute_result",
          "data": {
            "text/html": [
              "<div>\n",
              "<style scoped>\n",
              "    .dataframe tbody tr th:only-of-type {\n",
              "        vertical-align: middle;\n",
              "    }\n",
              "\n",
              "    .dataframe tbody tr th {\n",
              "        vertical-align: top;\n",
              "    }\n",
              "\n",
              "    .dataframe thead th {\n",
              "        text-align: right;\n",
              "    }\n",
              "</style>\n",
              "<table border=\"1\" class=\"dataframe\">\n",
              "  <thead>\n",
              "    <tr style=\"text-align: right;\">\n",
              "      <th></th>\n",
              "      <th>app_id</th>\n",
              "      <th>cited_grants</th>\n",
              "      <th>uncited_grants</th>\n",
              "    </tr>\n",
              "  </thead>\n",
              "  <tbody>\n",
              "    <tr>\n",
              "      <th>0</th>\n",
              "      <td>14222691</td>\n",
              "      <td>8206188</td>\n",
              "      <td>7474966</td>\n",
              "    </tr>\n",
              "    <tr>\n",
              "      <th>1</th>\n",
              "      <td>14222691</td>\n",
              "      <td>8177561</td>\n",
              "      <td>6925385</td>\n",
              "    </tr>\n",
              "    <tr>\n",
              "      <th>2</th>\n",
              "      <td>14222691</td>\n",
              "      <td>8179692</td>\n",
              "      <td>7735351</td>\n",
              "    </tr>\n",
              "    <tr>\n",
              "      <th>3</th>\n",
              "      <td>12515852</td>\n",
              "      <td>7235710</td>\n",
              "      <td>7271332</td>\n",
              "    </tr>\n",
              "    <tr>\n",
              "      <th>4</th>\n",
              "      <td>12033424</td>\n",
              "      <td>6950953</td>\n",
              "      <td>7371046</td>\n",
              "    </tr>\n",
              "  </tbody>\n",
              "</table>\n",
              "</div>"
            ],
            "text/plain": [
              "     app_id  cited_grants  uncited_grants\n",
              "0  14222691       8206188         7474966\n",
              "1  14222691       8177561         6925385\n",
              "2  14222691       8179692         7735351\n",
              "3  12515852       7235710         7271332\n",
              "4  12033424       6950953         7371046"
            ]
          },
          "metadata": {
            "tags": []
          },
          "execution_count": 68
        }
      ]
    },
    {
      "metadata": {
        "id": "XQs3M6OFFvgd",
        "colab_type": "code",
        "colab": {}
      },
      "cell_type": "code",
      "source": [
        "random.seed(0)\n",
        "test = create_training_input_np(0, 100)"
      ],
      "execution_count": 0,
      "outputs": []
    },
    {
      "metadata": {
        "id": "JmCVZ3NGHJGM",
        "colab_type": "code",
        "outputId": "b5854ba6-cdb9-406e-c98a-56a0476c9ca3",
        "colab": {
          "base_uri": "https://localhost:8080/",
          "height": 35
        }
      },
      "cell_type": "code",
      "source": [
        "test.shape"
      ],
      "execution_count": 0,
      "outputs": [
        {
          "output_type": "execute_result",
          "data": {
            "text/plain": [
              "(3, 1282, 768)"
            ]
          },
          "metadata": {
            "tags": []
          },
          "execution_count": 63
        }
      ]
    },
    {
      "metadata": {
        "id": "wIc8GhWYHI4K",
        "colab_type": "code",
        "colab": {}
      },
      "cell_type": "code",
      "source": [
        ""
      ],
      "execution_count": 0,
      "outputs": []
    },
    {
      "metadata": {
        "id": "Fk6KaYlaH8k2",
        "colab_type": "code",
        "colab": {}
      },
      "cell_type": "code",
      "source": [
        "test_ten = tf.convert_to_tensor(test, dtype=tf.float32)\n",
        "anchor_data, positive_data, negative_data = test_ten"
      ],
      "execution_count": 0,
      "outputs": []
    },
    {
      "metadata": {
        "id": "YoSlNc7qIC84",
        "colab_type": "code",
        "outputId": "f8aa29ea-817e-466f-ae35-4c7751185ee4",
        "colab": {
          "base_uri": "https://localhost:8080/",
          "height": 70
        }
      },
      "cell_type": "code",
      "source": [
        "anchor_data[0, 0:5]"
      ],
      "execution_count": 0,
      "outputs": [
        {
          "output_type": "execute_result",
          "data": {
            "text/plain": [
              "<tf.Tensor: id=4237669, shape=(5,), dtype=float32, numpy=\n",
              "array([-0.05969358,  0.05039638, -0.02005569,  0.0451927 , -0.01494433],\n",
              "      dtype=float32)>"
            ]
          },
          "metadata": {
            "tags": []
          },
          "execution_count": 74
        }
      ]
    },
    {
      "metadata": {
        "id": "1wRiG9P-H8XX",
        "colab_type": "code",
        "outputId": "93edc34a-f405-4fe9-dc7f-131721eecf8e",
        "colab": {
          "base_uri": "https://localhost:8080/",
          "height": 35
        }
      },
      "cell_type": "code",
      "source": [
        "train_normalized_feature_dict_1000[14222691][0:5]"
      ],
      "execution_count": 0,
      "outputs": [
        {
          "output_type": "execute_result",
          "data": {
            "text/plain": [
              "array([-0.05969358,  0.05039638, -0.0200557 ,  0.04519269, -0.01494433])"
            ]
          },
          "metadata": {
            "tags": []
          },
          "execution_count": 75
        }
      ]
    },
    {
      "metadata": {
        "id": "sf7QCN5YH8Lp",
        "colab_type": "code",
        "outputId": "4f8d178e-26ea-45d6-cd27-a85b5503a4ee",
        "colab": {
          "base_uri": "https://localhost:8080/",
          "height": 70
        }
      },
      "cell_type": "code",
      "source": [
        "positive_data[0, 0:5]"
      ],
      "execution_count": 0,
      "outputs": [
        {
          "output_type": "execute_result",
          "data": {
            "text/plain": [
              "<tf.Tensor: id=4237674, shape=(5,), dtype=float32, numpy=\n",
              "array([-0.04778686,  0.03372966, -0.01699614,  0.0232354 ,  0.00648623],\n",
              "      dtype=float32)>"
            ]
          },
          "metadata": {
            "tags": []
          },
          "execution_count": 77
        }
      ]
    },
    {
      "metadata": {
        "id": "fNZ_8kMzIdVS",
        "colab_type": "code",
        "outputId": "fbef1a46-c8fc-4d4b-a066-a0db09ba6024",
        "colab": {
          "base_uri": "https://localhost:8080/",
          "height": 35
        }
      },
      "cell_type": "code",
      "source": [
        "grants_normalized_feature_dict_2000[8206188][0:5]"
      ],
      "execution_count": 0,
      "outputs": [
        {
          "output_type": "execute_result",
          "data": {
            "text/plain": [
              "array([-0.04778686,  0.03372966, -0.01699614,  0.0232354 ,  0.00648623])"
            ]
          },
          "metadata": {
            "tags": []
          },
          "execution_count": 76
        }
      ]
    },
    {
      "metadata": {
        "id": "lul7hHPkInPl",
        "colab_type": "code",
        "outputId": "41b58051-b1a6-4548-f130-15f61b94e5a6",
        "colab": {
          "base_uri": "https://localhost:8080/",
          "height": 70
        }
      },
      "cell_type": "code",
      "source": [
        "negative_data[0, 0:5]"
      ],
      "execution_count": 0,
      "outputs": [
        {
          "output_type": "execute_result",
          "data": {
            "text/plain": [
              "<tf.Tensor: id=4237679, shape=(5,), dtype=float32, numpy=\n",
              "array([-0.01261457,  0.01773252, -0.03752513,  0.02603934, -0.01327848],\n",
              "      dtype=float32)>"
            ]
          },
          "metadata": {
            "tags": []
          },
          "execution_count": 79
        }
      ]
    },
    {
      "metadata": {
        "id": "SVcLAe7ZIdI9",
        "colab_type": "code",
        "outputId": "706b24f7-26a1-4a9d-b681-8020769b4925",
        "colab": {
          "base_uri": "https://localhost:8080/",
          "height": 35
        }
      },
      "cell_type": "code",
      "source": [
        "grants_normalized_feature_dict_2000[7474966][0:5]"
      ],
      "execution_count": 0,
      "outputs": [
        {
          "output_type": "execute_result",
          "data": {
            "text/plain": [
              "array([-0.01261457,  0.01773252, -0.03752513,  0.02603934, -0.01327848])"
            ]
          },
          "metadata": {
            "tags": []
          },
          "execution_count": 80
        }
      ]
    },
    {
      "metadata": {
        "id": "KjdjY4h4Ic8J",
        "colab_type": "code",
        "colab": {}
      },
      "cell_type": "code",
      "source": [
        ""
      ],
      "execution_count": 0,
      "outputs": []
    },
    {
      "metadata": {
        "id": "sNzhhFFVGV09",
        "colab_type": "code",
        "colab": {}
      },
      "cell_type": "code",
      "source": [
        "data_num = int(test.shape[1])"
      ],
      "execution_count": 0,
      "outputs": []
    },
    {
      "metadata": {
        "id": "y4EB4uQ7I-ot",
        "colab_type": "code",
        "colab": {}
      },
      "cell_type": "code",
      "source": [
        "random.seed(0)\n",
        "rand_idx = np.random.permutation(data_num)"
      ],
      "execution_count": 0,
      "outputs": []
    },
    {
      "metadata": {
        "id": "diVGYzLVJCjO",
        "colab_type": "code",
        "outputId": "646b7a7a-e2db-4292-e932-122958f036b9",
        "colab": {
          "base_uri": "https://localhost:8080/",
          "height": 35
        }
      },
      "cell_type": "code",
      "source": [
        "rand_idx[0:5]"
      ],
      "execution_count": 0,
      "outputs": [
        {
          "output_type": "execute_result",
          "data": {
            "text/plain": [
              "array([1102,  653,  475,   81,  404])"
            ]
          },
          "metadata": {
            "tags": []
          },
          "execution_count": 83
        }
      ]
    },
    {
      "metadata": {
        "id": "u7hrWRRoJEuq",
        "colab_type": "code",
        "colab": {}
      },
      "cell_type": "code",
      "source": [
        "test2 = np.array([\n",
        "    test[0][rand_idx], \n",
        "    test[1][rand_idx], \n",
        "    test[2][rand_idx]])"
      ],
      "execution_count": 0,
      "outputs": []
    },
    {
      "metadata": {
        "id": "sfRSf5JEJJI6",
        "colab_type": "code",
        "outputId": "8536e757-fcb9-4a14-b948-0fed4463be7e",
        "colab": {
          "base_uri": "https://localhost:8080/",
          "height": 80
        }
      },
      "cell_type": "code",
      "source": [
        "trip[1102:1103]"
      ],
      "execution_count": 0,
      "outputs": [
        {
          "output_type": "execute_result",
          "data": {
            "text/html": [
              "<div>\n",
              "<style scoped>\n",
              "    .dataframe tbody tr th:only-of-type {\n",
              "        vertical-align: middle;\n",
              "    }\n",
              "\n",
              "    .dataframe tbody tr th {\n",
              "        vertical-align: top;\n",
              "    }\n",
              "\n",
              "    .dataframe thead th {\n",
              "        text-align: right;\n",
              "    }\n",
              "</style>\n",
              "<table border=\"1\" class=\"dataframe\">\n",
              "  <thead>\n",
              "    <tr style=\"text-align: right;\">\n",
              "      <th></th>\n",
              "      <th>app_id</th>\n",
              "      <th>cited_grants</th>\n",
              "      <th>uncited_grants</th>\n",
              "    </tr>\n",
              "  </thead>\n",
              "  <tbody>\n",
              "    <tr>\n",
              "      <th>1102</th>\n",
              "      <td>12450212</td>\n",
              "      <td>7719957</td>\n",
              "      <td>7506657</td>\n",
              "    </tr>\n",
              "  </tbody>\n",
              "</table>\n",
              "</div>"
            ],
            "text/plain": [
              "        app_id  cited_grants  uncited_grants\n",
              "1102  12450212       7719957         7506657"
            ]
          },
          "metadata": {
            "tags": []
          },
          "execution_count": 86
        }
      ]
    },
    {
      "metadata": {
        "id": "lISEhTPqJgVv",
        "colab_type": "code",
        "colab": {}
      },
      "cell_type": "code",
      "source": [
        "test_ten2 = tf.convert_to_tensor(test2, dtype=tf.float32)\n",
        "anchor_data2, positive_data2, negative_data2 = test_ten2"
      ],
      "execution_count": 0,
      "outputs": []
    },
    {
      "metadata": {
        "id": "B9vWuvu2JgI0",
        "colab_type": "code",
        "colab": {}
      },
      "cell_type": "code",
      "source": [
        ""
      ],
      "execution_count": 0,
      "outputs": []
    },
    {
      "metadata": {
        "id": "ApEldFlPJVoq",
        "colab_type": "code",
        "outputId": "ee54a8e4-0c96-4f89-bdf6-d34565ca9cfa",
        "colab": {
          "base_uri": "https://localhost:8080/",
          "height": 70
        }
      },
      "cell_type": "code",
      "source": [
        "anchor_data2[0, 0:5]"
      ],
      "execution_count": 0,
      "outputs": [
        {
          "output_type": "execute_result",
          "data": {
            "text/plain": [
              "<tf.Tensor: id=4237697, shape=(5,), dtype=float32, numpy=\n",
              "array([-0.03815173,  0.04558022, -0.03306705,  0.00874347, -0.01623795],\n",
              "      dtype=float32)>"
            ]
          },
          "metadata": {
            "tags": []
          },
          "execution_count": 89
        }
      ]
    },
    {
      "metadata": {
        "id": "-2lBT1UJJVY0",
        "colab_type": "code",
        "outputId": "f6f52457-1b1f-47a5-8ea8-07efda04d7fa",
        "colab": {
          "base_uri": "https://localhost:8080/",
          "height": 35
        }
      },
      "cell_type": "code",
      "source": [
        "train_normalized_feature_dict_1000[12450212][0:5]"
      ],
      "execution_count": 0,
      "outputs": [
        {
          "output_type": "execute_result",
          "data": {
            "text/plain": [
              "array([-0.03815173,  0.04558022, -0.03306705,  0.00874347, -0.01623795])"
            ]
          },
          "metadata": {
            "tags": []
          },
          "execution_count": 90
        }
      ]
    },
    {
      "metadata": {
        "id": "BNve_8IKJten",
        "colab_type": "code",
        "outputId": "d183c7c0-d11a-41af-ecb1-792e1c78cc19",
        "colab": {
          "base_uri": "https://localhost:8080/",
          "height": 70
        }
      },
      "cell_type": "code",
      "source": [
        "positive_data2[0, 0:5]"
      ],
      "execution_count": 0,
      "outputs": [
        {
          "output_type": "execute_result",
          "data": {
            "text/plain": [
              "<tf.Tensor: id=4237702, shape=(5,), dtype=float32, numpy=\n",
              "array([-0.03455767,  0.03205481, -0.05553311, -0.00180341, -0.02068364],\n",
              "      dtype=float32)>"
            ]
          },
          "metadata": {
            "tags": []
          },
          "execution_count": 91
        }
      ]
    },
    {
      "metadata": {
        "id": "0DxQ_gFWKHi6",
        "colab_type": "code",
        "outputId": "e00eb7e2-911c-4b4f-cfa4-6a0327344579",
        "colab": {
          "base_uri": "https://localhost:8080/",
          "height": 35
        }
      },
      "cell_type": "code",
      "source": [
        "grants_normalized_feature_dict_2000[7719957][0:5]"
      ],
      "execution_count": 0,
      "outputs": [
        {
          "output_type": "execute_result",
          "data": {
            "text/plain": [
              "array([-0.03455768,  0.03205481, -0.05553311, -0.00180341, -0.02068364])"
            ]
          },
          "metadata": {
            "tags": []
          },
          "execution_count": 95
        }
      ]
    },
    {
      "metadata": {
        "id": "fYevXF2HJtQN",
        "colab_type": "code",
        "outputId": "00108f9b-afbe-43bd-d05e-9932fa7bf02a",
        "colab": {
          "base_uri": "https://localhost:8080/",
          "height": 35
        }
      },
      "cell_type": "code",
      "source": [
        "grants_normalized_feature_dict_2000[7506657][0:5]"
      ],
      "execution_count": 0,
      "outputs": [
        {
          "output_type": "execute_result",
          "data": {
            "text/plain": [
              "array([-0.03321561,  0.02758702,  0.02755731,  0.05383265,  0.01525151])"
            ]
          },
          "metadata": {
            "tags": []
          },
          "execution_count": 93
        }
      ]
    },
    {
      "metadata": {
        "id": "OIaLJ0ZFJ_J9",
        "colab_type": "code",
        "outputId": "2ababd84-c011-4a02-c7c6-2f7df3082540",
        "colab": {
          "base_uri": "https://localhost:8080/",
          "height": 70
        }
      },
      "cell_type": "code",
      "source": [
        "negative_data2[0, 0:5]"
      ],
      "execution_count": 0,
      "outputs": [
        {
          "output_type": "execute_result",
          "data": {
            "text/plain": [
              "<tf.Tensor: id=4237707, shape=(5,), dtype=float32, numpy=\n",
              "array([-0.03321561,  0.02758702,  0.02755731,  0.05383265,  0.01525151],\n",
              "      dtype=float32)>"
            ]
          },
          "metadata": {
            "tags": []
          },
          "execution_count": 94
        }
      ]
    },
    {
      "metadata": {
        "id": "nmoqcdw5JI6N",
        "colab_type": "code",
        "colab": {}
      },
      "cell_type": "code",
      "source": [
        ""
      ],
      "execution_count": 0,
      "outputs": []
    },
    {
      "metadata": {
        "id": "Xeza5d6gJEQ5",
        "colab_type": "code",
        "colab": {}
      },
      "cell_type": "code",
      "source": [
        "anchor_out2 = model.frwrd_pass(anchor_data2[0:5])\n",
        "positive_out2 = model.frwrd_pass(positive_data2[0:5])\n",
        "negative_out2 = model.frwrd_pass(negative_data2[0:5])\n",
        "curr_loss2 = tripletloss(anchor_out2, positive_out2, negative_out2)"
      ],
      "execution_count": 0,
      "outputs": []
    },
    {
      "metadata": {
        "id": "6IXaqqv5Xjo9",
        "colab_type": "code",
        "outputId": "8642f849-248a-45d4-93ef-e566e7ff503a",
        "colab": {
          "base_uri": "https://localhost:8080/",
          "height": 35
        }
      },
      "cell_type": "code",
      "source": [
        "curr_loss2"
      ],
      "execution_count": 0,
      "outputs": [
        {
          "output_type": "execute_result",
          "data": {
            "text/plain": [
              "<tf.Tensor: id=9827650, shape=(), dtype=float32, numpy=0.0>"
            ]
          },
          "metadata": {
            "tags": []
          },
          "execution_count": 153
        }
      ]
    },
    {
      "metadata": {
        "id": "paPakI3SXjWG",
        "colab_type": "code",
        "colab": {}
      },
      "cell_type": "code",
      "source": [
        ""
      ],
      "execution_count": 0,
      "outputs": []
    },
    {
      "metadata": {
        "id": "_KrJeny7GFKy",
        "colab_type": "code",
        "outputId": "f2690cae-ad71-4664-de5e-d28af5f8f6db",
        "colab": {
          "base_uri": "https://localhost:8080/",
          "height": 35
        }
      },
      "cell_type": "code",
      "source": [
        "curr_loss2"
      ],
      "execution_count": 0,
      "outputs": [
        {
          "output_type": "execute_result",
          "data": {
            "text/plain": [
              "<tf.Tensor: id=6980813, shape=(), dtype=float32, numpy=0.0>"
            ]
          },
          "metadata": {
            "tags": []
          },
          "execution_count": 131
        }
      ]
    },
    {
      "metadata": {
        "id": "3OhYEwagMcbf",
        "colab_type": "code",
        "colab": {}
      },
      "cell_type": "code",
      "source": [
        ""
      ],
      "execution_count": 0,
      "outputs": []
    },
    {
      "metadata": {
        "id": "XTjWhvAfMcMK",
        "colab_type": "code",
        "colab": {}
      },
      "cell_type": "code",
      "source": [
        "norm_a_out2 = tf.nn.l2_normalize(anchor_out2, axis=1)\n",
        "norm_p_out2 = tf.nn.l2_normalize(positive_out2, axis=1)\n",
        "norm_n_out2 = tf.nn.l2_normalize(negative_out2, axis=1)\n",
        "\n"
      ],
      "execution_count": 0,
      "outputs": []
    },
    {
      "metadata": {
        "id": "vmrYg9udOtlC",
        "colab_type": "code",
        "colab": {}
      },
      "cell_type": "code",
      "source": [
        "d_pos2 = tf.losses.cosine_distance(norm_a_out2, norm_p_out2, axis=1, reduction=tf.losses.Reduction.NONE)\n",
        "d_neg2 = tf.losses.cosine_distance(norm_a_out2, norm_n_out2, axis=1, reduction=tf.losses.Reduction.NONE)"
      ],
      "execution_count": 0,
      "outputs": []
    },
    {
      "metadata": {
        "id": "TQfPweAnXtIZ",
        "colab_type": "code",
        "outputId": "d68bb72c-9d97-4f5a-ed5d-42097d337c38",
        "colab": {
          "base_uri": "https://localhost:8080/",
          "height": 124
        }
      },
      "cell_type": "code",
      "source": [
        "d_pos2"
      ],
      "execution_count": 0,
      "outputs": [
        {
          "output_type": "execute_result",
          "data": {
            "text/plain": [
              "<tf.Tensor: id=9827686, shape=(5, 1), dtype=float32, numpy=\n",
              "array([[0.31181705],\n",
              "       [0.2618196 ],\n",
              "       [0.29379976],\n",
              "       [0.10545641],\n",
              "       [0.17845315]], dtype=float32)>"
            ]
          },
          "metadata": {
            "tags": []
          },
          "execution_count": 156
        }
      ]
    },
    {
      "metadata": {
        "id": "TiYiDBWiXsxd",
        "colab_type": "code",
        "colab": {}
      },
      "cell_type": "code",
      "source": [
        ""
      ],
      "execution_count": 0,
      "outputs": []
    },
    {
      "metadata": {
        "id": "acd9v-2pM73b",
        "colab_type": "code",
        "outputId": "8fd2e92f-fe18-416e-98db-501717aa24f9",
        "colab": {
          "base_uri": "https://localhost:8080/",
          "height": 124
        }
      },
      "cell_type": "code",
      "source": [
        "d_pos2"
      ],
      "execution_count": 0,
      "outputs": [
        {
          "output_type": "execute_result",
          "data": {
            "text/plain": [
              "<tf.Tensor: id=6980849, shape=(5, 1), dtype=float32, numpy=\n",
              "array([[0.32095897],\n",
              "       [0.3099807 ],\n",
              "       [0.24314821],\n",
              "       [0.13694352],\n",
              "       [0.18507373]], dtype=float32)>"
            ]
          },
          "metadata": {
            "tags": []
          },
          "execution_count": 134
        }
      ]
    },
    {
      "metadata": {
        "id": "RqJRo7XBM9-K",
        "colab_type": "code",
        "outputId": "a54c35af-94af-40df-e7e3-66077d1296cf",
        "colab": {
          "base_uri": "https://localhost:8080/",
          "height": 124
        }
      },
      "cell_type": "code",
      "source": [
        "d_neg2"
      ],
      "execution_count": 0,
      "outputs": [
        {
          "output_type": "execute_result",
          "data": {
            "text/plain": [
              "<tf.Tensor: id=6980863, shape=(5, 1), dtype=float32, numpy=\n",
              "array([[0.63673747],\n",
              "       [0.5831015 ],\n",
              "       [0.5028086 ],\n",
              "       [0.7062503 ],\n",
              "       [0.48968685]], dtype=float32)>"
            ]
          },
          "metadata": {
            "tags": []
          },
          "execution_count": 135
        }
      ]
    },
    {
      "metadata": {
        "id": "0rrOxpushJ3e",
        "colab_type": "code",
        "colab": {}
      },
      "cell_type": "code",
      "source": [
        ""
      ],
      "execution_count": 0,
      "outputs": []
    },
    {
      "metadata": {
        "id": "LMfBiZ3phKUb",
        "colab_type": "code",
        "colab": {}
      },
      "cell_type": "code",
      "source": [
        ""
      ],
      "execution_count": 0,
      "outputs": []
    },
    {
      "metadata": {
        "id": "i8WVVcm1ZioY",
        "colab_type": "code",
        "outputId": "19eb52a4-0824-4435-887b-5c76ec811374",
        "colab": {
          "base_uri": "https://localhost:8080/",
          "height": 204
        }
      },
      "cell_type": "code",
      "source": [
        "test_app_df.head()"
      ],
      "execution_count": 0,
      "outputs": [
        {
          "output_type": "execute_result",
          "data": {
            "text/html": [
              "<div>\n",
              "<style scoped>\n",
              "    .dataframe tbody tr th:only-of-type {\n",
              "        vertical-align: middle;\n",
              "    }\n",
              "\n",
              "    .dataframe tbody tr th {\n",
              "        vertical-align: top;\n",
              "    }\n",
              "\n",
              "    .dataframe thead th {\n",
              "        text-align: right;\n",
              "    }\n",
              "</style>\n",
              "<table border=\"1\" class=\"dataframe\">\n",
              "  <thead>\n",
              "    <tr style=\"text-align: right;\">\n",
              "      <th></th>\n",
              "      <th>app_id</th>\n",
              "      <th>xml</th>\n",
              "    </tr>\n",
              "  </thead>\n",
              "  <tbody>\n",
              "    <tr>\n",
              "      <th>0</th>\n",
              "      <td>14307191</td>\n",
              "      <td>&lt;us-patent-application lang=\"EN\" dtd-version=\"...</td>\n",
              "    </tr>\n",
              "    <tr>\n",
              "      <th>1</th>\n",
              "      <td>13137006</td>\n",
              "      <td>&lt;us-patent-application lang=\"EN\" dtd-version=\"...</td>\n",
              "    </tr>\n",
              "    <tr>\n",
              "      <th>2</th>\n",
              "      <td>12741959</td>\n",
              "      <td>&lt;us-patent-application lang=\"EN\" dtd-version=\"...</td>\n",
              "    </tr>\n",
              "    <tr>\n",
              "      <th>3</th>\n",
              "      <td>12643447</td>\n",
              "      <td>&lt;us-patent-application lang=\"EN\" dtd-version=\"...</td>\n",
              "    </tr>\n",
              "    <tr>\n",
              "      <th>4</th>\n",
              "      <td>14200253</td>\n",
              "      <td>&lt;us-patent-application lang=\"EN\" dtd-version=\"...</td>\n",
              "    </tr>\n",
              "  </tbody>\n",
              "</table>\n",
              "</div>"
            ],
            "text/plain": [
              "     app_id                                                xml\n",
              "0  14307191  <us-patent-application lang=\"EN\" dtd-version=\"...\n",
              "1  13137006  <us-patent-application lang=\"EN\" dtd-version=\"...\n",
              "2  12741959  <us-patent-application lang=\"EN\" dtd-version=\"...\n",
              "3  12643447  <us-patent-application lang=\"EN\" dtd-version=\"...\n",
              "4  14200253  <us-patent-application lang=\"EN\" dtd-version=\"..."
            ]
          },
          "metadata": {
            "tags": []
          },
          "execution_count": 173
        }
      ]
    },
    {
      "metadata": {
        "id": "pk3BIQmRZfQL",
        "colab_type": "code",
        "outputId": "0ea8e055-a45e-4998-936b-9a68b7d43da4",
        "colab": {
          "base_uri": "https://localhost:8080/",
          "height": 17813
        }
      },
      "cell_type": "code",
      "source": [
        "list(reversed(sort_similarity_by_value(sim_dict_by_extracted, 14307191)))"
      ],
      "execution_count": 0,
      "outputs": [
        {
          "output_type": "execute_result",
          "data": {
            "text/plain": [
              "[(7675444, 0.81486243),\n",
              " (8213360, 0.8095555),\n",
              " (8295300, 0.7975527),\n",
              " (7440728, 0.7911943),\n",
              " (7181534, 0.79116535),\n",
              " (7015791, 0.78744763),\n",
              " (7047561, 0.7843642),\n",
              " (7496099, 0.7797317),\n",
              " (6856519, 0.7784024),\n",
              " (7400687, 0.77812225),\n",
              " (7596647, 0.7777683),\n",
              " (6943925, 0.77549464),\n",
              " (6968158, 0.770937),\n",
              " (7430610, 0.77051735),\n",
              " (8149834, 0.7702616),\n",
              " (7197008, 0.76929677),\n",
              " (7080160, 0.76841784),\n",
              " (6927664, 0.768098),\n",
              " (7787480, 0.7665925),\n",
              " (7460369, 0.76627505),\n",
              " (7774833, 0.76552117),\n",
              " (6947376, 0.76504576),\n",
              " (6943668, 0.76469994),\n",
              " (7684209, 0.75894296),\n",
              " (7898105, 0.7584627),\n",
              " (7359643, 0.75701934),\n",
              " (7184876, 0.7568906),\n",
              " (7215144, 0.7568878),\n",
              " (7733589, 0.7557938),\n",
              " (7388946, 0.75565314),\n",
              " (7484979, 0.75525403),\n",
              " (7418208, 0.7550416),\n",
              " (7019617, 0.7520639),\n",
              " (6895220, 0.7517824),\n",
              " (7408379, 0.75157136),\n",
              " (7050761, 0.75155663),\n",
              " (7715309, 0.75128585),\n",
              " (7949309, 0.7512685),\n",
              " (8126094, 0.75113165),\n",
              " (8051342, 0.7495631),\n",
              " (7215775, 0.74950296),\n",
              " (7843906, 0.74846643),\n",
              " (7145862, 0.7483807),\n",
              " (7898990, 0.7480098),\n",
              " (7451206, 0.7476317),\n",
              " (7809991, 0.7470262),\n",
              " (7042110, 0.7464547),\n",
              " (6968364, 0.74482965),\n",
              " (6841983, 0.74388635),\n",
              " (7855885, 0.7436191),\n",
              " (7957786, 0.7426257),\n",
              " (7605793, 0.7425374),\n",
              " (7188138, 0.7413245),\n",
              " (7426262, 0.74062407),\n",
              " (7281388, 0.7404666),\n",
              " (7660868, 0.73994887),\n",
              " (7013748, 0.7388018),\n",
              " (7895431, 0.738509),\n",
              " (6903715, 0.73815),\n",
              " (7475088, 0.7375789),\n",
              " (7041096, 0.7374499),\n",
              " (8077606, 0.7370606),\n",
              " (8031534, 0.73694295),\n",
              " (7207488, 0.73615736),\n",
              " (6963885, 0.73615384),\n",
              " (7895309, 0.7357194),\n",
              " (8001085, 0.7342231),\n",
              " (7949605, 0.73381746),\n",
              " (7886023, 0.7338051),\n",
              " (7184466, 0.7329961),\n",
              " (8008808, 0.73242307),\n",
              " (6915114, 0.73236936),\n",
              " (7016741, 0.73227984),\n",
              " (7158805, 0.7322615),\n",
              " (7577750, 0.7322377),\n",
              " (7116645, 0.73222715),\n",
              " (7178635, 0.7320244),\n",
              " (6853713, 0.7319222),\n",
              " (7863777, 0.7318604),\n",
              " (7031304, 0.7315303),\n",
              " (7116195, 0.73098904),\n",
              " (7586881, 0.7307158),\n",
              " (7136267, 0.73018914),\n",
              " (7890745, 0.7294779),\n",
              " (8019331, 0.72733015),\n",
              " (7088059, 0.72729605),\n",
              " (7823877, 0.72699696),\n",
              " (7909157, 0.7268107),\n",
              " (7929012, 0.72676927),\n",
              " (7756528, 0.7263794),\n",
              " (7719957, 0.72555614),\n",
              " (7881755, 0.724652),\n",
              " (6876135, 0.7241053),\n",
              " (7206806, 0.7233497),\n",
              " (7590027, 0.7225955),\n",
              " (7406328, 0.7224934),\n",
              " (7738221, 0.7216605),\n",
              " (7953538, 0.72131604),\n",
              " (7822621, 0.7210597),\n",
              " (7139818, 0.72037935),\n",
              " (6925627, 0.7200945),\n",
              " (7255457, 0.71890676),\n",
              " (7310335, 0.7188561),\n",
              " (7525397, 0.7187962),\n",
              " (7561519, 0.7187677),\n",
              " (7826990, 0.718356),\n",
              " (7385752, 0.718292),\n",
              " (6980185, 0.7180653),\n",
              " (7441558, 0.7176729),\n",
              " (7286507, 0.71751314),\n",
              " (7013254, 0.7175073),\n",
              " (7005772, 0.71733785),\n",
              " (7903574, 0.71720797),\n",
              " (7251732, 0.7171354),\n",
              " (7274975, 0.7159303),\n",
              " (7715448, 0.7150076),\n",
              " (7944149, 0.7147648),\n",
              " (7532311, 0.7135494),\n",
              " (7130672, 0.71306247),\n",
              " (7159765, 0.7129127),\n",
              " (7242354, 0.7121835),\n",
              " (7564412, 0.7117286),\n",
              " (7593784, 0.7112149),\n",
              " (7900011, 0.71117646),\n",
              " (7966588, 0.71081895),\n",
              " (7310678, 0.7107107),\n",
              " (7200229, 0.71066666),\n",
              " (7551574, 0.710244),\n",
              " (7633779, 0.70970666),\n",
              " (7814087, 0.7093378),\n",
              " (7716511, 0.70915204),\n",
              " (7196576, 0.7087789),\n",
              " (7443972, 0.70860535),\n",
              " (7668147, 0.7082502),\n",
              " (6862498, 0.7077282),\n",
              " (7629698, 0.70759696),\n",
              " (7213468, 0.7074537),\n",
              " (7197363, 0.70725447),\n",
              " (7196326, 0.7072374),\n",
              " (8038172, 0.70716935),\n",
              " (7865186, 0.7069239),\n",
              " (7070393, 0.70659775),\n",
              " (7166813, 0.7065461),\n",
              " (7529868, 0.7060048),\n",
              " (7090471, 0.7058224),\n",
              " (7164211, 0.7056785),\n",
              " (7079320, 0.70550096),\n",
              " (7148581, 0.70524186),\n",
              " (7528392, 0.70520157),\n",
              " (7046867, 0.7049518),\n",
              " (7831644, 0.70458627),\n",
              " (7443193, 0.70412457),\n",
              " (7533288, 0.70405185),\n",
              " (8281066, 0.7037495),\n",
              " (7876744, 0.7036041),\n",
              " (7561192, 0.7035263),\n",
              " (7109443, 0.70327103),\n",
              " (8090270, 0.70288277),\n",
              " (7674118, 0.702833),\n",
              " (8291750, 0.7027645),\n",
              " (7919988, 0.70261234),\n",
              " (6941131, 0.70243806),\n",
              " (7873471, 0.7011494),\n",
              " (7437313, 0.7008872),\n",
              " (7888881, 0.7007809),\n",
              " (7013205, 0.70058465),\n",
              " (7962696, 0.7003876),\n",
              " (7889233, 0.7003794),\n",
              " (7845877, 0.7002332),\n",
              " (7191013, 0.69987744),\n",
              " (7659934, 0.6995229),\n",
              " (8145726, 0.69918466),\n",
              " (8054780, 0.6987281),\n",
              " (7702451, 0.6987012),\n",
              " (7933273, 0.6980735),\n",
              " (8138731, 0.6977812),\n",
              " (7225409, 0.6975088),\n",
              " (7729924, 0.697316),\n",
              " (8107438, 0.6969645),\n",
              " (6965911, 0.69689685),\n",
              " (7426833, 0.696825),\n",
              " (8076825, 0.69671255),\n",
              " (7453440, 0.69615304),\n",
              " (7917396, 0.6956243),\n",
              " (7525283, 0.69539505),\n",
              " (7697967, 0.69516504),\n",
              " (7679329, 0.695033),\n",
              " (7218186, 0.69491273),\n",
              " (8312262, 0.69489837),\n",
              " (7620127, 0.694686),\n",
              " (7903338, 0.6946766),\n",
              " (7792829, 0.69425535),\n",
              " (7956651, 0.6940903),\n",
              " (8099605, 0.69377655),\n",
              " (7129854, 0.693567),\n",
              " (7007111, 0.69354045),\n",
              " (6993090, 0.69346625),\n",
              " (7242700, 0.6934654),\n",
              " (8190395, 0.6933291),\n",
              " (7286563, 0.6932238),\n",
              " (7609637, 0.69312805),\n",
              " (7461404, 0.692726),\n",
              " (7012451, 0.69257075),\n",
              " (7780814, 0.692521),\n",
              " (7664249, 0.69245225),\n",
              " (7143964, 0.6918801),\n",
              " (7348491, 0.6918277),\n",
              " (7695600, 0.6916918),\n",
              " (7221748, 0.6915037),\n",
              " (6850788, 0.69141585),\n",
              " (7805052, 0.69106203),\n",
              " (7426275, 0.69099706),\n",
              " (7215976, 0.69088596),\n",
              " (7965829, 0.6908705),\n",
              " (6946870, 0.6902834),\n",
              " (7483424, 0.6902283),\n",
              " (8249643, 0.6893034),\n",
              " (8282668, 0.68921983),\n",
              " (6847091, 0.6888808),\n",
              " (8130913, 0.68838006),\n",
              " (7945683, 0.6882704),\n",
              " (7343745, 0.6882419),\n",
              " (6873112, 0.6882181),\n",
              " (8116083, 0.68802834),\n",
              " (7511954, 0.6879845),\n",
              " (7289988, 0.6877546),\n",
              " (7528638, 0.6876217),\n",
              " (7429932, 0.6873782),\n",
              " (7918318, 0.68705606),\n",
              " (7750703, 0.68674237),\n",
              " (7801074, 0.6867422),\n",
              " (7329154, 0.6865747),\n",
              " (8288992, 0.6865453),\n",
              " (7468911, 0.6864245),\n",
              " (7487076, 0.68634987),\n",
              " (6966499, 0.6861247),\n",
              " (7088714, 0.6859822),\n",
              " (7006431, 0.68589824),\n",
              " (7177426, 0.6858796),\n",
              " (7028312, 0.6857186),\n",
              " (7702986, 0.6856244),\n",
              " (7555332, 0.6855604),\n",
              " (7769394, 0.68549913),\n",
              " (7323022, 0.68537337),\n",
              " (8184647, 0.6853506),\n",
              " (7977658, 0.6853041),\n",
              " (7496344, 0.6852981),\n",
              " (7023190, 0.68516487),\n",
              " (7653368, 0.6851533),\n",
              " (6915282, 0.6850561),\n",
              " (7096368, 0.6848594),\n",
              " (8171387, 0.6847628),\n",
              " (7451591, 0.68459225),\n",
              " (7539072, 0.6844176),\n",
              " (7004780, 0.68437153),\n",
              " (7430561, 0.68413067),\n",
              " (7120550, 0.6838522),\n",
              " (6959152, 0.68383956),\n",
              " (8225629, 0.68368757),\n",
              " (7511603, 0.6836665),\n",
              " (7408944, 0.6834979),\n",
              " (7839926, 0.6834305),\n",
              " (8301948, 0.6833082),\n",
              " (7660822, 0.6830308),\n",
              " (6987738, 0.6828595),\n",
              " (7651202, 0.6827751),\n",
              " (7259321, 0.6827443),\n",
              " (6996721, 0.682487),\n",
              " (8255607, 0.6822134),\n",
              " (7701740, 0.68188304),\n",
              " (7333443, 0.6817745),\n",
              " (8244159, 0.68167293),\n",
              " (7346274, 0.68145555),\n",
              " (7261455, 0.6813657),\n",
              " (7762705, 0.6813195),\n",
              " (7292151, 0.6812276),\n",
              " (7382340, 0.6809729),\n",
              " (8229025, 0.6803979),\n",
              " (7370277, 0.6801992),\n",
              " (8232112, 0.68008536),\n",
              " (7277304, 0.6795412),\n",
              " (7061464, 0.6793608),\n",
              " (6868519, 0.6793559),\n",
              " (7999981, 0.67926323),\n",
              " (8094108, 0.6787044),\n",
              " (7116419, 0.678482),\n",
              " (7190933, 0.6781243),\n",
              " (7043255, 0.6776972),\n",
              " (7924436, 0.677446),\n",
              " (7043231, 0.6774212),\n",
              " (7685643, 0.67714316),\n",
              " (8122113, 0.67695004),\n",
              " (6937507, 0.67693794),\n",
              " (7124356, 0.67692745),\n",
              " (8064382, 0.67651266),\n",
              " (7889761, 0.67645323),\n",
              " (7465878, 0.67632544),\n",
              " (7015910, 0.67624897),\n",
              " (7466395, 0.67595565),\n",
              " (6976210, 0.6756451),\n",
              " (7416125, 0.6754926),\n",
              " (8185688, 0.6752097),\n",
              " (7085564, 0.6751333),\n",
              " (8052215, 0.6746406),\n",
              " (8193097, 0.6744352),\n",
              " (7623387, 0.6743884),\n",
              " (6952744, 0.674329),\n",
              " (7724562, 0.6736172),\n",
              " (7283044, 0.6734028),\n",
              " (6870092, 0.6733697),\n",
              " (7992226, 0.6733682),\n",
              " (7376778, 0.67309463),\n",
              " (7051825, 0.6729285),\n",
              " (8015606, 0.6728261),\n",
              " (6838812, 0.6728195),\n",
              " (6897699, 0.672685),\n",
              " (7075037, 0.67239976),\n",
              " (7688466, 0.67220783),\n",
              " (7863992, 0.67219126),\n",
              " (7441800, 0.6721812),\n",
              " (7493728, 0.67191917),\n",
              " (7517252, 0.6716508),\n",
              " (7789625, 0.6713181),\n",
              " (8253403, 0.67130524),\n",
              " (7031329, 0.6712844),\n",
              " (7418940, 0.67112947),\n",
              " (7831925, 0.6708771),\n",
              " (7171185, 0.67071736),\n",
              " (8033841, 0.6706601),\n",
              " (7778186, 0.670376),\n",
              " (6925631, 0.6701577),\n",
              " (7755255, 0.66995126),\n",
              " (7024155, 0.6699269),\n",
              " (6886743, 0.66948414),\n",
              " (8065579, 0.6694825),\n",
              " (7167980, 0.6693241),\n",
              " (7117020, 0.66920453),\n",
              " (7388531, 0.66903377),\n",
              " (6910106, 0.6690221),\n",
              " (6981333, 0.6688645),\n",
              " (6996556, 0.6687731),\n",
              " (7051019, 0.66873777),\n",
              " (8103233, 0.6686571),\n",
              " (8282017, 0.6685813),\n",
              " (7082142, 0.66824156),\n",
              " (7689682, 0.66821086),\n",
              " (7798853, 0.66817784),\n",
              " (7965929, 0.6681729),\n",
              " (8026858, 0.66812146),\n",
              " (8177561, 0.66811305),\n",
              " (7313375, 0.6680308),\n",
              " (7958430, 0.668025),\n",
              " (8094455, 0.6680069),\n",
              " (7132931, 0.6679237),\n",
              " (7059726, 0.66783327),\n",
              " (7451114, 0.66774017),\n",
              " (6882569, 0.6677302),\n",
              " (7121366, 0.6671805),\n",
              " (7408596, 0.66707736),\n",
              " (8145957, 0.66687036),\n",
              " (6932039, 0.66682386),\n",
              " (7472971, 0.6666111),\n",
              " (7342831, 0.6665477),\n",
              " (7954581, 0.666496),\n",
              " (7716913, 0.66643226),\n",
              " (6895430, 0.66632867),\n",
              " (7552373, 0.6662429),\n",
              " (7826890, 0.66590786),\n",
              " (7943895, 0.6656588),\n",
              " (8018261, 0.6654049),\n",
              " (7205733, 0.6653527),\n",
              " (8314363, 0.6649995),\n",
              " (7176426, 0.66482234),\n",
              " (6978840, 0.6647195),\n",
              " (7978615, 0.66430724),\n",
              " (7730241, 0.66396654),\n",
              " (7023692, 0.66392577),\n",
              " (7457981, 0.6639009),\n",
              " (7057739, 0.6638801),\n",
              " (7657548, 0.6638311),\n",
              " (7434958, 0.6638299),\n",
              " (7062587, 0.6634552),\n",
              " (7236632, 0.66339296),\n",
              " (7095387, 0.663247),\n",
              " (6910812, 0.6631066),\n",
              " (6870252, 0.6629639),\n",
              " (8005817, 0.66292197),\n",
              " (7072327, 0.6628644),\n",
              " (7814128, 0.66281724),\n",
              " (7634983, 0.66269153),\n",
              " (7821714, 0.66259354),\n",
              " (7084342, 0.66253775),\n",
              " (7462570, 0.6625273),\n",
              " (7996225, 0.66240627),\n",
              " (7762159, 0.66230726),\n",
              " (7630125, 0.6622064),\n",
              " (6845583, 0.6620728),\n",
              " (7498706, 0.6619912),\n",
              " (7489110, 0.66186094),\n",
              " (7501056, 0.6615835),\n",
              " (7384021, 0.66154456),\n",
              " (7830190, 0.661495),\n",
              " (7014218, 0.66128534),\n",
              " (7057392, 0.6612724),\n",
              " (7941136, 0.6611833),\n",
              " (7043380, 0.66117877),\n",
              " (6895516, 0.6607037),\n",
              " (7898807, 0.6606878),\n",
              " (7622912, 0.66039884),\n",
              " (7395322, 0.66028774),\n",
              " (7036798, 0.6602391),\n",
              " (7880786, 0.6600105),\n",
              " (6895125, 0.6596411),\n",
              " (7438638, 0.6596089),\n",
              " (7837472, 0.6596006),\n",
              " (6989826, 0.6591683),\n",
              " (7050194, 0.65900975),\n",
              " (7784980, 0.65898466),\n",
              " (7800119, 0.6585759),\n",
              " (7249572, 0.6583674),\n",
              " (7924323, 0.65828574),\n",
              " (7611603, 0.65826786),\n",
              " (7431616, 0.65815604),\n",
              " (7271332, 0.658126),\n",
              " (7448584, 0.65802896),\n",
              " (7346136, 0.65789217),\n",
              " (7330069, 0.6576913),\n",
              " (7542720, 0.6576701),\n",
              " (7752024, 0.6572791),\n",
              " (7477871, 0.6572299),\n",
              " (6852924, 0.6572081),\n",
              " (6945981, 0.6571809),\n",
              " (7458999, 0.657127),\n",
              " (7468934, 0.6570766),\n",
              " (8004735, 0.6569156),\n",
              " (7065764, 0.65690744),\n",
              " (7013398, 0.6568877),\n",
              " (7266172, 0.65649635),\n",
              " (7995730, 0.65648246),\n",
              " (8185103, 0.65647006),\n",
              " (7007923, 0.65621984),\n",
              " (7743203, 0.656215),\n",
              " (7450280, 0.6561037),\n",
              " (7583152, 0.656058),\n",
              " (7377268, 0.65579706),\n",
              " (7480244, 0.6556142),\n",
              " (7489773, 0.6556063),\n",
              " (7248463, 0.65557545),\n",
              " (6988493, 0.65538263),\n",
              " (7399220, 0.65533364),\n",
              " (6899074, 0.65509325),\n",
              " (7884646, 0.6547999),\n",
              " (7797383, 0.6547654),\n",
              " (6862575, 0.6545435),\n",
              " (7503011, 0.65428525),\n",
              " (7025857, 0.65417314),\n",
              " (7363384, 0.65416545),\n",
              " (7034684, 0.6540751),\n",
              " (7288110, 0.65402704),\n",
              " (7031568, 0.65395707),\n",
              " (7865567, 0.65357316),\n",
              " (7757495, 0.65351725),\n",
              " (7953064, 0.6533758),\n",
              " (8149844, 0.6533641),\n",
              " (7622935, 0.653353),\n",
              " (7049952, 0.6528572),\n",
              " (7333496, 0.65272033),\n",
              " (6859219, 0.6526892),\n",
              " (7996071, 0.65265334),\n",
              " (6910004, 0.65260196),\n",
              " (7265360, 0.6525484),\n",
              " (8278784, 0.652529),\n",
              " (7082238, 0.65241796),\n",
              " (6942056, 0.65227854),\n",
              " (7306495, 0.65227497),\n",
              " (8203586, 0.6521164),\n",
              " (7774335, 0.6520631),\n",
              " (7003466, 0.65196943),\n",
              " (8079052, 0.65175205),\n",
              " (7206778, 0.6517424),\n",
              " (7882307, 0.65165657),\n",
              " (8049569, 0.65155625),\n",
              " (7038489, 0.6514128),\n",
              " (7580249, 0.65125656),\n",
              " (6915265, 0.6511409),\n",
              " (7097690, 0.6510907),\n",
              " (7603119, 0.650824),\n",
              " (7160717, 0.6508169),\n",
              " (7312790, 0.6507323),\n",
              " (7945688, 0.6506219),\n",
              " (7368961, 0.65060717),\n",
              " (7492082, 0.6505266),\n",
              " (7457145, 0.65048325),\n",
              " (7823833, 0.650422),\n",
              " (7185868, 0.6501292),\n",
              " (7257545, 0.6501053),\n",
              " (7176770, 0.65000653),\n",
              " (7926078, 0.6499121),\n",
              " (6956573, 0.6498199),\n",
              " (8144663, 0.6498033),\n",
              " (7131067, 0.649776),\n",
              " (7778885, 0.64976716),\n",
              " (8033108, 0.6496203),\n",
              " (6981436, 0.64952904),\n",
              " (7073629, 0.64941466),\n",
              " (7403980, 0.6494072),\n",
              " (7289817, 0.6490212),\n",
              " (7914162, 0.6487657),\n",
              " (7004164, 0.64851445),\n",
              " (7861445, 0.64818484),\n",
              " (8155368, 0.6481696),\n",
              " (7420458, 0.6480363),\n",
              " (7852137, 0.64789623),\n",
              " (6906926, 0.6477411),\n",
              " (7249978, 0.6474725),\n",
              " (7644449, 0.64744115),\n",
              " (8104072, 0.64734536),\n",
              " (7315100, 0.64727604),\n",
              " (7773398, 0.6472083),\n",
              " (8102167, 0.64695644),\n",
              " (6983216, 0.64689326),\n",
              " (7383748, 0.6468472),\n",
              " (7257374, 0.6466919),\n",
              " (7962545, 0.64658403),\n",
              " (7685126, 0.64641345),\n",
              " (6876248, 0.6461901),\n",
              " (7123215, 0.6460915),\n",
              " (7631605, 0.6458993),\n",
              " (6908331, 0.6458406),\n",
              " (8037425, 0.64552796),\n",
              " (6880555, 0.6455185),\n",
              " (7079413, 0.64533937),\n",
              " (7987499, 0.6452711),\n",
              " (7899829, 0.6451719),\n",
              " (7472718, 0.64510137),\n",
              " (7492262, 0.6450982),\n",
              " (7066136, 0.6450549),\n",
              " (7918263, 0.64489865),\n",
              " (7267081, 0.6448733),\n",
              " (7456874, 0.64483374),\n",
              " (7237391, 0.6447665),\n",
              " (7108781, 0.6446272),\n",
              " (7079424, 0.64458644),\n",
              " (7814791, 0.64449555),\n",
              " (7610192, 0.64439327),\n",
              " (6858872, 0.64424914),\n",
              " (8280672, 0.6441405),\n",
              " (7846524, 0.6438032),\n",
              " (7364309, 0.64380294),\n",
              " (7819228, 0.64375395),\n",
              " (8206420, 0.643694),\n",
              " (7673934, 0.64369184),\n",
              " (6930993, 0.64358914),\n",
              " (7061618, 0.6435691),\n",
              " (7593114, 0.6434062),\n",
              " (7580032, 0.6433906),\n",
              " (7264355, 0.6433553),\n",
              " (7371613, 0.6433531),\n",
              " (7849509, 0.6430909),\n",
              " (6922183, 0.6428042),\n",
              " (7117031, 0.64277273),\n",
              " (7913162, 0.6423974),\n",
              " (8215787, 0.64220935),\n",
              " (7600192, 0.64209974),\n",
              " (7797382, 0.64207524),\n",
              " (7002537, 0.64172584),\n",
              " (6915592, 0.641281),\n",
              " (7565227, 0.6411557),\n",
              " (6843422, 0.6411352),\n",
              " (6920291, 0.6411269),\n",
              " (7539867, 0.6407035),\n",
              " (6849176, 0.6404939),\n",
              " (8184832, 0.6404649),\n",
              " (7383954, 0.64035285),\n",
              " (8056969, 0.64031756),\n",
              " (7991854, 0.64023226),\n",
              " (7264166, 0.64014035),\n",
              " (7640404, 0.6400443),\n",
              " (7506657, 0.63999605),\n",
              " (7260301, 0.6397229),\n",
              " (7016908, 0.63956654),\n",
              " (7292389, 0.6393641),\n",
              " (8161168, 0.63927674),\n",
              " (7017985, 0.63922745),\n",
              " (7832160, 0.63917696),\n",
              " (7606938, 0.6391487),\n",
              " (8254896, 0.638918),\n",
              " (8055007, 0.6387828),\n",
              " (6927528, 0.63875467),\n",
              " (7082777, 0.6387143),\n",
              " (7411143, 0.6387037),\n",
              " (8024439, 0.6384803),\n",
              " (6930244, 0.63819873),\n",
              " (8027880, 0.6380971),\n",
              " (7849195, 0.63807285),\n",
              " (7966319, 0.6380434),\n",
              " (7783161, 0.6378199),\n",
              " (7309630, 0.63773036),\n",
              " (7730544, 0.637532),\n",
              " (7639571, 0.63728046),\n",
              " (7748353, 0.6372461),\n",
              " (8243764, 0.63721114),\n",
              " (8166450, 0.63704103),\n",
              " (7270010, 0.6370253),\n",
              " (7637641, 0.63695997),\n",
              " (7078736, 0.63681775),\n",
              " (6934964, 0.6367585),\n",
              " (6883600, 0.63665223),\n",
              " (8339697, 0.63663304),\n",
              " (7155689, 0.63616174),\n",
              " (8234494, 0.63604754),\n",
              " (7336114, 0.6359956),\n",
              " (7397896, 0.6358612),\n",
              " (7181214, 0.635726),\n",
              " (7680234, 0.635555),\n",
              " (7779036, 0.6355024),\n",
              " (7085052, 0.6352767),\n",
              " (7579705, 0.63523144),\n",
              " (6892861, 0.6349764),\n",
              " (7158689, 0.6349617),\n",
              " (6850712, 0.6347844),\n",
              " (7693104, 0.63473207),\n",
              " (7100369, 0.6346058),\n",
              " (7747480, 0.63457197),\n",
              " (7984304, 0.63453484),\n",
              " (7306034, 0.6342848),\n",
              " (7592877, 0.63419193),\n",
              " (8010524, 0.6341328),\n",
              " (7698723, 0.6341306),\n",
              " (7182621, 0.6340044),\n",
              " (6964489, 0.63400054),\n",
              " (7929140, 0.63383853),\n",
              " (8336128, 0.63379765),\n",
              " (7056142, 0.63369995),\n",
              " (7373031, 0.6332844),\n",
              " (8235857, 0.63327026),\n",
              " (7542083, 0.633215),\n",
              " (7116365, 0.633214),\n",
              " (7401848, 0.6331805),\n",
              " (7904300, 0.63317966),\n",
              " (7321206, 0.6330549),\n",
              " (7407365, 0.6330499),\n",
              " (7927994, 0.6329106),\n",
              " (7587887, 0.632577),\n",
              " (7871985, 0.6325609),\n",
              " (7845510, 0.6324469),\n",
              " (7239031, 0.63234675),\n",
              " (6976136, 0.6322705),\n",
              " (6964122, 0.6320958),\n",
              " (7532348, 0.63180476),\n",
              " (7451839, 0.6317794),\n",
              " (7039615, 0.63175756),\n",
              " (7424499, 0.6315232),\n",
              " (7257741, 0.63145936),\n",
              " (8162603, 0.63136315),\n",
              " (6914571, 0.63123614),\n",
              " (7663798, 0.63112146),\n",
              " (7193966, 0.6310939),\n",
              " (7540150, 0.6310928),\n",
              " (8078109, 0.63089913),\n",
              " (7406579, 0.6306856),\n",
              " (7373878, 0.63062036),\n",
              " (6959993, 0.63039994),\n",
              " (7657778, 0.6303119),\n",
              " (7924539, 0.6302309),\n",
              " (6945263, 0.6300997),\n",
              " (6851024, 0.6300335),\n",
              " (7254592, 0.6299989),\n",
              " (7624271, 0.6299924),\n",
              " (7140250, 0.6299393),\n",
              " (7188340, 0.62992936),\n",
              " (7394165, 0.6298029),\n",
              " (7447030, 0.6297127),\n",
              " (7040489, 0.62968916),\n",
              " (7497427, 0.6296072),\n",
              " (8035392, 0.6292281),\n",
              " (7375523, 0.6292192),\n",
              " (7227184, 0.6291673),\n",
              " (7843691, 0.62902325),\n",
              " (6978906, 0.62881327),\n",
              " (7612302, 0.6287184),\n",
              " (7561330, 0.6287142),\n",
              " (7620697, 0.62862784),\n",
              " (7058682, 0.62859726),\n",
              " (8122878, 0.6281995),\n",
              " (7847374, 0.62812454),\n",
              " (7228874, 0.627783),\n",
              " (7421865, 0.6276781),\n",
              " (7397761, 0.62754244),\n",
              " (7058252, 0.62734467),\n",
              " (8100623, 0.62734234),\n",
              " (7742203, 0.6273156),\n",
              " (7010415, 0.62727106),\n",
              " (7260726, 0.62722415),\n",
              " (8334887, 0.6271628),\n",
              " (7884844, 0.62707365),\n",
              " (7331684, 0.6269188),\n",
              " (7337285, 0.62687397),\n",
              " (7802779, 0.6268015),\n",
              " (7352610, 0.62675416),\n",
              " (7336494, 0.62669796),\n",
              " (7353034, 0.6266677),\n",
              " (7244399, 0.62665796),\n",
              " (6872524, 0.6262712),\n",
              " (7002205, 0.6262351),\n",
              " (7018515, 0.6261917),\n",
              " (7518782, 0.6261756),\n",
              " (7471543, 0.62601143),\n",
              " (7641414, 0.62599313),\n",
              " (7518248, 0.6259123),\n",
              " (7685807, 0.6258348),\n",
              " (7788274, 0.6255859),\n",
              " (7760258, 0.6255788),\n",
              " (7518278, 0.6254716),\n",
              " (8075171, 0.62544006),\n",
              " (7451578, 0.6252956),\n",
              " (8025428, 0.6252464),\n",
              " (7460248, 0.62524253),\n",
              " (7814492, 0.62519866),\n",
              " (8294062, 0.6250781),\n",
              " (7734632, 0.62489647),\n",
              " (7524191, 0.62485504),\n",
              " (7526562, 0.62448263),\n",
              " (7382341, 0.62448215),\n",
              " (7747926, 0.6243897),\n",
              " (7873200, 0.6243777),\n",
              " (8174694, 0.62429637),\n",
              " (7626109, 0.62423337),\n",
              " (7711462, 0.62422615),\n",
              " (7281662, 0.6240064),\n",
              " (7373521, 0.623754),\n",
              " (7115990, 0.6237253),\n",
              " (6844592, 0.6235268),\n",
              " (6877791, 0.6234469),\n",
              " (7230448, 0.6234363),\n",
              " (7081374, 0.62338847),\n",
              " (6938209, 0.62338495),\n",
              " (7535215, 0.62334716),\n",
              " (7059989, 0.6233258),\n",
              " (7362117, 0.6231621),\n",
              " (7534968, 0.62314254),\n",
              " (7383510, 0.6231009),\n",
              " (8154179, 0.62296784),\n",
              " (7440845, 0.62262994),\n",
              " (7716072, 0.6225355),\n",
              " (7406434, 0.6224629),\n",
              " (7132574, 0.6222572),\n",
              " (7724216, 0.622199),\n",
              " (7630155, 0.6221268),\n",
              " (7393100, 0.62205553),\n",
              " (7905323, 0.6219495),\n",
              " (7804530, 0.62188184),\n",
              " (7015549, 0.6218301),\n",
              " (6945368, 0.6217832),\n",
              " (7748511, 0.62177783),\n",
              " (6979916, 0.6217239),\n",
              " (7652386, 0.621646),\n",
              " (7263190, 0.6214423),\n",
              " (7073933, 0.6212684),\n",
              " (7898607, 0.6211187),\n",
              " (7433713, 0.6210128),\n",
              " (7207918, 0.6209153),\n",
              " (8316275, 0.6208778),\n",
              " (7357009, 0.6207767),\n",
              " (7149797, 0.6207617),\n",
              " (7261859, 0.62074554),\n",
              " (8326100, 0.6202676),\n",
              " (7052136, 0.61998624),\n",
              " (8277161, 0.6199685),\n",
              " (7084861, 0.61996514),\n",
              " (7236572, 0.61993057),\n",
              " (7104426, 0.6199299),\n",
              " (7340364, 0.61988103),\n",
              " (7960245, 0.6198738),\n",
              " (7216009, 0.61972064),\n",
              " (6978457, 0.6195893),\n",
              " (7227562, 0.619444),\n",
              " (7294208, 0.6194309),\n",
              " (8247233, 0.6193652),\n",
              " (7064272, 0.6193069),\n",
              " (7076126, 0.61920017),\n",
              " (7274174, 0.61917865),\n",
              " (6952253, 0.6189866),\n",
              " (7525150, 0.6189841),\n",
              " (7234144, 0.6188925),\n",
              " (7316534, 0.61880547),\n",
              " (6915254, 0.6186773),\n",
              " (7019650, 0.61837167),\n",
              " (7784687, 0.6183079),\n",
              " (7239198, 0.6181085),\n",
              " (7015894, 0.6180868),\n",
              " (7011664, 0.6178569),\n",
              " (7239481, 0.6177482),\n",
              " (7246395, 0.61772275),\n",
              " (7657907, 0.6177212),\n",
              " (8331128, 0.6175991),\n",
              " (7276858, 0.6174028),\n",
              " (7377100, 0.6171406),\n",
              " (6915112, 0.6170459),\n",
              " (7278966, 0.6168541),\n",
              " (8200649, 0.61679345),\n",
              " (7809625, 0.61667544),\n",
              " (7023569, 0.6166751),\n",
              " (7779399, 0.61656827),\n",
              " (7036498, 0.6162939),\n",
              " (7939350, 0.6162475),\n",
              " (6837910, 0.61623603),\n",
              " (7180862, 0.6162272),\n",
              " (7827125, 0.61594546),\n",
              " (7414010, 0.6159069),\n",
              " (8179692, 0.6157441),\n",
              " (7307989, 0.6156912),\n",
              " (7421178, 0.6156832),\n",
              " (7522155, 0.61567086),\n",
              " (7697077, 0.61552525),\n",
              " (7663427, 0.6154097),\n",
              " (7793071, 0.6153669),\n",
              " (7012362, 0.6153599),\n",
              " (7915838, 0.61490303),\n",
              " (7696722, 0.6148344),\n",
              " (7333287, 0.614834),\n",
              " (8104032, 0.6145338),\n",
              " (8302720, 0.6142445),\n",
              " (8126532, 0.6142019),\n",
              " (7792551, 0.6141763),\n",
              " (7510372, 0.61416864),\n",
              " (6899544, 0.61396515),\n",
              " (7367885, 0.6137667),\n",
              " (7491218, 0.61354613),\n",
              " (6900991, 0.61349756),\n",
              " (8267058, 0.613449),\n",
              " (7447873, 0.61327356),\n",
              " (7912269, 0.6132298),\n",
              " (7312530, 0.61309946),\n",
              " (7173863, 0.61280775),\n",
              " (7758120, 0.612679),\n",
              " (7202143, 0.61251634),\n",
              " (7602610, 0.6124716),\n",
              " (7545121, 0.6123088),\n",
              " (7184957, 0.6121824),\n",
              " (6843081, 0.61216795),\n",
              " (8057788, 0.61208886),\n",
              " (7461262, 0.6119978),\n",
              " (7413331, 0.61193496),\n",
              " (7126525, 0.61188984),\n",
              " (7725331, 0.61185426),\n",
              " (6972295, 0.6117422),\n",
              " (7359289, 0.61159873),\n",
              " (8134851, 0.61153215),\n",
              " (7043492, 0.61147237),\n",
              " (8139304, 0.6113912),\n",
              " (7484925, 0.61129725),\n",
              " (7996956, 0.6112119),\n",
              " (7523001, 0.61110055),\n",
              " (8235746, 0.6110873),\n",
              " (6954623, 0.61099726),\n",
              " (7602568, 0.6109325),\n",
              " (7772867, 0.6108453),\n",
              " (6973697, 0.61069715),\n",
              " (7960872, 0.6106612),\n",
              " (8286789, 0.61055756),\n",
              " (7709073, 0.6104287),\n",
              " (6894703, 0.6103046),\n",
              " (7973284, 0.61018896),\n",
              " (7611497, 0.61006695),\n",
              " (7952688, 0.6100148),\n",
              " (6945210, 0.6100023),\n",
              " (8186508, 0.60995203),\n",
              " (7738746, 0.60992795),\n",
              " (6991846, 0.60977924),\n",
              " (7286245, 0.6097137),\n",
              " (7011487, 0.6095591),\n",
              " (8073951, 0.6093968),\n",
              " (7117172, 0.60932916),\n",
              " (6985036, 0.6092802),\n",
              " (7097507, 0.6090859),\n",
              " (8008739, 0.60902184),\n",
              " (8118848, 0.6090174),\n",
              " (7810880, 0.6089786),\n",
              " (7499273, 0.60885143),\n",
              " (7721680, 0.6088001),\n",
              " (7182148, 0.6084661),\n",
              " (7957047, 0.60839957),\n",
              " (8208549, 0.60827816),\n",
              " (8143112, 0.6082608),\n",
              " (6885242, 0.60823244),\n",
              " (7279031, 0.608229),\n",
              " (8011474, 0.60821724),\n",
              " (7244937, 0.608184),\n",
              " (7325314, 0.60815257),\n",
              " (7685191, 0.6078417),\n",
              " (7343234, 0.6077047),\n",
              " (8047391, 0.60749537),\n",
              " (8138620, 0.60743356),\n",
              " (8023446, 0.6072846),\n",
              " (7126069, 0.60710055),\n",
              " (7843942, 0.60703135),\n",
              " (8151594, 0.60702497),\n",
              " (7198425, 0.60698617),\n",
              " (7861458, 0.6069669),\n",
              " (6951573, 0.6068754),\n",
              " (7740371, 0.6067284),\n",
              " (7697033, 0.60667354),\n",
              " (7956043, 0.60635567),\n",
              " (6841421, 0.60630983),\n",
              " (7956613, 0.60621524),\n",
              " (7519970, 0.6060942),\n",
              " (7392421, 0.60595536),\n",
              " (7430731, 0.60594743),\n",
              " (7431889, 0.60587037),\n",
              " (7736019, 0.6058434),\n",
              " (7839139, 0.60582703),\n",
              " (7585034, 0.6057914),\n",
              " (6914656, 0.6057052),\n",
              " (7293934, 0.60549116),\n",
              " (8006223, 0.6052391),\n",
              " (7242388, 0.60519946),\n",
              " (7196518, 0.6051383),\n",
              " (7681156, 0.60511714),\n",
              " (6856023, 0.6050904),\n",
              " (6923734, 0.6050579),\n",
              " (7222918, 0.6050519),\n",
              " (7985505, 0.60503054),\n",
              " (7560677, 0.6050253),\n",
              " (7291955, 0.60499233),\n",
              " (7222462, 0.60485226),\n",
              " (7383381, 0.604769),\n",
              " (7221044, 0.6046738),\n",
              " (6991262, 0.6046685),\n",
              " (7640556, 0.60461867),\n",
              " (7432055, 0.6045818),\n",
              " (7178202, 0.6045519),\n",
              " (7877940, 0.6044559),\n",
              " (8261950, 0.60435295),\n",
              " (7716249, 0.60433495),\n",
              " (6884398, 0.6042481),\n",
              " (7860680, 0.6040844),\n",
              " (7111234, 0.60395175),\n",
              " (7488249, 0.6038465),\n",
              " (7096481, 0.60384494),\n",
              " (6889116, 0.60379297),\n",
              " (7451877, 0.6036117),\n",
              " (8001404, 0.6035452),\n",
              " (7996255, 0.60352737),\n",
              " (8072220, 0.60350466),\n",
              " (7111136, 0.603392),\n",
              " (7829778, 0.6033575),\n",
              " (6847057, 0.60321045),\n",
              " (7463816, 0.603165),\n",
              " (7564971, 0.6031542),\n",
              " (7885863, 0.6031208),\n",
              " (8199244, 0.6030822),\n",
              " (8055606, 0.6029261),\n",
              " (6928436, 0.60272837),\n",
              " (6868681, 0.6026984),\n",
              " (7769232, 0.6026023),\n",
              " (7343341, 0.60255456),\n",
              " (7093502, 0.60253185),\n",
              " (7435059, 0.6025239),\n",
              " (7437765, 0.6024904),\n",
              " (8104137, 0.60243016),\n",
              " (7724051, 0.60242033),\n",
              " (7438346, 0.60229224),\n",
              " (7418729, 0.60214424),\n",
              " (7830408, 0.6021168),\n",
              " (7083610, 0.602015),\n",
              " (7122517, 0.60186803),\n",
              " (7272575, 0.60183877),\n",
              " (7707714, 0.6018235),\n",
              " (6975609, 0.6018109),\n",
              " (7513740, 0.6017352),\n",
              " (7454976, 0.6017021),\n",
              " (6986103, 0.6016231),\n",
              " (7261491, 0.6015511),\n",
              " (7329164, 0.60151803),\n",
              " (7219260, 0.6014141),\n",
              " (8047234, 0.6013113),\n",
              " (7220569, 0.6012091),\n",
              " (7143114, 0.6011536),\n",
              " (6870916, 0.6011446),\n",
              " (7387413, 0.6010961),\n",
              " (7668832, 0.60103434),\n",
              " (7143589, 0.6009555),\n",
              " (7027732, 0.6009077),\n",
              " (7831983, 0.6008713),\n",
              " (7684422, 0.6005943),\n",
              " (7687700, 0.6005477),\n",
              " (7115390, 0.6003738),\n",
              " (7891549, 0.6002914),\n",
              " (7311630, 0.6002586),\n",
              " (7453937, 0.60021824),\n",
              " (8214829, 0.60018593),\n",
              " (7853333, 0.5999517),\n",
              " (7419659, 0.5999018),\n",
              " (8192272, 0.5998191),\n",
              " (7022662, 0.5997625),\n",
              " (6944880, 0.5997135),\n",
              " (8035787, 0.599618),\n",
              " (8064198, 0.5994675),\n",
              " (7505290, 0.5994667),\n",
              " ...]"
            ]
          },
          "metadata": {
            "tags": []
          },
          "execution_count": 192
        }
      ]
    },
    {
      "metadata": {
        "id": "ysP6K6KTZfAZ",
        "colab_type": "code",
        "outputId": "6aaafe50-52a8-4aba-c210-716d91a537e6",
        "colab": {
          "base_uri": "https://localhost:8080/",
          "height": 35
        }
      },
      "cell_type": "code",
      "source": [
        "get_cited_grants(citations_info_target, 14307191)"
      ],
      "execution_count": 0,
      "outputs": [
        {
          "output_type": "execute_result",
          "data": {
            "text/plain": [
              "{7576688}"
            ]
          },
          "metadata": {
            "tags": []
          },
          "execution_count": 177
        }
      ]
    },
    {
      "metadata": {
        "id": "t1okQmSKaaQg",
        "colab_type": "code",
        "outputId": "ff05dc00-26c4-477a-a07e-4960d0dc09d7",
        "colab": {
          "base_uri": "https://localhost:8080/",
          "height": 35
        }
      },
      "cell_type": "code",
      "source": [
        "sim_dict_by_extracted[14307191][7576688]"
      ],
      "execution_count": 0,
      "outputs": [
        {
          "output_type": "execute_result",
          "data": {
            "text/plain": [
              "0.5689387"
            ]
          },
          "metadata": {
            "tags": []
          },
          "execution_count": 193
        }
      ]
    },
    {
      "metadata": {
        "id": "8ukXn2JJbVKM",
        "colab_type": "code",
        "outputId": "667fef13-b114-412e-d1d2-30af5a8ec0cc",
        "colab": {
          "base_uri": "https://localhost:8080/",
          "height": 124
        }
      },
      "cell_type": "code",
      "source": [
        "grants_extracted_features_df['parsed'].head()"
      ],
      "execution_count": 0,
      "outputs": [
        {
          "output_type": "execute_result",
          "data": {
            "text/plain": [
              "0    6837383\n",
              "1    6837647\n",
              "2    6837799\n",
              "3    6837893\n",
              "4    6837910\n",
              "Name: parsed, dtype: int64"
            ]
          },
          "metadata": {
            "tags": []
          },
          "execution_count": 199
        }
      ]
    },
    {
      "metadata": {
        "id": "Re8eghH1bU6T",
        "colab_type": "code",
        "outputId": "636b1138-dfa6-47df-fc47-cceede1c9ac8",
        "colab": {
          "base_uri": "https://localhost:8080/",
          "height": 35
        }
      },
      "cell_type": "code",
      "source": [
        "grants_extracted_features_df[grants_extracted_features_df['parsed']==7576688].index[0]"
      ],
      "execution_count": 0,
      "outputs": [
        {
          "output_type": "execute_result",
          "data": {
            "text/plain": [
              "1533"
            ]
          },
          "metadata": {
            "tags": []
          },
          "execution_count": 203
        }
      ]
    },
    {
      "metadata": {
        "id": "eZWWKEqpenNG",
        "colab_type": "code",
        "colab": {}
      },
      "cell_type": "code",
      "source": [
        "norm_p_out3 = grants_extracted_features_df['extracted_feature'][1533]"
      ],
      "execution_count": 0,
      "outputs": []
    },
    {
      "metadata": {
        "id": "86WhXSq2exXp",
        "colab_type": "code",
        "outputId": "d0186e75-5030-48e3-d6a8-60aff0e9d4ac",
        "colab": {
          "base_uri": "https://localhost:8080/",
          "height": 35
        }
      },
      "cell_type": "code",
      "source": [
        "sum(norm_p_out3.shape)"
      ],
      "execution_count": 0,
      "outputs": [
        {
          "output_type": "execute_result",
          "data": {
            "text/plain": [
              "100"
            ]
          },
          "metadata": {
            "tags": []
          },
          "execution_count": 206
        }
      ]
    },
    {
      "metadata": {
        "id": "vFESr6_re6Py",
        "colab_type": "code",
        "outputId": "2b0f6010-60e8-460e-c09d-1fc100d3a458",
        "colab": {
          "base_uri": "https://localhost:8080/",
          "height": 35
        }
      },
      "cell_type": "code",
      "source": [
        "test_extracted_features_df[test_extracted_features_df['app_id'] == 14307191].index[0]"
      ],
      "execution_count": 0,
      "outputs": [
        {
          "output_type": "execute_result",
          "data": {
            "text/plain": [
              "890"
            ]
          },
          "metadata": {
            "tags": []
          },
          "execution_count": 207
        }
      ]
    },
    {
      "metadata": {
        "id": "_rbbYkBoe6AB",
        "colab_type": "code",
        "outputId": "45ac5634-f564-4bf5-96d5-9fb37a1dc2bc",
        "colab": {
          "base_uri": "https://localhost:8080/",
          "height": 35
        }
      },
      "cell_type": "code",
      "source": [
        "norm_a_out3 = test_extracted_features_df['extracted_feature'][890]\n",
        "norm_a_out3.shape"
      ],
      "execution_count": 0,
      "outputs": [
        {
          "output_type": "execute_result",
          "data": {
            "text/plain": [
              "(100,)"
            ]
          },
          "metadata": {
            "tags": []
          },
          "execution_count": 208
        }
      ]
    },
    {
      "metadata": {
        "id": "WnsrLeoVa_PS",
        "colab_type": "code",
        "outputId": "c0eeb266-6bd3-4f21-efa8-1fe202dbe7d2",
        "colab": {
          "base_uri": "https://localhost:8080/",
          "height": 35
        }
      },
      "cell_type": "code",
      "source": [
        "tf.losses.cosine_distance(norm_a_out3, norm_p_out3, axis=0) "
      ],
      "execution_count": 0,
      "outputs": [
        {
          "output_type": "execute_result",
          "data": {
            "text/plain": [
              "<tf.Tensor: id=9827739, shape=(), dtype=float32, numpy=0.4310614>"
            ]
          },
          "metadata": {
            "tags": []
          },
          "execution_count": 210
        }
      ]
    },
    {
      "metadata": {
        "id": "HaUB02IofZUj",
        "colab_type": "code",
        "outputId": "eb4d09b7-c934-422c-a3de-dd943cfbf248",
        "colab": {
          "base_uri": "https://localhost:8080/",
          "height": 35
        }
      },
      "cell_type": "code",
      "source": [
        "0.5689387+tf.losses.cosine_distance(norm_a_out3, norm_p_out3, axis=0)"
      ],
      "execution_count": 0,
      "outputs": [
        {
          "output_type": "execute_result",
          "data": {
            "text/plain": [
              "<tf.Tensor: id=9827768, shape=(), dtype=float32, numpy=1.0>"
            ]
          },
          "metadata": {
            "tags": []
          },
          "execution_count": 211
        }
      ]
    },
    {
      "metadata": {
        "id": "QRtr9hLQa_An",
        "colab_type": "code",
        "colab": {}
      },
      "cell_type": "code",
      "source": [
        ""
      ],
      "execution_count": 0,
      "outputs": []
    },
    {
      "metadata": {
        "id": "WEBXzoFwaaCz",
        "colab_type": "code",
        "outputId": "f1d4ba71-aa58-484f-a984-02c04faccf55",
        "colab": {
          "base_uri": "https://localhost:8080/",
          "height": 35
        }
      },
      "cell_type": "code",
      "source": [
        "grants_extracted_features[0].sum()"
      ],
      "execution_count": 0,
      "outputs": [
        {
          "output_type": "execute_result",
          "data": {
            "text/plain": [
              "7.989149"
            ]
          },
          "metadata": {
            "tags": []
          },
          "execution_count": 180
        }
      ]
    }
  ]
}