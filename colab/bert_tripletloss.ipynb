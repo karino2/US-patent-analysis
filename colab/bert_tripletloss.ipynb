{
  "nbformat": 4,
  "nbformat_minor": 0,
  "metadata": {
    "colab": {
      "name": "bert-tripletloss.ipynb",
      "version": "0.3.2",
      "provenance": [],
      "collapsed_sections": [],
      "toc_visible": true,
      "include_colab_link": true
    },
    "kernelspec": {
      "name": "python3",
      "display_name": "Python 3"
    },
    "accelerator": "TPU"
  },
  "cells": [
    {
      "cell_type": "markdown",
      "metadata": {
        "id": "view-in-github",
        "colab_type": "text"
      },
      "source": [
        "<a href=\"https://colab.research.google.com/github/karino2/US-patent-analysis/blob/triplet_loss_work/colab/bert_tripletloss.ipynb\" target=\"_parent\"><img src=\"https://colab.research.google.com/assets/colab-badge.svg\" alt=\"Open In Colab\"/></a>"
      ]
    },
    {
      "metadata": {
        "id": "rQph610BeO4I",
        "colab_type": "text"
      },
      "cell_type": "markdown",
      "source": [
        "**Colab porting of triplet loss trial for bert feature**"
      ]
    },
    {
      "metadata": {
        "id": "3Cv0EJiZ8vi6",
        "colab_type": "code",
        "colab": {}
      },
      "cell_type": "code",
      "source": [
        "import os\n",
        "import datetime\n",
        "import pickle\n",
        "import gzip\n",
        "import pandas as pd\n",
        "import numpy as np\n",
        "\n",
        "import tensorflow as tf\n",
        "\n",
        "tf.enable_eager_execution()"
      ],
      "execution_count": 0,
      "outputs": []
    },
    {
      "metadata": {
        "id": "R3AyT0Fq8yzD",
        "colab_type": "code",
        "colab": {
          "base_uri": "https://localhost:8080/",
          "height": 35
        },
        "outputId": "e4c70860-d020-4a23-f51a-85fed7e1484d"
      },
      "cell_type": "code",
      "source": [
        "tf.__version__"
      ],
      "execution_count": 4,
      "outputs": [
        {
          "output_type": "execute_result",
          "data": {
            "text/plain": [
              "'1.13.1'"
            ]
          },
          "metadata": {
            "tags": []
          },
          "execution_count": 4
        }
      ]
    },
    {
      "metadata": {
        "id": "3cM2dZ__NPt1",
        "colab_type": "code",
        "colab": {
          "base_uri": "https://localhost:8080/",
          "height": 106
        },
        "outputId": "18d7dd45-87cb-4a22-9d15-e1459dd81893"
      },
      "cell_type": "code",
      "source": [
        "!git clone -b docker https://github.com/yoheikikuta/bert.git"
      ],
      "execution_count": 5,
      "outputs": [
        {
          "output_type": "stream",
          "text": [
            "Cloning into 'bert'...\n",
            "remote: Enumerating objects: 269, done.\u001b[K\n",
            "remote: Total 269 (delta 0), reused 0 (delta 0), pack-reused 269\u001b[K\n",
            "Receiving objects: 100% (269/269), 220.79 KiB | 2.90 MiB/s, done.\n",
            "Resolving deltas: 100% (144/144), done.\n"
          ],
          "name": "stdout"
        }
      ]
    },
    {
      "metadata": {
        "id": "eg8r8ARt89w3",
        "colab_type": "code",
        "colab": {
          "base_uri": "https://localhost:8080/",
          "height": 35
        },
        "outputId": "f810934f-493e-4257-8f7e-b0b4583867c7"
      },
      "cell_type": "code",
      "source": [
        "!ls"
      ],
      "execution_count": 6,
      "outputs": [
        {
          "output_type": "stream",
          "text": [
            "bert  sample_data\n"
          ],
          "name": "stdout"
        }
      ]
    },
    {
      "metadata": {
        "id": "zgPiQOJRMgxt",
        "colab_type": "text"
      },
      "cell_type": "markdown",
      "source": [
        "# Data setup\n",
        "\n",
        "Feature data is created at bert-extract-feature.ipynb."
      ]
    },
    {
      "metadata": {
        "id": "XG9_uLXKMf2t",
        "colab_type": "code",
        "colab": {}
      },
      "cell_type": "code",
      "source": [
        "!mkdir ./bert/data"
      ],
      "execution_count": 0,
      "outputs": []
    },
    {
      "metadata": {
        "id": "j-n-oE9aNPs6",
        "colab_type": "code",
        "colab": {
          "base_uri": "https://localhost:8080/",
          "height": 141
        },
        "outputId": "30fcc733-4247-4c20-dde9-3781b950a56a"
      },
      "cell_type": "code",
      "source": [
        "from google.colab import auth\n",
        "auth.authenticate_user()"
      ],
      "execution_count": 8,
      "outputs": [
        {
          "output_type": "stream",
          "text": [
            "\n",
            "WARNING: The TensorFlow contrib module will not be included in TensorFlow 2.0.\n",
            "For more information, please see:\n",
            "  * https://github.com/tensorflow/community/blob/master/rfcs/20180907-contrib-sunset.md\n",
            "  * https://github.com/tensorflow/addons\n",
            "If you depend on functionality not listed there, please file an issue.\n",
            "\n"
          ],
          "name": "stdout"
        }
      ]
    },
    {
      "metadata": {
        "id": "2vbfUR8mqm8o",
        "colab_type": "code",
        "colab": {
          "base_uri": "https://localhost:8080/",
          "height": 177
        },
        "outputId": "552e6653-c583-4d6e-e48f-f1352f041052"
      },
      "cell_type": "code",
      "source": [
        "!gsutil cp gs://karino2-uspatent/features/training_app_1000_features.pkl.gz bert/data/training_app_1000_features.pkl.gz\n",
        "!gsutil cp gs://karino2-uspatent/features/test_app_1000_features.pkl.gz bert/data/test_app_1000_features.pkl.gz\n",
        "!gsutil cp gs://karino2-uspatent/features/grants_2000_features.pkl.gz bert/data/grants_2000_features.pkl.gz"
      ],
      "execution_count": 9,
      "outputs": [
        {
          "output_type": "stream",
          "text": [
            "Copying gs://karino2-uspatent/features/training_app_1000_features.pkl.gz...\n",
            "/ [0 files][    0.0 B/  3.1 MiB]                                                \r/ [1 files][  3.1 MiB/  3.1 MiB]                                                \r\n",
            "Operation completed over 1 objects/3.1 MiB.                                      \n",
            "Copying gs://karino2-uspatent/features/test_app_1000_features.pkl.gz...\n",
            "/ [1 files][  3.1 MiB/  3.1 MiB]                                                \n",
            "Operation completed over 1 objects/3.1 MiB.                                      \n",
            "Copying gs://karino2-uspatent/features/grants_2000_features.pkl.gz...\n",
            "/ [1 files][  7.9 MiB/  7.9 MiB]                                                \n",
            "Operation completed over 1 objects/7.9 MiB.                                      \n"
          ],
          "name": "stdout"
        }
      ]
    },
    {
      "metadata": {
        "id": "FYZa2YP2q9bk",
        "colab_type": "code",
        "colab": {
          "base_uri": "https://localhost:8080/",
          "height": 35
        },
        "outputId": "a3582204-6ae9-489f-9617-74236e05d1a0"
      },
      "cell_type": "code",
      "source": [
        "with gzip.open(\"./bert/data/training_app_1000_features.pkl.gz\", 'rb') as f:\n",
        "     train_features = pickle.load(f)\n",
        "with gzip.open(\"./bert/data/test_app_1000_features.pkl.gz\", 'rb') as f:\n",
        "     test_features = pickle.load(f)\n",
        "with gzip.open(\"./bert/data/grants_2000_features.pkl.gz\", 'rb') as f:\n",
        "     grants_features = pickle.load(f)\n",
        "print(f\"{train_features.shape}, {test_features.shape}, {grants_features.shape}\")"
      ],
      "execution_count": 10,
      "outputs": [
        {
          "output_type": "stream",
          "text": [
            "(1000, 768), (1000, 768), (2524, 768)\n"
          ],
          "name": "stdout"
        }
      ]
    },
    {
      "metadata": {
        "id": "nN0LX7jKOAdi",
        "colab_type": "code",
        "colab": {}
      },
      "cell_type": "code",
      "source": [
        ""
      ],
      "execution_count": 0,
      "outputs": []
    },
    {
      "metadata": {
        "id": "8vJgj4gZN_-_",
        "colab_type": "code",
        "colab": {
          "base_uri": "https://localhost:8080/",
          "height": 230
        },
        "outputId": "8b465614-2a63-4ee8-d6d3-373eeed85419"
      },
      "cell_type": "code",
      "source": [
        "!gsutil cp gs://karino2-uspatent/citations_info_2000.df.gz ./bert/data/\n",
        "!gsutil cp gs://karino2-uspatent/testset_app_1000.df.gz ./bert/data/\n",
        "!gsutil cp gs://karino2-uspatent/training_app_1000.df.gz ./bert/data/\n",
        "!gsutil cp gs://karino2-uspatent/grants_for_2000.df.gz ./bert/data/"
      ],
      "execution_count": 11,
      "outputs": [
        {
          "output_type": "stream",
          "text": [
            "Copying gs://karino2-uspatent/citations_info_2000.df.gz...\n",
            "/ [0 files][    0.0 B/234.3 KiB]                                                \r/ [1 files][234.3 KiB/234.3 KiB]                                                \r\n",
            "Operation completed over 1 objects/234.3 KiB.                                    \n",
            "Copying gs://karino2-uspatent/testset_app_1000.df.gz...\n",
            "- [1 files][ 13.4 MiB/ 13.4 MiB]                                                \n",
            "Operation completed over 1 objects/13.4 MiB.                                     \n",
            "Copying gs://karino2-uspatent/training_app_1000.df.gz...\n",
            "/ [1 files][ 14.2 MiB/ 14.2 MiB]                                                \n",
            "Operation completed over 1 objects/14.2 MiB.                                     \n",
            "Copying gs://karino2-uspatent/grants_for_2000.df.gz...\n",
            "-\n",
            "Operation completed over 1 objects/44.6 MiB.                                     \n"
          ],
          "name": "stdout"
        }
      ]
    },
    {
      "metadata": {
        "id": "CJC9Q6MjOHZN",
        "colab_type": "code",
        "colab": {}
      },
      "cell_type": "code",
      "source": [
        "citations_info_target = pd.read_pickle(\"./bert/data/citations_info_2000.df.gz\")\n",
        "train_app_df = pd.read_pickle(\"./bert/data/training_app_1000.df.gz\")\n",
        "test_app_df = pd.read_pickle(\"./bert/data/testset_app_1000.df.gz\")\n",
        "grants_target_df = pd.read_pickle(\"./bert/data/grants_for_2000.df.gz\")"
      ],
      "execution_count": 0,
      "outputs": []
    },
    {
      "metadata": {
        "id": "dWFm5-TmsBt3",
        "colab_type": "text"
      },
      "cell_type": "markdown",
      "source": [
        "### Prepare data for circulum tripletloss learning"
      ]
    },
    {
      "metadata": {
        "id": "7A_eiPUgsP05",
        "colab_type": "code",
        "colab": {}
      },
      "cell_type": "code",
      "source": [
        "import random\n",
        "import pandas as pd\n",
        "import numpy as np\n",
        "import pickle\n",
        "from collections import OrderedDict"
      ],
      "execution_count": 0,
      "outputs": []
    },
    {
      "metadata": {
        "id": "GLTW2aeSsbsx",
        "colab_type": "code",
        "colab": {}
      },
      "cell_type": "code",
      "source": [
        "train_normalized_feature_dict_1000 = { \n",
        "    k:v/np.linalg.norm(v) for k,v in zip(train_app_df['app_id'], train_features[:, ])\n",
        "}\n",
        "grants_normalized_feature_dict_2000 = { \n",
        "    k:v/np.linalg.norm(v) for k,v in zip(grants_target_df['parsed'], grants_features[:, ])\n",
        "}"
      ],
      "execution_count": 0,
      "outputs": []
    },
    {
      "metadata": {
        "id": "hndwiFKDvOhG",
        "colab_type": "code",
        "colab": {}
      },
      "cell_type": "code",
      "source": [
        ""
      ],
      "execution_count": 0,
      "outputs": []
    },
    {
      "metadata": {
        "id": "_Ar_cx8vvzHu",
        "colab_type": "text"
      },
      "cell_type": "markdown",
      "source": [
        "Confirm result"
      ]
    },
    {
      "metadata": {
        "id": "tU_I9QY0s3vP",
        "colab_type": "code",
        "colab": {
          "base_uri": "https://localhost:8080/",
          "height": 204
        },
        "outputId": "569c7de6-b3b8-4ada-f97a-975263e0234d"
      },
      "cell_type": "code",
      "source": [
        "train_app_df.head()"
      ],
      "execution_count": 19,
      "outputs": [
        {
          "output_type": "execute_result",
          "data": {
            "text/html": [
              "<div>\n",
              "<style scoped>\n",
              "    .dataframe tbody tr th:only-of-type {\n",
              "        vertical-align: middle;\n",
              "    }\n",
              "\n",
              "    .dataframe tbody tr th {\n",
              "        vertical-align: top;\n",
              "    }\n",
              "\n",
              "    .dataframe thead th {\n",
              "        text-align: right;\n",
              "    }\n",
              "</style>\n",
              "<table border=\"1\" class=\"dataframe\">\n",
              "  <thead>\n",
              "    <tr style=\"text-align: right;\">\n",
              "      <th></th>\n",
              "      <th>app_id</th>\n",
              "      <th>xml</th>\n",
              "    </tr>\n",
              "  </thead>\n",
              "  <tbody>\n",
              "    <tr>\n",
              "      <th>0</th>\n",
              "      <td>14222691</td>\n",
              "      <td>&lt;us-patent-application lang=\"EN\" dtd-version=\"...</td>\n",
              "    </tr>\n",
              "    <tr>\n",
              "      <th>1</th>\n",
              "      <td>12515852</td>\n",
              "      <td>&lt;us-patent-application lang=\"EN\" dtd-version=\"...</td>\n",
              "    </tr>\n",
              "    <tr>\n",
              "      <th>2</th>\n",
              "      <td>12033424</td>\n",
              "      <td>&lt;us-patent-application lang=\"EN\" dtd-version=\"...</td>\n",
              "    </tr>\n",
              "    <tr>\n",
              "      <th>3</th>\n",
              "      <td>12402344</td>\n",
              "      <td>&lt;us-patent-application lang=\"EN\" dtd-version=\"...</td>\n",
              "    </tr>\n",
              "    <tr>\n",
              "      <th>4</th>\n",
              "      <td>12155425</td>\n",
              "      <td>&lt;us-patent-application lang=\"EN\" dtd-version=\"...</td>\n",
              "    </tr>\n",
              "  </tbody>\n",
              "</table>\n",
              "</div>"
            ],
            "text/plain": [
              "     app_id                                                xml\n",
              "0  14222691  <us-patent-application lang=\"EN\" dtd-version=\"...\n",
              "1  12515852  <us-patent-application lang=\"EN\" dtd-version=\"...\n",
              "2  12033424  <us-patent-application lang=\"EN\" dtd-version=\"...\n",
              "3  12402344  <us-patent-application lang=\"EN\" dtd-version=\"...\n",
              "4  12155425  <us-patent-application lang=\"EN\" dtd-version=\"..."
            ]
          },
          "metadata": {
            "tags": []
          },
          "execution_count": 19
        }
      ]
    },
    {
      "metadata": {
        "id": "Y2SMA-IzsbXL",
        "colab_type": "code",
        "colab": {
          "base_uri": "https://localhost:8080/",
          "height": 35
        },
        "outputId": "b161f7d2-63df-4740-8e81-9ea36b618e0c"
      },
      "cell_type": "code",
      "source": [
        "train_normalized_feature_dict_1000[14222691][0:5]"
      ],
      "execution_count": 25,
      "outputs": [
        {
          "output_type": "execute_result",
          "data": {
            "text/plain": [
              "array([-0.05969358,  0.05039638, -0.0200557 ,  0.04519269, -0.01494433])"
            ]
          },
          "metadata": {
            "tags": []
          },
          "execution_count": 25
        }
      ]
    },
    {
      "metadata": {
        "id": "eyu9BWGbsbLU",
        "colab_type": "code",
        "colab": {
          "base_uri": "https://localhost:8080/",
          "height": 35
        },
        "outputId": "c2841e0a-43f3-485b-cbd3-afddc1c876a1"
      },
      "cell_type": "code",
      "source": [
        "train_features[0, 0:5]"
      ],
      "execution_count": 26,
      "outputs": [
        {
          "output_type": "execute_result",
          "data": {
            "text/plain": [
              "array([-1.04389739,  0.88131171, -0.35072595,  0.79031169, -0.26134047])"
            ]
          },
          "metadata": {
            "tags": []
          },
          "execution_count": 26
        }
      ]
    },
    {
      "metadata": {
        "id": "xXSIuCVssPms",
        "colab_type": "code",
        "colab": {
          "base_uri": "https://localhost:8080/",
          "height": 35
        },
        "outputId": "84978671-a38d-4243-c11e-6f6f8c0e4433"
      },
      "cell_type": "code",
      "source": [
        "(train_features[0, ]/np.linalg.norm(train_features[0, ]))[0:5]"
      ],
      "execution_count": 28,
      "outputs": [
        {
          "output_type": "execute_result",
          "data": {
            "text/plain": [
              "array([-0.05969358,  0.05039638, -0.0200557 ,  0.04519269, -0.01494433])"
            ]
          },
          "metadata": {
            "tags": []
          },
          "execution_count": 28
        }
      ]
    },
    {
      "metadata": {
        "id": "mIsny0ywuvls",
        "colab_type": "code",
        "colab": {}
      },
      "cell_type": "code",
      "source": [
        ""
      ],
      "execution_count": 0,
      "outputs": []
    },
    {
      "metadata": {
        "id": "c0AeEoEuv5fa",
        "colab_type": "text"
      },
      "cell_type": "markdown",
      "source": [
        "### Calculate cosin similarity for whole pair"
      ]
    },
    {
      "metadata": {
        "id": "eEZLegMiuvXV",
        "colab_type": "code",
        "colab": {
          "base_uri": "https://localhost:8080/",
          "height": 53
        },
        "outputId": "df9fc26f-44ee-4f98-a38e-43309736e821"
      },
      "cell_type": "code",
      "source": [
        "%%time\n",
        "\n",
        "sim_dict = {\n",
        "    app_id:{ parsed:np.sum(train_normalized_feature_dict_1000[app_id]*grants_normalized_feature_dict_2000[parsed])\n",
        "            for parsed \n",
        "            in grants_target_df['parsed'] } \n",
        "    for app_id \n",
        "    in train_app_df['app_id']\n",
        "}"
      ],
      "execution_count": 15,
      "outputs": [
        {
          "output_type": "stream",
          "text": [
            "CPU times: user 13.7 s, sys: 181 ms, total: 13.8 s\n",
            "Wall time: 13.8 s\n"
          ],
          "name": "stdout"
        }
      ]
    },
    {
      "metadata": {
        "id": "yIbbfsumyKvk",
        "colab_type": "text"
      },
      "cell_type": "markdown",
      "source": [
        "check result"
      ]
    },
    {
      "metadata": {
        "id": "H3bnxJ05ujXR",
        "colab_type": "code",
        "colab": {
          "base_uri": "https://localhost:8080/",
          "height": 35
        },
        "outputId": "113f5eaa-ef91-4c07-e921-63d3d0d30b37"
      },
      "cell_type": "code",
      "source": [
        "list(sim_dict.keys())[0]"
      ],
      "execution_count": 32,
      "outputs": [
        {
          "output_type": "execute_result",
          "data": {
            "text/plain": [
              "14222691"
            ]
          },
          "metadata": {
            "tags": []
          },
          "execution_count": 32
        }
      ]
    },
    {
      "metadata": {
        "id": "uW68YsdVujKt",
        "colab_type": "code",
        "colab": {
          "base_uri": "https://localhost:8080/",
          "height": 106
        },
        "outputId": "1867179c-6deb-4928-f31c-242794d23303"
      },
      "cell_type": "code",
      "source": [
        "sorted( sim_dict[12411468].values(), reverse=True )[:5]"
      ],
      "execution_count": 46,
      "outputs": [
        {
          "output_type": "execute_result",
          "data": {
            "text/plain": [
              "[0.8536353801810572,\n",
              " 0.8500573288849081,\n",
              " 0.8478197928831097,\n",
              " 0.8464742417020769,\n",
              " 0.8457543474536907]"
            ]
          },
          "metadata": {
            "tags": []
          },
          "execution_count": 46
        }
      ]
    },
    {
      "metadata": {
        "id": "35ytFSXHui9X",
        "colab_type": "code",
        "colab": {
          "base_uri": "https://localhost:8080/",
          "height": 70
        },
        "outputId": "d21c3999-ade5-4908-f811-9f517e6230a2"
      },
      "cell_type": "code",
      "source": [
        "citations_info_target[citations_info_target.app_id == 12411468].parsed"
      ],
      "execution_count": 36,
      "outputs": [
        {
          "output_type": "execute_result",
          "data": {
            "text/plain": [
              "4089    7061154\n",
              "4090    7061154\n",
              "Name: parsed, dtype: int64"
            ]
          },
          "metadata": {
            "tags": []
          },
          "execution_count": 36
        }
      ]
    },
    {
      "metadata": {
        "id": "uGJxsb0VwsM1",
        "colab_type": "code",
        "colab": {
          "base_uri": "https://localhost:8080/",
          "height": 35
        },
        "outputId": "cdfc4391-5539-4b28-e60e-6555c8c884d9"
      },
      "cell_type": "code",
      "source": [
        "grants_target_df[grants_target_df.parsed == 7061154].index[0]"
      ],
      "execution_count": 44,
      "outputs": [
        {
          "output_type": "execute_result",
          "data": {
            "text/plain": [
              "540"
            ]
          },
          "metadata": {
            "tags": []
          },
          "execution_count": 44
        }
      ]
    },
    {
      "metadata": {
        "id": "AAfrzulcuivm",
        "colab_type": "code",
        "colab": {
          "base_uri": "https://localhost:8080/",
          "height": 35
        },
        "outputId": "f47a5612-adda-4f99-d324-2c6fdbdd1c2d"
      },
      "cell_type": "code",
      "source": [
        "list(sim_dict[12411468].values())[540]"
      ],
      "execution_count": 45,
      "outputs": [
        {
          "output_type": "execute_result",
          "data": {
            "text/plain": [
              "0.8435186037581648"
            ]
          },
          "metadata": {
            "tags": []
          },
          "execution_count": 45
        }
      ]
    },
    {
      "metadata": {
        "id": "CXwNegmAwrkY",
        "colab_type": "code",
        "colab": {
          "base_uri": "https://localhost:8080/",
          "height": 35
        },
        "outputId": "b97de8ac-17c0-4c7e-e2f4-355b7313c8ae"
      },
      "cell_type": "code",
      "source": [
        "sorted( sim_dict[12411468].values(), reverse=True ).index(0.8435186037581648)"
      ],
      "execution_count": 47,
      "outputs": [
        {
          "output_type": "execute_result",
          "data": {
            "text/plain": [
              "7"
            ]
          },
          "metadata": {
            "tags": []
          },
          "execution_count": 47
        }
      ]
    },
    {
      "metadata": {
        "id": "EfJ1xcBpyN7P",
        "colab_type": "code",
        "colab": {}
      },
      "cell_type": "code",
      "source": [
        ""
      ],
      "execution_count": 0,
      "outputs": []
    },
    {
      "metadata": {
        "id": "P4GO6YaGzHLz",
        "colab_type": "text"
      },
      "cell_type": "markdown",
      "source": [
        "### Create triplet"
      ]
    },
    {
      "metadata": {
        "id": "OpeKrCykyNt9",
        "colab_type": "code",
        "colab": {}
      },
      "cell_type": "code",
      "source": [
        "def sort_similarity_by_value(sim_dict, app_id):\n",
        "    '''\n",
        "    input:\n",
        "        sim_dict: similary dictionary\n",
        "        app_id: target application id\n",
        "    return:\n",
        "        [(parsed1, sim1), (parsed2, sim2), ...] sorted by similarities\n",
        "    '''\n",
        "    return [(parsed, sim_dict[app_id][parsed]) for parsed in sorted(sim_dict[app_id], key=sim_dict[app_id].get)]\n",
        "  \n",
        "  \n",
        "def get_cited_grants(citations_info_target, app_id):\n",
        "    '''\n",
        "    input:\n",
        "        citations_info_target: DataFrame of citation relationships\n",
        "        app_id: target application id\n",
        "    return:\n",
        "        {parsed1, parsed2, ...} that are cited to reject app_id\n",
        "    '''\n",
        "    return set(citations_info_target[citations_info_target['app_id'] == app_id]['parsed'])\n",
        "  \n",
        "def make_uncited_grants_for_app_id(sim_dict, citations_info_target, app_id, sidx, eidx, num, shuffle=True):\n",
        "    '''\n",
        "    input:\n",
        "        sim_dict: \n",
        "        citations_info_target:\n",
        "        app_id: target application id\n",
        "        sidx: start index to slice the sorted (parsed, sim) list\n",
        "        eidx: end index to slice the sorted (parsed, sim) list\n",
        "        num: number of grants that will be returned\n",
        "    return:\n",
        "        [parsed_1, parsed_2, ..., parsed_num] that are NOT cited to reject app_id\n",
        "    '''\n",
        "    sorted_grants_list = sort_similarity_by_value(sim_dict, app_id)\n",
        "    sorted_grants_list = sorted_grants_list[sidx:eidx]\n",
        "    if shuffle:\n",
        "        random.shuffle(sorted_grants_list)\n",
        "    \n",
        "    cited_grants = get_cited_grants(citations_info_target, app_id)\n",
        "    uncited_grants = []\n",
        "    \n",
        "    idx = 0\n",
        "    while len(uncited_grants) != num:\n",
        "        grant_id, _ = sorted_grants_list[idx]\n",
        "        if not grant_id in cited_grants:\n",
        "            uncited_grants.append(grant_id)\n",
        "        idx += 1\n",
        "    \n",
        "    return uncited_grants  "
      ],
      "execution_count": 0,
      "outputs": []
    },
    {
      "metadata": {
        "id": "bGzU19OxyNhR",
        "colab_type": "code",
        "colab": {
          "base_uri": "https://localhost:8080/",
          "height": 35
        },
        "outputId": "6a5f713e-d176-4f38-f320-36600ea6ddee"
      },
      "cell_type": "code",
      "source": [
        "random.seed(0)\n",
        "make_uncited_grants_for_app_id(sim_dict, citations_info_target, 12411468, 0, 100, 4)"
      ],
      "execution_count": 11,
      "outputs": [
        {
          "output_type": "execute_result",
          "data": {
            "text/plain": [
              "[7196326, 6979916, 6971650, 6899075]"
            ]
          },
          "metadata": {
            "tags": []
          },
          "execution_count": 11
        }
      ]
    },
    {
      "metadata": {
        "id": "ftq7k1HgwrVR",
        "colab_type": "code",
        "colab": {
          "base_uri": "https://localhost:8080/",
          "height": 35
        },
        "outputId": "2d4adb65-fc53-4c5a-eb46-3df11c7f823b"
      },
      "cell_type": "code",
      "source": [
        "random.seed(1)\n",
        "make_uncited_grants_for_app_id(sim_dict, citations_info_target, 12411468, 0, 100, 4)"
      ],
      "execution_count": 50,
      "outputs": [
        {
          "output_type": "execute_result",
          "data": {
            "text/plain": [
              "[7108673, 7846876, 7168415, 7052189]"
            ]
          },
          "metadata": {
            "tags": []
          },
          "execution_count": 50
        }
      ]
    },
    {
      "metadata": {
        "id": "VL5iodarrLOQ",
        "colab_type": "code",
        "colab": {}
      },
      "cell_type": "code",
      "source": [
        "NEGATIVE_SAMPLE_RATIO=1"
      ],
      "execution_count": 0,
      "outputs": []
    },
    {
      "metadata": {
        "id": "YEPiNKegzmvp",
        "colab_type": "code",
        "colab": {}
      },
      "cell_type": "code",
      "source": [
        "def create_triplet_pairs(sidx, eidx):\n",
        "    all_elems = []\n",
        "    \n",
        "    for app_id in train_app_df['app_id']:\n",
        "        cited_grants = get_cited_grants(citations_info_target, app_id)\n",
        "        num_cited_grants = len(cited_grants)\n",
        "        uncited_grants = make_uncited_grants_for_app_id(\n",
        "            sim_dict, citations_info_target, app_id, sidx, eidx, num_cited_grants*NEGATIVE_SAMPLE_RATIO)\n",
        "        \n",
        "        for idx, cited in enumerate(cited_grants):\n",
        "          for grants_idx in range(NEGATIVE_SAMPLE_RATIO):\n",
        "            all_elems.append([app_id, cited, uncited_grants[idx*NEGATIVE_SAMPLE_RATIO+grants_idx]])\n",
        "    \n",
        "    result_df = pd.DataFrame(all_elems)\n",
        "    result_df.columns = ['app_id', 'cited_grants', 'uncited_grants']\n",
        "    \n",
        "    return result_df"
      ],
      "execution_count": 0,
      "outputs": []
    },
    {
      "metadata": {
        "id": "1C89LGfRzmi_",
        "colab_type": "code",
        "colab": {}
      },
      "cell_type": "code",
      "source": [
        "random.seed(0)\n",
        "NEGATIVE_SAMPLE_RATIO=4\n",
        "test = create_triplet_pairs(0, 100)"
      ],
      "execution_count": 0,
      "outputs": []
    },
    {
      "metadata": {
        "id": "yU9Cdwr6zmWW",
        "colab_type": "code",
        "colab": {
          "base_uri": "https://localhost:8080/",
          "height": 360
        },
        "outputId": "d75e42a5-2405-411f-8682-26e6ebfc6487"
      },
      "cell_type": "code",
      "source": [
        "test.head(10)"
      ],
      "execution_count": 60,
      "outputs": [
        {
          "output_type": "execute_result",
          "data": {
            "text/html": [
              "<div>\n",
              "<style scoped>\n",
              "    .dataframe tbody tr th:only-of-type {\n",
              "        vertical-align: middle;\n",
              "    }\n",
              "\n",
              "    .dataframe tbody tr th {\n",
              "        vertical-align: top;\n",
              "    }\n",
              "\n",
              "    .dataframe thead th {\n",
              "        text-align: right;\n",
              "    }\n",
              "</style>\n",
              "<table border=\"1\" class=\"dataframe\">\n",
              "  <thead>\n",
              "    <tr style=\"text-align: right;\">\n",
              "      <th></th>\n",
              "      <th>app_id</th>\n",
              "      <th>cited_grants</th>\n",
              "      <th>uncited_grants</th>\n",
              "    </tr>\n",
              "  </thead>\n",
              "  <tbody>\n",
              "    <tr>\n",
              "      <th>0</th>\n",
              "      <td>14222691</td>\n",
              "      <td>8206188</td>\n",
              "      <td>7474966</td>\n",
              "    </tr>\n",
              "    <tr>\n",
              "      <th>1</th>\n",
              "      <td>14222691</td>\n",
              "      <td>8206188</td>\n",
              "      <td>6925385</td>\n",
              "    </tr>\n",
              "    <tr>\n",
              "      <th>2</th>\n",
              "      <td>14222691</td>\n",
              "      <td>8206188</td>\n",
              "      <td>7735351</td>\n",
              "    </tr>\n",
              "    <tr>\n",
              "      <th>3</th>\n",
              "      <td>14222691</td>\n",
              "      <td>8206188</td>\n",
              "      <td>7750029</td>\n",
              "    </tr>\n",
              "    <tr>\n",
              "      <th>4</th>\n",
              "      <td>14222691</td>\n",
              "      <td>8177561</td>\n",
              "      <td>7797096</td>\n",
              "    </tr>\n",
              "    <tr>\n",
              "      <th>5</th>\n",
              "      <td>14222691</td>\n",
              "      <td>8177561</td>\n",
              "      <td>7879828</td>\n",
              "    </tr>\n",
              "    <tr>\n",
              "      <th>6</th>\n",
              "      <td>14222691</td>\n",
              "      <td>8177561</td>\n",
              "      <td>7856913</td>\n",
              "    </tr>\n",
              "    <tr>\n",
              "      <th>7</th>\n",
              "      <td>14222691</td>\n",
              "      <td>8177561</td>\n",
              "      <td>7605249</td>\n",
              "    </tr>\n",
              "    <tr>\n",
              "      <th>8</th>\n",
              "      <td>14222691</td>\n",
              "      <td>8179692</td>\n",
              "      <td>7656129</td>\n",
              "    </tr>\n",
              "    <tr>\n",
              "      <th>9</th>\n",
              "      <td>14222691</td>\n",
              "      <td>8179692</td>\n",
              "      <td>7781650</td>\n",
              "    </tr>\n",
              "  </tbody>\n",
              "</table>\n",
              "</div>"
            ],
            "text/plain": [
              "     app_id  cited_grants  uncited_grants\n",
              "0  14222691       8206188         7474966\n",
              "1  14222691       8206188         6925385\n",
              "2  14222691       8206188         7735351\n",
              "3  14222691       8206188         7750029\n",
              "4  14222691       8177561         7797096\n",
              "5  14222691       8177561         7879828\n",
              "6  14222691       8177561         7856913\n",
              "7  14222691       8177561         7605249\n",
              "8  14222691       8179692         7656129\n",
              "9  14222691       8179692         7781650"
            ]
          },
          "metadata": {
            "tags": []
          },
          "execution_count": 60
        }
      ]
    },
    {
      "metadata": {
        "id": "DAGgdCfxsFd8",
        "colab_type": "code",
        "colab": {}
      },
      "cell_type": "code",
      "source": [
        "NEGATIVE_SAMPLE_RATIO=1"
      ],
      "execution_count": 0,
      "outputs": []
    },
    {
      "metadata": {
        "id": "3s9hVnI9zmJw",
        "colab_type": "code",
        "colab": {
          "base_uri": "https://localhost:8080/",
          "height": 35
        },
        "outputId": "061ab416-36f1-4656-e25a-d6a2debd5a1e"
      },
      "cell_type": "code",
      "source": [
        "len(test)"
      ],
      "execution_count": 55,
      "outputs": [
        {
          "output_type": "execute_result",
          "data": {
            "text/plain": [
              "1282"
            ]
          },
          "metadata": {
            "tags": []
          },
          "execution_count": 55
        }
      ]
    },
    {
      "metadata": {
        "id": "ynE27ArPz8Qi",
        "colab_type": "code",
        "colab": {}
      },
      "cell_type": "code",
      "source": [
        "random.seed(1)\n",
        "test = create_triplet_pairs(0, 100)"
      ],
      "execution_count": 0,
      "outputs": []
    },
    {
      "metadata": {
        "id": "Raov55VGz8DA",
        "colab_type": "code",
        "colab": {
          "base_uri": "https://localhost:8080/",
          "height": 111
        },
        "outputId": "738cfb06-33db-4ebe-d344-0299b35ecf8d"
      },
      "cell_type": "code",
      "source": [
        "test.head(2)"
      ],
      "execution_count": 57,
      "outputs": [
        {
          "output_type": "execute_result",
          "data": {
            "text/html": [
              "<div>\n",
              "<style scoped>\n",
              "    .dataframe tbody tr th:only-of-type {\n",
              "        vertical-align: middle;\n",
              "    }\n",
              "\n",
              "    .dataframe tbody tr th {\n",
              "        vertical-align: top;\n",
              "    }\n",
              "\n",
              "    .dataframe thead th {\n",
              "        text-align: right;\n",
              "    }\n",
              "</style>\n",
              "<table border=\"1\" class=\"dataframe\">\n",
              "  <thead>\n",
              "    <tr style=\"text-align: right;\">\n",
              "      <th></th>\n",
              "      <th>app_id</th>\n",
              "      <th>cited_grants</th>\n",
              "      <th>uncited_grants</th>\n",
              "    </tr>\n",
              "  </thead>\n",
              "  <tbody>\n",
              "    <tr>\n",
              "      <th>0</th>\n",
              "      <td>14222691</td>\n",
              "      <td>8206188</td>\n",
              "      <td>6977086</td>\n",
              "    </tr>\n",
              "    <tr>\n",
              "      <th>1</th>\n",
              "      <td>14222691</td>\n",
              "      <td>8177561</td>\n",
              "      <td>7252786</td>\n",
              "    </tr>\n",
              "  </tbody>\n",
              "</table>\n",
              "</div>"
            ],
            "text/plain": [
              "     app_id  cited_grants  uncited_grants\n",
              "0  14222691       8206188         6977086\n",
              "1  14222691       8177561         7252786"
            ]
          },
          "metadata": {
            "tags": []
          },
          "execution_count": 57
        }
      ]
    },
    {
      "metadata": {
        "id": "PqhWQidSz704",
        "colab_type": "code",
        "colab": {}
      },
      "cell_type": "code",
      "source": [
        ""
      ],
      "execution_count": 0,
      "outputs": []
    },
    {
      "metadata": {
        "id": "WqN4jnd80EqV",
        "colab_type": "text"
      },
      "cell_type": "markdown",
      "source": [
        "### Train Model"
      ]
    },
    {
      "metadata": {
        "id": "-hGgEJh31QhD",
        "colab_type": "code",
        "colab": {
          "base_uri": "https://localhost:8080/",
          "height": 35
        },
        "outputId": "91d30d6d-e7a0-46a0-8578-390795f27f52"
      },
      "cell_type": "code",
      "source": [
        "tf.executing_eagerly() "
      ],
      "execution_count": 20,
      "outputs": [
        {
          "output_type": "execute_result",
          "data": {
            "text/plain": [
              "True"
            ]
          },
          "metadata": {
            "tags": []
          },
          "execution_count": 20
        }
      ]
    },
    {
      "metadata": {
        "id": "1VelgDe01C1L",
        "colab_type": "code",
        "colab": {}
      },
      "cell_type": "code",
      "source": [
        "class Model(object):\n",
        "    def __init__(self, input_shape, output_shape):\n",
        "        self.input_shape = input_shape\n",
        "        self.output_shape = output_shape\n",
        "        self.W = tf.Variable( tf.random_normal( [self.input_shape, self.output_shape] ), name='weight' )\n",
        "        self.B = tf.Variable( tf.random_normal( [self.output_shape] ), name='bias' ) \n",
        "        self.variables = [ self.W, self.B ]\n",
        "    \n",
        "    def frwrd_pass(self,X_train):\n",
        "        out = tf.matmul( X_train, self.W ) + self.B\n",
        "        \n",
        "        return out"
      ],
      "execution_count": 0,
      "outputs": []
    },
    {
      "metadata": {
        "id": "4h9wPncs1Cpf",
        "colab_type": "code",
        "colab": {}
      },
      "cell_type": "code",
      "source": [
        "def tripletloss(anchor_out, positive_out, negative_out, margin=0.2):\n",
        "    norm_a_out = tf.nn.l2_normalize(anchor_out, axis=1)\n",
        "    norm_p_out = tf.nn.l2_normalize(positive_out, axis=1)\n",
        "    norm_n_out = tf.nn.l2_normalize(negative_out, axis=1)\n",
        "    \n",
        "    d_pos = tf.losses.cosine_distance(norm_a_out, norm_p_out, axis=1, reduction=tf.losses.Reduction.NONE)\n",
        "    d_neg = tf.losses.cosine_distance(norm_a_out, norm_n_out, axis=1, reduction=tf.losses.Reduction.NONE)\n",
        "    \n",
        "    loss = tf.maximum(0.0, margin + d_pos - d_neg)\n",
        "    \n",
        "    return tf.reduce_mean(loss)"
      ],
      "execution_count": 0,
      "outputs": []
    },
    {
      "metadata": {
        "id": "dgI3lw1i1CdO",
        "colab_type": "code",
        "colab": {}
      },
      "cell_type": "code",
      "source": [
        "def create_training_input_np(sidx, eidx):\n",
        "    anchor_list = []\n",
        "    positive_list = []\n",
        "    negative_list = []\n",
        "    \n",
        "    triplet_pairs = create_triplet_pairs(sidx, eidx)\n",
        "    \n",
        "    for row in triplet_pairs.itertuples():\n",
        "        anchor_list.append(train_normalized_feature_dict_1000[row.app_id])\n",
        "        positive_list.append(grants_normalized_feature_dict_2000[row.cited_grants])\n",
        "        negative_list.append(grants_normalized_feature_dict_2000[row.uncited_grants])\n",
        "    \n",
        "    return np.array([np.array(anchor_list), np.array(positive_list), np.array(negative_list)])"
      ],
      "execution_count": 0,
      "outputs": []
    },
    {
      "metadata": {
        "id": "duVgYaP7M9rL",
        "colab_type": "code",
        "colab": {}
      },
      "cell_type": "code",
      "source": [
        "def calc_loss_with_changing_negative_pair(sidx, eidx, lossfun=tripletloss, batch_size=10):\n",
        "  print(calc_loss_with_changing_negative_pair_without_print(sidx, eidx, lossfun, batch_size))\n",
        "\n",
        "def calc_loss_with_changing_negative_pair_without_print(sidx, eidx, lossfun=tripletloss, batch_size=10):\n",
        "    seed = 0\n",
        "    all_loss = []\n",
        "    random.seed(seed)\n",
        "\n",
        "    input_data_np = create_training_input_np(sidx, eidx)\n",
        "    data_num = int(input_data_np.shape[1])\n",
        "    rand_idx = np.random.permutation(data_num)\n",
        "    index_data_np = np.array([\n",
        "        input_data_np[0][rand_idx], \n",
        "        input_data_np[1][rand_idx], \n",
        "        input_data_np[2][rand_idx]])\n",
        "\n",
        "    input_data = tf.convert_to_tensor(input_data_np, dtype=tf.float32)\n",
        "    anchor_data, positive_data, negative_data = input_data\n",
        "\n",
        "    for iter_id in range(data_num // batch_size):\n",
        "      anchor_out = model.frwrd_pass(anchor_data[iter_id*batch_size : (iter_id+1)*batch_size])\n",
        "      positive_out = model.frwrd_pass(positive_data[iter_id*batch_size : (iter_id+1)*batch_size])\n",
        "      negative_out = model.frwrd_pass(negative_data[iter_id*batch_size : (iter_id+1)*batch_size])\n",
        "      curr_loss = lossfun(anchor_out, positive_out, negative_out)\n",
        "      all_loss.append(curr_loss)\n",
        "\n",
        "    return (sum(all_loss)/len(all_loss))"
      ],
      "execution_count": 0,
      "outputs": []
    },
    {
      "metadata": {
        "id": "D40KBBMlTVex",
        "colab_type": "code",
        "colab": {
          "base_uri": "https://localhost:8080/",
          "height": 70
        },
        "outputId": "9f23c2f1-9b19-4b21-cff0-959b1ad02e00"
      },
      "cell_type": "code",
      "source": [
        "calc_loss_with_changing_negative_pair(0, 100)\n",
        "calc_loss_with_changing_negative_pair(900, 1000)\n",
        "calc_loss_with_changing_negative_pair(1900, 2000)"
      ],
      "execution_count": 241,
      "outputs": [
        {
          "output_type": "stream",
          "text": [
            "tf.Tensor(0.01658673, shape=(), dtype=float32)\n",
            "tf.Tensor(0.09671563, shape=(), dtype=float32)\n",
            "tf.Tensor(0.1443036, shape=(), dtype=float32)\n"
          ],
          "name": "stdout"
        }
      ]
    },
    {
      "metadata": {
        "id": "8iU2l1qPzl9F",
        "colab_type": "code",
        "colab": {}
      },
      "cell_type": "code",
      "source": [
        "def train_with_changing_negative_pair_with_loss(sidx, eidx, lossfun, batch_size, epochs):\n",
        "    optimizer = tf.train.AdamOptimizer(learning_rate=0.00001)\n",
        "    \n",
        "    seed = 0\n",
        "    for i in range(epochs):\n",
        "        seed += 1\n",
        "        random.seed(seed)\n",
        "        \n",
        "        input_data_np = create_training_input_np(sidx, eidx)\n",
        "        data_num = int(input_data_np.shape[1])\n",
        "        rand_idx = np.random.permutation(data_num)\n",
        "        index_data_np = np.array([\n",
        "            input_data_np[0][rand_idx], \n",
        "            input_data_np[1][rand_idx], \n",
        "            input_data_np[2][rand_idx]])\n",
        "\n",
        "        input_data = tf.convert_to_tensor(input_data_np, dtype=tf.float32)\n",
        "        anchor_data, positive_data, negative_data = input_data\n",
        "\n",
        "        for iter_id in range(data_num // batch_size):        \n",
        "            with tf.GradientTape() as tape:\n",
        "                anchor_out = model.frwrd_pass(anchor_data[iter_id*batch_size : (iter_id+1)*batch_size])\n",
        "                positive_out = model.frwrd_pass(positive_data[iter_id*batch_size : (iter_id+1)*batch_size])\n",
        "                negative_out = model.frwrd_pass(negative_data[iter_id*batch_size : (iter_id+1)*batch_size])\n",
        "                curr_loss = lossfun(anchor_out, positive_out, negative_out)\n",
        "            grads = tape.gradient( curr_loss, model.variables )\n",
        "            optimizer.apply_gradients(zip(grads, model.variables), global_step=tf.train.get_or_create_global_step())\n",
        "\n",
        "        if i % 10 == 0:\n",
        "            print( \"Loss at step {:d}: {:.5f}\".format(i, curr_loss) )\n",
        "\n",
        "def train_with_changing_negative_pair(sidx, eidx, batch_size, epochs):\n",
        "  train_with_changing_negative_pair_with_loss(sidx, eidx, tripletloss, batch_size, epochs)"
      ],
      "execution_count": 0,
      "outputs": []
    },
    {
      "metadata": {
        "id": "RlOvi43XsPYq",
        "colab_type": "code",
        "colab": {}
      },
      "cell_type": "code",
      "source": [
        "# start_end_index_pairs = (\n",
        "#     (0, 100),\n",
        "#     (100, 200),\n",
        "#     (200, 300),\n",
        "#     (300, 400),\n",
        "#     (400, 500),\n",
        "#     (500, 600),\n",
        "#     (600, 700),\n",
        "#     (700, 800),\n",
        "#     (800, 900),\n",
        "#     (900, 1000),\n",
        "#     (1000, 1100),\n",
        "#     (1100, 1200),\n",
        "#     (1200, 1300),\n",
        "#     (1300, 1400),\n",
        "#     (1400, 1500),\n",
        "#     (1500, 1600),\n",
        "#     (1600, 1700),\n",
        "#     (1700, 1800),\n",
        "#     (1800, 1900),\n",
        "#     (1900, 2000)\n",
        "# )\n",
        "\n",
        "# start_end_index_pairs = (\n",
        "#     (0, 400),\n",
        "#     (400, 800),\n",
        "#     (800, 1200),\n",
        "#     (1200, 1600),\n",
        "#     (1600, 2000)\n",
        "# )\n",
        "\n",
        "start_end_index_pairs = (\n",
        "    (0, 100),\n",
        "    (900, 1000),\n",
        "    (1900, 2000)\n",
        ")"
      ],
      "execution_count": 0,
      "outputs": []
    },
    {
      "metadata": {
        "id": "M3pIAQlE1vaD",
        "colab_type": "code",
        "colab": {}
      },
      "cell_type": "code",
      "source": [
        "model = Model(input_shape=768, output_shape=100)"
      ],
      "execution_count": 0,
      "outputs": []
    },
    {
      "metadata": {
        "id": "HkQpJDgz1y24",
        "colab_type": "code",
        "colab": {
          "base_uri": "https://localhost:8080/",
          "height": 266
        },
        "outputId": "52b562ee-95fc-4d2f-ee6f-b325afbc364b"
      },
      "cell_type": "code",
      "source": [
        "%%time\n",
        "\n",
        "# for sidx, eidx in start_end_index_pairs:\n",
        "#     print(\"   start index: {}, end index: {}\".format(sidx,eidx))\n",
        "#     train_with_changing_negative_pair(sidx, eidx, batch_size=10, epochs=31)\n",
        "\n",
        "# for sidx, eidx in start_end_index_pairs:\n",
        "#     print(\"   start index: {}, end index: {}\".format(sidx,eidx))\n",
        "#     train_with_changing_negative_pair(sidx, eidx, batch_size=10, epochs=51)\n",
        "\n",
        "for sidx, eidx in start_end_index_pairs:\n",
        "    print(\"   start index: {}, end index: {}\".format(sidx,eidx))\n",
        "    train_with_changing_negative_pair(sidx, eidx, batch_size=10, epochs=21)"
      ],
      "execution_count": 242,
      "outputs": [
        {
          "output_type": "stream",
          "text": [
            "   start index: 0, end index: 100\n",
            "Loss at step 0: 0.02616\n",
            "Loss at step 10: 0.00717\n",
            "Loss at step 20: 0.01298\n",
            "   start index: 900, end index: 1000\n",
            "Loss at step 0: 0.09295\n",
            "Loss at step 10: 0.09062\n",
            "Loss at step 20: 0.06588\n",
            "   start index: 1900, end index: 2000\n",
            "Loss at step 0: 0.09322\n",
            "Loss at step 10: 0.09928\n",
            "Loss at step 20: 0.06732\n",
            "CPU times: user 4min 46s, sys: 4.02 s, total: 4min 50s\n",
            "Wall time: 4min 34s\n"
          ],
          "name": "stdout"
        }
      ]
    },
    {
      "metadata": {
        "id": "ifl9k11BU8FV",
        "colab_type": "code",
        "colab": {
          "base_uri": "https://localhost:8080/",
          "height": 70
        },
        "outputId": "04e2fa99-db1e-4637-bfc7-9c22630345c6"
      },
      "cell_type": "code",
      "source": [
        "calc_loss_with_changing_negative_pair(0, 100)\n",
        "calc_loss_with_changing_negative_pair(900, 1000)\n",
        "calc_loss_with_changing_negative_pair(1900, 2000)"
      ],
      "execution_count": 243,
      "outputs": [
        {
          "output_type": "stream",
          "text": [
            "tf.Tensor(0.00667771, shape=(), dtype=float32)\n",
            "tf.Tensor(0.027310502, shape=(), dtype=float32)\n",
            "tf.Tensor(0.072016366, shape=(), dtype=float32)\n"
          ],
          "name": "stdout"
        }
      ]
    },
    {
      "metadata": {
        "id": "AySNlRm-U7sm",
        "colab_type": "code",
        "colab": {}
      },
      "cell_type": "code",
      "source": [
        ""
      ],
      "execution_count": 0,
      "outputs": []
    },
    {
      "metadata": {
        "id": "XKrHg1HB3JTb",
        "colab_type": "code",
        "colab": {}
      },
      "cell_type": "code",
      "source": [
        ""
      ],
      "execution_count": 0,
      "outputs": []
    },
    {
      "metadata": {
        "id": "F1pQLCud3JGs",
        "colab_type": "code",
        "colab": {}
      },
      "cell_type": "code",
      "source": [
        ""
      ],
      "execution_count": 0,
      "outputs": []
    },
    {
      "metadata": {
        "id": "qwrpG0hx1ynm",
        "colab_type": "code",
        "colab": {
          "base_uri": "https://localhost:8080/",
          "height": 73
        },
        "outputId": "7324e6b0-3b75-477e-bc32-d086de073ad2"
      },
      "cell_type": "code",
      "source": [
        "# I do not save model these days.\n",
        "\n",
        "# os.makedirs('../trained_model/tripletloss_circulum', exist_ok=True)\n",
        "# saver = tf.contrib.eager.Saver(model.variables)\n",
        "# saver.save(\"../trained_model/tripletloss_circulum/ckpt\")"
      ],
      "execution_count": 23,
      "outputs": [
        {
          "output_type": "stream",
          "text": [
            "WARNING:tensorflow:Saver is deprecated, please switch to tf.train.Checkpoint or tf.keras.Model.save_weights for training checkpoints. When executing eagerly variables do not necessarily have unique names, and so the variable.name-based lookups Saver performs are error-prone.\n"
          ],
          "name": "stdout"
        },
        {
          "output_type": "execute_result",
          "data": {
            "text/plain": [
              "'../trained_model/tripletloss_circulum/ckpt'"
            ]
          },
          "metadata": {
            "tags": []
          },
          "execution_count": 23
        }
      ]
    },
    {
      "metadata": {
        "id": "P-UtLTS11vNJ",
        "colab_type": "code",
        "colab": {}
      },
      "cell_type": "code",
      "source": [
        ""
      ],
      "execution_count": 0,
      "outputs": []
    },
    {
      "metadata": {
        "id": "I8nUhLAs1vA9",
        "colab_type": "code",
        "colab": {}
      },
      "cell_type": "code",
      "source": [
        ""
      ],
      "execution_count": 0,
      "outputs": []
    },
    {
      "metadata": {
        "id": "CB09kp2H4xtx",
        "colab_type": "text"
      },
      "cell_type": "markdown",
      "source": [
        "### Inferece with trained model\n",
        "\n",
        "Saver seems fragile in eager mode. I use trained model on memory."
      ]
    },
    {
      "metadata": {
        "id": "3d7P3_KX5KKR",
        "colab_type": "code",
        "colab": {}
      },
      "cell_type": "code",
      "source": [
        "test_normalized_feature_dict_1000 = { \n",
        "    k:v/np.linalg.norm(v) for k,v in zip(test_app_df['app_id'], test_features[:, ])\n",
        "}"
      ],
      "execution_count": 0,
      "outputs": []
    },
    {
      "metadata": {
        "id": "JoxZ_24Xje9q",
        "colab_type": "code",
        "colab": {}
      },
      "cell_type": "code",
      "source": [
        "def to_extracted_features(normalized_feature_dict, model):\n",
        "  # doc_id is app_id for application, pared for grants.\n",
        "  sorted_keys = sorted(normalized_feature_dict.keys())\n",
        "\n",
        "  input_tensors = tf.convert_to_tensor(\n",
        "      np.array([ normalized_feature_dict[k] for k in sorted_keys ]),\n",
        "      dtype=tf.float32)\n",
        "  extracted_features = model.frwrd_pass(input_tensors).numpy()\n",
        "  return pd.DataFrame({ \n",
        "    'doc_id':sorted_keys, 'extracted_feature':[ v/np.linalg.norm(v) for v in extracted_features ]})"
      ],
      "execution_count": 0,
      "outputs": []
    },
    {
      "metadata": {
        "id": "3nEg6VhZjO6e",
        "colab_type": "code",
        "colab": {}
      },
      "cell_type": "code",
      "source": [
        "import collections\n",
        "\n",
        "def calc_all_ranks(all_app_ids, sim_dic):\n",
        "  all_ranks = []\n",
        "\n",
        "  for app_id in all_app_ids:\n",
        "      cited_grants = get_cited_grants(citations_info_target, app_id)\n",
        "      sorted_kv = reversed(sort_similarity_by_value(sim_dic, app_id))  # higher score, similar patent\n",
        "\n",
        "      idx = 1\n",
        "      for k,v in sorted_kv:\n",
        "          if k in cited_grants:\n",
        "              all_ranks.append(idx)\n",
        "          idx += 1\n",
        "  return all_ranks\n",
        "\n",
        "def calc_all_ranks_counter(all_app_ids, sim_dic):\n",
        "  return collections.Counter(calc_all_ranks(all_app_ids, sim_dic))"
      ],
      "execution_count": 0,
      "outputs": []
    },
    {
      "metadata": {
        "id": "h8Vali_FkR6a",
        "colab_type": "code",
        "colab": {}
      },
      "cell_type": "code",
      "source": [
        "test_extracted_features_df = to_extracted_features(test_normalized_feature_dict_1000, model)\n",
        "grants_extracted_features_df = to_extracted_features(grants_normalized_feature_dict_2000, model)"
      ],
      "execution_count": 0,
      "outputs": []
    },
    {
      "metadata": {
        "id": "IjjVKmHZ5X3m",
        "colab_type": "code",
        "colab": {
          "base_uri": "https://localhost:8080/",
          "height": 111
        },
        "outputId": "2964b5ca-b4eb-4a76-f538-fc93d6620b09"
      },
      "cell_type": "code",
      "source": [
        "test_extracted_features_df.head(2)"
      ],
      "execution_count": 245,
      "outputs": [
        {
          "output_type": "execute_result",
          "data": {
            "text/html": [
              "<div>\n",
              "<style scoped>\n",
              "    .dataframe tbody tr th:only-of-type {\n",
              "        vertical-align: middle;\n",
              "    }\n",
              "\n",
              "    .dataframe tbody tr th {\n",
              "        vertical-align: top;\n",
              "    }\n",
              "\n",
              "    .dataframe thead th {\n",
              "        text-align: right;\n",
              "    }\n",
              "</style>\n",
              "<table border=\"1\" class=\"dataframe\">\n",
              "  <thead>\n",
              "    <tr style=\"text-align: right;\">\n",
              "      <th></th>\n",
              "      <th>doc_id</th>\n",
              "      <th>extracted_feature</th>\n",
              "    </tr>\n",
              "  </thead>\n",
              "  <tbody>\n",
              "    <tr>\n",
              "      <th>0</th>\n",
              "      <td>12000862</td>\n",
              "      <td>[-0.06014522, 0.15319835, -0.094469905, 0.0928...</td>\n",
              "    </tr>\n",
              "    <tr>\n",
              "      <th>1</th>\n",
              "      <td>12003258</td>\n",
              "      <td>[-0.14375061, 0.054770324, 0.052622166, 0.2140...</td>\n",
              "    </tr>\n",
              "  </tbody>\n",
              "</table>\n",
              "</div>"
            ],
            "text/plain": [
              "     doc_id                                  extracted_feature\n",
              "0  12000862  [-0.06014522, 0.15319835, -0.094469905, 0.0928...\n",
              "1  12003258  [-0.14375061, 0.054770324, 0.052622166, 0.2140..."
            ]
          },
          "metadata": {
            "tags": []
          },
          "execution_count": 245
        }
      ]
    },
    {
      "metadata": {
        "id": "xLHmOk9r6Btu",
        "colab_type": "code",
        "colab": {
          "base_uri": "https://localhost:8080/",
          "height": 111
        },
        "outputId": "163e05e8-c19c-442b-8cdd-cf4f81cc6699"
      },
      "cell_type": "code",
      "source": [
        "grants_extracted_features_df.head(2)"
      ],
      "execution_count": 246,
      "outputs": [
        {
          "output_type": "execute_result",
          "data": {
            "text/html": [
              "<div>\n",
              "<style scoped>\n",
              "    .dataframe tbody tr th:only-of-type {\n",
              "        vertical-align: middle;\n",
              "    }\n",
              "\n",
              "    .dataframe tbody tr th {\n",
              "        vertical-align: top;\n",
              "    }\n",
              "\n",
              "    .dataframe thead th {\n",
              "        text-align: right;\n",
              "    }\n",
              "</style>\n",
              "<table border=\"1\" class=\"dataframe\">\n",
              "  <thead>\n",
              "    <tr style=\"text-align: right;\">\n",
              "      <th></th>\n",
              "      <th>doc_id</th>\n",
              "      <th>extracted_feature</th>\n",
              "    </tr>\n",
              "  </thead>\n",
              "  <tbody>\n",
              "    <tr>\n",
              "      <th>0</th>\n",
              "      <td>6837383</td>\n",
              "      <td>[0.17937347, 0.06213054, -0.0074147717, 0.2118...</td>\n",
              "    </tr>\n",
              "    <tr>\n",
              "      <th>1</th>\n",
              "      <td>6837647</td>\n",
              "      <td>[0.15643527, 0.080645256, -0.041111432, 0.1119...</td>\n",
              "    </tr>\n",
              "  </tbody>\n",
              "</table>\n",
              "</div>"
            ],
            "text/plain": [
              "    doc_id                                  extracted_feature\n",
              "0  6837383  [0.17937347, 0.06213054, -0.0074147717, 0.2118...\n",
              "1  6837647  [0.15643527, 0.080645256, -0.041111432, 0.1119..."
            ]
          },
          "metadata": {
            "tags": []
          },
          "execution_count": 246
        }
      ]
    },
    {
      "metadata": {
        "id": "2AuzXH3Ak_Gc",
        "colab_type": "code",
        "colab": {}
      },
      "cell_type": "code",
      "source": [
        "def create_sim_dict(test_extracted_df, grants_extracted_df):\n",
        "  return {\n",
        "    app_id:{ parsed:np.sum(test_f*grants_f)\n",
        "            for parsed, grants_f \n",
        "            in zip(grants_extracted_df['doc_id'], grants_extracted_df['extracted_feature']) } \n",
        "    for app_id, test_f \n",
        "    in zip(test_extracted_df['doc_id'], test_extracted_df['extracted_feature'])\n",
        "  }"
      ],
      "execution_count": 0,
      "outputs": []
    },
    {
      "metadata": {
        "id": "oCeJA8_t6He7",
        "colab_type": "code",
        "colab": {
          "base_uri": "https://localhost:8080/",
          "height": 53
        },
        "outputId": "8efcc7cb-d41b-48c5-e76f-c8e3e0dca00c"
      },
      "cell_type": "code",
      "source": [
        "%%time\n",
        "\n",
        "sim_dict_by_extracted = create_sim_dict(test_extracted_features_df, grants_extracted_features_df)"
      ],
      "execution_count": 247,
      "outputs": [
        {
          "output_type": "stream",
          "text": [
            "CPU times: user 10.1 s, sys: 153 ms, total: 10.3 s\n",
            "Wall time: 10.3 s\n"
          ],
          "name": "stdout"
        }
      ]
    },
    {
      "metadata": {
        "id": "pozoePLbtLIs",
        "colab_type": "code",
        "colab": {}
      },
      "cell_type": "code",
      "source": [
        ""
      ],
      "execution_count": 0,
      "outputs": []
    },
    {
      "metadata": {
        "id": "ZrKwKhdCtqc7",
        "colab_type": "code",
        "colab": {
          "base_uri": "https://localhost:8080/",
          "height": 55
        },
        "outputId": "991cd770-4cf3-421b-b1c8-64b8f3933c9a"
      },
      "cell_type": "code",
      "source": [
        "counter = calc_all_ranks_counter(test_extracted_features_df['doc_id'], sim_dict_by_extracted)\n",
        "print(counter)"
      ],
      "execution_count": 250,
      "outputs": [
        {
          "output_type": "stream",
          "text": [
            "Counter({1: 131, 2: 61, 3: 44, 7: 27, 6: 27, 4: 26, 5: 25, 11: 19, 10: 16, 15: 15, 22: 15, 9: 13, 19: 13, 34: 12, 25: 11, 31: 11, 18: 11, 21: 11, 12: 10, 8: 10, 24: 10, 23: 10, 17: 9, 27: 9, 13: 9, 14: 8, 26: 7, 55: 7, 43: 7, 41: 7, 38: 7, 30: 7, 36: 6, 16: 6, 69: 5, 28: 5, 37: 5, 62: 5, 49: 5, 54: 5, 182: 5, 134: 5, 50: 5, 51: 5, 130: 5, 84: 5, 33: 5, 48: 4, 186: 4, 52: 4, 35: 4, 127: 4, 91: 4, 32: 4, 20: 4, 65: 4, 68: 4, 46: 4, 120: 4, 449: 4, 101: 4, 56: 4, 57: 3, 286: 3, 61: 3, 63: 3, 106: 3, 128: 3, 53: 3, 129: 3, 125: 3, 206: 3, 76: 3, 108: 3, 167: 3, 39: 3, 107: 3, 190: 3, 73: 3, 168: 3, 191: 3, 117: 3, 110: 3, 132: 3, 44: 3, 72: 3, 243: 3, 149: 3, 40: 3, 112: 3, 196: 3, 171: 3, 159: 3, 29: 3, 151: 3, 672: 2, 60: 2, 161: 2, 266: 2, 118: 2, 96: 2, 162: 2, 443: 2, 166: 2, 193: 2, 201: 2, 1002: 2, 165: 2, 42: 2, 75: 2, 126: 2, 119: 2, 722: 2, 185: 2, 89: 2, 501: 2, 306: 2, 331: 2, 184: 2, 183: 2, 321: 2, 622: 2, 239: 2, 359: 2, 311: 2, 59: 2, 133: 2, 64: 2, 93: 2, 99: 2, 312: 2, 77: 2, 105: 2, 335: 2, 680: 2, 486: 2, 79: 2, 267: 2, 67: 2, 78: 2, 140: 2, 176: 2, 47: 2, 94: 2, 104: 2, 1331: 2, 317: 2, 174: 2, 97: 2, 231: 2, 124: 2, 446: 2, 432: 2, 363: 2, 261: 2, 205: 2, 103: 2, 74: 2, 83: 2, 177: 2, 252: 2, 259: 2, 66: 2, 320: 2, 624: 1, 92: 1, 1863: 1, 114: 1, 1254: 1, 1321: 1, 1475: 1, 1105: 1, 1875: 1, 333: 1, 971: 1, 472: 1, 216: 1, 58: 1, 1978: 1, 375: 1, 626: 1, 1311: 1, 232: 1, 509: 1, 677: 1, 366: 1, 98: 1, 100: 1, 414: 1, 2338: 1, 1632: 1, 305: 1, 1446: 1, 1778: 1, 194: 1, 263: 1, 795: 1, 749: 1, 431: 1, 528: 1, 542: 1, 464: 1, 534: 1, 326: 1, 1126: 1, 660: 1, 934: 1, 761: 1, 2312: 1, 655: 1, 1572: 1, 328: 1, 891: 1, 2410: 1, 442: 1, 197: 1, 520: 1, 546: 1, 2421: 1, 496: 1, 2208: 1, 2320: 1, 298: 1, 131: 1, 407: 1, 163: 1, 1262: 1, 970: 1, 1007: 1, 113: 1, 204: 1, 332: 1, 593: 1, 868: 1, 2116: 1, 741: 1, 1611: 1, 1887: 1, 748: 1, 82: 1, 353: 1, 933: 1, 258: 1, 939: 1, 303: 1, 422: 1, 1407: 1, 384: 1, 530: 1, 244: 1, 81: 1, 300: 1, 914: 1, 45: 1, 489: 1, 1027: 1, 793: 1, 1635: 1, 418: 1, 574: 1, 701: 1, 831: 1, 527: 1, 458: 1, 253: 1, 1024: 1, 170: 1, 219: 1, 1040: 1, 1769: 1, 1171: 1, 711: 1, 173: 1, 270: 1, 1275: 1, 830: 1, 1765: 1, 179: 1, 1317: 1, 1032: 1, 1129: 1, 1071: 1, 936: 1, 309: 1, 153: 1, 342: 1, 848: 1, 389: 1, 1148: 1, 513: 1, 798: 1, 455: 1, 1463: 1, 1361: 1, 578: 1, 737: 1, 234: 1, 242: 1, 265: 1, 1122: 1, 274: 1, 502: 1, 367: 1, 284: 1, 498: 1, 927: 1, 225: 1, 805: 1, 158: 1, 1044: 1, 518: 1, 268: 1, 824: 1, 510: 1, 334: 1, 1603: 1, 147: 1, 1512: 1, 559: 1, 192: 1, 343: 1, 394: 1, 1117: 1, 2027: 1, 122: 1, 428: 1, 1333: 1, 282: 1, 214: 1, 95: 1, 504: 1, 490: 1, 567: 1, 215: 1, 121: 1, 1459: 1, 199: 1, 1435: 1, 1052: 1, 276: 1, 1026: 1, 2218: 1, 406: 1, 728: 1, 138: 1, 1862: 1, 444: 1, 148: 1, 651: 1, 767: 1, 1980: 1, 2372: 1, 1725: 1, 1493: 1, 740: 1, 350: 1, 564: 1, 111: 1, 157: 1, 476: 1, 264: 1, 543: 1, 1166: 1, 88: 1, 2088: 1, 217: 1, 1213: 1, 211: 1, 487: 1, 529: 1, 1823: 1, 417: 1, 299: 1, 1811: 1, 424: 1, 483: 1, 360: 1, 2241: 1, 1448: 1, 2428: 1, 616: 1, 314: 1, 154: 1, 369: 1, 296: 1, 202: 1, 560: 1, 241: 1, 376: 1, 152: 1, 142: 1, 1191: 1, 187: 1, 1337: 1, 1718: 1, 248: 1, 381: 1, 246: 1, 349: 1, 679: 1, 532: 1, 109: 1, 235: 1, 495: 1, 1001: 1, 879: 1, 135: 1, 563: 1, 633: 1, 644: 1, 400: 1, 876: 1, 625: 1, 1045: 1, 156: 1, 1295: 1, 70: 1, 1139: 1, 220: 1, 85: 1, 762: 1, 86: 1, 471: 1, 753: 1, 146: 1, 145: 1, 341: 1, 178: 1, 143: 1, 1355: 1, 536: 1, 1144: 1, 1229: 1, 1121: 1, 1137: 1, 344: 1})\n"
          ],
          "name": "stdout"
        }
      ]
    },
    {
      "metadata": {
        "id": "E3H2WOrQ6Weg",
        "colab_type": "code",
        "colab": {
          "base_uri": "https://localhost:8080/",
          "height": 35
        },
        "outputId": "347d6954-7185-41fe-ed37-c822078b3770"
      },
      "cell_type": "code",
      "source": [
        "# counter is started from 1.\n",
        "\n",
        "sum(counter[i] for i in range(11))"
      ],
      "execution_count": 251,
      "outputs": [
        {
          "output_type": "execute_result",
          "data": {
            "text/plain": [
              "380"
            ]
          },
          "metadata": {
            "tags": []
          },
          "execution_count": 251
        }
      ]
    },
    {
      "metadata": {
        "id": "TkKFXo8w9Ycg",
        "colab_type": "code",
        "colab": {}
      },
      "cell_type": "code",
      "source": [
        ""
      ],
      "execution_count": 0,
      "outputs": []
    },
    {
      "metadata": {
        "id": "JZihayov9YOm",
        "colab_type": "code",
        "colab": {}
      },
      "cell_type": "code",
      "source": [
        ""
      ],
      "execution_count": 0,
      "outputs": []
    },
    {
      "metadata": {
        "id": "9r3ZCqm19Z6z",
        "colab_type": "text"
      },
      "cell_type": "markdown",
      "source": [
        "### Use raw feature as is (for comparison)"
      ]
    },
    {
      "metadata": {
        "id": "Tl2DelEa945Y",
        "colab_type": "code",
        "colab": {
          "base_uri": "https://localhost:8080/",
          "height": 53
        },
        "outputId": "26d456c1-1aff-4421-b3ba-8c7c81a1da7e"
      },
      "cell_type": "code",
      "source": [
        "%%time\n",
        "\n",
        "sim_dict = {\n",
        "    app_id:{ parsed:np.sum(test_normalized_feature_dict_1000[app_id]*grants_normalized_feature_dict_2000[parsed])\n",
        "            for parsed \n",
        "            in grants_target_df['parsed'] } \n",
        "    for app_id \n",
        "    in test_app_df['app_id']\n",
        "}"
      ],
      "execution_count": 47,
      "outputs": [
        {
          "output_type": "stream",
          "text": [
            "CPU times: user 13.3 s, sys: 149 ms, total: 13.4 s\n",
            "Wall time: 13.4 s\n"
          ],
          "name": "stdout"
        }
      ]
    },
    {
      "metadata": {
        "id": "lVhFo-gT7YM-",
        "colab_type": "code",
        "colab": {
          "base_uri": "https://localhost:8080/",
          "height": 53
        },
        "outputId": "ccda1991-e3b2-4490-ad88-07895b8fae0c"
      },
      "cell_type": "code",
      "source": [
        "%%time\n",
        "\n",
        "all_ranks = []\n",
        "\n",
        "for app_id in test_app_df['app_id']:\n",
        "    cited_grants = get_cited_grants(citations_info_target, app_id)\n",
        "    sorted_kv = reversed(sort_similarity_by_value(sim_dict, app_id))  # higher score, similar patent\n",
        "\n",
        "    idx = 1\n",
        "    for k,v in sorted_kv:\n",
        "        if k in cited_grants:\n",
        "            all_ranks.append(idx)\n",
        "        idx += 1"
      ],
      "execution_count": 48,
      "outputs": [
        {
          "output_type": "stream",
          "text": [
            "CPU times: user 2.89 s, sys: 8.73 ms, total: 2.9 s\n",
            "Wall time: 2.89 s\n"
          ],
          "name": "stdout"
        }
      ]
    },
    {
      "metadata": {
        "id": "ZTQ45Vta9i5t",
        "colab_type": "code",
        "colab": {
          "base_uri": "https://localhost:8080/",
          "height": 55
        },
        "outputId": "3149b711-5f06-40fa-9e92-cf229f785c1d"
      },
      "cell_type": "code",
      "source": [
        "counter = collections.Counter(all_ranks)\n",
        "print(counter)"
      ],
      "execution_count": 49,
      "outputs": [
        {
          "output_type": "stream",
          "text": [
            "Counter({1: 178, 2: 73, 3: 46, 5: 40, 4: 38, 6: 31, 7: 19, 9: 17, 8: 16, 10: 15, 13: 13, 14: 13, 11: 13, 15: 12, 18: 12, 16: 11, 12: 10, 26: 9, 19: 9, 34: 9, 21: 8, 23: 8, 38: 7, 28: 7, 50: 6, 39: 6, 37: 6, 33: 6, 53: 6, 100: 5, 47: 5, 76: 5, 35: 5, 64: 5, 29: 5, 73: 5, 61: 5, 32: 5, 17: 5, 68: 5, 31: 5, 52: 4, 59: 4, 40: 4, 143: 4, 90: 4, 48: 4, 63: 4, 44: 4, 49: 4, 20: 4, 65: 4, 70: 4, 30: 4, 83: 3, 168: 3, 147: 3, 114: 3, 22: 3, 444: 3, 93: 3, 43: 3, 121: 3, 122: 3, 189: 3, 148: 3, 51: 3, 57: 3, 46: 3, 25: 3, 385: 3, 66: 3, 85: 3, 125: 3, 304: 3, 36: 3, 195: 3, 92: 3, 187: 3, 69: 3, 99: 3, 411: 2, 24: 2, 131: 2, 262: 2, 724: 2, 72: 2, 454: 2, 396: 2, 87: 2, 130: 2, 413: 2, 89: 2, 157: 2, 292: 2, 1182: 2, 264: 2, 133: 2, 78: 2, 174: 2, 56: 2, 67: 2, 227: 2, 134: 2, 163: 2, 97: 2, 126: 2, 517: 2, 213: 2, 128: 2, 110: 2, 112: 2, 173: 2, 62: 2, 42: 2, 179: 2, 378: 2, 155: 2, 88: 2, 376: 2, 505: 2, 183: 2, 167: 2, 105: 2, 45: 2, 209: 2, 211: 2, 74: 2, 75: 2, 415: 2, 617: 2, 169: 2, 615: 2, 181: 2, 192: 2, 2394: 2, 258: 2, 571: 2, 41: 2, 696: 2, 77: 2, 485: 2, 184: 2, 645: 1, 704: 1, 1316: 1, 1373: 1, 1984: 1, 445: 1, 104: 1, 835: 1, 459: 1, 216: 1, 1004: 1, 1888: 1, 1459: 1, 144: 1, 2370: 1, 2443: 1, 299: 1, 537: 1, 1627: 1, 983: 1, 249: 1, 219: 1, 614: 1, 943: 1, 703: 1, 1340: 1, 1550: 1, 914: 1, 106: 1, 589: 1, 593: 1, 399: 1, 574: 1, 1643: 1, 359: 1, 194: 1, 123: 1, 118: 1, 1341: 1, 1759: 1, 524: 1, 305: 1, 998: 1, 458: 1, 523: 1, 1640: 1, 117: 1, 2179: 1, 2115: 1, 153: 1, 334: 1, 541: 1, 1354: 1, 81: 1, 598: 1, 319: 1, 1593: 1, 2390: 1, 680: 1, 2134: 1, 2146: 1, 846: 1, 1166: 1, 341: 1, 337: 1, 1772: 1, 995: 1, 2013: 1, 250: 1, 141: 1, 2131: 1, 612: 1, 342: 1, 154: 1, 1830: 1, 625: 1, 175: 1, 879: 1, 1769: 1, 221: 1, 84: 1, 218: 1, 296: 1, 115: 1, 2151: 1, 400: 1, 149: 1, 350: 1, 111: 1, 494: 1, 208: 1, 261: 1, 263: 1, 361: 1, 271: 1, 619: 1, 1284: 1, 1052: 1, 814: 1, 1346: 1, 599: 1, 186: 1, 280: 1, 695: 1, 1802: 1, 351: 1, 1461: 1, 372: 1, 1074: 1, 712: 1, 103: 1, 738: 1, 754: 1, 200: 1, 474: 1, 166: 1, 135: 1, 138: 1, 1820: 1, 2348: 1, 789: 1, 2101: 1, 1551: 1, 2049: 1, 1711: 1, 768: 1, 207: 1, 1864: 1, 2207: 1, 162: 1, 228: 1, 60: 1, 389: 1, 926: 1, 473: 1, 779: 1, 91: 1, 2053: 1, 457: 1, 314: 1, 2447: 1, 1918: 1, 2232: 1, 968: 1, 795: 1, 1996: 1, 113: 1, 2499: 1, 2374: 1, 268: 1, 890: 1, 251: 1, 323: 1, 1728: 1, 335: 1, 2117: 1, 1060: 1, 771: 1, 1073: 1, 2469: 1, 1090: 1, 309: 1, 1440: 1, 1368: 1, 904: 1, 164: 1, 142: 1, 1116: 1, 398: 1, 288: 1, 79: 1, 527: 1, 2122: 1, 2324: 1, 861: 1, 201: 1, 729: 1, 95: 1, 226: 1, 1708: 1, 591: 1, 204: 1, 460: 1, 1114: 1, 188: 1, 2016: 1, 160: 1, 952: 1, 1254: 1, 1648: 1, 920: 1, 344: 1, 132: 1, 279: 1, 1259: 1, 2166: 1, 2294: 1, 2082: 1, 2091: 1, 108: 1, 757: 1, 358: 1, 560: 1, 1559: 1, 190: 1, 244: 1, 210: 1, 1366: 1, 182: 1, 382: 1, 1610: 1, 107: 1, 521: 1, 1084: 1, 764: 1, 1889: 1, 1995: 1, 547: 1, 71: 1, 1009: 1, 328: 1, 750: 1, 1155: 1, 556: 1, 1693: 1, 1734: 1, 912: 1, 333: 1, 212: 1, 58: 1, 151: 1, 145: 1, 775: 1, 355: 1, 1029: 1, 1195: 1, 120: 1, 287: 1, 206: 1, 225: 1, 456: 1, 318: 1, 507: 1, 786: 1, 1569: 1, 82: 1, 766: 1, 749: 1, 1566: 1, 514: 1, 889: 1, 2222: 1, 236: 1, 488: 1, 96: 1, 178: 1, 1103: 1, 572: 1, 652: 1, 1024: 1, 1046: 1, 127: 1, 419: 1, 1078: 1, 825: 1, 313: 1, 109: 1, 1529: 1, 348: 1, 565: 1, 539: 1, 833: 1, 2280: 1, 27: 1, 139: 1, 530: 1, 1231: 1, 431: 1, 229: 1, 2004: 1, 101: 1, 202: 1, 2170: 1, 1406: 1, 1895: 1, 1987: 1, 346: 1, 1210: 1, 922: 1, 324: 1})\n"
          ],
          "name": "stdout"
        }
      ]
    },
    {
      "metadata": {
        "id": "5wPB-u0Q9ioG",
        "colab_type": "code",
        "colab": {
          "base_uri": "https://localhost:8080/",
          "height": 35
        },
        "outputId": "0a6f5dce-15dd-40fa-cfcd-df626cccfaed"
      },
      "cell_type": "code",
      "source": [
        "sum(counter[i] for i in range(11))"
      ],
      "execution_count": 50,
      "outputs": [
        {
          "output_type": "execute_result",
          "data": {
            "text/plain": [
              "473"
            ]
          },
          "metadata": {
            "tags": []
          },
          "execution_count": 50
        }
      ]
    },
    {
      "metadata": {
        "id": "er174-6VgsPW",
        "colab_type": "code",
        "colab": {}
      },
      "cell_type": "code",
      "source": [
        ""
      ],
      "execution_count": 0,
      "outputs": []
    },
    {
      "metadata": {
        "id": "YuqFFGRWzSXG",
        "colab_type": "text"
      },
      "cell_type": "markdown",
      "source": [
        "# Changing loss or model"
      ]
    },
    {
      "metadata": {
        "id": "G7LUlYANhkMY",
        "colab_type": "text"
      },
      "cell_type": "markdown",
      "source": [
        "### Triplet loss, positive doubled"
      ]
    },
    {
      "metadata": {
        "id": "2OVqgWHThiVC",
        "colab_type": "code",
        "colab": {}
      },
      "cell_type": "code",
      "source": [
        "def tipletloss_pos_ntimes(anchor_out, positive_out, negative_out, ntimes=2, margin=0.2):\n",
        "    norm_a_out = tf.nn.l2_normalize(anchor_out, axis=1)\n",
        "    norm_p_out = tf.nn.l2_normalize(positive_out, axis=1)\n",
        "    norm_n_out = tf.nn.l2_normalize(negative_out, axis=1)\n",
        "    \n",
        "    d_pos = tf.losses.cosine_distance(norm_a_out, norm_p_out, axis=1, reduction=tf.losses.Reduction.NONE)\n",
        "    d_neg = tf.losses.cosine_distance(norm_a_out, norm_n_out, axis=1, reduction=tf.losses.Reduction.NONE)\n",
        "    \n",
        "    loss = tf.maximum(0.0, margin + 2*d_pos - d_neg)\n",
        "    \n",
        "    return tf.reduce_mean(loss)\n",
        "  \n",
        "def tripletloss_posdouble(anchor_out, positive_out, negative_out, margin=0.2):\n",
        "  return tipletloss_pos_ntimes(anchor_out, positive_out, negative_out, 2, margin)\n",
        "\n",
        "def tripletloss_pos_10times(anchor_out, positive_out, negative_out, margin=0.2):\n",
        "  return tipletloss_pos_ntimes(anchor_out, positive_out, negative_out, 2, margin)\n",
        "\n"
      ],
      "execution_count": 0,
      "outputs": []
    },
    {
      "metadata": {
        "id": "PPZzHCR8hiGm",
        "colab_type": "code",
        "colab": {}
      },
      "cell_type": "code",
      "source": [
        "model = Model(input_shape=768, output_shape=100)"
      ],
      "execution_count": 0,
      "outputs": []
    },
    {
      "metadata": {
        "id": "PpRN8IPRhh4D",
        "colab_type": "code",
        "colab": {
          "base_uri": "https://localhost:8080/",
          "height": 266
        },
        "outputId": "882c010c-0889-4907-90d2-342dbac1e7e9"
      },
      "cell_type": "code",
      "source": [
        "%%time\n",
        "\n",
        "for sidx, eidx in start_end_index_pairs:\n",
        "    print(\"   start index: {}, end index: {}\".format(sidx,eidx))\n",
        "    train_with_changing_negative_pair_with_loss(sidx, eidx, tripletloss_posdouble, batch_size=10, epochs=21)"
      ],
      "execution_count": 215,
      "outputs": [
        {
          "output_type": "stream",
          "text": [
            "   start index: 0, end index: 100\n",
            "Loss at step 0: 0.14810\n",
            "Loss at step 10: 0.12633\n",
            "Loss at step 20: 0.10907\n",
            "   start index: 900, end index: 1000\n",
            "Loss at step 0: 0.25632\n",
            "Loss at step 10: 0.24276\n",
            "Loss at step 20: 0.24377\n",
            "   start index: 1900, end index: 2000\n",
            "Loss at step 0: 0.26960\n",
            "Loss at step 10: 0.26411\n",
            "Loss at step 20: 0.26362\n",
            "CPU times: user 4min 50s, sys: 4.33 s, total: 4min 55s\n",
            "Wall time: 4min 39s\n"
          ],
          "name": "stdout"
        }
      ]
    },
    {
      "metadata": {
        "id": "JejmQc2qZex2",
        "colab_type": "code",
        "colab": {}
      },
      "cell_type": "code",
      "source": [
        "test_extracted_features_df = to_extracted_features(test_normalized_feature_dict_1000, model)"
      ],
      "execution_count": 0,
      "outputs": []
    },
    {
      "metadata": {
        "id": "xcMC7xe_hKll",
        "colab_type": "code",
        "colab": {
          "base_uri": "https://localhost:8080/",
          "height": 204
        },
        "outputId": "0ffa4c26-c0f3-498a-ab12-15161d7c0efa"
      },
      "cell_type": "code",
      "source": [
        "test_extracted_features_df.head()"
      ],
      "execution_count": 219,
      "outputs": [
        {
          "output_type": "execute_result",
          "data": {
            "text/html": [
              "<div>\n",
              "<style scoped>\n",
              "    .dataframe tbody tr th:only-of-type {\n",
              "        vertical-align: middle;\n",
              "    }\n",
              "\n",
              "    .dataframe tbody tr th {\n",
              "        vertical-align: top;\n",
              "    }\n",
              "\n",
              "    .dataframe thead th {\n",
              "        text-align: right;\n",
              "    }\n",
              "</style>\n",
              "<table border=\"1\" class=\"dataframe\">\n",
              "  <thead>\n",
              "    <tr style=\"text-align: right;\">\n",
              "      <th></th>\n",
              "      <th>doc_id</th>\n",
              "      <th>extracted_feature</th>\n",
              "    </tr>\n",
              "  </thead>\n",
              "  <tbody>\n",
              "    <tr>\n",
              "      <th>0</th>\n",
              "      <td>12000862</td>\n",
              "      <td>[-0.013157393, 0.06550002, -0.17330328, 0.0534...</td>\n",
              "    </tr>\n",
              "    <tr>\n",
              "      <th>1</th>\n",
              "      <td>12003258</td>\n",
              "      <td>[-0.01271724, -0.021055741, -0.18226379, 0.150...</td>\n",
              "    </tr>\n",
              "    <tr>\n",
              "      <th>2</th>\n",
              "      <td>12004701</td>\n",
              "      <td>[-0.059054796, -0.022013474, -0.1141999, 0.041...</td>\n",
              "    </tr>\n",
              "    <tr>\n",
              "      <th>3</th>\n",
              "      <td>12007341</td>\n",
              "      <td>[-0.0034107184, -0.013823663, -0.15175237, 0.0...</td>\n",
              "    </tr>\n",
              "    <tr>\n",
              "      <th>4</th>\n",
              "      <td>12018798</td>\n",
              "      <td>[-0.017291823, -0.04676495, -0.09946125, 0.064...</td>\n",
              "    </tr>\n",
              "  </tbody>\n",
              "</table>\n",
              "</div>"
            ],
            "text/plain": [
              "     doc_id                                  extracted_feature\n",
              "0  12000862  [-0.013157393, 0.06550002, -0.17330328, 0.0534...\n",
              "1  12003258  [-0.01271724, -0.021055741, -0.18226379, 0.150...\n",
              "2  12004701  [-0.059054796, -0.022013474, -0.1141999, 0.041...\n",
              "3  12007341  [-0.0034107184, -0.013823663, -0.15175237, 0.0...\n",
              "4  12018798  [-0.017291823, -0.04676495, -0.09946125, 0.064..."
            ]
          },
          "metadata": {
            "tags": []
          },
          "execution_count": 219
        }
      ]
    },
    {
      "metadata": {
        "id": "CdbXEnH1ksoS",
        "colab_type": "code",
        "colab": {}
      },
      "cell_type": "code",
      "source": [
        "grants_extracted_features_df = to_extracted_features(grants_normalized_feature_dict_2000, model)"
      ],
      "execution_count": 0,
      "outputs": []
    },
    {
      "metadata": {
        "id": "scWkAYNvksaA",
        "colab_type": "code",
        "colab": {
          "base_uri": "https://localhost:8080/",
          "height": 204
        },
        "outputId": "bd3286c8-00af-4662-fb58-54972f6cccd5"
      },
      "cell_type": "code",
      "source": [
        "grants_extracted_features_df.head()"
      ],
      "execution_count": 221,
      "outputs": [
        {
          "output_type": "execute_result",
          "data": {
            "text/html": [
              "<div>\n",
              "<style scoped>\n",
              "    .dataframe tbody tr th:only-of-type {\n",
              "        vertical-align: middle;\n",
              "    }\n",
              "\n",
              "    .dataframe tbody tr th {\n",
              "        vertical-align: top;\n",
              "    }\n",
              "\n",
              "    .dataframe thead th {\n",
              "        text-align: right;\n",
              "    }\n",
              "</style>\n",
              "<table border=\"1\" class=\"dataframe\">\n",
              "  <thead>\n",
              "    <tr style=\"text-align: right;\">\n",
              "      <th></th>\n",
              "      <th>doc_id</th>\n",
              "      <th>extracted_feature</th>\n",
              "    </tr>\n",
              "  </thead>\n",
              "  <tbody>\n",
              "    <tr>\n",
              "      <th>0</th>\n",
              "      <td>6837383</td>\n",
              "      <td>[0.01180602, -0.023277633, -0.059893485, 0.048...</td>\n",
              "    </tr>\n",
              "    <tr>\n",
              "      <th>1</th>\n",
              "      <td>6837647</td>\n",
              "      <td>[0.014063301, 0.02104149, -0.06873307, 0.01846...</td>\n",
              "    </tr>\n",
              "    <tr>\n",
              "      <th>2</th>\n",
              "      <td>6837799</td>\n",
              "      <td>[0.020941963, -0.0022532253, -0.12189834, 0.00...</td>\n",
              "    </tr>\n",
              "    <tr>\n",
              "      <th>3</th>\n",
              "      <td>6837893</td>\n",
              "      <td>[0.044268582, 0.018448185, -0.06050285, 0.0270...</td>\n",
              "    </tr>\n",
              "    <tr>\n",
              "      <th>4</th>\n",
              "      <td>6837910</td>\n",
              "      <td>[0.015180708, 0.11016171, -0.12653644, 0.11364...</td>\n",
              "    </tr>\n",
              "  </tbody>\n",
              "</table>\n",
              "</div>"
            ],
            "text/plain": [
              "    doc_id                                  extracted_feature\n",
              "0  6837383  [0.01180602, -0.023277633, -0.059893485, 0.048...\n",
              "1  6837647  [0.014063301, 0.02104149, -0.06873307, 0.01846...\n",
              "2  6837799  [0.020941963, -0.0022532253, -0.12189834, 0.00...\n",
              "3  6837893  [0.044268582, 0.018448185, -0.06050285, 0.0270...\n",
              "4  6837910  [0.015180708, 0.11016171, -0.12653644, 0.11364..."
            ]
          },
          "metadata": {
            "tags": []
          },
          "execution_count": 221
        }
      ]
    },
    {
      "metadata": {
        "id": "Ka6Qjgtuk4-h",
        "colab_type": "code",
        "colab": {
          "base_uri": "https://localhost:8080/",
          "height": 53
        },
        "outputId": "fdcefa3c-cc64-455b-b9ff-b7dfad2224ec"
      },
      "cell_type": "code",
      "source": [
        "%%time\n",
        "doubled_sim_dict = create_sim_dict(test_extracted_features_df, grants_extracted_features_df)"
      ],
      "execution_count": 223,
      "outputs": [
        {
          "output_type": "stream",
          "text": [
            "CPU times: user 9.99 s, sys: 77.3 ms, total: 10.1 s\n",
            "Wall time: 10.1 s\n"
          ],
          "name": "stdout"
        }
      ]
    },
    {
      "metadata": {
        "id": "-VIt40Oak4wC",
        "colab_type": "code",
        "colab": {
          "base_uri": "https://localhost:8080/",
          "height": 55
        },
        "outputId": "269b5490-998e-48e5-d3ba-a1ff26a37f43"
      },
      "cell_type": "code",
      "source": [
        "counter = calc_all_ranks_counter(test_extracted_features_df['doc_id'], doubled_sim_dict)\n",
        "print(counter)"
      ],
      "execution_count": 227,
      "outputs": [
        {
          "output_type": "stream",
          "text": [
            "Counter({1: 150, 2: 55, 3: 39, 4: 29, 6: 28, 5: 27, 8: 19, 11: 17, 7: 16, 13: 16, 17: 16, 10: 16, 9: 13, 12: 12, 16: 11, 23: 11, 27: 11, 21: 10, 15: 10, 19: 9, 33: 9, 20: 8, 14: 8, 22: 8, 32: 8, 24: 7, 31: 6, 41: 6, 48: 6, 65: 6, 38: 6, 44: 6, 35: 5, 68: 5, 28: 5, 25: 5, 153: 5, 62: 5, 43: 5, 55: 5, 34: 5, 105: 5, 148: 4, 92: 4, 51: 4, 164: 4, 78: 4, 46: 4, 87: 4, 26: 4, 56: 4, 67: 4, 350: 4, 192: 4, 57: 4, 120: 4, 61: 4, 145: 3, 128: 3, 155: 3, 45: 3, 144: 3, 18: 3, 85: 3, 121: 3, 86: 3, 95: 3, 137: 3, 49: 3, 29: 3, 54: 3, 53: 3, 83: 3, 230: 3, 64: 3, 106: 3, 113: 3, 579: 3, 93: 3, 47: 3, 97: 3, 123: 3, 77: 3, 42: 3, 40: 3, 58: 3, 50: 3, 147: 3, 329: 2, 456: 2, 90: 2, 150: 2, 401: 2, 260: 2, 1248: 2, 177: 2, 213: 2, 376: 2, 94: 2, 89: 2, 245: 2, 100: 2, 116: 2, 167: 2, 96: 2, 1140: 2, 66: 2, 216: 2, 232: 2, 426: 2, 172: 2, 251: 2, 139: 2, 347: 2, 156: 2, 72: 2, 366: 2, 195: 2, 122: 2, 539: 2, 169: 2, 574: 2, 288: 2, 88: 2, 509: 2, 80: 2, 52: 2, 749: 2, 173: 2, 103: 2, 1489: 2, 186: 2, 468: 2, 573: 2, 170: 2, 60: 2, 248: 2, 69: 2, 187: 2, 125: 2, 497: 2, 115: 2, 476: 2, 396: 2, 819: 2, 465: 2, 132: 2, 270: 2, 160: 2, 171: 2, 227: 2, 607: 2, 175: 2, 176: 2, 919: 2, 199: 2, 130: 2, 36: 2, 2141: 2, 287: 2, 223: 2, 126: 2, 76: 2, 37: 2, 305: 2, 178: 2, 75: 2, 119: 2, 39: 2, 2005: 1, 2038: 1, 279: 1, 1017: 1, 581: 1, 2175: 1, 131: 1, 357: 1, 112: 1, 2286: 1, 575: 1, 560: 1, 98: 1, 796: 1, 163: 1, 1802: 1, 81: 1, 787: 1, 791: 1, 1572: 1, 718: 1, 196: 1, 802: 1, 1235: 1, 999: 1, 107: 1, 1400: 1, 1228: 1, 567: 1, 295: 1, 1686: 1, 1788: 1, 343: 1, 1278: 1, 2160: 1, 2329: 1, 1187: 1, 386: 1, 1158: 1, 1664: 1, 222: 1, 1516: 1, 685: 1, 179: 1, 1036: 1, 2152: 1, 485: 1, 207: 1, 327: 1, 109: 1, 1306: 1, 301: 1, 1293: 1, 2185: 1, 2310: 1, 682: 1, 70: 1, 133: 1, 1648: 1, 1317: 1, 1132: 1, 1347: 1, 224: 1, 1701: 1, 566: 1, 110: 1, 511: 1, 954: 1, 968: 1, 562: 1, 154: 1, 793: 1, 246: 1, 1476: 1, 1008: 1, 1438: 1, 229: 1, 692: 1, 256: 1, 73: 1, 1537: 1, 1846: 1, 117: 1, 683: 1, 124: 1, 504: 1, 474: 1, 375: 1, 385: 1, 307: 1, 1643: 1, 724: 1, 1357: 1, 1073: 1, 1215: 1, 552: 1, 310: 1, 198: 1, 851: 1, 315: 1, 559: 1, 141: 1, 1588: 1, 334: 1, 489: 1, 956: 1, 2304: 1, 371: 1, 515: 1, 1396: 1, 583: 1, 2189: 1, 1300: 1, 651: 1, 108: 1, 680: 1, 254: 1, 487: 1, 188: 1, 174: 1, 1151: 1, 441: 1, 458: 1, 2049: 1, 1695: 1, 984: 1, 1439: 1, 1333: 1, 705: 1, 391: 1, 1767: 1, 1243: 1, 336: 1, 82: 1, 184: 1, 885: 1, 678: 1, 1064: 1, 419: 1, 2412: 1, 304: 1, 658: 1, 415: 1, 1023: 1, 1401: 1, 1659: 1, 63: 1, 140: 1, 384: 1, 1069: 1, 1473: 1, 684: 1, 197: 1, 696: 1, 438: 1, 436: 1, 243: 1, 151: 1, 451: 1, 889: 1, 101: 1, 180: 1, 275: 1, 317: 1, 927: 1, 1203: 1, 152: 1, 1416: 1, 215: 1, 194: 1, 273: 1, 2227: 1, 399: 1, 2118: 1, 910: 1, 161: 1, 136: 1, 2285: 1, 290: 1, 895: 1, 249: 1, 1162: 1, 2108: 1, 185: 1, 413: 1, 91: 1, 1491: 1, 30: 1, 219: 1, 479: 1, 594: 1, 114: 1, 1495: 1, 670: 1, 1252: 1, 448: 1, 811: 1, 1185: 1, 363: 1, 390: 1, 502: 1, 576: 1, 961: 1, 2100: 1, 218: 1, 1647: 1, 588: 1, 281: 1, 255: 1, 1723: 1, 2086: 1, 1465: 1, 638: 1, 1274: 1, 1085: 1, 1639: 1, 268: 1, 309: 1, 1047: 1, 703: 1, 398: 1, 111: 1, 938: 1, 1882: 1, 414: 1, 627: 1, 1978: 1, 672: 1, 840: 1, 261: 1, 321: 1, 1876: 1, 650: 1, 2232: 1, 595: 1, 79: 1, 1018: 1, 2484: 1, 129: 1, 608: 1, 341: 1, 423: 1, 1089: 1, 634: 1, 142: 1, 1379: 1, 352: 1, 584: 1, 1910: 1, 324: 1, 429: 1, 626: 1, 460: 1, 553: 1, 1009: 1, 1005: 1, 845: 1, 466: 1, 611: 1, 913: 1, 406: 1, 453: 1, 744: 1, 564: 1, 1099: 1, 665: 1, 921: 1, 1026: 1, 149: 1, 1599: 1, 71: 1, 276: 1, 225: 1, 464: 1, 753: 1, 316: 1, 339: 1, 353: 1, 214: 1, 886: 1, 2037: 1, 558: 1, 252: 1, 2299: 1, 967: 1, 1332: 1, 484: 1})\n"
          ],
          "name": "stdout"
        }
      ]
    },
    {
      "metadata": {
        "id": "U2XNCi6_ksLH",
        "colab_type": "code",
        "colab": {}
      },
      "cell_type": "code",
      "source": [
        ""
      ],
      "execution_count": 0,
      "outputs": []
    },
    {
      "metadata": {
        "id": "yLmBexxCnUEE",
        "colab_type": "text"
      },
      "cell_type": "markdown",
      "source": [
        "Positive 10 times."
      ]
    },
    {
      "metadata": {
        "id": "-2RrVWuUng5G",
        "colab_type": "code",
        "colab": {}
      },
      "cell_type": "code",
      "source": [
        "model = Model(input_shape=768, output_shape=100)"
      ],
      "execution_count": 0,
      "outputs": []
    },
    {
      "metadata": {
        "id": "x2LHi4dMnScm",
        "colab_type": "code",
        "colab": {
          "base_uri": "https://localhost:8080/",
          "height": 266
        },
        "outputId": "33de1af2-c7eb-40fe-fdb0-4b4a0ff0ee85"
      },
      "cell_type": "code",
      "source": [
        "%%time\n",
        "\n",
        "for sidx, eidx in start_end_index_pairs:\n",
        "    print(\"   start index: {}, end index: {}\".format(sidx,eidx))\n",
        "    train_with_changing_negative_pair_with_loss(sidx, eidx, tripletloss_pos_10times, batch_size=10, epochs=21)"
      ],
      "execution_count": 231,
      "outputs": [
        {
          "output_type": "stream",
          "text": [
            "   start index: 0, end index: 100\n",
            "Loss at step 0: 0.17560\n",
            "Loss at step 10: 0.15177\n",
            "Loss at step 20: 0.12895\n",
            "   start index: 900, end index: 1000\n",
            "Loss at step 0: 0.25382\n",
            "Loss at step 10: 0.24570\n",
            "Loss at step 20: 0.23713\n",
            "   start index: 1900, end index: 2000\n",
            "Loss at step 0: 0.26674\n",
            "Loss at step 10: 0.26804\n",
            "Loss at step 20: 0.26128\n",
            "CPU times: user 4min 45s, sys: 4.21 s, total: 4min 49s\n",
            "Wall time: 4min 33s\n"
          ],
          "name": "stdout"
        }
      ]
    },
    {
      "metadata": {
        "id": "HSTdAbcDnj7w",
        "colab_type": "code",
        "colab": {}
      },
      "cell_type": "code",
      "source": [
        "test_extracted_features_df = to_extracted_features(test_normalized_feature_dict_1000, model)\n",
        "grants_extracted_features_df = to_extracted_features(grants_normalized_feature_dict_2000, model)\n",
        "ten_sim_dict = create_sim_dict(test_extracted_features_df, grants_extracted_features_df)"
      ],
      "execution_count": 0,
      "outputs": []
    },
    {
      "metadata": {
        "id": "dyOSBS-EnjoQ",
        "colab_type": "code",
        "colab": {
          "base_uri": "https://localhost:8080/",
          "height": 55
        },
        "outputId": "ec2a2ace-e4bd-4156-d96e-0e2b2f6c208b"
      },
      "cell_type": "code",
      "source": [
        "counter = calc_all_ranks_counter(test_extracted_features_df['doc_id'], ten_sim_dict)\n",
        "print(counter)"
      ],
      "execution_count": 233,
      "outputs": [
        {
          "output_type": "stream",
          "text": [
            "Counter({1: 137, 2: 60, 3: 42, 4: 42, 7: 26, 5: 23, 6: 23, 9: 20, 8: 15, 11: 15, 10: 14, 23: 13, 15: 12, 18: 11, 14: 11, 12: 9, 59: 9, 20: 8, 55: 8, 26: 8, 16: 8, 19: 7, 49: 7, 38: 7, 17: 7, 22: 7, 35: 7, 56: 7, 43: 7, 32: 7, 25: 7, 13: 6, 77: 6, 24: 6, 34: 6, 30: 6, 48: 6, 39: 6, 61: 6, 42: 5, 21: 5, 40: 5, 58: 5, 27: 5, 69: 5, 72: 5, 29: 5, 80: 5, 36: 5, 143: 4, 146: 4, 75: 4, 33: 4, 65: 4, 54: 4, 71: 4, 50: 4, 37: 4, 46: 4, 31: 4, 63: 4, 92: 3, 68: 3, 103: 3, 94: 3, 145: 3, 60: 3, 82: 3, 170: 3, 109: 3, 123: 3, 62: 3, 227: 3, 126: 3, 90: 3, 99: 3, 288: 3, 147: 3, 52: 3, 98: 3, 28: 3, 174: 3, 249: 3, 137: 3, 47: 3, 121: 2, 86: 2, 155: 2, 87: 2, 144: 2, 51: 2, 177: 2, 599: 2, 141: 2, 1199: 2, 214: 2, 101: 2, 135: 2, 256: 2, 344: 2, 108: 2, 136: 2, 436: 2, 79: 2, 70: 2, 226: 2, 930: 2, 89: 2, 743: 2, 53: 2, 201: 2, 215: 2, 2400: 2, 618: 2, 298: 2, 225: 2, 166: 2, 128: 2, 468: 2, 57: 2, 186: 2, 102: 2, 326: 2, 66: 2, 1224: 2, 267: 2, 369: 2, 78: 2, 786: 2, 100: 2, 152: 2, 591: 2, 164: 2, 156: 2, 232: 2, 309: 2, 64: 2, 335: 2, 85: 2, 134: 2, 154: 2, 804: 2, 395: 2, 594: 2, 93: 2, 127: 2, 512: 2, 240: 2, 41: 2, 435: 2, 539: 2, 119: 2, 208: 2, 315: 2, 194: 2, 115: 2, 110: 2, 116: 2, 321: 2, 293: 2, 142: 2, 231: 2, 246: 1, 1252: 1, 1423: 1, 434: 1, 1263: 1, 133: 1, 1167: 1, 2185: 1, 544: 1, 273: 1, 2382: 1, 545: 1, 535: 1, 401: 1, 790: 1, 723: 1, 1035: 1, 648: 1, 257: 1, 653: 1, 566: 1, 567: 1, 1649: 1, 191: 1, 44: 1, 1857: 1, 1241: 1, 1393: 1, 1421: 1, 199: 1, 67: 1, 1396: 1, 230: 1, 118: 1, 624: 1, 1665: 1, 844: 1, 74: 1, 2315: 1, 952: 1, 687: 1, 1676: 1, 1869: 1, 266: 1, 210: 1, 299: 1, 584: 1, 160: 1, 112: 1, 438: 1, 454: 1, 175: 1, 955: 1, 386: 1, 343: 1, 427: 1, 477: 1, 1112: 1, 1341: 1, 1143: 1, 1259: 1, 2040: 1, 234: 1, 791: 1, 1531: 1, 1958: 1, 1994: 1, 489: 1, 158: 1, 666: 1, 1370: 1, 945: 1, 651: 1, 391: 1, 399: 1, 829: 1, 613: 1, 514: 1, 1679: 1, 414: 1, 398: 1, 1842: 1, 2252: 1, 294: 1, 1593: 1, 252: 1, 921: 1, 1352: 1, 2177: 1, 251: 1, 172: 1, 114: 1, 400: 1, 45: 1, 640: 1, 1009: 1, 882: 1, 503: 1, 1243: 1, 130: 1, 1082: 1, 1449: 1, 884: 1, 447: 1, 830: 1, 129: 1, 289: 1, 91: 1, 1606: 1, 185: 1, 364: 1, 2004: 1, 187: 1, 233: 1, 276: 1, 637: 1, 97: 1, 657: 1, 1006: 1, 327: 1, 113: 1, 270: 1, 573: 1, 271: 1, 171: 1, 235: 1, 659: 1, 76: 1, 458: 1, 2110: 1, 1872: 1, 2006: 1, 587: 1, 389: 1, 297: 1, 1212: 1, 831: 1, 2280: 1, 665: 1, 1566: 1, 313: 1, 260: 1, 120: 1, 623: 1, 420: 1, 701: 1, 601: 1, 650: 1, 523: 1, 2438: 1, 977: 1, 268: 1, 1217: 1, 2120: 1, 502: 1, 763: 1, 1780: 1, 933: 1, 211: 1, 877: 1, 253: 1, 647: 1, 106: 1, 705: 1, 221: 1, 1024: 1, 490: 1, 361: 1, 501: 1, 1207: 1, 88: 1, 139: 1, 2275: 1, 132: 1, 1016: 1, 229: 1, 1630: 1, 2081: 1, 195: 1, 2462: 1, 1014: 1, 872: 1, 418: 1, 966: 1, 150: 1, 2000: 1, 943: 1, 415: 1, 73: 1, 1027: 1, 209: 1, 596: 1, 96: 1, 452: 1, 202: 1, 1125: 1, 382: 1, 1021: 1, 1322: 1, 460: 1, 1572: 1, 823: 1, 455: 1, 1120: 1, 863: 1, 985: 1, 538: 1, 323: 1, 1894: 1, 1208: 1, 1896: 1, 718: 1, 815: 1, 1135: 1, 1138: 1, 205: 1, 663: 1, 95: 1, 495: 1, 685: 1, 363: 1, 368: 1, 996: 1, 727: 1, 180: 1, 989: 1, 461: 1, 1213: 1, 107: 1, 117: 1, 471: 1, 1475: 1, 397: 1, 1184: 1, 217: 1, 370: 1, 1344: 1, 824: 1, 755: 1, 2284: 1, 644: 1, 1356: 1, 2228: 1, 324: 1, 341: 1, 448: 1, 192: 1, 242: 1, 243: 1, 522: 1, 2195: 1, 238: 1, 692: 1, 542: 1, 529: 1, 729: 1, 486: 1, 384: 1, 1946: 1, 318: 1, 485: 1, 652: 1, 2189: 1, 333: 1, 764: 1, 430: 1, 220: 1, 1132: 1, 138: 1, 828: 1, 845: 1, 387: 1, 431: 1, 526: 1, 223: 1, 518: 1, 467: 1, 224: 1, 1382: 1, 212: 1, 247: 1, 84: 1, 351: 1, 358: 1, 347: 1, 216: 1, 1867: 1, 168: 1, 159: 1, 1834: 1, 1440: 1, 479: 1, 122: 1, 308: 1, 261: 1})\n"
          ],
          "name": "stdout"
        }
      ]
    },
    {
      "metadata": {
        "id": "fx6BgP0npONG",
        "colab_type": "text"
      },
      "cell_type": "markdown",
      "source": [
        "Training is not enough?"
      ]
    },
    {
      "metadata": {
        "id": "C4i1TDq5n1jm",
        "colab_type": "code",
        "colab": {
          "base_uri": "https://localhost:8080/",
          "height": 141
        },
        "outputId": "c82a548f-2821-449c-cd7b-7402d82ae295"
      },
      "cell_type": "code",
      "source": [
        "sidx, eidx = 1900, 2000\n",
        "print(\"   start index: {}, end index: {}\".format(sidx,eidx))\n",
        "train_with_changing_negative_pair_with_loss(sidx, eidx, tripletloss_pos_10times, batch_size=10, epochs=51)"
      ],
      "execution_count": 234,
      "outputs": [
        {
          "output_type": "stream",
          "text": [
            "   start index: 1900, end index: 2000\n",
            "Loss at step 0: 0.25474\n",
            "Loss at step 10: 0.25733\n",
            "Loss at step 20: 0.25183\n",
            "Loss at step 30: 0.24196\n",
            "Loss at step 40: 0.23452\n",
            "Loss at step 50: 0.23559\n"
          ],
          "name": "stdout"
        }
      ]
    },
    {
      "metadata": {
        "id": "2zIZzJCgpC3f",
        "colab_type": "code",
        "colab": {}
      },
      "cell_type": "code",
      "source": [
        "test_extracted_features_df = to_extracted_features(test_normalized_feature_dict_1000, model)\n",
        "grants_extracted_features_df = to_extracted_features(grants_normalized_feature_dict_2000, model)\n",
        "ten_sim_dict = create_sim_dict(test_extracted_features_df, grants_extracted_features_df)"
      ],
      "execution_count": 0,
      "outputs": []
    },
    {
      "metadata": {
        "id": "AmKdnddapCoT",
        "colab_type": "code",
        "colab": {
          "base_uri": "https://localhost:8080/",
          "height": 55
        },
        "outputId": "ec3baf43-fc67-43ce-df2e-6524f5a8cf6d"
      },
      "cell_type": "code",
      "source": [
        "counter = calc_all_ranks_counter(test_extracted_features_df['doc_id'], ten_sim_dict)\n",
        "print(counter)"
      ],
      "execution_count": 236,
      "outputs": [
        {
          "output_type": "stream",
          "text": [
            "Counter({1: 145, 2: 64, 3: 52, 4: 34, 5: 28, 6: 25, 9: 24, 11: 22, 7: 19, 12: 17, 8: 16, 25: 14, 10: 12, 22: 10, 18: 10, 28: 10, 16: 10, 19: 9, 26: 9, 14: 9, 43: 9, 33: 9, 61: 7, 15: 7, 35: 7, 56: 7, 41: 7, 24: 7, 17: 7, 48: 7, 20: 7, 65: 6, 42: 6, 32: 6, 57: 6, 39: 6, 54: 6, 180: 6, 31: 6, 13: 6, 60: 6, 29: 6, 58: 5, 49: 5, 102: 5, 37: 5, 105: 5, 191: 5, 88: 4, 69: 4, 27: 4, 79: 4, 23: 4, 40: 4, 52: 4, 86: 4, 38: 4, 76: 4, 62: 4, 113: 4, 629: 3, 218: 3, 270: 3, 21: 3, 87: 3, 148: 3, 64: 3, 562: 3, 45: 3, 141: 3, 116: 3, 46: 3, 85: 3, 78: 3, 92: 3, 89: 3, 172: 3, 77: 3, 104: 3, 106: 3, 47: 3, 59: 3, 167: 3, 96: 3, 185: 3, 55: 3, 66: 3, 833: 2, 97: 2, 698: 2, 238: 2, 132: 2, 94: 2, 513: 2, 186: 2, 99: 2, 51: 2, 188: 2, 75: 2, 158: 2, 154: 2, 201: 2, 209: 2, 1372: 2, 208: 2, 91: 2, 125: 2, 63: 2, 112: 2, 293: 2, 567: 2, 335: 2, 1201: 2, 160: 2, 482: 2, 407: 2, 928: 2, 451: 2, 262: 2, 768: 2, 164: 2, 385: 2, 139: 2, 354: 2, 153: 2, 448: 2, 53: 2, 312: 2, 230: 2, 267: 2, 72: 2, 126: 2, 138: 2, 34: 2, 67: 2, 83: 2, 135: 2, 128: 2, 220: 2, 98: 2, 30: 2, 203: 2, 101: 2, 71: 2, 155: 2, 352: 2, 472: 2, 425: 2, 226: 2, 120: 2, 620: 2, 171: 2, 509: 2, 36: 2, 134: 2, 111: 2, 145: 2, 197: 2, 193: 2, 257: 2, 353: 1, 663: 1, 369: 1, 374: 1, 129: 1, 103: 1, 2056: 1, 264: 1, 44: 1, 2278: 1, 831: 1, 389: 1, 174: 1, 970: 1, 108: 1, 440: 1, 1907: 1, 564: 1, 1598: 1, 1146: 1, 394: 1, 194: 1, 582: 1, 849: 1, 266: 1, 584: 1, 142: 1, 625: 1, 497: 1, 1794: 1, 596: 1, 489: 1, 1270: 1, 1552: 1, 259: 1, 325: 1, 430: 1, 271: 1, 156: 1, 458: 1, 423: 1, 1153: 1, 274: 1, 814: 1, 133: 1, 568: 1, 598: 1, 1044: 1, 314: 1, 170: 1, 337: 1, 2411: 1, 284: 1, 1399: 1, 2066: 1, 1994: 1, 93: 1, 658: 1, 305: 1, 329: 1, 810: 1, 486: 1, 429: 1, 743: 1, 182: 1, 1027: 1, 366: 1, 1502: 1, 1785: 1, 1204: 1, 376: 1, 1259: 1, 1460: 1, 229: 1, 749: 1, 162: 1, 199: 1, 298: 1, 418: 1, 1132: 1, 843: 1, 1274: 1, 82: 1, 95: 1, 1612: 1, 983: 1, 439: 1, 175: 1, 118: 1, 255: 1, 70: 1, 1231: 1, 178: 1, 317: 1, 570: 1, 144: 1, 481: 1, 507: 1, 184: 1, 165: 1, 633: 1, 529: 1, 574: 1, 1304: 1, 1908: 1, 1036: 1, 319: 1, 338: 1, 1031: 1, 870: 1, 652: 1, 2249: 1, 387: 1, 349: 1, 1394: 1, 269: 1, 412: 1, 292: 1, 452: 1, 713: 1, 820: 1, 680: 1, 2327: 1, 1127: 1, 299: 1, 73: 1, 428: 1, 676: 1, 1733: 1, 195: 1, 246: 1, 755: 1, 1288: 1, 532: 1, 659: 1, 273: 1, 551: 1, 140: 1, 121: 1, 306: 1, 360: 1, 311: 1, 498: 1, 239: 1, 917: 1, 2132: 1, 577: 1, 50: 1, 212: 1, 1015: 1, 1784: 1, 181: 1, 2465: 1, 473: 1, 455: 1, 953: 1, 777: 1, 856: 1, 445: 1, 301: 1, 869: 1, 309: 1, 487: 1, 147: 1, 245: 1, 819: 1, 205: 1, 871: 1, 1290: 1, 1138: 1, 466: 1, 943: 1, 123: 1, 276: 1, 1144: 1, 399: 1, 882: 1, 1957: 1, 478: 1, 657: 1, 159: 1, 1373: 1, 666: 1, 767: 1, 1167: 1, 363: 1, 288: 1, 253: 1, 685: 1, 84: 1, 68: 1, 200: 1, 358: 1, 261: 1, 774: 1, 844: 1, 720: 1, 227: 1, 1218: 1, 995: 1, 146: 1, 547: 1, 122: 1, 339: 1, 546: 1, 1282: 1, 402: 1, 1273: 1, 664: 1, 711: 1, 2072: 1, 492: 1, 926: 1, 1767: 1, 2441: 1, 119: 1, 280: 1, 130: 1, 161: 1, 461: 1, 74: 1, 109: 1, 296: 1, 2130: 1, 693: 1, 587: 1, 417: 1, 522: 1, 80: 1, 286: 1, 2040: 1, 391: 1, 2038: 1, 302: 1, 705: 1, 555: 1, 721: 1, 173: 1, 81: 1, 232: 1, 341: 1, 543: 1, 127: 1, 563: 1, 168: 1, 390: 1, 117: 1, 234: 1, 149: 1, 673: 1, 979: 1, 378: 1, 297: 1, 206: 1, 1520: 1, 131: 1, 1430: 1, 569: 1, 435: 1, 110: 1})\n"
          ],
          "name": "stdout"
        }
      ]
    },
    {
      "metadata": {
        "id": "qMDLX0rquqnu",
        "colab_type": "text"
      },
      "cell_type": "markdown",
      "source": [
        "### More complex model"
      ]
    },
    {
      "metadata": {
        "id": "5kL8eAI_njT9",
        "colab_type": "code",
        "colab": {}
      },
      "cell_type": "code",
      "source": [
        "class ComplexModel(object):\n",
        "    def __init__(self, input_shape, output_shape1, output_shape2):\n",
        "        self.input_shape = input_shape\n",
        "        self.output_shape1 = output_shape1\n",
        "        self.output_shape2 = output_shape2\n",
        "        self.W1 = tf.Variable( tf.random_normal( [self.input_shape, self.output_shape1] ), name='weight' )\n",
        "        self.B1 = tf.Variable( tf.random_normal( [self.output_shape1] ), name='bias' ) \n",
        "        self.W2 = tf.Variable( tf.random_normal( [self.output_shape1, self.output_shape2] ), name='weight' )\n",
        "        self.B2 = tf.Variable( tf.random_normal( [self.output_shape2] ), name='bias' ) \n",
        "        self.variables = [ self.W1, self.B1, self.W2, self.B2 ]\n",
        "\n",
        "    def frwrd_pass(self,X_train):\n",
        "        out = tf.matmul( X_train, self.W1 ) + self.B1\n",
        "        out = tf.nn.relu(out)\n",
        "        out = tf.matmul( out, self.W2 ) + self.B2\n",
        "\n",
        "        return out"
      ],
      "execution_count": 0,
      "outputs": []
    },
    {
      "metadata": {
        "id": "CuKVAngovFi1",
        "colab_type": "code",
        "colab": {}
      },
      "cell_type": "code",
      "source": [
        "model = ComplexModel(input_shape=768, output_shape1=768, output_shape2=100)"
      ],
      "execution_count": 0,
      "outputs": []
    },
    {
      "metadata": {
        "id": "P7Y-RWyLvFQl",
        "colab_type": "code",
        "colab": {
          "base_uri": "https://localhost:8080/",
          "height": 70
        },
        "outputId": "4e0eec6b-3afa-4000-e334-ab2322320c01"
      },
      "cell_type": "code",
      "source": [
        "calc_loss_with_changing_negative_pair(0, 100, tripletloss_posdouble)\n",
        "calc_loss_with_changing_negative_pair(900, 1000, tripletloss_posdouble)\n",
        "calc_loss_with_changing_negative_pair(1900, 2000, tripletloss_posdouble)"
      ],
      "execution_count": 255,
      "outputs": [
        {
          "output_type": "stream",
          "text": [
            "tf.Tensor(0.15582651, shape=(), dtype=float32)\n",
            "tf.Tensor(0.21938041, shape=(), dtype=float32)\n",
            "tf.Tensor(0.24572179, shape=(), dtype=float32)\n"
          ],
          "name": "stdout"
        }
      ]
    },
    {
      "metadata": {
        "id": "nd53mNLCkg6x",
        "colab_type": "code",
        "colab": {
          "base_uri": "https://localhost:8080/",
          "height": 266
        },
        "outputId": "99c4dbfa-8e22-4622-f33d-8052ddd24af2"
      },
      "cell_type": "code",
      "source": [
        "%%time\n",
        "\n",
        "for sidx, eidx in start_end_index_pairs:\n",
        "    print(\"   start index: {}, end index: {}\".format(sidx,eidx))\n",
        "    train_with_changing_negative_pair_with_loss(sidx, eidx, tripletloss_posdouble, batch_size=10, epochs=21)"
      ],
      "execution_count": 256,
      "outputs": [
        {
          "output_type": "stream",
          "text": [
            "   start index: 0, end index: 100\n",
            "Loss at step 0: 0.16603\n",
            "Loss at step 10: 0.12623\n",
            "Loss at step 20: 0.09673\n",
            "   start index: 900, end index: 1000\n",
            "Loss at step 0: 0.24931\n",
            "Loss at step 10: 0.23911\n",
            "Loss at step 20: 0.19546\n",
            "   start index: 1900, end index: 2000\n",
            "Loss at step 0: 0.27353\n",
            "Loss at step 10: 0.25290\n",
            "Loss at step 20: 0.22856\n",
            "CPU times: user 7min 15s, sys: 9.77 s, total: 7min 25s\n",
            "Wall time: 6min 12s\n"
          ],
          "name": "stdout"
        }
      ]
    },
    {
      "metadata": {
        "id": "-1nXWKRPv7Au",
        "colab_type": "code",
        "colab": {
          "base_uri": "https://localhost:8080/",
          "height": 70
        },
        "outputId": "54c5e376-00fb-4b55-d65e-49d2feb9a3cc"
      },
      "cell_type": "code",
      "source": [
        "calc_loss_with_changing_negative_pair(0, 100, tripletloss_posdouble)\n",
        "calc_loss_with_changing_negative_pair(900, 1000, tripletloss_posdouble)\n",
        "calc_loss_with_changing_negative_pair(1900, 2000, tripletloss_posdouble)"
      ],
      "execution_count": 257,
      "outputs": [
        {
          "output_type": "stream",
          "text": [
            "tf.Tensor(0.09658408, shape=(), dtype=float32)\n",
            "tf.Tensor(0.16320944, shape=(), dtype=float32)\n",
            "tf.Tensor(0.21651158, shape=(), dtype=float32)\n"
          ],
          "name": "stdout"
        }
      ]
    },
    {
      "metadata": {
        "id": "jmmai5VtxB2C",
        "colab_type": "code",
        "colab": {}
      },
      "cell_type": "code",
      "source": [
        "test_extracted_features_df = to_extracted_features(test_normalized_feature_dict_1000, model)\n",
        "grants_extracted_features_df = to_extracted_features(grants_normalized_feature_dict_2000, model)\n",
        "complex_sim_dict = create_sim_dict(test_extracted_features_df, grants_extracted_features_df)"
      ],
      "execution_count": 0,
      "outputs": []
    },
    {
      "metadata": {
        "id": "g_xNZuT9xBgd",
        "colab_type": "code",
        "colab": {
          "base_uri": "https://localhost:8080/",
          "height": 55
        },
        "outputId": "da92608d-3bd2-4a8b-ac85-e0a5b2504bae"
      },
      "cell_type": "code",
      "source": [
        "counter = calc_all_ranks_counter(test_extracted_features_df['doc_id'], complex_sim_dict)\n",
        "print(counter)"
      ],
      "execution_count": 259,
      "outputs": [
        {
          "output_type": "stream",
          "text": [
            "Counter({1: 124, 2: 58, 3: 41, 6: 28, 4: 28, 5: 27, 8: 25, 7: 20, 18: 15, 14: 14, 9: 13, 10: 12, 13: 12, 21: 11, 12: 10, 17: 10, 35: 10, 42: 9, 11: 9, 15: 9, 40: 9, 19: 9, 28: 9, 27: 9, 53: 8, 32: 8, 20: 8, 49: 7, 29: 7, 41: 7, 37: 7, 16: 7, 25: 7, 43: 7, 26: 6, 50: 6, 58: 6, 24: 6, 73: 6, 47: 6, 142: 6, 34: 5, 75: 5, 22: 5, 23: 5, 135: 5, 33: 5, 111: 5, 92: 5, 107: 5, 38: 5, 44: 5, 110: 4, 60: 4, 138: 4, 74: 4, 57: 4, 126: 4, 62: 4, 103: 4, 31: 4, 56: 4, 91: 4, 175: 4, 221: 4, 67: 4, 127: 4, 72: 4, 61: 4, 100: 3, 30: 3, 39: 3, 106: 3, 183: 3, 55: 3, 81: 3, 125: 3, 166: 3, 120: 3, 117: 3, 84: 3, 136: 3, 102: 3, 69: 3, 139: 3, 59: 3, 70: 3, 63: 3, 104: 3, 325: 3, 361: 3, 485: 3, 370: 3, 130: 3, 98: 3, 66: 3, 77: 3, 244: 3, 425: 3, 95: 3, 105: 3, 205: 3, 82: 3, 508: 3, 71: 3, 113: 2, 64: 2, 1851: 2, 354: 2, 184: 2, 240: 2, 87: 2, 268: 2, 89: 2, 172: 2, 218: 2, 115: 2, 122: 2, 83: 2, 118: 2, 153: 2, 51: 2, 358: 2, 146: 2, 133: 2, 754: 2, 333: 2, 152: 2, 79: 2, 206: 2, 114: 2, 441: 2, 52: 2, 231: 2, 215: 2, 68: 2, 223: 2, 271: 2, 332: 2, 969: 2, 156: 2, 76: 2, 324: 2, 224: 2, 270: 2, 148: 2, 99: 2, 65: 2, 46: 2, 488: 2, 345: 2, 222: 2, 211: 2, 729: 2, 78: 2, 90: 2, 108: 2, 289: 2, 282: 2, 220: 2, 143: 2, 545: 2, 45: 2, 561: 2, 167: 2, 212: 2, 616: 2, 365: 2, 151: 2, 80: 2, 229: 2, 147: 2, 385: 2, 116: 1, 1184: 1, 1277: 1, 1473: 1, 112: 1, 311: 1, 145: 1, 2248: 1, 320: 1, 804: 1, 598: 1, 1296: 1, 288: 1, 920: 1, 188: 1, 979: 1, 334: 1, 316: 1, 154: 1, 364: 1, 331: 1, 1464: 1, 849: 1, 982: 1, 417: 1, 1200: 1, 592: 1, 119: 1, 700: 1, 309: 1, 387: 1, 1893: 1, 380: 1, 646: 1, 409: 1, 612: 1, 1179: 1, 1873: 1, 207: 1, 554: 1, 532: 1, 330: 1, 814: 1, 185: 1, 176: 1, 744: 1, 322: 1, 1530: 1, 356: 1, 584: 1, 739: 1, 437: 1, 1306: 1, 347: 1, 566: 1, 155: 1, 2346: 1, 961: 1, 2075: 1, 1584: 1, 36: 1, 964: 1, 873: 1, 86: 1, 189: 1, 187: 1, 150: 1, 745: 1, 855: 1, 420: 1, 465: 1, 1398: 1, 608: 1, 1035: 1, 457: 1, 464: 1, 195: 1, 192: 1, 200: 1, 862: 1, 575: 1, 248: 1, 2272: 1, 415: 1, 834: 1, 123: 1, 469: 1, 562: 1, 247: 1, 252: 1, 88: 1, 578: 1, 299: 1, 844: 1, 423: 1, 272: 1, 384: 1, 1455: 1, 498: 1, 319: 1, 379: 1, 928: 1, 161: 1, 261: 1, 349: 1, 274: 1, 159: 1, 48: 1, 848: 1, 214: 1, 93: 1, 1402: 1, 158: 1, 516: 1, 1301: 1, 190: 1, 702: 1, 1043: 1, 1195: 1, 1017: 1, 360: 1, 557: 1, 281: 1, 296: 1, 1254: 1, 109: 1, 1799: 1, 428: 1, 1299: 1, 518: 1, 771: 1, 149: 1, 343: 1, 257: 1, 273: 1, 789: 1, 140: 1, 97: 1, 204: 1, 661: 1, 685: 1, 560: 1, 470: 1, 1889: 1, 132: 1, 171: 1, 1044: 1, 1072: 1, 621: 1, 341: 1, 381: 1, 1992: 1, 216: 1, 101: 1, 439: 1, 1518: 1, 499: 1, 275: 1, 435: 1, 424: 1, 539: 1, 440: 1, 670: 1, 507: 1, 1170: 1, 884: 1, 686: 1, 301: 1, 96: 1, 225: 1, 760: 1, 427: 1, 1964: 1, 54: 1, 280: 1, 362: 1, 1295: 1, 1638: 1, 809: 1, 987: 1, 506: 1, 710: 1, 446: 1, 197: 1, 141: 1, 209: 1, 170: 1, 1409: 1, 1019: 1, 823: 1, 568: 1, 1706: 1, 284: 1, 654: 1, 305: 1, 1763: 1, 397: 1, 1961: 1, 662: 1, 1958: 1, 202: 1, 474: 1, 1809: 1, 134: 1, 157: 1, 794: 1, 432: 1, 1022: 1, 251: 1, 237: 1, 1860: 1, 194: 1, 276: 1, 467: 1, 1121: 1, 258: 1, 169: 1, 266: 1, 1396: 1, 196: 1, 2347: 1, 411: 1, 137: 1, 408: 1, 182: 1, 497: 1, 1101: 1, 241: 1, 868: 1, 480: 1, 529: 1, 980: 1, 513: 1, 342: 1, 1508: 1, 1138: 1, 410: 1, 124: 1, 455: 1, 236: 1, 571: 1, 1416: 1, 544: 1, 1870: 1, 512: 1, 735: 1, 164: 1, 262: 1})\n"
          ],
          "name": "stdout"
        }
      ]
    },
    {
      "metadata": {
        "id": "Bi5iSLlUwmSV",
        "colab_type": "code",
        "colab": {}
      },
      "cell_type": "code",
      "source": [
        "# more training"
      ],
      "execution_count": 0,
      "outputs": []
    },
    {
      "metadata": {
        "id": "iYhbyhZmwmCK",
        "colab_type": "code",
        "colab": {
          "base_uri": "https://localhost:8080/",
          "height": 141
        },
        "outputId": "2ae05508-a9cb-425d-c490-231b0541ed19"
      },
      "cell_type": "code",
      "source": [
        "sidx, eidx = 1900, 2000\n",
        "print(\"   start index: {}, end index: {}\".format(sidx,eidx))\n",
        "train_with_changing_negative_pair_with_loss(sidx, eidx, tripletloss_posdouble, batch_size=10, epochs=51)"
      ],
      "execution_count": 261,
      "outputs": [
        {
          "output_type": "stream",
          "text": [
            "   start index: 1900, end index: 2000\n",
            "Loss at step 0: 0.24226\n",
            "Loss at step 10: 0.23347\n",
            "Loss at step 20: 0.21081\n",
            "Loss at step 30: 0.23898\n",
            "Loss at step 40: 0.19872\n",
            "Loss at step 50: 0.19460\n"
          ],
          "name": "stdout"
        }
      ]
    },
    {
      "metadata": {
        "id": "jA3wPEZsy4-3",
        "colab_type": "code",
        "colab": {
          "base_uri": "https://localhost:8080/",
          "height": 70
        },
        "outputId": "bb72e46f-d4e4-4c9b-f416-3059d07b9db5"
      },
      "cell_type": "code",
      "source": [
        "calc_loss_with_changing_negative_pair(0, 100, tripletloss_posdouble)\n",
        "calc_loss_with_changing_negative_pair(900, 1000, tripletloss_posdouble)\n",
        "calc_loss_with_changing_negative_pair(1900, 2000, tripletloss_posdouble)"
      ],
      "execution_count": 262,
      "outputs": [
        {
          "output_type": "stream",
          "text": [
            "tf.Tensor(0.082761444, shape=(), dtype=float32)\n",
            "tf.Tensor(0.09500242, shape=(), dtype=float32)\n",
            "tf.Tensor(0.1655381, shape=(), dtype=float32)\n"
          ],
          "name": "stdout"
        }
      ]
    },
    {
      "metadata": {
        "id": "jGCBDNoLy4e4",
        "colab_type": "code",
        "colab": {
          "base_uri": "https://localhost:8080/",
          "height": 55
        },
        "outputId": "5904fc44-03a4-4386-d5e6-f7e08563d357"
      },
      "cell_type": "code",
      "source": [
        "counter = calc_all_ranks_counter(test_extracted_features_df['doc_id'], complex_sim_dict)\n",
        "print(counter)"
      ],
      "execution_count": 263,
      "outputs": [
        {
          "output_type": "stream",
          "text": [
            "Counter({1: 124, 2: 58, 3: 41, 6: 28, 4: 28, 5: 27, 8: 25, 7: 20, 18: 15, 14: 14, 9: 13, 10: 12, 13: 12, 21: 11, 12: 10, 17: 10, 35: 10, 42: 9, 11: 9, 15: 9, 40: 9, 19: 9, 28: 9, 27: 9, 53: 8, 32: 8, 20: 8, 49: 7, 29: 7, 41: 7, 37: 7, 16: 7, 25: 7, 43: 7, 26: 6, 50: 6, 58: 6, 24: 6, 73: 6, 47: 6, 142: 6, 34: 5, 75: 5, 22: 5, 23: 5, 135: 5, 33: 5, 111: 5, 92: 5, 107: 5, 38: 5, 44: 5, 110: 4, 60: 4, 138: 4, 74: 4, 57: 4, 126: 4, 62: 4, 103: 4, 31: 4, 56: 4, 91: 4, 175: 4, 221: 4, 67: 4, 127: 4, 72: 4, 61: 4, 100: 3, 30: 3, 39: 3, 106: 3, 183: 3, 55: 3, 81: 3, 125: 3, 166: 3, 120: 3, 117: 3, 84: 3, 136: 3, 102: 3, 69: 3, 139: 3, 59: 3, 70: 3, 63: 3, 104: 3, 325: 3, 361: 3, 485: 3, 370: 3, 130: 3, 98: 3, 66: 3, 77: 3, 244: 3, 425: 3, 95: 3, 105: 3, 205: 3, 82: 3, 508: 3, 71: 3, 113: 2, 64: 2, 1851: 2, 354: 2, 184: 2, 240: 2, 87: 2, 268: 2, 89: 2, 172: 2, 218: 2, 115: 2, 122: 2, 83: 2, 118: 2, 153: 2, 51: 2, 358: 2, 146: 2, 133: 2, 754: 2, 333: 2, 152: 2, 79: 2, 206: 2, 114: 2, 441: 2, 52: 2, 231: 2, 215: 2, 68: 2, 223: 2, 271: 2, 332: 2, 969: 2, 156: 2, 76: 2, 324: 2, 224: 2, 270: 2, 148: 2, 99: 2, 65: 2, 46: 2, 488: 2, 345: 2, 222: 2, 211: 2, 729: 2, 78: 2, 90: 2, 108: 2, 289: 2, 282: 2, 220: 2, 143: 2, 545: 2, 45: 2, 561: 2, 167: 2, 212: 2, 616: 2, 365: 2, 151: 2, 80: 2, 229: 2, 147: 2, 385: 2, 116: 1, 1184: 1, 1277: 1, 1473: 1, 112: 1, 311: 1, 145: 1, 2248: 1, 320: 1, 804: 1, 598: 1, 1296: 1, 288: 1, 920: 1, 188: 1, 979: 1, 334: 1, 316: 1, 154: 1, 364: 1, 331: 1, 1464: 1, 849: 1, 982: 1, 417: 1, 1200: 1, 592: 1, 119: 1, 700: 1, 309: 1, 387: 1, 1893: 1, 380: 1, 646: 1, 409: 1, 612: 1, 1179: 1, 1873: 1, 207: 1, 554: 1, 532: 1, 330: 1, 814: 1, 185: 1, 176: 1, 744: 1, 322: 1, 1530: 1, 356: 1, 584: 1, 739: 1, 437: 1, 1306: 1, 347: 1, 566: 1, 155: 1, 2346: 1, 961: 1, 2075: 1, 1584: 1, 36: 1, 964: 1, 873: 1, 86: 1, 189: 1, 187: 1, 150: 1, 745: 1, 855: 1, 420: 1, 465: 1, 1398: 1, 608: 1, 1035: 1, 457: 1, 464: 1, 195: 1, 192: 1, 200: 1, 862: 1, 575: 1, 248: 1, 2272: 1, 415: 1, 834: 1, 123: 1, 469: 1, 562: 1, 247: 1, 252: 1, 88: 1, 578: 1, 299: 1, 844: 1, 423: 1, 272: 1, 384: 1, 1455: 1, 498: 1, 319: 1, 379: 1, 928: 1, 161: 1, 261: 1, 349: 1, 274: 1, 159: 1, 48: 1, 848: 1, 214: 1, 93: 1, 1402: 1, 158: 1, 516: 1, 1301: 1, 190: 1, 702: 1, 1043: 1, 1195: 1, 1017: 1, 360: 1, 557: 1, 281: 1, 296: 1, 1254: 1, 109: 1, 1799: 1, 428: 1, 1299: 1, 518: 1, 771: 1, 149: 1, 343: 1, 257: 1, 273: 1, 789: 1, 140: 1, 97: 1, 204: 1, 661: 1, 685: 1, 560: 1, 470: 1, 1889: 1, 132: 1, 171: 1, 1044: 1, 1072: 1, 621: 1, 341: 1, 381: 1, 1992: 1, 216: 1, 101: 1, 439: 1, 1518: 1, 499: 1, 275: 1, 435: 1, 424: 1, 539: 1, 440: 1, 670: 1, 507: 1, 1170: 1, 884: 1, 686: 1, 301: 1, 96: 1, 225: 1, 760: 1, 427: 1, 1964: 1, 54: 1, 280: 1, 362: 1, 1295: 1, 1638: 1, 809: 1, 987: 1, 506: 1, 710: 1, 446: 1, 197: 1, 141: 1, 209: 1, 170: 1, 1409: 1, 1019: 1, 823: 1, 568: 1, 1706: 1, 284: 1, 654: 1, 305: 1, 1763: 1, 397: 1, 1961: 1, 662: 1, 1958: 1, 202: 1, 474: 1, 1809: 1, 134: 1, 157: 1, 794: 1, 432: 1, 1022: 1, 251: 1, 237: 1, 1860: 1, 194: 1, 276: 1, 467: 1, 1121: 1, 258: 1, 169: 1, 266: 1, 1396: 1, 196: 1, 2347: 1, 411: 1, 137: 1, 408: 1, 182: 1, 497: 1, 1101: 1, 241: 1, 868: 1, 480: 1, 529: 1, 980: 1, 513: 1, 342: 1, 1508: 1, 1138: 1, 410: 1, 124: 1, 455: 1, 236: 1, 571: 1, 1416: 1, 544: 1, 1870: 1, 512: 1, 735: 1, 164: 1, 262: 1})\n"
          ],
          "name": "stdout"
        }
      ]
    },
    {
      "metadata": {
        "id": "eVwy35es0GDf",
        "colab_type": "text"
      },
      "cell_type": "markdown",
      "source": [
        "### Conclusion\n",
        "\n",
        "Loss get lower and lower, but that does not imrpove final result."
      ]
    },
    {
      "metadata": {
        "id": "eXuUrRQGzaxg",
        "colab_type": "text"
      },
      "cell_type": "markdown",
      "source": [
        "# Investigate relation between loss and prediction score\n",
        "\n",
        "Above trial suggest minimize loss does not lead to prediction improvements.\n",
        "Is is because of overfitting? or our loss is so different from our objective?\n",
        "\n",
        "To figure out these points, I investigate relationship between loss and final counter score in training set.\n"
      ]
    },
    {
      "metadata": {
        "id": "AFn1GFQc9XlW",
        "colab_type": "text"
      },
      "cell_type": "markdown",
      "source": [
        "### Compare Identity model and normal model\n",
        "\n",
        "Motivation: raw feature result is the best.\n",
        "Is it because W and B is not properly learned? or loss is definitely lower than raw feature, but result is bad?\n",
        "\n",
        "To compare raw feature to trained model, make output dimenstion the same and calculate IdentityModel loss and compare."
      ]
    },
    {
      "metadata": {
        "id": "DpvJa0a49_5o",
        "colab_type": "code",
        "colab": {}
      },
      "cell_type": "code",
      "source": [
        "class IdentityModel(object):\n",
        "    def frwrd_pass(self,X_train):\n",
        "        return X_train"
      ],
      "execution_count": 0,
      "outputs": []
    },
    {
      "metadata": {
        "id": "UgClzG5HksSG",
        "colab_type": "code",
        "colab": {}
      },
      "cell_type": "code",
      "source": [
        "def train_one_difficulty(sidx, eidx, batch_size=10, epochs=41):\n",
        "  print(\"   start index: {}, end index: {}\".format(sidx,eidx))\n",
        "  train_with_changing_negative_pair_with_loss(sidx, eidx, tripletloss, batch_size=batch_size, epochs=epochs)\n",
        "\n",
        "def calc_loss_and_print_with_region(sidx, eidx):\n",
        "  lossavg = calc_loss_with_changing_negative_pair_without_print(sidx, eidx)\n",
        "  print(f\"{sidx}:{eidx} {lossavg}\")\n",
        "\n",
        "def print_losses():\n",
        "  calc_loss_and_print_with_region(0, 100)\n",
        "  calc_loss_and_print_with_region(100, 200)\n",
        "  calc_loss_and_print_with_region(900, 1000)\n",
        "  calc_loss_and_print_with_region(1000, 1100)\n",
        "  calc_loss_and_print_with_region(1900, 2000)\n",
        "\n",
        "  \n",
        "def model_to_counter(model):\n",
        "  test_extracted_features_df = to_extracted_features(test_normalized_feature_dict_1000, model)\n",
        "  grants_extracted_features_df = to_extracted_features(grants_normalized_feature_dict_2000, model)\n",
        "  result_sim_dict = create_sim_dict(test_extracted_features_df, grants_extracted_features_df)\n",
        "  return calc_all_ranks_counter(test_extracted_features_df['doc_id'], result_sim_dict)"
      ],
      "execution_count": 0,
      "outputs": []
    },
    {
      "metadata": {
        "id": "zOZa8VB995a6",
        "colab_type": "code",
        "colab": {}
      },
      "cell_type": "code",
      "source": [
        "model = IdentityModel()"
      ],
      "execution_count": 0,
      "outputs": []
    },
    {
      "metadata": {
        "id": "2OZJ32Xu-Me9",
        "colab_type": "code",
        "colab": {
          "base_uri": "https://localhost:8080/",
          "height": 144
        },
        "outputId": "1106b4b5-113e-431f-ca03-ff83d004f324"
      },
      "cell_type": "code",
      "source": [
        "calc_loss_with_changing_negative_pair(0, 100)\n",
        "calc_loss_with_changing_negative_pair(900, 1000)\n",
        "calc_loss_with_changing_negative_pair(1900, 2000)"
      ],
      "execution_count": 35,
      "outputs": [
        {
          "output_type": "stream",
          "text": [
            "WARNING:tensorflow:From /usr/local/lib/python3.6/dist-packages/tensorflow/python/ops/losses/losses_impl.py:331: to_float (from tensorflow.python.ops.math_ops) is deprecated and will be removed in a future version.\n",
            "Instructions for updating:\n",
            "Use tf.cast instead.\n",
            "tf.Tensor(0.0033903401, shape=(), dtype=float32)\n",
            "tf.Tensor(0.055143323, shape=(), dtype=float32)\n",
            "tf.Tensor(0.11747384, shape=(), dtype=float32)\n"
          ],
          "name": "stdout"
        }
      ]
    },
    {
      "metadata": {
        "id": "HB7SYFx4-L3_",
        "colab_type": "code",
        "colab": {}
      },
      "cell_type": "code",
      "source": [
        ""
      ],
      "execution_count": 0,
      "outputs": []
    },
    {
      "metadata": {
        "id": "-W9Ntyg3z6SK",
        "colab_type": "code",
        "colab": {}
      },
      "cell_type": "code",
      "source": [
        "model = Model(input_shape=768, output_shape=768)"
      ],
      "execution_count": 0,
      "outputs": []
    },
    {
      "metadata": {
        "id": "wCSHwq9sz57z",
        "colab_type": "code",
        "colab": {
          "base_uri": "https://localhost:8080/",
          "height": 70
        },
        "outputId": "370adf50-9713-4692-ef58-0851b6223ecb"
      },
      "cell_type": "code",
      "source": [
        "calc_loss_with_changing_negative_pair(0, 100)\n",
        "calc_loss_with_changing_negative_pair(900, 1000)\n",
        "calc_loss_with_changing_negative_pair(1900, 2000)"
      ],
      "execution_count": 269,
      "outputs": [
        {
          "output_type": "stream",
          "text": [
            "tf.Tensor(0.036743686, shape=(), dtype=float32)\n",
            "tf.Tensor(0.12538862, shape=(), dtype=float32)\n",
            "tf.Tensor(0.16120608, shape=(), dtype=float32)\n"
          ],
          "name": "stdout"
        }
      ]
    },
    {
      "metadata": {
        "id": "BKHrqf8wwlui",
        "colab_type": "code",
        "colab": {
          "base_uri": "https://localhost:8080/",
          "height": 266
        },
        "outputId": "8e2aad18-13f1-4f14-9a63-31be8c22b223"
      },
      "cell_type": "code",
      "source": [
        "%%time\n",
        "\n",
        "for sidx, eidx in start_end_index_pairs:\n",
        "    print(\"   start index: {}, end index: {}\".format(sidx,eidx))\n",
        "    train_with_changing_negative_pair_with_loss(sidx, eidx, tripletloss, batch_size=10, epochs=21)"
      ],
      "execution_count": 270,
      "outputs": [
        {
          "output_type": "stream",
          "text": [
            "   start index: 0, end index: 100\n",
            "Loss at step 0: 0.04723\n",
            "Loss at step 10: 0.02497\n",
            "Loss at step 20: 0.01770\n",
            "   start index: 900, end index: 1000\n",
            "Loss at step 0: 0.11713\n",
            "Loss at step 10: 0.09884\n",
            "Loss at step 20: 0.07645\n",
            "   start index: 1900, end index: 2000\n",
            "Loss at step 0: 0.13400\n",
            "Loss at step 10: 0.10765\n",
            "Loss at step 20: 0.08786\n",
            "CPU times: user 6min 37s, sys: 8.13 s, total: 6min 45s\n",
            "Wall time: 5min 37s\n"
          ],
          "name": "stdout"
        }
      ]
    },
    {
      "metadata": {
        "id": "H2kAiuHA-0Rx",
        "colab_type": "code",
        "colab": {
          "base_uri": "https://localhost:8080/",
          "height": 70
        },
        "outputId": "bd27b4a4-5085-45ac-ae71-6a1ec7b6fdf7"
      },
      "cell_type": "code",
      "source": [
        "calc_loss_with_changing_negative_pair(0, 100)\n",
        "calc_loss_with_changing_negative_pair(900, 1000)\n",
        "calc_loss_with_changing_negative_pair(1900, 2000)"
      ],
      "execution_count": 271,
      "outputs": [
        {
          "output_type": "stream",
          "text": [
            "tf.Tensor(0.0049074353, shape=(), dtype=float32)\n",
            "tf.Tensor(0.026888654, shape=(), dtype=float32)\n",
            "tf.Tensor(0.08084515, shape=(), dtype=float32)\n"
          ],
          "name": "stdout"
        }
      ]
    },
    {
      "metadata": {
        "id": "ETdW0nS3AP9-",
        "colab_type": "text"
      },
      "cell_type": "markdown",
      "source": [
        "For easy case, Identity model is better, overall, trained model seems a little better.\n",
        "\n",
        "The definition of \"easy\" is based on raw feature, so this result might reasonable."
      ]
    },
    {
      "metadata": {
        "id": "6N_qnJnk-zfh",
        "colab_type": "code",
        "colab": {}
      },
      "cell_type": "code",
      "source": [
        "test_extracted_features_df = to_extracted_features(test_normalized_feature_dict_1000, model)\n",
        "grants_extracted_features_df = to_extracted_features(grants_normalized_feature_dict_2000, model)\n",
        "result_sim_dict = create_sim_dict(test_extracted_features_df, grants_extracted_features_df)"
      ],
      "execution_count": 0,
      "outputs": []
    },
    {
      "metadata": {
        "id": "sU3TNtVuArPf",
        "colab_type": "code",
        "colab": {
          "base_uri": "https://localhost:8080/",
          "height": 55
        },
        "outputId": "c0e0476b-a53c-4625-a176-c50bcf6f12fa"
      },
      "cell_type": "code",
      "source": [
        "counter = calc_all_ranks_counter(test_extracted_features_df['doc_id'], result_sim_dict)\n",
        "print(counter)"
      ],
      "execution_count": 273,
      "outputs": [
        {
          "output_type": "stream",
          "text": [
            "Counter({1: 183, 2: 83, 3: 51, 5: 37, 6: 27, 4: 23, 7: 21, 11: 16, 16: 16, 10: 15, 15: 14, 9: 13, 8: 13, 13: 12, 12: 12, 14: 12, 20: 10, 21: 10, 17: 10, 19: 8, 24: 8, 22: 8, 18: 7, 41: 7, 44: 7, 48: 7, 38: 7, 40: 7, 27: 7, 35: 7, 91: 6, 25: 6, 47: 6, 52: 6, 29: 6, 69: 6, 31: 6, 28: 6, 73: 5, 34: 5, 50: 5, 56: 5, 74: 5, 72: 5, 23: 5, 70: 5, 30: 5, 51: 5, 33: 4, 176: 4, 90: 4, 62: 4, 46: 4, 32: 4, 42: 4, 71: 4, 57: 4, 49: 4, 36: 4, 121: 4, 97: 4, 45: 4, 109: 4, 101: 3, 95: 3, 194: 3, 225: 3, 43: 3, 294: 3, 107: 3, 105: 3, 79: 3, 39: 3, 168: 3, 110: 3, 205: 3, 131: 3, 63: 3, 26: 3, 164: 3, 145: 3, 59: 3, 125: 3, 133: 3, 83: 3, 65: 3, 111: 2, 85: 2, 108: 2, 183: 2, 75: 2, 928: 2, 106: 2, 114: 2, 411: 2, 216: 2, 94: 2, 127: 2, 82: 2, 189: 2, 68: 2, 578: 2, 214: 2, 231: 2, 293: 2, 67: 2, 549: 2, 288: 2, 269: 2, 53: 2, 732: 2, 64: 2, 151: 2, 1314: 2, 103: 2, 879: 2, 122: 2, 346: 2, 224: 2, 219: 2, 126: 2, 499: 2, 159: 2, 77: 2, 160: 2, 254: 2, 366: 2, 342: 2, 76: 2, 61: 2, 270: 2, 96: 2, 206: 2, 104: 2, 281: 2, 809: 2, 144: 2, 55: 2, 511: 2, 220: 2, 58: 2, 1116: 1, 1183: 1, 718: 1, 1767: 1, 2123: 1, 238: 1, 1384: 1, 123: 1, 480: 1, 1399: 1, 143: 1, 559: 1, 130: 1, 532: 1, 368: 1, 113: 1, 185: 1, 1174: 1, 515: 1, 1799: 1, 134: 1, 1235: 1, 1149: 1, 156: 1, 1216: 1, 276: 1, 2232: 1, 1840: 1, 203: 1, 1047: 1, 1453: 1, 92: 1, 440: 1, 139: 1, 262: 1, 780: 1, 313: 1, 632: 1, 617: 1, 265: 1, 1713: 1, 99: 1, 286: 1, 621: 1, 284: 1, 687: 1, 909: 1, 115: 1, 834: 1, 256: 1, 2369: 1, 211: 1, 797: 1, 212: 1, 1356: 1, 474: 1, 147: 1, 1108: 1, 1861: 1, 1153: 1, 190: 1, 167: 1, 857: 1, 1134: 1, 232: 1, 420: 1, 364: 1, 309: 1, 1707: 1, 1788: 1, 1221: 1, 86: 1, 1401: 1, 404: 1, 306: 1, 329: 1, 470: 1, 639: 1, 496: 1, 187: 1, 1793: 1, 434: 1, 191: 1, 803: 1, 501: 1, 659: 1, 304: 1, 239: 1, 100: 1, 112: 1, 510: 1, 2238: 1, 299: 1, 365: 1, 592: 1, 285: 1, 330: 1, 567: 1, 951: 1, 154: 1, 208: 1, 136: 1, 322: 1, 229: 1, 245: 1, 272: 1, 678: 1, 1988: 1, 1146: 1, 828: 1, 93: 1, 552: 1, 477: 1, 320: 1, 1761: 1, 98: 1, 1188: 1, 869: 1, 459: 1, 826: 1, 471: 1, 37: 1, 146: 1, 664: 1, 914: 1, 282: 1, 210: 1, 357: 1, 2101: 1, 476: 1, 1650: 1, 1972: 1, 376: 1, 447: 1, 347: 1, 116: 1, 373: 1, 1630: 1, 616: 1, 88: 1, 751: 1, 310: 1, 388: 1, 726: 1, 81: 1, 138: 1, 1225: 1, 242: 1, 761: 1, 1236: 1, 80: 1, 1912: 1, 326: 1, 199: 1, 1404: 1, 1129: 1, 117: 1, 325: 1, 1248: 1, 137: 1, 382: 1, 727: 1, 957: 1, 314: 1, 444: 1, 1111: 1, 140: 1, 198: 1, 1530: 1, 318: 1, 696: 1, 213: 1, 1683: 1, 204: 1, 1205: 1, 300: 1, 1117: 1, 1478: 1, 2193: 1, 66: 1, 1317: 1, 421: 1, 1352: 1, 403: 1, 163: 1, 84: 1, 295: 1, 572: 1, 298: 1, 165: 1, 78: 1, 60: 1, 132: 1, 297: 1, 1757: 1, 537: 1, 1333: 1, 585: 1, 1709: 1, 412: 1, 2239: 1, 597: 1, 370: 1, 2083: 1, 222: 1, 2279: 1, 223: 1, 626: 1, 230: 1, 340: 1, 429: 1, 235: 1, 521: 1, 703: 1, 700: 1, 264: 1, 1924: 1, 119: 1, 423: 1, 737: 1, 128: 1, 406: 1, 475: 1, 332: 1, 416: 1, 443: 1, 2032: 1, 255: 1, 289: 1, 582: 1, 842: 1, 546: 1, 442: 1, 463: 1, 699: 1, 241: 1, 178: 1, 150: 1, 394: 1, 149: 1, 402: 1, 466: 1, 715: 1, 316: 1, 148: 1, 473: 1, 1000: 1, 479: 1, 179: 1, 1936: 1, 1702: 1, 1200: 1, 393: 1, 392: 1, 166: 1, 383: 1})\n"
          ],
          "name": "stdout"
        }
      ]
    },
    {
      "metadata": {
        "id": "MIAli3R-A1P2",
        "colab_type": "code",
        "colab": {}
      },
      "cell_type": "code",
      "source": [
        ""
      ],
      "execution_count": 0,
      "outputs": []
    },
    {
      "metadata": {
        "id": "hMuFZejOA2Pp",
        "colab_type": "code",
        "colab": {}
      },
      "cell_type": "code",
      "source": [
        "identity_model = IdentityModel()"
      ],
      "execution_count": 0,
      "outputs": []
    },
    {
      "metadata": {
        "id": "GuXqAkjOAq9p",
        "colab_type": "code",
        "colab": {}
      },
      "cell_type": "code",
      "source": [
        "identity_test_extracted_features_df = to_extracted_features(test_normalized_feature_dict_1000, identity_model)\n",
        "identity_grants_extracted_features_df = to_extracted_features(grants_normalized_feature_dict_2000, identity_model)\n",
        "identity_result_sim_dict = create_sim_dict(identity_test_extracted_features_df, identity_grants_extracted_features_df)"
      ],
      "execution_count": 0,
      "outputs": []
    },
    {
      "metadata": {
        "id": "1XKGuUWpv6nu",
        "colab_type": "code",
        "colab": {
          "base_uri": "https://localhost:8080/",
          "height": 55
        },
        "outputId": "30d83957-6372-4836-faa6-6d2acf103dd3"
      },
      "cell_type": "code",
      "source": [
        "counter = calc_all_ranks_counter(identity_test_extracted_features_df['doc_id'], identity_result_sim_dict)\n",
        "print(counter)"
      ],
      "execution_count": 276,
      "outputs": [
        {
          "output_type": "stream",
          "text": [
            "Counter({1: 178, 2: 73, 3: 46, 5: 40, 4: 38, 6: 31, 7: 19, 9: 17, 8: 16, 10: 15, 11: 13, 13: 13, 14: 13, 15: 12, 18: 12, 16: 11, 12: 10, 26: 9, 19: 9, 34: 9, 21: 8, 23: 8, 38: 7, 28: 7, 50: 6, 53: 6, 33: 6, 39: 6, 37: 6, 68: 5, 76: 5, 73: 5, 35: 5, 64: 5, 31: 5, 29: 5, 17: 5, 61: 5, 32: 5, 100: 5, 47: 5, 48: 4, 63: 4, 90: 4, 59: 4, 70: 4, 65: 4, 40: 4, 20: 4, 30: 4, 52: 4, 49: 4, 44: 4, 143: 4, 187: 3, 122: 3, 125: 3, 22: 3, 444: 3, 66: 3, 25: 3, 85: 3, 189: 3, 51: 3, 92: 3, 93: 3, 121: 3, 99: 3, 168: 3, 69: 3, 385: 3, 147: 3, 36: 3, 148: 3, 83: 3, 114: 3, 304: 3, 195: 3, 46: 3, 43: 3, 57: 3, 97: 2, 75: 2, 163: 2, 264: 2, 454: 2, 130: 2, 42: 2, 110: 2, 78: 2, 45: 2, 258: 2, 62: 2, 126: 2, 192: 2, 183: 2, 77: 2, 378: 2, 211: 2, 181: 2, 169: 2, 67: 2, 87: 2, 88: 2, 1182: 2, 155: 2, 89: 2, 112: 2, 617: 2, 411: 2, 173: 2, 209: 2, 485: 2, 615: 2, 105: 2, 213: 2, 396: 2, 24: 2, 227: 2, 179: 2, 696: 2, 133: 2, 517: 2, 174: 2, 72: 2, 413: 2, 505: 2, 571: 2, 128: 2, 262: 2, 157: 2, 415: 2, 2394: 2, 56: 2, 41: 2, 167: 2, 376: 2, 292: 2, 134: 2, 74: 2, 184: 2, 724: 2, 131: 2, 2082: 1, 2091: 1, 1074: 1, 1566: 1, 2280: 1, 350: 1, 166: 1, 2324: 1, 84: 1, 1368: 1, 943: 1, 1593: 1, 221: 1, 983: 1, 530: 1, 1830: 1, 314: 1, 117: 1, 120: 1, 556: 1, 361: 1, 287: 1, 1708: 1, 995: 1, 1889: 1, 188: 1, 1529: 1, 2053: 1, 201: 1, 144: 1, 619: 1, 2134: 1, 111: 1, 202: 1, 2170: 1, 474: 1, 323: 1, 2370: 1, 1459: 1, 1820: 1, 2348: 1, 251: 1, 358: 1, 1461: 1, 593: 1, 521: 1, 1284: 1, 71: 1, 2101: 1, 123: 1, 523: 1, 178: 1, 225: 1, 825: 1, 1769: 1, 968: 1, 572: 1, 766: 1, 1648: 1, 2390: 1, 268: 1, 1627: 1, 835: 1, 1046: 1, 1759: 1, 1569: 1, 280: 1, 703: 1, 879: 1, 750: 1, 922: 1, 355: 1, 145: 1, 738: 1, 754: 1, 1373: 1, 351: 1, 219: 1, 1864: 1, 2207: 1, 249: 1, 1711: 1, 457: 1, 1090: 1, 1550: 1, 2122: 1, 296: 1, 1103: 1, 107: 1, 271: 1, 103: 1, 1004: 1, 1084: 1, 547: 1, 96: 1, 1406: 1, 904: 1, 1259: 1, 1254: 1, 445: 1, 154: 1, 1210: 1, 764: 1, 488: 1, 1366: 1, 598: 1, 324: 1, 1166: 1, 2447: 1, 299: 1, 537: 1, 229: 1, 2131: 1, 1551: 1, 749: 1, 459: 1, 82: 1, 139: 1, 132: 1, 1693: 1, 456: 1, 625: 1, 2179: 1, 1009: 1, 1895: 1, 104: 1, 712: 1, 344: 1, 1340: 1, 494: 1, 79: 1, 527: 1, 1987: 1, 1354: 1, 889: 1, 138: 1, 926: 1, 399: 1, 115: 1, 998: 1, 236: 1, 2443: 1, 431: 1, 1918: 1, 2115: 1, 846: 1, 58: 1, 1728: 1, 814: 1, 1346: 1, 789: 1, 206: 1, 305: 1, 151: 1, 337: 1, 1772: 1, 591: 1, 208: 1, 261: 1, 1440: 1, 118: 1, 1341: 1, 1116: 1, 60: 1, 460: 1, 250: 1, 1996: 1, 398: 1, 194: 1, 2049: 1, 771: 1, 91: 1, 2294: 1, 775: 1, 263: 1, 1231: 1, 389: 1, 729: 1, 2469: 1, 1155: 1, 210: 1, 95: 1, 313: 1, 1316: 1, 212: 1, 348: 1, 190: 1, 164: 1, 920: 1, 1802: 1, 218: 1, 786: 1, 1559: 1, 507: 1, 1640: 1, 914: 1, 1734: 1, 473: 1, 779: 1, 319: 1, 1984: 1, 153: 1, 1052: 1, 109: 1, 861: 1, 2151: 1, 2232: 1, 141: 1, 574: 1, 1643: 1, 335: 1, 106: 1, 589: 1, 216: 1, 1114: 1, 334: 1, 1073: 1, 101: 1, 328: 1, 2013: 1, 2004: 1, 160: 1, 162: 1, 599: 1, 1888: 1, 565: 1, 175: 1, 359: 1, 226: 1, 2146: 1, 1029: 1, 341: 1, 382: 1, 288: 1, 1195: 1, 2499: 1, 952: 1, 228: 1, 127: 1, 108: 1, 207: 1, 81: 1, 695: 1, 27: 1, 757: 1, 135: 1, 113: 1, 704: 1, 652: 1, 1995: 1, 318: 1, 204: 1, 541: 1, 795: 1, 645: 1, 560: 1, 524: 1, 458: 1, 2166: 1, 182: 1, 612: 1, 342: 1, 890: 1, 2374: 1, 149: 1, 333: 1, 1060: 1, 419: 1, 1078: 1, 1024: 1, 279: 1, 539: 1, 833: 1, 142: 1, 309: 1, 244: 1, 514: 1, 680: 1, 768: 1, 400: 1, 372: 1, 186: 1, 614: 1, 912: 1, 2117: 1, 2222: 1, 1610: 1, 2016: 1, 200: 1, 346: 1})\n"
          ],
          "name": "stdout"
        }
      ]
    },
    {
      "metadata": {
        "id": "JJCiyJtqBUPd",
        "colab_type": "text"
      },
      "cell_type": "markdown",
      "source": [
        "Getting better! The difference is output shape only.\n",
        "\n",
        "\n",
        "Try more training.\n",
        "\n",
        "First, I train for easy case much more. Compare to identity model,  our model may not learn enough for easy case."
      ]
    },
    {
      "metadata": {
        "id": "gwlo7RaPBaTc",
        "colab_type": "code",
        "colab": {
          "base_uri": "https://localhost:8080/",
          "height": 159
        },
        "outputId": "b358e714-752a-4d34-e770-e47466e194c1"
      },
      "cell_type": "code",
      "source": [
        "sidx, eidx = 0, 100\n",
        "print(\"   start index: {}, end index: {}\".format(sidx,eidx))\n",
        "train_with_changing_negative_pair_with_loss(sidx, eidx, tripletloss, batch_size=10, epochs=61)"
      ],
      "execution_count": 277,
      "outputs": [
        {
          "output_type": "stream",
          "text": [
            "   start index: 0, end index: 100\n",
            "Loss at step 0: 0.00079\n",
            "Loss at step 10: 0.00213\n",
            "Loss at step 20: 0.00443\n",
            "Loss at step 30: 0.00106\n",
            "Loss at step 40: 0.00863\n",
            "Loss at step 50: 0.01044\n",
            "Loss at step 60: 0.00000\n"
          ],
          "name": "stdout"
        }
      ]
    },
    {
      "metadata": {
        "id": "wM5ypgOTBnlI",
        "colab_type": "code",
        "colab": {
          "base_uri": "https://localhost:8080/",
          "height": 70
        },
        "outputId": "9971db8a-c2f6-4d0e-bfdd-0321e184cd91"
      },
      "cell_type": "code",
      "source": [
        "calc_loss_with_changing_negative_pair(0, 100)\n",
        "calc_loss_with_changing_negative_pair(900, 1000)\n",
        "calc_loss_with_changing_negative_pair(1900, 2000)"
      ],
      "execution_count": 278,
      "outputs": [
        {
          "output_type": "stream",
          "text": [
            "tf.Tensor(0.0020887444, shape=(), dtype=float32)\n",
            "tf.Tensor(0.024206998, shape=(), dtype=float32)\n",
            "tf.Tensor(0.077805005, shape=(), dtype=float32)\n"
          ],
          "name": "stdout"
        }
      ]
    },
    {
      "metadata": {
        "id": "_u_mN_G_BaM7",
        "colab_type": "code",
        "colab": {}
      },
      "cell_type": "code",
      "source": [
        ""
      ],
      "execution_count": 0,
      "outputs": []
    },
    {
      "metadata": {
        "id": "LBVynPUXDSDF",
        "colab_type": "code",
        "colab": {
          "base_uri": "https://localhost:8080/",
          "height": 55
        },
        "outputId": "80573739-1e47-4c9c-f23f-3ef6ca4563ce"
      },
      "cell_type": "code",
      "source": [
        "counter = model_to_counter(model)\n",
        "print(counter)"
      ],
      "execution_count": 281,
      "outputs": [
        {
          "output_type": "stream",
          "text": [
            "Counter({1: 177, 2: 85, 3: 46, 5: 34, 4: 32, 6: 28, 7: 22, 16: 17, 9: 15, 8: 14, 13: 14, 15: 13, 17: 13, 18: 13, 11: 12, 10: 12, 20: 10, 49: 10, 47: 10, 14: 10, 24: 9, 19: 8, 44: 7, 37: 7, 21: 7, 50: 7, 28: 7, 76: 7, 12: 6, 25: 6, 45: 6, 27: 6, 31: 5, 34: 5, 85: 5, 51: 5, 40: 5, 41: 5, 29: 5, 77: 5, 56: 5, 22: 5, 30: 5, 127: 4, 88: 4, 81: 4, 58: 4, 55: 4, 43: 4, 111: 4, 32: 4, 64: 4, 26: 4, 129: 4, 264: 4, 65: 4, 53: 4, 155: 4, 79: 4, 63: 4, 23: 4, 116: 4, 67: 3, 102: 3, 197: 3, 91: 3, 89: 3, 71: 3, 54: 3, 78: 3, 61: 3, 144: 3, 38: 3, 158: 3, 33: 3, 36: 3, 142: 3, 225: 3, 98: 3, 35: 3, 72: 3, 294: 3, 108: 3, 168: 3, 103: 3, 82: 3, 73: 2, 1053: 2, 139: 2, 220: 2, 223: 2, 74: 2, 75: 2, 57: 2, 490: 2, 141: 2, 132: 2, 384: 2, 453: 2, 113: 2, 148: 2, 106: 2, 93: 2, 313: 2, 154: 2, 69: 2, 1107: 2, 217: 2, 42: 2, 126: 2, 541: 2, 200: 2, 469: 2, 321: 2, 867: 2, 242: 2, 123: 2, 529: 2, 152: 2, 1857: 2, 143: 2, 273: 2, 426: 2, 192: 2, 170: 2, 235: 2, 262: 2, 62: 2, 118: 2, 48: 2, 249: 2, 1095: 2, 401: 2, 149: 2, 428: 2, 153: 2, 187: 2, 117: 2, 110: 2, 46: 2, 135: 2, 562: 2, 189: 2, 1499: 2, 530: 2, 124: 2, 39: 2, 59: 2, 94: 2, 1476: 1, 1536: 1, 1875: 1, 166: 1, 2303: 1, 228: 1, 335: 1, 1386: 1, 821: 1, 1410: 1, 621: 1, 810: 1, 412: 1, 86: 1, 267: 1, 195: 1, 210: 1, 1292: 1, 637: 1, 1779: 1, 1382: 1, 1547: 1, 253: 1, 1569: 1, 80: 1, 2243: 1, 229: 1, 2044: 1, 259: 1, 120: 1, 1492: 1, 1907: 1, 95: 1, 121: 1, 367: 1, 892: 1, 650: 1, 167: 1, 458: 1, 369: 1, 1817: 1, 175: 1, 304: 1, 543: 1, 836: 1, 1195: 1, 2385: 1, 1168: 1, 1082: 1, 193: 1, 301: 1, 818: 1, 392: 1, 1314: 1, 482: 1, 233: 1, 333: 1, 184: 1, 275: 1, 608: 1, 536: 1, 1625: 1, 1913: 1, 1406: 1, 181: 1, 743: 1, 1409: 1, 753: 1, 371: 1, 489: 1, 284: 1, 925: 1, 463: 1, 767: 1, 1793: 1, 140: 1, 434: 1, 222: 1, 309: 1, 997: 1, 1040: 1, 324: 1, 215: 1, 785: 1, 403: 1, 270: 1, 727: 1, 761: 1, 2382: 1, 314: 1, 331: 1, 186: 1, 523: 1, 219: 1, 664: 1, 961: 1, 748: 1, 178: 1, 128: 1, 278: 1, 615: 1, 226: 1, 365: 1, 751: 1, 230: 1, 2144: 1, 1274: 1, 1472: 1, 203: 1, 504: 1, 712: 1, 545: 1, 68: 1, 357: 1, 1768: 1, 1264: 1, 933: 1, 114: 1, 485: 1, 938: 1, 341: 1, 629: 1, 368: 1, 191: 1, 2275: 1, 147: 1, 492: 1, 2013: 1, 248: 1, 361: 1, 826: 1, 373: 1, 444: 1, 471: 1, 347: 1, 134: 1, 122: 1, 169: 1, 322: 1, 1639: 1, 157: 1, 145: 1, 803: 1, 100: 1, 822: 1, 934: 1, 266: 1, 131: 1, 1414: 1, 1074: 1, 2103: 1, 359: 1, 394: 1, 247: 1, 2053: 1, 1128: 1, 277: 1, 327: 1, 1231: 1, 107: 1, 330: 1, 855: 1, 1062: 1, 308: 1, 1239: 1, 146: 1, 296: 1, 1486: 1, 814: 1, 1057: 1, 619: 1, 258: 1, 1453: 1, 136: 1, 87: 1, 1461: 1, 1801: 1, 2199: 1, 1432: 1, 425: 1, 374: 1, 84: 1, 211: 1, 696: 1, 415: 1, 612: 1, 319: 1, 130: 1, 478: 1, 1741: 1, 183: 1, 60: 1, 239: 1, 1752: 1, 501: 1, 246: 1, 174: 1, 2015: 1, 652: 1, 281: 1, 2179: 1, 254: 1, 1236: 1, 2404: 1, 171: 1, 125: 1, 515: 1, 362: 1, 572: 1, 705: 1, 676: 1, 1976: 1, 190: 1, 90: 1, 363: 1, 511: 1, 606: 1, 232: 1, 942: 1, 316: 1, 627: 1, 390: 1, 496: 1, 66: 1, 534: 1, 740: 1, 2383: 1, 213: 1, 525: 1, 582: 1, 874: 1, 858: 1, 332: 1, 486: 1, 737: 1, 271: 1, 315: 1, 468: 1, 484: 1, 557: 1, 137: 1, 160: 1, 531: 1, 133: 1, 305: 1, 1578: 1, 447: 1, 2066: 1, 1732: 1, 1520: 1, 340: 1, 352: 1})\n"
          ],
          "name": "stdout"
        }
      ]
    },
    {
      "metadata": {
        "id": "nd8r45soDofa",
        "colab_type": "text"
      },
      "cell_type": "markdown",
      "source": [
        "Score improvement does not lead to result improvement."
      ]
    },
    {
      "metadata": {
        "id": "o-AhcZnnDnA5",
        "colab_type": "code",
        "colab": {
          "base_uri": "https://localhost:8080/",
          "height": 159
        },
        "outputId": "9c14bd55-6511-4e46-a442-b12178611858"
      },
      "cell_type": "code",
      "source": [
        "sidx, eidx = 900, 1000\n",
        "print(\"   start index: {}, end index: {}\".format(sidx,eidx))\n",
        "train_with_changing_negative_pair_with_loss(sidx, eidx, tripletloss, batch_size=10, epochs=61)"
      ],
      "execution_count": 282,
      "outputs": [
        {
          "output_type": "stream",
          "text": [
            "   start index: 900, end index: 1000\n",
            "Loss at step 0: 0.03686\n",
            "Loss at step 10: 0.03265\n",
            "Loss at step 20: 0.02348\n",
            "Loss at step 30: 0.02980\n",
            "Loss at step 40: 0.02287\n",
            "Loss at step 50: 0.01434\n",
            "Loss at step 60: 0.00117\n"
          ],
          "name": "stdout"
        }
      ]
    },
    {
      "metadata": {
        "id": "1fo01wZuE1-G",
        "colab_type": "code",
        "colab": {
          "base_uri": "https://localhost:8080/",
          "height": 70
        },
        "outputId": "a91b0840-3381-4c8f-865d-193be9b4727e"
      },
      "cell_type": "code",
      "source": [
        "calc_loss_with_changing_negative_pair(0, 100)\n",
        "calc_loss_with_changing_negative_pair(900, 1000)\n",
        "calc_loss_with_changing_negative_pair(1900, 2000)"
      ],
      "execution_count": 283,
      "outputs": [
        {
          "output_type": "stream",
          "text": [
            "tf.Tensor(0.003018151, shape=(), dtype=float32)\n",
            "tf.Tensor(0.007677373, shape=(), dtype=float32)\n",
            "tf.Tensor(0.037012834, shape=(), dtype=float32)\n"
          ],
          "name": "stdout"
        }
      ]
    },
    {
      "metadata": {
        "id": "5iU3GCcZFIRV",
        "colab_type": "text"
      },
      "cell_type": "markdown",
      "source": [
        "Still improving. Train more for this difficulty."
      ]
    },
    {
      "metadata": {
        "id": "DVvjKHCJFFig",
        "colab_type": "code",
        "colab": {
          "base_uri": "https://localhost:8080/",
          "height": 159
        },
        "outputId": "12548cba-c493-4a42-996c-58cd0b763304"
      },
      "cell_type": "code",
      "source": [
        "sidx, eidx = 900, 1000\n",
        "print(\"   start index: {}, end index: {}\".format(sidx,eidx))\n",
        "train_with_changing_negative_pair_with_loss(sidx, eidx, tripletloss, batch_size=10, epochs=61)"
      ],
      "execution_count": 284,
      "outputs": [
        {
          "output_type": "stream",
          "text": [
            "   start index: 900, end index: 1000\n",
            "Loss at step 0: 0.01103\n",
            "Loss at step 10: 0.00866\n",
            "Loss at step 20: 0.01300\n",
            "Loss at step 30: 0.02034\n",
            "Loss at step 40: 0.01726\n",
            "Loss at step 50: 0.00692\n",
            "Loss at step 60: 0.00000\n"
          ],
          "name": "stdout"
        }
      ]
    },
    {
      "metadata": {
        "id": "QtAOLY4lGtrZ",
        "colab_type": "code",
        "colab": {
          "base_uri": "https://localhost:8080/",
          "height": 70
        },
        "outputId": "9240768b-88c5-46e3-f23c-b6fdcfc0f05c"
      },
      "cell_type": "code",
      "source": [
        "calc_loss_with_changing_negative_pair(0, 100)\n",
        "calc_loss_with_changing_negative_pair(900, 1000)\n",
        "calc_loss_with_changing_negative_pair(1900, 2000)"
      ],
      "execution_count": 285,
      "outputs": [
        {
          "output_type": "stream",
          "text": [
            "tf.Tensor(0.0030531285, shape=(), dtype=float32)\n",
            "tf.Tensor(0.005217336, shape=(), dtype=float32)\n",
            "tf.Tensor(0.02647508, shape=(), dtype=float32)\n"
          ],
          "name": "stdout"
        }
      ]
    },
    {
      "metadata": {
        "id": "wBBCcz52Dmxq",
        "colab_type": "code",
        "colab": {
          "base_uri": "https://localhost:8080/",
          "height": 159
        },
        "outputId": "759fdfe1-83c5-4234-beb3-1c7729989a02"
      },
      "cell_type": "code",
      "source": [
        "sidx, eidx = 1900, 2000\n",
        "print(\"   start index: {}, end index: {}\".format(sidx,eidx))\n",
        "train_with_changing_negative_pair_with_loss(sidx, eidx, tripletloss, batch_size=10, epochs=61)"
      ],
      "execution_count": 286,
      "outputs": [
        {
          "output_type": "stream",
          "text": [
            "   start index: 1900, end index: 2000\n",
            "Loss at step 0: 0.02518\n",
            "Loss at step 10: 0.01456\n",
            "Loss at step 20: 0.01335\n",
            "Loss at step 30: 0.00632\n",
            "Loss at step 40: 0.00237\n",
            "Loss at step 50: 0.01831\n",
            "Loss at step 60: 0.03654\n"
          ],
          "name": "stdout"
        }
      ]
    },
    {
      "metadata": {
        "id": "bysYKiO5DYRZ",
        "colab_type": "code",
        "colab": {
          "base_uri": "https://localhost:8080/",
          "height": 70
        },
        "outputId": "0b962fe9-f9f8-4fe0-9023-d3c8c0941955"
      },
      "cell_type": "code",
      "source": [
        "calc_loss_with_changing_negative_pair(0, 100)\n",
        "calc_loss_with_changing_negative_pair(900, 1000)\n",
        "calc_loss_with_changing_negative_pair(1900, 2000)"
      ],
      "execution_count": 287,
      "outputs": [
        {
          "output_type": "stream",
          "text": [
            "tf.Tensor(0.0043739523, shape=(), dtype=float32)\n",
            "tf.Tensor(0.004369103, shape=(), dtype=float32)\n",
            "tf.Tensor(0.01745218, shape=(), dtype=float32)\n"
          ],
          "name": "stdout"
        }
      ]
    },
    {
      "metadata": {
        "id": "pWS3yfTwDXnc",
        "colab_type": "code",
        "colab": {
          "base_uri": "https://localhost:8080/",
          "height": 55
        },
        "outputId": "aa34daa4-3b30-42d2-f7eb-f646bfbf9227"
      },
      "cell_type": "code",
      "source": [
        "counter = model_to_counter(model)\n",
        "print(counter)"
      ],
      "execution_count": 288,
      "outputs": [
        {
          "output_type": "stream",
          "text": [
            "Counter({1: 199, 2: 83, 3: 69, 4: 47, 5: 40, 6: 28, 11: 23, 10: 21, 9: 21, 12: 18, 7: 17, 8: 16, 15: 15, 13: 13, 17: 13, 14: 12, 21: 12, 20: 12, 16: 10, 57: 9, 46: 9, 22: 9, 24: 9, 18: 9, 44: 8, 25: 8, 29: 8, 51: 7, 37: 7, 38: 7, 36: 7, 45: 7, 40: 7, 30: 6, 26: 6, 31: 6, 33: 6, 50: 6, 47: 6, 69: 6, 27: 6, 42: 5, 41: 5, 19: 5, 64: 5, 32: 5, 28: 5, 73: 5, 34: 5, 92: 4, 72: 4, 61: 4, 65: 4, 35: 4, 85: 4, 94: 4, 23: 4, 103: 4, 66: 4, 76: 4, 109: 4, 241: 3, 124: 3, 87: 3, 75: 3, 60: 3, 96: 3, 59: 3, 52: 3, 249: 3, 39: 3, 152: 3, 77: 3, 68: 3, 49: 3, 203: 3, 285: 2, 132: 2, 332: 2, 167: 2, 81: 2, 90: 2, 127: 2, 221: 2, 89: 2, 201: 2, 100: 2, 102: 2, 86: 2, 777: 2, 368: 2, 58: 2, 157: 2, 137: 2, 111: 2, 292: 2, 236: 2, 418: 2, 115: 2, 281: 2, 311: 2, 54: 2, 114: 2, 108: 2, 80: 2, 283: 2, 144: 2, 104: 2, 208: 2, 131: 2, 110: 2, 116: 2, 145: 2, 91: 2, 176: 2, 139: 2, 424: 2, 199: 2, 119: 2, 56: 2, 358: 2, 165: 2, 126: 1, 93: 1, 71: 1, 1257: 1, 158: 1, 1525: 1, 434: 1, 207: 1, 327: 1, 691: 1, 448: 1, 83: 1, 252: 1, 934: 1, 159: 1, 62: 1, 258: 1, 101: 1, 1729: 1, 88: 1, 95: 1, 164: 1, 122: 1, 1360: 1, 112: 1, 565: 1, 509: 1, 163: 1, 113: 1, 288: 1, 238: 1, 520: 1, 359: 1, 941: 1, 228: 1, 606: 1, 84: 1, 495: 1, 243: 1, 345: 1, 117: 1, 837: 1, 177: 1, 720: 1, 2161: 1, 1272: 1, 133: 1, 215: 1, 323: 1, 522: 1, 541: 1, 313: 1, 192: 1, 74: 1, 888: 1, 1672: 1, 186: 1, 952: 1, 235: 1, 55: 1, 82: 1, 863: 1, 431: 1, 393: 1, 1809: 1, 290: 1, 191: 1, 125: 1, 245: 1, 270: 1, 264: 1, 138: 1, 168: 1, 190: 1, 212: 1, 516: 1, 544: 1, 213: 1, 666: 1, 247: 1, 423: 1, 143: 1, 1070: 1, 591: 1, 680: 1, 521: 1, 341: 1, 482: 1, 273: 1, 394: 1, 1214: 1, 1000: 1, 105: 1, 687: 1, 262: 1, 361: 1, 681: 1, 268: 1, 452: 1, 121: 1, 130: 1, 441: 1, 197: 1, 708: 1, 53: 1, 240: 1, 339: 1, 78: 1, 156: 1, 459: 1, 1701: 1, 230: 1, 308: 1, 274: 1, 690: 1, 1079: 1, 223: 1, 584: 1, 453: 1, 537: 1, 242: 1, 410: 1, 211: 1, 580: 1, 120: 1, 1256: 1, 472: 1, 636: 1, 1455: 1, 411: 1, 1041: 1, 146: 1, 487: 1, 420: 1, 349: 1, 220: 1, 118: 1, 319: 1, 98: 1, 233: 1, 294: 1, 107: 1, 43: 1, 989: 1, 278: 1, 279: 1, 141: 1, 172: 1, 846: 1, 1484: 1, 2324: 1, 194: 1, 561: 1, 764: 1, 1071: 1, 205: 1, 390: 1, 263: 1, 631: 1, 524: 1, 153: 1, 366: 1, 920: 1, 134: 1, 879: 1, 823: 1, 189: 1, 306: 1, 467: 1, 505: 1, 216: 1, 1194: 1, 239: 1, 261: 1, 330: 1, 372: 1, 671: 1, 529: 1, 370: 1, 388: 1, 392: 1, 445: 1, 142: 1, 344: 1, 63: 1, 328: 1, 160: 1, 79: 1, 136: 1, 322: 1, 187: 1, 534: 1, 183: 1, 266: 1, 772: 1, 841: 1, 180: 1, 222: 1})\n"
          ],
          "name": "stdout"
        }
      ]
    },
    {
      "metadata": {
        "id": "dJN7oGxXK04X",
        "colab_type": "code",
        "colab": {
          "base_uri": "https://localhost:8080/",
          "height": 35
        },
        "outputId": "e6fa72e0-aea7-4b3c-a76e-952f3e5d3e51"
      },
      "cell_type": "code",
      "source": [
        "sum(counter[i] for i in range(11))"
      ],
      "execution_count": 289,
      "outputs": [
        {
          "output_type": "execute_result",
          "data": {
            "text/plain": [
              "541"
            ]
          },
          "metadata": {
            "tags": []
          },
          "execution_count": 289
        }
      ]
    },
    {
      "metadata": {
        "id": "D15aqQD2LGTG",
        "colab_type": "text"
      },
      "cell_type": "markdown",
      "source": [
        "raw feature is 473. improved, but not so impressive.\n",
        "\n",
        "- Output dimension seems important (100 might be too small)\n",
        "- Lowering loss seems somewhat related to improving score, but the relation is not so firm."
      ]
    },
    {
      "metadata": {
        "id": "qD8cRtKHLfwe",
        "colab_type": "text"
      },
      "cell_type": "markdown",
      "source": [
        "### Make model more complex with the same output and middle layer\n",
        "\n",
        "Improving loss lead to final result improvement.\n",
        "But the loss we need to achive seems much lower than we first expect.\n",
        "\n",
        "Try more complex model with lower loss more than normal model.\n",
        "If the real cause is loss is not enough low, this triay must improve final result."
      ]
    },
    {
      "metadata": {
        "id": "nJJY5K9_LE93",
        "colab_type": "code",
        "colab": {}
      },
      "cell_type": "code",
      "source": [
        "model = ComplexModel(input_shape=768, output_shape1=768, output_shape2=768)"
      ],
      "execution_count": 0,
      "outputs": []
    },
    {
      "metadata": {
        "id": "uDT8UwffK0oA",
        "colab_type": "code",
        "colab": {
          "base_uri": "https://localhost:8080/",
          "height": 106
        },
        "outputId": "28b9854b-6251-4bf9-9f6a-18e38767e1af"
      },
      "cell_type": "code",
      "source": [
        "calc_loss_with_changing_negative_pair(0, 100)\n",
        "calc_loss_with_changing_negative_pair(100, 200)\n",
        "calc_loss_with_changing_negative_pair(900, 1000)\n",
        "calc_loss_with_changing_negative_pair(1000, 1100)\n",
        "calc_loss_with_changing_negative_pair(1900, 2000)"
      ],
      "execution_count": 291,
      "outputs": [
        {
          "output_type": "stream",
          "text": [
            "tf.Tensor(0.067356534, shape=(), dtype=float32)\n",
            "tf.Tensor(0.09547331, shape=(), dtype=float32)\n",
            "tf.Tensor(0.13949102, shape=(), dtype=float32)\n",
            "tf.Tensor(0.1426682, shape=(), dtype=float32)\n",
            "tf.Tensor(0.16762954, shape=(), dtype=float32)\n"
          ],
          "name": "stdout"
        }
      ]
    },
    {
      "metadata": {
        "id": "muk51OH4MF5J",
        "colab_type": "code",
        "colab": {
          "base_uri": "https://localhost:8080/",
          "height": 159
        },
        "outputId": "afae5d4d-5cd7-425a-fdb0-64a9c2b4624e"
      },
      "cell_type": "code",
      "source": [
        "sidx, eidx = 0, 100\n",
        "print(\"   start index: {}, end index: {}\".format(sidx,eidx))\n",
        "train_with_changing_negative_pair_with_loss(sidx, eidx, tripletloss, batch_size=10, epochs=61)"
      ],
      "execution_count": 292,
      "outputs": [
        {
          "output_type": "stream",
          "text": [
            "   start index: 0, end index: 100\n",
            "Loss at step 0: 0.07791\n",
            "Loss at step 10: 0.02279\n",
            "Loss at step 20: 0.01264\n",
            "Loss at step 30: 0.00411\n",
            "Loss at step 40: 0.00503\n",
            "Loss at step 50: 0.01039\n",
            "Loss at step 60: 0.00108\n"
          ],
          "name": "stdout"
        }
      ]
    },
    {
      "metadata": {
        "id": "qOUS4X_CMFnP",
        "colab_type": "code",
        "colab": {
          "base_uri": "https://localhost:8080/",
          "height": 106
        },
        "outputId": "02b49be0-f54f-433e-d827-1a4ed804fd37"
      },
      "cell_type": "code",
      "source": [
        "calc_loss_with_changing_negative_pair(0, 100)\n",
        "calc_loss_with_changing_negative_pair(100, 200)\n",
        "calc_loss_with_changing_negative_pair(900, 1000)\n",
        "calc_loss_with_changing_negative_pair(1000, 1100)\n",
        "calc_loss_with_changing_negative_pair(1900, 2000)"
      ],
      "execution_count": 293,
      "outputs": [
        {
          "output_type": "stream",
          "text": [
            "tf.Tensor(0.0034555183, shape=(), dtype=float32)\n",
            "tf.Tensor(0.009102334, shape=(), dtype=float32)\n",
            "tf.Tensor(0.04942668, shape=(), dtype=float32)\n",
            "tf.Tensor(0.05588448, shape=(), dtype=float32)\n",
            "tf.Tensor(0.11338662, shape=(), dtype=float32)\n"
          ],
          "name": "stdout"
        }
      ]
    },
    {
      "metadata": {
        "id": "xjX9Lh21N8Sl",
        "colab_type": "code",
        "colab": {
          "base_uri": "https://localhost:8080/",
          "height": 88
        },
        "outputId": "5d3c90a7-1011-4fb7-bb6c-0d3d28510577"
      },
      "cell_type": "code",
      "source": [
        "sidx, eidx = 0, 100\n",
        "print(\"   start index: {}, end index: {}\".format(sidx,eidx))\n",
        "train_with_changing_negative_pair_with_loss(sidx, eidx, tripletloss, batch_size=10, epochs=21)"
      ],
      "execution_count": 294,
      "outputs": [
        {
          "output_type": "stream",
          "text": [
            "   start index: 0, end index: 100\n",
            "Loss at step 0: 0.00321\n",
            "Loss at step 10: 0.00411\n",
            "Loss at step 20: 0.00277\n"
          ],
          "name": "stdout"
        }
      ]
    },
    {
      "metadata": {
        "id": "z_VLvan0OFdx",
        "colab_type": "code",
        "colab": {
          "base_uri": "https://localhost:8080/",
          "height": 106
        },
        "outputId": "417e9817-fb58-4d3f-cbcc-20295f32c66f"
      },
      "cell_type": "code",
      "source": [
        "calc_loss_with_changing_negative_pair(0, 100)\n",
        "calc_loss_with_changing_negative_pair(100, 200)\n",
        "calc_loss_with_changing_negative_pair(900, 1000)\n",
        "calc_loss_with_changing_negative_pair(1000, 1100)\n",
        "calc_loss_with_changing_negative_pair(1900, 2000)"
      ],
      "execution_count": 295,
      "outputs": [
        {
          "output_type": "stream",
          "text": [
            "tf.Tensor(0.0022882402, shape=(), dtype=float32)\n",
            "tf.Tensor(0.0061722556, shape=(), dtype=float32)\n",
            "tf.Tensor(0.03827481, shape=(), dtype=float32)\n",
            "tf.Tensor(0.044389553, shape=(), dtype=float32)\n",
            "tf.Tensor(0.10048514, shape=(), dtype=float32)\n"
          ],
          "name": "stdout"
        }
      ]
    },
    {
      "metadata": {
        "id": "Ag_229lcOroo",
        "colab_type": "code",
        "colab": {
          "base_uri": "https://localhost:8080/",
          "height": 88
        },
        "outputId": "70c93cb0-33ec-49d9-ffd5-218f3903fa8e"
      },
      "cell_type": "code",
      "source": [
        "sidx, eidx = 0, 100\n",
        "print(\"   start index: {}, end index: {}\".format(sidx,eidx))\n",
        "train_with_changing_negative_pair_with_loss(sidx, eidx, tripletloss, batch_size=10, epochs=21)"
      ],
      "execution_count": 296,
      "outputs": [
        {
          "output_type": "stream",
          "text": [
            "   start index: 0, end index: 100\n",
            "Loss at step 0: 0.00005\n",
            "Loss at step 10: 0.00290\n",
            "Loss at step 20: 0.00135\n"
          ],
          "name": "stdout"
        }
      ]
    },
    {
      "metadata": {
        "id": "L4MBuUFLOrWj",
        "colab_type": "code",
        "colab": {
          "base_uri": "https://localhost:8080/",
          "height": 106
        },
        "outputId": "9b66d880-c056-4395-87e2-01601484f1c5"
      },
      "cell_type": "code",
      "source": [
        "calc_loss_with_changing_negative_pair(0, 100)\n",
        "calc_loss_with_changing_negative_pair(100, 200)\n",
        "calc_loss_with_changing_negative_pair(900, 1000)\n",
        "calc_loss_with_changing_negative_pair(1000, 1100)\n",
        "calc_loss_with_changing_negative_pair(1900, 2000)"
      ],
      "execution_count": 297,
      "outputs": [
        {
          "output_type": "stream",
          "text": [
            "tf.Tensor(0.001631824, shape=(), dtype=float32)\n",
            "tf.Tensor(0.0045466432, shape=(), dtype=float32)\n",
            "tf.Tensor(0.031644385, shape=(), dtype=float32)\n",
            "tf.Tensor(0.037194483, shape=(), dtype=float32)\n",
            "tf.Tensor(0.090768576, shape=(), dtype=float32)\n"
          ],
          "name": "stdout"
        }
      ]
    },
    {
      "metadata": {
        "id": "IY_96tFYPXod",
        "colab_type": "text"
      },
      "cell_type": "markdown",
      "source": [
        "Still improving..."
      ]
    },
    {
      "metadata": {
        "id": "RiSzVLW_PWMq",
        "colab_type": "code",
        "colab": {
          "base_uri": "https://localhost:8080/",
          "height": 124
        },
        "outputId": "27ba73ae-91c7-4d20-d979-9a747c1ee074"
      },
      "cell_type": "code",
      "source": [
        "sidx, eidx = 0, 100\n",
        "print(\"   start index: {}, end index: {}\".format(sidx,eidx))\n",
        "train_with_changing_negative_pair_with_loss(sidx, eidx, tripletloss, batch_size=10, epochs=41)"
      ],
      "execution_count": 298,
      "outputs": [
        {
          "output_type": "stream",
          "text": [
            "   start index: 0, end index: 100\n",
            "Loss at step 0: 0.00000\n",
            "Loss at step 10: 0.00143\n",
            "Loss at step 20: 0.00005\n",
            "Loss at step 30: 0.00000\n",
            "Loss at step 40: 0.00000\n"
          ],
          "name": "stdout"
        }
      ]
    },
    {
      "metadata": {
        "id": "ffMjZ5BCPV8i",
        "colab_type": "code",
        "colab": {
          "base_uri": "https://localhost:8080/",
          "height": 106
        },
        "outputId": "8b51b2d0-2828-4c8c-da73-54a44f4536e4"
      },
      "cell_type": "code",
      "source": [
        "calc_loss_with_changing_negative_pair(0, 100)\n",
        "calc_loss_with_changing_negative_pair(100, 200)\n",
        "calc_loss_with_changing_negative_pair(900, 1000)\n",
        "calc_loss_with_changing_negative_pair(1000, 1100)\n",
        "calc_loss_with_changing_negative_pair(1900, 2000)"
      ],
      "execution_count": 299,
      "outputs": [
        {
          "output_type": "stream",
          "text": [
            "tf.Tensor(0.0010590523, shape=(), dtype=float32)\n",
            "tf.Tensor(0.0029666373, shape=(), dtype=float32)\n",
            "tf.Tensor(0.024927925, shape=(), dtype=float32)\n",
            "tf.Tensor(0.029643761, shape=(), dtype=float32)\n",
            "tf.Tensor(0.079145215, shape=(), dtype=float32)\n"
          ],
          "name": "stdout"
        }
      ]
    },
    {
      "metadata": {
        "id": "-NlRQ_2UQ3Un",
        "colab_type": "code",
        "colab": {}
      },
      "cell_type": "code",
      "source": [
        ""
      ],
      "execution_count": 0,
      "outputs": []
    },
    {
      "metadata": {
        "id": "_Hb5q2DGQsrd",
        "colab_type": "text"
      },
      "cell_type": "markdown",
      "source": [
        "Seems enough. Check current result."
      ]
    },
    {
      "metadata": {
        "id": "DJo2y3RzOJpo",
        "colab_type": "code",
        "colab": {
          "base_uri": "https://localhost:8080/",
          "height": 55
        },
        "outputId": "2240f983-49b1-46bd-9b9f-3709073a2030"
      },
      "cell_type": "code",
      "source": [
        "counter = model_to_counter(model)\n",
        "print(counter)"
      ],
      "execution_count": 303,
      "outputs": [
        {
          "output_type": "stream",
          "text": [
            "Counter({1: 153, 2: 76, 3: 40, 4: 38, 5: 30, 6: 25, 7: 18, 9: 18, 8: 17, 11: 14, 19: 13, 10: 13, 20: 13, 12: 11, 17: 11, 23: 11, 14: 9, 18: 9, 32: 8, 26: 8, 16: 8, 33: 7, 22: 7, 45: 7, 38: 7, 25: 7, 15: 7, 28: 7, 44: 7, 47: 6, 40: 6, 110: 6, 27: 6, 104: 6, 178: 5, 24: 5, 73: 5, 21: 5, 39: 5, 34: 5, 56: 5, 13: 5, 52: 5, 59: 5, 72: 5, 30: 4, 167: 4, 130: 4, 95: 4, 185: 4, 79: 4, 70: 4, 54: 4, 35: 4, 49: 4, 37: 4, 42: 4, 121: 4, 506: 3, 132: 3, 108: 3, 98: 3, 75: 3, 58: 3, 128: 3, 88: 3, 103: 3, 51: 3, 64: 3, 203: 3, 83: 3, 236: 3, 50: 3, 46: 3, 63: 3, 43: 3, 190: 3, 82: 2, 134: 2, 1899: 2, 208: 2, 148: 2, 77: 2, 1156: 2, 136: 2, 466: 2, 174: 2, 112: 2, 120: 2, 297: 2, 477: 2, 91: 2, 159: 2, 309: 2, 346: 2, 292: 2, 81: 2, 117: 2, 62: 2, 92: 2, 109: 2, 71: 2, 147: 2, 264: 2, 205: 2, 36: 2, 531: 2, 304: 2, 1024: 2, 89: 2, 404: 2, 186: 2, 31: 2, 371: 2, 429: 2, 143: 2, 55: 2, 78: 2, 61: 2, 129: 2, 249: 2, 29: 2, 311: 2, 600: 2, 219: 2, 224: 2, 328: 2, 57: 2, 663: 2, 196: 2, 193: 2, 187: 2, 343: 2, 403: 2, 182: 2, 90: 2, 86: 2, 169: 2, 74: 2, 69: 2, 162: 2, 135: 2, 269: 2, 99: 2, 281: 2, 256: 2, 220: 2, 503: 2, 97: 2, 168: 2, 53: 2, 66: 2, 332: 2, 184: 2, 156: 2, 150: 2, 2040: 1, 2063: 1, 638: 1, 1291: 1, 1895: 1, 358: 1, 204: 1, 172: 1, 760: 1, 1057: 1, 180: 1, 322: 1, 1371: 1, 206: 1, 237: 1, 1387: 1, 1673: 1, 151: 1, 119: 1, 333: 1, 96: 1, 363: 1, 115: 1, 1036: 1, 656: 1, 1795: 1, 240: 1, 1412: 1, 1991: 1, 216: 1, 713: 1, 1821: 1, 307: 1, 145: 1, 2220: 1, 394: 1, 2039: 1, 1425: 1, 1126: 1, 2237: 1, 2475: 1, 198: 1, 285: 1, 202: 1, 1009: 1, 432: 1, 674: 1, 149: 1, 317: 1, 887: 1, 1774: 1, 615: 1, 647: 1, 609: 1, 1439: 1, 804: 1, 858: 1, 2354: 1, 93: 1, 212: 1, 231: 1, 230: 1, 1608: 1, 554: 1, 2187: 1, 1609: 1, 221: 1, 41: 1, 530: 1, 974: 1, 1585: 1, 596: 1, 565: 1, 324: 1, 210: 1, 765: 1, 832: 1, 195: 1, 831: 1, 175: 1, 1629: 1, 1997: 1, 353: 1, 1405: 1, 602: 1, 544: 1, 1406: 1, 855: 1, 1600: 1, 449: 1, 426: 1, 48: 1, 334: 1, 250: 1, 1109: 1, 367: 1, 1574: 1, 562: 1, 80: 1, 608: 1, 462: 1, 844: 1, 201: 1, 1055: 1, 368: 1, 153: 1, 581: 1, 245: 1, 436: 1, 944: 1, 616: 1, 711: 1, 2406: 1, 65: 1, 272: 1, 274: 1, 483: 1, 288: 1, 438: 1, 1550: 1, 511: 1, 84: 1, 228: 1, 68: 1, 102: 1, 253: 1, 535: 1, 181: 1, 413: 1, 856: 1, 489: 1, 318: 1, 1825: 1, 749: 1, 165: 1, 468: 1, 2325: 1, 1695: 1, 1341: 1, 218: 1, 339: 1, 199: 1, 406: 1, 507: 1, 903: 1, 229: 1, 1824: 1, 1167: 1, 141: 1, 584: 1, 541: 1, 177: 1, 942: 1, 191: 1, 472: 1, 2241: 1, 342: 1, 1840: 1, 2054: 1, 398: 1, 542: 1, 796: 1, 1122: 1, 1244: 1, 821: 1, 338: 1, 123: 1, 87: 1, 192: 1, 675: 1, 1699: 1, 1084: 1, 400: 1, 379: 1, 719: 1, 223: 1, 1114: 1, 100: 1, 101: 1, 2245: 1, 939: 1, 118: 1, 421: 1, 146: 1, 1732: 1, 500: 1, 1556: 1, 2362: 1, 1158: 1, 623: 1, 2247: 1, 226: 1, 1141: 1, 114: 1, 188: 1, 144: 1, 1313: 1, 1199: 1, 492: 1, 255: 1, 929: 1, 1198: 1, 475: 1, 217: 1, 1743: 1, 775: 1, 1026: 1, 659: 1, 1489: 1, 111: 1, 376: 1, 107: 1, 591: 1, 1722: 1, 244: 1, 2065: 1, 2225: 1, 94: 1, 1377: 1, 390: 1, 878: 1, 442: 1, 383: 1, 836: 1, 754: 1, 126: 1, 523: 1, 303: 1, 125: 1, 266: 1, 381: 1, 583: 1, 2104: 1, 447: 1, 142: 1, 1331: 1, 170: 1, 270: 1, 279: 1, 2020: 1, 568: 1, 441: 1, 373: 1, 179: 1, 1814: 1, 694: 1, 375: 1, 2347: 1, 161: 1, 526: 1, 1108: 1, 60: 1, 2470: 1, 124: 1, 476: 1, 863: 1, 786: 1, 410: 1, 589: 1, 881: 1, 651: 1, 2031: 1, 305: 1, 293: 1, 539: 1, 534: 1, 313: 1, 999: 1, 460: 1, 724: 1, 458: 1, 1388: 1, 2233: 1, 67: 1, 864: 1, 453: 1, 546: 1, 1303: 1, 720: 1, 1242: 1, 354: 1, 105: 1, 241: 1, 636: 1, 1174: 1, 364: 1, 399: 1, 450: 1, 644: 1, 2033: 1, 1054: 1, 154: 1, 2140: 1, 1683: 1, 1566: 1, 374: 1, 348: 1, 361: 1, 414: 1, 499: 1})\n"
          ],
          "name": "stdout"
        }
      ]
    },
    {
      "metadata": {
        "id": "33sgC9TPSK3n",
        "colab_type": "text"
      },
      "cell_type": "markdown",
      "source": [
        "Very bad even though loss seems better than Identity.\n",
        "My hypotheses seems wrong. But training for more difficult pair."
      ]
    },
    {
      "metadata": {
        "id": "PtCHTtaTOJPA",
        "colab_type": "code",
        "colab": {
          "base_uri": "https://localhost:8080/",
          "height": 159
        },
        "outputId": "3b22bde0-3c30-4cb2-f599-818491d8029c"
      },
      "cell_type": "code",
      "source": [
        "train_one_difficulty(900, 1000, epochs=61)"
      ],
      "execution_count": 308,
      "outputs": [
        {
          "output_type": "stream",
          "text": [
            "   start index: 900, end index: 1000\n",
            "Loss at step 0: 0.04020\n",
            "Loss at step 10: 0.02869\n",
            "Loss at step 20: 0.01957\n",
            "Loss at step 30: 0.03560\n",
            "Loss at step 40: 0.01328\n",
            "Loss at step 50: 0.01476\n",
            "Loss at step 60: 0.00290\n"
          ],
          "name": "stdout"
        }
      ]
    },
    {
      "metadata": {
        "id": "d-Qndf15OI4D",
        "colab_type": "code",
        "colab": {
          "base_uri": "https://localhost:8080/",
          "height": 106
        },
        "outputId": "86b81117-e880-4358-fbf9-31e95399da69"
      },
      "cell_type": "code",
      "source": [
        "print_losses()"
      ],
      "execution_count": 309,
      "outputs": [
        {
          "output_type": "stream",
          "text": [
            "0:100 0.0018382936250418425\n",
            "100:200 0.0019187016878277063\n",
            "900:1000 0.005641844589263201\n",
            "1000:1100 0.007981248199939728\n",
            "1900:2000 0.02922942116856575\n"
          ],
          "name": "stdout"
        }
      ]
    },
    {
      "metadata": {
        "id": "xGDYimYPOFB_",
        "colab_type": "code",
        "colab": {
          "base_uri": "https://localhost:8080/",
          "height": 124
        },
        "outputId": "6c306d6b-482f-4004-f721-0defe7e157c2"
      },
      "cell_type": "code",
      "source": [
        "train_one_difficulty(900, 1000, epochs=41)"
      ],
      "execution_count": 310,
      "outputs": [
        {
          "output_type": "stream",
          "text": [
            "   start index: 900, end index: 1000\n",
            "Loss at step 0: 0.01570\n",
            "Loss at step 10: 0.01210\n",
            "Loss at step 20: 0.01037\n",
            "Loss at step 30: 0.02991\n",
            "Loss at step 40: 0.00579\n"
          ],
          "name": "stdout"
        }
      ]
    },
    {
      "metadata": {
        "id": "qPDRChRoOEr6",
        "colab_type": "code",
        "colab": {
          "base_uri": "https://localhost:8080/",
          "height": 106
        },
        "outputId": "d3eb7174-d976-4b43-9c77-07d7c7dbc2d3"
      },
      "cell_type": "code",
      "source": [
        "print_losses()"
      ],
      "execution_count": 311,
      "outputs": [
        {
          "output_type": "stream",
          "text": [
            "0:100 0.0014890616293996572\n",
            "100:200 0.00156587571837008\n",
            "900:1000 0.00420421501621604\n",
            "1000:1100 0.006300562992691994\n",
            "1900:2000 0.024204019457101822\n"
          ],
          "name": "stdout"
        }
      ]
    },
    {
      "metadata": {
        "id": "j0wtmaX1W-0u",
        "colab_type": "code",
        "colab": {
          "base_uri": "https://localhost:8080/",
          "height": 124
        },
        "outputId": "04b3d793-4f30-4e86-ebcf-ea81bf1b84e9"
      },
      "cell_type": "code",
      "source": [
        "train_one_difficulty(900, 1000, epochs=41)"
      ],
      "execution_count": 312,
      "outputs": [
        {
          "output_type": "stream",
          "text": [
            "   start index: 900, end index: 1000\n",
            "Loss at step 0: 0.01037\n",
            "Loss at step 10: 0.00708\n",
            "Loss at step 20: 0.00823\n",
            "Loss at step 30: 0.02490\n",
            "Loss at step 40: 0.00209\n"
          ],
          "name": "stdout"
        }
      ]
    },
    {
      "metadata": {
        "id": "Vuxb3WRWW-kz",
        "colab_type": "code",
        "colab": {
          "base_uri": "https://localhost:8080/",
          "height": 106
        },
        "outputId": "a0974c2a-fd03-438f-df0b-21dec3627b7a"
      },
      "cell_type": "code",
      "source": [
        "print_losses()"
      ],
      "execution_count": 313,
      "outputs": [
        {
          "output_type": "stream",
          "text": [
            "0:100 0.0011327170068398118\n",
            "100:200 0.0012258307542651892\n",
            "900:1000 0.00335480272769928\n",
            "1000:1100 0.005342297721654177\n",
            "1900:2000 0.02151733636856079\n"
          ],
          "name": "stdout"
        }
      ]
    },
    {
      "metadata": {
        "id": "YID2bVmaYQ3e",
        "colab_type": "code",
        "colab": {
          "base_uri": "https://localhost:8080/",
          "height": 124
        },
        "outputId": "2a507c58-9f60-4acd-b853-34f6842d8c1a"
      },
      "cell_type": "code",
      "source": [
        "train_one_difficulty(900, 1000, epochs=41)"
      ],
      "execution_count": 314,
      "outputs": [
        {
          "output_type": "stream",
          "text": [
            "   start index: 900, end index: 1000\n",
            "Loss at step 0: 0.00713\n",
            "Loss at step 10: 0.00270\n",
            "Loss at step 20: 0.00598\n",
            "Loss at step 30: 0.01931\n",
            "Loss at step 40: 0.00000\n"
          ],
          "name": "stdout"
        }
      ]
    },
    {
      "metadata": {
        "id": "PsfjuG13YQZG",
        "colab_type": "code",
        "colab": {
          "base_uri": "https://localhost:8080/",
          "height": 106
        },
        "outputId": "fe9a1537-6a9a-4eef-bcf6-911cc34dfb67"
      },
      "cell_type": "code",
      "source": [
        "print_losses()"
      ],
      "execution_count": 315,
      "outputs": [
        {
          "output_type": "stream",
          "text": [
            "0:100 0.0009142808266915381\n",
            "100:200 0.0010113270254805684\n",
            "900:1000 0.0028058458119630814\n",
            "1000:1100 0.0046907574869692326\n",
            "1900:2000 0.01965579204261303\n"
          ],
          "name": "stdout"
        }
      ]
    },
    {
      "metadata": {
        "id": "BuYbHzUnZ2pg",
        "colab_type": "text"
      },
      "cell_type": "markdown",
      "source": [
        "Still improving. But I don't know any metrics for overfitting this case.\n",
        "And loss is already low enough.\n",
        "Check result."
      ]
    },
    {
      "metadata": {
        "id": "Skl2Dp42ZcOi",
        "colab_type": "code",
        "colab": {
          "base_uri": "https://localhost:8080/",
          "height": 55
        },
        "outputId": "3c183261-5f6f-4951-e7aa-3e47ea2d1157"
      },
      "cell_type": "code",
      "source": [
        "counter = model_to_counter(model)\n",
        "print(counter)"
      ],
      "execution_count": 316,
      "outputs": [
        {
          "output_type": "stream",
          "text": [
            "Counter({1: 178, 2: 79, 3: 53, 4: 41, 5: 39, 6: 24, 8: 23, 9: 21, 10: 20, 12: 18, 11: 17, 15: 15, 18: 15, 21: 15, 16: 14, 7: 14, 20: 12, 17: 12, 22: 9, 31: 9, 38: 9, 13: 8, 24: 8, 35: 8, 39: 8, 27: 8, 14: 7, 23: 7, 43: 7, 25: 7, 33: 7, 49: 6, 28: 6, 126: 6, 75: 6, 42: 5, 36: 5, 74: 5, 76: 5, 56: 5, 85: 5, 44: 5, 67: 5, 50: 5, 30: 5, 26: 5, 34: 5, 51: 5, 37: 4, 102: 4, 32: 4, 66: 4, 84: 4, 121: 4, 52: 4, 80: 4, 125: 4, 93: 4, 60: 4, 57: 4, 210: 4, 58: 3, 61: 3, 72: 3, 134: 3, 136: 3, 48: 3, 107: 3, 152: 3, 108: 3, 339: 3, 54: 3, 97: 3, 53: 3, 200: 3, 147: 3, 118: 3, 69: 3, 73: 3, 86: 3, 104: 3, 124: 3, 70: 3, 64: 3, 159: 3, 139: 3, 129: 2, 222: 2, 89: 2, 71: 2, 127: 2, 214: 2, 98: 2, 103: 2, 47: 2, 113: 2, 162: 2, 193: 2, 206: 2, 237: 2, 46: 2, 148: 2, 119: 2, 29: 2, 157: 2, 41: 2, 543: 2, 275: 2, 165: 2, 318: 2, 502: 2, 130: 2, 208: 2, 433: 2, 259: 2, 77: 2, 114: 2, 245: 2, 83: 2, 223: 2, 40: 2, 250: 2, 185: 2, 160: 2, 62: 2, 442: 2, 99: 2, 377: 2, 252: 2, 59: 2, 144: 2, 128: 2, 90: 2, 220: 2, 276: 2, 96: 2, 123: 2, 199: 2, 847: 2, 101: 2, 45: 2, 19: 2, 171: 2, 359: 2, 79: 2, 120: 2, 207: 2, 163: 2, 145: 2, 334: 1, 393: 1, 106: 1, 1132: 1, 833: 1, 329: 1, 216: 1, 1232: 1, 659: 1, 217: 1, 354: 1, 1434: 1, 189: 1, 458: 1, 426: 1, 1304: 1, 161: 1, 411: 1, 95: 1, 211: 1, 91: 1, 1882: 1, 150: 1, 347: 1, 1113: 1, 1629: 1, 167: 1, 858: 1, 151: 1, 249: 1, 501: 1, 686: 1, 219: 1, 195: 1, 861: 1, 594: 1, 725: 1, 184: 1, 720: 1, 1067: 1, 247: 1, 192: 1, 244: 1, 164: 1, 1242: 1, 402: 1, 2357: 1, 1574: 1, 182: 1, 606: 1, 1022: 1, 314: 1, 621: 1, 1328: 1, 1575: 1, 271: 1, 149: 1, 1076: 1, 330: 1, 236: 1, 533: 1, 269: 1, 1702: 1, 404: 1, 567: 1, 306: 1, 336: 1, 94: 1, 651: 1, 178: 1, 256: 1, 242: 1, 282: 1, 112: 1, 419: 1, 78: 1, 386: 1, 281: 1, 267: 1, 1141: 1, 1557: 1, 143: 1, 82: 1, 503: 1, 310: 1, 542: 1, 1133: 1, 652: 1, 323: 1, 518: 1, 581: 1, 496: 1, 494: 1, 1019: 1, 279: 1, 181: 1, 1130: 1, 1150: 1, 420: 1, 111: 1, 233: 1, 170: 1, 298: 1, 213: 1, 268: 1, 630: 1, 81: 1, 513: 1, 388: 1, 2276: 1, 190: 1, 299: 1, 537: 1, 286: 1, 155: 1, 1290: 1, 180: 1, 100: 1, 115: 1, 174: 1, 345: 1, 378: 1, 484: 1, 874: 1, 327: 1, 980: 1, 371: 1, 116: 1, 473: 1, 179: 1, 626: 1, 1569: 1, 565: 1, 1893: 1, 1354: 1, 505: 1, 122: 1, 431: 1, 235: 1, 154: 1, 313: 1, 229: 1, 110: 1, 176: 1, 1803: 1, 309: 1, 395: 1, 131: 1, 554: 1, 2070: 1, 132: 1, 401: 1, 264: 1, 2025: 1, 464: 1, 1518: 1, 935: 1, 1193: 1, 640: 1, 618: 1, 203: 1, 356: 1, 857: 1, 437: 1, 63: 1, 117: 1, 338: 1, 1296: 1, 759: 1, 507: 1, 320: 1, 427: 1, 456: 1, 634: 1, 55: 1, 331: 1, 1299: 1, 369: 1, 202: 1, 449: 1, 756: 1, 1069: 1, 343: 1, 173: 1, 92: 1, 406: 1, 848: 1, 374: 1, 380: 1, 234: 1, 1053: 1, 563: 1, 683: 1, 561: 1, 521: 1, 387: 1, 391: 1})\n"
          ],
          "name": "stdout"
        }
      ]
    },
    {
      "metadata": {
        "id": "QYBFSFhvaLoh",
        "colab_type": "text"
      },
      "cell_type": "markdown",
      "source": [
        "Score is bad.\n",
        "But training loss seems low enough.\n",
        "\n",
        "I want to invesitage whether this is because of\n",
        "\n",
        "1. overfitting\n",
        "2. loss criteria is not adeaquate\n",
        "\n",
        "If 1, training score must be good.\n",
        "So I want to predict to predict setand check the result."
      ]
    },
    {
      "metadata": {
        "id": "3Hl1FkMRyAaA",
        "colab_type": "code",
        "colab": {}
      },
      "cell_type": "code",
      "source": [
        "def calc_train_counter(model):\n",
        "  train_extracted_features_df = to_extracted_features(train_normalized_feature_dict_1000, model)\n",
        "  grants_extracted_features_df = to_extracted_features(grants_normalized_feature_dict_2000, model)\n",
        "  result_sim_dict = create_sim_dict(train_extracted_features_df, grants_extracted_features_df)\n",
        "  return calc_all_ranks_counter(train_extracted_features_df['doc_id'], result_sim_dict)"
      ],
      "execution_count": 0,
      "outputs": []
    },
    {
      "metadata": {
        "id": "Ft6WBXRCaKEQ",
        "colab_type": "code",
        "colab": {}
      },
      "cell_type": "code",
      "source": [
        "  train_extracted_features_df = to_extracted_features(train_normalized_feature_dict_1000, model)\n",
        "  grants_extracted_features_df = to_extracted_features(grants_normalized_feature_dict_2000, model)\n",
        "  result_sim_dict = create_sim_dict(train_extracted_features_df, grants_extracted_features_df)\n",
        "  counter = calc_all_ranks_counter(train_extracted_features_df['doc_id'], result_sim_dict)"
      ],
      "execution_count": 0,
      "outputs": []
    },
    {
      "metadata": {
        "id": "n2XoK_cDaJwd",
        "colab_type": "code",
        "colab": {
          "base_uri": "https://localhost:8080/",
          "height": 55
        },
        "outputId": "066f7b35-089e-4274-9dff-aca448d99597"
      },
      "cell_type": "code",
      "source": [
        "print(counter)"
      ],
      "execution_count": 319,
      "outputs": [
        {
          "output_type": "stream",
          "text": [
            "Counter({1: 174, 2: 79, 3: 56, 6: 41, 4: 33, 5: 28, 9: 24, 14: 21, 21: 21, 8: 21, 16: 18, 11: 18, 13: 17, 12: 17, 7: 17, 10: 16, 22: 15, 18: 14, 17: 14, 26: 11, 34: 11, 15: 11, 54: 10, 27: 10, 25: 8, 30: 8, 20: 8, 19: 8, 29: 8, 23: 8, 41: 8, 32: 8, 37: 8, 35: 7, 43: 7, 33: 7, 38: 7, 50: 6, 74: 6, 73: 6, 40: 6, 24: 6, 42: 6, 36: 6, 99: 6, 81: 5, 28: 5, 119: 5, 45: 5, 86: 5, 98: 5, 39: 5, 92: 5, 44: 5, 31: 4, 76: 4, 178: 4, 51: 4, 47: 4, 63: 4, 134: 4, 89: 4, 70: 4, 53: 4, 148: 4, 141: 4, 93: 4, 64: 4, 55: 4, 133: 4, 68: 3, 48: 3, 71: 3, 67: 3, 116: 3, 122: 3, 106: 3, 240: 3, 62: 3, 174: 3, 110: 3, 90: 3, 152: 3, 88: 3, 52: 3, 56: 3, 59: 3, 57: 3, 75: 3, 49: 3, 203: 3, 58: 3, 103: 3, 277: 3, 66: 3, 69: 3, 139: 3, 125: 3, 263: 3, 159: 3, 182: 2, 143: 2, 282: 2, 78: 2, 135: 2, 213: 2, 320: 2, 77: 2, 216: 2, 269: 2, 105: 2, 114: 2, 206: 2, 453: 2, 96: 2, 123: 2, 181: 2, 94: 2, 83: 2, 541: 2, 238: 2, 353: 2, 207: 2, 115: 2, 227: 2, 97: 2, 136: 2, 241: 2, 252: 2, 375: 2, 183: 2, 46: 2, 146: 2, 310: 2, 199: 2, 220: 2, 225: 2, 60: 2, 121: 2, 169: 2, 161: 2, 167: 2, 298: 2, 189: 2, 117: 2, 162: 2, 80: 2, 171: 2, 215: 2, 72: 2, 356: 2, 95: 2, 306: 1, 963: 1, 635: 1, 281: 1, 383: 1, 202: 1, 132: 1, 314: 1, 177: 1, 65: 1, 407: 1, 326: 1, 154: 1, 256: 1, 629: 1, 237: 1, 403: 1, 756: 1, 118: 1, 126: 1, 351: 1, 84: 1, 91: 1, 158: 1, 394: 1, 441: 1, 168: 1, 254: 1, 430: 1, 128: 1, 205: 1, 165: 1, 251: 1, 228: 1, 477: 1, 362: 1, 187: 1, 295: 1, 185: 1, 264: 1, 328: 1, 720: 1, 386: 1, 231: 1, 258: 1, 309: 1, 731: 1, 527: 1, 614: 1, 354: 1, 632: 1, 195: 1, 170: 1, 299: 1, 327: 1, 233: 1, 102: 1, 286: 1, 85: 1, 615: 1, 179: 1, 352: 1, 87: 1, 825: 1, 223: 1, 180: 1, 268: 1, 138: 1, 145: 1, 439: 1, 192: 1, 172: 1, 409: 1, 151: 1, 232: 1, 61: 1, 408: 1, 340: 1, 101: 1, 221: 1, 166: 1, 419: 1, 646: 1, 538: 1, 1091: 1, 229: 1, 239: 1, 516: 1, 346: 1, 142: 1, 278: 1, 1147: 1, 424: 1, 191: 1, 198: 1, 292: 1, 376: 1, 291: 1, 236: 1, 467: 1, 312: 1, 510: 1, 257: 1, 163: 1, 334: 1, 129: 1, 536: 1, 209: 1, 150: 1, 525: 1, 344: 1, 379: 1, 266: 1, 324: 1, 489: 1, 214: 1, 194: 1, 218: 1, 130: 1, 222: 1, 294: 1, 196: 1, 483: 1, 284: 1, 210: 1, 429: 1, 279: 1, 79: 1, 113: 1, 147: 1, 176: 1, 226: 1, 224: 1, 259: 1})\n"
          ],
          "name": "stdout"
        }
      ]
    },
    {
      "metadata": {
        "id": "NzllJu2zbHYj",
        "colab_type": "text"
      },
      "cell_type": "markdown",
      "source": [
        "Not so impressive. Check IdentityModel result."
      ]
    },
    {
      "metadata": {
        "id": "NLKvK7U9bGJr",
        "colab_type": "code",
        "colab": {}
      },
      "cell_type": "code",
      "source": [
        "identity_model = IdentityModel()"
      ],
      "execution_count": 0,
      "outputs": []
    },
    {
      "metadata": {
        "id": "ZOkfRM31aJeE",
        "colab_type": "code",
        "colab": {}
      },
      "cell_type": "code",
      "source": [
        "  ident_train_extracted_features_df = to_extracted_features(train_normalized_feature_dict_1000, identity_model)\n",
        "  ident_grants_extracted_features_df = to_extracted_features(grants_normalized_feature_dict_2000, identity_model)\n",
        "  ident_result_sim_dict = create_sim_dict(ident_train_extracted_features_df, ident_grants_extracted_features_df)\n",
        "  ident_counter = calc_all_ranks_counter(ident_train_extracted_features_df['doc_id'], ident_result_sim_dict)"
      ],
      "execution_count": 0,
      "outputs": []
    },
    {
      "metadata": {
        "id": "iW9CK-sdW-VB",
        "colab_type": "code",
        "colab": {
          "base_uri": "https://localhost:8080/",
          "height": 55
        },
        "outputId": "af8c3706-e079-49e5-f812-f8a437b114f3"
      },
      "cell_type": "code",
      "source": [
        "print(ident_counter)"
      ],
      "execution_count": 322,
      "outputs": [
        {
          "output_type": "stream",
          "text": [
            "Counter({1: 173, 2: 83, 3: 42, 4: 34, 6: 30, 5: 29, 9: 27, 12: 19, 8: 18, 10: 15, 11: 14, 7: 14, 26: 12, 14: 12, 13: 12, 19: 12, 15: 12, 23: 12, 21: 10, 16: 10, 37: 10, 20: 9, 32: 9, 17: 9, 28: 8, 25: 8, 18: 8, 44: 7, 36: 7, 22: 7, 33: 7, 24: 7, 31: 6, 40: 6, 42: 6, 45: 6, 53: 6, 82: 5, 47: 5, 59: 5, 58: 5, 79: 5, 30: 5, 34: 5, 43: 5, 98: 5, 65: 5, 100: 5, 74: 5, 77: 5, 48: 4, 63: 4, 68: 4, 219: 4, 113: 4, 60: 4, 155: 4, 76: 4, 78: 4, 57: 4, 39: 4, 27: 4, 38: 3, 54: 3, 337: 3, 41: 3, 92: 3, 176: 3, 141: 3, 227: 3, 75: 3, 49: 3, 102: 3, 50: 3, 115: 3, 46: 3, 61: 3, 184: 3, 119: 3, 89: 3, 199: 2, 195: 2, 173: 2, 73: 2, 579: 2, 148: 2, 2161: 2, 270: 2, 215: 2, 368: 2, 265: 2, 158: 2, 153: 2, 658: 2, 163: 2, 180: 2, 117: 2, 272: 2, 243: 2, 106: 2, 144: 2, 356: 2, 321: 2, 85: 2, 124: 2, 132: 2, 704: 2, 101: 2, 29: 2, 52: 2, 953: 2, 135: 2, 369: 2, 224: 2, 231: 2, 758: 2, 453: 2, 91: 2, 64: 2, 70: 2, 120: 2, 283: 2, 374: 2, 200: 2, 1627: 2, 238: 2, 242: 2, 571: 2, 264: 2, 151: 2, 373: 2, 2387: 2, 193: 2, 239: 2, 81: 2, 236: 2, 510: 2, 69: 2, 143: 2, 216: 2, 423: 2, 129: 2, 300: 1, 1553: 1, 1472: 1, 164: 1, 154: 1, 325: 1, 903: 1, 305: 1, 1962: 1, 1766: 1, 2368: 1, 2484: 1, 424: 1, 2041: 1, 954: 1, 357: 1, 1709: 1, 240: 1, 445: 1, 427: 1, 322: 1, 2524: 1, 1215: 1, 185: 1, 137: 1, 2305: 1, 2262: 1, 311: 1, 770: 1, 500: 1, 559: 1, 88: 1, 307: 1, 297: 1, 438: 1, 2522: 1, 142: 1, 1810: 1, 531: 1, 293: 1, 345: 1, 1391: 1, 728: 1, 1475: 1, 147: 1, 2191: 1, 1494: 1, 1739: 1, 251: 1, 294: 1, 545: 1, 632: 1, 1469: 1, 1328: 1, 2340: 1, 56: 1, 136: 1, 207: 1, 665: 1, 989: 1, 249: 1, 382: 1, 409: 1, 735: 1, 1292: 1, 186: 1, 83: 1, 882: 1, 501: 1, 663: 1, 869: 1, 170: 1, 1256: 1, 269: 1, 383: 1, 1439: 1, 191: 1, 280: 1, 574: 1, 95: 1, 462: 1, 426: 1, 1236: 1, 1587: 1, 2476: 1, 127: 1, 2466: 1, 511: 1, 341: 1, 1135: 1, 892: 1, 683: 1, 2083: 1, 1344: 1, 879: 1, 1601: 1, 1311: 1, 72: 1, 913: 1, 1459: 1, 1809: 1, 1644: 1, 138: 1, 1054: 1, 1613: 1, 854: 1, 1629: 1, 104: 1, 695: 1, 2235: 1, 434: 1, 474: 1, 2414: 1, 198: 1, 443: 1, 1985: 1, 378: 1, 114: 1, 400: 1, 1291: 1, 389: 1, 1501: 1, 71: 1, 788: 1, 467: 1, 259: 1, 1916: 1, 86: 1, 169: 1, 726: 1, 1227: 1, 358: 1, 595: 1, 2152: 1, 1854: 1, 538: 1, 1042: 1, 1096: 1, 241: 1, 717: 1, 478: 1, 941: 1, 519: 1, 111: 1, 2430: 1, 366: 1, 320: 1, 343: 1, 290: 1, 66: 1, 145: 1, 1374: 1, 813: 1, 757: 1, 551: 1, 2285: 1, 505: 1, 277: 1, 769: 1, 1422: 1, 1579: 1, 2209: 1, 926: 1, 1212: 1, 2162: 1, 181: 1, 62: 1, 391: 1, 2109: 1, 1466: 1, 464: 1, 2061: 1, 1198: 1, 108: 1, 97: 1, 159: 1, 927: 1, 1020: 1, 213: 1, 266: 1, 638: 1, 475: 1, 457: 1, 597: 1, 310: 1, 110: 1, 140: 1, 911: 1, 84: 1, 549: 1, 1733: 1, 664: 1, 351: 1, 847: 1, 218: 1, 1607: 1, 220: 1, 96: 1, 228: 1, 1171: 1, 276: 1, 118: 1, 2091: 1, 133: 1, 480: 1, 408: 1, 194: 1, 863: 1, 2464: 1, 947: 1, 80: 1, 196: 1, 660: 1, 583: 1, 314: 1, 1044: 1, 829: 1, 1013: 1, 165: 1, 541: 1, 2025: 1, 766: 1, 292: 1, 160: 1, 329: 1, 2206: 1, 2292: 1, 1006: 1, 105: 1, 1233: 1, 308: 1, 109: 1, 175: 1, 702: 1, 234: 1, 849: 1, 2116: 1, 570: 1, 1073: 1, 807: 1, 67: 1, 346: 1, 460: 1, 945: 1, 229: 1, 298: 1, 1368: 1, 1088: 1, 1554: 1, 99: 1, 1350: 1, 189: 1, 282: 1, 125: 1, 1711: 1, 123: 1, 201: 1, 2210: 1, 139: 1, 611: 1, 422: 1, 432: 1, 1196: 1, 342: 1, 152: 1, 502: 1, 2331: 1, 580: 1, 1586: 1, 2139: 1, 263: 1, 131: 1, 1132: 1, 156: 1, 121: 1})\n"
          ],
          "name": "stdout"
        }
      ]
    },
    {
      "metadata": {
        "id": "iT_P1BJ7bpWt",
        "colab_type": "text"
      },
      "cell_type": "markdown",
      "source": [
        "Almost the same result. And this result is almost the same as test set result (and a little different)\n",
        "It reasonable.\n",
        "\n",
        "**Conclusion: Lowering this loss does not lead to good result.**"
      ]
    },
    {
      "metadata": {
        "id": "isrJoRbBcHfh",
        "colab_type": "text"
      },
      "cell_type": "markdown",
      "source": [
        "But why?\n",
        "\n",
        "Investigate loss of some specific example."
      ]
    },
    {
      "metadata": {
        "id": "-e-V2-s5cGRJ",
        "colab_type": "code",
        "colab": {}
      },
      "cell_type": "code",
      "source": [
        "random.seed(0)\n",
        "test = create_training_input_np(0, 100)"
      ],
      "execution_count": 0,
      "outputs": []
    },
    {
      "metadata": {
        "id": "K8UVKM8zdDtv",
        "colab_type": "code",
        "colab": {}
      },
      "cell_type": "code",
      "source": [
        "test_ten = tf.convert_to_tensor(test, dtype=tf.float32)\n",
        "anchor_data, positive_data, negative_data = test_ten"
      ],
      "execution_count": 0,
      "outputs": []
    },
    {
      "metadata": {
        "id": "gSGc9ax6dDcz",
        "colab_type": "code",
        "colab": {}
      },
      "cell_type": "code",
      "source": [
        "anchor_out = model.frwrd_pass(anchor_data[0:10])\n",
        "positive_out = model.frwrd_pass(positive_data[0:10])\n",
        "negative_out = model.frwrd_pass(negative_data[0:10])\n",
        "curr_loss = tripletloss(anchor_out, positive_out, negative_out)"
      ],
      "execution_count": 0,
      "outputs": []
    },
    {
      "metadata": {
        "id": "2bxRIMRRdxb4",
        "colab_type": "code",
        "colab": {
          "base_uri": "https://localhost:8080/",
          "height": 35
        },
        "outputId": "64ce7eaf-d99c-4a97-fe4a-5f60c5de1b32"
      },
      "cell_type": "code",
      "source": [
        "curr_loss"
      ],
      "execution_count": 334,
      "outputs": [
        {
          "output_type": "execute_result",
          "data": {
            "text/plain": [
              "<tf.Tensor: id=57329251, shape=(), dtype=float32, numpy=0.0>"
            ]
          },
          "metadata": {
            "tags": []
          },
          "execution_count": 334
        }
      ]
    },
    {
      "metadata": {
        "colab_type": "code",
        "id": "W7OWc_nxd6pT",
        "colab": {}
      },
      "cell_type": "code",
      "source": [
        "norm_a_out = tf.nn.l2_normalize(anchor_out, axis=1)\n",
        "norm_p_out = tf.nn.l2_normalize(positive_out, axis=1)\n",
        "norm_n_out = tf.nn.l2_normalize(negative_out, axis=1)"
      ],
      "execution_count": 0,
      "outputs": []
    },
    {
      "metadata": {
        "colab_type": "code",
        "id": "5gfCITBVd6pX",
        "colab": {}
      },
      "cell_type": "code",
      "source": [
        "d_pos = tf.losses.cosine_distance(norm_a_out, norm_p_out, axis=1, reduction=tf.losses.Reduction.NONE)\n",
        "d_neg = tf.losses.cosine_distance(norm_a_out, norm_n_out, axis=1, reduction=tf.losses.Reduction.NONE)"
      ],
      "execution_count": 0,
      "outputs": []
    },
    {
      "metadata": {
        "id": "kUPWhnJteEYn",
        "colab_type": "code",
        "colab": {
          "base_uri": "https://localhost:8080/",
          "height": 213
        },
        "outputId": "031e382e-ce85-4568-89d1-722e15b8d89f"
      },
      "cell_type": "code",
      "source": [
        "d_pos"
      ],
      "execution_count": 337,
      "outputs": [
        {
          "output_type": "execute_result",
          "data": {
            "text/plain": [
              "<tf.Tensor: id=57329287, shape=(10, 1), dtype=float32, numpy=\n",
              "array([[0.6817989 ],\n",
              "       [0.7230514 ],\n",
              "       [0.5686636 ],\n",
              "       [0.2676103 ],\n",
              "       [0.48857576],\n",
              "       [0.36110663],\n",
              "       [0.474051  ],\n",
              "       [0.44065487],\n",
              "       [0.35019422],\n",
              "       [0.39531386]], dtype=float32)>"
            ]
          },
          "metadata": {
            "tags": []
          },
          "execution_count": 337
        }
      ]
    },
    {
      "metadata": {
        "id": "pzR0XY0NeGAt",
        "colab_type": "code",
        "colab": {
          "base_uri": "https://localhost:8080/",
          "height": 213
        },
        "outputId": "84c09872-4340-4b04-f722-1c23720c6a2e"
      },
      "cell_type": "code",
      "source": [
        "d_neg"
      ],
      "execution_count": 338,
      "outputs": [
        {
          "output_type": "execute_result",
          "data": {
            "text/plain": [
              "<tf.Tensor: id=57329301, shape=(10, 1), dtype=float32, numpy=\n",
              "array([[1.2124332],\n",
              "       [1.2268171],\n",
              "       [1.20551  ],\n",
              "       [1.1653724],\n",
              "       [1.045686 ],\n",
              "       [1.1525494],\n",
              "       [1.2070824],\n",
              "       [1.1135503],\n",
              "       [0.9210738],\n",
              "       [1.0298408]], dtype=float32)>"
            ]
          },
          "metadata": {
            "tags": []
          },
          "execution_count": 338
        }
      ]
    },
    {
      "metadata": {
        "id": "ZGBk39dueXby",
        "colab_type": "text"
      },
      "cell_type": "markdown",
      "source": [
        "Negative is large, but positive is not so close.\n",
        "\n",
        "Our final prediction is just find closest neighbor.\n",
        "This is one reason that lowering loss does not mean similar one closer.\n",
        "\n",
        "But how about more close negative case?\n"
      ]
    },
    {
      "metadata": {
        "id": "BScOGb2uexJg",
        "colab_type": "code",
        "colab": {}
      },
      "cell_type": "code",
      "source": [
        "random.seed(0)\n",
        "test = create_training_input_np(1900, 2000)"
      ],
      "execution_count": 0,
      "outputs": []
    },
    {
      "metadata": {
        "id": "0uMvKDurew4J",
        "colab_type": "code",
        "colab": {}
      },
      "cell_type": "code",
      "source": [
        "test_ten = tf.convert_to_tensor(test, dtype=tf.float32)\n",
        "anchor_data, positive_data, negative_data = test_ten\n",
        "anchor_out = model.frwrd_pass(anchor_data[0:10])\n",
        "positive_out = model.frwrd_pass(positive_data[0:10])\n",
        "negative_out = model.frwrd_pass(negative_data[0:10])\n",
        "curr_loss = tripletloss(anchor_out, positive_out, negative_out)"
      ],
      "execution_count": 0,
      "outputs": []
    },
    {
      "metadata": {
        "id": "LBlefbGve7ja",
        "colab_type": "code",
        "colab": {
          "base_uri": "https://localhost:8080/",
          "height": 35
        },
        "outputId": "46571642-733b-4257-ca13-2e271ff92c7c"
      },
      "cell_type": "code",
      "source": [
        "curr_loss"
      ],
      "execution_count": 342,
      "outputs": [
        {
          "output_type": "execute_result",
          "data": {
            "text/plain": [
              "<tf.Tensor: id=57329411, shape=(), dtype=float32, numpy=0.01797967>"
            ]
          },
          "metadata": {
            "tags": []
          },
          "execution_count": 342
        }
      ]
    },
    {
      "metadata": {
        "id": "yFu8jMc5eD8A",
        "colab_type": "code",
        "colab": {}
      },
      "cell_type": "code",
      "source": [
        "norm_a_out = tf.nn.l2_normalize(anchor_out, axis=1)\n",
        "norm_p_out = tf.nn.l2_normalize(positive_out, axis=1)\n",
        "norm_n_out = tf.nn.l2_normalize(negative_out, axis=1)\n",
        "d_pos = tf.losses.cosine_distance(norm_a_out, norm_p_out, axis=1, reduction=tf.losses.Reduction.NONE)\n",
        "d_neg = tf.losses.cosine_distance(norm_a_out, norm_n_out, axis=1, reduction=tf.losses.Reduction.NONE)"
      ],
      "execution_count": 0,
      "outputs": []
    },
    {
      "metadata": {
        "id": "ZTFve7rPBZ_J",
        "colab_type": "code",
        "colab": {
          "base_uri": "https://localhost:8080/",
          "height": 213
        },
        "outputId": "e734772e-7cd2-4e5d-f7fa-78fa73eb9c11"
      },
      "cell_type": "code",
      "source": [
        "d_pos"
      ],
      "execution_count": 344,
      "outputs": [
        {
          "output_type": "execute_result",
          "data": {
            "text/plain": [
              "<tf.Tensor: id=57329447, shape=(10, 1), dtype=float32, numpy=\n",
              "array([[0.6817989 ],\n",
              "       [0.7230514 ],\n",
              "       [0.5686636 ],\n",
              "       [0.2676103 ],\n",
              "       [0.48857576],\n",
              "       [0.36110663],\n",
              "       [0.474051  ],\n",
              "       [0.44065487],\n",
              "       [0.35019422],\n",
              "       [0.39531386]], dtype=float32)>"
            ]
          },
          "metadata": {
            "tags": []
          },
          "execution_count": 344
        }
      ]
    },
    {
      "metadata": {
        "id": "5cRkDAfqfKpB",
        "colab_type": "code",
        "colab": {
          "base_uri": "https://localhost:8080/",
          "height": 213
        },
        "outputId": "a1f48722-1aa6-4a61-b3f0-db9929a6065e"
      },
      "cell_type": "code",
      "source": [
        "d_neg"
      ],
      "execution_count": 345,
      "outputs": [
        {
          "output_type": "execute_result",
          "data": {
            "text/plain": [
              "<tf.Tensor: id=57329461, shape=(10, 1), dtype=float32, numpy=\n",
              "array([[0.7595509 ],\n",
              "       [0.97673   ],\n",
              "       [0.79981047],\n",
              "       [0.9308967 ],\n",
              "       [0.631027  ],\n",
              "       [0.7019844 ],\n",
              "       [0.69824123],\n",
              "       [0.8044194 ],\n",
              "       [0.82447743],\n",
              "       [0.7774799 ]], dtype=float32)>"
            ]
          },
          "metadata": {
            "tags": []
          },
          "execution_count": 345
        }
      ]
    },
    {
      "metadata": {
        "id": "CiQYBqhFfg25",
        "colab_type": "code",
        "colab": {}
      },
      "cell_type": "code",
      "source": [
        ""
      ],
      "execution_count": 0,
      "outputs": []
    },
    {
      "metadata": {
        "id": "0l1hCfNkfiTD",
        "colab_type": "text"
      },
      "cell_type": "markdown",
      "source": [
        "Seems even similar example, they just make negative one to away.\n",
        "\n",
        "Try identity model."
      ]
    },
    {
      "metadata": {
        "id": "JOBaHjaefN9I",
        "colab_type": "code",
        "colab": {}
      },
      "cell_type": "code",
      "source": [
        "anchor_out = identity_model.frwrd_pass(anchor_data[0:10])\n",
        "positive_out = identity_model.frwrd_pass(positive_data[0:10])\n",
        "negative_out = identity_model.frwrd_pass(negative_data[0:10])\n",
        "curr_loss = tripletloss(anchor_out, positive_out, negative_out)"
      ],
      "execution_count": 0,
      "outputs": []
    },
    {
      "metadata": {
        "id": "tB5oV0GAfzsP",
        "colab_type": "code",
        "colab": {
          "base_uri": "https://localhost:8080/",
          "height": 35
        },
        "outputId": "9fd039f4-0106-477d-d6fb-66375dd2568d"
      },
      "cell_type": "code",
      "source": [
        "curr_loss"
      ],
      "execution_count": 348,
      "outputs": [
        {
          "output_type": "execute_result",
          "data": {
            "text/plain": [
              "<tf.Tensor: id=57329531, shape=(), dtype=float32, numpy=0.095065005>"
            ]
          },
          "metadata": {
            "tags": []
          },
          "execution_count": 348
        }
      ]
    },
    {
      "metadata": {
        "id": "hxl_1Oh0fNfS",
        "colab_type": "code",
        "colab": {}
      },
      "cell_type": "code",
      "source": [
        "norm_a_out = tf.nn.l2_normalize(anchor_out, axis=1)\n",
        "norm_p_out = tf.nn.l2_normalize(positive_out, axis=1)\n",
        "norm_n_out = tf.nn.l2_normalize(negative_out, axis=1)\n",
        "d_pos = tf.losses.cosine_distance(norm_a_out, norm_p_out, axis=1, reduction=tf.losses.Reduction.NONE)\n",
        "d_neg = tf.losses.cosine_distance(norm_a_out, norm_n_out, axis=1, reduction=tf.losses.Reduction.NONE)"
      ],
      "execution_count": 0,
      "outputs": []
    },
    {
      "metadata": {
        "id": "x1xikNJAfMlZ",
        "colab_type": "code",
        "colab": {
          "base_uri": "https://localhost:8080/",
          "height": 213
        },
        "outputId": "0a083545-8ea8-4959-fcef-5022fabec4af"
      },
      "cell_type": "code",
      "source": [
        "d_pos"
      ],
      "execution_count": 350,
      "outputs": [
        {
          "output_type": "execute_result",
          "data": {
            "text/plain": [
              "<tf.Tensor: id=57329567, shape=(10, 1), dtype=float32, numpy=\n",
              "array([[0.43431515],\n",
              "       [0.2820537 ],\n",
              "       [0.33015478],\n",
              "       [0.12734157],\n",
              "       [0.19363195],\n",
              "       [0.12262952],\n",
              "       [0.24435222],\n",
              "       [0.18245894],\n",
              "       [0.1227845 ],\n",
              "       [0.13579476]], dtype=float32)>"
            ]
          },
          "metadata": {
            "tags": []
          },
          "execution_count": 350
        }
      ]
    },
    {
      "metadata": {
        "id": "Ds8_gwGfgDEA",
        "colab_type": "code",
        "colab": {
          "base_uri": "https://localhost:8080/",
          "height": 213
        },
        "outputId": "77744d9a-503d-491a-a752-9cb3e38ec3d9"
      },
      "cell_type": "code",
      "source": [
        "d_neg"
      ],
      "execution_count": 351,
      "outputs": [
        {
          "output_type": "execute_result",
          "data": {
            "text/plain": [
              "<tf.Tensor: id=57329581, shape=(10, 1), dtype=float32, numpy=\n",
              "array([[0.42137587],\n",
              "       [0.42301697],\n",
              "       [0.42255068],\n",
              "       [0.314467  ],\n",
              "       [0.26410198],\n",
              "       [0.27452755],\n",
              "       [0.2767427 ],\n",
              "       [0.27861154],\n",
              "       [0.27544433],\n",
              "       [0.2740283 ]], dtype=float32)>"
            ]
          },
          "metadata": {
            "tags": []
          },
          "execution_count": 351
        }
      ]
    },
    {
      "metadata": {
        "id": "-F1o_ClmgQ7B",
        "colab_type": "text"
      },
      "cell_type": "markdown",
      "source": [
        "Both are smaller. It's natural that d_neg is small because this is the definition of \"difficult\"."
      ]
    },
    {
      "metadata": {
        "id": "K4dTjm2PsLjS",
        "colab_type": "text"
      },
      "cell_type": "markdown",
      "source": [
        "Hypotheses:\n",
        "\n",
        "Negative sample seems too small?\n",
        "More versatile negative sample cause model to decide to loate positive closer."
      ]
    },
    {
      "metadata": {
        "id": "YEHjWTCfsvKB",
        "colab_type": "code",
        "colab": {}
      },
      "cell_type": "code",
      "source": [
        "NEGATIVE_SAMPLE_RATIO=10"
      ],
      "execution_count": 0,
      "outputs": []
    },
    {
      "metadata": {
        "id": "3BHLN5PZnR5O",
        "colab_type": "code",
        "colab": {
          "base_uri": "https://localhost:8080/",
          "height": 106
        },
        "outputId": "953d917f-1f55-4fbe-dccf-47969027a6f2"
      },
      "cell_type": "code",
      "source": [
        "print_losses()"
      ],
      "execution_count": 63,
      "outputs": [
        {
          "output_type": "stream",
          "text": [
            "0:100 0.00155129365157336\n",
            "100:200 0.0037491279654204845\n",
            "900:1000 0.029180005192756653\n",
            "1000:1100 0.03348637744784355\n",
            "1900:2000 0.08770105242729187\n"
          ],
          "name": "stdout"
        }
      ]
    },
    {
      "metadata": {
        "id": "gU9g7CNInRik",
        "colab_type": "code",
        "colab": {}
      },
      "cell_type": "code",
      "source": [
        "NEGATIVE_SAMPLE_RATIO=1"
      ],
      "execution_count": 0,
      "outputs": []
    },
    {
      "metadata": {
        "id": "jCpc9ybKsz8C",
        "colab_type": "code",
        "colab": {
          "base_uri": "https://localhost:8080/",
          "height": 106
        },
        "outputId": "2c370a9b-6a68-4aa5-83ad-5d47d523ae5c"
      },
      "cell_type": "code",
      "source": [
        "print_losses()"
      ],
      "execution_count": 65,
      "outputs": [
        {
          "output_type": "stream",
          "text": [
            "0:100 0.0015728222206234932\n",
            "100:200 0.0036995408590883017\n",
            "900:1000 0.0294814296066761\n",
            "1000:1100 0.034682419151067734\n",
            "1900:2000 0.08755087107419968\n"
          ],
          "name": "stdout"
        }
      ]
    },
    {
      "metadata": {
        "id": "3QXgp9F3tCd_",
        "colab_type": "text"
      },
      "cell_type": "markdown",
      "source": [
        "No visible difference. So learning result will be also similar..."
      ]
    },
    {
      "metadata": {
        "id": "0ctdPU6gu50S",
        "colab_type": "text"
      },
      "cell_type": "markdown",
      "source": [
        "### Hypotheses: 1900:2000 might be not enough\n",
        "\n",
        "grants have 2524. Top 524 is still not enough for our final result check (we don't care about top 500, but just top 10)\n",
        "\n",
        "Note. Instance is restearted. So I re-train and current model is a little different from previous overfitted one."
      ]
    },
    {
      "metadata": {
        "id": "IcfWgTnYvJcr",
        "colab_type": "code",
        "colab": {
          "base_uri": "https://localhost:8080/",
          "height": 106
        },
        "outputId": "64c51e6a-3287-421e-deb5-790a395ff79f"
      },
      "cell_type": "code",
      "source": [
        "print_losses()"
      ],
      "execution_count": 77,
      "outputs": [
        {
          "output_type": "stream",
          "text": [
            "0:100 0.0038403773214668036\n",
            "100:200 0.0030226900707930326\n",
            "900:1000 0.004455043934285641\n",
            "1000:1100 0.006801951676607132\n",
            "1900:2000 0.020214032381772995\n"
          ],
          "name": "stdout"
        }
      ]
    },
    {
      "metadata": {
        "id": "i1PbPBsawdeR",
        "colab_type": "code",
        "colab": {}
      },
      "cell_type": "code",
      "source": [
        "random.seed(0)\n",
        "test = create_training_input_np(2400, 2500)\n",
        "test_ten = tf.convert_to_tensor(test, dtype=tf.float32)\n",
        "anchor_data, positive_data, negative_data = test_ten"
      ],
      "execution_count": 0,
      "outputs": []
    },
    {
      "metadata": {
        "id": "OEKj4OcBwcs7",
        "colab_type": "code",
        "colab": {}
      },
      "cell_type": "code",
      "source": [
        "anchor_out = model.frwrd_pass(anchor_data[0:10])\n",
        "positive_out = model.frwrd_pass(positive_data[0:10])\n",
        "negative_out = model.frwrd_pass(negative_data[0:10])\n",
        "curr_loss = tripletloss(anchor_out, positive_out, negative_out)"
      ],
      "execution_count": 0,
      "outputs": []
    },
    {
      "metadata": {
        "id": "6ooTBa5ixCet",
        "colab_type": "code",
        "colab": {}
      },
      "cell_type": "code",
      "source": [
        "norm_a_out = tf.nn.l2_normalize(anchor_out, axis=1)\n",
        "norm_p_out = tf.nn.l2_normalize(positive_out, axis=1)\n",
        "norm_n_out = tf.nn.l2_normalize(negative_out, axis=1)\n",
        "d_pos = tf.losses.cosine_distance(norm_a_out, norm_p_out, axis=1, reduction=tf.losses.Reduction.NONE)\n",
        "d_neg = tf.losses.cosine_distance(norm_a_out, norm_n_out, axis=1, reduction=tf.losses.Reduction.NONE)"
      ],
      "execution_count": 0,
      "outputs": []
    },
    {
      "metadata": {
        "id": "erOfhfbHxxiG",
        "colab_type": "code",
        "colab": {
          "base_uri": "https://localhost:8080/",
          "height": 35
        },
        "outputId": "4819ec7f-a9e7-4009-d5ef-25e6eac24b0a"
      },
      "cell_type": "code",
      "source": [
        "curr_loss"
      ],
      "execution_count": 83,
      "outputs": [
        {
          "output_type": "execute_result",
          "data": {
            "text/plain": [
              "<tf.Tensor: id=13151883, shape=(), dtype=float32, numpy=0.071649976>"
            ]
          },
          "metadata": {
            "tags": []
          },
          "execution_count": 83
        }
      ]
    },
    {
      "metadata": {
        "id": "mZDZk_eTxwsa",
        "colab_type": "code",
        "colab": {
          "base_uri": "https://localhost:8080/",
          "height": 213
        },
        "outputId": "7d729b6f-c7d1-4f6f-d96f-eb3e9a42fb92"
      },
      "cell_type": "code",
      "source": [
        "d_pos"
      ],
      "execution_count": 84,
      "outputs": [
        {
          "output_type": "execute_result",
          "data": {
            "text/plain": [
              "<tf.Tensor: id=13151918, shape=(10, 1), dtype=float32, numpy=\n",
              "array([[0.6538392 ],\n",
              "       [0.519831  ],\n",
              "       [0.51159793],\n",
              "       [0.21408975],\n",
              "       [0.45576078],\n",
              "       [0.30274475],\n",
              "       [0.38854128],\n",
              "       [0.43333435],\n",
              "       [0.314139  ],\n",
              "       [0.3563041 ]], dtype=float32)>"
            ]
          },
          "metadata": {
            "tags": []
          },
          "execution_count": 84
        }
      ]
    },
    {
      "metadata": {
        "id": "2mC2NKXtx2HA",
        "colab_type": "code",
        "colab": {
          "base_uri": "https://localhost:8080/",
          "height": 213
        },
        "outputId": "0abadc9d-6bbb-44f2-8990-5295c50657d6"
      },
      "cell_type": "code",
      "source": [
        "d_neg"
      ],
      "execution_count": 85,
      "outputs": [
        {
          "output_type": "execute_result",
          "data": {
            "text/plain": [
              "<tf.Tensor: id=13151932, shape=(10, 1), dtype=float32, numpy=\n",
              "array([[0.5881821 ],\n",
              "       [0.5688733 ],\n",
              "       [0.6746192 ],\n",
              "       [0.46505594],\n",
              "       [0.5540833 ],\n",
              "       [0.57176256],\n",
              "       [0.536672  ],\n",
              "       [0.5353457 ],\n",
              "       [0.50276816],\n",
              "       [0.6260102 ]], dtype=float32)>"
            ]
          },
          "metadata": {
            "tags": []
          },
          "execution_count": 85
        }
      ]
    },
    {
      "metadata": {
        "id": "Sxb1G377x6rO",
        "colab_type": "code",
        "colab": {
          "base_uri": "https://localhost:8080/",
          "height": 55
        },
        "outputId": "1d8b6ab3-9164-4aa7-edce-d95828e74958"
      },
      "cell_type": "code",
      "source": [
        "print(calc_train_counter(model))"
      ],
      "execution_count": 89,
      "outputs": [
        {
          "output_type": "stream",
          "text": [
            "Counter({1: 181, 2: 74, 4: 48, 3: 44, 5: 36, 6: 30, 8: 28, 7: 25, 14: 22, 9: 19, 10: 19, 11: 16, 13: 15, 12: 15, 21: 15, 35: 14, 36: 14, 29: 13, 18: 13, 19: 12, 25: 12, 17: 11, 16: 11, 15: 10, 20: 10, 23: 10, 30: 9, 32: 9, 24: 9, 45: 8, 26: 8, 51: 8, 85: 8, 27: 7, 39: 7, 40: 6, 43: 6, 31: 6, 48: 6, 55: 6, 79: 6, 66: 6, 61: 6, 42: 6, 54: 5, 47: 5, 50: 5, 92: 5, 72: 5, 67: 5, 34: 5, 189: 5, 70: 5, 90: 5, 84: 5, 22: 5, 69: 5, 111: 4, 38: 4, 46: 4, 151: 4, 53: 4, 122: 4, 68: 4, 76: 4, 59: 4, 65: 4, 28: 4, 164: 4, 49: 4, 62: 4, 44: 4, 33: 4, 113: 4, 181: 4, 95: 4, 157: 4, 71: 4, 82: 4, 56: 3, 149: 3, 140: 3, 63: 3, 58: 3, 60: 3, 74: 3, 120: 3, 80: 3, 251: 3, 106: 3, 176: 3, 117: 3, 170: 3, 86: 3, 57: 3, 77: 3, 207: 2, 167: 2, 163: 2, 133: 2, 478: 2, 37: 2, 89: 2, 102: 2, 87: 2, 211: 2, 142: 2, 240: 2, 371: 2, 213: 2, 187: 2, 296: 2, 201: 2, 303: 2, 114: 2, 269: 2, 155: 2, 137: 2, 148: 2, 78: 2, 109: 2, 168: 2, 209: 2, 241: 2, 108: 2, 387: 2, 449: 2, 41: 2, 99: 2, 428: 2, 91: 2, 125: 2, 274: 2, 129: 2, 229: 2, 94: 2, 146: 2, 205: 2, 347: 2, 131: 2, 119: 2, 110: 2, 147: 2, 235: 2, 219: 2, 393: 1, 326: 1, 267: 1, 116: 1, 762: 1, 345: 1, 667: 1, 273: 1, 225: 1, 368: 1, 216: 1, 115: 1, 336: 1, 162: 1, 186: 1, 658: 1, 183: 1, 220: 1, 611: 1, 332: 1, 1178: 1, 135: 1, 389: 1, 107: 1, 105: 1, 180: 1, 237: 1, 564: 1, 228: 1, 81: 1, 377: 1, 215: 1, 260: 1, 298: 1, 160: 1, 360: 1, 417: 1, 98: 1, 221: 1, 222: 1, 411: 1, 545: 1, 121: 1, 248: 1, 480: 1, 104: 1, 352: 1, 150: 1, 364: 1, 191: 1, 706: 1, 272: 1, 97: 1, 196: 1, 443: 1, 929: 1, 917: 1, 242: 1, 656: 1, 472: 1, 195: 1, 210: 1, 165: 1, 73: 1, 506: 1, 93: 1, 143: 1, 88: 1, 471: 1, 781: 1, 385: 1, 184: 1, 100: 1, 1011: 1, 223: 1, 227: 1, 141: 1, 708: 1, 301: 1, 179: 1, 344: 1, 588: 1, 234: 1, 634: 1, 483: 1, 249: 1, 551: 1, 266: 1, 1080: 1, 412: 1, 203: 1, 388: 1, 239: 1, 337: 1, 136: 1, 123: 1, 218: 1, 101: 1, 1076: 1, 173: 1, 699: 1, 182: 1, 124: 1, 351: 1, 52: 1, 231: 1, 127: 1, 574: 1, 774: 1, 1200: 1, 139: 1, 341: 1, 265: 1, 224: 1, 206: 1, 128: 1, 64: 1, 264: 1, 118: 1, 153: 1, 1118: 1, 528: 1, 469: 1, 442: 1, 446: 1, 620: 1, 366: 1, 204: 1, 83: 1, 245: 1, 232: 1, 321: 1, 959: 1, 132: 1, 434: 1, 138: 1})\n"
          ],
          "name": "stdout"
        }
      ]
    },
    {
      "metadata": {
        "id": "XgJ18qPLx6Ke",
        "colab_type": "code",
        "colab": {}
      },
      "cell_type": "code",
      "source": [
        ""
      ],
      "execution_count": 0,
      "outputs": []
    },
    {
      "metadata": {
        "id": "YnMAlwfQxCFM",
        "colab_type": "code",
        "colab": {
          "base_uri": "https://localhost:8080/",
          "height": 124
        },
        "outputId": "dd10999a-77c3-4247-8358-5abe6eb06503"
      },
      "cell_type": "code",
      "source": [
        "train_one_difficulty(2400, 2500, epochs=41)"
      ],
      "execution_count": 90,
      "outputs": [
        {
          "output_type": "stream",
          "text": [
            "   start index: 2400, end index: 2500\n",
            "Loss at step 0: 0.07692\n",
            "Loss at step 10: 0.09115\n",
            "Loss at step 20: 0.10704\n",
            "Loss at step 30: 0.08312\n",
            "Loss at step 40: 0.06091\n"
          ],
          "name": "stdout"
        }
      ]
    },
    {
      "metadata": {
        "id": "JxQiu5K1yvXf",
        "colab_type": "code",
        "colab": {
          "base_uri": "https://localhost:8080/",
          "height": 106
        },
        "outputId": "50623be8-f9f0-456c-c58d-1a6f57a7a172"
      },
      "cell_type": "code",
      "source": [
        "print_losses()"
      ],
      "execution_count": 91,
      "outputs": [
        {
          "output_type": "stream",
          "text": [
            "0:100 0.005918825510889292\n",
            "100:200 0.004289938602596521\n",
            "900:1000 0.004750657361000776\n",
            "1000:1100 0.0069107962772250175\n",
            "1900:2000 0.015909604728221893\n"
          ],
          "name": "stdout"
        }
      ]
    },
    {
      "metadata": {
        "id": "lGxmotwCzkmC",
        "colab_type": "code",
        "colab": {
          "base_uri": "https://localhost:8080/",
          "height": 55
        },
        "outputId": "7e24a788-9227-48af-db7c-d4c34a0091de"
      },
      "cell_type": "code",
      "source": [
        "print(calc_train_counter(model))"
      ],
      "execution_count": 92,
      "outputs": [
        {
          "output_type": "stream",
          "text": [
            "Counter({1: 188, 2: 85, 4: 48, 3: 47, 6: 39, 7: 35, 9: 30, 5: 29, 8: 25, 11: 25, 15: 21, 12: 21, 10: 20, 14: 19, 23: 14, 32: 14, 13: 13, 20: 12, 36: 12, 21: 12, 35: 11, 18: 11, 17: 11, 22: 10, 41: 10, 33: 10, 29: 10, 38: 9, 16: 9, 25: 9, 19: 9, 28: 9, 24: 9, 54: 7, 65: 7, 46: 7, 88: 7, 81: 7, 40: 6, 51: 6, 27: 6, 69: 6, 39: 6, 60: 6, 67: 6, 59: 6, 44: 6, 37: 6, 42: 6, 45: 6, 43: 5, 34: 5, 26: 5, 61: 4, 80: 4, 68: 4, 64: 4, 77: 4, 86: 4, 123: 4, 31: 4, 71: 4, 48: 4, 55: 4, 63: 4, 74: 3, 30: 3, 192: 3, 75: 3, 182: 3, 101: 3, 150: 3, 62: 3, 119: 3, 70: 3, 134: 3, 115: 3, 224: 3, 137: 3, 47: 3, 146: 3, 173: 3, 110: 3, 248: 2, 102: 2, 106: 2, 171: 2, 79: 2, 117: 2, 91: 2, 112: 2, 328: 2, 161: 2, 56: 2, 92: 2, 78: 2, 52: 2, 407: 2, 95: 2, 166: 2, 187: 2, 94: 2, 274: 2, 181: 2, 144: 2, 100: 2, 149: 2, 84: 2, 133: 2, 131: 2, 236: 2, 120: 2, 90: 2, 142: 2, 758: 2, 210: 2, 156: 2, 255: 2, 204: 2, 167: 2, 66: 2, 151: 2, 93: 2, 128: 2, 188: 2, 186: 2, 196: 2, 108: 2, 164: 2, 105: 2, 451: 1, 197: 1, 376: 1, 240: 1, 354: 1, 624: 1, 152: 1, 226: 1, 135: 1, 165: 1, 124: 1, 456: 1, 141: 1, 223: 1, 419: 1, 589: 1, 193: 1, 1109: 1, 159: 1, 442: 1, 126: 1, 129: 1, 428: 1, 160: 1, 206: 1, 225: 1, 233: 1, 130: 1, 433: 1, 348: 1, 202: 1, 201: 1, 114: 1, 375: 1, 281: 1, 460: 1, 246: 1, 511: 1, 200: 1, 308: 1, 346: 1, 163: 1, 383: 1, 278: 1, 364: 1, 750: 1, 253: 1, 1010: 1, 145: 1, 189: 1, 420: 1, 289: 1, 199: 1, 176: 1, 183: 1, 99: 1, 107: 1, 286: 1, 421: 1, 843: 1, 478: 1, 338: 1, 153: 1, 209: 1, 806: 1, 85: 1, 175: 1, 307: 1, 220: 1, 408: 1, 596: 1, 409: 1, 351: 1, 336: 1, 749: 1, 959: 1, 858: 1, 172: 1, 476: 1, 139: 1, 148: 1, 72: 1, 696: 1, 677: 1, 140: 1, 82: 1, 158: 1, 132: 1, 179: 1, 96: 1, 227: 1, 326: 1, 280: 1, 325: 1, 49: 1, 539: 1, 679: 1, 329: 1, 1349: 1, 350: 1, 125: 1, 271: 1, 98: 1, 190: 1, 180: 1, 290: 1, 138: 1, 1193: 1, 461: 1, 185: 1, 458: 1, 73: 1, 412: 1, 250: 1, 89: 1, 516: 1, 214: 1, 337: 1, 392: 1, 272: 1, 97: 1, 256: 1, 217: 1, 341: 1, 264: 1, 884: 1, 184: 1, 238: 1})\n"
          ],
          "name": "stdout"
        }
      ]
    },
    {
      "metadata": {
        "id": "HDajOhID0Dks",
        "colab_type": "code",
        "colab": {}
      },
      "cell_type": "code",
      "source": [
        "anchor_out = model.frwrd_pass(anchor_data[0:10])\n",
        "positive_out = model.frwrd_pass(positive_data[0:10])\n",
        "negative_out = model.frwrd_pass(negative_data[0:10])\n",
        "curr_loss = tripletloss(anchor_out, positive_out, negative_out)"
      ],
      "execution_count": 0,
      "outputs": []
    },
    {
      "metadata": {
        "id": "QEjO-wNs0C61",
        "colab_type": "code",
        "colab": {
          "base_uri": "https://localhost:8080/",
          "height": 35
        },
        "outputId": "3ff8cb90-2907-41b7-f1ba-c7b1e4f6539d"
      },
      "cell_type": "code",
      "source": [
        "curr_loss"
      ],
      "execution_count": 94,
      "outputs": [
        {
          "output_type": "execute_result",
          "data": {
            "text/plain": [
              "<tf.Tensor: id=15281957, shape=(), dtype=float32, numpy=0.052411757>"
            ]
          },
          "metadata": {
            "tags": []
          },
          "execution_count": 94
        }
      ]
    },
    {
      "metadata": {
        "id": "ZWL1yAvs0Kxs",
        "colab_type": "code",
        "colab": {}
      },
      "cell_type": "code",
      "source": [
        "norm_a_out = tf.nn.l2_normalize(anchor_out, axis=1)\n",
        "norm_p_out = tf.nn.l2_normalize(positive_out, axis=1)\n",
        "norm_n_out = tf.nn.l2_normalize(negative_out, axis=1)\n",
        "d_pos = tf.losses.cosine_distance(norm_a_out, norm_p_out, axis=1, reduction=tf.losses.Reduction.NONE)\n",
        "d_neg = tf.losses.cosine_distance(norm_a_out, norm_n_out, axis=1, reduction=tf.losses.Reduction.NONE)"
      ],
      "execution_count": 0,
      "outputs": []
    },
    {
      "metadata": {
        "id": "WFSsI-9_0Jsq",
        "colab_type": "code",
        "colab": {
          "base_uri": "https://localhost:8080/",
          "height": 213
        },
        "outputId": "43e9f933-7205-4248-b976-84d20bae681e"
      },
      "cell_type": "code",
      "source": [
        "d_pos"
      ],
      "execution_count": 96,
      "outputs": [
        {
          "output_type": "execute_result",
          "data": {
            "text/plain": [
              "<tf.Tensor: id=15281993, shape=(10, 1), dtype=float32, numpy=\n",
              "array([[0.62759006],\n",
              "       [0.54049766],\n",
              "       [0.49991387],\n",
              "       [0.21470726],\n",
              "       [0.46231097],\n",
              "       [0.34099472],\n",
              "       [0.40030754],\n",
              "       [0.47132695],\n",
              "       [0.35210943],\n",
              "       [0.3938731 ]], dtype=float32)>"
            ]
          },
          "metadata": {
            "tags": []
          },
          "execution_count": 96
        }
      ]
    },
    {
      "metadata": {
        "id": "-yBB6Xlr0S38",
        "colab_type": "code",
        "colab": {
          "base_uri": "https://localhost:8080/",
          "height": 213
        },
        "outputId": "8e206132-d8e2-4b02-ae13-85d050c3f5d5"
      },
      "cell_type": "code",
      "source": [
        "d_neg"
      ],
      "execution_count": 97,
      "outputs": [
        {
          "output_type": "execute_result",
          "data": {
            "text/plain": [
              "<tf.Tensor: id=15282007, shape=(10, 1), dtype=float32, numpy=\n",
              "array([[0.6204622 ],\n",
              "       [0.5929167 ],\n",
              "       [0.7050966 ],\n",
              "       [0.47890544],\n",
              "       [0.5733918 ],\n",
              "       [0.6464665 ],\n",
              "       [0.59796584],\n",
              "       [0.593179  ],\n",
              "       [0.5710293 ],\n",
              "       [0.7072733 ]], dtype=float32)>"
            ]
          },
          "metadata": {
            "tags": []
          },
          "execution_count": 97
        }
      ]
    },
    {
      "metadata": {
        "id": "ipayOqwO0mnd",
        "colab_type": "text"
      },
      "cell_type": "markdown",
      "source": [
        "Seems improve. Train more."
      ]
    },
    {
      "metadata": {
        "id": "HAJ3mQkm0SR7",
        "colab_type": "code",
        "colab": {
          "base_uri": "https://localhost:8080/",
          "height": 124
        },
        "outputId": "65632818-4322-474f-e649-48c64bb8d68a"
      },
      "cell_type": "code",
      "source": [
        "train_one_difficulty(2400, 2500, epochs=41)"
      ],
      "execution_count": 98,
      "outputs": [
        {
          "output_type": "stream",
          "text": [
            "   start index: 2400, end index: 2500\n",
            "Loss at step 0: 0.06085\n",
            "Loss at step 10: 0.07161\n",
            "Loss at step 20: 0.09513\n",
            "Loss at step 30: 0.07689\n",
            "Loss at step 40: 0.05186\n"
          ],
          "name": "stdout"
        }
      ]
    },
    {
      "metadata": {
        "id": "qAo__D5s0sqM",
        "colab_type": "code",
        "colab": {}
      },
      "cell_type": "code",
      "source": [
        ""
      ],
      "execution_count": 0,
      "outputs": []
    },
    {
      "metadata": {
        "id": "wzC4KP6A0rxh",
        "colab_type": "code",
        "colab": {}
      },
      "cell_type": "code",
      "source": [
        ""
      ],
      "execution_count": 0,
      "outputs": []
    },
    {
      "metadata": {
        "colab_type": "code",
        "outputId": "69c410cb-39a3-40eb-91a8-579001cb3c8d",
        "id": "WvndWqzy03qg",
        "colab": {
          "base_uri": "https://localhost:8080/",
          "height": 106
        }
      },
      "cell_type": "code",
      "source": [
        "print_losses()"
      ],
      "execution_count": 99,
      "outputs": [
        {
          "output_type": "stream",
          "text": [
            "0:100 0.005246615968644619\n",
            "100:200 0.0036949277855455875\n",
            "900:1000 0.004244708921760321\n",
            "1000:1100 0.006112753879278898\n",
            "1900:2000 0.01355723850429058\n"
          ],
          "name": "stdout"
        }
      ]
    },
    {
      "metadata": {
        "colab_type": "code",
        "outputId": "54189b94-ab03-4251-df41-37c651d26bf9",
        "id": "6IOQkQg803qr",
        "colab": {
          "base_uri": "https://localhost:8080/",
          "height": 55
        }
      },
      "cell_type": "code",
      "source": [
        "print(calc_train_counter(model))"
      ],
      "execution_count": 100,
      "outputs": [
        {
          "output_type": "stream",
          "text": [
            "Counter({1: 197, 2: 86, 3: 57, 4: 53, 5: 41, 6: 37, 8: 34, 7: 30, 10: 27, 14: 23, 9: 21, 12: 21, 13: 21, 11: 16, 19: 15, 15: 15, 16: 13, 29: 13, 31: 12, 20: 12, 18: 12, 32: 12, 33: 11, 23: 11, 24: 10, 25: 10, 26: 9, 34: 9, 27: 9, 30: 9, 21: 8, 28: 8, 59: 8, 39: 8, 37: 7, 17: 7, 42: 7, 74: 7, 73: 7, 40: 7, 38: 6, 53: 6, 57: 6, 66: 6, 49: 5, 43: 5, 61: 5, 22: 5, 72: 5, 55: 5, 58: 5, 36: 4, 71: 4, 76: 4, 108: 4, 47: 4, 51: 4, 89: 4, 45: 4, 46: 4, 48: 4, 122: 4, 77: 3, 136: 3, 69: 3, 86: 3, 110: 3, 131: 3, 54: 3, 50: 3, 175: 3, 41: 3, 85: 3, 154: 3, 159: 3, 79: 3, 124: 3, 97: 3, 64: 3, 145: 3, 75: 3, 130: 3, 114: 3, 63: 3, 190: 2, 35: 2, 93: 2, 56: 2, 211: 2, 78: 2, 129: 2, 157: 2, 208: 2, 52: 2, 117: 2, 87: 2, 169: 2, 100: 2, 225: 2, 65: 2, 187: 2, 369: 2, 116: 2, 102: 2, 174: 2, 82: 2, 112: 2, 267: 2, 139: 2, 88: 2, 84: 2, 167: 2, 138: 2, 166: 2, 168: 2, 229: 2, 98: 2, 220: 2, 44: 2, 141: 2, 194: 2, 177: 2, 360: 1, 133: 1, 263: 1, 215: 1, 83: 1, 296: 1, 558: 1, 158: 1, 70: 1, 81: 1, 237: 1, 364: 1, 542: 1, 188: 1, 1063: 1, 99: 1, 402: 1, 379: 1, 149: 1, 183: 1, 238: 1, 412: 1, 137: 1, 329: 1, 388: 1, 181: 1, 355: 1, 200: 1, 259: 1, 90: 1, 253: 1, 478: 1, 242: 1, 236: 1, 80: 1, 306: 1, 125: 1, 290: 1, 680: 1, 927: 1, 313: 1, 111: 1, 223: 1, 151: 1, 153: 1, 276: 1, 273: 1, 96: 1, 260: 1, 333: 1, 805: 1, 482: 1, 311: 1, 651: 1, 189: 1, 132: 1, 146: 1, 852: 1, 182: 1, 216: 1, 201: 1, 218: 1, 698: 1, 391: 1, 466: 1, 113: 1, 123: 1, 283: 1, 226: 1, 741: 1, 936: 1, 835: 1, 507: 1, 143: 1, 104: 1, 91: 1, 106: 1, 204: 1, 585: 1, 180: 1, 604: 1, 118: 1, 185: 1, 197: 1, 165: 1, 230: 1, 300: 1, 67: 1, 499: 1, 232: 1, 535: 1, 285: 1, 1293: 1, 320: 1, 147: 1, 152: 1, 247: 1, 94: 1, 249: 1, 956: 1, 415: 1, 448: 1, 401: 1, 250: 1, 343: 1, 121: 1, 245: 1, 280: 1, 278: 1, 234: 1, 120: 1, 315: 1, 272: 1, 716: 1, 162: 1, 191: 1, 92: 1})\n"
          ],
          "name": "stdout"
        }
      ]
    },
    {
      "metadata": {
        "colab_type": "code",
        "id": "7tsWJ1VX03rF",
        "colab": {}
      },
      "cell_type": "code",
      "source": [
        "anchor_out = model.frwrd_pass(anchor_data[0:10])\n",
        "positive_out = model.frwrd_pass(positive_data[0:10])\n",
        "negative_out = model.frwrd_pass(negative_data[0:10])\n",
        "curr_loss = tripletloss(anchor_out, positive_out, negative_out)"
      ],
      "execution_count": 0,
      "outputs": []
    },
    {
      "metadata": {
        "colab_type": "code",
        "outputId": "8307bea6-405c-4e98-9f3d-7aca81c484a5",
        "id": "4UpW4Tuu03rU",
        "colab": {
          "base_uri": "https://localhost:8080/",
          "height": 35
        }
      },
      "cell_type": "code",
      "source": [
        "curr_loss"
      ],
      "execution_count": 102,
      "outputs": [
        {
          "output_type": "execute_result",
          "data": {
            "text/plain": [
              "<tf.Tensor: id=17411987, shape=(), dtype=float32, numpy=0.04574002>"
            ]
          },
          "metadata": {
            "tags": []
          },
          "execution_count": 102
        }
      ]
    },
    {
      "metadata": {
        "colab_type": "code",
        "id": "7o5Bey9O03rm",
        "colab": {}
      },
      "cell_type": "code",
      "source": [
        "norm_a_out = tf.nn.l2_normalize(anchor_out, axis=1)\n",
        "norm_p_out = tf.nn.l2_normalize(positive_out, axis=1)\n",
        "norm_n_out = tf.nn.l2_normalize(negative_out, axis=1)\n",
        "d_pos = tf.losses.cosine_distance(norm_a_out, norm_p_out, axis=1, reduction=tf.losses.Reduction.NONE)\n",
        "d_neg = tf.losses.cosine_distance(norm_a_out, norm_n_out, axis=1, reduction=tf.losses.Reduction.NONE)"
      ],
      "execution_count": 0,
      "outputs": []
    },
    {
      "metadata": {
        "colab_type": "code",
        "outputId": "b54ba223-1941-438f-fc12-da35d5d021ad",
        "id": "Gn28aPaX03ry",
        "colab": {
          "base_uri": "https://localhost:8080/",
          "height": 213
        }
      },
      "cell_type": "code",
      "source": [
        "d_pos"
      ],
      "execution_count": 104,
      "outputs": [
        {
          "output_type": "execute_result",
          "data": {
            "text/plain": [
              "<tf.Tensor: id=17412023, shape=(10, 1), dtype=float32, numpy=\n",
              "array([[0.62602144],\n",
              "       [0.5699303 ],\n",
              "       [0.507542  ],\n",
              "       [0.21538752],\n",
              "       [0.46437764],\n",
              "       [0.3683672 ],\n",
              "       [0.41965628],\n",
              "       [0.4970587 ],\n",
              "       [0.37970722],\n",
              "       [0.42225665]], dtype=float32)>"
            ]
          },
          "metadata": {
            "tags": []
          },
          "execution_count": 104
        }
      ]
    },
    {
      "metadata": {
        "colab_type": "code",
        "outputId": "8893ce36-dfea-42b8-bfb6-591e83919d3e",
        "id": "ugYIu1Uq03sk",
        "colab": {
          "base_uri": "https://localhost:8080/",
          "height": 213
        }
      },
      "cell_type": "code",
      "source": [
        "d_neg"
      ],
      "execution_count": 105,
      "outputs": [
        {
          "output_type": "execute_result",
          "data": {
            "text/plain": [
              "<tf.Tensor: id=17412037, shape=(10, 1), dtype=float32, numpy=\n",
              "array([[0.6695741 ],\n",
              "       [0.6285114 ],\n",
              "       [0.75068164],\n",
              "       [0.47684312],\n",
              "       [0.56854683],\n",
              "       [0.69446784],\n",
              "       [0.6275538 ],\n",
              "       [0.6333555 ],\n",
              "       [0.62374866],\n",
              "       [0.7545363 ]], dtype=float32)>"
            ]
          },
          "metadata": {
            "tags": []
          },
          "execution_count": 105
        }
      ]
    },
    {
      "metadata": {
        "id": "ss303t0N0qt_",
        "colab_type": "code",
        "colab": {}
      },
      "cell_type": "code",
      "source": [
        ""
      ],
      "execution_count": 0,
      "outputs": []
    },
    {
      "metadata": {
        "id": "LuSHPYn9yuXr",
        "colab_type": "code",
        "colab": {
          "base_uri": "https://localhost:8080/",
          "height": 124
        },
        "outputId": "7065fd1b-ed2c-48af-c942-5d550fff66ad"
      },
      "cell_type": "code",
      "source": [
        "train_one_difficulty(2400, 2500, epochs=41)"
      ],
      "execution_count": 106,
      "outputs": [
        {
          "output_type": "stream",
          "text": [
            "   start index: 2400, end index: 2500\n",
            "Loss at step 0: 0.05625\n",
            "Loss at step 10: 0.06148\n",
            "Loss at step 20: 0.08764\n",
            "Loss at step 30: 0.07247\n",
            "Loss at step 40: 0.04698\n"
          ],
          "name": "stdout"
        }
      ]
    },
    {
      "metadata": {
        "id": "yQrLaxTW3rKg",
        "colab_type": "code",
        "colab": {}
      },
      "cell_type": "code",
      "source": [
        ""
      ],
      "execution_count": 0,
      "outputs": []
    },
    {
      "metadata": {
        "colab_type": "code",
        "outputId": "9edac4ac-715d-4433-d6b0-d75556a01d59",
        "id": "HnZRA90z3rs8",
        "colab": {
          "base_uri": "https://localhost:8080/",
          "height": 106
        }
      },
      "cell_type": "code",
      "source": [
        "print_losses()"
      ],
      "execution_count": 107,
      "outputs": [
        {
          "output_type": "stream",
          "text": [
            "0:100 0.004458918236196041\n",
            "100:200 0.0031588852871209383\n",
            "900:1000 0.003741171909496188\n",
            "1000:1100 0.00533168762922287\n",
            "1900:2000 0.01194639690220356\n"
          ],
          "name": "stdout"
        }
      ]
    },
    {
      "metadata": {
        "colab_type": "code",
        "outputId": "25fefb84-6668-4413-a8ff-6a77c3669a26",
        "id": "bG86P8xH3rtI",
        "colab": {
          "base_uri": "https://localhost:8080/",
          "height": 55
        }
      },
      "cell_type": "code",
      "source": [
        "print(calc_train_counter(model))"
      ],
      "execution_count": 108,
      "outputs": [
        {
          "output_type": "stream",
          "text": [
            "Counter({1: 203, 2: 99, 3: 59, 4: 54, 5: 46, 6: 37, 7: 36, 14: 29, 8: 27, 12: 25, 9: 24, 10: 23, 11: 22, 17: 21, 15: 15, 19: 14, 24: 13, 18: 13, 30: 12, 23: 12, 21: 11, 38: 10, 26: 10, 32: 10, 13: 10, 40: 9, 25: 9, 28: 9, 34: 9, 44: 8, 22: 8, 20: 8, 31: 8, 59: 8, 27: 7, 35: 7, 48: 7, 29: 7, 41: 6, 63: 6, 56: 6, 33: 6, 47: 5, 64: 5, 51: 5, 102: 5, 43: 5, 116: 5, 69: 5, 39: 5, 37: 5, 53: 5, 36: 4, 54: 4, 52: 4, 83: 4, 60: 4, 160: 4, 73: 4, 62: 4, 101: 4, 45: 4, 96: 3, 89: 3, 76: 3, 71: 3, 67: 3, 16: 3, 104: 3, 170: 3, 72: 3, 88: 3, 46: 3, 58: 3, 120: 3, 66: 3, 158: 3, 152: 2, 90: 2, 84: 2, 79: 2, 74: 2, 68: 2, 168: 2, 103: 2, 327: 2, 91: 2, 49: 2, 80: 2, 127: 2, 209: 2, 65: 2, 239: 2, 98: 2, 196: 2, 162: 2, 145: 2, 50: 2, 85: 2, 93: 2, 190: 2, 132: 2, 114: 2, 61: 2, 180: 2, 144: 2, 137: 2, 92: 2, 169: 2, 172: 2, 77: 2, 214: 2, 100: 2, 276: 1, 212: 1, 177: 1, 228: 1, 523: 1, 195: 1, 106: 1, 140: 1, 249: 1, 57: 1, 479: 1, 173: 1, 1026: 1, 363: 1, 336: 1, 123: 1, 151: 1, 164: 1, 233: 1, 379: 1, 97: 1, 316: 1, 349: 1, 330: 1, 224: 1, 303: 1, 434: 1, 131: 1, 150: 1, 156: 1, 256: 1, 253: 1, 232: 1, 645: 1, 130: 1, 286: 1, 851: 1, 105: 1, 242: 1, 167: 1, 75: 1, 110: 1, 78: 1, 292: 1, 157: 1, 87: 1, 244: 1, 740: 1, 478: 1, 280: 1, 560: 1, 135: 1, 112: 1, 900: 1, 204: 1, 191: 1, 171: 1, 617: 1, 185: 1, 375: 1, 368: 1, 235: 1, 136: 1, 707: 1, 904: 1, 743: 1, 174: 1, 531: 1, 119: 1, 143: 1, 215: 1, 493: 1, 535: 1, 107: 1, 184: 1, 133: 1, 251: 1, 159: 1, 121: 1, 147: 1, 188: 1, 262: 1, 55: 1, 95: 1, 462: 1, 415: 1, 1201: 1, 290: 1, 139: 1, 125: 1, 148: 1, 42: 1, 229: 1, 198: 1, 99: 1, 727: 1, 404: 1, 430: 1, 395: 1, 246: 1, 118: 1, 153: 1, 202: 1, 166: 1, 263: 1, 175: 1, 284: 1, 281: 1, 568: 1, 197: 1, 149: 1, 182: 1})\n"
          ],
          "name": "stdout"
        }
      ]
    },
    {
      "metadata": {
        "colab_type": "code",
        "id": "zPQbab7i3rtZ",
        "colab": {}
      },
      "cell_type": "code",
      "source": [
        "anchor_out = model.frwrd_pass(anchor_data[0:10])\n",
        "positive_out = model.frwrd_pass(positive_data[0:10])\n",
        "negative_out = model.frwrd_pass(negative_data[0:10])\n",
        "curr_loss = tripletloss(anchor_out, positive_out, negative_out)"
      ],
      "execution_count": 0,
      "outputs": []
    },
    {
      "metadata": {
        "colab_type": "code",
        "outputId": "d859649d-f933-42ec-8193-61df09bc76ae",
        "id": "a_1EFJz_3rtl",
        "colab": {
          "base_uri": "https://localhost:8080/",
          "height": 35
        }
      },
      "cell_type": "code",
      "source": [
        "curr_loss"
      ],
      "execution_count": 110,
      "outputs": [
        {
          "output_type": "execute_result",
          "data": {
            "text/plain": [
              "<tf.Tensor: id=19542017, shape=(), dtype=float32, numpy=0.04020954>"
            ]
          },
          "metadata": {
            "tags": []
          },
          "execution_count": 110
        }
      ]
    },
    {
      "metadata": {
        "colab_type": "code",
        "id": "Kw6v3uRx3rtx",
        "colab": {}
      },
      "cell_type": "code",
      "source": [
        "norm_a_out = tf.nn.l2_normalize(anchor_out, axis=1)\n",
        "norm_p_out = tf.nn.l2_normalize(positive_out, axis=1)\n",
        "norm_n_out = tf.nn.l2_normalize(negative_out, axis=1)\n",
        "d_pos = tf.losses.cosine_distance(norm_a_out, norm_p_out, axis=1, reduction=tf.losses.Reduction.NONE)\n",
        "d_neg = tf.losses.cosine_distance(norm_a_out, norm_n_out, axis=1, reduction=tf.losses.Reduction.NONE)"
      ],
      "execution_count": 0,
      "outputs": []
    },
    {
      "metadata": {
        "colab_type": "code",
        "outputId": "27940a71-b088-4adc-ee42-c2639efb7148",
        "id": "SFov-73s3rt1",
        "colab": {
          "base_uri": "https://localhost:8080/",
          "height": 213
        }
      },
      "cell_type": "code",
      "source": [
        "d_pos"
      ],
      "execution_count": 112,
      "outputs": [
        {
          "output_type": "execute_result",
          "data": {
            "text/plain": [
              "<tf.Tensor: id=19542053, shape=(10, 1), dtype=float32, numpy=\n",
              "array([[0.6248831 ],\n",
              "       [0.5883431 ],\n",
              "       [0.51430523],\n",
              "       [0.2169357 ],\n",
              "       [0.462008  ],\n",
              "       [0.3871534 ],\n",
              "       [0.43364465],\n",
              "       [0.51372707],\n",
              "       [0.39972734],\n",
              "       [0.4423523 ]], dtype=float32)>"
            ]
          },
          "metadata": {
            "tags": []
          },
          "execution_count": 112
        }
      ]
    },
    {
      "metadata": {
        "colab_type": "code",
        "outputId": "1dcb6f7d-11da-4ac3-9709-13bcc8e7f39b",
        "id": "AgiUqjhO3ruJ",
        "colab": {
          "base_uri": "https://localhost:8080/",
          "height": 213
        }
      },
      "cell_type": "code",
      "source": [
        "d_neg"
      ],
      "execution_count": 113,
      "outputs": [
        {
          "output_type": "execute_result",
          "data": {
            "text/plain": [
              "<tf.Tensor: id=19542067, shape=(10, 1), dtype=float32, numpy=\n",
              "array([[0.7111734 ],\n",
              "       [0.657715  ],\n",
              "       [0.78852314],\n",
              "       [0.47675598],\n",
              "       [0.55901486],\n",
              "       [0.7273743 ],\n",
              "       [0.64629453],\n",
              "       [0.65896255],\n",
              "       [0.6637303 ],\n",
              "       [0.7854823 ]], dtype=float32)>"
            ]
          },
          "metadata": {
            "tags": []
          },
          "execution_count": 113
        }
      ]
    },
    {
      "metadata": {
        "id": "J04E0K_C4Ect",
        "colab_type": "text"
      },
      "cell_type": "markdown",
      "source": [
        "good for training set. how about test set?"
      ]
    },
    {
      "metadata": {
        "id": "bOYu4bGr35rI",
        "colab_type": "code",
        "colab": {
          "base_uri": "https://localhost:8080/",
          "height": 55
        },
        "outputId": "3545d706-d705-4786-e919-6de4d65425a2"
      },
      "cell_type": "code",
      "source": [
        "counter = model_to_counter(model)\n",
        "print(counter)"
      ],
      "execution_count": 116,
      "outputs": [
        {
          "output_type": "stream",
          "text": [
            "Counter({1: 194, 2: 104, 3: 60, 4: 47, 5: 26, 11: 25, 7: 25, 8: 25, 6: 24, 10: 23, 9: 20, 14: 18, 13: 18, 17: 16, 12: 14, 25: 13, 22: 12, 28: 10, 21: 10, 37: 10, 16: 9, 24: 8, 19: 8, 41: 8, 15: 8, 31: 8, 23: 7, 34: 7, 53: 7, 39: 7, 33: 7, 65: 6, 20: 6, 62: 6, 48: 6, 32: 6, 74: 6, 27: 6, 51: 5, 38: 5, 70: 5, 29: 5, 57: 5, 50: 5, 42: 5, 52: 5, 69: 4, 40: 4, 138: 4, 136: 4, 47: 4, 36: 4, 18: 4, 85: 4, 26: 4, 118: 4, 35: 4, 56: 4, 78: 4, 96: 4, 68: 3, 99: 3, 63: 3, 61: 3, 59: 3, 60: 3, 106: 3, 436: 3, 133: 3, 128: 3, 142: 3, 79: 3, 175: 3, 44: 3, 94: 3, 92: 3, 43: 3, 103: 3, 30: 3, 82: 3, 77: 3, 132: 3, 73: 3, 49: 3, 114: 2, 220: 2, 438: 2, 193: 2, 379: 2, 217: 2, 154: 2, 219: 2, 104: 2, 121: 2, 214: 2, 156: 2, 169: 2, 66: 2, 319: 2, 161: 2, 55: 2, 321: 2, 119: 2, 287: 2, 322: 2, 326: 2, 86: 2, 126: 2, 98: 2, 560: 2, 375: 2, 110: 2, 171: 2, 168: 2, 146: 2, 45: 2, 75: 2, 368: 2, 153: 2, 197: 2, 276: 2, 185: 2, 382: 2, 361: 2, 113: 2, 255: 1, 117: 1, 464: 1, 638: 1, 135: 1, 1283: 1, 275: 1, 292: 1, 787: 1, 657: 1, 352: 1, 598: 1, 95: 1, 160: 1, 270: 1, 84: 1, 1564: 1, 101: 1, 1462: 1, 647: 1, 713: 1, 188: 1, 240: 1, 354: 1, 393: 1, 733: 1, 691: 1, 651: 1, 422: 1, 571: 1, 191: 1, 167: 1, 781: 1, 915: 1, 497: 1, 2333: 1, 888: 1, 259: 1, 116: 1, 269: 1, 624: 1, 112: 1, 658: 1, 256: 1, 203: 1, 643: 1, 316: 1, 543: 1, 184: 1, 377: 1, 182: 1, 314: 1, 1127: 1, 397: 1, 271: 1, 257: 1, 237: 1, 198: 1, 210: 1, 120: 1, 525: 1, 676: 1, 105: 1, 208: 1, 90: 1, 344: 1, 111: 1, 122: 1, 621: 1, 472: 1, 225: 1, 58: 1, 186: 1, 1074: 1, 181: 1, 148: 1, 442: 1, 218: 1, 355: 1, 67: 1, 89: 1, 865: 1, 774: 1, 489: 1, 170: 1, 682: 1, 1076: 1, 183: 1, 613: 1, 213: 1, 416: 1, 71: 1, 391: 1, 365: 1, 93: 1, 1276: 1, 151: 1, 1306: 1, 129: 1, 612: 1, 496: 1, 207: 1, 1417: 1, 180: 1, 127: 1, 125: 1, 348: 1, 533: 1, 407: 1, 232: 1, 194: 1, 724: 1, 178: 1, 310: 1, 304: 1, 1298: 1, 199: 1, 505: 1, 1413: 1, 461: 1, 1027: 1, 420: 1, 54: 1, 547: 1, 234: 1, 251: 1, 88: 1, 1308: 1, 159: 1, 115: 1, 80: 1, 281: 1, 1081: 1, 204: 1, 611: 1, 336: 1, 2444: 1, 556: 1, 822: 1, 285: 1, 531: 1, 559: 1, 100: 1, 222: 1, 266: 1, 335: 1, 87: 1, 76: 1, 102: 1, 72: 1, 145: 1, 147: 1, 986: 1, 1128: 1, 157: 1, 97: 1, 108: 1, 130: 1, 1087: 1, 522: 1, 412: 1, 343: 1, 429: 1, 572: 1, 296: 1, 267: 1, 521: 1, 216: 1, 337: 1, 192: 1, 408: 1, 139: 1, 480: 1, 164: 1, 698: 1, 424: 1, 81: 1, 134: 1, 124: 1, 712: 1, 766: 1})\n"
          ],
          "name": "stdout"
        }
      ]
    },
    {
      "metadata": {
        "id": "oU0N4s8o35RV",
        "colab_type": "code",
        "colab": {
          "base_uri": "https://localhost:8080/",
          "height": 35
        },
        "outputId": "e68efcf8-cd86-4f8b-dbfd-374ce3802175"
      },
      "cell_type": "code",
      "source": [
        "sum(counter[i] for i in range(11))"
      ],
      "execution_count": 117,
      "outputs": [
        {
          "output_type": "execute_result",
          "data": {
            "text/plain": [
              "548"
            ]
          },
          "metadata": {
            "tags": []
          },
          "execution_count": 117
        }
      ]
    },
    {
      "metadata": {
        "id": "H2sgHfPp4ub2",
        "colab_type": "text"
      },
      "cell_type": "markdown",
      "source": [
        "Seems best model."
      ]
    },
    {
      "metadata": {
        "id": "NRy--tzG4sUW",
        "colab_type": "code",
        "colab": {}
      },
      "cell_type": "code",
      "source": [
        ""
      ],
      "execution_count": 0,
      "outputs": []
    },
    {
      "metadata": {
        "id": "WQKJHXnR3qjt",
        "colab_type": "code",
        "colab": {}
      },
      "cell_type": "code",
      "source": [
        "checkpoint_directory = \"/tmp/training_checkpoints\"\n",
        "checkpoint_prefix = os.path.join(checkpoint_directory, \"ckpt\")"
      ],
      "execution_count": 0,
      "outputs": []
    },
    {
      "metadata": {
        "id": "5zhiIxGY5lWV",
        "colab_type": "code",
        "colab": {}
      },
      "cell_type": "code",
      "source": [
        "os.makedirs('trained_model/tripletloss_complex_2400_2500', exist_ok=True)"
      ],
      "execution_count": 0,
      "outputs": []
    },
    {
      "metadata": {
        "id": "3BOyfqhh6Ju2",
        "colab_type": "code",
        "colab": {
          "base_uri": "https://localhost:8080/",
          "height": 35
        },
        "outputId": "8c51407c-9ea1-4c83-ae49-a0303b29ff1c"
      },
      "cell_type": "code",
      "source": [
        "len(model.variables)"
      ],
      "execution_count": 122,
      "outputs": [
        {
          "output_type": "execute_result",
          "data": {
            "text/plain": [
              "4"
            ]
          },
          "metadata": {
            "tags": []
          },
          "execution_count": 122
        }
      ]
    },
    {
      "metadata": {
        "id": "fUuARWscu-uw",
        "colab_type": "code",
        "colab": {}
      },
      "cell_type": "code",
      "source": [
        "checkpoint = tf.train.Checkpoint(model_var_0=model.variables[0], model_var_1=model.variables[1], model_var_2=model.variables[2], model_var_3=model.variables[3])"
      ],
      "execution_count": 0,
      "outputs": []
    },
    {
      "metadata": {
        "id": "bQMnTAgL50LR",
        "colab_type": "code",
        "colab": {
          "base_uri": "https://localhost:8080/",
          "height": 35
        },
        "outputId": "90768d95-3e2e-4d34-d329-0a0d40f8a895"
      },
      "cell_type": "code",
      "source": [
        "checkpoint.save(file_prefix='trained_model/tripletloss_complex_2400_2500/ckpt')"
      ],
      "execution_count": 124,
      "outputs": [
        {
          "output_type": "execute_result",
          "data": {
            "text/plain": [
              "'trained_model/tripletloss_complex_2400_2500/ckpt-1'"
            ]
          },
          "metadata": {
            "tags": []
          },
          "execution_count": 124
        }
      ]
    },
    {
      "metadata": {
        "id": "Cy0wtav66s22",
        "colab_type": "code",
        "colab": {
          "base_uri": "https://localhost:8080/",
          "height": 126
        },
        "outputId": "9f36ed3f-4d53-4ac9-91a7-c1105f229702"
      },
      "cell_type": "code",
      "source": [
        "!gsutil cp trained_model/tripletloss_complex_2400_2500/* gs://karino2-uspatent/mlstudy-phys/tripletloss_complex_2400_2500/"
      ],
      "execution_count": 126,
      "outputs": [
        {
          "output_type": "stream",
          "text": [
            "Copying file://trained_model/tripletloss_complex_2400_2500/checkpoint [Content-Type=application/octet-stream]...\n",
            "Copying file://trained_model/tripletloss_complex_2400_2500/ckpt-1.data-00000-of-00001 [Content-Type=application/octet-stream]...\n",
            "Copying file://trained_model/tripletloss_complex_2400_2500/ckpt-1.index [Content-Type=application/octet-stream]...\n",
            "- [3 files][  4.5 MiB/  4.5 MiB]                                                \n",
            "Operation completed over 3 objects/4.5 MiB.                                      \n"
          ],
          "name": "stdout"
        }
      ]
    },
    {
      "metadata": {
        "id": "0-2-gq5e8CPn",
        "colab_type": "code",
        "colab": {}
      },
      "cell_type": "code",
      "source": [
        ""
      ],
      "execution_count": 0,
      "outputs": []
    },
    {
      "metadata": {
        "id": "75J_cOka8Bae",
        "colab_type": "code",
        "colab": {}
      },
      "cell_type": "code",
      "source": [
        ""
      ],
      "execution_count": 0,
      "outputs": []
    },
    {
      "metadata": {
        "id": "V7XV5I746r9l",
        "colab_type": "code",
        "colab": {}
      },
      "cell_type": "code",
      "source": [
        ""
      ],
      "execution_count": 0,
      "outputs": []
    },
    {
      "metadata": {
        "id": "HVpK9vbGgs7q",
        "colab_type": "text"
      },
      "cell_type": "markdown",
      "source": [
        "### Misc adhock Investigation (little insight)"
      ]
    },
    {
      "metadata": {
        "id": "qGe-5NoEwJM2",
        "colab_type": "code",
        "colab": {}
      },
      "cell_type": "code",
      "source": [
        ""
      ],
      "execution_count": 0,
      "outputs": []
    },
    {
      "metadata": {
        "id": "n9qMZhdku_DJ",
        "colab_type": "code",
        "outputId": "d514cfb3-13da-4552-866a-0bb47925bbc9",
        "colab": {
          "base_uri": "https://localhost:8080/",
          "height": 124
        }
      },
      "cell_type": "code",
      "source": [
        "train_one_difficulty(900, 1000, epochs=41)"
      ],
      "execution_count": 0,
      "outputs": [
        {
          "output_type": "stream",
          "text": [
            "   start index: 900, end index: 1000\n",
            "Loss at step 0: 0.03616\n",
            "Loss at step 10: 0.02962\n",
            "Loss at step 20: 0.01970\n",
            "Loss at step 30: 0.03002\n",
            "Loss at step 40: 0.02664\n"
          ],
          "name": "stdout"
        }
      ]
    },
    {
      "metadata": {
        "id": "mpEkh3X_vJ1V",
        "colab_type": "code",
        "colab": {
          "base_uri": "https://localhost:8080/",
          "height": 106
        },
        "outputId": "9791acc3-9788-416d-88bb-09024d479631"
      },
      "cell_type": "code",
      "source": [
        "print_losses()"
      ],
      "execution_count": 74,
      "outputs": [
        {
          "output_type": "stream",
          "text": [
            "0:100 0.0021061752922832966\n",
            "100:200 0.0018963681068271399\n",
            "900:1000 0.0066237072460353374\n",
            "1000:1100 0.009160052984952927\n",
            "1900:2000 0.03698155656456947\n"
          ],
          "name": "stdout"
        }
      ]
    },
    {
      "metadata": {
        "id": "JB6OGXLBwM2b",
        "colab_type": "code",
        "colab": {
          "base_uri": "https://localhost:8080/",
          "height": 124
        },
        "outputId": "f930550c-e096-46ca-90e5-6464476a5576"
      },
      "cell_type": "code",
      "source": [
        "train_one_difficulty(1900, 2000, epochs=41)"
      ],
      "execution_count": 75,
      "outputs": [
        {
          "output_type": "stream",
          "text": [
            "   start index: 1900, end index: 2000\n",
            "Loss at step 0: 0.04450\n",
            "Loss at step 10: 0.02616\n",
            "Loss at step 20: 0.01589\n",
            "Loss at step 30: 0.00497\n",
            "Loss at step 40: 0.01434\n"
          ],
          "name": "stdout"
        }
      ]
    },
    {
      "metadata": {
        "id": "93e-RMVEwLus",
        "colab_type": "code",
        "colab": {
          "base_uri": "https://localhost:8080/",
          "height": 106
        },
        "outputId": "db0354e1-514f-4714-e63b-27ecda95f7c6"
      },
      "cell_type": "code",
      "source": [
        "print_losses()"
      ],
      "execution_count": 76,
      "outputs": [
        {
          "output_type": "stream",
          "text": [
            "0:100 0.0038403773214668036\n",
            "100:200 0.0030226900707930326\n",
            "900:1000 0.004455043934285641\n",
            "1000:1100 0.006801951676607132\n",
            "1900:2000 0.020214032381772995\n"
          ],
          "name": "stdout"
        }
      ]
    },
    {
      "metadata": {
        "id": "4H66SuPdwZBL",
        "colab_type": "code",
        "colab": {}
      },
      "cell_type": "code",
      "source": [
        ""
      ],
      "execution_count": 0,
      "outputs": []
    },
    {
      "metadata": {
        "id": "BL0bXyZLwYJm",
        "colab_type": "code",
        "colab": {}
      },
      "cell_type": "code",
      "source": [
        ""
      ],
      "execution_count": 0,
      "outputs": []
    },
    {
      "metadata": {
        "id": "WfQvMwHst73U",
        "colab_type": "code",
        "colab": {}
      },
      "cell_type": "code",
      "source": [
        ""
      ],
      "execution_count": 0,
      "outputs": []
    },
    {
      "metadata": {
        "id": "HX08x8I_s9sN",
        "colab_type": "code",
        "outputId": "be2136cc-b464-4d0e-a8eb-6a61da7c9d16",
        "colab": {
          "base_uri": "https://localhost:8080/",
          "height": 35
        }
      },
      "cell_type": "code",
      "source": [
        "create_training_input_np(0, 100).shape"
      ],
      "execution_count": 0,
      "outputs": [
        {
          "output_type": "execute_result",
          "data": {
            "text/plain": [
              "(3, 1282, 768)"
            ]
          },
          "metadata": {
            "tags": []
          },
          "execution_count": 66
        }
      ]
    },
    {
      "metadata": {
        "id": "6peEmNVEszpT",
        "colab_type": "code",
        "colab": {}
      },
      "cell_type": "code",
      "source": [
        "NEGATIVE_SAMPLE_RATIO=10"
      ],
      "execution_count": 0,
      "outputs": []
    },
    {
      "metadata": {
        "id": "h59JsfXtgCBr",
        "colab_type": "code",
        "outputId": "3a100108-648f-4f26-d688-010e91cca6cd",
        "colab": {
          "base_uri": "https://localhost:8080/",
          "height": 35
        }
      },
      "cell_type": "code",
      "source": [
        "create_training_input_np(0, 100).shape"
      ],
      "execution_count": 0,
      "outputs": [
        {
          "output_type": "execute_result",
          "data": {
            "text/plain": [
              "(3, 12820, 768)"
            ]
          },
          "metadata": {
            "tags": []
          },
          "execution_count": 68
        }
      ]
    },
    {
      "metadata": {
        "id": "YfQkfYWIt7jP",
        "colab_type": "code",
        "colab": {}
      },
      "cell_type": "code",
      "source": [
        "NEGATIVE_SAMPLE_RATIO=1"
      ],
      "execution_count": 0,
      "outputs": []
    },
    {
      "metadata": {
        "id": "c1XYUzPQt7PS",
        "colab_type": "code",
        "colab": {}
      },
      "cell_type": "code",
      "source": [
        ""
      ],
      "execution_count": 0,
      "outputs": []
    },
    {
      "metadata": {
        "id": "M4m2e0v7nt74",
        "colab_type": "code",
        "colab": {}
      },
      "cell_type": "code",
      "source": [
        "model = ComplexModel(input_shape=768, output_shape1=768, output_shape2=768)"
      ],
      "execution_count": 0,
      "outputs": []
    },
    {
      "metadata": {
        "id": "4M49VXagoBdP",
        "colab_type": "code",
        "colab": {
          "base_uri": "https://localhost:8080/",
          "height": 230
        },
        "outputId": "89687f4a-2820-4e5b-f61b-41441930b975"
      },
      "cell_type": "code",
      "source": [
        "train_one_difficulty(0, 100, epochs=101)"
      ],
      "execution_count": 53,
      "outputs": [
        {
          "output_type": "stream",
          "text": [
            "   start index: 0, end index: 100\n",
            "Loss at step 0: 0.04871\n",
            "Loss at step 10: 0.01886\n",
            "Loss at step 20: 0.01255\n",
            "Loss at step 30: 0.00501\n",
            "Loss at step 40: 0.01140\n",
            "Loss at step 50: 0.01591\n",
            "Loss at step 60: 0.00045\n",
            "Loss at step 70: 0.00000\n",
            "Loss at step 80: 0.00000\n",
            "Loss at step 90: 0.00000\n",
            "Loss at step 100: 0.00865\n"
          ],
          "name": "stdout"
        }
      ]
    },
    {
      "metadata": {
        "id": "a1sWzeMeurUT",
        "colab_type": "code",
        "colab": {
          "base_uri": "https://localhost:8080/",
          "height": 1045
        },
        "outputId": "7af1d192-f09a-4b62-ae5f-7cdfb2e24a4c"
      },
      "cell_type": "code",
      "source": [
        "train_one_difficulty(900, 1000, epochs=41)"
      ],
      "execution_count": 71,
      "outputs": [
        {
          "output_type": "stream",
          "text": [
            "   start index: 900, end index: 1000\n"
          ],
          "name": "stdout"
        },
        {
          "output_type": "error",
          "ename": "KeyboardInterrupt",
          "evalue": "ignored",
          "traceback": [
            "\u001b[0;31m---------------------------------------------------------------------------\u001b[0m",
            "\u001b[0;31mKeyboardInterrupt\u001b[0m                         Traceback (most recent call last)",
            "\u001b[0;32m<ipython-input-71-d390efc1a4a5>\u001b[0m in \u001b[0;36m<module>\u001b[0;34m()\u001b[0m\n\u001b[0;32m----> 1\u001b[0;31m \u001b[0mtrain_one_difficulty\u001b[0m\u001b[0;34m(\u001b[0m\u001b[0;36m900\u001b[0m\u001b[0;34m,\u001b[0m \u001b[0;36m1000\u001b[0m\u001b[0;34m,\u001b[0m \u001b[0mepochs\u001b[0m\u001b[0;34m=\u001b[0m\u001b[0;36m41\u001b[0m\u001b[0;34m)\u001b[0m\u001b[0;34m\u001b[0m\u001b[0;34m\u001b[0m\u001b[0m\n\u001b[0m",
            "\u001b[0;32m<ipython-input-38-d7568b414ac1>\u001b[0m in \u001b[0;36mtrain_one_difficulty\u001b[0;34m(sidx, eidx, batch_size, epochs)\u001b[0m\n\u001b[1;32m      1\u001b[0m \u001b[0;32mdef\u001b[0m \u001b[0mtrain_one_difficulty\u001b[0m\u001b[0;34m(\u001b[0m\u001b[0msidx\u001b[0m\u001b[0;34m,\u001b[0m \u001b[0meidx\u001b[0m\u001b[0;34m,\u001b[0m \u001b[0mbatch_size\u001b[0m\u001b[0;34m=\u001b[0m\u001b[0;36m10\u001b[0m\u001b[0;34m,\u001b[0m \u001b[0mepochs\u001b[0m\u001b[0;34m=\u001b[0m\u001b[0;36m41\u001b[0m\u001b[0;34m)\u001b[0m\u001b[0;34m:\u001b[0m\u001b[0;34m\u001b[0m\u001b[0;34m\u001b[0m\u001b[0m\n\u001b[1;32m      2\u001b[0m   \u001b[0mprint\u001b[0m\u001b[0;34m(\u001b[0m\u001b[0;34m\"   start index: {}, end index: {}\"\u001b[0m\u001b[0;34m.\u001b[0m\u001b[0mformat\u001b[0m\u001b[0;34m(\u001b[0m\u001b[0msidx\u001b[0m\u001b[0;34m,\u001b[0m\u001b[0meidx\u001b[0m\u001b[0;34m)\u001b[0m\u001b[0;34m)\u001b[0m\u001b[0;34m\u001b[0m\u001b[0;34m\u001b[0m\u001b[0m\n\u001b[0;32m----> 3\u001b[0;31m   \u001b[0mtrain_with_changing_negative_pair_with_loss\u001b[0m\u001b[0;34m(\u001b[0m\u001b[0msidx\u001b[0m\u001b[0;34m,\u001b[0m \u001b[0meidx\u001b[0m\u001b[0;34m,\u001b[0m \u001b[0mtripletloss\u001b[0m\u001b[0;34m,\u001b[0m \u001b[0mbatch_size\u001b[0m\u001b[0;34m=\u001b[0m\u001b[0mbatch_size\u001b[0m\u001b[0;34m,\u001b[0m \u001b[0mepochs\u001b[0m\u001b[0;34m=\u001b[0m\u001b[0mepochs\u001b[0m\u001b[0;34m)\u001b[0m\u001b[0;34m\u001b[0m\u001b[0;34m\u001b[0m\u001b[0m\n\u001b[0m\u001b[1;32m      4\u001b[0m \u001b[0;34m\u001b[0m\u001b[0m\n\u001b[1;32m      5\u001b[0m \u001b[0;32mdef\u001b[0m \u001b[0mcalc_loss_and_print_with_region\u001b[0m\u001b[0;34m(\u001b[0m\u001b[0msidx\u001b[0m\u001b[0;34m,\u001b[0m \u001b[0meidx\u001b[0m\u001b[0;34m)\u001b[0m\u001b[0;34m:\u001b[0m\u001b[0;34m\u001b[0m\u001b[0;34m\u001b[0m\u001b[0m\n",
            "\u001b[0;32m<ipython-input-25-f351fc2398f7>\u001b[0m in \u001b[0;36mtrain_with_changing_negative_pair_with_loss\u001b[0;34m(sidx, eidx, lossfun, batch_size, epochs)\u001b[0m\n\u001b[1;32m     24\u001b[0m                 \u001b[0mnegative_out\u001b[0m \u001b[0;34m=\u001b[0m \u001b[0mmodel\u001b[0m\u001b[0;34m.\u001b[0m\u001b[0mfrwrd_pass\u001b[0m\u001b[0;34m(\u001b[0m\u001b[0mnegative_data\u001b[0m\u001b[0;34m[\u001b[0m\u001b[0miter_id\u001b[0m\u001b[0;34m*\u001b[0m\u001b[0mbatch_size\u001b[0m \u001b[0;34m:\u001b[0m \u001b[0;34m(\u001b[0m\u001b[0miter_id\u001b[0m\u001b[0;34m+\u001b[0m\u001b[0;36m1\u001b[0m\u001b[0;34m)\u001b[0m\u001b[0;34m*\u001b[0m\u001b[0mbatch_size\u001b[0m\u001b[0;34m]\u001b[0m\u001b[0;34m)\u001b[0m\u001b[0;34m\u001b[0m\u001b[0;34m\u001b[0m\u001b[0m\n\u001b[1;32m     25\u001b[0m                 \u001b[0mcurr_loss\u001b[0m \u001b[0;34m=\u001b[0m \u001b[0mlossfun\u001b[0m\u001b[0;34m(\u001b[0m\u001b[0manchor_out\u001b[0m\u001b[0;34m,\u001b[0m \u001b[0mpositive_out\u001b[0m\u001b[0;34m,\u001b[0m \u001b[0mnegative_out\u001b[0m\u001b[0;34m)\u001b[0m\u001b[0;34m\u001b[0m\u001b[0;34m\u001b[0m\u001b[0m\n\u001b[0;32m---> 26\u001b[0;31m             \u001b[0mgrads\u001b[0m \u001b[0;34m=\u001b[0m \u001b[0mtape\u001b[0m\u001b[0;34m.\u001b[0m\u001b[0mgradient\u001b[0m\u001b[0;34m(\u001b[0m \u001b[0mcurr_loss\u001b[0m\u001b[0;34m,\u001b[0m \u001b[0mmodel\u001b[0m\u001b[0;34m.\u001b[0m\u001b[0mvariables\u001b[0m \u001b[0;34m)\u001b[0m\u001b[0;34m\u001b[0m\u001b[0;34m\u001b[0m\u001b[0m\n\u001b[0m\u001b[1;32m     27\u001b[0m             \u001b[0moptimizer\u001b[0m\u001b[0;34m.\u001b[0m\u001b[0mapply_gradients\u001b[0m\u001b[0;34m(\u001b[0m\u001b[0mzip\u001b[0m\u001b[0;34m(\u001b[0m\u001b[0mgrads\u001b[0m\u001b[0;34m,\u001b[0m \u001b[0mmodel\u001b[0m\u001b[0;34m.\u001b[0m\u001b[0mvariables\u001b[0m\u001b[0;34m)\u001b[0m\u001b[0;34m,\u001b[0m \u001b[0mglobal_step\u001b[0m\u001b[0;34m=\u001b[0m\u001b[0mtf\u001b[0m\u001b[0;34m.\u001b[0m\u001b[0mtrain\u001b[0m\u001b[0;34m.\u001b[0m\u001b[0mget_or_create_global_step\u001b[0m\u001b[0;34m(\u001b[0m\u001b[0;34m)\u001b[0m\u001b[0;34m)\u001b[0m\u001b[0;34m\u001b[0m\u001b[0;34m\u001b[0m\u001b[0m\n\u001b[1;32m     28\u001b[0m \u001b[0;34m\u001b[0m\u001b[0m\n",
            "\u001b[0;32m/usr/local/lib/python3.6/dist-packages/tensorflow/python/eager/backprop.py\u001b[0m in \u001b[0;36mgradient\u001b[0;34m(self, target, sources, output_gradients, unconnected_gradients)\u001b[0m\n\u001b[1;32m    944\u001b[0m         \u001b[0mflat_sources\u001b[0m\u001b[0;34m,\u001b[0m\u001b[0;34m\u001b[0m\u001b[0;34m\u001b[0m\u001b[0m\n\u001b[1;32m    945\u001b[0m         \u001b[0moutput_gradients\u001b[0m\u001b[0;34m=\u001b[0m\u001b[0moutput_gradients\u001b[0m\u001b[0;34m,\u001b[0m\u001b[0;34m\u001b[0m\u001b[0;34m\u001b[0m\u001b[0m\n\u001b[0;32m--> 946\u001b[0;31m         unconnected_gradients=unconnected_gradients)\n\u001b[0m\u001b[1;32m    947\u001b[0m \u001b[0;34m\u001b[0m\u001b[0m\n\u001b[1;32m    948\u001b[0m     \u001b[0;32mif\u001b[0m \u001b[0;32mnot\u001b[0m \u001b[0mself\u001b[0m\u001b[0;34m.\u001b[0m\u001b[0m_persistent\u001b[0m\u001b[0;34m:\u001b[0m\u001b[0;34m\u001b[0m\u001b[0;34m\u001b[0m\u001b[0m\n",
            "\u001b[0;32m/usr/local/lib/python3.6/dist-packages/tensorflow/python/eager/imperative_grad.py\u001b[0m in \u001b[0;36mimperative_grad\u001b[0;34m(tape, target, sources, output_gradients, unconnected_gradients)\u001b[0m\n\u001b[1;32m     70\u001b[0m       \u001b[0msources\u001b[0m\u001b[0;34m,\u001b[0m\u001b[0;34m\u001b[0m\u001b[0;34m\u001b[0m\u001b[0m\n\u001b[1;32m     71\u001b[0m       \u001b[0moutput_gradients\u001b[0m\u001b[0;34m,\u001b[0m\u001b[0;34m\u001b[0m\u001b[0;34m\u001b[0m\u001b[0m\n\u001b[0;32m---> 72\u001b[0;31m       compat.as_str(unconnected_gradients.value))\n\u001b[0m",
            "\u001b[0;32m/usr/local/lib/python3.6/dist-packages/tensorflow/python/eager/backprop.py\u001b[0m in \u001b[0;36m_gradient_function\u001b[0;34m(op_name, attr_tuple, num_inputs, inputs, outputs, out_grads)\u001b[0m\n\u001b[1;32m    129\u001b[0m     \u001b[0;32mreturn\u001b[0m \u001b[0;34m[\u001b[0m\u001b[0;32mNone\u001b[0m\u001b[0;34m]\u001b[0m \u001b[0;34m*\u001b[0m \u001b[0mnum_inputs\u001b[0m\u001b[0;34m\u001b[0m\u001b[0;34m\u001b[0m\u001b[0m\n\u001b[1;32m    130\u001b[0m \u001b[0;34m\u001b[0m\u001b[0m\n\u001b[0;32m--> 131\u001b[0;31m   \u001b[0;32mreturn\u001b[0m \u001b[0mgrad_fn\u001b[0m\u001b[0;34m(\u001b[0m\u001b[0mmock_op\u001b[0m\u001b[0;34m,\u001b[0m \u001b[0;34m*\u001b[0m\u001b[0mout_grads\u001b[0m\u001b[0;34m)\u001b[0m\u001b[0;34m\u001b[0m\u001b[0;34m\u001b[0m\u001b[0m\n\u001b[0m\u001b[1;32m    132\u001b[0m \u001b[0;34m\u001b[0m\u001b[0m\n\u001b[1;32m    133\u001b[0m \u001b[0;34m\u001b[0m\u001b[0m\n",
            "\u001b[0;32m/usr/local/lib/python3.6/dist-packages/tensorflow/python/ops/math_grad.py\u001b[0m in \u001b[0;36m_MatMulGrad\u001b[0;34m(op, grad)\u001b[0m\n\u001b[1;32m   1129\u001b[0m   \u001b[0mb\u001b[0m \u001b[0;34m=\u001b[0m \u001b[0mmath_ops\u001b[0m\u001b[0;34m.\u001b[0m\u001b[0mconj\u001b[0m\u001b[0;34m(\u001b[0m\u001b[0mop\u001b[0m\u001b[0;34m.\u001b[0m\u001b[0minputs\u001b[0m\u001b[0;34m[\u001b[0m\u001b[0;36m1\u001b[0m\u001b[0;34m]\u001b[0m\u001b[0;34m)\u001b[0m\u001b[0;34m\u001b[0m\u001b[0;34m\u001b[0m\u001b[0m\n\u001b[1;32m   1130\u001b[0m   \u001b[0;32mif\u001b[0m \u001b[0;32mnot\u001b[0m \u001b[0mt_a\u001b[0m \u001b[0;32mand\u001b[0m \u001b[0;32mnot\u001b[0m \u001b[0mt_b\u001b[0m\u001b[0;34m:\u001b[0m\u001b[0;34m\u001b[0m\u001b[0;34m\u001b[0m\u001b[0m\n\u001b[0;32m-> 1131\u001b[0;31m     \u001b[0mgrad_a\u001b[0m \u001b[0;34m=\u001b[0m \u001b[0mgen_math_ops\u001b[0m\u001b[0;34m.\u001b[0m\u001b[0mmat_mul\u001b[0m\u001b[0;34m(\u001b[0m\u001b[0mgrad\u001b[0m\u001b[0;34m,\u001b[0m \u001b[0mb\u001b[0m\u001b[0;34m,\u001b[0m \u001b[0mtranspose_b\u001b[0m\u001b[0;34m=\u001b[0m\u001b[0;32mTrue\u001b[0m\u001b[0;34m)\u001b[0m\u001b[0;34m\u001b[0m\u001b[0;34m\u001b[0m\u001b[0m\n\u001b[0m\u001b[1;32m   1132\u001b[0m     \u001b[0mgrad_b\u001b[0m \u001b[0;34m=\u001b[0m \u001b[0mgen_math_ops\u001b[0m\u001b[0;34m.\u001b[0m\u001b[0mmat_mul\u001b[0m\u001b[0;34m(\u001b[0m\u001b[0ma\u001b[0m\u001b[0;34m,\u001b[0m \u001b[0mgrad\u001b[0m\u001b[0;34m,\u001b[0m \u001b[0mtranspose_a\u001b[0m\u001b[0;34m=\u001b[0m\u001b[0;32mTrue\u001b[0m\u001b[0;34m)\u001b[0m\u001b[0;34m\u001b[0m\u001b[0;34m\u001b[0m\u001b[0m\n\u001b[1;32m   1133\u001b[0m   \u001b[0;32melif\u001b[0m \u001b[0;32mnot\u001b[0m \u001b[0mt_a\u001b[0m \u001b[0;32mand\u001b[0m \u001b[0mt_b\u001b[0m\u001b[0;34m:\u001b[0m\u001b[0;34m\u001b[0m\u001b[0;34m\u001b[0m\u001b[0m\n",
            "\u001b[0;32m/usr/local/lib/python3.6/dist-packages/tensorflow/python/ops/gen_math_ops.py\u001b[0m in \u001b[0;36mmat_mul\u001b[0;34m(a, b, transpose_a, transpose_b, name)\u001b[0m\n\u001b[1;32m   5307\u001b[0m         \u001b[0m_ctx\u001b[0m\u001b[0;34m.\u001b[0m\u001b[0m_context_handle\u001b[0m\u001b[0;34m,\u001b[0m \u001b[0m_ctx\u001b[0m\u001b[0;34m.\u001b[0m\u001b[0m_eager_context\u001b[0m\u001b[0;34m.\u001b[0m\u001b[0mdevice_name\u001b[0m\u001b[0;34m,\u001b[0m \u001b[0;34m\"MatMul\"\u001b[0m\u001b[0;34m,\u001b[0m \u001b[0mname\u001b[0m\u001b[0;34m,\u001b[0m\u001b[0;34m\u001b[0m\u001b[0;34m\u001b[0m\u001b[0m\n\u001b[1;32m   5308\u001b[0m         \u001b[0m_ctx\u001b[0m\u001b[0;34m.\u001b[0m\u001b[0m_post_execution_callbacks\u001b[0m\u001b[0;34m,\u001b[0m \u001b[0ma\u001b[0m\u001b[0;34m,\u001b[0m \u001b[0mb\u001b[0m\u001b[0;34m,\u001b[0m \u001b[0;34m\"transpose_a\"\u001b[0m\u001b[0;34m,\u001b[0m \u001b[0mtranspose_a\u001b[0m\u001b[0;34m,\u001b[0m\u001b[0;34m\u001b[0m\u001b[0;34m\u001b[0m\u001b[0m\n\u001b[0;32m-> 5309\u001b[0;31m         \"transpose_b\", transpose_b)\n\u001b[0m\u001b[1;32m   5310\u001b[0m       \u001b[0;32mreturn\u001b[0m \u001b[0m_result\u001b[0m\u001b[0;34m\u001b[0m\u001b[0;34m\u001b[0m\u001b[0m\n\u001b[1;32m   5311\u001b[0m     \u001b[0;32mexcept\u001b[0m \u001b[0m_core\u001b[0m\u001b[0;34m.\u001b[0m\u001b[0m_FallbackException\u001b[0m\u001b[0;34m:\u001b[0m\u001b[0;34m\u001b[0m\u001b[0;34m\u001b[0m\u001b[0m\n",
            "\u001b[0;31mKeyboardInterrupt\u001b[0m: "
          ]
        }
      ]
    },
    {
      "metadata": {
        "id": "KTl3_mCnoceI",
        "colab_type": "code",
        "colab": {
          "base_uri": "https://localhost:8080/",
          "height": 35
        },
        "outputId": "8a48614a-3168-470f-954a-572866f526f0"
      },
      "cell_type": "code",
      "source": [
        "grants_target_df.shape"
      ],
      "execution_count": 70,
      "outputs": [
        {
          "output_type": "execute_result",
          "data": {
            "text/plain": [
              "(2524, 2)"
            ]
          },
          "metadata": {
            "tags": []
          },
          "execution_count": 70
        }
      ]
    },
    {
      "metadata": {
        "id": "iIkEmI6Vob2J",
        "colab_type": "code",
        "colab": {}
      },
      "cell_type": "code",
      "source": [
        ""
      ],
      "execution_count": 0,
      "outputs": []
    },
    {
      "metadata": {
        "id": "AN95BNX2oBNe",
        "colab_type": "code",
        "colab": {}
      },
      "cell_type": "code",
      "source": [
        ""
      ],
      "execution_count": 0,
      "outputs": []
    },
    {
      "metadata": {
        "id": "RDgan5uunRJR",
        "colab_type": "code",
        "colab": {}
      },
      "cell_type": "code",
      "source": [
        ""
      ],
      "execution_count": 0,
      "outputs": []
    },
    {
      "metadata": {
        "id": "aUesSDiWhezf",
        "colab_type": "text"
      },
      "cell_type": "markdown",
      "source": [
        "By the way, why d_neg sometime greater than  1?\n",
        "Isn't it less than 1?\n",
        "\n",
        "Investigate it. (instance is restarted... I use normal model for investigation)\n",
        "\n",
        "I see. cos becomes negative (till -1) So it is OK to becomes greater than 1."
      ]
    },
    {
      "metadata": {
        "id": "lhlx6XuahV1P",
        "colab_type": "code",
        "colab": {}
      },
      "cell_type": "code",
      "source": [
        "random.seed(0)\n",
        "test = create_training_input_np(0, 100)\n",
        "test_ten = tf.convert_to_tensor(test, dtype=tf.float32)\n",
        "anchor_data, positive_data, negative_data = test_ten\n",
        "\n",
        "anchor_out = model.frwrd_pass(anchor_data[0:10])\n",
        "positive_out = model.frwrd_pass(positive_data[0:10])\n",
        "negative_out = model.frwrd_pass(negative_data[0:10])\n",
        "curr_loss = tripletloss(anchor_out, positive_out, negative_out)\n",
        "\n",
        "norm_a_out = tf.nn.l2_normalize(anchor_out, axis=1)\n",
        "norm_p_out = tf.nn.l2_normalize(positive_out, axis=1)\n",
        "norm_n_out = tf.nn.l2_normalize(negative_out, axis=1)\n",
        "d_pos = tf.losses.cosine_distance(norm_a_out, norm_p_out, axis=1, reduction=tf.losses.Reduction.NONE)\n",
        "d_neg = tf.losses.cosine_distance(norm_a_out, norm_n_out, axis=1, reduction=tf.losses.Reduction.NONE)"
      ],
      "execution_count": 0,
      "outputs": []
    },
    {
      "metadata": {
        "id": "XsWjOtO9hVgv",
        "colab_type": "code",
        "colab": {
          "base_uri": "https://localhost:8080/",
          "height": 213
        },
        "outputId": "e1558ec6-397b-46c3-c037-03b5dc898dc8"
      },
      "cell_type": "code",
      "source": [
        "d_neg"
      ],
      "execution_count": 43,
      "outputs": [
        {
          "output_type": "execute_result",
          "data": {
            "text/plain": [
              "<tf.Tensor: id=2821385, shape=(10, 1), dtype=float32, numpy=\n",
              "array([[0.66342866],\n",
              "       [0.6722027 ],\n",
              "       [0.66510904],\n",
              "       [0.52627015],\n",
              "       [0.50272846],\n",
              "       [0.5830833 ],\n",
              "       [0.5462886 ],\n",
              "       [0.56473255],\n",
              "       [0.4612081 ],\n",
              "       [0.46651566]], dtype=float32)>"
            ]
          },
          "metadata": {
            "tags": []
          },
          "execution_count": 43
        }
      ]
    },
    {
      "metadata": {
        "id": "b4pquN0YlzoD",
        "colab_type": "code",
        "colab": {}
      },
      "cell_type": "code",
      "source": [
        ""
      ],
      "execution_count": 0,
      "outputs": []
    },
    {
      "metadata": {
        "id": "SCWw6rpOlzSz",
        "colab_type": "code",
        "colab": {}
      },
      "cell_type": "code",
      "source": [
        "d_neg = tf.losses.cosine_distance(norm_a_out, norm_n_out, axis=1, reduction=tf.losses.Reduction.NONE)"
      ],
      "execution_count": 0,
      "outputs": []
    },
    {
      "metadata": {
        "colab_type": "code",
        "id": "N_1DWy6mh7zO",
        "colab": {}
      },
      "cell_type": "code",
      "source": [
        ""
      ],
      "execution_count": 0,
      "outputs": []
    },
    {
      "metadata": {
        "id": "itrf0XWLhH0b",
        "colab_type": "code",
        "outputId": "afb8f14e-20bb-421e-cb05-7c602ffadbf5",
        "colab": {
          "base_uri": "https://localhost:8080/",
          "height": 35
        }
      },
      "cell_type": "code",
      "source": [
        "norm_n_out.shape"
      ],
      "execution_count": 45,
      "outputs": [
        {
          "output_type": "execute_result",
          "data": {
            "text/plain": [
              "TensorShape([Dimension(10), Dimension(768)])"
            ]
          },
          "metadata": {
            "tags": []
          },
          "execution_count": 45
        }
      ]
    },
    {
      "metadata": {
        "id": "zHVTs_jog21-",
        "colab_type": "code",
        "outputId": "7ea856f0-8478-4a6b-f783-5495a4ce2a51",
        "colab": {
          "base_uri": "https://localhost:8080/",
          "height": 35
        }
      },
      "cell_type": "code",
      "source": [
        "np.linalg.norm(norm_n_out[0])"
      ],
      "execution_count": 46,
      "outputs": [
        {
          "output_type": "execute_result",
          "data": {
            "text/plain": [
              "1.0"
            ]
          },
          "metadata": {
            "tags": []
          },
          "execution_count": 46
        }
      ]
    },
    {
      "metadata": {
        "id": "3Qh7Yr99hN4R",
        "colab_type": "code",
        "outputId": "94777024-2e69-48a6-d04a-a8932b0d5058",
        "colab": {
          "base_uri": "https://localhost:8080/",
          "height": 35
        }
      },
      "cell_type": "code",
      "source": [
        "np.linalg.norm(norm_n_out[1])"
      ],
      "execution_count": 0,
      "outputs": [
        {
          "output_type": "execute_result",
          "data": {
            "text/plain": [
              "0.9999999"
            ]
          },
          "metadata": {
            "tags": []
          },
          "execution_count": 355
        }
      ]
    },
    {
      "metadata": {
        "id": "6QhpsHTQmMOp",
        "colab_type": "code",
        "colab": {
          "base_uri": "https://localhost:8080/",
          "height": 35
        },
        "outputId": "3cd390de-d23d-4d3f-efcb-4a15ce1017ee"
      },
      "cell_type": "code",
      "source": [
        "1- sum(norm_a_out[0]*norm_n_out[0])"
      ],
      "execution_count": 47,
      "outputs": [
        {
          "output_type": "execute_result",
          "data": {
            "text/plain": [
              "<tf.Tensor: id=2825257, shape=(), dtype=float32, numpy=0.6634288>"
            ]
          },
          "metadata": {
            "tags": []
          },
          "execution_count": 47
        }
      ]
    },
    {
      "metadata": {
        "id": "mtdvaKxNmRoa",
        "colab_type": "code",
        "colab": {
          "base_uri": "https://localhost:8080/",
          "height": 35
        },
        "outputId": "9414adc4-99fc-4c88-bc9c-4bd97a78c5aa"
      },
      "cell_type": "code",
      "source": [
        "d_neg[0]"
      ],
      "execution_count": 48,
      "outputs": [
        {
          "output_type": "execute_result",
          "data": {
            "text/plain": [
              "<tf.Tensor: id=2825262, shape=(1,), dtype=float32, numpy=array([0.66342866], dtype=float32)>"
            ]
          },
          "metadata": {
            "tags": []
          },
          "execution_count": 48
        }
      ]
    },
    {
      "metadata": {
        "id": "YzIZrodmg2iL",
        "colab_type": "code",
        "colab": {}
      },
      "cell_type": "code",
      "source": [
        ""
      ],
      "execution_count": 0,
      "outputs": []
    },
    {
      "metadata": {
        "colab_type": "code",
        "outputId": "64ce7eaf-d99c-4a97-fe4a-5f60c5de1b32",
        "id": "3396foVvh7zX",
        "colab": {
          "base_uri": "https://localhost:8080/",
          "height": 35
        }
      },
      "cell_type": "code",
      "source": [
        "curr_loss"
      ],
      "execution_count": 0,
      "outputs": [
        {
          "output_type": "execute_result",
          "data": {
            "text/plain": [
              "<tf.Tensor: id=57329251, shape=(), dtype=float32, numpy=0.0>"
            ]
          },
          "metadata": {
            "tags": []
          },
          "execution_count": 334
        }
      ]
    },
    {
      "metadata": {
        "colab_type": "code",
        "id": "cTQpFldJh7zl",
        "colab": {}
      },
      "cell_type": "code",
      "source": [
        ""
      ],
      "execution_count": 0,
      "outputs": []
    },
    {
      "metadata": {
        "colab_type": "code",
        "outputId": "a127fc7e-fe52-47dc-96b4-bebba544f099",
        "id": "5799r1FEh7zr",
        "colab": {
          "base_uri": "https://localhost:8080/",
          "height": 35
        }
      },
      "cell_type": "code",
      "source": [
        "norm_n_out.shape"
      ],
      "execution_count": 0,
      "outputs": [
        {
          "output_type": "execute_result",
          "data": {
            "text/plain": [
              "TensorShape([Dimension(10), Dimension(768)])"
            ]
          },
          "metadata": {
            "tags": []
          },
          "execution_count": 353
        }
      ]
    },
    {
      "metadata": {
        "id": "VPBoNehygCkK",
        "colab_type": "code",
        "colab": {}
      },
      "cell_type": "code",
      "source": [
        ""
      ],
      "execution_count": 0,
      "outputs": []
    },
    {
      "metadata": {
        "id": "hhnRHm7tj4tV",
        "colab_type": "code",
        "colab": {
          "base_uri": "https://localhost:8080/",
          "height": 339
        },
        "outputId": "a24fccc8-525e-48ca-b610-7c65eb2ca15d"
      },
      "cell_type": "code",
      "source": [
        "%%time\n",
        "\n",
        "for sidx, eidx in start_end_index_pairs:\n",
        "    print(\"   start index: {}, end index: {}\".format(sidx,eidx))\n",
        "    train_with_changing_negative_pair_with_loss(sidx, eidx, tripletloss, batch_size=10, epochs=21)"
      ],
      "execution_count": 37,
      "outputs": [
        {
          "output_type": "stream",
          "text": [
            "   start index: 0, end index: 100\n",
            "WARNING:tensorflow:From /usr/local/lib/python3.6/dist-packages/tensorflow/python/ops/resource_variable_ops.py:642: colocate_with (from tensorflow.python.framework.ops) is deprecated and will be removed in a future version.\n",
            "Instructions for updating:\n",
            "Colocations handled automatically by placer.\n",
            "Loss at step 0: 0.05039\n",
            "Loss at step 10: 0.02480\n",
            "Loss at step 20: 0.01906\n",
            "   start index: 900, end index: 1000\n",
            "Loss at step 0: 0.11757\n",
            "Loss at step 10: 0.09759\n",
            "Loss at step 20: 0.07440\n",
            "   start index: 1900, end index: 2000\n",
            "Loss at step 0: 0.12522\n",
            "Loss at step 10: 0.11053\n",
            "Loss at step 20: 0.07883\n",
            "CPU times: user 6min 15s, sys: 6.55 s, total: 6min 22s\n",
            "Wall time: 5min 17s\n"
          ],
          "name": "stdout"
        }
      ]
    },
    {
      "metadata": {
        "id": "9fdzH6cJj4c-",
        "colab_type": "code",
        "colab": {
          "base_uri": "https://localhost:8080/",
          "height": 106
        },
        "outputId": "b67dfcf1-5dbd-4bd1-a799-da8f3fba4aed"
      },
      "cell_type": "code",
      "source": [
        "print_losses()"
      ],
      "execution_count": 39,
      "outputs": [
        {
          "output_type": "stream",
          "text": [
            "0:100 0.00550646660849452\n",
            "100:200 0.00757866445928812\n",
            "900:1000 0.026651430875062943\n",
            "1000:1100 0.030813390389084816\n",
            "1900:2000 0.07903685420751572\n"
          ],
          "name": "stdout"
        }
      ]
    },
    {
      "metadata": {
        "id": "enSex23N9iN2",
        "colab_type": "code",
        "colab": {}
      },
      "cell_type": "code",
      "source": [
        ""
      ],
      "execution_count": 0,
      "outputs": []
    },
    {
      "metadata": {
        "colab_type": "code",
        "id": "-VC90tPIdoqG",
        "colab": {}
      },
      "cell_type": "code",
      "source": [
        "random.seed(0)\n",
        "trip = create_triplet_pairs(0, 100)"
      ],
      "execution_count": 0,
      "outputs": []
    },
    {
      "metadata": {
        "colab_type": "code",
        "outputId": "ba64ea39-d323-4759-d582-f27bb0359ba9",
        "id": "OX3moyC7djzh",
        "colab": {
          "base_uri": "https://localhost:8080/",
          "height": 204
        }
      },
      "cell_type": "code",
      "source": [
        "trip[0:5]"
      ],
      "execution_count": 0,
      "outputs": [
        {
          "output_type": "execute_result",
          "data": {
            "text/html": [
              "<div>\n",
              "<style scoped>\n",
              "    .dataframe tbody tr th:only-of-type {\n",
              "        vertical-align: middle;\n",
              "    }\n",
              "\n",
              "    .dataframe tbody tr th {\n",
              "        vertical-align: top;\n",
              "    }\n",
              "\n",
              "    .dataframe thead th {\n",
              "        text-align: right;\n",
              "    }\n",
              "</style>\n",
              "<table border=\"1\" class=\"dataframe\">\n",
              "  <thead>\n",
              "    <tr style=\"text-align: right;\">\n",
              "      <th></th>\n",
              "      <th>app_id</th>\n",
              "      <th>cited_grants</th>\n",
              "      <th>uncited_grants</th>\n",
              "    </tr>\n",
              "  </thead>\n",
              "  <tbody>\n",
              "    <tr>\n",
              "      <th>0</th>\n",
              "      <td>14222691</td>\n",
              "      <td>8206188</td>\n",
              "      <td>7474966</td>\n",
              "    </tr>\n",
              "    <tr>\n",
              "      <th>1</th>\n",
              "      <td>14222691</td>\n",
              "      <td>8177561</td>\n",
              "      <td>6925385</td>\n",
              "    </tr>\n",
              "    <tr>\n",
              "      <th>2</th>\n",
              "      <td>14222691</td>\n",
              "      <td>8179692</td>\n",
              "      <td>7735351</td>\n",
              "    </tr>\n",
              "    <tr>\n",
              "      <th>3</th>\n",
              "      <td>12515852</td>\n",
              "      <td>7235710</td>\n",
              "      <td>7271332</td>\n",
              "    </tr>\n",
              "    <tr>\n",
              "      <th>4</th>\n",
              "      <td>12033424</td>\n",
              "      <td>6950953</td>\n",
              "      <td>7371046</td>\n",
              "    </tr>\n",
              "  </tbody>\n",
              "</table>\n",
              "</div>"
            ],
            "text/plain": [
              "     app_id  cited_grants  uncited_grants\n",
              "0  14222691       8206188         7474966\n",
              "1  14222691       8177561         6925385\n",
              "2  14222691       8179692         7735351\n",
              "3  12515852       7235710         7271332\n",
              "4  12033424       6950953         7371046"
            ]
          },
          "metadata": {
            "tags": []
          },
          "execution_count": 330
        }
      ]
    },
    {
      "metadata": {
        "id": "_eHhpFgyFn1c",
        "colab_type": "code",
        "colab": {}
      },
      "cell_type": "code",
      "source": [
        ""
      ],
      "execution_count": 0,
      "outputs": []
    },
    {
      "metadata": {
        "id": "O7l7IpccG-jq",
        "colab_type": "code",
        "colab": {}
      },
      "cell_type": "code",
      "source": [
        ""
      ],
      "execution_count": 0,
      "outputs": []
    },
    {
      "metadata": {
        "id": "uAvLCX2kHa7f",
        "colab_type": "code",
        "outputId": "a8fb41fc-ccca-42c4-b543-7bdda3678837",
        "colab": {
          "base_uri": "https://localhost:8080/",
          "height": 35
        }
      },
      "cell_type": "code",
      "source": [
        "trip.shape"
      ],
      "execution_count": 0,
      "outputs": [
        {
          "output_type": "execute_result",
          "data": {
            "text/plain": [
              "(1282, 3)"
            ]
          },
          "metadata": {
            "tags": []
          },
          "execution_count": 67
        }
      ]
    },
    {
      "metadata": {
        "id": "s7Jdk-jvG-WN",
        "colab_type": "code",
        "colab": {}
      },
      "cell_type": "code",
      "source": [
        ""
      ],
      "execution_count": 0,
      "outputs": []
    },
    {
      "metadata": {
        "id": "XQs3M6OFFvgd",
        "colab_type": "code",
        "colab": {}
      },
      "cell_type": "code",
      "source": [
        "random.seed(0)\n",
        "test = create_training_input_np(0, 100)"
      ],
      "execution_count": 0,
      "outputs": []
    },
    {
      "metadata": {
        "id": "JmCVZ3NGHJGM",
        "colab_type": "code",
        "outputId": "b5854ba6-cdb9-406e-c98a-56a0476c9ca3",
        "colab": {
          "base_uri": "https://localhost:8080/",
          "height": 35
        }
      },
      "cell_type": "code",
      "source": [
        "test.shape"
      ],
      "execution_count": 0,
      "outputs": [
        {
          "output_type": "execute_result",
          "data": {
            "text/plain": [
              "(3, 1282, 768)"
            ]
          },
          "metadata": {
            "tags": []
          },
          "execution_count": 63
        }
      ]
    },
    {
      "metadata": {
        "id": "wIc8GhWYHI4K",
        "colab_type": "code",
        "colab": {}
      },
      "cell_type": "code",
      "source": [
        ""
      ],
      "execution_count": 0,
      "outputs": []
    },
    {
      "metadata": {
        "id": "Fk6KaYlaH8k2",
        "colab_type": "code",
        "colab": {}
      },
      "cell_type": "code",
      "source": [
        "test_ten = tf.convert_to_tensor(test, dtype=tf.float32)\n",
        "anchor_data, positive_data, negative_data = test_ten"
      ],
      "execution_count": 0,
      "outputs": []
    },
    {
      "metadata": {
        "id": "YoSlNc7qIC84",
        "colab_type": "code",
        "outputId": "f8aa29ea-817e-466f-ae35-4c7751185ee4",
        "colab": {
          "base_uri": "https://localhost:8080/",
          "height": 70
        }
      },
      "cell_type": "code",
      "source": [
        "anchor_data[0, 0:5]"
      ],
      "execution_count": 0,
      "outputs": [
        {
          "output_type": "execute_result",
          "data": {
            "text/plain": [
              "<tf.Tensor: id=4237669, shape=(5,), dtype=float32, numpy=\n",
              "array([-0.05969358,  0.05039638, -0.02005569,  0.0451927 , -0.01494433],\n",
              "      dtype=float32)>"
            ]
          },
          "metadata": {
            "tags": []
          },
          "execution_count": 74
        }
      ]
    },
    {
      "metadata": {
        "id": "1wRiG9P-H8XX",
        "colab_type": "code",
        "outputId": "93edc34a-f405-4fe9-dc7f-131721eecf8e",
        "colab": {
          "base_uri": "https://localhost:8080/",
          "height": 35
        }
      },
      "cell_type": "code",
      "source": [
        "train_normalized_feature_dict_1000[14222691][0:5]"
      ],
      "execution_count": 0,
      "outputs": [
        {
          "output_type": "execute_result",
          "data": {
            "text/plain": [
              "array([-0.05969358,  0.05039638, -0.0200557 ,  0.04519269, -0.01494433])"
            ]
          },
          "metadata": {
            "tags": []
          },
          "execution_count": 75
        }
      ]
    },
    {
      "metadata": {
        "id": "sf7QCN5YH8Lp",
        "colab_type": "code",
        "outputId": "4f8d178e-26ea-45d6-cd27-a85b5503a4ee",
        "colab": {
          "base_uri": "https://localhost:8080/",
          "height": 70
        }
      },
      "cell_type": "code",
      "source": [
        "positive_data[0, 0:5]"
      ],
      "execution_count": 0,
      "outputs": [
        {
          "output_type": "execute_result",
          "data": {
            "text/plain": [
              "<tf.Tensor: id=4237674, shape=(5,), dtype=float32, numpy=\n",
              "array([-0.04778686,  0.03372966, -0.01699614,  0.0232354 ,  0.00648623],\n",
              "      dtype=float32)>"
            ]
          },
          "metadata": {
            "tags": []
          },
          "execution_count": 77
        }
      ]
    },
    {
      "metadata": {
        "id": "fNZ_8kMzIdVS",
        "colab_type": "code",
        "outputId": "fbef1a46-c8fc-4d4b-a066-a0db09ba6024",
        "colab": {
          "base_uri": "https://localhost:8080/",
          "height": 35
        }
      },
      "cell_type": "code",
      "source": [
        "grants_normalized_feature_dict_2000[8206188][0:5]"
      ],
      "execution_count": 0,
      "outputs": [
        {
          "output_type": "execute_result",
          "data": {
            "text/plain": [
              "array([-0.04778686,  0.03372966, -0.01699614,  0.0232354 ,  0.00648623])"
            ]
          },
          "metadata": {
            "tags": []
          },
          "execution_count": 76
        }
      ]
    },
    {
      "metadata": {
        "id": "lul7hHPkInPl",
        "colab_type": "code",
        "outputId": "41b58051-b1a6-4548-f130-15f61b94e5a6",
        "colab": {
          "base_uri": "https://localhost:8080/",
          "height": 70
        }
      },
      "cell_type": "code",
      "source": [
        "negative_data[0, 0:5]"
      ],
      "execution_count": 0,
      "outputs": [
        {
          "output_type": "execute_result",
          "data": {
            "text/plain": [
              "<tf.Tensor: id=4237679, shape=(5,), dtype=float32, numpy=\n",
              "array([-0.01261457,  0.01773252, -0.03752513,  0.02603934, -0.01327848],\n",
              "      dtype=float32)>"
            ]
          },
          "metadata": {
            "tags": []
          },
          "execution_count": 79
        }
      ]
    },
    {
      "metadata": {
        "id": "SVcLAe7ZIdI9",
        "colab_type": "code",
        "outputId": "706b24f7-26a1-4a9d-b681-8020769b4925",
        "colab": {
          "base_uri": "https://localhost:8080/",
          "height": 35
        }
      },
      "cell_type": "code",
      "source": [
        "grants_normalized_feature_dict_2000[7474966][0:5]"
      ],
      "execution_count": 0,
      "outputs": [
        {
          "output_type": "execute_result",
          "data": {
            "text/plain": [
              "array([-0.01261457,  0.01773252, -0.03752513,  0.02603934, -0.01327848])"
            ]
          },
          "metadata": {
            "tags": []
          },
          "execution_count": 80
        }
      ]
    },
    {
      "metadata": {
        "id": "KjdjY4h4Ic8J",
        "colab_type": "code",
        "colab": {}
      },
      "cell_type": "code",
      "source": [
        ""
      ],
      "execution_count": 0,
      "outputs": []
    },
    {
      "metadata": {
        "id": "sNzhhFFVGV09",
        "colab_type": "code",
        "colab": {}
      },
      "cell_type": "code",
      "source": [
        "data_num = int(test.shape[1])"
      ],
      "execution_count": 0,
      "outputs": []
    },
    {
      "metadata": {
        "id": "y4EB4uQ7I-ot",
        "colab_type": "code",
        "colab": {}
      },
      "cell_type": "code",
      "source": [
        "random.seed(0)\n",
        "rand_idx = np.random.permutation(data_num)"
      ],
      "execution_count": 0,
      "outputs": []
    },
    {
      "metadata": {
        "id": "diVGYzLVJCjO",
        "colab_type": "code",
        "outputId": "646b7a7a-e2db-4292-e932-122958f036b9",
        "colab": {
          "base_uri": "https://localhost:8080/",
          "height": 35
        }
      },
      "cell_type": "code",
      "source": [
        "rand_idx[0:5]"
      ],
      "execution_count": 0,
      "outputs": [
        {
          "output_type": "execute_result",
          "data": {
            "text/plain": [
              "array([1102,  653,  475,   81,  404])"
            ]
          },
          "metadata": {
            "tags": []
          },
          "execution_count": 83
        }
      ]
    },
    {
      "metadata": {
        "id": "u7hrWRRoJEuq",
        "colab_type": "code",
        "colab": {}
      },
      "cell_type": "code",
      "source": [
        "test2 = np.array([\n",
        "    test[0][rand_idx], \n",
        "    test[1][rand_idx], \n",
        "    test[2][rand_idx]])"
      ],
      "execution_count": 0,
      "outputs": []
    },
    {
      "metadata": {
        "id": "sfRSf5JEJJI6",
        "colab_type": "code",
        "outputId": "8536e757-fcb9-4a14-b948-0fed4463be7e",
        "colab": {
          "base_uri": "https://localhost:8080/",
          "height": 80
        }
      },
      "cell_type": "code",
      "source": [
        "trip[1102:1103]"
      ],
      "execution_count": 0,
      "outputs": [
        {
          "output_type": "execute_result",
          "data": {
            "text/html": [
              "<div>\n",
              "<style scoped>\n",
              "    .dataframe tbody tr th:only-of-type {\n",
              "        vertical-align: middle;\n",
              "    }\n",
              "\n",
              "    .dataframe tbody tr th {\n",
              "        vertical-align: top;\n",
              "    }\n",
              "\n",
              "    .dataframe thead th {\n",
              "        text-align: right;\n",
              "    }\n",
              "</style>\n",
              "<table border=\"1\" class=\"dataframe\">\n",
              "  <thead>\n",
              "    <tr style=\"text-align: right;\">\n",
              "      <th></th>\n",
              "      <th>app_id</th>\n",
              "      <th>cited_grants</th>\n",
              "      <th>uncited_grants</th>\n",
              "    </tr>\n",
              "  </thead>\n",
              "  <tbody>\n",
              "    <tr>\n",
              "      <th>1102</th>\n",
              "      <td>12450212</td>\n",
              "      <td>7719957</td>\n",
              "      <td>7506657</td>\n",
              "    </tr>\n",
              "  </tbody>\n",
              "</table>\n",
              "</div>"
            ],
            "text/plain": [
              "        app_id  cited_grants  uncited_grants\n",
              "1102  12450212       7719957         7506657"
            ]
          },
          "metadata": {
            "tags": []
          },
          "execution_count": 86
        }
      ]
    },
    {
      "metadata": {
        "id": "lISEhTPqJgVv",
        "colab_type": "code",
        "colab": {}
      },
      "cell_type": "code",
      "source": [
        "test_ten2 = tf.convert_to_tensor(test2, dtype=tf.float32)\n",
        "anchor_data2, positive_data2, negative_data2 = test_ten2"
      ],
      "execution_count": 0,
      "outputs": []
    },
    {
      "metadata": {
        "id": "B9vWuvu2JgI0",
        "colab_type": "code",
        "colab": {}
      },
      "cell_type": "code",
      "source": [
        ""
      ],
      "execution_count": 0,
      "outputs": []
    },
    {
      "metadata": {
        "id": "ApEldFlPJVoq",
        "colab_type": "code",
        "outputId": "ee54a8e4-0c96-4f89-bdf6-d34565ca9cfa",
        "colab": {
          "base_uri": "https://localhost:8080/",
          "height": 70
        }
      },
      "cell_type": "code",
      "source": [
        "anchor_data2[0, 0:5]"
      ],
      "execution_count": 0,
      "outputs": [
        {
          "output_type": "execute_result",
          "data": {
            "text/plain": [
              "<tf.Tensor: id=4237697, shape=(5,), dtype=float32, numpy=\n",
              "array([-0.03815173,  0.04558022, -0.03306705,  0.00874347, -0.01623795],\n",
              "      dtype=float32)>"
            ]
          },
          "metadata": {
            "tags": []
          },
          "execution_count": 89
        }
      ]
    },
    {
      "metadata": {
        "id": "-2lBT1UJJVY0",
        "colab_type": "code",
        "outputId": "f6f52457-1b1f-47a5-8ea8-07efda04d7fa",
        "colab": {
          "base_uri": "https://localhost:8080/",
          "height": 35
        }
      },
      "cell_type": "code",
      "source": [
        "train_normalized_feature_dict_1000[12450212][0:5]"
      ],
      "execution_count": 0,
      "outputs": [
        {
          "output_type": "execute_result",
          "data": {
            "text/plain": [
              "array([-0.03815173,  0.04558022, -0.03306705,  0.00874347, -0.01623795])"
            ]
          },
          "metadata": {
            "tags": []
          },
          "execution_count": 90
        }
      ]
    },
    {
      "metadata": {
        "id": "BNve_8IKJten",
        "colab_type": "code",
        "outputId": "d183c7c0-d11a-41af-ecb1-792e1c78cc19",
        "colab": {
          "base_uri": "https://localhost:8080/",
          "height": 70
        }
      },
      "cell_type": "code",
      "source": [
        "positive_data2[0, 0:5]"
      ],
      "execution_count": 0,
      "outputs": [
        {
          "output_type": "execute_result",
          "data": {
            "text/plain": [
              "<tf.Tensor: id=4237702, shape=(5,), dtype=float32, numpy=\n",
              "array([-0.03455767,  0.03205481, -0.05553311, -0.00180341, -0.02068364],\n",
              "      dtype=float32)>"
            ]
          },
          "metadata": {
            "tags": []
          },
          "execution_count": 91
        }
      ]
    },
    {
      "metadata": {
        "id": "0DxQ_gFWKHi6",
        "colab_type": "code",
        "outputId": "e00eb7e2-911c-4b4f-cfa4-6a0327344579",
        "colab": {
          "base_uri": "https://localhost:8080/",
          "height": 35
        }
      },
      "cell_type": "code",
      "source": [
        "grants_normalized_feature_dict_2000[7719957][0:5]"
      ],
      "execution_count": 0,
      "outputs": [
        {
          "output_type": "execute_result",
          "data": {
            "text/plain": [
              "array([-0.03455768,  0.03205481, -0.05553311, -0.00180341, -0.02068364])"
            ]
          },
          "metadata": {
            "tags": []
          },
          "execution_count": 95
        }
      ]
    },
    {
      "metadata": {
        "id": "fYevXF2HJtQN",
        "colab_type": "code",
        "outputId": "00108f9b-afbe-43bd-d05e-9932fa7bf02a",
        "colab": {
          "base_uri": "https://localhost:8080/",
          "height": 35
        }
      },
      "cell_type": "code",
      "source": [
        "grants_normalized_feature_dict_2000[7506657][0:5]"
      ],
      "execution_count": 0,
      "outputs": [
        {
          "output_type": "execute_result",
          "data": {
            "text/plain": [
              "array([-0.03321561,  0.02758702,  0.02755731,  0.05383265,  0.01525151])"
            ]
          },
          "metadata": {
            "tags": []
          },
          "execution_count": 93
        }
      ]
    },
    {
      "metadata": {
        "id": "OIaLJ0ZFJ_J9",
        "colab_type": "code",
        "outputId": "2ababd84-c011-4a02-c7c6-2f7df3082540",
        "colab": {
          "base_uri": "https://localhost:8080/",
          "height": 70
        }
      },
      "cell_type": "code",
      "source": [
        "negative_data2[0, 0:5]"
      ],
      "execution_count": 0,
      "outputs": [
        {
          "output_type": "execute_result",
          "data": {
            "text/plain": [
              "<tf.Tensor: id=4237707, shape=(5,), dtype=float32, numpy=\n",
              "array([-0.03321561,  0.02758702,  0.02755731,  0.05383265,  0.01525151],\n",
              "      dtype=float32)>"
            ]
          },
          "metadata": {
            "tags": []
          },
          "execution_count": 94
        }
      ]
    },
    {
      "metadata": {
        "id": "nmoqcdw5JI6N",
        "colab_type": "code",
        "colab": {}
      },
      "cell_type": "code",
      "source": [
        ""
      ],
      "execution_count": 0,
      "outputs": []
    },
    {
      "metadata": {
        "id": "Xeza5d6gJEQ5",
        "colab_type": "code",
        "colab": {}
      },
      "cell_type": "code",
      "source": [
        "anchor_out2 = model.frwrd_pass(anchor_data2[0:5])\n",
        "positive_out2 = model.frwrd_pass(positive_data2[0:5])\n",
        "negative_out2 = model.frwrd_pass(negative_data2[0:5])\n",
        "curr_loss2 = tripletloss(anchor_out2, positive_out2, negative_out2)"
      ],
      "execution_count": 0,
      "outputs": []
    },
    {
      "metadata": {
        "id": "6IXaqqv5Xjo9",
        "colab_type": "code",
        "outputId": "685d0352-2b4a-4487-db81-733de35527b4",
        "colab": {
          "base_uri": "https://localhost:8080/",
          "height": 35
        }
      },
      "cell_type": "code",
      "source": [
        "curr_loss2"
      ],
      "execution_count": 324,
      "outputs": [
        {
          "output_type": "execute_result",
          "data": {
            "text/plain": [
              "<tf.Tensor: id=57329091, shape=(), dtype=float32, numpy=0.0>"
            ]
          },
          "metadata": {
            "tags": []
          },
          "execution_count": 324
        }
      ]
    },
    {
      "metadata": {
        "id": "paPakI3SXjWG",
        "colab_type": "code",
        "colab": {}
      },
      "cell_type": "code",
      "source": [
        ""
      ],
      "execution_count": 0,
      "outputs": []
    },
    {
      "metadata": {
        "id": "_KrJeny7GFKy",
        "colab_type": "code",
        "outputId": "f2690cae-ad71-4664-de5e-d28af5f8f6db",
        "colab": {
          "base_uri": "https://localhost:8080/",
          "height": 35
        }
      },
      "cell_type": "code",
      "source": [
        "curr_loss2"
      ],
      "execution_count": 0,
      "outputs": [
        {
          "output_type": "execute_result",
          "data": {
            "text/plain": [
              "<tf.Tensor: id=6980813, shape=(), dtype=float32, numpy=0.0>"
            ]
          },
          "metadata": {
            "tags": []
          },
          "execution_count": 131
        }
      ]
    },
    {
      "metadata": {
        "id": "3OhYEwagMcbf",
        "colab_type": "code",
        "colab": {}
      },
      "cell_type": "code",
      "source": [
        ""
      ],
      "execution_count": 0,
      "outputs": []
    },
    {
      "metadata": {
        "id": "XTjWhvAfMcMK",
        "colab_type": "code",
        "colab": {}
      },
      "cell_type": "code",
      "source": [
        "norm_a_out2 = tf.nn.l2_normalize(anchor_out2, axis=1)\n",
        "norm_p_out2 = tf.nn.l2_normalize(positive_out2, axis=1)\n",
        "norm_n_out2 = tf.nn.l2_normalize(negative_out2, axis=1)"
      ],
      "execution_count": 0,
      "outputs": []
    },
    {
      "metadata": {
        "id": "vmrYg9udOtlC",
        "colab_type": "code",
        "colab": {}
      },
      "cell_type": "code",
      "source": [
        "d_pos2 = tf.losses.cosine_distance(norm_a_out2, norm_p_out2, axis=1, reduction=tf.losses.Reduction.NONE)\n",
        "d_neg2 = tf.losses.cosine_distance(norm_a_out2, norm_n_out2, axis=1, reduction=tf.losses.Reduction.NONE)"
      ],
      "execution_count": 0,
      "outputs": []
    },
    {
      "metadata": {
        "id": "TQfPweAnXtIZ",
        "colab_type": "code",
        "outputId": "af13fe90-f153-41cc-fa49-f2a870935a45",
        "colab": {
          "base_uri": "https://localhost:8080/",
          "height": 124
        }
      },
      "cell_type": "code",
      "source": [
        "d_pos2"
      ],
      "execution_count": 327,
      "outputs": [
        {
          "output_type": "execute_result",
          "data": {
            "text/plain": [
              "<tf.Tensor: id=57329127, shape=(5, 1), dtype=float32, numpy=\n",
              "array([[0.5671426 ],\n",
              "       [0.48774767],\n",
              "       [0.3983801 ],\n",
              "       [0.3131017 ],\n",
              "       [0.31788284]], dtype=float32)>"
            ]
          },
          "metadata": {
            "tags": []
          },
          "execution_count": 327
        }
      ]
    },
    {
      "metadata": {
        "id": "TiYiDBWiXsxd",
        "colab_type": "code",
        "colab": {
          "base_uri": "https://localhost:8080/",
          "height": 124
        },
        "outputId": "e5c9c478-429c-4f77-f0be-dd3dd9f02daa"
      },
      "cell_type": "code",
      "source": [
        "d_neg2"
      ],
      "execution_count": 328,
      "outputs": [
        {
          "output_type": "execute_result",
          "data": {
            "text/plain": [
              "<tf.Tensor: id=57329141, shape=(5, 1), dtype=float32, numpy=\n",
              "array([[1.2046154 ],\n",
              "       [0.93544954],\n",
              "       [1.146873  ],\n",
              "       [1.121481  ],\n",
              "       [0.80375075]], dtype=float32)>"
            ]
          },
          "metadata": {
            "tags": []
          },
          "execution_count": 328
        }
      ]
    },
    {
      "metadata": {
        "id": "acd9v-2pM73b",
        "colab_type": "code",
        "outputId": "8fd2e92f-fe18-416e-98db-501717aa24f9",
        "colab": {
          "base_uri": "https://localhost:8080/",
          "height": 124
        }
      },
      "cell_type": "code",
      "source": [
        "d_pos2"
      ],
      "execution_count": 0,
      "outputs": [
        {
          "output_type": "execute_result",
          "data": {
            "text/plain": [
              "<tf.Tensor: id=6980849, shape=(5, 1), dtype=float32, numpy=\n",
              "array([[0.32095897],\n",
              "       [0.3099807 ],\n",
              "       [0.24314821],\n",
              "       [0.13694352],\n",
              "       [0.18507373]], dtype=float32)>"
            ]
          },
          "metadata": {
            "tags": []
          },
          "execution_count": 134
        }
      ]
    },
    {
      "metadata": {
        "id": "RqJRo7XBM9-K",
        "colab_type": "code",
        "outputId": "a54c35af-94af-40df-e7e3-66077d1296cf",
        "colab": {
          "base_uri": "https://localhost:8080/",
          "height": 124
        }
      },
      "cell_type": "code",
      "source": [
        "d_neg2"
      ],
      "execution_count": 0,
      "outputs": [
        {
          "output_type": "execute_result",
          "data": {
            "text/plain": [
              "<tf.Tensor: id=6980863, shape=(5, 1), dtype=float32, numpy=\n",
              "array([[0.63673747],\n",
              "       [0.5831015 ],\n",
              "       [0.5028086 ],\n",
              "       [0.7062503 ],\n",
              "       [0.48968685]], dtype=float32)>"
            ]
          },
          "metadata": {
            "tags": []
          },
          "execution_count": 135
        }
      ]
    },
    {
      "metadata": {
        "id": "0rrOxpushJ3e",
        "colab_type": "code",
        "colab": {}
      },
      "cell_type": "code",
      "source": [
        ""
      ],
      "execution_count": 0,
      "outputs": []
    },
    {
      "metadata": {
        "id": "LMfBiZ3phKUb",
        "colab_type": "code",
        "colab": {}
      },
      "cell_type": "code",
      "source": [
        ""
      ],
      "execution_count": 0,
      "outputs": []
    },
    {
      "metadata": {
        "id": "i8WVVcm1ZioY",
        "colab_type": "code",
        "outputId": "19eb52a4-0824-4435-887b-5c76ec811374",
        "colab": {
          "base_uri": "https://localhost:8080/",
          "height": 204
        }
      },
      "cell_type": "code",
      "source": [
        "test_app_df.head()"
      ],
      "execution_count": 0,
      "outputs": [
        {
          "output_type": "execute_result",
          "data": {
            "text/html": [
              "<div>\n",
              "<style scoped>\n",
              "    .dataframe tbody tr th:only-of-type {\n",
              "        vertical-align: middle;\n",
              "    }\n",
              "\n",
              "    .dataframe tbody tr th {\n",
              "        vertical-align: top;\n",
              "    }\n",
              "\n",
              "    .dataframe thead th {\n",
              "        text-align: right;\n",
              "    }\n",
              "</style>\n",
              "<table border=\"1\" class=\"dataframe\">\n",
              "  <thead>\n",
              "    <tr style=\"text-align: right;\">\n",
              "      <th></th>\n",
              "      <th>app_id</th>\n",
              "      <th>xml</th>\n",
              "    </tr>\n",
              "  </thead>\n",
              "  <tbody>\n",
              "    <tr>\n",
              "      <th>0</th>\n",
              "      <td>14307191</td>\n",
              "      <td>&lt;us-patent-application lang=\"EN\" dtd-version=\"...</td>\n",
              "    </tr>\n",
              "    <tr>\n",
              "      <th>1</th>\n",
              "      <td>13137006</td>\n",
              "      <td>&lt;us-patent-application lang=\"EN\" dtd-version=\"...</td>\n",
              "    </tr>\n",
              "    <tr>\n",
              "      <th>2</th>\n",
              "      <td>12741959</td>\n",
              "      <td>&lt;us-patent-application lang=\"EN\" dtd-version=\"...</td>\n",
              "    </tr>\n",
              "    <tr>\n",
              "      <th>3</th>\n",
              "      <td>12643447</td>\n",
              "      <td>&lt;us-patent-application lang=\"EN\" dtd-version=\"...</td>\n",
              "    </tr>\n",
              "    <tr>\n",
              "      <th>4</th>\n",
              "      <td>14200253</td>\n",
              "      <td>&lt;us-patent-application lang=\"EN\" dtd-version=\"...</td>\n",
              "    </tr>\n",
              "  </tbody>\n",
              "</table>\n",
              "</div>"
            ],
            "text/plain": [
              "     app_id                                                xml\n",
              "0  14307191  <us-patent-application lang=\"EN\" dtd-version=\"...\n",
              "1  13137006  <us-patent-application lang=\"EN\" dtd-version=\"...\n",
              "2  12741959  <us-patent-application lang=\"EN\" dtd-version=\"...\n",
              "3  12643447  <us-patent-application lang=\"EN\" dtd-version=\"...\n",
              "4  14200253  <us-patent-application lang=\"EN\" dtd-version=\"..."
            ]
          },
          "metadata": {
            "tags": []
          },
          "execution_count": 173
        }
      ]
    },
    {
      "metadata": {
        "id": "pk3BIQmRZfQL",
        "colab_type": "code",
        "outputId": "0ea8e055-a45e-4998-936b-9a68b7d43da4",
        "colab": {
          "base_uri": "https://localhost:8080/",
          "height": 17813
        }
      },
      "cell_type": "code",
      "source": [
        "list(reversed(sort_similarity_by_value(sim_dict_by_extracted, 14307191)))"
      ],
      "execution_count": 0,
      "outputs": [
        {
          "output_type": "execute_result",
          "data": {
            "text/plain": [
              "[(7675444, 0.81486243),\n",
              " (8213360, 0.8095555),\n",
              " (8295300, 0.7975527),\n",
              " (7440728, 0.7911943),\n",
              " (7181534, 0.79116535),\n",
              " (7015791, 0.78744763),\n",
              " (7047561, 0.7843642),\n",
              " (7496099, 0.7797317),\n",
              " (6856519, 0.7784024),\n",
              " (7400687, 0.77812225),\n",
              " (7596647, 0.7777683),\n",
              " (6943925, 0.77549464),\n",
              " (6968158, 0.770937),\n",
              " (7430610, 0.77051735),\n",
              " (8149834, 0.7702616),\n",
              " (7197008, 0.76929677),\n",
              " (7080160, 0.76841784),\n",
              " (6927664, 0.768098),\n",
              " (7787480, 0.7665925),\n",
              " (7460369, 0.76627505),\n",
              " (7774833, 0.76552117),\n",
              " (6947376, 0.76504576),\n",
              " (6943668, 0.76469994),\n",
              " (7684209, 0.75894296),\n",
              " (7898105, 0.7584627),\n",
              " (7359643, 0.75701934),\n",
              " (7184876, 0.7568906),\n",
              " (7215144, 0.7568878),\n",
              " (7733589, 0.7557938),\n",
              " (7388946, 0.75565314),\n",
              " (7484979, 0.75525403),\n",
              " (7418208, 0.7550416),\n",
              " (7019617, 0.7520639),\n",
              " (6895220, 0.7517824),\n",
              " (7408379, 0.75157136),\n",
              " (7050761, 0.75155663),\n",
              " (7715309, 0.75128585),\n",
              " (7949309, 0.7512685),\n",
              " (8126094, 0.75113165),\n",
              " (8051342, 0.7495631),\n",
              " (7215775, 0.74950296),\n",
              " (7843906, 0.74846643),\n",
              " (7145862, 0.7483807),\n",
              " (7898990, 0.7480098),\n",
              " (7451206, 0.7476317),\n",
              " (7809991, 0.7470262),\n",
              " (7042110, 0.7464547),\n",
              " (6968364, 0.74482965),\n",
              " (6841983, 0.74388635),\n",
              " (7855885, 0.7436191),\n",
              " (7957786, 0.7426257),\n",
              " (7605793, 0.7425374),\n",
              " (7188138, 0.7413245),\n",
              " (7426262, 0.74062407),\n",
              " (7281388, 0.7404666),\n",
              " (7660868, 0.73994887),\n",
              " (7013748, 0.7388018),\n",
              " (7895431, 0.738509),\n",
              " (6903715, 0.73815),\n",
              " (7475088, 0.7375789),\n",
              " (7041096, 0.7374499),\n",
              " (8077606, 0.7370606),\n",
              " (8031534, 0.73694295),\n",
              " (7207488, 0.73615736),\n",
              " (6963885, 0.73615384),\n",
              " (7895309, 0.7357194),\n",
              " (8001085, 0.7342231),\n",
              " (7949605, 0.73381746),\n",
              " (7886023, 0.7338051),\n",
              " (7184466, 0.7329961),\n",
              " (8008808, 0.73242307),\n",
              " (6915114, 0.73236936),\n",
              " (7016741, 0.73227984),\n",
              " (7158805, 0.7322615),\n",
              " (7577750, 0.7322377),\n",
              " (7116645, 0.73222715),\n",
              " (7178635, 0.7320244),\n",
              " (6853713, 0.7319222),\n",
              " (7863777, 0.7318604),\n",
              " (7031304, 0.7315303),\n",
              " (7116195, 0.73098904),\n",
              " (7586881, 0.7307158),\n",
              " (7136267, 0.73018914),\n",
              " (7890745, 0.7294779),\n",
              " (8019331, 0.72733015),\n",
              " (7088059, 0.72729605),\n",
              " (7823877, 0.72699696),\n",
              " (7909157, 0.7268107),\n",
              " (7929012, 0.72676927),\n",
              " (7756528, 0.7263794),\n",
              " (7719957, 0.72555614),\n",
              " (7881755, 0.724652),\n",
              " (6876135, 0.7241053),\n",
              " (7206806, 0.7233497),\n",
              " (7590027, 0.7225955),\n",
              " (7406328, 0.7224934),\n",
              " (7738221, 0.7216605),\n",
              " (7953538, 0.72131604),\n",
              " (7822621, 0.7210597),\n",
              " (7139818, 0.72037935),\n",
              " (6925627, 0.7200945),\n",
              " (7255457, 0.71890676),\n",
              " (7310335, 0.7188561),\n",
              " (7525397, 0.7187962),\n",
              " (7561519, 0.7187677),\n",
              " (7826990, 0.718356),\n",
              " (7385752, 0.718292),\n",
              " (6980185, 0.7180653),\n",
              " (7441558, 0.7176729),\n",
              " (7286507, 0.71751314),\n",
              " (7013254, 0.7175073),\n",
              " (7005772, 0.71733785),\n",
              " (7903574, 0.71720797),\n",
              " (7251732, 0.7171354),\n",
              " (7274975, 0.7159303),\n",
              " (7715448, 0.7150076),\n",
              " (7944149, 0.7147648),\n",
              " (7532311, 0.7135494),\n",
              " (7130672, 0.71306247),\n",
              " (7159765, 0.7129127),\n",
              " (7242354, 0.7121835),\n",
              " (7564412, 0.7117286),\n",
              " (7593784, 0.7112149),\n",
              " (7900011, 0.71117646),\n",
              " (7966588, 0.71081895),\n",
              " (7310678, 0.7107107),\n",
              " (7200229, 0.71066666),\n",
              " (7551574, 0.710244),\n",
              " (7633779, 0.70970666),\n",
              " (7814087, 0.7093378),\n",
              " (7716511, 0.70915204),\n",
              " (7196576, 0.7087789),\n",
              " (7443972, 0.70860535),\n",
              " (7668147, 0.7082502),\n",
              " (6862498, 0.7077282),\n",
              " (7629698, 0.70759696),\n",
              " (7213468, 0.7074537),\n",
              " (7197363, 0.70725447),\n",
              " (7196326, 0.7072374),\n",
              " (8038172, 0.70716935),\n",
              " (7865186, 0.7069239),\n",
              " (7070393, 0.70659775),\n",
              " (7166813, 0.7065461),\n",
              " (7529868, 0.7060048),\n",
              " (7090471, 0.7058224),\n",
              " (7164211, 0.7056785),\n",
              " (7079320, 0.70550096),\n",
              " (7148581, 0.70524186),\n",
              " (7528392, 0.70520157),\n",
              " (7046867, 0.7049518),\n",
              " (7831644, 0.70458627),\n",
              " (7443193, 0.70412457),\n",
              " (7533288, 0.70405185),\n",
              " (8281066, 0.7037495),\n",
              " (7876744, 0.7036041),\n",
              " (7561192, 0.7035263),\n",
              " (7109443, 0.70327103),\n",
              " (8090270, 0.70288277),\n",
              " (7674118, 0.702833),\n",
              " (8291750, 0.7027645),\n",
              " (7919988, 0.70261234),\n",
              " (6941131, 0.70243806),\n",
              " (7873471, 0.7011494),\n",
              " (7437313, 0.7008872),\n",
              " (7888881, 0.7007809),\n",
              " (7013205, 0.70058465),\n",
              " (7962696, 0.7003876),\n",
              " (7889233, 0.7003794),\n",
              " (7845877, 0.7002332),\n",
              " (7191013, 0.69987744),\n",
              " (7659934, 0.6995229),\n",
              " (8145726, 0.69918466),\n",
              " (8054780, 0.6987281),\n",
              " (7702451, 0.6987012),\n",
              " (7933273, 0.6980735),\n",
              " (8138731, 0.6977812),\n",
              " (7225409, 0.6975088),\n",
              " (7729924, 0.697316),\n",
              " (8107438, 0.6969645),\n",
              " (6965911, 0.69689685),\n",
              " (7426833, 0.696825),\n",
              " (8076825, 0.69671255),\n",
              " (7453440, 0.69615304),\n",
              " (7917396, 0.6956243),\n",
              " (7525283, 0.69539505),\n",
              " (7697967, 0.69516504),\n",
              " (7679329, 0.695033),\n",
              " (7218186, 0.69491273),\n",
              " (8312262, 0.69489837),\n",
              " (7620127, 0.694686),\n",
              " (7903338, 0.6946766),\n",
              " (7792829, 0.69425535),\n",
              " (7956651, 0.6940903),\n",
              " (8099605, 0.69377655),\n",
              " (7129854, 0.693567),\n",
              " (7007111, 0.69354045),\n",
              " (6993090, 0.69346625),\n",
              " (7242700, 0.6934654),\n",
              " (8190395, 0.6933291),\n",
              " (7286563, 0.6932238),\n",
              " (7609637, 0.69312805),\n",
              " (7461404, 0.692726),\n",
              " (7012451, 0.69257075),\n",
              " (7780814, 0.692521),\n",
              " (7664249, 0.69245225),\n",
              " (7143964, 0.6918801),\n",
              " (7348491, 0.6918277),\n",
              " (7695600, 0.6916918),\n",
              " (7221748, 0.6915037),\n",
              " (6850788, 0.69141585),\n",
              " (7805052, 0.69106203),\n",
              " (7426275, 0.69099706),\n",
              " (7215976, 0.69088596),\n",
              " (7965829, 0.6908705),\n",
              " (6946870, 0.6902834),\n",
              " (7483424, 0.6902283),\n",
              " (8249643, 0.6893034),\n",
              " (8282668, 0.68921983),\n",
              " (6847091, 0.6888808),\n",
              " (8130913, 0.68838006),\n",
              " (7945683, 0.6882704),\n",
              " (7343745, 0.6882419),\n",
              " (6873112, 0.6882181),\n",
              " (8116083, 0.68802834),\n",
              " (7511954, 0.6879845),\n",
              " (7289988, 0.6877546),\n",
              " (7528638, 0.6876217),\n",
              " (7429932, 0.6873782),\n",
              " (7918318, 0.68705606),\n",
              " (7750703, 0.68674237),\n",
              " (7801074, 0.6867422),\n",
              " (7329154, 0.6865747),\n",
              " (8288992, 0.6865453),\n",
              " (7468911, 0.6864245),\n",
              " (7487076, 0.68634987),\n",
              " (6966499, 0.6861247),\n",
              " (7088714, 0.6859822),\n",
              " (7006431, 0.68589824),\n",
              " (7177426, 0.6858796),\n",
              " (7028312, 0.6857186),\n",
              " (7702986, 0.6856244),\n",
              " (7555332, 0.6855604),\n",
              " (7769394, 0.68549913),\n",
              " (7323022, 0.68537337),\n",
              " (8184647, 0.6853506),\n",
              " (7977658, 0.6853041),\n",
              " (7496344, 0.6852981),\n",
              " (7023190, 0.68516487),\n",
              " (7653368, 0.6851533),\n",
              " (6915282, 0.6850561),\n",
              " (7096368, 0.6848594),\n",
              " (8171387, 0.6847628),\n",
              " (7451591, 0.68459225),\n",
              " (7539072, 0.6844176),\n",
              " (7004780, 0.68437153),\n",
              " (7430561, 0.68413067),\n",
              " (7120550, 0.6838522),\n",
              " (6959152, 0.68383956),\n",
              " (8225629, 0.68368757),\n",
              " (7511603, 0.6836665),\n",
              " (7408944, 0.6834979),\n",
              " (7839926, 0.6834305),\n",
              " (8301948, 0.6833082),\n",
              " (7660822, 0.6830308),\n",
              " (6987738, 0.6828595),\n",
              " (7651202, 0.6827751),\n",
              " (7259321, 0.6827443),\n",
              " (6996721, 0.682487),\n",
              " (8255607, 0.6822134),\n",
              " (7701740, 0.68188304),\n",
              " (7333443, 0.6817745),\n",
              " (8244159, 0.68167293),\n",
              " (7346274, 0.68145555),\n",
              " (7261455, 0.6813657),\n",
              " (7762705, 0.6813195),\n",
              " (7292151, 0.6812276),\n",
              " (7382340, 0.6809729),\n",
              " (8229025, 0.6803979),\n",
              " (7370277, 0.6801992),\n",
              " (8232112, 0.68008536),\n",
              " (7277304, 0.6795412),\n",
              " (7061464, 0.6793608),\n",
              " (6868519, 0.6793559),\n",
              " (7999981, 0.67926323),\n",
              " (8094108, 0.6787044),\n",
              " (7116419, 0.678482),\n",
              " (7190933, 0.6781243),\n",
              " (7043255, 0.6776972),\n",
              " (7924436, 0.677446),\n",
              " (7043231, 0.6774212),\n",
              " (7685643, 0.67714316),\n",
              " (8122113, 0.67695004),\n",
              " (6937507, 0.67693794),\n",
              " (7124356, 0.67692745),\n",
              " (8064382, 0.67651266),\n",
              " (7889761, 0.67645323),\n",
              " (7465878, 0.67632544),\n",
              " (7015910, 0.67624897),\n",
              " (7466395, 0.67595565),\n",
              " (6976210, 0.6756451),\n",
              " (7416125, 0.6754926),\n",
              " (8185688, 0.6752097),\n",
              " (7085564, 0.6751333),\n",
              " (8052215, 0.6746406),\n",
              " (8193097, 0.6744352),\n",
              " (7623387, 0.6743884),\n",
              " (6952744, 0.674329),\n",
              " (7724562, 0.6736172),\n",
              " (7283044, 0.6734028),\n",
              " (6870092, 0.6733697),\n",
              " (7992226, 0.6733682),\n",
              " (7376778, 0.67309463),\n",
              " (7051825, 0.6729285),\n",
              " (8015606, 0.6728261),\n",
              " (6838812, 0.6728195),\n",
              " (6897699, 0.672685),\n",
              " (7075037, 0.67239976),\n",
              " (7688466, 0.67220783),\n",
              " (7863992, 0.67219126),\n",
              " (7441800, 0.6721812),\n",
              " (7493728, 0.67191917),\n",
              " (7517252, 0.6716508),\n",
              " (7789625, 0.6713181),\n",
              " (8253403, 0.67130524),\n",
              " (7031329, 0.6712844),\n",
              " (7418940, 0.67112947),\n",
              " (7831925, 0.6708771),\n",
              " (7171185, 0.67071736),\n",
              " (8033841, 0.6706601),\n",
              " (7778186, 0.670376),\n",
              " (6925631, 0.6701577),\n",
              " (7755255, 0.66995126),\n",
              " (7024155, 0.6699269),\n",
              " (6886743, 0.66948414),\n",
              " (8065579, 0.6694825),\n",
              " (7167980, 0.6693241),\n",
              " (7117020, 0.66920453),\n",
              " (7388531, 0.66903377),\n",
              " (6910106, 0.6690221),\n",
              " (6981333, 0.6688645),\n",
              " (6996556, 0.6687731),\n",
              " (7051019, 0.66873777),\n",
              " (8103233, 0.6686571),\n",
              " (8282017, 0.6685813),\n",
              " (7082142, 0.66824156),\n",
              " (7689682, 0.66821086),\n",
              " (7798853, 0.66817784),\n",
              " (7965929, 0.6681729),\n",
              " (8026858, 0.66812146),\n",
              " (8177561, 0.66811305),\n",
              " (7313375, 0.6680308),\n",
              " (7958430, 0.668025),\n",
              " (8094455, 0.6680069),\n",
              " (7132931, 0.6679237),\n",
              " (7059726, 0.66783327),\n",
              " (7451114, 0.66774017),\n",
              " (6882569, 0.6677302),\n",
              " (7121366, 0.6671805),\n",
              " (7408596, 0.66707736),\n",
              " (8145957, 0.66687036),\n",
              " (6932039, 0.66682386),\n",
              " (7472971, 0.6666111),\n",
              " (7342831, 0.6665477),\n",
              " (7954581, 0.666496),\n",
              " (7716913, 0.66643226),\n",
              " (6895430, 0.66632867),\n",
              " (7552373, 0.6662429),\n",
              " (7826890, 0.66590786),\n",
              " (7943895, 0.6656588),\n",
              " (8018261, 0.6654049),\n",
              " (7205733, 0.6653527),\n",
              " (8314363, 0.6649995),\n",
              " (7176426, 0.66482234),\n",
              " (6978840, 0.6647195),\n",
              " (7978615, 0.66430724),\n",
              " (7730241, 0.66396654),\n",
              " (7023692, 0.66392577),\n",
              " (7457981, 0.6639009),\n",
              " (7057739, 0.6638801),\n",
              " (7657548, 0.6638311),\n",
              " (7434958, 0.6638299),\n",
              " (7062587, 0.6634552),\n",
              " (7236632, 0.66339296),\n",
              " (7095387, 0.663247),\n",
              " (6910812, 0.6631066),\n",
              " (6870252, 0.6629639),\n",
              " (8005817, 0.66292197),\n",
              " (7072327, 0.6628644),\n",
              " (7814128, 0.66281724),\n",
              " (7634983, 0.66269153),\n",
              " (7821714, 0.66259354),\n",
              " (7084342, 0.66253775),\n",
              " (7462570, 0.6625273),\n",
              " (7996225, 0.66240627),\n",
              " (7762159, 0.66230726),\n",
              " (7630125, 0.6622064),\n",
              " (6845583, 0.6620728),\n",
              " (7498706, 0.6619912),\n",
              " (7489110, 0.66186094),\n",
              " (7501056, 0.6615835),\n",
              " (7384021, 0.66154456),\n",
              " (7830190, 0.661495),\n",
              " (7014218, 0.66128534),\n",
              " (7057392, 0.6612724),\n",
              " (7941136, 0.6611833),\n",
              " (7043380, 0.66117877),\n",
              " (6895516, 0.6607037),\n",
              " (7898807, 0.6606878),\n",
              " (7622912, 0.66039884),\n",
              " (7395322, 0.66028774),\n",
              " (7036798, 0.6602391),\n",
              " (7880786, 0.6600105),\n",
              " (6895125, 0.6596411),\n",
              " (7438638, 0.6596089),\n",
              " (7837472, 0.6596006),\n",
              " (6989826, 0.6591683),\n",
              " (7050194, 0.65900975),\n",
              " (7784980, 0.65898466),\n",
              " (7800119, 0.6585759),\n",
              " (7249572, 0.6583674),\n",
              " (7924323, 0.65828574),\n",
              " (7611603, 0.65826786),\n",
              " (7431616, 0.65815604),\n",
              " (7271332, 0.658126),\n",
              " (7448584, 0.65802896),\n",
              " (7346136, 0.65789217),\n",
              " (7330069, 0.6576913),\n",
              " (7542720, 0.6576701),\n",
              " (7752024, 0.6572791),\n",
              " (7477871, 0.6572299),\n",
              " (6852924, 0.6572081),\n",
              " (6945981, 0.6571809),\n",
              " (7458999, 0.657127),\n",
              " (7468934, 0.6570766),\n",
              " (8004735, 0.6569156),\n",
              " (7065764, 0.65690744),\n",
              " (7013398, 0.6568877),\n",
              " (7266172, 0.65649635),\n",
              " (7995730, 0.65648246),\n",
              " (8185103, 0.65647006),\n",
              " (7007923, 0.65621984),\n",
              " (7743203, 0.656215),\n",
              " (7450280, 0.6561037),\n",
              " (7583152, 0.656058),\n",
              " (7377268, 0.65579706),\n",
              " (7480244, 0.6556142),\n",
              " (7489773, 0.6556063),\n",
              " (7248463, 0.65557545),\n",
              " (6988493, 0.65538263),\n",
              " (7399220, 0.65533364),\n",
              " (6899074, 0.65509325),\n",
              " (7884646, 0.6547999),\n",
              " (7797383, 0.6547654),\n",
              " (6862575, 0.6545435),\n",
              " (7503011, 0.65428525),\n",
              " (7025857, 0.65417314),\n",
              " (7363384, 0.65416545),\n",
              " (7034684, 0.6540751),\n",
              " (7288110, 0.65402704),\n",
              " (7031568, 0.65395707),\n",
              " (7865567, 0.65357316),\n",
              " (7757495, 0.65351725),\n",
              " (7953064, 0.6533758),\n",
              " (8149844, 0.6533641),\n",
              " (7622935, 0.653353),\n",
              " (7049952, 0.6528572),\n",
              " (7333496, 0.65272033),\n",
              " (6859219, 0.6526892),\n",
              " (7996071, 0.65265334),\n",
              " (6910004, 0.65260196),\n",
              " (7265360, 0.6525484),\n",
              " (8278784, 0.652529),\n",
              " (7082238, 0.65241796),\n",
              " (6942056, 0.65227854),\n",
              " (7306495, 0.65227497),\n",
              " (8203586, 0.6521164),\n",
              " (7774335, 0.6520631),\n",
              " (7003466, 0.65196943),\n",
              " (8079052, 0.65175205),\n",
              " (7206778, 0.6517424),\n",
              " (7882307, 0.65165657),\n",
              " (8049569, 0.65155625),\n",
              " (7038489, 0.6514128),\n",
              " (7580249, 0.65125656),\n",
              " (6915265, 0.6511409),\n",
              " (7097690, 0.6510907),\n",
              " (7603119, 0.650824),\n",
              " (7160717, 0.6508169),\n",
              " (7312790, 0.6507323),\n",
              " (7945688, 0.6506219),\n",
              " (7368961, 0.65060717),\n",
              " (7492082, 0.6505266),\n",
              " (7457145, 0.65048325),\n",
              " (7823833, 0.650422),\n",
              " (7185868, 0.6501292),\n",
              " (7257545, 0.6501053),\n",
              " (7176770, 0.65000653),\n",
              " (7926078, 0.6499121),\n",
              " (6956573, 0.6498199),\n",
              " (8144663, 0.6498033),\n",
              " (7131067, 0.649776),\n",
              " (7778885, 0.64976716),\n",
              " (8033108, 0.6496203),\n",
              " (6981436, 0.64952904),\n",
              " (7073629, 0.64941466),\n",
              " (7403980, 0.6494072),\n",
              " (7289817, 0.6490212),\n",
              " (7914162, 0.6487657),\n",
              " (7004164, 0.64851445),\n",
              " (7861445, 0.64818484),\n",
              " (8155368, 0.6481696),\n",
              " (7420458, 0.6480363),\n",
              " (7852137, 0.64789623),\n",
              " (6906926, 0.6477411),\n",
              " (7249978, 0.6474725),\n",
              " (7644449, 0.64744115),\n",
              " (8104072, 0.64734536),\n",
              " (7315100, 0.64727604),\n",
              " (7773398, 0.6472083),\n",
              " (8102167, 0.64695644),\n",
              " (6983216, 0.64689326),\n",
              " (7383748, 0.6468472),\n",
              " (7257374, 0.6466919),\n",
              " (7962545, 0.64658403),\n",
              " (7685126, 0.64641345),\n",
              " (6876248, 0.6461901),\n",
              " (7123215, 0.6460915),\n",
              " (7631605, 0.6458993),\n",
              " (6908331, 0.6458406),\n",
              " (8037425, 0.64552796),\n",
              " (6880555, 0.6455185),\n",
              " (7079413, 0.64533937),\n",
              " (7987499, 0.6452711),\n",
              " (7899829, 0.6451719),\n",
              " (7472718, 0.64510137),\n",
              " (7492262, 0.6450982),\n",
              " (7066136, 0.6450549),\n",
              " (7918263, 0.64489865),\n",
              " (7267081, 0.6448733),\n",
              " (7456874, 0.64483374),\n",
              " (7237391, 0.6447665),\n",
              " (7108781, 0.6446272),\n",
              " (7079424, 0.64458644),\n",
              " (7814791, 0.64449555),\n",
              " (7610192, 0.64439327),\n",
              " (6858872, 0.64424914),\n",
              " (8280672, 0.6441405),\n",
              " (7846524, 0.6438032),\n",
              " (7364309, 0.64380294),\n",
              " (7819228, 0.64375395),\n",
              " (8206420, 0.643694),\n",
              " (7673934, 0.64369184),\n",
              " (6930993, 0.64358914),\n",
              " (7061618, 0.6435691),\n",
              " (7593114, 0.6434062),\n",
              " (7580032, 0.6433906),\n",
              " (7264355, 0.6433553),\n",
              " (7371613, 0.6433531),\n",
              " (7849509, 0.6430909),\n",
              " (6922183, 0.6428042),\n",
              " (7117031, 0.64277273),\n",
              " (7913162, 0.6423974),\n",
              " (8215787, 0.64220935),\n",
              " (7600192, 0.64209974),\n",
              " (7797382, 0.64207524),\n",
              " (7002537, 0.64172584),\n",
              " (6915592, 0.641281),\n",
              " (7565227, 0.6411557),\n",
              " (6843422, 0.6411352),\n",
              " (6920291, 0.6411269),\n",
              " (7539867, 0.6407035),\n",
              " (6849176, 0.6404939),\n",
              " (8184832, 0.6404649),\n",
              " (7383954, 0.64035285),\n",
              " (8056969, 0.64031756),\n",
              " (7991854, 0.64023226),\n",
              " (7264166, 0.64014035),\n",
              " (7640404, 0.6400443),\n",
              " (7506657, 0.63999605),\n",
              " (7260301, 0.6397229),\n",
              " (7016908, 0.63956654),\n",
              " (7292389, 0.6393641),\n",
              " (8161168, 0.63927674),\n",
              " (7017985, 0.63922745),\n",
              " (7832160, 0.63917696),\n",
              " (7606938, 0.6391487),\n",
              " (8254896, 0.638918),\n",
              " (8055007, 0.6387828),\n",
              " (6927528, 0.63875467),\n",
              " (7082777, 0.6387143),\n",
              " (7411143, 0.6387037),\n",
              " (8024439, 0.6384803),\n",
              " (6930244, 0.63819873),\n",
              " (8027880, 0.6380971),\n",
              " (7849195, 0.63807285),\n",
              " (7966319, 0.6380434),\n",
              " (7783161, 0.6378199),\n",
              " (7309630, 0.63773036),\n",
              " (7730544, 0.637532),\n",
              " (7639571, 0.63728046),\n",
              " (7748353, 0.6372461),\n",
              " (8243764, 0.63721114),\n",
              " (8166450, 0.63704103),\n",
              " (7270010, 0.6370253),\n",
              " (7637641, 0.63695997),\n",
              " (7078736, 0.63681775),\n",
              " (6934964, 0.6367585),\n",
              " (6883600, 0.63665223),\n",
              " (8339697, 0.63663304),\n",
              " (7155689, 0.63616174),\n",
              " (8234494, 0.63604754),\n",
              " (7336114, 0.6359956),\n",
              " (7397896, 0.6358612),\n",
              " (7181214, 0.635726),\n",
              " (7680234, 0.635555),\n",
              " (7779036, 0.6355024),\n",
              " (7085052, 0.6352767),\n",
              " (7579705, 0.63523144),\n",
              " (6892861, 0.6349764),\n",
              " (7158689, 0.6349617),\n",
              " (6850712, 0.6347844),\n",
              " (7693104, 0.63473207),\n",
              " (7100369, 0.6346058),\n",
              " (7747480, 0.63457197),\n",
              " (7984304, 0.63453484),\n",
              " (7306034, 0.6342848),\n",
              " (7592877, 0.63419193),\n",
              " (8010524, 0.6341328),\n",
              " (7698723, 0.6341306),\n",
              " (7182621, 0.6340044),\n",
              " (6964489, 0.63400054),\n",
              " (7929140, 0.63383853),\n",
              " (8336128, 0.63379765),\n",
              " (7056142, 0.63369995),\n",
              " (7373031, 0.6332844),\n",
              " (8235857, 0.63327026),\n",
              " (7542083, 0.633215),\n",
              " (7116365, 0.633214),\n",
              " (7401848, 0.6331805),\n",
              " (7904300, 0.63317966),\n",
              " (7321206, 0.6330549),\n",
              " (7407365, 0.6330499),\n",
              " (7927994, 0.6329106),\n",
              " (7587887, 0.632577),\n",
              " (7871985, 0.6325609),\n",
              " (7845510, 0.6324469),\n",
              " (7239031, 0.63234675),\n",
              " (6976136, 0.6322705),\n",
              " (6964122, 0.6320958),\n",
              " (7532348, 0.63180476),\n",
              " (7451839, 0.6317794),\n",
              " (7039615, 0.63175756),\n",
              " (7424499, 0.6315232),\n",
              " (7257741, 0.63145936),\n",
              " (8162603, 0.63136315),\n",
              " (6914571, 0.63123614),\n",
              " (7663798, 0.63112146),\n",
              " (7193966, 0.6310939),\n",
              " (7540150, 0.6310928),\n",
              " (8078109, 0.63089913),\n",
              " (7406579, 0.6306856),\n",
              " (7373878, 0.63062036),\n",
              " (6959993, 0.63039994),\n",
              " (7657778, 0.6303119),\n",
              " (7924539, 0.6302309),\n",
              " (6945263, 0.6300997),\n",
              " (6851024, 0.6300335),\n",
              " (7254592, 0.6299989),\n",
              " (7624271, 0.6299924),\n",
              " (7140250, 0.6299393),\n",
              " (7188340, 0.62992936),\n",
              " (7394165, 0.6298029),\n",
              " (7447030, 0.6297127),\n",
              " (7040489, 0.62968916),\n",
              " (7497427, 0.6296072),\n",
              " (8035392, 0.6292281),\n",
              " (7375523, 0.6292192),\n",
              " (7227184, 0.6291673),\n",
              " (7843691, 0.62902325),\n",
              " (6978906, 0.62881327),\n",
              " (7612302, 0.6287184),\n",
              " (7561330, 0.6287142),\n",
              " (7620697, 0.62862784),\n",
              " (7058682, 0.62859726),\n",
              " (8122878, 0.6281995),\n",
              " (7847374, 0.62812454),\n",
              " (7228874, 0.627783),\n",
              " (7421865, 0.6276781),\n",
              " (7397761, 0.62754244),\n",
              " (7058252, 0.62734467),\n",
              " (8100623, 0.62734234),\n",
              " (7742203, 0.6273156),\n",
              " (7010415, 0.62727106),\n",
              " (7260726, 0.62722415),\n",
              " (8334887, 0.6271628),\n",
              " (7884844, 0.62707365),\n",
              " (7331684, 0.6269188),\n",
              " (7337285, 0.62687397),\n",
              " (7802779, 0.6268015),\n",
              " (7352610, 0.62675416),\n",
              " (7336494, 0.62669796),\n",
              " (7353034, 0.6266677),\n",
              " (7244399, 0.62665796),\n",
              " (6872524, 0.6262712),\n",
              " (7002205, 0.6262351),\n",
              " (7018515, 0.6261917),\n",
              " (7518782, 0.6261756),\n",
              " (7471543, 0.62601143),\n",
              " (7641414, 0.62599313),\n",
              " (7518248, 0.6259123),\n",
              " (7685807, 0.6258348),\n",
              " (7788274, 0.6255859),\n",
              " (7760258, 0.6255788),\n",
              " (7518278, 0.6254716),\n",
              " (8075171, 0.62544006),\n",
              " (7451578, 0.6252956),\n",
              " (8025428, 0.6252464),\n",
              " (7460248, 0.62524253),\n",
              " (7814492, 0.62519866),\n",
              " (8294062, 0.6250781),\n",
              " (7734632, 0.62489647),\n",
              " (7524191, 0.62485504),\n",
              " (7526562, 0.62448263),\n",
              " (7382341, 0.62448215),\n",
              " (7747926, 0.6243897),\n",
              " (7873200, 0.6243777),\n",
              " (8174694, 0.62429637),\n",
              " (7626109, 0.62423337),\n",
              " (7711462, 0.62422615),\n",
              " (7281662, 0.6240064),\n",
              " (7373521, 0.623754),\n",
              " (7115990, 0.6237253),\n",
              " (6844592, 0.6235268),\n",
              " (6877791, 0.6234469),\n",
              " (7230448, 0.6234363),\n",
              " (7081374, 0.62338847),\n",
              " (6938209, 0.62338495),\n",
              " (7535215, 0.62334716),\n",
              " (7059989, 0.6233258),\n",
              " (7362117, 0.6231621),\n",
              " (7534968, 0.62314254),\n",
              " (7383510, 0.6231009),\n",
              " (8154179, 0.62296784),\n",
              " (7440845, 0.62262994),\n",
              " (7716072, 0.6225355),\n",
              " (7406434, 0.6224629),\n",
              " (7132574, 0.6222572),\n",
              " (7724216, 0.622199),\n",
              " (7630155, 0.6221268),\n",
              " (7393100, 0.62205553),\n",
              " (7905323, 0.6219495),\n",
              " (7804530, 0.62188184),\n",
              " (7015549, 0.6218301),\n",
              " (6945368, 0.6217832),\n",
              " (7748511, 0.62177783),\n",
              " (6979916, 0.6217239),\n",
              " (7652386, 0.621646),\n",
              " (7263190, 0.6214423),\n",
              " (7073933, 0.6212684),\n",
              " (7898607, 0.6211187),\n",
              " (7433713, 0.6210128),\n",
              " (7207918, 0.6209153),\n",
              " (8316275, 0.6208778),\n",
              " (7357009, 0.6207767),\n",
              " (7149797, 0.6207617),\n",
              " (7261859, 0.62074554),\n",
              " (8326100, 0.6202676),\n",
              " (7052136, 0.61998624),\n",
              " (8277161, 0.6199685),\n",
              " (7084861, 0.61996514),\n",
              " (7236572, 0.61993057),\n",
              " (7104426, 0.6199299),\n",
              " (7340364, 0.61988103),\n",
              " (7960245, 0.6198738),\n",
              " (7216009, 0.61972064),\n",
              " (6978457, 0.6195893),\n",
              " (7227562, 0.619444),\n",
              " (7294208, 0.6194309),\n",
              " (8247233, 0.6193652),\n",
              " (7064272, 0.6193069),\n",
              " (7076126, 0.61920017),\n",
              " (7274174, 0.61917865),\n",
              " (6952253, 0.6189866),\n",
              " (7525150, 0.6189841),\n",
              " (7234144, 0.6188925),\n",
              " (7316534, 0.61880547),\n",
              " (6915254, 0.6186773),\n",
              " (7019650, 0.61837167),\n",
              " (7784687, 0.6183079),\n",
              " (7239198, 0.6181085),\n",
              " (7015894, 0.6180868),\n",
              " (7011664, 0.6178569),\n",
              " (7239481, 0.6177482),\n",
              " (7246395, 0.61772275),\n",
              " (7657907, 0.6177212),\n",
              " (8331128, 0.6175991),\n",
              " (7276858, 0.6174028),\n",
              " (7377100, 0.6171406),\n",
              " (6915112, 0.6170459),\n",
              " (7278966, 0.6168541),\n",
              " (8200649, 0.61679345),\n",
              " (7809625, 0.61667544),\n",
              " (7023569, 0.6166751),\n",
              " (7779399, 0.61656827),\n",
              " (7036498, 0.6162939),\n",
              " (7939350, 0.6162475),\n",
              " (6837910, 0.61623603),\n",
              " (7180862, 0.6162272),\n",
              " (7827125, 0.61594546),\n",
              " (7414010, 0.6159069),\n",
              " (8179692, 0.6157441),\n",
              " (7307989, 0.6156912),\n",
              " (7421178, 0.6156832),\n",
              " (7522155, 0.61567086),\n",
              " (7697077, 0.61552525),\n",
              " (7663427, 0.6154097),\n",
              " (7793071, 0.6153669),\n",
              " (7012362, 0.6153599),\n",
              " (7915838, 0.61490303),\n",
              " (7696722, 0.6148344),\n",
              " (7333287, 0.614834),\n",
              " (8104032, 0.6145338),\n",
              " (8302720, 0.6142445),\n",
              " (8126532, 0.6142019),\n",
              " (7792551, 0.6141763),\n",
              " (7510372, 0.61416864),\n",
              " (6899544, 0.61396515),\n",
              " (7367885, 0.6137667),\n",
              " (7491218, 0.61354613),\n",
              " (6900991, 0.61349756),\n",
              " (8267058, 0.613449),\n",
              " (7447873, 0.61327356),\n",
              " (7912269, 0.6132298),\n",
              " (7312530, 0.61309946),\n",
              " (7173863, 0.61280775),\n",
              " (7758120, 0.612679),\n",
              " (7202143, 0.61251634),\n",
              " (7602610, 0.6124716),\n",
              " (7545121, 0.6123088),\n",
              " (7184957, 0.6121824),\n",
              " (6843081, 0.61216795),\n",
              " (8057788, 0.61208886),\n",
              " (7461262, 0.6119978),\n",
              " (7413331, 0.61193496),\n",
              " (7126525, 0.61188984),\n",
              " (7725331, 0.61185426),\n",
              " (6972295, 0.6117422),\n",
              " (7359289, 0.61159873),\n",
              " (8134851, 0.61153215),\n",
              " (7043492, 0.61147237),\n",
              " (8139304, 0.6113912),\n",
              " (7484925, 0.61129725),\n",
              " (7996956, 0.6112119),\n",
              " (7523001, 0.61110055),\n",
              " (8235746, 0.6110873),\n",
              " (6954623, 0.61099726),\n",
              " (7602568, 0.6109325),\n",
              " (7772867, 0.6108453),\n",
              " (6973697, 0.61069715),\n",
              " (7960872, 0.6106612),\n",
              " (8286789, 0.61055756),\n",
              " (7709073, 0.6104287),\n",
              " (6894703, 0.6103046),\n",
              " (7973284, 0.61018896),\n",
              " (7611497, 0.61006695),\n",
              " (7952688, 0.6100148),\n",
              " (6945210, 0.6100023),\n",
              " (8186508, 0.60995203),\n",
              " (7738746, 0.60992795),\n",
              " (6991846, 0.60977924),\n",
              " (7286245, 0.6097137),\n",
              " (7011487, 0.6095591),\n",
              " (8073951, 0.6093968),\n",
              " (7117172, 0.60932916),\n",
              " (6985036, 0.6092802),\n",
              " (7097507, 0.6090859),\n",
              " (8008739, 0.60902184),\n",
              " (8118848, 0.6090174),\n",
              " (7810880, 0.6089786),\n",
              " (7499273, 0.60885143),\n",
              " (7721680, 0.6088001),\n",
              " (7182148, 0.6084661),\n",
              " (7957047, 0.60839957),\n",
              " (8208549, 0.60827816),\n",
              " (8143112, 0.6082608),\n",
              " (6885242, 0.60823244),\n",
              " (7279031, 0.608229),\n",
              " (8011474, 0.60821724),\n",
              " (7244937, 0.608184),\n",
              " (7325314, 0.60815257),\n",
              " (7685191, 0.6078417),\n",
              " (7343234, 0.6077047),\n",
              " (8047391, 0.60749537),\n",
              " (8138620, 0.60743356),\n",
              " (8023446, 0.6072846),\n",
              " (7126069, 0.60710055),\n",
              " (7843942, 0.60703135),\n",
              " (8151594, 0.60702497),\n",
              " (7198425, 0.60698617),\n",
              " (7861458, 0.6069669),\n",
              " (6951573, 0.6068754),\n",
              " (7740371, 0.6067284),\n",
              " (7697033, 0.60667354),\n",
              " (7956043, 0.60635567),\n",
              " (6841421, 0.60630983),\n",
              " (7956613, 0.60621524),\n",
              " (7519970, 0.6060942),\n",
              " (7392421, 0.60595536),\n",
              " (7430731, 0.60594743),\n",
              " (7431889, 0.60587037),\n",
              " (7736019, 0.6058434),\n",
              " (7839139, 0.60582703),\n",
              " (7585034, 0.6057914),\n",
              " (6914656, 0.6057052),\n",
              " (7293934, 0.60549116),\n",
              " (8006223, 0.6052391),\n",
              " (7242388, 0.60519946),\n",
              " (7196518, 0.6051383),\n",
              " (7681156, 0.60511714),\n",
              " (6856023, 0.6050904),\n",
              " (6923734, 0.6050579),\n",
              " (7222918, 0.6050519),\n",
              " (7985505, 0.60503054),\n",
              " (7560677, 0.6050253),\n",
              " (7291955, 0.60499233),\n",
              " (7222462, 0.60485226),\n",
              " (7383381, 0.604769),\n",
              " (7221044, 0.6046738),\n",
              " (6991262, 0.6046685),\n",
              " (7640556, 0.60461867),\n",
              " (7432055, 0.6045818),\n",
              " (7178202, 0.6045519),\n",
              " (7877940, 0.6044559),\n",
              " (8261950, 0.60435295),\n",
              " (7716249, 0.60433495),\n",
              " (6884398, 0.6042481),\n",
              " (7860680, 0.6040844),\n",
              " (7111234, 0.60395175),\n",
              " (7488249, 0.6038465),\n",
              " (7096481, 0.60384494),\n",
              " (6889116, 0.60379297),\n",
              " (7451877, 0.6036117),\n",
              " (8001404, 0.6035452),\n",
              " (7996255, 0.60352737),\n",
              " (8072220, 0.60350466),\n",
              " (7111136, 0.603392),\n",
              " (7829778, 0.6033575),\n",
              " (6847057, 0.60321045),\n",
              " (7463816, 0.603165),\n",
              " (7564971, 0.6031542),\n",
              " (7885863, 0.6031208),\n",
              " (8199244, 0.6030822),\n",
              " (8055606, 0.6029261),\n",
              " (6928436, 0.60272837),\n",
              " (6868681, 0.6026984),\n",
              " (7769232, 0.6026023),\n",
              " (7343341, 0.60255456),\n",
              " (7093502, 0.60253185),\n",
              " (7435059, 0.6025239),\n",
              " (7437765, 0.6024904),\n",
              " (8104137, 0.60243016),\n",
              " (7724051, 0.60242033),\n",
              " (7438346, 0.60229224),\n",
              " (7418729, 0.60214424),\n",
              " (7830408, 0.6021168),\n",
              " (7083610, 0.602015),\n",
              " (7122517, 0.60186803),\n",
              " (7272575, 0.60183877),\n",
              " (7707714, 0.6018235),\n",
              " (6975609, 0.6018109),\n",
              " (7513740, 0.6017352),\n",
              " (7454976, 0.6017021),\n",
              " (6986103, 0.6016231),\n",
              " (7261491, 0.6015511),\n",
              " (7329164, 0.60151803),\n",
              " (7219260, 0.6014141),\n",
              " (8047234, 0.6013113),\n",
              " (7220569, 0.6012091),\n",
              " (7143114, 0.6011536),\n",
              " (6870916, 0.6011446),\n",
              " (7387413, 0.6010961),\n",
              " (7668832, 0.60103434),\n",
              " (7143589, 0.6009555),\n",
              " (7027732, 0.6009077),\n",
              " (7831983, 0.6008713),\n",
              " (7684422, 0.6005943),\n",
              " (7687700, 0.6005477),\n",
              " (7115390, 0.6003738),\n",
              " (7891549, 0.6002914),\n",
              " (7311630, 0.6002586),\n",
              " (7453937, 0.60021824),\n",
              " (8214829, 0.60018593),\n",
              " (7853333, 0.5999517),\n",
              " (7419659, 0.5999018),\n",
              " (8192272, 0.5998191),\n",
              " (7022662, 0.5997625),\n",
              " (6944880, 0.5997135),\n",
              " (8035787, 0.599618),\n",
              " (8064198, 0.5994675),\n",
              " (7505290, 0.5994667),\n",
              " ...]"
            ]
          },
          "metadata": {
            "tags": []
          },
          "execution_count": 192
        }
      ]
    },
    {
      "metadata": {
        "id": "ysP6K6KTZfAZ",
        "colab_type": "code",
        "outputId": "6aaafe50-52a8-4aba-c210-716d91a537e6",
        "colab": {
          "base_uri": "https://localhost:8080/",
          "height": 35
        }
      },
      "cell_type": "code",
      "source": [
        "get_cited_grants(citations_info_target, 14307191)"
      ],
      "execution_count": 0,
      "outputs": [
        {
          "output_type": "execute_result",
          "data": {
            "text/plain": [
              "{7576688}"
            ]
          },
          "metadata": {
            "tags": []
          },
          "execution_count": 177
        }
      ]
    },
    {
      "metadata": {
        "id": "t1okQmSKaaQg",
        "colab_type": "code",
        "outputId": "ff05dc00-26c4-477a-a07e-4960d0dc09d7",
        "colab": {
          "base_uri": "https://localhost:8080/",
          "height": 35
        }
      },
      "cell_type": "code",
      "source": [
        "sim_dict_by_extracted[14307191][7576688]"
      ],
      "execution_count": 0,
      "outputs": [
        {
          "output_type": "execute_result",
          "data": {
            "text/plain": [
              "0.5689387"
            ]
          },
          "metadata": {
            "tags": []
          },
          "execution_count": 193
        }
      ]
    },
    {
      "metadata": {
        "id": "8ukXn2JJbVKM",
        "colab_type": "code",
        "outputId": "667fef13-b114-412e-d1d2-30af5a8ec0cc",
        "colab": {
          "base_uri": "https://localhost:8080/",
          "height": 124
        }
      },
      "cell_type": "code",
      "source": [
        "grants_extracted_features_df['parsed'].head()"
      ],
      "execution_count": 0,
      "outputs": [
        {
          "output_type": "execute_result",
          "data": {
            "text/plain": [
              "0    6837383\n",
              "1    6837647\n",
              "2    6837799\n",
              "3    6837893\n",
              "4    6837910\n",
              "Name: parsed, dtype: int64"
            ]
          },
          "metadata": {
            "tags": []
          },
          "execution_count": 199
        }
      ]
    },
    {
      "metadata": {
        "id": "Re8eghH1bU6T",
        "colab_type": "code",
        "outputId": "636b1138-dfa6-47df-fc47-cceede1c9ac8",
        "colab": {
          "base_uri": "https://localhost:8080/",
          "height": 35
        }
      },
      "cell_type": "code",
      "source": [
        "grants_extracted_features_df[grants_extracted_features_df['parsed']==7576688].index[0]"
      ],
      "execution_count": 0,
      "outputs": [
        {
          "output_type": "execute_result",
          "data": {
            "text/plain": [
              "1533"
            ]
          },
          "metadata": {
            "tags": []
          },
          "execution_count": 203
        }
      ]
    },
    {
      "metadata": {
        "id": "eZWWKEqpenNG",
        "colab_type": "code",
        "colab": {}
      },
      "cell_type": "code",
      "source": [
        "norm_p_out3 = grants_extracted_features_df['extracted_feature'][1533]"
      ],
      "execution_count": 0,
      "outputs": []
    },
    {
      "metadata": {
        "id": "86WhXSq2exXp",
        "colab_type": "code",
        "outputId": "d0186e75-5030-48e3-d6a8-60aff0e9d4ac",
        "colab": {
          "base_uri": "https://localhost:8080/",
          "height": 35
        }
      },
      "cell_type": "code",
      "source": [
        "sum(norm_p_out3.shape)"
      ],
      "execution_count": 0,
      "outputs": [
        {
          "output_type": "execute_result",
          "data": {
            "text/plain": [
              "100"
            ]
          },
          "metadata": {
            "tags": []
          },
          "execution_count": 206
        }
      ]
    },
    {
      "metadata": {
        "id": "vFESr6_re6Py",
        "colab_type": "code",
        "outputId": "2b0f6010-60e8-460e-c09d-1fc100d3a458",
        "colab": {
          "base_uri": "https://localhost:8080/",
          "height": 35
        }
      },
      "cell_type": "code",
      "source": [
        "test_extracted_features_df[test_extracted_features_df['app_id'] == 14307191].index[0]"
      ],
      "execution_count": 0,
      "outputs": [
        {
          "output_type": "execute_result",
          "data": {
            "text/plain": [
              "890"
            ]
          },
          "metadata": {
            "tags": []
          },
          "execution_count": 207
        }
      ]
    },
    {
      "metadata": {
        "id": "_rbbYkBoe6AB",
        "colab_type": "code",
        "outputId": "45ac5634-f564-4bf5-96d5-9fb37a1dc2bc",
        "colab": {
          "base_uri": "https://localhost:8080/",
          "height": 35
        }
      },
      "cell_type": "code",
      "source": [
        "norm_a_out3 = test_extracted_features_df['extracted_feature'][890]\n",
        "norm_a_out3.shape"
      ],
      "execution_count": 0,
      "outputs": [
        {
          "output_type": "execute_result",
          "data": {
            "text/plain": [
              "(100,)"
            ]
          },
          "metadata": {
            "tags": []
          },
          "execution_count": 208
        }
      ]
    },
    {
      "metadata": {
        "id": "WnsrLeoVa_PS",
        "colab_type": "code",
        "outputId": "c0eeb266-6bd3-4f21-efa8-1fe202dbe7d2",
        "colab": {
          "base_uri": "https://localhost:8080/",
          "height": 35
        }
      },
      "cell_type": "code",
      "source": [
        "tf.losses.cosine_distance(norm_a_out3, norm_p_out3, axis=0) "
      ],
      "execution_count": 0,
      "outputs": [
        {
          "output_type": "execute_result",
          "data": {
            "text/plain": [
              "<tf.Tensor: id=9827739, shape=(), dtype=float32, numpy=0.4310614>"
            ]
          },
          "metadata": {
            "tags": []
          },
          "execution_count": 210
        }
      ]
    },
    {
      "metadata": {
        "id": "HaUB02IofZUj",
        "colab_type": "code",
        "outputId": "eb4d09b7-c934-422c-a3de-dd943cfbf248",
        "colab": {
          "base_uri": "https://localhost:8080/",
          "height": 35
        }
      },
      "cell_type": "code",
      "source": [
        "0.5689387+tf.losses.cosine_distance(norm_a_out3, norm_p_out3, axis=0)"
      ],
      "execution_count": 0,
      "outputs": [
        {
          "output_type": "execute_result",
          "data": {
            "text/plain": [
              "<tf.Tensor: id=9827768, shape=(), dtype=float32, numpy=1.0>"
            ]
          },
          "metadata": {
            "tags": []
          },
          "execution_count": 211
        }
      ]
    },
    {
      "metadata": {
        "id": "QRtr9hLQa_An",
        "colab_type": "code",
        "colab": {}
      },
      "cell_type": "code",
      "source": [
        ""
      ],
      "execution_count": 0,
      "outputs": []
    },
    {
      "metadata": {
        "id": "WEBXzoFwaaCz",
        "colab_type": "code",
        "outputId": "f1d4ba71-aa58-484f-a984-02c04faccf55",
        "colab": {
          "base_uri": "https://localhost:8080/",
          "height": 35
        }
      },
      "cell_type": "code",
      "source": [
        "grants_extracted_features[0].sum()"
      ],
      "execution_count": 0,
      "outputs": [
        {
          "output_type": "execute_result",
          "data": {
            "text/plain": [
              "7.989149"
            ]
          },
          "metadata": {
            "tags": []
          },
          "execution_count": 180
        }
      ]
    }
  ]
}